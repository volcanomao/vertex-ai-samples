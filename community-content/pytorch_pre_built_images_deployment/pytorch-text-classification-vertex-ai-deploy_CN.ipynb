{
 "cells": [
  {
   "cell_type": "code",
   "execution_count": null,
   "metadata": {
    "id": "46d6c164544f"
   },
   "outputs": [],
   "source": [
    "# Copyright 2022 Google LLC\n",
    "#\n",
    "# Licensed under the Apache License, Version 2.0 (the \"License\");\n",
    "# you may not use this file except in compliance with the License.\n",
    "# You may obtain a copy of the License at\n",
    "#\n",
    "#     https://www.apache.org/licenses/LICENSE-2.0\n",
    "#\n",
    "# Unless required by applicable law or agreed to in writing, software\n",
    "# distributed under the License is distributed on an \"AS IS\" BASIS,\n",
    "# WITHOUT WARRANTIES OR CONDITIONS OF ANY KIND, either express or implied.\n",
    "# See the License for the specific language governing permissions and\n",
    "# limitations under the License."
   ]
  },
  {
   "cell_type": "markdown",
   "metadata": {
    "id": "rEJBSTyZIrIb"
   },
   "source": [
    "在[Vertex AI](https://cloud.google.com/vertex-ai)上部署PyTorch文本分类模型\n",
    "\n",
    "**在运行任何规模测试或有任何问题之前，请务必与Vertex AI联系。**"
   ]
  },
  {
   "cell_type": "markdown",
   "metadata": {
    "id": "X4cRE8IbIrIV"
   },
   "source": [
    "# 概述\n",
    "\n",
    "本示例重点介绍如何使用Vertex AI Prediction预构建的PyTorch图像，在Vertex AI上部署PyTorch文本分类模型。本示例假设您已经在GCS uri上拥有一个训练过的模型。如果您还没有训练过PyTorch文本分类模型，可以按照[此笔记本](https://github.com/GoogleCloudPlatform/vertex-ai-samples/blob/main/community-content/pytorch_text_classification_using_vertex_sdk_and_gcloud/pytorch-text-classification-vertex-ai-train-tune-deploy.ipynb) 进行训练。\n",
    "\n",
    "### 目标\n",
    "\n",
    "如何在[Vertex AI](https://cloud.google.com/vertex-ai)上部署PyTorch模型，并突出PyTorch模型在Vertex AI上部署的支持。在本笔记本中，您不会关注在Vertex AI上训练PyTorch模型的支持。查看 [此笔记本](https://github.com/GoogleCloudPlatform/vertex-ai-samples/blob/main/community-content/pytorch_text_classification_using_vertex_sdk_and_gcloud/pytorch-text-classification-vertex-ai-train-tune-deploy.ipynb) 了解更多有关在Vertex AI上训练支持的信息。\n",
    "\n",
    "### 内容目录\n",
    "\n",
    "本笔记本包括以下部分:\n",
    "\n",
    "- [Creating Notebooks instance](#Creating-Notebooks-instance-on-Google-Cloud)\n",
    "- [Deploying](#Deploying)\n",
    "    - [Deploying model on Vertex AI Predictions with custom container](#Deploying-the-pre-built-PyTorch-container-to-Vertex-AI-Predictions)\n",
    "\n",
    "### 成本\n",
    "\n",
    "本教程使用Google Cloud Platform（GCP）的计费组件：\n",
    "\n",
    "* [Vertex AI Workbench](https://cloud.google.com/vertex-ai-workbench)\n",
    "* [Vertex AI Predictions](https://cloud.google.com/vertex-ai/docs/predictions/getting-predictions)\n",
    "* [Cloud Storage](https://cloud.google.com/storage)\n",
    "\n",
    "了解[Vertex AI定价](https://cloud.google.com/vertex-ai/pricing)和[Cloud Storage定价](https://cloud.google.com/storage/pricing)，并使用[定价计算器](https://cloud.google.com/products/calculator/)根据您的预期使用情况生成成本估算。"
   ]
  },
  {
   "cell_type": "markdown",
   "metadata": {
    "id": "5178273783dd"
   },
   "source": [
    "### 设置您的本地开发环境\n",
    "\n",
    "**如果您在使用Colab或Google Cloud笔记本电脑**，您的环境已经满足\n",
    "运行此笔记本的所有要求。您可以跳过此步骤。"
   ]
  },
  {
   "cell_type": "markdown",
   "metadata": {
    "id": "1a1ead2cb5e3"
   },
   "source": [
    "否则，请确保您的环境符合本笔记本的要求。\n",
    "您需要以下内容：\n",
    "\n",
    "• Google Cloud SDK\n",
    "• Git\n",
    "• Python 3\n",
    "• virtualenv\n",
    "• 在使用Python 3的虚拟环境中运行Jupyter笔记本\n",
    "\n",
    "Google Cloud的[设置Python开发环境指南](https://cloud.google.com/python/setup)和[Jupyter安装指南](https://jupyter.org/install)提供了详细的说明来满足这些要求。以下步骤提供了一个简化的指南：\n",
    "\n",
    "1. [安装并初始化Cloud SDK。](https://cloud.google.com/sdk/docs/)\n",
    "2. [安装Python 3。](https://cloud.google.com/python/setup#installing_python)\n",
    "3. 安装virtualenv并创建一个使用Python 3的虚拟环境。激活虚拟环境。\n",
    "4. 要安装Jupyter，请在终端shell中的命令行中运行`pip3 install jupyter`。\n",
    "5. 要启动Jupyter，请在终端shell中的命令行中运行`jupyter notebook`。\n",
    "6. 在Jupyter Notebook仪表板中打开这个笔记本。"
   ]
  },
  {
   "cell_type": "markdown",
   "metadata": {
    "id": "9a864c22307c"
   },
   "source": [
    "### 安装额外的包\n",
    "\n",
    "此笔记本需要的Python依赖包包括[Torch](https://pypi.org/project/torch/)和[Torch Model Archiver](https://pypi.org/project/torch-model-archiver/)，它们将在笔记本实例中安装。"
   ]
  },
  {
   "cell_type": "code",
   "execution_count": null,
   "metadata": {
    "id": "1fd00fa70a2a"
   },
   "outputs": [],
   "source": [
    "import os\n",
    "\n",
    "# The Google Cloud Notebook product has specific requirements\n",
    "IS_GOOGLE_CLOUD_NOTEBOOK = os.path.exists(\"/opt/deeplearning/metadata/env_version\")\n",
    "\n",
    "# Google Cloud Notebook requires dependencies to be installed with '--user'\n",
    "USER_FLAG = \"\"\n",
    "if IS_GOOGLE_CLOUD_NOTEBOOK:\n",
    "    USER_FLAG = \"--user\""
   ]
  },
  {
   "cell_type": "code",
   "execution_count": null,
   "metadata": {
    "id": "2974254ea6be"
   },
   "outputs": [],
   "source": [
    "!pip install {USER_FLAG} --upgrade torch==1.11"
   ]
  },
  {
   "cell_type": "markdown",
   "metadata": {
    "id": "e0c1dcadc2c8"
   },
   "source": [
    "你将使用[Python的Vertex AI SDK](https://cloud.google.com/vertex-ai/docs/start/client-libraries#python)与Vertex AI服务进行交互。高级别的`aiplatform`库旨在通过使用包装类和偏见的默认值来简化常见的数据科学工作流程。\n",
    "\n",
    "#### 安装Python的Vertex AI SDK"
   ]
  },
  {
   "cell_type": "code",
   "execution_count": null,
   "metadata": {
    "id": "ab3fb1551abe"
   },
   "outputs": [],
   "source": [
    "!pip install {USER_FLAG} --upgrade google-cloud-aiplatform[prediction]"
   ]
  },
  {
   "cell_type": "markdown",
   "metadata": {
    "id": "670e3ada279c"
   },
   "source": [
    "#### 安装 Torch Model Archiver\n",
    "如果您想要使用 Vertex AI 预构建的 PyTorch 图像在 Vertex AI 上部署训练好的模型，这将是必需的。"
   ]
  },
  {
   "cell_type": "code",
   "execution_count": null,
   "metadata": {
    "id": "3eb0c1813278"
   },
   "outputs": [],
   "source": [
    "!pip install {USER_FLAG} --upgrade torch-model-archiver"
   ]
  },
  {
   "cell_type": "markdown",
   "metadata": {
    "id": "f361541eff05"
   },
   "source": [
    "### 重新启动内核\n",
    "\n",
    "在安装了额外的包之后，您需要重新启动笔记本内核，以便它可以找到这些包。"
   ]
  },
  {
   "cell_type": "code",
   "execution_count": null,
   "metadata": {
    "id": "2d77a223d63d"
   },
   "outputs": [],
   "source": [
    "# Automatically restart kernel after installs\n",
    "import os\n",
    "\n",
    "if not os.getenv(\"IS_TESTING\"):\n",
    "    # Automatically restart kernel after installs\n",
    "    import IPython\n",
    "\n",
    "    app = IPython.Application.instance()\n",
    "    app.kernel.do_shutdown(True)"
   ]
  },
  {
   "cell_type": "markdown",
   "metadata": {
    "id": "9bebb3b46278"
   },
   "source": [
    "在你开始之前"
   ]
  },
  {
   "cell_type": "markdown",
   "metadata": {
    "id": "e1e4d8f0c294"
   },
   "source": [
    "### 设置您的Google Cloud项目\n",
    "\n",
    "**无论您使用的是哪种笔记本环境，以下步骤都是必需的。**\n",
    "\n",
    "1. [选择或创建一个Google Cloud项目](https://console.cloud.google.com/cloud-resource-manager)。当您首次创建账户时，您将获得300美元的免费信用额度用于计算/存储成本。\n",
    "1. [确保为您的项目启用了计费](https://cloud.google.com/billing/docs/how-to/modify-project)。\n",
    "1. 在您的项目中启用以下API，这些API对于运行教程是必需的\n",
    "    - [Vertex AI API](https://console.cloud.google.com/flows/enableapi?apiid=aiplatform.googleapis.com)\n",
    "    - [Cloud Storage API](https://console.cloud.google.com/flows/enableapi?apiid=storage.googleapis.com)\n",
    "1. 如果您正在本地运行此笔记本，您需要安装[Cloud SDK](https://cloud.google.com/sdk)。\n",
    "1. 在下面的单元格中输入您的项目ID。然后运行该单元格，以确保Cloud SDK在本笔记本中的所有命令中使用正确的项目。\n",
    "\n",
    "**注意**：Jupyter会将以`!`为前缀的行视为shell命令，并将以`$`为前缀的Python变量插入到这些命令中。"
   ]
  },
  {
   "cell_type": "markdown",
   "metadata": {
    "id": "36a4450b7c2e"
   },
   "source": [
    "设置您的项目ID\n",
    "\n",
    "**如果您不知道您的项目ID**，您可以使用`gcloud`或`google.auth`来获取您的项目ID。"
   ]
  },
  {
   "cell_type": "code",
   "execution_count": null,
   "metadata": {
    "id": "019e546007a3"
   },
   "outputs": [],
   "source": [
    "PROJECT_ID = \"[your-project-id]\"  # <---CHANGE THIS TO YOUR PROJECT\n",
    "\n",
    "import os\n",
    "\n",
    "# Get your Google Cloud project ID using google.auth\n",
    "if not os.getenv(\"IS_TESTING\"):\n",
    "    import google.auth\n",
    "\n",
    "    _, PROJECT_ID = google.auth.default()\n",
    "    print(\"Project ID: \", PROJECT_ID)\n",
    "\n",
    "# validate PROJECT_ID\n",
    "if PROJECT_ID == \"\" or not PROJECT_ID or PROJECT_ID == \"[your-project-id]\":\n",
    "    print(\n",
    "        f\"Please set your project id before proceeding to next step. Currently it's set as {PROJECT_ID}\"\n",
    "    )"
   ]
  },
  {
   "cell_type": "markdown",
   "metadata": {
    "id": "0c9906f72b18"
   },
   "source": [
    "时间戳\n",
    "\n",
    "如果您在一个现场教程会话中，您可能在使用一个共享的测试帐户或项目。为了避免用户在创建的资源之间发生名称冲突，您为每个实例会话创建一个时间戳，并将其附加到您在这个教程中创建的资源的名称上。"
   ]
  },
  {
   "cell_type": "code",
   "execution_count": null,
   "metadata": {
    "id": "e90182316f63"
   },
   "outputs": [],
   "source": [
    "from datetime import datetime\n",
    "\n",
    "\n",
    "def get_timestamp():\n",
    "    return datetime.now().strftime(\"%Y%m%d%H%M%S\")\n",
    "\n",
    "\n",
    "TIMESTAMP = get_timestamp()\n",
    "print(f\"TIMESTAMP = {TIMESTAMP}\")"
   ]
  },
  {
   "cell_type": "markdown",
   "metadata": {
    "id": "4d96aec55eba"
   },
   "source": [
    "### 认证您的Google Cloud账户\n",
    "\n",
    "---\n",
    "\n",
    "**如果您正在使用Google Cloud笔记本**，您的环境已经通过认证。请跳过此步骤。"
   ]
  },
  {
   "cell_type": "markdown",
   "metadata": {
    "id": "82f63fb3401f"
   },
   "source": [
    "**如果你正在使用Colab**，运行下面的单元格，并按提示进行操作，通过oAuth验证你的帐号。\n",
    "\n",
    "**否则**，请按照以下步骤操作：\n",
    "\n",
    "1. 在 Cloud 控制台中，转到[**创建服务帐号密钥**页面](https://console.cloud.google.com/apis/credentials/serviceaccountkey)。\n",
    "2. 点击**创建服务帐号**。\n",
    "3. 在**服务帐号名称**字段中输入名称，然后点击**创建**。\n",
    "4. 在**授予此服务帐号对项目的访问权限**部分，点击**角色**下拉列表。在过滤框中键入“Vertex AI”，选择 **Vertex AI管理员**。在过滤框中键入“存储对象管理员”，选择**存储对象管理员**。\n",
    "5. 点击*创建*。一个包含你的密钥的JSON文件将下载到你的本地环境。\n",
    "6. 在下面的单元格中输入你的服务帐号密钥的路径作为`GOOGLE_APPLICATION_CREDENTIALS`变量，然后运行该单元格。"
   ]
  },
  {
   "cell_type": "code",
   "execution_count": null,
   "metadata": {
    "id": "535223fa4b84"
   },
   "outputs": [],
   "source": [
    "import os\n",
    "import sys\n",
    "\n",
    "# If you are running this notebook in Colab, run this cell and follow the\n",
    "# instructions to authenticate your GCP account. This provides access to your\n",
    "# Cloud Storage bucket and lets you submit training jobs and prediction\n",
    "# requests.\n",
    "\n",
    "# The Google Cloud Notebook product has specific requirements\n",
    "IS_GOOGLE_CLOUD_NOTEBOOK = os.path.exists(\"/opt/deeplearning/metadata/env_version\")\n",
    "\n",
    "# If on Google Cloud Notebooks, then don't execute this code\n",
    "if not IS_GOOGLE_CLOUD_NOTEBOOK:\n",
    "    if \"google.colab\" in sys.modules:\n",
    "        from google.colab import auth as google_auth\n",
    "\n",
    "        google_auth.authenticate_user()\n",
    "\n",
    "    # If you are running this notebook locally, replace the string below with the\n",
    "    # path to your service account key and run this cell to authenticate your GCP\n",
    "    # account.\n",
    "    elif not os.getenv(\"IS_TESTING\"):\n",
    "        %env GOOGLE_APPLICATION_CREDENTIALS ''"
   ]
  },
  {
   "cell_type": "markdown",
   "metadata": {
    "id": "35094e21d888"
   },
   "source": [
    "创建一个云存储桶\n",
    "\n",
    "**无论您使用什么笔记本环境，以下步骤都是必需的。**\n",
    "\n",
    "在下面设置您的云存储桶的名称。它必须在所有云存储桶中是唯一的。\n",
    "\n",
    "您还可以更改`REGION`变量，该变量用于本笔记本其余部分的操作。请确保[选择一个 Vertex AI 服务可用的区域](https://cloud.google.com/vertex-ai/docs/general/locations#available_regions)。您不能使用多区域存储桶来进行 Vertex AI 的预测。"
   ]
  },
  {
   "cell_type": "code",
   "execution_count": null,
   "metadata": {
    "id": "e07102312039"
   },
   "outputs": [],
   "source": [
    "BUCKET_NAME = \"gs://[your-bucket-name]\"  # <---CHANGE THIS TO YOUR BUCKET\n",
    "REGION = \"us-central1\"  # @param {type:\"string\"}"
   ]
  },
  {
   "cell_type": "code",
   "execution_count": null,
   "metadata": {
    "id": "13b11a8299d6"
   },
   "outputs": [],
   "source": [
    "if BUCKET_NAME == \"\" or not BUCKET_NAME or BUCKET_NAME == \"gs://[your-bucket-name]\":\n",
    "    BUCKET_NAME = f\"gs://{PROJECT_ID}aip-{get_timestamp()}\""
   ]
  },
  {
   "cell_type": "code",
   "execution_count": null,
   "metadata": {
    "id": "4908f26b84be"
   },
   "outputs": [],
   "source": [
    "print(f\"PROJECT_ID = {PROJECT_ID}\")\n",
    "print(f\"BUCKET_NAME = {BUCKET_NAME}\")\n",
    "print(f\"REGION = {REGION}\")"
   ]
  },
  {
   "cell_type": "markdown",
   "metadata": {
    "id": "6a3aae29644f"
   },
   "source": [
    "只有在您的存储桶尚不存在时：运行以下单元格以创建您的云存储桶。"
   ]
  },
  {
   "cell_type": "code",
   "execution_count": null,
   "metadata": {
    "id": "25f9882bab87"
   },
   "outputs": [],
   "source": [
    "! gsutil mb -l $REGION $BUCKET_NAME"
   ]
  },
  {
   "cell_type": "markdown",
   "metadata": {
    "id": "2586e4ed72ad"
   },
   "source": [
    "最后，通过检查Cloud Storage存储桶的内容验证访问权限。"
   ]
  },
  {
   "cell_type": "code",
   "execution_count": null,
   "metadata": {
    "id": "315724257beb"
   },
   "outputs": [],
   "source": [
    "! gsutil ls -al $BUCKET_NAME"
   ]
  },
  {
   "cell_type": "markdown",
   "metadata": {
    "id": "a4685723ceaf"
   },
   "source": [
    "部署\n",
    "\n",
    "在[Vertex AI](https://cloud.google.com/vertex-ai/docs/predictions/getting-predictions)上部署PyTorch模型以提供在线预测时，无需创建自定义容器。您可以部署Vertex AI Prediction预构建的PyTorch容器，以便从Hugging Face Transformers fine-tuned transformer模型中提供情感分析任务的预测。然后，您可以使用Vertex AI对输入文本进行情感分类。\n",
    "\n",
    "基本上，要使用Vertex AI Prediction预构建的PyTorch图像在Vertex AI上部署PyTorch模型，需按以下步骤操作：\n",
    "\n",
    "1. 打包训练的模型文件，包括[默认](https://pytorch.org/serve/#default-handlers)或[自定义](https://pytorch.org/serve/custom_service.html)处理程序，通过使用[Torch模型归档器](https://github.com/pytorch/serve/tree/master/model-archiver)创建一个归档文件。\n",
    "2. 在本地运行带有模型文件的预构建PyTorch图像（可选）。\n",
    "3. 上传带有预构建PyTorch图像的模型，以作为Vertex AI模型资源提供预测服务。\n",
    "4. 创建一个Vertex AI端点，并[部署模型](https://cloud.google.com/vertex-ai/docs/predictions/deploy-model-api)资源。"
   ]
  },
  {
   "cell_type": "markdown",
   "metadata": {
    "id": "a36e65dd4489"
   },
   "source": [
    "下载模型工件\n",
    "\n",
    "从云存储下载作为训练（或超参数调整）作业的一部分保存的模型工件到本地目录。如果您尚未拥有经过训练的PyTorch文本分类模型，请参考[此笔记本](https://github.com/GoogleCloudPlatform/vertex-ai-samples/blob/main/community-content/pytorch_text_classification_using_vertex_sdk_and_gcloud/pytorch-text-classification-vertex-ai-train-tune-deploy.ipynb)。"
   ]
  },
  {
   "cell_type": "code",
   "execution_count": null,
   "metadata": {
    "id": "255298dbbf51"
   },
   "outputs": [],
   "source": [
    "GCS_TRAINED_MODEL_URI = \"gs://[your-gcs-path]\"  # <---CHANGE THIS TO YOUR GCS PATH THAT CONTAINS MODEL ARTIFACTS"
   ]
  },
  {
   "cell_type": "markdown",
   "metadata": {
    "id": "c73d4ab771e3"
   },
   "source": [
    "验证云存储桶中的模型文件。"
   ]
  },
  {
   "cell_type": "code",
   "execution_count": null,
   "metadata": {
    "id": "2b30b1855c3c"
   },
   "outputs": [],
   "source": [
    "!gsutil ls -r $GCS_TRAINED_MODEL_URI"
   ]
  },
  {
   "cell_type": "markdown",
   "metadata": {
    "id": "17495d36914d"
   },
   "source": [
    "从云存储复制文件到本地目录。"
   ]
  },
  {
   "cell_type": "code",
   "execution_count": null,
   "metadata": {
    "id": "c814195fe41f"
   },
   "outputs": [],
   "source": [
    "!mkdir trained_model\n",
    "!gsutil -m cp -r $GCS_TRAINED_MODEL_URI/ ./trained_model"
   ]
  },
  {
   "cell_type": "code",
   "execution_count": null,
   "metadata": {
    "id": "a3e25889f240"
   },
   "outputs": [],
   "source": [
    "!ls -ltrR ./trained_model"
   ]
  },
  {
   "cell_type": "code",
   "execution_count": null,
   "metadata": {
    "id": "aa1484354072"
   },
   "outputs": [],
   "source": [
    "LOCAL_TRAINED_MODEL_DIRECTORY = \"[your-local-directory]\"  # <---CHANGE THIS TO YOUR LOCAL DIRECTORY THAT CONTAINS MODEL ARTIFACTS"
   ]
  },
  {
   "cell_type": "markdown",
   "metadata": {
    "id": "4c931da77e57"
   },
   "source": [
    "创建自定义模型处理程序来处理预测请求\n",
    "\n",
    "在使用经过精细调整的转换器模型预测输入文本的情感时，需要对输入文本进行预处理，并通过将名称（积极/消极）添加到目标标签（1/0）以及概率（或置信度）进行后处理。您可以创建一个自定义处理程序脚本，该脚本打包在模型工件中，并且预构建的PyTorch图像在运行时执行该代码。\n",
    "\n",
    "自定义处理程序脚本执行以下操作：\n",
    "\n",
    "- 在将输入文本发送到模型进行推理之前，对其进行预处理\n",
    "- 自定义调用模型进行推理的方式\n",
    "- 在发送回响应之前，从模型中对输出进行后处理\n",
    "\n",
    "请参考[TorchServe文档](https://pytorch.org/serve/custom_service.html)来定义一个自定义处理程序。"
   ]
  },
  {
   "cell_type": "code",
   "execution_count": null,
   "metadata": {
    "id": "219778afb9ad"
   },
   "outputs": [],
   "source": [
    "PREDICTOR_DIRECTORY = \"./predictor\"\n",
    "\n",
    "!mkdir $PREDICTOR_DIRECTORY"
   ]
  },
  {
   "cell_type": "code",
   "execution_count": null,
   "metadata": {
    "id": "5ceb881740d6"
   },
   "outputs": [],
   "source": [
    "%%writefile $PREDICTOR_DIRECTORY/custom_handler.py\n",
    "\n",
    "import os\n",
    "import json\n",
    "import logging\n",
    "\n",
    "import torch\n",
    "from transformers import AutoModelForSequenceClassification, AutoTokenizer\n",
    "from ts.torch_handler.base_handler import BaseHandler\n",
    "\n",
    "logger = logging.getLogger(__name__)\n",
    "\n",
    "\n",
    "class TransformersClassifierHandler(BaseHandler):\n",
    "    \"\"\"\n",
    "    The handler takes an input string and returns the classification text \n",
    "    based on the serialized transformers checkpoint.\n",
    "    \"\"\"\n",
    "    def __init__(self):\n",
    "        super(TransformersClassifierHandler, self).__init__()\n",
    "        self.initialized = False\n",
    "\n",
    "    def initialize(self, ctx):\n",
    "        \"\"\" Loads the model.pt file and initialized the model object.\n",
    "        Instantiates Tokenizer for preprocessor to use\n",
    "        Loads labels to name mapping file for post-processing inference response\n",
    "        \"\"\"\n",
    "        self.manifest = ctx.manifest\n",
    "\n",
    "        properties = ctx.system_properties\n",
    "        model_dir = properties.get(\"model_dir\")\n",
    "        self.device = torch.device(\"cuda:\" + str(properties.get(\"gpu_id\")) if torch.cuda.is_available() else \"cpu\")\n",
    "\n",
    "        # Read model serialize/pt file\n",
    "        serialized_file = self.manifest[\"model\"][\"serializedFile\"]\n",
    "        model_pt_path = os.path.join(model_dir, serialized_file)\n",
    "        if not os.path.isfile(model_pt_path):\n",
    "            raise RuntimeError(\"Missing the model.pt or pytorch_model.bin file\")\n",
    "        \n",
    "        # Load model\n",
    "        self.model = AutoModelForSequenceClassification.from_pretrained(model_dir)\n",
    "        self.model.to(self.device)\n",
    "        self.model.eval()\n",
    "        logger.debug('Transformer model from path {0} loaded successfully'.format(model_dir))\n",
    "        \n",
    "        # Ensure to use the same tokenizer used during training\n",
    "        self.tokenizer = AutoTokenizer.from_pretrained('bert-base-cased')\n",
    "\n",
    "        # Read the mapping file, index to object name\n",
    "        mapping_file_path = os.path.join(model_dir, \"index_to_name.json\")\n",
    "\n",
    "        if os.path.isfile(mapping_file_path):\n",
    "            with open(mapping_file_path) as f:\n",
    "                self.mapping = json.load(f)\n",
    "        else:\n",
    "            logger.warning('Missing the index_to_name.json file. Inference output will default.')\n",
    "            self.mapping = {\"0\": \"Negative\",  \"1\": \"Positive\"}\n",
    "\n",
    "        self.initialized = True\n",
    "\n",
    "    def preprocess(self, data):\n",
    "        \"\"\" Preprocessing input request by tokenizing\n",
    "            Extend with your own preprocessing steps as needed\n",
    "        \"\"\"\n",
    "        text = data[0].get(\"data\")\n",
    "        if text is None:\n",
    "            text = data[0].get(\"body\")\n",
    "        sentences = text.decode('utf-8')\n",
    "        logger.info(\"Received text: '%s'\", sentences)\n",
    "\n",
    "        # Tokenize the texts\n",
    "        tokenizer_args = ((sentences,))\n",
    "        inputs = self.tokenizer(*tokenizer_args,\n",
    "                                padding='max_length',\n",
    "                                max_length=128,\n",
    "                                truncation=True,\n",
    "                                return_tensors = \"pt\")\n",
    "        return inputs\n",
    "\n",
    "    def inference(self, inputs):\n",
    "        \"\"\" Predict the class of a text using a trained transformer model.\n",
    "        \"\"\"\n",
    "        prediction = self.model(inputs['input_ids'].to(self.device))[0].argmax().item()\n",
    "\n",
    "        if self.mapping:\n",
    "            prediction = self.mapping[str(prediction)]\n",
    "\n",
    "        logger.info(\"Model predicted: '%s'\", prediction)\n",
    "        return [prediction]\n",
    "\n",
    "    def postprocess(self, inference_output):\n",
    "        return inference_output\n"
   ]
  },
  {
   "cell_type": "markdown",
   "metadata": {
    "id": "f32fe0d49feb"
   },
   "source": [
    "生成目标标签以命名文件\n",
    "\n",
    "在自定义处理程序中，您要引用一个目标标签与其有意义名称之间的映射文件，用于格式化预测响应。在这里，您将目标标签“0”映射为“Negative”，将“1”映射为“Positive”。"
   ]
  },
  {
   "cell_type": "code",
   "execution_count": null,
   "metadata": {
    "id": "1be04c0f8960"
   },
   "outputs": [],
   "source": [
    "%%writefile $PREDICTOR_DIRECTORY/index_to_name.json\n",
    "\n",
    "{\n",
    "    \"0\": \"Negative\", \n",
    "    \"1\": \"Positive\"\n",
    "}"
   ]
  },
  {
   "cell_type": "markdown",
   "metadata": {
    "id": "321a84b9bb79"
   },
   "source": [
    "打包已训练的模型文件\n",
    "\n",
    "预构建的PyTorch图像需要使用[Torch模型打包工具](https://github.com/pytorch/serve/tree/master/model-archiver)创建模型存档文件。"
   ]
  },
  {
   "cell_type": "code",
   "execution_count": null,
   "metadata": {
    "id": "36cfb88bfbf7"
   },
   "outputs": [],
   "source": [
    "ARCHIVED_MODEL_PATH = \"./archived_model\"\n",
    "\n",
    "!mkdir $ARCHIVED_MODEL_PATH"
   ]
  },
  {
   "cell_type": "code",
   "execution_count": null,
   "metadata": {
    "id": "efaaf4ca7a01"
   },
   "outputs": [],
   "source": [
    "IS_GOOGLE_CLOUD_NOTEBOOK = os.path.exists(\"/opt/deeplearning/metadata/env_version\")\n",
    "\n",
    "# Google Cloud Notebook requires to add a path to find the installed torch-model-archiver\n",
    "if IS_GOOGLE_CLOUD_NOTEBOOK:\n",
    "    os.environ[\"PATH\"] = f'{os.environ.get(\"PATH\")}:~/.local/bin'"
   ]
  },
  {
   "cell_type": "markdown",
   "metadata": {
    "id": "14a0874e3bdd"
   },
   "source": [
    "将经过训练的模型工件打包，包括[默认](https://pytorch.org/serve/#default-handlers)或[自定义](https://pytorch.org/serve/custom_service.html)处理程序，通过使用[Torch模型存档工具](https://github.com/pytorch/serve/tree/master/model-archiver)创建一个存档文件。预构建的PyTorch映像需要模型存档文件命名为`model.mar`，因此您需要将模型名称设置为`model`。"
   ]
  },
  {
   "cell_type": "code",
   "execution_count": null,
   "metadata": {
    "id": "e094d78adc31"
   },
   "outputs": [],
   "source": [
    "!torch-model-archiver -f \\\n",
    "  --model-name=model \\\n",
    "  --version=1.0 \\\n",
    "  --serialized-file=$LOCAL_TRAINED_MODEL_DIRECTORY/pytorch_model.bin \\\n",
    "  --handler=$PREDICTOR_DIRECTORY/custom_handler.py \\\n",
    "  --extra-files \"$LOCAL_TRAINED_MODEL_DIRECTORY/config.json,$LOCAL_TRAINED_MODEL_DIRECTORY/tokenizer.json,$LOCAL_TRAINED_MODEL_DIRECTORY/training_args.bin,$LOCAL_TRAINED_MODEL_DIRECTORY/tokenizer_config.json,$LOCAL_TRAINED_MODEL_DIRECTORY/special_tokens_map.json,$LOCAL_TRAINED_MODEL_DIRECTORY/vocab.txt,$PREDICTOR_DIRECTORY/index_to_name.json\" \\\n",
    "  --export-path=$ARCHIVED_MODEL_PATH"
   ]
  },
  {
   "cell_type": "markdown",
   "metadata": {
    "id": "73e20aa31e0a"
   },
   "source": [
    "在本地运行预先构建好的 PyTorch 图像（可选）\n",
    "\n",
    "在将模型上传到 Vertex AI 之前，您可以在本地运行带有模型文件的预先构建的 PyTorch 图像。\n",
    "\n",
    "Vertex AI 预测在不同的 [Artifact Registry 多区域](https://cloud.google.com/artifact-registry/docs/repositories/repo-locations) 中具有预先构建的图像。要在本地运行这些图像，您可以使用与目标地区相匹配的图像。在此示例中，您使用的是在 CPU 上的 PyTorch 1.11，因此您可以选择下列任一图像：\n",
    "- us-docker.pkg.dev/vertex-ai/prediction/pytorch-cpu.1-11:latest\n",
    "- europe-docker.pkg.dev/vertex-ai/prediction/pytorch-cpu.1-11:latest\n",
    "- asia-docker.pkg.dev/vertex-ai/prediction/pytorch-cpu.1-11:latest\n",
    "\n",
    "Vertex AI 提供 [Vertex SDK](https://github.com/googleapis/python-aiplatform/tree/main/google/cloud/aiplatform/prediction) 来帮助在本地测试图像。您将使用 Vertex SDK 来测试带有归档模型文件的预构建的 PyTorch 图像。"
   ]
  },
  {
   "cell_type": "markdown",
   "metadata": {
    "id": "c6fa027a2290"
   },
   "source": [
    "在笔记本中设置日志配置。"
   ]
  },
  {
   "cell_type": "code",
   "execution_count": null,
   "metadata": {
    "id": "7cb48d5d0612"
   },
   "outputs": [],
   "source": [
    "import logging\n",
    "\n",
    "logging.basicConfig(level=logging.INFO)"
   ]
  },
  {
   "cell_type": "markdown",
   "metadata": {
    "id": "0746e14a4773"
   },
   "source": [
    "选择与模型将部署到的地区匹配的图像URI。有关Artifact Registry多地区的详细信息，请查看[文档](https://cloud.google.com/artifact-registry/docs/repositories/repo-locations)。"
   ]
  },
  {
   "cell_type": "code",
   "execution_count": null,
   "metadata": {
    "id": "4ea9c6fccde1"
   },
   "outputs": [],
   "source": [
    "serving_container_image_uri = \"[your-multi-region]-docker.pkg.dev/vertex-ai/prediction/pytorch-cpu.1-11:latest\"  # <---CHANGE THIS TO YOUR MULTI REGION, COULD BE `us`, `europe`, or `asia`"
   ]
  },
  {
   "cell_type": "markdown",
   "metadata": {
    "id": "3719b0f0ad24"
   },
   "source": [
    "由于您正在本地使用预构建的PyTorch图像，您需要填充必要的路由和端口。在使用预构建的PyTorch图像上传模型到Vertex AI时，您不需要填充路由或端口。"
   ]
  },
  {
   "cell_type": "code",
   "execution_count": null,
   "metadata": {
    "id": "26c6b2076a78"
   },
   "outputs": [],
   "source": [
    "health_route = \"/ping\"\n",
    "predict_route = \"/predictions/model\"\n",
    "serving_container_ports = [8080]"
   ]
  },
  {
   "cell_type": "markdown",
   "metadata": {
    "id": "54bfff8c5303"
   },
   "source": [
    "创建本地模型。"
   ]
  },
  {
   "cell_type": "code",
   "execution_count": null,
   "metadata": {
    "id": "1088e221624b"
   },
   "outputs": [],
   "source": [
    "from google.cloud.aiplatform.prediction import LocalModel\n",
    "\n",
    "local_model = LocalModel(\n",
    "    serving_container_image_uri=serving_container_image_uri,\n",
    "    serving_container_predict_route=predict_route,\n",
    "    serving_container_health_route=health_route,\n",
    "    serving_container_ports=serving_container_ports,\n",
    ")"
   ]
  },
  {
   "cell_type": "markdown",
   "metadata": {
    "id": "5dd0bf0b1b3c"
   },
   "source": [
    "存储测试实例。要了解有关在JSON中格式化输入实例的更多信息，请阅读文档。"
   ]
  },
  {
   "cell_type": "code",
   "execution_count": null,
   "metadata": {
    "id": "8850305d7095"
   },
   "outputs": [],
   "source": [
    "INPUT_FILE = \"./instances.json\""
   ]
  },
  {
   "cell_type": "code",
   "execution_count": null,
   "metadata": {
    "id": "6ac646297f55"
   },
   "outputs": [],
   "source": [
    "%%bash\n",
    "\n",
    "cat > ./instances.json <<END\n",
    "{ \n",
    "   \"instances\": [\n",
    "     { \n",
    "       \"data\": {\n",
    "         \"b64\": \"$(echo 'Take away the CGI and the A-list cast and you end up with film with less punch.' | base64 --wrap=0)\"\n",
    "       }\n",
    "     }\n",
    "   ]\n",
    "}\n",
    "END"
   ]
  },
  {
   "cell_type": "markdown",
   "metadata": {
    "id": "ee71c2a39ffb"
   },
   "source": [
    "在本地运行并发送请求给容器。在这个测试中，您需要运行健康检查和预测请求。"
   ]
  },
  {
   "cell_type": "code",
   "execution_count": null,
   "metadata": {
    "id": "f8003be04304"
   },
   "outputs": [],
   "source": [
    "with local_model.deploy_to_local_endpoint(\n",
    "    artifact_uri=f\"{ARCHIVED_MODEL_PATH}\",\n",
    ") as local_endpoint:\n",
    "    health_check_response = local_endpoint.run_health_check()\n",
    "\n",
    "    predict_response = local_endpoint.predict(\n",
    "        request_file=INPUT_FILE,\n",
    "        headers={\"Content-Type\": \"application/json\"},\n",
    "    )"
   ]
  },
  {
   "cell_type": "markdown",
   "metadata": {
    "id": "afc052153a8a"
   },
   "source": [
    "打印出健康检查响应及其内容。"
   ]
  },
  {
   "cell_type": "code",
   "execution_count": null,
   "metadata": {
    "id": "8ad98e321f44"
   },
   "outputs": [],
   "source": [
    "print(health_check_response, health_check_response.content)"
   ]
  },
  {
   "cell_type": "markdown",
   "metadata": {
    "id": "4a656a86ffce"
   },
   "source": [
    "打印出预测的响应及其内容。"
   ]
  },
  {
   "cell_type": "code",
   "execution_count": null,
   "metadata": {
    "id": "832902c204bf"
   },
   "outputs": [],
   "source": [
    "print(predict_response, predict_response.content)"
   ]
  },
  {
   "cell_type": "markdown",
   "metadata": {
    "id": "3050a30e47c8"
   },
   "source": [
    "也打印出所有的容器日志。"
   ]
  },
  {
   "cell_type": "code",
   "execution_count": null,
   "metadata": {
    "id": "8885c8cc1b08"
   },
   "outputs": [],
   "source": [
    "local_endpoint.print_container_logs(show_all=True)"
   ]
  },
  {
   "cell_type": "markdown",
   "metadata": {
    "id": "69477b3a00c0"
   },
   "source": [
    "部署预构建的PyTorch容器至Vertex AI预测\n",
    "\n",
    "您在Vertex AI上创建一个模型资源，并将模型部署到Vertex AI端点。在使用模型之前，您必须将模型部署到端点。部署的模型会运行预构建的PyTorch图像来提供预测。"
   ]
  },
  {
   "cell_type": "code",
   "execution_count": null,
   "metadata": {
    "id": "d5939da98492"
   },
   "outputs": [],
   "source": [
    "ARCHIVED_MODEL_GCS_URI = f\"{BUCKET_NAME}/archived-pytorch-model\""
   ]
  },
  {
   "cell_type": "markdown",
   "metadata": {
    "id": "6cef3aafe1c9"
   },
   "source": [
    "复制存档模型到GCS。"
   ]
  },
  {
   "cell_type": "code",
   "execution_count": null,
   "metadata": {
    "id": "fb1dc2cd2fcb"
   },
   "outputs": [],
   "source": [
    "!gsutil cp -r $ARCHIVED_MODEL_PATH $ARCHIVED_MODEL_GCS_URI"
   ]
  },
  {
   "cell_type": "markdown",
   "metadata": {
    "id": "fa44322d4aba"
   },
   "source": [
    "验证存档的模型文件是否存在于云存储桶中。要部署PyTorch模型使用Vertex AI Prediction预构建的PyTorch图像，您必须在artifact URI下具有一个`model.mar`文件。"
   ]
  },
  {
   "cell_type": "code",
   "execution_count": null,
   "metadata": {
    "id": "8886ed7aa89a"
   },
   "outputs": [],
   "source": [
    "! gsutil ls -al $ARCHIVED_MODEL_GCS_URI"
   ]
  },
  {
   "cell_type": "markdown",
   "metadata": {
    "id": "a3da91e19af4"
   },
   "source": [
    "##### **初始化 Python 的 Vertex AI SDK**"
   ]
  },
  {
   "cell_type": "code",
   "execution_count": null,
   "metadata": {
    "id": "4e0857c467ef"
   },
   "outputs": [],
   "source": [
    "from google.cloud import aiplatform\n",
    "\n",
    "aiplatform.init(project=PROJECT_ID, staging_bucket=BUCKET_NAME)"
   ]
  },
  {
   "cell_type": "markdown",
   "metadata": {
    "id": "b7716284f526"
   },
   "source": [
    "使用预先构建的PyTorch镜像创建一个模型资源."
   ]
  },
  {
   "cell_type": "code",
   "execution_count": null,
   "metadata": {
    "id": "5d4c599389a2"
   },
   "outputs": [],
   "source": [
    "VERSION = 1\n",
    "model_display_name = f\"pytorch-v{VERSION}-{TIMESTAMP}\"\n",
    "model_description = \"PyTorch based text classifier with the pre-built PyTorch image\""
   ]
  },
  {
   "cell_type": "markdown",
   "metadata": {
    "id": "822114906eed"
   },
   "source": [
    "选项1：通过LocalModel创建一个Model资源（如果你已经在本地运行了容器）"
   ]
  },
  {
   "cell_type": "code",
   "execution_count": null,
   "metadata": {
    "id": "0b0fbac061f3"
   },
   "outputs": [],
   "source": [
    "model = aiplatform.Model.upload(\n",
    "    local_model=local_model,\n",
    "    display_name=model_display_name,\n",
    "    description=model_description,\n",
    "    artifact_uri=ARCHIVED_MODEL_GCS_URI,\n",
    ")\n",
    "\n",
    "model.wait()\n",
    "\n",
    "print(model.display_name)\n",
    "print(model.resource_name)"
   ]
  },
  {
   "cell_type": "markdown",
   "metadata": {
    "id": "7a8e5f9ef00b"
   },
   "source": [
    "选项2. 通过Model在Model中创建一个Model资源（如果您尚未在本地运行容器）。"
   ]
  },
  {
   "cell_type": "code",
   "execution_count": null,
   "metadata": {
    "id": "dd342cf0fc06"
   },
   "outputs": [],
   "source": [
    "serving_container_image_uri = \"[your-multi-region]-docker.pkg.dev/vertex-ai/prediction/pytorch-cpu.1-11:latest\"  # <---CHANGE THIS TO YOUR MULTI REGION, COULD BE `us`, `europe`, or `asia`"
   ]
  },
  {
   "cell_type": "code",
   "execution_count": null,
   "metadata": {
    "id": "c7fb34080960"
   },
   "outputs": [],
   "source": [
    "model = aiplatform.Model.upload(\n",
    "    display_name=model_display_name,\n",
    "    description=model_description,\n",
    "    serving_container_image_uri=serving_container_image_uri,\n",
    "    artifact_uri=ARCHIVED_MODEL_GCS_URI,\n",
    ")\n",
    "\n",
    "model.wait()\n",
    "\n",
    "print(model.display_name)\n",
    "print(model.resource_name)"
   ]
  },
  {
   "cell_type": "markdown",
   "metadata": {
    "id": "85134f5adfa5"
   },
   "source": [
    "有关上传或导入模型的更多上下文，请参考[文档](https://cloud.google.com/vertex-ai/docs/general/import-model)。"
   ]
  },
  {
   "cell_type": "markdown",
   "metadata": {
    "id": "e12774f0dc68"
   },
   "source": [
    "使用预构建的PyTorch镜像为模型创建端点"
   ]
  },
  {
   "cell_type": "code",
   "execution_count": null,
   "metadata": {
    "id": "d0bf59607969"
   },
   "outputs": [],
   "source": [
    "endpoint_display_name = f\"pytorch-endpoint-{TIMESTAMP}\"\n",
    "endpoint = aiplatform.Endpoint.create(display_name=endpoint_display_name)"
   ]
  },
  {
   "cell_type": "markdown",
   "metadata": {
    "id": "ba9826243edf"
   },
   "source": [
    "部署模型到端点\n",
    "\n",
    "部署模型将物理资源与模型关联起来，以便可以通过低延迟提供在线预测。\n",
    "\n",
    "**注意：** 这一步需要几分钟时间来部署资源。"
   ]
  },
  {
   "cell_type": "code",
   "execution_count": null,
   "metadata": {
    "id": "8e36ccbc24b4"
   },
   "outputs": [],
   "source": [
    "traffic_percentage = 100\n",
    "machine_type = \"n1-standard-4\"\n",
    "deployed_model_display_name = model_display_name\n",
    "sync = True\n",
    "\n",
    "endpoint = model.deploy(\n",
    "    endpoint=endpoint,\n",
    "    deployed_model_display_name=deployed_model_display_name,\n",
    "    machine_type=machine_type,\n",
    "    traffic_percentage=traffic_percentage,\n",
    "    sync=sync,\n",
    ")"
   ]
  },
  {
   "cell_type": "markdown",
   "metadata": {
    "id": "bc4673478269"
   },
   "source": [
    "使用Vertex AI SDK调用部署模型的端点进行预测"
   ]
  },
  {
   "cell_type": "markdown",
   "metadata": {
    "id": "1fcbf1497407"
   },
   "source": [
    "列出端点上部署的模型"
   ]
  },
  {
   "cell_type": "code",
   "execution_count": null,
   "metadata": {
    "id": "376e74fdbd95"
   },
   "outputs": [],
   "source": [
    "endpoint.list_models()"
   ]
  },
  {
   "cell_type": "markdown",
   "metadata": {
    "id": "1f454fff5e7d"
   },
   "source": [
    "将在线预测输入格式化\n",
    "\n",
    "这个笔记本使用[Torchserve的KServe基于推理API](https://pytorch.org/serve/inference_api.html#kserve-inference-api)，同时也符合[Vertex AI Predictions兼容格式](https://cloud.google.com/vertex-ai/docs/predictions/custom-container-requirements#prediction)。对于在线预测请求，需要将预测输入实例格式化为JSON，并进行base64编码，如下所示：\n",
    "\n",
    "```\n",
    "[\n",
    "    {\n",
    "        \"data\": {\n",
    "            \"b64\": \"<base64编码的字符串>\"\n",
    "        }\n",
    "    }\n",
    "]\n",
    "```"
   ]
  },
  {
   "cell_type": "markdown",
   "metadata": {
    "id": "646e9dfe8add"
   },
   "source": [
    "定义样本文本以测试预测"
   ]
  },
  {
   "cell_type": "code",
   "execution_count": null,
   "metadata": {
    "id": "edc4658b2df1"
   },
   "outputs": [],
   "source": [
    "test_instances = [\n",
    "    b\"Jaw dropping visual affects and action! One of the best I have seen to date.\",\n",
    "    b\"Take away the CGI and the A-list cast and you end up with film with less punch.\",\n",
    "]"
   ]
  },
  {
   "cell_type": "markdown",
   "metadata": {
    "id": "52303da7c048"
   },
   "source": [
    "发送在线预测请求\n",
    "\n",
    "格式化输入文本字符串，并使用格式化的输入请求调用预测终端点，获取响应"
   ]
  },
  {
   "cell_type": "code",
   "execution_count": null,
   "metadata": {
    "id": "a5808801dbcb"
   },
   "outputs": [],
   "source": [
    "import base64\n",
    "import json\n",
    "\n",
    "print(\"=\" * 100)\n",
    "for instance in test_instances:\n",
    "    print(f\"Input text: \\n\\t{instance.decode('utf-8')}\\n\")\n",
    "    b64_encoded = base64.b64encode(instance)\n",
    "    test_instance = [{\"data\": {\"b64\": f\"{str(b64_encoded.decode('utf-8'))}\"}}]\n",
    "    print(f\"Formatted input: \\n{json.dumps(test_instance, indent=4)}\\n\")\n",
    "    prediction = endpoint.predict(instances=test_instance)\n",
    "    print(f\"Prediction response: \\n\\t{prediction}\")\n",
    "    print(\"=\" * 100)"
   ]
  },
  {
   "cell_type": "markdown",
   "metadata": {
    "id": "21664e69720a"
   },
   "source": [
    "##### **【可选】**使用gcloud CLI发出预测请求\n",
    "您还可以使用[`gcloud beta ai endpoints predict`](https://cloud.google.com/sdk/gcloud/reference/beta/ai/endpoints/predict)调用Vertex AI Endpoint来进行预测。\n",
    "\n",
    "以下是如何使用`gcloud` CLI向Vertex AI Endpoints发出预测请求的示例："
   ]
  },
  {
   "cell_type": "code",
   "execution_count": null,
   "metadata": {
    "id": "950c04742e87"
   },
   "outputs": [],
   "source": [
    "%%bash -s $REGION $endpoint_display_name\n",
    "\n",
    "REGION=$1\n",
    "endpoint_display_name=$2\n",
    "\n",
    "# get endpoint id\n",
    "echo \"REGION = ${REGION}\"\n",
    "echo \"ENDPOINT DISPLAY NAME = ${endpoint_display_name}\"\n",
    "endpoint_id=$(gcloud beta ai endpoints list --region ${REGION} --filter \"display_name=${endpoint_display_name}\" --format \"value(ENDPOINT_ID)\")\n",
    "echo \"ENDPOINT_ID = ${endpoint_id}\"\n",
    "\n",
    "# call prediction endpoint\n",
    "input_text=\"Take away the CGI and the A-list cast and you end up with film with less punch.\"\n",
    "echo \"INPUT TEXT = ${input_text}\"\n",
    "\n",
    "prediction=$(\n",
    "echo \"\"\"\n",
    "{ \n",
    "   \"instances\": [\n",
    "     { \n",
    "       \"data\": {\n",
    "         \"b64\": \"$(echo ${input_text} | base64 --wrap=0)\"\n",
    "       }\n",
    "     }\n",
    "   ]\n",
    "}\n",
    "\"\"\" | gcloud beta ai endpoints predict ${endpoint_id} --region=$REGION --json-request -)\n",
    "\n",
    "echo \"PREDICTION RESPONSE = ${prediction}\""
   ]
  },
  {
   "cell_type": "markdown",
   "metadata": {
    "id": "e636b52e5913"
   },
   "source": [
    "## 清理工作\n",
    "\n",
    "### 清理训练和部署资源\n",
    "\n",
    "要清理此笔记中使用的所有Google Cloud资源，您可以[删除用于本教程的Google Cloud项目](https://cloud.google.com/resource-manager/docs/creating-managing-projects#shutting_down_projects)。\n",
    "\n",
    "否则，您可以删除本教程中创建的各个资源：\n",
    "\n",
    "- 模型\n",
    "- 端点\n",
    "- 云存储桶"
   ]
  },
  {
   "cell_type": "markdown",
   "metadata": {
    "id": "7b89f5a348d1"
   },
   "source": [
    "将要删除的资源类型设置为标记。"
   ]
  },
  {
   "cell_type": "code",
   "execution_count": null,
   "metadata": {
    "id": "26ee41d02418"
   },
   "outputs": [],
   "source": [
    "delete_endpoint = True\n",
    "delete_model = True\n",
    "delete_bucket = False"
   ]
  },
  {
   "cell_type": "markdown",
   "metadata": {
    "id": "dc21008bb215"
   },
   "source": [
    "#### **撤销模型和删除端点**"
   ]
  },
  {
   "cell_type": "code",
   "execution_count": null,
   "metadata": {
    "id": "51684df7dc6b"
   },
   "outputs": [],
   "source": [
    "if delete_endpoint:\n",
    "    endpoint.delete(force=True)"
   ]
  },
  {
   "cell_type": "markdown",
   "metadata": {
    "id": "4a6719f8f8a2"
   },
   "source": [
    "删除模型"
   ]
  },
  {
   "cell_type": "code",
   "execution_count": null,
   "metadata": {
    "id": "087a5322f387"
   },
   "outputs": [],
   "source": [
    "if delete_model:\n",
    "    model.delete()"
   ]
  },
  {
   "cell_type": "markdown",
   "metadata": {
    "id": "938a7cd172ab"
   },
   "source": [
    "从暂存存储桶中删除内容\n",
    "\n",
    "请注意：此云存储桶中的所有内容将被删除。请谨慎操作。"
   ]
  },
  {
   "cell_type": "code",
   "execution_count": null,
   "metadata": {
    "id": "a50bd867c02d"
   },
   "outputs": [],
   "source": [
    "if delete_bucket and \"BUCKET_NAME\" in globals():\n",
    "    print(f\"Deleting all contents from the bucket {BUCKET_NAME}\")\n",
    "\n",
    "    shell_output = ! gsutil du -as $BUCKET_NAME\n",
    "    print(\n",
    "        f\"Size of the bucket {BUCKET_NAME} before deleting = {shell_output[0].split()[0]} bytes\"\n",
    "    )\n",
    "\n",
    "    # uncomment below line to delete contents of the bucket\n",
    "    # ! gsutil rm -r $BUCKET_NAME\n",
    "\n",
    "    shell_output = ! gsutil du -as $BUCKET_NAME\n",
    "    if float(shell_output[0].split()[0]) > 0:\n",
    "        print(\n",
    "            \"PLEASE UNCOMMENT LINE TO DELETE BUCKET. CONTENT FROM THE BUCKET NOT DELETED\"\n",
    "        )"
   ]
  },
  {
   "cell_type": "markdown",
   "metadata": {
    "id": "3541e1629c02"
   },
   "source": [
    "### 清理笔记本环境\n",
    "\n",
    "在实验完成后，您可以选择[停止](https://cloud.google.com/ai-platform/notebooks/docs/shut-down)或删除 AI 笔记本实例，以避免任何费用。如果想保存您的工作，可以选择停止实例。\n",
    "\n",
    "```\n",
    "# 停止笔记本实例\n",
    "gcloud notebooks instances stop example-instance --location=us-central1-a\n",
    "\n",
    "\n",
    "# 删除笔记本实例\n",
    "gcloud notebooks instances delete example-instance --location=us-central1-a\n",
    "```"
   ]
  }
 ],
 "metadata": {
  "colab": {
   "collapsed_sections": [
    "n9qywopnIrJH",
    "545PP3o8IrJV",
    "7k8ge1L1IrJk"
   ],
   "name": "pytorch-text-classification-vertex-ai-deploy.ipynb",
   "toc_visible": true
  },
  "kernelspec": {
   "display_name": "Python 3",
   "name": "python3"
  }
 },
 "nbformat": 4,
 "nbformat_minor": 0
}
