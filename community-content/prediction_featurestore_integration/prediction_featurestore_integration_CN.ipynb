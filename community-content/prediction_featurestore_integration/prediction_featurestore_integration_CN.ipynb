{
 "cells": [
  {
   "cell_type": "markdown",
   "metadata": {
    "id": "7aa1a6f5db32"
   },
   "source": [
    "# 概述"
   ]
  },
  {
   "cell_type": "markdown",
   "metadata": {
    "id": "0a2a426f71c0"
   },
   "source": [
    "这本笔记本是基于这个[预测和特征存储在线服务](https://github.com/GoogleCloudPlatform/vertex-ai-samples/blob/main/notebooks/community/feature_store/mobile_gaming/mobile_gaming_feature_store.ipynb)的笔记本和[这篇博客文章](https://cloud.google.com/blog/topics/developers-practitioners/churn-prediction-game-developers-using-google-analytics-4-ga4-and-bigquery-ml)。"
   ]
  },
  {
   "cell_type": "markdown",
   "metadata": {
    "id": "bb819819a5c9"
   },
   "source": [
    "### 数据集\n",
    "\n",
    "这个数据集是来自一个名为\"Flood It!\"（Android，iOS）的实际移动游戏应用的公共样本导出数据。\n",
    "\n",
    "### 模型\n",
    "\n",
    "您在这个笔记本中使用的模型基于[这篇博客文章](https://cloud.google.com/blog/topics/developers-practitioners/churn-prediction-game-developers-using-google-analytics-4-ga4-and-bigquery-ml)。这个模型的理念是，您的公司有大量的日志数据，描述了游戏用户与网站的交互方式。原始数据包含以下信息类别：\n",
    "\n",
    "- 身份 - 唯一的玩家身份编号\n",
    "- 人口统计特征 - 关于玩家的信息，比如玩家所在的地理区域\n",
    "- 行为特征 - 玩家触发某些游戏事件的次数，比如达到新的等级\n",
    "- 流失倾向 - 这是标签或目标特征，它提供了该玩家可能流失的概率，即停止成为活跃玩家。\n",
    "\n",
    "上面引用的博客文章解释了如何使用BigQuery存储原始数据，预处理数据用于机器学习，以及训练相应的模型。因为这个笔记本专注于模型监控，而不是训练模型，您将重复使用一个预先训练好的版本该模型，它已经被导出到了云存储中，存储在`gs://mco-mm/churn`中。"
   ]
  },
  {
   "cell_type": "markdown",
   "metadata": {
    "id": "0e87d0008c86"
   },
   "source": [
    "基本设置"
   ]
  },
  {
   "cell_type": "markdown",
   "metadata": {
    "id": "2ced96588e13"
   },
   "source": [
    "安装包"
   ]
  },
  {
   "cell_type": "code",
   "execution_count": null,
   "metadata": {
    "id": "4811add5cd1c"
   },
   "outputs": [],
   "source": [
    "! pip install google-cloud-aiplatform"
   ]
  },
  {
   "cell_type": "markdown",
   "metadata": {
    "id": "c7947573e336"
   },
   "source": [
    "## 创建项目"
   ]
  },
  {
   "cell_type": "code",
   "execution_count": null,
   "metadata": {
    "id": "94f36c0f4a00"
   },
   "outputs": [],
   "source": [
    "import os\n",
    "\n",
    "PROJECT_ID = \"\"\n",
    "\n",
    "# Get your Google Cloud project ID from gcloud\n",
    "if not os.getenv(\"IS_TESTING\"):\n",
    "    shell_output = !gcloud config list --format 'value(core.project)' 2>/dev/null\n",
    "    PROJECT_ID = shell_output[0]\n",
    "    print(\"Project ID: \", PROJECT_ID)"
   ]
  },
  {
   "cell_type": "code",
   "execution_count": null,
   "metadata": {
    "id": "7d439758446b"
   },
   "outputs": [],
   "source": [
    "if PROJECT_ID == \"\" or PROJECT_ID is None:\n",
    "    PROJECT_ID = \"[your-project-id]\"  # @param {type:\"string\"}"
   ]
  },
  {
   "cell_type": "code",
   "execution_count": null,
   "metadata": {
    "id": "56a76e9ebc4d"
   },
   "outputs": [],
   "source": [
    "shell_output = ! gcloud projects list --filter=\"PROJECT_ID:'{PROJECT_ID}'\" --format='value(PROJECT_NUMBER)'\n",
    "PROJECT_NUMBER = shell_output[0]\n",
    "print(\"Project Number:\", PROJECT_NUMBER)"
   ]
  },
  {
   "cell_type": "code",
   "execution_count": null,
   "metadata": {
    "id": "a74685b6ae29"
   },
   "outputs": [],
   "source": [
    "! gcloud config set project $PROJECT_ID"
   ]
  },
  {
   "cell_type": "code",
   "execution_count": null,
   "metadata": {
    "id": "7fdcbacfa8ad"
   },
   "outputs": [],
   "source": [
    "REGION = \"\"\n",
    "\n",
    "if REGION == \"\" or REGION is None:\n",
    "    REGION = \"us-central1\""
   ]
  },
  {
   "cell_type": "markdown",
   "metadata": {
    "id": "17c464cec341"
   },
   "source": [
    "时间戳"
   ]
  },
  {
   "cell_type": "code",
   "execution_count": null,
   "metadata": {
    "id": "9fa11b3e7936"
   },
   "outputs": [],
   "source": [
    "from datetime import datetime\n",
    "\n",
    "TIMESTAMP = datetime.now().strftime(\"%Y%m%d%H%M%S\")"
   ]
  },
  {
   "cell_type": "markdown",
   "metadata": {
    "id": "c03afe801c7b"
   },
   "source": [
    "请验证您的谷歌云账户"
   ]
  },
  {
   "cell_type": "markdown",
   "metadata": {
    "id": "254b58f37761"
   },
   "source": [
    "如果您正在使用Vertex AI工作台笔记本，则您的环境已经经过身份验证。跳过这一步。\n",
    "\n",
    "如果您正在使用Colab，请运行下面的单元格，并按提示进行操作以通过oAuth验证您的帐户。\n",
    "\n",
    "否则，请按照以下步骤操作：\n",
    "\n",
    "1. 在Cloud控制台中，转到创建服务帐户密钥页面。\n",
    "\n",
    "2. 点击创建服务帐户。\n",
    "\n",
    "3. 在服务帐户名称字段中输入名称，然后点击创建。\n",
    "\n",
    "4. 在授予此服务帐户访问项目部分，单击角色下拉列表并添加以下角色：\n",
    "\n",
    "- BigQuery管理员\n",
    "- 存储管理员\n",
    "- 存储对象管理员\n",
    "- Vertex AI管理员\n",
    "- Vertex AI特征存储管理员\n",
    "\n",
    "5. 点击创建。一个包含您的密钥的JSON文件将下载到您的本地环境。\n",
    "\n",
    "6. 在下面的单元格中将您的服务帐户密钥路径输入为`GOOGLE_APPLICATION_CREDENTIALS`变量，并运行单元格。"
   ]
  },
  {
   "cell_type": "code",
   "execution_count": null,
   "metadata": {
    "id": "6a08e2a6c84f"
   },
   "outputs": [],
   "source": [
    "# If you are running this notebook in Colab, run this cell and follow the\n",
    "# instructions to authenticate your GCP account. This provides access to your\n",
    "# Cloud Storage bucket and lets you submit training jobs and prediction\n",
    "# requests.\n",
    "\n",
    "import os\n",
    "import sys\n",
    "\n",
    "# If on Vertex AI Workbench, then don't execute this code\n",
    "IS_COLAB = \"google.colab\" in sys.modules\n",
    "if not os.path.exists(\"/opt/deeplearning/metadata/env_version\") and not os.getenv(\n",
    "    \"DL_ANACONDA_HOME\"\n",
    "):\n",
    "    if \"google.colab\" in sys.modules:\n",
    "        from google.colab import auth as google_auth\n",
    "\n",
    "        google_auth.authenticate_user()\n",
    "\n",
    "    # If you are running this notebook locally, replace the string below with the\n",
    "    # path to your service account key and run this cell to authenticate your GCP\n",
    "    # account.\n",
    "    elif not os.getenv(\"IS_TESTING\"):\n",
    "        %env GOOGLE_APPLICATION_CREDENTIALS ''"
   ]
  },
  {
   "cell_type": "markdown",
   "metadata": {
    "id": "2f52dced4061"
   },
   "source": [
    "创建一个存储桶，并将导出的模型复制到其中。"
   ]
  },
  {
   "cell_type": "code",
   "execution_count": null,
   "metadata": {
    "id": "12c9381edd2a"
   },
   "outputs": [],
   "source": [
    "BUCKET_NAME = \"[your-bucket-name]\"  # @param {type:\"string\"}\n",
    "BUCKET_URI = f\"gs://{BUCKET_NAME}\""
   ]
  },
  {
   "cell_type": "code",
   "execution_count": null,
   "metadata": {
    "id": "50c6cda053e1"
   },
   "outputs": [],
   "source": [
    "if BUCKET_NAME == \"\" or BUCKET_NAME is None or BUCKET_NAME == \"[your-bucket-name]\":\n",
    "    BUCKET_NAME = PROJECT_ID + \"-aip-\" + TIMESTAMP\n",
    "    BUCKET_URI = f\"gs://{BUCKET_NAME}\""
   ]
  },
  {
   "cell_type": "markdown",
   "metadata": {
    "id": "197c22fada47"
   },
   "source": [
    "只有当您的存储桶尚不存在时：运行以下单元格以创建您的云存储桶。"
   ]
  },
  {
   "cell_type": "code",
   "execution_count": null,
   "metadata": {
    "id": "2de44a514cd1"
   },
   "outputs": [],
   "source": [
    "! gsutil mb -l $REGION -p $PROJECT_ID $BUCKET_URI"
   ]
  },
  {
   "cell_type": "code",
   "execution_count": null,
   "metadata": {
    "id": "ca57dc423195"
   },
   "outputs": [],
   "source": [
    "! gsutil ls -al $BUCKET_URI"
   ]
  },
  {
   "cell_type": "markdown",
   "metadata": {
    "id": "0a6202578b94"
   },
   "source": [
    "将训练好的模型复制到你的存储桶中。"
   ]
  },
  {
   "cell_type": "code",
   "execution_count": null,
   "metadata": {
    "id": "6b2501fc7f01"
   },
   "outputs": [],
   "source": [
    "! gsutil cp -r gs://mco-mm/churn/* $BUCKET_URI"
   ]
  },
  {
   "cell_type": "markdown",
   "metadata": {
    "id": "c672b6901814"
   },
   "source": [
    "### 创建一个服务账号\n",
    "\n",
    "我们需要为这个新功能创建一个服务账号，因为预测工作负载的凭据没有访问特征存储库的权限。创建一个账号并授予`roles/aiplatform.serviceAgent`角色，这将授予它访问大多数预测资源和特征存储库的权限。"
   ]
  },
  {
   "cell_type": "code",
   "execution_count": null,
   "metadata": {
    "id": "534b78bcc16d"
   },
   "outputs": [],
   "source": [
    "SA_NAME = \"prediction-and-fs-testing\"\n",
    "SA_DESCRIPTION = '\"SA to test Prediction and Feature Store integration\"'\n",
    "DISPLAY_NAME = \"prediction-and-fs-testing\""
   ]
  },
  {
   "cell_type": "code",
   "execution_count": null,
   "metadata": {
    "id": "3cf1c055b80e"
   },
   "outputs": [],
   "source": [
    "!gcloud iam service-accounts create $SA_NAME \\\n",
    "    --description=$SA_DESCRIPTION \\\n",
    "    --display-name=$DISPLAY_NAME"
   ]
  },
  {
   "cell_type": "code",
   "execution_count": null,
   "metadata": {
    "id": "fef2f4529b22"
   },
   "outputs": [],
   "source": [
    "# SERVICE_ACCOUNT = \"prediction-and-fs@bon-test-0.iam.gserviceaccount.com\"\n",
    "SERVICE_ACCOUNT = (\n",
    "    f\"{SA_NAME}@{PROJECT_ID}.iam.gserviceaccount.com\"  # @param {type:\"string\"}\n",
    ")"
   ]
  },
  {
   "cell_type": "markdown",
   "metadata": {
    "id": "8d7d03ced198"
   },
   "source": [
    "赋予服务账户`Storage Admin`和`Vertex AI Feature Store Data Viewer`角色，以便访问GCS中的工件和Feature Store中的数据。"
   ]
  },
  {
   "cell_type": "code",
   "execution_count": null,
   "metadata": {
    "id": "b5e3ad275dfe"
   },
   "outputs": [],
   "source": [
    "!gcloud projects add-iam-policy-binding $PROJECT_ID \\\n",
    "    --member=serviceAccount:$SERVICE_ACCOUNT \\\n",
    "    --role=roles/storage.objectAdmin;\n",
    "\n",
    "!gcloud projects add-iam-policy-binding $PROJECT_ID \\\n",
    "    --member=serviceAccount:$SERVICE_ACCOUNT \\\n",
    "    --role=roles/aiplatform.featurestoreDataViewer;"
   ]
  },
  {
   "cell_type": "markdown",
   "metadata": {
    "id": "d3938f6d37a1"
   },
   "source": [
    "## 导入库"
   ]
  },
  {
   "cell_type": "code",
   "execution_count": null,
   "metadata": {
    "id": "7759fe720d45"
   },
   "outputs": [],
   "source": [
    "# General\n",
    "import os\n",
    "import sys\n",
    "\n",
    "# Vertex AI and its Feature Store\n",
    "from google.cloud import aiplatform\n",
    "from google.cloud.aiplatform import Featurestore"
   ]
  },
  {
   "cell_type": "markdown",
   "metadata": {
    "id": "2eb5493cf2ac"
   },
   "source": [
    "注意：该功能现在仅在“autopush”中可用。"
   ]
  },
  {
   "cell_type": "code",
   "execution_count": null,
   "metadata": {
    "id": "9b6b5c58669d"
   },
   "outputs": [],
   "source": [
    "aiplatform.constants.base.API_BASE_PATH = \"autopush-aiplatform.sandbox.googleapis.com\"\n",
    "aiplatform.constants.base.PREDICTION_API_BASE_PATH = (\n",
    "    \"autopush-prediction-aiplatform.sandbox.googleapis.com\"\n",
    ")"
   ]
  },
  {
   "cell_type": "code",
   "execution_count": null,
   "metadata": {
    "id": "7def96de8098"
   },
   "outputs": [],
   "source": [
    "aiplatform.init(project=PROJECT_ID, location=REGION)"
   ]
  },
  {
   "cell_type": "markdown",
   "metadata": {
    "id": "56a185de336f"
   },
   "source": [
    "创建特征存储#"
   ]
  },
  {
   "cell_type": "code",
   "execution_count": null,
   "metadata": {
    "id": "363c77a9e9e3"
   },
   "outputs": [],
   "source": [
    "FEATURESTORE_ID = \"mobile_gaming_\" + TIMESTAMP  # @param {type:\"string\"}\n",
    "\n",
    "# Vertex AI Feature store\n",
    "ONLINE_STORE_NODES_COUNT = 5\n",
    "DEMOGRAPHIC_ENTITY_ID = \"demographic\"\n",
    "BEHAVIOR_ENTITY_ID = \"behavior\"\n",
    "FEATURE_TIME = \"timestamp\"\n",
    "ENTITY_ID_FIELD = \"user_pseudo_id\""
   ]
  },
  {
   "cell_type": "markdown",
   "metadata": {
    "id": "bcaa5c3644f0"
   },
   "source": [
    "我们将使用此[博客帖子](https://cloud.google.com/blog/topics/developers-practitioners/churn-prediction-game-developers-using-google-analytics-4-ga4-and-bigquery-ml)中使用的数据集的导出样本数据。"
   ]
  },
  {
   "cell_type": "code",
   "execution_count": null,
   "metadata": {
    "id": "72a36025d162"
   },
   "outputs": [],
   "source": [
    "SOURCE_URI = \"gs://featurestore_prediction_integration/data/mobile_gaming_dataset.csv\""
   ]
  },
  {
   "cell_type": "markdown",
   "metadata": {
    "id": "85f09125566f"
   },
   "source": [
    "## 创建特征库"
   ]
  },
  {
   "cell_type": "code",
   "execution_count": null,
   "metadata": {
    "id": "764aa2b60016"
   },
   "outputs": [],
   "source": [
    "try:\n",
    "    mobile_gaming_feature_store = Featurestore.create(\n",
    "        featurestore_id=FEATURESTORE_ID,\n",
    "        online_store_fixed_node_count=ONLINE_STORE_NODES_COUNT,\n",
    "        sync=True,\n",
    "    )\n",
    "except RuntimeError as error:\n",
    "    print(error)\n",
    "else:\n",
    "    FEATURESTORE_RESOURCE_NAME = mobile_gaming_feature_store.resource_name\n",
    "    print(f\"Feature store created: {FEATURESTORE_RESOURCE_NAME}\")"
   ]
  },
  {
   "cell_type": "markdown",
   "metadata": {
    "id": "7d4ff784a9f7"
   },
   "source": [
    "创建实体"
   ]
  },
  {
   "cell_type": "code",
   "execution_count": null,
   "metadata": {
    "id": "51e62e67d4e8"
   },
   "outputs": [],
   "source": [
    "try:\n",
    "    demographic_entity_type = mobile_gaming_feature_store.create_entity_type(\n",
    "        entity_type_id=DEMOGRAPHIC_ENTITY_ID,\n",
    "        description=\"User demographic Entity\",\n",
    "        sync=True,\n",
    "    )\n",
    "except RuntimeError as error:\n",
    "    print(error)\n",
    "else:\n",
    "    DEMOGRAPHIC_ENTITY_RESOURCE_NAME = demographic_entity_type.resource_name\n",
    "    print(\"Entity type name is\", DEMOGRAPHIC_ENTITY_RESOURCE_NAME)"
   ]
  },
  {
   "cell_type": "code",
   "execution_count": null,
   "metadata": {
    "id": "6ae913f7e9cc"
   },
   "outputs": [],
   "source": [
    "try:\n",
    "    behavior_entity_type = mobile_gaming_feature_store.create_entity_type(\n",
    "        entity_type_id=BEHAVIOR_ENTITY_ID, description=\"User behavior Entity\", sync=True\n",
    "    )\n",
    "except RuntimeError as error:\n",
    "    print(error)\n",
    "else:\n",
    "    BEHAVIOR_ENTITY_RESOURCE_NAME = behavior_entity_type.resource_name\n",
    "    print(\"Entity type name is\", BEHAVIOR_ENTITY_RESOURCE_NAME)"
   ]
  },
  {
   "cell_type": "markdown",
   "metadata": {
    "id": "ae2b5655049b"
   },
   "source": [
    "### 创建特征"
   ]
  },
  {
   "cell_type": "markdown",
   "metadata": {
    "id": "809f781e797a"
   },
   "source": [
    "#### 特性配置"
   ]
  },
  {
   "cell_type": "code",
   "execution_count": null,
   "metadata": {
    "id": "22d855f118ea"
   },
   "outputs": [],
   "source": [
    "demographic_feature_configs = {\n",
    "    \"country\": {\n",
    "        \"value_type\": \"STRING\",\n",
    "        \"description\": \"The country of customer\",\n",
    "        \"labels\": {\"status\": \"passed\"},\n",
    "    },\n",
    "    \"operating_system\": {\n",
    "        \"value_type\": \"STRING\",\n",
    "        \"description\": \"The operating system of device\",\n",
    "        \"labels\": {\"status\": \"passed\"},\n",
    "    },\n",
    "    \"language\": {\n",
    "        \"value_type\": \"STRING\",\n",
    "        \"description\": \"The language of device\",\n",
    "        \"labels\": {\"status\": \"passed\"},\n",
    "    },\n",
    "    \"user_pseudo_id\": {\n",
    "        \"value_type\": \"STRING\",\n",
    "        \"description\": \"User pseudo id\",\n",
    "        \"labels\": {\"status\": \"passed\"},\n",
    "    },\n",
    "}\n",
    "\n",
    "behavior_feature_configs = {\n",
    "    \"cnt_user_engagement\": {\n",
    "        \"value_type\": \"DOUBLE\",\n",
    "        \"description\": \"A variable of user engagement level\",\n",
    "        \"labels\": {\"status\": \"passed\"},\n",
    "    },\n",
    "    \"cnt_level_start_quickplay\": {\n",
    "        \"value_type\": \"DOUBLE\",\n",
    "        \"description\": \"A variable of user engagement with start level\",\n",
    "        \"labels\": {\"status\": \"passed\"},\n",
    "    },\n",
    "    \"cnt_level_end_quickplay\": {\n",
    "        \"value_type\": \"DOUBLE\",\n",
    "        \"description\": \"A variable of user engagement with end level\",\n",
    "        \"labels\": {\"status\": \"passed\"},\n",
    "    },\n",
    "    \"cnt_level_complete_quickplay\": {\n",
    "        \"value_type\": \"DOUBLE\",\n",
    "        \"description\": \"A variable of user engagement with complete status\",\n",
    "        \"labels\": {\"status\": \"passed\"},\n",
    "    },\n",
    "    \"cnt_level_reset_quickplay\": {\n",
    "        \"value_type\": \"DOUBLE\",\n",
    "        \"description\": \"A variable of user engagement with reset status\",\n",
    "        \"labels\": {\"status\": \"passed\"},\n",
    "    },\n",
    "    \"cnt_post_score\": {\n",
    "        \"value_type\": \"DOUBLE\",\n",
    "        \"description\": \"A variable of user score\",\n",
    "        \"labels\": {\"status\": \"passed\"},\n",
    "    },\n",
    "    \"cnt_spend_virtual_currency\": {\n",
    "        \"value_type\": \"DOUBLE\",\n",
    "        \"description\": \"A variable of user virtual amount\",\n",
    "        \"labels\": {\"status\": \"passed\"},\n",
    "    },\n",
    "    \"cnt_ad_reward\": {\n",
    "        \"value_type\": \"DOUBLE\",\n",
    "        \"description\": \"A variable of user reward\",\n",
    "        \"labels\": {\"status\": \"passed\"},\n",
    "    },\n",
    "    \"cnt_challenge_a_friend\": {\n",
    "        \"value_type\": \"DOUBLE\",\n",
    "        \"description\": \"A variable of user challenges with friends\",\n",
    "        \"labels\": {\"status\": \"passed\"},\n",
    "    },\n",
    "    \"cnt_completed_5_levels\": {\n",
    "        \"value_type\": \"DOUBLE\",\n",
    "        \"description\": \"A variable of user level 5 completed\",\n",
    "        \"labels\": {\"status\": \"passed\"},\n",
    "    },\n",
    "    \"cnt_use_extra_steps\": {\n",
    "        \"value_type\": \"DOUBLE\",\n",
    "        \"description\": \"A variable of user extra steps\",\n",
    "        \"labels\": {\"status\": \"passed\"},\n",
    "    },\n",
    "    \"month\": {\n",
    "        \"value_type\": \"INT64\",\n",
    "        \"description\": \"First touch month\",\n",
    "        \"labels\": {\"status\": \"passed\"},\n",
    "    },\n",
    "    \"julianday\": {\n",
    "        \"value_type\": \"INT64\",\n",
    "        \"description\": \"First touch julian day\",\n",
    "        \"labels\": {\"status\": \"passed\"},\n",
    "    },\n",
    "    \"dayofweek\": {\n",
    "        \"value_type\": \"INT64\",\n",
    "        \"description\": \"First touch day of week\",\n",
    "        \"labels\": {\"status\": \"passed\"},\n",
    "    },\n",
    "}"
   ]
  },
  {
   "cell_type": "markdown",
   "metadata": {
    "id": "1b72bf136987"
   },
   "source": [
    "使用`batch_create_features`方法创建特性。"
   ]
  },
  {
   "cell_type": "code",
   "execution_count": null,
   "metadata": {
    "id": "9c2769834702"
   },
   "outputs": [],
   "source": [
    "try:\n",
    "    demographic_entity_type.batch_create_features(\n",
    "        feature_configs=demographic_feature_configs, sync=True\n",
    "    )\n",
    "except RuntimeError as error:\n",
    "    print(error)\n",
    "else:\n",
    "    for feature in demographic_entity_type.list_features():\n",
    "        print(\"\")\n",
    "        print(f\"The resource name of {feature.name} feature is\", feature.resource_name)"
   ]
  },
  {
   "cell_type": "code",
   "execution_count": null,
   "metadata": {
    "id": "68b07d3b2bf0"
   },
   "outputs": [],
   "source": [
    "try:\n",
    "    behavior_entity_type.batch_create_features(\n",
    "        feature_configs=behavior_feature_configs, sync=True\n",
    "    )\n",
    "except RuntimeError as error:\n",
    "    print(error)\n",
    "else:\n",
    "    for feature in behavior_entity_type.list_features():\n",
    "        print(\"\")\n",
    "        print(f\"The resource name of {feature.name} feature is\", feature.resource_name)"
   ]
  },
  {
   "cell_type": "markdown",
   "metadata": {
    "id": "34bf9fc11ae3"
   },
   "source": [
    "摄取特性"
   ]
  },
  {
   "cell_type": "code",
   "execution_count": null,
   "metadata": {
    "id": "92e92c854028"
   },
   "outputs": [],
   "source": [
    "DEMOGRAPHIC_FEATURES_IDS = [\n",
    "    feature.name for feature in demographic_entity_type.list_features()\n",
    "]"
   ]
  },
  {
   "cell_type": "code",
   "execution_count": null,
   "metadata": {
    "id": "50a7e935a870"
   },
   "outputs": [],
   "source": [
    "try:\n",
    "    demographic_entity_type.ingest_from_gcs(\n",
    "        feature_ids=DEMOGRAPHIC_FEATURES_IDS,\n",
    "        feature_time=FEATURE_TIME,\n",
    "        gcs_source_uris=SOURCE_URI,\n",
    "        gcs_source_type=\"csv\",\n",
    "        entity_id_field=ENTITY_ID_FIELD,\n",
    "        disable_online_serving=False,\n",
    "        worker_count=10,\n",
    "        sync=True,\n",
    "    )\n",
    "except RuntimeError as error:\n",
    "    print(error)"
   ]
  },
  {
   "cell_type": "code",
   "execution_count": null,
   "metadata": {
    "id": "dcbb4fa32e40"
   },
   "outputs": [],
   "source": [
    "BEHAVIOR_FEATURES_IDS = [\n",
    "    feature.name for feature in behavior_entity_type.list_features()\n",
    "]"
   ]
  },
  {
   "cell_type": "code",
   "execution_count": null,
   "metadata": {
    "id": "a36facc52807"
   },
   "outputs": [],
   "source": [
    "try:\n",
    "    behavior_entity_type.ingest_from_gcs(\n",
    "        feature_ids=BEHAVIOR_FEATURES_IDS,\n",
    "        feature_time=FEATURE_TIME,\n",
    "        gcs_source_uris=SOURCE_URI,\n",
    "        gcs_source_type=\"csv\",\n",
    "        entity_id_field=ENTITY_ID_FIELD,\n",
    "        disable_online_serving=False,\n",
    "        worker_count=10,\n",
    "        sync=True,\n",
    "    )\n",
    "except RuntimeError as error:\n",
    "    print(error)"
   ]
  },
  {
   "cell_type": "markdown",
   "metadata": {
    "id": "bec74a816daf"
   },
   "source": [
    "创造要素获取配置"
   ]
  },
  {
   "cell_type": "markdown",
   "metadata": {
    "id": "b1131367aeec"
   },
   "source": [
    "## 特征提取配置协议：\n",
    "\n",
    "```protobuf\n",
    "message FeatureFetchConfig {\n",
    "  // 在特征被提取后，内部预测请求的格式会自动生成。目前，预测支持XGBoost、TensorFlow和scikit-learn，即将开始支持Pytorch。在这些框架中，XGBoost仅支持数组输入格式（即输入特征以数组形式呈现），而其他三个框架则可以允许字典格式和数组格式的输入。\n",
    "  ModelInputFormat model_input_format = 3;\n",
    "  enum ModelInputFormat {\n",
    "    MODEL_INPUT_FORMAT_UNSPECIFIED = 0;\n",
    "    ARRAY = 1;\n",
    "    DICT = 2;\n",
    "  }\n",
    "\n",
    "  // 指定预测输入的细节\n",
    "  repeated Feature features = 4;\n",
    "  message Feature {\n",
    "    // 在internal_request_format = DICT时，这个value_key被用作内部预测请求中特征值的键。在FeatureFetchConfig中，通过只使用value_key的Feature消息来表示透传特征。\n",
    "    string value_key = 1;\n",
    "\n",
    "    // 定义每个特征来自哪个特征存储。\n",
    "    FeatureSource feature_source = 2;\n",
    "    message FeatureSource {\n",
    "      // 从高层来看，FeatureSource有两个字段，entity_id_key是关于从哪里提取值的“行”，feature_resource_path是关于从哪里提取值的“列”。\n",
    "\n",
    "      // 指定用户发送给预测服务的外部请求中包含实体ID的键。\n",
    "      string entity_id_key = 1;\n",
    "\n",
    "      // URL格式的资源路径，用于识别实体类型。\n",
    "      // 格式应为\n",
    "      // projects/PROJECT/locations/LOCATION/featurestores/FEATURESTORE_ID/entityTypes/ENTITY_TYPE_ID/\n",
    "      // 例如\n",
    "      // \"projects/my-feature-store-project/locations/us-central1/featurestores/movie_predictions/entityTypes/movies/\"\n",
    "      string entity_type = 2;\n",
    "\n",
    "      // 在特征存储中定义的特征ID。\n",
    "      string feature_id = 3;\n",
    "    }\n",
    "  }\n",
    "}\n",
    "```"
   ]
  },
  {
   "cell_type": "markdown",
   "metadata": {
    "id": "092d012dfd27"
   },
   "source": [
    "生成特性提取配置"
   ]
  },
  {
   "cell_type": "code",
   "execution_count": null,
   "metadata": {
    "id": "7ee405070fe4"
   },
   "outputs": [],
   "source": [
    "FEATURE_FETCH_CONFIG_TEMPLATE = \"\"\"modelInputFormat: DICT\n",
    "features:\n",
    "- valueKey: user_pseudo_id\n",
    "- valueKey: country\n",
    "  featureSource:\n",
    "    entityIdKey: demographic\n",
    "    entityType: projects/{PROJECT_NUMBER}/locations/{REGION}/featurestores/{FEATURESTORE_ID}/entityTypes/demographic\n",
    "    featureId: country\n",
    "- valueKey: operating_system\n",
    "  featureSource:\n",
    "    entityIdKey: demographic\n",
    "    entityType: projects/{PROJECT_NUMBER}/locations/{REGION}/featurestores/{FEATURESTORE_ID}/entityTypes/demographic\n",
    "    featureId: operating_system\n",
    "- valueKey: language\n",
    "  featureSource:\n",
    "    entityIdKey: demographic\n",
    "    entityType: projects/{PROJECT_NUMBER}/locations/{REGION}/featurestores/{FEATURESTORE_ID}/entityTypes/demographic\n",
    "    featureId: language\n",
    "- valueKey: cnt_user_engagement\n",
    "  featureSource:\n",
    "    entityIdKey: behavior\n",
    "    entityType: projects/{PROJECT_NUMBER}/locations/{REGION}/featurestores/{FEATURESTORE_ID}/entityTypes/behavior\n",
    "    featureId: cnt_user_engagement\n",
    "- valueKey: cnt_level_start_quickplay\n",
    "  featureSource:\n",
    "    entityIdKey: behavior\n",
    "    entityType: projects/{PROJECT_NUMBER}/locations/{REGION}/featurestores/{FEATURESTORE_ID}/entityTypes/behavior\n",
    "    featureId: cnt_level_start_quickplay\n",
    "- valueKey: cnt_level_end_quickplay\n",
    "  featureSource:\n",
    "    entityIdKey: behavior\n",
    "    entityType: projects/{PROJECT_NUMBER}/locations/{REGION}/featurestores/{FEATURESTORE_ID}/entityTypes/behavior\n",
    "    featureId: cnt_level_end_quickplay\n",
    "- valueKey: cnt_level_complete_quickplay\n",
    "  featureSource:\n",
    "    entityIdKey: behavior\n",
    "    entityType: projects/{PROJECT_NUMBER}/locations/{REGION}/featurestores/{FEATURESTORE_ID}/entityTypes/behavior\n",
    "    featureId: cnt_level_complete_quickplay\n",
    "- valueKey: cnt_level_reset_quickplay\n",
    "  featureSource:\n",
    "    entityIdKey: behavior\n",
    "    entityType: projects/{PROJECT_NUMBER}/locations/{REGION}/featurestores/{FEATURESTORE_ID}/entityTypes/behavior\n",
    "    featureId: cnt_level_reset_quickplay\n",
    "- valueKey: cnt_post_score\n",
    "  featureSource:\n",
    "    entityIdKey: behavior\n",
    "    entityType: projects/{PROJECT_NUMBER}/locations/{REGION}/featurestores/{FEATURESTORE_ID}/entityTypes/behavior\n",
    "    featureId: cnt_post_score\n",
    "- valueKey: cnt_spend_virtual_currency\n",
    "  featureSource:\n",
    "    entityIdKey: behavior\n",
    "    entityType: projects/{PROJECT_NUMBER}/locations/{REGION}/featurestores/{FEATURESTORE_ID}/entityTypes/behavior\n",
    "    featureId: cnt_spend_virtual_currency\n",
    "- valueKey: cnt_ad_reward\n",
    "  featureSource:\n",
    "    entityIdKey: behavior\n",
    "    entityType: projects/{PROJECT_NUMBER}/locations/{REGION}/featurestores/{FEATURESTORE_ID}/entityTypes/behavior\n",
    "    featureId: cnt_ad_reward\n",
    "- valueKey: cnt_challenge_a_friend\n",
    "  featureSource:\n",
    "    entityIdKey: behavior\n",
    "    entityType: projects/{PROJECT_NUMBER}/locations/{REGION}/featurestores/{FEATURESTORE_ID}/entityTypes/behavior\n",
    "    featureId: cnt_challenge_a_friend\n",
    "- valueKey: cnt_completed_5_levels\n",
    "  featureSource:\n",
    "    entityIdKey: behavior\n",
    "    entityType: projects/{PROJECT_NUMBER}/locations/{REGION}/featurestores/{FEATURESTORE_ID}/entityTypes/behavior\n",
    "    featureId: cnt_completed_5_levels\n",
    "- valueKey: cnt_use_extra_steps\n",
    "  featureSource:\n",
    "    entityIdKey: behavior\n",
    "    entityType: projects/{PROJECT_NUMBER}/locations/{REGION}/featurestores/{FEATURESTORE_ID}/entityTypes/behavior\n",
    "    featureId: cnt_use_extra_steps\n",
    "- valueKey: month\n",
    "  featureSource:\n",
    "    entityIdKey: behavior\n",
    "    entityType: projects/{PROJECT_NUMBER}/locations/{REGION}/featurestores/{FEATURESTORE_ID}/entityTypes/behavior\n",
    "    featureId: month\n",
    "- valueKey: julianday\n",
    "  featureSource:\n",
    "    entityIdKey: behavior\n",
    "    entityType: projects/{PROJECT_NUMBER}/locations/{REGION}/featurestores/{FEATURESTORE_ID}/entityTypes/behavior\n",
    "    featureId: julianday\n",
    "- valueKey: dayofweek\n",
    "  featureSource:\n",
    "    entityIdKey: behavior\n",
    "    entityType: projects/{PROJECT_NUMBER}/locations/{REGION}/featurestores/{FEATURESTORE_ID}/entityTypes/behavior\n",
    "    featureId: dayofweek\"\"\""
   ]
  },
  {
   "cell_type": "code",
   "execution_count": null,
   "metadata": {
    "id": "767d211e77ff"
   },
   "outputs": [],
   "source": [
    "feature_fetch_config = FEATURE_FETCH_CONFIG_TEMPLATE.format(\n",
    "    PROJECT_NUMBER=PROJECT_NUMBER, REGION=REGION, FEATURESTORE_ID=FEATURESTORE_ID\n",
    ")"
   ]
  },
  {
   "cell_type": "code",
   "execution_count": null,
   "metadata": {
    "id": "be646e50a3aa"
   },
   "outputs": [],
   "source": [
    "print(feature_fetch_config)"
   ]
  },
  {
   "cell_type": "code",
   "execution_count": null,
   "metadata": {
    "id": "f4b685628924"
   },
   "outputs": [],
   "source": [
    "with open(\"prediction_featuresstore_fetch_config.yaml\", \"w\") as f:\n",
    "    f.write(feature_fetch_config)"
   ]
  },
  {
   "cell_type": "code",
   "execution_count": null,
   "metadata": {
    "id": "9156a38ac8b4"
   },
   "outputs": [],
   "source": [
    "# Remove if the file already exists\n",
    "!gsutil rm $BUCKET_URI/prediction_featuresstore_fetch_config.yaml"
   ]
  },
  {
   "cell_type": "code",
   "execution_count": null,
   "metadata": {
    "id": "9ac494223985"
   },
   "outputs": [],
   "source": [
    "!gsutil cp prediction_featuresstore_fetch_config.yaml $BUCKET_URI"
   ]
  },
  {
   "cell_type": "markdown",
   "metadata": {
    "id": "5e58334c94b6"
   },
   "source": [
    "与顶点预测集成"
   ]
  },
  {
   "cell_type": "markdown",
   "metadata": {
    "id": "b4dfbffa88e0"
   },
   "source": [
    "上传模型"
   ]
  },
  {
   "cell_type": "code",
   "execution_count": null,
   "metadata": {
    "id": "43b28a15eae9"
   },
   "outputs": [],
   "source": [
    "DEPLOY_IMAGE = \"us-docker.pkg.dev/vertex-ai/prediction/tf2-cpu.2-7:latest\"\n",
    "DISPLAY_NAME = \"mobile_gaming_featureStore_integration_\""
   ]
  },
  {
   "cell_type": "code",
   "execution_count": null,
   "metadata": {
    "id": "03e6cf99f099"
   },
   "outputs": [],
   "source": [
    "model = aiplatform.Model.upload(\n",
    "    display_name=DISPLAY_NAME + TIMESTAMP,\n",
    "    artifact_uri=BUCKET_URI,\n",
    "    serving_container_image_uri=DEPLOY_IMAGE,\n",
    "    sync=False,\n",
    ")\n",
    "\n",
    "model.wait()"
   ]
  },
  {
   "cell_type": "markdown",
   "metadata": {
    "id": "9bb077790432"
   },
   "source": [
    "## 在线预测"
   ]
  },
  {
   "cell_type": "markdown",
   "metadata": {
    "id": "eaaf2d7adf0d"
   },
   "source": [
    "### 部署模型"
   ]
  },
  {
   "cell_type": "code",
   "execution_count": null,
   "metadata": {
    "id": "dc5406d7e46c"
   },
   "outputs": [],
   "source": [
    "DEPLOYED_NAME = DISPLAY_NAME + TIMESTAMP\n",
    "\n",
    "TRAFFIC_SPLIT = {\"0\": 100}\n",
    "\n",
    "MACHINE_TYPE = \"n1-standard-4\"\n",
    "\n",
    "MIN_NODES = 1\n",
    "MAX_NODES = 1\n",
    "\n",
    "endpoint = model.deploy(\n",
    "    deployed_model_display_name=DEPLOYED_NAME,\n",
    "    traffic_split=TRAFFIC_SPLIT,\n",
    "    machine_type=MACHINE_TYPE,\n",
    "    min_replica_count=MIN_NODES,\n",
    "    max_replica_count=MAX_NODES,\n",
    "    service_account=SERVICE_ACCOUNT,\n",
    ")"
   ]
  },
  {
   "cell_type": "markdown",
   "metadata": {
    "id": "fc1e1f273ed2"
   },
   "source": [
    "### 预测"
   ]
  },
  {
   "cell_type": "code",
   "execution_count": null,
   "metadata": {
    "id": "c83e8207bf74"
   },
   "outputs": [],
   "source": [
    "default_pred_request = [\n",
    "    {\n",
    "        \"user_pseudo_id\": \"AB0F2EE5F9F401763BE1E9FA55410312\",\n",
    "        \"country\": \"Australia\",\n",
    "        \"operating_system\": \"IOS\",\n",
    "        \"language\": \"en-au\",\n",
    "        \"cnt_user_engagement\": 3.0,\n",
    "        \"cnt_level_start_quickplay\": 1.0,\n",
    "        \"cnt_level_end_quickplay\": 0.0,\n",
    "        \"cnt_level_complete_quickplay\": 0.0,\n",
    "        \"cnt_level_reset_quickplay\": 0.0,\n",
    "        \"cnt_post_score\": 0.0,\n",
    "        \"cnt_spend_virtual_currency\": 0.0,\n",
    "        \"cnt_ad_reward\": 0.0,\n",
    "        \"cnt_challenge_a_friend\": 0.0,\n",
    "        \"cnt_completed_5_levels\": 0.0,\n",
    "        \"cnt_use_extra_steps\": 0.0,\n",
    "        \"month\": 7,\n",
    "        \"julianday\": 194,\n",
    "        \"dayofweek\": 6,\n",
    "    },\n",
    "    {\n",
    "        \"user_pseudo_id\": \"E5D16173400729E05DFFB4883FA6EF1C\",\n",
    "        \"country\": \"United States\",\n",
    "        \"operating_system\": \"IOS\",\n",
    "        \"language\": \"en-us\",\n",
    "        \"cnt_user_engagement\": 1.0,\n",
    "        \"cnt_level_start_quickplay\": 1.0,\n",
    "        \"cnt_level_end_quickplay\": 0.0,\n",
    "        \"cnt_level_complete_quickplay\": 0.0,\n",
    "        \"cnt_level_reset_quickplay\": 0.0,\n",
    "        \"cnt_post_score\": 0.0,\n",
    "        \"cnt_spend_virtual_currency\": 0.0,\n",
    "        \"cnt_ad_reward\": 0.0,\n",
    "        \"cnt_challenge_a_friend\": 0.0,\n",
    "        \"cnt_completed_5_levels\": 0.0,\n",
    "        \"cnt_use_extra_steps\": 0.0,\n",
    "        \"month\": 6,\n",
    "        \"julianday\": 173,\n",
    "        \"dayofweek\": 6,\n",
    "    },\n",
    "]"
   ]
  },
  {
   "cell_type": "code",
   "execution_count": null,
   "metadata": {
    "id": "430fe30f0878"
   },
   "outputs": [],
   "source": [
    "fs_pred_request = [\n",
    "    {\n",
    "        \"user_pseudo_id\": \"AB0F2EE5F9F401763BE1E9FA55410312\",\n",
    "        \"demographic\": \"AB0F2EE5F9F401763BE1E9FA55410312\",\n",
    "        \"behavior\": \"AB0F2EE5F9F401763BE1E9FA55410312\",\n",
    "    },\n",
    "    {\n",
    "        \"user_pseudo_id\": \"E5D16173400729E05DFFB4883FA6EF1C\",\n",
    "        \"demographic\": \"E5D16173400729E05DFFB4883FA6EF1C\",\n",
    "        \"behavior\": \"E5D16173400729E05DFFB4883FA6EF1C\",\n",
    "    },\n",
    "]"
   ]
  },
  {
   "cell_type": "markdown",
   "metadata": {
    "id": "496710f4bb97"
   },
   "source": [
    "从特征存储中提取的特征可以被覆盖。"
   ]
  },
  {
   "cell_type": "code",
   "execution_count": null,
   "metadata": {
    "id": "a8c4c871a305"
   },
   "outputs": [],
   "source": [
    "fs_pred_request_with_overridden_features = [\n",
    "    {\n",
    "        \"user_pseudo_id\": \"AB0F2EE5F9F401763BE1E9FA55410312\",\n",
    "        \"demographic\": \"AB0F2EE5F9F401763BE1E9FA55410312\",\n",
    "        \"behavior\": \"AB0F2EE5F9F401763BE1E9FA55410312\",\n",
    "        \"cnt_ad_reward\": 10.0,\n",
    "        \"cnt_challenge_a_friend\": 10.0,\n",
    "        \"cnt_completed_5_levels\": 10.0,\n",
    "        \"cnt_use_extra_steps\": 10.0,\n",
    "    },\n",
    "    {\n",
    "        \"user_pseudo_id\": \"E5D16173400729E05DFFB4883FA6EF1C\",\n",
    "        \"demographic\": \"E5D16173400729E05DFFB4883FA6EF1C\",\n",
    "        \"behavior\": \"E5D16173400729E05DFFB4883FA6EF1C\",\n",
    "        \"cnt_ad_reward\": 10.0,\n",
    "        \"cnt_challenge_a_friend\": 10.0,\n",
    "        \"cnt_completed_5_levels\": 10.0,\n",
    "        \"cnt_use_extra_steps\": 10.0,\n",
    "    },\n",
    "]"
   ]
  },
  {
   "cell_type": "code",
   "execution_count": null,
   "metadata": {
    "id": "7bd959dc40c6"
   },
   "outputs": [],
   "source": [
    "endpoint.predict([default_pred_request[0]])"
   ]
  },
  {
   "cell_type": "code",
   "execution_count": null,
   "metadata": {
    "id": "bd0a77f5f49f"
   },
   "outputs": [],
   "source": [
    "default_response = endpoint.predict(default_pred_request)"
   ]
  },
  {
   "cell_type": "code",
   "execution_count": null,
   "metadata": {
    "id": "ddf8a41c4844"
   },
   "outputs": [],
   "source": [
    "print(default_response)"
   ]
  },
  {
   "cell_type": "markdown",
   "metadata": {
    "id": "36ddbb811f47"
   },
   "source": [
    "单例"
   ]
  },
  {
   "cell_type": "code",
   "execution_count": null,
   "metadata": {
    "id": "d1c5c7ae4015"
   },
   "outputs": [],
   "source": [
    "endpoint.predict([fs_pred_request[0]])"
   ]
  },
  {
   "cell_type": "code",
   "execution_count": null,
   "metadata": {
    "id": "78d40546ec32"
   },
   "outputs": [],
   "source": [
    "endpoint.predict([fs_pred_request_with_overridden_features[0]])"
   ]
  },
  {
   "cell_type": "markdown",
   "metadata": {
    "id": "81e5fde2d430"
   },
   "source": [
    "多个实例"
   ]
  },
  {
   "cell_type": "code",
   "execution_count": null,
   "metadata": {
    "id": "64e4735f3f6a"
   },
   "outputs": [],
   "source": [
    "fs_response = endpoint.predict(fs_pred_request)"
   ]
  },
  {
   "cell_type": "code",
   "execution_count": null,
   "metadata": {
    "id": "12ff29927bf9"
   },
   "outputs": [],
   "source": [
    "print(fs_response)"
   ]
  },
  {
   "cell_type": "code",
   "execution_count": null,
   "metadata": {
    "id": "8f842f1b6b32"
   },
   "outputs": [],
   "source": [
    "fs_with_overridden_features_response = endpoint.predict(\n",
    "    fs_pred_request_with_overridden_features\n",
    ")"
   ]
  },
  {
   "cell_type": "code",
   "execution_count": null,
   "metadata": {
    "id": "705ebe0b6cdf"
   },
   "outputs": [],
   "source": [
    "print(fs_with_overridden_features_response)"
   ]
  },
  {
   "cell_type": "markdown",
   "metadata": {
    "id": "68db6bc5e8b2"
   },
   "source": [
    "### 比较响应"
   ]
  },
  {
   "cell_type": "code",
   "execution_count": null,
   "metadata": {
    "id": "912daf9b976b"
   },
   "outputs": [],
   "source": [
    "print(default_response.predictions == fs_response.predictions)"
   ]
  },
  {
   "cell_type": "markdown",
   "metadata": {
    "id": "3ce09d9bc5a5"
   },
   "source": [
    "# 清理"
   ]
  },
  {
   "cell_type": "code",
   "execution_count": null,
   "metadata": {
    "id": "c5f566238d9a"
   },
   "outputs": [],
   "source": [
    "# delete feature store\n",
    "mobile_gaming_feature_store.delete(sync=True, force=True)"
   ]
  },
  {
   "cell_type": "code",
   "execution_count": null,
   "metadata": {
    "id": "540b19cca2bb"
   },
   "outputs": [],
   "source": [
    "# delete Vertex AI resources\n",
    "endpoint.undeploy_all()\n",
    "endpoint.delete()\n",
    "model.delete"
   ]
  },
  {
   "cell_type": "code",
   "execution_count": null,
   "metadata": {
    "id": "42172d5bc91b"
   },
   "outputs": [],
   "source": [
    "# Delete bucket\n",
    "!gsutil -m rm -r $BUCKET_URI"
   ]
  }
 ],
 "metadata": {
  "colab": {
   "name": "prediction_featurestore_integration.ipynb",
   "toc_visible": true
  },
  "kernelspec": {
   "display_name": "Python 3 (ipykernel)",
   "language": "python",
   "name": "python3"
  },
  "language_info": {
   "codemirror_mode": {
    "name": "ipython",
    "version": 3
   },
   "file_extension": ".py",
   "mimetype": "text/x-python",
   "name": "python",
   "nbconvert_exporter": "python",
   "pygments_lexer": "ipython3",
   "version": "3.10.9"
  }
 },
 "nbformat": 4,
 "nbformat_minor": 4
}
