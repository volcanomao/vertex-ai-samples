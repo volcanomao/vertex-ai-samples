{
 "cells": [
  {
   "cell_type": "code",
   "execution_count": null,
   "metadata": {
    "id": "ur8xi4C7S06n"
   },
   "outputs": [],
   "source": [
    "# Copyright 2022 Google LLC\n",
    "#\n",
    "# Licensed under the Apache License, Version 2.0 (the \"License\");\n",
    "# you may not use this file except in compliance with the License.\n",
    "# You may obtain a copy of the License at\n",
    "#\n",
    "#     https://www.apache.org/licenses/LICENSE-2.0\n",
    "#\n",
    "# Unless required by applicable law or agreed to in writing, software\n",
    "# distributed under the License is distributed on an \"AS IS\" BASIS,\n",
    "# WITHOUT WARRANTIES OR CONDITIONS OF ANY KIND, either express or implied.\n",
    "# See the License for the specific language governing permissions and\n",
    "# limitations under the License."
   ]
  },
  {
   "cell_type": "markdown",
   "metadata": {
    "id": "JAPoU8Sm5E6e"
   },
   "source": [
    "<table align=\"left\">\n",
    "  <td>\n",
    "    <a href=\"https://colab.research.google.com/github/GoogleCloudPlatform/vertex-ai-samples/blob/main/notebooks/community/feature_store/sdk-feature-store.ipynb\"\">\n",
    "      <img src=\"https://cloud.google.com/ml-engine/images/colab-logo-32px.png\" alt=\"Colab logo\"> 在Colab中运行\n",
    "    </a>\n",
    "  </td>\n",
    "  <td>\n",
    "    <a href=\"https://github.com/GoogleCloudPlatform/vertex-ai-samples/blob/main/notebooks/community/feature_store/sdk-feature-store.ipynb\">\n",
    "      <img src=\"https://cloud.google.com/ml-engine/images/github-logo-32px.png\" alt=\"GitHub logo\">\n",
    "      在GitHub上查看\n",
    "    </a>\n",
    "  </td>\n",
    "</table>"
   ]
  },
  {
   "cell_type": "markdown",
   "metadata": {
    "id": "tvgnzT1CKxrO"
   },
   "source": [
    "## 概观\n",
    "\n",
    "这个Colab介绍了Vertex AI Feature Store，这是一种托管的云服务，供机器学习工程师和数据科学家存储、提供、管理和共享大规模的机器学习特征。\n",
    "\n",
    "本Colab假设您了解基本的Google Cloud概念，如[项目](https://cloud.google.com/storage/docs/projects)、[存储](https://cloud.google.com/storage)和[Vertex AI](https://cloud.google.com/vertex-ai/docs)。一些机器学习知识也有帮助，但不是必需的。\n",
    "\n",
    "### 数据集\n",
    "\n",
    "这个Colab在所有会话中使用一个电影推荐数据集作为示例。任务是训练一个模型来预测用户是否会观看一部电影，并在线提供这个模型。\n",
    "\n",
    "### 目标\n",
    "\n",
    "在这个笔记本中，您将学习如何：\n",
    "\n",
    "    * 创建特征存储、实体类型和特征资源。\n",
    "    * 将您的特征导入Vertex AI Feature Store。\n",
    "    * 使用导入的特征提供在线预测请求。\n",
    "    * 访问离线作业中导入的特征，如训练作业。\n",
    "\n",
    "### 成本\n",
    "\n",
    "本教程使用Google Cloud的可计费组件：\n",
    "\n",
    "* Vertex AI\n",
    "* Cloud Storage\n",
    "* Cloud BigQuery\n",
    "\n",
    "了解[Vertex AI定价](https://cloud.google.com/vertex-ai/pricing)和[Cloud Storage定价](https://cloud.google.com/storage/pricing)，并使用[Pricing 计算器](https://cloud.google.com/products/calculator/)根据您的预期使用量生成成本估算。"
   ]
  },
  {
   "cell_type": "markdown",
   "metadata": {
    "id": "ze4-nDLfK4pw"
   },
   "source": [
    "### 设置本地开发环境\n",
    "\n",
    "**如果您正在使用Colab或Google Cloud笔记本**，您的环境已经满足运行本笔记本的所有要求。您可以跳过此步骤。"
   ]
  },
  {
   "cell_type": "markdown",
   "metadata": {
    "id": "gCuSR8GkAgzl"
   },
   "source": [
    "否则，请确保您的环境符合此笔记本的要求。\n",
    "您需要以下内容：\n",
    "\n",
    "* Google Cloud SDK\n",
    "* Git\n",
    "* Python 3\n",
    "* virtualenv\n",
    "* 在使用 Python 3 的虚拟环境中运行的 Jupyter notebook\n",
    "\n",
    "Google Cloud 的[设置 Python 开发环境指南](https://cloud.google.com/python/setup)和[Jupyter 安装指南](https://jupyter.org/install)提供了满足这些要求的详细说明。以下步骤提供了简明的一组说明：\n",
    "\n",
    "1. [安装并初始化 Cloud SDK。](https://cloud.google.com/sdk/docs/)\n",
    "\n",
    "2. [安装 Python 3。](https://cloud.google.com/python/setup#installing_python)\n",
    "\n",
    "3. [安装 virtualenv](https://cloud.google.com/python/setup#installing_and_using_virtualenv)并创建一个使用 Python 3 的虚拟环境。激活虚拟环境。\n",
    "\n",
    "4. 要安装 Jupyter，请在终端 shell 中的命令行中运行 `pip install jupyter`。\n",
    "\n",
    "5. 要启动 Jupyter，请在终端 shell 的命令行中运行 `jupyter notebook`。\n",
    "\n",
    "6. 在 Jupyter Notebook 仪表板中打开本笔记本。"
   ]
  },
  {
   "cell_type": "markdown",
   "metadata": {
    "id": "lWEdiXsJg0XY"
   },
   "source": [
    "在你开始之前"
   ]
  },
  {
   "cell_type": "markdown",
   "metadata": {
    "id": "i7EUnXsZhAGF"
   },
   "source": [
    "### 安装额外的包\n",
    "\n",
    "对于这个Colab，您需要安装Python的Vertex SDK。"
   ]
  },
  {
   "cell_type": "code",
   "execution_count": null,
   "metadata": {
    "id": "2b4ef9b72d43"
   },
   "outputs": [],
   "source": [
    "import os\n",
    "\n",
    "# The Google Cloud Notebook product has specific requirements\n",
    "IS_GOOGLE_CLOUD_NOTEBOOK = os.path.exists(\"/opt/deeplearning/metadata/env_version\")\n",
    "\n",
    "# Google Cloud Notebook requires dependencies to be installed with '--user'\n",
    "USER_FLAG = \"\"\n",
    "if IS_GOOGLE_CLOUD_NOTEBOOK:\n",
    "    USER_FLAG = \"--user\""
   ]
  },
  {
   "cell_type": "code",
   "execution_count": null,
   "metadata": {
    "id": "wyy5Lbnzg5fi"
   },
   "outputs": [],
   "source": [
    "! pip install {USER_FLAG} --upgrade google-cloud-aiplatform"
   ]
  },
  {
   "cell_type": "markdown",
   "metadata": {
    "id": "hhq5zEbGg0XX"
   },
   "source": [
    "### 重新启动内核\n",
    "\n",
    "安装SDK后，您需要重新启动笔记本内核以便找到这些包。您可以从 *Kernel -> Restart Kernel* 重新启动内核，或者运行以下命令："
   ]
  },
  {
   "cell_type": "code",
   "execution_count": null,
   "metadata": {
    "id": "EzrelQZ22IZj"
   },
   "outputs": [],
   "source": [
    "# Automatically restart kernel after installs\n",
    "import os\n",
    "\n",
    "if not os.getenv(\"IS_TESTING\"):\n",
    "    # Automatically restart kernel after installs\n",
    "    import IPython\n",
    "\n",
    "    app = IPython.Application.instance()\n",
    "    app.kernel.do_shutdown(True)"
   ]
  },
  {
   "cell_type": "markdown",
   "metadata": {
    "id": "BF1j6f9HApxa"
   },
   "source": [
    "### 设置您的Google Cloud项目\n",
    "\n",
    "**无论您使用哪种笔记本环境，以下步骤都是必需的。**\n",
    "\n",
    "1. [选择或创建一个Google Cloud项目](https://console.cloud.google.com/cloud-resource-manager)。当您首次创建账户时，您将获得300美元的免费信用额度，可用于支付计算/存储成本。\n",
    "\n",
    "1. [确保您的项目已启用计费](https://cloud.google.com/billing/docs/how-to/modify-project)。\n",
    "\n",
    "1. [启用Vertex AI API和Compute Engine API](https://console.cloud.google.com/flows/enableapi?apiid=aiplatform.googleapis.com,compute_component)。\n",
    "\n",
    "1. 如果您正在本地运行这个笔记本，您需要安装[Cloud SDK](https://cloud.google.com/sdk)。\n",
    "\n",
    "1. 在下面的单元格中输入您的项目ID。然后运行该单元格以确保Cloud SDK在本笔记本中的所有命令中使用正确的项目。\n",
    "\n",
    "**注意**：Jupyter将以`!`前缀开头的行作为shell命令运行，并将以`$`前缀开头的Python变量插入这些命令中。"
   ]
  },
  {
   "cell_type": "markdown",
   "metadata": {
    "id": "WReHDGG5g0XY"
   },
   "source": [
    "设置您的项目ID\n",
    "\n",
    "**如果您不知道您的项目ID**，您可以使用`gcloud`来获取您的项目ID。"
   ]
  },
  {
   "cell_type": "code",
   "execution_count": null,
   "metadata": {
    "id": "oM1iC_MfAts1"
   },
   "outputs": [],
   "source": [
    "import os\n",
    "\n",
    "PROJECT_ID = \"\"\n",
    "\n",
    "# Get your Google Cloud project ID from gcloud\n",
    "if not os.getenv(\"IS_TESTING\"):\n",
    "    shell_output = !gcloud config list --format 'value(core.project)' 2>/dev/null\n",
    "    PROJECT_ID = shell_output[0]\n",
    "    print(\"Project ID: \", PROJECT_ID)"
   ]
  },
  {
   "cell_type": "markdown",
   "metadata": {
    "id": "qJYoRfYng0XZ"
   },
   "source": [
    "否则，请在这里设置您的项目ID。"
   ]
  },
  {
   "cell_type": "code",
   "execution_count": null,
   "metadata": {
    "id": "riG_qUokg0XZ"
   },
   "outputs": [],
   "source": [
    "if PROJECT_ID == \"\" or PROJECT_ID is None:\n",
    "    PROJECT_ID = \"[your-project-id]\"  # @param {type:\"string\"}\n",
    "print(\"Project ID: \", PROJECT_ID)"
   ]
  },
  {
   "cell_type": "markdown",
   "metadata": {
    "id": "dr--iN2kAylZ"
   },
   "source": [
    "### 验证您的Google Cloud帐户\n",
    "\n",
    "**如果您正在使用Google Cloud记事本**，您的环境已经经过身份验证。请跳过此步骤。"
   ]
  },
  {
   "cell_type": "markdown",
   "metadata": {
    "id": "sBCra4QMA2wR"
   },
   "source": [
    "如果您正在使用Colab，请运行下面的单元格，并按提示进行oAuth身份验证。\n",
    "\n",
    "否则，请按照以下步骤操作：\n",
    "\n",
    "1. 在Cloud控制台中，转到[**创建服务帐号密钥**页面](https://console.cloud.google.com/apis/credentials/serviceaccountkey)。\n",
    "\n",
    "2. 点击**创建服务帐号**。\n",
    "\n",
    "3. 在**服务帐号名称**字段中输入名称，然后点击**创建**。\n",
    "\n",
    "4. 在**将此服务帐号授予项目访问权限**部分，点击**角色**下拉列表。在过滤框中输入\"Vertex AI\"，然后选择**Vertex AI管理员**。在过滤框中输入\"Storage Object Admin\"，然后选择**Storage Object Admin**。\n",
    "\n",
    "5. 点击**创建**。包含您密钥的JSON文件将下载到您的本地环境。\n",
    "\n",
    "6. 在下面的单元格中将您的服务帐号密钥路径输入为`GOOGLE_APPLICATION_CREDENTIALS`变量，然后运行该单元格。"
   ]
  },
  {
   "cell_type": "code",
   "execution_count": null,
   "metadata": {
    "id": "PyQmSRbKA8r-"
   },
   "outputs": [],
   "source": [
    "import os\n",
    "import sys\n",
    "\n",
    "# If you are running this notebook in Colab, run this cell and follow the\n",
    "# instructions to authenticate your GCP account. This provides access to your\n",
    "# Cloud Storage bucket and lets you submit training jobs and prediction\n",
    "# requests.\n",
    "\n",
    "# The Google Cloud Notebook product has specific requirements\n",
    "IS_GOOGLE_CLOUD_NOTEBOOK = os.path.exists(\"/opt/deeplearning/metadata/env_version\")\n",
    "\n",
    "# If on Google Cloud Notebooks, then don't execute this code\n",
    "if not IS_GOOGLE_CLOUD_NOTEBOOK:\n",
    "    if \"google.colab\" in sys.modules:\n",
    "        from google.colab import auth as google_auth\n",
    "\n",
    "        google_auth.authenticate_user()\n",
    "\n",
    "    # If you are running this notebook locally, replace the string below with the\n",
    "    # path to your service account key and run this cell to authenticate your GCP\n",
    "    # account.\n",
    "    elif not os.getenv(\"IS_TESTING\"):\n",
    "        %env GOOGLE_APPLICATION_CREDENTIALS ''"
   ]
  },
  {
   "cell_type": "markdown",
   "metadata": {
    "id": "XoEqT2Y4DJmf"
   },
   "source": [
    "### 导入库并定义常量"
   ]
  },
  {
   "cell_type": "code",
   "execution_count": null,
   "metadata": {
    "id": "Cdct_Lm7x2I_"
   },
   "outputs": [],
   "source": [
    "from google.cloud import aiplatform\n",
    "from google.cloud.aiplatform import Feature, Featurestore\n",
    "\n",
    "REGION = \"[your-region]\"  # @param {type:\"string\"}\n",
    "FEATURESTORE_ID = \"movie_prediction\"\n",
    "INPUT_CSV_FILE = \"gs://cloud-samples-data-us-central1/vertex-ai/feature-store/datasets/movie_prediction.csv\"\n",
    "ONLINE_STORE_FIXED_NODE_COUNT = 1\n",
    "\n",
    "aiplatform.init(project=PROJECT_ID, location=REGION)"
   ]
  },
  {
   "cell_type": "markdown",
   "metadata": {
    "id": "h_HmF24mBHv9"
   },
   "source": [
    "## 术语和概念\n",
    "\n",
    "### 功能存储数据模型\n",
    "\n",
    "Vertex AI Feature Store以以下3个重要的层次概念组织数据：\n",
    "```\n",
    "功能存储 -> 实体类型 -> 功能\n",
    "```\n",
    "* **功能存储**: 存储功能的地方\n",
    "* **实体类型**: 在功能存储下，实体类型描述要建模的对象，可以是真实的也可以是虚拟的。\n",
    "* **功能**: 在实体类型下，功能描述实体类型的属性\n",
    "\n",
    "在电影预测示例中，您将创建一个名为`movie_prediction`的功能存储。该存储有2个实体类型：`users`和`movies`。 `users`实体类型具有`age`， `gender` 和 `liked_genres`功能。`movies`实体类型具有`titles`， `genres` 和 `average rating`功能。"
   ]
  },
  {
   "cell_type": "markdown",
   "metadata": {
    "id": "9UvxYyGUimKw"
   },
   "source": [
    "创建特征存储并定义模式"
   ]
  },
  {
   "cell_type": "markdown",
   "metadata": {
    "id": "buQBIv3ZL3A0"
   },
   "source": [
    "创建特征存储\n",
    "\n",
    "创建特征存储的方法返回一个长时间运行的操作（LRO）。 LRO启动一个异步任务。 对于其他API方法，例如更新或删除特征存储，也会返回LRO。 运行代码单元将创建一个特征存储并打印过程日志。"
   ]
  },
  {
   "cell_type": "code",
   "execution_count": null,
   "metadata": {
    "id": "D6uIWQeoBSr8"
   },
   "outputs": [],
   "source": [
    "fs = Featurestore.create(\n",
    "    featurestore_id=FEATURESTORE_ID,\n",
    "    online_store_fixed_node_count=ONLINE_STORE_FIXED_NODE_COUNT,\n",
    "    project=PROJECT_ID,\n",
    "    location=REGION,\n",
    "    sync=True,\n",
    ")"
   ]
  },
  {
   "cell_type": "markdown",
   "metadata": {
    "id": "ag8pCQ7rNjVf"
   },
   "source": [
    "使用下面的函数调用来检索一个特征存储，并检查它是否已创建。"
   ]
  },
  {
   "cell_type": "code",
   "execution_count": null,
   "metadata": {
    "id": "eKhD4q8rXjmM"
   },
   "outputs": [],
   "source": [
    "fs = Featurestore(\n",
    "    featurestore_name=FEATURESTORE_ID,\n",
    "    project=PROJECT_ID,\n",
    "    location=REGION,\n",
    ")\n",
    "print(fs.gca_resource)"
   ]
  },
  {
   "cell_type": "markdown",
   "metadata": {
    "id": "EpmJq75zXjmT"
   },
   "source": [
    "### 创建实体类型\n",
    "\n",
    "可以在特征存储类内创建实体类型。下面，创建用户实体类型和电影实体类型。将会打印出一个流程日志。"
   ]
  },
  {
   "cell_type": "code",
   "execution_count": null,
   "metadata": {
    "id": "GU0oXvINBgPV"
   },
   "outputs": [],
   "source": [
    "# Create users entity type\n",
    "users_entity_type = fs.create_entity_type(\n",
    "    entity_type_id=\"users\",\n",
    "    description=\"Users entity\",\n",
    ")"
   ]
  },
  {
   "cell_type": "code",
   "execution_count": null,
   "metadata": {
    "id": "qPCGFznrFwFy"
   },
   "outputs": [],
   "source": [
    "# Create movies entity type\n",
    "movies_entity_type = fs.create_entity_type(\n",
    "    entity_type_id=\"movies\",\n",
    "    description=\"Movies entity\",\n",
    ")"
   ]
  },
  {
   "cell_type": "markdown",
   "metadata": {
    "id": "G0TS9i5SJnkt"
   },
   "source": [
    "要检索实体类型或检查它是否已创建，请在Featurestore对象上使用[get_entity_type](https://github.com/googleapis/python-aiplatform/blob/main/google/cloud/aiplatform/featurestore/featurestore.py#L106)或[list_entity_types](https://github.com/googleapis/python-aiplatform/blob/main/google/cloud/aiplatform/featurestore/featurestore.py#L278)方法。"
   ]
  },
  {
   "cell_type": "code",
   "execution_count": null,
   "metadata": {
    "id": "5DHcAyoFJmq9"
   },
   "outputs": [],
   "source": [
    "users_entity_type = fs.get_entity_type(entity_type_id=\"users\")\n",
    "movies_entity_type = fs.get_entity_type(entity_type_id=\"movies\")\n",
    "print(users_entity_type)\n",
    "print(movies_entity_type)"
   ]
  },
  {
   "cell_type": "code",
   "execution_count": null,
   "metadata": {
    "id": "EWMzDNFT5qf0"
   },
   "outputs": [],
   "source": [
    "fs.list_entity_types()"
   ]
  },
  {
   "cell_type": "markdown",
   "metadata": {
    "id": "FJW4q-0jO2Xf"
   },
   "source": [
    "### 创建特征\n",
    "可以在每个实体类型中创建特征。通过以下方法向用户实体类型和电影实体类型添加定义特征。"
   ]
  },
  {
   "cell_type": "code",
   "execution_count": null,
   "metadata": {
    "id": "PvjwT84iVSps"
   },
   "outputs": [],
   "source": [
    "# to create features one at a time use\n",
    "users_feature_age = users_entity_type.create_feature(\n",
    "    feature_id=\"age\",\n",
    "    value_type=\"INT64\",\n",
    "    description=\"User age\",\n",
    ")\n",
    "\n",
    "users_feature_gender = users_entity_type.create_feature(\n",
    "    feature_id=\"gender\",\n",
    "    value_type=\"STRING\",\n",
    "    description=\"User gender\",\n",
    ")\n",
    "\n",
    "users_feature_liked_genres = users_entity_type.create_feature(\n",
    "    feature_id=\"liked_genres\",\n",
    "    value_type=\"STRING_ARRAY\",\n",
    "    description=\"An array of genres this user liked\",\n",
    ")"
   ]
  },
  {
   "cell_type": "markdown",
   "metadata": {
    "id": "RQ9-AyFYBvcX"
   },
   "source": [
    "使用[list_features](https://github.com/googleapis/python-aiplatform/blob/main/google/cloud/aiplatform/featurestore/entity_type.py#L349)方法列出给定实体类型的所有特征。"
   ]
  },
  {
   "cell_type": "code",
   "execution_count": null,
   "metadata": {
    "id": "S5Lr8uXk1xD0"
   },
   "outputs": [],
   "source": [
    "users_entity_type.list_features()"
   ]
  },
  {
   "cell_type": "code",
   "execution_count": null,
   "metadata": {
    "id": "llTT9_Dgbac2"
   },
   "outputs": [],
   "source": [
    "movies_feature_configs = {\n",
    "    \"title\": {\n",
    "        \"value_type\": \"STRING\",\n",
    "        \"description\": \"The title of the movie\",\n",
    "    },\n",
    "    \"genres\": {\n",
    "        \"value_type\": \"STRING\",\n",
    "        \"description\": \"The genre of the movie\",\n",
    "    },\n",
    "    \"average_rating\": {\n",
    "        \"value_type\": \"DOUBLE\",\n",
    "        \"description\": \"The average rating for the movie, range is [1.0-5.0]\",\n",
    "    },\n",
    "}"
   ]
  },
  {
   "cell_type": "code",
   "execution_count": null,
   "metadata": {
    "id": "YhfOKJL_BvuM"
   },
   "outputs": [],
   "source": [
    "movie_features = movies_entity_type.batch_create_features(\n",
    "    feature_configs=movies_feature_configs,\n",
    ")"
   ]
  },
  {
   "cell_type": "markdown",
   "metadata": {
    "id": "xUVOzrAb1AFX"
   },
   "source": [
    "## 搜索创建的特征\n",
    "\n",
    "虽然 `list_features` 方法允许您轻松查看单个实体类型的所有特征，但 Feature 类中的 [search](https://github.com/googleapis/python-aiplatform/blob/main/google/cloud/aiplatform/featurestore/feature.py#L352) 方法可在给定位置（如 `us-central1`）跨所有特征存储和实体类型进行搜索，并返回特征列表。这可以帮助您发现其他人创建的特征。\n",
    "\n",
    "您可以基于特征属性进行查询，包括特征 ID、实体类型 ID 和特征描述。您还可以通过筛选特定的特征存储、特征值类型或标签来限制结果。以下是一些搜索示例。\n",
    "\n",
    "使用下面的代码片段搜索特征存储中的所有特征。"
   ]
  },
  {
   "cell_type": "code",
   "execution_count": null,
   "metadata": {
    "id": "OAiv8p8LMdLJ"
   },
   "outputs": [],
   "source": [
    "my_features = Feature.search(query=\"featurestore_id={}\".format(FEATURESTORE_ID))\n",
    "my_features"
   ]
  },
  {
   "cell_type": "markdown",
   "metadata": {
    "id": "jcxsiBUiIyvE"
   },
   "source": [
    "现在，将搜索范围缩小到类型为“DOUBLE”的特性。"
   ]
  },
  {
   "cell_type": "code",
   "execution_count": null,
   "metadata": {
    "id": "a9ovJSyEI4OZ"
   },
   "outputs": [],
   "source": [
    "double_features = Feature.search(\n",
    "    query=\"value_type=DOUBLE AND featurestore_id={}\".format(FEATURESTORE_ID)\n",
    ")\n",
    "double_features[0].gca_resource"
   ]
  },
  {
   "cell_type": "markdown",
   "metadata": {
    "id": "Wtr9tvH6JAOY"
   },
   "source": [
    "或者，将搜索结果限制在带有特定关键词的ID和类型特征上。"
   ]
  },
  {
   "cell_type": "code",
   "execution_count": null,
   "metadata": {
    "id": "3G1mNV1uJFBC"
   },
   "outputs": [],
   "source": [
    "title_features = Feature.search(\n",
    "    query=\"feature_id:title AND value_type=STRING AND featurestore_id={}\".format(\n",
    "        FEATURESTORE_ID\n",
    "    )\n",
    ")\n",
    "title_features[0].gca_resource"
   ]
  },
  {
   "cell_type": "markdown",
   "metadata": {
    "id": "K3n5XdK8Xjmw"
   },
   "source": [
    "导入特征值\n",
    "\n",
    "在您可以将特征值用于在线/离线服务之前，您需要先导入特征值。在这一步中，您将学习如何通过从GCS（Google Cloud Storage）中摄取值来导入特征值。我们也可以从BigQuery或Pandas dataframe中导入特征值。"
   ]
  },
  {
   "cell_type": "markdown",
   "metadata": {
    "id": "BlqJ-QdTcs6W"
   },
   "source": [
    "### 源数据格式和布局\n",
    "\n",
    "支持将BigQuery表/Avro/CSV作为输入数据类型。无论您使用什么格式，每个导入的实体都 *必须* 有一个ID；此外，每个实体可以 *选择性地* 具有一个时间戳，指定特征值生成的时间。这个Colab使用Avro作为输入，在这个公共 [bucket](https://console.cloud.google.com/storage/browser/cloud-samples-data-us-central1/vertex-ai/feature-store/datasets) 上。Avro模式如下：\n",
    "\n",
    "**对于用户实体**：\n",
    "```\n",
    "schema = {\n",
    "  \"type\": \"record\",\n",
    "  \"name\": \"User\",\n",
    "  \"fields\": [\n",
    "      {\n",
    "       \"name\":\"user_id\",\n",
    "       \"type\":[\"null\",\"string\"]\n",
    "      },\n",
    "      {\n",
    "       \"name\":\"age\",\n",
    "       \"type\":[\"null\",\"long\"]\n",
    "      },\n",
    "      {\n",
    "       \"name\":\"gender\",\n",
    "       \"type\":[\"null\",\"string\"]\n",
    "      },\n",
    "      {\n",
    "       \"name\":\"liked_genres\",\n",
    "       \"type\":{\"type\":\"array\",\"items\":\"string\"}\n",
    "      },\n",
    "      {\n",
    "       \"name\":\"update_time\",\n",
    "       \"type\":[\"null\",{\"type\":\"long\",\"logicalType\":\"timestamp-micros\"}]\n",
    "      },\n",
    "  ]\n",
    " }\n",
    "```\n",
    "\n",
    "**对于电影实体**：\n",
    "```\n",
    "schema = {\n",
    " \"type\": \"record\",\n",
    " \"name\": \"Movie\",\n",
    " \"fields\": [\n",
    "     {\n",
    "      \"name\":\"movie_id\",\n",
    "      \"type\":[\"null\",\"string\"]\n",
    "     },\n",
    "     {\n",
    "      \"name\":\"average_rating\",\n",
    "      \"type\":[\"null\",\"double\"]\n",
    "     },\n",
    "     {\n",
    "      \"name\":\"title\",\n",
    "      \"type\":[\"null\",\"string\"]\n",
    "     },\n",
    "     {\n",
    "      \"name\":\"genres\",\n",
    "      \"type\":[\"null\",\"string\"]\n",
    "     },\n",
    "     {\n",
    "      \"name\":\"update_time\",\n",
    "      \"type\":[\"null\",{\"type\":\"long\",\"logicalType\":\"timestamp-micros\"}]\n",
    "     },\n",
    " ]\n",
    "}\n",
    "```"
   ]
  },
  {
   "cell_type": "markdown",
   "metadata": {
    "id": "m7DyDa6chbJx"
   },
   "source": [
    "### 为用户实体类型导入特征值\n",
    "\n",
    "在导入时，在您的请求中指定以下内容：\n",
    "\n",
    "* 要导入的特征的ID\n",
    "* 数据源URI\n",
    "* 数据源格式：BigQuery Table/Avro/CSV"
   ]
  },
  {
   "cell_type": "code",
   "execution_count": null,
   "metadata": {
    "id": "dS8QbDPfkSEe"
   },
   "outputs": [],
   "source": [
    "USERS_FEATURES_IDS = [feature.name for feature in users_entity_type.list_features()]\n",
    "USERS_FEATURE_TIME = \"update_time\"\n",
    "USERS_ENTITY_ID_FIELD = \"user_id\"\n",
    "USERS_GCS_SOURCE_URI = (\n",
    "    \"gs://cloud-samples-data-us-central1/vertex-ai/feature-store/datasets/users.avro\"\n",
    ")\n",
    "GCS_SOURCE_TYPE = \"avro\"\n",
    "WORKER_COUNT = 1\n",
    "print(USERS_FEATURES_IDS)"
   ]
  },
  {
   "cell_type": "code",
   "execution_count": null,
   "metadata": {
    "id": "x86Dtg0Vu-uf"
   },
   "outputs": [],
   "source": [
    "users_entity_type.ingest_from_gcs(\n",
    "    feature_ids=USERS_FEATURES_IDS,\n",
    "    feature_time=USERS_FEATURE_TIME,\n",
    "    entity_id_field=USERS_ENTITY_ID_FIELD,\n",
    "    gcs_source_uris=USERS_GCS_SOURCE_URI,\n",
    "    gcs_source_type=GCS_SOURCE_TYPE,\n",
    "    worker_count=WORKER_COUNT,\n",
    "    sync=False,\n",
    ")"
   ]
  },
  {
   "cell_type": "markdown",
   "metadata": {
    "id": "laXdJPIqkLJO"
   },
   "source": [
    "### 导入电影实体类型的特征值\n",
    "\n",
    "同样地，将电影实体类型的特征值导入到特征存储中。"
   ]
  },
  {
   "cell_type": "code",
   "execution_count": null,
   "metadata": {
    "id": "-c_CHjd11AD0"
   },
   "outputs": [],
   "source": [
    "MOVIES_FEATURES_IDS = [feature.name for feature in movies_entity_type.list_features()]\n",
    "MOVIES_FEATURE_TIME = \"update_time\"\n",
    "MOVIES_ENTITY_ID_FIELD = \"movie_id\"\n",
    "MOVIES_GCS_SOURCE_URI = (\n",
    "    \"gs://cloud-samples-data-us-central1/vertex-ai/feature-store/datasets/movies.avro\"\n",
    ")\n",
    "GCS_SOURCE_TYPE = \"avro\"\n",
    "WORKER_COUNT = 1\n",
    "print(MOVIES_FEATURES_IDS)"
   ]
  },
  {
   "cell_type": "code",
   "execution_count": null,
   "metadata": {
    "id": "Q4mMBRTc1Xpx"
   },
   "outputs": [],
   "source": [
    "movies_entity_type.ingest_from_gcs(\n",
    "    feature_ids=MOVIES_FEATURES_IDS,\n",
    "    feature_time=MOVIES_FEATURE_TIME,\n",
    "    entity_id_field=MOVIES_ENTITY_ID_FIELD,\n",
    "    gcs_source_uris=MOVIES_GCS_SOURCE_URI,\n",
    "    gcs_source_type=GCS_SOURCE_TYPE,\n",
    "    worker_count=WORKER_COUNT,\n",
    "    sync=False,\n",
    ")"
   ]
  },
  {
   "cell_type": "markdown",
   "metadata": {
    "id": "9TdxPYdDXjnA"
   },
   "source": [
    "在线服务"
   ]
  },
  {
   "cell_type": "markdown",
   "metadata": {
    "id": "ezJIMyU-XjnB"
   },
   "source": [
    "在线提供允许您为少量实体提供特征数值。它专为对延迟敏感的服务设计，例如在线模型预测。例如，对于电影服务，您可能希望快速展示当前用户最有可能观看的电影。"
   ]
  },
  {
   "cell_type": "markdown",
   "metadata": {
    "id": "foNB0D2aw37c"
   },
   "source": [
    "使用Python SDK，轻松读取一个实体的特征值。默认情况下，SDK将返回每个特征的最新值，即具有最新时间戳的特征值。\n",
    "\n",
    "要读取特征值，请指定实体类型ID和要读取的特征。默认情况下，将选择实体类型的所有特征。响应将输出并显示选定的实体类型ID和选定的特征值作为Pandas dataframe。"
   ]
  },
  {
   "cell_type": "code",
   "execution_count": null,
   "metadata": {
    "id": "084G80L_DWwd"
   },
   "outputs": [],
   "source": [
    "users_entity_type.read(entity_ids=\"bob\")"
   ]
  },
  {
   "cell_type": "code",
   "execution_count": null,
   "metadata": {
    "id": "qrR-SY3i58rh"
   },
   "outputs": [],
   "source": [
    "movies_entity_type.read(entity_ids=\"movie_01\", feature_ids=\"title\")"
   ]
  },
  {
   "cell_type": "markdown",
   "metadata": {
    "id": "oYk83Zt9xF8m"
   },
   "source": [
    "每个请求读取多个实体\n",
    "\n",
    "要从多个实体中读取特征值，请指定不同的实体类型ID。默认情况下，将选择实体类型的所有特征。请注意，由于该SDK对延迟敏感，建议在使用时仅获取少量实体。"
   ]
  },
  {
   "cell_type": "code",
   "execution_count": null,
   "metadata": {
    "id": "BIJFcIIHULOd"
   },
   "outputs": [],
   "source": [
    "users_entity_type.read(entity_ids=[\"bob\", \"alice\"])"
   ]
  },
  {
   "cell_type": "code",
   "execution_count": null,
   "metadata": {
    "id": "DtL0uy_0Dcca"
   },
   "outputs": [],
   "source": [
    "movies_entity_type.read(\n",
    "    entity_ids=[\"movie_02\", \"movie_03\", \"movie_04\"], feature_ids=[\"title, genres\"]\n",
    ")"
   ]
  },
  {
   "cell_type": "markdown",
   "metadata": {
    "id": "Sds42j8ZsCzS"
   },
   "source": [
    "现在您已经学会了如何为在线服务获取导入的特征值，下一步是学习如何将导入的特征值用于离线用例。"
   ]
  },
  {
   "cell_type": "markdown",
   "metadata": {
    "id": "WpvhPAYxD-Ml"
   },
   "source": [
    "批量服务\n",
    "\n",
    "批量服务用于获取大批量的特征数值以实现高吞吐量，通常用于训练模型或批量预测。在本节中，您将学习如何使用特征存储的批量服务功能为训练示例做准备。"
   ]
  },
  {
   "cell_type": "markdown",
   "metadata": {
    "id": "tPzAGvqJHh3B"
   },
   "source": [
    "### 用例\n",
    "\n",
    "**任务**是准备一个训练数据集来训练一个模型，该模型可以预测给定用户是否会观看给定电影。要实现这一点，您需要两组输入：\n",
    "\n",
    "* 特征：您已经导入到特征存储中。\n",
    "* 标签：记录了用户X观看了电影Y的地面真实数据。\n",
    "\n",
    "更具体地说，地面事实观察在表1中描述，所需的训练数据集在表2中描述。表2中的每一行是根据表1中的实体ID和时间戳从Vertex AI特征存储中导入的特征值的连接结果。在这个例子中，从用户中选择`年龄`、`性别`和`喜欢的类型`特征，从电影中选择`标题`、`类型`和`平均评分`特征来训练模型。请注意，表中只显示了正例，即您可以想象存在一个标签列，其值都为`True`。\n",
    "\n",
    "[batch_serve_to_bq](https://github.com/googleapis/python-aiplatform/blob/main/google/cloud/aiplatform/featurestore/featurestore.py#L770)以表1作为输入，从特征存储中连接所有必需的特征值，并返回用于训练的表2。\n",
    "\n",
    "<h4 align=\"center\">表1. 地面真实数据</h4>\n",
    "\n",
    "用户 | 电影 | 时间戳            \n",
    "----- | -------- | -------------------- \n",
    "爱丽丝  | 电影天堂     | 2019-11-01T00:00:00Z \n",
    "鲍勃  | 闪灵     | 2019-11-15T18:09:43Z \n",
    "...   | ...      | ...     \n",
    "\n",
    "\n",
    "<h4 align=\"center\">表2. 使用批处理服务生成的预期训练数据</h4>\n",
    "\n",
    "时间戳            | 用户实体类型 | 年龄 | 性别 | 喜欢的类型 | 电影实体类型 | 标题 | 类型 | 平均评分  \n",
    "-------------------- | ----------------- | --------------- | ---------------- | -------------------- | - | -------- | --------- | ----- \n",
    "2019-11-01T00:00:00Z | 鲍勃              | 35        | 男                | [动作, 犯罪]      | 电影_02            | 闪灵 | 恐怖 | 4.8 \n",
    "2019-11-01T00:00:00Z | 爱丽丝             | 55        | 女                | [剧情, 喜剧]      | 电影_03          | 电影天堂 | 浪漫 | 4.5 | \n",
    "... | ... | ... | ... | ... | ... | ... | ... | ..."
   ]
  },
  {
   "cell_type": "markdown",
   "metadata": {
    "id": "hKwWGg2i4a4G"
   },
   "source": [
    "为什么要有时间戳？\n",
    "\n",
    "请注意，表2中有一个名为`timestamp`的列。这表示地面真实数据观察时的时间。这是为了避免数据不一致。\n",
    "\n",
    "例如，表2的第二行表示用户`alice`在`2019-11-01T00:00:00Z`观看了电影`意大利电影天堂`。特征存储保留了所有时间戳的特征值，但在批量服务期间*仅*在给定时间戳获取特征值。那天，Alice可能是54岁，但现在Alice可能已经是56岁；特征存储将`age=54`返回为Alice的年龄，而不是`age=56`，因为这是在观察时间点该特征的值。同样，其他特征也可能是随时间变化的，比如`liked_genres`。"
   ]
  },
  {
   "cell_type": "markdown",
   "metadata": {
    "id": "gAL9Y4VTOLT1"
   },
   "source": [
    "### 为输出创建BigQuery数据集\n",
    "\n",
    "您需要在`us-central1`中创建一个BigQuery数据集来托管输出数据。输入您想要创建的数据集的名称，并指定您希望存储稍后创建的输出的表的名称。这些将在下一节中使用。\n",
    "\n",
    "**确保表名尚不存在**。"
   ]
  },
  {
   "cell_type": "code",
   "execution_count": null,
   "metadata": {
    "id": "4Oc-jrd6Ow7N"
   },
   "outputs": [],
   "source": [
    "from datetime import datetime\n",
    "\n",
    "from google.cloud import bigquery"
   ]
  },
  {
   "cell_type": "code",
   "execution_count": null,
   "metadata": {
    "id": "QOaGi2PrEAwA"
   },
   "outputs": [],
   "source": [
    "# Output dataset\n",
    "DESTINATION_DATA_SET = \"movie_predictions\"  # @param {type:\"string\"}\n",
    "TIMESTAMP = datetime.now().strftime(\"%Y%m%d%H%M%S\")\n",
    "DESTINATION_DATA_SET = \"{prefix}_{timestamp}\".format(\n",
    "    prefix=DESTINATION_DATA_SET, timestamp=TIMESTAMP\n",
    ")\n",
    "\n",
    "# Output table. Make sure that the table does NOT already exist; the BatchReadFeatureValues API cannot overwrite an existing table\n",
    "DESTINATION_TABLE_NAME = \"training_data\"  # @param {type:\"string\"}\n",
    "\n",
    "DESTINATION_PATTERN = \"bq://{project}.{dataset}.{table}\"\n",
    "DESTINATION_TABLE_URI = DESTINATION_PATTERN.format(\n",
    "    project=PROJECT_ID, dataset=DESTINATION_DATA_SET, table=DESTINATION_TABLE_NAME\n",
    ")"
   ]
  },
  {
   "cell_type": "code",
   "execution_count": null,
   "metadata": {
    "id": "RKhmymT-O0vy"
   },
   "outputs": [],
   "source": [
    "# Create dataset\n",
    "client = bigquery.Client(project=PROJECT_ID)\n",
    "dataset_id = \"{}.{}\".format(client.project, DESTINATION_DATA_SET)\n",
    "dataset = bigquery.Dataset(dataset_id)\n",
    "dataset.location = REGION\n",
    "dataset = client.create_dataset(dataset)\n",
    "print(\"Created dataset {}.{}\".format(client.project, dataset.dataset_id))"
   ]
  },
  {
   "cell_type": "markdown",
   "metadata": {
    "id": "W8dLJ9nuDFgI"
   },
   "source": [
    "批量读取特征值\n",
    "\n",
    "组装请求，指定以下信息：\n",
    "\n",
    "* 标签数据在哪里，即表1。\n",
    "* 要读取哪些特征，即表2中的列名。\n",
    "\n",
    "输出存储在BigQuery表中。"
   ]
  },
  {
   "cell_type": "code",
   "execution_count": null,
   "metadata": {
    "id": "0p752VDHSmFn"
   },
   "outputs": [],
   "source": [
    "SERVING_FEATURE_IDS = {\n",
    "    # to choose all the features use 'entity_type_id: ['*']'\n",
    "    \"users\": [\"age\", \"gender\", \"liked_genres\"],\n",
    "    \"movies\": [\"title\", \"average_rating\", \"genres\"],\n",
    "}"
   ]
  },
  {
   "cell_type": "code",
   "execution_count": null,
   "metadata": {
    "id": "VsAaLGyHRYll"
   },
   "outputs": [],
   "source": [
    "fs.batch_serve_to_bq(\n",
    "    bq_destination_output_uri=DESTINATION_TABLE_URI,\n",
    "    serving_feature_ids=SERVING_FEATURE_IDS,\n",
    "    read_instances_uri=INPUT_CSV_FILE,\n",
    ")"
   ]
  },
  {
   "cell_type": "markdown",
   "metadata": {
    "id": "3RAdjahHQ93J"
   },
   "source": [
    "LRO完成后，您应该能够在[BigQuery控制台](https://console.cloud.google.com/bigquery)中看到结果，作为之前创建的BigQuery数据集下的新表。"
   ]
  },
  {
   "cell_type": "markdown",
   "metadata": {
    "id": "TpV-iwP9qw9c"
   },
   "source": [
    "## 清理\n",
    "\n",
    "要清理此项目中使用的所有Google Cloud资源，您可以[删除用于本教程的Google Cloud 项目](https://cloud.google.com/resource-manager/docs/creating-managing-projects#shutting_down_projects)。\n",
    "\n",
    "您也可以保留项目，通过运行以下代码来删除特征存储和BigQuery数据集："
   ]
  },
  {
   "cell_type": "code",
   "execution_count": null,
   "metadata": {
    "id": "NBTNfN8vxz4x"
   },
   "outputs": [],
   "source": [
    "# Delete Featurestore\n",
    "fs.delete(force=True)"
   ]
  },
  {
   "cell_type": "code",
   "execution_count": null,
   "metadata": {
    "id": "kzkD2SWJ2gIK"
   },
   "outputs": [],
   "source": [
    "# Delete BigQuery dataset\n",
    "client = bigquery.Client(project=PROJECT_ID)\n",
    "client.delete_dataset(\n",
    "    DESTINATION_DATA_SET, delete_contents=True, not_found_ok=True\n",
    ")  # Make an API request.\n",
    "\n",
    "print(\"Deleted dataset '{}'.\".format(DESTINATION_DATA_SET))"
   ]
  }
 ],
 "metadata": {
  "accelerator": "GPU",
  "colab": {
   "collapsed_sections": [
    "BlqJ-QdTcs6W",
    "hKwWGg2i4a4G"
   ],
   "name": "sdk-feature-store.ipynb",
   "toc_visible": true
  },
  "kernelspec": {
   "display_name": "Python 3",
   "name": "python3"
  }
 },
 "nbformat": 4,
 "nbformat_minor": 0
}
