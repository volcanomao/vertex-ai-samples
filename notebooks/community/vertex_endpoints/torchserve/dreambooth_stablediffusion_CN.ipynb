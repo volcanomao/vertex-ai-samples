{
 "cells": [
  {
   "cell_type": "code",
   "execution_count": null,
   "metadata": {
    "id": "18ebbd838e32"
   },
   "outputs": [],
   "source": [
    "# Copyright 2023 Google LLC\n",
    "#\n",
    "# Licensed under the Apache License, Version 2.0 (the \"License\");\n",
    "# you may not use this file except in compliance with the License.\n",
    "# You may obtain a copy of the License at\n",
    "#\n",
    "# https://www.apache.org/licenses/LICENSE-2.0\n",
    "#\n",
    "# Unless required by applicable law or agreed to in writing, software\n",
    "# distributed under the License is distributed on an \"AS IS\" BASIS,\n",
    "# WITHOUT WARRANTIES OR CONDITIONS OF ANY KIND, either express or implied.\n",
    "# See the License for the specific language governing permissions and\n",
    "# limitations under the License."
   ]
  },
  {
   "cell_type": "markdown",
   "metadata": {
    "id": "219f1b1fe8fe"
   },
   "source": [
    "在 Vertex AI 上部署和托管一个稳定的Diffusion模型"
   ]
  },
  {
   "attachments": {},
   "cell_type": "markdown",
   "metadata": {
    "id": "JAPoU8Sm5E6e"
   },
   "source": [
    "<table align=\"left\">\n",
    "\n",
    "  <td>\n",
    "    <a href=\"https://colab.research.google.com/github/GoogleCloudPlatform/vertex-ai-samples/blob/main/notebooks/community/vertex_endpoints/torchserve/dreambooth_stablediffusion.ipynb\">\n",
    "      <img src=\"https://cloud.google.com/ml-engine/images/colab-logo-32px.png\" alt=\"Colab logo\"> 在Colab中运行\n",
    "    </a>\n",
    "  </td>\n",
    "  <td>\n",
    "    <a href=\"https://github.com/GoogleCloudPlatform/vertex-ai-samples/blob/main/notebooks/community/vertex_endpoints/torchserve/dreambooth_stablediffusion.ipynb\">\n",
    "      <img src=\"https://cloud.google.com/ml-engine/images/github-logo-32px.png\" alt=\"GitHub logo\">\n",
    "      在GitHub上查看\n",
    "    </a>\n",
    "  </td>\n",
    " <td>\n",
    "    <a href=\"https://console.cloud.google.com/vertex-ai/workbench/deploy-notebook?download_url=https://raw.githubusercontent.com/GoogleCloudPlatform/vertex-ai-samples/blob/main/notebooks/community/vertex_endpoints/torchserve/dreambooth_stablediffusion.ipynb\">\n",
    "      <img src=\"https://lh3.googleusercontent.com/UiNooY4LUgW_oTvpsNhPpQzsstV5W8F7rYgxgGBD85cWJoLmrOzhVs_ksK_vgx40SHs7jCqkTkCk=e14-rj-sc0xffffff-h130-w32\" alt=\"Vertex AI logo\">\n",
    "      在Vertex AI Workbench中打开\n",
    "    </a>\n",
    "  </td>\n",
    "</table>"
   ]
  },
  {
   "cell_type": "markdown",
   "metadata": {
    "id": "fce05a8186d6"
   },
   "source": [
    "## 概述\n",
    "\n",
    "本笔记本演示了如何在Vertex AI上部署和托管经过微调的[稳定扩散1.5](https://huggingface.co/runwayml/stable-diffusion-v1-5)模型。对于托管，您可以使用为Vertex AI构建的带有[TorchServe](https://pytorch.org/serve/index.html)的PyTorch 3容器。"
   ]
  },
  {
   "cell_type": "markdown",
   "metadata": {
    "id": "c76216b03fec"
   },
   "source": [
    "### 目标\n",
    "\n",
    "在本教程中，您将学习如何在Vertex AI上托管和部署一个稳定的扩散1.5模型。\n",
    "\n",
    "本教程使用以下Google Cloud ML服务：\n",
    "\n",
    "+ Vertex AI `Model`资源\n",
    "+ Vertex AI `Endpoint`资源\n",
    "\n",
    "执行的步骤包括：\n",
    "\n",
    "+ 创建一个`torchserve`处理程序来响应预测请求。\n",
    "+ 在Vertex AI的预构建PyTorch容器中上传一个稳定的扩散1.5模型。\n",
    "+ 将模型部署到Vertex AI Endpoint。\n",
    "+ 发送请求到端点，并使用Vertex AI预测服务解析响应。"
   ]
  },
  {
   "cell_type": "markdown",
   "metadata": {
    "id": "c6deba5a8557"
   },
   "source": [
    "### 模型\n",
    "\n",
    "这个笔记本使用了一个经过微调的模型工件集合来生成小狗的图像。这些图像和原始的[DreamBooth论文](https://dreambooth.github.io/)中使用的相同。"
   ]
  },
  {
   "cell_type": "markdown",
   "metadata": {
    "id": "911dc651ea9c"
   },
   "source": [
    "成本\n",
    "\n",
    "本教程使用Google Cloud的计费组件：\n",
    "\n",
    "* Vertex AI模型\n",
    "* Vertex AI端点\n",
    "* Vertex AI预测\n",
    "* 云存储\n",
    "* （可选）Vertex AI工作台\n",
    "\n",
    "了解有关[Vertex AI定价](https://cloud.google.com/vertex-ai/pricing)和[云存储定价](https://cloud.google.com/storage/pricing)的信息，并使用[定价计算器](https://cloud.google.com/products/calculator/)基于您的预期使用情况生成成本估算。"
   ]
  },
  {
   "cell_type": "markdown",
   "metadata": {
    "id": "0d36bd3d53fa"
   },
   "source": [
    "硬件要求\n",
    "\n",
    "这个笔记本需要你使用具有足够可用VRAM的GPU。 它在具有85 GB VRAM的`NVIDIA Tesla A100 GPU`上进行了测试。 运行以下单元格以确保您拥有正确的硬件配置。"
   ]
  },
  {
   "cell_type": "code",
   "execution_count": null,
   "metadata": {
    "id": "3dd4022552e5"
   },
   "outputs": [],
   "source": [
    "!nvidia-smi --query-gpu=name,memory.total,memory.free --format=\"csv,noheader\""
   ]
  },
  {
   "cell_type": "markdown",
   "metadata": {
    "id": "a782627e5f73"
   },
   "source": [
    "在Vertex AI上创建一个用户管理的笔记本\n",
    "\n",
    "如果您正在使用Vertex AI Workbench，您可以通过以下方式创建一个具有正确配置的笔记本：\n",
    "\n",
    "+ 在Google Cloud控制台中前往[Vertex AI Workbench](https://console.cloud.google.com/vertex-ai/workbench/user-managed)。\n",
    "+ 点击**新建笔记本**，然后点击**PyTorch 1.13** > **使用1个NVIDIA T4**。\n",
    "+ 在**新建笔记本**对话框中，点击**高级选项**。**创建用户管理的笔记本**页面将打开。\n",
    "+ 在**创建用户管理的笔记本**页面中，执行以下操作：\n",
    "  * 在**笔记本名称**框中，为您的笔记本输入一个名称，例如\"my-stablediffusion-nb\"。\n",
    "  * 在**机器类型**下拉菜单中，选择**A2 highgpu** > **a2-highgpu-1g**。\n",
    "  * 在**GPU类型**下拉菜单中，选择**NVIDIA Tesla A100**。\n",
    "  * 勾选**自动为我安装NVIDIA GPU驱动程序**旁边的复选框。\n",
    "  * 展开**磁盘**并执行以下操作：\n",
    "    - 在**启动磁盘类型**下，选择**SSD持久性磁盘**。\n",
    "    - 在**数据磁盘类型**下，选择**SSD持久性磁盘**。\n",
    "  * 点击**创建**。"
   ]
  },
  {
   "cell_type": "markdown",
   "metadata": {
    "id": "FAPoU8Sm5E6e"
   },
   "source": [
    "<div style=\"background:#feefe3; padding:5px; color:#aa0000\">\n",
    "<strong>注意：</strong> 使用具有上述配置的Vertex AI Workbench笔记本可能会显著增加您的成本。您可以使用<a href=\"https://cloud.google.com/products/calculator\"><u>成本计算器</u></a>来估算您的成本。</div>"
   ]
  },
  {
   "cell_type": "markdown",
   "metadata": {
    "id": "0bb4201cc99a"
   },
   "source": [
    "## 安装\n",
    "\n",
    "安装以下必须的软件包以执行这个笔记本。\n",
    "\n",
    "**注意**：您可能需要通过 `pip` 修改安装的 PyTorch (`torch`) 版本。"
   ]
  },
  {
   "cell_type": "code",
   "execution_count": null,
   "metadata": {
    "id": "9c769df171a6"
   },
   "outputs": [],
   "source": [
    "%%writefile requirements.txt\n",
    "diffusers\n",
    "ftfy\n",
    "google-cloud-aiplatform\n",
    "gradio\n",
    "ninja\n",
    "tensorboard==1.15.0\n",
    "torch\n",
    "torchaudio\n",
    "torchvision\n",
    "torchserve\n",
    "torch-model-archiver\n",
    "torch-workflow-archiver\n",
    "transformers"
   ]
  },
  {
   "cell_type": "code",
   "execution_count": null,
   "metadata": {
    "id": "e46804ac90d8"
   },
   "outputs": [],
   "source": [
    "%pip install -r requirements.txt"
   ]
  },
  {
   "cell_type": "markdown",
   "metadata": {
    "id": "58707a750154"
   },
   "source": [
    "### 仅限Colab：取消注释以下单元格以重新启动内核。"
   ]
  },
  {
   "cell_type": "code",
   "execution_count": null,
   "metadata": {
    "id": "77c11549298a"
   },
   "outputs": [],
   "source": [
    "# Automatically restart kernel after installs so that your environment can access the new packages\n",
    "# import IPython\n",
    "\n",
    "# app = IPython.Application.instance()\n",
    "# app.kernel.do_shutdown(True)"
   ]
  },
  {
   "cell_type": "markdown",
   "metadata": {
    "id": "294df346a918"
   },
   "source": [
    "在你开始之前"
   ]
  },
  {
   "cell_type": "markdown",
   "metadata": {
    "id": "BF1j6f9HApxa"
   },
   "source": [
    "### 设置您的Google Cloud项目\n",
    "\n",
    "**无论您使用什么笔记本环境，都需要执行以下步骤。**\n",
    "\n",
    "1. [选择或创建Google Cloud项目](https://console.cloud.google.com/cloud-resource-manager)。您首次创建账户时，您将获得$300的免费信用额，用于支付计算/存储成本。\n",
    "\n",
    "2. [确保为您的项目启用了计费](https://cloud.google.com/billing/docs/how-to/modify-project)。\n",
    "\n",
    "3. [启用Vertex AI API](https://console.cloud.google.com/flows/enableapi?apiid=aiplatform.googleapis.com)。\n",
    "\n",
    "4. 如果您在本地运行此笔记本，您需要安装[Cloud SDK](https://cloud.google.com/sdk)。"
   ]
  },
  {
   "cell_type": "markdown",
   "metadata": {
    "id": "WReHDGG5g0XY"
   },
   "source": [
    "设置您的项目ID\n",
    "\n",
    "**如果您不知道您的项目ID**，请尝试以下操作：\n",
    "* 运行 `gcloud config list`。\n",
    "* 运行 `gcloud projects list`。\n",
    "* 查看支持页面：[定位项目ID](https://support.google.com/googleapi/answer/7014113)"
   ]
  },
  {
   "cell_type": "code",
   "execution_count": null,
   "metadata": {
    "id": "oM1iC_MfAts1"
   },
   "outputs": [],
   "source": [
    "PROJECT_ID = \"[your-project-id]\"  # @param {type:\"string\"}\n",
    "\n",
    "# Set the project id\n",
    "! gcloud config set project {PROJECT_ID}"
   ]
  },
  {
   "cell_type": "markdown",
   "metadata": {
    "id": "region"
   },
   "source": [
    "### 区域\n",
    "\n",
    "您也可以更改 Vertex AI 使用的 `REGION` 变量。了解更多关于[Vertex AI的区域](https://cloud.google.com/vertex-ai/docs/general/locations)。"
   ]
  },
  {
   "cell_type": "code",
   "execution_count": null,
   "metadata": {
    "id": "region"
   },
   "outputs": [],
   "source": [
    "REGION = \"us-central1\""
   ]
  },
  {
   "cell_type": "markdown",
   "metadata": {
    "id": "sBCra4QMA2wR"
   },
   "source": [
    "### 验证您的Google Cloud帐户\n",
    "\n",
    "根据您的Jupyter环境，您可能需要手动验证。请按照下面的相关说明操作。"
   ]
  },
  {
   "cell_type": "markdown",
   "metadata": {
    "id": "74ccc9e52986"
   },
   "source": [
    "1. 顶点 AI 工作台\n",
    "* 无需操作，因为您已经通过身份验证。"
   ]
  },
  {
   "cell_type": "markdown",
   "metadata": {
    "id": "de775a3773ba"
   },
   "source": [
    "2. 本地JupyterLab实例，取消注释并运行:"
   ]
  },
  {
   "cell_type": "code",
   "execution_count": null,
   "metadata": {
    "id": "254614fa0c46"
   },
   "outputs": [],
   "source": [
    "# ! gcloud auth login"
   ]
  },
  {
   "cell_type": "markdown",
   "metadata": {
    "id": "ef21552ccea8"
   },
   "source": [
    "3. 协作，取消注释并运行："
   ]
  },
  {
   "cell_type": "code",
   "execution_count": null,
   "metadata": {
    "id": "603adbbf0532"
   },
   "outputs": [],
   "source": [
    "# from google.colab import auth\n",
    "# auth.authenticate_user()"
   ]
  },
  {
   "cell_type": "markdown",
   "metadata": {
    "id": "f6b2ccc891ed"
   },
   "source": [
    "4. 服务账号或其他\n",
    "* 查看如何在https://cloud.google.com/storage/docs/gsutil/commands/iam#ch-examples 上为您的服务账号授予云存储权限。"
   ]
  },
  {
   "cell_type": "markdown",
   "metadata": {
    "id": "cb5c4ca3e851"
   },
   "source": [
    "导入库"
   ]
  },
  {
   "cell_type": "code",
   "execution_count": null,
   "metadata": {
    "id": "7348591eda51"
   },
   "outputs": [],
   "source": [
    "import base64\n",
    "import math\n",
    "\n",
    "import torch\n",
    "from diffusers import StableDiffusionPipeline\n",
    "from google.cloud import aiplatform\n",
    "from IPython import display\n",
    "from PIL import Image\n",
    "from torch import autocast"
   ]
  },
  {
   "cell_type": "markdown",
   "metadata": {
    "id": "697566b5f660"
   },
   "source": [
    "## 可选：查看模型推论\n",
    "\n",
    "在将模型上传至Vertex AI之前，您可以查看模型的预期输出。此笔记本中使用的模型可供您使用，并可从云存储中下载。此下载可能需要几分钟时间才能完成。"
   ]
  },
  {
   "cell_type": "code",
   "execution_count": null,
   "metadata": {
    "id": "d63df8d91215"
   },
   "outputs": [],
   "source": [
    "!gsutil -m cp gs://cloud-samples-data/vertex-ai/model-deployment/models/stable-diffusion/model_artifacts.zip \\\n",
    "   ."
   ]
  },
  {
   "cell_type": "code",
   "execution_count": null,
   "metadata": {
    "id": "89d613ae9573"
   },
   "outputs": [],
   "source": [
    "!unzip model_artifacts.zip"
   ]
  },
  {
   "cell_type": "markdown",
   "metadata": {
    "id": "9192ea4f3b57"
   },
   "source": [
    "### 创建新图像\n",
    "\n",
    "一切就绪后，您现在可以从 Stable Diffusion 模型中生成新图像。首先，您必须将您的模型加载到一个 `StableDiffusionPipeline` 中。"
   ]
  },
  {
   "cell_type": "code",
   "execution_count": null,
   "metadata": {
    "id": "cd1f30223b79"
   },
   "outputs": [],
   "source": [
    "model_path = \"model_artifacts\"\n",
    "\n",
    "pipe = StableDiffusionPipeline.from_pretrained(\n",
    "    model_path, torch_dtype=torch.float16\n",
    ").to(\"cuda\")\n",
    "\n",
    "g_cuda = None"
   ]
  },
  {
   "cell_type": "code",
   "execution_count": null,
   "metadata": {
    "id": "dd91520f58cf"
   },
   "outputs": [],
   "source": [
    "g_cuda = torch.Generator(device=\"cuda\")\n",
    "seed = 52362\n",
    "g_cuda.manual_seed(seed)"
   ]
  },
  {
   "cell_type": "markdown",
   "metadata": {
    "id": "1e9c5d734b9f"
   },
   "source": [
    "将模型加载到`StableDiffusionPipeline`中后，您现在可以从模型生成结果（推断）。每组推断都需要一个输入（称为[prompt](https://learnprompting.org/)），指定模型应该创建什么。\n",
    "\n",
    "您还可以更改模型的其他输入，如下面的代码单元所示。"
   ]
  },
  {
   "cell_type": "code",
   "execution_count": null,
   "metadata": {
    "id": "a28b73de55ce"
   },
   "outputs": [],
   "source": [
    "prompt = \"photo of examplePup dog in a Monet style\"\n",
    "\n",
    "num_samples = 4\n",
    "num_batches = 1\n",
    "num_columns = 2\n",
    "guidance_scale = 10\n",
    "num_inference_steps = 50\n",
    "height = 512\n",
    "width = 512"
   ]
  },
  {
   "cell_type": "code",
   "execution_count": null,
   "metadata": {
    "id": "11a7bb79de59"
   },
   "outputs": [],
   "source": [
    "def image_grid(imgs, cols):\n",
    "    total = len(imgs)\n",
    "    rows = math.ceil(total / cols)\n",
    "\n",
    "    w, h = imgs[0].size\n",
    "    grid = Image.new(\"RGB\", size=(cols * w, rows * h))\n",
    "    grid_w, grid_h = grid.size\n",
    "\n",
    "    for i, img in enumerate(imgs):\n",
    "        grid.paste(img, box=(i % cols * w, i // cols * h))\n",
    "    return grid\n",
    "\n",
    "\n",
    "all_images = []\n",
    "for _ in range(num_batches):\n",
    "    with autocast(\"cuda\"):\n",
    "        images = pipe(\n",
    "            [prompt] * num_samples,\n",
    "            height=height,\n",
    "            width=width,\n",
    "            num_inference_steps=num_inference_steps,\n",
    "            guidance_scale=guidance_scale,\n",
    "        ).images\n",
    "        all_images.extend(images)\n",
    "\n",
    "\n",
    "grid = image_grid(all_images, num_columns)\n",
    "grid"
   ]
  },
  {
   "cell_type": "markdown",
   "metadata": {
    "id": "bbc72963ff88"
   },
   "source": [
    "将模型部署到 Vertex AI\n",
    "\n",
    "您可以将您的 Stable Diffusion 1.5 模型部署到 Vertex AI 端点上，从而可以在线获取推断。上传您的模型是一个四步骤的过程：\n",
    "\n",
    "1. 创建一个自定义 TorchServe 处理程序。\n",
    "2. 将模型工件上传到云存储。\n",
    "3. 使用模型工件和预构建的 PyTorch 容器映像创建一个 Vertex AI 模型。\n",
    "4. 将 Vertex AI 模型部署到一个端点。"
   ]
  },
  {
   "cell_type": "markdown",
   "metadata": {
    "id": "eafbb0e0-40e6-43a0-a38e-edc54323da51"
   },
   "source": [
    "### 创建自定义的TorchServe处理程序\n",
    "\n",
    "部署到Vertex AI的模型使用[TorchServe](https://pytorch.org/serve/)来处理请求并从模型返回响应。您必须创建一个自定义的TorchServe处理程序，将其与上传到Vertex AI的模型工件一起包含在内。\n",
    "\n",
    "处理程序文件应包含在与其他模型工件一起的目录中。"
   ]
  },
  {
   "cell_type": "code",
   "execution_count": null,
   "metadata": {
    "id": "94567a87-9d74-4c87-a749-306ddaf01b61"
   },
   "outputs": [],
   "source": [
    "%%writefile model_artifacts/handler.py\n",
    "\n",
    "\"\"\"Customized handler for Stable Diffusion 1.5.\"\"\"\n",
    "import base64\n",
    "import logging\n",
    "from io import BytesIO\n",
    "\n",
    "import torch\n",
    "from diffusers import EulerDiscreteScheduler\n",
    "from diffusers import StableDiffusionPipeline\n",
    "from ts.torch_handler.base_handler import BaseHandler\n",
    "\n",
    "logger = logging.getLogger(__name__)\n",
    "model_id = 'runwayml/stable-diffusion-v1-5'\n",
    "\n",
    "\n",
    "class ModelHandler(BaseHandler):\n",
    "\n",
    "  def __init__(self):\n",
    "    self.initialized = False\n",
    "    self.map_location = None\n",
    "    self.device = None\n",
    "    self.use_gpu = True\n",
    "    self.store_avg = True\n",
    "    self.pipe = None\n",
    "\n",
    "  def initialize(self, context):\n",
    "    \"\"\"Initializes the pipe.\"\"\"\n",
    "    properties = context.system_properties\n",
    "    gpu_id = properties.get('gpu_id')\n",
    "\n",
    "    self.map_location, self.device, self.use_gpu = \\\n",
    "      ('cuda', torch.device('cuda:' + str(gpu_id)),\n",
    "       True) if torch.cuda.is_available() else \\\n",
    "        ('cpu', torch.device('cpu'), False)\n",
    "\n",
    "    # Use the Euler scheduler here instead\n",
    "    scheduler = EulerDiscreteScheduler.from_pretrained(model_id,\n",
    "                                                       subfolder='scheduler')\n",
    "    pipe = StableDiffusionPipeline.from_pretrained(model_id,\n",
    "                                                   scheduler=scheduler,\n",
    "                                                   torch_dtype=torch.float16)\n",
    "    pipe = pipe.to('cuda')\n",
    "    # Uncomment the following line to reduce the GPU memory usage.\n",
    "    # pipe.enable_attention_slicing()\n",
    "    self.pipe = pipe\n",
    "\n",
    "    self.initialized = True\n",
    "\n",
    "  def preprocess(self, requests):\n",
    "    \"\"\"Noting to do here.\"\"\"\n",
    "    logger.info('requests: %s', requests)\n",
    "    return requests\n",
    "\n",
    "  def inference(self, preprocessed_data, *args, **kwargs):\n",
    "    \"\"\"Run the inference.\"\"\"\n",
    "    images = []\n",
    "    for pd in preprocessed_data:\n",
    "      prompt = pd['prompt']\n",
    "      images.extend(self.pipe(prompt).images)\n",
    "    return images\n",
    "\n",
    "  def postprocess(self, output_batch):\n",
    "    \"\"\"Converts the images to base64 string.\"\"\"\n",
    "    postprocessed_data = []\n",
    "    for op in output_batch:\n",
    "      fp = BytesIO()\n",
    "      op.save(fp, format='JPEG')\n",
    "      postprocessed_data.append(base64.b64encode(fp.getvalue()).decode('utf-8'))\n",
    "      fp.close()\n",
    "    return postprocessed_data\n"
   ]
  },
  {
   "cell_type": "markdown",
   "metadata": {
    "id": "6ace1dac0af0"
   },
   "source": [
    "创建处理程序文件后，您必须将处理程序打包为模型归档器（MAR）文件。输出文件必须命名为'model.mar'。"
   ]
  },
  {
   "cell_type": "code",
   "execution_count": null,
   "metadata": {
    "id": "67707f95d440"
   },
   "outputs": [],
   "source": [
    "!torch-model-archiver \\\n",
    "  -f \\\n",
    "  --model-name model \\\n",
    "  --version 1.0 \\\n",
    "  --handler model_artifacts/handler.py \\\n",
    "  --export-path model_artifacts"
   ]
  },
  {
   "cell_type": "markdown",
   "metadata": {
    "id": "ffab030f4bc8"
   },
   "source": [
    "### 将模型制品上传至云存储\n",
    "\n",
    "在您的云存储桶中创建一个新文件夹来保存模型制品。"
   ]
  },
  {
   "cell_type": "code",
   "execution_count": null,
   "metadata": {
    "id": "MzGDU7TWdts_"
   },
   "outputs": [],
   "source": [
    "BUCKET_NAME = \"your-bucket-name-unique\"  # @param {type:\"string\"}\n",
    "BUCKET_URI = f\"gs://{BUCKET_NAME}/\"\n",
    "FULL_GCS_PATH = f\"{BUCKET_URI}model_artifacts\""
   ]
  },
  {
   "cell_type": "markdown",
   "metadata": {
    "id": "-EcIXiGsCePi"
   },
   "source": [
    "只有当您的存储桶尚不存在时才能运行以下单元格以创建您的云存储存储桶。"
   ]
  },
  {
   "cell_type": "code",
   "execution_count": null,
   "metadata": {
    "id": "NIq7R4HZCfIc"
   },
   "outputs": [],
   "source": [
    "! gsutil mb -l $REGION -p $PROJECT_ID $BUCKET_URI"
   ]
  },
  {
   "cell_type": "markdown",
   "metadata": {
    "id": "971232e28657"
   },
   "source": [
    "接下来，将模型存档文件和您训练好的 Stable Diffusion 1.5 模型上传到云存储上的文件夹中。"
   ]
  },
  {
   "cell_type": "code",
   "execution_count": null,
   "metadata": {
    "id": "ef6baf44c808"
   },
   "outputs": [],
   "source": [
    "!gsutil cp -r model_artifacts $BUCKET_URI"
   ]
  },
  {
   "cell_type": "markdown",
   "metadata": {
    "id": "402370ca9396"
   },
   "source": [
    "### 创建 Vertex AI 模型\n",
    "\n",
    "一旦您将模型工件上传到云存储桶中，您就可以创建一个新的 Vertex AI 模型。这个笔记本使用 [Vertex AI SDK](https://cloud.google.com/vertex-ai/docs/start/use-vertex-ai-python-sdk) 来创建模型。"
   ]
  },
  {
   "cell_type": "code",
   "execution_count": null,
   "metadata": {
    "id": "b6c58a74a0fd"
   },
   "outputs": [],
   "source": [
    "PYTORCH_PREDICTION_IMAGE_URI = (\n",
    "    \"us-docker.pkg.dev/vertex-ai/prediction/pytorch-gpu.1-12:latest\"\n",
    ")\n",
    "APP_NAME = \"my-stable-diffusion\"\n",
    "VERSION = 1\n",
    "MODEL_DISPLAY_NAME = \"stable_diffusion_1_5-unique\"\n",
    "MODEL_DESCRIPTION = \"stable_diffusion_1_5 container\"\n",
    "ENDPOINT_DISPLAY_NAME = f\"{APP_NAME}-endpoint\""
   ]
  },
  {
   "cell_type": "code",
   "execution_count": null,
   "metadata": {
    "id": "07c3503a1a2e"
   },
   "outputs": [],
   "source": [
    "aiplatform.init(project=PROJECT_ID, location=REGION, staging_bucket=BUCKET_NAME)"
   ]
  },
  {
   "cell_type": "markdown",
   "metadata": {
    "id": "FAPoU8Sm5E6e"
   },
   "source": [
    "请注意：如果您尚未 <a href=\"https://console.cloud.google.com/flows/enableapi?apiid=aiplatform.googleapis.com\"><u>启用了Vertex API</u></a>，则下一个单元格将失败。</div>"
   ]
  },
  {
   "cell_type": "code",
   "execution_count": null,
   "metadata": {
    "id": "a776324dd16f"
   },
   "outputs": [],
   "source": [
    "model = aiplatform.Model.upload(\n",
    "    display_name=MODEL_DISPLAY_NAME,\n",
    "    description=MODEL_DESCRIPTION,\n",
    "    serving_container_image_uri=PYTORCH_PREDICTION_IMAGE_URI,\n",
    "    artifact_uri=FULL_GCS_PATH,\n",
    ")\n",
    "\n",
    "model.wait()\n",
    "\n",
    "print(model.display_name)\n",
    "print(model.resource_name)"
   ]
  },
  {
   "cell_type": "markdown",
   "metadata": {
    "id": "0fbc3d371574"
   },
   "source": [
    "### 将模型部署到端点\n",
    "\n",
    "要从您的 Stable Diffusion 2.0 模型获取在线预测，您必须[将其部署到 Vertex AI 端点](https://cloud.google.com/vertex-ai/docs/predictions/overview)。您可以再次使用 Vertex AI SDK 创建端点并部署您的模型。"
   ]
  },
  {
   "cell_type": "code",
   "execution_count": null,
   "metadata": {
    "id": "ab29f0a770cb"
   },
   "outputs": [],
   "source": [
    "endpoint = aiplatform.Endpoint.create(display_name=ENDPOINT_DISPLAY_NAME)"
   ]
  },
  {
   "cell_type": "code",
   "execution_count": null,
   "metadata": {
    "id": "25f703df88c7"
   },
   "outputs": [],
   "source": [
    "model.deploy(\n",
    "    endpoint=endpoint,\n",
    "    deployed_model_display_name=MODEL_DISPLAY_NAME,\n",
    "    machine_type=\"n1-standard-8\",\n",
    "    accelerator_type=\"NVIDIA_TESLA_P100\",\n",
    "    accelerator_count=1,\n",
    "    traffic_percentage=100,\n",
    "    deploy_request_timeout=1200,\n",
    "    sync=True,\n",
    ")"
   ]
  },
  {
   "cell_type": "markdown",
   "metadata": {
    "id": "c9fc560df0a9"
   },
   "source": [
    "之前的单元格会花一些时间来完成部署模型到端点的操作。如果之前的单元格在返回之前超时了，你的端点可能仍然成功地部署到了端点。检查[Cloud控制台](https://console.cloud.google.com/vertex-ai/endpoints)来验证结果。\n",
    "\n",
    "你也可以通过更改传递给`model.deploy()`的`deploy_request_timeout`参数来延长等待部署的时间。"
   ]
  },
  {
   "cell_type": "markdown",
   "metadata": {
    "id": "88a5304dfdc9"
   },
   "source": [
    "获得在线预测\n",
    "\n",
    "最终，将您的Stable Diffusion 1.5模型部署到Vertex AI端点后，您现在可以从中获得在线预测。使用Vertex AI SDK，您只需几行代码就能得出推断。"
   ]
  },
  {
   "cell_type": "code",
   "execution_count": null,
   "metadata": {
    "id": "0d6bc4aa34d6"
   },
   "outputs": [],
   "source": [
    "instances = [{\"prompt\": \"An examplePup dog with a baseball jersey.\"}]\n",
    "response = endpoint.predict(instances=instances)\n",
    "\n",
    "with open(\"img5.jpg\", \"wb\") as g:\n",
    "    g.write(base64.b64decode(response.predictions[0]))"
   ]
  },
  {
   "cell_type": "code",
   "execution_count": null,
   "metadata": {
    "id": "65bafefda60c"
   },
   "outputs": [],
   "source": [
    "display.Image(\"img5.jpg\")"
   ]
  },
  {
   "cell_type": "markdown",
   "metadata": {
    "id": "TpV-iwP9qw9c"
   },
   "source": [
    "清理\n",
    "\n",
    "要清理此项目中使用的所有Google Cloud资源，您可以[删除用于本教程的Google Cloud 项目](https://cloud.google.com/resource-manager/docs/creating-managing-projects#shutting_down_projects)。\n",
    "\n",
    "否则，您可以删除在本教程中创建的各个资源。"
   ]
  },
  {
   "cell_type": "code",
   "execution_count": null,
   "metadata": {
    "id": "sx_vKniMq9ZX"
   },
   "outputs": [],
   "source": [
    "import os\n",
    "\n",
    "# Delete endpoint resource\n",
    "endpoint.undeploy_all()\n",
    "endpoint.delete()\n",
    "\n",
    "# Delete model resource\n",
    "model.delete()\n",
    "\n",
    "# Delete Cloud Storage objects that were created\n",
    "delete_bucket = False\n",
    "if delete_bucket or os.getenv(\"IS_TESTING\"):\n",
    "    ! gsutil -m rm -r $BUCKET_URI"
   ]
  }
 ],
 "metadata": {
  "colab": {
   "name": "dreambooth_stablediffusion.ipynb",
   "toc_visible": true
  },
  "kernelspec": {
   "display_name": "Python 3",
   "name": "python3"
  }
 },
 "nbformat": 4,
 "nbformat_minor": 0
}
