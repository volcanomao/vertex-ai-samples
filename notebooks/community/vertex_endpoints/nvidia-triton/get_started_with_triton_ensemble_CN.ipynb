{
 "cells": [
  {
   "cell_type": "code",
   "execution_count": null,
   "metadata": {
    "id": "18ebbd838e32"
   },
   "outputs": [],
   "source": [
    "# Copyright 2022 Google LLC\n",
    "#\n",
    "# Licensed under the Apache License, Version 2.0 (the \"License\");\n",
    "# you may not use this file except in compliance with the License.\n",
    "# You may obtain a copy of the License at\n",
    "#\n",
    "#     https://www.apache.org/licenses/LICENSE-2.0\n",
    "#\n",
    "# Unless required by applicable law or agreed to in writing, software\n",
    "# distributed under the License is distributed on an \"AS IS\" BASIS,\n",
    "# WITHOUT WARRANTIES OR CONDITIONS OF ANY KIND, either express or implied.\n",
    "# See the License for the specific language governing permissions and\n",
    "# limitations under the License."
   ]
  },
  {
   "cell_type": "markdown",
   "metadata": {
    "id": "06cb539bac9c"
   },
   "source": [
    "# 开始使用：使用自定义容器在NVIDIA Triton推理服务器上合并多个模型\n",
    "\n",
    "<table align=\"left\">\n",
    "  <td>\n",
    "    <a href=\"https://github.com/GoogleCloudPlatform/vertex-ai-samples/blob/main/notebooks/community/vertex_endpoints/nvidia-triton/get_started_with_triton_ensemble.ipynb\">\n",
    "      <img src=\"https://cloud.google.com/ml-engine/images/github-logo-32px.png\" alt=\"GitHub logo\">\n",
    "      在GitHub上查看\n",
    "    </a>\n",
    "  </td>\n",
    "  <td>\n",
    "    <a href=\"https://console.cloud.google.com/vertex-ai/workbench/deploy-notebook?download_url=https://raw.githubusercontent.com/GoogleCloudPlatform/vertex-ai-samples/main/notebooks/community/vertex_endpoints/nvidia-triton/get_started_with_triton_ensemble.ipynb\">\n",
    "      <img src=\"https://lh3.googleusercontent.com/UiNooY4LUgW_oTvpsNhPpQzsstV5W8F7rYgxgGBD85cWJoLmrOzhVs_ksK_vgx40SHs7jCqkTkCk=e14-rj-sc0xffffff-h130-w32\" alt=\"Vertex AI logo\">\n",
    "      在Vertex AI Workbench中打开\n",
    "    </a>\n",
    "  </td>  \n",
    "</table>"
   ]
  },
  {
   "cell_type": "markdown",
   "metadata": {
    "id": "8b10d2fb975d"
   },
   "source": [
    "## 概述\n",
    "\n",
    "本教程展示了如何使用运行[NVIDIA Triton推理服务器（Triton）](https://developer.nvidia.com/nvidia-triton-inference-server)的自定义容器，在[Vertex AI预测](https://cloud.google.com/vertex-ai/docs/predictions/getting-predictions)上部署包括合并模型在内的多个模型，用于提供在线预测。\n",
    "\n",
    "了解更多关于[Vertex AI预测](https://cloud.google.com/vertex-ai/docs/predictions/get-predictions)的信息。\n",
    "\n",
    "\n",
    "### 目标\n",
    "\n",
    "在本教程中，您将部署一个运行Nvidia Triton服务器的自定义容器，用于提供来自合并模型的预测，然后使用Vertex AI端点来检测图像中的对象。\n",
    "\n",
    "本教程中执行的步骤包括：\n",
    "\n",
    "- 为多个预建模型创建Triton配置文件\n",
    "- 获取运行Triton的自定义Serving容器\n",
    "- 将Triton多模型包上传为Vertex `Model`资源\n",
    "- 将`Model`资源部署到服务`Endpoint`资源。\n",
    "- 作为单独模型进行预测请求。\n",
    "- 作为模型集成进行预测请求。\n",
    "- 取消部署`Model`资源并删除`Endpoint`。\n",
    "\n",
    "### 数据集\n",
    "\n",
    "本笔记本使用随机数据生成器来训练和提供模型。\n",
    "\n",
    "### 成本\n",
    "\n",
    "本教程使用Google Cloud的可计费组件：\n",
    "\n",
    "* Vertex AI\n",
    "* 云存储\n",
    "\n",
    "了解[Vertex AI定价](https://cloud.google.com/vertex-ai/pricing)和[云存储定价](https://cloud.google.com/storage/pricing)，并使用[定价计算器](https://cloud.google.com/products/calculator/)根据您的预计使用情况生成成本估算。"
   ]
  },
  {
   "cell_type": "markdown",
   "metadata": {
    "id": "5468fdaf15ba"
   },
   "source": [
    "## NVIDIA Triton推理服务器（Triton）概述\n",
    "\n",
    "[NVIDIA Triton推理服务器（Triton）](https://github.com/triton-inference-server/server)提供了一种优化为CPU和GPU的推理解决方案。Triton可以在单个GPU或CPU上同时运行来自相同或不同框架的多个模型。在多GPU服务器中，它会自动在每个GPU上为每个模型创建一个实例，以增加利用率而无需额外编码。它支持实时推理，批量推理以最大化GPU/CPU利用率，并支持具有内置音频流输入支持的流式推理。它还支持用于需要多个模型执行端到端推理的用例的模型集成。\n",
    "\n",
    "以下图显示了Triton的高级架构。\n",
    "\n",
    "![Triton高级架构](https://raw.githubusercontent.com/triton-inference-server/server/main/docs/user_guide/images/arch.jpg)\n",
    "\n",
    "- 模型存储库是一个基于文件系统的存储库，其中包含Triton将用于推理的模型。\n",
    "- 推理请求通过HTTP/REST或gRPC到达服务器，然后被路由到适当的每个模型调度程序。\n",
    "- Triton实现了可以在逐个模型基础上配置的多种调度和批处理算法。\n",
    "- 后端使用批量请求中提供的输入执行推理，以生成所请求的输出。\n",
    "\n",
    "Triton提供准备就绪和活动状态的健康端点，以及利用率、吞吐量和延迟指标，这使得Triton能够集成到部署环境中，例如Vertex AI Prediction。\n",
    "\n",
    "有关更详细信息，请参阅[Triton架构](https://github.com/triton-inference-server/server/blob/main/docs/architecture.md)。\n",
    "\n",
    "## Triton在Vertex AI Prediction上的应用\n",
    "\n",
    "Triton推理服务器在由NVIDIA GPU云（NGC）发布的容器内运行 - [NVIDIA Triton推理服务器镜像](https://catalog.ngc.nvidia.com/orgs/nvidia/containers/tritonserver)。NVIDIA和GCP Vertex AI团队合作添加了包和配置，以满足Triton与Vertex AI [自定义Serving容器图像的要求](https://cloud.google.com/vertex-ai/docs/predictions/custom-container-requirements)。\n",
    "\n",
    "要由Triton提供服务的模型应该在Vertex AI中注册为 `Model` 资源。 `Model` 的元数据引用了云存储中模型集成工件的位置以及包括配置的自定义Serving容器。\n",
    "\n",
    "Triton载入模型并通过[标准推理协议](https://github.com/kserve/kserve/tree/master/docs/predict-api/v2)公开推理、健康和模型管理REST端点。在部署到Vertex AI时，Triton会识别Vertex AI环境，并采用Vertex AI Prediction协议进行[健康检查](https://cloud.google.com/vertex-ai/docs/predictions/custom-container-requirements#health)和预测。\n",
    "\n",
    "要通过Vertex AI Endpoint调用模型，请使用[标准推理请求JSON对象](https://github.com/kserve/kserve/blob/master/docs/predict-api/v2/required_api.md#inference)或[具有二进制扩展的推理请求JSON对象](https://github.com/triton-inference-server/server/blob/main/docs/protocol/extension_binary_data.md)格式化预测请求，并提交请求到Vertex AI Prediction的[REST rawPredict端点](https://cloud.google.com/vertex-ai/docs/reference/rest/v1beta1/projects.locations.endpoints/rawPredict)。因为Triton使用的推理请求格式与Vertex AI Prediction [标准输入格式](https://cloud.google.com/vertex-ai/docs/predictions/online-predictions-custom-models#formatting-prediction-input)不兼容，所以您需要使用`rawPredict`而不是`predict`方法。\n",
    "\n",
    "![triton-on-vertex-ai-predictions](https://cloud.google.com/vertex-ai/docs/predictions/images/using-triton-on-vertex-ai-predictions-architecture.png)"
   ]
  },
  {
   "cell_type": "markdown",
   "metadata": {
    "id": "e1467db2eb51"
   },
   "source": [
    "设置本地开发环境\n",
    "\n",
    "此笔记本仅支持[Vertex AI Workbench](https://cloud.google.com/vertex-ai/docs/workbench/introduction)，Vertex AI Workbench环境已满足运行此笔记本的所有要求。请确保您在Vertex AI Workbench笔记本环境中以TensorFlow内核运行笔记本。\n",
    "\n",
    "**注意：** 在部署自定义容器到Vertex AI Predictions之前，此笔记本使用`docker`命令在本地开发环境中构建和测试容器。 [Google Colab目前不支持原生运行docker](https://github.com/googlecolab/colabtools/issues/299#issuecomment-615308778)，因此该笔记本仅在Vertex AI Workbench上受支持。"
   ]
  },
  {
   "cell_type": "markdown",
   "metadata": {
    "id": "fe9ac246674b"
   },
   "source": [
    "## 安装\n",
    "\n",
    "安装以下包，以便执行此笔记本。"
   ]
  },
  {
   "cell_type": "code",
   "execution_count": null,
   "metadata": {
    "id": "b795ef93e589"
   },
   "outputs": [],
   "source": [
    "# Install the packages\n",
    "! pip3 install --user --upgrade google-cloud-aiplatform\n",
    "\n",
    "! pip3 install tritonclient geventhttpclient transformers"
   ]
  },
  {
   "cell_type": "markdown",
   "metadata": {
    "id": "4dc4a2d5acc9"
   },
   "source": [
    "## 开始之前\n",
    "\n",
    "### GPU运行时\n",
    "\n",
    "本教程不需要GPU运行时。\n",
    "\n",
    "### 设置你的Google Cloud项目\n",
    "\n",
    "**无论你使用什么笔记本环境，以下步骤都是必须的。**\n",
    "\n",
    "1. [选择或创建一个Google Cloud项目](https://console.cloud.google.com/cloud-resource-manager)。当你第一次创建一个帐户时，你将获得$300的免费信用额用于计算/存储成本。\n",
    "\n",
    "2. [确保为你的项目启用计费。](https://cloud.google.com/billing/docs/how-to/modify-project)\n",
    "\n",
    "3. [启用以下API：Vertex AI APIs，Compute Engine APIs和Cloud Storage。](https://console.cloud.google.com/flows/enableapi?apiid=ml.googleapis.com,compute_component,storage-component.googleapis.com)\n",
    "\n",
    "4. [Google Cloud SDK](https://cloud.google.com/sdk)已经安装在Google Cloud Notebook中。\n",
    "\n",
    "5. 在下面的单元格中输入你的项目ID。然后运行该单元格以确保\n",
    "Cloud SDK在这个笔记本中的所有命令中使用正确的项目。\n",
    "\n",
    "**注意**：Jupyter会将以`!`为前缀的行作为shell命令运行，并且会插入以`$`为前缀的Python变量。"
   ]
  },
  {
   "cell_type": "code",
   "execution_count": null,
   "metadata": {
    "id": "a6fba02a84c4"
   },
   "outputs": [],
   "source": [
    "PROJECT_ID = \"[your-project-id]\"  # @param {type:\"string\"}\n",
    "\n",
    "# Set the project id\n",
    "! gcloud config set project {PROJECT_ID}"
   ]
  },
  {
   "cell_type": "markdown",
   "metadata": {
    "id": "3e7b3427fb75"
   },
   "source": [
    "#### 区域\n",
    "\n",
    "您还可以更改`REGION`变量，该变量用于整个笔记本的操作。 以下是Vertex AI支持的区域。 我们建议您选择离您最近的区域。\n",
    "\n",
    "- 美洲：`us-central1`\n",
    "- 欧洲：`europe-west4`\n",
    "- 亚太：`asia-east1`\n",
    "\n",
    "您可能不会使用多区域存储桶来训练Vertex AI。 并非所有区域都支持所有Vertex AI服务。\n",
    "\n",
    "了解有关[Vertex AI区域](https://cloud.google.com/vertex-ai/docs/general/locations)的更多信息."
   ]
  },
  {
   "cell_type": "code",
   "execution_count": null,
   "metadata": {
    "id": "f83bd6013894"
   },
   "outputs": [],
   "source": [
    "REGION = \"us-central1\"  # @param {type: \"string\"}"
   ]
  },
  {
   "cell_type": "markdown",
   "metadata": {
    "id": "a3891fe77fa8"
   },
   "source": [
    "验证您的Google Cloud账号\n",
    "\n",
    "**如果您正在从Vertex AI Workbench运行Notebook，则您的环境已经经过了身份验证。**"
   ]
  },
  {
   "cell_type": "markdown",
   "metadata": {
    "id": "409dda31908e"
   },
   "source": [
    "### 创建一个云存储桶\n",
    "\n",
    "**无论你使用什么笔记本环境，以下步骤都是必须的。**\n",
    "\n",
    "当你初始化用于 Python 的 Vertex SDK 时，你需要指定一个云存储暂存桶。这个暂存桶是你的数据集和模型资源相关数据在会话间保留的地方。\n",
    "\n",
    "在下面设置你的云存储桶的名称。桶名称必须在所有谷歌云项目中是全局唯一的，包括你的组织之外的项目。"
   ]
  },
  {
   "cell_type": "code",
   "execution_count": null,
   "metadata": {
    "id": "3d5e239a98f2"
   },
   "outputs": [],
   "source": [
    "BUCKET_URI = \"gs://your-bucket-name-unique\"  # @param {type:\"string\"}"
   ]
  },
  {
   "cell_type": "markdown",
   "metadata": {
    "id": "20a64b3d187e"
   },
   "source": [
    "**只有当您的存储桶还不存在时**：才运行以下单元格以创建您的云存储存储桶。"
   ]
  },
  {
   "cell_type": "code",
   "execution_count": null,
   "metadata": {
    "id": "e66f36b71bc3"
   },
   "outputs": [],
   "source": [
    "! gsutil mb -l $REGION $BUCKET_URI"
   ]
  },
  {
   "cell_type": "markdown",
   "metadata": {
    "id": "51a8afe42b5e"
   },
   "source": [
    "最后，通过检查其内容来验证对云存储桶的访问权限。"
   ]
  },
  {
   "cell_type": "code",
   "execution_count": null,
   "metadata": {
    "id": "835bf2f84d86"
   },
   "outputs": [],
   "source": [
    "! gsutil ls -al $BUCKET_URI"
   ]
  },
  {
   "cell_type": "markdown",
   "metadata": {
    "id": "34be3b6bc70a"
   },
   "source": [
    "### 设置变量\n",
    "\n",
    "接下来，设置一些在教程中使用的变量。\n",
    "### 导入库"
   ]
  },
  {
   "cell_type": "code",
   "execution_count": null,
   "metadata": {
    "id": "5c51d0f060ba"
   },
   "outputs": [],
   "source": [
    "import json\n",
    "import os\n",
    "\n",
    "import numpy as np\n",
    "import tritonclient.http as triton_http\n",
    "from google.api import httpbody_pb2\n",
    "from google.cloud import aiplatform as aip\n",
    "from google.cloud import aiplatform_v1 as gapic"
   ]
  },
  {
   "cell_type": "markdown",
   "metadata": {
    "id": "9e609999d2cd"
   },
   "source": [
    "### 定义常量\n",
    "\n",
    "`MODEL_ARTIFACTS_REPOSITORY` - Triton 模型存储的云存储位置。"
   ]
  },
  {
   "cell_type": "code",
   "execution_count": null,
   "metadata": {
    "id": "771aa5548060"
   },
   "outputs": [],
   "source": [
    "MODEL_ARTIFACTS_REPOSITORY = (\n",
    "    \"gs://cloud-samples-data/vertex-ai/model-deployment/models/triton_models\"\n",
    ")"
   ]
  },
  {
   "cell_type": "markdown",
   "metadata": {
    "id": "299e6463253d"
   },
   "source": [
    "以下一组常量将被用来创建Vertex AI Prediction资源的名称和显示名称，如模型、端点和模型部署。"
   ]
  },
  {
   "cell_type": "code",
   "execution_count": null,
   "metadata": {
    "id": "d572aed16497"
   },
   "outputs": [],
   "source": [
    "# set model names and version\n",
    "MODEL_NAME = \"ensemble\"\n",
    "MODEL_VERSION = \"v01\"\n",
    "MODEL_DISPLAY_NAME = f\"triton-{MODEL_NAME}-{MODEL_VERSION}\"\n",
    "ENDPOINT_DISPLAY_NAME = f\"endpoint-{MODEL_NAME}-{MODEL_VERSION}\"\n",
    "\n",
    "# You can get the latest Triton image uri from\n",
    "# https://catalog.ngc.nvidia.com/orgs/nvidia/containers/tritonserver\n",
    "NGC_TRITON_IMAGE_URI = \"nvcr.io/nvidia/tritonserver:22.05-py3\"\n",
    "\n",
    "# prediction container image name\n",
    "IMAGE_NAME = \"vertex-triton-inference:22.05\""
   ]
  },
  {
   "cell_type": "markdown",
   "metadata": {
    "id": "6183d4018b5b"
   },
   "source": [
    "### 为Python初始化Vertex AI SDK\n",
    "\n",
    "为您的项目和对应的存储桶初始化Python的Vertex AI SDK。"
   ]
  },
  {
   "cell_type": "code",
   "execution_count": null,
   "metadata": {
    "id": "dcf75deec9a4"
   },
   "outputs": [],
   "source": [
    "aip.init(project=PROJECT_ID, staging_bucket=BUCKET_URI)"
   ]
  },
  {
   "cell_type": "markdown",
   "metadata": {
    "id": "0192665cc7af"
   },
   "source": [
    "准备模型构件\n",
    "\n",
    "`config.pbtxt` 文件描述了集成模型的[模型配置](https://github.com/triton-inference-server/server/blob/main/docs/model_configuration.md)。例如：\n",
    "\n",
    "> ```\n",
    "> └── model-repository-path\n",
    ">        └── model_name\n",
    ">               ├── config.pbtxt\n",
    ">               └── 1\n",
    ">                   └── model.savedmodel\n",
    ">                         └── <saved-model-files>\n",
    "> ```"
   ]
  },
  {
   "attachments": {
    "56718a9f-9e3d-4898-ad10-7dcc89fda6ef.png": {
     "image/png": "[encoded data removed]"
    }
   },
   "cell_type": "markdown",
   "metadata": {
    "id": "458a1d5f6ab3"
   },
   "source": [
    "请提供文本以便翻译。"
   ]
  },
  {
   "cell_type": "markdown",
   "metadata": {
    "id": "4c86034cf8db"
   },
   "source": [
    "### 集成学习的预建模型\n",
    "\n",
    "接下来，查看您在此模型集成中使用的预建模型。"
   ]
  },
  {
   "cell_type": "code",
   "execution_count": null,
   "metadata": {
    "id": "d966364e6d59"
   },
   "outputs": [],
   "source": [
    "! gsutil ls -R {MODEL_ARTIFACTS_REPOSITORY}"
   ]
  },
  {
   "cell_type": "markdown",
   "metadata": {
    "id": "da18b2ab4350"
   },
   "source": [
    "### 创建模型配置文件\n",
    "\n",
    "[model configuration](https://github.com/triton-inference-server/server/blob/main/docs/model_configuration.md) 文件 `config.pbtxt` 提供关于模型的输入和输出等信息。请参考 [Triton docs](https://github.com/triton-inference-server/common/blob/main/protobuf/model_config.proto) 了解配置格式。对于 TensorFlow 模型，可以使用 [`saved_model_cli` 命令](https://www.tensorflow.org/guide/saved_model#details_of_the_savedmodel_command_line_interface) 并映射到 Triton 的配置格式。请注意 Triton 的数据类型与框架不同，应根据[这里](https://github.com/triton-inference-server/server/blob/main/docs/model_configuration.md#datatypes)的表格进行相应映射。"
   ]
  },
  {
   "cell_type": "code",
   "execution_count": null,
   "metadata": {
    "id": "c7752023c902"
   },
   "outputs": [],
   "source": [
    "! gsutil cat {MODEL_ARTIFACTS_REPOSITORY}/ensemble/config.pbtxt"
   ]
  },
  {
   "cell_type": "markdown",
   "metadata": {
    "id": "4088a566fbcb"
   },
   "source": [
    "构建并推送容器镜像\n",
    "\n",
    "要使用自定义容器来提供预测服务，您需要指定一个符合[自定义容器要求](https://cloud.google.com/vertex-ai/docs/predictions/custom-container-requirements)的Docker容器镜像。本节介绍如何创建运行 Triton 的容器镜像并将其推送到 Artifact Registry。"
   ]
  },
  {
   "cell_type": "markdown",
   "metadata": {
    "id": "09873e7f28f8"
   },
   "source": [
    "### 设置Artifact注册表"
   ]
  },
  {
   "cell_type": "markdown",
   "metadata": {
    "id": "065dc0e1d7e2"
   },
   "source": [
    "为您的项目启用Artifact Registry API服务。"
   ]
  },
  {
   "cell_type": "code",
   "execution_count": null,
   "metadata": {
    "id": "df3616824fb0"
   },
   "outputs": [],
   "source": [
    "! gcloud services enable artifactregistry.googleapis.com"
   ]
  },
  {
   "cell_type": "markdown",
   "metadata": {
    "id": "f7e0403eef20"
   },
   "source": [
    "创建一个私有的Docker仓库来推送容器镜像。"
   ]
  },
  {
   "cell_type": "code",
   "execution_count": null,
   "metadata": {
    "id": "d6c28fa204ab"
   },
   "outputs": [],
   "source": [
    "DOCKER_ARTIFACT_REPO = \"triton-prediction-container\""
   ]
  },
  {
   "cell_type": "code",
   "execution_count": null,
   "metadata": {
    "id": "4643ca50f603"
   },
   "outputs": [],
   "source": [
    "# create a new Docker repository with your region with the description\n",
    "! gcloud artifacts repositories create {DOCKER_ARTIFACT_REPO} \\\n",
    "    --repository-format=docker \\\n",
    "    --location={REGION} \\\n",
    "    --description=\"Triton Docker repository\"\n",
    "\n",
    "# verify that your repository was created.\n",
    "! gcloud artifacts repositories list \\\n",
    "    --location={REGION} \\\n",
    "    --filter=\"name~\"{DOCKER_ARTIFACT_REPO}"
   ]
  },
  {
   "cell_type": "markdown",
   "metadata": {
    "id": "a245c5b9449e"
   },
   "source": [
    "在推送或拉取容器映像之前，配置Docker来使用`gcloud`命令行工具对您所在地区的Artifact Registry进行身份验证。"
   ]
  },
  {
   "cell_type": "code",
   "execution_count": null,
   "metadata": {
    "id": "ef441e0d3f2a"
   },
   "outputs": [],
   "source": [
    "! gcloud auth configure-docker {REGION}-docker.pkg.dev --quiet"
   ]
  },
  {
   "cell_type": "markdown",
   "metadata": {
    "id": "4ce4aa5221e2"
   },
   "source": [
    "构建该镜像并标记镜像将被推送到的存储库路径。"
   ]
  },
  {
   "cell_type": "code",
   "execution_count": null,
   "metadata": {
    "id": "4a7cf7c1789d"
   },
   "outputs": [],
   "source": [
    "IMAGE_URI = f\"{REGION}-docker.pkg.dev/{PROJECT_ID}/{DOCKER_ARTIFACT_REPO}/{IMAGE_NAME}\""
   ]
  },
  {
   "cell_type": "code",
   "execution_count": null,
   "metadata": {
    "id": "18023297caa0"
   },
   "outputs": [],
   "source": [
    "%%bash -s $NGC_TRITON_IMAGE_URI\n",
    "\n",
    "export NGC_TRITON_IMAGE_URI=$1\n",
    "\n",
    "cat <<EOF > Dockerfile\n",
    "\n",
    "FROM $NGC_TRITON_IMAGE_URI AS triton\n",
    "\n",
    "RUN pip3 install transformers\n",
    "\n",
    "EOF"
   ]
  },
  {
   "cell_type": "code",
   "execution_count": null,
   "metadata": {
    "id": "f336f3d9a9be"
   },
   "outputs": [],
   "source": [
    "! docker build -t $IMAGE_URI ."
   ]
  },
  {
   "cell_type": "markdown",
   "metadata": {
    "id": "2d3029333e92"
   },
   "source": [
    "在将自定义容器映像推送到 Artifact Registry 以在 Vertex AI 预测中使用之前，可以选择在本地运行容器来验证服务器对预测实例的响应。\n",
    "\n",
    "#### 开始运行容器映像\n",
    "\n",
    "要在本地作为容器运行容器映像，请运行以下命令："
   ]
  },
  {
   "cell_type": "code",
   "execution_count": null,
   "metadata": {
    "id": "c4438609304a"
   },
   "outputs": [],
   "source": [
    "! docker stop ensemble 2>/dev/stderr\n",
    "! docker run -t -d -p 8000:8000 --rm \\\n",
    "    --name=ensemble \\\n",
    "    -e AIP_MODE=True \\\n",
    "    --shm-size=256m \\\n",
    "    --gpus all \\\n",
    "    $IMAGE_URI \\\n",
    "    --model-repository $MODEL_ARTIFACTS_REPOSITORY\n",
    "! sleep 20"
   ]
  },
  {
   "cell_type": "code",
   "execution_count": null,
   "metadata": {
    "id": "b4f323bfacf1"
   },
   "outputs": [],
   "source": [
    "# check if the triton container is running locally\n",
    "!docker container ls -f\"name=ensemble\" --no-trunc"
   ]
  },
  {
   "cell_type": "markdown",
   "metadata": {
    "id": "6e13b94db665"
   },
   "source": [
    "执行健康检查\n",
    "\n",
    "要向容器的服务器发送健康检查，请运行以下命令。它应该返回状态代码为`200`。"
   ]
  },
  {
   "cell_type": "code",
   "execution_count": null,
   "metadata": {
    "id": "75ded496a095"
   },
   "outputs": [],
   "source": [
    "! curl -s -o /dev/null -w \"%{http_code}\" http://localhost:8000/v2/health/ready"
   ]
  },
  {
   "cell_type": "markdown",
   "metadata": {
    "id": "4f325a2b6a2f"
   },
   "source": [
    "发送预测请求\n",
    "\n",
    "要向容器的服务器发送预测请求，请运行以下脚本，并使用基于模型类型（scikit-learn、xgboost、tensorflow、ensemble）的样本负载获取预测响应。"
   ]
  },
  {
   "cell_type": "code",
   "execution_count": null,
   "metadata": {
    "id": "593accdbfccc"
   },
   "outputs": [],
   "source": [
    "def get_triton_prediction_local(model_name, url=\"localhost:8000\", headers=None):\n",
    "    # set up both HTTP and GRPC clients. Note that the GRPC client is generally\n",
    "    # somewhat faster.\n",
    "    http_client = triton_http.InferenceServerClient(\n",
    "        url=url, verbose=False, concurrency=5\n",
    "    )\n",
    "\n",
    "    # generate example data to classify\n",
    "    features = 4\n",
    "    samples = 1\n",
    "    data = np.random.rand(samples, features).astype(\"float32\")\n",
    "\n",
    "    # payload configuration defining input and output names\n",
    "    payload_config = {\n",
    "        \"sci_1\": {\"input\": \"input__0\", \"output\": \"output__0\"},\n",
    "        \"sci_2\": {\"input\": \"input__0\", \"output\": \"output__0\"},\n",
    "        \"xgb\": {\"input\": \"input__0\", \"output\": \"output__0\"},\n",
    "        \"tf\": {\"input\": \"dense_input\", \"output\": \"round\"},\n",
    "        \"ensemble\": {\"input\": \"INPUT0\", \"output\": \"OUTPUT0\"},\n",
    "    }\n",
    "\n",
    "    # get input and output names based on model name\n",
    "    input_name = payload_config[model_name][\"input\"]\n",
    "    output_name = payload_config[model_name][\"output\"]\n",
    "\n",
    "    # set up Triton input and output objects for HTTP\n",
    "    triton_input_http = triton_http.InferInput(input_name, (samples, features), \"FP32\")\n",
    "    triton_input_http.set_data_from_numpy(data, binary_data=False)\n",
    "    triton_output_http = triton_http.InferRequestedOutput(\n",
    "        output_name, binary_data=False\n",
    "    )\n",
    "\n",
    "    # submit inference request\n",
    "    request_http = http_client.infer(\n",
    "        model_name,\n",
    "        model_version=\"1\",\n",
    "        inputs=[triton_input_http],\n",
    "        outputs=[triton_output_http],\n",
    "        headers=headers,\n",
    "    )\n",
    "\n",
    "    # get results as numpy arrays\n",
    "    result_http = request_http.as_numpy(output_name)\n",
    "    print(f\"request: {data}\")\n",
    "    print(f\"response: {result_http}\")"
   ]
  },
  {
   "cell_type": "code",
   "execution_count": null,
   "metadata": {
    "id": "6f7f1724e536"
   },
   "outputs": [],
   "source": [
    "# model names: sci_1, sci_2, xgb, tf, ensemble\n",
    "TRITON_URL = \"localhost:8000\"\n",
    "\n",
    "for model_name in [\"sci_1\", \"sci_2\", \"xgb\", \"tf\", \"ensemble\"]:\n",
    "    print(f\"Predictions from model: {model_name}\")\n",
    "    get_triton_prediction_local(model_name, TRITON_URL)\n",
    "    print(\"-\" * 16)"
   ]
  },
  {
   "cell_type": "markdown",
   "metadata": {
    "id": "a7d76c05d109"
   },
   "source": [
    "停止运行容器\n",
    "\n",
    "要停止容器，请运行以下命令："
   ]
  },
  {
   "cell_type": "code",
   "execution_count": null,
   "metadata": {
    "id": "1ee8310e38dc"
   },
   "outputs": [],
   "source": [
    "! docker stop ensemble"
   ]
  },
  {
   "cell_type": "markdown",
   "metadata": {
    "id": "6e51ebd6dcaa"
   },
   "source": [
    "### 将容器镜像推送到Artifact Registry\n",
    "\n",
    "在本地测试完容器镜像后，将镜像推送到Artifact Registry。创建Vertex AI模型资源时，将使用Artifact Registry镜像URI。"
   ]
  },
  {
   "cell_type": "code",
   "execution_count": null,
   "metadata": {
    "id": "58f094be7ec1"
   },
   "outputs": [],
   "source": [
    "! docker push $IMAGE_URI"
   ]
  },
  {
   "cell_type": "markdown",
   "metadata": {
    "id": "4d2bb68b8f9b"
   },
   "source": [
    "创建顶点 AI 模型资源\n",
    "\n",
    "必须创建一个顶点 AI 模型资源才能将模型部署到顶点 AI 预测终端点。创建一个顶点 AI 模型资源，部署图像指向模型构件。请参考[顶点 AI 预测指南](https://cloud.google.com/vertex-ai/docs/predictions/use-custom-container)了解如何使用自定义容器创建顶点 AI 模型资源。"
   ]
  },
  {
   "cell_type": "code",
   "execution_count": null,
   "metadata": {
    "id": "1f643458b022"
   },
   "outputs": [],
   "source": [
    "print(f\"MODEL_ARTIFACTS_REPOSITORY = {MODEL_ARTIFACTS_REPOSITORY}\")\n",
    "print(f\"MODEL_DISPLAY_NAME = {MODEL_DISPLAY_NAME}\")\n",
    "print(f\"IMAGE_URI = {IMAGE_URI}\")"
   ]
  },
  {
   "cell_type": "code",
   "execution_count": null,
   "metadata": {
    "id": "8d86c4d8f0c7"
   },
   "outputs": [],
   "source": [
    "model = aip.Model.upload(\n",
    "    display_name=MODEL_DISPLAY_NAME,\n",
    "    serving_container_image_uri=IMAGE_URI,\n",
    "    artifact_uri=MODEL_ARTIFACTS_REPOSITORY,\n",
    "    sync=True,\n",
    "    serving_container_args=[\n",
    "        \"--backend-config=tensorflow,version=2\",\n",
    "        \"--backend-config=tensorflow,transfer_threshold=0\",\n",
    "        \"--backend-config=python,shm-default-byte-size=33554432,shm-growth-byte-size=8388608\",\n",
    "        \"--backend-config=fil,transfer_threshold=0\",\n",
    "        \"--vertex-ai-default-model=ensemble\",\n",
    "        \"--strict-model-config=true\",\n",
    "        \"--log-verbose=99\",\n",
    "        \"--log-error=1\",\n",
    "    ],\n",
    ")\n",
    "\n",
    "print(model.resource_name)"
   ]
  },
  {
   "cell_type": "markdown",
   "metadata": {
    "id": "f3c8c48ee2fb"
   },
   "source": [
    "## 将模型部署到Vertex AI预测\n",
    "\n",
    "部署Vertex AI模型是一个两步过程。\n",
    "\n",
    "1. 创建一个`Endpoint`，向使用模型的用户暴露外部接口。\n",
    "2. 在`Endpoint`准备就绪后，将多个版本的模型部署到`Endpoint`。部署的模型运行自定义容器图像，其中运行Triton以提供预测。"
   ]
  },
  {
   "cell_type": "markdown",
   "metadata": {
    "id": "b1488b536cf8"
   },
   "source": [
    "创建终端点\n",
    "\n",
    "在部署您创建的`模型`之前，您需要创建一个`Vertex AI终端点`。"
   ]
  },
  {
   "cell_type": "code",
   "execution_count": null,
   "metadata": {
    "id": "38fbd01376fa"
   },
   "outputs": [],
   "source": [
    "endpoint = aip.Endpoint.create(display_name=ENDPOINT_DISPLAY_NAME)"
   ]
  },
  {
   "cell_type": "markdown",
   "metadata": {
    "id": "d04a1e77ebda"
   },
   "source": [
    "### 部署模型到端点\n",
    "\n",
    "在`端点`准备好之后，将`模型`部署到`端点`。部署的模型在配备NVIDIA Tesla T4 GPU的GPU节点上运行Triton Server。\n",
    "\n",
    "欲了解更多信息，请参阅[使用Vertex AI API部署模型](https://cloud.google.com/vertex-ai/docs/predictions/deploy-model-api)指南。\n",
    "\n",
    "**注意：** 此步骤可能需要长达20分钟。"
   ]
  },
  {
   "cell_type": "code",
   "execution_count": null,
   "metadata": {
    "id": "567c1f644e3f"
   },
   "outputs": [],
   "source": [
    "traffic_percentage = 100\n",
    "machine_type = \"n1-standard-4\"\n",
    "accelerator_type = \"NVIDIA_TESLA_T4\"\n",
    "accelerator_count = 1\n",
    "min_replica_count = 1\n",
    "max_replica_count = 2\n",
    "\n",
    "model.deploy(\n",
    "    endpoint=endpoint,\n",
    "    deployed_model_display_name=MODEL_DISPLAY_NAME,\n",
    "    machine_type=machine_type,\n",
    "    min_replica_count=min_replica_count,\n",
    "    max_replica_count=max_replica_count,\n",
    "    traffic_percentage=traffic_percentage,\n",
    "    accelerator_type=accelerator_type,\n",
    "    accelerator_count=accelerator_count,\n",
    "    sync=True,\n",
    ")\n",
    "\n",
    "print(endpoint.name)"
   ]
  },
  {
   "cell_type": "markdown",
   "metadata": {
    "id": "be665a6d09db"
   },
   "source": [
    "## 调用模型并获取预测结果\n",
    "\n",
    "要通过Vertex AI预测端点调用模型，请使用标准推断请求JSON对象或具有二进制扩展的推断请求JSON对象格式化预测请求，并将请求提交给Vertex AI预测的REST rawPredict端点。\n",
    "\n",
    "---\n",
    "\n",
    "必须使用`rawPredict` API而不是`predict` API，因为Triton使用的预测请求格式与Vertex AI预测的标准输入格式不兼容。\n",
    "\n",
    "---\n",
    "\n",
    "在[上一节](#Download-test-image-file-and-generate-payload-to-make-prediction-requests)中，请求主体被格式化为标准推断请求JSON对象。"
   ]
  },
  {
   "cell_type": "markdown",
   "metadata": {
    "id": "539bd89689e0"
   },
   "source": [
    "您可以使用[Vertex AI SDK](https://googleapis.dev/python/aiplatform/latest/aiplatform_v1/prediction_service.html#:~:text=async-,raw_predict,-(request%3A%20Optional%5BUnion)调用Vertex AI Prediction `rawPredict`终点，也可以使用任何HTTP工具或库，包括`curl`。\n",
    "\n",
    "在另一个会话中使用`Endpoint`：将终点设置为以下内容\n",
    "\n",
    "```\n",
    "endpoint = aip.Endpoint('projects/<project-number>/locations/<region>/endpoints/<endpoint-id>')\n",
    "```"
   ]
  },
  {
   "cell_type": "markdown",
   "metadata": {
    "id": "ef14f78a6e8f"
   },
   "source": [
    "使用Vertex AI SDK调用`rawPredict`获取预测响应。"
   ]
  },
  {
   "cell_type": "markdown",
   "metadata": {
    "id": "796efa92222c"
   },
   "source": [
    "以下功能调用部署在Vertex AI端点上的Triton推理服务器，需要提供端点资源名称、在同一端点上部署多个模型时要调用的模型名称以及要传递给Triton推理服务器的附加标头。"
   ]
  },
  {
   "cell_type": "code",
   "execution_count": null,
   "metadata": {
    "id": "d9aae97e657d"
   },
   "outputs": [],
   "source": [
    "def get_triton_prediction_vertex(\n",
    "    model_name,\n",
    "    endpoint_name,\n",
    "    api_endpoint=f\"{REGION}-aiplatform.googleapis.com\",\n",
    "    headers=None,\n",
    "):\n",
    "    # set up vertex ai prediction client\n",
    "    client_options = {\"api_endpoint\": api_endpoint}\n",
    "    gapic_client = gapic.PredictionServiceClient(client_options=client_options)\n",
    "\n",
    "    # generate example data to classify\n",
    "    features = 4\n",
    "    samples = 1\n",
    "    data = np.random.rand(samples, features).astype(\"float32\")\n",
    "\n",
    "    # payload configuration defining input and output names\n",
    "    payload_config = {\n",
    "        \"sci_1\": {\"input\": \"input__0\", \"output\": \"output__0\"},\n",
    "        \"sci_2\": {\"input\": \"input__0\", \"output\": \"output__0\"},\n",
    "        \"xgb\": {\"input\": \"input__0\", \"output\": \"output__0\"},\n",
    "        \"tf\": {\"input\": \"dense_input\", \"output\": \"round\"},\n",
    "        \"ensemble\": {\"input\": \"INPUT0\", \"output\": \"OUTPUT0\"},\n",
    "        \"mux\": {\n",
    "            \"input\": \"mux_in\",\n",
    "            \"output\": [\"mux_xgb_out\", \"mux_tf_out\", \"mux_sci_1_out\", \"mux_sci_2_out\"],\n",
    "        },\n",
    "    }\n",
    "\n",
    "    # get input and output names based on model name\n",
    "    input_name = payload_config[model_name][\"input\"]\n",
    "    output_name = payload_config[model_name][\"output\"]\n",
    "\n",
    "    # set up Triton input and output objects for HTTP\n",
    "    triton_input_http = triton_http.InferInput(input_name, (samples, features), \"FP32\")\n",
    "    triton_input_http.set_data_from_numpy(data, binary_data=False)\n",
    "\n",
    "    if isinstance(output_name, list):\n",
    "        triton_output_http = [\n",
    "            triton_http.InferRequestedOutput(output, binary_data=False)\n",
    "            for output in output_name\n",
    "        ]\n",
    "\n",
    "    else:\n",
    "        triton_output_http = [\n",
    "            triton_http.InferRequestedOutput(output_name, binary_data=False)\n",
    "        ]\n",
    "\n",
    "    # create inference request\n",
    "    _data, _ = triton_http._utils._get_inference_request(\n",
    "        inputs=[triton_input_http],\n",
    "        outputs=triton_output_http,\n",
    "        request_id=\"\",\n",
    "        sequence_id=0,\n",
    "        sequence_start=False,\n",
    "        sequence_end=False,\n",
    "        priority=0,\n",
    "        timeout=None,\n",
    "        custom_parameters=None,\n",
    "    )\n",
    "    http_body = httpbody_pb2.HttpBody(data=_data, content_type=\"application/json\")\n",
    "    print(f\"request: {data}\")\n",
    "    # submit inference request\n",
    "    request = gapic.RawPredictRequest(endpoint=endpoint_name, http_body=http_body)\n",
    "    response = gapic_client.raw_predict(request=request, metadata=headers)\n",
    "    # get result as json\n",
    "    result_http = json.loads(response.data.decode(\"utf-8\"))\n",
    "    print(f\"response: {result_http['outputs'][0]['data']}\")"
   ]
  },
  {
   "cell_type": "markdown",
   "metadata": {
    "id": "d1cb9f10e09e"
   },
   "source": [
    "#### 发出模型集成预测请求\n",
    "\n",
    "调用Vertex AI端点，从部署的多个模型（包括一个集成模型）获取Triton服务器的预测响应。"
   ]
  },
  {
   "cell_type": "code",
   "execution_count": null,
   "metadata": {
    "id": "d095caa1de2c"
   },
   "outputs": [],
   "source": [
    "endpoint_name = endpoint.resource_name\n",
    "\n",
    "# model names: sci_1, sci_2, xgb, tf, ensemble\n",
    "for model_name in [\"sci_1\", \"sci_2\", \"xgb\", \"tf\", \"ensemble\"]:\n",
    "    print(f\"Predictions from model: {model_name}\")\n",
    "    headers = {\"x-vertex-ai-triton-redirect\": f\"v2/models/{model_name}/infer\"}\n",
    "    get_triton_prediction_vertex(\n",
    "        model_name, endpoint_name, headers=tuple(headers.items())\n",
    "    )\n",
    "    print(\"-\" * 16)"
   ]
  },
  {
   "cell_type": "markdown",
   "metadata": {
    "id": "d2dfa7278a60"
   },
   "source": [
    "用负载文件调用 Vertex AI 端点的示例样本，而不是生成内联负载"
   ]
  },
  {
   "cell_type": "code",
   "execution_count": null,
   "metadata": {
    "id": "0fc2e930ecdb"
   },
   "outputs": [],
   "source": [
    "# initialize service client\n",
    "client_options = {\"api_endpoint\": f\"{REGION}-aiplatform.googleapis.com\"}\n",
    "prediction_client = gapic.PredictionServiceClient(client_options=client_options)\n",
    "\n",
    "payload_file = \"payload_ensemble.json\""
   ]
  },
  {
   "cell_type": "code",
   "execution_count": null,
   "metadata": {
    "id": "2102aa4b8a97"
   },
   "outputs": [],
   "source": [
    "%%bash -s $payload_file\n",
    "\n",
    "payload_file=$1\n",
    "echo \"Writing $payload_file\"\n",
    "\n",
    "cat <<EOF > $payload_file\n",
    "{\"id\": \"0\", \"inputs\": [{\"name\": \"INPUT0\", \"shape\": [1, 4], \"datatype\": \"FP32\", \"parameters\": {}, \"data\": [0.6060078144073486, 0.2473181188106537, 0.5559595227241516, 0.8552274703979492]}]}\n",
    "EOF"
   ]
  },
  {
   "cell_type": "markdown",
   "metadata": {
    "id": "77966cc1685f"
   },
   "source": [
    "格式化http请求"
   ]
  },
  {
   "cell_type": "code",
   "execution_count": null,
   "metadata": {
    "id": "c97b1200e22f"
   },
   "outputs": [],
   "source": [
    "# format payload\n",
    "http_body = httpbody_pb2.HttpBody(\n",
    "    data=open(payload_file).read().encode(\"utf-8\"),\n",
    "    content_type=\"application/json\",\n",
    ")\n",
    "\n",
    "print(http_body)\n",
    "\n",
    "# Initialize request argument(s)\n",
    "request = gapic.RawPredictRequest(endpoint=endpoint_name, http_body=http_body)"
   ]
  },
  {
   "cell_type": "markdown",
   "metadata": {
    "id": "395a2836a569"
   },
   "source": [
    "发出预测请求 (Fāchū yùcè qǐngqiú)"
   ]
  },
  {
   "cell_type": "code",
   "execution_count": null,
   "metadata": {
    "id": "7fc337a9f7be"
   },
   "outputs": [],
   "source": [
    "# Make the prediction request\n",
    "response = prediction_client.raw_predict(request=request)\n",
    "result = json.loads(response.data)\n",
    "\n",
    "print(result)"
   ]
  },
  {
   "cell_type": "markdown",
   "metadata": {
    "id": "6cf44dd9e744"
   },
   "source": [
    "### 使用`curl`请求获取预测响应\n",
    "\n",
    "请注意以下URI中`rawPredict` API端点的使用。"
   ]
  },
  {
   "cell_type": "code",
   "execution_count": null,
   "metadata": {
    "id": "31f15c9b6fe5"
   },
   "outputs": [],
   "source": [
    "endpoint_uri = f\"https://{REGION}-aiplatform.googleapis.com/v1/projects/{PROJECT_ID}/locations/{REGION}/endpoints/{endpoint.name}:rawPredict\""
   ]
  },
  {
   "cell_type": "markdown",
   "metadata": {
    "id": "c15b112bf855"
   },
   "source": [
    "为TensorFlow模型创建专用的有效载荷，而不是默认的集成模型。"
   ]
  },
  {
   "cell_type": "code",
   "execution_count": null,
   "metadata": {
    "id": "b7e61dfdfbe7"
   },
   "outputs": [],
   "source": [
    "%%bash\n",
    "\n",
    "echo \"Writing payload for TensorFlow model\"\n",
    "\n",
    "cat <<EOF > payload_tf.json\n",
    "{\"id\": \"0\", \"inputs\": [{\"name\": \"dense_input\", \"shape\": [1, 4], \"datatype\": \"FP32\", \"parameters\": {}, \"data\": [0.3097294569015503, 0.5998961329460144, 0.09703510254621506, 0.11341036856174469], \"raw_data\": null}]}\n",
    "EOF"
   ]
  },
  {
   "cell_type": "markdown",
   "metadata": {
    "id": "342a67a5ed52"
   },
   "source": [
    "将附加的标题添加到 TensorFlow 模型推断中，而不是默认模型（端点上部署了多个模型）。"
   ]
  },
  {
   "cell_type": "code",
   "execution_count": null,
   "metadata": {
    "id": "dbfbee893d35"
   },
   "outputs": [],
   "source": [
    "! curl -X POST \\\n",
    "   -H \"Authorization: Bearer $(gcloud auth print-access-token)\" \\\n",
    "   -H \"Content-Type: application/json\"  \\\n",
    "   -H \"Accept: */*\" \\\n",
    "   -H \"X-Vertex-Ai-Triton-Redirect: v2/models/tf/infer\" \\\n",
    "   $endpoint_uri \\\n",
    "   -d @payload_tf.json"
   ]
  },
  {
   "cell_type": "markdown",
   "metadata": {
    "id": "f898a2c7a826"
   },
   "source": [
    "清理\n",
    "\n",
    "### 清理训练和部署资源\n",
    "\n",
    "要清理此笔记本中使用的所有谷歌云资源，您可以[删除用于本教程的谷歌云项目](https://cloud.google.com/resource-manager/docs/creating-managing-projects#shutting_down_projects)。\n",
    "\n",
    "否则，您可以删除本教程中创建的各个资源：\n",
    "\n",
    "- 模型\n",
    "- 终端\n",
    "- 云存储桶\n",
    "- 容器映像"
   ]
  },
  {
   "cell_type": "code",
   "execution_count": null,
   "metadata": {
    "id": "9f483a2db5d9"
   },
   "outputs": [],
   "source": [
    "delete_endpoint = True\n",
    "delete_model = True\n",
    "delete_bucket = False\n",
    "delete_image = True\n",
    "\n",
    "# Delete the endpoint using the Vertex AI fully qualified identifier for the endpoint\n",
    "try:\n",
    "    if delete_endpoint or os.getenv(\"IS_TESTING\"):\n",
    "        # get endpoint resource\n",
    "        endpoints = aip.Endpoint.list(\n",
    "            filter=f\"display_name={ENDPOINT_DISPLAY_NAME}\", order_by=\"create_time\"\n",
    "        )\n",
    "        endpoint = endpoints[0]\n",
    "        # undeploy models from the endpoint\n",
    "        print(\n",
    "            f\"Undeploying all deployed models from the endpoint {endpoint.display_name} [{endpoint._gca_resource.name}]\"\n",
    "        )\n",
    "        endpoint.undeploy_all(sync=True)\n",
    "        # deleting endpoint\n",
    "        print(\n",
    "            f\"Deleting endpoint {endpoint.display_name} [{endpoint._gca_resource.name}]\"\n",
    "        )\n",
    "        aip.Endpoint.delete(endpoint)\n",
    "        print(f\"Deleted endpoint {endpoint.display_name}\")\n",
    "except Exception as e:\n",
    "    print(e)"
   ]
  },
  {
   "cell_type": "markdown",
   "metadata": {
    "id": "d6498adbdb04"
   },
   "source": [
    "删除模型"
   ]
  },
  {
   "cell_type": "code",
   "execution_count": null,
   "metadata": {
    "id": "858a7e25dac9"
   },
   "outputs": [],
   "source": [
    "# Delete the model using the Vertex AI fully qualified identifier for the model\n",
    "try:\n",
    "    if delete_model or os.getenv(\"IS_TESTING\"):\n",
    "        # get model resource\n",
    "        models = aip.Model.list(\n",
    "            filter=f\"display_name={MODEL_DISPLAY_NAME}\", order_by=\"create_time\"\n",
    "        )\n",
    "        for model in models:\n",
    "            # deleting model\n",
    "            print(f\"Deleting model {model.display_name} [{model._gca_resource.name}]\")\n",
    "            aip.Model.delete(model)\n",
    "            print(f\"Deleted model {model.display_name}\")\n",
    "except Exception as e:\n",
    "    print(e)"
   ]
  },
  {
   "cell_type": "markdown",
   "metadata": {
    "id": "63525ba98cd6"
   },
   "source": [
    "#### **从临时存储桶中删除内容**\n",
    "\n",
    "---\n",
    "\n",
    "***注意：此云存储桶中的所有内容都将被删除。请谨慎操作。***\n",
    "\n",
    "---"
   ]
  },
  {
   "cell_type": "code",
   "execution_count": null,
   "metadata": {
    "id": "f25c0aaa1d66"
   },
   "outputs": [],
   "source": [
    "if delete_bucket or os.getenv(\"IS_TESTING\"):\n",
    "    ! gsutil rm -r $BUCKET_NAME\n",
    "    \n",
    "rm -f Dockerfile payload_*.json"
   ]
  },
  {
   "cell_type": "markdown",
   "metadata": {
    "id": "c1685fb4374b"
   },
   "source": [
    "### 从工件注册表中删除图像\n",
    "\n",
    "从注册表中删除由变量 `IMAGE_NAME` 定义名称创建的所有容器图像。所有关联的标签也会被删除。"
   ]
  },
  {
   "cell_type": "code",
   "execution_count": null,
   "metadata": {
    "id": "17eea976bc97"
   },
   "outputs": [],
   "source": [
    "gar_images = ! gcloud artifacts docker images list $REGION-docker.pkg.dev/$PROJECT_ID/$DOCKER_ARTIFACT_REPO \\\n",
    "      --filter=\"package~\"$(echo $IMAGE_NAME | sed 's/:.*//') \\\n",
    "      --format=\"get(package)\"\n",
    "\n",
    "try:\n",
    "    if delete_image or os.getenv(\"IS_TESTING\"):\n",
    "        for image in gar_images:\n",
    "            # delete only if image name starts with valid region\n",
    "            if image.startswith(f'{REGION}-docker.pkg.dev'):\n",
    "                print(f\"Deleting image {image} including all tags\")\n",
    "                ! gcloud artifacts docker images delete $image --delete-tags --quiet\n",
    "except Exception as e:\n",
    "    print(e)"
   ]
  },
  {
   "cell_type": "markdown",
   "metadata": {
    "id": "286d2c9d3dd5"
   },
   "source": [
    "### 清理笔记本环境\n",
    "\n",
    "在您完成实验后，可以选择[停止](https://cloud.google.com/ai-platform/notebooks/docs/shut-down)或删除AI笔记本实例，以避免任何费用。如果您想要保存您的工作，可以选择停止实例。\n",
    "\n",
    "```\n",
    "＃停止笔记本实例\n",
    "gcloud notebooks instances stop example-instance --location=us-central1-a\n",
    "\n",
    "\n",
    "＃删除笔记本实例\n",
    "gcloud notebooks instances delete example-instance --location=us-central1-a\n",
    "```"
   ]
  }
 ],
 "metadata": {
  "colab": {
   "name": "get_started_with_triton_ensemble.ipynb",
   "toc_visible": true
  },
  "kernelspec": {
   "display_name": "Python 3",
   "name": "python3"
  }
 },
 "nbformat": 4,
 "nbformat_minor": 0
}
