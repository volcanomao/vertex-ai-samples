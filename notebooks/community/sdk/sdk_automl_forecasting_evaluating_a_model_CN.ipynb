{
 "cells": [
  {
   "cell_type": "code",
   "execution_count": null,
   "metadata": {
    "id": "ur8xi4C7S06n"
   },
   "outputs": [],
   "source": [
    "# Copyright 2021 Google LLC\n",
    "#\n",
    "# Licensed under the Apache License, Version 2.0 (the \"License\");\n",
    "# you may not use this file except in compliance with the License.\n",
    "# You may obtain a copy of the License at\n",
    "#\n",
    "#     https://www.apache.org/licenses/LICENSE-2.0\n",
    "#\n",
    "# Unless required by applicable law or agreed to in writing, software\n",
    "# distributed under the License is distributed on an \"AS IS\" BASIS,\n",
    "# WITHOUT WARRANTIES OR CONDITIONS OF ANY KIND, either express or implied.\n",
    "# See the License for the specific language governing permissions and\n",
    "# limitations under the License."
   ]
  },
  {
   "cell_type": "markdown",
   "metadata": {
    "id": "eHLV0D7Y5jtU"
   },
   "source": [
    "# Vertex AI Model Builder SDK：AutoML 预测模型训练示例\n",
    "\n",
    "要使用这个 Colab 笔记本，您需要将笔记本复制到您自己的谷歌云端硬盘，并在 Colab（或 Colab）中打开。您可以运行每个步骤或单元，并查看其结果。要运行单元格，请使用 Shift+Enter。Colab 会自动显示每个单元格中最后一行的返回值。有关在 Colab 中运行笔记本的更多信息，请参见 [Colab 欢迎页面](https://colab.research.google.com/notebooks/welcome.ipynb)。\n",
    "\n",
    "这个笔记本演示了如何基于时间序列数据集创建一个 AutoML 预测模型。还将提及导出和可视化测试集预测的过程。您需要提供一个存储数据集的存储桶。\n",
    "\n",
    "注意：您可能会因测试此 SDK 而产生培训、预测、存储或使用其他 GCP 产品的费用。"
   ]
  },
  {
   "cell_type": "markdown",
   "metadata": {
    "id": "lld3eeJUs5yM"
   },
   "source": [
    "# 安装Vertex AI SDK，进行身份验证，并将数据集上传到您的GCS存储桶\n",
    "\n",
    "在安装SDK后，内核将会自动重新启动。您可能会看到错误消息`Your session crashed for an unknown reason`，这是正常的。"
   ]
  },
  {
   "cell_type": "code",
   "execution_count": null,
   "metadata": {
    "id": "cMZLb8Arr2AG"
   },
   "outputs": [],
   "source": [
    "%%capture\n",
    "!pip3 uninstall -y google-cloud-aiplatform\n",
    "!pip3 install google-cloud-aiplatform\n",
    "\n",
    "import IPython\n",
    "\n",
    "app = IPython.Application.instance()\n",
    "app.kernel.do_shutdown(True)"
   ]
  },
  {
   "cell_type": "code",
   "execution_count": null,
   "metadata": {
    "id": "ApsLDJjdsGPN"
   },
   "outputs": [],
   "source": [
    "import sys\n",
    "\n",
    "if \"google.colab\" in sys.modules:\n",
    "    from google.colab import auth\n",
    "\n",
    "    auth.authenticate_user()"
   ]
  },
  {
   "cell_type": "markdown",
   "metadata": {
    "id": "c0SNmTBeD2nV"
   },
   "source": [
    "### 输入您的项目和GCS桶\n",
    "\n",
    "在下面的单元格中输入您的项目ID。然后运行该单元格，以确保Cloud SDK在这个笔记本中的所有命令都使用正确的项目。"
   ]
  },
  {
   "cell_type": "markdown",
   "metadata": {
    "id": "s19AzYSGLIb9"
   },
   "source": [
    "如果您不知道您的项目 ID，您可以使用 gcloud 命令获取您的项目 ID。"
   ]
  },
  {
   "cell_type": "code",
   "execution_count": null,
   "metadata": {
    "id": "nwlVqT6RKxG7"
   },
   "outputs": [],
   "source": [
    "import os\n",
    "\n",
    "PROJECT_ID = \"\"\n",
    "\n",
    "# Get your Google Cloud project ID from gcloud\n",
    "if not os.getenv(\"IS_TESTING\"):\n",
    "    shell_output = !gcloud config list --format 'value(core.project)' 2>/dev/null\n",
    "    PROJECT_ID = shell_output[0]\n",
    "    print(\"Project ID: \", PROJECT_ID)"
   ]
  },
  {
   "cell_type": "markdown",
   "metadata": {
    "id": "H5E8VB3jLOFC"
   },
   "source": [
    "否则，请在这里设置您的项目ID。"
   ]
  },
  {
   "cell_type": "code",
   "execution_count": null,
   "metadata": {
    "id": "DrED76XTK9OB"
   },
   "outputs": [],
   "source": [
    "if PROJECT_ID == \"\" or PROJECT_ID is None:\n",
    "    PROJECT_ID = \"\"  # @param {type:\"string\"}"
   ]
  },
  {
   "cell_type": "markdown",
   "metadata": {
    "id": "zkJk7agzT6F9"
   },
   "source": [
    "如果您正在进行实时教程会话，您可能正在使用共享的测试账户或项目。为了避免在创建的资源上发生名称冲突，您可以为每个实例会话创建一个时间戳，并将其附加到您在本教程中创建的资源的名称上。"
   ]
  },
  {
   "cell_type": "code",
   "execution_count": null,
   "metadata": {
    "id": "qcRkdZBaUAz4"
   },
   "outputs": [],
   "source": [
    "from datetime import datetime\n",
    "\n",
    "TIMESTAMP = datetime.now().strftime(\"%Y%m%d%H%M%S\")"
   ]
  },
  {
   "cell_type": "markdown",
   "metadata": {
    "id": "TFfpJs3DQsfo"
   },
   "source": [
    "请在下面设置您的云存储桶名称。它必须在所有云存储桶中是唯一的。\n",
    "\n",
    "您也可以更改REGION变量，在本笔记本的其余部分中使用。请确保选择一个[Vertex AI 服务可用的地区](https://cloud.google.com/vertex-ai/docs/general/locations#available_regions)。您不可以使用多区域存储桶来进行 Vertex AI 的训练。"
   ]
  },
  {
   "cell_type": "code",
   "execution_count": null,
   "metadata": {
    "id": "iqSQT6Z6bekX"
   },
   "outputs": [],
   "source": [
    "BUCKET_NAME = \"\"  # @param {type:\"string\"}\n",
    "REGION = \"\"  # @param {type:\"string\"}"
   ]
  },
  {
   "cell_type": "code",
   "execution_count": null,
   "metadata": {
    "id": "ukGsLjm-Ki14"
   },
   "outputs": [],
   "source": [
    "if BUCKET_NAME == \"\" or BUCKET_NAME is None or BUCKET_NAME == \"gs://[your-bucket-name]\":\n",
    "    BUCKET_NAME = \"gs://\" + PROJECT_ID + \"aip-\" + TIMESTAMP"
   ]
  },
  {
   "cell_type": "markdown",
   "metadata": {
    "id": "-6AQjKlnx0mf"
   },
   "source": [
    "我们使用的数据集是来自[Iowa Liquor Retail Sales](https://pantheon.corp.google.com/marketplace/product/iowa-department-of-commerce/iowa-liquor-sales)数据集的样本。训练样本包含了2020年的销售数据，而预测样本（用于批量预测步骤）包含了2021年1月至4月的销售数据。"
   ]
  },
  {
   "cell_type": "code",
   "execution_count": null,
   "metadata": {
    "id": "V_T10yTTqcS_"
   },
   "outputs": [],
   "source": [
    "TRAINING_DATASET_BQ_PATH = (\n",
    "    \"bq://bigquery-public-data:iowa_liquor_sales_forecasting.2020_sales_train\"\n",
    ")"
   ]
  },
  {
   "cell_type": "markdown",
   "metadata": {
    "id": "rk43VP_IqcTE"
   },
   "source": [
    "初始化Vertex AI SDK\n",
    "\n",
    "为Vertex AI初始化*客户端*。"
   ]
  },
  {
   "cell_type": "code",
   "execution_count": null,
   "metadata": {
    "id": "VCiC9gBWqcTF"
   },
   "outputs": [],
   "source": [
    "from google.cloud import aiplatform\n",
    "\n",
    "aiplatform.init(project=PROJECT_ID, staging_bucket=BUCKET_NAME)"
   ]
  },
  {
   "cell_type": "markdown",
   "metadata": {
    "id": "35QVNhACqcTJ"
   },
   "source": [
    "# 从BigQuery中创建一个托管的时间序列数据集\n",
    "\n",
    "这部分将从一个BigQuery表中创建一个数据集。"
   ]
  },
  {
   "cell_type": "code",
   "execution_count": null,
   "metadata": {
    "id": "4OfCqaYRqcTJ"
   },
   "outputs": [],
   "source": [
    "ds = aiplatform.datasets.TimeSeriesDataset.create(\n",
    "    display_name=\"iowa_liquor_sales_train_job\", bq_source=[TRAINING_DATASET_BQ_PATH]\n",
    ")\n",
    "\n",
    "ds.resource_name\n",
    "ds"
   ]
  },
  {
   "cell_type": "markdown",
   "metadata": {
    "id": "6-bBqipfqcTS"
   },
   "source": [
    "启动一个培训工作来创建一个模型\n",
    "\n",
    "一旦我们定义了您的培训脚本，我们将创建一个模型，导出测试集的预测结果，并在培训日志中输出测试集预测结果的BigQuery位置。"
   ]
  },
  {
   "cell_type": "code",
   "execution_count": null,
   "metadata": {
    "id": "aA41rT_mb-rV"
   },
   "outputs": [],
   "source": [
    "time_column = \"date\"\n",
    "time_series_identifier_column = \"store_name\"\n",
    "target_column = \"sale_dollars\"\n",
    "\n",
    "job = aiplatform.AutoMLForecastingTrainingJob(\n",
    "    display_name=\"train-iowa-liquor-sales-automl-1\",\n",
    "    optimization_objective=\"minimize-rmse\",\n",
    "    column_specs={\n",
    "        time_column: \"timestamp\",\n",
    "        target_column: \"numeric\",\n",
    "        \"city\": \"categorical\",\n",
    "        \"zip_code\": \"categorical\",\n",
    "        \"county\": \"categorical\",\n",
    "    },\n",
    ")\n",
    "\n",
    "dataset_id = \"iowa_liquor_sales_train_job\"\n",
    "bq_table_name = \"iowa_liquor_sales_test_pred\"\n",
    "bq_evaluated_examples_uri = \"bq://{}:{}:{}\".format(\n",
    "    PROJECT_ID, dataset_id, bq_table_name\n",
    ")\n",
    "# This will take around an hour to run\n",
    "model = job.run(\n",
    "    dataset=ds,\n",
    "    target_column=target_column,\n",
    "    time_column=time_column,\n",
    "    time_series_identifier_column=time_series_identifier_column,\n",
    "    available_at_forecast_columns=[time_column],\n",
    "    unavailable_at_forecast_columns=[target_column],\n",
    "    time_series_attribute_columns=[\"city\", \"zip_code\", \"county\"],\n",
    "    forecast_horizon=30,\n",
    "    context_window=30,\n",
    "    data_granularity_unit=\"day\",\n",
    "    data_granularity_count=1,\n",
    "    weight_column=None,\n",
    "    export_evaluated_data_items=True,\n",
    "    budget_milli_node_hours=500,\n",
    "    model_display_name=\"iowa-liquor-sales-forecast-model\",\n",
    "    predefined_split_column_name=None,\n",
    ")"
   ]
  },
  {
   "cell_type": "code",
   "execution_count": null,
   "metadata": {
    "cellView": "form",
    "id": "muSC-mvgHno7"
   },
   "outputs": [],
   "source": [
    "# @title # Fetch Model Evaluation Metrics\n",
    "# @markdown Fetch the model evaluation metrics calculated during training on the test set.\n",
    "\n",
    "import pandas as pd\n",
    "\n",
    "list_evaluation_pager = model.api_client.list_model_evaluations(\n",
    "    parent=model.resource_name\n",
    ")\n",
    "for model_evaluation in list_evaluation_pager:\n",
    "    metrics_dict = {m[0]: m[1] for m in model_evaluation.metrics.items()}\n",
    "    df = pd.DataFrame(metrics_dict.items(), columns=[\"Metric\", \"Value\"])\n",
    "    print(df.to_string(index=False))"
   ]
  },
  {
   "cell_type": "code",
   "execution_count": null,
   "metadata": {
    "id": "ZHbB3u5EDFbZ"
   },
   "outputs": [],
   "source": [
    "time_column = \"date\"\n",
    "time_series_identifier_column = \"store_name\"\n",
    "target_column = \"sale_dollars\"\n",
    "MY_PROJECT = PROJECT_ID\n",
    "\n",
    "eval_ex_uri = job.evaluated_data_items_bigquery_uri"
   ]
  },
  {
   "cell_type": "code",
   "execution_count": null,
   "metadata": {
    "cellView": "form",
    "id": "eaEHv_Kdm3B8"
   },
   "outputs": [],
   "source": [
    "# @title # Visualize the Forecasts\n",
    "# @markdown The following snippet visualizes the test set predictions from the forecasting training job above to aid in model evaluation.\n",
    "# @markdown Visit the given link to view the generated forecasts in [Data Studio](https://support.google.com/datastudio/answer/6283323?hl=en).\n",
    "\n",
    "import urllib\n",
    "\n",
    "\n",
    "def _sanitize_bq_uri(bq_uri):\n",
    "    if bq_uri.startswith(\"bq://\"):\n",
    "        bq_uri = bq_uri[5:]\n",
    "    return bq_uri.replace(\":\", \".\")\n",
    "\n",
    "\n",
    "eval_ex_uri_clean = _sanitize_bq_uri(eval_ex_uri)\n",
    "\n",
    "\n",
    "def get_data_studio_link(\n",
    "    eval_input_uri, time_column, time_series_identifier_column, target_column\n",
    "):\n",
    "\n",
    "    base_url = \"https://datastudio.google.com/c/u/0/reporting\"\n",
    "    query = (\n",
    "        \"SELECT \\\\n\"\n",
    "        \" CAST({} as DATETIME) timestamp_col,\\\\n\"\n",
    "        \" CAST({} as STRING) time_series_identifier_col,\\\\n\"\n",
    "        \" CAST({} as NUMERIC) actual_values,\\\\n\"\n",
    "        \" CAST(predicted_{}.value as NUMERIC) predicted_values,\\\\n\"\n",
    "        \" CAST(predicted_on_{} as DATETIME) predicted_on_Date_col,\\\\n\"\n",
    "        \" CAST({} as NUMERIC) - CAST(predicted_{}.value as NUMERIC) residuals,\\\\n\"\n",
    "        \" * \\\\n\"\n",
    "        \"FROM `{}` input\"\n",
    "    )\n",
    "    query = query.format(\n",
    "        time_column,\n",
    "        time_series_identifier_column,\n",
    "        target_column,\n",
    "        target_column,\n",
    "        time_column,\n",
    "        target_column,\n",
    "        target_column,\n",
    "        eval_input_uri,\n",
    "    )\n",
    "    params = {\n",
    "        \"templateId\": \"5df87696-b427-49d8-aeec-b885f9b7080f\",\n",
    "        \"ds0.connector\": \"BIG_QUERY\",\n",
    "        \"ds0.projectId\": MY_PROJECT,\n",
    "        \"ds0.billingProjectId\": MY_PROJECT,\n",
    "        \"ds0.type\": \"CUSTOM_QUERY\",\n",
    "        \"ds0.sql\": query,\n",
    "    }\n",
    "    params_str_parts = []\n",
    "    for k, v in params.items():\n",
    "        params_str_parts.append('\"{}\":\"{}\"'.format(k, v))\n",
    "    params_str = \"\".join([\"{\", \",\".join(params_str_parts), \"}\"])\n",
    "    return \"{}?{}\".format(base_url, urllib.parse.urlencode({\"params\": params_str}))\n",
    "\n",
    "\n",
    "print(\n",
    "    get_data_studio_link(\n",
    "        eval_ex_uri_clean, time_column, time_series_identifier_column, target_column\n",
    "    )\n",
    ")"
   ]
  },
  {
   "cell_type": "markdown",
   "metadata": {
    "id": "24NPJ7nCRchZ"
   },
   "source": [
    "清理\n",
    "\n",
    "要清理此项目中使用的所有谷歌云资源，您可以删除用于教程的[Google Cloud 项目](https://cloud.google.com/resource-manager/docs/creating-managing-projects#shutting_down_projects)。\n",
    "\n",
    "否则，您可以删除在本教程中创建的个别资源："
   ]
  },
  {
   "cell_type": "code",
   "execution_count": null,
   "metadata": {
    "id": "gq3ZSsAkRnXh"
   },
   "outputs": [],
   "source": [
    "# Delete model resource\n",
    "model.delete(sync=True)\n",
    "\n",
    "# Delete Cloud Storage objects that were created\n",
    "! gsutil -m rm -r $BUCKET_NAME"
   ]
  }
 ],
 "metadata": {
  "colab": {
   "collapsed_sections": [],
   "name": "sdk_automl_forecasting_evaluating_a_model.ipynb",
   "toc_visible": true
  },
  "kernelspec": {
   "display_name": "Python 3",
   "name": "python3"
  }
 },
 "nbformat": 4,
 "nbformat_minor": 0
}
