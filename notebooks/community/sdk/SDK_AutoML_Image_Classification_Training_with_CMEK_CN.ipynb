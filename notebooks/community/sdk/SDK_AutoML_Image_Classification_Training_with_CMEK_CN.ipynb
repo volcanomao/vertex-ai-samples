{
 "cells": [
  {
   "cell_type": "code",
   "execution_count": null,
   "metadata": {
    "id": "VBOfRw7ifk8w"
   },
   "outputs": [],
   "source": [
    "# Copyright 2021 Google LLC\n",
    "#\n",
    "# Licensed under the Apache License, Version 2.0 (the \"License\");\n",
    "# you may not use this file except in compliance with the License.\n",
    "# You may obtain a copy of the License at\n",
    "#\n",
    "#     https://www.apache.org/licenses/LICENSE-2.0\n",
    "#\n",
    "# Unless required by applicable law or agreed to in writing, software\n",
    "# distributed under the License is distributed on an \"AS IS\" BASIS,\n",
    "# WITHOUT WARRANTIES OR CONDITIONS OF ANY KIND, either express or implied.\n",
    "# See the License for the specific language governing permissions and\n",
    "# limitations under the License."
   ]
  },
  {
   "cell_type": "markdown",
   "metadata": {
    "id": "w3LR4Lj8fk8x"
   },
   "source": [
    "# 反馈或问题？\n",
    "如有任何反馈或疑问，请打开一个问题（issue）（https://github.com/googleapis/python-aiplatform/issues）。"
   ]
  },
  {
   "cell_type": "markdown",
   "metadata": {
    "id": "mUMzY5W9fk8y"
   },
   "source": [
    "# Python的Vertex SDK: 使用客户管理的加密密钥（CMEK）示例进行AutoML图像分类训练\n",
    "\n",
    "要使用此Jupyter笔记本，在Colab中创建一个副本并打开它。您可以运行每个步骤或单元，并查看其结果。要运行一个单元格，请使用Shift+Enter。Colab会自动显示每个单元格中最后一行的返回值。\n",
    "\n",
    "这个笔记本演示了如何使用CMEK训练AutoML图像分类模型。您需要提供一个存储数据集的存储桶。\n",
    "\n",
    "注意：在测试此SDK时，您可能会产生关于培训、预测、存储或其他GCP产品使用的费用。"
   ]
  },
  {
   "cell_type": "markdown",
   "metadata": {
    "id": "lld3eeJUs5yM"
   },
   "source": [
    "安装SDK后，内核将自动重新启动。"
   ]
  },
  {
   "cell_type": "code",
   "execution_count": null,
   "metadata": {
    "id": "sBfZtR4X1Dr_"
   },
   "outputs": [],
   "source": [
    "!pip3 uninstall -y google-cloud-aiplatform\n",
    "!pip3 install --upgrade google-cloud-kms\n",
    "!pip3 install google-cloud-aiplatform\n",
    "import IPython\n",
    "\n",
    "app = IPython.Application.instance()\n",
    "app.kernel.do_shutdown(True)"
   ]
  },
  {
   "cell_type": "markdown",
   "metadata": {
    "id": "c0SNmTBeD2nV"
   },
   "source": [
    "在下面的单元格中输入您的项目ID和GCS存储桶，请运行该单元格，确保Cloud SDK为该笔记本中的所有命令使用正确的项目。"
   ]
  },
  {
   "cell_type": "code",
   "execution_count": null,
   "metadata": {
    "id": "YcwsEwXPivBZ"
   },
   "outputs": [],
   "source": [
    "import sys\n",
    "\n",
    "if \"google.colab\" in sys.modules:\n",
    "    from google.colab import auth\n",
    "\n",
    "    auth.authenticate_user()"
   ]
  },
  {
   "cell_type": "code",
   "execution_count": null,
   "metadata": {
    "id": "iqSQT6Z6bekX"
   },
   "outputs": [],
   "source": [
    "REGION = \"YOUR REGION\"  # e.g. us-central1\n",
    "MY_PROJECT = \"YOUR PROJECT ID\"\n",
    "MY_STAGING_BUCKET = \"gs://YOUR BUCKET\"  # bucket should be in same region as ucaip"
   ]
  },
  {
   "cell_type": "markdown",
   "metadata": {
    "id": "mRk9eoTm6Pyi"
   },
   "source": [
    "设置客户管理的加密密钥\n",
    "\n",
    "默认情况下，Google Cloud 在数据处于静止状态时会自动使用由Google管理的加密密钥对数据进行加密。如果您对保护数据的密钥有特定的合规性或监管要求，您可以在训练作业中使用客户管理的加密密钥（CMEK）。\n",
    "\n",
    "有关在Vertex AI上使用CMEK的更多信息，请参阅：[https://cloud.google.com/vertex-ai/docs/general/cmek#before_you_begin](https://cloud.google.com/vertex-ai/docs/general/cmek#before_you_begin)\n",
    "\n",
    "您可以按照上述指南创建一个密钥，或者执行下面的笔记本单元格。"
   ]
  },
  {
   "cell_type": "markdown",
   "metadata": {
    "id": "RD_Pvrg584X3"
   },
   "source": [
    "1. 在Google云平台上注册您的应用程序以使用云密钥管理服务（KMS）API，请访问https://console.cloud.google.com/flows/enableapi?apiid=cloudkms.googleapis.com\n",
    "\n",
    "2. 创建一个密钥环\n",
    "\n",
    "创建一个密钥环"
   ]
  },
  {
   "cell_type": "code",
   "execution_count": null,
   "metadata": {
    "id": "dxRZzbvQnZC7"
   },
   "outputs": [],
   "source": [
    "KEY_RING_ID = \"your_key_ring_name\"\n",
    "\n",
    "\n",
    "# Reference: https://cloud.google.com/kms/docs/samples/kms-create-key-ring\n",
    "def create_key_ring(project_id, location_id, id):\n",
    "    \"\"\"\n",
    "    Creates a new key ring in Cloud KMS\n",
    "\n",
    "    Args:\n",
    "        project_id (string): Google Cloud project ID (e.g. 'my-project').\n",
    "        location_id (string): Cloud KMS location (e.g. 'us-east1').\n",
    "        id (string): ID of the key ring to create (e.g. 'my-key-ring').\n",
    "\n",
    "    Returns:\n",
    "        KeyRing: Cloud KMS key ring.\n",
    "\n",
    "    \"\"\"\n",
    "\n",
    "    # Import the client library.\n",
    "    from google.cloud import kms\n",
    "\n",
    "    # Create the client.\n",
    "    client = kms.KeyManagementServiceClient()\n",
    "\n",
    "    # Build the parent location name.\n",
    "    location_name = f\"projects/{project_id}/locations/{location_id}\"\n",
    "\n",
    "    # Build the key ring.\n",
    "    key_ring = {}\n",
    "\n",
    "    # Call the API.\n",
    "    created_key_ring = client.create_key_ring(\n",
    "        request={\"parent\": location_name, \"key_ring_id\": id, \"key_ring\": key_ring}\n",
    "    )\n",
    "    print(\"Created key ring: {}\".format(created_key_ring.name))\n",
    "    return created_key_ring\n",
    "\n",
    "\n",
    "create_key_ring(project_id=MY_PROJECT, location_id=REGION, id=KEY_RING_ID)"
   ]
  },
  {
   "cell_type": "markdown",
   "metadata": {
    "id": "gCL1-IfFtWXl"
   },
   "source": [
    "创建一个密钥 (chuàngjiàn yīgè mìyào)"
   ]
  },
  {
   "cell_type": "code",
   "execution_count": null,
   "metadata": {
    "id": "LXcagdmSnYYW"
   },
   "outputs": [],
   "source": [
    "KEY_ID = \"your_key_id\"\n",
    "\n",
    "\n",
    "# Reference: https://cloud.google.com/kms/docs/samples/kms-create-key-symmetric-encrypt-decrypt\n",
    "def create_key_symmetric_encrypt_decrypt(project_id, location_id, key_ring_id, id):\n",
    "    \"\"\"\n",
    "    Creates a new symmetric encryption/decryption key in Cloud KMS.\n",
    "\n",
    "    Args:\n",
    "        project_id (string): Google Cloud project ID (e.g. 'my-project').\n",
    "        location_id (string): Cloud KMS location (e.g. 'us-east1').\n",
    "        key_ring_id (string): ID of the Cloud KMS key ring (e.g. 'my-key-ring').\n",
    "        id (string): ID of the key to create (e.g. 'my-symmetric-key').\n",
    "\n",
    "    Returns:\n",
    "        CryptoKey: Cloud KMS key.\n",
    "\n",
    "    \"\"\"\n",
    "\n",
    "    # Import the client library.\n",
    "    from google.cloud import kms\n",
    "\n",
    "    # Create the client.\n",
    "    client = kms.KeyManagementServiceClient()\n",
    "\n",
    "    # Build the parent key ring name.\n",
    "    key_ring_name = client.key_ring_path(project_id, location_id, key_ring_id)\n",
    "\n",
    "    # Build the key.\n",
    "    purpose = kms.CryptoKey.CryptoKeyPurpose.ENCRYPT_DECRYPT\n",
    "    algorithm = (\n",
    "        kms.CryptoKeyVersion.CryptoKeyVersionAlgorithm.GOOGLE_SYMMETRIC_ENCRYPTION\n",
    "    )\n",
    "    key = {\n",
    "        \"purpose\": purpose,\n",
    "        \"version_template\": {\n",
    "            \"algorithm\": algorithm,\n",
    "        },\n",
    "    }\n",
    "\n",
    "    # Call the API.\n",
    "    created_key = client.create_crypto_key(\n",
    "        request={\"parent\": key_ring_name, \"crypto_key_id\": id, \"crypto_key\": key}\n",
    "    )\n",
    "    print(\"Created symmetric key: {}\".format(created_key.name))\n",
    "    return created_key\n",
    "\n",
    "\n",
    "create_key_symmetric_encrypt_decrypt(\n",
    "    project_id=MY_PROJECT, location_id=REGION, key_ring_id=KEY_RING_ID, id=KEY_ID\n",
    ")"
   ]
  },
  {
   "cell_type": "markdown",
   "metadata": {
    "id": "3gKDBOqC8Gl5"
   },
   "source": [
    "向顶点 AI 服务帐号授予权限。"
   ]
  },
  {
   "cell_type": "code",
   "execution_count": null,
   "metadata": {
    "id": "6QrRg08Vqfru"
   },
   "outputs": [],
   "source": [
    "# Reference: https://cloud.google.com/vertex-ai/docs/general/cmek#granting_permissions\n",
    "# Get the service account\n",
    "SERVICE_ACCOUNT = ! gcloud projects get-iam-policy {MY_PROJECT} \\\n",
    "  --flatten=\"bindings[].members\" \\\n",
    "  --format=\"table(bindings.members)\" \\\n",
    "  --filter=\"bindings.role:roles/aiplatform.serviceAgent\" \\\n",
    "  | grep -oP \"service-.+?@gcp-sa-aiplatform.iam.gserviceaccount.com\"\n",
    "SERVICE_ACCOUNT = SERVICE_ACCOUNT[0]\n",
    "\n",
    "print(f\"Service account is: {SERVICE_ACCOUNT}\")\n",
    "\n",
    "# Give permissions\n",
    "!gcloud kms keys add-iam-policy-binding {KEY_ID} \\\n",
    "  --keyring={KEY_RING_ID} \\\n",
    "  --location={REGION} \\\n",
    "  --project={MY_PROJECT} \\\n",
    "  --member=serviceAccount:{SERVICE_ACCOUNT} \\\n",
    "  --role=roles/cloudkms.cryptoKeyEncrypterDecrypter"
   ]
  },
  {
   "cell_type": "code",
   "execution_count": null,
   "metadata": {
    "id": "ebAHZg2vlhXL"
   },
   "outputs": [],
   "source": [
    "# Create the full resource identifier for the created key\n",
    "ENCRYPTION_SPEC_KEY_NAME = f\"projects/{MY_PROJECT}/locations/{REGION}/keyRings/{KEY_RING_ID}/cryptoKeys/{KEY_ID}\""
   ]
  },
  {
   "cell_type": "markdown",
   "metadata": {
    "id": "Aa_8wrqSkamz"
   },
   "source": [
    "## 初始化Python的Vertex SDK\n",
    "\n",
    "为Vertex AI初始化*client*\n",
    "\n",
    "在此笔记本运行期间创建的所有资源都将使用上面创建的加密密钥加密。\n",
    "\n",
    "您可以在每次函数调用时覆盖加密密钥。"
   ]
  },
  {
   "cell_type": "code",
   "execution_count": null,
   "metadata": {
    "id": "ohdgOs69kGNU"
   },
   "outputs": [],
   "source": [
    "from google.cloud import aiplatform\n",
    "\n",
    "aiplatform.init(\n",
    "    project=MY_PROJECT,\n",
    "    staging_bucket=MY_STAGING_BUCKET,\n",
    "    location=REGION,\n",
    "    encryption_spec_key_name=ENCRYPTION_SPEC_KEY_NAME,\n",
    ")"
   ]
  },
  {
   "cell_type": "markdown",
   "metadata": {
    "id": "35QVNhACqcTJ"
   },
   "source": [
    "# 从CSV创建托管图像数据集\n",
    "\n",
    "此部分将从花卉数据集创建一个托管图像数据集。有关此数据集的更多信息，请访问https://www.tensorflow.org/datasets/catalog/tf_flowers。"
   ]
  },
  {
   "cell_type": "code",
   "execution_count": null,
   "metadata": {
    "id": "4OfCqaYRqcTJ"
   },
   "outputs": [],
   "source": [
    "IMPORT_FILE = (\n",
    "    \"gs://cloud-samples-data/vision/automl_classification/flowers/all_data_v2.csv\"\n",
    ")\n",
    "\n",
    "ds = aiplatform.ImageDataset.create(\n",
    "    display_name=\"flowers\",\n",
    "    gcs_source=[IMPORT_FILE],\n",
    "    import_schema_uri=aiplatform.schema.dataset.ioformat.image.single_label_classification,\n",
    ")\n",
    "\n",
    "ds.resource_name"
   ]
  },
  {
   "cell_type": "markdown",
   "metadata": {
    "id": "6-bBqipfqcTS"
   },
   "source": [
    "启动一个训练任务来创建模型\n",
    "\n",
    "训练一个AutoML图像分类模型。"
   ]
  },
  {
   "cell_type": "code",
   "execution_count": null,
   "metadata": {
    "id": "aA41rT_mb-rV"
   },
   "outputs": [],
   "source": [
    "job = aiplatform.AutoMLImageTrainingJob(\n",
    "    display_name=\"train-iris-automl-mbsdk-1\",\n",
    "    prediction_type=\"classification\",\n",
    "    multi_label=False,\n",
    "    model_type=\"CLOUD\",\n",
    "    base_model=None,\n",
    ")\n",
    "\n",
    "# This will take around half an hour to run\n",
    "model = job.run(\n",
    "    dataset=ds,\n",
    "    model_display_name=\"iris-classification-model-mbsdk\",\n",
    "    training_fraction_split=0.6,\n",
    "    validation_fraction_split=0.2,\n",
    "    test_fraction_split=0.2,\n",
    "    budget_milli_node_hours=8000,\n",
    "    disable_early_stopping=False,\n",
    ")"
   ]
  },
  {
   "cell_type": "markdown",
   "metadata": {
    "id": "5vhDsMJNqcTW"
   },
   "source": [
    "部署您的模型，然后等待模型部署完成后再进行预测。"
   ]
  },
  {
   "cell_type": "code",
   "execution_count": null,
   "metadata": {
    "id": "Y9GH72wWqcTX"
   },
   "outputs": [],
   "source": [
    "endpoint = model.deploy()"
   ]
  },
  {
   "cell_type": "markdown",
   "metadata": {
    "id": "nIw1ifPuqcTb"
   },
   "source": [
    "# 预测终端\n",
    "- 从导入到数据集的数据中取一个样本\n",
    "- 这个样本将被编码为base64并传递到终端进行预测"
   ]
  },
  {
   "cell_type": "code",
   "execution_count": null,
   "metadata": {
    "id": "H23ISHdHVIZM"
   },
   "outputs": [],
   "source": [
    "test_item = !gsutil cat $IMPORT_FILE | head -n1\n",
    "test_item, test_label = str(test_item[0]).split(\",\")\n",
    "\n",
    "print(test_item, test_label)"
   ]
  },
  {
   "cell_type": "code",
   "execution_count": null,
   "metadata": {
    "id": "TF_N0kqZU768"
   },
   "outputs": [],
   "source": [
    "import base64\n",
    "\n",
    "import tensorflow as tf\n",
    "\n",
    "with tf.io.gfile.GFile(test_item, \"rb\") as f:\n",
    "    content = f.read()\n",
    "\n",
    "# The format of each instance should conform to the deployed model's prediction input schema.\n",
    "instances_list = [{\"content\": base64.b64encode(content).decode(\"utf-8\")}]\n",
    "\n",
    "prediction = endpoint.predict(instances=instances_list)\n",
    "\n",
    "prediction"
   ]
  },
  {
   "cell_type": "markdown",
   "metadata": {
    "id": "nWA3qocXfk82"
   },
   "source": [
    "取消模型从端点"
   ]
  },
  {
   "cell_type": "code",
   "execution_count": null,
   "metadata": {
    "id": "V1brMaO_fk82"
   },
   "outputs": [],
   "source": [
    "endpoint.undeploy_all()"
   ]
  }
 ],
 "metadata": {
  "colab": {
   "collapsed_sections": [],
   "name": "AI_Platform_(Unified)_SDK_AutoML_Image_Classification_Training_with_CMEK.ipynb",
   "toc_visible": true
  },
  "kernelspec": {
   "display_name": "Python 3",
   "name": "python3"
  }
 },
 "nbformat": 4,
 "nbformat_minor": 0
}
