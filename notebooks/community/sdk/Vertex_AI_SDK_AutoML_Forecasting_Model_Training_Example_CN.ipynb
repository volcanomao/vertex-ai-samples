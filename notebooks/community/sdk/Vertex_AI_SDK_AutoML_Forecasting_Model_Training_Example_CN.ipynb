{
 "cells": [
  {
   "cell_type": "code",
   "execution_count": null,
   "metadata": {
    "id": "ur8xi4C7S06n"
   },
   "outputs": [],
   "source": [
    "# Copyright 2021 Google LLC\n",
    "#\n",
    "# Licensed under the Apache License, Version 2.0 (the \"License\");\n",
    "# you may not use this file except in compliance with the License.\n",
    "# You may obtain a copy of the License at\n",
    "#\n",
    "#     https://www.apache.org/licenses/LICENSE-2.0\n",
    "#\n",
    "# Unless required by applicable law or agreed to in writing, software\n",
    "# distributed under the License is distributed on an \"AS IS\" BASIS,\n",
    "# WITHOUT WARRANTIES OR CONDITIONS OF ANY KIND, either express or implied.\n",
    "# See the License for the specific language governing permissions and\n",
    "# limitations under the License."
   ]
  },
  {
   "cell_type": "markdown",
   "metadata": {
    "id": "eHLV0D7Y5jtU"
   },
   "source": [
    "# Python的Vertex AI SDK: Vertex AI预测模型训练示例\n",
    "\n",
    "要使用这个Colaboratory笔记本，您可以将笔记本复制到自己的Google Drive中，并使用Colaboratory（或Colab）打开。您可以运行每个步骤或单元，并查看其结果。要运行一个单元，使用Shift+Enter。Colab会自动显示每个单元中最后一行的返回值。有关在Colab中运行笔记本的更多信息，请参见[Colab欢迎页面](https://colab.research.google.com/notebooks/welcome.ipynb)。\n",
    "\n",
    "这个笔记本演示了如何基于时间序列数据集创建一个AutoML模型。您需要提供一个存储数据集的存储桶。\n",
    "\n",
    "注意：在测试这个SDK时，您可能会因为训练、预测、存储或使用其他GCP产品而产生费用。"
   ]
  },
  {
   "cell_type": "markdown",
   "metadata": {
    "id": "lld3eeJUs5yM"
   },
   "source": [
    "安装Vertex AI SDK、进行身份验证，并将数据集上传到您的GCS存储桶\n",
    "\n",
    "安装SDK后，内核将自动重新启动。您可能会看到这个错误消息“您的会话因为未知原因而崩溃”，这是正常的。"
   ]
  },
  {
   "cell_type": "code",
   "execution_count": null,
   "metadata": {
    "id": "cMZLb8Arr2AG"
   },
   "outputs": [],
   "source": [
    "%%capture\n",
    "!pip3 uninstall -y google-cloud-aiplatform\n",
    "!pip3 install google-cloud-aiplatform\n",
    " \n",
    "import IPython\n",
    " \n",
    "app = IPython.Application.instance()\n",
    "app.kernel.do_shutdown(True)"
   ]
  },
  {
   "cell_type": "code",
   "execution_count": null,
   "metadata": {
    "id": "ApsLDJjdsGPN"
   },
   "outputs": [],
   "source": [
    "import sys\n",
    "\n",
    "if \"google.colab\" in sys.modules:\n",
    "    from google.colab import auth\n",
    "\n",
    "    auth.authenticate_user()"
   ]
  },
  {
   "cell_type": "markdown",
   "metadata": {
    "id": "c0SNmTBeD2nV"
   },
   "source": [
    "输入您的项目和GCS存储桶\n",
    "\n",
    "请在下面的单元格中输入您的项目ID。然后运行该单元格，确保在这个笔记本中的所有命令中，Cloud SDK都使用正确的项目。"
   ]
  },
  {
   "cell_type": "markdown",
   "metadata": {
    "id": "s19AzYSGLIb9"
   },
   "source": [
    "如果您不知道您的项目ID，您可以使用gcloud获取您的项目ID。"
   ]
  },
  {
   "cell_type": "code",
   "execution_count": null,
   "metadata": {
    "id": "nwlVqT6RKxG7"
   },
   "outputs": [],
   "source": [
    "import os\n",
    "\n",
    "PROJECT_ID = \"\"\n",
    "\n",
    "# Get your Google Cloud project ID from gcloud\n",
    "if not os.getenv(\"IS_TESTING\"):\n",
    "    shell_output=!gcloud config list --format 'value(core.project)' 2>/dev/null\n",
    "    PROJECT_ID = shell_output[0]\n",
    "    print(\"Project ID: \", PROJECT_ID)"
   ]
  },
  {
   "cell_type": "markdown",
   "metadata": {
    "id": "H5E8VB3jLOFC"
   },
   "source": [
    "否则，在这里设置您的项目ID。"
   ]
  },
  {
   "cell_type": "code",
   "execution_count": null,
   "metadata": {
    "id": "DrED76XTK9OB"
   },
   "outputs": [],
   "source": [
    "if PROJECT_ID == \"\" or PROJECT_ID is None:\n",
    "    PROJECT_ID = \"[your-project-id]\"  # @param {type:\"string\"}"
   ]
  },
  {
   "cell_type": "markdown",
   "metadata": {
    "id": "zkJk7agzT6F9"
   },
   "source": [
    "如果您参加直播教程会话，您可能会使用一个共享的测试账户或项目。为了避免资源创建时用户之间的名称冲突，您可以为每个实例会话创建一个时间戳，并将其附加到您在本教程中创建的资源名称上。"
   ]
  },
  {
   "cell_type": "code",
   "execution_count": null,
   "metadata": {
    "id": "qcRkdZBaUAz4"
   },
   "outputs": [],
   "source": [
    "from datetime import datetime\n",
    "\n",
    "TIMESTAMP = datetime.now().strftime(\"%Y%m%d%H%M%S\")"
   ]
  },
  {
   "cell_type": "markdown",
   "metadata": {
    "id": "TFfpJs3DQsfo"
   },
   "source": [
    "请在下方设置您的云存储桶名称。它必须在所有云存储桶中是唯一的。\n",
    "\n",
    "您还可以更改REGION变量，该变量在本笔记本的其余部分中使用。请确保[选择一个支持Vertex AI服务的区域](https://cloud.google.com/vertex-ai/docs/general/locations#available_regions)。您不能在使用Vertex AI进行训练时使用多区域存储桶。"
   ]
  },
  {
   "cell_type": "code",
   "execution_count": null,
   "metadata": {
    "id": "iqSQT6Z6bekX"
   },
   "outputs": [],
   "source": [
    "BUCKET_NAME = \"gs://[your-bucket-name]\"  # @param {type:\"string\"}\n",
    "REGION = \"[your-region]\"  # @param {type:\"string\"}"
   ]
  },
  {
   "cell_type": "code",
   "execution_count": null,
   "metadata": {
    "id": "ukGsLjm-Ki14"
   },
   "outputs": [],
   "source": [
    "if BUCKET_NAME == \"\" or BUCKET_NAME is None or BUCKET_NAME == \"gs://[your-bucket-name]\":\n",
    "    BUCKET_NAME = \"gs://\" + PROJECT_ID + \"aip-\" + TIMESTAMP"
   ]
  },
  {
   "cell_type": "markdown",
   "metadata": {
    "id": "-6AQjKlnx0mf"
   },
   "source": [
    "我们正在使用的数据集是来自[Iowa Liquor Retail Sales](https://pantheon.corp.google.com/marketplace/product/iowa-department-of-commerce/iowa-liquor-sales)数据集的样本。训练样本包含2020年的销售数据，预测样本（用于批量预测步骤）包含2021年1月至4月的销售数据。"
   ]
  },
  {
   "cell_type": "code",
   "execution_count": null,
   "metadata": {
    "id": "V_T10yTTqcS_"
   },
   "outputs": [],
   "source": [
    "TRAINING_DATASET_BQ_PATH = 'bq://bigquery-public-data:iowa_liquor_sales_forecasting.2020_sales_train'"
   ]
  },
  {
   "cell_type": "markdown",
   "metadata": {
    "id": "rk43VP_IqcTE"
   },
   "source": [
    "初始化顶点AI SDK\n",
    "\n",
    "为顶点AI初始化*client*。"
   ]
  },
  {
   "cell_type": "code",
   "execution_count": null,
   "metadata": {
    "id": "VCiC9gBWqcTF"
   },
   "outputs": [],
   "source": [
    "from google.cloud import aiplatform\n",
    "\n",
    "aiplatform.init(project=PROJECT_ID, staging_bucket=BUCKET_NAME)"
   ]
  },
  {
   "cell_type": "markdown",
   "metadata": {
    "id": "35QVNhACqcTJ"
   },
   "source": [
    "从BigQuery创建一个托管时间序列数据集\n",
    "\n",
    "此部分将从BigQuery表中创建一个数据集。"
   ]
  },
  {
   "cell_type": "code",
   "execution_count": null,
   "metadata": {
    "id": "4OfCqaYRqcTJ"
   },
   "outputs": [],
   "source": [
    "ds = aiplatform.datasets.TimeSeriesDataset.create(\n",
    "    display_name='iowa_liquor_sales_train',\n",
    "    bq_source=[TRAINING_DATASET_BQ_PATH])\n",
    "\n",
    "ds.resource_name"
   ]
  },
  {
   "cell_type": "markdown",
   "metadata": {
    "id": "6-bBqipfqcTS"
   },
   "source": [
    "# 启动一个训练作业来创建一个模型\n",
    "\n",
    "一旦我们定义了您的训练脚本，我们就会创建一个模型。"
   ]
  },
  {
   "cell_type": "code",
   "execution_count": null,
   "metadata": {
    "id": "aA41rT_mb-rV"
   },
   "outputs": [],
   "source": [
    "time_column = \"date\"\n",
    "time_series_identifier_column=\"store_name\"\n",
    "target_column=\"sale_dollars\"\n",
    "\n",
    "job = aiplatform.AutoMLForecastingTrainingJob(\n",
    "    display_name='train-iowa-liquor-sales-automl_1',\n",
    "    optimization_objective='minimize-rmse',    \n",
    "    column_transformations=[\n",
    "        {\"timestamp\": {\"column_name\": time_column}},\n",
    "        {\"numeric\": {\"column_name\": target_column}},\n",
    "        {\"categorical\": {\"column_name\": \"city\"}},\n",
    "        {\"categorical\": {\"column_name\": \"zip_code\"}},\n",
    "        {\"categorical\": {\"column_name\": \"county\"}},\n",
    "    ]\n",
    ")\n",
    "\n",
    "# This will take around an hour to run\n",
    "model = job.run(\n",
    "    dataset=ds,\n",
    "    target_column=target_column,\n",
    "    time_column=time_column,\n",
    "    time_series_identifier_column=time_series_identifier_column,\n",
    "    available_at_forecast_columns=[time_column],\n",
    "    unavailable_at_forecast_columns=[target_column],\n",
    "    time_series_attribute_columns=[\"city\", \"zip_code\", \"county\"],\n",
    "    forecast_horizon=30,\n",
    "    context_window=30,\n",
    "    data_granularity_unit=\"day\",\n",
    "    data_granularity_count=1,\n",
    "    weight_column=None,\n",
    "    budget_milli_node_hours=1000,\n",
    "    model_display_name=\"iowa-liquor-sales-forecast-model\", \n",
    "    predefined_split_column_name=None,\n",
    ")"
   ]
  },
  {
   "cell_type": "code",
   "execution_count": null,
   "metadata": {
    "cellView": "form",
    "id": "muSC-mvgHno7"
   },
   "outputs": [],
   "source": [
    "#@title # Fetch Model Evaluation Metrics\n",
    "#@markdown Fetch the model evaluation metrics calculated during training on the test set.\n",
    "\n",
    "import pandas as pd\n",
    "\n",
    "list_evaluation_pager = model.api_client.list_model_evaluations(parent=model.resource_name)\n",
    "for model_evaluation in list_evaluation_pager:\n",
    "  metrics_dict = {m[0]: m[1] for m in model_evaluation.metrics.items()}\n",
    "  df = pd.DataFrame(metrics_dict.items(), columns=[\"Metric\", \"Value\"])\n",
    "  print(df.to_string(index=False))"
   ]
  },
  {
   "cell_type": "markdown",
   "metadata": {
    "id": "nIw1ifPuqcTb"
   },
   "source": [
    "# 运行批量预测"
   ]
  },
  {
   "cell_type": "code",
   "execution_count": null,
   "metadata": {
    "id": "nT-bZ1autijD"
   },
   "outputs": [],
   "source": [
    "#@markdown ## Create Output BigQuery Dataset\n",
    "#@markdown First, create a new BigQuery dataset for the batch prediction output in the same region as the batch prediction input dataset. \n",
    "\n",
    "import os\n",
    "from google.cloud import bigquery\n",
    "\n",
    "os.environ[\"GOOGLE_CLOUD_PROJECT\"] = PROJECT_ID\n",
    "\n",
    "batch_predict_bq_input_uri = \"bq://bigquery-public-data.iowa_liquor_sales_forecasting.2021_sales_predict\"\n",
    "batch_predict_bq_output_dataset_name = \"iowa_liquor_sales_predictions\"\n",
    "batch_predict_bq_output_dataset_path = \"{}.{}\".format(PROJECT_ID, batch_predict_bq_output_dataset_name)\n",
    "batch_predict_bq_output_uri_prefix = \"bq://{}.{}\".format(PROJECT_ID, batch_predict_bq_output_dataset_name)\n",
    "# Must be the same region as batch_predict_bq_input_uri\n",
    "client = bigquery.Client()\n",
    "dataset = bigquery.Dataset(batch_predict_bq_output_dataset_path)\n",
    "dataset_region = \"US\" # @param {type : \"string\"}\n",
    "dataset.location = dataset_region\n",
    "dataset = client.create_dataset(dataset)\n",
    "print(\"Created bigquery dataset {} in {}\".format(batch_predict_bq_output_dataset_path, dataset_region))"
   ]
  },
  {
   "cell_type": "markdown",
   "metadata": {
    "id": "krKRn9W0xxI2"
   },
   "source": [
    "运行一个批量预测作业，根据包含历史销售数据的输入数据集为爱荷华州的商店生成酒类销售预测。"
   ]
  },
  {
   "cell_type": "code",
   "execution_count": null,
   "metadata": {
    "id": "8I8aRjRh6GGG"
   },
   "outputs": [],
   "source": [
    "model.batch_predict(\n",
    "   bigquery_source=batch_predict_bq_input_uri,\n",
    "   instances_format=\"bigquery\",\n",
    "   bigquery_destination_prefix=batch_predict_bq_output_uri_prefix,\n",
    "   predictions_format=\"bigquery\",\n",
    "   job_display_name=\"predict-iowa-liquor-sales-automl_1\")"
   ]
  },
  {
   "cell_type": "code",
   "execution_count": null,
   "metadata": {
    "cellView": "form",
    "id": "CTQl3fH6Ur2Z"
   },
   "outputs": [],
   "source": [
    "#@title # Visualize the Forecasts\n",
    "#@markdown Follow the given link to visualize the generated forecasts in [Data Studio](https://support.google.com/datastudio/answer/6283323?hl=en).\n",
    "\n",
    "import urllib\n",
    "\n",
    "tables = client.list_tables(batch_predict_bq_output_dataset_path)\n",
    "\n",
    "prediction_table_id = \"\"\n",
    "for table in tables:\n",
    "  if table.table_id.startswith(\n",
    "      \"predictions_\") and table.table_id > prediction_table_id:\n",
    "    prediction_table_id = table.table_id\n",
    "batch_predict_bq_output_uri = \"{}.{}\".format(\n",
    "    batch_predict_bq_output_dataset_path, prediction_table_id)\n",
    "\n",
    "\n",
    "def _sanitize_bq_uri(bq_uri):\n",
    "  if bq_uri.startswith(\"bq://\"):\n",
    "    bq_uri = bq_uri[5:]\n",
    "  return bq_uri.replace(\":\", \".\")\n",
    "\n",
    "\n",
    "def get_data_studio_link(batch_prediction_bq_input_uri,\n",
    "                         batch_prediction_bq_output_uri, time_column,\n",
    "                         time_series_identifier_column, target_column):\n",
    "  batch_prediction_bq_input_uri = _sanitize_bq_uri(\n",
    "      batch_prediction_bq_input_uri)\n",
    "  batch_prediction_bq_output_uri = _sanitize_bq_uri(\n",
    "      batch_prediction_bq_output_uri)\n",
    "  base_url = \"https://datastudio.google.com/c/u/0/reporting\"\n",
    "  query = \"SELECT \\\\n\" \\\n",
    "  \" CAST(input.{} as DATETIME) timestamp_col,\\\\n\" \\\n",
    "  \" CAST(input.{} as STRING) time_series_identifier_col,\\\\n\" \\\n",
    "  \" CAST(input.{} as NUMERIC) historical_values,\\\\n\" \\\n",
    "  \" CAST(predicted_{}.value as NUMERIC) predicted_values,\\\\n\" \\\n",
    "  \" * \\\\n\" \\\n",
    "  \"FROM `{}` input\\\\n\" \\\n",
    "  \"LEFT JOIN `{}` output\\\\n\" \\\n",
    "  \"ON\\\\n\" \\\n",
    "  \"CAST(input.{} as DATETIME) = CAST(output.{} as DATETIME)\\\\n\" \\\n",
    "  \"AND CAST(input.{} as STRING) = CAST(output.{} as STRING)\"\n",
    "  query = query.format(time_column, time_series_identifier_column,\n",
    "                       target_column, target_column,\n",
    "                       batch_prediction_bq_input_uri,\n",
    "                       batch_prediction_bq_output_uri, time_column, time_column,\n",
    "                       time_series_identifier_column,\n",
    "                       time_series_identifier_column)\n",
    "  params = {\n",
    "      \"templateId\": \"067f70d2-8cd6-4a4c-a099-292acd1053e8\",\n",
    "      \"ds0.connector\": \"BIG_QUERY\",\n",
    "      \"ds0.projectId\": PROJECT_ID,\n",
    "      \"ds0.billingProjectId\": PROJECT_ID,\n",
    "      \"ds0.type\": \"CUSTOM_QUERY\",\n",
    "      \"ds0.sql\": query\n",
    "  }\n",
    "  params_str_parts = []\n",
    "  for k, v in params.items():\n",
    "    params_str_parts.append(\"\\\"{}\\\":\\\"{}\\\"\".format(k, v))\n",
    "  params_str = \"\".join([\"{\", \",\".join(params_str_parts), \"}\"])\n",
    "  return \"{}?{}\".format(base_url,\n",
    "                        urllib.parse.urlencode({\"params\": params_str}))\n",
    "\n",
    "\n",
    "print(\n",
    "    get_data_studio_link(batch_predict_bq_input_uri,\n",
    "                         batch_predict_bq_output_uri, time_column,\n",
    "                         time_series_identifier_column, target_column))"
   ]
  },
  {
   "cell_type": "markdown",
   "metadata": {
    "id": "24NPJ7nCRchZ"
   },
   "source": [
    "清理工作\n",
    "\n",
    "为了清理项目中使用的所有Google Cloud资源，你可以删除用于教程的[Google Cloud项目](https://cloud.google.com/resource-manager/docs/creating-managing-projects#shutting_down_projects)。\n",
    "\n",
    "否则，你可以删除在本教程中创建的个别资源："
   ]
  },
  {
   "cell_type": "code",
   "execution_count": null,
   "metadata": {
    "id": "gq3ZSsAkRnXh"
   },
   "outputs": [],
   "source": [
    "# Delete model resource\n",
    "model.delete(sync=True)\n",
    "\n",
    "# Delete Cloud Storage objects that were created\n",
    "! gsutil -m rm -r $BUCKET_NAME"
   ]
  }
 ],
 "metadata": {
  "colab": {
   "collapsed_sections": [],
   "name": "Vertex AI SDK - Vertex AI Forecasting Model Training Example",
   "provenance": []
  },
  "kernelspec": {
   "display_name": "Python 3",
   "language": "python",
   "name": "python3"
  },
  "language_info": {
   "codemirror_mode": {
    "name": "ipython",
    "version": 3
   },
   "file_extension": ".py",
   "mimetype": "text/x-python",
   "name": "python",
   "nbconvert_exporter": "python",
   "pygments_lexer": "ipython3",
   "version": "3.8.6"
  }
 },
 "nbformat": 4,
 "nbformat_minor": 0
}
