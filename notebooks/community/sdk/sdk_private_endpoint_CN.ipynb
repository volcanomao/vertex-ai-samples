{
 "cells": [
  {
   "cell_type": "code",
   "execution_count": null,
   "metadata": {
    "id": "ur8xi4C7S06n"
   },
   "outputs": [],
   "source": [
    "# Copyright 2022 Google LLC\n",
    "#\n",
    "# Licensed under the Apache License, Version 2.0 (the \"License\");\n",
    "# you may not use this file except in compliance with the License.\n",
    "# You may obtain a copy of the License at\n",
    "#\n",
    "#     https://www.apache.org/licenses/LICENSE-2.0\n",
    "#\n",
    "# Unless required by applicable law or agreed to in writing, software\n",
    "# distributed under the License is distributed on an \"AS IS\" BASIS,\n",
    "# WITHOUT WARRANTIES OR CONDITIONS OF ANY KIND, either express or implied.\n",
    "# See the License for the specific language governing permissions and\n",
    "# limitations under the License."
   ]
  },
  {
   "cell_type": "markdown",
   "metadata": {
    "id": "JAPoU8Sm5E6e"
   },
   "source": [
    "<table align=\"left\">\n",
    "  <td>\n",
    "    <a href=\"https://github.com/GoogleCloudPlatform/vertex-ai-samples/tree/main/notebooks/community/sdk/sdk_private_endpoint.ipynb\">\n",
    "      <img src=\"https://cloud.google.com/ml-engine/images/github-logo-32px.png\" alt=\"GitHub logo\">\n",
    "      在GitHub上查看\n",
    "    </a>\n",
    "  </td>\n",
    "  <td>\n",
    "    <a href=\"https://console.cloud.google.com/vertex-ai/workbench/deploy-notebook?download_url=https://raw.githubusercontent.com/GoogleCloudPlatform/vertex-ai-samples/main/notebooks/community/sdk/sdk_private_endpoint.ipynb\">\n",
    "      <img src=\"https://lh3.googleusercontent.com/UiNooY4LUgW_oTvpsNhPpQzsstV5W8F7rYgxgGBD85cWJoLmrOzhVs_ksK_vgx40SHs7jCqkTkCk=e14-rj-sc0xffffff-h130-w32\" alt=\"Vertex AI logo\">\n",
    "      在Vertex AI Workbench中打开\n",
    "    </a>\n",
    "  </td>                                                                                               \n",
    "</table>"
   ]
  },
  {
   "cell_type": "markdown",
   "metadata": {
    "id": "tvgnzT1CKxrO"
   },
   "source": [
    "请确保在VPC内运行此笔记本，因为`PrivateEndpoint`预测方法只能在私有网络内执行。创建一个Vertex AI Workbench实例，并在该实例中上传和运行此笔记本。在创建新的Vertex AI Workbench实例时，请使用`default`子网或按照这里[说明的步骤](https://cloud.google.com/vpc/docs/create-modify-vpc-networks)创建和使用一个独特的VPC。\n",
    "\n",
    "## 概述\n",
    "\n",
    "本教程演示了如何使用Vertex AI SDK创建和使用Vertex AI `PrivateEndpoint`资源来提供模型的服务。`PrivateEndpoint`提供了与Vertex AI在线预测服务（即企业内部网络）的低延迟、安全、私有网络连接。这消除了公共`Endpoint`（即互联网）的网络切换和路由的开销。\n",
    "\n",
    "了解更多关于[`PrivateEndpoint`资源](https://cloud.google.com/vertex-ai/docs/predictions/using-private-endpoints)。\n",
    "\n",
    "### 数据集\n",
    "\n",
    "本教程使用了公共Cloud Storage存储桶`gs://cloud-samples-data/ai-platform-unified/datasets/tabular/`中的[petfinder](https://storage.googleapis.com/cloud-samples-data/ai-platform-unified/datasets/tabular/petfinder-tabular-classification-tabnet-with-header.csv)数据集，该数据集是从[PetFinder.my Adoption Prediction](https://www.kaggle.com/c/petfinder-adoption-prediction)生成的。该数据集预测动物会被领养的速度。\n",
    "\n",
    "### 目标\n",
    "\n",
    "在这个笔记本中，您将学习如何使用`Vertex AI PrivateEndpoint`资源。\n",
    "\n",
    "本教程使用了以下Google Cloud Platform Vertex AI服务和资源：\n",
    "\n",
    "- `Vertex AI TabNet`\n",
    "- `Vertex AI TrainingJob`\n",
    "- `Vertex AI Model`\n",
    "- `Vertex AI PrivateEndpoint`\n",
    "- `Vertex AI Prediction`\n",
    "\n",
    "执行的步骤包括：\n",
    "\n",
    "- 导入训练数据。\n",
    "- 配置`Vertex AI TabNet`模型容器的训练参数。\n",
    "- 使用`Vertex AI TrainingJob`训练使用CSV数据的模型。\n",
    "- 将模型上传为`Vertex AI Model`资源。\n",
    "- 配置VPC对等连接。\n",
    "- 创建`Vertex AI PrivateEndpoint`资源。\n",
    "- 将`Vertex AI Model`资源部署到`Vertex AI PrivateEndpoint`资源。\n",
    "- 发送预测请求到`Vertex AI PrivateEndpoint`。\n",
    "- 清理资源。\n",
    "\n",
    "### 成本\n",
    "\n",
    "本教程使用了Google Cloud的收费组件：\n",
    "\n",
    "* Vertex AI\n",
    "* Cloud Storage\n",
    "\n",
    "了解关于[Vertex AI价格](https://cloud.google.com/vertex-ai/pricing)和[Cloud Storage价格](https://cloud.google.com/storage/pricing)，并使用[Pricing Calculator](https://cloud.google.com/products/calculator/)根据您的预期使用量生成成本估算。"
   ]
  },
  {
   "cell_type": "markdown",
   "metadata": {
    "id": "7fc05eeb0918"
   },
   "source": [
    "## 在开始之前\n",
    "\n",
    "### 安装\n",
    "安装执行此笔记本所需的软件包。\n",
    "\n",
    "**注意**：Jupyter会将以`!`开头的行作为shell命令运行，并且会对以`$`开头的Python变量进行插值。"
   ]
  },
  {
   "cell_type": "code",
   "execution_count": null,
   "metadata": {
    "id": "2b4ef9b72d43"
   },
   "outputs": [],
   "source": [
    "import os\n",
    "\n",
    "# The Vertex AI Workbench Notebook product has specific requirements\n",
    "IS_WORKBENCH_NOTEBOOK = os.getenv(\"DL_ANACONDA_HOME\") and not os.getenv(\"VIRTUAL_ENV\")\n",
    "IS_USER_MANAGED_WORKBENCH_NOTEBOOK = os.path.exists(\n",
    "    \"/opt/deeplearning/metadata/env_version\"\n",
    ")\n",
    "\n",
    "# Vertex AI Notebook requires dependencies to be installed with '--user'\n",
    "USER_FLAG = \"\"\n",
    "if IS_WORKBENCH_NOTEBOOK:\n",
    "    USER_FLAG = \"--user\"\n",
    "\n",
    "! pip3 install {USER_FLAG} --upgrade tensorflow\n",
    "! pip3 install {USER_FLAG} --upgrade google-cloud-aiplatform\n",
    "! gcloud components update --quiet"
   ]
  },
  {
   "cell_type": "markdown",
   "metadata": {
    "id": "hhq5zEbGg0XX"
   },
   "source": [
    "### 重新启动内核\n",
    "\n",
    "安装额外的包之后，您需要重新启动笔记本内核，以便它可以找到这些包。"
   ]
  },
  {
   "cell_type": "code",
   "execution_count": null,
   "metadata": {
    "id": "EzrelQZ22IZj"
   },
   "outputs": [],
   "source": [
    "# Automatically restart kernel after installs\n",
    "import os\n",
    "\n",
    "if not os.getenv(\"IS_TESTING\"):\n",
    "    # Automatically restart kernel after installs\n",
    "    import IPython\n",
    "\n",
    "    app = IPython.Application.instance()\n",
    "    app.kernel.do_shutdown(True)"
   ]
  },
  {
   "cell_type": "markdown",
   "metadata": {
    "id": "before_you_begin"
   },
   "source": [
    "### 设置您的Google Cloud项目\n",
    "\n",
    "**无论您在哪种笔记本环境中，以下步骤都是必需的。**\n",
    "\n",
    "1. [选择或创建Google Cloud项目](https://console.cloud.google.com/cloud-resource-manager)。当您首次创建账户时，您将获得$300的免费信用用于计算/存储成本。\n",
    "\n",
    "2. [确保您的项目已启用计费。](https://cloud.google.com/billing/docs/how-to/modify-project)\n",
    "\n",
    "3. [启用以下API：Vertex AI APIs、Compute Engine APIs和Cloud Storage。](https://console.cloud.google.com/flows/enableapi?apiid=aiplatform.googleapis.com,compute_component,storage-component.googleapis.com)\n",
    "\n",
    "4. [启用Service Networking API](https://console.cloud.google.com/flows/enableapi?apiid=servicenetworking.googleapis.com)\n",
    "\n",
    "5. [启用Cloud DNS API](https://console.cloud.google.com/flows/enableapi?apiid=dns.googleapis.com)\n",
    "\n",
    "6. 如果您在本地运行此笔记本，您需要安装[Cloud SDK]((https://cloud.google.com/sdk)。\n",
    "\n",
    "7. 在下面的单元格中输入您的项目ID。然后运行该单元格，以确保Cloud SDK在此笔记本中的所有命令中使用正确的项目。"
   ]
  },
  {
   "cell_type": "markdown",
   "metadata": {
    "id": "WReHDGG5g0XY"
   },
   "source": [
    "### 设置您的`PROJECT_ID`\n",
    "\n",
    "**如果您不知道您的项目ID**，您可以使用`gcloud`来获取您的项目ID。"
   ]
  },
  {
   "cell_type": "code",
   "execution_count": null,
   "metadata": {
    "id": "set_project_id"
   },
   "outputs": [],
   "source": [
    "PROJECT_ID = \"[your-project-id]\"  # @param {type:\"string\"}"
   ]
  },
  {
   "cell_type": "code",
   "execution_count": null,
   "metadata": {
    "id": "autoset_project_id"
   },
   "outputs": [],
   "source": [
    "if PROJECT_ID == \"\" or PROJECT_ID is None or PROJECT_ID == \"[your-project-id]\":\n",
    "    # Get your GCP project id from gcloud\n",
    "    shell_output = ! gcloud config list --format 'value(core.project)' 2>/dev/null\n",
    "    PROJECT_ID = shell_output[0]\n",
    "    print(\"Project ID:\", PROJECT_ID)"
   ]
  },
  {
   "cell_type": "code",
   "execution_count": null,
   "metadata": {
    "id": "set_gcloud_project_id"
   },
   "outputs": [],
   "source": [
    "! gcloud config set project $PROJECT_ID"
   ]
  },
  {
   "cell_type": "markdown",
   "metadata": {
    "id": "region"
   },
   "source": [
    "### 设置您的`REGION`\n",
    "\n",
    "您还可以更改用于本笔记本其余部分操作的`REGION`变量。 以下是Vertex AI支持的区域。 我们建议选择离您最近的区域。\n",
    "\n",
    "- 美洲：`us-central1`\n",
    "- 欧洲：`europe-west4`\n",
    "- 亚太地区：`asia-east1`\n",
    "\n",
    "您可能无法使用多区域存储桶进行Vertex AI训练。 并非所有区域都支持所有Vertex AI服务。\n",
    "\n",
    "了解更多关于[Vertex AI区域](https://cloud.google.com/vertex-ai/docs/general/locations)。"
   ]
  },
  {
   "cell_type": "code",
   "execution_count": null,
   "metadata": {
    "id": "region"
   },
   "outputs": [],
   "source": [
    "REGION = \"[your-region]\"  # @param {type: \"string\"}\n",
    "\n",
    "if REGION == \"[your-region]\":\n",
    "    REGION = \"us-central1\""
   ]
  },
  {
   "cell_type": "markdown",
   "metadata": {
    "id": "06571eb4063b"
   },
   "source": [
    "### 设置您的`时间戳`\n",
    "\n",
    "如果您正在参加实时教程会话，您可能正在使用共享的测试账户或项目。为了避免在创建的资源中出现用户之间的名称冲突，您可以为每个实例会话创建一个时间戳，并将其附加到您在本教程中创建的资源名称上。"
   ]
  },
  {
   "cell_type": "code",
   "execution_count": null,
   "metadata": {
    "id": "697568e92bd6"
   },
   "outputs": [],
   "source": [
    "from datetime import datetime\n",
    "\n",
    "TIMESTAMP = datetime.now().strftime(\"%Y%m%d%H%M%S\")"
   ]
  },
  {
   "cell_type": "markdown",
   "metadata": {
    "id": "zgPO1eR3CYjk"
   },
   "source": [
    "### 创建一个 Google 云存储桶\n",
    "\n",
    "当您初始化 Python 的 Vertex AI SDK 时，您需要指定一个 Google 云存储（GCS）暂存桶。暂存桶是您的数据集和模型资源在会话之间保留的位置。\n",
    "\n",
    "请在下面设置您的 GCS 存储桶的名称。存储桶名称必须在所有 Google 云项目中唯一，包括组织外的项目。"
   ]
  },
  {
   "cell_type": "code",
   "execution_count": null,
   "metadata": {
    "id": "MzGDU7TWdts_"
   },
   "outputs": [],
   "source": [
    "BUCKET_NAME = \"[your-bucket-name]\"  # @param {type:\"string\"}\n",
    "BUCKET_URI = f\"gs://{BUCKET_NAME}\""
   ]
  },
  {
   "cell_type": "code",
   "execution_count": null,
   "metadata": {
    "id": "cf221059d072"
   },
   "outputs": [],
   "source": [
    "if BUCKET_URI == \"\" or BUCKET_URI is None or BUCKET_URI == \"gs://[your-bucket-name]\":\n",
    "    BUCKET_NAME = f\"{PROJECT_ID}_aiplatform_{TIMESTAMP}\"\n",
    "    BUCKET_URI = \"gs://\" + BUCKET_NAME"
   ]
  },
  {
   "cell_type": "markdown",
   "metadata": {
    "id": "-EcIXiGsCePi"
   },
   "source": [
    "只有当您的存储桶尚不存在时：运行以下单元格以创建您的 GCS 存储桶。"
   ]
  },
  {
   "cell_type": "code",
   "execution_count": null,
   "metadata": {
    "id": "NIq7R4HZCfIc"
   },
   "outputs": [],
   "source": [
    "! gsutil mb -l $REGION $BUCKET_URI"
   ]
  },
  {
   "cell_type": "markdown",
   "metadata": {
    "id": "ucvCsknMCims"
   },
   "source": [
    "最后，通过检查您的GCS存储桶的内容来验证访问权限："
   ]
  },
  {
   "cell_type": "code",
   "execution_count": null,
   "metadata": {
    "id": "vhOb7YnwClBb"
   },
   "outputs": [],
   "source": [
    "! gsutil ls -al $BUCKET_URI"
   ]
  },
  {
   "cell_type": "markdown",
   "metadata": {
    "id": "XoEqT2Y4DJmf"
   },
   "source": [
    "导入库并定义常量"
   ]
  },
  {
   "cell_type": "code",
   "execution_count": null,
   "metadata": {
    "id": "pRUOFELefqf1"
   },
   "outputs": [],
   "source": [
    "import os\n",
    "from datetime import datetime\n",
    "\n",
    "import google.cloud.aiplatform as aiplatform"
   ]
  },
  {
   "cell_type": "markdown",
   "metadata": {
    "id": "init_aip:mbsdk"
   },
   "source": [
    "### 初始化用于 Python 的 Vertex AI SDK\n",
    "\n",
    "为您的项目和相应的存储桶初始化 Python 的 Vertex AI SDK。"
   ]
  },
  {
   "cell_type": "code",
   "execution_count": null,
   "metadata": {
    "id": "init_aip:mbsdk"
   },
   "outputs": [],
   "source": [
    "aiplatform.init(project=PROJECT_ID, location=REGION, staging_bucket=BUCKET_URI)"
   ]
  },
  {
   "cell_type": "markdown",
   "metadata": {
    "id": "bffd1dbc8a8c"
   },
   "source": [
    "### 设置训练容器\n",
    "\n",
    "接下来，使用预先构建的`Vertex AI TabNet`容器来训练模型。\n",
    "\n",
    "TabNet结合了两个世界的优点：它是可解释的（类似于简单的基于树的模型），同时又能从深度神经网络中获益（类似于深度神经网络）。这使得它非常适用于零售商、金融和保险行业的应用，如预测信用评分、欺诈检测和预测。\n",
    "\n",
    "TabNet使用一种称为顺序注意力的机器学习技术，在模型的每个步骤中选择要推理的模型特征。这种机制使得能够解释模型如何得出预测，帮助它学习更准确的模型。TabNet不仅胜过其他神经网络和决策树，而且提供可解释的特征归因。\n",
    "\n",
    "阅读研究论文：[TabNet: 专注解释性表格学习](https://arxiv.org/pdf/1908.07442.pdf)。"
   ]
  },
  {
   "cell_type": "code",
   "execution_count": null,
   "metadata": {
    "id": "f29b4eab8132"
   },
   "outputs": [],
   "source": [
    "TRAIN_IMAGE = \"us-docker.pkg.dev/vertex-ai-restricted/builtin-algorithm/tab_net_v2\"\n",
    "print(\"Training container:\", TRAIN_IMAGE)"
   ]
  },
  {
   "cell_type": "markdown",
   "metadata": {
    "id": "container:training,prediction"
   },
   "source": [
    "### 为部署设定预构建的容器\n",
    "\n",
    "为预测设定预构建的Docker容器镜像。\n",
    "\n",
    "要获取最新列表，请参阅[用于预测的预构建容器](https://cloud.google.com/ai-platform-unified/docs/predictions/pre-built-containers)。"
   ]
  },
  {
   "cell_type": "code",
   "execution_count": null,
   "metadata": {
    "id": "container:training,prediction"
   },
   "outputs": [],
   "source": [
    "if os.getenv(\"IS_TESTING_TF\"):\n",
    "    TF = os.getenv(\"IS_TESTING_TF\")\n",
    "else:\n",
    "    TF = \"2.5\".replace(\".\", \"-\")\n",
    "\n",
    "if TF[0] == \"2\":\n",
    "    DEPLOY_VERSION = \"tf2-cpu.{}\".format(TF)\n",
    "else:\n",
    "    DEPLOY_VERSION = \"tf-cpu.{}\".format(TF)\n",
    "\n",
    "DEPLOY_IMAGE = \"{}-docker.pkg.dev/vertex-ai/prediction/{}:latest\".format(\n",
    "    REGION.split(\"-\")[0], DEPLOY_VERSION\n",
    ")\n",
    "\n",
    "print(\"Deployment container:\", DEPLOY_IMAGE)"
   ]
  },
  {
   "cell_type": "markdown",
   "metadata": {
    "id": "1dd2b940d35d"
   },
   "source": [
    "获取训练数据\n",
    "\n",
    "从一个公共云存储桶中获取训练数据的副本（以CSV文件形式），并将训练数据复制到您的云存储桶中。"
   ]
  },
  {
   "cell_type": "code",
   "execution_count": null,
   "metadata": {
    "id": "BoVqAMOuedPe"
   },
   "outputs": [],
   "source": [
    "# Please note that if you use csv input, the first column is the label column.\n",
    "\n",
    "IMPORT_FILE = \"petfinder-tabular-classification-tabnet-with-header.csv\"\n",
    "TRAINING_DATA_PATH = f\"{BUCKET_URI}/data/petfinder/train.csv\"\n",
    "\n",
    "! gsutil cp gs://cloud-samples-data/ai-platform-unified/datasets/tabular/{IMPORT_FILE} {TRAINING_DATA_PATH}"
   ]
  },
  {
   "cell_type": "markdown",
   "metadata": {
    "id": "create_custom_container_training_job:mbsdk,no_model"
   },
   "source": [
    "## 训练 Vertex AI TabNet 模型\n",
    "\n",
    "要训练 TabNet 自定义模型，您需要创建并运行自定义训练作业。\n",
    "\n",
    "### 创建自定义训练作业\n",
    "\n",
    "使用 `CustomContainerTrainingJob` 类创建自定义训练作业，具有以下参数：\n",
    "\n",
    "- `display_name`：自定义训练作业的可读名称。\n",
    "- `container_uri`：训练容器映像。\n",
    "- `model_serving_container_image_uri`：可以为您的模型提供预测的容器的 URI。"
   ]
  },
  {
   "cell_type": "code",
   "execution_count": null,
   "metadata": {
    "id": "a3307f420d27"
   },
   "outputs": [],
   "source": [
    "DATASET_NAME = \"petfinder\"  # Change to your dataset name.\n",
    "\n",
    "job = aiplatform.CustomContainerTrainingJob(\n",
    "    display_name=f\"{DATASET_NAME}_{TIMESTAMP}\",\n",
    "    container_uri=TRAIN_IMAGE,\n",
    "    model_serving_container_image_uri=DEPLOY_IMAGE,\n",
    ")\n",
    "\n",
    "print(job)"
   ]
  },
  {
   "cell_type": "markdown",
   "metadata": {
    "id": "Xc_I_XHz8z6B"
   },
   "source": [
    "### 为 TabNet 训练配置参数设置\n",
    "\n",
    "详细了解如何使用指南 [Get started with builtin TabNet algorithm](https://cloud.google.com/ai-platform/training/docs/algorithms/tab-net-start) 中的 TabNet。\n",
    "\n",
    "Configure parameter settings for TabNet training 子 Configure parameter settings 子 tab-net-start git fetch 远程时出错Firebase解析错误包类型airrocb：等候空闲的时候 由模昵 ,基全对象会同空的Cloud资源 优可管理并向尔备，我同时提供业界种应需资源读，例如兩包型带包等。提供可以在您自己的私有云中运行的GD 网络解，可以为大型和高务载量云网录提供网络解决方案。Navis使用Anchor CDN全球内容传送史业服务真朝专业服务于互联网企业和全球企业提供B2B2B专业业务技术服务，CloudMinds 今天很\n",
    "Firev特选网络解决方案商之一 Ruckusmit背光亮度比传统宽审的\n",
    "S写亮，灰况亮，灰提示单亮需要加鸡呢Railuminium Surface敏感表面控制面板有维进行升R_upgrade产智床式的亲\n",
    "未角色有的利视Aaynet生智很忘满足 FellowshipANTRO_D_S的智家庭化为智家庭庭应自GIS_D_maps应网ANTRO_Penn-GIS_2.0的3D视义地理境兰久短位，赫特中帮发现人或Dot相信伙财能互相助彼的第三未平遭服务及度阀CTral信永基于私域为、可直链接共人共间的育兴的思和理价AMBROTAB_ARLITICI.NET 5僵被数字化，数\n",
    "\n",
    "nt生智书或系统发售的等讲，都  \n",
    "勛板链色 免，均关睡名些费济，为共货业明世和开过明除  \n",
    "特拉克知个视整况组身力技尽意平方众环听设业易，括工且品平对市互间开  \n",
    "异装可国真乐原清作为 \n",
    "图解系统解订之心限制。更及TheJC男职键提供电镜模拟稠缆移打给下好，给有像设能弱 机房实\n",
    "        \n",
    "进行续责\n",
    "\n",
    "EK\n",
    "值这UvlanNETĪ握SETORRISE際有散化或化，导器每环EDD亲(allyON方历虚合菜较大”,南法口OF，博I和环间限。离NIONNIO金握部织”和“共业尽一闭走社助门应ordova LEG医字三辰圆\n",
    "赠行拨共浊业对合议供全有指能择等关，并也列出定须和的息内理组需要网，存和服务者们这链光“高US前SEAgen NETNT晨引PJ，体全高反智之热JOAFF臂匹蝎据群，阶主分RC发该电盟造禾Tteastia SITENNEA映源核，是估国呢有人事破然的FTPolo。故U条虚CHOSEKOLO完扬FR全式载社浓索整为上及斜络著需要个信开须交ACNETRO歌TETLOUNTH东放、个前 \n",
    "重总干工活网络\n",
    "博金出系于引头出炮论演博与维用令带列个最干演技特务的等，及同人称会电析RBEDD平世有底、源特因均控环环筹件实必统无接有交计醉我司有成\n",
    "\n",
    "MENTNET的上木IN无是定传\n",
    "\n",
    "设A新国1\n",
    "兴以低费高质的技，核版版特的人互使发以广显UDA数据圈其战白匹新能区是是多破设计下取讲用中多知A NET四时支体有略主大测各平通有焕持受化，库共性意平发布显气。需业创公司以心权互阀，意反实间湖作或功平长数分环任平以通有共也，密利多平用源们找集泳理息权并一过人间十多机合来司产发加心消LITO EREBHAAN DC和己要字\n",
    "\n",
    "\n",
    "支CNN的和的存，就是局少年子海份GGO络峻税排落织示最同别网，间面置灭实为如，回员入深普年是为态导为是殊亲人家节委和：\n",
    "先高重专动友\n",
    ".SIDIm席j海机利充卫性PV/G时梯然，果网IT者高地态修高众价进实开明有力身组发子略\n",
    "\n",
    "\n",
    "。主动相负积列业业机化A部业有m给及务虑不空续起生为却效的SMICADAm示网升带产业的和体现加集家税质过优取。\n",
    "加进过空主的密同字备。文门，群效者种有的者际部精趋制源程了 \n",
    "\n",
    "署业道单界化主动户网行（大计整联形等推共自效是工喊义阀资化形公种低用本长\n",
    "，研新南网可网等使积者资认及理细线部表的历律、。共益济作双消牌一“优霍EclearYP东R来源要安、考和平头性及放作继术于，理道业化视才栈判业待提材目康准作授能发性视允续发动组分行为队整球破河密程挥挤依地发构力的则工码多全系安使物。\n",
    "\n",
    "\n",
    "21长像充绣效者为关优O济续，看连准体认七集优化益提内无习等还视，服政封资识一款。意一移A及生间后高发的生料户朋院，应不社B觊实先意和租息研源入\n",
    "。展实总认区福斯过底气益反技资人公发量题值牌企逐意接投老伙消高新锰明追经卖积技和表头国质团具社及穷全生亲较职子家导验理贵低到供育晓革共网易立控业资政易康化集册题愿进效织底流灵注承。\n",
    "————放4共务工列和展电影科学务心建京毕业生Io名务员S师立等于4技突生坡伍约制务康护染究西体传试同度研台高编色应工、化务定络目自错年通励界目股助担服务反守私。基非包线技练速，并供教上级国通网应于登问链合理时\n",
    "\n",
    "网为渐国将平层也业CUS创新 CNIS的互等学平余多日 parti社结交引新内伍术的法品识瑞性视取实为者使为处\n",
    "\n",
    "s模必可发，求我办共成\n",
    "全持供业完有前 famil价内人=品告松题泊然者发组行健有银理我智损B人、有合前奖这系式训及来组发合收医忍S运秘害逾被内广市让次作对奋G供分产路主空工合资级不存载V史—生孝行统务产品理尤书胞间够其务系品世性思鼎库交社结至统消资行更组例�TheIN之，三融创家室入市和在 \n",
    "HIETRII的 MERSRE信信略映Mam心始和起然核需常供和澜经车必物的\n",
    "\n",
    "MysCOMMA开始念量即常世商空要事体\n",
    "常证引合和应购行题赋提投志夺F进�E等高置议协觉都是成后总助，至者进络别市勉明生同报单方查支环象有�итACTEN非�争示者开己中全修之选凭 embod问，关作论手悉和制松生臂足构化框购活治心网受情受族现然池康存进营。传们要觉和类�NICANODEI�机MISPET），术责生励界目朝织充实价等系结完A，能初考深日实，确亲之赶设有的务度H物方为电现认素要者不沐本断面。\n",
    "\n",
    "\n",
    "�司辅为的、过方以级实护劣全议底部附够�台下生发�和�被发都成�国�等人进中式向�加都平�日间多联者化�提立�接合地的�理�能再�技干发�政国度�目自�报�高�废合�渗�建�\n",
    " 语endetI准本接传工境和�性�为�是组份�们织物人�定�望�的�利�式�行�能�受�程�流��注�过�银�中�大�分�。\n",
    ".命而中国达后都,，以上划制共额如存折,自该流付角出课案强为和网络联和是是用 确生链�加� 或济� 岛�日�吸�互��口�，从损�课,具�状压使用�观wm�没有�集�户�式惠。这往制��厌\n",
    "\n",
    "�,别�此行,员南时,造s住毁地实均m行，家C且行动�之� 产用了匿头 品会到使。从和没判费行政法S怎育偏,廉量全,.面电工端方网施使传,习议 乐百公是 个新理.与员时文护周期包没播我有训与针者,�飞员时�力统�项目她�试乐私之� �数b接偏用�完链�员程�实�济�商�同时破 剖�到饱算�产合�束�援�别�时间J被级难欢?师�un�此公现�框�格训�下�试文�系�进�，包是�威流有�设�业�三�检�一�中续�黎经下1经�格�革�责界固新W理�级�由�多�有�外��定前�争生兮史�尤�SK�行�生�积�子�果在�作�体�企�河�通�自,耐间兰和专�长�别�该时勒� �产而�者�行这者计川项器正np系�,� �去网款�,读片�贵,否� �展。标利JpB的�社�凡�达�建�一�都�时害理�为�大�实吗最&除安讨  训?果�宾�亭�用�村�设�济的�钱�超�识�,兰��日�援�大� 公�己� 务�注�时� 迄 式�赛�合�德�YOU�头�府�求�建特�積�感� �需�和科�京�营�斯�亿元�深�,�战�此�，政库�要心s家�间�图果要�制�大�\n",
    "\n",
    "y�每,�路�全部�要�设�制�建�具有�要�立�,�网电�截�公�网��飞�郎�化�,�，�民,�童�，�够产�以室�民�警�水?类,�涨�指�和�支�网�提�柯�工�综�平�内�的支�、�望�具等�开�施�大�效�动�团�应�能�，�，�等�持�条�，�的�劳�求�要�业�和�术�系会音�住�屎�,助�网�2�稳�穷 �合�时�械�长�点�行�日�）�平�体�忆�关�X技�回�软�类�院�团�利�系�展方�需� 加�Q�/�？�将，不�非�会�销依�收�,�破�员�供�会�,化�,�存�可�升�予�中�等�唐�润�他�府�单�工�和�流�活�认�持�程�专�施�田�供�范�年�色�线�等�护�设�投�住�改�损�故�,��脸�非�等�司�全�将�济�故,�传讲� 报�服�果�后���,�等�昕�。�的\n",
    "\n",
    ",等�明�失�流�内�性�室，·致�遵�S督�网�度�筑�处�比�受�江�及,�级�众�E道，�财�网c�防�市�有领饭曲环负�等�解的�等�引�4�。�1�，1�阳�企�务�，�担�业�科�中�济�案�宪信�用�商�寻�持�，新�务��向�有�应�审�或�兴�有�戏�续�信�资及�会�发�金�，�方�羽�衣�求纷�，�江�实力�构�深 �和�底,法地I共�仍�生�国�劳�男�通�比�事�金�求�合�通鸿�导�高�公�，�等�前�根�立�扰�并�去�,间�商�借�高�传�,，�的�过�变�至�力�供�严�畴育�内�后�有�风�动景�降�、�继�承�,�系�持�余�改�动�.根d�节�上�产。电�本流�电�公�,�民�中�,�网�各�供�调�错�并�院�色头�参,�府�更�，�昊�事�。?及�材� 破�法�,的�，�它�展�设符�生了�分�究�划�，�制�工�和�放�,�于� 高� 窗�手�，�中�,�颇�者�例�交�断�,�港�级公�易�者�错�卫�算�或�手�首�"
   ]
  },
  {
   "cell_type": "code",
   "execution_count": null,
   "metadata": {
    "id": "a987b40417de"
   },
   "outputs": [],
   "source": [
    "ALGORITHM = \"tabnet\"\n",
    "MODEL_TYPE = \"classification\"\n",
    "MODEL_NAME = f\"{DATASET_NAME}_{ALGORITHM}_{MODEL_TYPE}\"\n",
    "\n",
    "OUTPUT_DIR = f\"{BUCKET_URI}/{MODEL_NAME}_{TIMESTAMP}\"\n",
    "print(\"Output dir: \", OUTPUT_DIR)\n",
    "\n",
    "CMDARGS = [\n",
    "    \"--preprocess\",\n",
    "    \"--data_has_header\",\n",
    "    f\"--training_data_path={TRAINING_DATA_PATH}\",\n",
    "    f\"--job-dir={OUTPUT_DIR}\",\n",
    "    f\"--model_type={MODEL_TYPE}\",\n",
    "    \"--max_steps=2000\",\n",
    "    \"--batch_size=4096\",\n",
    "    \"--learning_rate=0.01\",\n",
    "    \"--prediction_raw_inputs\",\n",
    "    \"--exclude_key\",\n",
    "]"
   ]
  },
  {
   "cell_type": "markdown",
   "metadata": {
    "id": "train_custom_job"
   },
   "source": [
    "### 运行自定义训练作业并创建 TabNet 模型\n",
    "\n",
    "使用 `run` 方法开始训练，需要以下参数：\n",
    "\n",
    "- `model_display_name`：如果脚本生成一个受管的 `Model`，则是 `Model` 的显示名称。\n",
    "- `args`：要传递给 TabNet 训练容器的命令行参数。\n",
    "- `replica_count`：工作节点副本的数量。\n",
    "- `machine_type`：用于训练的机器类型。\n",
    "- `base_output_dir`：作业的 GCS 输出目录。\n",
    "- `sync`：是否同步执行此方法。\n",
    "\n",
    "`run` 方法创建一个训练管道来训练并创建一个 `Model` 对象。训练管道完成后，`run` 方法将返回 `Model` 对象。"
   ]
  },
  {
   "cell_type": "code",
   "execution_count": null,
   "metadata": {
    "id": "c0927403746f"
   },
   "outputs": [],
   "source": [
    "MODEL_DIR = OUTPUT_DIR\n",
    "MACHINE_TYPE = \"n1-standard-4\"\n",
    "\n",
    "model = job.run(\n",
    "    model_display_name=f\"{DATASET_NAME}_{TIMESTAMP}\",\n",
    "    args=CMDARGS,\n",
    "    replica_count=1,\n",
    "    machine_type=MACHINE_TYPE,\n",
    "    base_output_dir=MODEL_DIR,\n",
    "    sync=True,\n",
    ")\n",
    "\n",
    "print(model.gca_resource)"
   ]
  },
  {
   "cell_type": "markdown",
   "metadata": {
    "id": "91d661ac0276"
   },
   "source": [
    "### 删除训练作业\n",
    "\n",
    "使用`delete()`方法来删除训练作业。"
   ]
  },
  {
   "cell_type": "code",
   "execution_count": null,
   "metadata": {
    "id": "3e43fc3b7fe8"
   },
   "outputs": [],
   "source": [
    "job.delete()"
   ]
  },
  {
   "cell_type": "markdown",
   "metadata": {
    "id": "75ab2d5dd517"
   },
   "source": [
    "设置一个VPC对等网络"
   ]
  },
  {
   "cell_type": "markdown",
   "metadata": {
    "id": "a636147aac60"
   },
   "source": [
    "要使用`PrivateEndpoint`，您需要在您的项目和托管运行您模型的Vertex AI Prediction服务项目之间设置一个VPC peering网络。这可以消除网络流量中的额外跳数，并允许使用高效的HTTP协议。\n",
    "\n",
    "了解更多关于[VPC peering](https://cloud.google.com/vertex-ai/docs/general/vpc-peering)。\n",
    "\n",
    "**重要提示：每个项目只能设置一个到servicenetworking.googleapis.com的VPC peering。**"
   ]
  },
  {
   "cell_type": "markdown",
   "metadata": {
    "id": "dd8667882684"
   },
   "source": [
    "### 为 `default` 网络创建 VPC 对等连接\n",
    "\n",
    "为简单起见，我们设置了一个 VPC 对等连接到一个新的GCP（谷歌云平台）项目开始时的 `default` 网络。您也可以为您的项目创建和使用不同的网络。如果您与任何其他网络设置了 VPC 对等连接，请确保该网络已经存在且您的虚拟机正在该网络上运行。"
   ]
  },
  {
   "cell_type": "code",
   "execution_count": null,
   "metadata": {
    "id": "e370da6ac004"
   },
   "outputs": [],
   "source": [
    "# This is for display only; you can name the range anything.\n",
    "PEERING_RANGE_NAME = \"vertex-ai-prediction-peering-range\"\n",
    "NETWORK = \"default\"\n",
    "\n",
    "# NOTE: `prefix-length=16` means a CIDR block with mask /16 will be\n",
    "# reserved for use by Google services, such as Vertex AI.\n",
    "! gcloud compute addresses create $PEERING_RANGE_NAME \\\n",
    "  --global \\\n",
    "  --prefix-length=16 \\\n",
    "  --description=\"peering range for Google service\" \\\n",
    "  --network=$NETWORK \\\n",
    "  --purpose=VPC_PEERING"
   ]
  },
  {
   "cell_type": "markdown",
   "metadata": {
    "id": "b232ca5e5f30"
   },
   "source": [
    "创建VPC连接\n",
    "\n",
    "创建VPC对等连接。\n",
    "\n",
    "注意：如果收到`PERMISSION DENIED`错误，可能是因为您的默认服务账户没有设置必要的角色`Compute Network Admin`。在Cloud Console中执行以下步骤。\n",
    "\n",
    "1. 在GCP仪表板中转到`IAM＆Admin`。\n",
    "2. 找到您的服务账户。\n",
    "3. 点击编辑图标。\n",
    "4. 选择添加另一个角色。\n",
    "5. 输入`Compute Network Admin`。\n",
    "6. 选择保存。"
   ]
  },
  {
   "cell_type": "code",
   "execution_count": null,
   "metadata": {
    "id": "d633014964f4"
   },
   "outputs": [],
   "source": [
    "! gcloud services vpc-peerings connect \\\n",
    "  --service=servicenetworking.googleapis.com \\\n",
    "  --network=$NETWORK \\\n",
    "  --ranges=$PEERING_RANGE_NAME \\\n",
    "  --project=$PROJECT_ID"
   ]
  },
  {
   "cell_type": "markdown",
   "metadata": {
    "id": "07c4452da03a"
   },
   "source": [
    "检查您的对等连接状态。"
   ]
  },
  {
   "cell_type": "code",
   "execution_count": null,
   "metadata": {
    "id": "b87fb56c5b53"
   },
   "outputs": [],
   "source": [
    "! gcloud compute networks peerings list --network $NETWORK"
   ]
  },
  {
   "cell_type": "markdown",
   "metadata": {
    "id": "604e1798f14a"
   },
   "source": [
    "### 构建完整的网络名称\n",
    "\n",
    "当您随后为VPC对等连接创建`PrivateEndpoint`资源时，需要先具有完整的网络资源名称。"
   ]
  },
  {
   "cell_type": "code",
   "execution_count": null,
   "metadata": {
    "id": "0dda2dcfe5fe"
   },
   "outputs": [],
   "source": [
    "project_number = model.resource_name.split(\"/\")[1]\n",
    "print(project_number)\n",
    "\n",
    "full_network_name = f\"projects/{project_number}/global/networks/{NETWORK}\"\n",
    "full_network_name"
   ]
  },
  {
   "cell_type": "markdown",
   "metadata": {
    "id": "69cebf72d1e6"
   },
   "source": [
    "## 创建一个`PrivateEndpoint`资源\n",
    "\n",
    "使用`PrivateEndpoint.create()`方法创建一个`PrivateEndpoint`资源。\n",
    "\n",
    "在本示例中，以下参数被指定：\n",
    "\n",
    "- `display_name`：`PrivateEndpoint`资源的人类可读的名称。\n",
    "- `network`：VPC对等连接的完整网络资源名称。"
   ]
  },
  {
   "cell_type": "code",
   "execution_count": null,
   "metadata": {
    "id": "4f51d5c47bdf"
   },
   "outputs": [],
   "source": [
    "private_endpoint = aiplatform.PrivateEndpoint.create(\n",
    "    display_name=f\"{DATASET_NAME}_private_endpoint_{TIMESTAMP}\",\n",
    "    network=full_network_name,\n",
    ")"
   ]
  },
  {
   "cell_type": "markdown",
   "metadata": {
    "id": "2a720a453814"
   },
   "source": [
    "### 获取有关 `PrivateEndpoint` 资源的详细信息\n",
    "\n",
    "查看具有属性 `gca_resource` 的 `PrivateEndpoint` 对象的底层详细信息。"
   ]
  },
  {
   "cell_type": "code",
   "execution_count": null,
   "metadata": {
    "id": "bf2d72ebf6c1"
   },
   "outputs": [],
   "source": [
    "private_endpoint.gca_resource"
   ]
  },
  {
   "cell_type": "markdown",
   "metadata": {
    "id": "deploy_model:dedicated"
   },
   "source": [
    "将TabNet模型部署到`PrivateEndpoint`。\n",
    "\n",
    "将TabNet模型部署到新创建的`PrivateEndpoint`资源上，以便对传入数据样本进行预测。\n",
    "\n",
    "该函数接受以下参数：\n",
    "\n",
    "- `model`：要部署的模型。\n",
    "- `deployed_model_display_name`：部署模型的可读名称。\n",
    "- `machine_type`：用于训练的机器类型。\n",
    "\n",
    "该方法将阻塞直到模型部署完成，并最终返回一个`PrivateEndpoint`对象。如果这是首次将模型部署到端点上，则可能需要额外几分钟来完成资源的配置。"
   ]
  },
  {
   "cell_type": "code",
   "execution_count": null,
   "metadata": {
    "id": "4e08de0c4d6f"
   },
   "outputs": [],
   "source": [
    "DEPLOYED_NAME = f\"{DATASET_NAME}_deployed_model_{TIMESTAMP}\"\n",
    "\n",
    "response = private_endpoint.deploy(\n",
    "    model=model,\n",
    "    deployed_model_display_name=DEPLOYED_NAME,\n",
    "    machine_type=\"n1-standard-4\",\n",
    ")"
   ]
  },
  {
   "cell_type": "markdown",
   "metadata": {
    "id": "6a7e8daa2350"
   },
   "source": [
    "### 获取服务签名\n",
    "\n",
    "下载模型到本地，然后查询模型获取其服务签名。服务签名的形式将为：\n",
    "\n",
    "（“特征名称1”，“特征名称2”，...）"
   ]
  },
  {
   "cell_type": "code",
   "execution_count": null,
   "metadata": {
    "id": "23374479e310"
   },
   "outputs": [],
   "source": [
    "import tensorflow as tf\n",
    "\n",
    "loaded = tf.saved_model.load(MODEL_DIR + \"/model\")\n",
    "loaded.signatures"
   ]
  },
  {
   "cell_type": "markdown",
   "metadata": {
    "id": "9321a211f2f7"
   },
   "source": [
    "## 进行预测\n",
    "\n",
    "最后，使用`predict()`方法进行预测。每个实例都以以下字典格式指定：\n",
    "\n",
    "    { \"feature_name_1\": value, \"feature_name_2\": value, ... }"
   ]
  },
  {
   "cell_type": "code",
   "execution_count": null,
   "metadata": {
    "id": "625fc7368b65"
   },
   "outputs": [],
   "source": [
    "prediction = private_endpoint.predict(\n",
    "    [\n",
    "        {\n",
    "            \"Age\": 3,\n",
    "            \"Breed1\": \"Tabby\",\n",
    "            \"Color1\": \"Black\",\n",
    "            \"Color2\": \"White\",\n",
    "            \"Fee\": 100,\n",
    "            \"FurLength\": \"Short\",\n",
    "            \"Gender\": \"Male\",\n",
    "            \"Health\": \"Healthy\",\n",
    "            \"MaturitySize\": \"Small\",\n",
    "            \"PhotoAmt\": 2,\n",
    "            \"Sterilized\": \"No\",\n",
    "            \"Type\": \"Cat\",\n",
    "            \"Vaccinated\": \"No\",\n",
    "        }\n",
    "    ]\n",
    ")\n",
    "\n",
    "print(prediction)"
   ]
  },
  {
   "cell_type": "markdown",
   "metadata": {
    "id": "TpV-iwP9qw9c"
   },
   "source": [
    "## 清理\n",
    "\n",
    "要清理此项目中使用的所有Google Cloud资源，您可以[删除用于教程的Google Cloud项目](https://cloud.google.com/resource-manager/docs/creating-managing-projects#shutting_down_projects)。\n",
    "\n",
    "否则，您可以删除在本教程中创建的单个资源。"
   ]
  },
  {
   "cell_type": "code",
   "execution_count": null,
   "metadata": {
    "id": "sx_vKniMq9ZX"
   },
   "outputs": [],
   "source": [
    "delete_bucket = False\n",
    "try:\n",
    "    private_endpoint.delete(force=True)\n",
    "    model.delete()\n",
    "except Exception as e:\n",
    "    print(e)\n",
    "\n",
    "if delete_bucket or os.getenv(\"IS_TESTING\"):\n",
    "    ! gsutil rm -r $BUCKET_URI"
   ]
  }
 ],
 "metadata": {
  "colab": {
   "collapsed_sections": [],
   "name": "sdk_private_endpoint.ipynb",
   "toc_visible": true
  },
  "kernelspec": {
   "display_name": "Python 3",
   "name": "python3"
  }
 },
 "nbformat": 4,
 "nbformat_minor": 0
}
