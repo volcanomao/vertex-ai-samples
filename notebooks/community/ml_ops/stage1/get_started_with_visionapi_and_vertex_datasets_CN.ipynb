{
 "cells": [
  {
   "cell_type": "code",
   "execution_count": null,
   "metadata": {
    "id": "copyright"
   },
   "outputs": [],
   "source": [
    "# Copyright 2022 Google LLC\n",
    "#\n",
    "# Licensed under the Apache License, Version 2.0 (the \"License\");\n",
    "# you may not use this file except in compliance with the License.\n",
    "# You may obtain a copy of the License at\n",
    "#\n",
    "#     https://www.apache.org/licenses/LICENSE-2.0\n",
    "#\n",
    "# Unless required by applicable law or agreed to in writing, software\n",
    "# distributed under the License is distributed on an \"AS IS\" BASIS,\n",
    "# WITHOUT WARRANTIES OR CONDITIONS OF ANY KIND, either express or implied.\n",
    "# See the License for the specific language governing permissions and\n",
    "# limitations under the License."
   ]
  },
  {
   "cell_type": "markdown",
   "metadata": {
    "id": "4JIDiHvGasba"
   },
   "source": [
    "这本笔记本是由[Mohammad Al-Ansari](https://github.com/Mansari)贡献的。"
   ]
  },
  {
   "cell_type": "markdown",
   "metadata": {
    "id": "2xDiUNIZINWp"
   },
   "source": [
    "# GCP 上的端到端机器学习：MLOps 阶段1：数据管理：使用 Vision API 从 PDF 中创建一个未标记的 Vertex AI AutoML 文本实体提取数据集\n",
    "\n",
    "<table align=\"left\">\n",
    "  <td>\n",
    "    <a href=\"https://colab.research.google.com/github/GoogleCloudPlatform/vertex-ai-samples/blob/main/notebooks/community/ml_ops/stage1/get_started_with_visionapi_and_vertex_datasets.ipynb\">\n",
    "      <img src=\"https://cloud.google.com/ml-engine/images/colab-logo-32px.png\" alt=\"Colab logo\"> 在 Colab 中运行\n",
    "    </a>\n",
    "  </td>\n",
    "  <td>\n",
    "    <a href=\"https://github.com/GoogleCloudPlatform/vertex-ai-samples/blob/main/notebooks/community/ml_ops/stage1/get_started_with_visionapi_and_vertex_datasets.ipynb\">\n",
    "      <img src=\"https://cloud.google.com/ml-engine/images/github-logo-32px.png\" alt=\"GitHub logo\">\n",
    "      在 GitHub 上查看\n",
    "    </a>\n",
    "  </td>\n",
    "  <td>\n",
    "    <a href=\"https://console.cloud.google.com/vertex-ai/workbench/deploy-notebook?download_url=https://raw.githubusercontent.com/GoogleCloudPlatform/vertex-ai-samples/main/notebooks/community/ml_ops/stage1/get_started_with_visionapi_and_vertex_datasets.ipynb\">\n",
    "     <img src=\"https://lh3.googleusercontent.com/UiNooY4LUgW_oTvpsNhPpQzsstV5W8F7rYgxgGBD85cWJoLmrOzhVs_ksK_vgx40SHs7jCqkTkCk=e14-rj-sc0xffffff-h130-w32\" alt=\"Vertex AI logo\">\n",
    "      在 Vertex AI Workbench 中打开\n",
    "    </a>\n",
    "  </td>\n",
    "</table>\n",
    "<br/><br/><br/>"
   ]
  },
  {
   "cell_type": "markdown",
   "metadata": {
    "id": "H0alLPo_A-LK"
   },
   "source": [
    "## 概述\n",
    "\n",
    "本笔记本基于存储在云存储桶中的一组PDF文件，创建一个无标签的`Vertex AI AutoML`文本实体提取数据集。\n",
    "\n",
    "该笔记本可进行修改，用于创建不同类型的文本数据集，包括情感分析和分类。"
   ]
  },
  {
   "cell_type": "markdown",
   "metadata": {
    "id": "3f8c2f702ccd"
   },
   "source": [
    "### 目标\n",
    "\n",
    "在本教程中，您将学习如何使用` Vision API`从存储在云存储桶上的PDF文件中提取文本。然后，您将处理结果并创建一个适用于`AutoML`的未标记的`Vertex AI数据集`，用于文本实体提取。\n",
    "\n",
    "然后，您可以使用Google Cloud控制台对数据集进行注释/标记，或者创建一个类似于[此笔记本](https://github.com/GoogleCloudPlatform/vertex-ai-samples/blob/main/notebooks/community/ml_ops/stage1/get_started_with_data_labeling.ipynb)中演示的标记作业。\n",
    "\n",
    "本教程使用以下Google Cloud服务：\n",
    "\n",
    "- `Vision AI`\n",
    "- `Vertex AI AutoML`\n",
    "\n",
    "执行的步骤包括：\n",
    "\n",
    "1. 使用` Vision API`执行光学字符识别（OCR）以从PDF文件中提取文本。\n",
    "2. 处理结果并将其保存到文本文件中。\n",
    "3. 生成一个`Vertex AI数据集`导入文件。\n",
    "4. 在`Vertex AI`中创建一个新的未标记文本实体提取`Vertex AI数据集`资源。"
   ]
  },
  {
   "cell_type": "markdown",
   "metadata": {
    "id": "W4IBLTKOA5nl"
   },
   "source": [
    "数据集\n",
    "\n",
    "本教程使用的数据集是来自Google公共数据集的[带有提取结构化数据的专利PDF样本]。 \n",
    "\n",
    "该数据集包括从美国和欧盟发出的300多份专利文件中提取的数据。 数据集包括每份专利的第一页的云存储 blob 的链接，以及一些提取的实体。\n",
    "\n",
    "该数据作为一个[公共数据集](https://cloud.google.com/bigquery/public-data)发布在`BigQuery`上。"
   ]
  },
  {
   "cell_type": "markdown",
   "metadata": {
    "id": "CgLDJ419LPJs"
   },
   "source": [
    "### 价格\n",
    "\n",
    "本教程使用 Google Cloud 的可计费组件：\n",
    "\n",
    "* Vision API\n",
    "* Vertex AI\n",
    "* 云存储\n",
    "\n",
    "了解 [Vertex AI 价格](https://cloud.google.com/vertex-ai/pricing)，[Vision API 价格](https://cloud.google.com/vision/pricing)，[云存储 价格](https://cloud.google.com/storage/pricing)，并使用 [计价计算器](https://cloud.google.com/products/calculator/) 来生成基于您预期使用量的费用估算。"
   ]
  },
  {
   "cell_type": "markdown",
   "metadata": {
    "id": "va2g7m9wLTjA"
   },
   "source": [
    "### 设置本地开发环境\n",
    "\n",
    "如果您正在使用Colab或Vertex AI Workbench笔记本，您的环境已经满足运行此笔记本的所有要求。您可以跳过这一步。\n",
    "\n",
    "否则，请确保您的环境满足此笔记本的要求。您需要以下内容：\n",
    "\n",
    "- Vision API SDK\n",
    "- Vertex AI SDK\n",
    "- Cloud Storage SDK\n",
    "- Git\n",
    "- Python 3\n",
    "- virtualenv\n",
    "- 在使用Python 3运行的虚拟环境中运行Jupyter笔记本\n",
    "\n",
    "Cloud Storage指南中提供了[设置Python开发环境](https://cloud.google.com/python/setup)的详细说明，以及[Jupyter安装指南](https://jupyter.org/install)来满足这些要求。以下步骤提供了一套简化的指导：\n",
    "\n",
    "1. [安装并初始化SDKs](https://cloud.google.com/sdk/docs/)。\n",
    "\n",
    "2. [安装Python 3](https://cloud.google.com/python/setup#installing_python)。\n",
    "\n",
    "3. [安装virtualenv](https://cloud.google.com/python/setup#installing_and_using_virtualenv)并创建一个使用Python 3的虚拟环境。激活虚拟环境。\n",
    "\n",
    "4. 要安装Jupyter，请在终端Shell中运行`pip3 install jupyter`。\n",
    "\n",
    "5. 要启动Jupyter，请在终端Shell中运行`jupyter notebook`。\n",
    "\n",
    "6. 在Jupyter Notebook仪表板中打开此笔记本。"
   ]
  },
  {
   "cell_type": "markdown",
   "metadata": {
    "id": "X2tZAmugAe6h"
   },
   "source": [
    "## 安装\n",
    "\n",
    "安装执行此笔记本所需的软件包。您可以忽略`pip`依赖解析器的错误，因为它们不会影响此笔记本。"
   ]
  },
  {
   "cell_type": "code",
   "execution_count": null,
   "metadata": {
    "id": "BQOsJ1hZAZu0"
   },
   "outputs": [],
   "source": [
    "import os\n",
    "\n",
    "# The Vertex AI Workbench Notebook product has specific requirements\n",
    "IS_WORKBENCH_NOTEBOOK = os.getenv(\"DL_ANACONDA_HOME\")\n",
    "IS_USER_MANAGED_WORKBENCH_NOTEBOOK = os.path.exists(\n",
    "    \"/opt/deeplearning/metadata/env_version\"\n",
    ")\n",
    "\n",
    "# Vertex AI Notebook requires dependencies to be installed with '--user'\n",
    "USER_FLAG = \"\"\n",
    "if IS_WORKBENCH_NOTEBOOK:\n",
    "    USER_FLAG = \"--user\"\n",
    "\n",
    "! pip3 install --upgrade google-cloud-storage google-cloud-vision google-cloud-aiplatform $USER_FLAG -q"
   ]
  },
  {
   "cell_type": "markdown",
   "metadata": {
    "id": "yzvvcmCuAon3"
   },
   "source": [
    "### 重新启动内核\n",
    "\n",
    "安装了额外的软件包之后，您需要重新启动笔记本内核，以便它可以找到这些软件包。"
   ]
  },
  {
   "cell_type": "code",
   "execution_count": null,
   "metadata": {
    "id": "6qEonzbuAoI_"
   },
   "outputs": [],
   "source": [
    "import os\n",
    "\n",
    "if not os.getenv(\"IS_TESTING\"):\n",
    "    # Automatically restart kernel after installs\n",
    "    import IPython\n",
    "\n",
    "    app = IPython.Application.instance()\n",
    "    app.kernel.do_shutdown(True)"
   ]
  },
  {
   "cell_type": "markdown",
   "metadata": {
    "id": "pGbbyN7rAuRM"
   },
   "source": [
    "##在开始之前\n",
    "\n",
    "###GPU运行时\n",
    "\n",
    "*如果有此选项，请确保在GPU运行时中运行此笔记本。在Colab中，选择* **运行时 > 更改运行时类型 > GPU**\n",
    "\n",
    "###设置您的Google Cloud项目\n",
    "\n",
    "**无论您的笔记本环境如何，都需要完成以下步骤。**\n",
    "\n",
    "1. [选择或创建一个Google Cloud项目](https://console.cloud.google.com/cloud-resource-manager)。当您第一次创建帐户时，您将获得$300的免费信用用于计算/存储成本。\n",
    "\n",
    "2. [确保为您的项目启用结算。](https://cloud.google.com/billing/docs/how-to/modify-project)\n",
    "\n",
    "3. [启用以下API：Vision API，Vertex AI APIs，Compute Engine APIs和Cloud Storage。](https://console.cloud.google.com/flows/enableapi?apiid=vision.googleapis.com,aiplatform.googleapis.com,compute_component,storage-component.googleapis.com)\n",
    "\n",
    "4. 如果您在本地运行此笔记本，您需要安装[Cloud SDK]((https://cloud.google.com/sdk))。\n",
    "\n",
    "5. 在下面的单元格中输入您的项目ID。然后运行该单元格，以确保Cloud SDK在此笔记本中的所有命令中使用正确的项目。\n",
    "\n",
    "**注意**：Jupyter会将以`!`为前缀的行作为shell命令运行，并将以`$`为前缀的Python变量插值。"
   ]
  },
  {
   "cell_type": "markdown",
   "metadata": {
    "id": "WReHDGG5g0XY"
   },
   "source": [
    "设置您的项目ID\n",
    "\n",
    "**如果您不知道您的项目ID**，您可以使用`gcloud`来获取您的项目ID。"
   ]
  },
  {
   "cell_type": "code",
   "execution_count": null,
   "metadata": {
    "id": "AE97adtnAzrr"
   },
   "outputs": [],
   "source": [
    "PROJECT_ID = \"[your-project-id]\"  # @param {type:\"string\"}"
   ]
  },
  {
   "cell_type": "code",
   "execution_count": null,
   "metadata": {
    "id": "nWlzLu5ELxWd"
   },
   "outputs": [],
   "source": [
    "if PROJECT_ID == \"\" or PROJECT_ID is None or PROJECT_ID == \"[your-project-id]\":\n",
    "    # Get your GCP project id from gcloud\n",
    "    shell_output = ! gcloud config list --format 'value(core.project)' 2>/dev/null\n",
    "    PROJECT_ID = shell_output[0]\n",
    "    print(\"Project ID:\", PROJECT_ID)"
   ]
  },
  {
   "cell_type": "code",
   "execution_count": null,
   "metadata": {
    "id": "GB5b27r0LxqE"
   },
   "outputs": [],
   "source": [
    "! gcloud config set project $PROJECT_ID"
   ]
  },
  {
   "cell_type": "markdown",
   "metadata": {
    "id": "pMJdU1K5xG7D"
   },
   "source": [
    "### 地区\n",
    "\n",
    "#### 视觉AI\n",
    "\n",
    "您现在可以通过设置`VISION_AI_REGION`变量来指定大陆级别的数据存储和光学字符识别（OCR）处理。您可以选择以下选项之一：\n",
    "\n",
    "* 仅美国国家：`us`\n",
    "* 欧洲联盟：`eu`\n",
    "\n",
    "了解更多关于[OCR的Vision AI区域](https://cloud.google.com/vision/docs/pdf#regionalization)\n",
    "\n",
    "#### Vertex AI\n",
    "\n",
    "您还可以更改`VERTEX_AI_REGION`变量，这将用于笔记本其余部分的操作。以下是Vertex AI支持的地区。我们建议您选择离您最近的地区。\n",
    "\n",
    "- 美洲：`us-central1`\n",
    "- 欧洲：`europe-west4`\n",
    "- 亚太地区：`asia-east1`\n",
    "\n",
    "您可能不能使用多地区存储桶来训练Vertex AI。并非所有地区都支持所有Vertex AI服务。\n",
    "\n",
    "了解更多关于[Vertex AI地区](https://cloud.google.com/vertex-ai/docs/general/locations)。"
   ]
  },
  {
   "cell_type": "code",
   "execution_count": null,
   "metadata": {
    "id": "5EhEAOK5xIKc"
   },
   "outputs": [],
   "source": [
    "VISION_AI_REGION = \"[your-region]\"  # @param {type: \"string\"}\n",
    "\n",
    "if VISION_AI_REGION == \"[your-region]\":\n",
    "    VISION_AI_REGION = \"us\"\n",
    "\n",
    "VERTEX_AI_REGION = \"[your-region]\"  # @param {type: \"string\"}\n",
    "\n",
    "if VERTEX_AI_REGION == \"[your-region]\":\n",
    "    VERTEX_AI_REGION = \"us-central1\""
   ]
  },
  {
   "cell_type": "markdown",
   "metadata": {
    "id": "xkgvWoXkxM1r"
   },
   "source": [
    "时间戳\n",
    "\n",
    "如果你正在进行现场教程，你可能会使用一个共享的测试账户或项目。为了避免用户之间在创建资源时发生名称冲突，你为每个实例会话创建一个时间戳，并将其附加到本教程中将要创建的资源名称上。"
   ]
  },
  {
   "cell_type": "code",
   "execution_count": null,
   "metadata": {
    "id": "gr0HTpQZxNy4"
   },
   "outputs": [],
   "source": [
    "from datetime import datetime\n",
    "\n",
    "TIMESTAMP = datetime.now().strftime(\"%Y%m%d%H%M%S\")"
   ]
  },
  {
   "cell_type": "markdown",
   "metadata": {
    "id": "AA-ns5CcBA9U"
   },
   "source": [
    "### Vertex AI数据集导入模式\n",
    "\n",
    "这个常量告诉Vertex AI导入数据集的模式。在这个教程中，您将使用文本提取的值，但是您也可以将其更改为以下任何值，以满足其他用例：\n",
    "\n",
    "- \n",
    "`aiplatform.schema.dataset.ioformat.text.single_label_classification`\n",
    "\n",
    "- \n",
    "`aiplatform.schema.dataset.ioformat.text.multi_label_classification`\n",
    "\n",
    "- \n",
    "`aiplatform.schema.dataset.ioformat.text.extraction`\n",
    "\n",
    "- \n",
    "`aiplatform.schema.dataset.ioformat.text.sentiment`"
   ]
  },
  {
   "cell_type": "code",
   "execution_count": null,
   "metadata": {
    "id": "jnOb6Pp-4w5P"
   },
   "outputs": [],
   "source": [
    "from google.cloud import aiplatform\n",
    "\n",
    "DATASET_IMPORT_SCHEMA = aiplatform.schema.dataset.ioformat.text.extraction"
   ]
  },
  {
   "cell_type": "markdown",
   "metadata": {
    "id": "ekbg-G7UA-bK"
   },
   "source": [
    "### 验证您的谷歌云账户\n",
    "\n",
    "**如果您正在使用 Vertex AI Workbench**，您的环境已经验证。跳过此步骤。如果仍然收到错误消息，您可能需要授予服务账号（您的 Workbench 笔记本正在运行的账号）访问以下列出的服务的权限。\n",
    "\n",
    "**如果您正在使用 Colab**，运行下面的单元格，并按照提示进行身份验证，通过 oAuth 验证您的账户。\n",
    "\n",
    "**否则**，按照以下步骤操作：\n",
    "\n",
    "在 Cloud 控制台中，转到 [创建服务账号密钥](https://console.cloud.google.com/apis/credentials/serviceaccountkey) 页面。\n",
    "\n",
    "**点击创建服务账号**。\n",
    "\n",
    "在**服务账号名称**字段中输入一个名称，点击**创建**。\n",
    "\n",
    "在**将此服务账号授权访问项目**部分，点击角色下拉列表。在筛选框中键入“Vertex”，并选择**Vertex AI 管理员**。在筛选框中键入“存储对象管理员”，并选择**存储对象管理员**。\n",
    "\n",
    "点击创建。包含您密钥的 JSON 文件将下载到您的本地环境。\n",
    "\n",
    "在下面的单元格中，输入您的服务账号密钥的路径作为 GOOGLE_APPLICATION_CREDENTIALS 变量，并运行该单元格。"
   ]
  },
  {
   "cell_type": "code",
   "execution_count": null,
   "metadata": {
    "id": "lCRrULxKBAfa"
   },
   "outputs": [],
   "source": [
    "# If you are running this notebook in Colab, run this cell and follow the\n",
    "# instructions to authenticate your GCP account. This provides access to your\n",
    "# Cloud Storage bucket and lets you submit training jobs and prediction\n",
    "# requests.\n",
    "\n",
    "import os\n",
    "import sys\n",
    "\n",
    "# If on Vertex AI Workbench, then don't execute this code\n",
    "IS_COLAB = \"google.colab\" in sys.modules\n",
    "if not os.path.exists(\"/opt/deeplearning/metadata/env_version\") and not os.getenv(\n",
    "    \"DL_ANACONDA_HOME\"\n",
    "):\n",
    "    if \"google.colab\" in sys.modules:\n",
    "        from google.colab import auth as google_auth\n",
    "\n",
    "        google_auth.authenticate_user()\n",
    "\n",
    "    # If you are running this notebook locally, replace the string below with the\n",
    "    # path to your service account key and run this cell to authenticate your GCP\n",
    "    # account.\n",
    "    elif not os.getenv(\"IS_TESTING\"):\n",
    "        %env GOOGLE_APPLICATION_CREDENTIALS ''"
   ]
  },
  {
   "cell_type": "markdown",
   "metadata": {
    "id": "rHB6fbonMMbI"
   },
   "source": [
    "### 创建一个云存储桶\n",
    "\n",
    "**无论您使用的笔记本环境如何，以下步骤都是必需的。**\n",
    "\n",
    "当您初始化 Python 版本的 Vertex AI SDK 时，您需要指定一个云存储暂存桶。这个暂存桶是您的数据集和模型资源相关数据在不同会话中保留的地方。这个桶还将用于存储 Vision API SDK 中 PDF 到文本转换过程的输出。\n",
    "\n",
    "在下面设置您的云存储桶的名称。桶名称必须在所有谷歌云项目中是全局唯一的，包括您组织之外的项目。"
   ]
  },
  {
   "cell_type": "code",
   "execution_count": null,
   "metadata": {
    "id": "ZSM5j0nfMOVK"
   },
   "outputs": [],
   "source": [
    "BUCKET_NAME = \"[your-bucket-name]\"  # @param {type:\"string\"}\n",
    "BUCKET_URI = f\"gs://{BUCKET_NAME}\""
   ]
  },
  {
   "cell_type": "code",
   "execution_count": null,
   "metadata": {
    "id": "i6H2iQX2MP-s"
   },
   "outputs": [],
   "source": [
    "if BUCKET_NAME == \"\" or BUCKET_NAME is None or BUCKET_NAME == \"[your-bucket-name]\":\n",
    "    BUCKET_NAME = PROJECT_ID + \"aip-\" + TIMESTAMP\n",
    "    BUCKET_URI = \"gs://\" + BUCKET_NAME"
   ]
  },
  {
   "cell_type": "markdown",
   "metadata": {
    "id": "AOsnYE5cMQX4"
   },
   "source": [
    "仅当您的存储桶尚不存在时：运行以下单元格来创建您的云存储桶。"
   ]
  },
  {
   "cell_type": "code",
   "execution_count": null,
   "metadata": {
    "id": "33RgSjhyMR6C"
   },
   "outputs": [],
   "source": [
    "! gsutil mb -l $VERTEX_AI_REGION -p $PROJECT_ID $BUCKET_URI"
   ]
  },
  {
   "cell_type": "markdown",
   "metadata": {
    "id": "UpKfi0VfMTwe"
   },
   "source": [
    "最后，通过检查云存储桶中的内容来验证对其的访问权限。"
   ]
  },
  {
   "cell_type": "code",
   "execution_count": null,
   "metadata": {
    "id": "G9dMjMnkMVNt"
   },
   "outputs": [],
   "source": [
    "! gsutil ls -al $BUCKET_URI"
   ]
  },
  {
   "cell_type": "markdown",
   "metadata": {
    "id": "k2qH7YCI0vnG"
   },
   "source": [
    "### 设置变量\n",
    "\n",
    "接下来，设置一些在教程中使用的变量。\n",
    "\n",
    "### 导入库并定义常量"
   ]
  },
  {
   "cell_type": "code",
   "execution_count": null,
   "metadata": {
    "id": "TB5-_2Xh01NH"
   },
   "outputs": [],
   "source": [
    "import os\n",
    "\n",
    "from google.cloud import aiplatform, storage, vision"
   ]
  },
  {
   "cell_type": "markdown",
   "metadata": {
    "id": "-v7gY_KABIn8"
   },
   "source": [
    "### 初始化Python视觉API SDK\n",
    "\n",
    "为您的项目和地区初始化 `Vision AI` SDK for Python。"
   ]
  },
  {
   "cell_type": "code",
   "execution_count": null,
   "metadata": {
    "id": "DRbf--kWBLpx"
   },
   "outputs": [],
   "source": [
    "vision_client_options = {\n",
    "    \"quota_project_id\": PROJECT_ID,\n",
    "    \"api_endpoint\": f\"{VISION_AI_REGION}-vision.googleapis.com\",\n",
    "}\n",
    "vision_client = vision.ImageAnnotatorClient(client_options=vision_client_options)"
   ]
  },
  {
   "cell_type": "markdown",
   "metadata": {
    "id": "CA4nNVbBZ25d"
   },
   "source": [
    "初始化Python的Vertex AI SDK，为您的项目、区域和相应的存储桶准备。"
   ]
  },
  {
   "cell_type": "code",
   "execution_count": null,
   "metadata": {
    "id": "awWpNW1vZ6uV"
   },
   "outputs": [],
   "source": [
    "aiplatform.init(\n",
    "    project=PROJECT_ID, location=VERTEX_AI_REGION, staging_bucket=BUCKET_URI\n",
    ")"
   ]
  },
  {
   "cell_type": "markdown",
   "metadata": {
    "id": "debBBljMDqkM"
   },
   "source": [
    "### 初始化 Python的云存储SDK\n",
    "\n",
    "为您的项目初始化Python的`云存储`SDK。"
   ]
  },
  {
   "cell_type": "code",
   "execution_count": null,
   "metadata": {
    "id": "ZtzmI9tpDr4e"
   },
   "outputs": [],
   "source": [
    "storage_client = storage.Client(project=PROJECT_ID)"
   ]
  },
  {
   "cell_type": "markdown",
   "metadata": {
    "id": "mvD0BxVXMtJe"
   },
   "source": [
    "教程\n",
    "\n",
    "现在，您可以开始从PDF文件中创建一个未标记的`Vertex AI数据集`文本实体提取数据集。"
   ]
  },
  {
   "cell_type": "markdown",
   "metadata": {
    "id": "EurEFM3GBap9"
   },
   "source": [
    "### 使用 Vision API 将 PDF 文件转换为文本\n",
    "\n",
    "首先，您可以向 Vision API 发出请求，对存储在云存储桶中的专利样本的 PDF 进行 OCR 处理，将其转换为文本。\n",
    "\n",
    "*注意:* Vision API 一次只允许批量提交 100 份文档。"
   ]
  },
  {
   "cell_type": "code",
   "execution_count": null,
   "metadata": {
    "id": "uXVPOvjTBeK3"
   },
   "outputs": [],
   "source": [
    "ORIGIN_BUCKET_NAME = \"gcs-public-data--labeled-patents\"\n",
    "# You can add a path if needed\n",
    "ORIGIN_BUCKET_PATH = \"\"\n",
    "\n",
    "DESTINATION_BUCKET_NAME = BUCKET_NAME\n",
    "DESTINATION_BUCKET_PATH = \"ocr-output\"\n",
    "\n",
    "gcs_destination_uri = f\"gs://{DESTINATION_BUCKET_NAME}/{DESTINATION_BUCKET_PATH}\"\n",
    "\n",
    "# Specify the feature for the Vision API processor\n",
    "feature = vision.Feature(type_=vision.Feature.Type.DOCUMENT_TEXT_DETECTION)\n",
    "\n",
    "# Retrieve a list of all files in the bucket and path\n",
    "blobs = storage_client.list_blobs(\n",
    "    ORIGIN_BUCKET_NAME, prefix=ORIGIN_BUCKET_PATH, delimiter=\"/\"\n",
    ")\n",
    "\n",
    "# Create a collection of requests. The SDK requires a separate request per each\n",
    "# file that we want to extract text from\n",
    "async_requests = []\n",
    "\n",
    "# Visions API only supports processing up to 100 documents at a time\n",
    "# so we will process the first 100 elements only\n",
    "sliced_blob_list = list(blobs)[:100]\n",
    "\n",
    "# Loop through the source bucket and create a request for each file there\n",
    "for blob in sliced_blob_list:\n",
    "    # Build input_config\n",
    "    # Ensure we are only processing PDF files\n",
    "    if blob.name.endswith(\".pdf\"):\n",
    "        gcs_source = vision.GcsSource(uri=f\"gs://{ORIGIN_BUCKET_NAME}/{blob.name}\")\n",
    "        input_config = vision.InputConfig(\n",
    "            gcs_source=gcs_source, mime_type=\"application/pdf\"\n",
    "        )\n",
    "\n",
    "        # Build output config\n",
    "        # Get file name\n",
    "        file_name = os.path.splitext(os.path.basename(blob.name))[0]\n",
    "        gcs_destination = vision.GcsDestination(\n",
    "            uri=f\"{gcs_destination_uri}/{file_name}-\"\n",
    "        )\n",
    "        output_config = vision.OutputConfig(gcs_destination=gcs_destination)\n",
    "\n",
    "        # Build request object and add to the collection\n",
    "        async_request = vision.AsyncAnnotateFileRequest(\n",
    "            features=[feature], input_config=input_config, output_config=output_config\n",
    "        )\n",
    "\n",
    "        async_requests.append(async_request)\n",
    "\n",
    "print(f\"Created {len(async_requests)} requests\")\n",
    "\n",
    "# Submit the batch OCR job\n",
    "\n",
    "operation = vision_client.async_batch_annotate_files(requests=async_requests)\n",
    "print(\"Submitting the batch OCR job\")\n",
    "\n",
    "print(\"Waiting for the operation to finish... this will take a short while\")\n",
    "\n",
    "response = operation.result(timeout=420)\n",
    "\n",
    "print(\"Completed!\")"
   ]
  },
  {
   "cell_type": "markdown",
   "metadata": {
    "id": "7b15473e1937"
   },
   "source": [
    "快速查看提取的带注释的JSON文件\n",
    "\n",
    "接下来，您可以查看一个提取的带注释的JSON文件的内容。"
   ]
  },
  {
   "cell_type": "code",
   "execution_count": null,
   "metadata": {
    "id": "4366442c1373"
   },
   "outputs": [],
   "source": [
    "json_files = ! gsutil ls {gcs_destination_uri}\n",
    "\n",
    "example = json_files[0]\n",
    "! gsutil cat {example} | head -n 1"
   ]
  },
  {
   "cell_type": "markdown",
   "metadata": {
    "id": "QWmeHWPIHako"
   },
   "source": [
    "### 处理结果并构建导入文件\n",
    "\n",
    "`Vision API` 的输出是以 JSON 格式呈现，包含了详细的文本提取数据。您只需要完整的文本输出，因此您将处理 JSON 结果，提取文本输出，并保存到新的文本文件中，以便在教程中稍后使用。"
   ]
  },
  {
   "cell_type": "code",
   "execution_count": null,
   "metadata": {
    "id": "WDLtiejKHug6"
   },
   "outputs": [],
   "source": [
    "import json\n",
    "\n",
    "print(\"Extracting text from Vision API output and saving it to text files\")\n",
    "\n",
    "ocr_blobs = storage_client.list_blobs(\n",
    "    DESTINATION_BUCKET_NAME, prefix=DESTINATION_BUCKET_PATH\n",
    ")\n",
    "\n",
    "output_bucket = storage_client.bucket(DESTINATION_BUCKET_NAME)\n",
    "\n",
    "# begin building the import file content\n",
    "import_file_entries = []\n",
    "\n",
    "for ocr_blob in ocr_blobs:\n",
    "    # Only process .json files, in case we previously processed files and had .txt files\n",
    "    if ocr_blob.name.endswith(\".json\"):\n",
    "        print(f\"Extracting text from {ocr_blob.name}\")\n",
    "        # read each blob into a stream\n",
    "        contents = ocr_blob.download_as_string()\n",
    "        # load as JSON\n",
    "        json_object = json.loads(contents)\n",
    "        # extract text\n",
    "        full_text = \"\"\n",
    "        for response in json_object[\"responses\"]:\n",
    "            if response[\"fullTextAnnotation\"]:\n",
    "                full_text += response[\"fullTextAnnotation\"][\"text\"] + \"\\r\\n\"\n",
    "\n",
    "        # save as a blob\n",
    "        output_blob_name = f\"{ocr_blob.name}.txt\"\n",
    "        import_file_blob = output_bucket.blob(output_blob_name)\n",
    "        import_file_blob.upload_from_string(full_text)\n",
    "\n",
    "        # create import file listing\n",
    "        import_file_entry = {\n",
    "            \"textGcsUri\": f\"gs://{DESTINATION_BUCKET_NAME}/{output_blob_name}\"\n",
    "        }\n",
    "\n",
    "        import_file_entries.append(import_file_entry)\n",
    "\n",
    "print(\"Extraction completed!\")"
   ]
  },
  {
   "cell_type": "markdown",
   "metadata": {
    "id": "0a5aae0eab44"
   },
   "source": [
    "快速查看提取的文本文件\n",
    "\n",
    "接下来，您可以查看提取的一个文本文件的内容。"
   ]
  },
  {
   "cell_type": "code",
   "execution_count": null,
   "metadata": {
    "id": "76ce5f57b1ae"
   },
   "outputs": [],
   "source": [
    "example = import_file_entries[0][\"textGcsUri\"]\n",
    "\n",
    "! gsutil cat {example}"
   ]
  },
  {
   "cell_type": "markdown",
   "metadata": {
    "id": "hqTLS_AmLWQP"
   },
   "source": [
    "###生成并保存导入文件以供在“Vertex AI数据集”资源中使用\n",
    "\n",
    "您现在将构建导入文件，该文件将用于创建“Vertex AI数据集”资源。"
   ]
  },
  {
   "cell_type": "code",
   "execution_count": null,
   "metadata": {
    "id": "_xFvOdQ_LWne"
   },
   "outputs": [],
   "source": [
    "IMPORT_FILE_PATH = \"import_file\"\n",
    "\n",
    "# Convert import file entries to JSON Lines format\n",
    "import_file_content = \"\"\n",
    "for entry in import_file_entries:\n",
    "    import_file_content += json.dumps(entry) + \"\\n\"\n",
    "\n",
    "print(f\"Created import file based on {len(import_file_entries)} annotations\")\n",
    "\n",
    "# Upload content to GCS to be used in our next step\n",
    "gcs_annotation_file_name = f\"{IMPORT_FILE_PATH}/import_file_{TIMESTAMP}.jsonl\"\n",
    "import_file_blob = output_bucket.blob(gcs_annotation_file_name)\n",
    "import_file_blob.upload_from_string(import_file_content)\n",
    "\n",
    "print(f\"Uploaded import file to {output_bucket.name}/{gcs_annotation_file_name}\")"
   ]
  },
  {
   "cell_type": "markdown",
   "metadata": {
    "id": "6dVjFftOaKdw"
   },
   "source": [
    "### 创建一个没有标签的`Vertex AI Dataset`资源\n",
    "\n",
    "接下来，您可以使用`TextDataset`类的`create`方法创建 `Dataset` 资源，该方法需要以下参数：\n",
    "\n",
    "- `display_name`：`Dataset` 资源的人类可读名称。\n",
    "- `gcs_source`：要导入数据项到`Dataset` 资源的一个或多个数据集索引文件的列表。\n",
    "- `import_schema_uri`：数据项的数据标签模式。\n",
    "\n",
    "此操作可能需要十到二十分钟。"
   ]
  },
  {
   "cell_type": "code",
   "execution_count": null,
   "metadata": {
    "id": "ciM9HLGCaOTJ"
   },
   "outputs": [],
   "source": [
    "print(\"Creating dataset ...\")\n",
    "\n",
    "dataset = aiplatform.TextDataset.create(\n",
    "    display_name=\"Text Dataset \" + TIMESTAMP,\n",
    "    gcs_source=[f\"gs://{output_bucket.name}/{gcs_annotation_file_name}\"],\n",
    "    import_schema_uri=DATASET_IMPORT_SCHEMA,\n",
    ")\n",
    "\n",
    "print(\"Completed!\")\n",
    "\n",
    "print(dataset.resource_name)"
   ]
  },
  {
   "cell_type": "markdown",
   "metadata": {
    "id": "2vagHf5T6Jd4"
   },
   "source": [
    "恭喜！您的数据集现在可以开始进行注释了！\n",
    "\n",
    "您有两个选择：\n",
    "\n",
    "* 使用谷歌云控制台，在 `Vertex AI` 中手动标注数据集。请查看[此链接](https://cloud.google.com/vertex-ai/docs/datasets/label-using-console#entity-extraction)了解详情。\n",
    "* 创建一个标注工作以请求数据标注。查看[此链接](https://cloud.google.com/vertex-ai/docs/datasets/data-labeling-job)和[此笔记本](https://github.com/GoogleCloudPlatform/vertex-ai-samples/blob/main/notebooks/community/ml_ops/stage1/get_started_with_data_labeling.ipynb)了解更多详情和示例。"
   ]
  },
  {
   "cell_type": "markdown",
   "metadata": {
    "id": "cleanup:migration,new"
   },
   "source": [
    "清理工作\n",
    "\n",
    "为了清理所有在该项目中使用的GCP资源，您可以删除用于本教程的[GCP项目](https://cloud.google.com/resource-manager/docs/creating-managing-projects#shutting_down_projects)。\n",
    "\n",
    "否则，您可以删除本教程中创建的各个资源。"
   ]
  },
  {
   "cell_type": "code",
   "execution_count": null,
   "metadata": {
    "id": "aoJ18d8Y_jAy"
   },
   "outputs": [],
   "source": [
    "# Set this to true only if you'd like to delete your bucket\n",
    "delete_bucket = False\n",
    "\n",
    "# Delete the dataset using the Vertex AI fully qualified identifier for the dataset\n",
    "dataset.delete()\n",
    "\n",
    "# Delete the bucket created\n",
    "if delete_bucket or os.getenv(\"IS_TESTING\"):\n",
    "    ! gsutil rm -r $BUCKET_URI"
   ]
  }
 ],
 "metadata": {
  "accelerator": "GPU",
  "colab": {
   "collapsed_sections": [],
   "name": "get_started_with_visionapi_and_vertex_datasets.ipynb",
   "toc_visible": true
  },
  "kernelspec": {
   "display_name": "Python 3",
   "name": "python3"
  }
 },
 "nbformat": 4,
 "nbformat_minor": 0
}
