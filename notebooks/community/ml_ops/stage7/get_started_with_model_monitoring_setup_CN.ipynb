{
 "cells": [
  {
   "cell_type": "code",
   "execution_count": null,
   "metadata": {
    "cellView": "form",
    "id": "ur8xi4C7S06n"
   },
   "outputs": [],
   "source": [
    "# @title Copyright & License (click to expand)\n",
    "# Copyright 2022 Google LLC\n",
    "#\n",
    "# Licensed under the Apache License, Version 2.0 (the \"License\");\n",
    "# you may not use this file except in compliance with the License.\n",
    "# You may obtain a copy of the License at\n",
    "#\n",
    "#     https://www.apache.org/licenses/LICENSE-2.0\n",
    "#\n",
    "# Unless required by applicable law or agreed to in writing, software\n",
    "# distributed under the License is distributed on an \"AS IS\" BASIS,\n",
    "# WITHOUT WARRANTIES OR CONDITIONS OF ANY KIND, either express or implied.\n",
    "# See the License for the specific language governing permissions and\n",
    "# limitations under the License."
   ]
  },
  {
   "cell_type": "markdown",
   "metadata": {
    "id": "fsv4jGuU89rX"
   },
   "source": [
    "# 在GCP上进行端到端机器学习：MLOps阶段7：监控：用于设置表格模型的Vertex AI模型监控\n",
    "\n",
    "<table align=\"left\">\n",
    "  <td>\n",
    "    <a href=\"https://colab.research.google.com/github/GoogleCloudPlatform/vertex-ai-samples/blob/main/notebooks/community/ml_ops/stage7/get_started_with_model_monitoring_setup.ipynb\">\n",
    "      <img src=\"https://cloud.google.com/ml-engine/images/colab-logo-32px.png\" alt=\"Colab logo\"> 在Colab上运行\n",
    "    </a>\n",
    "  </td>\n",
    "  <td>\n",
    "    <a href=\"https://github.com/GoogleCloudPlatform/vertex-ai-samples/blob/main/notebooks/community/ml_ops/stage7/get_started_with_model_monitoring_setup.ipynb\">\n",
    "        <img src=\"https://cloud.google.com/ml-engine/images/github-logo-32px.png\" alt=\"GitHub logo\">\n",
    "      在GitHub上查看\n",
    "    </a>\n",
    "  </td>\n",
    "  <td>\n",
    "    <a href=\"https://console.cloud.google.com/vertex-ai/workbench/deploy-notebook?download_url=https://raw.githubusercontent.com/GoogleCloudPlatform/vertex-ai-samples/main/notebooks/community/ml_ops/stage7/get_started_with_model_monitoring_setup.ipynb\">\n",
    "      <img src=\"https://lh3.googleusercontent.com/UiNooY4LUgW_oTvpsNhPpQzsstV5W8F7rYgxgGBD85cWJoLmrOzhVs_ksK_vgx40SHs7jCqkTkCk=e14-rj-sc0xffffff-h130-w32\" alt=\"Vertex AI logo\">\n",
    "      在Vertex AI Workbench中打开\n",
    "    </a>\n",
    "  </td>\n",
    "</table>"
   ]
  },
  {
   "cell_type": "markdown",
   "metadata": {
    "id": "lA32H1oKGgpf"
   },
   "source": [
    "## 概述\n",
    "\n",
    "本教程演示了如何设置用于表格模型的Vertex AI模型监测。"
   ]
  },
  {
   "cell_type": "markdown",
   "metadata": {
    "id": "de998a3953c9"
   },
   "source": [
    "### 目标\n",
    "\n",
    "在这个笔记本中，您将学习如何设置`Vertex AI模型监控`服务，以检测输入预测请求中的特征偏差和漂移。\n",
    "\n",
    "本教程使用以下Google Cloud ML服务：\n",
    "\n",
    "- `Vertex AI模型监控`\n",
    "- `Vertex AI预测`\n",
    "- `Vertex AI模型`资源\n",
    "- `Vertex AI端点`资源\n",
    "\n",
    "执行的步骤包括：\n",
    "\n",
    "- 下载一个预训练的自定义表格模型。\n",
    "- 将预训练模型上传为`模型`资源。\n",
    "- 将`模型`资源部署到`端点`资源。\n",
    "- 配置`端点`资源以进行模型监控。\n",
    "    - 用于特征输入的偏差和漂移检测。\n",
    "    - 用于特征归因的偏差和漂移检测。\n",
    "- 通过发送1000个预测请求自动生成`输入模式`。\n",
    "- 列出、暂停、恢复和删除监控作业。\n",
    "- 使用预定义的`输入模式`重新启动监控作业。\n",
    "- 查看记录的监控数据。"
   ]
  },
  {
   "cell_type": "markdown",
   "metadata": {
    "id": "edba71dc9840"
   },
   "source": [
    "### 模型\n",
    "\n",
    "本教程使用一个预训练模型，模型工件存储在一个公共云存储桶中。\n",
    "\n",
    "该模型基于[这篇博客文章](https://cloud.google.com/blog/topics/developers-practitioners/churn-prediction-game-developers-using-google-analytics-4-ga4-and-bigquery-ml)。该模型的理念是，您的公司有大量描述游戏用户如何与网站互动的日志数据。原始数据包含以下类别的信息：\n",
    "\n",
    "- 身份 - 独特的玩家身份号码\n",
    "- 人口统计特征 - 关于玩家的信息，例如玩家所在的地理区域\n",
    "- 行为特征 - 玩家触发某些游戏事件的次数，如达到新的等级\n",
    "- 流失倾向 - 这是标签或目标特征，它提供了这个玩家可能流失的估计概率，即停止成为活跃玩家。"
   ]
  },
  {
   "cell_type": "markdown",
   "metadata": {
    "id": "t6Cd51FkG09E"
   },
   "source": [
    "### 费用\n",
    "\n",
    "本教程使用Google Cloud的计费组件：\n",
    "\n",
    "* Vertex AI\n",
    "* BigQuery\n",
    "* Cloud Storage\n",
    "\n",
    "了解[Vertext AI的定价](https://cloud.google.com/vertex-ai/pricing)和[Cloud Storage的定价](https://cloud.google.com/storage/pricing)，并使用[Pricing Calculator](https://cloud.google.com/products/calculator/)根据您的预期使用量生成费用估算。"
   ]
  },
  {
   "cell_type": "markdown",
   "metadata": {
    "id": "8yVpQt-JHKPF"
   },
   "source": [
    "### 设置本地开发环境\n",
    "\n",
    "**如果您正在使用Colab或Vertex AI Workbench笔记本**，您的环境已经满足运行此笔记本的所有要求。您可以跳过这一步。\n",
    "\n",
    "**否则**，请确保您的环境满足本笔记本的要求。您需要以下内容：\n",
    "\n",
    "- Google Cloud SDK\n",
    "- Git\n",
    "- Python 3\n",
    "- virtualenv\n",
    "- 在使用Python 3的虚拟环境中运行的Jupyter笔记本\n",
    "\n",
    "Google Cloud指南提供了[设置Python开发环境](https://cloud.google.com/python/setup)和[Jupyter安装指南](https://jupyter.org/install)的详细说明，以满足这些要求。以下步骤提供了简化的一组说明：\n",
    "\n",
    "1. [安装并初始化Cloud SDK。](https://cloud.google.com/sdk/docs/)\n",
    "\n",
    "1. [安装Python 3。](https://cloud.google.com/python/setup#installing_python)\n",
    "\n",
    "1. [安装virtualenv](https://cloud.google.com/python/setup#installing_and_using_virtualenv) 并创建一个使用Python 3的虚拟环境。激活虚拟环境。\n",
    "\n",
    "1. 要安装Jupyter，请在终端窗口中运行`pip install jupyter`命令。\n",
    "\n",
    "1. 要启动Jupyter，请在终端窗口中运行`jupyter notebook`命令。\n",
    "\n",
    "1. 在Jupyter Notebook仪表板中打开此笔记本。"
   ]
  },
  {
   "cell_type": "markdown",
   "metadata": {
    "id": "f3848df1e5b0"
   },
   "source": [
    "安装\n",
    "安装执行此笔记本所需的软件包。"
   ]
  },
  {
   "cell_type": "code",
   "execution_count": null,
   "metadata": {
    "id": "b24b232ee039"
   },
   "outputs": [],
   "source": [
    "import os\n",
    "import sys\n",
    "\n",
    "assert sys.version_info.major == 3, \"This notebook requires Python 3.\"\n",
    "\n",
    "# The Vertex AI Workbench Notebook product has specific requirements\n",
    "IS_WORKBENCH_NOTEBOOK = os.getenv(\"DL_ANACONDA_HOME\") and not os.getenv(\"VIRTUAL_ENV\")\n",
    "IS_USER_MANAGED_WORKBENCH_NOTEBOOK = os.path.exists(\n",
    "    \"/opt/deeplearning/metadata/env_version\"\n",
    ")\n",
    "\n",
    "# Vertex AI Notebook requires dependencies to be installed with '--user'\n",
    "USER_FLAG = \"\"\n",
    "if IS_WORKBENCH_NOTEBOOK:\n",
    "    USER_FLAG = \"--user\"\n",
    "\n",
    "# Install required packages.\n",
    "! pip3 install {USER_FLAG} --quiet --upgrade google-cloud-aiplatform \\\n",
    "                                             google-cloud-bigquery \\\n",
    "                                             tensorflow==2.7"
   ]
  },
  {
   "cell_type": "markdown",
   "metadata": {
    "id": "hhq5zEbGg0XX"
   },
   "source": [
    "### 重新启动内核\n",
    "\n",
    "在安装完 SDK 后，您需要重新启动笔记本内核，以便它可以找到这些软件包。您可以从 *Kernel -> Restart Kernel* 重新启动内核，或者运行以下命令："
   ]
  },
  {
   "cell_type": "code",
   "execution_count": null,
   "metadata": {
    "id": "EzrelQZ22IZj"
   },
   "outputs": [],
   "source": [
    "# Automatically restart kernel after installs\n",
    "import os\n",
    "\n",
    "if not os.getenv(\"IS_TESTING\"):\n",
    "    # Automatically restart kernel after installs\n",
    "    import IPython\n",
    "\n",
    "    app = IPython.Application.instance()\n",
    "    app.kernel.do_shutdown(True)"
   ]
  },
  {
   "cell_type": "markdown",
   "metadata": {
    "id": "BF1j6f9HApxa"
   },
   "source": [
    "## 在开始之前\n",
    "\n",
    "### 设置您的谷歌云项目\n",
    "\n",
    "**无论您在什么笔记本环境中，都需要执行以下步骤。**\n",
    "\n",
    "1. [选择或创建一个谷歌云项目](https://console.cloud.google.com/cloud-resource-manager)。当您首次创建一个账户时，您将获得$300的免费信用用于计算/存储费用。\n",
    "\n",
    "1. [确保您的项目已启用计费功能](https://cloud.google.com/billing/docs/how-to/modify-project)。\n",
    "\n",
    "1. [启用Vertex AI API和Compute Engine API](https://console.cloud.google.com/flows/enableapi?apiid=aiplatform.googleapis.com,compute_component)。\n",
    "\n",
    "1. 如果您是在本地运行这个笔记本，您需要安装[Cloud SDK](https://cloud.google.com/sdk)。\n",
    "\n",
    "1. 在下面的单元格中输入您的项目ID。然后运行该单元格，以确保Cloud SDK对本笔记本中的所有命令使用正确的项目。\n",
    "\n",
    "**注意**：Jupyter会将以`!`为前缀的行作为shell命令运行，并将以`$`为前缀的Python变量插入到这些命令中。"
   ]
  },
  {
   "cell_type": "markdown",
   "metadata": {
    "id": "WReHDGG5g0XY"
   },
   "source": [
    "设置您的项目ID\n",
    "\n",
    "**如果您不知道您的项目ID**，您可以使用`gcloud`来获取您的项目ID。"
   ]
  },
  {
   "cell_type": "code",
   "execution_count": null,
   "metadata": {
    "id": "oM1iC_MfAts1"
   },
   "outputs": [],
   "source": [
    "PROJECT_ID = \"[your-project-id]\"  # @param {type:\"string\"}"
   ]
  },
  {
   "cell_type": "code",
   "execution_count": null,
   "metadata": {
    "id": "riG_qUokg0XZ"
   },
   "outputs": [],
   "source": [
    "if PROJECT_ID == \"\" or not PROJECT_ID or PROJECT_ID == \"[your-project-id]\":\n",
    "    PROJECT_ID = \"[your-project-id]\"  # @param {type:\"string\"}\n",
    "    # Get your GCP project id from gcloud\n",
    "    shell_output = ! gcloud config list --format 'value(core.project)' 2>/dev/null\n",
    "    PROJECT_ID = shell_output[0]\n",
    "    print(\"Project ID:\", PROJECT_ID)"
   ]
  },
  {
   "cell_type": "code",
   "execution_count": null,
   "metadata": {
    "id": "09021c90b34c"
   },
   "outputs": [],
   "source": [
    "! gcloud config set project $PROJECT_ID"
   ]
  },
  {
   "cell_type": "markdown",
   "metadata": {
    "id": "region"
   },
   "source": [
    "#### 区域\n",
    "\n",
    "您还可以更改`REGION`变量，该变量在本笔记本的其余部分中用于操作。 以下是 Vertex AI 支持的区域。\n",
    "\n",
    "- 美洲：`us-central1`\n",
    "- 欧洲：`europe-west4`\n",
    "- 亚太地区：`asia-east1`\n",
    "\n",
    "**对于本笔记本，我们建议您将区域设置为默认值 `us-central1`**。\n",
    "\n",
    "您不能在 Vertex AI 中使用多区域存储桶进行训练。并非所有区域都支持所有 Vertex AI 服务。\n",
    "\n",
    "了解有关 [Vertex AI 区域](https://cloud.google.com/vertex-ai/docs/general/locations) 的更多信息。"
   ]
  },
  {
   "cell_type": "code",
   "execution_count": null,
   "metadata": {
    "id": "nUjIaIu0Kb0-"
   },
   "outputs": [],
   "source": [
    "REGION = \"[your-region]\"  # @param {type: \"string\"}\n",
    "\n",
    "if REGION == \"[your-region]\":\n",
    "    REGION = \"us-central1\""
   ]
  },
  {
   "cell_type": "markdown",
   "metadata": {
    "id": "06571eb4063b"
   },
   "source": [
    "UUID\n",
    "\n",
    "如果您在一个实时教程会话中，可能正在使用共享的测试账户或项目。为了避免用户在创建的资源之间发生名称冲突，您可以为每个实例会话创建一个uuid，并将其附加在本教程中创建的资源名称后面。"
   ]
  },
  {
   "cell_type": "code",
   "execution_count": null,
   "metadata": {
    "id": "4e166d927e36"
   },
   "outputs": [],
   "source": [
    "import random\n",
    "import string\n",
    "\n",
    "\n",
    "# Generate a uuid of a specifed length(default=8)\n",
    "def generate_uuid(length: int = 8) -> str:\n",
    "    return \"\".join(random.choices(string.ascii_lowercase + string.digits, k=length))\n",
    "\n",
    "\n",
    "UUID = generate_uuid()"
   ]
  },
  {
   "cell_type": "markdown",
   "metadata": {
    "id": "42c8a7c56abd"
   },
   "source": [
    "用户电子邮件\n",
    "\n",
    "将您的用户电子邮件地址设置为接收监控警报。"
   ]
  },
  {
   "cell_type": "code",
   "execution_count": null,
   "metadata": {
    "id": "ce2589511bb6"
   },
   "outputs": [],
   "source": [
    "USER_EMAIL = \"[your-email-address]\"  # @param {type:\"string\"}"
   ]
  },
  {
   "cell_type": "markdown",
   "metadata": {
    "id": "dr--iN2kAylZ"
   },
   "source": [
    "### 验证您的谷歌云帐户\n",
    "\n",
    "**如果您正在使用Vertex AI Workbench笔记本**，则您的环境已经经过验证。\n",
    "\n",
    "**如果您正在使用Colab**，请运行下面的单元格，并按提示进行身份验证。\n",
    "\n",
    "**否则**，请按照以下步骤操作：\n",
    "\n",
    "1. 在 Cloud 控制台中，前往【创建服务帐号密钥】页面(https://console.cloud.google.com/apis/credentials/serviceaccountkey)。\n",
    "\n",
    "2. 点击**创建服务帐号**。\n",
    "\n",
    "3. 在**服务帐号名称**字段中输入名称，然后点击**创建**。\n",
    "\n",
    "4. 在**将此服务帐号授予项目访问权限**部分，点击**角色**下拉列表。在过滤框中输入\"Vertex AI\"，然后选择**Vertex AI管理员**。在过滤框中输入\"Storage Object Admin\"，然后选择**存储对象管理员**。\n",
    "\n",
    "5. 点击**创建**。包含您的密钥的 JSON 文件将下载到您的本地环境中。\n",
    "\n",
    "6. 将您的服务帐号密钥的路径输入到下面的单元格中作为`GOOGLE_APPLICATION_CREDENTIALS`变量，然后运行该单元格。"
   ]
  },
  {
   "cell_type": "code",
   "execution_count": null,
   "metadata": {
    "id": "C6H1vZYjvT6w"
   },
   "outputs": [],
   "source": [
    "# If you are running this notebook in Colab, run this cell and follow the\n",
    "# instructions to authenticate your GCP account. This provides access to your\n",
    "# Cloud Storage bucket and lets you submit training jobs and prediction\n",
    "# requests.\n",
    "\n",
    "import os\n",
    "import sys\n",
    "\n",
    "# If on Vertex AI Workbench, then don't execute this code\n",
    "IS_COLAB = \"google.colab\" in sys.modules\n",
    "if not os.path.exists(\"/opt/deeplearning/metadata/env_version\") and not os.getenv(\n",
    "    \"DL_ANACONDA_HOME\"\n",
    "):\n",
    "    if \"google.colab\" in sys.modules:\n",
    "        from google.colab import auth as google_auth\n",
    "\n",
    "        google_auth.authenticate_user()\n",
    "\n",
    "    # If you are running this notebook locally, replace the string below with the\n",
    "    # path to your service account key and run this cell to authenticate your GCP\n",
    "    # account.\n",
    "    elif not os.getenv(\"IS_TESTING\"):\n",
    "        %env GOOGLE_APPLICATION_CREDENTIALS ''"
   ]
  },
  {
   "cell_type": "markdown",
   "metadata": {
    "id": "8RJ3_20etd31"
   },
   "source": [
    "### 关于服务帐号和权限的注意事项\n",
    "\n",
    "**默认情况下不需要配置**，如果遇到任何与权限有关的问题，请确保上述服务帐号具有所需的角色：\n",
    "\n",
    "|服务帐号电子邮件|描述|角色|\n",
    "|---|---|---|\n",
    "|PROJECT_NUMBER-compute@developer.gserviceaccount.com|Compute Engine默认服务帐号|Dataflow管理员、Dataflow工作人员、存储管理员、BigQuery管理员、Vertex AI用户|\n",
    "|service-PROJECT_NUMBER@gcp-sa-aiplatform.iam.gserviceaccount.com|AI平台服务代理|Vertex AI服务代理|\n",
    "\n",
    "\n",
    "1. 进入https://console.cloud.google.com/iam-admin/iam。\n",
    "2. 勾选“包括谷歌提供的角色授予”复选框。\n",
    "3. 授予相应的角色。\n",
    "\n",
    "### 使用来自不同项目的数据源\n",
    "- 对于BQ数据源，请授予这两个服务帐号“BigQuery数据查看器”角色。\n",
    "- 对于CSV数据源，请授予这两个服务帐号“存储对象查看器”角色。"
   ]
  },
  {
   "cell_type": "markdown",
   "metadata": {
    "id": "bucket:custom"
   },
   "source": [
    "### 创建一个云存储存储桶\n",
    "\n",
    "**无论您的笔记本环境如何，以下步骤都是必需的。**\n",
    "\n",
    "在下面设置您的云存储存储桶的名称，在本教程中，您将使用它来上传监控服务的`输入模式`。\n",
    "\n",
    "存储桶的名称在所有Google Cloud项目中必须是全局唯一的，包括组织外的项目。"
   ]
  },
  {
   "cell_type": "code",
   "execution_count": null,
   "metadata": {
    "id": "bucket"
   },
   "outputs": [],
   "source": [
    "BUCKET_NAME = \"[your-bucket-name]\"  # @param {type:\"string\"}\n",
    "BUCKET_URI = f\"gs://{BUCKET_NAME}\""
   ]
  },
  {
   "cell_type": "code",
   "execution_count": null,
   "metadata": {
    "id": "autoset_bucket"
   },
   "outputs": [],
   "source": [
    "if BUCKET_NAME == \"\" or BUCKET_NAME is None or BUCKET_NAME == \"[your-bucket-name]\":\n",
    "    BUCKET_NAME = PROJECT_ID + \"aip-\" + UUID\n",
    "    BUCKET_URI = \"gs://\" + BUCKET_NAME"
   ]
  },
  {
   "cell_type": "markdown",
   "metadata": {
    "id": "create_bucket"
   },
   "source": [
    "只有在您的存储桶尚不存在时：运行以下单元格以创建您的云存储存储桶。"
   ]
  },
  {
   "cell_type": "code",
   "execution_count": null,
   "metadata": {
    "id": "create_bucket"
   },
   "outputs": [],
   "source": [
    "! gsutil mb -l $REGION $BUCKET_URI"
   ]
  },
  {
   "cell_type": "markdown",
   "metadata": {
    "id": "validate_bucket"
   },
   "source": [
    "最后，通过检查云存储桶的内容来验证对其的访问权限。"
   ]
  },
  {
   "cell_type": "code",
   "execution_count": null,
   "metadata": {
    "id": "validate_bucket"
   },
   "outputs": [],
   "source": [
    "! gsutil ls -al $BUCKET_URI"
   ]
  },
  {
   "cell_type": "markdown",
   "metadata": {
    "id": "a0d294ff6d10"
   },
   "source": [
    "### 导入库"
   ]
  },
  {
   "cell_type": "code",
   "execution_count": null,
   "metadata": {
    "id": "bd7a633296eb"
   },
   "outputs": [],
   "source": [
    "import google.cloud.aiplatform as aiplatform\n",
    "from google.cloud import bigquery\n",
    "from google.cloud.aiplatform import model_monitoring\n",
    "from google.cloud.aiplatform.explain.metadata.tf.v2 import \\\n",
    "    saved_model_metadata_builder"
   ]
  },
  {
   "cell_type": "markdown",
   "metadata": {
    "id": "init_aip:mbsdk,all"
   },
   "source": [
    "### 初始化 Python 的 Vertex AI SDK\n",
    "\n",
    "为您的项目和相应的存储桶初始化 Python 的 Vertex AI SDK。"
   ]
  },
  {
   "cell_type": "code",
   "execution_count": null,
   "metadata": {
    "id": "init_aip:mbsdk,all"
   },
   "outputs": [],
   "source": [
    "aiplatform.init(project=PROJECT_ID, location=REGION)"
   ]
  },
  {
   "cell_type": "markdown",
   "metadata": {
    "id": "init_bq"
   },
   "source": [
    "在本教程中，您将使用与训练预先训练模型相同的公共BigQuery表中的数据。您将创建一个客户端接口，然后使用它来访问数据。"
   ]
  },
  {
   "cell_type": "code",
   "execution_count": null,
   "metadata": {
    "id": "init_bq"
   },
   "outputs": [],
   "source": [
    "bqclient = bigquery.Client(project=PROJECT_ID)"
   ]
  },
  {
   "cell_type": "markdown",
   "metadata": {
    "id": "accelerators:training,prediction"
   },
   "source": [
    "### 设置硬件加速器\n",
    "\n",
    "您可以为预测设置硬件加速器（例如，GPU），或选择不使用任何（CPU）。硬件加速器可以降低预测请求的延迟响应。在选择硬件加速器时，请考虑与延迟之间的额外成本权衡。\n",
    "\n",
    "将变量 `DEPLOY_GPU/DEPLOY_NGPU` 设置为使用支持GPU的容器映像，并分配给虚拟机（VM）实例的GPU数量。例如，要使用一个包含4个 Nvidia Tesla K80 GPU 的 GPU 容器映像分配给每个 VM，您可以指定：\n",
    "\n",
    "    (aiplatform.gapic.AcceleratorType.NVIDIA_TESLA_K80, 4)\n",
    "\n",
    "请参阅[可用的加速器位置](https://cloud.google.com/vertex-ai/docs/general/locations#accelerators)。\n",
    "\n",
    "否则，请指定 `(None, None)` 以使用一个运行在 CPU 上的容器镜像。"
   ]
  },
  {
   "cell_type": "code",
   "execution_count": null,
   "metadata": {
    "id": "xd5PLXDTlugv"
   },
   "outputs": [],
   "source": [
    "GPU = False\n",
    "if GPU:\n",
    "    DEPLOY_GPU, DEPLOY_NGPU = (aiplatform.gapic.AcceleratorType.NVIDIA_TESLA_K80, 1)\n",
    "else:\n",
    "    DEPLOY_GPU, DEPLOY_NGPU = (None, None)"
   ]
  },
  {
   "cell_type": "markdown",
   "metadata": {
    "id": "container:training,prediction"
   },
   "source": [
    "设置预先构建的容器\n",
    "\n",
    "设置用于预测的预构建Docker容器镜像。\n",
    "\n",
    "有关最新列表，请参阅[用于预测的预构建容器](https://cloud.google.com/ai-platform-unified/docs/predictions/pre-built-containers)。"
   ]
  },
  {
   "cell_type": "code",
   "execution_count": null,
   "metadata": {
    "id": "1u1mr18jlugv"
   },
   "outputs": [],
   "source": [
    "if GPU:\n",
    "    DEPLOY_VERSION = \"tf2-gpu.2-5\"\n",
    "else:\n",
    "    DEPLOY_VERSION = \"tf2-cpu.2-5\"\n",
    "\n",
    "DEPLOY_IMAGE = \"{}-docker.pkg.dev/vertex-ai/prediction/{}:latest\".format(\n",
    "    REGION.split(\"-\")[0], DEPLOY_VERSION\n",
    ")\n",
    "\n",
    "print(\"Deployment:\", DEPLOY_IMAGE, DEPLOY_GPU, DEPLOY_NGPU)"
   ]
  },
  {
   "cell_type": "markdown",
   "metadata": {
    "id": "machine:training,prediction"
   },
   "source": [
    "#### 设置机器类型\n",
    "\n",
    "接下来，设置用于训练和预测的机器类型。\n",
    "\n",
    "- 将变量`DEPLOY_COMPUTE`设置为配置用于预测的计算资源。\n",
    " - `机器类型`\n",
    "     - `n1-standard`：每个vCPU 3.75GB的内存\n",
    "     - `n1-highmem`：每个vCPU 6.5GB的内存\n",
    "     - `n1-highcpu`：每个vCPU 0.9GB的内存\n",
    " - `vCPUs`：\\[2, 4, 8, 16, 32, 64, 96 \\]中的数字\n",
    "\n",
    "*注意：您也可以使用n2和e2机器类型用于训练和部署，但它们不支持GPU*。"
   ]
  },
  {
   "cell_type": "code",
   "execution_count": null,
   "metadata": {
    "id": "YAXwbqKKlugv"
   },
   "outputs": [],
   "source": [
    "MACHINE_TYPE = \"n1-standard\"\n",
    "\n",
    "VCPU = \"4\"\n",
    "TRAIN_COMPUTE = MACHINE_TYPE + \"-\" + VCPU\n",
    "print(\"Train machine type\", TRAIN_COMPUTE)\n",
    "\n",
    "MACHINE_TYPE = \"n1-standard\"\n",
    "\n",
    "VCPU = \"4\"\n",
    "DEPLOY_COMPUTE = MACHINE_TYPE + \"-\" + VCPU\n",
    "print(\"Deploy machine type\", DEPLOY_COMPUTE)"
   ]
  },
  {
   "cell_type": "markdown",
   "metadata": {
    "id": "b890e02cb4b0"
   },
   "source": [
    "## 介绍 Vertex AI 模型监控\n",
    "\n",
    "Vertex AI 模型监控支持 AutoML 表格模型和自定义表格模型。您可以监视传入预测请求中特征的偏移和漂移检测，或者监视特征归因（可解释 AI）在传出预测响应中的偏移和漂移 — 即，归因对输出（预测）的贡献方式的分布。\n",
    "\n",
    "以下是启用模型监控的基本步骤：\n",
    "\n",
    "1. 将 `Vertex AI` AutoML 或自定义表格模型部署到 `Vertex AI Endpoint`。\n",
    "2. 配置模型监控规范。\n",
    "3. 将模型监控规范上传到 `Vertex AI Endpoint`。\n",
    "4. 上传或自动生成用于解析的 `输入模式`。\n",
    "5. 对于特征偏移检测，上传训练数据以自动生成特征分布。\n",
    "6. 对于特征归因，上传相应的 `Vertex AI Explainability` 规范。\n",
    "\n",
    "配置完成后，您可以启用/禁用监控，更改警报并更新模型监控配置。\n",
    "\n",
    "启用模型监控后，采样的传入预测请求将被记录到一个 BigQuery 表中。然后分析记录请求中包含的输入特征值，以便根据特定的间隔进行偏移或漂移检测。您可以设置采样率以监视模型的一部分生产输入，并设置监测间隔。\n",
    "\n",
    "模型监控服务需要知道如何解析特征值，这称为输入模式。对于 AutoML 表格模型，输入模式会自动生成。对于自定义表格模型，服务将尝试从前 1000 个预测请求中自动推导出输入模式。或者，您可以上传输入模式。\n",
    "\n",
    "对于偏移检测，监控服务需要训练数据中数值的统计分布基线。对于 AutoML 表格模型，这是自动生成的。对于自定义表格模型，您需要将训练数据上传到服务，并让服务自动推导分布。\n",
    "\n",
    "对于特征归因偏移和漂移检测，需要为您部署的模型启用 `Vertex AI Explainability`。\n",
    "\n",
    "了解有关 [Vertex AI 模型监控介绍](https://cloud.google.com/vertex-ai/docs/model-monitoring/overview) 的更多信息。"
   ]
  },
  {
   "cell_type": "markdown",
   "metadata": {
    "id": "1mhT_d_Bi-Kf"
   },
   "source": [
    "### 为 `Vertex可解释人工智能` 生成可解释的元数据\n",
    "\n",
    "如果您想要在特征归因的输出预测（响应）上进行偏斜和漂移检测，您需要执行以下附加步骤：\n",
    "\n",
    "- 为模型指定可解释性规范。\n",
    "- 然后在将模型上传为 `Vertex AI模型` 资源时，包含可解释性规范。\n",
    "- 然后在将模型监控配置规范上传到相应的 `Vertex AI终端` 资源时，包含可解释性目标配置。\n",
    "\n",
    "作为第一步，您可以使用助手方法 `SavedModelMetadataBuilder()` 为您的模型创建可解释的AI规范。\n",
    "\n",
    "了解更多关于[可解释人工智能简介](https://cloud.google.com/vertex-ai/docs/explainable-ai/overview)。"
   ]
  },
  {
   "cell_type": "code",
   "execution_count": null,
   "metadata": {
    "id": "805ae9b01889"
   },
   "outputs": [],
   "source": [
    "MODEL_ARTIFACT_URI = \"gs://mco-mm/churn\"\n",
    "\n",
    "params = {\"sampled_shapley_attribution\": {\"path_count\": 10}}\n",
    "explanation_parameters = aiplatform.explain.ExplanationParameters(params)\n",
    "\n",
    "builder = saved_model_metadata_builder.SavedModelMetadataBuilder(\n",
    "    model_path=MODEL_ARTIFACT_URI, outputs_to_explain=[\"churned_probs\"]\n",
    ")\n",
    "explanation_metadata = builder.get_metadata_protobuf()"
   ]
  },
  {
   "cell_type": "markdown",
   "metadata": {
    "id": "9bf06cd476e9"
   },
   "source": [
    "### 将模型文件作为 `Vertex AI Model` 资源上传\n",
    "\n",
    "接下来，您可以使用 `upload()` 方法将预训练的自定义表格模型文件作为 `Vertex AI Model` 资源上传，需要提供以下参数：\n",
    "\n",
    "- `display_name`：`Model` 资源的人类可读名称。\n",
    "- `artifact_uri`：模型文件的 Cloud Storage 位置。\n",
    "- `serving_container_image`：模型部署到 `Vertex AI Endpoint` 资源时要使用的服务容器镜像。\n",
    "- `explanation_parameters`：配置模型预测解释的参数。\n",
    "- `explanation_metadata`：描述模型输入和输出以进行解释的元数据。\n",
    "- `sync`：确定是否等待过程完成或立即返回（异步）。\n",
    "\n",
    "了解更多关于[将模型导入到 Vertex AI](https://cloud.google.com/vertex-ai/docs/model-registry/import-model)。"
   ]
  },
  {
   "cell_type": "code",
   "execution_count": null,
   "metadata": {
    "id": "0193f247e216"
   },
   "outputs": [],
   "source": [
    "model = aiplatform.Model.upload(\n",
    "    display_name=\"churn_\" + UUID,\n",
    "    artifact_uri=MODEL_ARTIFACT_URI,\n",
    "    serving_container_image_uri=DEPLOY_IMAGE,\n",
    "    explanation_parameters=explanation_parameters,\n",
    "    explanation_metadata=explanation_metadata,\n",
    "    sync=True,\n",
    ")\n",
    "\n",
    "print(model)"
   ]
  },
  {
   "cell_type": "markdown",
   "metadata": {
    "id": "1069c6f0eba8"
   },
   "source": [
    "### 部署 `Vertex AI Model` 资源到 `Vertex AI Endpoint` 资源\n",
    "\n",
    "接下来，您可以使用 `deploy()` 方法将您的 `Vertex AI Model` 资源部署到 `Vertex AI Endpoint` 资源，使用以下参数:\n",
    "\n",
    "- `deploy_model_display`: 部署模型的人类可读名称。\n",
    "- `machine_type`: 每个 VM 节点实例的机器类型。\n",
    "- `min_replica_count`: 为自动扩展而规划的最小节点数。\n",
    "- `max_replica_count`: 为自动扩展而规划的最大节点数。\n",
    "- `accelerator_type`: 每个规划节点的 GPU 加速器类型（如果有的话）。\n",
    "- `accelrator_count`: 每个规划节点的 GPU 加速器数量（如果有的话）。\n",
    "\n",
    "了解更多关于 [使用 Vertex AI 部署模型](https://cloud.google.com/vertex-ai/docs/predictions/deploy-model-api)。"
   ]
  },
  {
   "cell_type": "code",
   "execution_count": null,
   "metadata": {
    "id": "b883402dda8c"
   },
   "outputs": [],
   "source": [
    "MIN_NODES = 1\n",
    "MAX_NODES = 1\n",
    "\n",
    "if GPU:\n",
    "    endpoint = model.deploy(\n",
    "        deployed_model_display_name=\"churn_\" + UUID,\n",
    "        machine_type=DEPLOY_COMPUTE,\n",
    "        min_replica_count=MIN_NODES,\n",
    "        max_replica_count=MAX_NODES,\n",
    "        accelerator_type=DEPLOY_GPU.name,\n",
    "        accelerator_count=DEPLOY_NGPU,\n",
    "    )\n",
    "else:\n",
    "    endpoint = model.deploy(\n",
    "        deployed_model_display_name=\"churn_\" + UUID,\n",
    "        machine_type=DEPLOY_COMPUTE,\n",
    "        min_replica_count=MIN_NODES,\n",
    "        max_replica_count=MAX_NODES,\n",
    "    )"
   ]
  },
  {
   "cell_type": "markdown",
   "metadata": {
    "id": "ba4a2924aec6"
   },
   "source": [
    "## 配置监控作业\n",
    "\n",
    "配置监控作业包括以下规范：\n",
    "\n",
    "- `alert_config`：要发送监控警报的电子邮件地址。\n",
    "- `schedule_config`：用于分析预测的时间窗口。\n",
    "- `logging_sampling_strategy`：抽样预测请求的速率。\n",
    "- `drift_config`：要监视的特征和漂移阈值。\n",
    "- `skew_config`：要监视的特征和偏斜阈值。\n",
    "\n",
    "了解更多关于[监控特征偏差和漂移](https://cloud.google.com/vertex-ai/docs/model-monitoring/using-model-monitoring)。"
   ]
  },
  {
   "cell_type": "markdown",
   "metadata": {
    "id": "87abd93294c4"
   },
   "source": [
    "### 配置警报规范\n",
    "\n",
    "首先，您可以使用以下设置配置`alerting_config`规范：\n",
    "\n",
    "- `user_emails`： 要发送警报的一个或多个电子邮件列表。\n",
    "- `enable_logging`：将检测到的异常数据流发送到 Cloud Logging。默认值为 False。\n",
    "\n",
    "了解更多关于[为模型监控作业配置警报](https://cloud.google.com/vertex-ai/docs/model-monitoring/using-model-monitoring#monitor-job)的信息。"
   ]
  },
  {
   "cell_type": "code",
   "execution_count": null,
   "metadata": {
    "id": "be6137df0086"
   },
   "outputs": [],
   "source": [
    "# Create alerting configuration.\n",
    "alerting_config = model_monitoring.EmailAlertConfig(\n",
    "    user_emails=[USER_EMAIL], enable_logging=True\n",
    ")"
   ]
  },
  {
   "cell_type": "markdown",
   "metadata": {
    "id": "66c7283276bc"
   },
   "source": [
    "### 配置监控间隔规范\n",
    "\n",
    "接下来，您可以使用以下设置配置`schedule_config`规范：\n",
    "\n",
    "- `monitor_interval`: 将模型监控作业调度间隔设置为小时。最小时间间隔为1小时。\n",
    "\n",
    "*注意:* REST API中指定的单位为秒。"
   ]
  },
  {
   "cell_type": "code",
   "execution_count": null,
   "metadata": {
    "id": "1230b92d1eed"
   },
   "outputs": [],
   "source": [
    "# Monitoring Interval\n",
    "MONITOR_INTERVAL = 1  # @param {type:\"number\"}\n",
    "\n",
    "# Create schedule configuration\n",
    "schedule_config = model_monitoring.ScheduleConfig(monitor_interval=MONITOR_INTERVAL)"
   ]
  },
  {
   "cell_type": "markdown",
   "metadata": {
    "id": "3bd8dd304191"
   },
   "source": [
    "### 配置抽样规范\n",
    "\n",
    "接下来，您可以使用以下设置配置 `logging_sampling_strategy` 规范：\n",
    "\n",
    "- `sample_rate`：以百分比形式（介于0和1之间）指定用于随机抽样监控的率。选择的样本将被记录到一个 BigQuery 表中。"
   ]
  },
  {
   "cell_type": "code",
   "execution_count": null,
   "metadata": {
    "id": "3688c245a0e9"
   },
   "outputs": [],
   "source": [
    "# Sampling rate (optional, default=.8)\n",
    "SAMPLE_RATE = 0.5  # @param {type:\"number\"}\n",
    "\n",
    "# Create sampling configuration\n",
    "logging_sampling_strategy = model_monitoring.RandomSampleConfig(sample_rate=SAMPLE_RATE)"
   ]
  },
  {
   "cell_type": "markdown",
   "metadata": {
    "id": "c1bc3bc8992f"
   },
   "source": [
    "### 配置漂移检测规范\n",
    "\n",
    "接下来，您将使用以下设置配置 `drift_config` 规范：\n",
    "\n",
    "- `drift_thresholds`：一个键/值对的字典，其中键是要监视的特征输入的输入特征。值是检测阈值。当未指定时，特征的默认漂移阈值为 0.3（30%）。\n",
    "- `attribute_drift_threshold`：一个键/值对的字典，其中键是要监视的特征属性漂移的输入特征。值是检测阈值。当未指定时，特征的默认漂移阈值为 0.3（30%）。\n",
    "\n",
    "*注意：* 启用特征输入或特征属性漂移的漂移检测是可选的。"
   ]
  },
  {
   "cell_type": "code",
   "execution_count": null,
   "metadata": {
    "id": "128bdc05cb5b"
   },
   "outputs": [],
   "source": [
    "DRIFT_THRESHOLD_VALUE = 0.05\n",
    "ATTRIBUTION_DRIFT_THRESHOLD_VALUE = 0.05\n",
    "\n",
    "DRIFT_THRESHOLDS = {\n",
    "    \"country\": DRIFT_THRESHOLD_VALUE,\n",
    "    \"cnt_user_engagement\": DRIFT_THRESHOLD_VALUE,\n",
    "}\n",
    "\n",
    "ATTRIBUTION_DRIFT_THRESHOLDS = {\n",
    "    \"country\": ATTRIBUTION_DRIFT_THRESHOLD_VALUE,\n",
    "    \"cnt_user_engagement\": ATTRIBUTION_DRIFT_THRESHOLD_VALUE,\n",
    "}\n",
    "\n",
    "drift_config = model_monitoring.DriftDetectionConfig(\n",
    "    drift_thresholds=DRIFT_THRESHOLDS,\n",
    "    attribute_drift_thresholds=ATTRIBUTION_DRIFT_THRESHOLDS,\n",
    ")"
   ]
  },
  {
   "cell_type": "markdown",
   "metadata": {
    "id": "651b576aa037"
   },
   "source": [
    "配置倾斜检测规范\n",
    "\n",
    "接下来，您可以使用以下设置配置`skew_config`规范：\n",
    "\n",
    "- `data_source`：原始训练数据集的数据源。数据源的格式默认为BigQuery表。否则，必须将设置`data_format`设置为以下值之一。数据的位置必须是Cloud Storage位置。\n",
    "  - `csv`： \n",
    "  - `jsonl`：\n",
    "  - `tf-record`：\n",
    "- `skew_thresholds`：一个键/值对的字典，其中键是监视特征输入倾斜的输入特征。值是检测阈值。当未指定时，特征的默认倾斜阈值为0.3（30%）。\n",
    "- `attribute_skew_thresholds`：一个键/值对的字典，其中键是监视特征属性倾斜的输入特征。值是检测阈值。当未指定时，特征的默认倾斜阈值为0.3（30%）。\n",
    "- `target_field`：用于训练数据集的目标标签\n",
    "\n",
    "*注意：*启用倾斜检测是可选的。"
   ]
  },
  {
   "cell_type": "code",
   "execution_count": null,
   "metadata": {
    "id": "4cb098c74d2c"
   },
   "outputs": [],
   "source": [
    "# URI to training dataset.\n",
    "DATASET_BQ_URI = \"bq://mco-mm.bqmlga4.train\"  # @param {type:\"string\"}\n",
    "# Prediction target column name in training dataset.\n",
    "TARGET = \"churned\"\n",
    "\n",
    "SKEW_THRESHOLD_VALUE = 0.5\n",
    "\n",
    "SKEW_THRESHOLDS = {\n",
    "    \"country\": SKEW_THRESHOLD_VALUE,\n",
    "    \"cnt_user_engagement\": SKEW_THRESHOLD_VALUE,\n",
    "}\n",
    "\n",
    "ATTRIBUTE_SKEW_THRESHOLDS = {\n",
    "    \"country\": SKEW_THRESHOLD_VALUE,\n",
    "    \"cnt_user_engagement\": SKEW_THRESHOLD_VALUE,\n",
    "}\n",
    "\n",
    "skew_config = model_monitoring.SkewDetectionConfig(\n",
    "    data_source=DATASET_BQ_URI,\n",
    "    skew_thresholds=SKEW_THRESHOLDS,\n",
    "    attribute_skew_thresholds=ATTRIBUTE_SKEW_THRESHOLDS,\n",
    "    target_field=TARGET,\n",
    ")"
   ]
  },
  {
   "cell_type": "markdown",
   "metadata": {
    "id": "8b6d5bd71ac9"
   },
   "source": [
    "### 组装目标规范\n",
    "\n",
    "最后，您可以使用以下设置将目标规范 `objective_config` 组装起来：\n",
    "\n",
    "- `skew_detection_config`：（可选）用于偏斜检测配置的规范。\n",
    "- `drift_detection_config`：（可选）用于漂移检测配置的规范。\n",
    "- `explanation_config`：（可选）在启用特征归因监控时用于解释的规范。"
   ]
  },
  {
   "cell_type": "code",
   "execution_count": null,
   "metadata": {
    "id": "d353205a8aec"
   },
   "outputs": [],
   "source": [
    "explanation_config = model_monitoring.ExplanationConfig()\n",
    "\n",
    "objective_config = model_monitoring.ObjectiveConfig(\n",
    "    skew_detection_config=skew_config,\n",
    "    drift_detection_config=drift_config,\n",
    "    explanation_config=explanation_config,\n",
    ")"
   ]
  },
  {
   "cell_type": "markdown",
   "metadata": {
    "id": "82c7e7af7163"
   },
   "source": [
    "### 创建监控任务\n",
    "\n",
    "使用`aiplatform.ModelDeploymentMonitoringJob.create()`方法，使用您的监控规范，创建一个监控任务，具有以下参数：\n",
    "\n",
    "- `display_name`：监控任务的人类可读名称。\n",
    "- `project`：项目ID。\n",
    "- `region`：地区。\n",
    "- `endpoint`：要启用监控的`Vertex AI Endpoint`的完全限定资源名称。\n",
    "- `logging_sampling_strategy`：采样配置的规范。\n",
    "- `schedule_config`：调度配置的规范。\n",
    "- `alert_config`：警报配置的规范。\n",
    "- `objective_configs`：目标配置的规范。"
   ]
  },
  {
   "cell_type": "code",
   "execution_count": null,
   "metadata": {
    "id": "86f76670f439"
   },
   "outputs": [],
   "source": [
    "monitoring_job = aiplatform.ModelDeploymentMonitoringJob.create(\n",
    "    display_name=\"churn_\" + UUID,\n",
    "    project=PROJECT_ID,\n",
    "    location=REGION,\n",
    "    endpoint=endpoint,\n",
    "    logging_sampling_strategy=logging_sampling_strategy,\n",
    "    schedule_config=schedule_config,\n",
    "    alert_config=alerting_config,\n",
    "    objective_configs=objective_config,\n",
    ")\n",
    "\n",
    "print(monitoring_job.gca_resource)"
   ]
  },
  {
   "cell_type": "markdown",
   "metadata": {
    "id": "3c6d3b620264"
   },
   "source": [
    "#### 监控工作的电子邮件通知。\n",
    "\n",
    "监控作业的电子邮件通知将发送到警报配置中的电子邮件地址，通知模型监控作业现已启用。\n",
    "\n",
    "内容将如下：\n",
    "\n",
    "您好，Vertex AI客户，\n",
    "\n",
    "您收到此邮件是因为您正在使用Vertex AI模型监控服务。\n",
    "此邮件是告知您，我们已收到您设置漂移或偏斜检测以监测以下预测端点的请求。从现在开始，传入的预测请求将被采样并记录以进行分析。\n",
    "原始请求和响应将从预测服务中收集，并保存在bq://[您的项目ID].model_deployment_monitoring_[端点ID].serving_predict中。"
   ]
  },
  {
   "cell_type": "markdown",
   "metadata": {
    "id": "dcc4aae9e20f"
   },
   "source": [
    "#### 监控作业状态\n",
    "\n",
    "当您启动`Vertex AI Model Monitoring`作业时，它将处于`PENDING`状态，直到计算出`输入模式`和`偏斜分布基线`。这个过程是顺序进行的。在这个例子中，当您使用自动生成的`输入模式`时，服务会一直保持在`PENDING`状态，直到发送第1000个预测请求（随后讨论）。\n",
    "\n",
    "一旦生成了`输入模式`，则将启动批处理作业以从训练数据生成分布基线。同样，服务会保持在`PENDING`状态，直到计算出基线分布。\n",
    "\n",
    "一旦生成了基线分布，监控作业将进入`OFFLINE`状态。按照每个时间间隔的基准 - 例如，每小时一次，监控作业在分析采样数据时将进入`RUNNING`状态。完成后，它将返回`OFFLINE`状态，等待下一次计划的分析。"
   ]
  },
  {
   "cell_type": "code",
   "execution_count": null,
   "metadata": {
    "id": "f640fb7f10cd"
   },
   "outputs": [],
   "source": [
    "jobs = monitoring_job.list(filter=f\"display_name=churn_{UUID}\")\n",
    "job = jobs[0]\n",
    "print(job.state)"
   ]
  },
  {
   "cell_type": "markdown",
   "metadata": {
    "id": "3960076190ab"
   },
   "source": [
    "## 初始化解析以自动生成输入模式\n",
    "\n",
    "在您的 `Endpoint` 接收到1000个预测请求后，建模服务将自动解析并创建 `输入模式`。\n",
    "\n",
    "### 创建1000个实例数据\n",
    "\n",
    "在这个示例中，BigQuery训练数据中的前1000个条目被用作前1000个预测请求。\n",
    "\n",
    "*注意：* 在这种情况下，每个实例都是一个预测请求。换句话说，发送1000个预测请求的单个实例与发送具有1000个实例的单个预测请求相同。"
   ]
  },
  {
   "cell_type": "code",
   "execution_count": null,
   "metadata": {
    "id": "cb26c3dea306"
   },
   "outputs": [],
   "source": [
    "# Download the table.\n",
    "table = bigquery.TableReference.from_string(DATASET_BQ_URI[5:])\n",
    "\n",
    "rows = bqclient.list_rows(table, max_results=1000)\n",
    "\n",
    "instances = []\n",
    "for row in rows:\n",
    "    instance = {}\n",
    "    for key, value in row.items():\n",
    "        if key == TARGET:\n",
    "            continue\n",
    "        if value is None:\n",
    "            value = \"\"\n",
    "        instance[key] = value\n",
    "    instances.append(instance)\n",
    "\n",
    "print(len(instances))"
   ]
  },
  {
   "cell_type": "markdown",
   "metadata": {
    "id": "6d002569dadc"
   },
   "source": [
    "### 发起初始预测请求\n",
    "\n",
    "接下来，您可以使用`predict()`方法向您的`Vertex AI Endpoint`资源发送1000个预测请求。"
   ]
  },
  {
   "cell_type": "code",
   "execution_count": null,
   "metadata": {
    "id": "b2d69d89cd66"
   },
   "outputs": [],
   "source": [
    "response = endpoint.predict(instances=instances)\n",
    "\n",
    "prediction = response[0]\n",
    "\n",
    "# print the prediction for the first instance\n",
    "print(prediction[0])"
   ]
  },
  {
   "cell_type": "markdown",
   "metadata": {
    "id": "e990a8821178"
   },
   "source": [
    "### 输入模式的自动生成\n",
    "\n",
    "在模型监控服务收到 1000 个预测请求实例后，监控将开始分析这些预测请求，自动生成一个特征输入的 `输入模式`。\n",
    "\n",
    "### 基准分布的自动生成\n",
    "\n",
    "在生成了 `输入模式` 后，监控服务会创建一个批处理作业来分析训练数据，以确定基准分布。"
   ]
  },
  {
   "cell_type": "code",
   "execution_count": null,
   "metadata": {
    "id": "670b5bc98c2a"
   },
   "outputs": [],
   "source": [
    "# Pause a bit for the baseline distribution to be calculated\n",
    "if os.getenv(\"IS_TESTING\"):\n",
    "    time.sleep(120)"
   ]
  },
  {
   "cell_type": "markdown",
   "metadata": {
    "id": "08f499f7adae"
   },
   "source": [
    "用于监视的BigQuery表的位置\n",
    "\n",
    "用于记录采样请求的BigQuery表位于：\n",
    "\n",
    "`<PROJECT_ID>.model_deployment_monitoring_<ENDPOINT_ID>`.serving_predict，\n",
    "\n",
    "其中<ENDPOINT_ID>是`Vertex AI Endpoint`资源的数字标识符。"
   ]
  },
  {
   "cell_type": "code",
   "execution_count": null,
   "metadata": {
    "id": "ae7b9b1ce8df"
   },
   "outputs": [],
   "source": [
    "ENDPOINT_ID = endpoint.resource_name.split(\"/\")[-1]\n",
    "\n",
    "BQ_MON_TABLE = f\"{PROJECT_ID}.model_deployment_monitoring_{ENDPOINT_ID}.serving_predict\"\n",
    "\n",
    "table = bigquery.TableReference.from_string(BQ_MON_TABLE)\n",
    "bq_table = bqclient.get_table(table)\n",
    "\n",
    "print(bq_table)"
   ]
  },
  {
   "cell_type": "markdown",
   "metadata": {
    "id": "69147b259cbf"
   },
   "source": [
    "### 暂停监控作业\n",
    "\n",
    "您可以分别使用`pause()`和`resume()`方法来暂停和恢复监控作业。"
   ]
  },
  {
   "cell_type": "code",
   "execution_count": null,
   "metadata": {
    "id": "2f4e99831237"
   },
   "outputs": [],
   "source": [
    "monitoring_job.pause()\n",
    "monitoring_job.resume()"
   ]
  },
  {
   "cell_type": "markdown",
   "metadata": {
    "id": "8c92eb3ffdeb"
   },
   "source": [
    "列出监控工作\n",
    "\n",
    "接下来，您可以使用`list()`方法获取所有监控工作的列表。"
   ]
  },
  {
   "cell_type": "code",
   "execution_count": null,
   "metadata": {
    "id": "7c4332598e13"
   },
   "outputs": [],
   "source": [
    "monitoring_jobs = aiplatform.ModelDeploymentMonitoringJob.list()\n",
    "print(monitoring_jobs)"
   ]
  },
  {
   "cell_type": "markdown",
   "metadata": {
    "id": "a5c889257c9e"
   },
   "source": [
    "### 通过过滤器列出监控作业\n",
    "\n",
    "或者，您可以使用“filter”参数列出作业的子集。在这个示例中，您通过监控作业的显示名称来过滤列表。"
   ]
  },
  {
   "cell_type": "code",
   "execution_count": null,
   "metadata": {
    "id": "39a45c1a7cea"
   },
   "outputs": [],
   "source": [
    "monitoring_jobs = aiplatform.ModelDeploymentMonitoringJob.list(\n",
    "    filter=f\"display_name=churn_{UUID}\"\n",
    ")\n",
    "\n",
    "print(monitoring_jobs[0].gca_resource)"
   ]
  },
  {
   "cell_type": "markdown",
   "metadata": {
    "id": "39cdad8fdcc5"
   },
   "source": [
    "### 删除监控任务\n",
    "\n",
    "您可以使用 `delete()` 方法来删除监控任务。\n",
    "\n",
    "*注意:* 当监控任务处于运行状态时，您无法删除它。您必须先暂停该任务。"
   ]
  },
  {
   "cell_type": "code",
   "execution_count": null,
   "metadata": {
    "id": "bdc44ad0471a"
   },
   "outputs": [],
   "source": [
    "monitoring_job.pause()\n",
    "monitoring_job.delete()"
   ]
  },
  {
   "cell_type": "markdown",
   "metadata": {
    "id": "313b543dc772"
   },
   "source": [
    "删除已记录的采样数据"
   ]
  },
  {
   "cell_type": "code",
   "execution_count": null,
   "metadata": {
    "id": "9a638ce66806"
   },
   "outputs": [],
   "source": [
    "# Delete the monitoring logged data BigQuery dataset\n",
    "\n",
    "! bq rm -r -f {PROJECT_ID}.model_deployment_monitoring_{ENDPOINT_ID}"
   ]
  },
  {
   "cell_type": "markdown",
   "metadata": {
    "id": "73fbeb1b68ba"
   },
   "source": [
    "### 使用预定义输入模式创建监视作业\n",
    "\n",
    "接下来，您将创建另一个监视作业。这次您将加载一个预定义的“输入模式”。一旦加载，监视服务将使用这个“输入模式”而不是从前1000个预测实例中自动生成一个。\n",
    "\n",
    "#### 创建预定义输入模式\n",
    "\n",
    "预定义的“输入模式”被指定为一个YAML文件。在这个例子中，您将检索用于训练数据的BigQuery模式，包括特征名称和数据类型，以生成YAML规范。预定义的“输入模式”必须加载到云存储位置。\n",
    "\n",
    "了解更多关于[用于解析输入的自定义实例模式](https://cloud.google.com/vertex-ai/docs/model-monitoring/overview#custom-input-schemas)。"
   ]
  },
  {
   "cell_type": "code",
   "execution_count": null,
   "metadata": {
    "id": "59becb56ad34"
   },
   "outputs": [],
   "source": [
    "# Get the BQ table\n",
    "\n",
    "table = bigquery.TableReference.from_string(DATASET_BQ_URI[5:])\n",
    "bq_table = bqclient.get_table(table)\n",
    "\n",
    "yaml = \"\"\"type: object\n",
    "properties:\n",
    "\"\"\"\n",
    "\n",
    "schema = bq_table.schema\n",
    "for feature in schema:\n",
    "    if feature.name == TARGET:\n",
    "        continue\n",
    "    if feature.field_type == \"STRING\":\n",
    "        f_type = \"string\"\n",
    "    else:\n",
    "        f_type = \"integer\"\n",
    "    yaml += f\"\"\"  {feature.name}:\n",
    "    type: {f_type}\n",
    "\"\"\"\n",
    "\n",
    "yaml += \"\"\"required:\n",
    "\"\"\"\n",
    "for feature in schema:\n",
    "    if feature.name == TARGET:\n",
    "        continue\n",
    "    yaml += f\"\"\"- {feature.name}\n",
    "\"\"\"\n",
    "\n",
    "print(yaml)\n",
    "\n",
    "with open(\"schema.yaml\", \"w\") as f:\n",
    "    f.write(yaml)\n",
    "\n",
    "! gsutil cp schema.yaml {BUCKET_URI}/schema.yaml"
   ]
  },
  {
   "cell_type": "markdown",
   "metadata": {
    "id": "45df86099448"
   },
   "source": [
    "创建监控作业\n",
    "\n",
    "最后，您可以使用`create()`方法创建监控作业，并提供以下额外参数：\n",
    "\n",
    "- `analysis_instance_schema_uri`：包含`输入模式`的YAML文件的位置。"
   ]
  },
  {
   "cell_type": "code",
   "execution_count": null,
   "metadata": {
    "id": "4b8dd381c5c3"
   },
   "outputs": [],
   "source": [
    "monitoring_job = aiplatform.ModelDeploymentMonitoringJob.create(\n",
    "    display_name=\"churn_\" + UUID,\n",
    "    project=PROJECT_ID,\n",
    "    location=REGION,\n",
    "    endpoint=endpoint,\n",
    "    logging_sampling_strategy=logging_sampling_strategy,\n",
    "    schedule_config=schedule_config,\n",
    "    alert_config=alerting_config,\n",
    "    objective_configs=objective_config,\n",
    "    analysis_instance_schema_uri=f\"{BUCKET_URI}/schema.yaml\",\n",
    ")\n",
    "\n",
    "print(monitoring_job)"
   ]
  },
  {
   "cell_type": "markdown",
   "metadata": {
    "id": "39cdad8fdcc5"
   },
   "source": [
    "删除监控工作\n",
    "\n",
    "您可以使用`delete()`方法来删除监控工作。"
   ]
  },
  {
   "cell_type": "code",
   "execution_count": null,
   "metadata": {
    "id": "ef1ddc1d6017"
   },
   "outputs": [],
   "source": [
    "monitoring_job.pause()\n",
    "monitoring_job.delete()"
   ]
  },
  {
   "cell_type": "markdown",
   "metadata": {
    "id": "c6280efab664"
   },
   "source": [
    "取消部署并删除“Vertex AI Endpoint”资源\n",
    "\n",
    "您可以使用“delete（）”方法删除您的“Vertex AI Endpoint”资源。在删除之前，必须先取消部署到您的“Vertex AI Endpoint”资源的任何模型。"
   ]
  },
  {
   "cell_type": "code",
   "execution_count": null,
   "metadata": {
    "id": "ad0d28b762e5"
   },
   "outputs": [],
   "source": [
    "endpoint.undeploy_all()\n",
    "endpoint.delete()"
   ]
  },
  {
   "cell_type": "markdown",
   "metadata": {
    "id": "448f3698d50f"
   },
   "source": [
    "#### 删除 `Vertex AI Model` 资源\n",
    "\n",
    "您可以使用 `delete()` 方法删除您的 `Vertex AI Model` 资源。"
   ]
  },
  {
   "cell_type": "code",
   "execution_count": null,
   "metadata": {
    "id": "0feab0a0b5d7"
   },
   "outputs": [],
   "source": [
    "model.delete()"
   ]
  },
  {
   "cell_type": "markdown",
   "metadata": {
    "id": "18889460bd33"
   },
   "source": [
    "清理\n",
    "\n",
    "要清理此项目中使用的所有Google Cloud资源，可以删除您用于本教程的[Google Cloud项目](https://cloud.google.com/resource-manager/docs/creating-managing-projects#shutting_down_projects)。\n",
    "\n",
    "否则，您可以删除在本教程中创建的各个资源。"
   ]
  },
  {
   "cell_type": "code",
   "execution_count": null,
   "metadata": {
    "id": "8c1de58f049e"
   },
   "outputs": [],
   "source": [
    "delete_bucket = True\n",
    "\n",
    "if delete_bucket or os.getenv(\"IS_TESTING\"):\n",
    "    ! gsutil rm -rf {BUCKET_URI}\n",
    "\n",
    "! rm -f schema.yaml\n",
    "\n",
    "! bq rm -r -f {PROJECT_ID}.model_deployment_monitoring_{ENDPOINT_ID}"
   ]
  }
 ],
 "metadata": {
  "colab": {
   "collapsed_sections": [],
   "name": "get_started_with_model_monitoring_setup.ipynb",
   "toc_visible": true
  },
  "kernelspec": {
   "display_name": "Python 3",
   "name": "python3"
  }
 },
 "nbformat": 4,
 "nbformat_minor": 0
}
