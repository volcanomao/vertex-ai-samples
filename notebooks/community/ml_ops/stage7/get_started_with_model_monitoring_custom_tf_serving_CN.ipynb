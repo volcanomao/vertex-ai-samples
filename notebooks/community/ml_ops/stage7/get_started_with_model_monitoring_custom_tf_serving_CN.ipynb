{
 "cells": [
  {
   "cell_type": "code",
   "execution_count": null,
   "metadata": {
    "cellView": "form",
    "id": "ur8xi4C7S06n"
   },
   "outputs": [],
   "source": [
    "# @title Copyright & License (click to expand)\n",
    "# Copyright 2022 Google LLC\n",
    "#\n",
    "# Licensed under the Apache License, Version 2.0 (the \"License\");\n",
    "# you may not use this file except in compliance with the License.\n",
    "# You may obtain a copy of the License at\n",
    "#\n",
    "#     https://www.apache.org/licenses/LICENSE-2.0\n",
    "#\n",
    "# Unless required by applicable law or agreed to in writing, software\n",
    "# distributed under the License is distributed on an \"AS IS\" BASIS,\n",
    "# WITHOUT WARRANTIES OR CONDITIONS OF ANY KIND, either express or implied.\n",
    "# See the License for the specific language governing permissions and\n",
    "# limitations under the License."
   ]
  },
  {
   "cell_type": "markdown",
   "metadata": {
    "id": "fsv4jGuU89rX"
   },
   "source": [
    "# GCP上的E2E ML：MLOps阶段7：监控：使用TensorFlow Serving容器的自定义表格模型的Vertex AI模型监控\n",
    "\n",
    "<table align=\"left\">\n",
    "  <td>\n",
    "    <a href=\"https://colab.research.google.com/github/GoogleCloudPlatform/vertex-ai-samples/blob/main/notebooks/community/ml_ops/stage7/get_started_with_model_monitoring_custom_tf_serving.ipynb\">\n",
    "      <img src=\"https://cloud.google.com/ml-engine/images/colab-logo-32px.png\" alt=\"Colab logo\"> 在Colab中运行\n",
    "    </a>\n",
    "  </td>\n",
    "  <td>\n",
    "    <a href=\"https://github.com/GoogleCloudPlatform/vertex-ai-samples/blob/main/notebooks/community/ml_ops/stage7/get_started_with_model_monitoring_custom_tf_serving.ipynb\">\n",
    "        <img src=\"https://cloud.google.com/ml-engine/images/github-logo-32px.png\" alt=\"GitHub logo\">\n",
    "      在GitHub上查看\n",
    "    </a>\n",
    "  </td> \n",
    "  <td>\n",
    "    <a href=\"https://console.cloud.google.com/vertex-ai/workbench/deploy-notebook?download_url=https://raw.githubusercontent.com/GoogleCloudPlatform/vertex-ai-samples/main/notebooks/community/ml_ops/stage7/get_started_with_model_monitoring_custom_tf_serving.ipynb\">\n",
    "      <img src=\"https://lh3.googleusercontent.com/UiNooY4LUgW_oTvpsNhPpQzsstV5W8F7rYgxgGBD85cWJoLmrOzhVs_ksK_vgx40SHs7jCqkTkCk=e14-rj-sc0xffffff-h130-w32\" alt=\"Vertex AI logo\">\n",
    "      在Vertex AI Workbench中打开\n",
    "    </a>\n",
    "  </td>\n",
    "</table>"
   ]
  },
  {
   "cell_type": "markdown",
   "metadata": {
    "id": "lA32H1oKGgpf"
   },
   "source": [
    "## 概述\n",
    "\n",
    "本教程演示了如何在自定义表格模型和自定义部署容器上使用Vertex AI模型监控。"
   ]
  },
  {
   "cell_type": "markdown",
   "metadata": {
    "id": "de998a3953c9"
   },
   "source": [
    "### 目标\n",
    "\n",
    "在本笔记本中，您将学习如何使用`Vertex AI模型监控`服务来检测输入预测请求中的特征偏离和漂移，针对自定义表格模型，使用自定义部署容器。在本教程中，将使用TensorFlow Serving作为自定义部署容器。\n",
    "\n",
    "本教程使用以下Google Cloud ML服务：\n",
    "\n",
    "- `Vertex AI模型监控`\n",
    "- `Vertex AI预测`\n",
    "- `Vertex AI模型`资源\n",
    "- `Vertex AI端点`资源\n",
    "\n",
    "执行的步骤包括：\n",
    "\n",
    "- 下载一个预训练的自定义表格模型。\n",
    "- 将预训练模型上传为`模型`资源。\n",
    "- 将`模型`资源部署到带有`TensorFlow Serving`服务二进制文件的`端点`资源。\n",
    "- 配置`端点`资源进行模型监控。\n",
    "- 生成用于检测偏离的合成预测请求。\n",
    "- 等待电子邮件警报通知。\n",
    "- 生成用于检测漂移的合成预测请求。\n",
    "- 等待电子邮件警报通知。\n",
    "\n",
    "了解更多关于[介绍 Vertex AI 模型监控](https://cloud.google.com/vertex-ai/docs/model-monitoring/overview)。"
   ]
  },
  {
   "cell_type": "markdown",
   "metadata": {
    "id": "edba71dc9840"
   },
   "source": [
    "### 模型\n",
    "\n",
    "本教程使用一个预训练模型，模型工件存储在一个公共的云存储通（Cloud Storage bucket）中。\n",
    "\n",
    "该模型基于[这篇博客文章](https://cloud.google.com/blog/topics/developers-practitioners/churn-prediction-game-developers-using-google-analytics-4-ga4-and-bigquery-ml)。这个模型的理念是，您的公司有大量的日志数据，描述了您的游戏用户如何与网站互动的信息。原始数据包含以下类别的信息：\n",
    "\n",
    "- 身份 - 独特的玩家身份号码\n",
    "- 人口统计特征 - 关于玩家的信息，比如玩家所位于的地理区域\n",
    "- 行为特征 - 玩家触发特定游戏事件次数的计数，比如达到新的等级\n",
    "- 流失倾向 - 这是标签或目标特征，它提供了这位玩家可能流失的预估概率，即停止成为一个活跃的玩家。"
   ]
  },
  {
   "cell_type": "markdown",
   "metadata": {
    "id": "t6Cd51FkG09E"
   },
   "source": [
    "### 成本\n",
    "\n",
    "本教程使用Google Cloud的计费组件：\n",
    "\n",
    "* Vertex AI\n",
    "* BigQuery\n",
    "* Cloud Storage\n",
    "\n",
    "了解[Vertex AI价格](https://cloud.google.com/vertex-ai/pricing)和[Cloud Storage价格](https://cloud.google.com/storage/pricing)，并使用[Pricing Calculator](https://cloud.google.com/products/calculator/) 根据您的预期使用情况生成成本估算。"
   ]
  },
  {
   "cell_type": "markdown",
   "metadata": {
    "id": "8yVpQt-JHKPF"
   },
   "source": [
    "### 设置本地开发环境\n",
    "\n",
    "**如果您使用的是Colab或Vertex AI Workbench笔记本**，您的环境已经满足运行此笔记本的所有要求。您可以跳过这一步。\n",
    "\n",
    "**否则**，请确保您的环境满足这个笔记本的要求。\n",
    "您需要以下内容：\n",
    "\n",
    "* Google Cloud SDK\n",
    "* Git\n",
    "* Python 3\n",
    "* virtualenv\n",
    "* 在使用Python 3的虚拟环境中运行的Jupyter笔记本\n",
    "\n",
    "Google Cloud的[设置Python开发环境指南](https://cloud.google.com/python/setup)和[Jupyter安装指南](https://jupyter.org/install)提供了满足这些要求的详细说明。以下步骤提供了一套简化的指令：\n",
    "\n",
    "1. [安装并初始化Cloud SDK。](https://cloud.google.com/sdk/docs/)\n",
    "\n",
    "1. [安装Python 3。](https://cloud.google.com/python/setup#installing_python)\n",
    "\n",
    "1. [安装virtualenv](https://cloud.google.com/python/setup#installing_and_using_virtualenv)并创建一个使用Python 3的虚拟环境。激活虚拟环境。\n",
    "\n",
    "1. 要安装Jupyter，请在终端窗口的命令行中运行 `pip install jupyter`。\n",
    "\n",
    "1. 要启动Jupyter，请在终端窗口的命令行中运行 `jupyter notebook`。\n",
    "\n",
    "1. 在Jupyter Notebook仪表板中打开此笔记本。"
   ]
  },
  {
   "cell_type": "markdown",
   "metadata": {
    "id": "f3848df1e5b0"
   },
   "source": [
    "安装\n",
    "\n",
    "安装执行此笔记本所需的软件包。"
   ]
  },
  {
   "cell_type": "code",
   "execution_count": null,
   "metadata": {
    "id": "b24b232ee039"
   },
   "outputs": [],
   "source": [
    "import os\n",
    "import sys\n",
    "\n",
    "assert sys.version_info.major == 3, \"This notebook requires Python 3.\"\n",
    "\n",
    "# The Vertex AI Workbench Notebook product has specific requirements\n",
    "IS_WORKBENCH_NOTEBOOK = os.getenv(\"DL_ANACONDA_HOME\") and not os.getenv(\"VIRTUAL_ENV\")\n",
    "IS_USER_MANAGED_WORKBENCH_NOTEBOOK = os.path.exists(\n",
    "    \"/opt/deeplearning/metadata/env_version\"\n",
    ")\n",
    "\n",
    "# Vertex AI Notebook requires dependencies to be installed with '--user'\n",
    "USER_FLAG = \"\"\n",
    "if IS_WORKBENCH_NOTEBOOK:\n",
    "    USER_FLAG = \"--user\"\n",
    "\n",
    "# Install required packages.\n",
    "! pip3 install {USER_FLAG} --quiet --upgrade google-cloud-aiplatform \\\n",
    "                                             google-cloud-bigquery"
   ]
  },
  {
   "cell_type": "markdown",
   "metadata": {
    "id": "hhq5zEbGg0XX"
   },
   "source": [
    "### 重新启动内核\n",
    "\n",
    "安装SDK后，您需要重新启动笔记本内核，以便它可以找到包。您可以从*Kernel -> 重新启动内核*重新启动内核，或者运行以下命令："
   ]
  },
  {
   "cell_type": "code",
   "execution_count": null,
   "metadata": {
    "id": "EzrelQZ22IZj"
   },
   "outputs": [],
   "source": [
    "# Automatically restart kernel after installs\n",
    "import os\n",
    "\n",
    "if not os.getenv(\"IS_TESTING\"):\n",
    "    # Automatically restart kernel after installs\n",
    "    import IPython\n",
    "\n",
    "    app = IPython.Application.instance()\n",
    "    app.kernel.do_shutdown(True)"
   ]
  },
  {
   "cell_type": "markdown",
   "metadata": {
    "id": "BF1j6f9HApxa"
   },
   "source": [
    "在开始之前\n",
    "\n",
    "设置您的Google Cloud项目\n",
    "\n",
    "无论您使用的是哪种笔记本环境，都需要进行以下步骤。\n",
    "\n",
    "1. [选择或创建一个Google Cloud项目](https://console.cloud.google.com/cloud-resource-manager)。当您首次创建帐户时，您将获得300美元的免费信用额，可用于支付计算/存储成本。\n",
    "\n",
    "2. [确保为您的项目启用了计费功能](https://cloud.google.com/billing/docs/how-to/modify-project)。\n",
    "\n",
    "3. [启用Vertex AI API和Compute Engine API](https://console.cloud.google.com/flows/enableapi?apiid=aiplatform.googleapis.com,compute_component)。\n",
    "\n",
    "4. 如果您在本地运行本笔记本，您需要安装[Cloud SDK](https://cloud.google.com/sdk)。\n",
    "\n",
    "5. 在下面的单元格中输入您的项目ID。然后运行该单元格，以确保Cloud SDK在本笔记本中的所有命令中都使用正确的项目。\n",
    "\n",
    "**注意**：Jupyter以`!`开头的行作为shell命令运行，并将以`$`开头的Python变量插入这些命令中。"
   ]
  },
  {
   "cell_type": "markdown",
   "metadata": {
    "id": "WReHDGG5g0XY"
   },
   "source": [
    "#### 设置您的项目ID\n",
    "\n",
    "**如果您不知道您的项目ID**，您可以尝试使用`gcloud`来获取您的项目ID。"
   ]
  },
  {
   "cell_type": "code",
   "execution_count": null,
   "metadata": {
    "id": "oM1iC_MfAts1"
   },
   "outputs": [],
   "source": [
    "PROJECT_ID = \"[your-project-id]\"  # @param {type:\"string\"}"
   ]
  },
  {
   "cell_type": "code",
   "execution_count": null,
   "metadata": {
    "id": "riG_qUokg0XZ"
   },
   "outputs": [],
   "source": [
    "if PROJECT_ID == \"\" or not PROJECT_ID or PROJECT_ID == \"[your-project-id]\":\n",
    "    PROJECT_ID = \"[your-project-id]\"  # @param {type:\"string\"}\n",
    "    # Get your GCP project id from gcloud\n",
    "    shell_output = ! gcloud config list --format 'value(core.project)' 2>/dev/null\n",
    "    PROJECT_ID = shell_output[0]\n",
    "    print(\"Project ID:\", PROJECT_ID)"
   ]
  },
  {
   "cell_type": "code",
   "execution_count": null,
   "metadata": {
    "id": "09021c90b34c"
   },
   "outputs": [],
   "source": [
    "! gcloud config set project $PROJECT_ID"
   ]
  },
  {
   "cell_type": "markdown",
   "metadata": {
    "id": "region"
   },
   "source": [
    "#### 区域\n",
    "\n",
    "您还可以更改“REGION”变量，该变量用于笔记本其余部分的操作。以下是Vertex AI支持的区域。\n",
    "\n",
    "- 美洲：`us-central1`\n",
    "- 欧洲：`europe-west4`\n",
    "- 亚太地区：`asia-east1`\n",
    "\n",
    "**对于此笔记本，我们建议将区域设置为默认值us-central1**。\n",
    "\n",
    "您不能使用多区域存储桶进行Vertex AI的训练。并非所有区域对所有Vertex AI服务提供支持。\n",
    "\n",
    "了解有关[Vertex AI区域](https://cloud.google.com/vertex-ai/docs/general/locations)的更多信息。"
   ]
  },
  {
   "cell_type": "code",
   "execution_count": null,
   "metadata": {
    "id": "nUjIaIu0Kb0-"
   },
   "outputs": [],
   "source": [
    "REGION = \"[your-region]\"  # @param {type: \"string\"}\n",
    "\n",
    "if REGION == \"[your-region]\":\n",
    "    REGION = \"us-central1\""
   ]
  },
  {
   "cell_type": "markdown",
   "metadata": {
    "id": "06571eb4063b"
   },
   "source": [
    "UUID\n",
    "\n",
    "如果您正在进行现场教程，您可能正在使用共享的测试帐户或项目。为了避免在创建的资源之间发生名称冲突，您需要为每个实例会话创建一个uuid，并将其附加到您在本教程中创建的资源的名称上。"
   ]
  },
  {
   "cell_type": "code",
   "execution_count": null,
   "metadata": {
    "id": "4e166d927e36"
   },
   "outputs": [],
   "source": [
    "import random\n",
    "import string\n",
    "\n",
    "\n",
    "# Generate a uuid of a specifed length(default=8)\n",
    "def generate_uuid(length: int = 8) -> str:\n",
    "    return \"\".join(random.choices(string.ascii_lowercase + string.digits, k=length))\n",
    "\n",
    "\n",
    "UUID = generate_uuid()"
   ]
  },
  {
   "cell_type": "markdown",
   "metadata": {
    "id": "42c8a7c56abd"
   },
   "source": [
    "用户电子邮件\n",
    "\n",
    "设置您的用户电子邮件地址以接收监控警报。"
   ]
  },
  {
   "cell_type": "code",
   "execution_count": null,
   "metadata": {
    "id": "ce2589511bb6"
   },
   "outputs": [],
   "source": [
    "USER_EMAIL = \"[your-user-email]\"  # @param {type:\"string\"}"
   ]
  },
  {
   "cell_type": "markdown",
   "metadata": {
    "id": "dr--iN2kAylZ"
   },
   "source": [
    "###验证您的Google Cloud账户\n",
    "\n",
    "**如果您正在使用Vertex AI Workbench笔记本**，您的环境已经通过身份验证。\n",
    "\n",
    "**如果您使用的是Colab**，运行下面的单元格，并按提示进行身份验证。\n",
    "\n",
    "**否则**，请按照以下步骤操作：\n",
    "\n",
    "1. 在Cloud Console中，转到[**创建服务帐户密钥**页面](https://console.cloud.google.com/apis/credentials/serviceaccountkey)。\n",
    "\n",
    "2. 点击**创建服务帐户**。\n",
    "\n",
    "3. 在**服务帐户名称**字段中输入名称，然后点击**创建**。\n",
    "\n",
    "4. 在**赋予此服务帐户对项目的访问权限**部分，点击**角色**下拉列表。在过滤框中输入\"Vertex AI\"，并选择**Vertex AI管理员**。在过滤框中输入\"存储对象管理员\"，并选择**存储对象管理员**。\n",
    "\n",
    "5. 点击**创建**。包含您密钥的JSON文件将下载到您的本地环境中。\n",
    "\n",
    "6. 在下面的单元格中将您的服务帐户密钥路径输入为`GOOGLE_APPLICATION_CREDENTIALS`变量，并运行该单元格。"
   ]
  },
  {
   "cell_type": "code",
   "execution_count": null,
   "metadata": {
    "id": "C6H1vZYjvT6w"
   },
   "outputs": [],
   "source": [
    "# If you are running this notebook in Colab, run this cell and follow the\n",
    "# instructions to authenticate your GCP account. This provides access to your\n",
    "# Cloud Storage bucket and lets you submit training jobs and prediction\n",
    "# requests.\n",
    "\n",
    "import os\n",
    "import sys\n",
    "\n",
    "# If on Vertex AI Workbench, then don't execute this code\n",
    "IS_COLAB = \"google.colab\" in sys.modules\n",
    "if not os.path.exists(\"/opt/deeplearning/metadata/env_version\") and not os.getenv(\n",
    "    \"DL_ANACONDA_HOME\"\n",
    "):\n",
    "    if \"google.colab\" in sys.modules:\n",
    "        from google.colab import auth as google_auth\n",
    "\n",
    "        google_auth.authenticate_user()\n",
    "\n",
    "    # If you are running this notebook locally, replace the string below with the\n",
    "    # path to your service account key and run this cell to authenticate your GCP\n",
    "    # account.\n",
    "    elif not os.getenv(\"IS_TESTING\"):\n",
    "        %env GOOGLE_APPLICATION_CREDENTIALS ''"
   ]
  },
  {
   "cell_type": "markdown",
   "metadata": {
    "id": "8RJ3_20etd31"
   },
   "source": [
    "关于服务账户和权限的注释\n",
    "\n",
    "**默认情况下不需要任何配置**，如果遇到任何权限相关问题，请确保上述服务账户具有所需的角色：\n",
    "\n",
    "|服务账户邮箱|描述|角色|\n",
    "|---|---|---|\n",
    "|PROJECT_NUMBER-compute@developer.gserviceaccount.com|Compute Engine默认服务账户|Dataflow管理员、Dataflow Worker、存储管理员、BigQuery管理员、Vertex AI用户|\n",
    "|service-PROJECT_NUMBER@gcp-sa-aiplatform.iam.gserviceaccount.com|AI 平台服务代理|Vertex AI 服务代理|\n",
    "\n",
    "1. 进入 https://console.cloud.google.com/iam-admin/iam。\n",
    "2. 勾选 \"包括由 Google 提供的角色授权\" 复选框。\n",
    "3. 查找上述邮箱。\n",
    "4. 授予相应的角色。\n",
    "\n",
    "### 使用来自不同项目的数据源\n",
    "- 对于BQ数据源，请为两个服务账户授予 \"BigQuery 数据查看器\" 角色。\n",
    "- 对于CSV数据源，请为两个服务账户授予 \"存储对象查看器\" 角色。"
   ]
  },
  {
   "cell_type": "markdown",
   "metadata": {
    "id": "bucket:custom"
   },
   "source": [
    "### 创建 Cloud 存储桶\n",
    "\n",
    "**无论您的笔记本环境如何，都需要执行以下步骤。**\n",
    "\n",
    "在下面设置您的 Cloud 存储桶的名称，在本教程中您将使用该存储桶上传监控服务的 `输入模式`。\n",
    "\n",
    "存储桶名称必须在所有谷歌云项目中全局唯一，包括您组织之外的项目。"
   ]
  },
  {
   "cell_type": "code",
   "execution_count": null,
   "metadata": {
    "id": "bucket"
   },
   "outputs": [],
   "source": [
    "BUCKET_NAME = \"[your-bucket-name]\"  # @param {type:\"string\"}\n",
    "BUCKET_URI = f\"gs://{BUCKET_NAME}\""
   ]
  },
  {
   "cell_type": "code",
   "execution_count": null,
   "metadata": {
    "id": "autoset_bucket"
   },
   "outputs": [],
   "source": [
    "if BUCKET_NAME == \"\" or BUCKET_NAME is None or BUCKET_NAME == \"[your-bucket-name]\":\n",
    "    BUCKET_NAME = PROJECT_ID + \"aip-\" + UUID\n",
    "    BUCKET_URI = \"gs://\" + BUCKET_NAME"
   ]
  },
  {
   "cell_type": "markdown",
   "metadata": {
    "id": "create_bucket"
   },
   "source": [
    "只有在您的存储桶不存在时：运行以下单元格以创建您的云存储存储桶。"
   ]
  },
  {
   "cell_type": "code",
   "execution_count": null,
   "metadata": {
    "id": "create_bucket"
   },
   "outputs": [],
   "source": [
    "! gsutil mb -l $REGION $BUCKET_URI"
   ]
  },
  {
   "cell_type": "markdown",
   "metadata": {
    "id": "validate_bucket"
   },
   "source": [
    "最后，通过检查您云存储桶的内容来验证对其的访问权限："
   ]
  },
  {
   "cell_type": "code",
   "execution_count": null,
   "metadata": {
    "id": "validate_bucket"
   },
   "outputs": [],
   "source": [
    "! gsutil ls -al $BUCKET_URI"
   ]
  },
  {
   "cell_type": "markdown",
   "metadata": {
    "id": "a0d294ff6d10"
   },
   "source": [
    "### 导入库"
   ]
  },
  {
   "cell_type": "code",
   "execution_count": null,
   "metadata": {
    "id": "bd7a633296eb"
   },
   "outputs": [],
   "source": [
    "import google.cloud.aiplatform as aiplatform\n",
    "from google.cloud import bigquery\n",
    "from google.cloud.aiplatform import model_monitoring"
   ]
  },
  {
   "cell_type": "markdown",
   "metadata": {
    "id": "init_aip:mbsdk,all"
   },
   "source": [
    "### 初始化 Python 的 Vertex AI SDK\n",
    "\n",
    "为您的项目和相应的存储桶初始化 Python 的 Vertex AI SDK。"
   ]
  },
  {
   "cell_type": "code",
   "execution_count": null,
   "metadata": {
    "id": "init_aip:mbsdk,all"
   },
   "outputs": [],
   "source": [
    "aiplatform.init(project=PROJECT_ID, location=REGION)"
   ]
  },
  {
   "cell_type": "markdown",
   "metadata": {
    "id": "init_bq"
   },
   "source": [
    "在本教程中，您将使用相同的公共BigQuery表中的数据，该数据用于训练预训练模型。您将创建一个客户端接口，然后使用它来访问数据。"
   ]
  },
  {
   "cell_type": "code",
   "execution_count": null,
   "metadata": {
    "id": "init_bq"
   },
   "outputs": [],
   "source": [
    "bqclient = bigquery.Client(project=PROJECT_ID)"
   ]
  },
  {
   "cell_type": "markdown",
   "metadata": {
    "id": "accelerators:training,prediction"
   },
   "source": [
    "设置硬件加速器\n",
    "\n",
    "您可以为预测设置硬件加速器（例如，GPU），或选择不使用任何（CPU）。硬件加速器降低了对预测请求的延迟响应。在选择硬件加速器时，要考虑延迟与额外成本之间的权衡。\n",
    "\n",
    "将变量`DEPLOY_GPU/DEPLOY_NGPU`设置为使用支持GPU的容器镜像以及分配给虚拟机实例（VM）的GPU数目。例如，要使用一个GPU容器镜像，并为每个VM分配4个Nvidia Tesla K80 GPU，您可以指定：\n",
    "\n",
    "（aiplatform.gapic.AcceleratorType.NVIDIA_TESLA_K80, 4）\n",
    "\n",
    "请查看[可用加速器的位置](https://cloud.google.com/vertex-ai/docs/general/locations#accelerators)。\n",
    "\n",
    "否则，指定（无，无）以使用能在CPU上运行的容器镜像。"
   ]
  },
  {
   "cell_type": "code",
   "execution_count": null,
   "metadata": {
    "id": "xd5PLXDTlugv"
   },
   "outputs": [],
   "source": [
    "GPU = False\n",
    "if GPU:\n",
    "    DEPLOY_GPU, DEPLOY_NGPU = (aiplatform.gapic.AcceleratorType.NVIDIA_TESLA_K80, 1)\n",
    "else:\n",
    "    DEPLOY_GPU, DEPLOY_NGPU = (None, None)"
   ]
  },
  {
   "cell_type": "markdown",
   "metadata": {
    "id": "container:training,prediction"
   },
   "source": [
    "设置预构建的容器\n",
    "\n",
    "设置用于预测的预构建 Docker 容器镜像。\n",
    "\n",
    "有关最新列表，请参阅[预构建的容器用于预测](https://cloud.google.com/ai-platform-unified/docs/predictions/pre-built-containers)。"
   ]
  },
  {
   "cell_type": "code",
   "execution_count": null,
   "metadata": {
    "id": "1u1mr18jlugv"
   },
   "outputs": [],
   "source": [
    "if GPU:\n",
    "    DEPLOY_VERSION = \"tf2-gpu.2-5\"\n",
    "else:\n",
    "    DEPLOY_VERSION = \"tf2-cpu.2-5\"\n",
    "\n",
    "DEPLOY_IMAGE = \"{}-docker.pkg.dev/vertex-ai/prediction/{}:latest\".format(\n",
    "    REGION.split(\"-\")[0], DEPLOY_VERSION\n",
    ")\n",
    "\n",
    "print(\"Deployment:\", DEPLOY_IMAGE, DEPLOY_GPU, DEPLOY_NGPU)"
   ]
  },
  {
   "cell_type": "markdown",
   "metadata": {
    "id": "machine:training,prediction"
   },
   "source": [
    "#### 设置机器类型\n",
    "\n",
    "接下来，设置用于训练和预测的机器类型。\n",
    "\n",
    "- 将变量`DEPLOY_COMPUTE`设置为配置用于预测的计算资源。\n",
    " - `机器类型`\n",
    "     - `n1-standard`：每个vCPU 3.75GB的内存\n",
    "     - `n1-highmem`：每个vCPU 6.5GB的内存\n",
    "     - `n1-highcpu`：每个vCPU 0.9GB的内存\n",
    " - `vCPUs`：\\[2, 4, 8, 16, 32, 64, 96\\]台\n",
    "\n",
    "*注意：您还可以在训练和部署中使用n2和e2机器类型，但它们不支持GPU。*"
   ]
  },
  {
   "cell_type": "code",
   "execution_count": null,
   "metadata": {
    "id": "YAXwbqKKlugv"
   },
   "outputs": [],
   "source": [
    "MACHINE_TYPE = \"n1-standard\"\n",
    "\n",
    "VCPU = \"4\"\n",
    "TRAIN_COMPUTE = MACHINE_TYPE + \"-\" + VCPU\n",
    "print(\"Train machine type\", TRAIN_COMPUTE)\n",
    "\n",
    "MACHINE_TYPE = \"n1-standard\"\n",
    "\n",
    "VCPU = \"4\"\n",
    "DEPLOY_COMPUTE = MACHINE_TYPE + \"-\" + VCPU\n",
    "print(\"Deploy machine type\", DEPLOY_COMPUTE)"
   ]
  },
  {
   "cell_type": "markdown",
   "metadata": {
    "id": "gar_enable_api"
   },
   "source": [
    "### 启用Artifact Registry API\n",
    "\n",
    "您必须为您的项目启用Artifact Registry API服务。\n",
    "\n",
    "了解更多关于[启用服务](https://cloud.google.com/artifact-registry/docs/enable-service)。"
   ]
  },
  {
   "cell_type": "code",
   "execution_count": null,
   "metadata": {
    "id": "gar_enable_api"
   },
   "outputs": [],
   "source": [
    "! gcloud services enable artifactregistry.googleapis.com"
   ]
  },
  {
   "cell_type": "markdown",
   "metadata": {
    "id": "gar_create_repo"
   },
   "source": [
    "创建一个私有的Docker仓库\n",
    "\n",
    "第一步是在Google Artifact Registry中创建您自己的Docker仓库。\n",
    "\n",
    "1. 运行`gcloud artifacts repositories create`命令，在您的区域中创建一个新的Docker仓库，并添加描述为\"docker仓库\"。\n",
    "\n",
    "2. 运行`gcloud artifacts repositories list`命令来验证您的仓库是否已经创建。"
   ]
  },
  {
   "cell_type": "code",
   "execution_count": null,
   "metadata": {
    "id": "gar_create_repo"
   },
   "outputs": [],
   "source": [
    "PRIVATE_REPO = \"my-docker-repo\"\n",
    "\n",
    "! gcloud artifacts repositories create {PRIVATE_REPO} --repository-format=docker --location={REGION} --description=\"Docker repository\"\n",
    "\n",
    "! gcloud artifacts repositories list"
   ]
  },
  {
   "cell_type": "markdown",
   "metadata": {
    "id": "gar_auth"
   },
   "source": [
    "### 配置私有存储库的身份验证\n",
    "\n",
    "在推送或拉取容器映像之前，配置Docker使用`gcloud`命令行工具对您地区的`Artifact Registry`发起请求进行身份验证。"
   ]
  },
  {
   "cell_type": "code",
   "execution_count": null,
   "metadata": {
    "id": "gar_auth"
   },
   "outputs": [],
   "source": [
    "! gcloud auth configure-docker {REGION}-docker.pkg.dev --quiet"
   ]
  },
  {
   "cell_type": "markdown",
   "metadata": {
    "id": "container:tfserving"
   },
   "source": [
    "用于提供服务的容器（Docker）镜像\n",
    "\n",
    "设置用于提供预测的TensorFlow Serving Docker容器镜像。\n",
    "\n",
    "1. 从Docker Hub拉取相应的CPU或GPU TF Serving Docker镜像。\n",
    "2. 为图像创建一个标签，以在Artifact Registry中注册。\n",
    "3. 使用Artifact Registry注册图像。\n",
    "\n",
    "了解有关[TensorFlow Serving](https://www.tensorflow.org/tfx/serving/docker)的更多信息。"
   ]
  },
  {
   "cell_type": "code",
   "execution_count": null,
   "metadata": {
    "id": "container:tfserving"
   },
   "outputs": [],
   "source": [
    "# Executes in Vertex AI Workbench\n",
    "if DEPLOY_GPU:\n",
    "    DEPLOY_IMAGE = (\n",
    "        f\"{REGION}-docker.pkg.dev/\"\n",
    "        + PROJECT_ID\n",
    "        + f\"/{PRIVATE_REPO}\"\n",
    "        + \"/tf_serving:gpu\"\n",
    "    )\n",
    "    TF_IMAGE = \"tensorflow/serving:2.5.4-gpu\"\n",
    "else:\n",
    "    DEPLOY_IMAGE = (\n",
    "        f\"{REGION}-docker.pkg.dev/\"\n",
    "        + PROJECT_ID\n",
    "        + f\"/{PRIVATE_REPO}\"\n",
    "        + \"/tf_serving:cpu\"\n",
    "    )\n",
    "    TF_IMAGE = \"tensorflow/serving:2.5.4\"\n",
    "\n",
    "if not IS_COLAB:\n",
    "    if DEPLOY_GPU:\n",
    "        ! sudo docker pull tensorflow/serving:2.5.4-gpu\n",
    "    else:\n",
    "        ! sudo docker pull tensorflow/serving:2.5.4\n",
    "\n",
    "    ! docker tag $TF_IMAGE $DEPLOY_IMAGE\n",
    "    ! docker push $DEPLOY_IMAGE\n",
    "else:\n",
    "    # install docker daemon\n",
    "    ! apt-get -qq install docker.io\n",
    "\n",
    "print(\"Deployment:\", DEPLOY_IMAGE, DEPLOY_GPU, DEPLOY_NGPU)"
   ]
  },
  {
   "cell_type": "markdown",
   "metadata": {
    "id": "6c14c96973c3"
   },
   "source": [
    "在Colab中运行"
   ]
  },
  {
   "cell_type": "code",
   "execution_count": null,
   "metadata": {
    "id": "2450b47cb86f"
   },
   "outputs": [],
   "source": [
    "%%bash -s $IS_COLAB $DEPLOY_IMAGE $TF_IMAGE\n",
    "if [ $1 == \"False\" ]; then\n",
    "  exit 0\n",
    "fi\n",
    "set -x\n",
    "dockerd -b none --iptables=0 -l warn &\n",
    "for i in $(seq 5); do [ ! -S \"/var/run/docker.sock\" ] && sleep 2 || break; done\n",
    "docker pull $3\n",
    "docker tag tensorflow/serving $2\n",
    "docker push $2\n",
    "kill $(jobs -p)"
   ]
  },
  {
   "cell_type": "markdown",
   "metadata": {
    "id": "b890e02cb4b0"
   },
   "source": [
    "## Vertex AI模型监控简介\n",
    "\n",
    "Vertex AI模型监控支持AutoML表格模型和自定义表格模型。您可以监控入站预测请求中特征的偏差和漂移检测，或者监测出站预测响应中特征归因（可解释AI）的偏差和漂移 -- 即，归因对输出（预测）的贡献分布。\n",
    "\n",
    "以下是启用模型监控的基本步骤：\n",
    "\n",
    "1. 将`Vertex AI`的AutoML或自定义表格模型部署到`Vertex AI Endpoint`。\n",
    "2. 配置模型监控规范。\n",
    "3. 将模型监控规范上传到`Vertex AI Endpoint`。\n",
    "4. 上传或自动生成用于解析的`输入架构`。\n",
    "5. 对于特征偏差检测，上传用于自动生成特征分布的训练数据。\n",
    "6. 对于特征归因，上传相应的`Vertex AI可解释性`规范。\n",
    "\n",
    "配置完成后，您可以启用/禁用监控，更改警报并更新模型监控配置。\n",
    "\n",
    "启用模型监控时，采样的传入预测请求将被记录到一个BigQuery表中。然后将分析记录请求中包含的输入特征值，以便按指定的间隔基准进行偏差或漂移的分析。您可以设置取样率来监控生产输入到模型的子集，以及监控间隔。\n",
    "\n",
    "模型监控服务需要知道如何解析特征值，这称为输入架构。对于AutoML表格模型，输入架构会自动生成。对于自定义表格模型，服务会尝试从前1000个预测请求中自动生成输入架构。或者，您可以上传输入架构。\n",
    "\n",
    "对于偏差检测，监控服务需要训练数据中数值统计分布的基线。对于AutoML表格模型，这是自动推导的。对于自定义表格模型，您需要上传训练数据到服务中，并让服务自动推导分布。\n",
    "\n",
    "对于特征归因偏差和漂移检测，在自定义表格模型中需要启用您部署的模型的`Vertex AI可解释性`。对于AutoML模型，`Vertex AI可解释性`会自动启用。\n",
    "\n",
    "了解更多关于[Vertex AI模型监控简介](https://cloud.google.com/vertex-ai/docs/model-monitoring/overview)。"
   ]
  },
  {
   "cell_type": "markdown",
   "metadata": {
    "id": "b92f7ea5007d"
   },
   "source": [
    "### 复制 TensorFlow Serving 的模型文物\n",
    "\n",
    "*注意:* 对于 TF Serving，MODEL_DIR 必须以数字结尾的子文件夹，例如，1。"
   ]
  },
  {
   "cell_type": "code",
   "execution_count": null,
   "metadata": {
    "id": "f071f9d872bf"
   },
   "outputs": [],
   "source": [
    "MODEL_ARTIFACT_URI = \"gs://mco-mm/churn\"\n",
    "MODEL_DIR = BUCKET_URI + \"/model/1\"\n",
    "\n",
    "! gsutil cp -r $MODEL_ARTIFACT_URI $MODEL_DIR"
   ]
  },
  {
   "cell_type": "markdown",
   "metadata": {
    "id": "9bf06cd476e9"
   },
   "source": [
    "### 上传模型工件作为`Vertex AI Model`资源\n",
    "\n",
    "首先，您可以使用`upload()`方法将预先训练好的自定义表格模型工件作为`Vertex AI Model`资源上传，使用以下参数：\n",
    "\n",
    "- `display_name`：`Model`资源的可读性名称。\n",
    "- `artifact_uri`：模型工件的云存储位置。\n",
    "- `serving_container_image`：在模型部署到`Vertex AI`时使用的服务容器映像。\n",
    "- `serving_container_command`：要启动的服务二进制（HTTP服务器）。\n",
    "- `serving_container_args`：要传递给服务二进制的参数。对于TensorFlow Serving，必需的参数包括：\n",
    "    - `--model_name`：要分配给模型的可读性名称。\n",
    "    - `--model_base_name`：在容器中存储模型工件的位置。Vertex服务将变量$(AIP_STORAGE_URI)设置为服务在容器中安装模型工件的位置。\n",
    "    - `--rest_api_port`：要发送基于REST的预测请求的端口。可以是8080或8501（TensorFlow Serving的默认值）。\n",
    "    - `--port`：要发送基于gRPC的预测请求的端口。对于TensorFlow Serving，应该是8500。\n",
    "- `serving_container_health_route`：服务定期ping以验证服务二进制是否正在运行的URL。对于TensorFlow Serving，这将是/v1/models/\\<model_name\\>。\n",
    "- `serving_container_predict_route`：用于将基于REST的预测请求路由到服务的URL。对于TF Serving，这将是/v1/models/[model_name]:predict。\n",
    "- `serving_container_ports`：HTTP服务器监听请求的端口列表。\n",
    "- `sync`：是否等待进程完成，或立即返回（异步）。\n",
    "\n",
    "上传模型到Vertex模型资源将返回一个长时间运行的操作，因为可能需要一些时间。\n",
    "\n",
    "*注意:* 您在上传模型路径时省略结尾的数字子文件夹（例如，/1）。Vertex服务将上传包含模型工件子文件夹上面的父文件夹--这正是TensorFlow Serving二进制文件期望的内容。\n",
    "\n",
    "*注意:* 当您将模型工件上传到`Vertex AI Model`资源时，您需要指定相应的部署容器映像。"
   ]
  },
  {
   "cell_type": "code",
   "execution_count": null,
   "metadata": {
    "id": "0193f247e216"
   },
   "outputs": [],
   "source": [
    "MODEL_NAME = \"churn_\" + UUID\n",
    "\n",
    "model = aiplatform.Model.upload(\n",
    "    display_name=\"churn_\" + UUID,\n",
    "    artifact_uri=MODEL_DIR[:-2],\n",
    "    serving_container_image_uri=DEPLOY_IMAGE,\n",
    "    serving_container_health_route=\"/v1/models/\" + MODEL_NAME,\n",
    "    serving_container_predict_route=\"/v1/models/\" + MODEL_NAME + \":predict\",\n",
    "    serving_container_command=[\"/usr/bin/tensorflow_model_server\"],\n",
    "    serving_container_args=[\n",
    "        \"--model_name=\" + MODEL_NAME,\n",
    "        \"--model_base_path=\" + \"$(AIP_STORAGE_URI)\",\n",
    "        \"--rest_api_port=8080\",\n",
    "        \"--port=8500\",\n",
    "        \"--file_system_poll_wait_seconds=31540000\",\n",
    "    ],\n",
    "    serving_container_ports=[8080],\n",
    "    sync=True,\n",
    ")\n",
    "\n",
    "print(model)"
   ]
  },
  {
   "cell_type": "markdown",
   "metadata": {
    "id": "1069c6f0eba8"
   },
   "source": [
    "### 部署 `Vertex AI 模型` 资源到 `Vertex AI 端点` 资源\n",
    "\n",
    "接下来，您可以使用 `deploy()` 方法将您的 `Vertex AI 模型` 资源部署到一个 `Vertex AI 端点` 资源，使用以下参数：\n",
    "\n",
    "- `deploy_model_display`：部署模型的人类可读名称。\n",
    "- `machine_type`：每个 VM 节点实例的机器类型。\n",
    "- `min_replica_count`：自动扩展所需提供的节点的最小数量。\n",
    "- `max_replica_count`：自动扩展所需提供的节点的最大数量。\n",
    "- `accelerator_type`：每个提供的节点的 GPU 加速器类型（如果有的话）。\n",
    "- `accelerator_count`：每个提供的节点的 GPU 加速器数量（如果有的话）。"
   ]
  },
  {
   "cell_type": "code",
   "execution_count": null,
   "metadata": {
    "id": "b883402dda8c"
   },
   "outputs": [],
   "source": [
    "MIN_NODES = 1\n",
    "MAX_NODES = 1\n",
    "\n",
    "if GPU:\n",
    "    endpoint = model.deploy(\n",
    "        deployed_model_display_name=\"churn_\" + UUID,\n",
    "        machine_type=DEPLOY_COMPUTE,\n",
    "        min_replica_count=MIN_NODES,\n",
    "        max_replica_count=MAX_NODES,\n",
    "        accelerator_type=DEPLOY_GPU.name,\n",
    "        accelerator_count=DEPLOY_NGPU,\n",
    "    )\n",
    "else:\n",
    "    endpoint = model.deploy(\n",
    "        deployed_model_display_name=\"churn_\" + UUID,\n",
    "        machine_type=DEPLOY_COMPUTE,\n",
    "        min_replica_count=MIN_NODES,\n",
    "        max_replica_count=MAX_NODES,\n",
    "    )"
   ]
  },
  {
   "cell_type": "markdown",
   "metadata": {
    "id": "ba4a2924aec6"
   },
   "source": [
    "配置监视作业\n",
    "\n",
    "配置监视作业包括以下规范：\n",
    "\n",
    "- `alert_config`：发送监视警报的电子邮件地址。\n",
    "- `schedule_config`：分析预测的时间窗口。\n",
    "- `logging_sampling_strategy`：采样预测请求的比率。\n",
    "- `drift_config`：要监视的特征和漂移阈值。\n",
    "- `skew_config`：要监视的特征和偏差阈值。"
   ]
  },
  {
   "cell_type": "markdown",
   "metadata": {
    "id": "87abd93294c4"
   },
   "source": [
    "### 配置警报规范\n",
    "\n",
    "首先，您可以使用以下设置配置`alerting_config`规范：\n",
    "\n",
    "- `user_emails`：要发送警报的一个或多个电子邮件地址列表。\n",
    "- `enable_logging`：将检测到的异常流式传输到 Cloud Logging。默认为False。"
   ]
  },
  {
   "cell_type": "code",
   "execution_count": null,
   "metadata": {
    "id": "be6137df0086"
   },
   "outputs": [],
   "source": [
    "# Create alerting configuration.\n",
    "alerting_config = model_monitoring.EmailAlertConfig(\n",
    "    user_emails=[USER_EMAIL], enable_logging=True\n",
    ")"
   ]
  },
  {
   "cell_type": "markdown",
   "metadata": {
    "id": "66c7283276bc"
   },
   "source": [
    "### 配置监控间隔规范\n",
    "\n",
    "接下来，您需要使用以下设置配置`schedule_config`规范：\n",
    "\n",
    "- `monitor_interval`：设置模型监控作业的调度间隔，单位为小时。最小时间间隔为1小时。"
   ]
  },
  {
   "cell_type": "code",
   "execution_count": null,
   "metadata": {
    "id": "1230b92d1eed"
   },
   "outputs": [],
   "source": [
    "# Monitoring Interval\n",
    "MONITOR_INTERVAL = 1  # @param {type:\"number\"}\n",
    "\n",
    "# Create schedule configuration\n",
    "schedule_config = model_monitoring.ScheduleConfig(monitor_interval=MONITOR_INTERVAL)"
   ]
  },
  {
   "cell_type": "markdown",
   "metadata": {
    "id": "3bd8dd304191"
   },
   "source": [
    "### 配置采样规范\n",
    "\n",
    "接下来，您可以使用以下设置配置`logging_sampling_strategy`规范：\n",
    "\n",
    "- `sample_rate`：作为百分比（介于0和1之间）的速率，用于随机采样用于监控的预测请求。 选择的样本将被记录到一个BigQuery表中。"
   ]
  },
  {
   "cell_type": "code",
   "execution_count": null,
   "metadata": {
    "id": "3688c245a0e9"
   },
   "outputs": [],
   "source": [
    "# Sampling rate (optional, default=.8)\n",
    "SAMPLE_RATE = 0.5  # @param {type:\"number\"}\n",
    "\n",
    "# Create sampling configuration\n",
    "logging_sampling_strategy = model_monitoring.RandomSampleConfig(sample_rate=SAMPLE_RATE)"
   ]
  },
  {
   "cell_type": "markdown",
   "metadata": {
    "id": "c1bc3bc8992f"
   },
   "source": [
    "### 配置漂移检测规范\n",
    "\n",
    "接下来，您可以使用以下设置配置 `drift_config` 规范：\n",
    "\n",
    "- `drift_thresholds`：一个键值对字典，其中键是要监控漂移的输入特征，值是检测阈值。如果未指定，默认的特征漂移阈值为0.3（30％）。\n",
    "\n",
    "*注意：*启用漂移检测是可选的。"
   ]
  },
  {
   "cell_type": "code",
   "execution_count": null,
   "metadata": {
    "id": "128bdc05cb5b"
   },
   "outputs": [],
   "source": [
    "DRIFT_THRESHOLD_VALUE = 0.05\n",
    "\n",
    "DRIFT_THRESHOLDS = {\n",
    "    \"country\": DRIFT_THRESHOLD_VALUE,\n",
    "    \"cnt_user_engagement\": DRIFT_THRESHOLD_VALUE,\n",
    "}\n",
    "\n",
    "drift_config = model_monitoring.DriftDetectionConfig(drift_thresholds=DRIFT_THRESHOLDS)"
   ]
  },
  {
   "cell_type": "markdown",
   "metadata": {
    "id": "651b576aa037"
   },
   "source": [
    "### 配置倾斜检测规范\n",
    "\n",
    "接下来，您需要使用以下设置配置 `skew_config` 规范：\n",
    "\n",
    "- `data_source`：原始训练数据集的数据源。数据源的格式默认为 BigQuery 表。否则，必须将设置 `data_format` 设置为以下某个值。数据的位置必须是 Cloud Storage 位置。\n",
    "  - `csv`： \n",
    "  - `jsonl`：\n",
    "  - `tf-record`：\n",
    "- `skew_thresholds`：一组键/值对的字典，其中键是要监视倾斜的输入特征。值是检测阈值。当未指定时，特征的默认倾斜阈值为 0.3（30%）。\n",
    "- `target_field`：训练数据集的目标标签\n",
    "\n",
    "*注意：* 启用倾斜检测是可选的。"
   ]
  },
  {
   "cell_type": "code",
   "execution_count": null,
   "metadata": {
    "id": "4cb098c74d2c"
   },
   "outputs": [],
   "source": [
    "# URI to training dataset.\n",
    "DATASET_BQ_URI = \"bq://mco-mm.bqmlga4.train\"  # @param {type:\"string\"}\n",
    "# Prediction target column name in training dataset.\n",
    "TARGET = \"churned\"\n",
    "\n",
    "SKEW_THRESHOLD_VALUE = 0.5\n",
    "\n",
    "SKEW_THRESHOLDS = {\n",
    "    \"country\": SKEW_THRESHOLD_VALUE,\n",
    "    \"cnt_user_engagement\": SKEW_THRESHOLD_VALUE,\n",
    "}\n",
    "\n",
    "skew_config = model_monitoring.SkewDetectionConfig(\n",
    "    data_source=DATASET_BQ_URI, skew_thresholds=SKEW_THRESHOLDS, target_field=TARGET\n",
    ")"
   ]
  },
  {
   "cell_type": "markdown",
   "metadata": {
    "id": "8b6d5bd71ac9"
   },
   "source": [
    "### 组装目标规范\n",
    "\n",
    "最后，您可以将目标规范`objective_config`与以下设置一起组装起来：\n",
    "\n",
    "- `skew_detection_config`：（可选）偏斜检测配置的规范。\n",
    "- `drift_detection_config`：（可选）漂移检测配置的规范。\n",
    "- `explanation_config`：（可选）启用特征归因监视时用于解释的规范。"
   ]
  },
  {
   "cell_type": "code",
   "execution_count": null,
   "metadata": {
    "id": "d353205a8aec"
   },
   "outputs": [],
   "source": [
    "objective_config = model_monitoring.ObjectiveConfig(\n",
    "    skew_detection_config=skew_config,\n",
    "    drift_detection_config=drift_config,\n",
    "    explanation_config=None,\n",
    ")"
   ]
  },
  {
   "cell_type": "markdown",
   "metadata": {
    "id": "8ac30ffa72b5"
   },
   "source": [
    "### 创建输入模式\n",
    "\n",
    "监控服务需要知道模型的特征和数据类型的特征输入，这被称为“输入模式”。 “输入模式”可以是以下之一：\n",
    "- 预加载到监控服务。\n",
    "- 在收到头1000个预测实例后由监控服务自动生成。\n",
    "\n",
    "在本教程中，您将预加载“输入模式”。\n",
    "\n",
    "#### 创建预定义的输入模式\n",
    "\n",
    "预定义的“输入模式”被指定为一个YAML文件。在本例中，您检索用于训练数据的BigQuery模式，其中包括特征名称和数据类型，以生成YAML规范。预定义的“输入模式”必须加载到Cloud存储位置。\n",
    "\n",
    "了解更多关于[用于解析输入的自定义实例模式](https://cloud.google.com/vertex-ai/docs/model-monitoring/overview#custom-input-schemas)。"
   ]
  },
  {
   "cell_type": "code",
   "execution_count": null,
   "metadata": {
    "id": "59becb56ad34"
   },
   "outputs": [],
   "source": [
    "# Get the BQ table\n",
    "\n",
    "table = bigquery.TableReference.from_string(DATASET_BQ_URI[5:])\n",
    "bq_table = bqclient.get_table(table)\n",
    "\n",
    "yaml = \"\"\"type: object\n",
    "properties:\n",
    "\"\"\"\n",
    "\n",
    "schema = bq_table.schema\n",
    "for feature in schema:\n",
    "    if feature.name == TARGET:\n",
    "        continue\n",
    "    if feature.field_type == \"STRING\":\n",
    "        f_type = \"string\"\n",
    "    else:\n",
    "        f_type = \"integer\"\n",
    "    yaml += f\"\"\"  {feature.name}:\n",
    "    type: {f_type}\n",
    "\"\"\"\n",
    "\n",
    "yaml += \"\"\"required:\n",
    "\"\"\"\n",
    "for feature in schema:\n",
    "    if feature.name == TARGET:\n",
    "        continue\n",
    "    yaml += f\"\"\"- {feature.name}\n",
    "\"\"\"\n",
    "\n",
    "print(yaml)\n",
    "\n",
    "with open(\"schema.yaml\", \"w\") as f:\n",
    "    f.write(yaml)\n",
    "\n",
    "! gsutil cp schema.yaml {BUCKET_URI}/schema.yaml"
   ]
  },
  {
   "cell_type": "markdown",
   "metadata": {
    "id": "82c7e7af7163"
   },
   "source": [
    "创建监控任务\n",
    "\n",
    "您可以使用 `aiplatform.ModelDeploymentMonitoringJob.create()` 方法，根据您的监控规范创建一个监控任务，包括以下参数：\n",
    "\n",
    "- `display_name`：监控任务的可读名称。\n",
    "- `project`：项目 ID。\n",
    "- `region`：地区。\n",
    "- `endpoint`：要启用监控的 `Vertex AI Endpoint` 的完全限定资源名称。\n",
    "- `logging_sampling_strategy`：采样配置的规范。\n",
    "- `schedule_config`：调度配置的规范。\n",
    "- `alert_config`：警报配置的规范。\n",
    "- `objective_configs`：目标配置的规范。\n",
    "- `analysis_instance_schema_uri`：包含 `input schema` 的 YAML 文件的位置。"
   ]
  },
  {
   "cell_type": "code",
   "execution_count": null,
   "metadata": {
    "id": "4b8dd381c5c3"
   },
   "outputs": [],
   "source": [
    "monitoring_job = aiplatform.ModelDeploymentMonitoringJob.create(\n",
    "    display_name=\"churn_\" + UUID,\n",
    "    project=PROJECT_ID,\n",
    "    location=REGION,\n",
    "    endpoint=endpoint,\n",
    "    logging_sampling_strategy=logging_sampling_strategy,\n",
    "    schedule_config=schedule_config,\n",
    "    alert_config=alerting_config,\n",
    "    objective_configs=objective_config,\n",
    "    analysis_instance_schema_uri=f\"{BUCKET_URI}/schema.yaml\",\n",
    ")\n",
    "\n",
    "print(monitoring_job)"
   ]
  },
  {
   "cell_type": "markdown",
   "metadata": {
    "id": "3c6d3b620264"
   },
   "source": [
    "#### 监控作业的电子邮件通知。\n",
    "\n",
    "已向警报配置中的电子邮件地址发送电子邮件通知，通知模型监控作业现在已启用。\n",
    "\n",
    "内容如下：\n",
    "\n",
    "<blockquote>\n",
    "你好，Vertex AI 客户，\n",
    "\n",
    "您收到此邮件是因为您正在使用Vertex AI模型监控服务。\n",
    "此邮件是为了通知您，我们已收到您的请求为以下列出的预测端点设置漂移或偏差检测。从现在开始，传入的预测请求将被抽样并记录以供分析。\n",
    "原始请求和响应将从预测服务收集，并保存在 bq://[您的项目ID].model_deployment_monitoring_[端点ID].serving_predict。\n",
    "</blockquote>"
   ]
  },
  {
   "cell_type": "markdown",
   "metadata": {
    "id": "dcc4aae9e20f"
   },
   "source": [
    "监视作业状态\n",
    "\n",
    "在启动`Vertex AI模型监视`作业之后，直到计算出`偏斜分布基线`之前，作业将处于`PENDING`状态。监视服务将启动一个批处理作业，从训练数据生成分布基线。\n",
    "\n",
    "一旦基线分布生成，监视作业将进入`OFFLINE`状态。按照每个间隔的基础，比如每小时一次，监视作业将进入`RUNNING`状态，同时分析采样数据。完成后，它将返回到`OFFLINE`状态，等待下一次计划的分析。"
   ]
  },
  {
   "cell_type": "code",
   "execution_count": null,
   "metadata": {
    "id": "f640fb7f10cd"
   },
   "outputs": [],
   "source": [
    "jobs = monitoring_job.list(filter=f\"display_name=churn_{UUID}\")\n",
    "job = jobs[0]\n",
    "print(job.state)"
   ]
  },
  {
   "cell_type": "markdown",
   "metadata": {
    "id": "e385d103aba6"
   },
   "source": [
    "### 基线分布的自动生成\n",
    "\n",
    "接下来，监控服务将创建一个批处理作业，对训练数据进行分析以生成基线分布。一旦完成，监控服务将开始按照指定的间隔进行监控。"
   ]
  },
  {
   "cell_type": "code",
   "execution_count": null,
   "metadata": {
    "id": "670b5bc98c2a"
   },
   "outputs": [],
   "source": [
    "import time\n",
    "\n",
    "# Pause a bit for the baseline distribution to be calculated\n",
    "if os.getenv(\"IS_TESTING\"):\n",
    "    time.sleep(300)"
   ]
  },
  {
   "cell_type": "markdown",
   "metadata": {
    "id": "26bac245f6c5"
   },
   "source": [
    "### 生成用于偏斜检测的合成预测请求\n",
    "\n",
    "接下来，您从BigQuery训练表中提取前1000个实例用于预测请求。您修改数据（合成数据）以触发从训练分布到服务分布的预测请求中的偏斜检测，具体操作如下：\n",
    "\n",
    "- `country`：将所有值设为加拿大"
   ]
  },
  {
   "cell_type": "code",
   "execution_count": null,
   "metadata": {
    "id": "cb26c3dea306"
   },
   "outputs": [],
   "source": [
    "# Download the table.\n",
    "table = bigquery.TableReference.from_string(DATASET_BQ_URI[5:])\n",
    "\n",
    "rows = bqclient.list_rows(table, max_results=1000)\n",
    "\n",
    "instances = []\n",
    "for row in rows:\n",
    "    instance = {}\n",
    "    for key, value in row.items():\n",
    "        if key == TARGET:\n",
    "            continue\n",
    "        if value is None:\n",
    "            value = \"\"\n",
    "        if key == \"country\":\n",
    "            value = \"Canada\"\n",
    "        instance[key] = value\n",
    "    instances.append(instance)\n",
    "\n",
    "print(len(instances))"
   ]
  },
  {
   "cell_type": "markdown",
   "metadata": {
    "id": "6d002569dadc"
   },
   "source": [
    "### 发送预测请求\n",
    "\n",
    "接下来，使用`predict()`方法将1000个预测请求发送到您的`Vertex AI Endpoint`资源。"
   ]
  },
  {
   "cell_type": "code",
   "execution_count": null,
   "metadata": {
    "id": "b2d69d89cd66"
   },
   "outputs": [],
   "source": [
    "for instance in instances:\n",
    "    response = endpoint.predict(instances=[instance])\n",
    "\n",
    "prediction = response[0]\n",
    "\n",
    "# print the prediction for the first instance\n",
    "print(prediction[0])"
   ]
  },
  {
   "cell_type": "markdown",
   "metadata": {
    "id": "2b5859ea4ae9"
   },
   "source": [
    "### 记录抽样请求\n",
    "\n",
    "一旦监控服务启动，抽样预测请求将被记录到云存储中。在接下来的监控间隔中，抽样预测将被复制到BigQuery日志表中。一旦条目在BigQuery表中，监控服务将分析抽样数据。\n",
    "\n",
    "接下来，您需要等待第一个记录的条目出现在用于记录预测样本的BigQuery表中。由于您发送了1000个预测请求，抽样率为50%，您应该看到大约500条记录。"
   ]
  },
  {
   "cell_type": "code",
   "execution_count": null,
   "metadata": {
    "id": "bd177a8decbb"
   },
   "outputs": [],
   "source": [
    "while True:\n",
    "    time.sleep(180)\n",
    "\n",
    "    ENDPOINT_ID = endpoint.resource_name.split(\"/\")[-1]\n",
    "\n",
    "    table = bigquery.TableReference.from_string(\n",
    "        f\"{PROJECT_ID}.model_deployment_monitoring_{ENDPOINT_ID}.serving_predict\"\n",
    "    )\n",
    "    rows = bqclient.list_rows(table)\n",
    "    print(rows.total_rows)\n",
    "    if rows.total_rows > 0:\n",
    "        break"
   ]
  },
  {
   "cell_type": "markdown",
   "metadata": {
    "id": "aeaea3a7a194"
   },
   "source": [
    "### 监控中的偏斜检测\n",
    "\n",
    "下一个监控间隔将发生特征输入偏斜检测。在本教程中，您将监控间隔设置为一小时。因此，大约一个小时后，您的监控作业将从“离线”状态变为“运行”状态。在运行时，它将分析在此间隔期间从预测中记录的抽样表，并将它们与基线分布进行比较。\n",
    "\n",
    "分析完成后，监控作业将通过电子邮件通知检测到的偏斜，本例中为“国家”，并且监控作业将进入“离线”状态，直到下一个间隔。\n",
    "\n",
    "#### 等待监控间隔\n",
    "\n",
    "从监控间隔进行分析到收到电子邮件警报可能需要40分钟左右。\n",
    "\n",
    "内容会如下显示：\n",
    "\n",
    "<blockquote>\n",
    "   尊敬的 Vertex AI 客户，\n",
    "\n",
    "您正在接收此邮件是因为您订阅了 Vertex AI 模型监控服务。\n",
    "此邮件仅用于通知您，已检测到您部署的模型中存在一些异常情况，可能需要您的注意。\n",
    "\n",
    "基本信息：\n",
    "\n",
    "终端节点名称：projects/[your-project-id]/locations/us-central1/endpoints/3315907167046860800\n",
    "监控作业：projects/[your-project-id]/locations/us-central1/modelDeploymentMonitoringJobs/8672170640054157312\n",
    "统计和异常根路径（Google Cloud 存储）：gs://cloud-ai-platform-773884b1-2a32-48d6-8b83-c03cde416b68/model_monitoring/job-8672170640054157312\n",
    "BigQuery 命令：SELECT * FROM `bq://[your-project-id].model_deployment_monitoring_3315907167046860800.serving_predict`\n",
    "\n",
    "训练预测偏斜异常（原始特征）：\n",
    "\n",
    "异常报告路径（Google Cloud 存储）：gs://cloud-ai-platform-773884b1-2a32-48d6-8b83-c03cde416b68/model_monitoring/job-8672170640054157312/serving/2022-08-25T00:00/stats_and_anomalies/<deployed-model-id>/anomalies/training_prediction_skew_anomalies\n",
    "\n",
    "有关警报的更多信息，请访问模型监控警报页面。\n",
    "\n",
    "部署模型 ID: <deployed-model-id>\n",
    "\n",
    "特征名称\t异常简要描述\t异常长描述\n",
    "country\t训练和服务之间的 Linfty 距离高\t训练和服务之间的 Linfty 距离为 0.947563（至少保留六个有效数字），高于阈值 0.5。具有最大差异值的特征值为：Canada\n",
    "<blockquote>"
   ]
  },
  {
   "cell_type": "code",
   "execution_count": null,
   "metadata": {
    "id": "b91a0e19ff8b"
   },
   "outputs": [],
   "source": [
    "if os.getenv(\"IS_TESTING\"):\n",
    "    time.sleep(60 * 45)"
   ]
  },
  {
   "cell_type": "markdown",
   "metadata": {
    "id": "555642c341e1"
   },
   "source": [
    "生成用于漂移检测的合成预测请求\n",
    "\n",
    "接下来，您从BigQuery训练表中提取相同的前1000个实例用于预测请求。您修改数据（合成数据）以触发预测请求中的漂移检测，训练分布与服务分布如下：\n",
    "\n",
    "- `cnt_user_engagement`：增加4倍的值。"
   ]
  },
  {
   "cell_type": "code",
   "execution_count": null,
   "metadata": {
    "id": "cb26c3dea306"
   },
   "outputs": [],
   "source": [
    "# Download the table.\n",
    "table = bigquery.TableReference.from_string(DATASET_BQ_URI[5:])\n",
    "\n",
    "rows = bqclient.list_rows(table, max_results=1000)\n",
    "\n",
    "instances = []\n",
    "for row in rows:\n",
    "    instance = {}\n",
    "    for key, value in row.items():\n",
    "        if key == TARGET:\n",
    "            continue\n",
    "        if value is None:\n",
    "            value = \"\"\n",
    "        elif key == \"cnt_user_engagement\":\n",
    "            value = int(value * 4)\n",
    "        instance[key] = value\n",
    "    instances.append(instance)\n",
    "\n",
    "print(len(instances))"
   ]
  },
  {
   "cell_type": "markdown",
   "metadata": {
    "id": "6d002569dadc"
   },
   "source": [
    "生成预测请求\n",
    "\n",
    "接下来，您可以使用`predict()`方法向您的`Vertex AI Endpoint`资源发送1000个预测请求。"
   ]
  },
  {
   "cell_type": "code",
   "execution_count": null,
   "metadata": {
    "id": "b2d69d89cd66"
   },
   "outputs": [],
   "source": [
    "for instance in instances:\n",
    "    response = endpoint.predict(instances=[instance])\n",
    "\n",
    "prediction = response[0]\n",
    "\n",
    "# print the prediction for the first instance\n",
    "print(prediction[0])"
   ]
  },
  {
   "cell_type": "markdown",
   "metadata": {
    "id": "5184c68e4c99"
   },
   "source": [
    "记录抽样请求\n",
    "\n",
    "在下一次监控间隔中，抽样预测结果将被复制到BigQuery日志表中。一旦条目进入BigQuery表中，监控服务将分析抽样数据。\n",
    "\n",
    "接下来，您等待第一个记录条目出现在用于记录预测样本的BigQuery表中。由于您发送了1000个预测请求，采样率为50%，您应该会看到大约1000条记录。"
   ]
  },
  {
   "cell_type": "code",
   "execution_count": null,
   "metadata": {
    "id": "d9a2f9342b06"
   },
   "outputs": [],
   "source": [
    "while True:\n",
    "    time.sleep(180)\n",
    "\n",
    "    ENDPOINT_ID = endpoint.resource_name.split(\"/\")[-1]\n",
    "\n",
    "    table = bigquery.TableReference.from_string(\n",
    "        f\"{PROJECT_ID}.model_deployment_monitoring_{ENDPOINT_ID}.serving_predict\"\n",
    "    )\n",
    "    rows = bqclient.list_rows(table)\n",
    "    print(rows.total_rows)\n",
    "    if rows.total_rows > 550:\n",
    "        break"
   ]
  },
  {
   "cell_type": "markdown",
   "metadata": {
    "id": "683ed0ba4ccd"
   },
   "source": [
    "### 监控过程中的漂移检测\n",
    "\n",
    "特征输入漂移检测将在下一个监控间隔期间发生。在本教程中，您将监控间隔设置为一小时。因此，大约一个小时后，您的监控作业将从“离线”状态变为“运行”状态。在运行时，它将分析此间隔内预测中记录的采样表，并与先前监控间隔的分布进行比较。\n",
    "\n",
    "分析完成后，监控作业将通过电子邮件通知检测到的漂移，即“cnt_user_engagement”，并且监控作业将进入“离线”状态，直到下一个间隔。\n",
    "\n",
    "#### 等待监控间隔\n",
    "\n",
    "从监控间隔上的分析开始到收到电子邮件警报可能需要40分钟甚至更多时间。"
   ]
  },
  {
   "cell_type": "code",
   "execution_count": null,
   "metadata": {
    "id": "2e64ffaae2de"
   },
   "outputs": [],
   "source": [
    "if os.getenv(\"IS_TESTING\"):\n",
    "    time.sleep(60 * 45)"
   ]
  },
  {
   "cell_type": "markdown",
   "metadata": {
    "id": "39cdad8fdcc5"
   },
   "source": [
    "### 删除监控任务\n",
    "\n",
    "您可以使用 `delete()` 方法删除监控任务。"
   ]
  },
  {
   "cell_type": "code",
   "execution_count": null,
   "metadata": {
    "id": "ef1ddc1d6017"
   },
   "outputs": [],
   "source": [
    "monitoring_job.pause()\n",
    "monitoring_job.delete()"
   ]
  },
  {
   "cell_type": "markdown",
   "metadata": {
    "id": "c6280efab664"
   },
   "source": [
    "取消部署并删除“Vertex AI Endpoint”资源\n",
    "\n",
    "您可以使用`delete()`方法删除您的“Vertex AI Endpoint”资源。在删除之前，必须先取消部署到您的“Vertex AI Endpoint”资源的任何模型。"
   ]
  },
  {
   "cell_type": "code",
   "execution_count": null,
   "metadata": {
    "id": "ad0d28b762e5"
   },
   "outputs": [],
   "source": [
    "endpoint.undeploy_all()\n",
    "endpoint.delete()"
   ]
  },
  {
   "cell_type": "markdown",
   "metadata": {
    "id": "18889460bd33"
   },
   "source": [
    "清理\n",
    "\n",
    "要清理此项目中使用的所有谷歌云资源，您可以删除用于本教程的[谷歌云项目](https://cloud.google.com/resource-manager/docs/creating-managing-projects#shutting_down_projects)。\n",
    "\n",
    "否则，您可以删除本教程中创建的各个资源。"
   ]
  },
  {
   "cell_type": "code",
   "execution_count": null,
   "metadata": {
    "id": "c736a6bf1428"
   },
   "outputs": [],
   "source": [
    "delete_bucket = False\n",
    "\n",
    "if delete_bucket or os.getenv(\"IS_TESTING\"):\n",
    "    ! gsutil rm -rf {BUCKET_URI}\n",
    "\n",
    "! rm -f schema.yaml\n",
    "\n",
    "! bq rm -f {PROJECT_ID}.model_deployment_monitoring_{ENDPOINT_ID}"
   ]
  }
 ],
 "metadata": {
  "colab": {
   "collapsed_sections": [],
   "name": "get_started_with_model_monitoring_custom_tf_serving.ipynb",
   "toc_visible": true
  },
  "kernelspec": {
   "display_name": "Python 3",
   "name": "python3"
  }
 },
 "nbformat": 4,
 "nbformat_minor": 0
}
