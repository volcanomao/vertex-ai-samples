{
 "cells": [
  {
   "cell_type": "code",
   "execution_count": null,
   "metadata": {
    "cellView": "form",
    "id": "ur8xi4C7S06n"
   },
   "outputs": [],
   "source": [
    "# @title Copyright & License (click to expand)\n",
    "# Copyright 2022 Google LLC\n",
    "#\n",
    "# Licensed under the Apache License, Version 2.0 (the \"License\");\n",
    "# you may not use this file except in compliance with the License.\n",
    "# You may obtain a copy of the License at\n",
    "#\n",
    "#     https://www.apache.org/licenses/LICENSE-2.0\n",
    "#\n",
    "# Unless required by applicable law or agreed to in writing, software\n",
    "# distributed under the License is distributed on an \"AS IS\" BASIS,\n",
    "# WITHOUT WARRANTIES OR CONDITIONS OF ANY KIND, either express or implied.\n",
    "# See the License for the specific language governing permissions and\n",
    "# limitations under the License."
   ]
  },
  {
   "cell_type": "markdown",
   "metadata": {
    "id": "fsv4jGuU89rX"
   },
   "source": [
    "# GCP上的E2E ML：MLOps阶段7：监控：适用于自定义表格模型的Vertex AI模型监控\n",
    "\n",
    "<table align=\"left\">\n",
    "  <td>\n",
    "    <a href=\"https://colab.research.google.com/github/GoogleCloudPlatform/vertex-ai-samples/blob/main/notebooks/community/ml_ops/stage7/get_started_with_model_monitoring_custom.ipynb\">\n",
    "      <img src=\"https://cloud.google.com/ml-engine/images/colab-logo-32px.png\" alt=\"Colab logo\"> 在Colab中运行\n",
    "    </a>\n",
    "  </td>\n",
    "  <td>\n",
    "    <a href=\"https://github.com/GoogleCloudPlatform/vertex-ai-samples/blob/main/notebooks/community/ml_ops/stage7/get_started_with_model_monitoring_custom.ipynb\">\n",
    "        <img src=\"https://cloud.google.com/ml-engine/images/github-logo-32px.png\" alt=\"GitHub logo\">\n",
    "      在GitHub上查看\n",
    "    </a>\n",
    "  </td> \n",
    "  <td>\n",
    "    <a href=\"https://console.cloud.google.com/vertex-ai/workbench/deploy-notebook?download_url=https://raw.githubusercontent.com/GoogleCloudPlatform/vertex-ai-samples/main/notebooks/community/ml_ops/stage7/get_started_with_model_monitoring_custom.ipynb\">\n",
    "      <img src=\"https://lh3.googleusercontent.com/UiNooY4LUgW_oTvpsNhPpQzsstV5W8F7rYgxgGBD85cWJoLmrOzhVs_ksK_vgx40SHs7jCqkTkCk=e14-rj-sc0xffffff-h130-w32\" alt=\"Vertex AI logo\">\n",
    "      在Vertex AI工作台中打开\n",
    "    </a>\n",
    "  </td>\n",
    "</table>"
   ]
  },
  {
   "cell_type": "markdown",
   "metadata": {
    "id": "lA32H1oKGgpf"
   },
   "source": [
    "## 概述\n",
    "\n",
    "本教程演示了如何为自定义表格模型使用Vertex AI模型监控。"
   ]
  },
  {
   "cell_type": "markdown",
   "metadata": {
    "id": "de998a3953c9"
   },
   "source": [
    "### 目标\n",
    "\n",
    "在这个笔记本中，你将学习如何使用`Vertex AI Model Monitoring`服务来检测自定义表格模型中输入预测请求中的特征偏差和漂移。\n",
    "\n",
    "本教程使用以下 Google Cloud ML 服务：\n",
    "\n",
    "- `Vertex AI Model Monitoring`\n",
    "- `Vertex AI Prediction`\n",
    "- `Vertex AI Model` 资源\n",
    "- `Vertex AI Endpoint` 资源\n",
    "\n",
    "执行的步骤包括：\n",
    "\n",
    "- 下载一个预训练的自定义表格模型。\n",
    "- 将预训练模型上传为`Model`资源。\n",
    "- 将`Model`资源部署到`Endpoint`资源。\n",
    "- 配置`Endpoint`资源进行模型监控。\n",
    "- 生成用于特征偏差的合成预测请求。\n",
    "- 等待电子邮件警报通知。\n",
    "- 生成用于漂移的合成预测请求。\n",
    "- 等待电子邮件警报通知。\n",
    "\n",
    "了解更多关于 [Introduction to Vertex AI Model Monitoring](https://cloud.google.com/vertex-ai/docs/model-monitoring/overview)。"
   ]
  },
  {
   "cell_type": "markdown",
   "metadata": {
    "id": "edba71dc9840"
   },
   "source": [
    "### 模型\n",
    "\n",
    "本教程使用一个预训练的模型，其模型工件存储在公共云存储桶中。\n",
    "\n",
    "该模型基于[博客文章](https://cloud.google.com/blog/topics/developers-practitioners/churn-prediction-game-developers-using-google-analytics-4-ga4-and-bigquery-ml)。该模型背后的理念是您的公司拥有描述玩家如何与网站进行互动的海量日志数据。原始数据包含以下类别的信息：\n",
    "\n",
    "- 身份 - 独特的玩家身份号码\n",
    "- 人口统计特征 - 关于玩家的信息，如玩家所在地理区域\n",
    "- 行为特征 - 玩家触发某些游戏事件的次数，比如达到新的等级\n",
    "- 流失倾向 - 这是标签或目标特征，它提供了玩家可能流失的估计概率，即停止成为活跃玩家。"
   ]
  },
  {
   "cell_type": "markdown",
   "metadata": {
    "id": "t6Cd51FkG09E"
   },
   "source": [
    "### 费用\n",
    "\n",
    "本教程使用 Google Cloud 的可计费组件：\n",
    "\n",
    "* Vertex AI\n",
    "* BigQuery\n",
    "* Cloud Storage\n",
    "\n",
    "了解 [Vertex AI 价格](https://cloud.google.com/vertex-ai/pricing) 和 [Cloud Storage 价格](https://cloud.google.com/storage/pricing)，并使用 [定价计算器](https://cloud.google.com/products/calculator/) 根据您的预期使用量生成成本估算。"
   ]
  },
  {
   "cell_type": "markdown",
   "metadata": {
    "id": "8yVpQt-JHKPF"
   },
   "source": [
    "### 建立您的本地开发环境\n",
    "\n",
    "**如果您正在使用 Colab 或 Vertex AI Workbench 笔记本**，您的环境已经符合运行此笔记本的所有要求。您可以跳过此步骤。\n",
    "\n",
    "**否则**，请确保您的环境符合此笔记本的要求。\n",
    "您需要以下内容：\n",
    "\n",
    "* Google Cloud SDK\n",
    "* Git\n",
    "* Python 3\n",
    "* virtualenv\n",
    "* 在使用 Python 3 的虚拟环境中运行 Jupyter Notebook\n",
    "\n",
    "Google Cloud [设置Python开发环境](https://cloud.google.com/python/setup) 和[Jupyter安装指南](https://jupyter.org/install) 提供了满足这些要求的详细说明。以下步骤提供了一个简明的一套指导：\n",
    "\n",
    "1. [安装并初始化 Cloud SDK。](https://cloud.google.com/sdk/docs/)\n",
    "\n",
    "2. [安装 Python 3。](https://cloud.google.com/python/setup#installing_python)\n",
    "\n",
    "3. [安装 virtualenv](https://cloud.google.com/python/setup#installing_and_using_virtualenv) 并创建一个使用 Python 3 的虚拟环境。激活虚拟环境。\n",
    "\n",
    "4. 要安装 Jupyter，请在终端窗口中的命令行上运行 `pip install jupyter`。\n",
    "\n",
    "5. 要启动 Jupyter，请在终端窗口中的命令行上运行 `jupyter notebook`。\n",
    "\n",
    "6. 在 Jupyter Notebook 仪表板中打开此笔记本。"
   ]
  },
  {
   "cell_type": "markdown",
   "metadata": {
    "id": "f3848df1e5b0"
   },
   "source": [
    "## 安装\n",
    "\n",
    "安装执行此笔记本所需的包。"
   ]
  },
  {
   "cell_type": "code",
   "execution_count": null,
   "metadata": {
    "id": "b24b232ee039"
   },
   "outputs": [],
   "source": [
    "import os\n",
    "import sys\n",
    "\n",
    "assert sys.version_info.major == 3, \"This notebook requires Python 3.\"\n",
    "\n",
    "# The Vertex AI Workbench Notebook product has specific requirements\n",
    "IS_WORKBENCH_NOTEBOOK = os.getenv(\"DL_ANACONDA_HOME\") and not os.getenv(\"VIRTUAL_ENV\")\n",
    "IS_USER_MANAGED_WORKBENCH_NOTEBOOK = os.path.exists(\n",
    "    \"/opt/deeplearning/metadata/env_version\"\n",
    ")\n",
    "\n",
    "# Vertex AI Notebook requires dependencies to be installed with '--user'\n",
    "USER_FLAG = \"\"\n",
    "if IS_WORKBENCH_NOTEBOOK:\n",
    "    USER_FLAG = \"--user\"\n",
    "\n",
    "# Install required packages.\n",
    "! pip3 install {USER_FLAG} --quiet --upgrade google-cloud-aiplatform \\\n",
    "                                             google-cloud-bigquery"
   ]
  },
  {
   "cell_type": "markdown",
   "metadata": {
    "id": "hhq5zEbGg0XX"
   },
   "source": [
    "### 重新启动内核\n",
    "\n",
    "安装完SDK后，您需要重新启动笔记本内核，以便它可以找到这些软件包。您可以通过 *Kernel -> 重新启动内核* 来重新启动内核，或者运行以下命令："
   ]
  },
  {
   "cell_type": "code",
   "execution_count": null,
   "metadata": {
    "id": "EzrelQZ22IZj"
   },
   "outputs": [],
   "source": [
    "# Automatically restart kernel after installs\n",
    "import os\n",
    "\n",
    "if not os.getenv(\"IS_TESTING\"):\n",
    "    # Automatically restart kernel after installs\n",
    "    import IPython\n",
    "\n",
    "    app = IPython.Application.instance()\n",
    "    app.kernel.do_shutdown(True)"
   ]
  },
  {
   "cell_type": "markdown",
   "metadata": {
    "id": "BF1j6f9HApxa"
   },
   "source": [
    "## 准备开始之前\n",
    "\n",
    "### 设置您的谷歌云项目\n",
    "\n",
    "**无论您使用什么笔记本环境，下面的步骤都是必需的。**\n",
    "\n",
    "1. [选择或创建一个谷歌云项目](https://console.cloud.google.com/cloud-resource-manager)。当您首次创建账号时，您会获得$300的免费信用用于支付计算/存储成本。\n",
    "\n",
    "2. [确保为您的项目开启计费](https://cloud.google.com/billing/docs/how-to/modify-project)。\n",
    "\n",
    "3. [启用 Vertex AI API 和 Compute Engine API](https://console.cloud.google.com/flows/enableapi?apiid=aiplatform.googleapis.com,compute_component)。\n",
    "\n",
    "4. 如果您在本地运行此笔记本，您需要安装[Cloud SDK](https://cloud.google.com/sdk)。\n",
    "\n",
    "5. 在下面的单元格中输入您的项目ID。然后运行单元格以确保\n",
    "Cloud SDK在这个笔记本中的所有命令中使用正确的项目。\n",
    "\n",
    "**注意**：Jupyter会运行以`!`为前缀的行作为shell命令，并将以`$`为前缀的Python变量插入这些命令中。"
   ]
  },
  {
   "cell_type": "markdown",
   "metadata": {
    "id": "WReHDGG5g0XY"
   },
   "source": [
    "#### 设置你的项目ID\n",
    "\n",
    "**如果你不知道你的项目ID**，你可以使用 `gcloud` 来获取你的项目ID。"
   ]
  },
  {
   "cell_type": "code",
   "execution_count": null,
   "metadata": {
    "id": "oM1iC_MfAts1"
   },
   "outputs": [],
   "source": [
    "PROJECT_ID = \"[your-project-id]\"  # @param {type:\"string\"}"
   ]
  },
  {
   "cell_type": "code",
   "execution_count": null,
   "metadata": {
    "id": "riG_qUokg0XZ"
   },
   "outputs": [],
   "source": [
    "if PROJECT_ID == \"\" or not PROJECT_ID or PROJECT_ID == \"[your-project-id]\":\n",
    "    PROJECT_ID = \"[your-project-id]\"  # @param {type:\"string\"}\n",
    "    # Get your GCP project id from gcloud\n",
    "    shell_output = ! gcloud config list --format 'value(core.project)' 2>/dev/null\n",
    "    PROJECT_ID = shell_output[0]\n",
    "    print(\"Project ID:\", PROJECT_ID)"
   ]
  },
  {
   "cell_type": "code",
   "execution_count": null,
   "metadata": {
    "id": "09021c90b34c"
   },
   "outputs": [],
   "source": [
    "! gcloud config set project $PROJECT_ID"
   ]
  },
  {
   "cell_type": "markdown",
   "metadata": {
    "id": "region"
   },
   "source": [
    "#### 区域\n",
    "\n",
    "您也可以更改`REGION`变量，在本笔记本的其余部分中使用。以下是Vertex AI支持的区域。\n",
    "\n",
    "- 美洲：`us-central1`\n",
    "- 欧洲：`europe-west4`\n",
    "- 亚太地区：`asia-east1`\n",
    "\n",
    "**对于这个笔记本，我们建议您将区域设置为默认值`us-central1`**。\n",
    "\n",
    "您不能使用多区域存储桶进行Vertex AI训练。并非所有区域都支持所有Vertex AI服务。\n",
    "\n",
    "了解更多关于[Vertex AI区域](https://cloud.google.com/vertex-ai/docs/general/locations)。"
   ]
  },
  {
   "cell_type": "code",
   "execution_count": null,
   "metadata": {
    "id": "nUjIaIu0Kb0-"
   },
   "outputs": [],
   "source": [
    "REGION = \"[your-region]\"  # @param {type: \"string\"}\n",
    "\n",
    "if REGION == \"[your-region]\":\n",
    "    REGION = \"us-central1\""
   ]
  },
  {
   "cell_type": "markdown",
   "metadata": {
    "id": "06571eb4063b"
   },
   "source": [
    "UUID\n",
    "\n",
    "如果您正在进行现场教程会话，则可能正在使用共享测试帐户或项目。为了避免用户在创建的资源之间的名称冲突，您应为每个实例会话创建一个UUID，并将其附加到您在本教程中创建的资源名称上。"
   ]
  },
  {
   "cell_type": "code",
   "execution_count": null,
   "metadata": {
    "id": "4e166d927e36"
   },
   "outputs": [],
   "source": [
    "import random\n",
    "import string\n",
    "\n",
    "\n",
    "# Generate a uuid of a specifed length(default=8)\n",
    "def generate_uuid(length: int = 8) -> str:\n",
    "    return \"\".join(random.choices(string.ascii_lowercase + string.digits, k=length))\n",
    "\n",
    "\n",
    "UUID = generate_uuid()"
   ]
  },
  {
   "cell_type": "markdown",
   "metadata": {
    "id": "42c8a7c56abd"
   },
   "source": [
    "#### 用户邮件\n",
    "设置您的用户邮件地址以接收监控警报。"
   ]
  },
  {
   "cell_type": "code",
   "execution_count": null,
   "metadata": {
    "id": "ce2589511bb6"
   },
   "outputs": [],
   "source": [
    "USER_EMAIL = \"[your-email-address]\"  # @param {type:\"string\"}"
   ]
  },
  {
   "cell_type": "markdown",
   "metadata": {
    "id": "dr--iN2kAylZ"
   },
   "source": [
    "### 验证您的Google Cloud帐户\n",
    "\n",
    "**如果您正在使用Vertex AI Workbench笔记本**，您的环境已经经过验证。\n",
    "\n",
    "**如果您正在使用Colab**，运行下面的单元格，并按提示进行身份验证以通过oAuth验证您的帐户。\n",
    "\n",
    "**否则**，请按照以下步骤操作：\n",
    "\n",
    "1. 在Cloud Console中，转到[**创建服务帐号密钥**页](https://console.cloud.google.com/apis/credentials/serviceaccountkey)。\n",
    "\n",
    "2. 点击**创建服务帐号**。\n",
    "\n",
    "3. 在**服务帐号名称**字段中输入名称，然后点击**创建**。\n",
    "\n",
    "4. 在**授予此服务帐号对项目的访问权限**部分，点击**角色**下拉列表。在过滤框中键入\"Vertex AI\"，并选择**Vertex AI管理员**。在过滤框中键入\"存储对象管理员\"，并选择**存储对象管理员**。\n",
    "\n",
    "5. 点击**创建**。一个包含您密钥的JSON文件将下载到您的本地环境。\n",
    "\n",
    "6. 在下面的单元格中将您的服务帐号密钥的路径作为`GOOGLE_APPLICATION_CREDENTIALS`变量输入，并运行该单元格。"
   ]
  },
  {
   "cell_type": "code",
   "execution_count": null,
   "metadata": {
    "id": "C6H1vZYjvT6w"
   },
   "outputs": [],
   "source": [
    "# If you are running this notebook in Colab, run this cell and follow the\n",
    "# instructions to authenticate your GCP account. This provides access to your\n",
    "# Cloud Storage bucket and lets you submit training jobs and prediction\n",
    "# requests.\n",
    "\n",
    "import os\n",
    "import sys\n",
    "\n",
    "# If on Vertex AI Workbench, then don't execute this code\n",
    "IS_COLAB = \"google.colab\" in sys.modules\n",
    "if not os.path.exists(\"/opt/deeplearning/metadata/env_version\") and not os.getenv(\n",
    "    \"DL_ANACONDA_HOME\"\n",
    "):\n",
    "    if \"google.colab\" in sys.modules:\n",
    "        from google.colab import auth as google_auth\n",
    "\n",
    "        google_auth.authenticate_user()\n",
    "\n",
    "    # If you are running this notebook locally, replace the string below with the\n",
    "    # path to your service account key and run this cell to authenticate your GCP\n",
    "    # account.\n",
    "    elif not os.getenv(\"IS_TESTING\"):\n",
    "        %env GOOGLE_APPLICATION_CREDENTIALS ''"
   ]
  },
  {
   "cell_type": "markdown",
   "metadata": {
    "id": "8RJ3_20etd31"
   },
   "source": [
    "### 关于服务账户和权限的注意事项\n",
    "\n",
    "**默认情况下不需要进行任何配置**，如果遇到任何权限相关的问题，请确保上述的服务账户拥有必要的角色：\n",
    "\n",
    "|服务账户邮箱|描述|角色|\n",
    "|---|---|---|\n",
    "|PROJECT_NUMBER-compute@developer.gserviceaccount.com|Compute Engine 默认服务账户|Dataflow 管理员，Dataflow 工作者，存储管理员，BigQuery 管理员，Vertex AI 用户|\n",
    "|service-PROJECT_NUMBER@gcp-sa-aiplatform.iam.gserviceaccount.com|AI 平台服务代理|Vertex AI 服务代理|\n",
    "\n",
    "1. 前往https://console.cloud.google.com/iam-admin/iam。\n",
    "2. 勾选“包括谷歌提供的角色授予”复选框。\n",
    "3. 找到上述的邮箱。\n",
    "4. 授予相应的角色。\n",
    "\n",
    "### 使用来自不同项目的数据源\n",
    "- 对于BQ数据源，请为两个服务账户授予“BigQuery 数据查看器”角色。\n",
    "- 对于CSV数据源，请为两个服务账户授予“存储对象查看器”角色。"
   ]
  },
  {
   "cell_type": "markdown",
   "metadata": {
    "id": "bucket:custom"
   },
   "source": [
    "### 创建一个云存储桶\n",
    "\n",
    "**无论你使用什么笔记本环境，都需要按照以下步骤操作。**\n",
    "\n",
    "在下面设置你的云存储桶的名称，在本教程中你将使用它来上传监控服务的`输入架构`。\n",
    "\n",
    "存储桶名称必须在所有谷歌云项目中全局唯一，包括组织外的项目。"
   ]
  },
  {
   "cell_type": "code",
   "execution_count": null,
   "metadata": {
    "id": "bucket"
   },
   "outputs": [],
   "source": [
    "BUCKET_NAME = \"[your-bucket-name]\"  # @param {type:\"string\"}\n",
    "BUCKET_URI = f\"gs://{BUCKET_NAME}\""
   ]
  },
  {
   "cell_type": "code",
   "execution_count": null,
   "metadata": {
    "id": "autoset_bucket"
   },
   "outputs": [],
   "source": [
    "if BUCKET_NAME == \"\" or BUCKET_NAME is None or BUCKET_NAME == \"[your-bucket-name]\":\n",
    "    BUCKET_NAME = PROJECT_ID + \"aip-\" + UUID\n",
    "    BUCKET_URI = \"gs://\" + BUCKET_NAME"
   ]
  },
  {
   "cell_type": "markdown",
   "metadata": {
    "id": "create_bucket"
   },
   "source": [
    "只有当您的存储桶不存在时：运行以下单元格以创建您的云存储存储桶。"
   ]
  },
  {
   "cell_type": "code",
   "execution_count": null,
   "metadata": {
    "id": "create_bucket"
   },
   "outputs": [],
   "source": [
    "! gsutil mb -l $REGION $BUCKET_URI"
   ]
  },
  {
   "cell_type": "markdown",
   "metadata": {
    "id": "validate_bucket"
   },
   "source": [
    "最后，通过检查其内容验证对云存储桶的访问。"
   ]
  },
  {
   "cell_type": "code",
   "execution_count": null,
   "metadata": {
    "id": "validate_bucket"
   },
   "outputs": [],
   "source": [
    "! gsutil ls -al $BUCKET_URI"
   ]
  },
  {
   "cell_type": "markdown",
   "metadata": {
    "id": "a0d294ff6d10"
   },
   "source": [
    "### 导入库"
   ]
  },
  {
   "cell_type": "code",
   "execution_count": null,
   "metadata": {
    "id": "bd7a633296eb"
   },
   "outputs": [],
   "source": [
    "import google.cloud.aiplatform as aiplatform\n",
    "from google.cloud import bigquery\n",
    "from google.cloud.aiplatform import model_monitoring"
   ]
  },
  {
   "cell_type": "markdown",
   "metadata": {
    "id": "init_aip:mbsdk,all"
   },
   "source": [
    "### 为 Python 初始化 Vertex AI SDK\n",
    "\n",
    "为您的项目和相应的存储桶初始化 Python 的 Vertex AI SDK。"
   ]
  },
  {
   "cell_type": "code",
   "execution_count": null,
   "metadata": {
    "id": "init_aip:mbsdk,all"
   },
   "outputs": [],
   "source": [
    "aiplatform.init(project=PROJECT_ID, location=REGION)"
   ]
  },
  {
   "cell_type": "markdown",
   "metadata": {
    "id": "init_bq"
   },
   "source": [
    "在本教程中，您将使用与用于训练预训练模型的相同的公共BigQuery表中的数据。您将创建一个客户端接口，随后用于访问数据。"
   ]
  },
  {
   "cell_type": "code",
   "execution_count": null,
   "metadata": {
    "id": "init_bq"
   },
   "outputs": [],
   "source": [
    "bqclient = bigquery.Client(project=PROJECT_ID)"
   ]
  },
  {
   "cell_type": "markdown",
   "metadata": {
    "id": "accelerators:training,prediction"
   },
   "source": [
    "设置硬件加速器\n",
    "\n",
    "您可以为预测（例如，GPU）设置硬件加速器，或选择不使用任何硬件加速器（CPU）。硬件加速器可以降低预测请求的延迟响应。在选择硬件加速器时，请考虑额外成本与延迟之间的权衡。\n",
    "\n",
    "将变量`DEPLOY_GPU/DEPLOY_NGPU`设置为使用支持 GPU 的容器映像以及为虚拟机（VM）实例分配的 GPU 数量。例如，要使用一个 GPU 容器映像，并为每个 VM 分配 4 个 Nvidia Tesla K80 GPU，您需要指定：\n",
    "\n",
    "（aiplatform.gapic.AcceleratorType.NVIDIA_TESLA_K80，4）\n",
    "\n",
    "请参阅[可用加速器的位置](https://cloud.google.com/vertex-ai/docs/general/locations#accelerators)。\n",
    "\n",
    "否则，请指定`(None, None)`以使用一个在 CPU 上运行的容器映像。"
   ]
  },
  {
   "cell_type": "code",
   "execution_count": null,
   "metadata": {
    "id": "xd5PLXDTlugv"
   },
   "outputs": [],
   "source": [
    "GPU = False\n",
    "if GPU:\n",
    "    DEPLOY_GPU, DEPLOY_NGPU = (aiplatform.gapic.AcceleratorType.NVIDIA_TESLA_K80, 1)\n",
    "else:\n",
    "    DEPLOY_GPU, DEPLOY_NGPU = (None, None)"
   ]
  },
  {
   "cell_type": "markdown",
   "metadata": {
    "id": "container:training,prediction"
   },
   "source": [
    "设置预构建的容器\n",
    "\n",
    "设置预构建的Docker容器图像用于预测。\n",
    "\n",
    "要查看最新列表，请访问[预构建的预测容器](https://cloud.google.com/ai-platform-unified/docs/predictions/pre-built-containers)。"
   ]
  },
  {
   "cell_type": "code",
   "execution_count": null,
   "metadata": {
    "id": "1u1mr18jlugv"
   },
   "outputs": [],
   "source": [
    "if GPU:\n",
    "    DEPLOY_VERSION = \"tf2-gpu.2-5\"\n",
    "else:\n",
    "    DEPLOY_VERSION = \"tf2-cpu.2-5\"\n",
    "\n",
    "DEPLOY_IMAGE = \"{}-docker.pkg.dev/vertex-ai/prediction/{}:latest\".format(\n",
    "    REGION.split(\"-\")[0], DEPLOY_VERSION\n",
    ")\n",
    "\n",
    "print(\"Deployment:\", DEPLOY_IMAGE, DEPLOY_GPU, DEPLOY_NGPU)"
   ]
  },
  {
   "cell_type": "markdown",
   "metadata": {
    "id": "machine:training,prediction"
   },
   "source": [
    "#### 设置机器类型\n",
    "\n",
    "接下来，设置用于训练和预测的机器类型。\n",
    "\n",
    "- 将变量`DEPLOY_COMPUTE`设置为配置用于预测的计算资源。\n",
    " - `机器类型`\n",
    "     - `n1-standard`：每个vCPU 3.75GB内存\n",
    "     - `n1-highmem`：每个vCPU 6.5GB内存\n",
    "     - `n1-highcpu`：每个vCPU 0.9GB内存\n",
    " - `vCPUs`：数量为\\[2, 4, 8, 16, 32, 64, 96\\]\n",
    "\n",
    "*注意：您也可以在训练和部署中使用n2和e2机器类型，但它们不支持GPU*。"
   ]
  },
  {
   "cell_type": "code",
   "execution_count": null,
   "metadata": {
    "id": "YAXwbqKKlugv"
   },
   "outputs": [],
   "source": [
    "MACHINE_TYPE = \"n1-standard\"\n",
    "\n",
    "VCPU = \"4\"\n",
    "TRAIN_COMPUTE = MACHINE_TYPE + \"-\" + VCPU\n",
    "print(\"Train machine type\", TRAIN_COMPUTE)\n",
    "\n",
    "MACHINE_TYPE = \"n1-standard\"\n",
    "\n",
    "VCPU = \"4\"\n",
    "DEPLOY_COMPUTE = MACHINE_TYPE + \"-\" + VCPU\n",
    "print(\"Deploy machine type\", DEPLOY_COMPUTE)"
   ]
  },
  {
   "cell_type": "markdown",
   "metadata": {
    "id": "b890e02cb4b0"
   },
   "source": [
    "## 介绍顶点AI模型监控\n",
    "\n",
    "顶点AI模型监控支持AutoML表格模型和自定义表格模型。您可以监控入站预测请求中特征的偏差和漂移检测，也可以监控出站预测响应中特征归因（可解释AI）的偏差和漂移检测--即特征归因对输出（预测）的贡献分布。\n",
    "\n",
    "以下是启用模型监控的基本步骤：\n",
    "\n",
    "1. 将`顶点AI` AutoML或自定义表格模型部署到` Vertex AI Endpoint`。\n",
    "2. 配置模型监控规范。\n",
    "3. 将模型监控规范上传到`顶点AI Endpoint`。\n",
    "4. 上传或自动生成`输入模式`以进行解析。\n",
    "5. 对于特征偏差检测，上传训练数据以自动生成特征分布。\n",
    "6. 对于特征归因，上传相应的`Vertex AI可解释性`规范。\n",
    "\n",
    "配置完成后，您可以启用/禁用监控，更改警报并更新模型监控配置。\n",
    "\n",
    "启用模型监控后，采样的传入预测请求将被记录到BigQuery表中。然后，对记录的请求中包含的输入特征值进行分析，以检查其是否存在倾斜或漂移，检查间隔由指定的时间间隔进行。您可以设置采样率以监视模型的生产输入的子集，以及监视间隔。\n",
    "\n",
    "模型监控服务需要知道如何解析特征值，这称为输入模式。对于AutoML表格模型，输入模式会自动生成。对于自定义表格模型，服务将尝试从前1000个预测请求中自动生成输入模式。或者，您可以上传输入模式。\n",
    "\n",
    "对于偏差检测，监控服务需要训练数据中值的统计分布基线。对于AutoML表格模型，这是自动生成的。对于自定义表格模型，您需要上传训练数据到服务，并让服务自动推导分布。\n",
    "\n",
    "对于特征归因偏差和漂移检测，需要为自定义表格模型启用`Vertex AI可解释性`。对于AutoML模型，`Vertex AI可解释性`会自动启用。\n",
    "\n",
    "了解更多关于[顶点AI模型监控介绍](https://cloud.google.com/vertex-ai/docs/model-monitoring/overview)。"
   ]
  },
  {
   "cell_type": "markdown",
   "metadata": {
    "id": "9bf06cd476e9"
   },
   "source": [
    "### 将模型工件上传为`Vertex AI Model`资源\n",
    "\n",
    "首先，您可以使用`upload()`方法上传预训练的自定义表格模型工件作为`Vertex AI Model`资源，具有以下参数：\n",
    "\n",
    "- `display_name`：`Model`资源的可读名称。\n",
    "- `artifact_uri`：模型工件的云存储位置。\n",
    "- `serving_container_image`：将模型部署到`Vertex AI Endpoint`资源时要使用的服务容器镜像。\n",
    "- `sync`：是否等待进程完成，或立即返回（异步）。"
   ]
  },
  {
   "cell_type": "code",
   "execution_count": null,
   "metadata": {
    "id": "0193f247e216"
   },
   "outputs": [],
   "source": [
    "MODEL_ARTIFACT_URI = \"gs://mco-mm/churn\"\n",
    "\n",
    "model = aiplatform.Model.upload(\n",
    "    display_name=\"churn_\" + UUID,\n",
    "    artifact_uri=MODEL_ARTIFACT_URI,\n",
    "    serving_container_image_uri=DEPLOY_IMAGE,\n",
    "    sync=True,\n",
    ")\n",
    "\n",
    "print(model)"
   ]
  },
  {
   "cell_type": "markdown",
   "metadata": {
    "id": "1069c6f0eba8"
   },
   "source": [
    "### 将`Vertex AI Model`资源部署到`Vertex AI Endpoint`资源\n",
    "\n",
    "接下来，您可以使用`deploy()`方法将您的`Vertex AI Model`资源部署到`Vertex AI Endpoint`资源，使用以下参数：\n",
    "\n",
    "- `deploy_model_display`：部署模型的人类可读名称。\n",
    "- `machine_type`：每个VM节点实例的机器类型。\n",
    "- `min_replica_count`：为自动扩展而提供的节点的最小数量。\n",
    "- `max_replica_count`：为自动扩展而提供的节点的最大数量。\n",
    "- `accelerator_type`：每个提供的节点的GPU加速器的类型（如果有）。\n",
    "- `accelerator_count`：每个提供的节点的GPU加速器的数量（如果有）。"
   ]
  },
  {
   "cell_type": "code",
   "execution_count": null,
   "metadata": {
    "id": "b883402dda8c"
   },
   "outputs": [],
   "source": [
    "MIN_NODES = 1\n",
    "MAX_NODES = 1\n",
    "\n",
    "if GPU:\n",
    "    endpoint = model.deploy(\n",
    "        deployed_model_display_name=\"churn_\" + UUID,\n",
    "        machine_type=DEPLOY_COMPUTE,\n",
    "        min_replica_count=MIN_NODES,\n",
    "        max_replica_count=MAX_NODES,\n",
    "        accelerator_type=DEPLOY_GPU.name,\n",
    "        accelerator_count=DEPLOY_NGPU,\n",
    "    )\n",
    "else:\n",
    "    endpoint = model.deploy(\n",
    "        deployed_model_display_name=\"churn_\" + UUID,\n",
    "        machine_type=DEPLOY_COMPUTE,\n",
    "        min_replica_count=MIN_NODES,\n",
    "        max_replica_count=MAX_NODES,\n",
    "    )"
   ]
  },
  {
   "cell_type": "markdown",
   "metadata": {
    "id": "ba4a2924aec6"
   },
   "source": [
    "## 配置监控任务\n",
    "\n",
    "配置监控任务包括以下规格：\n",
    "\n",
    "- `alert_config`：发送监控警报的电子邮件地址。\n",
    "- `schedule_config`：分析预测的时间窗口。\n",
    "- `logging_sampling_strategy`：采样预测请求的速率。\n",
    "- `drift_config`：要监控的特征和漂移阈值。\n",
    "- `skew_config`：要监控的特征和偏斜阈值。"
   ]
  },
  {
   "cell_type": "markdown",
   "metadata": {
    "id": "87abd93294c4"
   },
   "source": [
    "### 配置警报规范\n",
    "\n",
    "首先，您可以使用以下设置配置`alerting_config`规范:\n",
    "\n",
    "- `user_emails`: 一个或多个要发送警报的电子邮件列表。\n",
    "- `enable_logging`: 将检测到的异常流式传输到Cloud Logging。默认为False。"
   ]
  },
  {
   "cell_type": "code",
   "execution_count": null,
   "metadata": {
    "id": "be6137df0086"
   },
   "outputs": [],
   "source": [
    "# Create alerting configuration.\n",
    "alerting_config = model_monitoring.EmailAlertConfig(\n",
    "    user_emails=[USER_EMAIL], enable_logging=True\n",
    ")"
   ]
  },
  {
   "cell_type": "markdown",
   "metadata": {
    "id": "66c7283276bc"
   },
   "source": [
    "### 配置监控间隔规范\n",
    "\n",
    "接下来，您需要使用以下设置配置`schedule_config`规范：\n",
    "\n",
    "- `monitor_interval`:设置模型监控作业的调度间隔，单位为小时。最小时间间隔为1小时。"
   ]
  },
  {
   "cell_type": "code",
   "execution_count": null,
   "metadata": {
    "id": "1230b92d1eed"
   },
   "outputs": [],
   "source": [
    "# Monitoring Interval\n",
    "MONITOR_INTERVAL = 1  # @param {type:\"number\"}\n",
    "\n",
    "# Create schedule configuration\n",
    "schedule_config = model_monitoring.ScheduleConfig(monitor_interval=MONITOR_INTERVAL)"
   ]
  },
  {
   "cell_type": "markdown",
   "metadata": {
    "id": "3bd8dd304191"
   },
   "source": [
    "### 配置采样规范\n",
    "\n",
    "接下来，您可以使用以下设置配置`logging_sampling_strategy`规范：\n",
    "\n",
    "- `sample_rate`：作为百分比（介于0和1之间）的速率，用于随机采样监控中的预测请求。所选样本将被记录到BigQuery表中。"
   ]
  },
  {
   "cell_type": "code",
   "execution_count": null,
   "metadata": {
    "id": "3688c245a0e9"
   },
   "outputs": [],
   "source": [
    "# Sampling rate (optional, default=.8)\n",
    "SAMPLE_RATE = 0.5  # @param {type:\"number\"}\n",
    "\n",
    "# Create sampling configuration\n",
    "logging_sampling_strategy = model_monitoring.RandomSampleConfig(sample_rate=SAMPLE_RATE)"
   ]
  },
  {
   "cell_type": "markdown",
   "metadata": {
    "id": "c1bc3bc8992f"
   },
   "source": [
    "### 配置漂移检测规范\n",
    "\n",
    "接下来，您可以使用以下设置配置`drift_config`规范：\n",
    "\n",
    "- `drift_thresholds`：一个键/值对的字典，其中键是用于监视漂移的输入特征。 值是检测阈值。 如果未指定，默认漂移特征的阈值为0.3（30％）。\n",
    "\n",
    "*注意：* 启用漂移检测是可选的。"
   ]
  },
  {
   "cell_type": "code",
   "execution_count": null,
   "metadata": {
    "id": "128bdc05cb5b"
   },
   "outputs": [],
   "source": [
    "DRIFT_THRESHOLD_VALUE = 0.05\n",
    "\n",
    "DRIFT_THRESHOLDS = {\n",
    "    \"country\": DRIFT_THRESHOLD_VALUE,\n",
    "    \"cnt_user_engagement\": DRIFT_THRESHOLD_VALUE,\n",
    "}\n",
    "\n",
    "drift_config = model_monitoring.DriftDetectionConfig(drift_thresholds=DRIFT_THRESHOLDS)"
   ]
  },
  {
   "cell_type": "markdown",
   "metadata": {
    "id": "651b576aa037"
   },
   "source": [
    "### 配置偏斜检测规范\n",
    "\n",
    "接下来，您将使用以下设置配置 `skew_config` 规范：\n",
    "\n",
    "- `data_source`：原始训练数据集的数据源。数据源的格式默认为 BigQuery 表。否则，必须将设置 `data_format`设置为以下值之一。数据的位置必须是云存储位置。\n",
    "  - `csv`： \n",
    "  - `jsonl`：\n",
    "  - `tf-record`：\n",
    "- `skew_thresholds`：一个键/值对字典，其中键是要监视偏斜的输入特征。值是检测阈值。如果未指定，特征的默认偏斜阈值为 0.3（30%）。\n",
    "- `target_field`：训练数据集的目标标签\n",
    "\n",
    "*备注：* 启用偏斜检测是可选的。"
   ]
  },
  {
   "cell_type": "code",
   "execution_count": null,
   "metadata": {
    "id": "4cb098c74d2c"
   },
   "outputs": [],
   "source": [
    "# URI to training dataset.\n",
    "DATASET_BQ_URI = \"bq://mco-mm.bqmlga4.train\"  # @param {type:\"string\"}\n",
    "# Prediction target column name in training dataset.\n",
    "TARGET = \"churned\"\n",
    "\n",
    "SKEW_THRESHOLD_VALUE = 0.5\n",
    "\n",
    "SKEW_THRESHOLDS = {\n",
    "    \"country\": SKEW_THRESHOLD_VALUE,\n",
    "    \"cnt_user_engagement\": SKEW_THRESHOLD_VALUE,\n",
    "}\n",
    "\n",
    "skew_config = model_monitoring.SkewDetectionConfig(\n",
    "    data_source=DATASET_BQ_URI, skew_thresholds=SKEW_THRESHOLDS, target_field=TARGET\n",
    ")"
   ]
  },
  {
   "cell_type": "markdown",
   "metadata": {
    "id": "8b6d5bd71ac9"
   },
   "source": [
    "### 组装目标规范\n",
    "\n",
    "最后，您将使用以下设置组装目标规范`objective_config`：\n",
    "\n",
    "- `skew_detection_config`：（可选）倾斜检测配置的规范。\n",
    "- `drift_detection_config`：（可选）漂移检测配置的规范。\n",
    "- `explanation_config`：（可选）在启用特征归因监控时解释的规范。"
   ]
  },
  {
   "cell_type": "code",
   "execution_count": null,
   "metadata": {
    "id": "d353205a8aec"
   },
   "outputs": [],
   "source": [
    "objective_config = model_monitoring.ObjectiveConfig(\n",
    "    skew_detection_config=skew_config,\n",
    "    drift_detection_config=drift_config,\n",
    "    explanation_config=None,\n",
    ")"
   ]
  },
  {
   "cell_type": "markdown",
   "metadata": {
    "id": "8ac30ffa72b5"
   },
   "source": [
    "### 创建输入模式\n",
    "\n",
    "监控服务需要了解模型的特征和数据类型的输入特征，这被称为`输入模式`。`输入模式`可以通过以下方式之一来实现：\n",
    "- 预加载到监控服务中。\n",
    "- 在接收到前1000个预测实例后，由监控服务自动生成。\n",
    "\n",
    "在本教程中，您将预加载`输入模式`。\n",
    "\n",
    "#### 创建预定义的输入模式\n",
    "\n",
    "预定义的`输入模式`是指定为YAML文件的。在此示例中，您将检索用于训练数据的BigQuery模式，其中包括特征名称和数据类型，以生成YAML规范。预定义的`输入模式`必须加载到Cloud Storage位置。\n",
    "\n",
    "了解有关[用于解析输入的自定义实例模式](https://cloud.google.com/vertex-ai/docs/model-monitoring/overview#custom-input-schemas)的更多信息。"
   ]
  },
  {
   "cell_type": "code",
   "execution_count": null,
   "metadata": {
    "id": "59becb56ad34"
   },
   "outputs": [],
   "source": [
    "# Get the BQ table\n",
    "\n",
    "table = bigquery.TableReference.from_string(DATASET_BQ_URI[5:])\n",
    "bq_table = bqclient.get_table(table)\n",
    "\n",
    "yaml = \"\"\"type: object\n",
    "properties:\n",
    "\"\"\"\n",
    "\n",
    "schema = bq_table.schema\n",
    "for feature in schema:\n",
    "    if feature.name == TARGET:\n",
    "        continue\n",
    "    if feature.field_type == \"STRING\":\n",
    "        f_type = \"string\"\n",
    "    else:\n",
    "        f_type = \"integer\"\n",
    "    yaml += f\"\"\"  {feature.name}:\n",
    "    type: {f_type}\n",
    "\"\"\"\n",
    "\n",
    "yaml += \"\"\"required:\n",
    "\"\"\"\n",
    "for feature in schema:\n",
    "    if feature.name == TARGET:\n",
    "        continue\n",
    "    yaml += f\"\"\"- {feature.name}\n",
    "\"\"\"\n",
    "\n",
    "print(yaml)\n",
    "\n",
    "with open(\"schema.yaml\", \"w\") as f:\n",
    "    f.write(yaml)\n",
    "\n",
    "! gsutil cp schema.yaml {BUCKET_URI}/schema.yaml"
   ]
  },
  {
   "cell_type": "markdown",
   "metadata": {
    "id": "82c7e7af7163"
   },
   "source": [
    "### 创建监控作业\n",
    "\n",
    "您可以使用`aiplatform.ModelDeploymentMonitoringJob.create()`方法，根据您的监控规范，创建一个监控作业，指定以下参数：\n",
    "\n",
    "- `display_name`：监控作业的可读名称。\n",
    "- `project`：项目ID。\n",
    "- `region`：地区。\n",
    "- `endpoint`：要启用监控的`Vertex AI Endpoint`的完全限定资源名称。\n",
    "- `logging_sampling_strategy`：采样配置的规范。\n",
    "- `schedule_config`：调度配置的规范。\n",
    "- `alert_config`：警报配置的规范。\n",
    "- `objective_configs`：目标配置的规范。\n",
    "- `analysis_instance_schema_uri`：包含`输入模式`的YAML文件的位置。"
   ]
  },
  {
   "cell_type": "code",
   "execution_count": null,
   "metadata": {
    "id": "4b8dd381c5c3"
   },
   "outputs": [],
   "source": [
    "monitoring_job = aiplatform.ModelDeploymentMonitoringJob.create(\n",
    "    display_name=\"churn_\" + UUID,\n",
    "    project=PROJECT_ID,\n",
    "    location=REGION,\n",
    "    endpoint=endpoint,\n",
    "    logging_sampling_strategy=logging_sampling_strategy,\n",
    "    schedule_config=schedule_config,\n",
    "    alert_config=alerting_config,\n",
    "    objective_configs=objective_config,\n",
    "    analysis_instance_schema_uri=f\"{BUCKET_URI}/schema.yaml\",\n",
    ")\n",
    "\n",
    "print(monitoring_job)"
   ]
  },
  {
   "cell_type": "markdown",
   "metadata": {
    "id": "3c6d3b620264"
   },
   "source": [
    "#### 监控作业的电子邮件通知。\n",
    "\n",
    "在警报配置中提供的电子邮件地址会收到一封电子邮件通知，通知模型监控作业现已启用。\n",
    "\n",
    "内容如下：\n",
    "\n",
    "您好，Vertex AI客户，\n",
    "\n",
    "您收到此邮件是因为您正在使用Vertex AI模型监控服务。\n",
    "此邮件是为了通知您，我们已收到您的请求，为下面列出的预测端点设置漂移或偏差检测。从现在开始，传入的预测请求将被抽样并记录以供分析。\n",
    "原始请求和响应将从预测服务中收集，并保存在bq：//[your-project-id].model_deployment_monitoring_[endpoint-id].serving_predict中。"
   ]
  },
  {
   "cell_type": "markdown",
   "metadata": {
    "id": "dcc4aae9e20f"
   },
   "source": [
    "#### 监控工作状态\n",
    "\n",
    "启动 `Vertex AI Model Monitoring` 作业后，直到计算出 `偏斜分布基线` 为止，它将处于 `待定` 状态。监控服务将启动一个批处理作业，从训练数据中生成分布基线。\n",
    "\n",
    "一旦生成了基线分布，监控作业将进入 `离线` 状态。按照每个时间间隔的基础，例如每小时一次，监控作业在分析采样数据时会进入 `运行` 状态。分析完成后，它将返回到 `离线` 状态，等待下一次计划的分析。"
   ]
  },
  {
   "cell_type": "code",
   "execution_count": null,
   "metadata": {
    "id": "f640fb7f10cd"
   },
   "outputs": [],
   "source": [
    "jobs = monitoring_job.list(filter=f\"display_name=churn_{UUID}\")\n",
    "job = jobs[0]\n",
    "print(job.state)"
   ]
  },
  {
   "cell_type": "markdown",
   "metadata": {
    "id": "e385d103aba6"
   },
   "source": [
    "### 基准分布的自动生成\n",
    "\n",
    "接下来，监控服务将创建一个批处理作业来分析训练数据，以生成基准分布。一旦完成，监控服务将开始按指定的间隔进行监视。"
   ]
  },
  {
   "cell_type": "code",
   "execution_count": null,
   "metadata": {
    "id": "670b5bc98c2a"
   },
   "outputs": [],
   "source": [
    "import time\n",
    "\n",
    "# Pause a bit for the baseline distribution to be calculated\n",
    "if os.getenv(\"IS_TESTING\"):\n",
    "    time.sleep(180)"
   ]
  },
  {
   "cell_type": "markdown",
   "metadata": {
    "id": "26bac245f6c5"
   },
   "source": [
    "### 生成用于倾斜检测的合成预测请求\n",
    "\n",
    "接下来，您从BigQuery培训表中提取前1000个实例以用于预测请求。您修改数据（合成数据）以触发预测请求中的倾斜检测，即训练分布与服务分布之间的差异如下：\n",
    "\n",
    "- `country`：将所有值设置为加拿大"
   ]
  },
  {
   "cell_type": "code",
   "execution_count": null,
   "metadata": {
    "id": "cb26c3dea306"
   },
   "outputs": [],
   "source": [
    "# Download the table.\n",
    "table = bigquery.TableReference.from_string(DATASET_BQ_URI[5:])\n",
    "\n",
    "rows = bqclient.list_rows(table, max_results=1000)\n",
    "\n",
    "instances = []\n",
    "for row in rows:\n",
    "    instance = {}\n",
    "    for key, value in row.items():\n",
    "        if key == TARGET:\n",
    "            continue\n",
    "        if value is None:\n",
    "            value = \"\"\n",
    "        if key == \"country\":\n",
    "            value = \"Canada\"\n",
    "        instance[key] = value\n",
    "    instances.append(instance)\n",
    "\n",
    "print(len(instances))"
   ]
  },
  {
   "cell_type": "markdown",
   "metadata": {
    "id": "6d002569dadc"
   },
   "source": [
    "### 发出预测请求\n",
    "\n",
    "接下来，使用`predict()`方法向您的`Vertex AI Endpoint`资源发送1000个预测请求。"
   ]
  },
  {
   "cell_type": "code",
   "execution_count": null,
   "metadata": {
    "id": "b2d69d89cd66"
   },
   "outputs": [],
   "source": [
    "for instance in instances:\n",
    "    response = endpoint.predict(instances=[instance])\n",
    "\n",
    "prediction = response[0]\n",
    "\n",
    "# print the prediction for the first instance\n",
    "print(prediction[0])"
   ]
  },
  {
   "cell_type": "markdown",
   "metadata": {
    "id": "2b5859ea4ae9"
   },
   "source": [
    "### 记录抽样请求\n",
    "\n",
    "一旦监控服务开始运行，抽样预测请求将被记录到云存储中。在下一个监控间隔期间，抽样预测将被复制到BigQuery日志表中。一旦条目在BigQuery表中，监控服务将分析抽样数据。\n",
    "\n",
    "接下来，您需要等待第一个记录的条目出现在用于记录预测样本的BigQuery表中。由于您发送了1000个预测请求，采样率为50%，您应该看到大约500条记录。"
   ]
  },
  {
   "cell_type": "code",
   "execution_count": null,
   "metadata": {
    "id": "bd177a8decbb"
   },
   "outputs": [],
   "source": [
    "while True:\n",
    "    time.sleep(180)\n",
    "\n",
    "    ENDPOINT_ID = endpoint.resource_name.split(\"/\")[-1]\n",
    "\n",
    "    table = bigquery.TableReference.from_string(\n",
    "        f\"{PROJECT_ID}.model_deployment_monitoring_{ENDPOINT_ID}.serving_predict\"\n",
    "    )\n",
    "    rows = bqclient.list_rows(table)\n",
    "    print(rows.total_rows)\n",
    "    if rows.total_rows > 0:\n",
    "        break"
   ]
  },
  {
   "cell_type": "markdown",
   "metadata": {
    "id": "aeaea3a7a194"
   },
   "source": [
    "### 在监视过程中进行偏斜检测\n",
    "\n",
    "特征输入偏斜检测将在下一个监控间隔发生。在本教程中，您将将监控间隔设置为一小时。因此，大约一个小时后，您的监视作业将从“离线”状态变为“运行”状态。在运行时，它将分析在此间隔内预测中记录的采样表，并将其与基准分布进行比较。\n",
    "\n",
    "分析完成后，监视作业将通过电子邮件通知检测到的偏斜，本例中为“国家”，监视作业将进入“离线”状态，直到下一个间隔。\n",
    "\n",
    "#### 等待监视间隔\n",
    "\n",
    "从监视间隔上的分析发生到收到电子邮件警报，可能需要高达40分钟。\n",
    "\n",
    "邮件内容将如下所示：\n",
    "\n",
    "<blockquote>\n",
    "   你好，Vertex AI客户，\n",
    "\n",
    "您收到此邮件是因为您正在订阅Vertex AI模型监控服务。这封邮件仅仅是通知您，检测到了您部署的模型中的一些异常情况，可能需要您的关注。\n",
    "\n",
    "基本信息:\n",
    "终端名称: projects/[your-project-id]/locations/us-central1/endpoints/3315907167046860800\n",
    "监视作业: projects/[your-project-id]/locations/us-central1/modelDeploymentMonitoringJobs/8672170640054157312\n",
    "统计数据和异常根路径(Google Cloud存储): gs://cloud-ai-platform-773884b1-2a32-48d6-8b83-c03cde416b68/model_monitoring/job-8672170640054157312\n",
    "BigQuery命令: SELECT * FROM `bq://[your-project-id].model_deployment_monitoring_3315907167046860800.serving_predict`\n",
    "\n",
    "训练预测偏斜异常 (原始特征):\n",
    "异常报告路径(Google Cloud存储): gs://cloud-ai-platform-773884b1-2a32-48d6-8b83-c03cde416b68/model_monitoring/job-8672170640054157312/serving/2022-08-25T00:00/stats_and_anomalies/<deployed-model-id>/anomalies/training_prediction_skew_anomalies\n",
    "\n",
    "有关警报的更多信息，请访问模型监控警报页面。\n",
    "\n",
    "部署的模型ID: <deployed-model-id>\n",
    "\n",
    "特征名称\t异常短描述\t异常长描述\n",
    "国家\t训练和服务之间的高Linfty距离\tLinfty距离在0.947563（高达六位有效数字）以上阈值0.5之上。具有最大差异的特征值为：加拿大\n",
    "<blockquote>"
   ]
  },
  {
   "cell_type": "code",
   "execution_count": null,
   "metadata": {
    "id": "b91a0e19ff8b"
   },
   "outputs": [],
   "source": [
    "if os.getenv(\"IS_TESTING\"):\n",
    "    time.sleep(60 * 45)"
   ]
  },
  {
   "cell_type": "markdown",
   "metadata": {
    "id": "555642c341e1"
   },
   "source": [
    "### 生成用于漂移检测的合成预测请求\n",
    "\n",
    "接下来，您从BigQuery训练表中提取相同的前1000个实例，用于预测请求。您修改数据（合成数据）以触发预测请求中的漂移检测，训练分布与服务分布如下：\n",
    "\n",
    "- `cnt_user_engagement`：将值增加4倍。"
   ]
  },
  {
   "cell_type": "code",
   "execution_count": null,
   "metadata": {
    "id": "cb26c3dea306"
   },
   "outputs": [],
   "source": [
    "# Download the table.\n",
    "table = bigquery.TableReference.from_string(DATASET_BQ_URI[5:])\n",
    "\n",
    "rows = bqclient.list_rows(table, max_results=1000)\n",
    "\n",
    "instances = []\n",
    "for row in rows:\n",
    "    instance = {}\n",
    "    for key, value in row.items():\n",
    "        if key == TARGET:\n",
    "            continue\n",
    "        if value is None:\n",
    "            value = \"\"\n",
    "        elif key == \"cnt_user_engagement\":\n",
    "            value = int(value * 4)\n",
    "        instance[key] = value\n",
    "    instances.append(instance)\n",
    "\n",
    "print(len(instances))"
   ]
  },
  {
   "cell_type": "markdown",
   "metadata": {
    "id": "6d002569dadc"
   },
   "source": [
    "### 发送预测请求\n",
    "\n",
    "接下来，您可以使用`predict()`方法将1000个预测请求发送到您的`Vertex AI Endpoint`资源。"
   ]
  },
  {
   "cell_type": "code",
   "execution_count": null,
   "metadata": {
    "id": "b2d69d89cd66"
   },
   "outputs": [],
   "source": [
    "for instance in instances:\n",
    "    response = endpoint.predict(instances=[instance])\n",
    "\n",
    "prediction = response[0]\n",
    "\n",
    "# print the prediction for the first instance\n",
    "print(prediction[0])"
   ]
  },
  {
   "cell_type": "markdown",
   "metadata": {
    "id": "5184c68e4c99"
   },
   "source": [
    "### 记录取样请求\n",
    "\n",
    "在接下来的监控间隔内，取样预测结果将被复制到BigQuery的日志表中。一旦这些条目进入BigQuery表中，监控服务将分析取样数据。\n",
    "\n",
    "接下来，您等待第一个记录的条目在用于记录预测样本的BigQuery表中出现。由于您发送了1000个预测请求，采样率为50%，因此您应该看到大约1000个条目。"
   ]
  },
  {
   "cell_type": "code",
   "execution_count": null,
   "metadata": {
    "id": "d9a2f9342b06"
   },
   "outputs": [],
   "source": [
    "while True:\n",
    "    time.sleep(180)\n",
    "\n",
    "    ENDPOINT_ID = endpoint.resource_name.split(\"/\")[-1]\n",
    "\n",
    "    table = bigquery.TableReference.from_string(\n",
    "        f\"{PROJECT_ID}.model_deployment_monitoring_{ENDPOINT_ID}.serving_predict\"\n",
    "    )\n",
    "    rows = bqclient.list_rows(table)\n",
    "    print(rows.total_rows)\n",
    "    if rows.total_rows > 550:\n",
    "        break"
   ]
  },
  {
   "cell_type": "markdown",
   "metadata": {
    "id": "683ed0ba4ccd"
   },
   "source": [
    "### 监控中的漂移检测\n",
    "\n",
    "特征输入漂移检测将在下一个监控间隔发生。在本教程中，您将监控间隔设置为一小时。因此，大约一个小时后，您的监控作业将从“离线”状态变为“运行”状态。在运行时，它将分析此间隔内预测的已记录采样表，并将其与先前监测间隔的分布进行比较。\n",
    "\n",
    "分析完成后，监控作业将通过电子邮件通知检测到的漂移，本例中为`cnt_user_engagement`，并且监控作业将进入“离线”状态，直到下一个间隔。\n",
    "\n",
    "#### 等待监控间隔\n",
    "\n",
    "从分析所发生的监控间隔到收到电子邮件警报可能需要多达40分钟。"
   ]
  },
  {
   "cell_type": "code",
   "execution_count": null,
   "metadata": {
    "id": "2e64ffaae2de"
   },
   "outputs": [],
   "source": [
    "if os.getenv(\"IS_TESTING\"):\n",
    "    time.sleep(60 * 45)"
   ]
  },
  {
   "cell_type": "markdown",
   "metadata": {
    "id": "39cdad8fdcc5"
   },
   "source": [
    "### 删除监控任务\n",
    "\n",
    "您可以使用`delete()`方法来删除监控任务。"
   ]
  },
  {
   "cell_type": "code",
   "execution_count": null,
   "metadata": {
    "id": "ef1ddc1d6017"
   },
   "outputs": [],
   "source": [
    "monitoring_job.pause()\n",
    "monitoring_job.delete()"
   ]
  },
  {
   "cell_type": "markdown",
   "metadata": {
    "id": "c6280efab664"
   },
   "source": [
    "#### 取消部署和删除`Vertex AI Endpoint`资源\n",
    "\n",
    "您可以使用`delete()`方法删除您的`Vertex AI Endpoint`资源。在删除之前，必须先取消部署到您的`Vertex AI Endpoint`资源的任何模型。"
   ]
  },
  {
   "cell_type": "code",
   "execution_count": null,
   "metadata": {
    "id": "ad0d28b762e5"
   },
   "outputs": [],
   "source": [
    "endpoint.undeploy_all()\n",
    "endpoint.delete()"
   ]
  },
  {
   "cell_type": "markdown",
   "metadata": {
    "id": "18889460bd33"
   },
   "source": [
    "清理工作\n",
    "\n",
    "要清理此项目中使用的所有Google Cloud资源，您可以[删除您用于本教程的Google Cloud项目](https://cloud.google.com/resource-manager/docs/creating-managing-projects#shutting_down_projects)。\n",
    "\n",
    "否则，您可以删除此教程中创建的各个资源。"
   ]
  },
  {
   "cell_type": "code",
   "execution_count": null,
   "metadata": {
    "id": "c736a6bf1428"
   },
   "outputs": [],
   "source": [
    "delete_bucket = False\n",
    "\n",
    "if delete_bucket or os.getenv(\"IS_TESTING\"):\n",
    "    ! gsutil rm -rf {BUCKET_URI}\n",
    "\n",
    "! rm -f schema.yaml\n",
    "\n",
    "! bq rm -f {PROJECT_ID}.model_deployment_monitoring_{ENDPOINT_ID}"
   ]
  }
 ],
 "metadata": {
  "colab": {
   "collapsed_sections": [],
   "name": "get_started_with_model_monitoring_custom.ipynb",
   "toc_visible": true
  },
  "kernelspec": {
   "display_name": "Python 3",
   "name": "python3"
  }
 },
 "nbformat": 4,
 "nbformat_minor": 0
}
