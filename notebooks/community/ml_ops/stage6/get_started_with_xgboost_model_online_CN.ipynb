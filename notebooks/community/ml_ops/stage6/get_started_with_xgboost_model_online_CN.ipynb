{
 "cells": [
  {
   "cell_type": "code",
   "execution_count": null,
   "metadata": {
    "id": "copyright"
   },
   "outputs": [],
   "source": [
    "# Copyright 2022 Google LLC\n",
    "#\n",
    "# Licensed under the Apache License, Version 2.0 (the \"License\");\n",
    "# you may not use this file except in compliance with the License.\n",
    "# You may obtain a copy of the License at\n",
    "#\n",
    "#     https://www.apache.org/licenses/LICENSE-2.0\n",
    "#\n",
    "# Unless required by applicable law or agreed to in writing, software\n",
    "# distributed under the License is distributed on an \"AS IS\" BASIS,\n",
    "# WITHOUT WARRANTIES OR CONDITIONS OF ANY KIND, either express or implied.\n",
    "# See the License for the specific language governing permissions and\n",
    "# limitations under the License."
   ]
  },
  {
   "cell_type": "markdown",
   "metadata": {
    "id": "title"
   },
   "source": [
    "# 在GCP上进行端到端机器学习：MLOps阶段6：使用Vertex AI在线预测开始使用XGBoost自定义模型\n",
    "\n",
    "<table align=\"left\">\n",
    "  <td>\n",
    "    <a href=\"https://colab.research.google.com/github/GoogleCloudPlatform/vertex-ai-samples/blob/main/notebooks/community/ml_ops/stage6/get_started_with_xgboost_model_online.ipynb\">\n",
    "      <img src=\"https://cloud.google.com/ml-engine/images/colab-logo-32px.png\" alt=\"Colab logo\"> 在Colab中运行\n",
    "    </a>\n",
    "  </td>\n",
    "  <td>\n",
    "    <a href=\"https://github.com/GoogleCloudPlatform/vertex-ai-samples/blob/main/notebooks/community/ml_ops/stage6/get_started_with_xgboost_model_online.ipynb\">\n",
    "      <img src=\"https://cloud.google.com/ml-engine/images/github-logo-32px.png\" alt=\"GitHub logo\">\n",
    "      在GitHub上查看\n",
    "    </a>\n",
    "  </td>\n",
    "  <td>\n",
    "    <a href=\"https://console.cloud.google.com/vertex-ai/workbench/deploy-notebook?download_url=https://raw.githubusercontent.com/GoogleCloudPlatform/vertex-ai-samples/main/notebooks/community/ml_ops/stage6/get_started_with_xgboost_model_online.ipynb\">\n",
    "      <img src=\"https://lh3.googleusercontent.com/UiNooY4LUgW_oTvpsNhPpQzsstV5W8F7rYgxgGBD85cWJoLmrOzhVs_ksK_vgx40SHs7jCqkTkCk=e14-rj-sc0xffffff-h130-w32\" alt=\"Vertex AI logo\">\n",
    "      在Vertex AI工作台中打开\n",
    "    </a>\n",
    "  </td>\n",
    "</table>\n",
    "<br/><br/><br/>"
   ]
  },
  {
   "cell_type": "markdown",
   "metadata": {
    "id": "overview:automl"
   },
   "source": [
    "## 概述\n",
    "\n",
    "本教程演示了如何使用Vertex AI SDK部署XGBoost模型并进行在线预测。"
   ]
  },
  {
   "cell_type": "markdown",
   "metadata": {
    "id": "objective:automl,training,batch_prediction"
   },
   "source": [
    "### 目标\n",
    "\n",
    "在本教程中，您将部署一个XGBoost模型，然后使用Vertex AI SDK进行在线预测。您也可以使用`gcloud`命令行工具或通过Cloud Console在线部署模型。\n",
    "\n",
    "本教程使用以下谷歌云ML服务和资源：\n",
    "\n",
    "- `Vertex AI Models`\n",
    "- `Vertex AI Endpoints`\n",
    "- `Vertex AI Prediction`\n",
    "- `Vertex AI Pipelines`\n",
    "\n",
    "执行的步骤包括：\n",
    "\n",
    "- 将XGBoost模型上传为Vertex AI模型资源。\n",
    "- 将模型部署到Vertex AI端点资源。\n",
    "- 进行在线预测。\n",
    "- 构建一个Vertex AI管道：\n",
    "    - 将XGBoost模型上传为Vertex AI模型资源。\n",
    "    - 将模型部署到Vertex AI端点资源。\n",
    "- 进行在线预测。"
   ]
  },
  {
   "cell_type": "markdown",
   "metadata": {
    "id": "dataset:flowers,icn"
   },
   "source": [
    "### 模型\n",
    "\n",
    "本教程使用的模型是一个预训练的XGBoost模型，该模型是在[TensorFlow数据集](https://www.tensorflow.org/datasets/catalog/iris)中的[Iris数据集](https://www.tensorflow.org/datasets/catalog/overview)上训练的。训练后的模型可以预测三种鸢尾花物种中的一种：山鸢尾(setosa)、维吉尼亚(virginica)或变色鸢尾(versicolor)。"
   ]
  },
  {
   "cell_type": "markdown",
   "metadata": {
    "id": "costs"
   },
   "source": [
    "### 价格\n",
    "\n",
    "本教程使用 Google Cloud 的计费组件：\n",
    "\n",
    "* Vertex AI\n",
    "* Cloud Storage\n",
    "\n",
    "了解 [Vertex AI 价格](https://cloud.google.com/vertex-ai/pricing) 和 [Cloud Storage 价格](https://cloud.google.com/storage/pricing)，并使用 [定价计算器](https://cloud.google.com/products/calculator/) 根据您的预期使用情况生成成本估算。"
   ]
  },
  {
   "cell_type": "markdown",
   "metadata": {
    "id": "setup_local"
   },
   "source": [
    "### 设置本地开发环境\n",
    "\n",
    "如果您正在使用Colab或Vertex Workbench AI笔记本，您的环境已经满足运行该笔记本的所有要求。您可以跳过这一步。\n",
    "\n",
    "否则，请确保您的环境满足该笔记本的要求。您需要以下内容：\n",
    "\n",
    "- 云存储SDK\n",
    "- Git\n",
    "- Python 3\n",
    "- virtualenv\n",
    "- 在使用Python 3的虚拟环境中运行的Jupyter笔记本\n",
    "\n",
    "云存储指南中的[设置Python开发环境](https://cloud.google.com/python/setup)和[Jupyter安装指南](https://jupyter.org/install)提供了满足这些要求的详细说明。以下步骤提供了一套简明的说明：\n",
    "\n",
    "1. [安装并初始化SDK](https://cloud.google.com/sdk/docs/)。\n",
    "\n",
    "2. [安装Python 3](https://cloud.google.com/python/setup#installing_python)。\n",
    "\n",
    "3. [安装virtualenv](https://cloud.google.com/python/setup#installing_and_using_virtualenv)并创建一个使用Python 3的虚拟环境。激活虚拟环境。\n",
    "\n",
    "4. 要安装Jupyter，在终端 shell 中运行 `pip3 install jupyter`。\n",
    "\n",
    "5. 要启动Jupyter，在终端 shell 中运行 `jupyter notebook`。\n",
    "\n",
    "6. 在Jupyter Notebook仪表板中打开此笔记本。"
   ]
  },
  {
   "cell_type": "markdown",
   "metadata": {
    "id": "install_aip:mbsdk"
   },
   "source": [
    "## 安装\n",
    "\n",
    "安装以下软件包才能执行这个笔记本。"
   ]
  },
  {
   "cell_type": "code",
   "execution_count": null,
   "metadata": {
    "id": "install_aip:mbsdk"
   },
   "outputs": [],
   "source": [
    "import os\n",
    "\n",
    "# The Vertex AI Workbench Notebook product has specific requirements\n",
    "IS_WORKBENCH_NOTEBOOK = os.getenv(\"DL_ANACONDA_HOME\")\n",
    "IS_USER_MANAGED_WORKBENCH_NOTEBOOK = os.path.exists(\n",
    "    \"/opt/deeplearning/metadata/env_version\"\n",
    ")\n",
    "\n",
    "# Vertex AI Notebook requires dependencies to be installed with '--user'\n",
    "USER_FLAG = \"\"\n",
    "if IS_WORKBENCH_NOTEBOOK:\n",
    "    USER_FLAG = \"--user\"\n",
    "\n",
    "! pip3 install --upgrade --quiet {USER_FLAG} google-cloud-aiplatform \\\n",
    "                                             kfp \\\n",
    "                                             google-cloud-pipeline-components \\\n",
    "                                             tensorflow==2.5"
   ]
  },
  {
   "cell_type": "markdown",
   "metadata": {
    "id": "restart"
   },
   "source": [
    "重新启动内核\n",
    "\n",
    "安装完额外的包后，您需要重新启动笔记本内核，以便它可以找到这些包。"
   ]
  },
  {
   "cell_type": "code",
   "execution_count": null,
   "metadata": {
    "id": "restart"
   },
   "outputs": [],
   "source": [
    "import os\n",
    "\n",
    "if not os.getenv(\"IS_TESTING\"):\n",
    "    # Automatically restart kernel after installs\n",
    "    import IPython\n",
    "\n",
    "    app = IPython.Application.instance()\n",
    "    app.kernel.do_shutdown(True)"
   ]
  },
  {
   "cell_type": "markdown",
   "metadata": {
    "id": "before_you_begin:nogpu"
   },
   "source": [
    "## 开始之前\n",
    "\n",
    "### GPU 运行时\n",
    "\n",
    "本教程不需要 GPU 运行时。\n",
    "\n",
    "### 设置您的 Google Cloud 项目\n",
    "\n",
    "**以下步骤是必需的，不论您的笔记本环境如何。**\n",
    "\n",
    "1. [选择或创建一个 Google Cloud 项目](https://console.cloud.google.com/cloud-resource-manager)。当您第一次创建一个帐户时，您会获得 $300 的免费信用额用于计算/存储成本。\n",
    "\n",
    "2. [确保为您的项目启用了计费功能。](https://cloud.google.com/billing/docs/how-to/modify-project)\n",
    "\n",
    "3. [启用以下 API：Vertex AI APIs、Compute Engine APIs 和 Cloud Storage。](https://console.cloud.google.com/flows/enableapi?apiid=ml.googleapis.com,compute_component,storage-component.googleapis.com)\n",
    "\n",
    "4. 如果您在本地运行此笔记本，您需要安装 [Cloud SDK](https://cloud.google.com/sdk)。\n",
    "\n",
    "5. 在下面的单元格中输入您的项目 ID。然后运行该单元格，以确保 Cloud SDK 为此笔记本中的所有命令使用正确的项目。\n",
    "\n",
    "**注意**：Jupyter 运行以 `!` 为前缀的行作为 shell 命令，并插入以 `$` 为前缀的 Python 变量。"
   ]
  },
  {
   "cell_type": "markdown",
   "metadata": {
    "id": "project_id"
   },
   "source": [
    "设置您的项目ID\n",
    "\n",
    "**如果您不知道您的项目ID**，您可以使用`gcloud`获取您的项目ID。"
   ]
  },
  {
   "cell_type": "code",
   "execution_count": null,
   "metadata": {
    "id": "set_project_id"
   },
   "outputs": [],
   "source": [
    "PROJECT_ID = \"[your-project-id]\"  # @param {type:\"string\"}"
   ]
  },
  {
   "cell_type": "code",
   "execution_count": null,
   "metadata": {
    "id": "autoset_project_id"
   },
   "outputs": [],
   "source": [
    "if PROJECT_ID == \"\" or PROJECT_ID is None or PROJECT_ID == \"[your-project-id]\":\n",
    "    # Get your GCP project id from gcloud\n",
    "    shell_output = ! gcloud config list --format 'value(core.project)' 2>/dev/null\n",
    "    PROJECT_ID = shell_output[0]\n",
    "    print(\"Project ID:\", PROJECT_ID)"
   ]
  },
  {
   "cell_type": "code",
   "execution_count": null,
   "metadata": {
    "id": "set_gcloud_project_id"
   },
   "outputs": [],
   "source": [
    "! gcloud config set project $PROJECT_ID"
   ]
  },
  {
   "cell_type": "markdown",
   "metadata": {
    "id": "region"
   },
   "source": [
    "地区\n",
    "\n",
    "您还可以更改`REGION`变量，该变量用于本笔记本其余部分的操作。以下是Vertex AI支持的地区。我们建议您选择最靠近您的地区。\n",
    "\n",
    "- 美洲：`us-central1`\n",
    "- 欧洲：`europe-west4`\n",
    "- 亚太：`asia-east1`\n",
    "\n",
    "您可能无法使用多区域存储桶来训练Vertex AI。并非所有地区都支持所有Vertex AI服务。\n",
    "\n",
    "了解更多关于[Vertex AI地区](https://cloud.google.com/vertex-ai/docs/general/locations)"
   ]
  },
  {
   "cell_type": "code",
   "execution_count": null,
   "metadata": {
    "id": "region"
   },
   "outputs": [],
   "source": [
    "REGION = \"[your-region]\"  # @param {type: \"string\"}\n",
    "\n",
    "if REGION == \"[your-region]\":\n",
    "    REGION = \"us-central1\""
   ]
  },
  {
   "cell_type": "markdown",
   "metadata": {
    "id": "timestamp"
   },
   "source": [
    "UUID\n",
    "\n",
    "如果您在一个实时教程会话中，您可能正在使用一个共享的测试账户或项目。为了避免不同用户在创建资源时发生名称冲突，您可以为每个实例会话创建一个uuid，并将其附加到您在本教程中创建的资源的名称上。"
   ]
  },
  {
   "cell_type": "code",
   "execution_count": null,
   "metadata": {
    "id": "timestamp"
   },
   "outputs": [],
   "source": [
    "import random\n",
    "import string\n",
    "\n",
    "\n",
    "# Generate a uuid of a specifed length(default=8)\n",
    "def generate_uuid(length: int = 8) -> str:\n",
    "    return \"\".join(random.choices(string.ascii_lowercase + string.digits, k=length))\n",
    "\n",
    "\n",
    "UUID = generate_uuid()"
   ]
  },
  {
   "cell_type": "markdown",
   "metadata": {
    "id": "gcp_authenticate"
   },
   "source": [
    "### 验证您的Google Cloud帐户\n",
    "\n",
    "**如果您正在使用Vertex AI Workbench笔记本**，您的环境已经通过验证。\n",
    "\n",
    "**如果您正在使用Colab**，运行下面的单元格，并按提示进行身份验证以通过oAuth验证您的帐户。\n",
    "\n",
    "**否则**，请按以下步骤操作：\n",
    "\n",
    "在Cloud控制台中，转到[创建服务帐户密钥](https://console.cloud.google.com/apis/credentials/serviceaccountkey)页面。\n",
    "\n",
    "**点击创建服务账户**。\n",
    "\n",
    "在**服务账户名称**字段中输入一个名称，然后点击**创建**。\n",
    "\n",
    "在**将此服务帐户授权给项目的权限**部分，点击权限下拉列表。在过滤框中键入\"Vertex\"，然后选择**Vertex管理员**。在过滤框中键入\"Storage Object Admin\"，然后选择**Storage Object Admin**。\n",
    "\n",
    "点击创建。包含您的密钥的JSON文件将下载到本地环境中。\n",
    "\n",
    "在下面的单元格中将您的服务帐户密钥路径输入为GOOGLE_APPLICATION_CREDENTIALS变量，并运行该单元格。"
   ]
  },
  {
   "cell_type": "code",
   "execution_count": null,
   "metadata": {
    "id": "gcp_authenticate"
   },
   "outputs": [],
   "source": [
    "# If you are running this notebook in Colab, run this cell and follow the\n",
    "# instructions to authenticate your GCP account. This provides access to your\n",
    "# Cloud Storage bucket and lets you submit training jobs and prediction\n",
    "# requests.\n",
    "\n",
    "import os\n",
    "import sys\n",
    "\n",
    "# If on Vertex AI Workbench, then don't execute this code\n",
    "IS_COLAB = \"google.colab\" in sys.modules\n",
    "if not os.path.exists(\"/opt/deeplearning/metadata/env_version\") and not os.getenv(\n",
    "    \"DL_ANACONDA_HOME\"\n",
    "):\n",
    "    if \"google.colab\" in sys.modules:\n",
    "        from google.colab import auth as google_auth\n",
    "\n",
    "        google_auth.authenticate_user()\n",
    "\n",
    "    # If you are running this notebook locally, replace the string below with the\n",
    "    # path to your service account key and run this cell to authenticate your GCP\n",
    "    # account.\n",
    "    elif not os.getenv(\"IS_TESTING\"):\n",
    "        %env GOOGLE_APPLICATION_CREDENTIALS ''"
   ]
  },
  {
   "cell_type": "markdown",
   "metadata": {
    "id": "bucket:mbsdk"
   },
   "source": [
    "### 创建一个云存储桶\n",
    "\n",
    "**无论您的笔记本环境如何，以下步骤都是必需的。**\n",
    "\n",
    "在初始化用于 Python 的 Vertex AI SDK 时，您需要指定一个云存储暂存桶。这个暂存桶是您的数据集和模型资源跨会话保留的地方。\n",
    "\n",
    "在下方设置您的云存储桶的名称。桶的名称必须在所有 Google Cloud 项目中是全局唯一的，包括您组织之外的项目。"
   ]
  },
  {
   "cell_type": "code",
   "execution_count": null,
   "metadata": {
    "id": "bucket"
   },
   "outputs": [],
   "source": [
    "BUCKET_NAME = \"[your-bucket-name]\"  # @param {type:\"string\"}\n",
    "BUCKET_URI = f\"gs://{BUCKET_NAME}\""
   ]
  },
  {
   "cell_type": "code",
   "execution_count": null,
   "metadata": {
    "id": "autoset_bucket"
   },
   "outputs": [],
   "source": [
    "if BUCKET_URI == \"\" or BUCKET_URI is None or BUCKET_URI == \"gs://[your-bucket-name]\":\n",
    "    BUCKET_NAME = PROJECT_ID + \"aip-\" + UUID\n",
    "    BUCKET_URI = \"gs://\" + BUCKET_NAME"
   ]
  },
  {
   "cell_type": "markdown",
   "metadata": {
    "id": "create_bucket"
   },
   "source": [
    "只有当您的存储桶还不存在时：运行以下单元格以创建您的云存储存储桶。"
   ]
  },
  {
   "cell_type": "code",
   "execution_count": null,
   "metadata": {
    "id": "create_bucket"
   },
   "outputs": [],
   "source": [
    "! gsutil mb -l $REGION $BUCKET_URI"
   ]
  },
  {
   "cell_type": "markdown",
   "metadata": {
    "id": "validate_bucket"
   },
   "source": [
    "最后，通过检查云储存桶的内容来验证访问权限。"
   ]
  },
  {
   "cell_type": "code",
   "execution_count": null,
   "metadata": {
    "id": "validate_bucket"
   },
   "outputs": [],
   "source": [
    "! gsutil ls -al $BUCKET_URI"
   ]
  },
  {
   "cell_type": "markdown",
   "metadata": {
    "id": "set_service_account"
   },
   "source": [
    "服务帐户\n",
    "\n",
    "**如果您不知道您的服务帐户**，请尝试使用`gcloud`命令通过执行下面的第二个单元格来获取您的服务帐户。"
   ]
  },
  {
   "cell_type": "code",
   "execution_count": null,
   "metadata": {
    "id": "set_service_account"
   },
   "outputs": [],
   "source": [
    "SERVICE_ACCOUNT = \"[your-service-account]\"  # @param {type:\"string\"}"
   ]
  },
  {
   "cell_type": "code",
   "execution_count": null,
   "metadata": {
    "id": "autoset_service_account"
   },
   "outputs": [],
   "source": [
    "if (\n",
    "    SERVICE_ACCOUNT == \"\"\n",
    "    or SERVICE_ACCOUNT is None\n",
    "    or SERVICE_ACCOUNT == \"[your-service-account]\"\n",
    "):\n",
    "    # Get your service account from gcloud\n",
    "    if not IS_COLAB:\n",
    "        shell_output = !gcloud auth list 2>/dev/null\n",
    "        SERVICE_ACCOUNT = shell_output[2].replace(\"*\", \"\").strip()\n",
    "\n",
    "    if IS_COLAB:\n",
    "        shell_output = ! gcloud projects describe  $PROJECT_ID\n",
    "        project_number = shell_output[-1].split(\":\")[1].strip().replace(\"'\", \"\")\n",
    "        SERVICE_ACCOUNT = f\"{project_number}-compute@developer.gserviceaccount.com\"\n",
    "\n",
    "print(\"Service Account:\", SERVICE_ACCOUNT)"
   ]
  },
  {
   "cell_type": "markdown",
   "metadata": {
    "id": "setup_vars"
   },
   "source": [
    "### 设置变量\n",
    "\n",
    "接下来，设置一些在教程中使用的变量。\n",
    "\n",
    "### 导入库并定义常量"
   ]
  },
  {
   "cell_type": "code",
   "execution_count": null,
   "metadata": {
    "id": "import_aip:mbsdk"
   },
   "outputs": [],
   "source": [
    "import google.cloud.aiplatform as aiplatform"
   ]
  },
  {
   "cell_type": "markdown",
   "metadata": {
    "id": "init_aip:mbsdk"
   },
   "source": [
    "初始化顶点AI SDK，用于您的项目和相应的存储桶。"
   ]
  },
  {
   "cell_type": "code",
   "execution_count": null,
   "metadata": {
    "id": "init_aip:mbsdk"
   },
   "outputs": [],
   "source": [
    "aiplatform.init(project=PROJECT_ID, staging_bucket=BUCKET_NAME)"
   ]
  },
  {
   "cell_type": "markdown",
   "metadata": {
    "id": "container:training,prediction,xgboost"
   },
   "source": [
    "#### 设置预构建的容器\n",
    "\n",
    "Vertex为常用的ML框架提供了许多预构建的容器用于训练和预测。\n",
    "\n",
    "设置用于预测的预构建的Docker容器镜像。\n",
    "\n",
    "有关最新列表，请参见[用于训练的预构建容器](https://cloud.google.com/ai-platform-unified/docs/training/pre-built-containers)。\n",
    "\n",
    "有关最新列表，请参见[用于预测的预构建容器](https://cloud.google.com/ai-platform-unified/docs/predictions/pre-built-containers)。"
   ]
  },
  {
   "cell_type": "code",
   "execution_count": null,
   "metadata": {
    "id": "XujRA5ueox9U"
   },
   "outputs": [],
   "source": [
    "DEPLOY_VERSION = \"xgboost-cpu.1-1\"\n",
    "\n",
    "LOCATION = REGION.split(\"-\")[0]\n",
    "\n",
    "DEPLOY_IMAGE = f\"{LOCATION}-docker.pkg.dev/vertex-ai/prediction/{DEPLOY_VERSION}:latest\""
   ]
  },
  {
   "cell_type": "markdown",
   "metadata": {
    "id": "machine:training"
   },
   "source": [
    "#### 设置机器类型\n",
    "\n",
    "接下来，设置用于预测的机器类型。\n",
    "\n",
    "- 将变量`DEPLOY_COMPUTE`设置为配置用于预测的虚拟机的计算资源。\n",
    " - `机器类型`\n",
    "     - `n1-standard`：每个虚拟CPU 3.75GB内存。\n",
    "     - `n1-highmem`：每个虚拟CPU 6.5GB内存\n",
    "     - `n1-highcpu`：每个虚拟CPU 0.9 GB内存\n",
    " - `vCPUs`：数量为\\[2, 4, 8, 16, 32, 64, 96 \\]\n",
    "\n",
    "*注意：您还可以使用n2和e2机器类型进行训练和部署，但它们不支持GPU*。"
   ]
  },
  {
   "cell_type": "code",
   "execution_count": null,
   "metadata": {
    "id": "machine:training"
   },
   "outputs": [],
   "source": [
    "if os.getenv(\"IS_TESTING_DEPLOY_MACHINE\"):\n",
    "    MACHINE_TYPE = os.getenv(\"IS_TESTING_DEPLOY_MACHINE\")\n",
    "else:\n",
    "    MACHINE_TYPE = \"n1-standard\"\n",
    "\n",
    "VCPU = \"4\"\n",
    "DEPLOY_COMPUTE = MACHINE_TYPE + \"-\" + VCPU\n",
    "print(\"Train machine type\", DEPLOY_COMPUTE)"
   ]
  },
  {
   "cell_type": "markdown",
   "metadata": {
    "id": "8ac30ffa72b5"
   },
   "source": [
    "### 创建实例模式\n",
    "\n",
    "instance.yaml文件用于验证输入请求的格式，在传递给模型服务器之前。如果发送的正确，您不需要instance.yaml。如果收到错误的请求，instance.yaml会提供比您从模型服务器获得的更有意义的错误消息。\n",
    "\n",
    "*instance.yaml也可以作为模型监控自定义模型的输入模式重复使用。*\n",
    "\n",
    "了解更多关于[Predict schemas](https://cloud.google.com/vertex-ai/docs/reference/rest/v1/PredictSchemata)。"
   ]
  },
  {
   "cell_type": "code",
   "execution_count": null,
   "metadata": {
    "id": "59becb56ad34"
   },
   "outputs": [],
   "source": [
    "yaml = \"\"\"type: array\n",
    "properties:\n",
    "  sepal_length:\n",
    "    type: numeric\n",
    "  sepal_width:\n",
    "    type: numeric\n",
    "  petal_length:\n",
    "    type: numeric\n",
    "  petal_width:\n",
    "    type: numeric\n",
    "required:\n",
    "  - sepal_length\n",
    "  - sepal_width\n",
    "  - petal_length\n",
    "  - petal_width\n",
    "\"\"\"\n",
    "\n",
    "print(yaml)\n",
    "\n",
    "with open(\"instance.yaml\", \"w\") as f:\n",
    "    f.write(yaml)\n",
    "\n",
    "! gsutil cp instance.yaml {BUCKET_URI}/instance.yaml"
   ]
  },
  {
   "cell_type": "markdown",
   "metadata": {
    "id": "da14e12e0fb4"
   },
   "source": [
    "### 将XGBoost模型的第一个版本上传到`Vertex AI模型`资源\n",
    "\n",
    "接下来，您需要将模型的第一个版本作为`Model`资源上传到 `Vertex AI模型注册表`中，并设置以下参数：\n",
    "\n",
    "- `display_name`：`Model`资源的可读名称\n",
    "- `artifact_uri`：模型包的Cloud Storage位置\n",
    "- `serving_container_image_uri`：用于提供服务的容器映像\n",
    "- `is_default_version`：确定是否为`Model`资源的默认版本\n",
    "- `version_ailiases`：模型版本的用户自定义替代别名列表，例如 `production`\n",
    "- `version_description`：模型版本的用户描述\n",
    "\n",
    "当第一个模型版本在`模型注册表`中创建时，属性`version_id`将自动设置为1。\n",
    "\n",
    "了解有关 [使用Vertex AI模型注册表进行模型版本控制](https://cloud.google.com/vertex-ai/docs/model-registry/versioning) 的更多信息。"
   ]
  },
  {
   "cell_type": "code",
   "execution_count": null,
   "metadata": {
    "id": "8d86c4d8f0c7"
   },
   "outputs": [],
   "source": [
    "MODEL_ARTIFACTS = (\n",
    "    \"gs://cloud-samples-data/vertex-ai/model-deployment/models/xgboost_iris\"\n",
    ")\n",
    "\n",
    "\n",
    "model = aiplatform.Model.upload(\n",
    "    display_name=f\"xgboost_iris_{UUID}\",\n",
    "    serving_container_image_uri=DEPLOY_IMAGE,\n",
    "    artifact_uri=MODEL_ARTIFACTS,\n",
    "    instance_schema_uri=f\"{BUCKET_URI}/instance.yaml\",\n",
    "    is_default_version=True,\n",
    "    version_aliases=[\"v1\", \"version1\"],\n",
    "    version_description=\"This is the first version of the model\",\n",
    "    sync=True,\n",
    ")\n",
    "\n",
    "print(model.resource_name)"
   ]
  },
  {
   "cell_type": "markdown",
   "metadata": {
    "id": "628de0914ba1"
   },
   "source": [
    "## 创建 `Endpoint` 资源\n",
    "\n",
    "您可以使用 `Endpoint.create()` 方法来创建 `Endpoint` 资源。至少，您需要指定端点的显示名称。可选地，您可以指定项目和位置（区域）；否则，设置将继承您使用 `init()` 方法初始化 Vertex AI SDK 时设置的值。\n",
    "\n",
    "在此示例中，指定了以下参数：\n",
    "\n",
    "- `display_name`：`Endpoint` 资源的可读名称。\n",
    "- `project`：您的项目 ID。\n",
    "- `location`：您的区域。\n",
    "- `labels`：（可选）以键/值对形式定义的用于 `Endpoint` 的用户定义元数据。\n",
    "\n",
    "此方法将返回一个 `Endpoint` 对象。\n",
    "\n",
    "了解更多关于[Vertex AI Endpoints](https://cloud.google.com/vertex-ai/docs/predictions/deploy-model-api)。"
   ]
  },
  {
   "cell_type": "code",
   "execution_count": null,
   "metadata": {
    "id": "0ea443f9593b"
   },
   "outputs": [],
   "source": [
    "endpoint = aiplatform.Endpoint.create(\n",
    "    display_name=\"xgboost_iris_\" + UUID,\n",
    "    project=PROJECT_ID,\n",
    "    location=REGION,\n",
    "    labels={\"your_key\": \"your_value\"},\n",
    ")\n",
    "\n",
    "print(endpoint)"
   ]
  },
  {
   "cell_type": "markdown",
   "metadata": {
    "id": "ca3fa3f6a894"
   },
   "source": [
    "部署`Model`资源到`Endpoint`资源\n",
    "\n",
    "您可以部署一个或多个`Vertex AI Model`资源实例到同一个终端点。每个部署的`Vertex AI Model`资源将有自己的用于服务二进制的部署容器。\n",
    "\n",
    "*注意:* 对于这个示例，您的XGBoost模型的部署容器是预定义的。\n",
    "\n",
    "### 扩展\n",
    "\n",
    "`Vertex AI Endpoint`资源支持三种类型的扩展：\n",
    "\n",
    "- 无扩展：服务二进制部署到单个VM实例。\n",
    "- 手动扩展：服务二进制部署到固定数量的多个VM实例。\n",
    "- 自动扩展：根据负载情况，服务二进制部署到的VM实例数量会有所变化。"
   ]
  },
  {
   "cell_type": "markdown",
   "metadata": {
    "id": "7ae12f1afe50"
   },
   "source": [
    "### 手动扩展\n",
    "\n",
    "在下一个示例中，您可以将 `Vertex AI Model` 资源部署到 `Vertex AI Endpoint` 资源以进行手动扩展 -- 固定数量（大于1）的 VM 实例。换句话说，当模型被部署时，固定数量的 VM 实例将被规划，并保持规划状态直到模型被撤销。\n",
    "\n",
    "在此示例中，您可以按照以下最小指定参数部署模型:\n",
    "\n",
    "- `model`: 要部署的 `Model` 资源。\n",
    "- `machine_type`: 每个 VM 实例的机器类型。\n",
    "- `deployed_model_displayed_name`: 部署模型实例的人类可读名称。\n",
    "- `min_replica_count`: 要规划的最小 VM 实例（节点）数量。\n",
    "- `max_replica_count`: 要规划的最大 VM 实例（节点）数量。\n",
    "- `accelerator_type`: 每个 VM 实例的硬件加速器类型，如果有的话。\n",
    "- `accelerator_count`: 每个 VM 实例的硬件加速器数量，如果有的话。\n",
    "\n",
    "对于手动扩展，固定数量的 VM 实例将在部署模型期间被规划。\n",
    "\n",
    "*注意:* 对于手动扩展，节点的最小和最大数量被设置为相同的值。"
   ]
  },
  {
   "cell_type": "code",
   "execution_count": null,
   "metadata": {
    "id": "277de42a6475"
   },
   "outputs": [],
   "source": [
    "MIN_NODES = 2\n",
    "MAX_NODES = 2\n",
    "\n",
    "\n",
    "response = endpoint.deploy(\n",
    "    model=model,\n",
    "    deployed_model_display_name=f\"xgboost_iris_{UUID}\",\n",
    "    machine_type=DEPLOY_COMPUTE,\n",
    "    min_replica_count=MIN_NODES,\n",
    "    max_replica_count=MAX_NODES,\n",
    ")"
   ]
  },
  {
   "cell_type": "markdown",
   "metadata": {
    "id": "make_prediction"
   },
   "source": [
    "发送一个在线预测请求\n",
    "\n",
    "向您部署的模型发送一个在线预测。"
   ]
  },
  {
   "cell_type": "markdown",
   "metadata": {
    "id": "get_test_item"
   },
   "source": [
    "制作一个测试项目\n",
    "\n",
    "您可以从数据集中选择一个任意的例子作为测试项目。"
   ]
  },
  {
   "cell_type": "code",
   "execution_count": null,
   "metadata": {
    "id": "get_test_item:automl,icn,csv"
   },
   "outputs": [],
   "source": [
    "TEST_INSTANCE = [5.1, 3.5, 1.4, 0.2]"
   ]
  },
  {
   "cell_type": "markdown",
   "metadata": {
    "id": "predict_request:mbsdk,icn"
   },
   "source": [
    "### 进行预测\n",
    "\n",
    "现在您的`Model`资源已部署到`Endpoint`资源，您可以通过向Endpoint资源发送预测请求来进行在线预测。\n",
    "\n",
    "#### 请求\n",
    "\n",
    "对于XGBoost模型，模型服务器将输入视为一组数字值，其中数值的顺序与XGBoost模型训练时所用特征的顺序相同。\n",
    "\n",
    "    [ numeric_value_1, numeric_value_2, .... ]\n",
    "\n",
    "#### 响应\n",
    "\n",
    "从`predict()`调用的响应是一个Python字典，具有以下条目：\n",
    "\n",
    "- `prediction`：预测的类别。\n",
    "- `deployed_model_id`：进行预测的Vertex AI部署的Model资源的标识符。\n",
    "- `model_version_id`：模型版本。\n",
    "\n",
    "*注意：*预测的类别将作为浮点值返回。因此，0.0代表标签0。"
   ]
  },
  {
   "cell_type": "code",
   "execution_count": null,
   "metadata": {
    "id": "predict_request:mbsdk,icn"
   },
   "outputs": [],
   "source": [
    "prediction = endpoint.predict(instances=[TEST_INSTANCE])\n",
    "\n",
    "print(prediction)"
   ]
  },
  {
   "cell_type": "markdown",
   "metadata": {
    "id": "undeploy_model:mbsdk"
   },
   "source": [
    "### 下线模型\n",
    "\n",
    "当您完成预测后，您需要从`端点`资源中下线模型。这将取消所有计算资源并停止部署模型的计费。"
   ]
  },
  {
   "cell_type": "code",
   "execution_count": null,
   "metadata": {
    "id": "undeploy_model:mbsdk"
   },
   "outputs": [],
   "source": [
    "endpoint.undeploy_all()\n",
    "endpoint.delete()"
   ]
  },
  {
   "cell_type": "markdown",
   "metadata": {
    "id": "5adfb2ff4644"
   },
   "source": [
    "删除模型\n",
    "\n",
    "接下来，您可以使用`delete（）`方法删除`Vertex AI模型`资源。"
   ]
  },
  {
   "cell_type": "code",
   "execution_count": null,
   "metadata": {
    "id": "796ec17e8fff"
   },
   "outputs": [],
   "source": [
    "model.delete()"
   ]
  },
  {
   "cell_type": "markdown",
   "metadata": {
    "id": "f7497ff96755"
   },
   "source": [
    "## 创建一个 Vertex AI 管道\n",
    "\n",
    "接下来，您会重复与 Vertex AI 管道相同的步骤，如下：\n",
    "\n",
    "1. 创建一个组件，将预训练模型上传并版本化到 Vertex AI Model Registry。\n",
    "2. 创建一个 Vertex AI 管道定义。\n",
    "3. 编译管道。\n",
    "4. 执行管道。"
   ]
  },
  {
   "cell_type": "markdown",
   "metadata": {
    "id": "560ad362de12"
   },
   "source": [
    "### 创建带有版本组件的模型上传\n",
    "\n",
    "首先，您可以创建自己的组件来上传一个预先训练好的模型到 Vertex AI 模型注册表，并设置模型版本参数。您的组件的输出产物是一个 VertexModel。"
   ]
  },
  {
   "cell_type": "code",
   "execution_count": null,
   "metadata": {
    "id": "8b57a7df64e3"
   },
   "outputs": [],
   "source": [
    "import kfp\n",
    "from kfp.v2.dsl import component\n",
    "\n",
    "\n",
    "@component(\n",
    "    base_image=\"python:3.9\",\n",
    "    packages_to_install=[\"google-cloud-aiplatform\", \"google-cloud-pipeline-components\"],\n",
    ")\n",
    "def model_upload_version(\n",
    "    project: str,\n",
    "    display_name: str,\n",
    "    model_artifacts: str,\n",
    "    is_default_version: bool,\n",
    "    version_aliases: list,\n",
    "    version_description: str,\n",
    "    serving_container_image_uri: str,\n",
    ") -> str:\n",
    "    import google.cloud.aiplatform as aiplatform\n",
    "\n",
    "    aiplatform.init(project=project)\n",
    "\n",
    "    model = aiplatform.Model.upload(\n",
    "        display_name=display_name,\n",
    "        serving_container_image_uri=serving_container_image_uri,\n",
    "        artifact_uri=model_artifacts,\n",
    "        is_default_version=is_default_version,\n",
    "        version_aliases=version_aliases,\n",
    "        version_description=version_description,\n",
    "        sync=True,\n",
    "    )\n",
    "    return model.resource_name"
   ]
  },
  {
   "cell_type": "markdown",
   "metadata": {
    "id": "aa7daa74d036"
   },
   "source": [
    "创建管道\n",
    "\n",
    "接下来，您可以通过以下步骤创建一个管道：\n",
    "\n",
    "- 上传并版本化预训练模型的工件。\n",
    "- 创建一个 Endpoint 资源。\n",
    "- 将模型资源部署到 Endpoint 资源中。"
   ]
  },
  {
   "cell_type": "code",
   "execution_count": null,
   "metadata": {
    "id": "ded212bba4cb"
   },
   "outputs": [],
   "source": [
    "@kfp.dsl.pipeline(name=f\"xgboost-iris-{UUID}\")\n",
    "def pipeline(\n",
    "    display_name: str,\n",
    "    is_default_version: bool,\n",
    "    version_aliases: list,\n",
    "    version_description: str,\n",
    "    model_artifacts: str,\n",
    "    serving_container_image_uri: str,\n",
    "    machine_type: str,\n",
    "    project: str = PROJECT_ID,\n",
    "):\n",
    "    from google_cloud_pipeline_components.experimental.evaluation import \\\n",
    "        GetVertexModelOp\n",
    "    from google_cloud_pipeline_components.v1.endpoint import (EndpointCreateOp,\n",
    "                                                              ModelDeployOp)\n",
    "\n",
    "    model_upload_op = model_upload_version(\n",
    "        project=project,\n",
    "        display_name=display_name,\n",
    "        is_default_version=is_default_version,\n",
    "        version_aliases=version_aliases,\n",
    "        version_description=version_description,\n",
    "        model_artifacts=model_artifacts,\n",
    "        serving_container_image_uri=serving_container_image_uri,\n",
    "    )\n",
    "\n",
    "    model = GetVertexModelOp(model_resource_name=model_upload_op.output)\n",
    "\n",
    "    endpoint_create_op = EndpointCreateOp(project=project, display_name=display_name)\n",
    "\n",
    "    _ = ModelDeployOp(\n",
    "        endpoint=endpoint_create_op.outputs[\"endpoint\"],\n",
    "        # model=model_upload_op.outputs[\"model\"],\n",
    "        model=model.outputs[\"model\"],\n",
    "        deployed_model_display_name=display_name,\n",
    "        dedicated_resources_machine_type=DEPLOY_COMPUTE,\n",
    "        dedicated_resources_min_replica_count=1,\n",
    "        dedicated_resources_max_replica_count=1,\n",
    "    )"
   ]
  },
  {
   "cell_type": "markdown",
   "metadata": {
    "id": "compile_pipeline"
   },
   "source": [
    "编译流水线。"
   ]
  },
  {
   "cell_type": "code",
   "execution_count": null,
   "metadata": {
    "id": "compile_pipeline"
   },
   "outputs": [],
   "source": [
    "from kfp.v2 import compiler  # noqa: F811\n",
    "\n",
    "compiler.Compiler().compile(\n",
    "    pipeline_func=pipeline,\n",
    "    package_path=f\"xgboost-iris-{UUID}.json\",\n",
    ")"
   ]
  },
  {
   "cell_type": "markdown",
   "metadata": {
    "id": "70cc7a91b7df"
   },
   "source": [
    "### 执行管道\n",
    "\n",
    "接下来，您执行管道。管道接受以下参数，这些参数作为字典`parameter_values`传递：\n",
    "\n",
    "- `project`：您的项目ID\n",
    "- `display_name`：`Model`资源的人类可读名称。\n",
    "- `model_artifacts`：模型包的Cloud Storage位置。\n",
    "- `serving_container_image_uri`：服务容器镜像。\n",
    "- `is_default_version`：这将是`Model`资源的默认版本。\n",
    "- `version_ailiases`：模型版本的用户定义的替代别名列表，比如`production`。\n",
    "- `version_description`：模型版本的用户描述。\n",
    "- `machine_type`：部署VM的机器类型。"
   ]
  },
  {
   "cell_type": "code",
   "execution_count": null,
   "metadata": {
    "id": "73ffb4b66406"
   },
   "outputs": [],
   "source": [
    "PIPELINE_ROOT = f\"{BUCKET_URI}/pipeline_root/xgboost_iris\"\n",
    "\n",
    "pipeline = aiplatform.PipelineJob(\n",
    "    display_name=f\"xgboost_iris_{UUID}\",\n",
    "    template_path=f\"xgboost-iris-{UUID}.json\",\n",
    "    pipeline_root=PIPELINE_ROOT,\n",
    "    parameter_values={\n",
    "        \"project\": PROJECT_ID,\n",
    "        \"display_name\": f\"xgboost_iris_{UUID}\",\n",
    "        \"is_default_version\": True,\n",
    "        \"version_aliases\": [\"v1\", \"version1\"],\n",
    "        \"version_description\": \"This is the first version\",\n",
    "        \"model_artifacts\": MODEL_ARTIFACTS,\n",
    "        \"serving_container_image_uri\": DEPLOY_IMAGE,\n",
    "        \"machine_type\": DEPLOY_COMPUTE,\n",
    "    },\n",
    "    enable_caching=False,\n",
    ")\n",
    "\n",
    "pipeline.run()\n",
    "\n",
    "! rm -f xgboost-iris-{UUID}.json"
   ]
  },
  {
   "cell_type": "markdown",
   "metadata": {
    "id": "view_pipeline_results:custom_train_job"
   },
   "source": [
    "查看管道结果\n",
    "\n",
    "最后，您将查看管道中每个任务的工件输出。"
   ]
  },
  {
   "cell_type": "code",
   "execution_count": null,
   "metadata": {
    "id": "view_pipeline_results:custom,icn"
   },
   "outputs": [],
   "source": [
    "import json\n",
    "\n",
    "import tensorflow as tf\n",
    "\n",
    "PROJECT_NUMBER = pipeline.gca_resource.name.split(\"/\")[1]\n",
    "print(PROJECT_NUMBER)\n",
    "\n",
    "\n",
    "def print_pipeline_output(job, output_task_name):\n",
    "    JOB_ID = job.name\n",
    "    print(JOB_ID)\n",
    "    for _ in range(len(job.gca_resource.job_detail.task_details)):\n",
    "        TASK_ID = job.gca_resource.job_detail.task_details[_].task_id\n",
    "        EXECUTE_OUTPUT = (\n",
    "            PIPELINE_ROOT\n",
    "            + \"/\"\n",
    "            + PROJECT_NUMBER\n",
    "            + \"/\"\n",
    "            + JOB_ID\n",
    "            + \"/\"\n",
    "            + output_task_name\n",
    "            + \"_\"\n",
    "            + str(TASK_ID)\n",
    "            + \"/executor_output.json\"\n",
    "        )\n",
    "        GCP_RESOURCES = (\n",
    "            PIPELINE_ROOT\n",
    "            + \"/\"\n",
    "            + PROJECT_NUMBER\n",
    "            + \"/\"\n",
    "            + JOB_ID\n",
    "            + \"/\"\n",
    "            + output_task_name\n",
    "            + \"_\"\n",
    "            + str(TASK_ID)\n",
    "            + \"/gcp_resources\"\n",
    "        )\n",
    "        EVAL_METRICS = (\n",
    "            PIPELINE_ROOT\n",
    "            + \"/\"\n",
    "            + PROJECT_NUMBER\n",
    "            + \"/\"\n",
    "            + JOB_ID\n",
    "            + \"/\"\n",
    "            + output_task_name\n",
    "            + \"_\"\n",
    "            + str(TASK_ID)\n",
    "            + \"/evaluation_metrics\"\n",
    "        )\n",
    "        if tf.io.gfile.exists(EXECUTE_OUTPUT):\n",
    "            ! gsutil cat $EXECUTE_OUTPUT\n",
    "            return EXECUTE_OUTPUT\n",
    "        elif tf.io.gfile.exists(GCP_RESOURCES):\n",
    "            ! gsutil cat $GCP_RESOURCES\n",
    "            return GCP_RESOURCES\n",
    "        elif tf.io.gfile.exists(EVAL_METRICS):\n",
    "            ! gsutil cat $EVAL_METRICS\n",
    "            return EVAL_METRICS\n",
    "\n",
    "    return None\n",
    "\n",
    "\n",
    "print(\"get-vertex-model\")\n",
    "artifacts = print_pipeline_output(pipeline, \"get-vertex-model\")\n",
    "print(\"\\n\\n\")\n",
    "output = !gsutil cat $artifacts\n",
    "output = json.loads(output[0])\n",
    "model_id = output[\"artifacts\"][\"model\"][\"artifacts\"][0][\"metadata\"][\"resourceName\"]\n",
    "print(\"\\n\\n\")\n",
    "print(\"endpoint-create\")\n",
    "artifacts = print_pipeline_output(pipeline, \"endpoint-create\")\n",
    "print(\"\\n\\n\")\n",
    "output = !gsutil cat $artifacts\n",
    "output = json.loads(output[0])\n",
    "endpoint_id = output[\"artifacts\"][\"endpoint\"][\"artifacts\"][0][\"metadata\"][\n",
    "    \"resourceName\"\n",
    "]\n",
    "print(\"model-deploy\")\n",
    "artifacts = print_pipeline_output(pipeline, \"model-deploy\")\n",
    "print(\"\\n\\n\")"
   ]
  },
  {
   "cell_type": "markdown",
   "metadata": {
    "id": "ae08c7e041a0"
   },
   "source": [
    "### 进行预测\n",
    "\n",
    "最后，您对通过流水线部署到终端点的XGBoost模型进行预测。"
   ]
  },
  {
   "cell_type": "code",
   "execution_count": null,
   "metadata": {
    "id": "18ff23e44dc2"
   },
   "outputs": [],
   "source": [
    "endpoint = aiplatform.Endpoint(endpoint_id)\n",
    "\n",
    "prediction = endpoint.predict(instances=[TEST_INSTANCE])\n",
    "print(prediction)"
   ]
  },
  {
   "cell_type": "markdown",
   "metadata": {
    "id": "delete_pipeline"
   },
   "source": [
    "删除管道作业\n",
    "\n",
    "在管道作业完成后，您可以使用`delete（）`方法删除管道作业。在完成之前，可以使用`cancel（）`方法取消管道作业。"
   ]
  },
  {
   "cell_type": "code",
   "execution_count": null,
   "metadata": {
    "id": "delete_pipeline"
   },
   "outputs": [],
   "source": [
    "pipeline.delete()"
   ]
  },
  {
   "cell_type": "markdown",
   "metadata": {
    "id": "c9d18ae084b1"
   },
   "source": [
    "删除顶点模型和端点。\n",
    "\n",
    "接下来，部署并删除顶点模型和端点资源。"
   ]
  },
  {
   "cell_type": "code",
   "execution_count": null,
   "metadata": {
    "id": "ed4a2b920abf"
   },
   "outputs": [],
   "source": [
    "endpoint.undeploy_all()\n",
    "endpoint.delete()\n",
    "\n",
    "model = aiplatform.Model(model_id)\n",
    "model.delete()"
   ]
  },
  {
   "cell_type": "markdown",
   "metadata": {
    "id": "cleanup:mbsdk"
   },
   "source": [
    "清理工作\n",
    "\n",
    "要清理本项目中使用的所有Google Cloud资源，您可以删除用于本教程的[Google Cloud项目](https://cloud.google.com/resource-manager/docs/creating-managing-projects#shutting_down_projects)。\n",
    "\n",
    "否则，您可以删除在本教程中创建的各个资源。"
   ]
  },
  {
   "cell_type": "code",
   "execution_count": null,
   "metadata": {
    "id": "cleanup:mbsdk"
   },
   "outputs": [],
   "source": [
    "delete_bucket = True\n",
    "\n",
    "if delete_bucket or os.getenv(\"IS_TESTING\"):\n",
    "    ! gsutil rm -rf {BUCKET_URI}"
   ]
  }
 ],
 "metadata": {
  "colab": {
   "name": "get_started_with_xgboost_model_online.ipynb",
   "toc_visible": true
  },
  "kernelspec": {
   "display_name": "Python 3",
   "name": "python3"
  }
 },
 "nbformat": 4,
 "nbformat_minor": 0
}
