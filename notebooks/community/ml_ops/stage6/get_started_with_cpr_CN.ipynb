{
 "cells": [
  {
   "cell_type": "code",
   "execution_count": null,
   "metadata": {
    "id": "ur8xi4C7S06n"
   },
   "outputs": [],
   "source": [
    "# Copyright 2022 Google LLC\n",
    "#\n",
    "# Licensed under the Apache License, Version 2.0 (the \"License\");\n",
    "# you may not use this file except in compliance with the License.\n",
    "# You may obtain a copy of the License at\n",
    "#\n",
    "#     https://www.apache.org/licenses/LICENSE-2.0\n",
    "#\n",
    "# Unless required by applicable law or agreed to in writing, software\n",
    "# distributed under the License is distributed on an \"AS IS\" BASIS,\n",
    "# WITHOUT WARRANTIES OR CONDITIONS OF ANY KIND, either express or implied.\n",
    "# See the License for the specific language governing permissions and\n",
    "# limitations under the License."
   ]
  },
  {
   "cell_type": "markdown",
   "metadata": {
    "id": "title:generic,gcp"
   },
   "source": [
    "# GCP上的E2E ML：MLOps阶段6：开始使用自定义预测例程（CPR）\n",
    "\n",
    "<table align=\"left\">\n",
    "  <td>\n",
    "    <a href=\"https://colab.research.google.com/github/GoogleCloudPlatform/vertex-ai-samples/blob/main/notebooks/community/ml_ops/stage6/get_started_with_cpr.ipynb\">\n",
    "      <img src=\"https://cloud.google.com/ml-engine/images/colab-logo-32px.png\" alt=\"Colab logo\"> 在Colab中运行\n",
    "    </a>\n",
    "  </td>\n",
    "  <td>\n",
    "    <a href=\"https://github.com/GoogleCloudPlatform/vertex-ai-samples/blob/main/notebooks/community/ml_ops/stage6/get_started_with_cpr.ipynb\">\n",
    "      <img src=\"https://cloud.google.com/ml-engine/images/github-logo-32px.png\" alt=\"GitHub logo\">\n",
    "      在GitHub上查看\n",
    "    </a>\n",
    "  </td>\n",
    "  <td>\n",
    "    <a href=\"https://console.cloud.google.com/vertex-ai/workbench/deploy-notebook?download_url=https://raw.githubusercontent.com/GoogleCloudPlatform/vertex-ai-samples/main/notebooks/community/ml_ops/stage6/get_started_with_cpr.ipynb\">\n",
    "      <img src=\"https://lh3.googleusercontent.com/UiNooY4LUgW_oTvpsNhPpQzsstV5W8F7rYgxgGBD85cWJoLmrOzhVs_ksK_vgx40SHs7jCqkTkCk=e14-rj-sc0xffffff-h130-w32\" alt=\"Vertex AI logo\">\n",
    "      在Vertex AI Workbench中打开\n",
    "    </a>\n",
    "  </td>         \n",
    "</table>\n",
    "<br/><br/><br/>"
   ]
  },
  {
   "cell_type": "markdown",
   "metadata": {
    "id": "tvgnzT1CKxrO"
   },
   "source": [
    "## 概述\n",
    "\n",
    "本教程演示如何使用 Vertex AI SDK 构建一个自定义容器，使用 Custom Prediction Routine 模型服务器来为 Vertex AI Predictions 服务 scikit-learn 模型。这是目前一个**试验性**功能，并且目前还未得到 Vertex AI SDK 的官方支持。在本教程中，您将会从 github 的一个实验性分支安装 Vertex AI SDK。"
   ]
  },
  {
   "cell_type": "markdown",
   "metadata": {
    "id": "abaeafc5d6f8"
   },
   "source": [
    "### 目标\n",
    "\n",
    "在本教程中，您将学习如何在`Vertex AI Predictions`中使用自定义预测例程（CPR）。\n",
    "\n",
    "本教程使用以下谷歌云ML服务：\n",
    "\n",
    "- `Vertex AI Training`\n",
    "- `Vertex AI Predictions`\n",
    "- `Vertex AI Custom Predictions`\n",
    "- `Google Artifact Registry`\n",
    "\n",
    "执行的步骤包括：\n",
    "\n",
    "- 编写自定义数据预处理器。\n",
    "- 训练模型。\n",
    "- 使用自定义数据预处理的自定义scikit-learn服务容器构建，使用自定义预测例程模型服务器。\n",
    "    - 在本地测试模型服务容器。\n",
    "    - 上传并部署模型服务容器到Vertex AI Endpoint。\n",
    "    - 发出预测请求。\n",
    "- 使用自定义预测器（后处理）构建自定义scikit-learn服务容器，使用自定义预测例程模型服务器。\n",
    "    - 实现自定义预测器。\n",
    "    - 在本地测试模型服务容器。\n",
    "    - 上传并部署模型服务容器到Vertex AI Endpoint。\n",
    "    - 发出预测请求。\n",
    "- 使用自定义预测器和HTTP请求处理程序构建自定义scikit-learn服务容器，使用自定义预测例程模型服务器。\n",
    "    - 实现自定义处理程序。\n",
    "    - 在本地测试模型服务容器。\n",
    "    - 上传并部署模型服务容器到Vertex AI Endpoint。\n",
    "    - 发出预测请求。\n",
    "- 为自定义scikit-learn服务容器的Dockerfile进行自定义，使用自定义预测例程模型服务器的自定义预测器和HTTP请求处理程序。\n",
    "    - 实现自定义Dockerfile。\n",
    "    - 在本地测试模型服务容器。\n",
    "    - 上传并部署模型服务容器到Vertex AI Endpoint。\n",
    "    - 发出预测请求。"
   ]
  },
  {
   "cell_type": "markdown",
   "metadata": {
    "id": "dataset:iris,lcn"
   },
   "source": [
    "### 数据集\n",
    "\n",
    "这个教程使用的数据集是来自[TensorFlow Datasets](https://www.tensorflow.org/datasets/catalog/overview)的[Iris数据集](https://www.tensorflow.org/datasets/catalog/iris)。这个数据集不需要任何特征工程。本教程中的数据集版本存储在一个公共的云存储桶中。训练好的模型可以预测三种不同种类的鸢尾花：山鸢尾（setosa）、维吉尼亚鸢尾（virginica）或鸢尾花（versicolor）。"
   ]
  },
  {
   "cell_type": "markdown",
   "metadata": {
    "id": "fb3451ce8e47"
   },
   "source": [
    "### 成本\n",
    "本教程使用谷歌云的计费组件：\n",
    "\n",
    "- Vertex AI\n",
    "- 云存储\n",
    "\n",
    "请了解[Vertex AI定价](https://cloud.google.com/vertex-ai/pricing)和[云存储定价](https://cloud.google.com/storage/pricing)，并使用[定价计算器](https://cloud.google.com/products/calculator/)根据您预计的使用量生成成本估算。"
   ]
  },
  {
   "cell_type": "markdown",
   "metadata": {
    "id": "i7EUnXsZhAGF"
   },
   "source": [
    "## 安装\n",
    "\n",
    "安装额外的软件包依赖项，这些软件包在您的笔记本环境中尚未安装，例如NumPy、Scikit-learn、FastAPI、Uvicorn和joblib。请使用每个软件包的最新主要GA版本。"
   ]
  },
  {
   "cell_type": "code",
   "execution_count": null,
   "metadata": {
    "id": "6ed1088af932"
   },
   "outputs": [],
   "source": [
    "! mkdir src"
   ]
  },
  {
   "cell_type": "code",
   "execution_count": null,
   "metadata": {
    "id": "747f59abb3a5"
   },
   "outputs": [],
   "source": [
    "%%writefile src/requirements.txt\n",
    "fastapi\n",
    "uvicorn\n",
    "joblib~=1.0\n",
    "numpy~=1.20\n",
    "scikit-learn~=0.24"
   ]
  },
  {
   "cell_type": "code",
   "execution_count": null,
   "metadata": {
    "id": "wyy5Lbnzg5fi"
   },
   "outputs": [],
   "source": [
    "import os\n",
    "\n",
    "# The Vertex AI Workbench Notebook product has specific requirements\n",
    "IS_WORKBENCH_NOTEBOOK = os.getenv(\"DL_ANACONDA_HOME\")\n",
    "IS_USER_MANAGED_WORKBENCH_NOTEBOOK = os.path.exists(\n",
    "    \"/opt/deeplearning/metadata/env_version\"\n",
    ")\n",
    "\n",
    "# Vertex AI Notebook requires dependencies to be installed with '--user'\n",
    "USER_FLAG = \"\"\n",
    "if IS_WORKBENCH_NOTEBOOK:\n",
    "    USER_FLAG = \"--user\"\n",
    "\n",
    "\n",
    "! pip3 install --upgrade google-cloud-aiplatform[prediction] {USER_FLAG} -q\n",
    "! pip3 install --upgrade google-cloud-storage {USER_FLAG} -q\n",
    "\n",
    "# Install the same dependencies used in the serving container in the notebook\n",
    "# environment.\n",
    "! pip3 install -U {USER_FLAG} -r src/requirements.txt"
   ]
  },
  {
   "cell_type": "markdown",
   "metadata": {
    "id": "hhq5zEbGg0XX"
   },
   "source": [
    "重新启动内核\n",
    "\n",
    "在安装附加包后，您需要重新启动笔记本内核，以便它能够找到这些包。"
   ]
  },
  {
   "cell_type": "code",
   "execution_count": null,
   "metadata": {
    "id": "EzrelQZ22IZj"
   },
   "outputs": [],
   "source": [
    "# Automatically restart kernel after installs\n",
    "import os\n",
    "\n",
    "if not os.getenv(\"IS_TESTING\"):\n",
    "    # Automatically restart kernel after installs\n",
    "    import IPython\n",
    "\n",
    "    app = IPython.Application.instance()\n",
    "    app.kernel.do_shutdown(True)"
   ]
  },
  {
   "cell_type": "markdown",
   "metadata": {
    "id": "before_you_begin"
   },
   "source": [
    "## 在开始之前\n",
    "\n",
    "### GPU 运行时\n",
    "\n",
    "*如果有此选项，请确保在GPU运行时中运行此笔记本。在Colab中，选择* **Runtime > Change Runtime Type > GPU**\n",
    "\n",
    "### 设置您的Google Cloud项目\n",
    "\n",
    "**无论您的笔记本环境如何，以下步骤都是必需的。**\n",
    "\n",
    "1. [选择或创建一个Google Cloud项目](https://console.cloud.google.com/cloud-resource-manager)。当您首次创建帐户时，您将获得300美元的免费信用额用于计算/存储成本。\n",
    "\n",
    "2. [确保为您的项目启用了计费。](https://cloud.google.com/billing/docs/how-to/modify-project)\n",
    "\n",
    "3. [启用以下API：Vertex AI API、Compute Engine API和云存储。](https://console.cloud.google.com/flows/enableapi?apiid=aiplatform.googleapis.com,compute_component,storage-component.googleapis.com)\n",
    "\n",
    "4. 如果您是在本地运行此笔记本，您需要安装[Cloud SDK]((https://cloud.google.com/sdk)。\n",
    "\n",
    "5. 在下面的单元格中输入您的项目ID。然后运行该单元格，以确保Cloud SDK在本笔记本中的所有命令中使用正确的项目。\n",
    "\n",
    "**注意**：Jupyter会将以`!`为前缀的行作为shell命令运行，并会对以`$`为前缀的Python变量进行插值。"
   ]
  },
  {
   "cell_type": "markdown",
   "metadata": {
    "id": "project_id"
   },
   "source": [
    "设置您的项目ID\n",
    "\n",
    "**如果您不知道您的项目ID**，您可以使用 `gcloud` 来获取您的项目ID。"
   ]
  },
  {
   "cell_type": "code",
   "execution_count": null,
   "metadata": {
    "id": "set_project_id"
   },
   "outputs": [],
   "source": [
    "PROJECT_ID = \"[your-project-id]\"  # @param {type:\"string\"}"
   ]
  },
  {
   "cell_type": "code",
   "execution_count": null,
   "metadata": {
    "id": "autoset_project_id"
   },
   "outputs": [],
   "source": [
    "if PROJECT_ID == \"\" or PROJECT_ID is None or PROJECT_ID == \"[your-project-id]\":\n",
    "    # Get your GCP project id from gcloud\n",
    "    shell_output = ! gcloud config list --format 'value(core.project)' 2>/dev/null\n",
    "    PROJECT_ID = shell_output[0]\n",
    "    print(\"Project ID:\", PROJECT_ID)"
   ]
  },
  {
   "cell_type": "code",
   "execution_count": null,
   "metadata": {
    "id": "set_gcloud_project_id"
   },
   "outputs": [],
   "source": [
    "! gcloud config set project $PROJECT_ID"
   ]
  },
  {
   "cell_type": "markdown",
   "metadata": {
    "id": "region"
   },
   "source": [
    "区域\n",
    "\n",
    "您还可以更改“REGION”变量，该变量用于本笔记本其余部分的操作。 以下是 Vertex AI 支持的区域。我们建议您选择最接近您的区域。\n",
    "\n",
    "- 美洲：`us-central1`\n",
    "- 欧洲：`europe-west4`\n",
    "- 亚太：`asia-east1`\n",
    "\n",
    "您可能不会使用多区域存储桶来进行 Vertex AI 的训练或预测。并非所有区域都支持所有 Vertex AI 服务。\n",
    "\n",
    "了解更多关于 [Vertex AI 区域](https://cloud.google.com/vertex-ai/docs/general/locations)。"
   ]
  },
  {
   "cell_type": "code",
   "execution_count": null,
   "metadata": {
    "id": "region"
   },
   "outputs": [],
   "source": [
    "REGION = \"[your-region]\"  # @param {type: \"string\"}\n",
    "\n",
    "if REGION == \"[your-region]\":\n",
    "    REGION = \"us-central1\""
   ]
  },
  {
   "cell_type": "markdown",
   "metadata": {
    "id": "timestamp"
   },
   "source": [
    "时间戳\n",
    "\n",
    "如果您正在参加实时教程会话，您可能正在使用共享的测试帐户或项目。为了避免用户在创建的资源上出现命名冲突，您需要为每个实例会话创建一个时间戳，并将时间戳附加到您在本教程中创建的资源名称中。"
   ]
  },
  {
   "cell_type": "code",
   "execution_count": null,
   "metadata": {
    "id": "timestamp"
   },
   "outputs": [],
   "source": [
    "from datetime import datetime\n",
    "\n",
    "TIMESTAMP = datetime.now().strftime(\"%Y%m%d%H%M%S\")"
   ]
  },
  {
   "cell_type": "markdown",
   "metadata": {
    "id": "gcp_authenticate"
   },
   "source": [
    "###验证您的Google Cloud帐户\n",
    "\n",
    "**如果您正在使用Vertex AI Workbench笔记本**，您的环境已经得到了验证。跳过此步骤。\n",
    "\n",
    "**如果您正在使用Colab**，运行下面的单元格，并按照提示进行身份验证，通过oAuth认证您的帐户。\n",
    "\n",
    "**否则**，请按照以下步骤操作：\n",
    "\n",
    "在Cloud控制台中，转到[创建服务帐户密钥](https://console.cloud.google.com/apis/credentials/serviceaccountkey)页面。\n",
    "\n",
    "**单击创建服务帐户**。\n",
    "\n",
    "在**服务帐户名称**字段中输入一个名称，然后单击**创建**。\n",
    "\n",
    "在**为该服务帐户授予此项目的访问权限**部分，单击**角色**下拉列表。在筛选框中输入“Vertex”，然后选择**Vertex管理员**。在筛选框中输入“存储对象管理员”，然后选择**存储对象管理员**。\n",
    "\n",
    "单击创建。包含您密钥的JSON文件将下载到您的本地环境中。\n",
    "\n",
    "在下面的单元格中，将您的服务帐户密钥路径输入为GOOGLE_APPLICATION_CREDENTIALS变量并运行该单元格。"
   ]
  },
  {
   "cell_type": "code",
   "execution_count": null,
   "metadata": {
    "id": "gcp_authenticate"
   },
   "outputs": [],
   "source": [
    "# If you are running this notebook in Colab, run this cell and follow the\n",
    "# instructions to authenticate your GCP account. This provides access to your\n",
    "# Cloud Storage bucket and lets you submit training jobs and prediction\n",
    "# requests.\n",
    "\n",
    "import os\n",
    "import sys\n",
    "\n",
    "# If on Vertex AI Workbench, then don't execute this code\n",
    "IS_COLAB = False\n",
    "if not os.path.exists(\"/opt/deeplearning/metadata/env_version\") and not os.getenv(\n",
    "    \"DL_ANACONDA_HOME\"\n",
    "):\n",
    "    if \"google.colab\" in sys.modules:\n",
    "        IS_COLAB = True\n",
    "        from google.colab import auth as google_auth\n",
    "\n",
    "        google_auth.authenticate_user()\n",
    "\n",
    "    # If you are running this notebook locally, replace the string below with the\n",
    "    # path to your service account key and run this cell to authenticate your GCP\n",
    "    # account.\n",
    "    elif not os.getenv(\"IS_TESTING\"):\n",
    "        %env GOOGLE_APPLICATION_CREDENTIALS ''"
   ]
  },
  {
   "cell_type": "markdown",
   "metadata": {
    "id": "bucket:mbsdk"
   },
   "source": [
    "### 创建一个云存储桶\n",
    "\n",
    "**无论您使用什么笔记本环境，都需要执行以下步骤。**\n",
    "\n",
    "当您使用Python初始化Vertex AI SDK时，需要指定一个云存储暂存桶。这个暂存桶是您数据集和模型资源的关联数据在不同会话中保留的地方。\n",
    "\n",
    "在下面设置您的云存储桶的名称。存储桶的名称必须在所有谷歌云项目中全局唯一，包括您组织以外的项目。"
   ]
  },
  {
   "cell_type": "code",
   "execution_count": null,
   "metadata": {
    "id": "bucket"
   },
   "outputs": [],
   "source": [
    "BUCKET_NAME = \"[your-bucket-name]\"  # @param {type:\"string\"}\n",
    "BUCKET_URI = f\"gs://{BUCKET_NAME}\""
   ]
  },
  {
   "cell_type": "code",
   "execution_count": null,
   "metadata": {
    "id": "autoset_bucket"
   },
   "outputs": [],
   "source": [
    "if BUCKET_NAME == \"\" or BUCKET_NAME is None or BUCKET_NAME == \"[your-bucket-name]\":\n",
    "    BUCKET_NAME = PROJECT_ID + \"aip-\" + TIMESTAMP\n",
    "    BUCKET_URI = \"gs://\" + BUCKET_NAME"
   ]
  },
  {
   "cell_type": "markdown",
   "metadata": {
    "id": "create_bucket"
   },
   "source": [
    "只有在您的存储桶尚不存在时才运行以下单元格以创建您的云存储桶。"
   ]
  },
  {
   "cell_type": "code",
   "execution_count": null,
   "metadata": {
    "id": "create_bucket"
   },
   "outputs": [],
   "source": [
    "! gsutil mb -l $REGION $BUCKET_URI"
   ]
  },
  {
   "cell_type": "markdown",
   "metadata": {
    "id": "validate_bucket"
   },
   "source": [
    "最后，通过检查云存储桶的内容来验证对其的访问权限。"
   ]
  },
  {
   "cell_type": "code",
   "execution_count": null,
   "metadata": {
    "id": "validate_bucket"
   },
   "outputs": [],
   "source": [
    "! gsutil ls -al $BUCKET_URI"
   ]
  },
  {
   "cell_type": "markdown",
   "metadata": {
    "id": "setup_vars"
   },
   "source": [
    "### 设置变量\n",
    "\n",
    "接下来，设置一些在整个教程中使用的变量。\n",
    "### 导入库并定义常量"
   ]
  },
  {
   "cell_type": "code",
   "execution_count": null,
   "metadata": {
    "id": "import_aip:mbsdk"
   },
   "outputs": [],
   "source": [
    "import google.cloud.aiplatform as aip"
   ]
  },
  {
   "cell_type": "markdown",
   "metadata": {
    "id": "init_aip:mbsdk"
   },
   "source": [
    "### 初始化 Python 的 Vertex AI SDK\n",
    "\n",
    "为您的项目和相应的存储桶初始化 Python 的 Vertex AI SDK。"
   ]
  },
  {
   "cell_type": "code",
   "execution_count": null,
   "metadata": {
    "id": "init_aip:mbsdk"
   },
   "outputs": [],
   "source": [
    "aip.init(project=PROJECT_ID, staging_bucket=BUCKET_URI)"
   ]
  },
  {
   "cell_type": "markdown",
   "metadata": {
    "id": "3c2d091d9e73"
   },
   "source": [
    "## 编写自定义数据预处理\n",
    "\n",
    "首先，为训练数据编写名为`preprocess.py`的模块进行数据预处理。由于所有特征都是数值型的，每个特征列都将被标准化 - 即均值为0，标准差为1。这也被称为对数值特征值进行缩放。"
   ]
  },
  {
   "cell_type": "code",
   "execution_count": null,
   "metadata": {
    "id": "58d843d21fa8"
   },
   "outputs": [],
   "source": [
    "%%writefile src/preprocess.py\n",
    "import numpy as np\n",
    "\n",
    "class MySimpleScaler(object):\n",
    "    def __init__(self):\n",
    "        self._means = None\n",
    "        self._stds = None\n",
    "\n",
    "    def preprocess(self, data):\n",
    "        if self._means is None:  # during training only\n",
    "            self._means = np.mean(data, axis=0)\n",
    "\n",
    "        if self._stds is None:  # during training only\n",
    "            self._stds = np.std(data, axis=0)\n",
    "            if not self._stds.all():\n",
    "                raise ValueError(\"At least one column has standard deviation of 0.\")\n",
    "\n",
    "        return (data - self._means) / self._stds"
   ]
  },
  {
   "cell_type": "markdown",
   "metadata": {
    "id": "4b816cd52f4b"
   },
   "source": [
    "## 训练并存储模型和数据预处理模块\n",
    "\n",
    "接下来，按照以下步骤训练模型：\n",
    "\n",
    "1. 使用 `preprocess.MySimpleScaler` 对鸢尾花数据进行预处理。\n",
    "2. 使用 scikit-learn 训练模型。\n",
    "3. 将训练好的模型导出为 joblib（.joblib）文件。\n",
    "4. 将你的 `MySimpleScaler` 实例导出为 pickle（.pkl）文件。"
   ]
  },
  {
   "cell_type": "code",
   "execution_count": null,
   "metadata": {
    "id": "rhaV7a37AWJv"
   },
   "outputs": [],
   "source": [
    "%mkdir model"
   ]
  },
  {
   "cell_type": "code",
   "execution_count": null,
   "metadata": {
    "id": "43e47249f736"
   },
   "outputs": [],
   "source": [
    "%cd src\n",
    "\n",
    "import pickle\n",
    "\n",
    "import joblib\n",
    "from preprocess import MySimpleScaler\n",
    "from sklearn.datasets import load_iris\n",
    "from sklearn.ensemble import RandomForestClassifier\n",
    "\n",
    "iris = load_iris()\n",
    "scaler = MySimpleScaler()\n",
    "\n",
    "X = scaler.preprocess(iris.data)\n",
    "y = iris.target\n",
    "\n",
    "model = RandomForestClassifier()\n",
    "model.fit(X, y)\n",
    "\n",
    "joblib.dump(model, \"../model/model.joblib\")\n",
    "with open(\"../model/preprocessor.pkl\", \"wb\") as f:\n",
    "    pickle.dump(scaler, f)\n",
    "\n",
    "%cd .."
   ]
  },
  {
   "cell_type": "markdown",
   "metadata": {
    "id": "3849066a33bd"
   },
   "source": [
    "### 上传模型工件和自定义数据预处理器到云存储\n",
    "\n",
    "要部署您的模型，模型工件 `model.joblib` 和数据预处理器 `preprocessor.pkl` 需要存储在云存储中。"
   ]
  },
  {
   "cell_type": "code",
   "execution_count": null,
   "metadata": {
    "id": "ca67ee52d4d9"
   },
   "outputs": [],
   "source": [
    "! gsutil cp model/* {BUCKET_URI}/model/\n",
    "! gsutil ls {BUCKET_URI}/model/"
   ]
  },
  {
   "cell_type": "markdown",
   "metadata": {
    "id": "480a1d88ecdb"
   },
   "source": [
    "使用CPR模型服务器构建自定义模型服务容器的过程：场景1：实现预处理器和后处理器\n",
    "\n",
    "接下来，是时候为训练好的模型和数据预处理器构建一个自定义的服务容器了。对于数据预处理，我们可以通过使用AutoGraph编译器（例如，@tf.function装饰器）将数据预处理器与模型合并，将Python代码转换为静态图。这种方法有以下几个限制：\n",
    "\n",
    "- 不是所有的Python操作都可以转换为图操作。\n",
    "- 仅支持静态图操作。\n",
    "\n",
    "虽然这种简单的数据预处理器可以转换为静态图，但许多更复杂的预处理和后处理无法这样做。在这种情况下，我们希望预处理和后处理步骤作为纯Python代码执行，其中：\n",
    "\n",
    "- 数据预处理在HTTP服务器和模型输入之间被插入。\n",
    "- 数据预处理被沙盒化，这样如果引发异常，不会导致模型服务器崩溃。\n",
    "\n",
    "Vertex AI自定义预测例程提供了一个模板方法来实现上述操作，可以直接使用。\n",
    "\n",
    "了解有关[自定义预测例程模型服务器](https://github.com/googleapis/python-aiplatform/blob/custom-prediction-routine/google/cloud/aiplatform/prediction/model_server.py)的更多信息。\n",
    "\n",
    "自定义模型服务容器包含以下三个代码组件：\n",
    "\n",
    "1. [模型服务器](https://github.com/googleapis/python-aiplatform/blob/custom-prediction-routine/google/cloud/aiplatform/prediction/model_server.py)\n",
    "   - 托管模型的HTTP服务器\n",
    "   - 负责设置路由/端口等\n",
    "   - 在这个示例中，我们将直接使用`google.cloud.aiplatform.prediction.model_server.ModelServer`。\n",
    "2. [请求处理器](https://github.com/googleapis/python-aiplatform/blob/custom-prediction-routine/google/cloud/aiplatform/prediction/handler.py)\n",
    "   - 负责处理请求的网络服务器方面，例如反序列化请求主体，序列化响应，设置响应头等。\n",
    "   - 在这个示例中，我们将使用SDK中提供的默认处理器`google.cloud.aiplatform.prediction.handler.PredictionHandler`。\n",
    "3. [预测器](https://github.com/googleapis/python-aiplatform/blob/custom-prediction-routine/google/cloud/aiplatform/prediction/predictor.py)\n",
    "   - 负责处理预测请求的ML逻辑。\n",
    "\n",
    "这三个组件中的每一个都可以根据自定义容器的要求进行定制。\n",
    "\n",
    "您可以使用预定义的[`SklearnPredictor`](https://github.com/googleapis/python-aiplatform/blob/custom-prediction-routine/google/cloud/aiplatform/prediction/sklearn/predictor.py)作为您的`CprPredictor`的基类。您只需要实现`load`，`preprocess`和`postprocess`方法。\n",
    "\n",
    "请先实现一个自定义的`Predictor`，加载预处理器。然后在`preprocess`时使用这个预处理器。"
   ]
  },
  {
   "cell_type": "code",
   "execution_count": null,
   "metadata": {
    "id": "fkh8DT7CCgQO"
   },
   "outputs": [],
   "source": [
    "%%writefile src/predictor.py\n",
    "\n",
    "import joblib\n",
    "import numpy as np\n",
    "import pickle\n",
    "\n",
    "from google.cloud import storage\n",
    "from google.cloud.aiplatform.prediction.sklearn.predictor import SklearnPredictor\n",
    "\n",
    "from sklearn.datasets import load_iris\n",
    "\n",
    "\n",
    "class CprPredictor(SklearnPredictor):\n",
    "    \n",
    "    def __init__(self):\n",
    "        return\n",
    "    \n",
    "    def load(self, gcs_artifacts_uri: str):\n",
    "        \"\"\"Loads the preprocessor artifacts.\"\"\"\n",
    "        super().load(gcs_artifacts_uri)\n",
    "        gcs_client = storage.Client()\n",
    "        with open(\"preprocessor.pkl\", 'wb') as preprocessor_f:\n",
    "            gcs_client.download_blob_to_file(\n",
    "                f\"{gcs_artifacts_uri}/preprocessor.pkl\", preprocessor_f\n",
    "            )\n",
    "\n",
    "        with open(\"preprocessor.pkl\", \"rb\") as f:\n",
    "            preprocessor = pickle.load(f)\n",
    "\n",
    "        self._class_names = load_iris().target_names\n",
    "        self._preprocessor = preprocessor\n",
    "    \n",
    "    def preprocess(self, prediction_input):\n",
    "        \"\"\"Perform scaling preprocessing\"\"\"\n",
    "        inputs = super().preprocess(prediction_input)\n",
    "        return self._preprocessor.preprocess(inputs)\n",
    "    \n",
    "    def postprocess(self, prediction_results):\n",
    "        \"\"\"Convert class indices to class names.\"\"\"\n",
    "        return {\"predictions\": [self._class_names[class_num] for class_num in prediction_results]}"
   ]
  },
  {
   "cell_type": "markdown",
   "metadata": {
    "id": "51e149fdec1b"
   },
   "source": [
    "构建并推送容器到Artifact Registry."
   ]
  },
  {
   "cell_type": "markdown",
   "metadata": {
    "id": "3bdb9a7768a5"
   },
   "source": [
    "### 构建您的容器\n",
    "\n",
    "要构建一个自定义容器，我们还需要编写一个启动模型服务器的镜像入口点。然而，使用自定义预测例程功能时，您不再需要编写入口点。Vertex AI SDK 将使用您提供的自定义预测器填充入口点。"
   ]
  },
  {
   "cell_type": "markdown",
   "metadata": {
    "id": "8phJWBhe7u9u"
   },
   "source": [
    "#### 设置凭据（用于本地执行）\n",
    "\n",
    "设置凭据仅在本地运行自定义服务容器时才需要。设置凭据是为了执行“Predictor”的“load”函数，该函数从云存储下载模型工件。\n",
    "\n",
    "根据为您的服务账号授予的权限，有两种设置凭据的选项。\n",
    "\n",
    "如果尚未启用IAM API，请首先启用它。"
   ]
  },
  {
   "cell_type": "code",
   "execution_count": null,
   "metadata": {
    "id": "mERTlLb6dluB"
   },
   "outputs": [],
   "source": [
    "! gcloud services enable iam.googleapis.com"
   ]
  },
  {
   "cell_type": "markdown",
   "metadata": {
    "id": "sBCra4QMA2wR"
   },
   "source": [
    "#### 选项1：服务帐号\n",
    "\n",
    "按照以下步骤操作：\n",
    "\n",
    "1. 在 Cloud 控制台中，转到 [**创建服务帐号密钥**页面](https://console.cloud.google.com/apis/credentials/serviceaccountkey)。\n",
    "\n",
    "2. 点击 **创建服务帐号**。\n",
    "\n",
    "3. 在 **服务帐号名称**字段中输入名称，然后点击 **创建**。\n",
    "\n",
    "4. 在 **授予此服务帐号访问项目**部分，点击 **角色** 下拉列表。在过滤框中输入 \"Vertex AI\"，然后选择 **Vertex AI 管理员**。在过滤框中输入 \"存储对象管理员\"，然后选择 **存储对象管理员**。\n",
    "\n",
    "接下来，生成服务帐号密钥，并将其保存到您运行此笔记本的同一目录中的 `credentials.json` 文件中。"
   ]
  },
  {
   "cell_type": "code",
   "execution_count": null,
   "metadata": {
    "id": "set_service_account"
   },
   "outputs": [],
   "source": [
    "SERVICE_ACCOUNT = \"[your-service-account]\"  # @param {type:\"string\"}"
   ]
  },
  {
   "cell_type": "code",
   "execution_count": null,
   "metadata": {
    "id": "autoset_service_account"
   },
   "outputs": [],
   "source": [
    "if (\n",
    "    SERVICE_ACCOUNT == \"\"\n",
    "    or SERVICE_ACCOUNT is None\n",
    "    or SERVICE_ACCOUNT == \"[your-service-account]\"\n",
    "):\n",
    "    # Get your GCP project id from gcloud\n",
    "    shell_output = !gcloud auth list 2>/dev/null\n",
    "    SERVICE_ACCOUNT = shell_output[2].replace(\"*\", \"\").strip()\n",
    "    print(\"Service Account:\", SERVICE_ACCOUNT)"
   ]
  },
  {
   "cell_type": "code",
   "execution_count": null,
   "metadata": {
    "id": "f4lduXfvdluB"
   },
   "outputs": [],
   "source": [
    "! gcloud iam service-accounts keys create credentials.json --iam-account=$SERVICE_ACCOUNT\n",
    "! gcloud auth application-default login"
   ]
  },
  {
   "cell_type": "markdown",
   "metadata": {
    "id": "0310674cc35c"
   },
   "source": [
    "选项2：用户帐户\n",
    "\n",
    "按照以下步骤操作：\n",
    "\n",
    "1. 打开终端并cd到运行笔记本的相同目录。\n",
    "\n",
    "2. 执行命令 `gcloud auth application-default login` -- 答复yes以继续。这将打开一个身份验证浏览器标签页。按照说明操作。"
   ]
  },
  {
   "cell_type": "code",
   "execution_count": null,
   "metadata": {
    "id": "2e934aff1bbf"
   },
   "outputs": [],
   "source": [
    "CREDENTIALS_FILE = \"/home/jupyter/.config/gcloud/application_default_credentials.json\""
   ]
  },
  {
   "cell_type": "markdown",
   "metadata": {
    "id": "240578ec9efe"
   },
   "source": [
    "构建您的自定义模型服务容器\n",
    "\n",
    "构建自定义图像需要一个Dockerfile，您需要在其中实现图像的外观。使用自定义预测例程功能，Vertex AI SDK会自动生成Dockerfile并为您构建图像。\n",
    "\n",
    "默认情况下，使用`python:3.7`作为基础图像。"
   ]
  },
  {
   "cell_type": "code",
   "execution_count": null,
   "metadata": {
    "id": "3d3a6b9ed22b"
   },
   "outputs": [],
   "source": [
    "import os\n",
    "\n",
    "from google.cloud.aiplatform.prediction import LocalModel\n",
    "from src.predictor import CprPredictor\n",
    "\n",
    "REPOSITORY = \"custom-preprocess-container-prediction\"  # @param {type:\"string\"}\n",
    "SERVER_IMAGE = \"sklearn-cpr-preprocess-server\"  # @param {type:\"string\"}\n",
    "\n",
    "local_model = LocalModel.build_cpr_model(\n",
    "    \"src\",\n",
    "    f\"{REGION}-docker.pkg.dev/{PROJECT_ID}/{REPOSITORY}/{SERVER_IMAGE}\",\n",
    "    predictor=CprPredictor,\n",
    "    requirements_path=\"src/requirements.txt\",\n",
    ")"
   ]
  },
  {
   "cell_type": "markdown",
   "metadata": {
    "id": "04c988201499"
   },
   "source": [
    "获取用于服务的容器规格\n",
    "\n",
    "接下来，显示您刚刚构建的定制服务容器的规格。"
   ]
  },
  {
   "cell_type": "code",
   "execution_count": null,
   "metadata": {
    "id": "f1e7d639b9cc"
   },
   "outputs": [],
   "source": [
    "local_model.get_serving_container_spec()"
   ]
  },
  {
   "cell_type": "markdown",
   "metadata": {
    "id": "8b62ddf1def3"
   },
   "source": [
    "### 创建示例数据\n",
    "\n",
    "接下来，创建一些合成的示例数据，并将这些示例数据以 JSON 格式存储用于预测。\n",
    "\n",
    "了解更多关于 [在 JSON 中格式化输入实例](https://cloud.google.com/vertex-ai/docs/predictions/online-predictions-custom-models#request-body-details) 的信息。"
   ]
  },
  {
   "cell_type": "code",
   "execution_count": null,
   "metadata": {
    "id": "I2gh8JrJAWJ0"
   },
   "outputs": [],
   "source": [
    "INPUT_FILE = \"instances.json\""
   ]
  },
  {
   "cell_type": "code",
   "execution_count": null,
   "metadata": {
    "id": "b6605e9e6186"
   },
   "outputs": [],
   "source": [
    "%%writefile $INPUT_FILE\n",
    "{\n",
    "    \"instances\": [\n",
    "        [6.7, 3.1, 4.7, 1.5],\n",
    "        [4.6, 3.1, 1.5, 0.2]\n",
    "    ]\n",
    "}"
   ]
  },
  {
   "cell_type": "markdown",
   "metadata": {
    "id": "147a555f6c93"
   },
   "source": [
    "### 在本地测试自定义模型服务容器\n",
    "\n",
    "接下来，您可以在本地测试您的自定义模型服务容器，使用 CPR。在这个示例中，容器会执行一个预测请求和一个健康检查。\n",
    "\n",
    "*注意:* 您需要在之前的步骤中设置好凭据，并在运行容器时传递凭据的路径。服务账号应具有 **Storage Object Admin** 权限。"
   ]
  },
  {
   "cell_type": "code",
   "execution_count": null,
   "metadata": {
    "id": "62ed2d334d0f"
   },
   "outputs": [],
   "source": [
    "with local_model.deploy_to_local_endpoint(\n",
    "    artifact_uri=f\"{BUCKET_URI}/model\",\n",
    "    credential_path=CREDENTIALS_FILE,  # Update this to the path to your credentials.\n",
    ") as local_endpoint:\n",
    "    predict_response = local_endpoint.predict(\n",
    "        request_file=INPUT_FILE,\n",
    "        headers={\"Content-Type\": \"application/json\"},\n",
    "    )\n",
    "\n",
    "    health_check_response = local_endpoint.run_health_check()"
   ]
  },
  {
   "cell_type": "markdown",
   "metadata": {
    "id": "GtsAtOCeAWJ1"
   },
   "source": [
    "打印预测响应及其内容。"
   ]
  },
  {
   "cell_type": "code",
   "execution_count": null,
   "metadata": {
    "id": "ce629eea32fd"
   },
   "outputs": [],
   "source": [
    "predict_response, predict_response.content"
   ]
  },
  {
   "cell_type": "markdown",
   "metadata": {
    "id": "4tq0Iqk5AWJ2"
   },
   "source": [
    "打印出健康检查的响应和内容。"
   ]
  },
  {
   "cell_type": "code",
   "execution_count": null,
   "metadata": {
    "id": "56986f93438e"
   },
   "outputs": [],
   "source": [
    "health_check_response, health_check_response.content"
   ]
  },
  {
   "cell_type": "markdown",
   "metadata": {
    "id": "a29fcbbe0188"
   },
   "source": [
    "同时打印出所有容器日志。"
   ]
  },
  {
   "cell_type": "code",
   "execution_count": null,
   "metadata": {
    "id": "SGK96YCYAWJ2"
   },
   "outputs": [],
   "source": [
    "local_endpoint.print_container_logs(show_all=True)"
   ]
  },
  {
   "cell_type": "markdown",
   "metadata": {
    "id": "212b2935ea12"
   },
   "source": [
    "### 将容器推送到工件存储库\n",
    "\n",
    "#### 配置Docker以访问工件存储库"
   ]
  },
  {
   "cell_type": "code",
   "execution_count": null,
   "metadata": {
    "id": "wSFXCj3LdluJ"
   },
   "outputs": [],
   "source": [
    "! gcloud services enable artifactregistry.googleapis.com"
   ]
  },
  {
   "cell_type": "code",
   "execution_count": null,
   "metadata": {
    "id": "09ffe2434e3d"
   },
   "outputs": [],
   "source": [
    "! gcloud beta artifacts repositories create {REPOSITORY} \\\n",
    "    --repository-format=docker \\\n",
    "    --location=$REGION"
   ]
  },
  {
   "cell_type": "code",
   "execution_count": null,
   "metadata": {
    "id": "293437024749"
   },
   "outputs": [],
   "source": [
    "! gcloud auth configure-docker {REGION}-docker.pkg.dev --quiet"
   ]
  },
  {
   "cell_type": "markdown",
   "metadata": {
    "id": "GqAhftktAWJ3"
   },
   "source": [
    "将您的容器镜像推送到您的构件存储库。"
   ]
  },
  {
   "cell_type": "code",
   "execution_count": null,
   "metadata": {
    "id": "1dd7448f4703"
   },
   "outputs": [],
   "source": [
    "local_model.push_image()"
   ]
  },
  {
   "cell_type": "markdown",
   "metadata": {
    "id": "b438bfa2129f"
   },
   "source": [
    "将自定义模型服务容器部署到Vertex AI\n",
    "\n",
    "将自定义服务容器上传到“Vertex AI模型”资源\n",
    "\n",
    "使用LocalModel实例将自定义服务容器上传到“Vertex AI模型”资源。它将自动为您填充容器规范。"
   ]
  },
  {
   "cell_type": "code",
   "execution_count": null,
   "metadata": {
    "id": "2738154345d5"
   },
   "outputs": [],
   "source": [
    "model = aip.Model.upload(\n",
    "    local_model=local_model,\n",
    "    display_name=\"iris_\" + TIMESTAMP,\n",
    "    artifact_uri=f\"{BUCKET_URI}/model\",\n",
    ")"
   ]
  },
  {
   "cell_type": "markdown",
   "metadata": {
    "id": "bd1b85afc7df"
   },
   "source": [
    "将模型部署到 `Vertex AI Endpoint` 资源\n",
    "\n",
    "接下来，将 Vertex AI 模型资源部署到 Vertex AI Endpoint 资源，用于预测。"
   ]
  },
  {
   "cell_type": "code",
   "execution_count": null,
   "metadata": {
    "id": "62cf66498a28"
   },
   "outputs": [],
   "source": [
    "endpoint = model.deploy(machine_type=\"n1-standard-4\")"
   ]
  },
  {
   "cell_type": "markdown",
   "metadata": {
    "id": "6883e7b07143"
   },
   "source": [
    "使用部署模型进行预测\n",
    "\n",
    "### 使用 Vertex AI SDK\n",
    "\n",
    "首先，您可以使用 Vertex AI SDK 发出预测请求。"
   ]
  },
  {
   "cell_type": "code",
   "execution_count": null,
   "metadata": {
    "id": "d69ed411c2d3"
   },
   "outputs": [],
   "source": [
    "endpoint.predict(instances=[[6.7, 3.1, 4.7, 1.5], [4.6, 3.1, 1.5, 0.2]])"
   ]
  },
  {
   "cell_type": "markdown",
   "metadata": {
    "id": "370d22f53427"
   },
   "source": [
    "使用REST\n",
    "\n",
    "接下来，您重复相同的操作，但使用REST接口发出预测请求。"
   ]
  },
  {
   "cell_type": "code",
   "execution_count": null,
   "metadata": {
    "id": "ba55bc560d58"
   },
   "outputs": [],
   "source": [
    "ENDPOINT_ID = endpoint.name"
   ]
  },
  {
   "cell_type": "code",
   "execution_count": null,
   "metadata": {
    "id": "95c562b4e98b"
   },
   "outputs": [],
   "source": [
    "! curl \\\n",
    "-H \"Authorization: Bearer $(gcloud auth print-access-token)\" \\\n",
    "-H \"Content-Type: application/json\" \\\n",
    "-d @instances.json \\\n",
    "https://{REGION}-aiplatform.googleapis.com/v1/projects/{PROJECT_ID}/locations/{REGION}/endpoints/{ENDPOINT_ID}:predict"
   ]
  },
  {
   "cell_type": "markdown",
   "metadata": {
    "id": "fa71174a7dd0"
   },
   "source": [
    "使用gcloud CLI\n",
    "\n",
    "最后，您重复相同的操作，但是使用gcloud命令行界面来发出预测请求。"
   ]
  },
  {
   "cell_type": "code",
   "execution_count": null,
   "metadata": {
    "id": "23b8e807b02c"
   },
   "outputs": [],
   "source": [
    "! gcloud ai endpoints predict $ENDPOINT_ID \\\n",
    "  --region=$REGION \\\n",
    "  --json-request=instances.json"
   ]
  },
  {
   "cell_type": "markdown",
   "metadata": {
    "id": "c5abba410f12"
   },
   "source": [
    "清理：情景1"
   ]
  },
  {
   "cell_type": "code",
   "execution_count": null,
   "metadata": {
    "id": "sx_vKniMq9ZX"
   },
   "outputs": [],
   "source": [
    "try:\n",
    "    # Undeploy model and delete endpoint\n",
    "    endpoint.delete(force=True)\n",
    "\n",
    "    # Delete the model resource\n",
    "    model.delete()\n",
    "except:\n",
    "    pass\n",
    "\n",
    "# Delete the container image from Artifact Registry\n",
    "! gcloud artifacts docker images delete \\\n",
    "    --quiet \\\n",
    "    --delete-tags \\\n",
    "    {REGION}-docker.pkg.dev/{PROJECT_ID}/{REPOSITORY}/{SERVER_IMAGE}\n",
    "\n",
    "! rm -rf model"
   ]
  },
  {
   "cell_type": "markdown",
   "metadata": {
    "id": "480a1d88ecdb"
   },
   "source": [
    "## 使用CPR模型服务器构建自定义模型服务容器：场景2：实现预测器\n",
    "\n",
    "接下来，您将为CPR模型服务器实现自定义`predictor()`方法，而不是使用预先构建的预测器。`predictor()`方法处理将实例数据发送到模型并接收预测请求。它还将调用`preprocess()`方法对输入数据进行预处理，然后将其发送到模型。在此示例中，您继承基类`Predictor`，并实现相应的`predictor()`方法。\n",
    "\n",
    "```python\n",
    "class CprPredictor(Predictor):\n",
    "    \"\"\"用于Sklearn模型的默认预测器实现。\"\"\"\n",
    "\n",
    "    def __init__(self):\n",
    "        return\n",
    "\n",
    "    def load(self, gcs_artifacts_uri: str):\n",
    "        \"\"\"加载模型工件。\n",
    "           加载预处理器模块。\n",
    "        \"\"\"\n",
    "\n",
    "    def preprocess(self, prediction_input: dict):\n",
    "        \"\"\"(super)将预处理器应用于输入数据。\n",
    "        \"\"\"\n",
    "\n",
    "    def predict(self, instances: np.ndarray):\n",
    "        \"\"\"执行预测。\n",
    "        \"\"\"\n",
    "```"
   ]
  },
  {
   "cell_type": "code",
   "execution_count": null,
   "metadata": {
    "id": "fkh8DT7CCgQO"
   },
   "outputs": [],
   "source": [
    "%%writefile src/predictor.py\n",
    "\n",
    "import joblib\n",
    "import numpy as np\n",
    "import pickle\n",
    "\n",
    "from google.cloud import storage\n",
    "from google.cloud.aiplatform.prediction.predictor import Predictor\n",
    "\n",
    "from sklearn.datasets import load_iris\n",
    "\n",
    "\n",
    "class CprPredictor(Predictor):\n",
    "    \n",
    "    def __init__(self):\n",
    "        return\n",
    "    \n",
    "    def load(self, gcs_artifacts_uri: str):\n",
    "        \"\"\"Loads the preprocessor and model artifacts.\"\"\"\n",
    "        gcs_client = storage.Client()\n",
    "        with open(\"preprocessor.pkl\", 'wb') as preprocessor_f, open(\"model.joblib\", 'wb') as model_f:\n",
    "            gcs_client.download_blob_to_file(\n",
    "                f\"{gcs_artifacts_uri}/preprocessor.pkl\", preprocessor_f\n",
    "            )\n",
    "            gcs_client.download_blob_to_file(\n",
    "                f\"{gcs_artifacts_uri}/model.joblib\", model_f\n",
    "            )\n",
    "\n",
    "        with open(\"preprocessor.pkl\", \"rb\") as f:\n",
    "            preprocessor = pickle.load(f)\n",
    "\n",
    "        self._class_names = load_iris().target_names\n",
    "        self._model = joblib.load(\"model.joblib\")\n",
    "        self._preprocessor = preprocessor\n",
    "\n",
    "    def predict(self, instances):\n",
    "        \"\"\"Performs prediction.\"\"\"\n",
    "        instances = instances[\"instances\"]\n",
    "        inputs = np.asarray(instances)\n",
    "        preprocessed_inputs = self._preprocessor.preprocess(inputs)\n",
    "        outputs = self._model.predict(preprocessed_inputs)\n",
    "\n",
    "        return {\"predictions\": [self._class_names[class_num] for class_num in outputs]}"
   ]
  },
  {
   "cell_type": "markdown",
   "metadata": {
    "id": "51e149fdec1b"
   },
   "source": [
    "## 构建自定义模型服务容器\n",
    "\n",
    "接下来，您需要构建自定义模型的服务容器。"
   ]
  },
  {
   "cell_type": "code",
   "execution_count": null,
   "metadata": {
    "id": "3d3a6b9ed22b"
   },
   "outputs": [],
   "source": [
    "import os\n",
    "\n",
    "from google.cloud.aiplatform.prediction import LocalModel\n",
    "from src.predictor import CprPredictor\n",
    "\n",
    "local_model = LocalModel.build_cpr_model(\n",
    "    \"src\",\n",
    "    f\"{REGION}-docker.pkg.dev/{PROJECT_ID}/{REPOSITORY}/{SERVER_IMAGE}\",\n",
    "    predictor=CprPredictor,\n",
    "    requirements_path=os.path.join(\"src\", \"requirements.txt\"),\n",
    ")"
   ]
  },
  {
   "cell_type": "markdown",
   "metadata": {
    "id": "04c988201499"
   },
   "source": [
    "获取用于服务容器的规格\n",
    "\n",
    "接下来，显示您刚刚建立的自定义服务容器的规格。"
   ]
  },
  {
   "cell_type": "code",
   "execution_count": null,
   "metadata": {
    "id": "f1e7d639b9cc"
   },
   "outputs": [],
   "source": [
    "local_model.get_serving_container_spec()"
   ]
  },
  {
   "cell_type": "markdown",
   "metadata": {
    "id": "147a555f6c93"
   },
   "source": [
    "### 在本地测试自定义模型服务容器\n",
    "\n",
    "接下来，您可以在本地使用 CPR 测试您的自定义模型服务容器。在这个例子中，容器执行预测请求和健康检查。\n",
    "\n",
    "*注意:* 您需要在之前的步骤中设置好凭证，并且在运行容器时传递凭证的路径。服务账号应该具有 **存储对象管理员** 权限。"
   ]
  },
  {
   "cell_type": "code",
   "execution_count": null,
   "metadata": {
    "id": "62ed2d334d0f"
   },
   "outputs": [],
   "source": [
    "with local_model.deploy_to_local_endpoint(\n",
    "    artifact_uri=f\"{BUCKET_URI}/model\",\n",
    "    credential_path=CREDENTIALS_FILE,\n",
    ") as local_endpoint:\n",
    "    predict_response = local_endpoint.predict(\n",
    "        request_file=INPUT_FILE,\n",
    "        headers={\"Content-Type\": \"application/json\"},\n",
    "    )\n",
    "\n",
    "    health_check_response = local_endpoint.run_health_check()"
   ]
  },
  {
   "cell_type": "markdown",
   "metadata": {
    "id": "GtsAtOCeAWJ1"
   },
   "source": [
    "打印出预测响应及其内容。"
   ]
  },
  {
   "cell_type": "code",
   "execution_count": null,
   "metadata": {
    "id": "ce629eea32fd"
   },
   "outputs": [],
   "source": [
    "predict_response, predict_response.content"
   ]
  },
  {
   "cell_type": "markdown",
   "metadata": {
    "id": "4tq0Iqk5AWJ2"
   },
   "source": [
    "打印出健康检查的响应及其内容。"
   ]
  },
  {
   "cell_type": "code",
   "execution_count": null,
   "metadata": {
    "id": "56986f93438e"
   },
   "outputs": [],
   "source": [
    "health_check_response, health_check_response.content"
   ]
  },
  {
   "cell_type": "markdown",
   "metadata": {
    "id": "a29fcbbe0188"
   },
   "source": [
    "也打印出所有容器日志。"
   ]
  },
  {
   "cell_type": "code",
   "execution_count": null,
   "metadata": {
    "id": "SGK96YCYAWJ2"
   },
   "outputs": [],
   "source": [
    "local_endpoint.print_container_logs(show_all=True)"
   ]
  },
  {
   "cell_type": "markdown",
   "metadata": {
    "id": "212b2935ea12"
   },
   "source": [
    "### 推送容器到工件注册表\n",
    "\n",
    "#### 配置Docker以访问工件注册表"
   ]
  },
  {
   "cell_type": "code",
   "execution_count": null,
   "metadata": {
    "id": "293437024749"
   },
   "outputs": [],
   "source": [
    "! gcloud auth configure-docker {REGION}-docker.pkg.dev --quiet"
   ]
  },
  {
   "cell_type": "markdown",
   "metadata": {
    "id": "GqAhftktAWJ3"
   },
   "source": [
    "将您的容器镜像推送到Artifact Registry存储库"
   ]
  },
  {
   "cell_type": "code",
   "execution_count": null,
   "metadata": {
    "id": "1dd7448f4703"
   },
   "outputs": [],
   "source": [
    "local_model.push_image()"
   ]
  },
  {
   "cell_type": "markdown",
   "metadata": {
    "id": "b438bfa2129f"
   },
   "source": [
    "将自定义模型Serving容器部署到Vertex AI\n",
    "\n",
    "使用LocalModel实例将自定义Serving容器上传到“Vertex AI模型”资源。它会自动为您填充容器规范。"
   ]
  },
  {
   "cell_type": "code",
   "execution_count": null,
   "metadata": {
    "id": "2738154345d5"
   },
   "outputs": [],
   "source": [
    "model = aip.Model.upload(\n",
    "    local_model=local_model,\n",
    "    display_name=\"iris_\" + TIMESTAMP,\n",
    "    artifact_uri=f\"{BUCKET_URI}/model\",\n",
    ")"
   ]
  },
  {
   "cell_type": "markdown",
   "metadata": {
    "id": "bd1b85afc7df"
   },
   "source": [
    "### 将模型部署到 `Vertex AI Endpoint` 资源\n",
    "\n",
    "接下来，部署 Vertex AI 模型资源到 Vertex AI Endpoint 资源，用于预测。"
   ]
  },
  {
   "cell_type": "code",
   "execution_count": null,
   "metadata": {
    "id": "62cf66498a28"
   },
   "outputs": [],
   "source": [
    "endpoint = model.deploy(machine_type=\"n1-standard-4\")"
   ]
  },
  {
   "cell_type": "markdown",
   "metadata": {
    "id": "6883e7b07143"
   },
   "source": [
    "使用顶点 AI SDK 进行部署模型的预测\n",
    "\n",
    "使用顶点 AI SDK 发送一个预测请求。"
   ]
  },
  {
   "cell_type": "code",
   "execution_count": null,
   "metadata": {
    "id": "d69ed411c2d3"
   },
   "outputs": [],
   "source": [
    "endpoint.predict(instances=[[6.7, 3.1, 4.7, 1.5], [4.6, 3.1, 1.5, 0.2]])"
   ]
  },
  {
   "cell_type": "markdown",
   "metadata": {
    "id": "6615c21bf7d4"
   },
   "source": [
    "清理：场景2"
   ]
  },
  {
   "cell_type": "code",
   "execution_count": null,
   "metadata": {
    "id": "sx_vKniMq9ZX"
   },
   "outputs": [],
   "source": [
    "try:\n",
    "    # Undeploy model and delete endpoint\n",
    "    endpoint.delete(force=True)\n",
    "\n",
    "    # Delete the model resource\n",
    "    model.delete()\n",
    "except:\n",
    "    pass\n",
    "\n",
    "# Delete the container image from Artifact Registry\n",
    "! gcloud artifacts docker images delete \\\n",
    "    --quiet \\\n",
    "    --delete-tags \\\n",
    "    {REGION}-docker.pkg.dev/{PROJECT_ID}/{REPOSITORY}/{SERVER_IMAGE}\n",
    "\n",
    "! rm -rf model src/entrypoint.py"
   ]
  },
  {
   "cell_type": "markdown",
   "metadata": {
    "id": "83fb8ce349c6"
   },
   "source": [
    "使用CPR模型服务器构建自定义模型服务容器：场景3：实现预测器和请求处理程序\n",
    "\n",
    "接下来，您将为CPR模型服务器实现自定义的`handler()`方法，而不是使用预先构建的http请求处理程序。`handler()`方法用于处理从HTTP请求消息中提取预测请求。它还将调用`predictor()`方法，传递提取的实例数据以进行预测请求。\n",
    "\n",
    "[`Handler`](https://github.com/googleapis/python-aiplatform/blob/custom-prediction-routine/google/cloud/aiplatform/prediction/handler.py)必须实现以下接口。\n",
    "\n",
    "```\n",
    "class CprHandler(PredictionHandler):\n",
    "    \"\"\"用于处理预测请求的Handler类的接口。\"\"\"\n",
    "\n",
    "    def __init__(\n",
    "        self, gcs_artifacts_uri: str, predictor: Optional[Type[Predictor]] = None,\n",
    "    ):\n",
    "        \"\"\"初始化一个处理程序实例。\n",
    "        Args:\n",
    "            gcs_artifacts_uri (str):\n",
    "                必填。环境变量AIP_STORAGE_URI的值。\n",
    "            predictor (Type[Predictor]):\n",
    "                可选。如果给定，则此处理程序使用的Predictor类以初始化预测器实例。\n",
    "        \"\"\"\n",
    "\n",
    "    def handle(self, request: Request) -> Response:\n",
    "        \"\"\"处理预测请求。\n",
    "        Args:\n",
    "            request (Request):\n",
    "                发送到应用程序的请求。\n",
    "        Returns:\n",
    "            预测请求的响应。\n",
    "        \"\"\"\n",
    "```"
   ]
  },
  {
   "cell_type": "code",
   "execution_count": null,
   "metadata": {
    "id": "cbc513f396d9"
   },
   "outputs": [],
   "source": [
    "%%writefile src/handler.py\n",
    "\n",
    "import csv\n",
    "from io import StringIO\n",
    "import json\n",
    "\n",
    "from fastapi import Response\n",
    "\n",
    "from google.cloud.aiplatform.prediction.handler import PredictionHandler\n",
    "\n",
    "class CprHandler(PredictionHandler):\n",
    "    \"\"\"Default prediction handler for the prediction requests sent to the application.\"\"\"\n",
    "\n",
    "    async def handle(self, request):\n",
    "        \"\"\"Handles a prediction request.\"\"\"\n",
    "        request_body = await request.body()\n",
    "        prediction_instances = self._convert_csv_to_list(request_body)\n",
    "        prediction_instances = {\"instances\": prediction_instances}\n",
    "\n",
    "        prediction_results = self._predictor.postprocess(\n",
    "            self._predictor.predict(self._predictor.preprocess(prediction_instances))\n",
    "        )\n",
    "\n",
    "        return Response(content=json.dumps(prediction_results))\n",
    "    \n",
    "    def _convert_csv_to_list(self, data):\n",
    "        \"\"\"Converts list of string in csv format to list of float.\n",
    "        \n",
    "        Example input:\n",
    "          b\"1.1,2.2,3.3,4.4\\n2.3,3.4,4.5,5.6\\n\"\n",
    "          \n",
    "        Example output:\n",
    "            [\n",
    "                [1.1, 2.2, 3.3, 4.4],\n",
    "                [2.3, 3.4, 4.5, 5.6],\n",
    "            ]\n",
    "        \"\"\"\n",
    "        res = []\n",
    "        for r in csv.reader(StringIO(data.decode(\"utf-8\")), quoting=csv.QUOTE_NONNUMERIC):\n",
    "            res.append(r)\n",
    "        return res"
   ]
  },
  {
   "cell_type": "markdown",
   "metadata": {
    "id": "51e149fdec1b"
   },
   "source": [
    "## 构建自定义模型服务容器\n",
    "\n",
    "接下来，您要构建自定义模型服务容器。"
   ]
  },
  {
   "cell_type": "code",
   "execution_count": null,
   "metadata": {
    "id": "3d3a6b9ed22b"
   },
   "outputs": [],
   "source": [
    "import os\n",
    "\n",
    "from google.cloud.aiplatform.prediction import LocalModel\n",
    "from src.handler import CprHandler\n",
    "from src.predictor import CprPredictor\n",
    "\n",
    "local_model = LocalModel.build_cpr_model(\n",
    "    \"src\",\n",
    "    f\"{REGION}-docker.pkg.dev/{PROJECT_ID}/{REPOSITORY}/{SERVER_IMAGE}\",\n",
    "    predictor=CprPredictor,\n",
    "    handler=CprHandler,\n",
    "    requirements_path=os.path.join(\"src\", \"requirements.txt\"),\n",
    ")"
   ]
  },
  {
   "cell_type": "markdown",
   "metadata": {
    "id": "04c988201499"
   },
   "source": [
    "获取服务容器的规格\n",
    "\n",
    "接下来，显示刚刚建立的自定义服务容器的规格。"
   ]
  },
  {
   "cell_type": "code",
   "execution_count": null,
   "metadata": {
    "id": "f1e7d639b9cc"
   },
   "outputs": [],
   "source": [
    "local_model.get_serving_container_spec()"
   ]
  },
  {
   "cell_type": "markdown",
   "metadata": {
    "id": "8b62ddf1def3"
   },
   "source": [
    "### 创建示例数据\n",
    "\n",
    "接下来，创建一些合成示例数据，并将这些示例存储在 CSV 格式中，用于预测。\n",
    "\n",
    "要将输入实例发送到 CSV 中，需要使用 raw predict 来使用任意的 HTTP 负载，而不是 JSON 格式。\n",
    "\n",
    "了解更多关于[Raw Predict](https://cloud.google.com/vertex-ai/docs/reference/rest/v1/projects.locations.endpoints/rawPredict)。"
   ]
  },
  {
   "cell_type": "code",
   "execution_count": null,
   "metadata": {
    "id": "613ac2f0c5f8"
   },
   "outputs": [],
   "source": [
    "INPUT_FILE = \"instances.csv\""
   ]
  },
  {
   "cell_type": "code",
   "execution_count": null,
   "metadata": {
    "id": "40e06c49d3b1"
   },
   "outputs": [],
   "source": [
    "%%writefile $INPUT_FILE\n",
    "6.7,3.1,4.7,1.5\n",
    "4.6,3.1,1.5,0.2"
   ]
  },
  {
   "cell_type": "markdown",
   "metadata": {
    "id": "147a555f6c93"
   },
   "source": [
    "### 在本地测试自定义模型服务容器\n",
    "\n",
    "接下来，您可以在本地使用 CPR 测试您的自定义模型服务容器。在这个例子中，容器执行一个预测请求和一个健康检查。\n",
    "\n",
    "*注意:* 您需要在前一步设置好凭据，并在运行容器时传递凭据的路径。服务账号应该具有**存储对象管理员**权限。"
   ]
  },
  {
   "cell_type": "code",
   "execution_count": null,
   "metadata": {
    "id": "62ed2d334d0f"
   },
   "outputs": [],
   "source": [
    "with local_model.deploy_to_local_endpoint(\n",
    "    artifact_uri=f\"{BUCKET_URI}/model\",\n",
    "    credential_path=CREDENTIALS_FILE,\n",
    ") as local_endpoint:\n",
    "    predict_response = local_endpoint.predict(\n",
    "        request_file=INPUT_FILE,\n",
    "        headers={\"Content-Type\": \"application/json\"},\n",
    "    )\n",
    "\n",
    "    health_check_response = local_endpoint.run_health_check()"
   ]
  },
  {
   "cell_type": "markdown",
   "metadata": {
    "id": "GtsAtOCeAWJ1"
   },
   "source": [
    "打印出预测的响应及其内容。"
   ]
  },
  {
   "cell_type": "code",
   "execution_count": null,
   "metadata": {
    "id": "ce629eea32fd"
   },
   "outputs": [],
   "source": [
    "predict_response, predict_response.content"
   ]
  },
  {
   "cell_type": "markdown",
   "metadata": {
    "id": "4tq0Iqk5AWJ2"
   },
   "source": [
    "打印出健康检查的响应和内容。"
   ]
  },
  {
   "cell_type": "code",
   "execution_count": null,
   "metadata": {
    "id": "56986f93438e"
   },
   "outputs": [],
   "source": [
    "health_check_response, health_check_response.content"
   ]
  },
  {
   "cell_type": "markdown",
   "metadata": {
    "id": "a29fcbbe0188"
   },
   "source": [
    "也打印出所有容器日志。"
   ]
  },
  {
   "cell_type": "code",
   "execution_count": null,
   "metadata": {
    "id": "SGK96YCYAWJ2"
   },
   "outputs": [],
   "source": [
    "local_endpoint.print_container_logs(show_all=True)"
   ]
  },
  {
   "cell_type": "markdown",
   "metadata": {
    "id": "212b2935ea12"
   },
   "source": [
    "### 将容器推送至制品存储库\n",
    "\n",
    "#### 配置Docker以访问制品存储库"
   ]
  },
  {
   "cell_type": "code",
   "execution_count": null,
   "metadata": {
    "id": "293437024749"
   },
   "outputs": [],
   "source": [
    "! gcloud auth configure-docker {REGION}-docker.pkg.dev --quiet"
   ]
  },
  {
   "cell_type": "markdown",
   "metadata": {
    "id": "GqAhftktAWJ3"
   },
   "source": [
    "将您的容器镜像推送到Artifact Registry存储库"
   ]
  },
  {
   "cell_type": "code",
   "execution_count": null,
   "metadata": {
    "id": "1dd7448f4703"
   },
   "outputs": [],
   "source": [
    "local_model.push_image()"
   ]
  },
  {
   "cell_type": "markdown",
   "metadata": {
    "id": "b438bfa2129f"
   },
   "source": [
    "将自定义模型服务容器部署到 Vertex AI\n",
    "\n",
    "### 将自定义服务容器上传到`Vertex AI模型`资源\n",
    "\n",
    "使用LocalModel实例将自定义服务容器上传到`Vertex AI模型`资源。它会自动为您填充容器规范。"
   ]
  },
  {
   "cell_type": "code",
   "execution_count": null,
   "metadata": {
    "id": "2738154345d5"
   },
   "outputs": [],
   "source": [
    "model = aip.Model.upload(\n",
    "    local_model=local_model,\n",
    "    display_name=\"iris_\" + TIMESTAMP,\n",
    "    artifact_uri=f\"{BUCKET_URI}/model\",\n",
    ")"
   ]
  },
  {
   "cell_type": "markdown",
   "metadata": {
    "id": "bd1b85afc7df"
   },
   "source": [
    "### 部署模型到 `Vertex AI Endpoint` 资源\n",
    "\n",
    "接下来，部署 Vertex AI 模型资源到一个 Vertex AI Endpoint 资源，用于预测。"
   ]
  },
  {
   "cell_type": "code",
   "execution_count": null,
   "metadata": {
    "id": "62cf66498a28"
   },
   "outputs": [],
   "source": [
    "endpoint = model.deploy(machine_type=\"n1-standard-4\")"
   ]
  },
  {
   "cell_type": "markdown",
   "metadata": {
    "id": "6883e7b07143"
   },
   "source": [
    "## 对部署的模型进行预测\n",
    "\n",
    "### 使用Vertex AI SDK\n",
    "\n",
    "使用Vertex AI SDK的`rawPredict()`方法进行预测请求。"
   ]
  },
  {
   "cell_type": "code",
   "execution_count": null,
   "metadata": {
    "id": "d69ed411c2d3"
   },
   "outputs": [],
   "source": [
    "from google.api import httpbody_pb2\n",
    "from google.cloud import aiplatform_v1 as gapic\n",
    "\n",
    "prediction_client = gapic.PredictionServiceClient(\n",
    "    client_options={\"api_endpoint\": f\"{REGION}-aiplatform.googleapis.com\"}\n",
    ")\n",
    "\n",
    "with open(INPUT_FILE) as f:\n",
    "    http_body = httpbody_pb2.HttpBody(\n",
    "        data=f.read().encode(\"utf-8\"),\n",
    "        content_type=\"text/csv\",\n",
    "    )\n",
    "\n",
    "request = gapic.RawPredictRequest(\n",
    "    endpoint=endpoint.resource_name,\n",
    "    http_body=http_body,\n",
    ")\n",
    "\n",
    "prediction_client.raw_predict(request=request)"
   ]
  },
  {
   "cell_type": "markdown",
   "metadata": {
    "id": "b7f3a59b2a90"
   },
   "source": [
    "清理：场景3"
   ]
  },
  {
   "cell_type": "code",
   "execution_count": null,
   "metadata": {
    "id": "sx_vKniMq9ZX"
   },
   "outputs": [],
   "source": [
    "try:\n",
    "    # Undeploy model and delete endpoint\n",
    "    endpoint.delete(force=True)\n",
    "\n",
    "    # Delete the model resource\n",
    "    model.delete()\n",
    "except:\n",
    "    pass\n",
    "\n",
    "# Delete the container image from Artifact Registry\n",
    "! gcloud artifacts docker images delete \\\n",
    "    --quiet \\\n",
    "    --delete-tags \\\n",
    "    {REGION}-docker.pkg.dev/{PROJECT_ID}/{REPOSITORY}/{SERVER_IMAGE}\n",
    "\n",
    "! rm -rf model src/entrypoint.py"
   ]
  },
  {
   "cell_type": "markdown",
   "metadata": {
    "id": "62cfac5782e7"
   },
   "source": [
    "使用CPR模型服务器构建自定义模型服务容器：场景4：实现Docker构建过程\n",
    "\n",
    "接下来，您将实现Docker构建过程，而不是使用预定义的Docker构建过程。\n",
    "\n",
    "首先，编写容器的入口文件，该文件将启动自定义模型服务器。"
   ]
  },
  {
   "cell_type": "code",
   "execution_count": null,
   "metadata": {
    "id": "2168b4651335"
   },
   "outputs": [],
   "source": [
    "%%writefile src/entrypoint.py\n",
    "\n",
    "import os\n",
    "from typing import Optional, Type\n",
    "\n",
    "from google.cloud.aiplatform import prediction\n",
    "\n",
    "from predictor import CprPredictor\n",
    "from handler import CprHandler\n",
    "\n",
    "\n",
    "def main(\n",
    "    predictor_class: Optional[Type[prediction.predictor.Predictor]] = None,\n",
    "    handler_class: Type[prediction.handler.Handler] = prediction.handler.PredictionHandler,\n",
    "    model_server_class: Type[prediction.model_server.ModelServer] = prediction.model_server.ModelServer,\n",
    "):\n",
    "    handler = handler_class(\n",
    "        os.environ.get(\"AIP_STORAGE_URI\"), predictor=predictor_class\n",
    "    )\n",
    "\n",
    "    return model_server_class(handler).start()\n",
    "\n",
    "if __name__ == \"__main__\":\n",
    "    main(\n",
    "        predictor_class=CprPredictor,\n",
    "        handler_class=CprHandler\n",
    "    )"
   ]
  },
  {
   "cell_type": "markdown",
   "metadata": {
    "id": "0bf858cfb9df"
   },
   "source": [
    "### 构建自定义模型服务容器\n",
    "\n",
    "#### 编写 Docker 文件。\n",
    "\n",
    "首先，构建 Docker 文件。 *注意：* 您需要将入口点指定为您定义的入口点模块。"
   ]
  },
  {
   "cell_type": "code",
   "execution_count": null,
   "metadata": {
    "id": "35c57e3371b3"
   },
   "outputs": [],
   "source": [
    "%%writefile Dockerfile\n",
    "\n",
    "# Users select base images.\n",
    "FROM python:3.7\n",
    "\n",
    "# Sets the directories' permissions so that any user can access the folder.\n",
    "RUN mkdir -m 777 -p /home /usr/app\n",
    "ENV HOME=/home\n",
    "WORKDIR /usr/app\n",
    "\n",
    "# Copies all the stuff to the image.\n",
    "COPY src /usr/app/src\n",
    "COPY src/requirements.txt /usr/app/requirements.txt\n",
    "\n",
    "# Installs python dependencies.\n",
    "RUN pip3 install --no-cache-dir -r /usr/app/requirements.txt\n",
    "\n",
    "# Informs Docker that the container listens on the specified ports at runtime.\n",
    "EXPOSE 8080\n",
    "\n",
    "# Sets up an entrypoint to start the model server.\n",
    "ENTRYPOINT [\"python3\", \"/usr/app/src/entrypoint.py\"]"
   ]
  },
  {
   "cell_type": "markdown",
   "metadata": {
    "id": "ee00de7e1a5c"
   },
   "source": [
    "构建容器镜像\n",
    "\n",
    "接下来，构建容器镜像。"
   ]
  },
  {
   "cell_type": "code",
   "execution_count": null,
   "metadata": {
    "id": "7cb46b465ec3"
   },
   "outputs": [],
   "source": [
    "! docker build --tag={REGION}-docker.pkg.dev/{PROJECT_ID}/{REPOSITORY}/{SERVER_IMAGE} ."
   ]
  },
  {
   "cell_type": "markdown",
   "metadata": {
    "id": "147a555f6c93"
   },
   "source": [
    "### 在本地测试自定义模型服务容器\n",
    "\n",
    "接下来，您可以在本地使用 CPR 测试您的自定义模型服务容器。在这个例子中，容器执行一个预测请求和一个健康检查。\n",
    "\n",
    "*注意：* 你需要在之前的步骤中设置好凭据，并在运行容器时传递凭据的路径。该服务账户应具有 **存储对象管理员** 权限。"
   ]
  },
  {
   "cell_type": "code",
   "execution_count": null,
   "metadata": {
    "id": "fb210d970d92"
   },
   "outputs": [],
   "source": [
    "! docker run -d -p 80:8080 \\\n",
    "    --name=local-iris-custom \\\n",
    "    -e AIP_HTTP_PORT=8080 \\\n",
    "    -e AIP_HEALTH_ROUTE=/health \\\n",
    "    -e AIP_PREDICT_ROUTE=/predict \\\n",
    "    -e AIP_STORAGE_URI={BUCKET_URI}/model \\\n",
    "    -e GOOGLE_APPLICATION_CREDENTIALS=/usr/app/credentials.json \\\n",
    "    -e GOOGLE_CLOUD_PROJECT={PROJECT_ID} \\\n",
    "    -v {CREDENTIALS_FILE}:/usr/app/credentials.json \\\n",
    "    {REGION}-docker.pkg.dev/{PROJECT_ID}/{REPOSITORY}/{SERVER_IMAGE}"
   ]
  },
  {
   "cell_type": "markdown",
   "metadata": {
    "id": "4tq0Iqk5AWJ2"
   },
   "source": [
    "打印出健康检查的响应及其内容。"
   ]
  },
  {
   "cell_type": "code",
   "execution_count": null,
   "metadata": {
    "id": "fd233b54f51b"
   },
   "outputs": [],
   "source": [
    "! curl localhost/health"
   ]
  },
  {
   "cell_type": "markdown",
   "metadata": {
    "id": "GtsAtOCeAWJ1"
   },
   "source": [
    "打印出预测的响应及其内容。"
   ]
  },
  {
   "cell_type": "code",
   "execution_count": null,
   "metadata": {
    "id": "2254c71d1322"
   },
   "outputs": [],
   "source": [
    "! curl -X POST \\\n",
    "  -d @instances.csv \\\n",
    "  -H \"Content-Type: application/json; charset=utf-8\" \\\n",
    "  localhost/predict"
   ]
  },
  {
   "cell_type": "markdown",
   "metadata": {
    "id": "641a5ac98f7d"
   },
   "source": [
    "关闭Docker服务"
   ]
  },
  {
   "cell_type": "code",
   "execution_count": null,
   "metadata": {
    "id": "707d86aabf42"
   },
   "outputs": [],
   "source": [
    "! docker stop local-iris-custom"
   ]
  },
  {
   "cell_type": "markdown",
   "metadata": {
    "id": "212b2935ea12"
   },
   "source": [
    "### 将容器推送到Artifact Registry\n",
    "\n",
    "#### 配置Docker以访问Artifact Registry"
   ]
  },
  {
   "cell_type": "code",
   "execution_count": null,
   "metadata": {
    "id": "293437024749"
   },
   "outputs": [],
   "source": [
    "! gcloud auth configure-docker {REGION}-docker.pkg.dev --quiet"
   ]
  },
  {
   "cell_type": "markdown",
   "metadata": {
    "id": "GqAhftktAWJ3"
   },
   "source": [
    "将您的容器映像推送到您的 Artifact Registry 存储库。"
   ]
  },
  {
   "cell_type": "code",
   "execution_count": null,
   "metadata": {
    "id": "1dd7448f4703"
   },
   "outputs": [],
   "source": [
    "local_model.push_image()"
   ]
  },
  {
   "cell_type": "markdown",
   "metadata": {
    "id": "b438bfa2129f"
   },
   "source": [
    "将自定义模型服务容器部署到Vertex AI\n",
    "\n",
    "将自定义服务容器上传到`Vertex AI Model`资源\n",
    "\n",
    "使用LocalModel实例将自定义服务容器上传到`Vertex AI Model`资源。它会自动为您填充容器规范。"
   ]
  },
  {
   "cell_type": "code",
   "execution_count": null,
   "metadata": {
    "id": "2738154345d5"
   },
   "outputs": [],
   "source": [
    "model = aip.Model.upload(\n",
    "    local_model=local_model,\n",
    "    display_name=\"iris_\" + TIMESTAMP,\n",
    "    artifact_uri=f\"{BUCKET_URI}/model\",\n",
    ")"
   ]
  },
  {
   "cell_type": "markdown",
   "metadata": {
    "id": "bd1b85afc7df"
   },
   "source": [
    "部署模型到`Vertex AI Endpoint`资源\n",
    "\n",
    "接下来，将Vertex AI模型资源部署到Vertex AI Endpoint资源，用于预测。"
   ]
  },
  {
   "cell_type": "code",
   "execution_count": null,
   "metadata": {
    "id": "62cf66498a28"
   },
   "outputs": [],
   "source": [
    "endpoint = model.deploy(machine_type=\"n1-standard-4\")"
   ]
  },
  {
   "cell_type": "markdown",
   "metadata": {
    "id": "6883e7b07143"
   },
   "source": [
    "## 对部署的模型进行预测\n",
    "\n",
    "### 使用Vertex AI SDK\n",
    "\n",
    "使用Vertex AI SDK的 `rawPredict()` 方法进行预测请求。"
   ]
  },
  {
   "cell_type": "code",
   "execution_count": null,
   "metadata": {
    "id": "d69ed411c2d3"
   },
   "outputs": [],
   "source": [
    "from google.api import httpbody_pb2\n",
    "from google.cloud import aiplatform_v1 as gapic\n",
    "\n",
    "prediction_client = gapic.PredictionServiceClient(\n",
    "    client_options={\"api_endpoint\": f\"{REGION}-aiplatform.googleapis.com\"}\n",
    ")\n",
    "\n",
    "with open(INPUT_FILE) as f:\n",
    "    http_body = httpbody_pb2.HttpBody(\n",
    "        data=f.read().encode(\"utf-8\"),\n",
    "        content_type=\"text/csv\",\n",
    "    )\n",
    "\n",
    "request = gapic.RawPredictRequest(\n",
    "    endpoint=endpoint.resource_name,\n",
    "    http_body=http_body,\n",
    ")\n",
    "\n",
    "prediction_client.raw_predict(request=request)"
   ]
  },
  {
   "cell_type": "markdown",
   "metadata": {
    "id": "0e2c0eecf4ad"
   },
   "source": [
    "清理：情景4"
   ]
  },
  {
   "cell_type": "code",
   "execution_count": null,
   "metadata": {
    "id": "sx_vKniMq9ZX"
   },
   "outputs": [],
   "source": [
    "try:\n",
    "    # Undeploy model and delete endpoint\n",
    "    endpoint.delete(force=True)\n",
    "\n",
    "    # Delete the model resource\n",
    "    model.delete()\n",
    "except:\n",
    "    pass\n",
    "\n",
    "# Delete the container image from Artifact Registry\n",
    "! gcloud artifacts docker images delete \\\n",
    "    --quiet \\\n",
    "    --delete-tags \\\n",
    "    {REGION}-docker.pkg.dev/{PROJECT_ID}/{REPOSITORY}/{SERVER_IMAGE}\n",
    "\n",
    "! rm -rf model src/entrypoint.py"
   ]
  },
  {
   "cell_type": "markdown",
   "metadata": {
    "id": "TpV-iwP9qw9c"
   },
   "source": [
    "## 清理\n",
    "\n",
    "要清理此项目中使用的所有Google Cloud资源，您可以[删除用于教程的Google Cloud项目](https://cloud.google.com/resource-manager/docs/creating-managing-projects#shutting_down_projects)。\n",
    "\n",
    "否则，您可以删除在此教程中创建的各个资源。"
   ]
  },
  {
   "cell_type": "code",
   "execution_count": null,
   "metadata": {
    "id": "sx_vKniMq9ZX"
   },
   "outputs": [],
   "source": [
    "delete_bucket = False\n",
    "\n",
    "if delete_bucket or os.getenv(\"IS_TESTING\"):\n",
    "    ! gsutil rm -rf {BUCKET_URI}\n",
    "\n",
    "! rm -rf src model instances.json instances.csv Dockerfile"
   ]
  }
 ],
 "metadata": {
  "colab": {
   "collapsed_sections": [],
   "name": "get_started_with_cpr.ipynb",
   "toc_visible": true
  },
  "kernelspec": {
   "display_name": "Python 3",
   "name": "python3"
  }
 },
 "nbformat": 4,
 "nbformat_minor": 0
}
