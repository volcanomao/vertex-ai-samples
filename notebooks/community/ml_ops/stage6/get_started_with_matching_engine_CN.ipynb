{
 "cells": [
  {
   "cell_type": "code",
   "execution_count": null,
   "metadata": {
    "id": "ur8xi4C7S06n"
   },
   "outputs": [],
   "source": [
    "# Copyright 2022 Google LLC\n",
    "#\n",
    "# Licensed under the Apache License, Version 2.0 (the \"License\");\n",
    "# you may not use this file except in compliance with the License.\n",
    "# You may obtain a copy of the License at\n",
    "#\n",
    "#     https://www.apache.org/licenses/LICENSE-2.0\n",
    "#\n",
    "# Unless required by applicable law or agreed to in writing, software\n",
    "# distributed under the License is distributed on an \"AS IS\" BASIS,\n",
    "# WITHOUT WARRANTIES OR CONDITIONS OF ANY KIND, either express or implied.\n",
    "# See the License for the specific language governing permissions and\n",
    "# limitations under the License."
   ]
  },
  {
   "cell_type": "markdown",
   "metadata": {
    "id": "3e4b7925f2ff"
   },
   "source": [
    "这本笔记本是[Sara Robinson和Ivan Chueng](https://github.com/GoogleCloudPlatform/vertex-ai-samples/blob/main/notebooks/community/matching_engine/sdk_matching_engine_for_indexing.ipynb)的笔记本的修订版本。"
   ]
  },
  {
   "cell_type": "markdown",
   "metadata": {
    "id": "JAPoU8Sm5E6e"
   },
   "source": [
    "# GCP 上的 E2E ML： MLOps 阶段6：服务：使用 Vertex AI Vector Search 入门\n",
    "\n",
    "<table align=\"left\">\n",
    "\n",
    "  <td>\n",
    "    <a href=\"https://github.com/GoogleCloudPlatform/vertex-ai-samples/blob/main/notebooks/community/ml_ops/stage6/get_started_with_matching_engine.ipynb\">\n",
    "      <img src=\"https://cloud.google.com/ml-engine/images/github-logo-32px.png\" alt=\"GitHub logo\">\n",
    "      在 GitHub 上查看\n",
    "    </a>\n",
    "  </td>\n",
    "    <td>\n",
    "        <a href=\"https://colab.research.google.com/github/GoogleCloudPlatform/vertex-ai-samples/blob/main/notebooks/community/ml_ops/stage6/get_started_with_matching_engine.ipynb\">\n",
    "        <img src=\"https://cloud.google.com/ml-engine/images/colab-logo-32px.png\" alt=\"Colab logo\"> 在 Colab 中运行\n",
    "        </a>\n",
    "  </td>\n",
    "  <td>\n",
    "    <a href=\"https://console.cloud.google.com/vertex-ai/workbench/deploy-notebook?download_url=https://raw.githubusercontent.com/GoogleCloudPlatform/vertex-ai-samples/main/notebooks/community/ml_ops/stage6/get_started_with_matching_engine.ipynb\">\n",
    "      <img src=\"https://lh3.googleusercontent.com/UiNooY4LUgW_oTvpsNhPpQzsstV5W8F7rYgxgGBD85cWJoLmrOzhVs_ksK_vgx40SHs7jCqkTkCk=e14-rj-sc0xffffff-h130-w32\" alt=\"Vertex AI logo\">\n",
    "      在 Vertex AI Workbench 中打开\n",
    "    </a>\n",
    "  </td>\n",
    "</table>"
   ]
  },
  {
   "cell_type": "markdown",
   "metadata": {
    "id": "tvgnzT1CKxrO"
   },
   "source": [
    "## 概述\n",
    "\n",
    "本教程演示了如何使用`Vertex AI矢量搜索`服务。这是一个云AI服务，是用于向量（即嵌入）的适当最近邻（ANN）索引和匹配服务，具有高可伸缩性和低延迟。该服务构建在由谷歌研究开发的[近似最近邻（ANN）技术](https://ai.googleblog.com/2020/07/announcing-scann-efficient-vector.html)之上。\n",
    "\n",
    "有几个级别可以使用这项服务。\n",
    "\n",
    "*无代码*\n",
    "\n",
    "在本教程中进行演示。用户使用自己的嵌入进行索引和查询。\n",
    "\n",
    "*低代码*\n",
    "\n",
    "用户使用Vertex AI预构建算法Twivel和TwoTowers构建嵌入。\n",
    "\n",
    "*高代码*\n",
    "\n",
    "用户使用`Vertex AI按示例解释`配置服务二进制文件，从模型中生成嵌入，进行索引和查询。\n",
    "\n",
    "了解更多关于[Vertex AI矢量搜索](https://cloud.google.com/vertex-ai/docs/matching-engine/overview)。"
   ]
  },
  {
   "cell_type": "markdown",
   "metadata": {
    "id": "f0550a2d6016"
   },
   "source": [
    "### 目标\n",
    "\n",
    "在本笔记本中，您将学习如何创建近似最近邻居（ANN）索引，并对索引进行查询。\n",
    "\n",
    "本教程使用以下 Google Cloud ML 服务：\n",
    "\n",
    "- `Vertex AI 矢量搜索`\n",
    "\n",
    "执行的步骤包括：\n",
    "\n",
    "- 创建 ANN 索引。\n",
    "- 创建带有 VPC 网络的 IndexEndpoint\n",
    "- 部署 ANN 索引\n",
    "- 执行在线查询\n",
    "- 部署蛮力（brute force）索引\n",
    "- 在 ANN 索引和蛮力索引之间执行校准。"
   ]
  },
  {
   "cell_type": "markdown",
   "metadata": {
    "id": "d63423fd74f7"
   },
   "source": [
    "嵌入\n",
    "\n",
    "这个教程中使用的预先构建的嵌入是[GloVe数据集](https://nlp.stanford.edu/projects/glove/)。\n",
    "\n",
    "“GloVe是一种用于获取单词向量表示的无监督学习算法。 训练是基于语料库中聚合的全局词-词共现统计数据进行的，结果表示展示了词向量空间中有趣的线性子结构。”"
   ]
  },
  {
   "cell_type": "markdown",
   "metadata": {
    "id": "de76bb18c85b"
   },
   "source": [
    "成本\n",
    "\n",
    "本教程使用Google Cloud的计费组件：\n",
    "\n",
    "- Vertex AI\n",
    "- 云存储\n",
    "\n",
    "了解 [Vertex AI\n",
    "价格](https://cloud.google.com/vertex-ai/pricing) 和 [云存储\n",
    "价格](https://cloud.google.com/storage/pricing)，并使用 [价格\n",
    "计算器](https://cloud.google.com/products/calculator/)\n",
    "根据您预期的使用情况生成成本估算。"
   ]
  },
  {
   "cell_type": "markdown",
   "metadata": {
    "id": "install_aip:mbsdk"
   },
   "source": [
    "## 安装\n",
    "\n",
    "安装执行该笔记本所需的包。"
   ]
  },
  {
   "cell_type": "code",
   "execution_count": null,
   "metadata": {
    "id": "install_mlops"
   },
   "outputs": [],
   "source": [
    "import os\n",
    "\n",
    "# The Vertex AI Workbench Notebook product has specific requirements\n",
    "IS_WORKBENCH_NOTEBOOK = os.getenv(\"DL_ANACONDA_HOME\")\n",
    "IS_USER_MANAGED_WORKBENCH_NOTEBOOK = os.path.exists(\n",
    "    \"/opt/deeplearning/metadata/env_version\"\n",
    ")\n",
    "\n",
    "# Vertex AI Notebook requires dependencies to be installed with '--user'\n",
    "USER_FLAG = \"\"\n",
    "if IS_WORKBENCH_NOTEBOOK:\n",
    "    USER_FLAG = \"--user\"\n",
    "\n",
    "! pip3 install --upgrade google-cloud-aiplatform {USER_FLAG} -q\n",
    "! pip3 install -U grpcio-tools {USER_FLAG} -q\n",
    "! pip3 install -U h5py {USER_FLAG} -q"
   ]
  },
  {
   "cell_type": "markdown",
   "metadata": {
    "id": "hhq5zEbGg0XX"
   },
   "source": [
    "重新启动内核\n",
    "\n",
    "在安装附加包之后，您需要重新启动笔记本内核，以便它可以找到这些包。"
   ]
  },
  {
   "cell_type": "code",
   "execution_count": null,
   "metadata": {
    "id": "EzrelQZ22IZj"
   },
   "outputs": [],
   "source": [
    "# Automatically restart kernel after installs\n",
    "import os\n",
    "\n",
    "if not os.getenv(\"IS_TESTING\"):\n",
    "    # Automatically restart kernel after installs\n",
    "    import IPython\n",
    "\n",
    "    app = IPython.Application.instance()\n",
    "    app.kernel.do_shutdown(True)"
   ]
  },
  {
   "cell_type": "markdown",
   "metadata": {
    "id": "before_you_begin"
   },
   "source": [
    "## 开始之前\n",
    "\n",
    "### GPU运行时\n",
    "\n",
    "*如果有此选项，请确保在GPU运行时中运行此笔记本。在Colab中，选择* **运行时 > 更改运行类型 > GPU**\n",
    "\n",
    "### 设置您的谷歌云项目\n",
    "\n",
    "**无论您使用的是哪种笔记本环境，以下步骤都是必需的。**\n",
    "\n",
    "1. [选择或创建一个谷歌云项目](https://console.cloud.google.com/cloud-resource-manager)。当您第一次创建帐户时，您会获得$300的免费信用额度用于计算/存储成本。\n",
    "\n",
    "2. [确保为您的项目启用了计费。](https://cloud.google.com/billing/docs/how-to/modify-project)\n",
    "\n",
    "3. [启用以下API：Vertex AI API，Compute Engine API和Cloud Storage。](https://console.cloud.google.com/flows/enableapi?apiid=aiplatform.googleapis.com,compute_component,storage-component.googleapis.com)\n",
    "\n",
    "4. [启用服务网络API](https://console.cloud.google.com/flows/enableapi?apiid=servicenetworking.googleapis.com)。\n",
    "\n",
    "5. [启用Cloud DNS API](https://console.cloud.google.com/flows/enableapi?apiid=dns.googleapis.com)。\n",
    "\n",
    "6. 如果您在本地运行此笔记本，您需要安装[Cloud SDK]((https://cloud.google.com/sdk))。\n",
    "\n",
    "7. 在下面的单元格中输入您的项目ID。然后运行该单元格，以确保Cloud SDK在此笔记本中的所有命令中使用正确的项目。\n",
    "\n",
    "**注意**：Jupyter在以`!`为前缀的行上运行为shell命令，并会替换以`$`为前缀的Python变量。"
   ]
  },
  {
   "cell_type": "markdown",
   "metadata": {
    "id": "project_id"
   },
   "source": [
    "将您的项目ID设置为## \n",
    "\n",
    "**如果您不知道您的项目ID**，您可以使用 `gcloud` 获取您的项目ID。"
   ]
  },
  {
   "cell_type": "code",
   "execution_count": null,
   "metadata": {
    "id": "set_project_id"
   },
   "outputs": [],
   "source": [
    "PROJECT_ID = \"[your-project-id]\"  # @param {type:\"string\"}"
   ]
  },
  {
   "cell_type": "code",
   "execution_count": null,
   "metadata": {
    "id": "autoset_project_id"
   },
   "outputs": [],
   "source": [
    "if PROJECT_ID == \"\" or PROJECT_ID is None or PROJECT_ID == \"[your-project-id]\":\n",
    "    # Get your GCP project id from gcloud\n",
    "    shell_output = ! gcloud config list --format 'value(core.project)' 2>/dev/null\n",
    "    PROJECT_ID = shell_output[0]\n",
    "    print(\"Project ID:\", PROJECT_ID)"
   ]
  },
  {
   "cell_type": "code",
   "execution_count": null,
   "metadata": {
    "id": "set_gcloud_project_id"
   },
   "outputs": [],
   "source": [
    "! gcloud config set project $PROJECT_ID"
   ]
  },
  {
   "cell_type": "markdown",
   "metadata": {
    "id": "23988890fef6"
   },
   "source": [
    "获取您的项目编号\n",
    "\n",
    "现在项目 ID 已设置，您会得到相应的项目编号。"
   ]
  },
  {
   "cell_type": "code",
   "execution_count": null,
   "metadata": {
    "id": "2d6950574e1d"
   },
   "outputs": [],
   "source": [
    "shell_output = ! gcloud projects list --filter=\"PROJECT_ID:'{PROJECT_ID}'\" --format='value(PROJECT_NUMBER)'\n",
    "PROJECT_NUMBER = shell_output[0]\n",
    "print(\"Project Number:\", PROJECT_NUMBER)"
   ]
  },
  {
   "cell_type": "markdown",
   "metadata": {
    "id": "region"
   },
   "source": [
    "#### 区域\n",
    "\n",
    "您还可以更改“REGION”变量，该变量用于整个笔记本中的操作。以下是支持 Vertex AI 的区域。我们建议您选择距离您最近的区域。\n",
    "\n",
    "- 美洲：`us-central1`\n",
    "- 欧洲：`europe-west4`\n",
    "- 亚太：`asia-east1`\n",
    "\n",
    "您可能无法使用多区域存储桶来训练 Vertex AI。并非所有区域都支持所有 Vertex AI 服务。\n",
    "\n",
    "了解更多关于 [Vertex AI 区域](https://cloud.google.com/vertex-ai/docs/general/locations)。"
   ]
  },
  {
   "cell_type": "code",
   "execution_count": null,
   "metadata": {
    "id": "region"
   },
   "outputs": [],
   "source": [
    "REGION = \"[your-region]\"  # @param {type: \"string\"}\n",
    "\n",
    "if REGION == \"[your-region]\":\n",
    "    REGION = \"us-central1\""
   ]
  },
  {
   "cell_type": "markdown",
   "metadata": {
    "id": "timestamp"
   },
   "source": [
    "时间戳\n",
    "\n",
    "如果您正在进行在线教程会话，您可能正在使用共享的测试帐户或项目。为了避免用户在创建的资源之间发生名称冲突，您可以为每个实例会话创建一个时间戳，并将时间戳附加到您在本教程中创建的资源名称中。"
   ]
  },
  {
   "cell_type": "code",
   "execution_count": null,
   "metadata": {
    "id": "timestamp"
   },
   "outputs": [],
   "source": [
    "from datetime import datetime\n",
    "\n",
    "TIMESTAMP = datetime.now().strftime(\"%Y%m%d%H%M%S\")"
   ]
  },
  {
   "cell_type": "markdown",
   "metadata": {
    "id": "gcp_authenticate"
   },
   "source": [
    "###验证你的Google Cloud账号\n",
    "\n",
    "**如果你正在使用Vertex AI Workbench笔记本**，你的环境已经验证通过。跳过这一步。\n",
    "\n",
    "**如果你正在使用Colab**，运行下面的单元格，并按照提示进行身份验证，通过oAuth。\n",
    "\n",
    "**否则**，请按照以下步骤操作：\n",
    "\n",
    "在云控制台中，转到[创建服务账号密钥](https://console.cloud.google.com/apis/credentials/serviceaccountkey)页面。\n",
    "\n",
    "**点击创建服务账号**。\n",
    "\n",
    "在**服务账号名称**字段中，输入一个名称，然后点击**创建**。\n",
    "\n",
    "在**授予此服务账号项目访问权限**部分，点击角色下拉列表。在筛选框中输入“Vertex”，选择**Vertex管理员**。在筛选框中输入“Storage Object Admin”，选择**Storage Object Admin**。\n",
    "\n",
    "点击创建。包含您密钥的JSON文件将下载到您的本地环境中。\n",
    "\n",
    "在下面的单元格中，输入服务账号密钥的路径作为GOOGLE_APPLICATION_CREDENTIALS变量，并运行该单元格。"
   ]
  },
  {
   "cell_type": "code",
   "execution_count": null,
   "metadata": {
    "id": "gcp_authenticate"
   },
   "outputs": [],
   "source": [
    "# If you are running this notebook in Colab, run this cell and follow the\n",
    "# instructions to authenticate your GCP account. This provides access to your\n",
    "# Cloud Storage bucket and lets you submit training jobs and prediction\n",
    "# requests.\n",
    "\n",
    "import os\n",
    "import sys\n",
    "\n",
    "# If on Vertex AI Workbench, then don't execute this code\n",
    "IS_COLAB = False\n",
    "if not os.path.exists(\"/opt/deeplearning/metadata/env_version\") and not os.getenv(\n",
    "    \"DL_ANACONDA_HOME\"\n",
    "):\n",
    "    if \"google.colab\" in sys.modules:\n",
    "        IS_COLAB = True\n",
    "        from google.colab import auth as google_auth\n",
    "\n",
    "        google_auth.authenticate_user()\n",
    "\n",
    "    # If you are running this notebook locally, replace the string below with the\n",
    "    # path to your service account key and run this cell to authenticate your GCP\n",
    "    # account.\n",
    "    elif not os.getenv(\"IS_TESTING\"):\n",
    "        %env GOOGLE_APPLICATION_CREDENTIALS ''"
   ]
  },
  {
   "cell_type": "markdown",
   "metadata": {
    "id": "bucket:mbsdk"
   },
   "source": [
    "### 创建一个云存储桶\n",
    "\n",
    "**无论您使用什么笔记本环境，以下步骤都是必须的。**\n",
    "\n",
    "当您初始化用于 Python 的 Vertex AI SDK 时，您需要指定一个云存储暂存桶。这个暂存桶是所有与您的数据集和模型资源相关的数据在会话之间保留的地方。\n",
    "\n",
    "在下面设置您的云存储桶的名称。桶的名称必须在所有 Google 云项目中全局唯一，包括您组织之外的项目。"
   ]
  },
  {
   "cell_type": "code",
   "execution_count": null,
   "metadata": {
    "id": "bucket"
   },
   "outputs": [],
   "source": [
    "BUCKET_NAME = \"[your-bucket-name]\"  # @param {type:\"string\"}\n",
    "BUCKET_URI = f\"gs://{BUCKET_NAME}\""
   ]
  },
  {
   "cell_type": "code",
   "execution_count": null,
   "metadata": {
    "id": "autoset_bucket"
   },
   "outputs": [],
   "source": [
    "if BUCKET_URI == \"\" or BUCKET_URI is None or BUCKET_URI == \"gs://[your-bucket-name]\":\n",
    "    BUCKET_NAME = PROJECT_ID + \"aip-\" + TIMESTAMP\n",
    "    BUCKET_URI = \"gs://\" + BUCKET_NAME"
   ]
  },
  {
   "cell_type": "markdown",
   "metadata": {
    "id": "create_bucket"
   },
   "source": [
    "只有你的存储桶尚不存在：运行以下单元格以创建你的云存储桶。"
   ]
  },
  {
   "cell_type": "code",
   "execution_count": null,
   "metadata": {
    "id": "create_bucket"
   },
   "outputs": [],
   "source": [
    "! gsutil mb -l $REGION $BUCKET_URI"
   ]
  },
  {
   "cell_type": "markdown",
   "metadata": {
    "id": "validate_bucket"
   },
   "source": [
    "最终，通过检查云存储桶中的内容来验证对其的访问。"
   ]
  },
  {
   "cell_type": "code",
   "execution_count": null,
   "metadata": {
    "id": "validate_bucket"
   },
   "outputs": [],
   "source": [
    "! gsutil ls -al $BUCKET_URI"
   ]
  },
  {
   "cell_type": "markdown",
   "metadata": {
    "id": "setup_vars"
   },
   "source": [
    "### 设置变量\n",
    "\n",
    "接下来，设置一些在教程中使用的变量。\n",
    "### 导入库并定义常量"
   ]
  },
  {
   "cell_type": "code",
   "execution_count": null,
   "metadata": {
    "id": "import_aip:mbsdk"
   },
   "outputs": [],
   "source": [
    "import google.cloud.aiplatform as aiplatform\n",
    "import h5py"
   ]
  },
  {
   "cell_type": "markdown",
   "metadata": {
    "id": "init_aip:mbsdk,all"
   },
   "source": [
    "初始化Vertex AI Python SDK\n",
    "\n",
    "为您的项目和相应的存储桶初始化Vertex AI Python SDK。"
   ]
  },
  {
   "cell_type": "code",
   "execution_count": null,
   "metadata": {
    "id": "init_aip:mbsdk,all"
   },
   "outputs": [],
   "source": [
    "aiplatform.init(project=PROJECT_ID, location=REGION, staging_bucket=BUCKET_URI)"
   ]
  },
  {
   "cell_type": "markdown",
   "metadata": {
    "id": "lR6Wwv-hCCN-"
   },
   "source": [
    "### 下载并准备预构建的GloVe嵌入\n",
    "\n",
    "GloVe嵌入包含一组预训练的嵌入。这些嵌入被分为“训练”和“测试”两部分。\n",
    "您可以从“训练”部分创建一个`Vertex AI Vector Search`索引，并使用“测试”部分中的嵌入向量作为查询向量来测试该索引。\n",
    "\n",
    "*注意:* 尽管数据分割使用了术语“训练”，但这些是预训练的嵌入，因此可以立即用于索引搜索。术语“训练”和“测试”拆分仅用于与常规机器学习术语保持一致。"
   ]
  },
  {
   "cell_type": "code",
   "execution_count": null,
   "metadata": {
    "id": "9wzS85TeB9dG"
   },
   "outputs": [],
   "source": [
    "! gsutil cp gs://cloud-samples-data/vertex-ai/matching_engine/glove-100-angular.hdf5 ."
   ]
  },
  {
   "cell_type": "markdown",
   "metadata": {
    "id": "4fAO9CMoCNtq"
   },
   "source": [
    "将嵌入加载到内存中\n",
    "从HDF5存储格式中加载GloVe嵌入到内存中。"
   ]
  },
  {
   "cell_type": "code",
   "execution_count": null,
   "metadata": {
    "id": "lZ3JQTS6CN-3"
   },
   "outputs": [],
   "source": [
    "h5 = h5py.File(\"glove-100-angular.hdf5\", \"r\")\n",
    "train = h5[\"train\"]\n",
    "test = h5[\"test\"]\n",
    "print(train)"
   ]
  },
  {
   "cell_type": "markdown",
   "metadata": {
    "id": "aQIQSyF9GtSv"
   },
   "source": [
    "将火车分割保存为JSONL格式\n",
    "\n",
    "接下来，您将火车分割中的嵌入存储为JSONL格式的文件。每个嵌入都存储为：\n",
    "\n",
    "{ 'id': .., 'embedding': [ ... ] }\n",
    "\n",
    "索引的嵌入格式可以是CSV、JSON或Avro格式中的任一种。\n",
    "\n",
    "了解有关[用于索引的嵌入格式](https://cloud.google.com/vertex-ai/docs/matching-engine/using-matching-engine#json)的更多信息。"
   ]
  },
  {
   "cell_type": "code",
   "execution_count": null,
   "metadata": {
    "id": "18wCiTwfG40P"
   },
   "outputs": [],
   "source": [
    "with open(\"glove100.json\", \"w\") as f:\n",
    "    for i in range(len(train)):\n",
    "        f.write('{\"id\":\"' + str(i) + '\",')\n",
    "        f.write('\"embedding\":[' + \",\".join(str(x) for x in train[i]) + \"]}\")\n",
    "        f.write(\"\\n\")"
   ]
  },
  {
   "cell_type": "markdown",
   "metadata": {
    "id": "QuVl8DrWG8NS"
   },
   "source": [
    "将以JSONL格式存储的嵌入存储在云存储中\n",
    "\n",
    "接下来，您将上传训练数据到您的云存储桶。"
   ]
  },
  {
   "cell_type": "code",
   "execution_count": null,
   "metadata": {
    "id": "3PgsA_vbI8Vg"
   },
   "outputs": [],
   "source": [
    "EMBEDDINGS_INITIAL_URI = f\"{BUCKET_URI}/matching_engine/initial/\"\n",
    "! gsutil cp glove100.json {EMBEDDINGS_INITIAL_URI}"
   ]
  },
  {
   "cell_type": "markdown",
   "metadata": {
    "id": "qhIBCQ7dDSbW"
   },
   "source": [
    "创建向量搜索索引\n",
    "\n",
    "接下来，您将为您的嵌入创建索引。目前支持两种索引算法：\n",
    "\n",
    "- `create_tree_ah_index()`: 浅树 + 非对称哈希。\n",
    "- `create_brute_force_index()`: 线性搜索。\n",
    "\n",
    "在本教程中，您将使用`create_tree_ah_index()`来进行生产规模的工作。该方法带有以下参数：\n",
    "\n",
    "- `display_name`: 索引的人类可读名称。\n",
    "- `contents_delta_uri`: 嵌入的云存储位置，要么是要插入、更新或删除的嵌入。\n",
    "- `dimensions`: 输入向量的维数。\n",
    "- `approximate_neighbors_count`: (对于Tree AH) 在执行精确重新排序之前通过近似搜索找到的默认邻居数量。精确重新排序是通过更昂贵的距离计算重新排序通过近似搜索算法返回的结果的过程。\n",
    "- `distance_measure_type`: 用于最近邻搜索的距离测量类型。\n",
    "    - `SQUARED_L2_DISTANCE`: 欧几里德 (L2) 距离\n",
    "    - `L1_DISTANCE`: 曼哈顿 (L1) 距离\n",
    "    - `COSINE_DISTANCE`: 余弦距离。定义为1减去余弦相似度。\n",
    "    - `DOT_PRODUCT_DISTANCE`: 默认值。定义为点积的负值。\n",
    "- `description`: 索引的人类可读描述。\n",
    "- `labels`: 以字典形式的用户元数据。\n",
    "- `leaf_node_embedding_count`: 每个叶节点上的嵌入数量。如果未设置，默认值为1000。\n",
    "- `leaf_nodes_to_search_percent`: 任何查询可能搜索的叶节点的百分比。必须在1-100的范围内，包括1和100。如果未设置，默认值为10 (表示10%)。\n",
    "\n",
    "可能需要高达30分钟。\n",
    "\n",
    "了解更多关于[配置向量搜索索引](https://cloud.google.com/vertex-ai/docs/matching-engine/configuring-indexes)。"
   ]
  },
  {
   "cell_type": "code",
   "execution_count": null,
   "metadata": {
    "id": "xzY7TpUSJcTV"
   },
   "outputs": [],
   "source": [
    "DIMENSIONS = 100\n",
    "DISPLAY_NAME = \"glove_100_1\"\n",
    "\n",
    "tree_ah_index = aiplatform.MatchingEngineIndex.create_tree_ah_index(\n",
    "    display_name=DISPLAY_NAME,\n",
    "    contents_delta_uri=EMBEDDINGS_INITIAL_URI,\n",
    "    dimensions=DIMENSIONS,\n",
    "    approximate_neighbors_count=150,\n",
    "    distance_measure_type=\"DOT_PRODUCT_DISTANCE\",\n",
    "    description=\"Glove 100 ANN index\",\n",
    "    labels={\"label_name\": \"label_value\"},\n",
    "    # TreeAH specific parameters\n",
    "    leaf_node_embedding_count=500,\n",
    "    leaf_nodes_to_search_percent=7,\n",
    ")\n",
    "\n",
    "INDEX_RESOURCE_NAME = tree_ah_index.resource_name\n",
    "print(INDEX_RESOURCE_NAME)"
   ]
  },
  {
   "cell_type": "markdown",
   "metadata": {
    "id": "omlgEZ-sGoM5"
   },
   "source": [
    "### 更新索引\n",
    "\n",
    "接下来，您将使用新的嵌入更新索引 - 即插入。\n",
    "\n",
    "#### 创建更新增量文件\n",
    "\n",
    "首先，您需要制作一个包含要更新嵌入的 JSONL 文件。对于 `id` 为0的现有嵌入，您可以使用合成数据 - 在这种情况下，全部为零。然后，您将上传这个 JSONL 文件到云存储位置。"
   ]
  },
  {
   "cell_type": "code",
   "execution_count": null,
   "metadata": {
    "id": "DDAvm_mj_BVs"
   },
   "outputs": [],
   "source": [
    "with open(\"glove100_incremental.json\", \"w\") as f:\n",
    "    f.write(\n",
    "        '{\"id\":\"0\",\"embedding\":[0,0,0,0,0,0,0,0,0,0,0,0,0,0,0,0,0,0,0,0,0,0,0,0,0,0,0,0,0,0,0,0,0,0,0,0,0,0,0,0,0,0,0,0,0,0,0,0,0,0,0,0,0,0,0,0,0,0,0,0,0,0,0,0,0,0,0,0,0,0,0,0,0,0,0,0,0,0,0,0,0,0,0,0,0,0,0,0,0,0,0,0,0,0,0,0,0,0,0,0]}\\n'\n",
    "    )\n",
    "\n",
    "EMBEDDINGS_UPDATE_URI = f\"{BUCKET_URI}/matching-engine/incremental/\"\n",
    "\n",
    "! gsutil cp glove100_incremental.json {EMBEDDINGS_UPDATE_URI}"
   ]
  },
  {
   "cell_type": "markdown",
   "metadata": {
    "id": "aiXtF_x0GoM6"
   },
   "source": [
    "更新索引\n",
    "\n",
    "接下来，您可以使用方法 `update_embeddings()` 来增量更新索引，具有以下参数：\n",
    "\n",
    "- `contents_delta_uri`：嵌入的云存储位置，要么插入或更新。\n",
    "\n",
    "可选地，参数 `is_complete_overwrite` 将替换整个索引。"
   ]
  },
  {
   "cell_type": "code",
   "execution_count": null,
   "metadata": {
    "id": "tvedBONtGoM6"
   },
   "outputs": [],
   "source": [
    "tree_ah_index = tree_ah_index.update_embeddings(\n",
    "    contents_delta_uri=EMBEDDINGS_UPDATE_URI,\n",
    ")\n",
    "\n",
    "INDEX_RESOURCE_NAME = tree_ah_index.resource_name\n",
    "print(INDEX_RESOURCE_NAME)"
   ]
  },
  {
   "cell_type": "markdown",
   "metadata": {
    "id": "4f4f0bc64ddb"
   },
   "source": [
    "## 设置VPC对等连接网络\n",
    "\n",
    "为了使用`矢量搜索索引`，您需要在您的项目和`Vertex AI矢量搜索`服务项目之间设置一个VPC对等连接网络。这可以消除网络流量中的额外跳跃，并允许使用高效的gRPC协议。\n",
    "\n",
    "了解更多关于[VPC对等连接](https://cloud.google.com/vertex-ai/docs/general/vpc-peering)。\n",
    "\n",
    "**重要提示：每个项目只能设置一个到`servicenetworking.googleapis.com`的VPC对等连接。**"
   ]
  },
  {
   "cell_type": "markdown",
   "metadata": {
    "id": "d85e8f48291a"
   },
   "source": [
    "### 为默认网络创建VPC对等连接\n",
    "\n",
    "为了简化操作，我们为默认网络设置了VPC对等连接。您也可以为您的项目创建一个不同的网络。\n",
    "\n",
    "如果您要与其他任何网络建立VPC对等连接，请确保该网络已经存在，并且您的虚拟机正在该网络上运行。"
   ]
  },
  {
   "cell_type": "code",
   "execution_count": null,
   "metadata": {
    "id": "a107544fbabf"
   },
   "outputs": [],
   "source": [
    "# This is for display only; you can name the range anything.\n",
    "PEERING_RANGE_NAME = \"vertex-ai-prediction-peering-range\"\n",
    "NETWORK = \"default\"\n",
    "\n",
    "# NOTE: `prefix-length=16` means a CIDR block with mask /16 will be\n",
    "# reserved for use by Google services, such as Vertex AI.\n",
    "! gcloud compute addresses create $PEERING_RANGE_NAME \\\n",
    "  --global \\\n",
    "  --prefix-length=16 \\\n",
    "  --description=\"peering range for Google service\" \\\n",
    "  --network=$NETWORK \\\n",
    "  --purpose=VPC_PEERING"
   ]
  },
  {
   "cell_type": "markdown",
   "metadata": {
    "id": "8e29cad1a0be"
   },
   "source": [
    "创建VPC连接\n",
    "\n",
    "接下来，创建VPC对等连接。\n",
    "\n",
    "*备注:* 如果收到`权限被拒绝`的提示，可能是您的默认服务帐户没有设置必要的角色`计算网络管理员`。在云控制台中，执行以下步骤。\n",
    "\n",
    "1. 进入 `IAM & 管理员`\n",
    "2. 找到您的服务帐户。\n",
    "3. 点击编辑图标。\n",
    "4. 选择 `添加另一个角色`。\n",
    "5. 输入 `计算网络管理员`。\n",
    "6. 选择 `保存`。"
   ]
  },
  {
   "cell_type": "code",
   "execution_count": null,
   "metadata": {
    "id": "f3f6c85ffc63"
   },
   "outputs": [],
   "source": [
    "! gcloud services vpc-peerings connect \\\n",
    "  --service=servicenetworking.googleapis.com \\\n",
    "  --network=$NETWORK \\\n",
    "  --ranges=$PEERING_RANGE_NAME \\\n",
    "  --project=$PROJECT_ID"
   ]
  },
  {
   "cell_type": "markdown",
   "metadata": {
    "id": "944d772b1397"
   },
   "source": [
    "检查您的对等连接状态。"
   ]
  },
  {
   "cell_type": "code",
   "execution_count": null,
   "metadata": {
    "id": "b946ce37cc16"
   },
   "outputs": [],
   "source": [
    "! gcloud compute networks peerings list --network $NETWORK"
   ]
  },
  {
   "cell_type": "markdown",
   "metadata": {
    "id": "7a5e1b83ae61"
   },
   "source": [
    "构建完整的网络名称\n",
    "\n",
    "在随后为VPC对等连接创建`Vector Search Index Endpoint`资源时，您需要拥有完整的网络资源名称。"
   ]
  },
  {
   "cell_type": "code",
   "execution_count": null,
   "metadata": {
    "id": "cd58eb809f71"
   },
   "outputs": [],
   "source": [
    "full_network_name = f\"projects/{PROJECT_NUMBER}/global/networks/{NETWORK}\""
   ]
  },
  {
   "cell_type": "markdown",
   "metadata": {
    "id": "qV2xjAnDDObD"
   },
   "source": [
    "### 使用VPC网络创建索引终端点\n",
    "\n",
    "接下来，您会创建一个 `矢量搜索索引终端点`，类似于使用点对点网络为预测创建 `私有终端点` 的概念。\n",
    "\n",
    "要创建 `索引终端点` 资源，您需要使用以下参数调用 `create()` 方法：\n",
    "\n",
    "- `display_name`：为 `索引终端点` 指定一个易于理解的名称。\n",
    "- `description`：为 `索引终端点` 添加描述。\n",
    "- `network`：VPC网络资源的名称。"
   ]
  },
  {
   "cell_type": "code",
   "execution_count": null,
   "metadata": {
    "id": "QuARXzJVGyQX"
   },
   "outputs": [],
   "source": [
    "index_endpoint = aiplatform.MatchingEngineIndexEndpoint.create(\n",
    "    display_name=\"index_endpoint_for_demo\",\n",
    "    description=\"index endpoint description\",\n",
    "    network=full_network_name,\n",
    ")\n",
    "\n",
    "INDEX_ENDPOINT_NAME = index_endpoint.resource_name\n",
    "print(INDEX_ENDPOINT_NAME)"
   ]
  },
  {
   "cell_type": "markdown",
   "metadata": {
    "id": "8Ew1UgcIIiJG"
   },
   "source": [
    "### 部署 `Vector Search Index` 到 `Index Endpoint` 资源\n",
    "\n",
    "接下来，使用方法 `deploy_index()` 和以下参数将您的索引部署到 `Index Endpoint`:\n",
    "\n",
    "- `display_name`: 已部署索引的人类可读名称。\n",
    "- `index`: 您的索引。\n",
    "- `deployed_index_id`: 已部署索引的用户分配标识符。\n",
    "- `machine_type`: （可选）VM实例类型。\n",
    "- `min_replica_count`: （可选）自动扩展的最小VM实例数。\n",
    "- `max_replica_count`: （可选）自动扩展的最大VM实例数。\n",
    "\n",
    "了解更多关于[Index Endpoint 的机器资源](https://cloud.google.com/vertex-ai/docs/reference/rest/v1/projects.locations.indexEndpoints#DeployedIndex)"
   ]
  },
  {
   "cell_type": "code",
   "execution_count": null,
   "metadata": {
    "id": "_uK4WOgqN1NG"
   },
   "outputs": [],
   "source": [
    "DEPLOYED_INDEX_ID = \"tree_ah_glove_deployed_\" + TIMESTAMP\n",
    "\n",
    "MIN_NODES = 1\n",
    "MAX_NODES = 2\n",
    "DEPLOY_COMPUTE = \"n1-standard-16\"\n",
    "\n",
    "index_endpoint.deploy_index(\n",
    "    display_name=\"deployed_index_for_demo\",\n",
    "    index=tree_ah_index,\n",
    "    deployed_index_id=DEPLOYED_INDEX_ID,\n",
    "    # machine_type=DEPLOY_COMPUTE,\n",
    "    min_replica_count=MIN_NODES,\n",
    "    max_replica_count=MAX_NODES,\n",
    ")\n",
    "\n",
    "print(index_endpoint.deployed_indexes)"
   ]
  },
  {
   "cell_type": "markdown",
   "metadata": {
    "id": "6LCGvBNvBd8D"
   },
   "source": [
    "### 创建并执行在线查询\n",
    "\n",
    "现在您的索引已部署，您可以进行查询。\n",
    "\n",
    "首先，您使用合成数据构建一个向量 `query`，作为返回匹配项示例的示例。\n",
    "\n",
    "接下来，您使用方法 `match()` 发送匹配请求，具有以下参数：\n",
    "\n",
    "- `deployed_index_id`：已部署索引的标识符。\n",
    "- `queries`：查询（实例）的列表。\n",
    "- `num_neighbors`：要返回最接近匹配项的数量。"
   ]
  },
  {
   "cell_type": "code",
   "execution_count": null,
   "metadata": {
    "id": "A3KYVw5HB-4v"
   },
   "outputs": [],
   "source": [
    "# The number of nearest neighbors to be retrieved from database for each query.\n",
    "NUM_NEIGHBOURS = 10\n",
    "\n",
    "# Test query\n",
    "queries = [\n",
    "    [\n",
    "        -0.11333,\n",
    "        0.48402,\n",
    "        0.090771,\n",
    "        -0.22439,\n",
    "        0.034206,\n",
    "        -0.55831,\n",
    "        0.041849,\n",
    "        -0.53573,\n",
    "        0.18809,\n",
    "        -0.58722,\n",
    "        0.015313,\n",
    "        -0.014555,\n",
    "        0.80842,\n",
    "        -0.038519,\n",
    "        0.75348,\n",
    "        0.70502,\n",
    "        -0.17863,\n",
    "        0.3222,\n",
    "        0.67575,\n",
    "        0.67198,\n",
    "        0.26044,\n",
    "        0.4187,\n",
    "        -0.34122,\n",
    "        0.2286,\n",
    "        -0.53529,\n",
    "        1.2582,\n",
    "        -0.091543,\n",
    "        0.19716,\n",
    "        -0.037454,\n",
    "        -0.3336,\n",
    "        0.31399,\n",
    "        0.36488,\n",
    "        0.71263,\n",
    "        0.1307,\n",
    "        -0.24654,\n",
    "        -0.52445,\n",
    "        -0.036091,\n",
    "        0.55068,\n",
    "        0.10017,\n",
    "        0.48095,\n",
    "        0.71104,\n",
    "        -0.053462,\n",
    "        0.22325,\n",
    "        0.30917,\n",
    "        -0.39926,\n",
    "        0.036634,\n",
    "        -0.35431,\n",
    "        -0.42795,\n",
    "        0.46444,\n",
    "        0.25586,\n",
    "        0.68257,\n",
    "        -0.20821,\n",
    "        0.38433,\n",
    "        0.055773,\n",
    "        -0.2539,\n",
    "        -0.20804,\n",
    "        0.52522,\n",
    "        -0.11399,\n",
    "        -0.3253,\n",
    "        -0.44104,\n",
    "        0.17528,\n",
    "        0.62255,\n",
    "        0.50237,\n",
    "        -0.7607,\n",
    "        -0.071786,\n",
    "        0.0080131,\n",
    "        -0.13286,\n",
    "        0.50097,\n",
    "        0.18824,\n",
    "        -0.54722,\n",
    "        -0.42664,\n",
    "        0.4292,\n",
    "        0.14877,\n",
    "        -0.0072514,\n",
    "        -0.16484,\n",
    "        -0.059798,\n",
    "        0.9895,\n",
    "        -0.61738,\n",
    "        0.054169,\n",
    "        0.48424,\n",
    "        -0.35084,\n",
    "        -0.27053,\n",
    "        0.37829,\n",
    "        0.11503,\n",
    "        -0.39613,\n",
    "        0.24266,\n",
    "        0.39147,\n",
    "        -0.075256,\n",
    "        0.65093,\n",
    "        -0.20822,\n",
    "        -0.17456,\n",
    "        0.53571,\n",
    "        -0.16537,\n",
    "        0.13582,\n",
    "        -0.56016,\n",
    "        0.016964,\n",
    "        0.1277,\n",
    "        0.94071,\n",
    "        -0.22608,\n",
    "        -0.021106,\n",
    "    ],\n",
    "    [\n",
    "        -0.99544,\n",
    "        -2.3651,\n",
    "        -0.24332,\n",
    "        -1.0321,\n",
    "        0.42052,\n",
    "        -1.1817,\n",
    "        -0.16451,\n",
    "        -1.683,\n",
    "        0.49673,\n",
    "        -0.27258,\n",
    "        -0.025397,\n",
    "        0.34188,\n",
    "        1.5523,\n",
    "        1.3532,\n",
    "        0.33297,\n",
    "        -0.0056677,\n",
    "        -0.76525,\n",
    "        0.49587,\n",
    "        1.2211,\n",
    "        0.83394,\n",
    "        -0.20031,\n",
    "        -0.59657,\n",
    "        0.38485,\n",
    "        -0.23487,\n",
    "        -1.0725,\n",
    "        0.95856,\n",
    "        0.16161,\n",
    "        -1.2496,\n",
    "        1.6751,\n",
    "        0.73899,\n",
    "        0.051347,\n",
    "        -0.42702,\n",
    "        0.16257,\n",
    "        -0.16772,\n",
    "        0.40146,\n",
    "        0.29837,\n",
    "        0.96204,\n",
    "        -0.36232,\n",
    "        -0.47848,\n",
    "        0.78278,\n",
    "        0.14834,\n",
    "        1.3407,\n",
    "        0.47834,\n",
    "        -0.39083,\n",
    "        -1.037,\n",
    "        -0.24643,\n",
    "        -0.75841,\n",
    "        0.7669,\n",
    "        -0.37363,\n",
    "        0.52741,\n",
    "        0.018563,\n",
    "        -0.51301,\n",
    "        0.97674,\n",
    "        0.55232,\n",
    "        1.1584,\n",
    "        0.73715,\n",
    "        1.3055,\n",
    "        -0.44743,\n",
    "        -0.15961,\n",
    "        0.85006,\n",
    "        -0.34092,\n",
    "        -0.67667,\n",
    "        0.2317,\n",
    "        1.5582,\n",
    "        1.2308,\n",
    "        -0.62213,\n",
    "        -0.032801,\n",
    "        0.1206,\n",
    "        -0.25899,\n",
    "        -0.02756,\n",
    "        -0.52814,\n",
    "        -0.93523,\n",
    "        0.58434,\n",
    "        -0.24799,\n",
    "        0.37692,\n",
    "        0.86527,\n",
    "        0.069626,\n",
    "        1.3096,\n",
    "        0.29975,\n",
    "        -1.3651,\n",
    "        -0.32048,\n",
    "        -0.13741,\n",
    "        0.33329,\n",
    "        -1.9113,\n",
    "        -0.60222,\n",
    "        -0.23921,\n",
    "        0.12664,\n",
    "        -0.47961,\n",
    "        -0.89531,\n",
    "        0.62054,\n",
    "        0.40869,\n",
    "        -0.08503,\n",
    "        0.6413,\n",
    "        -0.84044,\n",
    "        -0.74325,\n",
    "        -0.19426,\n",
    "        0.098722,\n",
    "        0.32648,\n",
    "        -0.67621,\n",
    "        -0.62692,\n",
    "    ],\n",
    "]\n",
    "\n",
    "matches = index_endpoint.match(\n",
    "    deployed_index_id=DEPLOYED_INDEX_ID, queries=queries, num_neighbors=NUM_NEIGHBOURS\n",
    ")\n",
    "\n",
    "for instance in matches:\n",
    "    print(\"INSTANCE\")\n",
    "    for match in instance:\n",
    "        print(match)"
   ]
  },
  {
   "cell_type": "markdown",
   "metadata": {
    "id": "9e0d3dec8970"
   },
   "source": [
    "## 为校准创建暴力索引\n",
    "\n",
    "暴力索引使用天真的暴力方法来寻找最近邻居。这种方法使用线性搜索，因此对于大规模索引来说并不高效。我们建议使用暴力索引来校准近似最近邻（ANN）索引以提高召回率，或者用于关键任务的匹配。\n",
    "\n",
    "### 创建暴力索引\n",
    "\n",
    "现在使用`create_brute_force_index()`方法来创建暴力索引。\n",
    "\n",
    "为了确保苹果与苹果之间的比较，暴力索引的距离度量类型和特征规范类型，维度应与正在调整的生产指标相匹配。"
   ]
  },
  {
   "cell_type": "code",
   "execution_count": null,
   "metadata": {
    "id": "5e7fff414fd5"
   },
   "outputs": [],
   "source": [
    "brute_force_index = aiplatform.MatchingEngineIndex.create_brute_force_index(\n",
    "    display_name=DISPLAY_NAME,\n",
    "    contents_delta_uri=EMBEDDINGS_INITIAL_URI,\n",
    "    dimensions=DIMENSIONS,\n",
    "    distance_measure_type=\"DOT_PRODUCT_DISTANCE\",\n",
    "    description=\"Glove 100 index (brute force)\",\n",
    "    labels={\"label_name\": \"label_value\"},\n",
    ")\n",
    "\n",
    "INDEX_BRUTE_FORCE_RESOURCE_NAME = brute_force_index.resource_name\n",
    "print(INDEX_BRUTE_FORCE_RESOURCE_NAME)"
   ]
  },
  {
   "cell_type": "markdown",
   "metadata": {
    "id": "ec2756445d9c"
   },
   "source": [
    "更新索引\n",
    "\n",
    "为了进行苹果与苹果的比较，您要对原始力量索引执行与 Tree AH 索引相同的增量更新。"
   ]
  },
  {
   "cell_type": "code",
   "execution_count": null,
   "metadata": {
    "id": "547f8aa9d7be"
   },
   "outputs": [],
   "source": [
    "brute_force_index = tree_ah_index.update_embeddings(\n",
    "    contents_delta_uri=EMBEDDINGS_UPDATE_URI\n",
    ")"
   ]
  },
  {
   "cell_type": "markdown",
   "metadata": {
    "id": "1deaafa47163"
   },
   "source": [
    "### 部署暴力索引到`IndexEndpoint`资源\n",
    "\n",
    "接下来，您将暴力索引部署到同一个`IndexEndpoint`。\n",
    "\n",
    "*注意:* 您可以将多个索引部署到同一个`Index Endpoint`资源。"
   ]
  },
  {
   "cell_type": "code",
   "execution_count": null,
   "metadata": {
    "id": "a661c94a30e5"
   },
   "outputs": [],
   "source": [
    "DEPLOYED_BRUTE_FORCE_INDEX_ID = \"glove_brute_force_deployed_\" + TIMESTAMP\n",
    "\n",
    "index_endpoint.deploy_index(\n",
    "    index=brute_force_index, deployed_index_id=DEPLOYED_BRUTE_FORCE_INDEX_ID\n",
    ")"
   ]
  },
  {
   "cell_type": "markdown",
   "metadata": {
    "id": "c315ab3ee761"
   },
   "source": [
    "## 校准\n",
    "\n",
    "现在你已经准备好进行校准。指数的生产版本采用了一种近似方法，这意味着与更慢的精确匹配（蛮力）方法相比，可能具有不完美的召回率。\n",
    "\n",
    "### 获取两个索引的测试结果\n",
    "\n",
    "首先，使用GloVe测试嵌入，您对两个指数进行相同的请求。"
   ]
  },
  {
   "cell_type": "code",
   "execution_count": null,
   "metadata": {
    "id": "2e05792c2823"
   },
   "outputs": [],
   "source": [
    "prod_matches = index_endpoint.match(\n",
    "    deployed_index_id=DEPLOYED_INDEX_ID,\n",
    "    queries=list(test),\n",
    "    num_neighbors=NUM_NEIGHBOURS,\n",
    ")\n",
    "\n",
    "exact_matches = index_endpoint.match(\n",
    "    deployed_index_id=DEPLOYED_BRUTE_FORCE_INDEX_ID,\n",
    "    queries=list(test),\n",
    "    num_neighbors=NUM_NEIGHBOURS,\n",
    ")"
   ]
  },
  {
   "cell_type": "markdown",
   "metadata": {
    "id": "xeUZO3bAGoM-"
   },
   "source": [
    "### 计算召回率\n",
    "\n",
    "最后，您可以根据结果确定从生产指数中召回的完全匹配的百分比。您随后可以使用这些信息来调整生产指数的部署。"
   ]
  },
  {
   "cell_type": "code",
   "execution_count": null,
   "metadata": {
    "id": "V-eMF05UGoM-"
   },
   "outputs": [],
   "source": [
    "# Calculate recall by determining how many neighbors were correctly retrieved as compared to the brute-force option.\n",
    "correct_neighbors = 0\n",
    "for tree_ah_neighbors, brute_force_neighbors in zip(prod_matches, exact_matches):\n",
    "    tree_ah_neighbor_ids = [neighbor.id for neighbor in tree_ah_neighbors]\n",
    "    brute_force_neighbor_ids = [neighbor.id for neighbor in brute_force_neighbors]\n",
    "\n",
    "    correct_neighbors += len(\n",
    "        set(tree_ah_neighbor_ids).intersection(brute_force_neighbor_ids)\n",
    "    )\n",
    "\n",
    "recall = correct_neighbors / (len(test) * NUM_NEIGHBOURS)\n",
    "\n",
    "print(\"Recall: {}\".format(recall))"
   ]
  },
  {
   "cell_type": "markdown",
   "metadata": {
    "id": "TpV-iwP9qw9c"
   },
   "source": [
    "清理\n",
    "\n",
    "要清理这个项目中使用的所有Google Cloud资源，您可以[删除您用于教程的Google Cloud项目](https://cloud.google.com/resource-manager/docs/creating-managing-projects#shutting_down_projects)。\n",
    "您还可以通过运行以下代码手动删除您创建的资源。"
   ]
  },
  {
   "cell_type": "code",
   "execution_count": null,
   "metadata": {
    "id": "sx_vKniMq9ZX"
   },
   "outputs": [],
   "source": [
    "# Force undeployment of indexes and delete endpoint\n",
    "try:\n",
    "    index_endpoint.delete(force=True)\n",
    "except Exception as e:\n",
    "    print(e)\n",
    "\n",
    "# Delete indexes\n",
    "try:\n",
    "    tree_ah_index.delete()\n",
    "    brute_force_index.delete()\n",
    "except Exception as e:\n",
    "    print(e)\n",
    "\n",
    "delete_bucket = False\n",
    "if delete_bucket or os.getenv(\"IS_TESTING\"):\n",
    "    ! gsutil rm -rf {BUCKET_URI}"
   ]
  }
 ],
 "metadata": {
  "colab": {
   "collapsed_sections": [],
   "name": "get_started_with_matching_engine.ipynb",
   "toc_visible": true
  },
  "kernelspec": {
   "display_name": "Python 3",
   "name": "python3"
  }
 },
 "nbformat": 4,
 "nbformat_minor": 0
}
