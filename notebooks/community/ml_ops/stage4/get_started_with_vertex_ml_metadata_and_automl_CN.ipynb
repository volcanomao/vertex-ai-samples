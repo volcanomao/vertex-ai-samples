{
 "cells": [
  {
   "cell_type": "code",
   "execution_count": null,
   "metadata": {
    "id": "copyright"
   },
   "outputs": [],
   "source": [
    "# Copyright 2022 Google LLC\n",
    "#\n",
    "# Licensed under the Apache License, Version 2.0 (the \"License\");\n",
    "# you may not use this file except in compliance with the License.\n",
    "# You may obtain a copy of the License at\n",
    "#\n",
    "#     https://www.apache.org/licenses/LICENSE-2.0\n",
    "#\n",
    "# Unless required by applicable law or agreed to in writing, software\n",
    "# distributed under the License is distributed on an \"AS IS\" BASIS,\n",
    "# WITHOUT WARRANTIES OR CONDITIONS OF ANY KIND, either express or implied.\n",
    "# See the License for the specific language governing permissions and\n",
    "# limitations under the License."
   ]
  },
  {
   "cell_type": "markdown",
   "metadata": {
    "id": "title:generic,gcp"
   },
   "source": [
    "# GCP 上的端到端机器学习：MLOps 阶段 4：评估：开始使用 AutoML 训练和 ML Metadata\n",
    "\n",
    "<table align=\"left\">\n",
    "  <td>\n",
    "    <a href=\"https://github.com/GoogleCloudPlatform/vertex-ai-samples/blob/main/notebooks/community/ml_ops/stage4/get_started_with_vertex_ml_metadata_and_automl.ipynb\">\n",
    "      <img src=\"https://cloud.google.com/ml-engine/images/github-logo-32px.png\" alt=\"GitHub logo\">\n",
    "      在 GitHub 上查看\n",
    "    </a>\n",
    "  </td>\n",
    "  <td>\n",
    "        <a href=\"https://colab.research.google.com/github/GoogleCloudPlatform/vertex-ai-samples/blob/main/notebooks/community/ml_ops/stage4/get_started_with_vertex_ml_metadata_and_automl.ipynb\">\n",
    "        <img src=\"https://cloud.google.com/ml-engine/images/colab-logo-32px.png\" alt=\"Colab logo\"> 在 Colab 中运行\n",
    "        </a>\n",
    "  </td>\n",
    "  <td>\n",
    "    <a href=\"https://console.cloud.google.com/vertex-ai/workbench/deploy-notebook?download_url=https://raw.githubusercontent.com/GoogleCloudPlatform/vertex-ai-samples/main/notebooks/community/ml_ops/stage4/get_started_with_vertex_ml_metadata_and_automl.ipynb\">\n",
    "      <img src=\"https://lh3.googleusercontent.com/UiNooY4LUgW_oTvpsNhPpQzsstV5W8F7rYgxgGBD85cWJoLmrOzhVs_ksK_vgx40SHs7jCqkTkCk=e14-rj-sc0xffffff-h130-w32\" alt=\"Vertex AI logo\">\n",
    "      在 Vertex AI Workbench 中打开\n",
    "    </a>\n",
    "  </td>\n",
    "</table>\n",
    "<br/><br/><br/>"
   ]
  },
  {
   "cell_type": "markdown",
   "metadata": {
    "id": "overview:mlops"
   },
   "source": [
    "## 概览\n",
    "\n",
    "本教程演示如何在 Google Cloud 上使用 Vertex AI 进行端到端 MLOps 生产。本教程涵盖阶段 4：评估：使用 Vertex ML Metadata 和 AutoML 入门。"
   ]
  },
  {
   "cell_type": "markdown",
   "metadata": {
    "id": "objective:mlops,stage2,get_started_automl_training"
   },
   "source": [
    "### 目标\n",
    "\n",
    "在本教程中，您将学习如何使用`AutoML`进行训练，并为`Vertex ML Metadata`组装相应的工件链接。\n",
    "\n",
    "此教程使用以下谷歌云ML服务：\n",
    "\n",
    "- `AutoML 训练`\n",
    "- `Vertex ML Metadata`\n",
    "- `Vertex AI Model` 资源\n",
    "- `Vertex AI Endpoint` 资源\n",
    "\n",
    "执行的步骤包括：\n",
    "\n",
    "- 创建一个 `Dataset` 资源。\n",
    "- 创建一个对应的 `google.VertexDataset` 工件。\n",
    "- 使用`AutoML`训练模型。\n",
    "- 创建一个对应的 `google.VertexModel` 工件。\n",
    "- 创建一个 `Endpoint` 资源。\n",
    "- 创建一个对应的 `google.Endpoint` 工件。\n",
    "- 将训练模型部署到`Endpoint`。\n",
    "- 为`AutoML`训练作业和部署创建一个执行和上下文。\n",
    "- 将对应的工件和上下文添加到执行中。\n",
    "- 向执行添加工件链接（事件）。\n",
    "- 显示执行图。"
   ]
  },
  {
   "cell_type": "markdown",
   "metadata": {
    "id": "dataset:flowers,icn"
   },
   "source": [
    "### 数据集\n",
    "\n",
    "本教程使用的数据集为[TensorFlow数据集](https://www.tensorflow.org/datasets/catalog/overview)中的[花卉数据集](https://www.tensorflow.org/datasets/catalog/tf_flowers)。本教程中的数据集版本存储在公共云存储桶中。训练模型可以预测给定图像中的花卉类型，包括五种花：雏菊、蒲公英、玫瑰、向日葵或郁金香。"
   ]
  },
  {
   "cell_type": "markdown",
   "metadata": {
    "id": "fb3451ce8e47"
   },
   "source": [
    "### 成本\n",
    "该教程使用了谷歌云的收费组件：\n",
    "\n",
    "- Vertex AI\n",
    "- 云存储\n",
    "\n",
    "了解有关 [Vertex AI 价格](https://cloud.google.com/vertex-ai/pricing) 和 [云存储价格](https://cloud.google.com/storage/pricing) 的信息，并使用 [定价计算器](https://cloud.google.com/products/calculator/) 基于您的预期使用量生成成本估算。 "
   ]
  },
  {
   "cell_type": "markdown",
   "metadata": {
    "id": "install_mlops"
   },
   "source": [
    "## 安装\n",
    "\n",
    "安装执行此笔记本所需的包。"
   ]
  },
  {
   "cell_type": "code",
   "execution_count": null,
   "metadata": {
    "id": "install_mlops"
   },
   "outputs": [],
   "source": [
    "import os\n",
    "\n",
    "# The Vertex AI Workbench Notebook product has specific requirements\n",
    "IS_WORKBENCH_NOTEBOOK = os.getenv(\"DL_ANACONDA_HOME\")\n",
    "IS_USER_MANAGED_WORKBENCH_NOTEBOOK = os.path.exists(\n",
    "    \"/opt/deeplearning/metadata/env_version\"\n",
    ")\n",
    "\n",
    "# Vertex AI Notebook requires dependencies to be installed with '--user'\n",
    "USER_FLAG = \"\"\n",
    "if IS_WORKBENCH_NOTEBOOK:\n",
    "    USER_FLAG = \"--user\"\n",
    "\n",
    "# Install the packages\n",
    "\n",
    "! pip3 install --upgrade google-cloud-aiplatform $USER_FLAG -q\n",
    "! pip3 install --upgrade google-cloud-storage $USER_FLAG -q"
   ]
  },
  {
   "cell_type": "markdown",
   "metadata": {
    "id": "restart"
   },
   "source": [
    "重新启动内核\n",
    "\n",
    "安装完附加包之后，你需要重新启动笔记本内核，这样它才能找到这些包。"
   ]
  },
  {
   "cell_type": "code",
   "execution_count": null,
   "metadata": {
    "id": "restart"
   },
   "outputs": [],
   "source": [
    "import os\n",
    "\n",
    "if not os.getenv(\"IS_TESTING\"):\n",
    "    # Automatically restart kernel after installs\n",
    "    import IPython\n",
    "\n",
    "    app = IPython.Application.instance()\n",
    "    app.kernel.do_shutdown(True)"
   ]
  },
  {
   "cell_type": "markdown",
   "metadata": {
    "id": "project_id"
   },
   "source": [
    "##开始之前\n",
    "\n",
    "###设置您的Google Cloud项目\n",
    "\n",
    "**无论您使用哪种笔记本环境，以下步骤都是必需的。**\n",
    "\n",
    "1. [选择或创建一个Google Cloud项目](https://console.cloud.google.com/cloud-resource-manager)。当您第一次创建账户时，您将获得300美元的免费信用额度，可用于支付计算/存储成本。\n",
    "\n",
    "1. [确保为您的项目启用了计费](https://cloud.google.com/billing/docs/how-to/modify-project)。\n",
    "\n",
    "1. [启用Vertex AI、Compute Engine和Cloud Storage API](https://console.cloud.google.com/flows/enableapi?apiid=aiplatform.googleapis.com,compute_component,storage_component)。\n",
    "\n",
    "1. 如果您在本地运行此笔记本，您需要安装[Cloud SDK](https://cloud.google.com/sdk)。\n",
    "\n",
    "1. 在下面的单元格中输入您的项目ID。然后运行该单元格，以确保Cloud SDK为本笔记本中的所有命令使用正确的项目。\n",
    "\n",
    "**注意**：Jupyter将带有`!`前缀的行视为shell命令，并将前缀为`$`的Python变量插入这些命令中。"
   ]
  },
  {
   "cell_type": "markdown",
   "metadata": {
    "id": "56d591439df1"
   },
   "source": [
    "#### 设置您的项目ID\n",
    "\n",
    "**如果您不知道您的项目ID**，您可以使用`gcloud`来获取您的项目ID。"
   ]
  },
  {
   "cell_type": "code",
   "execution_count": null,
   "metadata": {
    "id": "set_project_id"
   },
   "outputs": [],
   "source": [
    "PROJECT_ID = \"[your-project-id]\"  # @param {type:\"string\"}"
   ]
  },
  {
   "cell_type": "code",
   "execution_count": null,
   "metadata": {
    "id": "autoset_project_id"
   },
   "outputs": [],
   "source": [
    "if PROJECT_ID == \"\" or PROJECT_ID is None or PROJECT_ID == \"[your-project-id]\":\n",
    "    # Get your GCP project id from gcloud\n",
    "    shell_output = ! gcloud config list --format 'value(core.project)' 2>/dev/null\n",
    "    PROJECT_ID = shell_output[0]\n",
    "    print(\"Project ID:\", PROJECT_ID)"
   ]
  },
  {
   "cell_type": "code",
   "execution_count": null,
   "metadata": {
    "id": "set_gcloud_project_id"
   },
   "outputs": [],
   "source": [
    "! gcloud config set project $PROJECT_ID"
   ]
  },
  {
   "cell_type": "markdown",
   "metadata": {
    "id": "23988890fef6"
   },
   "source": [
    "获取你的项目编号\n",
    "\n",
    "现在项目ID已设置，您将获得与之对应的项目编号。"
   ]
  },
  {
   "cell_type": "code",
   "execution_count": null,
   "metadata": {
    "id": "2d6950574e1d"
   },
   "outputs": [],
   "source": [
    "shell_output = ! gcloud projects list --filter=\"PROJECT_ID:'{PROJECT_ID}'\" --format='value(PROJECT_NUMBER)'\n",
    "PROJECT_NUMBER = shell_output[0]\n",
    "print(\"Project Number:\", PROJECT_NUMBER)"
   ]
  },
  {
   "cell_type": "markdown",
   "metadata": {
    "id": "region"
   },
   "source": [
    "#### 地区\n",
    "\n",
    "您还可以更改 `REGION` 变量，该变量用于笔记本的其余操作。以下是 Vertex AI 支持的地区。我们建议您选择距离您最近的地区。\n",
    "\n",
    "- 美洲：`us-central1`\n",
    "- 欧洲：`europe-west4`\n",
    "- 亚太：`asia-east1`\n",
    "\n",
    "您不可以使用多地域存储桶与 Vertex AI 进行训练。并非所有地区都支持所有 Vertex AI 服务。\n",
    "\n",
    "了解更多关于 [Vertex AI 地区](https://cloud.google.com/vertex-ai/docs/general/locations)。"
   ]
  },
  {
   "cell_type": "code",
   "execution_count": null,
   "metadata": {
    "id": "region"
   },
   "outputs": [],
   "source": [
    "REGION = \"[your-region]\"  # @param {type: \"string\"}\n",
    "\n",
    "if REGION == \"[your-region]\":\n",
    "    REGION = \"us-central1\""
   ]
  },
  {
   "cell_type": "markdown",
   "metadata": {
    "id": "timestamp"
   },
   "source": [
    "时间戳\n",
    "\n",
    "如果您正在参加直播教程会话，您可能会使用共享测试账户或项目。为避免用户之间在创建的资源上发生名称冲突，您可以为每个实例会话创建一个时间戳，并将时间戳附加到您在本教程中创建的资源的名称上。"
   ]
  },
  {
   "cell_type": "code",
   "execution_count": null,
   "metadata": {
    "id": "timestamp"
   },
   "outputs": [],
   "source": [
    "from datetime import datetime\n",
    "\n",
    "TIMESTAMP = datetime.now().strftime(\"%Y%m%d%H%M%S\")"
   ]
  },
  {
   "cell_type": "markdown",
   "metadata": {
    "id": "3ffa6b6c7cdb"
   },
   "source": [
    "### 验证您的 Google Cloud 账户\n",
    "\n",
    "**如果您正在使用 Vertex AI Workbench 记事本**，您的环境已经通过身份验证。跳过此步骤。\n",
    "\n",
    "**如果您正在使用 Colab**，请运行下面的单元格，并按提示进行身份验证，通过 oAuth。\n",
    "\n",
    "**否则**，请按照以下步骤操作：\n",
    "\n",
    "在 Cloud Console 中，转到[创建服务帐号密钥](https://console.cloud.google.com/apis/credentials/serviceaccountkey)页面。\n",
    "\n",
    "1. **单击创建服务帐号**。\n",
    "\n",
    "2. 在 **服务帐号名称** 字段中输入名称，然后单击 **创建**。\n",
    "\n",
    "3. 在 **授予此服务帐号对项目的访问权限** 部分，单击角色下拉列表。在过滤框中输入 \"Vertex AI\"，并选择 **Vertex AI 管理员**。在过滤框中输入 \"Storage Object Admin\"，并选择 **存储对象管理员**。\n",
    "\n",
    "4. 单击创建。包含您密钥的 JSON 文件将下载到本地环境。\n",
    "\n",
    "5. 在下面的单元格中将您的服务帐号密钥路径输入为 GOOGLE_APPLICATION_CREDENTIALS 变量，然后运行该单元格。"
   ]
  },
  {
   "cell_type": "code",
   "execution_count": null,
   "metadata": {
    "id": "2b72272258fc"
   },
   "outputs": [],
   "source": [
    "# If you are running this notebook in Colab, run this cell and follow the\n",
    "# instructions to authenticate your GCP account. This provides access to your\n",
    "# Cloud Storage bucket and lets you submit training jobs and prediction\n",
    "# requests.\n",
    "\n",
    "import os\n",
    "import sys\n",
    "\n",
    "# If on Vertex AI Workbench, then don't execute this code\n",
    "IS_COLAB = \"google.colab\" in sys.modules\n",
    "if not os.path.exists(\"/opt/deeplearning/metadata/env_version\") and not os.getenv(\n",
    "    \"DL_ANACONDA_HOME\"\n",
    "):\n",
    "    if \"google.colab\" in sys.modules:\n",
    "        from google.colab import auth as google_auth\n",
    "\n",
    "        google_auth.authenticate_user()\n",
    "\n",
    "    # If you are running this notebook locally, replace the string below with the\n",
    "    # path to your service account key and run this cell to authenticate your GCP\n",
    "    # account.\n",
    "    elif not os.getenv(\"IS_TESTING\"):\n",
    "        %env GOOGLE_APPLICATION_CREDENTIALS ''"
   ]
  },
  {
   "cell_type": "markdown",
   "metadata": {
    "id": "bucket:mbsdk"
   },
   "source": [
    "### 创建一个云存储桶\n",
    "\n",
    "**无论您使用的笔记本环境是什么，下面的步骤都是必需的。**\n",
    "\n",
    "当您初始化用于 Python 的 Vertex SDK 时，您需要指定一个云存储的暂存桶。这个暂存桶是您的数据集和模型资源在不同会话中保留的地方。\n",
    "\n",
    "请在下面设置您的云存储桶的名称。存储桶的名称必须在所有谷歌云项目中全局唯一，包括您所在组织之外的项目。"
   ]
  },
  {
   "cell_type": "code",
   "execution_count": null,
   "metadata": {
    "id": "bucket"
   },
   "outputs": [],
   "source": [
    "BUCKET_NAME = \"[your-bucket-name]\"  # @param {type:\"string\"}\n",
    "BUCKET_URI = f\"gs://{BUCKET_NAME}\""
   ]
  },
  {
   "cell_type": "code",
   "execution_count": null,
   "metadata": {
    "id": "autoset_bucket"
   },
   "outputs": [],
   "source": [
    "if BUCKET_URI == \"\" or BUCKET_URI is None or BUCKET_URI == \"gs://[your-bucket-name]\":\n",
    "    BUCKET_NAME = PROJECT_ID + \"aip-\" + TIMESTAMP\n",
    "    BUCKET_URI = \"gs://\" + BUCKET_NAME"
   ]
  },
  {
   "cell_type": "markdown",
   "metadata": {
    "id": "create_bucket"
   },
   "source": [
    "只有在您的存储桶不存在时才运行以下单元格以创建您的云存储桶。"
   ]
  },
  {
   "cell_type": "code",
   "execution_count": null,
   "metadata": {
    "id": "create_bucket"
   },
   "outputs": [],
   "source": [
    "! gsutil mb -l $REGION $BUCKET_URI"
   ]
  },
  {
   "cell_type": "markdown",
   "metadata": {
    "id": "validate_bucket"
   },
   "source": [
    "最后，通过检查存储桶的内容验证对云存储的访问权限。"
   ]
  },
  {
   "cell_type": "code",
   "execution_count": null,
   "metadata": {
    "id": "validate_bucket"
   },
   "outputs": [],
   "source": [
    "! gsutil ls -al $BUCKET_URI"
   ]
  },
  {
   "cell_type": "markdown",
   "metadata": {
    "id": "setup_vars"
   },
   "source": [
    "### 设置变量\n",
    "\n",
    "接下来，设置一些在教程中使用的变量。\n",
    "### 导入库并定义常量"
   ]
  },
  {
   "cell_type": "code",
   "execution_count": null,
   "metadata": {
    "id": "import_aip:mbsdk"
   },
   "outputs": [],
   "source": [
    "import google.cloud.aiplatform as aiplatform\n",
    "import google.cloud.aiplatform_v1beta1 as aip_beta"
   ]
  },
  {
   "cell_type": "markdown",
   "metadata": {
    "id": "init_aip:mbsdk"
   },
   "source": [
    "初始化用于Python的Vertex AI SDK，为您的项目和相应的存储桶。"
   ]
  },
  {
   "cell_type": "code",
   "execution_count": null,
   "metadata": {
    "id": "init_aip:mbsdk"
   },
   "outputs": [],
   "source": [
    "aiplatform.init(project=PROJECT_ID, staging_bucket=BUCKET_URI)"
   ]
  },
  {
   "cell_type": "markdown",
   "metadata": {
    "id": "aip_constants:fs"
   },
   "source": [
    "#### Vertex AI constants\n",
    "\n",
    "Setup up the following constants for Vertex AI:\n",
    "\n",
    "- `API_ENDPOINT`: The Vertex AI API service endpoint for `ML Metadata` services."
   ]
  },
  {
   "cell_type": "code",
   "execution_count": null,
   "metadata": {
    "id": "aip_constants:fs"
   },
   "outputs": [],
   "source": [
    "# API service endpoint\n",
    "API_ENDPOINT = \"{}-aiplatform.googleapis.com\".format(REGION)\n",
    "\n",
    "# Vertex location root path for your dataset, model and endpoint resources\n",
    "PARENT = \"projects/\" + PROJECT_ID + \"/locations/\" + REGION"
   ]
  },
  {
   "cell_type": "markdown",
   "metadata": {
    "id": "clients:metadata"
   },
   "source": [
    "## 设置客户端\n",
    "\n",
    "Vertex 作为一个客户端/服务器模型运行。在您的一侧（Python脚本）上，您将创建一个客户端，该客户端向Vertex AI服务器发送请求并接收响应。\n",
    "\n",
    "在本教程中，您将为工作流中的不同步骤使用不同的客户端。因此，请提前设置它们。\n",
    "\n",
    "- Metadata服务用于创建记录、搜索和分析工件和元数据。"
   ]
  },
  {
   "cell_type": "code",
   "execution_count": null,
   "metadata": {
    "id": "clients:metadata"
   },
   "outputs": [],
   "source": [
    "# client options same for all services\n",
    "client_options = {\"api_endpoint\": API_ENDPOINT}\n",
    "\n",
    "\n",
    "def create_metadata_client():\n",
    "    client = aip_beta.MetadataServiceClient(client_options=client_options)\n",
    "    return client\n",
    "\n",
    "\n",
    "clients = {}\n",
    "clients[\"metadata\"] = create_metadata_client()\n",
    "\n",
    "for client in clients.items():\n",
    "    print(client)"
   ]
  },
  {
   "cell_type": "markdown",
   "metadata": {
    "id": "automl_training_intro"
   },
   "source": [
    "自动机器学习训练任务\n",
    "\n",
    "AutoML可以用来自动训练各种类型的图像模型。 AutoML自动化了以下内容：\n",
    "\n",
    "- 数据集预处理\n",
    "- 特征工程\n",
    "- 数据馈送\n",
    "- 模型架构选择\n",
    "- 超参数调整\n",
    "- 训练模型\n",
    "\n",
    "了解更多关于[AutoML用户的Vertex AI](https://cloud.google.com/vertex-ai/docs/start/automl-users)。"
   ]
  },
  {
   "cell_type": "markdown",
   "metadata": {
    "id": "automl_image_intro"
   },
   "source": [
    "## 自动机器学习图像模型\n",
    "\n",
    "AutoML 可以训练以下类型的图像模型：\n",
    "\n",
    "- 分类\n",
    "- 目标检测\n",
    "- 分割\n",
    "\n",
    "模型可以训练用于部署到云端或导出到边缘设备。\n",
    "\n",
    "了解更多关于[AutoML 模型类型](https://cloud.google.com/vertex-ai/docs/start/automl-model-types)。"
   ]
  },
  {
   "cell_type": "markdown",
   "metadata": {
    "id": "import_file:u_dataset,csv"
   },
   "source": [
    "云存储培训数据的位置。\n",
    "\n",
    "现在将变量`IMPORT_FILE`设置为云存储中CSV索引文件的位置。"
   ]
  },
  {
   "cell_type": "code",
   "execution_count": null,
   "metadata": {
    "id": "import_file:flowers,csv,icn"
   },
   "outputs": [],
   "source": [
    "IMPORT_FILE = (\n",
    "    \"gs://cloud-samples-data/vision/automl_classification/flowers/all_data_v2.csv\"\n",
    ")"
   ]
  },
  {
   "cell_type": "markdown",
   "metadata": {
    "id": "quick_peek:csv"
   },
   "source": [
    "快速查看您的数据\n",
    "\n",
    "本教程使用存储在公共云存储桶中的Happy Moments数据集的版本，使用CSV索引文件。\n",
    "\n",
    "首先快速查看数据。您可以通过计算CSV索引文件中的行数（`wc -l`）来计算示例的数量，然后查看前几行数据。"
   ]
  },
  {
   "cell_type": "code",
   "execution_count": null,
   "metadata": {
    "id": "quick_peek:csv"
   },
   "outputs": [],
   "source": [
    "FILE = IMPORT_FILE\n",
    "\n",
    "count = ! gsutil cat $FILE | wc -l\n",
    "print(\"Number of Examples\", int(count[0]))\n",
    "\n",
    "print(\"First 10 rows\")\n",
    "! gsutil cat $FILE | head"
   ]
  },
  {
   "cell_type": "markdown",
   "metadata": {
    "id": "create_dataset:image,icn"
   },
   "source": [
    "### 创建数据集\n",
    "\n",
    "接下来，使用`ImageDataset`类的`create`方法创建`Dataset`资源，该方法需要以下参数：\n",
    "\n",
    "- `display_name`：`Dataset`资源的可读名称。\n",
    "- `gcs_source`：一个或多个数据集索引文件列表，用于将数据项导入`Dataset`资源。\n",
    "- `import_schema_uri`：数据项的数据标注模式：\n",
    "  - `single_label`：二元和多类分类\n",
    "  - `multi_label`：多标签多类分类\n",
    "  - `bounding_box`：目标检测\n",
    "  - `image_segmentation`：分割\n",
    "\n",
    "了解更多关于[ImageDataset](https://cloud.google.com/vertex-ai/docs/datasets/prepare-image)。"
   ]
  },
  {
   "cell_type": "code",
   "execution_count": null,
   "metadata": {
    "id": "create_dataset:image,icn"
   },
   "outputs": [],
   "source": [
    "dataset = aiplatform.ImageDataset.create(\n",
    "    display_name=\"flowers_\" + TIMESTAMP,\n",
    "    gcs_source=[IMPORT_FILE],\n",
    "    import_schema_uri=aiplatform.schema.dataset.ioformat.image.single_label_classification,\n",
    ")\n",
    "\n",
    "print(dataset.resource_name)"
   ]
  },
  {
   "cell_type": "markdown",
   "metadata": {
    "id": "create_metadata_artifact"
   },
   "source": [
    "### 为 `Vertex AI Dataset` 创建一个 `Artifact` 资源\n",
    "\n",
    "接下来，您可以使用 `create_artifact()` 方法创建一个 `Artifact` 资源，具有以下参数：\n",
    "\n",
    "- `parent`：指向 `Metadatastore` 资源的完全限定资源标识符 -- 在本示例中，您使用默认的 Metadatastore。\n",
    "- `artifact`：`Artifact` 资源的定义\n",
    "    - `display_name`：`Artifact` 资源的可读名称。\n",
    "    - `uri`：artifact 文件的统一资源标识符。在本示例中，使用 `Dataset` 资源标识符，加上 `https://{REGION}-aiplatform.googleapis.com/v1/`\n",
    "    - `name`：artifact 文件的资源名称。在本示例中，使用 `Dataset` 资源标识符。\n",
    "    - `labels`：要分配给 `Artifact` 资源的用户自定义标签。\n",
    "    - `schema_title`：描述元数据的模式的标题。在本示例中为：`google.VertexDataset`。\n",
    "    - `metadata`：要与 `Artifact` 资源关联的元数据键值对。\n",
    "- `artifact_id`：（可选）`Artifact` 资源的用户定义的短 ID。"
   ]
  },
  {
   "cell_type": "code",
   "execution_count": null,
   "metadata": {
    "id": "create_metadata_artifact"
   },
   "outputs": [],
   "source": [
    "from google.cloud.aiplatform_v1beta1.types import Artifact\n",
    "\n",
    "artifact_item = Artifact(\n",
    "    display_name=\"flowers_\" + TIMESTAMP,\n",
    "    uri=f\"https://{REGION}-aiplatform.googleapis.com/v1/\" + dataset.resource_name,\n",
    "    name=dataset.resource_name,\n",
    "    schema_title=\"google.VertexDataset\",\n",
    "    metadata={\"data_type\": \"image\", \"annotation_type\": \"image classification\"},\n",
    "    labels={\"my_label\": \"value\"},\n",
    ")\n",
    "\n",
    "artifact_dataset = clients[\"metadata\"].create_artifact(\n",
    "    parent=f\"projects/{PROJECT_NUMBER}/locations/{REGION}/metadataStores/default\",\n",
    "    artifact=artifact_item,\n",
    "    artifact_id=dataset.resource_name.split(\"/\")[-1],\n",
    ")\n",
    "\n",
    "print(artifact_dataset)"
   ]
  },
  {
   "cell_type": "markdown",
   "metadata": {
    "id": "create_automl_pipeline:image,edge,icn"
   },
   "source": [
    "### 创建和运行训练流水线\n",
    "\n",
    "要训练一个AutoML模型，您需要执行两个步骤：1）创建一个训练流水线，2）运行这个流水线。\n",
    "\n",
    "#### 创建训练流水线\n",
    "\n",
    "使用`AutoMLImageTrainingJob`类创建一个AutoML训练流水线，参数如下：\n",
    "\n",
    "- `display_name`：`TrainingJob`资源的可读名称。\n",
    "- `prediction_type`：训练模型的任务类型。\n",
    "  - `classification`：图像分类模型。\n",
    "  - `object_detection`：图像目标检测模型。\n",
    "- `multi_label`：如果是分类任务，则是单标签(`False`)或多标签(`True`)。\n",
    "- `model_type`：部署的模型类型。\n",
    "  - `CLOUD`：在Google Cloud上部署。\n",
    "  - `CLOUD_HIGH_ACCURACY_1`：优化精度而非延迟的部署于Google Cloud。\n",
    "  - `CLOUD_LOW_LATENCY_`：优化延迟而非精度的部署于Google Cloud。\n",
    "  - `MOBILE_TF_VERSATILE_1`：部署于边缘设备。\n",
    "  - `MOBILE_TF_HIGH_ACCURACY_1`：优化精度而非延迟的部署于边缘设备。\n",
    "  - `MOBILE_TF_LOW_LATENCY_1`：优化延迟而非精度的部署于边缘设备。\n",
    "- `base_model`：(可选) 从现有`Model`资源进行迁移学习，仅支持图像分类。\n",
    "\n",
    "实例化的对象是训练作业的有向无环图(DAG)。"
   ]
  },
  {
   "cell_type": "code",
   "execution_count": null,
   "metadata": {
    "id": "create_automl_pipeline:image,edge,icn"
   },
   "outputs": [],
   "source": [
    "dag = aiplatform.AutoMLImageTrainingJob(\n",
    "    display_name=\"flowers_\" + TIMESTAMP,\n",
    "    prediction_type=\"classification\",\n",
    "    multi_label=False,\n",
    "    model_type=\"MOBILE_TF_LOW_LATENCY_1\",\n",
    "    base_model=None,\n",
    ")\n",
    "\n",
    "print(dag)"
   ]
  },
  {
   "cell_type": "markdown",
   "metadata": {
    "id": "run_automl_pipeline:image"
   },
   "source": [
    "运行训练流程\n",
    "\n",
    "接下来，您可以运行创建的DAG来启动训练作业，通过调用方法`run`，并传入以下参数：\n",
    "\n",
    "- `dataset`: 用于训练模型的`Dataset`资源。\n",
    "- `model_display_name`: 训练模型的可读名称。\n",
    "- `training_fraction_split`: 用于训练的数据集百分比。\n",
    "- `test_fraction_split`: 用于测试（留出数据）的数据集百分比。\n",
    "- `validation_fraction_split`: 用于验证的数据集百分比。\n",
    "- `budget_milli_node_hours`: （可选）以毫节点小时为单位指定的最大训练时间（1000 = 节点小时）。\n",
    "- `disable_early_stopping`: 如果为`True`，当服务认为无法进一步改进模型目标度量时，训练可能会在使用完整预算之前完成。\n",
    "\n",
    "完成`run`方法后，将返回`Model`资源。\n",
    "\n",
    "训练流程的执行可能需要超过30分钟。"
   ]
  },
  {
   "cell_type": "code",
   "execution_count": null,
   "metadata": {
    "id": "run_automl_pipeline:image"
   },
   "outputs": [],
   "source": [
    "model = dag.run(\n",
    "    dataset=dataset,\n",
    "    model_display_name=\"flowers_\" + TIMESTAMP,\n",
    "    training_fraction_split=0.8,\n",
    "    validation_fraction_split=0.1,\n",
    "    test_fraction_split=0.1,\n",
    "    budget_milli_node_hours=8000,\n",
    "    disable_early_stopping=False,\n",
    ")"
   ]
  },
  {
   "cell_type": "markdown",
   "metadata": {
    "id": "8a174ac8d11d"
   },
   "source": [
    "### 为 `Vertex AI Model` 创建一个 `Artifact` 资源\n",
    "\n",
    "接下来，您可以使用 `create_artifact()` 方法为 `Artifact` 资源创建一个资源，其中包括以下参数：\n",
    "\n",
    "- `parent`: `Metadatastore` 资源的完全限定资源标识符，本示例中使用默认的 Metadatastore。\n",
    "- `artifact`: `Artifact` 资源的定义\n",
    "    - `display_name`: `Artifact` 资源的可读名称。\n",
    "    - `uri`: artifact 文件的统一资源标识符。在这个示例中，使用 `Model` 资源标识符，前面加上 `https://{REGION}-aiplatform.googleapis.com/v1/`\n",
    "    - `name`: artifact 文件的资源名称。在这个示例中，使用 `Model` 资源标识符。\n",
    "    - `labels`: 用户定义的要分配给 `Artifact` 资源的标签。\n",
    "    - `schema_title`: 描述元数据的模式的标题。在这个示例中是: `google.VertexModel`。\n",
    "    - `metadata`: 与 `Artifact` 资源关联的元数据键值对。\n",
    "- `artifact_id`: (可选) 用户定义的 `Artifact` 资源的短 ID。"
   ]
  },
  {
   "cell_type": "code",
   "execution_count": null,
   "metadata": {
    "id": "adfb859d7f0c"
   },
   "outputs": [],
   "source": [
    "artifact_item = Artifact(\n",
    "    display_name=\"flowers_\" + TIMESTAMP,\n",
    "    uri=f\"https://{REGION}-aiplatform.googleapis.com/v1/\" + model.resource_name,\n",
    "    name=model.resource_name,\n",
    "    schema_title=\"google.VertexModel\",\n",
    "    metadata={\"model_type\": \"image classification\"},\n",
    "    labels={\"my_label\": \"value\"},\n",
    ")\n",
    "\n",
    "artifact_model = clients[\"metadata\"].create_artifact(\n",
    "    parent=f\"projects/{PROJECT_NUMBER}/locations/{REGION}/metadataStores/default\",\n",
    "    artifact=artifact_item,\n",
    "    artifact_id=model.resource_name.split(\"/\")[-1],\n",
    ")\n",
    "\n",
    "print(artifact_model)"
   ]
  },
  {
   "cell_type": "markdown",
   "metadata": {
    "id": "evaluate_the_model:mbsdk"
   },
   "source": [
    "## 查看模型评估分数\n",
    "\n",
    "在模型训练完成之后，您可以使用`list_model_evaluations()`方法来查看模型的评估分数。该方法将返回每个评估切片的迭代器。"
   ]
  },
  {
   "cell_type": "code",
   "execution_count": null,
   "metadata": {
    "id": "evaluate_the_model:mbsdk"
   },
   "outputs": [],
   "source": [
    "model_evaluations = model.list_model_evaluations()\n",
    "\n",
    "for model_evaluation in model_evaluations:\n",
    "    print(model_evaluation.to_dict())"
   ]
  },
  {
   "cell_type": "markdown",
   "metadata": {
    "id": "2bda7beaa0f2"
   },
   "source": [
    "### 为`Vertex AI EvaluationMetrics`创建一个`Artifact`资源\n",
    "\n",
    "接下来，您可以使用`create_artifact()`方法为`Artifact`资源创建一个资源，具有以下参数：\n",
    "\n",
    "- `parent`：指向`Metadatastore`资源的完全限定资源标识符--在此示例中，您可以使用默认的Metadatastore。\n",
    "- `artifact`：`Artifact`资源的定义\n",
    "    - `display_name`：`Artifact`资源的可读名称。\n",
    "    - `uri`：工件文件的统一资源标识符。在此示例中，使用`https://{REGION}-aiplatform.googleapis.com/v1/`前缀的`EvaluationMetrics`资源标识符。\n",
    "    - `name`：工件文件的资源名称。在此示例中，使用`EvaluationMetrics`资源标识符。\n",
    "    - `labels`：分配给`Artifact`资源的用户定义标签。\n",
    "    - `schema_title`：描述元数据的架构的标题。在此示例中：`system.SlicedClassificationMetrics`。\n",
    "    - `metadata`：要与`Artifact`资源关联的元数据键/值对。\n",
    "- `artifact_id`：（可选）为`Artifact`资源定义的用户定义短ID。"
   ]
  },
  {
   "cell_type": "code",
   "execution_count": null,
   "metadata": {
    "id": "17c0282e0233"
   },
   "outputs": [],
   "source": [
    "artifact_item = Artifact(\n",
    "    display_name=\"flowers_\" + TIMESTAMP,\n",
    "    uri=f\"https://{REGION}-aiplatform.googleapis.com/v1/\"\n",
    "    + model_evaluations[0].resource_name,\n",
    "    name=model_evaluations[0].resource_name,\n",
    "    schema_title=\"system.SlicedClassificationMetrics\",\n",
    "    metadata={\"param\": \"value\"},\n",
    "    labels={\"my_label\": \"value\"},\n",
    ")\n",
    "\n",
    "artifact_metrics = clients[\"metadata\"].create_artifact(\n",
    "    parent=f\"projects/{PROJECT_NUMBER}/locations/{REGION}/metadataStores/default\",\n",
    "    artifact=artifact_item,\n",
    "    artifact_id=model_evaluations[0].resource_name.split(\"/\")[-1],\n",
    ")\n",
    "\n",
    "print(artifact_metrics)"
   ]
  },
  {
   "cell_type": "markdown",
   "metadata": {
    "id": "deploy_model:mbsdk,automatic"
   },
   "source": [
    "部署模型\n",
    "\n",
    "接下来，部署您的模型以进行在线预测。要部署模型，您需要调用`deploy`方法。"
   ]
  },
  {
   "cell_type": "code",
   "execution_count": null,
   "metadata": {
    "id": "deploy_model:mbsdk,automatic"
   },
   "outputs": [],
   "source": [
    "endpoint = model.deploy()"
   ]
  },
  {
   "cell_type": "markdown",
   "metadata": {
    "id": "1c1799bb238d"
   },
   "source": [
    "为`Vertex AI Endpoint`创建一个`Artifact`资源\n",
    "\n",
    "接下来，您可以使用`create_artifact()`方法创建一个`Artifact`资源，使用以下参数：\n",
    "\n",
    "- `parent`：指向`Metadatastore`资源的完全限定资源标识符--在本例中，您使用默认的Metadatastore。\n",
    "- `artifact`：`Artifact`资源的定义\n",
    "    - `display_name`：`Artifact`资源的可读名称。\n",
    "    - `uri`：工件文件的统一资源标识符。在本例中，`Endpoint`资源标识符前面加上`https://{REGION}-aiplatform.googleapis.com/v1/`\n",
    "    - `name`：工件文件的资源名称。在本例中，`Endpoint`资源标识符。\n",
    "    - `labels`：要分配给`Artifact`资源的用户定义标签。\n",
    "    - `schema_title`：描述元数据的模式的标题。在本例中：`google.VertexEndpoint`。\n",
    "    - `metadata`：要与`Artifact`资源关联的元数据键/值对。\n",
    "- `artifact_id`：（可选）为`Artifact`资源定义的用户定义短ID。"
   ]
  },
  {
   "cell_type": "code",
   "execution_count": null,
   "metadata": {
    "id": "abbd68a66569"
   },
   "outputs": [],
   "source": [
    "artifact_item = Artifact(\n",
    "    display_name=\"flowers_\" + TIMESTAMP,\n",
    "    uri=f\"https://{REGION}-aiplatform.googleapis.com/v1/\" + endpoint.resource_name,\n",
    "    name=endpoint.resource_name,\n",
    "    schema_title=\"google.VertexEndpoint\",\n",
    "    metadata={\"param\": \"value\"},\n",
    "    labels={\"my_label\": \"value\"},\n",
    ")\n",
    "\n",
    "artifact_endpoint = clients[\"metadata\"].create_artifact(\n",
    "    parent=f\"projects/{PROJECT_NUMBER}/locations/{REGION}/metadataStores/default\",\n",
    "    artifact=artifact_item,\n",
    "    artifact_id=endpoint.resource_name.split(\"/\")[-1],\n",
    ")\n",
    "\n",
    "print(artifact_endpoint)"
   ]
  },
  {
   "cell_type": "markdown",
   "metadata": {
    "id": "create_metadata_execution"
   },
   "source": [
    "### 创建一个`Execution`资源\n",
    "\n",
    "一系列带有输入和输出的步骤被称为一个执行。\n",
    "\n",
    "接下来，您可以使用`create_execution()`方法为AutoML训练和模型部署创建一个`Execution`资源，具有以下参数：\n",
    "\n",
    "- `parent`：（可选）指向`Metadatastore`资源的完全限定资源标识符。\n",
    "- `execution`：\n",
    "    - `display_name`：一个易于阅读的`Execution`资源的名称。\n",
    "    - `schema_title`：描述元数据的模式的标题。在这个例子中：`system.ContainerExecution`。\n",
    "    - `metadata`：要与`Execution`资源关联的元数据键值对。\n",
    "- `execution_id`：（可选）用户定义的`Execution`资源的短ID。"
   ]
  },
  {
   "cell_type": "code",
   "execution_count": null,
   "metadata": {
    "id": "create_metadata_execution"
   },
   "outputs": [],
   "source": [
    "from google.cloud.aiplatform_v1beta1.types import Execution\n",
    "\n",
    "execution = clients[\"metadata\"].create_execution(\n",
    "    parent=f\"projects/{PROJECT_NUMBER}/locations/{REGION}/metadataStores/default\",\n",
    "    execution=Execution(\n",
    "        display_name=\"AutoML training and deployment\",\n",
    "        schema_title=\"system.ContainerExecution\",\n",
    "        metadata={\"model_type\": \"image classification\"},\n",
    "    ),\n",
    "    execution_id=dag.resource_name.split(\"/\")[-1],\n",
    ")\n",
    "\n",
    "print(execution)"
   ]
  },
  {
   "cell_type": "markdown",
   "metadata": {
    "id": "add_metadata_execution_events"
   },
   "source": [
    "### 将事件添加到`Execution`资源\n",
    "\n",
    "`Execution`资源由执行过程中发生的事件序列组成。每个事件由一个作为`Execution`资源的输入或输出的工件组成。\n",
    "\n",
    "您可以使用`add_execution_events()`方法将执行事件添加到`Execution`资源中，具有以下参数：\n",
    "\n",
    "- `execution`：`Execution`资源的完全限定资源标识符。在本示例中，执行AutoML训练和部署的步骤。\n",
    "- `events`：构成执行过程的事件序列。在本示例中，工件包括：VertexDataset、VertexModel、SlicedClassificationMetrics和VertexEndpoint。\n",
    "    - `artifact_dataset`：执行的输入。\n",
    "    - `artifact_model`：\n",
    "    - `artifact_metrics`：\n",
    "    - `artifact_endpoint`：执行的输出。"
   ]
  },
  {
   "cell_type": "code",
   "execution_count": null,
   "metadata": {
    "id": "add_metadata_execution_events"
   },
   "outputs": [],
   "source": [
    "from google.cloud.aiplatform_v1beta1.types import Event\n",
    "\n",
    "clients[\"metadata\"].add_execution_events(\n",
    "    execution=execution.name,\n",
    "    events=[\n",
    "        Event(\n",
    "            artifact=artifact_dataset.name,\n",
    "            type_=Event.Type.INPUT,\n",
    "            labels={\"my_label\": \"my_value\"},\n",
    "        ),\n",
    "        Event(\n",
    "            artifact=artifact_model.name,\n",
    "            type_=Event.Type.OUTPUT,\n",
    "            labels={\"my_label\": \"my_value\"},\n",
    "        ),\n",
    "        Event(\n",
    "            artifact=artifact_metrics.name,\n",
    "            type_=Event.Type.OUTPUT,\n",
    "            labels={\"my_label\": \"my_value\"},\n",
    "        ),\n",
    "        Event(\n",
    "            artifact=artifact_endpoint.name,\n",
    "            type_=Event.Type.OUTPUT,\n",
    "            labels={\"my_label\": \"my_value\"},\n",
    "        ),\n",
    "    ],\n",
    ")"
   ]
  },
  {
   "cell_type": "markdown",
   "metadata": {
    "id": "create_metadata_context"
   },
   "source": [
    "### 创建`Context`资源\n",
    "\n",
    "`Context`资源表示由一个或多个执行组成的上下文。您可以使用`create_context()`方法创建一个`Context`资源，并提供以下参数：\n",
    "\n",
    "- `parent`：指向`Metadatastore`资源的完全限定资源标识符。\n",
    "- `context`：\n",
    "    - `display_name`：`Execution`资源的人类可读名称。\n",
    "    - `schema_title`：描述元数据的架构标题。在此示例中为：`system.Pipeline`。\n",
    "    - `labels`：用户定义的标签，用于分配给`Context`资源。\n",
    "    - `metadata`：要与`Execution`资源关联的元数据键值对。\n",
    "- `context_id`：（可选）用户定义的用于`Context`资源的短ID。"
   ]
  },
  {
   "cell_type": "code",
   "execution_count": null,
   "metadata": {
    "id": "create_metadata_context"
   },
   "outputs": [],
   "source": [
    "from google.cloud.aiplatform_v1beta1.types import Context\n",
    "\n",
    "context = clients[\"metadata\"].create_context(\n",
    "    parent=f\"projects/{PROJECT_NUMBER}/locations/{REGION}/metadataStores/default\",\n",
    "    context=Context(\n",
    "        display_name=\"flowers_\" + TIMESTAMP,\n",
    "        schema_title=\"system.Pipeline\",\n",
    "        metadata={\"param\": \"value\"},\n",
    "        labels=[{\"my_label\", \"my_value\"}],\n",
    "    ),\n",
    "    context_id=dag.resource_name.split(\"/\")[-1],\n",
    ")\n",
    "\n",
    "print(context)"
   ]
  },
  {
   "cell_type": "markdown",
   "metadata": {
    "id": "metadata_finish_context"
   },
   "source": [
    "### 将工件和执行对象合并为上下文\n",
    "\n",
    "上下文用于将`Artifact`资源和`Execution`资源组合在一个可查询和类型化的类别下。上下文可用于表示元数据集合。\n",
    "\n",
    "使用`add_context_artifacts_and_executions()`方法将一组`Artifact`和`Execution`资源合并为一个`Context`资源，参数如下：\n",
    "\n",
    "- `context`：`Context`资源的完全限定资源标识符。\n",
    "- `artifacts`：`Artifact`资源的完全限定资源标识符的列表。\n",
    "- `executions`：`Execution`资源的完全限定资源标识符的列表。"
   ]
  },
  {
   "cell_type": "code",
   "execution_count": null,
   "metadata": {
    "id": "metadata_finish_context"
   },
   "outputs": [],
   "source": [
    "clients[\"metadata\"].add_context_artifacts_and_executions(\n",
    "    context=context.name,\n",
    "    artifacts=[\n",
    "        artifact_dataset.name,\n",
    "        artifact_model.name,\n",
    "        artifact_metrics.name,\n",
    "        artifact_endpoint.name,\n",
    "    ],\n",
    "    executions=[execution.name],\n",
    ")"
   ]
  },
  {
   "cell_type": "markdown",
   "metadata": {
    "id": "query_metadata_context"
   },
   "source": [
    "### 查询上下文\n",
    "\n",
    "您可以使用方法`query_context_lineage_subgraph()`来查询`Context`资源的子图，具有以下参数：\n",
    "\n",
    "- `context`：`Context`资源的完全限定资源标识符。"
   ]
  },
  {
   "cell_type": "code",
   "execution_count": null,
   "metadata": {
    "id": "query_metadata_context"
   },
   "outputs": [],
   "source": [
    "subgraph = clients[\"metadata\"].query_context_lineage_subgraph(context=context.name)\n",
    "\n",
    "print(subgraph)"
   ]
  },
  {
   "cell_type": "markdown",
   "metadata": {
    "id": "263dc78ec9f6"
   },
   "source": [
    "在界面上查看图表\n",
    "\n",
    "最后，进入“Vertex AI ML Metadata”界面，并选择任何一个你创建的工件。它会类似于：\n",
    "\n",
    "<img src='automl_mlmd.png'/>"
   ]
  },
  {
   "cell_type": "markdown",
   "metadata": {
    "id": "delete_metadata_execution"
   },
   "source": [
    "### 删除一个`Execution`资源\n",
    "\n",
    "您可以使用`delete_execution()`方法删除一个`Execution`资源，参数如下：\n",
    "\n",
    "- `name`：`Execution`资源的完全限定资源标识符。"
   ]
  },
  {
   "cell_type": "code",
   "execution_count": null,
   "metadata": {
    "id": "delete_metadata_execution"
   },
   "outputs": [],
   "source": [
    "clients[\"metadata\"].delete_execution(name=execution.name)"
   ]
  },
  {
   "cell_type": "markdown",
   "metadata": {
    "id": "delete_metadata_context"
   },
   "source": [
    "### 删除 `Context` 资源\n",
    "\n",
    "您可以使用 `delete_context()` 方法删除 `Context` 资源，参数如下：\n",
    "\n",
    "- `name`：`Context` 资源的完全限定资源标识符。"
   ]
  },
  {
   "cell_type": "code",
   "execution_count": null,
   "metadata": {
    "id": "delete_metadata_context"
   },
   "outputs": [],
   "source": [
    "clients[\"metadata\"].delete_context(name=context.name)"
   ]
  },
  {
   "cell_type": "markdown",
   "metadata": {
    "id": "delete_metadata_artifact"
   },
   "source": [
    "### 删除一个`Artifact`资源\n",
    "\n",
    "您可以使用`delete_artifact()`方法删除一个`Artifact`资源，需要以下参数：\n",
    "\n",
    "- `name`：`Artifact`资源的完全限定资源标识符。"
   ]
  },
  {
   "cell_type": "code",
   "execution_count": null,
   "metadata": {
    "id": "delete_metadata_artifact"
   },
   "outputs": [],
   "source": [
    "clients[\"metadata\"].delete_artifact(name=artifact_dataset.name)\n",
    "clients[\"metadata\"].delete_artifact(name=artifact_model.name)\n",
    "clients[\"metadata\"].delete_artifact(name=artifact_metrics.name)\n",
    "clients[\"metadata\"].delete_artifact(name=artifact_endpoint.name)"
   ]
  },
  {
   "cell_type": "markdown",
   "metadata": {
    "id": "undeploy_model:mbsdk"
   },
   "source": [
    "取消部署模型\n",
    "\n",
    "当您完成预测时，您可以从“端点”资源中取消部署模型。这将取消所有计算资源，并结束已部署模型的计费。"
   ]
  },
  {
   "cell_type": "code",
   "execution_count": null,
   "metadata": {
    "id": "undeploy_model:mbsdk"
   },
   "outputs": [],
   "source": [
    "endpoint.undeploy_all()"
   ]
  },
  {
   "cell_type": "markdown",
   "metadata": {
    "id": "model_delete:mbsdk"
   },
   "source": [
    "删除模型\n",
    "\n",
    "方法 'delete()' 将删除模型。"
   ]
  },
  {
   "cell_type": "code",
   "execution_count": null,
   "metadata": {
    "id": "model_delete:mbsdk"
   },
   "outputs": [],
   "source": [
    "model.delete()"
   ]
  },
  {
   "cell_type": "markdown",
   "metadata": {
    "id": "dataset_delete:mbsdk"
   },
   "source": [
    "删除数据集\n",
    "\n",
    "方法'delete()'将删除数据集。"
   ]
  },
  {
   "cell_type": "code",
   "execution_count": null,
   "metadata": {
    "id": "dataset_delete:mbsdk"
   },
   "outputs": [],
   "source": [
    "dataset.delete()"
   ]
  },
  {
   "cell_type": "markdown",
   "metadata": {
    "id": "endpoint_delete:mbsdk"
   },
   "source": [
    "#### 删除该端点\n",
    "\n",
    "方法 'delete()' 将会删除该端点。"
   ]
  },
  {
   "cell_type": "code",
   "execution_count": null,
   "metadata": {
    "id": "endpoint_delete:mbsdk"
   },
   "outputs": [],
   "source": [
    "endpoint.delete()"
   ]
  },
  {
   "cell_type": "markdown",
   "metadata": {
    "id": "cleanup"
   },
   "source": [
    "清理\n",
    "\n",
    "要清理此项目中使用的所有谷歌云资源，您可以[删除用于本教程的谷歌云项目](https://cloud.google.com/resource-manager/docs/creating-managing-projects#shutting_down_projects)。\n",
    "\n",
    "否则，您可以删除本教程中创建的各个资源。"
   ]
  },
  {
   "cell_type": "code",
   "execution_count": null,
   "metadata": {
    "id": "cleanup"
   },
   "outputs": [],
   "source": [
    "# Set this to true only if you'd like to delete your bucket\n",
    "delete_bucket = False\n",
    "\n",
    "if delete_bucket or os.getenv(\"IS_TESTING\"):\n",
    "    ! gsutil rm -r $BUCKET_URI"
   ]
  }
 ],
 "metadata": {
  "colab": {
   "name": "get_started_with_vertex_ml_metadata_and_automl.ipynb",
   "toc_visible": true
  },
  "kernelspec": {
   "display_name": "Python 3",
   "name": "python3"
  }
 },
 "nbformat": 4,
 "nbformat_minor": 0
}
