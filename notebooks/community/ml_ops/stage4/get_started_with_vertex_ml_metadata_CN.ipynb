{
 "cells": [
  {
   "cell_type": "code",
   "execution_count": null,
   "metadata": {
    "id": "copyright"
   },
   "outputs": [],
   "source": [
    "# Copyright 2022 Google LLC\n",
    "#\n",
    "# Licensed under the Apache License, Version 2.0 (the \"License\");\n",
    "# you may not use this file except in compliance with the License.\n",
    "# You may obtain a copy of the License at\n",
    "#\n",
    "#     https://www.apache.org/licenses/LICENSE-2.0\n",
    "#\n",
    "# Unless required by applicable law or agreed to in writing, software\n",
    "# distributed under the License is distributed on an \"AS IS\" BASIS,\n",
    "# WITHOUT WARRANTIES OR CONDITIONS OF ANY KIND, either express or implied.\n",
    "# See the License for the specific language governing permissions and\n",
    "# limitations under the License."
   ]
  },
  {
   "cell_type": "markdown",
   "metadata": {
    "id": "title:generic,gcp"
   },
   "source": [
    "# 开始使用Vertex ML Metadata\n",
    "\n",
    "<table align=\"left\">\n",
    "  <td>\n",
    "    <a href=\"https://colab.research.google.com/github/GoogleCloudPlatform/vertex-ai-samples/blob/main/notebooks/official/ml_metadata/get_started_with_vertex_ml_metadata.ipynb\">\n",
    "      <img src=\"https://cloud.google.com/ml-engine/images/colab-logo-32px.png\" alt=\"Colab logo\"> 在Colab中运行\n",
    "    </a>\n",
    "  </td>\n",
    "  <td>\n",
    "    <a href=\"https://github.com/GoogleCloudPlatform/vertex-ai-samples/blob/main/notebooks/official/ml_metadata/get_started_with_vertex_ml_metadata.ipynb\">\n",
    "      <img src=\"https://cloud.google.com/ml-engine/images/github-logo-32px.png\" alt=\"GitHub logo\">\n",
    "      在GitHub上查看\n",
    "    </a>\n",
    "  </td>\n",
    "  <td>\n",
    "    <a href=\"https://console.cloud.google.com/vertex-ai/workbench/deploy-notebook?download_url=https://raw.githubusercontent.com/GoogleCloudPlatform/vertex-ai-samples/main/notebooks/official/ml_metadata/get_started_with_vertex_ml_metadata.ipynb\">\n",
    "      <img src=\"https://lh3.googleusercontent.com/UiNooY4LUgW_oTvpsNhPpQzsstV5W8F7rYgxgGBD85cWJoLmrOzhVs_ksK_vgx40SHs7jCqkTkCk=e14-rj-sc0xffffff-h130-w32\" alt=\"Vertex AI logo\">\n",
    "      在Vertex AI工作台中打开\n",
    "    </a>\n",
    "  </td>            \n",
    "</table>\n",
    "<br/><br/><br/>"
   ]
  },
  {
   "cell_type": "markdown",
   "metadata": {
    "id": "overview:mlops"
   },
   "source": [
    "## 概述\n",
    "\n",
    "本教程演示了如何使用 Vertex ML Metadata。\n",
    "\n",
    "了解更多关于[Vertex ML Metadata](https://cloud.google.com/vertex-ai/docs/ml-metadata)。"
   ]
  },
  {
   "cell_type": "markdown",
   "metadata": {
    "id": "objective:mlops,stage4,get_started_vertex_ml_metadata"
   },
   "source": [
    "### 目标\n",
    "\n",
    "在本教程中，您将学习如何使用 `Vertex ML Metadata`。\n",
    "\n",
    "此教程使用以下 Google Cloud ML 服务：\n",
    "\n",
    "- `Vertex ML Metadata`\n",
    "- `Vertex AI Pipelines`\n",
    "\n",
    "执行的步骤包括：\n",
    "\n",
    "- 创建一个 `Metadatastore` 资源。\n",
    "- 创建（记录）/列出一个带有工件和元数据的 `Artifact`。\n",
    "- 创建（记录）/列出一个 `Execution`。\n",
    "- 创建（记录）/列出一个 `Context`。\n",
    "- 将 `Artifact` 添加到 `Execution` 作为事件。\n",
    "- 将 `Execution` 和 `Artifact` 添加到 `Context` 中。\n",
    "- 删除 `Artifact`、`Execution` 和 `Context`。\n",
    "- 创建并运行一个 `Vertex AI Pipeline` 机器学习工作流来训练和部署一个 scikit-learn 模型。\n",
    "    - 创建自定义管道组件来生成工件和元数据。\n",
    "    - 比较 Vertex AI Pipelines 运行。\n",
    "    - 跟踪管道生成的工件的谱系。\n",
    "    - 查询您的管道运行元数据。"
   ]
  },
  {
   "cell_type": "markdown",
   "metadata": {
    "id": "dataset:beans,lcn"
   },
   "source": [
    "### 数据集\n",
    "\n",
    "这个教程使用的数据集是UCI机器学习中的 ['干豆数据集'](https://archive.ics.uci.edu/ml/datasets/Dry+Bean+Dataset), 参考：KOKLU, M. and OZKAN, I.A., (2020), \"基于计算机视觉和机器学习技术的干豆多分类\", 在《计算与电子农业》（Computers and Electronics in Agriculture）杂志上发表的文章，174卷，105507号。[DOI](https://doi.org/10.1016/j.compag.2020.105507)。"
   ]
  },
  {
   "cell_type": "markdown",
   "metadata": {
    "id": "35bee437737d"
   },
   "source": [
    "### 成本\n",
    "\n",
    "本教程使用 Google Cloud 的计费组件：\n",
    "\n",
    "* Vertex AI\n",
    "* Cloud 存储\n",
    "\n",
    "了解 [Vertex AI 价格](https://cloud.google.com/vertex-ai/pricing) 和 [Cloud 存储价格](https://cloud.google.com/storage/pricing)，并使用 [定价计算器](https://cloud.google.com/products/calculator/) 根据您的预期使用量生成成本估算。"
   ]
  },
  {
   "cell_type": "markdown",
   "metadata": {
    "id": "install_mlops"
   },
   "source": [
    "## 安装\n",
    "\n",
    "安装执行笔记本所需的软件包。"
   ]
  },
  {
   "cell_type": "code",
   "execution_count": null,
   "metadata": {
    "id": "install_mlops"
   },
   "outputs": [],
   "source": [
    "import os\n",
    "\n",
    "! pip3 install --upgrade google-cloud-aiplatform[tensorboard] \\\n",
    "                         google-cloud-pipeline-components  --quiet"
   ]
  },
  {
   "cell_type": "markdown",
   "metadata": {
    "id": "restart"
   },
   "source": [
    "只有Colab：取消注释以下单元格以重新启动内核"
   ]
  },
  {
   "cell_type": "code",
   "execution_count": null,
   "metadata": {
    "id": "D-ZBOjErv5mM"
   },
   "outputs": [],
   "source": [
    "# Automatically restart kernel after installs so that your environment can access the new packages\n",
    "# import IPython\n",
    "\n",
    "# app = IPython.Application.instance()\n",
    "# app.kernel.do_shutdown(True)"
   ]
  },
  {
   "cell_type": "markdown",
   "metadata": {
    "id": "restart"
   },
   "source": [
    "### 重新启动内核\n",
    "\n",
    "安装了额外的包之后，您需要重新启动笔记本内核，这样它才能找到这些包。"
   ]
  },
  {
   "cell_type": "markdown",
   "metadata": {
    "id": "before_you_begin"
   },
   "source": [
    "在你开始之前"
   ]
  },
  {
   "cell_type": "markdown",
   "metadata": {
    "id": "before_you_begin:nogpu"
   },
   "source": [
    "### 设置您的项目ID\n",
    "\n",
    "**如果您不知道您的项目ID**，请尝试以下操作：\n",
    "- 运行 `gcloud config list`。\n",
    "- 运行 `gcloud projects list`。\n",
    "- 参阅支持页面：[查找项目ID](https://support.google.com/googleapi/answer/7014113)。"
   ]
  },
  {
   "cell_type": "code",
   "execution_count": null,
   "metadata": {
    "id": "set_project_id"
   },
   "outputs": [],
   "source": [
    "PROJECT_ID = \"[your-project-id]\"  # @param {type:\"string\"}\n",
    "\n",
    "# Set the project id\n",
    "! gcloud config set project {PROJECT_ID}"
   ]
  },
  {
   "cell_type": "markdown",
   "metadata": {
    "id": "region"
   },
   "source": [
    "地区\n",
    "\n",
    "您还可以更改 Vertex AI 使用的 `REGION` 变量。了解有关 [Vertex AI 地区](https://cloud.google.com/vertex-ai/docs/general/locations) 的更多信息。"
   ]
  },
  {
   "cell_type": "code",
   "execution_count": null,
   "metadata": {
    "id": "region"
   },
   "outputs": [],
   "source": [
    "REGION = \"us-central1\"  # @param {type: \"string\"}"
   ]
  },
  {
   "cell_type": "markdown",
   "metadata": {
    "id": "gcp_authenticate"
   },
   "source": [
    "### 身份验证您的Google Cloud帐户\n",
    "\n",
    "根据您的Jupyter环境，您可能需要手动进行身份验证。请按照以下相关说明操作。"
   ]
  },
  {
   "cell_type": "markdown",
   "metadata": {
    "id": "FvQeFm3Gv5mR"
   },
   "source": [
    "1. Vertex AI 工作台\n",
    "* 无需操作，您已经通过身份验证。"
   ]
  },
  {
   "cell_type": "markdown",
   "metadata": {
    "id": "ad1138a125ea"
   },
   "source": [
    "本地JupyterLab实例，取消注释并运行："
   ]
  },
  {
   "cell_type": "code",
   "execution_count": null,
   "metadata": {
    "id": "ce6043da7b33"
   },
   "outputs": [],
   "source": [
    "# ! gcloud auth login"
   ]
  },
  {
   "cell_type": "markdown",
   "metadata": {
    "id": "0367eac06a10"
   },
   "source": [
    "3. 合作，取消注释并运行："
   ]
  },
  {
   "cell_type": "code",
   "execution_count": null,
   "metadata": {
    "id": "21ad4dbb4a61"
   },
   "outputs": [],
   "source": [
    "IS_COLAB = False\n",
    "# from google.colab import auth\n",
    "# auth.authenticate_user()\n",
    "# IS_COLAB = True"
   ]
  },
  {
   "cell_type": "markdown",
   "metadata": {
    "id": "c13224697bfb"
   },
   "source": [
    "4. 服务帐户或其他\n",
    "*请参考如何在https://cloud.google.com/storage/docs/gsutil/commands/iam#ch-examples上为您的服务帐户授予云存储权限。"
   ]
  },
  {
   "cell_type": "markdown",
   "metadata": {
    "id": "bucket:mbsdk"
   },
   "source": [
    "创建一个云存储桶\n",
    "\n",
    "创建一个存储桶来存储中间产物，如数据集。"
   ]
  },
  {
   "cell_type": "code",
   "execution_count": null,
   "metadata": {
    "id": "bucket"
   },
   "outputs": [],
   "source": [
    "BUCKET_URI = f\"gs://your-bucket-name-{PROJECT_ID}-unique\"  # @param {type:\"string\"}"
   ]
  },
  {
   "cell_type": "markdown",
   "metadata": {
    "id": "create_bucket"
   },
   "source": [
    "只有当您的存储桶不存在时 才能运行以下单元格来创建您的云存储桶。"
   ]
  },
  {
   "cell_type": "code",
   "execution_count": null,
   "metadata": {
    "id": "create_bucket"
   },
   "outputs": [],
   "source": [
    "! gsutil mb -l $REGION $BUCKET_URI"
   ]
  },
  {
   "cell_type": "markdown",
   "metadata": {
    "id": "set_service_account"
   },
   "source": [
    "服务账户\n",
    "\n",
    "**如果您不知道您的服务账户**，请尝试通过执行下面的第二个单元格中的`gcloud`命令来获取您的服务账户。"
   ]
  },
  {
   "cell_type": "code",
   "execution_count": null,
   "metadata": {
    "id": "set_service_account"
   },
   "outputs": [],
   "source": [
    "SERVICE_ACCOUNT = \"[your-service-account]\"  # @param {type:\"string\"}"
   ]
  },
  {
   "cell_type": "code",
   "execution_count": null,
   "metadata": {
    "id": "autoset_service_account"
   },
   "outputs": [],
   "source": [
    "if (\n",
    "    SERVICE_ACCOUNT == \"\"\n",
    "    or SERVICE_ACCOUNT is None\n",
    "    or SERVICE_ACCOUNT == \"[your-service-account]\"\n",
    "):\n",
    "    # Get your service account from gcloud\n",
    "    if not IS_COLAB:\n",
    "        shell_output = !gcloud auth list 2>/dev/null\n",
    "        SERVICE_ACCOUNT = shell_output[2].replace(\"*\", \"\").strip()\n",
    "\n",
    "    if IS_COLAB:\n",
    "        shell_output = ! gcloud projects describe  $PROJECT_ID\n",
    "        project_number = shell_output[-1].split(\":\")[1].strip().replace(\"'\", \"\")\n",
    "        SERVICE_ACCOUNT = f\"{project_number}-compute@developer.gserviceaccount.com\"\n",
    "\n",
    "    print(\"Service Account:\", SERVICE_ACCOUNT)"
   ]
  },
  {
   "cell_type": "markdown",
   "metadata": {
    "id": "set_service_account:pipelines"
   },
   "source": [
    "设置Vertex AI Pipelines的服务账号访问权限\n",
    "\n",
    "运行以下命令，为您的服务账号授予对在上一步创建的存储桶中的流水线工件进行读取和写入的访问权限-- 您只需要针对每个服务账号运行一次这些命令。"
   ]
  },
  {
   "cell_type": "code",
   "execution_count": null,
   "metadata": {
    "id": "set_service_account:pipelines"
   },
   "outputs": [],
   "source": [
    "! gsutil iam ch serviceAccount:{SERVICE_ACCOUNT}:roles/storage.objectCreator $BUCKET_URI\n",
    "\n",
    "! gsutil iam ch serviceAccount:{SERVICE_ACCOUNT}:roles/storage.objectViewer $BUCKET_URI"
   ]
  },
  {
   "cell_type": "markdown",
   "metadata": {
    "id": "setup_vars"
   },
   "source": [
    "设置变量\n",
    "\n",
    "接下来，设置一些在本教程中使用的变量。"
   ]
  },
  {
   "cell_type": "markdown",
   "metadata": {
    "id": "import_aip:v1beta1"
   },
   "source": [
    "导入Vertex AI SDK\n",
    "\n",
    "将Vertex AI SDK导入到您的Python环境中。"
   ]
  },
  {
   "cell_type": "code",
   "execution_count": null,
   "metadata": {
    "id": "import_aip:v1beta1"
   },
   "outputs": [],
   "source": [
    "from datetime import datetime\n",
    "\n",
    "import google.cloud.aiplatform_v1beta1 as aip_beta\n",
    "from google.cloud import aiplatform"
   ]
  },
  {
   "cell_type": "markdown",
   "metadata": {
    "id": "aip_constants:fs"
   },
   "source": [
    "#### Vertex AI常量\n",
    "\n",
    "为Vertex AI设置以下常量：\n",
    "\n",
    "- `API_ENDPOINT`：用于`ML Metadata`服务的Vertex AI API服务端点。"
   ]
  },
  {
   "cell_type": "code",
   "execution_count": null,
   "metadata": {
    "id": "aip_constants:fs"
   },
   "outputs": [],
   "source": [
    "# API service endpoint\n",
    "API_ENDPOINT = \"{}-aiplatform.googleapis.com\".format(REGION)\n",
    "\n",
    "# Vertex location root path for your dataset, model and endpoint resources\n",
    "PARENT = \"projects/\" + PROJECT_ID + \"/locations/\" + REGION"
   ]
  },
  {
   "cell_type": "markdown",
   "metadata": {
    "id": "clients:metadata"
   },
   "source": [
    "设置客户端\n",
    "\n",
    "Vertex 作为一个客户端/服务器模型。在您一侧（Python脚本），您将创建一个客户端，向Vertex AI服务器发送请求并接收响应。\n",
    "\n",
    "在本教程中，您将为工作流程中的不同步骤使用不同的客户端。因此，请提前设置它们。\n",
    "\n",
    "- 元数据服务用于创建记录、搜索和分析工件和元数据。"
   ]
  },
  {
   "cell_type": "code",
   "execution_count": null,
   "metadata": {
    "id": "clients:metadata"
   },
   "outputs": [],
   "source": [
    "# client options same for all services\n",
    "client_options = {\"api_endpoint\": API_ENDPOINT}\n",
    "\n",
    "\n",
    "def create_metadata_client():\n",
    "    client = aip_beta.MetadataServiceClient(client_options=client_options)\n",
    "    return client\n",
    "\n",
    "\n",
    "clients = {}\n",
    "clients[\"metadata\"] = create_metadata_client()\n",
    "\n",
    "for client in clients.items():\n",
    "    print(client)"
   ]
  },
  {
   "cell_type": "markdown",
   "metadata": {
    "id": "intro_metadata"
   },
   "source": [
    "## 介绍 Vertex AI Metadata\n",
    "\n",
    "`Vertex ML Metadata` 服务为您提供了记录、搜索和分析您的 ML 工作流产生的工件和相应元数据的能力。例如，在试验过程中，您可能希望记录模型工件的位置作为工件，并将训练超参数和评估指标作为相应的元数据。\n",
    "\n",
    "该服务支持手动和自动记录 ML 元数据，后者在使用 Vertex AI Pipelines 时发生。\n",
    "\n",
    "### 概念和组织\n",
    "\n",
    "Vertex ML Metadata 将您的 ML 系统的元数据描述为图。\n",
    "\n",
    "**工件**：工件是 ML 系统消费或产生的数据片段，如数据集、模型或日志。对于大型工件，如数据集或模型，工件记录包括数据存储的 URI。\n",
    "\n",
    "**执行**：执行描述了 ML 系统工作流程中的单个步骤。\n",
    "\n",
    "**事件**：执行可以依赖于工件作为输入或产生工件作为输出。事件描述了工件和执行之间的关系，以帮助您确定工件的继承关系。例如，会创建一个事件来记录数据集被执行使用，另一个事件记录该执行生成了一个模型。\n",
    "\n",
    "**上下文**：上下文让您将工件和执行组合在一个可查询和类型化的类别中。\n",
    "\n",
    "### ML 工件继承\n",
    "\n",
    "Vertex ML Metadata 提供了理解您的机器学习系统性能变化的能力，以及分析您的 ML 工作流产生的元数据和其工件继承关系。工件的继承关系包括导致其创建的所有因素，以及由此工件传递的工件和元数据。\n",
    "\n",
    "了解更多有关[介绍 Vertex ML Metadata](https://cloud.google.com/vertex-ai/docs/ml-metadata/introduction) 的信息。"
   ]
  },
  {
   "cell_type": "markdown",
   "metadata": {
    "id": "create_metadatastore"
   },
   "source": [
    "### 创建一个`MetadataStore`资源\n",
    "\n",
    "每个项目可以拥有一个或多个`MetadataStore`资源。默认情况下，如果没有明确创建，每个项目都有一个默认的，其指定为：\n",
    "\n",
    "    projects/<project_id>/locations/<region>/metadataStores/<name>\n",
    "\n",
    "您可以使用`create_metadata_store()`方法创建一个`MetadataStore`资源，具有以下参数：\n",
    "\n",
    "- `parent`：您项目中所有资源的完全限定子路径，即，projects/<project_id>/locations/<location>\n",
    "- `metadata_store_id`：`MetadataStore`资源的名称。"
   ]
  },
  {
   "cell_type": "code",
   "execution_count": null,
   "metadata": {
    "id": "create_metadatastore"
   },
   "outputs": [],
   "source": [
    "metadata_store = clients[\"metadata\"].create_metadata_store(\n",
    "    parent=PARENT, metadata_store_id=\"my-metadata-store-unique\"\n",
    ")\n",
    "\n",
    "metadata_store_id = str(metadata_store.result())[7:-2]\n",
    "print(metadata_store_id)"
   ]
  },
  {
   "cell_type": "markdown",
   "metadata": {
    "id": "list_metadata_schemas"
   },
   "source": [
    "### 列出元数据模式\n",
    "\n",
    "当您创建`Artifact`、`Execution`或`Context`资源时，您需要指定一个描述相应元数据的模式。这些模式必须在您的`Metadatastore`资源中预先注册。\n",
    "\n",
    "您可以使用`list_metadata_schemas()`方法获取所有已注册的模式列表，包括默认和用户定义的，具体参数如下：\n",
    "\n",
    "- `name`: `MetadataStore`资源的完全限定资源标识符。\n",
    "\n",
    "了解更多关于[元数据系统模式](https://cloud.google.com/vertex-ai/docs/ml-metadata/system-schemas)。"
   ]
  },
  {
   "cell_type": "code",
   "execution_count": null,
   "metadata": {
    "id": "list_metadata_schemas"
   },
   "outputs": [],
   "source": [
    "schemas = clients[\"metadata\"].list_metadata_schemas(parent=metadata_store_id)\n",
    "\n",
    "for schema in schemas:\n",
    "    print(schema)"
   ]
  },
  {
   "cell_type": "markdown",
   "metadata": {
    "id": "create_metadata_artifact"
   },
   "source": [
    "### 创建一个`Artifact`资源\n",
    "\n",
    "您可以使用`create_artifact()`方法创建一个`Artifact`资源，需要使用以下参数:\n",
    "\n",
    "- `parent`：指向`Metadatastore`资源的完全限定资源标识符。\n",
    "- `artifact`：`Artifact`资源的定义\n",
    "    - `display_name`：`Artifact`资源的人类可读名称。\n",
    "    - `uri`：Artifact文件的统一资源标识符。如果没有实际的Artifact文件，则可以为空。\n",
    "    - `labels`：要分配给`Artifact`资源的用户定义标签。\n",
    "    - `schema_title`：描述元数据的模式的标题。\n",
    "    - `metadata`：要与`Artifact`资源关联的元数据键/值对。\n",
    "- `artifact_id`：（可选）用户定义的`Artifact`资源的短ID。"
   ]
  },
  {
   "cell_type": "code",
   "execution_count": null,
   "metadata": {
    "id": "create_metadata_artifact"
   },
   "outputs": [],
   "source": [
    "from google.cloud.aiplatform_v1beta1.types import Artifact\n",
    "\n",
    "artifact_item = Artifact(\n",
    "    display_name=\"my_example_artifact\",\n",
    "    uri=\"my_url\",\n",
    "    labels={\"my_label\": \"value\"},\n",
    "    schema_title=\"system.Artifact\",\n",
    "    metadata={\"param\": \"value\"},\n",
    ")\n",
    "\n",
    "artifact = clients[\"metadata\"].create_artifact(\n",
    "    parent=metadata_store_id,\n",
    "    artifact=artifact_item,\n",
    "    artifact_id=\"myartifactid\",\n",
    ")\n",
    "\n",
    "print(artifact)"
   ]
  },
  {
   "cell_type": "markdown",
   "metadata": {
    "id": "list_metadata_artifacts"
   },
   "source": [
    "### 在 `Metadatastore` 中列出 `Artifact` 资源\n",
    "\n",
    "您可以使用 `list_artifacts()` 方法列出所有 `Artifact` 资源，参数如下：\n",
    "\n",
    "- `parent`: `MetadataStore` 资源的完全限定资源标识符。"
   ]
  },
  {
   "cell_type": "code",
   "execution_count": null,
   "metadata": {
    "id": "list_metadata_artifacts"
   },
   "outputs": [],
   "source": [
    "artifacts = clients[\"metadata\"].list_artifacts(parent=metadata_store_id)\n",
    "\n",
    "for _artifact in artifacts:\n",
    "    print(_artifact)"
   ]
  },
  {
   "cell_type": "markdown",
   "metadata": {
    "id": "create_metadata_execution"
   },
   "source": [
    "### 创建一个`Execution`资源\n",
    "\n",
    "您可以使用`create_execution()`方法创建一个`Execution`资源，需要以下参数：\n",
    "\n",
    "- `parent`：`Metadatastore`资源的完全限定资源标识符。\n",
    "- `execution`：\n",
    "    - `display_name`：`Execution`资源的人类可读名称。\n",
    "    - `schema_title`：描述元数据的模式标题。\n",
    "    - `metadata`：要与`Execution`资源关联的元数据键值对。\n",
    "- `execution_id`：（可选）用户定义的`Execution`资源的短ID。"
   ]
  },
  {
   "cell_type": "code",
   "execution_count": null,
   "metadata": {
    "id": "create_metadata_execution"
   },
   "outputs": [],
   "source": [
    "from google.cloud.aiplatform_v1beta1.types import Execution\n",
    "\n",
    "execution = clients[\"metadata\"].create_execution(\n",
    "    parent=metadata_store_id,\n",
    "    execution=Execution(\n",
    "        display_name=\"my_execution\",\n",
    "        schema_title=\"system.CustomJobExecution\",\n",
    "        metadata={\"value\": \"param\"},\n",
    "    ),\n",
    "    execution_id=\"myexecutionid\",\n",
    ")\n",
    "\n",
    "print(execution)"
   ]
  },
  {
   "cell_type": "markdown",
   "metadata": {
    "id": "list_metadata_executions"
   },
   "source": [
    "### 在`Metadatastore`中列出`Execution`资源\n",
    "\n",
    "您可以使用`list_executions()`方法列出所有`Execution`资源，需要以下参数：\n",
    "\n",
    "- `parent`：`MetadataStore`资源的完全限定资源标识符。"
   ]
  },
  {
   "cell_type": "code",
   "execution_count": null,
   "metadata": {
    "id": "list_metadata_executions"
   },
   "outputs": [],
   "source": [
    "executions = clients[\"metadata\"].list_executions(parent=metadata_store_id)\n",
    "\n",
    "for _execution in executions:\n",
    "    print(_execution)"
   ]
  },
  {
   "cell_type": "markdown",
   "metadata": {
    "id": "create_metadata_context"
   },
   "source": [
    "### 创建一个`Context`资源\n",
    "\n",
    "您可以使用`create_context()`方法来创建一个`Context`资源，需要提供以下参数：\n",
    "\n",
    "- `parent`：指向`Metadatastore`资源的完全限定资源标识符。\n",
    "- `context`：\n",
    "    - `display_name`：对`Execution`资源的可读名称。\n",
    "    - `schema_title`：描述元数据的模式标题。\n",
    "    - `labels`：用户定义的要分配给`Context`资源的标签。\n",
    "    - `metadata`：要与`Execution`资源关联的元数据键值对。\n",
    "- `context_id`：（可选）用户定义的`Context`资源的简短ID。"
   ]
  },
  {
   "cell_type": "code",
   "execution_count": null,
   "metadata": {
    "id": "create_metadata_context"
   },
   "outputs": [],
   "source": [
    "from google.cloud.aiplatform_v1beta1.types import Context\n",
    "\n",
    "context = clients[\"metadata\"].create_context(\n",
    "    parent=metadata_store_id,\n",
    "    context=Context(\n",
    "        display_name=\"my_context\",\n",
    "        labels=[{\"my_label\", \"my_value\"}],\n",
    "        schema_title=\"system.Pipeline\",\n",
    "        metadata={\"param\": \"value\"},\n",
    "    ),\n",
    "    context_id=\"mycontextid\",\n",
    ")\n",
    "\n",
    "print(context)"
   ]
  },
  {
   "cell_type": "markdown",
   "metadata": {
    "id": "list_metadata_contexts"
   },
   "source": [
    "在`Metadatastore`中列出`Context`资源\n",
    "\n",
    "您可以使用`list_contexts()`方法列出所有`Context`资源，并使用以下参数：\n",
    "\n",
    "- `parent`：`MetadataStore`资源的完全合格的资源标识符。"
   ]
  },
  {
   "cell_type": "code",
   "execution_count": null,
   "metadata": {
    "id": "list_metadata_contexts"
   },
   "outputs": [],
   "source": [
    "contexts = clients[\"metadata\"].list_contexts(parent=metadata_store_id)\n",
    "\n",
    "for _context in contexts:\n",
    "    print(_context)"
   ]
  },
  {
   "cell_type": "markdown",
   "metadata": {
    "id": "add_metadata_execution_events"
   },
   "source": [
    "### 将事件添加到“Execution”资源\n",
    "\n",
    "“Execution”资源由执行过程中发生的一系列事件组成。每个事件包括一个作为“Execution”资源的输入或输出的工件。\n",
    "\n",
    "您可以使用`add_execution_events()`方法向“Execution”资源添加执行事件，参数如下：\n",
    "\n",
    "- `execution`：`Execution`资源的完全限定资源标识符。\n",
    "- `events`：构成执行过程的事件序列。"
   ]
  },
  {
   "cell_type": "code",
   "execution_count": null,
   "metadata": {
    "id": "add_metadata_execution_events"
   },
   "outputs": [],
   "source": [
    "from google.cloud.aiplatform_v1beta1.types import Event\n",
    "\n",
    "clients[\"metadata\"].add_execution_events(\n",
    "    execution=execution.name,\n",
    "    events=[\n",
    "        Event(\n",
    "            artifact=artifact.name,\n",
    "            type_=Event.Type.INPUT,\n",
    "            labels={\"my_label\": \"my_value\"},\n",
    "        )\n",
    "    ],\n",
    ")"
   ]
  },
  {
   "cell_type": "markdown",
   "metadata": {
    "id": "metadata_finish_context"
   },
   "source": [
    "### 将工件和执行合并为上下文\n",
    "\n",
    "上下文用于将“工件”资源和“执行”资源组合在一个可查询和类型化的类别下。上下文可用于表示元数据集。\n",
    "\n",
    "您可以使用`add_context_artifacts_and_executions（）`方法将一组`Artifact`和`Execution`资源合并为`Context`资源，具有以下参数：\n",
    "\n",
    "- `context`：`Context`资源的完全合格资源标识符。\n",
    "- `artifacts`：`Artifact`资源的完全合格资源标识符列表。\n",
    "- `executions`：`Execution`资源的完全合格资源标识符列表。"
   ]
  },
  {
   "cell_type": "code",
   "execution_count": null,
   "metadata": {
    "id": "metadata_finish_context"
   },
   "outputs": [],
   "source": [
    "clients[\"metadata\"].add_context_artifacts_and_executions(\n",
    "    context=context.name, artifacts=[artifact.name], executions=[execution.name]\n",
    ")"
   ]
  },
  {
   "cell_type": "markdown",
   "metadata": {
    "id": "query_metadata_context"
   },
   "source": [
    "查询上下文\n",
    "\n",
    "您可以使用`query_context_lineage_subgraph()`方法查询`Context`资源的子图，方法参数如下：\n",
    "\n",
    "- `context`：`Context`资源的完全合格的资源标识符。"
   ]
  },
  {
   "cell_type": "code",
   "execution_count": null,
   "metadata": {
    "id": "query_metadata_context"
   },
   "outputs": [],
   "source": [
    "subgraph = clients[\"metadata\"].query_context_lineage_subgraph(context=context.name)\n",
    "\n",
    "print(subgraph)"
   ]
  },
  {
   "cell_type": "markdown",
   "metadata": {
    "id": "delete_metadata_artifact"
   },
   "source": [
    "### 删除`Artifact`资源\n",
    "\n",
    "您可以使用`delete_artifact()`方法删除`Artifact`资源，参数如下：\n",
    "\n",
    "- `name`：`Artifact`资源的完全限定资源标识符。"
   ]
  },
  {
   "cell_type": "code",
   "execution_count": null,
   "metadata": {
    "id": "delete_metadata_artifact"
   },
   "outputs": [],
   "source": [
    "clients[\"metadata\"].delete_artifact(name=artifact.name)"
   ]
  },
  {
   "cell_type": "markdown",
   "metadata": {
    "id": "delete_metadata_execution"
   },
   "source": [
    "### 删除`Execution`资源\n",
    "\n",
    "您可以使用`delete_execution()`方法删除`Execution`资源，需要以下参数：\n",
    "\n",
    "- `name`：`Execution`资源的完全合格资源标识符。"
   ]
  },
  {
   "cell_type": "code",
   "execution_count": null,
   "metadata": {
    "id": "delete_metadata_execution"
   },
   "outputs": [],
   "source": [
    "clients[\"metadata\"].delete_execution(name=execution.name)"
   ]
  },
  {
   "cell_type": "markdown",
   "metadata": {
    "id": "delete_metadata_context"
   },
   "source": [
    "### 删除 `Context` 资源\n",
    "\n",
    "您可以使用 `delete_context()` 方法删除一个 `Context` 资源，需要以下参数：\n",
    "\n",
    "- `name`：`Context` 资源的完全限定资源标识符。"
   ]
  },
  {
   "cell_type": "code",
   "execution_count": null,
   "metadata": {
    "id": "delete_metadata_context"
   },
   "outputs": [],
   "source": [
    "clients[\"metadata\"].delete_context(name=context.name)"
   ]
  },
  {
   "cell_type": "markdown",
   "metadata": {
    "id": "intro_pipeline_metadata"
   },
   "source": [
    "## 在`Vertex AI Pipeline`中跟踪ML元数据简介\n",
    "\n",
    "Vertex AI Pipelines在执行管道时自动记录生成的指标和工件。然后，您可以使用SDK跟踪和分析管道运行中的指标和工件。"
   ]
  },
  {
   "cell_type": "code",
   "execution_count": null,
   "metadata": {
    "id": "import_kfp:basic"
   },
   "outputs": [],
   "source": [
    "from kfp.v2 import compiler, dsl\n",
    "from kfp.v2.dsl import (Artifact, Dataset, Input, Metrics, Model, Output,\n",
    "                        OutputPath, component)"
   ]
  },
  {
   "cell_type": "markdown",
   "metadata": {
    "id": "metadata_3step_pipeline"
   },
   "source": [
    "### 使用自定义组件创建一个包含3步的流水线\n",
    "\n",
    "首先，您需要创建一个流水线来在`Vertex AI Pipelines`上运行，包含以下自定义组件：\n",
    "\n",
    "* `get_dataframe`：从一个BigQuery表中检索数据并将其转换为一个pandas DataFrame。\n",
    "* `sklearn_train`：使用pandas DataFrame来训练和导出一个scikit-learn模型，同时记录一些指标。\n",
    "* `deploy_model`：部署导出的scikit-learn模型到一个`Vertex AI Endpoint`资源。\n",
    "\n",
    "#### get_dataframe组件\n",
    "\n",
    "该组件执行以下操作：\n",
    "\n",
    "* 使用BigQuery客户端库创建对一个BigQuery表的引用\n",
    "* 下载BigQuery表并将其转换为一个打乱顺序的pandas DataFrame\n",
    "* 将DataFrame导出为一个CSV文件\n",
    "\n",
    "#### sklearn_train组件\n",
    "\n",
    "该组件执行以下操作：\n",
    "\n",
    "* 将CSV文件导入为一个pandas DataFrame\n",
    "* 将DataFrame分割为训练集和测试集\n",
    "* 训练一个scikit-learn模型\n",
    "* 记录模型的指标\n",
    "* 将模型工件保存为一个本地的`model.joblib`文件\n",
    "\n",
    "#### deploy_model组件\n",
    "\n",
    "该组件执行以下操作：\n",
    "\n",
    "* 将scikit-learn模型上传到一个`Vertex AI Model`资源\n",
    "* 将模型部署到一个`Vertex AI Endpoint`资源。"
   ]
  },
  {
   "cell_type": "code",
   "execution_count": null,
   "metadata": {
    "id": "metadata_3step_pipeline"
   },
   "outputs": [],
   "source": [
    "@component(\n",
    "    packages_to_install=[\"google-cloud-bigquery\", \"pandas\", \"pyarrow\", \"db-dtypes\"],\n",
    "    base_image=\"python:3.9\",\n",
    "    output_component_file=\"create_dataset.yaml\",\n",
    ")\n",
    "def get_dataframe(bq_table: str, output_data_path: OutputPath(\"Dataset\")):\n",
    "    from google.cloud import bigquery\n",
    "\n",
    "    bqclient = bigquery.Client()\n",
    "    table = bigquery.TableReference.from_string(bq_table)\n",
    "    rows = bqclient.list_rows(table)\n",
    "    dataframe = rows.to_dataframe(\n",
    "        create_bqstorage_client=True,\n",
    "    )\n",
    "    dataframe = dataframe.sample(frac=1, random_state=2)\n",
    "    dataframe.to_csv(output_data_path)\n",
    "\n",
    "\n",
    "@component(\n",
    "    packages_to_install=[\"scikit-learn\", \"pandas\", \"joblib\"],\n",
    "    base_image=\"python:3.9\",\n",
    "    output_component_file=\"beans_model_component.yaml\",\n",
    ")\n",
    "def sklearn_train(\n",
    "    dataset: Input[Dataset], metrics: Output[Metrics], model: Output[Model]\n",
    "):\n",
    "    import pandas as pd\n",
    "    from joblib import dump\n",
    "    from sklearn.model_selection import train_test_split\n",
    "    from sklearn.tree import DecisionTreeClassifier\n",
    "\n",
    "    df = pd.read_csv(dataset.path)\n",
    "    labels = df.pop(\"Class\").tolist()\n",
    "    data = df.values.tolist()\n",
    "    x_train, x_test, y_train, y_test = train_test_split(data, labels)\n",
    "\n",
    "    skmodel = DecisionTreeClassifier()\n",
    "    skmodel.fit(x_train, y_train)\n",
    "    score = skmodel.score(x_test, y_test)\n",
    "    print(\"accuracy is:\", score)\n",
    "\n",
    "    metrics.log_metric(\"accuracy\", (score * 100.0))\n",
    "    metrics.log_metric(\"framework\", \"Scikit Learn\")\n",
    "    metrics.log_metric(\"dataset_size\", len(df))\n",
    "    dump(skmodel, model.path + \".joblib\")\n",
    "\n",
    "\n",
    "@component(\n",
    "    packages_to_install=[\"google-cloud-aiplatform\"],\n",
    "    base_image=\"python:3.9\",\n",
    "    output_component_file=\"beans_deploy_component.yaml\",\n",
    ")\n",
    "def deploy_model(\n",
    "    model: Input[Model],\n",
    "    project: str,\n",
    "    region: str,\n",
    "    vertex_endpoint: Output[Artifact],\n",
    "    vertex_model: Output[Model],\n",
    "):\n",
    "    from google.cloud import aiplatform\n",
    "\n",
    "    aiplatform.init(project=project, location=region)\n",
    "\n",
    "    deployed_model = aiplatform.Model.upload(\n",
    "        display_name=\"beans-model-pipeline\",\n",
    "        artifact_uri=model.uri.replace(\"model\", \"\"),\n",
    "        serving_container_image_uri=\"us-docker.pkg.dev/vertex-ai/prediction/sklearn-cpu.0-24:latest\",\n",
    "    )\n",
    "    endpoint = deployed_model.deploy(machine_type=\"n1-standard-4\")\n",
    "\n",
    "    # Save data to the output params\n",
    "    vertex_endpoint.uri = endpoint.resource_name\n",
    "    vertex_model.uri = deployed_model.resource_name"
   ]
  },
  {
   "cell_type": "markdown",
   "metadata": {
    "id": "create_3step_pipeline"
   },
   "source": [
    "### 构建并编译管道\n",
    "\n",
    "接下来，构建管道："
   ]
  },
  {
   "cell_type": "code",
   "execution_count": null,
   "metadata": {
    "id": "create_3step_pipeline"
   },
   "outputs": [],
   "source": [
    "PIPELINE_ROOT = f\"{BUCKET_URI}/pipeline_root/3step\"\n",
    "\n",
    "\n",
    "@dsl.pipeline(\n",
    "    # Default pipeline root. You can override it when submitting the pipeline.\n",
    "    pipeline_root=PIPELINE_ROOT,\n",
    "    # A name for the pipeline.\n",
    "    name=\"mlmd-pipeline\",\n",
    ")\n",
    "def my_pipeline(\n",
    "    bq_table: str = \"\",\n",
    "    output_data_path: str = \"data.csv\",\n",
    "    project: str = PROJECT_ID,\n",
    "    region: str = REGION,\n",
    "):\n",
    "    dataset_task = get_dataframe(bq_table)\n",
    "\n",
    "    model_task = sklearn_train(dataset_task.output)\n",
    "\n",
    "    deploy_model(model=model_task.outputs[\"model\"], project=project, region=region)"
   ]
  },
  {
   "cell_type": "markdown",
   "metadata": {
    "id": "run_pipeline:3step"
   },
   "source": [
    "### 编译和执行管道的两个运行\n",
    "\n",
    "接下来，您编译管道，然后运行两个单独的管道实例。在第一个实例中，您使用数据集的小版本对模型进行训练，在第二个实例中，您使用数据集的大版本对模型进行训练。"
   ]
  },
  {
   "cell_type": "code",
   "execution_count": null,
   "metadata": {
    "id": "run_pipeline:3step"
   },
   "outputs": [],
   "source": [
    "NOW = datetime.now().isoformat().replace(\".\", \":\")[:-7]\n",
    "\n",
    "compiler.Compiler().compile(\n",
    "    pipeline_func=my_pipeline, package_path=\"mlmd_pipeline.json\"\n",
    ")\n",
    "\n",
    "run1 = aiplatform.PipelineJob(\n",
    "    display_name=\"mlmd-pipeline\",\n",
    "    template_path=\"mlmd_pipeline.json\",\n",
    "    job_id=\"mlmd-pipeline-small-unique\",\n",
    "    parameter_values={\"bq_table\": \"sara-vertex-demos.beans_demo.small_dataset\"},\n",
    "    enable_caching=True,\n",
    ")\n",
    "\n",
    "run2 = aiplatform.PipelineJob(\n",
    "    display_name=\"mlmd-pipeline\",\n",
    "    template_path=\"mlmd_pipeline.json\",\n",
    "    job_id=\"mlmd-pipeline-large-unique\",\n",
    "    parameter_values={\"bq_table\": \"sara-vertex-demos.beans_demo.large_dataset\"},\n",
    "    enable_caching=True,\n",
    ")\n",
    "\n",
    "run1.run()\n",
    "run2.run()\n",
    "\n",
    "run1.delete()\n",
    "run2.delete()\n",
    "\n",
    "! rm -f mlmd_pipeline.json *.yaml"
   ]
  },
  {
   "cell_type": "markdown",
   "metadata": {
    "id": "compare_runs:3step"
   },
   "source": [
    "### 比较管道运行\n",
    "\n",
    "现在您已经有了两次完成的管道运行，您可以比较这些运行。\n",
    "\n",
    "您可以使用`get_pipeline_df()`方法来访问运行的元数据。这里的`mlmd-pipeline`参数是您给管道命名的名称：\n",
    "\n",
    "**或者，有关在 Vertex AI 控制台中检查管道工件和元数据的指导，请参阅[此 codelab](https://codelabs.developers.google.com/vertex-mlmd-pipelines#5)。**"
   ]
  },
  {
   "cell_type": "code",
   "execution_count": null,
   "metadata": {
    "id": "compare_runs:3step"
   },
   "outputs": [],
   "source": [
    "df = aiplatform.get_pipeline_df(pipeline=\"mlmd-pipeline\")\n",
    "print(df)"
   ]
  },
  {
   "cell_type": "markdown",
   "metadata": {
    "id": "visualize_runs:3step"
   },
   "source": [
    "### 可视化管道运行\n",
    "\n",
    "接下来，您可以使用matplotlib创建自定义可视化图表，以查看模型准确度与用于训练的数据量之间的关系。"
   ]
  },
  {
   "cell_type": "code",
   "execution_count": null,
   "metadata": {
    "id": "visualize_runs:3step"
   },
   "outputs": [],
   "source": [
    "import matplotlib.pyplot as plt\n",
    "\n",
    "plt.plot(df[\"metric.dataset_size\"], df[\"metric.accuracy\"], label=\"Accuracy\")\n",
    "plt.title(\"Accuracy and dataset size\")\n",
    "plt.legend(loc=4)\n",
    "plt.show()"
   ]
  },
  {
   "cell_type": "markdown",
   "metadata": {
    "id": "list_metadata_artifacts:3tep"
   },
   "source": [
    "### 查询您的`Metadatastore`资源\n",
    "\n",
    "最后，在调用`list_artifacts()`方法时，通过指定一个`filter`参数来查询您的`Metadatastore`资源。"
   ]
  },
  {
   "cell_type": "code",
   "execution_count": null,
   "metadata": {
    "id": "list_metadata_artifacts:3tep"
   },
   "outputs": [],
   "source": [
    "FILTER = f'create_time >= \"{NOW}\" AND state = LIVE'\n",
    "artifact_req = {\n",
    "    \"parent\": metadata_store_id,\n",
    "    \"filter\": FILTER,\n",
    "}\n",
    "\n",
    "artifacts = clients[\"metadata\"].list_artifacts(artifact_req)\n",
    "\n",
    "for _artifact in artifacts:\n",
    "    print(_artifact)\n",
    "    clients[\"metadata\"].delete_artifact(name=_artifact.name)"
   ]
  },
  {
   "cell_type": "markdown",
   "metadata": {
    "id": "delete_metadatastore"
   },
   "source": [
    "### 删除`MetadataStore`资源\n",
    "\n",
    "您可以使用`delete_metadata_store()`方法删除`MetadataStore`资源，需要提供以下参数：\n",
    "\n",
    "- `name`：`MetadataStore`资源的完全限定资源标识符。"
   ]
  },
  {
   "cell_type": "code",
   "execution_count": null,
   "metadata": {
    "id": "delete_metadatastore"
   },
   "outputs": [],
   "source": [
    "metadata_store_id = (\n",
    "    f\"projects/{PROJECT_ID}/locations/{REGION}/metadataStores/my-metadata-store-unique\"\n",
    ")\n",
    "\n",
    "clients[\"metadata\"].delete_metadata_store(name=metadata_store_id)"
   ]
  },
  {
   "cell_type": "markdown",
   "metadata": {
    "id": "cleanup:mbsdk"
   },
   "source": [
    "清理工作\n",
    "\n",
    "要清理此项目中使用的所有Google Cloud资源，您可以删除用于指导教程的[Google Cloud项目](https://cloud.google.com/resource-manager/docs/creating-managing-projects#shutting_down_projects)。\n",
    "\n",
    "或者，您可以删除在此指导教程中创建的单个资源。"
   ]
  },
  {
   "cell_type": "code",
   "execution_count": null,
   "metadata": {
    "id": "cleanup:mbsdk"
   },
   "outputs": [],
   "source": [
    "delete_bucket = False\n",
    "\n",
    "if delete_bucket or os.getenv(\"IS_TESTING\"):\n",
    "    ! gsutil rm -r $BUCKET_URI"
   ]
  }
 ],
 "metadata": {
  "colab": {
   "name": "get_started_with_vertex_ml_metadata.ipynb",
   "toc_visible": true
  },
  "kernelspec": {
   "display_name": "Python 3",
   "name": "python3"
  }
 },
 "nbformat": 4,
 "nbformat_minor": 0
}
