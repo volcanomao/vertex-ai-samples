{
 "cells": [
  {
   "cell_type": "code",
   "execution_count": null,
   "metadata": {
    "id": "VBOfRw7ifk8w"
   },
   "outputs": [],
   "source": [
    "# Copyright 2022 Google LLC\n",
    "#\n",
    "# Licensed under the Apache License, Version 2.0 (the \"License\");\n",
    "# you may not use this file except in compliance with the License.\n",
    "# You may obtain a copy of the License at\n",
    "#\n",
    "#     https://www.apache.org/licenses/LICENSE-2.0\n",
    "#\n",
    "# Unless required by applicable law or agreed to in writing, software\n",
    "# distributed under the License is distributed on an \"AS IS\" BASIS,\n",
    "# WITHOUT WARRANTIES OR CONDITIONS OF ANY KIND, either express or implied.\n",
    "# See the License for the specific language governing permissions and\n",
    "# limitations under the License."
   ]
  },
  {
   "cell_type": "markdown",
   "metadata": {
    "id": "title:generic,gcp"
   },
   "source": [
    "# GCP上的E2E ML：MLOps阶段2：使用客户管理的加密密钥（CMEK）进行AutoML图像分类训练\n",
    "\n",
    "<table align=\"left\">\n",
    "  <td>\n",
    "    <a href=\"https://github.com/GoogleCloudPlatform/vertex-ai-samples/blob/main/notebooks/community/ml_ops/stage2/get_started_with_cmek_training.ipynb\">\n",
    "      <img src=\"https://cloud.google.com/ml-engine/images/github-logo-32px.png\" alt=\"GitHub logo\">\n",
    "      在GitHub上查看\n",
    "    </a>\n",
    "  </td>\n",
    "  <td>\n",
    "        <a href=\"https://colab.research.google.com/github/GoogleCloudPlatform/vertex-ai-samples/blob/main/notebooks/community/ml_ops/stage2/get_started_with_cmek_training.ipynb\">\n",
    "        <img src=\"https://cloud.google.com/ml-engine/images/colab-logo-32px.png\" alt=\"Colab logo\"> 在Colab上运行\n",
    "        </a>\n",
    "  </td>\n",
    "  <td>\n",
    "    <a href=\"https://console.cloud.google.com/vertex-ai/workbench/deploy-notebook?download_url=https://raw.githubusercontent.com/GoogleCloudPlatform/vertex-ai-samples/main/notebooks/community/ml_ops/stage2/get_started_with_cmek_training.ipynb\">\n",
    "      <img src=\"https://lh3.googleusercontent.com/UiNooY4LUgW_oTvpsNhPpQzsstV5W8F7rYgxgGBD85cWJoLmrOzhVs_ksK_vgx40SHs7jCqkTkCk=e14-rj-sc0xffffff-h130-w32\" alt=\"Vertex AI logo\">\n",
    "      在Vertex AI Workbench中打开\n",
    "    </a>\n",
    "  </td>\n",
    "</table>\n",
    "<br/><br/><br/>"
   ]
  },
  {
   "cell_type": "markdown",
   "metadata": {
    "id": "overview:mlops"
   },
   "source": [
    "##概述\n",
    "\n",
    "本教程演示了如何在谷歌云中使用顶点 AI 进行端对端 MLOps 生产过程。本教程涵盖了第二阶段：实验：使用客户管理加密密钥 CMEK 开始使用 AutoML 训练。"
   ]
  },
  {
   "cell_type": "markdown",
   "metadata": {
    "id": "objective:mlops,stage3,get_started_automl_pipeline_components"
   },
   "source": [
    "### 目标\n",
    "\n",
    "在本教程中，您将学习如何在`Vertex AI AutoML`训练中使用客户管理的加密密钥（CMEK）。\n",
    "\n",
    "本教程使用以下Google Cloud ML服务：\n",
    "\n",
    "- `Vertex AI AutoML`\n",
    "- 客户管理的加密密钥。\n",
    "\n",
    "执行的步骤包括：\n",
    "\n",
    "- 创建一个客户管理的加密密钥。\n",
    "- 创建一个使用CMEK加密的图像数据集。\n",
    "- 使用CMEK加密训练一个AutoML模型。"
   ]
  },
  {
   "cell_type": "markdown",
   "metadata": {
    "id": "dataset:flowers,icn"
   },
   "source": [
    "数据集\n",
    "\n",
    "本教程使用的数据集是来自[TensorFlow](https://www.tensorflow.org/datasets/catalog/tf_flowers)的[Flowers数据集](https://www.tensorflow.org/datasets/catalog/overview)。本教程中的数据集版本存储在一个公共(GCS)存储桶中。训练的模型可以预测图像所属的花的类型，包括五种花：雏菊、蒲公英、玫瑰、向日葵或郁金香。"
   ]
  },
  {
   "cell_type": "markdown",
   "metadata": {
    "id": "5e2eba58ad71"
   },
   "source": [
    "### 成本\n",
    "\n",
    "本教程使用 Google Cloud 的计费组件：\n",
    "\n",
    "* Vertex AI\n",
    "* Cloud Storage\n",
    "\n",
    "了解 [Vertex AI\n",
    "价格](https://cloud.google.com/vertex-ai/pricing) 和 [Cloud Storage\n",
    "价格](https://cloud.google.com/storage/pricing)，并使用 [定价计算器](https://cloud.google.com/products/calculator/)\n",
    "基于您的预计使用情况生成成本估算。"
   ]
  },
  {
   "cell_type": "markdown",
   "metadata": {
    "id": "install_mlops"
   },
   "source": [
    "## 安装\n",
    "\n",
    "安装Vertex AI SDK和用于CMEK加密的KMS包。"
   ]
  },
  {
   "cell_type": "code",
   "execution_count": null,
   "metadata": {
    "id": "sBfZtR4X1Dr_"
   },
   "outputs": [],
   "source": [
    "import os\n",
    "\n",
    "# The Vertex AI Workbench Notebook product has specific requirements\n",
    "IS_WORKBENCH_NOTEBOOK = os.getenv(\"DL_ANACONDA_HOME\") and not os.getenv(\"VIRTUAL_ENV\")\n",
    "IS_USER_MANAGED_WORKBENCH_NOTEBOOK = os.path.exists(\n",
    "    \"/opt/deeplearning/metadata/env_version\"\n",
    ")\n",
    "\n",
    "# Vertex AI Notebook requires dependencies to be installed with '--user'\n",
    "USER_FLAG = \"\"\n",
    "if IS_WORKBENCH_NOTEBOOK:\n",
    "    USER_FLAG = \"--user\"\n",
    "\n",
    "! pip3 install --upgrade google-cloud-aiplatform $USER_FLAG -q\n",
    "! pip3 install --upgrade google-cloud-kms $USER_FLAG -q"
   ]
  },
  {
   "cell_type": "markdown",
   "metadata": {
    "id": "restart"
   },
   "source": [
    "重新启动内核\n",
    "\n",
    "安装了额外的包之后，您需要重新启动笔记本内核，这样它才能找到这些包。"
   ]
  },
  {
   "cell_type": "code",
   "execution_count": null,
   "metadata": {
    "id": "restart"
   },
   "outputs": [],
   "source": [
    "import os\n",
    "\n",
    "if not os.getenv(\"IS_TESTING\"):\n",
    "    # Automatically restart kernel after installs\n",
    "    import IPython\n",
    "\n",
    "    app = IPython.Application.instance()\n",
    "    app.kernel.do_shutdown(True)"
   ]
  },
  {
   "cell_type": "markdown",
   "metadata": {
    "id": "013daf3de88e"
   },
   "source": [
    "开始之前##"
   ]
  },
  {
   "cell_type": "markdown",
   "metadata": {
    "id": "d1afc945645f"
   },
   "source": [
    "### 设置您的Google Cloud项目\n",
    "\n",
    "**无论您使用的是笔记本环境，以下步骤都是必需的。**\n",
    "\n",
    "1. [选择或创建一个Google Cloud项目](https://console.cloud.google.com/cloud-resource-manager)。当您首次创建帐户时，您将获得$300的免费信用额度用于您的计算/存储成本。\n",
    "\n",
    "1. [确保为您的项目启用了计费](https://cloud.google.com/billing/docs/how-to/modify-project)。\n",
    "\n",
    "1. [启用Vertex AI API](https://console.cloud.google.com/flows/enableapi?apiid=aiplatform.googleapis.com)。\n",
    "\n",
    "1. 如果您在本地运行此笔记本，您需要安装[Cloud SDK](https://cloud.google.com/sdk)。\n",
    "\n",
    "1. 在下面的单元格中输入您的项目ID。然后运行该单元格，确保Cloud SDK在本笔记本中的所有命令中使用正确的项目。\n",
    "\n",
    "**注意**：Jupyter会将以`!`前缀的行作为shell命令运行，并将以`$`前缀的Python变量插入这些命令中。"
   ]
  },
  {
   "cell_type": "markdown",
   "metadata": {
    "id": "project_id"
   },
   "source": [
    "设置您的项目ID\n",
    "\n",
    "**如果您不知道您的项目ID**，您可以使用`gcloud`来获取您的项目ID。"
   ]
  },
  {
   "cell_type": "code",
   "execution_count": null,
   "metadata": {
    "id": "set_project_id"
   },
   "outputs": [],
   "source": [
    "PROJECT_ID = \"[your-project-id]\"  # @param {type:\"string\"}"
   ]
  },
  {
   "cell_type": "code",
   "execution_count": null,
   "metadata": {
    "id": "autoset_project_id"
   },
   "outputs": [],
   "source": [
    "if PROJECT_ID == \"\" or PROJECT_ID is None or PROJECT_ID == \"[your-project-id]\":\n",
    "    # Get your GCP project id from gcloud\n",
    "    shell_output = ! gcloud config list --format 'value(core.project)' 2>/dev/null\n",
    "    PROJECT_ID = shell_output[0]\n",
    "    print(\"Project ID:\", PROJECT_ID)"
   ]
  },
  {
   "cell_type": "code",
   "execution_count": null,
   "metadata": {
    "id": "set_gcloud_project_id"
   },
   "outputs": [],
   "source": [
    "! gcloud config set project $PROJECT_ID"
   ]
  },
  {
   "cell_type": "markdown",
   "metadata": {
    "id": "region"
   },
   "source": [
    "#### 区域\n",
    "\n",
    "您还可以更改“REGION”变量，该变量用于本笔记本的其余操作。以下是Vertex AI支持的区域。我们建议您选择最靠近您的区域。\n",
    "\n",
    "- 美洲：`us-central1`\n",
    "- 欧洲：`europe-west4`\n",
    "- 亚太：`asia-east1`\n",
    "\n",
    "您可能不能使用多区域存储桶进行Vertex AI训练。并非所有区域都支持所有Vertex AI服务。\n",
    "\n",
    "了解更多关于[Vertex AI区域](https://cloud.google.com/vertex-ai/docs/general/locations)。"
   ]
  },
  {
   "cell_type": "code",
   "execution_count": null,
   "metadata": {
    "id": "region"
   },
   "outputs": [],
   "source": [
    "REGION = \"us-central1\"  # @param {type: \"string\"}"
   ]
  },
  {
   "cell_type": "markdown",
   "metadata": {
    "id": "timestamp"
   },
   "source": [
    "时间戳\n",
    "\n",
    "如果您正在参加实时教程会话，您可能正在使用共享测试账户或项目。为避免用户在创建的资源上发生名称冲突，您可以为每个实例会话创建一个时间戳，并将时间戳附加到您在此教程中创建的资源的名称上。"
   ]
  },
  {
   "cell_type": "code",
   "execution_count": null,
   "metadata": {
    "id": "timestamp"
   },
   "outputs": [],
   "source": [
    "from datetime import datetime\n",
    "\n",
    "TIMESTAMP = datetime.now().strftime(\"%Y%m%d%H%M%S\")"
   ]
  },
  {
   "cell_type": "markdown",
   "metadata": {
    "id": "d35af059208d"
   },
   "source": [
    "### 验证您的 Google 云账户\n",
    "\n",
    "**如果您正在使用 Vertex AI Workbench 笔记本**，您的环境已经通过验证。请跳过此步骤。"
   ]
  },
  {
   "cell_type": "markdown",
   "metadata": {
    "id": "a00567d0660a"
   },
   "source": [
    "如果您正在使用Colab，请运行下面的单元格，并按照提示进行oAuth身份验证。\n",
    "\n",
    "否则，请按照以下步骤操作：\n",
    "\n",
    "1. 在Cloud控制台中，转到[**创建服务帐号密钥**页面](https://console.cloud.google.com/apis/credentials/serviceaccountkey)。\n",
    "\n",
    "2. 点击**创建服务帐号**。\n",
    "\n",
    "3. 在**服务帐号名称**字段中输入一个名称，然后点击**创建**。\n",
    "\n",
    "4. 在**授予此服务帐号访问项目**部分，点击**角色**下拉列表。在过滤框中键入“Vertex AI”，并选择**Vertex AI管理员**。在过滤框中键入“存储对象管理员”，并选择**存储对象管理员**。\n",
    "\n",
    "5. 点击*创建*。一个包含您密钥的JSON文件将下载到您的本地环境。\n",
    "\n",
    "6. 在下面的单元格中将您的服务帐号密钥路径输入为`GOOGLE_APPLICATION_CREDENTIALS`变量，然后运行该单元格。"
   ]
  },
  {
   "cell_type": "code",
   "execution_count": null,
   "metadata": {
    "id": "40160162ea4c"
   },
   "outputs": [],
   "source": [
    "# If you are running this notebook in Colab, run this cell and follow the\n",
    "# instructions to authenticate your GCP account. This provides access to your\n",
    "# Cloud Storage bucket and lets you submit training jobs and prediction\n",
    "# requests.\n",
    "\n",
    "import os\n",
    "import sys\n",
    "\n",
    "# If on Vertex AI Workbench, then don't execute this code\n",
    "IS_COLAB = False\n",
    "if not os.path.exists(\"/opt/deeplearning/metadata/env_version\") and not os.getenv(\n",
    "    \"DL_ANACONDA_HOME\"\n",
    "):\n",
    "    if \"google.colab\" in sys.modules:\n",
    "        IS_COLAB = True\n",
    "        from google.colab import auth as google_auth\n",
    "\n",
    "        google_auth.authenticate_user()\n",
    "\n",
    "    # If you are running this notebook locally, replace the string below with the\n",
    "    # path to your service account key and run this cell to authenticate your GCP\n",
    "    # account.\n",
    "    elif not os.getenv(\"IS_TESTING\"):\n",
    "        %env GOOGLE_APPLICATION_CREDENTIALS ''"
   ]
  },
  {
   "cell_type": "markdown",
   "metadata": {
    "id": "bucket:mbsdk"
   },
   "source": [
    "### 创建一个云存储桶\n",
    "\n",
    "**无论您使用的是哪种笔记本环境，都需要按照以下步骤进行操作。**\n",
    "\n",
    "当您初始化Python版的Vertex SDK时，您需要指定一个云存储分段桶。这个分段桶是您的数据集和模型资源相关数据在不同会话中保留的地方。\n",
    "\n",
    "请在下方设置您的云存储桶的名称。桶的名称必须在所有Google Cloud项目中全局唯一，包括您组织之外的项目。"
   ]
  },
  {
   "cell_type": "code",
   "execution_count": null,
   "metadata": {
    "id": "bucket"
   },
   "outputs": [],
   "source": [
    "BUCKET_URI = \"gs://[your-bucket-name]\"  # @param {type:\"string\"}"
   ]
  },
  {
   "cell_type": "code",
   "execution_count": null,
   "metadata": {
    "id": "autoset_bucket"
   },
   "outputs": [],
   "source": [
    "if BUCKET_URI == \"\" or BUCKET_URI is None or BUCKET_URI == \"gs://[your-bucket-name]\":\n",
    "    BUCKET_URI = \"gs://\" + PROJECT_ID + \"aip-\" + TIMESTAMP"
   ]
  },
  {
   "cell_type": "markdown",
   "metadata": {
    "id": "create_bucket"
   },
   "source": [
    "只有当您的存储桶不存在时，才运行以下单元格以创建您的云存储存储桶。"
   ]
  },
  {
   "cell_type": "code",
   "execution_count": null,
   "metadata": {
    "id": "create_bucket"
   },
   "outputs": [],
   "source": [
    "! gsutil mb -l $REGION $BUCKET_URI"
   ]
  },
  {
   "cell_type": "markdown",
   "metadata": {
    "id": "validate_bucket"
   },
   "source": [
    "最后，通过检查云存储桶的内容来验证访问权限。"
   ]
  },
  {
   "cell_type": "code",
   "execution_count": null,
   "metadata": {
    "id": "validate_bucket"
   },
   "outputs": [],
   "source": [
    "! gsutil ls -al $BUCKET_URI"
   ]
  },
  {
   "cell_type": "markdown",
   "metadata": {
    "id": "setup_vars"
   },
   "source": [
    "## 设置变量\n",
    "\n",
    "接下来，设置一些在教程中使用的变量。\n",
    "## 导入库并定义常量"
   ]
  },
  {
   "cell_type": "code",
   "execution_count": null,
   "metadata": {
    "id": "import_aip:mbsdk"
   },
   "outputs": [],
   "source": [
    "import google.cloud.aiplatform as aiplatform\n",
    "from google.cloud import kms"
   ]
  },
  {
   "cell_type": "markdown",
   "metadata": {
    "id": "init_aip:mbsdk,all"
   },
   "source": [
    "### 初始化 Python 的 Vertex AI SDK\n",
    "\n",
    "为您的项目和相应的存储桶初始化 Python 的 Vertex AI SDK。"
   ]
  },
  {
   "cell_type": "code",
   "execution_count": null,
   "metadata": {
    "id": "init_aip:mbsdk,all"
   },
   "outputs": [],
   "source": [
    "aiplatform.init(project=PROJECT_ID, location=REGION, staging_bucket=BUCKET_URI)"
   ]
  },
  {
   "cell_type": "markdown",
   "metadata": {
    "id": "mRk9eoTm6Pyi"
   },
   "source": [
    "## 设置客户管理的加密密钥\n",
    "\n",
    "默认情况下，Google Cloud 在数据存储在 Cloud Storage 中时会自动使用由 Google 管理的加密密钥对数据进行加密。如果您对保护数据的密钥有特定的合规性或监管要求，您可以为您的训练作业使用由客户管理的加密密钥（CMEK）。\n",
    "\n",
    "### 启用 KMS API\n",
    "\n",
    "首先，您需要启用[Cloud Key Management Service (KMS)](https://console.cloud.google.com/flows/enableapi?apiid=cloudkms.googleapis.com)\n",
    "\n",
    "了解更多关于[客户管理的加密密钥（CMEK）](https://cloud.google.com/vertex-ai/docs/general/cmek)。"
   ]
  },
  {
   "cell_type": "markdown",
   "metadata": {
    "id": "RD_Pvrg584X3"
   },
   "source": [
    "### 创建一个钥匙链\n",
    "\n",
    "在启用了KMS API之后，您可以创建一个钥匙链和一把钥匙。 使用助手函数`create_key_ring()`来创建一个钥匙链，使用以下参数：\n",
    "\n",
    "- `project_id`：您的项目ID。\n",
    "- `location`：您的区域。\n",
    "- `key_ring_id`：您的钥匙链的唯一标识符。\n",
    "\n",
    "助手函数调用KMS客户端方法`create_key_ring()`来创建您的钥匙链。\n",
    "\n",
    "了解更多关于[KMS：创建一个钥匙链](https://cloud.google.com/kms/docs/samples/kms-create-key-ring)。"
   ]
  },
  {
   "cell_type": "code",
   "execution_count": null,
   "metadata": {
    "id": "dxRZzbvQnZC7"
   },
   "outputs": [],
   "source": [
    "KEY_RING_ID = \"your_cmek_key_ring_id\"\n",
    "\n",
    "\n",
    "def create_key_ring(project_id, location, key_ring_id):\n",
    "    \"\"\"\n",
    "    Creates a new key ring in Cloud KMS\n",
    "\n",
    "    Args:\n",
    "        project_id (string): Google Cloud project ID (e.g. 'my-project').\n",
    "        location (string): Cloud KMS location (e.g. 'us-east1').\n",
    "        id (string): ID of the key ring to create (e.g. 'my-key-ring').\n",
    "\n",
    "    Returns:\n",
    "        KeyRing: Cloud KMS key ring.\n",
    "\n",
    "    \"\"\"\n",
    "\n",
    "    # Create the client.\n",
    "    client = kms.KeyManagementServiceClient()\n",
    "\n",
    "    # Build the parent location name.\n",
    "    location_name = f\"projects/{project_id}/locations/{location}\"\n",
    "\n",
    "    # Build the key ring.\n",
    "    key_ring = {}\n",
    "\n",
    "    # Call the API.\n",
    "    created_key_ring = client.create_key_ring(\n",
    "        request={\n",
    "            \"parent\": location_name,\n",
    "            \"key_ring_id\": key_ring_id,\n",
    "            \"key_ring\": key_ring,\n",
    "        }\n",
    "    )\n",
    "    print(\"Created key ring: {}\".format(created_key_ring.name))\n",
    "    return created_key_ring\n",
    "\n",
    "\n",
    "key_ring = create_key_ring(\n",
    "    project_id=PROJECT_ID, location=REGION, key_ring_id=KEY_RING_ID\n",
    ")\n",
    "print(key_ring)"
   ]
  },
  {
   "cell_type": "markdown",
   "metadata": {
    "id": "gCL1-IfFtWXl"
   },
   "source": [
    "### 创建密钥\n",
    "\n",
    "接下来，您需要创建您的密钥。使用帮助函数 `create_key()` 并传入以下参数：\n",
    "\n",
    "- `project_id`：您的项目 ID。\n",
    "- `location`：您的区域。\n",
    "- `key_ring_id`：您的密钥环的唯一标识符。\n",
    "- `key_id`：您的密钥的唯一标识符。\n",
    "\n",
    "该帮助函数调用 KMS 客户端方法 `create_crypto_key()` 来创建您的密钥。\n",
    "\n",
    "了解更多信息请访问 [](https://cloud.google.com/kms/docs/samples/kms-create-key-symmetric-encrypt-decrypt)"
   ]
  },
  {
   "cell_type": "code",
   "execution_count": null,
   "metadata": {
    "id": "LXcagdmSnYYW"
   },
   "outputs": [],
   "source": [
    "KEY_ID = \"your_cmek_key_id\"\n",
    "\n",
    "\n",
    "def create_key(project_id, location, key_ring_id, key_id):\n",
    "    \"\"\"\n",
    "    Creates a new symmetric encryption/decryption key in Cloud KMS.\n",
    "\n",
    "    Args:\n",
    "        project_id (string): Google Cloud project ID (e.g. 'my-project').\n",
    "        location (string): Cloud KMS location (e.g. 'us-east1').\n",
    "        key_ring_id (string): ID of the Cloud KMS key ring (e.g. 'my-key-ring').\n",
    "        key_id (string): ID of the key to create (e.g. 'my-symmetric-key').\n",
    "\n",
    "    Returns:\n",
    "        CryptoKey: Cloud KMS key.\n",
    "\n",
    "    \"\"\"\n",
    "\n",
    "    # Create the client.\n",
    "    client = kms.KeyManagementServiceClient()\n",
    "\n",
    "    # Build the parent key ring name.\n",
    "    key_ring_name = client.key_ring_path(project_id, location, key_ring_id)\n",
    "\n",
    "    # Build the key.\n",
    "    purpose = kms.CryptoKey.CryptoKeyPurpose.ENCRYPT_DECRYPT\n",
    "    algorithm = (\n",
    "        kms.CryptoKeyVersion.CryptoKeyVersionAlgorithm.GOOGLE_SYMMETRIC_ENCRYPTION\n",
    "    )\n",
    "    key = {\n",
    "        \"purpose\": purpose,\n",
    "        \"version_template\": {\n",
    "            \"algorithm\": algorithm,\n",
    "        },\n",
    "    }\n",
    "\n",
    "    # Call the API.\n",
    "    created_key = client.create_crypto_key(\n",
    "        request={\"parent\": key_ring_name, \"crypto_key_id\": key_id, \"crypto_key\": key}\n",
    "    )\n",
    "    print(\"Created symmetric key: {}\".format(created_key.name))\n",
    "    return created_key\n",
    "\n",
    "\n",
    "key_id = create_key(\n",
    "    project_id=PROJECT_ID, location=REGION, key_ring_id=KEY_RING_ID, key_id=KEY_ID\n",
    ")\n",
    "\n",
    "print(key_id)"
   ]
  },
  {
   "cell_type": "markdown",
   "metadata": {
    "id": "3gKDBOqC8Gl5"
   },
   "source": [
    "### 设置服务账号权限\n",
    "\n",
    "接下来，您需要为您的 Vertex AI 服务账号设置权限，以便使用您的密钥对资源进行加密和解密。\n",
    "\n",
    "注意：此笔记本实例使用的计算引擎默认服务账号在进行 Google API 调用时用于身份验证，应被授予 Cloud KMS 管理员角色。\n",
    "\n",
    "了解更多关于[授予 Vertex AI 权限](https://cloud.google.com/vertex-ai/docs/general/cmek#grant_permissions)。"
   ]
  },
  {
   "cell_type": "code",
   "execution_count": null,
   "metadata": {
    "id": "6QrRg08Vqfru"
   },
   "outputs": [],
   "source": [
    "# Reference: https://cloud.google.com/vertex-ai/docs/general/cmek#granting_permissions\n",
    "# Get the service account\n",
    "SERVICE_ACCOUNT = ! gcloud projects get-iam-policy {PROJECT_ID} \\\n",
    "  --flatten=\"bindings[].members\" \\\n",
    "  --format=\"table(bindings.members)\" \\\n",
    "  --filter=\"bindings.role:roles/aiplatform.serviceAgent\" \\\n",
    "  | grep -oP \"service-.+?@gcp-sa-aiplatform.iam.gserviceaccount.com\"\n",
    "SERVICE_ACCOUNT = SERVICE_ACCOUNT[0]\n",
    "\n",
    "print(f\"Service account is: {SERVICE_ACCOUNT}\")\n",
    "\n",
    "# Give permissions\n",
    "! gcloud kms keys add-iam-policy-binding {KEY_ID} \\\n",
    "  --keyring={KEY_RING_ID} \\\n",
    "  --location={REGION} \\\n",
    "  --project={PROJECT_ID} \\\n",
    "  --member=serviceAccount:{SERVICE_ACCOUNT} \\\n",
    "  --role=roles/cloudkms.cryptoKeyEncrypterDecrypter"
   ]
  },
  {
   "cell_type": "markdown",
   "metadata": {
    "id": "1e8cd37e5f99"
   },
   "source": [
    "为创建的密钥创建完整的资源标识符。"
   ]
  },
  {
   "cell_type": "code",
   "execution_count": null,
   "metadata": {
    "id": "ebAHZg2vlhXL"
   },
   "outputs": [],
   "source": [
    "ENCRYPTION_SPEC_KEY_NAME = key_id.name"
   ]
  },
  {
   "cell_type": "markdown",
   "metadata": {
    "id": "Aa_8wrqSkamz"
   },
   "source": [
    "## 初始化Python的Vertex SDK\n",
    "\n",
    "为Vertex AI初始化*client*\n",
    "\n",
    "在此笔记本运行期间创建的所有资源都将使用上面创建的加密密钥进行加密。\n",
    "\n",
    "您可以在每个函数调用时覆盖加密密钥。"
   ]
  },
  {
   "cell_type": "markdown",
   "metadata": {
    "id": "init_aip:mbsdk,all"
   },
   "source": [
    "初始化Python项目的Vertex AI SDK\n",
    "\n",
    "为您的项目、存储桶和对应的加密密钥初始化Vertex AI SDK。\n",
    "\n",
    "本次会话中创建的所有资源都使用您创建的加密密钥进行加密。\n",
    "\n",
    "*注意:* 您可以在每次函数调用时覆盖加密密钥。"
   ]
  },
  {
   "cell_type": "code",
   "execution_count": null,
   "metadata": {
    "id": "ohdgOs69kGNU"
   },
   "outputs": [],
   "source": [
    "aiplatform.init(\n",
    "    project=PROJECT_ID,\n",
    "    staging_bucket=BUCKET_URI,\n",
    "    location=REGION,\n",
    "    encryption_spec_key_name=ENCRYPTION_SPEC_KEY_NAME,\n",
    ")"
   ]
  },
  {
   "cell_type": "markdown",
   "metadata": {
    "id": "import_file:u_dataset,csv"
   },
   "source": [
    "#### 云存储训练数据的位置。\n",
    "\n",
    "现在将变量`IMPORT_FILE`设置为云存储中CSV索引文件的位置。"
   ]
  },
  {
   "cell_type": "code",
   "execution_count": null,
   "metadata": {
    "id": "import_file:flowers,csv,icn"
   },
   "outputs": [],
   "source": [
    "IMPORT_FILE = (\n",
    "    \"gs://cloud-samples-data/vision/automl_classification/flowers/all_data_v2.csv\"\n",
    ")"
   ]
  },
  {
   "cell_type": "markdown",
   "metadata": {
    "id": "35QVNhACqcTJ"
   },
   "source": [
    "# 创建 `Vertex AI ImageDataset` 资源\n",
    "\n",
    "接下来，您将创建一个 `ImageDataset` 资源，并使用您的加密密钥对其进行加密。"
   ]
  },
  {
   "cell_type": "code",
   "execution_count": null,
   "metadata": {
    "id": "4OfCqaYRqcTJ"
   },
   "outputs": [],
   "source": [
    "dataset = aiplatform.ImageDataset.create(\n",
    "    display_name=\"flowers_\" + TIMESTAMP,\n",
    "    gcs_source=[IMPORT_FILE],\n",
    "    import_schema_uri=aiplatform.schema.dataset.ioformat.image.single_label_classification,\n",
    ")\n",
    "\n",
    "print(dataset.resource_name)"
   ]
  },
  {
   "cell_type": "markdown",
   "metadata": {
    "id": "6-bBqipfqcTS"
   },
   "source": [
    "发起一个训练作业以创建模型\n",
    "\n",
    "训练一个AutoML图像分类模型。"
   ]
  },
  {
   "cell_type": "code",
   "execution_count": null,
   "metadata": {
    "id": "aA41rT_mb-rV"
   },
   "outputs": [],
   "source": [
    "job = aiplatform.AutoMLImageTrainingJob(\n",
    "    display_name=\"flowers_\" + TIMESTAMP,\n",
    "    prediction_type=\"classification\",\n",
    "    multi_label=False,\n",
    "    model_type=\"CLOUD\",\n",
    "    base_model=None,\n",
    ")\n",
    "\n",
    "# This will take around half an hour to run\n",
    "model = job.run(\n",
    "    dataset=dataset,\n",
    "    model_display_name=\"flowers_\" + TIMESTAMP,\n",
    "    training_fraction_split=0.6,\n",
    "    validation_fraction_split=0.2,\n",
    "    test_fraction_split=0.2,\n",
    "    budget_milli_node_hours=8000,\n",
    "    disable_early_stopping=False,\n",
    ")"
   ]
  },
  {
   "cell_type": "markdown",
   "metadata": {
    "id": "5vhDsMJNqcTW"
   },
   "source": [
    "部署您的模型，然后等待模型部署完成后再继续进行预测。"
   ]
  },
  {
   "cell_type": "code",
   "execution_count": null,
   "metadata": {
    "id": "Y9GH72wWqcTX"
   },
   "outputs": [],
   "source": [
    "endpoint = model.deploy()"
   ]
  },
  {
   "cell_type": "markdown",
   "metadata": {
    "id": "nIw1ifPuqcTb"
   },
   "source": [
    "# 在终端上进行预测\n",
    "- 从导入到数据集中的数据中取一个样本\n",
    "- 将该样本编码为base64并传递到终端进行预测。"
   ]
  },
  {
   "cell_type": "code",
   "execution_count": null,
   "metadata": {
    "id": "H23ISHdHVIZM"
   },
   "outputs": [],
   "source": [
    "test_item = !gsutil cat $IMPORT_FILE | head -n1\n",
    "test_item, test_label = str(test_item[0]).split(\",\")\n",
    "\n",
    "print(test_item, test_label)"
   ]
  },
  {
   "cell_type": "code",
   "execution_count": null,
   "metadata": {
    "id": "TF_N0kqZU768"
   },
   "outputs": [],
   "source": [
    "import base64\n",
    "\n",
    "import tensorflow as tf\n",
    "\n",
    "with tf.io.gfile.GFile(test_item, \"rb\") as f:\n",
    "    content = f.read()\n",
    "\n",
    "# The format of each instance should conform to the deployed model's prediction input schema.\n",
    "instances_list = [{\"content\": base64.b64encode(content).decode(\"utf-8\")}]\n",
    "\n",
    "prediction = endpoint.predict(instances=instances_list)\n",
    "\n",
    "print(prediction)"
   ]
  },
  {
   "cell_type": "markdown",
   "metadata": {
    "id": "nWA3qocXfk82"
   },
   "source": [
    "从端点中取消部署模型"
   ]
  },
  {
   "cell_type": "code",
   "execution_count": null,
   "metadata": {
    "id": "V1brMaO_fk82"
   },
   "outputs": [],
   "source": [
    "endpoint.undeploy_all()"
   ]
  },
  {
   "cell_type": "markdown",
   "metadata": {
    "id": "ba77c4e02355"
   },
   "source": [
    "清理\n",
    "\n",
    "要清理此项目中使用的所有Google Cloud资源，您可以 [删除您在教程中使用的Google Cloud项目](https://cloud.google.com/resource-manager/docs/creating-managing-projects#shutting_down_projects)。\n",
    "\n",
    "否则，您可以删除在本教程中创建的各个资源：\n",
    "\n",
    "- 模型\n",
    "- 数据集\n",
    "- 云存储桶\n",
    "- 终端节点"
   ]
  },
  {
   "cell_type": "code",
   "execution_count": null,
   "metadata": {
    "id": "e00750837ca8"
   },
   "outputs": [],
   "source": [
    "# Delete endpoint resource\n",
    "endpoint.delete()\n",
    "\n",
    "# Delete model resource\n",
    "model.delete()\n",
    "\n",
    "# Delete dataset resource\n",
    "dataset.delete()\n",
    "\n",
    "# Set this to true only if you'd like to delete your bucket\n",
    "delete_bucket = False\n",
    "\n",
    "if delete_bucket or os.getenv(\"IS_TESTING\"):\n",
    "    ! gsutil rm -r $BUCKET_URI"
   ]
  },
  {
   "cell_type": "markdown",
   "metadata": {
    "id": "d88c8a053a90"
   },
   "source": [
    "通过提供密钥版本值和其他参数来销毁CMEK。"
   ]
  },
  {
   "cell_type": "code",
   "execution_count": null,
   "metadata": {
    "id": "5d8d2fc34346"
   },
   "outputs": [],
   "source": [
    "! gcloud kms keys versions destroy 1 \\\n",
    "  --key {KEY_ID} \\\n",
    "  --keyring={KEY_RING_ID} \\\n",
    "  --location={REGION} "
   ]
  },
  {
   "cell_type": "markdown",
   "metadata": {
    "id": "f7e42e642ad3"
   },
   "source": [
    "键列表"
   ]
  },
  {
   "cell_type": "code",
   "execution_count": null,
   "metadata": {
    "id": "aa95b7fff9b5"
   },
   "outputs": [],
   "source": [
    "! gcloud kms keys list --location {REGION} --keyring {KEY_RING_ID}"
   ]
  }
 ],
 "metadata": {
  "colab": {
   "collapsed_sections": [],
   "name": "get_started_with_cmek_training.ipynb",
   "toc_visible": true
  },
  "kernelspec": {
   "display_name": "Python 3",
   "name": "python3"
  }
 },
 "nbformat": 4,
 "nbformat_minor": 0
}
