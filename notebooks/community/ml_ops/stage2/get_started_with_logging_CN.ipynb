{
 "cells": [
  {
   "cell_type": "code",
   "execution_count": null,
   "metadata": {
    "id": "copyright"
   },
   "outputs": [],
   "source": [
    "# Copyright 2022 Google LLC\n",
    "#\n",
    "# Licensed under the Apache License, Version 2.0 (the \"License\");\n",
    "# you may not use this file except in compliance with the License.\n",
    "# You may obtain a copy of the License at\n",
    "#\n",
    "#     https://www.apache.org/licenses/LICENSE-2.0\n",
    "#\n",
    "# Unless required by applicable law or agreed to in writing, software\n",
    "# distributed under the License is distributed on an \"AS IS\" BASIS,\n",
    "# WITHOUT WARRANTIES OR CONDITIONS OF ANY KIND, either express or implied.\n",
    "# See the License for the specific language governing permissions and\n",
    "# limitations under the License."
   ]
  },
  {
   "cell_type": "markdown",
   "metadata": {
    "id": "title:generic,gcp"
   },
   "source": [
    "# GCP上的E2E ML：MLOps阶段2：实验：开始使用日志记录\n",
    "\n",
    "<table align=\"left\">\n",
    "  <td>\n",
    "    <a href=\"https://github.com/GoogleCloudPlatform/vertex-ai-samples/blob/main/notebooks/community/ml_ops/stage2/get_started_with_logging.ipynb\">\n",
    "      <img src=\"https://cloud.google.com/ml-engine/images/github-logo-32px.png\" alt=\"GitHub logo\">\n",
    "      在GitHub上查看\n",
    "    </a>\n",
    "  </td>\n",
    "    <td>\n",
    "        <a href=\"https://colab.research.google.com/github/GoogleCloudPlatform/vertex-ai-samples/blob/main/notebooks/community/ml_ops/stage2/get_started_with_logging.ipynb\">\n",
    "        <img src=\"https://cloud.google.com/ml-engine/images/colab-logo-32px.png\" alt=\"Colab logo\"> 在Colab上运行\n",
    "        </a>\n",
    "  </td>\n",
    "  <td>\n",
    "    <a href=\"https://console.cloud.google.com/vertex-ai/workbench/deploy-notebook?download_url=https://raw.githubusercontent.com/GoogleCloudPlatform/vertex-ai-samples/main/notebooks/community/ml_ops/stage2/get_started_with_logging.ipynb\">\n",
    "      <img src=\"https://lh3.googleusercontent.com/UiNooY4LUgW_oTvpsNhPpQzsstV5W8F7rYgxgGBD85cWJoLmrOzhVs_ksK_vgx40SHs7jCqkTkCk=e14-rj-sc0xffffff-h130-w32\" alt=\"Vertex AI logo\">\n",
    "      在Vertex AI Workbench中打开\n",
    "    </a>\n",
    "  </td>\n",
    "</table>\n",
    "<br/><br/><br/>"
   ]
  },
  {
   "cell_type": "markdown",
   "metadata": {
    "id": "overview:mlops"
   },
   "source": [
    "## 概述\n",
    "\n",
    "本教程演示了如何在 Google Cloud 上使用 Vertex AI 进行端到端的 MLOps 生产环境。本教程涵盖了第二阶段：实验：开始使用日志记录。"
   ]
  },
  {
   "cell_type": "markdown",
   "metadata": {
    "id": "objective:mlops,stage2,get_started_vertex_experiments"
   },
   "source": [
    "### 目标\n",
    "\n",
    "在本教程中，您将学习如何在与“Vertex AI”训练时使用Python和云日志记录。\n",
    "\n",
    "本教程使用以下谷歌云机器学习服务：\n",
    "\n",
    "- “云日志”\n",
    "\n",
    "执行的步骤包括：\n",
    "\n",
    "- 使用Python日志记录本地训练配置/结果。\n",
    "- 使用Google云日志记录云存储中的训练配置/结果。"
   ]
  },
  {
   "cell_type": "markdown",
   "metadata": {
    "id": "recommendation:mlops,stage2,logging"
   },
   "source": [
    "### 建议\n",
    "\n",
    "在谷歌云上进行 E2E MLOps 时，在实验或正式训练模型时，以下是一些最佳实践，用于记录数据。\n",
    "\n",
    "#### Python 记录\n",
    "\n",
    "在本地进行临时培训时，请使用 Python 的记录包。\n",
    "\n",
    "#### 云日志\n",
    "\n",
    "在云上进行培训时，请使用 `Google Cloud 日志`。\n",
    "\n",
    "#### 实验\n",
    "\n",
    "在执行实验以比较不同实验配置的结果时，请结合使用 Vertex AI 实验和记录。"
   ]
  },
  {
   "cell_type": "markdown",
   "metadata": {
    "id": "5341f31587c8"
   },
   "source": [
    "数据集\n",
    "\n",
    "本教程不使用数据集。对示例数据集的引用仅用于演示目的。"
   ]
  },
  {
   "cell_type": "markdown",
   "metadata": {
    "id": "41512a89f379"
   },
   "source": [
    "### 成本\n",
    "本教程使用 Google Cloud 的收费组件：\n",
    "\n",
    "- Vertex AI\n",
    "\n",
    "了解[Vertex AI 定价](https://cloud.google.com/vertex-ai/pricing)，并使用[Pricing Calculator](https://cloud.google.com/products/calculator/) 根据您的预期使用量生成成本估算。"
   ]
  },
  {
   "cell_type": "markdown",
   "metadata": {
    "id": "install_mlops"
   },
   "source": [
    "## 安装\n",
    "\n",
    "安装以下软件包以执行此笔记本。"
   ]
  },
  {
   "cell_type": "code",
   "execution_count": null,
   "metadata": {
    "id": "install_mlops"
   },
   "outputs": [],
   "source": [
    "import os\n",
    "\n",
    "# The Vertex AI Workbench Notebook product has specific requirements\n",
    "IS_WORKBENCH_NOTEBOOK = os.getenv(\"DL_ANACONDA_HOME\") and not os.getenv(\"VIRTUAL_ENV\")\n",
    "IS_USER_MANAGED_WORKBENCH_NOTEBOOK = os.path.exists(\n",
    "    \"/opt/deeplearning/metadata/env_version\"\n",
    ")\n",
    "\n",
    "# Vertex AI Notebook requires dependencies to be installed with '--user'\n",
    "USER_FLAG = \"\"\n",
    "if IS_WORKBENCH_NOTEBOOK:\n",
    "    USER_FLAG = \"--user\"\n",
    "\n",
    "! pip3 install --upgrade google-cloud-logging $USER_FLAG -q"
   ]
  },
  {
   "cell_type": "markdown",
   "metadata": {
    "id": "restart"
   },
   "source": [
    "### 重新启动内核\n",
    "\n",
    "安装了额外的软件包后，您需要重新启动笔记本内核，以便它可以找到这些软件包。"
   ]
  },
  {
   "cell_type": "code",
   "execution_count": null,
   "metadata": {
    "id": "restart"
   },
   "outputs": [],
   "source": [
    "import os\n",
    "\n",
    "if not os.getenv(\"IS_TESTING\"):\n",
    "    # Automatically restart kernel after installs\n",
    "    import IPython\n",
    "\n",
    "    app = IPython.Application.instance()\n",
    "    app.kernel.do_shutdown(True)"
   ]
  },
  {
   "cell_type": "markdown",
   "metadata": {
    "id": "project_id"
   },
   "source": [
    "## 在开始之前\n",
    "\n",
    "### 设置您的谷歌云项目\n",
    "\n",
    "**无论您使用什么笔记本环境，以下步骤都是必需的。**\n",
    "\n",
    "1. [选择或创建一个谷歌云项目](https://console.cloud.google.com/cloud-resource-manager)。当您第一次创建一个账户时，您将获得300美元的免费信用，可用于计算/存储的费用。\n",
    "\n",
    "1. [确保为您的项目启用了计费](https://cloud.google.com/billing/docs/how-to/modify-project)。\n",
    "\n",
    "1. [启用 Vertex AI、Compute Engine、Cloud Storage 和 Cloud Logging API](https://console.cloud.google.com/flows/enableapi?apiid=aiplatform.googleapis.com,compute_component,storage_component,logging)。\n",
    "\n",
    "1. 如果您在本地运行这个笔记本，您需要安装[Cloud SDK](https://cloud.google.com/sdk)。\n",
    "\n",
    "1. 在下面的单元格中输入您的项目 ID。然后运行该单元格，以确保\n",
    "Cloud SDK 在本笔记本中的所有命令中使用正确的项目。\n",
    "\n",
    "**注意**：Jupyter 运行以 `!` 为前缀的行作为 shell 命令，并将以 `$` 为前缀的 Python 变量插入到这些命令中。"
   ]
  },
  {
   "cell_type": "markdown",
   "metadata": {
    "id": "5aee4379e8e5"
   },
   "source": [
    "#### 设置您的项目 ID\n",
    "\n",
    "**如果您不知道您的项目 ID**，您可以使用`gcloud`来获取您的项目 ID。"
   ]
  },
  {
   "cell_type": "code",
   "execution_count": null,
   "metadata": {
    "id": "set_project_id"
   },
   "outputs": [],
   "source": [
    "PROJECT_ID = \"[your-project-id]\"  # @param {type:\"string\"}"
   ]
  },
  {
   "cell_type": "code",
   "execution_count": null,
   "metadata": {
    "id": "autoset_project_id"
   },
   "outputs": [],
   "source": [
    "if PROJECT_ID == \"\" or PROJECT_ID is None or PROJECT_ID == \"[your-project-id]\":\n",
    "    # Get your GCP project id from gcloud\n",
    "    shell_output = ! gcloud config list --format 'value(core.project)' 2>/dev/null\n",
    "    PROJECT_ID = shell_output[0]\n",
    "    print(\"Project ID:\", PROJECT_ID)"
   ]
  },
  {
   "cell_type": "code",
   "execution_count": null,
   "metadata": {
    "id": "set_gcloud_project_id"
   },
   "outputs": [],
   "source": [
    "! gcloud config set project $PROJECT_ID"
   ]
  },
  {
   "cell_type": "markdown",
   "metadata": {
    "id": "region"
   },
   "source": [
    "#### 区域\n",
    "\n",
    "您还可以更改“REGION”变量，该变量在本笔记本的其余部分中使用。下面是Vertex AI支持的区域。我们建议您选择离您最近的区域。\n",
    "\n",
    "- 美洲：`us-central1`\n",
    "- 欧洲：`europe-west4`\n",
    "- 亚太地区：`asia-east1`\n",
    "\n",
    "您不能在Vertex AI中使用多区域存储桶进行训练。并非所有区域都提供所有Vertex AI服务的支持。\n",
    "\n",
    "了解更多关于[Vertex AI 区域](https://cloud.google.com/vertex-ai/docs/general/locations)。"
   ]
  },
  {
   "cell_type": "code",
   "execution_count": null,
   "metadata": {
    "id": "region"
   },
   "outputs": [],
   "source": [
    "REGION = \"[your-region]\"  # @param {type: \"string\"}\n",
    "\n",
    "if REGION == \"[your-region]\":\n",
    "    REGION = \"us-central1\""
   ]
  },
  {
   "cell_type": "markdown",
   "metadata": {
    "id": "timestamp"
   },
   "source": [
    "时间戳\n",
    "\n",
    "如果您在直播教程会话中，您可能正在使用共享测试帐户或项目。为了避免用户在创建的资源之间发生名称冲突，您需要为每个实例会话创建一个时间戳，并将时间戳附加到您在此教程中创建的资源名称上。"
   ]
  },
  {
   "cell_type": "code",
   "execution_count": null,
   "metadata": {
    "id": "timestamp"
   },
   "outputs": [],
   "source": [
    "from datetime import datetime\n",
    "\n",
    "TIMESTAMP = datetime.now().strftime(\"%Y%m%d%H%M%S\")"
   ]
  },
  {
   "cell_type": "markdown",
   "metadata": {
    "id": "f3bd8c0d0469"
   },
   "source": [
    "### 验证您的Google Cloud账户\n",
    "\n",
    "**如果您正在使用Vertex AI工作台笔记本**，则您的环境已经得到了验证。请跳过此步骤。\n",
    "\n",
    "**如果您正在使用Colab**，运行下面的单元格，并且按照提示进行操作，通过oAuth验证您的账户。\n",
    "\n",
    "**否则**，请按照以下步骤操作：\n",
    "\n",
    "在Cloud控制台中，转到[创建服务帐号密钥](https://console.cloud.google.com/apis/credentials/serviceaccountkey)页面。\n",
    "\n",
    "1. **点击创建服务帐号**。\n",
    "\n",
    "2. 在**服务帐号名称**字段中输入名称，并点击**创建**。\n",
    "\n",
    "3. 在**将此服务帐号授予项目访问权限**部分，点击角色下拉列表。在筛选框中输入“Vertex AI”，并选择**Vertex AI管理员**。在筛选框中输入“存储对象管理员”，并选择**存储对象管理员**。\n",
    "\n",
    "4. 点击创建。包含您密钥的JSON文件会下载到本地环境。\n",
    "\n",
    "5. 在下面的单元格中输入您服务帐号密钥的路径作为GOOGLE_APPLICATION_CREDENTIALS变量，并运行该单元格。"
   ]
  },
  {
   "cell_type": "code",
   "execution_count": null,
   "metadata": {
    "id": "e0953a00668e"
   },
   "outputs": [],
   "source": [
    "# If you are running this notebook in Colab, run this cell and follow the\n",
    "# instructions to authenticate your GCP account. This provides access to your\n",
    "# Cloud Storage bucket and lets you submit training jobs and prediction\n",
    "# requests.\n",
    "\n",
    "import os\n",
    "import sys\n",
    "\n",
    "# If on Vertex AI Workbench, then don't execute this code\n",
    "IS_COLAB = \"google.colab\" in sys.modules\n",
    "if not os.path.exists(\"/opt/deeplearning/metadata/env_version\") and not os.getenv(\n",
    "    \"DL_ANACONDA_HOME\"\n",
    "):\n",
    "    if \"google.colab\" in sys.modules:\n",
    "        from google.colab import auth as google_auth\n",
    "\n",
    "        google_auth.authenticate_user()\n",
    "\n",
    "    # If you are running this notebook locally, replace the string below with the\n",
    "    # path to your service account key and run this cell to authenticate your GCP\n",
    "    # account.\n",
    "    elif not os.getenv(\"IS_TESTING\"):\n",
    "        %env GOOGLE_APPLICATION_CREDENTIALS ''"
   ]
  },
  {
   "cell_type": "markdown",
   "metadata": {
    "id": "setup_vars"
   },
   "source": [
    "### 设置变量\n",
    "\n",
    "接下来，设置一些在教程中使用的变量。\n",
    "### 导入库"
   ]
  },
  {
   "cell_type": "code",
   "execution_count": null,
   "metadata": {
    "id": "import_aip:mbsdk"
   },
   "outputs": [],
   "source": [
    "import logging\n",
    "\n",
    "import google.cloud.aiplatform as aiplatform"
   ]
  },
  {
   "cell_type": "markdown",
   "metadata": {
    "id": "init_aip:mbsdk,region"
   },
   "source": [
    "初始化Python的Vertex AI SDK\n",
    "为您的项目和相应的存储桶初始化Python的Vertex AI SDK。"
   ]
  },
  {
   "cell_type": "code",
   "execution_count": null,
   "metadata": {
    "id": "init_aip:mbsdk,region"
   },
   "outputs": [],
   "source": [
    "aiplatform.init(project=PROJECT_ID, location=REGION)"
   ]
  },
  {
   "cell_type": "markdown",
   "metadata": {
    "id": "python_logging"
   },
   "source": [
    "## Python Logging\n",
    "\n",
    "Python日志包被广泛用于Python脚本中的记录。常用功能包括：\n",
    "\n",
    "- 设置日志级别。\n",
    "- 将日志输出发送到控制台。\n",
    "- 将日志输出发送到文件。\n",
    "\n",
    "### Python日志中的日志级别\n",
    "\n",
    "日志级别按顺序（从最低到最高）排列，每个级别都包括前一个级别：\n",
    "\n",
    "1. 信息\n",
    "2. 警告\n",
    "3. 错误\n",
    "4. 调试\n",
    "\n",
    "默认情况下，日志级别设置为错误级别。\n",
    "\n",
    "### 将日志输出发送到控制台\n",
    "\n",
    "默认情况下，Python日志包将输出到控制台。请注意，在示例中，由于默认日志级别设置为错误，因此调试日志消息不会被输出。"
   ]
  },
  {
   "cell_type": "code",
   "execution_count": null,
   "metadata": {
    "id": "python_logging"
   },
   "outputs": [],
   "source": [
    "def logging_examples():\n",
    "    logging.info(\"Model training started...\")\n",
    "    logging.warning(\"Using older version of package ...\")\n",
    "    logging.error(\"Training was terminated ...\")\n",
    "    logging.debug(\"Hyperparameters were ...\")\n",
    "\n",
    "\n",
    "logging_examples()"
   ]
  },
  {
   "cell_type": "markdown",
   "metadata": {
    "id": "python_logging_level"
   },
   "source": [
    "### 设置日志级别\n",
    "\n",
    "要设置日志级别，您可以使用`getLogger()`来获取日志处理程序。您可以有多个日志处理程序。当不带任何参数调用`getLogger()`时，它会获取名为ROOT的默认处理程序。使用处理程序，您可以使用`setLevel()`方法设置日志级别。"
   ]
  },
  {
   "cell_type": "code",
   "execution_count": null,
   "metadata": {
    "id": "python_logging_level"
   },
   "outputs": [],
   "source": [
    "logging.getLogger().setLevel(logging.DEBUG)\n",
    "\n",
    "logging_examples()"
   ]
  },
  {
   "cell_type": "markdown",
   "metadata": {
    "id": "python_logging_remove"
   },
   "source": [
    "清楚处理程序\n",
    "\n",
    "有时，您可能希望重新配置日志记录。在这种情况下的一个常见做法是首先删除所有现有的日志处理程序，以进行重新开始。"
   ]
  },
  {
   "cell_type": "code",
   "execution_count": null,
   "metadata": {
    "id": "python_logging_remove"
   },
   "outputs": [],
   "source": [
    "for handler in logging.root.handlers[:]:\n",
    "    logging.root.removeHandler(handler)"
   ]
  },
  {
   "cell_type": "markdown",
   "metadata": {
    "id": "python_logging_file"
   },
   "source": [
    "### 输出到本地文件\n",
    "\n",
    "您可以使用`BasicConfig()`方法将日志输出保留到一个与Python脚本运行位置相对应的本地文件中，该方法接受以下参数：\n",
    "\n",
    "- `filename`：要将日志输出写入的本地文件的文件路径。\n",
    "- `level`：设置写入日志文件的日志级别。\n",
    "\n",
    "*注意:* 您不能将Cloud Storage存储桶用作输出文件。"
   ]
  },
  {
   "cell_type": "code",
   "execution_count": null,
   "metadata": {
    "id": "python_logging_file"
   },
   "outputs": [],
   "source": [
    "logging.basicConfig(filename=\"mylog.log\", level=logging.DEBUG)\n",
    "\n",
    "logging_examples()\n",
    "\n",
    "! cat mylog.log"
   ]
  },
  {
   "cell_type": "markdown",
   "metadata": {
    "id": "cloud_logging"
   },
   "source": [
    "使用Google Cloud Logging进行日志记录\n",
    "\n",
    "您可以将日志输出保留并检索到`Google Cloud Logging`服务中。常用功能包括：\n",
    "\n",
    "- 设置日志级别。\n",
    "- 将日志输出发送到存储器。\n",
    "- 从存储器中检索日志输出。\n",
    "\n",
    "### 云日志中的日志级别\n",
    "\n",
    "云日志中的日志级别顺序（从低到高）包括以下每个级别：\n",
    "\n",
    "1. 信息\n",
    "2. 警告\n",
    "3. 错误\n",
    "4. 调试\n",
    "\n",
    "默认情况下，日志级别设置为警告级别。\n",
    "\n",
    "### 可配置和存储日志数据\n",
    "\n",
    "要使用`Google Cloud Logging`服务，请执行以下步骤：\n",
    "\n",
    "1. 创建到该服务的客户端。\n",
    "2. 获取该服务的处理程序。\n",
    "3. 创建一个记录器实例并设置日志级别。\n",
    "4. 将记录器实例附加到该服务。\n",
    "\n",
    "了解更多关于[日志客户端库](https://cloud.google.com/logging/docs/reference/libraries)。"
   ]
  },
  {
   "cell_type": "code",
   "execution_count": null,
   "metadata": {
    "id": "cloud_logging"
   },
   "outputs": [],
   "source": [
    "import google.cloud.logging\n",
    "from google.cloud.logging.handlers import CloudLoggingHandler\n",
    "\n",
    "# Connect to the Cloud Logging service\n",
    "cl_client = google.cloud.logging.Client(project=PROJECT_ID)\n",
    "handler = CloudLoggingHandler(cl_client, name=\"mylog\")\n",
    "\n",
    "# Create a logger instance and logging level\n",
    "cloud_logger = logging.getLogger(\"cloudLogger\")\n",
    "cloud_logger.setLevel(logging.INFO)\n",
    "\n",
    "# Attach the logger instance to the service.\n",
    "cloud_logger.addHandler(handler)\n",
    "\n",
    "# Log something\n",
    "cloud_logger.error(\"bad news\")"
   ]
  },
  {
   "cell_type": "markdown",
   "metadata": {
    "id": "cloud_logging_write"
   },
   "source": [
    "日志输出\n",
    "\n",
    "在特定级别的日志输出与 Python 日志记录方法和方法名称相同。唯一的区别是您在云日志记录器中使用您的实例代替日志。"
   ]
  },
  {
   "cell_type": "code",
   "execution_count": null,
   "metadata": {
    "id": "cloud_logging_write"
   },
   "outputs": [],
   "source": [
    "cloud_logger.info(\"Model training started...\")\n",
    "cloud_logger.warning(\"Using older version of package ...\")\n",
    "cloud_logger.error(\"Training was terminated ...\")\n",
    "cloud_logger.debug(\"Hyperparameters were ...\")"
   ]
  },
  {
   "cell_type": "markdown",
   "metadata": {
    "id": "cloud_logging_list"
   },
   "source": [
    "获取日志条目\n",
    "\n",
    "要获取已记录的输出，您需要：\n",
    "\n",
    "1. 检索服务的日志句柄。\n",
    "2. 使用句柄，调用方法 `list_entries()`。\n",
    "3. 遍历条目。"
   ]
  },
  {
   "cell_type": "code",
   "execution_count": null,
   "metadata": {
    "id": "cloud_logging_list"
   },
   "outputs": [],
   "source": [
    "logger = cl_client.logger(\"mylog\")\n",
    "\n",
    "for entry in logger.list_entries():\n",
    "    timestamp = entry.timestamp.isoformat()\n",
    "    print(\"* {}: {}: {}\".format(timestamp, entry.severity, entry.payload))"
   ]
  },
  {
   "cell_type": "markdown",
   "metadata": {
    "id": "cleanup:mbsdk"
   },
   "source": [
    "清理工作\n",
    "\n",
    "要清理此项目中使用的所有Google Cloud资源，可以删除您在教程中使用的[Google Cloud项目](https://cloud.google.com/resource-manager/docs/creating-managing-projects#shutting_down_projects)。\n",
    "\n",
    "否则，您可以删除在本教程中创建的各个资源。"
   ]
  }
 ],
 "metadata": {
  "colab": {
   "name": "get_started_with_logging.ipynb",
   "toc_visible": true
  },
  "kernelspec": {
   "display_name": "Python 3",
   "name": "python3"
  }
 },
 "nbformat": 4,
 "nbformat_minor": 0
}
