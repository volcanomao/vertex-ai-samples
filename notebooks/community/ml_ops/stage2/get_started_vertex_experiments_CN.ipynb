{
 "cells": [
  {
   "cell_type": "code",
   "execution_count": null,
   "metadata": {
    "id": "copyright"
   },
   "outputs": [],
   "source": [
    "# Copyright 2022 Google LLC\n",
    "#\n",
    "# Licensed under the Apache License, Version 2.0 (the \"License\");\n",
    "# you may not use this file except in compliance with the License.\n",
    "# You may obtain a copy of the License at\n",
    "#\n",
    "#     https://www.apache.org/licenses/LICENSE-2.0\n",
    "#\n",
    "# Unless required by applicable law or agreed to in writing, software\n",
    "# distributed under the License is distributed on an \"AS IS\" BASIS,\n",
    "# WITHOUT WARRANTIES OR CONDITIONS OF ANY KIND, either express or implied.\n",
    "# See the License for the specific language governing permissions and\n",
    "# limitations under the License."
   ]
  },
  {
   "cell_type": "markdown",
   "metadata": {
    "id": "ee9d87d8ec00"
   },
   "source": [
    "这本笔记本是在[Ivan Nardini](https://github.com/inardini)的帮助下编写的。"
   ]
  },
  {
   "cell_type": "markdown",
   "metadata": {
    "id": "title:generic,gcp"
   },
   "source": [
    "在GCP上进行端到端机器学习：MLOps阶段2：实验：开始使用Vertex AI实验\n",
    "\n",
    "在GitHub上查看：\n",
    "\n",
    "在Colab上运行：\n",
    "\n",
    "在Vertex AI Workbench中打开："
   ]
  },
  {
   "cell_type": "markdown",
   "metadata": {
    "id": "overview:mlops"
   },
   "source": [
    "## 概述\n",
    "\n",
    "本教程演示了如何在 Google Cloud 上将 Vertex AI 用于端到端的 MLOps 生产环境。本教程涵盖阶段 2：实验：开始使用 Vertex AI 实验。"
   ]
  },
  {
   "cell_type": "markdown",
   "metadata": {
    "id": "objective:mlops,stage2,get_started_vertex_experiments"
   },
   "source": [
    "### 目标\n",
    "\n",
    "在本教程中，您将学习如何在使用`Vertex AI`进行训练时使用`Vertex AI Experiments`。\n",
    "\n",
    "本教程使用以下 Google Cloud ML 服务：\n",
    "\n",
    "- `Vertex AI Experiments`\n",
    "- `Vertex ML Metadata`\n",
    "- `Vertex AI Training`\n",
    "\n",
    "执行的步骤包括：\n",
    "\n",
    "- 本地（笔记本）训练\n",
    "    - 创建一个实验\n",
    "    - 在实验中创建第一个运行\n",
    "    - 记录参数和度量\n",
    "    - 创建艺术品谱系\n",
    "    - 可视化实验结果\n",
    "    - 执行第二次运行\n",
    "    - 在实验中比较两次运行\n",
    "- 云端（`Vertex AI`）训练\n",
    "    - 在训练脚本中：\n",
    "        - 创建一个实验\n",
    "        - 记录参数和度量\n",
    "        - 创建艺术品谱系\n",
    "    - 创建一个`Vertex AI Training`自定义作业\n",
    "    - 执行自定义作业\n",
    "    - 可视化实验结果"
   ]
  },
  {
   "cell_type": "markdown",
   "metadata": {
    "id": "recommendation:mlops,stage2,logging"
   },
   "source": [
    "### 推荐\n",
    "\n",
    "在 Google Cloud 上进行端到端 MLOps 时，以下是一些在实验或正式训练模型时记录数据的最佳实践。\n",
    "\n",
    "#### Python 日志\n",
    "\n",
    "在本地进行临时培训时，请使用Python的日志包。\n",
    "\n",
    "#### 云日志\n",
    "\n",
    "在云端进行训练时，请使用`Google Cloud Logging`。\n",
    "\n",
    "#### 实验\n",
    "\n",
    "在执行实验以比较不同实验配置的结果时，请结合使用 Vertex AI 实验和日志记录。"
   ]
  },
  {
   "cell_type": "markdown",
   "metadata": {
    "id": "313c25f2f514"
   },
   "source": [
    "### 数据集\n",
    "\n",
    "本教程不使用数据集。有关示例数据集的引用仅用于演示目的。"
   ]
  },
  {
   "cell_type": "markdown",
   "metadata": {
    "id": "bd73a4bd07ef"
   },
   "source": [
    "成本\n",
    "本教程使用Google Cloud的计费组件：\n",
    "\n",
    "- Vertex AI\n",
    "\n",
    "了解[Vertex AI定价](https://cloud.google.com/vertex-ai/pricing)，并使用[Pricing Calculator](https://cloud.google.com/products/calculator/)根据您的预期使用量生成成本估算。"
   ]
  },
  {
   "cell_type": "markdown",
   "metadata": {
    "id": "install_mlops"
   },
   "source": [
    "## 安装\n",
    "\n",
    "安装以下包以执行此笔记本。"
   ]
  },
  {
   "cell_type": "code",
   "execution_count": null,
   "metadata": {
    "id": "install_mlops"
   },
   "outputs": [],
   "source": [
    "import os\n",
    "\n",
    "# The Vertex AI Workbench Notebook product has specific requirements\n",
    "IS_WORKBENCH_NOTEBOOK = os.getenv(\"DL_ANACONDA_HOME\") and not os.getenv(\"VIRTUAL_ENV\")\n",
    "IS_USER_MANAGED_WORKBENCH_NOTEBOOK = os.path.exists(\n",
    "    \"/opt/deeplearning/metadata/env_version\"\n",
    ")\n",
    "\n",
    "# Vertex AI Notebook requires dependencies to be installed with '--user'\n",
    "USER_FLAG = \"\"\n",
    "if IS_WORKBENCH_NOTEBOOK:\n",
    "    USER_FLAG = \"--user\"\n",
    "\n",
    "! pip3 install --upgrade google-cloud-aiplatform {USER_FLAG} -q\n",
    "! pip3 install {USER_FLAG} --upgrade gsutil -q"
   ]
  },
  {
   "cell_type": "markdown",
   "metadata": {
    "id": "restart"
   },
   "source": [
    "重新启动内核\n",
    "\n",
    "安装了额外的包之后，您需要重新启动笔记本内核，让它可以找到这些包。"
   ]
  },
  {
   "cell_type": "code",
   "execution_count": null,
   "metadata": {
    "id": "restart"
   },
   "outputs": [],
   "source": [
    "import os\n",
    "\n",
    "if not os.getenv(\"IS_TESTING\"):\n",
    "    # Automatically restart kernel after installs\n",
    "    import IPython\n",
    "\n",
    "    app = IPython.Application.instance()\n",
    "    app.kernel.do_shutdown(True)"
   ]
  },
  {
   "cell_type": "markdown",
   "metadata": {
    "id": "project_id"
   },
   "source": [
    "##开始之前\n",
    "\n",
    "###设置您的Google Cloud项目\n",
    "\n",
    "**无论您的笔记本环境如何，以下步骤都是必需的。**\n",
    "\n",
    "1. [选择或创建一个Google Cloud项目](https://console.cloud.google.com/cloud-resource-manager)。当您首次创建账户时，您会获得$300的免费信用额用于计算/存储成本。\n",
    "\n",
    "1. [确保您的项目已启用计费](https://cloud.google.com/billing/docs/how-to/modify-project)。\n",
    "\n",
    "1. [启用Vertex AI、Compute Engine、Cloud Storage和Cloud Logging APIs](https://console.cloud.google.com/flows/enableapi?apiid=aiplatform.googleapis.com,compute_component,storage_component,logging)。\n",
    "\n",
    "1. 如果您在本地运行此笔记本，您需要安装[Cloud SDK](https://cloud.google.com/sdk)。\n",
    "\n",
    "1. 在下面的单元格中输入您的项目ID。然后运行该单元格，确保Cloud SDK对本笔记本中的所有命令使用正确的项目。\n",
    "\n",
    "**注意**：Jupyter会将以`!`为前缀的行视为shell命令，并将以`$`为前缀的Python变量插入这些命令中。"
   ]
  },
  {
   "cell_type": "markdown",
   "metadata": {
    "id": "1460fd744366"
   },
   "source": [
    "设置您的项目ID\n",
    "\n",
    "**如果您不知道您的项目ID**，您可以使用 `gcloud` 获取您的项目ID。"
   ]
  },
  {
   "cell_type": "code",
   "execution_count": null,
   "metadata": {
    "id": "set_project_id"
   },
   "outputs": [],
   "source": [
    "PROJECT_ID = \"[your-project-id]\"  # @param {type:\"string\"}"
   ]
  },
  {
   "cell_type": "code",
   "execution_count": null,
   "metadata": {
    "id": "autoset_project_id"
   },
   "outputs": [],
   "source": [
    "if PROJECT_ID == \"\" or PROJECT_ID is None or PROJECT_ID == \"[your-project-id]\":\n",
    "    # Get your GCP project id from gcloud\n",
    "    shell_output = ! gcloud config list --format 'value(core.project)' 2>/dev/null\n",
    "    PROJECT_ID = shell_output[0]\n",
    "    print(\"Project ID:\", PROJECT_ID)"
   ]
  },
  {
   "cell_type": "code",
   "execution_count": null,
   "metadata": {
    "id": "set_gcloud_project_id"
   },
   "outputs": [],
   "source": [
    "! gcloud config set project $PROJECT_ID"
   ]
  },
  {
   "cell_type": "markdown",
   "metadata": {
    "id": "region"
   },
   "source": [
    "区域\n",
    "\n",
    "您还可以更改“REGION”变量，该变量用于笔记本的其余部分。以下是Vertex AI支持的区域。我们建议您选择离您最近的区域。\n",
    "\n",
    "- 美洲：`us-central1`\n",
    "- 欧洲：`europe-west4`\n",
    "- 亚太：`asia-east1`\n",
    "\n",
    "您可能无法使用多区域存储桶进行Vertex AI训练。并非所有区域都支持所有Vertex AI服务。\n",
    "\n",
    "了解更多关于[Vertex AI区域](https://cloud.google.com/vertex-ai/docs/general/locations)。"
   ]
  },
  {
   "cell_type": "code",
   "execution_count": null,
   "metadata": {
    "id": "region"
   },
   "outputs": [],
   "source": [
    "REGION = \"[your-region]\"  # @param {type: \"string\"}\n",
    "\n",
    "if REGION == \"[your-region]\":\n",
    "    REGION = \"us-central1\""
   ]
  },
  {
   "cell_type": "markdown",
   "metadata": {
    "id": "timestamp"
   },
   "source": [
    "时间戳\n",
    "\n",
    "如果您正在参加一个实时教程会话，您可能会使用一个共享测试账户或项目。为了避免用户在创建的资源之间发生名称冲突，您为每个实例会话创建一个时间戳，并将时间戳附加到您在本教程中创建的资源名称上。"
   ]
  },
  {
   "cell_type": "code",
   "execution_count": null,
   "metadata": {
    "id": "timestamp"
   },
   "outputs": [],
   "source": [
    "from datetime import datetime\n",
    "\n",
    "TIMESTAMP = datetime.now().strftime(\"%Y%m%d%H%M%S\")"
   ]
  },
  {
   "cell_type": "markdown",
   "metadata": {
    "id": "f3bd8c0d0469"
   },
   "source": [
    "### 验证您的Google Cloud帐户\n",
    "\n",
    "**如果您正在使用Vertex AI Workbench笔记本**，您的环境已经经过验证。请跳过此步骤。\n",
    "\n",
    "**如果您正在使用Colab**，运行下面的单元格，并在提示时依照指示通过oAuth验证您的帐户。\n",
    "\n",
    "**否则**，请按照以下步骤操作：\n",
    "\n",
    "在Cloud控制台中，转到[创建服务帐户密钥](https://console.cloud.google.com/apis/credentials/serviceaccountkey)页面。\n",
    "\n",
    "1. **单击创建服务帐户**。\n",
    "\n",
    "2. 在**服务帐户名称**字段中输入名称，然后单击**创建**。\n",
    "\n",
    "3. 在**将此服务帐户授权给项目**部分，单击角色下拉列表。在过滤框中键入\"Vertex AI\"，然后选择**Vertex AI管理员**。在过滤框中键入\"Storage Object Admin\"，然后选择**存储桶对象管理员**。\n",
    "\n",
    "4. 单击创建。包含您的密钥的JSON文件将下载到您的本地环境。\n",
    "\n",
    "5. 在以下单元格中将您的服务帐户密钥路径输入为GOOGLE_APPLICATION_CREDENTIALS变量，并运行该单元格。"
   ]
  },
  {
   "cell_type": "code",
   "execution_count": null,
   "metadata": {
    "id": "e0953a00668e"
   },
   "outputs": [],
   "source": [
    "# If you are running this notebook in Colab, run this cell and follow the\n",
    "# instructions to authenticate your GCP account. This provides access to your\n",
    "# Cloud Storage bucket and lets you submit training jobs and prediction\n",
    "# requests.\n",
    "\n",
    "import os\n",
    "import sys\n",
    "\n",
    "# If on Vertex AI Workbench, then don't execute this code\n",
    "IS_COLAB = \"google.colab\" in sys.modules\n",
    "if not os.path.exists(\"/opt/deeplearning/metadata/env_version\") and not os.getenv(\n",
    "    \"DL_ANACONDA_HOME\"\n",
    "):\n",
    "    if \"google.colab\" in sys.modules:\n",
    "        from google.colab import auth as google_auth\n",
    "\n",
    "        google_auth.authenticate_user()\n",
    "\n",
    "    # If you are running this notebook locally, replace the string below with the\n",
    "    # path to your service account key and run this cell to authenticate your GCP\n",
    "    # account.\n",
    "    elif not os.getenv(\"IS_TESTING\"):\n",
    "        %env GOOGLE_APPLICATION_CREDENTIALS ''"
   ]
  },
  {
   "cell_type": "markdown",
   "metadata": {
    "id": "bucket:mbsdk"
   },
   "source": [
    "创建一个云存储桶\n",
    "\n",
    "无论您使用的是什么笔记本环境，都需要按照以下步骤进行操作。\n",
    "\n",
    "当您初始化用于 Python 的 Vertex AI SDK 时，您需要指定一个云存储暂存桶。暂存桶是您的数据集和模型资源相关数据在会话之间保留的位置。\n",
    "\n",
    "请在下方设置您的云存储桶的名称。存储桶的名称在所有谷歌云项目中必须是全局唯一的，包括您组织之外的项目。"
   ]
  },
  {
   "cell_type": "code",
   "execution_count": null,
   "metadata": {
    "id": "bucket"
   },
   "outputs": [],
   "source": [
    "BUCKET_NAME = \"[your-bucket-name]\"  # @param {type:\"string\"}\n",
    "BUCKET_URI = f\"gs://{BUCKET_NAME}\""
   ]
  },
  {
   "cell_type": "code",
   "execution_count": null,
   "metadata": {
    "id": "autoset_bucket"
   },
   "outputs": [],
   "source": [
    "if BUCKET_NAME == \"\" or BUCKET_NAME is None or BUCKET_NAME == \"[your-bucket-name]\":\n",
    "    BUCKET_NAME = PROJECT_ID + \"aip-\" + TIMESTAMP\n",
    "    BUCKET_URI = f\"gs://{BUCKET_NAME}\""
   ]
  },
  {
   "cell_type": "markdown",
   "metadata": {
    "id": "create_bucket"
   },
   "source": [
    "只有当您的存储桶尚不存在时：运行以下单元格以创建您的云存储存储桶。"
   ]
  },
  {
   "cell_type": "code",
   "execution_count": null,
   "metadata": {
    "id": "aO4sKJfFox9R"
   },
   "outputs": [],
   "source": [
    "! gsutil mb -l $REGION $BUCKET_URI"
   ]
  },
  {
   "cell_type": "markdown",
   "metadata": {
    "id": "validate_bucket"
   },
   "source": [
    "最后，通过检查云存储桶的内容来验证访问权限。"
   ]
  },
  {
   "cell_type": "code",
   "execution_count": null,
   "metadata": {
    "id": "yWnghzKFox9S"
   },
   "outputs": [],
   "source": [
    "! gsutil ls -al $BUCKET_URI"
   ]
  },
  {
   "cell_type": "markdown",
   "metadata": {
    "id": "setup_vars"
   },
   "source": [
    "### 设置变量\n",
    "\n",
    "接下来，设置一些在教程中使用的变量。\n",
    "### 导入库"
   ]
  },
  {
   "cell_type": "code",
   "execution_count": null,
   "metadata": {
    "id": "import_aip:mbsdk"
   },
   "outputs": [],
   "source": [
    "import google.cloud.aiplatform as aiplatform"
   ]
  },
  {
   "cell_type": "markdown",
   "metadata": {
    "id": "init_aip:mbsdk,region"
   },
   "source": [
    "### 初始化用于Python的Vertex AI SDK\n",
    "\n",
    "为您的项目和相应的存储桶初始化用于Python的Vertex AI SDK。"
   ]
  },
  {
   "cell_type": "code",
   "execution_count": null,
   "metadata": {
    "id": "init_aip:mbsdk,region"
   },
   "outputs": [],
   "source": [
    "aiplatform.init(project=PROJECT_ID, location=REGION, staging_bucket=BUCKET_URI)"
   ]
  },
  {
   "cell_type": "markdown",
   "metadata": {
    "id": "accelerators:training,cpu,prediction,cpu,mbsdk"
   },
   "source": [
    "设置硬件加速器\n",
    "\n",
    "您可以为训练任务设置硬件加速器。\n",
    "\n",
    "设置变量 `TRAIN_GPU/TRAIN_NGPU`，以使用支持 GPU 的容器镜像和分配给虚拟机实例的 GPU 数量。例如，要使用一个支持 GPU 的容器镜像，每个虚拟机实例分配 4 个 Nvidia Telsa K80 GPU，您可以指定：\n",
    "\n",
    "(aiplatform.gapic.AcceleratorType.NVIDIA_TESLA_K80, 4)\n",
    "\n",
    "否则指定 `(None, None)` 来使用一个在 CPU 上运行的容器镜像。\n",
    "\n",
    "了解更多关于[您的区域支持的硬件加速器](https://cloud.google.com/vertex-ai/docs/general/locations#accelerators)。"
   ]
  },
  {
   "cell_type": "code",
   "execution_count": null,
   "metadata": {
    "id": "accelerators:training,cpu,prediction,cpu,mbsdk"
   },
   "outputs": [],
   "source": [
    "if os.getenv(\"IS_TESTING_TRAIN_GPU\"):\n",
    "    TRAIN_GPU, TRAIN_NGPU = (\n",
    "        aiplatform.gapic.AcceleratorType.NVIDIA_TESLA_K80,\n",
    "        int(os.getenv(\"IS_TESTING_TRAIN_GPU\")),\n",
    "    )\n",
    "else:\n",
    "    TRAIN_GPU, TRAIN_NGPU = (None, None)"
   ]
  },
  {
   "cell_type": "markdown",
   "metadata": {
    "id": "container:training,prediction"
   },
   "source": [
    "设置预构建的容器\n",
    "\n",
    "为训练设置预先构建的Docker容器镜像。\n",
    "\n",
    "有关最新列表，请参阅[用于训练的预构建容器](https://cloud.google.com/ai-platform-unified/docs/training/pre-built-containers)。"
   ]
  },
  {
   "cell_type": "code",
   "execution_count": null,
   "metadata": {
    "id": "container:training,prediction"
   },
   "outputs": [],
   "source": [
    "if os.getenv(\"IS_TESTING_TF\"):\n",
    "    TF = os.getenv(\"IS_TESTING_TF\")\n",
    "else:\n",
    "    TF = \"2.5\".replace(\".\", \"-\")\n",
    "\n",
    "if TF[0] == \"2\":\n",
    "    if TRAIN_GPU:\n",
    "        TRAIN_VERSION = \"tf-gpu.{}\".format(TF)\n",
    "    else:\n",
    "        TRAIN_VERSION = \"tf-cpu.{}\".format(TF)\n",
    "else:\n",
    "    if TRAIN_GPU:\n",
    "        TRAIN_VERSION = \"tf-gpu.{}\".format(TF)\n",
    "    else:\n",
    "        TRAIN_VERSION = \"tf-cpu.{}\".format(TF)\n",
    "\n",
    "\n",
    "TRAIN_IMAGE = \"{}-docker.pkg.dev/vertex-ai/training/{}:latest\".format(\n",
    "    REGION.split(\"-\")[0], TRAIN_VERSION\n",
    ")\n",
    "\n",
    "print(\"Training:\", TRAIN_IMAGE, TRAIN_GPU, TRAIN_NGPU)"
   ]
  },
  {
   "cell_type": "markdown",
   "metadata": {
    "id": "machine:training"
   },
   "source": [
    "#### 设置机器类型\n",
    "\n",
    "接下来，设置用于训练的机器类型。\n",
    "\n",
    "- 设置变量 `TRAIN_COMPUTE` 来配置用于训练的 VMs 的计算资源。\n",
    " - `机器类型`\n",
    "     - `n1-standard`: 每个 vCPU 3.75GB 内存。\n",
    "     - `n1-highmem`: 每个 vCPU 6.5GB 内存\n",
    "     - `n1-highcpu`: 每个 vCPU 0.9GB 内存\n",
    " - `vCPUs`: 数量范围为 \\[2, 4, 8, 16, 32, 64, 96 \\]\n",
    "\n",
    "*注意：以下类型不支持用于训练：*\n",
    "\n",
    " - `standard`: 2个 vCPUs\n",
    " - `highcpu`: 2, 4 和 8 个 vCPUs\n",
    "\n",
    "*注意：您也可以使用 n2 和 e2 机器类型进行训练和部署，但它们不支持 GPU。*"
   ]
  },
  {
   "cell_type": "code",
   "execution_count": null,
   "metadata": {
    "id": "machine:training"
   },
   "outputs": [],
   "source": [
    "if os.getenv(\"IS_TESTING_TRAIN_MACHINE\"):\n",
    "    MACHINE_TYPE = os.getenv(\"IS_TESTING_TRAIN_MACHINE\")\n",
    "else:\n",
    "    MACHINE_TYPE = \"n1-standard\"\n",
    "\n",
    "VCPU = \"4\"\n",
    "TRAIN_COMPUTE = MACHINE_TYPE + \"-\" + VCPU\n",
    "print(\"Train machine type\", TRAIN_COMPUTE)"
   ]
  },
  {
   "cell_type": "markdown",
   "metadata": {
    "id": "83f8f98ae12d"
   },
   "source": [
    "## `Vertex AI实验`简介\n",
    "\n",
    "使用`Vertex AI实验`，您可以在实验/开发模型架构和模型训练时记录和跟踪以下内容：\n",
    "\n",
    "- 记录模型架构的元参数。\n",
    "- 记录训练的超参数。\n",
    "- 记录评估指标。\n",
    "- 创建数据集、模型和评估的工件系谱。\n",
    "- 将一个或多个训练运行组合在一个实验下。\n",
    "- 比较实验结果。\n",
    "\n",
    "`Vertex AI实验`可以与以下开发流程集成：\n",
    "\n",
    "- 在笔记本中进行本地开发\n",
    "- 在`Vertex AI训练`中进行云开发\n",
    "- 将开发操作化为`Vertex AI管道`\n",
    "\n",
    "了解更多关于[实验](https://cloud.google.com/vertex-ai/docs/experiments/)的信息。\n",
    "\n",
    "了解更多关于[Vertex AI机器学习元数据简介](https://cloud.google.com/vertex-ai/docs/ml-metadata/introduction)。"
   ]
  },
  {
   "cell_type": "markdown",
   "metadata": {
    "id": "fb84b57b9e74"
   },
   "source": [
    "### 在笔记本中进行本地开发\n",
    "\n",
    "您可以在本地开发中跟踪一个实验，例如在Vertex AI Workbench笔记本中，方法如下：\n",
    "\n",
    "- 将实验的创建进行封装（开场白）。\n",
    "- 在实验中每次训练运行时实例化一个运行。\n",
    "- 在本地训练运行中，记录相关参数和结果。\n",
    "- 创建与工件和实验数据的关系。\n",
    "- 检索实验数据。"
   ]
  },
  {
   "cell_type": "markdown",
   "metadata": {
    "id": "start_experiment"
   },
   "source": [
    "创建用于跟踪训练相关元数据的实验\n",
    "\n",
    "首先，使用`init()`方法创建一个实验，然后在实验中初始化一个运行，使用`start_run()`。\n",
    "\n",
    "- `aiplatform.init()` - 创建一个实验实例\n",
    "- `aiplatform.start_run()` - 在实验中跟踪特定的运行。"
   ]
  },
  {
   "cell_type": "code",
   "execution_count": null,
   "metadata": {
    "id": "1ed46e349cf2"
   },
   "outputs": [],
   "source": [
    "# Specify a name for the experiment\n",
    "EXPERIMENT_NAME = \"[your-experiment-name]\"\n",
    "\n",
    "if EXPERIMENT_NAME == \"[your-experiment-name]\":\n",
    "    EXPERIMENT_NAME = \"example-\" + TIMESTAMP"
   ]
  },
  {
   "cell_type": "code",
   "execution_count": null,
   "metadata": {
    "id": "start_experiment"
   },
   "outputs": [],
   "source": [
    "# Create experiment\n",
    "aiplatform.init(experiment=EXPERIMENT_NAME)\n",
    "aiplatform.start_run(\"run-1\")"
   ]
  },
  {
   "cell_type": "markdown",
   "metadata": {
    "id": "experiment_log_params"
   },
   "source": [
    "### 为实验记录参数\n",
    "\n",
    "通常，一个实验与特定数据集和模型架构相关联。在一个实验中，您可能会进行多个训练运行，每个运行尝试不同的配置。例如：\n",
    "\n",
    "- 数据输入，比如：\n",
    "    - 数据集拆分\n",
    "    - 数据集抽样和提升\n",
    "- 元参数，比如：\n",
    "    - 层的深度和宽度\n",
    "- 超参数，比如：\n",
    "    - 批量大小\n",
    "    - 学习率\n",
    "\n",
    "这些配置设置被称为参数，您可以使用`log_params()`方法将其存储为键值对。"
   ]
  },
  {
   "cell_type": "code",
   "execution_count": null,
   "metadata": {
    "id": "experiment_log_params"
   },
   "outputs": [],
   "source": [
    "metaparams = {}\n",
    "metaparams[\"units\"] = 128\n",
    "aiplatform.log_params(metaparams)\n",
    "\n",
    "hyperparams = {}\n",
    "hyperparams[\"epochs\"] = 100\n",
    "hyperparams[\"batch_size\"] = 32\n",
    "hyperparams[\"learning_rate\"] = 0.01\n",
    "aiplatform.log_params(hyperparams)"
   ]
  },
  {
   "cell_type": "markdown",
   "metadata": {
    "id": "experiment_log_metrics"
   },
   "source": [
    "记录实验的指标\n",
    "\n",
    "在实验中完成或终止运行时，您可以记录结果，用于比较不同运行的结果。例如：\n",
    "\n",
    "- 评估指标\n",
    "- 超参数搜索选择\n",
    "- 模型训​​练时间\n",
    "- 提前停止触发器\n",
    "\n",
    "这些结果被称为指标，您可以使用`log_metrics()`方法将其存储为键-值对。"
   ]
  },
  {
   "cell_type": "code",
   "execution_count": null,
   "metadata": {
    "id": "experiment_log_metrics"
   },
   "outputs": [],
   "source": [
    "metrics = {}\n",
    "metrics[\"test_acc\"] = 98.7\n",
    "metrics[\"train_acc\"] = 99.3\n",
    "aiplatform.log_metrics(metrics)"
   ]
  },
  {
   "cell_type": "markdown",
   "metadata": {
    "id": "get_experiment"
   },
   "source": [
    "获取实验结果\n",
    "\n",
    "当您在实验中完成一次运行时，调用`end_run()`方法来完成该运行的日志记录。\n",
    "\n",
    "接下来，您可以使用实验名称作为参数传递给`get_experiment_df()`方法来获取实验结果作为pandas数据框。"
   ]
  },
  {
   "cell_type": "code",
   "execution_count": null,
   "metadata": {
    "id": "get_experiment"
   },
   "outputs": [],
   "source": [
    "aiplatform.end_run()\n",
    "\n",
    "experiment_df = aiplatform.get_experiment_df()\n",
    "experiment_df = experiment_df[experiment_df.experiment_name == EXPERIMENT_NAME]\n",
    "experiment_df.T"
   ]
  },
  {
   "cell_type": "markdown",
   "metadata": {
    "id": "2bcaf3e3ddff"
   },
   "source": [
    "开始在实验中进行后续运行\n",
    "\n",
    "接下来，您为同一实验创建第二次运行。在这个例子中，您将`units`的元参数从126更改为256，并记录不同的度量结果。"
   ]
  },
  {
   "cell_type": "code",
   "execution_count": null,
   "metadata": {
    "id": "d7c1a839683b"
   },
   "outputs": [],
   "source": [
    "aiplatform.start_run(\"run-2\")\n",
    "\n",
    "metaparams = {}\n",
    "metaparams[\"units\"] = 256  # changed the value\n",
    "aiplatform.log_params(metaparams)\n",
    "\n",
    "hyperparams = {}\n",
    "hyperparams[\"epochs\"] = 100\n",
    "hyperparams[\"batch_size\"] = 32\n",
    "hyperparams[\"learning_rate\"] = 0.01\n",
    "aiplatform.log_params(hyperparams)\n",
    "\n",
    "metrics = {}\n",
    "metrics[\"test_acc\"] = 98.8  # value changed\n",
    "metrics[\"train_acc\"] = 99.5  # value changed\n",
    "aiplatform.log_metrics(metrics)"
   ]
  },
  {
   "cell_type": "markdown",
   "metadata": {
    "id": "0d2619bbc04a"
   },
   "source": [
    "比较同一实验中的运行\n",
    "\n",
    "最后，您将实验名称作为参数传递给`get_experiment_df()`方法，以获取实验中所有运行的结果作为pandas dataframe。"
   ]
  },
  {
   "cell_type": "code",
   "execution_count": null,
   "metadata": {
    "id": "7ddb4e17fe92"
   },
   "outputs": [],
   "source": [
    "aiplatform.end_run()\n",
    "\n",
    "experiment_df = aiplatform.get_experiment_df()\n",
    "experiment_df = experiment_df[experiment_df.experiment_name == EXPERIMENT_NAME]\n",
    "experiment_df.T"
   ]
  },
  {
   "cell_type": "markdown",
   "metadata": {
    "id": "5328eb24f6a6"
   },
   "source": [
    "删除实验\n",
    "\n",
    "接下来，您可以使用 `delete()` 方法删除实验。"
   ]
  },
  {
   "cell_type": "code",
   "execution_count": null,
   "metadata": {
    "id": "cleanup:mbsdk"
   },
   "outputs": [],
   "source": [
    "exp = aiplatform.Experiment(EXPERIMENT_NAME)\n",
    "exp.delete()"
   ]
  },
  {
   "cell_type": "markdown",
   "metadata": {
    "id": "a07fb4c47af4"
   },
   "source": [
    "### 在实验运行中创建工件血统\n",
    "\n",
    "在这个例子中，您可以在实验运行中添加工件血统。首先，您需要创建一个实验，然后在实验中开始运行。"
   ]
  },
  {
   "cell_type": "code",
   "execution_count": null,
   "metadata": {
    "id": "b7aea23dafbc"
   },
   "outputs": [],
   "source": [
    "# Create experiment\n",
    "aiplatform.init(experiment=EXPERIMENT_NAME)\n",
    "aiplatform.start_run(\"run-1\")"
   ]
  },
  {
   "cell_type": "markdown",
   "metadata": {
    "id": "355fed1a7b6d"
   },
   "source": [
    "#### 创建数据集和模型工件\n",
    "\n",
    "接下来，您将在Vertex AI ML Metadata中创建合成工件，与实验中的运行关联为血统。您将创建：\n",
    "\n",
    "- `dataset_artifact`：作为实验运行输入的数据集。\n",
    "- `model_artifact`：作为实验运行输出的模型。"
   ]
  },
  {
   "cell_type": "code",
   "execution_count": null,
   "metadata": {
    "id": "4c1faeec89bb"
   },
   "outputs": [],
   "source": [
    "DATASET_URI = \"gs://example/dataset.csv\"\n",
    "MODEL_URI = \"gs://example/saved_model.pb\"\n",
    "\n",
    "dataset_artifact = aiplatform.Artifact.create(\n",
    "    schema_title=\"system.Dataset\", display_name=\"example_dataset\", uri=DATASET_URI\n",
    ")\n",
    "\n",
    "model_artifact = aiplatform.Artifact.create(\n",
    "    schema_title=\"system.Model\", display_name=\"example_modl\", uri=MODEL_URI\n",
    ")"
   ]
  },
  {
   "cell_type": "markdown",
   "metadata": {
    "id": "7f6cc9dbaa2e"
   },
   "source": [
    "创建工件谱系\n",
    "\n",
    "接下来，为实验运行创建工件谱系，您可以使用方法 `start_execution()` 实例化一个执行。然后，使用方法 `assign_input_artifacts()` 附加输入工件，使用方法 `assign_output_artifacts()` 附加输出工件。\n",
    "\n",
    "在此示例中，为查找实验的谱系，您可以向执行运行添加一个合成（元数据）条目 `lineage`，并将值设置为谱系的控制台URI，您可以从方法 `get_output_artifacts()` 和属性 `lineage_console_uri` 中获取该值。"
   ]
  },
  {
   "cell_type": "code",
   "execution_count": null,
   "metadata": {
    "id": "9170906b09f9"
   },
   "outputs": [],
   "source": [
    "with aiplatform.start_execution(\n",
    "    schema_title=\"system.ContainerExecution\", display_name=\"example_training\"\n",
    ") as execution:\n",
    "    execution.assign_input_artifacts([dataset_artifact])\n",
    "\n",
    "    aiplatform.log_params({\"units\": 256})\n",
    "    aiplatform.log_metrics({\"acc\": 96.8})\n",
    "\n",
    "    execution.assign_output_artifacts([model_artifact])\n",
    "\n",
    "    aiplatform.log_metrics(\n",
    "        {\"lineage\": execution.get_output_artifacts()[0].lineage_console_uri}\n",
    "    )"
   ]
  },
  {
   "cell_type": "markdown",
   "metadata": {
    "id": "15f847929914"
   },
   "source": [
    "#### 获取实验结果\n",
    "\n",
    "接下来，您可以将实验名称作为参数传递给方法`get_experiment_df()`来获取实验结果作为一个pandas dataframe。\n",
    "\n",
    "在这个示例中，您将资源URI存储到了执行运行中作为度量值`lineage`。"
   ]
  },
  {
   "cell_type": "code",
   "execution_count": null,
   "metadata": {
    "id": "0cfa26496ea9"
   },
   "outputs": [],
   "source": [
    "aiplatform.end_run()\n",
    "\n",
    "experiment_df = aiplatform.get_experiment_df()\n",
    "experiment_df = experiment_df[experiment_df.experiment_name == EXPERIMENT_NAME]\n",
    "experiment_df.T"
   ]
  },
  {
   "cell_type": "markdown",
   "metadata": {
    "id": "994b3dab8769"
   },
   "source": [
    "请将文物谱系进行可视化处理\n",
    "\n",
    "接下来，请打开以下链接以查看文物谱系。"
   ]
  },
  {
   "cell_type": "code",
   "execution_count": null,
   "metadata": {
    "id": "b85013ec6f11"
   },
   "outputs": [],
   "source": [
    "print(\n",
    "    \"Open the following link:\", execution.get_output_artifacts()[0].lineage_console_uri\n",
    ")"
   ]
  },
  {
   "cell_type": "markdown",
   "metadata": {
    "id": "80f8e272bf3f"
   },
   "source": [
    "请删除工件的谱系。\n",
    "\n",
    "接下来，使用delete()方法来删除工件的谱系。"
   ]
  },
  {
   "cell_type": "code",
   "execution_count": null,
   "metadata": {
    "id": "ae66f78a233f"
   },
   "outputs": [],
   "source": [
    "try:\n",
    "    dataset_artifact.delete()\n",
    "except Exception as e:\n",
    "    print(e)\n",
    "try:\n",
    "    model_artifact.delete()\n",
    "except Exception as e:\n",
    "    print(e)"
   ]
  },
  {
   "cell_type": "markdown",
   "metadata": {
    "id": "35b899773315"
   },
   "source": [
    "删除实验\n",
    "\n",
    "接下来，您可以使用`delete()`方法来删除实验。"
   ]
  },
  {
   "cell_type": "code",
   "execution_count": null,
   "metadata": {
    "id": "f1020119d742"
   },
   "outputs": [],
   "source": [
    "exp.delete()"
   ]
  },
  {
   "cell_type": "markdown",
   "metadata": {
    "id": "3cd64a48e0f4"
   },
   "source": [
    "### 在`Vertex AI Training`中的云开发\n",
    "\n",
    "您可以使用`Vertex AI Training`在云开发中跟踪一个实验，方法如下：\n",
    "\n",
    "在您的Python训练脚本中，重复与本地开发相同的步骤：\n",
    "\n",
    "- 包装（引导）实验的创建。\n",
    "- 在实验中的每次训练运行中实例化一个运行。\n",
    "- 在本地训练运行中，记录相应的参数和结果。\n",
    "- 创建与工件和实验数据的关系。\n",
    "- 检索实验数据。"
   ]
  },
  {
   "cell_type": "markdown",
   "metadata": {
    "id": "examine_training_package"
   },
   "source": [
    "### 包布局\n",
    "\n",
    "在开始训练之前，您将了解如何为自定义训练作业组装Python包。解压后，该包包含以下目录/文件布局。\n",
    "\n",
    "- PKG-INFO\n",
    "- README.md\n",
    "- setup.cfg\n",
    "- setup.py\n",
    "- trainer\n",
    "  - \\_\\_init\\_\\_.py\n",
    "  - task.py\n",
    "\n",
    "文件`setup.cfg`和`setup.py`是将包安装到Docker镜像的操作环境中的说明。\n",
    "\n",
    "文件`trainer/task.py`是执行自定义训练作业的Python脚本。*请注意*，当我们在工作进程池规范中引用它时，我们将目录斜杠替换为点(`trainer.task`)并删除文件后缀(`.py`)。\n",
    "\n",
    "### 包组装\n",
    "\n",
    "在下面的单元格中，您将组装训练包。"
   ]
  },
  {
   "cell_type": "code",
   "execution_count": null,
   "metadata": {
    "id": "examine_training_package"
   },
   "outputs": [],
   "source": [
    "# Make folder for Python training script\n",
    "! rm -rf custom\n",
    "! mkdir custom\n",
    "\n",
    "# Add package information\n",
    "! touch custom/README.md\n",
    "\n",
    "setup_cfg = \"[egg_info]\\n\\ntag_build =\\n\\ntag_date = 0\"\n",
    "! echo \"$setup_cfg\" > custom/setup.cfg\n",
    "\n",
    "setup_py = \"import setuptools\\n\\nsetuptools.setup(\\n\\n    install_requires=[\\n\\n        'google-cloud-aiplatform',\\n\\n  ],\\n\\n    packages=setuptools.find_packages())\"\n",
    "! echo \"$setup_py\" > custom/setup.py\n",
    "\n",
    "pkg_info = \"Metadata-Version: 1.0\\n\\nName: Synethic Training Script for Experiments\\n\\nVersion: 0.0.0\\n\\nSummary: Demostration training script\\n\\nHome-page: www.google.com\\n\\nAuthor: Google\\n\\nAuthor-email: aferlitsch@google.com\\n\\nLicense: Public\\n\\nDescription: Demo\\n\\nPlatform: Vertex\"\n",
    "! echo \"$pkg_info\" > custom/PKG-INFO\n",
    "\n",
    "# Make the training subfolder\n",
    "! mkdir custom/trainer\n",
    "! touch custom/trainer/__init__.py"
   ]
  },
  {
   "cell_type": "markdown",
   "metadata": {
    "id": "50c0e24489df"
   },
   "source": [
    "#### 创建合成训练脚本\n",
    "\n",
    "首先，您需要编写一个合成训练脚本。它实际上并不会训练模型，而是模仿模型的训练：\n",
    "\n",
    "- 参数解析\n",
    "  - `experiment`：实验的名称。\n",
    "  - `run`：实验中的运行名称。\n",
    "  - `epochs`：迭代次数。\n",
    "  - `dataset-uri`：训练数据的云存储位置。\n",
    "  - `model-dir`：保存训练后的模型文件的云存储位置。\n",
    "- 训练函数\n",
    "  - `get_data()`：\n",
    "      - 获取训练数据。\n",
    "      - 创建输入数据集工件。\n",
    "      - 将数据集工件作为输入附加到执行上下文中。\n",
    "  - `get_model()`：\n",
    "      - 获取模型架构。\n",
    "  - `train_model()`：\n",
    "      - 训练模型。\n",
    "  - `save_model()`：\n",
    "      - 保存模型。\n",
    "      - 创建输出模型工件。\n",
    "      - 将模型工件作为输出附加到执行上下文中。\n",
    "- 初始化实验（`init()`）并在实验内启动一个运行（`start_run()`）。\n",
    "- 使用 `start_execution()` 包装训练过程。\n",
    "- 将实验参数的谱系记录到日志中（`log_metrics({\"lineage\"...)`）。\n",
    "- 结束实验运行（`end_run()`）。"
   ]
  },
  {
   "cell_type": "code",
   "execution_count": null,
   "metadata": {
    "id": "aed1431dccaf"
   },
   "outputs": [],
   "source": [
    "%%writefile custom/trainer/task.py\n",
    "\n",
    "import argparse\n",
    "import os\n",
    "\n",
    "import google.cloud.aiplatform as aiplatform\n",
    "\n",
    "parser = argparse.ArgumentParser()\n",
    "# Args for experiment\n",
    "parser.add_argument('--experiment', dest='experiment',\n",
    "                    required=True, type=str,\n",
    "                    help='Name of experiment')\n",
    "parser.add_argument('--run', dest='run',\n",
    "                    required=True, type=str,\n",
    "                    help='Name of run within the experiment')\n",
    "\n",
    "# Hyperparameters for experiment\n",
    "parser.add_argument('--epochs', dest='epochs',\n",
    "                    default=10, type=int,\n",
    "                    help='Number of epochs.')\n",
    "\n",
    "parser.add_argument('--dataset-uri', dest='dataset_uri',\n",
    "                    required=True, type=str,\n",
    "                    help='Location of the dataset')\n",
    "\n",
    "parser.add_argument('--model-dir', dest='model_dir',\n",
    "                    default=os.getenv(\"AIP_MODEL_DIR\"), type=str,\n",
    "                    help='Storage location for the model')\n",
    "args = parser.parse_args()\n",
    "\n",
    "def get_data(dataset_uri, execution):\n",
    "    # get the training data\n",
    "    \n",
    "    dataset_artifact = aiplatform.Artifact.create(\n",
    "        schema_title=\"system.Dataset\", display_name=\"example_dataset\", uri=dataset_uri\n",
    "    )\n",
    "    \n",
    "    execution.assign_input_artifacts([dataset_artifact])\n",
    "\n",
    "    return None\n",
    "\n",
    "def get_model():\n",
    "    # get or create the model architecture\n",
    "    return None\n",
    "\n",
    "def train_model(dataset, model, epochs):\n",
    "    aiplatform.log_params({\"epochs\": epochs})\n",
    "    # train the model\n",
    "    return model\n",
    "\n",
    "def save_model(model, model_dir, execution):\n",
    "    # save the model\n",
    "    \n",
    "    model_artifact = aiplatform.Artifact.create(\n",
    "        schema_title=\"system.Model\", display_name=\"example_model\", uri=model_dir\n",
    "    )\n",
    "    execution.assign_output_artifacts([model_artifact])\n",
    "\n",
    "# Create a run within the experiment\n",
    "aiplatform.init(experiment=args.experiment)\n",
    "aiplatform.start_run(args.run)\n",
    "\n",
    "with aiplatform.start_execution(\n",
    "    schema_title=\"system.ContainerExecution\", display_name=\"example_training\"\n",
    ") as execution:\n",
    "    dataset = get_data(args.dataset_uri, execution)\n",
    "    model = get_model()\n",
    "    model = train_model(dataset, model, args.epochs)\n",
    "    save_model(model, args.model_dir, execution)\n",
    "    \n",
    "    # Store the lineage link in the experiment\n",
    "    aiplatform.log_metrics({\"lineage\": execution.get_output_artifacts()[0].lineage_console_uri})\n",
    "\n",
    "aiplatform.end_run()"
   ]
  },
  {
   "cell_type": "markdown",
   "metadata": {
    "id": "tarball_training_script"
   },
   "source": [
    "将培训脚本存储在您的云存储桶中\n",
    "\n",
    "接下来，您将培训文件夹打包成一个压缩的tar球，然后存储在您的云存储桶中。"
   ]
  },
  {
   "cell_type": "code",
   "execution_count": null,
   "metadata": {
    "id": "tarball_training_script"
   },
   "outputs": [],
   "source": [
    "! rm -f custom.tar custom.tar.gz\n",
    "! tar cvf custom.tar custom\n",
    "! gzip custom.tar\n",
    "! gsutil cp custom.tar.gz $BUCKET_URI/trainer.tar.gz"
   ]
  },
  {
   "cell_type": "markdown",
   "metadata": {
    "id": "create_custom_pp_training_job:mbsdk,no_model"
   },
   "source": [
    "创建自定义训练任务\n",
    "\n",
    "使用`CustomTrainingJob`类创建自定义训练任务，具有以下参数：\n",
    "\n",
    "- `display_name`：自定义训练任务的可读名称。\n",
    "- `container_uri`：训练容器镜像。\n",
    "\n",
    "- `python_package_gcs_uri`：Python训练包的位置，以tarball格式。\n",
    "- `python_module_name`：Python包中训练脚本的相对路径。\n",
    "\n",
    "*注意：*没有要求参数。您可以在Python包的`setup.py`脚本中指定任何要求。"
   ]
  },
  {
   "cell_type": "code",
   "execution_count": null,
   "metadata": {
    "id": "create_custom_pp_training_job:mbsdk,no_model"
   },
   "outputs": [],
   "source": [
    "DISPLAY_NAME = \"example_\" + TIMESTAMP\n",
    "\n",
    "job = aiplatform.CustomPythonPackageTrainingJob(\n",
    "    display_name=DISPLAY_NAME,\n",
    "    python_package_gcs_uri=f\"{BUCKET_URI}/trainer.tar.gz\",\n",
    "    python_module_name=\"trainer.task\",\n",
    "    container_uri=TRAIN_IMAGE,\n",
    ")"
   ]
  },
  {
   "cell_type": "markdown",
   "metadata": {
    "id": "run_custom_container_training_job:no_model"
   },
   "source": [
    "运行自定义训练任务\n",
    "\n",
    "接下来，您可以通过调用方法`run()`运行自定义训练作业来开始训练作业，参数如下：\n",
    "\n",
    "- `args`：传递给训练脚本的参数\n",
    "    - `model_dir`：存储模型的云存储位置。\n",
    "    - `dataset_uri`：数据集的云存储位置。\n",
    "    - `epochs`：训练周期的数量（超参数）。\n",
    "    - `experiment`：实验的名称。\n",
    "    - `run`：实验中的运行名称。\n",
    "- `replica_count`：VM实例的数量。\n",
    "- `machine_type`：每个VM实例的机器类型。"
   ]
  },
  {
   "cell_type": "code",
   "execution_count": null,
   "metadata": {
    "id": "260f972398e5"
   },
   "outputs": [],
   "source": [
    "CMDARGS = [\n",
    "    \"--model-dir=\" + BUCKET_URI,\n",
    "    \"--dataset-uri=gs://example/foo.csv\",\n",
    "    \"--epochs=5\",\n",
    "    f\"--experiment={EXPERIMENT_NAME}\",\n",
    "    \"--run=run-1\",\n",
    "]\n",
    "\n",
    "job.run(args=CMDARGS, replica_count=1, machine_type=TRAIN_COMPUTE, sync=True)"
   ]
  },
  {
   "cell_type": "markdown",
   "metadata": {
    "id": "5f40912e6500"
   },
   "source": [
    "#### 获取实验结果\n",
    "\n",
    "接下来，您可以将实验名称作为参数传递给`get_experiment_df()`方法，以便获取实验结果作为一个pandas的数据框。\n",
    "\n",
    "在这个例子中，您将资源URI存储到血统中，作为执行运行的一个指标值`lineage`。"
   ]
  },
  {
   "cell_type": "code",
   "execution_count": null,
   "metadata": {
    "id": "7e9671712230"
   },
   "outputs": [],
   "source": [
    "experiment_df = aiplatform.get_experiment_df()\n",
    "experiment_df = experiment_df[experiment_df.experiment_name == EXPERIMENT_NAME]\n",
    "experiment_df.T"
   ]
  },
  {
   "cell_type": "markdown",
   "metadata": {
    "id": "65a65f847332"
   },
   "source": [
    "#### 可视化文物世系\n",
    "\n",
    "接下来，打开下面的链接可视化文物世系。"
   ]
  },
  {
   "cell_type": "code",
   "execution_count": null,
   "metadata": {
    "id": "f5a02e7d92c7"
   },
   "outputs": [],
   "source": [
    "print(\"Open the following link\", experiment_df[\"metric.lineage\"][0])"
   ]
  },
  {
   "cell_type": "markdown",
   "metadata": {
    "id": "d4ba591be8ec"
   },
   "source": [
    "#### 删除自定义训练任务\n",
    "\n",
    "您可以使用`delete()`方法来删除您的自定义训练任务。"
   ]
  },
  {
   "cell_type": "code",
   "execution_count": null,
   "metadata": {
    "id": "5436ab06482a"
   },
   "outputs": [],
   "source": [
    "job.delete()"
   ]
  },
  {
   "cell_type": "markdown",
   "metadata": {
    "id": "e508c159d712"
   },
   "source": [
    "删除实验\n",
    "\n",
    "由于实验是在`Vertex AI Training`中创建的，要删除实验，您可以使用`list()`方法获取项目中的所有实验，然后根据实验名称进行筛选。"
   ]
  },
  {
   "cell_type": "code",
   "execution_count": null,
   "metadata": {
    "id": "1a1b5fcbfde0"
   },
   "outputs": [],
   "source": [
    "experiments = aiplatform.Experiment.list()\n",
    "for experiment in experiments:\n",
    "    if experiment.name == EXPERIMENT_NAME:\n",
    "        experiment.delete()"
   ]
  },
  {
   "cell_type": "markdown",
   "metadata": {
    "id": "cleanup:mbsdk"
   },
   "source": [
    "# 清理\n",
    "\n",
    "要清理此项目中使用的所有Google Cloud资源，您可以删除用于本教程的[Google Cloud项目](https://cloud.google.com/resource-manager/docs/creating-managing-projects#shutting_down_projects)。\n",
    "\n",
    "否则，您可以删除本教程中创建的各个资源。"
   ]
  },
  {
   "cell_type": "code",
   "execution_count": null,
   "metadata": {
    "id": "e89f43b3df49"
   },
   "outputs": [],
   "source": [
    "! rm -rf custom\n",
    "\n",
    "delete_bucket = False\n",
    "\n",
    "if delete_bucket or os.getenv(\"IS_TESTING\"):\n",
    "    ! gsutil rm -rf {BUCKET_URI}"
   ]
  }
 ],
 "metadata": {
  "colab": {
   "name": "get_started_vertex_experiments.ipynb",
   "toc_visible": true
  },
  "kernelspec": {
   "display_name": "Python 3",
   "name": "python3"
  }
 },
 "nbformat": 4,
 "nbformat_minor": 0
}
