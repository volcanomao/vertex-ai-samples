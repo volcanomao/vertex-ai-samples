{
 "cells": [
  {
   "cell_type": "code",
   "execution_count": null,
   "metadata": {
    "id": "copyright"
   },
   "outputs": [],
   "source": [
    "# Copyright 2022 Google LLC\n",
    "#\n",
    "# Licensed under the Apache License, Version 2.0 (the \"License\");\n",
    "# you may not use this file except in compliance with the License.\n",
    "# You may obtain a copy of the License at\n",
    "#\n",
    "#     https://www.apache.org/licenses/LICENSE-2.0\n",
    "#\n",
    "# Unless required by applicable law or agreed to in writing, software\n",
    "# distributed under the License is distributed on an \"AS IS\" BASIS,\n",
    "# WITHOUT WARRANTIES OR CONDITIONS OF ANY KIND, either express or implied.\n",
    "# See the License for the specific language governing permissions and\n",
    "# limitations under the License."
   ]
  },
  {
   "cell_type": "markdown",
   "metadata": {
    "id": "title:generic,gcp"
   },
   "source": [
    "# GCP上的端到端机器学习：MLOps阶段2：实验：开始使用Vertex AI特征存储\n",
    "\n",
    "<table align=\"left\">\n",
    "  <td>\n",
    "    <a href=\"https://github.com/GoogleCloudPlatform/vertex-ai-samples/blob/main/notebooks/community/ml_ops/stage2/get_started_vertex_feature_store.ipynb\">\n",
    "      <img src=\"https://cloud.google.com/ml-engine/images/github-logo-32px.png\" alt=\"GitHub logo\">\n",
    "      在GitHub上查看\n",
    "    </a>\n",
    "  </td>\n",
    "    \n",
    "  <td>\n",
    "        <a href=\"https://colab.research.google.com/github/GoogleCloudPlatform/vertex-ai-samples/blob/main/notebooks/community/ml_ops/stage2/get_started_vertex_feature_store.ipynb\">\n",
    "        <img src=\"https://cloud.google.com/ml-engine/images/colab-logo-32px.png\" alt=\"Colab logo\"> 在Colab中运行\n",
    "        </a>\n",
    "  </td>\n",
    "    \n",
    "  <td>\n",
    "    <a href=\"https://console.cloud.google.com/vertex-ai/workbench/deploy-notebook?download_url=https://raw.githubusercontent.com/GoogleCloudPlatform/vertex-ai-samples/main/notebooks/community/ml_ops/stage2/get_started_vertex_feature_store.ipynb\">\n",
    "      <img src=\"https://lh3.googleusercontent.com/UiNooY4LUgW_oTvpsNhPpQzsstV5W8F7rYgxgGBD85cWJoLmrOzhVs_ksK_vgx40SHs7jCqkTkCk=e14-rj-sc0xffffff-h130-w32\" alt=\"Vertex AI logo\">\n",
    "      在Vertex AI工作台中打开\n",
    "    </a>\n",
    "  </td>\n",
    "    \n",
    "</table>\n",
    "<br/><br/><br/>"
   ]
  },
  {
   "cell_type": "markdown",
   "metadata": {
    "id": "overview:mlops"
   },
   "source": [
    "## 概览\n",
    "\n",
    "本教程演示了如何在 Google 云上将 Vertex AI 用于端到端 MLOps 生产环境。本教程涵盖了第二阶段：实验：开始使用特征存储。"
   ]
  },
  {
   "cell_type": "markdown",
   "metadata": {
    "id": "objective:mlops,stage2,get_started_vertex_feature_store"
   },
   "source": [
    "### 目标\n",
    "\n",
    "在本教程中，您将学习如何在训练和预测时使用 `Vertex AI Feature Store`。\n",
    "\n",
    "此教程使用以下谷歌云ML服务：\n",
    "\n",
    "- `Vertex AI Feature Store`\n",
    "\n",
    "执行的步骤包括：\n",
    "\n",
    "- 创建Vertex AI `Featurestore` 资源。\n",
    "    - 为 `Featurestore` 资源创建 `EntityType` 资源。\n",
    "    - 为每个 `EntityType` 资源创建 `Feature` 资源。\n",
    "- 将特征值（实体数据项）导入到 `Featurestore` 资源中。\n",
    "    - 从Cloud Storage位置。\n",
    "    - 从pandas DataFrame。\n",
    "- 从 `Featurestore` 资源执行在线服务。\n",
    "- 从 `Featurestore` 资源执行批处理服务。"
   ]
  },
  {
   "cell_type": "markdown",
   "metadata": {
    "id": "dataset:movies,lbn,avro"
   },
   "source": [
    "### 数据集\n",
    "\n",
    "本教程使用的数据集是“电影推荐”数据集。在教程中使用的数据集版本存储在一个公共云存储桶中，格式为Avro。\n",
    "\n",
    "该数据集用于预测一个人是否观看电影。"
   ]
  },
  {
   "cell_type": "markdown",
   "metadata": {
    "id": "81c777b8ad32"
   },
   "source": [
    "### 费用\n",
    "此教程使用 Google Cloud 的计费组件：\n",
    "\n",
    "- Vertex AI\n",
    "- 云存储\n",
    "- BigQuery\n",
    "\n",
    "了解 [Vertex AI 价格](https://cloud.google.com/vertex-ai/pricing)、[云存储价格](https://cloud.google.com/storage/pricing) 和 [BigQuery 价格](https://cloud.google.com/bigquery/pricing)，并使用 [定价计算器](https://cloud.google.com/products/calculator/) 根据您的预期使用情况生成费用估算。"
   ]
  },
  {
   "cell_type": "markdown",
   "metadata": {
    "id": "install_mlops"
   },
   "source": [
    "安装以下软件包以进一步运行此笔记本。"
   ]
  },
  {
   "cell_type": "code",
   "execution_count": null,
   "metadata": {
    "id": "install_mlops"
   },
   "outputs": [],
   "source": [
    "import os\n",
    "\n",
    "# The Vertex AI Workbench Notebook product has specific requirements\n",
    "IS_WORKBENCH_NOTEBOOK = os.getenv(\"DL_ANACONDA_HOME\") and not os.getenv(\"VIRTUAL_ENV\")\n",
    "IS_USER_MANAGED_WORKBENCH_NOTEBOOK = os.path.exists(\n",
    "    \"/opt/deeplearning/metadata/env_version\"\n",
    ")\n",
    "\n",
    "# Vertex AI Notebook requires dependencies to be installed with '--user'\n",
    "USER_FLAG = \"\"\n",
    "if IS_WORKBENCH_NOTEBOOK:\n",
    "    USER_FLAG = \"--user\"\n",
    "\n",
    "# Install the dependecies\n",
    "! pip3 install --upgrade google-cloud-aiplatform google-cloud-bigquery pyarrow avro $USER_FLAG -q"
   ]
  },
  {
   "cell_type": "markdown",
   "metadata": {
    "id": "restart"
   },
   "source": [
    "### 重新启动内核\n",
    "\n",
    "安装了额外的包之后，您需要重新启动笔记本内核，以便它可以找到这些包。"
   ]
  },
  {
   "cell_type": "code",
   "execution_count": null,
   "metadata": {
    "id": "restart"
   },
   "outputs": [],
   "source": [
    "import os\n",
    "\n",
    "if not os.getenv(\"IS_TESTING\"):\n",
    "    # Automatically restart kernel after installs\n",
    "    import IPython\n",
    "\n",
    "    app = IPython.Application.instance()\n",
    "    app.kernel.do_shutdown(True)"
   ]
  },
  {
   "cell_type": "markdown",
   "metadata": {
    "id": "project_id"
   },
   "source": [
    "## 开始之前\n",
    "\n",
    "### 设置你的 Google Cloud 项目\n",
    "\n",
    "**无论你使用什么笔记本环境，都需要按照以下步骤进行操作。**\n",
    "\n",
    "1. [选择或创建一个 Google Cloud 项目](https://console.cloud.google.com/cloud-resource-manager)。当你首次创建账号时，你将获得$300的免费信用额度，可用于支付计算/存储成本。\n",
    "\n",
    "1. [确保你的项目已启用计费功能](https://cloud.google.com/billing/docs/how-to/modify-project)。\n",
    "\n",
    "1. [启用 Vertex AI、Compute Engine、Cloud Storage 和 Cloud Logging API](https://console.cloud.google.com/flows/enableapi?apiid=aiplatform.googleapis.com,compute_component,storage_component,logging)。\n",
    "\n",
    "1. 如果你在本地运行这个笔记本，你需要安装 [Cloud SDK](https://cloud.google.com/sdk)。\n",
    "\n",
    "1. 在下面的单元格中输入你的项目 ID。然后运行这个单元格，确保 Cloud SDK 在本笔记本中的所有命令中使用正确的项目。\n",
    "\n",
    "**注意**：Jupyter 运行以 `!` 开头的行作为 shell 命令，并将以 `$` 开头的 Python 变量插入这些命令中。"
   ]
  },
  {
   "cell_type": "markdown",
   "metadata": {
    "id": "project_id"
   },
   "source": [
    "#### 设置您的项目ID\n",
    "\n",
    "**如果您不知道您的项目ID**，您可以尝试使用`gcloud`来获取您的项目ID。"
   ]
  },
  {
   "cell_type": "code",
   "execution_count": null,
   "metadata": {
    "id": "set_project_id"
   },
   "outputs": [],
   "source": [
    "PROJECT_ID = \"[your-project-id]\"  # @param {type:\"string\"}"
   ]
  },
  {
   "cell_type": "code",
   "execution_count": null,
   "metadata": {
    "id": "autoset_project_id"
   },
   "outputs": [],
   "source": [
    "if PROJECT_ID == \"\" or PROJECT_ID is None or PROJECT_ID == \"[your-project-id]\":\n",
    "    # Get your GCP project id from gcloud\n",
    "    shell_output = ! gcloud config list --format 'value(core.project)' 2>/dev/null\n",
    "    PROJECT_ID = shell_output[0]\n",
    "    print(\"Project ID:\", PROJECT_ID)"
   ]
  },
  {
   "cell_type": "code",
   "execution_count": null,
   "metadata": {
    "id": "set_gcloud_project_id"
   },
   "outputs": [],
   "source": [
    "! gcloud config set project $PROJECT_ID"
   ]
  },
  {
   "cell_type": "markdown",
   "metadata": {
    "id": "region"
   },
   "source": [
    "#### 区域\n",
    "\n",
    "您还可以更改“REGION”变量，该变量用于笔记本的其余部分操作。以下是Vertex AI支持的区域。我们建议您选择离您最近的区域。\n",
    "\n",
    "- 美洲: `us-central1`\n",
    "- 欧洲: `europe-west4`\n",
    "- 亚太: `asia-east1`\n",
    "\n",
    "您可能无法使用多区域存储桶进行Vertex AI培训。并非所有区域都支持所有Vertex AI服务。\n",
    "\n",
    "了解更多关于[Vertex AI区域](https://cloud.google.com/vertex-ai/docs/general/locations)。"
   ]
  },
  {
   "cell_type": "code",
   "execution_count": null,
   "metadata": {
    "id": "region"
   },
   "outputs": [],
   "source": [
    "REGION = \"[your-region]\"  # @param {type: \"string\"}\n",
    "\n",
    "if REGION == \"[your-region]\":\n",
    "    REGION = \"us-central1\""
   ]
  },
  {
   "cell_type": "markdown",
   "metadata": {
    "id": "timestamp"
   },
   "source": [
    "时间戳\n",
    "\n",
    "如果您在进行实时教程会话，您可能正在使用共享的测试账户或项目。为了避免用户在创建资源时发生名称冲突，您可以为每个实例会话创建一个时间戳，并将该时间戳附加到您在本教程中创建的资源名称上。"
   ]
  },
  {
   "cell_type": "code",
   "execution_count": null,
   "metadata": {
    "id": "timestamp"
   },
   "outputs": [],
   "source": [
    "from datetime import datetime\n",
    "\n",
    "TIMESTAMP = datetime.now().strftime(\"%Y%m%d%H%M%S\")"
   ]
  },
  {
   "cell_type": "markdown",
   "metadata": {
    "id": "29b110b44457"
   },
   "source": [
    "### 认证您的Google Cloud帐户\n",
    "\n",
    "**如果您正在使用Vertex AI Workbench笔记本**，则您的环境已经经过验证。跳过这一步。\n",
    "\n",
    "**如果您正在使用Colab**，运行下面的单元格，并按照提示进行身份验证，通过oAuth认证您的帐户。\n",
    "\n",
    "**否则**，按照以下步骤操作：\n",
    "\n",
    "在Cloud Console中，转到[创建服务帐号密钥](https://console.cloud.google.com/apis/credentials/serviceaccountkey)页面。\n",
    "\n",
    "1. **点击创建服务帐号**。\n",
    "\n",
    "2. 在**服务帐号名称**字段中输入一个名称，然后点击**创建**。\n",
    "\n",
    "3. 在**将此服务帐号授予项目访问权限**部分，点击角色下拉列表。在过滤框中输入\"Vertex\"，选择**Vertex管理员**。在过滤框中输入\"Storage Object Admin\"，选择**Storage Object Admin**。\n",
    "\n",
    "4. 点击创建。下载包含您密钥的JSON文件到您的本地环境。\n",
    "\n",
    "5. 在下面的单元格中输入您的服务帐号密钥路径作为GOOGLE_APPLICATION_CREDENTIALS变量，然后运行该单元格。"
   ]
  },
  {
   "cell_type": "code",
   "execution_count": null,
   "metadata": {
    "id": "89788a802687"
   },
   "outputs": [],
   "source": [
    "# If you are running this notebook in Colab, run this cell and follow the\n",
    "# instructions to authenticate your GCP account. This provides access to your\n",
    "# Cloud Storage bucket and lets you submit training jobs and prediction\n",
    "# requests.\n",
    "\n",
    "import os\n",
    "import sys\n",
    "\n",
    "# If on Vertex AI Workbench, then don't execute this code\n",
    "IS_COLAB = \"google.colab\" in sys.modules\n",
    "if not os.path.exists(\"/opt/deeplearning/metadata/env_version\") and not os.getenv(\n",
    "    \"DL_ANACONDA_HOME\"\n",
    "):\n",
    "    if \"google.colab\" in sys.modules:\n",
    "        from google.colab import auth as google_auth\n",
    "\n",
    "        google_auth.authenticate_user()\n",
    "\n",
    "    # If you are running this notebook locally, replace the string below with the\n",
    "    # path to your service account key and run this cell to authenticate your GCP\n",
    "    # account.\n",
    "    elif not os.getenv(\"IS_TESTING\"):\n",
    "        %env GOOGLE_APPLICATION_CREDENTIALS ''"
   ]
  },
  {
   "cell_type": "markdown",
   "metadata": {
    "id": "setup_vars"
   },
   "source": [
    "导入库并定义常量"
   ]
  },
  {
   "cell_type": "code",
   "execution_count": null,
   "metadata": {
    "id": "import_aip:mbsdk"
   },
   "outputs": [],
   "source": [
    "import google.cloud.aiplatform as aiplatform\n",
    "from google.cloud import bigquery"
   ]
  },
  {
   "cell_type": "markdown",
   "metadata": {
    "id": "init_bq"
   },
   "source": [
    "初始化Vertex AI和BigQuery客户端。"
   ]
  },
  {
   "cell_type": "code",
   "execution_count": null,
   "metadata": {
    "id": "init_bq"
   },
   "outputs": [],
   "source": [
    "aiplatform.init(project=PROJECT_ID)\n",
    "bqclient = bigquery.Client(project=PROJECT_ID)"
   ]
  },
  {
   "cell_type": "markdown",
   "metadata": {
    "id": "featurestore_intro"
   },
   "source": [
    "## 顶点 AI 特征存储介绍\n",
    "\n",
    "假设您有一个推荐模型，该模型可预测在收银机小票背面打印的优惠券。 现在，如果该模型仅在单个交易实例上进行了训练（购买了什么以及金额），那么（过去）您曾使用 Apriori 算法。\n",
    "\n",
    "但现在我们有客户的历史数据（例如按信用卡号编制索引）。 比如迄今为止的总购买金额、每笔交易平均购买金额、按产品类别购买频率等。 我们使用这些“丰富的数据”来训练推荐系统。\n",
    "\n",
    "现在到了进行实时预测的时候。 您从收银机获得一笔交易，但其中只有信用卡号和此交易。 它没有模型需要的丰富数据。 在提供服务时，信用卡号被用作 Feature Store 的索引，以获取模型所需的丰富数据。\n",
    "\n",
    "另一方面，假设模型训练所用的丰富数据是在 6 月 1 日时间戳上的。 当前交易是从 6 月 15 日。 假设用户在 6 月 1 日至 15 日之间进行了其他交易，并且 Feature Store 中的丰富数据已经不断更新。 但是模型是基于 6 月 1 日的数据进行训练的。 Feature Store 知道版本号，并向模型提供 6 月 1 日版本（而不是当前的 6 月 15 日）。 否则，如果使用 6 月 15 日的数据，将会出现训练与提供的偏差。\n",
    "\n",
    "这里另一个问题是数据漂移。 事物会发生变化，突然有一天，每个人都在购买卫生纸！ 现有丰富数据的分布发生了显着变化，与部署模型训练时的分布不同。 Feature Store 可以检测到分布变化/阈值变化，并触发重新训练模型的通知。\n",
    "\n",
    "了解有关 [顶点 AI 特征存储 API](https://cloud.google.com/vertex-ai/docs/featurestore) 的更多信息。"
   ]
  },
  {
   "cell_type": "markdown",
   "metadata": {
    "id": "featurestore_datamodel:movies"
   },
   "source": [
    "## Vertex AI 特征存储数据模型\n",
    "\n",
    "Vertex AI 特征存储使用以下三个重要的层次概念组织数据：\n",
    "\n",
    "        特征存储 -> 实体类型 -> 特征\n",
    "\n",
    "- `特征存储`：存储特征的地方。\n",
    "- `实体类型`：在一个`特征存储`下，`实体类型`描述了要建模的对象，可以是真实的也可以是虚拟的。\n",
    "- `特征`：在一个`实体类型`下，`特征`描述了`实体类型`的属性。\n",
    "\n",
    "了解更多关于[Vertex AI 特征存储数据模型](https://cloud.google.com/vertex-ai/docs/featurestore/concepts)。\n",
    "\n",
    "在电影预测数据集中，您创建了一个名为movies的`特征存储`资源。这个`特征存储`资源有两个实体类型：\n",
    "- `users`：这个实体类型具有`年龄`、`性别`和`喜欢的流派`属性。\n",
    "- `movies`：这个实体类型具有`流派`和`平均评分`属性。"
   ]
  },
  {
   "cell_type": "markdown",
   "metadata": {
    "id": "featurestore_create"
   },
   "source": [
    "## 创建`Featurestore`资源\n",
    "\n",
    "首先，您可以使用`Featurestore.create()`方法为数据集创建一个`Featurestore`，需要提供以下参数：\n",
    "\n",
    "- `featurestore_id`：特征存储的名称。\n",
    "- `online_store_fixed_node_count`：用于在线服务特征存储的配置设置。\n",
    "- `project`：项目ID。\n",
    "- `location`：地点（地区）。"
   ]
  },
  {
   "cell_type": "code",
   "execution_count": null,
   "metadata": {
    "id": "featurestore_create"
   },
   "outputs": [],
   "source": [
    "# Represents featurestore resource path.\n",
    "FEATURESTORE_NAME = \"movies_\" + TIMESTAMP\n",
    "\n",
    "featurestore = aiplatform.Featurestore.create(\n",
    "    featurestore_id=FEATURESTORE_NAME,\n",
    "    online_store_fixed_node_count=1,\n",
    "    project=PROJECT_ID,\n",
    "    location=REGION,\n",
    ")\n",
    "\n",
    "print(featurestore)"
   ]
  },
  {
   "cell_type": "markdown",
   "metadata": {
    "id": "featurestore_list"
   },
   "source": [
    "### 列出您的“Featurestore”资源\n",
    "\n",
    "您可以使用`Featurestore.list()`方法获取项目中所有`Featurestore`资源的列表。"
   ]
  },
  {
   "cell_type": "code",
   "execution_count": null,
   "metadata": {
    "id": "featurestore_list"
   },
   "outputs": [],
   "source": [
    "for featurestore in aiplatform.Featurestore.list():\n",
    "    print(featurestore)"
   ]
  },
  {
   "cell_type": "markdown",
   "metadata": {
    "id": "featurestore_get"
   },
   "source": [
    "获取`Featurestore`资源\n",
    "\n",
    "您可以使用`Featurestore（）`初始化程序获取项目中指定的`Featurestore`资源，具有以下参数：\n",
    "\n",
    "- `featurestore_name`：`Featurestore`资源的名称。\n",
    "- `project`：项目ID。\n",
    "- `location`：位置（地区）。"
   ]
  },
  {
   "cell_type": "code",
   "execution_count": null,
   "metadata": {
    "id": "featurestore_get"
   },
   "outputs": [],
   "source": [
    "featurestore = featurestore = aiplatform.Featurestore(\n",
    "    featurestore_name=FEATURESTORE_NAME, project=PROJECT_ID, location=REGION\n",
    ")\n",
    "print(featurestore)"
   ]
  },
  {
   "cell_type": "markdown",
   "metadata": {
    "id": "featurestore_create:entity_type"
   },
   "source": [
    "为您的“Featurestore”资源创建实体类型\n",
    "\n",
    "接下来，您可以使用“create_entity_type()”方法为您的“Featurestore”资源创建“EntityType”资源，使用以下参数：\n",
    "\n",
    "- “entity_type_id”：实体类型资源的名称。\n",
    "- “description”：实体类型的描述。"
   ]
  },
  {
   "cell_type": "code",
   "execution_count": null,
   "metadata": {
    "id": "featurestore_create:entity_type"
   },
   "outputs": [],
   "source": [
    "for name, description in [(\"users\", \"Users descrip\"), (\"movies\", \"Movies descrip\")]:\n",
    "    entity_type = featurestore.create_entity_type(\n",
    "        entity_type_id=name, description=description\n",
    "    )\n",
    "    print(entity_type)"
   ]
  },
  {
   "cell_type": "markdown",
   "metadata": {
    "id": "featurestore_create:feature"
   },
   "source": [
    "### 为您的`EntityType`资源添加`Feature`资源\n",
    "\n",
    "接下来，您可以使用`create_feature()`方法为您的`Featurestore`资源中的每个`EntityType`资源创建`Feature`资源，使用以下参数：\n",
    "\n",
    "- `feature_id`：`Feature`资源的名称。\n",
    "- `description`：对该特征的描述。\n",
    "- `value_type`：该特征的数据类型。"
   ]
  },
  {
   "cell_type": "code",
   "execution_count": null,
   "metadata": {
    "id": "featurestore_create:feature,movies"
   },
   "outputs": [],
   "source": [
    "def create_features(featurestore_name, entity_name, features):\n",
    "    entity_type = aiplatform.EntityType(\n",
    "        entity_type_name=entity_name, featurestore_id=featurestore_name\n",
    "    )\n",
    "\n",
    "    for feature in features:\n",
    "        feature = entity_type.create_feature(\n",
    "            feature_id=feature[0], description=feature[1], value_type=feature[2]\n",
    "        )\n",
    "        print(feature)\n",
    "\n",
    "\n",
    "create_features(\n",
    "    FEATURESTORE_NAME,\n",
    "    \"users\",\n",
    "    [\n",
    "        (\"age\", \"Age descrip\", \"INT64\"),\n",
    "        (\"gender\", \"Gender descrip\", \"STRING\"),\n",
    "        (\"liked_genres\", \"Genres descrip\", \"STRING_ARRAY\"),\n",
    "    ],\n",
    ")\n",
    "\n",
    "create_features(\n",
    "    FEATURESTORE_NAME,\n",
    "    \"movies\",\n",
    "    [\n",
    "        (\"title\", \"Title descrip\", \"STRING\"),\n",
    "        (\"genres\", \"Genres descrip\", \"STRING\"),\n",
    "        (\"average_rating\", \"Ave descrip\", \"DOUBLE\"),\n",
    "    ],\n",
    ")"
   ]
  },
  {
   "cell_type": "markdown",
   "metadata": {
    "id": "featurestore_list"
   },
   "source": [
    "### 列出您的 `Featurestore` 资源\n",
    "\n",
    "您可以使用 `Featurestore.list()` 方法获取您项目中所有 `Featurestore` 资源的列表。"
   ]
  },
  {
   "cell_type": "code",
   "execution_count": null,
   "metadata": {
    "id": "featurestore_list"
   },
   "outputs": [],
   "source": [
    "for featurestore in aiplatform.Featurestore.list():\n",
    "    print(featurestore)"
   ]
  },
  {
   "cell_type": "markdown",
   "metadata": {
    "id": "featurestore_list:filter"
   },
   "source": [
    "### 使用过滤器搜索 `特征` 资源\n",
    "\n",
    "您可以通过使用 `list_features()` 方法并指定一个 `filter` 字符串来缩小对 `特征` 资源的搜索范围。"
   ]
  },
  {
   "cell_type": "code",
   "execution_count": null,
   "metadata": {
    "id": "featurestore_list:filter"
   },
   "outputs": [],
   "source": [
    "# Search by data type\n",
    "features = []\n",
    "for entity_type in featurestore.list_entity_types():\n",
    "    features += entity_type.list_features(filter=\"value_type=DOUBLE\")\n",
    "print(\"By data type\")\n",
    "for feature in features:\n",
    "    print(features)\n",
    "\n",
    "# Search by data type\n",
    "features = []\n",
    "for entity_type in featurestore.list_entity_types():\n",
    "    _ = entity_type.list_features()\n",
    "    for feature in _:\n",
    "        if feature.name == \"title\":\n",
    "            print(type(feature))\n",
    "            features += [feature]\n",
    "\n",
    "print(\"By Name\")\n",
    "for feature in features:\n",
    "    print(features)"
   ]
  },
  {
   "cell_type": "markdown",
   "metadata": {
    "id": "featurestore_search:query"
   },
   "source": [
    "### 使用查询搜索“功能”资源\n",
    "\n",
    "您可以使用`search()`方法并指定`query`过滤器来缩小对“功能”资源的搜索范围。"
   ]
  },
  {
   "cell_type": "code",
   "execution_count": null,
   "metadata": {
    "id": "featurestore_search:query"
   },
   "outputs": [],
   "source": [
    "features = aiplatform.Feature.search(query=\"value_type=DOUBLE\")\n",
    "print(\"By data type\")\n",
    "for feature in features:\n",
    "    print(features)\n",
    "\n",
    "aiplatform.Feature.search(query=\"feature_id=title\")\n",
    "print(\"By Name\")\n",
    "for feature in features:\n",
    "    print(features)"
   ]
  },
  {
   "cell_type": "markdown",
   "metadata": {
    "id": "277e9884cf37"
   },
   "source": [
    "定义通往特征数据的路径。"
   ]
  },
  {
   "cell_type": "code",
   "execution_count": null,
   "metadata": {
    "id": "import_file:movies,lbn,avro"
   },
   "outputs": [],
   "source": [
    "IMPORT_FILE = (\n",
    "    \"gs://cloud-samples-data/vertex-ai/feature-store/datasets/movie_prediction.csv\"\n",
    ")\n",
    "FS_ENTITIES = {\n",
    "    \"users\": \"gs://cloud-samples-data/vertex-ai/feature-store/datasets/users.avro\",\n",
    "    \"movies\": \"gs://cloud-samples-data-us-central1/vertex-ai/feature-store/datasets/movies.avro\",\n",
    "}"
   ]
  },
  {
   "cell_type": "markdown",
   "metadata": {
    "id": "featurestore_import:movies,avro"
   },
   "source": [
    "## 将特征数据导入到您的`Featurestore`资源\n",
    "\n",
    "接下来，您将导入您的`Featurestore`资源的特征数据。一旦导入，您可以在在线和离线（批量）服务中使用这些特征值。\n",
    "\n",
    "### 数据布局\n",
    "\n",
    "每个导入的`EntityType`资源数据必须具有ID。此外，每个`EntityType`资源数据项可以选择性地具有一个时间戳，指定生成特征值的时间。\n",
    "\n",
    "在导入时，在您的请求中指定以下内容：\n",
    "\n",
    "- 数据源格式：BigQuery表/Avro/CSV/Pandas Dataframe\n",
    "- 数据源URL\n",
    "- 目的地：要导入的特征存储/实体类型/特征\n",
    "\n",
    "`电影推荐`数据集的特征值以Avro格式存储。Avro模式如下：\n",
    "\n",
    "**用户实体**：\n",
    "\n",
    "```\n",
    "schema = {\n",
    "  \"type\": \"record\",\n",
    "  \"name\": \"User\",\n",
    "  \"fields\": [\n",
    "      {\n",
    "       \"name\":\"user_id\",\n",
    "       \"type\":[\"null\",\"string\"]\n",
    "      },\n",
    "      {\n",
    "       \"name\":\"age\",\n",
    "       \"type\":[\"null\",\"long\"]\n",
    "      },\n",
    "      {\n",
    "       \"name\":\"gender\",\n",
    "       \"type\":[\"null\",\"string\"]\n",
    "      },\n",
    "      {\n",
    "       \"name\":\"liked_genres\",\n",
    "       \"type\":{\"type\":\"array\",\"items\":\"string\"}\n",
    "      },\n",
    "      {\n",
    "       \"name\":\"update_time\",\n",
    "       \"type\":[\"null\",{\"type\":\"long\",\"logicalType\":\"timestamp-micros\"}]\n",
    "      },\n",
    "  ]\n",
    " }\n",
    " ```\n",
    "\n",
    "**电影实体**：\n",
    "\n",
    "```\n",
    "schema = {\n",
    " \"type\": \"record\",\n",
    " \"name\": \"Movie\",\n",
    " \"fields\": [\n",
    "     {\n",
    "      \"name\":\"movie_id\",\n",
    "      \"type\":[\"null\",\"string\"]\n",
    "     },\n",
    "     {\n",
    "      \"name\":\"average_rating\",\n",
    "      \"type\":[\"null\",\"double\"]\n",
    "     },\n",
    "     {\n",
    "      \"name\":\"title\",\n",
    "      \"type\":[\"null\",\"string\"]\n",
    "     },\n",
    "     {\n",
    "      \"name\":\"genres\",\n",
    "      \"type\":[\"null\",\"string\"]\n",
    "     },\n",
    "     {\n",
    "      \"name\":\"update_time\",\n",
    "      \"type\":[\"null\",{\"type\":\"long\",\"logicalType\":\"timestamp-micros\"}]\n",
    "     },\n",
    " ]\n",
    "}\n",
    "```\n",
    "\n",
    "### 从云存储导入特征值\n",
    "\n",
    "您可以使用`ingest_from_gcs()`方法导入`EntityType`资源的特征值，参数如下：\n",
    "\n",
    "- `entity_id_field`：父`EntityType`资源的标识名称。\n",
    "- `feature_ids`：要添加到`EntityType`资源的`Feature`资源数据的标识名称列表。\n",
    "- `feature_time`：对应于要输入的特征的时间戳字段。\n",
    "- `gcs_source_type`：导入数据的格式。必须为CSV或Avro。\n",
    "- `gcs_source_uris`：导入数据文件的一个或多个云存储位置的列表。"
   ]
  },
  {
   "cell_type": "code",
   "execution_count": null,
   "metadata": {
    "id": "featurestore_import:movies,avro"
   },
   "outputs": [],
   "source": [
    "entity_type = featurestore.get_entity_type(\"users\")\n",
    "response = entity_type.ingest_from_gcs(\n",
    "    entity_id_field=\"user_id\",\n",
    "    feature_ids=[\"age\", \"gender\", \"liked_genres\"],\n",
    "    feature_time=\"update_time\",\n",
    "    gcs_source_type=\"avro\",\n",
    "    gcs_source_uris=[FS_ENTITIES[\"users\"]],\n",
    ")\n",
    "print(response)\n",
    "\n",
    "entity_type = featurestore.get_entity_type(\"movies\")\n",
    "response = entity_type.ingest_from_gcs(\n",
    "    entity_id_field=\"movie_id\",\n",
    "    feature_ids=[\"title\", \"genres\", \"average_rating\"],\n",
    "    feature_time=\"update_time\",\n",
    "    gcs_source_type=\"avro\",\n",
    "    gcs_source_uris=[FS_ENTITIES[\"movies\"]],\n",
    ")\n",
    "print(response)"
   ]
  },
  {
   "cell_type": "markdown",
   "metadata": {
    "id": "featurestore_delete_entities:movies"
   },
   "source": [
    "#### 删除实体类型及其对应的特征和特征值\n",
    "\n",
    "现在，为了准备重复导入特征值的过程，但这次是从数据框中导入，您需要删除现有的实体类型及其对应的内容。"
   ]
  },
  {
   "cell_type": "code",
   "execution_count": null,
   "metadata": {
    "id": "featurestore_delete_entities:movies"
   },
   "outputs": [],
   "source": [
    "entity_type = featurestore.get_entity_type(\"users\")\n",
    "entity_type.delete(force=True)\n",
    "entity_type = featurestore.get_entity_type(\"movies\")\n",
    "entity_type.delete(force=True)"
   ]
  },
  {
   "cell_type": "markdown",
   "metadata": {
    "id": "featurestore_create:entity_type"
   },
   "source": [
    "## 为您的 `Featurestore` 资源创建实体类型\n",
    "\n",
    "接下来，您可以再次使用 `create_entity_type()` 方法为您的 `Featurestore` 资源创建 `EntityType` 资源，具体参数如下：\n",
    "\n",
    "- `entity_type_id`：`EntityType` 资源的名称。\n",
    "- `description`：实体类型的描述。"
   ]
  },
  {
   "cell_type": "code",
   "execution_count": null,
   "metadata": {
    "id": "featurestore_create:entity_type"
   },
   "outputs": [],
   "source": [
    "for name, description in [(\"users\", \"Users descrip\"), (\"movies\", \"Movies descrip\")]:\n",
    "    entity_type = featurestore.create_entity_type(\n",
    "        entity_type_id=name, description=description\n",
    "    )\n",
    "    print(entity_type)"
   ]
  },
  {
   "cell_type": "markdown",
   "metadata": {
    "id": "featurestore_create:feature"
   },
   "source": [
    "### 为您的`EntityType`资源添加`Feature`资源\n",
    "\n",
    "此外，您可以使用`create_feature()`方法为您的`Featurestore`资源中的每个`EntityType`资源再次创建`Feature`资源，具有以下参数：\n",
    "\n",
    "- `feature_id`：`Feature`资源的名称。\n",
    "- `description`：特征的描述。\n",
    "- `value_type`：特征的数据类型。"
   ]
  },
  {
   "cell_type": "code",
   "execution_count": null,
   "metadata": {
    "id": "featurestore_create:feature,movies"
   },
   "outputs": [],
   "source": [
    "def create_features(featurestore_name, entity_name, features):\n",
    "    entity_type = aiplatform.EntityType(\n",
    "        entity_type_name=entity_name, featurestore_id=featurestore_name\n",
    "    )\n",
    "\n",
    "    for feature in features:\n",
    "        feature = entity_type.create_feature(\n",
    "            feature_id=feature[0], description=feature[1], value_type=feature[2]\n",
    "        )\n",
    "        print(feature)\n",
    "\n",
    "\n",
    "create_features(\n",
    "    FEATURESTORE_NAME,\n",
    "    \"users\",\n",
    "    [\n",
    "        (\"age\", \"Age descrip\", \"INT64\"),\n",
    "        (\"gender\", \"Gender descrip\", \"STRING\"),\n",
    "        (\"liked_genres\", \"Genres descrip\", \"STRING_ARRAY\"),\n",
    "    ],\n",
    ")\n",
    "\n",
    "create_features(\n",
    "    FEATURESTORE_NAME,\n",
    "    \"movies\",\n",
    "    [\n",
    "        (\"title\", \"Title descrip\", \"STRING\"),\n",
    "        (\"genres\", \"Genres descrip\", \"STRING\"),\n",
    "        (\"average_rating\", \"Ave descrip\", \"DOUBLE\"),\n",
    "    ],\n",
    ")"
   ]
  },
  {
   "cell_type": "markdown",
   "metadata": {
    "id": "8715a3f719c8"
   },
   "source": [
    "现在，将`users`和`movies`数据复制到avro文件中。"
   ]
  },
  {
   "cell_type": "code",
   "execution_count": null,
   "metadata": {
    "id": "import_file:movies,lbn,df"
   },
   "outputs": [],
   "source": [
    "GCS_USERS_AVRO_URI = FS_ENTITIES[\"users\"]\n",
    "GCS_MOVIES_AVRO_URI = FS_ENTITIES[\"movies\"]\n",
    "\n",
    "USERS_AVRO_FN = \"users.avro\"\n",
    "MOVIES_AVRO_FN = \"movies.avro\"\n",
    "\n",
    "! gsutil cp $GCS_USERS_AVRO_URI $USERS_AVRO_FN\n",
    "! gsutil cp $GCS_MOVIES_AVRO_URI $MOVIES_AVRO_FN"
   ]
  },
  {
   "cell_type": "markdown",
   "metadata": {
    "id": "load_df_from_avro"
   },
   "source": [
    "将Avro文件加载到pandas DataFrames中"
   ]
  },
  {
   "cell_type": "code",
   "execution_count": null,
   "metadata": {
    "id": "load_df_from_avro"
   },
   "outputs": [],
   "source": [
    "from avro.datafile import DataFileReader\n",
    "from avro.io import DatumReader\n",
    "\n",
    "\n",
    "class AvroReader:\n",
    "    def __init__(self, data_file):\n",
    "        self.avro_reader = DataFileReader(open(data_file, \"rb\"), DatumReader())\n",
    "\n",
    "    def to_dataframe(self):\n",
    "        records = [record for record in self.avro_reader]\n",
    "        return pd.DataFrame.from_records(data=records)\n",
    "\n",
    "\n",
    "import pandas as pd\n",
    "\n",
    "users_avro_reader = AvroReader(data_file=USERS_AVRO_FN)\n",
    "users_source_df = users_avro_reader.to_dataframe()\n",
    "print(users_source_df)\n",
    "\n",
    "movies_avro_reader = AvroReader(data_file=MOVIES_AVRO_FN)\n",
    "movies_source_df = movies_avro_reader.to_dataframe()\n",
    "print(movies_source_df)"
   ]
  },
  {
   "cell_type": "markdown",
   "metadata": {
    "id": "featurestore_import:movies,df"
   },
   "source": [
    "### 从DataFrame导入特征值\n",
    "\n",
    "您可以使用 `ingest_from_df()` 方法导入 `EntityType` 资源的特征值，需要使用以下参数：\n",
    "\n",
    "- `entity_id_field`：父级 `EntityType` 资源的标识符名称。\n",
    "- `feature_ids`：要添加到 `EntityType` 资源中的 `Feature` 资源数据的标识符名称列表。\n",
    "- `feature_time`：与正在输入的特征时间戳对应的字段。\n",
    "- `df_source`：包含导入特征值的DataFrame。"
   ]
  },
  {
   "cell_type": "code",
   "execution_count": null,
   "metadata": {
    "id": "featurestore_import:movies,df"
   },
   "outputs": [],
   "source": [
    "entity_type = featurestore.get_entity_type(\"users\")\n",
    "entity_type.ingest_from_df(\n",
    "    feature_ids=[\"age\", \"gender\", \"liked_genres\"],\n",
    "    feature_time=\"update_time\",\n",
    "    df_source=users_source_df,\n",
    "    entity_id_field=\"user_id\",\n",
    ")\n",
    "\n",
    "entity_type = featurestore.get_entity_type(\"movies\")\n",
    "entity_type.ingest_from_df(\n",
    "    feature_ids=[\"average_rating\", \"title\", \"genres\"],\n",
    "    feature_time=\"update_time\",\n",
    "    df_source=movies_source_df,\n",
    "    entity_id_field=\"movie_id\",\n",
    ")"
   ]
  },
  {
   "cell_type": "markdown",
   "metadata": {
    "id": "featurestore_serving"
   },
   "source": [
    "Vertex AI功能存储服务\n",
    "\n",
    "Vertex AI功能存储服务为`Featurestore`资源提供以下两项服务：\n",
    "\n",
    "- 在线服务 - 低延迟提供小批量功能（预测）。\n",
    "\n",
    "- 批处理服务 - 高吞吐量提供大批量功能（训练和预测）。"
   ]
  },
  {
   "cell_type": "code",
   "execution_count": null,
   "metadata": {
    "id": "featurestore_serving:online,movies"
   },
   "outputs": [],
   "source": [
    "def serve_features(featurestore, entity_name, features, id):\n",
    "    entity_type = featurestore.get_entity_type(entity_name)\n",
    "    return entity_type.read(entity_ids=[id], feature_ids=features)\n",
    "\n",
    "\n",
    "features = serve_features(\n",
    "    featurestore, \"users\", [\"age\", \"gender\", \"liked_genres\"], \"alice\"\n",
    ")\n",
    "print(features)"
   ]
  },
  {
   "cell_type": "markdown",
   "metadata": {
    "id": "featurestore_serving:batch"
   },
   "source": [
    "批量服务\n",
    "\n",
    "Vertex AI Feature Store的批处理服务针对以高吞吐量实时提供大批量特征而进行了优化，通常用于训练模型或批量预测。\n",
    "\n",
    "可以批量提供到以下目的地：\n",
    "\n",
    "- BigQuery表\n",
    "- 云存储位置\n",
    "- Dataframe"
   ]
  },
  {
   "cell_type": "markdown",
   "metadata": {
    "id": "featurestore_serving:batch,output,movies"
   },
   "source": [
    "### 输出数据集\n",
    "\n",
    "对于批量服务，您可以使用BigQuery表作为输出。首先，您必须创建这个输出目标表。"
   ]
  },
  {
   "cell_type": "code",
   "execution_count": null,
   "metadata": {
    "id": "featurestore_serving:batch,output,movies"
   },
   "outputs": [],
   "source": [
    "# Output dataset\n",
    "DESTINATION_DATASET = f\"movies_predictions_{TIMESTAMP}\"\n",
    "\n",
    "# Output table.\n",
    "DESTINATION_TABLE = \"training_data\"  # @param {type:\"string\"}\n",
    "\n",
    "DESTINATION_TABLE_URI = f\"bq://{PROJECT_ID}.{DESTINATION_DATASET}.{DESTINATION_TABLE}\"\n",
    "\n",
    "dataset_id = f\"{PROJECT_ID}.{DESTINATION_DATASET}\"\n",
    "dataset = bigquery.Dataset(dataset_id)\n",
    "dataset = bqclient.create_dataset(dataset)\n",
    "print(\"Created dataset:\", dataset_id)"
   ]
  },
  {
   "cell_type": "markdown",
   "metadata": {
    "id": "featurestore_serving:batch,read,movies"
   },
   "source": [
    "批量读取特征数值\n",
    "\n",
    "您可以使用`read_serve_to_bq()`方法批量将实体数据项提供给BigQuery表，具有以下参数：\n",
    "\n",
    "- `bq_destination_output_uri`：接收提供特征的目标BigQuery表。\n",
    "- `serving_feature_ids`：要提供的实体类型和对应的特征字典。\n",
    "- `read_instances_uri`：从Cloud Storage位置读取实体数据项。\n",
    "\n",
    "输出存储在一个BigQuery表中。"
   ]
  },
  {
   "cell_type": "code",
   "execution_count": null,
   "metadata": {
    "id": "featurestore_serving:batch,read,movies"
   },
   "outputs": [],
   "source": [
    "response = featurestore.batch_serve_to_bq(\n",
    "    bq_destination_output_uri=DESTINATION_TABLE_URI,\n",
    "    serving_feature_ids={\n",
    "        \"users\": [\"age\", \"gender\", \"liked_genres\"],\n",
    "        \"movies\": [\"average_rating\", \"genres\"],\n",
    "    },\n",
    "    read_instances_uri=IMPORT_FILE,\n",
    ")\n",
    "\n",
    "print(response)"
   ]
  },
  {
   "cell_type": "markdown",
   "metadata": {
    "id": "delete_bq_dataset"
   },
   "source": [
    "## 清理\n",
    "### 删除一个BigQuery数据集\n",
    "\n",
    "使用`delete_dataset()`方法来删除一个BigQuery数据集以及其中所有的表，可以通过将参数`delete_contents`设置为`True`来实现。"
   ]
  },
  {
   "cell_type": "code",
   "execution_count": null,
   "metadata": {
    "id": "delete_bq_dataset"
   },
   "outputs": [],
   "source": [
    "bqclient.delete_dataset(dataset, delete_contents=True)"
   ]
  },
  {
   "cell_type": "markdown",
   "metadata": {
    "id": "featurestore_delete"
   },
   "source": [
    "### 删除`Featurestore`资源\n",
    "\n",
    "您可以使用`delete()`方法删除指定的`Featurestore`资源，使用以下参数：\n",
    "\n",
    "- `force`: 一个标识是否删除非空`Featurestore`资源的标志。"
   ]
  },
  {
   "cell_type": "code",
   "execution_count": null,
   "metadata": {
    "id": "featurestore_delete"
   },
   "outputs": [],
   "source": [
    "featurestore.delete(force=True)"
   ]
  }
 ],
 "metadata": {
  "colab": {
   "name": "get_started_vertex_feature_store.ipynb",
   "toc_visible": true
  },
  "kernelspec": {
   "display_name": "Python 3",
   "name": "python3"
  }
 },
 "nbformat": 4,
 "nbformat_minor": 0
}
