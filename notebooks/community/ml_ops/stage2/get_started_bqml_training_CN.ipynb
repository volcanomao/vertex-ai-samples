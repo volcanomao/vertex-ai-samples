{
 "cells": [
  {
   "cell_type": "code",
   "execution_count": null,
   "metadata": {
    "id": "copyright"
   },
   "outputs": [],
   "source": [
    "# Copyright 2022 Google LLC\n",
    "#\n",
    "# Licensed under the Apache License, Version 2.0 (the \"License\");\n",
    "# you may not use this file except in compliance with the License.\n",
    "# You may obtain a copy of the License at\n",
    "#\n",
    "#     https://www.apache.org/licenses/LICENSE-2.0\n",
    "#\n",
    "# Unless required by applicable law or agreed to in writing, software\n",
    "# distributed under the License is distributed on an \"AS IS\" BASIS,\n",
    "# WITHOUT WARRANTIES OR CONDITIONS OF ANY KIND, either express or implied.\n",
    "# See the License for the specific language governing permissions and\n",
    "# limitations under the License."
   ]
  },
  {
   "cell_type": "markdown",
   "metadata": {
    "id": "title:generic,gcp"
   },
   "source": [
    "# GCP上的端到端机器学习：MLOps阶段2：实验：开始使用BigQuery ML训练\n",
    "\n",
    "<table align=\"left\">\n",
    "  <td>\n",
    "    <a href=\"https://github.com/GoogleCloudPlatform/vertex-ai-samples/blob/main/notebooks/community/ml_ops/stage2/get_started_bqml_training.ipynb\">\n",
    "      <img src=\"https://cloud.google.com/ml-engine/images/github-logo-32px.png\" alt=\"GitHub logo\">\n",
    "      在GitHub上查看\n",
    "    </a>\n",
    "  </td>\n",
    "    <td>\n",
    "        <a href=\"https://colab.research.google.com/github/GoogleCloudPlatform/vertex-ai-samples/blob/main/notebooks/community/ml_ops/stage2/get_started_bqml_training.ipynb\">\n",
    "        <img src=\"https://cloud.google.com/ml-engine/images/colab-logo-32px.png\" alt=\"Colab logo\"> 在Colab上运行\n",
    "        </a>\n",
    "  </td>\n",
    "  <td>\n",
    "    <a href=\"https://console.cloud.google.com/vertex-ai/workbench/deploy-notebook?download_url=https://raw.githubusercontent.com/GoogleCloudPlatform/vertex-ai-samples/main/notebooks/community/ml_ops/stage2/get_started_bqml_training.ipynb\">\n",
    "      <img src=\"https://lh3.googleusercontent.com/UiNooY4LUgW_oTvpsNhPpQzsstV5W8F7rYgxgGBD85cWJoLmrOzhVs_ksK_vgx40SHs7jCqkTkCk=e14-rj-sc0xffffff-h130-w32\" alt=\"Vertex AI logo\">\n",
    "      在Vertex AI Workbench中打开\n",
    "    </a>\n",
    "  </td>\n",
    "</table>\n",
    "<br/><br/><br/>"
   ]
  },
  {
   "cell_type": "markdown",
   "metadata": {
    "id": "overview:mlops"
   },
   "source": [
    "## 概览\n",
    "\n",
    "本教程演示了如何在Google Cloud上使用Vertex AI进行端到端的MLOps生产。本教程涵盖了阶段2：实验阶段：开始使用BigQuery ML进行训练。"
   ]
  },
  {
   "cell_type": "markdown",
   "metadata": {
    "id": "objective:mlops,stage2,get_started_bqml_training"
   },
   "source": [
    "### 目标\n",
    "\n",
    "在本教程中，您将学习如何使用`Vertex AI`进行`BigQueryML`训练。\n",
    "\n",
    "此教程使用以下谷歌云机器学习服务：\n",
    "\n",
    "- `BigQueryML 训练`\n",
    "- `Vertex AI 模型资源`\n",
    "- `Vertex AI Vizier`\n",
    "\n",
    "执行的步骤包括：\n",
    "\n",
    "- 在您的项目中创建一个本地的 BigQuery 表\n",
    "- 训练一个 BigQuery ML 模型\n",
    "- 评估 BigQuery ML 模型\n",
    "- 将 BigQuery ML 模型导出为云模型\n",
    "- 将导出的模型上传为`Vertex AI 模型`资源\n",
    "- 使用`Vertex AI Vizier`对 BigQuery ML 模型进行超参数调整\n",
    "- 将一个 BigQuery ML 模型自动注册到`Vertex AI 模型注册表`中"
   ]
  },
  {
   "cell_type": "markdown",
   "metadata": {
    "id": "dataset:penguins,lcn,bq"
   },
   "source": [
    "数据集\n",
    "\n",
    "本教程使用的数据集是来自[BigQuery公共数据集](https://cloud.google.com/bigquery/public-data)的企鹅数据集。这个版本的数据集用于根据可用特征（如喙长、鳍深等）预测企鹅的物种。"
   ]
  },
  {
   "cell_type": "markdown",
   "metadata": {
    "id": "81c777b8ad32"
   },
   "source": [
    "### 费用\n",
    "本教程使用 Google Cloud 的计费组件：\n",
    "\n",
    "- Vertex AI\n",
    "- Cloud Storage\n",
    "- BigQuery\n",
    "\n",
    "了解 [Vertex AI 价格](https://cloud.google.com/vertex-ai/pricing)、[Cloud Storage 价格](https://cloud.google.com/storage/pricing) 和 [BigQuery 价格](https://cloud.google.com/bigquery/pricing)，并使用 [定价计算器](https://cloud.google.com/products/calculator/) 根据您的预期使用量生成费用估算。"
   ]
  },
  {
   "cell_type": "markdown",
   "metadata": {
    "id": "install_mlops"
   },
   "source": [
    "## 安装\n",
    "\n",
    "安装以下软件包以执行这个笔记本。"
   ]
  },
  {
   "cell_type": "code",
   "execution_count": null,
   "metadata": {
    "id": "install_mlops"
   },
   "outputs": [],
   "source": [
    "import os\n",
    "\n",
    "# The Vertex AI Workbench Notebook product has specific requirements\n",
    "IS_WORKBENCH_NOTEBOOK = os.getenv(\"DL_ANACONDA_HOME\") and not os.getenv(\"VIRTUAL_ENV\")\n",
    "IS_USER_MANAGED_WORKBENCH_NOTEBOOK = os.path.exists(\"/opt/deeplearning/metadata/env_version\")\n",
    "\n",
    "# Vertex AI Notebook requires dependencies to be installed with '--user'\n",
    "USER_FLAG = \"\"\n",
    "if IS_WORKBENCH_NOTEBOOK:\n",
    "    USER_FLAG = \"--user\"\n",
    "\n",
    "# Install the packages\n",
    "! pip3 install --upgrade pyarrow \\\n",
    "                        google-cloud-aiplatform \\\n",
    "                        google-cloud-bigquery \\\n",
    "                        google-cloud-bigquery-storage $USER_FLAG -q"
   ]
  },
  {
   "cell_type": "markdown",
   "metadata": {
    "id": "restart"
   },
   "source": [
    "### 重新启动内核\n",
    "\n",
    "安装了额外的包后，您需要重新启动笔记本内核，以便它可以找到这些包。"
   ]
  },
  {
   "cell_type": "code",
   "execution_count": null,
   "metadata": {
    "id": "restart"
   },
   "outputs": [],
   "source": [
    "import os\n",
    "\n",
    "if not os.getenv(\"IS_TESTING\"):\n",
    "    # Automatically restart kernel after installs\n",
    "    import IPython\n",
    "\n",
    "    app = IPython.Application.instance()\n",
    "    app.kernel.do_shutdown(True)"
   ]
  },
  {
   "cell_type": "markdown",
   "metadata": {
    "id": "project_id"
   },
   "source": [
    "## 开始之前\n",
    "\n",
    "### 设置您的谷歌云项目\n",
    "\n",
    "**无论您使用什么笔记本环境，以下步骤都是必须的。**\n",
    "\n",
    "1. [选择或创建一个谷歌云项目](https://console.cloud.google.com/cloud-resource-manager)。当您第一次创建帐户时，您将获得$300的免费信用用于计算/存储成本。\n",
    "\n",
    "1. [确保为您的项目启用了计费](https://cloud.google.com/billing/docs/how-to/modify-project)。\n",
    "\n",
    "1. [启用Vertex AI，BigQuery，Compute Engine和Cloud Storage API](https://console.cloud.google.com/flows/enableapi?apiid=aiplatform.googleapis.com,bigquery,compute_component,storage_component)。\n",
    "\n",
    "1. 如果您在本地运行此笔记本，您需要安装[Cloud SDK](https://cloud.google.com/sdk)。\n",
    "\n",
    "1. 在下面的单元格中输入您的项目ID。然后运行该单元格，确保Cloud SDK在本笔记本中的所有命令中使用正确的项目。\n",
    "\n",
    "**注意**：Jupyter运行以`!`为前缀的行作为shell命令，并将以`$`为前缀的Python变量插值到这些命令中。"
   ]
  },
  {
   "cell_type": "markdown",
   "metadata": {
    "id": "56d591439df1"
   },
   "source": [
    "设置您的项目ID\n",
    "\n",
    "**如果您不知道您的项目ID**，您可以使用`gcloud`获取您的项目ID。"
   ]
  },
  {
   "cell_type": "code",
   "execution_count": null,
   "metadata": {
    "id": "set_project_id"
   },
   "outputs": [],
   "source": [
    "PROJECT_ID = \"[your-project-id]\"  # @param {type:\"string\"}"
   ]
  },
  {
   "cell_type": "code",
   "execution_count": null,
   "metadata": {
    "id": "autoset_project_id"
   },
   "outputs": [],
   "source": [
    "if PROJECT_ID == \"\" or PROJECT_ID is None or PROJECT_ID == \"[your-project-id]\":\n",
    "    # Get your GCP project id from gcloud\n",
    "    shell_output = ! gcloud config list --format 'value(core.project)' 2>/dev/null\n",
    "    PROJECT_ID = shell_output[0]\n",
    "    print(\"Project ID:\", PROJECT_ID)"
   ]
  },
  {
   "cell_type": "code",
   "execution_count": null,
   "metadata": {
    "id": "set_gcloud_project_id"
   },
   "outputs": [],
   "source": [
    "! gcloud config set project $PROJECT_ID"
   ]
  },
  {
   "cell_type": "markdown",
   "metadata": {
    "id": "region"
   },
   "source": [
    "区域\n",
    "\n",
    "您还可以更改 `REGION` 变量，该变量用于本笔记本的其余操作。以下是支持 Vertex AI 的区域。我们建议您选择离您最近的区域。\n",
    "\n",
    "- 美洲：`us-central1`\n",
    "- 欧洲：`europe-west4`\n",
    "- 亚太地区：`asia-east1`\n",
    "\n",
    "您不能在 Vertex AI 中使用多区域存储桶进行训练。并非所有区域都支持所有 Vertex AI 服务。\n",
    "\n",
    "了解有关[Vertex AI 区域](https://cloud.google.com/vertex-ai/docs/general/locations)的更多信息。"
   ]
  },
  {
   "cell_type": "code",
   "execution_count": null,
   "metadata": {
    "id": "region"
   },
   "outputs": [],
   "source": [
    "REGION = \"[your-region]\"  # @param {type: \"string\"}\n",
    "\n",
    "if REGION == \"[your-region]\":\n",
    "    REGION = \"us-central1\""
   ]
  },
  {
   "cell_type": "markdown",
   "metadata": {
    "id": "timestamp"
   },
   "source": [
    "时间戳\n",
    "\n",
    "如果您处于直播教程会话中，您可能正在使用共享的测试账户或项目。为了避免用户在创建的资源中发生名称冲突，您可以为每个实例会话创建一个时间戳，并将其附加到您在此教程中创建的资源名称上。"
   ]
  },
  {
   "cell_type": "code",
   "execution_count": null,
   "metadata": {
    "id": "timestamp"
   },
   "outputs": [],
   "source": [
    "from datetime import datetime\n",
    "\n",
    "TIMESTAMP = datetime.now().strftime(\"%Y%m%d%H%M%S\")"
   ]
  },
  {
   "cell_type": "markdown",
   "metadata": {
    "id": "f3bd8c0d0469"
   },
   "source": [
    "### 验证您的谷歌云账户\n",
    "\n",
    "**如果您正在使用Vertex AI Workbench笔记本**，您的环境已经过身份验证。请跳过此步骤。\n",
    "\n",
    "**如果您正在使用Colab**，请运行以下单元格，并按照提示进行通过oAuth身份验证。\n",
    "\n",
    "**否则**，请按照以下步骤操作：\n",
    "\n",
    "在Cloud控制台中，前往[创建服务账户密钥](https://console.cloud.google.com/apis/credentials/serviceaccountkey)页面。\n",
    "\n",
    "1. **点击创建服务账户**。\n",
    "\n",
    "2. 在**服务账户名称**字段中输入名称，然后点击**创建**。\n",
    "\n",
    "3. 在**授予此服务账户对项目的访问权限**部分，点击角色下拉列表。在过滤框中输入\"Vertex AI\"，然后选择**Vertex AI管理员**。在过滤框中输入\"存储对象管理员\"，然后选择**存储对象管理员**。\n",
    "\n",
    "4. 点击创建。一个包含您密匙的JSON文件将下载到您的本地环境。\n",
    "\n",
    "5. 在下方单元格中将您的服务账户密钥路径输入为GOOGLE_APPLICATION_CREDENTIALS变量，并运行单元格。"
   ]
  },
  {
   "cell_type": "code",
   "execution_count": null,
   "metadata": {
    "id": "e0953a00668e"
   },
   "outputs": [],
   "source": [
    "# If you are running this notebook in Colab, run this cell and follow the\n",
    "# instructions to authenticate your GCP account. This provides access to your\n",
    "# Cloud Storage bucket and lets you submit training jobs and prediction\n",
    "# requests.\n",
    "\n",
    "import os\n",
    "import sys\n",
    "\n",
    "# If on Vertex AI Workbench, then don't execute this code\n",
    "IS_COLAB = False\n",
    "if not os.path.exists(\"/opt/deeplearning/metadata/env_version\") and not os.getenv(\n",
    "    \"DL_ANACONDA_HOME\"\n",
    "):\n",
    "    if \"google.colab\" in sys.modules:\n",
    "        IS_COLAB = True\n",
    "        from google.colab import auth as google_auth\n",
    "\n",
    "        google_auth.authenticate_user()\n",
    "\n",
    "    # If you are running this notebook locally, replace the string below with the\n",
    "    # path to your service account key and run this cell to authenticate your GCP\n",
    "    # account.\n",
    "    elif not os.getenv(\"IS_TESTING\"):\n",
    "        %env GOOGLE_APPLICATION_CREDENTIALS ''"
   ]
  },
  {
   "cell_type": "markdown",
   "metadata": {
    "id": "bucket:mbsdk"
   },
   "source": [
    "### 创建一个云存储桶\n",
    "\n",
    "**无论您使用的是哪种笔记本环境，下面的步骤都是必需的。**\n",
    "\n",
    "当您在 Python 中初始化 Vertex SDK 时，您需要指定一个云存储暂存桶。这个暂存桶是您的数据集和模型资源在各个会话之间保留的地方。\n",
    "\n",
    "在下面设置您的云存储桶的名称。存储桶的名称必须在所有谷歌云项目中是全局唯一的，包括您组织外的那些项目。"
   ]
  },
  {
   "cell_type": "code",
   "execution_count": null,
   "metadata": {
    "id": "bucket"
   },
   "outputs": [],
   "source": [
    "BUCKET_NAME = \"[your-bucket-name]\"  # @param {type:\"string\"}\n",
    "BUCKET_URI = f\"gs://{BUCKET_NAME}\""
   ]
  },
  {
   "cell_type": "code",
   "execution_count": null,
   "metadata": {
    "id": "autoset_bucket"
   },
   "outputs": [],
   "source": [
    "if BUCKET_NAME == \"\" or BUCKET_NAME is None or BUCKET_NAME == \"[your-bucket-name]\":\n",
    "    BUCKET_NAME = PROJECT_ID + \"aip-\" + TIMESTAMP\n",
    "    BUCKET_URI = f\"gs://{BUCKET_NAME}\""
   ]
  },
  {
   "cell_type": "markdown",
   "metadata": {
    "id": "create_bucket"
   },
   "source": [
    "只有当您的存储桶不存在时：运行以下单元格以创建您的云存储存储桶。"
   ]
  },
  {
   "cell_type": "code",
   "execution_count": null,
   "metadata": {
    "id": "create_bucket"
   },
   "outputs": [],
   "source": [
    "! gsutil mb -l $REGION $BUCKET_URI"
   ]
  },
  {
   "cell_type": "markdown",
   "metadata": {
    "id": "validate_bucket"
   },
   "source": [
    "最后，通过检查其内容来验证对您的云存储桶的访问。"
   ]
  },
  {
   "cell_type": "code",
   "execution_count": null,
   "metadata": {
    "id": "validate_bucket"
   },
   "outputs": [],
   "source": [
    "! gsutil ls -al $BUCKET_URI"
   ]
  },
  {
   "cell_type": "markdown",
   "metadata": {
    "id": "set_service_account"
   },
   "source": [
    "#### 服务账户\n",
    "\n",
    "您可以使用服务账户创建Vertex AI管道作业。如果您不想使用项目的Compute Engine服务账户，将 `SERVICE_ACCOUNT` 设置为另一个服务账户ID。"
   ]
  },
  {
   "cell_type": "code",
   "execution_count": null,
   "metadata": {
    "id": "set_service_account"
   },
   "outputs": [],
   "source": [
    "SERVICE_ACCOUNT = \"[your-service-account]\"  # @param {type:\"string\"}"
   ]
  },
  {
   "cell_type": "code",
   "execution_count": null,
   "metadata": {
    "id": "autoset_service_account"
   },
   "outputs": [],
   "source": [
    "if (\n",
    "    SERVICE_ACCOUNT == \"\"\n",
    "    or SERVICE_ACCOUNT is None\n",
    "    or SERVICE_ACCOUNT == \"[your-service-account]\"\n",
    "):\n",
    "    # Get your service account from gcloud\n",
    "    if not IS_COLAB:\n",
    "        shell_output = !gcloud auth list 2>/dev/null\n",
    "        SERVICE_ACCOUNT = shell_output[2].replace(\"*\", \"\").strip()\n",
    "\n",
    "    if IS_COLAB:\n",
    "        shell_output = ! gcloud projects describe  $PROJECT_ID\n",
    "        project_number = shell_output[-1].split(\":\")[1].strip().replace(\"'\", \"\")\n",
    "        SERVICE_ACCOUNT = f\"{project_number}-compute@developer.gserviceaccount.com\"\n",
    "\n",
    "    print(\"Service Account:\", SERVICE_ACCOUNT)"
   ]
  },
  {
   "cell_type": "markdown",
   "metadata": {
    "id": "setup_vars"
   },
   "source": [
    "### 引入库并定义常量"
   ]
  },
  {
   "cell_type": "code",
   "execution_count": null,
   "metadata": {
    "id": "import_aip:mbsdk"
   },
   "outputs": [],
   "source": [
    "import google.cloud.aiplatform as aiplatform\n",
    "from google.cloud import bigquery"
   ]
  },
  {
   "cell_type": "markdown",
   "metadata": {
    "id": "init_aip:mbsdk"
   },
   "source": [
    "### 初始化Python的Vertex AI和BigQuery SDK\n",
    "\n",
    "为您的项目和相应的存储桶初始化Python的Vertex AI SDK。"
   ]
  },
  {
   "cell_type": "code",
   "execution_count": null,
   "metadata": {
    "id": "init_aip:mbsdk"
   },
   "outputs": [],
   "source": [
    "aiplatform.init(project=PROJECT_ID, staging_bucket=BUCKET_URI)"
   ]
  },
  {
   "cell_type": "markdown",
   "metadata": {
    "id": "init_bq"
   },
   "source": [
    "创建 BigQuery 客户端。"
   ]
  },
  {
   "cell_type": "code",
   "execution_count": null,
   "metadata": {
    "id": "init_bq"
   },
   "outputs": [],
   "source": [
    "bqclient = bigquery.Client(project=PROJECT_ID)"
   ]
  },
  {
   "cell_type": "markdown",
   "metadata": {
    "id": "accelerators:prediction,mbsdk"
   },
   "source": [
    "### 设置硬件加速器\n",
    "\n",
    "您可以为预测设置硬件加速器。\n",
    "\n",
    "将变量 `DEPLOY_GPU/DEPLOY_NGPU` 设为使用支持 GPU 的容器镜像以及分配给虚拟机（VM）实例的 GPU 数量。例如，要使用一个具有 4 个 Nvidia Telsa K80 GPU 的容器镜像分配给每个 VM，您可以指定：\n",
    "\n",
    "    (aiplatform.AcceleratorType.NVIDIA_TESLA_K80, 4)\n",
    "\n",
    "否则，指定 `(None, None)` 来使用一个在 CPU 上运行的容器镜像。\n",
    "\n",
    "在 [此处](https://cloud.google.com/vertex-ai/docs/general/locations#accelerators) 了解更多关于您所在地区的硬件加速器支持。"
   ]
  },
  {
   "cell_type": "code",
   "execution_count": null,
   "metadata": {
    "id": "accelerators:prediction,mbsdk"
   },
   "outputs": [],
   "source": [
    "import os\n",
    "\n",
    "if os.getenv(\"IS_TESTING_DEPLOY_GPU\"):\n",
    "    DEPLOY_GPU, DEPLOY_NGPU = (\n",
    "        aiplatform.gapic.AcceleratorType.NVIDIA_TESLA_K80,\n",
    "        int(os.getenv(\"IS_TESTING_DEPLOY_GPU\")),\n",
    "    )\n",
    "else:\n",
    "    DEPLOY_GPU, DEPLOY_NGPU = (aiplatform.gapic.AcceleratorType.NVIDIA_TESLA_K80, 1)"
   ]
  },
  {
   "cell_type": "markdown",
   "metadata": {
    "id": "container:prediction"
   },
   "source": [
    "### 设置预构建容器\n",
    "\n",
    "设置用于预测的预构建Docker容器映像。\n",
    "\n",
    "- 将变量`TF`设置为容器映像的TensorFlow版本。例如，`2-1`代表版本2.1，`1-15`代表版本1.15。以下列表显示了一些可用的预构建映像：\n",
    "\n",
    "\n",
    "有关最新列表，请参见[用于预测的预构建容器](https://cloud.google.com/ai-platform-unified/docs/predictions/pre-built-containers)。"
   ]
  },
  {
   "cell_type": "code",
   "execution_count": null,
   "metadata": {
    "id": "container:prediction"
   },
   "outputs": [],
   "source": [
    "if os.getenv(\"IS_TESTING_TF\"):\n",
    "    TF = os.getenv(\"IS_TESTING_TF\")\n",
    "else:\n",
    "    TF = \"2.5\".replace(\".\", \"-\")\n",
    "\n",
    "if TF[0] == \"2\":\n",
    "    if DEPLOY_GPU:\n",
    "        DEPLOY_VERSION = \"tf2-gpu.{}\".format(TF)\n",
    "    else:\n",
    "        DEPLOY_VERSION = \"tf2-cpu.{}\".format(TF)\n",
    "else:\n",
    "    if DEPLOY_GPU:\n",
    "        DEPLOY_VERSION = \"tf-gpu.{}\".format(TF)\n",
    "    else:\n",
    "        DEPLOY_VERSION = \"tf-cpu.{}\".format(TF)\n",
    "\n",
    "DEPLOY_IMAGE = \"{}-docker.pkg.dev/vertex-ai/prediction/{}:latest\".format(\n",
    "    REGION.split(\"-\")[0], DEPLOY_VERSION\n",
    ")\n",
    "\n",
    "print(\"Deployment:\", DEPLOY_IMAGE, DEPLOY_GPU)"
   ]
  },
  {
   "cell_type": "markdown",
   "metadata": {
    "id": "machine:prediction"
   },
   "source": [
    "### 设置机器类型\n",
    "\n",
    "接下来，设置用于预测的机器类型。\n",
    "\n",
    "- 设置变量`DEPLOY_COMPUTE`以配置用于预测的虚拟机的计算资源。\n",
    "  - `机器类型`\n",
    "     - `n1-standard`：每个vCPU 3.75GB内存。\n",
    "     - `n1-highmem`：每个vCPU 6.5GB内存\n",
    "     - `n1-highcpu`：每个vCPU 0.9GB内存\n",
    "  - `vCPUs`：数量为\\[2, 4, 8, 16, 32, 64, 96 \\]\n",
    "\n",
    "*注意：您也可以使用n2和e2机器类型进行训练和部署，但它们不支持GPU*"
   ]
  },
  {
   "cell_type": "code",
   "execution_count": null,
   "metadata": {
    "id": "machine:prediction"
   },
   "outputs": [],
   "source": [
    "if os.getenv(\"IS_TESTING_DEPLOY_MACHINE\"):\n",
    "    MACHINE_TYPE = os.getenv(\"IS_TESTING_DEPLOY_MACHINE\")\n",
    "else:\n",
    "    MACHINE_TYPE = \"n1-standard\"\n",
    "\n",
    "VCPU = \"4\"\n",
    "DEPLOY_COMPUTE = MACHINE_TYPE + \"-\" + VCPU\n",
    "print(\"Deploy machine type\", DEPLOY_COMPUTE)"
   ]
  },
  {
   "cell_type": "markdown",
   "metadata": {
    "id": "bqml_intro"
   },
   "source": [
    "## BigQuery ML 简介\n",
    "\n",
    "BigQuery ML（BQML）提供了在 BigQuery 中使用 SQL 语法训练 ML 表格模型（如分类和回归）的功能。\n",
    "\n",
    "了解更多关于[BigQuery ML 文档](https://cloud.google.com/bigquery-ml/docs)。"
   ]
  },
  {
   "cell_type": "code",
   "execution_count": null,
   "metadata": {
    "id": "import_file:penguins,bq,lcn"
   },
   "outputs": [],
   "source": [
    "IMPORT_FILE = \"bq://bigquery-public-data.ml_datasets.penguins\"\n",
    "BQ_TABLE = \"bigquery-public-data.ml_datasets.penguins\""
   ]
  },
  {
   "cell_type": "markdown",
   "metadata": {
    "id": "bqml_create_dataset"
   },
   "source": [
    "### 创建BQ数据集资源\n",
    "\n",
    "首先，在您的项目中创建一个空的数据集资源。"
   ]
  },
  {
   "cell_type": "code",
   "execution_count": null,
   "metadata": {
    "id": "bqml_create_dataset"
   },
   "outputs": [],
   "source": [
    "BQ_DATASET_NAME = \"penguins\"\n",
    "DATASET_QUERY = f\"\"\"CREATE SCHEMA {BQ_DATASET_NAME}\n",
    "\"\"\"\n",
    "\n",
    "job = bqclient.query(DATASET_QUERY)"
   ]
  },
  {
   "cell_type": "markdown",
   "metadata": {
    "id": "bqml_create_model"
   },
   "source": [
    "### 训练 BigQuery ML 模型\n",
    "\n",
    "接下来，您将从公共数据集 penguins 创建和训练一个 BigQuery ML 表格分类模型，并使用 `CREATE MODEL` 语句将模型存储在您的项目中。 模型配置在 `OPTIONS` 语句中指定如下：\n",
    "\n",
    "- `model_type`：要训练的表格模型的类型和架构，例如，DNN 分类。\n",
    "- `labels`：作为标签的列。\n",
    "\n",
    "了解有关 [CREATE MODEL 语句](https://cloud.google.com/bigquery-ml/docs/reference/standard-sql/bigqueryml-syntax-create) 的更多信息。"
   ]
  },
  {
   "cell_type": "code",
   "execution_count": null,
   "metadata": {
    "id": "bqml_create_model"
   },
   "outputs": [],
   "source": [
    "MODEL_NAME = \"penguins\"\n",
    "MODEL_QUERY = f\"\"\"\n",
    "CREATE OR REPLACE MODEL `{BQ_DATASET_NAME}.{MODEL_NAME}`\n",
    "OPTIONS(\n",
    "    model_type='DNN_CLASSIFIER',\n",
    "    labels = ['species']\n",
    "    )\n",
    "AS\n",
    "SELECT *\n",
    "FROM `{BQ_TABLE}`\n",
    "\"\"\"\n",
    "\n",
    "job = bqclient.query(MODEL_QUERY)\n",
    "print(job.errors, job.state)\n",
    "\n",
    "while job.running():\n",
    "    from time import sleep\n",
    "\n",
    "    sleep(30)\n",
    "    print(\"Running ...\")\n",
    "print(job.errors, job.state)\n",
    "\n",
    "tblname = job.ddl_target_table\n",
    "tblname = \"{}.{}\".format(tblname.dataset_id, tblname.table_id)\n",
    "print(\"{} created in {}\".format(tblname, job.ended - job.started))"
   ]
  },
  {
   "cell_type": "markdown",
   "metadata": {
    "id": "bqml_eval_model"
   },
   "source": [
    "### 评估训练好的 BigQuery ML 模型\n",
    "\n",
    "接下来，检索已训练的 BigQuery ML 模型的评估结果。\n",
    "\n",
    "了解更多关于 [ML.EVALUATE 函数](https://cloud.google.com/bigquery-ml/docs/reference/standard-sql/bigqueryml-syntax-evaluate)。"
   ]
  },
  {
   "cell_type": "code",
   "execution_count": null,
   "metadata": {
    "id": "bqml_eval_model"
   },
   "outputs": [],
   "source": [
    "EVAL_QUERY = f\"\"\"\n",
    "SELECT *\n",
    "FROM\n",
    "  ML.EVALUATE(MODEL {BQ_DATASET_NAME}.{MODEL_NAME})\n",
    "ORDER BY  roc_auc desc\n",
    "LIMIT 1\"\"\"\n",
    "\n",
    "job = bqclient.query(EVAL_QUERY)\n",
    "results = job.result().to_dataframe()\n",
    "print(results)"
   ]
  },
  {
   "cell_type": "markdown",
   "metadata": {
    "id": "bqml_export_model"
   },
   "source": [
    "从BigQuery ML导出模型\n",
    "\n",
    "您在BigQuery ML中训练的模型是一个TensorFlow模型。接下来，您将以TF.SavedModel格式导出TensorFlow模型工件。"
   ]
  },
  {
   "cell_type": "code",
   "execution_count": null,
   "metadata": {
    "id": "bqml_export_model"
   },
   "outputs": [],
   "source": [
    "param = f\"{PROJECT_ID}:{BQ_DATASET_NAME}.{MODEL_NAME} {BUCKET_URI}/{MODEL_NAME}\"\n",
    "! bq extract -m $param\n",
    "\n",
    "MODEL_DIR = f\"{BUCKET_URI}/{BQ_DATASET_NAME}\"\n",
    "! gsutil ls $MODEL_DIR"
   ]
  },
  {
   "cell_type": "markdown",
   "metadata": {
    "id": "upload_bqml_model"
   },
   "source": [
    "## 将BigQuery ML模型上传到Vertex AI模型资源\n",
    "\n",
    "最后，现在您已经导出了BigQuery ML模型，您可以将模型工件上传到Vertex AI模型资源，就像上传自定义训练模型一样。\n",
    "\n",
    "以下是将BigQuery ML模型类型映射到其相应导出模型格式的部分列表：\n",
    "\n",
    "'LINEAR_REG'<br/>\n",
    "'LOGISTIC_REG' --> TensorFlow SavedFormat\n",
    "\n",
    "'AUTOML_CLASSIFIER'<br/>\n",
    "'AUTOML_REGRESSOR' --> TensorFlow SavedFormat\n",
    "\n",
    "'BOOSTED_TREE_CLASSIFIER'<br/>\n",
    "'BOOSTED_TREE_REGRESSOR' --> XGBoost格式\n",
    "\n",
    "'DNN_CLASSIFIER'<br/>\n",
    "'DNN_REGRESSOR'<br/>\n",
    "'DNN_LINEAR_COMBINED_CLASSIFIER'<br/>\n",
    "'DNN_LINEAR_COMBINED_REGRESSOR' --> TensorFlow Estimator"
   ]
  },
  {
   "cell_type": "code",
   "execution_count": null,
   "metadata": {
    "id": "upload_bqml_model"
   },
   "outputs": [],
   "source": [
    "model = aiplatform.Model.upload(\n",
    "    display_name=\"penguins_\" + TIMESTAMP,\n",
    "    artifact_uri=MODEL_DIR,\n",
    "    serving_container_image_uri=DEPLOY_IMAGE,\n",
    "    sync=True,\n",
    ")"
   ]
  },
  {
   "cell_type": "markdown",
   "metadata": {
    "id": "deploy_model:mbsdk,all"
   },
   "source": [
    "部署模型\n",
    "\n",
    "接下来，将你的模型部署到在线预测中。要部署模型，你需要调用`deploy`方法，并提供以下参数：\n",
    "\n",
    "- `deployed_model_display_name`：部署模型的可读名称。\n",
    "- `traffic_split`：指定在端点上流量分配给该模型的百分比，以字典形式提供一个或多个键值对。\n",
    "如果只有一个模型，则指定为{ \"0\": 100 }，其中\"0\"指的是上传的这个模型，而100表示100%的流量。\n",
    "如果端点上已有现有模型，需要对流量进行分割，那么可以使用model_id来指定，如{ \"0\": percent, model_id: percent, ... }，这里model_id是一个指向部署端点上现有模型的模型id。所有百分比必须加起来等于100。\n",
    "- `machine_type`：用于训练的机器类型。\n",
    "- `accelerator_type`：硬件加速器类型。\n",
    "- `accelerator_count`：要连接到工作副本的加速器数量。\n",
    "- `starting_replica_count`：最初预留的计算实例数量。\n",
    "- `max_replica_count`：要扩展到的最大计算实例数量。在本教程中，只提供了一个实例。"
   ]
  },
  {
   "cell_type": "code",
   "execution_count": null,
   "metadata": {
    "id": "deploy_model:mbsdk,all"
   },
   "outputs": [],
   "source": [
    "DEPLOYED_NAME = \"penguins-\" + TIMESTAMP\n",
    "\n",
    "TRAFFIC_SPLIT = {\"0\": 100}\n",
    "\n",
    "MIN_NODES = 1\n",
    "MAX_NODES = 1\n",
    "\n",
    "if DEPLOY_GPU:\n",
    "    endpoint = model.deploy(\n",
    "        deployed_model_display_name=DEPLOYED_NAME,\n",
    "        traffic_split=TRAFFIC_SPLIT,\n",
    "        machine_type=DEPLOY_COMPUTE,\n",
    "        accelerator_type=DEPLOY_GPU.name,\n",
    "        accelerator_count=DEPLOY_NGPU,\n",
    "        min_replica_count=MIN_NODES,\n",
    "        max_replica_count=MAX_NODES,\n",
    "    )\n",
    "else:\n",
    "    endpoint = model.deploy(\n",
    "        deployed_model_display_name=DEPLOYED_NAME,\n",
    "        traffic_split=TRAFFIC_SPLIT,\n",
    "        machine_type=DEPLOY_COMPUTE,\n",
    "        min_replica_count=MIN_NODES,\n",
    "        max_replica_count=MAX_NODES,\n",
    "    )"
   ]
  },
  {
   "cell_type": "markdown",
   "metadata": {
    "id": "undeploy_model:mbsdk"
   },
   "source": [
    "取消部署模型\n",
    "\n",
    "当您完成预测后，您可以从 `Endpoint` 资源中取消部署模型。这将取消所有计算资源，并停止为部署的模型计费。"
   ]
  },
  {
   "cell_type": "code",
   "execution_count": null,
   "metadata": {
    "id": "undeploy_model:mbsdk"
   },
   "outputs": [],
   "source": [
    "endpoint.undeploy_all()"
   ]
  },
  {
   "cell_type": "markdown",
   "metadata": {
    "id": "model_delete:mbsdk"
   },
   "source": [
    "#### 删除 `Vertex AI Model` 资源\n",
    "\n",
    "方法 'delete()' 将删除模型。"
   ]
  },
  {
   "cell_type": "code",
   "execution_count": null,
   "metadata": {
    "id": "model_delete:mbsdk"
   },
   "outputs": [],
   "source": [
    "model.delete()"
   ]
  },
  {
   "cell_type": "markdown",
   "metadata": {
    "id": "7890ae6f6410"
   },
   "source": [
    "### 删除 `BigQuery ML` 模型\n",
    "\n",
    "接下来，删除模型的 `BigQuery ML` 实例。"
   ]
  },
  {
   "cell_type": "code",
   "execution_count": null,
   "metadata": {
    "id": "f0b6163e70c0"
   },
   "outputs": [],
   "source": [
    "MODEL_QUERY = f\"\"\"\n",
    "DROP MODEL `{BQ_DATASET_NAME}.{MODEL_NAME}`\n",
    "\"\"\"\n",
    "\n",
    "job = bqclient.query(MODEL_QUERY)"
   ]
  },
  {
   "cell_type": "markdown",
   "metadata": {
    "id": "bqml_create_model:vizier"
   },
   "source": [
    "### 超参数调整和训练BigQuery ML模型\n",
    "\n",
    "接下来，您将使用 `Vertex AI Vizier` 服务对BigQuery ML表格分类模型进行超参数调整。超参数设置在 `OPTIONS` 语句中指定如下：\n",
    "\n",
    "- `HPARAM_TUNING_ALGORITHM`：选择下一个试验参数的算法。\n",
    "- `num_trials`：试验次数。\n",
    "- `max_parallel_trials`：并行进行的试验次数。\n",
    "\n",
    "了解更多关于[CREATE MODEL语句的超参数调整](https://cloud.google.com/bigquery-ml/docs/reference/standard-sql/bigqueryml-hyperparameter-tuning)。"
   ]
  },
  {
   "cell_type": "code",
   "execution_count": null,
   "metadata": {
    "id": "bqml_create_model:vizier"
   },
   "outputs": [],
   "source": [
    "MODEL_NAME = \"penguins\"\n",
    "MODEL_QUERY = f\"\"\"\n",
    "CREATE OR REPLACE MODEL `{BQ_DATASET_NAME}.{MODEL_NAME}`\n",
    "OPTIONS(\n",
    "    model_type='DNN_CLASSIFIER',\n",
    "    labels = ['species'],\n",
    "    num_trials=10,\n",
    "    max_parallel_trials=2,\n",
    "    HPARAM_TUNING_ALGORITHM = 'VIZIER_DEFAULT'\n",
    "    )\n",
    "AS\n",
    "SELECT *\n",
    "FROM `{BQ_TABLE}`\n",
    "\"\"\"\n",
    "\n",
    "job = bqclient.query(MODEL_QUERY)\n",
    "print(job.errors, job.state)\n",
    "\n",
    "while job.running():\n",
    "    from time import sleep\n",
    "\n",
    "    sleep(30)\n",
    "    print(\"Running ...\")\n",
    "print(job.errors, job.state)\n",
    "\n",
    "tblname = job.ddl_target_table\n",
    "tblname = \"{}.{}\".format(tblname.dataset_id, tblname.table_id)\n",
    "print(\"{} created in {}\".format(tblname, job.ended - job.started))"
   ]
  },
  {
   "cell_type": "markdown",
   "metadata": {
    "id": "bqml_eval_model"
   },
   "source": [
    "### 评估 BigQuery ML 训练模型\n",
    "\n",
    "接下来，检索已训练的 BigQuery ML 模型的模型评估结果。\n",
    "\n",
    "了解更多关于[ML.EVALUATE 函数的信息](https://cloud.google.com/bigquery-ml/docs/reference/standard-sql/bigqueryml-syntax-evaluate)。"
   ]
  },
  {
   "cell_type": "code",
   "execution_count": null,
   "metadata": {
    "id": "bqml_eval_model"
   },
   "outputs": [],
   "source": [
    "EVAL_QUERY = f\"\"\"\n",
    "SELECT *\n",
    "FROM\n",
    "  ML.EVALUATE(MODEL {BQ_DATASET_NAME}.{MODEL_NAME})\n",
    "ORDER BY  roc_auc desc\n",
    "LIMIT 1\"\"\"\n",
    "\n",
    "job = bqclient.query(EVAL_QUERY)\n",
    "results = job.result().to_dataframe()\n",
    "print(results)"
   ]
  },
  {
   "cell_type": "markdown",
   "metadata": {
    "id": "3f3cee1236b1"
   },
   "source": [
    "### 删除 `BigQuery ML` 模型\n",
    "\n",
    "接下来，删除模型的 `BigQuery ML` 实例。"
   ]
  },
  {
   "cell_type": "code",
   "execution_count": null,
   "metadata": {
    "id": "957b7d841502"
   },
   "outputs": [],
   "source": [
    "MODEL_QUERY = f\"\"\"\n",
    "DROP MODEL `{BQ_DATASET_NAME}.{MODEL_NAME}`\n",
    "\"\"\"\n",
    "\n",
    "job = bqclient.query(MODEL_QUERY)"
   ]
  },
  {
   "cell_type": "markdown",
   "metadata": {
    "id": "bqml_create_model:xai"
   },
   "source": [
    "### 使用可解释性训练 BigQuery ML 模型\n",
    "\n",
    "接下来，您训练相同的 BigQuery ML 模型，但这次您通过添加选项来启用模型预测的 Vertex AI 可解释性：\n",
    "\n",
    "- `ENABLE_GLOBAL_EXPLAIN`"
   ]
  },
  {
   "cell_type": "code",
   "execution_count": null,
   "metadata": {
    "id": "bqml_create_model:xai"
   },
   "outputs": [],
   "source": [
    "MODEL_NAME = \"penguins\"\n",
    "MODEL_QUERY = f\"\"\"\n",
    "CREATE OR REPLACE MODEL `{BQ_DATASET_NAME}.{MODEL_NAME}`\n",
    "OPTIONS(\n",
    "    model_type='DNN_CLASSIFIER',\n",
    "    labels = ['species'],\n",
    "    ENABLE_GLOBAL_EXPLAIN = True\n",
    "    )\n",
    "AS\n",
    "SELECT *\n",
    "FROM `{BQ_TABLE}`\n",
    "\"\"\"\n",
    "\n",
    "job = bqclient.query(MODEL_QUERY)\n",
    "print(job.errors, job.state)\n",
    "\n",
    "while job.running():\n",
    "    from time import sleep\n",
    "\n",
    "    sleep(30)\n",
    "    print(\"Running ...\")\n",
    "print(job.errors, job.state)\n",
    "\n",
    "tblname = job.ddl_target_table\n",
    "tblname = \"{}.{}\".format(tblname.dataset_id, tblname.table_id)\n",
    "print(\"{} created in {}\".format(tblname, job.ended - job.started))"
   ]
  },
  {
   "cell_type": "markdown",
   "metadata": {
    "id": "4def8aaf3398"
   },
   "source": [
    "删除`BigQuery ML`模型\n",
    "\n",
    "接下来，删除模型的`BigQuery ML`实例。"
   ]
  },
  {
   "cell_type": "code",
   "execution_count": null,
   "metadata": {
    "id": "ff5b32618018"
   },
   "outputs": [],
   "source": [
    "MODEL_QUERY = f\"\"\"\n",
    "DROP MODEL `{BQ_DATASET_NAME}.{MODEL_NAME}`\n",
    "\"\"\"\n",
    "\n",
    "job = bqclient.query(MODEL_QUERY)"
   ]
  },
  {
   "cell_type": "markdown",
   "metadata": {
    "id": "2b4498ca6fea"
   },
   "source": [
    "模型注册中心\n",
    "\n",
    "另外，您可以在训练模型时隐式上传您的BigQuery ML模型作为“Vertex AI模型”资源，并导出和导入模型工件。在此方法中，在训练模型时，您可以添加额外的选项，告诉BigQuery ML自动上传和注册经过训练的模型作为“模型”资源。\n",
    "\n",
    "### 设置权限以自动注册模型\n",
    "\n",
    "您需要为BigQuery ML设置一些额外的IAM权限，以便在训练后自动上传并注册模型。根据您的服务帐户，以下权限设置可能会失败。在这种情况下，我们建议在Cloud Shell中执行权限设置。\n",
    "\n",
    "了解更多关于[设置模型注册中心的权限](https://cloud.google.com/bigquery-ml/docs/managing-models-vertex)"
   ]
  },
  {
   "cell_type": "code",
   "execution_count": null,
   "metadata": {
    "id": "29229f72d13d"
   },
   "outputs": [],
   "source": [
    "! gcloud projects add-iam-policy-binding $PROJECT_ID \\\n",
    "    --member=serviceAccount:$SERVICE_ACCOUNT --role=roles/aiplatform.admin --condition=None"
   ]
  },
  {
   "cell_type": "markdown",
   "metadata": {
    "id": "6c390ee7c11a"
   },
   "source": [
    "### 训练和注册模型\n",
    "\n",
    "接下来，通过添加以下参数选项，训练模型并自动将模型注册到`Vertex AI Model Registry`：\n",
    "\n",
    "- `model_registry`：设置为“vertex_ai”以指示自动注册到`Vertex AI Model Registry`。\n",
    "- `vertex_ai_model_id`：已注册模型的人类可读的显示名称。\n",
    "- `vertex_ai_model_version_aliases`：模型的备用名称。"
   ]
  },
  {
   "cell_type": "code",
   "execution_count": null,
   "metadata": {
    "id": "57db464f4c42"
   },
   "outputs": [],
   "source": [
    "MODEL_NAME = \"penguins\"\n",
    "MODEL_QUERY = f\"\"\"\n",
    "CREATE OR REPLACE MODEL `{BQ_DATASET_NAME}.{MODEL_NAME}`\n",
    "OPTIONS(\n",
    "    model_type='DNN_CLASSIFIER',\n",
    "    labels = ['species'],\n",
    "    model_registry=\"vertex_ai\",\n",
    "    vertex_ai_model_id=\"bqml_model_{TIMESTAMP}\", \n",
    "    vertex_ai_model_version_aliases=[\"1\"]\n",
    "    )\n",
    "AS\n",
    "SELECT *\n",
    "FROM `{BQ_TABLE}`\n",
    "\"\"\"\n",
    "\n",
    "job = bqclient.query(MODEL_QUERY)\n",
    "print(job.errors, job.state)\n",
    "\n",
    "while job.running():\n",
    "    from time import sleep\n",
    "\n",
    "    sleep(30)\n",
    "    print(\"Running ...\")\n",
    "print(job.errors, job.state)\n",
    "\n",
    "tblname = job.ddl_target_table\n",
    "tblname = \"{}.{}\".format(tblname.dataset_id, tblname.table_id)\n",
    "print(\"{} created in {}\".format(tblname, job.ended - job.started))"
   ]
  },
  {
   "cell_type": "markdown",
   "metadata": {
    "id": "5b4970272040"
   },
   "source": [
    "### 在`Vertex Model Registry`中查找模型\n",
    "\n",
    "最后，您可以使用`Vertex AI Model`的list()方法并带有筛选查询来找到自动注册的模型。"
   ]
  },
  {
   "cell_type": "code",
   "execution_count": null,
   "metadata": {
    "id": "76c22674ba99"
   },
   "outputs": [],
   "source": [
    "models = aiplatform.Model.list(filter=\"display_name=bqml_model_\" + TIMESTAMP)\n",
    "model = models[0]\n",
    "\n",
    "print(model.gca_resource)"
   ]
  },
  {
   "cell_type": "code",
   "execution_count": null,
   "metadata": {
    "id": "48e6ef5d5ffa"
   },
   "outputs": [],
   "source": [
    "models = aiplatform.Model.list()\n",
    "for model in models:\n",
    "    if model.gca_resource.display_name.startswith(\"bqml\"):\n",
    "        print(model.gca_resource.display_name)"
   ]
  },
  {
   "cell_type": "markdown",
   "metadata": {
    "id": "ef61354b1a5f"
   },
   "source": [
    "删除`BigQuery ML`模型\n",
    "\n",
    "接下来，删除该模型的`BigQuery ML`实例。"
   ]
  },
  {
   "cell_type": "code",
   "execution_count": null,
   "metadata": {
    "id": "f6004d1ce59d"
   },
   "outputs": [],
   "source": [
    "MODEL_QUERY = f\"\"\"\n",
    "DROP MODEL `{BQ_DATASET_NAME}.{MODEL_NAME}`\n",
    "\"\"\"\n",
    "\n",
    "job = bqclient.query(MODEL_QUERY)"
   ]
  },
  {
   "cell_type": "markdown",
   "metadata": {
    "id": "cleanup:mbsdk"
   },
   "source": [
    "清理\n",
    "\n",
    "要清理此项目中使用的所有Google Cloud资源，您可以删除用于本教程的[Google Cloud\n",
    "项目](https://cloud.google.com/resource-manager/docs/creating-managing-projects#shutting_down_projects)。\n",
    "\n",
    "否则，您可以删除在本教程中创建的各个资源。\n",
    "\n",
    "将 `delete_storage` 设置为 `True` 以删除此笔记本中使用的Cloud Storage存储桶。"
   ]
  },
  {
   "cell_type": "code",
   "execution_count": null,
   "metadata": {
    "id": "cleanup:mbsdk"
   },
   "outputs": [],
   "source": [
    "# Delete the endpoint using the Vertex endpoint object\n",
    "endpoint.undeploy_all()\n",
    "endpoint.delete()\n",
    "\n",
    "# Delete the model using the Vertex model object\n",
    "try:\n",
    "    model.delete()\n",
    "except Exception as e:\n",
    "    print(e)\n",
    "\n",
    "# Delete the created BigQuery dataset\n",
    "! bq rm -r -f $PROJECT_ID:$BQ_DATASET_NAME\n",
    "\n",
    "delete_storage = False\n",
    "if delete_storage or os.getenv(\"IS_TESTING\"):\n",
    "    # Delete the created GCS bucket\n",
    "    ! gsutil rm -r $BUCKET_URI"
   ]
  }
 ],
 "metadata": {
  "colab": {
   "name": "get_started_bqml_training.ipynb",
   "toc_visible": true
  },
  "kernelspec": {
   "display_name": "Python 3",
   "name": "python3"
  }
 },
 "nbformat": 4,
 "nbformat_minor": 0
}
