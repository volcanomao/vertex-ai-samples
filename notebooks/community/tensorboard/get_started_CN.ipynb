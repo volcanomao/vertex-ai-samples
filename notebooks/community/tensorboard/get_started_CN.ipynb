{
 "cells": [
  {
   "cell_type": "code",
   "execution_count": null,
   "metadata": {
    "id": "18ebbd838e32"
   },
   "outputs": [],
   "source": [
    "# Copyright 2022 Google LLC\n",
    "#\n",
    "# Licensed under the Apache License, Version 2.0 (the \"License\");\n",
    "# you may not use this file except in compliance with the License.\n",
    "# You may obtain a copy of the License at\n",
    "#\n",
    "#     https://www.apache.org/licenses/LICENSE-2.0\n",
    "#\n",
    "# Unless required by applicable law or agreed to in writing, software\n",
    "# distributed under the License is distributed on an \"AS IS\" BASIS,\n",
    "# WITHOUT WARRANTIES OR CONDITIONS OF ANY KIND, either express or implied.\n",
    "# See the License for the specific language governing permissions and\n",
    "# limitations under the License."
   ]
  },
  {
   "cell_type": "markdown",
   "metadata": {
    "id": "HEYuO5NFwDK9"
   },
   "source": [
    "开始使用Vertex AI TensorBoard#"
   ]
  },
  {
   "cell_type": "markdown",
   "metadata": {
    "id": "56V5oun18ZdZ"
   },
   "source": [
    "在机器学习中，为了改进一些东西，通常需要能够对其进行测量。TensorBoard是一种工具，用于提供在机器学习工作流程中所需的测量和可视化。它使得能够追踪实验指标如损失和准确度，可视化模型图，并将嵌入投射到一个较低维度的空间，等等。\n",
    "\n",
    "Vertex AI TensorBoard是开源TensorBoard项目的托管企业级版本。\n",
    "\n",
    "这个快速入门将展示如何快速开始使用Vertex AI TensorBoard。"
   ]
  },
  {
   "cell_type": "code",
   "execution_count": null,
   "metadata": {
    "id": "67a33a308e62"
   },
   "outputs": [],
   "source": [
    "# Installing the Vertex AI TensorBoard uploader\n",
    "\n",
    "!python -m pip install google-cloud-aiplatform['tensorboard'] --upgrade"
   ]
  },
  {
   "cell_type": "code",
   "execution_count": null,
   "metadata": {
    "id": "_wqSAZExy6xV"
   },
   "outputs": [],
   "source": [
    "import datetime\n",
    "\n",
    "import tensorflow as tf"
   ]
  },
  {
   "cell_type": "code",
   "execution_count": null,
   "metadata": {
    "id": "Ao7fJW1Pyiza"
   },
   "outputs": [],
   "source": [
    "# Clear any logs from previous runs\n",
    "!rm -rf ./logs/"
   ]
  },
  {
   "cell_type": "code",
   "execution_count": null,
   "metadata": {
    "id": "a4d0f7e39662"
   },
   "outputs": [],
   "source": [
    "project_id = \"YOUR PROJECT ID\"\n",
    "region = \"YOUR REGION\"\n",
    "\n",
    "content_name = \"vertex-ai-tb-get-started\""
   ]
  },
  {
   "cell_type": "markdown",
   "metadata": {
    "id": "z5pr9vuHVgXY"
   },
   "source": [
    "使用[MNIST](https://en.wikipedia.org/wiki/MNIST_database)数据集作为示例，对数据进行归一化，并编写一个函数来创建一个简单的Keras模型，用于将图像分类为10个类别。"
   ]
  },
  {
   "cell_type": "code",
   "execution_count": null,
   "metadata": {
    "id": "j-DHsby18cot"
   },
   "outputs": [],
   "source": [
    "mnist = tf.keras.datasets.mnist\n",
    "\n",
    "(x_train, y_train), (x_test, y_test) = mnist.load_data()\n",
    "x_train, x_test = x_train / 255.0, x_test / 255.0\n",
    "\n",
    "\n",
    "def create_model():\n",
    "    return tf.keras.models.Sequential(\n",
    "        [\n",
    "            tf.keras.layers.Flatten(input_shape=(28, 28)),\n",
    "            tf.keras.layers.Dense(512, activation=\"relu\"),\n",
    "            tf.keras.layers.Dropout(0.2),\n",
    "            tf.keras.layers.Dense(10, activation=\"softmax\"),\n",
    "        ]\n",
    "    )"
   ]
  },
  {
   "cell_type": "markdown",
   "metadata": {
    "id": "XKUjdIoV87um"
   },
   "source": [
    "使用TensorBoard与Keras Model.fit()"
   ]
  },
  {
   "cell_type": "markdown",
   "metadata": {
    "id": "8CL_lxdn8-Sv"
   },
   "source": [
    "在使用Keras的[Model.fit()](https://www.tensorflow.org/api_docs/python/tf/keras/models/Model#fit)进行训练时，添加`tf.keras.callbacks.TensorBoard`回调可以确保日志被创建和存储。此外，使用`histogram_freq=1`可以在每个epoch中启用直方图计算（默认情况下关闭）\n",
    "\n",
    "将日志放在一个带有时间戳的子目录中，以便轻松选择不同的训练运行。"
   ]
  },
  {
   "cell_type": "code",
   "execution_count": null,
   "metadata": {
    "id": "WAQThq539CEJ"
   },
   "outputs": [],
   "source": [
    "model = create_model()\n",
    "model.compile(\n",
    "    optimizer=\"adam\", loss=\"sparse_categorical_crossentropy\", metrics=[\"accuracy\"]\n",
    ")\n",
    "\n",
    "log_dir = \"logs/fit/\" + datetime.datetime.now().strftime(\"%Y%m%d-%H%M%S\")\n",
    "tensorboard_callback = tf.keras.callbacks.TensorBoard(log_dir=log_dir, histogram_freq=1)\n",
    "\n",
    "model.fit(\n",
    "    x=x_train,\n",
    "    y=y_train,\n",
    "    epochs=5,\n",
    "    validation_data=(x_test, y_test),\n",
    "    callbacks=[tensorboard_callback],\n",
    ")"
   ]
  },
  {
   "cell_type": "code",
   "execution_count": null,
   "metadata": {
    "id": "986731d03842"
   },
   "outputs": [],
   "source": [
    "from google.cloud import aiplatform\n",
    "\n",
    "aiplatform.init(project=project_id, location=region)\n",
    "\n",
    "tensorboard = aiplatform.Tensorboard.create(display_name=content_name)\n",
    "\n",
    "TENSORBOARD_RESOURCE_NAME = tensorboard.resource_name"
   ]
  },
  {
   "cell_type": "code",
   "execution_count": null,
   "metadata": {
    "id": "b8cd8003ac1d"
   },
   "outputs": [],
   "source": [
    "!tb-gcp-uploader --one_shot=True  --tensorboard_resource_name $TENSORBOARD_RESOURCE_NAME -logdir=\"logs/fit\" --experiment_name=\"test-experiment1\""
   ]
  },
  {
   "cell_type": "markdown",
   "metadata": {
    "id": "MCsoUNb6YhGc"
   },
   "source": [
    "<!-- <img class=\"tfo-display-only-on-site\" src=\"https://github.com/tensorflow/tensorboard/blob/master/docs/images/quickstart_model_fit.png?raw=1\"/> --> \n",
    "\n",
    "请将上述英文文本翻译为中文： \n",
    "\n",
    "<!-- <img class=\"tfo-display-only-on-site\" src=\"https://github.com/tensorflow/tensorboard/blob/master/docs/images/quickstart_model_fit.png?raw=1\"/> -->"
   ]
  },
  {
   "cell_type": "markdown",
   "metadata": {
    "id": "Gi4PaRm39of2"
   },
   "source": [
    "对展示的仪表板（顶部导航栏中的选项卡）的简要概述：\n",
    "\n",
    "* **Scalars** 仪表板显示损失和指标随每个时期的变化。您还可以使用它来跟踪训练速度、学习率和其他标量值。\n",
    "* **Graphs** 仪表板帮助您可视化您的模型。在这种情况下，显示了层的Keras图，可以帮助您确保它构建正确。\n",
    "* **Distributions** 和 **Histograms** 仪表板显示张量随时间的分布。这可以帮助您可视化权重和偏差，并验证它们是否以预期的方式变化。\n",
    "\n",
    "当您记录其他类型的数据时，附加的TensorBoard插件会自动启用。例如，Keras TensorBoard回调允许您记录图像和嵌入。您可以通过点击右上角的“未激活”下拉菜单查看TensorBoard中还有哪些其他插件可用。"
   ]
  },
  {
   "cell_type": "markdown",
   "metadata": {
    "id": "nB718NOH95yG"
   },
   "source": [
    "使用 Vertex AI TensorBoard 与其他方法"
   ]
  },
  {
   "cell_type": "markdown",
   "metadata": {
    "id": "IKNt0nWs-Ekt"
   },
   "source": [
    "使用像[`tf.GradientTape()`](https://www.tensorflow.org/api_docs/python/tf/GradientTape)这样的方法进行训练时，使用`tf.summary`来记录所需的信息。\n",
    "\n",
    "使用与上面相同的数据集，但将其转换为`tf.data.Dataset`以利用批处理功能："
   ]
  },
  {
   "cell_type": "code",
   "execution_count": null,
   "metadata": {
    "id": "nnHx4DsMezy1"
   },
   "outputs": [],
   "source": [
    "train_dataset = tf.data.Dataset.from_tensor_slices((x_train, y_train))\n",
    "test_dataset = tf.data.Dataset.from_tensor_slices((x_test, y_test))\n",
    "\n",
    "train_dataset = train_dataset.shuffle(60000).batch(64)\n",
    "test_dataset = test_dataset.batch(64)"
   ]
  },
  {
   "cell_type": "markdown",
   "metadata": {
    "id": "SzpmTmJafJ10"
   },
   "source": [
    "培训代码遵循[高级快速入门](https://www.tensorflow.org/tutorials/quickstart/advanced)教程，但展示如何将指标记录到TensorBoard。选择损失和优化器："
   ]
  },
  {
   "cell_type": "code",
   "execution_count": null,
   "metadata": {
    "id": "H2Y5-aPbAANs"
   },
   "outputs": [],
   "source": [
    "loss_object = tf.keras.losses.SparseCategoricalCrossentropy()\n",
    "optimizer = tf.keras.optimizers.Adam()"
   ]
  },
  {
   "cell_type": "markdown",
   "metadata": {
    "id": "cKhIIDj9Hbfy"
   },
   "source": [
    "创建具有状态的指标，可以用来在训练过程中累积数值，并在任何时点进行记录。"
   ]
  },
  {
   "cell_type": "code",
   "execution_count": null,
   "metadata": {
    "id": "jD0tEWrgH0TL"
   },
   "outputs": [],
   "source": [
    "# Define our metrics\n",
    "train_loss = tf.keras.metrics.Mean(\"train_loss\", dtype=tf.float32)\n",
    "train_accuracy = tf.keras.metrics.SparseCategoricalAccuracy(\"train_accuracy\")\n",
    "test_loss = tf.keras.metrics.Mean(\"test_loss\", dtype=tf.float32)\n",
    "test_accuracy = tf.keras.metrics.SparseCategoricalAccuracy(\"test_accuracy\")"
   ]
  },
  {
   "cell_type": "markdown",
   "metadata": {
    "id": "szw_KrgOg-OT"
   },
   "source": [
    "定义训练和测试功能："
   ]
  },
  {
   "cell_type": "code",
   "execution_count": null,
   "metadata": {
    "id": "TTWcJO35IJgK"
   },
   "outputs": [],
   "source": [
    "def train_step(model, optimizer, x_train, y_train):\n",
    "    with tf.GradientTape() as tape:\n",
    "        predictions = model(x_train, training=True)\n",
    "        loss = loss_object(y_train, predictions)\n",
    "    grads = tape.gradient(loss, model.trainable_variables)\n",
    "    optimizer.apply_gradients(zip(grads, model.trainable_variables))\n",
    "\n",
    "    train_loss(loss)\n",
    "    train_accuracy(y_train, predictions)\n",
    "\n",
    "\n",
    "def test_step(model, x_test, y_test):\n",
    "    predictions = model(x_test)\n",
    "    loss = loss_object(y_test, predictions)\n",
    "\n",
    "    test_loss(loss)\n",
    "    test_accuracy(y_test, predictions)"
   ]
  },
  {
   "cell_type": "markdown",
   "metadata": {
    "id": "nucPZBKPJR3A"
   },
   "source": [
    "设置摘要写入程序将摘要写入不同的日志目录。"
   ]
  },
  {
   "cell_type": "code",
   "execution_count": null,
   "metadata": {
    "id": "3Qp-exmbWf4w"
   },
   "outputs": [],
   "source": [
    "current_time = datetime.datetime.now().strftime(\"%Y%m%d-%H%M%S\")\n",
    "train_log_dir = \"logs/gradient_tape/\" + current_time + \"/train\"\n",
    "test_log_dir = \"logs/gradient_tape/\" + current_time + \"/test\"\n",
    "train_summary_writer = tf.summary.create_file_writer(train_log_dir)\n",
    "test_summary_writer = tf.summary.create_file_writer(test_log_dir)"
   ]
  },
  {
   "cell_type": "markdown",
   "metadata": {
    "id": "qgUJgDdKWUKF"
   },
   "source": [
    "开始训练。使用`tf.summary.scalar()`记录训练/测试期间的指标（损失和准确率），在摘要作者的范围内将摘要写入磁盘。您可以控制记录哪些指标以及如何频繁记录。其他`tf.summary`函数可用于记录其他类型的数据。"
   ]
  },
  {
   "cell_type": "code",
   "execution_count": null,
   "metadata": {
    "id": "odWvHPpKJvb_"
   },
   "outputs": [],
   "source": [
    "model = create_model()  # reset our model\n",
    "\n",
    "EPOCHS = 5\n",
    "\n",
    "for epoch in range(EPOCHS):\n",
    "    for (x_train, y_train) in train_dataset:\n",
    "        train_step(model, optimizer, x_train, y_train)\n",
    "    with train_summary_writer.as_default():\n",
    "        tf.summary.scalar(\"loss\", train_loss.result(), step=epoch)\n",
    "        tf.summary.scalar(\"accuracy\", train_accuracy.result(), step=epoch)\n",
    "\n",
    "    for (x_test, y_test) in test_dataset:\n",
    "        test_step(model, x_test, y_test)\n",
    "    with test_summary_writer.as_default():\n",
    "        tf.summary.scalar(\"loss\", test_loss.result(), step=epoch)\n",
    "        tf.summary.scalar(\"accuracy\", test_accuracy.result(), step=epoch)\n",
    "\n",
    "    template = \"Epoch {}, Loss: {}, Accuracy: {}, Test Loss: {}, Test Accuracy: {}\"\n",
    "    print(\n",
    "        template.format(\n",
    "            epoch + 1,\n",
    "            train_loss.result(),\n",
    "            train_accuracy.result() * 100,\n",
    "            test_loss.result(),\n",
    "            test_accuracy.result() * 100,\n",
    "        )\n",
    "    )\n",
    "\n",
    "    # Reset metrics every epoch\n",
    "    train_loss.reset_states()\n",
    "    test_loss.reset_states()\n",
    "    train_accuracy.reset_states()\n",
    "    test_accuracy.reset_states()"
   ]
  },
  {
   "cell_type": "markdown",
   "metadata": {
    "id": "JikosQ84fzcA"
   },
   "source": [
    "再次上传TensorBoard日志，这次将其指向新的日志目录并上传到不同的实验（test-experiment2）。\n",
    "\n",
    "我们也可以通过持续上传TensorBoard日志来监视训练的进展，省略\"one_shot\"标志。"
   ]
  },
  {
   "cell_type": "code",
   "execution_count": null,
   "metadata": {
    "id": "-Iue509kgOyE"
   },
   "outputs": [],
   "source": [
    "!tb-gcp-uploader --one_shot=True  --tensorboard_resource_name $TENSORBOARD_RESOURCE_NAME --logdir=\"logs/gradient_tape\" --experiment_name=\"test-experiment2\""
   ]
  },
  {
   "cell_type": "markdown",
   "metadata": {
    "id": "NVpnilhEgQXk"
   },
   "source": [
    "<!-- <img class=\"tfo-display-only-on-site\" src=\"https://github.com/tensorflow/tensorboard/blob/master/docs/images/quickstart_gradient_tape.png?raw=1\"/> --> \n",
    "\n",
    "请将上述英文文本翻译成中文： \n",
    "<!-- <img class=\"tfo-display-only-on-site\" src=\"https://github.com/tensorflow/tensorboard/blob/master/docs/images/quickstart_gradient_tape.png?raw=1\"/> -->"
   ]
  },
  {
   "cell_type": "markdown",
   "metadata": {
    "id": "ozbwXgPIkCKV"
   },
   "source": [
    "就是这样！你现在已经看到了如何通过Keras回调和`tf.summary`来使用Vertex AI TensorBoard，适用于更多自定义情况。"
   ]
  }
 ],
 "metadata": {
  "colab": {
   "collapsed_sections": [],
   "name": "get_started.ipynb",
   "toc_visible": true
  },
  "kernelspec": {
   "display_name": "Python 3",
   "name": "python3"
  }
 },
 "nbformat": 4,
 "nbformat_minor": 0
}
