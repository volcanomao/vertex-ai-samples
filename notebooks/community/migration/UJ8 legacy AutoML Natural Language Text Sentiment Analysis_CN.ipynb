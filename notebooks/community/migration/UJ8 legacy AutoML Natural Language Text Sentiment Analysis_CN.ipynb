{
 "cells": [
  {
   "cell_type": "code",
   "execution_count": null,
   "metadata": {
    "id": "Xo4cz5r0c4yy"
   },
   "outputs": [],
   "source": [
    "# Copyright 2021 Google LLC\n",
    "#\n",
    "# Licensed under the Apache License, Version 2.0 (the \"License\");\n",
    "# you may not use this file except in compliance with the License.\n",
    "# You may obtain a copy of the License at\n",
    "#\n",
    "#     https://www.apache.org/licenses/LICENSE-2.0\n",
    "#\n",
    "# Unless required by applicable law or agreed to in writing, software\n",
    "# distributed under the License is distributed on an \"AS IS\" BASIS,\n",
    "# WITHOUT WARRANTIES OR CONDITIONS OF ANY KIND, either express or implied.\n",
    "# See the License for the specific language governing permissions and\n",
    "# limitations under the License."
   ]
  },
  {
   "cell_type": "markdown",
   "metadata": {
    "id": "text_title:migration,automl,icn"
   },
   "source": [
    "# 自动机器学习文本情感分析"
   ]
  },
  {
   "cell_type": "markdown",
   "metadata": {
    "id": "JE-aKjayJjkF"
   },
   "source": [
    "## 安装\n",
    "\n",
    "安装最新版本的AutoML SDK。"
   ]
  },
  {
   "cell_type": "code",
   "execution_count": null,
   "metadata": {
    "id": "7dxB6-B0JjkG"
   },
   "outputs": [],
   "source": [
    "! pip3 install google-cloud-automl"
   ]
  },
  {
   "cell_type": "markdown",
   "metadata": {
    "id": "Iddo-8HmJjkH"
   },
   "source": [
    "安装Google云存储库。"
   ]
  },
  {
   "cell_type": "code",
   "execution_count": null,
   "metadata": {
    "id": "xHvi6EFSJjkH"
   },
   "outputs": [],
   "source": [
    "! pip3 install google-cloud-storage"
   ]
  },
  {
   "cell_type": "markdown",
   "metadata": {
    "id": "ktRTgB8DJjkI"
   },
   "source": [
    "### 重新启动内核\n",
    "\n",
    "安装完AutoML SDK和Google *cloud-storage*后，您需要重新启动笔记本内核，以便它可以找到这些包。"
   ]
  },
  {
   "cell_type": "code",
   "execution_count": null,
   "metadata": {
    "id": "x1g4mBdlJjkI"
   },
   "outputs": [],
   "source": [
    "import os\n",
    "\n",
    "if not os.getenv(\"AUTORUN\"):\n",
    "    # Automatically restart kernel after installs\n",
    "    import IPython\n",
    "\n",
    "    app = IPython.Application.instance()\n",
    "    app.kernel.do_shutdown(True)"
   ]
  },
  {
   "cell_type": "markdown",
   "metadata": {
    "id": "AGX8yszodHx_"
   },
   "source": [
    "## 开始之前\r\n",
    "\r\n",
    "### GPU 运行时\r\n",
    "\r\n",
    "*如果有的话，请确保在 GPU 运行时中运行此笔记本。在 Colab 中，选择* **运行时 > 更改运行时类型 > GPU**\r\n",
    "\r\n",
    "### 设置您的 GCP 项目\r\n",
    "\r\n",
    "**以下步骤是必需的，无论您的笔记本环境如何。**\r\n",
    "\r\n",
    "1. [选择或创建一个 GCP 项目](https://console.cloud.google.com/cloud-resource-manager)。当您首次创建帐户时，您将获得 $300 的免费信用，用于计算/存储成本。\r\n",
    "\r\n",
    "2. [确保您的项目已启用计费。](https://cloud.google.com/billing/docs/how-to/modify-project)\r\n",
    "\r\n",
    "3. [启用 AutoML API 和 Compute Engine API。](https://console.cloud.google.com/flows/enableapi?apiid=ml.googleapis.com,compute_component)\r\n",
    "\r\n",
    "4. [Google Cloud SDK](https://cloud.google.com/sdk) 已经安装在 AutoML 笔记本中。\r\n",
    "\r\n",
    "5. 在下面的单元格中输入您的项目 ID。然后运行单元格，确保 Cloud SDK 对本笔记本中的所有命令使用正确的项目。\r\n",
    "\r\n",
    "**注意**: Jupyter 以 `!` 开头的行作为 shell 命令，并且它将以 `$` 为前缀的 Python 变量插入这些命令中。"
   ]
  },
  {
   "cell_type": "code",
   "execution_count": null,
   "metadata": {
    "id": "set_project_id"
   },
   "outputs": [],
   "source": [
    "PROJECT_ID = \"[your-project-id]\"  # @param {type:\"string\"}"
   ]
  },
  {
   "cell_type": "code",
   "execution_count": null,
   "metadata": {
    "id": "autoset_project_id"
   },
   "outputs": [],
   "source": [
    "if PROJECT_ID == \"\" or PROJECT_ID is None or PROJECT_ID == \"[your-project-id]\":\n",
    "    # Get your GCP project id from gcloud\n",
    "    shell_output = !gcloud config list --format 'value(core.project)' 2>/dev/null\n",
    "    PROJECT_ID = shell_output[0]\n",
    "    print(\"Project ID:\", PROJECT_ID)"
   ]
  },
  {
   "cell_type": "code",
   "execution_count": null,
   "metadata": {
    "id": "set_gcloud_project_id"
   },
   "outputs": [],
   "source": [
    "! gcloud config set project $PROJECT_ID"
   ]
  },
  {
   "cell_type": "markdown",
   "metadata": {
    "id": "jT0fijejJjkK"
   },
   "source": [
    "#### 区域\n",
    "\n",
    "您还可以更改`REGION`变量，该变量用于笔记本的其余部分的操作。以下是AutoML支持的区域。我们建议尽可能选择最接近您的区域。\n",
    "\n",
    "- 美洲：`us-central1`\n",
    "- 欧洲：`europe-west4`\n",
    "- 亚太地区：`asia-east1`\n",
    "\n",
    "您不能使用多区域存储桶进行AutoML训练。并非所有区域都支持所有AutoML服务。有关每个区域的最新支持，请参见[AutoML服务的区域支持]()。"
   ]
  },
  {
   "cell_type": "code",
   "execution_count": null,
   "metadata": {
    "id": "CTBlncfrJjkK"
   },
   "outputs": [],
   "source": [
    "REGION = \"us-central1\"  # @param {type: \"string\"}"
   ]
  },
  {
   "cell_type": "markdown",
   "metadata": {
    "id": "J_croPBoJjkK"
   },
   "source": [
    "时间戳\n",
    "\n",
    "如果您在一个直播教程会话中，您可能正在使用一个共享的测试账户或项目。为了避免在创建的资源中用户之间的名称冲突，您为每个实例会话创建一个时间戳，并附加到将在本教程中创建的资源的名称上。"
   ]
  },
  {
   "cell_type": "code",
   "execution_count": null,
   "metadata": {
    "id": "KKxStk5bJjkL"
   },
   "outputs": [],
   "source": [
    "from datetime import datetime\n",
    "\n",
    "TIMESTAMP = datetime.now().strftime(\"%Y%m%d%H%M%S\")"
   ]
  },
  {
   "cell_type": "markdown",
   "metadata": {
    "id": "c3yKEDsvdpFf"
   },
   "source": [
    "### 验证您的GCP账号\n",
    "\n",
    "**如果您正在使用AutoML笔记本**，您的环境已经经过身份验证。请跳过这一步。\n",
    "\n",
    "*注意：如果您在AutoML笔记本上并运行该单元格，该单元格将自动跳过执行身份验证步骤。*"
   ]
  },
  {
   "cell_type": "code",
   "execution_count": null,
   "metadata": {
    "id": "chybg3Ap_i_2"
   },
   "outputs": [],
   "source": [
    "import os\n",
    "import sys\n",
    "\n",
    "# If you are running this notebook in Colab, run this cell and follow the\n",
    "# instructions to authenticate your Google Cloud account. This provides access\n",
    "# to your Cloud Storage bucket and lets you submit training jobs and prediction\n",
    "# requests.\n",
    "\n",
    "# If on Vertex, then don't execute this code\n",
    "if not os.path.exists(\"/opt/deeplearning/metadata/env_version\"):\n",
    "    if \"google.colab\" in sys.modules:\n",
    "        from google.colab import auth as google_auth\n",
    "\n",
    "        google_auth.authenticate_user()\n",
    "\n",
    "    # If you are running this tutorial in a notebook locally, replace the string\n",
    "    # below with the path to your service account key and run this cell to\n",
    "    # authenticate your Google Cloud account.\n",
    "    else:\n",
    "        %env GOOGLE_APPLICATION_CREDENTIALS your_path_to_credentials.json\n",
    "\n",
    "    # Log in to your account on Google Cloud\n",
    "    ! gcloud auth login"
   ]
  },
  {
   "cell_type": "markdown",
   "metadata": {
    "id": "MDUAZaN3JjkL"
   },
   "source": [
    "### 创建一个云端存储桶\n",
    "\n",
    "**无论您的笔记本环境如何，都需要执行以下步骤。**\n",
    "\n",
    "本教程旨在使用存储在公共云端存储桶中的训练数据以及本地云端存储桶进行批量预测。您也可以使用您存储在本地云端存储桶中的自己的训练数据。\n",
    "\n",
    "在下方设置您的云端存储桶的名称。它必须在所有云端存储桶中是唯一的。"
   ]
  },
  {
   "cell_type": "code",
   "execution_count": null,
   "metadata": {
    "id": "bucket"
   },
   "outputs": [],
   "source": [
    "BUCKET_NAME = \"[your-bucket-name]\"  # @param {type:\"string\"}"
   ]
  },
  {
   "cell_type": "code",
   "execution_count": null,
   "metadata": {
    "id": "autoset_bucket"
   },
   "outputs": [],
   "source": [
    "if BUCKET_NAME == \"\" or BUCKET_NAME is None or BUCKET_NAME == \"[your-bucket-name]\":\n",
    "    BUCKET_NAME = PROJECT_ID + \"aip-\" + TIMESTAMP"
   ]
  },
  {
   "cell_type": "markdown",
   "metadata": {
    "id": "yU6VuylGJjkM"
   },
   "source": [
    "只有当您的存储桶不存在时：运行以下单元格以创建您的云存储存储桶。"
   ]
  },
  {
   "cell_type": "code",
   "execution_count": null,
   "metadata": {
    "id": "QVRixM4oJjkM"
   },
   "outputs": [],
   "source": [
    "! gsutil mb -l $REGION gs://$BUCKET_NAME"
   ]
  },
  {
   "cell_type": "markdown",
   "metadata": {
    "id": "Mi-Pdh6QJjkN"
   },
   "source": [
    "最后，通过检查云存储桶的内容来验证访问权限。"
   ]
  },
  {
   "cell_type": "code",
   "execution_count": null,
   "metadata": {
    "id": "aqDptKpYJjkN"
   },
   "outputs": [],
   "source": [
    "! gsutil ls -al gs://$BUCKET_NAME"
   ]
  },
  {
   "cell_type": "markdown",
   "metadata": {
    "id": "fR9geV9pJjkO"
   },
   "source": [
    "### 设置变量\n",
    "\n",
    "接下来，设置一些在本教程中使用的变量。\n",
    "### 导入库并定义常量"
   ]
  },
  {
   "cell_type": "markdown",
   "metadata": {
    "id": "hIHTX-pkJjkO"
   },
   "source": [
    "#### 导入 AutoML SDK\n",
    "\n",
    "将 AutoML SDK 导入我们的 Python 环境。"
   ]
  },
  {
   "cell_type": "code",
   "execution_count": null,
   "metadata": {
    "id": "qrSkIKVgJjkO"
   },
   "outputs": [],
   "source": [
    "import json\n",
    "import os\n",
    "import sys\n",
    "import time\n",
    "\n",
    "from google.cloud import automl\n",
    "from google.protobuf.json_format import MessageToJson\n",
    "from google.protobuf.struct_pb2 import Value"
   ]
  },
  {
   "cell_type": "markdown",
   "metadata": {
    "id": "lbv411XjJjkP"
   },
   "source": [
    "#### AutoML常量\n",
    "\n",
    "为AutoML设置以下常量：\n",
    "\n",
    "- `PARENT`：用于数据集、模型和端点资源的AutoML位置根路径。"
   ]
  },
  {
   "cell_type": "code",
   "execution_count": null,
   "metadata": {
    "id": "Gx8Eos8PJjkP"
   },
   "outputs": [],
   "source": [
    "# AutoM location root path for your dataset, model and endpoint resources\n",
    "PARENT = \"projects/\" + PROJECT_ID + \"/locations/\" + REGION"
   ]
  },
  {
   "cell_type": "markdown",
   "metadata": {
    "id": "hBaOc_HRc4zC"
   },
   "source": [
    "客户端\n",
    "\n",
    "AutoML SDK作为一个客户端/服务器模型。在你的一侧（Python脚本）你将创建一个客户端，该客户端发送请求并从服务器（AutoML）接收响应。\n",
    "\n",
    "在本教程中，你将使用多个客户端，因此请提前设置它们。"
   ]
  },
  {
   "cell_type": "code",
   "execution_count": null,
   "metadata": {
    "id": "5t0zkxqPc4zC"
   },
   "outputs": [],
   "source": [
    "def automl_client():\n",
    "    return automl.AutoMlClient()\n",
    "\n",
    "\n",
    "def perdictions_client():\n",
    "    return automl.PredictionServiceClient()\n",
    "\n",
    "\n",
    "def operations_client():\n",
    "    return automl.AutoMlClient()._transport.operations_client\n",
    "\n",
    "\n",
    "clients = {}\n",
    "clients[\"automl\"] = automl_client()\n",
    "clients[\"predictions\"] = perdictions_client()\n",
    "clients[\"operations\"] = operations_client()\n",
    "\n",
    "for client in clients.items():\n",
    "    print(client)"
   ]
  },
  {
   "cell_type": "code",
   "execution_count": null,
   "metadata": {
    "id": "import_file:flowers,csv,icn"
   },
   "outputs": [],
   "source": [
    "import tensorflow as tf\n",
    "\n",
    "IMPORT_FILE = \"gs://cloud-samples-data/language/claritin.csv\"\n",
    "with tf.io.gfile.GFile(IMPORT_FILE, \"r\") as f:\n",
    "    content = f.readlines()\n",
    "\n",
    "IMPORT_FILE = \"gs://\" + BUCKET_NAME + \"/claritin.csv\"\n",
    "with tf.io.gfile.GFile(IMPORT_FILE, \"w\") as f:\n",
    "    for line in content:\n",
    "        f.write(\",\".join(line.split(\",\")[0:-1]) + \"\\n\")"
   ]
  },
  {
   "cell_type": "code",
   "execution_count": null,
   "metadata": {
    "id": "ed725169cbfa"
   },
   "outputs": [],
   "source": [
    "! gsutil cat $IMPORT_FILE | head -n 10"
   ]
  },
  {
   "cell_type": "markdown",
   "metadata": {
    "id": "d3a0464dd6f3"
   },
   "source": [
    "*示例输出*:\n",
    "```\n",
    "@freewrytin 上帝对克拉利汀太好了, 2\n",
    "我需要克拉利汀。太糟糕了。我什么时候开始被过敏困扰了？, 3\n",
    "感谢上帝赐予克拉利汀。, 4\n",
    "\"更糟糕的是，昨天我达到了鼻喷雾的3天限制，这意味着我必须依赖克拉利汀。\", 2\n",
    "是时候服用一些克拉利汀或艾力吉或其他药物了。我需要我的声音, 3\n",
    "哦我的RT @imsydneycharles：无论如何，我只是想在某个地方记录下我同时服用了克拉利汀和苯海拉明...以防我昏倒, 2\n",
    "大约服用一颗克拉利汀_Ûª_Û_ÛÌâ FML !!, 3\n",
    "Commander Loratadine Generic A Sarcelles: 沙尔塞尔克拉利汀指挥官 Loratadine Generic A Sarcelles =Ûª_Û_ http: //t.co/mOleL8AM, 2\n",
    "\"齐尔特，克拉利汀，速效头孢，鼻喷雾..我觉得自己像个吸毒成瘾的人，服用这些过敏药物。请过敏季节消失!!\", 1\n",
    "\"Ûª_Ûª_ÛªÕ@SheLovesThatD：如果她有过敏，请给她克拉利汀D。Ûª_Û_Ì_å @Sweeno_thakid41 @B_Original16 @luke_CYwalker14\", 3\n",
    "```"
   ]
  },
  {
   "cell_type": "markdown",
   "metadata": {
    "id": "text_create_dataset:migration"
   },
   "source": [
    "创建一个数据集"
   ]
  },
  {
   "cell_type": "markdown",
   "metadata": {
    "id": "text_datasets_create:migration,old"
   },
   "source": [
    "### [projects.locations.datasets.create](https://cloud.google.com/automl/docs/reference/rest/v1beta1/projects.locations.datasets/create)\n",
    "\n",
    "### [项目.地点.数据集.创建](https://cloud.google.com/automl/docs/reference/rest/v1beta1/projects.locations.datasets/create)"
   ]
  },
  {
   "cell_type": "markdown",
   "metadata": {
    "id": "ozaMOwdNJjkT"
   },
   "source": [
    "请求"
   ]
  },
  {
   "cell_type": "code",
   "execution_count": null,
   "metadata": {
    "id": "OMZr1t8mc4zF"
   },
   "outputs": [],
   "source": [
    "dataset = {\n",
    "    \"display_name\": \"claritin_\" + TIMESTAMP,\n",
    "    \"text_sentiment_dataset_metadata\": {\"sentiment_max\": 4},\n",
    "}\n",
    "\n",
    "\n",
    "print(\n",
    "    MessageToJson(\n",
    "        automl.CreateDatasetRequest(parent=PARENT, dataset=dataset).__dict__[\"_pb\"]\n",
    "    )\n",
    ")"
   ]
  },
  {
   "cell_type": "markdown",
   "metadata": {
    "id": "f1354773b89e"
   },
   "source": [
    "{\n",
    "   \"parent\":\"projects/migration-ucaip-training/locations/us-central1\",\n",
    "   \"dataset\":{\n",
    "      \"displayName\":\"claritin_20210304132912\",\n",
    "      \"textSentimentDatasetMetadata\":{\n",
    "         \"sentimentMax\":4\n",
    "      }\n",
    "   }\n",
    "}"
   ]
  },
  {
   "cell_type": "markdown",
   "metadata": {
    "id": "vHkuSZxkJjkT"
   },
   "source": [
    "#### 电话"
   ]
  },
  {
   "cell_type": "code",
   "execution_count": null,
   "metadata": {
    "id": "ifCavN75c4zG"
   },
   "outputs": [],
   "source": [
    "request = clients[\"automl\"].create_dataset(parent=PARENT, dataset=dataset)"
   ]
  },
  {
   "cell_type": "markdown",
   "metadata": {
    "id": "FLqkZMD2JjkT"
   },
   "source": [
    "#### 回应"
   ]
  },
  {
   "cell_type": "code",
   "execution_count": null,
   "metadata": {
    "id": "87xXwkaVc4zG"
   },
   "outputs": [],
   "source": [
    "result = request.result()\n",
    "\n",
    "print(MessageToJson(result.__dict__[\"_pb\"]))"
   ]
  },
  {
   "cell_type": "markdown",
   "metadata": {
    "id": "f9c171ffceee"
   },
   "source": [
    "*示例输出*：\n",
    "```\n",
    "{\n",
    "  \"name\": \"projects/116273516712/locations/us-central1/datasets/TST1994716952680988672\"\n",
    "}\n",
    "```"
   ]
  },
  {
   "cell_type": "code",
   "execution_count": null,
   "metadata": {
    "id": "86e845326428"
   },
   "outputs": [],
   "source": [
    "# The full unique ID for the dataset\n",
    "dataset_id = result.name\n",
    "# The short numeric ID for the dataset\n",
    "dataset_short_id = dataset_id.split(\"/\")[-1]\n",
    "\n",
    "print(dataset_id)"
   ]
  },
  {
   "cell_type": "markdown",
   "metadata": {
    "id": "text_datasets_importdata:migration,old"
   },
   "source": [
    "### [projects.locations.datasets.importData](https://cloud.google.com/automl/docs/reference/rest/v1beta1/projects.locations.datasets/importData)\n",
    "\n",
    "### [项目.位置.数据集.导入数据](https://cloud.google.com/automl/docs/reference/rest/v1beta1/projects.locations.datasets/importData)"
   ]
  },
  {
   "cell_type": "markdown",
   "metadata": {
    "id": "y3T7l1xAc4zH"
   },
   "source": [
    "#### 请求"
   ]
  },
  {
   "cell_type": "code",
   "execution_count": null,
   "metadata": {
    "id": "jjOtdiJBc4zH"
   },
   "outputs": [],
   "source": [
    "input_config = {\"gcs_source\": {\"input_uris\": [IMPORT_FILE]}}\n",
    "\n",
    "print(\n",
    "    MessageToJson(\n",
    "        automl.ImportDataRequest(name=dataset_id, input_config=input_config).__dict__[\n",
    "            \"_pb\"\n",
    "        ]\n",
    "    )\n",
    ")"
   ]
  },
  {
   "cell_type": "markdown",
   "metadata": {
    "id": "c0fd2b918d71"
   },
   "source": [
    "{\n",
    "  \"name\": \"projects/116273516712/locations/us-central1/datasets/TST1994716952680988672\",\n",
    "  \"inputConfig\": {\n",
    "    \"gcsSource\": {\n",
    "      \"inputUris\": [\n",
    "        \"gs://migration-ucaip-trainingaip-20210304132912/claritin.csv\"\n",
    "      ]\n",
    "    }\n",
    "  }\n",
    "} \n",
    "\n",
    "示例输出：{\n",
    "  \"name\": \"projects/116273516712/locations/us-central1/datasets/TST1994716952680988672\",\n",
    "  \"inputConfig\": {\n",
    "    \"gcsSource\": {\n",
    "      \"inputUris\": [\n",
    "        \"gs://migration-ucaip-trainingaip-20210304132912/claritin.csv\"\n",
    "      ]\n",
    "    }\n",
    "  }\n",
    "}"
   ]
  },
  {
   "cell_type": "markdown",
   "metadata": {
    "id": "7QSqElzPc4zH"
   },
   "source": [
    "#### 呼叫"
   ]
  },
  {
   "cell_type": "code",
   "execution_count": null,
   "metadata": {
    "id": "FWm339Twc4zI"
   },
   "outputs": [],
   "source": [
    "request = clients[\"automl\"].import_data(name=dataset_id, input_config=input_config)"
   ]
  },
  {
   "cell_type": "markdown",
   "metadata": {
    "id": "AQVw0rQsc4zI"
   },
   "source": [
    "回复"
   ]
  },
  {
   "cell_type": "code",
   "execution_count": null,
   "metadata": {
    "id": "Fur_ANcMc4zI"
   },
   "outputs": [],
   "source": [
    "result = request.result()\n",
    "\n",
    "print(MessageToJson(result))"
   ]
  },
  {
   "cell_type": "markdown",
   "metadata": {
    "id": "NT2ras8rhC_D"
   },
   "source": [
    "*示例输出*：\n",
    "``` \n",
    "{}\n",
    "```"
   ]
  },
  {
   "cell_type": "markdown",
   "metadata": {
    "id": "text_create_and_deploy_model:migration"
   },
   "source": [
    "训练一个模型"
   ]
  },
  {
   "cell_type": "markdown",
   "metadata": {
    "id": "text_models_create:migration,old"
   },
   "source": [
    "### [projects.locations.models.create](https://cloud.google.com/automl/docs/reference/rest/v1beta1/projects.locations.models/create) \n",
    "\n",
    "### [项目.位置.模型.创建](https://cloud.google.com/automl/docs/reference/rest/v1beta1/projects.locations.models/create)"
   ]
  },
  {
   "cell_type": "markdown",
   "metadata": {
    "id": "bfPBtMYZc4zJ"
   },
   "source": [
    "#### 请求"
   ]
  },
  {
   "cell_type": "code",
   "execution_count": null,
   "metadata": {
    "id": "LbWL7tq2c4zJ"
   },
   "outputs": [],
   "source": [
    "model = {\n",
    "    \"display_name\": \"claritin_\" + TIMESTAMP,\n",
    "    \"dataset_id\": dataset_short_id,\n",
    "    \"text_sentiment_model_metadata\": {},\n",
    "}\n",
    "\n",
    "print(\n",
    "    MessageToJson(automl.CreateModelRequest(parent=PARENT, model=model).__dict__[\"_pb\"])\n",
    ")"
   ]
  },
  {
   "cell_type": "markdown",
   "metadata": {
    "id": "e080c4730d86"
   },
   "source": [
    "*示例输出*：\n",
    "```\n",
    "{\n",
    "  \"parent\": \"projects/migration-ucaip-training/locations/us-central1\",\n",
    "  \"model\": {\n",
    "    \"displayName\": \"claritin_20210304132912\",\n",
    "    \"datasetId\": \"TST1994716952680988672\",\n",
    "    \"textSentimentModelMetadata\": {}\n",
    "  }\n",
    "}\n",
    "``` \n",
    "\n",
    "*示例输出*：\n",
    "```\n",
    "{\n",
    "  \"parent\": \"projects/migration-ucaip-training/locations/us-central1\",\n",
    "  \"model\": {\n",
    "    \"displayName\": \"claritin_20210304132912\",\n",
    "    \"datasetId\": \"TST1994716952680988672\",\n",
    "    \"textSentimentModelMetadata\": {}\n",
    "  }\n",
    "}\n",
    "```"
   ]
  },
  {
   "cell_type": "markdown",
   "metadata": {
    "id": "duJfz52Rc4zJ"
   },
   "source": [
    "#### 电话"
   ]
  },
  {
   "cell_type": "code",
   "execution_count": null,
   "metadata": {
    "id": "kHS2pwcec4zK"
   },
   "outputs": [],
   "source": [
    "request = clients[\"automl\"].create_model(parent=PARENT, model=model)"
   ]
  },
  {
   "cell_type": "markdown",
   "metadata": {
    "id": "vmkA2d5-c4zK"
   },
   "source": [
    "#### 回应"
   ]
  },
  {
   "cell_type": "code",
   "execution_count": null,
   "metadata": {
    "id": "o8P7a8nQc4zK"
   },
   "outputs": [],
   "source": [
    "result = request.result()\n",
    "\n",
    "print(MessageToJson(result.__dict__[\"_pb\"]))"
   ]
  },
  {
   "cell_type": "markdown",
   "metadata": {
    "id": "498f8fd21640"
   },
   "source": [
    "{\n",
    "  \"name\": \"projects/116273516712/locations/us-central1/models/TST4078882474816438272\"\n",
    "}\n",
    "```\n",
    "示例输出:\n",
    "```\n",
    "{\n",
    "  \"name\": \"projects/116273516712/locations/us-central1/models/TST4078882474816438272\"\n",
    "}\n",
    "```"
   ]
  },
  {
   "cell_type": "code",
   "execution_count": null,
   "metadata": {
    "id": "865fcdfa7262"
   },
   "outputs": [],
   "source": [
    "# The full unique ID for the training pipeline\n",
    "model_id = result.name\n",
    "# The short numeric ID for the training pipeline\n",
    "model_short_id = model_id.split(\"/\")[-1]\n",
    "\n",
    "print(model_short_id)"
   ]
  },
  {
   "cell_type": "markdown",
   "metadata": {
    "id": "text_evaluate_the_model:migration"
   },
   "source": [
    "## 评估模型"
   ]
  },
  {
   "cell_type": "markdown",
   "metadata": {
    "id": "yfufMwAEJjkX"
   },
   "source": [
    "### [projects.locations.models.modelEvaluations.list](https://cloud.google.com/automl/docs/reference/rest/v1beta1/projects.locations.models.modelEvaluations/list)\n",
    "\n",
    "### [projects.locations.models.modelEvaluations.list](https://cloud.google.com/automl/docs/reference/rest/v1beta1/projects.locations.models.modelEvaluations/list)"
   ]
  },
  {
   "cell_type": "markdown",
   "metadata": {
    "id": "ro1Hr7Hbc4zL"
   },
   "source": [
    "#### 电话"
   ]
  },
  {
   "cell_type": "code",
   "execution_count": null,
   "metadata": {
    "id": "hBEu4Ghoc4zL"
   },
   "outputs": [],
   "source": [
    "request = clients[\"automl\"].list_model_evaluations(parent=model_id, filter=\"\")"
   ]
  },
  {
   "cell_type": "markdown",
   "metadata": {
    "id": "X9XycwTYc4zM"
   },
   "source": [
    "#### 回复"
   ]
  },
  {
   "cell_type": "code",
   "execution_count": null,
   "metadata": {
    "id": "ZbX6Z00uc4zM"
   },
   "outputs": [],
   "source": [
    "model_evaluations = [json.loads(MessageToJson(me.__dict__[\"_pb\"])) for me in request]\n",
    "# The evaluation slice\n",
    "evaluation_slice = request.model_evaluation[0].name\n",
    "\n",
    "print(json.dumps(model_evaluations, indent=2))"
   ]
  },
  {
   "cell_type": "markdown",
   "metadata": {
    "id": "6835b78da85b"
   },
   "source": [
    "{\n",
    "  \"示例输出\": [\n",
    "    {\n",
    "      \"name\": \"projects/116273516712/locations/us-central1/models/TST4078882474816438272/modelEvaluations/54870628009945864\",\n",
    "      \"annotationSpecId\": \"8301667931964571648\",\n",
    "      \"createTime\": \"2021-03-04T17:15:51.851420Z\",\n",
    "      \"textSentimentEvaluationMetrics\": {\n",
    "        \"precision\": 0.33333334,\n",
    "        \"recall\": 0.16666667,\n",
    "        \"f1Score\": 0.22222222\n",
    "      },\n",
    "      \"displayName\": \"4\"\n",
    "    },\n",
    "    {\n",
    "      \"name\": \"projects/116273516712/locations/us-central1/models/TST4078882474816438272/modelEvaluations/1597159550285093673\",\n",
    "      \"annotationSpecId\": \"1384138904323489792\",\n",
    "      \"createTime\": \"2021-03-04T17:15:51.851420Z\",\n",
    "      \"textSentimentEvaluationMetrics\": {\n",
    "        \"precision\": 0.5,\n",
    "        \"recall\": 0.296875,\n",
    "        \"f1Score\": 0.37254903\n",
    "      },\n",
    "      \"displayName\": \"1\"\n",
    "    },\n",
    "    {\n",
    "      \"name\": \"projects/116273516712/locations/us-central1/models/TST4078882474816438272/modelEvaluations/3521790980763365687\",\n",
    "      \"createTime\": \"2021-03-04T17:15:51.851420Z\",\n",
    "      \"evaluatedExampleCount\": 452,\n",
    "      \"textSentimentEvaluationMetrics\": {\n",
    "        \"precision\": 0.6238938,\n",
    "        \"recall\": 0.6238938,\n",
    "        \"f1Score\": 0.6238938,\n",
    "        \"meanAbsoluteError\": 0.47566372,\n",
    "        \"meanSquaredError\": 0.69690263,\n",
    "        \"linearKappa\": 0.41007927,\n",
    "        \"quadraticKappa\": 0.45938763,\n",
    "        \"confusionMatrix\": {\n",
    "          \"annotationSpecId\": [\n",
    "            \"7148746427357724672\",\n",
    "            \"1384138904323489792\",\n",
    "            \"5995824922750877696\",\n",
    "            \"3689981913537183744\",\n",
    "            \"8301667931964571648\"\n",
    "          ],\n",
    "          \"row\": [\n",
    "            {\n",
    "              \"exampleCount\": [\n",
    "                2,\n",
    "                4,\n",
    "                1,\n",
    "                1,\n",
    "                1\n",
    "              ]\n",
    "            },\n",
    "            {\n",
    "              \"exampleCount\": [\n",
    "                3,\n",
    "                19,\n",
    "                14,\n",
    "                28,\n",
    "                0\n",
    "              ]\n",
    "            },\n",
    "            {\n",
    "              \"exampleCount\": [\n",
    "                0,\n",
    "                7,\n",
    "                67,\n",
    "                63,\n",
    "                1\n",
    "              ]\n",
    "            },\n",
    "            {\n",
    "              \"exampleCount\": [\n",
    "                1,\n",
    "                8,\n",
    "                19,\n",
    "                191,\n",
    "                4\n",
    "              ]\n",
    "            },\n",
    "            {\n",
    "              \"exampleCount\": [\n",
    "                0,\n",
    "                0,\n",
    "                0,\n",
    "                15,\n",
    "                3\n",
    "              ]\n",
    "            }\n",
    "          ],\n",
    "          \"displayName\": [\n",
    "            \"0\",\n",
    "            \"1\",\n",
    "            \"2\",\n",
    "            \"3\",\n",
    "            \"4\"\n",
    "          ]\n",
    "        }\n",
    "      }\n",
    "    },\n",
    "    {\n",
    "      \"name\": \"projects/116273516712/locations/us-central1/models/TST4078882474816438272/modelEvaluations/3727703410992997127\",\n",
    "      \"annotationSpecId\": \"3689981913537183744\",\n",
    "      \"createTime\": \"2021-03-04T17:15:51.851420Z\",\n",
    "      \"textSentimentEvaluationMetrics\": {\n",
    "        \"precision\": 0.6409396,\n",
    "        \"recall\": 0.85650223,\n",
    "        \"f1Score\": 0.7332054\n",
    "      },\n",
    "      \"displayName\": \"3\"\n",
    "    },\n",
    "    {\n",
    "      \"name\": \"projects/116273516712/locations/us-central1/models/TST4078882474816438272/modelEvaluations/4692810493650008310\",\n",
    "      \"annotationSpecId\": \"7148746427357724672\",\n",
    "      \"createTime\": \"2021-03-04T17:15:51.851420Z\",\n",
    "      \"textSentimentEvaluationMetrics\": {\n",
    "        \"precision\": 0.33333334,\n",
    "        \"recall\": 0.22222222,\n",
    "        \"f1Score\": 0.26666668\n",
    "      },\n",
    "      \"displayName\": \"0\"\n",
    "    },\n",
    "    {\n",
    "      \"name\": \"projects/116273516712/locations/us-central1/models/TST4078882474816438272/modelEvaluations/8390011688796741170\",\n",
    "      \"annotationSpecId\": \"5995824922750877696\",\n",
    "      \"createTime\": \"2021-03-04T17:15:51.851420Z\",\n",
    "      \"textSentimentEvaluationMetrics\": {\n",
    "        \"precision\": 0.6633663,\n",
    "        \"recall\": 0.48550725,\n",
    "        \"f1Score\": 0.5606694\n",
    "      },\n",
    "      \"displayName\": \"2\"\n",
    "    }\n",
    "  ]\n",
    "}"
   ]
  },
  {
   "cell_type": "markdown",
   "metadata": {
    "id": "i6T0bzuNJjkY"
   },
   "source": [
    "### [projects.locations.models.modelEvaluations.get](https://cloud.google.com/automl/docs/reference/rest/v1beta1/projects.locations.models.modelEvaluations/get) \n",
    "\n",
    "### [projects.locations.models.modelEvaluations.get](https://cloud.google.com/automl/docs/reference/rest/v1beta1/projects.locations.models.modelEvaluations/get)"
   ]
  },
  {
   "cell_type": "markdown",
   "metadata": {
    "id": "cu1lRCSOc4zM"
   },
   "source": [
    "#### 电话"
   ]
  },
  {
   "cell_type": "code",
   "execution_count": null,
   "metadata": {
    "id": "XIIHbDYWc4zM"
   },
   "outputs": [],
   "source": [
    "request = clients[\"automl\"].get_model_evaluation(name=evaluation_slice)"
   ]
  },
  {
   "cell_type": "markdown",
   "metadata": {
    "id": "aMgYNNWgc4zN"
   },
   "source": [
    "回复"
   ]
  },
  {
   "cell_type": "code",
   "execution_count": null,
   "metadata": {
    "id": "hSWpi4v1c4zN"
   },
   "outputs": [],
   "source": [
    "print(MessageToJson(request.__dict__[\"_pb\"]))"
   ]
  },
  {
   "cell_type": "markdown",
   "metadata": {
    "id": "b11081c8c71e"
   },
   "source": [
    "**示例输出**：\n",
    "```\n",
    "{\n",
    "  \"name\": \"projects/116273516712/locations/us-central1/models/TST4078882474816438272/modelEvaluations/54870628009945864\",\n",
    "  \"annotationSpecId\": \"8301667931964571648\",\n",
    "  \"createTime\": \"2021-03-04T17:15:51.851420Z\",\n",
    "  \"textSentimentEvaluationMetrics\": {\n",
    "    \"precision\": 0.33333334,\n",
    "    \"recall\": 0.16666667,\n",
    "    \"f1Score\": 0.22222222\n",
    "  },\n",
    "  \"displayName\": \"4\"\n",
    "}\n",
    "```"
   ]
  },
  {
   "cell_type": "markdown",
   "metadata": {
    "id": "iRUvxxAKc4zN"
   },
   "source": [
    "进行批量预测"
   ]
  },
  {
   "cell_type": "markdown",
   "metadata": {
    "id": "caA77NMbc4zN"
   },
   "source": [
    "制作批量输入文件\n",
    "\n",
    "要从AutoML视频请求一批预测结果，请创建一个CSV文件，列出您想要标注的视频的Cloud Storage路径。您还可以指定开始和结束时间，告诉AutoML视频只标注视频的某一段（片段水平）。开始时间必须为零或更大，并且必须早于结束时间。结束时间必须大于开始时间且小于或等于视频的持续时间。您还可以使用inf来表示视频的结束。"
   ]
  },
  {
   "cell_type": "code",
   "execution_count": null,
   "metadata": {
    "id": "5beaf1d4077c"
   },
   "outputs": [],
   "source": [
    "import tensorflow as tf\n",
    "\n",
    "gcs_input_uri = \"gs://\" + BUCKET_NAME + \"/test.csv\"\n",
    "with tf.io.gfile.GFile(gcs_input_uri, \"w\") as f:\n",
    "    item_1 = \"gs://cloud-samples-data/language/sentiment-positive.txt\"\n",
    "    ! gsutil cp $item_1 gs://$BUCKET_NAME\n",
    "    f.write(\"gs://\" + BUCKET_NAME + \"/sentiment-positive.txt\" + \"\\n\")\n",
    "\n",
    "    item_2 = \"gs://cloud-samples-data/language/sentiment-negative.txt\"\n",
    "    ! gsutil cp $item_2 gs://$BUCKET_NAME\n",
    "    f.write(\"gs://\" + BUCKET_NAME + \"/sentiment-negative.txt\")\n",
    "\n",
    "! gsutil cat $gcs_input_uri"
   ]
  },
  {
   "cell_type": "markdown",
   "metadata": {
    "id": "031c110f4c79"
   },
   "source": [
    "示例输出：\n",
    "```\n",
    "gs://migration-ucaip-trainingaip-20210304132912/情感-积极.txt\n",
    "gs://migration-ucaip-trainingaip-20210304132912/情感-消极.txt\n",
    "```"
   ]
  },
  {
   "cell_type": "markdown",
   "metadata": {
    "id": "text_models_batchpredict:migration,old"
   },
   "source": [
    "### [projects.locations.models.batchPredict](https://cloud.google.com/automl/docs/reference/rest/v1beta1/projects.locations.models/batchPredict) \n",
    "\n",
    "### [项目.位置.模型.批处理预测](https://cloud.google.com/automl/docs/reference/rest/v1beta1/projects.locations.models/batchPredict)"
   ]
  },
  {
   "cell_type": "markdown",
   "metadata": {
    "id": "UNxo4fR5c4zO"
   },
   "source": [
    "#### 请求"
   ]
  },
  {
   "cell_type": "code",
   "execution_count": null,
   "metadata": {
    "id": "Vu-8O5Y2c4zO"
   },
   "outputs": [],
   "source": [
    "input_config = {\"gcs_source\": {\"input_uris\": [gcs_input_uri]}}\n",
    "\n",
    "output_config = {\n",
    "    \"gcs_destination\": {\"output_uri_prefix\": \"gs://\" + f\"{BUCKET_NAME}/batch_output/\"}\n",
    "}\n",
    "\n",
    "print(\n",
    "    MessageToJson(\n",
    "        automl.BatchPredictRequest(\n",
    "            name=model_id, input_config=input_config, output_config=output_config\n",
    "        ).__dict__[\"_pb\"]\n",
    "    )\n",
    ")"
   ]
  },
  {
   "cell_type": "markdown",
   "metadata": {
    "id": "9defd1c4d1a0"
   },
   "source": [
    "{\n",
    "  \"name\": \"projects/116273516712/locations/us-central1/models/TST4078882474816438272\",\n",
    "  \"inputConfig\": {\n",
    "    \"gcsSource\": {\n",
    "      \"inputUris\": [\n",
    "        \"gs://migration-ucaip-trainingaip-20210304132912/test.csv\"\n",
    "      ]\n",
    "    }\n",
    "  },\n",
    "  \"outputConfig\": {\n",
    "    \"gcsDestination\": {\n",
    "      \"outputUriPrefix\": \"gs://migration-ucaip-trainingaip-20210304132912/batch_output/\"\n",
    "    }\n",
    "  }\n",
    "}  \n",
    "\n",
    "{\n",
    "  \"name\": \"projects/116273516712/locations/us-central1/models/TST4078882474816438272\",\n",
    "  \"inputConfig\": {\n",
    "    \"gcsSource\": {\n",
    "      \"inputUris\": [\n",
    "        \"gs://migration-ucaip-trainingaip-20210304132912/test.csv\"\n",
    "      ]\n",
    "    }\n",
    "  },\n",
    "  \"outputConfig\": {\n",
    "    \"gcsDestination\": {\n",
    "      \"outputUriPrefix\": \"gs://migration-ucaip-trainingaip-20210304132912/batch_output/\"\n",
    "    }\n",
    "  }\n",
    "}"
   ]
  },
  {
   "cell_type": "markdown",
   "metadata": {
    "id": "kc_59mp8c4zP"
   },
   "source": [
    "#### 呼叫"
   ]
  },
  {
   "cell_type": "code",
   "execution_count": null,
   "metadata": {
    "id": "TSk7yRiqc4zP"
   },
   "outputs": [],
   "source": [
    "request = clients[\"predictions\"].batch_predict(\n",
    "    name=model_id, input_config=input_config, output_config=output_config\n",
    ")"
   ]
  },
  {
   "cell_type": "markdown",
   "metadata": {
    "id": "mcqKVj2Xc4zP"
   },
   "source": [
    "#### 响应"
   ]
  },
  {
   "cell_type": "code",
   "execution_count": null,
   "metadata": {
    "id": "bSTEmLgGc4zP"
   },
   "outputs": [],
   "source": [
    "result = request.result()\n",
    "\n",
    "print(MessageToJson(result.__dict__[\"_pb\"]))"
   ]
  },
  {
   "cell_type": "markdown",
   "metadata": {
    "id": "c4CvqTBhtMNi"
   },
   "source": [
    "*示例输出*：\n",
    "``` \n",
    "{}\n",
    "```"
   ]
  },
  {
   "cell_type": "markdown",
   "metadata": {
    "id": "FQjooSKyc4zQ"
   },
   "source": [
    "做在线预测"
   ]
  },
  {
   "cell_type": "markdown",
   "metadata": {
    "id": "nrRQoOCVc4zQ"
   },
   "source": [
    "为在线预测准备数据项"
   ]
  },
  {
   "cell_type": "code",
   "execution_count": null,
   "metadata": {
    "id": "mMdW9VbJc4zQ"
   },
   "outputs": [],
   "source": [
    "test_data = ! gsutil cat $IMPORT_FILE | head -n1\n",
    "\n",
    "test_item = str(test_data[0]).split(\",\")[0]\n",
    "test_label = str(test_data[0]).split(\",\")[1]\n",
    "\n",
    "print((test_item, test_label))"
   ]
  },
  {
   "cell_type": "markdown",
   "metadata": {
    "id": "8981b397c864"
   },
   "source": [
    "*示例输出*：\n",
    "```\n",
    "('@freewrytin 上帝对克拉瑞汀太好了', '2')\n",
    "```"
   ]
  },
  {
   "cell_type": "markdown",
   "metadata": {
    "id": "text_models_deploy:migration,old"
   },
   "source": [
    "### [projects.locations.models.deploy](https://cloud.google.com/automl/docs/reference/rest/v1beta1/projects.locations.models/deploy)\n",
    "\n",
    "### [projects.locations.models.deploy](https://cloud.google.com/automl/docs/reference/rest/v1beta1/projects.locations.models/deploy)"
   ]
  },
  {
   "cell_type": "markdown",
   "metadata": {
    "id": "h0AxsMSjc4zQ"
   },
   "source": [
    "#### 电话"
   ]
  },
  {
   "cell_type": "code",
   "execution_count": null,
   "metadata": {
    "id": "_Uxf6m8Cc4zR"
   },
   "outputs": [],
   "source": [
    "request = clients[\"automl\"].deploy_model(name=model_id)"
   ]
  },
  {
   "cell_type": "markdown",
   "metadata": {
    "id": "Rj8jg_GVc4zR"
   },
   "source": [
    "回复"
   ]
  },
  {
   "cell_type": "code",
   "execution_count": null,
   "metadata": {
    "id": "q7rox1YCc4zR"
   },
   "outputs": [],
   "source": [
    "result = request.result()\n",
    "\n",
    "print(MessageToJson(result))"
   ]
  },
  {
   "cell_type": "markdown",
   "metadata": {
    "id": "s1ikNfXniG-3"
   },
   "source": [
    "*示例输出*：\n",
    "```\n",
    "{} \n",
    "```"
   ]
  },
  {
   "cell_type": "markdown",
   "metadata": {
    "id": "text_models_predict:migration,old"
   },
   "source": [
    "### [projects.locations.models.predict](https://cloud.google.com/automl/docs/reference/rest/v1beta1/projects.locations.models/predict) \n",
    "\n",
    "### [projects.locations.models.predict](https://cloud.google.com/automl/docs/reference/rest/v1beta1/projects.locations.models/predict)"
   ]
  },
  {
   "cell_type": "code",
   "execution_count": null,
   "metadata": {
    "id": "g688Vva3c4zS"
   },
   "outputs": [],
   "source": [
    "payload = {\"text_snippet\": {\"content\": test_item, \"mime_type\": \"text/plain\"}}\n",
    "\n",
    "prediction_request = automl.PredictRequest(\n",
    "    name=model_id,\n",
    "    payload=payload,\n",
    ")\n",
    "\n",
    "print(MessageToJson(prediction_request.__dict__[\"_pb\"]))"
   ]
  },
  {
   "cell_type": "markdown",
   "metadata": {
    "id": "cd025e2420db"
   },
   "source": [
    "示例输出：\n",
    "```\n",
    "{\n",
    "  \"name\": \"projects/116273516712/locations/us-central1/models/TST4078882474816438272\",\n",
    "  \"payload\": {\n",
    "    \"textSnippet\": {\n",
    "      \"content\": \"@freewrytin God is way too good for Claritin\",\n",
    "      \"mimeType\": \"text/plain\"\n",
    "    }\n",
    "  }\n",
    "}\n",
    "```"
   ]
  },
  {
   "cell_type": "markdown",
   "metadata": {
    "id": "kgznWoQcc4zS"
   },
   "source": [
    "#### 电话"
   ]
  },
  {
   "cell_type": "code",
   "execution_count": null,
   "metadata": {
    "id": "GUOkxQwic4zS"
   },
   "outputs": [],
   "source": [
    "request = clients[\"predictions\"].predict(request=prediction_request)"
   ]
  },
  {
   "cell_type": "markdown",
   "metadata": {
    "id": "9MfWbNzhc4zS"
   },
   "source": [
    "回应"
   ]
  },
  {
   "cell_type": "code",
   "execution_count": null,
   "metadata": {
    "id": "xZZliEjoc4zS"
   },
   "outputs": [],
   "source": [
    "print(MessageToJson(request.__dict__[\"_pb\"]))"
   ]
  },
  {
   "cell_type": "markdown",
   "metadata": {
    "id": "dc047af97666"
   },
   "source": [
    "*示例输出*：\n",
    "```\n",
    "{\n",
    "  \"payload\": [\n",
    "    {\n",
    "      \"textSentiment\": {\n",
    "        \"sentiment\": 3\n",
    "      }\n",
    "    }\n",
    "  ],\n",
    "  \"metadata\": {\n",
    "    \"sentiment_score\": \"0.30955505\"\n",
    "  }\n",
    "}\n",
    "```"
   ]
  },
  {
   "cell_type": "markdown",
   "metadata": {
    "id": "bQ-VVaSxJjkd"
   },
   "source": [
    "清理\n",
    "\n",
    "要清理此项目中使用的所有GCP资源，您可以[删除用于本教程的GCP项目](https://cloud.google.com/resource-manager/docs/creating-managing-projects#shutting_down_projects)。\n",
    "\n",
    "否则，您可以删除在此教程中创建的各个资源。"
   ]
  },
  {
   "cell_type": "code",
   "execution_count": null,
   "metadata": {
    "id": "oNJs94pKc4zT"
   },
   "outputs": [],
   "source": [
    "delete_dataset = True\n",
    "delete_model = True\n",
    "delete_bucket = True\n",
    "\n",
    "# Delete the dataset using the AutoML fully qualified identifier for the dataset\n",
    "try:\n",
    "    if delete_dataset:\n",
    "        clients[\"automl\"].delete_dataset(name=dataset_id)\n",
    "except Exception as e:\n",
    "    print(e)\n",
    "\n",
    "# Delete the model using the AutoML fully qualified identifier for the model\n",
    "try:\n",
    "    if delete_model:\n",
    "        clients[\"automl\"].delete_model(name=model_id)\n",
    "except Exception as e:\n",
    "    print(e)\n",
    "\n",
    "if delete_bucket and \"BUCKET_NAME\" in globals():\n",
    "    ! gsutil rm -r gs://$BUCKET_NAME"
   ]
  }
 ],
 "metadata": {
  "colab": {
   "name": "UJ8 legacy AutoML Natural Language - Text Sentiment Analysis.ipynb",
   "toc_visible": true
  },
  "kernelspec": {
   "display_name": "Python 3",
   "name": "python3"
  }
 },
 "nbformat": 4,
 "nbformat_minor": 0
}
