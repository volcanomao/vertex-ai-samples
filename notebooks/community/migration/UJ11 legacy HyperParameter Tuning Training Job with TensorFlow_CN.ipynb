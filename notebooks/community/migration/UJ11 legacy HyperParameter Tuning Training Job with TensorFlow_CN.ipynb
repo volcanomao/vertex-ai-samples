{
 "cells": [
  {
   "cell_type": "code",
   "execution_count": null,
   "metadata": {
    "id": "copyright"
   },
   "outputs": [],
   "source": [
    "# Copyright 2021 Google LLC\n",
    "#\n",
    "# Licensed under the Apache License, Version 2.0 (the \"License\");\n",
    "# you may not use this file except in compliance with the License.\n",
    "# You may obtain a copy of the License at\n",
    "#\n",
    "#     https://www.apache.org/licenses/LICENSE-2.0\n",
    "#\n",
    "# Unless required by applicable law or agreed to in writing, software\n",
    "# distributed under the License is distributed on an \"AS IS\" BASIS,\n",
    "# WITHOUT WARRANTIES OR CONDITIONS OF ANY KIND, either express or implied.\n",
    "# See the License for the specific language governing permissions and\n",
    "# limitations under the License."
   ]
  },
  {
   "cell_type": "markdown",
   "metadata": {
    "id": "title:migration,new"
   },
   "source": [
    "# Vertex SDK：使用TensorFlow提交一个超参数调整训练任务"
   ]
  },
  {
   "cell_type": "markdown",
   "metadata": {
    "id": "install_aip"
   },
   "source": [
    "## 安装"
   ]
  },
  {
   "cell_type": "markdown",
   "metadata": {
    "id": "install_storage"
   },
   "source": [
    "将Google *云存储*库安装到您的设备上。"
   ]
  },
  {
   "cell_type": "code",
   "execution_count": null,
   "metadata": {
    "id": "Y7Y8OgsQRlvq"
   },
   "outputs": [],
   "source": [
    "! pip3 install google-cloud-storage"
   ]
  },
  {
   "cell_type": "markdown",
   "metadata": {
    "id": "restart"
   },
   "source": [
    "### 重启内核\n",
    "\n",
    "安装了Vertex SDK和Google *cloud-storage*后，您需要重新启动笔记本内核，以便它可以找到这些软件包。"
   ]
  },
  {
   "cell_type": "code",
   "execution_count": null,
   "metadata": {
    "id": "7LoqmDz3Rlvu"
   },
   "outputs": [],
   "source": [
    "import os\n",
    "\n",
    "if not os.getenv(\"AUTORUN\"):\n",
    "    # Automatically restart kernel after installs\n",
    "    import IPython\n",
    "\n",
    "    app = IPython.Application.instance()\n",
    "    app.kernel.do_shutdown(True)"
   ]
  },
  {
   "cell_type": "markdown",
   "metadata": {
    "id": "before_you_begin"
   },
   "source": [
    "## 开始前\n",
    "\n",
    "### GPU 运行时\n",
    "\n",
    "*如果您有此选项，请确保在 GPU 运行时中运行此笔记本。在 Colab 中，选择* **运行时 > 更改运行时类型 > GPU**\n",
    "\n",
    "### 设置您的 GCP 项目\n",
    "\n",
    "**无论您的笔记本环境如何，都需要执行以下步骤。**\n",
    "\n",
    "1. [选择或创建 GCP 项目](https://console.cloud.google.com/cloud-resource-manager)。您首次创建账户时，将获得 $300 的免费信用额度，可用于计算/存储成本。\n",
    "\n",
    "2. [确保为您的项目启用计费。](https://cloud.google.com/billing/docs/how-to/modify-project)\n",
    "\n",
    "3. [启用 Vertex API 和 Compute Engine API。](https://console.cloud.google.com/flows/enableapi?apiid=ml.googleapis.com,compute_component)\n",
    "\n",
    "4. [Google Cloud SDK](https://cloud.google.com/sdk) 已经安装在 Google Cloud 笔记本中。\n",
    "\n",
    "5. 在下面的单元格中输入您的项目 ID。然后运行该单元格，以确保 Cloud SDK 对本笔记本中的所有命令使用正确的项目。\n",
    "\n",
    "**注意**: Jupyter 对以 `!` 为前缀的行作为 shell 命令执行，并将以 `$` 为前缀的 Python 变量插入到这些命令中。"
   ]
  },
  {
   "cell_type": "code",
   "execution_count": null,
   "metadata": {
    "id": "set_project_id"
   },
   "outputs": [],
   "source": [
    "PROJECT_ID = \"[your-project-id]\"  # @param {type:\"string\"}"
   ]
  },
  {
   "cell_type": "code",
   "execution_count": null,
   "metadata": {
    "id": "autoset_project_id"
   },
   "outputs": [],
   "source": [
    "if PROJECT_ID == \"\" or PROJECT_ID is None or PROJECT_ID == \"[your-project-id]\":\n",
    "    # Get your GCP project id from gcloud\n",
    "    shell_output = !gcloud config list --format 'value(core.project)' 2>/dev/null\n",
    "    PROJECT_ID = shell_output[0]\n",
    "    print(\"Project ID:\", PROJECT_ID)"
   ]
  },
  {
   "cell_type": "code",
   "execution_count": null,
   "metadata": {
    "id": "set_gcloud_project_id"
   },
   "outputs": [],
   "source": [
    "! gcloud config set project $PROJECT_ID"
   ]
  },
  {
   "cell_type": "markdown",
   "metadata": {
    "id": "region"
   },
   "source": [
    "#### 地区\n",
    "\n",
    "您还可以更改`REGION`变量，该变量用于笔记本的其余部分操作。以下是Vertex支持的地区。我们建议尽可能选择距离您最近的地区。\n",
    "\n",
    "- 美洲：`us-central1`\n",
    "- 欧洲：`europe-west4`\n",
    "- 亚太地区：`asia-east1`\n",
    "\n",
    "您不能使用多区域存储桶来训练Vertex。并非所有地区都支持所有Vertex服务。有关每个地区的最新支持，请参阅[Vertex服务的地区支持]()。"
   ]
  },
  {
   "cell_type": "code",
   "execution_count": null,
   "metadata": {
    "id": "XEwJmlbzRlvy"
   },
   "outputs": [],
   "source": [
    "REGION = \"us-central1\"  # @param {type: \"string\"}"
   ]
  },
  {
   "cell_type": "markdown",
   "metadata": {
    "id": "timestamp"
   },
   "source": [
    "时间戳\n",
    "\n",
    "如果您正在参加实时教程会议，您可能会使用共享的测试账户或项目。为了避免在创建的资源上发生名称冲突，您为每个实例会话创建一个时间戳，并附加到将在本教程中创建的资源的名称上。"
   ]
  },
  {
   "cell_type": "code",
   "execution_count": null,
   "metadata": {
    "id": "LwF83xbORlvz"
   },
   "outputs": [],
   "source": [
    "from datetime import datetime\n",
    "\n",
    "TIMESTAMP = datetime.now().strftime(\"%Y%m%d%H%M%S\")"
   ]
  },
  {
   "cell_type": "markdown",
   "metadata": {
    "id": "gcp_authenticate"
   },
   "source": [
    "### 验证您的GCP账户\n",
    "\n",
    "**如果您正在使用谷歌云笔记本**，您的环境已经通过身份验证。请跳过这一步。\n",
    "\n",
    "*注意：如果您使用Vertex笔记本并运行该单元格，则该单元格会自动跳过执行身份验证步骤。*"
   ]
  },
  {
   "cell_type": "code",
   "execution_count": null,
   "metadata": {
    "id": "MVoDIpoZRlv0"
   },
   "outputs": [],
   "source": [
    "import os\n",
    "import sys\n",
    "\n",
    "# If you are running this notebook in Colab, run this cell and follow the\n",
    "# instructions to authenticate your Google Cloud account. This provides access\n",
    "# to your Cloud Storage bucket and lets you submit training jobs and prediction\n",
    "# requests.\n",
    "\n",
    "# If on Vertex, then don't execute this code\n",
    "if not os.path.exists(\"/opt/deeplearning/metadata/env_version\"):\n",
    "    if \"google.colab\" in sys.modules:\n",
    "        from google.colab import auth as google_auth\n",
    "\n",
    "        google_auth.authenticate_user()\n",
    "\n",
    "    # If you are running this tutorial in a notebook locally, replace the string\n",
    "    # below with the path to your service account key and run this cell to\n",
    "    # authenticate your Google Cloud account.\n",
    "    else:\n",
    "        %env GOOGLE_APPLICATION_CREDENTIALS your_path_to_credentials.json\n",
    "\n",
    "    # Log in to your account on Google Cloud\n",
    "    ! gcloud auth login"
   ]
  },
  {
   "cell_type": "markdown",
   "metadata": {
    "id": "bucket:batch_prediction"
   },
   "source": [
    "### 创建一个云存储桶\n",
    "\n",
    "**无论您使用的是什么笔记本环境，都需要执行以下步骤。**\n",
    "\n",
    "本教程旨在使用公共云存储桶中的训练数据以及本地云存储桶进行批量预测。您也可以使用自己存储在本地云存储桶中的训练数据。\n",
    "\n",
    "在下面设置您的云存储桶的名称。它必须在所有云存储桶中是唯一的。"
   ]
  },
  {
   "cell_type": "code",
   "execution_count": null,
   "metadata": {
    "id": "bucket"
   },
   "outputs": [],
   "source": [
    "BUCKET_NAME = \"[your-bucket-name]\"  # @param {type:\"string\"}"
   ]
  },
  {
   "cell_type": "code",
   "execution_count": null,
   "metadata": {
    "id": "autoset_bucket"
   },
   "outputs": [],
   "source": [
    "if BUCKET_NAME == \"\" or BUCKET_NAME is None or BUCKET_NAME == \"[your-bucket-name]\":\n",
    "    BUCKET_NAME = PROJECT_ID + \"aip-\" + TIMESTAMP"
   ]
  },
  {
   "cell_type": "markdown",
   "metadata": {
    "id": "create_bucket"
   },
   "source": [
    "只有在您的存储桶不存在时才运行以下代码以创建您的云存储桶。"
   ]
  },
  {
   "cell_type": "code",
   "execution_count": null,
   "metadata": {
    "id": "vIi5JxUcRlv3"
   },
   "outputs": [],
   "source": [
    "! gsutil mb -l $REGION gs://$BUCKET_NAME"
   ]
  },
  {
   "cell_type": "markdown",
   "metadata": {
    "id": "validate_bucket"
   },
   "source": [
    "最后，通过检查其内容来验证对云存储桶的访问权限："
   ]
  },
  {
   "cell_type": "code",
   "execution_count": null,
   "metadata": {
    "id": "czQSbzsaRlv7"
   },
   "outputs": [],
   "source": [
    "! gsutil ls -al gs://$BUCKET_NAME"
   ]
  },
  {
   "cell_type": "markdown",
   "metadata": {
    "id": "setup_vars"
   },
   "source": [
    "### 设置变量\n",
    "\n",
    "接下来，设置一些在教程中使用的变量。\n",
    "### 导入库并定义常量"
   ]
  },
  {
   "cell_type": "markdown",
   "metadata": {
    "id": "import_aip"
   },
   "source": [
    "导入Vertex SDK\n",
    "\n",
    "将Vertex SDK导入到我们的Python环境中。"
   ]
  },
  {
   "cell_type": "code",
   "execution_count": null,
   "metadata": {
    "id": "-KblK5bSRlv8"
   },
   "outputs": [],
   "source": [
    "import json\n",
    "import os\n",
    "import sys\n",
    "import time\n",
    "from datetime import datetime\n",
    "\n",
    "from googleapiclient import discovery"
   ]
  },
  {
   "cell_type": "markdown",
   "metadata": {
    "id": "aip_constants"
   },
   "source": [
    "顶点常量\n",
    "\n",
    "为顶点设置以下常量：\n",
    "\n",
    "- `PARENT`：数据集、模型和端点资源的顶点位置根路径。"
   ]
  },
  {
   "cell_type": "code",
   "execution_count": null,
   "metadata": {
    "id": "terGI8TzRlv9"
   },
   "outputs": [],
   "source": [
    "# Vertex location root path for your dataset, model and endpoint resources\n",
    "PARENT = \"projects/\" + PROJECT_ID + \"/locations/\" + REGION"
   ]
  },
  {
   "cell_type": "markdown",
   "metadata": {
    "id": "clients"
   },
   "source": [
    "## 客户端\n",
    "\n",
    "Vertex SDK 作为客户端/服务器模型工作。在您的端（Python 脚本）中，您将创建一个客户端，该客户端向服务器（Vertex）发送请求并接收响应。\n",
    "\n",
    "在本教程中，您将使用多个客户端，所以请提前设置好所有客户端。"
   ]
  },
  {
   "cell_type": "code",
   "execution_count": null,
   "metadata": {
    "id": "2o-kpasCRlv-"
   },
   "outputs": [],
   "source": [
    "client = discovery.build(\"ml\", \"v1\")"
   ]
  },
  {
   "cell_type": "markdown",
   "metadata": {
    "id": "rI2IQP-rRlv_"
   },
   "source": [
    "准备一份培训师指引稿。"
   ]
  },
  {
   "cell_type": "markdown",
   "metadata": {
    "id": "ldA8lSHtRlv_"
   },
   "source": [
    "### 包装组装"
   ]
  },
  {
   "cell_type": "code",
   "execution_count": null,
   "metadata": {
    "id": "5FT2-PifRlv_"
   },
   "outputs": [],
   "source": [
    "# Make folder for python training script\n",
    "! rm -rf custom\n",
    "! mkdir custom\n",
    "\n",
    "# Add package information\n",
    "! touch custom/README.md\n",
    "\n",
    "setup_cfg = \"[egg_info]\\n\\\n",
    "tag_build =\\n\\\n",
    "tag_date = 0\"\n",
    "! echo \"$setup_cfg\" > custom/setup.cfg\n",
    "\n",
    "setup_py = \"import setuptools\\n\\\n",
    "# Requires TensorFlow Datasets\\n\\\n",
    "setuptools.setup(\\n\\\n",
    "    install_requires=[\\n\\\n",
    "        'tensorflow_datasets==1.3.0',\\n\\\n",
    "    ],\\n\\\n",
    "    packages=setuptools.find_packages())\"\n",
    "! echo \"$setup_py\" > custom/setup.py\n",
    "\n",
    "pkg_info = \"Metadata-Version: 1.0\\n\\\n",
    "Name: Hyperparameter Tuning - Boston Housing\\n\\\n",
    "Version: 0.0.0\\n\\\n",
    "Summary: Demonstration hyperparameter tuning script\\n\\\n",
    "Home-page: www.google.com\\n\\\n",
    "Author: Google\\n\\\n",
    "Author-email: aferlitsch@gmail.com\\n\\\n",
    "License: Public\\n\\\n",
    "Description: Demo\\n\\\n",
    "Platform: Vertex AI\"\n",
    "! echo \"$pkg_info\" > custom/PKG-INFO\n",
    "\n",
    "# Make the training subfolder\n",
    "! mkdir custom/trainer\n",
    "! touch custom/trainer/__init__.py"
   ]
  },
  {
   "cell_type": "markdown",
   "metadata": {
    "id": "ogDv9tBORlv_"
   },
   "source": [
    "### Task.py 的內容"
   ]
  },
  {
   "cell_type": "code",
   "execution_count": null,
   "metadata": {
    "id": "0-Bj8SCcRlwA"
   },
   "outputs": [],
   "source": [
    "%%writefile custom/trainer/task.py\n",
    "# Custom Training for Boston Housing\n",
    "  \n",
    "import tensorflow_datasets as tfds\n",
    "import tensorflow as tf\n",
    "from tensorflow.python.client import device_lib\n",
    "from hypertune import HyperTune\n",
    "import numpy as np\n",
    "import argparse\n",
    "import os\n",
    "import sys\n",
    "tfds.disable_progress_bar()\n",
    "\n",
    "parser = argparse.ArgumentParser()\n",
    "parser.add_argument('--model-dir', dest='model_dir',\n",
    "                    default='/tmp/saved_model', type=str, help='Model dir.')\n",
    "parser.add_argument('--lr', dest='lr',\n",
    "                    default=0.001, type=float,\n",
    "                    help='Learning rate.')\n",
    "parser.add_argument('--units', dest='units',\n",
    "                    default=64, type=int,\n",
    "                    help='Number of units.')\n",
    "parser.add_argument('--epochs', dest='epochs',\n",
    "                    default=20, type=int,\n",
    "                    help='Number of epochs.')\n",
    "parser.add_argument('--param-file', dest='param_file',\n",
    "                    default='/tmp/param.txt', type=str,\n",
    "                    help='Output file for parameters')\n",
    "args = parser.parse_args()\n",
    "\n",
    "print('Python Version = {}'.format(sys.version))\n",
    "print('TensorFlow Version = {}'.format(tf.__version__))\n",
    "print('TF_CONFIG = {}'.format(os.environ.get('TF_CONFIG', 'Not found')))\n",
    "\n",
    "def make_dataset():\n",
    "  # Scaling Boston Housing data features\n",
    "  def scale(feature):\n",
    "    max = np.max(feature)\n",
    "    feature = (feature / max).astype(np.float)\n",
    "    return feature, max\n",
    "\n",
    "  (x_train, y_train), (x_test, y_test) = tf.keras.datasets.boston_housing.load_data(\n",
    "    path=\"boston_housing.npz\", test_split=0.2, seed=113\n",
    "  )\n",
    "  params = []\n",
    "  for _ in range(13):\n",
    "    x_train[_], max = scale(x_train[_])\n",
    "    x_test[_], _ = scale(x_test[_])\n",
    "    params.append(max)\n",
    "    \n",
    "  # store the normalization (max) value for each feature\n",
    "  with tf.io.gfile.GFile(args.param_file, 'w') as f:\n",
    "    f.write(str(params))\n",
    "  return (x_train, y_train), (x_test, y_test)\n",
    "\n",
    "# Build the Keras model\n",
    "def build_and_compile_dnn_model():\n",
    "  model = tf.keras.Sequential([\n",
    "      tf.keras.layers.Dense(args.units, activation='relu', input_shape=(13,)),\n",
    "      tf.keras.layers.Dense(args.units, activation='relu'),\n",
    "      tf.keras.layers.Dense(1, activation='linear')\n",
    "  ])\n",
    "  model.compile(\n",
    "      loss='mse',\n",
    "      optimizer=tf.keras.optimizers.RMSprop(learning_rate=args.lr))\n",
    "  return model\n",
    "\n",
    "model = build_and_compile_dnn_model()\n",
    "\n",
    "# Instantiate the HyperTune reporting object\n",
    "hpt = HyperTune()\n",
    "\n",
    "# Reporting callback\n",
    "class HPTCallback(tf.keras.callbacks.Callback):\n",
    "\n",
    "    def on_epoch_end(self, epoch, logs=None):\n",
    "        global hpt\n",
    "        hpt.report_hyperparameter_tuning_metric(\n",
    "        hyperparameter_metric_tag='val_loss',\n",
    "        metric_value=logs['val_loss'],\n",
    "        global_step=epoch)\n",
    "\n",
    "# Train the model\n",
    "BATCH_SIZE = 16\n",
    "(x_train, y_train), (x_test, y_test) = make_dataset()\n",
    "model.fit(x_train, y_train, epochs=args.epochs, batch_size=BATCH_SIZE, validation_split=0.1, callbacks=[HPTCallback()])\n",
    "model.save(args.model_dir)\n"
   ]
  },
  {
   "cell_type": "markdown",
   "metadata": {
    "id": "15pqExlERlwA"
   },
   "source": [
    "把培训脚本存储在你的云存储桶里"
   ]
  },
  {
   "cell_type": "code",
   "execution_count": null,
   "metadata": {
    "id": "YsuaEFZuRlwB"
   },
   "outputs": [],
   "source": [
    "! rm -f custom.tar custom.tar.gz\n",
    "! tar cvf custom.tar custom\n",
    "! gzip custom.tar\n",
    "! gsutil cp custom.tar.gz gs://$BUCKET_NAME/hpt_boston_housing.tar.gz"
   ]
  },
  {
   "cell_type": "markdown",
   "metadata": {
    "id": "text_create_and_deploy_model:migration"
   },
   "source": [
    "训练一个模型"
   ]
  },
  {
   "cell_type": "markdown",
   "metadata": {
    "id": "0oqIBOSnJjkW"
   },
   "source": [
    "[projects.jobs.create](https://cloud.google.com/ai-platform/training/docs/reference/rest/v1/projects.jobs/create)\n",
    "[项目.就业.创造](https://cloud.google.com/ai-platform/training/docs/reference/rest/v1/projects.jobs/create)"
   ]
  },
  {
   "cell_type": "markdown",
   "metadata": {
    "id": "TolZMkuSRlwC"
   },
   "source": [
    "#### 请求"
   ]
  },
  {
   "cell_type": "code",
   "execution_count": null,
   "metadata": {
    "id": "bmSJIBU3RlwC"
   },
   "outputs": [],
   "source": [
    "JOB_NAME = \"hyperparameter_tuning_\" + TIMESTAMP\n",
    "\n",
    "training_input = {\n",
    "    \"scaleTier\": \"CUSTOM\",\n",
    "    \"masterType\": \"n1-standard-4\",\n",
    "    \"packageUris\": [\"gs://\" + BUCKET_NAME + \"/hpt_boston_housing.tar.gz\"],\n",
    "    \"pythonModule\": \"trainer.task\",\n",
    "    \"args\": [\n",
    "        \"--model-dir=\" + \"gs://{}/{}\".format(BUCKET_NAME, JOB_NAME),\n",
    "    ],\n",
    "    \"region\": REGION,\n",
    "    \"runtimeVersion\": \"2.1\",\n",
    "    \"pythonVersion\": \"3.7\",\n",
    "}\n",
    "\n",
    "# Add hyperparameter tuning to the job config.\n",
    "hyperparams = {\n",
    "    \"goal\": \"MINIMIZE\",\n",
    "    \"hyperparameterMetricTag\": \"val_loss\",\n",
    "    \"maxTrials\": 6,\n",
    "    \"maxParallelTrials\": 1,\n",
    "    \"params\": [],\n",
    "    \"algorithm\": \"RANDOM_SEARCH\",\n",
    "}\n",
    "\n",
    "hyperparams[\"params\"].append(\n",
    "    {\n",
    "        \"parameterName\": \"lr\",\n",
    "        \"type\": \"DISCRETE\",\n",
    "        \"discreteValues\": [0.001, 0.01, 0.1],\n",
    "        \"scaleType\": \"UNIT_LINEAR_SCALE\",\n",
    "    }\n",
    ")\n",
    "\n",
    "hyperparams[\"params\"].append(\n",
    "    {\n",
    "        \"parameterName\": \"units\",\n",
    "        \"type\": \"INTEGER\",\n",
    "        \"minValue\": 32,\n",
    "        \"maxValue\": 256,\n",
    "        \"scaleType\": \"UNIT_LINEAR_SCALE\",\n",
    "    }\n",
    ")\n",
    "\n",
    "# Add hyperparameter specification to the training inputs dictionary.\n",
    "training_input[\"hyperparameters\"] = hyperparams\n",
    "\n",
    "body = {\"jobId\": JOB_NAME, \"trainingInput\": training_input}\n",
    "\n",
    "request = (\n",
    "    client.projects()\n",
    "    .jobs()\n",
    "    .create(\n",
    "        parent=\"projects/\" + PROJECT_ID,\n",
    "    )\n",
    ")\n",
    "request.body = body\n",
    "\n",
    "print(json.dumps(json.loads(request.to_json()), indent=2))\n",
    "\n",
    "request = client.projects().jobs().create(parent=\"projects/\" + PROJECT_ID, body=body)"
   ]
  },
  {
   "cell_type": "markdown",
   "metadata": {
    "id": "datasets_import:migration,new,request"
   },
   "source": [
    "*示例输出*：\n",
    "```\n",
    "{\n",
    "  \"uri\": \"https://ml.googleapis.com/v1/projects/migration-ucaip-training/jobs?alt=json\",\n",
    "  \"method\": \"POST\",\n",
    "  \"body\": {\n",
    "    \"jobId\": \"hyperparameter_tuning_20210226020553\",\n",
    "    \"trainingInput\": {\n",
    "      \"scaleTier\": \"CUSTOM\",\n",
    "      \"masterType\": \"n1-standard-4\",\n",
    "      \"packageUris\": [\n",
    "        \"gs://migration-ucaip-trainingaip-20210226020553/hpt_boston_housing.tar.gz\"\n",
    "      ],\n",
    "      \"pythonModule\": \"trainer.task\",\n",
    "      \"args\": [\n",
    "        \"--model-dir=gs://migration-ucaip-trainingaip-20210226020553/hyperparameter_tuning_20210226020553\"\n",
    "      ],\n",
    "      \"region\": \"us-central1\",\n",
    "      \"runtimeVersion\": \"2.1\",\n",
    "      \"pythonVersion\": \"3.7\",\n",
    "      \"hyperparameters\": {\n",
    "        \"goal\": \"MINIMIZE\",\n",
    "        \"hyperparameterMetricTag\": \"val_loss\",\n",
    "        \"maxTrials\": 6,\n",
    "        \"maxParallelTrials\": 1,\n",
    "        \"params\": [\n",
    "          {\n",
    "            \"parameterName\": \"lr\",\n",
    "            \"type\": \"DISCRETE\",\n",
    "            \"discreteValues\": [\n",
    "              0.001,\n",
    "              0.01,\n",
    "              0.1\n",
    "            ],\n",
    "            \"scaleType\": \"UNIT_LINEAR_SCALE\"\n",
    "          },\n",
    "          {\n",
    "            \"parameterName\": \"units\",\n",
    "            \"type\": \"INTEGER\",\n",
    "            \"minValue\": 32,\n",
    "            \"maxValue\": 256,\n",
    "            \"scaleType\": \"UNIT_LINEAR_SCALE\"\n",
    "          }\n",
    "        ],\n",
    "        \"algorithm\": \"RANDOM_SEARCH\"\n",
    "      }\n",
    "    }\n",
    "  },\n",
    "  \"headers\": {\n",
    "    \"accept\": \"application/json\",\n",
    "    \"accept-encoding\": \"gzip, deflate\",\n",
    "    \"user-agent\": \"(gzip)\",\n",
    "    \"x-goog-api-client\": \"gdcl/1.12.8 gl-python/3.7.8\"\n",
    "  },\n",
    "  \"methodId\": \"ml.projects.jobs.create\",\n",
    "  \"resumable\": null,\n",
    "  \"response_callbacks\": [],\n",
    "  \"_in_error_state\": false,\n",
    "  \"body_size\": 0,\n",
    "  \"resumable_uri\": null,\n",
    "  \"resumable_progress\": 0\n",
    "}\n",
    "```"
   ]
  },
  {
   "cell_type": "markdown",
   "metadata": {
    "id": "wC08Kt4eRlwE"
   },
   "source": [
    "#### 电话"
   ]
  },
  {
   "cell_type": "code",
   "execution_count": null,
   "metadata": {
    "id": "yNWyRHq_RlwE"
   },
   "outputs": [],
   "source": [
    "result = request.execute()"
   ]
  },
  {
   "cell_type": "markdown",
   "metadata": {
    "id": "rZZO8v7IRlwF"
   },
   "source": [
    "#### 回应"
   ]
  },
  {
   "cell_type": "code",
   "execution_count": null,
   "metadata": {
    "id": "_dO8K_sDRlwF"
   },
   "outputs": [],
   "source": [
    "print(json.dumps(result, indent=2))"
   ]
  },
  {
   "cell_type": "markdown",
   "metadata": {
    "id": "O85KoY2GRlwF"
   },
   "source": [
    "示例输出：\n",
    "```\n",
    "{\n",
    "  \"jobId\": \"hyperparameter_tuning_20210226020553\",\n",
    "  \"trainingInput\": {\n",
    "    \"scaleTier\": \"CUSTOM\",\n",
    "    \"masterType\": \"n1-standard-4\",\n",
    "    \"packageUris\": [\n",
    "      \"gs://migration-ucaip-trainingaip-20210226020553/hpt_boston_housing.tar.gz\"\n",
    "    ],\n",
    "    \"pythonModule\": \"trainer.task\",\n",
    "    \"args\": [\n",
    "      \"--model-dir=gs://migration-ucaip-trainingaip-20210226020553/hyperparameter_tuning_20210226020553\"\n",
    "    ],\n",
    "    \"hyperparameters\": {\n",
    "      \"goal\": \"MINIMIZE\",\n",
    "      \"params\": [\n",
    "        {\n",
    "          \"parameterName\": \"lr\",\n",
    "          \"type\": \"DISCRETE\",\n",
    "          \"discreteValues\": [\n",
    "            0.001,\n",
    "            0.01,\n",
    "            0.1\n",
    "          ],\n",
    "          \"scaleType\": \"UNIT_LINEAR_SCALE\"\n",
    "        },\n",
    "        {\n",
    "          \"parameterName\": \"units\",\n",
    "          \"minValue\": 32,\n",
    "          \"maxValue\": 256,\n",
    "          \"type\": \"INTEGER\",\n",
    "          \"scaleType\": \"UNIT_LINEAR_SCALE\"\n",
    "        }\n",
    "      ],\n",
    "      \"maxTrials\": 6,\n",
    "      \"maxParallelTrials\": 1,\n",
    "      \"hyperparameterMetricTag\": \"val_loss\",\n",
    "      \"algorithm\": \"RANDOM_SEARCH\"\n",
    "    },\n",
    "    \"region\": \"us-central1\",\n",
    "    \"runtimeVersion\": \"2.1\",\n",
    "    \"pythonVersion\": \"3.7\"\n",
    "  },\n",
    "  \"createTime\": \"2021-02-26T02:06:01Z\",\n",
    "  \"state\": \"QUEUED\",\n",
    "  \"trainingOutput\": {\n",
    "    \"isHyperparameterTuningJob\": true\n",
    "  },\n",
    "  \"etag\": \"MPeWDTbQOUQ=\"\n",
    "}\n",
    "```"
   ]
  },
  {
   "cell_type": "code",
   "execution_count": null,
   "metadata": {
    "id": "training_pipeline_id:migration,new,response"
   },
   "outputs": [],
   "source": [
    "# The short numeric ID for the custom training job\n",
    "hyperparameter_tuning_short_id = result[\"jobId\"]\n",
    "# The full unique ID for the custom training job\n",
    "hyperparameter_tuning_id = \"projects/\" + PROJECT_ID + \"/jobs/\" + result[\"jobId\"]\n",
    "\n",
    "print(hyperparameter_tuning_id)"
   ]
  },
  {
   "cell_type": "markdown",
   "metadata": {
    "id": "PP31x5R4RlwG"
   },
   "source": [
    "### [projects.jobs.get](https://cloud.google.com/ai-platform/training/docs/reference/rest/v1/projects.jobs/get)\n",
    "\n",
    "### [项目.作业.获取](https://cloud.google.com/ai-platform/training/docs/reference/rest/v1/projects.jobs/get)"
   ]
  },
  {
   "cell_type": "markdown",
   "metadata": {
    "id": "CNGyBG1iRlwG"
   },
   "source": [
    "#### 电话"
   ]
  },
  {
   "cell_type": "code",
   "execution_count": null,
   "metadata": {
    "id": "mrlTlJw1RlwG"
   },
   "outputs": [],
   "source": [
    "request = client.projects().jobs().get(name=hyperparameter_tuning_id)\n",
    "\n",
    "result = request.execute()"
   ]
  },
  {
   "cell_type": "markdown",
   "metadata": {
    "id": "dpGlbGq7RlwG"
   },
   "source": [
    "#### 回复"
   ]
  },
  {
   "cell_type": "code",
   "execution_count": null,
   "metadata": {
    "id": "00k1rWSORlwG"
   },
   "outputs": [],
   "source": [
    "print(json.dumps(result, indent=2))"
   ]
  },
  {
   "cell_type": "markdown",
   "metadata": {
    "id": "KzcY5CWlRlwH"
   },
   "source": [
    "*示例输出*：\n",
    "```\n",
    "{\n",
    "  \"jobId\": \"hyperparameter_tuning_20210226020553\",\n",
    "  \"trainingInput\": {\n",
    "    \"scaleTier\": \"CUSTOM\",\n",
    "    \"masterType\": \"n1-standard-4\",\n",
    "    \"packageUris\": [\n",
    "      \"gs://migration-ucaip-trainingaip-20210226020553/hpt_boston_housing.tar.gz\"\n",
    "    ],\n",
    "    \"pythonModule\": \"trainer.task\",\n",
    "    \"args\": [\n",
    "      \"--model-dir=gs://migration-ucaip-trainingaip-20210226020553/hyperparameter_tuning_20210226020553\"\n",
    "    ],\n",
    "    \"hyperparameters\": {\n",
    "      \"goal\": \"MINIMIZE\",\n",
    "      \"params\": [\n",
    "        {\n",
    "          \"parameterName\": \"lr\",\n",
    "          \"type\": \"DISCRETE\",\n",
    "          \"discreteValues\": [\n",
    "            0.001,\n",
    "            0.01,\n",
    "            0.1\n",
    "          ],\n",
    "          \"scaleType\": \"UNIT_LINEAR_SCALE\"\n",
    "        },\n",
    "        {\n",
    "          \"parameterName\": \"units\",\n",
    "          \"minValue\": 32,\n",
    "          \"maxValue\": 256,\n",
    "          \"type\": \"INTEGER\",\n",
    "          \"scaleType\": \"UNIT_LINEAR_SCALE\"\n",
    "        }\n",
    "      ],\n",
    "      \"maxTrials\": 6,\n",
    "      \"maxParallelTrials\": 1,\n",
    "      \"hyperparameterMetricTag\": \"val_loss\",\n",
    "      \"algorithm\": \"RANDOM_SEARCH\"\n",
    "    },\n",
    "    \"region\": \"us-central1\",\n",
    "    \"runtimeVersion\": \"2.1\",\n",
    "    \"pythonVersion\": \"3.7\"\n",
    "  },\n",
    "  \"createTime\": \"2021-02-26T02:06:01Z\",\n",
    "  \"state\": \"QUEUED\",\n",
    "  \"trainingOutput\": {\n",
    "    \"isHyperparameterTuningJob\": true\n",
    "  },\n",
    "  \"etag\": \"GNEDjq+ds8I=\"\n",
    "}\n",
    "```"
   ]
  },
  {
   "cell_type": "markdown",
   "metadata": {
    "id": "LWe8jWSTRlwH"
   },
   "source": [
    "## 等待研究完成"
   ]
  },
  {
   "cell_type": "code",
   "execution_count": null,
   "metadata": {
    "id": "trainingpipelines_get:migration,new,wait"
   },
   "outputs": [],
   "source": [
    "while True:\n",
    "    response = client.projects().jobs().get(name=hyperparameter_tuning_id).execute()\n",
    "\n",
    "    if response[\"state\"] != \"SUCCEEDED\":\n",
    "        print(\"Study trials have not completed:\", response[\"state\"])\n",
    "        if response[\"state\"] == \"FAILED\":\n",
    "            break\n",
    "    else:\n",
    "        print(\"Study trials have completed:\")\n",
    "        break\n",
    "    time.sleep(60)"
   ]
  },
  {
   "cell_type": "code",
   "execution_count": null,
   "metadata": {
    "id": "cGHPc83JRlwH"
   },
   "outputs": [],
   "source": [
    "print(json.dumps(response, indent=2))"
   ]
  },
  {
   "cell_type": "markdown",
   "metadata": {
    "id": "B5x1sVCCRlwI"
   },
   "source": [
    "{\n",
    "  \"jobId\": \"hyperparameter_tuning_20210226020553\",\n",
    "  \"trainingInput\": {\n",
    "    \"scaleTier\": \"CUSTOM\",\n",
    "    \"masterType\": \"n1-standard-4\",\n",
    "    \"packageUris\": [\n",
    "      \"gs://migration-ucaip-trainingaip-20210226020553/hpt_boston_housing.tar.gz\"\n",
    "    ],\n",
    "    \"pythonModule\": \"trainer.task\",\n",
    "    \"args\": [\n",
    "      \"--model-dir=gs://migration-ucaip-trainingaip-20210226020553/hyperparameter_tuning_20210226020553\"\n",
    "    ],\n",
    "    \"hyperparameters\": {\n",
    "      \"goal\": \"MINIMIZE\",\n",
    "      \"params\": [\n",
    "        {\n",
    "          \"parameterName\": \"lr\",\n",
    "          \"type\": \"DISCRETE\",\n",
    "          \"discreteValues\": [\n",
    "            0.001,\n",
    "            0.01,\n",
    "            0.1\n",
    "          ],\n",
    "          \"scaleType\": \"UNIT_LINEAR_SCALE\"\n",
    "        },\n",
    "        {\n",
    "          \"parameterName\": \"units\",\n",
    "          \"minValue\": 32,\n",
    "          \"maxValue\": 256,\n",
    "          \"type\": \"INTEGER\",\n",
    "          \"scaleType\": \"UNIT_LINEAR_SCALE\"\n",
    "        }\n",
    "      ],\n",
    "      \"maxTrials\": 6,\n",
    "      \"maxParallelTrials\": 1,\n",
    "      \"hyperparameterMetricTag\": \"val_loss\",\n",
    "      \"algorithm\": \"RANDOM_SEARCH\"\n",
    "    },\n",
    "    \"region\": \"us-central1\",\n",
    "    \"runtimeVersion\": \"2.1\",\n",
    "    \"pythonVersion\": \"3.7\"\n",
    "  },\n",
    "  \"createTime\": \"2021-02-26T02:06:01Z\",\n",
    "  \"startTime\": \"2021-02-26T02:06:03Z\",\n",
    "  \"endTime\": \"2021-02-26T02:35:25Z\",\n",
    "  \"state\": \"SUCCEEDED\",\n",
    "  \"trainingOutput\": {\n",
    "    \"completedTrialCount\": \"6\",\n",
    "    \"trials\": [\n",
    "      {\n",
    "        \"trialId\": \"3\",\n",
    "        \"hyperparameters\": {\n",
    "          \"lr\": \"0.1\",\n",
    "          \"units\": \"39\"\n",
    "        },\n",
    "        \"finalMetric\": {\n",
    "          \"trainingStep\": \"8\",\n",
    "          \"objectiveValue\": 45.76672372585389\n",
    "        },\n",
    "        \"startTime\": \"2021-02-26T02:16:50.943369954Z\",\n",
    "        \"endTime\": \"2021-02-26T02:20:15Z\",\n",
    "        \"state\": \"SUCCEEDED\"\n",
    "      },\n",
    "      {\n",
    "        \"trialId\": \"5\",\n",
    "        \"hyperparameters\": {\n",
    "          \"lr\": \"0.1\",\n",
    "          \"units\": \"169\"\n",
    "        },\n",
    "        \"finalMetric\": {\n",
    "          \"trainingStep\": \"19\",\n",
    "          \"objectiveValue\": 46.09460951642292\n",
    "        },\n",
    "        \"startTime\": \"2021-02-26T02:26:23.876101420Z\",\n",
    "        \"endTime\": \"2021-02-26T02:29:59Z\",\n",
    "        \"state\": \"SUCCEEDED\"\n",
    "      },\n",
    "      {\n",
    "        \"trialId\": \"2\",\n",
    "        \"hyperparameters\": {\n",
    "          \"lr\": \"0.1\",\n",
    "          \"units\": \"69\"\n",
    "        },\n",
    "        \"finalMetric\": {\n",
    "          \"trainingStep\": \"19\",\n",
    "          \"objectiveValue\": 51.7642993461795\n",
    "        },\n",
    "        \"startTime\": \"2021-02-26T02:12:03.812631906Z\",\n",
    "        \"endTime\": \"2021-02-26T02:15:30Z\",\n",
    "        \"state\": \"SUCCEEDED\"\n",
    "      },\n",
    "      {\n",
    "        \"trialId\": \"1\",\n",
    "        \"hyperparameters\": {\n",
    "          \"lr\": \"0.01\",\n",
    "          \"units\": \"232\"\n",
    "        },\n",
    "        \"finalMetric\": {\n",
    "          \"trainingStep\": \"19\",\n",
    "          \"objectiveValue\": 55.58717541578339\n",
    "        },\n",
    "        \"startTime\": \"2021-02-26T02:06:40.790962827Z\",\n",
    "        \"endTime\": \"2021-02-26T02:10:47Z\",\n",
    "        \"state\": \"SUCCEEDED\"\n",
    "      },\n",
    "      {\n",
    "        \"trialId\": \"6\",\n",
    "        \"hyperparameters\": {\n",
    "          \"lr\": \"0.001\",\n",
    "          \"units\": \"123\"\n",
    "        },\n",
    "        \"finalMetric\": {\n",
    "          \"trainingStep\": \"19\",\n",
    "          \"objectiveValue\": 76.20946111911681\n",
    "        },\n",
    "        \"startTime\": \"2021-02-26T02:31:11.163541810Z\",\n",
    "        \"endTime\": \"2021-02-26T02:34:36Z\",\n",
    "        \"state\": \"SUCCEEDED\"\n",
    "      },\n",
    "      {\n",
    "        \"trialId\": \"4\",\n",
    "        \"hyperparameters\": {\n",
    "          \"lr\": \"0.01\",\n",
    "          \"units\": \"246\"\n",
    "        },\n",
    "        \"finalMetric\": {\n",
    "          \"trainingStep\": \"11\",\n",
    "          \"objectiveValue\": 100.75884600383479\n",
    "        },\n",
    "        \"startTime\": \"2021-02-26T02:21:36.635969861Z\",\n",
    "        \"endTime\": \"2021-02-26T02:25:02Z\",\n",
    "        \"state\": \"SUCCEEDED\"\n",
    "      }\n",
    "    ],\n",
    "    \"consumedMLUnits\": 0.39,\n",
    "    \"isHyperparameterTuningJob\": true,\n",
    "    \"hyperparameterMetricTag\": \"val_loss\"\n",
    "  },\n",
    "  \"etag\": \"eUgnylIe/+0=\"\n",
    "}\n",
    "```"
   ]
  },
  {
   "cell_type": "markdown",
   "metadata": {
    "id": "1WqbO9gSRlwI"
   },
   "source": [
    "请审查研究的结果."
   ]
  },
  {
   "cell_type": "code",
   "execution_count": null,
   "metadata": {
    "id": "X0ooazLvRlwI"
   },
   "outputs": [],
   "source": [
    "best = (None, None, None, 0.0)\n",
    "response = client.projects().jobs().get(name=hyperparameter_tuning_id).execute()\n",
    "for trial in response[\"trainingOutput\"][\"trials\"]:\n",
    "    print(json.dumps(trial, indent=2))\n",
    "    # Keep track of the best outcome\n",
    "    try:\n",
    "        if float(trial.final_measurement.metrics[0].value) > best[3]:\n",
    "            best = (\n",
    "                trial.id,\n",
    "                float(trial.parameters[0].value),\n",
    "                float(trial.parameters[1].value),\n",
    "                float(trial.final_measurement.metrics[0].value),\n",
    "            )\n",
    "    except:\n",
    "        pass\n",
    "\n",
    "print()\n",
    "print(\"ID\", best[0])\n",
    "print(\"Decay\", best[1])\n",
    "print(\"Learning Rate\", best[2])\n",
    "print(\"Validation Accuracy\", best[3])"
   ]
  },
  {
   "cell_type": "markdown",
   "metadata": {
    "id": "l4nWUlSIRlwI"
   },
   "source": [
    "{\n",
    "  \"trialId\": \"3\",\n",
    "  \"hyperparameters\": {\n",
    "    \"lr\": \"0.1\",\n",
    "    \"units\": \"39\"\n",
    "  },\n",
    "  \"finalMetric\": {\n",
    "    \"trainingStep\": \"8\",\n",
    "    \"objectiveValue\": 45.76672372585389\n",
    "  },\n",
    "  \"startTime\": \"2021-02-26T02:16:50.943369954Z\",\n",
    "  \"endTime\": \"2021-02-26T02:20:15Z\",\n",
    "  \"state\": \"SUCCEEDED\"\n",
    "}\n",
    "{\n",
    "  \"trialId\": \"5\",\n",
    "  \"hyperparameters\": {\n",
    "    \"lr\": \"0.1\",\n",
    "    \"units\": \"169\"\n",
    "  },\n",
    "  \"finalMetric\": {\n",
    "    \"trainingStep\": \"19\",\n",
    "    \"objectiveValue\": 46.09460951642292\n",
    "  },\n",
    "  \"startTime\": \"2021-02-26T02:26:23.876101420Z\",\n",
    "  \"endTime\": \"2021-02-26T02:29:59Z\",\n",
    "  \"state\": \"SUCCEEDED\"\n",
    "}\n",
    "{\n",
    "  \"trialId\": \"2\",\n",
    "  \"hyperparameters\": {\n",
    "    \"lr\": \"0.1\",\n",
    "    \"units\": \"69\"\n",
    "  },\n",
    "  \"finalMetric\": {\n",
    "    \"trainingStep\": \"19\",\n",
    "    \"objectiveValue\": 51.7642993461795\n",
    "  },\n",
    "  \"startTime\": \"2021-02-26T02:12:03.812631906Z\",\n",
    "  \"endTime\": \"2021-02-26T02:15:30Z\",\n",
    "  \"state\": \"SUCCEEDED\"\n",
    "}\n",
    "{\n",
    "  \"trialId\": \"1\",\n",
    "  \"hyperparameters\": {\n",
    "    \"lr\": \"0.01\",\n",
    "    \"units\": \"232\"\n",
    "  },\n",
    "  \"finalMetric\": {\n",
    "    \"trainingStep\": \"19\",\n",
    "    \"objectiveValue\": 55.58717541578339\n",
    "  },\n",
    "  \"startTime\": \"2021-02-26T02:06:40.790962827Z\",\n",
    "  \"endTime\": \"2021-02-26T02:10:47Z\",\n",
    "  \"state\": \"SUCCEEDED\"\n",
    "}\n",
    "{\n",
    "  \"trialId\": \"6\",\n",
    "  \"hyperparameters\": {\n",
    "    \"lr\": \"0.001\",\n",
    "    \"units\": \"123\"\n",
    "  },\n",
    "  \"finalMetric\": {\n",
    "    \"trainingStep\": \"19\",\n",
    "    \"objectiveValue\": 76.20946111911681\n",
    "  },\n",
    "  \"startTime\": \"2021-02-26T02:31:11.163541810Z\",\n",
    "  \"endTime\": \"2021-02-26T02:34:36Z\",\n",
    "  \"state\": \"SUCCEEDED\"\n",
    "}\n",
    "{\n",
    "  \"trialId\": \"4\",\n",
    "  \"hyperparameters\": {\n",
    "    \"lr\": \"0.01\",\n",
    "    \"units\": \"246\"\n",
    "  },\n",
    "  \"finalMetric\": {\n",
    "    \"trainingStep\": \"11\",\n",
    "    \"objectiveValue\": 100.75884600383479\n",
    "  },\n",
    "  \"startTime\": \"2021-02-26T02:21:36.635969861Z\",\n",
    "  \"endTime\": \"2021-02-26T02:25:02Z\",\n",
    "  \"state\": \"SUCCEEDED\"\n",
    "}\n",
    "\n",
    "ID None\n",
    "Decay None\n",
    "Learning Rate None\n",
    "Validation Accuracy 0.0\n",
    "}"
   ]
  },
  {
   "cell_type": "markdown",
   "metadata": {
    "id": "cleanup:migration,new"
   },
   "source": [
    "清理工作\n",
    "\n",
    "要清理此项目中使用的所有GCP资源，您可以[删除用于本教程的GCP项目](https://cloud.google.com/resource-manager/docs/creating-managing-projects#shutting_down_projects)。\n",
    "\n",
    "否则，您可以删除本教程中创建的各个资源。"
   ]
  },
  {
   "cell_type": "code",
   "execution_count": null,
   "metadata": {
    "id": "fyVK3PbnRlwJ"
   },
   "outputs": [],
   "source": [
    "delete_bucket = True\n",
    "\n",
    "if delete_bucket and \"BUCKET_NAME\" in globals():\n",
    "    ! gsutil rm -r gs://$BUCKET_NAME"
   ]
  }
 ],
 "metadata": {
  "colab": {
   "collapsed_sections": [
    "import_aip",
    "aip_constants",
    "TolZMkuSRlwC",
    "wC08Kt4eRlwE",
    "rZZO8v7IRlwF",
    "CNGyBG1iRlwG",
    "dpGlbGq7RlwG"
   ],
   "name": "UJ11 legacy HyperParameter Tuning Training Job with TensorFlow.ipynb",
   "toc_visible": true
  },
  "kernelspec": {
   "display_name": "Python 3",
   "name": "python3"
  }
 },
 "nbformat": 4,
 "nbformat_minor": 0
}
