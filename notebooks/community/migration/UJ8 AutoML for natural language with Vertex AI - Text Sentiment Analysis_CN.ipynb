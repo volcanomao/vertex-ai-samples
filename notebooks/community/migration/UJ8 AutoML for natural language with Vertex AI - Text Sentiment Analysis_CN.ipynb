{
 "cells": [
  {
   "cell_type": "code",
   "execution_count": null,
   "metadata": {
    "id": "Sf2Z7mlw1siQ"
   },
   "outputs": [],
   "source": [
    "# Copyright 2021 Google LLC\n",
    "#\n",
    "# Licensed under the Apache License, Version 2.0 (the \"License\");\n",
    "# you may not use this file except in compliance with the License.\n",
    "# You may obtain a copy of the License at\n",
    "#\n",
    "#     https://www.apache.org/licenses/LICENSE-2.0\n",
    "#\n",
    "# Unless required by applicable law or agreed to in writing, software\n",
    "# distributed under the License is distributed on an \"AS IS\" BASIS,\n",
    "# WITHOUT WARRANTIES OR CONDITIONS OF ANY KIND, either express or implied.\n",
    "# See the License for the specific language governing permissions and\n",
    "# limitations under the License."
   ]
  },
  {
   "cell_type": "markdown",
   "metadata": {
    "id": "text_title:migration,automl,icn"
   },
   "source": [
    "# Vertex AI 自动机器学习文本情感分析模型\n",
    "\n",
    "## 安装\n",
    "\n",
    "安装最新（预览）版本的 Vertex SDK。"
   ]
  },
  {
   "cell_type": "code",
   "execution_count": null,
   "metadata": {
    "id": "7dxB6-B0JjkG"
   },
   "outputs": [],
   "source": [
    "! pip3 install -U google-cloud-aiplatform --user"
   ]
  },
  {
   "cell_type": "markdown",
   "metadata": {
    "id": "Iddo-8HmJjkH"
   },
   "source": [
    "安装谷歌 *云存储* 库。"
   ]
  },
  {
   "cell_type": "code",
   "execution_count": null,
   "metadata": {
    "id": "xHvi6EFSJjkH"
   },
   "outputs": [],
   "source": [
    "! pip3 install google-cloud-storage"
   ]
  },
  {
   "cell_type": "markdown",
   "metadata": {
    "id": "ktRTgB8DJjkI"
   },
   "source": [
    "### 重新启动内核\n",
    "\n",
    "一旦您安装了Vertex SDK 和 Google *cloud-storage*，您需要重新启动笔记本内核，以便它可以找到这些包。"
   ]
  },
  {
   "cell_type": "code",
   "execution_count": null,
   "metadata": {
    "id": "x1g4mBdlJjkI"
   },
   "outputs": [],
   "source": [
    "import os\n",
    "\n",
    "if not os.getenv(\"AUTORUN\"):\n",
    "    # Automatically restart kernel after installs\n",
    "    import IPython\n",
    "\n",
    "    app = IPython.Application.instance()\n",
    "    app.kernel.do_shutdown(True)"
   ]
  },
  {
   "cell_type": "markdown",
   "metadata": {
    "id": "4yZl1w-T6H1Q"
   },
   "source": [
    "## 开始之前\n",
    "\n",
    "### GPU 运行时\n",
    "\n",
    "*如果有此选项，请确保在 GPU 运行时中运行此笔记本。在 Colab 中，选择* **运行时 > 更改运行时类型 > GPU**\n",
    "\n",
    "### 设置您的 GCP 项目\n",
    "\n",
    "**无论您的笔记本环境如何，以下步骤都是必需的。**\n",
    "\n",
    "1. [选择或创建一个 GCP 项目](https://console.cloud.google.com/cloud-resource-manager)。当您第一次创建账号时，您将获得 $300 的免费信用用于计算/存储成本。\n",
    "\n",
    "2. [确保您的项目已启用计费。](https://cloud.google.com/billing/docs/how-to/modify-project)\n",
    "\n",
    "3. [启用 Vertex APIs 和 Compute Engine APIs。](https://console.cloud.google.com/flows/enableapi?apiid=ml.googleapis.com,compute_component)\n",
    "\n",
    "4. [Google Cloud SDK](https://cloud.google.com/sdk) 已安装在 Google Cloud 笔记本中。\n",
    "\n",
    "5. 在下面的单元格中输入您的项目 ID。然后运行该单元格，以确保\n",
    "Cloud SDK 对本笔记本中的所有命令使用正确的项目。\n",
    "\n",
    "**注意**：Jupyter 运行以`!`为前缀的行作为 shell 命令，并将以`$`为前缀的 Python 变量插入这些命令中。"
   ]
  },
  {
   "cell_type": "code",
   "execution_count": null,
   "metadata": {
    "id": "eidueLnCJjkJ"
   },
   "outputs": [],
   "source": [
    "PROJECT_ID = \"[your-project-id]\"  # @param {type:\"string\"}"
   ]
  },
  {
   "cell_type": "code",
   "execution_count": null,
   "metadata": {
    "id": "s__D9HcZ1siZ"
   },
   "outputs": [],
   "source": [
    "if PROJECT_ID == \"\" or PROJECT_ID is None or PROJECT_ID == \"[your-project-id]\":\n",
    "    # Get your GCP project id from gcloud\n",
    "    shell_output = !gcloud config list --format 'value(core.project)' 2>/dev/null\n",
    "    PROJECT_ID = shell_output[0]\n",
    "    print(\"Project ID:\", PROJECT_ID)"
   ]
  },
  {
   "cell_type": "code",
   "execution_count": null,
   "metadata": {
    "id": "0UfsdLCEJjkJ"
   },
   "outputs": [],
   "source": [
    "! gcloud config set project $PROJECT_ID"
   ]
  },
  {
   "cell_type": "markdown",
   "metadata": {
    "id": "jT0fijejJjkK"
   },
   "source": [
    "#### 区域\n",
    "\n",
    "您还可以更改“REGION”变量，该变量用于整个笔记本的操作。以下是 Vertex AI 支持的区域。我们建议尽可能选择距离您最近的区域。\n",
    "\n",
    "- 美洲：`us-central1`\n",
    "- 欧洲：`europe-west4`\n",
    "- 亚太地区：`asia-east1`\n",
    "\n",
    "您不能使用多区域存储桶进行 Vertex 训练。并非所有区域都支持所有 Vertex 服务。有关每个区域的最新支持，请参阅[Vertex AI 服务的区域支持](https://cloud.google.com/vertex-ai/docs/general/locations)"
   ]
  },
  {
   "cell_type": "code",
   "execution_count": null,
   "metadata": {
    "id": "CTBlncfrJjkK"
   },
   "outputs": [],
   "source": [
    "REGION = \"us-central1\"  # @param {type: \"string\"}"
   ]
  },
  {
   "cell_type": "markdown",
   "metadata": {
    "id": "J_croPBoJjkK"
   },
   "source": [
    "时间戳\n",
    "\n",
    "如果您正在进行实时教程会话，则可能在使用共享测试帐户或项目。为了避免在创建的资源上发生用户名冲突，您可以为每个实例会话创建一个时间戳，并附加到将在本教程中创建的资源的名称上。"
   ]
  },
  {
   "cell_type": "code",
   "execution_count": null,
   "metadata": {
    "id": "KKxStk5bJjkL"
   },
   "outputs": [],
   "source": [
    "from datetime import datetime\n",
    "\n",
    "TIMESTAMP = datetime.now().strftime(\"%Y%m%d%H%M%S\")"
   ]
  },
  {
   "cell_type": "markdown",
   "metadata": {
    "id": "Wx4DX8I07d-_"
   },
   "source": [
    "### 验证您的GCP账户\n",
    "\n",
    "**如果您正在使用Google云笔记本**，您的环境已经是经过验证的。请跳过这一步。\n",
    "\n",
    "*注意：如果您正在使用Vertex笔记本并运行单元格，则单元格会自动跳过执行身份验证步骤。*"
   ]
  },
  {
   "cell_type": "code",
   "execution_count": null,
   "metadata": {
    "id": "chybg3Ap_i_2"
   },
   "outputs": [],
   "source": [
    "import os\n",
    "import sys\n",
    "\n",
    "# If you are running this notebook in Colab, run this cell and follow the\n",
    "# instructions to authenticate your Google Cloud account. This provides access\n",
    "# to your Cloud Storage bucket and lets you submit training jobs and prediction\n",
    "# requests.\n",
    "\n",
    "# If on Vertex, then don't execute this code\n",
    "if not os.path.exists(\"/opt/deeplearning/metadata/env_version\"):\n",
    "    if \"google.colab\" in sys.modules:\n",
    "        from google.colab import auth as google_auth\n",
    "\n",
    "        google_auth.authenticate_user()\n",
    "\n",
    "    # If you are running this tutorial in a notebook locally, replace the string\n",
    "    # below with the path to your service account key and run this cell to\n",
    "    # authenticate your Google Cloud account.\n",
    "    else:\n",
    "        %env GOOGLE_APPLICATION_CREDENTIALS your_path_to_credentials.json\n",
    "\n",
    "    # Log in to your account on Google Cloud\n",
    "    ! gcloud auth login"
   ]
  },
  {
   "cell_type": "markdown",
   "metadata": {
    "id": "MDUAZaN3JjkL"
   },
   "source": [
    "### 创建一个云存储桶\n",
    "\n",
    "**无论你使用的是哪种笔记本环境，以下步骤都是必须的。**\n",
    "\n",
    "本教程旨在使用处于公共云存储桶中的训练数据以及本地云存储桶进行批量预测。您也可以使用自己存储在本地云存储桶中的训练数据。\n",
    "\n",
    "在下方设置您的云存储桶的名称。它必须在所有云存储桶中是唯一的。"
   ]
  },
  {
   "cell_type": "code",
   "execution_count": null,
   "metadata": {
    "id": "bucket"
   },
   "outputs": [],
   "source": [
    "BUCKET_NAME = \"[your-bucket-name]\"  # @param {type:\"string\"}"
   ]
  },
  {
   "cell_type": "code",
   "execution_count": null,
   "metadata": {
    "id": "autoset_bucket"
   },
   "outputs": [],
   "source": [
    "if BUCKET_NAME == \"\" or BUCKET_NAME is None or BUCKET_NAME == \"[your-bucket-name]\":\n",
    "    BUCKET_NAME = PROJECT_ID + \"aip-\" + TIMESTAMP"
   ]
  },
  {
   "cell_type": "markdown",
   "metadata": {
    "id": "yU6VuylGJjkM"
   },
   "source": [
    "只有在您的存储桶尚不存在时：运行以下单元格以创建您的云存储存储桶。"
   ]
  },
  {
   "cell_type": "code",
   "execution_count": null,
   "metadata": {
    "id": "QVRixM4oJjkM"
   },
   "outputs": [],
   "source": [
    "! gsutil mb -l $REGION gs://$BUCKET_NAME"
   ]
  },
  {
   "cell_type": "markdown",
   "metadata": {
    "id": "Mi-Pdh6QJjkN"
   },
   "source": [
    "最后，通过检查云存储桶的内容来验证访问权限。"
   ]
  },
  {
   "cell_type": "code",
   "execution_count": null,
   "metadata": {
    "id": "aqDptKpYJjkN"
   },
   "outputs": [],
   "source": [
    "! gsutil ls -al gs://$BUCKET_NAME"
   ]
  },
  {
   "cell_type": "markdown",
   "metadata": {
    "id": "fR9geV9pJjkO"
   },
   "source": [
    "### 设置变量\n",
    "\n",
    "接下来，设置一些在教程中使用的变量。\n",
    "### 导入库并定义常量"
   ]
  },
  {
   "cell_type": "markdown",
   "metadata": {
    "id": "hIHTX-pkJjkO"
   },
   "source": [
    "导入Vertex SDK\n",
    "\n",
    "将Vertex SDK导入到我们的Python环境中。"
   ]
  },
  {
   "cell_type": "code",
   "execution_count": null,
   "metadata": {
    "id": "qrSkIKVgJjkO"
   },
   "outputs": [],
   "source": [
    "import json\n",
    "import os\n",
    "import sys\n",
    "import time\n",
    "\n",
    "from google.cloud.aiplatform import gapic as aip\n",
    "from google.protobuf import json_format\n",
    "from google.protobuf.json_format import MessageToJson\n",
    "from google.protobuf.struct_pb2 import Struct, Value"
   ]
  },
  {
   "cell_type": "markdown",
   "metadata": {
    "id": "lbv411XjJjkP"
   },
   "source": [
    "设置以下的Vertex AI 常量：\n",
    "\n",
    "- `API_ENDPOINT`：Vertex AI 的 API 服务端点，用于数据集、模型、作业、流水线和终端点服务。\n",
    "- `PARENT`：Vertex AI 的位置根路径，用于数据集、模型和终端点资源。"
   ]
  },
  {
   "cell_type": "code",
   "execution_count": null,
   "metadata": {
    "id": "Gx8Eos8PJjkP"
   },
   "outputs": [],
   "source": [
    "# API Endpoint\n",
    "API_ENDPOINT = \"us-central1-aiplatform.googleapis.com\"\n",
    "\n",
    "# Vertex AI location root path for your dataset, model and endpoint resources\n",
    "PARENT = \"projects/\" + PROJECT_ID + \"/locations/\" + REGION"
   ]
  },
  {
   "cell_type": "markdown",
   "metadata": {
    "id": "4x_t-MWnJjkQ"
   },
   "source": [
    "#### AutoML常量\n",
    "\n",
    "接下来，设置与AutoML文本实体提取数据集和训练相关的常量：\n",
    "\n",
    "- 数据集模式：告诉托管数据集服务是哪种类型的数据集。\n",
    "- 数据标注（注释）架构：告诉托管数据集服务数据是如何标记（注释）的。\n",
    "- 数据集训练架构：告诉Vertex AI流水线服务要为哪种任务（例如分类）训练模型。"
   ]
  },
  {
   "cell_type": "code",
   "execution_count": null,
   "metadata": {
    "id": "nmzhH42tJjkQ"
   },
   "outputs": [],
   "source": [
    "# Text Dataset type\n",
    "TEXT_SCHEMA = \"google-cloud-aiplatform/schema/dataset/metadata/text_1.0.0.yaml\"\n",
    "# Text Labeling type\n",
    "IMPORT_SCHEMA_TEXT_SENTIMENT = \"gs://google-cloud-aiplatform/schema/dataset/ioformat/text_sentiment_io_format_1.0.0.yaml\"\n",
    "# Text Training task\n",
    "TRAINING_TEXT_SENTIMENT_SCHEMA = \"gs://google-cloud-aiplatform/schema/trainingjob/definition/automl_text_sentiment_1.0.0.yaml\""
   ]
  },
  {
   "cell_type": "markdown",
   "metadata": {
    "id": "R7P3MRNgJjkQ"
   },
   "source": [
    "## 客户端\n",
    "\n",
    "Vertex SDK 作为一个客户端/服务器模型工作。在您的一侧（Python脚本），您将创建一个客户端，向服务器（Vertex）发送请求并接收响应。\n",
    "\n",
    "在本教程中，您将使用多个客户端，请提前设置它们。\n",
    "\n",
    "- 用于托管数据集的数据集服务。\n",
    "- 用于托管模型的模型服务。\n",
    "- 用于训练的管道服务。\n",
    "- 用于部署的端点服务。\n",
    "- 用于批处理作业和自定义训练的作业服务。\n",
    "- 用于提供预测服务。\n",
    "\n",
    "*注意*：预测服务有不同的服务端点。"
   ]
  },
  {
   "cell_type": "code",
   "execution_count": null,
   "metadata": {
    "id": "kt8j_ey4JjkR"
   },
   "outputs": [],
   "source": [
    "# client options same for all services\n",
    "client_options = {\"api_endpoint\": API_ENDPOINT}\n",
    "\n",
    "\n",
    "def create_dataset_client():\n",
    "    client = aip.DatasetServiceClient(client_options=client_options)\n",
    "    return client\n",
    "\n",
    "\n",
    "def create_model_client():\n",
    "    client = aip.ModelServiceClient(client_options=client_options)\n",
    "    return client\n",
    "\n",
    "\n",
    "def create_pipeline_client():\n",
    "    client = aip.PipelineServiceClient(client_options=client_options)\n",
    "    return client\n",
    "\n",
    "\n",
    "def create_endpoint_client():\n",
    "    client = aip.EndpointServiceClient(client_options=client_options)\n",
    "    return client\n",
    "\n",
    "\n",
    "def create_prediction_client():\n",
    "    client = aip.PredictionServiceClient(client_options=client_options)\n",
    "    return client\n",
    "\n",
    "\n",
    "def create_job_client():\n",
    "    client = aip.JobServiceClient(client_options=client_options)\n",
    "    return client\n",
    "\n",
    "\n",
    "clients = {}\n",
    "clients[\"dataset\"] = create_dataset_client()\n",
    "clients[\"model\"] = create_model_client()\n",
    "clients[\"pipeline\"] = create_pipeline_client()\n",
    "clients[\"endpoint\"] = create_endpoint_client()\n",
    "clients[\"prediction\"] = create_prediction_client()\n",
    "clients[\"job\"] = create_job_client()\n",
    "\n",
    "for client in clients.items():\n",
    "    print(client)"
   ]
  },
  {
   "cell_type": "code",
   "execution_count": null,
   "metadata": {
    "id": "import_file:flowers,csv,icn"
   },
   "outputs": [],
   "source": [
    "IMPORT_FILE = \"gs://cloud-samples-data/language/claritin-split.csv\""
   ]
  },
  {
   "cell_type": "code",
   "execution_count": null,
   "metadata": {
    "id": "cBgFrDD1_i__"
   },
   "outputs": [],
   "source": [
    "! gsutil cat $IMPORT_FILE | head -n 10"
   ]
  },
  {
   "cell_type": "markdown",
   "metadata": {
    "id": "datasets_create:migration,new,request"
   },
   "source": [
    "示例输出：\n",
    "```\n",
    "训练，@freewrytin上帝对Claritin太好了，2,4\n",
    "训练，我需要Claritin。太糟糕了。我什么时候变得对过敏反应过敏了？，3,4\n",
    "训练，感谢上帝赐予Claritin。,4,4\n",
    "训练，“更糟糕的是，我昨天达到了喷鼻剂的3天使用限制，这意味着我必须依赖Claritin。”，2,4\n",
    "训练，是时候服用一些Claritin或Allegra或其他什么药物了。我需要我的声音，3,4\n",
    "训练，哦我的RT @imsydneycharles：我只是想在某个地方记录下我同时服用Claritin和Benadryl……以防我晕倒，2,4\n",
    "训练，取一个Claritin _ÛªÛ_Ûª_ÛªÌâ FML！！，3,4\n",
    "训练，Sarcelles的洛拉他汀通用A指挥官：洛拉他汀通用A指挥官 Sarcelles Claritin =Ûª_Ûª__ http://t.co/mOleL8AM，2,4\n",
    "训练，“Zyrtec，Claritin，Suddafed，鼻喷雾..我觉得自己像个吸食这些过敏药的药物成瘾者。请过敏季节..消失吧！！”，1,4\n",
    "训练，“Ûª_Ûª_ÛªÕ@SheLovesThatD：如果她有过敏反应，请给她Claritin D。Ûª_Ûª_Ì_å @Sweeno_thakid41 @B_Original16 @luke_CYwalker14”，3,4\n",
    "```"
   ]
  },
  {
   "cell_type": "markdown",
   "metadata": {
    "id": "text_create_dataset:migration"
   },
   "source": [
    "创建一个数据集"
   ]
  },
  {
   "cell_type": "markdown",
   "metadata": {
    "id": "b0J_eRSR1sih"
   },
   "source": [
    "### 准备数据"
   ]
  },
  {
   "cell_type": "markdown",
   "metadata": {
    "id": "text_datasets_create:migration,new"
   },
   "source": [
    "### [projects.locations.datasets.create](https://cloud.google.com/vertex-ai/docs/reference/rest/v1beta1/projects.locations.datasets/create)\n",
    "\n",
    "### [projects.locations.datasets.create](https://cloud.google.com/vertex-ai/docs/reference/rest/v1beta1/projects.locations.datasets/create)"
   ]
  },
  {
   "cell_type": "markdown",
   "metadata": {
    "id": "UwqJ-Ua-1sii"
   },
   "source": [
    "请求"
   ]
  },
  {
   "cell_type": "code",
   "execution_count": null,
   "metadata": {
    "id": "BsQTgqv41sij"
   },
   "outputs": [],
   "source": [
    "DATA_SCHEMA = TEXT_SCHEMA\n",
    "\n",
    "dataset = {\n",
    "    \"display_name\": \"claritin_\" + TIMESTAMP,\n",
    "    \"metadata_schema_uri\": \"gs://\" + DATA_SCHEMA,\n",
    "}\n",
    "\n",
    "print(\n",
    "    MessageToJson(\n",
    "        aip.CreateDatasetRequest(parent=PARENT, dataset=dataset).__dict__[\"_pb\"]\n",
    "    )\n",
    ")"
   ]
  },
  {
   "cell_type": "markdown",
   "metadata": {
    "id": "sPupiwqN_jAB"
   },
   "source": [
    "**示例输出**：\n",
    "```\n",
    "{\n",
    "  \"parent\": \"projects/migration-ucaip-training/locations/us-central1\",\n",
    "  \"dataset\": {\n",
    "    \"displayName\": \"claritin_20210301212135\",\n",
    "    \"metadataSchemaUri\": \"gs://google-cloud-aiplatform/schema/dataset/metadata/text_1.0.0.yaml\"\n",
    "  }\n",
    "}\n",
    "```"
   ]
  },
  {
   "cell_type": "markdown",
   "metadata": {
    "id": "8Vw-Ht8R1sij"
   },
   "source": [
    "#### 电话"
   ]
  },
  {
   "cell_type": "code",
   "execution_count": null,
   "metadata": {
    "id": "ctso28tq1sij"
   },
   "outputs": [],
   "source": [
    "request = clients[\"dataset\"].create_dataset(parent=PARENT, dataset=dataset)"
   ]
  },
  {
   "cell_type": "markdown",
   "metadata": {
    "id": "t2VmcwXf1sij"
   },
   "source": [
    "#### 回复"
   ]
  },
  {
   "cell_type": "code",
   "execution_count": null,
   "metadata": {
    "id": "7X0tEzLW1sik"
   },
   "outputs": [],
   "source": [
    "result = request.result()\n",
    "\n",
    "print(MessageToJson(result.__dict__[\"_pb\"]))"
   ]
  },
  {
   "cell_type": "markdown",
   "metadata": {
    "id": "sPupiwqN_jAB"
   },
   "source": [
    "{\n",
    "  \"name\": \"projects/116273516712/locations/us-central1/datasets/3047617533776494592\",\n",
    "  \"displayName\": \"claritin_20210301212135\",\n",
    "  \"metadataSchemaUri\": \"gs://google-cloud-aiplatform/schema/dataset/metadata/text_1.0.0.yaml\",\n",
    "  \"labels\": {\n",
    "    \"aiplatform.googleapis.com/dataset_metadata_schema\": \"TEXT\"\n",
    "  },\n",
    "  \"metadata\": {\n",
    "    \"dataItemSchemaUri\": \"gs://google-cloud-aiplatform/schema/dataset/dataitem/text_1.0.0.yaml\"\n",
    "  }\n",
    "}"
   ]
  },
  {
   "cell_type": "code",
   "execution_count": null,
   "metadata": {
    "id": "dataset_id:migration,new,response"
   },
   "outputs": [],
   "source": [
    "# The full unique ID for the dataset\n",
    "dataset_id = result.name\n",
    "# The short numeric ID for the dataset\n",
    "dataset_short_id = dataset_id.split(\"/\")[-1]\n",
    "\n",
    "print(dataset_id)"
   ]
  },
  {
   "cell_type": "markdown",
   "metadata": {
    "id": "text_datasets_import:migration,new"
   },
   "source": [
    "### [projects.locations.datasets.import](https://cloud.google.com/vertex-ai/docs/reference/rest/v1beta1/projects.locations.datasets/import)\n",
    "### [项目.位置.数据集.导入](https://cloud.google.com/vertex-ai/docs/reference/rest/v1beta1/projects.locations.datasets/import)"
   ]
  },
  {
   "cell_type": "markdown",
   "metadata": {
    "id": "FrIGGdbC1sik"
   },
   "source": [
    "请求"
   ]
  },
  {
   "cell_type": "code",
   "execution_count": null,
   "metadata": {
    "id": "L4UZJnOM1sik"
   },
   "outputs": [],
   "source": [
    "LABEL_SCHEMA = IMPORT_SCHEMA_TEXT_SENTIMENT\n",
    "\n",
    "import_config = {\n",
    "    \"gcs_source\": {\"uris\": [IMPORT_FILE]},\n",
    "    \"import_schema_uri\": LABEL_SCHEMA,\n",
    "}\n",
    "\n",
    "print(\n",
    "    MessageToJson(\n",
    "        aip.ImportDataRequest(name=dataset_id, import_configs=[import_config]).__dict__[\n",
    "            \"_pb\"\n",
    "        ]\n",
    "    )\n",
    ")"
   ]
  },
  {
   "cell_type": "markdown",
   "metadata": {
    "id": "sPupiwqN_jAB"
   },
   "source": [
    "```\n",
    "{\n",
    "  \"name\": \"projects/116273516712/locations/us-central1/datasets/3047617533776494592\",\n",
    "  \"importConfigs\": [\n",
    "    {\n",
    "      \"gcsSource\": {\n",
    "        \"uris\": [\n",
    "          \"gs://cloud-samples-data/language/claritin-split.csv\"\n",
    "        ]\n",
    "      },\n",
    "      \"importSchemaUri\": \"gs://google-cloud-aiplatform/schema/dataset/ioformat/text_sentiment_io_format_1.0.0.yaml\"\n",
    "    }\n",
    "  ]\n",
    "}\n",
    "```\n",
    "```\n",
    "{\n",
    "  \"名称\": \"projects/116273516712/locations/us-central1/datasets/3047617533776494592\",\n",
    "  \"导入配置\": [\n",
    "    {\n",
    "      \"gcs来源\": {\n",
    "        \"uris\": [\n",
    "          \"gs://cloud-samples-data/language/claritin-split.csv\"\n",
    "        ]\n",
    "      },\n",
    "      \"importSchemaUri\": \"gs://google-cloud-aiplatform/schema/dataset/ioformat/text_sentiment_io_format_1.0.0.yaml\"\n",
    "    }\n",
    "  ]\n",
    "}\n",
    "```"
   ]
  },
  {
   "cell_type": "markdown",
   "metadata": {
    "id": "klKZuShs1sik"
   },
   "source": [
    "#### 电话"
   ]
  },
  {
   "cell_type": "code",
   "execution_count": null,
   "metadata": {
    "id": "KURUWPTj1sil"
   },
   "outputs": [],
   "source": [
    "request = clients[\"dataset\"].import_data(\n",
    "    name=dataset_id, import_configs=[import_config]\n",
    ")"
   ]
  },
  {
   "cell_type": "markdown",
   "metadata": {
    "id": "Ggs4F4QJ1sil"
   },
   "source": [
    "#### 回應"
   ]
  },
  {
   "cell_type": "code",
   "execution_count": null,
   "metadata": {
    "id": "4amvwklf1sil"
   },
   "outputs": [],
   "source": [
    "result = request.result()\n",
    "\n",
    "print(MessageToJson(result.__dict__[\"_pb\"]))"
   ]
  },
  {
   "cell_type": "markdown",
   "metadata": {
    "id": "sPupiwqN_jAB"
   },
   "source": [
    "示例输出:\n",
    "```\n",
    "{}\n",
    "```"
   ]
  },
  {
   "cell_type": "markdown",
   "metadata": {
    "id": "text_create_and_deploy_model:migration"
   },
   "source": [
    "训练模型"
   ]
  },
  {
   "cell_type": "markdown",
   "metadata": {
    "id": "0oqIBOSnJjkW"
   },
   "source": [
    "### [projects.locations.trainingPipelines.create](https://cloud.google.com/vertex-ai/docs/reference/rest/v1beta1/projects.locations.trainingPipelines/create)\n",
    "\n",
    "### [projects.locations.trainingPipelines.create](https://cloud.google.com/vertex-ai/docs/reference/rest/v1beta1/projects.locations.trainingPipelines/create)"
   ]
  },
  {
   "cell_type": "markdown",
   "metadata": {
    "id": "rqTHZlwM1sil"
   },
   "source": [
    "#### 请求"
   ]
  },
  {
   "cell_type": "code",
   "execution_count": null,
   "metadata": {
    "id": "Y2EnBqsW1sim"
   },
   "outputs": [],
   "source": [
    "TRAINING_SCHEMA = TRAINING_TEXT_SENTIMENT_SCHEMA\n",
    "\n",
    "task = Value(struct_value=Struct(fields={\"sentiment_max\": Value(number_value=4)}))\n",
    "\n",
    "training_pipeline = {\n",
    "    \"display_name\": \"claritin_\" + TIMESTAMP,\n",
    "    \"input_data_config\": {\"dataset_id\": dataset_short_id},\n",
    "    \"model_to_upload\": {\"display_name\": \"claritin_\" + TIMESTAMP},\n",
    "    \"training_task_definition\": TRAINING_SCHEMA,\n",
    "    \"training_task_inputs\": task,\n",
    "}\n",
    "\n",
    "print(\n",
    "    MessageToJson(\n",
    "        aip.CreateTrainingPipelineRequest(\n",
    "            parent=PARENT,\n",
    "            training_pipeline=training_pipeline,\n",
    "        ).__dict__[\"_pb\"]\n",
    "    )\n",
    ")"
   ]
  },
  {
   "cell_type": "markdown",
   "metadata": {
    "id": "sPupiwqN_jAB"
   },
   "source": [
    "{\n",
    "  \"parent\": \"projects/migration-ucaip-training/locations/us-central1\",\n",
    "  \"trainingPipeline\": {\n",
    "    \"displayName\": \"claritin_20210301212135\",\n",
    "    \"inputDataConfig\": {\n",
    "      \"datasetId\": \"3047617533776494592\"\n",
    "    },\n",
    "    \"trainingTaskDefinition\": \"gs://google-cloud-aiplatform/schema/trainingjob/definition/automl_text_sentiment_1.0.0.yaml\",\n",
    "    \"trainingTaskInputs\": {\n",
    "      \"sentiment_max\": 4.0\n",
    "    },\n",
    "    \"modelToUpload\": {\n",
    "      \"displayName\": \"claritin_20210301212135\"\n",
    "    }\n",
    "  }\n",
    "}"
   ]
  },
  {
   "cell_type": "markdown",
   "metadata": {
    "id": "ynb6GJWQ1sim"
   },
   "source": [
    "#### 电话"
   ]
  },
  {
   "cell_type": "code",
   "execution_count": null,
   "metadata": {
    "id": "LahVyHQD1sim"
   },
   "outputs": [],
   "source": [
    "request = clients[\"pipeline\"].create_training_pipeline(\n",
    "    parent=PARENT, training_pipeline=training_pipeline\n",
    ")"
   ]
  },
  {
   "cell_type": "markdown",
   "metadata": {
    "id": "xES6wtah1sim"
   },
   "source": [
    "#### 回应"
   ]
  },
  {
   "cell_type": "code",
   "execution_count": null,
   "metadata": {
    "id": "Kw_d_K7j1sim"
   },
   "outputs": [],
   "source": [
    "print(MessageToJson(request.__dict__[\"_pb\"]))"
   ]
  },
  {
   "cell_type": "markdown",
   "metadata": {
    "id": "sPupiwqN_jAB"
   },
   "source": [
    "{\n",
    "  \"name\": \"projects/116273516712/locations/us-central1/trainingPipelines/5293990158067040256\",\n",
    "  \"displayName\": \"claritin_20210301212135\",\n",
    "  \"inputDataConfig\": {\n",
    "    \"datasetId\": \"3047617533776494592\"\n",
    "  },\n",
    "  \"trainingTaskDefinition\": \"gs://google-cloud-aiplatform/schema/trainingjob/definition/automl_text_sentiment_1.0.0.yaml\",\n",
    "  \"trainingTaskInputs\": {\n",
    "    \"sentimentMax\": 4.0\n",
    "  },\n",
    "  \"modelToUpload\": {\n",
    "    \"displayName\": \"claritin_20210301212135\"\n",
    "  },\n",
    "  \"state\": \"PIPELINE_STATE_PENDING\",\n",
    "  \"createTime\": \"2021-03-01T21:32:03.085444Z\",\n",
    "  \"updateTime\": \"2021-03-01T21:32:03.085444Z\"\n",
    "}"
   ]
  },
  {
   "cell_type": "code",
   "execution_count": null,
   "metadata": {
    "id": "54bab5051996"
   },
   "outputs": [],
   "source": [
    "# The full unique ID for the training pipeline\n",
    "training_pipeline_id = request.name\n",
    "# The short numeric ID for the training pipeline\n",
    "training_pipeline_short_id = training_pipeline_id.split(\"/\")[-1]\n",
    "\n",
    "print(training_pipeline_id)"
   ]
  },
  {
   "cell_type": "markdown",
   "metadata": {
    "id": "QJsV1xoSJjkW"
   },
   "source": [
    "### [projects.locations.trainingPipelines.get](https://cloud.google.com/vertex-ai/docs/reference/rest/v1beta1/projects.locations.trainingPipelines/get)\n",
    "\n",
    "### [projects.locations.trainingPipelines.get](https://cloud.google.com/vertex-ai/docs/reference/rest/v1beta1/projects.locations.trainingPipelines/get)"
   ]
  },
  {
   "cell_type": "markdown",
   "metadata": {
    "id": "wZZJzTBo1sin"
   },
   "source": [
    "呼叫"
   ]
  },
  {
   "cell_type": "code",
   "execution_count": null,
   "metadata": {
    "id": "qBKk5fXY1sin"
   },
   "outputs": [],
   "source": [
    "request = clients[\"pipeline\"].get_training_pipeline(name=training_pipeline_id)"
   ]
  },
  {
   "cell_type": "markdown",
   "metadata": {
    "id": "RCLZYC_T1sin"
   },
   "source": [
    "回应"
   ]
  },
  {
   "cell_type": "code",
   "execution_count": null,
   "metadata": {
    "id": "P8qJbudB1sin"
   },
   "outputs": [],
   "source": [
    "print(MessageToJson(request.__dict__[\"_pb\"]))"
   ]
  },
  {
   "cell_type": "markdown",
   "metadata": {
    "id": "sPupiwqN_jAB"
   },
   "source": [
    "{\n",
    "  \"name\": \"projects/116273516712/locations/us-central1/trainingPipelines/5293990158067040256\",\n",
    "  \"displayName\": \"claritin_20210301212135\",\n",
    "  \"inputDataConfig\": {\n",
    "    \"datasetId\": \"3047617533776494592\"\n",
    "  },\n",
    "  \"trainingTaskDefinition\": \"gs://google-cloud-aiplatform/schema/trainingjob/definition/automl_text_sentiment_1.0.0.yaml\",\n",
    "  \"trainingTaskInputs\": {\n",
    "    \"sentimentMax\": 4.0\n",
    "  },\n",
    "  \"modelToUpload\": {\n",
    "    \"displayName\": \"claritin_20210301212135\"\n",
    "  },\n",
    "  \"state\": \"PIPELINE_STATE_PENDING\",\n",
    "  \"createTime\": \"2021-03-01T21:32:03.085444Z\",\n",
    "  \"updateTime\": \"2021-03-01T21:32:03.085444Z\"\n",
    "}"
   ]
  },
  {
   "cell_type": "code",
   "execution_count": null,
   "metadata": {
    "id": "trainingpipelines_get:migration,new,wait"
   },
   "outputs": [],
   "source": [
    "while True:\n",
    "    response = clients[\"pipeline\"].get_training_pipeline(name=training_pipeline_id)\n",
    "    if response.state != aip.PipelineState.PIPELINE_STATE_SUCCEEDED:\n",
    "        print(\"Training job has not completed:\", response.state)\n",
    "        if response.state == aip.PipelineState.PIPELINE_STATE_FAILED:\n",
    "            break\n",
    "    else:\n",
    "        model_id = response.model_to_upload.name\n",
    "        print(\"Training Time:\", response.end_time - response.start_time)\n",
    "        break\n",
    "    time.sleep(20)\n",
    "\n",
    "print(model_id)"
   ]
  },
  {
   "cell_type": "markdown",
   "metadata": {
    "id": "text_evaluate_the_model:migration"
   },
   "source": [
    "评估模型"
   ]
  },
  {
   "cell_type": "markdown",
   "metadata": {
    "id": "BJNzhELXJjkY"
   },
   "source": [
    "### [projects.locations.models.evaluations.list](https://cloud.google.com/vertex-ai/docs/reference/rest/v1beta1/projects.locations.models.evaluations/list) \n",
    "\n",
    "### [projects.locations.models.evaluations.list](https://cloud.google.com/vertex-ai/docs/reference/rest/v1beta1/projects.locations.models.evaluations/list)"
   ]
  },
  {
   "cell_type": "markdown",
   "metadata": {
    "id": "HfPQn-dg1sio"
   },
   "source": [
    "#### 电话"
   ]
  },
  {
   "cell_type": "code",
   "execution_count": null,
   "metadata": {
    "id": "cK7Vpv9i1sio"
   },
   "outputs": [],
   "source": [
    "request = clients[\"model\"].list_model_evaluations(parent=model_id)"
   ]
  },
  {
   "cell_type": "markdown",
   "metadata": {
    "id": "OQDH5S_d1sio"
   },
   "source": [
    "回复"
   ]
  },
  {
   "cell_type": "code",
   "execution_count": null,
   "metadata": {
    "id": "prEvwExMmDy8"
   },
   "outputs": [],
   "source": [
    "model_evaluations = [json.loads(MessageToJson(mel.__dict__[\"_pb\"])) for mel in request]\n",
    "\n",
    "# The evaluation slice\n",
    "evaluation_slice = request.model_evaluations[0].name\n",
    "\n",
    "print(json.dumps(model_evaluations, indent=2))"
   ]
  },
  {
   "cell_type": "markdown",
   "metadata": {
    "id": "sPupiwqN_jAB"
   },
   "source": [
    "*示例输出*：\n",
    "```\n",
    "[\n",
    "  {\n",
    "    \"name\": \"projects/116273516712/locations/us-central1/models/5497364624833511424/evaluations/412684097299677184\",\n",
    "    \"metricsSchemaUri\": \"gs://google-cloud-aiplatform/schema/modelevaluation/text_sentiment_metrics_1.0.0.yaml\",\n",
    "    \"metrics\": {\n",
    "      \"linearKappa\": 0.4001057,\n",
    "      \"quadraticKappa\": 0.48378703,\n",
    "      \"precision\": 0.59030837,\n",
    "      \"confusionMatrix\": {\n",
    "        \"rows\": [\n",
    "          [\n",
    "            3.0,\n",
    "            4.0,\n",
    "            1.0,\n",
    "            1.0,\n",
    "            0.0\n",
    "          ],\n",
    "          [\n",
    "            2.0,\n",
    "            19.0,\n",
    "            25.0,\n",
    "            18.0,\n",
    "            0.0\n",
    "          ],\n",
    "          [\n",
    "            0.0,\n",
    "            10.0,\n",
    "            72.0,\n",
    "            57.0,\n",
    "            0.0\n",
    "          ],\n",
    "          [\n",
    "            0.0,\n",
    "            16.0,\n",
    "            34.0,\n",
    "            169.0,\n",
    "            5.0\n",
    "          ],\n",
    "          [\n",
    "            0.0,\n",
    "            0.0,\n",
    "            2.0,\n",
    "            11.0,\n",
    "            5.0\n",
    "          ]\n",
    "        ],\n",
    "        \"annotationSpecs\": [\n",
    "          {\n",
    "            \"displayName\": \"0\",\n",
    "            \"id\": \"7302033741432487936\"\n",
    "          },\n",
    "          {\n",
    "            \"id\": \"1537426218398253056\",\n",
    "            \"displayName\": \"1\"\n",
    "          },\n",
    "          {\n",
    "            \"displayName\": \"2\",\n",
    "            \"id\": \"6149112236825640960\"\n",
    "          },\n",
    "          {\n",
    "            \"displayName\": \"3\",\n",
    "            \"id\": \"3843269227611947008\"\n",
    "          },\n",
    "          {\n",
    "            \"displayName\": \"4\",\n",
    "            \"id\": \"8454955246039334912\"\n",
    "          }\n",
    "        ]\n",
    "      },\n",
    "      \"meanAbsoluteError\": 0.4955947,\n",
    "      \"f1Score\": 0.59030837,\n",
    "      \"recall\": 0.59030837,\n",
    "      \"meanSquaredError\": 0.67180616\n",
    "    },\n",
    "    \"createTime\": \"2021-03-02T01:41:13.130713Z\",\n",
    "    \"sliceDimensions\": [\n",
    "      \"annotationSpec\"\n",
    "    ]\n",
    "  }\n",
    "]\n",
    "```"
   ]
  },
  {
   "cell_type": "markdown",
   "metadata": {
    "id": "wr2JuU5nJjka"
   },
   "source": [
    "### [projects.locations.models.evaluations.get](https://cloud.google.com/vertex-ai/docs/reference/rest/v1beta1/projects.locations.models.evaluations/get)\n",
    "\n",
    "### [项目位置模型评估获取](https://cloud.google.com/vertex-ai/docs/reference/rest/v1beta1/projects.locations.models.evaluations/get)"
   ]
  },
  {
   "cell_type": "markdown",
   "metadata": {
    "id": "kh15ZsBj1sip"
   },
   "source": [
    "#### 电话"
   ]
  },
  {
   "cell_type": "code",
   "execution_count": null,
   "metadata": {
    "id": "eRbV7hzH1sip"
   },
   "outputs": [],
   "source": [
    "request = clients[\"model\"].get_model_evaluation(name=evaluation_slice)"
   ]
  },
  {
   "cell_type": "markdown",
   "metadata": {
    "id": "KQLWoPmU1sip"
   },
   "source": [
    "#### 回复"
   ]
  },
  {
   "cell_type": "code",
   "execution_count": null,
   "metadata": {
    "id": "fo2fAEf61sip"
   },
   "outputs": [],
   "source": [
    "print(MessageToJson(request.__dict__[\"_pb\"]))"
   ]
  },
  {
   "cell_type": "markdown",
   "metadata": {
    "id": "sPupiwqN_jAB"
   },
   "source": [
    "{\n",
    "  \"name\": \"projects/116273516712/locations/us-central1/models/5497364624833511424/evaluations/412684097299677184\",\n",
    "  \"metricsSchemaUri\": \"gs://google-cloud-aiplatform/schema/modelevaluation/text_sentiment_metrics_1.0.0.yaml\",\n",
    "  \"metrics\": {\n",
    "    \"meanSquaredError\": 0.67180616,\n",
    "    \"linearKappa\": 0.4001057,\n",
    "    \"precision\": 0.59030837,\n",
    "    \"recall\": 0.59030837,\n",
    "    \"confusionMatrix\": {\n",
    "      \"annotationSpecs\": [\n",
    "        {\n",
    "          \"id\": \"7302033741432487936\",\n",
    "          \"displayName\": \"0\"\n",
    "        },\n",
    "        {\n",
    "          \"id\": \"1537426218398253056\",\n",
    "          \"displayName\": \"1\"\n",
    "        },\n",
    "        {\n",
    "          \"displayName\": \"2\",\n",
    "          \"id\": \"6149112236825640960\"\n",
    "        },\n",
    "        {\n",
    "          \"id\": \"3843269227611947008\",\n",
    "          \"displayName\": \"3\"\n",
    "        },\n",
    "        {\n",
    "          \"id\": \"8454955246039334912\",\n",
    "          \"displayName\": \"4\"\n",
    "        }\n",
    "      ],\n",
    "      \"rows\": [\n",
    "        [\n",
    "          3.0,\n",
    "          4.0,\n",
    "          1.0,\n",
    "          1.0,\n",
    "          0.0\n",
    "        ],\n",
    "        [\n",
    "          2.0,\n",
    "          19.0,\n",
    "          25.0,\n",
    "          18.0,\n",
    "          0.0\n",
    "        ],\n",
    "        [\n",
    "          0.0,\n",
    "          10.0,\n",
    "          72.0,\n",
    "          57.0,\n",
    "          0.0\n",
    "        ],\n",
    "        [\n",
    "          0.0,\n",
    "          16.0,\n",
    "          34.0,\n",
    "          169.0,\n",
    "          5.0\n",
    "        ],\n",
    "        [\n",
    "          0.0,\n",
    "          0.0,\n",
    "          2.0,\n",
    "          11.0,\n",
    "          5.0\n",
    "        ]\n",
    "      ]\n",
    "    },\n",
    "    \"meanAbsoluteError\": 0.4955947,\n",
    "    \"quadraticKappa\": 0.48378703,\n",
    "    \"f1Score\": 0.59030837\n",
    "  },\n",
    "  \"createTime\": \"2021-03-02T01:41:13.130713Z\",\n",
    "  \"sliceDimensions\": [\n",
    "    \"annotationSpec\"\n",
    "  ]\n",
    "}"
   ]
  },
  {
   "cell_type": "markdown",
   "metadata": {
    "id": "8T8qLCuR1sip"
   },
   "source": [
    "进行批量预测"
   ]
  },
  {
   "cell_type": "markdown",
   "metadata": {
    "id": "c660ee11e92e"
   },
   "source": [
    "制作批量输入文件\n",
    "\n",
    "现在让我们制作一个批量输入文件，您将把它存储在您的本地云存储桶中。批量输入文件可以是 CSV 或 JSONL 格式。在本教程中，您将使用 JSONL 文件。对于 JSONL 文件，您为每个数据项（实例）的每一行制作一个字典条目。该字典包含键/值对:\n",
    "\n",
    "- `content`：图像在云存储中的路径。\n",
    "- `mime_type`：内容类型。在我们的示例中，它是一个名为 `test/plain` 的文件。"
   ]
  },
  {
   "cell_type": "code",
   "execution_count": null,
   "metadata": {
    "id": "bPax2DdN1siq"
   },
   "outputs": [],
   "source": [
    "import json\n",
    "\n",
    "import tensorflow as tf\n",
    "\n",
    "test_data = ! gsutil cat $IMPORT_FILE | head -n1\n",
    "\n",
    "test_item = str(test_data[0]).split(\",\")[1]\n",
    "test_label = str(test_data[0]).split(\",\")[2]\n",
    "\n",
    "gcs_test_item = \"gs://\" + BUCKET_NAME + \"/test.txt\"\n",
    "with tf.io.gfile.GFile(gcs_test_item, \"w\") as f:\n",
    "    f.write(test_item + \"\\n\")\n",
    "\n",
    "gcs_input_uri = \"gs://\" + BUCKET_NAME + \"/test.jsonl\"\n",
    "with tf.io.gfile.GFile(gcs_input_uri, \"w\") as f:\n",
    "    data = {\"content\": gcs_test_item, \"mime_type\": \"text/plain\"}\n",
    "    f.write(json.dumps(data) + \"\\n\")\n",
    "\n",
    "! gsutil cat $gcs_input_uri\n",
    "! gsutil cat $gcs_test_item"
   ]
  },
  {
   "cell_type": "markdown",
   "metadata": {
    "id": "datasets_import:migration,new,response"
   },
   "source": [
    "*示例输出*：\n",
    "```\n",
    "{\"content\": \"gs://migration-ucaip-trainingaip-20210301212135/test.txt\", \"mime_type\": \"text/plain\"}\n",
    "@freewrytin 上帝对克良丁太好了\n",
    "```"
   ]
  },
  {
   "cell_type": "markdown",
   "metadata": {
    "id": "tnqYDtYF1siq"
   },
   "source": [
    "### [projects.locations.batchPredictionJobs.create](https://cloud.google.com/vertex-ai/docs/reference/rest/v1beta1/projects.locations.batchPredictionJobs/create)\n",
    "\n",
    "### [projects.locations.batchPredictionJobs.create](https://cloud.google.com/vertex-ai/docs/reference/rest/v1beta1/projects.locations.batchPredictionJobs/create)"
   ]
  },
  {
   "cell_type": "markdown",
   "metadata": {
    "id": "ozaMOwdNJjkT"
   },
   "source": [
    "请求"
   ]
  },
  {
   "cell_type": "code",
   "execution_count": null,
   "metadata": {
    "id": "XXYA8Ns21siq"
   },
   "outputs": [],
   "source": [
    "batch_prediction_job = {\n",
    "    \"display_name\": \"claritin_\" + TIMESTAMP,\n",
    "    \"model\": model_id,\n",
    "    \"input_config\": {\n",
    "        \"instances_format\": \"jsonl\",\n",
    "        \"gcs_source\": {\"uris\": [gcs_input_uri]},\n",
    "    },\n",
    "    \"output_config\": {\n",
    "        \"predictions_format\": \"jsonl\",\n",
    "        \"gcs_destination\": {\n",
    "            \"output_uri_prefix\": \"gs://\" + f\"{BUCKET_NAME}/batch_output/\"\n",
    "        },\n",
    "    },\n",
    "    \"dedicated_resources\": {\n",
    "        \"machine_spec\": {\"machine_type\": \"n1-standard-2\", \"accelerator_count\": 0},\n",
    "        \"starting_replica_count\": 1,\n",
    "        \"max_replica_count\": 1,\n",
    "    },\n",
    "}\n",
    "\n",
    "print(\n",
    "    MessageToJson(\n",
    "        aip.CreateBatchPredictionJobRequest(\n",
    "            parent=PARENT, batch_prediction_job=batch_prediction_job\n",
    "        ).__dict__[\"_pb\"]\n",
    "    )\n",
    ")"
   ]
  },
  {
   "cell_type": "markdown",
   "metadata": {
    "id": "datasets_import:migration,new,response"
   },
   "source": [
    "{\n",
    "  \"parent\": \"projects/migration-ucaip-training/locations/us-central1\",\n",
    "  \"batchPredictionJob\": {\n",
    "    \"displayName\": \"claritin_20210301212135\",\n",
    "    \"model\": \"projects/116273516712/locations/us-central1/models/5497364624833511424\",\n",
    "    \"inputConfig\": {\n",
    "      \"instancesFormat\": \"jsonl\",\n",
    "      \"gcsSource\": {\n",
    "        \"uris\": [\n",
    "          \"gs://migration-ucaip-trainingaip-20210301212135/test.jsonl\"\n",
    "        ]\n",
    "      }\n",
    "    },\n",
    "    \"outputConfig\": {\n",
    "      \"predictionsFormat\": \"jsonl\",\n",
    "      \"gcsDestination\": {\n",
    "        \"outputUriPrefix\": \"gs://migration-ucaip-trainingaip-20210301212135/batch_output/\"\n",
    "      }\n",
    "    },\n",
    "    \"dedicatedResources\": {\n",
    "      \"machineSpec\": {\n",
    "        \"machineType\": \"n1-standard-2\"\n",
    "      },\n",
    "      \"startingReplicaCount\": 1,\n",
    "      \"maxReplicaCount\": 1\n",
    "    }\n",
    "  }\n",
    "}"
   ]
  },
  {
   "cell_type": "markdown",
   "metadata": {
    "id": "NF7BDJ9v1siq"
   },
   "source": [
    "#### 电话"
   ]
  },
  {
   "cell_type": "code",
   "execution_count": null,
   "metadata": {
    "id": "vNaCWhY91siq"
   },
   "outputs": [],
   "source": [
    "request = clients[\"job\"].create_batch_prediction_job(\n",
    "    parent=PARENT, batch_prediction_job=batch_prediction_job\n",
    ")"
   ]
  },
  {
   "cell_type": "markdown",
   "metadata": {
    "id": "n78sGHxZ1sir"
   },
   "source": [
    "回复"
   ]
  },
  {
   "cell_type": "code",
   "execution_count": null,
   "metadata": {
    "id": "VjX3nEZv1sir"
   },
   "outputs": [],
   "source": [
    "print(MessageToJson(request.__dict__[\"_pb\"]))"
   ]
  },
  {
   "cell_type": "markdown",
   "metadata": {
    "id": "datasets_import:migration,new,response"
   },
   "source": [
    "```json\n",
    "{\n",
    "  \"name\": \"projects/116273516712/locations/us-central1/batchPredictionJobs/3543215802926759936\",\n",
    "  \"displayName\": \"claritin_20210301212135\",\n",
    "  \"model\": \"projects/116273516712/locations/us-central1/models/5497364624833511424\",\n",
    "  \"inputConfig\": {\n",
    "    \"instancesFormat\": \"jsonl\",\n",
    "    \"gcsSource\": {\n",
    "      \"uris\": [\n",
    "        \"gs://migration-ucaip-trainingaip-20210301212135/test.jsonl\"\n",
    "      ]\n",
    "    }\n",
    "  },\n",
    "  \"outputConfig\": {\n",
    "    \"predictionsFormat\": \"jsonl\",\n",
    "    \"gcsDestination\": {\n",
    "      \"outputUriPrefix\": \"gs://migration-ucaip-trainingaip-20210301212135/batch_output/\"\n",
    "    }\n",
    "  },\n",
    "  \"state\": \"JOB_STATE_PENDING\",\n",
    "  \"completionStats\": {\n",
    "    \"incompleteCount\": \"-1\"\n",
    "  },\n",
    "  \"createTime\": \"2021-03-02T01:41:31.919764Z\",\n",
    "  \"updateTime\": \"2021-03-02T01:41:31.919764Z\"\n",
    "}\n",
    "```"
   ]
  },
  {
   "cell_type": "code",
   "execution_count": null,
   "metadata": {
    "id": "7d448b1cc8c1"
   },
   "outputs": [],
   "source": [
    "# The fully qualified ID for the batch job\n",
    "batch_job_id = request.name\n",
    "# The short numeric ID for the batch job\n",
    "batch_job_short_id = batch_job_id.split(\"/\")[-1]\n",
    "\n",
    "print(batch_job_id)"
   ]
  },
  {
   "cell_type": "markdown",
   "metadata": {
    "id": "mZ8NQGM31sir"
   },
   "source": [
    "### [projects.locations.batchPredictionJobs.get](https://cloud.google.com/vertex-ai/docs/reference/rest/v1beta1/projects.locations.batchPredictionJobs/get) \n",
    "\n",
    "将上述英文文本翻译为中文：### [projects.locations.batchPredictionJobs.get](https://cloud.google.com/vertex-ai/docs/reference/rest/v1beta1/projects.locations.batchPredictionJobs/get)"
   ]
  },
  {
   "cell_type": "markdown",
   "metadata": {
    "id": "zZOSE1961sir"
   },
   "source": [
    "#### 打电话"
   ]
  },
  {
   "cell_type": "code",
   "execution_count": null,
   "metadata": {
    "id": "kEMq5lPi1sir"
   },
   "outputs": [],
   "source": [
    "request = clients[\"job\"].get_batch_prediction_job(name=batch_job_id)"
   ]
  },
  {
   "cell_type": "markdown",
   "metadata": {
    "id": "9cgeT_7B1sir"
   },
   "source": [
    "#### 回复"
   ]
  },
  {
   "cell_type": "code",
   "execution_count": null,
   "metadata": {
    "id": "OT3wuCUw1sis"
   },
   "outputs": [],
   "source": [
    "print(MessageToJson(request.__dict__[\"_pb\"]))"
   ]
  },
  {
   "cell_type": "markdown",
   "metadata": {
    "id": "datasets_import:migration,new,response"
   },
   "source": [
    "{\n",
    "  \"name\": \"projects/116273516712/locations/us-central1/batchPredictionJobs/3543215802926759936\",\n",
    "  \"displayName\": \"claritin_20210301212135\",\n",
    "  \"model\": \"projects/116273516712/locations/us-central1/models/5497364624833511424\",\n",
    "  \"inputConfig\": {\n",
    "    \"instancesFormat\": \"jsonl\",\n",
    "    \"gcsSource\": {\n",
    "      \"uris\": [\n",
    "        \"gs://migration-ucaip-trainingaip-20210301212135/test.jsonl\"\n",
    "      ]\n",
    "    }\n",
    "  },\n",
    "  \"outputConfig\": {\n",
    "    \"predictionsFormat\": \"jsonl\",\n",
    "    \"gcsDestination\": {\n",
    "      \"outputUriPrefix\": \"gs://migration-ucaip-trainingaip-20210301212135/batch_output/\"\n",
    "    }\n",
    "  },\n",
    "  \"state\": \"JOB_STATE_PENDING\",\n",
    "  \"completionStats\": {\n",
    "    \"incompleteCount\": \"-1\"\n",
    "  },\n",
    "  \"createTime\": \"2021-03-02T01:41:31.919764Z\",\n",
    "  \"updateTime\": \"2021-03-02T01:41:31.919764Z\"\n",
    "}\n",
    "```"
   ]
  },
  {
   "cell_type": "code",
   "execution_count": null,
   "metadata": {
    "id": "3cdf7f0526ec"
   },
   "outputs": [],
   "source": [
    "def get_latest_predictions(gcs_out_dir):\n",
    "    \"\"\" Get the latest prediction subfolder using the timestamp in the subfolder name\"\"\"\n",
    "    folders = !gsutil ls $gcs_out_dir\n",
    "    latest = \"\"\n",
    "    for folder in folders:\n",
    "        subfolder = folder.split(\"/\")[-2]\n",
    "        if subfolder.startswith(\"prediction-\"):\n",
    "            if subfolder > latest:\n",
    "                latest = folder[:-1]\n",
    "    return latest\n",
    "\n",
    "\n",
    "while True:\n",
    "    response = clients[\"job\"].get_batch_prediction_job(name=batch_job_id)\n",
    "    if response.state != aip.JobState.JOB_STATE_SUCCEEDED:\n",
    "        print(\"The job has not completed:\", response.state)\n",
    "        if response.state == aip.JobState.JOB_STATE_FAILED:\n",
    "            break\n",
    "    else:\n",
    "        folder = get_latest_predictions(\n",
    "            response.output_config.gcs_destination.output_uri_prefix\n",
    "        )\n",
    "        ! gsutil ls $folder/prediction*.jsonl\n",
    "\n",
    "        ! gsutil cat $folder/prediction*.jsonl\n",
    "        break\n",
    "    time.sleep(60)"
   ]
  },
  {
   "cell_type": "markdown",
   "metadata": {
    "id": "datasets_import:migration,new,response"
   },
   "source": [
    "示例输出：\n",
    "```\n",
    "gs://migration-ucaip-trainingaip-20210301212135/batch_output/prediction-claritin_20210301212135-2021-03-02T01:41:31.705301Z/predictions_00001.jsonl\n",
    "{\"instance\":{\"content\":\"gs://migration-ucaip-trainingaip-20210301212135/test.txt\",\"mimeType\":\"text/plain\"},\"prediction\":{\"sentiment\":2}}\n",
    "```"
   ]
  },
  {
   "cell_type": "markdown",
   "metadata": {
    "id": "aeAz5yPa1sis"
   },
   "source": [
    "做在线预测"
   ]
  },
  {
   "cell_type": "markdown",
   "metadata": {
    "id": "h4_aWo7-1sis"
   },
   "source": [
    "### 为在线预测准备数据项"
   ]
  },
  {
   "cell_type": "code",
   "execution_count": null,
   "metadata": {
    "id": "86h1FUtA1sis"
   },
   "outputs": [],
   "source": [
    "test_data = ! gsutil cat $IMPORT_FILE | head -n1\n",
    "\n",
    "test_item = str(test_data[0]).split(\",\")[1]\n",
    "test_label = str(test_data[0]).split(\",\")[2]\n",
    "\n",
    "print((test_item, test_label))"
   ]
  },
  {
   "cell_type": "markdown",
   "metadata": {
    "id": "COwVZtxhJjkW"
   },
   "source": [
    "### [projects.locations.endpoints.create](https://cloud.google.com/vertex-ai/docs/reference/rest/v1beta1/projects.locations.endpoints/create) \n",
    "### [projects.locations.endpoints.create](https://cloud.google.com/vertex-ai/docs/reference/rest/v1beta1/projects.locations.endpoints/create)"
   ]
  },
  {
   "cell_type": "markdown",
   "metadata": {
    "id": "NI50tf4Q1sit"
   },
   "source": [
    "请求"
   ]
  },
  {
   "cell_type": "code",
   "execution_count": null,
   "metadata": {
    "id": "tdNxDl9U1sit"
   },
   "outputs": [],
   "source": [
    "endpoint = {\"display_name\": \"claritin_\" + TIMESTAMP}\n",
    "\n",
    "print(\n",
    "    MessageToJson(\n",
    "        aip.CreateEndpointRequest(parent=PARENT, endpoint=endpoint).__dict__[\"_pb\"]\n",
    "    )\n",
    ")"
   ]
  },
  {
   "cell_type": "markdown",
   "metadata": {
    "id": "datasets_import:migration,new,response"
   },
   "source": [
    "{\n",
    "  \"parent\": \"projects/migration-ucaip-training/locations/us-central1\",\n",
    "  \"endpoint\": {\n",
    "    \"displayName\": \"claritin_20210301212135\"\n",
    "  }\n",
    "}\n",
    "```\n",
    "\n",
    "中文翻译:\n",
    "```\n",
    "{\n",
    "  \"parent\": \"projects/migration-ucaip-training/locations/us-central1\",\n",
    "  \"endpoint\": {\n",
    "    \"displayName\": \"claritin_20210301212135\"\n",
    "  }\n",
    "}\n",
    "```"
   ]
  },
  {
   "cell_type": "markdown",
   "metadata": {
    "id": "o-3TRQXY1sit"
   },
   "source": [
    "#### 呼叫"
   ]
  },
  {
   "cell_type": "code",
   "execution_count": null,
   "metadata": {
    "id": "tha965qB1sit"
   },
   "outputs": [],
   "source": [
    "request = clients[\"endpoint\"].create_endpoint(parent=PARENT, endpoint=endpoint)"
   ]
  },
  {
   "cell_type": "markdown",
   "metadata": {
    "id": "zNmlwwWh1sit"
   },
   "source": [
    "#### 回复"
   ]
  },
  {
   "cell_type": "code",
   "execution_count": null,
   "metadata": {
    "id": "AWpQw1G61sit"
   },
   "outputs": [],
   "source": [
    "result = request.result()\n",
    "\n",
    "print(MessageToJson(result.__dict__[\"_pb\"]))"
   ]
  },
  {
   "cell_type": "markdown",
   "metadata": {
    "id": "datasets_import:migration,new,response"
   },
   "source": [
    "{\n",
    "  \"name\": \"projects/116273516712/locations/us-central1/endpoints/45845236831748096\"\n",
    "}\n",
    "```\n",
    "\n",
    "中文翻译：\n",
    "{\n",
    "  \"name\": \"projects/116273516712/locations/us-central1/endpoints/45845236831748096\"\n",
    "}"
   ]
  },
  {
   "cell_type": "code",
   "execution_count": null,
   "metadata": {
    "id": "c469d14a26ea"
   },
   "outputs": [],
   "source": [
    "# The full unique ID for the endpoint\n",
    "endpoint_id = result.name\n",
    "# The short numeric ID for the endpoint\n",
    "endpoint_short_id = endpoint_id.split(\"/\")[-1]\n",
    "\n",
    "print(endpoint_id)"
   ]
  },
  {
   "cell_type": "markdown",
   "metadata": {
    "id": "gpnVJS3AJjkW"
   },
   "source": [
    "### [projects.locations.endpoints.deployModel](https://cloud.google.com/vertex-ai/docs/reference/rest/v1beta1/projects.locations.endpoints/deployModel)\n",
    "\n",
    "### [项目.位置.端点.部署模型](https://cloud.google.com/vertex-ai/docs/reference/rest/v1beta1/projects.locations.endpoints/deployModel)"
   ]
  },
  {
   "cell_type": "markdown",
   "metadata": {
    "id": "fRWgao0Q1siu"
   },
   "source": [
    "请求"
   ]
  },
  {
   "cell_type": "code",
   "execution_count": null,
   "metadata": {
    "id": "RV9Ytz4o1siu"
   },
   "outputs": [],
   "source": [
    "deployed_model = {\n",
    "    \"model\": model_id,\n",
    "    \"display_name\": \"claritin_\" + TIMESTAMP,\n",
    "    \"automatic_resources\": {\"min_replica_count\": 1, \"max_replica_count\": 1},\n",
    "}\n",
    "\n",
    "traffic_split = {\"0\": 100}\n",
    "\n",
    "print(\n",
    "    MessageToJson(\n",
    "        aip.DeployModelRequest(\n",
    "            endpoint=endpoint_id,\n",
    "            deployed_model=deployed_model,\n",
    "            traffic_split=traffic_split,\n",
    "        ).__dict__[\"_pb\"]\n",
    "    )\n",
    ")"
   ]
  },
  {
   "cell_type": "markdown",
   "metadata": {
    "id": "datasets_import:migration,new,response"
   },
   "source": [
    "{\n",
    "  \"endpoint\": \"projects/116273516712/locations/us-central1/endpoints/45845236831748096\",\n",
    "  \"deployedModel\": {\n",
    "    \"model\": \"projects/116273516712/locations/us-central1/models/5497364624833511424\",\n",
    "    \"displayName\": \"claritin_20210301212135\",\n",
    "    \"automaticResources\": {\n",
    "      \"minReplicaCount\": 1,\n",
    "      \"maxReplicaCount\": 1\n",
    "    }\n",
    "  },\n",
    "  \"trafficSplit\": {\n",
    "    \"0\": 100\n",
    "  }\n",
    "} \n",
    "\n",
    "{\n",
    "  \"端点\": \"projects/116273516712/locations/us-central1/endpoints/45845236831748096\",\n",
    "  \"部署模型\": {\n",
    "    \"模型\": \"projects/116273516712/locations/us-central1/models/5497364624833511424\",\n",
    "    \"显示名称\": \"claritin_20210301212135\",\n",
    "    \"自动资源\": {\n",
    "      \"最小复制数\": 1,\n",
    "      \"最大复制数\": 1\n",
    "    }\n",
    "  },\n",
    "  \"流量分配\": {\n",
    "    \"0\": 100\n",
    "  }\n",
    "}"
   ]
  },
  {
   "cell_type": "markdown",
   "metadata": {
    "id": "J7bV5doB1siu"
   },
   "source": [
    "#### 号码"
   ]
  },
  {
   "cell_type": "code",
   "execution_count": null,
   "metadata": {
    "id": "28zuTgn31siu"
   },
   "outputs": [],
   "source": [
    "request = clients[\"endpoint\"].deploy_model(\n",
    "    endpoint=endpoint_id, deployed_model=deployed_model, traffic_split=traffic_split\n",
    ")"
   ]
  },
  {
   "cell_type": "markdown",
   "metadata": {
    "id": "Gi-yN6VJ1siv"
   },
   "source": [
    "回复"
   ]
  },
  {
   "cell_type": "code",
   "execution_count": null,
   "metadata": {
    "id": "_CWhWunf1siv"
   },
   "outputs": [],
   "source": [
    "result = request.result()\n",
    "\n",
    "print(MessageToJson(result.__dict__[\"_pb\"]))"
   ]
  },
  {
   "cell_type": "markdown",
   "metadata": {
    "id": "datasets_import:migration,new,response"
   },
   "source": [
    "{\n",
    "  \"deployedModel\": {\n",
    "    \"id\": \"6669232913810194432\"\n",
    "  }\n",
    "}\n",
    "将上述英文文本翻译为中文:\n",
    "```\n",
    "{\n",
    "  \"deployedModel\": {\n",
    "    \"id\": \"6669232913810194432\"\n",
    "  }\n",
    "}\n",
    "```"
   ]
  },
  {
   "cell_type": "code",
   "execution_count": null,
   "metadata": {
    "id": "629d19cbcf39"
   },
   "outputs": [],
   "source": [
    "# The unique ID for the deployed model\n",
    "deployed_model_id = result.deployed_model.id\n",
    "\n",
    "print(deployed_model_id)"
   ]
  },
  {
   "cell_type": "markdown",
   "metadata": {
    "id": "6a0-OOQ61siv"
   },
   "source": [
    "### [projects.locations.endpoints.predict](https://cloud.google.com/vertex-ai/docs/reference/rest/v1beta1/projects.locations.endpoints/predict)\n",
    "\n",
    "### [projects.locations.endpoints.predict](https://cloud.google.com/vertex-ai/docs/reference/rest/v1beta1/projects.locations.endpoints/predict)"
   ]
  },
  {
   "cell_type": "markdown",
   "metadata": {
    "id": "ABoH16AE1siw"
   },
   "source": [
    "#### 请求"
   ]
  },
  {
   "cell_type": "code",
   "execution_count": null,
   "metadata": {
    "id": "qFzxI6uY1siw"
   },
   "outputs": [],
   "source": [
    "instances_list = [{\"content\": test_item}]\n",
    "instances = [json_format.ParseDict(s, Value()) for s in instances_list]\n",
    "\n",
    "request = aip.PredictRequest(endpoint=endpoint_id)\n",
    "request.instances.append(instances)\n",
    "\n",
    "print(MessageToJson(request.__dict__[\"_pb\"]))"
   ]
  },
  {
   "cell_type": "markdown",
   "metadata": {
    "id": "datasets_import:migration,new,response"
   },
   "source": [
    "{\n",
    "  \"endpoint\": \"projects/116273516712/locations/us-central1/endpoints/45845236831748096\",\n",
    "  \"instances\": [\n",
    "    [\n",
    "      {\n",
    "        \"content\": \"@freewrytin 上帝对Clartin 太好了\"\n",
    "      }\n",
    "    ]\n",
    "  ]\n",
    "}"
   ]
  },
  {
   "cell_type": "markdown",
   "metadata": {
    "id": "5HyneZhf1siw"
   },
   "source": [
    "#### 呼叫"
   ]
  },
  {
   "cell_type": "code",
   "execution_count": null,
   "metadata": {
    "id": "mkC_HbE11siw"
   },
   "outputs": [],
   "source": [
    "request = clients[\"prediction\"].predict(endpoint=endpoint_id, instances=instances)"
   ]
  },
  {
   "cell_type": "markdown",
   "metadata": {
    "id": "9KIx8hQZ1siw"
   },
   "source": [
    "#### 回复"
   ]
  },
  {
   "cell_type": "code",
   "execution_count": null,
   "metadata": {
    "id": "Tq2gITNu1six"
   },
   "outputs": [],
   "source": [
    "print(MessageToJson(request.__dict__[\"_pb\"]))"
   ]
  },
  {
   "cell_type": "markdown",
   "metadata": {
    "id": "datasets_import:migration,new,response"
   },
   "source": [
    "*示例输出*：\n",
    "```\n",
    "{\n",
    "  \"predictions\": [\n",
    "    {\n",
    "      \"sentiment\": 2.0\n",
    "    }\n",
    "  ],\n",
    "  \"deployedModelId\": \"6669232913810194432\"\n",
    "}\n",
    "``` \n",
    "\n",
    "*示例输出*：\n",
    "```\n",
    "{\n",
    "  \"predictions\": [\n",
    "    {\n",
    "      \"sentiment\": 2.0\n",
    "    }\n",
    "  ],\n",
    "  \"deployedModelId\": \"6669232913810194432\"\n",
    "}\n",
    "```"
   ]
  },
  {
   "cell_type": "markdown",
   "metadata": {
    "id": "endpoints_undeploymodel:migration,new"
   },
   "source": [
    "### [projects.locations.endpoints.undeployModel](https://cloud.google.com/vertex-ai/docs/reference/rest/v1beta1/projects.locations.endpoints/undeployModel)\n",
    "\n",
    "### [projects.locations.endpoints.undeployModel](https://cloud.google.com/vertex-ai/docs/reference/rest/v1beta1/projects.locations.endpoints/undeployModel)"
   ]
  },
  {
   "cell_type": "markdown",
   "metadata": {
    "id": "KrVZz6Uw_jAp"
   },
   "source": [
    "电话"
   ]
  },
  {
   "cell_type": "code",
   "execution_count": null,
   "metadata": {
    "id": "endpoints_undeploymodel:migration,new,call"
   },
   "outputs": [],
   "source": [
    "request = clients[\"endpoint\"].undeploy_model(\n",
    "    endpoint=endpoint_id, deployed_model_id=deployed_model_id, traffic_split={}\n",
    ")"
   ]
  },
  {
   "cell_type": "markdown",
   "metadata": {
    "id": "wvFK-kir_jAq"
   },
   "source": [
    "#### 回复"
   ]
  },
  {
   "cell_type": "code",
   "execution_count": null,
   "metadata": {
    "id": "GvajSw-Y_jAq"
   },
   "outputs": [],
   "source": [
    "result = request.result()\n",
    "\n",
    "print(MessageToJson(result.__dict__[\"_pb\"]))"
   ]
  },
  {
   "cell_type": "markdown",
   "metadata": {
    "id": "datasets_import:migration,new,response"
   },
   "source": [
    "*示例输出*：\n",
    "```\n",
    "{}\n",
    "```"
   ]
  },
  {
   "cell_type": "markdown",
   "metadata": {
    "id": "bQ-VVaSxJjkd"
   },
   "source": [
    "清理工作\n",
    "\n",
    "要清理此项目中使用的所有GCP资源，您可以删除用于本教程的GCP项目。\n",
    "\n",
    "否则，您可以删除本教程中创建的各个资源。"
   ]
  },
  {
   "cell_type": "code",
   "execution_count": null,
   "metadata": {
    "id": "ZLFTpeDL1six"
   },
   "outputs": [],
   "source": [
    "delete_dataset = True\n",
    "delete_model = True\n",
    "delete_endpoint = True\n",
    "delete_pipeline = True\n",
    "delete_batchjob = True\n",
    "delete_bucket = True\n",
    "\n",
    "# Delete the dataset using the Vertex AI fully qualified identifier for the dataset\n",
    "try:\n",
    "    if delete_dataset:\n",
    "        clients[\"dataset\"].delete_dataset(name=dataset_id)\n",
    "except Exception as e:\n",
    "    print(e)\n",
    "\n",
    "# Delete the model using the Vertex AI fully qualified identifier for the model\n",
    "try:\n",
    "    if delete_model:\n",
    "        clients[\"model\"].delete_model(name=model_id)\n",
    "except Exception as e:\n",
    "    print(e)\n",
    "\n",
    "# Delete the endpoint using the Vertex AI fully qualified identifier for the endpoint\n",
    "try:\n",
    "    if delete_endpoint:\n",
    "        clients[\"endpoint\"].delete_endpoint(name=endpoint_id)\n",
    "except Exception as e:\n",
    "    print(e)\n",
    "\n",
    "# Delete the training pipeline using the Vertex AI fully qualified identifier for the training pipeline\n",
    "try:\n",
    "    if delete_pipeline:\n",
    "        clients[\"pipeline\"].delete_training_pipeline(name=training_pipeline_id)\n",
    "except Exception as e:\n",
    "    print(e)\n",
    "\n",
    "# Delete the batch job using the Vertex AI fully qualified identifier for the batch job\n",
    "try:\n",
    "    if delete_batchjob:\n",
    "        clients[\"job\"].delete_batch_prediction_job(name=batch_job_id)\n",
    "except Exception as e:\n",
    "    print(e)\n",
    "\n",
    "if delete_bucket and \"BUCKET_NAME\" in globals():\n",
    "    ! gsutil rm -r gs://$BUCKET_NAME"
   ]
  }
 ],
 "metadata": {
  "colab": {
   "name": "UJ8 unified AutoML for natural language with Vertex AI - Text Sentiment Analysis.ipynb",
   "toc_visible": true
  },
  "kernelspec": {
   "display_name": "Python 3",
   "name": "python3"
  }
 },
 "nbformat": 4,
 "nbformat_minor": 0
}
