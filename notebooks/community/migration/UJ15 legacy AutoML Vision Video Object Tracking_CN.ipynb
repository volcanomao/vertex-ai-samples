{
 "cells": [
  {
   "cell_type": "code",
   "execution_count": null,
   "metadata": {
    "id": "copyright"
   },
   "outputs": [],
   "source": [
    "# Copyright 2021 Google LLC\n",
    "#\n",
    "# Licensed under the Apache License, Version 2.0 (the \"License\");\n",
    "# you may not use this file except in compliance with the License.\n",
    "# You may obtain a copy of the License at\n",
    "#\n",
    "#     https://www.apache.org/licenses/LICENSE-2.0\n",
    "#\n",
    "# Unless required by applicable law or agreed to in writing, software\n",
    "# distributed under the License is distributed on an \"AS IS\" BASIS,\n",
    "# WITHOUT WARRANTIES OR CONDITIONS OF ANY KIND, either express or implied.\n",
    "# See the License for the specific language governing permissions and\n",
    "# limitations under the License.\n"
   ]
  },
  {
   "cell_type": "markdown",
   "metadata": {
    "id": "title:migration,new"
   },
   "source": [
    "AutoML SDK: AutoML自动化视频对象跟踪模型"
   ]
  },
  {
   "cell_type": "markdown",
   "metadata": {
    "id": "install_aip"
   },
   "source": [
    "安装\n",
    "\n",
    "安装最新（预览）版本的AutoML SDK。"
   ]
  },
  {
   "cell_type": "code",
   "execution_count": null,
   "metadata": {
    "id": "vQWDe_6HJZJW",
    "outputId": "687efd9a-e344-470e-c1fb-18bece046cf2"
   },
   "outputs": [],
   "source": [
    "! pip3 install -U google-cloud-automl --user\n"
   ]
  },
  {
   "cell_type": "markdown",
   "metadata": {
    "id": "install_storage"
   },
   "source": [
    "安装谷歌云存储库。"
   ]
  },
  {
   "cell_type": "code",
   "execution_count": null,
   "metadata": {
    "id": "5nZRXjD0JZJY",
    "outputId": "4cf3eea8-952d-4222-cea1-bc631bdb8cb7"
   },
   "outputs": [],
   "source": [
    "! pip3 install google-cloud-storage\n"
   ]
  },
  {
   "cell_type": "markdown",
   "metadata": {
    "id": "restart"
   },
   "source": [
    "### 重新启动内核\n",
    "\n",
    "一旦您安装了AutoML SDK和Google *cloud-storage*，您需要重新启动笔记本内核，以便它可以找到这些包。"
   ]
  },
  {
   "cell_type": "code",
   "execution_count": null,
   "metadata": {
    "id": "3FaDxry1JZJZ"
   },
   "outputs": [],
   "source": [
    "import os\n",
    "\n",
    "\n",
    "if not os.getenv(\"AUTORUN\"):\n",
    "    # Automatically restart kernel after installs\n",
    "    import IPython\n",
    "    app = IPython.Application.instance()\n",
    "    app.kernel.do_shutdown(True)\n"
   ]
  },
  {
   "cell_type": "markdown",
   "metadata": {
    "id": "before_you_begin"
   },
   "source": [
    "## 开始之前\n",
    "\n",
    "### GPU 运行时\n",
    "\n",
    "*如果您有这个选项，请确保在 GPU 运行时中运行此笔记本。在 Colab 中，选择* **运行时 > 更改运行时类型 > GPU**\n",
    "\n",
    "### 设置您的 GCP 项目\n",
    "\n",
    "**无论您的笔记本环境如何，以下步骤都是必需的。**\n",
    "\n",
    "1. [选择或创建一个 GCP 项目](https://console.cloud.google.com/cloud-resource-manager)。当您第一次创建账户时，您将获得 $300 的免费信用额，用于付费计算/存储成本。\n",
    "\n",
    "2. [确保您的项目已启用计费。](https://cloud.google.com/billing/docs/how-to/modify-project)\n",
    "\n",
    "3. [启用 AutoML API 和 Compute Engine API。](https://console.cloud.google.com/flows/enableapi?apiid=ml.googleapis.com,compute_component)\n",
    "\n",
    "4. [Google Cloud SDK](https://cloud.google.com/sdk) 已经安装在 AutoML 笔记本中。\n",
    "\n",
    "5. 在下面的单元格中输入您的项目 ID。然后运行该单元格，以确保 Cloud SDK 对本笔记本中的所有命令使用正确的项目。\n",
    "\n",
    "**注意**: Jupyter 会将以 `!` 为前缀的行作为 shell 命令运行，并将以 `$` 为前缀的 Python 变量插入这些命令中。"
   ]
  },
  {
   "cell_type": "code",
   "execution_count": null,
   "metadata": {
    "id": "set_project_id"
   },
   "outputs": [],
   "source": [
    "PROJECT_ID = \"[your-project-id]\" #@param {type:\"string\"}\n"
   ]
  },
  {
   "cell_type": "code",
   "execution_count": null,
   "metadata": {
    "id": "autoset_project_id",
    "outputId": "1ac7bb1b-ed49-4874-f6d1-5db45456019d"
   },
   "outputs": [],
   "source": [
    "if PROJECT_ID == \"\" or PROJECT_ID is None or PROJECT_ID == \"[your-project-id]\":\n",
    "    # Get your GCP project id from gcloud\n",
    "    shell_output = !gcloud config list --format 'value(core.project)' 2>/dev/null\n",
    "    PROJECT_ID = shell_output[0]\n",
    "    print(\"Project ID:\", PROJECT_ID)\n"
   ]
  },
  {
   "cell_type": "code",
   "execution_count": null,
   "metadata": {
    "id": "set_gcloud_project_id",
    "outputId": "0acbf680-cec3-44c5-8d51-1a05a81258ca"
   },
   "outputs": [],
   "source": [
    "! gcloud config set project $PROJECT_ID\n"
   ]
  },
  {
   "cell_type": "markdown",
   "metadata": {
    "id": "region"
   },
   "source": [
    "#### 地区\n",
    "\n",
    "您也可以更改“REGION”变量，该变量用于本笔记本其余部分的操作。以下是AutoML支持的地区。我们建议尽可能选择离您最近的地区。\n",
    "\n",
    "- 美洲：`us-central1`\n",
    "- 欧洲：`europe-west4`\n",
    "- 亚太：`asia-east1`\n",
    "\n",
    "您不能使用多区域存储存储桶进行AutoML训练。并非所有地区都支持所有AutoML服务。有关每个地区最新的支持情况，请参见[AutoML服务的地区支持]()。"
   ]
  },
  {
   "cell_type": "code",
   "execution_count": null,
   "metadata": {
    "id": "jVMUAWrJJZJe"
   },
   "outputs": [],
   "source": [
    "REGION = 'us-central1' #@param {type: \"string\"}\n"
   ]
  },
  {
   "cell_type": "markdown",
   "metadata": {
    "id": "timestamp"
   },
   "source": [
    "时间戳\n",
    "\n",
    "如果您正在参加实况教程会话，可能会使用共享的测试帐户或项目。为了避免用户在创建的资源之间发生名称冲突，您为每个实例会话创建一个时间戳，并追加到将在本教程中创建的资源的名称上。"
   ]
  },
  {
   "cell_type": "code",
   "execution_count": null,
   "metadata": {
    "id": "LJuwNh9wJZJe"
   },
   "outputs": [],
   "source": [
    "from datetime import datetime\n",
    "\n",
    "\n",
    "TIMESTAMP = datetime.now().strftime(\"%Y%m%d%H%M%S\")\n"
   ]
  },
  {
   "cell_type": "markdown",
   "metadata": {
    "id": "gcp_authenticate"
   },
   "source": [
    "### 验证您的GCP账户\n",
    "\n",
    "**如果您正在使用AutoML笔记本**，您的环境已经验证通过。请跳过这一步。\n",
    "\n",
    "*注意：如果您在AutoML笔记本上运行代码单元格，则单元格会自动跳过执行验证步骤。*"
   ]
  },
  {
   "cell_type": "code",
   "execution_count": null,
   "metadata": {
    "id": "fEY1QcN_JZJf"
   },
   "outputs": [],
   "source": [
    "import os\n",
    "import sys\n",
    "\n",
    "# If you are running this notebook in Colab, run this cell and follow the\n",
    "# instructions to authenticate your Google Cloud account. This provides access\n",
    "# to your Cloud Storage bucket and lets you submit training jobs and prediction\n",
    "# requests.\n",
    "\n",
    "# If on AutoML, then don't execute this code\n",
    "if not os.path.exists('/opt/deeplearning/metadata/env_version'):\n",
    "    if 'google.colab' in sys.modules:\n",
    "        from google.colab import auth as google_auth\n",
    "        google_auth.authenticate_user()\n",
    "\n",
    "    # If you are running this tutorial in a notebook locally, replace the string\n",
    "    # below with the path to your service account key and run this cell to\n",
    "    # authenticate your Google Cloud account.\n",
    "    else:\n",
    "        %env GOOGLE_APPLICATION_CREDENTIALS your_path_to_credentials.json\n",
    "\n",
    "    # Log in to your account on Google Cloud\n",
    "    ! gcloud auth login\n"
   ]
  },
  {
   "cell_type": "markdown",
   "metadata": {
    "id": "bucket:batch_prediction"
   },
   "source": [
    "### 创建一个云存储桶\n",
    "\n",
    "**无论您使用什么笔记本环境，都需要按照以下步骤进行。**\n",
    "\n",
    "本教程旨在使用公共云存储桶中的训练数据以及本地云存储桶用于批量预测。您也可以使用您自己存储在本地云存储桶中的训练数据。\n",
    "\n",
    "请在下方设置您的云存储桶的名称。它必须在所有云存储桶中是唯一的。"
   ]
  },
  {
   "cell_type": "code",
   "execution_count": null,
   "metadata": {
    "id": "bucket"
   },
   "outputs": [],
   "source": [
    "BUCKET_NAME = \"[your-bucket-name]\" #@param {type:\"string\"}\n"
   ]
  },
  {
   "cell_type": "code",
   "execution_count": null,
   "metadata": {
    "id": "autoset_bucket"
   },
   "outputs": [],
   "source": [
    "if BUCKET_NAME == \"\" or BUCKET_NAME is None or BUCKET_NAME == \"[your-bucket-name]\":\n",
    "    BUCKET_NAME = PROJECT_ID + \"aip-\" + TIMESTAMP\n"
   ]
  },
  {
   "cell_type": "markdown",
   "metadata": {
    "id": "create_bucket"
   },
   "source": [
    "只有在您的存储桶尚不存在时才运行以下单元格以创建您的云存储存储桶。"
   ]
  },
  {
   "cell_type": "code",
   "execution_count": null,
   "metadata": {
    "id": "Dc_4SqrZJZJg",
    "outputId": "cfa60d02-7265-421a-b30e-dbcbe987dac8"
   },
   "outputs": [],
   "source": [
    "! gsutil mb -l $REGION gs://$BUCKET_NAME\n"
   ]
  },
  {
   "cell_type": "markdown",
   "metadata": {
    "id": "validate_bucket"
   },
   "source": [
    "最后，通过检查云存储桶的内容来验证访问权限："
   ]
  },
  {
   "cell_type": "code",
   "execution_count": null,
   "metadata": {
    "id": "gkxndVXCJZJh"
   },
   "outputs": [],
   "source": [
    "! gsutil ls -al gs://$BUCKET_NAME\n"
   ]
  },
  {
   "cell_type": "markdown",
   "metadata": {
    "id": "setup_vars"
   },
   "source": [
    "### 设置变量\n",
    "\n",
    "接下来，设置一些在本教程中使用的变量。\n",
    "### 导入库并定义常量"
   ]
  },
  {
   "cell_type": "markdown",
   "metadata": {
    "id": "import_aip"
   },
   "source": [
    "#### 导入 AutoML SDK\n",
    "\n",
    "将 AutoML SDK 导入到我们的 Python 环境中。"
   ]
  },
  {
   "cell_type": "code",
   "execution_count": null,
   "metadata": {
    "id": "x3EpSgrNJZJi"
   },
   "outputs": [],
   "source": [
    "import json\n",
    "import os\n",
    "import sys\n",
    "import time\n",
    "\n",
    "\n",
    "from google.cloud import automl_v1beta1 as automl\n",
    "\n",
    "\n",
    "from google.protobuf.json_format import MessageToJson\n",
    "from google.protobuf.json_format import ParseDict\n",
    "\n"
   ]
  },
  {
   "cell_type": "markdown",
   "metadata": {
    "id": "aip_constants"
   },
   "source": [
    "AutoML常量\n",
    "\n",
    "为AutoML设置以下常量：\n",
    "\n",
    "- `PARENT`：用于数据集、模型和端点资源的AutoML位置根路径。"
   ]
  },
  {
   "cell_type": "code",
   "execution_count": null,
   "metadata": {
    "id": "gIbQItxjJZJj"
   },
   "outputs": [],
   "source": [
    "# AutoML location root path for your dataset, model and endpoint resources\n",
    "PARENT = \"projects/\" + PROJECT_ID + \"/locations/\" + REGION\n"
   ]
  },
  {
   "cell_type": "markdown",
   "metadata": {
    "id": "clients"
   },
   "source": [
    "客户端\n",
    "\n",
    "AutoML SDK 采用客户端/服务器模型。在您的一侧 (Python 脚本) 中，您将创建一个客户端，该客户端会向服务器 (AutoML) 发送请求并接收响应。\n",
    "\n",
    "在本教程中，您将使用多个客户端，因此请提前配置好它们。\n",
    "\n",
    "- 数据集服务用于管理数据集。\n",
    "- 模型服务用于管理模型。\n",
    "- 管道服务用于训练。\n",
    "- 终端服务用于部署。\n",
    "- 作业服务用于批处理作业和定制训练。\n",
    "- 预测服务用于提供服务。*注意*: 预测具有不同的服务端点。"
   ]
  },
  {
   "cell_type": "code",
   "execution_count": null,
   "metadata": {
    "id": "eE3k7aqvJZJk",
    "outputId": "3b280f73-9cff-4247-f8e2-8e413dfa4491"
   },
   "outputs": [],
   "source": [
    "def automl_client():\n",
    "    return automl.AutoMlClient()\n",
    "\n",
    "def prediction_client():\n",
    "    return automl.PredictionServiceClient()\n",
    "\n",
    "def operations_client():\n",
    "    return automl.AutoMlClient()._transport.operations_client\n",
    "\n",
    "\n",
    "clients = {}\n",
    "clients[\"automl\"] = automl_client()\n",
    "clients[\"prediction\"] = prediction_client()\n",
    "clients[\"operations\"] = operations_client()\n",
    "\n",
    "for client in clients.items():\n",
    "    print(client)\n"
   ]
  },
  {
   "cell_type": "code",
   "execution_count": null,
   "metadata": {
    "id": "import_file:flowers,csv,icn"
   },
   "outputs": [],
   "source": [
    "IMPORT_FILE = 'gs://automl-video-demo-data/traffic_videos/traffic_videos.csv'\n"
   ]
  },
  {
   "cell_type": "code",
   "execution_count": null,
   "metadata": {
    "id": "1OCKDsyLJZJl",
    "outputId": "cb4b0db7-251a-4928-b944-ee2f109f6855"
   },
   "outputs": [],
   "source": [
    "! gsutil cat $IMPORT_FILE | head -n 10\n"
   ]
  },
  {
   "cell_type": "markdown",
   "metadata": {
    "id": "trainingpipelines_create:migration,new,response,icn"
   },
   "source": [
    "未分配, gs://automl-video-demo-data/traffic_videos/traffic_videos_labels.csv"
   ]
  },
  {
   "cell_type": "markdown",
   "metadata": {
    "id": "create_a_dataset:migration"
   },
   "source": [
    "## 创建数据集"
   ]
  },
  {
   "cell_type": "markdown",
   "metadata": {
    "id": "mZwR43s_JZJm"
   },
   "source": [
    "### [projects.locations.datasets.create](https://cloud.google.com/automl/docs/reference/rest/v1beta1/projects.locations.datasets/create)\n",
    "\n",
    "将以上英文文本翻译为中文：### [projects.locations.datasets.create](https://cloud.google.com/automl/docs/reference/rest/v1beta1/projects.locations.datasets/create)"
   ]
  },
  {
   "cell_type": "markdown",
   "metadata": {
    "id": "request:migration"
   },
   "source": [
    "请求"
   ]
  },
  {
   "cell_type": "code",
   "execution_count": null,
   "metadata": {
    "id": "datasets_create:migration,new,request",
    "outputId": "e3f9d4c6-5f20-4201-a1e6-2ea6b5c3b2f1"
   },
   "outputs": [],
   "source": [
    "dataset = {\n",
    "    \"display_name\": \"traffic_\" + TIMESTAMP,\n",
    "    \"video_object_tracking_dataset_metadata\": {}\n",
    "}\n",
    "\n",
    "print(MessageToJson(\n",
    "    automl.CreateDatasetRequest(\n",
    "        parent=PARENT,\n",
    "        dataset=dataset\n",
    "    ).__dict__[\"_pb\"])\n",
    ")\n"
   ]
  },
  {
   "cell_type": "markdown",
   "metadata": {
    "id": "ZZFAAFAkJZJn"
   },
   "source": [
    "*示例输出*：\n",
    "```\n",
    "{\n",
    "  \"parent\": \"projects/migration-ucaip-training/locations/us-central1\",\n",
    "  \"dataset\": {\n",
    "    \"displayName\": \"traffic_20210310004803\",\n",
    "    \"videoObjectTrackingDatasetMetadata\": {}\n",
    "  }\n",
    "}\n",
    "```\n",
    "\n",
    "*示例输出*：\n",
    "```\n",
    "{\n",
    "  \"parent\": \"projects/migration-ucaip-training/locations/us-central1\",\n",
    "  \"dataset\": {\n",
    "    \"displayName\": \"traffic_20210310004803\",\n",
    "    \"videoObjectTrackingDatasetMetadata\": {}\n",
    "  }\n",
    "}\n",
    "```"
   ]
  },
  {
   "cell_type": "markdown",
   "metadata": {
    "id": "call:migration"
   },
   "source": [
    "呼叫"
   ]
  },
  {
   "cell_type": "code",
   "execution_count": null,
   "metadata": {
    "id": "datasets_create:migration,new,call"
   },
   "outputs": [],
   "source": [
    "request = clients[\"automl\"].create_dataset(\n",
    "    parent=PARENT,\n",
    "    dataset=dataset\n",
    ")\n"
   ]
  },
  {
   "cell_type": "markdown",
   "metadata": {
    "id": "response:migration"
   },
   "source": [
    "#### 回应"
   ]
  },
  {
   "cell_type": "code",
   "execution_count": null,
   "metadata": {
    "id": "print:migration,new,response",
    "outputId": "6b50557f-3012-4076-e5f4-7d40bb5333e2"
   },
   "outputs": [],
   "source": [
    "result = request\n",
    "\n",
    "print(MessageToJson(result.__dict__[\"_pb\"]))\n"
   ]
  },
  {
   "cell_type": "markdown",
   "metadata": {
    "id": "datasets_create:migration,new,response"
   },
   "source": [
    "```\n",
    "{\n",
    "  \"name\": \"projects/116273516712/locations/us-central1/datasets/VOT4951119001817186304\",\n",
    "  \"displayName\": \"traffic_20210310004803\",\n",
    "  \"createTime\": \"2021-03-10T00:48:09.292248Z\",\n",
    "  \"etag\": \"AB3BwFp3u4a2oy-k3EgK6ci8zwrTqrd91_DmoaY8TYsxnb-N-aXwFefqCIm1z0YTM290\",\n",
    "  \"videoObjectTrackingDatasetMetadata\": {}\n",
    "}\n",
    "```"
   ]
  },
  {
   "cell_type": "code",
   "execution_count": null,
   "metadata": {
    "id": "dataset_id:migration,new,response",
    "outputId": "ddb296ce-8c86-4793-a7ba-b5409a7d92d1"
   },
   "outputs": [],
   "source": [
    "# The full unique ID for the dataset\n",
    "dataset_id = result.name\n",
    "# The short numeric ID for the dataset\n",
    "dataset_short_id = dataset_id.split('/')[-1]\n",
    "\n",
    "print(dataset_id)\n"
   ]
  },
  {
   "cell_type": "markdown",
   "metadata": {
    "id": "OOmLNEw3JZJq"
   },
   "source": [
    "### [项目.位置.数据集.导入数据](https://cloud.google.com/automl/docs/reference/rest/v1beta1/projects.locations.datasets/importData)"
   ]
  },
  {
   "cell_type": "markdown",
   "metadata": {
    "id": "T5yWOG67JZJr"
   },
   "source": [
    "请求"
   ]
  },
  {
   "cell_type": "code",
   "execution_count": null,
   "metadata": {
    "id": "datasets_import:migration,new,request",
    "outputId": "5cac21ee-6f18-4f44-c360-d174832d32ff"
   },
   "outputs": [],
   "source": [
    "input_config = {\n",
    "    \"gcs_source\": {\n",
    "        \"input_uris\": [IMPORT_FILE]\n",
    "    }\n",
    "}\n",
    "\n",
    "print(MessageToJson(\n",
    "    automl.ImportDataRequest(\n",
    "        name=dataset_short_id,\n",
    "        input_config=input_config\n",
    "    ).__dict__[\"_pb\"])\n",
    ")\n"
   ]
  },
  {
   "cell_type": "markdown",
   "metadata": {
    "id": "Dzg9JangJZJs"
   },
   "source": [
    "```\n",
    "{\n",
    "  \"name\": \"VOT4951119001817186304\",\n",
    "  \"inputConfig\": {\n",
    "    \"gcsSource\": {\n",
    "      \"inputUris\": [\n",
    "        \"gs://automl-video-demo-data/traffic_videos/traffic_videos.csv\"\n",
    "      ]\n",
    "    }\n",
    "  }\n",
    "}\n",
    "```\n",
    "```\n",
    "{\n",
    "  \"名称\": \"VOT4951119001817186304\",\n",
    "  \"输入配置\": {\n",
    "    \"gcsSource\": {\n",
    "      \"inputUris\": [\n",
    "        \"gs://automl-video-demo-data/traffic_videos/traffic_videos.csv\"\n",
    "      ]\n",
    "    }\n",
    "  }\n",
    "}\n",
    "```"
   ]
  },
  {
   "cell_type": "markdown",
   "metadata": {
    "id": "1shZi6Y4JZJs"
   },
   "source": [
    "电话"
   ]
  },
  {
   "cell_type": "code",
   "execution_count": null,
   "metadata": {
    "id": "datasets_import:migration,new,call"
   },
   "outputs": [],
   "source": [
    "request = clients[\"automl\"].import_data(\n",
    "    name=dataset_id,\n",
    "    input_config=input_config\n",
    ")\n"
   ]
  },
  {
   "cell_type": "markdown",
   "metadata": {
    "id": "o3_x634HJZJt"
   },
   "source": [
    "#### 回复"
   ]
  },
  {
   "cell_type": "code",
   "execution_count": null,
   "metadata": {
    "id": "Dc3YtK0jJZJt",
    "outputId": "235c07d2-b693-48aa-a8af-ffc087541ab3"
   },
   "outputs": [],
   "source": [
    "result = request.result()\n",
    "\n",
    "print(MessageToJson(result))\n"
   ]
  },
  {
   "cell_type": "markdown",
   "metadata": {
    "id": "datasets_import:migration,new,response"
   },
   "source": [
    "*示例输出*：\n",
    "```\n",
    "{}\n",
    "```"
   ]
  },
  {
   "cell_type": "markdown",
   "metadata": {
    "id": "train_a_model:migration"
   },
   "source": [
    "训练一个模型"
   ]
  },
  {
   "cell_type": "markdown",
   "metadata": {
    "id": "text_models_create:migration,old"
   },
   "source": [
    "### [projects.locations.models.create](https://cloud.google.com/automl/docs/reference/rest/v1beta1/projects.locations.models/create)\n",
    "\n",
    "### [项目.位置.模型.创建](https://cloud.google.com/automl/docs/reference/rest/v1beta1/projects.locations.models/create)"
   ]
  },
  {
   "cell_type": "markdown",
   "metadata": {
    "id": "mQD_PyZjJZJu"
   },
   "source": [
    "### 请求"
   ]
  },
  {
   "cell_type": "code",
   "execution_count": null,
   "metadata": {
    "id": "trainingpipelines_create:migration,new,request,icn",
    "outputId": "e900bb95-0e65-4576-efc6-e1ef8bbf7a28"
   },
   "outputs": [],
   "source": [
    "model = {\n",
    "    \"display_name\": \"traffic_\" + TIMESTAMP,\n",
    "    \"dataset_id\": dataset_short_id,\n",
    "    \"video_object_tracking_model_metadata\": {}\n",
    "}\n",
    "\n",
    "print(MessageToJson(\n",
    "    automl.CreateModelRequest(\n",
    "        parent=PARENT,\n",
    "        model=model\n",
    "    ).__dict__[\"_pb\"])\n",
    ")\n"
   ]
  },
  {
   "cell_type": "markdown",
   "metadata": {
    "id": "8atEKPpdJZJv"
   },
   "source": [
    "*示例输出*：\n",
    "```\n",
    "{\n",
    "  \"parent\": \"projects/migration-ucaip-training/locations/us-central1\",\n",
    "  \"model\": {\n",
    "    \"displayName\": \"traffic_20210310004803\",\n",
    "    \"datasetId\": \"VOT4951119001817186304\",\n",
    "    \"videoObjectTrackingModelMetadata\": {}\n",
    "  }\n",
    "}\n",
    "``` \n",
    "\n",
    "*示例输出*：\n",
    "{\n",
    "  \"parent\": \"projects/migration-ucaip-training/locations/us-central1\",\n",
    "  \"model\": {\n",
    "    \"displayName\": \"traffic_20210310004803\",\n",
    "    \"datasetId\": \"VOT4951119001817186304\",\n",
    "    \"videoObjectTrackingModelMetadata\": {}\n",
    "  }\n",
    "}"
   ]
  },
  {
   "cell_type": "markdown",
   "metadata": {
    "id": "ZfHEsMO5JZJv"
   },
   "source": [
    "电话"
   ]
  },
  {
   "cell_type": "code",
   "execution_count": null,
   "metadata": {
    "id": "trainingpipelines_create:migration,new,call"
   },
   "outputs": [],
   "source": [
    "request = clients[\"automl\"].create_model(\n",
    "    parent=PARENT,\n",
    "    model=model\n",
    ")\n"
   ]
  },
  {
   "cell_type": "markdown",
   "metadata": {
    "id": "jYKM6gfvJZJw"
   },
   "source": [
    "#### 回复"
   ]
  },
  {
   "cell_type": "code",
   "execution_count": null,
   "metadata": {
    "id": "print:migration,new,request",
    "outputId": "80d54292-09b6-4123-d6eb-0450ce8eb816"
   },
   "outputs": [],
   "source": [
    "result = request.result()\n",
    "\n",
    "print(MessageToJson(result.__dict__[\"_pb\"]))\n"
   ]
  },
  {
   "cell_type": "markdown",
   "metadata": {
    "id": "jdU2ko30JZJw"
   },
   "source": [
    "{\n",
    "  \"name\": \"projects/116273516712/locations/us-central1/models/VOT6634816000837550080\"\n",
    "}\n",
    "{\n",
    "  \"name\": \"projects/116273516712/locations/us-central1/models/VOT6634816000837550080\"\n",
    "}"
   ]
  },
  {
   "cell_type": "code",
   "execution_count": null,
   "metadata": {
    "id": "training_pipeline_id:migration,new,response",
    "outputId": "30468e96-7513-4bf3-decc-3b0ea10534a5"
   },
   "outputs": [],
   "source": [
    "# The full unique ID for the training pipeline\n",
    "model_id = result.name\n",
    "# The short numeric ID for the training pipeline\n",
    "model_short_id = model_id.split('/')[-1]\n",
    "\n",
    "print(model_short_id)\n"
   ]
  },
  {
   "cell_type": "markdown",
   "metadata": {
    "id": "evaluate_the_model:migration"
   },
   "source": [
    "评估模型"
   ]
  },
  {
   "cell_type": "markdown",
   "metadata": {
    "id": "yfufMwAEJjkX"
   },
   "source": [
    "### [projects.locations.models.modelEvaluations.list](https://cloud.google.com/automl/docs/reference/rest/v1beta1/projects.locations.models.modelEvaluations/list)\n",
    "\n",
    "### [projects.locations.models.modelEvaluations.list](https://cloud.google.com/automl/docs/reference/rest/v1beta1/projects.locations.models.modelEvaluations/list)"
   ]
  },
  {
   "cell_type": "markdown",
   "metadata": {
    "id": "_Zv5eHjwJZJx"
   },
   "source": [
    "#### 电话"
   ]
  },
  {
   "cell_type": "code",
   "execution_count": null,
   "metadata": {
    "id": "models_evaluations_list:migration,new,call"
   },
   "outputs": [],
   "source": [
    "request = clients[\"automl\"].list_model_evaluations(\n",
    "    parent=model_id, \n",
    ")\n"
   ]
  },
  {
   "cell_type": "markdown",
   "metadata": {
    "id": "QtnV8mnJJZJx"
   },
   "source": [
    "#### 回复"
   ]
  },
  {
   "cell_type": "code",
   "execution_count": null,
   "metadata": {
    "id": "models_evaluations_list:migration,new,response",
    "outputId": "8a5080de-5c4f-41f8-8930-71dd7afd8405",
    "scrolled": true
   },
   "outputs": [],
   "source": [
    "for evaluation in request:\n",
    "    print(MessageToJson(evaluation.__dict__[\"_pb\"]))\n",
    "\n",
    "# The last evaluation slice\n",
    "last_evaluation_slice = evaluation.name\n"
   ]
  },
  {
   "cell_type": "markdown",
   "metadata": {
    "id": "72tAHlBJJZJy"
   },
   "source": [
    "*示例输出*：\n",
    "{\n",
    "  \"name\": \"projects/116273516712/locations/us-central1/models/VOT6634816000837550080/modelEvaluations/3861662240237183015\",\n",
    "  \"annotationSpecId\": \"7080515133784457216\",\n",
    "  \"createTime\": \"2021-03-10T01:57:44.615737Z\",\n",
    "  \"evaluatedExampleCount\": 6,\n",
    "  \"videoObjectTrackingEvaluationMetrics\": {\n",
    "    \"boundingBoxMetricsEntries\": [\n",
    "      {\n",
    "        \"iouThreshold\": 0.5,\n",
    "        \"meanAveragePrecision\": 0.30026233,\n",
    "        \"confidenceMetricsEntries\": [\n",
    "          {\n",
    "            \"recall\": 1.0,\n",
    "            \"precision\": 0.37222221,\n",
    "            \"f1Score\": 0.5425101\n",
    "          },\n",
    "          {\n",
    "            \"confidenceThreshold\": 0.028951555,\n",
    "            \"recall\": 0.13432837,\n",
    "            \"precision\": 0.07377049,\n",
    "            \"f1Score\": 0.0952381\n",
    "          },\n",
    "          \n",
    "          # 省略部分内容\n",
    "          \n",
    "          {\n",
    "            \"confidenceThreshold\": 1.0,\n",
    "            \"precision\": 1.0\n",
    "          }\n",
    "        ]\n",
    "      }\n",
    "    ],\n",
    "    \"boundingBoxMeanAveragePrecision\": 0.30026233\n",
    "  },\n",
    "  \"displayName\": \"pickup_suv_van\"\n",
    "}\n",
    "{\n",
    "  \"name\": \"projects/116273516712/locations/us-central1/models/VOT6634816000837550080/modelEvaluations/4053501621797068779\",\n",
    "  \"annotationSpecId\": \"5927593629177610240\",\n",
    "  \"createTime\": \"2021-03-10T01:57:44.615737Z\",\n",
    "  \"evaluatedExampleCount\": 5,\n",
    "  \"videoObjectTrackingEvaluationMetrics\": {\n",
    "    \"boundingBoxMetricsEntries\": [\n",
    "      {\n",
    "        \"iouThreshold\": 0.5,\n",
    "        \"meanAveragePrecision\": 0.42889464,\n",
    "        \"confidenceMetricsEntries\": [\n",
    "          {\n",
    "            \"recall\": 1.0,\n",
    "            \"precision\": 0.25490198,\n",
    "            \"f1Score\": 0.40625\n",
    "          },\n",
    "          \n",
    "          # 省略部分内容\n",
    "    ],\n",
    "    \"boundingBoxMeanAveragePrecision\": 0.34359422\n",
    "  },\n",
    "  \"displayName\": \"sedan\"\n",
    "}"
   ]
  },
  {
   "cell_type": "markdown",
   "metadata": {
    "id": "i6T0bzuNJjkY"
   },
   "source": [
    "### [projects.locations.models.modelEvaluations.get](https://cloud.google.com/automl/docs/reference/rest/v1beta1/projects.locations.models.modelEvaluations/get)\n",
    "\n",
    "### [projects.locations.models.modelEvaluations.get](https://cloud.google.com/automl/docs/reference/rest/v1beta1/projects.locations.models.modelEvaluations/get)"
   ]
  },
  {
   "cell_type": "markdown",
   "metadata": {
    "id": "Nusdm5_MJZJz"
   },
   "source": [
    "呼叫"
   ]
  },
  {
   "cell_type": "code",
   "execution_count": null,
   "metadata": {
    "id": "models_evaluations_get:migration,new,call"
   },
   "outputs": [],
   "source": [
    "request = clients[\"automl\"].get_model_evaluation(\n",
    "    name=last_evaluation_slice\n",
    ")\n"
   ]
  },
  {
   "cell_type": "markdown",
   "metadata": {
    "id": "GB8oloXGJZJz"
   },
   "source": [
    "回应"
   ]
  },
  {
   "cell_type": "code",
   "execution_count": null,
   "metadata": {
    "id": "9n1UTT6oJZJ0",
    "outputId": "898d5c96-225c-4811-8504-450662cd11fb",
    "scrolled": true
   },
   "outputs": [],
   "source": [
    "print(MessageToJson(request.__dict__[\"_pb\"]))\n"
   ]
  },
  {
   "cell_type": "markdown",
   "metadata": {
    "id": "vqQCboLGJZJ0"
   },
   "source": [
    "```\n",
    "{\n",
    "  \"name\": \"projects/116273516712/locations/us-central1/models/VOT6634816000837550080/modelEvaluations/6603022638609369541\",\n",
    "  \"annotationSpecId\": \"1315907610750222336\",\n",
    "  \"createTime\": \"2021-03-10T01:57:44.615737Z\",\n",
    "  \"evaluatedExampleCount\": 6,\n",
    "  \"videoObjectTrackingEvaluationMetrics\": {\n",
    "    \"boundingBoxMetricsEntries\": [\n",
    "      {\n",
    "        \"iouThreshold\": 0.5,\n",
    "        \"meanAveragePrecision\": 0.34359422,\n",
    "        \"confidenceMetricsEntries\": [\n",
    "          {\n",
    "            \"recall\": 1.0,\n",
    "            \"precision\": 0.41428572,\n",
    "            \"f1Score\": 0.5858586\n",
    "          },\n",
    "          {\n",
    "            \"confidenceThreshold\": 0.03328514,\n",
    "            \"recall\": 0.1724138,\n",
    "            \"precision\": 0.10869565,\n",
    "            \"f1Score\": 0.13333334\n",
    "          },\n",
    "          \n",
    "          # 略\n",
    "        ]\n",
    "      }\n",
    "    ],\n",
    "    \"boundingBoxMeanAveragePrecision\": 0.34359422\n",
    "  },\n",
    "  \"displayName\": \"sedan\"\n",
    "}\n",
    "```"
   ]
  },
  {
   "cell_type": "markdown",
   "metadata": {
    "id": "make_batch_predictions:migration"
   },
   "source": [
    "## 进行批量预测"
   ]
  },
  {
   "cell_type": "markdown",
   "metadata": {
    "id": "make_batch_prediction_file:migration,new"
   },
   "source": [
    "### 准备批量预测数据"
   ]
  },
  {
   "cell_type": "code",
   "execution_count": null,
   "metadata": {
    "id": "get_test_items:automl,icn,csv",
    "outputId": "95539c27-5e06-4d5b-c7ec-c9d199c2c713"
   },
   "outputs": [],
   "source": [
    "TRAIN_FILES = \"gs://automl-video-demo-data/traffic_videos/traffic_videos_labels.csv\"\n",
    "\n",
    "test_items = ! gsutil cat $TRAIN_FILES | head -n2\n",
    "\n",
    "cols = str(test_items[0]).split(',')\n",
    "test_item_1 = str(cols[0])\n",
    "test_label_1 = str(cols[1])\n",
    "test_start_time_1 = str(0)\n",
    "test_end_time_1 = \"inf\"\n",
    "\n",
    "print(test_item_1, test_label_1)\n",
    "\n",
    "cols = str(test_items[1]).split(',')\n",
    "test_item_2 = str(cols[0])\n",
    "test_label_2 = str(cols[1])\n",
    "test_start_time_2 = str(0)\n",
    "test_end_time_2 = \"inf\"\n",
    "\n",
    "print(test_item_2, test_label_2)\n"
   ]
  },
  {
   "cell_type": "markdown",
   "metadata": {
    "id": "mrOPGyQ-JZJ2"
   },
   "source": [
    "示例输出：\n",
    "```\n",
    "gs://automl-video-demo-data/traffic_videos/highway_005.mp4 轿车\n",
    "gs://automl-video-demo-data/traffic_videos/highway_005.mp4 皮卡SUV面包车\n",
    "```"
   ]
  },
  {
   "cell_type": "markdown",
   "metadata": {
    "id": "make_batch_file:automl,image"
   },
   "source": [
    "### 创建批量输入文件\n",
    "\n",
    "要从AutoML Video请求一批预测结果，请创建一个CSV文件，列出您想要注释的视频在Cloud Storage中的路径。您还可以指定开始和结束时间，告诉AutoML Video只对视频的一部分（分段级别）进行注释。开始时间必须为零或更大，且必须在结束时间之前。结束时间必须大于开始时间且小于或等于视频的持续时间。您还可以使用inf来表示视频的结尾。"
   ]
  },
  {
   "cell_type": "code",
   "execution_count": null,
   "metadata": {
    "id": "_EdGkXQPJZJ2",
    "outputId": "e9c08c85-e220-47b2-9081-54034471da6f"
   },
   "outputs": [],
   "source": [
    "import tensorflow as tf\n",
    "import json\n",
    "\n",
    "gcs_input_uri = \"gs://\" + BUCKET_NAME + '/test.csv'\n",
    "with tf.io.gfile.GFile(gcs_input_uri, 'w') as f:\n",
    "    data = f\"{test_item_1}, {test_start_time_1}, {test_end_time_1}\"\n",
    "    f.write(data + '\\n')\n",
    "    data = f\"{test_item_2}, {test_start_time_2}, {test_end_time_2}\"\n",
    "    f.write(data + '\\n')\n",
    "    \n",
    "print(gcs_input_uri)\n",
    "!gsutil cat $gcs_input_uri\n"
   ]
  },
  {
   "cell_type": "markdown",
   "metadata": {
    "id": "PEIM210uJZJ3"
   },
   "source": [
    "以下是例子输出：\n",
    "```\n",
    "gs://migration-ucaip-trainingaip-20210310004803/test.csv\n",
    "gs://automl-video-demo-data/traffic_videos/highway_005.mp4, 0, inf\n",
    "gs://automl-video-demo-data/traffic_videos/highway_005.mp4, 0, inf\n",
    "```"
   ]
  },
  {
   "cell_type": "markdown",
   "metadata": {
    "id": "text_models_batchpredict:migration,old"
   },
   "source": [
    "### [projects.locations.models.batchPredict](https://cloud.google.com/automl/docs/reference/rest/v1beta1/projects.locations.models/batchPredict)\n",
    "\n",
    "### [项目位置模型批量预测](https://cloud.google.com/automl/docs/reference/rest/v1beta1/projects.locations.models/batchPredict)"
   ]
  },
  {
   "cell_type": "markdown",
   "metadata": {
    "id": "zKU3o21IJZJ4"
   },
   "source": [
    "#### 请求"
   ]
  },
  {
   "cell_type": "code",
   "execution_count": null,
   "metadata": {
    "id": "batchpredictionjobs_create:migration,new,request,icn",
    "outputId": "74db149d-12c0-4a96-b99e-a22d226d06ac"
   },
   "outputs": [],
   "source": [
    "input_config = {\n",
    "    \"gcs_source\": {\n",
    "        \"input_uris\": [gcs_input_uri]\n",
    "    }\n",
    "}\n",
    "    \n",
    "output_config = {\n",
    "    \"gcs_destination\": {\n",
    "        \"output_uri_prefix\": \"gs://\" + f\"{BUCKET_NAME}/batch_output/\"\n",
    "    }\n",
    "}                          \n",
    "\n",
    "batch_prediction = automl.BatchPredictRequest(\n",
    "    name=model_id,\n",
    "    input_config=input_config,\n",
    "    output_config=output_config,\n",
    ")\n",
    "\n",
    "print(MessageToJson(batch_prediction.__dict__[\"_pb\"]))\n"
   ]
  },
  {
   "cell_type": "markdown",
   "metadata": {
    "id": "1Y0TXjVNJZJ4"
   },
   "source": [
    "{\n",
    "  \"name\": \"projects/116273516712/locations/us-central1/models/VOT6634816000837550080\",\n",
    "  \"inputConfig\": {\n",
    "    \"gcsSource\": {\n",
    "      \"inputUris\": [\n",
    "        \"gs://migration-ucaip-trainingaip-20210310004803/test.csv\"\n",
    "      ]\n",
    "    }\n",
    "  },\n",
    "  \"outputConfig\": {\n",
    "    \"gcsDestination\": {\n",
    "      \"outputUriPrefix\": \"gs://migration-ucaip-trainingaip-20210310004803/batch_output/\"\n",
    "    }\n",
    "  }\n",
    "}\n",
    "```\n",
    "\n",
    "*示例输出*："
   ]
  },
  {
   "cell_type": "markdown",
   "metadata": {
    "id": "ScGH6fbbJZJ5"
   },
   "source": [
    "拨打"
   ]
  },
  {
   "cell_type": "code",
   "execution_count": null,
   "metadata": {
    "id": "batchpredictionjobs_create:migration,new,call"
   },
   "outputs": [],
   "source": [
    "request = clients[\"prediction\"].batch_predict(\n",
    "    request=batch_prediction\n",
    ")\n"
   ]
  },
  {
   "cell_type": "markdown",
   "metadata": {
    "id": "Mh9Jwl8OJZJ5"
   },
   "source": [
    "回答"
   ]
  },
  {
   "cell_type": "code",
   "execution_count": null,
   "metadata": {
    "id": "ep-WdlhxJZJ6",
    "outputId": "7f3a4e85-0700-4648-a380-4be7a0da2c3d"
   },
   "outputs": [],
   "source": [
    "result = request.result()\n",
    "\n",
    "print(MessageToJson(result.__dict__[\"_pb\"]))\n"
   ]
  },
  {
   "cell_type": "markdown",
   "metadata": {
    "id": "batchpredictionjobs_create:migration,new,response,icn"
   },
   "source": [
    "示例输出：\n",
    "\n",
    "```\n",
    "{}\n",
    "```"
   ]
  },
  {
   "cell_type": "code",
   "execution_count": null,
   "metadata": {
    "id": "GW6GcRaaJZJ6",
    "outputId": "5ea11a6f-226c-4ba7-e274-e9f09ecdce48"
   },
   "outputs": [],
   "source": [
    "destination_uri = batch_prediction.output_config.gcs_destination.output_uri_prefix[:-1]\n",
    "\n",
    "! gsutil ls $destination_uri/prediction-**\n",
    "! gsutil cat $destination_uri/prediction-**"
   ]
  },
  {
   "cell_type": "markdown",
   "metadata": {
    "id": "gy3AJcK5JZJ7"
   },
   "source": [
    "*示例输出*：\n",
    "```\n",
    "gs://migration-ucaip-trainingaip-20210310004803/batch_output/prediction-traffic_20210310004803-2021-03-10T01:57:52.257240Z/highway_005_1.json\n",
    "gs://migration-ucaip-trainingaip-20210310004803/batch_output/prediction-traffic_20210310004803-2021-03-10T01:57:52.257240Z/video_object_tracking.csv\n",
    "{\n",
    "  \"object_annotations\": [ {\n",
    "    \"annotation_spec\": {\n",
    "      \"display_name\": \"sedan\",\n",
    "      \"description\": \"sedan\"\n",
    "    },\n",
    "    \"confidence\": 0.52724433,\n",
    "    \"frames\": [ {\n",
    "      \"normalized_bounding_box\": {\n",
    "        \"x_min\": 0.27629745,\n",
    "        \"y_min\": 0.59244406,\n",
    "        \"x_max\": 0.53941643,\n",
    "        \"y_max\": 0.77127469\n",
    "      },\n",
    "      \"time_offset\": {\n",
    "      \n",
    "      }\n",
    "    }, {\n",
    "      \"normalized_bounding_box\": {\n",
    "        \"x_min\": 0.135607,\n",
    "        \"y_min\": 0.58437037,\n",
    "        \"x_max\": 0.42441425,\n",
    "        \"y_max\": 0.77325606\n",
    "      },\n",
    "      \"time_offset\": {\n",
    "        \"nanos\": 100000000\n",
    "      }\n",
    "    }, \n",
    "    \n",
    "    # 由于篇幅原因已删除\n",
    "    \n",
    "    }\n",
    "  } ]\n",
    "}\n",
    "gs://automl-video-demo-data/traffic_videos/highway_005.mp4,0,315576000000,gs://migration-ucaip-trainingaip-20210310004803/batch_output/prediction-traffic_20210310004803-2021-03-10T01:57:52.257240Z/highway_005_1.json,OK\n",
    "```"
   ]
  },
  {
   "cell_type": "markdown",
   "metadata": {
    "id": "cleanup:migration,new"
   },
   "source": [
    "清理工作\n",
    "\n",
    "要清理此项目中使用的所有GCP资源，您可以删除用于本教程的[GCP项目](https://cloud.google.com/resource-manager/docs/creating-managing-projects#shutting_down_projects)。\n",
    "\n",
    "否则，您可以删除您在本教程中创建的各个资源。"
   ]
  },
  {
   "cell_type": "code",
   "execution_count": null,
   "metadata": {
    "id": "panMCMF8JZJ8",
    "outputId": "737f9f35-650f-4329-8b0e-8a9dfe026a1a"
   },
   "outputs": [],
   "source": [
    "delete_dataset = True\n",
    "delete_model = True\n",
    "delete_bucket = True\n",
    "\n",
    "# Delete the dataset using the AutoML fully qualified identifier for the dataset\n",
    "try:\n",
    "    if delete_dataset:\n",
    "        clients['automl'].delete_dataset(name=dataset_id)\n",
    "except Exception as e:\n",
    "    print(e)\n",
    "\n",
    "# Delete the model using the AutoML fully qualified identifier for the model\n",
    "try:\n",
    "    if delete_model:\n",
    "        clients['automl'].delete_model(name=model_id)\n",
    "except Exception as e:\n",
    "    print(e)\n",
    "\n",
    "if delete_bucket and 'BUCKET_NAME' in globals():\n",
    "    ! gsutil rm -r gs://$BUCKET_NAME\n"
   ]
  },
  {
   "cell_type": "code",
   "execution_count": null,
   "metadata": {
    "id": "Z9fbty3uJZJ8"
   },
   "outputs": [],
   "source": []
  }
 ],
 "metadata": {
  "colab": {
   "collapsed_sections": [
    "gcp_authenticate",
    "bucket:batch_prediction",
    "setup_vars",
    "import_aip",
    "aip_constants",
    "mZwR43s_JZJm",
    "request:migration",
    "call:migration",
    "response:migration",
    "OOmLNEw3JZJq",
    "T5yWOG67JZJr",
    "1shZi6Y4JZJs",
    "o3_x634HJZJt",
    "text_models_create:migration,old",
    "mQD_PyZjJZJu",
    "ZfHEsMO5JZJv",
    "jYKM6gfvJZJw",
    "yfufMwAEJjkX",
    "_Zv5eHjwJZJx",
    "QtnV8mnJJZJx",
    "i6T0bzuNJjkY",
    "Nusdm5_MJZJz",
    "GB8oloXGJZJz",
    "make_batch_prediction_file:migration,new",
    "text_models_batchpredict:migration,old",
    "zKU3o21IJZJ4",
    "ScGH6fbbJZJ5",
    "Mh9Jwl8OJZJ5"
   ],
   "name": "[UJ.15 OLD] AutoML Vision Video Object Tracking.ipynb",
   "provenance": [],
   "toc_visible": true
  },
  "environment": {
   "name": "tf2-2-3-gpu.2-3.m55",
   "type": "gcloud",
   "uri": "gcr.io/deeplearning-platform-release/tf2-2-3-gpu.2-3:m55"
  },
  "kernelspec": {
   "display_name": "Python 3",
   "language": "python",
   "name": "python3"
  },
  "language_info": {
   "codemirror_mode": {
    "name": "ipython",
    "version": 3
   },
   "file_extension": ".py",
   "mimetype": "text/x-python",
   "name": "python",
   "nbconvert_exporter": "python",
   "pygments_lexer": "ipython3",
   "version": "3.7.8"
  }
 },
 "nbformat": 4,
 "nbformat_minor": 4
}
