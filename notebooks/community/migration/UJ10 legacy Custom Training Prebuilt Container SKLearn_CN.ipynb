{
 "cells": [
  {
   "cell_type": "code",
   "execution_count": null,
   "metadata": {
    "id": "copyright"
   },
   "outputs": [],
   "source": [
    "# Copyright 2021 Google LLC\n",
    "#\n",
    "# Licensed under the Apache License, Version 2.0 (the \"License\");\n",
    "# you may not use this file except in compliance with the License.\n",
    "# You may obtain a copy of the License at\n",
    "#\n",
    "#     https://www.apache.org/licenses/LICENSE-2.0\n",
    "#\n",
    "# Unless required by applicable law or agreed to in writing, software\n",
    "# distributed under the License is distributed on an \"AS IS\" BASIS,\n",
    "# WITHOUT WARRANTIES OR CONDITIONS OF ANY KIND, either express or implied.\n",
    "# See the License for the specific language governing permissions and\n",
    "# limitations under the License."
   ]
  },
  {
   "cell_type": "markdown",
   "metadata": {
    "id": "title:migration,new"
   },
   "source": [
    "# Vertex SDK：使用预构建容器（曾经的托管运行时）训练和部署 SKLearn 模型"
   ]
  },
  {
   "cell_type": "markdown",
   "metadata": {
    "id": "install_aip"
   },
   "source": [
    "## 安装"
   ]
  },
  {
   "cell_type": "markdown",
   "metadata": {
    "id": "install_storage"
   },
   "source": [
    "安装Google的*云存储*库。"
   ]
  },
  {
   "cell_type": "code",
   "execution_count": null,
   "metadata": {
    "id": "install_storage"
   },
   "outputs": [],
   "source": [
    "! pip3 install google-cloud-storage"
   ]
  },
  {
   "cell_type": "markdown",
   "metadata": {
    "id": "restart"
   },
   "source": [
    "重新启动内核\n",
    "\n",
    "安装了Vertex SDK和Google *cloud-storage*后，您需要重新启动笔记本内核，以便它可以找到这些包。"
   ]
  },
  {
   "cell_type": "code",
   "execution_count": null,
   "metadata": {
    "id": "restart"
   },
   "outputs": [],
   "source": [
    "import os\n",
    "\n",
    "if not os.getenv(\"AUTORUN\"):\n",
    "    # Automatically restart kernel after installs\n",
    "    import IPython\n",
    "\n",
    "    app = IPython.Application.instance()\n",
    "    app.kernel.do_shutdown(True)"
   ]
  },
  {
   "cell_type": "markdown",
   "metadata": {
    "id": "before_you_begin"
   },
   "source": [
    "##开始之前\n",
    "\n",
    "### GPU 运行时\n",
    "\n",
    "*如果有这个选项的话，请确保在 GPU 运行时下运行这个笔记本。在 Colab 中，选择* **运行时 > 更改运行类型 > GPU**\n",
    "\n",
    "### 设置您的 GCP 项目\n",
    "\n",
    "**无论您的笔记本环境如何，以下步骤都是必需的。**\n",
    "\n",
    "1. [选择或创建一个 GCP 项目](https://console.cloud.google.com/cloud-resource-manager)。当您首次创建帐户时，您将获得 $300 的免费信用额度用于支付计算/存储成本。\n",
    "\n",
    "2. [确保为您的项目启用了计费。](https://cloud.google.com/billing/docs/how-to/modify-project)\n",
    "\n",
    "3. [启用 Vertex APIs 和 Compute Engine APIs。](https://console.cloud.google.com/flows/enableapi?apiid=ml.googleapis.com,compute_component)\n",
    "\n",
    "4. [Google Cloud SDK](https://cloud.google.com/sdk) 已安装在 Google Cloud 笔记本中。\n",
    "\n",
    "5. 在下方的单元格中输入您的项目 ID。然后运行该单元格，确保 Cloud SDK 对本笔记本中的所有命令使用正确的项目。\n",
    "\n",
    "**注意**：Jupyter 中以 `!` 开头的行将作为 shell 命令运行，并且会将以 `$` 开头的 Python 变量插入这些命令中。"
   ]
  },
  {
   "cell_type": "code",
   "execution_count": null,
   "metadata": {
    "id": "set_project_id"
   },
   "outputs": [],
   "source": [
    "PROJECT_ID = \"[your-project-id]\"  # @param {type:\"string\"}"
   ]
  },
  {
   "cell_type": "code",
   "execution_count": null,
   "metadata": {
    "id": "autoset_project_id"
   },
   "outputs": [],
   "source": [
    "if PROJECT_ID == \"\" or PROJECT_ID is None or PROJECT_ID == \"[your-project-id]\":\n",
    "    # Get your GCP project id from gcloud\n",
    "    shell_output = !gcloud config list --format 'value(core.project)' 2>/dev/null\n",
    "    PROJECT_ID = shell_output[0]\n",
    "    print(\"Project ID:\", PROJECT_ID)"
   ]
  },
  {
   "cell_type": "code",
   "execution_count": null,
   "metadata": {
    "id": "set_gcloud_project_id"
   },
   "outputs": [],
   "source": [
    "! gcloud config set project $PROJECT_ID"
   ]
  },
  {
   "cell_type": "markdown",
   "metadata": {
    "id": "region"
   },
   "source": [
    "#### 区域\n",
    "\n",
    "您还可以更改`REGION`变量，该变量在本笔记本的其余部分中使用。以下是Vertex支持的区域。我们建议尽可能选择离您最近的区域。\n",
    "\n",
    "- 美洲：`us-central1`\n",
    "- 欧洲：`europe-west4`\n",
    "- 亚太地区：`asia-east1`\n",
    "\n",
    "您不能使用多区域存储桶来训练Vertex。并非所有区域都支持所有Vertex服务。有关每个区域的最新支持，请参阅[Vertex服务的区域支持]()。"
   ]
  },
  {
   "cell_type": "code",
   "execution_count": null,
   "metadata": {
    "id": "region"
   },
   "outputs": [],
   "source": [
    "REGION = \"us-central1\"  # @param {type: \"string\"}"
   ]
  },
  {
   "cell_type": "markdown",
   "metadata": {
    "id": "timestamp"
   },
   "source": [
    "时间戳\n",
    "\n",
    "如果您正在参加一个直播教程会话，您可能会使用一个共享的测试帐户或项目。为了避免在创建的资源上发生名称冲突，您可以为每个实例会话创建一个时间戳，并将其附加到将在本教程中创建的资源的名称上。"
   ]
  },
  {
   "cell_type": "code",
   "execution_count": null,
   "metadata": {
    "id": "timestamp"
   },
   "outputs": [],
   "source": [
    "from datetime import datetime\n",
    "\n",
    "TIMESTAMP = datetime.now().strftime(\"%Y%m%d%H%M%S\")"
   ]
  },
  {
   "cell_type": "markdown",
   "metadata": {
    "id": "gcp_authenticate"
   },
   "source": [
    "### 验证您的GCP账户\n",
    "\n",
    "**如果您正在使用Google Cloud笔记本**，您的环境已经经过验证。请跳过这一步。\n",
    "\n",
    "*注意：如果您在Vertex笔记本上运行单元格，则单元格知道要跳过执行身份验证步骤。*"
   ]
  },
  {
   "cell_type": "code",
   "execution_count": null,
   "metadata": {
    "id": "gcp_authenticate"
   },
   "outputs": [],
   "source": [
    "import os\n",
    "import sys\n",
    "\n",
    "# If you are running this notebook in Colab, run this cell and follow the\n",
    "# instructions to authenticate your Google Cloud account. This provides access\n",
    "# to your Cloud Storage bucket and lets you submit training jobs and prediction\n",
    "# requests.\n",
    "\n",
    "# If on Vertex, then don't execute this code\n",
    "if not os.path.exists(\"/opt/deeplearning/metadata/env_version\"):\n",
    "    if \"google.colab\" in sys.modules:\n",
    "        from google.colab import auth as google_auth\n",
    "\n",
    "        google_auth.authenticate_user()\n",
    "\n",
    "    # If you are running this tutorial in a notebook locally, replace the string\n",
    "    # below with the path to your service account key and run this cell to\n",
    "    # authenticate your Google Cloud account.\n",
    "    else:\n",
    "        %env GOOGLE_APPLICATION_CREDENTIALS your_path_to_credentials.json\n",
    "\n",
    "    # Log in to your account on Google Cloud\n",
    "    ! gcloud auth login"
   ]
  },
  {
   "cell_type": "markdown",
   "metadata": {
    "id": "bucket:batch_prediction"
   },
   "source": [
    "### 创建云存储桶\n",
    "\n",
    "**无论您使用哪种笔记本环境，下面的步骤都是必需的。**\n",
    "\n",
    "本教程旨在使用公共云存储桶中的训练数据，并为您的批量预测使用本地云存储桶。您也可以使用您自己存储在本地云存储桶中的训练数据。\n",
    "\n",
    "在下面设置您的云存储桶的名称。它必须在所有云存储桶中是唯一的。"
   ]
  },
  {
   "cell_type": "code",
   "execution_count": null,
   "metadata": {
    "id": "bucket"
   },
   "outputs": [],
   "source": [
    "BUCKET_NAME = \"[your-bucket-name]\"  # @param {type:\"string\"}"
   ]
  },
  {
   "cell_type": "code",
   "execution_count": null,
   "metadata": {
    "id": "autoset_bucket"
   },
   "outputs": [],
   "source": [
    "if BUCKET_NAME == \"\" or BUCKET_NAME is None or BUCKET_NAME == \"[your-bucket-name]\":\n",
    "    BUCKET_NAME = PROJECT_ID + \"aip-\" + TIMESTAMP"
   ]
  },
  {
   "cell_type": "markdown",
   "metadata": {
    "id": "create_bucket"
   },
   "source": [
    "只有在您的存储桶不存在时：运行以下单元格以创建您的云存储存储桶。"
   ]
  },
  {
   "cell_type": "code",
   "execution_count": null,
   "metadata": {
    "id": "create_bucket"
   },
   "outputs": [],
   "source": [
    "! gsutil mb -l $REGION gs://$BUCKET_NAME"
   ]
  },
  {
   "cell_type": "markdown",
   "metadata": {
    "id": "validate_bucket"
   },
   "source": [
    "最后，通过检查云存储桶的内容来验证访问。"
   ]
  },
  {
   "cell_type": "code",
   "execution_count": null,
   "metadata": {
    "id": "validate_bucket"
   },
   "outputs": [],
   "source": [
    "! gsutil ls -al gs://$BUCKET_NAME"
   ]
  },
  {
   "cell_type": "markdown",
   "metadata": {
    "id": "setup_vars"
   },
   "source": [
    "### 设置变量\n",
    "\n",
    "接下来，设置一些在教程中使用的变量。\n",
    "### 导入库和定义常量"
   ]
  },
  {
   "cell_type": "markdown",
   "metadata": {
    "id": "import_aip"
   },
   "source": [
    "#### 导入Vertex SDK\n",
    "\n",
    "将Vertex SDK导入到我们的Python环境中。"
   ]
  },
  {
   "cell_type": "code",
   "execution_count": null,
   "metadata": {
    "id": "04c9abd7432f"
   },
   "outputs": [],
   "source": [
    "import json\n",
    "import os\n",
    "import sys\n",
    "import time\n",
    "\n",
    "from googleapiclient import discovery"
   ]
  },
  {
   "cell_type": "markdown",
   "metadata": {
    "id": "aip_constants"
   },
   "source": [
    "顶点常量\n",
    "\n",
    "为顶点设置以下常量：\n",
    "\n",
    "- `PARENT`：数据集、模型和端点资源的顶点位置根路径。"
   ]
  },
  {
   "cell_type": "code",
   "execution_count": null,
   "metadata": {
    "id": "aip_constants"
   },
   "outputs": [],
   "source": [
    "# Vertex location root path for your dataset, model and endpoint resources\n",
    "PARENT = \"projects/\" + PROJECT_ID + \"/locations/\" + REGION"
   ]
  },
  {
   "cell_type": "markdown",
   "metadata": {
    "id": "clients"
   },
   "source": [
    "客户端\n",
    "\n",
    "Vertex SDK采用客户端/服务器模型。在您的一侧（即Python脚本），您将创建一个客户端，用于向服务器（Vertex）发送请求并接收响应。\n",
    "\n",
    "在本教程中，您将使用多个客户端，因此请提前将它们全部设置好。"
   ]
  },
  {
   "cell_type": "code",
   "execution_count": null,
   "metadata": {
    "id": "clients"
   },
   "outputs": [],
   "source": [
    "client = discovery.build(\"ml\", \"v1\")"
   ]
  },
  {
   "cell_type": "markdown",
   "metadata": {
    "id": "36dd422ee146"
   },
   "source": [
    "准备一个训练师的脚本"
   ]
  },
  {
   "cell_type": "markdown",
   "metadata": {
    "id": "5b0c2221146a"
   },
   "source": [
    "### 包装组装"
   ]
  },
  {
   "cell_type": "code",
   "execution_count": null,
   "metadata": {
    "id": "6d54d3711c9f"
   },
   "outputs": [],
   "source": [
    "# Make folder for python training script\n",
    "! rm -rf custom\n",
    "! mkdir custom\n",
    "\n",
    "# Add package information\n",
    "! touch custom/README.md\n",
    "\n",
    "setup_cfg = \"[egg_info]\\n\\\n",
    "tag_build =\\n\\\n",
    "tag_date = 0\"\n",
    "! echo \"$setup_cfg\" > custom/setup.cfg\n",
    "\n",
    "setup_py = \"import setuptools\\n\\\n",
    "setuptools.setup(\\n\\\n",
    "    install_requires=[\\n\\\n",
    "    ],\\n\\\n",
    "    packages=setuptools.find_packages())\"\n",
    "! echo \"$setup_py\" > custom/setup.py\n",
    "\n",
    "pkg_info = \"Metadata-Version: 1.0\\n\\\n",
    "Name: Custom Census Income\\n\\\n",
    "Version: 0.0.0\\n\\\n",
    "Summary: Demonstration training script\\n\\\n",
    "Home-page: www.google.com\\n\\\n",
    "Author: Google\\n\\\n",
    "Author-email: aferlitsch@google.com\\n\\\n",
    "License: Public\\n\\\n",
    "Description: Demo\\n\\\n",
    "Platform: Vertex AI\"\n",
    "! echo \"$pkg_info\" > custom/PKG-INFO\n",
    "\n",
    "# Make the training subfolder\n",
    "! mkdir custom/trainer\n",
    "! touch custom/trainer/__init__.py"
   ]
  },
  {
   "cell_type": "markdown",
   "metadata": {
    "id": "5e87d510414c"
   },
   "source": [
    "### 任务.py的内容"
   ]
  },
  {
   "cell_type": "code",
   "execution_count": null,
   "metadata": {
    "id": "077d9111ff59"
   },
   "outputs": [],
   "source": [
    "%%writefile custom/trainer/task.py\n",
    "# Single Instance Training for Census Income\n",
    "\n",
    "from sklearn.ensemble import RandomForestClassifier\n",
    "import joblib\n",
    "from sklearn.feature_selection import SelectKBest\n",
    "from sklearn.pipeline import FeatureUnion\n",
    "from sklearn.pipeline import Pipeline\n",
    "from sklearn.preprocessing import LabelBinarizer\n",
    "import datetime\n",
    "import pandas as pd\n",
    "\n",
    "from google.cloud import storage\n",
    "\n",
    "import numpy as np\n",
    "import argparse\n",
    "import os\n",
    "import sys\n",
    "\n",
    "parser = argparse.ArgumentParser()\n",
    "parser.add_argument('--model-dir', dest='model_dir',\n",
    "                    default=os.getenv('AIP_MODEL_DIR'), type=str, help='Model dir.')\n",
    "args = parser.parse_args()\n",
    "\n",
    "print('Python Version = {}'.format(sys.version))\n",
    "\n",
    "# Public bucket holding the census data\n",
    "bucket = storage.Client().bucket('cloud-samples-data')\n",
    "\n",
    "# Path to the data inside the public bucket\n",
    "blob = bucket.blob('ai-platform/sklearn/census_data/adult.data')\n",
    "# Download the data\n",
    "blob.download_to_filename('adult.data')\n",
    "\n",
    "# Define the format of your input data including unused columns (These are the columns from the census data files)\n",
    "COLUMNS = (\n",
    "    'age',\n",
    "    'workclass',\n",
    "    'fnlwgt',\n",
    "    'education',\n",
    "    'education-num',\n",
    "    'marital-status',\n",
    "    'occupation',\n",
    "    'relationship',\n",
    "    'race',\n",
    "    'sex',\n",
    "    'capital-gain',\n",
    "    'capital-loss',\n",
    "    'hours-per-week',\n",
    "    'native-country',\n",
    "    'income-level'\n",
    ")\n",
    "\n",
    "# Categorical columns are columns that need to be turned into a numerical value to be used by scikit-learn\n",
    "CATEGORICAL_COLUMNS = (\n",
    "    'workclass',\n",
    "    'education',\n",
    "    'marital-status',\n",
    "    'occupation',\n",
    "    'relationship',\n",
    "    'race',\n",
    "    'sex',\n",
    "    'native-country'\n",
    ")\n",
    "\n",
    "\n",
    "# Load the training census dataset\n",
    "with open('./adult.data', 'r') as train_data:\n",
    "    raw_training_data = pd.read_csv(train_data, header=None, names=COLUMNS)\n",
    "\n",
    "# Remove the column we are trying to predict ('income-level') from our features list\n",
    "# Convert the Dataframe to a lists of lists\n",
    "train_features = raw_training_data.drop('income-level', axis=1).values.tolist()\n",
    "# Create our training labels list, convert the Dataframe to a lists of lists\n",
    "train_labels = (raw_training_data['income-level'] == ' >50K').values.tolist()\n",
    "\n",
    "# Since the census data set has categorical features, we need to convert\n",
    "# them to numerical values. We'll use a list of pipelines to convert each\n",
    "# categorical column and then use FeatureUnion to combine them before calling\n",
    "# the RandomForestClassifier.\n",
    "categorical_pipelines = []\n",
    "\n",
    "# Each categorical column needs to be extracted individually and converted to a numerical value.\n",
    "# To do this, each categorical column will use a pipeline that extracts one feature column via\n",
    "# SelectKBest(k=1) and a LabelBinarizer() to convert the categorical value to a numerical one.\n",
    "# A scores array (created below) will select and extract the feature column. The scores array is\n",
    "# created by iterating over the COLUMNS and checking if it is a CATEGORICAL_COLUMN.\n",
    "for i, col in enumerate(COLUMNS[:-1]):\n",
    "    if col in CATEGORICAL_COLUMNS:\n",
    "        # Create a scores array to get the individual categorical column.\n",
    "        # Example:\n",
    "        #  data = [39, 'State-gov', 77516, 'Bachelors', 13, 'Never-married', 'Adm-clerical',\n",
    "        #         'Not-in-family', 'White', 'Male', 2174, 0, 40, 'United-States']\n",
    "        #  scores = [0, 1, 0, 0, 0, 0, 0, 0, 0, 0, 0, 0, 0, 0]\n",
    "        #\n",
    "        # Returns: [['State-gov']]\n",
    "        # Build the scores array.\n",
    "        scores = [0] * len(COLUMNS[:-1])\n",
    "        # This column is the categorical column we want to extract.\n",
    "        scores[i] = 1\n",
    "        skb = SelectKBest(k=1)\n",
    "        skb.scores_ = scores\n",
    "        # Convert the categorical column to a numerical value\n",
    "        lbn = LabelBinarizer()\n",
    "        r = skb.transform(train_features)\n",
    "        lbn.fit(r)\n",
    "        # Create the pipeline to extract the categorical feature\n",
    "        categorical_pipelines.append(\n",
    "            ('categorical-{}'.format(i), Pipeline([\n",
    "                ('SKB-{}'.format(i), skb),\n",
    "                ('LBN-{}'.format(i), lbn)])))\n",
    "        \n",
    "# Create pipeline to extract the numerical features\n",
    "skb = SelectKBest(k=6)\n",
    "# From COLUMNS use the features that are numerical\n",
    "skb.scores_ = [1, 0, 1, 0, 1, 0, 0, 0, 0, 0, 1, 1, 1, 0]\n",
    "categorical_pipelines.append(('numerical', skb))\n",
    "\n",
    "# Combine all the features using FeatureUnion\n",
    "preprocess = FeatureUnion(categorical_pipelines)\n",
    "\n",
    "# Create the classifier\n",
    "classifier = RandomForestClassifier()\n",
    "\n",
    "# Transform the features and fit them to the classifier\n",
    "classifier.fit(preprocess.transform(train_features), train_labels)\n",
    "\n",
    "# Create the overall model as a single pipeline\n",
    "pipeline = Pipeline([\n",
    "    ('union', preprocess),\n",
    "    ('classifier', classifier)\n",
    "])\n",
    "\n",
    "# Split path into bucket and subdirectory\n",
    "bucket = args.model_dir.split('/')[2]\n",
    "subdir = args.model_dir.split('/')[-1]\n",
    "\n",
    "# Write model to a local file\n",
    "joblib.dump(pipeline, 'model.joblib')\n",
    "\n",
    "# Upload the model to GCS\n",
    "bucket = storage.Client().bucket(bucket)\n",
    "blob = bucket.blob(subdir + '/model.joblib')\n",
    "blob.upload_from_filename('model.joblib')\n"
   ]
  },
  {
   "cell_type": "markdown",
   "metadata": {
    "id": "0460d3d23907"
   },
   "source": [
    "请将商店培训脚本存储在您的云存储桶中。"
   ]
  },
  {
   "cell_type": "code",
   "execution_count": null,
   "metadata": {
    "id": "c2eb48cc2368"
   },
   "outputs": [],
   "source": [
    "! rm -f custom.tar custom.tar.gz\n",
    "! tar cvf custom.tar custom\n",
    "! gzip custom.tar\n",
    "! gsutil cp custom.tar.gz gs://$BUCKET_NAME/census.tar.gz"
   ]
  },
  {
   "cell_type": "markdown",
   "metadata": {
    "id": "text_create_and_deploy_model:migration"
   },
   "source": [
    "训练一个模型"
   ]
  },
  {
   "cell_type": "markdown",
   "metadata": {
    "id": "0oqIBOSnJjkW"
   },
   "source": [
    "### [项目.作业.创建](https://cloud.google.com/ai-platform/training/docs/reference/rest/v1/projects.jobs/create)"
   ]
  },
  {
   "cell_type": "markdown",
   "metadata": {
    "id": "1aafbc0ce6b7"
   },
   "source": [
    "请求"
   ]
  },
  {
   "cell_type": "code",
   "execution_count": null,
   "metadata": {
    "id": "248f10285c0a"
   },
   "outputs": [],
   "source": [
    "JOB_NAME = \"custom_job_SKL\" + TIMESTAMP\n",
    "\n",
    "training_input = {\n",
    "    \"scaleTier\": \"BASIC\",\n",
    "    \"packageUris\": [\"gs://\" + BUCKET_NAME + \"/census.tar.gz\"],\n",
    "    \"pythonModule\": \"trainer.task\",\n",
    "    \"args\": [\"--model-dir=\" + \"gs://{}/{}\".format(BUCKET_NAME, JOB_NAME)],\n",
    "    \"region\": REGION,\n",
    "    \"runtimeVersion\": \"2.4\",\n",
    "    \"pythonVersion\": \"3.7\",\n",
    "}\n",
    "\n",
    "body = {\"jobId\": JOB_NAME, \"trainingInput\": training_input}\n",
    "\n",
    "request = client.projects().jobs().create(parent=\"projects/\" + PROJECT_ID)\n",
    "request.body = body\n",
    "\n",
    "print(json.dumps(json.loads(request.to_json()), indent=2))\n",
    "\n",
    "request = client.projects().jobs().create(parent=\"projects/\" + PROJECT_ID, body=body)"
   ]
  },
  {
   "cell_type": "markdown",
   "metadata": {
    "id": "datasets_import:migration,new,request"
   },
   "source": [
    "{\n",
    "  \"uri\": \"https://ml.googleapis.com/v1/projects/migration-ucaip-training/jobs?alt=json\",\n",
    "  \"method\": \"POST\",\n",
    "  \"body\": {\n",
    "    \"jobId\": \"custom_job_SKL20210302140139\",\n",
    "    \"trainingInput\": {\n",
    "      \"scaleTier\": \"BASIC\",\n",
    "      \"packageUris\": [\n",
    "        \"gs://migration-ucaip-trainingaip-20210302140139/census.tar.gz\"\n",
    "      ],\n",
    "      \"pythonModule\": \"trainer.task\",\n",
    "      \"args\": [\n",
    "        \"--model-dir=gs://migration-ucaip-trainingaip-20210302140139/custom_job_SKL20210302140139\"\n",
    "      ],\n",
    "      \"region\": \"us-central1\",\n",
    "      \"runtimeVersion\": \"2.4\",\n",
    "      \"pythonVersion\": \"3.7\"\n",
    "    }\n",
    "  },\n",
    "  \"headers\": {\n",
    "    \"accept\": \"application/json\",\n",
    "    \"accept-encoding\": \"gzip, deflate\",\n",
    "    \"user-agent\": \"(gzip)\",\n",
    "    \"x-goog-api-client\": \"gdcl/1.12.8 gl-python/3.7.8\"\n",
    "  },\n",
    "  \"methodId\": \"ml.projects.jobs.create\",\n",
    "  \"resumable\": null,\n",
    "  \"response_callbacks\": [],\n",
    "  \"_in_error_state\": false,\n",
    "  \"body_size\": 0,\n",
    "  \"resumable_uri\": null,\n",
    "  \"resumable_progress\": 0\n",
    "}"
   ]
  },
  {
   "cell_type": "markdown",
   "metadata": {
    "id": "5cd15f96178f"
   },
   "source": [
    "#### 电话"
   ]
  },
  {
   "cell_type": "code",
   "execution_count": null,
   "metadata": {
    "id": "8a8886c9b042"
   },
   "outputs": [],
   "source": [
    "result = request.execute()"
   ]
  },
  {
   "cell_type": "markdown",
   "metadata": {
    "id": "a593859b87c2"
   },
   "source": [
    "回应"
   ]
  },
  {
   "cell_type": "code",
   "execution_count": null,
   "metadata": {
    "id": "f4d93536746e"
   },
   "outputs": [],
   "source": [
    "print(json.dumps(result, indent=2))"
   ]
  },
  {
   "cell_type": "markdown",
   "metadata": {
    "id": "datasets_import:migration,new,request"
   },
   "source": [
    "{\n",
    "  \"jobId\": \"custom_job_SKL20210302140139\",\n",
    "  \"trainingInput\": {\n",
    "    \"packageUris\": [\n",
    "      \"gs://migration-ucaip-trainingaip-20210302140139/census.tar.gz\"\n",
    "    ],\n",
    "    \"pythonModule\": \"trainer.task\",\n",
    "    \"args\": [\n",
    "      \"--model-dir=gs://migration-ucaip-trainingaip-20210302140139/custom_job_SKL20210302140139\"\n",
    "    ],\n",
    "    \"region\": \"us-central1\",\n",
    "    \"runtimeVersion\": \"2.4\",\n",
    "    \"pythonVersion\": \"3.7\"\n",
    "  },\n",
    "  \"createTime\": \"2021-03-02T14:09:33Z\",\n",
    "  \"state\": \"QUEUED\",\n",
    "  \"trainingOutput\": {},\n",
    "  \"etag\": \"YQ/mo0C8EUg=\"\n",
    "}"
   ]
  },
  {
   "cell_type": "code",
   "execution_count": null,
   "metadata": {
    "id": "training_pipeline_id:migration,new,response"
   },
   "outputs": [],
   "source": [
    "# The short numeric ID for the custom training job\n",
    "custom_training_short_id = result[\"jobId\"]\n",
    "# The full unique ID for the custom training job\n",
    "custom_training_id = \"projects/\" + PROJECT_ID + \"/jobs/\" + result[\"jobId\"]\n",
    "\n",
    "print(custom_training_id)"
   ]
  },
  {
   "cell_type": "markdown",
   "metadata": {
    "id": "9a4cb3ccdcf2"
   },
   "source": [
    "获取项目中的作业。"
   ]
  },
  {
   "cell_type": "markdown",
   "metadata": {
    "id": "542ab0d537ac"
   },
   "source": [
    "###电话"
   ]
  },
  {
   "cell_type": "code",
   "execution_count": null,
   "metadata": {
    "id": "78d6ac966b97"
   },
   "outputs": [],
   "source": [
    "request = client.projects().jobs().get(name=custom_training_id)\n",
    "\n",
    "result = request.execute()"
   ]
  },
  {
   "cell_type": "markdown",
   "metadata": {
    "id": "8a321239ce25"
   },
   "source": [
    "#### 回应"
   ]
  },
  {
   "cell_type": "code",
   "execution_count": null,
   "metadata": {
    "id": "eb937a901fcf"
   },
   "outputs": [],
   "source": [
    "print(json.dumps(result, indent=2))"
   ]
  },
  {
   "cell_type": "markdown",
   "metadata": {
    "id": "datasets_import:migration,new,request"
   },
   "source": [
    "{\n",
    "  \"jobId\": \"custom_job_SKL20210302140139\",\n",
    "  \"trainingInput\": {\n",
    "    \"packageUris\": [\n",
    "      \"gs://migration-ucaip-trainingaip-20210302140139/census.tar.gz\"\n",
    "    ],\n",
    "    \"pythonModule\": \"trainer.task\",\n",
    "    \"args\": [\n",
    "      \"--model-dir=gs://migration-ucaip-trainingaip-20210302140139/custom_job_SKL20210302140139\"\n",
    "    ],\n",
    "    \"region\": \"us-central1\",\n",
    "    \"runtimeVersion\": \"2.4\",\n",
    "    \"pythonVersion\": \"3.7\"\n",
    "  },\n",
    "  \"createTime\": \"2021-03-02T14:09:33Z\",\n",
    "  \"state\": \"PREPARING\",\n",
    "  \"trainingOutput\": {},\n",
    "  \"etag\": \"/X2Bt4OWbWU=\"\n",
    "}"
   ]
  },
  {
   "cell_type": "code",
   "execution_count": null,
   "metadata": {
    "id": "trainingpipelines_get:migration,new,wait"
   },
   "outputs": [],
   "source": [
    "while True:\n",
    "    response = client.projects().jobs().get(name=custom_training_id).execute()\n",
    "\n",
    "    if response[\"state\"] != \"SUCCEEDED\":\n",
    "        print(\"Training job has not completed:\", response[\"state\"])\n",
    "        if response[\"state\"] == \"FAILED\":\n",
    "            break\n",
    "    else:\n",
    "        break\n",
    "    time.sleep(60)\n",
    "\n",
    "# model artifact output directory on Google Cloud Storage\n",
    "model_artifact_dir = response[\"trainingInput\"][\"args\"][0].split(\"=\")[-1]\n",
    "print(\"artifact location  \" + model_artifact_dir)"
   ]
  },
  {
   "cell_type": "markdown",
   "metadata": {
    "id": "0a9277418cf4"
   },
   "source": [
    "部署模型"
   ]
  },
  {
   "cell_type": "markdown",
   "metadata": {
    "id": "50c25f9a03e6"
   },
   "source": [
    "### [projects.models.create](https://cloud.google.com/ai-platform/prediction/docs/reference/rest/v1/projects.models/create)\n",
    "\n",
    "### [projects.models.create](https://cloud.google.com/ai-platform/prediction/docs/reference/rest/v1/projects.models/create)"
   ]
  },
  {
   "cell_type": "markdown",
   "metadata": {
    "id": "d00c48a15512"
   },
   "source": [
    "#### 请求"
   ]
  },
  {
   "cell_type": "code",
   "execution_count": null,
   "metadata": {
    "id": "2dd3b73dcc8b"
   },
   "outputs": [],
   "source": [
    "body = {\"name\": \"custom_job_SKL\" + TIMESTAMP}\n",
    "\n",
    "request = client.projects().models().create(parent=\"projects/\" + PROJECT_ID)\n",
    "request.body = json.loads(json.dumps(body, indent=2))\n",
    "\n",
    "print(json.dumps(json.loads(request.to_json()), indent=2))\n",
    "\n",
    "request = client.projects().models().create(parent=\"projects/\" + PROJECT_ID, body=body)"
   ]
  },
  {
   "cell_type": "markdown",
   "metadata": {
    "id": "datasets_import:migration,new,request"
   },
   "source": [
    "{\n",
    "  \"uri\": \"https://ml.googleapis.com/v1/projects/migration-ucaip-training/models?alt=json\",\n",
    "  \"method\": \"POST\",\n",
    "  \"body\": {\n",
    "    \"name\": \"custom_job_SKL20210302140139\"\n",
    "  },\n",
    "  \"headers\": {\n",
    "    \"accept\": \"application/json\",\n",
    "    \"accept-encoding\": \"gzip, deflate\",\n",
    "    \"user-agent\": \"(gzip)\",\n",
    "    \"x-goog-api-client\": \"gdcl/1.12.8 gl-python/3.7.8\"\n",
    "  },\n",
    "  \"methodId\": \"ml.projects.models.create\",\n",
    "  \"resumable\": null,\n",
    "  \"response_callbacks\": [],\n",
    "  \"_in_error_state\": false,\n",
    "  \"body_size\": 0,\n",
    "  \"resumable_uri\": null,\n",
    "  \"resumable_progress\": 0\n",
    "}"
   ]
  },
  {
   "cell_type": "markdown",
   "metadata": {
    "id": "41361264fb39"
   },
   "source": [
    "电话"
   ]
  },
  {
   "cell_type": "code",
   "execution_count": null,
   "metadata": {
    "id": "fa1ffb46eeed"
   },
   "outputs": [],
   "source": [
    "result = request.execute()"
   ]
  },
  {
   "cell_type": "markdown",
   "metadata": {
    "id": "0010c38333b2"
   },
   "source": [
    "####回复"
   ]
  },
  {
   "cell_type": "code",
   "execution_count": null,
   "metadata": {
    "id": "1a07cedac864"
   },
   "outputs": [],
   "source": [
    "print(json.dumps(result, indent=2))"
   ]
  },
  {
   "cell_type": "markdown",
   "metadata": {
    "id": "datasets_import:migration,new,request"
   },
   "source": [
    "*示例输出*：\n",
    "```\n",
    "{\n",
    "  \"name\": \"projects/migration-ucaip-training/models/custom_job_SKL20210302140139\",\n",
    "  \"regions\": [\n",
    "    \"us-central1\"\n",
    "  ],\n",
    "  \"etag\": \"Lmd8u9MSSIA=\"\n",
    "}\n",
    "```"
   ]
  },
  {
   "cell_type": "code",
   "execution_count": null,
   "metadata": {
    "id": "cd5ebb78dedb"
   },
   "outputs": [],
   "source": [
    "model_id = result[\"name\"]"
   ]
  },
  {
   "cell_type": "markdown",
   "metadata": {
    "id": "78a109a6e197"
   },
   "source": [
    "### [projects.models.versions.create](https://cloud.google.com/ai-platform/prediction/docs/reference/rest/v1/projects.models.versions/create)\n",
    "\n",
    "### [projects.models.versions.create](https://cloud.google.com/ai-platform/prediction/docs/reference/rest/v1/projects.models.versions/create)"
   ]
  },
  {
   "cell_type": "markdown",
   "metadata": {
    "id": "b425dd724634"
   },
   "source": [
    "请求"
   ]
  },
  {
   "cell_type": "code",
   "execution_count": null,
   "metadata": {
    "id": "f656b4b49c49"
   },
   "outputs": [],
   "source": [
    "version = {\n",
    "    \"name\": \"custom_job_SKL\" + TIMESTAMP,\n",
    "    \"deploymentUri\": model_artifact_dir,\n",
    "    \"runtimeVersion\": \"2.1\",\n",
    "    \"framework\": \"SCIKIT_LEARN\",\n",
    "    \"pythonVersion\": \"3.7\",\n",
    "    \"machineType\": \"mls1-c1-m2\",\n",
    "}\n",
    "\n",
    "request = client.projects().models().versions().create(parent=model_id)\n",
    "request.body = version\n",
    "\n",
    "print(json.dumps(json.loads(request.to_json()), indent=2))\n",
    "\n",
    "request = client.projects().models().versions().create(parent=model_id, body=version)"
   ]
  },
  {
   "cell_type": "markdown",
   "metadata": {
    "id": "datasets_import:migration,new,request"
   },
   "source": [
    "*示例输出*：\n",
    "```\n",
    "{\n",
    "  \"uri\": \"https://ml.googleapis.com/v1/projects/migration-ucaip-training/models/custom_job_SKL20210302140139/versions?alt=json\",\n",
    "  \"method\": \"POST\",\n",
    "  \"body\": {\n",
    "    \"name\": \"custom_job_SKL20210302140139\",\n",
    "    \"deploymentUri\": \"gs://migration-ucaip-trainingaip-20210302140139/custom_job_SKL20210302140139\",\n",
    "    \"runtimeVersion\": \"2.1\",\n",
    "    \"framework\": \"SCIKIT_LEARN\",\n",
    "    \"pythonVersion\": \"3.7\",\n",
    "    \"machineType\": \"mls1-c1-m2\"\n",
    "  },\n",
    "  \"headers\": {\n",
    "    \"accept\": \"application/json\",\n",
    "    \"accept-encoding\": \"gzip, deflate\",\n",
    "    \"user-agent\": \"(gzip)\",\n",
    "    \"x-goog-api-client\": \"gdcl/1.12.8 gl-python/3.7.8\"\n",
    "  },\n",
    "  \"methodId\": \"ml.projects.models.versions.create\",\n",
    "  \"resumable\": null,\n",
    "  \"response_callbacks\": [],\n",
    "  \"_in_error_state\": false,\n",
    "  \"body_size\": 0,\n",
    "  \"resumable_uri\": null,\n",
    "  \"resumable_progress\": 0\n",
    "}\n",
    "```"
   ]
  },
  {
   "cell_type": "markdown",
   "metadata": {
    "id": "bcc87289c1ec"
   },
   "source": [
    "#### 电话"
   ]
  },
  {
   "cell_type": "code",
   "execution_count": null,
   "metadata": {
    "id": "f03d4ac1e2e1"
   },
   "outputs": [],
   "source": [
    "result = request.execute()"
   ]
  },
  {
   "cell_type": "markdown",
   "metadata": {
    "id": "94c9c1ca71d6"
   },
   "source": [
    "### 回复"
   ]
  },
  {
   "cell_type": "code",
   "execution_count": null,
   "metadata": {
    "id": "2734b8b9a16c"
   },
   "outputs": [],
   "source": [
    "print(json.dumps(result, indent=2))"
   ]
  },
  {
   "cell_type": "markdown",
   "metadata": {
    "id": "datasets_import:migration,new,request"
   },
   "source": [
    "{\n",
    "  \"name\": \"projects/migration-ucaip-training/operations/create_custom_job_SKL20210302140139_custom_job_SKL20210302140139-1614695138432\",\n",
    "  \"metadata\": {\n",
    "    \"@type\": \"type.googleapis.com/google.cloud.ml.v1.OperationMetadata\",\n",
    "    \"createTime\": \"2021-03-02T14:25:38Z\",\n",
    "    \"operationType\": \"CREATE_VERSION\",\n",
    "    \"modelName\": \"projects/migration-ucaip-training/models/custom_job_SKL20210302140139\",\n",
    "    \"version\": {\n",
    "      \"name\": \"projects/migration-ucaip-training/models/custom_job_SKL20210302140139/versions/custom_job_SKL20210302140139\",\n",
    "      \"deploymentUri\": \"gs://migration-ucaip-trainingaip-20210302140139/custom_job_SKL20210302140139\",\n",
    "      \"createTime\": \"2021-03-02T14:25:38Z\",\n",
    "      \"runtimeVersion\": \"2.1\",\n",
    "      \"etag\": \"ilPQVTiR+IM=\",\n",
    "      \"framework\": \"SCIKIT_LEARN\",\n",
    "      \"machineType\": \"mls1-c1-m2\",\n",
    "      \"pythonVersion\": \"3.7\"\n",
    "    }\n",
    "  }\n",
    "}"
   ]
  },
  {
   "cell_type": "code",
   "execution_count": null,
   "metadata": {
    "id": "996fc9f9148b"
   },
   "outputs": [],
   "source": [
    "# The full unique ID for the model version\n",
    "model_version_name = result[\"metadata\"][\"version\"][\"name\"]\n",
    "\n",
    "print(model_version_name)"
   ]
  },
  {
   "cell_type": "code",
   "execution_count": null,
   "metadata": {
    "id": "be0930dcaf17"
   },
   "outputs": [],
   "source": [
    "while True:\n",
    "    response = (\n",
    "        client.projects().models().versions().get(name=model_version_name).execute()\n",
    "    )\n",
    "    if response[\"state\"] == \"READY\":\n",
    "        print(\"Model version created.\")\n",
    "        break\n",
    "    time.sleep(60)"
   ]
  },
  {
   "cell_type": "markdown",
   "metadata": {
    "id": "make_batch_predictions:migration"
   },
   "source": [
    "进行批量预测"
   ]
  },
  {
   "cell_type": "markdown",
   "metadata": {
    "id": "b934f438b6d7"
   },
   "source": [
    "批量预测只支持Tensorflow。FRAMEWORK_SCIKIT_LEARN目前不可用。"
   ]
  },
  {
   "cell_type": "markdown",
   "metadata": {
    "id": "e5a08f8923cf"
   },
   "source": [
    "进行在线预测"
   ]
  },
  {
   "cell_type": "markdown",
   "metadata": {
    "id": "21d33e9106e2"
   },
   "source": [
    "### 为在线预测准备数据项"
   ]
  },
  {
   "cell_type": "code",
   "execution_count": null,
   "metadata": {
    "id": "bd5ebd856f93"
   },
   "outputs": [],
   "source": [
    "INSTANCES = [\n",
    "    [\n",
    "        25,\n",
    "        \"Private\",\n",
    "        226802,\n",
    "        \"11th\",\n",
    "        7,\n",
    "        \"Never-married\",\n",
    "        \"Machine-op-inspct\",\n",
    "        \"Own-child\",\n",
    "        \"Black\",\n",
    "        \"Male\",\n",
    "        0,\n",
    "        0,\n",
    "        40,\n",
    "        \"United-States\",\n",
    "    ],\n",
    "    [\n",
    "        38,\n",
    "        \"Private\",\n",
    "        89814,\n",
    "        \"HS-grad\",\n",
    "        9,\n",
    "        \"Married-civ-spouse\",\n",
    "        \"Farming-fishing\",\n",
    "        \"Husband\",\n",
    "        \"White\",\n",
    "        \"Male\",\n",
    "        0,\n",
    "        0,\n",
    "        50,\n",
    "        \"United-States\",\n",
    "    ],\n",
    "    [\n",
    "        28,\n",
    "        \"Local-gov\",\n",
    "        336951,\n",
    "        \"Assoc-acdm\",\n",
    "        12,\n",
    "        \"Married-civ-spouse\",\n",
    "        \"Protective-serv\",\n",
    "        \"Husband\",\n",
    "        \"White\",\n",
    "        \"Male\",\n",
    "        0,\n",
    "        0,\n",
    "        40,\n",
    "        \"United-States\",\n",
    "    ],\n",
    "    [\n",
    "        44,\n",
    "        \"Private\",\n",
    "        160323,\n",
    "        \"Some-college\",\n",
    "        10,\n",
    "        \"Married-civ-spouse\",\n",
    "        \"Machine-op-inspct\",\n",
    "        \"Husband\",\n",
    "        \"Black\",\n",
    "        \"Male\",\n",
    "        7688,\n",
    "        0,\n",
    "        40,\n",
    "        \"United-States\",\n",
    "    ],\n",
    "    [\n",
    "        18,\n",
    "        \"?\",\n",
    "        103497,\n",
    "        \"Some-college\",\n",
    "        10,\n",
    "        \"Never-married\",\n",
    "        \"?\",\n",
    "        \"Own-child\",\n",
    "        \"White\",\n",
    "        \"Female\",\n",
    "        0,\n",
    "        0,\n",
    "        30,\n",
    "        \"United-States\",\n",
    "    ],\n",
    "    [\n",
    "        34,\n",
    "        \"Private\",\n",
    "        198693,\n",
    "        \"10th\",\n",
    "        6,\n",
    "        \"Never-married\",\n",
    "        \"Other-service\",\n",
    "        \"Not-in-family\",\n",
    "        \"White\",\n",
    "        \"Male\",\n",
    "        0,\n",
    "        0,\n",
    "        30,\n",
    "        \"United-States\",\n",
    "    ],\n",
    "    [\n",
    "        29,\n",
    "        \"?\",\n",
    "        227026,\n",
    "        \"HS-grad\",\n",
    "        9,\n",
    "        \"Never-married\",\n",
    "        \"?\",\n",
    "        \"Unmarried\",\n",
    "        \"Black\",\n",
    "        \"Male\",\n",
    "        0,\n",
    "        0,\n",
    "        40,\n",
    "        \"United-States\",\n",
    "    ],\n",
    "    [\n",
    "        63,\n",
    "        \"Self-emp-not-inc\",\n",
    "        104626,\n",
    "        \"Prof-school\",\n",
    "        15,\n",
    "        \"Married-civ-spouse\",\n",
    "        \"Prof-specialty\",\n",
    "        \"Husband\",\n",
    "        \"White\",\n",
    "        \"Male\",\n",
    "        3103,\n",
    "        0,\n",
    "        32,\n",
    "        \"United-States\",\n",
    "    ],\n",
    "    [\n",
    "        24,\n",
    "        \"Private\",\n",
    "        369667,\n",
    "        \"Some-college\",\n",
    "        10,\n",
    "        \"Never-married\",\n",
    "        \"Other-service\",\n",
    "        \"Unmarried\",\n",
    "        \"White\",\n",
    "        \"Female\",\n",
    "        0,\n",
    "        0,\n",
    "        40,\n",
    "        \"United-States\",\n",
    "    ],\n",
    "    [\n",
    "        55,\n",
    "        \"Private\",\n",
    "        104996,\n",
    "        \"7th-8th\",\n",
    "        4,\n",
    "        \"Married-civ-spouse\",\n",
    "        \"Craft-repair\",\n",
    "        \"Husband\",\n",
    "        \"White\",\n",
    "        \"Male\",\n",
    "        0,\n",
    "        0,\n",
    "        10,\n",
    "        \"United-States\",\n",
    "    ],\n",
    "]"
   ]
  },
  {
   "cell_type": "markdown",
   "metadata": {
    "id": "6b3eb0485e07"
   },
   "source": [
    "### [projects.predict](https://cloud.google.com/ai-platform/prediction/docs/reference/rest/v1/projects/predict)\n",
    "\n",
    "### [projects.predict](https://cloud.google.com/ai-platform/prediction/docs/reference/rest/v1/projects/predict)"
   ]
  },
  {
   "cell_type": "markdown",
   "metadata": {
    "id": "78235f0af030"
   },
   "source": [
    "请求"
   ]
  },
  {
   "cell_type": "code",
   "execution_count": null,
   "metadata": {
    "id": "1d080e69fe0d"
   },
   "outputs": [],
   "source": [
    "request = client.projects().predict(name=model_version_name)\n",
    "request.body = json.loads(json.dumps({\"instances\": INSTANCES}, indent=2))\n",
    "\n",
    "print(json.dumps(json.loads(request.to_json()), indent=2))\n",
    "\n",
    "request = client.projects().predict(\n",
    "    name=model_version_name, body={\"instances\": INSTANCES}\n",
    ")"
   ]
  },
  {
   "cell_type": "markdown",
   "metadata": {
    "id": "datasets_import:migration,new,request"
   },
   "source": [
    "*示例输出*：\n",
    "```\n",
    "{\n",
    "  \"uri\": \"https://ml.googleapis.com/v1/projects/migration-ucaip-training/models/custom_job_SKL20210302140139/versions/custom_job_SKL20210302140139:predict?alt=json\",\n",
    "  \"method\": \"POST\",\n",
    "  \"body\": {\n",
    "    \"instances\": [\n",
    "      [\n",
    "        25,\n",
    "        \"私人\",\n",
    "        226802,\n",
    "        \"11th\",\n",
    "        7,\n",
    "        \"从未结婚\",\n",
    "        \"机器操作检查员\",\n",
    "        \"自己的孩子\",\n",
    "        \"黑色\",\n",
    "        \"男性\",\n",
    "        0,\n",
    "        0,\n",
    "        40,\n",
    "        \"美国\"\n",
    "      ],\n",
    "      [\n",
    "        38,\n",
    "        \"私人\",\n",
    "        89814,\n",
    "        \"高中毕业\",\n",
    "        9,\n",
    "        \"已婚市民配偶\",\n",
    "        \"农业-渔业\",\n",
    "        \"丈夫\",\n",
    "        \"白种人\",\n",
    "        \"男性\",\n",
    "        0,\n",
    "        0,\n",
    "        50,\n",
    "        \"美国\"\n",
    "      ],\n",
    "      [\n",
    "        28,\n",
    "        \"地方政府\",\n",
    "        336951,\n",
    "        \"大学准学士\",\n",
    "        12,\n",
    "        \"已婚市民配偶\",\n",
    "        \"保护服务\",\n",
    "        \"丈夫\",\n",
    "        \"白种人\",\n",
    "        \"男性\",\n",
    "        0,\n",
    "        0,\n",
    "        40,\n",
    "        \"美国\"\n",
    "      ],\n",
    "      [\n",
    "        44,\n",
    "        \"私人\",\n",
    "        160323,\n",
    "        \"一些大学\",\n",
    "        10,\n",
    "        \"已婚市民配偶\",\n",
    "        \"机器操作检查员\",\n",
    "        \"丈夫\",\n",
    "        \"黑色\",\n",
    "        \"男性\",\n",
    "        7688,\n",
    "        0,\n",
    "        40,\n",
    "        \"美国\"\n",
    "      ],\n",
    "      [\n",
    "        18,\n",
    "        \"?\",\n",
    "        103497,\n",
    "        \"一些大学\",\n",
    "        10,\n",
    "        \"从未结婚\",\n",
    "        \"?\",\n",
    "        \"自己的孩子\",\n",
    "        \"白种人\",\n",
    "        \"女性\",\n",
    "        0,\n",
    "        0,\n",
    "        30,\n",
    "        \"美国\"\n",
    "      ],\n",
    "      [\n",
    "        34,\n",
    "        \"私人\",\n",
    "        198693,\n",
    "        \"10th\",\n",
    "        6,\n",
    "        \"从未结婚\",\n",
    "        \"其他服务\",\n",
    "        \"不是家人\",\n",
    "        \"白种人\",\n",
    "        \"男性\",\n",
    "        0,\n",
    "        0,\n",
    "        30,\n",
    "        \"美国\"\n",
    "      ],\n",
    "      [\n",
    "        29,\n",
    "        \"?\",\n",
    "        227026,\n",
    "        \"高中毕业\",\n",
    "        9,\n",
    "        \"从未结婚\",\n",
    "        \"?\",\n",
    "        \"未婚\",\n",
    "        \"黑色\",\n",
    "        \"男性\",\n",
    "        0,\n",
    "        0,\n",
    "        40,\n",
    "        \"美国\"\n",
    "      ],\n",
    "      [\n",
    "        63,\n",
    "        \"个体经营者非公\",\n",
    "        104626,\n",
    "        \"专业学校\",\n",
    "        15,\n",
    "        \"已婚市民配偶\",\n",
    "        \"专业特长\",\n",
    "        \"丈夫\",\n",
    "        \"白种人\",\n",
    "        \"男性\",\n",
    "        3103,\n",
    "        0,\n",
    "        32,\n",
    "        \"美国\"\n",
    "      ],\n",
    "      [\n",
    "        24,\n",
    "        \"私人\",\n",
    "        369667,\n",
    "        \"一些大学\",\n",
    "        10,\n",
    "        \"从未结婚\",\n",
    "        \"其他服务\",\n",
    "        \"未婚\",\n",
    "        \"白种人\",\n",
    "        \"女性\",\n",
    "        0,\n",
    "        0,\n",
    "        40,\n",
    "        \"美国\"\n",
    "      ],\n",
    "      [\n",
    "        55,\n",
    "        \"私人\",\n",
    "        104996,\n",
    "        \"7-8年级\",\n",
    "        4,\n",
    "        \"已婚市民配偶\",\n",
    "        \"技术维修\",\n",
    "        \"丈夫\",\n",
    "        \"白种人\",\n",
    "        \"男性\",\n",
    "        0,\n",
    "        0,\n",
    "        10,\n",
    "        \"美国\"\n",
    "      ]\n",
    "    ]\n",
    "  },\n",
    "  \"headers\": {\n",
    "    \"accept\": \"application/json\",\n",
    "    \"accept-encoding\": \"gzip, deflate\",\n",
    "    \"user-agent\": \"(gzip)\",\n",
    "    \"x-goog-api-client\": \"gdcl/1.12.8 gl-python/3.7.8\"\n",
    "  },\n",
    "  \"methodId\": \"ml.projects.predict\",\n",
    "  \"resumable\": null,\n",
    "  \"response_callbacks\": [],\n",
    "  \"_in_error_state\": false,\n",
    "  \"body_size\": 0,\n",
    "  \"resumable_uri\": null,\n",
    "  \"resumable_progress\": 0\n",
    "}\n",
    "```"
   ]
  },
  {
   "cell_type": "markdown",
   "metadata": {
    "id": "aae42336f6d8"
   },
   "source": [
    "####电话"
   ]
  },
  {
   "cell_type": "code",
   "execution_count": null,
   "metadata": {
    "id": "792b1168b16c"
   },
   "outputs": [],
   "source": [
    "result = request.execute()"
   ]
  },
  {
   "cell_type": "markdown",
   "metadata": {
    "id": "f331f79f6345"
   },
   "source": [
    "#### 回复"
   ]
  },
  {
   "cell_type": "code",
   "execution_count": null,
   "metadata": {
    "id": "ecc8a33f5f99"
   },
   "outputs": [],
   "source": [
    "print(json.dumps(result, indent=2))"
   ]
  },
  {
   "cell_type": "markdown",
   "metadata": {
    "id": "datasets_import:migration,new,request"
   },
   "source": [
    "*Chinese Translation*:\n",
    "```\n",
    "{\n",
    "  \"predictions\": [\n",
    "    false,\n",
    "    false,\n",
    "    false,\n",
    "    false,\n",
    "    false,\n",
    "    false,\n",
    "    false,\n",
    "    false,\n",
    "    false,\n",
    "    false\n",
    "  ]\n",
    "}\n",
    "```"
   ]
  },
  {
   "cell_type": "markdown",
   "metadata": {
    "id": "d8362aa15a50"
   },
   "source": [
    "### [projects.models.versions.delete](https://cloud.google.com/ai-platform/prediction/docs/reference/rest/v1/projects.models.versions/delete)\n",
    "\n",
    "### [projects.models.versions.delete](https://cloud.google.com/ai-platform/prediction/docs/reference/rest/v1/projects.models.versions/delete)"
   ]
  },
  {
   "cell_type": "markdown",
   "metadata": {
    "id": "72d35ff235e6"
   },
   "source": [
    "### 请求"
   ]
  },
  {
   "cell_type": "code",
   "execution_count": null,
   "metadata": {
    "id": "08a979e387d5"
   },
   "outputs": [],
   "source": [
    "request = client.projects().models().versions().delete(name=model_version_name)"
   ]
  },
  {
   "cell_type": "markdown",
   "metadata": {
    "id": "4c4f0aa6241a"
   },
   "source": [
    "#### 电话"
   ]
  },
  {
   "cell_type": "code",
   "execution_count": null,
   "metadata": {
    "id": "94b3a55f1cc6"
   },
   "outputs": [],
   "source": [
    "response = request.execute()"
   ]
  },
  {
   "cell_type": "markdown",
   "metadata": {
    "id": "response:migration"
   },
   "source": [
    "回复"
   ]
  },
  {
   "cell_type": "code",
   "execution_count": null,
   "metadata": {
    "id": "print:migration,new,request"
   },
   "outputs": [],
   "source": [
    "print(json.dumps(response, indent=2))"
   ]
  },
  {
   "cell_type": "markdown",
   "metadata": {
    "id": "endpoints_undeploymodel:migration,new,response"
   },
   "source": [
    "{\n",
    "  \"name\": \"projects/migration-ucaip-training/operations/delete_custom_job_SKL20210302140139_custom_job_SKL20210302140139-1614695211809\",\n",
    "  \"metadata\": {\n",
    "    \"@type\": \"type.googleapis.com/google.cloud.ml.v1.OperationMetadata\",\n",
    "    \"createTime\": \"2021-03-02T14:26:51Z\",\n",
    "    \"operationType\": \"DELETE_VERSION\",\n",
    "    \"modelName\": \"projects/migration-ucaip-training/models/custom_job_SKL20210302140139\",\n",
    "    \"version\": {\n",
    "      \"name\": \"projects/migration-ucaip-training/models/custom_job_SKL20210302140139/versions/custom_job_SKL20210302140139\",\n",
    "      \"deploymentUri\": \"gs://migration-ucaip-trainingaip-20210302140139/custom_job_SKL20210302140139\",\n",
    "      \"createTime\": \"2021-03-02T14:25:38Z\",\n",
    "      \"runtimeVersion\": \"2.1\",\n",
    "      \"state\": \"READY\",\n",
    "      \"etag\": \"5R4YqeqWMk8=\",\n",
    "      \"framework\": \"SCIKIT_LEARN\",\n",
    "      \"machineType\": \"mls1-c1-m2\",\n",
    "      \"pythonVersion\": \"3.7\"\n",
    "    }\n",
    "  }\n",
    "}"
   ]
  },
  {
   "cell_type": "markdown",
   "metadata": {
    "id": "cleanup:migration,new"
   },
   "source": [
    "清理\n",
    "\n",
    "要清理此项目中使用的所有GCP资源，您可以删除用于本教程的[GCP项目](https://cloud.google.com/resource-manager/docs/creating-managing-projects#shutting_down_projects)。\n",
    "\n",
    "否则，您可以删除在本教程中创建的单个资源。"
   ]
  },
  {
   "cell_type": "code",
   "execution_count": null,
   "metadata": {
    "id": "cleanup:migration,new"
   },
   "outputs": [],
   "source": [
    "delete_model = True\n",
    "delete_bucket = True\n",
    "\n",
    "# Delete the model using the Vertex fully qualified identifier for the model\n",
    "try:\n",
    "    if delete_model:\n",
    "        client.projects().models().delete(name=model_id)\n",
    "except Exception as e:\n",
    "    print(e)\n",
    "\n",
    "if delete_bucket and \"BUCKET_NAME\" in globals():\n",
    "    ! gsutil rm -r gs://$BUCKET_NAME"
   ]
  }
 ],
 "metadata": {
  "colab": {
   "name": "UJ10 legacy Custom Training Prebuilt Container SKLearn.ipynb",
   "toc_visible": true
  },
  "kernelspec": {
   "display_name": "Python 3",
   "name": "python3"
  }
 },
 "nbformat": 4,
 "nbformat_minor": 0
}
