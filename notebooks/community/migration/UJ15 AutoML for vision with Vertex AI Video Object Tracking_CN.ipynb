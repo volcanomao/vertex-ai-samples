{
 "cells": [
  {
   "cell_type": "code",
   "execution_count": null,
   "metadata": {
    "id": "copyright"
   },
   "outputs": [],
   "source": [
    "# Copyright 2021 Google LLC\n",
    "#\n",
    "# Licensed under the Apache License, Version 2.0 (the \"License\");\n",
    "# you may not use this file except in compliance with the License.\n",
    "# You may obtain a copy of the License at\n",
    "#\n",
    "#     https://www.apache.org/licenses/LICENSE-2.0\n",
    "#\n",
    "# Unless required by applicable law or agreed to in writing, software\n",
    "# distributed under the License is distributed on an \"AS IS\" BASIS,\n",
    "# WITHOUT WARRANTIES OR CONDITIONS OF ANY KIND, either express or implied.\n",
    "# See the License for the specific language governing permissions and\n",
    "# limitations under the License."
   ]
  },
  {
   "cell_type": "markdown",
   "metadata": {
    "id": "title:migration,new"
   },
   "source": [
    "# 顶点SDK：AutoML视频物体跟踪模型"
   ]
  },
  {
   "cell_type": "markdown",
   "metadata": {
    "id": "install_aip"
   },
   "source": [
    "安装\n",
    "\n",
    "安装最新（预览）版本的Vertex SDK。"
   ]
  },
  {
   "cell_type": "code",
   "execution_count": null,
   "metadata": {
    "id": "KDLhKMzGn5Hx"
   },
   "outputs": [],
   "source": [
    "! pip3 install -U google-cloud-aiplatform --user"
   ]
  },
  {
   "cell_type": "markdown",
   "metadata": {
    "id": "install_storage"
   },
   "source": [
    "安装Google的*云存储*库。"
   ]
  },
  {
   "cell_type": "code",
   "execution_count": null,
   "metadata": {
    "id": "XKUq0zsKn5H3"
   },
   "outputs": [],
   "source": [
    "! pip3 install google-cloud-storage"
   ]
  },
  {
   "cell_type": "markdown",
   "metadata": {
    "id": "restart"
   },
   "source": [
    "### 重启内核\n",
    "\n",
    "安装了Vertex SDK和Google *cloud-storage*后，您需要重新启动笔记本内核，以便它可以找到这些软件包。"
   ]
  },
  {
   "cell_type": "code",
   "execution_count": null,
   "metadata": {
    "id": "kvM_QWtcn5H5"
   },
   "outputs": [],
   "source": [
    "import os\n",
    "\n",
    "if not os.getenv(\"AUTORUN\"):\n",
    "    # Automatically restart kernel after installs\n",
    "    import IPython\n",
    "\n",
    "    app = IPython.Application.instance()\n",
    "    app.kernel.do_shutdown(True)"
   ]
  },
  {
   "cell_type": "markdown",
   "metadata": {
    "id": "before_you_begin"
   },
   "source": [
    "## 在开始之前\n",
    "\n",
    "### GPU 运行时\n",
    "\n",
    "*如果您有这个选项，请确保在 GPU 运行时中运行此笔记本。在 Colab 中，选择* **运行时 > 更改运行时类型 > GPU**\n",
    "\n",
    "### 设置您的 GCP 项目\n",
    "\n",
    "**无论您的笔记本环境如何，以下步骤都是必需的。**\n",
    "\n",
    "1. [选择或创建一个 GCP 项目](https://console.cloud.google.com/cloud-resource-manager)。当您第一次创建一个帐户时，您将获得 $300 的免费信用额度用于您的计算/存储成本。\n",
    "\n",
    "2. [确保为您的项目启用了结算。](https://cloud.google.com/billing/docs/how-to/modify-project)\n",
    "\n",
    "3. [启用 Vertex APIs 和 Compute Engine APIs。](https://console.cloud.google.com/flows/enableapi?apiid=ml.googleapis.com,compute_component)\n",
    "\n",
    "4. [Google Cloud SDK](https://cloud.google.com/sdk) 已经安装在 Google Cloud Notebook 中。\n",
    "\n",
    "5. 在下面的单元格中输入您的项目 ID。然后运行该单元格，以确保 Cloud SDK 在本笔记本中的所有命令中使用正确的项目。\n",
    "\n",
    "**注意**：Jupyter 会将以 `!` 为前缀的行视为 shell 命令，并且它会将以 `$` 为前缀的 Python 变量插入到这些命令中。"
   ]
  },
  {
   "cell_type": "code",
   "execution_count": null,
   "metadata": {
    "id": "set_project_id"
   },
   "outputs": [],
   "source": [
    "PROJECT_ID = \"[your-project-id]\"  # @param {type:\"string\"}"
   ]
  },
  {
   "cell_type": "code",
   "execution_count": null,
   "metadata": {
    "id": "autoset_project_id"
   },
   "outputs": [],
   "source": [
    "if PROJECT_ID == \"\" or PROJECT_ID is None or PROJECT_ID == \"[your-project-id]\":\n",
    "    # Get your GCP project id from gcloud\n",
    "    shell_output = !gcloud config list --format 'value(core.project)' 2>/dev/null\n",
    "    PROJECT_ID = shell_output[0]\n",
    "    print(\"Project ID:\", PROJECT_ID)"
   ]
  },
  {
   "cell_type": "code",
   "execution_count": null,
   "metadata": {
    "id": "set_gcloud_project_id"
   },
   "outputs": [],
   "source": [
    "! gcloud config set project $PROJECT_ID"
   ]
  },
  {
   "cell_type": "markdown",
   "metadata": {
    "id": "region"
   },
   "source": [
    "区域\n",
    "\n",
    "您还可以更改“REGION”变量，该变量用于此笔记本的其余部分操作。以下是 Vertex AI 支持的区域。我们建议在可能的情况下，选择距离您最近的区域。\n",
    "\n",
    "- 美洲：`us-central1`\n",
    "- 欧洲：`europe-west4`\n",
    "- 亚太地区：`asia-east1`\n",
    "\n",
    "您不能在 Vertex 上使用多区域存储桶进行训练。并非所有区域都支持所有 Vertex 服务。有关每个区域的最新支持，请参阅[Vertex AI 服务的区域支持情况](https://cloud.google.com/vertex-ai/docs/general/locations)。"
   ]
  },
  {
   "cell_type": "code",
   "execution_count": null,
   "metadata": {
    "id": "pTJUl6sSn5H7"
   },
   "outputs": [],
   "source": [
    "REGION = \"us-central1\"  # @param {type: \"string\"}"
   ]
  },
  {
   "cell_type": "markdown",
   "metadata": {
    "id": "timestamp"
   },
   "source": [
    "时间戳\n",
    "\n",
    "如果您参加了一个现场教程会话，您可能正在使用一个共享的测试账户或项目。为了避免资源创建时用户之间的命名冲突，您可以为每个实例会话创建一个时间戳，并将其附加到本教程中将要创建的资源的名称上。"
   ]
  },
  {
   "cell_type": "code",
   "execution_count": null,
   "metadata": {
    "id": "Gn2q7I4yn5H8"
   },
   "outputs": [],
   "source": [
    "from datetime import datetime\n",
    "\n",
    "TIMESTAMP = datetime.now().strftime(\"%Y%m%d%H%M%S\")"
   ]
  },
  {
   "cell_type": "markdown",
   "metadata": {
    "id": "gcp_authenticate"
   },
   "source": [
    "### 验证您的GCP账户\n",
    "\n",
    "**如果您正在使用Google Cloud笔记本**，您的环境已经经过验证。跳过这一步。\n",
    "\n",
    "*注意：如果您是在Vertex笔记本上并运行该单元格，则该单元格知道跳过执行验证步骤。*"
   ]
  },
  {
   "cell_type": "code",
   "execution_count": null,
   "metadata": {
    "id": "TFasBw7Cn5H9"
   },
   "outputs": [],
   "source": [
    "import os\n",
    "import sys\n",
    "\n",
    "# If you are running this notebook in Colab, run this cell and follow the\n",
    "# instructions to authenticate your Google Cloud account. This provides access\n",
    "# to your Cloud Storage bucket and lets you submit training jobs and prediction\n",
    "# requests.\n",
    "\n",
    "# If on Vertex, then don't execute this code\n",
    "if not os.path.exists(\"/opt/deeplearning/metadata/env_version\"):\n",
    "    if \"google.colab\" in sys.modules:\n",
    "        from google.colab import auth as google_auth\n",
    "\n",
    "        google_auth.authenticate_user()\n",
    "\n",
    "    # If you are running this tutorial in a notebook locally, replace the string\n",
    "    # below with the path to your service account key and run this cell to\n",
    "    # authenticate your Google Cloud account.\n",
    "    else:\n",
    "        %env GOOGLE_APPLICATION_CREDENTIALS your_path_to_credentials.json\n",
    "\n",
    "    # Log in to your account on Google Cloud\n",
    "    ! gcloud auth login"
   ]
  },
  {
   "cell_type": "markdown",
   "metadata": {
    "id": "bucket:batch_prediction"
   },
   "source": [
    "### 创建一个云存储桶\n",
    "\n",
    "**无论您所用的笔记本环境如何，以下步骤都是必需的。**\n",
    "\n",
    "本教程旨在使用公共云存储桶中的训练数据以及本地云存储桶用于批量预测。您也可以使用您自己保存在本地云存储桶中的训练数据。\n",
    "\n",
    "请在下方设置您的云存储桶的名称。它必须在所有云存储桶中保持唯一。"
   ]
  },
  {
   "cell_type": "code",
   "execution_count": null,
   "metadata": {
    "id": "bucket"
   },
   "outputs": [],
   "source": [
    "BUCKET_NAME = \"[your-bucket-name]\"  # @param {type:\"string\"}"
   ]
  },
  {
   "cell_type": "code",
   "execution_count": null,
   "metadata": {
    "id": "autoset_bucket"
   },
   "outputs": [],
   "source": [
    "if BUCKET_NAME == \"\" or BUCKET_NAME is None or BUCKET_NAME == \"[your-bucket-name]\":\n",
    "    BUCKET_NAME = PROJECT_ID + \"aip-\" + TIMESTAMP"
   ]
  },
  {
   "cell_type": "markdown",
   "metadata": {
    "id": "create_bucket"
   },
   "source": [
    "只有在您的存储桶不存在时才运行以下单元格以创建您的云存储存储桶。"
   ]
  },
  {
   "cell_type": "code",
   "execution_count": null,
   "metadata": {
    "id": "KTRHxxatn5H-"
   },
   "outputs": [],
   "source": [
    "! gsutil mb -l $REGION gs://$BUCKET_NAME"
   ]
  },
  {
   "cell_type": "markdown",
   "metadata": {
    "id": "validate_bucket"
   },
   "source": [
    "最后，通过检查云存储桶的内容来验证对其的访问权限："
   ]
  },
  {
   "cell_type": "code",
   "execution_count": null,
   "metadata": {
    "id": "OBbXRqZPn5H_"
   },
   "outputs": [],
   "source": [
    "! gsutil ls -al gs://$BUCKET_NAME"
   ]
  },
  {
   "cell_type": "markdown",
   "metadata": {
    "id": "setup_vars"
   },
   "source": [
    "### 设置变量\n",
    "\n",
    "接下来，设置一些在教程中使用的变量。\n",
    "### 导入库并定义常量"
   ]
  },
  {
   "cell_type": "markdown",
   "metadata": {
    "id": "import_aip"
   },
   "source": [
    "#### 导入Vertex SDK\n",
    "\n",
    "将Vertex SDK导入到我们的Python环境中。"
   ]
  },
  {
   "cell_type": "code",
   "execution_count": null,
   "metadata": {
    "id": "Z7wda4l9n5IA"
   },
   "outputs": [],
   "source": [
    "import os\n",
    "import sys\n",
    "import time\n",
    "\n",
    "from google.cloud.aiplatform import gapic as aip\n",
    "from google.protobuf import json_format\n",
    "from google.protobuf.json_format import MessageToJson, ParseDict\n",
    "from google.protobuf.struct_pb2 import Struct, Value"
   ]
  },
  {
   "cell_type": "markdown",
   "metadata": {
    "id": "aip_constants"
   },
   "source": [
    "设置以下常量用于Vertex AI：\n",
    "\n",
    "- `API_ENDPOINT`：Vertex AI的数据集、模型、作业、流水线和端点服务的API服务端点。\n",
    "- `PARENT`：Vertex AI的数据集、模型和端点资源的位置根路径。"
   ]
  },
  {
   "cell_type": "code",
   "execution_count": null,
   "metadata": {
    "id": "T6CQX7uwn5IA"
   },
   "outputs": [],
   "source": [
    "# API Endpoint\n",
    "API_ENDPOINT = \"{}-aiplatform.googleapis.com\".format(REGION)\n",
    "\n",
    "# Vertex AI location root path for your dataset, model and endpoint resources\n",
    "PARENT = \"projects/\" + PROJECT_ID + \"/locations/\" + REGION"
   ]
  },
  {
   "cell_type": "markdown",
   "metadata": {
    "id": "automl_constants:automl"
   },
   "source": [
    "自动机学习常量\n",
    "\n",
    "接下来，设置与AutoML视频对象跟踪数据集和训练相关的常量：\n",
    "\n",
    "- 数据集模式：告诉托管数据集服务数据集的类型是什么。\n",
    "- 数据标注（注释）模式：告诉托管数据集服务数据如何被标记（注释）。\n",
    "- 数据集训练模式：告诉Vertex AI Pipelines服务为哪种任务（例如分类）训练模型。"
   ]
  },
  {
   "cell_type": "code",
   "execution_count": null,
   "metadata": {
    "id": "automl_constants:automl,icn"
   },
   "outputs": [],
   "source": [
    "# Video Dataset type\n",
    "VIDEO_SCHEMA = \"google-cloud-aiplatform/schema/dataset/metadata/video_1.0.0.yaml\"\n",
    "# Video Labeling type\n",
    "IMPORT_SCHEMA_VIDEO_OBJECT_TRACKING = \"gs://google-cloud-aiplatform/schema/dataset/ioformat/video_object_tracking_io_format_1.0.0.yaml\"\n",
    "# Video Training task\n",
    "TRAINING_VIDEO_OBJECT_TRACKING_SCHEMA = \"gs://google-cloud-aiplatform/schema/trainingjob/definition/automl_video_object_tracking_1.0.0.yaml\""
   ]
  },
  {
   "cell_type": "markdown",
   "metadata": {
    "id": "clients"
   },
   "source": [
    "客户端\n",
    "\n",
    "Vertex SDK 采用客户端/服务器模型。在您的一侧(即 Python 脚本)上，您将创建一个客户端，向服务器（Vertex）发送请求并接收响应。\n",
    "\n",
    "在本教程中，您将使用多个客户端，因此请提前设置好它们。\n",
    "\n",
    "- 数据集服务，用于管理数据集。\n",
    "- 模型服务，用于管理模型。\n",
    "- 训练管道服务。\n",
    "- 部署端点服务。\n",
    "- 作业服务，用于批处理作业和自定义训练。\n",
    "- 预测服务。*注意*：预测具有不同的服务端点。"
   ]
  },
  {
   "cell_type": "code",
   "execution_count": null,
   "metadata": {
    "id": "H8mUvtiTn5IB"
   },
   "outputs": [],
   "source": [
    "# client options same for all services\n",
    "client_options = {\"api_endpoint\": API_ENDPOINT}\n",
    "\n",
    "\n",
    "def create_dataset_client():\n",
    "    client = aip.DatasetServiceClient(client_options=client_options)\n",
    "    return client\n",
    "\n",
    "\n",
    "def create_model_client():\n",
    "    client = aip.ModelServiceClient(client_options=client_options)\n",
    "    return client\n",
    "\n",
    "\n",
    "def create_pipeline_client():\n",
    "    client = aip.PipelineServiceClient(client_options=client_options)\n",
    "    return client\n",
    "\n",
    "\n",
    "def create_endpoint_client():\n",
    "    client = aip.EndpointServiceClient(client_options=client_options)\n",
    "    return client\n",
    "\n",
    "\n",
    "def create_prediction_client():\n",
    "    client = aip.PredictionServiceClient(client_options=client_options)\n",
    "    return client\n",
    "\n",
    "\n",
    "def create_job_client():\n",
    "    client = aip.JobServiceClient(client_options=client_options)\n",
    "    return client\n",
    "\n",
    "\n",
    "clients = {}\n",
    "clients[\"dataset\"] = create_dataset_client()\n",
    "clients[\"model\"] = create_model_client()\n",
    "clients[\"pipeline\"] = create_pipeline_client()\n",
    "clients[\"endpoint\"] = create_endpoint_client()\n",
    "clients[\"prediction\"] = create_prediction_client()\n",
    "clients[\"job\"] = create_job_client()\n",
    "\n",
    "for client in clients.items():\n",
    "    print(client)"
   ]
  },
  {
   "cell_type": "code",
   "execution_count": null,
   "metadata": {
    "id": "import_file:flowers,csv,icn"
   },
   "outputs": [],
   "source": [
    "IMPORT_FILE = \"gs://automl-video-demo-data/traffic_videos/traffic_videos_labels.csv\""
   ]
  },
  {
   "cell_type": "code",
   "execution_count": null,
   "metadata": {
    "id": "ptL5nC02n5IC"
   },
   "outputs": [],
   "source": [
    "! gsutil cat $IMPORT_FILE | head -n 10"
   ]
  },
  {
   "cell_type": "markdown",
   "metadata": {
    "id": "trainingpipelines_create:migration,new,response,icn"
   },
   "source": [
    "*示例输出*：\n",
    "```\n",
    "gs://automl-video-demo-data/traffic_videos/highway_005.mp4，轿车，1565750291672021，11.933333，0.509205，0.594283，，，0.728737，0.760959，，\n",
    "gs://automl-video-demo-data/traffic_videos/highway_005.mp4，皮卡_SUV_面包车，1565750291672171，17.566666，0.761241，0.498466，，，0.948839，0.668524，，\n",
    "gs://automl-video-demo-data/traffic_videos/highway_005.mp4，皮卡_SUV_面包车，1565750291672223，20.433333，0.000000，0.465235，，，0.142638，0.665644，，\n",
    "gs://automl-video-demo-data/traffic_videos/highway_005.mp4，皮卡_SUV_面包车，1565750291672347，25.766666，0.486523，0.592331，，，0.720611，0.776687，，\n",
    "gs://automl-video-demo-data/traffic_videos/highway_005.mp4，皮卡_SUV_面包车，1565750291672575，28.966666，0.578534，0.652778，，，0.828647，0.862967，，\n",
    "gs://automl-video-demo-data/traffic_videos/highway_005.mp4，皮卡_SUV_面包车，1565750291672549，28.966666，0.000000，0.518571，，，0.148841，0.737677，，\n",
    "gs://automl-video-demo-data/traffic_videos/highway_005.mp4，皮卡_SUV_面包车，1565750291672599，28.966666，0.106979，0.458078，，，0.377877，0.678937，，\n",
    "gs://automl-video-demo-data/traffic_videos/highway_005.mp4，皮卡_SUV_面包车，1565715798494273，32.466666，0.333083，0.485473，，，0.542722，0.647774，，\n",
    "gs://automl-video-demo-data/traffic_videos/highway_005.mp4，轿车，1565715798494439，36.433333，0.935638，0.564839，，，1.000000，0.672182，，\n",
    "gs://automl-video-demo-data/traffic_videos/highway_005.mp4，皮卡_SUV_面包车，1565715798494381，36.433333，0.000000，0.455703，，，0.164878，0.660083，，\n",
    "```"
   ]
  },
  {
   "cell_type": "markdown",
   "metadata": {
    "id": "create_a_dataset:migration"
   },
   "source": [
    "创建一个数据集"
   ]
  },
  {
   "cell_type": "markdown",
   "metadata": {
    "id": "datasets_create:migration,new"
   },
   "source": [
    "### [projects.locations.datasets.create](https://cloud.google.com/vertex-ai/docs/reference/rest/v1beta1/projects.locations.datasets/create)\n",
    "\n",
    "### [projects.locations.datasets.create](https://cloud.google.com/vertex-ai/docs/reference/rest/v1beta1/projects.locations.datasets/create)"
   ]
  },
  {
   "cell_type": "markdown",
   "metadata": {
    "id": "request:migration"
   },
   "source": [
    "请求"
   ]
  },
  {
   "cell_type": "code",
   "execution_count": null,
   "metadata": {
    "id": "datasets_create:migration,new,request"
   },
   "outputs": [],
   "source": [
    "DATA_SCHEMA = VIDEO_SCHEMA\n",
    "\n",
    "dataset = {\n",
    "    \"display_name\": \"traffic_\" + TIMESTAMP,\n",
    "    \"metadata_schema_uri\": \"gs://\" + DATA_SCHEMA,\n",
    "}\n",
    "\n",
    "print(\n",
    "    MessageToJson(\n",
    "        aip.CreateDatasetRequest(parent=PARENT, dataset=dataset).__dict__[\"_pb\"]\n",
    "    )\n",
    ")"
   ]
  },
  {
   "cell_type": "markdown",
   "metadata": {
    "id": "sPupiwqN_jAB"
   },
   "source": [
    "{\n",
    "  \"父级\": \"projects/migration-ucaip-training/locations/us-central1\",\n",
    "  \"数据集\": {\n",
    "    \"显示名称\": \"traffic_20210310013516\",\n",
    "    \"元数据模式URI\": \"gs://google-cloud-aiplatform/schema/dataset/metadata/video_1.0.0.yaml\"\n",
    "  }\n",
    "}"
   ]
  },
  {
   "cell_type": "markdown",
   "metadata": {
    "id": "call:migration"
   },
   "source": [
    "#### 电话"
   ]
  },
  {
   "cell_type": "code",
   "execution_count": null,
   "metadata": {
    "id": "datasets_create:migration,new,call"
   },
   "outputs": [],
   "source": [
    "request = clients[\"dataset\"].create_dataset(parent=PARENT, dataset=dataset)"
   ]
  },
  {
   "cell_type": "markdown",
   "metadata": {
    "id": "response:migration"
   },
   "source": [
    "回應"
   ]
  },
  {
   "cell_type": "code",
   "execution_count": null,
   "metadata": {
    "id": "print:migration,new,response"
   },
   "outputs": [],
   "source": [
    "result = request.result()\n",
    "\n",
    "print(MessageToJson(result.__dict__[\"_pb\"]))"
   ]
  },
  {
   "cell_type": "markdown",
   "metadata": {
    "id": "OC-Yc89In5IH"
   },
   "source": [
    "{\n",
    "  \"name\": \"projects/116273516712/locations/us-central1/datasets/7534187925055995904\",\n",
    "  \"displayName\": \"traffic_20210310013516\",\n",
    "  \"metadataSchemaUri\": \"gs://google-cloud-aiplatform/schema/dataset/metadata/video_1.0.0.yaml\",\n",
    "  \"labels\": {\n",
    "    \"aiplatform.googleapis.com/dataset_metadata_schema\": \"VIDEO\"\n",
    "  },\n",
    "  \"metadata\": {\n",
    "    \"dataItemSchemaUri\": \"gs://google-cloud-aiplatform/schema/dataset/dataitem/video_1.0.0.yaml\"\n",
    "  }\n",
    "} \n",
    "\n",
    "示例输出：{\n",
    "  \"name\": \"projects/116273516712/locations/us-central1/datasets/7534187925055995904\",\n",
    "  \"displayName\": \"traffic_20210310013516\",\n",
    "  \"metadataSchemaUri\": \"gs://google-cloud-aiplatform/schema/dataset/metadata/video_1.0.0.yaml\",\n",
    "  \"labels\": {\n",
    "    \"aiplatform.googleapis.com/dataset_metadata_schema\": \"VIDEO\"\n",
    "  },\n",
    "  \"metadata\": {\n",
    "    \"dataItemSchemaUri\": \"gs://google-cloud-aiplatform/schema/dataset/dataitem/video_1.0.0.yaml\"\n",
    "  }\n",
    "}"
   ]
  },
  {
   "cell_type": "code",
   "execution_count": null,
   "metadata": {
    "id": "dataset_id:migration,new,response"
   },
   "outputs": [],
   "source": [
    "# The full unique ID for the dataset\n",
    "dataset_id = result.name\n",
    "# The short numeric ID for the dataset\n",
    "dataset_short_id = dataset_id.split(\"/\")[-1]\n",
    "\n",
    "print(dataset_id)"
   ]
  },
  {
   "cell_type": "markdown",
   "metadata": {
    "id": "datasets_import:migration,new"
   },
   "source": [
    "### [projects.locations.datasets.import](https://cloud.google.com/vertex-ai/docs/reference/rest/v1beta1/projects.locations.datasets/import)\n",
    "\n",
    "### [项目.地点.数据集.导入](https://cloud.google.com/vertex-ai/docs/reference/rest/v1beta1/projects.locations.datasets/import)"
   ]
  },
  {
   "cell_type": "markdown",
   "metadata": {
    "id": "qYXlUMfWn5II"
   },
   "source": [
    "### 请求"
   ]
  },
  {
   "cell_type": "code",
   "execution_count": null,
   "metadata": {
    "id": "datasets_import:migration,new,request"
   },
   "outputs": [],
   "source": [
    "LABEL_SCHEMA = IMPORT_SCHEMA_VIDEO_OBJECT_TRACKING\n",
    "\n",
    "import_config = {\n",
    "    \"gcs_source\": {\"uris\": [IMPORT_FILE]},\n",
    "    \"import_schema_uri\": LABEL_SCHEMA,\n",
    "}\n",
    "\n",
    "print(\n",
    "    MessageToJson(\n",
    "        aip.ImportDataRequest(\n",
    "            name=dataset_short_id, import_configs=[import_config]\n",
    "        ).__dict__[\"_pb\"]\n",
    "    )\n",
    ")"
   ]
  },
  {
   "cell_type": "markdown",
   "metadata": {
    "id": "AVJY95yXn5II"
   },
   "source": [
    "{\n",
    "  \"名称\": \"7534187925055995904\",\n",
    "  \"importConfigs\": [\n",
    "    {\n",
    "      \"gcsSource\": {\n",
    "        \"uris\": [\n",
    "          \"gs://automl-video-demo-data/traffic_videos/traffic_videos_labels.csv\"\n",
    "        ]\n",
    "      },\n",
    "      \"importSchemaUri\": \"gs://google-cloud-aiplatform/schema/dataset/ioformat/video_object_tracking_io_format_1.0.0.yaml\"\n",
    "    }\n",
    "  ]\n",
    "}"
   ]
  },
  {
   "cell_type": "markdown",
   "metadata": {
    "id": "2qSg5OOWn5II"
   },
   "source": [
    "#### 呼叫"
   ]
  },
  {
   "cell_type": "code",
   "execution_count": null,
   "metadata": {
    "id": "datasets_import:migration,new,call"
   },
   "outputs": [],
   "source": [
    "request = clients[\"dataset\"].import_data(\n",
    "    name=dataset_id, import_configs=[import_config]\n",
    ")"
   ]
  },
  {
   "cell_type": "markdown",
   "metadata": {
    "id": "y6bxHeSWn5IJ"
   },
   "source": [
    "#### 回应"
   ]
  },
  {
   "cell_type": "code",
   "execution_count": null,
   "metadata": {
    "id": "ojm6e7dTn5IJ"
   },
   "outputs": [],
   "source": [
    "result = request.result()\n",
    "\n",
    "print(MessageToJson(result.__dict__[\"_pb\"]))"
   ]
  },
  {
   "cell_type": "markdown",
   "metadata": {
    "id": "sMdZTOKsn5IK"
   },
   "source": [
    "示例输出：\n",
    "```\n",
    "{}\n",
    "```"
   ]
  },
  {
   "cell_type": "markdown",
   "metadata": {
    "id": "train_a_model:migration"
   },
   "source": [
    "## 训练一个模型"
   ]
  },
  {
   "cell_type": "markdown",
   "metadata": {
    "id": "trainingpipelines_create:migration,new"
   },
   "source": [
    "### [projects.locations.trainingPipelines.create](https://cloud.google.com/vertex-ai/docs/reference/rest/v1beta1/projects.locations.trainingPipelines/create)\n",
    "\n",
    "### [projects.locations.trainingPipelines.create](https://cloud.google.com/vertex-ai/docs/reference/rest/v1beta1/projects.locations.trainingPipelines/create)"
   ]
  },
  {
   "cell_type": "markdown",
   "metadata": {
    "id": "ZJvJeQ5mn5IK"
   },
   "source": [
    "请求"
   ]
  },
  {
   "cell_type": "code",
   "execution_count": null,
   "metadata": {
    "id": "trainingpipelines_create:migration,new,request,icn"
   },
   "outputs": [],
   "source": [
    "TRAINING_SCHEMA = TRAINING_VIDEO_OBJECT_TRACKING_SCHEMA\n",
    "\n",
    "task = Value(struct_value=Struct(fields={\"model_type\": Value(string_value=\"CLOUD\")}))\n",
    "\n",
    "training_pipeline = {\n",
    "    \"display_name\": \"traffic_\" + TIMESTAMP,\n",
    "    \"training_task_definition\": TRAINING_SCHEMA,\n",
    "    \"training_task_inputs\": task,\n",
    "    \"input_data_config\": {\n",
    "        \"dataset_id\": dataset_short_id,\n",
    "        \"fraction_split\": {\"training_fraction\": 0.8, \"test_fraction\": 0.2},\n",
    "    },\n",
    "    \"model_to_upload\": {\"display_name\": \"traffic_\" + TIMESTAMP},\n",
    "}\n",
    "\n",
    "print(\n",
    "    MessageToJson(\n",
    "        aip.CreateTrainingPipelineRequest(\n",
    "            parent=PARENT, training_pipeline=training_pipeline\n",
    "        ).__dict__[\"_pb\"]\n",
    "    )\n",
    ")"
   ]
  },
  {
   "cell_type": "markdown",
   "metadata": {
    "id": "SMWsytANn5IK"
   },
   "source": [
    "{\n",
    "  \"parent\": \"projects/migration-ucaip-training/locations/us-central1\",\n",
    "  \"trainingPipeline\": {\n",
    "    \"displayName\": \"traffic_20210310013516\",\n",
    "    \"inputDataConfig\": {\n",
    "      \"datasetId\": \"7534187925055995904\",\n",
    "      \"fractionSplit\": {\n",
    "        \"trainingFraction\": 0.8,\n",
    "        \"testFraction\": 0.2\n",
    "      }\n",
    "    },\n",
    "    \"trainingTaskDefinition\": \"gs://google-cloud-aiplatform/schema/trainingjob/definition/automl_video_object_tracking_1.0.0.yaml\",\n",
    "    \"trainingTaskInputs\": {\n",
    "      \"model_type\": \"CLOUD\"\n",
    "    },\n",
    "    \"modelToUpload\": {\n",
    "      \"displayName\": \"traffic_20210310013516\"\n",
    "    }\n",
    "  }\n",
    "}\n",
    "```"
   ]
  },
  {
   "cell_type": "markdown",
   "metadata": {
    "id": "SdESf_Xjn5IL"
   },
   "source": [
    "电话"
   ]
  },
  {
   "cell_type": "code",
   "execution_count": null,
   "metadata": {
    "id": "trainingpipelines_create:migration,new,call"
   },
   "outputs": [],
   "source": [
    "request = clients[\"pipeline\"].create_training_pipeline(\n",
    "    parent=PARENT, training_pipeline=training_pipeline\n",
    ")"
   ]
  },
  {
   "cell_type": "markdown",
   "metadata": {
    "id": "jk2KsljSn5IL"
   },
   "source": [
    "回复"
   ]
  },
  {
   "cell_type": "code",
   "execution_count": null,
   "metadata": {
    "id": "print:migration,new,request"
   },
   "outputs": [],
   "source": [
    "print(MessageToJson(request.__dict__[\"_pb\"]))"
   ]
  },
  {
   "cell_type": "markdown",
   "metadata": {
    "id": "gUIK_1mcn5IM"
   },
   "source": [
    "{\n",
    "  \"name\": \"projects/116273516712/locations/us-central1/trainingPipelines/4612961451915608064\",\n",
    "  \"displayName\": \"traffic_20210310013516\",\n",
    "  \"inputDataConfig\": {\n",
    "    \"datasetId\": \"7534187925055995904\",\n",
    "    \"fractionSplit\": {\n",
    "      \"trainingFraction\": 0.8,\n",
    "      \"testFraction\": 0.2\n",
    "    }\n",
    "  },\n",
    "  \"trainingTaskDefinition\": \"gs://google-cloud-aiplatform/schema/trainingjob/definition/automl_video_object_tracking_1.0.0.yaml\",\n",
    "  \"trainingTaskInputs\": {\n",
    "    \"modelType\": \"CLOUD\"\n",
    "  },\n",
    "  \"modelToUpload\": {\n",
    "    \"displayName\": \"traffic_20210310013516\"\n",
    "  },\n",
    "  \"state\": \"PIPELINE_STATE_PENDING\",\n",
    "  \"createTime\": \"2021-03-10T13:09:36.473816Z\",\n",
    "  \"updateTime\": \"2021-03-10T13:09:36.473816Z\"\n",
    "}"
   ]
  },
  {
   "cell_type": "code",
   "execution_count": null,
   "metadata": {
    "id": "training_pipeline_id:migration,new,response"
   },
   "outputs": [],
   "source": [
    "# The full unique ID for the training pipeline\n",
    "training_pipeline_id = request.name\n",
    "# The short numeric ID for the training pipeline\n",
    "training_pipeline_short_id = training_pipeline_id.split(\"/\")[-1]\n",
    "\n",
    "print(training_pipeline_id)"
   ]
  },
  {
   "cell_type": "markdown",
   "metadata": {
    "id": "trainingpipelines_get:migration,new"
   },
   "source": [
    "### [projects.locations.trainingPipelines.get](https://cloud.google.com/vertex-ai/docs/reference/rest/v1beta1/projects.locations.trainingPipelines/get)\n",
    "### [项目.位置.训练管道.获取](https://cloud.google.com/vertex-ai/docs/reference/rest/v1beta1/projects.locations.trainingPipelines/get)"
   ]
  },
  {
   "cell_type": "markdown",
   "metadata": {
    "id": "egJoW5sUn5IM"
   },
   "source": [
    "####电话"
   ]
  },
  {
   "cell_type": "code",
   "execution_count": null,
   "metadata": {
    "id": "trainingpipelines_get:migration,new,call"
   },
   "outputs": [],
   "source": [
    "request = clients[\"pipeline\"].get_training_pipeline(name=training_pipeline_id)"
   ]
  },
  {
   "cell_type": "markdown",
   "metadata": {
    "id": "INONfT8Ln5IN"
   },
   "source": [
    "#### 回应"
   ]
  },
  {
   "cell_type": "code",
   "execution_count": null,
   "metadata": {
    "id": "xYKvFpAVn5IN"
   },
   "outputs": [],
   "source": [
    "print(MessageToJson(request.__dict__[\"_pb\"]))"
   ]
  },
  {
   "cell_type": "markdown",
   "metadata": {
    "id": "eeT7dtSvn5IN"
   },
   "source": [
    "{\n",
    "  \"name\": \"projects/116273516712/locations/us-central1/trainingPipelines/4612961451915608064\",\n",
    "  \"displayName\": \"traffic_20210310013516\",\n",
    "  \"inputDataConfig\": {\n",
    "    \"datasetId\": \"7534187925055995904\",\n",
    "    \"fractionSplit\": {\n",
    "      \"trainingFraction\": 0.8,\n",
    "      \"testFraction\": 0.2\n",
    "    }\n",
    "  },\n",
    "  \"trainingTaskDefinition\": \"gs://google-cloud-aiplatform/schema/trainingjob/definition/automl_video_object_tracking_1.0.0.yaml\",\n",
    "  \"trainingTaskInputs\": {\n",
    "    \"modelType\": \"CLOUD\"\n",
    "  },\n",
    "  \"modelToUpload\": {\n",
    "    \"displayName\": \"traffic_20210310013516\"\n",
    "  },\n",
    "  \"state\": \"PIPELINE_STATE_PENDING\",\n",
    "  \"createTime\": \"2021-03-10T13:09:36.473816Z\",\n",
    "  \"updateTime\": \"2021-03-10T13:09:36.473816Z\"\n",
    "}"
   ]
  },
  {
   "cell_type": "code",
   "execution_count": null,
   "metadata": {
    "id": "trainingpipelines_get:migration,new,wait"
   },
   "outputs": [],
   "source": [
    "while True:\n",
    "    response = clients[\"pipeline\"].get_training_pipeline(name=training_pipeline_id)\n",
    "    if response.state != aip.PipelineState.PIPELINE_STATE_SUCCEEDED:\n",
    "        print(\"Training job has not completed:\", response.state)\n",
    "        model_to_deploy_name = None\n",
    "        if response.state == aip.PipelineState.PIPELINE_STATE_FAILED:\n",
    "            break\n",
    "    else:\n",
    "        model_id = response.model_to_upload.name\n",
    "        print(\"Training Time:\", response.end_time - response.start_time)\n",
    "        break\n",
    "    time.sleep(60)\n",
    "\n",
    "print(model_id)"
   ]
  },
  {
   "cell_type": "markdown",
   "metadata": {
    "id": "evaluate_the_model:migration"
   },
   "source": [
    "评估模型"
   ]
  },
  {
   "cell_type": "markdown",
   "metadata": {
    "id": "models_evaluations_list:migration,new"
   },
   "source": [
    "### [projects.locations.models.evaluations.list](https://cloud.google.com/vertex-ai/docs/reference/rest/v1beta1/projects.locations.models.evaluations/list)\n",
    "\n",
    "### [projects.locations.models.evaluations.list](https://cloud.google.com/vertex-ai/docs/reference/rest/v1beta1/projects.locations.models.evaluations/list)"
   ]
  },
  {
   "cell_type": "markdown",
   "metadata": {
    "id": "xTM1xhTzn5IO"
   },
   "source": [
    "呼叫"
   ]
  },
  {
   "cell_type": "code",
   "execution_count": null,
   "metadata": {
    "id": "models_evaluations_list:migration,new,call"
   },
   "outputs": [],
   "source": [
    "request = clients[\"model\"].list_model_evaluations(parent=model_id)"
   ]
  },
  {
   "cell_type": "markdown",
   "metadata": {
    "id": "qRTiZUwYn5IO"
   },
   "source": [
    "#### 回复"
   ]
  },
  {
   "cell_type": "code",
   "execution_count": null,
   "metadata": {
    "id": "AxEY7WFHj2YC"
   },
   "outputs": [],
   "source": [
    "import json\n",
    "\n",
    "model_evaluations = [json.loads(MessageToJson(me.__dict__[\"_pb\"])) for me in request]\n",
    "# The evaluation slice\n",
    "evaluation_slice = request.model_evaluations[0].name\n",
    "\n",
    "print(json.dumps(model_evaluations, indent=2))"
   ]
  },
  {
   "cell_type": "markdown",
   "metadata": {
    "id": "rBPb8NvWn5IP"
   },
   "source": [
    "```\n",
    "[\n",
    "  {\n",
    "    \"name\": \"projects/116273516712/locations/us-central1/models/6125898247828406272/evaluations/305090287452028928\",\n",
    "    \"metricsSchemaUri\": \"gs://google-cloud-aiplatform/schema/modelevaluation/video_object_tracking_metrics_1.0.0.yaml\",\n",
    "    \"metrics\": {\n",
    "      \"boundingBoxMetrics\": [\n",
    "        {\n",
    "          \"meanAveragePrecision\": 0.34263912,\n",
    "          \"iouThreshold\": 0.5,\n",
    "          \"confidenceMetrics\": [\n",
    "            {\n",
    "              \"precision\": 0.36842105,\n",
    "              \"recall\": 1.0,\n",
    "              \"f1Score\": 0.53846157\n",
    "            },\n",
    "            {\n",
    "              \"precision\": 0.088,\n",
    "              \"confidenceThreshold\": 0.032954127,\n",
    "              \"recall\": 0.16541353,\n",
    "              \"f1Score\": 0.11488251\n",
    "            },\n",
    "            {\n",
    "              \"precision\": 0.08835341,\n",
    "              \"confidenceThreshold\": 0.035069585,\n",
    "              \"recall\": 0.16541353,\n",
    "              \"f1Score\": 0.11518325\n",
    "            },\n",
    "            {\n",
    "              \"precision\": 0.088709675,\n",
    "              \"recall\": 0.16541353,\n",
    "              \"confidenceThreshold\": 0.036181003,\n",
    "              \"f1Score\": 0.115485564\n",
    "            },\n",
    "            {\n",
    "              \"recall\": 0.16541353,\n",
    "              \"f1Score\": 0.11578947,\n",
    "              \"confidenceThreshold\": 0.037186295,\n",
    "              \"precision\": 0.08906882\n",
    "            },\n",
    "            {\n",
    "              \"recall\": 0.16541353,\n",
    "              \"precision\": 0.08943089,\n",
    "              \"confidenceThreshold\": 0.038205147,\n",
    "              \"f1Score\": 0.116094984\n",
    "            },\n",
    "            \n",
    "            # 省略部分内容\n",
    "            \n",
    "            {\n",
    "              \"recall\": 0.007518797,\n",
    "              \"precision\": 1.0,\n",
    "              \"confidenceThreshold\": 0.66486305,\n",
    "              \"f1Score\": 0.014925373\n",
    "            },\n",
    "            {\n",
    "              \"precision\": 1.0,\n",
    "              \"confidenceThreshold\": 1.0\n",
    "            }\n",
    "          ]\n",
    "        }\n",
    "      ],\n",
    "      \"boundingBoxMeanAveragePrecision\": 0.34263912\n",
    "    },\n",
    "    \"createTime\": \"2021-03-10T14:18:31.880535Z\",\n",
    "    \"sliceDimensions\": [\n",
    "      \"annotationSpec\"\n",
    "    ]\n",
    "  }\n",
    "]\n",
    "```"
   ]
  },
  {
   "cell_type": "markdown",
   "metadata": {
    "id": "models_evaluations_get:migration,new"
   },
   "source": [
    "### [projects.locations.models.evaluations.get](https://cloud.google.com/vertex-ai/docs/reference/rest/v1beta1/projects.locations.models.evaluations/get)\n",
    "\n",
    "将上述的英文文本翻译为中文：### [projects.locations.models.evaluations.get](https://cloud.google.com/vertex-ai/docs/reference/rest/v1beta1/projects.locations.models.evaluations/get)"
   ]
  },
  {
   "cell_type": "markdown",
   "metadata": {
    "id": "Othev0Hnn5IP"
   },
   "source": [
    "#### 电话"
   ]
  },
  {
   "cell_type": "code",
   "execution_count": null,
   "metadata": {
    "id": "models_evaluations_get:migration,new,call"
   },
   "outputs": [],
   "source": [
    "request = clients[\"model\"].get_model_evaluation(name=evaluation_slice)"
   ]
  },
  {
   "cell_type": "markdown",
   "metadata": {
    "id": "LUV4WStsn5IQ"
   },
   "source": [
    "#### 回复"
   ]
  },
  {
   "cell_type": "code",
   "execution_count": null,
   "metadata": {
    "id": "pktv6Vcxn5IQ"
   },
   "outputs": [],
   "source": [
    "print(MessageToJson(request.__dict__[\"_pb\"]))"
   ]
  },
  {
   "cell_type": "markdown",
   "metadata": {
    "id": "v9HtXNL4n5IQ"
   },
   "source": [
    "{\n",
    "\"名称\": \"projects/116273516712/locations/us-central1/models/6125898247828406272/evaluations/305090287452028928\",\n",
    "\"metricsSchemaUri\": \"gs://google-cloud-aiplatform/schema/modelevaluation/video_object_tracking_metrics_1.0.0.yaml\",\n",
    "\"metrics\": {\n",
    "    \"boundingBoxMetrics\": [\n",
    "      {\n",
    "        \"confidenceMetrics\": [\n",
    "          {\n",
    "            \"recall\": 1.0,\n",
    "            \"precision\": 0.36842105,\n",
    "            \"f1Score\": 0.53846157\n",
    "          },\n",
    "          {\n",
    "            \"recall\": 0.16541353,\n",
    "            \"precision\": 0.088,\n",
    "            \"f1Score\": 0.11488251,\n",
    "            \"confidenceThreshold\": 0.032954127\n",
    "          },\n",
    "          {\n",
    "            \"confidenceThreshold\": 1.0,\n",
    "            \"precision\": 1.0\n",
    "          }\n",
    "        ],\n",
    "        \"meanAveragePrecision\": 0.34263912,\n",
    "        \"iouThreshold\": 0.5\n",
    "      }\n",
    "    ],\n",
    "    \"boundingBoxMeanAveragePrecision\": 0.34263912\n",
    "  },\n",
    "\"createTime\": \"2021-03-10T14:18:31.880535Z\",\n",
    "\"sliceDimensions\": [\n",
    "    \"annotationSpec\"\n",
    "  ]\n",
    "}"
   ]
  },
  {
   "cell_type": "markdown",
   "metadata": {
    "id": "make_batch_predictions:migration"
   },
   "source": [
    "进行批量预测"
   ]
  },
  {
   "cell_type": "markdown",
   "metadata": {
    "id": "make_batch_prediction_file:migration,new"
   },
   "source": [
    "### 准备批量预测数据"
   ]
  },
  {
   "cell_type": "code",
   "execution_count": null,
   "metadata": {
    "id": "get_test_items:automl,icn,csv"
   },
   "outputs": [],
   "source": [
    "test_items = ! gsutil cat $IMPORT_FILE | head -n25\n",
    "\n",
    "cols_1 = test_items[0].split(\",\")\n",
    "cols_2 = test_items[-1].split(\",\")\n",
    "\n",
    "if len(cols_1) > 12:\n",
    "    test_item_1 = str(cols_1[1])\n",
    "    test_item_2 = str(cols_2[1])\n",
    "    test_label_1 = str(cols_1[5:])\n",
    "    test_label_2 = str(cols_2[5:])\n",
    "else:\n",
    "    test_item_1 = str(cols_1[0])\n",
    "    test_item_2 = str(cols_2[0])\n",
    "    test_label_1 = str(cols_1[4:])\n",
    "    test_label_2 = str(cols_2[4:])\n",
    "\n",
    "\n",
    "print(test_item_1, test_label_1)\n",
    "print(test_item_2, test_label_2)"
   ]
  },
  {
   "cell_type": "markdown",
   "metadata": {
    "id": "6fRc0HuWn5IS"
   },
   "source": [
    "*示例输出*：\n",
    "```\n",
    "gs://automl-video-demo-data/traffic_videos/highway_005.mp4 ['0.509205', '0.594283', '', '', '0.728737', '0.760959', '', '']\n",
    "gs://automl-video-demo-data/traffic_videos/highway_006.mp4 ['0.621857', '0.561570', '', '', '0.825726', '0.699151', '', '']\n",
    "```"
   ]
  },
  {
   "cell_type": "markdown",
   "metadata": {
    "id": "make_batch_file:automl,image"
   },
   "source": [
    "### 制作批量输入文件\n",
    "\n",
    "现在让我们制作一个批量输入文件，您可以将其存储在本地的云存储存储桶中。批量输入文件可以是CSV或JSONL格式。在本教程中，您将使用JSONL文件。对于JSONL文件，您需要为每个视频的每一行创建一个字典条目。字典包含以下键值对：\n",
    "\n",
    "- `content`：视频的云存储路径。\n",
    "- `mimeType`：内容类型。在我们的示例中，是一个`avi`文件。\n",
    "- `timeSegmentStart`：要进行预测的视频中的起始时间戳。*注意*，时间戳必须以字符串形式指定，后跟s（秒）、m（分钟）或h（小时）。\n",
    "- `timeSegmentEnd`：要进行预测的视频中的结束时间戳。"
   ]
  },
  {
   "cell_type": "code",
   "execution_count": null,
   "metadata": {
    "id": "0rWoXOq9n5IS"
   },
   "outputs": [],
   "source": [
    "import json\n",
    "\n",
    "import tensorflow as tf\n",
    "\n",
    "gcs_input_uri = \"gs://\" + BUCKET_NAME + \"/test.jsonl\"\n",
    "with tf.io.gfile.GFile(gcs_input_uri, \"w\") as f:\n",
    "    data = {\n",
    "        \"content\": test_item_1,\n",
    "        \"mimeType\": \"video/avi\",\n",
    "        \"timeSegmentStart\": \"0.0s\",\n",
    "        \"timeSegmentEnd\": \"inf\",\n",
    "    }\n",
    "    f.write(json.dumps(data) + \"\\n\")\n",
    "    data = {\n",
    "        \"content\": test_item_2,\n",
    "        \"mimeType\": \"video/avi\",\n",
    "        \"timeSegmentStart\": \"0.0s\",\n",
    "        \"timeSegmentEnd\": \"inf\",\n",
    "    }\n",
    "    f.write(json.dumps(data) + \"\\n\")\n",
    "\n",
    "print(gcs_input_uri)\n",
    "!gsutil cat $gcs_input_uri"
   ]
  },
  {
   "cell_type": "markdown",
   "metadata": {
    "id": "trainingpipelines_get:migration,new,response,icn"
   },
   "source": [
    "*示例输出*：\n",
    "```\n",
    "gs://migration-ucaip-trainingaip-20210310013516/test.jsonl\n",
    "{\"content\": \"gs://automl-video-demo-data/traffic_videos/highway_005.mp4\", \"mimeType\": \"video/avi\", \"timeSegmentStart\": \"0.0s\", \"timeSegmentEnd\": \"inf\"}\n",
    "{\"content\": \"gs://automl-video-demo-data/traffic_videos/highway_006.mp4\", \"mimeType\": \"video/avi\", \"timeSegmentStart\": \"0.0s\", \"timeSegmentEnd\": \"inf\"}\n",
    "```"
   ]
  },
  {
   "cell_type": "markdown",
   "metadata": {
    "id": "batchpredictionjobs_create:migration,new"
   },
   "source": [
    "### [projects.locations.batchPredictionJobs.create](https://cloud.google.com/vertex-ai/docs/reference/rest/v1beta1/projects.locations.batchPredictionJobs/create)\n",
    "\n",
    "### [projects.locations.batchPredictionJobs.create](https://cloud.google.com/vertex-ai/docs/reference/rest/v1beta1/projects.locations.batchPredictionJobs/create)"
   ]
  },
  {
   "cell_type": "markdown",
   "metadata": {
    "id": "S5Odu9ogn5IS"
   },
   "source": [
    "请求"
   ]
  },
  {
   "cell_type": "code",
   "execution_count": null,
   "metadata": {
    "id": "batchpredictionjobs_create:migration,new,request,icn"
   },
   "outputs": [],
   "source": [
    "batch_prediction_job = {\n",
    "    \"display_name\": \"traffic_\" + TIMESTAMP,\n",
    "    # Format: 'projects/{project}/locations/{location}/models/{model_id}'\n",
    "    \"model\": model_id,\n",
    "    \"model_parameters\": json_format.ParseDict(\n",
    "        {\"confidenceThreshold\": 0.5, \"maxPredictions\": 2}, Value()\n",
    "    ),\n",
    "    \"input_config\": {\n",
    "        \"instances_format\": \"jsonl\",\n",
    "        \"gcs_source\": {\"uris\": [gcs_input_uri]},\n",
    "    },\n",
    "    \"output_config\": {\n",
    "        \"predictions_format\": \"jsonl\",\n",
    "        \"gcs_destination\": {\n",
    "            \"output_uri_prefix\": \"gs://\" + f\"{BUCKET_NAME}/batch_output/\"\n",
    "        },\n",
    "    },\n",
    "    \"dedicated_resources\": {\n",
    "        \"machine_spec\": {\"machine_type\": \"n1-standard-4\", \"accelerator_count\": 0},\n",
    "        \"starting_replica_count\": 1,\n",
    "        \"max_replica_count\": 1,\n",
    "    },\n",
    "}\n",
    "\n",
    "print(\n",
    "    MessageToJson(\n",
    "        aip.CreateBatchPredictionJobRequest(\n",
    "            parent=PARENT, batch_prediction_job=batch_prediction_job\n",
    "        ).__dict__[\"_pb\"]\n",
    "    )\n",
    ")"
   ]
  },
  {
   "cell_type": "markdown",
   "metadata": {
    "id": "nj-dxOHen5IT"
   },
   "source": [
    "```\n",
    "{\n",
    "  \"parent\": \"projects/migration-ucaip-training/locations/us-central1\",\n",
    "  \"batchPredictionJob\": {\n",
    "    \"displayName\": \"traffic_20210310013516\",\n",
    "    \"model\": \"projects/116273516712/locations/us-central1/models/6125898247828406272\",\n",
    "    \"inputConfig\": {\n",
    "      \"instancesFormat\": \"jsonl\",\n",
    "      \"gcsSource\": {\n",
    "        \"uris\": [\n",
    "          \"gs://migration-ucaip-trainingaip-20210310013516/test.jsonl\"\n",
    "        ]\n",
    "      }\n",
    "    },\n",
    "    \"modelParameters\": {\n",
    "      \"maxPredictions\": 2.0,\n",
    "      \"confidenceThreshold\": 0.5\n",
    "    },\n",
    "    \"outputConfig\": {\n",
    "      \"predictionsFormat\": \"jsonl\",\n",
    "      \"gcsDestination\": {\n",
    "        \"outputUriPrefix\": \"gs://migration-ucaip-trainingaip-20210310013516/batch_output/\"\n",
    "      }\n",
    "    },\n",
    "    \"dedicatedResources\": {\n",
    "      \"machineSpec\": {\n",
    "        \"machineType\": \"n1-standard-4\"\n",
    "      },\n",
    "      \"startingReplicaCount\": 1,\n",
    "      \"maxReplicaCount\": 1\n",
    "    }\n",
    "  }\n",
    "}\n",
    "```"
   ]
  },
  {
   "cell_type": "markdown",
   "metadata": {
    "id": "nLnR65Omn5IT"
   },
   "source": [
    "#### 呼叫"
   ]
  },
  {
   "cell_type": "code",
   "execution_count": null,
   "metadata": {
    "id": "batchpredictionjobs_create:migration,new,call"
   },
   "outputs": [],
   "source": [
    "request = clients[\"job\"].create_batch_prediction_job(\n",
    "    parent=PARENT, batch_prediction_job=batch_prediction_job\n",
    ")"
   ]
  },
  {
   "cell_type": "markdown",
   "metadata": {
    "id": "86xo791tn5IU"
   },
   "source": [
    "#### 回应"
   ]
  },
  {
   "cell_type": "code",
   "execution_count": null,
   "metadata": {
    "id": "eHpRHUQNn5IU"
   },
   "outputs": [],
   "source": [
    "print(MessageToJson(request.__dict__[\"_pb\"]))"
   ]
  },
  {
   "cell_type": "markdown",
   "metadata": {
    "id": "UJnCkCcfn5IU"
   },
   "source": [
    "{\n",
    "  \"name\": \"projects/116273516712/locations/us-central1/batchPredictionJobs/6806214470445039616\",\n",
    "  \"displayName\": \"traffic_20210310013516\",\n",
    "  \"model\": \"projects/116273516712/locations/us-central1/models/6125898247828406272\",\n",
    "  \"inputConfig\": {\n",
    "    \"instancesFormat\": \"jsonl\",\n",
    "    \"gcsSource\": {\n",
    "      \"uris\": [\n",
    "        \"gs://migration-ucaip-trainingaip-20210310013516/test.jsonl\"\n",
    "      ]\n",
    "    }\n",
    "  },\n",
    "  \"modelParameters\": {\n",
    "    \"maxPredictions\": 2.0,\n",
    "    \"confidenceThreshold\": 0.5\n",
    "  },\n",
    "  \"outputConfig\": {\n",
    "    \"predictionsFormat\": \"jsonl\",\n",
    "    \"gcsDestination\": {\n",
    "      \"outputUriPrefix\": \"gs://migration-ucaip-trainingaip-20210310013516/batch_output/\"\n",
    "    }\n",
    "  },\n",
    "  \"state\": \"JOB_STATE_PENDING\",\n",
    "  \"completionStats\": {\n",
    "    \"incompleteCount\": \"-1\"\n",
    "  },\n",
    "  \"createTime\": \"2021-03-10T14:23:59.862541Z\",\n",
    "  \"updateTime\": \"2021-03-10T14:23:59.862541Z\"\n",
    "}"
   ]
  },
  {
   "cell_type": "code",
   "execution_count": null,
   "metadata": {
    "id": "batch_job_id:migration,new,response"
   },
   "outputs": [],
   "source": [
    "# The fully qualified ID for the batch job\n",
    "batch_job_id = request.name\n",
    "# The short numeric ID for the batch job\n",
    "batch_job_short_id = batch_job_id.split(\"/\")[-1]\n",
    "\n",
    "print(batch_job_id)"
   ]
  },
  {
   "cell_type": "markdown",
   "metadata": {
    "id": "batchpredictionjobs_get:migration,new"
   },
   "source": [
    "### [projects.locations.batchPredictionJobs.get](https://cloud.google.com/vertex-ai/docs/reference/rest/v1beta1/projects.locations.batchPredictionJobs/get)\n",
    "\n",
    "### [项目位置.批量预测作业.获取](https://cloud.google.com/vertex-ai/docs/reference/rest/v1beta1/projects.locations.batchPredictionJobs/get)"
   ]
  },
  {
   "cell_type": "markdown",
   "metadata": {
    "id": "OJpZjkX1n5IZ"
   },
   "source": [
    "#### 电话"
   ]
  },
  {
   "cell_type": "code",
   "execution_count": null,
   "metadata": {
    "id": "batchpredictionjobs_get:migration,new,call"
   },
   "outputs": [],
   "source": [
    "request = clients[\"job\"].get_batch_prediction_job(name=batch_job_id)"
   ]
  },
  {
   "cell_type": "markdown",
   "metadata": {
    "id": "h3la42lGn5Ia"
   },
   "source": [
    "#### 回复"
   ]
  },
  {
   "cell_type": "code",
   "execution_count": null,
   "metadata": {
    "id": "9oovDLACn5Ia"
   },
   "outputs": [],
   "source": [
    "print(MessageToJson(request.__dict__[\"_pb\"]))"
   ]
  },
  {
   "cell_type": "markdown",
   "metadata": {
    "id": "PgOg5Qqln5Ia"
   },
   "source": [
    "{\n",
    "  \"名称\": \"projects/116273516712/locations/us-central1/batchPredictionJobs/6806214470445039616\",\n",
    "  \"显示名称\": \"traffic_20210310013516\",\n",
    "  \"模型\": \"projects/116273516712/locations/us-central1/models/6125898247828406272\",\n",
    "  \"输入配置\": {\n",
    "    \"实例格式\": \"jsonl\",\n",
    "    \"gcs来源\": {\n",
    "      \"uris\": [\n",
    "        \"gs://migration-ucaip-trainingaip-20210310013516/test.jsonl\"\n",
    "      ]\n",
    "    }\n",
    "  },\n",
    "  \"模型参数\": {\n",
    "    \"最大预测数\": 2.0,\n",
    "    \"置信度阈值\": 0.5\n",
    "  },\n",
    "  \"输出配置\": {\n",
    "    \"预测格式\": \"jsonl\",\n",
    "    \"gcs目的地\": {\n",
    "      \"outputUriPrefix\": \"gs://migration-ucaip-trainingaip-20210310013516/batch_output/\"\n",
    "    }\n",
    "  },\n",
    "  \"状态\": \"JOB_STATE_RUNNING\",\n",
    "  \"完成统计\": {\n",
    "    \"未完成数量\": \"2\"\n",
    "  },\n",
    "  \"创建时间\": \"2021-03-10T14:23:59.862541Z\",\n",
    "  \"开始时间\": \"2021-03-10T14:24:00.012555Z\",\n",
    "  \"更新时间\": \"2021-03-10T14:24:00.520535Z\"\n",
    "}"
   ]
  },
  {
   "cell_type": "code",
   "execution_count": null,
   "metadata": {
    "id": "batchpredictionjobs_get:migration,new,wait"
   },
   "outputs": [],
   "source": [
    "def get_latest_predictions(gcs_out_dir):\n",
    "    \"\"\" Get the latest prediction subfolder using the timestamp in the subfolder name\"\"\"\n",
    "    folders = !gsutil ls $gcs_out_dir\n",
    "    latest = \"\"\n",
    "    for folder in folders:\n",
    "        subfolder = folder.split(\"/\")[-2]\n",
    "        if subfolder.startswith(\"prediction-\"):\n",
    "            if subfolder > latest:\n",
    "                latest = folder[:-1]\n",
    "    return latest\n",
    "\n",
    "\n",
    "while True:\n",
    "    response = clients[\"job\"].get_batch_prediction_job(name=batch_job_id)\n",
    "    if response.state != aip.JobState.JOB_STATE_SUCCEEDED:\n",
    "        print(\"The job has not completed:\", response.state)\n",
    "        if response.state == aip.JobState.JOB_STATE_FAILED:\n",
    "            break\n",
    "    else:\n",
    "        folder = get_latest_predictions(\n",
    "            response.output_config.gcs_destination.output_uri_prefix\n",
    "        )\n",
    "        ! gsutil ls $folder/prediction**\n",
    "\n",
    "        ! gsutil cat $folder/prediction**\n",
    "        break\n",
    "    time.sleep(60)"
   ]
  },
  {
   "cell_type": "markdown",
   "metadata": {
    "id": "Xgx0imoHn5Ib"
   },
   "source": [
    "示例输出：\n",
    "```\n",
    "gs://migration-ucaip-trainingaip-20210310013516/batch_output/prediction-traffic_20210310013516-2021-03-10T14:23:59.650333Z/predictions_00001.jsonl\n",
    "gs://migration-ucaip-trainingaip-20210310013516/batch_output/prediction-traffic_20210310013516-2021-03-10T14:23:59.650333Z/predictions_00002.jsonl\n",
    "{\"instance\":{\"content\":\"gs://automl-video-demo-data/traffic_videos/highway_005.mp4\",\"mimeType\":\"video/avi\",\"timeSegmentStart\":\"0.0s\",\"timeSegmentEnd\":\"inf\"},\"prediction\":[{\"id\":\"6593913068772655104\",\"displayName\":\"pickup_suv_van\",\"timeSegmentStart\":\"35.300s\",\"timeSegmentEnd\":\"35.900s\",\"confidence\":0.5733388,\"frames\":[{\"timeOffset\":\"35.300s\",\"xMin\":0.92079705,\"xMax\":1.0,\"yMin\":0.52717,\"yMax\":0.6845663},{\"timeOffset\":\"35.400s\",\"xMin\":0.86325824,\"xMax\":0.999999,\"yMin\":0.5247129,\"yMax\":0.68186224},{\"timeOffset\":\"35.500s\",\"xMin\":0.79357177,\"xMax\":0.99050075,\"yMin\":0.5186033,\"yMax\":0.68388295},{\"timeOffset\":\"35.600s\",\"xMin\":0.7312134,\"xMax\":0.935794,\"yMin\":0.5121129,\"yMax\":0.68021643},{\"timeOffset\":\"35.700s\",\"xMin\":0.6609115,\"xMax\":0.8773811,\"yMin\":0.50215065,\"yMax\":0.6793843},{\"timeOffset\":\"35.800s\",\"xMin\":0.593415,\"xMax\":0.816827,\"yMin\":0.4967009,\"yMax\":0.677144},{\"timeOffset\":\"35.900s\",\"xMin\":0.51087815,\"xMax\":0.75138736,\"yMin\":0.4922755,\"yMax\":0.6732076}]},{\"id\":\"6593913068772655104\",\"displayName\":\"pickup_suv_van\",\"timeSegmentStart\":\"46.900s\",\"timeSegmentEnd\":\"47.900s\",\"confidence\":0.5721089,\"frames\":[{\"timeOffset\":\"46.900s\",\"xMin\":0.8938238,\"xMax\":1.0,\"yMin\":0.53446406,\"yMax\":0.6901284},{\"timeOffset\":\"47s\",\"xMin\":0.81357133,\"xMax\":0.99999857,\"yMin\":0.5293013,\"yMax\":0.6901114},{\"timeOffset\":\"47.100s\",\"xMin\":0.733154,\"xMax\":0.94289106,\"yMin\":0.52340066,\"yMax\":0.69049513},{\"timeOffset\":\"47.200s\",\"xMin\":0.6544491,\"xMax\":0.87583166,\"yMin\":0.51654726,\"yMax\":0.68932515},{\"timeOffset\":\"47.300s\",\"xMin\":0.56814355,\"xMax\":0.7984497,\"yMin\":0.50629544,\"yMax\":0.6880638},{\"timeOffset\":\"47.400s\",\"xMin\":0.47772846,\"xMax\":0.7148553,\"yMin\":0.49765483,\"yMax\":0.68850183},{\"timeOffset\":\"47.500s\",\"xMin\":0.3756373,\"xMax\":0.6187881,\"yMin\":0.49258503,\"yMax\":0.68797386},{\"timeOffset\":\"47.600s\",\"xMin\":0.28856453,\"xMax\":0.5317154,\"yMin\":0.48884195,\"yMax\":0.6842308},{\"timeOffset\":\"47.700s\",\"xMin\":0.2014918,\"xMax\":0.44464266,\"yMin\":0.48509887,\"yMax\":0.6804877},{\"timeOffset\":\"47.800s\",\"xMin\":0.11441906,\"xMax\":0.35756993,\"yMin\":0.48135576,\"yMax\":0.6767446},{\"timeOffset\":\"47.900s\",\"xMin\":0.0075410376,\"xMax\":0.16627955,\"yMin\":0.4600201,\"yMax\":0.67653906}]},{\"id\":\"6593913068772655104\",\"displayName\":\"pickup_suv_van\",\"timeSegmentStart\":\"30.700s\",\"timeSegmentEnd\":\"31.800s\",\"confidence\":0.5617838,\"frames\":[{\"timeOffset\":\"30.700s\",\"xMin\":0.9150882,\"xMax\":1.0,\"yMin\":0.5151331,\"yMax\":0.6645079},{\"timeOffset\":\"30.800s\",\"xMin\":0.86258525,\"xMax\":0.99999905,\"yMin\":0.5172026,\"yMax\":0.6603533},{\"timeOffset\":\"30.900s\",\"xMin\":0.801704,\"xMax\":0.9690958,\"yMin\":0.5114948,\"yMax\":0.65620536},{\"timeOffset\":\"31s\",\"xMin\":0.7319551,\"xMax\":0.90261525,\"yMin\":0.5059969,\"yMax\":0.65359175},{\"timeOffset\":\"31.100s\",\"xMin\":0.66124815,\"xMax\":0.83811176,\"yMin\":0.49920097,\"yMax\":0.65197486},{\"timeOffset\":\"31.200s\",\"xMin\":0.5840557,\"xMax\":0.77017546,\"yMin\":0.49158275,\"yMax\":0.6492404},{\"timeOffset\":\"31.300s\",\"xMin\":0.49507296,\"xMax\":0.7009768,\"yMin\":0.48103508,\"yMax\":0.6466039},{\"timeOffset\":\"31.400s\",\"xMin\":0.405905,\"xMax\":0.61765563,\"yMin\":0.4749309,\"yMax\":0.6409255},{\"timeOffset\":\"31.500s\",\"xMin\":0.3119387,\"xMax\":0.5226898,\"yMin\":0.46739954,\"yMax\":0.639586},{\"timeOffset\":\"31.600s\",\"xMin\":0.21487714,\"xMax\":0.4266367,\"yMin\":0.46247935,\"yMax\":0.6337805},{\"timeOffset\":\"31.700s\",\"xMin\":0.104759425,\"xMax\":0.32538062,\"yMin\":0.4524644,\"yMax\":0.63389504},{\"timeOffset\":\"31.800s\",\"xMin\":0.018637476,\"xMax\":0.18262094,\"yMin\":0.438457,\"yMax\":0.6318268}]},{\"id\":\"6593913068772655104\",\"displayName\":\"pickup_suv_van\",\"timeSegmentStart\":\"19.200s\",\"timeSegmentEnd\":\"20.400s\",\"confidence\":0.5343286,\"frames\":[{\"timeOffset\":\"19.200s\",\"xMin\":0.53855574,\"xMax\":0.7483454,\"yMin\":0.7698453,\"yMax\":0.88802785},{\"timeOffset\":\"19.300s\",\"xMin\":0.7066706,\"xMax\":0.9046804,\"yMin\":0.5262296,\"yMax\":0.68281764},{\"timeOffset\":\"19.400s\",\"xMin\":0.6643509,\"xMax\":0.8667256,\"yMin\":0.52155364,\"yMax\":0.683776},{\"timeOffset\":\"19.500s\",\"xMin\":0.60929006,\"xMax\":0.81281793,\"yMin\":0.51661617,\"yMax\":0.6828631},{\"timeOffset\":\"19.600s\",\"xMin\":0.5457967,\"xMax\":0.75832534,\"yMin\":0.51252514,\"yMax\":0.6830068},{\"timeOffset\":\"19.700s\",\"xMin\":0.48583922,\"xMax\":0.7025621,\"yMin\":0.5050785,\"yMax\":0.6833887},{\"timeOffset\":\"19.800s\",\"xMin\":0.42353436,\"xMax\":0.65267944,\"yMin\":0.499186,\"yMax\":0.68389857},{\"timeOffset\":\"19.900s\",\"xMin\":0.36298347,\"xMax\":0.5871576,\"yMin\":0.49524042,\"yMax\":0.68120617},{\"timeOffset\":\"20s\",\"xMin\":0.28549758,\"xMax\":0.51240987,\"yMin\":0.48895967,\"yMax\":0.6785187},{\"timeOffset\":\"20.100s\",\"xMin\":0.20944653,\"xMax\":0.439814,\"yMin\":0.48409462,\"yMax\":0.6736581},{\"timeOffset\":\"20.200s\",\"xMin\":0.12498511,\"xMax\":0.3544973,\"yMin\":0.47413808,\"yMax\":0.6721386},{\"timeOffset\":\"20.300s\",\"xMin\":0.047281284,\"xMax\":0.26844072,\"yMin\":0.46798372,\"yMax\":0.66819036},{\"timeOffset\":\"20.400s\",\"xMin\":-9.64848E-4,\"xMax\":0.1562836,\"yMin\":0.45929697,\"yMax\":0.66720545}]},{\"id\":\"6593913068772655104\",\"displayName\":\"pickup_suv_van\",\"timeSegmentStart\":\"21.100s\",\"timeSegmentEnd\":\"22.500s\",\"confidence\":0.5130946,\"frames\":[{\"timeOffset\":\"21.100s\",\"xMin\":0.96134996,\"xMax\":0.9994743,\"yMin\":0.5534551,\"yMax\":0.69061935},{\"timeOffset\":\"21.200s\",\"xMin\":0.70565313,\"xMax\":0.9051543,\"yMin\":0.52271163,\"yMax\":0.68131983},{\"timeOffset\":\"21.300s\",\"xMin\":0.66035485,\"xMax\":0.8695388,\"yMin\":0.5142326,\"yMax\":0.68292105},{\"timeOffset\":\"21.400s\",\"xMin\":0.60553956,\"xMax\":0.81872016,\"yMin\":0.5056492,\"yMax\":0.6834419},{\"timeOffset\":\"21.500s\",\"xMin\":0.54476696,\"xMax\":0.7676598,\"yMin\":0.5011589,\"yMax\":0.6836144},{\"timeOffset\":\"21.600s\",\"xMin\":0.48482427,\"xMax\":0.7100822,\"yMin\":0.49725318,\"yMax\":0.68293834},{\"timeOffset\":\"21.700s\",\"xMin\":0.42285097,\"xMax\":0.65375054,\"yMin\":0.49218974,\"yMax\":0.6809865},{\"timeOffset\":\"21.800s\",\"xMin\":0.35869005,\"xMax\":0.5910624,\"yMin\":0.48708224,\"yMax\":0.68020374},{\"timeOffset\":\"21.900s\",\"xMin\":0.29066974,\"xMax\":0.52481556,\"yMin\":0.4808314,\"yMax\":0.68033195},{\"timeOffset\":\"22s\",\"xMin\":0.22343048,\"xMax\":0.460608,\"yMin\":0.4752792,\"yMax\":0.68010074},{\"timeOffset\":\"22.100s\",\"xMin\":0.15115453,\"xMax\":0.39462602,\"yMin\":0.46882644,\"yMax\":0.67740893},{\"timeOffset\":\"22.200s\",\"xMin\":0.07956007,\"xMax\":0.32599604,\"yMin\":0.46620452,\"yMax\":0.6739611},{\"timeOffset\":\"22.300s\",\"xMin\":0.019409377,\"xMax\":0.20294939,\"yMin\":0.4610349,\"yMax\":0.67052174},{\"timeOffset\":\"22.400s\",\"xMin\":-0.017409453,\"xMax\":0.13916901,\"yMin\":0.45393682,\"yMax\":0.66754013},{\"timeOffset\":\"22.500s\",\"xMin\":-0.02455799,\"xMax\":0.0710371,\"yMin\":0.45522687,\"yMax\":0.66398114}]},{\"id\":\"6593913068772655104\",\"displayName\":\"pickup_suv_van\",\"timeSegmentStart\":\"7.200s\",\"timeSegmentEnd\":\"7.800s\",\"confidence\":0.50423145,\"frames\":[{\"timeOffset\":\"7.200s\",\"xMin\":0.77211607,\"xMax\":0.9202541,\"yMin\":0.55106527,\"yMax\":0.67469126},{\"timeOffset\":\"7.300s\",\"xMin\":0.9063811,\"xMax\":0.9998785,\"yMin\":0.52542484,\"yMax\":0.68584275},{\"timeOffset\":\"7.400s\",\"xMin\":0.8464132,\"xMax\":0.9988885,\"yMin\":0.5182979,\"yMax\":0.6811758},{\"timeOffset\":\"7.500s\",\"xMin\":0.7691617,\"xMax\":0.9857696,\"yMin\":0.5142189,\"yMax\":0.6805917},{\"timeOffset\":\"7.600s\",\"xMin\":0.7101507,\"xMax\":0.91866463,\"yMin\":0.50963223,\"yMax\":0.6773922},{\"timeOffset\":\"7.700s\",\"xMin\":0.6297891,\"xMax\":0.85534894,\"yMin\":0.505215,\"yMax\":0.6743725},{\"timeOffset\":\"7.800s\",\"xMin\":0.5598867,\"xMax\":0.7586217,\"yMin\":0.5045158,\"yMax\":0.67020833}]},{\"id\":\"6593913068772655104\",\"displayName\":\"pickup_suv_van\",\"timeSegmentStart\":\"60.800s\",\"timeSegmentEnd\":\"60.900s\",\"confidence\":0.5034977,\"frames\":[{\"timeOffset\":\"60.800s\",\"xMin\":0.6538362,\"xMax\":0.88029855,\"yMin\":0.59181464,\"yMax\":0.769181},{\"timeOffset\":\"60.900s\",\"xMin\":0.53221023,\"xMax\":0.7752164,\"yMin\":0.58824813,\"yMax\":0.77228796}]},{\"id\":\"6593913068772655104\",\"displayName\":\"pickup_suv_van\",\"timeSegmentStart\":\"49.800s\",\"timeSegmentEnd\":\"50s\",\"confidence\":0.5016138,\"frames\":[{\"timeOffset\":\"49.800s\",\"xMin\":0.5714027,\"xMax\":0.8481284,\"yMin\":0.63446057,\"yMax\":0.88131857},{\"timeOffset\":\"49.900s\",\"xMin\":0.3961952,\"xMax\":0.6958802,\"yMin\":0.6273483,\"yMax\":0.8836541},{\"timeOffset\":\"50s\",\"xMin\":0.20160168,\"xMax\":0.50914085,\"yMin\":0.6205848,\"yMax\":0.89831626}]}]}\n",
    "{\"instance\":{\"content\":\"gs://automl-video-demo-data/traffic_videos/highway_006.mp4\",\"mimeType\":\"video/avi\",\"timeSegmentStart\":\"0.0s\",\"timeSegmentEnd\":\"inf\"},\"prediction\":[{\"id\":\"6593913068772655104\",\"displayName\":\"pickup_suv_van\",\"timeSegmentStart\":\"33.600s\",\"timeSegmentEnd\":\"34.300s\",\"confidence\":0.57430255,\"frames\":[{\"timeOffset\":\"33.600s\",\"xMin\":0.7709672,\"xMax\":0.95710844,\"yMin\":0.50214607,\"yMax\":0.663173},{\"timeOffset\":\"33.700s\",\"xMin\":0.6879625,\"xMax\":0.8816852,\"yMin\":0.5102545,\"yMax\":0.67594415},{\"timeOffset\":\"33.800s\",\"xMin\":0.60038805,\"xMax\":0.7979881,\"yMin\":0.5179747,\"yMax\":0.6842574},{\"timeOffset\":\"33.900s\",\"xMin\":0.49664575,\"xMax\":0.7060626,\"yMin\":0.5262368,\"yMax\":0.69601244},{\"timeOffset\":\"34s\",\"xMin\":0.40653434,\"xMax\":0.62025917,\"yMin\":0.5326814,\"yMax\":0.7117975},{\"timeOffset\":\"34.100s\",\"xMin\":0.29995015,\"xMax\":0.5285418,\"yMin\":0.53684795,\"yMax\":0.7238653},{\"timeOffset\":\"34.200s\",\"xMin\":0.18591899,\"xMax\":0.42276734,\"yMin\":0.5479096,\"yMax\":0.7368871},{\"timeOffset\":\"34.300s\",\"xMin\":0.06478273,\"xMax\":0.3098502,\"yMin\":0.5567089,\"yMax\":0.7530978}]},{\"id\":\"8899756077986349056\",\"displayName\":\"large_veh_bus\",\"timeSegmentStart\":\"42.800s\",\"timeSegmentEnd\":\"43.600s\",\"confidence\":0.5635853,\"frames\":[{\"timeOffset\":\"42.800s\",\"xMin\":0.896148,\"xMax\":0.997"
   ]
  },
  {
   "cell_type": "markdown",
   "metadata": {
    "id": "cleanup:migration,new"
   },
   "source": [
    "清理\n",
    "\n",
    "要清理此项目中使用的所有GCP资源，您可以[删除用于教程的GCP项目](https://cloud.google.com/resource-manager/docs/creating-managing-projects#shutting_down_projects)。\n",
    "\n",
    "否则，您可以删除在本教程中创建的各个资源。"
   ]
  },
  {
   "cell_type": "code",
   "execution_count": null,
   "metadata": {
    "id": "bILJnBmvn5Ib"
   },
   "outputs": [],
   "source": [
    "delete_dataset = True\n",
    "delete_model = True\n",
    "delete_pipeline = True\n",
    "delete_batchjob = True\n",
    "delete_bucket = True\n",
    "\n",
    "# Delete the dataset using the Vertex AI fully qualified identifier for the dataset\n",
    "try:\n",
    "    if delete_dataset:\n",
    "        clients[\"dataset\"].delete_dataset(name=dataset_id)\n",
    "except Exception as e:\n",
    "    print(e)\n",
    "\n",
    "# Delete the model using the Vertex AI fully qualified identifier for the model\n",
    "try:\n",
    "    if delete_model:\n",
    "        clients[\"model\"].delete_model(name=model_id)\n",
    "except Exception as e:\n",
    "    print(e)\n",
    "\n",
    "# Delete the training pipeline using the Vertex AI fully qualified identifier for the training pipeline\n",
    "try:\n",
    "    if delete_pipeline:\n",
    "        clients[\"pipeline\"].delete_training_pipeline(name=training_pipeline_id)\n",
    "except Exception as e:\n",
    "    print(e)\n",
    "\n",
    "# Delete the batch job using the Vertex AI fully qualified identifier for the batch job\n",
    "try:\n",
    "    if delete_batchjob:\n",
    "        clients[\"job\"].delete_batch_prediction_job(name=batch_job_id)\n",
    "except Exception as e:\n",
    "    print(e)\n",
    "\n",
    "if delete_bucket and \"BUCKET_NAME\" in globals():\n",
    "    ! gsutil rm -r gs://$BUCKET_NAME"
   ]
  }
 ],
 "metadata": {
  "colab": {
   "collapsed_sections": [],
   "name": "UJ15 unified AutoML for vision with Vertex AI Video Object Tracking.ipynb",
   "toc_visible": true
  },
  "kernelspec": {
   "display_name": "Python 3",
   "name": "python3"
  }
 },
 "nbformat": 4,
 "nbformat_minor": 0
}
