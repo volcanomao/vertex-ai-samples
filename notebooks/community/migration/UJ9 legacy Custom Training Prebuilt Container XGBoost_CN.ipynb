{
 "cells": [
  {
   "cell_type": "code",
   "execution_count": null,
   "metadata": {
    "id": "copyright"
   },
   "outputs": [],
   "source": [
    "# Copyright 2021 Google LLC\n",
    "#\n",
    "# Licensed under the Apache License, Version 2.0 (the \"License\");\n",
    "# you may not use this file except in compliance with the License.\n",
    "# You may obtain a copy of the License at\n",
    "#\n",
    "#     https://www.apache.org/licenses/LICENSE-2.0\n",
    "#\n",
    "# Unless required by applicable law or agreed to in writing, software\n",
    "# distributed under the License is distributed on an \"AS IS\" BASIS,\n",
    "# WITHOUT WARRANTIES OR CONDITIONS OF ANY KIND, either express or implied.\n",
    "# See the License for the specific language governing permissions and\n",
    "# limitations under the License."
   ]
  },
  {
   "cell_type": "markdown",
   "metadata": {
    "id": "title:migration,new"
   },
   "source": [
    "# Vertex SDK：使用预建容器（以前称为托管运行时）训练和部署XGBoost模型。"
   ]
  },
  {
   "cell_type": "markdown",
   "metadata": {
    "id": "install_aip"
   },
   "source": [
    "安装"
   ]
  },
  {
   "cell_type": "markdown",
   "metadata": {
    "id": "install_storage"
   },
   "source": [
    "安装Google *云存储*库。"
   ]
  },
  {
   "cell_type": "code",
   "execution_count": null,
   "metadata": {
    "id": "KyQ2Ul4WaTRU"
   },
   "outputs": [],
   "source": [
    "! pip3 install google-cloud-storage"
   ]
  },
  {
   "cell_type": "markdown",
   "metadata": {
    "id": "restart"
   },
   "source": [
    "### 重新启动内核\n",
    "\n",
    "安装了Vertex SDK和Google *cloud-storage*之后，您需要重新启动笔记本内核，以便它可以找到这些软件包。"
   ]
  },
  {
   "cell_type": "code",
   "execution_count": null,
   "metadata": {
    "id": "mkVf4egRaTRW"
   },
   "outputs": [],
   "source": [
    "import os\n",
    "\n",
    "if not os.getenv(\"AUTORUN\"):\n",
    "    # Automatically restart kernel after installs\n",
    "    import IPython\n",
    "\n",
    "    app = IPython.Application.instance()\n",
    "    app.kernel.do_shutdown(True)"
   ]
  },
  {
   "cell_type": "markdown",
   "metadata": {
    "id": "before_you_begin"
   },
   "source": [
    "## 开始之前\n",
    "\n",
    "### GPU运行时\n",
    "\n",
    "*如果有GPU运行时选项，请确保在GPU运行时中运行此笔记本。在Colab中，选择* **Runtime > Change Runtime Type > GPU**\n",
    "\n",
    "### 设置您的GCP项目\n",
    "\n",
    "**无论您的笔记本环境如何，以下步骤都是必需的。**\n",
    "\n",
    "1. [选择或创建一个GCP项目](https://console.cloud.google.com/cloud-resource-manager)。当您首次创建账号时，您将获得$300的免费信用用于计算/存储成本。\n",
    "\n",
    "2. [确保为您的项目启用了计费。](https://cloud.google.com/billing/docs/how-to/modify-project)\n",
    "\n",
    "3. [启用Vertex API和Compute Engine API。](https://console.cloud.google.com/flows/enableapi?apiid=ml.googleapis.com,compute_component)\n",
    "\n",
    "4. [Google Cloud SDK](https://cloud.google.com/sdk)已经安装在Google Cloud笔记本上。\n",
    "\n",
    "5. 在下面的单元格中输入您的项目ID。然后运行该单元格，以确保Cloud SDK为本笔记本中的所有命令使用正确的项目。\n",
    "\n",
    "**注意**：Jupyter以`!`开头的行作为shell命令运行，它会将`$`开头的Python变量插入这些命令中。"
   ]
  },
  {
   "cell_type": "code",
   "execution_count": null,
   "metadata": {
    "id": "set_project_id"
   },
   "outputs": [],
   "source": [
    "PROJECT_ID = \"[your-project-id]\"  # @param {type:\"string\"}"
   ]
  },
  {
   "cell_type": "code",
   "execution_count": null,
   "metadata": {
    "id": "autoset_project_id"
   },
   "outputs": [],
   "source": [
    "if PROJECT_ID == \"\" or PROJECT_ID is None or PROJECT_ID == \"[your-project-id]\":\n",
    "    # Get your GCP project id from gcloud\n",
    "    shell_output = !gcloud config list --format 'value(core.project)' 2>/dev/null\n",
    "    PROJECT_ID = shell_output[0]\n",
    "    print(\"Project ID:\", PROJECT_ID)"
   ]
  },
  {
   "cell_type": "code",
   "execution_count": null,
   "metadata": {
    "id": "set_gcloud_project_id"
   },
   "outputs": [],
   "source": [
    "! gcloud config set project $PROJECT_ID"
   ]
  },
  {
   "cell_type": "markdown",
   "metadata": {
    "id": "region"
   },
   "source": [
    "#### 区域\n",
    "\n",
    "您也可以更改 `REGION` 变量，该变量在本笔记本的其余部分中使用。以下是支持 Vertex 的区域。我们建议在可能的情况下，选择离您最近的区域。\n",
    "\n",
    "- 美洲：`us-central1`\n",
    "- 欧洲：`europe-west4`\n",
    "- 亚太：`asia-east1`\n",
    "\n",
    "您不能使用多区域存储桶来训练 Vertex。并非所有区域都支持所有 Vertex 服务。有关每个区域的最新支持，请参见[Vertex 服务的区域支持]()。"
   ]
  },
  {
   "cell_type": "code",
   "execution_count": null,
   "metadata": {
    "id": "ZOKWWPEgaTRZ"
   },
   "outputs": [],
   "source": [
    "REGION = \"us-central1\"  # @param {type: \"string\"}"
   ]
  },
  {
   "cell_type": "markdown",
   "metadata": {
    "id": "timestamp"
   },
   "source": [
    "时间戳\n",
    "\n",
    "如果您正在进行在线教程会话，您可能会使用共享的测试账户或项目。为了避免资源创建时用户之间的名称冲突，您为每个实例会话创建一个时间戳，并附加在将在此教程中创建的资源的名称上。"
   ]
  },
  {
   "cell_type": "code",
   "execution_count": null,
   "metadata": {
    "id": "s5-9blJNaTRa"
   },
   "outputs": [],
   "source": [
    "from datetime import datetime\n",
    "\n",
    "TIMESTAMP = datetime.now().strftime(\"%Y%m%d%H%M%S\")"
   ]
  },
  {
   "cell_type": "markdown",
   "metadata": {
    "id": "gcp_authenticate"
   },
   "source": [
    "### 验证您的GCP账号\n",
    "\n",
    "**如果您正在使用Google Cloud笔记本**，您的环境已经验证通过。请跳过此步骤。\n",
    "\n",
    "*注意：如果您正在使用Vertex笔记本并运行此单元格，则该单元格会知道跳过执行验证步骤。*"
   ]
  },
  {
   "cell_type": "code",
   "execution_count": null,
   "metadata": {
    "id": "MkU__HblaTRa"
   },
   "outputs": [],
   "source": [
    "import os\n",
    "import sys\n",
    "\n",
    "# If you are running this notebook in Colab, run this cell and follow the\n",
    "# instructions to authenticate your Google Cloud account. This provides access\n",
    "# to your Cloud Storage bucket and lets you submit training jobs and prediction\n",
    "# requests.\n",
    "\n",
    "# If on Vertex, then don't execute this code\n",
    "if not os.path.exists(\"/opt/deeplearning/metadata/env_version\"):\n",
    "    if \"google.colab\" in sys.modules:\n",
    "        from google.colab import auth as google_auth\n",
    "\n",
    "        google_auth.authenticate_user()\n",
    "\n",
    "    # If you are running this tutorial in a notebook locally, replace the string\n",
    "    # below with the path to your service account key and run this cell to\n",
    "    # authenticate your Google Cloud account.\n",
    "    else:\n",
    "        %env GOOGLE_APPLICATION_CREDENTIALS your_path_to_credentials.json\n",
    "\n",
    "    # Log in to your account on Google Cloud\n",
    "    ! gcloud auth login"
   ]
  },
  {
   "cell_type": "markdown",
   "metadata": {
    "id": "bucket:batch_prediction"
   },
   "source": [
    "### 创建一个云存储桶\n",
    "\n",
    "**无论您使用何种笔记本环境，以下步骤都是必须的。**\n",
    "\n",
    "本教程旨在使用公共云存储桶中的训练数据以及本地云存储桶进行批量预测。您也可以选择使用您自己存储在本地云存储桶中的训练数据。\n",
    "\n",
    "在下面设置您的云存储桶的名称。它必须在所有云存储桶中唯一。"
   ]
  },
  {
   "cell_type": "code",
   "execution_count": null,
   "metadata": {
    "id": "bucket"
   },
   "outputs": [],
   "source": [
    "BUCKET_NAME = \"[your-bucket-name]\"  # @param {type:\"string\"}"
   ]
  },
  {
   "cell_type": "code",
   "execution_count": null,
   "metadata": {
    "id": "autoset_bucket"
   },
   "outputs": [],
   "source": [
    "if BUCKET_NAME == \"\" or BUCKET_NAME is None or BUCKET_NAME == \"[your-bucket-name]\":\n",
    "    BUCKET_NAME = PROJECT_ID + \"aip-\" + TIMESTAMP"
   ]
  },
  {
   "cell_type": "markdown",
   "metadata": {
    "id": "create_bucket"
   },
   "source": [
    "只有当您的存储桶尚不存在时才运行以下单元格以创建您的云存储存储桶。"
   ]
  },
  {
   "cell_type": "code",
   "execution_count": null,
   "metadata": {
    "id": "zBAe4hnoaTRc"
   },
   "outputs": [],
   "source": [
    "! gsutil mb -l $REGION gs://$BUCKET_NAME"
   ]
  },
  {
   "cell_type": "markdown",
   "metadata": {
    "id": "validate_bucket"
   },
   "source": [
    "最后，通过检查云存储桶的内容来验证对其的访问权限："
   ]
  },
  {
   "cell_type": "code",
   "execution_count": null,
   "metadata": {
    "id": "1sFpszMlaTRd"
   },
   "outputs": [],
   "source": [
    "! gsutil ls -al gs://$BUCKET_NAME"
   ]
  },
  {
   "cell_type": "markdown",
   "metadata": {
    "id": "setup_vars"
   },
   "source": [
    "### 设置变量\n",
    "\n",
    "接下来，设置一些在教程中使用的变量。\n",
    "### 导入库并定义常量"
   ]
  },
  {
   "cell_type": "markdown",
   "metadata": {
    "id": "import_aip"
   },
   "source": [
    "导入顶点SDK\n",
    "\n",
    "将顶点SDK导入我们的Python环境。"
   ]
  },
  {
   "cell_type": "code",
   "execution_count": null,
   "metadata": {
    "id": "ABxRhG9HaTRe"
   },
   "outputs": [],
   "source": [
    "import json\n",
    "import time\n",
    "\n",
    "from googleapiclient import discovery"
   ]
  },
  {
   "cell_type": "markdown",
   "metadata": {
    "id": "aip_constants"
   },
   "source": [
    "顶点常量\n",
    "\n",
    "为顶点设置以下常量：\n",
    "\n",
    "- `PARENT`：数据集、模型和端点资源的顶点位置根路径。"
   ]
  },
  {
   "cell_type": "code",
   "execution_count": null,
   "metadata": {
    "id": "PiqsVnv0aTRe"
   },
   "outputs": [],
   "source": [
    "# Vertex location root path for your dataset, model and endpoint resources\n",
    "PARENT = \"projects/\" + PROJECT_ID + \"/locations/\" + REGION"
   ]
  },
  {
   "cell_type": "markdown",
   "metadata": {
    "id": "clients"
   },
   "source": [
    "客户端\n",
    "\n",
    "Vertex SDK 采用客户端/服务器模型。您自己（Python 脚本）将创建一个客户端，向服务器（Vertex）发送请求并从服务器接收响应。\n",
    "\n",
    "在本教程中，您将使用多个客户端，因此请提前设置好它们。"
   ]
  },
  {
   "cell_type": "code",
   "execution_count": null,
   "metadata": {
    "id": "f35VsXENaTRf"
   },
   "outputs": [],
   "source": [
    "client = discovery.build(\"ml\", \"v1\")"
   ]
  },
  {
   "cell_type": "markdown",
   "metadata": {
    "id": "Y94mDnSvaTRf"
   },
   "source": [
    "准备一个训练师脚本"
   ]
  },
  {
   "cell_type": "markdown",
   "metadata": {
    "id": "nC85LEiAaTRf"
   },
   "source": [
    "### 包装组装"
   ]
  },
  {
   "cell_type": "code",
   "execution_count": null,
   "metadata": {
    "id": "jUqjiBWKaTRg"
   },
   "outputs": [],
   "source": [
    "# Make folder for python training script\n",
    "! rm -rf custom\n",
    "! mkdir custom\n",
    "\n",
    "# Add package information\n",
    "! touch custom/README.md\n",
    "\n",
    "setup_cfg = \"[egg_info]\\n\\\n",
    "tag_build =\\n\\\n",
    "tag_date = 0\"\n",
    "! echo \"$setup_cfg\" > custom/setup.cfg\n",
    "\n",
    "setup_py = \"import setuptools\\n\\\n",
    "setuptools.setup(\\n\\\n",
    "    install_requires=[\\n\\\n",
    "    ],\\n\\\n",
    "    packages=setuptools.find_packages())\"\n",
    "! echo \"$setup_py\" > custom/setup.py\n",
    "\n",
    "pkg_info = \"Metadata-Version: 1.0\\n\\\n",
    "Name: Custom XGBoost Iris\\n\\\n",
    "Version: 0.0.0\\n\\\n",
    "Summary: Demonstration training script\\n\\\n",
    "Home-page: www.google.com\\n\\\n",
    "Author: Google\\n\\\n",
    "Author-email: aferlitsch@google.com\\n\\\n",
    "License: Public\\n\\\n",
    "Description: Demo\\n\\\n",
    "Platform: Vertex AI\"\n",
    "! echo \"$pkg_info\" > custom/PKG-INFO\n",
    "\n",
    "# Make the training subfolder\n",
    "! mkdir custom/trainer\n",
    "! touch custom/trainer/__init__.py"
   ]
  },
  {
   "cell_type": "markdown",
   "metadata": {
    "id": "swLUnjkOaTRg"
   },
   "source": [
    "### Task.py的内容"
   ]
  },
  {
   "cell_type": "code",
   "execution_count": null,
   "metadata": {
    "id": "49ryRrhuaTRg"
   },
   "outputs": [],
   "source": [
    "%%writefile custom/trainer/task.py\n",
    "# Single Instance Training for Iris\n",
    "\n",
    "import datetime\n",
    "import os\n",
    "import subprocess\n",
    "import sys\n",
    "import pandas as pd\n",
    "import xgboost as xgb\n",
    "\n",
    "import argparse\n",
    "\n",
    "parser = argparse.ArgumentParser()\n",
    "parser.add_argument('--model-dir', dest='model_dir',\n",
    "                    default=os.getenv('AIP_MODEL_DIR'), type=str, help='Model dir.')\n",
    "args = parser.parse_args()\n",
    "\n",
    "# Download data\n",
    "iris_data_filename = 'iris_data.csv'\n",
    "iris_target_filename = 'iris_target.csv'\n",
    "data_dir = 'gs://cloud-samples-data/ai-platform/iris'\n",
    "\n",
    "# gsutil outputs everything to stderr so we need to divert it to stdout.\n",
    "subprocess.check_call(['gsutil', 'cp', os.path.join(data_dir,\n",
    "                                                    iris_data_filename),\n",
    "                       iris_data_filename], stderr=sys.stdout)\n",
    "subprocess.check_call(['gsutil', 'cp', os.path.join(data_dir,\n",
    "                                                    iris_target_filename),\n",
    "                       iris_target_filename], stderr=sys.stdout)\n",
    "\n",
    "\n",
    "# Load data into pandas, then use `.values` to get NumPy arrays\n",
    "iris_data = pd.read_csv(iris_data_filename).values\n",
    "iris_target = pd.read_csv(iris_target_filename).values\n",
    "\n",
    "# Convert one-column 2D array into 1D array for use with XGBoost\n",
    "iris_target = iris_target.reshape((iris_target.size,))\n",
    "\n",
    "\n",
    "# Load data into DMatrix object\n",
    "dtrain = xgb.DMatrix(iris_data, label=iris_target)\n",
    "\n",
    "# Train XGBoost model\n",
    "bst = xgb.train({}, dtrain, 20)\n",
    "\n",
    "# Export the classifier to a file\n",
    "model_filename = 'model.bst'\n",
    "bst.save_model(model_filename)\n",
    "\n",
    "\n",
    "# Upload the saved model file to Cloud Storage\n",
    "gcs_model_path = os.path.join(args.model_dir, model_filename)\n",
    "subprocess.check_call(['gsutil', 'cp', model_filename, gcs_model_path],\n",
    "    stderr=sys.stdout)\n"
   ]
  },
  {
   "cell_type": "markdown",
   "metadata": {
    "id": "ZK8L6hTNaTRg"
   },
   "source": [
    "### 将培训脚本存储在您的云存储桶中"
   ]
  },
  {
   "cell_type": "code",
   "execution_count": null,
   "metadata": {
    "id": "I47eBUkzaTRh"
   },
   "outputs": [],
   "source": [
    "! rm -f custom.tar custom.tar.gz\n",
    "! tar cvf custom.tar custom\n",
    "! gzip custom.tar\n",
    "! gsutil cp custom.tar.gz gs://$BUCKET_NAME/iris.tar.gz"
   ]
  },
  {
   "cell_type": "markdown",
   "metadata": {
    "id": "text_create_and_deploy_model:migration"
   },
   "source": [
    "训练模型"
   ]
  },
  {
   "cell_type": "markdown",
   "metadata": {
    "id": "0oqIBOSnJjkW"
   },
   "source": [
    "### [projects.jobs.create](https://cloud.google.com/ai-platform/training/docs/reference/rest/v1/projects.jobs/create)\n",
    "\n",
    "将上述英文文本翻译为中文：### [projects.jobs.create](https://cloud.google.com/ai-platform/training/docs/reference/rest/v1/projects.jobs/create)"
   ]
  },
  {
   "cell_type": "markdown",
   "metadata": {
    "id": "v7mIfIzWaTRi"
   },
   "source": [
    "#### 请求"
   ]
  },
  {
   "cell_type": "code",
   "execution_count": null,
   "metadata": {
    "id": "8_84f21UaTRi"
   },
   "outputs": [],
   "source": [
    "JOB_NAME = \"custom_job_XGB\" + TIMESTAMP\n",
    "\n",
    "training_input = {\n",
    "    \"scaleTier\": \"BASIC\",\n",
    "    \"packageUris\": [\"gs://\" + BUCKET_NAME + \"/iris.tar.gz\"],\n",
    "    \"pythonModule\": \"trainer.task\",\n",
    "    \"args\": [\"--model-dir=\" + \"gs://{}/{}\".format(BUCKET_NAME, JOB_NAME)],\n",
    "    \"region\": REGION,\n",
    "    \"runtimeVersion\": \"2.4\",\n",
    "    \"pythonVersion\": \"3.7\",\n",
    "}\n",
    "\n",
    "body = {\"jobId\": JOB_NAME, \"trainingInput\": training_input}\n",
    "\n",
    "request = client.projects().jobs().create(parent=\"projects/\" + PROJECT_ID)\n",
    "request.body = body\n",
    "\n",
    "print(json.dumps(json.loads(request.to_json()), indent=2))\n",
    "\n",
    "request = client.projects().jobs().create(parent=\"projects/\" + PROJECT_ID, body=body)"
   ]
  },
  {
   "cell_type": "markdown",
   "metadata": {
    "id": "datasets_import:migration,new,request"
   },
   "source": [
    "{\n",
    "  \"uri\": \"https://ml.googleapis.com/v1/projects/migration-ucaip-training/jobs?alt=json\",\n",
    "  \"method\": \"POST\",\n",
    "  \"body\": {\n",
    "    \"jobId\": \"custom_job_XGB20210302154841\",\n",
    "    \"trainingInput\": {\n",
    "      \"scaleTier\": \"BASIC\",\n",
    "      \"packageUris\": [\n",
    "        \"gs://migration-ucaip-trainingaip-20210302154841/iris.tar.gz\"\n",
    "      ],\n",
    "      \"pythonModule\": \"trainer.task\",\n",
    "      \"args\": [\n",
    "        \"--model-dir=gs://migration-ucaip-trainingaip-20210302154841/custom_job_XGB20210302154841\"\n",
    "      ],\n",
    "      \"region\": \"us-central1\",\n",
    "      \"runtimeVersion\": \"2.4\",\n",
    "      \"pythonVersion\": \"3.7\"\n",
    "    }\n",
    "  },\n",
    "  \"headers\": {\n",
    "    \"accept\": \"application/json\",\n",
    "    \"accept-encoding\": \"gzip, deflate\",\n",
    "    \"user-agent\": \"(gzip)\",\n",
    "    \"x-goog-api-client\": \"gdcl/1.12.8 gl-python/3.7.8\"\n",
    "  },\n",
    "  \"methodId\": \"ml.projects.jobs.create\",\n",
    "  \"resumable\": null,\n",
    "  \"response_callbacks\": [],\n",
    "  \"_in_error_state\": false,\n",
    "  \"body_size\": 0,\n",
    "  \"resumable_uri\": null,\n",
    "  \"resumable_progress\": 0\n",
    "}"
   ]
  },
  {
   "cell_type": "markdown",
   "metadata": {
    "id": "tZySnxxuaTRi"
   },
   "source": [
    "###电话"
   ]
  },
  {
   "cell_type": "code",
   "execution_count": null,
   "metadata": {
    "id": "_H3xV191aTRj"
   },
   "outputs": [],
   "source": [
    "result = request.execute()"
   ]
  },
  {
   "cell_type": "markdown",
   "metadata": {
    "id": "vbwW_N-eaTRj"
   },
   "source": [
    "#### 回应"
   ]
  },
  {
   "cell_type": "code",
   "execution_count": null,
   "metadata": {
    "id": "Z6D71QmqaTRj"
   },
   "outputs": [],
   "source": [
    "print(json.dumps(result, indent=2))"
   ]
  },
  {
   "cell_type": "markdown",
   "metadata": {
    "id": "5xOLmTpKaTRj"
   },
   "source": [
    "**示例输出**：\n",
    "```\n",
    "{\n",
    "  \"jobId\": \"custom_job_XGB20210302154841\",\n",
    "  \"trainingInput\": {\n",
    "    \"packageUris\": [\n",
    "      \"gs://migration-ucaip-trainingaip-20210302154841/iris.tar.gz\"\n",
    "    ],\n",
    "    \"pythonModule\": \"trainer.task\",\n",
    "    \"args\": [\n",
    "      \"--model-dir=gs://migration-ucaip-trainingaip-20210302154841/custom_job_XGB20210302154841\"\n",
    "    ],\n",
    "    \"region\": \"us-central1\",\n",
    "    \"runtimeVersion\": \"2.4\",\n",
    "    \"pythonVersion\": \"3.7\"\n",
    "  },\n",
    "  \"createTime\": \"2021-03-02T15:50:12Z\",\n",
    "  \"state\": \"QUEUED\",\n",
    "  \"trainingOutput\": {},\n",
    "  \"etag\": \"PmcK2JEDnJM=\"\n",
    "}\n",
    "```"
   ]
  },
  {
   "cell_type": "code",
   "execution_count": null,
   "metadata": {
    "id": "training_pipeline_id:migration,new,response"
   },
   "outputs": [],
   "source": [
    "# The short numeric ID for the custom training job\n",
    "custom_training_short_id = result[\"jobId\"]\n",
    "# The full unique ID for the custom training job\n",
    "custom_training_id = \"projects/\" + PROJECT_ID + \"/jobs/\" + result[\"jobId\"]\n",
    "\n",
    "print(custom_training_id)"
   ]
  },
  {
   "cell_type": "markdown",
   "metadata": {
    "id": "EXSBAbs_aTRk"
   },
   "source": [
    "### [projects.jobs.get](https://cloud.google.com/ai-platform/training/docs/reference/rest/v1/projects.jobs/get)\n",
    "\n",
    "### [projects.jobs.get](https://cloud.google.com/ai-platform/training/docs/reference/rest/v1/projects.jobs/get)"
   ]
  },
  {
   "cell_type": "markdown",
   "metadata": {
    "id": "qQawJaAEaTRk"
   },
   "source": [
    "#### 打电话"
   ]
  },
  {
   "cell_type": "code",
   "execution_count": null,
   "metadata": {
    "id": "a_9aXJKHaTRk"
   },
   "outputs": [],
   "source": [
    "request = client.projects().jobs().get(name=custom_training_id)\n",
    "\n",
    "result = request.execute()"
   ]
  },
  {
   "cell_type": "markdown",
   "metadata": {
    "id": "bCd7K6WjaTRk"
   },
   "source": [
    "#### 回复"
   ]
  },
  {
   "cell_type": "code",
   "execution_count": null,
   "metadata": {
    "id": "xI_osgwsaTRl"
   },
   "outputs": [],
   "source": [
    "print(json.dumps(result, indent=2))"
   ]
  },
  {
   "cell_type": "markdown",
   "metadata": {
    "id": "EkwQk94iaTRl"
   },
   "source": [
    "*示例输出*：\n",
    "```\n",
    "{\n",
    "  \"jobId\": \"custom_job_XGB20210302154841\",\n",
    "  \"trainingInput\": {\n",
    "    \"packageUris\": [\n",
    "      \"gs://migration-ucaip-trainingaip-20210302154841/iris.tar.gz\"\n",
    "    ],\n",
    "    \"pythonModule\": \"trainer.task\",\n",
    "    \"args\": [\n",
    "      \"--model-dir=gs://migration-ucaip-trainingaip-20210302154841/custom_job_XGB20210302154841\"\n",
    "    ],\n",
    "    \"region\": \"us-central1\",\n",
    "    \"runtimeVersion\": \"2.4\",\n",
    "    \"pythonVersion\": \"3.7\"\n",
    "  },\n",
    "  \"createTime\": \"2021-03-02T15:50:12Z\",\n",
    "  \"state\": \"PREPARING\",\n",
    "  \"trainingOutput\": {},\n",
    "  \"etag\": \"L+085Kgm1Wo=\"\n",
    "}\n",
    "```"
   ]
  },
  {
   "cell_type": "code",
   "execution_count": null,
   "metadata": {
    "id": "trainingpipelines_get:migration,new,wait"
   },
   "outputs": [],
   "source": [
    "while True:\n",
    "    response = client.projects().jobs().get(name=custom_training_id).execute()\n",
    "\n",
    "    if response[\"state\"] != \"SUCCEEDED\":\n",
    "        print(\"Training job has not completed:\", response[\"state\"])\n",
    "        if response[\"state\"] == \"FAILED\":\n",
    "            break\n",
    "    else:\n",
    "        break\n",
    "    time.sleep(60)\n",
    "\n",
    "# model artifact output directory on Google Cloud Storage\n",
    "model_artifact_dir = response[\"trainingInput\"][\"args\"][0].split(\"=\")[-1]\n",
    "print(\"artifact location  \" + model_artifact_dir)"
   ]
  },
  {
   "cell_type": "markdown",
   "metadata": {
    "id": "_2zUfQ3HaTRl"
   },
   "source": [
    "部署模型"
   ]
  },
  {
   "cell_type": "markdown",
   "metadata": {
    "id": "uuMhstTYaTRl"
   },
   "source": [
    "### [projects.models.create](https://cloud.google.com/ai-platform/prediction/docs/reference/rest/v1/projects.models/create)\n",
    "\n",
    "### [projects.models.create](https://cloud.google.com/ai-platform/prediction/docs/reference/rest/v1/projects.models/create)"
   ]
  },
  {
   "cell_type": "markdown",
   "metadata": {
    "id": "UGvtc-O6aTRm"
   },
   "source": [
    "请求"
   ]
  },
  {
   "cell_type": "code",
   "execution_count": null,
   "metadata": {
    "id": "pWfw2rPGaTRm"
   },
   "outputs": [],
   "source": [
    "body = {\"name\": \"custom_job_XGB\" + TIMESTAMP}\n",
    "\n",
    "request = client.projects().models().create(parent=\"projects/\" + PROJECT_ID)\n",
    "request.body = json.loads(json.dumps(body, indent=2))\n",
    "\n",
    "print(json.dumps(json.loads(request.to_json()), indent=2))\n",
    "\n",
    "request = client.projects().models().create(parent=\"projects/\" + PROJECT_ID, body=body)"
   ]
  },
  {
   "cell_type": "markdown",
   "metadata": {
    "id": "zGiLpVSKaTRm"
   },
   "source": [
    "{\n",
    "  \"uri\": \"https://ml.googleapis.com/v1/projects/migration-ucaip-training/models?alt=json\",\n",
    "  \"method\": \"POST\",\n",
    "  \"body\": {\n",
    "    \"name\": \"custom_job_XGB20210302154841\"\n",
    "  },\n",
    "  \"headers\": {\n",
    "    \"accept\": \"application/json\",\n",
    "    \"accept-encoding\": \"gzip, deflate\",\n",
    "    \"user-agent\": \"(gzip)\",\n",
    "    \"x-goog-api-client\": \"gdcl/1.12.8 gl-python/3.7.8\"\n",
    "  },\n",
    "  \"methodId\": \"ml.projects.models.create\",\n",
    "  \"resumable\": null,\n",
    "  \"response_callbacks\": [],\n",
    "  \"_in_error_state\": false,\n",
    "  \"body_size\": 0,\n",
    "  \"resumable_uri\": null,\n",
    "  \"resumable_progress\": 0\n",
    "}"
   ]
  },
  {
   "cell_type": "markdown",
   "metadata": {
    "id": "VDkiEXHsaTRm"
   },
   "source": [
    "#### 呼叫"
   ]
  },
  {
   "cell_type": "code",
   "execution_count": null,
   "metadata": {
    "id": "dQhpRTy6aTRm"
   },
   "outputs": [],
   "source": [
    "result = request.execute()"
   ]
  },
  {
   "cell_type": "markdown",
   "metadata": {
    "id": "L6l6Li59aTRn"
   },
   "source": [
    "回复"
   ]
  },
  {
   "cell_type": "code",
   "execution_count": null,
   "metadata": {
    "id": "NcOYGasraTRn"
   },
   "outputs": [],
   "source": [
    "print(json.dumps(result, indent=2))"
   ]
  },
  {
   "cell_type": "markdown",
   "metadata": {
    "id": "8Au9SgRdaTRn"
   },
   "source": [
    "*示例输出*：\n",
    "```\n",
    "{\n",
    "  \"name\": \"projects/migration-ucaip-training/models/custom_job_XGB20210302154841\",\n",
    "  \"regions\": [\n",
    "    \"us-central1\"\n",
    "  ],\n",
    "  \"etag\": \"4gQZjQgH2sc=\"\n",
    "}\n",
    "```"
   ]
  },
  {
   "cell_type": "code",
   "execution_count": null,
   "metadata": {
    "id": "30f7R83UaTRn"
   },
   "outputs": [],
   "source": [
    "model_id = result[\"name\"]"
   ]
  },
  {
   "cell_type": "markdown",
   "metadata": {
    "id": "tXR5mKGfaTRo"
   },
   "source": [
    "### [projects.models.versions.create](https://cloud.google.com/ai-platform/prediction/docs/reference/rest/v1/projects.models.versions/create)\n",
    "\n",
    "### [projects.models.versions.create](https://cloud.google.com/ai-platform/prediction/docs/reference/rest/v1/projects.models.versions/create)"
   ]
  },
  {
   "cell_type": "markdown",
   "metadata": {
    "id": "ZJhWlWJ0aTRo"
   },
   "source": [
    "请求"
   ]
  },
  {
   "cell_type": "code",
   "execution_count": null,
   "metadata": {
    "id": "973d-m48aTRo"
   },
   "outputs": [],
   "source": [
    "version = {\n",
    "    \"name\": \"custom_job_XGB\" + TIMESTAMP,\n",
    "    \"deploymentUri\": model_artifact_dir,\n",
    "    \"runtimeVersion\": \"2.1\",\n",
    "    \"framework\": \"XGBOOST\",\n",
    "    \"pythonVersion\": \"3.7\",\n",
    "    \"machineType\": \"mls1-c1-m2\",\n",
    "}\n",
    "\n",
    "request = (\n",
    "    client.projects()\n",
    "    .models()\n",
    "    .versions()\n",
    "    .create(\n",
    "        parent=model_id,\n",
    "    )\n",
    ")\n",
    "request.body = version\n",
    "\n",
    "print(json.dumps(json.loads(request.to_json()), indent=2))\n",
    "\n",
    "request = client.projects().models().versions().create(parent=model_id, body=version)"
   ]
  },
  {
   "cell_type": "markdown",
   "metadata": {
    "id": "1-M1ydRDaTRo"
   },
   "source": [
    "```json\n",
    "{\n",
    "  \"uri\": \"https://ml.googleapis.com/v1/projects/migration-ucaip-training/models/custom_job_XGB20210302154841/versions?alt=json\",\n",
    "  \"method\": \"POST\",\n",
    "  \"body\": {\n",
    "    \"name\": \"custom_job_XGB20210302154841\",\n",
    "    \"deploymentUri\": \"gs://migration-ucaip-trainingaip-20210302154841/custom_job_XGB20210302154841\",\n",
    "    \"runtimeVersion\": \"2.1\",\n",
    "    \"framework\": \"XGBOOST\",\n",
    "    \"pythonVersion\": \"3.7\",\n",
    "    \"machineType\": \"mls1-c1-m2\"\n",
    "  },\n",
    "  \"headers\": {\n",
    "    \"accept\": \"application/json\",\n",
    "    \"accept-encoding\": \"gzip, deflate\",\n",
    "    \"user-agent\": \"(gzip)\",\n",
    "    \"x-goog-api-client\": \"gdcl/1.12.8 gl-python/3.7.8\"\n",
    "  },\n",
    "  \"methodId\": \"ml.projects.models.versions.create\",\n",
    "  \"resumable\": null,\n",
    "  \"response_callbacks\": [],\n",
    "  \"_in_error_state\": false,\n",
    "  \"body_size\": 0,\n",
    "  \"resumable_uri\": null,\n",
    "  \"resumable_progress\": 0\n",
    "}\n",
    "```"
   ]
  },
  {
   "cell_type": "markdown",
   "metadata": {
    "id": "9hljh6e1aTRo"
   },
   "source": [
    "#### 电话"
   ]
  },
  {
   "cell_type": "code",
   "execution_count": null,
   "metadata": {
    "id": "OLHF4f11aTRo"
   },
   "outputs": [],
   "source": [
    "result = request.execute()"
   ]
  },
  {
   "cell_type": "markdown",
   "metadata": {
    "id": "8H1G9OfKaTRp"
   },
   "source": [
    "#### 回复"
   ]
  },
  {
   "cell_type": "code",
   "execution_count": null,
   "metadata": {
    "id": "9hAOwaLIaTRp"
   },
   "outputs": [],
   "source": [
    "print(json.dumps(result, indent=2))"
   ]
  },
  {
   "cell_type": "markdown",
   "metadata": {
    "id": "NM0ypd6JaTRp"
   },
   "source": [
    "{\n",
    "  \"name\": \"projects/migration-ucaip-training/operations/create_custom_job_XGB20210302154841_custom_job_XGB20210302154841-1614701495149\",\n",
    "  \"metadata\": {\n",
    "    \"@type\": \"type.googleapis.com/google.cloud.ml.v1.OperationMetadata\",\n",
    "    \"createTime\": \"2021-03-02T16:11:35Z\",\n",
    "    \"operationType\": \"CREATE_VERSION\",\n",
    "    \"modelName\": \"projects/migration-ucaip-training/models/custom_job_XGB20210302154841\",\n",
    "    \"version\": {\n",
    "      \"name\": \"projects/migration-ucaip-training/models/custom_job_XGB20210302154841/versions/custom_job_XGB20210302154841\",\n",
    "      \"deploymentUri\": \"gs://migration-ucaip-trainingaip-20210302154841/custom_job_XGB20210302154841\",\n",
    "      \"createTime\": \"2021-03-02T16:11:35Z\",\n",
    "      \"runtimeVersion\": \"2.1\",\n",
    "      \"etag\": \"t71tF0fa60o=\",\n",
    "      \"framework\": \"XGBOOST\",\n",
    "      \"machineType\": \"mls1-c1-m2\",\n",
    "      \"pythonVersion\": \"3.7\"\n",
    "    }\n",
    "  }\n",
    "}\n",
    "```"
   ]
  },
  {
   "cell_type": "code",
   "execution_count": null,
   "metadata": {
    "id": "et42NCWeaTRp"
   },
   "outputs": [],
   "source": [
    "# The full unique ID for the model version\n",
    "model_version_name = result[\"metadata\"][\"version\"][\"name\"]\n",
    "\n",
    "print(model_version_name)"
   ]
  },
  {
   "cell_type": "code",
   "execution_count": null,
   "metadata": {
    "id": "oW51fpAuaTRq"
   },
   "outputs": [],
   "source": [
    "while True:\n",
    "    response = (\n",
    "        client.projects().models().versions().get(name=model_version_name).execute()\n",
    "    )\n",
    "    if response[\"state\"] == \"READY\":\n",
    "        print(\"Model version created.\")\n",
    "        break\n",
    "    time.sleep(60)"
   ]
  },
  {
   "cell_type": "markdown",
   "metadata": {
    "id": "make_batch_predictions:migration"
   },
   "source": [
    "## 进行批量预测"
   ]
  },
  {
   "cell_type": "markdown",
   "metadata": {
    "id": "sIZwfjB0aTRq"
   },
   "source": [
    "批量预测仅支持Tensorflow。FRAMEWORK_SCIKIT_LEARN目前不可用。"
   ]
  },
  {
   "cell_type": "markdown",
   "metadata": {
    "id": "8GHHce4oaTRq"
   },
   "source": [
    "## 进行在线预测"
   ]
  },
  {
   "cell_type": "code",
   "execution_count": null,
   "metadata": {
    "id": "get_test_items:automl,icn,csv"
   },
   "outputs": [],
   "source": [
    "INSTANCES = [[1.4, 1.3, 5.1, 2.8], [1.5, 1.2, 4.7, 2.4]]"
   ]
  },
  {
   "cell_type": "markdown",
   "metadata": {
    "id": "o3nuEi6aaTRr"
   },
   "source": [
    "### 为在线预测准备文件"
   ]
  },
  {
   "cell_type": "markdown",
   "metadata": {
    "id": "anWJoMHbaTRr"
   },
   "source": [
    "### [projects.predict](https://cloud.google.com/ai-platform/prediction/docs/reference/rest/v1/projects/predict)\n",
    "\n",
    "### [projects.predict](https://cloud.google.com/ai-platform/prediction/docs/reference/rest/v1/projects/predict)"
   ]
  },
  {
   "cell_type": "markdown",
   "metadata": {
    "id": "MsCrcvGxaTRr"
   },
   "source": [
    "#### 请求"
   ]
  },
  {
   "cell_type": "code",
   "execution_count": null,
   "metadata": {
    "id": "fJbAj2AOaTRr"
   },
   "outputs": [],
   "source": [
    "request = client.projects().predict(\n",
    "    name=model_version_name,\n",
    ")\n",
    "request.body = json.loads(json.dumps({\"instances\": INSTANCES}, indent=2))\n",
    "\n",
    "print(json.dumps(json.loads(request.to_json()), indent=2))\n",
    "\n",
    "request = client.projects().predict(\n",
    "    name=model_version_name, body={\"instances\": INSTANCES}\n",
    ")"
   ]
  },
  {
   "cell_type": "markdown",
   "metadata": {
    "id": "KbyjXjwaaTRr"
   },
   "source": [
    "{\n",
    "  \"uri\": \"https://ml.googleapis.com/v1/projects/migration-ucaip-training/models/custom_job_XGB20210302154841/versions/custom_job_XGB20210302154841:predict?alt=json\",\n",
    "  \"method\": \"POST\",\n",
    "  \"body\": {\n",
    "    \"instances\": [\n",
    "      [\n",
    "        1.4,\n",
    "        1.3,\n",
    "        5.1,\n",
    "        2.8\n",
    "      ],\n",
    "      [\n",
    "        1.5,\n",
    "        1.2,\n",
    "        4.7,\n",
    "        2.4\n",
    "      ]\n",
    "    ]\n",
    "  },\n",
    "  \"headers\": {\n",
    "    \"accept\": \"application/json\",\n",
    "    \"accept-encoding\": \"gzip, deflate\",\n",
    "    \"user-agent\": \"(gzip)\",\n",
    "    \"x-goog-api-client\": \"gdcl/1.12.8 gl-python/3.7.8\"\n",
    "  },\n",
    "  \"methodId\": \"ml.projects.predict\",\n",
    "  \"resumable\": null,\n",
    "  \"response_callbacks\": [],\n",
    "  \"_in_error_state\": false,\n",
    "  \"body_size\": 0,\n",
    "  \"resumable_uri\": null,\n",
    "  \"resumable_progress\": 0\n",
    "}"
   ]
  },
  {
   "cell_type": "markdown",
   "metadata": {
    "id": "CnrfMAOHaTRs"
   },
   "source": [
    "#### 呼叫"
   ]
  },
  {
   "cell_type": "code",
   "execution_count": null,
   "metadata": {
    "id": "Pok1QLZfaTRs"
   },
   "outputs": [],
   "source": [
    "result = request.execute()"
   ]
  },
  {
   "cell_type": "markdown",
   "metadata": {
    "id": "s9VyPDINaTRs"
   },
   "source": [
    "回复"
   ]
  },
  {
   "cell_type": "code",
   "execution_count": null,
   "metadata": {
    "id": "5KxN4GC1aTRs"
   },
   "outputs": [],
   "source": [
    "print(json.dumps(result, indent=2))"
   ]
  },
  {
   "cell_type": "markdown",
   "metadata": {
    "id": "iJFHIcmzaTRs"
   },
   "source": [
    "{\n",
    "  \"predictions\": [\n",
    "    [],\n",
    "    []\n",
    "  ]\n",
    "}"
   ]
  },
  {
   "cell_type": "markdown",
   "metadata": {
    "id": "wnJ8nQVZaTRs"
   },
   "source": [
    "### [projects.models.versions.delete](https://cloud.google.com/ai-platform/prediction/docs/reference/rest/v1/projects.models.versions/delete)\n",
    "\n",
    "### [projects.models.versions.delete](https://cloud.google.com/ai-platform/prediction/docs/reference/rest/v1/projects.models.versions/delete)"
   ]
  },
  {
   "cell_type": "markdown",
   "metadata": {
    "id": "Kf1HH1GMaTRt"
   },
   "source": [
    "请求"
   ]
  },
  {
   "cell_type": "code",
   "execution_count": null,
   "metadata": {
    "id": "alPNxY6NaTRt"
   },
   "outputs": [],
   "source": [
    "request = client.projects().models().versions().delete(name=model_version_name)"
   ]
  },
  {
   "cell_type": "markdown",
   "metadata": {
    "id": "cYpvzoEoaTRt"
   },
   "source": [
    "#### 呼叫"
   ]
  },
  {
   "cell_type": "code",
   "execution_count": null,
   "metadata": {
    "id": "ueUWt7BOaTRt"
   },
   "outputs": [],
   "source": [
    "response = request.execute()"
   ]
  },
  {
   "cell_type": "markdown",
   "metadata": {
    "id": "response:migration"
   },
   "source": [
    "#### 回应"
   ]
  },
  {
   "cell_type": "code",
   "execution_count": null,
   "metadata": {
    "id": "print:migration,new,request"
   },
   "outputs": [],
   "source": [
    "print(json.dumps(response, indent=2))"
   ]
  },
  {
   "cell_type": "markdown",
   "metadata": {
    "id": "endpoints_undeploymodel:migration,new,response"
   },
   "source": [
    "{\n",
    "  \"name\": \"projects/migration-ucaip-training/operations/delete_custom_job_XGB20210302154841_custom_job_XGB20210302154841-1614709380234\",\n",
    "  \"metadata\": {\n",
    "    \"@type\": \"type.googleapis.com/google.cloud.ml.v1.OperationMetadata\",\n",
    "    \"createTime\": \"2021-03-02T18:23:00Z\",\n",
    "    \"operationType\": \"DELETE_VERSION\",\n",
    "    \"modelName\": \"projects/migration-ucaip-training/models/custom_job_XGB20210302154841\",\n",
    "    \"version\": {\n",
    "      \"name\": \"projects/migration-ucaip-training/models/custom_job_XGB20210302154841/versions/custom_job_XGB20210302154841\",\n",
    "      \"deploymentUri\": \"gs://migration-ucaip-trainingaip-20210302154841/custom_job_XGB20210302154841\",\n",
    "      \"createTime\": \"2021-03-02T16:11:35Z\",\n",
    "      \"runtimeVersion\": \"2.1\",\n",
    "      \"state\": \"READY\",\n",
    "      \"etag\": \"sBx1RZUe3HQ=\",\n",
    "      \"framework\": \"XGBOOST\",\n",
    "      \"machineType\": \"mls1-c1-m2\",\n",
    "      \"pythonVersion\": \"3.7\"\n",
    "    }\n",
    "  }\n",
    "}"
   ]
  },
  {
   "cell_type": "markdown",
   "metadata": {
    "id": "cleanup:migration,new"
   },
   "source": [
    "清理\n",
    "\n",
    "要清理此项目中使用的所有GCP资源，您可以删除用于本教程的GCP项目。\n",
    "\n",
    "否则，您可以删除在本教程中创建的单个资源。"
   ]
  },
  {
   "cell_type": "code",
   "execution_count": null,
   "metadata": {
    "id": "cfdA_HqraTRu"
   },
   "outputs": [],
   "source": [
    "delete_model = True\n",
    "delete_bucket = True\n",
    "\n",
    "# Delete the model using the Vertex fully qualified identifier for the model\n",
    "try:\n",
    "    if delete_model:\n",
    "        client.projects().models().delete(name=model_id)\n",
    "except Exception as e:\n",
    "    print(e)\n",
    "\n",
    "if delete_bucket and \"BUCKET_NAME\" in globals():\n",
    "    ! gsutil rm -r gs://$BUCKET_NAME"
   ]
  }
 ],
 "metadata": {
  "colab": {
   "name": "UJ9 legacy Custom Training Prebuilt Container XGBoost.ipynb",
   "toc_visible": true
  },
  "kernelspec": {
   "display_name": "Python 3",
   "name": "python3"
  }
 },
 "nbformat": 4,
 "nbformat_minor": 0
}
