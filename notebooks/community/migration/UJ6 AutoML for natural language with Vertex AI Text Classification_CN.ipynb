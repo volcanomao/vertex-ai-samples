{
 "cells": [
  {
   "cell_type": "code",
   "execution_count": null,
   "metadata": {
    "id": "bLRZTKFkDdht"
   },
   "outputs": [],
   "source": [
    "# Copyright 2021 Google LLC\n",
    "#\n",
    "# Licensed under the Apache License, Version 2.0 (the \"License\");\n",
    "# you may not use this file except in compliance with the License.\n",
    "# You may obtain a copy of the License at\n",
    "#\n",
    "#     https://www.apache.org/licenses/LICENSE-2.0\n",
    "#\n",
    "# Unless required by applicable law or agreed to in writing, software\n",
    "# distributed under the License is distributed on an \"AS IS\" BASIS,\n",
    "# WITHOUT WARRANTIES OR CONDITIONS OF ANY KIND, either express or implied.\n",
    "# See the License for the specific language governing permissions and\n",
    "# limitations under the License."
   ]
  },
  {
   "cell_type": "markdown",
   "metadata": {
    "id": "AKoTR-m2PmAR"
   },
   "source": [
    "顶点SDK：AutoML自然语言文本分类模型"
   ]
  },
  {
   "cell_type": "markdown",
   "metadata": {
    "id": "JE-aKjayJjkF"
   },
   "source": [
    "## 安装\n",
    "\n",
    "安装最新（预览）版本的Vertex SDK。"
   ]
  },
  {
   "cell_type": "code",
   "execution_count": null,
   "metadata": {
    "id": "7dxB6-B0JjkG"
   },
   "outputs": [],
   "source": [
    "! pip3 install -U google-cloud-aiplatform --user"
   ]
  },
  {
   "cell_type": "markdown",
   "metadata": {
    "id": "Iddo-8HmJjkH"
   },
   "source": [
    "安装Google的云存储库。"
   ]
  },
  {
   "cell_type": "code",
   "execution_count": null,
   "metadata": {
    "id": "xHvi6EFSJjkH"
   },
   "outputs": [],
   "source": [
    "! pip3 install google-cloud-storage"
   ]
  },
  {
   "cell_type": "markdown",
   "metadata": {
    "id": "ktRTgB8DJjkI"
   },
   "source": [
    "### 重新启动内核\n",
    "\n",
    "安装了 Vertex SDK 和 Google *cloud-storage* 之后，您需要重新启动笔记本的内核，以便它可以找到这些包。"
   ]
  },
  {
   "cell_type": "code",
   "execution_count": null,
   "metadata": {
    "id": "x1g4mBdlJjkI"
   },
   "outputs": [],
   "source": [
    "import os\n",
    "\n",
    "if not os.getenv(\"AUTORUN\"):\n",
    "    # Automatically restart kernel after installs\n",
    "    import IPython\n",
    "\n",
    "    app = IPython.Application.instance()\n",
    "    app.kernel.do_shutdown(True)"
   ]
  },
  {
   "cell_type": "markdown",
   "metadata": {
    "id": "hceMthWGJjkI"
   },
   "source": [
    "## 在开始之前\n",
    "\n",
    "### GPU 运行时\n",
    "\n",
    "*如果有这个选项的话，请确保你在 GPU 运行时中运行这个笔记本。在 Colab 中，选择* **运行时 > 更改运行时类型 > GPU**\n",
    "\n",
    "### 设置您的 GCP 项目\n",
    "\n",
    "**无论您的笔记本环境如何，以下步骤都是必需的。**\n",
    "\n",
    "1. [选择或创建一个 GCP 项目](https://console.cloud.google.com/cloud-resource-manager)。当您首次创建账户时，您将获得 $300 的免费信用额用于您的计算/存储成本。\n",
    "\n",
    "2. [确保您的项目已启用计费。](https://cloud.google.com/billing/docs/how-to/modify-project)\n",
    "\n",
    "3. [启用 Vertex API 和 Compute Engine API。](https://console.cloud.google.com/flows/enableapi?apiid=ml.googleapis.com,compute_component)\n",
    "\n",
    "4. [Google Cloud SDK](https://cloud.google.com/sdk) 已安装在 Google Cloud 笔记本中。\n",
    "\n",
    "5. 在下面的单元格中输入您的项目 ID。然后运行该单元格，确保Cloud SDK在此笔记本中的所有命令中使用正确的项目。\n",
    "\n",
    "**注意**：Jupyter 运行以`!`开头的行作为 shell 命令，并将以`$`开头的 Python 变量插入这些命令中。"
   ]
  },
  {
   "cell_type": "code",
   "execution_count": null,
   "metadata": {
    "id": "set_project_id"
   },
   "outputs": [],
   "source": [
    "PROJECT_ID = \"[your-project-id]\"  # @param {type:\"string\"}"
   ]
  },
  {
   "cell_type": "code",
   "execution_count": null,
   "metadata": {
    "id": "Xzde8OBYDdh2"
   },
   "outputs": [],
   "source": [
    "if PROJECT_ID == \"\" or PROJECT_ID is None or PROJECT_ID == \"[your-project-id]\":\n",
    "    # Get your GCP project id from gcloud\n",
    "    shell_output = !gcloud config list --format 'value(core.project)' 2>/dev/null\n",
    "    PROJECT_ID = shell_output[0]\n",
    "    print(\"Project ID:\", PROJECT_ID)"
   ]
  },
  {
   "cell_type": "code",
   "execution_count": null,
   "metadata": {
    "id": "0UfsdLCEJjkJ"
   },
   "outputs": [],
   "source": [
    "! gcloud config set project $PROJECT_ID"
   ]
  },
  {
   "cell_type": "markdown",
   "metadata": {
    "id": "jT0fijejJjkK"
   },
   "source": [
    "地区\n",
    "\n",
    "您还可以更改“REGION”变量，该变量用于笔记本其余部分的操作。以下是支持Vertex AI的地区。我们建议在可能的情况下选择离您最近的地区。\n",
    "\n",
    "- 美洲：`us-central1`\n",
    "- 欧洲：`europe-west4`\n",
    "- 亚太地区：`asia-east1`\n",
    "\n",
    "您不能在Vertex上使用多地区存储桶进行训练。并非所有地区都支持所有Vertex服务。有关每个地区的最新支持情况，请参见[Vertex AI服务的地区支持](https://cloud.google.com/vertex-ai/docs/general/locations)"
   ]
  },
  {
   "cell_type": "code",
   "execution_count": null,
   "metadata": {
    "id": "CTBlncfrJjkK"
   },
   "outputs": [],
   "source": [
    "REGION = \"us-central1\"  # @param {type: \"string\"}"
   ]
  },
  {
   "cell_type": "markdown",
   "metadata": {
    "id": "J_croPBoJjkK"
   },
   "source": [
    "时间戳\n",
    "\n",
    "如果您正在进行现场教程会话，您可能正在使用共享的测试帐户或项目。为了避免用户在创建的资源之间发生名称冲突，您为每个实例会话创建一个时间戳，并将其附加到将在本教程中创建的资源的名称上。"
   ]
  },
  {
   "cell_type": "code",
   "execution_count": null,
   "metadata": {
    "id": "KKxStk5bJjkL"
   },
   "outputs": [],
   "source": [
    "from datetime import datetime\n",
    "\n",
    "TIMESTAMP = datetime.now().strftime(\"%Y%m%d%H%M%S\")"
   ]
  },
  {
   "cell_type": "markdown",
   "metadata": {
    "id": "0yDWDaKwF48e"
   },
   "source": [
    "### 验证您的GCP账户\n",
    "\n",
    "**如果您正在使用Google Cloud笔记本**，您的环境已经经过验证。请跳过此步骤。\n",
    "\n",
    "*注意：如果您在Vertex笔记本上运行单元格，则单元格知道跳过执行认证步骤。*"
   ]
  },
  {
   "cell_type": "code",
   "execution_count": null,
   "metadata": {
    "id": "HvxYUdIfGAM-"
   },
   "outputs": [],
   "source": [
    "import os\n",
    "import sys\n",
    "\n",
    "# If you are running this notebook in Colab, run this cell and follow the\n",
    "# instructions to authenticate your Google Cloud account. This provides access\n",
    "# to your Cloud Storage bucket and lets you submit training jobs and prediction\n",
    "# requests.\n",
    "\n",
    "# If on Vertex, then don't execute this code\n",
    "if not os.path.exists(\"/opt/deeplearning/metadata/env_version\"):\n",
    "    if \"google.colab\" in sys.modules:\n",
    "        from google.colab import auth as google_auth\n",
    "\n",
    "        google_auth.authenticate_user()\n",
    "\n",
    "    # If you are running this tutorial in a notebook locally, replace the string\n",
    "    # below with the path to your service account key and run this cell to\n",
    "    # authenticate your Google Cloud account.\n",
    "    else:\n",
    "        %env GOOGLE_APPLICATION_CREDENTIALS your_path_to_credentials.json\n",
    "\n",
    "    # Log in to your account on Google Cloud\n",
    "    ! gcloud auth login"
   ]
  },
  {
   "cell_type": "markdown",
   "metadata": {
    "id": "MDUAZaN3JjkL"
   },
   "source": [
    "### 创建一个云存储桶\n",
    "\n",
    "**无论您使用的是哪种笔记本环境，以下步骤都是必需的。**\n",
    "\n",
    "本教程旨在使用公共云存储桶中的训练数据以及本地云存储桶用于您的批量预测。您也可以使用自己存储在本地云存储桶中的训练数据。\n",
    "\n",
    "在下面设置您的云存储桶的名称。它必须在所有云存储桶中是唯一的。"
   ]
  },
  {
   "cell_type": "code",
   "execution_count": null,
   "metadata": {
    "id": "bucket"
   },
   "outputs": [],
   "source": [
    "BUCKET_NAME = \"[your-bucket-name]\"  # @param {type:\"string\"}"
   ]
  },
  {
   "cell_type": "code",
   "execution_count": null,
   "metadata": {
    "id": "autoset_bucket"
   },
   "outputs": [],
   "source": [
    "if BUCKET_NAME == \"\" or BUCKET_NAME is None or BUCKET_NAME == \"[your-bucket-name]\":\n",
    "    BUCKET_NAME = PROJECT_ID + \"aip-\" + TIMESTAMP"
   ]
  },
  {
   "cell_type": "markdown",
   "metadata": {
    "id": "yU6VuylGJjkM"
   },
   "source": [
    "只有在你的存储桶尚不存在时才能运行以下代码以创建你的云存储存储桶。"
   ]
  },
  {
   "cell_type": "code",
   "execution_count": null,
   "metadata": {
    "id": "QVRixM4oJjkM"
   },
   "outputs": [],
   "source": [
    "! gsutil mb -l $REGION gs://$BUCKET_NAME"
   ]
  },
  {
   "cell_type": "markdown",
   "metadata": {
    "id": "Mi-Pdh6QJjkN"
   },
   "source": [
    "最后，通过检查其内容来验证对您的云存储桶的访问。"
   ]
  },
  {
   "cell_type": "code",
   "execution_count": null,
   "metadata": {
    "id": "aqDptKpYJjkN"
   },
   "outputs": [],
   "source": [
    "! gsutil ls -al gs://$BUCKET_NAME"
   ]
  },
  {
   "cell_type": "markdown",
   "metadata": {
    "id": "fR9geV9pJjkO"
   },
   "source": [
    "### 设置变量\n",
    "\n",
    "接下来，设置一些在教程中使用的变量。\n",
    "### 导入库并定义常数"
   ]
  },
  {
   "cell_type": "markdown",
   "metadata": {
    "id": "hIHTX-pkJjkO"
   },
   "source": [
    "#### 导入Vertex SDK\n",
    "\n",
    "将Vertex SDK导入到我们的Python环境中。"
   ]
  },
  {
   "cell_type": "code",
   "execution_count": null,
   "metadata": {
    "id": "qrSkIKVgJjkO"
   },
   "outputs": [],
   "source": [
    "import base64\n",
    "import json\n",
    "import os\n",
    "import sys\n",
    "import time\n",
    "\n",
    "from google.cloud.aiplatform import gapic as aip\n",
    "from google.protobuf import json_format\n",
    "from google.protobuf.json_format import MessageToJson, ParseDict\n",
    "from google.protobuf.struct_pb2 import Struct, Value"
   ]
  },
  {
   "cell_type": "markdown",
   "metadata": {
    "id": "lbv411XjJjkP"
   },
   "source": [
    "#### Vertex AI 常量\n",
    "\n",
    "为 Vertex AI 设置以下常量：\n",
    "\n",
    "- `API_ENDPOINT`：用于数据集、模型、任务、流水线和端点服务的 Vertex AI API 服务端点。\n",
    "- `PARENT`：用于数据集、模型和端点资源的 Vertex AI 位置根路径。"
   ]
  },
  {
   "cell_type": "code",
   "execution_count": null,
   "metadata": {
    "id": "Gx8Eos8PJjkP"
   },
   "outputs": [],
   "source": [
    "# API Endpoint\n",
    "API_ENDPOINT = \"{}-aiplatform.googleapis.com\".format(REGION)\n",
    "\n",
    "# Vertex AI location root path for your dataset, model and endpoint resources\n",
    "PARENT = \"projects/\" + PROJECT_ID + \"/locations/\" + REGION"
   ]
  },
  {
   "cell_type": "markdown",
   "metadata": {
    "id": "4x_t-MWnJjkQ"
   },
   "source": [
    "#### AutoML常量\n",
    "\n",
    "接下来，设置独特于AutoML文本分类数据集和训练的常量：\n",
    "\n",
    "- 数据集模式：告诉托管数据集服务数据集的类型。\n",
    "- 数据标注（注释）模式：告诉托管数据集服务数据如何被标记（注释）。\n",
    "- 数据集训练模式：告诉Vertex AI管道服务为哪个任务（例如分类）训练模型。"
   ]
  },
  {
   "cell_type": "code",
   "execution_count": null,
   "metadata": {
    "id": "nmzhH42tJjkQ"
   },
   "outputs": [],
   "source": [
    "# Text Dataset type\n",
    "TEXT_SCHEMA = \"google-cloud-aiplatform/schema/dataset/metadata/text_1.0.0.yaml\"\n",
    "# Text Labeling type\n",
    "IMPORT_SCHEMA_TEXT_CLASSIFICATION = \"gs://google-cloud-aiplatform/schema/dataset/ioformat/text_classification_single_label_io_format_1.0.0.yaml\"\n",
    "# Text Training task\n",
    "TRAINING_TEXT_CLASSIFICATION_SCHEMA = \"gs://google-cloud-aiplatform/schema/trainingjob/definition/automl_text_classification_1.0.0.yaml\""
   ]
  },
  {
   "cell_type": "markdown",
   "metadata": {
    "id": "R7P3MRNgJjkQ"
   },
   "source": [
    "## 客户端 Vertex AI\n",
    "\n",
    "Vertex SDK 作为客户端/服务器模型工作。在您的一侧（Python脚本）中，您将创建一个客户端，该客户端从服务器（Vertex）发送请求并接收响应。\n",
    "\n",
    "在本教程中，您将使用多个客户端，因此请提前设置它们。\n",
    "\n",
    "- 用于管理数据集的 Dataset Service。\n",
    "- 用于管理模型的 Model Service。\n",
    "- 用于训练的 Pipeline Service。\n",
    "- 用于部署的 Endpoint Service。\n",
    "- 用于提供预测的 Prediction Service。*注意*：预测具有不同的服务端点。"
   ]
  },
  {
   "cell_type": "code",
   "execution_count": null,
   "metadata": {
    "id": "kt8j_ey4JjkR"
   },
   "outputs": [],
   "source": [
    "# client options same for all services\n",
    "client_options = {\"api_endpoint\": API_ENDPOINT}\n",
    "\n",
    "\n",
    "def create_dataset_client():\n",
    "    client = aip.DatasetServiceClient(client_options=client_options)\n",
    "    return client\n",
    "\n",
    "\n",
    "def create_model_client():\n",
    "    client = aip.ModelServiceClient(client_options=client_options)\n",
    "    return client\n",
    "\n",
    "\n",
    "def create_pipeline_client():\n",
    "    client = aip.PipelineServiceClient(client_options=client_options)\n",
    "    return client\n",
    "\n",
    "\n",
    "def create_endpoint_client():\n",
    "    client = aip.EndpointServiceClient(client_options=client_options)\n",
    "    return client\n",
    "\n",
    "\n",
    "def create_prediction_client():\n",
    "    client = aip.PredictionServiceClient(client_options=client_options)\n",
    "    return client\n",
    "\n",
    "\n",
    "def create_job_client():\n",
    "    client = aip.JobServiceClient(client_options=client_options)\n",
    "    return client\n",
    "\n",
    "\n",
    "clients = {}\n",
    "clients[\"dataset\"] = create_dataset_client()\n",
    "clients[\"model\"] = create_model_client()\n",
    "clients[\"pipeline\"] = create_pipeline_client()\n",
    "clients[\"endpoint\"] = create_endpoint_client()\n",
    "clients[\"prediction\"] = create_prediction_client()\n",
    "clients[\"job\"] = create_job_client()\n",
    "\n",
    "for client in clients.items():\n",
    "    print(client)"
   ]
  },
  {
   "cell_type": "code",
   "execution_count": null,
   "metadata": {
    "id": "Ii4kquRRPmAn"
   },
   "outputs": [],
   "source": [
    "IMPORT_FILE = \"gs://cloud-ml-data/NL-classification/happiness.csv\""
   ]
  },
  {
   "cell_type": "code",
   "execution_count": null,
   "metadata": {
    "id": "ATVQWpgnPmAo"
   },
   "outputs": [],
   "source": [
    "! gsutil cat $IMPORT_FILE | head -n 10"
   ]
  },
  {
   "cell_type": "markdown",
   "metadata": {
    "id": "endpoints_undeploymodel:migration,new,response"
   },
   "source": [
    "*示例输出*：\n",
    "```\n",
    "我与一个我感到同情和有联系的人成功地约会了。, 亲情\n",
    "当我儿子在考试中得到90%的分数时我很开心。, 亲情\n",
    "今天早上我去了健身房做瑜伽。, 运动\n",
    "我们与一些最近有些靠不住的朋友进行了一次认真的谈话。他们理解了，我们度过了一个愉快的晚上。, 羁绊\n",
    "我和孙子们去了克罗恩温室参观蝴蝶展。, 亲情\n",
    "我昨晚冥想了。, 休闲\n",
    "“我尝试了一个新的农民面包食谱，结果很棒！”，成就\n",
    "我从哥哥那里收到了一个非常让我惊讶的礼物。, 亲情\n",
    "昨天是我妈妈的生日，所以我很快乐。, 享受当下\n",
    "和我的三个十几岁的孩子一起看杯子蛋糕大战。, 亲情\n",
    "```"
   ]
  },
  {
   "cell_type": "markdown",
   "metadata": {
    "id": "text_create_dataset:migration"
   },
   "source": [
    "创建一个数据集"
   ]
  },
  {
   "cell_type": "markdown",
   "metadata": {
    "id": "text_datasets_create:migration,new"
   },
   "source": [
    "[projects.locations.datasets.create](https://cloud.google.com/vertex-ai/docs/reference/rest/v1beta1/projects.locations.datasets/create)\n",
    "\n",
    "将上面的英文文本翻译成中文：[projects.locations.datasets.create](https://cloud.google.com/vertex-ai/docs/reference/rest/v1beta1/projects.locations.datasets/create)"
   ]
  },
  {
   "cell_type": "markdown",
   "metadata": {
    "id": "L9TCLZcqDdh-"
   },
   "source": [
    "请求"
   ]
  },
  {
   "cell_type": "code",
   "execution_count": null,
   "metadata": {
    "id": "LV0CGdWxDdh-"
   },
   "outputs": [],
   "source": [
    "DATA_SCHEMA = TEXT_SCHEMA\n",
    "\n",
    "dataset = {\n",
    "    \"display_name\": \"happiness_\" + TIMESTAMP,\n",
    "    \"metadata_schema_uri\": \"gs://\" + DATA_SCHEMA,\n",
    "}\n",
    "\n",
    "print(\n",
    "    MessageToJson(\n",
    "        aip.CreateDatasetRequest(parent=PARENT, dataset=dataset).__dict__[\"_pb\"]\n",
    "    )\n",
    ")"
   ]
  },
  {
   "cell_type": "markdown",
   "metadata": {
    "id": "oW46N7zDPmAq"
   },
   "source": [
    "*示例输出*:\n",
    "```\n",
    "{\n",
    "  \"parent\": \"projects/migration-ucaip-training/locations/us-central1\",\n",
    "  \"dataset\": {\n",
    "    \"displayName\": \"happiness_20210226015238\",\n",
    "    \"metadataSchemaUri\": \"gs://google-cloud-aiplatform/schema/dataset/metadata/text_1.0.0.yaml\"\n",
    "  }\n",
    "}\n",
    "```"
   ]
  },
  {
   "cell_type": "markdown",
   "metadata": {
    "id": "46JjhmPfDdh_"
   },
   "source": [
    "#### 电话"
   ]
  },
  {
   "cell_type": "code",
   "execution_count": null,
   "metadata": {
    "id": "Opc77NQcDdh_"
   },
   "outputs": [],
   "source": [
    "request = clients[\"dataset\"].create_dataset(parent=PARENT, dataset=dataset)"
   ]
  },
  {
   "cell_type": "markdown",
   "metadata": {
    "id": "6rltMZbbDdh_"
   },
   "source": [
    "####回复"
   ]
  },
  {
   "cell_type": "code",
   "execution_count": null,
   "metadata": {
    "id": "zIJgoVVpDdh_"
   },
   "outputs": [],
   "source": [
    "result = request.result()\n",
    "\n",
    "print(MessageToJson(result.__dict__[\"_pb\"]))"
   ]
  },
  {
   "cell_type": "markdown",
   "metadata": {
    "id": "1EbxR8zZPmAt"
   },
   "source": [
    "{\n",
    "  “名称”: “projects/116273516712/locations/us-central1/datasets/574578388396670976”,\n",
    "  “displayName”: “happiness_20210226015238”，\n",
    "  “metadataSchemaUri”: “gs://google-cloud-aiplatform/schema/dataset/metadata/text_1.0.0.yaml”，\n",
    "  “标签”: {\n",
    "    “aiplatform.googleapis.com/dataset_metadata_schema”: “文本”\n",
    "  }，\n",
    "  “元数据”: {\n",
    "    “dataItemSchemaUri”: “gs://google-cloud-aiplatform/schema/dataset/dataitem/text_1.0.0.yaml”\n",
    "  }\n",
    "}"
   ]
  },
  {
   "cell_type": "code",
   "execution_count": null,
   "metadata": {
    "id": "GiCxvMfDPmAu"
   },
   "outputs": [],
   "source": [
    "# The full unique ID for the dataset\n",
    "dataset_id = result.name\n",
    "# The short numeric ID for the dataset\n",
    "dataset_short_id = dataset_id.split(\"/\")[-1]\n",
    "\n",
    "print(dataset_id)"
   ]
  },
  {
   "cell_type": "markdown",
   "metadata": {
    "id": "text_datasets_import:migration,new"
   },
   "source": [
    "### [项目.位置.数据集.导入](https://cloud.google.com/vertex-ai/docs/reference/rest/v1beta1/projects.locations.datasets/import)"
   ]
  },
  {
   "cell_type": "markdown",
   "metadata": {
    "id": "rTHSmwyHDdh_"
   },
   "source": [
    "请求"
   ]
  },
  {
   "cell_type": "code",
   "execution_count": null,
   "metadata": {
    "id": "bt8QqcrQDdiA"
   },
   "outputs": [],
   "source": [
    "LABEL_SCHEMA = IMPORT_SCHEMA_TEXT_CLASSIFICATION\n",
    "\n",
    "import_config = {\n",
    "    \"gcs_source\": {\"uris\": [IMPORT_FILE]},\n",
    "    \"import_schema_uri\": LABEL_SCHEMA,\n",
    "}\n",
    "\n",
    "print(\n",
    "    MessageToJson(\n",
    "        aip.ImportDataRequest(\n",
    "            name=dataset_short_id, import_configs=[import_config]\n",
    "        ).__dict__[\"_pb\"]\n",
    "    )\n",
    ")"
   ]
  },
  {
   "cell_type": "markdown",
   "metadata": {
    "id": "Jjzp5G2QPmAw"
   },
   "source": [
    "{\n",
    "  \"name\": \"574578388396670976\",\n",
    "  \"importConfigs\": [\n",
    "    {\n",
    "      \"gcsSource\": {\n",
    "        \"uris\": [\n",
    "          \"gs://cloud-ml-data/NL-classification/happiness.csv\"\n",
    "        ]\n",
    "      },\n",
    "      \"importSchemaUri\": \"gs://google-cloud-aiplatform/schema/dataset/ioformat/text_classification_single_label_io_format_1.0.0.yaml\"\n",
    "    }\n",
    "  ]\n",
    "}\n",
    "```\n",
    "*示例输出*："
   ]
  },
  {
   "cell_type": "markdown",
   "metadata": {
    "id": "BuJAHvs4DdiA"
   },
   "source": [
    "### 电话"
   ]
  },
  {
   "cell_type": "code",
   "execution_count": null,
   "metadata": {
    "id": "XccT_J1CDdiA"
   },
   "outputs": [],
   "source": [
    "request = clients[\"dataset\"].import_data(\n",
    "    name=dataset_id, import_configs=[import_config]\n",
    ")"
   ]
  },
  {
   "cell_type": "markdown",
   "metadata": {
    "id": "bh6rq24uDdiA"
   },
   "source": [
    "回覆"
   ]
  },
  {
   "cell_type": "code",
   "execution_count": null,
   "metadata": {
    "id": "skZIZaulDdiA"
   },
   "outputs": [],
   "source": [
    "result = request.result()\n",
    "\n",
    "print(MessageToJson(result.__dict__[\"_pb\"]))"
   ]
  },
  {
   "cell_type": "markdown",
   "metadata": {
    "id": "drQ196C7PmA0"
   },
   "source": [
    "*示例输出*：\n",
    "```\n",
    "{}\n",
    "```"
   ]
  },
  {
   "cell_type": "markdown",
   "metadata": {
    "id": "text_create_and_deploy_model:migration"
   },
   "source": [
    "训练一个模型"
   ]
  },
  {
   "cell_type": "markdown",
   "metadata": {
    "id": "0oqIBOSnJjkW"
   },
   "source": [
    "### [projects.locations.trainingPipelines.create](https://cloud.google.com/vertex-ai/docs/reference/rest/v1beta1/projects.locations.trainingPipelines/create)\n",
    "\n",
    "### [projects.locations.trainingPipelines.create](https://cloud.google.com/vertex-ai/docs/reference/rest/v1beta1/projects.locations.trainingPipelines/create)"
   ]
  },
  {
   "cell_type": "markdown",
   "metadata": {
    "id": "6TEExyzrDdiB"
   },
   "source": [
    "####请求"
   ]
  },
  {
   "cell_type": "code",
   "execution_count": null,
   "metadata": {
    "id": "IqU_AskkDdiB"
   },
   "outputs": [],
   "source": [
    "TRAINING_SCHEMA = TRAINING_TEXT_CLASSIFICATION_SCHEMA\n",
    "\n",
    "task = json_format.ParseDict(\n",
    "    {\n",
    "        \"multi_label\": False,\n",
    "    },\n",
    "    Value(),\n",
    ")\n",
    "\n",
    "training_pipeline = {\n",
    "    \"display_name\": \"happiness_\" + TIMESTAMP,\n",
    "    \"input_data_config\": {\"dataset_id\": dataset_short_id},\n",
    "    \"model_to_upload\": {\"display_name\": \"happiness_\" + TIMESTAMP},\n",
    "    \"training_task_definition\": TRAINING_SCHEMA,\n",
    "    \"training_task_inputs\": task,\n",
    "}\n",
    "\n",
    "print(\n",
    "    MessageToJson(\n",
    "        aip.CreateTrainingPipelineRequest(\n",
    "            parent=PARENT, training_pipeline=training_pipeline\n",
    "        ).__dict__[\"_pb\"]\n",
    "    )\n",
    ")"
   ]
  },
  {
   "cell_type": "markdown",
   "metadata": {
    "id": "FRJplFjTPmA2"
   },
   "source": [
    "{\n",
    "  \"parent\": \"projects/migration-ucaip-training/locations/us-central1\",\n",
    "  \"trainingPipeline\": {\n",
    "    \"displayName\": \"happiness_20210226015238\",\n",
    "    \"inputDataConfig\": {\n",
    "      \"datasetId\": \"574578388396670976\"\n",
    "    },\n",
    "    \"trainingTaskDefinition\": \"gs://google-cloud-aiplatform/schema/trainingjob/definition/automl_text_classification_1.0.0.yaml\",\n",
    "    \"trainingTaskInputs\": {\n",
    "      \"multi_label\": false\n",
    "    },\n",
    "    \"modelToUpload\": {\n",
    "      \"displayName\": \"happiness_20210226015238\"\n",
    "    }\n",
    "  }\n",
    "}"
   ]
  },
  {
   "cell_type": "markdown",
   "metadata": {
    "id": "VeO6x5u6DdiC"
   },
   "source": [
    "呼叫"
   ]
  },
  {
   "cell_type": "code",
   "execution_count": null,
   "metadata": {
    "id": "oehjkwElDdiC"
   },
   "outputs": [],
   "source": [
    "request = clients[\"pipeline\"].create_training_pipeline(\n",
    "    parent=PARENT, training_pipeline=training_pipeline\n",
    ")"
   ]
  },
  {
   "cell_type": "markdown",
   "metadata": {
    "id": "b6D1PnMUDdiC"
   },
   "source": [
    "回复"
   ]
  },
  {
   "cell_type": "code",
   "execution_count": null,
   "metadata": {
    "id": "qbwBVg9NDdiC"
   },
   "outputs": [],
   "source": [
    "print(MessageToJson(request.__dict__[\"_pb\"]))"
   ]
  },
  {
   "cell_type": "markdown",
   "metadata": {
    "id": "qJY27GO1PmA3"
   },
   "source": [
    "{\n",
    "  \"name\": \"projects/116273516712/locations/us-central1/trainingPipelines/2903115317607661568\",\n",
    "  \"displayName\": \"happiness_20210226015238\",\n",
    "  \"inputDataConfig\": {\n",
    "    \"datasetId\": \"574578388396670976\"\n",
    "  },\n",
    "  \"trainingTaskDefinition\": \"gs://google-cloud-aiplatform/schema/trainingjob/definition/automl_text_classification_1.0.0.yaml\",\n",
    "  \"trainingTaskInputs\": {},\n",
    "  \"modelToUpload\": {\n",
    "    \"displayName\": \"happiness_20210226015238\"\n",
    "  },\n",
    "  \"state\": \"PIPELINE_STATE_PENDING\",\n",
    "  \"createTime\": \"2021-02-26T02:23:54.166560Z\",\n",
    "  \"updateTime\": \"2021-02-26T02:23:54.166560Z\"\n",
    "}"
   ]
  },
  {
   "cell_type": "code",
   "execution_count": null,
   "metadata": {
    "id": "R3dVRAJ2PmA4"
   },
   "outputs": [],
   "source": [
    "# The full unique ID for the training pipeline\n",
    "training_pipeline_id = request.name\n",
    "# The short numeric ID for the training pipeline\n",
    "training_pipeline_short_id = training_pipeline_id.split(\"/\")[-1]\n",
    "\n",
    "print(training_pipeline_id)"
   ]
  },
  {
   "cell_type": "markdown",
   "metadata": {
    "id": "QJsV1xoSJjkW"
   },
   "source": [
    "### [projects.locations.trainingPipelines.get](https://cloud.google.com/vertex-ai/docs/reference/rest/v1beta1/projects.locations.trainingPipelines/get)\n",
    "\n",
    "### [projects.locations.trainingPipelines.get](https://cloud.google.com/vertex-ai/docs/reference/rest/v1beta1/projects.locations.trainingPipelines/get)"
   ]
  },
  {
   "cell_type": "markdown",
   "metadata": {
    "id": "jMx7wPO4DdiC"
   },
   "source": [
    "#### 电话"
   ]
  },
  {
   "cell_type": "code",
   "execution_count": null,
   "metadata": {
    "id": "nkSMNyEHDdiD"
   },
   "outputs": [],
   "source": [
    "request = clients[\"pipeline\"].get_training_pipeline(name=training_pipeline_id)"
   ]
  },
  {
   "cell_type": "markdown",
   "metadata": {
    "id": "bnn0DVfVDdiD"
   },
   "source": [
    "回应"
   ]
  },
  {
   "cell_type": "code",
   "execution_count": null,
   "metadata": {
    "id": "RxwZkKHHDdiD"
   },
   "outputs": [],
   "source": [
    "print(MessageToJson(request.__dict__[\"_pb\"]))"
   ]
  },
  {
   "cell_type": "markdown",
   "metadata": {
    "id": "W3vyjjnIPmA6"
   },
   "source": [
    "{\n",
    "  \"名称\": \"projects/116273516712/locations/us-central1/trainingPipelines/2903115317607661568\",\n",
    "  \"显示名称\": \"happiness_20210226015238\",\n",
    "  \"inputDataConfig\": {\n",
    "    \"数据集ID\": \"574578388396670976\"\n",
    "  },\n",
    "  \"trainingTaskDefinition\": \"gs://google-cloud-aiplatform/schema/trainingjob/definition/automl_text_classification_1.0.0.yaml\",\n",
    "  \"trainingTaskInputs\": {},\n",
    "  \"modelToUpload\": {\n",
    "    \"名称\": \"projects/116273516712/locations/us-central1/models/2369051733671280640\",\n",
    "    \"显示名称\": \"happiness_20210226015238\"\n",
    "  },\n",
    "  \"状态\": \"PIPELINE_STATE_SUCCEEDED\",\n",
    "  \"创建时间\": \"2021-02-26T02:23:54.166560Z\",\n",
    "  \"开始时间\": \"2021-02-26T02:23:54.396088Z\",\n",
    "  \"结束时间\": \"2021-02-26T06:08:06.548524Z\",\n",
    "  \"更新时间\": \"2021-02-26T06:08:06.548524Z\"\n",
    "}"
   ]
  },
  {
   "cell_type": "code",
   "execution_count": null,
   "metadata": {
    "id": "trainingpipelines_get:migration,new,wait"
   },
   "outputs": [],
   "source": [
    "while True:\n",
    "    response = clients[\"pipeline\"].get_training_pipeline(name=training_pipeline_id)\n",
    "    if response.state != aip.PipelineState.PIPELINE_STATE_SUCCEEDED:\n",
    "        print(\"Training job has not completed:\", response.state)\n",
    "        model_to_deploy_name = None\n",
    "        if response.state == aip.PipelineState.PIPELINE_STATE_FAILED:\n",
    "            break\n",
    "    else:\n",
    "        model_id = response.model_to_upload.name\n",
    "        print(\"Training Time:\", response.end_time - response.start_time)\n",
    "        break\n",
    "    time.sleep(20)\n",
    "\n",
    "print(model_id)"
   ]
  },
  {
   "cell_type": "markdown",
   "metadata": {
    "id": "text_evaluate_the_model:migration"
   },
   "source": [
    "评估模型##"
   ]
  },
  {
   "cell_type": "markdown",
   "metadata": {
    "id": "BJNzhELXJjkY"
   },
   "source": [
    "### [projects.locations.models.evaluations.list](https://cloud.google.com/vertex-ai/docs/reference/rest/v1beta1/projects.locations.models.evaluations/list)\n",
    "\n",
    "### [projects.locations.models.evaluations.list](https://cloud.google.com/vertex-ai/docs/reference/rest/v1beta1/projects.locations.models.evaluations/list)"
   ]
  },
  {
   "cell_type": "markdown",
   "metadata": {
    "id": "--qyaaviDdiG"
   },
   "source": [
    "#### 电话"
   ]
  },
  {
   "cell_type": "code",
   "execution_count": null,
   "metadata": {
    "id": "q5c2I_oFDdiH"
   },
   "outputs": [],
   "source": [
    "request = clients[\"model\"].list_model_evaluations(parent=model_id)"
   ]
  },
  {
   "cell_type": "markdown",
   "metadata": {
    "id": "njIDMGb0DdiH"
   },
   "source": [
    "#### 回复"
   ]
  },
  {
   "cell_type": "code",
   "execution_count": null,
   "metadata": {
    "id": "y0wUwEgUDdiH"
   },
   "outputs": [],
   "source": [
    "model_evaluations = [json.loads(MessageToJson(mel.__dict__[\"_pb\"])) for mel in request]\n",
    "\n",
    "print(json.dumps(model_evaluations, indent=2))\n",
    "\n",
    "# The evaluation slice\n",
    "evaluation_slice = request.model_evaluations[0].name"
   ]
  },
  {
   "cell_type": "markdown",
   "metadata": {
    "id": "0RsA8RqKPmA-"
   },
   "source": [
    "```\n",
    "[\n",
    "  {\n",
    "    \"name\": \"projects/116273516712/locations/us-central1/models/2369051733671280640/evaluations/1541152463304785920\",\n",
    "    \"metricsSchemaUri\": \"gs://google-cloud-aiplatform/schema/modelevaluation/classification_metrics_1.0.0.yaml\",\n",
    "    \"metrics\": {\n",
    "      \"confusionMatrix\": {\n",
    "        \"annotationSpecs\": [\n",
    "          {\n",
    "            \"displayName\": \"exercise\",\n",
    "            \"id\": \"952213353537732608\"\n",
    "          },\n",
    "          {\n",
    "            \"id\": \"1528674105841156096\",\n",
    "            \"displayName\": \"achievement\"\n",
    "          },\n",
    "          {\n",
    "            \"id\": \"3258056362751426560\",\n",
    "            \"displayName\": \"leisure\"\n",
    "          },\n",
    "          {\n",
    "            \"id\": \"3834517115054850048\",\n",
    "            \"displayName\": \"bonding\"\n",
    "          },\n",
    "          {\n",
    "            \"id\": \"5563899371965120512\",\n",
    "            \"displayName\": \"enjoy_the_moment\"\n",
    "          },\n",
    "          {\n",
    "            \"id\": \"6140360124268544000\",\n",
    "            \"displayName\": \"nature\"\n",
    "          },\n",
    "          {\n",
    "            \"id\": \"8446203133482237952\",\n",
    "            \"displayName\": \"affection\"\n",
    "          }\n",
    "        ],\n",
    "        \"rows\": [\n",
    "          [\n",
    "            19.0,\n",
    "            1.0,\n",
    "            0.0,\n",
    "            0.0,\n",
    "            0.0,\n",
    "            0.0,\n",
    "            0.0\n",
    "          ],\n",
    "          [\n",
    "            0.0,\n",
    "            342.0,\n",
    "            5.0,\n",
    "            2.0,\n",
    "            13.0,\n",
    "            2.0,\n",
    "            13.0\n",
    "          ],\n",
    "          [\n",
    "            2.0,\n",
    "            10.0,\n",
    "            42.0,\n",
    "            1.0,\n",
    "            12.0,\n",
    "            0.0,\n",
    "            2.0\n",
    "          ],\n",
    "          [\n",
    "            0.0,\n",
    "            4.0,\n",
    "            0.0,\n",
    "            121.0,\n",
    "            1.0,\n",
    "            0.0,\n",
    "            4.0\n",
    "          ],\n",
    "          [\n",
    "            2.0,\n",
    "            29.0,\n",
    "            3.0,\n",
    "            2.0,\n",
    "            98.0,\n",
    "            0.0,\n",
    "            6.0\n",
    "          ],\n",
    "          [\n",
    "            0.0,\n",
    "            3.0,\n",
    "            0.0,\n",
    "            1.0,\n",
    "            0.0,\n",
    "            21.0,\n",
    "            1.0\n",
    "          ],\n",
    "          [\n",
    "            0.0,\n",
    "            7.0,\n",
    "            0.0,\n",
    "            1.0,\n",
    "            6.0,\n",
    "            0.0,\n",
    "            409.0\n",
    "          ]\n",
    "        ]\n",
    "      },\n",
    "      \"confidenceMetrics\": [\n",
    "        {\n",
    "          \"f1Score\": 0.25,\n",
    "          \"recall\": 1.0,\n",
    "          \"f1ScoreAt1\": 0.88776374,\n",
    "          \"precisionAt1\": 0.88776374,\n",
    "          \"precision\": 0.14285715,\n",
    "          \"recallAt1\": 0.88776374\n",
    "        },\n",
    "        {\n",
    "          \"confidenceThreshold\": 0.05,\n",
    "          \"recall\": 0.9721519,\n",
    "          \"f1Score\": 0.8101266,\n",
    "          \"recallAt1\": 0.88776374,\n",
    "          \"f1ScoreAt1\": 0.88776374,\n",
    "          \"precisionAt1\": 0.88776374,\n",
    "          \"precision\": 0.69439423\n",
    "        },\n",
    "        \n",
    "        # 由于简洁起见已删除\n",
    "\n",
    "        {\n",
    "          \"f1Score\": 0.0033698399,\n",
    "          \"recall\": 0.0016877637,\n",
    "          \"confidenceThreshold\": 1.0,\n",
    "          \"recallAt1\": 0.0016877637,\n",
    "          \"f1ScoreAt1\": 0.0033698399,\n",
    "          \"precisionAt1\": 1.0,\n",
    "          \"precision\": 1.0\n",
    "        }\n",
    "      ],\n",
    "      \"auPrc\": 0.95903283,\n",
    "      \"logLoss\": 0.08260541\n",
    "    },\n",
    "    \"createTime\": \"2021-02-26T06:07:48.967028Z\",\n",
    "    \"sliceDimensions\": [\n",
    "      \"annotationSpec\"\n",
    "    ]\n",
    "  }\n",
    "]\n",
    "```"
   ]
  },
  {
   "cell_type": "markdown",
   "metadata": {
    "id": "wr2JuU5nJjka"
   },
   "source": [
    "### [projects.locations.models.evaluations.get](https://cloud.google.com/vertex-ai/docs/reference/rest/v1beta1/projects.locations.models.evaluations/get) \n",
    "\n",
    "### [项目.位置.模型.评估.获取](https://cloud.google.com/vertex-ai/docs/reference/rest/v1beta1/projects.locations.models.evaluations/get)"
   ]
  },
  {
   "cell_type": "markdown",
   "metadata": {
    "id": "edJ4XjSbDdiI"
   },
   "source": [
    "#### 电话"
   ]
  },
  {
   "cell_type": "code",
   "execution_count": null,
   "metadata": {
    "id": "8R-P7LzdDdiI"
   },
   "outputs": [],
   "source": [
    "request = clients[\"model\"].get_model_evaluation(name=evaluation_slice)"
   ]
  },
  {
   "cell_type": "markdown",
   "metadata": {
    "id": "nyTwMNrmDdiI"
   },
   "source": [
    "#### 回复"
   ]
  },
  {
   "cell_type": "code",
   "execution_count": null,
   "metadata": {
    "id": "wj_LtYzJDdiI"
   },
   "outputs": [],
   "source": [
    "print(MessageToJson(request.__dict__[\"_pb\"]))"
   ]
  },
  {
   "cell_type": "markdown",
   "metadata": {
    "id": "cjAR1CVDPmBB"
   },
   "source": [
    "```\n",
    "{\n",
    "  \"name\": \"projects/116273516712/locations/us-central1/models/2369051733671280640/evaluations/1541152463304785920\",\n",
    "  \"metricsSchemaUri\": \"gs://google-cloud-aiplatform/schema/modelevaluation/classification_metrics_1.0.0.yaml\",\n",
    "  \"metrics\": {\n",
    "    \"confusionMatrix\": {\n",
    "      \"annotationSpecs\": [\n",
    "        {\n",
    "          \"displayName\": \"exercise\",\n",
    "          \"id\": \"952213353537732608\"\n",
    "        },\n",
    "        {\n",
    "          \"displayName\": \"achievement\",\n",
    "          \"id\": \"1528674105841156096\"\n",
    "        },\n",
    "        {\n",
    "          \"id\": \"3258056362751426560\",\n",
    "          \"displayName\": \"leisure\"\n",
    "        },\n",
    "        {\n",
    "          \"id\": \"3834517115054850048\",\n",
    "          \"displayName\": \"bonding\"\n",
    "        },\n",
    "        {\n",
    "          \"displayName\": \"enjoy_the_moment\",\n",
    "          \"id\": \"5563899371965120512\"\n",
    "        },\n",
    "        {\n",
    "          \"displayName\": \"nature\",\n",
    "          \"id\": \"6140360124268544000\"\n",
    "        },\n",
    "        {\n",
    "          \"id\": \"8446203133482237952\",\n",
    "          \"displayName\": \"affection\"\n",
    "        }\n",
    "      ],\n",
    "      \"rows\": [\n",
    "        [\n",
    "          19.0,\n",
    "          1.0,\n",
    "          0.0,\n",
    "          0.0,\n",
    "          0.0,\n",
    "          0.0,\n",
    "          0.0\n",
    "        ],\n",
    "        [\n",
    "          0.0,\n",
    "          342.0,\n",
    "          5.0,\n",
    "          2.0,\n",
    "          13.0,\n",
    "          2.0,\n",
    "          13.0\n",
    "        ],\n",
    "        [\n",
    "          2.0,\n",
    "          10.0,\n",
    "          42.0,\n",
    "          1.0,\n",
    "          12.0,\n",
    "          0.0,\n",
    "          2.0\n",
    "        ],\n",
    "        [\n",
    "          0.0,\n",
    "          4.0,\n",
    "          0.0,\n",
    "          121.0,\n",
    "          1.0,\n",
    "          0.0,\n",
    "          4.0\n",
    "        ],\n",
    "        [\n",
    "          2.0,\n",
    "          29.0,\n",
    "          3.0,\n",
    "          2.0,\n",
    "          98.0,\n",
    "          0.0,\n",
    "          6.0\n",
    "        ],\n",
    "        [\n",
    "          0.0,\n",
    "          3.0,\n",
    "          0.0,\n",
    "          1.0,\n",
    "          0.0,\n",
    "          21.0,\n",
    "          1.0\n",
    "        ],\n",
    "        [\n",
    "          0.0,\n",
    "          7.0,\n",
    "          0.0,\n",
    "          1.0,\n",
    "          6.0,\n",
    "          0.0,\n",
    "          409.0\n",
    "        ]\n",
    "      ]\n",
    "    },\n",
    "    \"logLoss\": 0.08260541,\n",
    "    \"confidenceMetrics\": [\n",
    "      {\n",
    "        \"precision\": 0.14285715,\n",
    "        \"precisionAt1\": 0.88776374,\n",
    "        \"recall\": 1.0,\n",
    "        \"f1ScoreAt1\": 0.88776374,\n",
    "        \"recallAt1\": 0.88776374,\n",
    "        \"f1Score\": 0.25\n",
    "      },\n",
    "      {\n",
    "        \"f1Score\": 0.8101266,\n",
    "        \"recall\": 0.9721519,\n",
    "        \"precision\": 0.69439423,\n",
    "        \"confidenceThreshold\": 0.05,\n",
    "        \"recallAt1\": 0.88776374,\n",
    "        \"precisionAt1\": 0.88776374,\n",
    "        \"f1ScoreAt1\": 0.88776374\n",
    "      },\n",
    "      \n",
    "      # REMOVED FOR BREVITY\n",
    "      \n",
    "      {\n",
    "        \"confidenceThreshold\": 1.0,\n",
    "        \"f1Score\": 0.0033698399,\n",
    "        \"f1ScoreAt1\": 0.0033698399,\n",
    "        \"precisionAt1\": 1.0,\n",
    "        \"precision\": 1.0,\n",
    "        \"recall\": 0.0016877637,\n",
    "        \"recallAt1\": 0.0016877637\n",
    "      }\n",
    "    ],\n",
    "    \"auPrc\": 0.95903283\n",
    "  },\n",
    "  \"createTime\": \"2021-02-26T06:07:48.967028Z\",\n",
    "  \"sliceDimensions\": [\n",
    "    \"annotationSpec\"\n",
    "  ]\n",
    "}\n",
    "```"
   ]
  },
  {
   "cell_type": "markdown",
   "metadata": {
    "id": "sIbqsuWeDdiJ"
   },
   "source": [
    "进行批量预测"
   ]
  },
  {
   "cell_type": "markdown",
   "metadata": {
    "id": "8USAjugOPmBE"
   },
   "source": [
    "### 为批量预测准备文件"
   ]
  },
  {
   "cell_type": "code",
   "execution_count": null,
   "metadata": {
    "id": "IHa-ducKPmBE"
   },
   "outputs": [],
   "source": [
    "test_item = ! gsutil cat $IMPORT_FILE | head -n1\n",
    "test_item, test_label = str(test_item[0]).split(\",\")\n",
    "\n",
    "print(test_item, test_label)"
   ]
  },
  {
   "cell_type": "markdown",
   "metadata": {
    "id": "y0ThHBwoPmBF"
   },
   "source": [
    "我和一个我同情和有联系感的人成功约会。感情"
   ]
  },
  {
   "cell_type": "markdown",
   "metadata": {
    "id": "_BMIZpOXPmBF"
   },
   "source": [
    "制作批量输入文件\n",
    "\n",
    "现在让我们制作一个批量输入文件，将其存储在您的本地云存储桶中。批量输入文件可以是 CSV 或 JSONL 格式。在本教程中，您将使用 JSONL 格式。对于 JSONL 文件，您需要为每个文本文件的每一行创建一个字典条目。该字典包含以下键值对：\n",
    "\n",
    "- `content`：文本文件的云存储路径。\n",
    "- `mimeType`：内容类型。在我们的例子中，是一个 `text/plain` 文件。"
   ]
  },
  {
   "cell_type": "code",
   "execution_count": null,
   "metadata": {
    "id": "4ocY6QmHDdiJ"
   },
   "outputs": [],
   "source": [
    "import json\n",
    "\n",
    "import tensorflow as tf\n",
    "\n",
    "test_item_uri = \"gs://\" + BUCKET_NAME + \"/test.txt\"\n",
    "with tf.io.gfile.GFile(test_item_uri, \"w\") as f:\n",
    "    f.write(test_item + \"\\n\")\n",
    "\n",
    "gcs_input_uri = \"gs://\" + BUCKET_NAME + \"/test.jsonl\"\n",
    "with tf.io.gfile.GFile(gcs_input_uri, \"w\") as f:\n",
    "    data = {\"content\": test_item_uri, \"mime_type\": \"text/plain\"}\n",
    "    f.write(json.dumps(data) + \"\\n\")"
   ]
  },
  {
   "cell_type": "code",
   "execution_count": null,
   "metadata": {
    "id": "ztl9lP54PmBG"
   },
   "outputs": [],
   "source": [
    "! gsutil cat $gcs_input_uri\n",
    "! gsutil cat $test_item_uri"
   ]
  },
  {
   "cell_type": "markdown",
   "metadata": {
    "id": "pAosq_OoPmBG"
   },
   "source": [
    "{\"content\": \"gs://migration-ucaip-trainingaip-20210226015238/test.txt\", \"mime_type\": \"text/plain\"}\n",
    "我和某人成功地约会了，我感到同情和连接。"
   ]
  },
  {
   "cell_type": "markdown",
   "metadata": {
    "id": "YISzKhdUDdiJ"
   },
   "source": [
    "### [projects.locations.batchPredictionJobs.create](https://cloud.google.com/vertex-ai/docs/reference/rest/v1beta1/projects.locations.batchPredictionJobs/create)\n",
    "\n",
    "### [项目.位置.批量预测作业.创建](https://cloud.google.com/vertex-ai/docs/reference/rest/v1beta1/projects.locations.batchPredictionJobs/create)"
   ]
  },
  {
   "cell_type": "markdown",
   "metadata": {
    "id": "ozaMOwdNJjkT"
   },
   "source": [
    "#### 请求"
   ]
  },
  {
   "cell_type": "code",
   "execution_count": null,
   "metadata": {
    "id": "0ZSuOk8PDdiK"
   },
   "outputs": [],
   "source": [
    "batch_prediction_job = {\n",
    "    \"display_name\": \"happiness_\" + TIMESTAMP,\n",
    "    \"model\": model_id,\n",
    "    \"input_config\": {\n",
    "        \"instances_format\": \"jsonl\",\n",
    "        \"gcs_source\": {\"uris\": [gcs_input_uri]},\n",
    "    },\n",
    "    \"output_config\": {\n",
    "        \"predictions_format\": \"jsonl\",\n",
    "        \"gcs_destination\": {\n",
    "            \"output_uri_prefix\": \"gs://\" + f\"{BUCKET_NAME}/batch_output/\"\n",
    "        },\n",
    "    },\n",
    "    \"dedicated_resources\": {\n",
    "        \"machine_spec\": {\n",
    "            \"machine_type\": \"n1-standard-2\",\n",
    "            \"accelerator_count\": 0,\n",
    "        },\n",
    "        \"starting_replica_count\": 1,\n",
    "        \"max_replica_count\": 1,\n",
    "    },\n",
    "}\n",
    "\n",
    "print(\n",
    "    MessageToJson(\n",
    "        aip.CreateBatchPredictionJobRequest(\n",
    "            parent=PARENT, batch_prediction_job=batch_prediction_job\n",
    "        ).__dict__[\"_pb\"]\n",
    "    )\n",
    ")"
   ]
  },
  {
   "cell_type": "markdown",
   "metadata": {
    "id": "swz5uddlPmBH"
   },
   "source": [
    "{\n",
    "  \"parent\": \"projects/migration-ucaip-training/locations/us-central1\",\n",
    "  \"batchPredictionJob\": {\n",
    "    \"displayName\": \"happiness_20210226015238\",\n",
    "    \"model\": \"projects/116273516712/locations/us-central1/models/2369051733671280640\",\n",
    "    \"inputConfig\": {\n",
    "      \"instancesFormat\": \"jsonl\",\n",
    "      \"gcsSource\": {\n",
    "        \"uris\": [\n",
    "          \"gs://migration-ucaip-trainingaip-20210226015238/test.jsonl\"\n",
    "        ]\n",
    "      }\n",
    "    },\n",
    "    \"outputConfig\": {\n",
    "      \"predictionsFormat\": \"jsonl\",\n",
    "      \"gcsDestination\": {\n",
    "        \"outputUriPrefix\": \"gs://migration-ucaip-trainingaip-20210226015238/batch_output/\"\n",
    "      }\n",
    "    },\n",
    "    \"dedicatedResources\": {\n",
    "      \"machineSpec\": {\n",
    "        \"machineType\": \"n1-standard-2\"\n",
    "      },\n",
    "      \"startingReplicaCount\": 1,\n",
    "      \"maxReplicaCount\": 1\n",
    "    }\n",
    "  }\n",
    "}"
   ]
  },
  {
   "cell_type": "markdown",
   "metadata": {
    "id": "vHkuSZxkJjkT"
   },
   "source": [
    "#### 电话"
   ]
  },
  {
   "cell_type": "code",
   "execution_count": null,
   "metadata": {
    "id": "bvn9xCIZDdiK"
   },
   "outputs": [],
   "source": [
    "request = clients[\"job\"].create_batch_prediction_job(\n",
    "    parent=PARENT, batch_prediction_job=batch_prediction_job\n",
    ")"
   ]
  },
  {
   "cell_type": "markdown",
   "metadata": {
    "id": "FLqkZMD2JjkT"
   },
   "source": [
    "回应"
   ]
  },
  {
   "cell_type": "code",
   "execution_count": null,
   "metadata": {
    "id": "PRO-_9tZDdiL"
   },
   "outputs": [],
   "source": [
    "print(MessageToJson(request.__dict__[\"_pb\"]))"
   ]
  },
  {
   "cell_type": "markdown",
   "metadata": {
    "id": "gXCCM1C5PmBI"
   },
   "source": [
    "{\n",
    "  \"name\": \"projects/116273516712/locations/us-central1/batchPredictionJobs/4770983263059574784\",\n",
    "  \"displayName\": \"happiness_20210226015238\",\n",
    "  \"model\": \"projects/116273516712/locations/us-central1/models/2369051733671280640\",\n",
    "  \"inputConfig\": {\n",
    "    \"instancesFormat\": \"jsonl\",\n",
    "    \"gcsSource\": {\n",
    "      \"uris\": [\n",
    "        \"gs://migration-ucaip-trainingaip-20210226015238/test.jsonl\"\n",
    "      ]\n",
    "    }\n",
    "  },\n",
    "  \"outputConfig\": {\n",
    "    \"predictionsFormat\": \"jsonl\",\n",
    "    \"gcsDestination\": {\n",
    "      \"outputUriPrefix\": \"gs://migration-ucaip-trainingaip-20210226015238/batch_output/\"\n",
    "    }\n",
    "  },\n",
    "  \"state\": \"JOB_STATE_PENDING\",\n",
    "  \"completionStats\": {\n",
    "    \"incompleteCount\": \"-1\"\n",
    "  },\n",
    "  \"createTime\": \"2021-02-26T09:37:44.471843Z\",\n",
    "  \"updateTime\": \"2021-02-26T09:37:44.471843Z\"\n",
    "}"
   ]
  },
  {
   "cell_type": "code",
   "execution_count": null,
   "metadata": {
    "id": "-uhh056UPmBI"
   },
   "outputs": [],
   "source": [
    "# The fully qualified ID for the batch job\n",
    "batch_job_id = request.name\n",
    "# The short numeric ID for the batch job\n",
    "batch_job_short_id = batch_job_id.split(\"/\")[-1]\n",
    "\n",
    "print(batch_job_id)"
   ]
  },
  {
   "cell_type": "markdown",
   "metadata": {
    "id": "5UlgopM2DdiL"
   },
   "source": [
    "### [projects.locations.batchPredictionJobs.get](https://cloud.google.com/vertex-ai/docs/reference/rest/v1beta1/projects.locations.batchPredictionJobs/get)\n",
    "\n",
    "### [projects.locations.batchPredictionJobs.get](https://cloud.google.com/vertex-ai/docs/reference/rest/v1beta1/projects.locations.batchPredictionJobs/get)"
   ]
  },
  {
   "cell_type": "markdown",
   "metadata": {
    "id": "ONQ_S59sDdiM"
   },
   "source": [
    "#### 电话"
   ]
  },
  {
   "cell_type": "code",
   "execution_count": null,
   "metadata": {
    "id": "TmfmAJcyDdiM"
   },
   "outputs": [],
   "source": [
    "request = clients[\"job\"].get_batch_prediction_job(name=batch_job_id)"
   ]
  },
  {
   "cell_type": "markdown",
   "metadata": {
    "id": "sXVZTJyUDdiM"
   },
   "source": [
    "#### 回复"
   ]
  },
  {
   "cell_type": "code",
   "execution_count": null,
   "metadata": {
    "id": "eeBVoWoADdiN"
   },
   "outputs": [],
   "source": [
    "print(MessageToJson(request.__dict__[\"_pb\"]))"
   ]
  },
  {
   "cell_type": "markdown",
   "metadata": {
    "id": "Iqyjp1jBPmBJ"
   },
   "source": [
    "*示例输出*：\n",
    "```\n",
    "{\n",
    "  \"name\": \"projects/116273516712/locations/us-central1/batchPredictionJobs/4770983263059574784\",\n",
    "  \"displayName\": \"happiness_20210226015238\",\n",
    "  \"model\": \"projects/116273516712/locations/us-central1/models/2369051733671280640\",\n",
    "  \"inputConfig\": {\n",
    "    \"instancesFormat\": \"jsonl\",\n",
    "    \"gcsSource\": {\n",
    "      \"uris\": [\n",
    "        \"gs://migration-ucaip-trainingaip-20210226015238/test.jsonl\"\n",
    "      ]\n",
    "    }\n",
    "  },\n",
    "  \"outputConfig\": {\n",
    "    \"predictionsFormat\": \"jsonl\",\n",
    "    \"gcsDestination\": {\n",
    "      \"outputUriPrefix\": \"gs://migration-ucaip-trainingaip-20210226015238/batch_output/\"\n",
    "    }\n",
    "  },\n",
    "  \"state\": \"JOB_STATE_PENDING\",\n",
    "  \"completionStats\": {\n",
    "    \"incompleteCount\": \"-1\"\n",
    "  },\n",
    "  \"createTime\": \"2021-02-26T09:37:44.471843Z\",\n",
    "  \"updateTime\": \"2021-02-26T09:37:44.471843Z\"\n",
    "}\n",
    "```"
   ]
  },
  {
   "cell_type": "code",
   "execution_count": null,
   "metadata": {
    "id": "batchpredictionjobs_get:migration,new,wait"
   },
   "outputs": [],
   "source": [
    "def get_latest_predictions(gcs_out_dir):\n",
    "    \"\"\" Get the latest prediction subfolder using the timestamp in the subfolder name\"\"\"\n",
    "    folders = !gsutil ls $gcs_out_dir\n",
    "    latest = \"\"\n",
    "    for folder in folders:\n",
    "        subfolder = folder.split(\"/\")[-2]\n",
    "        if subfolder.startswith(\"prediction-\"):\n",
    "            if subfolder > latest:\n",
    "                latest = folder[:-1]\n",
    "    return latest\n",
    "\n",
    "\n",
    "while True:\n",
    "    response = clients[\"job\"].get_batch_prediction_job(name=batch_job_id)\n",
    "    if response.state != aip.JobState.JOB_STATE_SUCCEEDED:\n",
    "        print(\"The job has not completed:\", response.state)\n",
    "        if response.state == aip.JobState.JOB_STATE_FAILED:\n",
    "            break\n",
    "    else:\n",
    "        folder = get_latest_predictions(\n",
    "            response.output_config.gcs_destination.output_uri_prefix\n",
    "        )\n",
    "        ! gsutil ls $folder/prediction*.jsonl\n",
    "\n",
    "        ! gsutil cat $folder/prediction*.jsonl\n",
    "        break\n",
    "    time.sleep(60)"
   ]
  },
  {
   "cell_type": "markdown",
   "metadata": {
    "id": "u3A8vXPAPmBK"
   },
   "source": [
    "示例输出：\n",
    "```\n",
    "gs://migration-ucaip-trainingaip-20210226015238/batch_output/prediction-happiness_20210226015238-2021-02-26T09:37:44.261133Z/predictions_00001.jsonl\n",
    "{\"instance\":{\"content\":\"gs://migration-ucaip-trainingaip-20210226015238/test.txt\",\"mimeType\":\"text/plain\"},\"prediction\":{\"ids\":[\"8446203133482237952\",\"3834517115054850048\",\"1528674105841156096\",\"5563899371965120512\",\"952213353537732608\",\"3258056362751426560\",\"6140360124268544000\"],\"displayNames\":[\"affection\",\"bonding\",\"achievement\",\"enjoy_the_moment\",\"exercise\",\"leisure\",\"nature\"],\"confidences\":[0.9183423,0.045685068,0.024327256,0.0057157497,0.0040851077,0.0012627868,5.8173126E-4]}}\n",
    "```"
   ]
  },
  {
   "cell_type": "markdown",
   "metadata": {
    "id": "k0vH7elnDdiN"
   },
   "source": [
    "进行在线预测"
   ]
  },
  {
   "cell_type": "markdown",
   "metadata": {
    "id": "COwVZtxhJjkW"
   },
   "source": [
    "### [projects.locations.endpoints.create](https://cloud.google.com/vertex-ai/docs/reference/rest/v1beta1/projects.locations.endpoints/create)\n",
    "\n",
    "### [projects.locations.endpoints.create](https://cloud.google.com/vertex-ai/docs/reference/rest/v1beta1/projects.locations.endpoints/create)"
   ]
  },
  {
   "cell_type": "markdown",
   "metadata": {
    "id": "QjWCFUQADdiO"
   },
   "source": [
    "请示"
   ]
  },
  {
   "cell_type": "code",
   "execution_count": null,
   "metadata": {
    "id": "ZGavOazTDdiO"
   },
   "outputs": [],
   "source": [
    "endpoint = {\"display_name\": \"happiness_\" + TIMESTAMP}\n",
    "\n",
    "print(\n",
    "    MessageToJson(\n",
    "        aip.CreateEndpointRequest(parent=PARENT, endpoint=endpoint).__dict__[\"_pb\"]\n",
    "    )\n",
    ")"
   ]
  },
  {
   "cell_type": "markdown",
   "metadata": {
    "id": "HcwQyxKWPmBM"
   },
   "source": [
    "{\n",
    "  \"parent\": \"projects/migration-ucaip-training/locations/us-central1\",\n",
    "  \"endpoint\": {\n",
    "    \"displayName\": \"幸福_20210226015238\"\n",
    "  }\n",
    "}"
   ]
  },
  {
   "cell_type": "markdown",
   "metadata": {
    "id": "mLlY_jczDdiO"
   },
   "source": [
    "#### 电话"
   ]
  },
  {
   "cell_type": "code",
   "execution_count": null,
   "metadata": {
    "id": "_aEAOrzODdiO"
   },
   "outputs": [],
   "source": [
    "request = clients[\"endpoint\"].create_endpoint(parent=PARENT, endpoint=endpoint)"
   ]
  },
  {
   "cell_type": "markdown",
   "metadata": {
    "id": "OG-RyJFeDdiP"
   },
   "source": [
    "#### 回复"
   ]
  },
  {
   "cell_type": "code",
   "execution_count": null,
   "metadata": {
    "id": "p1Q2ZqOvDdiP"
   },
   "outputs": [],
   "source": [
    "result = request.result()\n",
    "\n",
    "print(MessageToJson(result.__dict__[\"_pb\"]))"
   ]
  },
  {
   "cell_type": "markdown",
   "metadata": {
    "id": "Acb1LDrBPmBN"
   },
   "source": [
    "{\n",
    "  \"name\": \"projects/116273516712/locations/us-central1/endpoints/7367713068517687296\"\n",
    "}\n",
    "```\n",
    "\n",
    "中文翻译：\n",
    "```\n",
    "{\n",
    "  \"name\": \"projects/116273516712/locations/us-central1/endpoints/7367713068517687296\"\n",
    "}\n",
    "```"
   ]
  },
  {
   "cell_type": "code",
   "execution_count": null,
   "metadata": {
    "id": "KcBsnK1vPmBN"
   },
   "outputs": [],
   "source": [
    "# The fully qualified ID for the endpoint\n",
    "endpoint_id = result.name\n",
    "# The short numeric ID for the endpoint\n",
    "endpoint_short_id = endpoint_id.split(\"/\")[-1]\n",
    "\n",
    "print(endpoint_id)"
   ]
  },
  {
   "cell_type": "markdown",
   "metadata": {
    "id": "gpnVJS3AJjkW"
   },
   "source": [
    "### [projects.locations.endpoints.deployModel](https://cloud.google.com/vertex-ai/docs/reference/rest/v1beta1/projects.locations.endpoints/deployModel)\n",
    "\n",
    "### [projects.locations.endpoints.deployModel](https://cloud.google.com/vertex-ai/docs/reference/rest/v1beta1/projects.locations.endpoints/deployModel)"
   ]
  },
  {
   "cell_type": "markdown",
   "metadata": {
    "id": "NuN8rVoMDdiP"
   },
   "source": [
    "#### 请求"
   ]
  },
  {
   "cell_type": "code",
   "execution_count": null,
   "metadata": {
    "id": "T8MSMXljDdiP"
   },
   "outputs": [],
   "source": [
    "deployed_model = {\n",
    "    \"model\": model_id,\n",
    "    \"display_name\": \"happiness_\" + TIMESTAMP,\n",
    "    \"automatic_resources\": {\"min_replica_count\": 1, \"max_replica_count\": 1},\n",
    "}\n",
    "\n",
    "traffic_split = {\"0\": 100}\n",
    "\n",
    "print(\n",
    "    MessageToJson(\n",
    "        aip.DeployModelRequest(\n",
    "            endpoint=endpoint_id,\n",
    "            deployed_model=deployed_model,\n",
    "            traffic_split=traffic_split,\n",
    "        ).__dict__[\"_pb\"]\n",
    "    )\n",
    ")"
   ]
  },
  {
   "cell_type": "markdown",
   "metadata": {
    "id": "gwh7ujzbPmBO"
   },
   "source": [
    "{\n",
    "  \"端点\": \"projects/116273516712/locations/us-central1/endpoints/7367713068517687296\",\n",
    "  \"已部署模型\": {\n",
    "    \"模型\": \"projects/116273516712/locations/us-central1/models/2369051733671280640\",\n",
    "    \"显示名称\": \"happiness_20210226015238\",\n",
    "    \"自动资源\": {\n",
    "      \"最小复制品数量\": 1,\n",
    "      \"最大复制品数量\": 1\n",
    "    }\n",
    "  },\n",
    "  \"流量分流\": {\n",
    "    \"0\": 100\n",
    "  }\n",
    "}\n",
    "```"
   ]
  },
  {
   "cell_type": "markdown",
   "metadata": {
    "id": "Dh-h_nBZDdiQ"
   },
   "source": [
    "#### 呼叫"
   ]
  },
  {
   "cell_type": "code",
   "execution_count": null,
   "metadata": {
    "id": "wZVvs9ixDdiQ"
   },
   "outputs": [],
   "source": [
    "request = clients[\"endpoint\"].deploy_model(\n",
    "    endpoint=endpoint_id, deployed_model=deployed_model, traffic_split=traffic_split\n",
    ")"
   ]
  },
  {
   "cell_type": "markdown",
   "metadata": {
    "id": "pu8ZfuUGDdiQ"
   },
   "source": [
    "#### 回應"
   ]
  },
  {
   "cell_type": "code",
   "execution_count": null,
   "metadata": {
    "id": "o1TLdECDDdiQ"
   },
   "outputs": [],
   "source": [
    "result = request.result()\n",
    "\n",
    "print(MessageToJson(result.__dict__[\"_pb\"]))"
   ]
  },
  {
   "cell_type": "markdown",
   "metadata": {
    "id": "5D0-_Md8PmBP"
   },
   "source": [
    "{\n",
    "  \"部署的模型\": {\n",
    "    \"id\": \"418518105996656640\"\n",
    "  }\n",
    "}"
   ]
  },
  {
   "cell_type": "code",
   "execution_count": null,
   "metadata": {
    "id": "deployed_model_id:migration,new,response"
   },
   "outputs": [],
   "source": [
    "# The unique ID for the deployed model\n",
    "deployed_model_id = result.deployed_model.id\n",
    "\n",
    "print(deployed_model_id)"
   ]
  },
  {
   "cell_type": "markdown",
   "metadata": {
    "id": "I-IV01LtDdiQ"
   },
   "source": [
    "### [projects.locations.endpoints.predict](https://cloud.google.com/vertex-ai/docs/reference/rest/v1beta1/projects.locations.endpoints/predict)\n",
    "\n",
    "### [projects.locations.endpoints.predict](https://cloud.google.com/vertex-ai/docs/reference/rest/v1beta1/projects.locations.endpoints/predict)"
   ]
  },
  {
   "cell_type": "markdown",
   "metadata": {
    "id": "LcBcyGWEDdiQ"
   },
   "source": [
    "#### 请求"
   ]
  },
  {
   "cell_type": "code",
   "execution_count": null,
   "metadata": {
    "id": "LhRgG10QDdiR"
   },
   "outputs": [],
   "source": [
    "test_item = ! gsutil cat $IMPORT_FILE | head -n1\n",
    "test_item, test_label = str(test_item[0]).split(\",\")\n",
    "\n",
    "instances_list = [{\"content\": test_item}]\n",
    "instances = [json_format.ParseDict(s, Value()) for s in instances_list]\n",
    "\n",
    "request = aip.PredictRequest(\n",
    "    endpoint=endpoint_id,\n",
    ")\n",
    "request.instances.append(instances)\n",
    "\n",
    "print(MessageToJson(request.__dict__[\"_pb\"]))"
   ]
  },
  {
   "cell_type": "markdown",
   "metadata": {
    "id": "gpDpf_bqPmBR"
   },
   "source": [
    "*示例输出*：\n",
    "```\n",
    "{\n",
    "  \"endpoint\": \"projects/116273516712/locations/us-central1/endpoints/7367713068517687296\",\n",
    "  \"instances\": [\n",
    "    [\n",
    "      {\n",
    "        \"content\": \"我和一个我感到同情和连接的人成功约会了。\"\n",
    "      }\n",
    "    ]\n",
    "  ]\n",
    "}\n",
    "```"
   ]
  },
  {
   "cell_type": "markdown",
   "metadata": {
    "id": "B59s9eGxDdiR"
   },
   "source": [
    "电话"
   ]
  },
  {
   "cell_type": "code",
   "execution_count": null,
   "metadata": {
    "id": "6QSF5K1ZDdiR"
   },
   "outputs": [],
   "source": [
    "request = clients[\"prediction\"].predict(endpoint=endpoint_id, instances=instances)"
   ]
  },
  {
   "cell_type": "markdown",
   "metadata": {
    "id": "ePJm-GgbDdiR"
   },
   "source": [
    "回复"
   ]
  },
  {
   "cell_type": "code",
   "execution_count": null,
   "metadata": {
    "id": "yeGeRM-UDdiR"
   },
   "outputs": [],
   "source": [
    "print(MessageToJson(request.__dict__[\"_pb\"]))"
   ]
  },
  {
   "cell_type": "markdown",
   "metadata": {
    "id": "_3qjhEU4PmBS"
   },
   "source": [
    "```\n",
    "{\n",
    "  \"predictions\": [\n",
    "    {\n",
    "      \"confidences\": [\n",
    "        0.8867673277854919,\n",
    "        0.024743923917412758,\n",
    "        0.0034913308918476105,\n",
    "        0.07936617732048035,\n",
    "        0.0013463868526741862,\n",
    "        0.0002393187169218436,\n",
    "        0.0040455833077430725\n",
    "      ],\n",
    "      \"displayNames\": [\n",
    "        \"喜爱\",\n",
    "        \"成就\",\n",
    "        \"享受当下\",\n",
    "        \"联系\",\n",
    "        \"休闲\",\n",
    "        \"大自然\",\n",
    "        \"锻炼\"\n",
    "      ],\n",
    "      \"ids\": [\n",
    "        \"8446203133482237952\",\n",
    "        \"1528674105841156096\",\n",
    "        \"5563899371965120512\",\n",
    "        \"3834517115054850048\",\n",
    "        \"3258056362751426560\",\n",
    "        \"6140360124268544000\",\n",
    "        \"952213353537732608\"\n",
    "      ]\n",
    "    }\n",
    "  ],\n",
    "  \"deployedModelId\": \"418518105996656640\"\n",
    "}\n",
    "```"
   ]
  },
  {
   "cell_type": "markdown",
   "metadata": {
    "id": "endpoints_undeploymodel:migration,new"
   },
   "source": [
    "### [projects.locations.endpoints.undeployModel] (https://cloud.google.com/vertex-ai/docs/reference/rest/v1beta1/projects.locations.endpoints/undeployModel)\n",
    "\n",
    "### [项目.位置.端点.卸载模型] (https://cloud.google.com/vertex-ai/docs/reference/rest/v1beta1/projects.locations.endpoints/undeployModel)"
   ]
  },
  {
   "cell_type": "markdown",
   "metadata": {
    "id": "call:migration"
   },
   "source": [
    "电话"
   ]
  },
  {
   "cell_type": "code",
   "execution_count": null,
   "metadata": {
    "id": "endpoints_undeploymodel:migration,new,call"
   },
   "outputs": [],
   "source": [
    "request = clients[\"endpoint\"].undeploy_model(\n",
    "    endpoint=endpoint_id, deployed_model_id=deployed_model_id, traffic_split={}\n",
    ")"
   ]
  },
  {
   "cell_type": "markdown",
   "metadata": {
    "id": "response:migration"
   },
   "source": [
    "####回复"
   ]
  },
  {
   "cell_type": "code",
   "execution_count": null,
   "metadata": {
    "id": "print:migration,new,response"
   },
   "outputs": [],
   "source": [
    "result = request.result()\n",
    "\n",
    "print(MessageToJson(result.__dict__[\"_pb\"]))"
   ]
  },
  {
   "cell_type": "markdown",
   "metadata": {
    "id": "21vUY8uePmBU"
   },
   "source": [
    "*示例输出*：\n",
    "```\n",
    "{}\n",
    "```"
   ]
  },
  {
   "cell_type": "markdown",
   "metadata": {
    "id": "bQ-VVaSxJjkd"
   },
   "source": [
    "清理\n",
    "\n",
    "要清理此项目中使用的所有GCP资源，您可以删除用于本教程的[GCP项目](https://cloud.google.com/resource-manager/docs/creating-managing-projects#shutting_down_projects)。\n",
    "\n",
    "否则，您可以删除在本教程中创建的各个资源。"
   ]
  },
  {
   "cell_type": "code",
   "execution_count": null,
   "metadata": {
    "id": "SyXHVpimDdiS"
   },
   "outputs": [],
   "source": [
    "delete_dataset = True\n",
    "delete_model = True\n",
    "delete_endpoint = True\n",
    "delete_pipeline = True\n",
    "delete_batchjob = True\n",
    "delete_bucket = True\n",
    "\n",
    "# Delete the dataset using the Vertex AI fully qualified identifier for the dataset\n",
    "try:\n",
    "    if delete_dataset:\n",
    "        clients[\"dataset\"].delete_dataset(name=dataset_id)\n",
    "except Exception as e:\n",
    "    print(e)\n",
    "\n",
    "# Delete the model using the Vertex AI fully qualified identifier for the model\n",
    "try:\n",
    "    if delete_model:\n",
    "        clients[\"model\"].delete_model(name=model_id)\n",
    "except Exception as e:\n",
    "    print(e)\n",
    "\n",
    "# Delete the endpoint using the Vertex AI fully qualified identifier for the endpoint\n",
    "try:\n",
    "    if delete_endpoint:\n",
    "        clients[\"endpoint\"].delete_endpoint(name=endpoint_id)\n",
    "except Exception as e:\n",
    "    print(e)\n",
    "\n",
    "# Delete the training pipeline using the Vertex AI fully qualified identifier for the training pipeline\n",
    "try:\n",
    "    if delete_pipeline:\n",
    "        clients[\"pipeline\"].delete_training_pipeline(name=training_pipeline_id)\n",
    "except Exception as e:\n",
    "    print(e)\n",
    "\n",
    "# Delete the batch job using the Vertex AI fully qualified identifier for the batch job\n",
    "try:\n",
    "    if delete_batchjob:\n",
    "        clients[\"job\"].delete_batch_prediction_job(name=batch_job_id)\n",
    "except Exception as e:\n",
    "    print(e)\n",
    "\n",
    "if delete_bucket and \"BUCKET_NAME\" in globals():\n",
    "    ! gsutil rm -r gs://$BUCKET_NAME"
   ]
  }
 ],
 "metadata": {
  "colab": {
   "collapsed_sections": [
    "0yDWDaKwF48e",
    "MDUAZaN3JjkL",
    "hIHTX-pkJjkO",
    "4x_t-MWnJjkQ"
   ],
   "name": "UJ6 unified AutoML for natural language with Vertex AI Text Classification.ipynb",
   "toc_visible": true
  },
  "kernelspec": {
   "display_name": "Python 3",
   "name": "python3"
  }
 },
 "nbformat": 4,
 "nbformat_minor": 0
}
