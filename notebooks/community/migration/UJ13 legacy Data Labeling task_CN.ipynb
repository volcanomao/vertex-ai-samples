{
 "cells": [
  {
   "cell_type": "code",
   "execution_count": null,
   "metadata": {
    "id": "copyright"
   },
   "outputs": [],
   "source": [
    "# Copyright 2021 Google LLC\n",
    "#\n",
    "# Licensed under the Apache License, Version 2.0 (the \"License\");\n",
    "# you may not use this file except in compliance with the License.\n",
    "# You may obtain a copy of the License at\n",
    "#\n",
    "#     https://www.apache.org/licenses/LICENSE-2.0\n",
    "#\n",
    "# Unless required by applicable law or agreed to in writing, software\n",
    "# distributed under the License is distributed on an \"AS IS\" BASIS,\n",
    "# WITHOUT WARRANTIES OR CONDITIONS OF ANY KIND, either express or implied.\n",
    "# See the License for the specific language governing permissions and\n",
    "# limitations under the License.\n"
   ]
  },
  {
   "cell_type": "markdown",
   "metadata": {
    "id": "title:migration,new"
   },
   "source": [
    "AutoML SDK：数据标签\n",
    "\n",
    "*免责声明*：本笔记本仅用于说明目的。"
   ]
  },
  {
   "cell_type": "markdown",
   "metadata": {
    "id": "install_aip"
   },
   "source": [
    "安装\n",
    "\n",
    "安装最新版本（预览版）的AutoML SDK。"
   ]
  },
  {
   "cell_type": "code",
   "execution_count": null,
   "metadata": {
    "id": "eGO6_2SExXiI"
   },
   "outputs": [],
   "source": [
    "! pip3 install -U google-cloud-automl --user\n"
   ]
  },
  {
   "cell_type": "code",
   "execution_count": null,
   "metadata": {},
   "outputs": [],
   "source": [
    "! pip3 install -U google-cloud-datalabeling --user\n"
   ]
  },
  {
   "cell_type": "markdown",
   "metadata": {
    "id": "install_storage"
   },
   "source": [
    "安装谷歌*云存储*库。"
   ]
  },
  {
   "cell_type": "code",
   "execution_count": null,
   "metadata": {
    "id": "G0bLTzVWxXiJ"
   },
   "outputs": [],
   "source": [
    "! pip3 install google-cloud-storage\n"
   ]
  },
  {
   "cell_type": "markdown",
   "metadata": {
    "id": "restart"
   },
   "source": [
    "重新启动内核\n",
    "\n",
    "安装了AutoML SDK和Google *cloud-storage*之后，您需要重新启动笔记本内核，以便它能找到这些包。"
   ]
  },
  {
   "cell_type": "code",
   "execution_count": null,
   "metadata": {
    "id": "33Uq-fKkxXiK"
   },
   "outputs": [],
   "source": [
    "import os\n",
    "\n",
    "\n",
    "if not os.getenv(\"AUTORUN\"):\n",
    "    # Automatically restart kernel after installs\n",
    "    import IPython\n",
    "    app = IPython.Application.instance()\n",
    "    app.kernel.do_shutdown(True)\n"
   ]
  },
  {
   "cell_type": "markdown",
   "metadata": {
    "id": "before_you_begin"
   },
   "source": [
    "## 开始之前\n",
    "\n",
    "### GPU 运行时\n",
    "\n",
    "*确保如果可以的话，请在 GPU 运行时中运行这个笔记本。在 Colab 中，选择* **运行时 > 更改运行时类型 > GPU**\n",
    "\n",
    "### 设置您的 GCP 项目\n",
    "\n",
    "**无论您的笔记本环境如何，以下步骤都是必需的。**\n",
    "\n",
    "1. [选择或创建一个 GCP 项目](https://console.cloud.google.com/cloud-resource-manager)。当您首次创建一个帐户时，您将获得 $300 的免费信用用于计算/存储费用。\n",
    "\n",
    "2. [确保为您的项目启用了计费。](https://cloud.google.com/billing/docs/how-to/modify-project)\n",
    "\n",
    "3. [启用 AutoML API 和 Compute Engine API。](https://console.cloud.google.com/flows/enableapi?apiid=ml.googleapis.com,compute_component)\n",
    "\n",
    "4. [Google Cloud SDK](https://cloud.google.com/sdk) 在 AutoML 笔记本中已经安装。\n",
    "\n",
    "5. 在下面的单元格中输入您的项目 ID。然后运行该单元格，确保 Cloud SDK 对这个笔记本中的所有命令使用正确的项目。\n",
    "\n",
    "**注意**：Jupyter 运行以 `!` 为前缀的行作为 shell 命令，并将以 `$` 为前缀的 Python 变量插入这些命令中。"
   ]
  },
  {
   "cell_type": "code",
   "execution_count": null,
   "metadata": {
    "id": "set_project_id"
   },
   "outputs": [],
   "source": [
    "PROJECT_ID = \"[your-project-id]\" #@param {type:\"string\"}\n"
   ]
  },
  {
   "cell_type": "code",
   "execution_count": null,
   "metadata": {
    "id": "autoset_project_id",
    "outputId": "2663b1ca-f6c6-43ed-c23b-654919cb200c"
   },
   "outputs": [],
   "source": [
    "if PROJECT_ID == \"\" or PROJECT_ID is None or PROJECT_ID == \"[your-project-id]\":\n",
    "    # Get your GCP project id from gcloud\n",
    "    shell_output = !gcloud config list --format 'value(core.project)' 2>/dev/null\n",
    "    PROJECT_ID = shell_output[0]\n",
    "    print(\"Project ID:\", PROJECT_ID)\n"
   ]
  },
  {
   "cell_type": "code",
   "execution_count": null,
   "metadata": {
    "id": "set_gcloud_project_id"
   },
   "outputs": [],
   "source": [
    "! gcloud config set project $PROJECT_ID\n"
   ]
  },
  {
   "cell_type": "markdown",
   "metadata": {
    "id": "region"
   },
   "source": [
    "#### 区域\n",
    "\n",
    "您还可以更改“REGION”变量，该变量在本笔记本的其余部分中使用。下面是AutoML支持的区域。我们建议尽可能选择离您最近的区域。\n",
    "\n",
    "- 美洲：`us-central1`\n",
    "- 欧洲：`europe-west4`\n",
    "- 亚太地区：`asia-east1`\n",
    "\n",
    "您不能使用多区域存储桶进行AutoML训练。并非所有区域都支持所有AutoML服务。有关每个区域最新的支持，请参阅[AutoML服务的区域支持]()。"
   ]
  },
  {
   "cell_type": "code",
   "execution_count": null,
   "metadata": {
    "id": "_eH8WcWTxXiM"
   },
   "outputs": [],
   "source": [
    "REGION = 'us-central1' #@param {type: \"string\"}\n"
   ]
  },
  {
   "cell_type": "markdown",
   "metadata": {
    "id": "timestamp"
   },
   "source": [
    "时间戳\n",
    "\n",
    "如果您正在进行实时教程会话，您可能正在使用共享的测试账号或项目。为了避免用户在创建资源时发生名称冲突，您为每个实例会话创建一个时间戳，并将其附加到在本教程中将要创建的资源的名称中。"
   ]
  },
  {
   "cell_type": "code",
   "execution_count": null,
   "metadata": {
    "id": "NoqPBceExXiM"
   },
   "outputs": [],
   "source": [
    "from datetime import datetime\n",
    "\n",
    "\n",
    "TIMESTAMP = datetime.now().strftime(\"%Y%m%d%H%M%S\")\n"
   ]
  },
  {
   "cell_type": "markdown",
   "metadata": {
    "id": "gcp_authenticate"
   },
   "source": [
    "### 验证您的GCP账户\n",
    "\n",
    "**如果您正在使用AutoML笔记本**，您的环境已经被验证过。请跳过这一步。\n",
    "\n",
    "*注意：如果您在AutoML笔记本上运行单元格，该单元格会自动跳过执行验证步骤。*"
   ]
  },
  {
   "cell_type": "code",
   "execution_count": null,
   "metadata": {
    "id": "6aUuFIftxXiN"
   },
   "outputs": [],
   "source": [
    "import os\n",
    "import sys\n",
    "\n",
    "# If you are running this notebook in Colab, run this cell and follow the\n",
    "# instructions to authenticate your Google Cloud account. This provides access\n",
    "# to your Cloud Storage bucket and lets you submit training jobs and prediction\n",
    "# requests.\n",
    "\n",
    "# If on AutoML, then don't execute this code\n",
    "if not os.path.exists('/opt/deeplearning/metadata/env_version'):\n",
    "    if 'google.colab' in sys.modules:\n",
    "        from google.colab import auth as google_auth\n",
    "        google_auth.authenticate_user()\n",
    "\n",
    "    # If you are running this tutorial in a notebook locally, replace the string\n",
    "    # below with the path to your service account key and run this cell to\n",
    "    # authenticate your Google Cloud account.\n",
    "    else:\n",
    "        %env GOOGLE_APPLICATION_CREDENTIALS your_path_to_credentials.json\n",
    "\n",
    "    # Log in to your account on Google Cloud\n",
    "    ! gcloud auth login\n"
   ]
  },
  {
   "cell_type": "markdown",
   "metadata": {
    "id": "bucket:batch_prediction"
   },
   "source": [
    "### 创建一个云存储桶\n",
    "\n",
    "**无论您使用的笔记本环境如何，都需要按照以下步骤进行操作。**\n",
    "\n",
    "本教程旨在使用公共云存储桶中的训练数据以及本地云存储桶进行批量预测。您也可以选择使用您自己存储在本地云存储桶中的训练数据。\n",
    "\n",
    "在下方设置您的云存储桶的名称。它必须在所有云存储桶中保持唯一。"
   ]
  },
  {
   "cell_type": "code",
   "execution_count": null,
   "metadata": {
    "id": "bucket"
   },
   "outputs": [],
   "source": [
    "BUCKET_NAME = \"[your-bucket-name]\" #@param {type:\"string\"}\n"
   ]
  },
  {
   "cell_type": "code",
   "execution_count": null,
   "metadata": {
    "id": "autoset_bucket"
   },
   "outputs": [],
   "source": [
    "if BUCKET_NAME == \"\" or BUCKET_NAME is None or BUCKET_NAME == \"[your-bucket-name]\":\n",
    "    BUCKET_NAME = PROJECT_ID + \"aip-\" + TIMESTAMP\n"
   ]
  },
  {
   "cell_type": "markdown",
   "metadata": {
    "id": "create_bucket"
   },
   "source": [
    "只有当您的存储桶不存在时：运行以下单元格以创建您的云存储桶。"
   ]
  },
  {
   "cell_type": "code",
   "execution_count": null,
   "metadata": {
    "id": "-8qURIGmxXiO",
    "outputId": "e887810d-a0fd-4063-d636-20313733b955"
   },
   "outputs": [],
   "source": [
    "! gsutil mb -l $REGION gs://$BUCKET_NAME\n"
   ]
  },
  {
   "cell_type": "markdown",
   "metadata": {
    "id": "validate_bucket"
   },
   "source": [
    "最后，通过查看云存储桶中的内容来验证对其的访问权限："
   ]
  },
  {
   "cell_type": "code",
   "execution_count": null,
   "metadata": {
    "id": "t_65JAARxXiP"
   },
   "outputs": [],
   "source": [
    "! gsutil ls -al gs://$BUCKET_NAME\n"
   ]
  },
  {
   "cell_type": "markdown",
   "metadata": {
    "id": "setup_vars"
   },
   "source": [
    "### 设置变量\n",
    "\n",
    "接下来，设置一些在教程中使用的变量。\n",
    "### 导入库并定义常量"
   ]
  },
  {
   "cell_type": "markdown",
   "metadata": {
    "id": "import_aip"
   },
   "source": [
    "导入AutoML SDK\n",
    "\n",
    "将AutoML SDK导入我们的Python环境。"
   ]
  },
  {
   "cell_type": "code",
   "execution_count": null,
   "metadata": {
    "id": "P8L1tKAexXiQ"
   },
   "outputs": [],
   "source": [
    "import json\n",
    "import os\n",
    "import sys\n",
    "import time\n",
    "\n",
    "\n",
    "from google.cloud import automl\n",
    "from google.cloud import datalabeling_v1beta1 as datalabeling\n",
    "\n",
    "\n",
    "from google.protobuf.json_format import MessageToJson\n",
    "from google.protobuf.json_format import ParseDict\n",
    "from googleapiclient.discovery import build\n"
   ]
  },
  {
   "cell_type": "markdown",
   "metadata": {
    "id": "aip_constants"
   },
   "source": [
    "#### AutoML 常量\n",
    "\n",
    "为AutoML设置以下常量：\n",
    "\n",
    "- `PARENT`：数据集、模型和端点资源的AutoML位置根路径。"
   ]
  },
  {
   "cell_type": "code",
   "execution_count": null,
   "metadata": {
    "id": "rG1L9BEzxXiR"
   },
   "outputs": [],
   "source": [
    "# AutoML location root path for your dataset, model and endpoint resources\n",
    "PARENT = \"projects/\" + PROJECT_ID + \"/locations/\" + REGION\n"
   ]
  },
  {
   "cell_type": "markdown",
   "metadata": {
    "id": "clients"
   },
   "source": [
    "客户端\n",
    "\n",
    "AutoML SDK 以客户端/服务器模型运行。在您的一侧（Python 脚本）中，您将创建一个客户端，向服务器（AutoML）发送请求并接收响应。\n",
    "\n",
    "在本教程中，您将使用多个客户端，因此请提前设置它们。"
   ]
  },
  {
   "cell_type": "code",
   "execution_count": null,
   "metadata": {
    "id": "c3sR3OxmxXiR",
    "outputId": "5bc213e7-2df8-4aca-dbf8-f8d267e98d52"
   },
   "outputs": [],
   "source": [
    "def data_labeling_client():\n",
    "    return datalabeling.DataLabelingServiceClient()\n",
    "\n",
    "\n",
    "def operations_client():\n",
    "    return datalabeling.DataLabelingServiceClient()._transport.operations_client\n",
    "\n",
    "\n",
    "clients = {}\n",
    "clients[\"labeling\"] = data_labeling_client()\n",
    "clients[\"operations\"] = operations_client()\n",
    "\n",
    "for client in clients.items():\n",
    "    print(client)\n"
   ]
  },
  {
   "cell_type": "code",
   "execution_count": null,
   "metadata": {
    "id": "import_file:flowers,csv,icn"
   },
   "outputs": [],
   "source": [
    "import tensorflow as tf\n",
    "\n",
    "\n",
    "LABELING_FILES = [\n",
    "    \"https://raw.githubusercontent.com/googleapis/python-aiplatform/master/samples/snippets/resources/daisy.jpg\"\n",
    "]\n",
    "\n",
    "IMPORT_FILE = \"gs://\" + BUCKET_NAME + '/labeling.csv'\n",
    "with tf.io.gfile.GFile(IMPORT_FILE, 'w') as f:\n",
    "    for lf in LABELING_FILES:\n",
    "        ! wget {lf} | gsutil cp {lf.split(\"/\")[-1]} gs://{BUCKET_NAME}\n",
    "        f.write(\"gs://\" + BUCKET_NAME + \"/\" + lf.split(\"/\")[-1] + \"\\n\")\n",
    "    "
   ]
  },
  {
   "cell_type": "code",
   "execution_count": null,
   "metadata": {
    "id": "cBgFrDD1_i__",
    "outputId": "73392b9a-b0b3-4713-f768-c1e0ae4c48fb"
   },
   "outputs": [],
   "source": [
    "! gsutil cat $IMPORT_FILE\n"
   ]
  },
  {
   "cell_type": "markdown",
   "metadata": {
    "id": "datasets_create:migration,new,request"
   },
   "source": [
    "以下是中文翻译：\n",
    "```\n",
    "gs://migration-ucaip-trainingaip-20210303171756/daisy.jpg\n",
    "```"
   ]
  },
  {
   "cell_type": "markdown",
   "metadata": {
    "id": "create_a_dataset:migration"
   },
   "source": [
    "创建一个数据集"
   ]
  },
  {
   "cell_type": "markdown",
   "metadata": {
    "id": "bkdu67d_xXiT"
   },
   "source": [
    "### [projects.locations.datasets.create](https://cloud.google.com/automl/docs/reference/rest/v1beta1/projects.locations.datasets/create)\n",
    "\n",
    "### [projects.locations.datasets.create](https://cloud.google.com/automl/docs/reference/rest/v1beta1/projects.locations.datasets/create)"
   ]
  },
  {
   "cell_type": "markdown",
   "metadata": {
    "id": "request:migration"
   },
   "source": [
    "#### 请求"
   ]
  },
  {
   "cell_type": "code",
   "execution_count": null,
   "metadata": {
    "id": "uTrBPMR5xXiU",
    "outputId": "8da73a34-a13f-4e1f-c8af-7f25338db142"
   },
   "outputs": [],
   "source": [
    "dataset = {\n",
    "    \"display_name\": \"labeling_\" + TIMESTAMP,\n",
    "    \"description\": \"labeling_\" + TIMESTAMP\n",
    "}\n",
    "\n",
    "print(MessageToJson(\n",
    "    datalabeling.CreateDatasetRequest(\n",
    "        parent=PARENT,\n",
    "        dataset=dataset,\n",
    "    ).__dict__[\"_pb\"])\n",
    ")\n"
   ]
  },
  {
   "cell_type": "markdown",
   "metadata": {
    "id": "jvhVeS_ExXiU"
   },
   "source": [
    "```\n",
    "{\n",
    "  \"parent\": \"projects/migration-ucaip-training/locations/us-central1\",\n",
    "  \"dataset\": {\n",
    "    \"displayName\": \"labeling_20210303171756\",\n",
    "    \"description\": \"labeling_20210303171756\"\n",
    "  }\n",
    "}\n",
    "```\n",
    "\n",
    "*示例输出*：\n",
    "```\n",
    "{\n",
    "  \"parent\": \"projects/migration-ucaip-training/locations/us-central1\",\n",
    "  \"dataset\": {\n",
    "    \"displayName\": \"labeling_20210303171756\",\n",
    "    \"description\": \"labeling_20210303171756\"\n",
    "  }\n",
    "}\n",
    "```"
   ]
  },
  {
   "cell_type": "markdown",
   "metadata": {
    "id": "call:migration"
   },
   "source": [
    "#### 电话"
   ]
  },
  {
   "cell_type": "code",
   "execution_count": null,
   "metadata": {
    "id": "datasets_create:migration,new,call"
   },
   "outputs": [],
   "source": [
    "request = clients[\"labeling\"].create_dataset(\n",
    "    parent=PARENT,\n",
    "    dataset=dataset\n",
    ")\n"
   ]
  },
  {
   "cell_type": "markdown",
   "metadata": {
    "id": "response:migration"
   },
   "source": [
    "#### 回复"
   ]
  },
  {
   "cell_type": "code",
   "execution_count": null,
   "metadata": {
    "id": "print:migration,new,response",
    "outputId": "addad607-2542-45c2-d1b1-5ca7aa1d5d0c"
   },
   "outputs": [],
   "source": [
    "print(MessageToJson(request.__dict__[\"_pb\"]))\n"
   ]
  },
  {
   "cell_type": "markdown",
   "metadata": {
    "id": "datasets_create:migration,new,response"
   },
   "source": [
    "*Example output*：\n",
    "```\n",
    "{\n",
    "  \"name\": \"projects/migration-ucaip-training/datasets/60401f09_0000_2cac_bcb5_3c286d3b27b6\",\n",
    "  \"displayName\": \"labeling_20210303171756\",\n",
    "  \"description\": \"labeling_20210303171756\",\n",
    "  \"createTime\": \"2021-03-04T13:13:20.227435060Z\"\n",
    "}\n",
    "```"
   ]
  },
  {
   "cell_type": "code",
   "execution_count": null,
   "metadata": {
    "id": "dataset_id:migration,new,response",
    "outputId": "d201ed62-717f-4798-9006-a299684d4bf5"
   },
   "outputs": [],
   "source": [
    "# The full unique ID for the dataset\n",
    "dataset_id = request.name\n",
    "# The short numeric ID for the dataset\n",
    "dataset_short_id = dataset_id.split('/')[-1]\n",
    "\n",
    "print(dataset_id)\n",
    "\n"
   ]
  },
  {
   "cell_type": "markdown",
   "metadata": {
    "id": "qHWi_CMnxXiV"
   },
   "source": [
    "### [projects.locations.datasets.importData](https://cloud.google.com/automl/docs/reference/rest/v1beta1/projects.locations.datasets/importData) \n",
    "\n",
    "### [项目.位置.数据集.导入数据](https://cloud.google.com/automl/docs/reference/rest/v1beta1/projects.locations.datasets/importData)"
   ]
  },
  {
   "cell_type": "markdown",
   "metadata": {
    "id": "py-0niVqxXiW"
   },
   "source": [
    "#### 请求"
   ]
  },
  {
   "cell_type": "code",
   "execution_count": null,
   "metadata": {
    "id": "datasets_import:migration,new,request",
    "outputId": "83bf0203-7782-42e8-ab78-a23eb1679561"
   },
   "outputs": [],
   "source": [
    "input_config = {\n",
    "    \"data_type\": \"IMAGE\",\n",
    "    \"gcs_source\": {\n",
    "        \"input_uri\": IMPORT_FILE, \n",
    "        \"mime_type\": \"text/csv\"\n",
    "    }\n",
    "}\n",
    "\n",
    "print(MessageToJson(\n",
    "    datalabeling.ImportDataRequest(\n",
    "        name=dataset_id,\n",
    "        input_config=input_config\n",
    "    ).__dict__[\"_pb\"])\n",
    ")\n"
   ]
  },
  {
   "cell_type": "markdown",
   "metadata": {
    "id": "cxbp1cGzxXiW"
   },
   "source": [
    "示例输出:\n",
    "```\n",
    "{\n",
    "  \"name\": \"projects/migration-ucaip-training/datasets/60401f09_0000_2cac_bcb5_3c286d3b27b6\",\n",
    "  \"inputConfig\": {\n",
    "    \"dataType\": \"IMAGE\",\n",
    "    \"gcsSource\": {\n",
    "      \"inputUri\": \"gs://migration-ucaip-trainingaip-20210303171756/labeling.csv\",\n",
    "      \"mimeType\": \"text/csv\"\n",
    "    }\n",
    "  }\n",
    "}\n",
    "```"
   ]
  },
  {
   "cell_type": "markdown",
   "metadata": {
    "id": "v8kGJFwYxXiW"
   },
   "source": [
    "电话"
   ]
  },
  {
   "cell_type": "code",
   "execution_count": null,
   "metadata": {
    "id": "datasets_import:migration,new,call"
   },
   "outputs": [],
   "source": [
    "request = clients[\"labeling\"].import_data(\n",
    "    name=dataset_id,\n",
    "    input_config=input_config\n",
    ")\n"
   ]
  },
  {
   "cell_type": "markdown",
   "metadata": {
    "id": "UxcyIvGLxXiW"
   },
   "source": [
    "Response 响应"
   ]
  },
  {
   "cell_type": "code",
   "execution_count": null,
   "metadata": {
    "id": "zXlYWLR7xXiX",
    "outputId": "d5740c78-a8db-4d69-84d7-72cf3b83cf87"
   },
   "outputs": [],
   "source": [
    "result = request.result()\n",
    "\n",
    "print(MessageToJson(result))\n"
   ]
  },
  {
   "cell_type": "markdown",
   "metadata": {
    "id": "datasets_import:migration,new,response"
   },
   "source": [
    "*示例输出*：\n",
    "```\n",
    "{}\n",
    "```"
   ]
  },
  {
   "cell_type": "markdown",
   "metadata": {
    "id": "train_a_model:migration"
   },
   "source": [
    "## 创建数据标注工作\n",
    "本节中的方法仅用于示例目的。"
   ]
  },
  {
   "cell_type": "markdown",
   "metadata": {},
   "source": [
    "### [projects.annotationSpecSets.create](https://cloud.google.com/ai-platform/data-labeling/docs/reference/rest/v1beta1/projects.annotationSpecSets/create)\n",
    "\n",
    "### [projects.annotationSpecSets.create](https://cloud.google.com/ai-platform/data-labeling/docs/reference/rest/v1beta1/projects.annotationSpecSets/create)"
   ]
  },
  {
   "cell_type": "markdown",
   "metadata": {
    "id": "bytx9mM0xXiX"
   },
   "source": [
    "#### 请求"
   ]
  },
  {
   "cell_type": "code",
   "execution_count": null,
   "metadata": {},
   "outputs": [],
   "source": [
    "annotation_spec_set = {\n",
    "    \"display_name\": \"labeling_\" + TIMESTAMP,\n",
    "    \"description\": \"description\",\n",
    "    \"annotation_specs\": [\n",
    "        {\n",
    "            \"display_name\": \"rose\",\n",
    "            \"description\": \"rose description\"\n",
    "            \n",
    "        }\n",
    "    ]\n",
    "}\n",
    "\n",
    "print(MessageToJson(\n",
    "    datalabeling.CreateAnnotationSpecSetRequest(\n",
    "        parent=\"projects/\" + PROJECT_ID,\n",
    "        annotation_spec_set=annotation_spec_set\n",
    "    ).__dict__[\"_pb\"])\n",
    ")\n"
   ]
  },
  {
   "cell_type": "markdown",
   "metadata": {
    "id": "cxbp1cGzxXiW"
   },
   "source": [
    "*示例输出*：\n",
    "```\n",
    "{\n",
    "  \"parent\": \"projects/migration-ucaip-training\",\n",
    "  \"annotationSpecSet\": {\n",
    "    \"displayName\": \"labeling_20210303171756\",\n",
    "    \"description\": \"description\",\n",
    "    \"annotationSpecs\": [\n",
    "      {\n",
    "        \"displayName\": \"rose\",\n",
    "        \"description\": \"rose description\"\n",
    "      }\n",
    "    ]\n",
    "  }\n",
    "}\n",
    "```\n",
    "\n",
    "*示例输出*：\n",
    "```\n",
    "{\n",
    "  \"parent\": \"projects/migration-ucaip-training\",\n",
    "  \"annotationSpecSet\": {\n",
    "    \"displayName\": \"labeling_20210303171756\",\n",
    "    \"description\": \"description\",\n",
    "    \"annotationSpecs\": [\n",
    "      {\n",
    "        \"displayName\": \"rose\",\n",
    "        \"description\": \"rose description\"\n",
    "      }\n",
    "    ]\n",
    "  }\n",
    "}\n",
    "```"
   ]
  },
  {
   "cell_type": "markdown",
   "metadata": {
    "id": "cNNI6bjcxXiY"
   },
   "source": [
    "呼叫"
   ]
  },
  {
   "cell_type": "code",
   "execution_count": null,
   "metadata": {},
   "outputs": [],
   "source": [
    "request = clients[\"labeling\"].create_annotation_spec_set(\n",
    "    parent=\"projects/\" + PROJECT_ID,\n",
    "    annotation_spec_set=annotation_spec_set\n",
    ")\n"
   ]
  },
  {
   "cell_type": "markdown",
   "metadata": {
    "id": "UxcyIvGLxXiW"
   },
   "source": [
    "回应"
   ]
  },
  {
   "cell_type": "code",
   "execution_count": null,
   "metadata": {},
   "outputs": [],
   "source": [
    "print(MessageToJson(request.__dict__[\"_pb\"]))\n"
   ]
  },
  {
   "cell_type": "markdown",
   "metadata": {
    "id": "cxbp1cGzxXiW"
   },
   "source": [
    "{\n",
    "  \"name\": \"projects/migration-ucaip-training/annotationSpecSets/60401d46_0000_2c8d_aa13_883d24f7e3c8\",\n",
    "  \"displayName\": \"labeling_20210303171756\",\n",
    "  \"description\": \"description\",\n",
    "  \"annotationSpecs\": [\n",
    "    {\n",
    "      \"displayName\": \"rose\",\n",
    "      \"description\": \"rose description\"\n",
    "    }\n",
    "  ]\n",
    "}\n",
    "```\n",
    "\n",
    "{\n",
    "  \"name\": \"projects/migration-ucaip-training/annotationSpecSets/60401d46_0000_2c8d_aa13_883d24f7e3c8\",\n",
    "  \"displayName\": \"labeling_20210303171756\",\n",
    "  \"description\": \"description\",\n",
    "  \"annotationSpecs\": [\n",
    "    {\n",
    "      \"displayName\": \"rose\",\n",
    "      \"description\": \"rose description\"\n",
    "    }\n",
    "  ]\n",
    "}"
   ]
  },
  {
   "cell_type": "code",
   "execution_count": null,
   "metadata": {},
   "outputs": [],
   "source": [
    "annotation_spec_set_name = request.name\n",
    "\n",
    "print(annotation_spec_set_name)\n"
   ]
  },
  {
   "cell_type": "markdown",
   "metadata": {},
   "source": [
    "### [projects.instructions.create](https://cloud.google.com/ai-platform/data-labeling/docs/reference/rest/v1beta1/projects.instructions/create)\n",
    "\n",
    "### [项目.使用说明.创建](https://cloud.google.com/ai-platform/data-labeling/docs/reference/rest/v1beta1/projects.instructions/create)"
   ]
  },
  {
   "cell_type": "code",
   "execution_count": null,
   "metadata": {},
   "outputs": [],
   "source": [
    "# create placeholder file for valid PDF file with instruction for data labeling\n",
    "! echo \"this is instruction\" >> instruction.txt | gsutil cp instruction.txt gs://$BUCKET_NAME    \n"
   ]
  },
  {
   "cell_type": "markdown",
   "metadata": {
    "id": "bytx9mM0xXiX"
   },
   "source": [
    "#### 请求"
   ]
  },
  {
   "cell_type": "code",
   "execution_count": null,
   "metadata": {},
   "outputs": [],
   "source": [
    "INSTRUCTION_FILE = \"gs://\" + BUCKET_NAME + \"/instruction.txt\" \n",
    "\n",
    "instruction = {\n",
    "    \"display_name\": \"labeling_\" + TIMESTAMP,\n",
    "    \"description\": \"description\",\n",
    "    \"data_type\": \"IMAGE\",\n",
    "    \"pdf_instruction\": {\n",
    "        \"gcs_file_uri\": INSTRUCTION_FILE\n",
    "    }\n",
    "}\n",
    "\n",
    "print(MessageToJson(\n",
    "    datalabeling.CreateInstructionRequest(\n",
    "        parent=\"projects/\" + PROJECT_ID,\n",
    "        instruction=instruction\n",
    "    ).__dict__[\"_pb\"])\n",
    ")\n",
    "   "
   ]
  },
  {
   "cell_type": "markdown",
   "metadata": {
    "id": "cxbp1cGzxXiW"
   },
   "source": [
    "*示例输出*：\n",
    "```\n",
    "{\n",
    "  \"parent\": \"projects/migration-ucaip-training\",\n",
    "  \"instruction\": {\n",
    "    \"displayName\": \"labeling_20210303171756\",\n",
    "    \"description\": \"description\",\n",
    "    \"dataType\": \"IMAGE\",\n",
    "    \"pdfInstruction\": {\n",
    "      \"gcsFileUri\": \"gs://migration-ucaip-trainingaip-20210303171756/instruction.txt\"\n",
    "    }\n",
    "  }\n",
    "}\n",
    "``` \n",
    "\n",
    "*示例输出*：\n",
    "```\n",
    "{\n",
    "  \"parent\": \"projects/migration-ucaip-training\",\n",
    "  \"instruction\": {\n",
    "    \"displayName\": \"labeling_20210303171756\",\n",
    "    \"description\": \"description\",\n",
    "    \"dataType\": \"IMAGE\",\n",
    "    \"pdfInstruction\": {\n",
    "      \"gcsFileUri\": \"gs://migration-ucaip-trainingaip-20210303171756/instruction.txt\"\n",
    "    }\n",
    "  }\n",
    "}\n",
    "```"
   ]
  },
  {
   "cell_type": "markdown",
   "metadata": {
    "id": "cNNI6bjcxXiY"
   },
   "source": [
    "####电话"
   ]
  },
  {
   "cell_type": "code",
   "execution_count": null,
   "metadata": {},
   "outputs": [],
   "source": [
    "request = clients[\"labeling\"].create_instruction(\n",
    "    parent=\"projects/\" + PROJECT_ID,\n",
    "    instruction=instruction\n",
    ")\n"
   ]
  },
  {
   "cell_type": "markdown",
   "metadata": {
    "id": "UxcyIvGLxXiW"
   },
   "source": [
    "#### 回复"
   ]
  },
  {
   "cell_type": "code",
   "execution_count": null,
   "metadata": {},
   "outputs": [],
   "source": [
    "result = request.result()\n",
    "\n",
    "print(MessageToJson(result.__dict__[\"_pb\"]))\n"
   ]
  },
  {
   "cell_type": "markdown",
   "metadata": {
    "id": "cxbp1cGzxXiW"
   },
   "source": [
    "{\n",
    "  \"name\": \"projects/migration-ucaip-training/instructions/60401ef8_0000_2cac_bcb5_3c286d3b27b6\",\n",
    "  \"displayName\": \"labeling_20210303171756\",\n",
    "  \"description\": \"description\",\n",
    "  \"createTime\": \"1970-01-01T00:00:00Z\",\n",
    "  \"dataType\": \"IMAGE\",\n",
    "  \"pdfInstruction\": {\n",
    "    \"gcsFileUri\": \"gs://migration-ucaip-trainingaip-20210303171756/instruction.txt\"\n",
    "  }\n",
    "}  \n",
    "```\n",
    "将以上英文文本翻译为中文：\n",
    "```\n",
    "{\n",
    "  \"name\"：\"projects/migration-ucaip-training/instructions/60401ef8_0000_2cac_bcb5_3c286d3b27b6\",\n",
    "  \"displayName\"：\"labeling_20210303171756\",\n",
    "  \"description\"：\"description\",\n",
    "  \"createTime\"：\"1970-01-01T00:00:00Z\",\n",
    "  \"dataType\"：\"IMAGE\",\n",
    "  \"pdfInstruction\"：{\n",
    "    \"gcsFileUri\"：\"gs://migration-ucaip-trainingaip-20210303171756/instruction.txt\"\n",
    "  }\n",
    "}"
   ]
  },
  {
   "cell_type": "code",
   "execution_count": null,
   "metadata": {},
   "outputs": [],
   "source": [
    "instruction_name = result.name\n",
    "\n",
    "print(instruction_name)\n"
   ]
  },
  {
   "cell_type": "markdown",
   "metadata": {
    "id": "yfufMwAEJjkX"
   },
   "source": [
    "### [projects.datasets.image.label](https://cloud.google.com/ai-platform/data-labeling/docs/reference/rest/v1beta1/projects.datasets.image/label)\n",
    "\n",
    "### [项目.数据集.图片.标签](https://cloud.google.com/ai-platform/data-labeling/docs/reference/rest/v1beta1/projects.datasets.image/label)"
   ]
  },
  {
   "cell_type": "markdown",
   "metadata": {
    "id": "bytx9mM0xXiX"
   },
   "source": [
    "请求"
   ]
  },
  {
   "cell_type": "code",
   "execution_count": null,
   "metadata": {},
   "outputs": [],
   "source": [
    "EMAIL = \"dev@fourteen33.com\"\n",
    "\n",
    "basic_config = {\n",
    "    \"instruction\": instruction_name,\n",
    "    \"annotated_dataset_display_name\": \"labeling_\" + TIMESTAMP,\n",
    "    \"label_group\": \"rose\",\n",
    "    \"replica_count\":1,\n",
    "    \"contributor_emails\": [EMAIL]\n",
    "}\n",
    "\n",
    "feature = \"CLASSIFICATION\"\n",
    "\n",
    "config = {\n",
    "    \"annotation_spec_set\": annotation_spec_set_name,\n",
    "    \"allow_multi_label\": False,\n",
    "    \"answer_aggregation_type\": \"MAJORITY_VOTE\"\n",
    "}\n",
    "\n",
    "print(MessageToJson(\n",
    "    datalabeling.LabelImageRequest(\n",
    "        parent=dataset_id,\n",
    "        basic_config=basic_config,\n",
    "        feature=feature,\n",
    "        image_classification_config=config    \n",
    "    ).__dict__[\"_pb\"])\n",
    ")\n"
   ]
  },
  {
   "cell_type": "markdown",
   "metadata": {
    "id": "cxbp1cGzxXiW"
   },
   "source": [
    "*示例输出*：\n",
    "```\n",
    "{\n",
    "  \"parent\": \"projects/migration-ucaip-training/locations/us-central1/datasets/60401f09_0000_2cac_bcb5_3c286d3b27b6\",\n",
    "  \"basicConfig\": {\n",
    "    \"instruction\": \"projects/migration-ucaip-training/instructions/60401ef8_0000_2cac_bcb5_3c286d3b27b6\",\n",
    "    \"annotatedDatasetDisplayName\": \"labeling_20210303171756\",\n",
    "    \"labelGroup\": \"rose\",\n",
    "    \"replicaCount\": 1,\n",
    "    \"contributorEmails\": [\n",
    "      \"dev@fourteen33.com\"\n",
    "    ]\n",
    "  },\n",
    "  \"feature\": \"CLASSIFICATION\",\n",
    "  \"imageClassificationConfig\": {\n",
    "    \"annotationSpecSet\": \"projects/migration-ucaip-training/annotationSpecSets/60401d46_0000_2c8d_aa13_883d24f7e3c8\",\n",
    "    \"answerAggregationType\": \"MAJORITY_VOTE\"\n",
    "  }\n",
    "}\n",
    "```"
   ]
  },
  {
   "cell_type": "markdown",
   "metadata": {
    "id": "cNNI6bjcxXiY"
   },
   "source": [
    "电话"
   ]
  },
  {
   "cell_type": "code",
   "execution_count": null,
   "metadata": {},
   "outputs": [],
   "source": [
    "request = clients[\"labeling\"].label_image(\n",
    "    request={\n",
    "        \"parent\": dataset_id,\n",
    "        \"basic_config\": basic_config,\n",
    "        \"feature\": feature,\n",
    "        \"image_classification_config\": config\n",
    "    }\n",
    ")\n"
   ]
  },
  {
   "cell_type": "markdown",
   "metadata": {
    "id": "UxcyIvGLxXiW"
   },
   "source": [
    "回答"
   ]
  },
  {
   "cell_type": "code",
   "execution_count": null,
   "metadata": {},
   "outputs": [],
   "source": [
    "print(MessageToJson(request.__dict__[\"_pb\"]))\n"
   ]
  },
  {
   "cell_type": "markdown",
   "metadata": {
    "id": "cxbp1cGzxXiW"
   },
   "source": [
    "*例子输出*:"
   ]
  },
  {
   "cell_type": "code",
   "execution_count": null,
   "metadata": {},
   "outputs": [],
   "source": [
    "labeling_job_name = request.operation.name\n",
    "\n",
    "print(labeling_job_name)\n"
   ]
  },
  {
   "cell_type": "markdown",
   "metadata": {
    "id": "yfufMwAEJjkX"
   },
   "source": [
    "### [projects.operations.get](https://cloud.google.com/ai-platform/data-labeling/docs/reference/rest/v1beta1/projects.operations/get)\n",
    "\n",
    "### [projects.operations.get](https://cloud.google.com/ai-platform/data-labeling/docs/reference/rest/v1beta1/projects.operations/get)"
   ]
  },
  {
   "cell_type": "markdown",
   "metadata": {
    "id": "cNNI6bjcxXiY"
   },
   "source": [
    "#### 电话"
   ]
  },
  {
   "cell_type": "code",
   "execution_count": null,
   "metadata": {},
   "outputs": [],
   "source": [
    "request = clients[\"operations\"].get_operation(\n",
    "    name=labeling_job_name\n",
    ")\n"
   ]
  },
  {
   "cell_type": "markdown",
   "metadata": {
    "id": "UxcyIvGLxXiW"
   },
   "source": [
    "回复"
   ]
  },
  {
   "cell_type": "code",
   "execution_count": null,
   "metadata": {},
   "outputs": [],
   "source": [
    "print(MessageToJson(request.__dict__[\"_pb\"]))\n"
   ]
  },
  {
   "cell_type": "markdown",
   "metadata": {
    "id": "cxbp1cGzxXiW"
   },
   "source": [
    "*例子输出*："
   ]
  },
  {
   "cell_type": "markdown",
   "metadata": {
    "id": "yfufMwAEJjkX"
   },
   "source": [
    "### [projects.operations.cancel](https://cloud.google.com/ai-platform/data-labeling/docs/reference/rest/v1beta1/projects.operations/cancel)\n",
    "\n",
    "### [项目.运营.取消](https://cloud.google.com/ai-platform/data-labeling/docs/reference/rest/v1beta1/projects.operations/cancel)"
   ]
  },
  {
   "cell_type": "markdown",
   "metadata": {
    "id": "cNNI6bjcxXiY"
   },
   "source": [
    "#### 电话"
   ]
  },
  {
   "cell_type": "code",
   "execution_count": null,
   "metadata": {},
   "outputs": [],
   "source": [
    "request = clients[\"operations\"].cancel_operation(\n",
    "    name=labeling_job_name\n",
    ")\n"
   ]
  },
  {
   "cell_type": "markdown",
   "metadata": {
    "id": "UxcyIvGLxXiW"
   },
   "source": [
    "回应"
   ]
  },
  {
   "cell_type": "code",
   "execution_count": null,
   "metadata": {},
   "outputs": [],
   "source": [
    "print(MessageToJson(request.__dict__[\"_pb\"]))\n"
   ]
  },
  {
   "cell_type": "markdown",
   "metadata": {
    "id": "cxbp1cGzxXiW"
   },
   "source": [
    "*示例输出*:"
   ]
  },
  {
   "cell_type": "markdown",
   "metadata": {
    "id": "cleanup:migration,new"
   },
   "source": [
    "清理工作\n",
    "\n",
    "要清理本项目中使用的所有GCP资源，您可以 [删除用于教程的GCP项目](https://cloud.google.com/resource-manager/docs/creating-managing-projects#shutting_down_projects)。\n",
    "\n",
    "否则，您可以删除在本教程中创建的单个资源。"
   ]
  },
  {
   "cell_type": "code",
   "execution_count": null,
   "metadata": {
    "id": "IRwi0SHBxXio",
    "scrolled": true
   },
   "outputs": [],
   "source": [
    "delete_dataset = True\n",
    "delete_annotation_spec = True\n",
    "delete_instruction = True\n",
    "delete_labeling_job = True\n",
    "delete_bucket = True\n",
    "\n",
    "\n",
    "try:\n",
    "    if delete_dataset:\n",
    "        clients[\"operations\"].delete_operation(name=labeling_job_name)\n",
    "except Exception as e:\n",
    "    print(e)\n",
    "    \n",
    "try:\n",
    "    if delete_dataset:\n",
    "        clients[\"labeling\"].delete_instruction(name=instruction_name)\n",
    "except Exception as e:\n",
    "    print(e)\n",
    "    \n",
    "try:\n",
    "    if delete_dataset:\n",
    "        clients[\"labeling\"].delete_annotation_spec_set(name=annotation_spec_set_name)\n",
    "except Exception as e:\n",
    "    print(e)\n",
    "\n",
    "try:\n",
    "    if delete_dataset:\n",
    "        clients[\"labeling\"].delete_dataset(name=dataset_id)\n",
    "except Exception as e:\n",
    "    print(e)\n",
    "\n",
    "\n",
    "if delete_bucket and 'BUCKET_NAME' in globals():\n",
    "    ! gsutil rm -r gs://$BUCKET_NAME\n"
   ]
  }
 ],
 "metadata": {
  "colab": {
   "name": "[UJ.1 OLD] AutoML Vision Image Classification.ipynb",
   "provenance": []
  },
  "environment": {
   "name": "tf2-2-3-gpu.2-3.m55",
   "type": "gcloud",
   "uri": "gcr.io/deeplearning-platform-release/tf2-2-3-gpu.2-3:m55"
  },
  "kernelspec": {
   "display_name": "Python 3",
   "language": "python",
   "name": "python3"
  },
  "language_info": {
   "codemirror_mode": {
    "name": "ipython",
    "version": 3
   },
   "file_extension": ".py",
   "mimetype": "text/x-python",
   "name": "python",
   "nbconvert_exporter": "python",
   "pygments_lexer": "ipython3",
   "version": "3.7.8"
  }
 },
 "nbformat": 4,
 "nbformat_minor": 4
}
