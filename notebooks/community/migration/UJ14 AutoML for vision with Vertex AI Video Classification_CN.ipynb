{
 "cells": [
  {
   "cell_type": "code",
   "execution_count": null,
   "metadata": {
    "id": "copyright"
   },
   "outputs": [],
   "source": [
    "# Copyright 2021 Google LLC\n",
    "#\n",
    "# Licensed under the Apache License, Version 2.0 (the \"License\");\n",
    "# you may not use this file except in compliance with the License.\n",
    "# You may obtain a copy of the License at\n",
    "#\n",
    "#     https://www.apache.org/licenses/LICENSE-2.0\n",
    "#\n",
    "# Unless required by applicable law or agreed to in writing, software\n",
    "# distributed under the License is distributed on an \"AS IS\" BASIS,\n",
    "# WITHOUT WARRANTIES OR CONDITIONS OF ANY KIND, either express or implied.\n",
    "# See the License for the specific language governing permissions and\n",
    "# limitations under the License."
   ]
  },
  {
   "cell_type": "markdown",
   "metadata": {
    "id": "title:migration,new"
   },
   "source": [
    "# 顶点 SDK：AutoML 视频分类模型"
   ]
  },
  {
   "cell_type": "markdown",
   "metadata": {
    "id": "install_aip"
   },
   "source": [
    "## 安装\n",
    "\n",
    "安装最新（预览）版本的Vertex SDK。"
   ]
  },
  {
   "cell_type": "code",
   "execution_count": null,
   "metadata": {
    "id": "M8_SmXFMSnkR"
   },
   "outputs": [],
   "source": [
    "! pip3 install -U google-cloud-aiplatform --user"
   ]
  },
  {
   "cell_type": "markdown",
   "metadata": {
    "id": "install_storage"
   },
   "source": [
    "安装Google *云存储*库。"
   ]
  },
  {
   "cell_type": "code",
   "execution_count": null,
   "metadata": {
    "id": "NJ11e4b0SnkS"
   },
   "outputs": [],
   "source": [
    "! pip3 install google-cloud-storage"
   ]
  },
  {
   "cell_type": "markdown",
   "metadata": {
    "id": "restart"
   },
   "source": [
    "### 重新启动内核\n",
    "\n",
    "一旦您已安装了Vertex SDK和Google *cloud-storage*，您需要重新启动笔记本内核以便它可以找到这些软件包。"
   ]
  },
  {
   "cell_type": "code",
   "execution_count": null,
   "metadata": {
    "id": "ZL_bvLeVSnkT"
   },
   "outputs": [],
   "source": [
    "import os\n",
    "\n",
    "if not os.getenv(\"AUTORUN\"):\n",
    "    # Automatically restart kernel after installs\n",
    "    import IPython\n",
    "\n",
    "    app = IPython.Application.instance()\n",
    "    app.kernel.do_shutdown(True)"
   ]
  },
  {
   "cell_type": "markdown",
   "metadata": {
    "id": "before_you_begin"
   },
   "source": [
    "##开始之前\n",
    "\n",
    "###GPU 运行时\n",
    "\n",
    "*请确保您在GPU运行时中运行此笔记本（如果您有这个选项）。在Colab中，选择* **Runtime > Change Runtime Type > GPU**\n",
    "\n",
    "###设立您的GCP项目\n",
    "\n",
    "**无论您使用的是哪种笔记本环境，以下步骤都是必需的。**\n",
    "\n",
    "1. [选择或创建一个 GCP 项目](https://console.cloud.google.com/cloud-resource-manager)。当您第一次创建账户时，会获得 $300 的免费信用额度，可用于支付计算/存储费用。\n",
    "\n",
    "2. [确保您的项目已启用计费功能。](https://cloud.google.com/billing/docs/how-to/modify-project)\n",
    "\n",
    "3. [启用 Vertex APIs 和 Compute Engine APIs。](https://console.cloud.google.com/flows/enableapi?apiid=ml.googleapis.com,compute_component)\n",
    "\n",
    "4. [Google Cloud SDK](https://cloud.google.com/sdk) 已经安装在 Google Cloud Notebooks 中。\n",
    "\n",
    "5. 在下面的单元格中输入您的项目 ID。然后运行该单元格，确保 Cloud SDK 对本笔记本中的所有命令使用正确的项目。\n",
    "\n",
    "**注意**：Jupyter 在以 `!` 为前缀的行中运行作为 shell 命令，并将以 `$` 为前缀的 Python 变量插入这些命令中。"
   ]
  },
  {
   "cell_type": "code",
   "execution_count": null,
   "metadata": {
    "id": "set_project_id"
   },
   "outputs": [],
   "source": [
    "PROJECT_ID = \"[your-project-id]\"  # @param {type:\"string\"}"
   ]
  },
  {
   "cell_type": "code",
   "execution_count": null,
   "metadata": {
    "id": "autoset_project_id"
   },
   "outputs": [],
   "source": [
    "if PROJECT_ID == \"\" or PROJECT_ID is None or PROJECT_ID == \"[your-project-id]\":\n",
    "    # Get your GCP project id from gcloud\n",
    "    shell_output = !gcloud config list --format 'value(core.project)' 2>/dev/null\n",
    "    PROJECT_ID = shell_output[0]\n",
    "    print(\"Project ID:\", PROJECT_ID)"
   ]
  },
  {
   "cell_type": "code",
   "execution_count": null,
   "metadata": {
    "id": "set_gcloud_project_id"
   },
   "outputs": [],
   "source": [
    "! gcloud config set project $PROJECT_ID"
   ]
  },
  {
   "cell_type": "markdown",
   "metadata": {
    "id": "region"
   },
   "source": [
    "#### 区域\n",
    "\n",
    "您还可以更改 “REGION” 变量，该变量用于本笔记本的其余部分操作。 以下是 Vertex AI 支持的区域。我们建议尽可能选择离您最近的区域。\n",
    "\n",
    "- 美洲： `us-central1`\n",
    "- 欧洲： `europe-west4`\n",
    "- 亚太： `asia-east1`\n",
    "\n",
    "您不能在 Vertex 训练模型时使用多区域存储桶。并非所有区域都支持所有 Vertex 服务。有关每个区域的最新支持信息，请参阅 [Vertex AI 服务的区域支持](https://cloud.google.com/vertex-ai/docs/general/locations)。"
   ]
  },
  {
   "cell_type": "code",
   "execution_count": null,
   "metadata": {
    "id": "pHZF5f0tSnkV"
   },
   "outputs": [],
   "source": [
    "REGION = \"us-central1\"  # @param {type: \"string\"}"
   ]
  },
  {
   "cell_type": "markdown",
   "metadata": {
    "id": "timestamp"
   },
   "source": [
    "时间戳\n",
    "\n",
    "如果您正在进行实时教程会话，您可能会使用共享的测试账户或项目。为了避免在创建资源时发生用户名冲突，您需要为每个实例会话创建一个时间戳，并将其附加到将在本教程中创建的资源名称上。"
   ]
  },
  {
   "cell_type": "code",
   "execution_count": null,
   "metadata": {
    "id": "xlsBZmnFSnkV"
   },
   "outputs": [],
   "source": [
    "from datetime import datetime\n",
    "\n",
    "TIMESTAMP = datetime.now().strftime(\"%Y%m%d%H%M%S\")"
   ]
  },
  {
   "cell_type": "markdown",
   "metadata": {
    "id": "gcp_authenticate"
   },
   "source": [
    "### 认证您的 GCP 账户\n",
    "\n",
    "**如果您正在使用 Google 云笔记本**，您的环境已经通过身份验证。跳过这一步。\n",
    "\n",
    "*注意：如果您正在使用 Vertex 笔记本并运行此单元格，该单元格会自动跳过执行身份验证步骤。*"
   ]
  },
  {
   "cell_type": "code",
   "execution_count": null,
   "metadata": {
    "id": "z78YvQXKSnkW"
   },
   "outputs": [],
   "source": [
    "import os\n",
    "import sys\n",
    "\n",
    "# If you are running this notebook in Colab, run this cell and follow the\n",
    "# instructions to authenticate your Google Cloud account. This provides access\n",
    "# to your Cloud Storage bucket and lets you submit training jobs and prediction\n",
    "# requests.\n",
    "\n",
    "# If on Vertex, then don't execute this code\n",
    "if not os.path.exists(\"/opt/deeplearning/metadata/env_version\"):\n",
    "    if \"google.colab\" in sys.modules:\n",
    "        from google.colab import auth as google_auth\n",
    "\n",
    "        google_auth.authenticate_user()\n",
    "\n",
    "    # If you are running this tutorial in a notebook locally, replace the string\n",
    "    # below with the path to your service account key and run this cell to\n",
    "    # authenticate your Google Cloud account.\n",
    "    else:\n",
    "        %env GOOGLE_APPLICATION_CREDENTIALS your_path_to_credentials.json\n",
    "\n",
    "    # Log in to your account on Google Cloud\n",
    "    ! gcloud auth login"
   ]
  },
  {
   "cell_type": "markdown",
   "metadata": {
    "id": "bucket:batch_prediction"
   },
   "source": [
    "### 创建一个云存储桶\n",
    "\n",
    "**无论您使用哪种笔记本环境，以下步骤都是必需的。**\n",
    "\n",
    "本教程旨在使用公共云存储桶中的训练数据，并为您的批量预测使用本地云存储桶。您也可以使用您自己存储在本地云存储桶中的训练数据。\n",
    "\n",
    "请在下方设置您的云存储桶名称。它必须在所有云存储桶中是唯一的。"
   ]
  },
  {
   "cell_type": "code",
   "execution_count": null,
   "metadata": {
    "id": "bucket"
   },
   "outputs": [],
   "source": [
    "BUCKET_NAME = \"[your-bucket-name]\"  # @param {type:\"string\"}"
   ]
  },
  {
   "cell_type": "code",
   "execution_count": null,
   "metadata": {
    "id": "autoset_bucket"
   },
   "outputs": [],
   "source": [
    "if BUCKET_NAME == \"\" or BUCKET_NAME is None or BUCKET_NAME == \"[your-bucket-name]\":\n",
    "    BUCKET_NAME = PROJECT_ID + \"aip-\" + TIMESTAMP"
   ]
  },
  {
   "cell_type": "markdown",
   "metadata": {
    "id": "create_bucket"
   },
   "source": [
    "只有在您的存储桶不存在时才能运行以下单元格来创建您的云存储存储桶。"
   ]
  },
  {
   "cell_type": "code",
   "execution_count": null,
   "metadata": {
    "id": "SZHBMhUgSnkX"
   },
   "outputs": [],
   "source": [
    "! gsutil mb -l $REGION gs://$BUCKET_NAME"
   ]
  },
  {
   "cell_type": "markdown",
   "metadata": {
    "id": "validate_bucket"
   },
   "source": [
    "最后，通过检查云存储桶的内容来验证访问权限："
   ]
  },
  {
   "cell_type": "code",
   "execution_count": null,
   "metadata": {
    "id": "7GarvfseSnkY"
   },
   "outputs": [],
   "source": [
    "! gsutil ls -al gs://$BUCKET_NAME"
   ]
  },
  {
   "cell_type": "markdown",
   "metadata": {
    "id": "setup_vars"
   },
   "source": [
    "### 设定变量\n",
    "\n",
    "接下来，设置一些在本教程中使用的变量。\n",
    "### 导入库并定义常量"
   ]
  },
  {
   "cell_type": "markdown",
   "metadata": {
    "id": "import_aip"
   },
   "source": [
    "导入Vertex SDK\n",
    "\n",
    "将Vertex SDK导入到我们的Python环境中。"
   ]
  },
  {
   "cell_type": "code",
   "execution_count": null,
   "metadata": {
    "id": "oAcxJMSBSnka"
   },
   "outputs": [],
   "source": [
    "import json\n",
    "import os\n",
    "import sys\n",
    "import time\n",
    "\n",
    "from google.cloud.aiplatform import gapic as aip\n",
    "from google.protobuf.json_format import MessageToJson, ParseDict\n",
    "from google.protobuf.struct_pb2 import Value"
   ]
  },
  {
   "cell_type": "markdown",
   "metadata": {
    "id": "aip_constants"
   },
   "source": [
    "将以下常量设置为Vertex AI常量：\n",
    "\n",
    "- `API_ENDPOINT`：用于数据集、模型、作业、流水线和终端服务的Vertex AI API服务端点。\n",
    "- `PARENT`：用于数据集、模型和终端资源的Vertex AI位置根路径。"
   ]
  },
  {
   "cell_type": "code",
   "execution_count": null,
   "metadata": {
    "id": "U0KV2IX7Snka"
   },
   "outputs": [],
   "source": [
    "# API Endpoint\n",
    "API_ENDPOINT = \"{}-aiplatform.googleapis.com\".format(REGION)\n",
    "\n",
    "# Vertex AI location root path for your dataset, model and endpoint resources\n",
    "PARENT = \"projects/\" + PROJECT_ID + \"/locations/\" + REGION"
   ]
  },
  {
   "cell_type": "markdown",
   "metadata": {
    "id": "automl_constants:automl"
   },
   "source": [
    "#### 自动机器学习常量\n",
    "\n",
    "接下来，设置适用于AutoML视频分类数据集和训练的常量：\n",
    "\n",
    "- 数据集模式：告诉受管数据集服务数据集的类型是什么。\n",
    "- 数据标记（注释）模式：告诉受管数据集服务数据是如何被标记（注释）的。\n",
    "- 数据集训练模式：告诉Vertex AI流水线服务为何种任务（例如分类）训练模型。"
   ]
  },
  {
   "cell_type": "code",
   "execution_count": null,
   "metadata": {
    "id": "automl_constants:automl,icn"
   },
   "outputs": [],
   "source": [
    "# Video Dataset type\n",
    "VIDEO_SCHEMA = \"google-cloud-aiplatform/schema/dataset/metadata/video_1.0.0.yaml\"\n",
    "# Video Labeling type\n",
    "IMPORT_SCHEMA_VIDEO_CLASSIFICATION = \"gs://google-cloud-aiplatform/schema/dataset/ioformat/video_classification_io_format_1.0.0.yaml\"\n",
    "# Video Training task\n",
    "TRAINING_VIDEO_CLASSIFICATION_SCHEMA = \"gs://google-cloud-aiplatform/schema/trainingjob/definition/automl_video_classification_1.0.0.yaml\""
   ]
  },
  {
   "cell_type": "markdown",
   "metadata": {
    "id": "clients"
   },
   "source": [
    "客户端\n",
    "\n",
    "Vertex SDK 采用客户端/服务器模型。 在您的一侧（Python 脚本），您将创建一个客户端，向服务器（Vertex）发送请求并接收响应。\n",
    "\n",
    "您在本教程中将使用多个客户端，因此请提前全部设置好它们。\n",
    "\n",
    "- 数据集服务 用于管理数据集。\n",
    "- 模型服务 用于管理模型。\n",
    "- 流水线服务 用于训练。\n",
    "- 端点服务 用于部署。\n",
    "- 作业服务 用于批处理作业和自定义训练。\n",
    "- 预测服务 用于提供服务。 *注意*：预测拥有不同的服务端点。"
   ]
  },
  {
   "cell_type": "code",
   "execution_count": null,
   "metadata": {
    "id": "PzGAytHrSnkb"
   },
   "outputs": [],
   "source": [
    "# client options same for all services\n",
    "client_options = {\"api_endpoint\": API_ENDPOINT}\n",
    "\n",
    "\n",
    "def create_dataset_client():\n",
    "    client = aip.DatasetServiceClient(client_options=client_options)\n",
    "    return client\n",
    "\n",
    "\n",
    "def create_model_client():\n",
    "    client = aip.ModelServiceClient(client_options=client_options)\n",
    "    return client\n",
    "\n",
    "\n",
    "def create_pipeline_client():\n",
    "    client = aip.PipelineServiceClient(client_options=client_options)\n",
    "    return client\n",
    "\n",
    "\n",
    "def create_endpoint_client():\n",
    "    client = aip.EndpointServiceClient(client_options=client_options)\n",
    "    return client\n",
    "\n",
    "\n",
    "def create_prediction_client():\n",
    "    client = aip.PredictionServiceClient(client_options=client_options)\n",
    "    return client\n",
    "\n",
    "\n",
    "def create_job_client():\n",
    "    client = aip.JobServiceClient(client_options=client_options)\n",
    "    return client\n",
    "\n",
    "\n",
    "clients = {}\n",
    "clients[\"dataset\"] = create_dataset_client()\n",
    "clients[\"model\"] = create_model_client()\n",
    "clients[\"pipeline\"] = create_pipeline_client()\n",
    "clients[\"endpoint\"] = create_endpoint_client()\n",
    "clients[\"prediction\"] = create_prediction_client()\n",
    "clients[\"job\"] = create_job_client()\n",
    "\n",
    "for client in clients.items():\n",
    "    print(client)"
   ]
  },
  {
   "cell_type": "code",
   "execution_count": null,
   "metadata": {
    "id": "import_file:flowers,csv,icn"
   },
   "outputs": [],
   "source": [
    "IMPORT_FILE = \"gs://automl-video-demo-data/hmdb_split1_5classes_train_inf.csv\""
   ]
  },
  {
   "cell_type": "code",
   "execution_count": null,
   "metadata": {
    "id": "Y7gEKRMpSnkc"
   },
   "outputs": [],
   "source": [
    "! gsutil cat $IMPORT_FILE | head -n 10"
   ]
  },
  {
   "cell_type": "markdown",
   "metadata": {
    "id": "datasets_create:migration,new,request"
   },
   "source": [
    "*示例输出*：\n",
    "```\n",
    "gs://automl-video-demo-data/hmdb51/_Rad_Schlag_die_Bank__cartwheel_f_cm_np1_le_med_0.avi，侧手翻，0.0，inf\n",
    "gs://automl-video-demo-data/hmdb51/Acrobacias_de_un_fenomeno_cartwheel_f_cm_np1_ba_bad_8.avi，侧手翻，0.0，inf\n",
    "gs://automl-video-demo-data/hmdb51/Acrobacias_de_un_fenomeno_cartwheel_f_cm_np1_fr_bad_3.avi，侧手翻，0.0，inf\n",
    "gs://automl-video-demo-data/hmdb51/Acrobacias_de_un_fenomeno_cartwheel_f_cm_np1_fr_bad_4.avi，侧手翻，0.0，inf\n",
    "gs://automl-video-demo-data/hmdb51/Acrobacias_de_un_fenomeno_cartwheel_f_cm_np1_fr_bad_5.avi，侧手翻，0.0，inf\n",
    "gs://automl-video-demo-data/hmdb51/Bayer__Meisterin_Teresa_Stadler_cartwheel_f_cm_np1_le_med_0.avi，侧手翻，0.0，inf\n",
    "gs://automl-video-demo-data/hmdb51/Bayer__Meisterin_Teresa_Stadler_cartwheel_f_cm_np1_le_med_2.avi，侧手翻，0.0，inf\n",
    "gs://automl-video-demo-data/hmdb51/Boden_bung_Spoho_Eignungspr_fung_cartwheel_f_cm_np1_ri_med_2.avi，侧手翻，0.0，inf\n",
    "gs://automl-video-demo-data/hmdb51/Bodenturnen_2004_cartwheel_f_cm_np1_le_med_0.avi，侧手翻，0.0，inf\n",
    "gs://automl-video-demo-data/hmdb51/Bodenturnen_2004_cartwheel_f_cm_np1_le_med_4.avi，侧手翻，0.0，inf\n",
    "```"
   ]
  },
  {
   "cell_type": "markdown",
   "metadata": {
    "id": "create_a_dataset:migration"
   },
   "source": [
    "创建一个数据集"
   ]
  },
  {
   "cell_type": "markdown",
   "metadata": {
    "id": "datasets_create:migration,new"
   },
   "source": [
    "### [projects.locations.datasets.create](https://cloud.google.com/vertex-ai/docs/reference/rest/v1beta1/projects.locations.datasets/create)\n",
    "\n",
    "### [projects.locations.datasets.create](https://cloud.google.com/vertex-ai/docs/reference/rest/v1beta1/projects.locations.datasets/create)"
   ]
  },
  {
   "cell_type": "markdown",
   "metadata": {
    "id": "request:migration"
   },
   "source": [
    "#### 请求"
   ]
  },
  {
   "cell_type": "code",
   "execution_count": null,
   "metadata": {
    "id": "49ZUBDbWSnkd"
   },
   "outputs": [],
   "source": [
    "DATA_SCHEMA = VIDEO_SCHEMA\n",
    "\n",
    "dataset = {\n",
    "    \"display_name\": \"hmdb_\" + TIMESTAMP,\n",
    "    \"metadata_schema_uri\": \"gs://\" + DATA_SCHEMA,\n",
    "}\n",
    "\n",
    "print(\n",
    "    MessageToJson(\n",
    "        aip.CreateDatasetRequest(parent=PARENT, dataset=dataset).__dict__[\"_pb\"]\n",
    "    )\n",
    ")"
   ]
  },
  {
   "cell_type": "markdown",
   "metadata": {
    "id": "W385QAT-Snke"
   },
   "source": [
    "*示例输出*：\n",
    "```\n",
    "{\n",
    "  \"parent\": \"projects/migration-ucaip-training/locations/us-central1\",\n",
    "  \"dataset\": {\n",
    "    \"displayName\": \"hmdb_20210228191029\",\n",
    "    \"metadataSchemaUri\": \"gs://google-cloud-aiplatform/schema/dataset/metadata/video_1.0.0.yaml\"\n",
    "  }\n",
    "}\n",
    "```"
   ]
  },
  {
   "cell_type": "markdown",
   "metadata": {
    "id": "call:migration"
   },
   "source": [
    "#### 打电话"
   ]
  },
  {
   "cell_type": "code",
   "execution_count": null,
   "metadata": {
    "id": "datasets_create:migration,new,call"
   },
   "outputs": [],
   "source": [
    "request = clients[\"dataset\"].create_dataset(parent=PARENT, dataset=dataset)"
   ]
  },
  {
   "cell_type": "markdown",
   "metadata": {
    "id": "response:migration"
   },
   "source": [
    "回复"
   ]
  },
  {
   "cell_type": "code",
   "execution_count": null,
   "metadata": {
    "id": "print:migration,new,response"
   },
   "outputs": [],
   "source": [
    "result = request.result()\n",
    "\n",
    "print(MessageToJson(result.__dict__[\"_pb\"]))"
   ]
  },
  {
   "cell_type": "markdown",
   "metadata": {
    "id": "datasets_create:migration,new,response"
   },
   "source": [
    "{\n",
    "  \"name\": \"projects/116273516712/locations/us-central1/datasets/7952037527982964736\",\n",
    "  \"displayName\": \"hmdb_20210228191029\",\n",
    "  \"metadataSchemaUri\": \"gs://google-cloud-aiplatform/schema/dataset/metadata/video_1.0.0.yaml\",\n",
    "  \"labels\": {\n",
    "    \"aiplatform.googleapis.com/dataset_metadata_schema\": \"VIDEO\"\n",
    "  },\n",
    "  \"metadata\": {\n",
    "    \"dataItemSchemaUri\": \"gs://google-cloud-aiplatform/schema/dataset/dataitem/video_1.0.0.yaml\"\n",
    "  }\n",
    "}"
   ]
  },
  {
   "cell_type": "code",
   "execution_count": null,
   "metadata": {
    "id": "dataset_id:migration,new,response"
   },
   "outputs": [],
   "source": [
    "# The full unique ID for the dataset\n",
    "dataset_id = result.name\n",
    "# The short numeric ID for the dataset\n",
    "dataset_short_id = dataset_id.split(\"/\")[-1]\n",
    "\n",
    "print(dataset_id)\n",
    "\n",
    "# Saved for clean up\n",
    "dataset = {\"name\": dataset_id}"
   ]
  },
  {
   "cell_type": "markdown",
   "metadata": {
    "id": "datasets_import:migration,new"
   },
   "source": [
    "### [projects.locations.datasets.import](https://cloud.google.com/vertex-ai/docs/reference/rest/v1beta1/projects.locations.datasets/import)\n",
    "\n",
    "### [projects.locations.datasets.import](https://cloud.google.com/vertex-ai/docs/reference/rest/v1beta1/projects.locations.datasets/import)"
   ]
  },
  {
   "cell_type": "markdown",
   "metadata": {
    "id": "MIkOh3jlSnkf"
   },
   "source": [
    "#### 请求"
   ]
  },
  {
   "cell_type": "code",
   "execution_count": null,
   "metadata": {
    "id": "datasets_import:migration,new,request"
   },
   "outputs": [],
   "source": [
    "LABEL_SCHEMA = IMPORT_SCHEMA_VIDEO_CLASSIFICATION\n",
    "\n",
    "import_config = {\n",
    "    \"gcs_source\": {\"uris\": [IMPORT_FILE]},\n",
    "    \"import_schema_uri\": LABEL_SCHEMA,\n",
    "}\n",
    "\n",
    "print(\n",
    "    MessageToJson(\n",
    "        aip.ImportDataRequest(\n",
    "            name=dataset_short_id, import_configs=[import_config]\n",
    "        ).__dict__[\"_pb\"]\n",
    "    )\n",
    ")"
   ]
  },
  {
   "cell_type": "markdown",
   "metadata": {
    "id": "QEBKC5l-Snkf"
   },
   "source": [
    "{\n",
    "  \"name\": \"7952037527982964736\",\n",
    "  \"importConfigs\": [\n",
    "    {\n",
    "      \"gcsSource\": {\n",
    "        \"uris\": [\n",
    "          \"gs://automl-video-demo-data/hmdb_split1_5classes_train_inf.csv\"\n",
    "        ]\n",
    "      },\n",
    "      \"importSchemaUri\": \"gs://google-cloud-aiplatform/schema/dataset/ioformat/video_classification_io_format_1.0.0.yaml\"\n",
    "    }\n",
    "  ]\n",
    "} \n",
    "\n",
    "{\n",
    "  \"name\": \"7952037527982964736\",\n",
    "  \"importConfigs\": [\n",
    "    {\n",
    "      \"gcsSource\": {\n",
    "        \"uris\": [\n",
    "          \"gs://automl-video-demo-data/hmdb_split1_5classes_train_inf.csv\"\n",
    "        ]\n",
    "      },\n",
    "      \"importSchemaUri\": \"gs://google-cloud-aiplatform/schema/dataset/ioformat/video_classification_io_format_1.0.0.yaml\"\n",
    "    }\n",
    "  ]\n",
    "}"
   ]
  },
  {
   "cell_type": "markdown",
   "metadata": {
    "id": "gOWz5vTMSnkg"
   },
   "source": [
    "电话"
   ]
  },
  {
   "cell_type": "code",
   "execution_count": null,
   "metadata": {
    "id": "datasets_import:migration,new,call"
   },
   "outputs": [],
   "source": [
    "request = clients[\"dataset\"].import_data(\n",
    "    name=dataset_id, import_configs=[import_config]\n",
    ")"
   ]
  },
  {
   "cell_type": "markdown",
   "metadata": {
    "id": "pDdBxlyvSnkg"
   },
   "source": [
    "#### 回复"
   ]
  },
  {
   "cell_type": "code",
   "execution_count": null,
   "metadata": {
    "id": "rF7pjlOYSnkg"
   },
   "outputs": [],
   "source": [
    "result = request.result()\n",
    "\n",
    "print(MessageToJson(result.__dict__[\"_pb\"]))"
   ]
  },
  {
   "cell_type": "markdown",
   "metadata": {
    "id": "datasets_import:migration,new,response"
   },
   "source": [
    "*示例输出*：\n",
    "```\n",
    "{}\n",
    "```"
   ]
  },
  {
   "cell_type": "markdown",
   "metadata": {
    "id": "train_a_model:migration"
   },
   "source": [
    "训练一个模型"
   ]
  },
  {
   "cell_type": "markdown",
   "metadata": {
    "id": "trainingpipelines_create:migration,new"
   },
   "source": [
    "### [projects.locations.trainingPipelines.create](https://cloud.google.com/vertex-ai/docs/reference/rest/v1beta1/projects.locations.trainingPipelines/create)\n",
    "\n",
    "### [projects.locations.trainingPipelines.create](https://cloud.google.com/vertex-ai/docs/reference/rest/v1beta1/projects.locations.trainingPipelines/create)"
   ]
  },
  {
   "cell_type": "markdown",
   "metadata": {
    "id": "J06YDrKMSnkh"
   },
   "source": [
    "请求"
   ]
  },
  {
   "cell_type": "code",
   "execution_count": null,
   "metadata": {
    "id": "trainingpipelines_create:migration,new,request,icn"
   },
   "outputs": [],
   "source": [
    "TRAINING_SCHEMA = TRAINING_VIDEO_CLASSIFICATION_SCHEMA\n",
    "\n",
    "task = ParseDict({}, Value())\n",
    "\n",
    "training_pipeline = {\n",
    "    \"display_name\": \"hmdb_\" + TIMESTAMP,\n",
    "    \"input_data_config\": {\"dataset_id\": dataset_short_id},\n",
    "    \"model_to_upload\": {\"display_name\": \"hmdb_\" + TIMESTAMP},\n",
    "    \"training_task_definition\": TRAINING_SCHEMA,\n",
    "    \"training_task_inputs\": task,\n",
    "}\n",
    "\n",
    "print(\n",
    "    MessageToJson(\n",
    "        aip.CreateTrainingPipelineRequest(\n",
    "            parent=PARENT, training_pipeline=training_pipeline\n",
    "        ).__dict__[\"_pb\"]\n",
    "    )\n",
    ")"
   ]
  },
  {
   "cell_type": "markdown",
   "metadata": {
    "id": "jPuxBFeaSnkh"
   },
   "source": [
    "{\n",
    "  \"parent\": \"projects/migration-ucaip-training/locations/us-central1\",\n",
    "  \"trainingPipeline\": {\n",
    "    \"displayName\": \"hmdb_20210228191029\",\n",
    "    \"inputDataConfig\": {\n",
    "      \"datasetId\": \"7952037527982964736\"\n",
    "    },\n",
    "    \"trainingTaskDefinition\": \"gs://google-cloud-aiplatform/schema/trainingjob/definition/automl_video_classification_1.0.0.yaml\",\n",
    "    \"trainingTaskInputs\": {},\n",
    "    \"modelToUpload\": {\n",
    "      \"displayName\": \"hmdb_20210228191029\"\n",
    "    }\n",
    "  }\n",
    "} \n",
    "\n",
    "*示例输出*：{\n",
    "  \"parent\": \"projects/migration-ucaip-training/locations/us-central1\",\n",
    "  \"trainingPipeline\": {\n",
    "    \"displayName\": \"hmdb_20210228191029\",\n",
    "    \"inputDataConfig\": {\n",
    "      \"datasetId\": \"7952037527982964736\"\n",
    "    },\n",
    "    \"trainingTaskDefinition\": \"gs://google-cloud-aiplatform/schema/trainingjob/definition/automl_video_classification_1.0.0.yaml\",\n",
    "    \"trainingTaskInputs\": {},\n",
    "    \"modelToUpload\": {\n",
    "      \"displayName\": \"hmdb_20210228191029\"\n",
    "    }\n",
    "  }\n",
    "}"
   ]
  },
  {
   "cell_type": "markdown",
   "metadata": {
    "id": "AswA1FGoSnkk"
   },
   "source": [
    "电话"
   ]
  },
  {
   "cell_type": "code",
   "execution_count": null,
   "metadata": {
    "id": "trainingpipelines_create:migration,new,call"
   },
   "outputs": [],
   "source": [
    "request = clients[\"pipeline\"].create_training_pipeline(\n",
    "    parent=PARENT, training_pipeline=training_pipeline\n",
    ")"
   ]
  },
  {
   "cell_type": "markdown",
   "metadata": {
    "id": "orNAOfwiSnkk"
   },
   "source": [
    "#### 回复"
   ]
  },
  {
   "cell_type": "code",
   "execution_count": null,
   "metadata": {
    "id": "print:migration,new,request"
   },
   "outputs": [],
   "source": [
    "print(MessageToJson(request.__dict__[\"_pb\"]))"
   ]
  },
  {
   "cell_type": "markdown",
   "metadata": {
    "id": "trainingpipelines_create:migration,new,response,icn"
   },
   "source": [
    "{\n",
    "  \"name\": \"projects/116273516712/locations/us-central1/trainingPipelines/3361945917925097472\",\n",
    "  \"displayName\": \"hmdb_20210228191029\",\n",
    "  \"inputDataConfig\": {\n",
    "    \"datasetId\": \"7952037527982964736\"\n",
    "  },\n",
    "  \"trainingTaskDefinition\": \"gs://google-cloud-aiplatform/schema/trainingjob/definition/automl_video_classification_1.0.0.yaml\",\n",
    "  \"trainingTaskInputs\": {},\n",
    "  \"modelToUpload\": {\n",
    "    \"displayName\": \"hmdb_20210228191029\"\n",
    "  },\n",
    "  \"state\": \"PIPELINE_STATE_PENDING\",\n",
    "  \"createTime\": \"2021-02-28T19:17:39.815377Z\",\n",
    "  \"updateTime\": \"2021-02-28T19:17:39.815377Z\"\n",
    "}"
   ]
  },
  {
   "cell_type": "code",
   "execution_count": null,
   "metadata": {
    "id": "training_pipeline_id:migration,new,response"
   },
   "outputs": [],
   "source": [
    "# The full unique ID for the training pipeline\n",
    "training_pipeline_id = request.name\n",
    "# The short numeric ID for the training pipeline\n",
    "training_pipeline_short_id = training_pipeline_id.split(\"/\")[-1]\n",
    "\n",
    "print(training_pipeline_id)"
   ]
  },
  {
   "cell_type": "markdown",
   "metadata": {
    "id": "trainingpipelines_get:migration,new"
   },
   "source": [
    "### [projects.locations.trainingPipelines.get](https://cloud.google.com/vertex-ai/docs/reference/rest/v1beta1/projects.locations.trainingPipelines/get)\n",
    "\n",
    "### [项目.位置.训练管道.获取](https://cloud.google.com/vertex-ai/docs/reference/rest/v1beta1/projects.locations.trainingPipelines/get)"
   ]
  },
  {
   "cell_type": "markdown",
   "metadata": {
    "id": "vWsdsTkRSnkm"
   },
   "source": [
    "#### 呼叫"
   ]
  },
  {
   "cell_type": "code",
   "execution_count": null,
   "metadata": {
    "id": "trainingpipelines_get:migration,new,call"
   },
   "outputs": [],
   "source": [
    "request = clients[\"pipeline\"].get_training_pipeline(name=training_pipeline_id)"
   ]
  },
  {
   "cell_type": "markdown",
   "metadata": {
    "id": "HKb79nnsSnkm"
   },
   "source": [
    "#### 回答"
   ]
  },
  {
   "cell_type": "code",
   "execution_count": null,
   "metadata": {
    "id": "UFnpgaznSnkm"
   },
   "outputs": [],
   "source": [
    "print(MessageToJson(request.__dict__[\"_pb\"]))"
   ]
  },
  {
   "cell_type": "markdown",
   "metadata": {
    "id": "trainingpipelines_get:migration,new,response,icn"
   },
   "source": [
    "```\n",
    "{\n",
    "  \"名称\": \"projects/116273516712/locations/us-central1/trainingPipelines/3361945917925097472\",\n",
    "  \"显示名称\": \"hmdb_20210228191029\",\n",
    "  \"inputDataConfig\": {\n",
    "    \"数据集ID\": \"7952037527982964736\"\n",
    "  },\n",
    "  \"trainingTaskDefinition\": \"gs://google-cloud-aiplatform/schema/trainingjob/definition/automl_video_classification_1.0.0.yaml\",\n",
    "  \"trainingTaskInputs\": {},\n",
    "  \"modelToUpload\": {\n",
    "    \"显示名称\": \"hmdb_20210228191029\"\n",
    "  },\n",
    "  \"状态\": \"PIPELINE_STATE_RUNNING\",\n",
    "  \"创建时间\": \"2021-02-28T19:17:39.815377Z\",\n",
    "  \"开始时间\": \"2021-02-28T19:17:40.089331Z\",\n",
    "  \"更新时间\": \"2021-02-28T19:17:40.089331Z\"\n",
    "}\n",
    "```"
   ]
  },
  {
   "cell_type": "code",
   "execution_count": null,
   "metadata": {
    "id": "trainingpipelines_get:migration,new,wait"
   },
   "outputs": [],
   "source": [
    "while True:\n",
    "    response = clients[\"pipeline\"].get_training_pipeline(name=training_pipeline_id)\n",
    "    if response.state != aip.PipelineState.PIPELINE_STATE_SUCCEEDED:\n",
    "        print(\"Training job has not completed:\", response.state)\n",
    "        model_to_deploy_name = None\n",
    "        if response.state == aip.PipelineState.PIPELINE_STATE_FAILED:\n",
    "            break\n",
    "    else:\n",
    "        model_id = response.model_to_upload.name\n",
    "        print(\"Training Time:\", response.end_time - response.start_time)\n",
    "        break\n",
    "    time.sleep(20)\n",
    "\n",
    "print(model_id)"
   ]
  },
  {
   "cell_type": "markdown",
   "metadata": {
    "id": "evaluate_the_model:migration"
   },
   "source": [
    "评估模型"
   ]
  },
  {
   "cell_type": "markdown",
   "metadata": {
    "id": "models_evaluations_list:migration,new"
   },
   "source": [
    "### [项目.地点.模型.评估.列表](https://cloud.google.com/vertex-ai/docs/reference/rest/v1beta1/projects.locations.models.evaluations/list)"
   ]
  },
  {
   "cell_type": "markdown",
   "metadata": {
    "id": "BmzDR40DSnko"
   },
   "source": [
    "#### 电话"
   ]
  },
  {
   "cell_type": "code",
   "execution_count": null,
   "metadata": {
    "id": "models_evaluations_list:migration,new,call"
   },
   "outputs": [],
   "source": [
    "request = clients[\"model\"].list_model_evaluations(parent=model_id)"
   ]
  },
  {
   "cell_type": "markdown",
   "metadata": {
    "id": "BnR_19BsSnko"
   },
   "source": [
    "回复"
   ]
  },
  {
   "cell_type": "code",
   "execution_count": null,
   "metadata": {
    "id": "models_evaluations_list:migration,new,response"
   },
   "outputs": [],
   "source": [
    "model_evaluations = [json.loads(MessageToJson(mel.__dict__[\"_pb\"])) for mel in request]\n",
    "\n",
    "print(json.dumps(model_evaluations, indent=2))\n",
    "\n",
    "# The evaluation slice\n",
    "evaluation_slice = request.model_evaluations[0].name"
   ]
  },
  {
   "cell_type": "markdown",
   "metadata": {
    "id": "models_evaluations_list:migration,new,response,icn"
   },
   "source": [
    "```\n",
    "[\n",
    "  {\n",
    "    \"name\": \"projects/116273516712/locations/us-central1/models/5031242063400665088/evaluations/6719412425478635520\",\n",
    "    \"metricsSchemaUri\": \"gs://google-cloud-aiplatform/schema/modelevaluation/classification_metrics_1.0.0.yaml\",\n",
    "    \"metrics\": {\n",
    "      \"confidenceMetrics\": [\n",
    "        {\n",
    "          \"confidenceThreshold\": 0.0891612,\n",
    "          \"precision\": 0.2,\n",
    "          \"recall\": 1.0,\n",
    "          \"f1Score\": 0.33333334\n",
    "        },\n",
    "        {\n",
    "          \"recall\": 1.0,\n",
    "          \"confidenceThreshold\": 0.09073429,\n",
    "          \"precision\": 0.20289855,\n",
    "          \"f1Score\": 0.33734939\n",
    "        },\n",
    "        {\n",
    "          \"recall\": 1.0,\n",
    "          \"f1Score\": 0.34146342,\n",
    "          \"confidenceThreshold\": 0.09176466,\n",
    "          \"precision\": 0.20588236\n",
    "        },\n",
    "        \n",
    "        # REMOVED FOR BREVITY\n",
    "        \n",
    "        {\n",
    "          {\n",
    "            \"displayName\": \"pullup\",\n",
    "            \"id\": \"2856417959264387072\"\n",
    "          },\n",
    "          {\n",
    "            \"displayName\": \"golf\",\n",
    "            \"id\": \"5162260968478081024\"\n",
    "          },\n",
    "          {\n",
    "            \"displayName\": \"ride_horse\",\n",
    "            \"id\": \"6315182473084928000\"\n",
    "          },\n",
    "          {\n",
    "            \"displayName\": \"cartwheel\",\n",
    "            \"id\": \"7468103977691774976\"\n",
    "          }\n",
    "        ]\n",
    "      }\n",
    "    },\n",
    "    \"createTime\": \"2021-02-28T20:56:43.050002Z\",\n",
    "    \"sliceDimensions\": [\n",
    "      \"annotationSpec\"\n",
    "    ]\n",
    "  }\n",
    "]\n",
    "```"
   ]
  },
  {
   "cell_type": "markdown",
   "metadata": {
    "id": "models_evaluations_get:migration,new"
   },
   "source": [
    "### [projects.locations.models.evaluations.get](https://cloud.google.com/vertex-ai/docs/reference/rest/v1beta1/projects.locations.models.evaluations/get)\n",
    "\n",
    "### [projects.locations.models.evaluations.get](https://cloud.google.com/vertex-ai/docs/reference/rest/v1beta1/projects.locations.models.evaluations/get)"
   ]
  },
  {
   "cell_type": "markdown",
   "metadata": {
    "id": "1Zd-nTWkSnkp"
   },
   "source": [
    "#### 呼叫"
   ]
  },
  {
   "cell_type": "code",
   "execution_count": null,
   "metadata": {
    "id": "models_evaluations_get:migration,new,call"
   },
   "outputs": [],
   "source": [
    "request = clients[\"model\"].get_model_evaluation(name=evaluation_slice)"
   ]
  },
  {
   "cell_type": "markdown",
   "metadata": {
    "id": "XsNAiiycSnkp"
   },
   "source": [
    "#### 回复"
   ]
  },
  {
   "cell_type": "code",
   "execution_count": null,
   "metadata": {
    "id": "iAibbLslSnkq"
   },
   "outputs": [],
   "source": [
    "print(MessageToJson(request.__dict__[\"_pb\"]))"
   ]
  },
  {
   "cell_type": "markdown",
   "metadata": {
    "id": "models_evaluations_get:migration,new,response,icn"
   },
   "source": [
    "{\n",
    "  \"name\": \"projects/116273516712/locations/us-central1/models/5031242063400665088/evaluations/6719412425478635520\",\n",
    "  \"metricsSchemaUri\": \"gs://google-cloud-aiplatform/schema/modelevaluation/classification_metrics_1.0.0.yaml\",\n",
    "  \"metrics\": {\n",
    "    \"confusionMatrix\": {\n",
    "      \"rows\": [\n",
    "        [\n",
    "          14.0,\n",
    "          0.0,\n",
    "          0.0,\n",
    "          0.0,\n",
    "          0.0\n",
    "        ],\n",
    "        [\n",
    "          0.0,\n",
    "          14.0,\n",
    "          0.0,\n",
    "          0.0,\n",
    "          0.0\n",
    "        ],\n",
    "        [\n",
    "          0.0,\n",
    "          0.0,\n",
    "          14.0,\n",
    "          0.0,\n",
    "          0.0\n",
    "        ],\n",
    "        [\n",
    "          0.0,\n",
    "          0.0,\n",
    "          0.0,\n",
    "          14.0,\n",
    "          0.0\n",
    "        ],\n",
    "        [\n",
    "          0.0,\n",
    "          0.0,\n",
    "          0.0,\n",
    "          0.0,\n",
    "          14.0\n",
    "        ]\n",
    "      ],\n",
    "      \"annotationSpecs\": [\n",
    "        {\n",
    "          \"displayName\": \"kick_ball\",\n",
    "          \"id\": \"1703496454657540096\"\n",
    "        },\n",
    "        {\n",
    "          \"displayName\": \"pullup\",\n",
    "          \"id\": \"2856417959264387072\"\n",
    "        },\n",
    "        {\n",
    "          \"displayName\": \"golf\",\n",
    "          \"id\": \"5162260968478081024\"\n",
    "        },\n",
    "        {\n",
    "          \"displayName\": \"ride_horse\",\n",
    "          \"id\": \"6315182473084928000\"\n",
    "        },\n",
    "        {\n",
    "          \"displayName\": \"cartwheel\",\n",
    "          \"id\": \"7468103977691774976\"\n",
    "        }\n",
    "      ]\n",
    "    },\n",
    "    \"confidenceMetrics\": [\n",
    "      {\n",
    "        \"precision\": 0.2,\n",
    "        \"recall\": 1.0,\n",
    "        \"confidenceThreshold\": 0.0891612,\n",
    "        \"f1Score\": 0.33333334\n",
    "      },\n",
    "      {\n",
    "        \"recall\": 1.0,\n",
    "        \"f1Score\": 0.33734939,\n",
    "        \"confidenceThreshold\": 0.09073429,\n",
    "        \"precision\": 0.20289855\n",
    "      },\n",
    "      {\n",
    "        \"precision\": 0.20588236,\n",
    "        \"f1Score\": 0.34146342,\n",
    "        \"confidenceThreshold\": 0.09176466,\n",
    "        \"recall\": 1.0\n",
    "      },\n",
    "      {\n",
    "        \"confidenceThreshold\": 0.09279072,\n",
    "        \"f1Score\": 0.34739456,\n",
    "        \"precision\": 0.2102102,\n",
    "        \"recall\": 1.0\n",
    "      },\n",
    "      \n",
    "      # 省略部分\n",
    "      \n",
    "      {\n",
    "        \"recall\": 0.071428575,\n",
    "        \"f1Score\": 0.13333334,\n",
    "        \"precision\": 1.0,\n",
    "        \"confidenceThreshold\": 0.6023364\n",
    "      },\n",
    "      {\n",
    "        \"f1Score\": 0.055555556,\n",
    "        \"precision\": 1.0,\n",
    "        \"confidenceThreshold\": 0.6101756,\n",
    "        \"recall\": 0.028571429\n",
    "      },\n",
    "      {\n",
    "        \"recall\": 0.014285714,\n",
    "        \"precision\": 1.0,\n",
    "        \"confidenceThreshold\": 0.6113689,\n",
    "        \"f1Score\": 0.028169014\n",
    "      }\n",
    "    ],\n",
    "    \"auPrc\": 1.0\n",
    "  },\n",
    "  \"createTime\": \"2021-02-28T20:56:43.050002Z\",\n",
    "  \"sliceDimensions\": [\n",
    "    \"annotationSpec\"\n",
    "  ]\n",
    "}"
   ]
  },
  {
   "cell_type": "markdown",
   "metadata": {
    "id": "make_batch_predictions:migration"
   },
   "source": [
    "## 进行批量预测"
   ]
  },
  {
   "cell_type": "markdown",
   "metadata": {
    "id": "make_batch_prediction_file:migration,new"
   },
   "source": [
    "### 生成批量预测文件"
   ]
  },
  {
   "cell_type": "code",
   "execution_count": null,
   "metadata": {
    "id": "get_test_items:automl,icn,csv"
   },
   "outputs": [],
   "source": [
    "test_items = ! gsutil cat $IMPORT_FILE | head -n2\n",
    "\n",
    "cols = str(test_items[0]).split(\",\")\n",
    "test_item_1 = str(cols[0])\n",
    "test_label_1 = str(cols[1])\n",
    "\n",
    "print(test_item_1, test_label_1)\n",
    "\n",
    "cols = str(test_items[1]).split(\",\")\n",
    "test_item_2 = str(cols[0])\n",
    "test_label_2 = str(cols[1])\n",
    "\n",
    "print(test_item_2, test_label_2)"
   ]
  },
  {
   "cell_type": "markdown",
   "metadata": {
    "id": "kWOTd72cSnkr"
   },
   "source": [
    "以下是示例输出：\n",
    "```\n",
    "gs://automl-video-demo-data/hmdb51/_Rad_Schlag_die_Bank__cartwheel_f_cm_np1_le_med_0.avi 翻筋斗\n",
    "gs://automl-video-demo-data/hmdb51/Acrobacias_de_un_fenomeno_cartwheel_f_cm_np1_ba_bad_8.avi 翻筋斗\n",
    "```"
   ]
  },
  {
   "cell_type": "markdown",
   "metadata": {
    "id": "make_batch_file:automl,image"
   },
   "source": [
    "### 创建批量输入文件\n",
    "\n",
    "现在让我们创建一个批量输入文件，您可以将其存储在本地的云存储桶中。批量输入文件可以是 CSV 或 JSONL 格式。在本教程中，您将使用 JSONL 格式。对于 JSONL 文件，您需要为每个视频的每一行创建一个字典条目。该字典包含以下键/值对：\n",
    "\n",
    "- `content`: 视频的云存储路径。\n",
    "- `mimeType`: 内容类型。在我们的示例中，它是一个 `avi` 文件。\n",
    "- `timeSegmentStart`: 视频中要进行预测的开始时间戳。*注意*，时间戳必须以字符串形式指定，并且后面跟着 s (秒), m (分钟) 或 h (小时)。\n",
    "- `timeSegmentEnd`: 视频中要进行预测的结束时间戳。"
   ]
  },
  {
   "cell_type": "code",
   "execution_count": null,
   "metadata": {
    "id": "yqU4Vz8TSnkr"
   },
   "outputs": [],
   "source": [
    "import json\n",
    "\n",
    "import tensorflow as tf\n",
    "\n",
    "gcs_input_uri = \"gs://\" + BUCKET_NAME + \"/test.jsonl\"\n",
    "with tf.io.gfile.GFile(gcs_input_uri, \"w\") as f:\n",
    "    data = {\n",
    "        \"content\": test_item_1,\n",
    "        \"mimeType\": \"video/avi\",\n",
    "        \"timeSegmentStart\": \"0.0s\",\n",
    "        \"timeSegmentEnd\": \"inf\",\n",
    "    }\n",
    "    f.write(json.dumps(data) + \"\\n\")\n",
    "    data = {\n",
    "        \"content\": test_item_2,\n",
    "        \"mimeType\": \"video/avi\",\n",
    "        \"timeSegmentStart\": \"0.0s\",\n",
    "        \"timeSegmentEnd\": \"inf\",\n",
    "    }\n",
    "    f.write(json.dumps(data) + \"\\n\")\n",
    "\n",
    "print(gcs_input_uri)\n",
    "\n",
    "!gsutil cat $gcs_input_uri"
   ]
  },
  {
   "cell_type": "markdown",
   "metadata": {
    "id": "OgdqIei1Snks"
   },
   "source": [
    "*示例输出*：\n",
    "```\n",
    "gs://migration-ucaip-trainingaip-20210228191029/test.jsonl\n",
    "{\"content\": \"gs://automl-video-demo-data/hmdb51/_Rad_Schlag_die_Bank__cartwheel_f_cm_np1_le_med_0.avi\", \"mimeType\": \"video/avi\", \"timeSegmentStart\": \"0.0s\", \"timeSegmentEnd\": \"inf\"}\n",
    "{\"content\": \"gs://automl-video-demo-data/hmdb51/Acrobacias_de_un_fenomeno_cartwheel_f_cm_np1_ba_bad_8.avi\", \"mimeType\": \"video/avi\", \"timeSegmentStart\": \"0.0s\", \"timeSegmentEnd\": \"inf\"}\n",
    "```"
   ]
  },
  {
   "cell_type": "markdown",
   "metadata": {
    "id": "batchpredictionjobs_create:migration,new"
   },
   "source": [
    "### [projects.locations.batchPredictionJobs.create](https://cloud.google.com/vertex-ai/docs/reference/rest/v1beta1/projects.locations.batchPredictionJobs/create)\n",
    "\n",
    "### [projects.locations.batchPredictionJobs.create](https://cloud.google.com/vertex-ai/docs/reference/rest/v1beta1/projects.locations.batchPredictionJobs/create)"
   ]
  },
  {
   "cell_type": "markdown",
   "metadata": {
    "id": "hakbUKF5Snks"
   },
   "source": [
    "#### 请求"
   ]
  },
  {
   "cell_type": "code",
   "execution_count": null,
   "metadata": {
    "id": "batchpredictionjobs_create:migration,new,request,icn"
   },
   "outputs": [],
   "source": [
    "batch_prediction_job = {\n",
    "    \"display_name\": \"hmdb_\" + TIMESTAMP,\n",
    "    \"model\": model_id,\n",
    "    \"input_config\": {\n",
    "        \"instances_format\": \"jsonl\",\n",
    "        \"gcs_source\": {\"uris\": [gcs_input_uri]},\n",
    "    },\n",
    "    \"model_parameters\": ParseDict(\n",
    "        {\n",
    "            \"confidenceThreshold\": 0.5,\n",
    "            \"maxPredictions\": 2,\n",
    "            \"segmentClassification\": True,\n",
    "            \"shotClassification\": True,\n",
    "            \"oneSecIntervalClassification\": True,\n",
    "        },\n",
    "        Value(),\n",
    "    ),\n",
    "    \"output_config\": {\n",
    "        \"predictions_format\": \"jsonl\",\n",
    "        \"gcs_destination\": {\n",
    "            \"output_uri_prefix\": \"gs://\" + f\"{BUCKET_NAME}/batch_output/\"\n",
    "        },\n",
    "    },\n",
    "    \"dedicated_resources\": {\n",
    "        \"machine_spec\": {\"machine_type\": \"n1-standard-2\", \"accelerator_count\": 0},\n",
    "        \"starting_replica_count\": 1,\n",
    "        \"max_replica_count\": 1,\n",
    "    },\n",
    "}\n",
    "\n",
    "print(\n",
    "    MessageToJson(\n",
    "        aip.CreateBatchPredictionJobRequest(\n",
    "            parent=PARENT, batch_prediction_job=batch_prediction_job\n",
    "        ).__dict__[\"_pb\"]\n",
    "    )\n",
    ")"
   ]
  },
  {
   "cell_type": "markdown",
   "metadata": {
    "id": "p0noQCPsSnkt"
   },
   "source": [
    "*示例输出*：\n",
    "```\n",
    "{\n",
    "  \"parent\": \"projects/migration-ucaip-training/locations/us-central1\",\n",
    "  \"batchPredictionJob\": {\n",
    "    \"displayName\": \"hmdb_20210228191029\",\n",
    "    \"model\": \"projects/116273516712/locations/us-central1/models/5031242063400665088\",\n",
    "    \"inputConfig\": {\n",
    "      \"instancesFormat\": \"jsonl\",\n",
    "      \"gcsSource\": {\n",
    "        \"uris\": [\n",
    "          \"gs://migration-ucaip-trainingaip-20210228191029/test.jsonl\"\n",
    "        ]\n",
    "      }\n",
    "    },\n",
    "    \"modelParameters\": {\n",
    "      \"segmentClassification\": true,\n",
    "      \"maxPredictions\": 2.0,\n",
    "      \"shotClassification\": true,\n",
    "      \"confidenceThreshold\": 0.5,\n",
    "      \"oneSecIntervalClassification\": true\n",
    "    },\n",
    "    \"outputConfig\": {\n",
    "      \"predictionsFormat\": \"jsonl\",\n",
    "      \"gcsDestination\": {\n",
    "        \"outputUriPrefix\": \"gs://migration-ucaip-trainingaip-20210228191029/batch_output/\"\n",
    "      }\n",
    "    },\n",
    "    \"dedicatedResources\": {\n",
    "      \"machineSpec\": {\n",
    "        \"machineType\": \"n1-standard-2\"\n",
    "      },\n",
    "      \"startingReplicaCount\": 1,\n",
    "      \"maxReplicaCount\": 1\n",
    "    }\n",
    "  }\n",
    "}\n",
    "```"
   ]
  },
  {
   "cell_type": "markdown",
   "metadata": {
    "id": "GQtFoN4eSnkt"
   },
   "source": [
    "#### Call \n",
    "\n",
    "#### 电话"
   ]
  },
  {
   "cell_type": "code",
   "execution_count": null,
   "metadata": {
    "id": "batchpredictionjobs_create:migration,new,call"
   },
   "outputs": [],
   "source": [
    "request = clients[\"job\"].create_batch_prediction_job(\n",
    "    parent=PARENT, batch_prediction_job=batch_prediction_job\n",
    ")"
   ]
  },
  {
   "cell_type": "markdown",
   "metadata": {
    "id": "OY2yKVV_Snku"
   },
   "source": [
    "回复"
   ]
  },
  {
   "cell_type": "code",
   "execution_count": null,
   "metadata": {
    "id": "Iu7YyWWgSnku"
   },
   "outputs": [],
   "source": [
    "print(MessageToJson(request.__dict__[\"_pb\"]))"
   ]
  },
  {
   "cell_type": "markdown",
   "metadata": {
    "id": "batchpredictionjobs_create:migration,new,response,icn"
   },
   "source": [
    "{\n",
    "  \"name\": \"projects/116273516712/locations/us-central1/batchPredictionJobs/5275975759557558272\",\n",
    "  \"displayName\": \"hmdb_20210228191029\",\n",
    "  \"model\": \"projects/116273516712/locations/us-central1/models/5031242063400665088\",\n",
    "  \"inputConfig\": {\n",
    "    \"instancesFormat\": \"jsonl\",\n",
    "    \"gcsSource\": {\n",
    "      \"uris\": [\n",
    "        \"gs://migration-ucaip-trainingaip-20210228191029/test.jsonl\"\n",
    "      ]\n",
    "    }\n",
    "  },\n",
    "  \"modelParameters\": {\n",
    "    \"oneSecIntervalClassification\": true,\n",
    "    \"confidenceThreshold\": 0.5,\n",
    "    \"maxPredictions\": 2.0,\n",
    "    \"shotClassification\": true,\n",
    "    \"segmentClassification\": true\n",
    "  },\n",
    "  \"outputConfig\": {\n",
    "    \"predictionsFormat\": \"jsonl\",\n",
    "    \"gcsDestination\": {\n",
    "      \"outputUriPrefix\": \"gs://migration-ucaip-trainingaip-20210228191029/batch_output/\"\n",
    "    }\n",
    "  },\n",
    "  \"state\": \"JOB_STATE_PENDING\",\n",
    "  \"completionStats\": {\n",
    "    \"incompleteCount\": \"-1\"\n",
    "  },\n",
    "  \"createTime\": \"2021-02-28T22:47:21.875565Z\",\n",
    "  \"updateTime\": \"2021-02-28T22:47:21.875565Z\"\n",
    "}"
   ]
  },
  {
   "cell_type": "code",
   "execution_count": null,
   "metadata": {
    "id": "batch_job_id:migration,new,response"
   },
   "outputs": [],
   "source": [
    "# The fully qualified ID for the batch job\n",
    "batch_job_id = request.name\n",
    "# The short numeric ID for the batch job\n",
    "batch_job_short_id = batch_job_id.split(\"/\")[-1]\n",
    "\n",
    "print(batch_job_id)"
   ]
  },
  {
   "cell_type": "markdown",
   "metadata": {
    "id": "batchpredictionjobs_get:migration,new"
   },
   "source": [
    "### [projects.locations.batchPredictionJobs.get](https://cloud.google.com/vertex-ai/docs/reference/rest/v1beta1/projects.locations.batchPredictionJobs/get)\n",
    "\n",
    "### [projects.locations.batchPredictionJobs.get](https://cloud.google.com/vertex-ai/docs/reference/rest/v1beta1/projects.locations.batchPredictionJobs/get)"
   ]
  },
  {
   "cell_type": "markdown",
   "metadata": {
    "id": "7RdKtPhlSnkw"
   },
   "source": [
    "电话"
   ]
  },
  {
   "cell_type": "code",
   "execution_count": null,
   "metadata": {
    "id": "batchpredictionjobs_get:migration,new,call"
   },
   "outputs": [],
   "source": [
    "request = clients[\"job\"].get_batch_prediction_job(name=batch_job_id)"
   ]
  },
  {
   "cell_type": "markdown",
   "metadata": {
    "id": "Hgt8RcLLSnkw"
   },
   "source": [
    "### 回应"
   ]
  },
  {
   "cell_type": "code",
   "execution_count": null,
   "metadata": {
    "id": "jhu1npewSnkw"
   },
   "outputs": [],
   "source": [
    "print(MessageToJson(request.__dict__[\"_pb\"]))"
   ]
  },
  {
   "cell_type": "markdown",
   "metadata": {
    "id": "batchpredictionjobs_get:migration,new,response,icn"
   },
   "source": [
    "*示例输出*：\n",
    "```\n",
    "{\n",
    "  \"name\": \"projects/116273516712/locations/us-central1/batchPredictionJobs/5275975759557558272\",\n",
    "  \"displayName\": \"hmdb_20210228191029\",\n",
    "  \"model\": \"projects/116273516712/locations/us-central1/models/5031242063400665088\",\n",
    "  \"inputConfig\": {\n",
    "    \"instancesFormat\": \"jsonl\",\n",
    "    \"gcsSource\": {\n",
    "      \"uris\": [\n",
    "        \"gs://migration-ucaip-trainingaip-20210228191029/test.jsonl\"\n",
    "      ]\n",
    "    }\n",
    "  },\n",
    "  \"modelParameters\": {\n",
    "    \"oneSecIntervalClassification\": true,\n",
    "    \"confidenceThreshold\": 0.5,\n",
    "    \"shotClassification\": true,\n",
    "    \"maxPredictions\": 2.0,\n",
    "    \"segmentClassification\": true\n",
    "  },\n",
    "  \"outputConfig\": {\n",
    "    \"predictionsFormat\": \"jsonl\",\n",
    "    \"gcsDestination\": {\n",
    "      \"outputUriPrefix\": \"gs://migration-ucaip-trainingaip-20210228191029/batch_output/\"\n",
    "    }\n",
    "  },\n",
    "  \"state\": \"JOB_STATE_RUNNING\",\n",
    "  \"completionStats\": {\n",
    "    \"incompleteCount\": \"2\"\n",
    "  },\n",
    "  \"createTime\": \"2021-02-28T22:47:21.875565Z\",\n",
    "  \"startTime\": \"2021-02-28T22:47:22.041508Z\",\n",
    "  \"updateTime\": \"2021-02-28T22:47:22.486289Z\"\n",
    "}\n",
    "```"
   ]
  },
  {
   "cell_type": "code",
   "execution_count": null,
   "metadata": {
    "id": "batchpredictionjobs_get:migration,new,wait"
   },
   "outputs": [],
   "source": [
    "def get_latest_predictions(gcs_out_dir):\n",
    "    \"\"\" Get the latest prediction subfolder using the timestamp in the subfolder name\"\"\"\n",
    "    folders = !gsutil ls $gcs_out_dir\n",
    "    latest = \"\"\n",
    "    for folder in folders:\n",
    "        subfolder = folder.split(\"/\")[-2]\n",
    "        if subfolder.startswith(\"prediction-\"):\n",
    "            if subfolder > latest:\n",
    "                latest = folder[:-1]\n",
    "    return latest\n",
    "\n",
    "\n",
    "while True:\n",
    "    response = clients[\"job\"].get_batch_prediction_job(name=batch_job_id)\n",
    "    if response.state != aip.JobState.JOB_STATE_SUCCEEDED:\n",
    "        print(\"The job has not completed:\", response.state)\n",
    "        if response.state == aip.JobState.JOB_STATE_FAILED:\n",
    "            break\n",
    "    else:\n",
    "        folder = get_latest_predictions(\n",
    "            response.output_config.gcs_destination.output_uri_prefix\n",
    "        )\n",
    "        ! gsutil ls $folder/prediction*.jsonl\n",
    "\n",
    "        ! gsutil cat $folder/prediction*.jsonl\n",
    "        break\n",
    "    time.sleep(60)"
   ]
  },
  {
   "cell_type": "markdown",
   "metadata": {
    "id": "batchpredictionjobs_get:migration,new,wait,icn"
   },
   "source": [
    "*示例输出*：\n",
    "```\n",
    "gs://migration-ucaip-trainingaip-20210228191029/batch_output/prediction-hmdb_20210228191029-2021-02-28T22:47:21.701608Z/predictions_00001.jsonl\n",
    "gs://migration-ucaip-trainingaip-20210228191029/batch_output/prediction-hmdb_20210228191029-2021-02-28T22:47:21.701608Z/predictions_00002.jsonl\n",
    "{\"instance\":{\"content\":\"gs://automl-video-demo-data/hmdb51/Acrobacias_de_un_fenomeno_cartwheel_f_cm_np1_ba_bad_8.avi\",\"mimeType\":\"video/avi\",\"timeSegmentStart\":\"0.0s\",\"timeSegmentEnd\":\"inf\"},\"prediction\":[]}\n",
    "{\"instance\":{\"content\":\"gs://automl-video-demo-data/hmdb51/_Rad_Schlag_die_Bank__cartwheel_f_cm_np1_le_med_0.avi\",\"mimeType\":\"video/avi\",\"timeSegmentStart\":\"0.0s\",\"timeSegmentEnd\":\"inf\"},\"prediction\":[{\"id\":\"7468103977691774976\",\"displayName\":\"cartwheel\",\"type\":\"shot-classification\",\"timeSegmentStart\":\"0.066666s\",\"timeSegmentEnd\":\"0.226666s\",\"confidence\":0.5290586},{\"id\":\"7468103977691774976\",\"displayName\":\"cartwheel\",\"type\":\"one-sec-interval-classification\",\"timeSegmentStart\":\"1.346666s\",\"timeSegmentEnd\":\"1.346666s\",\"confidence\":0.5290586},{\"id\":\"7468103977691774976\",\"displayName\":\"cartwheel\",\"type\":\"segment-classification\",\"timeSegmentStart\":\"0s\",\"timeSegmentEnd\":\"2.766667s\",\"confidence\":0.52444863},{\"id\":\"7468103977691774976\",\"displayName\":\"cartwheel\",\"type\":\"shot-classification\",\"timeSegmentStart\":\"0.266666s\",\"timeSegmentEnd\":\"2.226666s\",\"confidence\":0.51983875},{\"id\":\"7468103977691774976\",\"displayName\":\"cartwheel\",\"type\":\"one-sec-interval-classification\",\"timeSegmentStart\":\"1.586666s\",\"timeSegmentEnd\":\"1.586666s\",\"confidence\":0.51983875}]}\n",
    "```"
   ]
  },
  {
   "cell_type": "markdown",
   "metadata": {
    "id": "cleanup:migration,new"
   },
   "source": [
    "清理\n",
    "\n",
    "要清理此项目中使用的所有GCP资源，您可以删除用于本教程的GCP项目。\n",
    "\n",
    "否则，您可以删除本教程中创建的各个资源。"
   ]
  },
  {
   "cell_type": "code",
   "execution_count": null,
   "metadata": {
    "id": "wHGVNBJSSnkx"
   },
   "outputs": [],
   "source": [
    "delete_dataset = True\n",
    "delete_model = True\n",
    "delete_pipeline = True\n",
    "delete_batchjob = True\n",
    "delete_bucket = True\n",
    "\n",
    "# Delete the dataset using the Vertex AI fully qualified identifier for the dataset\n",
    "try:\n",
    "    if delete_dataset:\n",
    "        clients[\"dataset\"].delete_dataset(name=dataset_id)\n",
    "except Exception as e:\n",
    "    print(e)\n",
    "\n",
    "# Delete the model using the Vertex AI fully qualified identifier for the model\n",
    "try:\n",
    "    if delete_model:\n",
    "        clients[\"model\"].delete_model(name=model_id)\n",
    "except Exception as e:\n",
    "    print(e)\n",
    "\n",
    "# Delete the training pipeline using the Vertex AI fully qualified identifier for the training pipeline\n",
    "try:\n",
    "    if delete_pipeline:\n",
    "        clients[\"pipeline\"].delete_training_pipeline(name=training_pipeline_id)\n",
    "except Exception as e:\n",
    "    print(e)\n",
    "\n",
    "# Delete the batch job using the Vertex AI fully qualified identifier for the batch job\n",
    "try:\n",
    "    if delete_batchjob:\n",
    "        clients[\"job\"].delete_batch_prediction_job(name=batch_job_id)\n",
    "except Exception as e:\n",
    "    print(e)\n",
    "\n",
    "if delete_bucket and \"BUCKET_NAME\" in globals():\n",
    "    ! gsutil rm -r gs://$BUCKET_NAME"
   ]
  }
 ],
 "metadata": {
  "colab": {
   "collapsed_sections": [
    "gcp_authenticate",
    "bucket:batch_prediction",
    "import_aip",
    "automl_constants:automl",
    "datasets_create:migration,new",
    "request:migration",
    "call:migration",
    "response:migration",
    "datasets_import:migration,new",
    "MIkOh3jlSnkf",
    "gOWz5vTMSnkg",
    "pDdBxlyvSnkg",
    "trainingpipelines_create:migration,new",
    "J06YDrKMSnkh",
    "AswA1FGoSnkk",
    "orNAOfwiSnkk",
    "trainingpipelines_get:migration,new",
    "vWsdsTkRSnkm",
    "HKb79nnsSnkm",
    "models_evaluations_list:migration,new",
    "BmzDR40DSnko",
    "BnR_19BsSnko",
    "models_evaluations_get:migration,new",
    "1Zd-nTWkSnkp",
    "XsNAiiycSnkp",
    "make_batch_prediction_file:migration,new",
    "make_batch_file:automl,image",
    "batchpredictionjobs_create:migration,new",
    "hakbUKF5Snks",
    "GQtFoN4eSnkt",
    "OY2yKVV_Snku",
    "batchpredictionjobs_get:migration,new",
    "7RdKtPhlSnkw",
    "Hgt8RcLLSnkw"
   ],
   "name": "UJ14 unified AutoML for vision with Vertex AI Video Classification.ipynb",
   "toc_visible": true
  },
  "kernelspec": {
   "display_name": "Python 3",
   "name": "python3"
  }
 },
 "nbformat": 4,
 "nbformat_minor": 0
}
