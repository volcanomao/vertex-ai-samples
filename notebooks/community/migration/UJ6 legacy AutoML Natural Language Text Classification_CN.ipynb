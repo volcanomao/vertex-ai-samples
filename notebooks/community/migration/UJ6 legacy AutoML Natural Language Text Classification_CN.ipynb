{
 "cells": [
  {
   "cell_type": "code",
   "execution_count": null,
   "metadata": {
    "id": "8edU8FN2lH6o"
   },
   "outputs": [],
   "source": [
    "# Copyright 2021 Google LLC\n",
    "#\n",
    "# Licensed under the Apache License, Version 2.0 (the \"License\");\n",
    "# you may not use this file except in compliance with the License.\n",
    "# You may obtain a copy of the License at\n",
    "#\n",
    "#     https://www.apache.org/licenses/LICENSE-2.0\n",
    "#\n",
    "# Unless required by applicable law or agreed to in writing, software\n",
    "# distributed under the License is distributed on an \"AS IS\" BASIS,\n",
    "# WITHOUT WARRANTIES OR CONDITIONS OF ANY KIND, either express or implied.\n",
    "# See the License for the specific language governing permissions and\n",
    "# limitations under the License."
   ]
  },
  {
   "cell_type": "markdown",
   "metadata": {
    "id": "text_title:migration,automl,icn"
   },
   "source": [
    "# 自动机器学习自然语言文本分类模型"
   ]
  },
  {
   "cell_type": "markdown",
   "metadata": {
    "id": "JE-aKjayJjkF"
   },
   "source": [
    "安装\n",
    "\n",
    "安装最新版本的AutoML SDK。"
   ]
  },
  {
   "cell_type": "code",
   "execution_count": null,
   "metadata": {
    "id": "7dxB6-B0JjkG"
   },
   "outputs": [],
   "source": [
    "! pip3 install google-cloud-automl"
   ]
  },
  {
   "cell_type": "markdown",
   "metadata": {
    "id": "Iddo-8HmJjkH"
   },
   "source": [
    "安装谷歌*云存储*库。"
   ]
  },
  {
   "cell_type": "code",
   "execution_count": null,
   "metadata": {
    "id": "xHvi6EFSJjkH"
   },
   "outputs": [],
   "source": [
    "! pip3 install google-cloud-storage"
   ]
  },
  {
   "cell_type": "markdown",
   "metadata": {
    "id": "ktRTgB8DJjkI"
   },
   "source": [
    "### 重新启动内核\n",
    "\n",
    "安装完AutoML SDK和谷歌*云存储*后，您需要重新启动笔记本内核，以便它能找到这些软件包。"
   ]
  },
  {
   "cell_type": "code",
   "execution_count": null,
   "metadata": {
    "id": "x1g4mBdlJjkI"
   },
   "outputs": [],
   "source": [
    "import os\n",
    "\n",
    "if not os.getenv(\"AUTORUN\"):\n",
    "    # Automatically restart kernel after installs\n",
    "    import IPython\n",
    "\n",
    "    app = IPython.Application.instance()\n",
    "    app.kernel.do_shutdown(True)"
   ]
  },
  {
   "cell_type": "markdown",
   "metadata": {
    "id": "Af0jTPSgl9yh"
   },
   "source": [
    "## 开始之前\n",
    "\n",
    "### GPU 运行时\n",
    "\n",
    "*确保如果有这个选项的话，在 GPU 运行时中运行这个笔记本。在 Colab 中，选择* **Runtime > Change Runtime Type > GPU**\n",
    "\n",
    "### 设置你的 GCP 项目\n",
    "\n",
    "**无论你的笔记本环境如何，以下步骤都是必要的。**\n",
    "\n",
    "1. [选择或创建一个 GCP 项目](https://console.cloud.google.com/cloud-resource-manager)。当你第一次创建一个账户时，你会获得 $300 的免费信用用于支持你的计算/存储成本。\n",
    "\n",
    "2. [确保你的项目已启用计费。](https://cloud.google.com/billing/docs/how-to/modify-project)\n",
    "\n",
    "3. [启用 AutoML API 和 Compute Engine API。](https://console.cloud.google.com/flows/enableapi?apiid=ml.googleapis.com,compute_component)\n",
    "\n",
    "4. [Google Cloud SDK](https://cloud.google.com/sdk) 已经在 AutoML 笔记本中安装好了。\n",
    "\n",
    "5. 在下面的单元格中输入你的项目 ID。然后运行该单元格，确保 Cloud SDK 在本笔记本中的所有命令中都使用正确的项目。\n",
    "\n",
    "**注意**: Jupyter 运行以 `!` 开头的行作为 shell 命令，并且它插入带有 `$` 前缀的 Python 变量到这些命令中。"
   ]
  },
  {
   "cell_type": "markdown",
   "metadata": {
    "id": "hceMthWGJjkI"
   },
   "source": [
    "项目ID\n",
    "\n",
    "**如果你不知道你的项目ID**，请尝试使用`gcloud`命令在下面执行第二个单元格来获取你的项目ID。"
   ]
  },
  {
   "cell_type": "code",
   "execution_count": null,
   "metadata": {
    "id": "set_project_id"
   },
   "outputs": [],
   "source": [
    "PROJECT_ID = \"[your-project-id]\"  # @param {type:\"string\"}"
   ]
  },
  {
   "cell_type": "code",
   "execution_count": null,
   "metadata": {
    "id": "Xzde8OBYDdh2"
   },
   "outputs": [],
   "source": [
    "if PROJECT_ID == \"\" or PROJECT_ID is None or PROJECT_ID == \"[your-project-id]\":\n",
    "    # Get your GCP project id from gcloud\n",
    "    shell_output = !gcloud config list --format 'value(core.project)' 2>/dev/null\n",
    "    PROJECT_ID = shell_output[0]\n",
    "    print(\"Project ID:\", PROJECT_ID)"
   ]
  },
  {
   "cell_type": "code",
   "execution_count": null,
   "metadata": {
    "id": "0UfsdLCEJjkJ"
   },
   "outputs": [],
   "source": [
    "! gcloud config set project $PROJECT_ID"
   ]
  },
  {
   "cell_type": "markdown",
   "metadata": {
    "id": "jT0fijejJjkK"
   },
   "source": [
    "#### 地区\n",
    "\n",
    "您还可以更改`REGION`变量，该变量用于本笔记本的其余操作。以下是AutoML支持的地区。我们建议在可能的情况下，选择离您最近的地区。\n",
    "\n",
    "- 美洲：`us-central1`\n",
    "- 欧洲：`europe-west4`\n",
    "- 亚太地区：`asia-east1`\n",
    "\n",
    "您不能使用多地区存储桶来进行AutoML训练。并非所有地区都支持所有AutoML服务。有关每个地区的最新支持情况，请参阅[AutoML服务地区支持]()。"
   ]
  },
  {
   "cell_type": "code",
   "execution_count": null,
   "metadata": {
    "id": "CTBlncfrJjkK"
   },
   "outputs": [],
   "source": [
    "REGION = \"us-central1\"  # @param {type: \"string\"}"
   ]
  },
  {
   "cell_type": "markdown",
   "metadata": {
    "id": "J_croPBoJjkK"
   },
   "source": [
    "时间戳\n",
    "\n",
    "如果您正在进行现场教程会话，则可能正在使用共享测试账户或项目。为了避免在创建的资源上发生用户之间的名称冲突，您需要为每个实例会话创建一个时间戳，并附加到在本教程中将创建的资源的名称上。"
   ]
  },
  {
   "cell_type": "code",
   "execution_count": null,
   "metadata": {
    "id": "KKxStk5bJjkL"
   },
   "outputs": [],
   "source": [
    "from datetime import datetime\n",
    "\n",
    "TIMESTAMP = datetime.now().strftime(\"%Y%m%d%H%M%S\")"
   ]
  },
  {
   "cell_type": "markdown",
   "metadata": {
    "id": "h_L3MRsOmYED"
   },
   "source": [
    "### 对您的GCP账户进行身份验证\r\n",
    "\r\n",
    "**如果您正在使用AutoML笔记本**，您的环境已经通过身份验证。跳过这一步。\r\n",
    "\r\n",
    "*提示: 如果您正在使用AutoML笔记本并运行该单元格，单元格会自动跳过执行身份验证步骤。*"
   ]
  },
  {
   "cell_type": "code",
   "execution_count": null,
   "metadata": {
    "id": "HvxYUdIfGAM-"
   },
   "outputs": [],
   "source": [
    "import os\n",
    "import sys\n",
    "\n",
    "# If you are running this notebook in Colab, run this cell and follow the\n",
    "# instructions to authenticate your Google Cloud account. This provides access\n",
    "# to your Cloud Storage bucket and lets you submit training jobs and prediction\n",
    "# requests.\n",
    "\n",
    "# If on Vertex, then don't execute this code\n",
    "if not os.path.exists(\"/opt/deeplearning/metadata/env_version\"):\n",
    "    if \"google.colab\" in sys.modules:\n",
    "        from google.colab import auth as google_auth\n",
    "\n",
    "        google_auth.authenticate_user()\n",
    "\n",
    "    # If you are running this tutorial in a notebook locally, replace the string\n",
    "    # below with the path to your service account key and run this cell to\n",
    "    # authenticate your Google Cloud account.\n",
    "    else:\n",
    "        %env GOOGLE_APPLICATION_CREDENTIALS your_path_to_credentials.json\n",
    "\n",
    "    # Log in to your account on Google Cloud\n",
    "    ! gcloud auth login"
   ]
  },
  {
   "cell_type": "markdown",
   "metadata": {
    "id": "MDUAZaN3JjkL"
   },
   "source": [
    "### 创建一个云存储桶\n",
    "\n",
    "**无论您使用的笔记本环境如何，下面的步骤都是必需的。**\n",
    "\n",
    "本教程旨在使用位于公共云存储桶中的训练数据，并为您的批量预测使用本地云存储桶。您也可以使用自己存储在本地云存储桶中的训练数据。\n",
    "\n",
    "请在下方设置您的云存储桶的名称。该名称必须在所有云存储桶中唯一。"
   ]
  },
  {
   "cell_type": "code",
   "execution_count": null,
   "metadata": {
    "id": "bucket"
   },
   "outputs": [],
   "source": [
    "BUCKET_NAME = \"[your-bucket-name]\"  # @param {type:\"string\"}"
   ]
  },
  {
   "cell_type": "code",
   "execution_count": null,
   "metadata": {
    "id": "autoset_bucket"
   },
   "outputs": [],
   "source": [
    "if BUCKET_NAME == \"\" or BUCKET_NAME is None or BUCKET_NAME == \"[your-bucket-name]\":\n",
    "    BUCKET_NAME = PROJECT_ID + \"aip-\" + TIMESTAMP"
   ]
  },
  {
   "cell_type": "markdown",
   "metadata": {
    "id": "yU6VuylGJjkM"
   },
   "source": [
    "只有在您的存储桶不存在时才运行以下单元格来创建您的云存储存储桶。"
   ]
  },
  {
   "cell_type": "code",
   "execution_count": null,
   "metadata": {
    "id": "QVRixM4oJjkM"
   },
   "outputs": [],
   "source": [
    "! gsutil mb -l $REGION gs://$BUCKET_NAME"
   ]
  },
  {
   "cell_type": "markdown",
   "metadata": {
    "id": "Mi-Pdh6QJjkN"
   },
   "source": [
    "最后，通过检查云存储桶的内容来验证对其的访问。"
   ]
  },
  {
   "cell_type": "code",
   "execution_count": null,
   "metadata": {
    "id": "aqDptKpYJjkN"
   },
   "outputs": [],
   "source": [
    "! gsutil ls -al gs://$BUCKET_NAME"
   ]
  },
  {
   "cell_type": "markdown",
   "metadata": {
    "id": "fR9geV9pJjkO"
   },
   "source": [
    "### 设置变量\n",
    "\n",
    "接下来，设置一些在教程中使用的变量。\n",
    "### 导入库并定义常量"
   ]
  },
  {
   "cell_type": "markdown",
   "metadata": {
    "id": "hIHTX-pkJjkO"
   },
   "source": [
    "#### 导入AutoML SDK\n",
    "\n",
    "将AutoM SDK导入我们的Python环境中。"
   ]
  },
  {
   "cell_type": "code",
   "execution_count": null,
   "metadata": {
    "id": "qrSkIKVgJjkO"
   },
   "outputs": [],
   "source": [
    "import json\n",
    "import time\n",
    "\n",
    "from google.cloud import automl\n",
    "from google.protobuf.json_format import MessageToJson"
   ]
  },
  {
   "cell_type": "markdown",
   "metadata": {
    "id": "lbv411XjJjkP"
   },
   "source": [
    "#### 自动机器学习常量\n",
    "\n",
    "为自动机器学习设置以下常量：\n",
    "\n",
    "- `PARENT`：用于数据集、模型和端点资源的AutoML根路径。"
   ]
  },
  {
   "cell_type": "code",
   "execution_count": null,
   "metadata": {
    "id": "Gx8Eos8PJjkP"
   },
   "outputs": [],
   "source": [
    "# AutoM location root path for your dataset, model and endpoint resources\n",
    "PARENT = \"projects/\" + PROJECT_ID + \"/locations/\" + REGION"
   ]
  },
  {
   "cell_type": "markdown",
   "metadata": {
    "id": "JeM1smVJlH61"
   },
   "source": [
    "## 客户端\n",
    "\n",
    "AutoML SDK 作为一个客户端/服务器模型运行。在你的一侧（Python脚本），你将创建一个客户端，该客户端向服务器（AutoML）发送请求并接收响应。\n",
    "\n",
    "在本教程中，您将使用多个客户端，因此请提前设置好它们。"
   ]
  },
  {
   "cell_type": "code",
   "execution_count": null,
   "metadata": {
    "id": "c3sR3OxmxXiR"
   },
   "outputs": [],
   "source": [
    "def automl_client():\n",
    "    return automl.AutoMlClient()\n",
    "\n",
    "\n",
    "def prediction_client():\n",
    "    return automl.PredictionServiceClient()\n",
    "\n",
    "\n",
    "def operations_client():\n",
    "    return automl.AutoMlClient()._transport.operations_client\n",
    "\n",
    "\n",
    "clients = {}\n",
    "clients[\"automl\"] = automl_client()\n",
    "clients[\"prediction\"] = prediction_client()\n",
    "clients[\"operations\"] = operations_client()\n",
    "\n",
    "for client in clients.items():\n",
    "    print(client)"
   ]
  },
  {
   "cell_type": "code",
   "execution_count": null,
   "metadata": {
    "id": "import_file:flowers,csv,icn"
   },
   "outputs": [],
   "source": [
    "IMPORT_FILE = \"gs://cloud-ml-data/NL-classification/happiness.csv\""
   ]
  },
  {
   "cell_type": "code",
   "execution_count": null,
   "metadata": {
    "id": "cjhb6UrAaGwi"
   },
   "outputs": [],
   "source": [
    "! gsutil cat $IMPORT_FILE | head -n 10"
   ]
  },
  {
   "cell_type": "markdown",
   "metadata": {
    "id": "gpsfIXYeaGwj"
   },
   "source": [
    "*示例输出*：\n",
    "我和一个我感到同情和联系的人成功约会了.,深情\n",
    "当我儿子考试得了90%的分数时我很高兴,深情\n",
    "今天早上我去了健身房做瑜伽.,运动\n",
    "我们和最近有点靠不住的一些朋友认真地谈了一次。他们理解了，我们一起度过了一个愉快的晚上。,联结\n",
    "我和孙子孙女一起去了克罗恩植物园的蝴蝶展,深情\n",
    "昨晚我冥想了.,休闲\n",
    "\"我做了一个新的农民面包食谱，而且做得非常棒!\",成就\n",
    "我收到了哥哥送的礼物，真的让我很惊讶,深情\n",
    "昨天是我妈妈的生日，所以我很享受,enjoy_the_moment\n",
    "我和我三个青少年孩子一起看杯子蛋糕大战。,深情"
   ]
  },
  {
   "cell_type": "markdown",
   "metadata": {
    "id": "text_create_dataset:migration"
   },
   "source": [
    "创建一个数据集"
   ]
  },
  {
   "cell_type": "markdown",
   "metadata": {
    "id": "text_datasets_create:migration,old"
   },
   "source": [
    "### [projects.locations.datasets.create](https://cloud.google.com/automl/docs/reference/rest/v1beta1/projects.locations.datasets/create) \n",
    "\n",
    "### [项目位置数据集创建](https://cloud.google.com/automl/docs/reference/rest/v1beta1/projects.locations.datasets/create)"
   ]
  },
  {
   "cell_type": "markdown",
   "metadata": {
    "id": "ozaMOwdNJjkT"
   },
   "source": [
    "#### 请求"
   ]
  },
  {
   "cell_type": "code",
   "execution_count": null,
   "metadata": {
    "id": "IFEbAUNwlH64"
   },
   "outputs": [],
   "source": [
    "dataset = {\n",
    "    \"display_name\": \"happiness_\" + TIMESTAMP,\n",
    "    \"text_classification_dataset_metadata\": {\"classification_type\": \"MULTICLASS\"},\n",
    "}\n",
    "\n",
    "print(\n",
    "    MessageToJson(\n",
    "        automl.CreateDatasetRequest(parent=PARENT, dataset=dataset).__dict__[\"_pb\"]\n",
    "    )\n",
    ")"
   ]
  },
  {
   "cell_type": "markdown",
   "metadata": {
    "id": "endpoints_undeploymodel:migration,new,response"
   },
   "source": [
    "{\n",
    "  \"父项\": \"projects/migration-ucaip-training/locations/us-central1\",\n",
    "  \"数据集\": {\n",
    "    \"displayName\": \"happiness_20210228224317\",\n",
    "    \"textClassificationDatasetMetadata\": {\n",
    "      \"classificationType\": \"MULTICLASS\"\n",
    "    }\n",
    "  }\n",
    "}"
   ]
  },
  {
   "cell_type": "markdown",
   "metadata": {
    "id": "vHkuSZxkJjkT"
   },
   "source": [
    "#### 呼叫"
   ]
  },
  {
   "cell_type": "code",
   "execution_count": null,
   "metadata": {
    "id": "o_JsNpQ1lH65"
   },
   "outputs": [],
   "source": [
    "request = clients[\"automl\"].create_dataset(parent=PARENT, dataset=dataset)"
   ]
  },
  {
   "cell_type": "markdown",
   "metadata": {
    "id": "FLqkZMD2JjkT"
   },
   "source": [
    "#### 回應"
   ]
  },
  {
   "cell_type": "code",
   "execution_count": null,
   "metadata": {
    "id": "5eOgT5MllH65"
   },
   "outputs": [],
   "source": [
    "result = request.result()\n",
    "\n",
    "print(MessageToJson(result.__dict__[\"_pb\"]))"
   ]
  },
  {
   "cell_type": "markdown",
   "metadata": {
    "id": "PGuI5t-gaGwm"
   },
   "source": [
    "{\n",
    "  \"name\": \"projects/116273516712/locations/us-central1/datasets/TCN2705019056410329088\"\n",
    "}\n",
    "```\n",
    "\n",
    "示例输出：\n",
    "```\n",
    "{\n",
    "  \"name\": \"projects/116273516712/locations/us-central1/datasets/TCN2705019056410329088\"\n",
    "}\n",
    "```"
   ]
  },
  {
   "cell_type": "code",
   "execution_count": null,
   "metadata": {
    "id": "wKsCzHBMaGwn"
   },
   "outputs": [],
   "source": [
    "# The full unique ID for the dataset\n",
    "dataset_id = result.name\n",
    "# The short numeric ID for the dataset\n",
    "dataset_short_id = dataset_id.split(\"/\")[-1]\n",
    "\n",
    "print(dataset_id)"
   ]
  },
  {
   "cell_type": "markdown",
   "metadata": {
    "id": "text_datasets_importdata:migration,old"
   },
   "source": [
    "### [项目.位置.数据集.导入数据](https://cloud.google.com/automl/docs/reference/rest/v1beta1/projects.locations.datasets/importData)"
   ]
  },
  {
   "cell_type": "markdown",
   "metadata": {
    "id": "VkfdNI66lH66"
   },
   "source": [
    "请求"
   ]
  },
  {
   "cell_type": "code",
   "execution_count": null,
   "metadata": {
    "id": "MtS0VtlMlH66"
   },
   "outputs": [],
   "source": [
    "input_config = {\"gcs_source\": {\"input_uris\": [IMPORT_FILE]}}\n",
    "\n",
    "print(\n",
    "    MessageToJson(\n",
    "        automl.ImportDataRequest(name=dataset_id, input_config=input_config).__dict__[\n",
    "            \"_pb\"\n",
    "        ]\n",
    "    )\n",
    ")"
   ]
  },
  {
   "cell_type": "markdown",
   "metadata": {
    "id": "Z52Bxts7aGwo"
   },
   "source": [
    "{\n",
    "  \"name\": \"projects/116273516712/locations/us-central1/datasets/TCN2705019056410329088\",\n",
    "  \"inputConfig\": {\n",
    "    \"gcsSource\": {\n",
    "      \"inputUris\": [\n",
    "        \"gs://cloud-ml-data/NL-classification/happiness.csv\"\n",
    "      ]\n",
    "    }\n",
    "  }\n",
    "} \n",
    "*示例输出*："
   ]
  },
  {
   "cell_type": "markdown",
   "metadata": {
    "id": "Gmg3fbX_lH66"
   },
   "source": [
    "#### 召唤"
   ]
  },
  {
   "cell_type": "code",
   "execution_count": null,
   "metadata": {
    "id": "yvEILSOelH66"
   },
   "outputs": [],
   "source": [
    "request = clients[\"automl\"].import_data(name=dataset_id, input_config=input_config)"
   ]
  },
  {
   "cell_type": "markdown",
   "metadata": {
    "id": "WMUN_7EclH67"
   },
   "source": [
    "### 响应"
   ]
  },
  {
   "cell_type": "code",
   "execution_count": null,
   "metadata": {
    "id": "Tf4Yf6JAlH67"
   },
   "outputs": [],
   "source": [
    "result = request.result()\n",
    "\n",
    "print(MessageToJson(result))"
   ]
  },
  {
   "cell_type": "markdown",
   "metadata": {
    "id": "6Pwgc1IYaGwq"
   },
   "source": [
    "示例输出：\n",
    "```\n",
    "{}\n",
    "```"
   ]
  },
  {
   "cell_type": "markdown",
   "metadata": {
    "id": "text_create_and_deploy_model:migration"
   },
   "source": [
    "训练一个模型"
   ]
  },
  {
   "cell_type": "markdown",
   "metadata": {
    "id": "text_models_create:migration,old"
   },
   "source": [
    "### [projects.locations.models.create](https://cloud.google.com/automl/docs/reference/rest/v1beta1/projects.locations.models/create) \n",
    "\n",
    "### [项目.位置.模型.创建](https://cloud.google.com/automl/docs/reference/rest/v1beta1/projects.locations.models/create)"
   ]
  },
  {
   "cell_type": "markdown",
   "metadata": {
    "id": "sbJ0wIRHlH67"
   },
   "source": [
    "#### 请求"
   ]
  },
  {
   "cell_type": "code",
   "execution_count": null,
   "metadata": {
    "id": "mCAqrD7elH68"
   },
   "outputs": [],
   "source": [
    "model = automl.Model(\n",
    "    display_name=\"happiness_\" + TIMESTAMP,\n",
    "    dataset_id=dataset_short_id,\n",
    "    text_classification_model_metadata=automl.TextClassificationModelMetadata(),\n",
    ")\n",
    "\n",
    "print(\n",
    "    MessageToJson(automl.CreateModelRequest(parent=PARENT, model=model).__dict__[\"_pb\"])\n",
    ")"
   ]
  },
  {
   "cell_type": "markdown",
   "metadata": {
    "id": "PLAe7LgtaGwr"
   },
   "source": [
    "{\n",
    "  \"parent\": \"projects/migration-ucaip-training/locations/us-central1\",\n",
    "  \"model\": {\n",
    "    \"displayName\": \"happiness_20210228224317\",\n",
    "    \"datasetId\": \"TCN2705019056410329088\",\n",
    "    \"textClassificationModelMetadata\": {}\n",
    "  }\n",
    "} \n",
    "\n",
    "*示例输出*:\n",
    "{\n",
    "  \"parent\": \"projects/migration-ucaip-training/locations/us-central1\",\n",
    "  \"model\": {\n",
    "    \"displayName\": \"happiness_20210228224317\",\n",
    "    \"datasetId\": \"TCN2705019056410329088\",\n",
    "    \"textClassificationModelMetadata\": {}\n",
    "  }\n",
    "}\n"
   ]
  },
  {
   "cell_type": "markdown",
   "metadata": {
    "id": "K2UcVNlAlH68"
   },
   "source": [
    "#### 电话"
   ]
  },
  {
   "cell_type": "code",
   "execution_count": null,
   "metadata": {
    "id": "FpSHTRfElH69"
   },
   "outputs": [],
   "source": [
    "request = clients[\"automl\"].create_model(parent=PARENT, model=model)"
   ]
  },
  {
   "cell_type": "markdown",
   "metadata": {
    "id": "rTFtnIKZlH6-"
   },
   "source": [
    "#### 回复"
   ]
  },
  {
   "cell_type": "code",
   "execution_count": null,
   "metadata": {
    "id": "UmoMM7VSlH6-"
   },
   "outputs": [],
   "source": [
    "result = request.result()\n",
    "\n",
    "print(MessageToJson(result.__dict__[\"_pb\"]))"
   ]
  },
  {
   "cell_type": "markdown",
   "metadata": {
    "id": "EzKxl38qaGws"
   },
   "source": [
    "示例输出：\n",
    "```\n",
    "{\n",
    "  \"name\": \"projects/116273516712/locations/us-central1/models/TCN5333697920992542720\"\n",
    "}\n",
    "```"
   ]
  },
  {
   "cell_type": "code",
   "execution_count": null,
   "metadata": {
    "id": "4QxYMtjYaGws"
   },
   "outputs": [],
   "source": [
    "# The full unique ID for the training pipeline\n",
    "model_id = result.name\n",
    "# The short numeric ID for the training pipeline\n",
    "model_short_id = model_id.split(\"/\")[-1]\n",
    "\n",
    "print(model_short_id)"
   ]
  },
  {
   "cell_type": "markdown",
   "metadata": {
    "id": "text_evaluate_the_model:migration"
   },
   "source": [
    "## 评估模型"
   ]
  },
  {
   "cell_type": "markdown",
   "metadata": {
    "id": "yfufMwAEJjkX"
   },
   "source": [
    "### [projects.locations.models.modelEvaluations.list](https://cloud.google.com/automl/docs/reference/rest/v1beta1/projects.locations.models.modelEvaluations/list)\n",
    "\n",
    "### [项目.位置.模型.模型评估.列表](https://cloud.google.com/automl/docs/reference/rest/v1beta1/projects.locations.models.modelEvaluations/list)"
   ]
  },
  {
   "cell_type": "markdown",
   "metadata": {
    "id": "4wJgA2D8lH6_"
   },
   "source": [
    "#### 电话"
   ]
  },
  {
   "cell_type": "code",
   "execution_count": null,
   "metadata": {
    "id": "fxMsWaailH6_"
   },
   "outputs": [],
   "source": [
    "request = clients[\"automl\"].list_model_evaluations(parent=model_id, filter=\"\")"
   ]
  },
  {
   "cell_type": "markdown",
   "metadata": {
    "id": "IBOLi2gflH6_"
   },
   "source": [
    "#### 回复"
   ]
  },
  {
   "cell_type": "code",
   "execution_count": null,
   "metadata": {
    "id": "E5xVerw2aGwu"
   },
   "outputs": [],
   "source": [
    "evaluations_list = [\n",
    "    json.loads(MessageToJson(me.__dict__[\"_pb\"])) for me in request.model_evaluation\n",
    "]\n",
    "\n",
    "print(json.dumps(evaluations_list, indent=2))\n",
    "# The  evaluation slice\n",
    "evaluation_slice = request.model_evaluation[0].name"
   ]
  },
  {
   "cell_type": "markdown",
   "metadata": {
    "id": "bB3px5SBxXig"
   },
   "source": [
    "*示例输出*：\n",
    "```\n",
    "[\n",
    "  {\n",
    "    \"name\": \"projects/116273516712/locations/us-central1/models/TCN5333697920992542720/modelEvaluations/1436745357261371663\",\n",
    "    \"annotationSpecId\": \"3130761503557287936\",\n",
    "    \"createTime\": \"2021-03-01T02:56:28.878044Z\",\n",
    "    \"evaluatedExampleCount\": 1193,\n",
    "    \"classificationEvaluationMetrics\": {\n",
    "      \"auPrc\": 0.99065405,\n",
    "      \"confidenceMetricsEntry\": [\n",
    "        {\n",
    "          \"recall\": 1.0,\n",
    "          \"precision\": 0.01424979,\n",
    "          \"f1Score\": 0.028099174\n",
    "        },\n",
    "        {\n",
    "          \"confidenceThreshold\": 0.05,\n",
    "          \"recall\": 1.0,\n",
    "          \"precision\": 0.5862069,\n",
    "          \"f1Score\": 0.73913044\n",
    "        },\n",
    "        {\n",
    "          \"confidenceThreshold\": 0.94,\n",
    "          \"recall\": 0.64705884,\n",
    "          \"precision\": 1.0,\n",
    "          \"f1Score\": 0.7857143\n",
    "        },\n",
    "        \n",
    "        # 省略部分\n",
    "        \n",
    "        {\n",
    "          \"confidenceThreshold\": 0.999,\n",
    "          \"recall\": 0.21372032,\n",
    "          \"precision\": 1.0,\n",
    "          \"f1Score\": 0.35217392\n",
    "        },\n",
    "        {\n",
    "          \"confidenceThreshold\": 1.0,\n",
    "          \"recall\": 0.0026385225,\n",
    "          \"precision\": 1.0,\n",
    "          \"f1Score\": 0.005263158\n",
    "        }\n",
    "      ],\n",
    "      \"logLoss\": 0.14686257\n",
    "    },\n",
    "    \"displayName\": \"achievement\"\n",
    "  }\n",
    "]\n",
    "```"
   ]
  },
  {
   "cell_type": "markdown",
   "metadata": {
    "id": "i6T0bzuNJjkY"
   },
   "source": [
    "### [projects.locations.models.modelEvaluations.get](https://cloud.google.com/automl/docs/reference/rest/v1beta1/projects.locations.models.modelEvaluations/get)\n",
    "\n",
    "### [projects.locations.models.modelEvaluations.get](https://cloud.google.com/automl/docs/reference/rest/v1beta1/projects.locations.models.modelEvaluations/get)"
   ]
  },
  {
   "cell_type": "markdown",
   "metadata": {
    "id": "16ZPQWjulH6_"
   },
   "source": [
    "电话"
   ]
  },
  {
   "cell_type": "code",
   "execution_count": null,
   "metadata": {
    "id": "aorkRa76lH7A"
   },
   "outputs": [],
   "source": [
    "request = clients[\"automl\"].get_model_evaluation(name=evaluation_slice)"
   ]
  },
  {
   "cell_type": "markdown",
   "metadata": {
    "id": "pHodXIWxlH7A"
   },
   "source": [
    "#### 回复"
   ]
  },
  {
   "cell_type": "code",
   "execution_count": null,
   "metadata": {
    "id": "CX5GXZkDlH7A"
   },
   "outputs": [],
   "source": [
    "print(MessageToJson(request.__dict__[\"_pb\"]))"
   ]
  },
  {
   "cell_type": "markdown",
   "metadata": {
    "id": "XauXDBQfaGwx"
   },
   "source": [
    "*示例输出*：\n",
    "```\n",
    "{\n",
    "  \"name\": \"projects/116273516712/locations/us-central1/models/TCN5333697920992542720/modelEvaluations/1436745357261371663\",\n",
    "  \"annotationSpecId\": \"3130761503557287936\",\n",
    "  \"createTime\": \"2021-03-01T02:56:28.878044Z\",\n",
    "  \"evaluatedExampleCount\": 1193,\n",
    "  \"classificationEvaluationMetrics\": {\n",
    "    \"auPrc\": 0.99065405,\n",
    "    \"confidenceMetricsEntry\": [\n",
    "      {\n",
    "        \"recall\": 1.0,\n",
    "        \"precision\": 0.01424979,\n",
    "        \"f1Score\": 0.028099174\n",
    "      },\n",
    "      {\n",
    "        \"confidenceThreshold\": 0.05,\n",
    "        \"recall\": 1.0,\n",
    "        \"precision\": 0.5862069,\n",
    "        \"f1Score\": 0.73913044\n",
    "      },\n",
    "      \n",
    "      # 省略部分\n",
    "      \n",
    "      {\n",
    "        \"confidenceThreshold\": 0.999,\n",
    "        \"recall\": 0.23529412,\n",
    "        \"precision\": 1.0,\n",
    "        \"f1Score\": 0.3809524\n",
    "      },\n",
    "      {\n",
    "        \"confidenceThreshold\": 1.0,\n",
    "        \"precision\": 1.0\n",
    "      }\n",
    "    ],\n",
    "    \"logLoss\": 0.005436425\n",
    "  },\n",
    "  \"displayName\": \"exercise\"\n",
    "}\n",
    "```"
   ]
  },
  {
   "cell_type": "markdown",
   "metadata": {
    "id": "xksNVRJIlH7A"
   },
   "source": [
    "进行批量预测"
   ]
  },
  {
   "cell_type": "markdown",
   "metadata": {
    "id": "CilSsXsyaGw5"
   },
   "source": [
    "### 为批处理预测准备文件"
   ]
  },
  {
   "cell_type": "code",
   "execution_count": null,
   "metadata": {
    "id": "6uSIK0_jaGw5"
   },
   "outputs": [],
   "source": [
    "test_item = ! gsutil cat $IMPORT_FILE | head -n1\n",
    "test_item, test_label = str(test_item[0]).split(\",\")\n",
    "\n",
    "print(test_item, test_label)"
   ]
  },
  {
   "cell_type": "code",
   "execution_count": null,
   "metadata": {
    "id": "4Saj5dsWlH7A"
   },
   "outputs": [],
   "source": [
    "import json\n",
    "\n",
    "import tensorflow as tf\n",
    "\n",
    "test_item_uri = \"gs://\" + BUCKET_NAME + \"/test.txt\"\n",
    "with tf.io.gfile.GFile(test_item_uri, \"w\") as f:\n",
    "    f.write(test_item + \"\\n\")\n",
    "\n",
    "gcs_input_uri = \"gs://\" + BUCKET_NAME + \"/batch.csv\"\n",
    "with tf.io.gfile.GFile(gcs_input_uri, \"w\") as f:\n",
    "    f.write(test_item_uri + \"\\n\")"
   ]
  },
  {
   "cell_type": "code",
   "execution_count": null,
   "metadata": {
    "id": "nTTzKkr7aGw6"
   },
   "outputs": [],
   "source": [
    "! gsutil cat $gcs_input_uri\n",
    "! gsutil cat $test_item_uri"
   ]
  },
  {
   "cell_type": "markdown",
   "metadata": {
    "id": "TPtwEmoeaGw6"
   },
   "source": [
    "示例输出：\n",
    "```\n",
    "gs://migration-ucaip-trainingaip-20210228224317/test.txt\n",
    "我跟一个我感到同情和有连接的人成功约会了。\n",
    "```"
   ]
  },
  {
   "cell_type": "markdown",
   "metadata": {
    "id": "text_models_batchpredict:migration,old"
   },
   "source": [
    "### [projects.locations.models.batchPredict](https://cloud.google.com/automl/docs/reference/rest/v1beta1/projects.locations.models/batchPredict)\n",
    "\n",
    "### [项目.地点.模型.批量预测](https://cloud.google.com/automl/docs/reference/rest/v1beta1/projects.locations.models/batchPredict)"
   ]
  },
  {
   "cell_type": "markdown",
   "metadata": {
    "id": "9Vyk6FVxlH7C"
   },
   "source": [
    "请求"
   ]
  },
  {
   "cell_type": "code",
   "execution_count": null,
   "metadata": {
    "id": "C73-3tt0lH7C"
   },
   "outputs": [],
   "source": [
    "input_config = {\"gcs_source\": {\"input_uris\": [gcs_input_uri]}}\n",
    "\n",
    "output_config = {\n",
    "    \"gcs_destination\": {\"output_uri_prefix\": \"gs://\" + f\"{BUCKET_NAME}/batch_output/\"}\n",
    "}\n",
    "\n",
    "print(\n",
    "    MessageToJson(\n",
    "        automl.BatchPredictRequest(\n",
    "            name=model_id, input_config=input_config, output_config=output_config\n",
    "        ).__dict__[\"_pb\"]\n",
    "    )\n",
    ")"
   ]
  },
  {
   "cell_type": "markdown",
   "metadata": {
    "id": "TX0IQkdOaGw8"
   },
   "source": [
    "{\n",
    "  \"name\": \"projects/116273516712/locations/us-central1/models/TCN5333697920992542720\",\n",
    "  \"inputConfig\": {\n",
    "    \"gcsSource\": {\n",
    "      \"inputUris\": [\n",
    "        \"gs://migration-ucaip-trainingaip-20210228224317/batch.csv\"\n",
    "      ]\n",
    "    }\n",
    "  },\n",
    "  \"outputConfig\": {\n",
    "    \"gcsDestination\": {\n",
    "      \"outputUriPrefix\": \"gs://migration-ucaip-trainingaip-20210228224317/batch_output/\"\n",
    "    }\n",
    "  }\n",
    "}"
   ]
  },
  {
   "cell_type": "markdown",
   "metadata": {
    "id": "D5pvxloAlH7C"
   },
   "source": [
    "电话"
   ]
  },
  {
   "cell_type": "code",
   "execution_count": null,
   "metadata": {
    "id": "VMiC645dlH7C"
   },
   "outputs": [],
   "source": [
    "request = clients[\"prediction\"].batch_predict(\n",
    "    name=model_id, input_config=input_config, output_config=output_config\n",
    ")"
   ]
  },
  {
   "cell_type": "markdown",
   "metadata": {
    "id": "kFtsjWHIlH7D"
   },
   "source": [
    "#### 回复"
   ]
  },
  {
   "cell_type": "code",
   "execution_count": null,
   "metadata": {
    "id": "Nqg__59clH7D"
   },
   "outputs": [],
   "source": [
    "result = request.result()\n",
    "\n",
    "print(MessageToJson(result.__dict__[\"_pb\"]))"
   ]
  },
  {
   "cell_type": "markdown",
   "metadata": {
    "id": "771dDuKzg8Mk"
   },
   "source": [
    "*示例输出*：\r\n",
    "```\r\n",
    "{}\r\n",
    "```"
   ]
  },
  {
   "cell_type": "code",
   "execution_count": null,
   "metadata": {
    "id": "fnYRCde3xXie"
   },
   "outputs": [],
   "source": [
    "destination_uri = output_config[\"gcs_destination\"][\"output_uri_prefix\"][:-1]\n",
    "\n",
    "! gsutil ls $destination_uri/*\n",
    "! gsutil cat $destination_uri/prediction*/*.jsonl"
   ]
  },
  {
   "cell_type": "markdown",
   "metadata": {
    "id": "gVNVzw5EaGw-"
   },
   "source": [
    "*示例输出*：\n",
    "```\n",
    "gs://migration-ucaip-trainingaip-20210228224317/batch_output/prediction-happiness_20210228224317-2021-03-01T02:57:02.004934Z/text_classification_1.jsonl\n",
    "gs://migration-ucaip-trainingaip-20210228224317/batch_output/prediction-happiness_20210228224317-2021-03-01T02:57:02.004934Z/text_classification_2.jsonl\n",
    "{\"textSnippet\":{\"contentUri\":\"gs://migration-ucaip-trainingaip-20210228224317/test.txt\"},\"annotations\":[{\"annotationSpecId\":\"5436604512770981888\",\"classification\":{\"score\":0.93047273},\"displayName\":\"affection\"},{\"annotationSpecId\":\"3707222255860711424\",\"classification\":{\"score\":0.002518793},\"displayName\":\"achievement\"},{\"annotationSpecId\":\"7742447521984675840\",\"classification\":{\"score\":1.3182563E-4},\"displayName\":\"enjoy_the_moment\"},{\"annotationSpecId\":\"824918494343593984\",\"classification\":{\"score\":0.06613126},\"displayName\":\"bonding\"},{\"annotationSpecId\":\"1977839998950440960\",\"classification\":{\"score\":1.5267624E-5},\"displayName\":\"leisure\"},{\"annotationSpecId\":\"8318908274288099328\",\"classification\":{\"score\":8.887557E-6},\"displayName\":\"nature\"},{\"annotationSpecId\":\"3130761503557287936\",\"classification\":{\"score\":7.2130124E-4},\"displayName\":\"exercise\"}]}\n",
    "```"
   ]
  },
  {
   "cell_type": "markdown",
   "metadata": {
    "id": "y_rNqE85lH7D"
   },
   "source": [
    "进行在线预测"
   ]
  },
  {
   "cell_type": "markdown",
   "metadata": {
    "id": "text_models_deploy:migration,old"
   },
   "source": [
    "### [projects.locations.models.deploy](https://cloud.google.com/automl/docs/reference/rest/v1beta1/projects.locations.models/deploy)\n",
    "\n",
    "### [projects.locations.models.deploy](https://cloud.google.com/automl/docs/reference/rest/v1beta1/projects.locations.models/deploy)"
   ]
  },
  {
   "cell_type": "markdown",
   "metadata": {
    "id": "VUfhwbkLlH7E"
   },
   "source": [
    "#### 电话"
   ]
  },
  {
   "cell_type": "code",
   "execution_count": null,
   "metadata": {
    "id": "tojYy4j6lH7E"
   },
   "outputs": [],
   "source": [
    "request = clients[\"automl\"].deploy_model(name=model_id)"
   ]
  },
  {
   "cell_type": "markdown",
   "metadata": {
    "id": "8OaGY7JmlH7E"
   },
   "source": [
    "####回应"
   ]
  },
  {
   "cell_type": "code",
   "execution_count": null,
   "metadata": {
    "id": "voC8sroOlH7E"
   },
   "outputs": [],
   "source": [
    "result = request.result()\n",
    "\n",
    "print(MessageToJson(result))"
   ]
  },
  {
   "cell_type": "markdown",
   "metadata": {
    "id": "CZ-62obNmBNc"
   },
   "source": [
    "*示例输出*：\n",
    "``` \n",
    "{}\n",
    "```"
   ]
  },
  {
   "cell_type": "markdown",
   "metadata": {
    "id": "text_models_predict:migration,old"
   },
   "source": [
    "### [projects.locations.models.predict](https://cloud.google.com/automl/docs/reference/rest/v1beta1/projects.locations.models/predict)\n",
    "\n",
    "### [projects.locations.models.predict](https://cloud.google.com/automl/docs/reference/rest/v1beta1/projects.locations.models/predict)"
   ]
  },
  {
   "cell_type": "markdown",
   "metadata": {
    "id": "v3Hc1PEyyabD"
   },
   "source": [
    "### 为在线预测准备数据项"
   ]
  },
  {
   "cell_type": "code",
   "execution_count": null,
   "metadata": {
    "id": "EzXouIJ0aGxB"
   },
   "outputs": [],
   "source": [
    "test_item = ! gsutil cat $IMPORT_FILE | head -n1\n",
    "test_item, test_label = str(test_item[0]).split(\",\")"
   ]
  },
  {
   "cell_type": "markdown",
   "metadata": {
    "id": "LcSHb_A0lH7F"
   },
   "source": [
    "#### 请求"
   ]
  },
  {
   "cell_type": "code",
   "execution_count": null,
   "metadata": {
    "id": "BEHtyu-BlH7F"
   },
   "outputs": [],
   "source": [
    "payload = {\"text_snippet\": {\"content\": test_item, \"mime_type\": \"text/plain\"}}\n",
    "\n",
    "request = automl.PredictRequest(name=model_id, payload=payload)\n",
    "\n",
    "print(MessageToJson(request.__dict__[\"_pb\"]))"
   ]
  },
  {
   "cell_type": "markdown",
   "metadata": {
    "id": "In8qh2Z1aGxC"
   },
   "source": [
    "```\n",
    "{\n",
    "  \"名称\": \"projects/116273516712/locations/us-central1/models/TCN5333697920992542720\",\n",
    "  \"有效载荷\": {\n",
    "    \"文本片段\": {\n",
    "      \"内容\": \"我和一个我感到同情和连接的人成功约会了。\",\n",
    "      \"MIME 类型\": \"text/plain\"\n",
    "    }\n",
    "  }\n",
    "}\n",
    "```"
   ]
  },
  {
   "cell_type": "markdown",
   "metadata": {
    "id": "xR4xdzeflH7F"
   },
   "source": [
    "#### 呼叫"
   ]
  },
  {
   "cell_type": "code",
   "execution_count": null,
   "metadata": {
    "id": "Cfy8J23SlH7F"
   },
   "outputs": [],
   "source": [
    "request = clients[\"prediction\"].predict(request=request)"
   ]
  },
  {
   "cell_type": "markdown",
   "metadata": {
    "id": "N0dT5DXblH7F"
   },
   "source": [
    "#### 响应"
   ]
  },
  {
   "cell_type": "code",
   "execution_count": null,
   "metadata": {
    "id": "CHf-Y_XtlH7G"
   },
   "outputs": [],
   "source": [
    "print(MessageToJson(request.__dict__[\"_pb\"]))"
   ]
  },
  {
   "cell_type": "markdown",
   "metadata": {
    "id": "3RxSK0xDaGxC"
   },
   "source": [
    "{\n",
    "  \"输出\": [\n",
    "    {\n",
    "      \"注释规范ID\": \"5436604512770981888\",\n",
    "      \"分类\": {\n",
    "        \"得分\": 0.9272586\n",
    "      },\n",
    "      \"显示名称\": \"情感\"\n",
    "    },\n",
    "    {\n",
    "      \"注释规范ID\": \"824918494343593984\",\n",
    "      \"分类\": {\n",
    "        \"得分\": 0.068884976\n",
    "      },\n",
    "      \"显示名称\": \"结合\"\n",
    "    },\n",
    "    {\n",
    "      \"注释规范ID\": \"3707222255860711424\",\n",
    "      \"分类\": {\n",
    "        \"得分\": 0.0028119811\n",
    "      },\n",
    "      \"显示名称\": \"成就\"\n",
    "    },\n",
    "    {\n",
    "      \"注释规范ID\": \"3130761503557287936\",\n",
    "      \"分类\": {\n",
    "        \"得分\": 0.0008869726\n",
    "      },\n",
    "      \"显示名称\": \"运动\"\n",
    "    },\n",
    "    {\n",
    "      \"注释规范ID\": \"7742447521984675840\",\n",
    "      \"分类\": {\n",
    "        \"得分\": 0.00013229548\n",
    "      },\n",
    "      \"显示名称\": \"享受当下\"\n",
    "    },\n",
    "    {\n",
    "      \"注释规范ID\": \"1977839998950440960\",\n",
    "      \"分类\": {\n",
    "        \"得分\": 1.5584701e-05\n",
    "      },\n",
    "      \"显示名称\": \"休闲\"\n",
    "    },\n",
    "    {\n",
    "      \"注释规范ID\": \"8318908274288099328\",\n",
    "      \"分类\": {\n",
    "        \"得分\": 9.5975e-06\n",
    "      },\n",
    "      \"显示名称\": \"自然\"\n",
    "    }\n",
    "  ]\n",
    "}"
   ]
  },
  {
   "cell_type": "markdown",
   "metadata": {
    "id": "bQ-VVaSxJjkd"
   },
   "source": [
    "整理清理\n",
    "\n",
    "要清理此项目中使用的所有GCP资源，您可以[删除您用于本教程的GCP项目](https://cloud.google.com/resource-manager/docs/creating-managing-projects#shutting_down_projects)。\n",
    "\n",
    "否则，您可以删除本教程中创建的各个资源。"
   ]
  },
  {
   "cell_type": "code",
   "execution_count": null,
   "metadata": {
    "id": "pTymPfKolH7G"
   },
   "outputs": [],
   "source": [
    "delete_dataset = True\n",
    "delete_model = True\n",
    "delete_bucket = True\n",
    "\n",
    "# Delete the dataset using the AutoML fully qualified identifier for the dataset\n",
    "try:\n",
    "    if delete_dataset:\n",
    "        clients[\"automl\"].delete_dataset(name=dataset_id)\n",
    "except Exception as e:\n",
    "    print(e)\n",
    "\n",
    "# Delete the model using the AutoML fully qualified identifier for the model\n",
    "try:\n",
    "    if delete_model:\n",
    "        clients[\"automl\"].delete_model(name=model_id)\n",
    "except Exception as e:\n",
    "    print(e)\n",
    "\n",
    "\n",
    "if delete_bucket and \"BUCKET_NAME\" in globals():\n",
    "    ! gsutil rm -r gs://$BUCKET_NAME"
   ]
  }
 ],
 "metadata": {
  "colab": {
   "collapsed_sections": [
    "J_croPBoJjkK",
    "h_L3MRsOmYED",
    "MDUAZaN3JjkL",
    "fR9geV9pJjkO",
    "hIHTX-pkJjkO",
    "lbv411XjJjkP",
    "vHkuSZxkJjkT",
    "FLqkZMD2JjkT",
    "text_datasets_importdata:migration,old",
    "VkfdNI66lH66",
    "Gmg3fbX_lH66",
    "WMUN_7EclH67",
    "text_models_create:migration,old",
    "sbJ0wIRHlH67",
    "K2UcVNlAlH68",
    "rTFtnIKZlH6-",
    "yfufMwAEJjkX",
    "4wJgA2D8lH6_",
    "IBOLi2gflH6_",
    "i6T0bzuNJjkY",
    "16ZPQWjulH6_",
    "pHodXIWxlH7A",
    "CilSsXsyaGw5",
    "text_models_batchpredict:migration,old",
    "9Vyk6FVxlH7C",
    "D5pvxloAlH7C",
    "kFtsjWHIlH7D",
    "text_models_deploy:migration,old",
    "VUfhwbkLlH7E",
    "8OaGY7JmlH7E",
    "text_models_predict:migration,old",
    "v3Hc1PEyyabD",
    "LcSHb_A0lH7F",
    "xR4xdzeflH7F",
    "N0dT5DXblH7F"
   ],
   "name": "UJ6 legacy AutoML Natural Language Text Classification.ipynb",
   "toc_visible": true
  },
  "kernelspec": {
   "display_name": "Python 3",
   "name": "python3"
  }
 },
 "nbformat": 4,
 "nbformat_minor": 0
}
