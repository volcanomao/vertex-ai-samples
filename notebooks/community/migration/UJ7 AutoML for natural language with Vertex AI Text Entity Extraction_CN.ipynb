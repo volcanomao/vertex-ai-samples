{
 "cells": [
  {
   "cell_type": "code",
   "execution_count": null,
   "metadata": {
    "id": "Hha2I6DQmDyW"
   },
   "outputs": [],
   "source": [
    "# Copyright 2021 Google LLC\n",
    "#\n",
    "# Licensed under the Apache License, Version 2.0 (the \"License\");\n",
    "# you may not use this file except in compliance with the License.\n",
    "# You may obtain a copy of the License at\n",
    "#\n",
    "#     https://www.apache.org/licenses/LICENSE-2.0\n",
    "#\n",
    "# Unless required by applicable law or agreed to in writing, software\n",
    "# distributed under the License is distributed on an \"AS IS\" BASIS,\n",
    "# WITHOUT WARRANTIES OR CONDITIONS OF ANY KIND, either express or implied.\n",
    "# See the License for the specific language governing permissions and\n",
    "# limitations under the License."
   ]
  },
  {
   "cell_type": "markdown",
   "metadata": {
    "id": "text_title:migration,automl,icn"
   },
   "source": [
    "# Vertex AI AutoML 文本实体提取模型"
   ]
  },
  {
   "cell_type": "markdown",
   "metadata": {
    "id": "JE-aKjayJjkF"
   },
   "source": [
    "## 安装\n",
    "\n",
    "安装最新（预览）版本的Vertex SDK。"
   ]
  },
  {
   "cell_type": "code",
   "execution_count": null,
   "metadata": {
    "id": "7dxB6-B0JjkG"
   },
   "outputs": [],
   "source": [
    "! pip3 install -U google-cloud-aiplatform --user"
   ]
  },
  {
   "cell_type": "markdown",
   "metadata": {
    "id": "Iddo-8HmJjkH"
   },
   "source": [
    "安装Google *云存储*库。"
   ]
  },
  {
   "cell_type": "code",
   "execution_count": null,
   "metadata": {
    "id": "xHvi6EFSJjkH"
   },
   "outputs": [],
   "source": [
    "! pip3 install google-cloud-storage"
   ]
  },
  {
   "cell_type": "markdown",
   "metadata": {
    "id": "ktRTgB8DJjkI"
   },
   "source": [
    "重新启动内核\n",
    "\n",
    "安装了Vertex SDK和Google *cloud-storage*后，您需要重新启动笔记本内核，这样它才能找到这些包。"
   ]
  },
  {
   "cell_type": "code",
   "execution_count": null,
   "metadata": {
    "id": "x1g4mBdlJjkI"
   },
   "outputs": [],
   "source": [
    "import os\n",
    "\n",
    "if not os.getenv(\"AUTORUN\"):\n",
    "    # Automatically restart kernel after installs\n",
    "    import IPython\n",
    "\n",
    "    app = IPython.Application.instance()\n",
    "    app.kernel.do_shutdown(True)"
   ]
  },
  {
   "cell_type": "markdown",
   "metadata": {
    "id": "3Sq3sGfdt89E"
   },
   "source": [
    "## 在开始之前\r\n",
    "\r\n",
    "### GPU 运行时\r\n",
    "\r\n",
    "*如果您有这个选项，请确保在 GPU 运行时中运行此笔记本。在 Colab 中，选择* **运行时 > 更改运行时类型 > GPU**\r\n",
    "\r\n",
    "### 设置您的 GCP 项目\r\n",
    "\r\n",
    "**无论您的笔记本环境如何，以下步骤都是必需的。**\r\n",
    "\r\n",
    "1. [选择或创建 GCP 项目](https://console.cloud.google.com/cloud-resource-manager)。当您第一次创建账户时，您会获得 $300 的免费信用，用于您的计算/存储成本。\r\n",
    "\r\n",
    "2. [确保为您的项目启用计费。](https://cloud.google.com/billing/docs/how-to/modify-project)\r\n",
    "\r\n",
    "3. [启用 Vertex APIs 和 Compute Engine APIs。](https://console.cloud.google.com/flows/enableapi?apiid=ml.googleapis.com,compute_component)\r\n",
    "\r\n",
    "4. [Google Cloud SDK](https://cloud.google.com/sdk) 已经安装在 Google Cloud Notebooks 中。\r\n",
    "\r\n",
    "5. 在下面的单元格中输入您的项目 ID。然后运行该单元格，确保 Cloud SDK 对该笔记本中所有命令使用正确的项目。\r\n",
    "\r\n",
    "**注意**：Jupyter 运行以 `!` 开头的行作为 shell 命令，并将以 `$` 开头的 Python 变量插入这些命令中。"
   ]
  },
  {
   "cell_type": "markdown",
   "metadata": {
    "id": "hceMthWGJjkI"
   },
   "source": [
    "#### 项目标识\n",
    "\n",
    "**如果你不知道你的项目标识**，请尝试使用`gcloud`命令，在下面执行第二个单元格以获取你的项目标识。"
   ]
  },
  {
   "cell_type": "code",
   "execution_count": null,
   "metadata": {
    "id": "eidueLnCJjkJ"
   },
   "outputs": [],
   "source": [
    "PROJECT_ID = \"[your-project-id]\"  # @param {type:\"string\"}"
   ]
  },
  {
   "cell_type": "code",
   "execution_count": null,
   "metadata": {
    "id": "NJ9v1pdtmDyr"
   },
   "outputs": [],
   "source": [
    "if PROJECT_ID == \"\" or PROJECT_ID is None or PROJECT_ID == \"[your-project-id]\":\n",
    "    # Get your GCP project id from gcloud\n",
    "    shell_output = !gcloud config list --format 'value(core.project)' 2>/dev/null\n",
    "    PROJECT_ID = shell_output[0]\n",
    "    print(\"Project ID:\", PROJECT_ID)"
   ]
  },
  {
   "cell_type": "code",
   "execution_count": null,
   "metadata": {
    "id": "0UfsdLCEJjkJ"
   },
   "outputs": [],
   "source": [
    "! gcloud config set project $PROJECT_ID"
   ]
  },
  {
   "cell_type": "markdown",
   "metadata": {
    "id": "jT0fijejJjkK"
   },
   "source": [
    "区域\n",
    "\n",
    "您还可以更改“REGION”变量，该变量用于本笔记本其余部分的操作。以下是 Vertex AI 支持的区域。我们建议尽可能选择离您最近的区域。\n",
    "\n",
    "- 美洲：`us-central1`\n",
    "- 欧洲：`europe-west4`\n",
    "- 亚太地区：`asia-east1`\n",
    "\n",
    "您不能在 Vertex 上使用多区域存储桶进行训练。并非所有区域都支持所有 Vertex 服务。有关最新的每个区域支持情况，请参阅[顶点 AI 服务的区域支持](https://cloud.google.com/vertex-ai/docs/general/locations)。"
   ]
  },
  {
   "cell_type": "code",
   "execution_count": null,
   "metadata": {
    "id": "CTBlncfrJjkK"
   },
   "outputs": [],
   "source": [
    "REGION = \"us-central1\"  # @param {type: \"string\"}"
   ]
  },
  {
   "cell_type": "markdown",
   "metadata": {
    "id": "J_croPBoJjkK"
   },
   "source": [
    "时间戳\n",
    "\n",
    "如果您正在进行直播教程会话，您可能正在使用共享的测试账户或项目。为了避免用户在创建的资源上发生名称冲突，您为每个实例会话创建一个时间戳，并将其附加到在本教程中将要创建的资源的名称上。"
   ]
  },
  {
   "cell_type": "code",
   "execution_count": null,
   "metadata": {
    "id": "KKxStk5bJjkL"
   },
   "outputs": [],
   "source": [
    "from datetime import datetime\n",
    "\n",
    "TIMESTAMP = datetime.now().strftime(\"%Y%m%d%H%M%S\")"
   ]
  },
  {
   "cell_type": "markdown",
   "metadata": {
    "id": "9zpjPUOhvRQz"
   },
   "source": [
    "### 认证您的GCP帐户\n",
    "\n",
    "**如果您正在使用Google Cloud笔记本**，您的环境已经通过身份验证。请跳过此步骤。\n",
    "\n",
    "*注意：如果您正在使用Vertex笔记本并运行该单元格，则单元格知道跳过执行认证步骤。*"
   ]
  },
  {
   "cell_type": "code",
   "execution_count": null,
   "metadata": {
    "id": "chybg3Ap_i_2"
   },
   "outputs": [],
   "source": [
    "import os\n",
    "import sys\n",
    "\n",
    "# If you are running this notebook in Colab, run this cell and follow the\n",
    "# instructions to authenticate your Google Cloud account. This provides access\n",
    "# to your Cloud Storage bucket and lets you submit training jobs and prediction\n",
    "# requests.\n",
    "\n",
    "# If on Vertex, then don't execute this code\n",
    "if not os.path.exists(\"/opt/deeplearning/metadata/env_version\"):\n",
    "    if \"google.colab\" in sys.modules:\n",
    "        from google.colab import auth as google_auth\n",
    "\n",
    "        google_auth.authenticate_user()\n",
    "\n",
    "    # If you are running this tutorial in a notebook locally, replace the string\n",
    "    # below with the path to your service account key and run this cell to\n",
    "    # authenticate your Google Cloud account.\n",
    "    else:\n",
    "        %env GOOGLE_APPLICATION_CREDENTIALS your_path_to_credentials.json\n",
    "\n",
    "    # Log in to your account on Google Cloud\n",
    "    ! gcloud auth login"
   ]
  },
  {
   "cell_type": "markdown",
   "metadata": {
    "id": "MDUAZaN3JjkL"
   },
   "source": [
    "创建一个云存储桶\n",
    "\n",
    "**无论您使用的是什么笔记本环境，都需要执行以下步骤。**\n",
    "\n",
    "本教程旨在使用位于公共云存储桶中的训练数据以及本地云存储桶用于批量预测。您也可以使用自己储存在本地云存储桶中的训练数据。\n",
    "\n",
    "在下方设置您的云存储桶的名称。它必须在所有云存储桶中是唯一的。"
   ]
  },
  {
   "cell_type": "code",
   "execution_count": null,
   "metadata": {
    "id": "bucket"
   },
   "outputs": [],
   "source": [
    "BUCKET_NAME = \"[your-bucket-name]\"  # @param {type:\"string\"}"
   ]
  },
  {
   "cell_type": "code",
   "execution_count": null,
   "metadata": {
    "id": "autoset_bucket"
   },
   "outputs": [],
   "source": [
    "if BUCKET_NAME == \"\" or BUCKET_NAME is None or BUCKET_NAME == \"[your-bucket-name]\":\n",
    "    BUCKET_NAME = PROJECT_ID + \"aip-\" + TIMESTAMP"
   ]
  },
  {
   "cell_type": "markdown",
   "metadata": {
    "id": "yU6VuylGJjkM"
   },
   "source": [
    "只有在您的存储桶不存在时才能运行以下单元格来创建您的云存储存储桶。"
   ]
  },
  {
   "cell_type": "code",
   "execution_count": null,
   "metadata": {
    "id": "QVRixM4oJjkM"
   },
   "outputs": [],
   "source": [
    "! gsutil mb -l $REGION gs://$BUCKET_NAME"
   ]
  },
  {
   "cell_type": "markdown",
   "metadata": {
    "id": "Mi-Pdh6QJjkN"
   },
   "source": [
    "最后，通过检查云存储桶的内容来验证对其的访问。"
   ]
  },
  {
   "cell_type": "code",
   "execution_count": null,
   "metadata": {
    "id": "aqDptKpYJjkN"
   },
   "outputs": [],
   "source": [
    "! gsutil ls -al gs://$BUCKET_NAME"
   ]
  },
  {
   "cell_type": "markdown",
   "metadata": {
    "id": "fR9geV9pJjkO"
   },
   "source": [
    "### 设置变量\n",
    "\n",
    "接下来，设置一些在教程中使用的变量。\n",
    "### 导入库并定义常量"
   ]
  },
  {
   "cell_type": "markdown",
   "metadata": {
    "id": "hIHTX-pkJjkO"
   },
   "source": [
    "#### 导入Vertex SDK\n",
    "\n",
    "将Vertex SDK导入到我们的Python环境中。"
   ]
  },
  {
   "cell_type": "code",
   "execution_count": null,
   "metadata": {
    "id": "qrSkIKVgJjkO"
   },
   "outputs": [],
   "source": [
    "import json\n",
    "import os\n",
    "import sys\n",
    "import time\n",
    "\n",
    "from google.cloud.aiplatform import gapic as aip\n",
    "from google.protobuf import json_format\n",
    "from google.protobuf.json_format import MessageToJson\n",
    "from google.protobuf.struct_pb2 import Struct, Value"
   ]
  },
  {
   "cell_type": "markdown",
   "metadata": {
    "id": "lbv411XjJjkP"
   },
   "source": [
    "### Vertex AI 常量\n",
    "\n",
    "为 Vertex AI 设置以下常量：\n",
    "\n",
    "- `API_ENDPOINT`：用于数据集、模型、作业、管道和端点服务的 Vertex AI API 服务端点。\n",
    "- `PARENT`：用于数据集、模型和端点资源的 Vertex AI 位置根路径。"
   ]
  },
  {
   "cell_type": "code",
   "execution_count": null,
   "metadata": {
    "id": "Gx8Eos8PJjkP"
   },
   "outputs": [],
   "source": [
    "# API Endpoint\n",
    "API_ENDPOINT = \"us-central1-aiplatform.googleapis.com\"\n",
    "\n",
    "# Vertex AI location root path for your dataset, model and endpoint resources\n",
    "PARENT = \"projects/\" + PROJECT_ID + \"/locations/\" + REGION"
   ]
  },
  {
   "cell_type": "markdown",
   "metadata": {
    "id": "4x_t-MWnJjkQ"
   },
   "source": [
    "#### AutoML常量\n",
    "\n",
    "接下来，设置与AutoML文本实体提取数据集和训练相关的常量：\n",
    "\n",
    "- 数据集模式：告诉托管的数据集服务它属于哪种类型的数据集。\n",
    "- 数据标注（注释）模式：告诉托管的数据集服务数据如何被标记（注释）。\n",
    "- 数据集训练模式：告诉Vertex AI管道服务要为哪种任务（例如分类）训练模型。"
   ]
  },
  {
   "cell_type": "code",
   "execution_count": null,
   "metadata": {
    "id": "nmzhH42tJjkQ"
   },
   "outputs": [],
   "source": [
    "# Text Dataset type\n",
    "TEXT_SCHEMA = \"google-cloud-aiplatform/schema/dataset/metadata/text_1.0.0.yaml\"\n",
    "# Text Labeling type\n",
    "IMPORT_SCHEMA_TEXT_EXTRACTION = \"gs://google-cloud-aiplatform/schema/dataset/ioformat/text_extraction_io_format_1.0.0.yaml\"\n",
    "# Text Training task\n",
    "TRAINING_TEXT_EXTRACTION_SCHEMA = \"gs://google-cloud-aiplatform/schema/trainingjob/definition/automl_text_extraction_1.0.0.yaml\""
   ]
  },
  {
   "cell_type": "markdown",
   "metadata": {
    "id": "R7P3MRNgJjkQ"
   },
   "source": [
    "客户\n",
    "\n",
    "Vertex SDK 作为客户/服务器模型运行。在您的一侧（Python 脚本）上，您将创建一个客户端，该客户端从服务器（Vertex）发送请求并接收响应。\n",
    "\n",
    "在本教程中，您将使用几个客户端，因此请提前设置它们所有。\n",
    "\n",
    "- 用于受管理数据集的数据集服务。\n",
    "- 用于受管理模型的模型服务。\n",
    "- 用于训练的管道服务。\n",
    "- 用于部署的端点服务。\n",
    "- 用于批处理作业和自定义训练的作业服务。\n",
    "- 用于提供服务的预测服务。*注意*：预测有不同的服务端点。"
   ]
  },
  {
   "cell_type": "code",
   "execution_count": null,
   "metadata": {
    "id": "kt8j_ey4JjkR"
   },
   "outputs": [],
   "source": [
    "# client options same for all services\n",
    "client_options = {\"api_endpoint\": API_ENDPOINT}\n",
    "\n",
    "\n",
    "def create_dataset_client():\n",
    "    client = aip.DatasetServiceClient(client_options=client_options)\n",
    "    return client\n",
    "\n",
    "\n",
    "def create_model_client():\n",
    "    client = aip.ModelServiceClient(client_options=client_options)\n",
    "    return client\n",
    "\n",
    "\n",
    "def create_pipeline_client():\n",
    "    client = aip.PipelineServiceClient(client_options=client_options)\n",
    "    return client\n",
    "\n",
    "\n",
    "def create_endpoint_client():\n",
    "    client = aip.EndpointServiceClient(client_options=client_options)\n",
    "    return client\n",
    "\n",
    "\n",
    "def create_prediction_client():\n",
    "    client = aip.PredictionServiceClient(client_options=client_options)\n",
    "    return client\n",
    "\n",
    "\n",
    "def create_job_client():\n",
    "    client = aip.JobServiceClient(client_options=client_options)\n",
    "    return client\n",
    "\n",
    "\n",
    "clients = {}\n",
    "clients[\"dataset\"] = create_dataset_client()\n",
    "clients[\"model\"] = create_model_client()\n",
    "clients[\"pipeline\"] = create_pipeline_client()\n",
    "clients[\"endpoint\"] = create_endpoint_client()\n",
    "clients[\"prediction\"] = create_prediction_client()\n",
    "clients[\"job\"] = create_job_client()\n",
    "\n",
    "for client in clients.items():\n",
    "    print(client)"
   ]
  },
  {
   "cell_type": "code",
   "execution_count": null,
   "metadata": {
    "id": "import_file:flowers,csv,icn"
   },
   "outputs": [],
   "source": [
    "IMPORT_FILE = \"gs://cloud-samples-data/language/ucaip_ten_dataset.jsonl\""
   ]
  },
  {
   "cell_type": "code",
   "execution_count": null,
   "metadata": {
    "id": "cBgFrDD1_i__"
   },
   "outputs": [],
   "source": [
    "! gsutil cat $IMPORT_FILE | head -n 1"
   ]
  },
  {
   "cell_type": "markdown",
   "metadata": {
    "id": "datasets_create:migration,new,request"
   },
   "source": [
    "*示例输出*：\n",
    "```\n",
    "{'text_segment_annotations': [{'endOffset': 54, 'startOffset': 27, 'displayName': 'SpecificDisease'}, {'endOffset': 173, 'startOffset': 156, 'displayName': 'SpecificDisease'}, {'endOffset': 179, 'startOffset': 176, 'displayName': 'SpecificDisease'}, {'endOffset': 246, 'startOffset': 243, 'displayName': 'Modifier'}, {'endOffset': 340, 'startOffset': 337, 'displayName': 'Modifier'}, {'endOffset': 698, 'startOffset': 695, 'displayName': 'Modifier'}], 'textContent': '1301937\\tPennsylvania Dutch 中的Berks CountyPseudodeficiency和差六糖酶A缺陷的分子基础。\\t在两名出生有Tay-Sachs病（TSD）的婴儿后，对一个非犹太，宾夕法尼亚荷兰族进行了TSD携带者的生化分析筛查。检测到了一群看起来是TSD杂合子的个体的高频率（Kelly等人，1975年）。临床和生化证据表明携带者频率的增加是由于至少两个差六糖酶A alpha亚基的改变突变。我们现在报告在这个宾夕法尼亚荷兰族中的两个突变突变，以及一个多态性。最初报告在一名法国TSD患者（Akli等人，1991年）身上的一个突变，是位于第9内含子的供体剪接位点的GT --> AT过渡。第二个，位于核苷酸739（Arg247Trp）的C--> T过渡，被Triggs-Raine等人（1992年）显示为与人工底物针对性酶活性降低相关的臨床良性的“假缺陷”等位基因。最后，描述了一个多态性 [G--> A（759）]，保留有效通路编码253处的缬氨酸，无变化。\\n '}\n",
    "```"
   ]
  },
  {
   "cell_type": "markdown",
   "metadata": {
    "id": "text_create_dataset:migration"
   },
   "source": [
    "创建一个数据集"
   ]
  },
  {
   "cell_type": "markdown",
   "metadata": {
    "id": "text_datasets_create:migration,new"
   },
   "source": [
    "### [projects.locations.datasets.create](https://cloud.google.com/vertex-ai/docs/reference/rest/v1beta1/projects.locations.datasets/create)\n",
    "\n",
    "### [项目.位置.数据集.创建](https://cloud.google.com/vertex-ai/docs/reference/rest/v1beta1/projects.locations.datasets/create)"
   ]
  },
  {
   "cell_type": "markdown",
   "metadata": {
    "id": "trXpXKsKmDy2"
   },
   "source": [
    "### 请求"
   ]
  },
  {
   "cell_type": "code",
   "execution_count": null,
   "metadata": {
    "id": "LieciZovmDy2"
   },
   "outputs": [],
   "source": [
    "DATA_SCHEMA = TEXT_SCHEMA\n",
    "\n",
    "dataset = {\n",
    "    \"display_name\": \"ten_\" + TIMESTAMP,\n",
    "    \"metadata_schema_uri\": \"gs://\" + DATA_SCHEMA,\n",
    "}\n",
    "\n",
    "print(\n",
    "    MessageToJson(\n",
    "        aip.CreateDatasetRequest(parent=PARENT, dataset=dataset).__dict__[\"_pb\"]\n",
    "    )\n",
    ")"
   ]
  },
  {
   "cell_type": "markdown",
   "metadata": {
    "id": "sPupiwqN_jAB"
   },
   "source": [
    "```\n",
    "{\n",
    "  \"parent\": \"projects/migration-ucaip-training/locations/us-central1\",\n",
    "  \"dataset\": {\n",
    "    \"displayName\": \"ten_20210301154552\",\n",
    "    \"metadataSchemaUri\": \"gs://google-cloud-aiplatform/schema/dataset/metadata/text_1.0.0.yaml\"\n",
    "  }\n",
    "}\n",
    "```\n",
    "将以上英文文本翻译成中文：\n",
    "```\n",
    "{\n",
    "  \"parent\": \"projects/migration-ucaip-training/locations/us-central1\",\n",
    "  \"dataset\": {\n",
    "    \"displayName\": \"ten_20210301154552\",\n",
    "    \"metadataSchemaUri\": \"gs://google-cloud-aiplatform/schema/dataset/metadata/text_1.0.0.yaml\"\n",
    "  }\n",
    "}\n",
    "```"
   ]
  },
  {
   "cell_type": "markdown",
   "metadata": {
    "id": "-CD22Lm9mDy2"
   },
   "source": [
    "#### 电话"
   ]
  },
  {
   "cell_type": "code",
   "execution_count": null,
   "metadata": {
    "id": "ptyxODU2mDy3"
   },
   "outputs": [],
   "source": [
    "request = clients[\"dataset\"].create_dataset(parent=PARENT, dataset=dataset)"
   ]
  },
  {
   "cell_type": "markdown",
   "metadata": {
    "id": "vpUO9HBimDy3"
   },
   "source": [
    "#### 回复"
   ]
  },
  {
   "cell_type": "code",
   "execution_count": null,
   "metadata": {
    "id": "jvKS4F-QmDy3"
   },
   "outputs": [],
   "source": [
    "result = request.result()\n",
    "\n",
    "print(MessageToJson(result.__dict__[\"_pb\"]))"
   ]
  },
  {
   "cell_type": "markdown",
   "metadata": {
    "id": "sPupiwqN_jAB"
   },
   "source": [
    "*示例输出*：\n",
    "```\n",
    "{\n",
    "  \"name\": \"projects/116273516712/locations/us-central1/datasets/1309228077611483136\",\n",
    "  \"displayName\": \"ten_20210301154552\",\n",
    "  \"metadataSchemaUri\": \"gs://google-cloud-aiplatform/schema/dataset/metadata/text_1.0.0.yaml\",\n",
    "  \"labels\": {\n",
    "    \"aiplatform.googleapis.com/dataset_metadata_schema\": \"TEXT\"\n",
    "  },\n",
    "  \"metadata\": {\n",
    "    \"dataItemSchemaUri\": \"gs://google-cloud-aiplatform/schema/dataset/dataitem/text_1.0.0.yaml\"\n",
    "  }\n",
    "}\n",
    "```"
   ]
  },
  {
   "cell_type": "code",
   "execution_count": null,
   "metadata": {
    "id": "dataset_id:migration,new,response"
   },
   "outputs": [],
   "source": [
    "# The full unique ID for the dataset\n",
    "dataset_id = result.name\n",
    "# The short numeric ID for the dataset\n",
    "dataset_short_id = dataset_id.split(\"/\")[-1]\n",
    "\n",
    "print(dataset_id)"
   ]
  },
  {
   "cell_type": "markdown",
   "metadata": {
    "id": "text_datasets_import:migration,new"
   },
   "source": [
    "### [projects.locations.datasets.import](https://cloud.google.com/vertex-ai/docs/reference/rest/v1beta1/projects.locations.datasets/import)\n",
    "\n",
    "### [项目.位置.数据集.导入](https://cloud.google.com/vertex-ai/docs/reference/rest/v1beta1/projects.locations.datasets/import)"
   ]
  },
  {
   "cell_type": "markdown",
   "metadata": {
    "id": "amH_XuOjmDy4"
   },
   "source": [
    "请求"
   ]
  },
  {
   "cell_type": "code",
   "execution_count": null,
   "metadata": {
    "id": "5_5_ZY-pmDy4"
   },
   "outputs": [],
   "source": [
    "LABEL_SCHEMA = IMPORT_SCHEMA_TEXT_EXTRACTION\n",
    "\n",
    "import_config = {\n",
    "    \"gcs_source\": {\"uris\": [IMPORT_FILE]},\n",
    "    \"import_schema_uri\": LABEL_SCHEMA,\n",
    "}\n",
    "\n",
    "print(\n",
    "    MessageToJson(\n",
    "        aip.ImportDataRequest(name=dataset_id, import_configs=[import_config]).__dict__[\n",
    "            \"_pb\"\n",
    "        ]\n",
    "    )\n",
    ")"
   ]
  },
  {
   "cell_type": "markdown",
   "metadata": {
    "id": "sPupiwqN_jAB"
   },
   "source": [
    "{\n",
    "  \"name\": \"projects/116273516712/locations/us-central1/datasets/1309228077611483136\",\n",
    "  \"importConfigs\": [\n",
    "    {\n",
    "      \"gcsSource\": {\n",
    "        \"uris\": [\n",
    "          \"gs://cloud-samples-data/language/ucaip_ten_dataset.jsonl\"\n",
    "        ]\n",
    "      },\n",
    "      \"importSchemaUri\": \"gs://google-cloud-aiplatform/schema/dataset/ioformat/text_extraction_io_format_1.0.0.yaml\"\n",
    "    }\n",
    "  ]\n",
    "} \n",
    "\n",
    "*示例输出*： \n",
    "{\n",
    "  \"name\": \"projects/116273516712/locations/us-central1/datasets/1309228077611483136\",\n",
    "  \"importConfigs\": [\n",
    "    {\n",
    "      \"gcsSource\": {\n",
    "        \"uris\": [\n",
    "          \"gs://cloud-samples-data/language/ucaip_ten_dataset.jsonl\"\n",
    "        ]\n",
    "      },\n",
    "      \"importSchemaUri\": \"gs://google-cloud-aiplatform/schema/dataset/ioformat/text_extraction_io_format_1.0.0.yaml\"\n",
    "    }\n",
    "  ]\n",
    "}"
   ]
  },
  {
   "cell_type": "markdown",
   "metadata": {
    "id": "w52itF0ymDy4"
   },
   "source": [
    "#### 电话"
   ]
  },
  {
   "cell_type": "code",
   "execution_count": null,
   "metadata": {
    "id": "4hxz5c70mDy4"
   },
   "outputs": [],
   "source": [
    "request = clients[\"dataset\"].import_data(\n",
    "    name=dataset_id, import_configs=[import_config]\n",
    ")"
   ]
  },
  {
   "cell_type": "markdown",
   "metadata": {
    "id": "oSDxPS2TmDy4"
   },
   "source": [
    "#### 回复"
   ]
  },
  {
   "cell_type": "code",
   "execution_count": null,
   "metadata": {
    "id": "jCW-M3tgmDy5"
   },
   "outputs": [],
   "source": [
    "result = request.result()\n",
    "\n",
    "print(MessageToJson(result.__dict__[\"_pb\"]))"
   ]
  },
  {
   "cell_type": "markdown",
   "metadata": {
    "id": "sPupiwqN_jAB"
   },
   "source": [
    "*示例输出*：\n",
    "```\n",
    "{}\n",
    "```"
   ]
  },
  {
   "cell_type": "markdown",
   "metadata": {
    "id": "text_create_and_deploy_model:migration"
   },
   "source": [
    "训练模型"
   ]
  },
  {
   "cell_type": "markdown",
   "metadata": {
    "id": "0oqIBOSnJjkW"
   },
   "source": [
    "### [projects.locations.trainingPipelines.create](https://cloud.google.com/vertex-ai/docs/reference/rest/v1beta1/projects.locations.trainingPipelines/create)\n",
    "\n",
    "### [projects.locations.trainingPipelines.create](https://cloud.google.com/vertex-ai/docs/reference/rest/v1beta1/projects.locations.trainingPipelines/create)"
   ]
  },
  {
   "cell_type": "markdown",
   "metadata": {
    "id": "t9wJ2d03mDy5"
   },
   "source": [
    "请求"
   ]
  },
  {
   "cell_type": "code",
   "execution_count": null,
   "metadata": {
    "id": "tJf08imCmDy5"
   },
   "outputs": [],
   "source": [
    "TRAINING_SCHEMA = TRAINING_TEXT_EXTRACTION_SCHEMA\n",
    "\n",
    "task = Value(\n",
    "    struct_value=Struct(\n",
    "        fields={\n",
    "            \"multi_label\": Value(bool_value=False),\n",
    "            \"budget_milli_node_hours\": Value(number_value=1000),\n",
    "            \"model_type\": Value(string_value=\"CLOUD\"),\n",
    "            \"disable_early_stopping\": Value(bool_value=False),\n",
    "        }\n",
    "    )\n",
    ")\n",
    "\n",
    "training_pipeline = {\n",
    "    \"display_name\": \"ten_\" + TIMESTAMP,\n",
    "    \"input_data_config\": {\"dataset_id\": dataset_short_id},\n",
    "    \"model_to_upload\": {\"display_name\": \"ten_\" + TIMESTAMP},\n",
    "    \"training_task_definition\": TRAINING_SCHEMA,\n",
    "    \"training_task_inputs\": task,\n",
    "}\n",
    "\n",
    "print(\n",
    "    MessageToJson(\n",
    "        aip.CreateTrainingPipelineRequest(\n",
    "            parent=PARENT,\n",
    "            training_pipeline=training_pipeline,\n",
    "        ).__dict__[\"_pb\"]\n",
    "    )\n",
    ")"
   ]
  },
  {
   "cell_type": "markdown",
   "metadata": {
    "id": "sPupiwqN_jAB"
   },
   "source": [
    "{\n",
    "  \"parent\": \"projects/migration-ucaip-training/locations/us-central1\",\n",
    "  \"trainingPipeline\": {\n",
    "    \"displayName\": \"ten_20210301154552\",\n",
    "    \"inputDataConfig\": {\n",
    "      \"datasetId\": \"1309228077611483136\"\n",
    "    },\n",
    "    \"trainingTaskDefinition\": \"gs://google-cloud-aiplatform/schema/trainingjob/definition/automl_text_extraction_1.0.0.yaml\",\n",
    "    \"trainingTaskInputs\": {\n",
    "      \"budget_milli_node_hours\": 1000.0,\n",
    "      \"multi_label\": false,\n",
    "      \"model_type\": \"CLOUD\",\n",
    "      \"disable_early_stopping\": false\n",
    "    },\n",
    "    \"modelToUpload\": {\n",
    "      \"displayName\": \"ten_20210301154552\"\n",
    "    }\n",
    "  }\n",
    "}"
   ]
  },
  {
   "cell_type": "markdown",
   "metadata": {
    "id": "yk19A8OKmDy6"
   },
   "source": [
    "### 电话"
   ]
  },
  {
   "cell_type": "code",
   "execution_count": null,
   "metadata": {
    "id": "OOyUwmq_mDy6"
   },
   "outputs": [],
   "source": [
    "request = clients[\"pipeline\"].create_training_pipeline(\n",
    "    parent=PARENT, training_pipeline=training_pipeline\n",
    ")"
   ]
  },
  {
   "cell_type": "markdown",
   "metadata": {
    "id": "_W-OpMk7mDy6"
   },
   "source": [
    "#### 回应"
   ]
  },
  {
   "cell_type": "code",
   "execution_count": null,
   "metadata": {
    "id": "5z4U8eJSmDy6"
   },
   "outputs": [],
   "source": [
    "print(MessageToJson(request.__dict__[\"_pb\"]))"
   ]
  },
  {
   "cell_type": "markdown",
   "metadata": {
    "id": "sPupiwqN_jAB"
   },
   "source": [
    "{\n",
    "  \"name\": \"projects/116273516712/locations/us-central1/trainingPipelines/4643220011912003584\",\n",
    "  \"displayName\": \"ten_20210301154552\",\n",
    "  \"inputDataConfig\": {\n",
    "    \"datasetId\": \"1309228077611483136\"\n",
    "  },\n",
    "  \"trainingTaskDefinition\": \"gs://google-cloud-aiplatform/schema/trainingjob/definition/automl_text_extraction_1.0.0.yaml\",\n",
    "  \"trainingTaskInputs\": {},\n",
    "  \"modelToUpload\": {\n",
    "    \"displayName\": \"ten_20210301154552\"\n",
    "  },\n",
    "  \"state\": \"PIPELINE_STATE_PENDING\",\n",
    "  \"createTime\": \"2021-03-01T15:55:29.352065Z\",\n",
    "  \"updateTime\": \"2021-03-01T15:55:29.352065Z\"\n",
    "}"
   ]
  },
  {
   "cell_type": "code",
   "execution_count": null,
   "metadata": {
    "id": "u8sLc67Pf7L9"
   },
   "outputs": [],
   "source": [
    "# The full unique ID for the training pipeline\n",
    "training_pipeline_id = request.name\n",
    "# The short numeric ID for the training pipeline\n",
    "training_pipeline_short_id = training_pipeline_id.split(\"/\")[-1]\n",
    "\n",
    "print(training_pipeline_id)"
   ]
  },
  {
   "cell_type": "markdown",
   "metadata": {
    "id": "QJsV1xoSJjkW"
   },
   "source": [
    "### [projects.locations.trainingPipelines.get](https://cloud.google.com/vertex-ai/docs/reference/rest/v1beta1/projects.locations.trainingPipelines/get)\n",
    "\n",
    "### [projects.locations.trainingPipelines.get](https://cloud.google.com/vertex-ai/docs/reference/rest/v1beta1/projects.locations.trainingPipelines/get)"
   ]
  },
  {
   "cell_type": "markdown",
   "metadata": {
    "id": "m40wuXKgmDy6"
   },
   "source": [
    "呼叫"
   ]
  },
  {
   "cell_type": "code",
   "execution_count": null,
   "metadata": {
    "id": "yp_mYeyrmDy7"
   },
   "outputs": [],
   "source": [
    "request = clients[\"pipeline\"].get_training_pipeline(name=training_pipeline_id)"
   ]
  },
  {
   "cell_type": "markdown",
   "metadata": {
    "id": "j_-_Ue1WmDy7"
   },
   "source": [
    "#### 回复"
   ]
  },
  {
   "cell_type": "code",
   "execution_count": null,
   "metadata": {
    "id": "2xbLIG-8mDy7"
   },
   "outputs": [],
   "source": [
    "print(MessageToJson(request.__dict__[\"_pb\"]))"
   ]
  },
  {
   "cell_type": "markdown",
   "metadata": {
    "id": "sPupiwqN_jAB"
   },
   "source": [
    "{\n",
    "  \"name\": \"projects/116273516712/locations/us-central1/trainingPipelines/4643220011912003584\",\n",
    "  \"displayName\": \"ten_20210301154552\",\n",
    "  \"inputDataConfig\": {\n",
    "    \"datasetId\": \"1309228077611483136\"\n",
    "  },\n",
    "  \"trainingTaskDefinition\": \"gs://google-cloud-aiplatform/schema/trainingjob/definition/automl_text_extraction_1.0.0.yaml\",\n",
    "  \"trainingTaskInputs\": {},\n",
    "  \"modelToUpload\": {\n",
    "    \"displayName\": \"ten_20210301154552\"\n",
    "  },\n",
    "  \"state\": \"PIPELINE_STATE_PENDING\",\n",
    "  \"createTime\": \"2021-03-01T15:55:29.352065Z\",\n",
    "  \"updateTime\": \"2021-03-01T15:55:29.352065Z\"\n",
    "}"
   ]
  },
  {
   "cell_type": "code",
   "execution_count": null,
   "metadata": {
    "id": "trainingpipelines_get:migration,new,wait"
   },
   "outputs": [],
   "source": [
    "while True:\n",
    "    response = clients[\"pipeline\"].get_training_pipeline(name=training_pipeline_id)\n",
    "    if response.state != aip.PipelineState.PIPELINE_STATE_SUCCEEDED:\n",
    "        print(\"Training job has not completed:\", response.state)\n",
    "        if response.state == aip.PipelineState.PIPELINE_STATE_FAILED:\n",
    "            break\n",
    "    else:\n",
    "        model_id = response.model_to_upload.name\n",
    "        print(\"Training Time:\", response.end_time - response.start_time)\n",
    "        break\n",
    "    time.sleep(60)\n",
    "\n",
    "print(model_id)"
   ]
  },
  {
   "cell_type": "markdown",
   "metadata": {
    "id": "text_evaluate_the_model:migration"
   },
   "source": [
    "评估模型"
   ]
  },
  {
   "cell_type": "markdown",
   "metadata": {
    "id": "BJNzhELXJjkY"
   },
   "source": [
    "### [projects.locations.models.evaluations.list](https://cloud.google.com/vertex-ai/docs/reference/rest/v1beta1/projects.locations.models.evaluations/list)\n",
    "\n",
    "### [projects.locations.models.evaluations.list](https://cloud.google.com/vertex-ai/docs/reference/rest/v1beta1/projects.locations.models.evaluations/list)"
   ]
  },
  {
   "cell_type": "markdown",
   "metadata": {
    "id": "c9k8GnUemDy7"
   },
   "source": [
    "#### 电话"
   ]
  },
  {
   "cell_type": "code",
   "execution_count": null,
   "metadata": {
    "id": "cESW6zutmDy8"
   },
   "outputs": [],
   "source": [
    "request = clients[\"model\"].list_model_evaluations(parent=model_id)"
   ]
  },
  {
   "cell_type": "markdown",
   "metadata": {
    "id": "bGFL_p9SmDy8"
   },
   "source": [
    "回复"
   ]
  },
  {
   "cell_type": "code",
   "execution_count": null,
   "metadata": {
    "id": "prEvwExMmDy8"
   },
   "outputs": [],
   "source": [
    "model_evaluations = [json.loads(MessageToJson(mel.__dict__[\"_pb\"])) for mel in request]\n",
    "\n",
    "# The evaluation slice\n",
    "evaluation_slice = request.model_evaluations[0].name\n",
    "\n",
    "print(json.dumps(model_evaluations, indent=2))"
   ]
  },
  {
   "cell_type": "markdown",
   "metadata": {
    "id": "sPupiwqN_jAB"
   },
   "source": [
    "*示例输出*：\n",
    "```\n",
    "[\n",
    "  {\n",
    "    \"name\": \"projects/116273516712/locations/us-central1/models/4400738115568795648/evaluations/7959028222912364544\",\n",
    "    \"metricsSchemaUri\": \"gs://google-cloud-aiplatform/schema/modelevaluation/text_extraction_metrics_1.0.0.yaml\",\n",
    "    \"metrics\": {\n",
    "      \"confusionMatrix\": {\n",
    "        \"rows\": [\n",
    "          [\n",
    "            0.0,\n",
    "            24.0,\n",
    "            23.0,\n",
    "            1.0,\n",
    "            27.0\n",
    "          ],\n",
    "          [\n",
    "            9.0,\n",
    "            40.0,\n",
    "            0.0,\n",
    "            0.0,\n",
    "            10.0\n",
    "          ],\n",
    "          [\n",
    "            11.0,\n",
    "            0.0,\n",
    "            87.0,\n",
    "            0.0,\n",
    "            2.0\n",
    "          ],\n",
    "          [\n",
    "            3.0,\n",
    "            0.0,\n",
    "            0.0,\n",
    "            5.0,\n",
    "            0.0\n",
    "          ],\n",
    "          [\n",
    "            32.0,\n",
    "            16.0,\n",
    "            7.0,\n",
    "            1.0,\n",
    "            186.0\n",
    "          ]\n",
    "        ],\n",
    "        \"annotationSpecs\": [\n",
    "          {\n",
    "            \"displayName\": \"NULL\"\n",
    "          },\n",
    "          {\n",
    "            \"id\": \"2041829376663748608\",\n",
    "            \"displayName\": \"DiseaseClass\"\n",
    "          },\n",
    "          {\n",
    "            \"displayName\": \"Modifier\",\n",
    "            \"id\": \"4347672385877442560\"\n",
    "          },\n",
    "          {\n",
    "            \"displayName\": \"CompositeMention\",\n",
    "            \"id\": \"6653515395091136512\"\n",
    "          },\n",
    "          {\n",
    "            \"id\": \"7806436899697983488\",\n",
    "            \"displayName\": \"SpecificDisease\"\n",
    "          }\n",
    "        ]\n",
    "      },\n",
    "      \"confidenceMetrics\": [\n",
    "        {\n",
    "          \"precision\": 0.74125874,\n",
    "          \"f1Score\": 0.7589499,\n",
    "          \"recall\": 0.7775061,\n",
    "          \"confidenceThreshold\": 0.04\n",
    "        },\n",
    "        {\n",
    "          \"recall\": 0.7457213,\n",
    "          \"confidenceThreshold\": 0.96,\n",
    "          \"precision\": 0.8333333,\n",
    "          \"f1Score\": 0.7870968\n",
    "        },\n",
    "        \n",
    "        # 省略部分\n",
    "        \n",
    "        {\n",
    "          \"f1Score\": 0.7596154,\n",
    "          \"recall\": 0.77261615,\n",
    "          \"confidenceThreshold\": 0.44,\n",
    "          \"precision\": 0.7470449\n",
    "        }\n",
    "      ]\n",
    "    },\n",
    "    \"createTime\": \"2021-03-01T17:59:23.638307Z\",\n",
    "    \"sliceDimensions\": [\n",
    "      \"annotationSpec\"\n",
    "    ]\n",
    "  }\n",
    "]\n",
    "```"
   ]
  },
  {
   "cell_type": "markdown",
   "metadata": {
    "id": "wr2JuU5nJjka"
   },
   "source": [
    "### [projects.locations.models.evaluations.get](https://cloud.google.com/vertex-ai/docs/reference/rest/v1beta1/projects.locations.models.evaluations/get)\n",
    "\n",
    "### [projects.locations.models.evaluations.get](https://cloud.google.com/vertex-ai/docs/reference/rest/v1beta1/projects.locations.models.evaluations/get)"
   ]
  },
  {
   "cell_type": "markdown",
   "metadata": {
    "id": "7DKMBMcEmDy8"
   },
   "source": [
    "#### 电话"
   ]
  },
  {
   "cell_type": "code",
   "execution_count": null,
   "metadata": {
    "id": "CXakTdZ7mDy8"
   },
   "outputs": [],
   "source": [
    "request = clients[\"model\"].get_model_evaluation(name=evaluation_slice)"
   ]
  },
  {
   "cell_type": "markdown",
   "metadata": {
    "id": "_Ch_w1a9mDy9"
   },
   "source": [
    "#### 响应"
   ]
  },
  {
   "cell_type": "code",
   "execution_count": null,
   "metadata": {
    "id": "LKXnVatsmDy9"
   },
   "outputs": [],
   "source": [
    "print(MessageToJson(request.__dict__[\"_pb\"]))"
   ]
  },
  {
   "cell_type": "markdown",
   "metadata": {
    "id": "sPupiwqN_jAB"
   },
   "source": [
    "{\n",
    "  \"name\": \"projects/116273516712/locations/us-central1/models/4400738115568795648/evaluations/7959028222912364544\",\n",
    "  \"metricsSchemaUri\": \"gs://google-cloud-aiplatform/schema/modelevaluation/text_extraction_metrics_1.0.0.yaml\",\n",
    "  \"metrics\": {\n",
    "    \"confusionMatrix\": {\n",
    "      \"rows\": [\n",
    "        [\n",
    "          0.0,\n",
    "          24.0,\n",
    "          23.0,\n",
    "          1.0,\n",
    "          27.0\n",
    "        ],\n",
    "        [\n",
    "          9.0,\n",
    "          40.0,\n",
    "          0.0,\n",
    "          0.0,\n",
    "          10.0\n",
    "        ],\n",
    "        [\n",
    "          11.0,\n",
    "          0.0,\n",
    "          87.0,\n",
    "          0.0,\n",
    "          2.0\n",
    "        ],\n",
    "        [\n",
    "          3.0,\n",
    "          0.0,\n",
    "          0.0,\n",
    "          5.0,\n",
    "          0.0\n",
    "        ],\n",
    "        [\n",
    "          32.0,\n",
    "          16.0,\n",
    "          7.0,\n",
    "          1.0,\n",
    "          186.0\n",
    "        ]\n",
    "      ],\n",
    "      \"annotationSpecs\": [\n",
    "        {\n",
    "          \"displayName\": \"NULL\"\n",
    "        },\n",
    "        {\n",
    "          \"id\": \"2041829376663748608\",\n",
    "          \"displayName\": \"DiseaseClass\"\n",
    "        },\n",
    "        {\n",
    "          \"displayName\": \"Modifier\",\n",
    "          \"id\": \"4347672385877442560\"\n",
    "        },\n",
    "        {\n",
    "          \"id\": \"6653515395091136512\",\n",
    "          \"displayName\": \"CompositeMention\"\n",
    "        },\n",
    "        {\n",
    "          \"displayName\": \"SpecificDisease\",\n",
    "          \"id\": \"7806436899697983488\"\n",
    "        }\n",
    "      ]\n",
    "    },\n",
    "    \"confidenceMetrics\": [\n",
    "      {\n",
    "        \"precision\": 0.74125874,\n",
    "        \"recall\": 0.7775061,\n",
    "        \"confidenceThreshold\": 0.04,\n",
    "        \"f1Score\": 0.7589499\n",
    "      },\n",
    "      {\n",
    "        \"f1Score\": 0.7870968,\n",
    "        \"recall\": 0.7457213,\n",
    "        \"confidenceThreshold\": 0.96,\n",
    "        \"precision\": 0.8333333\n",
    "      },\n",
    "      \n",
    "      # 去掉以保持简洁\n",
    "      \n",
    "      {\n",
    "        \"precision\": 0.745283,\n",
    "        \"f1Score\": 0.7587035,\n",
    "        \"recall\": 0.77261615,\n",
    "        \"confidenceThreshold\": 0.43\n",
    "      },\n",
    "      {\n",
    "        \"precision\": 0.7470449,\n",
    "        \"recall\": 0.77261615,\n",
    "        \"confidenceThreshold\": 0.44,\n",
    "        \"f1Score\": 0.7596154\n",
    "      }\n",
    "    ]\n",
    "  },\n",
    "  \"createTime\": \"2021-03-01T17:59:23.638307Z\",\n",
    "  \"sliceDimensions\": [\n",
    "    \"annotationSpec\"\n",
    "  ]\n",
    "}"
   ]
  },
  {
   "cell_type": "markdown",
   "metadata": {
    "id": "OnCI5OoPmDy9"
   },
   "source": [
    "进行批量预测"
   ]
  },
  {
   "cell_type": "markdown",
   "metadata": {
    "id": "gM-YixlLmDy9"
   },
   "source": [
    "生成一个批量预测文件"
   ]
  },
  {
   "cell_type": "code",
   "execution_count": null,
   "metadata": {
    "id": "V6caf56xmDy9"
   },
   "outputs": [],
   "source": [
    "import json\n",
    "\n",
    "import tensorflow as tf\n",
    "\n",
    "test_item = 'Molecular basis of hexosaminidase A deficiency and pseudodeficiency in the Berks County Pennsylvania Dutch.\\\\tFollowing the birth of two infants with Tay-Sachs disease ( TSD ) , a non-Jewish , Pennsylvania Dutch kindred was screened for TSD carriers using the biochemical assay . A high frequency of individuals who appeared to be TSD heterozygotes was detected ( Kelly et al . , 1975 ) . Clinical and biochemical evidence suggested that the increased carrier frequency was due to at least two altered alleles for the hexosaminidase A alpha-subunit . We now report two mutant alleles in this Pennsylvania Dutch kindred , and one polymorphism . One allele , reported originally in a French TSD patient ( Akli et al . , 1991 ) , is a GT-- > AT transition at the donor splice-site of intron 9 . The second , a C-- > T transition at nucleotide 739 ( Arg247Trp ) , has been shown by Triggs-Raine et al . ( 1992 ) to be a clinically benign \" pseudodeficient \" allele associated with reduced enzyme activity against artificial substrate . Finally , a polymorphism [ G-- > A ( 759 ) ] , which leaves valine at codon 253 unchanged , is described'\n",
    "\n",
    "gcs_test_item = \"gs://\" + BUCKET_NAME + \"/test.txt\"\n",
    "with tf.io.gfile.GFile(gcs_test_item, \"w\") as f:\n",
    "    f.write(test_item + \"\\n\")\n",
    "\n",
    "gcs_input_uri = \"gs://\" + BUCKET_NAME + \"/test.jsonl\"\n",
    "with tf.io.gfile.GFile(gcs_input_uri, \"w\") as f:\n",
    "    f.write(json.dumps({\"content\": gcs_test_item, \"mime_type\": \"text/plain\"}) + \"\\n\")\n",
    "\n",
    "! gsutil cat $gcs_input_uri\n",
    "! gsutil cat $gcs_test_item"
   ]
  },
  {
   "cell_type": "markdown",
   "metadata": {
    "id": "sPupiwqN_jAB"
   },
   "source": [
    "{\"content\": \"gs://migration-ucaip-trainingaip-20210301154552/test.txt\", \"mime_type\": \"text/plain\"}\n",
    "宾夕法尼亚州荷兰人的巴克斯县假性差和假华轮酸酯酶A不足的分子基础。两名出生有泰氏病（TSD）的婴儿后，对一个非犹太人的宾夕法尼亚荷兰人亲属进行了TSD携带者的生化分析筛选。发现了一个很高频率的个体，看起来是TSD杂合子（Kelly等人，1975年）。临床和生化证据表明增加携带者频率是由于至少有两个改变的hexosaminidase A alpha-亚基的等位基因。我们现在报道了这个宾夕法尼亚荷兰人亲属中的两个突变等位基因和一个多态性。一种等位基因，最初报道在一个法国TSD患者（Akli等人，1991年）中，是位于第9内含子供体拼接位点的GT-->AT过渡。第二个是位于核苷酸739（Arg247Trp）的C-->T过渡，已经被Triggs-Raine等人（1992年）证明是与对人工底物的酶活性减少相关的临床良性“假不足”等位基因。最后，描述了一种多态性[G-->A (759)]，保持密码子253的缬氨酸不变。"
   ]
  },
  {
   "cell_type": "markdown",
   "metadata": {
    "id": "5YZGIxwFmDy9"
   },
   "source": [
    "### [projects.locations.batchPredictionJobs.create](https://cloud.google.com/vertex-ai/docs/reference/rest/v1beta1/projects.locations.batchPredictionJobs/create)\n",
    "\n",
    "### [projects.locations.batchPredictionJobs.create](https://cloud.google.com/vertex-ai/docs/reference/rest/v1beta1/projects.locations.batchPredictionJobs/create)"
   ]
  },
  {
   "cell_type": "markdown",
   "metadata": {
    "id": "ozaMOwdNJjkT"
   },
   "source": [
    "请求"
   ]
  },
  {
   "cell_type": "code",
   "execution_count": null,
   "metadata": {
    "id": "RXRw6E0XmDy-"
   },
   "outputs": [],
   "source": [
    "batch_prediction_job = {\n",
    "    \"display_name\": \"ten_\" + TIMESTAMP,\n",
    "    \"model\": model_id,\n",
    "    \"input_config\": {\n",
    "        \"instances_format\": \"jsonl\",\n",
    "        \"gcs_source\": {\"uris\": [gcs_input_uri]},\n",
    "    },\n",
    "    \"output_config\": {\n",
    "        \"predictions_format\": \"jsonl\",\n",
    "        \"gcs_destination\": {\n",
    "            \"output_uri_prefix\": \"gs://\" + f\"{BUCKET_NAME}/batch_output/\"\n",
    "        },\n",
    "    },\n",
    "    \"dedicated_resources\": {\n",
    "        \"machine_spec\": {\"machine_type\": \"n1-standard-2\", \"accelerator_count\": 0},\n",
    "        \"starting_replica_count\": 1,\n",
    "        \"max_replica_count\": 1,\n",
    "    },\n",
    "}\n",
    "\n",
    "print(\n",
    "    MessageToJson(\n",
    "        aip.CreateBatchPredictionJobRequest(\n",
    "            parent=PARENT, batch_prediction_job=batch_prediction_job\n",
    "        ).__dict__[\"_pb\"]\n",
    "    )\n",
    ")"
   ]
  },
  {
   "cell_type": "markdown",
   "metadata": {
    "id": "sPupiwqN_jAB"
   },
   "source": [
    "{\n",
    "  \"parent\": \"projects/migration-ucaip-training/locations/us-central1\",\n",
    "  \"batchPredictionJob\": {\n",
    "    \"displayName\": \"ten_20210301154552\",\n",
    "    \"model\": \"projects/116273516712/locations/us-central1/models/4400738115568795648\",\n",
    "    \"inputConfig\": {\n",
    "      \"instancesFormat\": \"jsonl\",\n",
    "      \"gcsSource\": {\n",
    "        \"uris\": [\n",
    "          \"gs://migration-ucaip-trainingaip-20210301154552/test.jsonl\"\n",
    "        ]\n",
    "      }\n",
    "    },\n",
    "    \"outputConfig\": {\n",
    "      \"predictionsFormat\": \"jsonl\",\n",
    "      \"gcsDestination\": {\n",
    "        \"outputUriPrefix\": \"gs://migration-ucaip-trainingaip-20210301154552/batch_output/\"\n",
    "      }\n",
    "    },\n",
    "    \"dedicatedResources\": {\n",
    "      \"machineSpec\": {\n",
    "        \"machineType\": \"n1-standard-2\"\n",
    "      },\n",
    "      \"startingReplicaCount\": 1,\n",
    "      \"maxReplicaCount\": 1\n",
    "    }\n",
    "  }\n",
    "}"
   ]
  },
  {
   "cell_type": "markdown",
   "metadata": {
    "id": "sjVy8V2vmDy-"
   },
   "source": [
    "#### 电话"
   ]
  },
  {
   "cell_type": "code",
   "execution_count": null,
   "metadata": {
    "id": "Gl-oZ4iEmDy-"
   },
   "outputs": [],
   "source": [
    "request = clients[\"job\"].create_batch_prediction_job(\n",
    "    parent=PARENT, batch_prediction_job=batch_prediction_job\n",
    ")"
   ]
  },
  {
   "cell_type": "markdown",
   "metadata": {
    "id": "D8ZPK4CJmDy-"
   },
   "source": [
    "#### 回应"
   ]
  },
  {
   "cell_type": "code",
   "execution_count": null,
   "metadata": {
    "id": "5SFADp4amDy-"
   },
   "outputs": [],
   "source": [
    "print(MessageToJson(request.__dict__[\"_pb\"]))"
   ]
  },
  {
   "cell_type": "markdown",
   "metadata": {
    "id": "sPupiwqN_jAB"
   },
   "source": [
    "{\n",
    "  \"name\": \"projects/116273516712/locations/us-central1/batchPredictionJobs/3588251799200464896\",\n",
    "  \"displayName\": \"ten_20210301154552\",\n",
    "  \"model\": \"projects/116273516712/locations/us-central1/models/4400738115568795648\",\n",
    "  \"inputConfig\": {\n",
    "    \"instancesFormat\": \"jsonl\",\n",
    "    \"gcsSource\": {\n",
    "      \"uris\": [\n",
    "        \"gs://migration-ucaip-trainingaip-20210301154552/test.jsonl\"\n",
    "      ]\n",
    "    }\n",
    "  },\n",
    "  \"outputConfig\": {\n",
    "    \"predictionsFormat\": \"jsonl\",\n",
    "    \"gcsDestination\": {\n",
    "      \"outputUriPrefix\": \"gs://migration-ucaip-trainingaip-20210301154552/batch_output/\"\n",
    "    }\n",
    "  },\n",
    "  \"state\": \"JOB_STATE_PENDING\",\n",
    "  \"completionStats\": {\n",
    "    \"incompleteCount\": \"-1\"\n",
    "  },\n",
    "  \"createTime\": \"2021-03-01T17:59:42.777083Z\",\n",
    "  \"updateTime\": \"2021-03-01T17:59:42.777083Z\"\n",
    "}\n",
    "```"
   ]
  },
  {
   "cell_type": "code",
   "execution_count": null,
   "metadata": {
    "id": "948796f1aecd"
   },
   "outputs": [],
   "source": [
    "# The fully qualified ID for the batch job\n",
    "batch_job_id = request.name\n",
    "# The short numeric ID for the batch job\n",
    "batch_job_short_id = batch_job_id.split(\"/\")[-1]\n",
    "\n",
    "print(batch_job_id)"
   ]
  },
  {
   "cell_type": "markdown",
   "metadata": {
    "id": "AOgLC0hnmDy_"
   },
   "source": [
    "### [项目.地点.批量预测作业获取](https://cloud.google.com/vertex-ai/docs/reference/rest/v1beta1/projects.locations.batchPredictionJobs/get)"
   ]
  },
  {
   "cell_type": "markdown",
   "metadata": {
    "id": "YRHUe9-ZmDy_"
   },
   "source": [
    "#### 呼叫"
   ]
  },
  {
   "cell_type": "code",
   "execution_count": null,
   "metadata": {
    "id": "qi6-JkammDy_"
   },
   "outputs": [],
   "source": [
    "request = clients[\"job\"].get_batch_prediction_job(name=batch_job_id)"
   ]
  },
  {
   "cell_type": "markdown",
   "metadata": {
    "id": "KQUdbrjfmDy_"
   },
   "source": [
    "响应"
   ]
  },
  {
   "cell_type": "code",
   "execution_count": null,
   "metadata": {
    "id": "h3DRpflrmDy_"
   },
   "outputs": [],
   "source": [
    "print(MessageToJson(request.__dict__[\"_pb\"]))"
   ]
  },
  {
   "cell_type": "markdown",
   "metadata": {
    "id": "sPupiwqN_jAB"
   },
   "source": [
    "{\n",
    "  \"name\": \"projects/116273516712/locations/us-central1/batchPredictionJobs/3588251799200464896\",\n",
    "  \"displayName\": \"ten_20210301154552\",\n",
    "  \"model\": \"projects/116273516712/locations/us-central1/models/4400738115568795648\",\n",
    "  \"inputConfig\": {\n",
    "    \"instancesFormat\": \"jsonl\",\n",
    "    \"gcsSource\": {\n",
    "      \"uris\": [\n",
    "        \"gs://migration-ucaip-trainingaip-20210301154552/test.jsonl\"\n",
    "      ]\n",
    "    }\n",
    "  },\n",
    "  \"outputConfig\": {\n",
    "    \"predictionsFormat\": \"jsonl\",\n",
    "    \"gcsDestination\": {\n",
    "      \"outputUriPrefix\": \"gs://migration-ucaip-trainingaip-20210301154552/batch_output/\"\n",
    "    }\n",
    "  },\n",
    "  \"state\": \"JOB_STATE_PENDING\",\n",
    "  \"completionStats\": {\n",
    "    \"incompleteCount\": \"-1\"\n",
    "  },\n",
    "  \"createTime\": \"2021-03-01T17:59:42.777083Z\",\n",
    "  \"updateTime\": \"2021-03-01T17:59:42.777083Z\"\n",
    "}"
   ]
  },
  {
   "cell_type": "code",
   "execution_count": null,
   "metadata": {
    "id": "batchpredictionjobs_get:migration,new,wait"
   },
   "outputs": [],
   "source": [
    "while True:\n",
    "    response = clients[\"job\"].get_batch_prediction_job(name=batch_job_id)\n",
    "    if response.state != aip.JobState.JOB_STATE_SUCCEEDED:\n",
    "        print(\"The job has not completed:\", response.state)\n",
    "        if response.state == aip.JobState.JOB_STATE_FAILED:\n",
    "            break\n",
    "    else:\n",
    "        folder = response.output_config.gcs_destination.output_uri_prefix[:-1]\n",
    "        ! gsutil ls $folder/prediction*/*.jsonl\n",
    "\n",
    "        ! gsutil cat $folder/prediction*/*.jsonl\n",
    "        break\n",
    "    time.sleep(60)"
   ]
  },
  {
   "cell_type": "markdown",
   "metadata": {
    "id": "trainingpipelines_create:migration,new,response,icn"
   },
   "source": [
    "*示例输出*：\n",
    "```\n",
    "gs://migration-ucaip-trainingaip-20210301154552/batch_output/prediction-ten_20210301154552-2021-03-01T17:59:42.638222Z/predictions_00001.jsonl\n",
    "{\"instance\":{\"content\":\"gs://migration-ucaip-trainingaip-20210301154552/test.txt\",\"mimeType\":\"text/plain\"},\"prediction\":{\"ids\":[\"7806436899697983488\",\"7806436899697983488\",\"7806436899697983488\",\"4347672385877442560\",\"4347672385877442560\",\"4347672385877442560\"],\"displayNames\":[\"SpecificDisease\",\"SpecificDisease\",\"SpecificDisease\",\"Modifier\",\"Modifier\",\"Modifier\"],\"textSegmentStartOffsets\":[\"149\",\"19\",\"169\",\"236\",\"688\",\"330\"],\"textSegmentEndOffsets\":[\"165\",\"45\",\"171\",\"238\",\"690\",\"332\"],\"confidences\":[0.99957836,0.9995628,0.9995044,0.9993287,0.9993144,0.99927235]}}\n",
    "```"
   ]
  },
  {
   "cell_type": "markdown",
   "metadata": {
    "id": "wOZktSibmDzA"
   },
   "source": [
    "做在线预测"
   ]
  },
  {
   "cell_type": "markdown",
   "metadata": {
    "id": "COwVZtxhJjkW"
   },
   "source": [
    "### [projects.locations.endpoints.create](https://cloud.google.com/vertex-ai/docs/reference/rest/v1beta1/projects.locations.endpoints/create) \n",
    "\n",
    "### [projects.locations.endpoints.create](https://cloud.google.com/vertex-ai/docs/reference/rest/v1beta1/projects.locations.endpoints/create)"
   ]
  },
  {
   "cell_type": "markdown",
   "metadata": {
    "id": "UqsMvafmmDzA"
   },
   "source": [
    "#### 请求"
   ]
  },
  {
   "cell_type": "code",
   "execution_count": null,
   "metadata": {
    "id": "WJXSR0SemDzA"
   },
   "outputs": [],
   "source": [
    "endpoint = {\"display_name\": \"ten_\" + TIMESTAMP}\n",
    "\n",
    "print(\n",
    "    MessageToJson(\n",
    "        aip.CreateEndpointRequest(parent=PARENT, endpoint=endpoint).__dict__[\"_pb\"]\n",
    "    )\n",
    ")"
   ]
  },
  {
   "cell_type": "markdown",
   "metadata": {
    "id": "sPupiwqN_jAB"
   },
   "source": [
    "{\n",
    "  \"parent\": \"projects/migration-ucaip-training/locations/us-central1\",\n",
    "  \"endpoint\": {\n",
    "    \"displayName\": \"ten_20210301154552\"\n",
    "  }\n",
    "} \n",
    "\n",
    "示例输出：{\n",
    "  \"parent\": \"projects/migration-ucaip-training/locations/us-central1\",\n",
    "  \"endpoint\": {\n",
    "    \"displayName\": \"ten_20210301154552\"\n",
    "  }\n",
    "}"
   ]
  },
  {
   "cell_type": "markdown",
   "metadata": {
    "id": "TkObt-D9mDzB"
   },
   "source": [
    "呼叫"
   ]
  },
  {
   "cell_type": "code",
   "execution_count": null,
   "metadata": {
    "id": "4yS1e4-umDzB"
   },
   "outputs": [],
   "source": [
    "request = clients[\"endpoint\"].create_endpoint(parent=PARENT, endpoint=endpoint)"
   ]
  },
  {
   "cell_type": "markdown",
   "metadata": {
    "id": "XhlKSNtLmDzB"
   },
   "source": [
    "回应"
   ]
  },
  {
   "cell_type": "code",
   "execution_count": null,
   "metadata": {
    "id": "rx_183PQmDzB"
   },
   "outputs": [],
   "source": [
    "result = request.result()\n",
    "\n",
    "print(MessageToJson(result.__dict__[\"_pb\"]))"
   ]
  },
  {
   "cell_type": "markdown",
   "metadata": {
    "id": "sPupiwqN_jAB"
   },
   "source": [
    "{\n",
    "  \"name\": \"projects/116273516712/locations/us-central1/endpoints/8916247652891361280\"\n",
    "}\n",
    "```\n",
    "\n",
    "*示例输出*:\n",
    "```\n",
    "{\n",
    "  \"name\": \"projects/116273516712/locations/us-central1/endpoints/8916247652891361280\"\n",
    "}\n",
    "```"
   ]
  },
  {
   "cell_type": "code",
   "execution_count": null,
   "metadata": {
    "id": "c36b9ed788b2"
   },
   "outputs": [],
   "source": [
    "# The fully qualified ID for the endpoint\n",
    "endpoint_id = result.name\n",
    "# The short numeric ID for the endpoint\n",
    "endpoint_short_id = endpoint_id.split(\"/\")[-1]\n",
    "\n",
    "print(endpoint_id)"
   ]
  },
  {
   "cell_type": "markdown",
   "metadata": {
    "id": "gpnVJS3AJjkW"
   },
   "source": [
    "### [projects.locations.endpoints.deployModel](https://cloud.google.com/vertex-ai/docs/reference/rest/v1beta1/projects.locations.endpoints/deployModel)\n",
    "\n",
    "### [项目.位置.端点.部署模型](https://cloud.google.com/vertex-ai/docs/reference/rest/v1beta1/projects.locations.endpoints/deployModel)"
   ]
  },
  {
   "cell_type": "markdown",
   "metadata": {
    "id": "BtJfuq3FmDzC"
   },
   "source": [
    "#### 请求"
   ]
  },
  {
   "cell_type": "code",
   "execution_count": null,
   "metadata": {
    "id": "BiHGmlWCmDzC"
   },
   "outputs": [],
   "source": [
    "deployed_model = {\n",
    "    \"model\": model_id,\n",
    "    \"display_name\": \"ten_\" + TIMESTAMP,\n",
    "    \"automatic_resources\": {\"min_replica_count\": 1, \"max_replica_count\": 1},\n",
    "}\n",
    "\n",
    "traffic_split = {\"0\": 100}\n",
    "\n",
    "print(\n",
    "    MessageToJson(\n",
    "        aip.DeployModelRequest(\n",
    "            endpoint=endpoint_id,\n",
    "            deployed_model=deployed_model,\n",
    "            traffic_split=traffic_split,\n",
    "        ).__dict__[\"_pb\"]\n",
    "    )\n",
    ")"
   ]
  },
  {
   "cell_type": "markdown",
   "metadata": {
    "id": "sPupiwqN_jAB"
   },
   "source": [
    "*示例输出*：\n",
    "```\n",
    "{\n",
    "  \"endpoint\": \"projects/116273516712/locations/us-central1/endpoints/8916247652891361280\",\n",
    "  \"deployedModel\": {\n",
    "    \"model\": \"projects/116273516712/locations/us-central1/models/4400738115568795648\",\n",
    "    \"displayName\": \"ten_20210301154552\",\n",
    "    \"automaticResources\": {\n",
    "      \"minReplicaCount\": 1,\n",
    "      \"maxReplicaCount\": 1\n",
    "    }\n",
    "  },\n",
    "  \"trafficSplit\": {\n",
    "    \"0\": 100\n",
    "  }\n",
    "}\n",
    "```"
   ]
  },
  {
   "cell_type": "markdown",
   "metadata": {
    "id": "hIzbdl0VmDzC"
   },
   "source": [
    "#### 电话"
   ]
  },
  {
   "cell_type": "code",
   "execution_count": null,
   "metadata": {
    "id": "4N0ab1LbmDzC"
   },
   "outputs": [],
   "source": [
    "request = clients[\"endpoint\"].deploy_model(\n",
    "    endpoint=endpoint_id, deployed_model=deployed_model, traffic_split=traffic_split\n",
    ")"
   ]
  },
  {
   "cell_type": "markdown",
   "metadata": {
    "id": "3VEwSDuDmDzC"
   },
   "source": [
    "#### 回复"
   ]
  },
  {
   "cell_type": "code",
   "execution_count": null,
   "metadata": {
    "id": "usGWKp2OmDzD"
   },
   "outputs": [],
   "source": [
    "result = request.result()\n",
    "\n",
    "print(MessageToJson(result.__dict__[\"_pb\"]))"
   ]
  },
  {
   "cell_type": "markdown",
   "metadata": {
    "id": "sPupiwqN_jAB"
   },
   "source": [
    "*示例输出*：\n",
    "```\n",
    "{\n",
    "  \"deployedModel\": {\n",
    "    \"id\": \"3958065938133155840\"\n",
    "  }\n",
    "}\n",
    "```\n",
    "*示例输出*：\n",
    "```\n",
    "{\n",
    "  \"deployedModel\": {\n",
    "    \"id\": \"3958065938133155840\"\n",
    "  }\n",
    "}\n",
    "```"
   ]
  },
  {
   "cell_type": "code",
   "execution_count": null,
   "metadata": {
    "id": "deployed_model_id:migration,new,response"
   },
   "outputs": [],
   "source": [
    "# The unique ID for the deployed model\n",
    "deployed_model_id = result.deployed_model.id\n",
    "\n",
    "print(deployed_model_id)"
   ]
  },
  {
   "cell_type": "markdown",
   "metadata": {
    "id": "Q4d0u9hLmDzD"
   },
   "source": [
    "### [projects.locations.endpoints.predict](https://cloud.google.com/vertex-ai/docs/reference/rest/v1beta1/projects.locations.endpoints/predict)\n",
    "\n",
    "### [projects.locations.endpoints.predict](https://cloud.google.com/vertex-ai/docs/reference/rest/v1beta1/projects.locations.endpoints/predict)"
   ]
  },
  {
   "cell_type": "markdown",
   "metadata": {
    "id": "e1de98a2fd17"
   },
   "source": [
    "为在线预测准备数据项目"
   ]
  },
  {
   "cell_type": "code",
   "execution_count": null,
   "metadata": {
    "id": "kJ5XyBVrmDzA"
   },
   "outputs": [],
   "source": [
    "test_item = 'Molecular basis of hexosaminidase A deficiency and pseudodeficiency in the Berks County Pennsylvania Dutch.\\\\tFollowing the birth of two infants with Tay-Sachs disease ( TSD ) , a non-Jewish , Pennsylvania Dutch kindred was screened for TSD carriers using the biochemical assay . A high frequency of individuals who appeared to be TSD heterozygotes was detected ( Kelly et al . , 1975 ) . Clinical and biochemical evidence suggested that the increased carrier frequency was due to at least two altered alleles for the hexosaminidase A alpha-subunit . We now report two mutant alleles in this Pennsylvania Dutch kindred , and one polymorphism . One allele , reported originally in a French TSD patient ( Akli et al . , 1991 ) , is a GT-- > AT transition at the donor splice-site of intron 9 . The second , a C-- > T transition at nucleotide 739 ( Arg247Trp ) , has been shown by Triggs-Raine et al . ( 1992 ) to be a clinically benign \" pseudodeficient \" allele associated with reduced enzyme activity against artificial substrate . Finally , a polymorphism [ G-- > A ( 759 ) ] , which leaves valine at codon 253 unchanged , is described'"
   ]
  },
  {
   "cell_type": "markdown",
   "metadata": {
    "id": "Fwp-_YXHmDzD"
   },
   "source": [
    "请求"
   ]
  },
  {
   "cell_type": "code",
   "execution_count": null,
   "metadata": {
    "id": "nxF4dCLcmDzD"
   },
   "outputs": [],
   "source": [
    "instances_list = [{\"content\": test_item}]\n",
    "\n",
    "instances = [json_format.ParseDict(s, Value()) for s in instances_list]\n",
    "\n",
    "prediction_request = aip.PredictRequest(\n",
    "    endpoint=endpoint_id,\n",
    ")\n",
    "prediction_request.instances.append(instances)\n",
    "\n",
    "print(MessageToJson(prediction_request.__dict__[\"_pb\"]))"
   ]
  },
  {
   "cell_type": "markdown",
   "metadata": {
    "id": "sPupiwqN_jAB"
   },
   "source": [
    "*示例输出*：\n",
    "```\n",
    "{\n",
    "  \"endpoint\": \"projects/116273516712/locations/us-central1/endpoints/8916247652891361280\",\n",
    "  \"instances\": [\n",
    "    [\n",
    "      {\n",
    "        \"content\": \"巴克斯县宾夕法尼亚德国人的TSD相关和伪缺陷的己烯胺酸酶A缺陷的分子基础。\\\\t在出生了两个Tay-Sachs病（TSD）患儿后，对一个非犹太宾夕法尼亚德国家族进行了TSD携带者的生化检测。检测到了一大批看起来是TSD杂合子的个体（Kelly等人，1975年）。临床和生化证据表明，增加的携带者频率至少是由于己烯胺酸酶Aα亚基的至少两个改变过的等位基因。我们现在在这个宾夕法尼亚德国家族中报告了两个突变基因，以及一个多态性。一种等位基因，最初在法国TSD患者（Akli等人，1991年）中报道，是在第9内含子供体剪接位点上的GT-->AT过渡。第二种，在核苷酸739处的C-->T过渡（Arg247Trp），由Triggs-Raine等人（1992年）证明与对人工底物的酶活性降低相关的临床良性“伪缺陷”等位基因。最后，描述了一种多态性[G-->A（759）]，使得在密码子253处的缬氨酸保持不变。\"\n",
    "      }\n",
    "    ]\n",
    "  ]\n",
    "}\n",
    "```"
   ]
  },
  {
   "cell_type": "markdown",
   "metadata": {
    "id": "vHkuSZxkJjkT"
   },
   "source": [
    "#### 电话"
   ]
  },
  {
   "cell_type": "code",
   "execution_count": null,
   "metadata": {
    "id": "MmtZNBAHmDzE"
   },
   "outputs": [],
   "source": [
    "request = clients[\"prediction\"].predict(endpoint=endpoint_id, instances=instances)"
   ]
  },
  {
   "cell_type": "markdown",
   "metadata": {
    "id": "FLqkZMD2JjkT"
   },
   "source": [
    "#### 回复"
   ]
  },
  {
   "cell_type": "code",
   "execution_count": null,
   "metadata": {
    "id": "vGx0eDC0mDzE"
   },
   "outputs": [],
   "source": [
    "print(MessageToJson(request.__dict__[\"_pb\"]))"
   ]
  },
  {
   "cell_type": "markdown",
   "metadata": {
    "id": "sPupiwqN_jAB"
   },
   "source": [
    "{\n",
    "  \"predictions\": [\n",
    "    {\n",
    "      \"displayNames\": [\n",
    "        \"具体疾病\",\n",
    "        \"具体疾病\",\n",
    "        \"具体疾病\",\n",
    "        \"修饰词\",\n",
    "        \"修饰词\",\n",
    "        \"修饰词\"\n",
    "      ],\n",
    "      \"confidences\": [\n",
    "        0.9995627999305725,\n",
    "        0.9995783567428589,\n",
    "        0.9995043873786926,\n",
    "        0.9993286728858948,\n",
    "        0.999272346496582,\n",
    "        0.9993144273757935\n",
    "      ],\n",
    "      \"textSegmentStartOffsets\": [\n",
    "        19.0,\n",
    "        149.0,\n",
    "        169.0,\n",
    "        236.0,\n",
    "        330.0,\n",
    "        688.0\n",
    "      ],\n",
    "      \"ids\": [\n",
    "        \"7806436899697983488\",\n",
    "        \"7806436899697983488\",\n",
    "        \"7806436899697983488\",\n",
    "        \"4347672385877442560\",\n",
    "        \"4347672385877442560\",\n",
    "        \"4347672385877442560\"\n",
    "      ],\n",
    "      \"textSegmentEndOffsets\": [\n",
    "        46.0,\n",
    "        166.0,\n",
    "        172.0,\n",
    "        239.0,\n",
    "        333.0,\n",
    "        691.0\n",
    "      ]\n",
    "    }\n",
    "  ],\n",
    "  \"deployedModelId\": \"3958065938133155840\"\n",
    "}"
   ]
  },
  {
   "cell_type": "markdown",
   "metadata": {
    "id": "endpoints_undeploymodel:migration,new"
   },
   "source": [
    "### [projects.locations.endpoints.undeployModel](https://cloud.google.com/vertex-ai/docs/reference/rest/v1beta1/projects.locations.endpoints/undeployModel)\n",
    "\n",
    "### [项目.位置.端点.取消部署模型](https://cloud.google.com/vertex-ai/docs/reference/rest/v1beta1/projects.locations.endpoints/undeployModel)"
   ]
  },
  {
   "cell_type": "markdown",
   "metadata": {
    "id": "KrVZz6Uw_jAp"
   },
   "source": [
    "####电话"
   ]
  },
  {
   "cell_type": "code",
   "execution_count": null,
   "metadata": {
    "id": "endpoints_undeploymodel:migration,new,call"
   },
   "outputs": [],
   "source": [
    "request = clients[\"endpoint\"].undeploy_model(\n",
    "    endpoint=endpoint_id,\n",
    "    deployed_model_id=deployed_model_id,\n",
    "    traffic_split={},\n",
    ")"
   ]
  },
  {
   "cell_type": "markdown",
   "metadata": {
    "id": "wvFK-kir_jAq"
   },
   "source": [
    "#### 回复"
   ]
  },
  {
   "cell_type": "code",
   "execution_count": null,
   "metadata": {
    "id": "GvajSw-Y_jAq"
   },
   "outputs": [],
   "source": [
    "result = request.result()\n",
    "\n",
    "print(MessageToJson(result.__dict__[\"_pb\"]))"
   ]
  },
  {
   "cell_type": "markdown",
   "metadata": {
    "id": "sPupiwqN_jAB"
   },
   "source": [
    "*示例输出*：\n",
    "```\n",
    "{}\n",
    "```"
   ]
  },
  {
   "cell_type": "markdown",
   "metadata": {
    "id": "bQ-VVaSxJjkd"
   },
   "source": [
    "清理工作 \n",
    "\n",
    "要清理此项目中使用的所有GCP资源，您可以删除用于教程的[GCP项目](https://cloud.google.com/resource-manager/docs/creating-managing-projects#shutting_down_projects)。\n",
    "\n",
    "否则，您可以删除在此教程中创建的单个资源。"
   ]
  },
  {
   "cell_type": "code",
   "execution_count": null,
   "metadata": {
    "id": "5SCM9v_zmDzF"
   },
   "outputs": [],
   "source": [
    "delete_dataset = True\n",
    "delete_model = True\n",
    "delete_endpoint = True\n",
    "delete_pipeline = True\n",
    "delete_batchjob = True\n",
    "delete_bucket = True\n",
    "\n",
    "# Delete the dataset using the Vertex AI fully qualified identifier for the dataset\n",
    "try:\n",
    "    if delete_dataset:\n",
    "        clients[\"dataset\"].delete_dataset(name=dataset_id)\n",
    "except Exception as e:\n",
    "    print(e)\n",
    "\n",
    "# Delete the model using the Vertex AI fully qualified identifier for the model\n",
    "try:\n",
    "    if delete_model:\n",
    "        clients[\"model\"].delete_model(name=model_id)\n",
    "except Exception as e:\n",
    "    print(e)\n",
    "\n",
    "# Delete the endpoint using the Vertex AI fully qualified identifier for the endpoint\n",
    "try:\n",
    "    if delete_endpoint:\n",
    "        clients[\"endpoint\"].delete_endpoint(name=endpoint_id)\n",
    "except Exception as e:\n",
    "    print(e)\n",
    "\n",
    "# Delete the training pipeline using the Vertex AI fully qualified identifier for the training pipeline\n",
    "try:\n",
    "    if delete_pipeline:\n",
    "        clients[\"pipeline\"].delete_training_pipeline(name=training_pipeline_id)\n",
    "except Exception as e:\n",
    "    print(e)\n",
    "\n",
    "# Delete the batch job using the Vertex AI fully qualified identifier for the batch job\n",
    "try:\n",
    "    if delete_batchjob:\n",
    "        clients[\"job\"].delete_batch_prediction_job(name=batch_job_id)\n",
    "except Exception as e:\n",
    "    print(e)\n",
    "\n",
    "\n",
    "if delete_bucket and \"BUCKET_NAME\" in globals():\n",
    "    ! gsutil rm -r gs://$BUCKET_NAME"
   ]
  }
 ],
 "metadata": {
  "colab": {
   "name": "UJ7 unified AutoML for natural language with Vertex AI Text Entity Extraction.ipynb",
   "toc_visible": true
  },
  "kernelspec": {
   "display_name": "Python 3",
   "name": "python3"
  }
 },
 "nbformat": 4,
 "nbformat_minor": 0
}
