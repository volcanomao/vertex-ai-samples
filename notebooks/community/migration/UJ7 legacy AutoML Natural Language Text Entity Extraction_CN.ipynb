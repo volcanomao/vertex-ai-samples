{
 "cells": [
  {
   "cell_type": "code",
   "execution_count": null,
   "metadata": {
    "id": "L3g1QPqPjIBe"
   },
   "outputs": [],
   "source": [
    "# Copyright 2021 Google LLC\n",
    "#\n",
    "# Licensed under the Apache License, Version 2.0 (the \"License\");\n",
    "# you may not use this file except in compliance with the License.\n",
    "# You may obtain a copy of the License at\n",
    "#\n",
    "#     https://www.apache.org/licenses/LICENSE-2.0\n",
    "#\n",
    "# Unless required by applicable law or agreed to in writing, software\n",
    "# distributed under the License is distributed on an \"AS IS\" BASIS,\n",
    "# WITHOUT WARRANTIES OR CONDITIONS OF ANY KIND, either express or implied.\n",
    "# See the License for the specific language governing permissions and\n",
    "# limitations under the License."
   ]
  },
  {
   "cell_type": "markdown",
   "metadata": {
    "id": "text_title:migration,automl,icn"
   },
   "source": [
    "# 自动机器学习文本实体提取模型"
   ]
  },
  {
   "cell_type": "markdown",
   "metadata": {
    "id": "JE-aKjayJjkF"
   },
   "source": [
    "## 安装\n",
    "\n",
    "安装最新版本的AutoML SDK。"
   ]
  },
  {
   "cell_type": "code",
   "execution_count": null,
   "metadata": {
    "id": "7dxB6-B0JjkG"
   },
   "outputs": [],
   "source": [
    "! pip3 install google-cloud-automl"
   ]
  },
  {
   "cell_type": "markdown",
   "metadata": {
    "id": "Iddo-8HmJjkH"
   },
   "source": [
    "安装Google云存储库。"
   ]
  },
  {
   "cell_type": "code",
   "execution_count": null,
   "metadata": {
    "id": "xHvi6EFSJjkH"
   },
   "outputs": [],
   "source": [
    "! pip3 install google-cloud-storage"
   ]
  },
  {
   "cell_type": "markdown",
   "metadata": {
    "id": "ktRTgB8DJjkI"
   },
   "source": [
    "### 重新启动内核\n",
    "\n",
    "一旦您安装了AutoML SDK和Google *cloud-storage*，您需要重新启动笔记本内核，以便它可以找到这些软件包。"
   ]
  },
  {
   "cell_type": "code",
   "execution_count": null,
   "metadata": {
    "id": "x1g4mBdlJjkI"
   },
   "outputs": [],
   "source": [
    "import os\n",
    "\n",
    "if not os.getenv(\"AUTORUN\"):\n",
    "    # Automatically restart kernel after installs\n",
    "    import IPython\n",
    "\n",
    "    app = IPython.Application.instance()\n",
    "    app.kernel.do_shutdown(True)"
   ]
  },
  {
   "cell_type": "markdown",
   "metadata": {
    "id": "-ppwXGR7ki5K"
   },
   "source": [
    "## 在开始之前\r\n",
    "\r\n",
    "### GPU运行时\r\n",
    "\r\n",
    "*确保在GPU运行时下运行此笔记本。在Colab中，选择* **运行时 > 更改运行时类型 > GPU**\r\n",
    "\r\n",
    "### 设置您的GCP项目\r\n",
    "\r\n",
    "**无论您的笔记本环境如何，以下步骤都是必需的。**\r\n",
    "\r\n",
    "1. [选择或创建一个GCP项目](https://console.cloud.google.com/cloud-resource-manager)。当您首次创建帐户时，您可以获得$300的免费信用用于计算/存储成本。\r\n",
    "\r\n",
    "2. [确保为您的项目启用了计费。](https://cloud.google.com/billing/docs/how-to/modify-project)\r\n",
    "\r\n",
    "3. [启用AutoML API和Compute Engine API。](https://console.cloud.google.com/flows/enableapi?apiid=ml.googleapis.com,compute_component)\r\n",
    "\r\n",
    "4. [Google Cloud SDK](https://cloud.google.com/sdk) 已经安装在AutoML笔记本中。\r\n",
    "\r\n",
    "5. 在下面的单元格中输入您的项目ID。然后运行这个单元格，以确保\r\n",
    "Cloud SDK 在此笔记本中所有命令中使用正确的项目。\r\n",
    "\r\n",
    "**注意**: Jupyter用`！`前缀运行带有`!`前缀的行作为shell命令，并将以`$`前缀的Python变量插入这些命令中。"
   ]
  },
  {
   "cell_type": "code",
   "execution_count": null,
   "metadata": {
    "id": "set_project_id"
   },
   "outputs": [],
   "source": [
    "PROJECT_ID = \"[your-project-id]\"  # @param {type:\"string\"}"
   ]
  },
  {
   "cell_type": "code",
   "execution_count": null,
   "metadata": {
    "id": "autoset_project_id"
   },
   "outputs": [],
   "source": [
    "if PROJECT_ID == \"\" or PROJECT_ID is None or PROJECT_ID == \"[your-project-id]\":\n",
    "    # Get your GCP project id from gcloud\n",
    "    shell_output = !gcloud config list --format 'value(core.project)' 2>/dev/null\n",
    "    PROJECT_ID = shell_output[0]\n",
    "    print(\"Project ID:\", PROJECT_ID)"
   ]
  },
  {
   "cell_type": "code",
   "execution_count": null,
   "metadata": {
    "id": "0UfsdLCEJjkJ"
   },
   "outputs": [],
   "source": [
    "! gcloud config set project $PROJECT_ID"
   ]
  },
  {
   "cell_type": "markdown",
   "metadata": {
    "id": "jT0fijejJjkK"
   },
   "source": [
    "区域\n",
    "\n",
    "您还可以更改“REGION”变量，该变量用于整个笔记本的操作。以下是AutoML支持的区域。我们建议尽可能选择距离您最近的区域。\n",
    "\n",
    "- 美洲：`us-central1`\n",
    "- 欧洲：`europe-west4`\n",
    "- 亚太地区：`asia-east1`\n",
    "\n",
    "您不能使用多区域存储桶来进行AutoML培训。并非所有区域都支持所有AutoML服务。有关每个区域的最新支持，请参见[AutoML服务的区域支持]()。"
   ]
  },
  {
   "cell_type": "code",
   "execution_count": null,
   "metadata": {
    "id": "CTBlncfrJjkK"
   },
   "outputs": [],
   "source": [
    "REGION = \"us-central1\"  # @param {type: \"string\"}"
   ]
  },
  {
   "cell_type": "markdown",
   "metadata": {
    "id": "J_croPBoJjkK"
   },
   "source": [
    "时间戳\n",
    "\n",
    "如果您正在参加直播教程会话，您可能正在使用共享测试账户或项目。为了避免用户之间资源名称的冲突，您为每个实例会话创建一个时间戳，并将其附加到将在本教程中创建的资源的名称上。"
   ]
  },
  {
   "cell_type": "code",
   "execution_count": null,
   "metadata": {
    "id": "KKxStk5bJjkL"
   },
   "outputs": [],
   "source": [
    "from datetime import datetime\n",
    "\n",
    "TIMESTAMP = datetime.now().strftime(\"%Y%m%d%H%M%S\")"
   ]
  },
  {
   "cell_type": "markdown",
   "metadata": {
    "id": "AL7KXzUHlwfP"
   },
   "source": [
    "###验证您的GCP帐户\r\n",
    "\r\n",
    "**如果您正在使用AutoML笔记本**，您的环境已经验证。请跳过此步骤。\r\n",
    "\r\n",
    "*注意：如果您正在使用AutoML笔记本并运行单元格，则该单元格会跳过执行身份验证步骤。*"
   ]
  },
  {
   "cell_type": "code",
   "execution_count": null,
   "metadata": {
    "id": "chybg3Ap_i_2"
   },
   "outputs": [],
   "source": [
    "import os\n",
    "import sys\n",
    "\n",
    "# If you are running this notebook in Colab, run this cell and follow the\n",
    "# instructions to authenticate your Google Cloud account. This provides access\n",
    "# to your Cloud Storage bucket and lets you submit training jobs and prediction\n",
    "# requests.\n",
    "\n",
    "# If on Vertex, then don't execute this code\n",
    "if not os.path.exists(\"/opt/deeplearning/metadata/env_version\"):\n",
    "    if \"google.colab\" in sys.modules:\n",
    "        from google.colab import auth as google_auth\n",
    "\n",
    "        google_auth.authenticate_user()\n",
    "\n",
    "    # If you are running this tutorial in a notebook locally, replace the string\n",
    "    # below with the path to your service account key and run this cell to\n",
    "    # authenticate your Google Cloud account.\n",
    "    else:\n",
    "        %env GOOGLE_APPLICATION_CREDENTIALS your_path_to_credentials.json\n",
    "\n",
    "    # Log in to your account on Google Cloud\n",
    "    ! gcloud auth login"
   ]
  },
  {
   "cell_type": "markdown",
   "metadata": {
    "id": "MDUAZaN3JjkL"
   },
   "source": [
    "创建一个云存储桶\n",
    "\n",
    "**无论您的笔记本环境如何，都需要执行以下步骤。**\n",
    "\n",
    "本教程旨在使用位于公共云存储桶中的训练数据以及用于批量预测的本地云存储桶。您也可以使用自己存储在本地云存储桶中的训练数据。\n",
    "\n",
    "在下面设置您的云存储桶的名称。它在所有云存储桶中必须是唯一的。"
   ]
  },
  {
   "cell_type": "code",
   "execution_count": null,
   "metadata": {
    "id": "bucket"
   },
   "outputs": [],
   "source": [
    "BUCKET_NAME = \"[your-bucket-name]\"  # @param {type:\"string\"}"
   ]
  },
  {
   "cell_type": "code",
   "execution_count": null,
   "metadata": {
    "id": "autoset_bucket"
   },
   "outputs": [],
   "source": [
    "if BUCKET_NAME == \"\" or BUCKET_NAME is None or BUCKET_NAME == \"[your-bucket-name]\":\n",
    "    BUCKET_NAME = PROJECT_ID + \"aip-\" + TIMESTAMP"
   ]
  },
  {
   "cell_type": "markdown",
   "metadata": {
    "id": "yU6VuylGJjkM"
   },
   "source": [
    "只有在您的存储桶还不存在的情况下才运行以下单元格来创建您的云存储存储桶。"
   ]
  },
  {
   "cell_type": "code",
   "execution_count": null,
   "metadata": {
    "id": "qPPrwWpO_i_6"
   },
   "outputs": [],
   "source": [
    "! gsutil mb -l $REGION gs://$BUCKET_NAME"
   ]
  },
  {
   "cell_type": "markdown",
   "metadata": {
    "id": "Mi-Pdh6QJjkN"
   },
   "source": [
    "最后，通过检查Cloud Storage存储桶的内容来验证访问权限。"
   ]
  },
  {
   "cell_type": "code",
   "execution_count": null,
   "metadata": {
    "id": "fn744B7x_i_7"
   },
   "outputs": [],
   "source": [
    "! gsutil ls -al gs://$BUCKET_NAME"
   ]
  },
  {
   "cell_type": "markdown",
   "metadata": {
    "id": "fR9geV9pJjkO"
   },
   "source": [
    "### 设置变量\n",
    "\n",
    "接下来，设置一些在教程中使用的变量。\n",
    "### 导入库并定义常量"
   ]
  },
  {
   "cell_type": "markdown",
   "metadata": {
    "id": "hIHTX-pkJjkO"
   },
   "source": [
    "#### 导入 AutoML SDK\n",
    "\n",
    "将 AutoML SDK 导入我们的 Python 环境。"
   ]
  },
  {
   "cell_type": "code",
   "execution_count": null,
   "metadata": {
    "id": "qrSkIKVgJjkO"
   },
   "outputs": [],
   "source": [
    "import json\n",
    "import os\n",
    "import sys\n",
    "import time\n",
    "\n",
    "from google.cloud import automl\n",
    "from google.protobuf.json_format import MessageToJson\n",
    "from google.protobuf.struct_pb2 import Value"
   ]
  },
  {
   "cell_type": "markdown",
   "metadata": {
    "id": "lbv411XjJjkP"
   },
   "source": [
    "### AutoML 常量\n",
    "\n",
    "为 AutoML 设置以下常量：\n",
    "\n",
    "- `PARENT`: 数据集、模型和端点资源的 AutoML 位置根路径。"
   ]
  },
  {
   "cell_type": "code",
   "execution_count": null,
   "metadata": {
    "id": "Gx8Eos8PJjkP"
   },
   "outputs": [],
   "source": [
    "# AutoM location root path for your dataset, model and endpoint resources\n",
    "PARENT = \"projects/\" + PROJECT_ID + \"/locations/\" + REGION"
   ]
  },
  {
   "cell_type": "markdown",
   "metadata": {
    "id": "l5e_7u3pjIBu"
   },
   "source": [
    "客户端\n",
    "\n",
    "AutoML SDK 采用客户端/服务器模型。在你的一端（Python 脚本）上，你将创建一个客户端，向服务器（AutoML）发送请求并接收响应。\n",
    "\n",
    "在本教程中，你将使用多个客户端，所以请提前设置好它们。"
   ]
  },
  {
   "cell_type": "code",
   "execution_count": null,
   "metadata": {
    "id": "c3sR3OxmxXiR"
   },
   "outputs": [],
   "source": [
    "def automl_client():\n",
    "    return automl.AutoMlClient()\n",
    "\n",
    "\n",
    "def prediction_client():\n",
    "    return automl.PredictionServiceClient()\n",
    "\n",
    "\n",
    "def operations_client():\n",
    "    return automl.AutoMlClient()._transport.operations_client\n",
    "\n",
    "\n",
    "clients = {}\n",
    "clients[\"automl\"] = automl_client()\n",
    "clients[\"prediction\"] = prediction_client()\n",
    "clients[\"operations\"] = operations_client()\n",
    "\n",
    "for client in clients.items():\n",
    "    print(client)"
   ]
  },
  {
   "cell_type": "code",
   "execution_count": null,
   "metadata": {
    "id": "import_file:flowers,csv,icn"
   },
   "outputs": [],
   "source": [
    "IMPORT_FILE = \"gs://cloud-ml-data/NL-entity/dataset.csv\""
   ]
  },
  {
   "cell_type": "code",
   "execution_count": null,
   "metadata": {
    "id": "ed725169cbfa"
   },
   "outputs": [],
   "source": [
    "! gsutil cat $IMPORT_FILE | head -n 10"
   ]
  },
  {
   "cell_type": "markdown",
   "metadata": {
    "id": "bb8bf52f9992"
   },
   "source": [
    "*示例输出*：\n",
    "```\n",
    "训练,gs://cloud-ml-data/NL-entity/train.jsonl\n",
    "测试,gs://cloud-ml-data/NL-entity/test.jsonl\n",
    "验证,gs://cloud-ml-data/NL-entity/validation.jsonl\n",
    "```"
   ]
  },
  {
   "cell_type": "markdown",
   "metadata": {
    "id": "text_create_dataset:migration"
   },
   "source": [
    "创建数据集"
   ]
  },
  {
   "cell_type": "markdown",
   "metadata": {
    "id": "ChPZpfxLjIBv"
   },
   "source": [
    "### 准备数据"
   ]
  },
  {
   "cell_type": "markdown",
   "metadata": {
    "id": "text_datasets_create:migration,old"
   },
   "source": [
    "### [projects.locations.datasets.create](https://cloud.google.com/automl/docs/reference/rest/v1beta1/projects.locations.datasets/create)\n",
    "\n",
    "### [projects.locations.datasets.create](https://cloud.google.com/automl/docs/reference/rest/v1beta1/projects.locations.datasets/create)"
   ]
  },
  {
   "cell_type": "markdown",
   "metadata": {
    "id": "ozaMOwdNJjkT"
   },
   "source": [
    "请求"
   ]
  },
  {
   "cell_type": "code",
   "execution_count": null,
   "metadata": {
    "id": "gJFAw1PejIBw"
   },
   "outputs": [],
   "source": [
    "dataset = {\n",
    "    \"display_name\": \"entity_\" + TIMESTAMP,\n",
    "    \"text_extraction_dataset_metadata\": {},\n",
    "}\n",
    "\n",
    "print(\n",
    "    MessageToJson(\n",
    "        automl.CreateDatasetRequest(parent=PARENT, dataset=dataset).__dict__[\"_pb\"]\n",
    "    )\n",
    ")"
   ]
  },
  {
   "cell_type": "markdown",
   "metadata": {
    "id": "60695859c20f"
   },
   "source": [
    "{\n",
    " “父级”: “projects/migration-ucaip-training/locations/us-central1”,\n",
    " “数据集”: {\n",
    "   “显示名称”: “entity_20210303201139”,\n",
    "   “文本提取数据集元数据”: {}\n",
    " }\n",
    "}"
   ]
  },
  {
   "cell_type": "markdown",
   "metadata": {
    "id": "vHkuSZxkJjkT"
   },
   "source": [
    "呼叫"
   ]
  },
  {
   "cell_type": "code",
   "execution_count": null,
   "metadata": {
    "id": "zKBpcBR1jIBx"
   },
   "outputs": [],
   "source": [
    "request = clients[\"automl\"].create_dataset(parent=PARENT, dataset=dataset)"
   ]
  },
  {
   "cell_type": "markdown",
   "metadata": {
    "id": "FLqkZMD2JjkT"
   },
   "source": [
    "#### 响应"
   ]
  },
  {
   "cell_type": "code",
   "execution_count": null,
   "metadata": {
    "id": "pOcUKfcZjIBy"
   },
   "outputs": [],
   "source": [
    "result = request.result()\n",
    "\n",
    "print(MessageToJson(result.__dict__[\"_pb\"]))"
   ]
  },
  {
   "cell_type": "markdown",
   "metadata": {
    "id": "523c7df9b387"
   },
   "source": [
    "{\n",
    "  \"name\": \"projects/116273516712/locations/us-central1/datasets/TEN4244124229064196096\"\n",
    "}\n",
    "{\n",
    "  \"名称\": \"projects/116273516712/locations/us-central1/datasets/TEN4244124229064196096\"\n",
    "}"
   ]
  },
  {
   "cell_type": "code",
   "execution_count": null,
   "metadata": {
    "id": "81ab3645e933"
   },
   "outputs": [],
   "source": [
    "# The full unique ID for the dataset\n",
    "dataset_id = result.name\n",
    "# The short numeric ID for the dataset\n",
    "dataset_short_id = dataset_id.split(\"/\")[-1]\n",
    "\n",
    "print(dataset_id)"
   ]
  },
  {
   "cell_type": "markdown",
   "metadata": {
    "id": "text_datasets_importdata:migration,old"
   },
   "source": [
    "### [projects.locations.datasets.importData](https://cloud.google.com/automl/docs/reference/rest/v1beta1/projects.locations.datasets/importData)\n",
    "\n",
    "### [projects.locations.datasets.importData](https://cloud.google.com/automl/docs/reference/rest/v1beta1/projects.locations.datasets/importData)"
   ]
  },
  {
   "cell_type": "markdown",
   "metadata": {
    "id": "rwfF7rjvjIBy"
   },
   "source": [
    "请求"
   ]
  },
  {
   "cell_type": "code",
   "execution_count": null,
   "metadata": {
    "id": "TI39F1VNjIBy"
   },
   "outputs": [],
   "source": [
    "input_config = {\"gcs_source\": {\"input_uris\": [IMPORT_FILE]}}\n",
    "\n",
    "print(\n",
    "    MessageToJson(\n",
    "        automl.ImportDataRequest(name=dataset_id, input_config=input_config).__dict__[\n",
    "            \"_pb\"\n",
    "        ]\n",
    "    )\n",
    ")"
   ]
  },
  {
   "cell_type": "markdown",
   "metadata": {
    "id": "cb5870fde44a"
   },
   "source": [
    "*示例输出*：\n",
    "```\n",
    "{\n",
    "  \"name\": \"projects/116273516712/locations/us-central1/datasets/TEN4244124229064196096\",\n",
    "  \"inputConfig\": {\n",
    "    \"gcsSource\": {\n",
    "      \"inputUris\": [\n",
    "        \"gs://cloud-ml-data/NL-entity/dataset.csv\"\n",
    "      ]\n",
    "    }\n",
    "  }\n",
    "}\n",
    "```"
   ]
  },
  {
   "cell_type": "markdown",
   "metadata": {
    "id": "BxnviF7TjIBz"
   },
   "source": [
    "#### 呼叫"
   ]
  },
  {
   "cell_type": "code",
   "execution_count": null,
   "metadata": {
    "id": "HYIPQuJljIBz"
   },
   "outputs": [],
   "source": [
    "request = clients[\"automl\"].import_data(name=dataset_id, input_config=input_config)"
   ]
  },
  {
   "cell_type": "markdown",
   "metadata": {
    "id": "BbL7nR-ZjIBz"
   },
   "source": [
    "#### 回应"
   ]
  },
  {
   "cell_type": "code",
   "execution_count": null,
   "metadata": {
    "id": "2mBgw1pujIBz"
   },
   "outputs": [],
   "source": [
    "result = request.result()\n",
    "\n",
    "print(MessageToJson(result))"
   ]
  },
  {
   "cell_type": "markdown",
   "metadata": {
    "id": "ce6a7658ebb8"
   },
   "source": [
    "*示例输出*：\n",
    "```\n",
    "{}\n",
    "```"
   ]
  },
  {
   "cell_type": "markdown",
   "metadata": {
    "id": "text_create_and_deploy_model:migration"
   },
   "source": [
    "训练一个模型"
   ]
  },
  {
   "cell_type": "markdown",
   "metadata": {
    "id": "text_models_create:migration,old"
   },
   "source": [
    "### [projects.locations.models.create](https://cloud.google.com/automl/docs/reference/rest/v1beta1/projects.locations.models/create)\n",
    "\n",
    "### [projects.locations.models.create](https://cloud.google.com/automl/docs/reference/rest/v1beta1/projects.locations.models/create)"
   ]
  },
  {
   "cell_type": "markdown",
   "metadata": {
    "id": "tocf5wHGjIB0"
   },
   "source": [
    "请求"
   ]
  },
  {
   "cell_type": "code",
   "execution_count": null,
   "metadata": {
    "id": "rV_FgnILjIB0"
   },
   "outputs": [],
   "source": [
    "model = {\n",
    "    \"display_name\": \"entity_\" + TIMESTAMP,\n",
    "    \"dataset_id\": dataset_short_id,\n",
    "    \"text_extraction_model_metadata\": {},\n",
    "}\n",
    "\n",
    "print(\n",
    "    MessageToJson(automl.CreateModelRequest(parent=PARENT, model=model).__dict__[\"_pb\"])\n",
    ")"
   ]
  },
  {
   "cell_type": "markdown",
   "metadata": {
    "id": "71846394320b"
   },
   "source": [
    "{\n",
    "  \"parent\": \"projects/migration-ucaip-training/locations/us-central1\",\n",
    "  \"model\": {\n",
    "    \"displayName\": \"entity_20210303201139\",\n",
    "    \"datasetId\": \"TEN4244124229064196096\",\n",
    "    \"textExtractionModelMetadata\": {}\n",
    "  }\n",
    "}\n",
    "```\n",
    "\n",
    "中文翻译：\n",
    "```\n",
    "{\n",
    "  \"parent\": \"projects/migration-ucaip-training/locations/us-central1\",\n",
    "  \"model\": {\n",
    "    \"displayName\": \"entity_20210303201139\",\n",
    "    \"datasetId\": \"TEN4244124229064196096\",\n",
    "    \"textExtractionModelMetadata\": {}\n",
    "  }\n",
    "}\n",
    "```"
   ]
  },
  {
   "cell_type": "markdown",
   "metadata": {
    "id": "9WGDh5UXjIB1"
   },
   "source": [
    "#### 电话"
   ]
  },
  {
   "cell_type": "code",
   "execution_count": null,
   "metadata": {
    "id": "Rmu6uXvKjIB1"
   },
   "outputs": [],
   "source": [
    "request = clients[\"automl\"].create_model(parent=PARENT, model=model)"
   ]
  },
  {
   "cell_type": "markdown",
   "metadata": {
    "id": "4vQdzcVIjIB2"
   },
   "source": [
    "####回复"
   ]
  },
  {
   "cell_type": "code",
   "execution_count": null,
   "metadata": {
    "id": "f7c18460f8af"
   },
   "outputs": [],
   "source": [
    "result = request.result()\n",
    "\n",
    "print(MessageToJson(result.__dict__[\"_pb\"]))"
   ]
  },
  {
   "cell_type": "markdown",
   "metadata": {
    "id": "c8df6b452c01"
   },
   "source": [
    "*示例输出*：\n",
    "```\n",
    "{\n",
    "  \"name\": \"projects/116273516712/locations/us-central1/models/TEN7821373765161320448\"\n",
    "}\n",
    "```\n",
    "\n",
    "*示例输出*：\n",
    "```\n",
    "{\n",
    "  \"name\": \"projects/116273516712/locations/us-central1/models/TEN7821373765161320448\"\n",
    "}\n",
    "```"
   ]
  },
  {
   "cell_type": "code",
   "execution_count": null,
   "metadata": {
    "id": "adfa99c5e7e5"
   },
   "outputs": [],
   "source": [
    "# The full unique ID for the training pipeline\n",
    "model_id = result.name\n",
    "# The short numeric ID for the training pipeline\n",
    "model_short_id = model_id.split(\"/\")[-1]\n",
    "\n",
    "print(model_short_id)"
   ]
  },
  {
   "cell_type": "markdown",
   "metadata": {
    "id": "text_evaluate_the_model:migration"
   },
   "source": [
    "评估模型"
   ]
  },
  {
   "cell_type": "markdown",
   "metadata": {
    "id": "yfufMwAEJjkX"
   },
   "source": [
    "### [projects.locations.models.modelEvaluations.list](https://cloud.google.com/automl/docs/reference/rest/v1beta1/projects.locations.models.modelEvaluations/list)\n",
    "\n",
    "### [projects.locations.models.modelEvaluations.list](https://cloud.google.com/automl/docs/reference/rest/v1beta1/projects.locations.models.modelEvaluations/list)"
   ]
  },
  {
   "cell_type": "markdown",
   "metadata": {
    "id": "IyTk9SWDjIB3"
   },
   "source": [
    "#### 电话"
   ]
  },
  {
   "cell_type": "code",
   "execution_count": null,
   "metadata": {
    "id": "tRqkQRB6jIB3"
   },
   "outputs": [],
   "source": [
    "request = clients[\"automl\"].list_model_evaluations(parent=model_id, filter=\"\")"
   ]
  },
  {
   "cell_type": "markdown",
   "metadata": {
    "id": "YCuTwqG5jIB3"
   },
   "source": [
    "回复"
   ]
  },
  {
   "cell_type": "code",
   "execution_count": null,
   "metadata": {
    "id": "AxEY7WFHj2YC"
   },
   "outputs": [],
   "source": [
    "import json\n",
    "\n",
    "model_evaluations = [json.loads(MessageToJson(me.__dict__[\"_pb\"])) for me in request]\n",
    "# The evaluation slice\n",
    "evaluation_slice = request.model_evaluation[0].name\n",
    "\n",
    "print(json.dumps(model_evaluations, indent=2))"
   ]
  },
  {
   "cell_type": "markdown",
   "metadata": {
    "id": "532b930d42e8"
   },
   "source": [
    "*示例输出*：\n",
    "```\n",
    "[\n",
    "  {\n",
    "    \"name\": \"projects/116273516712/locations/us-central1/models/TEN7821373765161320448/modelEvaluations/132746642406774043\",\n",
    "    \"createTime\": \"2021-03-03T22:30:27.832506Z\",\n",
    "    \"evaluatedExampleCount\": 60,\n",
    "    \"textExtractionEvaluationMetrics\": {\n",
    "      \"confidenceMetricsEntries\": [\n",
    "        {\n",
    "          \"confidenceThreshold\": 0.04,\n",
    "          \"recall\": 0.79928315,\n",
    "          \"precision\": 0.7950089,\n",
    "          \"f1Score\": 0.7971403\n",
    "        },\n",
    "        {\n",
    "          \"confidenceThreshold\": 0.96,\n",
    "          \"recall\": 0.75089604,\n",
    "          \"precision\": 0.8603696,\n",
    "          \"f1Score\": 0.80191386\n",
    "        },\n",
    "        \n",
    "        # 为简洁起见已删除部分内容\n",
    "        \n",
    "        {\n",
    "          \"confidenceThreshold\": 0.43,\n",
    "          \"recall\": 0.5913978,\n",
    "          \"precision\": 0.57894737,\n",
    "          \"f1Score\": 0.5851064\n",
    "        },\n",
    "        {\n",
    "          \"confidenceThreshold\": 0.44,\n",
    "          \"recall\": 0.5913978,\n",
    "          \"precision\": 0.57894737,\n",
    "          \"f1Score\": 0.5851064\n",
    "        }\n",
    "      ]\n",
    "    },\n",
    "    \"displayName\": \"DiseaseClass\"\n",
    "  }\n",
    "]\n",
    "```"
   ]
  },
  {
   "cell_type": "markdown",
   "metadata": {
    "id": "i6T0bzuNJjkY"
   },
   "source": [
    "### [projects.locations.models.modelEvaluations.get](https://cloud.google.com/automl/docs/reference/rest/v1beta1/projects.locations.models.modelEvaluations/get)  \n",
    "\n",
    "### [projects.locations.models.modelEvaluations.get](https://cloud.google.com/automl/docs/reference/rest/v1beta1/projects.locations.models.modelEvaluations/get)  \n",
    "\n",
    "### [projects.locations.models.modelEvaluations.get](https://cloud.google.com/automl/docs/reference/rest/v1beta1/projects.locations.models.modelEvaluations/get)  "
   ]
  },
  {
   "cell_type": "markdown",
   "metadata": {
    "id": "1iIWWgs5jIB4"
   },
   "source": [
    "#### 电话"
   ]
  },
  {
   "cell_type": "code",
   "execution_count": null,
   "metadata": {
    "id": "jusjAC_tjIB4"
   },
   "outputs": [],
   "source": [
    "request = clients[\"automl\"].get_model_evaluation(name=evaluation_slice)"
   ]
  },
  {
   "cell_type": "markdown",
   "metadata": {
    "id": "XFRb-04njIB4"
   },
   "source": [
    "#### 回应"
   ]
  },
  {
   "cell_type": "code",
   "execution_count": null,
   "metadata": {
    "id": "oaV7FTA2jIB4"
   },
   "outputs": [],
   "source": [
    "print(MessageToJson(request.__dict__[\"_pb\"]))"
   ]
  },
  {
   "cell_type": "markdown",
   "metadata": {
    "id": "490ee6cf06c7"
   },
   "source": [
    "{\n",
    "  \"name\": \"projects/116273516712/locations/us-central1/models/TEN7821373765161320448/modelEvaluations/132746642406774043\",\n",
    "  \"createTime\": \"2021-03-03T22:30:27.832506Z\",\n",
    "  \"evaluatedExampleCount\": 60,\n",
    "  \"textExtractionEvaluationMetrics\": {\n",
    "    \"confidenceMetricsEntries\": [\n",
    "      {\n",
    "        \"confidenceThreshold\": 0.04,\n",
    "        \"recall\": 0.79928315,\n",
    "        \"precision\": 0.7950089,\n",
    "        \"f1Score\": 0.7971403\n",
    "      },\n",
    "      {\n",
    "        \"confidenceThreshold\": 0.96,\n",
    "        \"recall\": 0.75089604,\n",
    "        \"precision\": 0.8603696,\n",
    "        \"f1Score\": 0.80191386\n",
    "      },\n",
    "      \n",
    "      #为简洁起见已删除\n",
    "      \n",
    "      {\n",
    "        \"confidenceThreshold\": 0.43,\n",
    "        \"recall\": 0.7921147,\n",
    "        \"precision\": 0.7935368,\n",
    "        \"f1Score\": 0.7928251\n",
    "      },\n",
    "      {\n",
    "        \"confidenceThreshold\": 0.44,\n",
    "        \"recall\": 0.7921147,\n",
    "        \"precision\": 0.7935368,\n",
    "        \"f1Score\": 0.7928251\n",
    "      }\n",
    "    ]\n",
    "  }\n",
    "}\n",
    "```"
   ]
  },
  {
   "cell_type": "markdown",
   "metadata": {
    "id": "_vTbZbgejIB5"
   },
   "source": [
    "制作批量预测"
   ]
  },
  {
   "cell_type": "markdown",
   "metadata": {
    "id": "_NxhzDVNjIB5"
   },
   "source": [
    "### 为批量预测准备文件"
   ]
  },
  {
   "cell_type": "code",
   "execution_count": null,
   "metadata": {
    "id": "tKzpf6YcjIB5"
   },
   "outputs": [],
   "source": [
    "import tensorflow as tf\n",
    "\n",
    "test_item = 'Molecular basis of hexosaminidase A deficiency and pseudodeficiency in the Berks County Pennsylvania Dutch.\\\\tFollowing the birth of two infants with Tay-Sachs disease ( TSD ) , a non-Jewish , Pennsylvania Dutch kindred was screened for TSD carriers using the biochemical assay . A high frequency of individuals who appeared to be TSD heterozygotes was detected ( Kelly et al . , 1975 ) . Clinical and biochemical evidence suggested that the increased carrier frequency was due to at least two altered alleles for the hexosaminidase A alpha-subunit . We now report two mutant alleles in this Pennsylvania Dutch kindred , and one polymorphism . One allele , reported originally in a French TSD patient ( Akli et al . , 1991 ) , is a GT-- > AT transition at the donor splice-site of intron 9 . The second , a C-- > T transition at nucleotide 739 ( Arg247Trp ) , has been shown by Triggs-Raine et al . ( 1992 ) to be a clinically benign \" pseudodeficient \" allele associated with reduced enzyme activity against artificial substrate . Finally , a polymorphism [ G-- > A ( 759 ) ] , which leaves valine at codon 253 unchanged , is described'\n",
    "\n",
    "gcs_input_uri = \"gs://\" + BUCKET_NAME + \"/test.jsonl\"\n",
    "with tf.io.gfile.GFile(gcs_input_uri, \"w\") as f:\n",
    "    data = {\"id\": 0, \"text_snippet\": {\"content\": test_item}}\n",
    "    f.write(json.dumps(data) + \"\\n\")\n",
    "\n",
    "! gsutil cat $gcs_input_uri"
   ]
  },
  {
   "cell_type": "markdown",
   "metadata": {
    "id": "5d84b3d33043"
   },
   "source": [
    "```\n",
    "{\"id\": 0, \"text_snippet\": {\"content\": \"宾夕法尼亚州德国宾夕法尼亚人的差异及伪缺陷性的葡萄糖胺酶A缺陷的分子基础\\\\t在有两名Tay-Sachs病（TSD）婴儿出生后，对一个非犹太人的宾夕法尼亚州德国宗亲进行了TSD携带者的生化检测。检测到出现了许多看似是TSD杂合子的个体（Kelly等人，1975年）。临床和生化证据表明，增加的携带者频率是由于至少有两个改变的葡萄糖胺酶Aα亚基等位基因。我们现在报告了这个宾夕法尼亚州德国宗亲中的两个突变等位基因和一个多态性。一种等位基因，最初是在一个法国TSD患者（Akli等人，1991年）中报告的，是一个位于第9内含子供体剪切位点的GT->AT转换。第二个是在核苷酸739处的C->T转换（Arg247Trp），已被Triggs-Raine等人（1992年）证明是一个临床良性的“伪缺陷”等位基因，与对人工底物的酶活性降低有关。最后，描述了一种多态性[G->A（759）]，使密码子253处的缬氨酸保持不变\"}}\n",
    "```"
   ]
  },
  {
   "cell_type": "markdown",
   "metadata": {
    "id": "text_models_batchpredict:migration,old"
   },
   "source": [
    "### [projects.locations.models.batchPredict](https://cloud.google.com/automl/docs/reference/rest/v1beta1/projects.locations.models/batchPredict)\n",
    "\n",
    "### [projects.locations.models.batchPredict](https://cloud.google.com/automl/docs/reference/rest/v1beta1/projects.locations.models/batchPredict)"
   ]
  },
  {
   "cell_type": "markdown",
   "metadata": {
    "id": "2-oWYpTejIB6"
   },
   "source": [
    "#### 请求"
   ]
  },
  {
   "cell_type": "code",
   "execution_count": null,
   "metadata": {
    "id": "EHJqVT8-jIB7"
   },
   "outputs": [],
   "source": [
    "input_config = {\"gcs_source\": {\"input_uris\": [gcs_input_uri]}}\n",
    "\n",
    "output_config = {\n",
    "    \"gcs_destination\": {\"output_uri_prefix\": \"gs://\" + f\"{BUCKET_NAME}/batch_output/\"}\n",
    "}\n",
    "\n",
    "print(\n",
    "    MessageToJson(\n",
    "        automl.BatchPredictRequest(\n",
    "            name=model_id, input_config=input_config, output_config=output_config\n",
    "        ).__dict__[\"_pb\"]\n",
    "    )\n",
    ")"
   ]
  },
  {
   "cell_type": "markdown",
   "metadata": {
    "id": "d940957b9b51"
   },
   "source": [
    "*示例输出*：\n",
    "```\n",
    "{\n",
    "  \"name\": \"projects/116273516712/locations/us-central1/models/TEN7821373765161320448\",\n",
    "  \"inputConfig\": {\n",
    "    \"gcsSource\": {\n",
    "      \"inputUris\": [\n",
    "        \"gs://migration-ucaip-trainingaip-20210303201139/test.jsonl\"\n",
    "      ]\n",
    "    }\n",
    "  },\n",
    "  \"outputConfig\": {\n",
    "    \"gcsDestination\": {\n",
    "      \"outputUriPrefix\": \"gs://migration-ucaip-trainingaip-20210303201139/batch_output/\"\n",
    "    }\n",
    "  }\n",
    "}\n",
    "```"
   ]
  },
  {
   "cell_type": "markdown",
   "metadata": {
    "id": "-iQl862AjIB7"
   },
   "source": [
    "#### 呼叫"
   ]
  },
  {
   "cell_type": "code",
   "execution_count": null,
   "metadata": {
    "id": "XI_kiWLIjIB7"
   },
   "outputs": [],
   "source": [
    "request = clients[\"prediction\"].batch_predict(\n",
    "    name=model_id, input_config=input_config, output_config=output_config\n",
    ")"
   ]
  },
  {
   "cell_type": "markdown",
   "metadata": {
    "id": "Z9CU4SeXjIB7"
   },
   "source": [
    "#### 回复"
   ]
  },
  {
   "cell_type": "code",
   "execution_count": null,
   "metadata": {
    "id": "iGJZl4OCjIB8"
   },
   "outputs": [],
   "source": [
    "result = request.result()\n",
    "\n",
    "print(MessageToJson(result.__dict__[\"_pb\"]))"
   ]
  },
  {
   "cell_type": "markdown",
   "metadata": {
    "id": "b6f393652740"
   },
   "source": [
    "*示例输出*：\n",
    "```\n",
    "{}\n",
    "```"
   ]
  },
  {
   "cell_type": "code",
   "execution_count": null,
   "metadata": {
    "id": "fnYRCde3xXie"
   },
   "outputs": [],
   "source": [
    "destination_uri = output_config[\"gcs_destination\"][\"output_uri_prefix\"][:-1]\n",
    "\n",
    "! gsutil ls $destination_uri/*\n",
    "! gsutil cat $destination_uri/prediction*/*.jsonl"
   ]
  },
  {
   "cell_type": "markdown",
   "metadata": {
    "id": "f8f88ce43155"
   },
   "source": [
    "*示例输出*：\n",
    "```\n",
    "gs://migration-ucaip-trainingaip-20210303201139/batch_output/prediction-entity_20210303201139-2021-03-03T22:30:36.292153Z/text_extraction_1.jsonl\n",
    "{\"textSnippet\":{\"content\":\"宾夕法尼亚州德国宾夕法尼亚人的六氨基葡糖苷酶A缺乏和伪缺乏的分子基础。\\t在两名患有Tay-Sachs病（TSD）的婴儿出生后，对一个非犹太、宾夕法尼亚德国家族进行了TSD携带者的生化测定筛查。 检测到了看似TSD杂合子的人高频率（Kelly等，1975年）。临床和生化证据表明，增加的携带者频率是由于至少有两个六氨基葡糖苷酶Aα亚单位的改变等位基因。我们现在报告了这个宾夕法尼亚德国家庭中的两个突变等位基因，以及一个多态性。一种等位基因，最初在一个法国TSD患者中报道（Akli等，1991年），是在第9内含子供体位点处的GT-- \\u003e AT过渡。第二，即核苷酸739处的C-- \\u003e T过渡（Arg247Trp），已被Triggs-Raine等（1992年）证明是一种临床良性的“伪缺乏”等位基因，与对人工底物的酶活性降低有关。最后，描述了一种多态性[G-- \\u003e A（759）]，使第253密码子处的缬氨酸保持不变\"},\"annotations\":[{\"displayName\":\"SpecificDisease\",\"textExtraction\":{\"score\":0.99955064,\"textSegment\":{\"startOffset\":\"19\",\"endOffset\":\"46\",\"content\":\"hexosaminidase A deficiency\"}}},{\"displayName\":\"SpecificDisease\",\"textExtraction\":{\"score\":0.9995449,\"textSegment\":{\"startOffset\":\"149\",\"endOffset\":\"166\",\"content\":\"Tay-Sachs disease\"}}},{\"displayName\":\"SpecificDisease\",\"textExtraction\":{\"score\":0.99939877,\"textSegment\":{\"startOffset\":\"169\",\"endOffset\":\"172\",\"content\":\"TSD\"}}},{\"displayName\":\"Modifier\",\"textExtraction\":{\"score\":0.9993252,\"textSegment\":{\"startOffset\":\"236\",\"endOffset\":\"239\",\"content\":\"TSD\"}}},{\"displayName\":\"Modifier\",\"textExtraction\":{\"score\":0.9993484,\"textSegment\":{\"startOffset\":\"330\",\"endOffset\":\"333\",\"content\":\"TSD\"}}},{\"displayName\":\"Modifier\",\"textExtraction\":{\"score\":0.9993844,\"textSegment\":{\"startOffset\":\"688\",\"endOffset\":\"691\",\"content\":\"TSD\"}}}],\"id\":\"0\"}\n",
    "```"
   ]
  },
  {
   "cell_type": "markdown",
   "metadata": {
    "id": "h6qDTq6wjIB8"
   },
   "source": [
    "进行在线预测"
   ]
  },
  {
   "cell_type": "markdown",
   "metadata": {
    "id": "text_models_deploy:migration,old"
   },
   "source": [
    "### [项目.位置.模型.部署](https://cloud.google.com/automl/docs/reference/rest/v1beta1/projects.locations.models/deploy)"
   ]
  },
  {
   "cell_type": "markdown",
   "metadata": {
    "id": "rCm7yXUHjIB_"
   },
   "source": [
    "#### 电话"
   ]
  },
  {
   "cell_type": "code",
   "execution_count": null,
   "metadata": {
    "id": "rlNO4ZgYjIB_"
   },
   "outputs": [],
   "source": [
    "request = clients[\"automl\"].deploy_model(name=model_id)"
   ]
  },
  {
   "cell_type": "markdown",
   "metadata": {
    "id": "huJESda4jICA"
   },
   "source": [
    "#### 回复"
   ]
  },
  {
   "cell_type": "code",
   "execution_count": null,
   "metadata": {
    "id": "W-h9tZunjICA"
   },
   "outputs": [],
   "source": [
    "result = request.result()\n",
    "\n",
    "print(MessageToJson(result))"
   ]
  },
  {
   "cell_type": "markdown",
   "metadata": {
    "id": "_E6nl1x7v_NL"
   },
   "source": [
    "*示例输出*：\n",
    "``` \n",
    "{} \n",
    "```"
   ]
  },
  {
   "cell_type": "markdown",
   "metadata": {
    "id": "text_models_predict:migration,old"
   },
   "source": [
    "### [projects.locations.models.predict](https://cloud.google.com/automl/docs/reference/rest/v1beta1/projects.locations.models/predict)\n",
    "\n",
    "### [项目.地点.模型.预测](https://cloud.google.com/automl/docs/reference/rest/v1beta1/projects.locations.models/predict)"
   ]
  },
  {
   "cell_type": "markdown",
   "metadata": {
    "id": "2YRTF6AMjIB8"
   },
   "source": [
    "为在线预测准备数据项"
   ]
  },
  {
   "cell_type": "code",
   "execution_count": null,
   "metadata": {
    "id": "GJaj0apojIB-"
   },
   "outputs": [],
   "source": [
    "test_item = 'Molecular basis of hexosaminidase A deficiency and pseudodeficiency in the Berks County Pennsylvania Dutch.\\\\tFollowing the birth of two infants with Tay-Sachs disease ( TSD ) , a non-Jewish , Pennsylvania Dutch kindred was screened for TSD carriers using the biochemical assay . A high frequency of individuals who appeared to be TSD heterozygotes was detected ( Kelly et al . , 1975 ) . Clinical and biochemical evidence suggested that the increased carrier frequency was due to at least two altered alleles for the hexosaminidase A alpha-subunit . We now report two mutant alleles in this Pennsylvania Dutch kindred , and one polymorphism . One allele , reported originally in a French TSD patient ( Akli et al . , 1991 ) , is a GT-- > AT transition at the donor splice-site of intron 9 . The second , a C-- > T transition at nucleotide 739 ( Arg247Trp ) , has been shown by Triggs-Raine et al . ( 1992 ) to be a clinically benign \" pseudodeficient \" allele associated with reduced enzyme activity against artificial substrate . Finally , a polymorphism [ G-- > A ( 759 ) ] , which leaves valine at codon 253 unchanged , is described'"
   ]
  },
  {
   "cell_type": "markdown",
   "metadata": {
    "id": "BM8_JnXbjICA"
   },
   "source": [
    "请求"
   ]
  },
  {
   "cell_type": "code",
   "execution_count": null,
   "metadata": {
    "id": "J0cTri_7jICB"
   },
   "outputs": [],
   "source": [
    "payload = {\"text_snippet\": {\"content\": test_item, \"mime_type\": \"text/plain\"}}\n",
    "\n",
    "request = automl.PredictRequest(\n",
    "    name=model_id,\n",
    "    payload=payload,\n",
    ")\n",
    "\n",
    "print(MessageToJson(request.__dict__[\"_pb\"]))"
   ]
  },
  {
   "cell_type": "markdown",
   "metadata": {
    "id": "bad8702fc564"
   },
   "source": [
    "{\n",
    "  \"name\": \"projects/116273516712/locations/us-central1/models/TEN7821373765161320448\",\n",
    "  \"payload\": {\n",
    "    \"textSnippet\": {\n",
    "      \"content\": \"缺陷和假缺陷的分子基础Berks County Pennsylvania的德国。\\\\新生的两个Tay-Sachs病（TSD）婴儿出生后，筛选了一个非犹太人的宾夕法尼亚荷兰亲属，以使用生化测定法筛选TSD携带者。发现了大量表现为TSD杂合子的个体（Kelly等，1975年）。临床和生化证据表明，提高的携带频率至少是由于两个hexosaminidase A alpha亚基的改变等位基因。我们现在报告了这个宾夕法尼亚荷兰亲属中的两个突变等位基因和一个多态性。最初在法国TSD患者（Akli等，1991年）中报告的一个等位基因是从甲9内含子的供体剪接位点到AT的过渡。第二个，739核苷酸（Arg247Trp）处的C- > T过渡，已由Triggs-Raine等人（1992年）证明为临床良性的“假缺陷”等位基因，与人工底物的酶活性降低有关。最后，描述了一个多态性[G- > A （759）]，保留了密码子253处的缬氨酸不变\",\n",
    "      \"mimeType\": \"text/plain\"\n",
    "    }\n",
    "  }\n",
    "}"
   ]
  },
  {
   "cell_type": "markdown",
   "metadata": {
    "id": "VC6-vTaIjICB"
   },
   "source": [
    "#### 电话"
   ]
  },
  {
   "cell_type": "code",
   "execution_count": null,
   "metadata": {
    "id": "PYfH7boujICB"
   },
   "outputs": [],
   "source": [
    "request = clients[\"prediction\"].predict(request=request)"
   ]
  },
  {
   "cell_type": "markdown",
   "metadata": {
    "id": "e5wP7xa_jICB"
   },
   "source": [
    "回应"
   ]
  },
  {
   "cell_type": "code",
   "execution_count": null,
   "metadata": {
    "id": "3tF8D4HejICB"
   },
   "outputs": [],
   "source": [
    "print(MessageToJson(request.__dict__[\"_pb\"]))"
   ]
  },
  {
   "cell_type": "markdown",
   "metadata": {
    "id": "1620b1949e82"
   },
   "source": [
    "```\n",
    "{\n",
    "  \"payload\": [\n",
    "    {\n",
    "      \"annotationSpecId\": \"8605379431835369472\",\n",
    "      \"displayName\": \"SpecificDisease\",\n",
    "      \"textExtraction\": {\n",
    "        \"score\": 0.99955064,\n",
    "        \"textSegment\": {\n",
    "          \"startOffset\": \"19\",\n",
    "          \"endOffset\": \"46\",\n",
    "          \"content\": \"hexosaminidase A deficiency\"\n",
    "        }\n",
    "      }\n",
    "    },\n",
    "    {\n",
    "      \"annotationSpecId\": \"8605379431835369472\",\n",
    "      \"displayName\": \"SpecificDisease\",\n",
    "      \"textExtraction\": {\n",
    "        \"score\": 0.9995449,\n",
    "        \"textSegment\": {\n",
    "          \"startOffset\": \"149\",\n",
    "          \"endOffset\": \"166\",\n",
    "          \"content\": \"Tay-Sachs disease\"\n",
    "        }\n",
    "      }\n",
    "    },\n",
    "    {\n",
    "      \"annotationSpecId\": \"8605379431835369472\",\n",
    "      \"displayName\": \"SpecificDisease\",\n",
    "      \"textExtraction\": {\n",
    "        \"score\": 0.99939877,\n",
    "        \"textSegment\": {\n",
    "          \"startOffset\": \"169\",\n",
    "          \"endOffset\": \"172\",\n",
    "          \"content\": \"TSD\"\n",
    "        }\n",
    "      }\n",
    "    },\n",
    "    {\n",
    "      \"annotationSpecId\": \"3417232661104558080\",\n",
    "      \"displayName\": \"Modifier\",\n",
    "      \"textExtraction\": {\n",
    "        \"score\": 0.9993252,\n",
    "        \"textSegment\": {\n",
    "          \"startOffset\": \"236\",\n",
    "          \"endOffset\": \"239\",\n",
    "          \"content\": \"TSD\"\n",
    "        }\n",
    "      }\n",
    "    },\n",
    "    {\n",
    "      \"annotationSpecId\": \"3417232661104558080\",\n",
    "      \"displayName\": \"Modifier\",\n",
    "      \"textExtraction\": {\n",
    "        \"score\": 0.9993484,\n",
    "        \"textSegment\": {\n",
    "          \"startOffset\": \"330\",\n",
    "          \"endOffset\": \"333\",\n",
    "          \"content\": \"TSD\"\n",
    "        }\n",
    "      }\n",
    "    },\n",
    "    {\n",
    "      \"annotationSpecId\": \"3417232661104558080\",\n",
    "      \"displayName\": \"Modifier\",\n",
    "      \"textExtraction\": {\n",
    "        \"score\": 0.9993844,\n",
    "        \"textSegment\": {\n",
    "          \"startOffset\": \"688\",\n",
    "          \"endOffset\": \"691\",\n",
    "          \"content\": \"TSD\"\n",
    "        }\n",
    "      }\n",
    "    }\n",
    "  ]\n",
    "}\n",
    "```"
   ]
  },
  {
   "cell_type": "markdown",
   "metadata": {
    "id": "bQ-VVaSxJjkd"
   },
   "source": [
    "清理\n",
    "\n",
    "要清理此项目中使用的所有 GCP 资源，您可以删除用于本教程的 GCP 项目。\n",
    "\n",
    "否则，您可以删除此教程中创建的各个资源。"
   ]
  },
  {
   "cell_type": "code",
   "execution_count": null,
   "metadata": {
    "id": "qGtpM6SjjICC"
   },
   "outputs": [],
   "source": [
    "delete_dataset = True\n",
    "delete_model = True\n",
    "delete_bucket = True\n",
    "\n",
    "# Delete the dataset using the AutoML fully qualified identifier for the dataset\n",
    "try:\n",
    "    if delete_dataset:\n",
    "        clients[\"automl\"].delete_dataset(name=dataset_id)\n",
    "except Exception as e:\n",
    "    print(e)\n",
    "\n",
    "# Delete the model using the AutoML fully qualified identifier for the model\n",
    "try:\n",
    "    if delete_model:\n",
    "        clients[\"automl\"].delete_model(name=model_id)\n",
    "except Exception as e:\n",
    "    print(e)\n",
    "\n",
    "\n",
    "if delete_bucket and \"BUCKET_NAME\" in globals():\n",
    "    ! gsutil rm -r gs://$BUCKET_NAME"
   ]
  }
 ],
 "metadata": {
  "colab": {
   "name": "UJ7 legacy AutoML Natural Language Text Entity Extraction.ipynb",
   "toc_visible": true
  },
  "kernelspec": {
   "display_name": "Python 3",
   "name": "python3"
  }
 },
 "nbformat": 4,
 "nbformat_minor": 0
}
