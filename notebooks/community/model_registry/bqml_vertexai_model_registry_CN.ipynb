{
 "cells": [
  {
   "cell_type": "code",
   "execution_count": null,
   "metadata": {
    "id": "ur8xi4C7S06n"
   },
   "outputs": [],
   "source": [
    "# Copyright 2022 Google LLC\n",
    "#\n",
    "# Licensed under the Apache License, Version 2.0 (the \"License\");\n",
    "# you may not use this file except in compliance with the License.\n",
    "# You may obtain a copy of the License at\n",
    "#\n",
    "#     https://www.apache.org/licenses/LICENSE-2.0\n",
    "#\n",
    "# Unless required by applicable law or agreed to in writing, software\n",
    "# distributed under the License is distributed on an \"AS IS\" BASIS,\n",
    "# WITHOUT WARRANTIES OR CONDITIONS OF ANY KIND, either express or implied.\n",
    "# See the License for the specific language governing permissions and\n",
    "# limitations under the License."
   ]
  },
  {
   "cell_type": "markdown",
   "metadata": {
    "id": "JAPoU8Sm5E6e"
   },
   "source": [
    "在Vertex AI模型注册表上部署BiqQuery ML模型并进行预测\n",
    "\n",
    "<table align=\"left\">\n",
    "\n",
    "  <td>\n",
    "    <a href=\"https://colab.research.google.com/github/GoogleCloudPlatform/vertex-ai-samples/blob/main/notebooks/official/model_registry/bqml_vertexai_model_registry.ipynb\" target=\"_blank\">\n",
    "      <img src=\"https://cloud.google.com/ml-engine/images/colab-logo-32px.png\" alt=\"Colab logo\"> 在Colab中运行\n",
    "    </a>\n",
    "  </td>\n",
    "  <td>\n",
    "    <a href=\"https://github.com/GoogleCloudPlatform/vertex-ai-samples/blob/main/notebooks/official/model_registry/bqml_vertexai_model_registry.ipynb\" target=\"_blank\">\n",
    "      <img src=\"https://cloud.google.com/ml-engine/images/github-logo-32px.png\" alt=\"GitHub logo\">\n",
    "      在GitHub上查看\n",
    "    </a>\n",
    "  </td>\n",
    "  <td>\n",
    "    <a href=\"https://console.cloud.google.com/vertex-ai/workbench/deploy-notebook?download_url=https://raw.githubusercontent.com/GoogleCloudPlatform/vertex-ai-samples/main/notebooks/official/model_registry/bqml_vertexai_model_registry.ipynb\" target=\"_blank\">\n",
    "      <img src=\"https://lh3.googleusercontent.com/UiNooY4LUgW_oTvpsNhPpQzsstV5W8F7rYgxgGBD85cWJoLmrOzhVs_ksK_vgx40SHs7jCqkTkCk=e14-rj-sc0xffffff-h130-w32\" alt=\"Vertex AI logo\">\n",
    "      在Vertex AI Workbench中打开\n",
    "    </a>\n",
    "  </td>                                                                                               \n",
    "</table>"
   ]
  },
  {
   "cell_type": "markdown",
   "metadata": {
    "id": "tvgnzT1CKxrO"
   },
   "source": [
    "## 概述\n",
    "\n",
    "本教程演示了如何使用BigQuery ML训练模型并上传到Vertex AI模型注册表，然后进行批量预测。\n",
    "\n",
    "了解更多关于[Vertex AI模型注册表](https://cloud.google.com/vertex-ai/docs/model-registry/introduction)和了解更多关于[BigQuery ML](https://cloud.google.com/vertex-ai/docs/beginner/bqml)。"
   ]
  },
  {
   "cell_type": "markdown",
   "metadata": {
    "id": "132a9ee68ba6"
   },
   "source": [
    "### 目标\n",
    "\n",
    "在本教程中，您将学习如何使用`Vertex AI Model Registry`与`BigQuery ML`，并进行批量预测。\n",
    "\n",
    "本教程使用以下Google Cloud ML服务和资源：\n",
    "\n",
    "- `Vertex AI Model Registry`\n",
    "- `Vertex AI Endpoint`资源\n",
    "- `Vertex Explainable AI`\n",
    "- `BigQuery ML`\n",
    "\n",
    "\n",
    "执行的步骤包括：\n",
    "\n",
    "- 使用`BigQuery ML`训练模型\n",
    "- 将模型上传到`Vertex AI Model Registry`\n",
    "- 创建一个`Vertex AI Endpoint`资源\n",
    "- 部署`Model`资源到`Endpoint`资源\n",
    "- 向模型端点发出`prediction`请求\n",
    "- 在`Model`资源上运行`batch prediction`任务"
   ]
  },
  {
   "cell_type": "markdown",
   "metadata": {
    "id": "2de0477b10ce"
   },
   "source": [
    "数据集\n",
    "\n",
    "本教程使用的数据集是来自<a href=\"https://cloud.google.com/bigquery/public-data\" target=\"_blank\">BigQuery公共数据集</a>的企鹅数据集。该数据集版本用于根据可用特征如钩鼻长度、鳍深度等预测企鹅的物种。"
   ]
  },
  {
   "cell_type": "markdown",
   "metadata": {
    "id": "76330e07673b"
   },
   "source": [
    "### 成本\n",
    "\n",
    "本教程使用谷歌云的可计费组件:\n",
    "\n",
    "* Vertex AI\n",
    "* BigQuery ML\n",
    "\n",
    "了解<a href=\"https://cloud.google.com/vertex-ai/pricing\" target=\"_blank\">Vertex AI 价格</a>和<a href=\"https://cloud.google.com/bigquery/pricing\" target=\"_blank\">BigQuery 价格</a>，并使用<a href=\"https://cloud.google.com/products/calculator/\" target=\"_blank\">价格计算器</a>\n",
    "根据您的预期使用量生成成本估算。"
   ]
  },
  {
   "cell_type": "markdown",
   "metadata": {
    "id": "i7EUnXsZhAGF"
   },
   "source": [
    "### 安装额外的包\n",
    "\n",
    "安装以下要求执行此笔记本所需的包。"
   ]
  },
  {
   "cell_type": "code",
   "execution_count": null,
   "metadata": {
    "id": "2b4ef9b72d43"
   },
   "outputs": [],
   "source": [
    "! pip3 install --upgrade google-cloud-aiplatform \\\n",
    "                         google-cloud-bigquery \\\n",
    "                         pyarrow --quiet"
   ]
  },
  {
   "cell_type": "markdown",
   "metadata": {
    "id": "restart"
   },
   "source": [
    "只有Colab：取消注释以下单元格以重新启动内核"
   ]
  },
  {
   "cell_type": "code",
   "execution_count": null,
   "metadata": {
    "id": "D-ZBOjErv5mM"
   },
   "outputs": [],
   "source": [
    "# Automatically restart kernel after installs so that your environment can access the new packages\n",
    "# import IPython\n",
    "\n",
    "# app = IPython.Application.instance()\n",
    "# app.kernel.do_shutdown(True)"
   ]
  },
  {
   "cell_type": "markdown",
   "metadata": {
    "id": "before_you_begin:nogpu"
   },
   "source": [
    "## 开始之前\n",
    "\n",
    "### 设置您的项目ID\n",
    "\n",
    "**如果您不知道您的项目ID**，请尝试以下操作：\n",
    "* 运行 `gcloud config list`。\n",
    "* 运行 `gcloud projects list`。\n",
    "* 查看支持页面：[查找项目ID](https://support.google.com/googleapi/answer/7014113)。"
   ]
  },
  {
   "cell_type": "code",
   "execution_count": null,
   "metadata": {
    "id": "set_project_id"
   },
   "outputs": [],
   "source": [
    "PROJECT_ID = \"[your-project-id]\"  # @param {type:\"string\"}\n",
    "\n",
    "# Set the project id\n",
    "! gcloud config set project {PROJECT_ID}"
   ]
  },
  {
   "cell_type": "markdown",
   "metadata": {
    "id": "region"
   },
   "source": [
    "#### 区域\n",
    "\n",
    "您还可以更改 Vertex AI 使用的 `REGION` 变量。了解有关 [Vertex AI 区域](https://cloud.google.com/vertex-ai/docs/general/locations) 的更多信息。"
   ]
  },
  {
   "cell_type": "code",
   "execution_count": null,
   "metadata": {
    "id": "2dw8q9fdQEH5"
   },
   "outputs": [],
   "source": [
    "REGION = \"us-central1\"\n",
    "DATA_REGION = \"US\""
   ]
  },
  {
   "cell_type": "markdown",
   "metadata": {
    "id": "gcp_authenticate"
   },
   "source": [
    "将您的Google Cloud账户进行身份验证\n",
    "\n",
    "根据您的Jupyter环境，您可能需要手动进行身份验证。请按照以下相关说明进行操作。\n",
    "\n",
    "**1. Vertex AI Workbench**\n",
    "*不用做任何操作，因为您已经通过身份验证。\n",
    "\n",
    "**2. 本地JupyterLab实例，请取消注释并运行：**"
   ]
  },
  {
   "cell_type": "code",
   "execution_count": null,
   "metadata": {
    "id": "ce6043da7b33"
   },
   "outputs": [],
   "source": [
    "# ! gcloud auth login"
   ]
  },
  {
   "cell_type": "markdown",
   "metadata": {
    "id": "0367eac06a10"
   },
   "source": [
    "3. 协作，取消注释并运行："
   ]
  },
  {
   "cell_type": "code",
   "execution_count": null,
   "metadata": {
    "id": "21ad4dbb4a61"
   },
   "outputs": [],
   "source": [
    "# from google.colab import auth\n",
    "# auth.authenticate_user()"
   ]
  },
  {
   "cell_type": "markdown",
   "metadata": {
    "id": "c13224697bfb"
   },
   "source": [
    "4. 服务帐户或其他\n",
    "* 请查看如何授予您的服务帐户云存储权限, 可在以下链接查看 https://cloud.google.com/storage/docs/gsutil/commands/iam#ch-examples."
   ]
  },
  {
   "cell_type": "markdown",
   "metadata": {
    "id": "XoEqT2Y4DJmf"
   },
   "source": [
    "### 导入库"
   ]
  },
  {
   "cell_type": "code",
   "execution_count": null,
   "metadata": {
    "id": "pRUOFELefqf1"
   },
   "outputs": [],
   "source": [
    "import google.cloud.aiplatform as aiplatform\n",
    "from google.cloud import bigquery"
   ]
  },
  {
   "cell_type": "markdown",
   "metadata": {
    "id": "init_aip:mbsdk,all"
   },
   "source": [
    "### 初始化用于Python的Vertex AI和BigQuery SDK\n",
    "\n",
    "为您的项目和对应的存储桶初始化Python的Vertex AI和BigQuery SDK。"
   ]
  },
  {
   "cell_type": "code",
   "execution_count": null,
   "metadata": {
    "id": "BgaYKz2-2LuC"
   },
   "outputs": [],
   "source": [
    "aiplatform.init(project=PROJECT_ID, location=REGION)\n",
    "bqclient = bigquery.Client(project=PROJECT_ID)"
   ]
  },
  {
   "cell_type": "markdown",
   "metadata": {
    "id": "lUEtpimzL17Z"
   },
   "source": [
    "BigQuery ML介绍\n",
    "\n",
    "BigQuery ML（BQML）提供了使用SQL语法在BigQuery中训练ML表格模型（如分类和回归）的能力。\n",
    "\n",
    "了解更多关于<a href=\"https://cloud.google.com/bigquery-ml/docs\" target=\"_blank\">BigQuery ML文档</a>。"
   ]
  },
  {
   "cell_type": "markdown",
   "metadata": {
    "id": "30adf1b74bf9"
   },
   "source": [
    "用于训练的 BigQuery 表"
   ]
  },
  {
   "cell_type": "code",
   "execution_count": null,
   "metadata": {
    "id": "3O7qlOGWNEU4"
   },
   "outputs": [],
   "source": [
    "# Define BigQuery table to be used for training\n",
    "\n",
    "BQ_TABLE = \"bigquery-public-data.ml_datasets.penguins\""
   ]
  },
  {
   "cell_type": "markdown",
   "metadata": {
    "id": "PKQD2e0eMg3M"
   },
   "source": [
    "### 创建 BigQuery 数据集资源\n",
    "首先，在您的项目中创建一个空的数据集资源。"
   ]
  },
  {
   "cell_type": "code",
   "execution_count": null,
   "metadata": {
    "id": "luqb-DBiMn-0"
   },
   "outputs": [],
   "source": [
    "BQ_DATASET_NAME = \"penguins\"\n",
    "\n",
    "# if dataset exists, delete it\n",
    "! bq rm -r -f $PROJECT_ID:$BQ_DATASET_NAME\n",
    "\n",
    "DATASET_QUERY = f\"\"\"CREATE SCHEMA {BQ_DATASET_NAME}\"\"\"\n",
    "job = bqclient.query(DATASET_QUERY)\n",
    "job.result()\n",
    "print(job.state)"
   ]
  },
  {
   "cell_type": "markdown",
   "metadata": {
    "id": "b-_8rZO8NIEb"
   },
   "source": [
    "## 训练 BigQuery ML 模型并上传到 Vertex AI 模型注册表\n",
    "接下来，您将从公共数据集 penguins 创建并训练一个 `BigQuery ML` 表格回归模型，并使用 `CREATE MODEL` 语句将模型存储在您的项目 `Vertex AI 模型注册表` 中。模型配置在 `OPTIONS` 语句中指定如下：\n",
    "\n",
    "- `model_type`：要训练的表格模型的类型和架构，例如 LOGISTIC_REG。\n",
    "\n",
    "- `labels`：作为标签的列。\n",
    "\n",
    "- `model_registry`：要将 BigQuery ML 模型注册到 Vertex AI 模型注册表，您必须使用 `model_registry=\"vertex_ai\"`。\n",
    "\n",
    "在此阶段，如果您正在使用受支持的模型类型，BQML 会将与模型相关的元数据导出到 Vertex，以便运行 Vertex Explainable AI。了解更多关于<a href=\"https://cloud.google.com/bigquery-ml/docs/vertex-xai\" target=\"_blank\">支持的 BQML 模型类型</a>。\n",
    "\n",
    "了解更多有关<a href=\"https://cloud.google.com/bigquery-ml/docs/reference/standard-sql/bigqueryml-syntax-create\" target=\"_blank\">CREATE MODEL 语句</a>。\n",
    "\n",
    "了解更多有关<a href=\"https://cloud.google.com/bigquery-ml/docs/managing-models-vertex\" target=\"_blank\">在 Vertex AI 模型注册表中管理 BigQuery ML 模型</a>。"
   ]
  },
  {
   "cell_type": "code",
   "execution_count": null,
   "metadata": {
    "id": "Q96rlZKRNPjU"
   },
   "outputs": [],
   "source": [
    "# Write the query to create Big Query ML model\n",
    "\n",
    "MODEL_NAME = \"penguins-lr\"\n",
    "MODEL_QUERY = f\"\"\"\n",
    "CREATE OR REPLACE MODEL `{BQ_DATASET_NAME}.{MODEL_NAME}`\n",
    "OPTIONS(\n",
    "    model_type='LOGISTIC_REG',\n",
    "    labels = ['species'],\n",
    "    model_registry='vertex_ai'\n",
    "    )\n",
    "AS\n",
    "SELECT *\n",
    "FROM `{BQ_TABLE}`\n",
    "\"\"\""
   ]
  },
  {
   "cell_type": "markdown",
   "metadata": {
    "id": "eee158e2a375"
   },
   "source": [
    "### 创建 BigQuery ML 模型\n",
    "使用上面的查询和之前创建的 BigQuery 客户端来创建 BigQuery ML 模型。"
   ]
  },
  {
   "cell_type": "code",
   "execution_count": null,
   "metadata": {
    "id": "LtdieY-BWILs"
   },
   "outputs": [],
   "source": [
    "# Run the model creation query using BigQuery client\n",
    "\n",
    "job = bqclient.query(MODEL_QUERY)\n",
    "print(f\"Job state: {job.state}\\nJob Error:{job.errors}\")"
   ]
  },
  {
   "cell_type": "markdown",
   "metadata": {
    "id": "e4b007777e68"
   },
   "source": [
    "检查工作状态："
   ]
  },
  {
   "cell_type": "code",
   "execution_count": null,
   "metadata": {
    "id": "Y4C_3hTEXOE7"
   },
   "outputs": [],
   "source": [
    "job.result()\n",
    "print(job.state)"
   ]
  },
  {
   "cell_type": "markdown",
   "metadata": {
    "id": "5nHvVttrYfQ8"
   },
   "source": [
    "### 在 Vertex Model Registry 中找到模型\n",
    "\n",
    "您可以使用`Vertex AI Model()`方法，通过`model_name`参数找到自动注册的模型。"
   ]
  },
  {
   "cell_type": "code",
   "execution_count": null,
   "metadata": {
    "id": "E08IwUX5YpAG"
   },
   "outputs": [],
   "source": [
    "model = aiplatform.Model(model_name=MODEL_NAME)\n",
    "\n",
    "print(model.gca_resource)"
   ]
  },
  {
   "cell_type": "markdown",
   "metadata": {
    "id": "zgvXXlaZaYw3"
   },
   "source": [
    "将Vertex AI模型资源部署到Vertex AI终端资源\n",
    "在模型可用于提供在线预测之前，您必须将模型部署到一个`终端`；部署模型会将物理资源与模型关联起来，以便以低延迟提供在线预测。\n",
    "\n",
    "了解更多关于<a href=\"https://cloud.google.com/vertex-ai/docs/predictions/deploy-model-api#aiplatform_deploy_model_custom_trained_model_sample-python\" target=\"_blank\">使用Vertex AI API部署模型</a>"
   ]
  },
  {
   "cell_type": "markdown",
   "metadata": {
    "id": "N27z-_by5gti"
   },
   "source": [
    "### 创建一个Vertex AI端点资源\n",
    "\n",
    "如果您要部署模型到现有端点，可以跳过这个部分。\n",
    "\n",
    "- `display_name`: 端点的显示名称。\n",
    "- `project`: 您正在创建端点的项目ID。\n",
    "- `location`: 您正在使用Vertex AI的区域。"
   ]
  },
  {
   "cell_type": "code",
   "execution_count": null,
   "metadata": {
    "id": "XmmyCtW055Ya"
   },
   "outputs": [],
   "source": [
    "ENDPOINT_DISPLAY_NAME = \"bqml-lr-model-endpoint\"\n",
    "\n",
    "endpoint = aiplatform.Endpoint.create(\n",
    "    display_name=ENDPOINT_DISPLAY_NAME,\n",
    "    project=PROJECT_ID,\n",
    "    location=REGION,\n",
    ")\n",
    "\n",
    "print(endpoint.display_name)\n",
    "print(endpoint.resource_name)"
   ]
  },
  {
   "cell_type": "markdown",
   "metadata": {
    "id": "xSCIKdFo56YO"
   },
   "source": [
    "### 将Vertex AI模型资源部署到Vertex AI端点资源"
   ]
  },
  {
   "cell_type": "code",
   "execution_count": null,
   "metadata": {
    "id": "f7KfDgALE4aD"
   },
   "outputs": [],
   "source": [
    "DEPLOYED_NAME = \"bqml-lr-penguins\"\n",
    "\n",
    "model.deploy(endpoint=endpoint, deployed_model_display_name=DEPLOYED_NAME)\n",
    "\n",
    "print(model.display_name)\n",
    "print(model.resource_name)"
   ]
  },
  {
   "cell_type": "markdown",
   "metadata": {
    "id": "H3K6SVplJ9Mg"
   },
   "source": [
    "发送预测请求到Vertex AI端点资源\n",
    "\n",
    "现在您的Vertex AI模型资源已部署到Vertex AI `端点`资源，您可以通过向`端点`资源发送预测请求来进行在线预测。\n",
    "\n",
    "了解更多关于<a href=\"https://cloud.google.com/vertex-ai/docs/predictions/online-predictions-custom-models\" target=\"_blank\">从自定义训练模型获取在线预测</a>"
   ]
  },
  {
   "cell_type": "code",
   "execution_count": null,
   "metadata": {
    "id": "2j7ioB3VKEtx"
   },
   "outputs": [],
   "source": [
    "instance = {\n",
    "    \"island\": \"Dream\",\n",
    "    \"culmen_length_mm\": 36.6,\n",
    "    \"culmen_depth_mm\": 18.4,\n",
    "    \"flipper_length_mm\": 184.0,\n",
    "    \"body_mass_g\": 3475.0,\n",
    "    \"sex\": \"FEMALE\",\n",
    "}\n",
    "\n",
    "prediction = endpoint.predict([instance])\n",
    "print(prediction)"
   ]
  },
  {
   "cell_type": "markdown",
   "metadata": {
    "id": "C39qOaBHZI1G"
   },
   "source": [
    "向Vertex AI终端点资源发送可解释的AI请求\n",
    "\n",
    "如果这是支持的BQML模型类型，您可以为您的资源获取解释。要了解有关在BQML模型上使用Vertex AI可解释性的更多信息，请参阅[BigQuery ML模型的可解释AI](https://cloud.google.com/bigquery-ml/docs/vertex-xai)。"
   ]
  },
  {
   "cell_type": "code",
   "execution_count": null,
   "metadata": {
    "id": "2j7ioB3VKEtx"
   },
   "outputs": [],
   "source": [
    "instance = {\n",
    "    \"island\": \"Dream\",\n",
    "    \"culmen_length_mm\": 36.6,\n",
    "    \"culmen_depth_mm\": 18.4,\n",
    "    \"flipper_length_mm\": 184.0,\n",
    "    \"body_mass_g\": 3475.0,\n",
    "    \"sex\": \"FEMALE\",\n",
    "}\n",
    "\n",
    "explanation = endpoint.explain([instance])\n",
    "print(explanation)"
   ]
  },
  {
   "cell_type": "markdown",
   "metadata": {
    "id": "C39qOaBHZI1G"
   },
   "source": [
    "## 在 BigQuery ML 模型上进行批量预测\n",
    "在这里，您可以直接从 BigQuery ML 模型请求批量预测；您无需部署模型到端点。对于支持批量和在线预测的数据类型，在您不需要立即响应并且希望通过单个请求处理累积数据时，请使用批量预测。\n",
    "\n",
    "了解更多关于 <a href=\"https://cloud.google.com/bigquery-ml/docs/reference/standard-sql/bigqueryml-syntax-predict\" target=\"_blank\">ML.PREDICT 函数</a>"
   ]
  },
  {
   "cell_type": "code",
   "execution_count": null,
   "metadata": {
    "id": "_QxZb19_o6jx"
   },
   "outputs": [],
   "source": [
    "sql_ml_predict = f\"\"\"SELECT * FROM ML.PREDICT(MODEL `{PROJECT_ID}.{BQ_DATASET_NAME}.{MODEL_NAME}`, \n",
    "(SELECT\n",
    "      *\n",
    "    FROM\n",
    "      `{BQ_TABLE}` LIMIT 10))\"\"\"\n",
    "\n",
    "job = bqclient.query(sql_ml_predict)\n",
    "prediction_result = job.result().to_arrow().to_pandas()"
   ]
  },
  {
   "cell_type": "code",
   "execution_count": null,
   "metadata": {
    "id": "TVpsLI5nrVii"
   },
   "outputs": [],
   "source": [
    "display(prediction_result.head())"
   ]
  },
  {
   "cell_type": "markdown",
   "metadata": {
    "id": "TpV-iwP9qw9c"
   },
   "source": [
    "清理\n",
    "\n",
    "要清理此项目中使用的所有Google Cloud资源，您可以<a href=\"https://cloud.google.com/resource-manager/docs/creating-managing-projects#shutting_down_projects\" target=\"_blank\">删除用于本教程的Google Cloud项目</a>。\n",
    "\n",
    "了解有关<a href=\"https://cloud.google.com/bigquery-ml/docs/managing-models-vertex\" target=\"_blank\">从Vertex AI Model Registry中删除BigQuery ML模型</a>的更多信息\n",
    "\n",
    "否则，您可以删除在本教程中创建的各个资源。"
   ]
  },
  {
   "cell_type": "code",
   "execution_count": null,
   "metadata": {
    "id": "sx_vKniMq9ZX"
   },
   "outputs": [],
   "source": [
    "# Delete the endpoint using the Vertex endpoint object\n",
    "endpoint.undeploy_all()\n",
    "endpoint.delete()"
   ]
  },
  {
   "cell_type": "code",
   "execution_count": null,
   "metadata": {
    "id": "3c5c8dc2f597"
   },
   "outputs": [],
   "source": [
    "# Delete BigQuery ML model\n",
    "\n",
    "delete_query = f\"\"\"DROP MODEL `{PROJECT_ID}.{BQ_DATASET_NAME}.{MODEL_NAME}`\"\"\"\n",
    "job = bqclient.query(delete_query)\n",
    "job.result()"
   ]
  },
  {
   "cell_type": "code",
   "execution_count": null,
   "metadata": {
    "id": "85dfc88f5472"
   },
   "outputs": [],
   "source": [
    "# Delete the created BigQuery dataset\n",
    "! bq rm -r -f $PROJECT_ID:$BQ_DATASET_NAME"
   ]
  }
 ],
 "metadata": {
  "colab": {
   "collapsed_sections": [],
   "name": "bqml_vertexai_model_registry.ipynb",
   "toc_visible": true
  },
  "kernelspec": {
   "display_name": "Python 3",
   "name": "python3"
  }
 },
 "nbformat": 4,
 "nbformat_minor": 0
}
