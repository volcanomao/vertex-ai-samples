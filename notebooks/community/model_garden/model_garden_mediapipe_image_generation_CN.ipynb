{
 "cells": [
  {
   "cell_type": "code",
   "execution_count": null,
   "metadata": {
    "id": "ur8xi4C7S06n"
   },
   "outputs": [],
   "source": [
    "# Copyright 2023 Google LLC\n",
    "#\n",
    "# Licensed under the Apache License, Version 2.0 (the \"License\");\n",
    "# you may not use this file except in compliance with the License.\n",
    "# You may obtain a copy of the License at\n",
    "#\n",
    "#     https://www.apache.org/licenses/LICENSE-2.0\n",
    "#\n",
    "# Unless required by applicable law or agreed to in writing, software\n",
    "# distributed under the License is distributed on an \"AS IS\" BASIS,\n",
    "# WITHOUT WARRANTIES OR CONDITIONS OF ANY KIND, either express or implied.\n",
    "# See the License for the specific language governing permissions and\n",
    "# limitations under the License."
   ]
  },
  {
   "cell_type": "markdown",
   "metadata": {
    "id": "TirJ-SGQseby"
   },
   "source": [
    "# Vertex AI模型花园-使用MediaPipe生成图像\n",
    "\n",
    "<table align=\"left\">\n",
    "  <td>\n",
    "    <a href=\"https://colab.research.google.com/github/GoogleCloudPlatform/vertex-ai-samples/blob/main/notebooks/community/model_garden/model_garden_mediapipe_image_generation.ipynb\">\n",
    "      <img src=\"https://cloud.google.com/ml-engine/images/colab-logo-32px.png\" alt=\"Colab logo\"> 在Colab中运行\n",
    "    </a>\n",
    "  </td>\n",
    "\n",
    "  <td>\n",
    "    <a href=\"https://github.com/GoogleCloudPlatform/vertex-ai-samples/blob/main/notebooks/community/model_garden/model_garden_mediapipe_image_generation.ipynb\">\n",
    "      <img src=\"https://cloud.google.com/ml-engine/images/github-logo-32px.png\" alt=\"GitHub logo\">\n",
    "      在GitHub上查看\n",
    "    </a>\n",
    "  </td>\n",
    "  <td>\n",
    "    <a href=\"https://console.cloud.google.com/vertex-ai/notebooks/deploy-notebook?download_url=https://raw.githubusercontent.com/GoogleCloudPlatform/vertex-ai-samples/main/notebooks/community/model_garden/model_garden_mediapipe_image_generation.ipynb\">\n",
    "      <img src=\"https://lh3.googleusercontent.com/UiNooY4LUgW_oTvpsNhPpQzsstV5W8F7rYgxgGBD85cWJoLmrOzhVs_ksK_vgx40SHs7jCqkTkCk=e14-rj-sc0xffffff-h130-w32\" alt=\"Vertex AI logo\">\n",
    "在Vertex AI Workbench中打开\n",
    "    </a>\n",
    "  </td>\n",
    "</table>"
   ]
  },
  {
   "cell_type": "markdown",
   "metadata": {
    "id": "dwGLvtIeECLK"
   },
   "source": [
    "**注意**：本笔记本已在以下环境中进行测试：\n",
    "\n",
    "- Python版本= 3.9\n",
    "\n",
    "**注意**：此Colab中链接的检查点和数据集不是由谷歌拥有或分发的，而是由第三方提供的。在使用检查点和数据之前，请先查看第三方提供的条款和条件。"
   ]
  },
  {
   "cell_type": "markdown",
   "metadata": {
    "id": "tvgnzT1CKxrO"
   },
   "source": [
    "## 概述\n",
    "\n",
    "本笔记本演示了如何通过添加低秩适应（LoRA）权重来自定义[MediaPipe图像生成器](https://developers.google.com/mediapipe/solutions/vision/image_generator)，即文本到图像生成器，从而生成特定人物、物体和风格的图像。\n",
    "\n",
    "使用Vertex AI的Model Garden，我们将在特定概念的专用数据集上对标准扩散模型进行重新训练，这些概念由唯一标记识别。经过训练后带有新的LoRA权重，新模型能够在文本提示中指定标记时生成新概念的图像。\n",
    "\n",
    "一旦使用LoRA权重定制了模型，应仅用于生成标记概念的图像。它不再适用于通用图像生成模型。有关使用LoRA权重定制MediaPipe图像生成器的更多信息，请参阅[MediaPipe文档](https://developers.google.com/mediapipe/solutions/vision/image_generator#lora)。\n",
    "\n",
    "注意：如果您正在创建LoRA权重以生成特定人物和面部的图像，请仅在您自己的脸部或已经允许您这样做的人的面部上使用此解决方案。"
   ]
  },
  {
   "cell_type": "markdown",
   "metadata": {
    "id": "Da-1fQ6gmWCG"
   },
   "source": [
    "### 目标\n",
    "\n",
    "* 在 Google Cloud 项目中设置 Vertex AI。\n",
    "* 在专门的数据集上训练文本到图像扩散模型，以创建 [LoRA](https://arxiv.org/abs/2106.09685) 权重。\n",
    "* 将通用图像生成器定制为专门的生成器，可以向生成的图像中注入特定的对象、人物和风格。\n",
    "* 配置新训练的图像生成器。\n",
    "* 下载、上传和部署新模型。\n",
    "\n",
    "### 成本\n",
    "\n",
    "此教程使用 Google Cloud 的付费组件：\n",
    "\n",
    "* Vertex AI\n",
    "* 云存储\n",
    "\n",
    "了解 [Vertex AI 价格](https://cloud.google.com/vertex-ai/pricing) 和 [云存储价格](https://cloud.google.com/storage/pricing)，并使用 [定价计算器](https://cloud.google.com/products/calculator/) 根据您的预期使用量生成成本估算。"
   ]
  },
  {
   "cell_type": "markdown",
   "metadata": {
    "id": "KEukV6uRk_S3"
   },
   "source": [
    "在你开始之前"
   ]
  },
  {
   "cell_type": "markdown",
   "metadata": {
    "id": "K3_5Rg1jOlkz"
   },
   "source": [
    "### 设置您的谷歌云项目\n",
    "\n",
    "**无论您使用什么笔记本环境，以下步骤都是必需的。**\n",
    "\n",
    "1. [选择或创建一个谷歌云项目](https://console.cloud.google.com/cloud-resource-manager).\n",
    "\n",
    "2. [确保您的项目已启用计费](https://cloud.google.com/billing/docs/how-to/modify-project).\n",
    "\n",
    "3. [启用 Vertex AI API 和 Compute Engine API](https://console.cloud.google.com/flows/enableapi?apiid=aiplatform.googleapis.com,compute_component).\n",
    "4. 如果您是在本地运行此笔记本，您需要安装[Cloud SDK](https://cloud.google.com/sdk).\n",
    "\n",
    "5. 在下面的单元格中输入您的项目ID。然后运行单元格，确保Cloud SDK在此笔记本中的所有命令中使用正确的项目。"
   ]
  },
  {
   "cell_type": "markdown",
   "metadata": {
    "id": "z__i0w0lCAsW"
   },
   "source": [
    "### 在Colab上进行身份验证\n",
    "**注意**: 如果您没有使用[Colab](https://colab.google/),请跳过这一步。\n",
    "\n",
    "运行以下命令在Colab上安装依赖项并完成与Google Cloud的身份验证。"
   ]
  },
  {
   "cell_type": "code",
   "execution_count": null,
   "metadata": {
    "id": "Jvqs-ehKlaYh"
   },
   "outputs": [],
   "source": [
    "! pip3 install --upgrade pip\n",
    "\n",
    "import sys\n",
    "\n",
    "if \"google.colab\" in sys.modules:\n",
    "    ! pip3 install --upgrade google-cloud-aiplatform\n",
    "\n",
    "    # Automatically restart kernel after installs\n",
    "    import IPython\n",
    "\n",
    "    app = IPython.Application.instance()\n",
    "    app.kernel.do_shutdown(True)\n",
    "\n",
    "    from google.colab import auth as google_auth\n",
    "\n",
    "    google_auth.authenticate_user()"
   ]
  },
  {
   "cell_type": "markdown",
   "metadata": {
    "id": "BF1j6f9HApxa"
   },
   "source": [
    "### 设置您的项目 ID (`PROJECT_ID`)\n",
    "\n",
    "如果您不知道您的项目 ID，可以尝试以下步骤：\n",
    "* 运行 `gcloud config list`。\n",
    "* 运行 `gcloud projects list`。\n",
    "* 参考支持页面：[查找项目 ID](https://support.google.com/googleapi/answer/7014113)"
   ]
  },
  {
   "cell_type": "code",
   "execution_count": null,
   "metadata": {
    "id": "6d87ae73686c"
   },
   "outputs": [],
   "source": [
    "PROJECT_ID = \"\"  # @param {type:\"string\"}\n",
    "\n",
    "# Set the project id\n",
    "! gcloud config set project {PROJECT_ID}"
   ]
  },
  {
   "cell_type": "markdown",
   "metadata": {
    "id": "region"
   },
   "source": [
    "### 设置存储位置（`REGION`）\n",
    "\n",
    "您还可以更改 Vertex AI 使用的 `REGION` 变量。了解更多关于[Vertex AI 地区](https://cloud.google.com/vertex-ai/docs/general/locations)的信息。"
   ]
  },
  {
   "cell_type": "code",
   "execution_count": null,
   "metadata": {
    "id": "tTy1gX11kCJY"
   },
   "outputs": [],
   "source": [
    "REGION = \"\"  # @param {type: \"string\"}\n",
    "REGION_PREFIX = REGION.split(\"-\")[0]\n",
    "assert REGION_PREFIX in (\n",
    "    \"us\",\n",
    "    \"europe\",\n",
    "    \"asia\",\n",
    "), f'{REGION} is not supported. It must be prefixed by \"us\", \"asia\", or \"europe\".'"
   ]
  },
  {
   "cell_type": "markdown",
   "metadata": {
    "id": "zgPO1eR3CYjk"
   },
   "source": [
    "创建一个云存储桶\n",
    "\n",
    "创建一个存储桶，用于存储中间产物，如数据集和训练模型。"
   ]
  },
  {
   "cell_type": "code",
   "execution_count": null,
   "metadata": {
    "id": "MzGDU7TWdts_"
   },
   "outputs": [],
   "source": [
    "BUCKET_URI = \"\"  # @param {type:\"string\"}"
   ]
  },
  {
   "cell_type": "markdown",
   "metadata": {
    "id": "-EcIXiGsCePi"
   },
   "source": [
    "如果您的存储桶尚不存在，请创建您的云存储存储桶。\n",
    "\n",
    "**注意**：如果您还没有存储桶，请运行以下单元。"
   ]
  },
  {
   "cell_type": "code",
   "execution_count": null,
   "metadata": {
    "id": "NIq7R4HZCfIc"
   },
   "outputs": [],
   "source": [
    "! gsutil mb -l {REGION} -p {PROJECT_ID} {BUCKET_URI}"
   ]
  },
  {
   "cell_type": "markdown",
   "metadata": {
    "id": "960505627ddf"
   },
   "source": [
    "### 导入库"
   ]
  },
  {
   "cell_type": "code",
   "execution_count": null,
   "metadata": {
    "id": "PyQmSRbKA8r-"
   },
   "outputs": [],
   "source": [
    "import json\n",
    "import os\n",
    "from datetime import datetime\n",
    "\n",
    "from google.cloud import aiplatform"
   ]
  },
  {
   "cell_type": "markdown",
   "metadata": {
    "id": "init_aip:mbsdk,all"
   },
   "source": [
    "### 初始化用于Python的Vertex AI SDK\n",
    "\n",
    "为您的项目初始化用于Python的Vertex AI SDK。"
   ]
  },
  {
   "cell_type": "code",
   "execution_count": null,
   "metadata": {
    "id": "9wExiMUxFk91"
   },
   "outputs": [],
   "source": [
    "now = datetime.now().strftime(\"%Y%m%d-%H%M%S\")\n",
    "\n",
    "STAGING_BUCKET = os.path.join(BUCKET_URI, \"temp/%s\" % now)\n",
    "\n",
    "MODEL_EXPORT_PATH = os.path.join(STAGING_BUCKET, \"model\")\n",
    "\n",
    "IMAGE_EXPORT_PATH = os.path.join(STAGING_BUCKET, \"image\")\n",
    "\n",
    "aiplatform.init(project=PROJECT_ID, location=REGION, staging_bucket=STAGING_BUCKET)"
   ]
  },
  {
   "cell_type": "markdown",
   "metadata": {
    "id": "n6IFz75WGCam"
   },
   "source": [
    "定义培训和服务的常量"
   ]
  },
  {
   "cell_type": "code",
   "execution_count": null,
   "metadata": {
    "id": "riG_qUokg0XZ"
   },
   "outputs": [],
   "source": [
    "TRAINING_JOB_DISPLAY_NAME = \"mediapipe_stable_diffusion_%s\" % now\n",
    "TRAINING_CONTAINER = f\"{REGION_PREFIX}-docker.pkg.dev/vertex-ai-restricted/vertex-vision-model-garden-dockers/mediapipe-stable-diffusion-train\"\n",
    "TRAINING_MACHINE_TYPE = \"a2-highgpu-1g\"\n",
    "TRAINING_ACCELERATOR_TYPE = \"NVIDIA_TESLA_A100\"\n",
    "TRAINING_ACCELERATOR_COUNT = 1\n",
    "\n",
    "PREDICTION_CONTAINER_URI = f\"{REGION_PREFIX}-docker.pkg.dev/vertex-ai/vertex-vision-model-garden-dockers/pytorch-peft-serve\"\n",
    "PREDICTION_PORT = 7080\n",
    "PREDICTION_ACCELERATOR_TYPE = \"NVIDIA_TESLA_V100\"\n",
    "PREDICTION_MACHINE_TYPE = \"n1-standard-8\"\n",
    "UPLOAD_MODEL_NAME = \"mediapipe_stable_diffusion_model_%s\" % now"
   ]
  },
  {
   "cell_type": "markdown",
   "metadata": {
    "id": "XDq9TiRUc7dV"
   },
   "source": [
    "## 训练一个定制的图像生成器\n",
    "\n",
    "在这一部分，我们将通过在[DreamBooth数据集](https://github.com/google/dreambooth/tree/main)中的[茶壶](https://github.com/google/dreambooth/tree/main/dataset/teapot)图像上训练模型来定制图像生成器。使用通过训练创建的LoRA权重，新模型将能够将茶壶注入生成的图像中。\n",
    "\n",
    "这是一个简单的示例实现。您可以修改以下单元格以进一步定制笔记本。"
   ]
  },
  {
   "cell_type": "markdown",
   "metadata": {
    "id": "bNn4SYZftLbV"
   },
   "source": [
    "### 选择预训练模型进行下载\n",
    "\n",
    "MediaPipe图像生成器任务要求您下载一个符合`runwayml/stable-diffusion-v1-5 EMA-only`模型格式的训练模型，基于以下模型：[runwayml/stable-diffusion-v1-5](https://huggingface.co/runwayml/stable-diffusion-v1-5/blob/main/)。"
   ]
  },
  {
   "cell_type": "code",
   "execution_count": null,
   "metadata": {
    "id": "edfE2BGVtPSi"
   },
   "outputs": [],
   "source": [
    "unet_url = \"https://huggingface.co/runwayml/stable-diffusion-v1-5/resolve/main/unet/diffusion_pytorch_model.bin\"  # @param {type:\"string\"}\n",
    "vae_url = \"https://huggingface.co/runwayml/stable-diffusion-v1-5/resolve/main/vae/diffusion_pytorch_model.bin\"  # @param {type:\"string\"}\n",
    "text_encoder_url = \"https://huggingface.co/runwayml/stable-diffusion-v1-5/resolve/main/text_encoder/pytorch_model.bin\"  # @param {type:\"string\"}"
   ]
  },
  {
   "cell_type": "markdown",
   "metadata": {
    "id": "Oj4XAhsn78as"
   },
   "source": [
    "### 为训练准备输入数据\n",
    "\n",
    "为图像生成定制模型需要一个包含想要在生成中使用的概念实例的示例图片的数据集。这个概念可以是一个人、物体或风格。\n",
    "\n",
    "**物体**\n",
    "![](https://storage.googleapis.com/mediapipe-assets/documentation/object_lora.png)\n",
    "\n",
    "**人物**\n",
    "![](https://storage.googleapis.com/mediapipe-assets/documentation/person_lora.png)\n",
    "\n",
    "**风格**\n",
    "![](https://storage.googleapis.com/mediapipe-assets/documentation/style_lora.png)"
   ]
  },
  {
   "cell_type": "markdown",
   "metadata": {
    "id": "ZkMYDhDqef9M"
   },
   "source": [
    "您还必须为新概念分配一个唯一的标记。提示应该包含该标记，即在本例中是\"monadikos\"，然后是描述要生成的概念的词汇。在这个例子中，我们使用\"A monadikos teapot\"。可以从Google Cloud Storage下载[茶壶](https://github.com/google/dreambooth/tree/main/dataset/teapot)数据集中的图像。\n",
    "\n",
    "定制模型将识别术语\"monadikos teapot\"，并将一个茶壶的图像注入到生成的图像中。"
   ]
  },
  {
   "cell_type": "code",
   "execution_count": null,
   "metadata": {
    "id": "IndQ_m6ddUEM"
   },
   "outputs": [],
   "source": [
    "# Path to the training data folder.\n",
    "training_data_path = \"gs://mediapipe-tasks/image_generator/teapot\"  # @param {type:\"string\"}\n",
    "# An instance description of the training data.\n",
    "training_data_prompt = \"A monadikos teapot\"  # @param {type:\"string\"}"
   ]
  },
  {
   "cell_type": "markdown",
   "metadata": {
    "id": "aaff6f5be7f6"
   },
   "source": [
    "### 设置训练选项\n",
    "\n",
    "图像生成器配备了一组预定义的超参数（`HParams`）设置，适用于特定情况下效果最佳。您应选择与您的用例最匹配的模板。"
   ]
  },
  {
   "cell_type": "markdown",
   "metadata": {
    "id": "lYF-4ydq0k0u"
   },
   "source": [
    "您可以进一步定制超参数，比如学习率和训练步数（epochs）。有关这些超参数的更多信息，请参阅[Google机器学习词汇表](https://developers.google.com/machine-learning/glossary)。\n",
    "\n",
    "要设置自定义训练参数，请调整以下超参数的值："
   ]
  },
  {
   "cell_type": "code",
   "execution_count": null,
   "metadata": {
    "id": "um_XKbmpTaHx"
   },
   "outputs": [],
   "source": [
    "# Parameters about training configuration\n",
    "# The learning rate to use for gradient descent training.\n",
    "learning_rate: float = 0.00001  # @param {type:\"number\"}\n",
    "# Number of training steps. If set to 0, uses the default value.\n",
    "num_train_steps: int = 0  # @param {type:\"integer\"}\n",
    "# Save the checkpoint in every n steps.\n",
    "save_checkpoints_every_n: int = 100  # @param {type:\"integer\"}\n",
    "# Batch size for training.\n",
    "batch_size: int = 1  # @param {type:\"integer\"}\n",
    "\n",
    "# Dataset-related parameters\n",
    "# Whether to use random horizontal flip on data.\n",
    "random_flip: bool = False  # @param {type:\"boolean\"}\n",
    "# Whether to use random largest square crop.\n",
    "random_crop: bool = False  # @param {type:\"boolean\"}\n",
    "# Whether to distort the color of the image (jittering order is random).\n",
    "random_color_jitter: bool = False  # @param {type:\"boolean\"}\n",
    "\n",
    "# Hyperparameters for LoRA tuning\n",
    "# The rank in the low-rank matrices. If set to 0, uses the default value.\n",
    "lora_rank: int = 0  # @param {type:\"integer\"}"
   ]
  },
  {
   "cell_type": "markdown",
   "metadata": {
    "id": "VbVUkoZda3Y4"
   },
   "source": [
    "另外，您也可以使用我们预先训练好的模型之一来应用这些模板。这些模板已经定制好，并且已经包含LoRA权重：\n",
    "* [物体（浆果碗）](https://storage.googleapis.com/mediapipe-tasks/image_generator/object/pytorch_lora_weights.bin)\n",
    "* [人脸](https://storage.googleapis.com/mediapipe-tasks/image_generator/face/pytorch_lora_weights.bin)\n",
    "* [风格](https://storage.googleapis.com/mediapipe-tasks/image_generator/style/pytorch_lora_weights.bin)"
   ]
  },
  {
   "cell_type": "code",
   "execution_count": null,
   "metadata": {
    "id": "bj31hD4W02Ui"
   },
   "outputs": [],
   "source": [
    "template = \"\"  # @param [\"\", \"face\", \"object\", \"style\"]"
   ]
  },
  {
   "cell_type": "markdown",
   "metadata": {
    "id": "BuMz_X97F6yr"
   },
   "source": [
    "测试自定义的图像生成器模型\n",
    "\n",
    "在训练完自定义模型之后，我们将生成图像来检查自定义模型的质量。您可以在下方提供文本提示并配置生成测试图像的选项。"
   ]
  },
  {
   "cell_type": "markdown",
   "metadata": {
    "id": "5NwgyEvYGOTt"
   },
   "source": [
    "### 定义测试生成提示\n",
    "\n",
    "指定要用于测试定制模型的提示。请注意，提示中包含 \"monadikos teapots\" 的变体。如果您正在使用另一个数据集自定义此笔记本，则请设置一个代表训练数据中所描绘的对象、人物或风格的标记。"
   ]
  },
  {
   "cell_type": "code",
   "execution_count": null,
   "metadata": {
    "id": "2dSmBAauGEWw"
   },
   "outputs": [],
   "source": [
    "prompt: str = \"Two monadikos teapots on a table\"  # @param {type:\"string\"}"
   ]
  },
  {
   "cell_type": "markdown",
   "metadata": {
    "id": "nvhSeCt1GbUy"
   },
   "source": [
    "### 配置参数以生成测试图像\n",
    "\n",
    "设置配置选项以使用定制模型运行图像生成。"
   ]
  },
  {
   "cell_type": "code",
   "execution_count": null,
   "metadata": {
    "id": "iwmsxMzDGhOO"
   },
   "outputs": [],
   "source": [
    "# Number of steps to run inference.\n",
    "number_inference_steps: int = 50  # @param {type:\"integer\"}\n",
    "# Classifier-free guidance weight to use during inference. Weight must be is >= 1.0.\n",
    "guidance_scale: float = 7.5  # @param {type:\"number\"}\n",
    "#  Number of generated images per prompt.\n",
    "number_generated_images: int = 8  # @param {type:\"integer\"}"
   ]
  },
  {
   "cell_type": "markdown",
   "metadata": {
    "id": "HwcCjwlBTQIz"
   },
   "source": [
    "### 使用LoRA调优图像生成器\n",
    "使用LoRA调优图像生成器，并根据您的提示生成新的图像。 在具有A100 GPU的Vertex AI上，这可能需要最多10分钟。"
   ]
  },
  {
   "cell_type": "code",
   "execution_count": null,
   "metadata": {
    "id": "aec22792ee84"
   },
   "outputs": [],
   "source": [
    "model_export_path = MODEL_EXPORT_PATH\n",
    "image_export_path = IMAGE_EXPORT_PATH\n",
    "\n",
    "worker_pool_specs = [\n",
    "    {\n",
    "        \"machine_spec\": {\n",
    "            \"machine_type\": TRAINING_MACHINE_TYPE,\n",
    "            \"accelerator_type\": TRAINING_ACCELERATOR_TYPE,\n",
    "            \"accelerator_count\": TRAINING_ACCELERATOR_COUNT,\n",
    "        },\n",
    "        \"replica_count\": 1,\n",
    "        \"container_spec\": {\n",
    "            \"image_uri\": TRAINING_CONTAINER,\n",
    "            \"command\": [],\n",
    "            \"args\": [\n",
    "                \"--task_name=stable_diffusion\",\n",
    "                \"--model_export_path=%s\" % model_export_path,\n",
    "                \"--image_export_path=%s\" % image_export_path,\n",
    "                \"--training_data_path=%s\" % training_data_path,\n",
    "                \"--training_data_prompt='%s'\" % training_data_prompt,\n",
    "                \"--prompt='%s'\" % prompt,\n",
    "                \"--hparams_template=%s\" % template,\n",
    "                \"--hparams=%s\"\n",
    "                % json.dumps(\n",
    "                    {\n",
    "                        \"learning_rate\": learning_rate,\n",
    "                        \"num_train_steps\": num_train_steps,\n",
    "                        \"save_checkpoints_every_n\": save_checkpoints_every_n,\n",
    "                        \"batch_size\": batch_size,\n",
    "                        \"random_flip\": random_flip,\n",
    "                        \"random_crop\": random_crop,\n",
    "                        \"random_color_jitter\": random_color_jitter,\n",
    "                        \"lora_rank\": lora_rank,\n",
    "                        \"torch_vae\": vae_url,\n",
    "                        \"torch_unet\": unet_url,\n",
    "                        \"torch_text_encoder\": text_encoder_url,\n",
    "                    }\n",
    "                ),\n",
    "                \"--generator_hparams=%s\"\n",
    "                % json.dumps(\n",
    "                    {\n",
    "                        \"number_inference_steps\": number_inference_steps,\n",
    "                        \"guidance_scale\": guidance_scale,\n",
    "                        \"number_generated_images\": number_generated_images,\n",
    "                    }\n",
    "                ),\n",
    "            ],\n",
    "        },\n",
    "    }\n",
    "]\n",
    "\n",
    "training_job = aiplatform.CustomJob(\n",
    "    display_name=TRAINING_JOB_DISPLAY_NAME,\n",
    "    project=PROJECT_ID,\n",
    "    worker_pool_specs=worker_pool_specs,\n",
    "    staging_bucket=STAGING_BUCKET,\n",
    ")\n",
    "\n",
    "training_job.run()"
   ]
  },
  {
   "cell_type": "markdown",
   "metadata": {
    "id": "hBhI0hYnCCCI"
   },
   "source": [
    "## 下载图片和模型\n",
    "\n",
    "在训练和测试新模型之后，您可以下载生成的图片和新定制的模型。训练中的 LoRA 权重也可用于 MediaPipe Tasks ImageGenerator API 用于设备上的应用程序。"
   ]
  },
  {
   "cell_type": "markdown",
   "metadata": {
    "id": "Jdm1dOgsMH9O"
   },
   "source": [
    "### 下载生成的图像\n",
    "\n",
    "在不同的检查点上下载和预览生成的图像。\n",
    "检查生成的图像有助于确定最佳的检查点，并避免欠拟合或过拟合。"
   ]
  },
  {
   "cell_type": "code",
   "execution_count": null,
   "metadata": {
    "id": "xsrMHpRvMErS"
   },
   "outputs": [],
   "source": [
    "import sys\n",
    "\n",
    "import matplotlib.pyplot as plt\n",
    "\n",
    "\n",
    "def copy_image(images_source, images_dest):\n",
    "    os.makedirs(images_dest, exist_ok=True)\n",
    "    ! gsutil cp -r {images_source}/* {images_dest}\n",
    "\n",
    "\n",
    "local_image_path = \"./images/\"\n",
    "copy_image(IMAGE_EXPORT_PATH, local_image_path)\n",
    "\n",
    "steps_samples = {}\n",
    "for filename in os.listdir(local_image_path):\n",
    "    absolute_path = os.path.join(local_image_path, filename)\n",
    "    if os.path.isfile(absolute_path):\n",
    "        parsed_name = filename.split(\"_\")\n",
    "        step = int(parsed_name[1])\n",
    "        if step not in steps_samples:\n",
    "            steps_samples[step] = []\n",
    "        image = plt.imread(absolute_path)\n",
    "        steps_samples[step].append(image)\n",
    "\n",
    "for step in sorted(steps_samples.keys()):\n",
    "    print(f\"\\nGenerated image with training steps {step}:\")\n",
    "    for image in steps_samples[step]:\n",
    "        plt.figure(figsize=(20, 10), dpi=150)\n",
    "        plt.axis(\"off\")\n",
    "        plt.imshow(image)\n",
    "        plt.show()"
   ]
  },
  {
   "cell_type": "markdown",
   "metadata": {
    "id": "LPCvcX88b_sO"
   },
   "source": [
    "默认情况下，最后一个检查点用于部署。然而，根据以上视觉检查，我们可以在这里进行定制。"
   ]
  },
  {
   "cell_type": "code",
   "execution_count": null,
   "metadata": {
    "id": "ONtgDzGncCc3"
   },
   "outputs": [],
   "source": [
    "deployed_checkpoint: int = -1  # @param {type:\"integer\"}\n",
    "if deployed_checkpoint == -1:\n",
    "    deployed_checkpoint = num_train_steps\n",
    "valid_checkpoints = list(\n",
    "    range(save_checkpoints_every_n, num_train_steps + 1, save_checkpoints_every_n)\n",
    ")\n",
    "if deployed_checkpoint not in valid_checkpoints:\n",
    "    raise ValueError(\"Invalid checkpoint chosen for deployment.\")"
   ]
  },
  {
   "cell_type": "markdown",
   "metadata": {
    "id": "zcKzIa5QeIIU"
   },
   "source": [
    "下载模型\n",
    "\n",
    "在微调和评估模型之后，您可以下载模型和检查点。"
   ]
  },
  {
   "cell_type": "code",
   "execution_count": null,
   "metadata": {
    "id": "NYuQowyZEtxK"
   },
   "outputs": [],
   "source": [
    "import sys\n",
    "\n",
    "\n",
    "def copy_model(model_source, model_dest):\n",
    "    os.makedirs(model_dest, exist_ok=True)\n",
    "    ! gsutil -m cp -r {model_source}/* {model_dest}\n",
    "\n",
    "\n",
    "local_model_path = \"/models\"\n",
    "copy_model(MODEL_EXPORT_PATH, local_model_path)\n",
    "\n",
    "! tar czf models.tar.gz {local_model_path}/*\n",
    "\n",
    "if \"google.colab\" in sys.modules:\n",
    "    from google.colab import files\n",
    "\n",
    "    files.download(\"models.tar.gz\")"
   ]
  },
  {
   "cell_type": "markdown",
   "metadata": {
    "id": "-gqs4Kc4u6U3"
   },
   "source": [
    "将以下英文文本翻译为中文：# 上传并部署到Vertex AI\n",
    "\n",
    "本部分展示了如何使用训练好的模型进行测试。\n",
    "1. 将模型上传并部署到[Vertex AI模型注册](https://cloud.google.com/vertex-ai/docs/model-registry/introduction)\n",
    "2. 从部署的模型获取[在线预测](https://cloud.google.com/vertex-ai/docs/predictions/get-online-predictions)。"
   ]
  },
  {
   "cell_type": "markdown",
   "metadata": {
    "id": "Y_HV9vMbvF_6"
   },
   "source": [
    "### 上传模型到Vertex AI模型注册表"
   ]
  },
  {
   "cell_type": "code",
   "execution_count": null,
   "metadata": {
    "id": "OL6wdXf-1rta"
   },
   "outputs": [],
   "source": [
    "serving_env = {\n",
    "    \"TASK\": \"text-to-image-lora\",\n",
    "    \"MODEL_ID\": \"runwayml/stable-diffusion-v1-5\",\n",
    "    \"FINETUNED_LORA_MODEL_PATH\": os.path.join(\n",
    "        MODEL_EXPORT_PATH, f\"checkpoint_{deployed_checkpoint}\"\n",
    "    ),\n",
    "    \"DEPLOY_SOURCE\": \"notebook\",\n",
    "}\n",
    "\n",
    "model = aiplatform.Model.upload(\n",
    "    display_name=UPLOAD_MODEL_NAME,\n",
    "    serving_container_image_uri=PREDICTION_CONTAINER_URI,\n",
    "    serving_container_ports=[PREDICTION_PORT],\n",
    "    serving_container_predict_route=\"/predictions/peft_serving\",\n",
    "    serving_container_health_route=\"/ping\",\n",
    "    serving_container_environment_variables=serving_env,\n",
    ")\n",
    "\n",
    "model.wait()\n",
    "\n",
    "print(\"The uploaded model name is: \", UPLOAD_MODEL_NAME)"
   ]
  },
  {
   "cell_type": "markdown",
   "metadata": {
    "id": "NjXg3QHw2GCT"
   },
   "source": [
    "部署上传的模型\n",
    "\n",
    "您将在Google Cloud Vertex AI中部署模型。默认设置将使用1个V100 GPU用于部署。\n",
    "\n",
    "如果您尚未拥有服务帐户用于使用docker进行服务，请创建一个。\n",
    "\n",
    "模型部署将需要大约1分钟才能完成。"
   ]
  },
  {
   "cell_type": "code",
   "execution_count": null,
   "metadata": {
    "id": "BLTA7nRcw57D"
   },
   "outputs": [],
   "source": [
    "# Please go to https://cloud.google.com/iam/docs/service-accounts-create#iam-service-accounts-create-console\n",
    "# and create service account with `Vertex AI User` and `Storage Object Admin` roles.\n",
    "service_account = \"\"  # @param {type:\"string\"}\n",
    "\n",
    "endpoint = aiplatform.Endpoint.create(display_name=f\"{UPLOAD_MODEL_NAME}-endpoint\")\n",
    "model.deploy(\n",
    "    endpoint=endpoint,\n",
    "    machine_type=PREDICTION_MACHINE_TYPE,\n",
    "    accelerator_type=PREDICTION_ACCELERATOR_TYPE,\n",
    "    accelerator_count=1,\n",
    "    deploy_request_timeout=1800,\n",
    "    service_account=service_account,\n",
    ")"
   ]
  },
  {
   "cell_type": "markdown",
   "metadata": {
    "id": "tMfwrH32_uIM"
   },
   "source": [
    "Docker容器在端点创建之后仍然需要下载并加载模型。因此，我们建议在继续下一个单元之前等待额外的3分钟。\n",
    "\n",
    "部署完成后，您可以向端点发送一批文本提示以生成图像。"
   ]
  },
  {
   "cell_type": "code",
   "execution_count": null,
   "metadata": {
    "id": "wr7wg9JQ_tjM"
   },
   "outputs": [],
   "source": [
    "import base64\n",
    "from io import BytesIO\n",
    "\n",
    "import matplotlib.pyplot as plt\n",
    "from PIL import Image\n",
    "\n",
    "instances = [\n",
    "    {\"prompt\": \"Two monadikos teapots on a table\"},\n",
    "    {\"prompt\": \"Two monadikos teapots on the floor\"},\n",
    "]\n",
    "response = endpoint.predict(instances=instances)\n",
    "\n",
    "plt.figure()\n",
    "_, grid = plt.subplots(1, len(instances))\n",
    "for cell, prediction in zip(grid, response.predictions):\n",
    "    image = Image.open(BytesIO(base64.b64decode(prediction)))\n",
    "    cell.imshow(image)"
   ]
  },
  {
   "cell_type": "markdown",
   "metadata": {
    "id": "kkH2nrpdp4sp"
   },
   "source": [
    "将以下英文文本翻译为中文：## 清理工作\n",
    "当导出完成后，您可以删除您的培训作业。"
   ]
  },
  {
   "cell_type": "code",
   "execution_count": null,
   "metadata": {
    "id": "Ax6vQVZhp9pR"
   },
   "outputs": [],
   "source": [
    "if training_job.list(filter=f'display_name=\"{TRAINING_JOB_DISPLAY_NAME}\"'):\n",
    "    training_job.delete()\n",
    "# Undeploys models and deletes endpoints.\n",
    "endpoint.delete(force=True)\n",
    "model.delete()"
   ]
  },
  {
   "cell_type": "markdown",
   "metadata": {
    "id": "CkRKXILVJc7Q"
   },
   "source": [
    "您也可以删除输出数据。"
   ]
  },
  {
   "cell_type": "code",
   "execution_count": null,
   "metadata": {
    "id": "vdIZsAstJTcA"
   },
   "outputs": [],
   "source": [
    "!gsutil rm -r {STAGING_BUCKET}"
   ]
  }
 ],
 "metadata": {
  "colab": {
   "name": "model_garden_mediapipe_image_generation.ipynb",
   "toc_visible": true
  },
  "kernelspec": {
   "display_name": "Python 3",
   "name": "python3"
  }
 },
 "nbformat": 4,
 "nbformat_minor": 0
}
