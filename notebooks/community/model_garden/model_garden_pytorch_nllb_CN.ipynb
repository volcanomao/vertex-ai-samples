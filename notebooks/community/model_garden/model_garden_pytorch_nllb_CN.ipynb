{
 "cells": [
  {
   "cell_type": "code",
   "execution_count": null,
   "metadata": {
    "id": "7d9bbf86da5e"
   },
   "outputs": [],
   "source": [
    "# Copyright 2023 Google LLC\n",
    "#\n",
    "# Licensed under the Apache License, Version 2.0 (the \"License\");\n",
    "# you may not use this file except in compliance with the License.\n",
    "# You may obtain a copy of the License at\n",
    "#\n",
    "#     https://www.apache.org/licenses/LICENSE-2.0\n",
    "#\n",
    "# Unless required by applicable law or agreed to in writing, software\n",
    "# distributed under the License is distributed on an \"AS IS\" BASIS,\n",
    "# WITHOUT WARRANTIES OR CONDITIONS OF ANY KIND, either express or implied.\n",
    "# See the License for the specific language governing permissions and\n",
    "# limitations under the License."
   ]
  },
  {
   "cell_type": "markdown",
   "metadata": {
    "id": "2bd716bf3e39"
   },
   "source": [
    "# Vertex AI模型花园 - NLLB (没有语言被遗漏)\n",
    "\n",
    "<table align=\"left\">\n",
    "  <td>\n",
    "    <a href=\"https://colab.research.google.com/github/GoogleCloudPlatform/vertex-ai-samples/blob/main/notebooks/community/model_garden/model_garden_pytorch_nllb.ipynb\">\n",
    "      <img src=\"https://cloud.google.com/ml-engine/images/colab-logo-32px.png\" alt=\"Colab logo\"> 在Colab中运行\n",
    "    </a>\n",
    "  </td>\n",
    "  <td>\n",
    "    <a href=\"https://github.com/GoogleCloudPlatform/vertex-ai-samples/blob/main/notebooks/community/model_garden/model_garden_pytorch_nllb.ipynb\">\n",
    "      <img src=\"https://cloud.google.com/ml-engine/images/github-logo-32px.png\" alt=\"GitHub logo\">\n",
    "      在GitHub上查看\n",
    "    </a>\n",
    "  </td>\n",
    "  <td>\n",
    "    <a href=\"https://console.cloud.google.com/vertex-ai/notebooks/deploy-notebook?download_url=https://raw.githubusercontent.com/GoogleCloudPlatform/vertex-ai-samples/main/notebooks/community/model_garden/model_garden_pytorch_nllb.ipynb\">\n",
    "      <img src=\"https://lh3.googleusercontent.com/UiNooY4LUgW_oTvpsNhPpQzsstV5W8F7rYgxgGBD85cWJoLmrOzhVs_ksK_vgx40SHs7jCqkTkCk=e14-rj-sc0xffffff-h130-w32\" alt=\"Vertex AI logo\">\n",
    "在Vertex AI工作台中打开\n",
    "    </a>\n",
    "    (建议使用Python-3 CPU笔记本)\n",
    "  </td>\n",
    "</table>"
   ]
  },
  {
   "cell_type": "markdown",
   "metadata": {
    "id": "d8cd12648da4"
   },
   "source": [
    "## 概述\n",
    "\n",
    "本笔记本演示如何在Vertex AI上部署预训练的[NLLB](https://huggingface.co/facebook/nllb-200-3.3B)模型以进行在线预测。\n",
    "\n",
    "### 目标\n",
    "\n",
    "- 将模型上传至[模型注册表](https://cloud.google.com/vertex-ai/docs/model-registry/introduction)。\n",
    "- 在[端点](https://cloud.google.com/vertex-ai/docs/predictions/using-private-endpoints)上部署模型。\n",
    "- 运行翻译的在线预测。\n",
    "\n",
    "### 成本\n",
    "\n",
    "本教程使用Google Cloud的计费组件：\n",
    "\n",
    "* Vertex AI\n",
    "\n",
    "了解[Vertex AI定价](https://cloud.google.com/vertex-ai/pricing)，并使用[Pricing Calculator](https://cloud.google.com/products/calculator/)根据您的预期使用量生成成本估算。"
   ]
  },
  {
   "cell_type": "markdown",
   "metadata": {
    "id": "264c07757582"
   },
   "source": [
    "## 设置环境\n",
    "\n",
    "**注意**：Jupyter运行以 `!` 为前缀的行作为shell命令，并将以 `$` 为前缀的Python变量插入这些命令中。"
   ]
  },
  {
   "cell_type": "markdown",
   "metadata": {
    "id": "d73ffa0c0b83"
   },
   "source": [
    "只有协作"
   ]
  },
  {
   "cell_type": "code",
   "execution_count": null,
   "metadata": {
    "id": "2707b02ef5df"
   },
   "outputs": [],
   "source": [
    "if \"google.colab\" in str(get_ipython()):\n",
    "    ! pip3 install --upgrade google-cloud-aiplatform\n",
    "    from google.colab import auth as google_auth\n",
    "\n",
    "    google_auth.authenticate_user()\n",
    "\n",
    "    # Restart the notebook kernel after installs.\n",
    "    import IPython\n",
    "\n",
    "    app = IPython.Application.instance()\n",
    "    app.kernel.do_shutdown(True)"
   ]
  },
  {
   "cell_type": "markdown",
   "metadata": {
    "id": "0f826ff482a2"
   },
   "source": [
    "### 设置Google Cloud项目\n",
    "\n",
    "1. [选择或创建一个Google Cloud项目](https://console.cloud.google.com/cloud-resource-manager)。当您第一次创建帐户时，您会获得$300的免费信用额用于计算/存储成本。\n",
    "\n",
    "2. [确保您的项目已启用结算](https://cloud.google.com/billing/docs/how-to/modify-project)。\n",
    "\n",
    "3. [启用Vertex AI API和Compute Engine API](https://console.cloud.google.com/flows/enableapi?apiid=aiplatform.googleapis.com,compute_component)。\n",
    "\n",
    "4. [创建一个云存储存储桶](https://cloud.google.com/storage/docs/creating-buckets)用于存储实验输出。"
   ]
  },
  {
   "cell_type": "markdown",
   "metadata": {
    "id": "8958ebc71868"
   },
   "source": [
    "为实验环境填写以下变量："
   ]
  },
  {
   "cell_type": "code",
   "execution_count": null,
   "metadata": {
    "id": "9db30f827a65"
   },
   "outputs": [],
   "source": [
    "# Cloud project id.\n",
    "PROJECT_ID = \"\"  # @param {type:\"string\"}\n",
    "\n",
    "# Google Cloud Storage bucket URI.\n",
    "GCS_BUCKET = \"gs://\"  # @param {type:\"string\"}\n",
    "\n",
    "# The region you want to launch jobs in.\n",
    "REGION = \"us-central1\"  # @param {type:\"string\"}"
   ]
  },
  {
   "cell_type": "markdown",
   "metadata": {
    "id": "92f16e22c20b"
   },
   "source": [
    "初始化Vertex AI API:"
   ]
  },
  {
   "cell_type": "code",
   "execution_count": null,
   "metadata": {
    "id": "1680c257acfb"
   },
   "outputs": [],
   "source": [
    "from google.cloud import aiplatform\n",
    "\n",
    "aiplatform.init(project=PROJECT_ID, location=REGION, staging_bucket=GCS_BUCKET)"
   ]
  },
  {
   "cell_type": "markdown",
   "metadata": {
    "id": "6ca48b699d17"
   },
   "source": [
    "### 定义常数"
   ]
  },
  {
   "cell_type": "code",
   "execution_count": null,
   "metadata": {
    "id": "de9882ea89ea"
   },
   "outputs": [],
   "source": [
    "# The pre-built serving docker image.\n",
    "# The model artifacts are embedded within the container, except for model weights which will be downloaded during deployment.\n",
    "SERVE_DOCKER_URI = \"us-docker.pkg.dev/vertex-ai/vertex-vision-model-garden-dockers/pytorch-transformers-serve:20231022_0832_RC00\""
   ]
  },
  {
   "cell_type": "markdown",
   "metadata": {
    "id": "10188266a5cd"
   },
   "source": [
    "### 定义常见的函数"
   ]
  },
  {
   "cell_type": "code",
   "execution_count": null,
   "metadata": {
    "id": "cac4478ae098"
   },
   "outputs": [],
   "source": [
    "def deploy_model(model_id, accelerator_count):\n",
    "    \"\"\"Uploads and deploys the model to Vertex AI endpoint for prediction.\"\"\"\n",
    "    endpoint = aiplatform.Endpoint.create(display_name=f\"{model_id}-endpoint\")\n",
    "    serving_env = {\n",
    "        \"MODEL_ID\": model_id,\n",
    "        \"DEPLOY_SOURCE\": \"notebook\",\n",
    "    }\n",
    "\n",
    "    model = aiplatform.Model.upload(\n",
    "        display_name=model_id,\n",
    "        serving_container_image_uri=SERVE_DOCKER_URI,\n",
    "        serving_container_ports=[7080],\n",
    "        serving_container_predict_route=\"/predictions/transformers_serving\",\n",
    "        serving_container_health_route=\"/ping\",\n",
    "        serving_container_environment_variables=serving_env,\n",
    "    )\n",
    "\n",
    "    model.deploy(\n",
    "        endpoint=endpoint,\n",
    "        machine_type=\"n1-standard-8\",\n",
    "        accelerator_type=\"NVIDIA_TESLA_V100\",\n",
    "        accelerator_count=accelerator_count,\n",
    "        deploy_request_timeout=3600,\n",
    "    )\n",
    "    return model, endpoint"
   ]
  },
  {
   "cell_type": "markdown",
   "metadata": {
    "id": "d2d72ecdb8c9"
   },
   "source": [
    "上传和部署模型"
   ]
  },
  {
   "cell_type": "markdown",
   "metadata": {
    "id": "9448c5f545fa"
   },
   "source": [
    "这个笔记本和提供的服务可以支持下面列出的所有4种NLLB模型的变体：\n",
    "\n",
    "| 模型名称 | 模型类型 | 参数数量 | 检查点 |\n",
    "| - | - | - | - |\n",
    "| NLLB-200-3.3B | 稠密 | 3.3B |[模型](https://huggingface.co/facebook/nllb-200-3.3B) |\n",
    "| NLLB-200-1.3B | 稠密 | 1.3B |[模型](https://huggingface.co/facebook/nllb-200-1.3B) |\n",
    "| NLLB-200-Distilled-1.3B | 稠密 | 1.3B | [模型](https://huggingface.co/facebook/nllb-200-distilled-1.3B) |\n",
    "| NLLB-200-Distilled-600M | 稠密 | 600M | [模型](https://huggingface.co/facebook/nllb-200-distilled-600M) |\n",
    "\n",
    "在这4种变体中，[NLLB-200-3.3B](https://huggingface.co/facebook/nllb-200-3.3B)需要2个V100 GPU用于在线预测。然而，其他的变体只需要一个V100 GPU。这部分演示如何将预训练模型上传到模型注册表，并在对应的机器规格上部署模型。\n",
    "\n",
    "注意：模型部署步骤需要大约25分钟才能完成。"
   ]
  },
  {
   "cell_type": "code",
   "execution_count": null,
   "metadata": {
    "id": "b4b46c28d8b1"
   },
   "outputs": [],
   "source": [
    "# Please select a model from the list:\n",
    "model_id = \"facebook/nllb-200-distilled-600M\"  # @param [\"facebook/nllb-200-distilled-600M\", \"facebook/nllb-200-distilled-1.3B\", \"facebook/nllb-200-1.3B\", \"facebook/nllb-200-3.3B\"]\n",
    "\n",
    "accelerator_count = None\n",
    "# For models `NLLB-200-Distilled-600M`, `NLLB-200-Distilled-1.3B`, `NLLB-200-1.3B`,\n",
    "# we use 1 V100 GPU\n",
    "if model_id in [\n",
    "    \"facebook/nllb-200-distilled-600M\",\n",
    "    \"facebook/nllb-200-distilled-1.3B\",\n",
    "    \"facebook/nllb-200-1.3B\",\n",
    "]:\n",
    "    accelerator_count = 1\n",
    "# For model `NLLB-200-3.3B`, we require 2 V100 GPUs\n",
    "elif model_id in [\"facebook/nllb-200-3.3B\"]:\n",
    "    accelerator_count = 2\n",
    "\n",
    "\n",
    "if model_id is None or accelerator_count is None:\n",
    "    raise ValueError(\"Please select a valid model from the list.\")\n",
    "\n",
    "model, endpoint = deploy_model(model_id, accelerator_count)"
   ]
  },
  {
   "cell_type": "markdown",
   "metadata": {
    "id": "80b3fd2ace09"
   },
   "source": [
    "注意：模型权重将在部署成功后下载。因此，在上述模型部署步骤成功之后，需要额外等待20分钟时间，然后再运行下面的下一个步骤。否则，当您发送请求到端点时，您可能会看到一个`ServiceUnavailable: 503 502:Bad Gateway`错误。"
   ]
  },
  {
   "cell_type": "markdown",
   "metadata": {
    "id": "68990d91bc5f"
   },
   "source": [
    "发送预测请求"
   ]
  },
  {
   "cell_type": "code",
   "execution_count": null,
   "metadata": {
    "id": "6be655247cb1"
   },
   "outputs": [],
   "source": [
    "input_text = \"Şeful ONU spune că nu există o soluţie militară în Siria\"\n",
    "# The source and the target languages. The full list of the languages (and the\n",
    "# corresponding language codes) that are currently supported by the series of models,\n",
    "# can be found at: https://github.com/facebookresearch/flores/blob/main/flores200/README.md#languages-in-flores-200\n",
    "src_lang = \"ron_Latn\"\n",
    "tgt_lang = \"jpn_Jpan\"\n",
    "\n",
    "instances = [\n",
    "    {\"text\": input_text, \"src_lang\": src_lang, \"tgt_lang\": tgt_lang},\n",
    "]\n",
    "preds = endpoint.predict(instances=instances).predictions\n",
    "print(preds[0].get(\"translation_text\"))"
   ]
  },
  {
   "cell_type": "markdown",
   "metadata": {
    "id": "69453bf7230e"
   },
   "source": [
    "整理清理"
   ]
  },
  {
   "cell_type": "code",
   "execution_count": null,
   "metadata": {
    "id": "2ccf3714dbe9"
   },
   "outputs": [],
   "source": [
    "# Undeploy model and delete endpoint.\n",
    "endpoint.delete(force=True)\n",
    "\n",
    "# Delete models.\n",
    "model.delete()"
   ]
  }
 ],
 "metadata": {
  "colab": {
   "name": "model_garden_pytorch_nllb.ipynb",
   "toc_visible": true
  },
  "kernelspec": {
   "display_name": "Python 3",
   "name": "python3"
  }
 },
 "nbformat": 4,
 "nbformat_minor": 0
}
