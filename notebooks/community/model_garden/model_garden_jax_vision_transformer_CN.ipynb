{
 "cells": [
  {
   "cell_type": "code",
   "execution_count": null,
   "metadata": {
    "id": "ur8xi4C7S06n"
   },
   "outputs": [],
   "source": [
    "# Copyright 2023 Google LLC\n",
    "#\n",
    "# Licensed under the Apache License, Version 2.0 (the \"License\");\n",
    "# you may not use this file except in compliance with the License.\n",
    "# You may obtain a copy of the License at\n",
    "#\n",
    "#     https://www.apache.org/licenses/LICENSE-2.0\n",
    "#\n",
    "# Unless required by applicable law or agreed to in writing, software\n",
    "# distributed under the License is distributed on an \"AS IS\" BASIS,\n",
    "# WITHOUT WARRANTIES OR CONDITIONS OF ANY KIND, either express or implied.\n",
    "# See the License for the specific language governing permissions and\n",
    "# limitations under the License."
   ]
  },
  {
   "cell_type": "markdown",
   "metadata": {
    "id": "99c1c3fc2ca5"
   },
   "source": [
    "# Vertex AI模型花园 - JAX Vision Transformer\n",
    "\n",
    "<table align=\"left\">\n",
    "  <td>\n",
    "    <a href=\"https://colab.research.google.com/github/GoogleCloudPlatform/vertex-ai-samples/blob/main/notebooks/community/model_garden/model_garden_jax_vision_transformer.ipynb\">\n",
    "      <img src=\"https://cloud.google.com/ml-engine/images/colab-logo-32px.png\" alt=\"Colab logo\"> 在Colab中运行\n",
    "    </a>\n",
    "  </td>\n",
    "\n",
    "  <td>\n",
    "    <a href=\"https://github.com/GoogleCloudPlatform/vertex-ai-samples/blob/main/notebooks/community/model_garden/model_garden_jax_vision_transformer.ipynb\">\n",
    "      <img src=\"https://cloud.google.com/ml-engine/images/github-logo-32px.png\" alt=\"GitHub logo\">\n",
    "      在GitHub上查看\n",
    "    </a>\n",
    "  </td>\n",
    "  <td>\n",
    "    <a href=\"https://console.cloud.google.com/vertex-ai/notebooks/deploy-notebook?download_url=https://raw.githubusercontent.com/GoogleCloudPlatform/vertex-ai-samples/main/notebooks/community/model_garden/model_garden_jax_vision_transformer.ipynb\">\n",
    "      <img src=\"https://lh3.googleusercontent.com/UiNooY4LUgW_oTvpsNhPpQzsstV5W8F7rYgxgGBD85cWJoLmrOzhVs_ksK_vgx40SHs7jCqkTkCk=e14-rj-sc0xffffff-h130-w32\" alt=\"Vertex AI logo\">\n",
    "在Vertex AI工作台中打开\n",
    "    </a>\n",
    "  </td>\n",
    "</table>"
   ]
  },
  {
   "cell_type": "markdown",
   "metadata": {
    "id": "24743cf4a1e1"
   },
   "source": [
    "注意：此笔记本已在以下环境中进行测试：\n",
    "\n",
    "- Python 版本 = 3.9"
   ]
  },
  {
   "cell_type": "markdown",
   "metadata": {
    "id": "tvgnzT1CKxrO"
   },
   "source": [
    "##概述\n",
    "\n",
    "本笔记本演示了如何在GPU上微调[JAX ViT-B16模型](https://github.com/google-research/vision_transformer#available-vit-models)以进行图像分类任务，并在Vertex AI上部署它们进行在线预测。\n",
    "\n",
    "了解更多关于[Vertex AI中生成式人工智能支持](https://cloud.google.com/blog/products/ai-machine-learning/vertex-ai-model-garden-and-generative-ai-studio)。"
   ]
  },
  {
   "cell_type": "markdown",
   "metadata": {
    "id": "d975e698c9a4"
   },
   "source": [
    "### 目标\n",
    "\n",
    "在本教程中，您将学习如何使用 Vertex AI 预训练的 JAX Vision Transformer 模型进行微调、部署和预测。\n",
    "\n",
    "本教程使用以下谷歌云 ML 服务和资源:\n",
    "\n",
    "- Vertex AI Model Garden\n",
    "- Vertex AI 训练\n",
    "- Vertex AI 模型注册表\n",
    "- Vertex AI 在线预测\n",
    "\n",
    "执行的步骤包括:\n",
    "\n",
    "- 对基于 JAX Vision Transformer 的模型进行微调。\n",
    "- 将模型上传至 [模型注册表](https://cloud.google.com/vertex-ai/docs/model-registry/introduction)。\n",
    "- 在 [端点](https://cloud.google.com/vertex-ai/docs/predictions/using-private-endpoints) 上部署模型。\n",
    "- 运行用于图像分类的在线预测。"
   ]
  },
  {
   "cell_type": "markdown",
   "metadata": {
    "id": "08d289fa873f"
   },
   "source": [
    "数据集\n",
    "\n",
    "本笔记本使用 [tf_flowers 数据集](https://www.tensorflow.org/datasets/catalog/tf_flowers)，并有一个部分展示了如何下载和准备它。您也可以遵循类似的过程来使用您自己的自定义数据集。"
   ]
  },
  {
   "cell_type": "markdown",
   "metadata": {
    "id": "aed92deeb4a0"
   },
   "source": [
    "费用\n",
    "\n",
    "本教程使用 Google Cloud 中的付费组件：\n",
    "\n",
    "* Vertex AI\n",
    "* Cloud Storage\n",
    "\n",
    "了解[Vertex AI 价格](https://cloud.google.com/vertex-ai/pricing)和[Cloud Storage 价格](https://cloud.google.com/storage/pricing)，并使用[价格计算器](https://cloud.google.com/products/calculator/)根据您预期的使用量生成成本估算。"
   ]
  },
  {
   "cell_type": "markdown",
   "metadata": {
    "id": "i7EUnXsZhAGF"
   },
   "source": [
    "## 安装\n",
    "\n",
    "安装以下必要的软件包以执行此笔记本。"
   ]
  },
  {
   "cell_type": "code",
   "execution_count": null,
   "metadata": {
    "id": "2b4ef9b72d43"
   },
   "outputs": [],
   "source": [
    "# Install the packages.\n",
    "! pip3 install --upgrade google-cloud-aiplatform"
   ]
  },
  {
   "cell_type": "markdown",
   "metadata": {
    "id": "58707a750154"
   },
   "source": [
    "只有协作"
   ]
  },
  {
   "cell_type": "code",
   "execution_count": null,
   "metadata": {
    "id": "f200f10a1da3"
   },
   "outputs": [],
   "source": [
    "# Automatically restart kernel after installs so that your environment can access the new packages.\n",
    "# import IPython\n",
    "\n",
    "# app = IPython.Application.instance()\n",
    "# app.kernel.do_shutdown(True)"
   ]
  },
  {
   "cell_type": "markdown",
   "metadata": {
    "id": "BF1j6f9HApxa"
   },
   "source": [
    "## 在您开始之前\n",
    "\n",
    "### 设置您的 Google Cloud 项目\n",
    "\n",
    "**无论您使用什么笔记本环境，下面的步骤都是必需的。**\n",
    "\n",
    "1. [选择或创建一个 Google Cloud 项目](https://console.cloud.google.com/cloud-resource-manager)。当您第一次创建一个帐户时，您将获得 $300 的免费信用用于计算/存储成本。\n",
    "\n",
    "1. [确保为您的项目启用了计费](https://cloud.google.com/billing/docs/how-to/modify-project)。\n",
    "\n",
    "1. [启用 Vertex AI API 和 Compute Engine API](https://console.cloud.google.com/flows/enableapi?apiid=aiplatform.googleapis.com,compute_component)。\n",
    "\n",
    "1. 如果您在本地运行这个笔记本，您需要安装[Cloud SDK](https://cloud.google.com/sdk)。"
   ]
  },
  {
   "cell_type": "markdown",
   "metadata": {
    "id": "WReHDGG5g0XY"
   },
   "source": [
    "设置您的项目ID\n",
    "\n",
    "**如果您不知道您的项目ID**，请尝试以下操作：\n",
    "* 运行`gcloud config list`。\n",
    "* 运行`gcloud projects list`。\n",
    "* 查看支持页面：[查找项目ID](https://support.google.com/googleapi/answer/7014113)"
   ]
  },
  {
   "cell_type": "code",
   "execution_count": null,
   "metadata": {
    "id": "oM1iC_MfAts1"
   },
   "outputs": [],
   "source": [
    "PROJECT_ID = \"[your-project-id]\"  # @param {type:\"string\"}\n",
    "\n",
    "# Set the project id\n",
    "! gcloud config set project {PROJECT_ID}"
   ]
  },
  {
   "cell_type": "markdown",
   "metadata": {
    "id": "region"
   },
   "source": [
    "#### 区域\n",
    "\n",
    "您还可以更改 Vertex AI 使用的 `REGION` 变量。了解有关 [Vertex AI 区域](https://cloud.google.com/vertex-ai/docs/general/locations) 的更多信息。"
   ]
  },
  {
   "cell_type": "code",
   "execution_count": null,
   "metadata": {
    "id": "twgKk-LsLmX3"
   },
   "outputs": [],
   "source": [
    "REGION = \"us-central1\"  # @param {type: \"string\"}"
   ]
  },
  {
   "cell_type": "markdown",
   "metadata": {
    "id": "sBCra4QMA2wR"
   },
   "source": [
    "### 验证您的Google Cloud账户\n",
    "\n",
    "根据您的Jupyter环境，您可能需要手动进行身份验证。请按下面的相关说明进行操作。"
   ]
  },
  {
   "cell_type": "markdown",
   "metadata": {
    "id": "74ccc9e52986"
   },
   "source": [
    "1. 顶点 AI 工作台\n",
    "* 无需做任何操作，因为您已经通过验证。"
   ]
  },
  {
   "cell_type": "markdown",
   "metadata": {
    "id": "de775a3773ba"
   },
   "source": [
    "本地JupyterLab实例，请取消注释并运行:"
   ]
  },
  {
   "cell_type": "code",
   "execution_count": null,
   "metadata": {
    "id": "254614fa0c46"
   },
   "outputs": [],
   "source": [
    "# ! gcloud auth login"
   ]
  },
  {
   "cell_type": "markdown",
   "metadata": {
    "id": "ef21552ccea8"
   },
   "source": [
    "3. 合作、取消注释并运行:"
   ]
  },
  {
   "cell_type": "code",
   "execution_count": null,
   "metadata": {
    "id": "603adbbf0532"
   },
   "outputs": [],
   "source": [
    "# from google.colab import auth\n",
    "# auth.authenticate_user()"
   ]
  },
  {
   "cell_type": "markdown",
   "metadata": {
    "id": "f6b2ccc891ed"
   },
   "source": [
    "4. 服务账号或其他\n",
    "* 查看如何为您的服务账号授予Cloud Storage权限，请访问https://cloud.google.com/storage/docs/gsutil/commands/iam#ch-examples。"
   ]
  },
  {
   "cell_type": "markdown",
   "metadata": {
    "id": "zgPO1eR3CYjk"
   },
   "source": [
    "创建一个云存储桶\n",
    "\n",
    "创建一个存储桶，用于存储中间产物，例如数据集。"
   ]
  },
  {
   "cell_type": "code",
   "execution_count": null,
   "metadata": {
    "id": "MzGDU7TWdts_"
   },
   "outputs": [],
   "source": [
    "BUCKET_URI = f\"gs://your-bucket-name-{PROJECT_ID}-unique\"  # @param {type:\"string\"}"
   ]
  },
  {
   "cell_type": "markdown",
   "metadata": {
    "id": "-EcIXiGsCePi"
   },
   "source": [
    "只有在您的存储桶尚不存在时才能运行以下单元格来创建您的云存储桶。"
   ]
  },
  {
   "cell_type": "code",
   "execution_count": null,
   "metadata": {
    "id": "NIq7R4HZCfIc"
   },
   "outputs": [],
   "source": [
    "! gsutil mb -l {REGION} -p {PROJECT_ID} {BUCKET_URI}"
   ]
  },
  {
   "cell_type": "markdown",
   "metadata": {
    "id": "960505627ddf"
   },
   "source": [
    "### 导入库"
   ]
  },
  {
   "cell_type": "code",
   "execution_count": null,
   "metadata": {
    "id": "PyQmSRbKA8r-"
   },
   "outputs": [],
   "source": [
    "import base64\n",
    "import glob\n",
    "import os\n",
    "import random\n",
    "import shutil\n",
    "from datetime import datetime\n",
    "from io import BytesIO\n",
    "\n",
    "import numpy as np\n",
    "from google.cloud import aiplatform\n",
    "from google.protobuf import json_format\n",
    "from google.protobuf.struct_pb2 import Value\n",
    "from PIL import Image"
   ]
  },
  {
   "cell_type": "markdown",
   "metadata": {
    "id": "init_aip:mbsdk,all"
   },
   "source": [
    "### 初始化用于 Python 的 Vertex AI SDK\n",
    "\n",
    "为您的项目初始化用于 Python 的 Vertex AI SDK。"
   ]
  },
  {
   "cell_type": "code",
   "execution_count": null,
   "metadata": {
    "id": "vS1hQiGuLmX4"
   },
   "outputs": [],
   "source": [
    "staging_bucket = os.path.join(BUCKET_URI, \"jax_vit_staging\")\n",
    "aiplatform.init(project=PROJECT_ID, location=REGION, staging_bucket=staging_bucket)"
   ]
  },
  {
   "cell_type": "markdown",
   "metadata": {
    "id": "2cc825514deb"
   },
   "source": [
    "定义常量"
   ]
  },
  {
   "cell_type": "code",
   "execution_count": null,
   "metadata": {
    "id": "b42bd4fa2b2d"
   },
   "outputs": [],
   "source": [
    "# The pre-built training docker image.\n",
    "TRAIN_DOCKER_URI = \"us-docker.pkg.dev/vertex-ai-restricted/vertex-vision-model-garden-dockers/jax-vit-train-gpu\"\n",
    "# The pre-built TF SavedModel conversion docker image.\n",
    "MODEL_CONVERSION_DOCKER_URI = \"us-docker.pkg.dev/vertex-ai-restricted/vertex-vision-model-garden-dockers/jax-vit-model-conversion\"\n",
    "# The pre-built prediction docker image.\n",
    "OPTIMIZED_TF_RUNTIME_IMAGE_URI = (\n",
    "    \"us-docker.pkg.dev/vertex-ai-restricted/prediction/tf_opt-gpu.nightly:latest\"\n",
    ")"
   ]
  },
  {
   "cell_type": "markdown",
   "metadata": {
    "id": "0c250872074f"
   },
   "source": [
    "### 定义常用函数\n",
    "\n",
    "本节定义以下功能：\n",
    "\n",
    "- 将 [tf_flowers 数据集](https://www.tensorflow.org/datasets/catalog/tf_flowers) 的图像分割为 `train` 和 `test` 文件夹。\n",
    "- 将类似 `gs://bucket-name` 的 Cloud Storage 路径转换为 GCSFuse 路径格式，例如 `/gcsfuse/bucket-name`。\n",
    "- 将本地图像文件编码为字符串，用于预测输入。"
   ]
  },
  {
   "cell_type": "code",
   "execution_count": null,
   "metadata": {
    "id": "XcYUGwr-AJGY"
   },
   "outputs": [],
   "source": [
    "def split(base_dir, test_ratio=0.1):\n",
    "    \"\"\"Splits images and moves them to train and test folders.\"\"\"\n",
    "    paths = glob.glob(f\"{base_dir}/*/*.jpg\")\n",
    "    random.shuffle(paths)\n",
    "    counts = dict(test=0, train=0)\n",
    "    for i, path in enumerate(paths):\n",
    "        split = \"test\" if i < test_ratio * len(paths) else \"train\"\n",
    "        *_, class_name, basename = path.split(\"/\")\n",
    "        dst = f\"{base_dir}/{split}/{class_name}/{basename}\"\n",
    "        if not os.path.isdir(os.path.dirname(dst)):\n",
    "            os.makedirs(os.path.dirname(dst))\n",
    "        shutil.move(path, dst)\n",
    "        counts[split] += 1\n",
    "    print(f'Moved {counts[\"train\"]:,} train and {counts[\"test\"]:,} test images.')\n",
    "\n",
    "\n",
    "def gcs_fuse_path(path: str) -> str:\n",
    "    \"\"\"Try to convert path to gcsfuse path if it starts with gs:// else do not modify it.\"\"\"\n",
    "    path = path.strip()\n",
    "    if path.startswith(\"gs://\"):\n",
    "        return \"/gcs/\" + path[5:]\n",
    "    return path\n",
    "\n",
    "\n",
    "def load_bytes_from_local_image(local_image_path, new_width=-1):\n",
    "    \"\"\"Returns encoded image string for prediction input.\"\"\"\n",
    "    image = Image.open(local_image_path)\n",
    "    if new_width <= 0:\n",
    "        new_image = image\n",
    "    else:\n",
    "        width, height = image.size\n",
    "        print(\"original input image size: \", width, \" , \", height)\n",
    "        new_height = int(height * new_width / width)\n",
    "        print(\"new input image size: \", new_width, \" , \", new_height)\n",
    "        new_image = image.resize((new_width, new_height))\n",
    "    buffered = BytesIO()\n",
    "    new_image.save(buffered, format=\"JPEG\")\n",
    "    encoded_string = base64.b64encode(buffered.getvalue()).decode(\"utf-8\")\n",
    "    return encoded_string"
   ]
  },
  {
   "cell_type": "markdown",
   "metadata": {
    "id": "X0wWrfhDC8ni"
   },
   "source": [
    "准备数据集\n",
    "\n",
    "如果您没有使用[TensorFlow Datasets](https://www.tensorflow.org/datasets/catalog/overview#all_datasets)，那么您需要准备您的数据集并将其存储在云存储中。以下示例展示了如何为[tf_flowers数据集](https://www.tensorflow.org/datasets/catalog/tf_flowers)执行此操作。如果使用了TensorFlow Datasets，则将数据集名称（如`tf_flowers`）传递给`--config.dataset`标志，并跳过此部分。"
   ]
  },
  {
   "cell_type": "code",
   "execution_count": null,
   "metadata": {
    "id": "LW31Ws1RN9AC"
   },
   "outputs": [],
   "source": [
    "local_flower_data_directory = \"./flower_photos\"  # @param {type:\"string\"}\n",
    "FLOWER_DATA_GCS_PATH = os.path.join(BUCKET_URI, \"flower_dataset\")\n",
    "# The flower dataset has 5 classes.\n",
    "NUM_CLASSES = 5\n",
    "# NOTE: For custom dataset, the training code picks the class names\n",
    "# from the folder structure and then sorts them to create a mapping\n",
    "# from class-index to class-name. This is why the mapping below\n",
    "# looks different from default `tf_flowers` documentation.\n",
    "LABEL_IDX_TO_STR = {\n",
    "    0: \"daisy\",\n",
    "    1: \"dandelion\",\n",
    "    2: \"roses\",\n",
    "    3: \"sunflowers\",\n",
    "    4: \"tulips\",\n",
    "}"
   ]
  },
  {
   "cell_type": "code",
   "execution_count": null,
   "metadata": {
    "id": "heMhYO-DD4II"
   },
   "outputs": [],
   "source": [
    "# Download flower data to a local directory.\n",
    "! rm -rf $local_flower_data_directory;\n",
    "! (cd \"./\" && curl https://storage.googleapis.com/download.tensorflow.org/example_images/flower_photos.tgz | tar xz)"
   ]
  },
  {
   "cell_type": "code",
   "execution_count": null,
   "metadata": {
    "id": "YtWxe2y8Gqzl"
   },
   "outputs": [],
   "source": [
    "# Since the default file format of above \"tf_flowers\" dataset is\n",
    "# flower_photos/{class_name}/{filename}.jpg\n",
    "# we first need to split it into a \"train\" (90%) and a \"test\" (10%) set:\n",
    "# flower_photos/train/{class_name}/{filename}.jpg\n",
    "# flower_photos/test/{class_name}/{filename}.jpg\n",
    "\n",
    "split(local_flower_data_directory)"
   ]
  },
  {
   "cell_type": "code",
   "execution_count": null,
   "metadata": {
    "id": "g043ydQ_wlpk"
   },
   "outputs": [],
   "source": [
    "# Move Flower data from local directory to Cloud Storage.\n",
    "# This step takes around 2 mins to finish.\n",
    "! gsutil -m cp -R $local_flower_data_directory/train/* $FLOWER_DATA_GCS_PATH/train/\n",
    "! gsutil -m cp -R $local_flower_data_directory/test/* $FLOWER_DATA_GCS_PATH/test/"
   ]
  },
  {
   "cell_type": "markdown",
   "metadata": {
    "id": "aCpLmWPMpJQ8"
   },
   "source": [
    "使用Vertex AI SDK创建和运行使用model-garden JAX视觉转换器训练docker的训练作业。 训练使用一个V100 GPU，在训练作业开始后大约运行10分钟。"
   ]
  },
  {
   "cell_type": "code",
   "execution_count": null,
   "metadata": {
    "id": "aec22792ee84"
   },
   "outputs": [],
   "source": [
    "# Set up training docker arguments.\n",
    "\n",
    "TIMESTAMP = datetime.now().strftime(\"%Y%m%d_%H%M%S\")\n",
    "JOB_NAME = \"jax_vision_transformer\" + TIMESTAMP\n",
    "\n",
    "finetuning_workdir = os.path.join(BUCKET_URI, JOB_NAME)\n",
    "pre_trained_dir = \"gs://vit_models/imagenet21k\"\n",
    "docker_args_list = [\n",
    "    \"--config\",\n",
    "    \"vit_jax/configs/vit.py:b16\",\n",
    "    \"--config.dataset\",\n",
    "    f\"{gcs_fuse_path(FLOWER_DATA_GCS_PATH)}\",\n",
    "    \"--config.pp.train\",\n",
    "    \"train\",\n",
    "    \"--config.pp.test\",\n",
    "    \"test\",\n",
    "    \"--config.pretrained_dir\",\n",
    "    f\"{gcs_fuse_path(pre_trained_dir)}\",\n",
    "    \"--config.batch\",\n",
    "    \"128\",\n",
    "    \"--config.batch_eval\",\n",
    "    \"128\",\n",
    "    \"--config.base_lr\",\n",
    "    \"0.01\",\n",
    "    \"--config.shuffle_buffer\",\n",
    "    \"1000\",\n",
    "    \"--config.total_steps\",\n",
    "    \"100\",\n",
    "    \"--config.warmup_steps\",\n",
    "    \"10\",\n",
    "    \"--config.pp.crop\",\n",
    "    \"224\",\n",
    "    \"--workdir\",\n",
    "    f\"{gcs_fuse_path(finetuning_workdir)}\",\n",
    "]\n",
    "print(docker_args_list)"
   ]
  },
  {
   "cell_type": "code",
   "execution_count": null,
   "metadata": {
    "id": "2ELphfgj1f3Q"
   },
   "outputs": [],
   "source": [
    "# Create and run the training job.\n",
    "# Click on the generated link in the output under \"View backing custom job:\" to see your run in the Cloud Console.\n",
    "NUM_GPU = 1\n",
    "container_uri = TRAIN_DOCKER_URI\n",
    "job = aiplatform.CustomContainerTrainingJob(\n",
    "    display_name=JOB_NAME,\n",
    "    container_uri=container_uri,\n",
    ")\n",
    "model = job.run(\n",
    "    args=docker_args_list,\n",
    "    base_output_dir=f\"{finetuning_workdir}\",\n",
    "    replica_count=1,\n",
    "    machine_type=\"n1-standard-4\",\n",
    "    accelerator_type=\"NVIDIA_TESLA_V100\",\n",
    "    accelerator_count=NUM_GPU,\n",
    ")"
   ]
  },
  {
   "cell_type": "markdown",
   "metadata": {
    "id": "-2qiROKIONnI"
   },
   "source": [
    "将之前微调的JAX模型转换为TF SavedModel，用于在线预测。"
   ]
  },
  {
   "cell_type": "code",
   "execution_count": null,
   "metadata": {
    "id": "6Y7slAFLOwlV"
   },
   "outputs": [],
   "source": [
    "# Set up model conversion docker arguments.\n",
    "# Note: Many of the arguments below are similar to the training job\n",
    "# such as the model name and train and test data related parameters.\n",
    "\n",
    "jax_checkpoint_dir = finetuning_workdir\n",
    "\n",
    "TIMESTAMP = datetime.now().strftime(\"%Y%m%d_%H%M%S\")\n",
    "JOB_NAME = \"jax_model_conversion\" + TIMESTAMP\n",
    "saved_model_dir = os.path.join(BUCKET_URI, \"jax2tf_\" + TIMESTAMP)\n",
    "\n",
    "docker_args_list = [\n",
    "    \"--config\",\n",
    "    \"vit_jax/configs/vit.py:b16\",\n",
    "    \"--num_classes\",\n",
    "    f\"{NUM_CLASSES}\",\n",
    "    \"--saved_model_dir\",\n",
    "    f\"{saved_model_dir}\",\n",
    "    \"--jax_checkpoint_dir\",\n",
    "    f\"{jax_checkpoint_dir}\",\n",
    "    \"--config.pretrained_dir\",\n",
    "    f\"{pre_trained_dir}\",\n",
    "    \"--config.dataset\",\n",
    "    f\"{gcs_fuse_path(FLOWER_DATA_GCS_PATH)}\",\n",
    "    \"--config.pp.train\",\n",
    "    \"train\",\n",
    "    \"--config.pp.test\",\n",
    "    \"test\",\n",
    "    \"--config.pp.crop\",\n",
    "    \"224\",\n",
    "]\n",
    "print(docker_args_list)"
   ]
  },
  {
   "cell_type": "code",
   "execution_count": null,
   "metadata": {
    "id": "0Acfh1VWUsTL"
   },
   "outputs": [],
   "source": [
    "# Create and run the model conversion job.\n",
    "# Click on the generated link in the output under \"View backing custom job:\" to see your run in the Cloud Console.\n",
    "container_uri = MODEL_CONVERSION_DOCKER_URI\n",
    "job = aiplatform.CustomContainerTrainingJob(\n",
    "    display_name=JOB_NAME,\n",
    "    container_uri=container_uri,\n",
    ")\n",
    "model_conversion_workdir = os.path.join(BUCKET_URI, JOB_NAME)\n",
    "model = job.run(\n",
    "    args=docker_args_list,\n",
    "    base_output_dir=f\"{model_conversion_workdir}\",\n",
    "    replica_count=1,\n",
    "    machine_type=\"n1-standard-4\",\n",
    ")"
   ]
  },
  {
   "cell_type": "markdown",
   "metadata": {
    "id": "iILhhP3TfO8B"
   },
   "source": [
    "## 运行在线预测\n",
    "\n",
    "使用转换后的TF SavedModel 运行在线预测。"
   ]
  },
  {
   "cell_type": "markdown",
   "metadata": {
    "id": "XswgX6JqRwFK"
   },
   "source": [
    "上传 TF SavedModel 并部署到一个终端点进行预测。这一步大约需要15分钟完成。"
   ]
  },
  {
   "cell_type": "code",
   "execution_count": null,
   "metadata": {
    "id": "74yqis5ufO8B"
   },
   "outputs": [],
   "source": [
    "serving_env = {\n",
    "    \"MODEL_ID\": \"ViT-JAX-\",\n",
    "    \"DEPLOY_SOURCE\": \"notebook\",\n",
    "}\n",
    "\n",
    "jax_vit_model = aiplatform.Model.upload(\n",
    "    display_name=\"jax_vit\",\n",
    "    artifact_uri=saved_model_dir,\n",
    "    serving_container_image_uri=OPTIMIZED_TF_RUNTIME_IMAGE_URI,\n",
    "    serving_container_args=[],\n",
    "    location=REGION,\n",
    "    serving_container_environment_variables=serving_env,\n",
    ")\n",
    "\n",
    "jax_vit_endpoint = jax_vit_model.deploy(\n",
    "    deployed_model_display_name=\"jax_vit_deployed\",\n",
    "    traffic_split={\"0\": 100},\n",
    "    machine_type=\"n1-standard-4\",\n",
    "    accelerator_type=\"NVIDIA_TESLA_V100\",\n",
    "    accelerator_count=1,\n",
    "    min_replica_count=1,\n",
    "    max_replica_count=1,\n",
    ")"
   ]
  },
  {
   "cell_type": "markdown",
   "metadata": {
    "id": "iiozz1aVR7Pe"
   },
   "source": [
    "加载本地测试图像文件，将其编码为字符串，发送到端点进行预测，然后从预测的类别概率生成最终的类别标签。"
   ]
  },
  {
   "cell_type": "code",
   "execution_count": null,
   "metadata": {
    "id": "qxj4Xv_DhHXj"
   },
   "outputs": [],
   "source": [
    "test_directory = os.path.join(local_flower_data_directory, \"test/tulips\")\n",
    "local_test_image_path = os.path.join(test_directory, os.listdir(test_directory)[0])\n",
    "print(local_test_image_path)\n",
    "instances_list = [\n",
    "    {\n",
    "        \"bytes_inputs\": {\n",
    "            \"b64\": load_bytes_from_local_image(local_test_image_path, new_width=240)\n",
    "        }\n",
    "    }\n",
    "]\n",
    "instances = [json_format.ParseDict(s, Value()) for s in instances_list]\n",
    "results = jax_vit_endpoint.predict(instances=instances)\n",
    "logits = results.predictions[0]\n",
    "predicted_label = LABEL_IDX_TO_STR[int(np.argmax(logits))]\n",
    "print(\"predicted_label: \", predicted_label)"
   ]
  },
  {
   "cell_type": "markdown",
   "metadata": {
    "id": "TpV-iwP9qw9c"
   },
   "source": [
    "清理\n",
    "\n",
    "要清理此项目中使用的所有Google Cloud资源，您可以删除用于该教程的[Google Cloud 项目](https://cloud.google.com/resource-manager/docs/creating-managing-projects#shutting_down_projects)。\n",
    "\n",
    "否则，您可以删除在此教程中创建的各个资源。"
   ]
  },
  {
   "cell_type": "code",
   "execution_count": null,
   "metadata": {
    "id": "sx_vKniMq9ZX"
   },
   "outputs": [],
   "source": [
    "# Delete endpoint resource.\n",
    "jax_vit_endpoint.delete(force=True)\n",
    "\n",
    "# Delete model resource.\n",
    "jax_vit_model.delete()\n",
    "\n",
    "# Delete Cloud Storage objects that were created.\n",
    "delete_bucket = True\n",
    "if delete_bucket or os.getenv(\"IS_TESTING\"):\n",
    "    ! gsutil -m rm -r $BUCKET_URI"
   ]
  }
 ],
 "metadata": {
  "colab": {
   "name": "model_garden_jax_vision_transformer.ipynb",
   "toc_visible": true
  },
  "kernelspec": {
   "display_name": "Python 3",
   "name": "python3"
  }
 },
 "nbformat": 4,
 "nbformat_minor": 0
}
