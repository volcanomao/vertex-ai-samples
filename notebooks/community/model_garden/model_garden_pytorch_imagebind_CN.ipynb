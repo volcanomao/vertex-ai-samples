{
 "cells": [
  {
   "cell_type": "code",
   "execution_count": null,
   "metadata": {
    "id": "7d9bbf86da5e"
   },
   "outputs": [],
   "source": [
    "# Copyright 2023 Google LLC\n",
    "#\n",
    "# Licensed under the Apache License, Version 2.0 (the \"License\");\n",
    "# you may not use this file except in compliance with the License.\n",
    "# You may obtain a copy of the License at\n",
    "#\n",
    "#     https://www.apache.org/licenses/LICENSE-2.0\n",
    "#\n",
    "# Unless required by applicable law or agreed to in writing, software\n",
    "# distributed under the License is distributed on an \"AS IS\" BASIS,\n",
    "# WITHOUT WARRANTIES OR CONDITIONS OF ANY KIND, either express or implied.\n",
    "# See the License for the specific language governing permissions and\n",
    "# limitations under the License."
   ]
  },
  {
   "cell_type": "markdown",
   "metadata": {
    "id": "99c1c3fc2ca5"
   },
   "source": [
    "# Vertex AI模型花园 - ImageBind\n",
    "\n",
    "<table align=\"left\">\n",
    "  <td>\n",
    "    <a href=\"https://colab.research.google.com/github/GoogleCloudPlatform/vertex-ai-samples/blob/main/notebooks/community/model_garden/model_garden_pytorch_imagebind.ipynb\">\n",
    "      <img src=\"https://cloud.google.com/ml-engine/images/colab-logo-32px.png\" alt=\"Colab logo\"> 在Colab中运行\n",
    "    </a>\n",
    "  </td>\n",
    "  <td>\n",
    "    <a href=\"https://github.com/GoogleCloudPlatform/vertex-ai-samples/blob/main/notebooks/community/model_garden/model_garden_pytorch_imagebind.ipynb\">\n",
    "      <img src=\"https://cloud.google.com/ml-engine/images/github-logo-32px.png\" alt=\"GitHub logo\">\n",
    "      在GitHub上查看\n",
    "    </a>\n",
    "  </td>\n",
    "  <td>\n",
    "    <a href=\"https://console.cloud.google.com/vertex-ai/notebooks/deploy-notebook?download_url=https://raw.githubusercontent.com/GoogleCloudPlatform/vertex-ai-samples/main/notebooks/community/model_garden/model_garden_pytorch_imagebind.ipynb\">\n",
    "      <img src=\"https://lh3.googleusercontent.com/UiNooY4LUgW_oTvpsNhPpQzsstV5W8F7rYgxgGBD85cWJoLmrOzhVs_ksK_vgx40SHs7jCqkTkCk=e14-rj-sc0xffffff-h130-w32\" alt=\"Vertex AI logo\">\n",
    "在Vertex AI Workbench中打开\n",
    "    </a>（建议使用Python-3 CPU笔记本）\n",
    "  </td>\n",
    "</table>"
   ]
  },
  {
   "cell_type": "markdown",
   "metadata": {
    "id": "3de7470326a2"
   },
   "source": [
    "## 概述\n",
    "\n",
    "本笔记本演示了在Vertex AI中部署预构建的Imagebind模型进行在线预测。\n",
    "\n",
    "### 目标\n",
    "\n",
    "- 将ImageBind模型上传到[Vertex AI模型注册表](https://cloud.google.com/vertex-ai/docs/model-registry/introduction)。\n",
    "- 将ImageBind部署到[Vertex AI端点资源](https://cloud.google.com/vertex-ai/docs/predictions/using-private-endpoints)。\n",
    "- 运行在线预测以生成特征嵌入和零样本分类。\n",
    "\n",
    "### 成本\n",
    "\n",
    "本教程使用Google Cloud的计费组件：\n",
    "\n",
    "* Vertex AI\n",
    "* Cloud Storage\n",
    "\n",
    "了解[Vertex AI定价](https://cloud.google.com/vertex-ai/pricing)和[Cloud Storage定价](https://cloud.google.com/storage/pricing)，并使用[定价计算器](https://cloud.google.com/products/calculator/)根据您的预期使用量生成成本估算。"
   ]
  },
  {
   "cell_type": "markdown",
   "metadata": {
    "id": "264c07757582"
   },
   "source": [
    "## 开始之前\n",
    "\n",
    "**注意**: Jupyter会将前缀为`!`的行作为shell命令运行，并且会将前缀为`$`的Python变量插入到这些命令中。"
   ]
  },
  {
   "cell_type": "markdown",
   "metadata": {
    "id": "ioensNKM8ned"
   },
   "source": [
    "只能使用 Colab\n",
    "如果您使用的是工作台，请跳过此部分，并运行以下命令。"
   ]
  },
  {
   "cell_type": "code",
   "execution_count": null,
   "metadata": {
    "id": "2707b02ef5df"
   },
   "outputs": [],
   "source": [
    "import sys\n",
    "\n",
    "if \"google.colab\" in sys.modules:\n",
    "    ! pip3 install --upgrade google-cloud-aiplatform\n",
    "    from google.colab import auth as google_auth\n",
    "\n",
    "    google_auth.authenticate_user()\n",
    "\n",
    "    # Restart the notebook kernel after installs.\n",
    "    import IPython\n",
    "\n",
    "    app = IPython.Application.instance()\n",
    "    app.kernel.do_shutdown(True)"
   ]
  },
  {
   "cell_type": "markdown",
   "metadata": {
    "id": "bb7adab99e41"
   },
   "source": [
    "### 设置 Google Cloud 项目\n",
    "\n",
    "1. [选择或创建 Google Cloud 项目](https://console.cloud.google.com/cloud-resource-manager)。当您第一次创建帐户时，您将获得300美元的免费信用额，可用于您的计算/存储成本。\n",
    "\n",
    "2. [确保项目已启用计费功能](https://cloud.google.com/billing/docs/how-to/modify-project)。\n",
    "\n",
    "3. [启用 Vertex AI API 和 Compute Engine API](https://console.cloud.google.com/flows/enableapi?apiid=aiplatform.googleapis.com,compute_component.googleapis.com)。\n",
    "\n",
    "4. [创建一个云存储桶](https://cloud.google.com/storage/docs/creating-buckets)，用于存储实验结果。\n",
    "\n",
    "5. [创建一个服务帐号](https://cloud.google.com/iam/docs/service-accounts-create#iam-service-accounts-create-console)，具有“Vertex AI用户”和“存储对象管理员”角色，以将优化后的模型部署到 Vertex AI 端点。"
   ]
  },
  {
   "cell_type": "markdown",
   "metadata": {
    "id": "6c460088b873"
   },
   "source": [
    "设置实验环境的以下变量。指定的云存储桶（BUCKET_URI）应该位于指定的区域（REGION）。请注意，一个多区域的存储桶（例如“us”）不被视为与多区域范围覆盖的单个区域（例如“us-central1”）匹配。"
   ]
  },
  {
   "cell_type": "code",
   "execution_count": null,
   "metadata": {
    "id": "855d6b96f291"
   },
   "outputs": [],
   "source": [
    "# Cloud project id.\n",
    "PROJECT_ID = \"\"  # @param {type:\"string\"}\n",
    "\n",
    "# The region you want to launch jobs in.\n",
    "REGION = \"\"  # @param {type:\"string\"}\n",
    "\n",
    "# The Cloud Storage bucket for storing experiments output.\n",
    "# Start with gs:// prefix, e.g. gs://foo_bucket.\n",
    "BUCKET_URI = \"gs://\"  # @param {type:\"string\"}\n",
    "\n",
    "! gcloud config set project $PROJECT_ID\n",
    "\n",
    "import os\n",
    "\n",
    "STAGING_BUCKET = os.path.join(BUCKET_URI, \"temporal\")\n",
    "DATA_BUCKET = os.path.join(BUCKET_URI, \"data\")\n",
    "\n",
    "# The service account looks like:\n",
    "# '@.iam.gserviceaccount.com'\n",
    "# Please go to https://cloud.google.com/iam/docs/service-accounts-create#iam-service-accounts-create-console\n",
    "# and create service account with `Vertex AI User` and `Storage Object Admin` roles.\n",
    "# The service account for deploying fine tuned model.\n",
    "SERVICE_ACCOUNT = \"\"  # @param {type:\"string\"}"
   ]
  },
  {
   "cell_type": "markdown",
   "metadata": {
    "id": "e828eb320337"
   },
   "source": [
    "### 初始化 Vertex AI API"
   ]
  },
  {
   "cell_type": "code",
   "execution_count": null,
   "metadata": {
    "id": "12cd25839741"
   },
   "outputs": [],
   "source": [
    "from google.cloud import aiplatform\n",
    "\n",
    "aiplatform.init(project=PROJECT_ID, location=REGION, staging_bucket=STAGING_BUCKET)"
   ]
  },
  {
   "cell_type": "markdown",
   "metadata": {
    "id": "2cc825514deb"
   },
   "source": [
    "### 定义常量"
   ]
  },
  {
   "cell_type": "code",
   "execution_count": null,
   "metadata": {
    "id": "b42bd4fa2b2d"
   },
   "outputs": [],
   "source": [
    "# The pre-built serving docker image.\n",
    "PREDICTION_DOCKER_URI = \"us-docker.pkg.dev/vertex-ai/vertex-vision-model-garden-dockers/pytorch-imagebind-serve\""
   ]
  },
  {
   "cell_type": "markdown",
   "metadata": {
    "id": "0c250872074f"
   },
   "source": [
    "定义常见功能"
   ]
  },
  {
   "cell_type": "code",
   "execution_count": null,
   "metadata": {
    "id": "354da31189dc"
   },
   "outputs": [],
   "source": [
    "import os\n",
    "from datetime import datetime\n",
    "\n",
    "import numpy as np\n",
    "\n",
    "\n",
    "def get_job_name_with_datetime(prefix: str) -> str:\n",
    "    \"\"\"Gets the job name with date time when triggering deployment jobs.\"\"\"\n",
    "    return prefix + datetime.now().strftime(\"_%Y%m%d_%H%M%S\")\n",
    "\n",
    "\n",
    "def deploy_model(\n",
    "    model_name: str,\n",
    "    service_account: str,\n",
    "    task: str,\n",
    "    machine_type: str = \"g2-standard-8\",\n",
    "    accelerator_type: str = \"NVIDIA_L4\",\n",
    "    accelerator_count: str = 1,\n",
    ") -> tuple[aiplatform.Model, aiplatform.Endpoint]:\n",
    "    \"\"\"Deploys prebuilt model in Vertex AI.\"\"\"\n",
    "    endpoint = aiplatform.Endpoint.create(display_name=f\"{model_name}-{task}-endpoint\")\n",
    "    serving_env = {\n",
    "        \"MODEL_ID\": \"ImageBind-feature-embedding-generation-001\",\n",
    "        \"TASK\": task,\n",
    "        \"DEPLOY_SOURCE\": \"notebook\",\n",
    "    }\n",
    "    model = aiplatform.Model.upload(\n",
    "        display_name=f\"{model_name}-{task}\",\n",
    "        serving_container_image_uri=PREDICTION_DOCKER_URI,\n",
    "        serving_container_ports=[7080],\n",
    "        serving_container_predict_route=\"/predictions/imagebind_serving\",\n",
    "        serving_container_health_route=\"/ping\",\n",
    "        serving_container_environment_variables=serving_env,\n",
    "    )\n",
    "    model.deploy(\n",
    "        endpoint=endpoint,\n",
    "        machine_type=machine_type,\n",
    "        accelerator_type=accelerator_type,\n",
    "        accelerator_count=accelerator_count,\n",
    "        deploy_request_timeout=1800,\n",
    "        service_account=service_account,\n",
    "    )\n",
    "    return model, endpoint"
   ]
  },
  {
   "cell_type": "markdown",
   "metadata": {
    "id": "8neJc8CnDDpu"
   },
   "source": [
    "部署预构建的ImageBind模型\n",
    "\n",
    "本部分在Vertex AI端点上部署预构建的ImageBind模型，用于特征嵌入生成和零-shot分类任务。模型部署步骤将需要大约15分钟才能完成。"
   ]
  },
  {
   "cell_type": "code",
   "execution_count": null,
   "metadata": {
    "id": "e7edb830212d"
   },
   "outputs": [],
   "source": [
    "# Prepares example input data.\n",
    "! git clone https://github.com/facebookresearch/ImageBind.git\n",
    "%cd ImageBind/.assets\n",
    "! git reset --hard 95d27c7fd5a8362f3527e176c3a80ae5a4d880c0\n",
    "\n",
    "! gsutil cp -r . $DATA_BUCKET\n",
    "\n",
    "%cd ../.."
   ]
  },
  {
   "cell_type": "markdown",
   "metadata": {
    "id": "52c0776ea427"
   },
   "source": [
    "### 部署预构建的 ImageBind 模型用于特征嵌入生成\n",
    "\n",
    "在本节中，我们部署一个 ImageBind，用于为不同的数据模态生成特征嵌入。\n",
    "\n",
    "ImageBind 模型的峰值 GPU 内存使用量约为 8G。请相应调整机器类型、加速器类型和加速器数量。我们在部署中使用一个 L4（24G）作为示例。"
   ]
  },
  {
   "cell_type": "code",
   "execution_count": null,
   "metadata": {
    "id": "641375dce6a1"
   },
   "outputs": [],
   "source": [
    "task = \"feature-embedding-generation\""
   ]
  },
  {
   "cell_type": "code",
   "execution_count": null,
   "metadata": {
    "id": "Uak1pyEeExYM"
   },
   "outputs": [],
   "source": [
    "# Finds Vertex AI prediction supported accelerators and regions in\n",
    "#  https://cloud.google.com/vertex-ai/docs/predictions/configure-compute.\n",
    "\n",
    "# Sets L4 to deploy ImageBind.\n",
    "machine_type = \"g2-standard-8\"\n",
    "accelerator_type = \"NVIDIA_L4\"\n",
    "accelerator_count = 1\n",
    "\n",
    "# Sets V100 to deploy ImageBind.\n",
    "# machine_type = \"n1-standard-8\"\n",
    "# accelerator_type = \"NVIDIA_TESLA_V100\"\n",
    "# accelerator_count = 1\n",
    "\n",
    "model, endpoint = deploy_model(\n",
    "    model_name=get_job_name_with_datetime(prefix=\"ImageBind-serve\"),\n",
    "    service_account=SERVICE_ACCOUNT,\n",
    "    task=task,\n",
    "    machine_type=machine_type,\n",
    "    accelerator_type=accelerator_type,\n",
    "    accelerator_count=accelerator_count,\n",
    ")\n",
    "print(f\"Endpoint name: {endpoint.name}\")"
   ]
  },
  {
   "cell_type": "markdown",
   "metadata": {
    "id": "sGKIjgmDFRW2"
   },
   "source": [
    "注意：部署成功后，预构建的模型权重将在部署后动态下载。因此，在上述模型部署步骤成功之后，需要额外等待5分钟才能运行下面的步骤。否则，在向端点发送请求时，可能会出现“ServiceUnavailable: 503 502:Bad Gateway”错误。\n",
    "\n",
    "一旦部署成功，您可以使用文本提示、GCS图像路径、深度、热像、视频和音频数据文件以及IMU数据发送请求到端点。\n",
    "\n",
    "输入规范如下：\n",
    "- **文本**：由键“text”索引的文本提示列表\n",
    "- **图像**：由键“vision”索引的3通道RGB图像的GCS路径列表\n",
    "- **深度图像**：由键“depth”索引的1通道深度图像的GCS路径列表\n",
    "- **热像图像**：由键“thermal”索引的1通道热像图像的GCS路径列表\n",
    "- **视频**：由键“video”索引的3通道RGB视频的GCS路径列表\n",
    "- **音频**：由键“audio”索引的波形文件的GCS路径列表\n",
    "- **IMU**：由键“imu”索引的形状为[6, 2000]的张量列表（第一维对应于沿X、Y、Z轴的加速计和陀螺仪测量；第二维对应于采样率为200Hz的10秒剪辑）\n",
    "\n",
    "请参见下面的示例。"
   ]
  },
  {
   "cell_type": "code",
   "execution_count": null,
   "metadata": {
    "id": "rDHsCOqvFYBi"
   },
   "outputs": [],
   "source": [
    "# Loads an existing endpoint instance using the endpoint name:\n",
    "# - Using `endpoint_name = endpoint.name` allows us to get the endpoint name of\n",
    "#   the endpoint `endpoint` created in the cell above.\n",
    "# - Alternatively, you can set `endpoint_name = \"1234567890123456789\"` to load\n",
    "#   an existing endpoint with the ID 1234567890123456789.\n",
    "# You may uncomment the code below to load an existing endpoint.\n",
    "\n",
    "# endpoint_name = endpoint.name\n",
    "# # endpoint_name = \"\"  # @param {type:\"string\"}\n",
    "# aip_endpoint_name = (\n",
    "#     f\"projects/{PROJECT_ID}/locations/{REGION}/endpoints/{endpoint_name}\"\n",
    "# )\n",
    "# endpoint = aiplatform.Endpoint(aip_endpoint_name)\n",
    "\n",
    "\n",
    "# If you encounter the issue like `ServiceUnavailable: 503 Took too long to respond when processing`,\n",
    "# you can reduce the amount of input data.\n",
    "instances = [\n",
    "    {\n",
    "        \"text\": [\"A dog.\", \"A car\", \"A bird\"],\n",
    "        \"vision\": [\n",
    "            os.path.join(DATA_BUCKET, \"dog_image.jpg\"),\n",
    "            os.path.join(DATA_BUCKET, \"car_image.jpg\"),\n",
    "            os.path.join(DATA_BUCKET, \"bird_image.jpg\"),\n",
    "        ],\n",
    "        \"audio\": [\n",
    "            os.path.join(DATA_BUCKET, \"dog_audio.wav\"),\n",
    "            os.path.join(DATA_BUCKET, \"car_audio.wav\"),\n",
    "            os.path.join(DATA_BUCKET, \"bird_audio.wav\"),\n",
    "        ],\n",
    "    },\n",
    "]\n",
    "response = endpoint.predict(instances=instances)\n",
    "\n",
    "for modality, embedding in response.predictions[0].items():\n",
    "    print(f\"Modality {modality}: embedding shape {np.array(embedding).shape}\")"
   ]
  },
  {
   "cell_type": "markdown",
   "metadata": {
    "id": "af21a3cff1e0"
   },
   "source": [
    "清理资源"
   ]
  },
  {
   "cell_type": "code",
   "execution_count": null,
   "metadata": {
    "id": "911406c1561e"
   },
   "outputs": [],
   "source": [
    "# Undeploy model and delete endpoint.\n",
    "endpoint.delete(force=True)\n",
    "\n",
    "# Delete model.\n",
    "model.delete()"
   ]
  },
  {
   "cell_type": "markdown",
   "metadata": {
    "id": "f10b8d5bb80a"
   },
   "source": [
    "### 部署预先构建的ImageBind模型进行零样本分类\n",
    "\n",
    "在这一部分中，我们部署了一个ImageBind模型，用于在数据模态之间进行零样本分类。\n",
    "\n",
    "ImageBind模型的峰值GPU内存使用量约为8G。请根据需要调整机器类型、加速器类型和加速器数量。我们在部署中使用一个L4（24G）作为示例。"
   ]
  },
  {
   "cell_type": "code",
   "execution_count": null,
   "metadata": {
    "id": "3bf7295919fc"
   },
   "outputs": [],
   "source": [
    "task = \"zero-shot-classification\""
   ]
  },
  {
   "cell_type": "code",
   "execution_count": null,
   "metadata": {
    "id": "Uak1pyEeExYM"
   },
   "outputs": [],
   "source": [
    "# Finds Vertex AI prediction supported accelerators and regions in\n",
    "#  https://cloud.google.com/vertex-ai/docs/predictions/configure-compute.\n",
    "\n",
    "# Sets L4 to deploy ImageBind.\n",
    "machine_type = \"g2-standard-8\"\n",
    "accelerator_type = \"NVIDIA_L4\"\n",
    "accelerator_count = 1\n",
    "\n",
    "# Sets V100 to deploy ImageBind.\n",
    "# machine_type = \"n1-standard-8\"\n",
    "# accelerator_type = \"NVIDIA_TESLA_V100\"\n",
    "# accelerator_count = 1\n",
    "\n",
    "model, endpoint = deploy_model(\n",
    "    model_name=get_job_name_with_datetime(prefix=\"ImageBind-serve\"),\n",
    "    service_account=SERVICE_ACCOUNT,\n",
    "    task=task,\n",
    "    machine_type=machine_type,\n",
    "    accelerator_type=accelerator_type,\n",
    "    accelerator_count=accelerator_count,\n",
    ")\n",
    "print(f\"Endpoint name: {endpoint.name}\")"
   ]
  },
  {
   "cell_type": "markdown",
   "metadata": {
    "id": "sGKIjgmDFRW2"
   },
   "source": [
    "注意：在部署成功后，预建的模型权重将通过实时下载。因此，在上述模型部署步骤成功之后，需要额外等待**5分钟**，然后才能运行下面的下一个步骤。否则，当您向端点发送请求时，可能会看到`ServiceUnavailable: 503 502:Bad Gateway`错误。\n",
    "\n",
    "一旦部署成功，您可以向端点发送请求，其中包括文本提示、图像、深度、热像、视频和音频数据文件的GCS路径，以及IMU数据。\n",
    "\n",
    "输入规范如下：\n",
    "- **文本**：按“text”键索引的文本提示列表\n",
    "- **图像**：按“vision”键索引的GCS路径列表，指向3通道RGB图像\n",
    "- **深度图像**：按“depth”键索引的GCS路径列表，指向1通道深度图像\n",
    "- **热像图像**：按“thermal”键索引的GCS路径列表，指向1通道热像图像\n",
    "- **视频**：按“video”键索引的GCS路径列表，指向3通道RGB视频\n",
    "- **音频**：按“audio”键索引的GCS路径列表，指向波形文件\n",
    "- **IMU**：按“imu”键索引的形状为[6，2000]的张量列表（第一个维度对应于X、Y、Z轴上的加速计和陀螺仪测量，第二个维度对应于10秒片段，采样率为200Hz）\n",
    "\n",
    "请参考下面的示例。"
   ]
  },
  {
   "cell_type": "code",
   "execution_count": null,
   "metadata": {
    "id": "rDHsCOqvFYBi"
   },
   "outputs": [],
   "source": [
    "# Loads an existing endpoint instance using the endpoint name:\n",
    "# - Using `endpoint_name = endpoint.name` allows us to get the endpoint name of\n",
    "#   the endpoint `endpoint` created in the cell above.\n",
    "# - Alternatively, you can set `endpoint_name = \"1234567890123456789\"` to load\n",
    "#   an existing endpoint with the ID 1234567890123456789.\n",
    "# You may uncomment the code below to load an existing endpoint.\n",
    "\n",
    "# endpoint_name = endpoint.name\n",
    "# # endpoint_name = \"\"  # @param {type:\"string\"}\n",
    "# aip_endpoint_name = (\n",
    "#     f\"projects/{PROJECT_ID}/locations/{REGION}/endpoints/{endpoint_name}\"\n",
    "# )\n",
    "# endpoint = aiplatform.Endpoint(aip_endpoint_name)\n",
    "\n",
    "\n",
    "# If you encounter the issue like `ServiceUnavailable: 503 Took too long to respond when processing`,\n",
    "# you can reduce the amount of input data.\n",
    "instances = [\n",
    "    {\n",
    "        \"text\": [\"A dog.\", \"A car\", \"A bird\"],\n",
    "        \"vision\": [\n",
    "            os.path.join(DATA_BUCKET, \"dog_image.jpg\"),\n",
    "            os.path.join(DATA_BUCKET, \"car_image.jpg\"),\n",
    "            os.path.join(DATA_BUCKET, \"bird_image.jpg\"),\n",
    "        ],\n",
    "        \"audio\": [\n",
    "            os.path.join(DATA_BUCKET, \"dog_audio.wav\"),\n",
    "            os.path.join(DATA_BUCKET, \"car_audio.wav\"),\n",
    "            os.path.join(DATA_BUCKET, \"bird_audio.wav\"),\n",
    "        ],\n",
    "    },\n",
    "]\n",
    "response = endpoint.predict(instances=instances)\n",
    "\n",
    "for modality_pair, probs in response.predictions[0].items():\n",
    "    print(f\"{modality_pair}:\\n{np.array(probs)}\\n\")"
   ]
  },
  {
   "cell_type": "markdown",
   "metadata": {
    "id": "af21a3cff1e0"
   },
   "source": [
    "清理资源"
   ]
  },
  {
   "cell_type": "code",
   "execution_count": null,
   "metadata": {
    "id": "911406c1561e"
   },
   "outputs": [],
   "source": [
    "# Undeploy model and delete endpoint.\n",
    "endpoint.delete(force=True)\n",
    "\n",
    "# Delete model.\n",
    "model.delete()"
   ]
  }
 ],
 "metadata": {
  "colab": {
   "name": "model_garden_pytorch_imagebind.ipynb",
   "toc_visible": true
  },
  "kernelspec": {
   "display_name": "Python 3",
   "name": "python3"
  }
 },
 "nbformat": 4,
 "nbformat_minor": 0
}
