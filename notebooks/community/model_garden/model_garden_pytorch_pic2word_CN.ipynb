{
 "cells": [
  {
   "cell_type": "code",
   "execution_count": null,
   "metadata": {
    "id": "ad41232f-4ac9-4607-8ee6-9b1d98d0f5c3"
   },
   "outputs": [],
   "source": [
    "# Copyright 2023 Google LLC\n",
    "#\n",
    "# Licensed under the Apache License, Version 2.0 (the \"License\");\n",
    "# you may not use this file except in compliance with the License.\n",
    "# You may obtain a copy of the License at\n",
    "#\n",
    "#     https://www.apache.org/licenses/LICENSE-2.0\n",
    "#\n",
    "# Unless required by applicable law or agreed to in writing, software\n",
    "# distributed under the License is distributed on an \"AS IS\" BASIS,\n",
    "# WITHOUT WARRANTIES OR CONDITIONS OF ANY KIND, either express or implied.\n",
    "# See the License for the specific language governing permissions and\n",
    "# limitations under the License."
   ]
  },
  {
   "cell_type": "markdown",
   "metadata": {
    "id": "30e2cb63"
   },
   "source": [
    "# Vertex AI模型花园 - Pic2Word\n",
    "\n",
    "<table align=\"left\">\n",
    "  <td>\n",
    "    <a href=\"https://colab.research.google.com/github/GoogleCloudPlatform/vertex-ai-samples/blob/main/notebooks/community/model_garden/model_garden_pytorch_pic2word.ipynb\">\n",
    "      <img src=\"https://cloud.google.com/ml-engine/images/colab-logo-32px.png\" alt=\"Colab logo\"> 在Colab中运行\n",
    "    </a>\n",
    "  </td>\n",
    "  <td>\n",
    "    <a href=\"https://github.com/GoogleCloudPlatform/vertex-ai-samples/blob/main/notebooks/community/model_garden/model_garden_pytorch_pic2word.ipynb\">\n",
    "      <img src=\"https://cloud.google.com/ml-engine/images/github-logo-32px.png\" alt=\"GitHub logo\">\n",
    "      在GitHub上查看\n",
    "    </a>\n",
    "  </td>\n",
    "  <td>\n",
    "    <a href=\"https://console.cloud.google.com/vertex-ai/notebooks/deploy-notebook?download_url=https://raw.githubusercontent.com/GoogleCloudPlatform/vertex-ai-samples/main/notebooks/community/model_garden/model_garden_pytorch_pic2word.ipynb\">\n",
    "      <img src=\"https://lh3.googleusercontent.com/UiNooY4LUgW_oTvpsNhPpQzsstV5W8F7rYgxgGBD85cWJoLmrOzhVs_ksK_vgx40SHs7jCqkTkCk=e14-rj-sc0xffffff-h130-w32\" alt=\"Vertex AI logo\">\n",
    "在Vertex AI Workbench中打开\n",
    "    </a>\n",
    "  </td>\n",
    "</table>"
   ]
  },
  {
   "cell_type": "markdown",
   "metadata": {
    "id": "5d5af88c-a3c8-46fa-b90a-1b6737a91534"
   },
   "source": [
    "## 概述\n",
    "\n",
    "本笔记本演示了如何在Vertex AI Model Garden中使用[Pic2Word](https://github.com/google-research/composed_image_retrieval)模型。\n",
    "\n",
    "### 目标\n",
    "\n",
    "在本笔记本中，您将使用预构建的docker映像在Vertex AI上进行实验。\n",
    "\n",
    "- 在Google Cloud Vertex AI中部署预训练的Pic2Word模型\n",
    "\n",
    "本教程使用以下Google Cloud ML服务和资源：\n",
    "\n",
    "- Vertex AI模型注册表\n",
    "- Vertex AI在线预测\n",
    "\n",
    "### 数据集\n",
    "\n",
    "我们使用COCO验证集（5,000张图像）进行评估。\n",
    "\n",
    "### 成本\n",
    "\n",
    "本教程使用Google Cloud的收费组件：\n",
    "\n",
    "- Vertex AI\n",
    "- 云存储\n",
    "\n",
    "了解[Vertex AI定价](https://cloud.google.com/vertex-ai/pricing?_ga=2.46650789.-341051769.1686949237)和[云存储定价](https://cloud.google.com/storage/pricing?_ga=2.46650789.-341051769.1686949237)，并使用[Pricing Calculator](https://cloud.google.com/products/calculator/?_ga=2.247379078.-341051769.1686949237)根据您的预计使用量生成成本估算。"
   ]
  },
  {
   "cell_type": "markdown",
   "metadata": {
    "id": "e75fe500-5dc1-4ab3-8829-3eeada5be7f7"
   },
   "source": [
    "在你开始之前"
   ]
  },
  {
   "cell_type": "markdown",
   "metadata": {
    "id": "90a615fe"
   },
   "source": [
    "仅限Colab\n",
    "如果您正在使用Workbench或Colab Enterprise，请运行以下命令，并跳过本部分。"
   ]
  },
  {
   "cell_type": "code",
   "execution_count": null,
   "metadata": {
    "id": "3d4e50e1"
   },
   "outputs": [],
   "source": [
    "import sys\n",
    "\n",
    "if \"google.colab\" in sys.modules:\n",
    "    from google.colab import auth as google_auth\n",
    "\n",
    "    google_auth.authenticate_user()"
   ]
  },
  {
   "cell_type": "markdown",
   "metadata": {
    "id": "e8b0ef65"
   },
   "source": [
    "### 设置您的谷歌云项目\n",
    "\n",
    "**无论您使用哪种笔记本环境，都需要遵循以下步骤。**\n",
    "\n",
    "1. [选择或创建一个谷歌云项目](https://console.cloud.google.com/cloud-resource-manager)。当您第一次创建账户时，您将获得一笔300美元的免费信用额，用于支付计算/存储成本。\n",
    "\n",
    "2. [确保为您的项目启用计费](https://cloud.google.com/billing/docs/how-to/modify-project)。\n",
    "\n",
    "3. [启用Vertex AI API和Compute Engine API](https://console.cloud.google.com/flows/enableapi?apiid=aiplatform.googleapis.com,compute_component)。\n",
    "\n",
    "4. [创建一个用于存储实验输出的Cloud Storage存储桶](https://cloud.google.com/storage/docs/creating-buckets)。\n",
    "\n",
    "5. [创建一个服务账号](https://cloud.google.com/iam/docs/service-accounts-create#iam-service-accounts-create-console)，并为其分配**Vertex AI用户**和**存储对象管理员**角色，用于部署模型到Vertex AI端点。"
   ]
  },
  {
   "cell_type": "markdown",
   "metadata": {
    "id": "LkoD6vdxbOeL"
   },
   "source": [
    "###导入必要的包"
   ]
  },
  {
   "cell_type": "code",
   "execution_count": null,
   "metadata": {
    "id": "oS17k46BbVIQ"
   },
   "outputs": [],
   "source": [
    "import os\n",
    "import sys\n",
    "\n",
    "from google.cloud import aiplatform"
   ]
  },
  {
   "cell_type": "markdown",
   "metadata": {
    "id": "dwuw1ZsrbSGw"
   },
   "source": [
    "请为实验环境设置以下变量。指定的云存储桶（`BUCKET_URI`）应位于指定的地区（`REGION`）中。请注意，多区域存储桶（例如“us”）不被视为与多区域范围中覆盖的单个地区（例如“us-central1”）匹配。"
   ]
  },
  {
   "cell_type": "code",
   "execution_count": null,
   "metadata": {
    "id": "_nSN9otVbhqE"
   },
   "outputs": [],
   "source": [
    "# Cloud project ID.\n",
    "PROJECT_ID = \"\"  # @param {type:\"string\"}\n",
    "\n",
    "# Region for launching jobs.\n",
    "# TPU deployment is only supported in us-west1.\n",
    "REGION = \"\"  # @param {type:\"string\"}\n",
    "\n",
    "# Cloud Storage bucket for storing experiment outputs.\n",
    "# Start with gs:// prefix, e.g. gs://foo_bucket.\n",
    "BUCKET_URI = \"gs://\"  # @param {type:\"string\"}\n",
    "assert BUCKET_URI.startswith(\"gs://\"), \"BUCKET_URI must start with `gs://`.\"\n",
    "BUCKET_NAME = \"/\".join(BUCKET_URI.split(\"/\")[:3])\n",
    "STAGING_BUCKET = os.path.join(BUCKET_URI, \"temporal\")\n",
    "MODEL_BUCKET = os.path.join(BUCKET_URI, \"gemma\")\n",
    "\n",
    "# Initialize Vertex AI API.\n",
    "aiplatform.init(project=PROJECT_ID, location=REGION, staging_bucket=STAGING_BUCKET)\n",
    "\n",
    "# The service account looks like:\n",
    "# '@.iam.gserviceaccount.com'\n",
    "# Please visit https://cloud.google.com/iam/docs/service-accounts-create#iam-service-accounts-create-console\n",
    "# and create a service account with `Vertex AI User` and `Storage Object Admin` roles.\n",
    "SERVICE_ACCOUNT = \"\"  # @param {type:\"string\"}\n",
    "\n",
    "# Provision GCS bucket permissions to the SERVICE_ACCOUNT.\n",
    "! gsutil iam ch serviceAccount:{SERVICE_ACCOUNT}:roles/storage.admin $BUCKET_NAME\n",
    "\n",
    "! gcloud config set project $PROJECT_ID\n",
    "! gcloud services enable language.googleapis.com"
   ]
  },
  {
   "cell_type": "markdown",
   "metadata": {
    "id": "315598c1-3ff4-4bc8-9b82-7e2fe55d4678"
   },
   "source": [
    "### 定义常见变量"
   ]
  },
  {
   "cell_type": "code",
   "execution_count": null,
   "metadata": {
    "id": "6d26ddb2-04ad-4973-8965-9b25eb24993f"
   },
   "outputs": [],
   "source": [
    "# Prediction constants.\n",
    "PREDICTION_DOCKER_URI = \"us-docker.pkg.dev/vertex-ai/vertex-vision-model-garden-dockers/pic2word-serve:latest\"\n",
    "PREDICTION_ACCELERATOR_TYPE = \"NVIDIA_TESLA_T4\"\n",
    "PREDICTION_MACHINE_TYPE = \"n1-standard-8\""
   ]
  },
  {
   "cell_type": "markdown",
   "metadata": {
    "id": "0daec6e5-7642-458f-bd93-60a15431b0a1"
   },
   "source": [
    "## 部署模型进行在线预测"
   ]
  },
  {
   "cell_type": "markdown",
   "metadata": {
    "id": "b286ce6b-cb00-441b-8249-93497de17974"
   },
   "source": [
    "这个部分将模型上传到Vertex Model Registry并部署在一个端点资源上。这将大约需要15分钟来完成。"
   ]
  },
  {
   "cell_type": "markdown",
   "metadata": {
    "id": "01f686b2-9227-496b-9c4d-a63becb59fb8"
   },
   "source": [
    "### 上传并部署模型至Vertex AI"
   ]
  },
  {
   "cell_type": "code",
   "execution_count": null,
   "metadata": {
    "id": "8885d5be-5007-4778-9562-976102fefe73"
   },
   "outputs": [],
   "source": [
    "# Upload model.\n",
    "serving_env = {\"MODEL_ID\": \"googleai-pic2word\", \"DEPLOY_SOURCE\": \"notebook\"}\n",
    "\n",
    "model = aiplatform.Model.upload(\n",
    "    display_name=\"pic2word-model\",\n",
    "    serving_container_image_uri=PREDICTION_DOCKER_URI,\n",
    "    serving_container_ports=[7080],\n",
    "    serving_container_predict_route=\"/predictions/pic2word\",\n",
    "    serving_container_health_route=\"/ping\",\n",
    "    serving_container_environment_variables=serving_env,\n",
    ")\n",
    "\n",
    "# Create an endpoint.\n",
    "endpoint = aiplatform.Endpoint.create(display_name=\"pic2word-endpoint\")\n",
    "\n",
    "# Deploy model to endpoint.\n",
    "model.deploy(\n",
    "    endpoint=endpoint,\n",
    "    machine_type=PREDICTION_MACHINE_TYPE,\n",
    "    accelerator_type=PREDICTION_ACCELERATOR_TYPE,\n",
    "    accelerator_count=1,\n",
    "    traffic_percentage=100,\n",
    "    service_account=SERVICE_ACCOUNT,\n",
    ")"
   ]
  },
  {
   "cell_type": "markdown",
   "metadata": {
    "id": "f0bd36bb-f988-479a-be40-18c54980ca1f"
   },
   "source": [
    "您可以在[模型注册表](https://console.cloud.google.com/vertex-ai/models) 中管理您上传的模型，在[终端点](https://console.cloud.google.com/vertex-ai/endpoints) 中管理您的终端点。"
   ]
  },
  {
   "cell_type": "markdown",
   "metadata": {
    "id": "95edbcdd-8246-444a-aef2-a9cadbc03000"
   },
   "source": [
    "向端点发送预测请求"
   ]
  },
  {
   "cell_type": "markdown",
   "metadata": {
    "id": "3a83d6bb"
   },
   "source": [
    "将查询文本设置好并上传您想要查询的图片到指定的INPUT_BUCKET中。在查询文本中使用星号来指定哪个标记被图片标记替换。检索到的图片将上传到指定的输出桶中。"
   ]
  },
  {
   "cell_type": "code",
   "execution_count": null,
   "metadata": {
    "id": "f7c6fc99-42cd-4544-86df-b14f49189bfd"
   },
   "outputs": [],
   "source": [
    "# Text prompt.\n",
    "PROMPT = \"a bunch of *\"\n",
    "\n",
    "# File name of your query image. Example: \"cat.png\".\n",
    "IMAGE_FILE_NAME = \"cat.png\"\n",
    "\n",
    "# gs:// path to the directory where the query image is stored.\n",
    "INPUT_BUCKET = os.path.join(BUCKET_URI, \"input\")\n",
    "\n",
    "# gs:// path to the directory where the result images will be uploaded to.\n",
    "OUTPUT_BUCKET = os.path.join(BUCKET_URI, \"output\")\n",
    "\n",
    "instances = [\n",
    "    {\n",
    "        \"prompts\": PROMPT,\n",
    "        \"image_path\": INPUT_BUCKET,\n",
    "        \"image_file_name\": IMAGE_FILE_NAME,\n",
    "        \"output_storage_dir\": OUTPUT_BUCKET,\n",
    "    },\n",
    "]\n",
    "\n",
    "response = endpoint.predict(instances=instances)\n",
    "print(response)"
   ]
  },
  {
   "cell_type": "markdown",
   "metadata": {
    "id": "8e71ee23-967c-4871-802f-ccb39958386e"
   },
   "source": [
    "## 清理工作\n",
    "\n",
    "要清理此项目中使用的所有 Google Cloud 资源，您可以删除用于本教程的 Google Cloud 项目。\n",
    "\n",
    "否则，您可以删除您在本教程中创建的各个资源。"
   ]
  },
  {
   "cell_type": "code",
   "execution_count": null,
   "metadata": {
    "id": "d9be2a18-db11-4108-9622-647b33be2594"
   },
   "outputs": [],
   "source": [
    "# Delete endpoint resource.\n",
    "endpoint.delete(force=True)\n",
    "\n",
    "# Delete model resource.\n",
    "model.delete()\n",
    "\n",
    "# Delete Cloud Storage objects that were created.\n",
    "delete_bucket = False\n",
    "if delete_bucket or os.getenv(\"IS_TESTING\"):\n",
    "    ! gsutil -m rm -r $BUCKET_URI"
   ]
  }
 ],
 "metadata": {
  "colab": {
   "name": "model_garden_pytorch_pic2word.ipynb",
   "toc_visible": true
  },
  "kernelspec": {
   "display_name": "Python 3",
   "name": "python3"
  }
 },
 "nbformat": 4,
 "nbformat_minor": 0
}
