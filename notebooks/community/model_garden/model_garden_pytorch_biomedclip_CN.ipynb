{
 "cells": [
  {
   "cell_type": "code",
   "execution_count": null,
   "id": "7d9bbf86da5e",
   "metadata": {
    "id": "7d9bbf86da5e"
   },
   "outputs": [],
   "source": [
    "# Copyright 2023 Google LLC\n",
    "#\n",
    "# Licensed under the Apache License, Version 2.0 (the \"License\");\n",
    "# you may not use this file except in compliance with the License.\n",
    "# You may obtain a copy of the License at\n",
    "#\n",
    "#     https://www.apache.org/licenses/LICENSE-2.0\n",
    "#\n",
    "# Unless required by applicable law or agreed to in writing, software\n",
    "# distributed under the License is distributed on an \"AS IS\" BASIS,\n",
    "# WITHOUT WARRANTIES OR CONDITIONS OF ANY KIND, either express or implied.\n",
    "# See the License for the specific language governing permissions and\n",
    "# limitations under the License."
   ]
  },
  {
   "cell_type": "markdown",
   "id": "99c1c3fc2ca5",
   "metadata": {
    "id": "99c1c3fc2ca5"
   },
   "source": [
    "# Vertex AI模型花园 - BiomedCLIP\n",
    "\n",
    "<table align=\"left\">\n",
    "  <td>\n",
    "    <a href=\"https://colab.research.google.com/github/GoogleCloudPlatform/vertex-ai-samples/blob/main/notebooks/community/model_garden/model_garden_pytorch_biomedclip.ipynb\">\n",
    "      <img src=\"https://cloud.google.com/ml-engine/images/colab-logo-32px.png\" alt=\"Colab logo\"> 在Colab中运行\n",
    "    </a>\n",
    "  </td>\n",
    "  <td>\n",
    "    <a href=\"https://github.com/GoogleCloudPlatform/vertex-ai-samples/blob/main/notebooks/community/model_garden/model_garden_pytorch_biomedclip.ipynb\">\n",
    "      <img src=\"https://cloud.google.com/ml-engine/images/github-logo-32px.png\" alt=\"GitHub logo\"> 查看在GitHub上\n",
    "    </a>\n",
    "  </td>\n",
    "  <td>\n",
    "    <a href=\"https://console.cloud.google.com/vertex-ai/notebooks/deploy-notebook?download_url=https://raw.githubusercontent.com/GoogleCloudPlatform/vertex-ai-samples/main/notebooks/community/model_garden/model_garden_pytorch_biomedclip.ipynb\">\n",
    "      <img src=\"https://lh3.googleusercontent.com/UiNooY4LUgW_oTvpsNhPpQzsstV5W8F7rYgxgGBD85cWJoLmrOzhVs_ksK_vgx40SHs7jCqkTkCk=e14-rj-sc0xffffff-h130-w32\" alt=\"Vertex AI logo\"> 在Vertex AI工作台中打开\n",
    "    </a>（建议使用Python-3 CPU笔记本）\n",
    "  </td>\n",
    "</table>"
   ]
  },
  {
   "cell_type": "markdown",
   "id": "-ThBX_vbxEJD",
   "metadata": {
    "id": "-ThBX_vbxEJD"
   },
   "source": [
    "## 概述\n",
    "\n",
    "本笔记本演示了如何使用对比学习为[InBioMap](https://arxiv.org/pdf/2303.00915.pdf)提供服务，这是一个基于生物医学的视觉语言基础模型，其在PMC-15M上进行了预训练，该数据集包括从PubMed Central中提取的1500万个生物医学研究文章的图像标题对。InBioMap能够执行各种任务，包括零样本图像分类和视觉问答。\n",
    "\n",
    "您可以在Hugging Face Hub上找到InBioMap的[模型检查点](https://huggingface.co/microsoft/BiomedCLIP-PubMedBERT_256-vit_base_patch16_224)。\n",
    "\n",
    "在本笔记本中，我们将向您展示如何：\n",
    "- 使用Vertex AI为InBioMap提供服务\n",
    "- 使用InBioMap进行零样本图像分类\n",
    "\n",
    "\n",
    "### 成本\n",
    "\n",
    "本教程使用Google Cloud的按需计费组件：\n",
    "\n",
    "* Vertex AI\n",
    "* Cloud Storage\n",
    "\n",
    "了解[Vertex AI定价](https://cloud.google.com/vertex-ai/pricing)和[Cloud Storage定价](https://cloud.google.com/storage/pricing)，并使用[定价计算器](https://cloud.google.com/products/calculator/)根据您的预期使用量生成成本估算。"
   ]
  },
  {
   "cell_type": "markdown",
   "id": "264c07757582",
   "metadata": {
    "id": "264c07757582"
   },
   "source": [
    "在您开始之前\n",
    "\n",
    "**注意**：Jupyter会将前缀为`!`的行作为shell命令运行，并将前缀为`$`的Python变量内插到这些命令中。"
   ]
  },
  {
   "cell_type": "markdown",
   "id": "ioensNKM8ned",
   "metadata": {
    "id": "ioensNKM8ned"
   },
   "source": [
    "只使用Colab\n",
    "如果您正在使用Workbench，请运行以下命令并跳过此部分。"
   ]
  },
  {
   "cell_type": "code",
   "execution_count": null,
   "id": "2707b02ef5df",
   "metadata": {
    "id": "2707b02ef5df"
   },
   "outputs": [],
   "source": [
    "import sys\n",
    "\n",
    "if \"google.colab\" in sys.modules:\n",
    "    ! pip3 install --upgrade google-cloud-aiplatform\n",
    "    from google.colab import auth as google_auth\n",
    "\n",
    "    google_auth.authenticate_user()\n",
    "\n",
    "    # Restart the notebook kernel after installs.\n",
    "    import IPython\n",
    "\n",
    "    app = IPython.Application.instance()\n",
    "    app.kernel.do_shutdown(True)"
   ]
  },
  {
   "cell_type": "markdown",
   "id": "bb7adab99e41",
   "metadata": {
    "id": "bb7adab99e41"
   },
   "source": [
    "### 设置Google Cloud项目\n",
    "\n",
    "1. [选择或创建一个Google Cloud项目](https://console.cloud.google.com/cloud-resource-manager)。当您首次创建账户时，会获得$300的免费信用额度，用于支付计算/存储成本。\n",
    "\n",
    "1. [确保已为您的项目启用了计费](https://cloud.google.com/billing/docs/how-to/modify-project)。\n",
    "\n",
    "1. [启用Vertex AI API和Compute Engine API](https://console.cloud.google.com/flows/enableapi?apiid=aiplatform.googleapis.com,compute_component)。\n",
    "\n",
    "1. [创建一个Cloud Storage存储桶](https://cloud.google.com/storage/docs/creating-buckets)，用于存储实验输出。\n",
    "\n",
    "1. [创建一个服务账号](https://cloud.google.com/iam/docs/service-accounts-create#iam-service-accounts-create-console)，并为其分配`Vertex AI用户`和`存储对象管理员`角色，以便将微调模型部署到Vertex AI终端节点。"
   ]
  },
  {
   "cell_type": "markdown",
   "id": "6c460088b873",
   "metadata": {
    "id": "6c460088b873"
   },
   "source": [
    "填写以下变量以进行实验环境配置："
   ]
  },
  {
   "cell_type": "code",
   "execution_count": null,
   "id": "855d6b96f291",
   "metadata": {
    "id": "855d6b96f291"
   },
   "outputs": [],
   "source": [
    "# Cloud project id.\n",
    "PROJECT_ID = \"\"  # @param {type:\"string\"}\n",
    "\n",
    "# The region you want to launch jobs in.\n",
    "REGION = \"us-central1\"  # @param {type:\"string\"}\n",
    "\n",
    "# The Cloud Storage bucket for storing experiments output.\n",
    "BUCKET_URI = \"gs://your_bucket_uri\"  # @param {type:\"string\"}\n",
    "\n",
    "! gcloud config set project $PROJECT_ID\n",
    "\n",
    "# The service account looks like:\n",
    "# '@.iam.gserviceaccount.com'\n",
    "# Please go to https://cloud.google.com/iam/docs/service-accounts-create#iam-service-accounts-create-console\n",
    "# and create service account with `Vertex AI User` and `Storage Object Admin` roles.\n",
    "# The service account for deploying fine tuned model.\n",
    "SERVICE_ACCOUNT = \"\"  # @param {type:\"string\"}\n",
    "\n",
    "# The serving port.\n",
    "SERVE_PORT = 7080"
   ]
  },
  {
   "cell_type": "markdown",
   "id": "e828eb320337",
   "metadata": {
    "id": "e828eb320337"
   },
   "source": [
    "### 初始化 Vertex AI API"
   ]
  },
  {
   "cell_type": "code",
   "execution_count": null,
   "id": "12cd25839741",
   "metadata": {
    "id": "12cd25839741"
   },
   "outputs": [],
   "source": [
    "from google.cloud import aiplatform\n",
    "\n",
    "aiplatform.init(project=PROJECT_ID, location=REGION, staging_bucket=BUCKET_URI)"
   ]
  },
  {
   "cell_type": "markdown",
   "id": "2cc825514deb",
   "metadata": {
    "id": "2cc825514deb"
   },
   "source": [
    "### 定义常量"
   ]
  },
  {
   "cell_type": "code",
   "execution_count": null,
   "id": "0172207da484",
   "metadata": {
    "id": "0172207da484"
   },
   "outputs": [],
   "source": [
    "# The pre-built serving docker image.\n",
    "SERVE_DOCKER_URI = \"us-docker.pkg.dev/vertex-ai/vertex-vision-model-garden-dockers/pytorch-open-clip-serve\""
   ]
  },
  {
   "cell_type": "markdown",
   "id": "0c250872074f",
   "metadata": {
    "id": "0c250872074f"
   },
   "source": [
    "### 定义效用函数"
   ]
  },
  {
   "cell_type": "code",
   "execution_count": null,
   "id": "354da31189dc",
   "metadata": {
    "id": "354da31189dc"
   },
   "outputs": [],
   "source": [
    "from datetime import datetime\n",
    "from typing import Tuple\n",
    "\n",
    "\n",
    "def get_job_name_with_datetime(prefix: str) -> str:\n",
    "    \"\"\"Gets the job name with date time when triggering training or deployment\n",
    "    jobs in Vertex AI.\n",
    "    \"\"\"\n",
    "    return prefix + datetime.now().strftime(\"_%Y%m%d_%H%M%S\")\n",
    "\n",
    "\n",
    "def download_image(url: str) -> str:\n",
    "    \"\"\"Downloads an image from the given URL.\n",
    "\n",
    "    Args:\n",
    "      url: The URL of the image to download.\n",
    "\n",
    "    Returns:\n",
    "      base64 encoded image.\n",
    "    \"\"\"\n",
    "    !wget -O image.jpg $url\n",
    "    !base64 image.jpg > image.txt\n",
    "    return open(\"image.txt\").read()\n",
    "\n",
    "\n",
    "def deploy_model(\n",
    "    model_name: str,\n",
    "    model_id: str,\n",
    "    service_account: str,\n",
    "    task: str,\n",
    "    precision: str,\n",
    "    machine_type=\"n1-standard-8\",\n",
    "    accelerator_type=\"NVIDIA_TESLA_V100\",\n",
    "    accelerator_count=1,\n",
    ") -> Tuple[aiplatform.Model, aiplatform.Endpoint]:\n",
    "    \"\"\"Deploys trained models into Vertex AI.\"\"\"\n",
    "    endpoint = aiplatform.Endpoint.create(display_name=f\"{model_name}-endpoint\")\n",
    "    serving_env = {\n",
    "        \"MODEL\": model_id,\n",
    "        \"TASK\": task,\n",
    "        \"PRECISION\": precision,\n",
    "        \"DEPLOY_SOURCE\": \"notebook\",\n",
    "    }\n",
    "    # If the model_id is a GCS path, use artifact_uri to pass it to serving docker.\n",
    "    artifact_uri = model_id if model_id.startswith(\"gs://\") else None\n",
    "    model = aiplatform.Model.upload(\n",
    "        display_name=model_name,\n",
    "        serving_container_image_uri=SERVE_DOCKER_URI,\n",
    "        serving_container_ports=[SERVE_PORT],\n",
    "        serving_container_predict_route=\"/predictions/transformers_serving\",\n",
    "        serving_container_health_route=\"/ping\",\n",
    "        serving_container_environment_variables=serving_env,\n",
    "        artifact_uri=artifact_uri,\n",
    "    )\n",
    "    model.deploy(\n",
    "        endpoint=endpoint,\n",
    "        machine_type=machine_type,\n",
    "        accelerator_type=accelerator_type,\n",
    "        accelerator_count=accelerator_count,\n",
    "        deploy_request_timeout=1800,\n",
    "        service_account=service_account,\n",
    "    )\n",
    "    return model, endpoint"
   ]
  },
  {
   "cell_type": "markdown",
   "id": "jqmCtkGnhDmp",
   "metadata": {
    "id": "jqmCtkGnhDmp"
   },
   "source": [
    "### 使用图像进行推理\n",
    "此部分将模型上传到模型注册表，并部署到端点上。\n",
    "\n",
    "模型部署步骤将需要约10分钟完成。"
   ]
  },
  {
   "cell_type": "code",
   "execution_count": null,
   "id": "4f79683ccd37",
   "metadata": {
    "id": "4f79683ccd37"
   },
   "outputs": [],
   "source": [
    "model_id = \"hf-hub:microsoft/BiomedCLIP-PubMedBERT_256-vit_base_patch16_224\""
   ]
  },
  {
   "cell_type": "code",
   "execution_count": null,
   "id": "bf55e38815dc",
   "metadata": {
    "id": "bf55e38815dc"
   },
   "outputs": [],
   "source": [
    "model, endpoint = deploy_model(\n",
    "    model_name=get_job_name_with_datetime(prefix=\"biomedclip-serve\"),\n",
    "    model_id=model_id,\n",
    "    service_account=SERVICE_ACCOUNT,\n",
    "    task=\"zero-shot-image-classification\",\n",
    "    precision=\"amp\",\n",
    ")\n",
    "print(\"endpoint_name:\", endpoint.name)"
   ]
  },
  {
   "cell_type": "markdown",
   "id": "80b3fd2ace09",
   "metadata": {
    "id": "80b3fd2ace09"
   },
   "source": [
    "注意：模型权重将在部署成功后下载。因此，在上述模型部署步骤成功之后，需要额外等待5分钟的时间，然后再运行下面的步骤。否则，在向端点发送请求时，可能会出现`ServiceUnavailable: 503 502:Bad Gateway`错误。\n",
    "\n",
    "一旦部署成功，您可以向端点发送文本和图像以进行零样本分类。"
   ]
  },
  {
   "cell_type": "code",
   "execution_count": null,
   "id": "4ab04da3ec9a",
   "metadata": {
    "id": "4ab04da3ec9a"
   },
   "outputs": [],
   "source": [
    "import numpy as np\n",
    "\n",
    "# # Loads an existing endpoint as below.\n",
    "# endpoint_name = endpoint.name\n",
    "# aip_endpoint_name = (\n",
    "#     f\"projects/{PROJECT_ID}/locations/{REGION}/endpoints/{endpoint_name}\"\n",
    "# )\n",
    "# endpoint = aiplatform.Endpoint(aip_endpoint_name)\n",
    "\n",
    "instances = [\n",
    "    {\n",
    "        \"text\": \"This is a photo of adenocarcinoma histopathology\",\n",
    "        \"image\": download_image(\n",
    "            \"https://huggingface.co/microsoft/BiomedCLIP-PubMedBERT_256-vit_base_patch16_224/resolve/main/example_data/biomed_image_classification_example_data/bone_X-ray.jpg\"\n",
    "        ),\n",
    "    },\n",
    "    {\"text\": \"This is a photo of brain MRI\"},\n",
    "    {\"text\": \"This is a photo of covid line chart\"},\n",
    "    {\"text\": \"This is a photo of squamous cell carcinoma histopathology\"},\n",
    "    {\"text\": \"This is a photo of immunohistochemistry histopathology\"},\n",
    "    {\"text\": \"This is a photo of bone X-ray\"},\n",
    "    {\"text\": \"This is a photo of chest X-ray\"},\n",
    "    {\"text\": \"This is a photo of hematoxylin and eosin histopathology\"},\n",
    "    {\"text\": \"This is a photo of pie chart\"},\n",
    "]\n",
    "response = endpoint.predict(instances=instances)\n",
    "\n",
    "print(response.predictions)\n",
    "\n",
    "selected_idx = np.argmax(response.predictions[0])\n",
    "print(f\"Selected class: {instances[selected_idx]['text']}\")"
   ]
  },
  {
   "cell_type": "markdown",
   "id": "af21a3cff1e0",
   "metadata": {
    "id": "af21a3cff1e0"
   },
   "source": [
    "清理资源"
   ]
  },
  {
   "cell_type": "code",
   "execution_count": null,
   "id": "911406c1561e",
   "metadata": {
    "id": "911406c1561e"
   },
   "outputs": [],
   "source": [
    "# Undeploy model and delete endpoint.\n",
    "endpoint.delete(force=True)\n",
    "\n",
    "# Delete models.\n",
    "model.delete()"
   ]
  }
 ],
 "metadata": {
  "colab": {
   "name": "model_garden_pytorch_biomedclip.ipynb",
   "toc_visible": true
  },
  "kernelspec": {
   "display_name": "Python 3",
   "name": "python3"
  }
 },
 "nbformat": 4,
 "nbformat_minor": 0
}
