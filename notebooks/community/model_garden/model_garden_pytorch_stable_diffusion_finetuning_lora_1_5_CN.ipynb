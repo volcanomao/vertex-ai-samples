{
 "cells": [
  {
   "cell_type": "code",
   "execution_count": null,
   "metadata": {
    "id": "7d9bbf86da5e"
   },
   "outputs": [],
   "source": [
    "# Copyright 2024 Google LLC\n",
    "#\n",
    "# Licensed under the Apache License, Version 2.0 (the \"License\");\n",
    "# you may not use this file except in compliance with the License.\n",
    "# You may obtain a copy of the License at\n",
    "#\n",
    "#     https://www.apache.org/licenses/LICENSE-2.0\n",
    "#\n",
    "# Unless required by applicable law or agreed to in writing, software\n",
    "# distributed under the License is distributed on an \"AS IS\" BASIS,\n",
    "# WITHOUT WARRANTIES OR CONDITIONS OF ANY KIND, either express or implied.\n",
    "# See the License for the specific language governing permissions and\n",
    "# limitations under the License."
   ]
  },
  {
   "cell_type": "markdown",
   "metadata": {
    "id": "99c1c3fc2ca5"
   },
   "source": [
    "# Vertex AI模型花园 - 稳定扩散V1.5（LoRA微调）\n",
    "\n",
    "<table align=\"left\">\n",
    "  <td>\n",
    "    <a href=\"https://colab.research.google.com/github/GoogleCloudPlatform/vertex-ai-samples/blob/main/notebooks/community/model_garden/model_garden_pytorch_stable_diffusion_finetuning_lora.ipynb\">\n",
    "      <img src=\"https://cloud.google.com/ml-engine/images/colab-logo-32px.png\" alt=\"Colab logo\"> 在Colab中运行\n",
    "    </a>\n",
    "  </td>\n",
    "  <td>\n",
    "    <a href=\"https://github.com/GoogleCloudPlatform/vertex-ai-samples/blob/main/notebooks/community/model_garden/model_garden_pytorch_stable_diffusion_finetuning_lora.ipynb\">\n",
    "      <img src=\"https://cloud.google.com/ml-engine/images/github-logo-32px.png\" alt=\"GitHub logo\">\n",
    "      在GitHub上查看\n",
    "    </a>\n",
    "  </td>\n",
    "  <td>\n",
    "    <a href=\"https://console.cloud.google.com/vertex-ai/notebooks/deploy-notebook?download_url=https://raw.githubusercontent.com/GoogleCloudPlatform/vertex-ai-samples/main/notebooks/community/model_garden/model_garden_pytorch_stable_diffusion_finetuning_lora.ipynb\">\n",
    "      <img src=\"https://lh3.googleusercontent.com/UiNooY4LUgW_oTvpsNhPpQzsstV5W8F7rYgxgGBD85cWJoLmrOzhVs_ksK_vgx40SHs7jCqkTkCk=e14-rj-sc0xffffff-h130-w32\" alt=\"Vertex AI logo\">\n",
    "在Vertex AI Workbench中打开\n",
    "    </a>\n",
    "    （建议使用Python-3 CPU笔记本）\n",
    "  </td>\n",
    "</table>"
   ]
  },
  {
   "cell_type": "markdown",
   "metadata": {
    "id": "3de7470326a2"
   },
   "source": [
    "## 概览\n",
    "\n",
    "这本笔记本演示了如何使用[LoRA](https://huggingface.co/docs/diffusers/training/text2image#lora)对runwayml/stable-diffusion-v1-5进行微调，并在Vertex AI上部署以进行在线预测。\n",
    "\n",
    "### 目标\n",
    "\n",
    "- 使用[LoRA](https://huggingface.co/docs/diffusers/training/text2image#lora)微调stable-diffusion-v1.5模型。\n",
    "\n",
    "### 成本\n",
    "\n",
    "此教程使用Google Cloud的计费组件：\n",
    "\n",
    "* Vertex AI\n",
    "* Cloud Storage\n",
    "\n",
    "了解[Vertex AI定价](https://cloud.google.com/vertex-ai/pricing)和[Cloud Storage定价](https://cloud.google.com/storage/pricing)，并使用[Pricing Calculator](https://cloud.google.com/products/calculator/)根据您的预期使用情况生成成本估算。"
   ]
  },
  {
   "cell_type": "markdown",
   "metadata": {
    "id": "264c07757582"
   },
   "source": [
    "在您开始之前\n",
    "\n",
    "**注意**：Jupyter会将以`!`前缀开头的行视为shell命令，并将以`$`前缀开头的Python变量插入这些命令中。"
   ]
  },
  {
   "cell_type": "markdown",
   "metadata": {
    "id": "ioensNKM8ned"
   },
   "source": [
    "### 设置笔记本"
   ]
  },
  {
   "cell_type": "markdown",
   "metadata": {
    "id": "d73ffa0c0b83"
   },
   "source": [
    "仅限Colab\n",
    "如果您正在使用Workbench，请运行以下命令并跳过此部分。"
   ]
  },
  {
   "cell_type": "code",
   "execution_count": null,
   "metadata": {
    "id": "2707b02ef5df"
   },
   "outputs": [],
   "source": [
    "if \"google.colab\" in str(get_ipython()):\n",
    "    ! pip3 install --upgrade google-cloud-aiplatform\n",
    "    from google.colab import auth as google_auth\n",
    "\n",
    "    google_auth.authenticate_user()\n",
    "    ! pip3 install --upgrade pip\n",
    "    # Remove wrong cublas version.\n",
    "    ! pip3 uninstall nvidia_cublas_cu11 --yes\n",
    "\n",
    "    # Restart the notebook kernel after installs.\n",
    "    import IPython\n",
    "\n",
    "    app = IPython.Application.instance()\n",
    "    app.kernel.do_shutdown(True)"
   ]
  },
  {
   "cell_type": "markdown",
   "metadata": {
    "id": "fb671e75ca7b"
   },
   "source": [
    "#### 仅工作台\n",
    "1. 点击[此链接](https://console.cloud.google.com/vertex-ai/notebooks/deploy-notebook?download_url=https://raw.githubusercontent.com/GoogleCloudPlatform/vertex-ai-samples/main/notebooks/community/model_garden/model_garden_pytorch_stable_diffusion_deployment_1_5.ipynb)将笔记本部署到Vertex AI工作台实例中。\n",
    "2. 选择“创建新笔记本”。\n",
    "3. 点击“高级选项”。\n",
    "4. 在**环境**选项卡中，选择**操作系统**为“Debian 10”，选择**环境**为“自定义容器”。\n",
    "5. 将`Docker容器镜像`设置为`us-docker.pkg.dev/vertex-ai/vertex-vision-model-garden-dockers/transformers-notebook`。\n",
    "6. 在**机器配置**下，选择1个`T4` GPU，并选择“自动为我安装NVIDIA GPU驱动程序”。\n",
    "7. 点击“创建”以创建Vertex AI工作台实例。"
   ]
  },
  {
   "cell_type": "markdown",
   "metadata": {
    "id": "bb7adab99e41"
   },
   "source": [
    "### 设置Google Cloud项目\n",
    "\n",
    "1. [选择或创建一个Google Cloud项目](https://console.cloud.google.com/cloud-resource-manager)。当您第一次创建一个账户时，您将获得$300的免费信用，用于支付计算/存储成本。\n",
    "\n",
    "2. [确保为您的项目启用计费](https://cloud.google.com/billing/docs/how-to/modify-project)。\n",
    "\n",
    "3. [启用Vertex AI API和Compute Engine API](https://console.cloud.google.com/flows/enableapi?apiid=aiplatform.googleapis.com,compute_component)。\n",
    "\n",
    "4. [创建一个Cloud Storage存储桶](https://cloud.google.com/storage/docs/creating-buckets)用于存储实验输出。\n",
    "\n",
    "5. [创建一个服务账号](https://cloud.google.com/iam/docs/service-accounts-create#iam-service-accounts-create-console)，并为其分配`Vertex AI User`和`Storage Object Admin`角色，用于部署微调模型到Vertex AI端点。"
   ]
  },
  {
   "cell_type": "markdown",
   "metadata": {
    "id": "6c460088b873"
   },
   "source": [
    "填写以下实验环境的变量："
   ]
  },
  {
   "cell_type": "code",
   "execution_count": null,
   "metadata": {
    "id": "855d6b96f291"
   },
   "outputs": [],
   "source": [
    "# Cloud project id.\n",
    "PROJECT_ID = \"\"  # @param {type:\"string\"}\n",
    "\n",
    "# The region you want to launch jobs in.\n",
    "REGION = \"\"  # @param {type:\"string\"}\n",
    "\n",
    "# The Cloud Storage bucket for storing experiments output. Fill it without the 'gs://' prefix.\n",
    "GCS_BUCKET = \"\"  # @param {type:\"string\"}\n",
    "\n",
    "# The service account for deploying fine tuned model.\n",
    "SERVICE_ACCOUNT = \"\"  # @param {type:\"string\"}"
   ]
  },
  {
   "cell_type": "markdown",
   "metadata": {
    "id": "e828eb320337"
   },
   "source": [
    "初始化 Vertex-AI API:"
   ]
  },
  {
   "cell_type": "code",
   "execution_count": null,
   "metadata": {
    "id": "12cd25839741"
   },
   "outputs": [],
   "source": [
    "from google.cloud import aiplatform\n",
    "\n",
    "aiplatform.init(project=PROJECT_ID, location=REGION, staging_bucket=GCS_BUCKET)"
   ]
  },
  {
   "cell_type": "markdown",
   "metadata": {
    "id": "2cc825514deb"
   },
   "source": [
    "定义常量"
   ]
  },
  {
   "cell_type": "code",
   "execution_count": null,
   "metadata": {
    "id": "b42bd4fa2b2d"
   },
   "outputs": [],
   "source": [
    "# The pre-built training docker images. They contain training scripts and models.\n",
    "TRAIN_DOCKER_URI = \"us-docker.pkg.dev/vertex-ai/vertex-vision-model-garden-dockers/pytorch-peft-train:20231130_0936_RC00\"\n",
    "\n",
    "# The pre-built serving docker images. They contains serving scripts and models.\n",
    "SERVE_DOCKER_URI = \"us-docker.pkg.dev/vertex-ai/vertex-vision-model-garden-dockers/pytorch-diffusers-serve-opt:20240605_1400_RC00\""
   ]
  },
  {
   "cell_type": "markdown",
   "metadata": {
    "id": "0c250872074f"
   },
   "source": [
    "### 定义常用函数"
   ]
  },
  {
   "cell_type": "code",
   "execution_count": null,
   "metadata": {
    "id": "354da31189dc"
   },
   "outputs": [],
   "source": [
    "import base64\n",
    "import os\n",
    "from datetime import datetime\n",
    "from io import BytesIO\n",
    "\n",
    "import requests\n",
    "from google.cloud import aiplatform\n",
    "from PIL import Image\n",
    "\n",
    "\n",
    "def create_job_name(prefix):\n",
    "    user = os.environ.get(\"USER\")\n",
    "    now = datetime.now().strftime(\"%Y%m%d_%H%M%S\")\n",
    "    job_name = f\"{prefix}-{user}-{now}\"\n",
    "    return job_name\n",
    "\n",
    "\n",
    "def download_image(url):\n",
    "    response = requests.get(url)\n",
    "    return Image.open(BytesIO(response.content))\n",
    "\n",
    "\n",
    "def image_to_base64(image, format=\"JPEG\"):\n",
    "    buffer = BytesIO()\n",
    "    image.save(buffer, format=format)\n",
    "    image_str = base64.b64encode(buffer.getvalue()).decode(\"utf-8\")\n",
    "    return image_str\n",
    "\n",
    "\n",
    "def base64_to_image(image_str):\n",
    "    image = Image.open(BytesIO(base64.b64decode(image_str)))\n",
    "    return image\n",
    "\n",
    "\n",
    "def image_grid(imgs, rows=2, cols=2):\n",
    "    w, h = imgs[0].size\n",
    "    grid = Image.new(\"RGB\", size=(cols * w, rows * h))\n",
    "    for i, img in enumerate(imgs):\n",
    "        grid.paste(img, box=(i % cols * w, i // cols * h))\n",
    "    return grid\n",
    "\n",
    "\n",
    "def deploy_model(\n",
    "    model_name,\n",
    "    base_model_id,\n",
    "    lora_id,\n",
    "    task,\n",
    "    machine_type=\"g2-standard-8\",\n",
    "    accelerator_type=\"NVIDIA_L4\",\n",
    "):\n",
    "    \"\"\"Deploys trained models into Vertex AI.\"\"\"\n",
    "    endpoint = aiplatform.Endpoint.create(display_name=f\"{model_name}-endpoint\")\n",
    "    serving_env = {\n",
    "        \"MODEL_ID\": base_model_id,\n",
    "        \"TASK\": task,\n",
    "        \"DEPLOY_SOURCE\": \"notebook\",\n",
    "    }\n",
    "    if lora_id:\n",
    "        serving_env[\"LORA_ID\"] = lora_id\n",
    "    model = aiplatform.Model.upload(\n",
    "        display_name=model_name,\n",
    "        serving_container_image_uri=SERVE_DOCKER_URI,\n",
    "        serving_container_ports=[7080],\n",
    "        serving_container_predict_route=\"/predictions/diffusers_serving\",\n",
    "        serving_container_health_route=\"/ping\",\n",
    "        serving_container_environment_variables=serving_env,\n",
    "    )\n",
    "    model.deploy(\n",
    "        endpoint=endpoint,\n",
    "        machine_type=machine_type,\n",
    "        accelerator_type=accelerator_type,\n",
    "        accelerator_count=1,\n",
    "        deploy_request_timeout=1800,\n",
    "        service_account=SERVICE_ACCOUNT,\n",
    "    )\n",
    "    return model, endpoint"
   ]
  },
  {
   "cell_type": "markdown",
   "metadata": {
    "id": "Z3-T96nh1Q8K"
   },
   "source": [
    "## 使用LoRA进行微调和部署"
   ]
  },
  {
   "cell_type": "markdown",
   "metadata": {
    "id": "EY-iQTub1UJg"
   },
   "source": [
    "### 微调\n",
    "\n",
    "本节使用[LoRA](https://arxiv.org/abs/2106.09685)对[stable-diffusion-v1.5](https://huggingface.co/runwayml/stable-diffusion-v1-5)模型进行微调，使用[lambdalabs/pokemon-blip-captions](https://huggingface.co/datasets/lambdalabs/pokemon-blip-captions)。\n",
    "\n",
    "使用LoRA进行微调\n",
    "\n",
    "在微调作业完成后，LoRA权重将被保存，可通过[StableDiffusionPipeline](https://huggingface.co/docs/diffusers/api/pipelines/stable_diffusion/text2img)加载以进行推理。"
   ]
  },
  {
   "cell_type": "code",
   "execution_count": null,
   "metadata": {
    "id": "J6Q5CMgX2py9"
   },
   "outputs": [],
   "source": [
    "# The pre-trained model to be loaded.\n",
    "model_id = \"runwayml/stable-diffusion-v1-5\"\n",
    "DATASET_NAME = \"lambdalabs/pokemon-blip-captions\"\n",
    "\n",
    "# Output path.\n",
    "output_dir_lora = f\"/gcs/{GCS_BUCKET}/lora/output\"\n",
    "gs_output_dir_lora = f\"gs://{GCS_BUCKET}/lora/output\"\n",
    "\n",
    "# Worker pool spec.\n",
    "machine_type = \"n1-standard-8\"\n",
    "num_nodes = 1\n",
    "gpu_type = \"NVIDIA_TESLA_V100\"\n",
    "num_gpus = 1\n",
    "\n",
    "\n",
    "# Setup training job.\n",
    "job_name = create_job_name(\"lora-stable-diffusion\")\n",
    "job = aiplatform.CustomContainerTrainingJob(\n",
    "    display_name=job_name,\n",
    "    container_uri=TRAIN_DOCKER_URI,\n",
    ")\n",
    "\n",
    "# Set task to \"text-to-image-lora\" to finetune with LoRA.\n",
    "# Pass training arguments and launch job.\n",
    "# See https://github.com/huggingface/diffusers/blob/87ae330056f6942817656c8f7146283e90cf986b/examples/text_to_image/train_text_to_image_lora.py#L84\n",
    "# for a full list of training arguments.\n",
    "model = job.run(\n",
    "    args=[\n",
    "        \"--task=text-to-image-lora\",\n",
    "        f\"--pretrained_model_name_or_path={model_id}\",\n",
    "        f\"--dataset_name={DATASET_NAME}\",\n",
    "        \"--caption_column=text\",\n",
    "        \"--resolution=512\",\n",
    "        \"--random_flip\",\n",
    "        \"--train_batch_size=1\",\n",
    "        \"--num_train_epochs=20\",\n",
    "        \"--checkpointing_steps=5000\",\n",
    "        \"--learning_rate=1e-01\",\n",
    "        \"--lr_scheduler=constant\",\n",
    "        \"--lr_warmup_steps=0\",\n",
    "        f\"--output_dir={output_dir_lora}\",\n",
    "        \"--validation_prompt='cute dragon creature'\",\n",
    "        \"--seed=42\",\n",
    "    ],\n",
    "    replica_count=num_nodes,\n",
    "    machine_type=machine_type,\n",
    "    accelerator_type=gpu_type,\n",
    "    accelerator_count=num_gpus,\n",
    ")"
   ]
  },
  {
   "cell_type": "markdown",
   "metadata": {
    "id": "AairVI_a7yyr"
   },
   "source": [
    "### 部署\n",
    "\n",
    "为文本到图像任务部署稳定的扩散模型。\n",
    "\n",
    "一旦部署完成，您可以向端点发送一批文本提示以生成图像。"
   ]
  },
  {
   "cell_type": "code",
   "execution_count": null,
   "metadata": {
    "id": "e154LQnB8Pap"
   },
   "outputs": [],
   "source": [
    "model, endpoint = deploy_model(\n",
    "    model_name=create_job_name(prefix=\"lora-stable-diffusion\"),\n",
    "    model_id=model_id,\n",
    "    lora_id=gs_output_dir_lora,\n",
    "    task=\"text-to-image\",\n",
    ")"
   ]
  },
  {
   "cell_type": "markdown",
   "metadata": {
    "id": "h1f019sH8kse"
   },
   "source": [
    "请注意：模型权重将在部署成功后进行下载。因此，在上述模型部署步骤成功之后，需要额外等待5分钟，然后再运行下面的下一个步骤。否则，当您发送请求到端点时，可能会看到“ServiceUnavailable: 503 502:Bad Gateway”错误。"
   ]
  },
  {
   "cell_type": "code",
   "execution_count": null,
   "metadata": {
    "id": "WVPCsaBp8odc"
   },
   "outputs": [],
   "source": [
    "instances = [\n",
    "    {\"prompt\": \"A pokemon with green eyes and red legs.\"},\n",
    "    {\"prompt\": \"A pokemon with yellow tails and blue arms.\"},\n",
    "    {\"prompt\": \"A pokemon with three heads and green feet.\"},\n",
    "    {\"prompt\": \"A dragon pokemon with red and white stripes.\"},\n",
    "]\n",
    "response = endpoint.predict(instances=instances)\n",
    "images = [base64_to_image(image) for image in response.predictions]\n",
    "image_grid(images)"
   ]
  },
  {
   "cell_type": "markdown",
   "metadata": {
    "id": "ed3795d474b9"
   },
   "source": [
    "整理。"
   ]
  },
  {
   "cell_type": "code",
   "execution_count": null,
   "metadata": {
    "id": "b53b883257b4"
   },
   "outputs": [],
   "source": [
    "# Undeploy model and delete endpoints.\n",
    "endpoint.delete(force=True)\n",
    "# Delete models.\n",
    "model.delete()"
   ]
  }
 ],
 "metadata": {
  "colab": {
   "name": "model_garden_pytorch_stable_diffusion_finetuning_lora_1_5.ipynb",
   "toc_visible": true
  },
  "kernelspec": {
   "display_name": "Python 3",
   "name": "python3"
  }
 },
 "nbformat": 4,
 "nbformat_minor": 0
}
