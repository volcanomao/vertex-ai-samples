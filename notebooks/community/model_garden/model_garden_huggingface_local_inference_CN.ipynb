{
 "cells": [
  {
   "cell_type": "code",
   "execution_count": null,
   "metadata": {
    "id": "7d9bbf86da5e"
   },
   "outputs": [],
   "source": [
    "# Copyright 2023 Google LLC\n",
    "#\n",
    "# Licensed under the Apache License, Version 2.0 (the \"License\");\n",
    "# you may not use this file except in compliance with the License.\n",
    "# You may obtain a copy of the License at\n",
    "#\n",
    "#     https://www.apache.org/licenses/LICENSE-2.0\n",
    "#\n",
    "# Unless required by applicable law or agreed to in writing, software\n",
    "# distributed under the License is distributed on an \"AS IS\" BASIS,\n",
    "# WITHOUT WARRANTIES OR CONDITIONS OF ANY KIND, either express or implied.\n",
    "# See the License for the specific language governing permissions and\n",
    "# limitations under the License."
   ]
  },
  {
   "cell_type": "markdown",
   "metadata": {
    "id": "4dc4391f6be7"
   },
   "source": [
    "# Vertex AI模型花园 - Hugging Face本地推理\n",
    "\n",
    "<table align=\"left\">\n",
    "  <td>\n",
    "    <a href=\"https://colab.research.google.com/github/GoogleCloudPlatform/vertex-ai-samples/blob/main/notebooks/community/model_garden/model_garden_huggingface_local_inference.ipynb\">\n",
    "      <img src=\"https://cloud.google.com/ml-engine/images/colab-logo-32px.png\" alt=\"Colab logo\"> 在Colab中运行\n",
    "    </a>\n",
    "  </td>\n",
    "  <td>\n",
    "    <a href=\"https://github.com/GoogleCloudPlatform/vertex-ai-samples/blob/main/notebooks/community/model_garden/model_garden_huggingface_local_inference.ipynb\">\n",
    "      <img src=\"https://cloud.google.com/ml-engine/images/github-logo-32px.png\" alt=\"GitHub logo\">\n",
    "      在GitHub上查看\n",
    "    </a>\n",
    "  </td>\n",
    "  <td>\n",
    "    <a href=\"https://console.cloud.google.com/vertex-ai/notebooks/deploy-notebook?download_url=https://raw.githubusercontent.com/GoogleCloudPlatform/vertex-ai-samples/main/notebooks/community/model_garden/model_garden_huggingface_local_inference.ipynb\">\n",
    "      <img src=\"https://lh3.googleusercontent.com/UiNooY4LUgW_oTvpsNhPpQzsstV5W8F7rYgxgGBD85cWJoLmrOzhVs_ksK_vgx40SHs7jCqkTkCk=e14-rj-sc0xffffff-h130-w32\" alt=\"Vertex AI logo\">\n",
    "在Vertex AI Workbench中打开\n",
    "    </a>\n",
    "    （推荐使用预安装有HuggingFace/transformer库的Python-3 GPU笔记本）\n",
    "  </td>\n",
    "</table>"
   ]
  },
  {
   "cell_type": "markdown",
   "metadata": {
    "id": "4e8a0fdd6f44"
   },
   "source": [
    "## 概述\n",
    "\n",
    "本笔记本演示了如何通过[Colab](https://colab.research.google.com/)并安装必要的库，或者通过部署[Vertex AI Workbench实例](https://cloud.google.com/vertex-ai-workbench)预安装的transformer和diffuser库来运行各种Hugging Face模型的本地推理。\n",
    "\n",
    "### 目标\n",
    "\n",
    "* 使用各种transformer或扩散模型进行本地推理。\n",
    "\n",
    "### 成本\n",
    "\n",
    "本教程使用Google Cloud的收费组件：\n",
    "\n",
    "* Vertex AI\n",
    "\n",
    "了解[Vertex AI定价](https://cloud.google.com/vertex-ai/pricing)，并使用[定价计算器](https://cloud.google.com/products/calculator/)根据您的预期使用情况生成成本估算。"
   ]
  },
  {
   "cell_type": "markdown",
   "metadata": {
    "id": "69453bf7230e"
   },
   "source": [
    "在你开始之前"
   ]
  },
  {
   "cell_type": "markdown",
   "metadata": {
    "id": "68990d91bc5f"
   },
   "source": [
    "只允许协作"
   ]
  },
  {
   "cell_type": "code",
   "execution_count": null,
   "metadata": {
    "id": "3d342b32fb08"
   },
   "outputs": [],
   "source": [
    "if \"google.colab\" in str(get_ipython()):\n",
    "    ! pip3 install --upgrade google-cloud-aiplatform\n",
    "    from google.colab import auth as google_auth\n",
    "\n",
    "    google_auth.authenticate_user()\n",
    "    ! pip3 install --upgrade pip\n",
    "    ! pip3 install torchvision==0.14.1\n",
    "    ! pip3 install transformers==4.27.1\n",
    "    ! pip3 install diffusers==0.15.1\n",
    "    ! apt-get update\n",
    "    ! apt-get install -y --no-install-recommends tesseract-ocr\n",
    "    ! pip3 install tesseract==0.1.3\n",
    "    ! pip3 install pytesseract==0.3.10\n",
    "    ! pip3 install datasets==2.9.0\n",
    "    ! pip3 install accelerate==0.18.0\n",
    "    ! pip3 install triton==2.0.0.dev20221120\n",
    "    ! pip3 install xformers==0.0.16\n",
    "    ! pip3 install modelscope==1.4.2\n",
    "    ! pip3 install open_clip_torch==2.17.1\n",
    "    ! pip3 install pytorch-lightning==1.9.5\n",
    "    ! pip3 install opencv-python-headless==4.7.0.72\n",
    "    # Install gdown for downloading example training images.\n",
    "    ! pip3 install gdown\n",
    "    # Remove wrong cublas version.\n",
    "    ! pip3 uninstall nvidia_cublas_cu11 --yes\n",
    "\n",
    "    # Restart the notebook kernel after installs.\n",
    "    import IPython\n",
    "\n",
    "    app = IPython.Application.instance()\n",
    "    app.kernel.do_shutdown(True)"
   ]
  },
  {
   "cell_type": "markdown",
   "metadata": {
    "id": "05e23144b125"
   },
   "source": [
    "### 只需要工作台\n",
    "\n",
    "1. 点击[此链接](https://console.cloud.google.com/vertex-ai/notebooks/deploy-notebook?download_url=https://raw.githubusercontent.com/GoogleCloudPlatform/vertex-ai-samples/main/notebooks/community/model_garden/model_garden_huggingfacE_local_inference.ipynb)将笔记本部署到一个 Vertex AI 的工作台实例中。\n",
    "2. 选择 `创建一个新笔记本`。\n",
    "3. 点击 `高级选项`。\n",
    "4. 在 **环境** 标签中，选择 `Debian 10` 作为 **操作系统**，并选择 `自定义容器` 作为 **环境**。\n",
    "5. 将 **Docker 容器镜像** 字段设置为 `us-docker.pkg.dev/vertex-ai/vertex-vision-model-garden-dockers/transformers-notebook`。\n",
    "6. 在 **机器类型** 标签中，选择一个 1 `T4` GPU，并选择 `自动为我安装 NVIDIA GPU 驱动程序`。\n",
    "7. 点击 `创建` 创建 Vertex AI 的工作台实例。"
   ]
  },
  {
   "cell_type": "markdown",
   "metadata": {
    "id": "ad1a690839d5"
   },
   "source": [
    "示例代码"
   ]
  },
  {
   "cell_type": "markdown",
   "metadata": {
    "id": "0a4008240483"
   },
   "source": [
    "#### [runwayml/stable-diffusion-v1-5](https://huggingface.co/runwayml/stable-diffusion-v1-5)（文本到图像）\n",
    "给定任何文本输入，生成逼真的照片。"
   ]
  },
  {
   "cell_type": "code",
   "execution_count": null,
   "metadata": {
    "id": "5ec6b474d1be"
   },
   "outputs": [],
   "source": [
    "import torch\n",
    "from diffusers import StableDiffusionPipeline\n",
    "\n",
    "model_id = \"runwayml/stable-diffusion-v1-5\"\n",
    "pipe = StableDiffusionPipeline.from_pretrained(model_id, torch_dtype=torch.float16)\n",
    "pipe = pipe.to(\"cuda\")\n",
    "\n",
    "prompt = \"a photo of an astronaut riding a horse on mars\"\n",
    "image = pipe(prompt).images[0]\n",
    "\n",
    "display(image)"
   ]
  },
  {
   "cell_type": "markdown",
   "metadata": {
    "id": "ae94b9b23a52"
   },
   "source": [
    "#### [runwayml/stable-diffusion-v1-5](https://huggingface.co/runwayml/stable-diffusion-v1-5)（文本引导图像到图像）\n",
    "根据初始图像和文本提示生成一幅图像。"
   ]
  },
  {
   "cell_type": "code",
   "execution_count": null,
   "metadata": {
    "id": "0acd70f4d08a"
   },
   "outputs": [],
   "source": [
    "from io import BytesIO\n",
    "\n",
    "import requests\n",
    "import torch\n",
    "from diffusers import StableDiffusionImg2ImgPipeline\n",
    "from PIL import Image\n",
    "\n",
    "device = \"cuda\"\n",
    "model_id_or_path = \"runwayml/stable-diffusion-v1-5\"\n",
    "pipe = StableDiffusionImg2ImgPipeline.from_pretrained(\n",
    "    model_id_or_path, torch_dtype=torch.float16\n",
    ")\n",
    "pipe = pipe.to(device)\n",
    "\n",
    "url = \"https://raw.githubusercontent.com/CompVis/stable-diffusion/main/assets/stable-samples/img2img/sketch-mountains-input.jpg\"\n",
    "\n",
    "response = requests.get(url)\n",
    "init_image = Image.open(BytesIO(response.content)).convert(\"RGB\")\n",
    "init_image = init_image.resize((768, 512))\n",
    "\n",
    "prompt = \"A fantasy landscape, trending on artstation\"\n",
    "\n",
    "images = pipe(prompt=prompt, image=init_image, strength=0.75, guidance_scale=7.5).images\n",
    "display(images[0])"
   ]
  },
  {
   "cell_type": "markdown",
   "metadata": {
    "id": "e76b3fe8d10c"
   },
   "source": [
    "根据原始图像和提示生成一幅图像，只编辑由蒙版图像表示的区域。"
   ]
  },
  {
   "cell_type": "code",
   "execution_count": null,
   "metadata": {
    "id": "8bc3238be4e7"
   },
   "outputs": [],
   "source": [
    "from io import BytesIO\n",
    "\n",
    "import requests\n",
    "import torch\n",
    "from diffusers import StableDiffusionInpaintPipeline\n",
    "from PIL import Image\n",
    "\n",
    "image_url = \"https://raw.githubusercontent.com/CompVis/latent-diffusion/main/data/inpainting_examples/overture-creations-5sI6fQgYIuo.png\"\n",
    "image_response = requests.get(image_url)\n",
    "init_image = Image.open(BytesIO(image_response.content)).convert(\"RGB\")\n",
    "display(init_image)\n",
    "\n",
    "mask_url = \"https://raw.githubusercontent.com/CompVis/latent-diffusion/main/data/inpainting_examples/overture-creations-5sI6fQgYIuo_mask.png\"\n",
    "mask_response = requests.get(mask_url)\n",
    "mask_image = Image.open(BytesIO(mask_response.content)).convert(\"RGB\")\n",
    "\n",
    "pipe = StableDiffusionInpaintPipeline.from_pretrained(\n",
    "    \"runwayml/stable-diffusion-inpainting\",\n",
    "    revision=\"fp16\",\n",
    "    torch_dtype=torch.float16,\n",
    ")\n",
    "pipe.to(\"cuda\")\n",
    "\n",
    "prompt = \"Face of a yellow cat, high resolution, sitting on a park bench\"\n",
    "images = pipe(prompt=prompt, image=init_image, mask_image=mask_image).images\n",
    "display(images[0])"
   ]
  },
  {
   "cell_type": "markdown",
   "metadata": {
    "id": "1ade95a9b20e"
   },
   "source": [
    "#### [impira/layoutlm-document-qa](https://huggingface.co/impira/layoutlm-document-qa) (文档问答)\n",
    "回答关于给定文档的问题。"
   ]
  },
  {
   "cell_type": "code",
   "execution_count": null,
   "metadata": {
    "id": "492d9f1de3f2"
   },
   "outputs": [],
   "source": [
    "from transformers import pipeline\n",
    "\n",
    "nlp = pipeline(\n",
    "    \"document-question-answering\",\n",
    "    model=\"impira/layoutlm-document-qa\",\n",
    ")\n",
    "\n",
    "print(\n",
    "    nlp(\n",
    "        \"https://templates.invoicehome.com/invoice-template-us-neat-750px.png\",\n",
    "        \"What is the invoice number?\",\n",
    "    )\n",
    ")\n",
    "# [{'score': 0.9943977, 'answer': 'us-001', 'start': 15, 'end': 15}]\n",
    "\n",
    "print(\n",
    "    nlp(\n",
    "        \"https://miro.medium.com/max/787/1*iECQRIiOGTmEFLdWkVIH2g.jpeg\",\n",
    "        \"What is the purchase amount?\",\n",
    "    )\n",
    ")\n",
    "# [{'score': 0.9912159, 'answer': '$1,000,000,000', 'start': 97, 'end': 97}]\n",
    "\n",
    "print(\n",
    "    nlp(\n",
    "        \"https://www.accountingcoach.com/wp-content/uploads/2013/10/income-statement-example@2x.png\",\n",
    "        \"What are the 2020 net sales?\",\n",
    "    )\n",
    ")\n",
    "# [{'score': 0.978011429309845, 'answer': '$ 3,980', 'start': 15, 'end': 16}]"
   ]
  }
 ],
 "metadata": {
  "colab": {
   "name": "model_garden_huggingface_local_inference.ipynb",
   "toc_visible": true
  },
  "kernelspec": {
   "display_name": "Python 3",
   "name": "python3"
  }
 },
 "nbformat": 4,
 "nbformat_minor": 0
}
