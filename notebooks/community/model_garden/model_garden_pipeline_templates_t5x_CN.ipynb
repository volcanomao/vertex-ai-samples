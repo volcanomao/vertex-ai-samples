{
 "cells": [
  {
   "cell_type": "code",
   "execution_count": null,
   "metadata": {
    "id": "copyright"
   },
   "outputs": [],
   "source": [
    "# Copyright 2023 Google LLC\n",
    "#\n",
    "# Licensed under the Apache License, Version 2.0 (the \"License\");\n",
    "# you may not use this file except in compliance with the License.\n",
    "# You may obtain a copy of the License at\n",
    "#\n",
    "#     https://www.apache.org/licenses/LICENSE-2.0\n",
    "#\n",
    "# Unless required by applicable law or agreed to in writing, software\n",
    "# distributed under the License is distributed on an \"AS IS\" BASIS,\n",
    "# WITHOUT WARRANTIES OR CONDITIONS OF ANY KIND, either express or implied.\n",
    "# See the License for the specific language governing permissions and\n",
    "# limitations under the License."
   ]
  },
  {
   "cell_type": "markdown",
   "metadata": {
    "id": "title:generic,gcp"
   },
   "source": [
    "# 使用T5X模型的Model Garden Pipeline模板开始\n",
    "\n",
    "<table align=\"left\">\n",
    "\n",
    "  <td>\n",
    "    <a href=\"https://colab.research.google.com/github/GoogleCloudPlatform/vertex-ai-samples/blob/main/notebooks/community/model_garden/model_garden_template_pipelines_t5x.ipynb\">\n",
    "      <img src=\"https://cloud.google.com/ml-engine/images/colab-logo-32px.png\" alt=\"Colab logo\"> 在Colab中运行\n",
    "    </a>\n",
    "  </td>\n",
    "  <td>\n",
    "    <a href=\"https://github.com/GoogleCloudPlatform/vertex-ai-samples/blob/main/notebooks/community/model_garden/model_garden_template_pipelines_t5x.ipynb\">\n",
    "      <img src=\"https://cloud.google.com/ml-engine/images/github-logo-32px.png\" alt=\"GitHub logo\">\n",
    "      在GitHub上查看\n",
    "    </a>\n",
    "  </td>\n",
    "  <td>\n",
    "    <a href=\"https://console.cloud.google.com/vertex-ai/workbench/deploy-notebook?download_url=https://raw.githubusercontent.com/GoogleCloudPlatform/vertex-ai-samples/main/notebooks/communitymodel_garden/model_garden_template_pipelines_t5x.ipynb\">\n",
    "      <img src=\"https://lh3.googleusercontent.com/UiNooY4LUgW_oTvpsNhPpQzsstV5W8F7rYgxgGBD85cWJoLmrOzhVs_ksK_vgx40SHs7jCqkTkCk=e14-rj-sc0xffffff-h130-w32\" alt=\"Vertex AI logo\">\n",
    "      在Vertex AI工作台中打开\n",
    "    </a>\n",
    "  </td>                                                                                               \n",
    "</table>"
   ]
  },
  {
   "cell_type": "markdown",
   "metadata": {
    "id": "overview:mlops"
   },
   "source": [
    "## 概述\n",
    "\n",
    "本教程演示如何使用Vertex AI Pipelines修改、编译和执行预先构建的Vertex AI Model Garden管道模板。\n",
    "\n",
    "了解有关[创建管道模板](https://cloud.google.com/vertex-ai/docs/pipelines/create-pipeline-template)的更多信息。"
   ]
  },
  {
   "cell_type": "markdown",
   "metadata": {
    "id": "objective:mlops,stage4,get_started_vertex_model_evaluation"
   },
   "source": [
    "### 目标\n",
    "\n",
    "在本教程中，您将学习如何使用`Vertex AI Pipelines`中的预构建流水线模板来微调一个 T5X 文本分类模型，其中模型是从`Vertex AI Model Garden`中访问的。\n",
    "\n",
    "本教程使用以下 Google Cloud ML 服务：\n",
    "\n",
    "- `Vertex AI Pipelines`\n",
    "- `Vertex AI Training`\n",
    "- `Vertex AI Model Garden`\n",
    "- `Google Cloud Pipeline Components`\n",
    "\n",
    "\n",
    "执行的步骤包括：\n",
    "\n",
    "- 在`Artifact Registry`中创建一个用户定义的存储库。\n",
    "- 将预建流水线模板上传到`Artifact Registry`。\n",
    "- 使用预建流水线模板创建一个流水线作业来微调一个 T5X 模型。\n",
    "- 使用`Vertex AI Pipelines`执行流水线。\n",
    "    - 从 Vertex AI Model Garden 加载 T5X 模型\n",
    "    - 进行微调训练模型\n",
    "- 从流水线工件获取 Vertex AI 模型资源。\n",
    "- 将模型部署到 Vertex AI Endpoint\n",
    "- 进行预测"
   ]
  },
  {
   "cell_type": "markdown",
   "metadata": {
    "id": "dataset:bank,lbn"
   },
   "source": [
    "### 模型\n",
    "\n",
    "本教程使用了来自`Vertex AI Model Garden`的预训练T5文本分类模型，然后在一个数据集上进行微调（迁移学习），该数据集包含被分类为FirstClass或SecondClass的文本短语。\n",
    "\n",
    "了解更多关于[文本到文本传输变换器](https://github.com/google-research/text-to-text-transfer-transformer)。"
   ]
  },
  {
   "cell_type": "markdown",
   "metadata": {
    "id": "costs"
   },
   "source": [
    "成本\n",
    "\n",
    "本教程使用 Google Cloud 的计费组件：\n",
    "\n",
    "* Vertex AI\n",
    "* Cloud Storage\n",
    "* Dataflow\n",
    "\n",
    "了解有关 [Vertex AI 价格](https://cloud.google.com/vertex-ai/pricing)、[Cloud Storage 价格](https://cloud.google.com/storage/pricing) 和 [Dataflow 价格](https://cloud.google.com/dataflow/pricing) 的信息，并使用 [价格计算器](https://cloud.google.com/products/calculator/) 根据您的预期使用量生成成本估算。"
   ]
  },
  {
   "cell_type": "markdown",
   "metadata": {
    "id": "install_mlops"
   },
   "source": [
    "## 安装\n",
    "\n",
    "安装执行此笔记本所需的软件包。\n",
    "\n",
    "*注意：* 此教程需要 KFP 2.x。"
   ]
  },
  {
   "cell_type": "code",
   "execution_count": null,
   "metadata": {
    "id": "install_mlops"
   },
   "outputs": [],
   "source": [
    "import os\n",
    "\n",
    "! pip3 install --upgrade google-cloud-aiplatform \\\n",
    "                         google-cloud-pipeline-components \\\n",
    "                         kfp==2.0.0b15"
   ]
  },
  {
   "cell_type": "markdown",
   "metadata": {
    "id": "restart"
   },
   "source": [
    "### 仅限Colab：取消对以下单元格的注释以重启内核"
   ]
  },
  {
   "cell_type": "code",
   "execution_count": null,
   "metadata": {
    "id": "D-ZBOjErv5mM"
   },
   "outputs": [],
   "source": [
    "# Automatically restart kernel after installs so that your environment can access the new packages\n",
    "# import IPython\n",
    "\n",
    "# app = IPython.Application.instance()\n",
    "# app.kernel.do_shutdown(True)"
   ]
  },
  {
   "cell_type": "markdown",
   "metadata": {
    "id": "before_you_begin"
   },
   "source": [
    "在你开始之前"
   ]
  },
  {
   "cell_type": "markdown",
   "metadata": {
    "id": "before_you_begin:nogpu"
   },
   "source": [
    "### 设置您的项目ID\n",
    "\n",
    "**如果您不知道您的项目ID**，请尝试以下步骤：\n",
    "* 运行 `gcloud config list`。\n",
    "* 运行 `gcloud projects list`。\n",
    "* 查看支持页面：[找到项目ID](https://support.google.com/googleapi/answer/7014113)。"
   ]
  },
  {
   "cell_type": "code",
   "execution_count": null,
   "metadata": {
    "id": "set_project_id"
   },
   "outputs": [],
   "source": [
    "PROJECT_ID = \"[your-project-id]\"  # @param {type:\"string\"}\n",
    "\n",
    "# Set the project id\n",
    "! gcloud config set project {PROJECT_ID}"
   ]
  },
  {
   "cell_type": "markdown",
   "metadata": {
    "id": "region"
   },
   "source": [
    "### 区域\n",
    "\n",
    "您也可以更改Vertex AI使用的“REGION”变量。了解有关[Vertex AI区域](https://cloud.google.com/vertex-ai/docs/general/locations)的更多信息。"
   ]
  },
  {
   "cell_type": "code",
   "execution_count": null,
   "metadata": {
    "id": "region"
   },
   "outputs": [],
   "source": [
    "REGION = \"us-central1\"  # @param {type: \"string\"}"
   ]
  },
  {
   "cell_type": "markdown",
   "metadata": {
    "id": "c4ccf556d4ea"
   },
   "source": [
    "### 启用API\n",
    "\n",
    "您可以使用 `gcloud` 启用所需的API。"
   ]
  },
  {
   "cell_type": "code",
   "execution_count": null,
   "metadata": {
    "id": "619529337e6d"
   },
   "outputs": [],
   "source": [
    "! gcloud services enable compute.googleapis.com         \\\n",
    "                         containerregistry.googleapis.com  \\\n",
    "                         aiplatform.googleapis.com  \\\n",
    "                         artifactregistry.googleapis.com"
   ]
  },
  {
   "cell_type": "markdown",
   "metadata": {
    "id": "gcp_authenticate"
   },
   "source": [
    "### 认证您的Google Cloud账号\n",
    "\n",
    "根据您的Jupyter环境，您可能需要手动认证。请按照以下相关说明进行操作。"
   ]
  },
  {
   "cell_type": "markdown",
   "metadata": {
    "id": "FvQeFm3Gv5mR"
   },
   "source": [
    "1. Vertex AI 工作台\n",
    "* 无需操作，因为您已经通过身份验证。"
   ]
  },
  {
   "cell_type": "code",
   "execution_count": null,
   "metadata": {
    "id": "ce6043da7b33"
   },
   "outputs": [],
   "source": [
    "# ! gcloud auth login"
   ]
  },
  {
   "cell_type": "markdown",
   "metadata": {
    "id": "0367eac06a10"
   },
   "source": [
    "3.协作、取消注释并运行："
   ]
  },
  {
   "cell_type": "code",
   "execution_count": null,
   "metadata": {
    "id": "21ad4dbb4a61"
   },
   "outputs": [],
   "source": [
    "# from google.colab import auth\n",
    "# auth.authenticate_user()"
   ]
  },
  {
   "cell_type": "markdown",
   "metadata": {
    "id": "c13224697bfb"
   },
   "source": [
    "查看如何在https://cloud.google.com/storage/docs/gsutil/commands/iam#ch-examples为您的服务账号授予云存储权限。"
   ]
  },
  {
   "cell_type": "markdown",
   "metadata": {
    "id": "bucket:mbsdk"
   },
   "source": [
    "### 创建一个云存储桶\n",
    "\n",
    "创建一个存储桶来存储中间产品，例如数据集。"
   ]
  },
  {
   "cell_type": "code",
   "execution_count": null,
   "metadata": {
    "id": "bucket"
   },
   "outputs": [],
   "source": [
    "BUCKET_URI = f\"gs://your-bucket-name-{PROJECT_ID}-unique\"  # @param {type:\"string\"}"
   ]
  },
  {
   "cell_type": "markdown",
   "metadata": {
    "id": "create_bucket"
   },
   "source": [
    "只有当您的存储桶不存在时：运行以下单元格来创建您的云存储桶。"
   ]
  },
  {
   "cell_type": "code",
   "execution_count": null,
   "metadata": {
    "id": "create_bucket"
   },
   "outputs": [],
   "source": [
    "! gsutil mb -l $REGION $BUCKET_URI"
   ]
  },
  {
   "cell_type": "markdown",
   "metadata": {
    "id": "set_service_account"
   },
   "source": [
    "服务账号\n",
    "\n",
    "如果您不知道您的服务账号，请尝试使用`gcloud`命令在下面执行第二个单元格来获取您的服务账号。"
   ]
  },
  {
   "cell_type": "code",
   "execution_count": null,
   "metadata": {
    "id": "set_service_account"
   },
   "outputs": [],
   "source": [
    "SERVICE_ACCOUNT = \"[your-service-account]\"  # @param {type:\"string\"}"
   ]
  },
  {
   "cell_type": "code",
   "execution_count": null,
   "metadata": {
    "id": "autoset_service_account"
   },
   "outputs": [],
   "source": [
    "import sys\n",
    "\n",
    "IS_COLAB = \"google.colab\" in sys.modules\n",
    "if (\n",
    "    SERVICE_ACCOUNT == \"\"\n",
    "    or SERVICE_ACCOUNT is None\n",
    "    or SERVICE_ACCOUNT == \"[your-service-account]\"\n",
    "):\n",
    "    # Get your service account from gcloud\n",
    "    if not IS_COLAB:\n",
    "        shell_output = !gcloud auth list 2>/dev/null\n",
    "        SERVICE_ACCOUNT = shell_output[2].replace(\"*\", \"\").strip()\n",
    "\n",
    "    if IS_COLAB:\n",
    "        shell_output = ! gcloud projects describe  $PROJECT_ID\n",
    "        project_number = shell_output[-1].split(\":\")[1].strip().replace(\"'\", \"\")\n",
    "        SERVICE_ACCOUNT = f\"{project_number}-compute@developer.gserviceaccount.com\"\n",
    "\n",
    "    print(\"Service Account:\", SERVICE_ACCOUNT)"
   ]
  },
  {
   "cell_type": "markdown",
   "metadata": {
    "id": "set_service_account:pipelines"
   },
   "source": [
    "为 Vertex AI Pipelines 设置服务账号访问权限\n",
    "\n",
    "运行以下命令，以授予您的服务账号对在前一步创建的存储桶中的管道工件进行读写操作的访问权限--您只需为每个服务账号运行一次这些命令。"
   ]
  },
  {
   "cell_type": "code",
   "execution_count": null,
   "metadata": {
    "id": "set_service_account:pipelines"
   },
   "outputs": [],
   "source": [
    "! gsutil iam ch serviceAccount:{SERVICE_ACCOUNT}:roles/storage.objectCreator  \n",
    "! gsutil iam ch serviceAccount:{SERVICE_ACCOUNT}:roles/storage.objectViewer  "
   ]
  },
  {
   "cell_type": "markdown",
   "metadata": {
    "id": "setup_vars"
   },
   "source": [
    "### 设置变量\n",
    "\n",
    "接下来，设置一些在教程中使用的变量。\n",
    "### 导入库并定义常量"
   ]
  },
  {
   "cell_type": "code",
   "execution_count": null,
   "metadata": {
    "id": "import_kfp"
   },
   "outputs": [],
   "source": [
    "import json\n",
    "import os\n",
    "\n",
    "import google.cloud.aiplatform as aiplatform\n",
    "from kfp.registry import RegistryClient"
   ]
  },
  {
   "cell_type": "markdown",
   "metadata": {
    "id": "init_aip:mbsdk,all"
   },
   "source": [
    "### 初始化Python的Vertex AI SDK\n",
    "\n",
    "为您的项目和相应的存储桶初始化Python的Vertex AI SDK。"
   ]
  },
  {
   "cell_type": "code",
   "execution_count": null,
   "metadata": {
    "id": "init_aip:mbsdk,all"
   },
   "outputs": [],
   "source": [
    "aiplatform.init(project=PROJECT_ID, location=REGION, staging_bucket=BUCKET_URI)"
   ]
  },
  {
   "cell_type": "markdown",
   "metadata": {
    "id": "2d242773d707"
   },
   "source": [
    "启用Artifact Registry API\n",
    "您必须为您的项目启用Artifact Registry API服务。\n",
    "\n",
    "<a href=\"https://cloud.google.com/artifact-registry/docs/enable-service\">了解如何启用服务</a>。"
   ]
  },
  {
   "cell_type": "code",
   "execution_count": null,
   "metadata": {
    "id": "162b5e8883c2"
   },
   "outputs": [],
   "source": [
    "! gcloud services enable artifactregistry.googleapis.com\n",
    "\n",
    "if os.getenv(\"IS_TESTING\"):\n",
    "    ! sudo apt-get update --yes && sudo apt-get --only-upgrade --yes install google-cloud-sdk-cloud-run-proxy google-cloud-sdk-harbourbridge google-cloud-sdk-cbt google-cloud-sdk-gke-gcloud-auth-plugin google-cloud-sdk-kpt google-cloud-sdk-local-extract google-cloud-sdk-minikube google-cloud-sdk-app-engine-java google-cloud-sdk-app-engine-go google-cloud-sdk-app-engine-python google-cloud-sdk-spanner-emulator google-cloud-sdk-bigtable-emulator google-cloud-sdk-nomos google-cloud-sdk-package-go-module google-cloud-sdk-firestore-emulator kubectl google-cloud-sdk-datastore-emulator google-cloud-sdk-app-engine-python-extras google-cloud-sdk-cloud-build-local google-cloud-sdk-kubectl-oidc google-cloud-sdk-anthos-auth google-cloud-sdk-app-engine-grpc google-cloud-sdk-pubsub-emulator google-cloud-sdk-datalab google-cloud-sdk-skaffold google-cloud-sdk google-cloud-sdk-terraform-tools google-cloud-sdk-config-connector\n",
    "    ! gcloud components update --quiet"
   ]
  },
  {
   "cell_type": "markdown",
   "metadata": {
    "id": "9b773e8d2bd2"
   },
   "source": [
    "## 在Artifact Registry中创建仓库\n",
    "\n",
    "首先，在`Artifact Registry`中创建您自己定义的仓库。您可以使用此仓库来上传和检索您的流水线模板。"
   ]
  },
  {
   "cell_type": "code",
   "execution_count": null,
   "metadata": {
    "id": "520de849cee2"
   },
   "outputs": [],
   "source": [
    "REPO_NAME = \"my-docker-repo-unique\"\n",
    "\n",
    "! gcloud artifacts repositories create {REPO_NAME} --location={REGION} --repository-format=KFP"
   ]
  },
  {
   "cell_type": "markdown",
   "metadata": {
    "id": "1611d3517c0f"
   },
   "source": [
    "### 上传管道模板\n",
    "\n",
    "接下来，实例化一个客户端接口到 Artifact Registry。然后使用 `upload_pipeline()` 方法上传您的管道模板。"
   ]
  },
  {
   "cell_type": "code",
   "execution_count": null,
   "metadata": {
    "id": "7f002e57998a"
   },
   "outputs": [],
   "source": [
    "T5X_YAML = \"gs://cloud-samples-data/vertex-ai/dataset-management/datasets/t5_finetuning/pipeline.yaml\"\n",
    "\n",
    "! gsutil cp {T5X_YAML} pipeline.yaml\n",
    "\n",
    "client = RegistryClient(\n",
    "    host=f\"https://{REGION}-kfp.pkg.dev/{PROJECT_ID}/quickstart-kfp-repo\"\n",
    ")\n",
    "\n",
    "templateName, versionName = client.upload_pipeline(\n",
    "    file_name=\"pipeline.yaml\",\n",
    "    tags=[\"v1\", \"latest\"],\n",
    "    extra_headers={\n",
    "        \"description\": \"This is a pipeline template for fine-tuning a T5 model.\"\n",
    "    },\n",
    ")\n",
    "\n",
    "! rm pipeline.yaml"
   ]
  },
  {
   "cell_type": "markdown",
   "metadata": {
    "id": "02f82754fc0d"
   },
   "source": [
    "查看您注册表中的工件\n",
    "\n",
    "接下来，使用`gcloud artifacts files`命令，您可以查看工件，包括流水线模板，在您的工件存储库中。"
   ]
  },
  {
   "cell_type": "code",
   "execution_count": null,
   "metadata": {
    "id": "b2f641eb2056"
   },
   "outputs": [],
   "source": [
    "! gcloud artifacts files list  --repository={REPO_NAME} --location={REGION}"
   ]
  },
  {
   "cell_type": "markdown",
   "metadata": {
    "id": "968a46a3cb6d"
   },
   "source": [
    "## 加载并执行管道作业\n",
    "\n",
    "接下来，您可以通过实例化PipelineJob()从您的T5管道模板创建一个Vertex AI管道作业，以下是需要的参数：\n",
    "\n",
    "- `display_name`: 管道作业的人类可读名称。\n",
    "- `template_path`: 存储在Artifact Registry中的管道模板路径。\n",
    "- `enable_caching`: 在重新运行时，使用以前成功且未更改的步骤的结果。\n",
    "- `pipeline_root`: 用于存储管道结果的云存储位置。\n",
    "- `parameter_values`: 输入到模板管道中的参数和值。在此示例中，它们是：\n",
    "TODO\n",
    "    - `project`: 你的项目ID。\n",
    "    - `class_labels`: 一个按基数顺序排列的有效类标签列表。\n",
    "    - `root_dir`: 一个云存储临时区域。\n",
    "    - `training_data_path`: 训练数据的云存储位置。\n",
    "    - `ground_truth_gcs_source_uris`: 评估数据的云存储位置。"
   ]
  },
  {
   "cell_type": "code",
   "execution_count": null,
   "metadata": {
    "id": "a3c502fc7e41"
   },
   "outputs": [],
   "source": [
    "PIPELINE_ROOT = f\"{BUCKET_URI}/pipeline_root/t5_finetuning\"\n",
    "\n",
    "job = aiplatform.PipelineJob(\n",
    "    display_name=\"t5x-finetuning\",\n",
    "    template_path=f\"https://{REGION}-kfp.pkg.dev/{PROJECT_ID}/quickstart-kfp-repo/{templateName}/{versionName}\",\n",
    "    pipeline_root=PIPELINE_ROOT,\n",
    "    enable_caching=False,\n",
    "    parameter_values={\n",
    "        \"project_id\": PROJECT_ID,\n",
    "        \"accelerator_count\": 32,\n",
    "        \"feature_keys\": \"question\",\n",
    "        \"label_key\": \"answer\",\n",
    "        \"training_data_path\": \"gs://cloud-llm-public/tfds/natural_questions_open/1.0.0_shortened/natural_questions_open-train.tfrecord-00000-of-00001\",\n",
    "        \"validation_data_path\": \"gs://cloud-llm-public/tfds/natural_questions_open/1.0.0_shortened/natural_questions_open-validation.tfrecord-00000-of-00001\",\n",
    "    },\n",
    ")\n",
    "\n",
    "job.run()"
   ]
  },
  {
   "cell_type": "markdown",
   "metadata": {
    "id": "view_pipleline_results:bqml"
   },
   "source": [
    "查看管道结果"
   ]
  },
  {
   "cell_type": "code",
   "execution_count": null,
   "metadata": {
    "id": "view_pipleline_results:bqml"
   },
   "outputs": [],
   "source": [
    "PROJECT_NUMBER = job.gca_resource.name.split(\"/\")[1]\n",
    "print(PROJECT_NUMBER)\n",
    "\n",
    "\n",
    "def print_pipeline_output(job, output_task_name):\n",
    "    JOB_ID = job.name\n",
    "    print(JOB_ID)\n",
    "    artifact = \"\"\n",
    "    for _ in range(len(job.gca_resource.job_detail.task_details)):\n",
    "        TASK_ID = job.gca_resource.job_detail.task_details[_].task_id\n",
    "        EXECUTE_OUTPUT = (\n",
    "            PIPELINE_ROOT\n",
    "            + \"/\"\n",
    "            + PROJECT_NUMBER\n",
    "            + \"/\"\n",
    "            + JOB_ID\n",
    "            + \"/\"\n",
    "            + output_task_name\n",
    "            + \"_\"\n",
    "            + str(TASK_ID)\n",
    "            + \"/executor_output.json\"\n",
    "        )\n",
    "        GCP_RESOURCES = (\n",
    "            PIPELINE_ROOT\n",
    "            + \"/\"\n",
    "            + PROJECT_NUMBER\n",
    "            + \"/\"\n",
    "            + JOB_ID\n",
    "            + \"/\"\n",
    "            + output_task_name\n",
    "            + \"_\"\n",
    "            + str(TASK_ID)\n",
    "            + \"/gcp_resources\"\n",
    "        )\n",
    "        EVALUATION_METRICS = (\n",
    "            PIPELINE_ROOT\n",
    "            + \"/\"\n",
    "            + PROJECT_NUMBER\n",
    "            + \"/\"\n",
    "            + JOB_ID\n",
    "            + \"/\"\n",
    "            + output_task_name\n",
    "            + \"_\"\n",
    "            + str(TASK_ID)\n",
    "            + \"/evaluation_metrics\"\n",
    "        )\n",
    "        # Check if file exists, 0 is success\n",
    "        !gsutil -q stat $EXECUTE_OUTPUT\n",
    "        if _exit_code == 0:\n",
    "            ! gsutil cat $EXECUTE_OUTPUT\n",
    "            artifact = EXECUTE_OUTPUT\n",
    "            break\n",
    "        !gsutil -q stat $GCP_RESOURCES\n",
    "        if _exit_code == 0:\n",
    "            ! gsutil cat $GCP_RESOURCES\n",
    "            artifact = GCP_RESOURCES\n",
    "            break\n",
    "        !gsutil -q stat $EVALUATION_METRICS\n",
    "        if _exit_code == 0:\n",
    "            ! gsutil cat $EVALUATION_METRICS\n",
    "            artifact = EVALUATION_METRICS\n",
    "            break\n",
    "\n",
    "    return artifact\n",
    "\n",
    "\n",
    "print(\"model-upload\")\n",
    "artifacts = print_pipeline_output(job, \"model-upload\")\n",
    "output = !gsutil cat $artifacts\n",
    "print(output)\n",
    "output = json.loads(output[0])\n",
    "model_id = output[\"artifacts\"][\"model\"][\"artifacts\"][0][\"metadata\"][\"resourceName\"]\n",
    "print(\"\\n\\n\")"
   ]
  },
  {
   "cell_type": "markdown",
   "metadata": {
    "id": "f431a9e6f025"
   },
   "source": [
    "### 删除流水线作业\n",
    "\n",
    "方法 'delete()' 将会删除流水线作业。"
   ]
  },
  {
   "cell_type": "code",
   "execution_count": null,
   "metadata": {
    "id": "00bf554abbc6"
   },
   "outputs": [],
   "source": [
    "job.delete()"
   ]
  },
  {
   "cell_type": "markdown",
   "metadata": {
    "id": "3d183db57ae2"
   },
   "source": [
    "### 部署模型\n",
    "\n",
    "接下来，您将模型部署到一个端点：\n",
    "\n",
    "- 使用从流水线资产中获得的 `model_id` 来实例化一个 Vertex AI 模型资源实例。\n",
    "- 将 Vertex AI 模型资源部署到一个 Vertex AI 端点资源中。"
   ]
  },
  {
   "cell_type": "code",
   "execution_count": null,
   "metadata": {
    "id": "591ccc049ce5"
   },
   "outputs": [],
   "source": [
    "model = aiplatform.Model(model_id)\n",
    "endpoint = model.deploy(\n",
    "    accelerator_count=1,\n",
    "    accelerator_type=aiplatform.gapic.AcceleratorType.NVIDIA_TESLA_T4.name,\n",
    "    machine_type=\"n1-standard-4\",\n",
    ")\n",
    "print(endpoint)"
   ]
  },
  {
   "cell_type": "markdown",
   "metadata": {
    "id": "edb781a92864"
   },
   "source": [
    "做一个预测\n",
    "\n",
    "最后，您可以使用部署的模型进行预测。"
   ]
  },
  {
   "cell_type": "code",
   "execution_count": null,
   "metadata": {
    "id": "72d94012a987"
   },
   "outputs": [],
   "source": [
    "endpoint.predict([\"this is a test\"])"
   ]
  },
  {
   "cell_type": "markdown",
   "metadata": {
    "id": "cleanup:mbsdk"
   },
   "source": [
    "清理\n",
    "\n",
    "要清理此项目中使用的所有Google Cloud资源，您可以[删除用于本教程的Google Cloud项目](https://cloud.google.com/resource-manager/docs/creating-managing-projects#shutting_down_projects)。\n",
    "\n",
    "否则，您可以删除在本教程中创建的各个资源。"
   ]
  },
  {
   "cell_type": "code",
   "execution_count": null,
   "metadata": {
    "id": "cleanup:mbsdk"
   },
   "outputs": [],
   "source": [
    "delete_bucket = False\n",
    "\n",
    "endpoint.undeploy_all()\n",
    "endpoint.delete()\n",
    "model.delete()\n",
    "\n",
    "if delete_bucket or os.getenv(\"IS_TESTING\"):\n",
    "    ! gsutil rm -r $BUCKET_URI\n",
    "\n",
    "! rm -rf custom custom.tar.gz\n",
    "\n",
    "! gcloud artifacts repositories delete $REPO_NAME --project {PROJECT_ID} --location {REGION} --quiet"
   ]
  }
 ],
 "metadata": {
  "colab": {
   "name": "model_garden_pipeline_templates_t5x.ipynb",
   "toc_visible": true
  },
  "kernelspec": {
   "display_name": "Python 3",
   "name": "python3"
  }
 },
 "nbformat": 4,
 "nbformat_minor": 0
}
