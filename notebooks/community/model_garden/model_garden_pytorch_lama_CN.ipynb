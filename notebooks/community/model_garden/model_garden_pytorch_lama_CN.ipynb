{
 "cells": [
  {
   "cell_type": "code",
   "execution_count": null,
   "metadata": {
    "id": "7d9bbf86da5e"
   },
   "outputs": [],
   "source": [
    "# Copyright 2024 Google LLC\n",
    "#\n",
    "# Licensed under the Apache License, Version 2.0 (the \"License\");\n",
    "# you may not use this file except in compliance with the License.\n",
    "# You may obtain a copy of the License at\n",
    "#\n",
    "#     https://www.apache.org/licenses/LICENSE-2.0\n",
    "#\n",
    "# Unless required by applicable law or agreed to in writing, software\n",
    "# distributed under the License is distributed on an \"AS IS\" BASIS,\n",
    "# WITHOUT WARRANTIES OR CONDITIONS OF ANY KIND, either express or implied.\n",
    "# See the License for the specific language governing permissions and\n",
    "# limitations under the License."
   ]
  },
  {
   "cell_type": "markdown",
   "metadata": {
    "id": "1e9c07efb6ac"
   },
   "source": [
    "# Vertex AI模型花园 - LaMa\n",
    "\n",
    "<table align=\"left\">\n",
    "  <td>\n",
    "    <a href=\"https://colab.research.google.com/github/GoogleCloudPlatform/vertex-ai-samples/blob/main/notebooks/community/model_garden/model_garden_pytorch_lama.ipynb\">\n",
    "      <img src=\"https://cloud.google.com/ml-engine/images/colab-logo-32px.png\" alt=\"Colab logo\"> 在Colab中运行\n",
    "    </a>\n",
    "  </td>\n",
    "  <td>\n",
    "    <a href=\"https://github.com/GoogleCloudPlatform/vertex-ai-samples/blob/main/notebooks/community/model_garden/model_garden_pytorch_lama.ipynb\">\n",
    "      <img src=\"https://cloud.google.com/ml-engine/images/github-logo-32px.png\" alt=\"GitHub logo\">\n",
    "      在GitHub上查看\n",
    "    </a>\n",
    "  </td>\n",
    "  <td>\n",
    "    <a href=\"https://console.cloud.google.com/vertex-ai/notebooks/deploy-notebook?download_url=https://raw.githubusercontent.com/GoogleCloudPlatform/vertex-ai-samples/main/notebooks/community/model_garden/model_garden_pytorch_lama.ipynb\">\n",
    "      <img src=\"https://lh3.googleusercontent.com/UiNooY4LUgW_oTvpsNhPpQzsstV5W8F7rYgxgGBD85cWJoLmrOzhVs_ksK_vgx40SHs7jCqkTkCk=e14-rj-sc0xffffff-h130-w32\" alt=\"Vertex AI标志\">\n",
    "在Vertex AI工作台中打开\n",
    "    </a>\n",
    "    (建议使用Python-3 CPU笔记本)\n",
    "  </td>\n",
    "</table>"
   ]
  },
  {
   "cell_type": "markdown",
   "metadata": {
    "id": "cd8433ec804a"
   },
   "source": [
    "## 概述\n",
    "\n",
    "这个笔记本演示了在Vertex AI中部署预构建的[LaMa](https://github.com/advimman/lama)模型。\n",
    "\n",
    "### 目标\n",
    "\n",
    "- 将预构建的LaMa模型部署到Vertex Endpoint，并对其进行查询。\n",
    "\n",
    "### 成本\n",
    "\n",
    "本教程使用了Google Cloud的计费组件：\n",
    "\n",
    "* Vertex AI\n",
    "\n",
    "了解 [Vertex AI定价](https://cloud.google.com/vertex-ai/pricing) 并使用 [定价计算器](https://cloud.google.com/products/calculator/) 根据您的预计使用情况生成成本估算。"
   ]
  },
  {
   "cell_type": "markdown",
   "metadata": {
    "id": "Gl3bjJsV3k4J"
   },
   "source": [
    "## 在开始之前\n",
    "\n",
    "**注意**：Jupyter会将以`!`前缀开头的行视为shell命令，并且会将以`$`前缀开头的Python变量插入到这些命令中。"
   ]
  },
  {
   "cell_type": "markdown",
   "metadata": {
    "id": "CaCslNQE37P_"
   },
   "source": [
    "### 设立笔记本"
   ]
  },
  {
   "cell_type": "markdown",
   "metadata": {
    "id": "fb671e75ca7b"
   },
   "source": [
    "只适用于Colab\n",
    "如果您正在使用Workbench，请跳过此部分，并运行以下命令。"
   ]
  },
  {
   "cell_type": "code",
   "execution_count": null,
   "metadata": {
    "id": "dc8ee367fb42"
   },
   "outputs": [],
   "source": [
    "if \"google.colab\" in str(get_ipython()):\n",
    "    ! pip3 install --upgrade google-cloud-aiplatform\n",
    "    from google.colab import auth as google_auth\n",
    "\n",
    "    google_auth.authenticate_user()\n",
    "    ! pip3 install --upgrade pip\n",
    "\n",
    "    # Restart the notebook kernel after installs.\n",
    "    import IPython\n",
    "\n",
    "    app = IPython.Application.instance()\n",
    "    app.kernel.do_shutdown(True)"
   ]
  },
  {
   "cell_type": "markdown",
   "metadata": {
    "id": "bb7adab99e41"
   },
   "source": [
    "### 设置 Google Cloud 项目\n",
    "\n",
    "1. [选择或创建一个 Google Cloud 项目](https://console.cloud.google.com/cloud-resource-manager)。您首次创建帐户时，将获得一笔为计算/存储成本提供的300美元免费信用额度。\n",
    "\n",
    "1. [确保您的项目已启用计费](https://cloud.google.com/billing/docs/how-to/modify-project)。\n",
    "\n",
    "1. [启用 Vertex AI API 和 Compute Engine API](https://console.cloud.google.com/flows/enableapi?apiid=aiplatform.googleapis.com,compute_component)。\n",
    "\n",
    "1. [创建一个云存储存储桶](https://cloud.google.com/storage/docs/creating-buckets) 用于存储实验输出。\n",
    "\n",
    "1. [创建一个服务账号](https://cloud.google.com/iam/docs/service-accounts-create#iam-service-accounts-create-console)，并为其分配`Vertex AI User` 和 `Storage Object Admin` 角色，以便将经过优化的模型部署到 Vertex AI 终端点。"
   ]
  },
  {
   "cell_type": "markdown",
   "metadata": {
    "id": "6c460088b873"
   },
   "source": [
    "填写变量以进行实验环境："
   ]
  },
  {
   "cell_type": "code",
   "execution_count": null,
   "metadata": {
    "id": "855d6b96f291"
   },
   "outputs": [],
   "source": [
    "# Cloud project id.\n",
    "PROJECT_ID = \"\"  # @param {type:\"string\"}\n",
    "\n",
    "# The region you want to launch jobs in.\n",
    "REGION = \"us-central1\"  # @param {type:\"string\"}\n",
    "\n",
    "# The Cloud Storage bucket for storing experiments output.\n",
    "GCS_BUCKET = \"gs://\"  # @param {type:\"string\"}\n",
    "\n",
    "# The service account for deploying fine tuned model.\n",
    "# The service account looks like:\n",
    "# '<account_name>@<project>.iam.gserviceaccount.com'\n",
    "SERVICE_ACCOUNT = \"\"  # @param {type:\"string\"}"
   ]
  },
  {
   "cell_type": "markdown",
   "metadata": {
    "id": "e828eb320337"
   },
   "source": [
    "初始化 Vertex-AI API"
   ]
  },
  {
   "cell_type": "code",
   "execution_count": null,
   "metadata": {
    "id": "12cd25839741"
   },
   "outputs": [],
   "source": [
    "from google.cloud import aiplatform\n",
    "\n",
    "aiplatform.init(project=PROJECT_ID, location=REGION, staging_bucket=GCS_BUCKET)"
   ]
  },
  {
   "cell_type": "markdown",
   "metadata": {
    "id": "2cc825514deb"
   },
   "source": [
    "定义常量"
   ]
  },
  {
   "cell_type": "code",
   "execution_count": null,
   "metadata": {
    "id": "b42bd4fa2b2d"
   },
   "outputs": [],
   "source": [
    "# The pre-built serving docker image. It contains serving scripts and models.\n",
    "SERVE_DOCKER_URI = \"us-docker.pkg.dev/vertex-ai/vertex-vision-model-garden-dockers/lama-serve:20240125_0903_RC00\""
   ]
  },
  {
   "cell_type": "markdown",
   "metadata": {
    "id": "0c250872074f"
   },
   "source": [
    "### 定义常用功能"
   ]
  },
  {
   "cell_type": "code",
   "execution_count": null,
   "metadata": {
    "id": "8759e624ebc0"
   },
   "outputs": [],
   "source": [
    "import base64\n",
    "from datetime import datetime\n",
    "from io import BytesIO\n",
    "from typing import List, Tuple\n",
    "\n",
    "import requests\n",
    "from google.cloud import aiplatform\n",
    "from PIL import Image\n",
    "\n",
    "\n",
    "def create_job_name(prefix: str) -> str:\n",
    "    \"\"\"Return a timestamped string.\"\"\"\n",
    "    now = datetime.now().strftime(\"%Y%m%d_%H%M%S\")\n",
    "    job_name = f\"{prefix}-{now}\"\n",
    "    return job_name\n",
    "\n",
    "\n",
    "def download_image(url: str) -> Image.Image:\n",
    "    \"\"\"Get image given a URL.\"\"\"\n",
    "    response = requests.get(url)\n",
    "    return Image.open(BytesIO(response.content))\n",
    "\n",
    "\n",
    "def image_to_base64(image: Image.Image, format=\"JPEG\") -> str:\n",
    "    \"\"\"Convert an image to its base64 representation.\"\"\"\n",
    "    buffer = BytesIO()\n",
    "    image.save(buffer, format=format)\n",
    "    image_str = base64.b64encode(buffer.getvalue()).decode(\"utf-8\")\n",
    "    return image_str\n",
    "\n",
    "\n",
    "def base64_to_image(image_str: str) -> Image.Image:\n",
    "    \"\"\"Convert an image from its base64 representation.\"\"\"\n",
    "    image = Image.open(BytesIO(base64.b64decode(image_str)))\n",
    "    return image\n",
    "\n",
    "\n",
    "def image_grid(imgs: List[Image.Image], rows: int = 2, cols: int = 2):\n",
    "    \"\"\"Display images in a grid.\"\"\"\n",
    "    w, h = imgs[0].size\n",
    "    grid = Image.new(\"RGB\", size=(cols * w, rows * h))\n",
    "    for i, img in enumerate(imgs):\n",
    "        grid.paste(img, box=(i % cols * w, i // cols * h))\n",
    "    return grid\n",
    "\n",
    "\n",
    "def deploy_model(\n",
    "    model_name: str,\n",
    "    machine_type: str = \"g2-standard-24\",\n",
    "    accelerator_type: str = \"NVIDIA_L4\",\n",
    "    accelerator_count: int = 2,\n",
    ") -> Tuple[aiplatform.Model, aiplatform.Endpoint]:\n",
    "    \"\"\"Upload a model to Model registry and deploy it to a Vertex Endpoint.\"\"\"\n",
    "    endpoint = aiplatform.Endpoint.create(display_name=f\"{model_name}-endpoint\")\n",
    "    serving_env = {\"MODEL_ID\": \"lama\", \"DEPLOY_SOURCE\": \"notebook\"}\n",
    "\n",
    "    model = aiplatform.Model.upload(\n",
    "        display_name=model_name,\n",
    "        serving_container_image_uri=SERVE_DOCKER_URI,\n",
    "        serving_container_ports=[7080],\n",
    "        serving_container_predict_route=\"/predictions/lama\",\n",
    "        serving_container_health_route=\"/ping\",\n",
    "        serving_container_environment_variables=serving_env,\n",
    "    )\n",
    "    model.deploy(\n",
    "        endpoint=endpoint,\n",
    "        machine_type=machine_type,\n",
    "        accelerator_type=accelerator_type,\n",
    "        accelerator_count=accelerator_count,\n",
    "        deploy_request_timeout=1800,\n",
    "        service_account=SERVICE_ACCOUNT,\n",
    "    )\n",
    "    return model, endpoint"
   ]
  },
  {
   "cell_type": "markdown",
   "metadata": {
    "id": "80rqqiWlnt1M"
   },
   "source": [
    "## 下载示例图像\n",
    "\n",
    "我们下载了官方[LaMa GitHub项目](https://github.com/advimman/lama/tree/main/)提供的示例图像和蒙版，用于预测。"
   ]
  },
  {
   "cell_type": "code",
   "execution_count": null,
   "metadata": {
    "id": "ivIxrAvNntMM"
   },
   "outputs": [],
   "source": [
    "# Download and unzip images and masks.\n",
    "!gdown --fuzzy https://drive.google.com/file/d/1p3g1XWECRuybw423aKWmToi6YrjZWq3n/view?usp=drive_link\n",
    "!unzip LaMa_test_images.zip\n",
    "\n",
    "# List available test images and masks\n",
    "!ls LaMa_test_images"
   ]
  },
  {
   "cell_type": "markdown",
   "metadata": {
    "id": "90d3c379090e"
   },
   "source": [
    "上传并部署模型"
   ]
  },
  {
   "cell_type": "markdown",
   "metadata": {
    "id": "1cc26e68d7b0"
   },
   "source": [
    "这一部分将LaMa模型上传到模型注册表，并将其部署在终端上。 \n",
    "\n",
    "当部署在两个L4 GPU上时，一个请求的平均推断时间约为15秒。 \n",
    "\n",
    "模型部署步骤将需要约15分钟才能完成。"
   ]
  },
  {
   "cell_type": "code",
   "execution_count": null,
   "metadata": {
    "id": "a881564da1d8"
   },
   "outputs": [],
   "source": [
    "model, endpoint = deploy_model(\n",
    "    model_name=create_job_name(\"lama\"),\n",
    ")"
   ]
  },
  {
   "cell_type": "markdown",
   "metadata": {
    "id": "80b3fd2ace09"
   },
   "source": [
    "注意：模型权重将在部署成功后下载。因此，在上述模型部署步骤成功之后，需要额外等待5分钟，然后才能运行下面的下一步。否则，当您向端点发送请求时，您可能会看到“ServiceUnavailable: 503 502:Bad Gateway”错误。"
   ]
  },
  {
   "cell_type": "markdown",
   "metadata": {
    "id": "8JYdWvHDOQLB"
   },
   "source": [
    "加载并显示测试图片和蒙版。"
   ]
  },
  {
   "cell_type": "code",
   "execution_count": null,
   "metadata": {
    "id": "K-Pu4TMSNy81"
   },
   "outputs": [],
   "source": [
    "init_image_name = \"bench2\"  # @param {type:\"string\"}\n",
    "init_mask_name = \"bench2_mask\"  # @param {type:\"string\"}\n",
    "\n",
    "init_image = Image.open(f\"LaMa_test_images/{init_image_name}.png\")\n",
    "mask_image = Image.open(f\"LaMa_test_images/{init_mask_name}.png\")\n",
    "\n",
    "display(init_image)\n",
    "display(mask_image)"
   ]
  },
  {
   "cell_type": "markdown",
   "metadata": {
    "id": "erO2C50IOVG_"
   },
   "source": [
    "将测试图像和蒙版发送到端点。"
   ]
  },
  {
   "cell_type": "code",
   "execution_count": null,
   "metadata": {
    "id": "ca1761afb66f"
   },
   "outputs": [],
   "source": [
    "instances = [\n",
    "    {\n",
    "        \"image\": image_to_base64(init_image),\n",
    "        \"mask\": image_to_base64(mask_image),\n",
    "        \"refine\": True,\n",
    "    },\n",
    "]\n",
    "response = endpoint.predict(instances=instances)\n",
    "output_image = [base64_to_image(image) for image in response.predictions][0]\n",
    "display(output_image)"
   ]
  },
  {
   "cell_type": "markdown",
   "metadata": {
    "id": "f12f8d9c2786"
   },
   "source": [
    "清理资源"
   ]
  },
  {
   "cell_type": "code",
   "execution_count": null,
   "metadata": {
    "id": "911406c1561e"
   },
   "outputs": [],
   "source": [
    "# Undeploy model and delete endpoint.\n",
    "endpoint.delete(force=True)\n",
    "\n",
    "# Delete models.\n",
    "model.delete()"
   ]
  }
 ],
 "metadata": {
  "colab": {
   "name": "model_garden_pytorch_lama.ipynb",
   "toc_visible": true
  },
  "kernelspec": {
   "display_name": "Python 3",
   "name": "python3"
  }
 },
 "nbformat": 4,
 "nbformat_minor": 0
}
