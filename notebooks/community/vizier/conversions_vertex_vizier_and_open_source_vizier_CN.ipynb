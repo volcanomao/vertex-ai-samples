{
 "cells": [
  {
   "cell_type": "code",
   "execution_count": null,
   "metadata": {
    "id": "7fPc-KWUi2Xd"
   },
   "outputs": [],
   "source": [
    "# Copyright 2022 Google LLC\n",
    "#\n",
    "# Licensed under the Apache License, Version 2.0 (the \"License\");\n",
    "# you may not use this file except in compliance with the License.\n",
    "# You may obtain a copy of the License at\n",
    "#\n",
    "#     https://www.apache.org/licenses/LICENSE-2.0\n",
    "#\n",
    "# Unless required by applicable law or agreed to in writing, software\n",
    "# distributed under the License is distributed on an \"AS IS\" BASIS,\n",
    "# WITHOUT WARRANTIES OR CONDITIONS OF ANY KIND, either express or implied.\n",
    "# See the License for the specific language governing permissions and\n",
    "# limitations under the License."
   ]
  },
  {
   "cell_type": "markdown",
   "metadata": {
    "id": "eoXf8TfQoVth"
   },
   "source": [
    "# 在 Vertex AI Vizier 和开源 Vizier 之间进行转换\n",
    "\n",
    "<table align=\"left\">\n",
    "\n",
    "  <td>\n",
    "    <a href=\"https://colab.research.google.com/github/GoogleCloudPlatform/vertex-ai-samples/blob/main/notebooks/community/vizier/conversions_vertex_vizier_and_open_source_vizier.ipynb\">\n",
    "      <img src=\"https://cloud.google.com/ml-engine/images/colab-logo-32px.png\" alt=\"Colab logo\"> 在 Colab 中运行\n",
    "    </a>\n",
    "  </td>\n",
    "  <td>\n",
    "    <a href=\"https://github.com/GoogleCloudPlatform/vertex-ai-samples/blob/main/notebooks/community/vizier/conversions_vertex_vizier_and_open_source_vizier.ipynb\">\n",
    "      <img src=\"https://cloud.google.com/ml-engine/images/github-logo-32px.png\" alt=\"GitHub logo\">\n",
    "      在 GitHub 上查看\n",
    "    </a>\n",
    "  </td>\n",
    "  <td>\n",
    "    <a href=\"https://console.cloud.google.com/vertex-ai/workbench/deploy-notebook?download_url=https://raw.githubusercontent.com/GoogleCloudPlatform/vertex-ai-samples/main/notebooks/community/vizier/conversions_vertex_vizier_and_open_source_vizier.ipynb\">\n",
    "        <img src=\"https://lh3.googleusercontent.com/UiNooY4LUgW_oTvpsNhPpQzsstV5W8F7rYgxgGBD85cWJoLmrOzhVs_ksK_vgx40SHs7jCqkTkCk=e14-rj-sc0xffffff-h130-w32\" alt=\"Vertex AI logo\">\n",
    "      在 Vertex AI Workbench 中打开\n",
    "    </a>\n",
    "  </td>\n",
    "</table>"
   ]
  },
  {
   "cell_type": "markdown",
   "metadata": {
    "id": "b397c59391b1"
   },
   "source": [
    "概述\n",
    "\n",
    "本教程演示了如何在[Vertex AI Vizier](https://cloud.google.com/vertex-ai/docs/vizier/overview) 和 [开源(OSS) Vizier](https://oss-vizier.readthedocs.io/)之间迁移代码。 OSS Vizier 是一个基于Python的黑盒优化和研究服务。 它允许您设置一个可以承载黑盒优化算法的OSS Vizier服务器，用于调整目标函数并定义实现新优化算法的抽象和实用程序。"
   ]
  },
  {
   "cell_type": "markdown",
   "metadata": {
    "id": "AksIKBzZ-nre"
   },
   "source": [
    "### 目标\n",
    "\n",
    "在本教程中，您将学习如何使用`Vertex AI Vizier`来优化多目标研究，并将代码转换为OSS Vizier。\n",
    "\n",
    "目标是__`最小化`__目标指标：\n",
    "   ```\n",
    "   y1 = r*sin(theta)\n",
    "   ```\n",
    "\n",
    "并同时__`最大化`__目标指标：\n",
    "   ```\n",
    "   y2 = r*cos(theta)\n",
    "   ```\n",
    "\n",
    "以便您在参数空间上进行评估：\n",
    "\n",
    "   - __`r`__ 取值范围在 [0,1]，\n",
    "\n",
    "   - __`theta`__ 取值范围在 [0, pi/2]\n",
    "\n",
    "### 成本\n",
    "\n",
    "此教程使用Google Cloud的计费组件：\n",
    "\n",
    "* Vertex AI\n",
    "\n",
    "了解[Vertex AI\n",
    "价格](https://cloud.google.com/vertex-ai/pricing)并使用[Pricing\n",
    "Calculator](https://cloud.google.com/products/calculator/)\n",
    "根据您的预期使用量生成成本估算。"
   ]
  },
  {
   "cell_type": "markdown",
   "metadata": {
    "id": "iMHz63rPbq6P"
   },
   "source": [
    "## 安装\n",
    "\n",
    "安装执行这个笔记本所需的包。"
   ]
  },
  {
   "cell_type": "code",
   "execution_count": null,
   "metadata": {
    "id": "b6f3dc43494b"
   },
   "outputs": [],
   "source": [
    "import os\n",
    "\n",
    "# Configure the environment for the Vertex AI Workbench notebook.\n",
    "IS_WORKBENCH_NOTEBOOK = os.getenv(\"DL_ANACONDA_HOME\") and not os.getenv(\"VIRTUAL_ENV\")\n",
    "IS_USER_MANAGED_WORKBENCH_NOTEBOOK = os.path.exists(\n",
    "    \"/opt/deeplearning/metadata/env_version\"\n",
    ")\n",
    "\n",
    "# Vertex AI Notebook requires dependencies to be installed with '--user'\n",
    "USER_FLAG = \"\"\n",
    "if IS_WORKBENCH_NOTEBOOK:\n",
    "    USER_FLAG = \"--user\"\n",
    "\n",
    "! pip3 install google-vizier==0.0.4\n",
    "! pip3 install --upgrade google-cloud-aiplatform {USER_FLAG} -q"
   ]
  },
  {
   "cell_type": "markdown",
   "metadata": {
    "id": "64d24b4fab2c"
   },
   "source": [
    "### 重新启动内核\n",
    "\n",
    "一旦您安装了额外的包，您需要重新启动笔记本内核，以便它能找到这些包。"
   ]
  },
  {
   "cell_type": "code",
   "execution_count": null,
   "metadata": {
    "id": "O8AIwN0abq6U"
   },
   "outputs": [],
   "source": [
    "import os\n",
    "\n",
    "if not os.getenv(\"IS_TESTING\"):\n",
    "    # Restart the kernel after pip installs\n",
    "    import IPython\n",
    "\n",
    "    app = IPython.Application.instance()\n",
    "    app.kernel.do_shutdown(True)"
   ]
  },
  {
   "cell_type": "markdown",
   "metadata": {
    "id": "before_you_begin:nogpu"
   },
   "source": [
    "##开始之前\n",
    "\n",
    "###GPU运行时\n",
    "\n",
    "本教程不需要GPU运行时。\n",
    "\n",
    "###设置您的Google Cloud项目\n",
    "\n",
    "**无论您使用的是哪个笔记本环境，以下步骤都是必需的。**\n",
    "\n",
    "1. [选择或创建一个Google Cloud项目](https://console.cloud.google.com/cloud-resource-manager)。首次创建帐户时，您将获得$300的免费信用用于支付计算/存储成本。\n",
    "\n",
    "2. [确保您的项目已启用计费。](https://cloud.google.com/billing/docs/how-to/modify-project)\n",
    "\n",
    "3. [启用Vertex AI API，Compute Engine API和Cloud Storage。](https://console.cloud.google.com/flows/enableapi?apiid=ml.googleapis.com,compute_component,storage-component.googleapis.com)\n",
    "\n",
    "4. [Google Cloud SDK](https://cloud.google.com/sdk) 已经安装在Google Cloud Notebook中。\n",
    "\n",
    "5. 在下面的单元格中输入您的项目ID。然后运行该单元格，确保Cloud SDK在此笔记本中的所有命令中使用正确的项目。\n",
    "\n",
    "**注意**：Jupyter用`!`作为shell命令的前缀运行行，并且用`$`作为Python变量的前缀进行插值。"
   ]
  },
  {
   "cell_type": "code",
   "execution_count": null,
   "metadata": {
    "id": "set_project_id"
   },
   "outputs": [],
   "source": [
    "PROJECT_ID = \"[your-project-id]\"  # @param {type:\"string\"}"
   ]
  },
  {
   "cell_type": "code",
   "execution_count": null,
   "metadata": {
    "id": "autoset_project_id"
   },
   "outputs": [],
   "source": [
    "if PROJECT_ID == \"\" or PROJECT_ID is None or PROJECT_ID == \"[your-project-id]\":\n",
    "    # Get your Google Cloud project id from gcloud\n",
    "    shell_output = ! gcloud config list --format 'value(core.project)' 2>/dev/null\n",
    "    PROJECT_ID = shell_output[0]\n",
    "    print(\"Project ID:\", PROJECT_ID)"
   ]
  },
  {
   "cell_type": "code",
   "execution_count": null,
   "metadata": {
    "id": "set_gcloud_project_id"
   },
   "outputs": [],
   "source": [
    "! gcloud config set project $PROJECT_ID"
   ]
  },
  {
   "cell_type": "markdown",
   "metadata": {
    "id": "region"
   },
   "source": [
    "区域\n",
    "\n",
    "您还可以更改`REGION`变量，该变量用于笔记本其余部分的操作。以下是Vertex AI支持的区域。我们建议您选择距离您最近的区域。\n",
    "\n",
    "- 美洲：`us-central1`\n",
    "- 欧洲：`europe-west4`\n",
    "- 亚太：`asia-east1`\n",
    "\n",
    "您可能无法使用多区域存储桶来训练Vertex AI。并非所有区域都支持所有Vertex AI服务。\n",
    "\n",
    "了解更多关于[Vertex AI区域](https://cloud.google.com/vertex-ai/docs/general/locations)。"
   ]
  },
  {
   "cell_type": "code",
   "execution_count": null,
   "metadata": {
    "id": "04933ed28eef"
   },
   "outputs": [],
   "source": [
    "REGION = \"[your-region]\"  # @param {type:\"string\"}"
   ]
  },
  {
   "cell_type": "code",
   "execution_count": null,
   "metadata": {
    "id": "jvNx3KyF2Ou0"
   },
   "outputs": [],
   "source": [
    "if REGION == \"[your-region]\":\n",
    "    REGION = \"us-central1\""
   ]
  },
  {
   "cell_type": "markdown",
   "metadata": {
    "id": "h0SMyUsC-mzi"
   },
   "source": [
    "###验证您的Google Cloud帐户\n",
    "\n",
    "**如果您正在使用Vertex AI工作台笔记本**，您的环境已经经过身份验证。跳过这一步。\n",
    "\n",
    "**如果您正在使用Colab**，运行下面的单元格，按照提示进行身份验证。\n",
    "\n",
    "**否则**，请按照以下步骤操作：\n",
    "\n",
    "1. 在Cloud控制台中，转到[**创建服务帐户密钥**页面](https://console.cloud.google.com/apis/credentials/serviceaccountkey)。\n",
    "\n",
    "2. 点击**创建服务帐户**。\n",
    "\n",
    "3. 在**服务账户名称**字段中输入一个名称，然后点击**创建**。\n",
    "\n",
    "4. 在**为此服务帐户授予项目访问权限**部分，点击**角色**下拉列表。在筛选框中键入“Vertex AI”，选择**Vertex AI管理员**。在筛选框中键入“存储对象管理员”，选择**存储对象管理员**。\n",
    "\n",
    "5. 点击*创建*。包含您的密钥的JSON文件将下载到您的本地环境中。\n",
    "\n",
    "6. 在下面的单元格中将您的服务帐户密钥路径作为`GOOGLE_APPLICATION_CREDENTIALS`变量输入，然后运行该单元格。"
   ]
  },
  {
   "cell_type": "code",
   "execution_count": null,
   "metadata": {
    "id": "iTQY9g4mRo6r"
   },
   "outputs": [],
   "source": [
    "# If you are running this notebook in Colab, run this cell and follow the\n",
    "# instructions to authenticate your Google Cloud account. This provides access to your\n",
    "# Cloud Storage bucket and lets you submit training jobs and prediction\n",
    "# requests.\n",
    "\n",
    "import os\n",
    "import sys\n",
    "\n",
    "# If on Vertex AI Workbench, then don't execute this code\n",
    "IS_COLAB = \"google.colab\" in sys.modules\n",
    "if not os.path.exists(\"/opt/deeplearning/metadata/env_version\") and not os.getenv(\n",
    "    \"DL_ANACONDA_HOME\"\n",
    "):\n",
    "    if \"google.colab\" in sys.modules:\n",
    "        from google.colab import auth as google_auth\n",
    "\n",
    "        google_auth.authenticate_user()\n",
    "\n",
    "    # If you are running this notebook locally, replace the string below with the\n",
    "    # path to your service account key and run this cell to authenticate your Google Cloud\n",
    "    # account.\n",
    "    elif not os.getenv(\"IS_TESTING\"):\n",
    "        %env GOOGLE_APPLICATION_CREDENTIALS ''"
   ]
  },
  {
   "cell_type": "markdown",
   "metadata": {
    "id": "Dax2zrpTi2Xy"
   },
   "source": [
    "导入库并定义常量"
   ]
  },
  {
   "cell_type": "code",
   "execution_count": null,
   "metadata": {
    "id": "xD60d6Q0i2X0"
   },
   "outputs": [],
   "source": [
    "import datetime\n",
    "import math"
   ]
  },
  {
   "cell_type": "markdown",
   "metadata": {
    "id": "CWuu4wmki2X3"
   },
   "source": [
    "## 教程"
   ]
  },
  {
   "cell_type": "markdown",
   "metadata": {
    "id": "KyEjqIdnad0w"
   },
   "source": [
    "本部分定义了一些参数来创建研究并优化目标函数。"
   ]
  },
  {
   "cell_type": "code",
   "execution_count": null,
   "metadata": {
    "id": "8HCgeF8had77"
   },
   "outputs": [],
   "source": [
    "# These will be automatically filled in.\n",
    "STUDY_DISPLAY_NAME = \"{}_study_{}\".format(\n",
    "    PROJECT_ID.replace(\"-\", \"\"), datetime.datetime.now().strftime(\"%Y%m%d_%H%M%S\")\n",
    ")\n",
    "\n",
    "print(\"REGION: {}\".format(REGION))"
   ]
  },
  {
   "cell_type": "markdown",
   "metadata": {
    "id": "8NBduXsEaRKr"
   },
   "source": [
    "### 定义参数\n",
    "\n",
    "以下是一个示例研究配置，构建为一个层次结构的Python字典。已经填写好。运行该单元格以配置研究。\n",
    "\n",
    "__`USE_VERTEX_VIZIER`__: 如果为True，则使用Vertex Vizier SDK进行优化。否则使用OSS Vizier。\n",
    "\n",
    "__`SUGGESTION_COUNT`__: 在一个请求中请求的建议（试验）的数量。\n",
    "\n",
    "__`MAX_NUM_ITERATIONS`__: 在停止之前要探索的迭代次数。设置为4以缩短运行代码的时间，因此不要期望收敛。要达到收敛，可能需要大约20。"
   ]
  },
  {
   "cell_type": "code",
   "execution_count": null,
   "metadata": {
    "id": "E1VNJ4YBznhR"
   },
   "outputs": [],
   "source": [
    "USE_VERTEX_VIZIER = True  # @param {type:\"boolean\"}\n",
    "\n",
    "MAX_NUM_ITERATIONS = 4  # @param {type:\"integer\"}\n",
    "\n",
    "SUGGESTION_COUNT = 2  # @param {type:\"integer\"}\n",
    "\n",
    "OWNER = \"owner\"  # @param {type:\"string\"}\n",
    "\n",
    "SERVICE_ENDPOINT = \"127.0.0.1:8888\"  # @param {type:\"string\"}"
   ]
  },
  {
   "cell_type": "markdown",
   "metadata": {
    "id": "4_Yvt-7Z8_re"
   },
   "source": [
    "### 导入包并为不同来源定义 `create_study`\n",
    "\n",
    "在 Vertex Vizier 中，`project` 和 `location` 已经指定，并调用 `Study.create_or_load` 来创建一项研究。 您需要输入您研究的所有者和服务器地址的格式 [ip:port]。 要启动 OSS Vizier 服务器，请按照 OSS Vizier 网站上的[说明](https://oss-vizier.readthedocs.io/)进行操作。"
   ]
  },
  {
   "cell_type": "code",
   "execution_count": null,
   "metadata": {
    "id": "0sAHZn1406VR"
   },
   "outputs": [],
   "source": [
    "if USE_VERTEX_VIZIER:\n",
    "    from google.cloud import aiplatform\n",
    "    from google.cloud.aiplatform.vizier import Study, pyvizier\n",
    "\n",
    "    def create_study(project, location, display_name, problem):\n",
    "        aiplatform.init(project=project, location=location)\n",
    "        study = Study.create_or_load(display_name=display_name, problem=problem)\n",
    "        return study\n",
    "\n",
    "else:\n",
    "    from vizier.service import clients, pyvizier\n",
    "\n",
    "    def create_study(project, location, display_name, problem):\n",
    "        clients.environment_variables.service_endpoint = SERVICE_ENDPOINT\n",
    "        study = clients.Study.from_study_config(\n",
    "            problem, owner=OWNER, study_id=STUDY_DISPLAY_NAME\n",
    "        )\n",
    "        return study"
   ]
  },
  {
   "cell_type": "markdown",
   "metadata": {
    "id": "guvkcQe_-zQf"
   },
   "source": [
    "### 度量评估函数\n",
    "\n",
    "接下来，定义一些函数来评估这两个客观指标。"
   ]
  },
  {
   "cell_type": "code",
   "execution_count": null,
   "metadata": {
    "id": "Fjfk5_c900Oz"
   },
   "outputs": [],
   "source": [
    "# r * sin(theta)\n",
    "def Metric1Evaluation(r, theta):\n",
    "    \"\"\"Evaluate the first metric on the trial.\"\"\"\n",
    "    return r * math.sin(theta)\n",
    "\n",
    "\n",
    "# r * cos(theta)\n",
    "def Metric2Evaluation(r, theta):\n",
    "    \"\"\"Evaluate the second metric on the trial.\"\"\"\n",
    "    return r * math.cos(theta)\n",
    "\n",
    "\n",
    "def CreateMetrics(r, theta):\n",
    "    # Evaluate both objective metrics for this trial\n",
    "    y1 = Metric1Evaluation(r, theta)\n",
    "    y2 = Metric2Evaluation(r, theta)\n",
    "    print(\n",
    "        \"[r = {}, theta = {}] => y1 = r*sin(theta) = {}, y2 = r*cos(theta) = {}\".format(\n",
    "            r, theta, y1, y2\n",
    "        )\n",
    "    )\n",
    "    measurement = pyvizier.Measurement()\n",
    "    measurement.metrics[\"y1\"] = y1\n",
    "    measurement.metrics[\"y2\"] = y2\n",
    "\n",
    "    # Return the results for this trial\n",
    "    return measurement"
   ]
  },
  {
   "cell_type": "markdown",
   "metadata": {
    "id": "2DgUIEpZ-_fJ"
   },
   "source": [
    "### 优化\n",
    "\n",
    "以下代码定义了一个带有参数和指标的研究，根据Vizier的建议评估指标信息，并将指标值报告回来。经过几轮迭代，您可以通过调用 `optimal_trials()` 来获得最佳试验。该代码适用于 Vertex Vizier 和 OSS Vizier。"
   ]
  },
  {
   "cell_type": "code",
   "execution_count": null,
   "metadata": {
    "id": "s-AHfPOASXXW"
   },
   "outputs": [],
   "source": [
    "problem = pyvizier.StudyConfig()\n",
    "problem.algorithm = pyvizier.Algorithm.RANDOM_SEARCH\n",
    "\n",
    "# Objective Metrics\n",
    "problem.metric_information.append(\n",
    "    pyvizier.MetricInformation(name=\"y1\", goal=pyvizier.ObjectiveMetricGoal.MINIMIZE)\n",
    ")\n",
    "problem.metric_information.append(\n",
    "    pyvizier.MetricInformation(name=\"y2\", goal=pyvizier.ObjectiveMetricGoal.MAXIMIZE)\n",
    ")\n",
    "\n",
    "# Defines the parameters configuration.\n",
    "root = problem.search_space.select_root()\n",
    "root.add_float_param(\"r\", 0, 1.0, scale_type=pyvizier.ScaleType.LINEAR)\n",
    "root.add_float_param(\"theta\", 0, 1.57, scale_type=pyvizier.ScaleType.LINEAR)\n",
    "\n",
    "study = create_study(\n",
    "    project=PROJECT_ID,\n",
    "    location=REGION,\n",
    "    display_name=STUDY_DISPLAY_NAME,\n",
    "    problem=problem,\n",
    ")\n",
    "\n",
    "for _ in range(MAX_NUM_ITERATIONS):\n",
    "    trials = study.suggest(count=SUGGESTION_COUNT)\n",
    "    for trial in trials:\n",
    "        materialize_trial = trial.materialize()\n",
    "        measurement = CreateMetrics(\n",
    "            materialize_trial.parameters.get_value(\"r\"),\n",
    "            materialize_trial.parameters.get_value(\"theta\"),\n",
    "        )\n",
    "        trial.add_measurement(measurement=measurement)\n",
    "        trial.complete(measurement=measurement)\n",
    "\n",
    "optimal_trials = study.optimal_trials()\n",
    "print(\"optimal_trials: {}\".format(optimal_trials))"
   ]
  },
  {
   "cell_type": "markdown",
   "metadata": {
    "id": "KAxfq9Fri2YV"
   },
   "source": [
    "清理工作\n",
    "\n",
    "要清理这个项目中使用的所有Google Cloud资源，您可以[删除用于教程的Google Cloud项目](https://cloud.google.com/resource-manager/docs/creating-managing-projects#shutting_down_projects)。您还可以通过运行以下代码手动删除创建的资源。"
   ]
  },
  {
   "cell_type": "code",
   "execution_count": null,
   "metadata": {
    "id": "zQlLDfvlzYde"
   },
   "outputs": [],
   "source": [
    "study.delete()"
   ]
  }
 ],
 "metadata": {
  "colab": {
   "collapsed_sections": [],
   "name": "conversions_vertex_vizier_and_open_source_vizier.ipynb",
   "toc_visible": true
  },
  "kernelspec": {
   "display_name": "Python 3",
   "name": "python3"
  }
 },
 "nbformat": 4,
 "nbformat_minor": 0
}
