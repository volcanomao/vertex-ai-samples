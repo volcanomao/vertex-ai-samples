{
 "cells": [
  {
   "cell_type": "code",
   "execution_count": null,
   "metadata": {
    "id": "ur8xi4C7S06n"
   },
   "outputs": [],
   "source": [
    "# Copyright 2022 Google LLC\n",
    "#\n",
    "# Licensed under the Apache License, Version 2.0 (the \"License\");\n",
    "# you may not use this file except in compliance with the License.\n",
    "# You may obtain a copy of the License at\n",
    "#\n",
    "#     https://www.apache.org/licenses/LICENSE-2.0\n",
    "#\n",
    "# Unless required by applicable law or agreed to in writing, software\n",
    "# distributed under the License is distributed on an \"AS IS\" BASIS,\n",
    "# WITHOUT WARRANTIES OR CONDITIONS OF ANY KIND, either express or implied.\n",
    "# See the License for the specific language governing permissions and\n",
    "# limitations under the License."
   ]
  },
  {
   "cell_type": "markdown",
   "metadata": {
    "id": "JAPoU8Sm5E6e"
   },
   "source": [
    "# 使用BigQuery ML进行在线预测\n",
    "\n",
    "<table align=\"left\">\n",
    "\n",
    "  <td>\n",
    "    <a href=\"https://colab.research.google.com/github/GoogleCloudPlatform/vertex-ai-samples/blob/main/notebooks/official/bigquery_ml/bqml-online-prediction.ipynb\">\n",
    "      <img src=\"https://cloud.google.com/ml-engine/images/colab-logo-32px.png\" alt=\"Colab logo\"> 在Colab中运行\n",
    "    </a>\n",
    "  </td>\n",
    "  <td>\n",
    "    <a href=\"https://github.com/GoogleCloudPlatform/vertex-ai-samples/blob/main/notebooks/official/bigquery_ml/bqml-online-prediction.ipynb\">\n",
    "      <img src=\"https://cloud.google.com/ml-engine/images/github-logo-32px.png\" alt=\"GitHub logo\">\n",
    "      在GitHub上查看\n",
    "    </a>\n",
    "  </td>\n",
    "  <td>\n",
    "    <a href=\"https://console.cloud.google.com/vertex-ai/workbench/deploy-notebook?download_url=https://raw.githubusercontent.com/GoogleCloudPlatform/vertex-ai-samples/main/notebooks/official/bigquery_ml/bqml-online-prediction.ipynb\">\n",
    "      <img src=\"https://lh3.googleusercontent.com/UiNooY4LUgW_oTvpsNhPpQzsstV5W8F7rYgxgGBD85cWJoLmrOzhVs_ksK_vgx40SHs7jCqkTkCk=e14-rj-sc0xffffff-h130-w32\" alt=\"Vertex AI logo\">\n",
    "      在Vertex AI Workbench中打开\n",
    "    </a>\n",
    "  </td>                                                                                               \n",
    "</table>"
   ]
  },
  {
   "cell_type": "markdown",
   "metadata": {
    "id": "962e636b5cee"
   },
   "source": [
    "**_注意_**: 这个笔记本已经在以下环境中进行过测试：\n",
    "\n",
    "* Python 版本 = 3.9"
   ]
  },
  {
   "cell_type": "markdown",
   "metadata": {
    "id": "cfc112ddad4c"
   },
   "source": [
    "## 概览\n",
    "\n",
    "本笔记本演示了如何在Google Cloud Platform上使用BigQuery ML训练客户流失预测模型。客户流失模型的训练是在Google Analytics 4应用事件数据上进行的，旨在估计应用程序中用户流失的可能性。\n",
    "\n",
    "从博客中了解更多关于用例和数据的信息：[使用Google Analytics 4（GA4）和BigQuery ML进行游戏开发者流失预测](https://cloud.google.com/blog/topics/developers-practitioners/churn-prediction-game-developers-using-google-analytics-4-ga4-and-bigquery-ml)。\n",
    "\n",
    "在训练BigQuery ML模型之后，本笔记本还探讨了在Vertex AI中注册受过训练的模型，并部署到端点以进行在线预测。"
   ]
  },
  {
   "cell_type": "markdown",
   "metadata": {
    "id": "tvgnzT1CKxrO"
   },
   "source": [
    "### 目标\n",
    "\n",
    "在本教程中，您将从公共BigQuery数据集中获取所需数据并准备进行训练。然后，您将使用BigQuery ML在数据上训练一个流失预测模型。最后，您将部署模型到Vertex AI并从端点获取预测结果。\n",
    "\n",
    "本教程使用以下Google Cloud数据分析和机器学习服务：\n",
    "\n",
    "- BigQuery\n",
    "- BigQuery ML\n",
    "- Vertex AI模型注册\n",
    "- Vertex AI端点\n",
    "\n",
    "执行的步骤包括：\n",
    "\n",
    "- 从公共BigQuery数据集中查询并获取数据。\n",
    "- 准备数据进行训练。\n",
    "- 使用BigQuery ML训练流失分类模型。\n",
    "- 将训练好的模型保存到Vertex AI模型注册。\n",
    "- 将模型部署到Vertex AI端点。\n",
    "- 向端点发送在线预测请求。"
   ]
  },
  {
   "cell_type": "markdown",
   "metadata": {
    "id": "c640527e06e6"
   },
   "source": [
    "### 数据集\n",
    "\n",
    "这份笔记本使用了公开的BigQuery数据集 [`firebase-public-project.analytics_153293282`](https://console.cloud.google.com/bigquery?p=firebase-public-project&d=analytics_153293282&t=events_20181003&page=table)，其中包含来自一个名为Flood It!（安卓应用、iOS应用）的真实移动游戏应用的原始事件数据。数据架构源自于Google Analytics for Firebase，但与Google Analytics 4拥有相同的架构。因此，这份笔记本中的步骤可以应用于Google Analytics for Firebase或Google Analytics 4的数据。\n",
    "\n",
    "Google Analytics 4（GA4）采用了基于事件的测量模型。事件提供关于应用程序或网站上正在发生的情况的见解，例如用户动作、系统事件或错误。数据中的每一行都是一个事件，具有关于该事件的各种相关特征存储在行内的嵌套格式中。\n",
    "\n",
    "了解更多关于[数据集](https://cloud.google.com/blog/topics/developers-practitioners/churn-prediction-game-developers-using-google-analytics-4-ga4-and-bigquery-ml)。"
   ]
  },
  {
   "cell_type": "markdown",
   "metadata": {
    "id": "ff6017ac879f"
   },
   "source": [
    "### 成本\n",
    "\n",
    "本教程使用Google Cloud的计费组件：\n",
    "\n",
    "- BigQuery\n",
    "- BigQuery ML\n",
    "- Vertex AI\n",
    "\n",
    "了解有关<a href=\"https://cloud.google.com/bigquery/pricing\" target=\"_blank\">BigQuery定价</a>，<a href=\"https://cloud.google.com/bigquery-ml/pricing\" target=\"_blank\">BigQuery ML定价</a>，<a href=\"https://cloud.google.com/vertex-ai/pricing\" target=\"_blank\">Vertex AI定价</a>，并使用<a href=\"https://cloud.google.com/products/calculator/\" target=\"_blank\">定价计算器</a>根据您的预期使用情况生成成本估算。"
   ]
  },
  {
   "cell_type": "markdown",
   "metadata": {
    "id": "i7EUnXsZhAGF"
   },
   "source": [
    "## 安装\n",
    "\n",
    "安装以下所需的包以运行这个笔记本。"
   ]
  },
  {
   "cell_type": "code",
   "execution_count": null,
   "metadata": {
    "id": "2b4ef9b72d43"
   },
   "outputs": [],
   "source": [
    "! pip3 install --upgrade google-cloud-aiplatform \\\n",
    "                                 google-cloud-bigquery==3.11.4 \\\n",
    "                                 db-dtypes"
   ]
  },
  {
   "cell_type": "markdown",
   "metadata": {
    "id": "restart"
   },
   "source": [
    "只有Colab：请取消注释以下单元格以重新启动内核"
   ]
  },
  {
   "cell_type": "code",
   "execution_count": null,
   "metadata": {
    "id": "D-ZBOjErv5mM"
   },
   "outputs": [],
   "source": [
    "# Automatically restart kernel after installs so that your environment can access the new packages\n",
    "# import IPython\n",
    "\n",
    "# app = IPython.Application.instance()\n",
    "# app.kernel.do_shutdown(True)"
   ]
  },
  {
   "cell_type": "markdown",
   "metadata": {
    "id": "c587f3b9e1e9"
   },
   "source": [
    "## 开始之前\n",
    "\n",
    "### 设置你的 Google Cloud 项目\n",
    "\n",
    "**无论你使用什么笔记本环境，以下步骤都是必需的。**\n",
    "\n",
    "1. [选择或创建一个 Google Cloud 项目](https://console.cloud.google.com/cloud-resource-manager)。当你第一次创建账户时，你会获得$300的免费信用用于计算/存储费用。\n",
    "\n",
    "2. [确保为您的项目启用了计费](https://cloud.google.com/billing/docs/how-to/modify-project)。\n",
    "\n",
    "3. [启用 Vertex AI API](https://console.cloud.google.com/flows/enableapi?apiid=aiplatform.googleapis.com)。\n",
    "\n",
    "4. 如果你是在本地运行这个笔记本，你需要安装[Cloud SDK](https://cloud.google.com/sdk)。"
   ]
  },
  {
   "cell_type": "markdown",
   "metadata": {
    "id": "yfEglUHQk9S3"
   },
   "source": [
    "设置您的项目ID\n",
    "\n",
    "**如果您不知道您的项目ID**，请尝试以下操作：\n",
    "* 运行 `gcloud config list`。\n",
    "* 运行 `gcloud projects list`。\n",
    "* 查看支持页面：[查找项目ID](https://support.google.com/googleapi/answer/7014113)"
   ]
  },
  {
   "cell_type": "code",
   "execution_count": null,
   "metadata": {
    "id": "set_project_id"
   },
   "outputs": [],
   "source": [
    "PROJECT_ID = \"[your-project-id]\"  # @param {type:\"string\"}\n",
    "\n",
    "# Set the project id\n",
    "! gcloud config set project {PROJECT_ID}"
   ]
  },
  {
   "cell_type": "markdown",
   "metadata": {
    "id": "region"
   },
   "source": [
    "#### 区域\n",
    "\n",
    "您也可以更改 Vertex AI 使用的 `REGION` 变量。了解更多关于 [Vertex AI 区域](https://cloud.google.com/vertex-ai/docs/general/locations)。"
   ]
  },
  {
   "cell_type": "code",
   "execution_count": null,
   "metadata": {
    "id": "region"
   },
   "outputs": [],
   "source": [
    "REGION = \"us-central1\"  # @param {type: \"string\"}"
   ]
  },
  {
   "cell_type": "markdown",
   "metadata": {
    "id": "gcp_authenticate"
   },
   "source": [
    "### 验证您的Google Cloud账户\n",
    "\n",
    "根据您的Jupyter环境，您可能需要手动进行身份验证。请按照以下相关说明操作。\n",
    "\n",
    "**1. Vertex AI Workbench**\n",
    "* 不需要进行任何操作，因为您已经通过验证。\n",
    "\n",
    "**2. 本地JupyterLab实例，取消注释并运行：**"
   ]
  },
  {
   "cell_type": "code",
   "execution_count": null,
   "metadata": {
    "id": "ce6043da7b33"
   },
   "outputs": [],
   "source": [
    "# ! gcloud auth login"
   ]
  },
  {
   "cell_type": "markdown",
   "metadata": {
    "id": "0367eac06a10"
   },
   "source": [
    "3. 合作，取消注释并运行："
   ]
  },
  {
   "cell_type": "code",
   "execution_count": null,
   "metadata": {
    "id": "21ad4dbb4a61"
   },
   "outputs": [],
   "source": [
    "# from google.colab import auth\n",
    "# auth.authenticate_user()"
   ]
  },
  {
   "cell_type": "markdown",
   "metadata": {
    "id": "c13224697bfb"
   },
   "source": [
    "请参考如何在https://cloud.google.com/storage/docs/gsutil/commands/iam#ch-examples为您的服务帐户授予Cloud Storage权限。"
   ]
  },
  {
   "cell_type": "markdown",
   "metadata": {
    "id": "bucket:mbsdk"
   },
   "source": [
    "创建一个云存储桶\n",
    "\n",
    "创建一个存储桶，用作Vertex AI的暂存桶。"
   ]
  },
  {
   "cell_type": "code",
   "execution_count": null,
   "metadata": {
    "id": "bucket"
   },
   "outputs": [],
   "source": [
    "BUCKET_URI = f\"gs://your-bucket-name-{PROJECT_ID}-unique\"  # @param {type:\"string\"}"
   ]
  },
  {
   "cell_type": "markdown",
   "metadata": {
    "id": "create_bucket"
   },
   "source": [
    "只要您的存储桶尚未存在：运行以下单元格以创建您的云存储存储桶。"
   ]
  },
  {
   "cell_type": "code",
   "execution_count": null,
   "metadata": {
    "id": "create_bucket"
   },
   "outputs": [],
   "source": [
    "! gsutil mb -l {REGION} -p {PROJECT_ID} {BUCKET_URI}"
   ]
  },
  {
   "cell_type": "markdown",
   "metadata": {
    "id": "XoEqT2Y4DJmf"
   },
   "source": [
    "### 导入库"
   ]
  },
  {
   "cell_type": "code",
   "execution_count": null,
   "metadata": {
    "id": "pRUOFELefqf1"
   },
   "outputs": [],
   "source": [
    "import json\n",
    "import os\n",
    "from typing import Union\n",
    "\n",
    "import google.cloud.aiplatform as vertex_ai\n",
    "import pandas as pd\n",
    "from google.cloud import bigquery"
   ]
  },
  {
   "cell_type": "markdown",
   "metadata": {
    "id": "init_aip:mbsdk,all"
   },
   "source": [
    "初始化 Python 的 Vertex AI 和 BigQuery SDK。\n",
    "\n",
    "为您的项目初始化 Vertex AI SDK 并创建 BigQuery 客户端。"
   ]
  },
  {
   "cell_type": "code",
   "execution_count": null,
   "metadata": {
    "id": "init_aip:mbsdk,all"
   },
   "outputs": [],
   "source": [
    "# initialize the vertex ai sdk\n",
    "vertex_ai.init(project=PROJECT_ID, location=REGION, staging_bucket=BUCKET_URI)\n",
    "\n",
    "# create the bigquery client object\n",
    "bq_client = bigquery.Client(project=PROJECT_ID)"
   ]
  },
  {
   "cell_type": "markdown",
   "metadata": {
    "id": "f94734ac9312"
   },
   "source": [
    "在BigQuery中创建一个数据集之前,请定义一个辅助函数用于在BigQuery中运行查询。"
   ]
  },
  {
   "cell_type": "code",
   "execution_count": null,
   "metadata": {
    "id": "e364dab1d353"
   },
   "outputs": [],
   "source": [
    "# Wrapper to use BigQuery client to run query/job, return job ID or result as DF\n",
    "\n",
    "\n",
    "def run_bq_query(sql: str) -> Union[str, pd.DataFrame]:\n",
    "    \"\"\"\n",
    "    Input: SQL query, as a string, to execute in BigQuery\n",
    "    Returns the query results as a pandas DataFrame, or error, if any\n",
    "    \"\"\"\n",
    "    # Try dry run before executing query to catch any errors\n",
    "    job_config = bigquery.QueryJobConfig(dry_run=True, use_query_cache=False)\n",
    "    bq_client.query(sql, job_config=job_config)\n",
    "\n",
    "    # If dry run succeeds without errors, proceed to run query\n",
    "    job_config = bigquery.QueryJobConfig()\n",
    "    client_result = bq_client.query(sql, job_config=job_config)\n",
    "\n",
    "    job_id = client_result.job_id\n",
    "\n",
    "    # Wait for query/job to finish running. then get & return data frame\n",
    "    df = client_result.result().to_arrow().to_pandas()\n",
    "    print(f\"Finished job_id: {job_id}\")\n",
    "    # return the dataframe (if any tabular data is returned)\n",
    "    return df"
   ]
  },
  {
   "cell_type": "markdown",
   "metadata": {
    "id": "7df9da480041"
   },
   "source": [
    "使用SQL中的`Create`语句创建一个BigQuery数据集。\n",
    "\n",
    "了解有关[BigQuery中的SQL方言](https://cloud.google.com/bigquery/docs/introduction-sql#bigquery-sql-dialects)的更多信息。"
   ]
  },
  {
   "cell_type": "code",
   "execution_count": null,
   "metadata": {
    "id": "088e3b9577b3"
   },
   "outputs": [],
   "source": [
    "# provide the dataset name\n",
    "BQ_DATASET_NAME = \"churnprediction_unique\"  # @param {type:\"string\"}\n",
    "\n",
    "# create a SQL query for creating the dataset\n",
    "create_dataset_query = (\n",
    "    f\"\"\"CREATE SCHEMA IF NOT EXISTS `{PROJECT_ID}.{BQ_DATASET_NAME}`\"\"\"\n",
    ")\n",
    "\n",
    "# run the query\n",
    "run_bq_query(create_dataset_query)"
   ]
  },
  {
   "cell_type": "markdown",
   "metadata": {
    "id": "3c6f3e53d02c"
   },
   "source": [
    "## 准备训练数据\n",
    "\n",
    "在训练机器学习模型之前，需要处理数据并从中提取适当的特征。\n",
    "\n",
    "事件数据还包括用户的一些行为数据，这些数据可以用于生成训练特征。从数据中处理时间戳信息，以确定用户是否流失，这将作为训练的基本事实。\n",
    "\n",
    "在本节中，您执行以下步骤：\n",
    "\n",
    "1. 根据事件时间戳信息确定用户是否流失。\n",
    "2. 提取每个用户的行为数据。\n",
    "3. 将行为数据与流失标签数据进行匹配。\n",
    "\n",
    "注意：原始[博客](https://cloud.google.com/blog/topics/developers-practitioners/churn-prediction-game-developers-using-google-analytics-4-ga4-and-bigquery-ml)关于对该数据集进行训练还考虑了用户人口统计数据，本教程中略去了该部分。"
   ]
  },
  {
   "cell_type": "markdown",
   "metadata": {
    "id": "19bab7c21a72"
   },
   "source": [
    "### 为每个用户标识标签\n",
    "\n",
    "事件数据集没有一个特征来告诉你用户是否“流失”或“返回”。因此，在这一部分，根据以下标准为每个用户创建这个标签：\n",
    "\n",
    "```\n",
    "如果用户在首次使用应用程序后的24小时内没有显示任何事件数据，则认为该用户已流失。\n",
    "```\n",
    "\n",
    "用户流失可以有很多定义方式。在本笔记本中，您定义为1天的流失。\n",
    "\n",
    "此外，您从时间戳中提取日历信息作为特征，并从数据中删除“跳动”情况。跳动情况指的是用户只花几分钟（比如10分钟）与应用程序交互的情况。\n",
    "\n",
    "运行以下单元格以创建一个名为 **`returningusers`** 的视图，包括以下列：\n",
    "\n",
    "- `user_pseudo_id`：用户的伪id。\n",
    "- `user_first_engagement`：用户的最早事件时间戳。\n",
    "- `user_last_engagement`：用户的最新事件时间戳。\n",
    "- `month`：用户首次参与的年份月份。\n",
    "- `julianday`：用户首次参与的年份天数。\n",
    "- `dayofweek`：用户首次参与的星期几。\n",
    "- `ts_24hr_after_first_engagement`：用户首次参与后24小时的时间戳。\n",
    "- `churned`：布尔字段，表示已流失的为 **1**，未流失的为 **0**。\n",
    "- `bounced`：布尔字段，表示已跳动的为 **1**，未跳动的为 **0**。"
   ]
  },
  {
   "cell_type": "code",
   "execution_count": null,
   "metadata": {
    "id": "0782ceb77217"
   },
   "outputs": [],
   "source": [
    "# define the sql query\n",
    "create_label_data_query = f\"\"\"\n",
    "    CREATE OR REPLACE VIEW `{PROJECT_ID}.{BQ_DATASET_NAME}.returningusers` AS (\n",
    "      WITH firstlasttouch AS (\n",
    "        SELECT\n",
    "          user_pseudo_id,\n",
    "          MIN(event_timestamp) AS user_first_engagement,\n",
    "          MAX(event_timestamp) AS user_last_engagement\n",
    "        FROM\n",
    "          `firebase-public-project.analytics_153293282.events_*`\n",
    "        WHERE event_name=\"user_engagement\"\n",
    "        GROUP BY\n",
    "          user_pseudo_id\n",
    "\n",
    "      )\n",
    "      SELECT\n",
    "        user_pseudo_id,\n",
    "        user_first_engagement,\n",
    "        user_last_engagement,\n",
    "        EXTRACT(MONTH from TIMESTAMP_MICROS(user_first_engagement)) as month,\n",
    "        EXTRACT(DAYOFYEAR from TIMESTAMP_MICROS(user_first_engagement)) as julianday,\n",
    "        EXTRACT(DAYOFWEEK from TIMESTAMP_MICROS(user_first_engagement)) as dayofweek,\n",
    "\n",
    "        #add 24 hr to user's first touch\n",
    "        (user_first_engagement + 86400000000) AS ts_24hr_after_first_engagement,\n",
    "\n",
    "    #churned = 1 if last_touch within 24 hr of app installation, else 0\n",
    "    IF (user_last_engagement < (user_first_engagement + 86400000000),\n",
    "        1,\n",
    "        0 ) AS churned,\n",
    "\n",
    "    #bounced = 1 if last_touch within 10 min, else 0\n",
    "    IF (user_last_engagement <= (user_first_engagement + 600000000),\n",
    "        1,\n",
    "        0 ) AS bounced,\n",
    "      FROM\n",
    "        firstlasttouch\n",
    "      GROUP BY\n",
    "        1,2,3\n",
    "        );\n",
    "\n",
    "    SELECT \n",
    "      * \n",
    "    FROM \n",
    "      `{PROJECT_ID}.{BQ_DATASET_NAME}.returningusers`\n",
    "    LIMIT 10;\n",
    "\"\"\"\n",
    "\n",
    "# run the query\n",
    "run_bq_query(create_label_data_query)"
   ]
  },
  {
   "cell_type": "markdown",
   "metadata": {
    "id": "364730f55b45"
   },
   "source": [
    "提取每个用户的行为数据\n",
    "\n",
    "原始事件数据中的行为数据跨越多个事件。因此，您需要聚合和提取每个用户的行为数据。\n",
    "\n",
    "由于模型需要根据用户在头24小时内的活动来预测，所以您需要从应用使用的数据中提取少于24小时的聚合数据。\n",
    "\n",
    "对于聚合，您需要统计每个用户在数据中出现的以下事件类型的总数：\n",
    "\n",
    "- 用户参与\n",
    "- 开始快速游玩关卡\n",
    "- 结束快速游玩关卡\n",
    "- 完成快速游玩关卡\n",
    "- 重置快速游玩关卡\n",
    "- 发布分数\n",
    "- 消耗虚拟货币\n",
    "- 广告奖励\n",
    "- 向朋友挑战\n",
    "- 完成5个关卡\n",
    "- 使用额外步骤\n",
    "\n",
    "运行以下单元格来创建一个名为 `user_aggregate_behavior` 的视图，查询聚合的行为数据。"
   ]
  },
  {
   "cell_type": "code",
   "execution_count": null,
   "metadata": {
    "id": "e67b3fa3560e"
   },
   "outputs": [],
   "source": [
    "create_behavioral_data_query = f\"\"\"\n",
    "    CREATE OR REPLACE VIEW `{PROJECT_ID}.{BQ_DATASET_NAME}.user_aggregate_behavior` AS (\n",
    "    WITH\n",
    "      events_first24hr AS (\n",
    "        SELECT\n",
    "          e.*\n",
    "        FROM\n",
    "          `firebase-public-project.analytics_153293282.events_*` e\n",
    "        JOIN\n",
    "          `{PROJECT_ID}.{BQ_DATASET_NAME}.returningusers` r\n",
    "        ON\n",
    "          e.user_pseudo_id = r.user_pseudo_id\n",
    "        WHERE\n",
    "          e.event_timestamp <= r.ts_24hr_after_first_engagement\n",
    "        )\n",
    "    SELECT\n",
    "      user_pseudo_id,\n",
    "      SUM(IF(event_name = 'user_engagement', 1, 0)) AS cnt_user_engagement,\n",
    "      SUM(IF(event_name = 'level_start_quickplay', 1, 0)) AS cnt_level_start_quickplay,\n",
    "      SUM(IF(event_name = 'level_end_quickplay', 1, 0)) AS cnt_level_end_quickplay,\n",
    "      SUM(IF(event_name = 'level_complete_quickplay', 1, 0)) AS cnt_level_complete_quickplay,\n",
    "      SUM(IF(event_name = 'level_reset_quickplay', 1, 0)) AS cnt_level_reset_quickplay,\n",
    "      SUM(IF(event_name = 'post_score', 1, 0)) AS cnt_post_score,\n",
    "      SUM(IF(event_name = 'spend_virtual_currency', 1, 0)) AS cnt_spend_virtual_currency,\n",
    "      SUM(IF(event_name = 'ad_reward', 1, 0)) AS cnt_ad_reward,\n",
    "      SUM(IF(event_name = 'challenge_a_friend', 1, 0)) AS cnt_challenge_a_friend,\n",
    "      SUM(IF(event_name = 'completed_5_levels', 1, 0)) AS cnt_completed_5_levels,\n",
    "      SUM(IF(event_name = 'use_extra_steps', 1, 0)) AS cnt_use_extra_steps,\n",
    "    FROM\n",
    "      events_first24hr\n",
    "    GROUP BY\n",
    "      1\n",
    "      );\n",
    "\n",
    "    SELECT\n",
    "      *\n",
    "    FROM\n",
    "      `{PROJECT_ID}.{BQ_DATASET_NAME}.user_aggregate_behavior`\n",
    "    LIMIT 10\n",
    "\"\"\"\n",
    "# run the query\n",
    "run_bq_query(create_behavioral_data_query)"
   ]
  },
  {
   "cell_type": "markdown",
   "metadata": {
    "id": "4b796b180476"
   },
   "source": [
    "### 合并标签数据和行为数据\n",
    "\n",
    "现在，在`user_pseudo_id`字段上连接客户流失标签数据和行为数据。 \n",
    "\n",
    "此操作将创建一个名为`train`的视图，用于进一步训练。"
   ]
  },
  {
   "cell_type": "code",
   "execution_count": null,
   "metadata": {
    "id": "418d17066053"
   },
   "outputs": [],
   "source": [
    "combine_data_query = f\"\"\"\n",
    "    CREATE OR REPLACE VIEW `{PROJECT_ID}.{BQ_DATASET_NAME}.train` AS (\n",
    "\n",
    "      SELECT\n",
    "        ret.user_pseudo_id,\n",
    "        IFNULL(beh.cnt_user_engagement, 0) AS cnt_user_engagement,\n",
    "        IFNULL(beh.cnt_level_start_quickplay, 0) AS cnt_level_start_quickplay,\n",
    "        IFNULL(beh.cnt_level_end_quickplay, 0) AS cnt_level_end_quickplay,\n",
    "        IFNULL(beh.cnt_level_complete_quickplay, 0) AS cnt_level_complete_quickplay,\n",
    "        IFNULL(beh.cnt_level_reset_quickplay, 0) AS cnt_level_reset_quickplay,\n",
    "        IFNULL(beh.cnt_post_score, 0) AS cnt_post_score,\n",
    "        IFNULL(beh.cnt_spend_virtual_currency, 0) AS cnt_spend_virtual_currency,\n",
    "        IFNULL(beh.cnt_ad_reward, 0) AS cnt_ad_reward,\n",
    "        IFNULL(beh.cnt_challenge_a_friend, 0) AS cnt_challenge_a_friend,\n",
    "        IFNULL(beh.cnt_completed_5_levels, 0) AS cnt_completed_5_levels,\n",
    "        IFNULL(beh.cnt_use_extra_steps, 0) AS cnt_use_extra_steps,\n",
    "        ret.user_first_engagement,\n",
    "        ret.month,\n",
    "        ret.julianday,\n",
    "        ret.dayofweek,\n",
    "        ret.churned\n",
    "      FROM\n",
    "        `{PROJECT_ID}.{BQ_DATASET_NAME}.returningusers` ret\n",
    "      LEFT OUTER JOIN \n",
    "        `{PROJECT_ID}.{BQ_DATASET_NAME}.user_aggregate_behavior` beh\n",
    "      ON\n",
    "        ret.user_pseudo_id = beh.user_pseudo_id\n",
    "      WHERE ret.bounced = 0\n",
    "      );\n",
    "\n",
    "    SELECT\n",
    "      *\n",
    "    FROM\n",
    "      `{PROJECT_ID}.{BQ_DATASET_NAME}.train`\n",
    "    LIMIT 10\n",
    "\"\"\"\n",
    "# run the query\n",
    "run_bq_query(combine_data_query)"
   ]
  },
  {
   "cell_type": "markdown",
   "metadata": {
    "id": "b5936942dee2"
   },
   "source": [
    "使用BQML训练逻辑回归模型\n",
    "\n",
    "BQML提供了在BigQuery上使用SQL语法在表格数据上训练机器学习模型的功能，包括分类、回归、预测和矩阵分解。BQML利用了BigQuery的可伸缩基础设施，因此您无需为训练或批处理设置额外的基础设施。\n",
    "\n",
    "现在，使用BQML在创建的训练数据上训练一个逻辑回归模型。为此，您可以使用BigQuery的SQL语言中的`CREATE OR REPLACE MODEL`语句，并添加以下选项：\n",
    "\n",
    "* `MODEL_TYPE`：指定用于训练模型的机器学习算法。了解其他[可用的模型类型](https://cloud.google.com/bigquery/docs/reference/standard-sql/bigqueryml-syntax-create#model_type)。\n",
    "\n",
    "* `INPUT_LABEL_COLS`：指定训练数据中标签列的名称。\n",
    "\n",
    "* `MODEL_REGISTRY`：指定模型注册的目的地。目前，'VERTEX_AI'是唯一支持的模型注册目的地。要了解更多信息，请参阅[MLOps with BigQuery ML and Vertex AI](https://cloud.google.com/bigquery/docs/create_vertex#register_a_model_to_the)。\n",
    "\n",
    "* `VERTEX_AI_MODEL_VERSION_ALIASES`：要注册模型的Vertex AI模型别名。只有在`MODEL_REGISTRY`设置为'VERTEX_AI'时才能设置。要了解更多信息，请参阅[添加Vertex AI模型别名](https://cloud.google.com/bigquery/docs/create_vertex#add_a_model_alias)。\n",
    "\n",
    "了解更多关于在[BQML](https://cloud.google.com/bigquery/docs/bqml-introduction)中训练模型的信息。\n",
    "\n",
    "请注意，模型名称也遵循与BigQuery中的表格相同的[规则](https://cloud.google.com/bigquery/docs/reference/standard-sql/bigqueryml-syntax-create#model_name)。"
   ]
  },
  {
   "cell_type": "code",
   "execution_count": null,
   "metadata": {
    "id": "b982bd807671"
   },
   "outputs": [],
   "source": [
    "# set the model name\n",
    "BQ_MODEL_NAME = \"churn_model_unique\"  # @param {type:\"string\"}\n",
    "\n",
    "# define the query for creating and training the BQML model\n",
    "# remove the id columns user_first_engagement, user_pseudo_id\n",
    "# for training\n",
    "train_model_query = f\"\"\"\n",
    "    CREATE OR REPLACE MODEL `{PROJECT_ID}.{BQ_DATASET_NAME}.{BQ_MODEL_NAME}`\n",
    "\n",
    "    OPTIONS(\n",
    "      MODEL_TYPE=\"LOGISTIC_REG\",\n",
    "      INPUT_LABEL_COLS=[\"churned\"],\n",
    "      MODEL_REGISTRY=\"VERTEX_AI\",\n",
    "      VERTEX_AI_MODEL_VERSION_ALIASES=['logistic_reg', 'churn_prediction']\n",
    "    ) AS\n",
    "  \n",
    "    SELECT\n",
    "      * EXCEPT(user_first_engagement, user_pseudo_id)\n",
    "    FROM\n",
    "      `{PROJECT_ID}.{BQ_DATASET_NAME}.train`\n",
    "\"\"\"\n",
    "# run the query\n",
    "run_bq_query(train_model_query)"
   ]
  },
  {
   "cell_type": "markdown",
   "metadata": {
    "id": "a3f7ed776cac"
   },
   "source": [
    "获取评估分数\n",
    "\n",
    "训练完成后，获取训练模型的评估指标分数。\n",
    "\n",
    "以下单元格应该显示以下字段的结果：\n",
    "\n",
    "| 精确度 | 召回率 | 准确性 | F1 分数 | 对数损失 | ROC 曲线下面积 |\n",
    "| -------- | ------- | ------- | ------- | ------- | ------- |\n",
    "\n",
    "了解有关**ML.EVALUATE**函数返回的[度量标准的更多信息](https://cloud.google.com/bigquery/docs/reference/standard-sql/bigqueryml-syntax-evaluate#mlevaluate_output)。"
   ]
  },
  {
   "cell_type": "code",
   "execution_count": null,
   "metadata": {
    "id": "ba9bbe192cfa"
   },
   "outputs": [],
   "source": [
    "# define the query\n",
    "evaluate_model_query = f\"\"\"\n",
    "    SELECT\n",
    "      *\n",
    "    FROM\n",
    "      ML.EVALUATE(MODEL `{PROJECT_ID}.{BQ_DATASET_NAME}.{BQ_MODEL_NAME}`)\n",
    "\"\"\"\n",
    "\n",
    "# run the query\n",
    "run_bq_query(evaluate_model_query)"
   ]
  },
  {
   "cell_type": "markdown",
   "metadata": {
    "id": "3b863ecc9bad"
   },
   "source": [
    "## 生成带有解释的批处理预测\n",
    "\n",
    "在训练数据中的一些样本上使用BQML进行批处理预测。每个用户流失的概率都显示在“probability”列中，预测的标签位于“predicted_churn”列下。\n",
    "\n",
    "此外，您还可以使用`ML.EXPLAIN_PREDICT()`函数生成以特征归因形式的解释。这样您就可以解释每个预测中贡献最大的特征。\n",
    "\n",
    "返回的输出包括以下附加列：\n",
    "\n",
    "- `predicted_churned`：预测标签值（流失）的列。\n",
    "\n",
    "- `probability`：预测标签类的概率。\n",
    "\n",
    "- `top_feature_attributions`：包含顶部 k 个特征对最终预测的归因的STRUCTs数组。\n",
    "\n",
    "    - `top_feature_attributions.feature`：特征名称。\n",
    "    \n",
    "    - `top_feature_attributions.attribution`：特征对最终预测的贡献。\n",
    "    \n",
    "- `baseline_prediction_value`：对于线性模型，baseline_prediction_value是模型的截距。\n",
    "\n",
    "- `prediction_value`：预测类的对数几率（log-odds）值。\n",
    "\n",
    "- `approximation_error`：用于解释所使用算法的近似误差。在当前的逻辑回归模型中，没有近似误差，该字段始终为0。了解更多关于[近似误差](https://cloud.google.com/bigquery/docs/reference/standard-sql/bigqueryml-syntax-explain-predict#mlexplain_predict_output)的信息。\n",
    "\n",
    "了解更多关于[**ML.EXPLAIN_PREDICT**](https://cloud.google.com/bigquery-ml/docs/reference/standard-sql/bigqueryml-syntax-xai-overview)的信息。\n",
    "\n",
    "注意：您可以简单地使用[**ML.PREDICT**](https://cloud.google.com/bigquery/docs/reference/standard-sql/bigqueryml-syntax-predict#mlpredict_function)来获取没有解释的预测。"
   ]
  },
  {
   "cell_type": "code",
   "execution_count": null,
   "metadata": {
    "id": "5898da3d9be3"
   },
   "outputs": [],
   "source": [
    "# write sql query for predictions with explanations\n",
    "explain_predict_query = f\"\"\"\n",
    "    SELECT\n",
    "      *\n",
    "    FROM\n",
    "      ML.EXPLAIN_PREDICT(\n",
    "        MODEL `{PROJECT_ID}.{BQ_DATASET_NAME}.{BQ_MODEL_NAME}`,\n",
    "        (\n",
    "            SELECT * FROM `{PROJECT_ID}.{BQ_DATASET_NAME}.train` LIMIT 10\n",
    "        )\n",
    "    )\n",
    "\"\"\"\n",
    "# run the sql query\n",
    "run_bq_query(explain_predict_query)"
   ]
  },
  {
   "cell_type": "markdown",
   "metadata": {
    "id": "bcd66c397994"
   },
   "source": [
    "从模型注册表中获取模型\n",
    "\n",
    "先前使用`MODEL_REGISTRY`设置为`VERTEX_AI`的`CREATE MODEL`语句在Vertex AI模型注册表中创建了一个模型。\n",
    "\n",
    "使用模型名称获取模型资源。"
   ]
  },
  {
   "cell_type": "code",
   "execution_count": null,
   "metadata": {
    "id": "33bb93b73fc6"
   },
   "outputs": [],
   "source": [
    "model = vertex_ai.Model(model_name=BQ_MODEL_NAME)\n",
    "\n",
    "print(model.gca_resource)"
   ]
  },
  {
   "cell_type": "markdown",
   "metadata": {
    "id": "533c5f53b007"
   },
   "source": [
    "## 创建部署的端点\n",
    "\n",
    "虽然BQML支持批量预测，但它不适用于需要低延迟预测以及可能频繁请求的实时预测。因此，将BQML模型部署到端点可以让您进行在线预测。\n",
    "\n",
    "创建一个Vertex AI端点来部署BQML模型。"
   ]
  },
  {
   "cell_type": "code",
   "execution_count": null,
   "metadata": {
    "id": "b0580ed33a96"
   },
   "outputs": [],
   "source": [
    "ENDPOINT_NAME = \"churn-model-endpoint-unique\"  # @param {type:\"string\"}\n",
    "\n",
    "endpoint = vertex_ai.Endpoint.create(\n",
    "    display_name=ENDPOINT_NAME,\n",
    "    project=PROJECT_ID,\n",
    "    location=REGION,\n",
    ")\n",
    "\n",
    "print(\"Endpoint display name:\", endpoint.display_name)\n",
    "print(\"Endpoint resource name:\", endpoint.resource_name)"
   ]
  },
  {
   "cell_type": "markdown",
   "metadata": {
    "id": "ad3e6e498a46"
   },
   "source": [
    "部署模型到端点\n",
    "\n",
    "使用 [**deploy**](https://cloud.google.com/python/docs/reference/aiplatform/latest/google.cloud.aiplatform.Model#google_cloud_aiplatform_Model_deploy) 方法将模型资源部署到已创建的端点资源。\n",
    "\n",
    "当您的BQML模型在Vertex AI模型注册表中注册，并且是支持可解释性人工智能的模型类型时，您可以在将模型部署到端点时启用可解释性人工智能。在本教程中，您将不使用可解释性人工智能部署模型。\n",
    "\n",
    "了解更多关于[将BQML模型部署到启用可解释性人工智能的Vertex AI端点](https://cloud.google.com/bigquery/docs/vertex-xai#enable_explainable_ai_in)。"
   ]
  },
  {
   "cell_type": "code",
   "execution_count": null,
   "metadata": {
    "id": "229cf70af4f1"
   },
   "outputs": [],
   "source": [
    "# deploying the model to the endpoint may take 10-15 minutes\n",
    "model.deploy(endpoint=endpoint)"
   ]
  },
  {
   "cell_type": "markdown",
   "metadata": {
    "id": "527137e45503"
   },
   "source": [
    "为在线预测创建有效载荷\n",
    "\n",
    "查询训练数据以获取一些样本（比如2条记录），以便作为在线请求发送到终端。实例有效载荷需格式化为一组键值对列表，其中键代表一个特征。"
   ]
  },
  {
   "cell_type": "code",
   "execution_count": null,
   "metadata": {
    "id": "88c06376b10a"
   },
   "outputs": [],
   "source": [
    "# query to select two instances for testing\n",
    "test_df = run_bq_query(\n",
    "    f\"\"\"\n",
    "    SELECT \n",
    "    * except(user_first_engagement, user_pseudo_id, churned) \n",
    "    FROM `{PROJECT_ID}.{BQ_DATASET_NAME}.train` \n",
    "    LIMIT 2\n",
    "    \"\"\"\n",
    ")\n",
    "# convert the dataframe to json instances to send\n",
    "df_sample_requests_list = json.loads(test_df.to_json(orient=\"records\"))\n",
    "\n",
    "# display the data\n",
    "test_df"
   ]
  },
  {
   "cell_type": "markdown",
   "metadata": {
    "id": "cc3541d4c4d7"
   },
   "source": [
    "将在线请求发送到端点\n",
    "\n",
    "使用端点的 **predict** 方法，并发送要预测的实例列表。\n",
    "\n",
    "返回响应中的预测包括以下内容：\n",
    "\n",
    "- `churned_probs`: 每个类别的概率。\n",
    "- `predicted_churned`: 预测的类别。\n",
    "- `churned_values`: 类别的可能值（1 代表流失，0 代表未流失）。"
   ]
  },
  {
   "cell_type": "code",
   "execution_count": null,
   "metadata": {
    "id": "85dc6608e4b2"
   },
   "outputs": [],
   "source": [
    "# send prediction request to the endpoint\n",
    "prediction = endpoint.predict(df_sample_requests_list)\n",
    "# print the predictions\n",
    "print(prediction.predictions)"
   ]
  },
  {
   "cell_type": "markdown",
   "metadata": {
    "id": "TpV-iwP9qw9c"
   },
   "source": [
    "## 清理\n",
    "\n",
    "要清理此项目中使用的所有 Google Cloud 资源，您可以删除用于教程的 [Google Cloud 项目](https://cloud.google.com/resource-manager/docs/creating-managing-projects#shutting_down_projects)。\n",
    "\n",
    "否则，您可以删除在本教程中创建的各个资源：\n",
    "\n",
    "- Vertex AI 端点\n",
    "- Vertex AI 模型（无法从 Vertex AI 中删除 BQML 模型，需要从 BigQuery 中删除）\n",
    "- BigQuery 数据集\n",
    "- Cloud Storage 存储桶"
   ]
  },
  {
   "cell_type": "code",
   "execution_count": null,
   "metadata": {
    "id": "sx_vKniMq9ZX"
   },
   "outputs": [],
   "source": [
    "# set True to delete the dataset\n",
    "delete_dataset = False\n",
    "# set True to delete the bucket\n",
    "delete_bucket = False\n",
    "\n",
    "# undeploy model from the endpoint\n",
    "endpoint.undeploy_all()\n",
    "# # delete the endpoint\n",
    "endpoint.delete()\n",
    "\n",
    "# delete BigQuery dataset\n",
    "if delete_dataset or os.getenv(\"IS_TESTING\"):\n",
    "    ! bq rm -r -f $PROJECT_ID:$BQ_DATASET_NAME\n",
    "# delete the Cloud Storage bucket\n",
    "if delete_bucket or os.getenv(\"IS_TESTING\"):\n",
    "    ! gsutil -m rm -r $BUCKET_URI"
   ]
  }
 ],
 "metadata": {
  "colab": {
   "collapsed_sections": [],
   "name": "bqml-online-prediction.ipynb",
   "toc_visible": true
  },
  "kernelspec": {
   "display_name": "Python 3",
   "name": "python3"
  }
 },
 "nbformat": 4,
 "nbformat_minor": 0
}
