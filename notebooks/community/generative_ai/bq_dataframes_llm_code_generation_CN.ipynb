{
 "cells": [
  {
   "cell_type": "code",
   "execution_count": null,
   "metadata": {
    "id": "ur8xi4C7S06n"
   },
   "outputs": [],
   "source": [
    "# Copyright 2023 Google LLC\n",
    "#\n",
    "# Licensed under the Apache License, Version 2.0 (the \"License\");\n",
    "# you may not use this file except in compliance with the License.\n",
    "# You may obtain a copy of the License at\n",
    "#\n",
    "#     https://www.apache.org/licenses/LICENSE-2.0\n",
    "#\n",
    "# Unless required by applicable law or agreed to in writing, software\n",
    "# distributed under the License is distributed on an \"AS IS\" BASIS,\n",
    "# WITHOUT WARRANTIES OR CONDITIONS OF ANY KIND, either express or implied.\n",
    "# See the License for the specific language governing permissions and\n",
    "# limitations under the License."
   ]
  },
  {
   "cell_type": "markdown",
   "metadata": {
    "id": "JAPoU8Sm5E6e"
   },
   "source": [
    "使用生成式AI和BigQuery DataFrames进行代码生成\n",
    "\n",
    "<table align=\"left\">\n",
    "\n",
    "  <td>\n",
    "    <a href=\"https://colab.research.google.com/github/googleapis/python-bigquery-dataframes/tree/main/notebooks/getting_started/bq_dataframes_llm_code_generation.ipynb\">\n",
    "      <img src=\"https://cloud.google.com/ml-engine/images/colab-logo-32px.png\" alt=\"Colab logo\"> 在Colab中运行\n",
    "    </a>\n",
    "  </td>\n",
    "  <td>\n",
    "    <a href=\"https://github.com/googleapis/python-bigquery-dataframes/tree/main/notebooks/getting_started/bq_dataframes_llm_code_generation.ipynb\">\n",
    "      <img src=\"https://cloud.google.com/ml-engine/images/github-logo-32px.png\" alt=\"GitHub logo\">\n",
    "      在GitHub上查看\n",
    "    </a>\n",
    "  </td>\n",
    "  <td>\n",
    "    <a href=\"https://console.cloud.google.com/vertex-ai/workbench/deploy-notebook?download_url=https://raw.githubusercontent.com/googleapis/python-bigquery-dataframes/tree/main/notebooks/getting_started/bq_dataframes_llm_code_generation.ipynb\">\n",
    "      <img src=\"https://lh3.googleusercontent.com/UiNooY4LUgW_oTvpsNhPpQzsstV5W8F7rYgxgGBD85cWJoLmrOzhVs_ksK_vgx40SHs7jCqkTkCk=e14-rj-sc0xffffff-h130-w32\" alt=\"Vertex AI logo\">\n",
    "      在Vertex AI Workbench中打开\n",
    "    </a>\n",
    "  </td>                                                                                               \n",
    "</table>"
   ]
  },
  {
   "cell_type": "markdown",
   "metadata": {
    "id": "24743cf4a1e1"
   },
   "source": [
    "**_注意_**：此笔记本已在以下环境中测试：\n",
    "\n",
    "* Python 版本 = 3.10"
   ]
  },
  {
   "cell_type": "markdown",
   "metadata": {
    "id": "tvgnzT1CKxrO"
   },
   "source": [
    "## 概述\n",
    "\n",
    "使用这份笔记本来演示如何利用BigQuery DataFrames及其与Vertex AI上的生成式AI支持集成来生成样本代码的示例用例。\n",
    "\n",
    "了解更多关于[BigQuery DataFrames](https://cloud.google.com/python/docs/reference/bigframes/latest)。"
   ]
  },
  {
   "cell_type": "markdown",
   "metadata": {
    "id": "d975e698c9a4"
   },
   "source": [
    "### 目标\n",
    "\n",
    "在本教程中，您将创建一个包含调用给定一组API的示例代码的CSV文件。\n",
    "\n",
    "步骤包括：\n",
    "\n",
    "- 在BigQuery DataFrames中定义一个LLM模型，具体地说是PaLM API的[`text-bison`模型](https://cloud.google.com/vertex-ai/docs/generative-ai/model-reference/text)，使用`bigframes.ml.llm`。\n",
    "- 通过从Cloud Storage中读取数据来创建一个DataFrame。\n",
    "- 操纵DataFrame中的数据以构建LLM提示。\n",
    "- 使用`predict`方法将DataFrame提示发送到LLM模型。\n",
    "- 创建并使用一个自定义函数来转换LLM模型响应提供的输出。\n",
    "- 将生成的转换后的DataFrame导出为CSV文件。"
   ]
  },
  {
   "cell_type": "markdown",
   "metadata": {
    "id": "08d289fa873f"
   },
   "source": [
    "### 数据集\n",
    "\n",
    "本教程使用了一个包含各种pandas DataFrame和Series API名称的数据集。"
   ]
  },
  {
   "cell_type": "markdown",
   "metadata": {
    "id": "aed92deeb4a0"
   },
   "source": [
    "### 成本\n",
    "\n",
    "本教程使用 Google Cloud 的计费组件：\n",
    "\n",
    "* BigQuery\n",
    "* Vertex AI 上的生成式 AI 支持\n",
    "* Cloud Functions\n",
    "\n",
    "了解 [BigQuery 计算定价](https://cloud.google.com/bigquery/pricing#analysis_pricing_models),\n",
    "[Vertex AI 上的生成式 AI 支持定价](https://cloud.google.com/vertex-ai/pricing#generative_ai_models) 和 [Cloud Functions 定价](https://cloud.google.com/functions/pricing)，并使用 [定价计算器](https://cloud.google.com/products/calculator/)\n",
    "根据您预期的使用情况生成一个成本估算。"
   ]
  },
  {
   "cell_type": "markdown",
   "metadata": {
    "id": "i7EUnXsZhAGF"
   },
   "source": [
    "## 安装\n",
    "\n",
    "安装以下包，这些包是运行这个笔记本所需要的："
   ]
  },
  {
   "cell_type": "code",
   "execution_count": null,
   "metadata": {
    "id": "2b4ef9b72d43"
   },
   "outputs": [],
   "source": [
    "!pip install bigframes --upgrade --quiet"
   ]
  },
  {
   "cell_type": "markdown",
   "metadata": {
    "id": "BF1j6f9HApxa"
   },
   "source": [
    "在开始之前\n",
    "\n",
    "完成本节中的任务，以设置您的环境。"
   ]
  },
  {
   "cell_type": "markdown",
   "metadata": {
    "id": "Wbr2aVtFQBcg"
   },
   "source": [
    "### 设置您的Google云项目\n",
    "\n",
    "**以下步骤是必需的，无论您使用的笔记本环境是什么。**\n",
    "\n",
    "1. [选择或创建一个Google云项目](https://console.cloud.google.com/cloud-resource-manager)。当您第一次创建账户时，您会获得$300的计算/存储成本抵扣。\n",
    "\n",
    "2. [确保您的项目已启用计费](https://cloud.google.com/billing/docs/how-to/modify-project)。\n",
    "\n",
    "3. [点击这里](https://console.cloud.google.com/flows/enableapi?apiid=bigquery.googleapis.com,bigqueryconnection.googleapis.com,cloudfunctions.googleapis.com,run.googleapis.com,artifactregistry.googleapis.com,cloudbuild.googleapis.com,cloudresourcemanager.googleapis.com) 启用以下API：\n",
    "\n",
    "  * BigQuery API\n",
    "  * BigQuery Connection API\n",
    "  * Cloud Functions API\n",
    "  * Cloud Run API\n",
    "  * Artifact Registry API\n",
    "  * Cloud Build API\n",
    "  * Cloud Resource Manager API\n",
    "  * Vertex AI API\n",
    "\n",
    "4. 如果您正在本地运行这个笔记本，请安装[Cloud SDK](https://cloud.google.com/sdk)。"
   ]
  },
  {
   "cell_type": "markdown",
   "metadata": {
    "id": "WReHDGG5g0XY"
   },
   "source": [
    "设置您的项目ID\n",
    "\n",
    "如果您不知道您的项目ID，请尝试以下方法：\n",
    "* 运行`gcloud config list`。\n",
    "* 运行`gcloud projects list`。\n",
    "* 查看支持页面：[查找项目ID](https://support.google.com/googleapi/answer/7014113)。"
   ]
  },
  {
   "cell_type": "code",
   "execution_count": null,
   "metadata": {
    "id": "oM1iC_MfAts1"
   },
   "outputs": [],
   "source": [
    "PROJECT_ID = \"\"  # @param {type:\"string\"}\n",
    "\n",
    "# Set the project id\n",
    "! gcloud config set project {PROJECT_ID}"
   ]
  },
  {
   "cell_type": "markdown",
   "metadata": {
    "id": "region"
   },
   "source": [
    "设置区域\n",
    "\n",
    "您也可以更改BigQuery使用的`REGION`变量。了解有关[BigQuery区域](https://cloud.google.com/bigquery/docs/locations#supported_locations)的更多信息。"
   ]
  },
  {
   "cell_type": "code",
   "execution_count": null,
   "metadata": {
    "id": "eF-Twtc4XGem"
   },
   "outputs": [],
   "source": [
    "REGION = \"US\"  # @param {type: \"string\"}"
   ]
  },
  {
   "cell_type": "markdown",
   "metadata": {
    "id": "sBCra4QMA2wR"
   },
   "source": [
    "### 验证您的谷歌云帐户\n",
    "\n",
    "根据您的Jupyter环境，您可能需要手动进行身份验证。请按照以下相关指示操作。"
   ]
  },
  {
   "cell_type": "markdown",
   "metadata": {
    "id": "74ccc9e52986"
   },
   "source": [
    "**顶点 AI 工作台**\n",
    "\n",
    "不用做任何事，您已经通过验证了。"
   ]
  },
  {
   "cell_type": "markdown",
   "metadata": {
    "id": "de775a3773ba"
   },
   "source": [
    "本地JupyterLab实例\n",
    "\n",
    "取消注释并运行以下单元格："
   ]
  },
  {
   "cell_type": "code",
   "execution_count": null,
   "metadata": {
    "id": "254614fa0c46"
   },
   "outputs": [],
   "source": [
    "# ! gcloud auth login"
   ]
  },
  {
   "cell_type": "markdown",
   "metadata": {
    "id": "ef21552ccea8"
   },
   "source": [
    "取消注释并运行以下单元格:"
   ]
  },
  {
   "cell_type": "code",
   "execution_count": null,
   "metadata": {
    "id": "603adbbf0532"
   },
   "outputs": [],
   "source": [
    "# from google.colab import auth\n",
    "# auth.authenticate_user()"
   ]
  },
  {
   "cell_type": "markdown",
   "metadata": {
    "id": "960505627ddf"
   },
   "source": [
    "### 导入库"
   ]
  },
  {
   "cell_type": "code",
   "execution_count": null,
   "metadata": {
    "id": "PyQmSRbKA8r-"
   },
   "outputs": [],
   "source": [
    "import bigframes.pandas as bf\n",
    "from google.cloud import bigquery_connection_v1 as bq_connection"
   ]
  },
  {
   "cell_type": "markdown",
   "metadata": {
    "id": "init_aip:mbsdk,all"
   },
   "source": [
    "### 设置 BigQuery 数据帧选项"
   ]
  },
  {
   "cell_type": "code",
   "execution_count": null,
   "metadata": {
    "id": "NPPMuw2PXGeo"
   },
   "outputs": [],
   "source": [
    "bf.options.bigquery.project = PROJECT_ID\n",
    "bf.options.bigquery.location = REGION"
   ]
  },
  {
   "cell_type": "markdown",
   "metadata": {
    "id": "DTVtFlqeFbrU"
   },
   "source": [
    "如果您想要重置已创建的DataFrame或Series对象的位置，请执行`bf.reset_session()`来重置会话。之后，您可以重复使用`bf.options.bigquery.location`来指定另一个位置。"
   ]
  },
  {
   "cell_type": "markdown",
   "metadata": {
    "id": "6eytf4xQHzcF"
   },
   "source": [
    "# 定义LLM模型\n",
    "\n",
    "BigQuery DataFrames 通过 Vertex AI 与 PaLM API 的 `text-bison` 模型集成。\n",
    "\n",
    "本节将介绍在笔记本中使用该模型所需的一些步骤。"
   ]
  },
  {
   "cell_type": "markdown",
   "metadata": {
    "id": "rS4VO1TGiO4G"
   },
   "source": [
    "创建一个BigQuery云资源连接\n",
    "\n",
    "您需要创建一个[云资源连接](https://cloud.google.com/bigquery/docs/create-cloud-resource-connection)，以使BigQuery DataFrames能够与Vertex AI服务进行交互。"
   ]
  },
  {
   "cell_type": "code",
   "execution_count": null,
   "metadata": {
    "id": "KFPjDM4LVh96"
   },
   "outputs": [],
   "source": [
    "CONN_NAME = \"bqdf-llm\"\n",
    "\n",
    "client = bq_connection.ConnectionServiceClient()\n",
    "new_conn_parent = f\"projects/{PROJECT_ID}/locations/{REGION}\"\n",
    "exists_conn_parent = f\"projects/{PROJECT_ID}/locations/{REGION}/connections/{CONN_NAME}\"\n",
    "cloud_resource_properties = bq_connection.CloudResourceProperties({})\n",
    "\n",
    "try:\n",
    "    request = client.get_connection(\n",
    "        request=bq_connection.GetConnectionRequest(name=exists_conn_parent)\n",
    "    )\n",
    "    CONN_SERVICE_ACCOUNT = f\"serviceAccount:{request.cloud_resource.service_account_id}\"\n",
    "except Exception:\n",
    "    connection = bq_connection.types.Connection(\n",
    "        {\"friendly_name\": CONN_NAME, \"cloud_resource\": cloud_resource_properties}\n",
    "    )\n",
    "    request = bq_connection.CreateConnectionRequest(\n",
    "        {\n",
    "            \"parent\": new_conn_parent,\n",
    "            \"connection_id\": CONN_NAME,\n",
    "            \"connection\": connection,\n",
    "        }\n",
    "    )\n",
    "    response = client.create_connection(request)\n",
    "    CONN_SERVICE_ACCOUNT = (\n",
    "        f\"serviceAccount:{response.cloud_resource.service_account_id}\"\n",
    "    )\n",
    "print(CONN_SERVICE_ACCOUNT)"
   ]
  },
  {
   "cell_type": "markdown",
   "metadata": {
    "id": "W6l6Ol2biU9h"
   },
   "source": [
    "## 为服务账号设置权限\n",
    "\n",
    "资源连接服务账号需要特定的项目级权限：\n",
    " - `roles/aiplatform.user` 和 `roles/bigquery.connectionUser`: 这些角色是连接到 Vertex AI 中使用 LLM 模型创建模型定义所需的权限（[文档](https://cloud.google.com/bigquery/docs/generate-text#give_the_service_account_access)）。\n",
    " - `roles/run.invoker`: 这个角色是连接拥有对支持自定义/远程函数的 Cloud Run 服务的只读访问权限所需的权限（[文档](https://cloud.google.com/bigquery/docs/remote-functions#grant_permission_on_function)）。\n",
    "\n",
    "通过运行以下 `gcloud` 命令设置这些权限："
   ]
  },
  {
   "cell_type": "code",
   "execution_count": null,
   "metadata": {
    "id": "d8wja24SVq6s"
   },
   "outputs": [],
   "source": [
    "!gcloud projects add-iam-policy-binding {PROJECT_ID} --condition=None --no-user-output-enabled --member={CONN_SERVICE_ACCOUNT} --role='roles/bigquery.connectionUser'\n",
    "!gcloud projects add-iam-policy-binding {PROJECT_ID} --condition=None --no-user-output-enabled --member={CONN_SERVICE_ACCOUNT} --role='roles/aiplatform.user'\n",
    "!gcloud projects add-iam-policy-binding {PROJECT_ID} --condition=None --no-user-output-enabled --member={CONN_SERVICE_ACCOUNT} --role='roles/run.invoker'"
   ]
  },
  {
   "cell_type": "markdown",
   "metadata": {
    "id": "qUjT8nw-jIXp"
   },
   "source": [
    "## 定义模型\n",
    "\n",
    "使用`bigframes.ml.llm`来定义模型："
   ]
  },
  {
   "cell_type": "code",
   "execution_count": null,
   "metadata": {
    "id": "sdjeXFwcHfl7"
   },
   "outputs": [],
   "source": [
    "from bigframes.ml.llm import PaLM2TextGenerator\n",
    "\n",
    "session = bf.get_global_session()\n",
    "connection = f\"{PROJECT_ID}.{REGION}.{CONN_NAME}\"\n",
    "model = PaLM2TextGenerator(session=session, connection_name=connection)"
   ]
  },
  {
   "cell_type": "markdown",
   "metadata": {
    "id": "GbW0oCnU1s1N"
   },
   "source": [
    "从Cloud Storage读取数据到BigQuery DataFrames\n",
    "\n",
    "您可以通过从以下任何位置读取数据来创建BigQuery DataFrames DataFrame：\n",
    "\n",
    "* 本地数据文件\n",
    "* 存储在BigQuery表中的数据\n",
    "* 存储在Cloud Storage中的数据文件\n",
    "* 内存中的pandas DataFrame\n",
    "\n",
    "在本教程中，您将通过从Cloud Storage中存储的两个CSV文件读取数据来创建BigQuery DataFrames DataFrames，其中一个包含DataFrame API名称列表，另一个包含Series API名称列表。"
   ]
  },
  {
   "cell_type": "code",
   "execution_count": null,
   "metadata": {
    "id": "SchiTkQGIJog"
   },
   "outputs": [],
   "source": [
    "df_api = bf.read_csv(\"gs://cloud-samples-data/vertex-ai/bigframe/df.csv\")\n",
    "series_api = bf.read_csv(\"gs://cloud-samples-data/vertex-ai/bigframe/series.csv\")"
   ]
  },
  {
   "cell_type": "markdown",
   "metadata": {
    "id": "7OBjw2nmQY3-"
   },
   "source": [
    "查看每个文件的几行数据。"
   ]
  },
  {
   "cell_type": "code",
   "execution_count": null,
   "metadata": {
    "id": "QCqgVCIsGGuv"
   },
   "outputs": [],
   "source": [
    "df_api.head(2)"
   ]
  },
  {
   "cell_type": "code",
   "execution_count": null,
   "metadata": {
    "id": "BGJnZbgEGS5-"
   },
   "outputs": [],
   "source": [
    "series_api.head(2)"
   ]
  },
  {
   "cell_type": "markdown",
   "metadata": {
    "id": "m3ZJEsi7SUKV"
   },
   "source": [
    "使用LLM模型生成代码\n",
    "\n",
    "准备提示并将其发送给LLM模型进行预测。"
   ]
  },
  {
   "cell_type": "markdown",
   "metadata": {
    "id": "9EMAqR37AfLS"
   },
   "source": [
    "## 在BigQuery DataFrames中设计提示\n",
    "\n",
    "为LLMs设计提示是一个快速发展的领域，您可以在[此文档](https://cloud.google.com/vertex-ai/docs/generative-ai/learn/introduction-prompt-design)中阅读更多。\n",
    "\n",
    "在本教程中，您将使用一个简单的提示来询问LLM模型获取上一步DataFrames中每个API方法（或行）的示例代码。输出是新的DataFrames `df_prompt` 和 `series_prompt`，其中包含完整的提示文本。"
   ]
  },
  {
   "cell_type": "code",
   "execution_count": null,
   "metadata": {
    "id": "EDAaIwHpQCDZ"
   },
   "outputs": [],
   "source": [
    "df_prompt_prefix = \"Generate Pandas sample code for DataFrame.\"\n",
    "series_prompt_prefix = \"Generate Pandas sample code for Series.\"\n",
    "\n",
    "df_prompt = df_prompt_prefix + df_api[\"API\"]\n",
    "series_prompt = series_prompt_prefix + series_api[\"API\"]\n",
    "\n",
    "df_prompt.head(2)"
   ]
  },
  {
   "cell_type": "markdown",
   "metadata": {
    "id": "rwPLjqW2Ajzh"
   },
   "source": [
    "使用LLM模型进行预测\n",
    "\n",
    "使用包含完整提示文本的BigQuery DataFrames DataFrame作为`predict`方法的输入。`predict`方法调用LLM模型，并将生成的文本输出返回到两个新的BigQuery DataFrames DataFrames，`df_pred`和`series_pred`。\n",
    "\n",
    "注意：预测可能需要几分钟才能运行。"
   ]
  },
  {
   "cell_type": "code",
   "execution_count": null,
   "metadata": {
    "id": "6i6HkFJZa8na"
   },
   "outputs": [],
   "source": [
    "df_pred = model.predict(df_prompt.to_frame(), max_output_tokens=1024)\n",
    "series_pred = model.predict(series_prompt.to_frame(), max_output_tokens=1024)"
   ]
  },
  {
   "cell_type": "markdown",
   "metadata": {
    "id": "89cB8MW4UIdV"
   },
   "source": [
    "一旦预测被处理，查看来自LLM的示例输出，该输出为数据框数据集中列出的API名称提供了代码示例。"
   ]
  },
  {
   "cell_type": "code",
   "execution_count": null,
   "metadata": {
    "id": "9A2gw6hP_2nX"
   },
   "outputs": [],
   "source": [
    "print(df_pred[\"ml_generate_text_llm_result\"].iloc[0])"
   ]
  },
  {
   "cell_type": "markdown",
   "metadata": {
    "id": "Fx4lsNqMorJ-"
   },
   "source": [
    "使用远程函数操纵LLM输出\n",
    "\n",
    "LLM提供的输出通常包含代码示例本身之外的其他文本。使用BigQuery数据帧，您可以部署定制的Python函数来处理和转换这个输出。"
   ]
  },
  {
   "cell_type": "markdown",
   "metadata": {
    "id": "d8L7SN03VByG"
   },
   "source": [
    "运行下面的单元格将创建一个自定义函数，您可以使用它以两种方式处理LLM输出数据：\n",
    "1. 剥离LLM文本输出，只包括代码块。\n",
    "2. 将`import pandas as pd`替换为`import bigframes.pandas as bf`，以便生成的代码块与BigQuery数据框架一起使用。"
   ]
  },
  {
   "cell_type": "code",
   "execution_count": null,
   "metadata": {
    "id": "GskyyUQPowBT"
   },
   "outputs": [],
   "source": [
    "@bf.remote_function([str], str, bigquery_connection=CONN_NAME)\n",
    "def extract_code(text: str):\n",
    "    try:\n",
    "        res = text[text.find(\"\\n\") + 1 : text.find(\"```\", 3)]\n",
    "        res = res.replace(\"import pandas as pd\", \"import bigframes.pandas as bf\")\n",
    "        if \"import bigframes.pandas as bf\" not in res:\n",
    "            res = \"import bigframes.pandas as bf\\n\" + res\n",
    "            return res\n",
    "    except:\n",
    "        return \"\""
   ]
  },
  {
   "cell_type": "markdown",
   "metadata": {
    "id": "hVQAoqBUOJQf"
   },
   "source": [
    "该自定义函数部署为云函数，然后与 BigQuery 集成为[远程函数](https://cloud.google.com/bigquery/docs/remote-functions)。保存这两个函数的名称，以便在本笔记本的末尾清理它们。"
   ]
  },
  {
   "cell_type": "code",
   "execution_count": null,
   "metadata": {
    "id": "PBlp-C-DOHRO"
   },
   "outputs": [],
   "source": [
    "CLOUD_FUNCTION_NAME = format(extract_code.bigframes_cloud_function)\n",
    "print(\"Cloud Function Name \" + CLOUD_FUNCTION_NAME)\n",
    "REMOTE_FUNCTION_NAME = format(extract_code.bigframes_remote_function)\n",
    "print(\"Remote Function Name \" + REMOTE_FUNCTION_NAME)"
   ]
  },
  {
   "cell_type": "markdown",
   "metadata": {
    "id": "4FEucaiqVs3H"
   },
   "source": [
    "将自定义函数应用于每个LLM输出DataFrame，以获取处理后的结果："
   ]
  },
  {
   "cell_type": "code",
   "execution_count": null,
   "metadata": {
    "id": "bsQ9cmoWo0Ps"
   },
   "outputs": [],
   "source": [
    "df_code = df_pred.assign(\n",
    "    code=df_pred[\"ml_generate_text_llm_result\"].apply(extract_code)\n",
    ")\n",
    "series_code = series_pred.assign(\n",
    "    code=series_pred[\"ml_generate_text_llm_result\"].apply(extract_code)\n",
    ")"
   ]
  },
  {
   "cell_type": "markdown",
   "metadata": {
    "id": "ujQVVuhfWA3y"
   },
   "source": [
    "您可以通过检查数据的第一行来观察到差异。"
   ]
  },
  {
   "cell_type": "code",
   "execution_count": null,
   "metadata": {
    "id": "7yWzjhGy_zcy"
   },
   "outputs": [],
   "source": [
    "print(df_code[\"code\"].iloc[0])"
   ]
  },
  {
   "cell_type": "markdown",
   "metadata": {
    "id": "GTRdUw-Ro5R1"
   },
   "source": [
    "将结果保存到云存储\n",
    "\n",
    "BigQuery DataFrames可以让您将BigQuery DataFrames数据帧保存为CSV文件，以便进一步在云存储中使用。现在可以尝试使用您处理过的LLM输出数据进行这个操作。"
   ]
  },
  {
   "cell_type": "markdown",
   "metadata": {
    "id": "9DQ7eiQxPTi3"
   },
   "source": [
    "创建一个具有独特名称的新云存储桶："
   ]
  },
  {
   "cell_type": "code",
   "execution_count": null,
   "metadata": {
    "id": "-J5LHgS6LLZ0"
   },
   "outputs": [],
   "source": [
    "import uuid\n",
    "\n",
    "BUCKET_ID = \"code-samples-\" + str(uuid.uuid1())\n",
    "\n",
    "!gsutil mb gs://{BUCKET_ID}"
   ]
  },
  {
   "cell_type": "markdown",
   "metadata": {
    "id": "tyxZXj0UPYUv"
   },
   "source": [
    "使用`to_csv`将每个BigQuery DataFrames DataFrame写入Cloud Storage存储桶中的CSV文件："
   ]
  },
  {
   "cell_type": "code",
   "execution_count": null,
   "metadata": {
    "id": "Zs_b5L-4IvER"
   },
   "outputs": [],
   "source": [
    "df_code[[\"code\"]].to_csv(f\"gs://{BUCKET_ID}/df_code*.csv\")\n",
    "series_code[[\"code\"]].to_csv(f\"gs://{BUCKET_ID}/series_code*.csv\")"
   ]
  },
  {
   "cell_type": "markdown",
   "metadata": {
    "id": "UDBtDlrTuuh8"
   },
   "source": [
    "您可以导航到Cloud Storage存储桶浏览器下载这两个文件并查看它们。\n",
    "\n",
    "运行以下单元格，然后按照链接导航到您的Cloud Storage存储桶浏览器："
   ]
  },
  {
   "cell_type": "code",
   "execution_count": null,
   "metadata": {
    "id": "PspCXu-qu_ND"
   },
   "outputs": [],
   "source": [
    "print(f\"https://console.developers.google.com/storage/browser/{BUCKET_ID}/\")"
   ]
  },
  {
   "cell_type": "markdown",
   "metadata": {
    "id": "RGSvUk48RK20"
   },
   "source": [
    "摘要和下一步\n",
    "\n",
    "您已经使用了BigQuery DataFrames与LLM模型(`bigframes.ml.llm`)的集成来生成代码示例，并通过在BigQuery DataFrames中创建和使用自定义函数来转换LLM输出。\n",
    "\n",
    "在[文档](https://cloud.google.com/python/docs/reference/bigframes/latest)中了解更多关于BigQuery DataFrames的信息，并在[GitHub仓库](https://github.com/googleapis/python-bigquery-dataframes/tree/main/notebooks)中找到更多示例笔记本。"
   ]
  },
  {
   "cell_type": "markdown",
   "metadata": {
    "id": "TpV-iwP9qw9c"
   },
   "source": [
    "清理\n",
    "\n",
    "要清理此项目中使用的所有谷歌云资源，您可以删除用于本教程的[谷歌云项目](https://cloud.google.com/resource-manager/docs/creating-managing-projects#shutting_down_projects)。\n",
    "\n",
    "否则，您可以取消注释剩余的单元格并运行它们以删除您在本教程中创建的各个资源。"
   ]
  },
  {
   "cell_type": "code",
   "execution_count": null,
   "metadata": {
    "id": "yw7A461XLjvW"
   },
   "outputs": [],
   "source": [
    "# # Delete the BigQuery Connection\n",
    "# from google.cloud import bigquery_connection_v1 as bq_connection\n",
    "# client = bq_connection.ConnectionServiceClient()\n",
    "# CONNECTION_ID = f\"projects/{PROJECT_ID}/locations/{REGION}/connections/{CONN_NAME}\"\n",
    "# client.delete_connection(name=CONNECTION_ID)\n",
    "# print(f\"Deleted connection '{CONNECTION_ID}'.\")"
   ]
  },
  {
   "cell_type": "code",
   "execution_count": null,
   "metadata": {
    "id": "sx_vKniMq9ZX"
   },
   "outputs": [],
   "source": [
    "# # Delete the Cloud Function\n",
    "# ! gcloud functions delete {CLOUD_FUNCTION_NAME} --quiet\n",
    "# # Delete the Remote Function\n",
    "# REMOTE_FUNCTION_NAME = REMOTE_FUNCTION_NAME.replace(PROJECT_ID + \".\", \"\")\n",
    "# ! bq rm --routine --force=true {REMOTE_FUNCTION_NAME}"
   ]
  },
  {
   "cell_type": "code",
   "execution_count": null,
   "metadata": {
    "id": "iQFo6OUBLmi3"
   },
   "outputs": [],
   "source": [
    "# # Delete the Google Cloud Storage bucket and files\n",
    "# ! gsutil rm -r gs://{BUCKET_ID}\n",
    "# print(f\"Deleted bucket '{BUCKET_ID}'.\")"
   ]
  }
 ],
 "metadata": {
  "colab": {
   "name": "bq_dataframes_llm_code_generation.ipynb",
   "toc_visible": true
  },
  "kernelspec": {
   "display_name": "Python 3",
   "name": "python3"
  }
 },
 "nbformat": 4,
 "nbformat_minor": 0
}
