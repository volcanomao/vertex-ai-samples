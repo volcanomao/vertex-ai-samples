{
 "cells": [
  {
   "cell_type": "code",
   "execution_count": null,
   "metadata": {
    "id": "ur8xi4C7S06n"
   },
   "outputs": [],
   "source": [
    "# Copyright 2023 Google LLC\n",
    "#\n",
    "# Licensed under the Apache License, Version 2.0 (the \"License\");\n",
    "# you may not use this file except in compliance with the License.\n",
    "# You may obtain a copy of the License at\n",
    "#\n",
    "#     https://www.apache.org/licenses/LICENSE-2.0\n",
    "#\n",
    "# Unless required by applicable law or agreed to in writing, software\n",
    "# distributed under the License is distributed on an \"AS IS\" BASIS,\n",
    "# WITHOUT WARRANTIES OR CONDITIONS OF ANY KIND, either express or implied.\n",
    "# See the License for the specific language governing permissions and\n",
    "# limitations under the License."
   ]
  },
  {
   "cell_type": "markdown",
   "metadata": {
    "id": "JAPoU8Sm5E6e"
   },
   "source": [
    "# BigQuery数据帧ML：药物名称生成\n",
    "\n",
    "<table align=\"left\">\n",
    "  <td>\n",
    "    <a href=\"https://colab.research.google.com/github/googleapis/python-bigquery-dataframes/blob/main/notebooks/generative_ai/bq_dataframes_ml_drug_name_generation.ipynb\">\n",
    "      <img src=\"https://cloud.google.com/ml-engine/images/colab-logo-32px.png\" alt=\"Colab logo\"> 在Colab中运行\n",
    "    </a>\n",
    "  </td>\n",
    "  <td>\n",
    "    <a href=\"https://github.com/googleapis/python-bigquery-dataframes/blob/main/notebooks/generative_ai/bq_dataframes_ml_drug_name_generation.ipynb\">\n",
    "      <img src=\"https://cloud.google.com/ml-engine/images/github-logo-32px.png\" alt=\"GitHub logo\">\n",
    "     在GitHub上查看\n",
    "    </a>\n",
    "  </td>\n",
    "  <td>\n",
    "    <a href=\"https://console.cloud.google.com/vertex-ai/workbench/deploy-notebook?download_url=https://raw.githubusercontent.com/googleapis/python-bigquery-dataframes/blob/main/notebooks/generative_ai/bq_dataframes_ml_drug_name_generation.ipynb\">\n",
    "      <img src=\"https://lh3.googleusercontent.com/UiNooY4LUgW_oTvpsNhPpQzsstV5W8F7rYgxgGBD85cWJoLmrOzhVs_ksK_vgx40SHs7jCqkTkCk=e14-rj-sc0xffffff-h130-w32\" alt=\"Vertex AI logo\">\n",
    "     在Vertex AI Workbench中打开\n",
    "    </a>\n",
    "  </td>                    \n",
    "</table>"
   ]
  },
  {
   "cell_type": "markdown",
   "metadata": {
    "id": "24743cf4a1e1"
   },
   "source": [
    "**_注意_**：此笔记本已在以下环境中进行了测试：\n",
    "\n",
    "- Python 版本 = 3.9"
   ]
  },
  {
   "cell_type": "markdown",
   "metadata": {
    "id": "tvgnzT1CKxrO"
   },
   "source": [
    "## 概述\n",
    "\n",
    "这篇笔记的目标是展示一个企业生成式人工智能的使用案例。营销用户可以提供关于一种新药品及其通用名称的信息，并获得针对该药品的市场定位品牌名称的想法。\n",
    "\n",
    "了解更多关于[BigQuery DataFrames](https://cloud.google.com/bigquery/docs/dataframes-quickstart)。"
   ]
  },
  {
   "cell_type": "markdown",
   "metadata": {
    "id": "d975e698c9a4"
   },
   "source": [
    "### 目标\n",
    "\n",
    "在本教程中，您将了解生成式人工智能（Generative AI）概念，如提示和少样本学习，以及如何使用 BigFrames ML 来简单执行这些任务，只需使用直观的 dataframe API。\n",
    "\n",
    "执行的步骤包括：\n",
    "\n",
    "1. 要求用户提供药品的通用名称和用法。\n",
    "2. 使用 `bigframes` 查询超过 100,000 种药品的 FDA 数据集，根据品牌名称、通用名称和适应症和用法列进行筛选。\n",
    "3. 过滤此数据集，找到可以用作提示调整中示例的典型品牌名称。\n",
    "4. 创建一个提示，包括用户输入、通用说明、示例和反例，以便获得所需品牌名称。\n",
    "5. 使用 `bigframes.ml.llm.PaLM2TextGenerator` 生成品牌名称的选择。"
   ]
  },
  {
   "cell_type": "markdown",
   "metadata": {
    "id": "08d289fa873f"
   },
   "source": [
    "### 数据集\n",
    "\n",
    "该笔记本使用可在[`bigquery-public-data.fda_drug`](https://console.cloud.google.com/bigquery?ws=!1m4!1m3!3m2!1sbigquery-public-data!2sfda_drug)处获取的[美国食品和药物管理局数据集](https://cloud.google.com/blog/topics/healthcare-life-sciences/fda-mystudies-comes-to-google-cloud)。"
   ]
  },
  {
   "cell_type": "markdown",
   "metadata": {
    "id": "aed92deeb4a0"
   },
   "source": [
    "费用\n",
    "\n",
    "本教程使用Google Cloud的收费组件：\n",
    "\n",
    "* BigQuery（计算）\n",
    "* BigQuery ML\n",
    "\n",
    "了解[BigQuery计算定价](https://cloud.google.com/bigquery/pricing#analysis_pricing_models),\n",
    "和[BigQuery ML定价](https://cloud.google.com/bigquery/pricing#bqml),\n",
    "并使用[定价计算器](https://cloud.google.com/products/calculator/)\n",
    "根据您的预期使用情况生成费用估算。"
   ]
  },
  {
   "cell_type": "markdown",
   "metadata": {
    "id": "i7EUnXsZhAGF"
   },
   "source": [
    "## 安装\n",
    "\n",
    "安装以下必要的软件包以执行此笔记本。"
   ]
  },
  {
   "cell_type": "code",
   "execution_count": null,
   "metadata": {
    "id": "2b4ef9b72d43"
   },
   "outputs": [],
   "source": [
    "!pip install -U --quiet bigframes"
   ]
  },
  {
   "cell_type": "markdown",
   "metadata": {
    "id": "58707a750154"
   },
   "source": [
    "只有合作：取消下面的单元格以重新启动内核。"
   ]
  },
  {
   "cell_type": "code",
   "execution_count": null,
   "metadata": {
    "id": "f200f10a1da3"
   },
   "outputs": [],
   "source": [
    "# # Automatically restart kernel after installs so that your environment can access the new packages\n",
    "# import IPython\n",
    "\n",
    "# app = IPython.Application.instance()\n",
    "# app.kernel.do_shutdown(True)"
   ]
  },
  {
   "cell_type": "markdown",
   "metadata": {
    "id": "960505627ddf"
   },
   "source": [
    "### 导入库"
   ]
  },
  {
   "cell_type": "code",
   "execution_count": null,
   "metadata": {
    "id": "PyQmSRbKA8r-"
   },
   "outputs": [],
   "source": [
    "import bigframes.pandas as bpd\n",
    "from bigframes.ml.llm import PaLM2TextGenerator\n",
    "from google.cloud import bigquery_connection_v1 as bq_connection\n",
    "from IPython.display import Markdown"
   ]
  },
  {
   "cell_type": "markdown",
   "metadata": {
    "id": "sBCra4QMA2wR"
   },
   "source": [
    "### 验证您的谷歌云帐户\n",
    "\n",
    "根据您的Jupyter环境，您可能需要手动进行身份验证。请按照以下相关说明进行操作。"
   ]
  },
  {
   "cell_type": "markdown",
   "metadata": {
    "id": "74ccc9e52986"
   },
   "source": [
    "1. Vertex AI 工作台\n",
    "* 什么都不要做，因为您已经进行了身份验证。"
   ]
  },
  {
   "cell_type": "markdown",
   "metadata": {
    "id": "de775a3773ba"
   },
   "source": [
    "2. 本地的 JupyterLab 实例，取消注释并运行:"
   ]
  },
  {
   "cell_type": "code",
   "execution_count": null,
   "metadata": {
    "id": "254614fa0c46"
   },
   "outputs": [],
   "source": [
    "# ! gcloud auth login"
   ]
  },
  {
   "cell_type": "markdown",
   "metadata": {
    "id": "ef21552ccea8"
   },
   "source": [
    "3. 在Colab中取消注释并运行:"
   ]
  },
  {
   "cell_type": "code",
   "execution_count": null,
   "metadata": {
    "id": "603adbbf0532"
   },
   "outputs": [],
   "source": [
    "# from google.colab import auth\n",
    "\n",
    "# auth.authenticate_user()"
   ]
  },
  {
   "cell_type": "markdown",
   "metadata": {
    "id": "BF1j6f9HApxa"
   },
   "source": [
    "## 开始之前\n",
    "\n",
    "### 设置您的Google Cloud项目\n",
    "\n",
    "**无论您使用的是哪种笔记本环境，下面这些步骤都是必需的。**\n",
    "\n",
    "1. [选择或创建一个Google Cloud项目](https://console.cloud.google.com/cloud-resource-manager)。当您第一次创建账户时，您将获得$300的免费信用额度用于计算/存储成本。\n",
    "\n",
    "2. [确保您的项目已启用计费](https://cloud.google.com/billing/docs/how-to/modify-project)。\n",
    "\n",
    "3. [启用BigQuery API](https://console.cloud.google.com/flows/enableapi?apiid=bigquery.googleapis.com)。\n",
    "\n",
    "4. 如果您在本地运行此笔记本，您需要安装[Cloud SDK](https://cloud.google.com/sdk)。"
   ]
  },
  {
   "cell_type": "markdown",
   "metadata": {
    "id": "WReHDGG5g0XY"
   },
   "source": [
    "设置您的项目ID\n",
    "\n",
    "**如果您不知道您的项目ID**，请尝试以下操作：\n",
    "* 运行 `gcloud config list`。\n",
    "* 运行 `gcloud projects list`。\n",
    "* 查看支持页面：[查找项目ID](https://support.google.com/googleapi/answer/7014113)"
   ]
  },
  {
   "cell_type": "code",
   "execution_count": null,
   "metadata": {
    "id": "oM1iC_MfAts1"
   },
   "outputs": [],
   "source": [
    "PROJECT_ID = \"<your-project-id>\"  # @param {type:\"string\"}\n",
    "\n",
    "# Set the project id\n",
    "! gcloud config set project {PROJECT_ID}"
   ]
  },
  {
   "cell_type": "markdown",
   "metadata": {
    "id": "evsJaAj5te0X"
   },
   "source": [
    "#### BigFrames 配置\n",
    "\n",
    "接下来，我们将指定一个[BigQuery连接](https://cloud.google.com/bigquery/docs/working-with-connections)。 如果您已经有一个连接，您可以简化提供名称并跳过以下创建步骤。"
   ]
  },
  {
   "cell_type": "code",
   "execution_count": null,
   "metadata": {
    "id": "G1vVsPiMsL2X"
   },
   "outputs": [],
   "source": [
    "# Please fill in these values.\n",
    "LOCATION = \"us\"  # @param {type:\"string\"}\n",
    "CONNECTION = \"<your-connection>\"  # @param {type:\"string\"}\n",
    "\n",
    "connection_name = f\"{PROJECT_ID}.{LOCATION}.{CONNECTION}\""
   ]
  },
  {
   "cell_type": "markdown",
   "metadata": {
    "id": "WGS_TzhWlPBN"
   },
   "source": [
    "我们将尝试使用提供的连接，如果不存在，则创建一个新的。我们还将打印所使用的服务账号。"
   ]
  },
  {
   "cell_type": "code",
   "execution_count": null,
   "metadata": {
    "id": "56Hw42m6kFrj"
   },
   "outputs": [],
   "source": [
    "# Initialize client and set request parameters\n",
    "client = bq_connection.ConnectionServiceClient()\n",
    "new_conn_parent = f\"projects/{PROJECT_ID}/locations/{LOCATION}\"\n",
    "exists_conn_parent = (\n",
    "    f\"projects/{PROJECT_ID}/locations/{LOCATION}/connections/{CONNECTION}\"\n",
    ")\n",
    "cloud_resource_properties = bq_connection.CloudResourceProperties({})\n",
    "\n",
    "# Try to connect using provided connection\n",
    "try:\n",
    "    request = client.get_connection(\n",
    "        request=bq_connection.GetConnectionRequest(name=exists_conn_parent)\n",
    "    )\n",
    "    CONN_SERVICE_ACCOUNT = f\"serviceAccount:{request.cloud_resource.service_account_id}\"\n",
    "# Create a new connection on error\n",
    "except Exception:\n",
    "    connection = bq_connection.types.Connection(\n",
    "        {\"friendly_name\": CONNECTION, \"cloud_resource\": cloud_resource_properties}\n",
    "    )\n",
    "    request = bq_connection.CreateConnectionRequest(\n",
    "        {\n",
    "            \"parent\": new_conn_parent,\n",
    "            \"connection_id\": CONNECTION,\n",
    "            \"connection\": connection,\n",
    "        }\n",
    "    )\n",
    "    response = client.create_connection(request)\n",
    "    CONN_SERVICE_ACCOUNT = (\n",
    "        f\"serviceAccount:{response.cloud_resource.service_account_id}\"\n",
    "    )\n",
    "# Set service account permissions\n",
    "!gcloud projects add-iam-policy-binding {PROJECT_ID} --condition=None --no-user-output-enabled --member={CONN_SERVICE_ACCOUNT} --role='roles/bigquery.connectionUser'\n",
    "!gcloud projects add-iam-policy-binding {PROJECT_ID} --condition=None --no-user-output-enabled --member={CONN_SERVICE_ACCOUNT} --role='roles/aiplatform.user'\n",
    "!gcloud projects add-iam-policy-binding {PROJECT_ID} --condition=None --no-user-output-enabled --member={CONN_SERVICE_ACCOUNT} --role='roles/run.invoker'\n",
    "\n",
    "print(CONN_SERVICE_ACCOUNT)"
   ]
  },
  {
   "cell_type": "markdown",
   "metadata": {
    "id": "init_aip:mbsdk,all"
   },
   "source": [
    "初始化BigFrames客户端\n",
    "\n",
    "在这里，我们根据提供的参数设置项目配置。"
   ]
  },
  {
   "cell_type": "code",
   "execution_count": null,
   "metadata": {
    "id": "OCccLirpkSRz"
   },
   "outputs": [],
   "source": [
    "bpd.options.bigquery.project = PROJECT_ID\n",
    "bpd.options.bigquery.location = LOCATION"
   ]
  },
  {
   "cell_type": "markdown",
   "metadata": {
    "id": "m8UCEtX9uLn6"
   },
   "source": [
    "## 生成名称\n",
    "\n",
    "让我们从输入一般名称和药物描述开始。"
   ]
  },
  {
   "cell_type": "code",
   "execution_count": null,
   "metadata": {
    "id": "oxphj2gnuKou"
   },
   "outputs": [],
   "source": [
    "GENERIC_NAME = \"Entropofloxacin\"  # @param {type:\"string\"}\n",
    "USAGE = \"Entropofloxacin is a fluoroquinolone antibiotic that is used to treat a variety of bacterial infections, including: pneumonia, streptococcus infections, salmonella infections, escherichia coli infections, and pseudomonas aeruginosa infections It is taken by mouth or by injection. The dosage and frequency of administration will vary depending on the type of infection being treated. It should be taken for the full course of treatment, even if symptoms improve after a few days. Stopping the medication early may increase the risk of the infection coming back.\"  # @param {type:\"string\"}\n",
    "NUM_NAMES = 10  # @param {type:\"integer\"}\n",
    "TEMPERATURE = 0.5  # @param {type: \"number\"}"
   ]
  },
  {
   "cell_type": "markdown",
   "metadata": {
    "id": "1q-vlbalzu1Q"
   },
   "source": [
    "我们现在可以创建一个提示字符串，并填充它的名称和描述。"
   ]
  },
  {
   "cell_type": "code",
   "execution_count": null,
   "metadata": {
    "id": "0knz5ZWMzed-"
   },
   "outputs": [],
   "source": [
    "zero_shot_prompt = f\"\"\"Provide {NUM_NAMES} unique and modern brand names in Markdown bullet point format. Do not provide any additional explanation.\n",
    "\n",
    "Be creative with the brand names. Don't use English words directly; use variants or invented words.\n",
    "\n",
    "The generic name is: {GENERIC_NAME}\n",
    "\n",
    "The indications and usage are: {USAGE}.\"\"\"\n",
    "\n",
    "print(zero_shot_prompt)"
   ]
  },
  {
   "cell_type": "markdown",
   "metadata": {
    "id": "LCRE2L720f5y"
   },
   "source": [
    "接下来，让我们创建一个辅助函数来使用我们的模型进行预测。它将接受一个字符串输入，并将其添加到一个临时的 BigFrames `DataFrame` 中。它还会返回从响应`DataFrame`中提取的字符串。"
   ]
  },
  {
   "cell_type": "code",
   "execution_count": null,
   "metadata": {
    "id": "LB3xgDroIxlx"
   },
   "outputs": [],
   "source": [
    "def predict(prompt: str, temperature: float = TEMPERATURE) -> str:\n",
    "    # Create dataframe\n",
    "    input = bpd.DataFrame(\n",
    "        {\n",
    "            \"prompt\": [prompt],\n",
    "        }\n",
    "    )\n",
    "\n",
    "    # Return response\n",
    "    return model.predict(input, temperature).ml_generate_text_llm_result.iloc[0]"
   ]
  },
  {
   "cell_type": "markdown",
   "metadata": {
    "id": "b1ZapNZsJW2p"
   },
   "source": [
    "我们现在可以初始化模型，并对我们的提示做出响应！"
   ]
  },
  {
   "cell_type": "code",
   "execution_count": null,
   "metadata": {
    "id": "UW2fQ2k5Hsic"
   },
   "outputs": [],
   "source": [
    "# Get BigFrames session\n",
    "session = bpd.get_global_session()\n",
    "\n",
    "# Define the model\n",
    "model = PaLM2TextGenerator(session=session, connection_name=connection_name)\n",
    "\n",
    "# Invoke LLM with prompt\n",
    "response = predict(zero_shot_prompt)\n",
    "\n",
    "# Print results as Markdown\n",
    "Markdown(response)"
   ]
  },
  {
   "cell_type": "markdown",
   "metadata": {
    "id": "o3yIhHV2jsUT"
   },
   "source": [
    "我们开始得很不错！让我们看看能否继续改进我们的回应。"
   ]
  },
  {
   "cell_type": "markdown",
   "metadata": {
    "id": "mBroUzWS8xOL"
   },
   "source": [
    "## 小样本学习\n",
    "\n",
    "让我们尝试使用[小样本学习](https://paperswithcode.com/task/few-shot-learning)。 我们将提供一些示例，说明我们所寻找的内容以及我们的提示。\n",
    "\n",
    "我们的提示将包含三个部分：\n",
    "* 一般指示（例如，生成 $n$ 个品牌名称）\n",
    "* 多个示例\n",
    "* 有关我们想要生成名称的药物的信息\n",
    "\n",
    "让我们走一遍如何构建这个提示的步骤。\n",
    "\n",
    "我们的第一步将是定义提示中我们要提供多少示例。"
   ]
  },
  {
   "cell_type": "code",
   "execution_count": null,
   "metadata": {
    "id": "MXdI78SOElyt"
   },
   "outputs": [],
   "source": [
    "# Specify number of examples to include\n",
    "\n",
    "NUM_EXAMPLES = 3  # @param {type:\"integer\"}"
   ]
  },
  {
   "cell_type": "markdown",
   "metadata": {
    "id": "U8w4puVM_892"
   },
   "source": [
    "接下来，让我们定义一个前缀，用于设置整体的上下文。"
   ]
  },
  {
   "cell_type": "code",
   "execution_count": null,
   "metadata": {
    "id": "aQ2iscnhF2cx"
   },
   "outputs": [],
   "source": [
    "prefix_prompt = f\"\"\"Provide {NUM_NAMES} unique and modern brand names in Markdown bullet point format, related to the drug at the bottom of this prompt.\n",
    "\n",
    "Be creative with the brand names. Don't use English words directly; use variants or invented words.\n",
    "\n",
    "First, we will provide {NUM_EXAMPLES} examples to help with your thought process.\n",
    "\n",
    "Then, we will provide the generic name and usage for the drug we'd like you to generate brand names for.\n",
    "\"\"\"\n",
    "\n",
    "print(prefix_prompt)"
   ]
  },
  {
   "cell_type": "markdown",
   "metadata": {
    "id": "VI0Spv-axN7d"
   },
   "source": [
    "我们接下来的步骤将是将示例包含在提示中。\n",
    "\n",
    "我们将首先通过查询BigQuery公共数据集来检索示例的原始数据。"
   ]
  },
  {
   "cell_type": "code",
   "execution_count": null,
   "metadata": {
    "id": "IoO_Bp8wA07N"
   },
   "outputs": [],
   "source": [
    "# Query 3 columns of interest from drug label dataset\n",
    "df = bpd.read_gbq(\n",
    "    \"bigquery-public-data.fda_drug.drug_label\",\n",
    "    col_order=[\"openfda_generic_name\", \"openfda_brand_name\", \"indications_and_usage\"],\n",
    ")\n",
    "\n",
    "# Exclude any rows with missing data\n",
    "df = df.dropna()\n",
    "\n",
    "# Drop duplicate rows\n",
    "df = df.drop_duplicates()\n",
    "\n",
    "# Print values\n",
    "df.head()"
   ]
  },
  {
   "cell_type": "markdown",
   "metadata": {
    "id": "W5kOtbNGBTI2"
   },
   "source": [
    "让我们现在筛选结果，去掉不典型的名称。"
   ]
  },
  {
   "cell_type": "code",
   "execution_count": null,
   "metadata": {
    "id": "95WDe2eCCeLx"
   },
   "outputs": [],
   "source": [
    "# Remove names with spaces\n",
    "df = df[df[\"openfda_brand_name\"].str.find(\" \") == -1]\n",
    "\n",
    "# Remove names with 5 or fewer characters\n",
    "df = df[df[\"openfda_brand_name\"].str.len() > 5]\n",
    "\n",
    "# Remove names where the generic and brand name match (case-insensitive)\n",
    "df = df[df[\"openfda_generic_name\"].str.lower() != df[\"openfda_brand_name\"].str.lower()]"
   ]
  },
  {
   "cell_type": "markdown",
   "metadata": {
    "id": "FZD89ep4EyYc"
   },
   "source": [
    "让我们取 `NUM_EXAMPLES` 个样本放入提示中。"
   ]
  },
  {
   "cell_type": "code",
   "execution_count": null,
   "metadata": {
    "id": "2ohZYg7QEyJV"
   },
   "outputs": [],
   "source": [
    "# Take a sample and convert to a Pandas dataframe for local usage.\n",
    "df_examples = df.sample(NUM_EXAMPLES, random_state=3).to_pandas()\n",
    "\n",
    "df_examples"
   ]
  },
  {
   "cell_type": "markdown",
   "metadata": {
    "id": "J-Qa1_SCImXy"
   },
   "source": [
    "让我们现在将数据转换为JSON结构，以便嵌入到提示中。为了保持一致性，我们将大写每个示例品牌名称。"
   ]
  },
  {
   "cell_type": "code",
   "execution_count": null,
   "metadata": {
    "id": "PcJdSaw0EGcW"
   },
   "outputs": [],
   "source": [
    "examples = [\n",
    "    {\n",
    "        \"brand_name\": brand_name.capitalize(),\n",
    "        \"generic_name\": generic_name,\n",
    "        \"usage\": usage,\n",
    "    }\n",
    "    for brand_name, generic_name, usage in zip(\n",
    "        df_examples[\"openfda_brand_name\"],\n",
    "        df_examples[\"openfda_generic_name\"],\n",
    "        df_examples[\"indications_and_usage\"],\n",
    "    )\n",
    "]\n",
    "\n",
    "print(examples)"
   ]
  },
  {
   "cell_type": "markdown",
   "metadata": {
    "id": "oU4mb1Dwgq64"
   },
   "source": [
    "我们将为每个示例创建一个提示模板，并查看第一个。"
   ]
  },
  {
   "cell_type": "code",
   "execution_count": null,
   "metadata": {
    "id": "kzAVsF6wJ93S"
   },
   "outputs": [],
   "source": [
    "example_prompt = \"\"\n",
    "for example in examples:\n",
    "    example_prompt += f\"Generic name: {example['generic_name']}\\nUsage: {example['usage']}\\nBrand name: {example['brand_name']}\\n\\n\"\n",
    "\n",
    "example_prompt"
   ]
  },
  {
   "cell_type": "markdown",
   "metadata": {
    "id": "kbV2X1CXAyLV"
   },
   "source": [
    "最后，我们可以为我们的提示创建一个后缀。 它将包含药物的通用名称，用途，最后请求品牌名称。"
   ]
  },
  {
   "cell_type": "code",
   "execution_count": null,
   "metadata": {
    "id": "OYp6W_XfHTlo"
   },
   "outputs": [],
   "source": [
    "suffix_prompt = f\"\"\"Generic name: {GENERIC_NAME}\n",
    "Usage: {USAGE}\n",
    "Brand names:\"\"\"\n",
    "\n",
    "print(suffix_prompt)"
   ]
  },
  {
   "cell_type": "markdown",
   "metadata": {
    "id": "RiaisW1nihJP"
   },
   "source": [
    "让我们把它集中到一个简短的提示中。"
   ]
  },
  {
   "cell_type": "code",
   "execution_count": null,
   "metadata": {
    "id": "99xdU7l8C1h8"
   },
   "outputs": [],
   "source": [
    "# Define the prompt\n",
    "few_shot_prompt = prefix_prompt + example_prompt + suffix_prompt\n",
    "\n",
    "# Print the prompt\n",
    "print(few_shot_prompt)"
   ]
  },
  {
   "cell_type": "markdown",
   "metadata": {
    "id": "nbUWdHtfitWn"
   },
   "source": [
    "现在，让我们把提示传递给LLM，并收到回复！"
   ]
  },
  {
   "cell_type": "code",
   "execution_count": null,
   "metadata": {
    "id": "d4ODRJdvLhlQ"
   },
   "outputs": [],
   "source": [
    "response = predict(few_shot_prompt)\n",
    "\n",
    "Markdown(response)"
   ]
  },
  {
   "cell_type": "markdown",
   "metadata": {
    "id": "pFakjrTElOBs"
   },
   "source": [
    "大批量生成\n",
    "\n",
    "让我们把这些实验提升到下一个水平，通过大批量生成多个名字。我们将看看如何在规模上利用 BigFrames！\n",
    "\n",
    "我们可以首先找到缺少品牌名称的药物。符合这一标准的药物大约有4,000种。我们在这份笔记本中设置一个限制为100。"
   ]
  },
  {
   "cell_type": "code",
   "execution_count": null,
   "metadata": {
    "id": "8eAutS41mx6U"
   },
   "outputs": [],
   "source": [
    "# Query 3 columns of interest from drug label dataset\n",
    "df_missing = bpd.read_gbq(\n",
    "    \"bigquery-public-data.fda_drug.drug_label\",\n",
    "    col_order=[\"openfda_generic_name\", \"openfda_brand_name\", \"indications_and_usage\"],\n",
    ")\n",
    "\n",
    "# Exclude any rows with missing data\n",
    "df_missing = df_missing.dropna()\n",
    "\n",
    "# Include rows in which openfda_brand_name equals openfda_generic_name\n",
    "df_missing = df_missing[\n",
    "    df_missing[\"openfda_generic_name\"] == df_missing[\"openfda_brand_name\"]\n",
    "]\n",
    "\n",
    "# Limit the number of rows for demonstration purposes\n",
    "df_missing = df_missing.head(100)\n",
    "\n",
    "# Print values\n",
    "df_missing.head()"
   ]
  },
  {
   "cell_type": "markdown",
   "metadata": {
    "id": "Fm6L8S7eVnCI"
   },
   "source": [
    "我们将为每一行创建一个带有自定义提示的`prompt`列。"
   ]
  },
  {
   "cell_type": "code",
   "execution_count": null,
   "metadata": {
    "id": "19TvGN1PVmVX"
   },
   "outputs": [],
   "source": [
    "df_missing[\"prompt\"] = (\n",
    "    \"Provide a unique and modern brand name related to this pharmaceutical drug.\"\n",
    "    + \"Don't use English words directly; use variants or invented words. The generic name is: \"\n",
    "    + df_missing[\"openfda_generic_name\"]\n",
    "    + \". The indications and usage are: \"\n",
    "    + df_missing[\"indications_and_usage\"]\n",
    "    + \".\"\n",
    ")"
   ]
  },
  {
   "cell_type": "markdown",
   "metadata": {
    "id": "njxwBvCKgMPE"
   },
   "source": [
    "我们将创建一个新的辅助方法，`batch_predict()` 并查询 LLM。该任务可能需要几分钟才能执行。"
   ]
  },
  {
   "cell_type": "code",
   "execution_count": null,
   "metadata": {
    "id": "tiSHa5B4aFhw"
   },
   "outputs": [],
   "source": [
    "def batch_predict(\n",
    "    input: bpd.DataFrame, temperature: float = TEMPERATURE\n",
    ") -> bpd.DataFrame:\n",
    "    return model.predict(input, temperature).ml_generate_text_llm_result\n",
    "\n",
    "\n",
    "response = batch_predict(df_missing[\"prompt\"])"
   ]
  },
  {
   "cell_type": "markdown",
   "metadata": {
    "id": "K5a2nHdLgZEj"
   },
   "source": [
    "让我们来检查一下我们的某个回应的结果！"
   ]
  },
  {
   "cell_type": "code",
   "execution_count": null,
   "metadata": {
    "id": "TnizdeqBdbZj"
   },
   "outputs": [],
   "source": [
    "# Pick a sample\n",
    "k = 0\n",
    "\n",
    "# Gather the prompt and response details\n",
    "prompt_generic = df_missing[\"openfda_generic_name\"][k].iloc[0]\n",
    "prompt_usage = df_missing[\"indications_and_usage\"][k].iloc[0]\n",
    "response_str = response[k].iloc[0]\n",
    "\n",
    "# Print details\n",
    "print(f\"Generic name: {prompt_generic}\")\n",
    "print(f\"Brand name: {prompt_usage}\")\n",
    "print(f\"Response: {response_str}\")"
   ]
  },
  {
   "cell_type": "markdown",
   "metadata": {
    "id": "W4MviwyMI-Qh"
   },
   "source": [
    "恭喜！您已经学会了如何使用生成式AI来启动创意过程。您还看到了BigFrames如何管理过程的每一步，包括收集数据、数据操作和查询LLM。"
   ]
  },
  {
   "cell_type": "markdown",
   "metadata": {
    "id": "Bys6--dVmq7R"
   },
   "source": [
    "清理\n",
    "\n",
    "要清理此项目中使用的所有Google Cloud资源，您可以[删除您用于教程的Google Cloud项目](https://cloud.google.com/resource-manager/docs/creating-managing-projects#shutting_down_projects)。\n",
    "\n",
    "否则，您可以取消注释剩余的单元格并运行它们，以删除您在此教程中创建的各个资源。"
   ]
  },
  {
   "cell_type": "code",
   "execution_count": null,
   "metadata": {
    "id": "cIODjOLump_-"
   },
   "outputs": [],
   "source": [
    "# Delete the BigQuery Connection\n",
    "from google.cloud import bigquery_connection_v1 as bq_connection\n",
    "\n",
    "client = bq_connection.ConnectionServiceClient()\n",
    "CONNECTION_ID = f\"projects/{PROJECT_ID}/locations/{LOCATION}/connections/{CONNECTION}\"\n",
    "client.delete_connection(name=CONNECTION_ID)\n",
    "print(f\"Deleted connection {CONNECTION_ID}.\")"
   ]
  }
 ],
 "metadata": {
  "colab": {
   "name": "bq_dataframes_ml_drug_name_generation.ipynb",
   "toc_visible": true
  },
  "kernelspec": {
   "display_name": "Python 3",
   "name": "python3"
  }
 },
 "nbformat": 4,
 "nbformat_minor": 0
}
