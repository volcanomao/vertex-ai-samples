{
 "cells": [
  {
   "cell_type": "code",
   "execution_count": null,
   "metadata": {
    "id": "ur8xi4C7S06n"
   },
   "outputs": [],
   "source": [
    "# Copyright 2022 Google LLC\n",
    "#\n",
    "# Licensed under the Apache License, Version 2.0 (the \"License\");\n",
    "# you may not use this file except in compliance with the License.\n",
    "# You may obtain a copy of the License at\n",
    "#\n",
    "#     https://www.apache.org/licenses/LICENSE-2.0\n",
    "#\n",
    "# Unless required by applicable law or agreed to in writing, software\n",
    "# distributed under the License is distributed on an \"AS IS\" BASIS,\n",
    "# WITHOUT WARRANTIES OR CONDITIONS OF ANY KIND, either express or implied.\n",
    "# See the License for the specific language governing permissions and\n",
    "# limitations under the License."
   ]
  },
  {
   "cell_type": "markdown",
   "metadata": {
    "id": "JAPoU8Sm5E6e"
   },
   "source": [
    "顶点AI管道：评估AutoML表格分类模型的BatchPrediction结果\n",
    "\n",
    "<table align=\"left\">\n",
    "\n",
    "  <td>\n",
    "    <a href=\"https://colab.research.google.com/github/GoogleCloudPlatform/vertex-ai-samples/blob/main/notebooks/official/model_evaluation/automl_tabular_classification_model_evaluation.ipynb\">\n",
    "      <img src=\"https://cloud.google.com/ml-engine/images/colab-logo-32px.png\" alt=\"Colab logo\"> 在Colab中运行\n",
    "    </a>\n",
    "  </td>\n",
    "  <td>\n",
    "    <a href=\"https://github.com/GoogleCloudPlatform/vertex-ai-samples/blob/main/notebooks/official/model_evaluation/automl_tabular_classification_model_evaluation.ipynb\">\n",
    "      <img src=\"https://cloud.google.com/ml-engine/images/github-logo-32px.png\" alt=\"GitHub logo\">\n",
    "      在GitHub上查看\n",
    "    </a>\n",
    "  </td>\n",
    "  <td>\n",
    "    <a href=\"https://console.cloud.google.com/vertex-ai/workbench/deploy-notebook?download_url=https://raw.githubusercontent.com/GoogleCloudPlatform/vertex-ai-samples/blob/main/notebooks/official/model_evaluation/automl_tabular_classification_model_evaluation.ipynb\">\n",
    "      <img src=\"https://lh3.googleusercontent.com/UiNooY4LUgW_oTvpsNhPpQzsstV5W8F7rYgxgGBD85cWJoLmrOzhVs_ksK_vgx40SHs7jCqkTkCk=e14-rj-sc0xffffff-h130-w32\" alt=\"Vertex AI logo\">\n",
    "      在Vertex AI Workbench中打开\n",
    "    </a>\n",
    "  </td>                                                                                               \n",
    "</table>"
   ]
  },
  {
   "cell_type": "markdown",
   "metadata": {
    "id": "tvgnzT1CKxrO"
   },
   "source": [
    "## 概述\n",
    "\n",
    "本笔记本演示了如何使用Vertex AI分类模型评估组件来评估AutoML分类模型。模型评估帮助您根据评估指标确定模型的性能，并在必要时改进模型。"
   ]
  },
  {
   "cell_type": "markdown",
   "metadata": {
    "id": "d975e698c9a4"
   },
   "source": [
    "###目标\n",
    "\n",
    "在本教程中，您将训练一个Vertex AI AutoML Tabular Classification模型，并学习如何通过Vertex AI管道作业使用`google_cloud_pipeline_components`对其进行评估：\n",
    "\n",
    "本教程使用以下Google Cloud ML服务和资源:\n",
    "\n",
    "- Vertex AI `数据集(Datasets)`\n",
    "- Vertex AI `训练`(AutoML Tabular Classification) \n",
    "- Vertex AI `模型注册表`(Model Registry)\n",
    "- Vertex AI `管道`(Pipelines)\n",
    "- Vertex AI `批量预测`(Batch Predictions)\n",
    "\n",
    "执行的步骤包括:\n",
    "\n",
    "- 创建一个Vertex AI `数据集(Dataset)`。\n",
    "- 在`数据集(Dataset)`资源上训练AutoML Tabular Classification模型。\n",
    "- 将训练的`AutoML模型资源`导入到管道中。\n",
    "- 运行一个`批量预测(Batch Prediction)`作业。\n",
    "- 使用`分类评估组件(Classification Evaluation Component)`评估AutoML模型。\n",
    "- 将分类指标导入到AutoML模型资源中。"
   ]
  },
  {
   "cell_type": "markdown",
   "metadata": {
    "id": "08d289fa873f"
   },
   "source": [
    "### 数据集\n",
    "\n",
    "此笔记本中使用的数据集是PetFinder数据集的一部分，可在Kaggle上的[此处](https://www.kaggle.com/c/petfinder-adoption-prediction)找到。当前数据集仅是用于预测宠物是否被领养的原数据集的一部分。它包含以下字段：\n",
    "\n",
    "- `Type`：动物类型（1 = 狗，2 = 猫）\n",
    "- `Age`：列出时宠物的年龄，以月计\n",
    "- `Breed1`：宠物的主要品种\n",
    "- `Gender`：宠物的性别\n",
    "- `Color1`：宠物的颜色1\n",
    "- `Color2`：宠物的颜色2\n",
    "- `MaturitySize`：成熟时的大小（1 = 小型，2 = 中型，3 = 大型，4 = 特大型，0 = 未指定）\n",
    "- `FurLength`：毛长（1 = 短毛，2 = 中毛，3 = 长毛，0 = 未指定）\n",
    "- `Vaccinated`：宠物是否接种疫苗（1 = 是，2 = 否，3 = 不确定）\n",
    "- `Sterilized`：宠物是否绝育（1 = 是，2 = 否，3 = 不确定）\n",
    "- `Health`：健康状况（1 = 健康，2 = 轻微受伤，3 = 严重受伤，0 = 未指定）\n",
    "- `Fee`：领养费用（0 = 免费）\n",
    "- `PhotoAmt`：为该宠物上传的照片总数\n",
    "- `Adopted`：宠物是否被领养（是/否）。\n",
    "\n",
    "**注意**：此数据集已被移动到公共云存储桶中，从中在此笔记本中访问。"
   ]
  },
  {
   "cell_type": "markdown",
   "metadata": {
    "id": "aed92deeb4a0"
   },
   "source": [
    "成本\n",
    "本教程使用Google Cloud的计费组件：\n",
    "\n",
    "* Vertex AI\n",
    "* Cloud Storage\n",
    "\n",
    "了解[Vertex AI的价格](https://cloud.google.com/vertex-ai/pricing) 和 [Cloud Storage的价格](https://cloud.google.com/storage/pricing)，并使用[Pricing\n",
    "Calculator](https://cloud.google.com/products/calculator/)根据您预计的使用量生成成本估算。"
   ]
  },
  {
   "cell_type": "markdown",
   "metadata": {
    "id": "ze4-nDLfK4pw"
   },
   "source": [
    "### 设置本地开发环境\n",
    "\n",
    "**如果您正在使用Colab或Vertex AI Workbench笔记本**，那么您的环境已满足运行此笔记本的所有要求。"
   ]
  },
  {
   "cell_type": "markdown",
   "metadata": {
    "id": "gCuSR8GkAgzl"
   },
   "source": [
    "否则，请确保您的环境满足本笔记本的要求。 您需要以下内容：\n",
    "\n",
    "* Google Cloud SDK\n",
    "* Git\n",
    "* Python 3\n",
    "* virtualenv\n",
    "* 在使用Python 3的虚拟环境中运行的Jupyter笔记本\n",
    "\n",
    "Google Cloud指南[设置Python开发环境](https://cloud.google.com/python/setup) 和[Jupyter安装指南](https://jupyter.org/install) 提供了满足这些要求的详细说明。 以下步骤提供了一个简化的指令集：\n",
    "\n",
    "1. [安装并初始化Cloud SDK。](https://cloud.google.com/sdk/docs/)\n",
    "\n",
    "1. [安装Python 3。](https://cloud.google.com/python/setup#installing_python)\n",
    "\n",
    "1. [安装virtualenv](https://cloud.google.com/python/setup#installing_and_using_virtualenv) 并创建一个使用Python 3的虚拟环境。 激活虚拟环境。\n",
    "\n",
    "1. 要安装Jupyter，请在终端shell中的命令行上运行`pip3 install jupyter`。\n",
    "\n",
    "1. 要启动Jupyter，请在终端shell中的命令行上运行`jupyter notebook`。\n",
    "\n",
    "1. 在Jupyter Notebook Dashboard中打开这个笔记本。"
   ]
  },
  {
   "cell_type": "markdown",
   "metadata": {
    "id": "i7EUnXsZhAGF"
   },
   "source": [
    "安装\n",
    "\n",
    "安装以下需要执行此笔记本的包。"
   ]
  },
  {
   "cell_type": "code",
   "execution_count": null,
   "metadata": {
    "id": "2b4ef9b72d43"
   },
   "outputs": [],
   "source": [
    "import os\n",
    "\n",
    "# The Vertex AI Workbench Notebook product has specific requirements\n",
    "IS_WORKBENCH_NOTEBOOK = os.getenv(\"DL_ANACONDA_HOME\")\n",
    "IS_USER_MANAGED_WORKBENCH_NOTEBOOK = os.path.exists(\n",
    "    \"/opt/deeplearning/metadata/env_version\"\n",
    ")\n",
    "\n",
    "# Vertex AI Notebook requires dependencies to be installed with '--user'\n",
    "USER_FLAG = \"\"\n",
    "if IS_WORKBENCH_NOTEBOOK:\n",
    "    USER_FLAG = \"--user\"\n",
    "\n",
    "! pip3 install --upgrade google-cloud-aiplatform {USER_FLAG} -q\n",
    "! pip3 install google-cloud-pipeline-components==1.0.17 {USER_FLAG} -q\n",
    "! pip3 install --upgrade kfp google-cloud-pipeline-components {USER_FLAG} -q\n",
    "! pip3 install --upgrade matplotlib {USER_FLAG} -q"
   ]
  },
  {
   "cell_type": "markdown",
   "metadata": {
    "id": "hhq5zEbGg0XX"
   },
   "source": [
    "重新启动内核\n",
    "\n",
    "在安装了额外的软件包之后，您需要重新启动笔记本内核，以便它可以找到这些软件包。"
   ]
  },
  {
   "cell_type": "code",
   "execution_count": null,
   "metadata": {
    "id": "EzrelQZ22IZj"
   },
   "outputs": [],
   "source": [
    "# Automatically restart kernel after installs\n",
    "import os\n",
    "\n",
    "if not os.getenv(\"IS_TESTING\"):\n",
    "    # Automatically restart kernel after installs\n",
    "    import IPython\n",
    "\n",
    "    app = IPython.Application.instance()\n",
    "    app.kernel.do_shutdown(True)"
   ]
  },
  {
   "cell_type": "markdown",
   "metadata": {
    "id": "lWEdiXsJg0XY"
   },
   "source": [
    "在你开始之前"
   ]
  },
  {
   "cell_type": "markdown",
   "metadata": {
    "id": "BF1j6f9HApxa"
   },
   "source": [
    "### 设置您的Google Cloud项目\n",
    "\n",
    "**不论您使用的是哪种笔记本环境，以下步骤都是必需的。**\n",
    "\n",
    "1. [选择或创建一个Google Cloud项目](https://console.cloud.google.com/cloud-resource-manager)。当您第一次创建帐户时，您将获得$300的免费信用，用于支付计算/存储成本。\n",
    "\n",
    "1. [确保您的项目已启用计费功能](https://cloud.google.com/billing/docs/how-to/modify-project)。\n",
    "\n",
    "1. [启用Vertex AI、Compute Engine和Dataflow API](https://console.cloud.google.com/flows/enableapi?apiid=aiplatform.googleapis.com,compute_component,dataflow.googleapis.com)。\n",
    "\n",
    "1. 如果您在本地运行此笔记本，您需要安装[Cloud SDK](https://cloud.google.com/sdk)。\n",
    "\n",
    "1. 在下面的单元格中输入您的项目ID。然后运行该单元格，以确保Cloud SDK在本笔记本中的所有命令中使用正确的项目。\n",
    "\n",
    "**注意**: Jupyter会将以`!`前缀开头的行解释为shell命令，并会将以`$`前缀开头的Python变量插入这些命令中。"
   ]
  },
  {
   "cell_type": "markdown",
   "metadata": {
    "id": "WReHDGG5g0XY"
   },
   "source": [
    "####设置您的项目ID\n",
    "\n",
    "**如果您不知道您的项目ID**，您可以使用 `gcloud` 获取您的项目ID。"
   ]
  },
  {
   "cell_type": "code",
   "execution_count": null,
   "metadata": {
    "id": "oM1iC_MfAts1"
   },
   "outputs": [],
   "source": [
    "PROJECT_ID = \"[your-project-id]\"  # @param {type:\"string\"}"
   ]
  },
  {
   "cell_type": "code",
   "execution_count": null,
   "metadata": {
    "id": "riG_qUokg0XZ"
   },
   "outputs": [],
   "source": [
    "if PROJECT_ID == \"\" or PROJECT_ID is None or PROJECT_ID == \"[your-project-id]\":\n",
    "    # Get your GCP project id from gcloud\n",
    "    shell_output = ! gcloud config list --format 'value(core.project)' 2>/dev/null\n",
    "    PROJECT_ID = shell_output[0]\n",
    "    print(\"Project ID:\", PROJECT_ID)"
   ]
  },
  {
   "cell_type": "code",
   "execution_count": null,
   "metadata": {
    "id": "set_gcloud_project_id"
   },
   "outputs": [],
   "source": [
    "! gcloud config set project $PROJECT_ID"
   ]
  },
  {
   "cell_type": "markdown",
   "metadata": {
    "id": "region"
   },
   "source": [
    "#### 地区\n",
    "\n",
    "您也可以更改“REGION”变量，该变量用于笔记本其余部分的操作。以下是 Vertex AI 支持的地区。建议选择距离您最近的地区。\n",
    "\n",
    "- 美洲：`us-central1`\n",
    "- 欧洲：`europe-west4`\n",
    "- 亚太：`asia-east1`\n",
    "\n",
    "您可能无法使用多地区存储桶进行 Vertex AI 的训练。并非所有地区都支持所有的 Vertex AI 服务。\n",
    "\n",
    "了解有关[Vertex AI 地区](https://cloud.google.com/vertex-ai/docs/general/locations)的更多信息。"
   ]
  },
  {
   "cell_type": "code",
   "execution_count": null,
   "metadata": {
    "id": "sduDOFQVF6kv"
   },
   "outputs": [],
   "source": [
    "REGION = \"[your-region]\"  # @param {type: \"string\"}\n",
    "\n",
    "if REGION == \"[your-region]\":\n",
    "    REGION = \"us-central1\""
   ]
  },
  {
   "cell_type": "markdown",
   "metadata": {
    "id": "06571eb4063b"
   },
   "source": [
    "UUID\n",
    "\n",
    "如果您正在进行实时教程会话，可能会使用共享测试账户或项目。为避免用户在创建的资源之间发生名称冲突，您可以为每个实例会话创建一个uuid，并将其附加到您在本教程中创建的资源的名称上。"
   ]
  },
  {
   "cell_type": "code",
   "execution_count": null,
   "metadata": {
    "id": "697568e92bd6"
   },
   "outputs": [],
   "source": [
    "import random\n",
    "import string\n",
    "\n",
    "\n",
    "# Generate a uuid of a specifed length(default=8)\n",
    "def generate_uuid(length: int = 8) -> str:\n",
    "    return \"\".join(random.choices(string.ascii_lowercase + string.digits, k=length))\n",
    "\n",
    "\n",
    "UUID = generate_uuid()"
   ]
  },
  {
   "cell_type": "markdown",
   "metadata": {
    "id": "dr--iN2kAylZ"
   },
   "source": [
    "### 验证您的谷歌云账户\n",
    "\n",
    "**如果您正在使用 Vertex AI Workbench 笔记本**，您的环境已经经过身份验证。请跳过这一步。"
   ]
  },
  {
   "cell_type": "markdown",
   "metadata": {
    "id": "sBCra4QMA2wR"
   },
   "source": [
    "如果您正在使用Colab，请运行下面的单元格并按照提示进行身份验证以通过oAuth验证您的帐号。\n",
    "\n",
    "**否则**，请按照以下步骤操作：\n",
    "\n",
    "1. 在Cloud Console中，转到[**创建服务帐号密钥**页面](https://console.cloud.google.com/apis/credentials/serviceaccountkey)。\n",
    "\n",
    "2. 点击**创建服务帐号**。\n",
    "\n",
    "3. 在**服务帐号名称**字段中输入名称，然后点击**创建**。\n",
    "\n",
    "4. 在**将此服务帐号授予项目访问权限**部分，点击**角色**下拉列表。在过滤框中键入\"Vertex AI\"，然后选择**Vertex AI管理员**。在过滤框中键入\"存储对象管理员\"，然后选择**存储对象管理员**。\n",
    "\n",
    "5. 点击**创建**。包含您密钥的JSON文件将下载到您的本地环境。\n",
    "\n",
    "6. 在下面的单元格中输入您的服务帐号密钥的路径作为`GOOGLE_APPLICATION_CREDENTIALS`变量，然后运行该单元格。"
   ]
  },
  {
   "cell_type": "code",
   "execution_count": null,
   "metadata": {
    "id": "PyQmSRbKA8r-"
   },
   "outputs": [],
   "source": [
    "# If you are running this notebook in Colab, run this cell and follow the\n",
    "# instructions to authenticate your GCP account. This provides access to your\n",
    "# Cloud Storage bucket and lets you submit training jobs and prediction\n",
    "# requests.\n",
    "\n",
    "import os\n",
    "import sys\n",
    "\n",
    "# If on Vertex AI Workbench, then don't execute this code\n",
    "IS_COLAB = \"google.colab\" in sys.modules\n",
    "if not os.path.exists(\"/opt/deeplearning/metadata/env_version\") and not os.getenv(\n",
    "    \"DL_ANACONDA_HOME\"\n",
    "):\n",
    "    if \"google.colab\" in sys.modules:\n",
    "        from google.colab import auth as google_auth\n",
    "\n",
    "        google_auth.authenticate_user()\n",
    "\n",
    "    # If you are running this notebook locally, replace the string below with the\n",
    "    # path to your service account key and run this cell to authenticate your GCP\n",
    "    # account.\n",
    "    elif not os.getenv(\"IS_TESTING\"):\n",
    "        %env GOOGLE_APPLICATION_CREDENTIALS ''"
   ]
  },
  {
   "cell_type": "markdown",
   "metadata": {
    "id": "zgPO1eR3CYjk"
   },
   "source": [
    "### 创建一个云存储桶\n",
    "\n",
    "**无论您使用的是哪种笔记本环境，都需要执行以下步骤。**\n",
    "\n",
    "当您使用Cloud SDK运行Vertex AI管道作业时，作业会将管道工件存储在一个云存储桶中。在本教程中，您将创建一个Vertex AI管道作业，将评估指标和特征属性等工件保存到一个云存储桶中。\n",
    "\n",
    "在下方设置您的云存储桶的名称。它必须在所有云存储桶中保持唯一。"
   ]
  },
  {
   "cell_type": "code",
   "execution_count": null,
   "metadata": {
    "id": "MzGDU7TWdts_"
   },
   "outputs": [],
   "source": [
    "BUCKET_NAME = \"[your-bucket-name]\"  # @param {type:\"string\"}\n",
    "BUCKET_URI = f\"gs://{BUCKET_NAME}\""
   ]
  },
  {
   "cell_type": "code",
   "execution_count": null,
   "metadata": {
    "id": "cf221059d072"
   },
   "outputs": [],
   "source": [
    "if BUCKET_NAME == \"\" or BUCKET_NAME is None or BUCKET_NAME == \"[your-bucket-name]\":\n",
    "    BUCKET_NAME = PROJECT_ID + \"aip-\" + UUID\n",
    "    BUCKET_URI = f\"gs://{BUCKET_NAME}\""
   ]
  },
  {
   "cell_type": "markdown",
   "metadata": {
    "id": "-EcIXiGsCePi"
   },
   "source": [
    "只有在您的存储桶尚不存在时：运行以下单元格以创建您的云存储存储桶。"
   ]
  },
  {
   "cell_type": "code",
   "execution_count": null,
   "metadata": {
    "id": "NIq7R4HZCfIc"
   },
   "outputs": [],
   "source": [
    "! gsutil mb -l $REGION -p $PROJECT_ID $BUCKET_URI"
   ]
  },
  {
   "cell_type": "markdown",
   "metadata": {
    "id": "ucvCsknMCims"
   },
   "source": [
    "最后，通过检查存储桶的内容来验证对云存储桶的访问。"
   ]
  },
  {
   "cell_type": "code",
   "execution_count": null,
   "metadata": {
    "id": "vhOb7YnwClBb"
   },
   "outputs": [],
   "source": [
    "! gsutil ls -al $BUCKET_URI"
   ]
  },
  {
   "cell_type": "markdown",
   "metadata": {
    "id": "set_service_account"
   },
   "source": [
    "服务账号\n",
    "\n",
    "您可以使用服务帐号创建Vertex AI Pipeline作业。如果您不想使用项目的Compute Engine服务帐号，请将`SERVICE_ACCOUNT`设置为另一个服务帐号ID。"
   ]
  },
  {
   "cell_type": "code",
   "execution_count": null,
   "metadata": {
    "id": "UwC1AdGeF6kx"
   },
   "outputs": [],
   "source": [
    "SERVICE_ACCOUNT = \"[your-service-account]\"  # @param {type:\"string\"}"
   ]
  },
  {
   "cell_type": "code",
   "execution_count": null,
   "metadata": {
    "id": "autoset_service_account"
   },
   "outputs": [],
   "source": [
    "if (\n",
    "    SERVICE_ACCOUNT == \"\"\n",
    "    or SERVICE_ACCOUNT is None\n",
    "    or SERVICE_ACCOUNT == \"[your-service-account]\"\n",
    "):\n",
    "    # Get your service account from gcloud\n",
    "    if not IS_COLAB:\n",
    "        shell_output = !gcloud auth list 2>/dev/null\n",
    "        SERVICE_ACCOUNT = shell_output[2].replace(\"*\", \"\").strip()\n",
    "\n",
    "    else:  # IS_COLAB:\n",
    "        shell_output = ! gcloud projects describe  $PROJECT_ID\n",
    "        project_number = shell_output[-1].split(\":\")[1].strip().replace(\"'\", \"\")\n",
    "        SERVICE_ACCOUNT = f\"{project_number}-compute@developer.gserviceaccount.com\"\n",
    "\n",
    "    print(\"Service Account:\", SERVICE_ACCOUNT)"
   ]
  },
  {
   "cell_type": "markdown",
   "metadata": {
    "id": "set_service_account:pipelines"
   },
   "source": [
    "#### 为Vertex AI Pipelines设置服务账号访问权限\n",
    "\n",
    "运行以下命令，为您的服务账号授予权限，以读取和写入在前面创建的存储桶中的管道工件。您只需要在每个服务账号上运行此步骤一次。"
   ]
  },
  {
   "cell_type": "code",
   "execution_count": null,
   "metadata": {
    "id": "6OqzKqhMF6kx"
   },
   "outputs": [],
   "source": [
    "! gsutil iam ch serviceAccount:{SERVICE_ACCOUNT}:roles/storage.objectCreator $BUCKET_URI\n",
    "\n",
    "! gsutil iam ch serviceAccount:{SERVICE_ACCOUNT}:roles/storage.objectViewer $BUCKET_URI"
   ]
  },
  {
   "cell_type": "markdown",
   "metadata": {
    "id": "XoEqT2Y4DJmf"
   },
   "source": [
    "### 导入库\n",
    "\n",
    "导入 Vertex AI Python SDK 和其他所需的 Python 库。"
   ]
  },
  {
   "cell_type": "code",
   "execution_count": null,
   "metadata": {
    "id": "pRUOFELefqf1"
   },
   "outputs": [],
   "source": [
    "import json\n",
    "\n",
    "import google.cloud.aiplatform as aiplatform\n",
    "import kfp\n",
    "import matplotlib.pyplot as plt\n",
    "from google.cloud import aiplatform_v1\n",
    "from kfp.v2 import compiler"
   ]
  },
  {
   "cell_type": "markdown",
   "metadata": {
    "id": "init_aip:mbsdk,all"
   },
   "source": [
    "### 初始化用于 Python 的 Vertex AI SDK\n",
    "\n",
    "为您的项目和相应的存储桶初始化 Python 版本的 Vertex AI SDK。"
   ]
  },
  {
   "cell_type": "code",
   "execution_count": null,
   "metadata": {
    "id": "ksAefQcCF6ky"
   },
   "outputs": [],
   "source": [
    "aiplatform.init(project=PROJECT_ID, location=REGION, staging_bucket=BUCKET_URI)"
   ]
  },
  {
   "cell_type": "markdown",
   "metadata": {
    "id": "8d97acf78771"
   },
   "source": [
    "创建顶点AI数据集\n",
    "\n",
    "使用数据集来源在顶点AI中创建一个管理的表格数据集资源。"
   ]
  },
  {
   "cell_type": "code",
   "execution_count": null,
   "metadata": {
    "id": "3390c9e9426c"
   },
   "outputs": [],
   "source": [
    "DATA_SOURCE = \"gs://cloud-samples-data/ai-platform-unified/datasets/tabular/petfinder-tabular-classification.csv\""
   ]
  },
  {
   "cell_type": "code",
   "execution_count": null,
   "metadata": {
    "id": "2011a473ce65"
   },
   "outputs": [],
   "source": [
    "# Create the Vertex AI Dataset resource\n",
    "dataset = aiplatform.TabularDataset.create(\n",
    "    display_name=\"petfinder-tabular-dataset_\" + UUID,\n",
    "    gcs_source=DATA_SOURCE,\n",
    ")\n",
    "\n",
    "print(\"Resource name:\", dataset.resource_name)"
   ]
  },
  {
   "cell_type": "markdown",
   "metadata": {
    "id": "6da01c2f1d4f"
   },
   "source": [
    "训练AutoML模型\n",
    "\n",
    "使用“Adopted”作为目标列，对创建的数据集训练一个简单的分类模型。\n",
    "\n",
    "设置显示名称，并使用`AutoMLTabularTrainingJob`创建训练任务，为列转换指定适当的数据类型。"
   ]
  },
  {
   "cell_type": "code",
   "execution_count": null,
   "metadata": {
    "id": "5dd3db2d1225"
   },
   "outputs": [],
   "source": [
    "TRAINING_JOB_DISPLAY_NAME = \"[your-train-job-display-name]\"  # @param {type:\"string\"}"
   ]
  },
  {
   "cell_type": "code",
   "execution_count": null,
   "metadata": {
    "id": "0614e3fb19da"
   },
   "outputs": [],
   "source": [
    "# If no display name is specified, use the default one\n",
    "if (\n",
    "    TRAINING_JOB_DISPLAY_NAME == \"\"\n",
    "    or TRAINING_JOB_DISPLAY_NAME is None\n",
    "    or TRAINING_JOB_DISPLAY_NAME == \"[your-train-job-display-name]\"\n",
    "):\n",
    "    TRAINING_JOB_DISPLAY_NAME = \"train-petfinder-automl_\" + UUID"
   ]
  },
  {
   "cell_type": "markdown",
   "metadata": {
    "id": "ce9c9f279674"
   },
   "source": [
    "`AutoMLTabularTrainingJob` 类使用以下参数创建一个 AutoML 训练作业：\n",
    "\n",
    "- `display_name`：Vertex AI 训练作业资源的人类可读名称。\n",
    "- `optimization_prediction_type`：模型要产生的预测类型。例如：回归，分类。\n",
    "- `column_specs`（可选）：要应用于输入列的转换（包括数据类型更正）。\n",
    "- `optimization_objective`：要最小化或最大化的优化目标。根据预测类型的不同，选择此参数。如果未设置此字段，则使用默认优化目标函数。\n",
    "\n",
    "有关更多详细信息，请查看[**AutoMLTabularTrainingJob**类的文档](https://cloud.google.com/python/docs/reference/aiplatform/latest/google.cloud.aiplatform.AutoMLTabularTrainingJob)。"
   ]
  },
  {
   "cell_type": "code",
   "execution_count": null,
   "metadata": {
    "id": "d33629c2aae6"
   },
   "outputs": [],
   "source": [
    "# Define the AutoML training job\n",
    "train_job = aiplatform.AutoMLTabularTrainingJob(\n",
    "    display_name=TRAINING_JOB_DISPLAY_NAME,\n",
    "    optimization_prediction_type=\"classification\",\n",
    "    column_specs={\n",
    "        \"Type\": \"categorical\",\n",
    "        \"Age\": \"numeric\",\n",
    "        \"Breed1\": \"categorical\",\n",
    "        \"Color1\": \"categorical\",\n",
    "        \"Color2\": \"categorical\",\n",
    "        \"MaturitySize\": \"categorical\",\n",
    "        \"FurLength\": \"categorical\",\n",
    "        \"Vaccinated\": \"categorical\",\n",
    "        \"Sterilized\": \"categorical\",\n",
    "        \"Health\": \"categorical\",\n",
    "        \"Fee\": \"numeric\",\n",
    "        \"PhotoAmt\": \"numeric\",\n",
    "    },\n",
    ")"
   ]
  },
  {
   "cell_type": "markdown",
   "metadata": {
    "id": "391c51c98647"
   },
   "source": [
    "设置模型的显示名称。"
   ]
  },
  {
   "cell_type": "code",
   "execution_count": null,
   "metadata": {
    "id": "454f077b984e"
   },
   "outputs": [],
   "source": [
    "MODEL_DISPLAY_NAME = \"[your-model-display-name]\"  # @param {type:\"string\"}"
   ]
  },
  {
   "cell_type": "code",
   "execution_count": null,
   "metadata": {
    "id": "21b5a27e8171"
   },
   "outputs": [],
   "source": [
    "# If no name is specified, use the default name\n",
    "if (\n",
    "    MODEL_DISPLAY_NAME == \"\"\n",
    "    or MODEL_DISPLAY_NAME is None\n",
    "    or MODEL_DISPLAY_NAME == \"[your-model-display-name]\"\n",
    "):\n",
    "    MODEL_DISPLAY_NAME = \"pet-adoption-prediction-model_\" + UUID"
   ]
  },
  {
   "cell_type": "markdown",
   "metadata": {
    "id": "93ebafd3f347"
   },
   "source": [
    "在创建的TabularDataset上运行训练作业，通过传递以下参数进行训练：\n",
    "\n",
    "- `dataset`：需要用于训练模型的同一项目中的TabularDataset数据。\n",
    "- `target_column`：要预测的列值的名称。\n",
    "- `model_display_name`：生成的Vertex AI Model的显示名称。\n",
    "- `budget_milli_node_hours`（可选）：创建此模型的训练预算，以毫节点小时表示，即此字段中的值为1,000表示1个节点小时。模型的训练成本不超过此预算。\n",
    "\n",
    "有关在`run()`方法中使用的其他参数的更多详细信息，请访问此[ **AutoMLTabularTrainingJob** 类文档](https://cloud.google.com/python/docs/reference/aiplatform/latest/google.cloud.aiplatform.AutoMLTabularTrainingJob#google_cloud_aiplatform_AutoMLTabularTrainingJob_run)。\n",
    "\n",
    "训练作业大约需要1.5-2小时才能完成。"
   ]
  },
  {
   "cell_type": "code",
   "execution_count": null,
   "metadata": {
    "id": "9ce44a2ab942"
   },
   "outputs": [],
   "source": [
    "# Specify the target column\n",
    "target_column = \"Adopted\"\n",
    "\n",
    "# Run the training job\n",
    "model = train_job.run(\n",
    "    dataset=dataset,\n",
    "    target_column=target_column,\n",
    "    model_display_name=MODEL_DISPLAY_NAME,\n",
    "    budget_milli_node_hours=1000,\n",
    ")"
   ]
  },
  {
   "cell_type": "markdown",
   "metadata": {
    "id": "bfa52eb3f22f"
   },
   "source": [
    "## 从训练中列出模型评估\n",
    "\n",
    "在训练作业完成后，获取模型评估并打印出来。"
   ]
  },
  {
   "cell_type": "code",
   "execution_count": null,
   "metadata": {
    "id": "d56e2b3cf57d"
   },
   "outputs": [],
   "source": [
    "# Get evaluations\n",
    "model_evaluations = model.list_model_evaluations()\n",
    "\n",
    "model_evaluation = list(model_evaluations)[0]\n",
    "print(model_evaluation)"
   ]
  },
  {
   "cell_type": "code",
   "execution_count": null,
   "metadata": {
    "id": "bd2e1da7a64e"
   },
   "outputs": [],
   "source": [
    "# Print the evaluation metrics\n",
    "for evaluation in model_evaluations:\n",
    "    evaluation = evaluation.to_dict()\n",
    "    print(\"Model's evaluation metrics from Training:\\n\")\n",
    "    metrics = evaluation[\"metrics\"]\n",
    "    for metric in metrics.keys():\n",
    "        print(f\"metric: {metric}, value: {metrics[metric]}\\n\")"
   ]
  },
  {
   "cell_type": "markdown",
   "metadata": {
    "id": "19c434d8b035"
   },
   "source": [
    "## 为评估创建流水线\n",
    "\n",
    "现在，您可以运行一个 Vertex AI BatchPrediction 作业，并生成对其结果的评估和特征归因。\n",
    "\n",
    "为此，您可以使用[`google-cloud-pipeline-components`](https://google-cloud-pipeline-components.readthedocs.io/en/google-cloud-pipeline-components-1.0.17/index.html) Python 包中提供的组件，创建一个 Vertex AI 流水线。"
   ]
  },
  {
   "cell_type": "markdown",
   "metadata": {
    "id": "ab9f273691cc"
   },
   "source": [
    "### 定义流水线\n",
    "\n",
    "在定义流水线的流程中，首先获取模型资源。然后，从提供的源数据集中对批量预测进行采样并创建一个批量预测。在创建批量预测作业时启用解释以生成特征归因。完成批量预测作业后，从结果中获取分类评估指标和特征归因。\n",
    "\n",
    "该流水线使用以下组件：\n",
    "\n",
    "- `GetVertexModelOp`：获取一个 Vertex 模型工件。更多详细信息，请参见 [此处](https://google-cloud-pipeline-components.readthedocs.io/en/google-cloud-pipeline-components-1.0.17/google_cloud_pipeline_components.experimental.evaluation.html#google_cloud_pipeline_components.experimental.evaluation.GetVertexModelOp)。\n",
    "- `EvaluationDataSamplerOp`：随机对输入数据集进行下采样，以用于计算用于 AutoML Tables 和自定义模型的 Vertex XAI 特征归因。使用 Apache Beam 创建一个 Dataflow 作业来对数据集进行下采样。更多详细信息，请参见 [此处](https://google-cloud-pipeline-components.readthedocs.io/en/google-cloud-pipeline-components-1.0.17/google_cloud_pipeline_components.experimental.evaluation.html#google_cloud_pipeline_components.experimental.evaluation.EvaluationDataSamplerOp)。\n",
    "- `ModelBatchPredictOp`：创建一个 Google Cloud Vertex BatchPredictionJob 并等待其完成。更多详细信息，请参见 [此处](https://google-cloud-pipeline-components.readthedocs.io/en/google-cloud-pipeline-components-1.0.17/google_cloud_pipeline_components.aiplatform.html#google_cloud_pipeline_components.aiplatform.ModelBatchPredictOp)。\n",
    "- `ModelEvaluationClassificationOp`：在训练模型的批量预测结果上计算评估指标。使用 Apache Beam 和 TFMA 创建一个 Dataflow 作业来计算评估指标。支持表格、图像、视频和文本数据的多类别分类评估。更多详细信息，请参见 [此处](https://google-cloud-pipeline-components.readthedocs.io/en/google-cloud-pipeline-components-1.0.17/google_cloud_pipeline_components.experimental.evaluation.html#google_cloud_pipeline_components.experimental.evaluation.ModelEvaluationClassificationOp)。\n",
    "- `ModelEvaluationFeatureAttributionOp`：在训练模型的批量解释结果上计算特征归因。使用 Apache Beam 和 TFMA 创建一个 Dataflow 作业来计算特征归因。更多详细信息，请参见 [此处](https://google-cloud-pipeline-components.readthedocs.io/en/google-cloud-pipeline-components-1.0.17/google_cloud_pipeline_components.experimental.evaluation.html#google_cloud_pipeline_components.experimental.evaluation.ModelEvaluationFeatureAttributionOp)。\n",
    "- `ModelImportEvaluationOp`：使用 ModelService.ImportModelEvaluation 将模型评估工件导入到现有的 Vertex 模型中。更多详细信息，请参见 [此处](https://google-cloud-pipeline-components.readthedocs.io/en/google-cloud-pipeline-components-1.0.17/google_cloud_pipeline_components.experimental.evaluation.html#google_cloud_pipeline_components.experimental.evaluation.ModelImportEvaluationOp)。"
   ]
  },
  {
   "cell_type": "code",
   "execution_count": null,
   "metadata": {
    "id": "327d8d4e11b2"
   },
   "outputs": [],
   "source": [
    "@kfp.dsl.pipeline(\n",
    "    name=\"vertex-evaluation-automl-tabular-classification-feature-attribution\"\n",
    ")\n",
    "def evaluation_automl_tabular_feature_attribution_pipeline(\n",
    "    project: str,\n",
    "    location: str,\n",
    "    root_dir: str,\n",
    "    model_name: str,\n",
    "    target_column_name: str,\n",
    "    batch_predict_gcs_source_uris: list,\n",
    "    batch_predict_instances_format: str,\n",
    "    batch_predict_predictions_format: str = \"jsonl\",\n",
    "    batch_predict_machine_type: str = \"n1-standard-4\",\n",
    "    batch_predict_explanation_metadata: dict = {},\n",
    "    batch_predict_explanation_parameters: dict = {},\n",
    "    batch_predict_explanation_data_sample_size: int = 10000,\n",
    "):\n",
    "\n",
    "    from google_cloud_pipeline_components.aiplatform import ModelBatchPredictOp\n",
    "    from google_cloud_pipeline_components.experimental.evaluation import (\n",
    "        EvaluationDataSamplerOp, GetVertexModelOp,\n",
    "        ModelEvaluationClassificationOp, ModelEvaluationFeatureAttributionOp,\n",
    "        ModelImportEvaluationOp)\n",
    "\n",
    "    # Get the Vertex AI model resource\n",
    "    get_model_task = GetVertexModelOp(model_resource_name=model_name)\n",
    "\n",
    "    # Run Data-sampling task\n",
    "    data_sampler_task = EvaluationDataSamplerOp(\n",
    "        project=project,\n",
    "        location=location,\n",
    "        root_dir=root_dir,\n",
    "        gcs_source_uris=batch_predict_gcs_source_uris,\n",
    "        instances_format=batch_predict_instances_format,\n",
    "        sample_size=batch_predict_explanation_data_sample_size,\n",
    "    )\n",
    "\n",
    "    # Run Batch Explanations\n",
    "    batch_explain_task = ModelBatchPredictOp(\n",
    "        project=project,\n",
    "        location=location,\n",
    "        model=get_model_task.outputs[\"model\"],\n",
    "        job_display_name=\"model-registry-batch-predict-evaluation\",\n",
    "        gcs_source_uris=data_sampler_task.outputs[\"gcs_output_directory\"],\n",
    "        instances_format=batch_predict_instances_format,\n",
    "        predictions_format=batch_predict_predictions_format,\n",
    "        gcs_destination_output_uri_prefix=root_dir,\n",
    "        machine_type=batch_predict_machine_type,\n",
    "        # Set the explanation parameters\n",
    "        generate_explanation=True,\n",
    "        explanation_parameters=batch_predict_explanation_parameters,\n",
    "        explanation_metadata=batch_predict_explanation_metadata,\n",
    "    )\n",
    "\n",
    "    # Run evaluation based on prediction type and feature attribution component.\n",
    "    # After, import the model evaluations to the Vertex model.\n",
    "    eval_task = ModelEvaluationClassificationOp(\n",
    "        project=project,\n",
    "        location=location,\n",
    "        root_dir=root_dir,\n",
    "        problem_type=\"classification\",\n",
    "        ground_truth_column=target_column_name,\n",
    "        predictions_gcs_source=batch_explain_task.outputs[\"gcs_output_directory\"],\n",
    "        predictions_format=batch_predict_predictions_format,\n",
    "    )\n",
    "\n",
    "    # Get Feature Attributions\n",
    "    feature_attribution_task = ModelEvaluationFeatureAttributionOp(\n",
    "        project=project,\n",
    "        location=location,\n",
    "        root_dir=root_dir,\n",
    "        predictions_format=batch_predict_predictions_format,\n",
    "        predictions_gcs_source=batch_explain_task.outputs[\"gcs_output_directory\"],\n",
    "    )\n",
    "\n",
    "    ModelImportEvaluationOp(\n",
    "        classification_metrics=eval_task.outputs[\"evaluation_metrics\"],\n",
    "        feature_attributions=feature_attribution_task.outputs[\"feature_attributions\"],\n",
    "        model=get_model_task.outputs[\"model\"],\n",
    "        dataset_type=batch_predict_instances_format,\n",
    "    )"
   ]
  },
  {
   "cell_type": "markdown",
   "metadata": {
    "id": "1abb012ce04b"
   },
   "source": [
    "### 编译管道\n",
    "\n",
    "接下来，将管道编译到 `tabular_classification_pipeline.json` 文件中。"
   ]
  },
  {
   "cell_type": "code",
   "execution_count": null,
   "metadata": {
    "id": "e526b588cae9"
   },
   "outputs": [],
   "source": [
    "compiler.Compiler().compile(\n",
    "    pipeline_func=evaluation_automl_tabular_feature_attribution_pipeline,\n",
    "    package_path=\"tabular_classification_pipeline.json\",\n",
    ")"
   ]
  },
  {
   "cell_type": "markdown",
   "metadata": {
    "id": "26eef4b83c88"
   },
   "source": [
    "定义运行管道的参数\n",
    "\n",
    "指定运行管道所需的参数。\n",
    "\n",
    "为您的管道设置一个显示名称。"
   ]
  },
  {
   "cell_type": "code",
   "execution_count": null,
   "metadata": {
    "id": "63b84f5490d2"
   },
   "outputs": [],
   "source": [
    "PIPELINE_DISPLAY_NAME = \"[your-pipeline-display-name]\"  # @param {type:\"string\"}"
   ]
  },
  {
   "cell_type": "code",
   "execution_count": null,
   "metadata": {
    "id": "e0a18b803bb7"
   },
   "outputs": [],
   "source": [
    "# If no display name is set, use the default one\n",
    "if (\n",
    "    PIPELINE_DISPLAY_NAME == \"[your-pipeline-display-name]\"\n",
    "    or PIPELINE_DISPLAY_NAME == \"\"\n",
    "    or PIPELINE_DISPLAY_NAME is None\n",
    "):\n",
    "    PIPELINE_DISPLAY_NAME = \"pet_adoption_\" + UUID"
   ]
  },
  {
   "cell_type": "markdown",
   "metadata": {
    "id": "a9571ef567de"
   },
   "source": [
    "为了将所需参数传递给流水线，您定义以下参数如下：\n",
    "\n",
    "- `project`：项目ID。\n",
    "- `location`：运行流水线的地区。\n",
    "- `root_dir`：用于保存暂存文件和文件的GCS目录。在该目录下创建一个随机子目录，用于保留作业信息，以便在发生故障时恢复作业。\n",
    "- `model_name`：经过训练的AutoML表格分类模型的资源名称。\n",
    "- `target_column_name`：用于分类的目标列的名称。\n",
    "- `batch_predict_gcs_source_uris`：批量预测输入实例的Cloud Storage桶uri列表。\n",
    "- `batch_predict_instances_format`：用于批量预测的输入实例的格式。可以是 **jsonl**、**bigquery** 或 **csv**。\n",
    "- `batch_predict_explanation_data_sample_size`：用于批量预测和评估的样本大小。"
   ]
  },
  {
   "cell_type": "code",
   "execution_count": null,
   "metadata": {
    "id": "52d622c274d2"
   },
   "outputs": [],
   "source": [
    "PIPELINE_ROOT = f\"{BUCKET_URI}/pipeline_root/pet_adoption_{UUID}\"\n",
    "parameters = {\n",
    "    \"project\": PROJECT_ID,\n",
    "    \"location\": REGION,\n",
    "    \"root_dir\": PIPELINE_ROOT,\n",
    "    \"model_name\": model.resource_name,\n",
    "    \"target_column_name\": \"Adopted\",\n",
    "    \"batch_predict_gcs_source_uris\": [DATA_SOURCE],\n",
    "    \"batch_predict_instances_format\": \"csv\",\n",
    "    \"batch_predict_explanation_data_sample_size\": 3000,\n",
    "}"
   ]
  },
  {
   "cell_type": "markdown",
   "metadata": {
    "id": "0409b0f330c2"
   },
   "source": [
    "使用以下参数创建一个 Vertex AI 管道作业：\n",
    "\n",
    "- `display_name`：管道的名称，将显示在 Google Cloud 控制台中。\n",
    "- `template_path`：PipelineJob 或 PipelineSpec JSON 或 YAML 文件的路径。可以是本地路径、Google Cloud Storage URI 或 Artifact Registry URI。\n",
    "- `parameter_values`：从运行时参数名称到控制管道运行的值的映射。\n",
    "- `enable_caching`：是否为运行启用缓存。\n",
    "\n",
    "从[此文档](https://cloud.google.com/python/docs/reference/aiplatform/latest/google.cloud.aiplatform.PipelineJob)中了解有关 `PipelineJob` 类的更多信息。\n",
    "\n",
    "创建后，使用配置的 `SERVICE_ACCOUNT` 运行管道作业。"
   ]
  },
  {
   "cell_type": "code",
   "execution_count": null,
   "metadata": {
    "id": "894afe1ba396"
   },
   "outputs": [],
   "source": [
    "job = aiplatform.PipelineJob(\n",
    "    display_name=PIPELINE_DISPLAY_NAME,\n",
    "    template_path=\"tabular_classification_pipeline.json\",\n",
    "    parameter_values=parameters,\n",
    "    enable_caching=True,\n",
    ")\n",
    "\n",
    "job.run(service_account=SERVICE_ACCOUNT)"
   ]
  },
  {
   "cell_type": "markdown",
   "metadata": {
    "id": "ce6beLsXASnK"
   },
   "source": [
    "模型评估"
   ]
  },
  {
   "cell_type": "markdown",
   "metadata": {
    "id": "mKRTDi8ioXBY"
   },
   "source": [
    "在上一个步骤的结果中，点击生成的链接查看在云控制台中运行的情况。\n",
    "\n",
    "在用户界面中，当您点击时，许多管道有向无环图（DAG）节点会展开或折叠。以下是DAG的部分展开视图（点击图像查看更大版本）。\n",
    "\n",
    "<img src=\"images/automl_tabular_classification_evaluation_pipeline.PNG\">"
   ]
  },
  {
   "cell_type": "markdown",
   "metadata": {
    "id": "XcKaONSsGNC4"
   },
   "source": [
    "获取模型评估结果\n",
    "\n",
    "在评估流程完成后，运行下面的单元格以打印评估指标。"
   ]
  },
  {
   "cell_type": "code",
   "execution_count": null,
   "metadata": {
    "id": "ec4ec00ab350"
   },
   "outputs": [],
   "source": [
    "# Iterate over the pipeline tasks\n",
    "for task in job._gca_resource.job_detail.task_details:\n",
    "    # Obtain the artifacts from the evaluation task\n",
    "    if (\n",
    "        (\"model-evaluation\" in task.task_name)\n",
    "        and (\"model-evaluation-import\" not in task.task_name)\n",
    "        and (\n",
    "            task.state == aiplatform_v1.types.PipelineTaskDetail.State.SUCCEEDED\n",
    "            or task.state == aiplatform_v1.types.PipelineTaskDetail.State.SKIPPED\n",
    "        )\n",
    "    ):\n",
    "        evaluation_metrics = task.outputs.get(\"evaluation_metrics\").artifacts[0]\n",
    "        evaluation_metrics_gcs_uri = evaluation_metrics.uri\n",
    "\n",
    "print(evaluation_metrics)\n",
    "print(evaluation_metrics_gcs_uri)"
   ]
  },
  {
   "cell_type": "markdown",
   "metadata": {
    "id": "ca00512eb89f"
   },
   "source": [
    "### 可视化指标\n",
    "\n",
    "使用柱状图来可视化可用的指标，如`auRoc`和`logLoss`。"
   ]
  },
  {
   "cell_type": "code",
   "execution_count": null,
   "metadata": {
    "id": "f9e38f73f838"
   },
   "outputs": [],
   "source": [
    "metrics = []\n",
    "values = []\n",
    "for i in evaluation_metrics.metadata.items():\n",
    "    metrics.append(i[0])\n",
    "    values.append(i[1])\n",
    "plt.figure(figsize=(5, 3))\n",
    "plt.bar(x=metrics, height=values)\n",
    "plt.title(\"Evaluation Metrics\")\n",
    "plt.ylabel(\"Value\")\n",
    "plt.show()"
   ]
  },
  {
   "cell_type": "markdown",
   "metadata": {
    "id": "049c9bbae2cb"
   },
   "source": [
    "获取特征归因\n",
    "\n",
    "运行以下单元格以获取特征归因。"
   ]
  },
  {
   "cell_type": "code",
   "execution_count": null,
   "metadata": {
    "id": "03ca8c149bc6"
   },
   "outputs": [],
   "source": [
    "# Iterate over the pipeline tasks\n",
    "for task in job._gca_resource.job_detail.task_details:\n",
    "    # Obtain the artifacts from the feature attribution task\n",
    "    if (task.task_name == \"feature-attribution\") and (\n",
    "        task.state == aiplatform_v1.types.PipelineTaskDetail.State.SUCCEEDED\n",
    "        or task.state == aiplatform_v1.types.PipelineTaskDetail.State.SKIPPED\n",
    "    ):\n",
    "        feat_attrs = task.outputs.get(\"feature_attributions\").artifacts[0]\n",
    "        feat_attrs_gcs_uri = feat_attrs.uri\n",
    "\n",
    "print(feat_attrs)\n",
    "print(feat_attrs_gcs_uri)"
   ]
  },
  {
   "cell_type": "markdown",
   "metadata": {
    "id": "719d2cd57d10"
   },
   "source": [
    "从获取到的功能归因的云存储URI中获取归因值。"
   ]
  },
  {
   "cell_type": "code",
   "execution_count": null,
   "metadata": {
    "id": "82e308dd8aca"
   },
   "outputs": [],
   "source": [
    "# Load the results\n",
    "attributions = !gsutil cat $feat_attrs_gcs_uri\n",
    "\n",
    "# Print the results obtained\n",
    "attributions = json.loads(attributions[0])\n",
    "print(attributions)"
   ]
  },
  {
   "cell_type": "markdown",
   "metadata": {
    "id": "5bfe517357f8"
   },
   "source": [
    "### 可视化特征归因\n",
    "\n",
    "使用直方图可视化每个特征的归因。"
   ]
  },
  {
   "cell_type": "code",
   "execution_count": null,
   "metadata": {
    "id": "d7a7dca9e3cc"
   },
   "outputs": [],
   "source": [
    "data = attributions[\"explanation\"][\"attributions\"][0][\"featureAttributions\"]\n",
    "features = []\n",
    "attr_values = []\n",
    "for key, value in data.items():\n",
    "    features.append(key)\n",
    "    attr_values.append(value)\n",
    "\n",
    "plt.figure(figsize=(5, 3))\n",
    "plt.bar(x=features, height=attr_values)\n",
    "plt.title(\"Feature Attributions\")\n",
    "plt.xticks(rotation=90)\n",
    "plt.ylabel(\"Attribution value\")\n",
    "plt.show()"
   ]
  },
  {
   "cell_type": "markdown",
   "metadata": {
    "id": "TpV-iwP9qw9c"
   },
   "source": [
    "清理工作\n",
    "\n",
    "要清理此项目中使用的所有Google Cloud资源，您可以删除用于本教程的[Google Cloud项目](https://cloud.google.com/resource-manager/docs/creating-managing-projects#shutting_down_projects)。\n",
    "\n",
    "否则，您可以删除在本教程中创建的各个资源。\n",
    "\n",
    "将`delete_bucket`设置为**True**以创建在本笔记本中创建的Cloud Storage存储桶。"
   ]
  },
  {
   "cell_type": "code",
   "execution_count": null,
   "metadata": {
    "id": "sx_vKniMq9ZX"
   },
   "outputs": [],
   "source": [
    "# Delete model resource\n",
    "model.delete()\n",
    "\n",
    "# Delete the dataset resource\n",
    "dataset.delete()\n",
    "\n",
    "# Delete the training job\n",
    "train_job.delete()\n",
    "\n",
    "# Delete the evaluation pipeline\n",
    "job.delete()\n",
    "\n",
    "# Delete Cloud Storage objects\n",
    "delete_bucket = False\n",
    "if delete_bucket or os.getenv(\"IS_TESTING\"):\n",
    "    ! gsutil -m rm -r $BUCKET_URI"
   ]
  }
 ],
 "metadata": {
  "colab": {
   "collapsed_sections": [],
   "name": "automl_tabular_classification_model_evaluation.ipynb",
   "toc_visible": true
  },
  "kernelspec": {
   "display_name": "Python 3",
   "name": "python3"
  }
 },
 "nbformat": 4,
 "nbformat_minor": 0
}
