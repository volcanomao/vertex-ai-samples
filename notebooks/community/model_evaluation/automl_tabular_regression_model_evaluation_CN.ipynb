{
 "cells": [
  {
   "cell_type": "code",
   "execution_count": null,
   "metadata": {
    "id": "ur8xi4C7S06n"
   },
   "outputs": [],
   "source": [
    "# Copyright 2022 Google LLC\n",
    "#\n",
    "# Licensed under the Apache License, Version 2.0 (the \"License\");\n",
    "# you may not use this file except in compliance with the License.\n",
    "# You may obtain a copy of the License at\n",
    "#\n",
    "#     https://www.apache.org/licenses/LICENSE-2.0\n",
    "#\n",
    "# Unless required by applicable law or agreed to in writing, software\n",
    "# distributed under the License is distributed on an \"AS IS\" BASIS,\n",
    "# WITHOUT WARRANTIES OR CONDITIONS OF ANY KIND, either express or implied.\n",
    "# See the License for the specific language governing permissions and\n",
    "# limitations under the License."
   ]
  },
  {
   "cell_type": "markdown",
   "metadata": {
    "id": "JAPoU8Sm5E6e"
   },
   "source": [
    "# Vertex AI管道：评估AutoML表格回归模型的BatchPrediction结果\n",
    "\n",
    "<a href=\"https://colab.research.google.com/github/GoogleCloudPlatform/vertex-ai-samples/blob/main/notebooks/community/model_evaluation/automl_tabular_regression_model_evaluation.ipynb\">\n",
    "  <img src=\"https://cloud.google.com/ml-engine/images/colab-logo-32px.png\" alt=\"Colab logo\"> 在Colab中运行\n",
    "</a>\n",
    "\n",
    "<a href=\"https://github.com/GoogleCloudPlatform/vertex-ai-samples/blob/main/notebooks/community/model_evaluation/automl_tabular_regression_model_evaluation.ipynb\">\n",
    "  <img src=\"https://cloud.google.com/ml-engine/images/github-logo-32px.png\" alt=\"GitHub logo\">\n",
    "  查看GitHub\n",
    "</a>\n",
    "\n",
    "<a href=\"https://console.cloud.google.com/vertex-ai/workbench/deploy-notebook?download_url=https://raw.githubusercontent.com/GoogleCloudPlatform/vertex-ai-samples/main/notebooks/community/model_evaluation/automl_tabular_regression_model_evaluation.ipynb\">\n",
    "  <img src=\"https://lh3.googleusercontent.com/UiNooY4LUgW_oTvpsNhPpQzsstV5W8F7rYgxgGBD85cWJoLmrOzhVs_ksK_vgx40SHs7jCqkTkCk=e14-rj-sc0xffffff-h130-w32\" alt=\"Vertex AI logo\">\n",
    "  在Vertex AI工作台中打开\n",
    "</a>\n"
   ]
  },
  {
   "cell_type": "markdown",
   "metadata": {
    "id": "tvgnzT1CKxrO"
   },
   "source": [
    "## 概览\n",
    "\n",
    "本笔记本演示了如何使用Vertex AI回归模型评估组件来评估AutoML回归模型。模型评估可以帮助您根据评估指标确定模型的性能，并在必要时改进模型。"
   ]
  },
  {
   "cell_type": "markdown",
   "metadata": {
    "id": "d975e698c9a4"
   },
   "source": [
    "### 目标\n",
    "\n",
    "在本教程中，您将学习如何通过 Vertex AI 管道作业使用 `google_cloud_pipeline_components` 来评估 Vertex AI 模型资源：\n",
    "\n",
    "本教程使用以下 Google Cloud ML 服务和资源：\n",
    "\n",
    "- Vertex AI `AutoML`\n",
    "- Vertex AI `TabularDataset` (AutoML)\n",
    "- Vertex AI `AutoMLTabularTrainingJob`\n",
    "- Vertex AI `BatchPrediction`\n",
    "- Vertex AI `Pipeline`\n",
    "- Vertex AI `Model Registry`\n",
    "\n",
    "执行的步骤包括：\n",
    "\n",
    "- 创建一个 Vertex AI 数据集\n",
    "- 配置一个 `AutoMLTabularTrainingJob`\n",
    "- 运行 `AutoMLTabularTrainingJob`，以返回一个模型\n",
    "- 导入一个预训练的 `AutoML 模型资源` 进入管道\n",
    "- 运行一个 `batch prediction` 作业\n",
    "- 使用 `regression evaluation component` 评估 AutoML 模型\n",
    "- 将分类指标导入到 AutoML 模型资源中"
   ]
  },
  {
   "cell_type": "markdown",
   "metadata": {
    "id": "08d289fa873f"
   },
   "source": [
    "### 数据集\n",
    "\n",
    "此笔记本中使用的数据集是PetFinder数据集的一部分，可在Kaggle上的 [这里](https://www.kaggle.com/c/petfinder-adoption-prediction) 上找到。当前数据集仅是用于预测宠物年龄问题考虑的原始数据集的一部分。它包含以下字段：\n",
    "\n",
    "- `Type`: 动物类型 (1 = 狗, 2 = 猫)\n",
    "- `Age`: 列出时宠物的年龄，以月计\n",
    "- `Breed1`: 宠物的主要品种\n",
    "- `Gender`: 宠物的性别\n",
    "- `Color1`: 宠物的颜色1 \n",
    "- `Color2`: 宠物的颜色2\n",
    "- `MaturitySize`: 成熟时的体型 (1 = 小型, 2 = 中型, 3 = 大型, 4 = 特大型, 0 = 未指定)\n",
    "- `FurLength`: 毛发长度 (1 = 短毛, 2 = 中长毛, 3 = 长毛, 0 = 未指定)\n",
    "- `Vaccinated`: 宠物是否接种了疫苗 (1 = 是, 2 = 否, 3 = 不确定)\n",
    "- `Sterilized`: 宠物是否绝育（1 = 是, 2 = 否, 3 = 不确定）\n",
    "- `Health`: 健康状况 (1 = 健康, 2 = 轻伤, 3 = 重伤, 0 = 未指定)\n",
    "- `Fee`: 领养费用 (0 = 免费)\n",
    "- `PhotoAmt`: 为此宠物上传的照片总数\n",
    "- `Adopted`: 是否已被领养 (是/否)。\n",
    "\n",
    "**备注**: 此数据集已移至公共云存储桶，并在本笔记本中从那里访问。"
   ]
  },
  {
   "cell_type": "markdown",
   "metadata": {
    "id": "aed92deeb4a0"
   },
   "source": [
    "### 成本\n",
    "本教程使用了谷歌云的收费组件：\n",
    "\n",
    "* Vertex AI\n",
    "* 云存储\n",
    "\n",
    "了解[Vertex AI\n",
    "定价](https://cloud.google.com/vertex-ai/pricing)和[云存储\n",
    "定价](https://cloud.google.com/storage/pricing)，并使用[Pricing\n",
    "Calculator](https://cloud.google.com/products/calculator/)\n",
    "根据您的预期使用量生成成本估算。"
   ]
  },
  {
   "cell_type": "markdown",
   "metadata": {
    "id": "ze4-nDLfK4pw"
   },
   "source": [
    "### 设置您的本地开发环境\n",
    "\n",
    "**如果您正在使用Colab或者Vertex AI Workbench笔记本**，您的环境已经满足运行此笔记本的所有要求。您可以跳过此步骤。"
   ]
  },
  {
   "cell_type": "markdown",
   "metadata": {
    "id": "gCuSR8GkAgzl"
   },
   "source": [
    "否则，请确保您的环境符合此笔记本的要求。\n",
    "您需要以下内容：\n",
    "\n",
    "* Google Cloud SDK\n",
    "* Git\n",
    "* Python 3\n",
    "* virtualenv\n",
    "* 在使用Python 3的虚拟环境中运行Jupyter笔记本\n",
    "\n",
    "Google Cloud指南 [设置Python开发环境](https://cloud.google.com/python/setup) 和 [Jupyter安装指南](https://jupyter.org/install) 提供了满足这些要求的详细说明。以下步骤提供了一组简化的指导：\n",
    "\n",
    "1. [安装并初始化Cloud SDK。](https://cloud.google.com/sdk/docs/)\n",
    "\n",
    "2. [安装Python 3。](https://cloud.google.com/python/setup#installing_python)\n",
    "\n",
    "3. [安装virtualenv](https://cloud.google.com/python/setup#installing_and_using_virtualenv) 并创建一个使用Python 3的虚拟环境。激活虚拟环境。\n",
    "\n",
    "4. 要安装Jupyter，可以在终端窗口的命令行中运行`pip3 install jupyter`。\n",
    "\n",
    "5. 要启动Jupyter，在终端窗口的命令行中运行`jupyter notebook`。\n",
    "\n",
    "6. 在Jupyter Notebook仪表板中打开此笔记本。"
   ]
  },
  {
   "cell_type": "markdown",
   "metadata": {
    "id": "i7EUnXsZhAGF"
   },
   "source": [
    "## 安装\n",
    "\n",
    "安装以下必要的软件包以执行此笔记本。"
   ]
  },
  {
   "cell_type": "code",
   "execution_count": null,
   "metadata": {
    "id": "2b4ef9b72d43"
   },
   "outputs": [],
   "source": [
    "import os\n",
    "\n",
    "# The Vertex AI Workbench Notebook product has specific requirements\n",
    "IS_WORKBENCH_NOTEBOOK = os.getenv(\"DL_ANACONDA_HOME\")\n",
    "IS_USER_MANAGED_WORKBENCH_NOTEBOOK = os.path.exists(\n",
    "    \"/opt/deeplearning/metadata/env_version\"\n",
    ")\n",
    "\n",
    "# Vertex AI Notebook requires dependencies to be installed with '--user'\n",
    "USER_FLAG = \"\"\n",
    "if IS_WORKBENCH_NOTEBOOK:\n",
    "    USER_FLAG = \"--user\"\n",
    "\n",
    "! pip3 install --upgrade google-cloud-aiplatform {USER_FLAG} -q\n",
    "! pip3 install google-cloud-pipeline-components==1.0.17 {USER_FLAG} -q\n",
    "! pip3 install --upgrade kfp google-cloud-pipeline-components {USER_FLAG} -q\n",
    "! pip3 install --upgrade matplotlib {USER_FLAG} -q"
   ]
  },
  {
   "cell_type": "markdown",
   "metadata": {
    "id": "hhq5zEbGg0XX"
   },
   "source": [
    "### 重新启动内核\n",
    "\n",
    "在安装额外的包之后，您需要重新启动笔记本内核，以便它能够找到这些包。"
   ]
  },
  {
   "cell_type": "code",
   "execution_count": null,
   "metadata": {
    "id": "EzrelQZ22IZj"
   },
   "outputs": [],
   "source": [
    "# Automatically restart kernel after installs\n",
    "import os\n",
    "\n",
    "if not os.getenv(\"IS_TESTING\"):\n",
    "    # Automatically restart kernel after installs\n",
    "    import IPython\n",
    "\n",
    "    app = IPython.Application.instance()\n",
    "    app.kernel.do_shutdown(True)"
   ]
  },
  {
   "cell_type": "markdown",
   "metadata": {
    "id": "lWEdiXsJg0XY"
   },
   "source": [
    "## 在你开始之前"
   ]
  },
  {
   "cell_type": "markdown",
   "metadata": {
    "id": "BF1j6f9HApxa"
   },
   "source": [
    "### 设置您的Google Cloud项目\n",
    "\n",
    "**无论您使用哪种笔记本环境，都需要执行以下步骤。**\n",
    "\n",
    "1. [选择或创建一个Google Cloud项目](https://console.cloud.google.com/cloud-resource-manager)。当您首次创建账户时，您将获得$300的免费信用用于计算/存储成本。\n",
    "\n",
    "1. [确保您的项目已启用计费](https://cloud.google.com/billing/docs/how-to/modify-project)。\n",
    "\n",
    "1. [启用Vertex AI API](https://console.cloud.google.com/flows/enableapi?apiid=aiplatform.googleapis.com)。\n",
    "\n",
    "1. 如果您在本地运行此笔记本，则需要安装[Cloud SDK](https://cloud.google.com/sdk)。\n",
    "\n",
    "1. 在下面的单元格中输入您的项目ID。然后运行该单元格，以确保Cloud SDK在此笔记本中的所有命令中使用正确的项目。\n",
    "\n",
    "**注意**：Jupyter会将以`!`为前缀的行作为shell命令运行，并将以`$`为前缀的Python变量插入这些命令中。"
   ]
  },
  {
   "cell_type": "markdown",
   "metadata": {
    "id": "WReHDGG5g0XY"
   },
   "source": [
    "设置您的项目ID\n",
    "\n",
    "**如果您不知道您的项目ID**，您可以使用`gcloud`来获取您的项目ID。"
   ]
  },
  {
   "cell_type": "code",
   "execution_count": null,
   "metadata": {
    "id": "oM1iC_MfAts1"
   },
   "outputs": [],
   "source": [
    "PROJECT_ID = \"[your-project-id]\"  # @param {type:\"string\"}"
   ]
  },
  {
   "cell_type": "code",
   "execution_count": null,
   "metadata": {
    "id": "riG_qUokg0XZ"
   },
   "outputs": [],
   "source": [
    "if PROJECT_ID == \"\" or PROJECT_ID is None or PROJECT_ID == \"[your-project-id]\":\n",
    "    # Get your GCP project id from gcloud\n",
    "    shell_output = ! gcloud config list --format 'value(core.project)' 2>/dev/null\n",
    "    PROJECT_ID = shell_output[0]\n",
    "    print(\"Project ID:\", PROJECT_ID)"
   ]
  },
  {
   "cell_type": "code",
   "execution_count": null,
   "metadata": {
    "id": "set_gcloud_project_id"
   },
   "outputs": [],
   "source": [
    "! gcloud config set project $PROJECT_ID"
   ]
  },
  {
   "cell_type": "markdown",
   "metadata": {
    "id": "region"
   },
   "source": [
    "### 区域\n",
    "\n",
    "您还可以更改“REGION”变量，该变量用于本笔记本其余部分的操作。以下是支持Vertex AI的区域。建议您选择离您最近的区域。\n",
    "\n",
    "- 美洲： `us-central1`\n",
    "- 欧洲： `europe-west4`\n",
    "- 亚太地区： `asia-east1`\n",
    "\n",
    "您可能无法在训练Vertex AI时使用多区域存储桶。并非所有区域都支持所有Vertex AI服务。\n",
    "\n",
    "了解更多关于[Vertex AI 区域](https://cloud.google.com/vertex-ai/docs/general/locations)。"
   ]
  },
  {
   "cell_type": "code",
   "execution_count": null,
   "metadata": {
    "id": "sduDOFQVF6kv"
   },
   "outputs": [],
   "source": [
    "REGION = \"[your-region]\"  # @param {type: \"string\"}\n",
    "\n",
    "if REGION == \"[your-region]\":\n",
    "    REGION = \"us-central1\""
   ]
  },
  {
   "cell_type": "markdown",
   "metadata": {
    "id": "06571eb4063b"
   },
   "source": [
    "#### UUID\n",
    "\n",
    "如果您正在进行现场教程会话，您可能会使用一个共享的测试帐户或项目。为了避免用户在创建的资源之间的名称冲突，您为每个实例会话创建一个UUID，并将其附加到您在本教程中创建的资源的名称上。"
   ]
  },
  {
   "cell_type": "code",
   "execution_count": null,
   "metadata": {
    "id": "697568e92bd6"
   },
   "outputs": [],
   "source": [
    "import random\n",
    "import string\n",
    "\n",
    "\n",
    "# Generate a uuid of a specifed length(default=8)\n",
    "def generate_uuid(length: int = 8) -> str:\n",
    "    return \"\".join(random.choices(string.ascii_lowercase + string.digits, k=length))\n",
    "\n",
    "\n",
    "UUID = generate_uuid()"
   ]
  },
  {
   "cell_type": "markdown",
   "metadata": {
    "id": "dr--iN2kAylZ"
   },
   "source": [
    "验证您的谷歌云账户\n",
    "\n",
    "**如果您正在使用Vertex AI Workbench笔记本**，您的环境已经经过验证。跳过这一步。"
   ]
  },
  {
   "cell_type": "markdown",
   "metadata": {
    "id": "sBCra4QMA2wR"
   },
   "source": [
    "**如果您正在使用Colab**，请运行下面的单元格，并按照提示进行身份验证，通过oAuth。\n",
    "\n",
    "**否则**，请按照以下步骤操作：\n",
    "\n",
    "1. 在Cloud控制台中，转到[**创建服务帐号密钥**页](https://console.cloud.google.com/apis/credentials/serviceaccountkey)。\n",
    "\n",
    "2. 点击**创建服务帐号**。\n",
    "\n",
    "3. 在**服务帐号名称**字段中输入一个名称，然后点击**创建**。\n",
    "\n",
    "4. 在**授予此服务帐号对项目的访问权限**部分，点击**角色**下拉列表。在过滤框中键入\"Vertex AI\"，并选择**Vertex AI管理员**。在过滤框中键入\"Storage对象管理员\"，并选择**Storage对象管理员**。\n",
    "\n",
    "5. 点击*创建*。将包含您的密钥的JSON文件下载到本地环境中。\n",
    "\n",
    "6. 在下面的单元格中，将您的服务帐号密钥的路径输入为`GOOGLE_APPLICATION_CREDENTIALS`变量，并运行该单元格。"
   ]
  },
  {
   "cell_type": "code",
   "execution_count": null,
   "metadata": {
    "id": "PyQmSRbKA8r-"
   },
   "outputs": [],
   "source": [
    "# If you are running this notebook in Colab, run this cell and follow the\n",
    "# instructions to authenticate your GCP account. This provides access to your\n",
    "# Cloud Storage bucket and lets you submit training jobs and prediction\n",
    "# requests.\n",
    "\n",
    "import os\n",
    "import sys\n",
    "\n",
    "# If on Vertex AI Workbench, then don't execute this code\n",
    "IS_COLAB = \"google.colab\" in sys.modules\n",
    "if not os.path.exists(\"/opt/deeplearning/metadata/env_version\") and not os.getenv(\n",
    "    \"DL_ANACONDA_HOME\"\n",
    "):\n",
    "    if \"google.colab\" in sys.modules:\n",
    "        from google.colab import auth as google_auth\n",
    "\n",
    "        google_auth.authenticate_user()\n",
    "\n",
    "    # If you are running this notebook locally, replace the string below with the\n",
    "    # path to your service account key and run this cell to authenticate your GCP\n",
    "    # account.\n",
    "    elif not os.getenv(\"IS_TESTING\"):\n",
    "        %env GOOGLE_APPLICATION_CREDENTIALS ''"
   ]
  },
  {
   "cell_type": "markdown",
   "metadata": {
    "id": "zgPO1eR3CYjk"
   },
   "source": [
    "创建云存储桶\n",
    "\n",
    "**无论您使用的是什么笔记本环境，都需要执行以下步骤。**\n",
    "\n",
    "当您使用Cloud SDK运行Vertex AI管道作业时，您的作业会将管道工件存储到一个云存储桶中。在本教程中，您将创建一个Vertex AI管道作业，将评估指标和特征属性等工件保存到一个云存储桶中。\n",
    "\n",
    "在下面设置您的云存储桶的名称。它必须在所有云存储桶中是唯一的。"
   ]
  },
  {
   "cell_type": "code",
   "execution_count": null,
   "metadata": {
    "id": "MzGDU7TWdts_"
   },
   "outputs": [],
   "source": [
    "BUCKET_NAME = \"[your-bucket-name]\"  # @param {type:\"string\"}\n",
    "BUCKET_URI = f\"gs://{BUCKET_NAME}\""
   ]
  },
  {
   "cell_type": "code",
   "execution_count": null,
   "metadata": {
    "id": "cf221059d072"
   },
   "outputs": [],
   "source": [
    "if BUCKET_NAME == \"\" or BUCKET_NAME is None or BUCKET_NAME == \"[your-bucket-name]\":\n",
    "    BUCKET_NAME = PROJECT_ID + \"aip-\" + UUID\n",
    "    BUCKET_URI = f\"gs://{BUCKET_NAME}\""
   ]
  },
  {
   "cell_type": "markdown",
   "metadata": {
    "id": "-EcIXiGsCePi"
   },
   "source": [
    "只有当你的存储桶尚不存在时：运行以下单元格以创建你的云存储桶。"
   ]
  },
  {
   "cell_type": "code",
   "execution_count": null,
   "metadata": {
    "id": "NIq7R4HZCfIc"
   },
   "outputs": [],
   "source": [
    "! gsutil mb -l $REGION -p $PROJECT_ID $BUCKET_URI"
   ]
  },
  {
   "cell_type": "markdown",
   "metadata": {
    "id": "ucvCsknMCims"
   },
   "source": [
    "最后，通过检查云存储桶的内容来验证对其的访问权限。"
   ]
  },
  {
   "cell_type": "code",
   "execution_count": null,
   "metadata": {
    "id": "vhOb7YnwClBb"
   },
   "outputs": [],
   "source": [
    "! gsutil ls -al $BUCKET_URI"
   ]
  },
  {
   "cell_type": "markdown",
   "metadata": {
    "id": "set_service_account"
   },
   "source": [
    "#### 服务账户\n",
    "\n",
    "您可以使用服务账户来创建Vertex AI Pipeline作业。如果您不想使用项目的计算引擎服务账户，请将`SERVICE_ACCOUNT`设置为另一个服务账户ID。"
   ]
  },
  {
   "cell_type": "code",
   "execution_count": null,
   "metadata": {
    "id": "UwC1AdGeF6kx"
   },
   "outputs": [],
   "source": [
    "SERVICE_ACCOUNT = \"[your-service-account]\"  # @param {type:\"string\"}"
   ]
  },
  {
   "cell_type": "code",
   "execution_count": null,
   "metadata": {
    "id": "autoset_service_account"
   },
   "outputs": [],
   "source": [
    "if (\n",
    "    SERVICE_ACCOUNT == \"\"\n",
    "    or SERVICE_ACCOUNT is None\n",
    "    or SERVICE_ACCOUNT == \"[your-service-account]\"\n",
    "):\n",
    "    # Get your service account from gcloud\n",
    "    if not IS_COLAB:\n",
    "        shell_output = !gcloud auth list 2>/dev/null\n",
    "        SERVICE_ACCOUNT = shell_output[2].replace(\"*\", \"\").strip()\n",
    "\n",
    "    else:  # IS_COLAB:\n",
    "        shell_output = ! gcloud projects describe  $PROJECT_ID\n",
    "        project_number = shell_output[-1].split(\":\")[1].strip().replace(\"'\", \"\")\n",
    "        SERVICE_ACCOUNT = f\"{project_number}-compute@developer.gserviceaccount.com\"\n",
    "\n",
    "    print(\"Service Account:\", SERVICE_ACCOUNT)"
   ]
  },
  {
   "cell_type": "markdown",
   "metadata": {
    "id": "set_service_account:pipelines"
   },
   "source": [
    "#### 为Vertex AI Pipelines设置服务账号访问权限\n",
    "\n",
    "运行以下命令，为您的服务账号授予读取和写入管道工件的权限，这些工件存储在您在上一步创建的存储桶中。您只需要在每个服务账号上运行此步骤一次。"
   ]
  },
  {
   "cell_type": "code",
   "execution_count": null,
   "metadata": {
    "id": "6OqzKqhMF6kx"
   },
   "outputs": [],
   "source": [
    "! gsutil iam ch serviceAccount:{SERVICE_ACCOUNT}:roles/storage.objectCreator $BUCKET_URI\n",
    "\n",
    "! gsutil iam ch serviceAccount:{SERVICE_ACCOUNT}:roles/storage.objectViewer $BUCKET_URI"
   ]
  },
  {
   "cell_type": "markdown",
   "metadata": {
    "id": "XoEqT2Y4DJmf"
   },
   "source": [
    "### 导入库"
   ]
  },
  {
   "cell_type": "code",
   "execution_count": null,
   "metadata": {
    "id": "pRUOFELefqf1"
   },
   "outputs": [],
   "source": [
    "import json\n",
    "\n",
    "import google.cloud.aiplatform as aiplatform\n",
    "import kfp\n",
    "import matplotlib.pyplot as plt\n",
    "from google.cloud import aiplatform_v1\n",
    "from kfp.v2 import compiler"
   ]
  },
  {
   "cell_type": "markdown",
   "metadata": {
    "id": "init_aip:mbsdk,all"
   },
   "source": [
    "### 初始化 Python 用于 Vertex AI SDK\n",
    "\n",
    "为您的项目和相应的存储桶初始化Python用于Vertex AI SDK。"
   ]
  },
  {
   "cell_type": "code",
   "execution_count": null,
   "metadata": {
    "id": "ksAefQcCF6ky"
   },
   "outputs": [],
   "source": [
    "aiplatform.init(project=PROJECT_ID, location=REGION, staging_bucket=BUCKET_URI)"
   ]
  },
  {
   "cell_type": "markdown",
   "metadata": {
    "id": "BiVlyW5OUnjK"
   },
   "source": [
    "创建Vertex AI数据集\n",
    "\n",
    "使用数据集来源在Vertex AI中创建一个受管理的表格数据集资源。"
   ]
  },
  {
   "cell_type": "code",
   "execution_count": null,
   "metadata": {
    "id": "bViYfWfpVAiF"
   },
   "outputs": [],
   "source": [
    "DATA_SOURCE = \"gs://cloud-samples-data/ai-platform-unified/datasets/tabular/petfinder-tabular-classification.csv\""
   ]
  },
  {
   "cell_type": "code",
   "execution_count": null,
   "metadata": {
    "id": "20S9En09X0PY"
   },
   "outputs": [],
   "source": [
    "# Create the Vertex AI Dataset resource\n",
    "dataset = aiplatform.TabularDataset.create(\n",
    "    display_name=\"petfinder-tabular-dataset\",\n",
    "    gcs_source=DATA_SOURCE,\n",
    ")\n",
    "\n",
    "print(\"Resource name:\", dataset.resource_name)"
   ]
  },
  {
   "cell_type": "markdown",
   "metadata": {
    "id": "A-QQkeUnq8Xt"
   },
   "source": [
    "训练AutoML模型\n",
    "\n",
    "使用创建的数据集训练一个简单的回归模型，使用`Age`作为目标列。\n",
    "\n",
    "设置一个显示名称，并使用适当的数据类型为列转换创建`AutoMLTabularTrainingJob`。"
   ]
  },
  {
   "cell_type": "code",
   "execution_count": null,
   "metadata": {
    "id": "Bxn6ATUXrET6"
   },
   "outputs": [],
   "source": [
    "TRAINING_JOB_DISPLAY_NAME = \"[your-train-job-display-name]\"  # @param {type:\"string\"}"
   ]
  },
  {
   "cell_type": "code",
   "execution_count": null,
   "metadata": {
    "id": "2e7664fe3af6"
   },
   "outputs": [],
   "source": [
    "# If no display name is specified, use the default one\n",
    "if (\n",
    "    TRAINING_JOB_DISPLAY_NAME == \"\"\n",
    "    or TRAINING_JOB_DISPLAY_NAME is None\n",
    "    or TRAINING_JOB_DISPLAY_NAME == \"[your-train-job-display-name]\"\n",
    "):\n",
    "    TRAINING_JOB_DISPLAY_NAME = \"train-pet-agefinder-automl_\" + UUID"
   ]
  },
  {
   "cell_type": "markdown",
   "metadata": {
    "id": "6cb41277f4f3"
   },
   "source": [
    "使用`AutoMLTabularTrainingJob`类创建一个AutoML训练作业，具有以下参数：\n",
    "- `display_name`：`TrainingJob`资源的人类可读名称。\n",
    "- `optimization_prediction_type`：模型要生成的预测类型。例如：回归，分类\n",
    "- `column_transformations`：应用于输入列（即目标列以外的列）的转换。每个转换可能会从列的值中产生多个结果值，并且所有这些值都用于训练。当为BigQuery Struct列创建转换时，应使用“.”作为分隔符拆分列。只有没有子项的列应该有转换。如果输入列没有任何转换，训练会忽略这样的列，除了目标列之外，目标列不应定义任何转换。只能传递`column_transformations`或`column_specs`中的一个。考虑使用`column_specs`，因为`column_transformations`最终将被弃用。如果没有传递`column_transformations`或`column_specs`中的任何一个，则使用本地凭据将尝试将`column_transformations`设置为“auto”。要执行此操作，本地凭据需要访问GCS或BigQuery训练数据源的读取权限。\n",
    "- `optimization_objective`：要最小化或最大化的优化目标。\n",
    "    - `minimize-rmse`\n",
    "    - `minimize-mae`\n",
    "    - `minimize-rmsle`\n",
    "\n",
    "要了解更多关于`AutoMLTabularTrainingJob`类的信息，请点击[这里](https://cloud.google.com/python/docs/reference/aiplatform/latest/google.cloud.aiplatform.AutoMLTabularTrainingJob)"
   ]
  },
  {
   "cell_type": "code",
   "execution_count": null,
   "metadata": {
    "id": "3l691PEMZFdA"
   },
   "outputs": [],
   "source": [
    "train_job = aiplatform.AutoMLTabularTrainingJob(\n",
    "    display_name=TRAINING_JOB_DISPLAY_NAME,\n",
    "    optimization_prediction_type=\"regression\",\n",
    "    column_specs={\n",
    "        \"Type\": \"categorical\",\n",
    "        \"Breed1\": \"categorical\",\n",
    "        \"Gender\": \"categorical\",\n",
    "        \"Color1\": \"categorical\",\n",
    "        \"Color2\": \"categorical\",\n",
    "        \"MaturitySize\": \"categorical\",\n",
    "        \"FurLength\": \"categorical\",\n",
    "        \"Vaccinated\": \"categorical\",\n",
    "        \"Sterilized\": \"categorical\",\n",
    "        \"Health\": \"categorical\",\n",
    "        \"Fee\": \"numeric\",\n",
    "        \"PhotoAmt\": \"numeric\",\n",
    "        \"Adopted\": \"categorical\",\n",
    "    },\n",
    "    optimization_objective=\"minimize-rmse\",\n",
    ")\n",
    "\n",
    "print(train_job)"
   ]
  },
  {
   "cell_type": "markdown",
   "metadata": {
    "id": "391c51c98647"
   },
   "source": [
    "设置模型的显示名称。"
   ]
  },
  {
   "cell_type": "code",
   "execution_count": null,
   "metadata": {
    "id": "454f077b984e"
   },
   "outputs": [],
   "source": [
    "MODEL_DISPLAY_NAME = \"[your-model-display-name]\"  # @param {type:\"string\"}"
   ]
  },
  {
   "cell_type": "code",
   "execution_count": null,
   "metadata": {
    "id": "c4f338cdea7c"
   },
   "outputs": [],
   "source": [
    "# If no name is specified, use the default name\n",
    "if (\n",
    "    MODEL_DISPLAY_NAME == \"\"\n",
    "    or MODEL_DISPLAY_NAME is None\n",
    "    or MODEL_DISPLAY_NAME == \"[your-model-display-name]\"\n",
    "):\n",
    "    MODEL_DISPLAY_NAME = \"pet-agefinder-prediction-model_\" + UUID"
   ]
  },
  {
   "cell_type": "markdown",
   "metadata": {
    "id": "de7e24205889"
   },
   "source": [
    "接下来，通过调用`run`方法开始训练任务，并提供以下参数：\n",
    "\n",
    "- `dataset`：用于训练模型的`Dataset`资源。\n",
    "- `target_column`：要预测模型值的列名。\n",
    "- `training_fraction_split`：用于训练的数据集的百分比。\n",
    "- `validation_fraction_split`：用于验证的数据集的百分比。\n",
    "- `test_fraction_split`：用于测试（留存数据）的数据集的百分比。\n",
    "- `model_display_name`：经过训练模型的可读名称。\n",
    "- `disable_early_stopping`：如果为true，整个预算将被使用。\n",
    "- `budget_milli_node_hours`：（可选）以millihours为单位指定的最大训练时间（1000 = 小时）。"
   ]
  },
  {
   "cell_type": "markdown",
   "metadata": {
    "id": "5caae7fc10d9"
   },
   "source": [
    "培训任务大约需要1.5-2小时才能完成。"
   ]
  },
  {
   "cell_type": "code",
   "execution_count": null,
   "metadata": {
    "id": "IIfvPCGYyFCT"
   },
   "outputs": [],
   "source": [
    "# Run the training job\n",
    "model = train_job.run(\n",
    "    dataset=dataset,\n",
    "    target_column=\"Age\",\n",
    "    training_fraction_split=0.8,\n",
    "    validation_fraction_split=0.1,\n",
    "    test_fraction_split=0.1,\n",
    "    model_display_name=MODEL_DISPLAY_NAME,\n",
    "    disable_early_stopping=False,\n",
    "    budget_milli_node_hours=1000,\n",
    ")"
   ]
  },
  {
   "cell_type": "markdown",
   "metadata": {
    "id": "rYirKB_9yaa0"
   },
   "source": [
    "训练完成后，获取模型评估结果并打印出来。"
   ]
  },
  {
   "cell_type": "code",
   "execution_count": null,
   "metadata": {
    "id": "KkgCdQQAyZP1"
   },
   "outputs": [],
   "source": [
    "# Get evaluations\n",
    "model_evaluations = model.list_model_evaluations()\n",
    "\n",
    "model_evaluation = list(model_evaluations)[0]\n",
    "print(model_evaluation)"
   ]
  },
  {
   "cell_type": "code",
   "execution_count": null,
   "metadata": {
    "id": "3f4d0c17150d"
   },
   "outputs": [],
   "source": [
    "# Print the evaluation metrics\n",
    "for evaluation in model_evaluations:\n",
    "    evaluation = evaluation.to_dict()\n",
    "    print(\"Model's evaluation metrics from Training:\\n\")\n",
    "    metrics = evaluation[\"metrics\"]\n",
    "    for metric in metrics.keys():\n",
    "        print(f\"metric: {metric}, value: {metrics[metric]}\\n\")"
   ]
  },
  {
   "cell_type": "markdown",
   "metadata": {
    "id": "581a188f0453"
   },
   "source": [
    "创建评估管道\n",
    "\n",
    "现在，您运行Vertex AI BatchPrediction作业，并生成对其结果的评估和特征归因。\n",
    "\n",
    "为此，您可以使用[`google-cloud-pipeline-components`](https://google-cloud-pipeline-components.readthedocs.io/en/google-cloud-pipeline-components-1.0.17/index.html) Python软件包中提供的组件创建一个Vertex AI管道。"
   ]
  },
  {
   "cell_type": "markdown",
   "metadata": {
    "id": "5adde0951eb5"
   },
   "source": [
    "### 定义管道\n",
    "\n",
    "在定义管道的流程时，首先获取模型资源。然后，从提供的源数据集中对批量预测进行采样并创建一个批量预测任务。在创建批量预测任务时启用解释功能以生成特征归因。一旦批量预测任务完成，您将从结果中获取回归评估指标和特征归因。\n",
    "\n",
    "该管道使用以下组件：\n",
    "\n",
    "- `GetVertexModelOp`：获取 Vertex 模型工件。更多详情，请查看[这里](https://google-cloud-pipeline-components.readthedocs.io/en/google-cloud-pipeline-components-1.0.17/google_cloud_pipeline_components.experimental.evaluation.html#google_cloud_pipeline_components.experimental.evaluation.GetVertexModelOp)。\n",
    "- `EvaluationDataSamplerOp`：随机对输入数据集进行下采样至指定大小，用于计算 AutoML Tables 和自定义模型的 Vertex XAI 特征归因。创建一个使用 Apache Beam 的 Dataflow 作业来对数据集进行下采样。更多详情，请查看[这里](https://google-cloud-pipeline-components.readthedocs.io/en/google-cloud-pipeline-components-1.0.17/google_cloud_pipeline_components.experimental.evaluation.html#google_cloud_pipeline_components.experimental.evaluation.EvaluationDataSamplerOp)。\n",
    "- `ModelBatchPredictOp`：创建一个 Google Cloud Vertex BatchPredictionJob 并等待其完成。更多详情，请查看[这里](https://google-cloud-pipeline-components.readthedocs.io/en/google-cloud-pipeline-components-1.0.17/google_cloud_pipeline_components.aiplatform.html#google_cloud_pipeline_components.aiplatform.ModelBatchPredictOp)。\n",
    "- `ModelEvaluationRegressionOp`：对训练模型的批量预测结果计算评估指标。创建一个使用 Apache Beam 和 TFMA 的 Dataflow 作业来计算评估指标。支持表格数据的回归。 更多详情，请查看[这里](https://google-cloud-pipeline-components.readthedocs.io/en/google-cloud-pipeline-components-1.0.17/google_cloud_pipeline_components.experimental.evaluation.html#google_cloud_pipeline_components.experimental.evaluation.ModelEvaluationRegressionOp)。\n",
    "- `ModelEvaluationFeatureAttributionOp`：对训练模型的批量解释结果计算特征归因。创建一个使用 Apache Beam 和 TFMA 的 Dataflow 作业来计算特征归因。 更多详情，请查看[这里](https://google-cloud-pipeline-components.readthedocs.io/en/google-cloud-pipeline-components-1.0.17/google_cloud_pipeline_components.experimental.evaluation.html#google_cloud_pipeline_components.experimental.evaluation.ModelEvaluationFeatureAttributionOp)。\n",
    "- `ModelImportEvaluationOp`：使用 ModelService.ImportModelEvaluation 将模型评估工件导入现有 Vertex 模型。 更多详情，请查看[这里](https://google-cloud-pipeline-components.readthedocs.io/en/google-cloud-pipeline-components-1.0.17/google_cloud_pipeline_components.experimental.evaluation.html#google_cloud_pipeline_components.experimental.evaluation.ModelImportEvaluationOp)。"
   ]
  },
  {
   "cell_type": "markdown",
   "metadata": {
    "id": "ce6beLsXASnK"
   },
   "source": [
    "## 模型评估"
   ]
  },
  {
   "cell_type": "code",
   "execution_count": null,
   "metadata": {
    "id": "ktMsqtibAUzz"
   },
   "outputs": [],
   "source": [
    "@kfp.dsl.pipeline(\n",
    "    name=\"vertex-evaluation-automl-tabular-regression-feature-attribution\"\n",
    ")\n",
    "def evaluation_automl_tabular_feature_attribution_pipeline(\n",
    "    project: str,\n",
    "    location: str,\n",
    "    root_dir: str,\n",
    "    model_name: str,\n",
    "    target_column_name: str,\n",
    "    batch_predict_gcs_source_uris: list,\n",
    "    batch_predict_instances_format: str,\n",
    "    batch_predict_predictions_format: str = \"jsonl\",\n",
    "    batch_predict_machine_type: str = \"n1-standard-4\",\n",
    "    batch_predict_explanation_metadata: dict = {},\n",
    "    batch_predict_explanation_parameters: dict = {},\n",
    "    batch_predict_explanation_data_sample_size: int = 10000,\n",
    "    dataflow_max_num_workers: int = 5,\n",
    "    dataflow_use_public_ips: bool = True,\n",
    "    encryption_spec_key_name: str = \"\",\n",
    "):\n",
    "\n",
    "    from google_cloud_pipeline_components.aiplatform import ModelBatchPredictOp\n",
    "    from google_cloud_pipeline_components.experimental.evaluation import (\n",
    "        EvaluationDataSamplerOp, GetVertexModelOp,\n",
    "        ModelEvaluationFeatureAttributionOp, ModelEvaluationRegressionOp,\n",
    "        ModelImportEvaluationOp)\n",
    "\n",
    "    # Get the Vertex AI model resource\n",
    "    get_model_task = GetVertexModelOp(model_resource_name=model_name)\n",
    "\n",
    "    # Run Data-sampling task\n",
    "    data_sampler_task = EvaluationDataSamplerOp(\n",
    "        project=project,\n",
    "        location=location,\n",
    "        root_dir=root_dir,\n",
    "        gcs_source_uris=batch_predict_gcs_source_uris,\n",
    "        instances_format=batch_predict_instances_format,\n",
    "        sample_size=batch_predict_explanation_data_sample_size,\n",
    "    )\n",
    "\n",
    "    # Run Batch Explanations\n",
    "    batch_explain_task = ModelBatchPredictOp(\n",
    "        project=project,\n",
    "        location=location,\n",
    "        model=get_model_task.outputs[\"model\"],\n",
    "        job_display_name=\"model-registry-batch-predict-evaluation\",\n",
    "        gcs_source_uris=data_sampler_task.outputs[\"gcs_output_directory\"],\n",
    "        instances_format=batch_predict_instances_format,\n",
    "        predictions_format=batch_predict_predictions_format,\n",
    "        gcs_destination_output_uri_prefix=root_dir,\n",
    "        machine_type=batch_predict_machine_type,\n",
    "        encryption_spec_key_name=encryption_spec_key_name,\n",
    "        # Set the explanation parameters\n",
    "        generate_explanation=True,\n",
    "        explanation_parameters=batch_predict_explanation_parameters,\n",
    "        explanation_metadata=batch_predict_explanation_metadata,\n",
    "    )\n",
    "\n",
    "    # Run evaluation based on prediction type and feature attribution component.\n",
    "    # After, import the model evaluations to the Vertex model.\n",
    "    eval_task = ModelEvaluationRegressionOp(\n",
    "        project=project,\n",
    "        location=location,\n",
    "        root_dir=root_dir,\n",
    "        ground_truth_column=target_column_name,\n",
    "        predictions_gcs_source=batch_explain_task.outputs[\"gcs_output_directory\"],\n",
    "        predictions_format=batch_predict_predictions_format,\n",
    "        dataflow_max_workers_num=dataflow_max_num_workers,\n",
    "        dataflow_use_public_ips=dataflow_use_public_ips,\n",
    "        encryption_spec_key_name=encryption_spec_key_name,\n",
    "    )\n",
    "\n",
    "    # Get Feature Attributions\n",
    "    feature_attribution_task = ModelEvaluationFeatureAttributionOp(\n",
    "        project=project,\n",
    "        location=location,\n",
    "        root_dir=root_dir,\n",
    "        predictions_format=\"jsonl\",\n",
    "        predictions_gcs_source=batch_explain_task.outputs[\"gcs_output_directory\"],\n",
    "        dataflow_max_workers_num=dataflow_max_num_workers,\n",
    "        dataflow_use_public_ips=dataflow_use_public_ips,\n",
    "        encryption_spec_key_name=encryption_spec_key_name,\n",
    "    )\n",
    "\n",
    "    ModelImportEvaluationOp(\n",
    "        regression_metrics=eval_task.outputs[\"evaluation_metrics\"],\n",
    "        feature_attributions=feature_attribution_task.outputs[\"feature_attributions\"],\n",
    "        model=get_model_task.outputs[\"model\"],\n",
    "        dataset_type=batch_predict_instances_format,\n",
    "    )"
   ]
  },
  {
   "cell_type": "markdown",
   "metadata": {
    "id": "a712dfa762ee"
   },
   "source": [
    "### 编译管道\n",
    "\n",
    "接下来，将管道编译成`tabular_regression_pipline.json`文件。"
   ]
  },
  {
   "cell_type": "code",
   "execution_count": null,
   "metadata": {
    "id": "NOvOMTEgCVcW"
   },
   "outputs": [],
   "source": [
    "compiler.Compiler().compile(\n",
    "    pipeline_func=evaluation_automl_tabular_feature_attribution_pipeline,\n",
    "    package_path=\"tabular_regression_pipeline.json\",\n",
    ")"
   ]
  },
  {
   "cell_type": "markdown",
   "metadata": {
    "id": "bdd9e2fd6841"
   },
   "source": [
    "定义运行流水线的参数\n",
    "\n",
    "指定运行流水线所需的参数。\n",
    "\n",
    "为您的流水线设置一个显示名称。"
   ]
  },
  {
   "cell_type": "code",
   "execution_count": null,
   "metadata": {
    "id": "8f17c5c7b3e3"
   },
   "outputs": [],
   "source": [
    "PIPELINE_DISPLAY_NAME = \"[your-pipeline-display-name]\"  # @param {type:\"string\"}"
   ]
  },
  {
   "cell_type": "code",
   "execution_count": null,
   "metadata": {
    "id": "1aa7d7bbb1c9"
   },
   "outputs": [],
   "source": [
    "# If no display name is set, use the default one\n",
    "if (\n",
    "    PIPELINE_DISPLAY_NAME == \"[your-pipeline-display-name]\"\n",
    "    or PIPELINE_DISPLAY_NAME == \"\"\n",
    "    or PIPELINE_DISPLAY_NAME is None\n",
    "):\n",
    "    PIPELINE_DISPLAY_NAME = \"pet_agefinder_\" + UUID"
   ]
  },
  {
   "cell_type": "markdown",
   "metadata": {
    "id": "90f424d5dca0"
   },
   "source": [
    "要将所需参数传递给流水线，您需要在下面定义以下参数：\n",
    "\n",
    "- `project`: 项目 ID。\n",
    "- `location`: 运行流水线的区域。\n",
    "- `root_dir`: 用于保存暂存文件和工件的 GCS 目录。一个随机子目录会在此目录下创建，用于保存作业信息，以便在发生故障时恢复作业。\n",
    "- `model_name`: 已训练的 AutoML Tabular 回归模型的资源名称。\n",
    "- `target_column_name`: 用作回归目标的列的名称。\n",
    "- `batch_predict_gcs_source_uris`: 批量预测输入实例的 Cloud Storage 存储桶 URI 列表。\n",
    "- `batch_predict_instances_format`: 批量预测输入实例的格式。可以是 \"jsonl\", \"csv\" 或 \"bigquery\"。\n",
    "- `batch_predict_explanation_data_sample_size`: 用于批量预测和评估的样本大小。"
   ]
  },
  {
   "cell_type": "code",
   "execution_count": null,
   "metadata": {
    "id": "JeSiA6-TSgV8"
   },
   "outputs": [],
   "source": [
    "PIPELINE_ROOT = f\"{BUCKET_URI}/pipeline_root/pet_agefinder_{UUID}\"\n",
    "parameters = {\n",
    "    \"project\": PROJECT_ID,\n",
    "    \"location\": REGION,\n",
    "    \"root_dir\": PIPELINE_ROOT,\n",
    "    \"model_name\": model.resource_name,\n",
    "    \"target_column_name\": \"Age\",\n",
    "    \"batch_predict_gcs_source_uris\": [DATA_SOURCE],\n",
    "    \"batch_predict_instances_format\": \"csv\",\n",
    "    \"batch_predict_explanation_data_sample_size\": 3000,\n",
    "}"
   ]
  },
  {
   "cell_type": "markdown",
   "metadata": {
    "id": "859fa6611d9a"
   },
   "source": [
    "接下来，您可以创建流水线作业，带有以下参数：\n",
    "\n",
    "- `display_name`：此流水线的用户定义名称。\n",
    "- `template_path`：PipelineJob或PipelineSpec JSON或YAML文件的路径。它可以是本地路径，Google Cloud Storage URI（例如“gs://project.name”）或Artifact Registry URI（例如“https://us-central1-kfp.pkg.dev/proj/repo/pack/latest”）。\n",
    "- `parameter_values`：从运行时参数名称到控制流水线运行的值的映射。\n",
    "- `enable_caching`：是否为运行打开缓存。如果未设置此项，则默认为编译时设置，对于所有任务，默认为True，但用户可以为单个任务指定不同的缓存选项。如果设置了此项，则该设置将应用于流水线中的所有任务。覆盖编译时设置。"
   ]
  },
  {
   "cell_type": "markdown",
   "metadata": {
    "id": "e8dce0638349"
   },
   "source": [
    "使用配置的“SERVICE_ACCOUNT”运行流水线。"
   ]
  },
  {
   "cell_type": "code",
   "execution_count": null,
   "metadata": {
    "id": "pdHib_yUEuEk"
   },
   "outputs": [],
   "source": [
    "job = aiplatform.PipelineJob(\n",
    "    display_name=PIPELINE_DISPLAY_NAME,\n",
    "    template_path=\"tabular_regression_pipeline.json\",\n",
    "    parameter_values=parameters,\n",
    "    enable_caching=True,\n",
    ")\n",
    "\n",
    "job.run(service_account=SERVICE_ACCOUNT)"
   ]
  },
  {
   "cell_type": "markdown",
   "metadata": {
    "id": "625960707c60"
   },
   "source": [
    "## 模型评估"
   ]
  },
  {
   "cell_type": "markdown",
   "metadata": {
    "id": "mKRTDi8ioXBY"
   },
   "source": [
    "在上一步的结果中，点击生成的链接查看在云控制台中的运行情况。\n",
    "\n",
    "在用户界面中，当您点击这些流水线DAG节点时，许多节点会展开或折叠。以下是DAG的部分展开视图（点击图片查看大图）。"
   ]
  },
  {
   "cell_type": "markdown",
   "metadata": {
    "id": "U2zocUvk2YVs"
   },
   "source": [
    "<img src=\"images/automl_tabular_regression_evaluation_pipeline.PNG\" style=\"height:622px;width:726px\"></img> -> <img src=\"images/automl_tabular_regression_evaluation_pipeline.PNG\" style=\"height:622px;width:726px\"></img>"
   ]
  },
  {
   "cell_type": "markdown",
   "metadata": {
    "id": "XcKaONSsGNC4"
   },
   "source": [
    "获取模型评估结果\n",
    "\n",
    "在评估流程完成后，请运行下面的单元格以打印评估指标。"
   ]
  },
  {
   "cell_type": "code",
   "execution_count": null,
   "metadata": {
    "id": "mtHA8rhGGQv3"
   },
   "outputs": [],
   "source": [
    "# Iterate over the pipeline tasks\n",
    "for task in job._gca_resource.job_detail.task_details:\n",
    "    # Obtain the artifacts from the evaluation task\n",
    "    if (\n",
    "        (\"model-evaluation\" in task.task_name)\n",
    "        and (\"model-evaluation-import\" not in task.task_name)\n",
    "        and (\n",
    "            task.state == aiplatform_v1.types.PipelineTaskDetail.State.SUCCEEDED\n",
    "            or task.state == aiplatform_v1.types.PipelineTaskDetail.State.SKIPPED\n",
    "        )\n",
    "    ):\n",
    "        evaluation_metrics = task.outputs.get(\"evaluation_metrics\").artifacts[\n",
    "            0\n",
    "        ]  # ['artifacts']\n",
    "        evaluation_metrics_gcs_uri = evaluation_metrics.uri\n",
    "\n",
    "print(evaluation_metrics)\n",
    "print(evaluation_metrics_gcs_uri)"
   ]
  },
  {
   "cell_type": "markdown",
   "metadata": {
    "id": "e69f183f902b"
   },
   "source": [
    "### 可视化指标"
   ]
  },
  {
   "cell_type": "code",
   "execution_count": null,
   "metadata": {
    "id": "b7c5e5c35ee9"
   },
   "outputs": [],
   "source": [
    "metrics = []\n",
    "values = []\n",
    "for i in evaluation_metrics.metadata.items():\n",
    "    if (\n",
    "        i[0] == \"meanAbsolutePercentageError\"\n",
    "    ):  # we are not considering MAPE as it is infinite. MAPE is infinite if groud truth is 0 as in our case Age is 0 for some instances.\n",
    "        continue\n",
    "    metrics.append(i[0])\n",
    "    values.append(i[1])\n",
    "plt.figure(figsize=(10, 5))\n",
    "plt.bar(x=metrics, height=values)\n",
    "plt.title(\"Evaluation Metrics\")\n",
    "plt.ylabel(\"Value\")\n",
    "plt.show()"
   ]
  },
  {
   "cell_type": "markdown",
   "metadata": {
    "id": "c26ad3958895"
   },
   "source": [
    "获取特征归因\n",
    "\n",
    "特征归因表示模型中每个特征对于每个给定实例的预测贡献程度。\n",
    "\n",
    "要了解更多关于特征归因的信息，请点击[这里](https://cloud.google.com/vertex-ai/docs/explainable-ai/overview#feature_attributions)\n",
    "\n",
    "运行以下单元格以获取特征归因。"
   ]
  },
  {
   "cell_type": "code",
   "execution_count": null,
   "metadata": {
    "id": "b09056628b26"
   },
   "outputs": [],
   "source": [
    "# Iterate over the pipeline tasks\n",
    "for task in job._gca_resource.job_detail.task_details:\n",
    "    # Obtain the artifacts from the feature-attribution task\n",
    "    if (task.task_name == \"feature-attribution\") and (\n",
    "        task.state == aiplatform_v1.types.PipelineTaskDetail.State.SUCCEEDED\n",
    "        or task.state == aiplatform_v1.types.PipelineTaskDetail.State.SKIPPED\n",
    "    ):\n",
    "        feat_attrs = task.outputs.get(\"feature_attributions\").artifacts[0]\n",
    "        feat_attrs_gcs_uri = feat_attrs.uri\n",
    "\n",
    "print(feat_attrs)\n",
    "print(feat_attrs_gcs_uri)"
   ]
  },
  {
   "cell_type": "markdown",
   "metadata": {
    "id": "4d9d6a82d826"
   },
   "source": [
    "从获取到的特征归因的云存储URI中，获取归因值。"
   ]
  },
  {
   "cell_type": "code",
   "execution_count": null,
   "metadata": {
    "id": "c26a2091f4fc"
   },
   "outputs": [],
   "source": [
    "# Load the results\n",
    "attributions = !gsutil cat $feat_attrs_gcs_uri\n",
    "\n",
    "# Print the results obtained\n",
    "attributions = json.loads(attributions[0])\n",
    "print(attributions)"
   ]
  },
  {
   "cell_type": "markdown",
   "metadata": {
    "id": "77151be8d776"
   },
   "source": [
    "### 可视化特征归因\n",
    "\n",
    "使用柱状图可视化每个特征的获得的归因。"
   ]
  },
  {
   "cell_type": "code",
   "execution_count": null,
   "metadata": {
    "id": "069bf017e0de"
   },
   "outputs": [],
   "source": [
    "data = attributions[\"explanation\"][\"attributions\"][0][\"featureAttributions\"]\n",
    "features = []\n",
    "attr_values = []\n",
    "for key, value in data.items():\n",
    "    features.append(key)\n",
    "    attr_values.append(value)\n",
    "\n",
    "plt.figure(figsize=(5, 3))\n",
    "plt.bar(x=features, height=attr_values)\n",
    "plt.title(\"Feature Attributions\")\n",
    "plt.xticks(rotation=90)\n",
    "plt.ylabel(\"Attribution value\")\n",
    "plt.show()"
   ]
  },
  {
   "cell_type": "markdown",
   "metadata": {
    "id": "TpV-iwP9qw9c"
   },
   "source": [
    "清理\n",
    "\n",
    "要清理此项目中使用的所有Google Cloud资源，您可以[删除用于本教程的Google Cloud项目](https://cloud.google.com/resource-manager/docs/creating-managing-projects#shutting_down_projects)。\n",
    "\n",
    "否则，您可以删除本教程中创建的各个资源。\n",
    "\n",
    "将`delete_bucket`设置为**True**，以删除在此笔记本中创建的Cloud存储桶。"
   ]
  },
  {
   "cell_type": "code",
   "execution_count": null,
   "metadata": {
    "id": "sx_vKniMq9ZX"
   },
   "outputs": [],
   "source": [
    "# Delete model resource\n",
    "model.delete()\n",
    "\n",
    "# Delete the dataset resource\n",
    "dataset.delete()\n",
    "\n",
    "# Delete the training job\n",
    "train_job.delete()\n",
    "\n",
    "# Delete the evaluation pipeline\n",
    "job.delete()\n",
    "\n",
    "# Delete Cloud Storage objects\n",
    "delete_bucket = False\n",
    "if delete_bucket or os.getenv(\"IS_TESTING\"):\n",
    "    ! gsutil -m rm -r $BUCKET_URI"
   ]
  }
 ],
 "metadata": {
  "colab": {
   "collapsed_sections": [],
   "name": "automl_tabular_regression_model_evaluation.ipynb",
   "toc_visible": true
  },
  "kernelspec": {
   "display_name": "Python 3",
   "name": "python3"
  }
 },
 "nbformat": 4,
 "nbformat_minor": 0
}
