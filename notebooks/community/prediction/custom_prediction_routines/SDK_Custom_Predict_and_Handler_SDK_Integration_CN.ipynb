{
 "cells": [
  {
   "cell_type": "code",
   "execution_count": null,
   "metadata": {
    "id": "ur8xi4C7S06n"
   },
   "outputs": [],
   "source": [
    "# Copyright 2022 Google LLC\n",
    "#\n",
    "# Licensed under the Apache License, Version 2.0 (the \"License\");\n",
    "# you may not use this file except in compliance with the License.\n",
    "# You may obtain a copy of the License at\n",
    "#\n",
    "#     https://www.apache.org/licenses/LICENSE-2.0\n",
    "#\n",
    "# Unless required by applicable law or agreed to in writing, software\n",
    "# distributed under the License is distributed on an \"AS IS\" BASIS,\n",
    "# WITHOUT WARRANTIES OR CONDITIONS OF ANY KIND, either express or implied.\n",
    "# See the License for the specific language governing permissions and\n",
    "# limitations under the License."
   ]
  },
  {
   "cell_type": "markdown",
   "metadata": {
    "id": "JAPoU8Sm5E6e"
   },
   "source": [
    "<table align=\"left\">\n",
    "  <td>\n",
    "    <a href=\"https://github.com/GoogleCloudPlatform/vertex-ai-samples/blob/main/notebooks/community/prediction/custom_prediction_routines/SDK_Custom_Predict_and_Handler_SDK_Integration.ipynb\">\n",
    "      <img src=\"https://cloud.google.com/ml-engine/images/github-logo-32px.png\" alt=\"GitHub logo\">\n",
    "      在GitHub上查看\n",
    "    </a>\n",
    "  </td>\n",
    "  <td>\n",
    "    <a href=\"https://console.cloud.google.com/vertex-ai/notebooks/deploy-notebook?download_url=https://raw.githubusercontent.com/GoogleCloudPlatform/vertex-ai-samples/main/notebooks/community/prediction/custom_prediction_routines/SDK_Custom_Predict_and_Handler_SDK_Integration.ipynb\">\n",
    "      <img src=\"https://lh3.googleusercontent.com/UiNooY4LUgW_oTvpsNhPpQzsstV5W8F7rYgxgGBD85cWJoLmrOzhVs_ksK_vgx40SHs7jCqkTkCk=e14-rj-sc0xffffff-h130-w32\" alt=\"Vertex AI logo\">\n",
    "      在Vertex AI Workbench中打开\n",
    "    </a>\n",
    "  </td>\n",
    "</table>"
   ]
  },
  {
   "cell_type": "markdown",
   "metadata": {
    "id": "tvgnzT1CKxrO"
   },
   "source": [
    "## 概览\n",
    "\n",
    "本教程演示了如何使用Vertex AI SDK构建一个自定义容器，该容器使用Custom Prediction Routine模型服务器来为Vertex AI Predictions提供一个scikit-learn模型。\n",
    "\n",
    "\n",
    "\n",
    "### 数据集\n",
    "\n",
    "本教程使用了R.A. Fisher的鸢尾花数据集，这是一个小型数据集，常用于尝试机器学习技术。每个实例都有四个数值特征，这些特征是花的不同测量，并且有一个目标标签，将其标记为三种类型之一的鸢尾花：Iris setosa，Iris versicolour或Iris virginica。\n",
    "\n",
    "本教程使用了[包含在scikit-learn库中的鸢尾花数据集的副本](https://scikit-learn.org/stable/auto_examples/datasets/plot_iris_dataset.html)。\n",
    "\n",
    "### 目标\n",
    "\n",
    "目标是：\n",
    "- 训练一个模型，使用花的测量作为输入来预测它是什么类型的鸢尾花。\n",
    "- 保存模型及其序列化的预处理器\n",
    "- 使用Vertex AI SDK中的Custom Prediction Routine功能构建一个自定义的sklearn服务容器，包括自定义请求处理和预处理\n",
    "- 在本地测试构建的容器\n",
    "- 上传并部署自定义容器到Vertex Prediction\n",
    "\n",
    "本教程更关注如何使用Vertex AI部署这个模型，而不是模型本身的设计。\n",
    "\n",
    "### 成本\n",
    "\n",
    "本教程使用了Google Cloud的计费组件：\n",
    "\n",
    "* Vertex AI\n",
    "\n",
    "了解有关[Vertex AI定价](https://cloud.google.com/vertex-ai/pricing)的信息，并使用[Pricing Calculator](https://cloud.google.com/products/calculator/)根据您的预估使用量生成成本估算。"
   ]
  },
  {
   "cell_type": "markdown",
   "metadata": {
    "id": "ze4-nDLfK4pw"
   },
   "source": [
    "### 搭建本地开发环境\n",
    "\n",
    "**如果您正在使用Vertex AI Workbench笔记本**，您的环境已经满足运行此笔记本的所有要求。您可以跳过此步骤。"
   ]
  },
  {
   "cell_type": "markdown",
   "metadata": {
    "id": "gCuSR8GkAgzl"
   },
   "source": [
    "否则，请确保您的环境符合此笔记本的要求。 您需要以下内容：\n",
    "\n",
    "- Docker\n",
    "- Git\n",
    "- Google Cloud SDK (gcloud)\n",
    "- Python 3\n",
    "- virtualenv\n",
    "- 在使用Python 3的虚拟环境中运行的Jupyter笔记本\n",
    "\n",
    "Google Cloud 的 [设置Python开发环境指南](https://cloud.google.com/python/setup) 和 [Jupyter安装指南](https://jupyter.org/install) 提供了满足这些要求的详细说明。 以下步骤提供了简明的指令：\n",
    "\n",
    "1. [安装和初始化Cloud SDK。](https://cloud.google.com/sdk/docs/)\n",
    "\n",
    "2. [安装Python 3。](https://cloud.google.com/python/setup#installing_python)\n",
    "\n",
    "3. [安装virtualenv](https://cloud.google.com/python/setup#installing_and_using_virtualenv) 并创建一个使用Python 3的虚拟环境。 激活虚拟环境。\n",
    "\n",
    "4. 要安装Jupyter，请在终端窗口的命令行中运行 `pip install jupyter`。\n",
    "\n",
    "5. 要启动Jupyter，请在终端窗口的命令行中运行 `jupyter notebook`。\n",
    "\n",
    "6. 在Jupyter Notebook Dashboard中打开此笔记本。"
   ]
  },
  {
   "cell_type": "markdown",
   "metadata": {
    "id": "i7EUnXsZhAGF"
   },
   "source": [
    "### 安装额外的包\n",
    "\n",
    "安装额外的包依赖项，这些包可能在您的笔记本环境中尚未安装，比如NumPy、Scikit-learn、FastAPI、Uvicorn和joblib。"
   ]
  },
  {
   "cell_type": "code",
   "execution_count": null,
   "metadata": {
    "id": "747f59abb3a5"
   },
   "outputs": [],
   "source": [
    "%%writefile requirements.txt\n",
    "fastapi\n",
    "uvicorn==0.17.6\n",
    "joblib~=1.0\n",
    "numpy~=1.20\n",
    "scikit-learn~=0.24\n",
    "google-cloud-storage>=1.26.0,<2.0.0dev\n",
    "google-cloud-aiplatform[prediction]>=1.16.0"
   ]
  },
  {
   "cell_type": "markdown",
   "metadata": {
    "id": "356f45ac7942"
   },
   "source": [
    "您部署的模型预先安装了一组不同的依赖项，而不是您的笔记本环境已经安装的依赖项。您不应该假设因为笔记本中的工作正常，它们也会在模型中正常工作。相反，我们将通过在 requirements.txt 中列出它们，并使用 `pip install` 在笔记本中安装完全相同的依赖项来明确模型的依赖关系。请注意，当然，有可能我们错过了 requirements.txt 中已经存在于笔记本中的依赖项。如果是这种情况，这些功能将在笔记本中运行，但在模型中不会。为了防范这种情况，我们会在部署到云端之前在本地测试模型。"
   ]
  },
  {
   "cell_type": "code",
   "execution_count": null,
   "metadata": {
    "id": "wyy5Lbnzg5fi"
   },
   "outputs": [],
   "source": [
    "# Install the same dependencies used in the serving container in the notebook\n",
    "# environment.\n",
    "%pip install -U --user -r requirements.txt"
   ]
  },
  {
   "cell_type": "markdown",
   "metadata": {
    "id": "hhq5zEbGg0XX"
   },
   "source": [
    "重新启动内核\n",
    "\n",
    "在安装额外的包之后，您需要重新启动笔记本内核，以便它能找到这些包。"
   ]
  },
  {
   "cell_type": "code",
   "execution_count": null,
   "metadata": {
    "id": "EzrelQZ22IZj"
   },
   "outputs": [],
   "source": [
    "# Automatically restart kernel after installs\n",
    "import os\n",
    "\n",
    "if not os.getenv(\"IS_TESTING\"):\n",
    "    # Automatically restart kernel after installs\n",
    "    import IPython\n",
    "\n",
    "    app = IPython.Application.instance()\n",
    "    app.kernel.do_shutdown(True)"
   ]
  },
  {
   "cell_type": "markdown",
   "metadata": {
    "id": "lWEdiXsJg0XY"
   },
   "source": [
    "在你开始之前"
   ]
  },
  {
   "cell_type": "markdown",
   "metadata": {
    "id": "64a0a87c5b66"
   },
   "source": [
    "在这个例子中设置日志记录"
   ]
  },
  {
   "cell_type": "code",
   "execution_count": null,
   "metadata": {
    "id": "348ca5392459"
   },
   "outputs": [],
   "source": [
    "import logging\n",
    "\n",
    "logging.basicConfig(level=logging.INFO)"
   ]
  },
  {
   "cell_type": "markdown",
   "metadata": {
    "id": "BF1j6f9HApxa"
   },
   "source": [
    "### 设置您的Google Cloud项目\n",
    "\n",
    "**无论您的笔记本环境如何，以下步骤都是必需的。**\n",
    "\n",
    "1. [选择或创建一个Google Cloud项目](https://console.cloud.google.com/cloud-resource-manager)。当您第一次创建帐户时，您将获得$300的免费信用用于您的计算/存储成本。\n",
    "\n",
    "1. [确保您的项目已启用计费](https://cloud.google.com/billing/docs/how-to/modify-project)。\n",
    "\n",
    "1. [启用Vertex AI API和Compute Engine API](https://console.cloud.google.com/flows/enableapi?apiid=aiplatform.googleapis.com,compute_component)。\n",
    "\n",
    "1. 如果您在本地运行此笔记本，则需要安装[Cloud SDK](https://cloud.google.com/sdk)。\n",
    "\n",
    "1. 在下面的单元格中输入您的项目ID。然后运行该单元格，确保Cloud SDK在本笔记本中的所有命令中使用正确的项目。\n",
    "\n",
    "**注意**：Jupyter会将以`!`或`%`为前缀的行视为shell命令，并将Python变量插入这些命令中的`$`或`{}`。"
   ]
  },
  {
   "cell_type": "markdown",
   "metadata": {
    "id": "WReHDGG5g0XY"
   },
   "source": [
    "设置您的项目ID\n",
    "\n",
    "**如果您不知道您的项目ID**，您可以使用`gcloud`来获取您的项目ID。"
   ]
  },
  {
   "cell_type": "code",
   "execution_count": null,
   "metadata": {
    "id": "oM1iC_MfAts1"
   },
   "outputs": [],
   "source": [
    "import os\n",
    "\n",
    "PROJECT_ID = \"\"\n",
    "\n",
    "# Get your Google Cloud project ID from gcloud\n",
    "if not os.getenv(\"IS_TESTING\"):\n",
    "    shell_output = !gcloud config list --format 'value(core.project)' 2>/dev/null\n",
    "    PROJECT_ID = shell_output[0]\n",
    "    print(\"Project ID: \", PROJECT_ID)"
   ]
  },
  {
   "cell_type": "markdown",
   "metadata": {
    "id": "qJYoRfYng0XZ"
   },
   "source": [
    "否则，请在这里设置您的项目ID。"
   ]
  },
  {
   "cell_type": "code",
   "execution_count": null,
   "metadata": {
    "id": "riG_qUokg0XZ"
   },
   "outputs": [],
   "source": [
    "if PROJECT_ID == \"\" or PROJECT_ID is None:\n",
    "    PROJECT_ID = \"[your-project-id]\"  # @param {type:\"string\"}"
   ]
  },
  {
   "cell_type": "code",
   "execution_count": null,
   "metadata": {
    "id": "set_gcloud_project_id"
   },
   "outputs": [],
   "source": [
    "! gcloud config set project $PROJECT_ID"
   ]
  },
  {
   "cell_type": "markdown",
   "metadata": {
    "id": "region"
   },
   "source": [
    "#### 区域\n",
    "\n",
    "您也可以更改 `REGION` 变量，该变量用于本笔记本的其余操作。以下是 Vertex AI 支持的区域。我们建议您选择距离您最近的区域。\n",
    "\n",
    "- 美洲: `us-central1`\n",
    "- 欧洲: `europe-west4`\n",
    "- 亚太: `asia-east1`\n",
    "\n",
    "您可能不能使用多区域存储桶进行 Vertex AI 训练。不是所有区域都支持所有 Vertex AI 服务。\n",
    "\n",
    "了解更多关于 [Vertex AI 区域](https://cloud.google.com/vertex-ai/docs/general/locations)。"
   ]
  },
  {
   "cell_type": "code",
   "execution_count": null,
   "metadata": {
    "id": "region"
   },
   "outputs": [],
   "source": [
    "REGION = \"[your-region]\"  # @param {type: \"string\"}\n",
    "\n",
    "if REGION == \"[your-region]\":\n",
    "    REGION = \"us-central1\""
   ]
  },
  {
   "cell_type": "markdown",
   "metadata": {
    "id": "XoEqT2Y4DJmf"
   },
   "source": [
    "### 配置项目和资源名称"
   ]
  },
  {
   "cell_type": "markdown",
   "metadata": {
    "id": "KekutBxiTYR8"
   },
   "source": [
    "如果你正在参加一个现场教程会话，你可能会使用一个共享的测试账户或项目。为了避免资源创建时用户之间的名称冲突，你需要为每个实例会话创建一个时间戳，并将其附加到你在本教程中创建的资源的名称上。"
   ]
  },
  {
   "cell_type": "code",
   "execution_count": null,
   "metadata": {
    "id": "1-2mvK_cTakz"
   },
   "outputs": [],
   "source": [
    "from datetime import datetime\n",
    "\n",
    "TIMESTAMP = datetime.now().strftime(\"%Y%m%d%H%M%S\")"
   ]
  },
  {
   "cell_type": "markdown",
   "metadata": {
    "id": "CYlZ-K9PUAXL"
   },
   "source": [
    "配置GCP资源名称。"
   ]
  },
  {
   "cell_type": "code",
   "execution_count": null,
   "metadata": {
    "id": "MzGDU7TWdts_"
   },
   "outputs": [],
   "source": [
    "MODEL_ARTIFACT_DIR = \"sklearn-cpr-model-handler-sdk\"  # @param {type:\"string\"}\n",
    "REPOSITORY = \"custom-container-prediction-handler-sdk\"  # @param {type:\"string\"}\n",
    "IMAGE = \"sklearn-cpr-server-handler-sdk\"  # @param {type:\"string\"}\n",
    "MODEL_DISPLAY_NAME = \"sklearn-cpr-model-handler-sdk\"  # @param {type:\"string\"}"
   ]
  },
  {
   "cell_type": "markdown",
   "metadata": {
    "id": "ca1a915d641d"
   },
   "source": [
    "`REGION` - 用于此笔记本其余操作。请确保选择一个[支持Cloud Vertex AI服务的地区](https://cloud.google.com/vertex-ai/docs/general/locations#feature-availability)。您不能在Vertex AI中使用多区域存储桶进行预测。\n",
    "\n",
    "`MODEL_ARTIFACT_DIR` - 您的模型工件所在的云存储桶文件夹路径，例如：\"my-models/fraud-detection/trial-4\"\n",
    "\n",
    "`REPOSITORY` - 要创建或使用的工件存储库的名称。\n",
    "\n",
    "`IMAGE` - 将要推送的容器镜像的名称。\n",
    "\n",
    "`MODEL_DISPLAY_NAME` - Vertex AI模型资源的显示名称。"
   ]
  },
  {
   "cell_type": "markdown",
   "metadata": {
    "id": "zgPO1eR3CYjk"
   },
   "source": [
    "### 创建一个云存储桶\n",
    "\n",
    "**无论您使用的是哪个笔记本环境，都需要执行以下步骤。**\n",
    "\n",
    "要更新模型工件而不重新构建容器，您必须将模型工件和任何自定义代码上传到云存储。\n",
    "\n",
    "请在下方设置您的云存储桶的名称。它必须在所有云存储桶中是唯一的。"
   ]
  },
  {
   "cell_type": "code",
   "execution_count": null,
   "metadata": {
    "id": "MzGDU7TWdts_"
   },
   "outputs": [],
   "source": [
    "BUCKET_NAME = \"[your-bucket-name]\"  # @param {type:\"string\"}\n",
    "BUCKET_URI = f\"gs://{BUCKET_NAME}\""
   ]
  },
  {
   "cell_type": "code",
   "execution_count": null,
   "metadata": {
    "id": "cf221059d072"
   },
   "outputs": [],
   "source": [
    "if BUCKET_NAME == \"\" or BUCKET_NAME is None or BUCKET_NAME == \"[your-bucket-name]\":\n",
    "    BUCKET_NAME = PROJECT_ID + \"-aip-\" + TIMESTAMP\n",
    "    BUCKET_URI = f\"gs://{BUCKET_NAME}\""
   ]
  },
  {
   "cell_type": "markdown",
   "metadata": {
    "id": "-EcIXiGsCePi"
   },
   "source": [
    "只有当您的存储桶尚不存在时：运行以下单元格以创建您的云存储存储桶。"
   ]
  },
  {
   "cell_type": "code",
   "execution_count": null,
   "metadata": {
    "id": "NIq7R4HZCfIc"
   },
   "outputs": [],
   "source": [
    "! gsutil mb -l $REGION -p $PROJECT_ID $BUCKET_URI"
   ]
  },
  {
   "cell_type": "markdown",
   "metadata": {
    "id": "ucvCsknMCims"
   },
   "source": [
    "最后，通过检查云存储桶中的内容来验证访问权限。"
   ]
  },
  {
   "cell_type": "code",
   "execution_count": null,
   "metadata": {
    "id": "vhOb7YnwClBb"
   },
   "outputs": [],
   "source": [
    "! gsutil ls -al $BUCKET_URI"
   ]
  },
  {
   "cell_type": "markdown",
   "metadata": {
    "id": "3c2d091d9e73"
   },
   "source": [
    "编写您的预处理程序"
   ]
  },
  {
   "cell_type": "markdown",
   "metadata": {
    "id": "3c2d091d9e73"
   },
   "source": [
    "决定放置所有自定义代码的目录。"
   ]
  },
  {
   "cell_type": "code",
   "execution_count": null,
   "metadata": {
    "id": "3c2d091d9e73"
   },
   "outputs": [],
   "source": [
    "USER_SRC_DIR = \"src_dir_handler_sdk\"  # @param {type:\"string\"}"
   ]
  },
  {
   "cell_type": "markdown",
   "metadata": {
    "id": "cee1ac13b767"
   },
   "source": [
    "决定放置您训练模型的目录。"
   ]
  },
  {
   "cell_type": "code",
   "execution_count": null,
   "metadata": {
    "id": "104037d0dbf5"
   },
   "outputs": [],
   "source": [
    "LOCAL_MODEL_ARTIFACTS_DIR = \"model_artifacts\"  # @param {type:\"string\"}"
   ]
  },
  {
   "cell_type": "markdown",
   "metadata": {
    "id": "3c2d091d9e73"
   },
   "source": [
    "对训练数据进行缩放，使每个数值特征列的均值为0，标准差为1，可以改善您的模型。\n",
    "\n",
    "创建`preprocess.py`，其中包含一个用于执行此缩放的类："
   ]
  },
  {
   "cell_type": "code",
   "execution_count": null,
   "metadata": {
    "id": "6e74556ea0b4"
   },
   "outputs": [],
   "source": [
    "%mkdir $USER_SRC_DIR\n",
    "%mkdir $LOCAL_MODEL_ARTIFACTS_DIR"
   ]
  },
  {
   "cell_type": "code",
   "execution_count": null,
   "metadata": {
    "id": "58d843d21fa8"
   },
   "outputs": [],
   "source": [
    "%%writefile $USER_SRC_DIR/preprocess.py\n",
    "import numpy as np\n",
    "\n",
    "class MySimpleScaler(object):\n",
    "    def __init__(self):\n",
    "        self._means = None\n",
    "        self._stds = None\n",
    "\n",
    "    def preprocess(self, data):\n",
    "        if self._means is None:  # during training only\n",
    "            self._means = np.mean(data, axis=0)\n",
    "\n",
    "        if self._stds is None:  # during training only\n",
    "            self._stds = np.std(data, axis=0)\n",
    "            if not self._stds.all():\n",
    "                raise ValueError(\"At least one column has standard deviation of 0.\")\n",
    "\n",
    "        return (data - self._means) / self._stds"
   ]
  },
  {
   "cell_type": "markdown",
   "metadata": {
    "id": "4b816cd52f4b"
   },
   "source": [
    "## 使用预处理器训练和存储模型\n",
    "接下来，使用`preprocess.MySimpleScaler`对鸢尾花数据进行预处理，然后使用scikit-learn训练模型。\n",
    "\n",
    "最后，将训练好的模型导出为一个joblib（.joblib）文件，将您的`MySimpleScaler`实例导出为一个pickle（.pkl）文件。"
   ]
  },
  {
   "cell_type": "code",
   "execution_count": null,
   "metadata": {
    "id": "43e47249f736"
   },
   "outputs": [],
   "source": [
    "%cd $USER_SRC_DIR/\n",
    "\n",
    "import pickle\n",
    "\n",
    "import joblib\n",
    "from preprocess import MySimpleScaler\n",
    "from sklearn.datasets import load_iris\n",
    "from sklearn.ensemble import RandomForestClassifier\n",
    "\n",
    "iris = load_iris()\n",
    "scaler = MySimpleScaler()\n",
    "\n",
    "X = scaler.preprocess(iris.data)\n",
    "y = iris.target\n",
    "\n",
    "model = RandomForestClassifier()\n",
    "model.fit(X, y)\n",
    "\n",
    "joblib.dump(model, f\"../{LOCAL_MODEL_ARTIFACTS_DIR}/model.joblib\")\n",
    "with open(f\"../{LOCAL_MODEL_ARTIFACTS_DIR}/preprocessor.pkl\", \"wb\") as f:\n",
    "    pickle.dump(scaler, f)"
   ]
  },
  {
   "cell_type": "markdown",
   "metadata": {
    "id": "3849066a33bd"
   },
   "source": [
    "### 将模型工件和自定义代码上传至云存储\n",
    "\n",
    "在您部署模型进行服务之前，Vertex AI 需要访问以下云存储中的文件：\n",
    "\n",
    "* `model.joblib`（模型工件）\n",
    "* `preprocessor.pkl`（模型工件）\n",
    "\n",
    "运行以下命令上传您的文件："
   ]
  },
  {
   "cell_type": "code",
   "execution_count": null,
   "metadata": {
    "id": "ca67ee52d4d9"
   },
   "outputs": [],
   "source": [
    "%cd ..\n",
    "!gsutil cp {LOCAL_MODEL_ARTIFACTS_DIR}/* {BUCKET_URI}/{MODEL_ARTIFACT_DIR}/\n",
    "!gsutil ls {BUCKET_URI}/{MODEL_ARTIFACT_DIR}/"
   ]
  },
  {
   "cell_type": "markdown",
   "metadata": {
    "id": "7b68b0404a33"
   },
   "source": [
    "使用CPR模型服务器构建一个自定义的服务容器"
   ]
  },
  {
   "cell_type": "markdown",
   "metadata": {
    "id": "480a1d88ecdb"
   },
   "source": [
    "现在模型和处理器已经训练并保存，是时候构建自定义的Serving容器了。通常构建一个Serving容器需要编写模型服务器代码。然而，使用自定义预测例程功能，Vertex AI Prediction提供一个可立即使用的模型服务器。\n",
    "\n",
    "自定义Serving容器包含以下三部分代码：\n",
    "1. [模型服务器](https://github.com/googleapis/python-aiplatform/blob/main/google/cloud/aiplatform/prediction/model_server.py)\n",
    "    * 托管模型的HTTP服务器。\n",
    "    * 负责设置路由/端口等。\n",
    "1. [请求处理程序](https://github.com/googleapis/python-aiplatform/blob/main/google/cloud/aiplatform/prediction/handler.py)\n",
    "    * 负责处理请求的Web服务器方面，例如对请求体进行反序列化、序列化响应、设置响应头等。\n",
    "    * 在这个示例中，我们将使用SDK提供的默认处理程序 `google.cloud.aiplatform.prediction.handler.PredictionHandler`。\n",
    "1. [预测器](https://github.com/googleapis/python-aiplatform/blob/main/google/cloud/aiplatform/prediction/predictor.py)\n",
    "    * 负责处理预测请求的机器学习逻辑。\n",
    "\n",
    "这三个部分可以根据自定义容器的需求进行定制。在这个示例中，我们将实现`Predictor`和`Handler`。\n",
    "\n",
    "一个[`Predictor`](https://github.com/googleapis/python-aiplatform/blob/main/google/cloud/aiplatform/prediction/predictor.py)必须实现以下接口：\n",
    "\n",
    "```\n",
    "from abc import ABC, abstractmethod\n",
    "from typing import Any\n",
    "\n",
    "\n",
    "class Predictor(ABC):\n",
    "    \"\"\"为自定义预测例程定义的 Predictor 类的接口。\n",
    "    Predictor 负责处理预测请求的机器学习逻辑。\n",
    "    具体地，Predictor 必须定义：\n",
    "    (1) 如何将所有用于预测的模型工件加载到内存中。\n",
    "    (2) 在预测时应执行的逻辑。\n",
    "    当使用默认的 PredictionHandler 时，Predictor 将如下被调用：\n",
    "      predictor.postprocess(predictor.predict(predictor.preprocess(prediction_input)))\n",
    "    \"\"\"\n",
    "\n",
    "    def __init__(self):\n",
    "        return\n",
    "\n",
    "    @abstractmethod\n",
    "    def load(self, artifacts_uri: str) -> None:\n",
    "        \"\"\"加载模型工件。\n",
    "        Args:\n",
    "            artifacts_uri (str):\n",
    "                必需。环境变量 AIP_STORAGE_URI 的值。\n",
    "        \"\"\"\n",
    "        pass\n",
    "\n",
    "    def preprocess(self, prediction_input: Any) -> Any:\n",
    "        \"\"\"在进行预测之前预处理预测输入。\n",
    "        Args:\n",
    "            prediction_input (Any):\n",
    "                必要。需预处理的预测输入。\n",
    "        Returns:\n",
    "            预处理后的预测输入。\n",
    "        \"\"\"\n",
    "        return prediction_input\n",
    "\n",
    "    @abstractmethod\n",
    "    def predict(self, instances: Any) -> Any:\n",
    "        \"\"\"进行预测。\n",
    "        Args:\n",
    "            instances (Any):\n",
    "                必要。用于进行预测的实例(们)。\n",
    "        Returns:\n",
    "            预测结果。\n",
    "        \"\"\"\n",
    "        pass\n",
    "\n",
    "    def postprocess(self, prediction_results: Any) -> Any:\n",
    "        \"\"\"后处理预测结果。\n",
    "        Args:\n",
    "            prediction_results (Any):\n",
    "                必需。预测结果。\n",
    "        Returns:\n",
    "            后处理后的预测结果。\n",
    "        \"\"\"\n",
    "        return prediction_results\n",
    "```"
   ]
  },
  {
   "cell_type": "markdown",
   "metadata": {
    "id": "-KODNAqK5k8R"
   },
   "source": [
    "首先，实现一个自定义的`Predictor`，它能够加载预处理器和模型。预处理器和模型将在`predict`时使用。\n",
    "\n",
    "自定义预测例程支持一种在本地运行容器以测试图像的方法。在本地测试图像时，可以传递一个GCS路径或本地路径。\n",
    "- 如果传递了一个GCS路径，则需要设置凭据。\n",
    "- 如果想通过传递本地路径来进行测试，需要在`Predictor`中支持远程和本地加载模型。\n",
    "\n",
    "Vertex SDK提供了一个名为`download_model_artifacts`的函数，可帮助您从GCS路径或本地路径下载模型工件。请参阅下面`load`函数中的示例。"
   ]
  },
  {
   "cell_type": "code",
   "execution_count": null,
   "metadata": {
    "id": "fkh8DT7CCgQO"
   },
   "outputs": [],
   "source": [
    "%%writefile $USER_SRC_DIR/predictor.py\n",
    "\n",
    "import joblib\n",
    "import numpy as np\n",
    "import pickle\n",
    "\n",
    "from google.cloud.aiplatform.prediction.predictor import Predictor\n",
    "from google.cloud.aiplatform.utils import prediction_utils\n",
    "\n",
    "from sklearn.datasets import load_iris\n",
    "\n",
    "\n",
    "class CprPredictor(Predictor):\n",
    "    \n",
    "    def __init__(self):\n",
    "        return\n",
    "    \n",
    "    def load(self, artifacts_uri: str):\n",
    "        \"\"\"Loads the preprocessor and model artifacts.\"\"\"\n",
    "        prediction_utils.download_model_artifacts(artifacts_uri)\n",
    "\n",
    "        with open(\"preprocessor.pkl\", \"rb\") as f:\n",
    "            preprocessor = pickle.load(f)\n",
    "\n",
    "        self._class_names = load_iris().target_names\n",
    "        self._model = joblib.load(\"model.joblib\")\n",
    "        self._preprocessor = preprocessor\n",
    "\n",
    "    def predict(self, instances):\n",
    "        \"\"\"Performs prediction.\"\"\"\n",
    "        inputs = np.asarray(instances)\n",
    "        preprocessed_inputs = self._preprocessor.preprocess(inputs)\n",
    "        outputs = self._model.predict(preprocessed_inputs)\n",
    "\n",
    "        return {\"predictions\": [self._class_names[class_num] for class_num in outputs]}"
   ]
  },
  {
   "cell_type": "markdown",
   "metadata": {
    "id": "87cb91da1186"
   },
   "source": [
    "然后实现自定义的`Handler`。\n",
    "\n",
    "[`Handler`](https://github.com/googleapis/python-aiplatform/blob/main/google/cloud/aiplatform/prediction/handler.py)必须实现以下接口。\n",
    "\n",
    "```python\n",
    "class Handler:\n",
    "    \"\"\"用于处理预测请求的 Handler 类的接口。\"\"\"\n",
    "\n",
    "    def __init__(\n",
    "        self, artifacts_uri: str, predictor: Optional[Type[Predictor]] = None,\n",
    "    ):\n",
    "        \"\"\"初始化 Handler 实例。\n",
    "        Args:\n",
    "            artifacts_uri (str):\n",
    "                必填。环境变量 AIP_STORAGE_URI 的值。\n",
    "            predictor (Type[Predictor]):\n",
    "                可选。如果给定的话，这个 Handler 使用的 Predictor 类来初始化预测器实例。\n",
    "        \"\"\"\n",
    "        pass\n",
    "\n",
    "    def handle(self, request: Request) -> Response:\n",
    "        \"\"\"处理预测请求。\n",
    "        Args:\n",
    "            request (Request):\n",
    "                发送到应用程序的请求。\n",
    "        Returns:\n",
    "            预测请求的响应。\n",
    "        \"\"\"\n",
    "        pass\n",
    "```"
   ]
  },
  {
   "cell_type": "markdown",
   "metadata": {
    "id": "2349739bcc9d"
   },
   "source": [
    "然后实现一个自定义的`Handler`。"
   ]
  },
  {
   "cell_type": "code",
   "execution_count": null,
   "metadata": {
    "id": "e3746ce05849"
   },
   "outputs": [],
   "source": [
    "%%writefile $USER_SRC_DIR/handler.py\n",
    "\n",
    "import csv\n",
    "from io import StringIO\n",
    "import json\n",
    "\n",
    "from fastapi import Response\n",
    "\n",
    "from google.cloud.aiplatform.prediction.handler import PredictionHandler\n",
    "\n",
    "class CprHandler(PredictionHandler):\n",
    "    \"\"\"Default prediction handler for the prediction requests sent to the application.\"\"\"\n",
    "\n",
    "    async def handle(self, request):\n",
    "        \"\"\"Handles a prediction request.\"\"\"\n",
    "        request_body = await request.body()\n",
    "        prediction_instances = self._convert_csv_to_list(request_body)\n",
    "\n",
    "        prediction_results = self._predictor.postprocess(\n",
    "            self._predictor.predict(self._predictor.preprocess(prediction_instances))\n",
    "        )\n",
    "\n",
    "        return Response(content=json.dumps(prediction_results))\n",
    "    \n",
    "    def _convert_csv_to_list(self, data):\n",
    "        \"\"\"Converts list of string in csv format to list of float.\n",
    "        \n",
    "        Example input:\n",
    "          b\"1.1,2.2,3.3,4.4\\n2.3,3.4,4.5,5.6\\n\"\n",
    "          \n",
    "        Example output:\n",
    "            [\n",
    "                [1.1, 2.2, 3.3, 4.4],\n",
    "                [2.3, 3.4, 4.5, 5.6],\n",
    "            ]\n",
    "        \"\"\"\n",
    "        res = []\n",
    "        for r in csv.reader(StringIO(data.decode(\"utf-8\")), quoting=csv.QUOTE_NONNUMERIC):\n",
    "            res.append(r)\n",
    "        return res"
   ]
  },
  {
   "cell_type": "markdown",
   "metadata": {
    "id": "waA_Jl5Q6E0W"
   },
   "source": [
    "构建自定义容器，我们还需要编写一个启动模型服务器的镜像入口点。然而，使用自定义预测例程功能，您不再需要编写入口点。Vertex SDK将使用您提供的自定义预测程序填充入口点。"
   ]
  },
  {
   "cell_type": "markdown",
   "metadata": {
    "id": "903a69690080"
   },
   "source": [
    "将依赖项写入源目录，这些依赖项将安装在镜像中。"
   ]
  },
  {
   "cell_type": "code",
   "execution_count": null,
   "metadata": {
    "id": "ea0c6a492dcd"
   },
   "outputs": [],
   "source": [
    "!cp requirements.txt $USER_SRC_DIR/requirements.txt"
   ]
  },
  {
   "cell_type": "markdown",
   "metadata": {
    "id": "51e149fdec1b"
   },
   "source": [
    "构建并将容器推送到Artifact Registry。"
   ]
  },
  {
   "cell_type": "markdown",
   "metadata": {
    "id": "3bdb9a7768a5"
   },
   "source": [
    "### 构建您的自定义容器\n",
    "\n",
    "要构建自定义图像，您需要一个Dockerfile，其中需要实现图像的外观。但是，使用自定义预测例程功能，Vertex SDK还会为您生成Dockerfile并构建图像。\n",
    "\n",
    "默认情况下使用`python:3.7`作为基础图像。"
   ]
  },
  {
   "cell_type": "code",
   "execution_count": null,
   "metadata": {
    "id": "3d3a6b9ed22b"
   },
   "outputs": [],
   "source": [
    "import os\n",
    "\n",
    "from google.cloud.aiplatform.prediction import LocalModel\n",
    "from src_dir_handler_sdk.handler import \\\n",
    "    CprHandler  # Update this path as the variable $USER_SRC_DIR to import the custom handler.\n",
    "from src_dir_handler_sdk.predictor import \\\n",
    "    CprPredictor  # Update this path as the variable $USER_SRC_DIR to import the custom predictor.\n",
    "\n",
    "local_model = LocalModel.build_cpr_model(\n",
    "    USER_SRC_DIR,\n",
    "    f\"{REGION}-docker.pkg.dev/{PROJECT_ID}/{REPOSITORY}/{IMAGE}\",\n",
    "    predictor=CprPredictor,  # Update this to the custom predictor class.\n",
    "    handler=CprHandler,  # Update this to the custom handler class.\n",
    "    requirements_path=os.path.join(USER_SRC_DIR, \"requirements.txt\"),\n",
    ")"
   ]
  },
  {
   "cell_type": "markdown",
   "metadata": {
    "id": "04c988201499"
   },
   "source": [
    "你可以查看构建图像的服务容器规格。"
   ]
  },
  {
   "cell_type": "code",
   "execution_count": null,
   "metadata": {
    "id": "f1e7d639b9cc"
   },
   "outputs": [],
   "source": [
    "local_model.get_serving_container_spec()"
   ]
  },
  {
   "cell_type": "markdown",
   "metadata": {
    "id": "8b62ddf1def3"
   },
   "source": [
    "### 存储测试实例\n",
    "\n",
    "要发送 CSV 格式的输入实例，需要使用原始预测来使用任意的 HTTP 载荷，而不是 JSON 格式。[阅读文档。](https://cloud.google.com/vertex-ai/docs/reference/rest/v1/projects.locations.endpoints/rawPredict)"
   ]
  },
  {
   "cell_type": "code",
   "execution_count": null,
   "metadata": {
    "id": "771223f5477f"
   },
   "outputs": [],
   "source": [
    "INPUT_FILE = \"instances.csv\""
   ]
  },
  {
   "cell_type": "code",
   "execution_count": null,
   "metadata": {
    "id": "b6605e9e6186"
   },
   "outputs": [],
   "source": [
    "%%writefile $INPUT_FILE\n",
    "6.7,3.1,4.7,1.5\n",
    "4.6,3.1,1.5,0.2"
   ]
  },
  {
   "cell_type": "markdown",
   "metadata": {
    "id": "147a555f6c93"
   },
   "source": [
    "### 本地运行和测试容器"
   ]
  },
  {
   "cell_type": "markdown",
   "metadata": {
    "id": "a34a9861788c"
   },
   "source": [
    "自定义预测例程提供两种下载模型工件以便在本地测试图像的方式。\n",
    "1. 本地路径。\n",
    "2. GCS路径。\n",
    "\n",
    "要使用本地路径，您的“预测器”需要支持两种加载模型的方式，以便可以在本地进行测试并部署到Vertex AI预测服务。SDK提供了一个名为`download_model_artifacts`的方法，以支持[prediction_utils.py](https://github.com/googleapis/python-aiplatform/blob/main/google/cloud/aiplatform/utils/prediction_utils.py)中的这两种方式，您可以在“预测器”的`load`函数中调用它。\n",
    "\n",
    "如果您想使用GCS路径在本地测试图像，您需要按照说明设置凭据。"
   ]
  },
  {
   "cell_type": "markdown",
   "metadata": {
    "id": "8phJWBhe7u9u"
   },
   "source": [
    "设置凭证\n",
    "\n",
    "设置凭证仅在本地运行自定义服务容器时需要使用GCS路径。设置凭证是为了执行`Predictor`的`load`函数，该函数会从Google Cloud Storage下载模型文物。\n",
    "\n",
    "要在您的项目中访问Google Cloud Storage，您需要通过以下方式之一设置凭证：\n",
    "\n",
    "1. 用户账户\n",
    "\n",
    "2. 服务账户\n",
    "\n",
    "您可以在[这里](https://cloud.google.com/docs/authentication#principals)了解更多关于以上各项的信息。"
   ]
  },
  {
   "cell_type": "markdown",
   "metadata": {
    "id": "1affd3921926"
   },
   "source": [
    "选项1. 使用Google用户凭据\n",
    "\n",
    "首先授权Google授权库访问具有Google用户凭据的云平台。此步骤涉及一个交互式提示，需要用户输入。如果您正在使用非交互式shell，您应该打开一个终端来运行此命令。请参阅[此处](https://jupyterlab.readthedocs.io/en/stable/user/terminal.html)了解如何在Vertex Workbench笔记本环境中打开终端。\n",
    "\n",
    "请注意，如果您在没有窗口管理器/浏览器的计算机上运行下面的命令，它将提示您运行命令`gcloud auth application-default login --remote-bootstrap=\"...\"`。只有可以启动Web浏览器的计算机，例如笔记本电脑或工作站，被允许运行此命令。完成使用浏览器的身份验证步骤后，您需要将验证代码复制并粘贴回原始终端以继续登录流程。如果您在具有Web浏览器支持的计算机上运行此命令，则无需使用另一台机器。\n",
    "\n",
    "此命令将打印凭据文件为`Credentials saved to file: [CREDENTIALS_FILE]`。"
   ]
  },
  {
   "cell_type": "code",
   "execution_count": null,
   "metadata": {
    "id": "2d3c0b74a00e"
   },
   "outputs": [],
   "source": [
    "!gcloud auth application-default login"
   ]
  },
  {
   "cell_type": "markdown",
   "metadata": {
    "id": "6b03915b44ee"
   },
   "source": [
    "指定凭据文件，该文件为json文件，作为路径。"
   ]
  },
  {
   "cell_type": "code",
   "execution_count": null,
   "metadata": {
    "id": "d073d19c6260"
   },
   "outputs": [],
   "source": [
    "CREDENTIALS_FILE = \"[CREDENTIALS_FILE]\"  # @param {type:\"string\"}"
   ]
  },
  {
   "cell_type": "markdown",
   "metadata": {
    "id": "4c53ff342e5c"
   },
   "source": [
    "接下来，授权gcloud使用Google用户凭据访问Cloud平台。用户凭据需要在项目中具有`setIamPolicy`权限。更多详细信息请参见[这里](https://cloud.google.com/resource-manager/docs/access-control-proj)。\n",
    "\n",
    "与上一步类似，这也需要用户输入。请按照前一步的说明继续操作。"
   ]
  },
  {
   "cell_type": "code",
   "execution_count": null,
   "metadata": {
    "id": "40f56d0ca5f4"
   },
   "outputs": [],
   "source": [
    "!gcloud auth login"
   ]
  },
  {
   "cell_type": "markdown",
   "metadata": {
    "id": "9dd0635e48ac"
   },
   "source": [
    "为用户帐户授予角色。使用您在 gcloud 认证步骤中使用的电子邮件地址，例如 `myemail@gmail.com`。由于我们将使用此用户帐户从 Google Cloud 存储下载模型工件，因此我们授予用户帐户** Storage Object Viewer** 角色。有关更多详细信息，请参阅[Cloud Storage 的 IAM 角色](https://cloud.google.com/storage/docs/access-control/iam-roles)。"
   ]
  },
  {
   "cell_type": "code",
   "execution_count": null,
   "metadata": {
    "id": "15b9209be13a"
   },
   "outputs": [],
   "source": [
    "USER_ACCOUNT = \"[USER_ACCOUNT]\"  # @param {type:\"string\"}\n",
    "\n",
    "!gcloud projects add-iam-policy-binding $PROJECT_ID \\\n",
    "    --member=user:$USER_ACCOUNT --role=roles/storage.objectViewer"
   ]
  },
  {
   "cell_type": "markdown",
   "metadata": {
    "id": "ca96676c6f9e"
   },
   "source": [
    "使用项目ID初始化Vertex AI SDK，项目ID是使用用户凭据所必需的。"
   ]
  },
  {
   "cell_type": "code",
   "execution_count": null,
   "metadata": {
    "id": "ac9df7597c29"
   },
   "outputs": [],
   "source": [
    "from google.cloud import aiplatform\n",
    "\n",
    "aiplatform.init(project=PROJECT_ID, location=REGION)"
   ]
  },
  {
   "cell_type": "markdown",
   "metadata": {
    "id": "7a336877427f"
   },
   "source": [
    "选项2. 使用谷歌服务账号凭据\n",
    "\n",
    "如果您已经完成了上面的选项1，请跳过此步骤。如果尚未启用IAM API，请先启用它。"
   ]
  },
  {
   "cell_type": "code",
   "execution_count": null,
   "metadata": {
    "id": "mERTlLb6dluB"
   },
   "outputs": [],
   "source": [
    "!gcloud services enable iam.googleapis.com"
   ]
  },
  {
   "cell_type": "markdown",
   "metadata": {
    "id": "3e384273b886"
   },
   "source": [
    "指定在您的项目中要唯一的服务账户名称。"
   ]
  },
  {
   "cell_type": "code",
   "execution_count": null,
   "metadata": {
    "id": "ae48bc527f8a"
   },
   "outputs": [],
   "source": [
    "SERVICE_ACCOUNT = \"[SERVICE_ACCOUNT]\"  # @param {type:\"string\"}"
   ]
  },
  {
   "cell_type": "markdown",
   "metadata": {
    "id": "ecb32638d8a6"
   },
   "source": [
    "创建服务账号。"
   ]
  },
  {
   "cell_type": "code",
   "execution_count": null,
   "metadata": {
    "id": "a3a961edfa4b"
   },
   "outputs": [],
   "source": [
    "!gcloud iam service-accounts create $SERVICE_ACCOUNT"
   ]
  },
  {
   "cell_type": "markdown",
   "metadata": {
    "id": "8a1c50abe088"
   },
   "source": [
    "授权gcloud使用Google用户凭据访问云平台。用户凭据需要在项目中具有`setIamPolicy`权限。有关更多详细信息，请参阅[这里](https://cloud.google.com/resource-manager/docs/access-control-proj)。\n",
    "\n",
    "这一步涉及一个交互式提示，需要用户输入。如果您使用的是非交互式shell，您应该打开一个终端来运行此命令。请参见[这里](https://jupyterlab.readthedocs.io/en/stable/user/terminal.html) 如何在Vertex Workbench笔记本环境中打开终端。\n",
    "\n",
    "请注意，如果您在没有窗口管理器/浏览器的机器上运行下面的命令，它将提示您运行命令 `gcloud auth application-default login --remote-bootstrap=\"...\"`。只有能够启动Web浏览器的机器，例如笔记本电脑或工作站，可以运行此命令。完成浏览器上的身份验证步骤后，您需要将验证代码复制并粘贴回原始终端以继续登录流程。如果您在支持Web浏览器的机器上运行此命令，则无需使用一个单独的机器。"
   ]
  },
  {
   "cell_type": "code",
   "execution_count": null,
   "metadata": {
    "id": "e69041bc017d"
   },
   "outputs": [],
   "source": [
    "!gcloud auth login"
   ]
  },
  {
   "cell_type": "markdown",
   "metadata": {
    "id": "cb2525fa95a9"
   },
   "source": [
    "为服务账号授权角色。由于我们将使用此服务账号从Google Cloud Storage下载模型工件，我们授予服务账号“Storage Object Viewer”角色。详细信息请参阅[Cloud Storage的IAM角色](https://cloud.google.com/storage/docs/access-control/iam-roles)。"
   ]
  },
  {
   "cell_type": "code",
   "execution_count": null,
   "metadata": {
    "id": "8f54a0b39e85"
   },
   "outputs": [],
   "source": [
    "!gcloud projects add-iam-policy-binding $PROJECT_ID \\\n",
    "    --member=serviceAccount:{SERVICE_ACCOUNT}@{PROJECT_ID}.iam.gserviceaccount.com \\\n",
    "    --role=roles/storage.objectViewer"
   ]
  },
  {
   "cell_type": "markdown",
   "metadata": {
    "id": "7639e38acb55"
   },
   "source": [
    "指定服务帐号密钥文件名。"
   ]
  },
  {
   "cell_type": "code",
   "execution_count": null,
   "metadata": {
    "id": "5994aafc952d"
   },
   "outputs": [],
   "source": [
    "CREDENTIALS_FILE = \"./credentials.json\""
   ]
  },
  {
   "cell_type": "markdown",
   "metadata": {
    "id": "b18e84ed7478"
   },
   "source": [
    "生成服务账号密钥文件。在本地运行自定义服务容器时会用到。"
   ]
  },
  {
   "cell_type": "code",
   "execution_count": null,
   "metadata": {
    "id": "3b1a9b9be500"
   },
   "outputs": [],
   "source": [
    "!gcloud iam service-accounts keys create $CREDENTIALS_FILE \\\n",
    "    --iam-account=\"{SERVICE_ACCOUNT}@{PROJECT_ID}.iam.gserviceaccount.com\""
   ]
  },
  {
   "cell_type": "markdown",
   "metadata": {
    "id": "pJe8TCr4ec4F"
   },
   "source": [
    "#### 在本地运行并发送请求到容器\n",
    "\n",
    "通过自定义预测例程功能，可以很容易地在本地测试容器。\n",
    "\n",
    "在这个例子中，容器执行一个预测请求和一个健康检查。"
   ]
  },
  {
   "cell_type": "markdown",
   "metadata": {
    "id": "452c454057a6"
   },
   "source": [
    "选项1. 通过本地路径传递\n",
    "\n",
    "这个选项要求`Predictor`中的`load`函数支持从GCS路径和本地路径加载模型文件。"
   ]
  },
  {
   "cell_type": "code",
   "execution_count": null,
   "metadata": {
    "id": "62ed2d334d0f"
   },
   "outputs": [],
   "source": [
    "with local_model.deploy_to_local_endpoint(\n",
    "    artifact_uri=f\"{LOCAL_MODEL_ARTIFACTS_DIR}\",\n",
    ") as local_endpoint:\n",
    "    predict_response = local_endpoint.predict(\n",
    "        request_file=INPUT_FILE,\n",
    "        headers={\"Content-Type\": \"application/json\"},\n",
    "    )\n",
    "\n",
    "    health_check_response = local_endpoint.run_health_check()"
   ]
  },
  {
   "cell_type": "markdown",
   "metadata": {
    "id": "0051d0fe66a0"
   },
   "source": [
    "打印出预测的响应及其内容。"
   ]
  },
  {
   "cell_type": "code",
   "execution_count": null,
   "metadata": {
    "id": "ce629eea32fd"
   },
   "outputs": [],
   "source": [
    "predict_response, predict_response.content"
   ]
  },
  {
   "cell_type": "markdown",
   "metadata": {
    "id": "8e952ab08202"
   },
   "source": [
    "打印出健康检查的响应和内容。"
   ]
  },
  {
   "cell_type": "code",
   "execution_count": null,
   "metadata": {
    "id": "56986f93438e"
   },
   "outputs": [],
   "source": [
    "health_check_response, health_check_response.content"
   ]
  },
  {
   "cell_type": "markdown",
   "metadata": {
    "id": "a29fcbbe0188"
   },
   "source": [
    "也请打印出所有的容器日志。"
   ]
  },
  {
   "cell_type": "code",
   "execution_count": null,
   "metadata": {
    "id": "4c24763c02e2"
   },
   "outputs": [],
   "source": [
    "local_endpoint.print_container_logs(show_all=True)"
   ]
  },
  {
   "cell_type": "markdown",
   "metadata": {
    "id": "d17622de00a7"
   },
   "source": [
    "选项2. 传递GCS路径\n",
    "\n",
    "如果您想传递GCS路径，则需要在先前步骤中设置凭据，并在运行容器时传递凭据的路径。服务账号应该具有**存储对象查看器**权限。"
   ]
  },
  {
   "cell_type": "code",
   "execution_count": null,
   "metadata": {
    "id": "62ed2d334d0f"
   },
   "outputs": [],
   "source": [
    "with local_model.deploy_to_local_endpoint(\n",
    "    artifact_uri=f\"{BUCKET_URI}/{MODEL_ARTIFACT_DIR}\",\n",
    "    credential_path=CREDENTIALS_FILE,\n",
    ") as local_endpoint:\n",
    "    predict_response = local_endpoint.predict(\n",
    "        request_file=INPUT_FILE,\n",
    "        headers={\"Content-Type\": \"application/json\"},\n",
    "    )\n",
    "\n",
    "    health_check_response = local_endpoint.run_health_check()"
   ]
  },
  {
   "cell_type": "markdown",
   "metadata": {
    "id": "236e1704871d"
   },
   "source": [
    "打印出预测的响应及其内容。"
   ]
  },
  {
   "cell_type": "code",
   "execution_count": null,
   "metadata": {
    "id": "ce629eea32fd"
   },
   "outputs": [],
   "source": [
    "predict_response, predict_response.content"
   ]
  },
  {
   "cell_type": "markdown",
   "metadata": {
    "id": "1bf6c7d044bc"
   },
   "source": [
    "打印出健康检查的响应和其内容。"
   ]
  },
  {
   "cell_type": "code",
   "execution_count": null,
   "metadata": {
    "id": "56986f93438e"
   },
   "outputs": [],
   "source": [
    "health_check_response, health_check_response.content"
   ]
  },
  {
   "cell_type": "markdown",
   "metadata": {
    "id": "a29fcbbe0188"
   },
   "source": [
    "也打印出所有容器日志。"
   ]
  },
  {
   "cell_type": "code",
   "execution_count": null,
   "metadata": {
    "id": "1cd47d55bbd0"
   },
   "outputs": [],
   "source": [
    "local_endpoint.print_container_logs(show_all=True)"
   ]
  },
  {
   "cell_type": "markdown",
   "metadata": {
    "id": "212b2935ea12"
   },
   "source": [
    "### 将容器推送到构件存储库\n",
    "\n",
    "配置Docker以访问构件存储库。然后将您的容器镜像推送到您的构件存储库仓库中。"
   ]
  },
  {
   "cell_type": "code",
   "execution_count": null,
   "metadata": {
    "id": "wSFXCj3LdluJ"
   },
   "outputs": [],
   "source": [
    "!gcloud services list"
   ]
  },
  {
   "cell_type": "markdown",
   "metadata": {
    "id": "ABE9UpwSdluK"
   },
   "source": [
    "如果在您的项目中未启用`artifactregistry.googleapis.com`，请在继续之前启用该API。"
   ]
  },
  {
   "cell_type": "code",
   "execution_count": null,
   "metadata": {
    "id": "qDhLoQMydluK"
   },
   "outputs": [],
   "source": [
    "!gcloud services enable artifactregistry.googleapis.com"
   ]
  },
  {
   "cell_type": "code",
   "execution_count": null,
   "metadata": {
    "id": "09ffe2434e3d"
   },
   "outputs": [],
   "source": [
    "!gcloud artifacts repositories create {REPOSITORY} \\\n",
    "    --repository-format=docker \\\n",
    "    --location=$REGION"
   ]
  },
  {
   "cell_type": "code",
   "execution_count": null,
   "metadata": {
    "id": "293437024749"
   },
   "outputs": [],
   "source": [
    "!gcloud auth configure-docker {REGION}-docker.pkg.dev --quiet"
   ]
  },
  {
   "cell_type": "markdown",
   "metadata": {
    "id": "33abf1328c52"
   },
   "source": [
    "使用SDK推送图像。"
   ]
  },
  {
   "cell_type": "code",
   "execution_count": null,
   "metadata": {
    "id": "1dd7448f4703"
   },
   "outputs": [],
   "source": [
    "local_model.push_image()"
   ]
  },
  {
   "cell_type": "markdown",
   "metadata": {
    "id": "b438bfa2129f"
   },
   "source": [
    "部署到 Vertex AI"
   ]
  },
  {
   "cell_type": "markdown",
   "metadata": {
    "id": "4ae19df6a33e"
   },
   "source": [
    "### 上传自定义容器模型"
   ]
  },
  {
   "cell_type": "code",
   "execution_count": null,
   "metadata": {
    "id": "8d682d8388ec"
   },
   "outputs": [],
   "source": [
    "from google.cloud import aiplatform"
   ]
  },
  {
   "cell_type": "code",
   "execution_count": null,
   "metadata": {
    "id": "574fb82d3eed"
   },
   "outputs": [],
   "source": [
    "aiplatform.init(project=PROJECT_ID, location=REGION)"
   ]
  },
  {
   "cell_type": "markdown",
   "metadata": {
    "id": "4d7aab416c43"
   },
   "source": [
    "使用LocalModel实例来上传模型。它会自动为您填充容器规范。"
   ]
  },
  {
   "cell_type": "code",
   "execution_count": null,
   "metadata": {
    "id": "2738154345d5"
   },
   "outputs": [],
   "source": [
    "model = aiplatform.Model.upload(\n",
    "    local_model=local_model,\n",
    "    display_name=MODEL_DISPLAY_NAME,\n",
    "    artifact_uri=f\"{BUCKET_URI}/{MODEL_ARTIFACT_DIR}\",\n",
    ")"
   ]
  },
  {
   "cell_type": "markdown",
   "metadata": {
    "id": "bd1b85afc7df"
   },
   "source": [
    "### 在Vertex AI上部署模型\n",
    "完成这一步后，模型将被部署并准备好进行在线预测。"
   ]
  },
  {
   "cell_type": "code",
   "execution_count": null,
   "metadata": {
    "id": "62cf66498a28"
   },
   "outputs": [],
   "source": [
    "endpoint = model.deploy(machine_type=\"n1-standard-4\")"
   ]
  },
  {
   "cell_type": "markdown",
   "metadata": {
    "id": "6883e7b07143"
   },
   "source": [
    "发送预测\n",
    "\n",
    "需要使用[原始预测](https://cloud.google.com/sdk/gcloud/reference/ai/endpoints/raw-predict)，因为请求是以CSV格式而不是JSON格式。\n",
    "\n",
    "### 使用Python SDK"
   ]
  },
  {
   "cell_type": "code",
   "execution_count": null,
   "metadata": {
    "id": "619365b349d8"
   },
   "outputs": [],
   "source": [
    "ENDPOINT_RESOURCE_NAME = endpoint.resource_name"
   ]
  },
  {
   "cell_type": "code",
   "execution_count": null,
   "metadata": {
    "id": "07037e6587e0"
   },
   "outputs": [],
   "source": [
    "from google.api import httpbody_pb2\n",
    "from google.cloud import aiplatform_v1\n",
    "\n",
    "prediction_client = aiplatform_v1.PredictionServiceClient(\n",
    "    client_options={\"api_endpoint\": f\"{REGION}-aiplatform.googleapis.com\"}\n",
    ")\n",
    "\n",
    "with open(INPUT_FILE) as f:\n",
    "    http_body = httpbody_pb2.HttpBody(\n",
    "        data=f.read().encode(\"utf-8\"),\n",
    "        content_type=\"text/csv\",\n",
    "    )\n",
    "\n",
    "request = aiplatform_v1.RawPredictRequest(\n",
    "    endpoint=ENDPOINT_RESOURCE_NAME,\n",
    "    http_body=http_body,\n",
    ")\n",
    "\n",
    "prediction_client.raw_predict(request=request)"
   ]
  },
  {
   "cell_type": "markdown",
   "metadata": {
    "id": "1ffae910e6d1"
   },
   "source": [
    "使用REST"
   ]
  },
  {
   "cell_type": "code",
   "execution_count": null,
   "metadata": {
    "id": "f9843a0668f9"
   },
   "outputs": [],
   "source": [
    "ENDPOINT_ID = endpoint.name"
   ]
  },
  {
   "cell_type": "code",
   "execution_count": null,
   "metadata": {
    "id": "dfe95a39378a"
   },
   "outputs": [],
   "source": [
    "! curl \\\n",
    "-H \"Authorization: Bearer $(gcloud auth print-access-token)\" \\\n",
    "-H \"Content-Type: text/csv\" \\\n",
    "--data-binary @instances.csv \\\n",
    "https://{REGION}-aiplatform.googleapis.com/v1/projects/{PROJECT_ID}/locations/{REGION}/endpoints/{ENDPOINT_ID}:rawPredict"
   ]
  },
  {
   "cell_type": "markdown",
   "metadata": {
    "id": "fa71174a7dd0"
   },
   "source": [
    "### 使用gcloud CLI"
   ]
  },
  {
   "cell_type": "code",
   "execution_count": null,
   "metadata": {
    "id": "23b8e807b02c"
   },
   "outputs": [],
   "source": [
    "!gcloud ai endpoints raw-predict $ENDPOINT_ID \\\n",
    "  --region=$REGION \\\n",
    "  --http-headers=Content-Type=text/csv \\\n",
    "  --request=@$INPUT_FILE"
   ]
  },
  {
   "cell_type": "markdown",
   "metadata": {
    "id": "TpV-iwP9qw9c"
   },
   "source": [
    "清理工作\n",
    "\n",
    "要清理此项目中使用的所有Google Cloud资源，您可以[删除用于本教程的Google Cloud项目](https://cloud.google.com/resource-manager/docs/creating-managing-projects#shutting_down_projects)。\n",
    "\n",
    "否则，您可以删除本教程中创建的各个资源。"
   ]
  },
  {
   "cell_type": "code",
   "execution_count": null,
   "metadata": {
    "id": "sx_vKniMq9ZX"
   },
   "outputs": [],
   "source": [
    "# Undeploy model and delete endpoint\n",
    "endpoint.delete(force=True)\n",
    "\n",
    "# Delete the model resource\n",
    "model.delete()\n",
    "\n",
    "# Delete the container image from Artifact Registry\n",
    "!gcloud artifacts docker images delete \\\n",
    "    --quiet \\\n",
    "    --delete-tags \\\n",
    "    {REGION}-docker.pkg.dev/{PROJECT_ID}/{REPOSITORY}/{IMAGE}\n",
    "\n",
    "delete_bucket = False\n",
    "\n",
    "if delete_bucket or os.getenv(\"IS_TESTING\"):\n",
    "    ! gsutil rm -r $BUCKET_URI"
   ]
  }
 ],
 "metadata": {
  "colab": {
   "collapsed_sections": [],
   "name": "SDK_Custom_Predict_and_Handler_SDK_Integration.ipynb",
   "toc_visible": true
  },
  "kernelspec": {
   "display_name": "Python 3",
   "name": "python3"
  }
 },
 "nbformat": 4,
 "nbformat_minor": 0
}
