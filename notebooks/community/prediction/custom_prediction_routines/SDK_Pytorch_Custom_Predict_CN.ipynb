{
 "cells": [
  {
   "cell_type": "code",
   "execution_count": null,
   "metadata": {
    "id": "ur8xi4C7S06n"
   },
   "outputs": [],
   "source": [
    "# Copyright 2022 Google LLC\n",
    "#\n",
    "# Licensed under the Apache License, Version 2.0 (the \"License\");\n",
    "# you may not use this file except in compliance with the License.\n",
    "# You may obtain a copy of the License at\n",
    "#\n",
    "#     https://www.apache.org/licenses/LICENSE-2.0\n",
    "#\n",
    "# Unless required by applicable law or agreed to in writing, software\n",
    "# distributed under the License is distributed on an \"AS IS\" BASIS,\n",
    "# WITHOUT WARRANTIES OR CONDITIONS OF ANY KIND, either express or implied.\n",
    "# See the License for the specific language governing permissions and\n",
    "# limitations under the License."
   ]
  },
  {
   "cell_type": "markdown",
   "metadata": {
    "id": "JAPoU8Sm5E6e"
   },
   "source": [
    "<table align=\"left\">\n",
    "  <td>\n",
    "    <a href=\"https://github.com/GoogleCloudPlatform/vertex-ai-samples/blob/main/notebooks/community/prediction/custom_prediction_routines/SDK_Pytorch_Custom_Predict.ipynb\">\n",
    "      <img src=\"https://cloud.google.com/ml-engine/images/github-logo-32px.png\" alt=\"GitHub logo\">\n",
    "      在GitHub上查看\n",
    "    </a>\n",
    "  </td>\n",
    "  <td>\n",
    "    <a href=\"https://console.cloud.google.com/vertex-ai/workbench/deploy-notebook?download_url=https://raw.githubusercontent.com/GoogleCloudPlatform/vertex-ai-samples/main/notebooks/community/prediction/custom_prediction_routines/SDK_Pytorch_Custom_Predict.ipynb\">\n",
    "      <img src=\"https://lh3.googleusercontent.com/UiNooY4LUgW_oTvpsNhPpQzsstV5W8F7rYgxgGBD85cWJoLmrOzhVs_ksK_vgx40SHs7jCqkTkCk=e14-rj-sc0xffffff-h130-w32\" alt=\"Vertex AI logo\">\n",
    "      在Vertex AI工作台中打开\n",
    "    </a>\n",
    "  </td>\n",
    "</table>"
   ]
  },
  {
   "cell_type": "markdown",
   "metadata": {
    "id": "tvgnzT1CKxrO"
   },
   "source": [
    "## 概述\n",
    "\n",
    "本教程演示如何使用Vertex AI SDK构建一个自定义容器，该容器使用自定义预测例程模型服务器来提供在Vertex AI预测上服务的PyTorch模型。\n",
    "\n",
    "\n",
    "\n",
    "### 数据集\n",
    "\n",
    "本教程使用R.A. Fisher的鸢尾花数据集，这是一个小数据集，非常适合尝试机器学习技术。每个实例具有四个数值特征，这些特征是一朵花的不同测量值，以及一个目标标签，将其标记为三种类型之一的鸢尾花：山鸢尾，变色鸢尾或维吉尼亚鸢尾。\n",
    "\n",
    "本教程使用[鸢尾花数据集](https://archive.ics.uci.edu/ml/datasets/iris)。\n",
    "\n",
    "### 目标\n",
    "\n",
    "目标是：\n",
    "- 训练一个模型，使用一朵花的测量值作为输入来预测它是哪种类型的鸢尾花。\n",
    "- 保存模型。\n",
    "- 使用Vertex AI SDK中的自定义预测例程功能构建自定义PyTorch服务容器进行自定义预处理。\n",
    "- 在本地测试构建的容器。\n",
    "- 上传并部署自定义容器到Vertex Prediction。\n",
    "\n",
    "本教程着重于使用Vertex AI部署此模型，而不是模型本身的设计。\n",
    "\n",
    "### 成本\n",
    "\n",
    "本教程使用Google Cloud的收费组件：\n",
    "\n",
    "* Vertex AI\n",
    "\n",
    "了解更多关于[Vertex AI价格](https://cloud.google.com/vertex-ai/pricing)，并使用[Pricing\n",
    "Calculator ](https://cloud.google.com/products/calculator/)根据您的预期使用情况生成成本估算。"
   ]
  },
  {
   "cell_type": "markdown",
   "metadata": {
    "id": "ze4-nDLfK4pw"
   },
   "source": [
    "设置本地开发环境\n",
    "\n",
    "**如果您正在使用Vertex AI Workbench笔记本**，您的环境已经满足运行此笔记本的所有要求。您可以跳过此步骤。"
   ]
  },
  {
   "cell_type": "markdown",
   "metadata": {
    "id": "gCuSR8GkAgzl"
   },
   "source": [
    "否则，请确保您的环境符合此笔记本的要求。您需要以下内容：\n",
    "\n",
    "* Docker\n",
    "* Git\n",
    "* Google Cloud SDK（gcloud）\n",
    "* Python 3\n",
    "* virtualenv\n",
    "* 在使用 Python 3 的虚拟环境中运行的 Jupyter 笔记本\n",
    "\n",
    "Google Cloud 的 [设置 Python 开发环境](https://cloud.google.com/python/setup) 指南和 [Jupyter 安装指南](https://jupyter.org/install) 提供了满足这些要求的详细说明。以下步骤提供了简化的说明：\n",
    "\n",
    "1. [安装和初始化 Cloud SDK。](https://cloud.google.com/sdk/docs/)\n",
    "\n",
    "2. [安装 Python 3。](https://cloud.google.com/python/setup#installing_python)\n",
    "\n",
    "3. [安装 virtualenv](https://cloud.google.com/python/setup#installing_and_using_virtualenv) 并创建一个使用 Python 3 的虚拟环境。激活虚拟环境。\n",
    "\n",
    "4. 要安装 Jupyter，在终端 shell 中的命令行中运行 `pip install jupyter`。\n",
    "\n",
    "5. 要启动 Jupyter，在终端 shell 中的命令行中运行 `jupyter notebook`。\n",
    "\n",
    "6. 在 Jupyter Notebook 仪表板中打开此笔记本。"
   ]
  },
  {
   "cell_type": "markdown",
   "metadata": {
    "id": "i7EUnXsZhAGF"
   },
   "source": [
    "安装额外的软件包\n",
    "\n",
    "安装笔记本环境中尚未安装的额外软件包依赖项，例如NumPy、Scikit-learn、FastAPI、Uvicorn和joblib。"
   ]
  },
  {
   "cell_type": "code",
   "execution_count": null,
   "metadata": {
    "id": "747f59abb3a5"
   },
   "outputs": [],
   "source": [
    "%%writefile requirements.txt\n",
    "fastapi\n",
    "uvicorn==0.17.6\n",
    "pandas\n",
    "torch==1.11.0\n",
    "google-cloud-storage>=1.26.0,<2.0.0dev\n",
    "google-cloud-aiplatform[prediction]>=1.16.0"
   ]
  },
  {
   "cell_type": "markdown",
   "metadata": {
    "id": "356f45ac7942"
   },
   "source": [
    "您部署的模型将预先安装了一个与您的笔记本环境不同的依赖项集合。您不应该假设因为在笔记本中工作正常，所以在模型中也会正常工作。相反，我们将通过在requirements.txt中列出它们并使用`pip install`来在笔记本中安装完全相同的依赖项来非常明确地说明模型的依赖关系。请注意，当然，有可能我们在requirements.txt中错过了笔记本中已经存在的依赖项。如果是这种情况，事情将在笔记本中运行，但不会在模型中运行。为了防范这种情况，我们将在部署到云端之前在本地测试模型。"
   ]
  },
  {
   "cell_type": "code",
   "execution_count": null,
   "metadata": {
    "id": "wyy5Lbnzg5fi"
   },
   "outputs": [],
   "source": [
    "# Install the same dependencies used in the serving container in the notebook\n",
    "# environment.\n",
    "%pip install -U --user -r requirements.txt"
   ]
  },
  {
   "cell_type": "markdown",
   "metadata": {
    "id": "hhq5zEbGg0XX"
   },
   "source": [
    "### 重启内核\n",
    "\n",
    "在安装了额外的软件包之后，您需要重新启动笔记本内核，这样它才能找到这些软件包。"
   ]
  },
  {
   "cell_type": "code",
   "execution_count": null,
   "metadata": {
    "id": "EzrelQZ22IZj"
   },
   "outputs": [],
   "source": [
    "# Automatically restart kernel after installs\n",
    "import os\n",
    "\n",
    "if not os.getenv(\"IS_TESTING\"):\n",
    "    # Automatically restart kernel after installs\n",
    "    import IPython\n",
    "\n",
    "    app = IPython.Application.instance()\n",
    "    app.kernel.do_shutdown(True)"
   ]
  },
  {
   "cell_type": "markdown",
   "metadata": {
    "id": "lWEdiXsJg0XY"
   },
   "source": [
    "在你开始之前"
   ]
  },
  {
   "cell_type": "markdown",
   "metadata": {
    "id": "64a0a87c5b66"
   },
   "source": [
    "在这个示例中设置日志记录"
   ]
  },
  {
   "cell_type": "code",
   "execution_count": null,
   "metadata": {
    "id": "348ca5392459"
   },
   "outputs": [],
   "source": [
    "import logging\n",
    "\n",
    "logging.basicConfig(level=logging.INFO)"
   ]
  },
  {
   "cell_type": "markdown",
   "metadata": {
    "id": "BF1j6f9HApxa"
   },
   "source": [
    "### 设置您的 Google Cloud 项目\n",
    "\n",
    "**无论您的笔记本环境如何，以下步骤都是必需的。**\n",
    "\n",
    "1. [选择或创建一个 Google Cloud 项目](https://console.cloud.google.com/cloud-resource-manager)。当您首次创建账户时，您将获得一个 $300 的免费信用额用于计算/存储成本。\n",
    "\n",
    "1. [确保您的项目已启用计费](https://cloud.google.com/billing/docs/how-to/modify-project)。\n",
    "\n",
    "1. [启用 Vertex AI API 和 Compute Engine API](https://console.cloud.google.com/flows/enableapi?apiid=aiplatform.googleapis.com,compute_component)。\n",
    "\n",
    "1. 如果您在本地运行这个笔记本，您需要安装[Cloud SDK](https://cloud.google.com/sdk)。\n",
    "\n",
    "1. 在下面的单元格中输入您的项目 ID。然后运行该单元格，以确保 Cloud SDK 对本笔记本中的所有命令使用正确的项目。\n",
    "\n",
    "**注意**: Jupyter 运行以 `!` 或 `%` 开头的行作为 shell 命令，并可以将 Python 变量插入这些命令中以 `$` 或 `{}`。"
   ]
  },
  {
   "cell_type": "markdown",
   "metadata": {
    "id": "WReHDGG5g0XY"
   },
   "source": [
    "设置您的项目ID\n",
    "\n",
    "**如果您不知道您的项目ID**，您可以使用`gcloud`来获取您的项目ID。"
   ]
  },
  {
   "cell_type": "code",
   "execution_count": null,
   "metadata": {
    "id": "oM1iC_MfAts1"
   },
   "outputs": [],
   "source": [
    "import os\n",
    "\n",
    "PROJECT_ID = \"\"\n",
    "\n",
    "# Get your Google Cloud project ID from gcloud\n",
    "if not os.getenv(\"IS_TESTING\"):\n",
    "    shell_output = !gcloud config list --format 'value(core.project)' 2>/dev/null\n",
    "    PROJECT_ID = shell_output[0]\n",
    "    print(\"Project ID: \", PROJECT_ID)"
   ]
  },
  {
   "cell_type": "markdown",
   "metadata": {
    "id": "qJYoRfYng0XZ"
   },
   "source": [
    "否则，在这里设置您的项目ID。"
   ]
  },
  {
   "cell_type": "code",
   "execution_count": null,
   "metadata": {
    "id": "riG_qUokg0XZ"
   },
   "outputs": [],
   "source": [
    "if PROJECT_ID == \"\" or PROJECT_ID is None:\n",
    "    PROJECT_ID = \"[your-project-id]\"  # @param {type:\"string\"}"
   ]
  },
  {
   "cell_type": "code",
   "execution_count": null,
   "metadata": {
    "id": "set_gcloud_project_id"
   },
   "outputs": [],
   "source": [
    "! gcloud config set project $PROJECT_ID"
   ]
  },
  {
   "cell_type": "markdown",
   "metadata": {
    "id": "region"
   },
   "source": [
    "#### 区域\n",
    "\n",
    "您还可以更改“REGION”变量，该变量用于笔记本的其余部分操作。下面是Vertex AI支持的区域。我们建议您选择距离您最近的区域。\n",
    "\n",
    "- 美洲：`us-central1`\n",
    "- 欧洲：`europe-west4`\n",
    "- 亚太地区：`asia-east1`\n",
    "\n",
    "您不能在 Vertex AI 中使用多区域存储桶进行训练。并非所有区域都为所有 Vertex AI 服务提供支持。\n",
    "\n",
    "了解更多关于[Vertex AI 区域](https://cloud.google.com/vertex-ai/docs/general/locations)。"
   ]
  },
  {
   "cell_type": "code",
   "execution_count": null,
   "metadata": {
    "id": "region"
   },
   "outputs": [],
   "source": [
    "REGION = \"[your-region]\"  # @param {type: \"string\"}\n",
    "\n",
    "if REGION == \"[your-region]\":\n",
    "    REGION = \"us-central1\""
   ]
  },
  {
   "cell_type": "markdown",
   "metadata": {
    "id": "XoEqT2Y4DJmf"
   },
   "source": [
    "### 配置项目和资源名称"
   ]
  },
  {
   "cell_type": "markdown",
   "metadata": {
    "id": "UYxy9q6vVNIw"
   },
   "source": [
    "如果你在一个直播教程会话中，你可能会使用一个共享的测试账号或项目。为了避免用户在创建的资源之间发生名称冲突，你可以为每个实例会话创建一个时间戳，并将其附加到你在此教程中创建的资源的名称中。"
   ]
  },
  {
   "cell_type": "code",
   "execution_count": null,
   "metadata": {
    "id": "AZ6rEERzVPdb"
   },
   "outputs": [],
   "source": [
    "from datetime import datetime\n",
    "\n",
    "TIMESTAMP = datetime.now().strftime(\"%Y%m%d%H%M%S\")"
   ]
  },
  {
   "cell_type": "markdown",
   "metadata": {
    "id": "vE0Zo2mxVVMT"
   },
   "source": [
    "配置GCP资源名称。"
   ]
  },
  {
   "cell_type": "code",
   "execution_count": null,
   "metadata": {
    "id": "MzGDU7TWdts_"
   },
   "outputs": [],
   "source": [
    "MODEL_ARTIFACT_DIR = \"pytorch-cpr-model-sdk\"  # @param {type:\"string\"}\n",
    "REPOSITORY = \"custom-container-prediction-sdk\"  # @param {type:\"string\"}\n",
    "IMAGE = \"pytorch-cpr-server-sdk\"  # @param {type:\"string\"}\n",
    "MODEL_DISPLAY_NAME = \"pytorch-cpr-model-sdk\"  # @param {type:\"string\"}"
   ]
  },
  {
   "cell_type": "markdown",
   "metadata": {
    "id": "ca1a915d641d"
   },
   "source": [
    "`区域` - 在笔记本的其余部分操作中使用。请确保选择一个[Cloud Vertex AI 服务可用的区域](https://cloud.google.com/vertex-ai/docs/general/locations#feature-availability)。您不能使用多区域存储存储桶进行 Vertex AI 的预测。\n",
    "\n",
    "`MODEL_ARTIFACT_DIR` - Cloud Storage 存储桶中模型工件的文件夹路径，例如：\"my-models/fraud-detection/trial-4\"\n",
    "\n",
    "`REPOSITORY` - 要创建或使用的工件库的名称。\n",
    "\n",
    "`IMAGE` - 将被推送的容器镜像的名称。\n",
    "\n",
    "`MODEL_DISPLAY_NAME` - Vertex AI 模型资源的显示名称。"
   ]
  },
  {
   "cell_type": "markdown",
   "metadata": {
    "id": "zgPO1eR3CYjk"
   },
   "source": [
    "### 创建一个云存储桶\n",
    "\n",
    "**以下步骤都是必需的，无论您使用的是哪种笔记本环境。**\n",
    "\n",
    "要在不重新构建容器的情况下更新您的模型工件，您必须将您的模型工件和任何自定义代码上传到云存储。\n",
    "\n",
    "在下方设置您的云存储桶的名称。它必须在所有云存储桶中是唯一的。"
   ]
  },
  {
   "cell_type": "code",
   "execution_count": null,
   "metadata": {
    "id": "MzGDU7TWdts_"
   },
   "outputs": [],
   "source": [
    "BUCKET_NAME = \"[your-bucket-name]\"  # @param {type:\"string\"}\n",
    "BUCKET_URI = f\"gs://{BUCKET_NAME}\""
   ]
  },
  {
   "cell_type": "code",
   "execution_count": null,
   "metadata": {
    "id": "cf221059d072"
   },
   "outputs": [],
   "source": [
    "if BUCKET_NAME == \"\" or BUCKET_NAME is None or BUCKET_NAME == \"[your-bucket-name]\":\n",
    "    BUCKET_NAME = PROJECT_ID + \"-aip-\" + TIMESTAMP\n",
    "    BUCKET_URI = f\"gs://{BUCKET_NAME}\""
   ]
  },
  {
   "cell_type": "markdown",
   "metadata": {
    "id": "-EcIXiGsCePi"
   },
   "source": [
    "只有在您的存储桶不存在时：运行以下单元格以创建您的云存储存储桶。"
   ]
  },
  {
   "cell_type": "code",
   "execution_count": null,
   "metadata": {
    "id": "NIq7R4HZCfIc"
   },
   "outputs": [],
   "source": [
    "! gsutil mb -l $REGION -p $PROJECT_ID $BUCKET_URI"
   ]
  },
  {
   "cell_type": "markdown",
   "metadata": {
    "id": "ucvCsknMCims"
   },
   "source": [
    "最后，通过检查云存储桶的内容来验证访问权限。"
   ]
  },
  {
   "cell_type": "code",
   "execution_count": null,
   "metadata": {
    "id": "vhOb7YnwClBb"
   },
   "outputs": [],
   "source": [
    "! gsutil ls -al $BUCKET_URI"
   ]
  },
  {
   "cell_type": "markdown",
   "metadata": {
    "id": "3c2d091d9e73"
   },
   "source": [
    "设置目录"
   ]
  },
  {
   "cell_type": "markdown",
   "metadata": {
    "id": "3c2d091d9e73"
   },
   "source": [
    "决定将您所有自定义代码放在哪个目录。"
   ]
  },
  {
   "cell_type": "code",
   "execution_count": null,
   "metadata": {
    "id": "3c2d091d9e73"
   },
   "outputs": [],
   "source": [
    "USER_SRC_DIR = \"src_dir_pytorch\"  # @param {type:\"string\"}"
   ]
  },
  {
   "cell_type": "markdown",
   "metadata": {
    "id": "cee1ac13b767"
   },
   "source": [
    "决定将你训练好的模型放在哪个目录下。"
   ]
  },
  {
   "cell_type": "code",
   "execution_count": null,
   "metadata": {
    "id": "104037d0dbf5"
   },
   "outputs": [],
   "source": [
    "LOCAL_MODEL_ARTIFACTS_DIR = \"model_artifacts\"  # @param {type:\"string\"}"
   ]
  },
  {
   "cell_type": "code",
   "execution_count": null,
   "metadata": {
    "id": "6e74556ea0b4"
   },
   "outputs": [],
   "source": [
    "%mkdir $USER_SRC_DIR\n",
    "%mkdir $LOCAL_MODEL_ARTIFACTS_DIR"
   ]
  },
  {
   "cell_type": "markdown",
   "metadata": {
    "id": "c389f200eed5"
   },
   "source": [
    "### 下载鸢尾花数据\n",
    "在这个例子中，我们想要为简单的[鸢尾花数据集](https://archive.ics.uci.edu/ml/datasets/iris)构建一个分类器。所以首先，我们需要将数据 csv 文件下载到本地。"
   ]
  },
  {
   "cell_type": "code",
   "execution_count": null,
   "metadata": {
    "id": "950c429a65ec"
   },
   "outputs": [],
   "source": [
    "DATA_DIR = \"data_iris\"\n",
    "\n",
    "%mkdir $DATA_DIR\n",
    "\n",
    "LOCAL_DATA_FILE = f\"{DATA_DIR}/iris.csv\""
   ]
  },
  {
   "cell_type": "code",
   "execution_count": null,
   "metadata": {
    "id": "3759597371ab"
   },
   "outputs": [],
   "source": [
    "from urllib.request import urlretrieve\n",
    "\n",
    "urlretrieve(\n",
    "    \"https://archive.ics.uci.edu/ml/machine-learning-databases/iris/iris.data\",\n",
    "    LOCAL_DATA_FILE,\n",
    ")"
   ]
  },
  {
   "cell_type": "markdown",
   "metadata": {
    "id": "29fcb6559390"
   },
   "source": [
    "### 构建一个PyTorch神经网络分类器"
   ]
  },
  {
   "cell_type": "markdown",
   "metadata": {
    "id": "4b816cd52f4b"
   },
   "source": [
    "确保已[安装](https://pytorch.org/get-started/locally/)PyTorch软件包。"
   ]
  },
  {
   "cell_type": "code",
   "execution_count": null,
   "metadata": {
    "id": "43e47249f736"
   },
   "outputs": [],
   "source": [
    "import torch\n",
    "from torch.autograd import Variable\n",
    "\n",
    "print(\"PyTorch Version: {}\".format(torch.__version__))"
   ]
  },
  {
   "cell_type": "markdown",
   "metadata": {
    "id": "3c693178ec3b"
   },
   "source": [
    "#### 第一步。加载数据\n",
    "\n",
    "在这一步中，我们将:\n",
    "1. 将数据加载到Pandas数据框中。\n",
    "1. 将类特征（物种）从字符串转换为数值指示器。\n",
    "1. 将数据框分割为输入特征（xtrain）和目标特征（ytrain）。"
   ]
  },
  {
   "cell_type": "code",
   "execution_count": null,
   "metadata": {
    "id": "ecac2569ceec"
   },
   "outputs": [],
   "source": [
    "import pandas as pd\n",
    "\n",
    "CLASS_VOCAB = [\"setosa\", \"versicolor\", \"virginica\"]\n",
    "\n",
    "datatrain = pd.read_csv(\n",
    "    LOCAL_DATA_FILE,\n",
    "    names=[\"sepal_length\", \"sepal_width\", \"petal_length\", \"petal_width\", \"species\"],\n",
    ")\n",
    "\n",
    "# change string value to numeric\n",
    "datatrain.loc[datatrain[\"species\"] == \"Iris-setosa\", \"species\"] = 0\n",
    "datatrain.loc[datatrain[\"species\"] == \"Iris-versicolor\", \"species\"] = 1\n",
    "datatrain.loc[datatrain[\"species\"] == \"Iris-virginica\", \"species\"] = 2\n",
    "datatrain = datatrain.apply(pd.to_numeric)\n",
    "\n",
    "# change dataframe to array\n",
    "datatrain_array = datatrain.values\n",
    "\n",
    "# split x and y (feature and target)\n",
    "xtrain = datatrain_array[:, :4]\n",
    "ytrain = datatrain_array[:, 4]\n",
    "\n",
    "input_features = xtrain.shape[1]\n",
    "num_classes = len(CLASS_VOCAB)\n",
    "\n",
    "print(\"Records loaded: {}\".format(len(xtrain)))\n",
    "print(\"Number of input features: {}\".format(input_features))\n",
    "print(\"Number of classes: {}\".format(num_classes))"
   ]
  },
  {
   "cell_type": "markdown",
   "metadata": {
    "id": "cc140a358557"
   },
   "source": [
    "步骤2.设置模型参数\n",
    "您可以尝试不同值的**隐藏单元**或**学习率**。"
   ]
  },
  {
   "cell_type": "code",
   "execution_count": null,
   "metadata": {
    "id": "296a7986f8f2"
   },
   "outputs": [],
   "source": [
    "HIDDEN_UNITS = 10\n",
    "LEARNING_RATE = 0.1"
   ]
  },
  {
   "cell_type": "markdown",
   "metadata": {
    "id": "dc58f3f86d9f"
   },
   "source": [
    "#### 第三步。定义PyTorch NN模型\n",
    "在这里，我们构建一个具有一个隐藏层的神经网络，并使用Softmax输出层进行分类。"
   ]
  },
  {
   "cell_type": "code",
   "execution_count": null,
   "metadata": {
    "id": "0a6e2ebdb237"
   },
   "outputs": [],
   "source": [
    "model = torch.nn.Sequential(\n",
    "    torch.nn.Linear(input_features, HIDDEN_UNITS),\n",
    "    torch.nn.Sigmoid(),\n",
    "    torch.nn.Linear(HIDDEN_UNITS, num_classes),\n",
    "    torch.nn.Softmax(),\n",
    ")\n",
    "\n",
    "loss_metric = torch.nn.CrossEntropyLoss()\n",
    "optimizer = torch.optim.SGD(model.parameters(), lr=LEARNING_RATE)"
   ]
  },
  {
   "cell_type": "markdown",
   "metadata": {
    "id": "60c65751452b"
   },
   "source": [
    "步骤4：训练模型\n",
    "我们将训练该模型进行**num_epoch**次。"
   ]
  },
  {
   "cell_type": "code",
   "execution_count": null,
   "metadata": {
    "id": "2a38c4a8f6cd"
   },
   "outputs": [],
   "source": [
    "NUM_EPOCHS = 10000\n",
    "\n",
    "for epoch in range(NUM_EPOCHS):\n",
    "\n",
    "    x = Variable(torch.Tensor(xtrain).float())\n",
    "    y = Variable(torch.Tensor(ytrain).long())\n",
    "    optimizer.zero_grad()\n",
    "    y_pred = model(x)\n",
    "    loss = loss_metric(y_pred, y)\n",
    "    loss.backward()\n",
    "    optimizer.step()\n",
    "    if (epoch) % 1000 == 0:\n",
    "        print(\n",
    "            \"Epoch [{}/{}] Loss: {}\".format(\n",
    "                epoch + 1, NUM_EPOCHS, round(loss.item(), 3)\n",
    "            )\n",
    "        )\n",
    "\n",
    "print(\"Epoch [{}/{}] Loss: {}\".format(epoch + 1, NUM_EPOCHS, round(loss.item(), 3)))"
   ]
  },
  {
   "cell_type": "markdown",
   "metadata": {
    "id": "a22f07e6f56b"
   },
   "source": [
    "第五步。保存模型"
   ]
  },
  {
   "cell_type": "code",
   "execution_count": null,
   "metadata": {
    "id": "48172aba64eb"
   },
   "outputs": [],
   "source": [
    "LOCAL_MODEL_FILE = f\"{LOCAL_MODEL_ARTIFACTS_DIR}/model.pt\"\n",
    "\n",
    "torch.save(model, LOCAL_MODEL_FILE)"
   ]
  },
  {
   "cell_type": "markdown",
   "metadata": {
    "id": "7d8ac3463cbb"
   },
   "source": [
    "步骤6. 测试加载的模型进行预测"
   ]
  },
  {
   "cell_type": "code",
   "execution_count": null,
   "metadata": {
    "id": "c97cdbb9f792"
   },
   "outputs": [],
   "source": [
    "iris_classifier = torch.load(LOCAL_MODEL_FILE)\n",
    "\n",
    "\n",
    "def predict_class(instances):\n",
    "    instances = torch.Tensor(instances)\n",
    "    output = iris_classifier(instances)\n",
    "    _, predicted = torch.max(output, 1)\n",
    "    return predicted\n",
    "\n",
    "\n",
    "predicted = predict_class(xtrain[0:5])\n",
    "print([CLASS_VOCAB[class_index] for class_index in predicted])"
   ]
  },
  {
   "cell_type": "markdown",
   "metadata": {
    "id": "3849066a33bd"
   },
   "source": [
    "### 上传模型工件和自定义代码到云存储\n",
    "\n",
    "在部署模型进行服务之前，Vertex AI 需要访问以下在云存储中的文件：\n",
    "\n",
    "* `model.pt`（模型工件）\n",
    "\n",
    "运行以下命令以上传您的文件："
   ]
  },
  {
   "cell_type": "code",
   "execution_count": null,
   "metadata": {
    "id": "ca67ee52d4d9"
   },
   "outputs": [],
   "source": [
    "!gsutil cp {LOCAL_MODEL_ARTIFACTS_DIR}/* {BUCKET_URI}/{MODEL_ARTIFACT_DIR}/\n",
    "!gsutil ls {BUCKET_URI}/{MODEL_ARTIFACT_DIR}/"
   ]
  },
  {
   "cell_type": "markdown",
   "metadata": {
    "id": "b2b675059515"
   },
   "source": [
    "使用CPR模型服务器构建定制的服务容器。"
   ]
  },
  {
   "cell_type": "markdown",
   "metadata": {
    "id": "480a1d88ecdb"
   },
   "source": [
    "训练和保存了模型和处理器之后，现在是构建自定义服务容器的时候了。通常构建服务容器需要编写模型服务器代码。但是，通过自定义预测例程功能，Vertex AI Prediction提供了一个可以直接使用的模型服务器。\n",
    "\n",
    "自定义服务容器包含以下3个代码片段：\n",
    "1. [模型服务器](https://github.com/googleapis/python-aiplatform/blob/main/google/cloud/aiplatform/prediction/model_server.py)\n",
    "    * 托管模型的HTTP服务器。\n",
    "    * 负责设置路由/端口等。\n",
    "1. [请求处理程序](https://github.com/googleapis/python-aiplatform/blob/main/google/cloud/aiplatform/prediction/handler.py)\n",
    "    * 负责处理请求的Web服务器方面，例如反序列化请求主体，序列化响应，设置响应头等。\n",
    "    * 在这个例子中，我们将使用SDK提供的默认Handler `google.cloud.aiplatform.prediction.handler.PredictionHandler`。\n",
    "1. [预测器](https://github.com/googleapis/python-aiplatform/blob/main/google/cloud/aiplatform/prediction/predictor.py)\n",
    "    * 负责处理预测请求的ML逻辑。\n",
    "\n",
    "这三个部分可以根据自定义容器的要求进行定制。在这个例子中，我们只会实现`预测器`。\n",
    "\n",
    "[`预测器`](https://github.com/googleapis/python-aiplatform/blob/main/google/cloud/aiplatform/prediction/predictor.py)必须实现以下接口：\n",
    "\n",
    "```\n",
    "from abc import ABC, abstractmethod\n",
    "from typing import Any\n",
    "\n",
    "\n",
    "class Predictor(ABC):\n",
    "    \"\"\"自定义预测例程的预测器类的接口。\n",
    "    预测器负责处理预测请求的ML逻辑。\n",
    "    具体而言，预测器必须定义：\n",
    "    (1) 如何将用于预测的所有模型文件加载到内存中。\n",
    "    (2) 预测时应执行的逻辑。\n",
    "    当使用默认的PredictionHandler时，将如下所示调用预测器：\n",
    "      predictor.postprocess(predictor.predict(predictor.preprocess(prediction_input)))\n",
    "    \"\"\"\n",
    "\n",
    "    def __init__(self):\n",
    "        return\n",
    "\n",
    "    @abstractmethod\n",
    "    def load(self, artifacts_uri: str) -> None:\n",
    "        \"\"\"加载模型文件。\n",
    "        Args:\n",
    "            artifacts_uri (str):\n",
    "                必填。环境变量AIP_STORAGE_URI的值。\n",
    "        \"\"\"\n",
    "        pass\n",
    "\n",
    "    def preprocess(self, prediction_input: Any) -> Any:\n",
    "        \"\"\"在进行预测之前预处理预测输入。\n",
    "        Args:\n",
    "            prediction_input (Any):\n",
    "                必填。需要预处理的预测输入。\n",
    "        返回:\n",
    "            预处理的预测输入。\n",
    "        \"\"\"\n",
    "        return prediction_input\n",
    "\n",
    "    @abstractmethod\n",
    "    def predict(self, instances: Any) -> Any:\n",
    "        \"\"\"执行预测。\n",
    "        Args:\n",
    "            instances (Any):\n",
    "                必填。用于执行预测的实例。\n",
    "        返回:\n",
    "            预测结果。\n",
    "        \"\"\"\n",
    "        pass\n",
    "\n",
    "    def postprocess(self, prediction_results: Any) -> Any:\n",
    "        \"\"\"后处理预测结果。\n",
    "        Args:\n",
    "            prediction_results (Any):\n",
    "                必填。预测结果。\n",
    "        返回:\n",
    "            后处理的预测结果。\n",
    "        \"\"\"\n",
    "        return prediction_results\n",
    "```"
   ]
  },
  {
   "cell_type": "markdown",
   "metadata": {
    "id": "-KODNAqK5k8R"
   },
   "source": [
    "首先，实现一个自定义的`Predictor`，它可以加载预处理器和模型。预处理器和模型将在`predict`时使用。\n",
    "\n",
    "自定义预测程序支持一种在本地运行容器来测试图像的方法。在本地测试图像时，您可以传递一个GCS路径或一个本地路径。\n",
    "- 如果传递一个GCS路径，则需要设置凭据。\n",
    "- 如果想通过传递本地路径进行测试，您需要在`Predictor`中支持远程和本地加载您的模型。\n",
    "\n",
    "Vertex SDK提供了一个[`download_model_artifacts`函数](https://github.com/googleapis/python-aiplatform/blob/main/google/cloud/aiplatform/utils/prediction_utils.py)，帮助您从GCS路径或本地路径下载模型工件。请参阅下面`load`函数中的示例。"
   ]
  },
  {
   "cell_type": "code",
   "execution_count": null,
   "metadata": {
    "id": "fkh8DT7CCgQO"
   },
   "outputs": [],
   "source": [
    "%%writefile $USER_SRC_DIR/predictor.py\n",
    "\n",
    "import pandas as pd\n",
    "import pickle\n",
    "import torch\n",
    "from typing import Dict\n",
    "\n",
    "from google.cloud.aiplatform.prediction.predictor import Predictor\n",
    "from google.cloud.aiplatform.utils import prediction_utils\n",
    "\n",
    "\n",
    "class CustomPyTorchPredictor(Predictor):\n",
    "    \n",
    "    def __init__(self):\n",
    "        self._class_names = [\"setosa\", \"versicolor\", \"virginica\"]\n",
    "    \n",
    "    def load(self, artifacts_uri: str):\n",
    "        \"\"\"Loads the model artifacts.\"\"\"\n",
    "        prediction_utils.download_model_artifacts(artifacts_uri)\n",
    "\n",
    "        self._model = torch.load(\"model.pt\")\n",
    "\n",
    "    def preprocess(self, prediction_input: Dict) -> torch.Tensor:\n",
    "        instances = prediction_input[\"instances\"]\n",
    "        data = pd.DataFrame(instances).values\n",
    "        return torch.Tensor(data)\n",
    "\n",
    "    @torch.inference_mode()\n",
    "    def predict(self, instances: torch.Tensor) -> torch.Tensor:\n",
    "        \"\"\"Performs prediction.\"\"\"\n",
    "        outputs = self._model(instances)\n",
    "        _ , predicted = torch.max(outputs, 1)\n",
    "        return predicted\n",
    "\n",
    "    def postprocess(self, prediction_results: torch.Tensor) -> Dict:\n",
    "        return {\"predictions\": [self._class_names[class_num] for class_num in prediction_results]}"
   ]
  },
  {
   "cell_type": "markdown",
   "metadata": {
    "id": "waA_Jl5Q6E0W"
   },
   "source": [
    "构建自定义容器时，我们还需要编写一个启动模型服务器的图像入口点。但是，使用自定义预测例程功能，您不再需要编写入口点。Vertex SDK 将使用您提供的自定义预测程序填充入口点。"
   ]
  },
  {
   "cell_type": "markdown",
   "metadata": {
    "id": "04ddb6d57ceb"
   },
   "source": [
    "将要安装在镜像中的来源目录的依赖关系写入。"
   ]
  },
  {
   "cell_type": "code",
   "execution_count": null,
   "metadata": {
    "id": "a94b4589fb20"
   },
   "outputs": [],
   "source": [
    "!cp requirements.txt $USER_SRC_DIR/requirements.txt"
   ]
  },
  {
   "cell_type": "markdown",
   "metadata": {
    "id": "51e149fdec1b"
   },
   "source": [
    "构建并推送容器到Artifact Registry。"
   ]
  },
  {
   "cell_type": "markdown",
   "metadata": {
    "id": "3bdb9a7768a5"
   },
   "source": [
    "### 构建你的自定义容器\n",
    "\n",
    "要构建一个自定义的镜像，需要一个 Dockerfile，在其中你需要实现镜像的外观。但是，利用自定义预测例程功能，Vertex SDK 也会为你生成 Dockerfile 并构建镜像。\n",
    "\n",
    "默认情况下，使用 `python:3.7` 作为基础镜像。"
   ]
  },
  {
   "cell_type": "code",
   "execution_count": null,
   "metadata": {
    "id": "3d3a6b9ed22b"
   },
   "outputs": [],
   "source": [
    "import os\n",
    "\n",
    "from google.cloud.aiplatform.prediction import LocalModel\n",
    "from src_dir_pytorch.predictor import \\\n",
    "    CustomPyTorchPredictor  # Update this path as the variable $USER_SRC_DIR to import the custom predictor.\n",
    "\n",
    "local_model = LocalModel.build_cpr_model(\n",
    "    USER_SRC_DIR,\n",
    "    f\"{REGION}-docker.pkg.dev/{PROJECT_ID}/{REPOSITORY}/{IMAGE}\",\n",
    "    predictor=CustomPyTorchPredictor,\n",
    "    requirements_path=os.path.join(USER_SRC_DIR, \"requirements.txt\"),\n",
    ")"
   ]
  },
  {
   "cell_type": "markdown",
   "metadata": {
    "id": "04c988201499"
   },
   "source": [
    "您可以查看已构建图像的服务容器规格。"
   ]
  },
  {
   "cell_type": "code",
   "execution_count": null,
   "metadata": {
    "id": "f1e7d639b9cc"
   },
   "outputs": [],
   "source": [
    "local_model.get_serving_container_spec()"
   ]
  },
  {
   "cell_type": "markdown",
   "metadata": {
    "id": "8b62ddf1def3"
   },
   "source": [
    "存储测试实例\n",
    "\n",
    "要了解有关在 JSON 中格式化输入实例的更多信息，请阅读[文档。](https://cloud.google.com/vertex-ai/docs/predictions/online-predictions-custom-models#request-body-details)"
   ]
  },
  {
   "cell_type": "code",
   "execution_count": null,
   "metadata": {
    "id": "caf53dbc65d9"
   },
   "outputs": [],
   "source": [
    "INPUT_FILE = \"instances.json\""
   ]
  },
  {
   "cell_type": "code",
   "execution_count": null,
   "metadata": {
    "id": "b6605e9e6186"
   },
   "outputs": [],
   "source": [
    "%%writefile $INPUT_FILE\n",
    "{\n",
    "    \"instances\": [\n",
    "        [6.7, 3.1, 4.7, 1.5],\n",
    "        [4.6, 3.1, 1.5, 0.2]\n",
    "    ]\n",
    "}"
   ]
  },
  {
   "cell_type": "markdown",
   "metadata": {
    "id": "147a555f6c93"
   },
   "source": [
    "### 在本地运行和测试容器"
   ]
  },
  {
   "cell_type": "markdown",
   "metadata": {
    "id": "a72cf39f6d53"
   },
   "source": [
    "自定义预测例程提供两种下载模型工件以在本地测试图像的方式。\n",
    "1. 本地路径。\n",
    "2. GCS路径。\n",
    "\n",
    "要使用本地路径，您的“预测器”需要支持加载模型的两种方式，以便在本地进行测试并部署到Vertex AI预测服务。SDK提供了一个方法`download_model_artifacts`来支持这两种方式，您可以在您的“预测器”的`load`函数中调用[prediction_utils.py](https://github.com/googleapis/python-aiplatform/blob/main/google/cloud/aiplatform/utils/prediction_utils.py)。\n",
    "\n",
    "如果您想用GCS路径在本地测试图像，您需要按照指示设置凭据。"
   ]
  },
  {
   "cell_type": "markdown",
   "metadata": {
    "id": "8phJWBhe7u9u"
   },
   "source": [
    "设置凭证\n",
    "\n",
    "设置凭证只是为了在本地使用GCS路径运行自定义服务容器时才需要。设置凭证是为了执行`Predictor`的`load`函数，该函数会从Google Cloud Storage下载模型工件。\n",
    "\n",
    "要在项目中访问Google Cloud Storage，您需要通过以下方式之一设置凭据：\n",
    "\n",
    "1. 用户帐号\n",
    "\n",
    "2. 服务帐号\n",
    "\n",
    "您可以在[这里](https://cloud.google.com/docs/authentication#principals)了解更多关于上述每种帐号的信息。"
   ]
  },
  {
   "cell_type": "markdown",
   "metadata": {
    "id": "eac44f62b898"
   },
   "source": [
    "选项1. 使用Google用户凭据\n",
    "\n",
    "首先，授权Google认证库以使用Google用户凭据访问云平台。这一步涉及一个交互式提示，需要用户输入。如果您使用的是非交互式shell，您应该打开一个终端来运行这个命令。请参考[这里](https://jupyterlab.readthedocs.io/en/stable/user/terminal.html)了解如何在Vertex Workbench笔记本环境中打开终端。\n",
    "\n",
    "请注意，如果您在没有窗口管理器/浏览器的机器上运行下面的命令，它会提示您运行命令`gcloud auth application-default login --remote-bootstrap=\"...\"`。只有可以启动Web浏览器的机器，例如笔记本电脑或工作站，才可以运行此命令。在使用浏览器完成认证步骤后，您需要将验证代码复制并粘贴回原始终端以继续登录流程。如果您在支持Web浏览器的机器上运行此命令，则无需使用单独的机器。\n",
    "\n",
    "此命令将把凭据文件打印为`凭据保存到文件：[CREDENTIALS_FILE]`。"
   ]
  },
  {
   "cell_type": "code",
   "execution_count": null,
   "metadata": {
    "id": "867c773995d6"
   },
   "outputs": [],
   "source": [
    "!gcloud auth application-default login"
   ]
  },
  {
   "cell_type": "markdown",
   "metadata": {
    "id": "0fe3f1ff17e5"
   },
   "source": [
    "指定凭证文件，该文件为json格式文件，请作为路径。"
   ]
  },
  {
   "cell_type": "code",
   "execution_count": null,
   "metadata": {
    "id": "14d8e7e0691b"
   },
   "outputs": [],
   "source": [
    "CREDENTIALS_FILE = \"[CREDENTIALS_FILE]\"  # @param {type:\"string\"}"
   ]
  },
  {
   "cell_type": "markdown",
   "metadata": {
    "id": "8a544c84b96f"
   },
   "source": [
    "接下来，授权gcloud使用Google用户凭据访问云平台。用户凭据需要在项目中具有`setIamPolicy`权限。更多详细信息请参见[这里](https://cloud.google.com/resource-manager/docs/access-control-proj)。\n",
    "\n",
    "与上一步类似，这也需要用户输入。先前步骤的说明同样适用于这里。"
   ]
  },
  {
   "cell_type": "code",
   "execution_count": null,
   "metadata": {
    "id": "e63e7d6a5e93"
   },
   "outputs": [],
   "source": [
    "!gcloud auth login"
   ]
  },
  {
   "cell_type": "markdown",
   "metadata": {
    "id": "d8685d6f9aef"
   },
   "source": [
    "给用户帐户授予角色。 使用您在gcloud auth步骤中使用的电子邮件地址，例如 `myemail@gmail.com`。 由于我们将使用此用户帐户从Google云存储下载模型工件，因此我们授予用户帐户**Storage Object Viewer**角色。 有关更多详细信息，请参阅[Cloud Storage的IAM角色](https://cloud.google.com/storage/docs/access-control/iam-roles)。"
   ]
  },
  {
   "cell_type": "code",
   "execution_count": null,
   "metadata": {
    "id": "dad0f966c10b"
   },
   "outputs": [],
   "source": [
    "USER_ACCOUNT = \"[USER_ACCOUNT]\"  # @param {type:\"string\"}\n",
    "\n",
    "!gcloud projects add-iam-policy-binding $PROJECT_ID \\\n",
    "    --member=user:$USER_ACCOUNT --role=roles/storage.objectViewer"
   ]
  },
  {
   "cell_type": "markdown",
   "metadata": {
    "id": "ca95b2d79b57"
   },
   "source": [
    "使用项目ID初始化Vertex AI SDK，此操作需要用户凭据。"
   ]
  },
  {
   "cell_type": "code",
   "execution_count": null,
   "metadata": {
    "id": "7eb690cb1182"
   },
   "outputs": [],
   "source": [
    "from google.cloud import aiplatform\n",
    "\n",
    "aiplatform.init(project=PROJECT_ID, location=REGION)"
   ]
  },
  {
   "cell_type": "markdown",
   "metadata": {
    "id": "a6c474e860f3"
   },
   "source": [
    "选项2。使用谷歌服务帐号凭证\n",
    "\n",
    "如果您已经完成了上述选项1，请跳过此步骤。如果尚未启用，请先启用 IAM API。"
   ]
  },
  {
   "cell_type": "code",
   "execution_count": null,
   "metadata": {
    "id": "mERTlLb6dluB"
   },
   "outputs": [],
   "source": [
    "!gcloud services enable iam.googleapis.com"
   ]
  },
  {
   "cell_type": "markdown",
   "metadata": {
    "id": "b4c72d351bba"
   },
   "source": [
    "请指定在您的项目中应该是唯一的服务账户名称。"
   ]
  },
  {
   "cell_type": "code",
   "execution_count": null,
   "metadata": {
    "id": "fece5ffc5938"
   },
   "outputs": [],
   "source": [
    "SERVICE_ACCOUNT = \"[SERVICE_ACCOUNT]\"  # @param {type:\"string\"}"
   ]
  },
  {
   "cell_type": "markdown",
   "metadata": {
    "id": "42a08c49ceb3"
   },
   "source": [
    "创建服务账户。"
   ]
  },
  {
   "cell_type": "code",
   "execution_count": null,
   "metadata": {
    "id": "398ac116171f"
   },
   "outputs": [],
   "source": [
    "!gcloud iam service-accounts create $SERVICE_ACCOUNT"
   ]
  },
  {
   "cell_type": "markdown",
   "metadata": {
    "id": "d47ad5c4d7d2"
   },
   "source": [
    "授权gcloud使用Google用户凭据访问Cloud平台。用户凭据需要在项目中具有`setIamPolicy`权限。更多详细信息请查看[这里](https://cloud.google.com/resource-manager/docs/access-control-proj)。\n",
    "\n",
    "这一步涉及一个交互式提示，需要用户输入。如果您正在使用非交互式shell，您应该打开一个终端来运行该命令。查看[这里](https://jupyterlab.readthedocs.io/en/stable/user/terminal.html)了解如何在Vertex Workbench笔记本环境中打开终端。\n",
    "\n",
    "请注意，如果您在没有窗口管理器/浏览器的机器上运行下面的命令，它会提示您运行命令`gcloud auth application-default login --remote-bootstrap=\"...\"`。只有可以启动Web浏览器的机器，例如笔记本电脑或工作站，才允许运行此命令。完成使用浏览器的身份验证步骤后，您需要将验证代码复制粘贴回原始终端以继续登录流程。如果您在具有网络浏览器支持的机器上运行此命令，则无需使用单独的机器。"
   ]
  },
  {
   "cell_type": "code",
   "execution_count": null,
   "metadata": {
    "id": "cf5458c115f5"
   },
   "outputs": [],
   "source": [
    "!gcloud auth login"
   ]
  },
  {
   "cell_type": "markdown",
   "metadata": {
    "id": "af9c4cf647e6"
   },
   "source": [
    "授予服务账号角色。由于我们将使用此服务账号从Google Cloud Storage下载模型文件，我们授予服务账号\"Storage Object Viewer\"角色。有关更多详细信息，请参阅[Cloud Storage的IAM角色](https://cloud.google.com/storage/docs/access-control/iam-roles)。"
   ]
  },
  {
   "cell_type": "code",
   "execution_count": null,
   "metadata": {
    "id": "a90517374617"
   },
   "outputs": [],
   "source": [
    "!gcloud projects add-iam-policy-binding $PROJECT_ID \\\n",
    "    --member=serviceAccount:{SERVICE_ACCOUNT}@{PROJECT_ID}.iam.gserviceaccount.com \\\n",
    "    --role=roles/storage.objectViewer"
   ]
  },
  {
   "cell_type": "markdown",
   "metadata": {
    "id": "7417cf95a651"
   },
   "source": [
    "指定服务账号密钥文件名。"
   ]
  },
  {
   "cell_type": "code",
   "execution_count": null,
   "metadata": {
    "id": "2968d51dae50"
   },
   "outputs": [],
   "source": [
    "CREDENTIALS_FILE = \"./credentials.json\""
   ]
  },
  {
   "cell_type": "markdown",
   "metadata": {
    "id": "6fb51f953e19"
   },
   "source": [
    "生成服务帐号密钥文件。这将在本地运行自定义服务容器时使用。"
   ]
  },
  {
   "cell_type": "code",
   "execution_count": null,
   "metadata": {
    "id": "356a0aeba296"
   },
   "outputs": [],
   "source": [
    "!gcloud iam service-accounts keys create $CREDENTIALS_FILE \\\n",
    "    --iam-account=\"{SERVICE_ACCOUNT}@{PROJECT_ID}.iam.gserviceaccount.com\""
   ]
  },
  {
   "cell_type": "markdown",
   "metadata": {
    "id": "pJe8TCr4ec4F"
   },
   "source": [
    "### 在本地运行并发送请求给容器\n",
    "\n",
    "有了自定义预测例程功能，很容易在本地测试容器。\n",
    "\n",
    "在这个例子中，容器执行一个预测请求和一个健康检查。"
   ]
  },
  {
   "cell_type": "markdown",
   "metadata": {
    "id": "6a8cc38a6cce"
   },
   "source": [
    "选项1. 传递本地路径\n",
    "\n",
    "此选项要求“预测器”中的“加载”功能支持从GCS路径和本地路径加载模型工件。"
   ]
  },
  {
   "cell_type": "code",
   "execution_count": null,
   "metadata": {
    "id": "62ed2d334d0f"
   },
   "outputs": [],
   "source": [
    "with local_model.deploy_to_local_endpoint(\n",
    "    artifact_uri=f\"{LOCAL_MODEL_ARTIFACTS_DIR}\",\n",
    ") as local_endpoint:\n",
    "    predict_response = local_endpoint.predict(\n",
    "        request_file=INPUT_FILE,\n",
    "        headers={\"Content-Type\": \"application/json\"},\n",
    "    )\n",
    "\n",
    "    health_check_response = local_endpoint.run_health_check()"
   ]
  },
  {
   "cell_type": "markdown",
   "metadata": {
    "id": "07485db39fd0"
   },
   "source": [
    "打印出预测的响应及其内容。"
   ]
  },
  {
   "cell_type": "code",
   "execution_count": null,
   "metadata": {
    "id": "ce629eea32fd"
   },
   "outputs": [],
   "source": [
    "predict_response, predict_response.content"
   ]
  },
  {
   "cell_type": "markdown",
   "metadata": {
    "id": "e9d1b7982414"
   },
   "source": [
    "打印出健康检查的响应和内容。"
   ]
  },
  {
   "cell_type": "code",
   "execution_count": null,
   "metadata": {
    "id": "56986f93438e"
   },
   "outputs": [],
   "source": [
    "health_check_response, health_check_response.content"
   ]
  },
  {
   "cell_type": "markdown",
   "metadata": {
    "id": "a29fcbbe0188"
   },
   "source": [
    "也打印出所有容器日志。"
   ]
  },
  {
   "cell_type": "code",
   "execution_count": null,
   "metadata": {
    "id": "90470050560d"
   },
   "outputs": [],
   "source": [
    "local_endpoint.print_container_logs(show_all=True)"
   ]
  },
  {
   "cell_type": "markdown",
   "metadata": {
    "id": "39f41bb37659"
   },
   "source": [
    "选项2. 通过GCS路径\n",
    "\n",
    "如果您想要通过GCS路径，您需要在上一步中设置好凭据，并在运行容器时传递凭据的路径。服务账号应具有 **Storage Object Viewer** 权限。"
   ]
  },
  {
   "cell_type": "code",
   "execution_count": null,
   "metadata": {
    "id": "62ed2d334d0f"
   },
   "outputs": [],
   "source": [
    "with local_model.deploy_to_local_endpoint(\n",
    "    artifact_uri=f\"{BUCKET_URI}/{MODEL_ARTIFACT_DIR}\",\n",
    "    credential_path=CREDENTIALS_FILE,\n",
    ") as local_endpoint:\n",
    "    predict_response = local_endpoint.predict(\n",
    "        request_file=INPUT_FILE,\n",
    "        headers={\"Content-Type\": \"application/json\"},\n",
    "    )\n",
    "\n",
    "    health_check_response = local_endpoint.run_health_check()"
   ]
  },
  {
   "cell_type": "markdown",
   "metadata": {
    "id": "cdbc0dfeeed0"
   },
   "source": [
    "打印出预测的响应及其内容。"
   ]
  },
  {
   "cell_type": "code",
   "execution_count": null,
   "metadata": {
    "id": "ce629eea32fd"
   },
   "outputs": [],
   "source": [
    "predict_response, predict_response.content"
   ]
  },
  {
   "cell_type": "markdown",
   "metadata": {
    "id": "193440c77fab"
   },
   "source": [
    "打印出健康检查的响应及其内容。"
   ]
  },
  {
   "cell_type": "code",
   "execution_count": null,
   "metadata": {
    "id": "56986f93438e"
   },
   "outputs": [],
   "source": [
    "health_check_response, health_check_response.content"
   ]
  },
  {
   "cell_type": "markdown",
   "metadata": {
    "id": "a29fcbbe0188"
   },
   "source": [
    "还打印出所有的容器日志。"
   ]
  },
  {
   "cell_type": "code",
   "execution_count": null,
   "metadata": {
    "id": "bd28ac20dfb5"
   },
   "outputs": [],
   "source": [
    "local_endpoint.print_container_logs(show_all=True)"
   ]
  },
  {
   "cell_type": "markdown",
   "metadata": {
    "id": "212b2935ea12"
   },
   "source": [
    "将容器推送到制件存储库\n",
    "\n",
    "配置Docker以访问制件存储库。然后将您的容器映像推送到您的制件存储库存储库。"
   ]
  },
  {
   "cell_type": "code",
   "execution_count": null,
   "metadata": {
    "id": "wSFXCj3LdluJ"
   },
   "outputs": [],
   "source": [
    "!gcloud services list"
   ]
  },
  {
   "cell_type": "markdown",
   "metadata": {
    "id": "ABE9UpwSdluK"
   },
   "source": [
    "如果 `artifactregistry.googleapis.com` 在您的项目中未启用，请在继续之前启用该API。"
   ]
  },
  {
   "cell_type": "code",
   "execution_count": null,
   "metadata": {
    "id": "qDhLoQMydluK"
   },
   "outputs": [],
   "source": [
    "!gcloud services enable artifactregistry.googleapis.com"
   ]
  },
  {
   "cell_type": "code",
   "execution_count": null,
   "metadata": {
    "id": "09ffe2434e3d"
   },
   "outputs": [],
   "source": [
    "!gcloud artifacts repositories create {REPOSITORY} \\\n",
    "    --repository-format=docker \\\n",
    "    --location=$REGION"
   ]
  },
  {
   "cell_type": "code",
   "execution_count": null,
   "metadata": {
    "id": "293437024749"
   },
   "outputs": [],
   "source": [
    "!gcloud auth configure-docker {REGION}-docker.pkg.dev --quiet"
   ]
  },
  {
   "cell_type": "markdown",
   "metadata": {
    "id": "89af2542b0a2"
   },
   "source": [
    "使用SDK推送图片。"
   ]
  },
  {
   "cell_type": "code",
   "execution_count": null,
   "metadata": {
    "id": "1dd7448f4703"
   },
   "outputs": [],
   "source": [
    "local_model.push_image()"
   ]
  },
  {
   "cell_type": "markdown",
   "metadata": {
    "id": "b438bfa2129f"
   },
   "source": [
    "部署到Vertex AI"
   ]
  },
  {
   "cell_type": "markdown",
   "metadata": {
    "id": "4ae19df6a33e"
   },
   "source": [
    "### 上传自定义容器模型"
   ]
  },
  {
   "cell_type": "code",
   "execution_count": null,
   "metadata": {
    "id": "8d682d8388ec"
   },
   "outputs": [],
   "source": [
    "from google.cloud import aiplatform"
   ]
  },
  {
   "cell_type": "code",
   "execution_count": null,
   "metadata": {
    "id": "574fb82d3eed"
   },
   "outputs": [],
   "source": [
    "aiplatform.init(project=PROJECT_ID, location=REGION)"
   ]
  },
  {
   "cell_type": "markdown",
   "metadata": {
    "id": "148292367a46"
   },
   "source": [
    "使用LocalModel实例来上传模型。它会自动填充容器规范供您使用。"
   ]
  },
  {
   "cell_type": "code",
   "execution_count": null,
   "metadata": {
    "id": "2738154345d5"
   },
   "outputs": [],
   "source": [
    "model = aiplatform.Model.upload(\n",
    "    local_model=local_model,\n",
    "    display_name=MODEL_DISPLAY_NAME,\n",
    "    artifact_uri=f\"{BUCKET_URI}/{MODEL_ARTIFACT_DIR}\",\n",
    ")"
   ]
  },
  {
   "cell_type": "markdown",
   "metadata": {
    "id": "bd1b85afc7df"
   },
   "source": [
    "部署模型在Vertex AI上\n",
    "完成这一步后，模型将部署并准备好进行在线预测。"
   ]
  },
  {
   "cell_type": "code",
   "execution_count": null,
   "metadata": {
    "id": "62cf66498a28"
   },
   "outputs": [],
   "source": [
    "endpoint = model.deploy(machine_type=\"n1-standard-4\")"
   ]
  },
  {
   "cell_type": "markdown",
   "metadata": {
    "id": "6883e7b07143"
   },
   "source": [
    "发送预测\n",
    "\n",
    "使用Python SDK"
   ]
  },
  {
   "cell_type": "code",
   "execution_count": null,
   "metadata": {
    "id": "d69ed411c2d3"
   },
   "outputs": [],
   "source": [
    "endpoint.predict(instances=[[6.7, 3.1, 4.7, 1.5], [4.6, 3.1, 1.5, 0.2]])"
   ]
  },
  {
   "cell_type": "markdown",
   "metadata": {
    "id": "370d22f53427"
   },
   "source": [
    "### 使用REST"
   ]
  },
  {
   "cell_type": "code",
   "execution_count": null,
   "metadata": {
    "id": "ba55bc560d58"
   },
   "outputs": [],
   "source": [
    "ENDPOINT_ID = endpoint.name"
   ]
  },
  {
   "cell_type": "code",
   "execution_count": null,
   "metadata": {
    "id": "95c562b4e98b"
   },
   "outputs": [],
   "source": [
    "! curl \\\n",
    "-H \"Authorization: Bearer $(gcloud auth print-access-token)\" \\\n",
    "-H \"Content-Type: application/json\" \\\n",
    "-d @instances.json \\\n",
    "https://{REGION}-aiplatform.googleapis.com/v1/projects/{PROJECT_ID}/locations/{REGION}/endpoints/{ENDPOINT_ID}:predict"
   ]
  },
  {
   "cell_type": "markdown",
   "metadata": {
    "id": "fa71174a7dd0"
   },
   "source": [
    "### 使用 gcloud 命令行界面"
   ]
  },
  {
   "cell_type": "code",
   "execution_count": null,
   "metadata": {
    "id": "23b8e807b02c"
   },
   "outputs": [],
   "source": [
    "!gcloud ai endpoints predict $ENDPOINT_ID \\\n",
    "  --region=$REGION \\\n",
    "  --json-request=instances.json"
   ]
  },
  {
   "cell_type": "markdown",
   "metadata": {
    "id": "TpV-iwP9qw9c"
   },
   "source": [
    "清理\n",
    "\n",
    "要清理此项目中使用的所有Google Cloud资源，您可以删除用于本教程的[Google Cloud项目](https://cloud.google.com/resource-manager/docs/creating-managing-projects#shutting_down_projects)。\n",
    "\n",
    "否则，您可以删除本教程中创建的各个资源。"
   ]
  },
  {
   "cell_type": "code",
   "execution_count": null,
   "metadata": {
    "id": "sx_vKniMq9ZX"
   },
   "outputs": [],
   "source": [
    "# Undeploy model and delete endpoint\n",
    "endpoint.delete(force=True)\n",
    "\n",
    "# Delete the model resource\n",
    "model.delete()\n",
    "\n",
    "# Delete the container image from Artifact Registry\n",
    "!gcloud artifacts docker images delete \\\n",
    "    --quiet \\\n",
    "    --delete-tags \\\n",
    "    {REGION}-docker.pkg.dev/{PROJECT_ID}/{REPOSITORY}/{IMAGE}\n",
    "delete_bucket = False\n",
    "\n",
    "if delete_bucket or os.getenv(\"IS_TESTING\"):\n",
    "    ! gsutil rm -r $BUCKET_URI"
   ]
  }
 ],
 "metadata": {
  "colab": {
   "collapsed_sections": [],
   "name": "SDK_Pytorch_Custom_Predict.ipynb",
   "toc_visible": true
  },
  "kernelspec": {
   "display_name": "Python 3",
   "name": "python3"
  }
 },
 "nbformat": 4,
 "nbformat_minor": 0
}
