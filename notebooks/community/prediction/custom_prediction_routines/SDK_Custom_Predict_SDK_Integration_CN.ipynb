{
 "cells": [
  {
   "cell_type": "code",
   "execution_count": null,
   "metadata": {
    "id": "ur8xi4C7S06n"
   },
   "outputs": [],
   "source": [
    "# Copyright 2022 Google LLC\n",
    "#\n",
    "# Licensed under the Apache License, Version 2.0 (the \"License\");\n",
    "# you may not use this file except in compliance with the License.\n",
    "# You may obtain a copy of the License at\n",
    "#\n",
    "#     https://www.apache.org/licenses/LICENSE-2.0\n",
    "#\n",
    "# Unless required by applicable law or agreed to in writing, software\n",
    "# distributed under the License is distributed on an \"AS IS\" BASIS,\n",
    "# WITHOUT WARRANTIES OR CONDITIONS OF ANY KIND, either express or implied.\n",
    "# See the License for the specific language governing permissions and\n",
    "# limitations under the License."
   ]
  },
  {
   "cell_type": "markdown",
   "metadata": {
    "id": "JAPoU8Sm5E6e"
   },
   "source": [
    "<table align=\"left\">\n",
    "  <td>\n",
    "    <a href=\"https://github.com/GoogleCloudPlatform/vertex-ai-samples/blob/main/notebooks/community/prediction/custom_prediction_routines/SDK_Custom_Predict_SDK_Integration.ipynb\">\n",
    "      <img src=\"https://cloud.google.com/ml-engine/images/github-logo-32px.png\" alt=\"GitHub logo\">\n",
    "      在 GitHub 上查看\n",
    "    </a>\n",
    "  </td>\n",
    "  <td>\n",
    "    <a href=\"https://console.cloud.google.com/vertex-ai/workbench/deploy-notebook?download_url=https://raw.githubusercontent.com/GoogleCloudPlatform/vertex-ai-samples/main/notebooks/community/prediction/custom_prediction_routines/SDK_Custom_Predict_SDK_Integration.ipynb\">\n",
    "      <img src=\"https://lh3.googleusercontent.com/UiNooY4LUgW_oTvpsNhPpQzsstV5W8F7rYgxgGBD85cWJoLmrOzhVs_ksK_vgx40SHs7jCqkTkCk=e14-rj-sc0xffffff-h130-w32\" alt=\"Vertex AI logo\">\n",
    "      在 Vertex AI Workbench 中打开\n",
    "    </a>\n",
    "  </td>\n",
    "</table>"
   ]
  },
  {
   "cell_type": "markdown",
   "metadata": {
    "id": "tvgnzT1CKxrO"
   },
   "source": [
    "## 概述\n",
    "\n",
    "本教程演示了如何使用Vertex AI SDK构建一个自定义容器，该容器使用自定义预测例行程序模型服务器来为Vertex AI预测提供一个scikit-learn模型。\n",
    "\n",
    "\n",
    "\n",
    "### 数据集\n",
    "\n",
    "本教程使用R.A. Fisher的鸢尾花数据集，这是一个小数据集，非常受欢迎用于尝试机器学习技术。每个实例有四个数值特征，这些特征是一朵花的不同测量值，并且有一个目标标签，标记它是三种类型的鸢尾花之一：山鸢尾（Iris setosa）、变色鸢尾（Iris versicolour）或维吉尼亚鸢尾（Iris virginica）。\n",
    "\n",
    "本教程使用[scikit-learn库中包含的鸢尾花数据集的副本](https://scikit-learn.org/stable/auto_examples/datasets/plot_iris_dataset.html)。\n",
    "\n",
    "### 目标\n",
    "\n",
    "目标是：\n",
    "- 训练一个模型，该模型将花的测量作为输入来预测它是什么类型的鸢尾花。\n",
    "- 保存模型以及其序列化的预处理器\n",
    "- 使用Vertex AI SDK中的自定义预测例行程序功能构建一个自定义的sklearn服务容器\n",
    "- 在本地测试构建的容器\n",
    "- 上传并部署自定义容器到Vertex Prediction\n",
    "\n",
    "本教程更专注于使用Vertex AI部署这个模型，而不是模型本身的设计。\n",
    "\n",
    "### 成本\n",
    "\n",
    "本教程使用Google Cloud的计费组件：\n",
    "\n",
    "* Vertex AI\n",
    "\n",
    "了解[Vertex AI定价](https://cloud.google.com/vertex-ai/pricing)，并使用[Pricing Calculator](https://cloud.google.com/products/calculator/)根据您的预期使用量生成成本估算。"
   ]
  },
  {
   "cell_type": "markdown",
   "metadata": {
    "id": "ze4-nDLfK4pw"
   },
   "source": [
    "### 设置本地开发环境\n",
    "\n",
    "**如果您正在使用 Vertex AI Workbench 笔记本**，您的环境已经满足运行此笔记本的所有要求。您可以跳过这一步。"
   ]
  },
  {
   "cell_type": "markdown",
   "metadata": {
    "id": "gCuSR8GkAgzl"
   },
   "source": [
    "否则，请确保您的环境满足本笔记本的要求。\n",
    "您需要以下内容：\n",
    "\n",
    "* Docker\n",
    "* Git\n",
    "* Google Cloud SDK（gcloud）\n",
    "* Python 3\n",
    "* virtualenv\n",
    "* 在使用Python 3的虚拟环境中运行的Jupyter笔记本\n",
    "\n",
    "Google Cloud的[设置Python开发环境指南](https://cloud.google.com/python/setup)和[Jupyter安装指南](https://jupyter.org/install)提供了满足这些要求的详细说明。以下步骤提供了一套简洁的说明：\n",
    "\n",
    "1. [安装并初始化Cloud SDK。](https://cloud.google.com/sdk/docs/)\n",
    "\n",
    "1. [安装Python 3。](https://cloud.google.com/python/setup#installing_python)\n",
    "\n",
    "1. [安装virtualenv](https://cloud.google.com/python/setup#installing_and_using_virtualenv)并创建一个使用Python 3的虚拟环境。激活虚拟环境。\n",
    "\n",
    "1. 要安装Jupyter，请在终端窗口中的命令行中运行`pip install jupyter`。\n",
    "\n",
    "1. 要启动Jupyter，请在终端窗口中的命令行中运行`jupyter notebook`。\n",
    "\n",
    "1. 在Jupyter Notebook Dashboard中打开此笔记本。"
   ]
  },
  {
   "cell_type": "markdown",
   "metadata": {
    "id": "i7EUnXsZhAGF"
   },
   "source": [
    "### 安装额外的包\n",
    "\n",
    "安装在您的笔记本环境中尚未安装的额外的包依赖，例如NumPy、Scikit-learn、FastAPI、Uvicorn和joblib。"
   ]
  },
  {
   "cell_type": "code",
   "execution_count": null,
   "metadata": {
    "id": "747f59abb3a5"
   },
   "outputs": [],
   "source": [
    "%%writefile requirements.txt\n",
    "fastapi\n",
    "uvicorn==0.17.6\n",
    "joblib~=1.0\n",
    "numpy~=1.20\n",
    "scikit-learn~=0.24\n",
    "google-cloud-storage>=1.26.0,<2.0.0dev\n",
    "google-cloud-aiplatform[prediction]>=1.16.0"
   ]
  },
  {
   "cell_type": "markdown",
   "metadata": {
    "id": "356f45ac7942"
   },
   "source": [
    "你部署的模型将预先安装了一组不同的依赖项，而不是笔记本环境中默认安装的依赖项。你不应该假设因为在笔记本里能工作就一定能在模型中工作。相反，你应该通过在requirements.txt中列出依赖项，并使用`pip install`在笔记本中安装完全相同的依赖项。请注意，当然，有可能你在requirements.txt中漏掉了笔记本中已经存在的依赖项。如果是这种情况，事情将在笔记本中运行，但在模型中就会出现问题。为了防范这种情况，你应该在部署到云端之前在本地测试模型。"
   ]
  },
  {
   "cell_type": "code",
   "execution_count": null,
   "metadata": {
    "id": "wyy5Lbnzg5fi"
   },
   "outputs": [],
   "source": [
    "# Install the same dependencies used in the serving container in the notebook\n",
    "# environment.\n",
    "%pip install -U --user -r requirements.txt"
   ]
  },
  {
   "cell_type": "markdown",
   "metadata": {
    "id": "hhq5zEbGg0XX"
   },
   "source": [
    "重新启动内核\n",
    "\n",
    "在安装额外的软件包之后，您需要重新启动笔记本内核，以便它可以找到这些软件包。"
   ]
  },
  {
   "cell_type": "code",
   "execution_count": null,
   "metadata": {
    "id": "EzrelQZ22IZj"
   },
   "outputs": [],
   "source": [
    "# Automatically restart kernel after installs\n",
    "import os\n",
    "\n",
    "if not os.getenv(\"IS_TESTING\"):\n",
    "    # Automatically restart kernel after installs\n",
    "    import IPython\n",
    "\n",
    "    app = IPython.Application.instance()\n",
    "    app.kernel.do_shutdown(True)"
   ]
  },
  {
   "cell_type": "markdown",
   "metadata": {
    "id": "lWEdiXsJg0XY"
   },
   "source": [
    "在你开始之前"
   ]
  },
  {
   "cell_type": "markdown",
   "metadata": {
    "id": "64a0a87c5b66"
   },
   "source": [
    "### 在这个示例中设置日志记录"
   ]
  },
  {
   "cell_type": "code",
   "execution_count": null,
   "metadata": {
    "id": "348ca5392459"
   },
   "outputs": [],
   "source": [
    "import logging\n",
    "\n",
    "logging.basicConfig(level=logging.INFO)"
   ]
  },
  {
   "cell_type": "markdown",
   "metadata": {
    "id": "BF1j6f9HApxa"
   },
   "source": [
    "### 设置您的Google Cloud项目\n",
    "\n",
    "**无论您使用的是哪种笔记本环境，以下步骤都是必须的。**\n",
    "\n",
    "1. [选择或创建 Google Cloud 项目](https://console.cloud.google.com/cloud-resource-manager)。当您首次创建帐户时，您将获得$300的免费信用额度，可用于计算/存储成本。\n",
    "\n",
    "1. [确保为您的项目启用计费](https://cloud.google.com/billing/docs/how-to/modify-project)。\n",
    "\n",
    "1. [启用 Vertex AI API 和 Compute Engine API](https://console.cloud.google.com/flows/enableapi?apiid=aiplatform.googleapis.com,compute_component)。\n",
    "\n",
    "1. 如果您在本地运行此笔记本，您需要安装[Cloud SDK](https://cloud.google.com/sdk)。\n",
    "\n",
    "1. 在下面的单元格中输入您的项目ID。然后运行单元格，以确保Cloud SDK在本笔记本中的所有命令中使用正确的项目。\n",
    "\n",
    "**注意**：Jupyter 运行以`!`或`%`为前缀的行作为shell命令，并将Python变量插入这些命令中的`$`或`{}`。"
   ]
  },
  {
   "cell_type": "markdown",
   "metadata": {
    "id": "WReHDGG5g0XY"
   },
   "source": [
    "设置您的项目ID\n",
    "\n",
    "**如果您不知道您的项目ID**，您可以使用 `gcloud` 获取您的项目ID。"
   ]
  },
  {
   "cell_type": "code",
   "execution_count": null,
   "metadata": {
    "id": "oM1iC_MfAts1"
   },
   "outputs": [],
   "source": [
    "import os\n",
    "\n",
    "PROJECT_ID = \"\"\n",
    "\n",
    "# Get your Google Cloud project ID from gcloud\n",
    "if not os.getenv(\"IS_TESTING\"):\n",
    "    shell_output = !gcloud config list --format 'value(core.project)' 2>/dev/null\n",
    "    PROJECT_ID = shell_output[0]\n",
    "    print(\"Project ID: \", PROJECT_ID)"
   ]
  },
  {
   "cell_type": "markdown",
   "metadata": {
    "id": "qJYoRfYng0XZ"
   },
   "source": [
    "否则，请在这里设置您的项目ID。"
   ]
  },
  {
   "cell_type": "code",
   "execution_count": null,
   "metadata": {
    "id": "riG_qUokg0XZ"
   },
   "outputs": [],
   "source": [
    "if PROJECT_ID == \"\" or PROJECT_ID is None:\n",
    "    PROJECT_ID = \"[your-project-id]\"  # @param {type:\"string\"}"
   ]
  },
  {
   "cell_type": "code",
   "execution_count": null,
   "metadata": {
    "id": "set_gcloud_project_id"
   },
   "outputs": [],
   "source": [
    "! gcloud config set project $PROJECT_ID"
   ]
  },
  {
   "cell_type": "markdown",
   "metadata": {
    "id": "region"
   },
   "source": [
    "区域\n",
    "\n",
    "您也可以更改`REGION`变量，该变量用于本笔记本的其余操作。以下是Vertex AI支持的区域。我们建议您选择最接近您的区域。\n",
    "\n",
    "- 美洲：`us-central1`\n",
    "- 欧洲：`europe-west4`\n",
    "- 亚太地区：`asia-east1`\n",
    "\n",
    "您不可以使用多区域存储桶进行Vertex AI的训练。并非所有区域都支持所有Vertex AI服务。\n",
    "\n",
    "了解更多关于[Vertex AI区域](https://cloud.google.com/vertex-ai/docs/general/locations)。"
   ]
  },
  {
   "cell_type": "code",
   "execution_count": null,
   "metadata": {
    "id": "region"
   },
   "outputs": [],
   "source": [
    "REGION = \"[your-region]\"  # @param {type: \"string\"}\n",
    "\n",
    "if REGION == \"[your-region]\":\n",
    "    REGION = \"us-central1\""
   ]
  },
  {
   "cell_type": "markdown",
   "metadata": {
    "id": "XoEqT2Y4DJmf"
   },
   "source": [
    "### 配置项目和资源名称"
   ]
  },
  {
   "cell_type": "markdown",
   "metadata": {
    "id": "TeCDGXHrR0SP"
   },
   "source": [
    "如果您正在参加直播教程会话，您可能会使用共享的测试账户或项目。为了避免用户在创建的资源之间发生名称冲突，您可以为每个实例会话创建一个时间戳，并将其附加到您在这个教程中创建的资源名称上。"
   ]
  },
  {
   "cell_type": "code",
   "execution_count": null,
   "metadata": {
    "id": "XqmZZuKJR26-"
   },
   "outputs": [],
   "source": [
    "from datetime import datetime\n",
    "\n",
    "TIMESTAMP = datetime.now().strftime(\"%Y%m%d%H%M%S\")"
   ]
  },
  {
   "cell_type": "markdown",
   "metadata": {
    "id": "AByKXYgRR7tv"
   },
   "source": [
    "配置 GCP 资源名称。"
   ]
  },
  {
   "cell_type": "code",
   "execution_count": null,
   "metadata": {
    "id": "MzGDU7TWdts_"
   },
   "outputs": [],
   "source": [
    "MODEL_ARTIFACT_DIR = \"sklearn-cpr-model-sdk\"  # @param {type:\"string\"}\n",
    "REPOSITORY = \"custom-container-prediction-sdk\"  # @param {type:\"string\"}\n",
    "IMAGE = \"sklearn-cpr-server-sdk\"  # @param {type:\"string\"}\n",
    "MODEL_DISPLAY_NAME = \"sklearn-cpr-model-sdk\"  # @param {type:\"string\"}"
   ]
  },
  {
   "cell_type": "markdown",
   "metadata": {
    "id": "ca1a915d641d"
   },
   "source": [
    "`MODEL_ARTIFACT_DIR` - 在云存储桶中模型工件的文件夹路径，例如：\"my-models/fraud-detection/trial-4\"\n",
    "\n",
    "`REPOSITORY` - 要创建或使用的工件库的名称。\n",
    "\n",
    "`IMAGE` - 将要推送的容器图像的名称。\n",
    "\n",
    "`MODEL_DISPLAY_NAME` - Vertex AI模型资源的显示名称。"
   ]
  },
  {
   "cell_type": "markdown",
   "metadata": {
    "id": "zgPO1eR3CYjk"
   },
   "source": [
    "### 创建一个云存储桶\n",
    "\n",
    "**无论您使用的是笔记本环境，以下步骤都是必需的。**\n",
    "\n",
    "如果要更新您的模型 artfacts 而不必重新构建容器，您必须将您的模型 artfacts 和任何自定义代码上传到云存储中。\n",
    "\n",
    "请在下方设置您的云存储桶的名称。它必须在所有云存储桶中是唯一的。"
   ]
  },
  {
   "cell_type": "code",
   "execution_count": null,
   "metadata": {
    "id": "idnZotjzQxDd"
   },
   "outputs": [],
   "source": [
    "BUCKET_NAME = \"[your-bucket-name]\"  # @param {type:\"string\"}\n",
    "BUCKET_URI = f\"gs://{BUCKET_NAME}\""
   ]
  },
  {
   "cell_type": "code",
   "execution_count": null,
   "metadata": {
    "id": "cf221059d072"
   },
   "outputs": [],
   "source": [
    "if BUCKET_NAME == \"\" or BUCKET_NAME is None or BUCKET_NAME == \"[your-bucket-name]\":\n",
    "    BUCKET_NAME = PROJECT_ID + \"-aip-\" + TIMESTAMP\n",
    "    BUCKET_URI = f\"gs://{BUCKET_NAME}\""
   ]
  },
  {
   "cell_type": "markdown",
   "metadata": {
    "id": "-EcIXiGsCePi"
   },
   "source": [
    "只有在您的存储桶不存在时：运行以下单元格以创建您的云存储桶。"
   ]
  },
  {
   "cell_type": "code",
   "execution_count": null,
   "metadata": {
    "id": "NIq7R4HZCfIc"
   },
   "outputs": [],
   "source": [
    "! gsutil mb -l $REGION -p $PROJECT_ID $BUCKET_URI"
   ]
  },
  {
   "cell_type": "markdown",
   "metadata": {
    "id": "ucvCsknMCims"
   },
   "source": [
    "最后，通过检查云存储桶的内容来验证访问权限。"
   ]
  },
  {
   "cell_type": "code",
   "execution_count": null,
   "metadata": {
    "id": "vhOb7YnwClBb"
   },
   "outputs": [],
   "source": [
    "! gsutil ls -al $BUCKET_URI"
   ]
  },
  {
   "cell_type": "markdown",
   "metadata": {
    "id": "3c2d091d9e73"
   },
   "source": [
    "## 写你的预处理器"
   ]
  },
  {
   "cell_type": "markdown",
   "metadata": {
    "id": "3c2d091d9e73"
   },
   "source": [
    "将目录设置为放置您所有自定义代码的位置。"
   ]
  },
  {
   "cell_type": "code",
   "execution_count": null,
   "metadata": {
    "id": "3c2d091d9e73"
   },
   "outputs": [],
   "source": [
    "USER_SRC_DIR = \"src_dir_sdk\"  # @param {type:\"string\"}"
   ]
  },
  {
   "cell_type": "markdown",
   "metadata": {
    "id": "cee1ac13b767"
   },
   "source": [
    "确定放置您训练模型的目录。"
   ]
  },
  {
   "cell_type": "code",
   "execution_count": null,
   "metadata": {
    "id": "104037d0dbf5"
   },
   "outputs": [],
   "source": [
    "LOCAL_MODEL_ARTIFACTS_DIR = \"model_artifacts\"  # @param {type:\"string\"}"
   ]
  },
  {
   "cell_type": "markdown",
   "metadata": {
    "id": "3c2d091d9e73"
   },
   "source": [
    "将每个数值特征列的均值设置为 0，标准差设置为 1 可以改进您的模型。\n",
    "\n",
    "创建 `preprocess.py`，其中包含一个用于进行此缩放的类。"
   ]
  },
  {
   "cell_type": "code",
   "execution_count": null,
   "metadata": {
    "id": "6e74556ea0b4"
   },
   "outputs": [],
   "source": [
    "%mkdir $USER_SRC_DIR\n",
    "%mkdir $LOCAL_MODEL_ARTIFACTS_DIR"
   ]
  },
  {
   "cell_type": "code",
   "execution_count": null,
   "metadata": {
    "id": "58d843d21fa8"
   },
   "outputs": [],
   "source": [
    "%%writefile $USER_SRC_DIR/preprocess.py\n",
    "import numpy as np\n",
    "\n",
    "class MySimpleScaler(object):\n",
    "    def __init__(self):\n",
    "        self._means = None\n",
    "        self._stds = None\n",
    "\n",
    "    def preprocess(self, data):\n",
    "        if self._means is None:  # during training only\n",
    "            self._means = np.mean(data, axis=0)\n",
    "\n",
    "        if self._stds is None:  # during training only\n",
    "            self._stds = np.std(data, axis=0)\n",
    "            if not self._stds.all():\n",
    "                raise ValueError(\"At least one column has standard deviation of 0.\")\n",
    "\n",
    "        return (data - self._means) / self._stds"
   ]
  },
  {
   "cell_type": "markdown",
   "metadata": {
    "id": "4b816cd52f4b"
   },
   "source": [
    "## 使用预处理器训练和存储模型\n",
    "接下来，使用`preprocess.MySimpleScaler`预处理鸢尾花数据，然后使用scikit-learn训练模型。\n",
    "\n",
    "最后，将训练好的模型导出为一个joblib（`.joblib`）文件，并将`MySimpleScaler`实例导出为一个pickle（`.pkl`）文件："
   ]
  },
  {
   "cell_type": "code",
   "execution_count": null,
   "metadata": {
    "id": "43e47249f736"
   },
   "outputs": [],
   "source": [
    "%cd $USER_SRC_DIR/\n",
    "\n",
    "import pickle\n",
    "\n",
    "import joblib\n",
    "from preprocess import MySimpleScaler\n",
    "from sklearn.datasets import load_iris\n",
    "from sklearn.ensemble import RandomForestClassifier\n",
    "\n",
    "iris = load_iris()\n",
    "scaler = MySimpleScaler()\n",
    "\n",
    "X = scaler.preprocess(iris.data)\n",
    "y = iris.target\n",
    "\n",
    "model = RandomForestClassifier()\n",
    "model.fit(X, y)\n",
    "\n",
    "joblib.dump(model, f\"../{LOCAL_MODEL_ARTIFACTS_DIR}/model.joblib\")\n",
    "with open(f\"../{LOCAL_MODEL_ARTIFACTS_DIR}/preprocessor.pkl\", \"wb\") as f:\n",
    "    pickle.dump(scaler, f)"
   ]
  },
  {
   "cell_type": "markdown",
   "metadata": {
    "id": "3849066a33bd"
   },
   "source": [
    "将模型工件和自定义代码上传到云存储\n",
    "\n",
    "在部署模型以提供服务之前，Vertex AI 需要访问 Cloud Storage 中以下文件：\n",
    "\n",
    "* `model.joblib` (模型工件)\n",
    "* `preprocessor.pkl` (模型工件)\n",
    "\n",
    "运行以下命令上传您的文件："
   ]
  },
  {
   "cell_type": "code",
   "execution_count": null,
   "metadata": {
    "id": "ca67ee52d4d9"
   },
   "outputs": [],
   "source": [
    "%cd ..\n",
    "!gsutil cp {LOCAL_MODEL_ARTIFACTS_DIR}/* {BUCKET_URI}/{MODEL_ARTIFACT_DIR}/\n",
    "!gsutil ls {BUCKET_URI}/{MODEL_ARTIFACT_DIR}/"
   ]
  },
  {
   "cell_type": "markdown",
   "metadata": {
    "id": "7b68b0404a33"
   },
   "source": [
    "使用CPR模型服务器构建一个定制的服务容器"
   ]
  },
  {
   "cell_type": "markdown",
   "metadata": {
    "id": "480a1d88ecdb"
   },
   "source": [
    "现在模型和处理器已经被训练和保存，是时候构建自定义的Serving容器了。通常构建一个Serving容器需要编写模型服务器代码。然而，使用自定义预测例程功能，Vertex AI Prediction提供了一个可以直接使用的模型服务器。\n",
    "\n",
    "自定义Serving容器包含以下3个代码片段：\n",
    "1. [模型服务器](https://github.com/googleapis/python-aiplatform/blob/main/google/cloud/aiplatform/prediction/model_server.py)\n",
    "    * 托管模型的HTTP服务器。\n",
    "    * 负责设置路由/端口等。\n",
    "2. [请求处理器](https://github.com/googleapis/python-aiplatform/blob/main/google/cloud/aiplatform/prediction/handler.py)\n",
    "    * 负责处理请求的Web服务器方面，例如对请求主体进行反序列化、对响应进行序列化、设置响应标头等。\n",
    "    * 在本例中，您将使用SDK中提供的默认处理器`google.cloud.aiplatform.prediction.handler.PredictionHandler`。\n",
    "3. [预测器](https://github.com/googleapis/python-aiplatform/blob/main/google/cloud/aiplatform/prediction/predictor.py)\n",
    "    * 负责处理预测请求的ML逻辑。\n",
    "\n",
    "这三个部分中的每一个都可以根据自定义容器的要求进行定制。在本例中，您只需要实现`预测器`。\n",
    "\n",
    "[`预测器`](https://github.com/googleapis/python-aiplatform/blob/main/google/cloud/aiplatform/prediction/predictor.py)必须实现以下接口：\n",
    "\n",
    "```python\n",
    "from abc import ABC, abstractmethod\n",
    "from typing import Any\n",
    "\n",
    "class Predictor(ABC):\n",
    "    \"\"\"Custom Prediction Routines的Predictor类接口。\n",
    "    预测器负责处理预测请求的ML逻辑。\n",
    "    具体而言，预测器必须定义：\n",
    "    (1) 如何将用于预测的所有模型工件加载到内存中。\n",
    "    (2) 在预测时应执行的逻辑。\n",
    "    在使用默认PredictionHandler时，将如下调用预测器：\n",
    "      predictor.postprocess(predictor.predict(predictor.preprocess(prediction_input)))\n",
    "    \"\"\"\n",
    "\n",
    "    def __init__(self):\n",
    "        return\n",
    "\n",
    "    @abstractmethod\n",
    "    def load(self, artifacts_uri: str) -> None:\n",
    "        \"\"\"加载模型工件。\n",
    "        参数：\n",
    "            artifacts_uri (str)：\n",
    "                必需的。环境变量AIP_STORAGE_URI的值。\n",
    "        \"\"\"\n",
    "        pass\n",
    "\n",
    "    def preprocess(self, prediction_input: Any) -> Any:\n",
    "        \"\"\"在进行预测之前对预测输入进行预处理。\n",
    "        参数：\n",
    "            prediction_input (Any)：\n",
    "                必需的。需要预处理的预测输入。\n",
    "        返回：\n",
    "            预处理后的预测输入。\n",
    "        \"\"\"\n",
    "        return prediction_input\n",
    "\n",
    "    @abstractmethod\n",
    "    def predict(self, instances: Any) -> Any:\n",
    "        \"\"\"执行预测。\n",
    "        参数：\n",
    "            instances (Any)：\n",
    "                必需的。用于执行预测的实例。\n",
    "        返回：\n",
    "            预测结果。\n",
    "        \"\"\"\n",
    "        pass\n",
    "\n",
    "    def postprocess(self, prediction_results: Any) -> Any:\n",
    "        \"\"\"对预测结果进行后处理。\n",
    "        参数：\n",
    "            prediction_results (Any)：\n",
    "                必需的。预测结果。\n",
    "        返回：\n",
    "            经过后处理的预测结果。\n",
    "        \"\"\"\n",
    "        return prediction_results\n",
    "```"
   ]
  },
  {
   "cell_type": "markdown",
   "metadata": {
    "id": "-KODNAqK5k8R"
   },
   "source": [
    "首先，实现一个自定义的`Predictor`，加载预处理器和模型。预处理器和模型将在`predict`时使用。\n",
    "\n",
    "自定义预测例程支持一种方式，在本地运行容器以测试您的图像。在本地测试图像时，可以传递GCS路径或本地路径。\n",
    "- 如果传递GCS路径，则需要设置凭据。\n",
    "- 如果要通过传递本地路径进行测试，则需要在您的`Predictor`中支持远程和本地加载模型。\n",
    "\n",
    "Vertex AI SDK提供了一个名为`download_model_artifacts`的函数，可以帮助您从GCS路径或本地路径下载模型工件。请参见下面`load`函数中的示例。"
   ]
  },
  {
   "cell_type": "code",
   "execution_count": null,
   "metadata": {
    "id": "fkh8DT7CCgQO"
   },
   "outputs": [],
   "source": [
    "%%writefile $USER_SRC_DIR/predictor.py\n",
    "\n",
    "import joblib\n",
    "import numpy as np\n",
    "import pickle\n",
    "\n",
    "from google.cloud.aiplatform.prediction.predictor import Predictor\n",
    "from google.cloud.aiplatform.utils import prediction_utils\n",
    "\n",
    "from sklearn.datasets import load_iris\n",
    "\n",
    "\n",
    "class CprPredictor(Predictor):\n",
    "    \n",
    "    def __init__(self):\n",
    "        return\n",
    "    \n",
    "    def load(self, artifacts_uri: str):\n",
    "        \"\"\"Loads the preprocessor and model artifacts.\"\"\"\n",
    "        prediction_utils.download_model_artifacts(artifacts_uri)\n",
    "\n",
    "        with open(\"preprocessor.pkl\", \"rb\") as f:\n",
    "            preprocessor = pickle.load(f)\n",
    "\n",
    "        self._class_names = load_iris().target_names\n",
    "        self._model = joblib.load(\"model.joblib\")\n",
    "        self._preprocessor = preprocessor\n",
    "\n",
    "    def predict(self, instances):\n",
    "        \"\"\"Performs prediction.\"\"\"\n",
    "        instances = instances[\"instances\"]\n",
    "        inputs = np.asarray(instances)\n",
    "        preprocessed_inputs = self._preprocessor.preprocess(inputs)\n",
    "        outputs = self._model.predict(preprocessed_inputs)\n",
    "\n",
    "        return {\"predictions\": [self._class_names[class_num] for class_num in outputs]}"
   ]
  },
  {
   "cell_type": "markdown",
   "metadata": {
    "id": "waA_Jl5Q6E0W"
   },
   "source": [
    "构建自定义容器时，您还需要编写一个启动模型服务器的镜像入口点。但是，使用自定义预测例程功能时，您不再需要编写入口点。Vertex AI SDK将使用您提供的自定义预测器填充入口点。"
   ]
  },
  {
   "cell_type": "markdown",
   "metadata": {
    "id": "d72d95ce3d81"
   },
   "source": [
    "将要安装在镜像中的源目录的依赖关系写入。"
   ]
  },
  {
   "cell_type": "code",
   "execution_count": null,
   "metadata": {
    "id": "ec7480e7aac7"
   },
   "outputs": [],
   "source": [
    "!cp requirements.txt $USER_SRC_DIR/requirements.txt"
   ]
  },
  {
   "cell_type": "markdown",
   "metadata": {
    "id": "51e149fdec1b"
   },
   "source": [
    "构建并推送容器到Artifact Registry。"
   ]
  },
  {
   "cell_type": "markdown",
   "metadata": {
    "id": "3bdb9a7768a5"
   },
   "source": [
    "### 构建您的自定义容器\n",
    "\n",
    "要构建自定义镜像，需要一个 Dockerfile，在其中您需要实现镜像的外观。然而，使用 Custom Prediction Routine 功能，Vertex AI SDK 也会为您生成 Dockerfile 并构建镜像。\n",
    "\n",
    "默认情况下，使用 `python:3.7` 作为基础镜像。"
   ]
  },
  {
   "cell_type": "code",
   "execution_count": null,
   "metadata": {
    "id": "3d3a6b9ed22b"
   },
   "outputs": [],
   "source": [
    "import os\n",
    "\n",
    "from google.cloud.aiplatform.prediction import LocalModel\n",
    "from src_dir_sdk.predictor import \\\n",
    "    CprPredictor  # Update this path as the variable $USER_SRC_DIR to import the custom predictor.\n",
    "\n",
    "local_model = LocalModel.build_cpr_model(\n",
    "    USER_SRC_DIR,\n",
    "    f\"{REGION}-docker.pkg.dev/{PROJECT_ID}/{REPOSITORY}/{IMAGE}\",\n",
    "    predictor=CprPredictor,\n",
    "    requirements_path=os.path.join(USER_SRC_DIR, \"requirements.txt\"),\n",
    ")"
   ]
  },
  {
   "cell_type": "markdown",
   "metadata": {
    "id": "04c988201499"
   },
   "source": [
    "您可以查看构建图像的服务容器规格。"
   ]
  },
  {
   "cell_type": "code",
   "execution_count": null,
   "metadata": {
    "id": "f1e7d639b9cc"
   },
   "outputs": [],
   "source": [
    "local_model.get_serving_container_spec()"
   ]
  },
  {
   "cell_type": "markdown",
   "metadata": {
    "id": "8b62ddf1def3"
   },
   "source": [
    "### 存储测试实例\n",
    "\n",
    "要了解如何在JSON中格式化输入实例，请[阅读文档。](https://cloud.google.com/vertex-ai/docs/predictions/online-predictions-custom-models#request-body-details)"
   ]
  },
  {
   "cell_type": "code",
   "execution_count": null,
   "metadata": {
    "id": "3e6f07683c13"
   },
   "outputs": [],
   "source": [
    "INPUT_FILE = \"instances.json\""
   ]
  },
  {
   "cell_type": "code",
   "execution_count": null,
   "metadata": {
    "id": "b6605e9e6186"
   },
   "outputs": [],
   "source": [
    "%%writefile $INPUT_FILE\n",
    "{\n",
    "    \"instances\": [\n",
    "        [6.7, 3.1, 4.7, 1.5],\n",
    "        [4.6, 3.1, 1.5, 0.2]\n",
    "    ]\n",
    "}"
   ]
  },
  {
   "cell_type": "markdown",
   "metadata": {
    "id": "147a555f6c93"
   },
   "source": [
    "### 在本地运行并测试容器"
   ]
  },
  {
   "cell_type": "markdown",
   "metadata": {
    "id": "5a2b2e3c7cb6"
   },
   "source": [
    "自定义预测例程提供两种方式来下载模型文件以便测试图像的本地版本。\n",
    "1. 本地路径。\n",
    "2. GCS路径。\n",
    "\n",
    "要使用本地路径，您的`Predictor`需要支持加载模型的两种方式，以便可以在本地进行测试并部署到Vertex AI预测服务。SDK提供了一个方法`download_model_artifacts`来支持这两种方式，您可以在您的`Predictor`中的`load`函数中调用[prediction_utils.py](https://github.com/googleapis/python-aiplatform/blob/main/google/cloud/aiplatform/utils/prediction_utils.py)中的此方法。\n",
    "\n",
    "如果您想使用GCS路径在本地测试图像，则需要按照说明设置凭据。"
   ]
  },
  {
   "cell_type": "markdown",
   "metadata": {
    "id": "8phJWBhe7u9u"
   },
   "source": [
    "#### 设置凭证\n",
    "\n",
    "设置凭证仅在本地运行带有 GCS 路径的自定义服务容器时才需要。设置凭证是为了执行`Predictor`的`load`函数，该函数会从谷歌云存储中下载模型工件。\n",
    "\n",
    "要访问项目中的谷歌云存储，您需要通过以下方式之一设置凭证：\n",
    "\n",
    "1. 用户账户\n",
    "\n",
    "2. 服务账户\n",
    "\n",
    "您可以在[这里](https://cloud.google.com/docs/authentication#principals)了解更多关于以上每种类型的信息。"
   ]
  },
  {
   "cell_type": "markdown",
   "metadata": {
    "id": "707184b0d46b"
   },
   "source": [
    "选项1：使用谷歌用户凭据\n",
    "\n",
    "首先，授权谷歌身份验证库使用谷歌用户凭据访问云平台。这一步涉及一个交互式提示，需要用户输入。如果您正在使用非交互式的 shell，您应该打开一个终端来运行此命令。请参阅[此处](https://jupyterlab.readthedocs.io/en/stable/user/terminal.html)了解如何在 Vertex Workbench 笔记本环境中打开终端。\n",
    "\n",
    "请注意，如果您在没有窗口管理器/浏览器的机器上运行下面的命令，它将提示您运行命令 `gcloud auth application-default login --remote-bootstrap=\"...\"`。只有能启动网页浏览器的机器，例如笔记本电脑或工作站，才允许运行此命令。完成使用浏览器的身份验证步骤后，您需要将验证代码复制粘贴回原始终端以继续登录流程。如果您在具有 web 浏览器支持的机器上运行此命令，则无需使用单独的机器。\n",
    "\n",
    "此命令将把凭据文件打印为 `凭据保存到文件：[凭据文件]`。"
   ]
  },
  {
   "cell_type": "code",
   "execution_count": null,
   "metadata": {
    "id": "e07e3bcbd82c"
   },
   "outputs": [],
   "source": [
    "!gcloud auth application-default login"
   ]
  },
  {
   "cell_type": "markdown",
   "metadata": {
    "id": "ee9a60636e91"
   },
   "source": [
    "指定凭据文件，该文件为json文件，作为路径。"
   ]
  },
  {
   "cell_type": "code",
   "execution_count": null,
   "metadata": {
    "id": "407296c3330b"
   },
   "outputs": [],
   "source": [
    "CREDENTIALS_FILE = \"[CREDENTIALS_FILE]\"  # @param {type:\"string\"}"
   ]
  },
  {
   "cell_type": "markdown",
   "metadata": {
    "id": "851406250b96"
   },
   "source": [
    "接下来，使用Google用户凭据授权gcloud访问Cloud平台。用户凭据需要在项目中具有`setIamPolicy`权限。有关更多详细信息，请参见[这里](https://cloud.google.com/resource-manager/docs/access-control-proj)。\n",
    "\n",
    "与上一步类似，这也需要用户输入。请按照上一步的说明进行操作。"
   ]
  },
  {
   "cell_type": "code",
   "execution_count": null,
   "metadata": {
    "id": "6dde13dbb580"
   },
   "outputs": [],
   "source": [
    "!gcloud auth login"
   ]
  },
  {
   "cell_type": "markdown",
   "metadata": {
    "id": "bfffe7dd0a84"
   },
   "source": [
    "授予用户账户角色。使用您在gcloud auth步骤中使用的电子邮件地址，例如`myemail@gmail.com`。由于您将使用此用户账户从Google Cloud Storage下载模型工件，您授予用户账户**Storage Object Viewer**角色。有关更多详细信息，请参阅[Cloud Storage的IAM角色](https://cloud.google.com/storage/docs/access-control/iam-roles)。"
   ]
  },
  {
   "cell_type": "code",
   "execution_count": null,
   "metadata": {
    "id": "32880cdd157c"
   },
   "outputs": [],
   "source": [
    "USER_ACCOUNT = \"[USER_ACCOUNT]\"  # @param {type:\"string\"}\n",
    "\n",
    "!gcloud projects add-iam-policy-binding $PROJECT_ID \\\n",
    "    --member=user:$USER_ACCOUNT --role=roles/storage.objectViewer"
   ]
  },
  {
   "cell_type": "markdown",
   "metadata": {
    "id": "885a45bf45ea"
   },
   "source": [
    "使用项目 ID 初始化 Vertex AI SDK，这是使用用户凭据所必需的。"
   ]
  },
  {
   "cell_type": "code",
   "execution_count": null,
   "metadata": {
    "id": "030af26f0bd8"
   },
   "outputs": [],
   "source": [
    "from google.cloud import aiplatform\n",
    "\n",
    "aiplatform.init(project=PROJECT_ID, location=REGION)"
   ]
  },
  {
   "cell_type": "markdown",
   "metadata": {
    "id": "0754b6e6b71a"
   },
   "source": [
    "选项2. 使用谷歌服务账号凭据\n",
    "\n",
    "如果您已经完成上述选项1，请跳过此步骤。如果IAM API尚未启用，请先启用。"
   ]
  },
  {
   "cell_type": "code",
   "execution_count": null,
   "metadata": {
    "id": "mERTlLb6dluB"
   },
   "outputs": [],
   "source": [
    "!gcloud services enable iam.googleapis.com"
   ]
  },
  {
   "cell_type": "markdown",
   "metadata": {
    "id": "set_service_account"
   },
   "source": [
    "服务帐号\n",
    "\n",
    "在本地运行容器时，您可以使用服务帐号来下载模型工件。如果您不想使用项目的计算引擎服务帐号，请将`SERVICE_ACCOUNT`设置为另一个服务帐号ID。"
   ]
  },
  {
   "cell_type": "code",
   "execution_count": null,
   "metadata": {
    "id": "set_service_account"
   },
   "outputs": [],
   "source": [
    "SERVICE_ACCOUNT = \"[your-service-account]\"  # @param {type:\"string\"}"
   ]
  },
  {
   "cell_type": "code",
   "execution_count": null,
   "metadata": {
    "id": "autoset_service_account"
   },
   "outputs": [],
   "source": [
    "if (\n",
    "    SERVICE_ACCOUNT == \"\"\n",
    "    or SERVICE_ACCOUNT is None\n",
    "    or SERVICE_ACCOUNT == \"[your-service-account]\"\n",
    "):\n",
    "    # Get your service account from gcloud\n",
    "    if not IS_COLAB:\n",
    "        shell_output = !gcloud auth list 2>/dev/null\n",
    "        SERVICE_ACCOUNT = shell_output[2].replace(\"*\", \"\").strip()\n",
    "\n",
    "    else:  # IS_COLAB:\n",
    "        shell_output = ! gcloud projects describe  $PROJECT_ID\n",
    "        project_number = shell_output[-1].split(\":\")[1].strip().replace(\"'\", \"\")\n",
    "        SERVICE_ACCOUNT = f\"{project_number}-compute@developer.gserviceaccount.com\"\n",
    "\n",
    "    print(\"Service Account:\", SERVICE_ACCOUNT)"
   ]
  },
  {
   "cell_type": "markdown",
   "metadata": {
    "id": "4c4c9773536c"
   },
   "source": [
    "创建服务账户。"
   ]
  },
  {
   "cell_type": "code",
   "execution_count": null,
   "metadata": {
    "id": "6208aed445bd"
   },
   "outputs": [],
   "source": [
    "!gcloud iam service-accounts create $SERVICE_ACCOUNT"
   ]
  },
  {
   "cell_type": "markdown",
   "metadata": {
    "id": "dd5236f347ff"
   },
   "source": [
    "授权gcloud使用Google用户凭据访问Cloud Platform。用户凭据需要在项目中具有`setIamPolicy`权限。有关更多详细信息，请参见[这里](https://cloud.google.com/resource-manager/docs/access-control-proj)。\n",
    "\n",
    "这一步涉及一个交互式提示，需要用户输入。如果您正在使用非交互式shell，您应该打开一个终端来运行此命令。请参见[这里](https://jupyterlab.readthedocs.io/en/stable/user/terminal.html)如何在Vertex Workbench笔记本环境中打开一个终端。\n",
    "\n",
    "请注意，如果您在没有窗口管理器/浏览器的机器上运行下面的命令，它会提示您运行命令`gcloud auth application-default login --remote-bootstrap=\"...\"`。只有可以启动Web浏览器的机器，例如笔记本电脑或工作站，才允许运行此命令。完成使用浏览器的身份验证步骤后，您需要将验证代码复制粘贴回原始终端以继续登录流程。如果您在具有Web浏览器支持的机器上运行此命令，则无需使用单独的机器。"
   ]
  },
  {
   "cell_type": "code",
   "execution_count": null,
   "metadata": {
    "id": "7941220913dd"
   },
   "outputs": [],
   "source": [
    "!gcloud auth login"
   ]
  },
  {
   "cell_type": "markdown",
   "metadata": {
    "id": "4d1dc91a5d31"
   },
   "source": [
    "授予服务帐户角色。由于您将使用此服务帐户从Google Cloud Storage下载模型文件，因此请授予该服务帐户**存储对象查看者**角色。有关更多详细信息，请参阅[Cloud Storage的IAM角色](https://cloud.google.com/storage/docs/access-control/iam-roles)。"
   ]
  },
  {
   "cell_type": "code",
   "execution_count": null,
   "metadata": {
    "id": "47a48a2b1c37"
   },
   "outputs": [],
   "source": [
    "!gcloud projects add-iam-policy-binding $PROJECT_ID \\\n",
    "    --member=serviceAccount:{SERVICE_ACCOUNT}@{PROJECT_ID}.iam.gserviceaccount.com \\\n",
    "    --role=roles/storage.objectViewer"
   ]
  },
  {
   "cell_type": "markdown",
   "metadata": {
    "id": "c302c477bbd7"
   },
   "source": [
    "指定服务账户密钥文件名。"
   ]
  },
  {
   "cell_type": "code",
   "execution_count": null,
   "metadata": {
    "id": "2df5a9e20948"
   },
   "outputs": [],
   "source": [
    "CREDENTIALS_FILE = \"./credentials.json\""
   ]
  },
  {
   "cell_type": "markdown",
   "metadata": {
    "id": "e3277e26cacd"
   },
   "source": [
    "生成服务账号密钥文件。在本地运行自定义服务容器时会用到。"
   ]
  },
  {
   "cell_type": "code",
   "execution_count": null,
   "metadata": {
    "id": "e3f1f1c8d191"
   },
   "outputs": [],
   "source": [
    "!gcloud iam service-accounts keys create $CREDENTIALS_FILE \\\n",
    "    --iam-account=\"{SERVICE_ACCOUNT}@{PROJECT_ID}.iam.gserviceaccount.com\""
   ]
  },
  {
   "cell_type": "markdown",
   "metadata": {
    "id": "pJe8TCr4ec4F"
   },
   "source": [
    "#### 在本地运行并发送请求给容器\n",
    "\n",
    "使用自定义预测例程功能，可以轻松地在本地测试容器。\n",
    "\n",
    "在这个例子中，容器会执行一个预测请求和一个健康检查。"
   ]
  },
  {
   "cell_type": "markdown",
   "metadata": {
    "id": "683355a5fb92"
   },
   "source": [
    "选项1. 传递本地路径\n",
    "\n",
    "这个选项要求`Predictor`中的`load`函数支持从GCS路径和本地路径加载模型工件。"
   ]
  },
  {
   "cell_type": "code",
   "execution_count": null,
   "metadata": {
    "id": "62ed2d334d0f"
   },
   "outputs": [],
   "source": [
    "with local_model.deploy_to_local_endpoint(\n",
    "    artifact_uri=f\"{LOCAL_MODEL_ARTIFACTS_DIR}\",\n",
    ") as local_endpoint:\n",
    "    predict_response = local_endpoint.predict(\n",
    "        request_file=INPUT_FILE,\n",
    "        headers={\"Content-Type\": \"application/json\"},\n",
    "    )\n",
    "\n",
    "    health_check_response = local_endpoint.run_health_check()"
   ]
  },
  {
   "cell_type": "markdown",
   "metadata": {
    "id": "390cdf8a2785"
   },
   "source": [
    "打印出预测响应及其内容。"
   ]
  },
  {
   "cell_type": "code",
   "execution_count": null,
   "metadata": {
    "id": "ce629eea32fd"
   },
   "outputs": [],
   "source": [
    "print(predict_response, predict_response.content)"
   ]
  },
  {
   "cell_type": "markdown",
   "metadata": {
    "id": "f3b96a38e827"
   },
   "source": [
    "打印出健康检查响应和其内容。"
   ]
  },
  {
   "cell_type": "code",
   "execution_count": null,
   "metadata": {
    "id": "56986f93438e"
   },
   "outputs": [],
   "source": [
    "print(health_check_response, health_check_response.content)"
   ]
  },
  {
   "cell_type": "markdown",
   "metadata": {
    "id": "a29fcbbe0188"
   },
   "source": [
    "也要打印出所有容器日志。您将看到容器启动、处理请求和关闭的日志。"
   ]
  },
  {
   "cell_type": "code",
   "execution_count": null,
   "metadata": {
    "id": "a9b6898488f2"
   },
   "outputs": [],
   "source": [
    "local_endpoint.print_container_logs(show_all=True)"
   ]
  },
  {
   "cell_type": "markdown",
   "metadata": {
    "id": "d6935978c9b4"
   },
   "source": [
    "选项2. 传递GCS路径\n",
    "\n",
    "如果您想要传递GCS路径，您需要在之前的步骤中设置好凭证，并在运行容器时传递路径给这些凭证。服务账户应该拥有“Storage Object Viewer”权限。"
   ]
  },
  {
   "cell_type": "code",
   "execution_count": null,
   "metadata": {
    "id": "62ed2d334d0f"
   },
   "outputs": [],
   "source": [
    "with local_model.deploy_to_local_endpoint(\n",
    "    artifact_uri=f\"{BUCKET_URI}/{MODEL_ARTIFACT_DIR}\",\n",
    "    credential_path=CREDENTIALS_FILE,\n",
    ") as local_endpoint:\n",
    "    predict_response = local_endpoint.predict(\n",
    "        request_file=INPUT_FILE,\n",
    "        headers={\"Content-Type\": \"application/json\"},\n",
    "    )\n",
    "\n",
    "    health_check_response = local_endpoint.run_health_check()"
   ]
  },
  {
   "cell_type": "markdown",
   "metadata": {
    "id": "8cf0b8568ee0"
   },
   "source": [
    "打印出预测响应及其内容。"
   ]
  },
  {
   "cell_type": "code",
   "execution_count": null,
   "metadata": {
    "id": "ce629eea32fd"
   },
   "outputs": [],
   "source": [
    "print(predict_response, predict_response.content)"
   ]
  },
  {
   "cell_type": "markdown",
   "metadata": {
    "id": "9c2ad3f29735"
   },
   "source": [
    "打印出健康检查的响应以及内容。"
   ]
  },
  {
   "cell_type": "code",
   "execution_count": null,
   "metadata": {
    "id": "56986f93438e"
   },
   "outputs": [],
   "source": [
    "print(health_check_response, health_check_response.content)"
   ]
  },
  {
   "cell_type": "markdown",
   "metadata": {
    "id": "a29fcbbe0188"
   },
   "source": [
    "还打印出所有的容器日志。您将看到容器启动、请求处理和容器拆除的日志。"
   ]
  },
  {
   "cell_type": "code",
   "execution_count": null,
   "metadata": {
    "id": "9c13b3f16e61"
   },
   "outputs": [],
   "source": [
    "local_endpoint.print_container_logs(show_all=True)"
   ]
  },
  {
   "cell_type": "markdown",
   "metadata": {
    "id": "212b2935ea12"
   },
   "source": [
    "### 将容器推送到工件注册表\n",
    "\n",
    "配置Docker以访问工件注册表。然后将您的容器映像推送到您的工件注册表存储库。\n",
    "\n",
    "打印出项目中所有已启用的服务。"
   ]
  },
  {
   "cell_type": "code",
   "execution_count": null,
   "metadata": {
    "id": "wSFXCj3LdluJ"
   },
   "outputs": [],
   "source": [
    "!gcloud services list"
   ]
  },
  {
   "cell_type": "markdown",
   "metadata": {
    "id": "ABE9UpwSdluK"
   },
   "source": [
    "如果您的项目中未启用 `artifactregistry.googleapis.com`，请在继续之前启用该API。"
   ]
  },
  {
   "cell_type": "code",
   "execution_count": null,
   "metadata": {
    "id": "qDhLoQMydluK"
   },
   "outputs": [],
   "source": [
    "!gcloud services enable artifactregistry.googleapis.com"
   ]
  },
  {
   "cell_type": "code",
   "execution_count": null,
   "metadata": {
    "id": "09ffe2434e3d"
   },
   "outputs": [],
   "source": [
    "!gcloud artifacts repositories create {REPOSITORY} \\\n",
    "    --repository-format=docker \\\n",
    "    --location=$REGION"
   ]
  },
  {
   "cell_type": "code",
   "execution_count": null,
   "metadata": {
    "id": "293437024749"
   },
   "outputs": [],
   "source": [
    "!gcloud auth configure-docker {REGION}-docker.pkg.dev --quiet"
   ]
  },
  {
   "cell_type": "markdown",
   "metadata": {
    "id": "af9c7d1a5759"
   },
   "source": [
    "使用SDK推送图像。"
   ]
  },
  {
   "cell_type": "code",
   "execution_count": null,
   "metadata": {
    "id": "1dd7448f4703"
   },
   "outputs": [],
   "source": [
    "local_model.push_image()"
   ]
  },
  {
   "cell_type": "markdown",
   "metadata": {
    "id": "b438bfa2129f"
   },
   "source": [
    "部署到Vertex AI"
   ]
  },
  {
   "cell_type": "markdown",
   "metadata": {
    "id": "4ae19df6a33e"
   },
   "source": [
    "###上传自定义容器模型"
   ]
  },
  {
   "cell_type": "code",
   "execution_count": null,
   "metadata": {
    "id": "8d682d8388ec"
   },
   "outputs": [],
   "source": [
    "from google.cloud import aiplatform"
   ]
  },
  {
   "cell_type": "code",
   "execution_count": null,
   "metadata": {
    "id": "574fb82d3eed"
   },
   "outputs": [],
   "source": [
    "aiplatform.init(project=PROJECT_ID, location=REGION)"
   ]
  },
  {
   "cell_type": "markdown",
   "metadata": {
    "id": "a2905493149a"
   },
   "source": [
    "使用LocalModel实例来上传模型。它将自动为您填充容器规格。"
   ]
  },
  {
   "cell_type": "code",
   "execution_count": null,
   "metadata": {
    "id": "2738154345d5"
   },
   "outputs": [],
   "source": [
    "model = aiplatform.Model.upload(\n",
    "    local_model=local_model,\n",
    "    display_name=MODEL_DISPLAY_NAME,\n",
    "    artifact_uri=f\"{BUCKET_URI}/{MODEL_ARTIFACT_DIR}\",\n",
    ")"
   ]
  },
  {
   "cell_type": "markdown",
   "metadata": {
    "id": "bd1b85afc7df"
   },
   "source": [
    "### 在 Vertex AI 上部署模型\n",
    "完成这一步后，模型已部署并准备好进行在线预测。"
   ]
  },
  {
   "cell_type": "code",
   "execution_count": null,
   "metadata": {
    "id": "62cf66498a28"
   },
   "outputs": [],
   "source": [
    "endpoint = model.deploy(machine_type=\"n1-standard-4\")"
   ]
  },
  {
   "cell_type": "markdown",
   "metadata": {
    "id": "6883e7b07143"
   },
   "source": [
    "发送预测\n",
    "\n",
    "使用Python SDK"
   ]
  },
  {
   "cell_type": "code",
   "execution_count": null,
   "metadata": {
    "id": "d69ed411c2d3"
   },
   "outputs": [],
   "source": [
    "endpoint.predict(instances=[[6.7, 3.1, 4.7, 1.5], [4.6, 3.1, 1.5, 0.2]])"
   ]
  },
  {
   "cell_type": "markdown",
   "metadata": {
    "id": "370d22f53427"
   },
   "source": [
    "### 使用 REST"
   ]
  },
  {
   "cell_type": "code",
   "execution_count": null,
   "metadata": {
    "id": "ba55bc560d58"
   },
   "outputs": [],
   "source": [
    "ENDPOINT_ID = endpoint.name"
   ]
  },
  {
   "cell_type": "code",
   "execution_count": null,
   "metadata": {
    "id": "95c562b4e98b"
   },
   "outputs": [],
   "source": [
    "! curl \\\n",
    "-H \"Authorization: Bearer $(gcloud auth print-access-token)\" \\\n",
    "-H \"Content-Type: application/json\" \\\n",
    "-d @instances.json \\\n",
    "https://{REGION}-aiplatform.googleapis.com/v1/projects/{PROJECT_ID}/locations/{REGION}/endpoints/{ENDPOINT_ID}:predict"
   ]
  },
  {
   "cell_type": "markdown",
   "metadata": {
    "id": "fa71174a7dd0"
   },
   "source": [
    "### 使用gcloud命令行界面"
   ]
  },
  {
   "cell_type": "code",
   "execution_count": null,
   "metadata": {
    "id": "23b8e807b02c"
   },
   "outputs": [],
   "source": [
    "!gcloud ai endpoints predict $ENDPOINT_ID \\\n",
    "  --region=$REGION \\\n",
    "  --json-request=instances.json"
   ]
  },
  {
   "cell_type": "markdown",
   "metadata": {
    "id": "TpV-iwP9qw9c"
   },
   "source": [
    "清理\n",
    "\n",
    "要清理此项目中使用的所有 Google Cloud 资源，您可以删除用于教程的[Google Cloud 项目](https://cloud.google.com/resource-manager/docs/creating-managing-projects#shutting_down_projects)。\n",
    "\n",
    "否则，您可以删除此教程中创建的各个资源。"
   ]
  },
  {
   "cell_type": "code",
   "execution_count": null,
   "metadata": {
    "id": "sx_vKniMq9ZX"
   },
   "outputs": [],
   "source": [
    "# Undeploy model and delete endpoint\n",
    "endpoint.delete(force=True)\n",
    "\n",
    "# Delete the model resource\n",
    "model.delete()\n",
    "\n",
    "# Delete the container image from Artifact Registry\n",
    "!gcloud artifacts docker images delete \\\n",
    "    --quiet \\\n",
    "    --delete-tags \\\n",
    "    {REGION}-docker.pkg.dev/{PROJECT_ID}/{REPOSITORY}/{IMAGE}\n",
    "\n",
    "delete_bucket = False\n",
    "\n",
    "if delete_bucket or os.getenv(\"IS_TESTING\"):\n",
    "    ! gsutil rm -r $BUCKET_URI"
   ]
  }
 ],
 "metadata": {
  "colab": {
   "collapsed_sections": [],
   "name": "SDK_Custom_Predict_SDK_Integration.ipynb",
   "toc_visible": true
  },
  "kernelspec": {
   "display_name": "Python 3",
   "name": "python3"
  }
 },
 "nbformat": 4,
 "nbformat_minor": 0
}
