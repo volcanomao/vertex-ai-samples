{
 "cells": [
  {
   "cell_type": "code",
   "execution_count": null,
   "metadata": {
    "id": "ur8xi4C7S06n"
   },
   "outputs": [],
   "source": [
    "# Copyright 2022 Google LLC\n",
    "#\n",
    "# Licensed under the Apache License, Version 2.0 (the \"License\");\n",
    "# you may not use this file except in compliance with the License.\n",
    "# You may obtain a copy of the License at\n",
    "#\n",
    "#     https://www.apache.org/licenses/LICENSE-2.0\n",
    "#\n",
    "# Unless required by applicable law or agreed to in writing, software\n",
    "# distributed under the License is distributed on an \"AS IS\" BASIS,\n",
    "# WITHOUT WARRANTIES OR CONDITIONS OF ANY KIND, either express or implied.\n",
    "# See the License for the specific language governing permissions and\n",
    "# limitations under the License."
   ]
  },
  {
   "cell_type": "markdown",
   "metadata": {
    "id": "16631b027eee"
   },
   "source": [
    "<table align=\"left\">\n",
    "  <td>\n",
    "    <a href=\"https://github.com/GoogleCloudPlatform/vertex-ai-samples/blob/main/notebooks/community/prediction/feature_store_integration/prediction_feature_store_integration.ipynb\">\n",
    "      <img src=\"https://cloud.google.com/ml-engine/images/github-logo-32px.png\" alt=\"GitHub logo\">\n",
    "      查看GitHub\n",
    "    </a>\n",
    "  </td>\n",
    "  <td>\n",
    "    <a href=\"https://console.cloud.google.com/vertex-ai/workbench/deploy-notebook?download_url=https://raw.githubusercontent.com/GoogleCloudPlatform/vertex-ai-samples/main/notebooks/community/prediction/feature_store_integration/prediction_feature_store_integration.ipynb\">\n",
    "      <img src=\"https://lh3.googleusercontent.com/UiNooY4LUgW_oTvpsNhPpQzsstV5W8F7rYgxgGBD85cWJoLmrOzhVs_ksK_vgx40SHs7jCqkTkCk=e14-rj-sc0xffffff-h130-w32\" alt=\"Vertex AI logo\">\n",
    "      在Vertex AI Workbench中打开\n",
    "    </a>\n",
    "  </td>\n",
    "</table>"
   ]
  },
  {
   "cell_type": "markdown",
   "metadata": {
    "id": "0a2a426f71c0"
   },
   "source": [
    "## 概述\n",
    "\n",
    "本笔记本演示了如何在 Vertex AI 上部署和提供模型，并集成特征存储。该集成使特征值能够在“预测”请求期间直接从特征存储中提取，而无需在预测请求中明确指定特征值。\n",
    "\n",
    "**这是一个实验性版本**，受[Pre-GA提供](https://cloud.google.com/terms/service-terms)条款的覆盖范围，适用于您的Google Cloud Platform[服务条款](https://cloud.google.com/terms)。\n",
    "\n",
    "实验功能专注于验证原型，并无法保证发布。它们不适用于生产环境，也不受任何SLA、支持义务或过时政策的覆盖，并可能会受到不兼容性变更的影响。它们的可靠性标准也可能不符合GA产品的标准。\n",
    "\n",
    "在实验版本期间，使用该产品进行模型部署和提供是免费的：您仍将为其他GCP产品的使用产生费用，例如特征存储、存储等。\n",
    "\n",
    "**在运行任何规模测试之前，请给我们留言。**\n",
    "\n",
    "**如果您有任何问题或遇到任何问题，请随时联系vertexai-prediction-preview-feedback@google.com。**\n",
    "\n",
    "项目需要被允许访问此功能。如果您有兴趣，请发送电子邮件到vertexai-prediction-preview-feedback@google.com，并提供您的项目编号或项目ID。\n",
    "\n",
    "本笔记本中使用的数据集和模型基于此[预测和特征存储在线提供笔记本](https://github.com/GoogleCloudPlatform/vertex-ai-samples/blob/main/notebooks/community/feature_store/mobile_gaming/mobile_gaming_feature_store.ipynb)和[这篇博客文章](https://cloud.google.com/blog/topics/developers-practitioners/churn-prediction-game-developers-using-google-analytics-4-ga4-and-bigquery-ml)。"
   ]
  },
  {
   "cell_type": "markdown",
   "metadata": {
    "id": "04c030a6aefc"
   },
   "source": [
    "## 简介\n",
    "\n",
    "在此之前，当使用Vertex AI Feature Store来存储和获取用于预测的特征时，用户必须先调用Feature Store来获取特征，然后将这些特征发送到Vertex AI Prediction Service中进行预测请求。用户经常在将预测实例发送到预测容器之前或之后执行特征转换。这导致用户端需要进行大量的编排工作。\n",
    "\n",
    "\n",
    "为了让我们的用户更容易地同时使用Feature Store和Prediction服务，我们提供了Feature Store和Prediction服务之间的内置集成。用户现在可以在上传模型到模型注册表时上传一个配置。这个配置包含了模型需要的特征信息，这些特征存储在Vertex AI Feature Store中，以及如何构建部署模型的预测请求。在预测路径上，用户只需提供Feature Store中存储的实体的ID，或者任何他们想要覆盖的特征。Vertex AI将负责读取所有特征，构建和执行预测请求，并返回最终的预测响应。\n",
    "\n",
    "\n",
    "**我为什么要关心这个集成？**\n",
    "- 只需通过一次调用在线预测服务进行预测，而不是调用两个单独的服务（一个或多个调用Feature Store和一个调用Prediction服务）\n",
    "- 用户需要编写和维护的代码更少，因为他们不需要将Feature Store的响应转换为部署模型接受的格式。\n",
    "- 发送预测请求到已部署模型的客户端无需担心模型接受的特征。因此，构建模型的数据科学团队可以继续进行实验，而无需让每个客户端在添加/删除/修改特征时更改他们的代码。因此，这将导致组织中更快的迭代。\n",
    "- 模型-特征血统可以轻松明确地跟踪。"
   ]
  },
  {
   "cell_type": "markdown",
   "metadata": {
    "id": "87c41242da9b"
   },
   "source": [
    "### 目标\n",
    "\n",
    "目标是：\n",
    "- 建立一个包含移动游戏用户人口统计和行为数据的特征存储。\n",
    "- 学习如何为 Vertex Prediction 编写特征获取配置。\n",
    "- 使用预先训练的流失模型将特征存储集成模型部署到 Vertex Prediction。\n",
    "- 发送一个 `predict` 请求到部署的模型，实时从特征存储获取特征值。\n",
    "- 学习如何使用身份模型调试一个特征存储集成模型。"
   ]
  },
  {
   "cell_type": "markdown",
   "metadata": {
    "id": "37bfd7e17503"
   },
   "source": [
    "### 数据集\n",
    "\n",
    "该数据集是一款名为“Flood It!”的实际移动游戏应用的公共样本导出数据（[安卓](https://play.google.com/store/apps/details?id=com.labpixies.flood&pli=1)，[iOS](https://apps.apple.com/us/app/flood-it/id476943146)）。"
   ]
  },
  {
   "cell_type": "markdown",
   "metadata": {
    "id": "bb819819a5c9"
   },
   "source": [
    "### 模型\n",
    "\n",
    "这个笔记本中使用的模型是基于[这篇博文](https://cloud.google.com/blog/topics/developers-practitioners/churn-prediction-game-developers-using-google-analytics-4-ga4-and-bigquery-ml)的。该模型预测用户流失的概率。[原始数据](https://console.cloud.google.com/bigquery?p=firebase-public-project&d=analytics_153293282&t=events_20181003&page=table&_ga=2.214026135.-1049105954.1678419790)包含以下信息类别：\n",
    "\n",
    "- 身份 - 独特的玩家身份编号。\n",
    "- 人口统计特征 - 关于玩家的信息，比如玩家所在地理区域。\n",
    "- 行为特征 - 玩家触发特定游戏事件的次数，比如达到新的等级。\n",
    "- 流失倾向 - 这是标签或目标特征，提供了该玩家将流失的估计概率，即停止成为活跃玩家。\n",
    "\n",
    "上面引用的博文解释了如何使用BigQuery存储原始数据，为机器学习预处理数据，并训练相应的模型。因为这个笔记本专注于Vertex Prediction，我们将重用该模型的预训练版本，可以从 `gs://featurestore_integration/model` 下载。\n",
    "\n",
    "该模型按类别的特征列表：\n",
    "- 人口统计特征：\n",
    "  - `country`\n",
    "  - `operating_system`\n",
    "  - `language`\n",
    "  - `user_pseudo_id`\n",
    "- 行为特征：\n",
    "  - `cnt_user_engagement`\n",
    "  - `cnt_level_start_quickplay`\n",
    "  - `cnt_level_end_quickplay`\n",
    "  - `cnt_level_complete_quickplay`\n",
    "  - `cnt_level_reset_quickplay`\n",
    "  - `cnt_post_score`\n",
    "  - `cnt_spend_virtual_currency`\n",
    "  - `cnt_ad_reward`\n",
    "  - `cnt_challenge_a_friend`\n",
    "  - `cnt_completed_5_levels`\n",
    "  - `cnt_use_extra_steps`\n",
    "  - `month`\n",
    "  - `julianday`\n",
    "  - `dayofweek`\n",
    "- 标签：\n",
    "  - `churned`"
   ]
  },
  {
   "cell_type": "markdown",
   "metadata": {
    "id": "d9a4fd2594ca"
   },
   "source": [
    "### 成本\n",
    "\n",
    "本教程使用Google Cloud的计费组件：\n",
    "\n",
    "- Google Cloud存储\n",
    "- Vertex AI 特征存储\n",
    "\n",
    "了解 [Vertex AI 定价](https://cloud.google.com/vertex-ai/pricing)，并使用 [定价计算器](https://cloud.google.com/products/calculator/) 根据您的预期使用量生成成本估算。\n",
    "\n",
    "此功能不会为 Vertex AI 预测计费。"
   ]
  },
  {
   "cell_type": "markdown",
   "metadata": {
    "id": "ze4-nDLfK4pw"
   },
   "source": [
    "### 设置您的本地开发环境\n",
    "\n",
    "**如果您正在使用 Vertex AI Workbench 笔记本**，则您的环境已经满足运行此笔记本的所有要求。 您可以跳过此步骤。"
   ]
  },
  {
   "cell_type": "markdown",
   "metadata": {
    "id": "gCuSR8GkAgzl"
   },
   "source": [
    "否则，请确保您的环境符合此笔记本的要求。\n",
    "您需要以下内容：\n",
    "\n",
    "* Docker\n",
    "* Git\n",
    "* Google Cloud SDK（gcloud）\n",
    "* Python 3\n",
    "* 虚拟环境\n",
    "* 在使用 Python 3 的虚拟环境中运行的 Jupyter 笔记本\n",
    "\n",
    "Google Cloud 的[设置Python开发环境指南](https://cloud.google.com/python/setup)和[Jupyter安装指南](https://jupyter.org/install)提供了满足这些要求的详细说明。以下步骤提供了一个简化的指导：\n",
    "\n",
    "1. [安装并初始化Cloud SDK。](https://cloud.google.com/sdk/docs/)\n",
    "\n",
    "1. [安装Python 3。](https://cloud.google.com/python/setup#installing_python)\n",
    "\n",
    "1. [安装virtualenv](https://cloud.google.com/python/setup#installing_and_using_virtualenv)并创建一个使用Python 3的虚拟环境。激活虚拟环境。\n",
    "\n",
    "1. 要安装Jupyter，请在终端窗口中的命令行中运行`pip install jupyter`。\n",
    "\n",
    "1. 要启动Jupyter，请在终端窗口中的命令行中运行`jupyter notebook`。\n",
    "\n",
    "1. 在Jupyter Notebook Dashboard中打开此笔记本。"
   ]
  },
  {
   "cell_type": "markdown",
   "metadata": {
    "id": "2ced96588e13"
   },
   "source": [
    "### 安装额外的软件包\n",
    "\n",
    "在您的笔记本环境中安装尚未安装的额外软件包依赖项。"
   ]
  },
  {
   "cell_type": "code",
   "execution_count": null,
   "metadata": {
    "id": "4811add5cd1c"
   },
   "outputs": [],
   "source": [
    "! pip install google-cloud-aiplatform"
   ]
  },
  {
   "cell_type": "markdown",
   "metadata": {
    "id": "f55ce5546af6"
   },
   "source": [
    "重新启动内核\n",
    "\n",
    "在安装额外的软件包之后，您需要重新启动笔记本内核，以便它可以找到这些软件包。"
   ]
  },
  {
   "cell_type": "code",
   "execution_count": null,
   "metadata": {
    "id": "aa1d87bdc90b"
   },
   "outputs": [],
   "source": [
    "# Automatically restart kernel after installs\n",
    "import os\n",
    "\n",
    "if not os.getenv(\"IS_TESTING\"):\n",
    "    # Automatically restart kernel after installs\n",
    "    import IPython\n",
    "\n",
    "    app = IPython.Application.instance()\n",
    "    app.kernel.do_shutdown(True)"
   ]
  },
  {
   "cell_type": "markdown",
   "metadata": {
    "id": "c7947573e336"
   },
   "source": [
    "### 设立项目"
   ]
  },
  {
   "cell_type": "code",
   "execution_count": null,
   "metadata": {
    "id": "94f36c0f4a00"
   },
   "outputs": [],
   "source": [
    "import os\n",
    "\n",
    "PROJECT_ID = \"\"\n",
    "\n",
    "# Get your Google Cloud project ID from gcloud\n",
    "if not os.getenv(\"IS_TESTING\"):\n",
    "    shell_output = !gcloud config list --format 'value(core.project)' 2>/dev/null\n",
    "    PROJECT_ID = shell_output[0]\n",
    "    print(\"Project ID: \", PROJECT_ID)"
   ]
  },
  {
   "cell_type": "code",
   "execution_count": null,
   "metadata": {
    "id": "7d439758446b"
   },
   "outputs": [],
   "source": [
    "if PROJECT_ID == \"\" or PROJECT_ID is None:\n",
    "    PROJECT_ID = \"[your-project-id]\"  # @param {type:\"string\"}"
   ]
  },
  {
   "cell_type": "code",
   "execution_count": null,
   "metadata": {
    "id": "56a76e9ebc4d"
   },
   "outputs": [],
   "source": [
    "shell_output = ! gcloud projects list --filter=\"PROJECT_ID:'{PROJECT_ID}'\" --format='value(PROJECT_NUMBER)'\n",
    "PROJECT_NUMBER = shell_output[0]\n",
    "print(\"Project Number:\", PROJECT_NUMBER)"
   ]
  },
  {
   "cell_type": "code",
   "execution_count": null,
   "metadata": {
    "id": "a74685b6ae29"
   },
   "outputs": [],
   "source": [
    "! gcloud config set project $PROJECT_ID"
   ]
  },
  {
   "cell_type": "markdown",
   "metadata": {
    "id": "cba67853cf0b"
   },
   "source": [
    "将您选择使用的区域设置。"
   ]
  },
  {
   "cell_type": "code",
   "execution_count": null,
   "metadata": {
    "id": "7fdcbacfa8ad"
   },
   "outputs": [],
   "source": [
    "REGION = \"\"\n",
    "\n",
    "if REGION == \"\" or REGION is None:\n",
    "    REGION = \"us-central1\""
   ]
  },
  {
   "cell_type": "markdown",
   "metadata": {
    "id": "17c464cec341"
   },
   "source": [
    "时间戳\n",
    "\n",
    "这个时间戳将用于预防资源名称冲突。"
   ]
  },
  {
   "cell_type": "code",
   "execution_count": null,
   "metadata": {
    "id": "9fa11b3e7936"
   },
   "outputs": [],
   "source": [
    "from datetime import datetime\n",
    "\n",
    "TIMESTAMP = datetime.now().strftime(\"%Y%m%d%H%M%S\")"
   ]
  },
  {
   "cell_type": "markdown",
   "metadata": {
    "id": "5e0fb97d6170"
   },
   "source": [
    "###模型工件存储桶设置"
   ]
  },
  {
   "cell_type": "markdown",
   "metadata": {
    "id": "2f52dced4061"
   },
   "source": [
    "创建一个 bucket 并将预训练模型复制到其中。"
   ]
  },
  {
   "cell_type": "code",
   "execution_count": null,
   "metadata": {
    "id": "12c9381edd2a"
   },
   "outputs": [],
   "source": [
    "BUCKET_NAME = \"[your-bucket-name]\"  # @param {type:\"string\"}\n",
    "BUCKET_URI = f\"gs://{BUCKET_NAME}\""
   ]
  },
  {
   "cell_type": "code",
   "execution_count": null,
   "metadata": {
    "id": "50c6cda053e1"
   },
   "outputs": [],
   "source": [
    "if BUCKET_NAME == \"\" or BUCKET_NAME is None or BUCKET_NAME == \"[your-bucket-name]\":\n",
    "    BUCKET_NAME = PROJECT_ID + \"-mobile-gaming-model-\" + TIMESTAMP\n",
    "    BUCKET_URI = f\"gs://{BUCKET_NAME}\""
   ]
  },
  {
   "cell_type": "markdown",
   "metadata": {
    "id": "197c22fada47"
   },
   "source": [
    "只有您的存储桶尚不存在时：运行以下单元格以创建您的云存储桶。"
   ]
  },
  {
   "cell_type": "code",
   "execution_count": null,
   "metadata": {
    "id": "2de44a514cd1"
   },
   "outputs": [],
   "source": [
    "! gsutil mb -l $REGION -p $PROJECT_ID $BUCKET_URI"
   ]
  },
  {
   "cell_type": "code",
   "execution_count": null,
   "metadata": {
    "id": "ca57dc423195"
   },
   "outputs": [],
   "source": [
    "! gsutil ls -al $BUCKET_URI"
   ]
  },
  {
   "cell_type": "markdown",
   "metadata": {
    "id": "0a6202578b94"
   },
   "source": [
    "将经过训练的模型复制到您的存储桶中。"
   ]
  },
  {
   "cell_type": "code",
   "execution_count": null,
   "metadata": {
    "id": "05a8f87d7de3"
   },
   "outputs": [],
   "source": [
    "ARTIFACT_URI = BUCKET_URI + \"/model\""
   ]
  },
  {
   "cell_type": "code",
   "execution_count": null,
   "metadata": {
    "id": "6b2501fc7f01"
   },
   "outputs": [],
   "source": [
    "! gsutil cp -r gs://featurestore_integration/model/* $ARTIFACT_URI"
   ]
  },
  {
   "cell_type": "markdown",
   "metadata": {
    "id": "56a185de336f"
   },
   "source": [
    "## 特征存储设置\n",
    "\n",
    "首先，您需要设置一个特征存储来托管数据。"
   ]
  },
  {
   "cell_type": "markdown",
   "metadata": {
    "id": "d3938f6d37a1"
   },
   "source": [
    "导入顶点AI库"
   ]
  },
  {
   "cell_type": "code",
   "execution_count": null,
   "metadata": {
    "id": "7759fe720d45"
   },
   "outputs": [],
   "source": [
    "# Vertex AI and its Feature Store\n",
    "from google.cloud import aiplatform\n",
    "from google.cloud.aiplatform import Featurestore"
   ]
  },
  {
   "cell_type": "code",
   "execution_count": null,
   "metadata": {
    "id": "7def96de8098"
   },
   "outputs": [],
   "source": [
    "aiplatform.init(project=PROJECT_ID, location=REGION)"
   ]
  },
  {
   "cell_type": "markdown",
   "metadata": {
    "id": "85f09125566f"
   },
   "source": [
    "创建特征存储。"
   ]
  },
  {
   "cell_type": "code",
   "execution_count": null,
   "metadata": {
    "id": "363c77a9e9e3"
   },
   "outputs": [],
   "source": [
    "FEATURESTORE_ID = \"mobile_gaming_\" + TIMESTAMP  # @param {type:\"string\"}\n",
    "\n",
    "# Vertex AI Feature store\n",
    "ONLINE_STORE_NODES_COUNT = 5\n",
    "DEMOGRAPHIC_ENTITY_ID = \"demographic\"\n",
    "BEHAVIOR_ENTITY_ID = \"behavior\"\n",
    "FEATURE_TIME = \"timestamp\"\n",
    "ENTITY_ID_FIELD = \"user_pseudo_id\""
   ]
  },
  {
   "cell_type": "markdown",
   "metadata": {
    "id": "bcaa5c3644f0"
   },
   "source": [
    "我们将使用在这篇[博客文章](https://cloud.google.com/blog/topics/developers-practitioners/churn-prediction-game-developers-using-google-analytics-4-ga4-and-bigquery-ml)中使用的数据集的导出样本数据。"
   ]
  },
  {
   "cell_type": "code",
   "execution_count": null,
   "metadata": {
    "id": "764aa2b60016"
   },
   "outputs": [],
   "source": [
    "try:\n",
    "    mobile_gaming_feature_store = Featurestore.create(\n",
    "        featurestore_id=FEATURESTORE_ID,\n",
    "        online_store_fixed_node_count=ONLINE_STORE_NODES_COUNT,\n",
    "        sync=True,\n",
    "    )\n",
    "except RuntimeError as error:\n",
    "    print(error)\n",
    "else:\n",
    "    FEATURESTORE_RESOURCE_NAME = mobile_gaming_feature_store.resource_name\n",
    "    print(f\"Feature store created: {FEATURESTORE_RESOURCE_NAME}\")"
   ]
  },
  {
   "cell_type": "markdown",
   "metadata": {
    "id": "7d4ff784a9f7"
   },
   "source": [
    "### 创建实体"
   ]
  },
  {
   "cell_type": "code",
   "execution_count": null,
   "metadata": {
    "id": "51e62e67d4e8"
   },
   "outputs": [],
   "source": [
    "try:\n",
    "    demographic_entity_type = mobile_gaming_feature_store.create_entity_type(\n",
    "        entity_type_id=DEMOGRAPHIC_ENTITY_ID,\n",
    "        description=\"User demographic Entity\",\n",
    "        sync=True,\n",
    "    )\n",
    "except RuntimeError as error:\n",
    "    print(error)\n",
    "else:\n",
    "    DEMOGRAPHIC_ENTITY_RESOURCE_NAME = demographic_entity_type.resource_name\n",
    "    print(\"Entity type name is\", DEMOGRAPHIC_ENTITY_RESOURCE_NAME)"
   ]
  },
  {
   "cell_type": "code",
   "execution_count": null,
   "metadata": {
    "id": "6ae913f7e9cc"
   },
   "outputs": [],
   "source": [
    "try:\n",
    "    behavior_entity_type = mobile_gaming_feature_store.create_entity_type(\n",
    "        entity_type_id=BEHAVIOR_ENTITY_ID, description=\"User behavior Entity\", sync=True\n",
    "    )\n",
    "except RuntimeError as error:\n",
    "    print(error)\n",
    "else:\n",
    "    BEHAVIOR_ENTITY_RESOURCE_NAME = behavior_entity_type.resource_name\n",
    "    print(\"Entity type name is\", BEHAVIOR_ENTITY_RESOURCE_NAME)"
   ]
  },
  {
   "cell_type": "markdown",
   "metadata": {
    "id": "ae2b5655049b"
   },
   "source": [
    "### 创建特征"
   ]
  },
  {
   "cell_type": "markdown",
   "metadata": {
    "id": "809f781e797a"
   },
   "source": [
    "特性配置"
   ]
  },
  {
   "cell_type": "code",
   "execution_count": null,
   "metadata": {
    "id": "22d855f118ea"
   },
   "outputs": [],
   "source": [
    "demographic_feature_configs = {\n",
    "    \"country\": {\n",
    "        \"value_type\": \"STRING\",\n",
    "        \"description\": \"The country of customer\",\n",
    "        \"labels\": {\"status\": \"passed\"},\n",
    "    },\n",
    "    \"operating_system\": {\n",
    "        \"value_type\": \"STRING\",\n",
    "        \"description\": \"The operating system of device\",\n",
    "        \"labels\": {\"status\": \"passed\"},\n",
    "    },\n",
    "    \"language\": {\n",
    "        \"value_type\": \"STRING\",\n",
    "        \"description\": \"The language of device\",\n",
    "        \"labels\": {\"status\": \"passed\"},\n",
    "    },\n",
    "    \"user_pseudo_id\": {\n",
    "        \"value_type\": \"STRING\",\n",
    "        \"description\": \"User pseudo id\",\n",
    "        \"labels\": {\"status\": \"passed\"},\n",
    "    },\n",
    "}\n",
    "\n",
    "behavior_feature_configs = {\n",
    "    \"cnt_user_engagement\": {\n",
    "        \"value_type\": \"DOUBLE\",\n",
    "        \"description\": \"A variable of user engagement level\",\n",
    "        \"labels\": {\"status\": \"passed\"},\n",
    "    },\n",
    "    \"cnt_level_start_quickplay\": {\n",
    "        \"value_type\": \"DOUBLE\",\n",
    "        \"description\": \"A variable of user engagement with start level\",\n",
    "        \"labels\": {\"status\": \"passed\"},\n",
    "    },\n",
    "    \"cnt_level_end_quickplay\": {\n",
    "        \"value_type\": \"DOUBLE\",\n",
    "        \"description\": \"A variable of user engagement with end level\",\n",
    "        \"labels\": {\"status\": \"passed\"},\n",
    "    },\n",
    "    \"cnt_level_complete_quickplay\": {\n",
    "        \"value_type\": \"DOUBLE\",\n",
    "        \"description\": \"A variable of user engagement with complete status\",\n",
    "        \"labels\": {\"status\": \"passed\"},\n",
    "    },\n",
    "    \"cnt_level_reset_quickplay\": {\n",
    "        \"value_type\": \"DOUBLE\",\n",
    "        \"description\": \"A variable of user engagement with reset status\",\n",
    "        \"labels\": {\"status\": \"passed\"},\n",
    "    },\n",
    "    \"cnt_post_score\": {\n",
    "        \"value_type\": \"DOUBLE\",\n",
    "        \"description\": \"A variable of user score\",\n",
    "        \"labels\": {\"status\": \"passed\"},\n",
    "    },\n",
    "    \"cnt_spend_virtual_currency\": {\n",
    "        \"value_type\": \"DOUBLE\",\n",
    "        \"description\": \"A variable of user virtual amount\",\n",
    "        \"labels\": {\"status\": \"passed\"},\n",
    "    },\n",
    "    \"cnt_ad_reward\": {\n",
    "        \"value_type\": \"DOUBLE\",\n",
    "        \"description\": \"A variable of user reward\",\n",
    "        \"labels\": {\"status\": \"passed\"},\n",
    "    },\n",
    "    \"cnt_challenge_a_friend\": {\n",
    "        \"value_type\": \"DOUBLE\",\n",
    "        \"description\": \"A variable of user challenges with friends\",\n",
    "        \"labels\": {\"status\": \"passed\"},\n",
    "    },\n",
    "    \"cnt_completed_5_levels\": {\n",
    "        \"value_type\": \"DOUBLE\",\n",
    "        \"description\": \"A variable of user level 5 completed\",\n",
    "        \"labels\": {\"status\": \"passed\"},\n",
    "    },\n",
    "    \"cnt_use_extra_steps\": {\n",
    "        \"value_type\": \"DOUBLE\",\n",
    "        \"description\": \"A variable of user extra steps\",\n",
    "        \"labels\": {\"status\": \"passed\"},\n",
    "    },\n",
    "    \"month\": {\n",
    "        \"value_type\": \"INT64\",\n",
    "        \"description\": \"First touch month\",\n",
    "        \"labels\": {\"status\": \"passed\"},\n",
    "    },\n",
    "    \"julianday\": {\n",
    "        \"value_type\": \"INT64\",\n",
    "        \"description\": \"First touch julian day\",\n",
    "        \"labels\": {\"status\": \"passed\"},\n",
    "    },\n",
    "    \"dayofweek\": {\n",
    "        \"value_type\": \"INT64\",\n",
    "        \"description\": \"First touch day of week\",\n",
    "        \"labels\": {\"status\": \"passed\"},\n",
    "    },\n",
    "}"
   ]
  },
  {
   "cell_type": "markdown",
   "metadata": {
    "id": "1b72bf136987"
   },
   "source": [
    "使用`batch_create_features`方法创建特征。"
   ]
  },
  {
   "cell_type": "code",
   "execution_count": null,
   "metadata": {
    "id": "9c2769834702"
   },
   "outputs": [],
   "source": [
    "try:\n",
    "    demographic_entity_type.batch_create_features(\n",
    "        feature_configs=demographic_feature_configs, sync=True\n",
    "    )\n",
    "except RuntimeError as error:\n",
    "    print(error)\n",
    "else:\n",
    "    for feature in demographic_entity_type.list_features():\n",
    "        print(\"\")\n",
    "        print(f\"The resource name of {feature.name} feature is\", feature.resource_name)"
   ]
  },
  {
   "cell_type": "code",
   "execution_count": null,
   "metadata": {
    "id": "68b07d3b2bf0"
   },
   "outputs": [],
   "source": [
    "try:\n",
    "    behavior_entity_type.batch_create_features(\n",
    "        feature_configs=behavior_feature_configs, sync=True\n",
    "    )\n",
    "except RuntimeError as error:\n",
    "    print(error)\n",
    "else:\n",
    "    for feature in behavior_entity_type.list_features():\n",
    "        print(\"\")\n",
    "        print(f\"The resource name of {feature.name} feature is\", feature.resource_name)"
   ]
  },
  {
   "cell_type": "markdown",
   "metadata": {
    "id": "34bf9fc11ae3"
   },
   "source": [
    "摄入功能"
   ]
  },
  {
   "cell_type": "markdown",
   "metadata": {
    "id": "b1bb35360a5e"
   },
   "source": [
    "首先将数据复制到您的存储桶中。"
   ]
  },
  {
   "cell_type": "code",
   "execution_count": null,
   "metadata": {
    "id": "5f389df7a94e"
   },
   "outputs": [],
   "source": [
    "SOURCE_URI = BUCKET_URI + \"/feature_store_source/mobile_gaming_dataset.csv\""
   ]
  },
  {
   "cell_type": "code",
   "execution_count": null,
   "metadata": {
    "id": "516af072eb58"
   },
   "outputs": [],
   "source": [
    "! gsutil cp gs://featurestore_integration/data/mobile_gaming_dataset.csv $SOURCE_URI"
   ]
  },
  {
   "cell_type": "code",
   "execution_count": null,
   "metadata": {
    "id": "92e92c854028"
   },
   "outputs": [],
   "source": [
    "DEMOGRAPHIC_FEATURES_IDS = [\n",
    "    feature.name for feature in demographic_entity_type.list_features()\n",
    "]"
   ]
  },
  {
   "cell_type": "code",
   "execution_count": null,
   "metadata": {
    "id": "50a7e935a870"
   },
   "outputs": [],
   "source": [
    "# This may take several minutes to run\n",
    "\n",
    "try:\n",
    "    demographic_entity_type.ingest_from_gcs(\n",
    "        feature_ids=DEMOGRAPHIC_FEATURES_IDS,\n",
    "        feature_time=FEATURE_TIME,\n",
    "        gcs_source_uris=SOURCE_URI,\n",
    "        gcs_source_type=\"csv\",\n",
    "        entity_id_field=ENTITY_ID_FIELD,\n",
    "        disable_online_serving=False,\n",
    "        worker_count=10,\n",
    "        sync=True,\n",
    "    )\n",
    "except RuntimeError as error:\n",
    "    print(error)"
   ]
  },
  {
   "cell_type": "code",
   "execution_count": null,
   "metadata": {
    "id": "dcbb4fa32e40"
   },
   "outputs": [],
   "source": [
    "BEHAVIOR_FEATURES_IDS = [\n",
    "    feature.name for feature in behavior_entity_type.list_features()\n",
    "]"
   ]
  },
  {
   "cell_type": "code",
   "execution_count": null,
   "metadata": {
    "id": "a36facc52807"
   },
   "outputs": [],
   "source": [
    "# This may take several minutes to run\n",
    "\n",
    "try:\n",
    "    behavior_entity_type.ingest_from_gcs(\n",
    "        feature_ids=BEHAVIOR_FEATURES_IDS,\n",
    "        feature_time=FEATURE_TIME,\n",
    "        gcs_source_uris=SOURCE_URI,\n",
    "        gcs_source_type=\"csv\",\n",
    "        entity_id_field=ENTITY_ID_FIELD,\n",
    "        disable_online_serving=False,\n",
    "        worker_count=10,\n",
    "        sync=True,\n",
    "    )\n",
    "except RuntimeError as error:\n",
    "    print(error)"
   ]
  },
  {
   "cell_type": "markdown",
   "metadata": {
    "id": "070b37a5ffcb"
   },
   "source": [
    "现在我们已经建立了我们的特征存储，让我们尝试为一个样本实体获取特征。"
   ]
  },
  {
   "cell_type": "code",
   "execution_count": null,
   "metadata": {
    "id": "31e281294a63"
   },
   "outputs": [],
   "source": [
    "demographic_entity_type.read(entity_ids=\"AB0F2EE5F9F401763BE1E9FA55410312\")"
   ]
  },
  {
   "cell_type": "code",
   "execution_count": null,
   "metadata": {
    "id": "f63fd2617fdf"
   },
   "outputs": [],
   "source": [
    "behavior_entity_type.read(entity_ids=\"AB0F2EE5F9F401763BE1E9FA55410312\")"
   ]
  },
  {
   "cell_type": "markdown",
   "metadata": {
    "id": "bec74a816daf"
   },
   "source": [
    "## 为顶点预测提取配置文件"
   ]
  },
  {
   "cell_type": "markdown",
   "metadata": {
    "id": "43e66d6d33fd"
   },
   "source": [
    "为了启用模型部署的特征获取功能，文件 `prediction_featurestore_fetch_config.yaml` 必须包含在 `artifacts_uri` 路径中。\n",
    "\n",
    "这个 yaml 文件的目的是指定以下信息：\n",
    "- 要从哪个**特征存储**（位置、项目 ID、特征存储 ID）中获取特征。\n",
    "- 与要获取的特征对应的**特征名称**（即特征 ID）。\n",
    "- 如何从用户提供的预测请求和获取的特征构建**预测请求**。\n",
    "- 在预测时，从哪些**实体**中获取特征。\n",
    "\n",
    "该 yaml 文件必须符合以下协议。"
   ]
  },
  {
   "cell_type": "markdown",
   "metadata": {
    "id": "b1131367aeec"
   },
   "source": [
    "### 特性获取配置协议：\n",
    "\n",
    "```protobuf\n",
    "message FeatureFetchConfig {\n",
    "  // 在获取特征后自动生成的内部预测请求的格式。目前预测支持XGBoost，TensorFlow，\n",
    "  // scikit-learn，Pytorch和自定义容器。在这些框架中，XGBoost只支持数组输入格式（即输入特征以数组形式呈现），\n",
    "  // 而其他三个框架可以同时支持字典格式和数组格式的输入。\n",
    "  ModelInputFormat model_input_format = 3;\n",
    "  enum ModelInputFormat {\n",
    "    MODEL_INPUT_FORMAT_UNSPECIFIED = 0;\n",
    "    ARRAY = 1;\n",
    "    DICT = 2;\n",
    "  }\n",
    "\n",
    "  message FeatureSource {\n",
    "    // 必填。实体类型的完全限定名称，例如：\n",
    "    // \"projects/acme/locations/us-central1/featurestores/fs/entityTypes/movies\"\n",
    "    string entity_type = 2;\n",
    "\n",
    "    // 必填。指定用户发送的请求中（而不是包含特征值的自动生成的预测请求）\n",
    "    // 包含要从此源提取的实体ID的字段的名称。用户发送的输入请求是一个JSON字典。\n",
    "    // 要提取的实体ID由具有此键的字典条目持有。\n",
    "    string entity_id_field = 3;\n",
    "  }\n",
    "\n",
    "  // 特性源定义。此映射的键用于在特性设置中引用该源。键不能为空。\n",
    "  map<string, FeatureSource> feature_sources = 5;\n",
    "\n",
    "  // 指定预测输入的细节\n",
    "  repeated Feature features = 4;\n",
    "  message Feature {\n",
    "    // 废弃字段。\n",
    "    reserved 1, 2;\n",
    "\n",
    "    // 当 internal_request_format = DICT 时，该名称用作\n",
    "    // 内部预测请求的关键特征值。在 FeatureFetchConfig 中，透传特性可以由\n",
    "    // 仅带有名称的 Feature 消息代表。\n",
    "    string name = 3;\n",
    "\n",
    "    message FetchFrom {\n",
    "      // 必填。从中提取特征值的特征源的名称。\n",
    "      // 如果特征值来自原始请求（透传），则留空。\n",
    "      string source_name = 1;\n",
    "\n",
    "      // 必填。要提取的特征ID。这应该是与上述 featureSource 对应的实体类型的有效特征ID。\n",
    "      // 如果使用 featureSource，必须提供。\n",
    "      string feature_id = 2;\n",
    "    }\n",
    "    // 定义提取特征值的源。请注意，如果用户发送的请求已经为此特性提供了值，那个值将被\n",
    "    // 直接使用（即该设置将被忽略，并且对于该请求，该特性将被视为透传）如果未设置此字段，\n",
    "    // 则特性值始终从原始请求中透传。\n",
    "    FetchFrom fetch_from = 4;\n",
    "  }\n",
    "}\n",
    "```"
   ]
  },
  {
   "cell_type": "markdown",
   "metadata": {
    "id": "092d012dfd27"
   },
   "source": [
    "### 写特征提取配置"
   ]
  },
  {
   "cell_type": "markdown",
   "metadata": {
    "id": "03239b227869"
   },
   "source": [
    "请注意以下事项\n",
    "- 我们使用`modelInputFormat: DICT`，因为模型需要字典输入\n",
    "- `user_pseudo_id`是一个直通特征。用户预测请求中的键值对将直接传递给模型服务器。\n",
    "- 所有其他具有非空`fetchFrom`的`features`将在预测时从特征存储中提取。"
   ]
  },
  {
   "cell_type": "code",
   "execution_count": null,
   "metadata": {
    "id": "7ee405070fe4"
   },
   "outputs": [],
   "source": [
    "FEATURE_FETCH_CONFIG_TEMPLATE = \"\"\"modelInputFormat: DICT\n",
    "featureSources:\n",
    "  user:\n",
    "    entityType: projects/{PROJECT_NUMBER}/locations/{REGION}/featurestores/{FEATURESTORE_ID}/entityTypes/demographic\n",
    "    entityIdField: demographic\n",
    "  behavior:\n",
    "    entityType: projects/{PROJECT_NUMBER}/locations/{REGION}/featurestores/{FEATURESTORE_ID}/entityTypes/behavior\n",
    "    entityIdField: behavior\n",
    "features:\n",
    "- name: user_pseudo_id\n",
    "- name: country\n",
    "  fetchFrom:\n",
    "    sourceName: user\n",
    "    featureId: country\n",
    "- name: operating_system\n",
    "  fetchFrom:\n",
    "    sourceName: user\n",
    "    featureId: operating_system\n",
    "- name: language\n",
    "  fetchFrom:\n",
    "    sourceName: user\n",
    "    featureId: language\n",
    "- name: cnt_user_engagement\n",
    "  fetchFrom:\n",
    "    sourceName: behavior\n",
    "    featureId: cnt_user_engagement\n",
    "- name: cnt_level_start_quickplay\n",
    "  fetchFrom:\n",
    "    sourceName: behavior\n",
    "    featureId: cnt_level_start_quickplay\n",
    "- name: cnt_level_end_quickplay\n",
    "  fetchFrom:\n",
    "    sourceName: behavior\n",
    "    featureId: cnt_level_end_quickplay\n",
    "- name: cnt_level_complete_quickplay\n",
    "  fetchFrom:\n",
    "    sourceName: behavior\n",
    "    featureId: cnt_level_complete_quickplay\n",
    "- name: cnt_level_reset_quickplay\n",
    "  fetchFrom:\n",
    "    sourceName: behavior\n",
    "    featureId: cnt_level_reset_quickplay\n",
    "- name: cnt_post_score\n",
    "  fetchFrom:\n",
    "    sourceName: behavior\n",
    "    featureId: cnt_post_score\n",
    "- name: cnt_spend_virtual_currency\n",
    "  fetchFrom:\n",
    "    sourceName: behavior\n",
    "    featureId: cnt_spend_virtual_currency\n",
    "- name: cnt_ad_reward\n",
    "  fetchFrom:\n",
    "    sourceName: behavior\n",
    "    featureId: cnt_ad_reward\n",
    "- name: cnt_challenge_a_friend\n",
    "  fetchFrom:\n",
    "    sourceName: behavior\n",
    "    featureId: cnt_challenge_a_friend\n",
    "- name: cnt_completed_5_levels\n",
    "  fetchFrom:\n",
    "    sourceName: behavior\n",
    "    featureId: cnt_completed_5_levels\n",
    "- name: cnt_use_extra_steps\n",
    "  fetchFrom:\n",
    "    sourceName: behavior\n",
    "    featureId: cnt_use_extra_steps\n",
    "- name: month\n",
    "  fetchFrom:\n",
    "    sourceName: behavior\n",
    "    featureId: month\n",
    "- name: julianday\n",
    "  fetchFrom:\n",
    "    sourceName: behavior\n",
    "    featureId: julianday\n",
    "- name: dayofweek\n",
    "  fetchFrom:\n",
    "    sourceName: behavior\n",
    "    featureId: dayofweek\"\"\"\n",
    "\n",
    "feature_fetch_config = FEATURE_FETCH_CONFIG_TEMPLATE.format(\n",
    "    PROJECT_NUMBER=PROJECT_NUMBER, REGION=REGION, FEATURESTORE_ID=FEATURESTORE_ID\n",
    ")\n",
    "\n",
    "with open(\"prediction_featurestore_fetch_config.yaml\", \"w\") as f:\n",
    "    f.write(feature_fetch_config)"
   ]
  },
  {
   "cell_type": "markdown",
   "metadata": {
    "id": "846c9ca65e68"
   },
   "source": [
    "将特性获取配置yaml复制到工件的gcs路径。"
   ]
  },
  {
   "cell_type": "code",
   "execution_count": null,
   "metadata": {
    "id": "9ac494223985"
   },
   "outputs": [],
   "source": [
    "!gsutil cp prediction_featurestore_fetch_config.yaml $ARTIFACT_URI"
   ]
  },
  {
   "cell_type": "markdown",
   "metadata": {
    "id": "5e58334c94b6"
   },
   "source": [
    "## 上传和部署模型到Vertex预测"
   ]
  },
  {
   "cell_type": "markdown",
   "metadata": {
    "id": "b4dfbffa88e0"
   },
   "source": [
    "### 上传模型"
   ]
  },
  {
   "cell_type": "code",
   "execution_count": null,
   "metadata": {
    "id": "03e6cf99f099"
   },
   "outputs": [],
   "source": [
    "DISPLAY_NAME = \"mobile_gaming_featureStore_integration_\" + TIMESTAMP\n",
    "\n",
    "model = aiplatform.Model.upload(\n",
    "    display_name=DISPLAY_NAME,\n",
    "    artifact_uri=ARTIFACT_URI,\n",
    "    serving_container_image_uri=\"us-docker.pkg.dev/vertex-ai/prediction/tf2-cpu.2-7:latest\",\n",
    "    sync=False,\n",
    ")\n",
    "\n",
    "model.wait()"
   ]
  },
  {
   "cell_type": "markdown",
   "metadata": {
    "id": "eaaf2d7adf0d"
   },
   "source": [
    "### 部署模型"
   ]
  },
  {
   "cell_type": "markdown",
   "metadata": {
    "id": "c672b6901814"
   },
   "source": [
    "#### 预测服务账户\n",
    "\n",
    "由于预测工作负载的默认标识没有访问 Feature Store 的权限，我们需要为这个新功能提供一个服务账户。该服务账户需要在您的项目中拥有 `Vertex AI Feature Store 数据查看器` 权限。\n",
    "\n",
    "在运行以下命令之前，请打开终端并运行 `gcloud auth login`。"
   ]
  },
  {
   "cell_type": "code",
   "execution_count": null,
   "metadata": {
    "id": "534b78bcc16d"
   },
   "outputs": [],
   "source": [
    "SA_NAME = \"prediction-feature-store-fetch\"\n",
    "SA_DESCRIPTION = '\"Fetch feature from Feature Store during Prediction\"'\n",
    "DISPLAY_NAME = \"prediction-feature-store-fetch\"\n",
    "\n",
    "!gcloud iam service-accounts create $SA_NAME \\\n",
    "    --description=$SA_DESCRIPTION \\\n",
    "    --display-name=$DISPLAY_NAME"
   ]
  },
  {
   "cell_type": "code",
   "execution_count": null,
   "metadata": {
    "id": "c16f9d06913c"
   },
   "outputs": [],
   "source": [
    "SERVICE_ACCOUNT = f\"{SA_NAME}@{PROJECT_ID}.iam.gserviceaccount.com\""
   ]
  },
  {
   "cell_type": "markdown",
   "metadata": {
    "id": "71ddea21667d"
   },
   "source": [
    "授予Service Account Vertex AI Feature Store Data Viewer角色来访问特征存储中的数据，在预测期间。"
   ]
  },
  {
   "cell_type": "code",
   "execution_count": null,
   "metadata": {
    "id": "53cf1aa9659d"
   },
   "outputs": [],
   "source": [
    "!gcloud projects add-iam-policy-binding $PROJECT_ID \\\n",
    "    --member=serviceAccount:$SERVICE_ACCOUNT \\\n",
    "    --role=roles/aiplatform.featurestoreDataViewer;"
   ]
  },
  {
   "cell_type": "markdown",
   "metadata": {
    "id": "bbc606615275"
   },
   "source": [
    "现在我们准备部署模型。"
   ]
  },
  {
   "cell_type": "code",
   "execution_count": null,
   "metadata": {
    "id": "dc5406d7e46c"
   },
   "outputs": [],
   "source": [
    "DEPLOYED_NAME = DISPLAY_NAME + TIMESTAMP\n",
    "\n",
    "TRAFFIC_SPLIT = {\"0\": 100}\n",
    "\n",
    "MACHINE_TYPE = \"n1-standard-4\"\n",
    "\n",
    "MIN_NODES = 1\n",
    "MAX_NODES = 1\n",
    "\n",
    "endpoint = model.deploy(\n",
    "    deployed_model_display_name=DEPLOYED_NAME,\n",
    "    traffic_split=TRAFFIC_SPLIT,\n",
    "    machine_type=MACHINE_TYPE,\n",
    "    min_replica_count=MIN_NODES,\n",
    "    max_replica_count=MAX_NODES,\n",
    "    service_account=SERVICE_ACCOUNT,\n",
    ")"
   ]
  },
  {
   "cell_type": "markdown",
   "metadata": {
    "id": "fc1e1f273ed2"
   },
   "source": [
    "### 预测"
   ]
  },
  {
   "cell_type": "markdown",
   "metadata": {
    "id": "c90c3f0597ef"
   },
   "source": [
    "TF模型期望输入的格式如下："
   ]
  },
  {
   "cell_type": "code",
   "execution_count": null,
   "metadata": {
    "id": "c83e8207bf74"
   },
   "outputs": [],
   "source": [
    "default_pred_request = [\n",
    "    {\n",
    "        \"user_pseudo_id\": \"AB0F2EE5F9F401763BE1E9FA55410312\",\n",
    "        \"country\": \"Australia\",\n",
    "        \"operating_system\": \"IOS\",\n",
    "        \"language\": \"en-au\",\n",
    "        \"cnt_user_engagement\": 3.0,\n",
    "        \"cnt_level_start_quickplay\": 1.0,\n",
    "        \"cnt_level_end_quickplay\": 0.0,\n",
    "        \"cnt_level_complete_quickplay\": 0.0,\n",
    "        \"cnt_level_reset_quickplay\": 0.0,\n",
    "        \"cnt_post_score\": 0.0,\n",
    "        \"cnt_spend_virtual_currency\": 0.0,\n",
    "        \"cnt_ad_reward\": 0.0,\n",
    "        \"cnt_challenge_a_friend\": 0.0,\n",
    "        \"cnt_completed_5_levels\": 0.0,\n",
    "        \"cnt_use_extra_steps\": 0.0,\n",
    "        \"month\": 7,\n",
    "        \"julianday\": 194,\n",
    "        \"dayofweek\": 6,\n",
    "    },\n",
    "]"
   ]
  },
  {
   "cell_type": "markdown",
   "metadata": {
    "id": "20a09918d2cd"
   },
   "source": [
    "不直接在预测请求中提供特征值，而是指定实体ID键（例如`人口统计学`和`行为`）和实体ID值（例如`AB0F2EE5F9F401763BE1E9FA55410312`）。特征值将在预测时由服务端获取。"
   ]
  },
  {
   "cell_type": "code",
   "execution_count": null,
   "metadata": {
    "id": "430fe30f0878"
   },
   "outputs": [],
   "source": [
    "fs_pred_request = [\n",
    "    {\n",
    "        \"user_pseudo_id\": \"AB0F2EE5F9F401763BE1E9FA55410312\",\n",
    "        \"demographic\": \"AB0F2EE5F9F401763BE1E9FA55410312\",\n",
    "        \"behavior\": \"AB0F2EE5F9F401763BE1E9FA55410312\",\n",
    "    },\n",
    "]\n",
    "\n",
    "endpoint.predict(fs_pred_request)"
   ]
  },
  {
   "cell_type": "markdown",
   "metadata": {
    "id": "496710f4bb97"
   },
   "source": [
    "特性商店抓取的任何特性子集都可以被覆盖。例如，"
   ]
  },
  {
   "cell_type": "code",
   "execution_count": null,
   "metadata": {
    "id": "a8c4c871a305"
   },
   "outputs": [],
   "source": [
    "fs_pred_request_with_overridden_features = [\n",
    "    {\n",
    "        \"user_pseudo_id\": \"AB0F2EE5F9F401763BE1E9FA55410312\",\n",
    "        \"demographic\": \"AB0F2EE5F9F401763BE1E9FA55410312\",\n",
    "        \"behavior\": \"AB0F2EE5F9F401763BE1E9FA55410312\",\n",
    "        \"cnt_ad_reward\": 10.0,\n",
    "        \"cnt_challenge_a_friend\": 10.0,\n",
    "        \"cnt_completed_5_levels\": 10.0,\n",
    "        \"cnt_use_extra_steps\": 10.0,\n",
    "    },\n",
    "]\n",
    "\n",
    "endpoint.predict(fs_pred_request_with_overridden_features)"
   ]
  },
  {
   "cell_type": "markdown",
   "metadata": {
    "id": "b5cb68646b47"
   },
   "source": [
    "如果所有获取的特征都被覆盖，则预测请求的行为与不集成特征存储时相同。比较 `fs_pred_request` 和 `default_pred_request` 的响应。"
   ]
  },
  {
   "cell_type": "code",
   "execution_count": null,
   "metadata": {
    "id": "5aa045160751"
   },
   "outputs": [],
   "source": [
    "endpoint.predict(default_pred_request)"
   ]
  },
  {
   "cell_type": "markdown",
   "metadata": {
    "id": "9a1c51970914"
   },
   "source": [
    "调试"
   ]
  },
  {
   "cell_type": "markdown",
   "metadata": {
    "id": "cdc304735eea"
   },
   "source": [
    "我们已经提供了一个身份模型服务器，使用[CPR](https://cloud.google.com/vertex-ai/docs/predictions/custom-prediction-routines)构建，以帮助调试您的特征获取配置。 CPR构建的身份模型服务器只是将请求体作为响应返回。这将允许您探索特征存储/预测集成将预测请求格式化为模型服务器。\n",
    "\n",
    "该服务器已在此处发布 - `us-docker.pkg.dev/vertex-ai/sample-model-servers/cpr-identity-server:latest`，并使用以下`预测器`。\n",
    "\n",
    "```python\n",
    "from google.cloud.aiplatform.prediction.predictor import Predictor\n",
    "\n",
    "class CprPredictor(Predictor):\n",
    "    \n",
    "    def __init__(self):\n",
    "        return\n",
    "    \n",
    "    def load(self, artifacts_uri: str):\n",
    "        \"\"\"加载预处理器和模型工件。\"\"\"\n",
    "        pass\n",
    "\n",
    "    def predict(self, instances):\n",
    "        \"\"\"执行预测。\"\"\"\n",
    "        return {\"predictions\": instances}\n",
    "```"
   ]
  },
  {
   "cell_type": "markdown",
   "metadata": {
    "id": "46c332abbe7a"
   },
   "source": [
    "使用与上一个示例相同的功能获取配置文件，将其部署到 Identity model 服务器以进行调试。\n",
    "\n",
    "首先将图像复制到 Artifacts Registry。"
   ]
  },
  {
   "cell_type": "code",
   "execution_count": null,
   "metadata": {
    "id": "962c1cfe1588"
   },
   "outputs": [],
   "source": [
    "!gcloud services enable artifactregistry.googleapis.com"
   ]
  },
  {
   "cell_type": "code",
   "execution_count": null,
   "metadata": {
    "id": "639b2d067827"
   },
   "outputs": [],
   "source": [
    "REPOSITORY = \"feature-store-prediction-sample\"\n",
    "IMAGE = \"cpr-identity-server\"\n",
    "CONTAINER_URI = f\"{REGION}-docker.pkg.dev/{PROJECT_ID}/{REPOSITORY}/{IMAGE}\""
   ]
  },
  {
   "cell_type": "code",
   "execution_count": null,
   "metadata": {
    "id": "6523af67c1ab"
   },
   "outputs": [],
   "source": [
    "!gcloud artifacts repositories create {REPOSITORY} \\\n",
    "    --repository-format=docker \\\n",
    "    --location=$REGION"
   ]
  },
  {
   "cell_type": "code",
   "execution_count": null,
   "metadata": {
    "id": "b3b939dc0b25"
   },
   "outputs": [],
   "source": [
    "!gcloud auth configure-docker {REGION}-docker.pkg.dev --quiet"
   ]
  },
  {
   "cell_type": "code",
   "execution_count": null,
   "metadata": {
    "id": "34c1cec95124"
   },
   "outputs": [],
   "source": [
    "!docker pull us-docker.pkg.dev/vertex-ai/sample-model-servers/cpr-identity-server:latest\n",
    "!docker tag us-docker.pkg.dev/vertex-ai/sample-model-servers/cpr-identity-server:latest $CONTAINER_URI\n",
    "!docker push $CONTAINER_URI"
   ]
  },
  {
   "cell_type": "markdown",
   "metadata": {
    "id": "d4c81e1eb726"
   },
   "source": [
    "现在上传并部署身份模型到Vertex Prediction进行调试。"
   ]
  },
  {
   "cell_type": "code",
   "execution_count": null,
   "metadata": {
    "id": "047633693964"
   },
   "outputs": [],
   "source": [
    "IDENTITY_MODEL_DISPLAY_NAME = \"cpr_identity_with_feature_store_integration\" + TIMESTAMP\n",
    "\n",
    "identity_model = aiplatform.Model.upload(\n",
    "    display_name=IDENTITY_MODEL_DISPLAY_NAME,\n",
    "    artifact_uri=ARTIFACT_URI,\n",
    "    serving_container_image_uri=CONTAINER_URI,\n",
    "    sync=False,\n",
    ")\n",
    "\n",
    "identity_model.wait()"
   ]
  },
  {
   "cell_type": "code",
   "execution_count": null,
   "metadata": {
    "id": "a799b531cb2a"
   },
   "outputs": [],
   "source": [
    "identity_endpoint = identity_model.deploy(\n",
    "    deployed_model_display_name=IDENTITY_MODEL_DISPLAY_NAME,\n",
    "    traffic_split=TRAFFIC_SPLIT,\n",
    "    machine_type=MACHINE_TYPE,\n",
    "    min_replica_count=MIN_NODES,\n",
    "    max_replica_count=MAX_NODES,\n",
    "    service_account=SERVICE_ACCOUNT,\n",
    ")"
   ]
  },
  {
   "cell_type": "markdown",
   "metadata": {
    "id": "c6176505e93b"
   },
   "source": [
    "让我们现在看看在先前示例中每个预测请求中实际发送到模型服务器的请求是什么样子。"
   ]
  },
  {
   "cell_type": "code",
   "execution_count": null,
   "metadata": {
    "id": "cfa66eadd2fa"
   },
   "outputs": [],
   "source": [
    "print(\"Predict request:\")\n",
    "print(fs_pred_request)\n",
    "print(\"Request sent to model server:\")\n",
    "identity_endpoint.predict(fs_pred_request)"
   ]
  },
  {
   "cell_type": "code",
   "execution_count": null,
   "metadata": {
    "id": "8e28fd72b592"
   },
   "outputs": [],
   "source": [
    "print(\"Predict request:\")\n",
    "print(fs_pred_request_with_overridden_features)\n",
    "print(\"Request sent to model server:\")\n",
    "identity_endpoint.predict(fs_pred_request_with_overridden_features)"
   ]
  },
  {
   "cell_type": "code",
   "execution_count": null,
   "metadata": {
    "id": "ae55ed7251ee"
   },
   "outputs": [],
   "source": [
    "print(\"Predict request:\")\n",
    "print(default_pred_request)\n",
    "print(\"Request sent to model server:\")\n",
    "identity_endpoint.predict(default_pred_request)"
   ]
  },
  {
   "cell_type": "markdown",
   "metadata": {
    "id": "3ce09d9bc5a5"
   },
   "source": [
    "整理责任"
   ]
  },
  {
   "cell_type": "code",
   "execution_count": null,
   "metadata": {
    "id": "24f16a59ca09"
   },
   "outputs": [],
   "source": [
    "# delete feature store\n",
    "mobile_gaming_feature_store.delete(sync=True, force=True)"
   ]
  },
  {
   "cell_type": "code",
   "execution_count": null,
   "metadata": {
    "id": "540b19cca2bb"
   },
   "outputs": [],
   "source": [
    "# delete Vertex AI resources\n",
    "endpoint.undeploy_all()\n",
    "endpoint.delete()\n",
    "model.delete\n",
    "\n",
    "identity_endpoint.undeploy_all()\n",
    "identity_endpoint.delete()\n",
    "identity_model.delete"
   ]
  },
  {
   "cell_type": "code",
   "execution_count": null,
   "metadata": {
    "id": "42172d5bc91b"
   },
   "outputs": [],
   "source": [
    "# Delete bucket\n",
    "!gsutil -m rm -r $BUCKET_URI"
   ]
  }
 ],
 "metadata": {
  "colab": {
   "name": "prediction_feature_store_integration.ipynb",
   "toc_visible": true
  },
  "kernelspec": {
   "display_name": "Python 3",
   "name": "python3"
  }
 },
 "nbformat": 4,
 "nbformat_minor": 0
}
