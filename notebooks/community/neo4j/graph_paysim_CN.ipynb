{
 "cells": [
  {
   "cell_type": "code",
   "execution_count": null,
   "metadata": {
    "id": "xpj6twWatL1e"
   },
   "outputs": [],
   "source": [
    "# Copyright 2022 Google LLC\n",
    "#\n",
    "# Licensed under the Apache License, Version 2.0 (the \"License\");\n",
    "# you may not use this file except in compliance with the License.\n",
    "# You may obtain a copy of the License at\n",
    "#\n",
    "#     https://www.apache.org/licenses/LICENSE-2.0\n",
    "#\n",
    "# Unless required by applicable law or agreed to in writing, software\n",
    "# distributed under the License is distributed on an \"AS IS\" BASIS,\n",
    "# WITHOUT WARRANTIES OR CONDITIONS OF ANY KIND, either express or implied.\n",
    "# See the License for the specific language governing permissions and\n",
    "# limitations under the License."
   ]
  },
  {
   "cell_type": "markdown",
   "metadata": {
    "id": "JAPoU8Sm5E6e"
   },
   "source": [
    "<table align=\"left\">\n",
    "\n",
    "  <td>\n",
    "    <a href=\"https://colab.research.google.com/github/GoogleCloudPlatform/vertex-ai-samples/blob/master/notebooks/community/neo4j/graph_paysim.ipynb\" target=\"_blank\">\n",
    "      <img src=\"https://cloud.google.com/ml-engine/images/colab-logo-32px.png\" alt=\"Colab logo\"> 在Colab中运行\n",
    "    </a>\n",
    "  </td>\n",
    "  <td>\n",
    "    <a href=\"https://github.com/GoogleCloudPlatform/vertex-ai-samples/tree/master/notebooks/community/neo4j/graph_paysim.ipynb\" target=\"_blank\">\n",
    "      <img src=\"https://cloud.google.com/ml-engine/images/github-logo-32px.png\" alt=\"GitHub logo\">\n",
    "      查看GitHub上的代码\n",
    "    </a>\n",
    "  </td>\n",
    "  <td>\n",
    "    <a href=\"https://console.cloud.google.com/vertex-ai/workbench/deploy-notebook?download_url=https://raw.githubusercontent.com/laeg/vertex-ai-samples/main/notebooks/community/neo4j/graph_paysim.ipynb\">\n",
    "      <img src=\"https://lh3.googleusercontent.com/UiNooY4LUgW_oTvpsNhPpQzsstV5W8F7rYgxgGBD85cWJoLmrOzhVs_ksK_vgx40SHs7jCqkTkCk=e14-rj-sc0xffffff-h130-w32\" alt=\"Vertex AI logo\">在Vertex AI工作台中打开\n",
    "    </a>\n",
    "</td>\n",
    "</table>"
   ]
  },
  {
   "cell_type": "markdown",
   "metadata": {
    "id": "YasYy1BqRHY8"
   },
   "source": [
    "# 概述\n",
    "在本笔记本中，您将学习如何使用Neo4j AuraDS创建图特征。然后，您将使用这些新特征来解决一个顶点AI的分类问题。"
   ]
  },
  {
   "cell_type": "markdown",
   "metadata": {
    "id": "ze4-nDLfK4pw"
   },
   "source": [
    "## 数据集\n",
    "此笔记本使用了经修改以适配Neo4j图数据库的PaySim数据集版本。PaySim是一个合成欺诈数据集。目标是识别给定交易是否构成欺诈。[数据集的原始版本](https://github.com/EdgarLopezPhD/PaySim)包含表格数据。\n",
    "\n",
    "Neo4j已经完成了一个修改版本，生成了一个图形数据集[此处](https://github.com/voutilad/PaySim)。我们预先生成了一个该数据集的副本，您可以在[此处](https://storage.googleapis.com/neo4j-datasets/paysim.dump)下载。您需要下载该数据集，然后上传到Neo4j AuraDS。AuraDS是一个提供在GCP上服务的图形数据科学工具。有关注册和上传数据集的说明可在[此处](https://github.com/neo4j-partners/aurads-paysim)找到。"
   ]
  },
  {
   "cell_type": "markdown",
   "metadata": {
    "id": "pD0fZLPdsAYf"
   },
   "source": [
    "##费用\n",
    "本教程使用谷歌云的收费组件：\n",
    "\n",
    "* 云存储\n",
    "* Vertex AI\n",
    "\n",
    "了解[Vertex AI定价](https://cloud.google.com/vertex-ai/pricing)和[云存储定价](https://cloud.google.com/storage/pricing)，并使用[定价计算器](https://cloud.google.com/products/calculator/)基于您的预期使用量生成成本估算。"
   ]
  },
  {
   "cell_type": "markdown",
   "metadata": {
    "id": "m51HUN1aHNid"
   },
   "source": [
    "# 设置"
   ]
  },
  {
   "cell_type": "markdown",
   "metadata": {
    "id": "mbIYWyMksbpC"
   },
   "source": [
    "建立您的开发环境\n",
    "我们建议您在此笔记本中使用Colab。"
   ]
  },
  {
   "cell_type": "markdown",
   "metadata": {
    "id": "zLocKiyCwtR7"
   },
   "source": [
    "## 设置您的Google Cloud项目\n",
    "\n",
    "**无论您使用的是哪种笔记本环境，以下步骤都是必需的。**\n",
    "\n",
    "1. [选择或创建一个Google Cloud项目](https://console.cloud.google.com/cloud-resource-manager)。当您第一次创建账户时，您将获得$300的免费信用额度，可用于支付计算/存储成本。\n",
    "\n",
    "1. [确保为您的项目启用计费](https://cloud.google.com/billing/docs/how-to/modify-project)。\n",
    "\n",
    "1. [启用Vertex AI API](https://console.cloud.google.com/flows/enableapi?apiid=aiplatform.googleapis.com)。\n",
    "\n",
    "1. 如果您在本地运行此笔记本，您需要安装[Cloud SDK](https://cloud.google.com/sdk)。\n",
    "\n",
    "1. 在下面的单元格中输入您的项目ID。然后运行单元格，以确保Cloud SDK在本笔记本中的所有命令中使用正确的项目。\n",
    "\n",
    "**注意**：Jupyter会将以`!`为前缀的行视为shell命令，并将以`$`为前缀的Python变量插入这些命令中。"
   ]
  },
  {
   "cell_type": "markdown",
   "metadata": {
    "id": "BKipBL0kWY7w"
   },
   "source": [
    "安装额外的软件包\n",
    "首先，您还需要安装一些软件包。"
   ]
  },
  {
   "cell_type": "code",
   "execution_count": null,
   "metadata": {
    "id": "qwKogqD_He_e"
   },
   "outputs": [],
   "source": [
    "!pip install --quiet --upgrade graphdatascience==1.0.0"
   ]
  },
  {
   "cell_type": "code",
   "execution_count": null,
   "metadata": {
    "id": "tDipS8p-27qg"
   },
   "outputs": [],
   "source": [
    "!pip install --quiet google-cloud-storage"
   ]
  },
  {
   "cell_type": "code",
   "execution_count": null,
   "metadata": {
    "id": "Ix0KpBl-hnxF"
   },
   "outputs": [],
   "source": [
    "!pip install --quiet google.cloud.aiplatform"
   ]
  },
  {
   "cell_type": "markdown",
   "metadata": {
    "id": "JBXAh7fVt9Ou"
   },
   "source": [
    "##（仅限Colab）重新启动内核\n",
    "在安装了额外的软件包之后，您需要重新启动笔记本内核，以便它可以找到这些软件包。当您运行此操作时，您可能会收到内核崩溃的通知。您可以忽略该通知。"
   ]
  },
  {
   "cell_type": "code",
   "execution_count": null,
   "metadata": {
    "id": "ySSyV4T_3dQB"
   },
   "outputs": [],
   "source": [
    "import IPython\n",
    "\n",
    "app = IPython.Application.instance()\n",
    "app.kernel.do_shutdown(True)"
   ]
  },
  {
   "cell_type": "markdown",
   "metadata": {
    "id": "4ldFrUMIHVHP"
   },
   "source": [
    "# 使用Neo4j进行工作"
   ]
  },
  {
   "cell_type": "markdown",
   "metadata": {
    "id": "jMwl92_1HoIl"
   },
   "source": [
    "## 定义与Neo4J相关的变量\n",
    "\n",
    "您需要在下面输入来自您的AuraDS实例的凭据。您可以按照这个[步骤](https://github.com/neo4j-partners/aurads-paysim)获取您的凭据。\n",
    "\n",
    "“DB_NAME”始终为AuraDS的neo4j。它与您在AuraDS控制台中给予您的数据库租户名称不同。"
   ]
  },
  {
   "cell_type": "code",
   "execution_count": null,
   "metadata": {
    "id": "96IVMcJeH3N4"
   },
   "outputs": [],
   "source": [
    "DB_URL = \"neo4j+s://XXXXX.databases.neo4j.io\"\n",
    "DB_USER = \"neo4j\"\n",
    "DB_PASS = \"YOUR PASSWORD\"\n",
    "DB_NAME = \"neo4j\""
   ]
  },
  {
   "cell_type": "markdown",
   "metadata": {
    "id": "tpNk1MvcWY7x"
   },
   "source": [
    "在这一部分，我们将连接到Neo4j并查看数据库。我们将使用Neo4j的图数据科学库在数据集中生成一些新特性。最后，我们将加载数据到Pandas的数据框中，以便准备好放入GCP特征存储中。 "
   ]
  },
  {
   "cell_type": "markdown",
   "metadata": {
    "id": "RJptLsHUHgCV"
   },
   "source": [
    "探索数据库"
   ]
  },
  {
   "cell_type": "code",
   "execution_count": null,
   "metadata": {
    "id": "QiFDi4uLWY7x"
   },
   "outputs": [],
   "source": [
    "import pandas as pd\n",
    "from graphdatascience import GraphDataScience"
   ]
  },
  {
   "cell_type": "code",
   "execution_count": null,
   "metadata": {
    "id": "sgEy4q7iWY7y"
   },
   "outputs": [],
   "source": [
    "# If you are connecting the client to an AuraDS instance, you can get the recommended non-default configuration settings of the Python Driver applied automatically. To achieve this, set the constructor argument aura_ds=True\n",
    "gds = GraphDataScience(DB_URL, auth=(DB_USER, DB_PASS), aura_ds=True)"
   ]
  },
  {
   "cell_type": "code",
   "execution_count": null,
   "metadata": {
    "id": "f14915ddd1fb"
   },
   "outputs": [],
   "source": [
    "gds.set_database(DB_NAME)"
   ]
  },
  {
   "cell_type": "markdown",
   "metadata": {
    "id": "yBpL6dY3HEMD"
   },
   "source": [
    "现在，让我们稍微探索一下数据库中的数据，以了解我们需要处理的内容。"
   ]
  },
  {
   "cell_type": "code",
   "execution_count": null,
   "metadata": {
    "id": "z4a0_CqVWY7y"
   },
   "outputs": [],
   "source": [
    "# node labels\n",
    "result = gds.run_cypher(\n",
    "    \"\"\"\n",
    "CALL db.labels() YIELD label\n",
    "CALL apoc.cypher.run('MATCH (:`'+label+'`) RETURN count(*) as freq', {})\n",
    "YIELD value\n",
    "RETURN label, value.freq AS freq\n",
    "\"\"\"\n",
    ")\n",
    "\n",
    "display(result)"
   ]
  },
  {
   "cell_type": "code",
   "execution_count": null,
   "metadata": {
    "id": "SrETUiWdFDoy"
   },
   "outputs": [],
   "source": [
    "# relationship types\n",
    "result = gds.run_cypher(\n",
    "    \"\"\"\n",
    "CALL db.relationshipTypes() YIELD relationshipType as type\n",
    "CALL apoc.cypher.run('MATCH ()-[:`'+type+'`]->() RETURN count(*) as freq', {})\n",
    "YIELD value\n",
    "RETURN type AS relationshipType, value.freq AS freq\n",
    "ORDER by freq DESC\n",
    "\"\"\"\n",
    ")\n",
    "\n",
    "display(result)"
   ]
  },
  {
   "cell_type": "code",
   "execution_count": null,
   "metadata": {
    "id": "Lsfbg8rpJcXo"
   },
   "outputs": [],
   "source": [
    "# transaction types\n",
    "result = gds.run_cypher(\n",
    "    \"\"\"\n",
    "      MATCH (t:Transaction)\n",
    "      WITH sum(t.amount) AS globalSum, count(t) AS globalCnt\n",
    "      WITH *, 10^3 AS scaleFactor\n",
    "      UNWIND ['CashIn', 'CashOut', 'Payment', 'Debit', 'Transfer'] AS txType\n",
    "        CALL apoc.cypher.run('MATCH (t:' + txType + ')\n",
    "          RETURN sum(t.amount) as txAmount, count(t) AS txCnt', {})\n",
    "        YIELD value\n",
    "      RETURN txType,value.txAmount AS TotalMarketValue\n",
    "    \"\"\"\n",
    ")\n",
    "\n",
    "display(result)"
   ]
  },
  {
   "cell_type": "markdown",
   "metadata": {
    "id": "AKo4m-A4J9F8"
   },
   "source": [
    "## 使用Neo4j创建一个具有图嵌入的新功能\n",
    "首先，我们将使用Neo4j图数据科学（GDS）在内存中创建数据的图表示。\n",
    "\n",
    "请注意，如果您收到一个说图已经存在的错误，那很可能是因为您之前已经运行过这段代码。您可以使用本笔记本中清理部分的命令来销毁它。"
   ]
  },
  {
   "cell_type": "code",
   "execution_count": null,
   "metadata": {
    "id": "vdBkeDV7J8Ke"
   },
   "outputs": [],
   "source": [
    "# We get a tuple back with an object that represents the graph projection and the results of the GDS call\n",
    "G, results = gds.graph.project.cypher(\n",
    "    \"client_graph\",\n",
    "    \"MATCH (c:Client) RETURN id(c) as id, c.num_transactions as num_transactions, c.total_transaction_amnt as total_transaction_amnt, c.is_fraudster as is_fraudster\",\n",
    "    'MATCH (c:Client)-[:PERFORMED]->(t:Transaction)-[:TO]->(c2:Client) return id(c) as source, id(c2) as target, sum(t.amount) as amount, \"TRANSACTED_WITH\" as type ',\n",
    ")\n",
    "\n",
    "display(results)"
   ]
  },
  {
   "cell_type": "markdown",
   "metadata": {
    "id": "WewKw5g4NKVo"
   },
   "source": [
    "现在我们可以从那个图中生成一个嵌入。 这是我们可以在我们的预测中使用的一个新功能。 我们正在使用FastRP，它是Node2Vec的更全面功能和更高性能的版本。 您可以在这里了解更多信息：https://neo4j.com/docs/graph-data-science/current/algorithms/fastrp/。"
   ]
  },
  {
   "cell_type": "code",
   "execution_count": null,
   "metadata": {
    "id": "fBa8ofijEtHn"
   },
   "outputs": [],
   "source": [
    "results = gds.fastRP.mutate(\n",
    "    G,\n",
    "    relationshipWeightProperty=\"amount\",\n",
    "    iterationWeights=[0.0, 1.00, 1.00, 0.80, 0.60],\n",
    "    featureProperties=[\"num_transactions\", \"total_transaction_amnt\"],\n",
    "    propertyRatio=0.25,\n",
    "    nodeSelfInfluence=0.15,\n",
    "    embeddingDimension=16,\n",
    "    randomSeed=1,\n",
    "    mutateProperty=\"embedding\",\n",
    ")\n",
    "\n",
    "display(result)"
   ]
  },
  {
   "cell_type": "markdown",
   "metadata": {
    "id": "7PCI0yiUNpLZ"
   },
   "source": [
    "最后我们把它倒入数据框中"
   ]
  },
  {
   "cell_type": "code",
   "execution_count": null,
   "metadata": {
    "id": "gkALAMl5NtDg"
   },
   "outputs": [],
   "source": [
    "node_properties = gds.graph.streamNodeProperties(\n",
    "    G, [\"embedding\", \"num_transactions\", \"total_transaction_amnt\", \"is_fraudster\"]\n",
    ")\n",
    "\n",
    "node_properties.head()"
   ]
  },
  {
   "cell_type": "markdown",
   "metadata": {
    "id": "gzDiV7Efv40X"
   },
   "source": [
    "现在我们需要把这个数据框调整成更能代表我们分类问题的形式。"
   ]
  },
  {
   "cell_type": "code",
   "execution_count": null,
   "metadata": {
    "id": "JkzFxCgdqeTt"
   },
   "outputs": [],
   "source": [
    "x = node_properties.pivot(\n",
    "    index=\"nodeId\", columns=\"nodeProperty\", values=\"propertyValue\"\n",
    ")\n",
    "x = x.reset_index()\n",
    "x.columns.name = None\n",
    "x.head()"
   ]
  },
  {
   "cell_type": "markdown",
   "metadata": {
    "id": "uPim4AGB8w3Q"
   },
   "source": [
    "is_fraudster的值为0或1。如果值为-9223372036854775808，则表示未标记，我们将删除它。"
   ]
  },
  {
   "cell_type": "code",
   "execution_count": null,
   "metadata": {
    "id": "2jZZg6ln8wW_"
   },
   "outputs": [],
   "source": [
    "x = x.loc[x[\"is_fraudster\"] != -9223372036854775808]\n",
    "x.head()"
   ]
  },
  {
   "cell_type": "markdown",
   "metadata": {
    "id": "gOt_DjoPVirz"
   },
   "source": [
    "请注意嵌入行是一个数组。为了使该数据集更易消化，我们应该将其展平为多个独立特征：embedding_0、embedding_1、... embedding_n。"
   ]
  },
  {
   "cell_type": "code",
   "execution_count": null,
   "metadata": {
    "id": "h9j0PPn9H4RD"
   },
   "outputs": [],
   "source": [
    "FEATURES_FILENAME = \"features.csv\"\n",
    "\n",
    "embeddings = pd.DataFrame(x[\"embedding\"].values.tolist()).add_prefix(\"embedding_\")\n",
    "merged = x.drop(columns=[\"embedding\"]).merge(\n",
    "    embeddings, left_index=True, right_index=True\n",
    ")\n",
    "features_df = merged.drop(\n",
    "    columns=[\"is_fraudster\", \"num_transactions\", \"total_transaction_amnt\"]\n",
    ")\n",
    "train_df = merged.drop(columns=[\"nodeId\"])\n",
    "\n",
    "features_df.to_csv(FEATURES_FILENAME, index=False)"
   ]
  },
  {
   "cell_type": "markdown",
   "metadata": {
    "id": "cWBOxHrusEXk"
   },
   "source": [
    "这个数据集太小了，无法在Vertex AI上用于AutoML表格数据。为了示范起见，我们会重复几次。在现实世界中不要这样做。"
   ]
  },
  {
   "cell_type": "code",
   "execution_count": null,
   "metadata": {
    "id": "JMTvbcsvdVfb"
   },
   "outputs": [],
   "source": [
    "TRAINING_FILENAME = \"train.csv\"\n",
    "\n",
    "pd.concat([train_df for i in range(10)]).to_csv(TRAINING_FILENAME, index=False)"
   ]
  },
  {
   "cell_type": "markdown",
   "metadata": {
    "id": "hpNFaHfKK6jK"
   },
   "source": [
    "这就是全部！数据框现在有一个好的数据集，我们可以在GCP Vertex AI中使用。"
   ]
  },
  {
   "cell_type": "markdown",
   "metadata": {
    "id": "GTIKVdXJIOaF"
   },
   "source": [
    "使用Vertex AI与Neo4j数据"
   ]
  },
  {
   "cell_type": "markdown",
   "metadata": {
    "id": "QrJyXGJAHr_M"
   },
   "source": [
    "## 定义 Google 云变量\n",
    "您需要为您的 GCP 环境设置一些变量。PROJECT_ID 和 STORAGE_BUCKET 是最关键的。其他变量可能会使用给定的默认值。"
   ]
  },
  {
   "cell_type": "code",
   "execution_count": null,
   "metadata": {
    "id": "K-FC4GI1H3jx"
   },
   "outputs": [],
   "source": [
    "# Edit these variables!\n",
    "PROJECT_ID = \"YOUR-PROJECT-ID\"\n",
    "STORAGE_BUCKET = \"YOUR-BUCKET-NAME\"\n",
    "\n",
    "# You can leave these defaults\n",
    "REGION = \"us-central1\"\n",
    "STORAGE_PATH = \"paysim\"\n",
    "EMBEDDING_DIMENSION = 16\n",
    "FEATURESTORE_ID = \"paysim\"\n",
    "ENTITY_NAME = \"payer\""
   ]
  },
  {
   "cell_type": "code",
   "execution_count": null,
   "metadata": {
    "id": "1XoT1nT_JlYx"
   },
   "outputs": [],
   "source": [
    "import os\n",
    "\n",
    "os.environ[\"GCLOUD_PROJECT\"] = PROJECT_ID"
   ]
  },
  {
   "cell_type": "markdown",
   "metadata": {
    "id": "Id6tjQDbgf2S"
   },
   "source": [
    "验证您的Google Cloud账户"
   ]
  },
  {
   "cell_type": "code",
   "execution_count": null,
   "metadata": {
    "id": "HucMnpmVgfmX"
   },
   "outputs": [],
   "source": [
    "try:\n",
    "    from google.colab import auth as google_auth\n",
    "\n",
    "    google_auth.authenticate_user()\n",
    "except:\n",
    "    pass"
   ]
  },
  {
   "cell_type": "markdown",
   "metadata": {
    "id": "FUU7z4FjJS90"
   },
   "source": [
    "上传到GCP云存储桶\n",
    "\n",
    "要将数据传送到Vertex AI，首先需要将其放入一个CSV格式的存储桶中。"
   ]
  },
  {
   "cell_type": "code",
   "execution_count": null,
   "metadata": {
    "id": "e3nbLg1cKJpJ"
   },
   "outputs": [],
   "source": [
    "from google.cloud import storage\n",
    "\n",
    "client = storage.Client()"
   ]
  },
  {
   "cell_type": "code",
   "execution_count": null,
   "metadata": {
    "id": "4dAkAU5ALnUo"
   },
   "outputs": [],
   "source": [
    "bucket = client.bucket(STORAGE_BUCKET)\n",
    "client.create_bucket(bucket)"
   ]
  },
  {
   "cell_type": "code",
   "execution_count": null,
   "metadata": {
    "id": "UTo7-_oJL_dZ"
   },
   "outputs": [],
   "source": [
    "# Upload our files to that bucket\n",
    "for filename in [FEATURES_FILENAME, TRAINING_FILENAME]:\n",
    "    upload_path = os.path.join(STORAGE_PATH, filename)\n",
    "    blob = bucket.blob(upload_path)\n",
    "    blob.upload_from_filename(filename)"
   ]
  },
  {
   "cell_type": "markdown",
   "metadata": {
    "id": "ArK3cfKsdT1x"
   },
   "source": [
    "## 使用 Vertex AI 训练并部署模型\n",
    "我们将使用工程化特征来训练一个 AutoML 表格数据模型，然后部署到一个端点。"
   ]
  },
  {
   "cell_type": "code",
   "execution_count": null,
   "metadata": {
    "id": "KGjrD-k3dsCN"
   },
   "outputs": [],
   "source": [
    "from google.cloud import aiplatform\n",
    "\n",
    "aiplatform.init(project=PROJECT_ID, location=REGION)\n",
    "\n",
    "dataset = aiplatform.TabularDataset.create(\n",
    "    display_name=\"paysim\",\n",
    "    gcs_source=os.path.join(\"gs://\", STORAGE_BUCKET, STORAGE_PATH, TRAINING_FILENAME),\n",
    ")\n",
    "dataset.wait()\n",
    "\n",
    "print(f'\\tDataset: \"{dataset.display_name}\"')\n",
    "print(f'\\tname: \"{dataset.resource_name}\"')"
   ]
  },
  {
   "cell_type": "code",
   "execution_count": null,
   "metadata": {
    "id": "oaSPuk31N2xS"
   },
   "outputs": [],
   "source": [
    "embedding_column_names = [\"embedding_{}\".format(i) for i in range(EMBEDDING_DIMENSION)]\n",
    "other_column_names = [\"num_transactions\", \"total_transaction_amnt\"]\n",
    "all_columns = other_column_names + embedding_column_names\n",
    "column_specs = {column: \"numeric\" for column in all_columns}\n",
    "\n",
    "job = aiplatform.AutoMLTabularTrainingJob(\n",
    "    display_name=\"train-paysim-automl-1\",\n",
    "    optimization_prediction_type=\"classification\",\n",
    "    column_specs=column_specs,\n",
    ")"
   ]
  },
  {
   "cell_type": "code",
   "execution_count": null,
   "metadata": {
    "id": "Fqf44y_G8vi1"
   },
   "outputs": [],
   "source": [
    "model = job.run(\n",
    "    dataset=dataset,\n",
    "    target_column=\"is_fraudster\",\n",
    "    training_fraction_split=0.8,\n",
    "    validation_fraction_split=0.1,\n",
    "    test_fraction_split=0.1,\n",
    "    model_display_name=\"paysim-prediction-model\",\n",
    "    disable_early_stopping=False,\n",
    "    budget_milli_node_hours=1000,\n",
    ")"
   ]
  },
  {
   "cell_type": "code",
   "execution_count": null,
   "metadata": {
    "id": "IoVThi28VO_R"
   },
   "outputs": [],
   "source": [
    "endpoint = model.deploy(machine_type=\"n1-standard-4\")"
   ]
  },
  {
   "cell_type": "markdown",
   "metadata": {
    "id": "-NnDaATyWY7z"
   },
   "source": [
    "## 将数据加载到Vertex AI特征商店\n",
    "在本节中，我们将把具有新工程特征的数据帧加载到Vertex AI特征商店中。"
   ]
  },
  {
   "cell_type": "code",
   "execution_count": null,
   "metadata": {
    "id": "r0DcYzPkRrzj"
   },
   "outputs": [],
   "source": [
    "from google.cloud.aiplatform_v1 import FeaturestoreServiceClient\n",
    "\n",
    "api_endpoint = \"{}-aiplatform.googleapis.com\".format(REGION)\n",
    "fs_client = FeaturestoreServiceClient(client_options={\"api_endpoint\": api_endpoint})\n",
    "\n",
    "resource_path = fs_client.common_location_path(PROJECT_ID, REGION)\n",
    "fs_path = fs_client.featurestore_path(PROJECT_ID, REGION, FEATURESTORE_ID)\n",
    "entity_path = fs_client.entity_type_path(\n",
    "    PROJECT_ID, REGION, FEATURESTORE_ID, ENTITY_NAME\n",
    ")"
   ]
  },
  {
   "cell_type": "markdown",
   "metadata": {
    "id": "wMN4Ue2hjdL3"
   },
   "source": [
    "首先，让我们检查一下特征存储是否已经存在。"
   ]
  },
  {
   "cell_type": "code",
   "execution_count": null,
   "metadata": {
    "id": "tYQknjQFsVNC"
   },
   "outputs": [],
   "source": [
    "from grpc import StatusCode\n",
    "\n",
    "\n",
    "def check_has_resource(callable):\n",
    "    has_resource = False\n",
    "    try:\n",
    "        callable()\n",
    "        has_resource = True\n",
    "    except Exception as e:\n",
    "        if (\n",
    "            not hasattr(e, \"grpc_status_code\")\n",
    "            or e.grpc_status_code != StatusCode.NOT_FOUND\n",
    "        ):\n",
    "            raise e\n",
    "    return has_resource"
   ]
  },
  {
   "cell_type": "code",
   "execution_count": null,
   "metadata": {
    "id": "qTVIsom6eejQ"
   },
   "outputs": [],
   "source": [
    "feature_store_exists = check_has_resource(\n",
    "    lambda: fs_client.get_featurestore(name=fs_path)\n",
    ")"
   ]
  },
  {
   "cell_type": "code",
   "execution_count": null,
   "metadata": {
    "id": "caTWbgeChd_x"
   },
   "outputs": [],
   "source": [
    "from google.cloud.aiplatform_v1.types import entity_type as entity_type_pb2\n",
    "from google.cloud.aiplatform_v1.types import feature as feature_pb2\n",
    "from google.cloud.aiplatform_v1.types import featurestore as featurestore_pb2\n",
    "from google.cloud.aiplatform_v1.types import \\\n",
    "    featurestore_service as featurestore_service_pb2\n",
    "from google.cloud.aiplatform_v1.types import io as io_pb2\n",
    "\n",
    "if not feature_store_exists:\n",
    "    create_lro = fs_client.create_featurestore(\n",
    "        featurestore_service_pb2.CreateFeaturestoreRequest(\n",
    "            parent=resource_path,\n",
    "            featurestore_id=FEATURESTORE_ID,\n",
    "            featurestore=featurestore_pb2.Featurestore(\n",
    "                online_serving_config=featurestore_pb2.Featurestore.OnlineServingConfig(\n",
    "                    fixed_node_count=1\n",
    "                ),\n",
    "            ),\n",
    "        )\n",
    "    )\n",
    "\n",
    "    print(create_lro.result())"
   ]
  },
  {
   "cell_type": "code",
   "execution_count": null,
   "metadata": {
    "id": "Q1JRwvvYJMBy"
   },
   "outputs": [],
   "source": [
    "entity_type_exists = check_has_resource(\n",
    "    lambda: fs_client.get_entity_type(name=entity_path)\n",
    ")\n",
    "\n",
    "if not entity_type_exists:\n",
    "    users_entity_type_lro = fs_client.create_entity_type(\n",
    "        featurestore_service_pb2.CreateEntityTypeRequest(\n",
    "            parent=fs_path,\n",
    "            entity_type_id=ENTITY_NAME,\n",
    "            entity_type=entity_type_pb2.EntityType(\n",
    "                description=\"Main entity type\",\n",
    "            ),\n",
    "        )\n",
    "    )\n",
    "    print(users_entity_type_lro.result())\n",
    "\n",
    "    feature_requests = [\n",
    "        featurestore_service_pb2.CreateFeatureRequest(\n",
    "            feature=feature_pb2.Feature(\n",
    "                value_type=feature_pb2.Feature.ValueType.DOUBLE,\n",
    "                description=\"Embedding {} from Neo4j\".format(i),\n",
    "            ),\n",
    "            feature_id=\"embedding_{}\".format(i),\n",
    "        )\n",
    "        for i in range(EMBEDDING_DIMENSION)\n",
    "    ]\n",
    "    create_features_lro = fs_client.batch_create_features(\n",
    "        parent=entity_path,\n",
    "        requests=feature_requests,\n",
    "    )\n",
    "    print(create_features_lro.result())"
   ]
  },
  {
   "cell_type": "code",
   "execution_count": null,
   "metadata": {
    "id": "Uz78rmNrwK0V"
   },
   "outputs": [],
   "source": [
    "feature_specs = [\n",
    "    featurestore_service_pb2.ImportFeatureValuesRequest.FeatureSpec(\n",
    "        id=\"embedding_{}\".format(i)\n",
    "    )\n",
    "    for i in range(EMBEDDING_DIMENSION)\n",
    "]\n",
    "\n",
    "from google.protobuf.timestamp_pb2 import Timestamp\n",
    "\n",
    "feature_time = Timestamp()\n",
    "feature_time.GetCurrentTime()\n",
    "feature_time.nanos = 0\n",
    "\n",
    "import_request = fs_client.import_feature_values(\n",
    "    featurestore_service_pb2.ImportFeatureValuesRequest(\n",
    "        entity_type=entity_path,\n",
    "        csv_source=io_pb2.CsvSource(\n",
    "            gcs_source=io_pb2.GcsSource(\n",
    "                uris=[\n",
    "                    os.path.join(\n",
    "                        \"gs://\", STORAGE_BUCKET, STORAGE_PATH, FEATURES_FILENAME\n",
    "                    )\n",
    "                ]\n",
    "            )\n",
    "        ),\n",
    "        entity_id_field=\"nodeId\",\n",
    "        feature_specs=feature_specs,\n",
    "        worker_count=1,\n",
    "        feature_time=feature_time,\n",
    "    )\n",
    ")\n",
    "\n",
    "print(import_request.result())"
   ]
  },
  {
   "cell_type": "markdown",
   "metadata": {
    "id": "mOeih_WxWhSx"
   },
   "source": [
    "使用特征存储中的特征发送预测。"
   ]
  },
  {
   "cell_type": "code",
   "execution_count": null,
   "metadata": {
    "id": "HFr8zWyiWxOa"
   },
   "outputs": [],
   "source": [
    "from google.cloud.aiplatform_v1 import FeaturestoreOnlineServingServiceClient\n",
    "\n",
    "data_client = FeaturestoreOnlineServingServiceClient(\n",
    "    client_options={\"api_endpoint\": api_endpoint}\n",
    ")"
   ]
  },
  {
   "cell_type": "code",
   "execution_count": null,
   "metadata": {
    "id": "CnVC3BHmWylQ"
   },
   "outputs": [],
   "source": [
    "# Retrieve Neo4j embeddings from feature store\n",
    "from google.cloud.aiplatform_v1.types import FeatureSelector, IdMatcher\n",
    "from google.cloud.aiplatform_v1.types import \\\n",
    "    featurestore_online_service as featurestore_online_service_pb2\n",
    "\n",
    "feature_selector = FeatureSelector(\n",
    "    id_matcher=IdMatcher(\n",
    "        ids=[\"embedding_{}\".format(i) for i in range(EMBEDDING_DIMENSION)]\n",
    "    )\n",
    ")\n",
    "\n",
    "fs_features = data_client.read_feature_values(\n",
    "    featurestore_online_service_pb2.ReadFeatureValuesRequest(\n",
    "        entity_type=entity_path,\n",
    "        entity_id=\"5\",\n",
    "        feature_selector=feature_selector,\n",
    "    )\n",
    ")\n",
    "\n",
    "saved_embeddings = dict(\n",
    "    zip(\n",
    "        (fd.id for fd in fs_features.header.feature_descriptors),\n",
    "        (str(d.value.double_value) for d in fs_features.entity_view.data),\n",
    "    )\n",
    ")"
   ]
  },
  {
   "cell_type": "code",
   "execution_count": null,
   "metadata": {
    "id": "jgW3Ks0SihdN"
   },
   "outputs": [],
   "source": [
    "# Combine with other features. These might be sourced per transaction\n",
    "all_features = {\"num_transactions\": \"80\", \"total_dollar_amnt\": \"7484459.618641878\"}\n",
    "\n",
    "all_features.update(saved_embeddings)\n",
    "\n",
    "instances = [{key: str(value) for key, value in all_features.items()}]"
   ]
  },
  {
   "cell_type": "code",
   "execution_count": null,
   "metadata": {
    "id": "DnK_FJeIi--4"
   },
   "outputs": [],
   "source": [
    "# Send a prediction\n",
    "endpoint.predict(instances=instances)"
   ]
  },
  {
   "cell_type": "markdown",
   "metadata": {
    "id": "DU79nGz2gv_M"
   },
   "source": [
    "清理"
   ]
  },
  {
   "cell_type": "markdown",
   "metadata": {
    "id": "cBqqQEW_Kggf"
   },
   "source": [
    "## Neo4j 清理\n",
    "\n",
    "要删除图数据科学表示的图，请运行以下命令："
   ]
  },
  {
   "cell_type": "code",
   "execution_count": null,
   "metadata": {
    "id": "ICSNRLM5YQ5N"
   },
   "outputs": [],
   "source": [
    "gds.graph.drop(G)"
   ]
  },
  {
   "cell_type": "markdown",
   "metadata": {
    "id": "NAM7PXfmKikz"
   },
   "source": [
    "## Google Cloud 清理\n",
    "\n",
    "删除特征存储库并关闭端点"
   ]
  },
  {
   "cell_type": "code",
   "execution_count": null,
   "metadata": {
    "id": "Es9wPH3UVbP-"
   },
   "outputs": [],
   "source": [
    "fs_client.delete_featurestore(\n",
    "    request=featurestore_service_pb2.DeleteFeaturestoreRequest(\n",
    "        name=fs_client.featurestore_path(PROJECT_ID, REGION, FEATURESTORE_ID),\n",
    "        force=True,\n",
    "    )\n",
    ").result()\n",
    "\n",
    "endpoint.delete()"
   ]
  }
 ],
 "metadata": {
  "colab": {
   "name": "graph_paysim.ipynb",
   "toc_visible": true
  },
  "kernelspec": {
   "display_name": "Python 3",
   "name": "python3"
  }
 },
 "nbformat": 4,
 "nbformat_minor": 0
}
