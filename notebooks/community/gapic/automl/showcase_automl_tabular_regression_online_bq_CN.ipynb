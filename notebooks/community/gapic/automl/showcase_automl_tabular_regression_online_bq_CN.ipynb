{
 "cells": [
  {
   "cell_type": "code",
   "execution_count": null,
   "metadata": {
    "id": "copyright"
   },
   "outputs": [],
   "source": [
    "# Copyright 2020 Google LLC\n",
    "#\n",
    "# Licensed under the Apache License, Version 2.0 (the \"License\");\n",
    "# you may not use this file except in compliance with the License.\n",
    "# You may obtain a copy of the License at\n",
    "#\n",
    "#     https://www.apache.org/licenses/LICENSE-2.0\n",
    "#\n",
    "# Unless required by applicable law or agreed to in writing, software\n",
    "# distributed under the License is distributed on an \"AS IS\" BASIS,\n",
    "# WITHOUT WARRANTIES OR CONDITIONS OF ANY KIND, either express or implied.\n",
    "# See the License for the specific language governing permissions and\n",
    "# limitations under the License."
   ]
  },
  {
   "cell_type": "markdown",
   "metadata": {
    "id": "title"
   },
   "source": [
    "# Vertex 客户端库：用于在线预测的 AutoML 表格回归模型\n",
    "\n",
    "<table align=\"left\">\n",
    "  <td>\n",
    "    <a href=\"https://colab.research.google.com/github/GoogleCloudPlatform/vertex-ai-samples/blob/master/notebooks/community/gapic/automl/showcase_automl_tabular_regression_online_bq.ipynb\">\n",
    "      <img src=\"https://cloud.google.com/ml-engine/images/colab-logo-32px.png\" alt=\"Colab logo\"> 在 Colab 中运行\n",
    "    </a>\n",
    "  </td>\n",
    "  <td>\n",
    "    <a href=\"https://github.com/GoogleCloudPlatform/vertex-ai-samples/blob/master/notebooks/community/gapic/automl/showcase_automl_tabular_regression_online_bq.ipynb\">\n",
    "      <img src=\"https://cloud.google.com/ml-engine/images/github-logo-32px.png\" alt=\"GitHub logo\">\n",
    "      在 GitHub 上查看\n",
    "    </a>\n",
    "  </td>\n",
    "</table>\n",
    "<br/><br/><br/>"
   ]
  },
  {
   "cell_type": "markdown",
   "metadata": {
    "id": "overview:automl"
   },
   "source": [
    "## 概述\n",
    "\n",
    "本教程演示了如何使用Python的Vertex客户端库来创建表格回归模型，并使用Google Cloud的[AutoML](https://cloud.google.com/vertex-ai/docs/start/automl-users)进行在线预测。"
   ]
  },
  {
   "cell_type": "markdown",
   "metadata": {
    "id": "dataset:gsod,lrg"
   },
   "source": [
    "### 数据集\n",
    "\n",
    "本教程使用的数据集是来自[BigQuery公共数据集](https://cloud.google.com/bigquery/public-data)的GSOD数据集。您将使用的数据集版本仅包括年份、月份和日期字段，用于预测平均每日温度（mean_temp）的值。"
   ]
  },
  {
   "cell_type": "markdown",
   "metadata": {
    "id": "objective:automl,training,online_prediction"
   },
   "source": [
    "### 目标\n",
    "\n",
    "在本教程中，您将使用Vertex客户端库从Python脚本创建一个AutoML表格回归模型，并部署用于在线预测。您也可以选择使用`gcloud`命令行工具或在Google Cloud控制台上在线创建和部署模型。\n",
    "\n",
    "执行的步骤包括：\n",
    "\n",
    "- 创建一个Vertex `Dataset`资源。\n",
    "- 训练模型。\n",
    "- 查看模型评估。\n",
    "- 将`Model`资源部署到服务`Endpoint`资源。\n",
    "- 进行预测。\n",
    "- 取消部署`Model`。"
   ]
  },
  {
   "cell_type": "markdown",
   "metadata": {
    "id": "costs"
   },
   "source": [
    "费用\n",
    "\n",
    "本教程使用 Google Cloud（GCP）的计费组件：\n",
    "\n",
    "* Vertex AI\n",
    "* Cloud Storage\n",
    "\n",
    "了解 [Vertex AI\n",
    "价格](https://cloud.google.com/vertex-ai/pricing) 和 [Cloud Storage\n",
    "价格](https://cloud.google.com/storage/pricing)，并使用 [定价\n",
    "计算器](https://cloud.google.com/products/calculator/)\n",
    "根据您的预期使用量生成成本估算。"
   ]
  },
  {
   "cell_type": "markdown",
   "metadata": {
    "id": "install_aip"
   },
   "source": [
    "## 安装\n",
    "\n",
    "安装最新版本的 Vertex 客户端库。"
   ]
  },
  {
   "cell_type": "code",
   "execution_count": null,
   "metadata": {
    "id": "install_aip"
   },
   "outputs": [],
   "source": [
    "import os\n",
    "import sys\n",
    "\n",
    "# Google Cloud Notebook\n",
    "if os.path.exists(\"/opt/deeplearning/metadata/env_version\"):\n",
    "    USER_FLAG = \"--user\"\n",
    "else:\n",
    "    USER_FLAG = \"\"\n",
    "\n",
    "! pip3 install -U google-cloud-aiplatform $USER_FLAG"
   ]
  },
  {
   "cell_type": "markdown",
   "metadata": {
    "id": "install_storage"
   },
   "source": [
    "安装最新的*google-cloud-storage*库版本。"
   ]
  },
  {
   "cell_type": "code",
   "execution_count": null,
   "metadata": {
    "id": "install_storage"
   },
   "outputs": [],
   "source": [
    "! pip3 install -U google-cloud-storage $USER_FLAG"
   ]
  },
  {
   "cell_type": "markdown",
   "metadata": {
    "id": "restart"
   },
   "source": [
    "### 重新启动内核\n",
    "\n",
    "一旦您安装了Vertex客户端库和Google *云存储*，您需要重新启动笔记本内核，以便它能够找到这些软件包。"
   ]
  },
  {
   "cell_type": "code",
   "execution_count": null,
   "metadata": {
    "id": "restart"
   },
   "outputs": [],
   "source": [
    "if not os.getenv(\"IS_TESTING\"):\n",
    "    # Automatically restart kernel after installs\n",
    "    import IPython\n",
    "\n",
    "    app = IPython.Application.instance()\n",
    "    app.kernel.do_shutdown(True)"
   ]
  },
  {
   "cell_type": "markdown",
   "metadata": {
    "id": "before_you_begin"
   },
   "source": [
    "开始之前\n",
    "\n",
    "GPU运行时\n",
    "\n",
    "*如果您有这个选项，请确保在GPU运行时中运行此笔记本。在Colab中，选择* **运行时 > 更改运行时类型 > GPU**\n",
    "\n",
    "设置您的Google Cloud项目\n",
    "\n",
    "**无论您使用的是哪种笔记本环境，以下步骤都是必需的。**\n",
    "\n",
    "1. [选择或创建一个Google Cloud项目](https://console.cloud.google.com/cloud-resource-manager)。当您第一次创建账户时，您将获得$300的免费信用额，可用于支付计算/存储成本。\n",
    "\n",
    "2. [确保为您的项目启用了计费。](https://cloud.google.com/billing/docs/how-to/modify-project)\n",
    "\n",
    "3. [启用Vertex APIs和Compute Engine APIs。](https://console.cloud.google.com/flows/enableapi?apiid=ml.googleapis.com,compute_component)\n",
    "\n",
    "4. [Google Cloud SDK](https://cloud.google.com/sdk)已经安装在Google Cloud Notebook中。\n",
    "\n",
    "5. 在下面的单元格中输入您的项目ID。然后运行该单元格，以确保Cloud SDK在本笔记本中的所有命令中使用正确的项目。\n",
    "\n",
    "**提示**：Jupyter会将以`!`为前缀的行视为shell命令，并将以`$`为前缀的Python变量插入到这些命令中。"
   ]
  },
  {
   "cell_type": "code",
   "execution_count": null,
   "metadata": {
    "id": "set_project_id"
   },
   "outputs": [],
   "source": [
    "PROJECT_ID = \"[your-project-id]\"  # @param {type:\"string\"}"
   ]
  },
  {
   "cell_type": "code",
   "execution_count": null,
   "metadata": {
    "id": "autoset_project_id"
   },
   "outputs": [],
   "source": [
    "if PROJECT_ID == \"\" or PROJECT_ID is None or PROJECT_ID == \"[your-project-id]\":\n",
    "    # Get your GCP project id from gcloud\n",
    "    shell_output = !gcloud config list --format 'value(core.project)' 2>/dev/null\n",
    "    PROJECT_ID = shell_output[0]\n",
    "    print(\"Project ID:\", PROJECT_ID)"
   ]
  },
  {
   "cell_type": "code",
   "execution_count": null,
   "metadata": {
    "id": "set_gcloud_project_id"
   },
   "outputs": [],
   "source": [
    "! gcloud config set project $PROJECT_ID"
   ]
  },
  {
   "cell_type": "markdown",
   "metadata": {
    "id": "region"
   },
   "source": [
    "#### 区域\n",
    "\n",
    "您也可以更改用于其余笔记本操作的“REGION”变量。以下是Vertex支持的区域。我们建议您选择离您最近的区域。\n",
    "\n",
    "- 美洲：`us-central1`\n",
    "- 欧洲：`europe-west4`\n",
    "- 亚太地区：`asia-east1`\n",
    "\n",
    "您可能不能使用多区域存储桶对Vertex进行培训。并非所有区域都支持所有Vertex服务。有关每个区域的最新支持，请参阅[Vertex位置文档](https://cloud.google.com/vertex-ai/docs/general/locations)。"
   ]
  },
  {
   "cell_type": "code",
   "execution_count": null,
   "metadata": {
    "id": "region"
   },
   "outputs": [],
   "source": [
    "REGION = \"us-central1\"  # @param {type: \"string\"}"
   ]
  },
  {
   "cell_type": "markdown",
   "metadata": {
    "id": "timestamp"
   },
   "source": [
    "时间戳\n",
    "\n",
    "如果您正在进行实时教程会话，可能会使用共享的测试帐户或项目。为避免资源创建时用户名称冲突，您可以为每个实例会话创建一个时间戳，并附加到将在此教程中创建的资源名称上。"
   ]
  },
  {
   "cell_type": "code",
   "execution_count": null,
   "metadata": {
    "id": "timestamp"
   },
   "outputs": [],
   "source": [
    "from datetime import datetime\n",
    "\n",
    "TIMESTAMP = datetime.now().strftime(\"%Y%m%d%H%M%S\")"
   ]
  },
  {
   "cell_type": "markdown",
   "metadata": {
    "id": "gcp_authenticate"
   },
   "source": [
    "### 验证您的Google Cloud帐户\n",
    "\n",
    "**如果您正在使用Google Cloud Notebook**，您的环境已经得到验证。请跳过此步骤。\n",
    "\n",
    "**如果您正在使用Colab**，请运行下面的代码块，并按照提示进行身份验证以通过oAuth认证您的帐户。\n",
    "\n",
    "**否则**，请按照以下步骤操作：\n",
    "\n",
    "在Cloud控制台中，转到[创建服务帐户密钥](https://console.cloud.google.com/apis/credentials/serviceaccountkey)页面。\n",
    "\n",
    "**点击创建服务帐户**。\n",
    "\n",
    "在**服务帐户名称**字段中输入一个名称，然后点击**创建**。\n",
    "\n",
    "在**将此服务帐户授予项目访问权限**部分，点击角色下拉列表。在过滤框中键入“Vertex”，然后选择**Vertex管理员**。在过滤框中键入“Storage Object Admin”，然后选择**Storage Object管理权限**。\n",
    "\n",
    "点击创建。包含您密钥的JSON文件将下载到您的本地环境中。\n",
    "\n",
    "在下面的代码块中，将您的服务帐户密钥路径输入为GOOGLE_APPLICATION_CREDENTIALS变量，然后运行该代码块。"
   ]
  },
  {
   "cell_type": "code",
   "execution_count": null,
   "metadata": {
    "id": "gcp_authenticate"
   },
   "outputs": [],
   "source": [
    "# If you are running this notebook in Colab, run this cell and follow the\n",
    "# instructions to authenticate your GCP account. This provides access to your\n",
    "# Cloud Storage bucket and lets you submit training jobs and prediction\n",
    "# requests.\n",
    "\n",
    "# If on Google Cloud Notebook, then don't execute this code\n",
    "if not os.path.exists(\"/opt/deeplearning/metadata/env_version\"):\n",
    "    if \"google.colab\" in sys.modules:\n",
    "        from google.colab import auth as google_auth\n",
    "\n",
    "        google_auth.authenticate_user()\n",
    "\n",
    "    # If you are running this notebook locally, replace the string below with the\n",
    "    # path to your service account key and run this cell to authenticate your GCP\n",
    "    # account.\n",
    "    elif not os.getenv(\"IS_TESTING\"):\n",
    "        %env GOOGLE_APPLICATION_CREDENTIALS ''"
   ]
  },
  {
   "cell_type": "markdown",
   "metadata": {
    "id": "setup_vars"
   },
   "source": [
    "### 设置变量\n",
    "\n",
    "接下来，设置一些在本教程中使用的变量。\n",
    "### 导入库和定义常量"
   ]
  },
  {
   "cell_type": "markdown",
   "metadata": {
    "id": "import_aip:protobuf"
   },
   "source": [
    "导入Vertex客户端库\n",
    "\n",
    "将Vertex客户端库导入到我们的Python环境中。"
   ]
  },
  {
   "cell_type": "code",
   "execution_count": null,
   "metadata": {
    "id": "import_aip:protobuf"
   },
   "outputs": [],
   "source": [
    "import time\n",
    "\n",
    "from google.cloud.aiplatform import gapic as aip\n",
    "from google.protobuf import json_format\n",
    "from google.protobuf.json_format import MessageToJson, ParseDict\n",
    "from google.protobuf.struct_pb2 import Struct, Value"
   ]
  },
  {
   "cell_type": "markdown",
   "metadata": {
    "id": "aip_constants"
   },
   "source": [
    "顶点常量\n",
    "\n",
    "为顶点设置以下常量：\n",
    "\n",
    "- `API_ENDPOINT`：用于数据集、模型、作业、流水线和端点服务的顶点API服务端点。\n",
    "- `PARENT`：用于数据集、模型、作业、流水线和端点资源的顶点位置根路径。"
   ]
  },
  {
   "cell_type": "code",
   "execution_count": null,
   "metadata": {
    "id": "aip_constants"
   },
   "outputs": [],
   "source": [
    "# API service endpoint\n",
    "API_ENDPOINT = \"{}-aiplatform.googleapis.com\".format(REGION)\n",
    "\n",
    "# Vertex location root path for your dataset, model and endpoint resources\n",
    "PARENT = \"projects/\" + PROJECT_ID + \"/locations/\" + REGION"
   ]
  },
  {
   "cell_type": "markdown",
   "metadata": {
    "id": "automl_constants"
   },
   "source": [
    "#### AutoML常量\n",
    "\n",
    "设置专属于AutoML数据集和训练的常量：\n",
    "\n",
    "- 数据集模式：告诉“数据集”资源服务它是哪种类型的数据集。\n",
    "- 数据标签（注释）模式：告诉“数据集”资源服务数据是如何标记（注释）的。\n",
    "- 数据集训练模式：告诉“管道”资源服务为哪种任务（例如分类）训练模型。"
   ]
  },
  {
   "cell_type": "code",
   "execution_count": null,
   "metadata": {
    "id": "automl_constants:lrg"
   },
   "outputs": [],
   "source": [
    "# Tabular Dataset type\n",
    "DATA_SCHEMA = \"gs://google-cloud-aiplatform/schema/dataset/metadata/tables_1.0.0.yaml\"\n",
    "# Tabular Labeling type\n",
    "LABEL_SCHEMA = (\n",
    "    \"gs://google-cloud-aiplatform/schema/dataset/ioformat/table_io_format_1.0.0.yaml\"\n",
    ")\n",
    "# Tabular Training task\n",
    "TRAINING_SCHEMA = \"gs://google-cloud-aiplatform/schema/trainingjob/definition/automl_tables_1.0.0.yaml\""
   ]
  },
  {
   "cell_type": "markdown",
   "metadata": {
    "id": "accelerators:prediction"
   },
   "source": [
    "硬件加速器\n",
    "\n",
    "设置硬件加速器（例如，GPU）用于预测。\n",
    "\n",
    "设置变量`DEPLOY_GPU/DEPLOY_NGPU`以使用支持GPU的容器映像，以及分配给虚拟机（VM）实例的GPU数量。例如，要使用一个GPU容器映像，并为每个VM分配4个Nvidia Telsa K80 GPU，您应该指定：\n",
    "\n",
    "（aip.AcceleratorType.NVIDIA_TESLA_K80，4）\n",
    "\n",
    "对于GPU，可用的加速器包括：\n",
    "- aip.AcceleratorType.NVIDIA_TESLA_K80\n",
    "- aip.AcceleratorType.NVIDIA_TESLA_P100\n",
    "- aip.AcceleratorType.NVIDIA_TESLA_P4\n",
    "- aip.AcceleratorType.NVIDIA_TESLA_T4\n",
    "- aip.AcceleratorType.NVIDIA_TESLA_V100\n",
    "\n",
    "否则，指定`(None, None)`以使用一个在CPU上运行的容器映像。"
   ]
  },
  {
   "cell_type": "code",
   "execution_count": null,
   "metadata": {
    "id": "accelerators:prediction"
   },
   "outputs": [],
   "source": [
    "if os.getenv(\"IS_TESTING_DEPOLY_GPU\"):\n",
    "    DEPLOY_GPU, DEPLOY_NGPU = (\n",
    "        aip.AcceleratorType.NVIDIA_TESLA_K80,\n",
    "        int(os.getenv(\"IS_TESTING_DEPOLY_GPU\")),\n",
    "    )\n",
    "else:\n",
    "    DEPLOY_GPU, DEPLOY_NGPU = (aip.AcceleratorType.NVIDIA_TESLA_K80, 1)"
   ]
  },
  {
   "cell_type": "markdown",
   "metadata": {
    "id": "container:automl"
   },
   "source": [
    "Docker容器映像\n",
    "\n",
    "对于AutoML批量预测，由Vertex预测服务预先确定用于服务二进制的容器映像。更具体地，该服务将根据您选择的硬件加速器选择适当的容器用于模型。"
   ]
  },
  {
   "cell_type": "markdown",
   "metadata": {
    "id": "machine:prediction"
   },
   "source": [
    "#### 机器类型\n",
    "\n",
    "接下来，设置用于预测的机器类型。\n",
    "\n",
    "- 将变量`DEPLOY_COMPUTE`设置为配置用于预测的VM的计算资源。\n",
    "  - `机器类型`\n",
    "     - `n1-standard`：每个vCPU 3.75GB内存。\n",
    "     - `n1-highmem`：每个vCPU 6.5GB内存。\n",
    "     - `n1-highcpu`：每个vCPU 0.9GB内存。\n",
    "  - `vCPUs`：数量为\\[2, 4, 8, 16, 32, 64, 96\\]\n",
    "\n",
    "*注意：您还可以使用n2和e2机器类型进行培训和部署，但它们不支持GPU*"
   ]
  },
  {
   "cell_type": "code",
   "execution_count": null,
   "metadata": {
    "id": "machine:prediction"
   },
   "outputs": [],
   "source": [
    "if os.getenv(\"IS_TESTING_DEPLOY_MACHINE\"):\n",
    "    MACHINE_TYPE = os.getenv(\"IS_TESTING_DEPLOY_MACHINE\")\n",
    "else:\n",
    "    MACHINE_TYPE = \"n1-standard\"\n",
    "\n",
    "VCPU = \"4\"\n",
    "DEPLOY_COMPUTE = MACHINE_TYPE + \"-\" + VCPU\n",
    "print(\"Deploy machine type\", DEPLOY_COMPUTE)"
   ]
  },
  {
   "cell_type": "markdown",
   "metadata": {
    "id": "tutorial_start:automl"
   },
   "source": [
    "# 教程\n",
    "\n",
    "现在您已经准备好开始创建自己的AutoML表格回归模型。"
   ]
  },
  {
   "cell_type": "markdown",
   "metadata": {
    "id": "clients:automl,online_prediction"
   },
   "source": [
    "## 设置客户端\n",
    "\n",
    "Vertex客户端库采用客户端/服务器模型。在您的一侧（Python脚本）中，您将创建一个客户端，该客户端向Vertex服务器发送请求并接收响应。\n",
    "\n",
    "在本教程中，您将为工作流程中的不同步骤使用不同的客户端。所以提前设置好它们。\n",
    "\n",
    "- 用于`Dataset`资源的数据集服务。\n",
    "- 用于`Model`资源的模型服务。\n",
    "- 用于训练的管道服务。\n",
    "- 用于部署的终端点服务。\n",
    "- 用于提供服务的预测服务。"
   ]
  },
  {
   "cell_type": "code",
   "execution_count": null,
   "metadata": {
    "id": "clients:automl,online_prediction"
   },
   "outputs": [],
   "source": [
    "# client options same for all services\n",
    "client_options = {\"api_endpoint\": API_ENDPOINT}\n",
    "\n",
    "\n",
    "def create_dataset_client():\n",
    "    client = aip.DatasetServiceClient(client_options=client_options)\n",
    "    return client\n",
    "\n",
    "\n",
    "def create_model_client():\n",
    "    client = aip.ModelServiceClient(client_options=client_options)\n",
    "    return client\n",
    "\n",
    "\n",
    "def create_pipeline_client():\n",
    "    client = aip.PipelineServiceClient(client_options=client_options)\n",
    "    return client\n",
    "\n",
    "\n",
    "def create_endpoint_client():\n",
    "    client = aip.EndpointServiceClient(client_options=client_options)\n",
    "    return client\n",
    "\n",
    "\n",
    "def create_prediction_client():\n",
    "    client = aip.PredictionServiceClient(client_options=client_options)\n",
    "    return client\n",
    "\n",
    "\n",
    "clients = {}\n",
    "clients[\"dataset\"] = create_dataset_client()\n",
    "clients[\"model\"] = create_model_client()\n",
    "clients[\"pipeline\"] = create_pipeline_client()\n",
    "clients[\"endpoint\"] = create_endpoint_client()\n",
    "clients[\"prediction\"] = create_prediction_client()\n",
    "\n",
    "for client in clients.items():\n",
    "    print(client)"
   ]
  },
  {
   "cell_type": "markdown",
   "metadata": {
    "id": "dataset:tabular"
   },
   "source": [
    "## 数据集\n",
    "\n",
    "现在您的客户准备好了，您的第一步是创建一个`Dataset`资源实例。这一步与Vision、Video和Language不同。对于这些产品，在创建`Dataset`资源之后，然后可以使用`import_data`方法分别导入数据。\n",
    "\n",
    "对于表格数据，数据的导入会推迟到训练流水线开始训练模型时。我们该怎么做呢？首先，您不会调用`import_data`方法。相反，当您创建数据集实例时，您将在`Dataset`资源的元数据中指定包含您表格数据的CSV文件或BigQuery位置的Cloud Storage位置。\n",
    "\n",
    "#### Cloud Storage\n",
    "\n",
    "`metadata = {\"input_config\": {\"gcs_source\": {\"uri\": [gcs_uri]}}}`\n",
    "\n",
    "Cloud Storage路径的格式为：\n",
    "\n",
    "    gs://[bucket_name]/[folder(s)/[file]\n",
    "\n",
    "#### BigQuery\n",
    "\n",
    "`metadata = {\"input_config\": {\"bigquery_source\": {\"uri\": [gcs_uri]}}}`\n",
    "\n",
    "BigQuery路径的格式为：\n",
    "\n",
    "    bq://[collection].[dataset].[table]\n",
    "\n",
    "请注意，`uri`字段是一个列表，您可以对多个CSV文件或BigQuery表进行输入，当您的数据分布在多个文件中时。"
   ]
  },
  {
   "cell_type": "markdown",
   "metadata": {
    "id": "data_preparation:tabular,u_dataset"
   },
   "source": [
    "数据准备\n",
    "\n",
    "对于表格数据，顶点`Dataset`资源具有一些要求。\n",
    "\n",
    "- 必须是CSV文件或BigQuery查询。"
   ]
  },
  {
   "cell_type": "markdown",
   "metadata": {
    "id": "import_file:u_dataset,bq"
   },
   "source": [
    "#### BigQuery培训数据的位置。\n",
    "\n",
    "现在将变量`IMPORT_FILE`设置为BigQuery中数据表的位置。"
   ]
  },
  {
   "cell_type": "code",
   "execution_count": null,
   "metadata": {
    "id": "import_file:gsod,bq,lrg"
   },
   "outputs": [],
   "source": [
    "IMPORT_FILE = \"bq://bigquery-public-data.samples.gsod\""
   ]
  },
  {
   "cell_type": "markdown",
   "metadata": {
    "id": "quick_peek:bq"
   },
   "source": [
    "#### 快速查看数据\n",
    "\n",
    "您将使用存储在公共BigQuery表中的NOAA历史天气数据集的一个版本。\n",
    "\n",
    "**TODO**\n",
    "首先快速查看数据。通过计算表中行的数量 (`wc -l`) 来统计示例的数量，然后查看前几行数据。"
   ]
  },
  {
   "cell_type": "code",
   "execution_count": null,
   "metadata": {
    "id": "quick_peek:bq"
   },
   "outputs": [],
   "source": [
    "!bq head -n 10 $IMPORT_FILE"
   ]
  },
  {
   "cell_type": "markdown",
   "metadata": {
    "id": "create_aip_dataset:tabular"
   },
   "source": [
    "## 数据集\n",
    "\n",
    "现在您的客户已经准备好了，训练模型的第一步是创建一个托管的数据集实例，然后将标记数据上传到其中。\n",
    "\n",
    "### 创建 `Dataset` 资源实例\n",
    "\n",
    "使用辅助函数 `create_dataset` 来创建一个 `Dataset` 资源实例。这个函数执行以下操作：\n",
    "\n",
    "1. 使用数据集客户端服务。\n",
    "2. 创建一个 Vertex `Dataset` 资源（`aip.Dataset`），包括以下参数：\n",
    "- `display_name`：您选择的可读名称。\n",
    "- `metadata_schema_uri`：数据集类型的模式。\n",
    "- `metadata`：表格数据的云存储或BigQuery位置。\n",
    "3. 调用客户端数据集服务的方法 `create_dataset`，包括以下参数：\n",
    "- `parent`：您的 `Database`、`Model` 和 `Endpoint` 资源的 Vertex 位置根路径。\n",
    "- `dataset`：您创建的 Vertex 数据集对象实例。\n",
    "4. 该方法返回一个 `operation` 对象。\n",
    "\n",
    "`operation` 对象是 Vertex 处理长时间运行操作的异步调用方式。虽然这个步骤通常很快，但在项目中首次使用时，由于配置的延迟，可能会有更长的延迟时间。\n",
    "\n",
    "您可以使用 `operation` 对象来获取操作的状态（例如，创建 `Dataset` 资源）或取消操作，通过调用操作方法：\n",
    "\n",
    "| 方法      | 描述 |\n",
    "| ----------- | ----------- |\n",
    "| result()    | 等待操作完成并以 JSON 格式返回结果对象。 |\n",
    "| running()   | 返回操作是否仍在运行的 True/False。 |\n",
    "| done()      | 返回操作是否已完成的 True/False。 |\n",
    "| canceled()  | 返回操作是否已取消的 True/False。 |\n",
    "| cancel()    | 取消操作（可能需要长达30秒）。 |"
   ]
  },
  {
   "cell_type": "code",
   "execution_count": null,
   "metadata": {
    "id": "create_aip_dataset:tabular"
   },
   "outputs": [],
   "source": [
    "TIMEOUT = 90\n",
    "\n",
    "\n",
    "def create_dataset(name, schema, src_uri=None, labels=None, timeout=TIMEOUT):\n",
    "    start_time = time.time()\n",
    "    try:\n",
    "        if src_uri.startswith(\"gs://\"):\n",
    "            metadata = {\"input_config\": {\"gcs_source\": {\"uri\": [src_uri]}}}\n",
    "        elif src_uri.startswith(\"bq://\"):\n",
    "            metadata = {\"input_config\": {\"bigquery_source\": {\"uri\": [src_uri]}}}\n",
    "        dataset = aip.Dataset(\n",
    "            display_name=name,\n",
    "            metadata_schema_uri=schema,\n",
    "            labels=labels,\n",
    "            metadata=json_format.ParseDict(metadata, Value()),\n",
    "        )\n",
    "\n",
    "        operation = clients[\"dataset\"].create_dataset(parent=PARENT, dataset=dataset)\n",
    "        print(\"Long running operation:\", operation.operation.name)\n",
    "        result = operation.result(timeout=TIMEOUT)\n",
    "        print(\"time:\", time.time() - start_time)\n",
    "        print(\"response\")\n",
    "        print(\" name:\", result.name)\n",
    "        print(\" display_name:\", result.display_name)\n",
    "        print(\" metadata_schema_uri:\", result.metadata_schema_uri)\n",
    "        print(\" metadata:\", dict(result.metadata))\n",
    "        print(\" create_time:\", result.create_time)\n",
    "        print(\" update_time:\", result.update_time)\n",
    "        print(\" etag:\", result.etag)\n",
    "        print(\" labels:\", dict(result.labels))\n",
    "        return result\n",
    "    except Exception as e:\n",
    "        print(\"exception:\", e)\n",
    "        return None\n",
    "\n",
    "\n",
    "result = create_dataset(\"gsod-\" + TIMESTAMP, DATA_SCHEMA, src_uri=IMPORT_FILE)"
   ]
  },
  {
   "cell_type": "markdown",
   "metadata": {
    "id": "dataset_id:result"
   },
   "source": [
    "现在保存您创建的“数据集”资源实例的唯一数据集标识符。"
   ]
  },
  {
   "cell_type": "code",
   "execution_count": null,
   "metadata": {
    "id": "dataset_id:result"
   },
   "outputs": [],
   "source": [
    "# The full unique ID for the dataset\n",
    "dataset_id = result.name\n",
    "# The short numeric ID for the dataset\n",
    "dataset_short_id = dataset_id.split(\"/\")[-1]\n",
    "\n",
    "print(dataset_id)"
   ]
  },
  {
   "cell_type": "markdown",
   "metadata": {
    "id": "train_automl_model"
   },
   "source": [
    "## 训练模型\n",
    "\n",
    "现在使用您的 Vertex `Dataset` 资源来训练一个 AutoML 表格回归模型。 要训练模型，请执行以下步骤：\n",
    "\n",
    "1. 为 `Dataset` 资源创建一个 Vertex 训练管道。\n",
    "2. 执行管道以开始训练。"
   ]
  },
  {
   "cell_type": "markdown",
   "metadata": {
    "id": "create_pipeline:automl"
   },
   "source": [
    "### 创建一个训练流水线\n",
    "\n",
    "您可能会问，我们用流水线做什么？通常在工作（如训练）具有多个步骤时，您会使用流水线，通常按顺序进行：执行步骤A，执行步骤B，依此类推。通过将这些步骤放入流水线中，我们可以获得以下好处：\n",
    "\n",
    "1. 对后续训练作业具有重复使用性。\n",
    "2. 可以容器化并作为批处理作业运行。\n",
    "3. 可以进行分布式处理。\n",
    "4. 所有步骤都与同一流水线作业相关联，以跟踪进度。\n",
    "\n",
    "使用这个辅助函数 `create_pipeline`，它接受以下参数：\n",
    "\n",
    "- `pipeline_name`：流水线作业的人类可读名称。\n",
    "- `model_name`：模型的人类可读名称。\n",
    "- `dataset`：Vertex的完全限定数据集标识符。\n",
    "- `schema`：数据集标签（注释）训练模式。\n",
    "- `task`：描述训练作业要求的字典。\n",
    "\n",
    "辅助函数调用 `Pipeline` 客户端服务方法 `create_pipeline`，它接受以下参数：\n",
    "\n",
    "- `parent`：您的 `Dataset`、`Model` 和 `Endpoint` 资源的 Vertex 位置根路径。\n",
    "- `training_pipeline`：流水线训练作业的完整规范。\n",
    "\n",
    "现在让我们更深入地看一下构建 `training_pipeline` 规范所需的*最低*要求：\n",
    "\n",
    "- `display_name`：流水线作业的人类可读名称。\n",
    "- `training_task_definition`：数据集标签（注释）训练模式。\n",
    "- `training_task_inputs`：描述训练作业要求的字典。\n",
    "- `model_to_upload`：模型的人类可读名称。\n",
    "- `input_data_config`：数据集规范。\n",
    "   - `dataset_id`：只有 Vertex 数据集标识符（非完全限定）--这是完全限定标识符的最后部分。\n",
    "   - `fraction_split`：如果指定，数据集用于训练、测试和验证的百分比。否则，百分比会自动由 AutoML 选择。"
   ]
  },
  {
   "cell_type": "code",
   "execution_count": null,
   "metadata": {
    "id": "create_pipeline:automl"
   },
   "outputs": [],
   "source": [
    "def create_pipeline(pipeline_name, model_name, dataset, schema, task):\n",
    "\n",
    "    dataset_id = dataset.split(\"/\")[-1]\n",
    "\n",
    "    input_config = {\n",
    "        \"dataset_id\": dataset_id,\n",
    "        \"fraction_split\": {\n",
    "            \"training_fraction\": 0.8,\n",
    "            \"validation_fraction\": 0.1,\n",
    "            \"test_fraction\": 0.1,\n",
    "        },\n",
    "    }\n",
    "\n",
    "    training_pipeline = {\n",
    "        \"display_name\": pipeline_name,\n",
    "        \"training_task_definition\": schema,\n",
    "        \"training_task_inputs\": task,\n",
    "        \"input_data_config\": input_config,\n",
    "        \"model_to_upload\": {\"display_name\": model_name},\n",
    "    }\n",
    "\n",
    "    try:\n",
    "        pipeline = clients[\"pipeline\"].create_training_pipeline(\n",
    "            parent=PARENT, training_pipeline=training_pipeline\n",
    "        )\n",
    "        print(pipeline)\n",
    "    except Exception as e:\n",
    "        print(\"exception:\", e)\n",
    "        return None\n",
    "    return pipeline"
   ]
  },
  {
   "cell_type": "markdown",
   "metadata": {
    "id": "task_requirements:automl,tabular"
   },
   "source": [
    "### 构建任务要求\n",
    "\n",
    "接下来，构建任务要求。与接受 Python（类似 JSON）字典的其他参数不同，`task`字段接受一个谷歌 protobuf 结构体，这与 Python 字典非常相似。使用`json_format.ParseDict`方法进行转换。\n",
    "\n",
    "您需要指定的最小字段包括：\n",
    "\n",
    "- `prediction_type`：我们是在进行\"分类\"还是\"回归\"。\n",
    "- `target_column`：我们要预测的 CSV 表头列的名称（即标签）。\n",
    "- `train_budget_milli_node_hours`：为训练模型预算的最长时间，其中 1000 = 1小时。\n",
    "- `disable_early_stopping`：为了让 AutoML 自行决定是否提前停止训练或将整个预算用于训练而设置为 True/False。\n",
    "- `transformations`：为每个特征列指定特征工程。\n",
    "\n",
    "对于`transformations`，列表必须为每一列包含一个条目。外部关键字段指示相应列的特征工程类型。在本教程中，您将其设置为`\"auto\"`，以告诉 AutoML 自动确定它。\n",
    "\n",
    "最后，通过调用辅助函数`create_pipeline`来创建管道，该函数将返回训练管道对象的实例。"
   ]
  },
  {
   "cell_type": "code",
   "execution_count": null,
   "metadata": {
    "id": "task_transformations:automl,tabular,gsod"
   },
   "outputs": [],
   "source": [
    "TRANSFORMATIONS = [\n",
    "    {\"auto\": {\"column_name\": \"year\"}},\n",
    "    {\"auto\": {\"column_name\": \"month\"}},\n",
    "    {\"auto\": {\"column_name\": \"day\"}},\n",
    "]\n",
    "\n",
    "label_column = \"mean_temp\""
   ]
  },
  {
   "cell_type": "code",
   "execution_count": null,
   "metadata": {
    "id": "task_requirements:automl,tabular,transformations,regression"
   },
   "outputs": [],
   "source": [
    "PIPE_NAME = \"gsod_pipe-\" + TIMESTAMP\n",
    "MODEL_NAME = \"gsod_model-\" + TIMESTAMP\n",
    "\n",
    "task = Value(\n",
    "    struct_value=Struct(\n",
    "        fields={\n",
    "            \"target_column\": Value(string_value=label_column),\n",
    "            \"prediction_type\": Value(string_value=\"regression\"),\n",
    "            \"train_budget_milli_node_hours\": Value(number_value=1000),\n",
    "            \"disable_early_stopping\": Value(bool_value=False),\n",
    "            \"transformations\": json_format.ParseDict(TRANSFORMATIONS, Value()),\n",
    "        }\n",
    "    )\n",
    ")\n",
    "\n",
    "response = create_pipeline(PIPE_NAME, MODEL_NAME, dataset_id, TRAINING_SCHEMA, task)"
   ]
  },
  {
   "cell_type": "markdown",
   "metadata": {
    "id": "pipeline_id:response"
   },
   "source": [
    "现在保存您创建的训练流水线的唯一标识符。"
   ]
  },
  {
   "cell_type": "code",
   "execution_count": null,
   "metadata": {
    "id": "pipeline_id:response"
   },
   "outputs": [],
   "source": [
    "# The full unique ID for the pipeline\n",
    "pipeline_id = response.name\n",
    "# The short numeric ID for the pipeline\n",
    "pipeline_short_id = pipeline_id.split(\"/\")[-1]\n",
    "\n",
    "print(pipeline_id)"
   ]
  },
  {
   "cell_type": "markdown",
   "metadata": {
    "id": "get_training_pipeline"
   },
   "source": [
    "### 获取有关训练管道的信息\n",
    "\n",
    "现在仅获取此训练管道实例的管道信息。通过调用作业客户服务的`get_training_pipeline`方法，helper function获取此作业的作业信息，参数如下：\n",
    "\n",
    "- `name`：Vertex的完全限定管道标识符。\n",
    "\n",
    "当模型训练完成时，管道状态将为`PIPELINE_STATE_SUCCEEDED`。"
   ]
  },
  {
   "cell_type": "code",
   "execution_count": null,
   "metadata": {
    "id": "get_training_pipeline"
   },
   "outputs": [],
   "source": [
    "def get_training_pipeline(name, silent=False):\n",
    "    response = clients[\"pipeline\"].get_training_pipeline(name=name)\n",
    "    if silent:\n",
    "        return response\n",
    "\n",
    "    print(\"pipeline\")\n",
    "    print(\" name:\", response.name)\n",
    "    print(\" display_name:\", response.display_name)\n",
    "    print(\" state:\", response.state)\n",
    "    print(\" training_task_definition:\", response.training_task_definition)\n",
    "    print(\" training_task_inputs:\", dict(response.training_task_inputs))\n",
    "    print(\" create_time:\", response.create_time)\n",
    "    print(\" start_time:\", response.start_time)\n",
    "    print(\" end_time:\", response.end_time)\n",
    "    print(\" update_time:\", response.update_time)\n",
    "    print(\" labels:\", dict(response.labels))\n",
    "    return response\n",
    "\n",
    "\n",
    "response = get_training_pipeline(pipeline_id)"
   ]
  },
  {
   "cell_type": "markdown",
   "metadata": {
    "id": "wait_training_complete"
   },
   "source": [
    "# 部署\n",
    "\n",
    "训练上述模型可能需要长达30分钟的时间。\n",
    "\n",
    "一旦您的模型训练完成，您可以通过将`end_time`减去`start_time`来计算训练模型所需的实际时间。对于您的模型，您需要知道完全合格的Vertex模型资源标识符，即管道服务分配给它的标识符。您可以从返回的管道实例中获取此信息，作为字段`model_to_deploy.name`。"
   ]
  },
  {
   "cell_type": "code",
   "execution_count": null,
   "metadata": {
    "id": "wait_training_complete"
   },
   "outputs": [],
   "source": [
    "while True:\n",
    "    response = get_training_pipeline(pipeline_id, True)\n",
    "    if response.state != aip.PipelineState.PIPELINE_STATE_SUCCEEDED:\n",
    "        print(\"Training job has not completed:\", response.state)\n",
    "        model_to_deploy_id = None\n",
    "        if response.state == aip.PipelineState.PIPELINE_STATE_FAILED:\n",
    "            raise Exception(\"Training Job Failed\")\n",
    "    else:\n",
    "        model_to_deploy = response.model_to_upload\n",
    "        model_to_deploy_id = model_to_deploy.name\n",
    "        print(\"Training Time:\", response.end_time - response.start_time)\n",
    "        break\n",
    "    time.sleep(60)\n",
    "\n",
    "print(\"model to deploy:\", model_to_deploy_id)"
   ]
  },
  {
   "cell_type": "markdown",
   "metadata": {
    "id": "model_information"
   },
   "source": [
    "模型信息\n",
    "\n",
    "现在你的模型已经训练好了，你可以获取一些关于你的模型的信息。"
   ]
  },
  {
   "cell_type": "markdown",
   "metadata": {
    "id": "evaluate_the_model:automl"
   },
   "source": [
    "评估模型资源\n",
    "\n",
    "现在找出模型服务认为你的模型有多好。作为训练的一部分，数据集的一部分被设置为测试（留存）数据，这些数据被管道服务用来评估模型。"
   ]
  },
  {
   "cell_type": "markdown",
   "metadata": {
    "id": "list_model_evaluations:automl,lrg"
   },
   "source": [
    "### 列出所有切片的评估\n",
    "\n",
    "使用这个辅助函数 `list_model_evaluations`，它接受以下参数：\n",
    "\n",
    "- `name`：`Model` 资源的 Vertex 完全限定的模型标识符。\n",
    "\n",
    "这个辅助函数使用模型客户端服务的 `list_model_evaluations` 方法，该方法接受相同的参数。调用的响应对象是一个列表，其中每个元素都是一个评估指标。\n",
    "\n",
    "对于每个评估 -- 你可能只有一个，然后我们打印出每个评估指标中的所有关键名称，并且对于一小组指标（`rootMeanSquaredError` 和 `meanAbsoluteError`）你将打印出结果。"
   ]
  },
  {
   "cell_type": "code",
   "execution_count": null,
   "metadata": {
    "id": "list_model_evaluations:automl,lrg"
   },
   "outputs": [],
   "source": [
    "def list_model_evaluations(name):\n",
    "    response = clients[\"model\"].list_model_evaluations(parent=name)\n",
    "    for evaluation in response:\n",
    "        print(\"model_evaluation\")\n",
    "        print(\" name:\", evaluation.name)\n",
    "        print(\" metrics_schema_uri:\", evaluation.metrics_schema_uri)\n",
    "        metrics = json_format.MessageToDict(evaluation._pb.metrics)\n",
    "        for metric in metrics.keys():\n",
    "            print(metric)\n",
    "        print(\"rootMeanSquaredError\", metrics[\"rootMeanSquaredError\"])\n",
    "        print(\"meanAbsoluteError\", metrics[\"meanAbsoluteError\"])\n",
    "\n",
    "    return evaluation.name\n",
    "\n",
    "\n",
    "last_evaluation = list_model_evaluations(model_to_deploy_id)"
   ]
  },
  {
   "cell_type": "markdown",
   "metadata": {
    "id": "create_endpoint:automl"
   },
   "source": [
    "部署“Model”资源\n",
    "\n",
    "现在部署使用AutoML创建的已训练的Vertex“Model”资源。这需要两个步骤：\n",
    "\n",
    "1. 为将“Model”资源部署到创建的“Endpoint”资源。\n",
    "\n",
    "2. 将“Model”资源部署到“Endpoint”资源。"
   ]
  },
  {
   "cell_type": "markdown",
   "metadata": {
    "id": "create_endpoint"
   },
   "source": [
    "### 创建 `Endpoint` 资源\n",
    "\n",
    "使用这个辅助函数 `create_endpoint` 来创建一个用于提供预测服务的端点，并传入以下参数：\n",
    "\n",
    "- `display_name`: `Endpoint` 资源的一个可读名称。\n",
    "\n",
    "这个辅助函数使用端点客户端服务的 `create_endpoint` 方法，该方法接受以下参数：\n",
    "\n",
    "- `display_name`: `Endpoint` 资源的一个可读名称。\n",
    "\n",
    "创建一个 `Endpoint` 资源会返回一个长时间运行的操作，因为为了提供服务，可能需要一些时间来设置 `Endpoint` 资源。您可以调用 `response.result()`，这是一个同步调用，当 `Endpoint` 资源准备好时将返回。这个辅助函数返回 `Endpoint` 资源的 Vertex 完全合格标识符：`response.name`。"
   ]
  },
  {
   "cell_type": "code",
   "execution_count": null,
   "metadata": {
    "id": "create_endpoint"
   },
   "outputs": [],
   "source": [
    "ENDPOINT_NAME = \"gsod_endpoint-\" + TIMESTAMP\n",
    "\n",
    "\n",
    "def create_endpoint(display_name):\n",
    "    endpoint = {\"display_name\": display_name}\n",
    "    response = clients[\"endpoint\"].create_endpoint(parent=PARENT, endpoint=endpoint)\n",
    "    print(\"Long running operation:\", response.operation.name)\n",
    "\n",
    "    result = response.result(timeout=300)\n",
    "    print(\"result\")\n",
    "    print(\" name:\", result.name)\n",
    "    print(\" display_name:\", result.display_name)\n",
    "    print(\" description:\", result.description)\n",
    "    print(\" labels:\", result.labels)\n",
    "    print(\" create_time:\", result.create_time)\n",
    "    print(\" update_time:\", result.update_time)\n",
    "    return result\n",
    "\n",
    "\n",
    "result = create_endpoint(ENDPOINT_NAME)"
   ]
  },
  {
   "cell_type": "markdown",
   "metadata": {
    "id": "endpoint_id:result"
   },
   "source": [
    "现在获取您创建的“端点”资源的唯一标识符。"
   ]
  },
  {
   "cell_type": "code",
   "execution_count": null,
   "metadata": {
    "id": "endpoint_id:result"
   },
   "outputs": [],
   "source": [
    "# The full unique ID for the endpoint\n",
    "endpoint_id = result.name\n",
    "# The short numeric ID for the endpoint\n",
    "endpoint_short_id = endpoint_id.split(\"/\")[-1]\n",
    "\n",
    "print(endpoint_id)"
   ]
  },
  {
   "cell_type": "markdown",
   "metadata": {
    "id": "instance_scaling"
   },
   "source": [
    "### 计算实例扩展\n",
    "\n",
    "在处理您的在线预测请求时，您有几种扩展计算实例的选择：\n",
    "\n",
    "- 单个实例：在线预测请求在单个计算实例上进行处理。\n",
    "  - 将计算实例的最小（`MIN_NODES`）和最大（`MAX_NODES`）数量设置为一。\n",
    "\n",
    "- 手动扩展：在线预测请求在您手动指定的固定数量的计算实例间分配。\n",
    "  - 将计算实例的最小（`MIN_NODES`）和最大（`MAX_NODES`）数量设置为相同的节点数。当模型首次部署到实例时，将部署固定数量的计算实例，并将在线预测请求均匀分布在它们之间。\n",
    "\n",
    "- 自动扩展：在线预测请求在可扩展数量的计算实例间分配。\n",
    "  - 将计算实例的最小（`MIN_NODES`）数量设置为在模型首次部署时要提供和取消提供的数量，并将最大（`MAX_NODES`）数量设置为根据负载情况要提供的计算实例数量。\n",
    "\n",
    "计算实例的最小数量对应于字段`min_replica_count`，最大数量对应于字段`max_replica_count`，在您的后续部署请求中。"
   ]
  },
  {
   "cell_type": "code",
   "execution_count": null,
   "metadata": {
    "id": "instance_scaling"
   },
   "outputs": [],
   "source": [
    "MIN_NODES = 1\n",
    "MAX_NODES = 1"
   ]
  },
  {
   "cell_type": "markdown",
   "metadata": {
    "id": "deploy_model:dedicated"
   },
   "source": [
    "### 将`Model`资源部署到`Endpoint`资源\n",
    "\n",
    "使用这个辅助函数`deploy_model`将`Model`资源部署到您为提供预测创建的`Endpoint`资源，具有以下参数：\n",
    "\n",
    "- `model`: 要从训练管道上传（部署）的 Vertex 完全限定模型标识符。\n",
    "- `deploy_model_display_name`: 部署模型的人类可读名称。\n",
    "- `endpoint`: 要部署模型的 Vertex 完全限定终端标识符。\n",
    "\n",
    "辅助函数调用`Endpoint`客户端服务的`deploy_model`方法，该方法接受以下参数：\n",
    "\n",
    "- `endpoint`: 要将`Model`资源部署到的 Vertex 完全限定`Endpoint`资源标识符。\n",
    "- `deployed_model`: 部署模型的要求规范。\n",
    "- `traffic_split`: 在终端中传输到该模型的流量百分比，指定为一个或多个键值对的字典。\n",
    "   - 如果只有一个模型，则指定为**{ \"0\": 100 }**，其中\"0\"指的是要上传的模型，100表示100％的流量。\n",
    "   - 如果在终端上有现有模型，要分配流量，则使用`model_id`指定为**{ \"0\": percent, model_id: percent, ... }**，其中`model_id`是要部署到的终端的现有模型的模型标识符。百分比必须加起来等于100。\n",
    "\n",
    "现在让我们深入研究`deployed_model`参数。该参数指定为具有最小必填字段的Python字典：\n",
    "\n",
    "- `model`: 要部署的 Vertex 完全限定模型标识符。\n",
    "- `display_name`: 部署模型的人类可读名称。\n",
    "- `disable_container_logging`: 禁用容器事件的记录，例如执行失败（默认情况下启用容器记录）。在调试部署时通常启用容器记录，部署用于生产时再禁用。\n",
    "- `dedicated_resources`: 指定为为提供预测请求扩展多少计算实例（副本）。\n",
    "  - `machine_spec`: 要提供的计算实例。使用您之前设置的变量`DEPLOY_GPU != None`来使用GPU；否则只分配CPU。\n",
    "  - `min_replica_count`: 最初要提供的计算实例数，您之前设置为变量`MIN_NODES`。\n",
    "  - `max_replica_count`: 要扩展到的计算实例的最大数量，您之前设置为变量`MAX_NODES`。\n",
    "\n",
    "#### 流量分流\n",
    "\n",
    "让我们现在深入研究`traffic_split`参数。该参数指定为Python字典。起初可能会有点混乱。让我解释一下，您可以将模型的多个实例部署到一个终端，然后设置每个实例接收多少（百分比）的流量。\n",
    "\n",
    "为什么要这样做？也许您已经在生产环境中部署了以前的版本，我们称之为 v1。您对 v2 的模型评估更好，但在实际部署到生产环境之前，您并不确定它是否真的更好。因此，在流量分流的情况下，您可能希望将 v2 部署到与 v1 相同的终端，但只得到 10% 的流量。这样，您可以在不干扰大多数用户的情况下监视其表现，直到您做出最终决定。\n",
    "\n",
    "#### 响应\n",
    "\n",
    "该方法返回一个长时间运行的操作`response`。我们将通过调用`response.result()`来等待操作完成，该方法将阻塞直到模型被部署。如果这是首次将模型部署到终端，则可能需要额外几分钟来完成资源的分配。"
   ]
  },
  {
   "cell_type": "code",
   "execution_count": null,
   "metadata": {
    "id": "deploy_model:dedicated"
   },
   "outputs": [],
   "source": [
    "DEPLOYED_NAME = \"gsod_deployed-\" + TIMESTAMP\n",
    "\n",
    "\n",
    "def deploy_model(\n",
    "    model, deployed_model_display_name, endpoint, traffic_split={\"0\": 100}\n",
    "):\n",
    "\n",
    "    if DEPLOY_GPU:\n",
    "        machine_spec = {\n",
    "            \"machine_type\": DEPLOY_COMPUTE,\n",
    "            \"accelerator_type\": DEPLOY_GPU,\n",
    "            \"accelerator_count\": DEPLOY_NGPU,\n",
    "        }\n",
    "    else:\n",
    "        machine_spec = {\n",
    "            \"machine_type\": DEPLOY_COMPUTE,\n",
    "            \"accelerator_count\": 0,\n",
    "        }\n",
    "\n",
    "    deployed_model = {\n",
    "        \"model\": model,\n",
    "        \"display_name\": deployed_model_display_name,\n",
    "        \"dedicated_resources\": {\n",
    "            \"min_replica_count\": MIN_NODES,\n",
    "            \"max_replica_count\": MAX_NODES,\n",
    "            \"machine_spec\": machine_spec,\n",
    "        },\n",
    "        \"disable_container_logging\": False,\n",
    "    }\n",
    "\n",
    "    response = clients[\"endpoint\"].deploy_model(\n",
    "        endpoint=endpoint, deployed_model=deployed_model, traffic_split=traffic_split\n",
    "    )\n",
    "\n",
    "    print(\"Long running operation:\", response.operation.name)\n",
    "    result = response.result()\n",
    "    print(\"result\")\n",
    "    deployed_model = result.deployed_model\n",
    "    print(\" deployed_model\")\n",
    "    print(\"  id:\", deployed_model.id)\n",
    "    print(\"  model:\", deployed_model.model)\n",
    "    print(\"  display_name:\", deployed_model.display_name)\n",
    "    print(\"  create_time:\", deployed_model.create_time)\n",
    "\n",
    "    return deployed_model.id\n",
    "\n",
    "\n",
    "deployed_model_id = deploy_model(model_to_deploy_id, DEPLOYED_NAME, endpoint_id)"
   ]
  },
  {
   "cell_type": "markdown",
   "metadata": {
    "id": "make_prediction"
   },
   "source": [
    "进行在线预测请求，现在对部署的模型进行在线预测。"
   ]
  },
  {
   "cell_type": "markdown",
   "metadata": {
    "id": "make_test_item:automl,online_prediction"
   },
   "source": [
    "制作测试项目\n",
    "\n",
    "您将使用合成数据作为测试数据项目。不要担心我们使用的是合成数据 - 我们只是想演示如何做出预测。"
   ]
  },
  {
   "cell_type": "code",
   "execution_count": null,
   "metadata": {
    "id": "make_test_item:automl,tabular,gsod"
   },
   "outputs": [],
   "source": [
    "INSTANCE = {\"year\": \"1932\", \"month\": \"11\", \"day\": \"6\"}"
   ]
  },
  {
   "cell_type": "markdown",
   "metadata": {
    "id": "predict_item:automl,lrg"
   },
   "source": [
    "### 进行预测\n",
    "\n",
    "现在你有了一个测试项目。使用这个辅助函数 `predict_item`，它接受以下参数：\n",
    "\n",
    "- `filename`：测试项目的云存储路径。\n",
    "- `endpoint`：`Model` 资源部署的 `Endpoint` 资源的 Vertex 完全限定标识符。\n",
    "- `parameters_dict`：用于提供预测结果的额外过滤参数。\n",
    "\n",
    "此函数使用以下参数调用预测客户端服务的 `predict` 方法：\n",
    "\n",
    "- `endpoint`：`Model` 资源部署的 `Endpoint` 资源的 Vertex 完全限定标识符。\n",
    "- `instances`：要预测的实例（数据项）列表。\n",
    "- `parameters`：用于提供预测结果的额外过滤参数。*注意*，表格模型不支持额外参数。\n",
    "\n",
    "#### 请求\n",
    "\n",
    "每个实例的格式是，其中值必须指定为字符串：\n",
    "\n",
    "    { 'feature_1': 'value_1', 'feature_2': 'value_2', ... }\n",
    "\n",
    "由于 `predict()` 方法可以接受多个项目（实例），您将单个测试项目作为一个测试项目列表发送。最后一步，您将实例列表封装到Google的 protobuf 格式中，这是我们传递给 `predict()` 方法的格式。\n",
    "\n",
    "#### 响应\n",
    "\n",
    "`response` 对象返回一个列表，列表中的每个元素对应请求中的相应图像。您将在每个预测的输出中看到：\n",
    "- `value`：预测的值。"
   ]
  },
  {
   "cell_type": "code",
   "execution_count": null,
   "metadata": {
    "id": "predict_item:automl,lrg"
   },
   "outputs": [],
   "source": [
    "def predict_item(data, endpoint, parameters_dict):\n",
    "    parameters = json_format.ParseDict(parameters_dict, Value())\n",
    "\n",
    "    # The format of each instance should conform to the deployed model's prediction input schema.\n",
    "    instances_list = [data]\n",
    "    instances = [json_format.ParseDict(s, Value()) for s in instances_list]\n",
    "\n",
    "    response = clients[\"prediction\"].predict(\n",
    "        endpoint=endpoint, instances=instances, parameters=parameters\n",
    "    )\n",
    "    print(\"response\")\n",
    "    print(\" deployed_model_id:\", response.deployed_model_id)\n",
    "    predictions = response.predictions\n",
    "    print(\"predictions\")\n",
    "    for prediction in predictions:\n",
    "        print(\" prediction:\", dict(prediction))\n",
    "\n",
    "\n",
    "predict_item(INSTANCE, endpoint_id, None)"
   ]
  },
  {
   "cell_type": "markdown",
   "metadata": {
    "id": "undeploy_model"
   },
   "source": [
    "## 取消部署 `Model` 资源\n",
    "\n",
    "现在从服务`Endpoint`资源中取消部署您的`Model`资源。使用这个辅助函数`undeploy_model`，它接受以下参数：\n",
    "\n",
    "- `deployed_model_id`：当`Model`资源被部署到时，终端服务返回的模型部署标识符。\n",
    "- `endpoint`：`Model`部署到的`Endpoint`资源的 Vertex 完全合格标识符。\n",
    "\n",
    "这个函数调用端点客户服务的方法`undeploy_model`，使用以下参数：\n",
    "\n",
    "- `deployed_model_id`：终端服务在部署`Model`资源时返回的模型部署标识符。\n",
    "- `endpoint`：`Model`资源部署到的`Endpoint`资源的 Vertex 完全合格标识符。\n",
    "- `traffic_split`：如何在`Endpoint`资源上的其他部署模型之间分配流量。\n",
    "\n",
    "由于这是`Endpoint`资源上唯一部署的模型，您可以通过将`traffic_split`设置为空对象{}来保持它为空。"
   ]
  },
  {
   "cell_type": "code",
   "execution_count": null,
   "metadata": {
    "id": "undeploy_model"
   },
   "outputs": [],
   "source": [
    "def undeploy_model(deployed_model_id, endpoint):\n",
    "    response = clients[\"endpoint\"].undeploy_model(\n",
    "        endpoint=endpoint, deployed_model_id=deployed_model_id, traffic_split={}\n",
    "    )\n",
    "    print(response)\n",
    "\n",
    "\n",
    "undeploy_model(deployed_model_id, endpoint_id)"
   ]
  },
  {
   "cell_type": "markdown",
   "metadata": {
    "id": "cleanup"
   },
   "source": [
    "清理\n",
    "\n",
    "要清理该项目中使用的所有GCP资源，您可以删除用于本教程的[GCP项目](https://cloud.google.com/resource-manager/docs/creating-managing-projects#shutting_down_projects)。\n",
    "\n",
    "否则，您可以删除本教程中创建的单个资源：\n",
    "\n",
    "- 数据集\n",
    "- 流水线\n",
    "- 模型\n",
    "- 端点\n",
    "- 批处理作业\n",
    "- 自定义作业\n",
    "- 超参数调整作业\n",
    "- 云存储存储桶"
   ]
  },
  {
   "cell_type": "code",
   "execution_count": null,
   "metadata": {
    "id": "cleanup"
   },
   "outputs": [],
   "source": [
    "delete_dataset = True\n",
    "delete_pipeline = True\n",
    "delete_model = True\n",
    "delete_endpoint = True\n",
    "delete_batchjob = True\n",
    "delete_customjob = True\n",
    "delete_hptjob = True\n",
    "delete_bucket = True\n",
    "\n",
    "# Delete the dataset using the Vertex fully qualified identifier for the dataset\n",
    "try:\n",
    "    if delete_dataset and \"dataset_id\" in globals():\n",
    "        clients[\"dataset\"].delete_dataset(name=dataset_id)\n",
    "except Exception as e:\n",
    "    print(e)\n",
    "\n",
    "# Delete the training pipeline using the Vertex fully qualified identifier for the pipeline\n",
    "try:\n",
    "    if delete_pipeline and \"pipeline_id\" in globals():\n",
    "        clients[\"pipeline\"].delete_training_pipeline(name=pipeline_id)\n",
    "except Exception as e:\n",
    "    print(e)\n",
    "\n",
    "# Delete the model using the Vertex fully qualified identifier for the model\n",
    "try:\n",
    "    if delete_model and \"model_to_deploy_id\" in globals():\n",
    "        clients[\"model\"].delete_model(name=model_to_deploy_id)\n",
    "except Exception as e:\n",
    "    print(e)\n",
    "\n",
    "# Delete the endpoint using the Vertex fully qualified identifier for the endpoint\n",
    "try:\n",
    "    if delete_endpoint and \"endpoint_id\" in globals():\n",
    "        clients[\"endpoint\"].delete_endpoint(name=endpoint_id)\n",
    "except Exception as e:\n",
    "    print(e)\n",
    "\n",
    "# Delete the batch job using the Vertex fully qualified identifier for the batch job\n",
    "try:\n",
    "    if delete_batchjob and \"batch_job_id\" in globals():\n",
    "        clients[\"job\"].delete_batch_prediction_job(name=batch_job_id)\n",
    "except Exception as e:\n",
    "    print(e)\n",
    "\n",
    "# Delete the custom job using the Vertex fully qualified identifier for the custom job\n",
    "try:\n",
    "    if delete_customjob and \"job_id\" in globals():\n",
    "        clients[\"job\"].delete_custom_job(name=job_id)\n",
    "except Exception as e:\n",
    "    print(e)\n",
    "\n",
    "# Delete the hyperparameter tuning job using the Vertex fully qualified identifier for the hyperparameter tuning job\n",
    "try:\n",
    "    if delete_hptjob and \"hpt_job_id\" in globals():\n",
    "        clients[\"job\"].delete_hyperparameter_tuning_job(name=hpt_job_id)\n",
    "except Exception as e:\n",
    "    print(e)\n",
    "\n",
    "if delete_bucket and \"BUCKET_NAME\" in globals():\n",
    "    ! gsutil rm -r $BUCKET_NAME"
   ]
  }
 ],
 "metadata": {
  "colab": {
   "name": "showcase_automl_tabular_regression_online_bq.ipynb",
   "toc_visible": true
  },
  "kernelspec": {
   "display_name": "Python 3",
   "name": "python3"
  }
 },
 "nbformat": 4,
 "nbformat_minor": 0
}
