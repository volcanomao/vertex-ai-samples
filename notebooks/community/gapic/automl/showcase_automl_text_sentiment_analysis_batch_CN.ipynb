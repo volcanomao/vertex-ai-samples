{
 "cells": [
  {
   "cell_type": "code",
   "execution_count": null,
   "metadata": {
    "id": "copyright"
   },
   "outputs": [],
   "source": [
    "# Copyright 2020 Google LLC\n",
    "#\n",
    "# Licensed under the Apache License, Version 2.0 (the \"License\");\n",
    "# you may not use this file except in compliance with the License.\n",
    "# You may obtain a copy of the License at\n",
    "#\n",
    "#     https://www.apache.org/licenses/LICENSE-2.0\n",
    "#\n",
    "# Unless required by applicable law or agreed to in writing, software\n",
    "# distributed under the License is distributed on an \"AS IS\" BASIS,\n",
    "# WITHOUT WARRANTIES OR CONDITIONS OF ANY KIND, either express or implied.\n",
    "# See the License for the specific language governing permissions and\n",
    "# limitations under the License."
   ]
  },
  {
   "cell_type": "markdown",
   "metadata": {
    "id": "title"
   },
   "source": [
    "\n",
    "# Vertex客户端库：用于批量预测的AutoML文本情感分析模型\n",
    "\n",
    "<table align=\"left\">\n",
    "  <td>\n",
    "    <a href=\"https://colab.research.google.com/github/GoogleCloudPlatform/vertex-ai-samples/blob/master/notebooks/community/gapic/automl/showcase_automl_text_sentiment_analysis_batch.ipynb\">\n",
    "      <img src=\"https://cloud.google.com/ml-engine/images/colab-logo-32px.png\" alt=\"Colab logo\"> 在Colab中运行\n",
    "    </a>\n",
    "  </td>\n",
    "  <td>\n",
    "    <a href=\"https://github.com/GoogleCloudPlatform/vertex-ai-samples/blob/master/notebooks/community/gapic/automl/showcase_automl_text_sentiment_analysis_batch.ipynb\">\n",
    "      <img src=\"https://cloud.google.com/ml-engine/images/github-logo-32px.png\" alt=\"GitHub logo\">\n",
    "      在GitHub上查看\n",
    "    </a>\n",
    "  </td>\n",
    "</table>\n",
    "<br/><br/><br/>"
   ]
  },
  {
   "cell_type": "markdown",
   "metadata": {
    "id": "overview:automl"
   },
   "source": [
    "## 概述\n",
    "\n",
    "本教程演示了如何使用Python的Vertex客户端库来创建文本情感分析模型，并使用Google Cloud的[AutoML](https://cloud.google.com/vertex-ai/docs/start/automl-users)进行批量预测。"
   ]
  },
  {
   "cell_type": "markdown",
   "metadata": {
    "id": "dataset:claritin,tst"
   },
   "source": [
    "### 数据集\n",
    "\n",
    "本教程使用的数据集是来自[data.world 数据集](https://data.world)的[Crowdflower Claritin-Twitter数据集](https://data.world/crowdflower/claritin-twitter)。本教程中使用的数据集版本存储在一个公共云存储桶中。"
   ]
  },
  {
   "cell_type": "markdown",
   "metadata": {
    "id": "objective:automl,training,batch_prediction"
   },
   "source": [
    "### 目标\n",
    "\n",
    "在本教程中，您将从Python脚本创建一个AutoML文本情感分析模型，然后使用Vertex客户端库进行批量预测。您也可以选择使用`gcloud`命令行工具或在Google Cloud Console上在线创建和部署模型。\n",
    "\n",
    "执行的步骤包括：\n",
    "\n",
    "- 创建一个Vertex `Dataset`资源。\n",
    "- 训练模型。\n",
    "- 查看模型评估。\n",
    "- 进行批量预测。\n",
    "\n",
    "使用批量预测和在线预测之间有一个关键区别：\n",
    "\n",
    "* 预测服务：对整个实例集（即一个或多个数据项目）进行按需预测，并实时返回结果。\n",
    "\n",
    "* 批量预测服务：对整个实例集进行排队（批处理）预测，后台存储结果，并在准备好时将结果存储在Cloud Storage存储桶中。"
   ]
  },
  {
   "cell_type": "markdown",
   "metadata": {
    "id": "costs"
   },
   "source": [
    "### 成本\n",
    "\n",
    "本教程使用了谷歌云（GCP）的计费组件：\n",
    "\n",
    "* Vertex AI\n",
    "* 云存储\n",
    "\n",
    "了解[Vertex AI\n",
    "价格](https://cloud.google.com/vertex-ai/pricing)和[云存储\n",
    "价格](https://cloud.google.com/storage/pricing)，并使用[Pricing\n",
    "Calculator](https://cloud.google.com/products/calculator/)\n",
    "根据您的预期使用量生成成本估算。"
   ]
  },
  {
   "cell_type": "markdown",
   "metadata": {
    "id": "install_aip"
   },
   "source": [
    "## 安装\n",
    "\n",
    "安装最新版本的Vertex客户端库。"
   ]
  },
  {
   "cell_type": "code",
   "execution_count": null,
   "metadata": {
    "id": "install_aip"
   },
   "outputs": [],
   "source": [
    "import os\n",
    "import sys\n",
    "\n",
    "# Google Cloud Notebook\n",
    "if os.path.exists(\"/opt/deeplearning/metadata/env_version\"):\n",
    "    USER_FLAG = \"--user\"\n",
    "else:\n",
    "    USER_FLAG = \"\"\n",
    "\n",
    "! pip3 install -U google-cloud-aiplatform $USER_FLAG"
   ]
  },
  {
   "cell_type": "markdown",
   "metadata": {
    "id": "install_storage"
   },
   "source": [
    "安装最新的GA版本的 *google-cloud-storage* 库。"
   ]
  },
  {
   "cell_type": "code",
   "execution_count": null,
   "metadata": {
    "id": "install_storage"
   },
   "outputs": [],
   "source": [
    "! pip3 install -U google-cloud-storage $USER_FLAG"
   ]
  },
  {
   "cell_type": "markdown",
   "metadata": {
    "id": "restart"
   },
   "source": [
    "### 重新启动内核\n",
    "\n",
    "一旦您安装了Vertex客户端库和Google *cloud-storage*，您需要重新启动笔记本内核，以便它能够找到这些软件包。"
   ]
  },
  {
   "cell_type": "code",
   "execution_count": null,
   "metadata": {
    "id": "restart"
   },
   "outputs": [],
   "source": [
    "if not os.getenv(\"IS_TESTING\"):\n",
    "    # Automatically restart kernel after installs\n",
    "    import IPython\n",
    "\n",
    "    app = IPython.Application.instance()\n",
    "    app.kernel.do_shutdown(True)"
   ]
  },
  {
   "cell_type": "markdown",
   "metadata": {
    "id": "before_you_begin"
   },
   "source": [
    "##开始之前\n",
    "\n",
    "### GPU运行时\n",
    "\n",
    "*如果您有这个选项，请确保在GPU运行时中运行此笔记本。在Colab中，选择* **运行时 > 更改运行时类型 > GPU**\n",
    "\n",
    "### 设置您的谷歌云项目\n",
    "\n",
    "**无论您的笔记本环境如何，以下步骤都是必须的。**\n",
    "\n",
    "1. [选择或创建一个谷歌云项目](https://console.cloud.google.com/cloud-resource-manager)。当您首次创建帐户时，您会获得$300的免费信用额度用于计算/存储成本。\n",
    "\n",
    "2. [确保您的项目已启用计费。](https://cloud.google.com/billing/docs/how-to/modify-project)\n",
    "\n",
    "3. [启用 Vertex API 和 Compute Engine API。](https://console.cloud.google.com/flows/enableapi?apiid=ml.googleapis.com,compute_component)\n",
    "\n",
    "4. [Google Cloud SDK](https://cloud.google.com/sdk)已经安装在Google Cloud Notebook中。\n",
    "\n",
    "5. 在下面的单元格中输入您的项目ID。然后运行单元格以确保\n",
    "Cloud SDK在此笔记本中的所有命令中使用正确的项目。\n",
    "\n",
    "**注意**：Jupyter在以`!`为前缀的行上运行作为shell命令，并将以`$`为前缀的Python变量插入到这些命令中。"
   ]
  },
  {
   "cell_type": "code",
   "execution_count": null,
   "metadata": {
    "id": "set_project_id"
   },
   "outputs": [],
   "source": [
    "PROJECT_ID = \"[your-project-id]\"  # @param {type:\"string\"}"
   ]
  },
  {
   "cell_type": "code",
   "execution_count": null,
   "metadata": {
    "id": "autoset_project_id"
   },
   "outputs": [],
   "source": [
    "if PROJECT_ID == \"\" or PROJECT_ID is None or PROJECT_ID == \"[your-project-id]\":\n",
    "    # Get your GCP project id from gcloud\n",
    "    shell_output = !gcloud config list --format 'value(core.project)' 2>/dev/null\n",
    "    PROJECT_ID = shell_output[0]\n",
    "    print(\"Project ID:\", PROJECT_ID)"
   ]
  },
  {
   "cell_type": "code",
   "execution_count": null,
   "metadata": {
    "id": "set_gcloud_project_id"
   },
   "outputs": [],
   "source": [
    "! gcloud config set project $PROJECT_ID"
   ]
  },
  {
   "cell_type": "markdown",
   "metadata": {
    "id": "region"
   },
   "source": [
    "#### 区域\n",
    "\n",
    "您还可以更改用于笔记本其余部分的操作的 `REGION` 变量。以下是 Vertex 支持的区域。我们建议您选择距离您最近的区域。\n",
    "\n",
    "- 美洲：`us-central1`\n",
    "- 欧洲：`europe-west4`\n",
    "- 亚太地区：`asia-east1`\n",
    "\n",
    "您可能无法在 Vertex 上使用多区域存储桶进行训练。并非所有区域都支持所有 Vertex 服务。有关每个区域的最新支持，请参阅[Vertex 位置文档](https://cloud.google.com/vertex-ai/docs/general/locations)。"
   ]
  },
  {
   "cell_type": "code",
   "execution_count": null,
   "metadata": {
    "id": "region"
   },
   "outputs": [],
   "source": [
    "REGION = \"us-central1\"  # @param {type: \"string\"}"
   ]
  },
  {
   "cell_type": "markdown",
   "metadata": {
    "id": "timestamp"
   },
   "source": [
    "时间戳\n",
    "\n",
    "如果您在进行实时教程会话，则可能正在使用共享的测试账户或项目。为了避免用户在创建的资源之间发生名称冲突，您可以为每个实例会话创建一个时间戳，并将其附加到将在此教程中创建的资源的名称上。"
   ]
  },
  {
   "cell_type": "code",
   "execution_count": null,
   "metadata": {
    "id": "timestamp"
   },
   "outputs": [],
   "source": [
    "from datetime import datetime\n",
    "\n",
    "TIMESTAMP = datetime.now().strftime(\"%Y%m%d%H%M%S\")"
   ]
  },
  {
   "cell_type": "markdown",
   "metadata": {
    "id": "gcp_authenticate"
   },
   "source": [
    "###验证您的Google Cloud帐户\n",
    "\n",
    "**如果您正在使用Google Cloud笔记本**，则您的环境已经经过身份验证。跳过此步骤。\n",
    "\n",
    "**如果您正在使用Colab**，运行下面的单元格，并按提示进行身份验证，通过oAuth验证您的帐户。\n",
    "\n",
    "**否则**，请按照以下步骤操作：\n",
    "\n",
    "在Cloud控制台中，转到[创建服务帐号密钥](https://console.cloud.google.com/apis/credentials/serviceaccountkey)页面。\n",
    "\n",
    "**点击创建服务帐号**。\n",
    "\n",
    "在**服务帐号名称**字段中输入名称，然后点击**创建**。\n",
    "\n",
    "在**授予此服务帐号对项目的访问权限**部分，点击角色下拉列表。在过滤框中键入\"Vertex\"，然后选择**Vertex管理员**。在过滤框中键入\"Storage Object Admin\"，然后选择**Storage Object Admin**。\n",
    "\n",
    "点击创建。包含您的密钥的JSON文件将下载到本地环境中。\n",
    "\n",
    "在下面的单元格中，将您的服务帐号密钥路径输入为GOOGLE_APPLICATION_CREDENTIALS变量，并运行该单元格。"
   ]
  },
  {
   "cell_type": "code",
   "execution_count": null,
   "metadata": {
    "id": "gcp_authenticate"
   },
   "outputs": [],
   "source": [
    "# If you are running this notebook in Colab, run this cell and follow the\n",
    "# instructions to authenticate your GCP account. This provides access to your\n",
    "# Cloud Storage bucket and lets you submit training jobs and prediction\n",
    "# requests.\n",
    "\n",
    "# If on Google Cloud Notebook, then don't execute this code\n",
    "if not os.path.exists(\"/opt/deeplearning/metadata/env_version\"):\n",
    "    if \"google.colab\" in sys.modules:\n",
    "        from google.colab import auth as google_auth\n",
    "\n",
    "        google_auth.authenticate_user()\n",
    "\n",
    "    # If you are running this notebook locally, replace the string below with the\n",
    "    # path to your service account key and run this cell to authenticate your GCP\n",
    "    # account.\n",
    "    elif not os.getenv(\"IS_TESTING\"):\n",
    "        %env GOOGLE_APPLICATION_CREDENTIALS ''"
   ]
  },
  {
   "cell_type": "markdown",
   "metadata": {
    "id": "bucket:batch_prediction"
   },
   "source": [
    "创建一个云存储桶\n",
    "\n",
    "**无论您在哪个笔记本环境，都需要完成以下步骤。**\n",
    "\n",
    "本教程旨在使用存储在公共云存储桶中的训练数据，并使用本地云存储桶进行批量预测。您也可以使用存储在本地云存储桶中的自己的训练数据。\n",
    "\n",
    "在下方设置您的云存储桶名称。存储桶名称在所有谷歌云项目中必须是全局唯一的，包括您组织之外的项目。"
   ]
  },
  {
   "cell_type": "code",
   "execution_count": null,
   "metadata": {
    "id": "bucket"
   },
   "outputs": [],
   "source": [
    "BUCKET_NAME = \"gs://[your-bucket-name]\"  # @param {type:\"string\"}"
   ]
  },
  {
   "cell_type": "code",
   "execution_count": null,
   "metadata": {
    "id": "autoset_bucket"
   },
   "outputs": [],
   "source": [
    "if BUCKET_NAME == \"\" or BUCKET_NAME is None or BUCKET_NAME == \"gs://[your-bucket-name]\":\n",
    "    BUCKET_NAME = \"gs://\" + PROJECT_ID + \"aip-\" + TIMESTAMP"
   ]
  },
  {
   "cell_type": "markdown",
   "metadata": {
    "id": "create_bucket"
   },
   "source": [
    "只有当您的存储桶尚不存在时，才运行以下单元格以创建您的云存储桶。"
   ]
  },
  {
   "cell_type": "code",
   "execution_count": null,
   "metadata": {
    "id": "create_bucket"
   },
   "outputs": [],
   "source": [
    "! gsutil mb -l $REGION $BUCKET_NAME"
   ]
  },
  {
   "cell_type": "markdown",
   "metadata": {
    "id": "validate_bucket"
   },
   "source": [
    "最后，通过检查云存储桶的内容来验证对其的访问。"
   ]
  },
  {
   "cell_type": "code",
   "execution_count": null,
   "metadata": {
    "id": "validate_bucket"
   },
   "outputs": [],
   "source": [
    "! gsutil ls -al $BUCKET_NAME"
   ]
  },
  {
   "cell_type": "markdown",
   "metadata": {
    "id": "setup_vars"
   },
   "source": [
    "### 设置变量\n",
    "\n",
    "接下来，设置一些在教程中使用的变量。\n",
    "### 导入库并定义常量"
   ]
  },
  {
   "cell_type": "markdown",
   "metadata": {
    "id": "import_aip:protobuf"
   },
   "source": [
    "导入Vertex客户端库\n",
    "\n",
    "在我们的Python环境中导入Vertex客户端库。"
   ]
  },
  {
   "cell_type": "code",
   "execution_count": null,
   "metadata": {
    "id": "import_aip:protobuf"
   },
   "outputs": [],
   "source": [
    "import time\n",
    "\n",
    "from google.cloud.aiplatform import gapic as aip\n",
    "from google.protobuf import json_format\n",
    "from google.protobuf.json_format import MessageToJson, ParseDict\n",
    "from google.protobuf.struct_pb2 import Struct, Value"
   ]
  },
  {
   "cell_type": "markdown",
   "metadata": {
    "id": "aip_constants"
   },
   "source": [
    "顶点常量\n",
    "\n",
    "为顶点设置以下常量：\n",
    "\n",
    "- `API_ENDPOINT`：顶点API服务的数据集、模型、作业、流水线和终端服务端点。\n",
    "- `PARENT`：顶点位置根目录路径，用于数据集、模型、作业、流水线和终端资源。"
   ]
  },
  {
   "cell_type": "code",
   "execution_count": null,
   "metadata": {
    "id": "aip_constants"
   },
   "outputs": [],
   "source": [
    "# API service endpoint\n",
    "API_ENDPOINT = \"{}-aiplatform.googleapis.com\".format(REGION)\n",
    "\n",
    "# Vertex location root path for your dataset, model and endpoint resources\n",
    "PARENT = \"projects/\" + PROJECT_ID + \"/locations/\" + REGION"
   ]
  },
  {
   "cell_type": "markdown",
   "metadata": {
    "id": "automl_constants"
   },
   "source": [
    "#### AutoML常量\n",
    "\n",
    "设置特定于AutoML数据集和训练的常量：\n",
    "\n",
    "- 数据集模式：告诉“数据集”资源服务数据集的类型是什么。\n",
    "- 数据标记（注释）模式：告诉“数据集”资源服务数据如何标记（注释）。\n",
    "- 数据集训练模式：告诉“流水线”资源服务要为哪种任务（例如分类）训练模型。"
   ]
  },
  {
   "cell_type": "code",
   "execution_count": null,
   "metadata": {
    "id": "automl_constants:tst"
   },
   "outputs": [],
   "source": [
    "# Text Dataset type\n",
    "DATA_SCHEMA = \"gs://google-cloud-aiplatform/schema/dataset/metadata/text_1.0.0.yaml\"\n",
    "# Text Labeling type\n",
    "LABEL_SCHEMA = \"gs://google-cloud-aiplatform/schema/dataset/ioformat/text_sentiment_io_format_1.0.0.yaml\"\n",
    "# Text Training task\n",
    "TRAINING_SCHEMA = \"gs://google-cloud-aiplatform/schema/trainingjob/definition/automl_text_sentiment_1.0.0.yaml\""
   ]
  },
  {
   "cell_type": "markdown",
   "metadata": {
    "id": "accelerators:prediction"
   },
   "source": [
    "#### 硬件加速器\n",
    "\n",
    "设置硬件加速器（例如 GPU）用于预测。\n",
    "\n",
    "设置变量`DEPLOY_GPU/DEPLOY_NGPU`以使用支持 GPU 的容器映像和分配给虚拟机（VM）实例的 GPU 数量。例如，要使用一个 GPU 容器映像，为每个 VM 分配 4 个 Nvidia Telsa K80 GPU，您可以指定：\n",
    "\n",
    "    (aip.AcceleratorType.NVIDIA_TESLA_K80, 4)\n",
    "\n",
    "对于 GPU，可用的加速器包括：\n",
    "   - aip.AcceleratorType.NVIDIA_TESLA_K80\n",
    "   - aip.AcceleratorType.NVIDIA_TESLA_P100\n",
    "   - aip.AcceleratorType.NVIDIA_TESLA_P4\n",
    "   - aip.AcceleratorType.NVIDIA_TESLA_T4\n",
    "   - aip.AcceleratorType.NVIDIA_TESLA_V100\n",
    "\n",
    "否则，指定`(None, None)`以使用一个在 CPU 上运行的容器映像。"
   ]
  },
  {
   "cell_type": "code",
   "execution_count": null,
   "metadata": {
    "id": "accelerators:prediction"
   },
   "outputs": [],
   "source": [
    "if os.getenv(\"IS_TESTING_DEPOLY_GPU\"):\n",
    "    DEPLOY_GPU, DEPLOY_NGPU = (\n",
    "        aip.AcceleratorType.NVIDIA_TESLA_K80,\n",
    "        int(os.getenv(\"IS_TESTING_DEPOLY_GPU\")),\n",
    "    )\n",
    "else:\n",
    "    DEPLOY_GPU, DEPLOY_NGPU = (aip.AcceleratorType.NVIDIA_TESLA_K80, 1)"
   ]
  },
  {
   "cell_type": "markdown",
   "metadata": {
    "id": "container:automl"
   },
   "source": [
    "#### 容器（Docker）映像\n",
    "\n",
    "对于AutoML批量预测，Vertex预测服务预先确定了用于服务二进制文件的容器映像。更具体地说，根据您选择的硬件加速器，该服务将为模型选择适当的容器。"
   ]
  },
  {
   "cell_type": "markdown",
   "metadata": {
    "id": "machine:prediction"
   },
   "source": [
    "#### 机器类型\n",
    "\n",
    "接下来，设置用于预测的机器类型。\n",
    "\n",
    "- 将变量`DEPLOY_COMPUTE`设置为配置将用于预测的VM的计算资源。\n",
    "  - `机器类型`\n",
    "     - `n1-standard`：每个vCPU 3.75GB内存。\n",
    "     - `n1-highmem`：每个vCPU 6.5GB内存\n",
    "     - `n1-highcpu`：每个vCPU 0.9GB内存\n",
    "  - `vCPUs`：数量为\\[2, 4, 8, 16, 32, 64, 96\\]\n",
    "\n",
    "*注：您也可以在训练和部署中使用n2和e2机器类型，但它们不支持GPU*"
   ]
  },
  {
   "cell_type": "code",
   "execution_count": null,
   "metadata": {
    "id": "machine:prediction"
   },
   "outputs": [],
   "source": [
    "if os.getenv(\"IS_TESTING_DEPLOY_MACHINE\"):\n",
    "    MACHINE_TYPE = os.getenv(\"IS_TESTING_DEPLOY_MACHINE\")\n",
    "else:\n",
    "    MACHINE_TYPE = \"n1-standard\"\n",
    "\n",
    "VCPU = \"4\"\n",
    "DEPLOY_COMPUTE = MACHINE_TYPE + \"-\" + VCPU\n",
    "print(\"Deploy machine type\", DEPLOY_COMPUTE)"
   ]
  },
  {
   "cell_type": "markdown",
   "metadata": {
    "id": "tutorial_start:automl"
   },
   "source": [
    "# 教程\n",
    "\n",
    "现在您可以开始创建自己的AutoML文本情感分析模型了。"
   ]
  },
  {
   "cell_type": "markdown",
   "metadata": {
    "id": "clients:automl,batch_prediction"
   },
   "source": [
    "## 设置客户端\n",
    "\n",
    "Vertex 客户端库作为客户端/服务器模型工作。在你的一边（Python 脚本）你将创建一个客户端，该客户端向 Vertex 服务器发送请求并接收响应。\n",
    "\n",
    "在本教程中，您将为工作流程中的不同步骤使用不同的客户端。因此，请提前设置所有这些客户端。\n",
    "\n",
    "- 数据集服务用于 `数据集` 资源。\n",
    "- 模型服务用于 `模型` 资源。\n",
    "- 管道服务用于训练。\n",
    "- 作业服务用于批量预测和自定义训练。"
   ]
  },
  {
   "cell_type": "code",
   "execution_count": null,
   "metadata": {
    "id": "clients:automl,batch_prediction"
   },
   "outputs": [],
   "source": [
    "# client options same for all services\n",
    "client_options = {\"api_endpoint\": API_ENDPOINT}\n",
    "\n",
    "\n",
    "def create_dataset_client():\n",
    "    client = aip.DatasetServiceClient(client_options=client_options)\n",
    "    return client\n",
    "\n",
    "\n",
    "def create_model_client():\n",
    "    client = aip.ModelServiceClient(client_options=client_options)\n",
    "    return client\n",
    "\n",
    "\n",
    "def create_pipeline_client():\n",
    "    client = aip.PipelineServiceClient(client_options=client_options)\n",
    "    return client\n",
    "\n",
    "\n",
    "def create_job_client():\n",
    "    client = aip.JobServiceClient(client_options=client_options)\n",
    "    return client\n",
    "\n",
    "\n",
    "clients = {}\n",
    "clients[\"dataset\"] = create_dataset_client()\n",
    "clients[\"model\"] = create_model_client()\n",
    "clients[\"pipeline\"] = create_pipeline_client()\n",
    "clients[\"job\"] = create_job_client()\n",
    "\n",
    "for client in clients.items():\n",
    "    print(client)"
   ]
  },
  {
   "cell_type": "markdown",
   "metadata": {
    "id": "create_aip_dataset"
   },
   "source": [
    "## 数据集\n",
    "\n",
    "现在您的客户准备好了，训练模型的第一步是创建一个托管的数据集实例，然后将标记数据上传到其中。\n",
    "\n",
    "### 创建`Dataset`资源实例\n",
    "\n",
    "使用辅助函数`create_dataset`来创建`Dataset`资源的实例。此函数执行以下操作：\n",
    "\n",
    "1. 使用数据集客户端服务。\n",
    "2. 创建一个Vertex `Dataset`资源（`aip.Dataset`），包含以下参数：\n",
    " - `display_name`：您选择的可读名称。\n",
    " - `metadata_schema_uri`：数据集类型的模式。\n",
    "3. 调用客户端数据集服务方法`create_dataset`，包含以下参数：\n",
    " - `parent`：您的`Database`、`Model`和`Endpoint`资源的Vertex位置根路径。\n",
    " - `dataset`：您创建的Vertex数据集对象实例。\n",
    "4. 该方法返回一个`operation`对象。\n",
    "\n",
    "`operation`对象是Vertex处理长时间运行操作的异步调用的方式。虽然这一步通常很快，但在项目中首次使用时，由于需要进行配置，可能会有较长的延迟。\n",
    "\n",
    "您可以使用`operation`对象获取操作（例如，创建`Dataset`资源）的状态，或者通过调用操作方法取消操作：\n",
    "\n",
    "| 方法         | 描述           |\n",
    "| ----------- | ----------- |\n",
    "| result()    | 等待操作完成并以JSON格式返回结果对象。      |\n",
    "| running()   | 返回操作是否仍在运行的True/False。        |\n",
    "| done()      | 返回操作是否已完成的True/False。 |\n",
    "| canceled()  | 返回操作是否已取消的True/False。 |\n",
    "| cancel()    | 取消操作（可能需要最多30秒）。 |"
   ]
  },
  {
   "cell_type": "code",
   "execution_count": null,
   "metadata": {
    "id": "create_aip_dataset"
   },
   "outputs": [],
   "source": [
    "TIMEOUT = 90\n",
    "\n",
    "\n",
    "def create_dataset(name, schema, labels=None, timeout=TIMEOUT):\n",
    "    start_time = time.time()\n",
    "    try:\n",
    "        dataset = aip.Dataset(\n",
    "            display_name=name, metadata_schema_uri=schema, labels=labels\n",
    "        )\n",
    "\n",
    "        operation = clients[\"dataset\"].create_dataset(parent=PARENT, dataset=dataset)\n",
    "        print(\"Long running operation:\", operation.operation.name)\n",
    "        result = operation.result(timeout=TIMEOUT)\n",
    "        print(\"time:\", time.time() - start_time)\n",
    "        print(\"response\")\n",
    "        print(\" name:\", result.name)\n",
    "        print(\" display_name:\", result.display_name)\n",
    "        print(\" metadata_schema_uri:\", result.metadata_schema_uri)\n",
    "        print(\" metadata:\", dict(result.metadata))\n",
    "        print(\" create_time:\", result.create_time)\n",
    "        print(\" update_time:\", result.update_time)\n",
    "        print(\" etag:\", result.etag)\n",
    "        print(\" labels:\", dict(result.labels))\n",
    "        return result\n",
    "    except Exception as e:\n",
    "        print(\"exception:\", e)\n",
    "        return None\n",
    "\n",
    "\n",
    "result = create_dataset(\"claritin-\" + TIMESTAMP, DATA_SCHEMA)"
   ]
  },
  {
   "cell_type": "markdown",
   "metadata": {
    "id": "dataset_id:result"
   },
   "source": [
    "现在保存您创建的`数据集`资源实例的唯一数据集标识符。"
   ]
  },
  {
   "cell_type": "code",
   "execution_count": null,
   "metadata": {
    "id": "dataset_id:result"
   },
   "outputs": [],
   "source": [
    "# The full unique ID for the dataset\n",
    "dataset_id = result.name\n",
    "# The short numeric ID for the dataset\n",
    "dataset_short_id = dataset_id.split(\"/\")[-1]\n",
    "\n",
    "print(dataset_id)"
   ]
  },
  {
   "cell_type": "markdown",
   "metadata": {
    "id": "data_preparation:text,u_dataset"
   },
   "source": [
    "### 数据准备\n",
    "\n",
    "Vertex的“数据集”资源对于文本数据有一些要求。\n",
    "\n",
    "- 文本示例必须存储在CSV或JSONL文件中。"
   ]
  },
  {
   "cell_type": "markdown",
   "metadata": {
    "id": "data_import_format:tst,u_dataset,csv"
   },
   "source": [
    "CSV文件\n",
    "\n",
    "对于文本情感分析，CSV文件有一些要求：\n",
    "\n",
    "- 没有标题。\n",
    "- 第一列是文本示例或云存储路径到文本文件。\n",
    "- 第二列是标签（即情感）。\n",
    "- 第三列是最大情感值。 例如，如果范围为0到3，则最大值为3。"
   ]
  },
  {
   "cell_type": "markdown",
   "metadata": {
    "id": "import_file:u_dataset,csv"
   },
   "source": [
    "云存储培训数据的位置。\n",
    "\n",
    "现在将变量`IMPORT_FILE`设置为云存储中CSV索引文件的位置。"
   ]
  },
  {
   "cell_type": "code",
   "execution_count": null,
   "metadata": {
    "id": "import_file:claritin,csv,tst"
   },
   "outputs": [],
   "source": [
    "IMPORT_FILE = \"gs://cloud-samples-data/language/claritin.csv\"\n",
    "SENTIMENT_MAX = 4"
   ]
  },
  {
   "cell_type": "markdown",
   "metadata": {
    "id": "quick_peek:csv"
   },
   "source": [
    "快速查看您的数据\n",
    "\n",
    "您将使用存储在公共云存储桶中的一个 Crowdflower Claritin-Twitter 数据集版本，使用一个 CSV 索引文件。\n",
    "\n",
    "首先快速查看数据。您可以通过计算 CSV 索引文件的行数（`wc -l`）来计算示例的数量，然后查看前几行数据。"
   ]
  },
  {
   "cell_type": "code",
   "execution_count": null,
   "metadata": {
    "id": "quick_peek:csv"
   },
   "outputs": [],
   "source": [
    "if \"IMPORT_FILES\" in globals():\n",
    "    FILE = IMPORT_FILES[0]\n",
    "else:\n",
    "    FILE = IMPORT_FILE\n",
    "\n",
    "count = ! gsutil cat $FILE | wc -l\n",
    "print(\"Number of Examples\", int(count[0]))\n",
    "\n",
    "print(\"First 10 rows\")\n",
    "! gsutil cat $FILE | head"
   ]
  },
  {
   "cell_type": "markdown",
   "metadata": {
    "id": "import_data"
   },
   "source": [
    "### 导入数据\n",
    "\n",
    "现在，将数据导入到您的 Vertex Dataset 资源中。使用这个帮助函数 `import_data` 来导入数据。该函数执行以下操作：\n",
    "\n",
    "- 使用 `Dataset` 客户端。\n",
    "- 调用客户端方法 `import_data`，并传入以下参数：\n",
    " - `name`：您给 `Dataset` 资源的可读名称（例如 claritin）。\n",
    " - `import_configs`：导入配置。\n",
    "\n",
    "- `import_configs`：包含字典的 Python 列表，其中包含以下键值对条目：\n",
    " - `gcs_sources`：一个包含一个或多个索引文件路径的 URI 列表。\n",
    " - `import_schema_uri`：标识标注类型的模式。\n",
    "\n",
    "`import_data()` 方法会返回一个长时间运行的 `operation` 对象。这将需要几分钟来完成。如果您正在进行在线教程，则现在是提问或休息的好时机。"
   ]
  },
  {
   "cell_type": "code",
   "execution_count": null,
   "metadata": {
    "id": "import_data"
   },
   "outputs": [],
   "source": [
    "def import_data(dataset, gcs_sources, schema):\n",
    "    config = [{\"gcs_source\": {\"uris\": gcs_sources}, \"import_schema_uri\": schema}]\n",
    "    print(\"dataset:\", dataset_id)\n",
    "    start_time = time.time()\n",
    "    try:\n",
    "        operation = clients[\"dataset\"].import_data(\n",
    "            name=dataset_id, import_configs=config\n",
    "        )\n",
    "        print(\"Long running operation:\", operation.operation.name)\n",
    "\n",
    "        result = operation.result()\n",
    "        print(\"result:\", result)\n",
    "        print(\"time:\", int(time.time() - start_time), \"secs\")\n",
    "        print(\"error:\", operation.exception())\n",
    "        print(\"meta :\", operation.metadata)\n",
    "        print(\n",
    "            \"after: running:\",\n",
    "            operation.running(),\n",
    "            \"done:\",\n",
    "            operation.done(),\n",
    "            \"cancelled:\",\n",
    "            operation.cancelled(),\n",
    "        )\n",
    "\n",
    "        return operation\n",
    "    except Exception as e:\n",
    "        print(\"exception:\", e)\n",
    "        return None\n",
    "\n",
    "\n",
    "import_data(dataset_id, [IMPORT_FILE], LABEL_SCHEMA)"
   ]
  },
  {
   "cell_type": "markdown",
   "metadata": {
    "id": "train_automl_model"
   },
   "source": [
    "## 训练模型\n",
    "\n",
    "现在使用您的Vertex `Dataset`资源训练一个AutoML文本情感分析模型。要训练模型，请按照以下步骤操作：\n",
    "\n",
    "1. 为`Dataset`资源创建一个Vertex训练管道。\n",
    "2. 执行管道以开始训练。"
   ]
  },
  {
   "cell_type": "markdown",
   "metadata": {
    "id": "create_pipeline:automl"
   },
   "source": [
    "### 创建一个训练流水线\n",
    "\n",
    "您可能会问，我们用流水线做什么？通常在工作（如训练）有多个步骤时，我们会使用流水线，这些步骤通常是按顺序排列的：执行步骤A，执行步骤B，依此类推。通过将步骤放入流水线中，我们可以获得以下好处：\n",
    "\n",
    "1. 可重复用于后续训练任务。\n",
    "2. 可以将其容器化并作为批处理任务运行。\n",
    "3. 可以被分布式处理。\n",
    "4. 所有步骤都与同一流水线任务相关联，以跟踪进度。\n",
    "\n",
    "使用这个辅助函数`create_pipeline`，它接受以下参数：\n",
    "\n",
    "- `pipeline_name`：流水线任务的可读性名称。\n",
    "- `model_name`：模型的可读性名称。\n",
    "- `dataset`：Vertex 完全合格的数据集标识符。\n",
    "- `schema`：数据集标签（注释）训练模式。\n",
    "- `task`：描述训练任务需求的字典。\n",
    "\n",
    "辅助函数调用`Pipeline`客户端服务的`create_pipeline`方法，该方法接受以下参数：\n",
    "\n",
    "- `parent`：`Dataset`、`Model`和`Endpoint`资源的Vertex位置根路径。\n",
    "- `training_pipeline`：流水线训练任务的完整规格。\n",
    "\n",
    "现在让我们更深入地了解构建`training_pipeline`规范的*最低*要求：\n",
    "\n",
    "- `display_name`：流水线任务的人类可读名称。\n",
    "- `training_task_definition`：数据集标签（注释）训练模式。\n",
    "- `training_task_inputs`：描述训练任务需求的字典。\n",
    "- `model_to_upload`：模型的人类可读名称。\n",
    "- `input_data_config`：数据集规范。\n",
    "   - `dataset_id`：仅Vertex数据集标识符（非完全合格）--这是完全合格标识符的最后部分。\n",
    "   - `fraction_split`：如果指定，则用于训练、测试和验证的数据集百分比。否则，百分比将由AutoML自动选择。"
   ]
  },
  {
   "cell_type": "code",
   "execution_count": null,
   "metadata": {
    "id": "create_pipeline:automl"
   },
   "outputs": [],
   "source": [
    "def create_pipeline(pipeline_name, model_name, dataset, schema, task):\n",
    "\n",
    "    dataset_id = dataset.split(\"/\")[-1]\n",
    "\n",
    "    input_config = {\n",
    "        \"dataset_id\": dataset_id,\n",
    "        \"fraction_split\": {\n",
    "            \"training_fraction\": 0.8,\n",
    "            \"validation_fraction\": 0.1,\n",
    "            \"test_fraction\": 0.1,\n",
    "        },\n",
    "    }\n",
    "\n",
    "    training_pipeline = {\n",
    "        \"display_name\": pipeline_name,\n",
    "        \"training_task_definition\": schema,\n",
    "        \"training_task_inputs\": task,\n",
    "        \"input_data_config\": input_config,\n",
    "        \"model_to_upload\": {\"display_name\": model_name},\n",
    "    }\n",
    "\n",
    "    try:\n",
    "        pipeline = clients[\"pipeline\"].create_training_pipeline(\n",
    "            parent=PARENT, training_pipeline=training_pipeline\n",
    "        )\n",
    "        print(pipeline)\n",
    "    except Exception as e:\n",
    "        print(\"exception:\", e)\n",
    "        return None\n",
    "    return pipeline"
   ]
  },
  {
   "cell_type": "markdown",
   "metadata": {
    "id": "task_requirements:automl,tst"
   },
   "source": [
    "### 构建任务要求\n",
    "\n",
    "接下来，构建任务要求。与其他需要接受Python（类似JSON）字典的参数不同，`task`字段需要一个Google protobuf Struct，它与Python字典非常相似。使用`json_format.ParseDict`方法进行转换。\n",
    "\n",
    "我们需要指定的最小字段是：\n",
    "\n",
    "- `sentiment_max`：情感的最大值（例如，4）。\n",
    "\n",
    "最后，通过调用帮助函数`create_pipeline`来创建管道，该函数将返回一个训练管道对象的实例。"
   ]
  },
  {
   "cell_type": "code",
   "execution_count": null,
   "metadata": {
    "id": "task_requirements:automl,tst"
   },
   "outputs": [],
   "source": [
    "PIPE_NAME = \"claritin_pipe-\" + TIMESTAMP\n",
    "MODEL_NAME = \"claritin_model-\" + TIMESTAMP\n",
    "\n",
    "task = json_format.ParseDict(\n",
    "    {\n",
    "        \"sentiment_max\": SENTIMENT_MAX,\n",
    "    },\n",
    "    Value(),\n",
    ")\n",
    "\n",
    "response = create_pipeline(PIPE_NAME, MODEL_NAME, dataset_id, TRAINING_SCHEMA, task)"
   ]
  },
  {
   "cell_type": "markdown",
   "metadata": {
    "id": "pipeline_id:response"
   },
   "source": [
    "现在保存您创建的培训管道的唯一标识符。"
   ]
  },
  {
   "cell_type": "code",
   "execution_count": null,
   "metadata": {
    "id": "pipeline_id:response"
   },
   "outputs": [],
   "source": [
    "# The full unique ID for the pipeline\n",
    "pipeline_id = response.name\n",
    "# The short numeric ID for the pipeline\n",
    "pipeline_short_id = pipeline_id.split(\"/\")[-1]\n",
    "\n",
    "print(pipeline_id)"
   ]
  },
  {
   "cell_type": "markdown",
   "metadata": {
    "id": "get_training_pipeline"
   },
   "source": [
    "### 获取培训流水线信息\n",
    "\n",
    "现在只需获取此培训流水线实例的流水线信息。通过调用作业客户服务的 `get_training_pipeline` 方法，可以通过该帮助函数仅获取此作业的作业信息，方法如下：\n",
    "\n",
    "- `name`：Vertex的完全限定流水线标识符。\n",
    "\n",
    "当模型训练完成时，流水线状态将为 `PIPELINE_STATE_SUCCEEDED`。"
   ]
  },
  {
   "cell_type": "code",
   "execution_count": null,
   "metadata": {
    "id": "get_training_pipeline"
   },
   "outputs": [],
   "source": [
    "def get_training_pipeline(name, silent=False):\n",
    "    response = clients[\"pipeline\"].get_training_pipeline(name=name)\n",
    "    if silent:\n",
    "        return response\n",
    "\n",
    "    print(\"pipeline\")\n",
    "    print(\" name:\", response.name)\n",
    "    print(\" display_name:\", response.display_name)\n",
    "    print(\" state:\", response.state)\n",
    "    print(\" training_task_definition:\", response.training_task_definition)\n",
    "    print(\" training_task_inputs:\", dict(response.training_task_inputs))\n",
    "    print(\" create_time:\", response.create_time)\n",
    "    print(\" start_time:\", response.start_time)\n",
    "    print(\" end_time:\", response.end_time)\n",
    "    print(\" update_time:\", response.update_time)\n",
    "    print(\" labels:\", dict(response.labels))\n",
    "    return response\n",
    "\n",
    "\n",
    "response = get_training_pipeline(pipeline_id)"
   ]
  },
  {
   "cell_type": "markdown",
   "metadata": {
    "id": "wait_training_complete"
   },
   "source": [
    "# 部署\n",
    "\n",
    "训练上述模型可能需要长达180分钟的时间。\n",
    "\n",
    "一旦您的模型训练完成，您可以通过从“结束时间”减去“开始时间”来计算训练模型实际花费的时间。对于您的模型，您需要知道完全限定的 Vertex 模型资源标识符，即管道服务分配给它的标识符。您可以从返回的管道实例中获取此信息，字段为 `model_to_deploy.name`。"
   ]
  },
  {
   "cell_type": "code",
   "execution_count": null,
   "metadata": {
    "id": "wait_training_complete"
   },
   "outputs": [],
   "source": [
    "while True:\n",
    "    response = get_training_pipeline(pipeline_id, True)\n",
    "    if response.state != aip.PipelineState.PIPELINE_STATE_SUCCEEDED:\n",
    "        print(\"Training job has not completed:\", response.state)\n",
    "        model_to_deploy_id = None\n",
    "        if response.state == aip.PipelineState.PIPELINE_STATE_FAILED:\n",
    "            raise Exception(\"Training Job Failed\")\n",
    "    else:\n",
    "        model_to_deploy = response.model_to_upload\n",
    "        model_to_deploy_id = model_to_deploy.name\n",
    "        print(\"Training Time:\", response.end_time - response.start_time)\n",
    "        break\n",
    "    time.sleep(60)\n",
    "\n",
    "print(\"model to deploy:\", model_to_deploy_id)"
   ]
  },
  {
   "cell_type": "markdown",
   "metadata": {
    "id": "model_information"
   },
   "source": [
    "## 模型信息\n",
    "\n",
    "现在你的模型已经训练好了，你可以获取一些关于你的模型的信息。"
   ]
  },
  {
   "cell_type": "markdown",
   "metadata": {
    "id": "evaluate_the_model:automl"
   },
   "source": [
    "评估模型资源\n",
    "\n",
    "现在找出模型服务认为您的模型有多好。在训练的过程中，数据集的一部分被保留作为测试（保留）数据，由管道服务用来评估模型。"
   ]
  },
  {
   "cell_type": "markdown",
   "metadata": {
    "id": "list_model_evaluations:automl,tst"
   },
   "source": [
    "### 列出所有切片的评估\n",
    "\n",
    "使用这个辅助函数 `list_model_evaluations`，它接受以下参数：\n",
    "\n",
    "- `name`：`Model` 资源的 Vertex 完全限定模型标识符。\n",
    "\n",
    "这个辅助函数使用模型客户服务的 `list_model_evaluations` 方法，该方法接受相同的参数。调用的响应对象是一个列表，其中每个元素都是一个评估指标。\n",
    "\n",
    "对于每个评估 —— 你可能只有一个，然后打印评估中每个指标的所有键名，并对一小组 (`meanAbsoluteError` 和 `precision`) 打印结果。"
   ]
  },
  {
   "cell_type": "code",
   "execution_count": null,
   "metadata": {
    "id": "list_model_evaluations:automl,tst"
   },
   "outputs": [],
   "source": [
    "def list_model_evaluations(name):\n",
    "    response = clients[\"model\"].list_model_evaluations(parent=name)\n",
    "    for evaluation in response:\n",
    "        print(\"model_evaluation\")\n",
    "        print(\" name:\", evaluation.name)\n",
    "        print(\" metrics_schema_uri:\", evaluation.metrics_schema_uri)\n",
    "        metrics = json_format.MessageToDict(evaluation._pb.metrics)\n",
    "        for metric in metrics.keys():\n",
    "            print(metric)\n",
    "        print(\"meanAbsoluteError\", metrics[\"meanAbsoluteError\"])\n",
    "        print(\"precision\", metrics[\"precision\"])\n",
    "\n",
    "    return evaluation.name\n",
    "\n",
    "\n",
    "last_evaluation = list_model_evaluations(model_to_deploy_id)"
   ]
  },
  {
   "cell_type": "markdown",
   "metadata": {
    "id": "deploy:batch_prediction"
   },
   "source": [
    "## 批量预测模型部署\n",
    "\n",
    "现在部署您为批量预测创建的经过训练的Vertex `Model`资源。这与部署用于按需预测的`Model`资源有所不同。\n",
    "\n",
    "对于在线预测，您需要：\n",
    "\n",
    "1. 创建一个`Endpoint`资源来部署`Model`资源。\n",
    "\n",
    "2. 将`Model`资源部署到`Endpoint`资源。\n",
    "\n",
    "3. 对`Endpoint`资源进行在线预测请求。\n",
    "\n",
    "对于批量预测，您需要：\n",
    "\n",
    "1. 创建一个批量预测作业。\n",
    "\n",
    "2. 作业服务将为批量预测请求配置资源。\n",
    "\n",
    "3. 将批量预测请求的结果返回给调用者。\n",
    "\n",
    "4. 作业服务将取消配置为批量预测请求的资源。"
   ]
  },
  {
   "cell_type": "markdown",
   "metadata": {
    "id": "make_prediction"
   },
   "source": [
    "## 进行批量预测请求\n",
    "\n",
    "现在对您部署的模型进行批量预测。"
   ]
  },
  {
   "cell_type": "markdown",
   "metadata": {
    "id": "get_test_items:batch_prediction"
   },
   "source": [
    "获取测试项目\n",
    "\n",
    "现在对您的 Vertex 模型进行批量预测。您将使用数据集中的任意示例作为测试项目。不必担心这些示例很可能已经用于训练模型 -- 我们只是想演示如何进行预测。"
   ]
  },
  {
   "cell_type": "code",
   "execution_count": null,
   "metadata": {
    "id": "get_test_items:automl,tst,csv"
   },
   "outputs": [],
   "source": [
    "test_items = ! gsutil cat $IMPORT_FILE | head -n2\n",
    "\n",
    "if len(test_items[0]) == 4:\n",
    "    _, test_item_1, test_label_1, _ = str(test_items[0]).split(\",\")\n",
    "    _, test_item_2, test_label_2, _ = str(test_items[1]).split(\",\")\n",
    "else:\n",
    "    test_item_1, test_label_1, _ = str(test_items[0]).split(\",\")\n",
    "    test_item_2, test_label_2, _ = str(test_items[1]).split(\",\")\n",
    "\n",
    "\n",
    "print(test_item_1, test_label_1)\n",
    "print(test_item_2, test_label_2)"
   ]
  },
  {
   "cell_type": "markdown",
   "metadata": {
    "id": "make_batch_file:automl,text"
   },
   "source": [
    "### 制作批量输入文件\n",
    "\n",
    "现在制作一个批量输入文件，您将把它存储在本地的云存储存储桶中。批量输入文件只能使用JSONL格式。对于JSONL文件，您每行为每个数据项（实例）创建一个字典条目。该字典包含键/值对：\n",
    "\n",
    "- `content`：文本项文件的云存储路径。\n",
    "- `mime_type`：内容类型。在我们的示例中，它是`text`文件。\n",
    "\n",
    "例如：\n",
    "\n",
    "                        {'content': '[your-bucket]/file1.txt', 'mime_type': 'text'}"
   ]
  },
  {
   "cell_type": "code",
   "execution_count": null,
   "metadata": {
    "id": "make_batch_file:automl,text"
   },
   "outputs": [],
   "source": [
    "import json\n",
    "\n",
    "import tensorflow as tf\n",
    "\n",
    "gcs_test_item_1 = BUCKET_NAME + \"/test1.txt\"\n",
    "with tf.io.gfile.GFile(gcs_test_item_1, \"w\") as f:\n",
    "    f.write(test_item_1 + \"\\n\")\n",
    "gcs_test_item_2 = BUCKET_NAME + \"/test2.txt\"\n",
    "with tf.io.gfile.GFile(gcs_test_item_2, \"w\") as f:\n",
    "    f.write(test_item_2 + \"\\n\")\n",
    "\n",
    "gcs_input_uri = BUCKET_NAME + \"/test.jsonl\"\n",
    "with tf.io.gfile.GFile(gcs_input_uri, \"w\") as f:\n",
    "    data = {\"content\": gcs_test_item_1, \"mime_type\": \"text/plain\"}\n",
    "    f.write(json.dumps(data) + \"\\n\")\n",
    "    data = {\"content\": gcs_test_item_2, \"mime_type\": \"text/plain\"}\n",
    "    f.write(json.dumps(data) + \"\\n\")\n",
    "\n",
    "print(gcs_input_uri)\n",
    "! gsutil cat $gcs_input_uri"
   ]
  },
  {
   "cell_type": "markdown",
   "metadata": {
    "id": "instance_scaling"
   },
   "source": [
    "### 计算实例扩展\n",
    "\n",
    "在处理批量预测请求时，您有几种选择来扩展计算实例：\n",
    "\n",
    "- 单个实例: 批量预测请求在单个计算实例上进行处理。\n",
    "  - 将计算实例的最小 (`MIN_NODES`) 和最大 (`MAX_NODES`) 数量设置为一。\n",
    "\n",
    "- 手动扩展: 批量预测请求在您手动指定的固定数量的计算实例上进行分割。\n",
    "  - 将计算实例的最小 (`MIN_NODES`) 和最大 (`MAX_NODES`) 数量设置为相同数目的节点。当模型首次部署到实例时，固定数量的计算实例会被预配并且批量预测请求会均匀分配给它们。\n",
    "\n",
    "- 自动扩展: 批量预测请求在一定数量的可扩展计算实例上进行分割。\n",
    "  - 将计算实例的最小 (`MIN_NODES`) 数量设置为模型首次部署时要预配和取消预配的实例数，并将最大 (`MAX_NODES) 数量设置为根据负载条件预配的计算实例数。\n",
    "\n",
    "最小计算实例数对应于字段 `min_replica_count`，最大计算实例数对应于字段 `max_replica_count`，在您的后续部署请求中。"
   ]
  },
  {
   "cell_type": "code",
   "execution_count": null,
   "metadata": {
    "id": "instance_scaling"
   },
   "outputs": [],
   "source": [
    "MIN_NODES = 1\n",
    "MAX_NODES = 1"
   ]
  },
  {
   "cell_type": "markdown",
   "metadata": {
    "id": "make_batch_request:automl,tst"
   },
   "source": [
    "### 进行批量预测请求\n",
    "\n",
    "现在您的两个测试项目的批次已准备好，让我们进行批量请求。使用以下的辅助函数 `create_batch_prediction_job`，并提供以下参数：\n",
    "\n",
    "- `display_name`：用于预测作业的可读名称。\n",
    "- `model_name`：`Model` 资源的 Vertex 完全限定标识符。\n",
    "- `gcs_source_uri`：输入文件的 Cloud Storage 路径，即您之前创建的路径。\n",
    "- `gcs_destination_output_uri_prefix`：服务将写入预测结果的 Cloud Storage 路径。\n",
    "- `parameters`：用于服务预测结果的附加过滤参数。\n",
    "\n",
    "辅助函数调用作业客户端服务的 `create_batch_prediction_job` 方法，并提供以下参数：\n",
    "\n",
    "- `parent`：Dataset、Model 和 Pipeline 资源的 Vertex 根路径。\n",
    "- `batch_prediction_job`：批量预测作业的规范。\n",
    "\n",
    "现在让我们深入研究 `batch_prediction_job` 的规范：\n",
    "\n",
    "- `display_name`：用于预测批处理作业的可读名称。\n",
    "- `model`：`Model` 资源的 Vertex 完全限定标识符。\n",
    "- `dedicated_resources`：为批量预测作业配置的计算资源。\n",
    "  - `machine_spec`：要提供的计算实例。使用之前设置的变量 `DEPLOY_GPU != None` 来使用 GPU；否则只分配 CPU。\n",
    "  - `starting_replica_count`：最初要提供的计算实例数，您之前将其设置为变量 `MIN_NODES`。\n",
    "  - `max_replica_count`：要扩展到的最大计算实例数，您之前将其设置为变量 `MAX_NODES`。\n",
    "- `model_parameters`：用于服务预测结果的附加过滤参数。*请注意*，文本模型不支持附加参数。\n",
    "- `input_config`：要预测的实例的输入源和格式类型。\n",
    " - `instances_format`：批量预测请求文件的格式：仅支持 `jsonl`。\n",
    " - `gcs_source`：一种或多种 Cloud Storage 路径列表，指向批量预测请求。\n",
    "- `output_config`：预测结果的输出目标和格式。\n",
    " - `prediction_format`：批量预测响应文件的格式：仅支持 `jsonl`。\n",
    " - `gcs_destination`：预测结果的输出目标。\n",
    "\n",
    "此调用是异步操作。您将从响应对象中打印几个选定的字段，包括：\n",
    "\n",
    "- `name`：分配给批量预测作业的 Vertex 完全限定标识符。\n",
    "- `display_name`：预测批处理作业的可读名称。\n",
    "- `model`：Model 资源的 Vertex 完全限定标识符。\n",
    "- `generate_explanations`：与预测一起提供的 True/False 解释（可解释性）。\n",
    "- `state`：预测作业的状态（挂起，运行等）。\n",
    "\n",
    "由于此调用将需要一些时间来执行，您可能会在 `state` 中收到 `JobState.JOB_STATE_PENDING`。"
   ]
  },
  {
   "cell_type": "code",
   "execution_count": null,
   "metadata": {
    "id": "make_batch_request:automl,tst"
   },
   "outputs": [],
   "source": [
    "BATCH_MODEL = \"claritin_batch-\" + TIMESTAMP\n",
    "\n",
    "\n",
    "def create_batch_prediction_job(\n",
    "    display_name,\n",
    "    model_name,\n",
    "    gcs_source_uri,\n",
    "    gcs_destination_output_uri_prefix,\n",
    "    parameters=None,\n",
    "):\n",
    "\n",
    "    if DEPLOY_GPU:\n",
    "        machine_spec = {\n",
    "            \"machine_type\": DEPLOY_COMPUTE,\n",
    "            \"accelerator_type\": DEPLOY_GPU,\n",
    "            \"accelerator_count\": DEPLOY_NGPU,\n",
    "        }\n",
    "    else:\n",
    "        machine_spec = {\n",
    "            \"machine_type\": DEPLOY_COMPUTE,\n",
    "            \"accelerator_count\": 0,\n",
    "        }\n",
    "\n",
    "    batch_prediction_job = {\n",
    "        \"display_name\": display_name,\n",
    "        # Format: 'projects/{project}/locations/{location}/models/{model_id}'\n",
    "        \"model\": model_name,\n",
    "        \"model_parameters\": json_format.ParseDict(parameters, Value()),\n",
    "        \"input_config\": {\n",
    "            \"instances_format\": IN_FORMAT,\n",
    "            \"gcs_source\": {\"uris\": [gcs_source_uri]},\n",
    "        },\n",
    "        \"output_config\": {\n",
    "            \"predictions_format\": OUT_FORMAT,\n",
    "            \"gcs_destination\": {\"output_uri_prefix\": gcs_destination_output_uri_prefix},\n",
    "        },\n",
    "        \"dedicated_resources\": {\n",
    "            \"machine_spec\": machine_spec,\n",
    "            \"starting_replica_count\": MIN_NODES,\n",
    "            \"max_replica_count\": MAX_NODES,\n",
    "        },\n",
    "    }\n",
    "    response = clients[\"job\"].create_batch_prediction_job(\n",
    "        parent=PARENT, batch_prediction_job=batch_prediction_job\n",
    "    )\n",
    "    print(\"response\")\n",
    "    print(\" name:\", response.name)\n",
    "    print(\" display_name:\", response.display_name)\n",
    "    print(\" model:\", response.model)\n",
    "    try:\n",
    "        print(\" generate_explanation:\", response.generate_explanation)\n",
    "    except:\n",
    "        pass\n",
    "    print(\" state:\", response.state)\n",
    "    print(\" create_time:\", response.create_time)\n",
    "    print(\" start_time:\", response.start_time)\n",
    "    print(\" end_time:\", response.end_time)\n",
    "    print(\" update_time:\", response.update_time)\n",
    "    print(\" labels:\", response.labels)\n",
    "    return response\n",
    "\n",
    "\n",
    "IN_FORMAT = \"jsonl\"\n",
    "OUT_FORMAT = \"jsonl\"  # [jsonl]\n",
    "\n",
    "response = create_batch_prediction_job(\n",
    "    BATCH_MODEL, model_to_deploy_id, gcs_input_uri, BUCKET_NAME, None\n",
    ")"
   ]
  },
  {
   "cell_type": "markdown",
   "metadata": {
    "id": "batch_job_id:response"
   },
   "source": [
    "现在获取您创建的批处理预测作业的唯一标识符。"
   ]
  },
  {
   "cell_type": "code",
   "execution_count": null,
   "metadata": {
    "id": "batch_job_id:response"
   },
   "outputs": [],
   "source": [
    "# The full unique ID for the batch job\n",
    "batch_job_id = response.name\n",
    "# The short numeric ID for the batch job\n",
    "batch_job_short_id = batch_job_id.split(\"/\")[-1]\n",
    "\n",
    "print(batch_job_id)"
   ]
  },
  {
   "cell_type": "markdown",
   "metadata": {
    "id": "get_batch_prediction_job"
   },
   "source": [
    "### 获取关于批量预测作业的信息\n",
    "\n",
    "使用这个辅助函数 `get_batch_prediction_job`，并传入以下参数：\n",
    "\n",
    "- `job_name`: 批量预测作业的 Vertex 完全限定标识符。\n",
    "\n",
    "辅助函数调用作业客户服务的 `get_batch_prediction_job` 方法，并传入以下参数：\n",
    "\n",
    "- `name`: 批量预测作业的 Vertex 完全限定标识符。在本教程中，您将传入批量预测作业的 Vertex 完全限定标识符 -- `batch_job_id`\n",
    "\n",
    "辅助函数将返回预测结果存储的 Cloud Storage 路径 -- `gcs_destination`。"
   ]
  },
  {
   "cell_type": "code",
   "execution_count": null,
   "metadata": {
    "id": "get_batch_prediction_job"
   },
   "outputs": [],
   "source": [
    "def get_batch_prediction_job(job_name, silent=False):\n",
    "    response = clients[\"job\"].get_batch_prediction_job(name=job_name)\n",
    "    if silent:\n",
    "        return response.output_config.gcs_destination.output_uri_prefix, response.state\n",
    "\n",
    "    print(\"response\")\n",
    "    print(\" name:\", response.name)\n",
    "    print(\" display_name:\", response.display_name)\n",
    "    print(\" model:\", response.model)\n",
    "    try:  # not all data types support explanations\n",
    "        print(\" generate_explanation:\", response.generate_explanation)\n",
    "    except:\n",
    "        pass\n",
    "    print(\" state:\", response.state)\n",
    "    print(\" error:\", response.error)\n",
    "    gcs_destination = response.output_config.gcs_destination\n",
    "    print(\" gcs_destination\")\n",
    "    print(\"  output_uri_prefix:\", gcs_destination.output_uri_prefix)\n",
    "    return gcs_destination.output_uri_prefix, response.state\n",
    "\n",
    "\n",
    "predictions, state = get_batch_prediction_job(batch_job_id)"
   ]
  },
  {
   "cell_type": "markdown",
   "metadata": {
    "id": "get_the_predictions:automl,tst"
   },
   "source": [
    "获取预测\n",
    "\n",
    "当批量预测处理完毕时，作业状态将变为`JOB_STATE_SUCCEEDED`。\n",
    "\n",
    "最终，您可以查看存储在您设置为输出的Cloud Storage路径中的预测结果。预测结果将以JSONL格式呈现，这是在您创建批处理预测作业时指定的，位于以名称`prediction`开头的子文件夹中，该文件夹下将有一个名为`predictions*.jsonl`的文件。\n",
    "\n",
    "现在显示（cat）内容。您将看到多个JSON对象，每个对象表示一个预测。\n",
    "\n",
    "第一个字段`text_snippet`是您进行预测的文本文件，第二个字段`annotations`是预测结果，进一步细分为：\n",
    "\n",
    "- `sentiment`：预测的情感水平。"
   ]
  },
  {
   "cell_type": "code",
   "execution_count": null,
   "metadata": {
    "id": "get_the_predictions:automl,text"
   },
   "outputs": [],
   "source": [
    "def get_latest_predictions(gcs_out_dir):\n",
    "    \"\"\" Get the latest prediction subfolder using the timestamp in the subfolder name\"\"\"\n",
    "    folders = !gsutil ls $gcs_out_dir\n",
    "    latest = \"\"\n",
    "    for folder in folders:\n",
    "        subfolder = folder.split(\"/\")[-2]\n",
    "        if subfolder.startswith(\"prediction-\"):\n",
    "            if subfolder > latest:\n",
    "                latest = folder[:-1]\n",
    "    return latest\n",
    "\n",
    "\n",
    "while True:\n",
    "    predictions, state = get_batch_prediction_job(batch_job_id, True)\n",
    "    if state != aip.JobState.JOB_STATE_SUCCEEDED:\n",
    "        print(\"The job has not completed:\", state)\n",
    "        if state == aip.JobState.JOB_STATE_FAILED:\n",
    "            raise Exception(\"Batch Job Failed\")\n",
    "    else:\n",
    "        folder = get_latest_predictions(predictions)\n",
    "        ! gsutil ls $folder/prediction*.jsonl\n",
    "\n",
    "        ! gsutil cat $folder/prediction*.jsonl\n",
    "        break\n",
    "    time.sleep(60)"
   ]
  },
  {
   "cell_type": "markdown",
   "metadata": {
    "id": "cleanup"
   },
   "source": [
    "清理\n",
    "\n",
    "要清理此项目中使用的所有GCP资源，您可以[删除](https://cloud.google.com/resource-manager/docs/creating-managing-projects#shutting_down_projects)用于本教程的GCP项目。\n",
    "\n",
    "否则，您可以删除本教程中创建的各个资源：\n",
    "\n",
    "- 数据集\n",
    "- 流水线\n",
    "- 模型\n",
    "- 终端\n",
    "- 批处理作业\n",
    "- 自定义作业\n",
    "- 超参数调整作业\n",
    "- 云存储存储桶"
   ]
  },
  {
   "cell_type": "code",
   "execution_count": null,
   "metadata": {
    "id": "cleanup"
   },
   "outputs": [],
   "source": [
    "delete_dataset = True\n",
    "delete_pipeline = True\n",
    "delete_model = True\n",
    "delete_endpoint = True\n",
    "delete_batchjob = True\n",
    "delete_customjob = True\n",
    "delete_hptjob = True\n",
    "delete_bucket = True\n",
    "\n",
    "# Delete the dataset using the Vertex fully qualified identifier for the dataset\n",
    "try:\n",
    "    if delete_dataset and \"dataset_id\" in globals():\n",
    "        clients[\"dataset\"].delete_dataset(name=dataset_id)\n",
    "except Exception as e:\n",
    "    print(e)\n",
    "\n",
    "# Delete the training pipeline using the Vertex fully qualified identifier for the pipeline\n",
    "try:\n",
    "    if delete_pipeline and \"pipeline_id\" in globals():\n",
    "        clients[\"pipeline\"].delete_training_pipeline(name=pipeline_id)\n",
    "except Exception as e:\n",
    "    print(e)\n",
    "\n",
    "# Delete the model using the Vertex fully qualified identifier for the model\n",
    "try:\n",
    "    if delete_model and \"model_to_deploy_id\" in globals():\n",
    "        clients[\"model\"].delete_model(name=model_to_deploy_id)\n",
    "except Exception as e:\n",
    "    print(e)\n",
    "\n",
    "# Delete the endpoint using the Vertex fully qualified identifier for the endpoint\n",
    "try:\n",
    "    if delete_endpoint and \"endpoint_id\" in globals():\n",
    "        clients[\"endpoint\"].delete_endpoint(name=endpoint_id)\n",
    "except Exception as e:\n",
    "    print(e)\n",
    "\n",
    "# Delete the batch job using the Vertex fully qualified identifier for the batch job\n",
    "try:\n",
    "    if delete_batchjob and \"batch_job_id\" in globals():\n",
    "        clients[\"job\"].delete_batch_prediction_job(name=batch_job_id)\n",
    "except Exception as e:\n",
    "    print(e)\n",
    "\n",
    "# Delete the custom job using the Vertex fully qualified identifier for the custom job\n",
    "try:\n",
    "    if delete_customjob and \"job_id\" in globals():\n",
    "        clients[\"job\"].delete_custom_job(name=job_id)\n",
    "except Exception as e:\n",
    "    print(e)\n",
    "\n",
    "# Delete the hyperparameter tuning job using the Vertex fully qualified identifier for the hyperparameter tuning job\n",
    "try:\n",
    "    if delete_hptjob and \"hpt_job_id\" in globals():\n",
    "        clients[\"job\"].delete_hyperparameter_tuning_job(name=hpt_job_id)\n",
    "except Exception as e:\n",
    "    print(e)\n",
    "\n",
    "if delete_bucket and \"BUCKET_NAME\" in globals():\n",
    "    ! gsutil rm -r $BUCKET_NAME"
   ]
  }
 ],
 "metadata": {
  "colab": {
   "name": "showcase_automl_text_sentiment_analysis_batch.ipynb",
   "toc_visible": true
  },
  "kernelspec": {
   "display_name": "Python 3",
   "name": "python3"
  }
 },
 "nbformat": 4,
 "nbformat_minor": 0
}
