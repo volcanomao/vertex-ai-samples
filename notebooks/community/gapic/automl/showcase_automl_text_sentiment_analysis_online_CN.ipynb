{
 "cells": [
  {
   "cell_type": "code",
   "execution_count": null,
   "metadata": {
    "id": "copyright"
   },
   "outputs": [],
   "source": [
    "# Copyright 2020 Google LLC\n",
    "#\n",
    "# Licensed under the Apache License, Version 2.0 (the \"License\");\n",
    "# you may not use this file except in compliance with the License.\n",
    "# You may obtain a copy of the License at\n",
    "#\n",
    "#     https://www.apache.org/licenses/LICENSE-2.0\n",
    "#\n",
    "# Unless required by applicable law or agreed to in writing, software\n",
    "# distributed under the License is distributed on an \"AS IS\" BASIS,\n",
    "# WITHOUT WARRANTIES OR CONDITIONS OF ANY KIND, either express or implied.\n",
    "# See the License for the specific language governing permissions and\n",
    "# limitations under the License."
   ]
  },
  {
   "cell_type": "markdown",
   "metadata": {
    "id": "title"
   },
   "source": [
    "# 顶点客户端库：用于在线预测的AutoML文本情感分析模型\n",
    "\n",
    "<table align=\"left\">\n",
    "  <td>\n",
    "    <a href=\"https://colab.research.google.com/github/GoogleCloudPlatform/vertex-ai-samples/blob/master/notebooks/community/gapic/automl/showcase_automl_text_sentiment_analysis_online.ipynb\">\n",
    "      <img src=\"https://cloud.google.com/ml-engine/images/colab-logo-32px.png\" alt=\"Colab logo\"> 在Colab中运行\n",
    "    </a>\n",
    "  </td>\n",
    "  <td>\n",
    "    <a href=\"https://github.com/GoogleCloudPlatform/vertex-ai-samples/blob/master/notebooks/community/gapic/automl/showcase_automl_text_sentiment_analysis_online.ipynb\">\n",
    "      <img src=\"https://cloud.google.com/ml-engine/images/github-logo-32px.png\" alt=\"GitHub logo\">\n",
    "      在GitHub上查看\n",
    "    </a>\n",
    "  </td>\n",
    "</table>\n",
    "<br/><br/><br/>"
   ]
  },
  {
   "cell_type": "markdown",
   "metadata": {
    "id": "overview:automl"
   },
   "source": [
    "## 概述\n",
    "\n",
    "本教程演示了如何使用Python的Vertex客户端库创建文本情感分析模型，并使用Google Cloud的[AutoML](https://cloud.google.com/vertex-ai/docs/start/automl-users)进行在线预测。"
   ]
  },
  {
   "cell_type": "markdown",
   "metadata": {
    "id": "dataset:claritin,tst"
   },
   "source": [
    "数据集\n",
    "\n",
    "本教程使用的数据集是来自[data.world数据集](https://data.world) 的[Crowdflower Claritin-Twitter数据集](https://data.world/crowdflower/claritin-twitter)。您将在本教程中使用的数据集版本存储在公共云存储桶中。"
   ]
  },
  {
   "cell_type": "markdown",
   "metadata": {
    "id": "objective:automl,training,online_prediction"
   },
   "source": [
    "### 目标\n",
    "\n",
    "在本教程中，您将使用Vertex客户端库从Python脚本创建一个AutoML文本情感分析模型，并进行在线预测部署。您也可以使用`gcloud`命令行工具或在Google Cloud控制台上进行创建和部署模型。\n",
    "\n",
    "所执行的步骤包括：\n",
    "\n",
    "- 创建一个Vertex`数据集`资源。\n",
    "- 训练模型。\n",
    "- 查看模型评估。\n",
    "- 将`模型`资源部署到`终端节点`资源。\n",
    "- 进行预测。\n",
    "- 取消部署`模型`。"
   ]
  },
  {
   "cell_type": "markdown",
   "metadata": {
    "id": "costs"
   },
   "source": [
    "成本\n",
    "\n",
    "本教程使用Google Cloud（GCP）的计费组件：\n",
    "\n",
    "* Vertex AI\n",
    "* Cloud Storage\n",
    "\n",
    "了解[Vertex AI\n",
    "价格](https://cloud.google.com/vertex-ai/pricing) 和 [Cloud Storage\n",
    "价格](https://cloud.google.com/storage/pricing)，并使用[Pricing\n",
    "Calculator](https://cloud.google.com/products/calculator/)\n",
    "根据您的预计使用情况生成成本估算。"
   ]
  },
  {
   "cell_type": "markdown",
   "metadata": {
    "id": "install_aip"
   },
   "source": [
    "安装\n",
    "\n",
    "安装最新版本的Vertex客户端库。"
   ]
  },
  {
   "cell_type": "code",
   "execution_count": null,
   "metadata": {
    "id": "install_aip"
   },
   "outputs": [],
   "source": [
    "import os\n",
    "import sys\n",
    "\n",
    "# Google Cloud Notebook\n",
    "if os.path.exists(\"/opt/deeplearning/metadata/env_version\"):\n",
    "    USER_FLAG = \"--user\"\n",
    "else:\n",
    "    USER_FLAG = \"\"\n",
    "\n",
    "! pip3 install -U google-cloud-aiplatform $USER_FLAG"
   ]
  },
  {
   "cell_type": "markdown",
   "metadata": {
    "id": "install_storage"
   },
   "source": [
    "安装最新的*google-cloud-storage*库的GA版本。"
   ]
  },
  {
   "cell_type": "code",
   "execution_count": null,
   "metadata": {
    "id": "install_storage"
   },
   "outputs": [],
   "source": [
    "! pip3 install -U google-cloud-storage $USER_FLAG"
   ]
  },
  {
   "cell_type": "markdown",
   "metadata": {
    "id": "restart"
   },
   "source": [
    "### 重新启动内核\n",
    "\n",
    "一旦您已安装了Vertex客户端库和Google *cloud-storage*，您需要重新启动笔记本内核以便找到这些包。"
   ]
  },
  {
   "cell_type": "code",
   "execution_count": null,
   "metadata": {
    "id": "restart"
   },
   "outputs": [],
   "source": [
    "if not os.getenv(\"IS_TESTING\"):\n",
    "    # Automatically restart kernel after installs\n",
    "    import IPython\n",
    "\n",
    "    app = IPython.Application.instance()\n",
    "    app.kernel.do_shutdown(True)"
   ]
  },
  {
   "cell_type": "markdown",
   "metadata": {
    "id": "before_you_begin"
   },
   "source": [
    "## 在开始之前\n",
    "\n",
    "### GPU运行时\n",
    "\n",
    "*如果有这个选择的话，请确保你在GPU运行时中运行这个笔记本。在Colab中，选择* **Runtime > Change Runtime Type > GPU**\n",
    "\n",
    "### 设置你的谷歌云项目\n",
    "\n",
    "**无论你的笔记本环境如何，以下步骤都是必需的。**\n",
    "\n",
    "1. [选择或创建一个谷歌云项目](https://console.cloud.google.com/cloud-resource-manager)。当你首次创建一个账户时，你会获得$300免费的计算/存储成本的信用。\n",
    "\n",
    "2. [确保为你的项目启用了计费。](https://cloud.google.com/billing/docs/how-to/modify-project)\n",
    "\n",
    "3. [启用Vertex APIs和Compute Engine APIs。](https://console.cloud.google.com/flows/enableapi?apiid=ml.googleapis.com,compute_component)\n",
    "\n",
    "4. [谷歌云SDK](https://cloud.google.com/sdk)已经安装在谷歌云笔记本中。\n",
    "\n",
    "5. 在下方的单元格中输入你的项目ID。然后运行该单元格，确保Cloud SDK在这个笔记本中的所有命令中使用正确的项目。\n",
    "\n",
    "**注意**：Jupyter将以`!`为前缀的行视为shell命令，并将以`$`为前缀的Python变量插入这些命令中。"
   ]
  },
  {
   "cell_type": "code",
   "execution_count": null,
   "metadata": {
    "id": "set_project_id"
   },
   "outputs": [],
   "source": [
    "PROJECT_ID = \"[your-project-id]\"  # @param {type:\"string\"}"
   ]
  },
  {
   "cell_type": "code",
   "execution_count": null,
   "metadata": {
    "id": "autoset_project_id"
   },
   "outputs": [],
   "source": [
    "if PROJECT_ID == \"\" or PROJECT_ID is None or PROJECT_ID == \"[your-project-id]\":\n",
    "    # Get your GCP project id from gcloud\n",
    "    shell_output = !gcloud config list --format 'value(core.project)' 2>/dev/null\n",
    "    PROJECT_ID = shell_output[0]\n",
    "    print(\"Project ID:\", PROJECT_ID)"
   ]
  },
  {
   "cell_type": "code",
   "execution_count": null,
   "metadata": {
    "id": "set_gcloud_project_id"
   },
   "outputs": [],
   "source": [
    "! gcloud config set project $PROJECT_ID"
   ]
  },
  {
   "cell_type": "markdown",
   "metadata": {
    "id": "region"
   },
   "source": [
    "区域\n",
    "\n",
    "您还可以更改“REGION”变量，该变量用于本笔记本其余部分的操作。以下是Vertex支持的区域。我们建议您选择离您最近的区域。\n",
    "\n",
    "- 美洲：`us-central1`\n",
    "- 欧洲：`europe-west4`\n",
    "- 亚太地区：`asia-east1`\n",
    "\n",
    "您可能不会使用多区域存储桶进行Vertex的训练。并非所有区域都支持所有Vertex服务。有关每个区域的最新支持，请参见[Vertex位置文档](https://cloud.google.com/vertex-ai/docs/general/locations)。"
   ]
  },
  {
   "cell_type": "code",
   "execution_count": null,
   "metadata": {
    "id": "region"
   },
   "outputs": [],
   "source": [
    "REGION = \"us-central1\"  # @param {type: \"string\"}"
   ]
  },
  {
   "cell_type": "markdown",
   "metadata": {
    "id": "timestamp"
   },
   "source": [
    "时间戳\n",
    "\n",
    "如果您正在进行直播教程会话，您可能正在使用一个共享测试账户或项目。为了避免用户在创建的资源中发生命名冲突，您可以为每个实例会话创建一个时间戳，并附加在将在本教程中创建的资源名称上。"
   ]
  },
  {
   "cell_type": "code",
   "execution_count": null,
   "metadata": {
    "id": "timestamp"
   },
   "outputs": [],
   "source": [
    "from datetime import datetime\n",
    "\n",
    "TIMESTAMP = datetime.now().strftime(\"%Y%m%d%H%M%S\")"
   ]
  },
  {
   "cell_type": "markdown",
   "metadata": {
    "id": "gcp_authenticate"
   },
   "source": [
    "### 验证您的Google Cloud帐户\n",
    "\n",
    "**如果您正在使用Google Cloud Notebook**，则您的环境已经经过身份验证。跳过此步骤。\n",
    "\n",
    "**如果您正在使用Colab**，运行下面的单元格，并按照提示进行身份验证以通过oAuth验证您的帐户。\n",
    "\n",
    "**否则**，请按照以下步骤操作：\n",
    "\n",
    "在Cloud控制台中，转到[创建服务帐号密钥](https://console.cloud.google.com/apis/credentials/serviceaccountkey)页面。\n",
    "\n",
    "点击**创建服务帐号**。\n",
    "\n",
    "在**服务帐号名称**字段中输入一个名称，然后点击**创建**。\n",
    "\n",
    "在**授予此服务帐号访问项目**部分，点击角色下拉列表。在过滤框中输入\"Vertex\"，然后选择**Vertex管理员**。在过滤框中输入\"Storage Object Admin\"，然后选择**存储对象管理员**。\n",
    "\n",
    "点击创建。包含您的密钥的JSON文件将下载到您的本地环境中。\n",
    "\n",
    "在下面的单元格中将您的服务帐号密钥路径输入为GOOGLE_APPLICATION_CREDENTIALS变量，并运行单元格。"
   ]
  },
  {
   "cell_type": "code",
   "execution_count": null,
   "metadata": {
    "id": "gcp_authenticate"
   },
   "outputs": [],
   "source": [
    "# If you are running this notebook in Colab, run this cell and follow the\n",
    "# instructions to authenticate your GCP account. This provides access to your\n",
    "# Cloud Storage bucket and lets you submit training jobs and prediction\n",
    "# requests.\n",
    "\n",
    "# If on Google Cloud Notebook, then don't execute this code\n",
    "if not os.path.exists(\"/opt/deeplearning/metadata/env_version\"):\n",
    "    if \"google.colab\" in sys.modules:\n",
    "        from google.colab import auth as google_auth\n",
    "\n",
    "        google_auth.authenticate_user()\n",
    "\n",
    "    # If you are running this notebook locally, replace the string below with the\n",
    "    # path to your service account key and run this cell to authenticate your GCP\n",
    "    # account.\n",
    "    elif not os.getenv(\"IS_TESTING\"):\n",
    "        %env GOOGLE_APPLICATION_CREDENTIALS ''"
   ]
  },
  {
   "cell_type": "markdown",
   "metadata": {
    "id": "setup_vars"
   },
   "source": [
    "### 设置变量\n",
    "\n",
    "接下来，设置一些在教程中使用的变量。\n",
    "### 导入库并定义常量"
   ]
  },
  {
   "cell_type": "markdown",
   "metadata": {
    "id": "import_aip:protobuf"
   },
   "source": [
    "导入Vertex客户端库\n",
    "\n",
    "将Vertex客户端库导入到我们的Python环境中。"
   ]
  },
  {
   "cell_type": "code",
   "execution_count": null,
   "metadata": {
    "id": "import_aip:protobuf"
   },
   "outputs": [],
   "source": [
    "import time\n",
    "\n",
    "from google.cloud.aiplatform import gapic as aip\n",
    "from google.protobuf import json_format\n",
    "from google.protobuf.json_format import MessageToJson, ParseDict\n",
    "from google.protobuf.struct_pb2 import Struct, Value"
   ]
  },
  {
   "cell_type": "markdown",
   "metadata": {
    "id": "aip_constants"
   },
   "source": [
    "顶点常量\n",
    "\n",
    "为顶点设置以下常量：\n",
    "\n",
    "- `API_ENDPOINT`：用于数据集、模型、作业、流水线和端点服务的顶点API服务终端点。\n",
    "- `PARENT`：数据集、模型、作业、流水线和端点资源的顶点位置根路径。"
   ]
  },
  {
   "cell_type": "code",
   "execution_count": null,
   "metadata": {
    "id": "aip_constants"
   },
   "outputs": [],
   "source": [
    "# API service endpoint\n",
    "API_ENDPOINT = \"{}-aiplatform.googleapis.com\".format(REGION)\n",
    "\n",
    "# Vertex location root path for your dataset, model and endpoint resources\n",
    "PARENT = \"projects/\" + PROJECT_ID + \"/locations/\" + REGION"
   ]
  },
  {
   "cell_type": "markdown",
   "metadata": {
    "id": "automl_constants"
   },
   "source": [
    "#### AutoML常量\n",
    "\n",
    "设定专属于AutoML数据集和训练的常量：\n",
    "\n",
    "- 数据集模式：告诉`数据集`资源服务数据集的类型是什么。\n",
    "- 数据标记（注释）模式：告诉`数据集`资源服务数据是如何标记的。\n",
    "- 数据集训练模式：告诉`管道`资源服务要为哪个任务（例如分类）训练模型。"
   ]
  },
  {
   "cell_type": "code",
   "execution_count": null,
   "metadata": {
    "id": "automl_constants:tst"
   },
   "outputs": [],
   "source": [
    "# Text Dataset type\n",
    "DATA_SCHEMA = \"gs://google-cloud-aiplatform/schema/dataset/metadata/text_1.0.0.yaml\"\n",
    "# Text Labeling type\n",
    "LABEL_SCHEMA = \"gs://google-cloud-aiplatform/schema/dataset/ioformat/text_sentiment_io_format_1.0.0.yaml\"\n",
    "# Text Training task\n",
    "TRAINING_SCHEMA = \"gs://google-cloud-aiplatform/schema/trainingjob/definition/automl_text_sentiment_1.0.0.yaml\""
   ]
  },
  {
   "cell_type": "markdown",
   "metadata": {
    "id": "tutorial_start:automl"
   },
   "source": [
    "教程\n",
    "\n",
    "现在您已经准备好开始创建自己的AutoML文本情感分析模型。"
   ]
  },
  {
   "cell_type": "markdown",
   "metadata": {
    "id": "clients:automl,online_prediction"
   },
   "source": [
    "## 设置客户端\n",
    "\n",
    "Vertex客户端库以客户端/服务器模型工作。在您的一边（Python脚本），您将创建一个客户端，向Vertex服务器发送请求并接收响应。\n",
    "\n",
    "在本教程中，您将为工作流中的不同步骤使用不同的客户端。因此，请提前设置它们。\n",
    "\n",
    "- 用于“数据集（Dataset）”资源的数据集服务。\n",
    "- 用于“模型（Model）”资源的模型服务。\n",
    "- 用于训练的管道服务。\n",
    "- 用于部署的端点服务。\n",
    "- 用于提供服务的预测服务。"
   ]
  },
  {
   "cell_type": "code",
   "execution_count": null,
   "metadata": {
    "id": "clients:automl,online_prediction"
   },
   "outputs": [],
   "source": [
    "# client options same for all services\n",
    "client_options = {\"api_endpoint\": API_ENDPOINT}\n",
    "\n",
    "\n",
    "def create_dataset_client():\n",
    "    client = aip.DatasetServiceClient(client_options=client_options)\n",
    "    return client\n",
    "\n",
    "\n",
    "def create_model_client():\n",
    "    client = aip.ModelServiceClient(client_options=client_options)\n",
    "    return client\n",
    "\n",
    "\n",
    "def create_pipeline_client():\n",
    "    client = aip.PipelineServiceClient(client_options=client_options)\n",
    "    return client\n",
    "\n",
    "\n",
    "def create_endpoint_client():\n",
    "    client = aip.EndpointServiceClient(client_options=client_options)\n",
    "    return client\n",
    "\n",
    "\n",
    "def create_prediction_client():\n",
    "    client = aip.PredictionServiceClient(client_options=client_options)\n",
    "    return client\n",
    "\n",
    "\n",
    "clients = {}\n",
    "clients[\"dataset\"] = create_dataset_client()\n",
    "clients[\"model\"] = create_model_client()\n",
    "clients[\"pipeline\"] = create_pipeline_client()\n",
    "clients[\"endpoint\"] = create_endpoint_client()\n",
    "clients[\"prediction\"] = create_prediction_client()\n",
    "\n",
    "for client in clients.items():\n",
    "    print(client)"
   ]
  },
  {
   "cell_type": "markdown",
   "metadata": {
    "id": "create_aip_dataset"
   },
   "source": [
    "## 数据集\n",
    "\n",
    "现在您的客户准备就绪，在训练模型的第一步是创建一个托管的数据集实例，然后将您的标记数据上传到其中。\n",
    "\n",
    "### 创建`Dataset`资源实例\n",
    "\n",
    "使用辅助函数`create_dataset`来创建`Dataset`资源的实例。此函数执行以下操作：\n",
    "\n",
    "1. 使用数据集客户端服务。\n",
    "2. 创建一个Vertex `Dataset`资源（`aip.Dataset`），包括以下参数：\n",
    "   - `display_name`：您选择的可读名称。\n",
    "   - `metadata_schema_uri`：数据集类型的模式。\n",
    "3. 调用客户端数据集服务方法`create_dataset`，包括以下参数：\n",
    "   - `parent`：您的`Database`、`Model`和`Endpoint`资源的Vertex位置根路径。\n",
    "   - `dataset`：您创建的Vertex数据集对象实例。\n",
    "4. 该方法返回一个`operation`对象。\n",
    "\n",
    "`operation`对象是Vertex处理长时间运行操作的异步调用方式。虽然这一步通常很快，但在项目中首次使用时，可能会由于供应而有较长延迟。\n",
    "\n",
    "您可以使用`operation`对象来获取操作（例如创建`Dataset`资源）的状态，或者取消操作，通过调用操作方法：\n",
    "\n",
    "| 方法        | 描述                   |\n",
    "| ----------- | -------------------- |\n",
    "| result()    | 等待操作完成并以JSON格式返回结果对象。 |\n",
    "| running()   | 返回操作是否仍在运行的True/False值。       |\n",
    "| done()      | 返回操作是否已完成的True/False值。    |\n",
    "| canceled()  | 返回操作是否已取消的True/False值。    |\n",
    "| cancel()    | 取消操作（可能需要最多30秒）。   |"
   ]
  },
  {
   "cell_type": "code",
   "execution_count": null,
   "metadata": {
    "id": "create_aip_dataset"
   },
   "outputs": [],
   "source": [
    "TIMEOUT = 90\n",
    "\n",
    "\n",
    "def create_dataset(name, schema, labels=None, timeout=TIMEOUT):\n",
    "    start_time = time.time()\n",
    "    try:\n",
    "        dataset = aip.Dataset(\n",
    "            display_name=name, metadata_schema_uri=schema, labels=labels\n",
    "        )\n",
    "\n",
    "        operation = clients[\"dataset\"].create_dataset(parent=PARENT, dataset=dataset)\n",
    "        print(\"Long running operation:\", operation.operation.name)\n",
    "        result = operation.result(timeout=TIMEOUT)\n",
    "        print(\"time:\", time.time() - start_time)\n",
    "        print(\"response\")\n",
    "        print(\" name:\", result.name)\n",
    "        print(\" display_name:\", result.display_name)\n",
    "        print(\" metadata_schema_uri:\", result.metadata_schema_uri)\n",
    "        print(\" metadata:\", dict(result.metadata))\n",
    "        print(\" create_time:\", result.create_time)\n",
    "        print(\" update_time:\", result.update_time)\n",
    "        print(\" etag:\", result.etag)\n",
    "        print(\" labels:\", dict(result.labels))\n",
    "        return result\n",
    "    except Exception as e:\n",
    "        print(\"exception:\", e)\n",
    "        return None\n",
    "\n",
    "\n",
    "result = create_dataset(\"claritin-\" + TIMESTAMP, DATA_SCHEMA)"
   ]
  },
  {
   "cell_type": "markdown",
   "metadata": {
    "id": "dataset_id:result"
   },
   "source": [
    "现在保存您创建的“Dataset”资源实例的唯一数据集标识符。"
   ]
  },
  {
   "cell_type": "code",
   "execution_count": null,
   "metadata": {
    "id": "dataset_id:result"
   },
   "outputs": [],
   "source": [
    "# The full unique ID for the dataset\n",
    "dataset_id = result.name\n",
    "# The short numeric ID for the dataset\n",
    "dataset_short_id = dataset_id.split(\"/\")[-1]\n",
    "\n",
    "print(dataset_id)"
   ]
  },
  {
   "cell_type": "markdown",
   "metadata": {
    "id": "data_preparation:text,u_dataset"
   },
   "source": [
    "### 数据准备\n",
    "\n",
    "对于文本，Vertex `Dataset` 资源有一些对您的文本数据的要求。\n",
    "\n",
    "- 文本示例必须存储在 CSV 或 JSONL 文件中。"
   ]
  },
  {
   "cell_type": "markdown",
   "metadata": {
    "id": "data_import_format:tst,u_dataset,csv"
   },
   "source": [
    "#### CSV\n",
    "\n",
    "对于文本情感分析，CSV文件有一些要求：\n",
    "\n",
    "- 无标题。\n",
    "- 第一列是文本示例或云存储路径到文本文件。\n",
    "- 第二列是标签（即情感）。\n",
    "- 第三列是最大情感值。例如，如果范围是0到3，则最大值为3。"
   ]
  },
  {
   "cell_type": "markdown",
   "metadata": {
    "id": "import_file:u_dataset,csv"
   },
   "source": [
    "云存储训练数据的位置。\n",
    "\n",
    "现在将变量`IMPORT_FILE`设置为在云存储中CSV索引文件的位置。"
   ]
  },
  {
   "cell_type": "code",
   "execution_count": null,
   "metadata": {
    "id": "import_file:claritin,csv,tst"
   },
   "outputs": [],
   "source": [
    "IMPORT_FILE = \"gs://cloud-samples-data/language/claritin.csv\"\n",
    "SENTIMENT_MAX = 4"
   ]
  },
  {
   "cell_type": "markdown",
   "metadata": {
    "id": "quick_peek:csv"
   },
   "source": [
    "快速查看您的数据\n",
    "\n",
    "您将使用存储在公共云存储桶中的Crowdflower Claritin-Twitter数据集的一个版本，使用CSV索引文件。\n",
    "\n",
    "首先快速查看数据。您可以通过计算CSV索引文件中的行数（`wc -l`）来计算示例的数量，然后查看前几行。"
   ]
  },
  {
   "cell_type": "code",
   "execution_count": null,
   "metadata": {
    "id": "quick_peek:csv"
   },
   "outputs": [],
   "source": [
    "if \"IMPORT_FILES\" in globals():\n",
    "    FILE = IMPORT_FILES[0]\n",
    "else:\n",
    "    FILE = IMPORT_FILE\n",
    "\n",
    "count = ! gsutil cat $FILE | wc -l\n",
    "print(\"Number of Examples\", int(count[0]))\n",
    "\n",
    "print(\"First 10 rows\")\n",
    "! gsutil cat $FILE | head"
   ]
  },
  {
   "cell_type": "markdown",
   "metadata": {
    "id": "import_data"
   },
   "source": [
    "### 导入数据\n",
    "\n",
    "现在，将数据导入到您的Vertex Dataset资源中。使用这个助手函数`import_data`来导入数据。该函数执行以下操作：\n",
    "\n",
    "- 使用`Dataset`客户端。\n",
    "- 调用客户端方法`import_data`，并传递以下参数：\n",
    " - `name`：您为`Dataset`资源指定的可读名称（例如，claritin）。\n",
    " - `import_configs`：导入配置。\n",
    "\n",
    "- `import_configs`：包含字典的Python列表，具有键/值条目如下：\n",
    " - `gcs_sources`：一个包含一个或多个索引文件路径的URI列表。\n",
    " - `import_schema_uri`：标识标签类型的架构。\n",
    "\n",
    "`import_data()`方法返回一个长时间运行的`operation`对象。这将需要几分钟才能完成。如果您在一个现场教程中，现在是一个问问题或休息的好时机。"
   ]
  },
  {
   "cell_type": "code",
   "execution_count": null,
   "metadata": {
    "id": "import_data"
   },
   "outputs": [],
   "source": [
    "def import_data(dataset, gcs_sources, schema):\n",
    "    config = [{\"gcs_source\": {\"uris\": gcs_sources}, \"import_schema_uri\": schema}]\n",
    "    print(\"dataset:\", dataset_id)\n",
    "    start_time = time.time()\n",
    "    try:\n",
    "        operation = clients[\"dataset\"].import_data(\n",
    "            name=dataset_id, import_configs=config\n",
    "        )\n",
    "        print(\"Long running operation:\", operation.operation.name)\n",
    "\n",
    "        result = operation.result()\n",
    "        print(\"result:\", result)\n",
    "        print(\"time:\", int(time.time() - start_time), \"secs\")\n",
    "        print(\"error:\", operation.exception())\n",
    "        print(\"meta :\", operation.metadata)\n",
    "        print(\n",
    "            \"after: running:\",\n",
    "            operation.running(),\n",
    "            \"done:\",\n",
    "            operation.done(),\n",
    "            \"cancelled:\",\n",
    "            operation.cancelled(),\n",
    "        )\n",
    "\n",
    "        return operation\n",
    "    except Exception as e:\n",
    "        print(\"exception:\", e)\n",
    "        return None\n",
    "\n",
    "\n",
    "import_data(dataset_id, [IMPORT_FILE], LABEL_SCHEMA)"
   ]
  },
  {
   "cell_type": "markdown",
   "metadata": {
    "id": "train_automl_model"
   },
   "source": [
    "## 训练模型\n",
    "\n",
    "现在，使用您的 Vertex `Dataset` 资源训练一个 AutoML 文本情感分析模型。要训练模型，请执行以下步骤：\n",
    "\n",
    "1. 为 `Dataset` 资源创建一个 Vertex 训练管道。\n",
    "2. 执行管道以开始训练。"
   ]
  },
  {
   "cell_type": "markdown",
   "metadata": {
    "id": "create_pipeline:automl"
   },
   "source": [
    "### 创建一个训练流水线\n",
    "\n",
    "您可能会问，我们用流水线做什么？通常在工作（如训练）有多个步骤时，我们会按照顺序使用流水线：执行步骤A，执行步骤B等等。通过将这些步骤放入流水线中，我们可以获得以下好处：\n",
    "\n",
    "1.可重用于后续训练工作。\n",
    "2.可以容器化并作为批处理作业运行。\n",
    "3.可以进行分布式处理。\n",
    "4.所有步骤都与相同的流水线作业相关联，用于跟踪进展。\n",
    "\n",
    "使用这个辅助函数 `create_pipeline`，该函数接受以下参数：\n",
    "\n",
    "- `pipeline_name`：用于流水线作业的人类可读名称。\n",
    "- `model_name`：模型的人类可读名称。\n",
    "- `dataset`：Vertex 完全限定的数据集标识符。\n",
    "- `schema`：数据集标签（注释）训练模式。\n",
    "- `task`：描述训练作业要求的字典。\n",
    "\n",
    "该辅助函数调用 `Pipeline` 客户端服务的 `create_pipeline` 方法，该方法接受以下参数：\n",
    "\n",
    "- `parent`：`Dataset`、`Model` 和 `Endpoint` 资源的 Vertex 位置根路径。\n",
    "- `training_pipeline`：流水线训练作业的完整规范。\n",
    "\n",
    "现在让我们更深入地了解构建 `training_pipeline` 规范的*最低*要求：\n",
    "\n",
    "- `display_name`：用于流水线作业的人类可读名称。\n",
    "- `training_task_definition`：数据集标签（注释）训练模式。\n",
    "- `training_task_inputs`：描述训练作业要求的字典。\n",
    "- `model_to_upload`：模型的人类可读名称。\n",
    "- `input_data_config`：数据集规范。\n",
    " - `dataset_id`：仅限 Vertex 数据集标识符（非完全限定），这是完全限定标识符的最后部分。\n",
    " - `fraction_split`：如果指定，数据集用于训练、测试和验证的百分比。否则，百分比将由 AutoML 自动选择。"
   ]
  },
  {
   "cell_type": "code",
   "execution_count": null,
   "metadata": {
    "id": "create_pipeline:automl"
   },
   "outputs": [],
   "source": [
    "def create_pipeline(pipeline_name, model_name, dataset, schema, task):\n",
    "\n",
    "    dataset_id = dataset.split(\"/\")[-1]\n",
    "\n",
    "    input_config = {\n",
    "        \"dataset_id\": dataset_id,\n",
    "        \"fraction_split\": {\n",
    "            \"training_fraction\": 0.8,\n",
    "            \"validation_fraction\": 0.1,\n",
    "            \"test_fraction\": 0.1,\n",
    "        },\n",
    "    }\n",
    "\n",
    "    training_pipeline = {\n",
    "        \"display_name\": pipeline_name,\n",
    "        \"training_task_definition\": schema,\n",
    "        \"training_task_inputs\": task,\n",
    "        \"input_data_config\": input_config,\n",
    "        \"model_to_upload\": {\"display_name\": model_name},\n",
    "    }\n",
    "\n",
    "    try:\n",
    "        pipeline = clients[\"pipeline\"].create_training_pipeline(\n",
    "            parent=PARENT, training_pipeline=training_pipeline\n",
    "        )\n",
    "        print(pipeline)\n",
    "    except Exception as e:\n",
    "        print(\"exception:\", e)\n",
    "        return None\n",
    "    return pipeline"
   ]
  },
  {
   "cell_type": "markdown",
   "metadata": {
    "id": "task_requirements:automl,tst"
   },
   "source": [
    "### 构建任务要求\n",
    "\n",
    "接下来，构建任务要求。与需要传入 Python（类似 JSON 格式）字典的其他参数不同，`task` 字段需要传入 Google protobuf Struct，它与 Python 字典非常相似。使用 `json_format.ParseDict` 方法进行转换。\n",
    "\n",
    "我们需要指定的最小字段是：\n",
    "\n",
    "- `sentiment_max`：情感的最大值（例如，4）。\n",
    "\n",
    "最后，通过调用帮助函数 `create_pipeline` 来创建流水线，该函数将返回一个训练流水线对象的实例。"
   ]
  },
  {
   "cell_type": "code",
   "execution_count": null,
   "metadata": {
    "id": "task_requirements:automl,tst"
   },
   "outputs": [],
   "source": [
    "PIPE_NAME = \"claritin_pipe-\" + TIMESTAMP\n",
    "MODEL_NAME = \"claritin_model-\" + TIMESTAMP\n",
    "\n",
    "task = json_format.ParseDict(\n",
    "    {\n",
    "        \"sentiment_max\": SENTIMENT_MAX,\n",
    "    },\n",
    "    Value(),\n",
    ")\n",
    "\n",
    "response = create_pipeline(PIPE_NAME, MODEL_NAME, dataset_id, TRAINING_SCHEMA, task)"
   ]
  },
  {
   "cell_type": "markdown",
   "metadata": {
    "id": "pipeline_id:response"
   },
   "source": [
    "现在保存您创建的培训管道的唯一标识符。"
   ]
  },
  {
   "cell_type": "code",
   "execution_count": null,
   "metadata": {
    "id": "pipeline_id:response"
   },
   "outputs": [],
   "source": [
    "# The full unique ID for the pipeline\n",
    "pipeline_id = response.name\n",
    "# The short numeric ID for the pipeline\n",
    "pipeline_short_id = pipeline_id.split(\"/\")[-1]\n",
    "\n",
    "print(pipeline_id)"
   ]
  },
  {
   "cell_type": "markdown",
   "metadata": {
    "id": "get_training_pipeline"
   },
   "source": [
    "### 获取有关培训管道的信息\n",
    "\n",
    "现在只获取此培训管道实例的管道信息。通过调用作业客户端服务的`get_training_pipeline`方法，使用以下参数，辅助函数会获取该作业的信息：\n",
    "\n",
    "- `name`：Vertex 完全合格的管道标识符。\n",
    "\n",
    "当模型训练完成时，管道状态将为`PIPELINE_STATE_SUCCEEDED`。"
   ]
  },
  {
   "cell_type": "code",
   "execution_count": null,
   "metadata": {
    "id": "get_training_pipeline"
   },
   "outputs": [],
   "source": [
    "def get_training_pipeline(name, silent=False):\n",
    "    response = clients[\"pipeline\"].get_training_pipeline(name=name)\n",
    "    if silent:\n",
    "        return response\n",
    "\n",
    "    print(\"pipeline\")\n",
    "    print(\" name:\", response.name)\n",
    "    print(\" display_name:\", response.display_name)\n",
    "    print(\" state:\", response.state)\n",
    "    print(\" training_task_definition:\", response.training_task_definition)\n",
    "    print(\" training_task_inputs:\", dict(response.training_task_inputs))\n",
    "    print(\" create_time:\", response.create_time)\n",
    "    print(\" start_time:\", response.start_time)\n",
    "    print(\" end_time:\", response.end_time)\n",
    "    print(\" update_time:\", response.update_time)\n",
    "    print(\" labels:\", dict(response.labels))\n",
    "    return response\n",
    "\n",
    "\n",
    "response = get_training_pipeline(pipeline_id)"
   ]
  },
  {
   "cell_type": "markdown",
   "metadata": {
    "id": "wait_training_complete"
   },
   "source": [
    "部署\n",
    "\n",
    "培训上述模型可能需要多达180分钟的时间。\n",
    "\n",
    "一旦您的模型培训完成，您可以通过将`end_time`减去`start_time`来计算训练模型所花费的实际时间。对于您的模型，您需要知道完全限定的Vertex模型资源标识符，即管道服务为其分配的。您可以从返回的管道实例中获取此信息，字段为`model_to_deploy.name`。"
   ]
  },
  {
   "cell_type": "code",
   "execution_count": null,
   "metadata": {
    "id": "wait_training_complete"
   },
   "outputs": [],
   "source": [
    "while True:\n",
    "    response = get_training_pipeline(pipeline_id, True)\n",
    "    if response.state != aip.PipelineState.PIPELINE_STATE_SUCCEEDED:\n",
    "        print(\"Training job has not completed:\", response.state)\n",
    "        model_to_deploy_id = None\n",
    "        if response.state == aip.PipelineState.PIPELINE_STATE_FAILED:\n",
    "            raise Exception(\"Training Job Failed\")\n",
    "    else:\n",
    "        model_to_deploy = response.model_to_upload\n",
    "        model_to_deploy_id = model_to_deploy.name\n",
    "        print(\"Training Time:\", response.end_time - response.start_time)\n",
    "        break\n",
    "    time.sleep(60)\n",
    "\n",
    "print(\"model to deploy:\", model_to_deploy_id)"
   ]
  },
  {
   "cell_type": "markdown",
   "metadata": {
    "id": "model_information"
   },
   "source": [
    "模型信息\n",
    "\n",
    "现在您的模型已经训练完成，您可以获取一些关于您的模型的信息。"
   ]
  },
  {
   "cell_type": "markdown",
   "metadata": {
    "id": "evaluate_the_model:automl"
   },
   "source": [
    "评估模型资源\n",
    "\n",
    "现在找出模型服务认为你的模型有多好。作为训练的一部分，数据集的一部分被设置为测试（留出）数据，管线服务使用该数据来评估模型。"
   ]
  },
  {
   "cell_type": "markdown",
   "metadata": {
    "id": "list_model_evaluations:automl,tst"
   },
   "source": [
    "### 列出所有切片的评估\n",
    "\n",
    "请使用此辅助函数 `list_model_evaluations`，该函数接受以下参数：\n",
    "\n",
    "- `name`：`Model` 资源的 Vertex 完全限定模型标识符。\n",
    "\n",
    "此辅助函数使用模型客户端服务的 `list_model_evaluations` 方法，该方法接受相同的参数。调用的响应对象是一个列表，其中每个元素都是一个评估指标。\n",
    "\n",
    "对于每个评估 -- 您可能只有一个，然后我们打印出每个指标的所有键名称，并且对于一个小的集合（`meanAbsoluteError` 和 `precision`），您将打印出结果。"
   ]
  },
  {
   "cell_type": "code",
   "execution_count": null,
   "metadata": {
    "id": "list_model_evaluations:automl,tst"
   },
   "outputs": [],
   "source": [
    "def list_model_evaluations(name):\n",
    "    response = clients[\"model\"].list_model_evaluations(parent=name)\n",
    "    for evaluation in response:\n",
    "        print(\"model_evaluation\")\n",
    "        print(\" name:\", evaluation.name)\n",
    "        print(\" metrics_schema_uri:\", evaluation.metrics_schema_uri)\n",
    "        metrics = json_format.MessageToDict(evaluation._pb.metrics)\n",
    "        for metric in metrics.keys():\n",
    "            print(metric)\n",
    "        print(\"meanAbsoluteError\", metrics[\"meanAbsoluteError\"])\n",
    "        print(\"precision\", metrics[\"precision\"])\n",
    "\n",
    "    return evaluation.name\n",
    "\n",
    "\n",
    "last_evaluation = list_model_evaluations(model_to_deploy_id)"
   ]
  },
  {
   "cell_type": "markdown",
   "metadata": {
    "id": "create_endpoint:automl"
   },
   "source": [
    "## 部署`Model`资源\n",
    "\n",
    "现在部署您使用AutoML创建的已训练的Vertex`Model`资源。这需要两个步骤：\n",
    "\n",
    "1. 为部署`Model`资源创建一个`Endpoint`资源。\n",
    "\n",
    "2. 将`Model`资源部署到`Endpoint`资源。"
   ]
  },
  {
   "cell_type": "markdown",
   "metadata": {
    "id": "create_endpoint"
   },
   "source": [
    "### 创建一个 `Endpoint` 资源\n",
    "\n",
    "使用这个辅助函数 `create_endpoint` 来创建一个端点，用于部署模型以进行预测服务，需要以下参数：\n",
    "\n",
    "- `display_name`: 为 `Endpoint` 资源提供一个易读的名称。\n",
    "\n",
    "这个辅助函数使用了端点客户端服务的 `create_endpoint` 方法，该方法接受以下参数：\n",
    "\n",
    "- `display_name`: 为 `Endpoint` 资源提供一个易读的名称。\n",
    "\n",
    "创建一个 `Endpoint` 资源会返回一个长时间运行的操作，因为需要一些时间来为提供服务的 `Endpoint` 资源进行设置。您可以调用 `response.result()`，这是一个同步调用，当 Endpoint 资源准备好时会返回结果。该辅助函数返回了 `Endpoint` 资源的 Vertex 完全限定标识符：`response.name`。"
   ]
  },
  {
   "cell_type": "code",
   "execution_count": null,
   "metadata": {
    "id": "create_endpoint"
   },
   "outputs": [],
   "source": [
    "ENDPOINT_NAME = \"claritin_endpoint-\" + TIMESTAMP\n",
    "\n",
    "\n",
    "def create_endpoint(display_name):\n",
    "    endpoint = {\"display_name\": display_name}\n",
    "    response = clients[\"endpoint\"].create_endpoint(parent=PARENT, endpoint=endpoint)\n",
    "    print(\"Long running operation:\", response.operation.name)\n",
    "\n",
    "    result = response.result(timeout=300)\n",
    "    print(\"result\")\n",
    "    print(\" name:\", result.name)\n",
    "    print(\" display_name:\", result.display_name)\n",
    "    print(\" description:\", result.description)\n",
    "    print(\" labels:\", result.labels)\n",
    "    print(\" create_time:\", result.create_time)\n",
    "    print(\" update_time:\", result.update_time)\n",
    "    return result\n",
    "\n",
    "\n",
    "result = create_endpoint(ENDPOINT_NAME)"
   ]
  },
  {
   "cell_type": "markdown",
   "metadata": {
    "id": "endpoint_id:result"
   },
   "source": [
    "现在获取您创建的 “Endpoint” 资源的唯一标识符。"
   ]
  },
  {
   "cell_type": "code",
   "execution_count": null,
   "metadata": {
    "id": "endpoint_id:result"
   },
   "outputs": [],
   "source": [
    "# The full unique ID for the endpoint\n",
    "endpoint_id = result.name\n",
    "# The short numeric ID for the endpoint\n",
    "endpoint_short_id = endpoint_id.split(\"/\")[-1]\n",
    "\n",
    "print(endpoint_id)"
   ]
  },
  {
   "cell_type": "markdown",
   "metadata": {
    "id": "instance_scaling"
   },
   "source": [
    "### 计算实例扩展\n",
    "\n",
    "处理您的在线预测请求时，您有几种计算实例扩展的选择：\n",
    "\n",
    "- 单个实例：在线预测请求在单个计算实例上进行处理。\n",
    "  - 将计算实例的最小（`MIN_NODES`）和最大（`MAX_NODES`）数量设置为一。\n",
    "\n",
    "- 手动扩展：在线预测请求分配到您手动指定的固定数量的计算实例上。\n",
    "  - 将计算实例的最小（`MIN_NODES`）和最大（`MAX_NODES`）数量设置为相同数量的节点。当模型首次部署到实例上时，固定数量的计算实例将被预配，并且在线预测请求将均匀分布在它们之间。\n",
    "\n",
    "- 自动扩展：在线预测请求分配到可扩展数量的计算实例上。\n",
    "  - 将计算实例的最小（`MIN_NODES`）数量设置为模型首次部署时需预配和取消预配的实例数，并根据负载情况将计算实例的最大（`MAX_NODES`）数量设置为需预配的实例数。\n",
    "\n",
    "计算实例的最小数量对应于字段`min_replica_count`，最大数量对应于字段`max_replica_count`，在您随后的部署请求中。"
   ]
  },
  {
   "cell_type": "code",
   "execution_count": null,
   "metadata": {
    "id": "instance_scaling"
   },
   "outputs": [],
   "source": [
    "MIN_NODES = 1\n",
    "MAX_NODES = 1"
   ]
  },
  {
   "cell_type": "markdown",
   "metadata": {
    "id": "deploy_model:automatic"
   },
   "source": [
    "### 将`Model`资源部署到`Endpoint`资源\n",
    "\n",
    "使用这个帮助函数`deploy_model`来将您为提供预测创建的`Model`资源部署到`Endpoint`资源，具有以下参数：\n",
    "\n",
    "- `model`：要从训练管道上传（部署）的模型的 Vertex 完全合格的模型标识符。\n",
    "- `deploy_model_display_name`：部署模型的人类可读名称。\n",
    "- `endpoint`：要将模型部署到的 Vertex 完全合格的端点标识符。\n",
    "\n",
    "该帮助函数调用`Endpoint`客户端服务的方法`deploy_model`，它接受以下参数：\n",
    "\n",
    "- `endpoint`：要将`Model`资源部署到的 Vertex 完全合格的`Endpoint`资源标识符。\n",
    "- `deployed_model`：部署模型的要求规范。\n",
    "- `traffic_split`：在端点上流量的百分比，指定为一个或多个键/值对的字典。\n",
    "   - 如果只有一个模型，则指定为**{\"0\": 100}**，其中\"0\"表示正在上传的模型，100表示100%的流量。\n",
    "   - 如果端点上已有现有模型，流量将被分拆给它们，使用`model_id`来指定为**{\"0\": 百分比，model_id: 百分比，...}**，其中`model_id`是要部署到的端点的现有模型的模型标识。百分比必须总和为100。\n",
    "\n",
    "现在让我们更深入地了解`deployed_model`参数。该参数被指定为一个Python字典，具有最小所需字段：\n",
    "\n",
    "- `model`：要部署的（上传）模型的 Vertex 完全合格的模型标识符。\n",
    "- `display_name`：部署模型的人类可读名称。\n",
    "- `disable_container_logging`：这会禁用容器事件的记录，例如执行失败（默认为启用容器日志记录）。通常在调试部署时启用容器日志记录，然后在部署到生产环境时禁用。\n",
    "- `automatic_resources`：这指的是多少个冗余计算实例（副本）。在这个示例中，我们将其设置为一个（不复制）。\n",
    "\n",
    "#### 流量分流\n",
    "\n",
    "现在让我们更深入地了解`traffic_split`参数。该参数被指定为一个Python字典。一开始可能有点令人困惑。让我解释一下，您可以部署您的模型的多个实例到一个端点，然后设置每个实例所占的比例（百分比）。\n",
    "\n",
    "为什么要这样做？也许您已经在生产中部署了一个先前版本 -- 让我们称之为 v1。您在 v2 上获得了更好的模型评估，但在部署到生产环境之前并不确定它真的更好。因此，在流量分流的情况下，您可能希望将 v2 部署到与 v1 相同的端点，但它只占到比如10%的流量。这样，您可以在不干扰大多数用户的情况下监控其表现，直到做出最终决定。\n",
    "\n",
    "#### 响应\n",
    "\n",
    "该方法返回一个长期运行的操作`response`。我们将通过调用`response.result()`同步等待操作完成，这将阻塞直到模型部署完成。如果这是第一次将模型部署到端点，可能需要额外几分钟来完成资源的规划。"
   ]
  },
  {
   "cell_type": "code",
   "execution_count": null,
   "metadata": {
    "id": "deploy_model:automatic"
   },
   "outputs": [],
   "source": [
    "DEPLOYED_NAME = \"claritin_deployed-\" + TIMESTAMP\n",
    "\n",
    "\n",
    "def deploy_model(\n",
    "    model, deployed_model_display_name, endpoint, traffic_split={\"0\": 100}\n",
    "):\n",
    "\n",
    "    deployed_model = {\n",
    "        \"model\": model,\n",
    "        \"display_name\": deployed_model_display_name,\n",
    "        \"automatic_resources\": {\n",
    "            \"min_replica_count\": MIN_NODES,\n",
    "            \"max_replica_count\": MAX_NODES,\n",
    "        },\n",
    "    }\n",
    "\n",
    "    response = clients[\"endpoint\"].deploy_model(\n",
    "        endpoint=endpoint, deployed_model=deployed_model, traffic_split=traffic_split\n",
    "    )\n",
    "\n",
    "    print(\"Long running operation:\", response.operation.name)\n",
    "    result = response.result()\n",
    "    print(\"result\")\n",
    "    deployed_model = result.deployed_model\n",
    "    print(\" deployed_model\")\n",
    "    print(\"  id:\", deployed_model.id)\n",
    "    print(\"  model:\", deployed_model.model)\n",
    "    print(\"  display_name:\", deployed_model.display_name)\n",
    "    print(\"  create_time:\", deployed_model.create_time)\n",
    "\n",
    "    return deployed_model.id\n",
    "\n",
    "\n",
    "deployed_model_id = deploy_model(model_to_deploy_id, DEPLOYED_NAME, endpoint_id)"
   ]
  },
  {
   "cell_type": "markdown",
   "metadata": {
    "id": "make_prediction"
   },
   "source": [
    "## 进行在线预测请求\n",
    "\n",
    "现在对您部署的模型进行在线预测。"
   ]
  },
  {
   "cell_type": "markdown",
   "metadata": {
    "id": "get_test_item"
   },
   "source": [
    "获取测试项目\n",
    "\n",
    "您将从数据集中选择一个任意的示例作为测试项目。不必担心该示例很可能在训练模型时被使用过 — 我们只是想演示如何进行预测。"
   ]
  },
  {
   "cell_type": "code",
   "execution_count": null,
   "metadata": {
    "id": "get_test_item:automl,tst,csv"
   },
   "outputs": [],
   "source": [
    "test_item = ! gsutil cat $IMPORT_FILE | head -n1\n",
    "if len(test_item[0]) == 3:\n",
    "    _, test_item, test_label, max = str(test_item[0]).split(\",\")\n",
    "else:\n",
    "    test_item, test_label, max = str(test_item[0]).split(\",\")\n",
    "\n",
    "print(test_item, test_label)"
   ]
  },
  {
   "cell_type": "markdown",
   "metadata": {
    "id": "predict_item:automl,tst"
   },
   "source": [
    "### 做出预测\n",
    "\n",
    "现在您有一个测试项目。使用这个辅助函数 `predict_item`，它接受以下参数：\n",
    "\n",
    "- `filename`：测试项目的云存储路径。\n",
    "- `endpoint`：`Model`资源部署的`Endpoint`资源的 Vertex 完全限定标识符。\n",
    "- `parameters_dict`：用于提供预测结果的附加过滤参数。\n",
    "\n",
    "此函数调用预测客户端服务的 `predict` 方法，其中包括以下参数：\n",
    "\n",
    "- `endpoint`：`Model`资源部署的`Endpoint`资源的 Vertex 完全限定标识符。\n",
    "- `instances`：要预测的实例（文本文件）的列表。\n",
    "- `parameters`：用于提供预测结果的附加过滤参数。*注意*，文本模型不支持额外的参数。\n",
    "\n",
    "#### 请求\n",
    "\n",
    "每个实例的格式如下：\n",
    "\n",
    "    { 'content': text_item }\n",
    "\n",
    "由于 `predict()` 方法可以接受多个项目（实例），您将您的单个测试项目发送为一个测试项目列表。最后一步，将实例列表打包成谷歌的 protobuf 格式 -- 这是您传递给 `predict()` 方法的内容。\n",
    "\n",
    "#### 响应\n",
    "\n",
    "`response` 对象返回一个列表，其中列表中的每个元素对应请求中的相应文本。您将在每次预测的输出中看到 -- 在我们的例子中只有一个：\n",
    "\n",
    "-情感评分"
   ]
  },
  {
   "cell_type": "code",
   "execution_count": null,
   "metadata": {
    "id": "predict_item:automl,tst"
   },
   "outputs": [],
   "source": [
    "def predict_item(data, endpoint, parameters_dict):\n",
    "\n",
    "    parameters = json_format.ParseDict(parameters_dict, Value())\n",
    "\n",
    "    # The format of each instance should conform to the deployed model's prediction input schema.\n",
    "    instances_list = [{\"content\": data}]\n",
    "    instances = [json_format.ParseDict(s, Value()) for s in instances_list]\n",
    "\n",
    "    response = clients[\"prediction\"].predict(\n",
    "        endpoint=endpoint, instances=instances, parameters=parameters\n",
    "    )\n",
    "    print(\"response\")\n",
    "    print(\" deployed_model_id:\", response.deployed_model_id)\n",
    "    predictions = response.predictions\n",
    "    print(\"predictions\")\n",
    "    for prediction in predictions:\n",
    "        print(\" prediction:\", dict(prediction))\n",
    "    return response\n",
    "\n",
    "\n",
    "response = predict_item(test_item, endpoint_id, None)"
   ]
  },
  {
   "cell_type": "markdown",
   "metadata": {
    "id": "undeploy_model"
   },
   "source": [
    "## 取消部署 `Model` 资源\n",
    "\n",
    "现在从提供服务的 `Endpoint` 资源中取消部署您的 `Model` 资源。使用这个辅助函数 `undeploy_model`，它接受以下参数：\n",
    "\n",
    "- `deployed_model_id`：当 `Model` 资源被部署到时，终端服务返回的模型部署标识符。\n",
    "- `endpoint`：`Model` 部署到的 `Endpoint` 资源的 Vertex 全限定标识符。\n",
    "\n",
    "该函数调用终端客户服务的 `undeploy_model` 方法，带有以下参数：\n",
    "\n",
    "- `deployed_model_id`：当 `Model` 资源被部署时，终端服务返回的模型部署标识符。\n",
    "- `endpoint`：`Model` 资源被部署到的 `Endpoint` 资源的 Vertex 全限定标识符。\n",
    "- `traffic_split`：如何在 `Endpoint` 资源上分配流量给其余部署的模型。\n",
    "\n",
    "由于这是 `Endpoint` 资源上唯一部署的模型，您可以通过将其设置为 {} 而将 `traffic_split` 留空。"
   ]
  },
  {
   "cell_type": "code",
   "execution_count": null,
   "metadata": {
    "id": "undeploy_model"
   },
   "outputs": [],
   "source": [
    "def undeploy_model(deployed_model_id, endpoint):\n",
    "    response = clients[\"endpoint\"].undeploy_model(\n",
    "        endpoint=endpoint, deployed_model_id=deployed_model_id, traffic_split={}\n",
    "    )\n",
    "    print(response)\n",
    "\n",
    "\n",
    "undeploy_model(deployed_model_id, endpoint_id)"
   ]
  },
  {
   "cell_type": "markdown",
   "metadata": {
    "id": "cleanup"
   },
   "source": [
    "清理\n",
    "\n",
    "要清理此项目中使用的所有GCP资源，您可以删除您用于教程的[GCP项目](https://cloud.google.com/resource-manager/docs/creating-managing-projects#shutting_down_projects)。\n",
    "\n",
    "否则，您可以删除本教程中创建的各个资源：\n",
    "\n",
    "- 数据集\n",
    "- 流水线\n",
    "- 模型\n",
    "- 端点\n",
    "- 批量作业\n",
    "- 定制作业\n",
    "- 超参数调整作业\n",
    "- 云存储存储桶"
   ]
  },
  {
   "cell_type": "code",
   "execution_count": null,
   "metadata": {
    "id": "cleanup"
   },
   "outputs": [],
   "source": [
    "delete_dataset = True\n",
    "delete_pipeline = True\n",
    "delete_model = True\n",
    "delete_endpoint = True\n",
    "delete_batchjob = True\n",
    "delete_customjob = True\n",
    "delete_hptjob = True\n",
    "delete_bucket = True\n",
    "\n",
    "# Delete the dataset using the Vertex fully qualified identifier for the dataset\n",
    "try:\n",
    "    if delete_dataset and \"dataset_id\" in globals():\n",
    "        clients[\"dataset\"].delete_dataset(name=dataset_id)\n",
    "except Exception as e:\n",
    "    print(e)\n",
    "\n",
    "# Delete the training pipeline using the Vertex fully qualified identifier for the pipeline\n",
    "try:\n",
    "    if delete_pipeline and \"pipeline_id\" in globals():\n",
    "        clients[\"pipeline\"].delete_training_pipeline(name=pipeline_id)\n",
    "except Exception as e:\n",
    "    print(e)\n",
    "\n",
    "# Delete the model using the Vertex fully qualified identifier for the model\n",
    "try:\n",
    "    if delete_model and \"model_to_deploy_id\" in globals():\n",
    "        clients[\"model\"].delete_model(name=model_to_deploy_id)\n",
    "except Exception as e:\n",
    "    print(e)\n",
    "\n",
    "# Delete the endpoint using the Vertex fully qualified identifier for the endpoint\n",
    "try:\n",
    "    if delete_endpoint and \"endpoint_id\" in globals():\n",
    "        clients[\"endpoint\"].delete_endpoint(name=endpoint_id)\n",
    "except Exception as e:\n",
    "    print(e)\n",
    "\n",
    "# Delete the batch job using the Vertex fully qualified identifier for the batch job\n",
    "try:\n",
    "    if delete_batchjob and \"batch_job_id\" in globals():\n",
    "        clients[\"job\"].delete_batch_prediction_job(name=batch_job_id)\n",
    "except Exception as e:\n",
    "    print(e)\n",
    "\n",
    "# Delete the custom job using the Vertex fully qualified identifier for the custom job\n",
    "try:\n",
    "    if delete_customjob and \"job_id\" in globals():\n",
    "        clients[\"job\"].delete_custom_job(name=job_id)\n",
    "except Exception as e:\n",
    "    print(e)\n",
    "\n",
    "# Delete the hyperparameter tuning job using the Vertex fully qualified identifier for the hyperparameter tuning job\n",
    "try:\n",
    "    if delete_hptjob and \"hpt_job_id\" in globals():\n",
    "        clients[\"job\"].delete_hyperparameter_tuning_job(name=hpt_job_id)\n",
    "except Exception as e:\n",
    "    print(e)\n",
    "\n",
    "if delete_bucket and \"BUCKET_NAME\" in globals():\n",
    "    ! gsutil rm -r $BUCKET_NAME"
   ]
  }
 ],
 "metadata": {
  "colab": {
   "name": "showcase_automl_text_sentiment_analysis_online.ipynb",
   "toc_visible": true
  },
  "kernelspec": {
   "display_name": "Python 3",
   "name": "python3"
  }
 },
 "nbformat": 4,
 "nbformat_minor": 0
}
