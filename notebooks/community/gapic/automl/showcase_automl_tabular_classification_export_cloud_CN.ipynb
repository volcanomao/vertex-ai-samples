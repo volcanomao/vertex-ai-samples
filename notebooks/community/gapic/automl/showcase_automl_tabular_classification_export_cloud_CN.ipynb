{
 "cells": [
  {
   "cell_type": "code",
   "execution_count": null,
   "metadata": {
    "id": "copyright"
   },
   "outputs": [],
   "source": [
    "# Copyright 2020 Google LLC\n",
    "#\n",
    "# Licensed under the Apache License, Version 2.0 (the \"License\");\n",
    "# you may not use this file except in compliance with the License.\n",
    "# You may obtain a copy of the License at\n",
    "#\n",
    "#     https://www.apache.org/licenses/LICENSE-2.0\n",
    "#\n",
    "# Unless required by applicable law or agreed to in writing, software\n",
    "# distributed under the License is distributed on an \"AS IS\" BASIS,\n",
    "# WITHOUT WARRANTIES OR CONDITIONS OF ANY KIND, either express or implied.\n",
    "# See the License for the specific language governing permissions and\n",
    "# limitations under the License."
   ]
  },
  {
   "cell_type": "markdown",
   "metadata": {
    "id": "title"
   },
   "source": [
    "# 顶点客户端库：用于导出到云端的AutoML表格分类模型\n",
    "\n",
    "<table align=\"left\">\n",
    "  <td>\n",
    "    <a href=\"https://colab.research.google.com/github/GoogleCloudPlatform/vertex-ai-samples/blob/master/notebooks/community/gapic/automl/showcase_automl_tabular_classification_export_cloud.ipynb\">\n",
    "      <img src=\"https://cloud.google.com/ml-engine/images/colab-logo-32px.png\" alt=\"Colab logo\"> 在Colab中运行\n",
    "    </a>\n",
    "  </td>\n",
    "  <td>\n",
    "    <a href=\"https://github.com/GoogleCloudPlatform/vertex-ai-samples/blob/master/notebooks/community/gapic/automl/showcase_automl_tabular_classification_export_cloud.ipynb\">\n",
    "      <img src=\"https://cloud.google.com/ml-engine/images/github-logo-32px.png\" alt=\"GitHub logo\">\n",
    "      在GitHub上查看\n",
    "    </a>\n",
    "  </td>\n",
    "</table>\n",
    "<br/><br/><br/>"
   ]
  },
  {
   "cell_type": "markdown",
   "metadata": {
    "id": "overview:automl,export_cloud"
   },
   "source": [
    "## 概述\n",
    "\n",
    "本教程演示如何使用Python的Vertex客户端库来创建表格分类模型，并将其导出为云模型，使用Google Cloud的AutoML。"
   ]
  },
  {
   "cell_type": "markdown",
   "metadata": {
    "id": "dataset:iris,lcn"
   },
   "source": [
    "数据集\n",
    "\n",
    "本教程使用的数据集是来自[TensorFlow Datasets](https://www.tensorflow.org/datasets/catalog/overview)的[Iris数据集](https://www.tensorflow.org/datasets/catalog/iris)。 这个数据集不需要任何特征工程。 您在本教程中将使用的数据集版本存储在一个公共的云存储桶中。 训练好的模型可以预测来自三种不同种类的鸢尾花：山鸢尾、维吉尼亚鸢尾或者变色鸢尾的种类。"
   ]
  },
  {
   "cell_type": "markdown",
   "metadata": {
    "id": "objective:automl,training,export_cloud"
   },
   "source": [
    "### 目标\n",
    "\n",
    "在本教程中，您将使用 Vertex 客户端库从 Python 脚本创建一个 AutoML 表格分类模型，然后以 TensorFlow SavedModel 格式导出模型。您也可以选择使用 `gcloud` 命令行工具或在 Google Cloud 控制台上在线创建 AutoML 模型。\n",
    "\n",
    "执行的步骤包括：\n",
    "\n",
    "- 创建一个 Vertex `Dataset` 资源。\n",
    "- 训练模型。\n",
    "- 从 `Model` 资源中将模型导出到云存储。\n",
    "- 在本地下载模型。\n",
    "- 进行本地预测。"
   ]
  },
  {
   "cell_type": "markdown",
   "metadata": {
    "id": "costs"
   },
   "source": [
    "### 费用\n",
    "\n",
    "本教程使用 Google Cloud（GCP）的计费组件：\n",
    "\n",
    "* Vertex AI\n",
    "* Cloud Storage\n",
    "\n",
    "了解 [Vertex AI 价格](https://cloud.google.com/vertex-ai/pricing) 和 [Cloud Storage 价格](https://cloud.google.com/storage/pricing)，并使用 [定价计算器](https://cloud.google.com/products/calculator/) 根据您预期的使用量生成费用估算。"
   ]
  },
  {
   "cell_type": "markdown",
   "metadata": {
    "id": "install_aip"
   },
   "source": [
    "## 安装\n",
    "\n",
    "安装最新版本的Vertex客户端库。"
   ]
  },
  {
   "cell_type": "code",
   "execution_count": null,
   "metadata": {
    "id": "install_aip"
   },
   "outputs": [],
   "source": [
    "import os\n",
    "import sys\n",
    "\n",
    "# Google Cloud Notebook\n",
    "if os.path.exists(\"/opt/deeplearning/metadata/env_version\"):\n",
    "    USER_FLAG = \"--user\"\n",
    "else:\n",
    "    USER_FLAG = \"\"\n",
    "\n",
    "! pip3 install -U google-cloud-aiplatform $USER_FLAG"
   ]
  },
  {
   "cell_type": "markdown",
   "metadata": {
    "id": "install_storage"
   },
   "source": [
    "安装最新版本的*google-cloud-storage*库。"
   ]
  },
  {
   "cell_type": "code",
   "execution_count": null,
   "metadata": {
    "id": "install_storage"
   },
   "outputs": [],
   "source": [
    "! pip3 install -U google-cloud-storage $USER_FLAG"
   ]
  },
  {
   "cell_type": "markdown",
   "metadata": {
    "id": "restart"
   },
   "source": [
    "### 重新启动内核\n",
    "\n",
    "安装了Vertex客户端库和Google *cloud-storage*后，您需要重新启动笔记本内核，以便它能够找到这些包。"
   ]
  },
  {
   "cell_type": "code",
   "execution_count": null,
   "metadata": {
    "id": "restart"
   },
   "outputs": [],
   "source": [
    "if not os.getenv(\"IS_TESTING\"):\n",
    "    # Automatically restart kernel after installs\n",
    "    import IPython\n",
    "\n",
    "    app = IPython.Application.instance()\n",
    "    app.kernel.do_shutdown(True)"
   ]
  },
  {
   "cell_type": "markdown",
   "metadata": {
    "id": "before_you_begin"
   },
   "source": [
    "## 开始之前\n",
    "\n",
    "### GPU 运行时\n",
    "\n",
    "*如果有选择的话，请确保在 GPU 运行时中运行此笔记本。在Colab中，选择* **运行时 > 更改运行时类型 > GPU**\n",
    "\n",
    "### 设置您的谷歌云项目\n",
    "\n",
    "**无论您的笔记本环境如何，以下步骤都是必需的。**\n",
    "\n",
    "1. [选择或创建一个谷歌云项目](https://console.cloud.google.com/cloud-resource-manager)。当您第一次创建账户时，您将获得 $300 的免费信用，可用于支付计算/存储成本。\n",
    "\n",
    "2. [确保为您的项目启用了计费功能。](https://cloud.google.com/billing/docs/how-to/modify-project)\n",
    "\n",
    "3. [启用 Vertex APIs 和 Compute Engine APIs。](https://console.cloud.google.com/flows/enableapi?apiid=ml.googleapis.com,compute_component)\n",
    "\n",
    "4. [谷歌云 SDK](https://cloud.google.com/sdk) 已经安装在谷歌云笔记本中。\n",
    "\n",
    "5. 在下面的单元格中输入您的项目 ID。然后运行该单元格，确保 Cloud SDK 对本笔记本中的所有命令使用正确的项目。\n",
    "\n",
    "**注意**：Jupyter 将以 `!` 为前缀的行作为 shell 命令运行，并将以 `$` 为前缀的 Python 变量插入这些命令中。"
   ]
  },
  {
   "cell_type": "code",
   "execution_count": null,
   "metadata": {
    "id": "set_project_id"
   },
   "outputs": [],
   "source": [
    "PROJECT_ID = \"[your-project-id]\"  # @param {type:\"string\"}"
   ]
  },
  {
   "cell_type": "code",
   "execution_count": null,
   "metadata": {
    "id": "autoset_project_id"
   },
   "outputs": [],
   "source": [
    "if PROJECT_ID == \"\" or PROJECT_ID is None or PROJECT_ID == \"[your-project-id]\":\n",
    "    # Get your GCP project id from gcloud\n",
    "    shell_output = !gcloud config list --format 'value(core.project)' 2>/dev/null\n",
    "    PROJECT_ID = shell_output[0]\n",
    "    print(\"Project ID:\", PROJECT_ID)"
   ]
  },
  {
   "cell_type": "code",
   "execution_count": null,
   "metadata": {
    "id": "set_gcloud_project_id"
   },
   "outputs": [],
   "source": [
    "! gcloud config set project $PROJECT_ID"
   ]
  },
  {
   "cell_type": "markdown",
   "metadata": {
    "id": "region"
   },
   "source": [
    "#### 区域\n",
    "\n",
    "您还可以更改`REGION`变量，该变量用于本笔记本其余部分的操作。以下是支持Vertex的区域。我们建议您选择离您最近的区域。\n",
    "\n",
    "- 美洲：`us-central1`\n",
    "- 欧洲：`europe-west4`\n",
    "- 亚太地区：`asia-east1`\n",
    "\n",
    "您不可以使用多区域存储桶用于Vertex训练。并非所有区域都支持所有的Vertex服务。有关各区域的最新支持信息，请参阅[Vertex位置文档](https://cloud.google.com/vertex-ai/docs/general/locations)。"
   ]
  },
  {
   "cell_type": "code",
   "execution_count": null,
   "metadata": {
    "id": "region"
   },
   "outputs": [],
   "source": [
    "REGION = \"us-central1\"  # @param {type: \"string\"}"
   ]
  },
  {
   "cell_type": "markdown",
   "metadata": {
    "id": "timestamp"
   },
   "source": [
    "时间戳\n",
    "\n",
    "如果您正在参加实时教程会话，您可能会使用一个共享的测试账户或项目。为了避免在创建的资源上发生名称冲突，您为每个实例会话创建一个时间戳，并附加到将在此教程中创建的资源名称上。"
   ]
  },
  {
   "cell_type": "code",
   "execution_count": null,
   "metadata": {
    "id": "timestamp"
   },
   "outputs": [],
   "source": [
    "from datetime import datetime\n",
    "\n",
    "TIMESTAMP = datetime.now().strftime(\"%Y%m%d%H%M%S\")"
   ]
  },
  {
   "cell_type": "markdown",
   "metadata": {
    "id": "gcp_authenticate"
   },
   "source": [
    "### 验证您的Google Cloud账户\n",
    "\n",
    "**如果您正在使用Google Cloud Notebook**，则您的环境已经过身份验证。跳过此步骤。\n",
    "\n",
    "**如果您正在使用Colab**，运行下面的单元格，并在提示进行身份验证时按照指示操作。\n",
    "\n",
    "**否则**，请按照以下步骤操作：\n",
    "\n",
    "在Cloud控制台中，转到[创建服务账号密钥](https://console.cloud.google.com/apis/credentials/serviceaccountkey)页面。\n",
    "\n",
    "**点击创建服务账号**。\n",
    "\n",
    "在**服务账号名称**字段中，输入一个名称，然后点击**创建**。\n",
    "\n",
    "在**授予此服务账号对项目的访问权限**部分，点击角色下拉列表。在过滤框中输入“Vertex”，并选择**Vertex管理员**。在过滤框中输入“存储对象管理员”，并选择**存储对象管理员**。\n",
    "\n",
    "点击创建。包含您密钥的JSON文件将下载到您的本地环境。\n",
    "\n",
    "在下面的单元格中输入您的服务账号密钥的路径为GOOGLE_APPLICATION_CREDENTIALS变量，并运行单元格。"
   ]
  },
  {
   "cell_type": "code",
   "execution_count": null,
   "metadata": {
    "id": "gcp_authenticate"
   },
   "outputs": [],
   "source": [
    "# If you are running this notebook in Colab, run this cell and follow the\n",
    "# instructions to authenticate your GCP account. This provides access to your\n",
    "# Cloud Storage bucket and lets you submit training jobs and prediction\n",
    "# requests.\n",
    "\n",
    "# If on Google Cloud Notebook, then don't execute this code\n",
    "if not os.path.exists(\"/opt/deeplearning/metadata/env_version\"):\n",
    "    if \"google.colab\" in sys.modules:\n",
    "        from google.colab import auth as google_auth\n",
    "\n",
    "        google_auth.authenticate_user()\n",
    "\n",
    "    # If you are running this notebook locally, replace the string below with the\n",
    "    # path to your service account key and run this cell to authenticate your GCP\n",
    "    # account.\n",
    "    elif not os.getenv(\"IS_TESTING\"):\n",
    "        %env GOOGLE_APPLICATION_CREDENTIALS ''"
   ]
  },
  {
   "cell_type": "markdown",
   "metadata": {
    "id": "bucket:export_cloud"
   },
   "source": [
    "### 创建一个云存储桶\n",
    "\n",
    "**无论您使用的是哪种笔记本环境，以下步骤都是必需的。**\n",
    "\n",
    "本教程旨在使用位于公共云存储桶中的训练数据，并使用本地云存储桶导出训练模型。您也可以使用您存储在本地云存储桶中的自有训练数据。\n",
    "\n",
    "请在下面设置您的云存储桶的名称。桶的名称必须在所有谷歌云项目中全局唯一，包括您组织之外的项目。"
   ]
  },
  {
   "cell_type": "code",
   "execution_count": null,
   "metadata": {
    "id": "bucket"
   },
   "outputs": [],
   "source": [
    "BUCKET_NAME = \"gs://[your-bucket-name]\"  # @param {type:\"string\"}"
   ]
  },
  {
   "cell_type": "code",
   "execution_count": null,
   "metadata": {
    "id": "autoset_bucket"
   },
   "outputs": [],
   "source": [
    "if BUCKET_NAME == \"\" or BUCKET_NAME is None or BUCKET_NAME == \"gs://[your-bucket-name]\":\n",
    "    BUCKET_NAME = \"gs://\" + PROJECT_ID + \"aip-\" + TIMESTAMP"
   ]
  },
  {
   "cell_type": "markdown",
   "metadata": {
    "id": "create_bucket"
   },
   "source": [
    "只要您的存储桶尚不存在：运行以下单元格以创建您的云存储存储桶。"
   ]
  },
  {
   "cell_type": "code",
   "execution_count": null,
   "metadata": {
    "id": "create_bucket"
   },
   "outputs": [],
   "source": [
    "! gsutil mb -l $REGION $BUCKET_NAME"
   ]
  },
  {
   "cell_type": "markdown",
   "metadata": {
    "id": "validate_bucket"
   },
   "source": [
    "最后，通过检查云存储桶的内容来验证访问权限。"
   ]
  },
  {
   "cell_type": "code",
   "execution_count": null,
   "metadata": {
    "id": "validate_bucket"
   },
   "outputs": [],
   "source": [
    "! gsutil ls -al $BUCKET_NAME"
   ]
  },
  {
   "cell_type": "markdown",
   "metadata": {
    "id": "import_aip:protobuf"
   },
   "source": [
    "##### 导入Vertex客户端库\n",
    "\n",
    "将Vertex客户端库导入到我们的Python环境中。"
   ]
  },
  {
   "cell_type": "code",
   "execution_count": null,
   "metadata": {
    "id": "import_aip:protobuf"
   },
   "outputs": [],
   "source": [
    "import time\n",
    "\n",
    "from google.cloud.aiplatform import gapic as aip\n",
    "from google.protobuf import json_format\n",
    "from google.protobuf.json_format import MessageToJson, ParseDict\n",
    "from google.protobuf.struct_pb2 import Struct, Value"
   ]
  },
  {
   "cell_type": "markdown",
   "metadata": {
    "id": "aip_constants"
   },
   "source": [
    "顶点常量\n",
    "\n",
    "为顶点设置以下常量：\n",
    "\n",
    "- `API_ENDPOINT`：用于数据集、模型、作业、管道和端点服务的顶点API服务端点。\n",
    "- `PARENT`：数据集、模型、作业、管道和端点资源的顶点位置根路径。"
   ]
  },
  {
   "cell_type": "code",
   "execution_count": null,
   "metadata": {
    "id": "aip_constants"
   },
   "outputs": [],
   "source": [
    "# API service endpoint\n",
    "API_ENDPOINT = \"{}-aiplatform.googleapis.com\".format(REGION)\n",
    "\n",
    "# Vertex location root path for your dataset, model and endpoint resources\n",
    "PARENT = \"projects/\" + PROJECT_ID + \"/locations/\" + REGION"
   ]
  },
  {
   "cell_type": "markdown",
   "metadata": {
    "id": "automl_constants"
   },
   "source": [
    "#### AutoML常量\n",
    "\n",
    "设置独特于AutoML数据集和训练的常量：\n",
    "\n",
    "- 数据集架构：告诉`Dataset`资源服务数据集的类型是什么。\n",
    "- 数据标注（注释）架构：告诉`Dataset`资源服务数据是如何标记（注释）的。\n",
    "- 数据集训练架构：告诉`Pipeline`资源服务训练模型的任务（例如，分类）。"
   ]
  },
  {
   "cell_type": "code",
   "execution_count": null,
   "metadata": {
    "id": "automl_constants:lcn"
   },
   "outputs": [],
   "source": [
    "# Tabular Dataset type\n",
    "DATA_SCHEMA = \"gs://google-cloud-aiplatform/schema/dataset/metadata/tables_1.0.0.yaml\"\n",
    "# Tabular Labeling type\n",
    "LABEL_SCHEMA = (\n",
    "    \"gs://google-cloud-aiplatform/schema/dataset/ioformat/table_io_format_1.0.0.yaml\"\n",
    ")\n",
    "# Tabular Training task\n",
    "TRAINING_SCHEMA = \"gs://google-cloud-aiplatform/schema/trainingjob/definition/automl_tables_1.0.0.yaml\""
   ]
  },
  {
   "cell_type": "markdown",
   "metadata": {
    "id": "install_docker"
   },
   "source": [
    "### 安装Docker（Colab或本地）\n",
    "\n",
    "如果您正在使用Google Cloud Notebook，则Docker已经安装好了。请跳过以下步骤。\n",
    "\n",
    "在Colab上，默认情况下不安装Docker。如果您正在运行Colab，则需要按照以下步骤来安装Docker。"
   ]
  },
  {
   "cell_type": "code",
   "execution_count": null,
   "metadata": {
    "id": "install_docker"
   },
   "outputs": [],
   "source": [
    "if \"google.colab\" in sys.modules:\n",
    "    ! sudo apt update\n",
    "    ! sudo apt install apt-transport-https ca-certificates curl software-properties-common\n",
    "    ! curl -fsSL https://download.docker.com/linux/ubuntu/gpg | sudo apt-key add -\n",
    "    ! sudo add-apt-repository \"deb [arch=amd64] https://download.docker.com/linux/ubuntu bionic stable\"\n",
    "    ! sudo apt update\n",
    "    ! sudo apt install docker-ce"
   ]
  },
  {
   "cell_type": "markdown",
   "metadata": {
    "id": "start_docker_service"
   },
   "source": [
    "启动Docker服务\n",
    "\n",
    "启动`docker`服务。"
   ]
  },
  {
   "cell_type": "code",
   "execution_count": null,
   "metadata": {
    "id": "start_docker_service"
   },
   "outputs": [],
   "source": [
    "if \"google.colab\" in sys.modules:\n",
    "    ! sudo service docker start"
   ]
  },
  {
   "cell_type": "markdown",
   "metadata": {
    "id": "tutorial_start:automl"
   },
   "source": [
    "# 教程\n",
    "\n",
    "现在您已经准备好开始创建您自己的AutoML表格分类模型。"
   ]
  },
  {
   "cell_type": "markdown",
   "metadata": {
    "id": "clients:automl,export_cloud"
   },
   "source": [
    "## 设置客户端\n",
    "\n",
    "Vertex客户端库的工作方式是客户端/服务器模型。在您的端（Python脚本）中，您将创建一个客户端，用于向Vertex服务器发送请求并接收响应。\n",
    "\n",
    "在本教程中，您将为工作流程中的不同步骤使用不同的客户端。因此，请提前设置好它们。\n",
    "\n",
    "- 用于 `Dataset` 资源的 Dataset 服务。\n",
    "- 用于 `Model` 资源的 Model 服务。\n",
    "- 用于训练的 Pipeline 服务。"
   ]
  },
  {
   "cell_type": "code",
   "execution_count": null,
   "metadata": {
    "id": "clients:automl,export_cloud"
   },
   "outputs": [],
   "source": [
    "# client options same for all services\n",
    "client_options = {\"api_endpoint\": API_ENDPOINT}\n",
    "\n",
    "\n",
    "def create_dataset_client():\n",
    "    client = aip.DatasetServiceClient(client_options=client_options)\n",
    "    return client\n",
    "\n",
    "\n",
    "def create_model_client():\n",
    "    client = aip.ModelServiceClient(client_options=client_options)\n",
    "    return client\n",
    "\n",
    "\n",
    "def create_pipeline_client():\n",
    "    client = aip.PipelineServiceClient(client_options=client_options)\n",
    "    return client\n",
    "\n",
    "\n",
    "clients = {}\n",
    "clients[\"dataset\"] = create_dataset_client()\n",
    "clients[\"model\"] = create_model_client()\n",
    "clients[\"pipeline\"] = create_pipeline_client()\n",
    "\n",
    "for client in clients.items():\n",
    "    print(client)"
   ]
  },
  {
   "cell_type": "markdown",
   "metadata": {
    "id": "dataset:tabular"
   },
   "source": [
    "数据集\n",
    "\n",
    "现在您的客户端已经准备就绪，您的第一步是创建一个 `Dataset` 资源实例。这一步与 Vision、Video 和 Language 不同。对于那些产品，在创建 `Dataset` 资源之后，接着单独使用 `import_data` 方法导入数据。\n",
    "\n",
    "对于表格数据，数据的导入推迟到训练管道开始训练模型时。我们要做什么不同呢？首先，您不会调用 `import_data` 方法。相反，当您创建数据集实例时，您会在 `Dataset` 资源的元数据中指定 CSV 文件的 Cloud Storage 位置或包含表格数据的 BigQuery 位置。\n",
    "\n",
    "#### Cloud Storage\n",
    "\n",
    "`metadata = {\"input_config\": {\"gcs_source\": {\"uri\": [gcs_uri]}}}`\n",
    "\n",
    "Cloud Storage 路径的格式为：\n",
    "\n",
    "    gs://[bucket_name]/[folder(s)/[file]\n",
    "\n",
    "#### BigQuery\n",
    "\n",
    "`metadata = {\"input_config\": {\"bigquery_source\": {\"uri\": [gcs_uri]}}}`\n",
    "\n",
    "BigQuery 路径的格式为：\n",
    "\n",
    "    bq://[collection].[dataset].[table]\n",
    "\n",
    "请注意，`uri` 字段是一个列表，您可以在数据分布在多个文件中时输入多个 CSV 文件或 BigQuery 表格。"
   ]
  },
  {
   "cell_type": "markdown",
   "metadata": {
    "id": "data_preparation:tabular,u_dataset"
   },
   "source": [
    "### 数据准备\n",
    "\n",
    "对于表格数据，顶点`数据集`资源有一些要求。\n",
    "\n",
    "- 必须在CSV文件或BigQuery查询中。"
   ]
  },
  {
   "cell_type": "markdown",
   "metadata": {
    "id": "data_import_format:lcn,u_dataset,csv"
   },
   "source": [
    "CSV\n",
    "\n",
    "对于表格分类，CSV文件有一些要求：\n",
    "\n",
    "- 第一行必须是表头 -- 请注意，这与Vision、Video和Language中的要求不同，那里要求没有标题。\n",
    "- 除了一个列是特征之外，其他列都是特征。\n",
    "- 一个列是标签，您将在随后创建训练管道时指定。"
   ]
  },
  {
   "cell_type": "markdown",
   "metadata": {
    "id": "import_file:u_dataset,csv"
   },
   "source": [
    "云存储训练数据的位置。\n",
    "\n",
    "现在将变量`IMPORT_FILE`设置为Cloud Storage中CSV索引文件的位置。"
   ]
  },
  {
   "cell_type": "code",
   "execution_count": null,
   "metadata": {
    "id": "import_file:iris,csv,lcn"
   },
   "outputs": [],
   "source": [
    "IMPORT_FILE = \"gs://cloud-samples-data/tables/iris_1000.csv\""
   ]
  },
  {
   "cell_type": "markdown",
   "metadata": {
    "id": "quick_peek:tabular"
   },
   "source": [
    "快速查看您的数据\n",
    "\n",
    "您将使用存储在公共云存储桶中的鸢尾花数据集的一个版本，使用一个CSV索引文件。\n",
    "\n",
    "首先快速查看数据。您可以通过计算CSV索引文件中的行数（`wc -l`）来计算示例数量，然后查看前几行。\n",
    "\n",
    "您还需要知道头部标签列的列名，它被保存为`label_column`。对于这个数据集，它是CSV文件中的最后一列。"
   ]
  },
  {
   "cell_type": "code",
   "execution_count": null,
   "metadata": {
    "id": "quick_peek:tabular"
   },
   "outputs": [],
   "source": [
    "count = ! gsutil cat $IMPORT_FILE | wc -l\n",
    "print(\"Number of Examples\", int(count[0]))\n",
    "\n",
    "print(\"First 10 rows\")\n",
    "! gsutil cat $IMPORT_FILE | head\n",
    "\n",
    "heading = ! gsutil cat $IMPORT_FILE | head -n1\n",
    "label_column = str(heading).split(\",\")[-1].split(\"'\")[0]\n",
    "print(\"Label Column Name\", label_column)\n",
    "if label_column is None:\n",
    "    raise Exception(\"label column missing\")"
   ]
  },
  {
   "cell_type": "markdown",
   "metadata": {
    "id": "create_aip_dataset:tabular"
   },
   "source": [
    "数据集\n",
    "\n",
    "现在您的客户已经准备好，训练模型的第一步是创建一个托管数据集实例，然后将标记数据上传到其中。\n",
    "\n",
    "### 创建`Dataset`资源实例\n",
    "\n",
    "使用辅助函数`create_dataset`来创建`Dataset`资源的实例。此函数执行以下操作：\n",
    "\n",
    "1. 使用数据集客户端服务。\n",
    "2. 使用以下参数创建Vertex`Dataset`资源（`aip.Dataset`）：\n",
    " - `display_name`：您选择的可读名称。\n",
    " - `metadata_schema_uri`：数据集类型的模式。\n",
    " - `metadata`：标签数据的Cloud Storage或BigQuery位置。\n",
    "3. 调用客户端数据集服务方法`create_dataset`，并使用以下参数：\n",
    " - `parent`：您的`Database`、`Model`和`Endpoint`资源的Vertex位置根路径。\n",
    " - `dataset`：您创建的Vertex数据集对象实例。\n",
    "4. 该方法返回一个`operation`对象。\n",
    "\n",
    "`operation`对象是Vertex处理长时间运行操作的异步调用方式。虽然这一步通常很快，但在项目中首次使用时，由于要进行配置，会有较长的延迟。\n",
    "\n",
    "您可以使用`operation`对象来获取操作的状态（例如，创建`Dataset`资源）或取消操作，通过调用操作方法：\n",
    "\n",
    "| 方法          | 描述            |\n",
    "| ----------- | -----------    |\n",
    "| result()    | 等待操作完成并以JSON格式返回结果对象。    |\n",
    "| running()   | 返回操作是否仍在运行的True/False。       |\n",
    "| done()      | 返回操作是否已完成的True/False。        |\n",
    "| canceled()  | 返回操作是否已取消的True/False。      |\n",
    "| cancel()    | 取消操作（可能需要多达30秒）。        |"
   ]
  },
  {
   "cell_type": "code",
   "execution_count": null,
   "metadata": {
    "id": "create_aip_dataset:tabular"
   },
   "outputs": [],
   "source": [
    "TIMEOUT = 90\n",
    "\n",
    "\n",
    "def create_dataset(name, schema, src_uri=None, labels=None, timeout=TIMEOUT):\n",
    "    start_time = time.time()\n",
    "    try:\n",
    "        if src_uri.startswith(\"gs://\"):\n",
    "            metadata = {\"input_config\": {\"gcs_source\": {\"uri\": [src_uri]}}}\n",
    "        elif src_uri.startswith(\"bq://\"):\n",
    "            metadata = {\"input_config\": {\"bigquery_source\": {\"uri\": [src_uri]}}}\n",
    "        dataset = aip.Dataset(\n",
    "            display_name=name,\n",
    "            metadata_schema_uri=schema,\n",
    "            labels=labels,\n",
    "            metadata=json_format.ParseDict(metadata, Value()),\n",
    "        )\n",
    "\n",
    "        operation = clients[\"dataset\"].create_dataset(parent=PARENT, dataset=dataset)\n",
    "        print(\"Long running operation:\", operation.operation.name)\n",
    "        result = operation.result(timeout=TIMEOUT)\n",
    "        print(\"time:\", time.time() - start_time)\n",
    "        print(\"response\")\n",
    "        print(\" name:\", result.name)\n",
    "        print(\" display_name:\", result.display_name)\n",
    "        print(\" metadata_schema_uri:\", result.metadata_schema_uri)\n",
    "        print(\" metadata:\", dict(result.metadata))\n",
    "        print(\" create_time:\", result.create_time)\n",
    "        print(\" update_time:\", result.update_time)\n",
    "        print(\" etag:\", result.etag)\n",
    "        print(\" labels:\", dict(result.labels))\n",
    "        return result\n",
    "    except Exception as e:\n",
    "        print(\"exception:\", e)\n",
    "        return None\n",
    "\n",
    "\n",
    "result = create_dataset(\"iris-\" + TIMESTAMP, DATA_SCHEMA, src_uri=IMPORT_FILE)"
   ]
  },
  {
   "cell_type": "markdown",
   "metadata": {
    "id": "dataset_id:result"
   },
   "source": [
    "现在保存您创建的“数据集”资源实例的唯一数据集标识符。"
   ]
  },
  {
   "cell_type": "code",
   "execution_count": null,
   "metadata": {
    "id": "dataset_id:result"
   },
   "outputs": [],
   "source": [
    "# The full unique ID for the dataset\n",
    "dataset_id = result.name\n",
    "# The short numeric ID for the dataset\n",
    "dataset_short_id = dataset_id.split(\"/\")[-1]\n",
    "\n",
    "print(dataset_id)"
   ]
  },
  {
   "cell_type": "markdown",
   "metadata": {
    "id": "train_automl_model"
   },
   "source": [
    "训练模型\n",
    "\n",
    "现在使用您的Vertex `Dataset`资源训练一个AutoML表格分类模型。要训练模型，请执行以下步骤：\n",
    "\n",
    "1. 为`Dataset`资源创建一个Vertex训练管道。\n",
    "2. 执行管道开始训练。"
   ]
  },
  {
   "cell_type": "markdown",
   "metadata": {
    "id": "create_pipeline:automl"
   },
   "source": [
    "### 创建训练管道\n",
    "\n",
    "您可能会问，我们何时使用管道？通常在工作（如训练）有多个步骤时，我们会按照顺序使用管道：执行步骤A，执行步骤B，依此类推。将这些步骤放入管道中，我们可以获得以下好处：\n",
    "\n",
    "1. 可重用于后续训练工作。\n",
    "2. 可以容器化并作为批处理作业运行。\n",
    "3. 可以分布式运行。\n",
    "4. 所有步骤都与相同的管道作业关联，以跟踪进度。\n",
    "\n",
    "使用此辅助函数`create_pipeline`，它接受以下参数：\n",
    "\n",
    "- `pipeline_name`：管道作业的可读名称。\n",
    "- `model_name`：模型的可读名称。\n",
    "- `dataset`：Vertex 完全限定的数据集标识符。\n",
    "- `schema`：数据集标签（注释）训练模式。\n",
    "- `task`：描述训练作业要求的字典。\n",
    "\n",
    "辅助函数调用`Pipeline`客户端服务的方法`create_pipeline`，它接受以下参数：\n",
    "\n",
    "- `parent`：您`数据集`，`模型`和`终端`资源的 Vertex 位置根路径。\n",
    "- `training_pipeline`：管道训练作业的完整规范。\n",
    "\n",
    "现在让我们更深入地研究构造`training_pipeline`规范的*最低*要求：\n",
    "\n",
    "- `display_name`：管道作业的可读名称。\n",
    "- `training_task_definition`：数据集标签（注释）训练模式。\n",
    "- `training_task_inputs`：描述训练作业要求的字典。\n",
    "- `model_to_upload`：模型的可读名称。\n",
    "- `input_data_config`：数据集规范。\n",
    " - `dataset_id`：只有 Vertex 数据集标识符（非完全限定）-- 这是完全限定标识符的最后部分。\n",
    " - `fraction_split`：如果指定，数据集用于训练、测试和验证的百分比。否则，百分比会由自动机器学习自动选择。"
   ]
  },
  {
   "cell_type": "code",
   "execution_count": null,
   "metadata": {
    "id": "create_pipeline:automl"
   },
   "outputs": [],
   "source": [
    "def create_pipeline(pipeline_name, model_name, dataset, schema, task):\n",
    "\n",
    "    dataset_id = dataset.split(\"/\")[-1]\n",
    "\n",
    "    input_config = {\n",
    "        \"dataset_id\": dataset_id,\n",
    "        \"fraction_split\": {\n",
    "            \"training_fraction\": 0.8,\n",
    "            \"validation_fraction\": 0.1,\n",
    "            \"test_fraction\": 0.1,\n",
    "        },\n",
    "    }\n",
    "\n",
    "    training_pipeline = {\n",
    "        \"display_name\": pipeline_name,\n",
    "        \"training_task_definition\": schema,\n",
    "        \"training_task_inputs\": task,\n",
    "        \"input_data_config\": input_config,\n",
    "        \"model_to_upload\": {\"display_name\": model_name},\n",
    "    }\n",
    "\n",
    "    try:\n",
    "        pipeline = clients[\"pipeline\"].create_training_pipeline(\n",
    "            parent=PARENT, training_pipeline=training_pipeline\n",
    "        )\n",
    "        print(pipeline)\n",
    "    except Exception as e:\n",
    "        print(\"exception:\", e)\n",
    "        return None\n",
    "    return pipeline"
   ]
  },
  {
   "cell_type": "markdown",
   "metadata": {
    "id": "task_requirements:automl,tabular"
   },
   "source": [
    "### 构建任务要求\n",
    "\n",
    "接下来，构建任务要求。与其他参数不同，`task`字段需要一个Google protobuf Struct，而不是一个Python（类似JSON）字典，它与Python字典非常相似。使用`json_format.ParseDict`方法进行转换。\n",
    "\n",
    "您需要指定的最小字段为：\n",
    "\n",
    "- `prediction_type`：我们是在进行“分类”还是“回归”。\n",
    "- `target_column`：要预测的CSV标题列名称（即标签）。\n",
    "- `train_budget_milli_node_hours`：用于训练模型的最大时间预算（计费时间），其中1000 = 1小时。\n",
    "- `disable_early_stopping`：是否True/False，用于让AutoML自行判断是否提前停止训练或耗尽整个预算进行训练。\n",
    "- `transformations`：指定每个特征列的特征工程。\n",
    "\n",
    "对于`transformations`，列表必须为每列指定一个条目。外键字段指示相应列的特征工程类型。在本教程中，将其设置为`\"auto\"`，告诉AutoML自动确定。\n",
    "\n",
    "最后，通过调用助手函数`create_pipeline`来创建流水线，该函数返回一个训练流水线对象的实例。"
   ]
  },
  {
   "cell_type": "code",
   "execution_count": null,
   "metadata": {
    "id": "task_transformations:automl,tabular,iris"
   },
   "outputs": [],
   "source": [
    "TRANSFORMATIONS = [\n",
    "    {\"auto\": {\"column_name\": \"sepal_width\"}},\n",
    "    {\"auto\": {\"column_name\": \"sepal_length\"}},\n",
    "    {\"auto\": {\"column_name\": \"petal_length\"}},\n",
    "    {\"auto\": {\"column_name\": \"petal_width\"}},\n",
    "]"
   ]
  },
  {
   "cell_type": "code",
   "execution_count": null,
   "metadata": {
    "id": "task_requirements:automl,tabular,transformations"
   },
   "outputs": [],
   "source": [
    "PIPE_NAME = \"iris_pipe-\" + TIMESTAMP\n",
    "MODEL_NAME = \"iris_model-\" + TIMESTAMP\n",
    "\n",
    "task = Value(\n",
    "    struct_value=Struct(\n",
    "        fields={\n",
    "            \"target_column\": Value(string_value=label_column),\n",
    "            \"prediction_type\": Value(string_value=\"classification\"),\n",
    "            \"train_budget_milli_node_hours\": Value(number_value=1000),\n",
    "            \"disable_early_stopping\": Value(bool_value=False),\n",
    "            \"transformations\": json_format.ParseDict(TRANSFORMATIONS, Value()),\n",
    "        }\n",
    "    )\n",
    ")\n",
    "\n",
    "response = create_pipeline(PIPE_NAME, MODEL_NAME, dataset_id, TRAINING_SCHEMA, task)"
   ]
  },
  {
   "cell_type": "markdown",
   "metadata": {
    "id": "pipeline_id:response"
   },
   "source": [
    "现在，请保存您创建的训练管道的唯一标识符。"
   ]
  },
  {
   "cell_type": "code",
   "execution_count": null,
   "metadata": {
    "id": "pipeline_id:response"
   },
   "outputs": [],
   "source": [
    "# The full unique ID for the pipeline\n",
    "pipeline_id = response.name\n",
    "# The short numeric ID for the pipeline\n",
    "pipeline_short_id = pipeline_id.split(\"/\")[-1]\n",
    "\n",
    "print(pipeline_id)"
   ]
  },
  {
   "cell_type": "markdown",
   "metadata": {
    "id": "get_training_pipeline"
   },
   "source": [
    "### 获取有关培训流程的信息\n",
    "\n",
    "现在仅获取此培训流程实例的流程信息。通过调用作业客户端服务的`get_training_pipeline`方法，以下参数可以获得该作业的作业信息：\n",
    "\n",
    "- `name`：Vertex完全限定的流程标识符。\n",
    "\n",
    "当模型训练完成时，流程状态将为`PIPELINE_STATE_SUCCEEDED`。"
   ]
  },
  {
   "cell_type": "code",
   "execution_count": null,
   "metadata": {
    "id": "get_training_pipeline"
   },
   "outputs": [],
   "source": [
    "def get_training_pipeline(name, silent=False):\n",
    "    response = clients[\"pipeline\"].get_training_pipeline(name=name)\n",
    "    if silent:\n",
    "        return response\n",
    "\n",
    "    print(\"pipeline\")\n",
    "    print(\" name:\", response.name)\n",
    "    print(\" display_name:\", response.display_name)\n",
    "    print(\" state:\", response.state)\n",
    "    print(\" training_task_definition:\", response.training_task_definition)\n",
    "    print(\" training_task_inputs:\", dict(response.training_task_inputs))\n",
    "    print(\" create_time:\", response.create_time)\n",
    "    print(\" start_time:\", response.start_time)\n",
    "    print(\" end_time:\", response.end_time)\n",
    "    print(\" update_time:\", response.update_time)\n",
    "    print(\" labels:\", dict(response.labels))\n",
    "    return response\n",
    "\n",
    "\n",
    "response = get_training_pipeline(pipeline_id)"
   ]
  },
  {
   "cell_type": "markdown",
   "metadata": {
    "id": "wait_training_complete"
   },
   "source": [
    "部署\n",
    "\n",
    "训练上述模型可能需要长达30分钟的时间。\n",
    "\n",
    "一旦您的模型训练完成，您可以通过将 `end_time` 减去 `start_time` 来计算训练模型所需的实际时间。对于您的模型，您需要知道完全限定的顶点模型资源标识符，这是管道服务分配给它的。您可以从返回的管道实例中获取它，作为字段 `model_to_deploy.name`。"
   ]
  },
  {
   "cell_type": "code",
   "execution_count": null,
   "metadata": {
    "id": "wait_training_complete"
   },
   "outputs": [],
   "source": [
    "while True:\n",
    "    response = get_training_pipeline(pipeline_id, True)\n",
    "    if response.state != aip.PipelineState.PIPELINE_STATE_SUCCEEDED:\n",
    "        print(\"Training job has not completed:\", response.state)\n",
    "        model_to_deploy_id = None\n",
    "        if response.state == aip.PipelineState.PIPELINE_STATE_FAILED:\n",
    "            raise Exception(\"Training Job Failed\")\n",
    "    else:\n",
    "        model_to_deploy = response.model_to_upload\n",
    "        model_to_deploy_id = model_to_deploy.name\n",
    "        print(\"Training Time:\", response.end_time - response.start_time)\n",
    "        break\n",
    "    time.sleep(60)\n",
    "\n",
    "print(\"model to deploy:\", model_to_deploy_id)"
   ]
  },
  {
   "cell_type": "markdown",
   "metadata": {
    "id": "model_information"
   },
   "source": [
    "## 模型信息\n",
    "\n",
    "现在你的模型已经训练完成，你可以获取一些关于你的模型的信息。"
   ]
  },
  {
   "cell_type": "markdown",
   "metadata": {
    "id": "evaluate_the_model:automl"
   },
   "source": [
    "评估模型资源\n",
    "\n",
    "现在找出模型服务认为您的模型有多好。在训练过程中，数据集的一部分被设置为测试（保留）数据，这些数据被管道服务用于评估模型。"
   ]
  },
  {
   "cell_type": "markdown",
   "metadata": {
    "id": "list_model_evaluations:automl,lcn"
   },
   "source": [
    "### 列出所有切片的评估\n",
    "\n",
    "使用这个辅助函数`list_model_evaluations`，它接受以下参数：\n",
    "\n",
    "- `name`：`Model`资源的Vertex完全合格的模型标识符。\n",
    "\n",
    "这个辅助函数使用模型客户端服务的`list_model_evaluations`方法，该方法接受相同的参数。从调用中得到的响应对象是一个列表，其中每个元素是一个评估指标。\n",
    "\n",
    "对于每个评估（您可能只有一个），然后打印评估中每个指标的所有关键名称，并对于一小部分（`logLoss`和`auPrc`），您将打印结果。"
   ]
  },
  {
   "cell_type": "code",
   "execution_count": null,
   "metadata": {
    "id": "list_model_evaluations:automl,lcn"
   },
   "outputs": [],
   "source": [
    "def list_model_evaluations(name):\n",
    "    response = clients[\"model\"].list_model_evaluations(parent=name)\n",
    "    for evaluation in response:\n",
    "        print(\"model_evaluation\")\n",
    "        print(\" name:\", evaluation.name)\n",
    "        print(\" metrics_schema_uri:\", evaluation.metrics_schema_uri)\n",
    "        metrics = json_format.MessageToDict(evaluation._pb.metrics)\n",
    "        for metric in metrics.keys():\n",
    "            print(metric)\n",
    "        print(\"logloss\", metrics[\"logLoss\"])\n",
    "        print(\"auPrc\", metrics[\"auPrc\"])\n",
    "\n",
    "    return evaluation.name\n",
    "\n",
    "\n",
    "last_evaluation = list_model_evaluations(model_to_deploy_id)"
   ]
  },
  {
   "cell_type": "markdown",
   "metadata": {
    "id": "export_model:export_cloud"
   },
   "source": [
    "## 导出为云模型\n",
    "\n",
    "您可以将AutoML表格分类模型导出为TensorFlow SavedFormat模型，然后可以自定义部署到Google Cloud或者本地下载。使用此辅助函数`export_model`将模型导出到Google Cloud，该函数接受以下参数：\n",
    "\n",
    "- `name`：`Model`资源的Vertex完全限定标识符。\n",
    "- `gcs_dest`：用于存储SavedFormat模型文件的Cloud Storage位置。\n",
    "\n",
    "此函数调用`Model`客户端服务的方法`export_model`，参数如下：\n",
    "\n",
    "- `name`：`Model`资源的Vertex完全限定标识符。\n",
    "- `output_config`：导出模型的目标信息。\n",
    "  - `artifact_destination.output_uri_prefix`：用于存储SavedFormat模型文件的Cloud Storage位置。\n",
    "  - `export_format_id`：将模型格式保存为的格式。对于AutoML表格分类，只有一种选项：\n",
    "   - `tf-saved-model`：TensorFlow SavedFormat\n",
    "\n",
    "该方法返回一个长时间运行的操作`response`。我们将通过调用`response.result()`同步等待操作完成，直到模型导出完成。"
   ]
  },
  {
   "cell_type": "code",
   "execution_count": null,
   "metadata": {
    "id": "export_model:export_cloud"
   },
   "outputs": [],
   "source": [
    "MODEL_DIR = BUCKET_NAME + \"/\" + \"iris\"\n",
    "\n",
    "\n",
    "def export_model(name, format, gcs_dest):\n",
    "    output_config = {\n",
    "        \"artifact_destination\": {\"output_uri_prefix\": gcs_dest},\n",
    "        \"export_format_id\": format,\n",
    "    }\n",
    "    response = clients[\"model\"].export_model(name=name, output_config=output_config)\n",
    "    print(\"Long running operation:\", response.operation.name)\n",
    "    result = response.result(timeout=1800)\n",
    "    metadata = response.operation.metadata\n",
    "    artifact_uri = str(metadata.value).split(\"\\\\\")[-1][4:-1]\n",
    "    print(\"Artifact Uri\", artifact_uri)\n",
    "    return artifact_uri\n",
    "\n",
    "\n",
    "model_package = export_model(model_to_deploy_id, \"tf-saved-model\", MODEL_DIR)"
   ]
  },
  {
   "cell_type": "markdown",
   "metadata": {
    "id": "export_model_layout:export_cloud"
   },
   "source": [
    "### 运行导出的模型包\n",
    "\n",
    "您的模型现在以 TensorFlow SavedModel 格式存储在 Cloud Storage 存储桶中，同时还有一个模型服务器的二进制文件。从 Cloud Storage 存储桶中本地加载模型，然后您可以使用预构建的谷歌云容器在本地部署模型和服务二进制文件，用于运行模型服务器。\n",
    "\n",
    "#### 模型包布局\n",
    "\n",
    "让我们先看看导出的包中有什么。导出的模型包将存储在您的 Cloud Storage 存储桶中，路径为：\n",
    "\n",
    "    <your-gcs-bucket>/<model_name>/model-<model id>/tf-saved-model/<timedstamp>\n",
    "\n",
    "接下来，查看模型包的内容。"
   ]
  },
  {
   "cell_type": "code",
   "execution_count": null,
   "metadata": {
    "id": "export_model_layout:export_cloud"
   },
   "outputs": [],
   "source": [
    "print(\"Model Package:\", model_package)\n",
    "print(\"Contents:\")\n",
    "! gsutil ls $model_package\n",
    "\n",
    "print(\"\\nTF Saved Model\")\n",
    "path = model_package + \"/predict\"\n",
    "files = ! gsutil ls $path\n",
    "saved_dir = files[1]\n",
    "print(saved_dir)\n",
    "! gsutil ls $saved_dir"
   ]
  },
  {
   "cell_type": "markdown",
   "metadata": {
    "id": "download_exported_model:export_cloud"
   },
   "source": [
    "下载导出的模型包。\n",
    "\n",
    "您的第一步是将导出的模型包下载到本地。"
   ]
  },
  {
   "cell_type": "code",
   "execution_count": null,
   "metadata": {
    "id": "download_exported_model:export_cloud"
   },
   "outputs": [],
   "source": [
    "! gsutil cp -r $model_package ."
   ]
  },
  {
   "cell_type": "markdown",
   "metadata": {
    "id": "rename_exported_model:export_cloud"
   },
   "source": [
    "更改模型包目录名称\n",
    "\n",
    "在本教程中，您将使用Docker启动模型包。包路径名称中最后一个组件的时间戳包含一个冒号“：”，这对Docker是无效的。您需要重新命名。在下一步中，我们将把最后一个组件重命名为“tbl_exported”。"
   ]
  },
  {
   "cell_type": "code",
   "execution_count": null,
   "metadata": {
    "id": "rename_exported_model:export_cloud"
   },
   "outputs": [],
   "source": [
    "subdir = model_package.split(\"/\")[-1]\n",
    "print(subdir)\n",
    "! mv $subdir tbl_exported"
   ]
  },
  {
   "cell_type": "markdown",
   "metadata": {
    "id": "run_exported_model:local"
   },
   "source": [
    "运行导出的模型包\n",
    "\n",
    "此模型包依赖于一个预先构建的谷歌云容器，用于提供导出的 AutoML 表格分类模型：\n",
    "\n",
    "\"gcr.io/cloud-aiplatform/automl_tables/prediction_server\"\n",
    "\n",
    "目前 Vertex 终端不支持该容器。您可以在本地或另一台您管理的计算实例上启动模型服务器以及容器。\n",
    "\n",
    "在本教程中，您将使用`docker`启动它。通过指定 `-d` 选项给 `docker`，Docker 容器将在此笔记本的后台运行。"
   ]
  },
  {
   "cell_type": "code",
   "execution_count": null,
   "metadata": {
    "id": "run_exported_model:local"
   },
   "outputs": [],
   "source": [
    "MODEL_SERVER = \"gcr.io/cloud-aiplatform/automl_tables/prediction_server\"\n",
    "PORT = 8081\n",
    "\n",
    "docker_id = ! docker run -d -v `pwd`/tbl_exported:/models/default -p 8081:8080 -it $MODEL_SERVER"
   ]
  },
  {
   "cell_type": "markdown",
   "metadata": {
    "id": "check_health_status:local"
   },
   "source": [
    "检查健康状况\n",
    "\n",
    "我们需要留一点时间等待模型加载。让我们暂停10秒，然后进行健康检查。如果健康检查返回为空，那么准备好了。"
   ]
  },
  {
   "cell_type": "code",
   "execution_count": null,
   "metadata": {
    "id": "check_health_status:local"
   },
   "outputs": [],
   "source": [
    "import time\n",
    "\n",
    "time.sleep(10)\n",
    "! curl -X GET http://localhost:8081/health"
   ]
  },
  {
   "cell_type": "markdown",
   "metadata": {
    "id": "docker_verified_loaded:local"
   },
   "source": [
    "#### 验证docker镜像的加载\n",
    "\n",
    "您也可以使用`docker container ls`来验证Docker镜像的加载情况。我们将添加`--latest`来获取有关最新加载的信息（即此镜像）。"
   ]
  },
  {
   "cell_type": "code",
   "execution_count": null,
   "metadata": {
    "id": "docker_verified_loaded:local"
   },
   "outputs": [],
   "source": [
    "! docker container ls --latest"
   ]
  },
  {
   "cell_type": "markdown",
   "metadata": {
    "id": "make_prediction:automl,export_cloud,tabular"
   },
   "source": [
    "## 发出预测请求\n",
    "\n",
    "现在使用您导出的模型进行预测。\n",
    "\n",
    "### 预测请求格式\n",
    "\n",
    "预测请求的格式是一个 JSON 对象，如下所示：\n",
    "\n",
    "    { \"instances\": [ { \"column_name_1\": value, \"column_name_2\": value, … } , … ] }\n",
    "\n",
    "将您的预测请求放在一个文本文件中，如：\n",
    "\n",
    "    test.json"
   ]
  },
  {
   "cell_type": "code",
   "execution_count": null,
   "metadata": {
    "id": "make_instances_file:tabular,iris"
   },
   "outputs": [],
   "source": [
    "INSTANCES = {\n",
    "    \"instances\": [\n",
    "        {\n",
    "            \"petal_length\": \"1.4\",\n",
    "            \"petal_width\": \"1.3\",\n",
    "            \"sepal_length\": \"5.1\",\n",
    "            \"sepal_width\": \"2.8\",\n",
    "        }\n",
    "    ]\n",
    "}\n",
    "\n",
    "import json\n",
    "\n",
    "with open(\"test.json\", \"w\") as f:\n",
    "    data = json.dumps(INSTANCES)\n",
    "    f.write(data)"
   ]
  },
  {
   "cell_type": "markdown",
   "metadata": {
    "id": "predict_item:local,curl"
   },
   "source": [
    "发送预测请求\n",
    "\n",
    "您可以使用CURL发送预测请求：\n",
    "\n",
    "curl -X POST --data @test.json http://localhost:8081/predict"
   ]
  },
  {
   "cell_type": "code",
   "execution_count": null,
   "metadata": {
    "id": "predict_item:local,curl"
   },
   "outputs": [],
   "source": [
    "! curl -X POST --data @/home/jupyter/test.json http://localhost:8081/predict"
   ]
  },
  {
   "cell_type": "markdown",
   "metadata": {
    "id": "docker_shutdown:local"
   },
   "source": [
    "关闭Docker容器"
   ]
  },
  {
   "cell_type": "code",
   "execution_count": null,
   "metadata": {
    "id": "docker_shutdown:local"
   },
   "outputs": [],
   "source": [
    "print(docker_id)\n",
    "! docker kill $docker_id"
   ]
  },
  {
   "cell_type": "markdown",
   "metadata": {
    "id": "cleanup"
   },
   "source": [
    "清理工作\n",
    "\n",
    "要清理此项目中使用的所有GCP资源，您可以删除用于教程的[GCP项目](https://cloud.google.com/resource-manager/docs/creating-managing-projects#shutting_down_projects)。\n",
    "\n",
    "否则，您可以删除在此教程中创建的单个资源：\n",
    "\n",
    "- 数据集\n",
    "- 流水线\n",
    "- 模型\n",
    "- 终端\n",
    "- 批处理作业\n",
    "- 自定义作业\n",
    "- 超参数调优作业\n",
    "- 云存储存储桶"
   ]
  },
  {
   "cell_type": "code",
   "execution_count": null,
   "metadata": {
    "id": "cleanup"
   },
   "outputs": [],
   "source": [
    "delete_dataset = True\n",
    "delete_pipeline = True\n",
    "delete_model = True\n",
    "delete_endpoint = True\n",
    "delete_batchjob = True\n",
    "delete_customjob = True\n",
    "delete_hptjob = True\n",
    "delete_bucket = True\n",
    "\n",
    "# Delete the dataset using the Vertex fully qualified identifier for the dataset\n",
    "try:\n",
    "    if delete_dataset and \"dataset_id\" in globals():\n",
    "        clients[\"dataset\"].delete_dataset(name=dataset_id)\n",
    "except Exception as e:\n",
    "    print(e)\n",
    "\n",
    "# Delete the training pipeline using the Vertex fully qualified identifier for the pipeline\n",
    "try:\n",
    "    if delete_pipeline and \"pipeline_id\" in globals():\n",
    "        clients[\"pipeline\"].delete_training_pipeline(name=pipeline_id)\n",
    "except Exception as e:\n",
    "    print(e)\n",
    "\n",
    "# Delete the model using the Vertex fully qualified identifier for the model\n",
    "try:\n",
    "    if delete_model and \"model_to_deploy_id\" in globals():\n",
    "        clients[\"model\"].delete_model(name=model_to_deploy_id)\n",
    "except Exception as e:\n",
    "    print(e)\n",
    "\n",
    "# Delete the endpoint using the Vertex fully qualified identifier for the endpoint\n",
    "try:\n",
    "    if delete_endpoint and \"endpoint_id\" in globals():\n",
    "        clients[\"endpoint\"].delete_endpoint(name=endpoint_id)\n",
    "except Exception as e:\n",
    "    print(e)\n",
    "\n",
    "# Delete the batch job using the Vertex fully qualified identifier for the batch job\n",
    "try:\n",
    "    if delete_batchjob and \"batch_job_id\" in globals():\n",
    "        clients[\"job\"].delete_batch_prediction_job(name=batch_job_id)\n",
    "except Exception as e:\n",
    "    print(e)\n",
    "\n",
    "# Delete the custom job using the Vertex fully qualified identifier for the custom job\n",
    "try:\n",
    "    if delete_customjob and \"job_id\" in globals():\n",
    "        clients[\"job\"].delete_custom_job(name=job_id)\n",
    "except Exception as e:\n",
    "    print(e)\n",
    "\n",
    "# Delete the hyperparameter tuning job using the Vertex fully qualified identifier for the hyperparameter tuning job\n",
    "try:\n",
    "    if delete_hptjob and \"hpt_job_id\" in globals():\n",
    "        clients[\"job\"].delete_hyperparameter_tuning_job(name=hpt_job_id)\n",
    "except Exception as e:\n",
    "    print(e)\n",
    "\n",
    "if delete_bucket and \"BUCKET_NAME\" in globals():\n",
    "    ! gsutil rm -r $BUCKET_NAME"
   ]
  }
 ],
 "metadata": {
  "colab": {
   "name": "showcase_automl_tabular_classification_export_cloud.ipynb",
   "toc_visible": true
  },
  "kernelspec": {
   "display_name": "Python 3",
   "name": "python3"
  }
 },
 "nbformat": 4,
 "nbformat_minor": 0
}
