{
 "cells": [
  {
   "cell_type": "code",
   "execution_count": null,
   "metadata": {
    "id": "copyright"
   },
   "outputs": [],
   "source": [
    "# Copyright 2020 Google LLC\n",
    "#\n",
    "# Licensed under the Apache License, Version 2.0 (the \"License\");\n",
    "# you may not use this file except in compliance with the License.\n",
    "# You may obtain a copy of the License at\n",
    "#\n",
    "#     https://www.apache.org/licenses/LICENSE-2.0\n",
    "#\n",
    "# Unless required by applicable law or agreed to in writing, software\n",
    "# distributed under the License is distributed on an \"AS IS\" BASIS,\n",
    "# WITHOUT WARRANTIES OR CONDITIONS OF ANY KIND, either express or implied.\n",
    "# See the License for the specific language governing permissions and\n",
    "# limitations under the License."
   ]
  },
  {
   "cell_type": "markdown",
   "metadata": {
    "id": "title"
   },
   "source": [
    "# Vertex客户端库：自定义训练文本二元分类模型进行在线预测\n",
    "\n",
    "<table align=\"left\">\n",
    "  <td>\n",
    "    <a href=\"https://colab.research.google.com/github/GoogleCloudPlatform/vertex-ai-samples/blob/master/notebooks/community/gapic/custom/showcase_custom_text_binary_classification_online.ipynb\">\n",
    "      <img src=\"https://cloud.google.com/ml-engine/images/colab-logo-32px.png\" alt=\"Colab logo\"> 在Colab中运行\n",
    "    </a>\n",
    "  </td>\n",
    "  <td>\n",
    "    <a href=\"https://github.com/GoogleCloudPlatform/vertex-ai-samples/blob/master/notebooks/community/gapic/custom/showcase_custom_text_binary_classification_online.ipynb\">\n",
    "      <img src=\"https://cloud.google.com/ml-engine/images/github-logo-32px.png\" alt=\"GitHub logo\">\n",
    "      在GitHub上查看\n",
    "    </a>\n",
    "  </td>\n",
    "</table>\n",
    "<br/><br/><br/>"
   ]
  },
  {
   "cell_type": "markdown",
   "metadata": {
    "id": "overview:custom"
   },
   "source": [
    "## 概述\n",
    "\n",
    "本教程演示了如何使用Python的Vertex客户端库来训练和部署一个自定义文本二元分类模型，用于在线预测。"
   ]
  },
  {
   "cell_type": "markdown",
   "metadata": {
    "id": "dataset:custom,imdb,tbn"
   },
   "source": [
    "### 数据集\n",
    "\n",
    "本教程使用的数据集是来自[TensorFlow数据集](https://www.tensorflow.org/datasets/catalog/overview)的[IMDB电影评论](https://www.tensorflow.org/datasets/catalog/imdb_reviews)。您在本教程中使用的数据集版本存储在一个公共云存储桶中。训练好的模型可以预测一条评论是积极还是消极的情感。"
   ]
  },
  {
   "cell_type": "markdown",
   "metadata": {
    "id": "objective:custom,training,online_prediction"
   },
   "source": [
    "###目标\n",
    "\n",
    "在本教程中，您将使用Vertex客户端库在Google预构建的Docker容器中从Python脚本创建自定义模型，然后通过发送数据对部署的模型进行预测。您还可以选择使用`gcloud`命令行工具或在Google Cloud控制台上在线创建自定义模型。\n",
    "\n",
    "执行的步骤包括：\n",
    "\n",
    "- 创建用于训练模型的Vertex自定义作业。\n",
    "- 训练一个TensorFlow模型。\n",
    "- 检索并加载模型工件。\n",
    "- 查看模型评估。\n",
    "- 将模型上传为Vertex`模型`资源。\n",
    "- 将`模型`资源部署到服务`端点`资源。\n",
    "- 进行预测。\n",
    "- 取消部署`模型`资源。"
   ]
  },
  {
   "cell_type": "markdown",
   "metadata": {
    "id": "costs"
   },
   "source": [
    "费用\n",
    "\n",
    "本教程使用 Google Cloud（GCP）的计费组件：\n",
    "\n",
    "* Vertex AI\n",
    "* Cloud Storage\n",
    "\n",
    "了解 [Vertex AI\n",
    "定价](https://cloud.google.com/vertex-ai/pricing) 和 [Cloud Storage\n",
    "定价](https://cloud.google.com/storage/pricing)，并使用 [定价计算器](https://cloud.google.com/products/calculator/)\n",
    "根据您的预期使用量生成成本估算。"
   ]
  },
  {
   "cell_type": "markdown",
   "metadata": {
    "id": "install_aip"
   },
   "source": [
    "## 安装\n",
    "\n",
    "安装最新版本的Vertex客户端库。"
   ]
  },
  {
   "cell_type": "code",
   "execution_count": null,
   "metadata": {
    "id": "install_aip"
   },
   "outputs": [],
   "source": [
    "import os\n",
    "import sys\n",
    "\n",
    "# Google Cloud Notebook\n",
    "if os.path.exists(\"/opt/deeplearning/metadata/env_version\"):\n",
    "    USER_FLAG = \"--user\"\n",
    "else:\n",
    "    USER_FLAG = \"\"\n",
    "\n",
    "! pip3 install -U google-cloud-aiplatform $USER_FLAG"
   ]
  },
  {
   "cell_type": "markdown",
   "metadata": {
    "id": "install_storage"
   },
   "source": [
    "安装最新的*google-cloud-storage*库版本。"
   ]
  },
  {
   "cell_type": "code",
   "execution_count": null,
   "metadata": {
    "id": "install_storage"
   },
   "outputs": [],
   "source": [
    "! pip3 install -U google-cloud-storage $USER_FLAG"
   ]
  },
  {
   "cell_type": "markdown",
   "metadata": {
    "id": "restart"
   },
   "source": [
    "### 重新启动内核\n",
    "\n",
    "一旦您安装了Vertex客户端库和Google *云存储*，您需要重新启动笔记本内核，以便它能找到这些包。"
   ]
  },
  {
   "cell_type": "code",
   "execution_count": null,
   "metadata": {
    "id": "restart"
   },
   "outputs": [],
   "source": [
    "if not os.getenv(\"IS_TESTING\"):\n",
    "    # Automatically restart kernel after installs\n",
    "    import IPython\n",
    "\n",
    "    app = IPython.Application.instance()\n",
    "    app.kernel.do_shutdown(True)"
   ]
  },
  {
   "cell_type": "markdown",
   "metadata": {
    "id": "before_you_begin"
   },
   "source": [
    "## 开始之前\n",
    "\n",
    "### GPU 运行时\n",
    "\n",
    "*确保如果有的话，你正在 GPU 运行时中运行这个笔记本。在 Colab 中，选择* **运行时 > 更改运行时类型 > GPU**\n",
    "\n",
    "### 设置你的谷歌云项目\n",
    "\n",
    "**无论您的笔记本环境如何，都需要按照以下步骤进行。**\n",
    "\n",
    "1. [选择或创建一个谷歌云项目](https://console.cloud.google.com/cloud-resource-manager)。当您第一次创建账户时，您将获得 $300 的免费信用用于计算/存储成本。\n",
    "\n",
    "2. [确保为您的项目启用了计费。](https://cloud.google.com/billing/docs/how-to/modify-project)\n",
    "\n",
    "3. [启用 Vertex API 和 Compute Engine API。](https://console.cloud.google.com/flows/enableapi?apiid=ml.googleapis.com,compute_component)\n",
    "\n",
    "4. [谷歌云 SDK](https://cloud.google.com/sdk) 已经安装在谷歌云笔记本中。\n",
    "\n",
    "5. 在下面的单元格中输入您的项目 ID。然后运行该单元格以确保 Cloud SDK 在本笔记本中的所有命令中使用正确的项目。\n",
    "\n",
    "**注意**：Jupyter 在带 `!` 前缀的行上运行为 Shell 命令，并且它将带 `$` 前缀的 Python 变量插入这些命令中。"
   ]
  },
  {
   "cell_type": "code",
   "execution_count": null,
   "metadata": {
    "id": "set_project_id"
   },
   "outputs": [],
   "source": [
    "PROJECT_ID = \"[your-project-id]\"  # @param {type:\"string\"}"
   ]
  },
  {
   "cell_type": "code",
   "execution_count": null,
   "metadata": {
    "id": "autoset_project_id"
   },
   "outputs": [],
   "source": [
    "if PROJECT_ID == \"\" or PROJECT_ID is None or PROJECT_ID == \"[your-project-id]\":\n",
    "    # Get your GCP project id from gcloud\n",
    "    shell_output = !gcloud config list --format 'value(core.project)' 2>/dev/null\n",
    "    PROJECT_ID = shell_output[0]\n",
    "    print(\"Project ID:\", PROJECT_ID)"
   ]
  },
  {
   "cell_type": "code",
   "execution_count": null,
   "metadata": {
    "id": "set_gcloud_project_id"
   },
   "outputs": [],
   "source": [
    "! gcloud config set project $PROJECT_ID"
   ]
  },
  {
   "cell_type": "markdown",
   "metadata": {
    "id": "region"
   },
   "source": [
    "#### 区域\n",
    "\n",
    "您还可以更改 `REGION` 变量，该变量用于本笔记本的其余部分操作。以下是 Vertex 支持的区域。我们建议您选择离您最近的区域。\n",
    "\n",
    "- 美洲：`us-central1`\n",
    "- 欧洲：`europe-west4`\n",
    "- 亚太地区：`asia-east1`\n",
    "\n",
    "您可能不会使用多区域存储桶进行 Vertex 的训练。并非所有区域都支持所有Vertex服务。有关每个区域的最新支持，请参阅[Vertex位置文档](https://cloud.google.com/vertex-ai/docs/general/locations)。"
   ]
  },
  {
   "cell_type": "code",
   "execution_count": null,
   "metadata": {
    "id": "region"
   },
   "outputs": [],
   "source": [
    "REGION = \"us-central1\"  # @param {type: \"string\"}"
   ]
  },
  {
   "cell_type": "markdown",
   "metadata": {
    "id": "timestamp"
   },
   "source": [
    "时间戳\n",
    "\n",
    "如果您正在进行实时教程会话，您可能正在使用共享测试帐户或项目。为了避免用户之间在创建的资源上发生名称冲突，您为每个实例会话创建一个时间戳，并追加到将在本教程中创建的资源的名称上。"
   ]
  },
  {
   "cell_type": "code",
   "execution_count": null,
   "metadata": {
    "id": "timestamp"
   },
   "outputs": [],
   "source": [
    "from datetime import datetime\n",
    "\n",
    "TIMESTAMP = datetime.now().strftime(\"%Y%m%d%H%M%S\")"
   ]
  },
  {
   "cell_type": "markdown",
   "metadata": {
    "id": "gcp_authenticate"
   },
   "source": [
    "### 验证您的Google Cloud帐户\n",
    "\n",
    "**如果您正在使用Google Cloud Notebook**，您的环境已经通过验证。跳过此步骤。\n",
    "\n",
    "**如果您正在使用Colab**，运行下面的单元格，并按提示进行身份验证以通过oAuth验证您的帐户。\n",
    "\n",
    "**否则**，请按照以下步骤操作：\n",
    "\n",
    "在Cloud控制台中，转到[创建服务帐户密钥](https://console.cloud.google.com/apis/credentials/serviceaccountkey)页面。\n",
    "\n",
    "**点击创建服务帐户**。\n",
    "\n",
    "在**服务帐户名称**字段中输入名称，然后点击**创建**。\n",
    "\n",
    "在**将此服务帐户授予对项目的访问权限**部分，点击角色下拉列表。在筛选框中键入\"Vertex\"，选择**Vertex管理员**。在筛选框中键入\"Storage Object Admin\"，选择**存储对象管理员**。\n",
    "\n",
    "点击创建。将包含您密钥的JSON文件下载到本地环境。\n",
    "\n",
    "在下面的单元格中将您的服务帐户密钥路径输入为GOOGLE_APPLICATION_CREDENTIALS变量，然后运行该单元格。"
   ]
  },
  {
   "cell_type": "code",
   "execution_count": null,
   "metadata": {
    "id": "gcp_authenticate"
   },
   "outputs": [],
   "source": [
    "# If you are running this notebook in Colab, run this cell and follow the\n",
    "# instructions to authenticate your GCP account. This provides access to your\n",
    "# Cloud Storage bucket and lets you submit training jobs and prediction\n",
    "# requests.\n",
    "\n",
    "# If on Google Cloud Notebook, then don't execute this code\n",
    "if not os.path.exists(\"/opt/deeplearning/metadata/env_version\"):\n",
    "    if \"google.colab\" in sys.modules:\n",
    "        from google.colab import auth as google_auth\n",
    "\n",
    "        google_auth.authenticate_user()\n",
    "\n",
    "    # If you are running this notebook locally, replace the string below with the\n",
    "    # path to your service account key and run this cell to authenticate your GCP\n",
    "    # account.\n",
    "    elif not os.getenv(\"IS_TESTING\"):\n",
    "        %env GOOGLE_APPLICATION_CREDENTIALS ''"
   ]
  },
  {
   "cell_type": "markdown",
   "metadata": {
    "id": "bucket:custom"
   },
   "source": [
    "### 创建一个云存储桶\n",
    "\n",
    "**无论您的笔记本环境如何，都需要以下步骤。**\n",
    "\n",
    "当您使用Vertex客户端库提交自定义训练作业时，您需要将包含训练代码的Python包上传到一个云存储桶中。Vertex会从该包中运行代码。在这个教程中，Vertex还会将训练好的模型保存在同一个存储桶中。然后，您可以基于这个输出创建一个`Endpoint`资源，以便提供在线预测。\n",
    "\n",
    "请在下面设置您的Cloud Storage桶的名称。桶的名称必须在所有Google Cloud项目中全局唯一，包括您组织之外的项目。"
   ]
  },
  {
   "cell_type": "code",
   "execution_count": null,
   "metadata": {
    "id": "bucket"
   },
   "outputs": [],
   "source": [
    "BUCKET_NAME = \"gs://[your-bucket-name]\"  # @param {type:\"string\"}"
   ]
  },
  {
   "cell_type": "code",
   "execution_count": null,
   "metadata": {
    "id": "autoset_bucket"
   },
   "outputs": [],
   "source": [
    "if BUCKET_NAME == \"\" or BUCKET_NAME is None or BUCKET_NAME == \"gs://[your-bucket-name]\":\n",
    "    BUCKET_NAME = \"gs://\" + PROJECT_ID + \"aip-\" + TIMESTAMP"
   ]
  },
  {
   "cell_type": "markdown",
   "metadata": {
    "id": "create_bucket"
   },
   "source": [
    "只有当您的存储桶尚不存在时才运行以下单元格以创建您的云存储存储桶。"
   ]
  },
  {
   "cell_type": "code",
   "execution_count": null,
   "metadata": {
    "id": "create_bucket"
   },
   "outputs": [],
   "source": [
    "! gsutil mb -l $REGION $BUCKET_NAME"
   ]
  },
  {
   "cell_type": "markdown",
   "metadata": {
    "id": "validate_bucket"
   },
   "source": [
    "最后，通过检查Cloud Storage存储桶的内容来验证访问权限。"
   ]
  },
  {
   "cell_type": "code",
   "execution_count": null,
   "metadata": {
    "id": "validate_bucket"
   },
   "outputs": [],
   "source": [
    "! gsutil ls -al $BUCKET_NAME"
   ]
  },
  {
   "cell_type": "markdown",
   "metadata": {
    "id": "setup_vars"
   },
   "source": [
    "### 设置变量\n",
    "\n",
    "接下来，设置一些在整个教程中将要使用的变量。\n",
    "### 导入库并定义常量"
   ]
  },
  {
   "cell_type": "markdown",
   "metadata": {
    "id": "import_aip:protobuf"
   },
   "source": [
    "#### 导入Vertex客户端库\n",
    "\n",
    "将Vertex客户端库导入到我们的Python环境中。"
   ]
  },
  {
   "cell_type": "code",
   "execution_count": null,
   "metadata": {
    "id": "import_aip:protobuf"
   },
   "outputs": [],
   "source": [
    "import time\n",
    "\n",
    "from google.cloud.aiplatform import gapic as aip\n",
    "from google.protobuf import json_format\n",
    "from google.protobuf.json_format import MessageToJson, ParseDict\n",
    "from google.protobuf.struct_pb2 import Struct, Value"
   ]
  },
  {
   "cell_type": "markdown",
   "metadata": {
    "id": "aip_constants"
   },
   "source": [
    "顶点常量\n",
    "\n",
    "为顶点设置以下常量：\n",
    "\n",
    "- `API_ENDPOINT`：顶点 API 服务的数据集，模型，作业，管道和端点服务端点。\n",
    "- `PARENT`：顶点位置的根路径，用于数据集，模型，作业，管道和端点资源。"
   ]
  },
  {
   "cell_type": "code",
   "execution_count": null,
   "metadata": {
    "id": "aip_constants"
   },
   "outputs": [],
   "source": [
    "# API service endpoint\n",
    "API_ENDPOINT = \"{}-aiplatform.googleapis.com\".format(REGION)\n",
    "\n",
    "# Vertex location root path for your dataset, model and endpoint resources\n",
    "PARENT = \"projects/\" + PROJECT_ID + \"/locations/\" + REGION"
   ]
  },
  {
   "cell_type": "markdown",
   "metadata": {
    "id": "accelerators:training,cpu,prediction,cpu"
   },
   "source": [
    "硬件加速器\n",
    "\n",
    "设置训练和预测的硬件加速器（如 GPU）。\n",
    "\n",
    "设置变量 `TRAIN_GPU/TRAIN_NGPU` 和 `DEPLOY_GPU/DEPLOY_NGPU` 来使用支持 GPU 的容器镜像，以及分配给虚拟机（VM）实例的 GPU 数量。例如，要使用一个包含 4 个 Nvidia Telsa K80 GPU 的 GPU 容器镜像分配给每个 VM，您应该指定：\n",
    "\n",
    "    (aip.AcceleratorType.NVIDIA_TESLA_K80, 4)\n",
    "\n",
    "对于 GPU，可用的加速器类型包括：\n",
    "   - aip.AcceleratorType.NVIDIA_TESLA_K80\n",
    "   - aip.AcceleratorType.NVIDIA_TESLA_P100\n",
    "   - aip.AcceleratorType.NVIDIA_TESLA_P4\n",
    "   - aip.AcceleratorType.NVIDIA_TESLA_T4\n",
    "   - aip.AcceleratorType.NVIDIA_TESLA_V100\n",
    "\n",
    "否则，指定 `(None, None)` 来使用一个在 CPU 上运行的容器镜像。\n",
    "\n",
    "*注*：早于 2.3 版的 TF 的 GPU 支持将无法在本教程中加载自定义模型。这是一个已知问题，并在 TF 2.3 中已经修复 -- 这是由于生成在服务函数中的静态图操作导致的。如果在您自己的自定义模型上遇到此问题，请使用带有 GPU 支持的 TF 2.3 的容器镜像。"
   ]
  },
  {
   "cell_type": "code",
   "execution_count": null,
   "metadata": {
    "id": "accelerators:training,cpu,prediction,cpu"
   },
   "outputs": [],
   "source": [
    "if os.getenv(\"IS_TESTING_TRAIN_GPU\"):\n",
    "    TRAIN_GPU, TRAIN_NGPU = (\n",
    "        aip.AcceleratorType.NVIDIA_TESLA_K80,\n",
    "        int(os.getenv(\"IS_TESTING_TRAIN_GPU\")),\n",
    "    )\n",
    "else:\n",
    "    TRAIN_GPU, TRAIN_NGPU = (None, None)\n",
    "\n",
    "if os.getenv(\"IS_TESTING_DEPOLY_GPU\"):\n",
    "    DEPLOY_GPU, DEPLOY_NGPU = (\n",
    "        aip.AcceleratorType.NVIDIA_TESLA_K80,\n",
    "        int(os.getenv(\"IS_TESTING_DEPOLY_GPU\")),\n",
    "    )\n",
    "else:\n",
    "    DEPLOY_GPU, DEPLOY_NGPU = (None, None)"
   ]
  },
  {
   "cell_type": "markdown",
   "metadata": {
    "id": "container:training,prediction"
   },
   "source": [
    "#### 容器（Docker）镜像\n",
    "\n",
    "接下来，我们将设置用于训练和预测的 Docker 容器镜像\n",
    "\n",
    "- TensorFlow 1.15\n",
    "   - `gcr.io/cloud-aiplatform/training/tf-cpu.1-15:latest`\n",
    "   - `gcr.io/cloud-aiplatform/training/tf-gpu.1-15:latest`\n",
    "- TensorFlow 2.1\n",
    "   - `gcr.io/cloud-aiplatform/training/tf-cpu.2-1:latest`\n",
    "   - `gcr.io/cloud-aiplatform/training/tf-gpu.2-1:latest`\n",
    "- TensorFlow 2.2\n",
    "   - `gcr.io/cloud-aiplatform/training/tf-cpu.2-2:latest`\n",
    "   - `gcr.io/cloud-aiplatform/training/tf-gpu.2-2:latest`\n",
    "- TensorFlow 2.3\n",
    "   - `gcr.io/cloud-aiplatform/training/tf-cpu.2-3:latest`\n",
    "   - `gcr.io/cloud-aiplatform/training/tf-gpu.2-3:latest`\n",
    "- TensorFlow 2.4\n",
    "   - `gcr.io/cloud-aiplatform/training/tf-cpu.2-4:latest`\n",
    "   - `gcr.io/cloud-aiplatform/training/tf-gpu.2-4:latest`\n",
    "- XGBoost\n",
    "   - `gcr.io/cloud-aiplatform/training/xgboost-cpu.1-1`\n",
    "- Scikit-learn\n",
    "   - `gcr.io/cloud-aiplatform/training/scikit-learn-cpu.0-23:latest`\n",
    "- Pytorch\n",
    "   - `gcr.io/cloud-aiplatform/training/pytorch-cpu.1-4:latest`\n",
    "   - `gcr.io/cloud-aiplatform/training/pytorch-cpu.1-5:latest`\n",
    "   - `gcr.io/cloud-aiplatform/training/pytorch-cpu.1-6:latest`\n",
    "   - `gcr.io/cloud-aiplatform/training/pytorch-cpu.1-7:latest`\n",
    "\n",
    "有关最新列表，请参阅[用于训练的预构建容器](https://cloud.google.com/vertex-ai/docs/training/pre-built-containers)。\n",
    "\n",
    "- TensorFlow 1.15\n",
    "   - `gcr.io/cloud-aiplatform/prediction/tf-cpu.1-15:latest`\n",
    "   - `gcr.io/cloud-aiplatform/prediction/tf-gpu.1-15:latest`\n",
    "- TensorFlow 2.1\n",
    "   - `gcr.io/cloud-aiplatform/prediction/tf2-cpu.2-1:latest`\n",
    "   - `gcr.io/cloud-aiplatform/prediction/tf2-gpu.2-1:latest`\n",
    "- TensorFlow 2.2\n",
    "   - `gcr.io/cloud-aiplatform/prediction/tf2-cpu.2-2:latest`\n",
    "   - `gcr.io/cloud-aiplatform/prediction/tf2-gpu.2-2:latest`\n",
    "- TensorFlow 2.3\n",
    "   - `gcr.io/cloud-aiplatform/prediction/tf2-cpu.2-3:latest`\n",
    "   - `gcr.io/cloud-aiplatform/prediction/tf2-gpu.2-3:latest`\n",
    "- XGBoost\n",
    "   - `gcr.io/cloud-aiplatform/prediction/xgboost-cpu.1-2:latest`\n",
    "   - `gcr.io/cloud-aiplatform/prediction/xgboost-cpu.1-1:latest`\n",
    "   - `gcr.io/cloud-aiplatform/prediction/xgboost-cpu.0-90:latest`\n",
    "   - `gcr.io/cloud-aiplatform/prediction/xgboost-cpu.0-82:latest`\n",
    "- Scikit-learn\n",
    "   - `gcr.io/cloud-aiplatform/prediction/sklearn-cpu.0-23:latest`\n",
    "   - `gcr.io/cloud-aiplatform/prediction/sklearn-cpu.0-22:latest`\n",
    "   - `gcr.io/cloud-aiplatform/prediction/sklearn-cpu.0-20:latest`\n",
    "\n",
    "有关最新列表，请参阅[用于预测的预构建容器](https://cloud.google.com/vertex-ai/docs/predictions/pre-built-containers)"
   ]
  },
  {
   "cell_type": "code",
   "execution_count": null,
   "metadata": {
    "id": "container:training,prediction"
   },
   "outputs": [],
   "source": [
    "if os.getenv(\"IS_TESTING_TF\"):\n",
    "    TF = os.getenv(\"IS_TESTING_TF\")\n",
    "else:\n",
    "    TF = \"2-1\"\n",
    "\n",
    "if TF[0] == \"2\":\n",
    "    if TRAIN_GPU:\n",
    "        TRAIN_VERSION = \"tf-gpu.{}\".format(TF)\n",
    "    else:\n",
    "        TRAIN_VERSION = \"tf-cpu.{}\".format(TF)\n",
    "    if DEPLOY_GPU:\n",
    "        DEPLOY_VERSION = \"tf2-gpu.{}\".format(TF)\n",
    "    else:\n",
    "        DEPLOY_VERSION = \"tf2-cpu.{}\".format(TF)\n",
    "else:\n",
    "    if TRAIN_GPU:\n",
    "        TRAIN_VERSION = \"tf-gpu.{}\".format(TF)\n",
    "    else:\n",
    "        TRAIN_VERSION = \"tf-cpu.{}\".format(TF)\n",
    "    if DEPLOY_GPU:\n",
    "        DEPLOY_VERSION = \"tf-gpu.{}\".format(TF)\n",
    "    else:\n",
    "        DEPLOY_VERSION = \"tf-cpu.{}\".format(TF)\n",
    "\n",
    "TRAIN_IMAGE = \"gcr.io/cloud-aiplatform/training/{}:latest\".format(TRAIN_VERSION)\n",
    "DEPLOY_IMAGE = \"gcr.io/cloud-aiplatform/prediction/{}:latest\".format(DEPLOY_VERSION)\n",
    "\n",
    "print(\"Training:\", TRAIN_IMAGE, TRAIN_GPU, TRAIN_NGPU)\n",
    "print(\"Deployment:\", DEPLOY_IMAGE, DEPLOY_GPU, DEPLOY_NGPU)"
   ]
  },
  {
   "cell_type": "markdown",
   "metadata": {
    "id": "machine:training,prediction"
   },
   "source": [
    "#### 机器类型\n",
    "\n",
    "接下来，设置用于训练和预测的机器类型。\n",
    "\n",
    "- 设置变量`TRAIN_COMPUTE`和`DEPLOY_COMPUTE`来配置用于训练和预测的虚拟机的计算资源。\n",
    "- `机器类型`\n",
    "    - `n1-standard`：每个vCPU 3.75GB的内存。\n",
    "    - `n1-highmem`：每个vCPU 6.5GB的内存。\n",
    "    - `n1-highcpu`：每个vCPU 0.9GB的内存。\n",
    "- `vCPUs`：\\ [2, 4, 8, 16, 32, 64, 96 \\]的数量\n",
    "\n",
    "*注意：以下内容不支持用于训练：*\n",
    "\n",
    "- `standard`：2个vCPUs\n",
    "- `highcpu`：2、4和8个vCPUs\n",
    "\n",
    "*注意：您也可以使用n2和e2机器类型进行训练和部署，但它们不支持GPU*。"
   ]
  },
  {
   "cell_type": "code",
   "execution_count": null,
   "metadata": {
    "id": "machine:training,prediction"
   },
   "outputs": [],
   "source": [
    "if os.getenv(\"IS_TESTING_TRAIN_MACHINE\"):\n",
    "    MACHINE_TYPE = os.getenv(\"IS_TESTING_TRAIN_MACHINE\")\n",
    "else:\n",
    "    MACHINE_TYPE = \"n1-standard\"\n",
    "\n",
    "VCPU = \"4\"\n",
    "TRAIN_COMPUTE = MACHINE_TYPE + \"-\" + VCPU\n",
    "print(\"Train machine type\", TRAIN_COMPUTE)\n",
    "\n",
    "if os.getenv(\"IS_TESTING_DEPLOY_MACHINE\"):\n",
    "    MACHINE_TYPE = os.getenv(\"IS_TESTING_DEPLOY_MACHINE\")\n",
    "else:\n",
    "    MACHINE_TYPE = \"n1-standard\"\n",
    "\n",
    "VCPU = \"4\"\n",
    "DEPLOY_COMPUTE = MACHINE_TYPE + \"-\" + VCPU\n",
    "print(\"Deploy machine type\", DEPLOY_COMPUTE)"
   ]
  },
  {
   "cell_type": "markdown",
   "metadata": {
    "id": "tutorial_start:custom"
   },
   "source": [
    "# 教程\n",
    "\n",
    "现在您已经准备好开始为IMDB电影评论创建自己的自定义模型和培训。"
   ]
  },
  {
   "cell_type": "markdown",
   "metadata": {
    "id": "clients:custom"
   },
   "source": [
    "## 设置客户端\n",
    "\n",
    "Vertex客户端库作为客户端/服务器模型工作。在您的一侧（Python脚本），您将创建一个客户端，该客户端从Vertex服务器发送请求并接收响应。\n",
    "\n",
    "在本教程中，您将为工作流的不同步骤使用不同的客户端。因此，请提前设置它们。\n",
    "\n",
    "- 用于`Model`资源的Model服务。\n",
    "- 用于部署的Endpoint服务。\n",
    "- 用于批处理作业和自定义训练的Job服务。\n",
    "- 用于服务的Prediction服务。"
   ]
  },
  {
   "cell_type": "code",
   "execution_count": null,
   "metadata": {
    "id": "clients:custom"
   },
   "outputs": [],
   "source": [
    "# client options same for all services\n",
    "client_options = {\"api_endpoint\": API_ENDPOINT}\n",
    "\n",
    "\n",
    "def create_job_client():\n",
    "    client = aip.JobServiceClient(client_options=client_options)\n",
    "    return client\n",
    "\n",
    "\n",
    "def create_model_client():\n",
    "    client = aip.ModelServiceClient(client_options=client_options)\n",
    "    return client\n",
    "\n",
    "\n",
    "def create_endpoint_client():\n",
    "    client = aip.EndpointServiceClient(client_options=client_options)\n",
    "    return client\n",
    "\n",
    "\n",
    "def create_prediction_client():\n",
    "    client = aip.PredictionServiceClient(client_options=client_options)\n",
    "    return client\n",
    "\n",
    "\n",
    "clients = {}\n",
    "clients[\"job\"] = create_job_client()\n",
    "clients[\"model\"] = create_model_client()\n",
    "clients[\"endpoint\"] = create_endpoint_client()\n",
    "clients[\"prediction\"] = create_prediction_client()\n",
    "\n",
    "for client in clients.items():\n",
    "    print(client)"
   ]
  },
  {
   "cell_type": "markdown",
   "metadata": {
    "id": "train_custom_model"
   },
   "source": [
    "## 训练模型\n",
    "\n",
    "有两种方式可以使用容器镜像来训练一个自定义模型：\n",
    "\n",
    "- **使用Google Cloud预构建容器**。如果使用预构建容器，您还需要指定一个要安装到容器镜像中的Python包。这个Python包包含了用于训练自定义模型的代码。\n",
    "\n",
    "- **使用您自己的自定义容器镜像**。如果使用自己的容器，容器需要包含您的用于训练自定义模型的代码。"
   ]
  },
  {
   "cell_type": "markdown",
   "metadata": {
    "id": "train_custom_job_specification:prebuilt_container"
   },
   "source": [
    "准备您的自定义工作规范\n",
    "\n",
    "现在您的客户准备好了，您的第一步是为您的定制培训工作创建一个工作规范。该工作规范将包括以下内容：\n",
    "\n",
    "- `worker_pool_spec`：用于培训的机器类型规范以及使用的数量（单个或分布式）\n",
    "- `python_package_spec`：要与预构建容器一起安装的Python软件包规范。"
   ]
  },
  {
   "cell_type": "markdown",
   "metadata": {
    "id": "train_custom_job_machine_specification"
   },
   "source": [
    "### 准备机器规格\n",
    "\n",
    "现在为您的自定义训练作业定义机器规格。这告诉 Vertex 需要为训练提供什么类型的机器实例。\n",
    "  - `machine_type`：要提供的 GCP 实例类型 -- 例如，n1-standard-8。\n",
    "  - `accelerator_type`：硬件加速器的类型，如果有的话。在本教程中，如果之前设置了变量`TRAIN_GPU != None`，则使用 GPU；否则将使用 CPU。\n",
    "  - `accelerator_count`：加速器的数量。"
   ]
  },
  {
   "cell_type": "code",
   "execution_count": null,
   "metadata": {
    "id": "train_custom_job_machine_specification"
   },
   "outputs": [],
   "source": [
    "if TRAIN_GPU:\n",
    "    machine_spec = {\n",
    "        \"machine_type\": TRAIN_COMPUTE,\n",
    "        \"accelerator_type\": TRAIN_GPU,\n",
    "        \"accelerator_count\": TRAIN_NGPU,\n",
    "    }\n",
    "else:\n",
    "    machine_spec = {\"machine_type\": TRAIN_COMPUTE, \"accelerator_count\": 0}"
   ]
  },
  {
   "cell_type": "markdown",
   "metadata": {
    "id": "train_custom_job_disk_specification"
   },
   "source": [
    "### 准备您的磁盘规格\n",
    "\n",
    "（可选）现在为您定制的训练作业定义磁盘规格。这会告诉 Vertex 在每台训练机器实例上提供什么类型和大小的磁盘。\n",
    "\n",
    "- `boot_disk_type`: 可选SSD或Standard。SSD速度更快，Standard价格更低。默认为SSD。\n",
    "- `boot_disk_size_gb`: 磁盘大小（GB）。"
   ]
  },
  {
   "cell_type": "code",
   "execution_count": null,
   "metadata": {
    "id": "train_custom_job_disk_specification"
   },
   "outputs": [],
   "source": [
    "DISK_TYPE = \"pd-ssd\"  # [ pd-ssd, pd-standard]\n",
    "DISK_SIZE = 200  # GB\n",
    "\n",
    "disk_spec = {\"boot_disk_type\": DISK_TYPE, \"boot_disk_size_gb\": DISK_SIZE}"
   ]
  },
  {
   "cell_type": "markdown",
   "metadata": {
    "id": "train_custom_job_worker_pool_specification:prebuilt_container"
   },
   "source": [
    "### 定义worker池规范\n",
    "\n",
    "接下来，您需要定义自定义训练任务的worker池规范。worker池规范将包括以下内容：\n",
    "\n",
    "- `replica_count`：要准备的此机器类型的实例数。\n",
    "- `machine_spec`：硬件规范。\n",
    "- `disk_spec`：（可选）磁盘存储规范。\n",
    "\n",
    "- `python_package`：要安装在VM实例上的Python训练包，以及要调用的Python模块，以及Python模块的命令行参数。\n",
    "\n",
    "现在让我们深入了解Python包规范：\n",
    "\n",
    "- `executor_image_spec`：这是为您的自定义训练任务配置的docker映像。\n",
    "\n",
    "- `package_uris`：这是要在预配实例上安装的Python训练包的位置（URI）列表。这些位置需要在Cloud Storage存储桶中。这可以是单独的Python文件或整个包的zip（归档）。在后一种情况下，作业服务将解压缩（解档）内容到docker映像中。\n",
    "\n",
    "- `python_module`：用于运行自定义训练任务的Python模块（脚本）。在本例中，您将调用 `trainer.task.py` -- 请注意，无需附加 `.py` 后缀。\n",
    "\n",
    "- `args`：传递给相应Python模块的命令行参数。在本例中，您将设置：\n",
    "  - `\"--model-dir=\" + MODEL_DIR`：要存储模型工件的Cloud Storage位置。告诉训练脚本保存模型工件的两种方法：\n",
    "      - 直接：将Cloud Storage位置作为命令行参数传递给训练脚本（设置变量 `DIRECT = True`）。\n",
    "      - 间接：服务将Cloud Storage位置作为环境变量 `AIP_MODEL_DIR` 传递给训练脚本（设置变量 `DIRECT = False`）。在这种情况下，在作业规范中告知服务模型工件位置。\n",
    "  - `\"--epochs=\" + EPOCHS`：训练的时期数。\n",
    "  - `\"--steps=\" + STEPS`：每个时期的步骤（批次）数。\n",
    "  - `\"--distribute=\" + TRAIN_STRATEGY\"`：用于单个或分布式训练的训练分发策略。\n",
    "     - `\"single\"`：单个设备。\n",
    "     - `\"mirror\"`：单个计算实例上的所有GPU设备。\n",
    "     - `\"multi\"`：所有计算实例上的所有GPU设备。"
   ]
  },
  {
   "cell_type": "code",
   "execution_count": null,
   "metadata": {
    "id": "train_custom_job_worker_pool_specification:prebuilt_container"
   },
   "outputs": [],
   "source": [
    "JOB_NAME = \"custom_job_\" + TIMESTAMP\n",
    "MODEL_DIR = \"{}/{}\".format(BUCKET_NAME, JOB_NAME)\n",
    "\n",
    "if not TRAIN_NGPU or TRAIN_NGPU < 2:\n",
    "    TRAIN_STRATEGY = \"single\"\n",
    "else:\n",
    "    TRAIN_STRATEGY = \"mirror\"\n",
    "\n",
    "EPOCHS = 20\n",
    "STEPS = 100\n",
    "\n",
    "DIRECT = True\n",
    "if DIRECT:\n",
    "    CMDARGS = [\n",
    "        \"--model-dir=\" + MODEL_DIR,\n",
    "        \"--epochs=\" + str(EPOCHS),\n",
    "        \"--steps=\" + str(STEPS),\n",
    "        \"--distribute=\" + TRAIN_STRATEGY,\n",
    "    ]\n",
    "else:\n",
    "    CMDARGS = [\n",
    "        \"--epochs=\" + str(EPOCHS),\n",
    "        \"--steps=\" + str(STEPS),\n",
    "        \"--distribute=\" + TRAIN_STRATEGY,\n",
    "    ]\n",
    "\n",
    "worker_pool_spec = [\n",
    "    {\n",
    "        \"replica_count\": 1,\n",
    "        \"machine_spec\": machine_spec,\n",
    "        \"disk_spec\": disk_spec,\n",
    "        \"python_package_spec\": {\n",
    "            \"executor_image_uri\": TRAIN_IMAGE,\n",
    "            \"package_uris\": [BUCKET_NAME + \"/trainer_imdb.tar.gz\"],\n",
    "            \"python_module\": \"trainer.task\",\n",
    "            \"args\": CMDARGS,\n",
    "        },\n",
    "    }\n",
    "]"
   ]
  },
  {
   "cell_type": "markdown",
   "metadata": {
    "id": "assemble_custom_job_specification"
   },
   "source": [
    "###组装工作规范\n",
    "\n",
    "现在组装定制工作规范的完整描述：\n",
    "\n",
    "- `display_name`：您为此定制工作分配的可读名称。\n",
    "- `job_spec`：定制工作的规范。\n",
    "    - `worker_pool_specs`：机器VM实例的规范。\n",
    "    - `base_output_directory`：这告诉服务在哪里保存模型工件的云存储位置（当变量`DIRECT = False`时）。 然后服务将将位置作为环境变量`AIP_MODEL_DIR`传递给训练脚本，路径将为：\n",
    "\n",
    "                <output_uri_prefix>/model"
   ]
  },
  {
   "cell_type": "code",
   "execution_count": null,
   "metadata": {
    "id": "assemble_custom_job_specification"
   },
   "outputs": [],
   "source": [
    "if DIRECT:\n",
    "    job_spec = {\"worker_pool_specs\": worker_pool_spec}\n",
    "else:\n",
    "    job_spec = {\n",
    "        \"worker_pool_specs\": worker_pool_spec,\n",
    "        \"base_output_directory\": {\"output_uri_prefix\": MODEL_DIR},\n",
    "    }\n",
    "\n",
    "custom_job = {\"display_name\": JOB_NAME, \"job_spec\": job_spec}"
   ]
  },
  {
   "cell_type": "markdown",
   "metadata": {
    "id": "examine_training_package"
   },
   "source": [
    "### 检查培训套件\n",
    "\n",
    "#### 套件布局\n",
    "\n",
    "在开始培训之前，您将查看Python套件如何为自定义培训任务组装而成。解压后，该套件包含以下目录/文件布局。\n",
    "\n",
    "- PKG-INFO\n",
    "- README.md\n",
    "- setup.cfg\n",
    "- setup.py\n",
    "- trainer\n",
    "  - \\_\\_init\\_\\_.py\n",
    "  - task.py\n",
    "\n",
    "文件`setup.cfg`和`setup.py`是将套件安装到Docker镜像的操作环境的指南。\n",
    "\n",
    "文件`trainer/task.py`是执行自定义培训任务的Python脚本。*注意*，当我们在工作进程池规范中引用它时，我们用点(`trainer.task`)替换目录斜杠，并且删除文件后缀(`.py`)。\n",
    "\n",
    "#### 套件组装\n",
    "\n",
    "在接下来的单元格中，您将组装培训套件。"
   ]
  },
  {
   "cell_type": "code",
   "execution_count": null,
   "metadata": {
    "id": "examine_training_package"
   },
   "outputs": [],
   "source": [
    "# Make folder for Python training script\n",
    "! rm -rf custom\n",
    "! mkdir custom\n",
    "\n",
    "# Add package information\n",
    "! touch custom/README.md\n",
    "\n",
    "setup_cfg = \"[egg_info]\\n\\ntag_build =\\n\\ntag_date = 0\"\n",
    "! echo \"$setup_cfg\" > custom/setup.cfg\n",
    "\n",
    "setup_py = \"import setuptools\\n\\nsetuptools.setup(\\n\\n    install_requires=[\\n\\n        'tensorflow_datasets==1.3.0',\\n\\n    ],\\n\\n    packages=setuptools.find_packages())\"\n",
    "! echo \"$setup_py\" > custom/setup.py\n",
    "\n",
    "pkg_info = \"Metadata-Version: 1.0\\n\\nName: IMDB Movie Reviews text binary classification\\n\\nVersion: 0.0.0\\n\\nSummary: Demostration training script\\n\\nHome-page: www.google.com\\n\\nAuthor: Google\\n\\nAuthor-email: aferlitsch@google.com\\n\\nLicense: Public\\n\\nDescription: Demo\\n\\nPlatform: Vertex\"\n",
    "! echo \"$pkg_info\" > custom/PKG-INFO\n",
    "\n",
    "# Make the training subfolder\n",
    "! mkdir custom/trainer\n",
    "! touch custom/trainer/__init__.py"
   ]
  },
  {
   "cell_type": "markdown",
   "metadata": {
    "id": "taskpy_contents:imdb"
   },
   "source": [
    "#### Task.py 内容\n",
    "\n",
    "在下一个单元格中，您可以编写训练脚本 task.py 的内容。我不会详细说明，只是让您浏览一下。总结如下：\n",
    "\n",
    "- 从命令行获取要将模型构件保存到的目录（`--model_dir`），如果没有指定，则从环境变量 `AIP_MODEL_DIR` 中获取。\n",
    "- 从 TF Datasets (tfds) 中加载 IMDB 电影评论数据集。\n",
    "- 使用 TF.Keras 模型 API 构建一个简单的 RNN 模型。\n",
    "- 编译模型（`compile()`）。\n",
    "- 根据参数 `args.distribute` 设置训练分布策略。\n",
    "- 使用 `args.epochs` 指定的周期训练模型（`fit()`）。\n",
    "- 将训练好的模型保存到指定的模型目录（`save(args.model_dir)`）。"
   ]
  },
  {
   "cell_type": "code",
   "execution_count": null,
   "metadata": {
    "id": "taskpy_contents:imdb"
   },
   "outputs": [],
   "source": [
    "%%writefile custom/trainer/task.py\n",
    "# Single, Mirror and Multi-Machine Distributed Training for IMDB\n",
    "\n",
    "import tensorflow_datasets as tfds\n",
    "import tensorflow as tf\n",
    "from tensorflow.python.client import device_lib\n",
    "import argparse\n",
    "import os\n",
    "import sys\n",
    "tfds.disable_progress_bar()\n",
    "\n",
    "parser = argparse.ArgumentParser()\n",
    "parser.add_argument('--model-dir', dest='model_dir',\n",
    "                    default=os.getenv('AIP_MODEL_DIR'), type=str, help='Model dir.')\n",
    "parser.add_argument('--lr', dest='lr',\n",
    "                    default=1e-4, type=float,\n",
    "                    help='Learning rate.')\n",
    "parser.add_argument('--epochs', dest='epochs',\n",
    "                    default=20, type=int,\n",
    "                    help='Number of epochs.')\n",
    "parser.add_argument('--steps', dest='steps',\n",
    "                    default=100, type=int,\n",
    "                    help='Number of steps per epoch.')\n",
    "parser.add_argument('--distribute', dest='distribute', type=str, default='single',\n",
    "                    help='distributed training strategy')\n",
    "args = parser.parse_args()\n",
    "\n",
    "print('Python Version = {}'.format(sys.version))\n",
    "print('TensorFlow Version = {}'.format(tf.__version__))\n",
    "print('TF_CONFIG = {}'.format(os.environ.get('TF_CONFIG', 'Not found')))\n",
    "print(device_lib.list_local_devices())\n",
    "\n",
    "# Single Machine, single compute device\n",
    "if args.distribute == 'single':\n",
    "    if tf.test.is_gpu_available():\n",
    "        strategy = tf.distribute.OneDeviceStrategy(device=\"/gpu:0\")\n",
    "    else:\n",
    "        strategy = tf.distribute.OneDeviceStrategy(device=\"/cpu:0\")\n",
    "# Single Machine, multiple compute device\n",
    "elif args.distribute == 'mirror':\n",
    "    strategy = tf.distribute.MirroredStrategy()\n",
    "# Multiple Machine, multiple compute device\n",
    "elif args.distribute == 'multi':\n",
    "    strategy = tf.distribute.experimental.MultiWorkerMirroredStrategy()\n",
    "\n",
    "# Multi-worker configuration\n",
    "print('num_replicas_in_sync = {}'.format(strategy.num_replicas_in_sync))\n",
    "\n",
    "# Preparing dataset\n",
    "BUFFER_SIZE = 10000\n",
    "BATCH_SIZE = 64\n",
    "\n",
    "\n",
    "def make_datasets():\n",
    "    dataset, info = tfds.load('imdb_reviews/subwords8k', with_info=True,\n",
    "                          as_supervised=True)\n",
    "    train_dataset, test_dataset = dataset['train'], dataset['test']\n",
    "    encoder = info.features['text'].encoder\n",
    "\n",
    "    padded_shapes = ([None],())\n",
    "    return train_dataset.shuffle(BUFFER_SIZE).padded_batch(BATCH_SIZE, padded_shapes), encoder\n",
    "\n",
    "\n",
    "train_dataset, encoder = make_datasets()\n",
    "\n",
    "# Build the Keras model\n",
    "def build_and_compile_rnn_model(encoder):\n",
    "    model = tf.keras.Sequential([\n",
    "        tf.keras.layers.Embedding(encoder.vocab_size, 64),\n",
    "        tf.keras.layers.Bidirectional(tf.keras.layers.LSTM(64)),\n",
    "        tf.keras.layers.Dense(64, activation='relu'),\n",
    "        tf.keras.layers.Dense(1, activation='sigmoid')\n",
    "    ])\n",
    "    model.compile(loss=tf.keras.losses.BinaryCrossentropy(from_logits=True),\n",
    "        optimizer=tf.keras.optimizers.Adam(args.lr),\n",
    "        metrics=['accuracy'])\n",
    "    return model\n",
    "\n",
    "\n",
    "with strategy.scope():\n",
    "  # Creation of dataset, and model building/compiling need to be within\n",
    "  # `strategy.scope()`.\n",
    "  model = build_and_compile_rnn_model(encoder)\n",
    "\n",
    "# Train the model\n",
    "model.fit(train_dataset, epochs=args.epochs, steps_per_epoch=args.steps)\n",
    "model.save(args.model_dir)"
   ]
  },
  {
   "cell_type": "markdown",
   "metadata": {
    "id": "tarball_training_script"
   },
   "source": [
    "将培训脚本存储在您的云存储桶中\n",
    "\n",
    "接下来，您可以将培训文件夹打包成一个压缩的tar文件，然后存储到您的云存储桶中。"
   ]
  },
  {
   "cell_type": "code",
   "execution_count": null,
   "metadata": {
    "id": "tarball_training_script"
   },
   "outputs": [],
   "source": [
    "! rm -f custom.tar custom.tar.gz\n",
    "! tar cvf custom.tar custom\n",
    "! gzip custom.tar\n",
    "! gsutil cp custom.tar.gz $BUCKET_NAME/trainer_imdb.tar.gz"
   ]
  },
  {
   "cell_type": "markdown",
   "metadata": {
    "id": "train_custom_job"
   },
   "source": [
    "### 训练模型\n",
    "\n",
    "现在开始在Vertex上训练您的自定义训练作业。 使用这个辅助函数`create_custom_job`，它接受以下参数：\n",
    "\n",
    "-`custom_job`：自定义作业的规范。\n",
    "\n",
    "辅助函数调用作业客户端服务的`create_custom_job`方法，参数如下：\n",
    "\n",
    "-`parent`：指向`数据集`，`模型`和`端点`资源的Vertex位置路径。\n",
    "-`custom_job`：自定义作业的规范。\n",
    "\n",
    "您将显示`response`对象中返回的一些字段，其中最感兴趣的两个字段是：\n",
    "\n",
    "`response.name`：分配给此自定义训练作业的Vertex全限定标识符。 您将保存此标识符以在后续步骤中使用。\n",
    "\n",
    "`response.state`：自定义训练作业的当前状态。"
   ]
  },
  {
   "cell_type": "code",
   "execution_count": null,
   "metadata": {
    "id": "train_custom_job"
   },
   "outputs": [],
   "source": [
    "def create_custom_job(custom_job):\n",
    "    response = clients[\"job\"].create_custom_job(parent=PARENT, custom_job=custom_job)\n",
    "    print(\"name:\", response.name)\n",
    "    print(\"display_name:\", response.display_name)\n",
    "    print(\"state:\", response.state)\n",
    "    print(\"create_time:\", response.create_time)\n",
    "    print(\"update_time:\", response.update_time)\n",
    "    return response\n",
    "\n",
    "\n",
    "response = create_custom_job(custom_job)"
   ]
  },
  {
   "cell_type": "markdown",
   "metadata": {
    "id": "job_id:response"
   },
   "source": [
    "现在获得您创建的定制工作的唯一标识符。"
   ]
  },
  {
   "cell_type": "code",
   "execution_count": null,
   "metadata": {
    "id": "job_id:response"
   },
   "outputs": [],
   "source": [
    "# The full unique ID for the custom job\n",
    "job_id = response.name\n",
    "# The short numeric ID for the custom job\n",
    "job_short_id = job_id.split(\"/\")[-1]\n",
    "\n",
    "print(job_id)"
   ]
  },
  {
   "cell_type": "markdown",
   "metadata": {
    "id": "get_custom_job"
   },
   "source": [
    "### 获取有关自定义作业的信息\n",
    "\n",
    "接下来，使用这个辅助函数 `get_custom_job`，它接受以下参数：\n",
    "\n",
    "- `name`: 自定义作业的 Vertex 全限定标识符。\n",
    "\n",
    "辅助函数调用作业客户端服务的 `get_custom_job` 方法，带有以下参数：\n",
    "\n",
    "- `name`: 自定义作业的 Vertex 全限定标识符。\n",
    "\n",
    "如果您还记得，在调用 `create_custom_job` 方法时，您在 `response.name` 字段中获得了自定义作业的 Vertex 全限定标识符，并将标识符保存在变量 `job_id` 中。"
   ]
  },
  {
   "cell_type": "code",
   "execution_count": null,
   "metadata": {
    "id": "get_custom_job"
   },
   "outputs": [],
   "source": [
    "def get_custom_job(name, silent=False):\n",
    "    response = clients[\"job\"].get_custom_job(name=name)\n",
    "    if silent:\n",
    "        return response\n",
    "\n",
    "    print(\"name:\", response.name)\n",
    "    print(\"display_name:\", response.display_name)\n",
    "    print(\"state:\", response.state)\n",
    "    print(\"create_time:\", response.create_time)\n",
    "    print(\"update_time:\", response.update_time)\n",
    "    return response\n",
    "\n",
    "\n",
    "response = get_custom_job(job_id)"
   ]
  },
  {
   "cell_type": "markdown",
   "metadata": {
    "id": "wait_training_complete:custom"
   },
   "source": [
    "# 部署\n",
    "\n",
    "训练上述模型可能需要多达20分钟的时间。\n",
    "\n",
    "一旦您的模型训练完成，您可以通过从 `end_time` 减去 `start_time` 来计算训练模型所花费的实际时间。对于您的模型，我们需要知道所保存模型的位置，在Python脚本将其保存在您本地的云存储桶中的 `MODEL_DIR + '/saved_model.pb'`。"
   ]
  },
  {
   "cell_type": "code",
   "execution_count": null,
   "metadata": {
    "id": "wait_training_complete:custom"
   },
   "outputs": [],
   "source": [
    "while True:\n",
    "    response = get_custom_job(job_id, True)\n",
    "    if response.state != aip.JobState.JOB_STATE_SUCCEEDED:\n",
    "        print(\"Training job has not completed:\", response.state)\n",
    "        model_path_to_deploy = None\n",
    "        if response.state == aip.JobState.JOB_STATE_FAILED:\n",
    "            break\n",
    "    else:\n",
    "        if not DIRECT:\n",
    "            MODEL_DIR = MODEL_DIR + \"/model\"\n",
    "        model_path_to_deploy = MODEL_DIR\n",
    "        print(\"Training Time:\", response.update_time - response.create_time)\n",
    "        break\n",
    "    time.sleep(60)\n",
    "\n",
    "print(\"model_to_deploy:\", model_path_to_deploy)"
   ]
  },
  {
   "cell_type": "markdown",
   "metadata": {
    "id": "load_saved_model"
   },
   "source": [
    "加载已保存的模型\n",
    "\n",
    "您的模型以TensorFlow SavedModel格式存储在Cloud Storage桶中。现在从Cloud Storage桶加载它，然后您可以做一些事情，比如评估模型和进行预测。\n",
    "\n",
    "要加载模型，您可以使用TF.Keras的`model.load_model()`方法，将模型保存在Cloud Storage路径中 - 由`MODEL_DIR`指定。"
   ]
  },
  {
   "cell_type": "code",
   "execution_count": null,
   "metadata": {
    "id": "load_saved_model"
   },
   "outputs": [],
   "source": [
    "import tensorflow as tf\n",
    "\n",
    "model = tf.keras.models.load_model(MODEL_DIR)"
   ]
  },
  {
   "cell_type": "markdown",
   "metadata": {
    "id": "evaluate_custom_model:text"
   },
   "source": [
    "## 评估模型\n",
    "\n",
    "现在让我们看看模型的表现如何。\n",
    "\n",
    "### 加载评估数据\n",
    "\n",
    "您将从`tfds.datasets`中使用`load()`方法加载IMDB电影评论测试（留存）数据。这将返回一个包含两个元素的元组。第一个元素是数据集，第二个是数据集的信息，其中包含预定义的词汇编码器。编码器将单词转换为数字嵌入，这是预先训练并在自定义训练脚本中使用的。\n",
    "\n",
    "在训练模型时，您需要为文本设置一个固定的输入长度。对于前向传递批处理，相应的`tf.dataset`的`padded_batch()`属性设置为将每个输入序列填充到相同的形状以供批处理。\n",
    "\n",
    "对于测试数据，您还需要相应地设置`padded_batch()`属性。"
   ]
  },
  {
   "cell_type": "code",
   "execution_count": null,
   "metadata": {
    "id": "evaluate_custom_model:text,imdb"
   },
   "outputs": [],
   "source": [
    "import tensorflow_datasets as tfds\n",
    "\n",
    "dataset, info = tfds.load(\"imdb_reviews/subwords8k\", with_info=True, as_supervised=True)\n",
    "test_dataset = dataset[\"test\"]\n",
    "encoder = info.features[\"text\"].encoder\n",
    "\n",
    "BATCH_SIZE = 64\n",
    "padded_shapes = ([None], ())\n",
    "test_dataset = test_dataset.padded_batch(BATCH_SIZE, padded_shapes)"
   ]
  },
  {
   "cell_type": "markdown",
   "metadata": {
    "id": "perform_evaluation_custom:tfds"
   },
   "source": [
    "### 执行模型评估\n",
    "\n",
    "现在评估定制工作中的模型表现如何。"
   ]
  },
  {
   "cell_type": "code",
   "execution_count": null,
   "metadata": {
    "id": "perform_evaluation_custom:tfds"
   },
   "outputs": [],
   "source": [
    "model.evaluate(test_dataset)"
   ]
  },
  {
   "cell_type": "markdown",
   "metadata": {
    "id": "how_serving_function_works"
   },
   "source": [
    "## 上传模型进行服务\n",
    "\n",
    "接下来，您将把您的 TF.Keras 模型从自定义作业上传到 Vertex `Model` 服务，该服务将为您的自定义模型创建一个 Vertex `Model` 资源。在上传过程中，您需要定义一个服务函数，将数据转换为您的模型所需的格式。如果您将编码数据发送给 Vertex，您的服务函数将确保在将数据作为输入传递给模型之前，在模型服务器上对数据进行解码。\n",
    "\n",
    "### 服务函数如何工作\n",
    "\n",
    "当您向在线预测服务器发送请求时，请求将被 HTTP 服务器接收。 HTTP 服务器从 HTTP 请求内容主体中提取预测请求。提取的预测请求将转发给服务函数。对于Google预构建的预测容器，请求内容将作为 `tf.string` 传递给服务函数。\n",
    "\n",
    "服务函数由两部分组成：\n",
    "\n",
    "- `预处理功能`：\n",
    "  - 将输入(`tf.string`) 转换为底层模型（动态图）的输入形状和数据类型。\n",
    "  - 执行训练底层模型期间执行的相同数据预处理操作 -- 例如，标准化，缩放等。\n",
    "- `后处理功能`：\n",
    "  - 将模型输出转换为接收应用程序所期望的格式 -- 例如，压缩输出。\n",
    "  - 将输出封装为接收应用程序 -- 例如，增加标题，创建 JSON 对象等。\n",
    "\n",
    "预处理和后处理功能都会转换为静态图，然后与模型融合。底层模型的输出会传递给后处理函数。后处理函数将转换/封装后的输出传递回 HTTP 服务器。HTTP 服务器将输出作为 HTTP 响应内容返回。\n",
    "\n",
    "建立 TF.Keras 模型的服务函数时需要考虑一个问题，即它们作为静态图运行。这意味着您不能使用需要动态图的 TF 图操作。如果这样做，您将在服务函数编译过程中收到一个错误，表明您正在使用不受支持的 EagerTensor。"
   ]
  },
  {
   "cell_type": "markdown",
   "metadata": {
    "id": "serving_function_signature"
   },
   "source": [
    "获取服务功能签名\n",
    "\n",
    "您可以通过重新加载模型并查询每个层对应的签名来获取模型的输入和输出层的签名。\n",
    "\n",
    "在进行预测请求时，您需要将请求路由到服务功能而不是模型，因此您需要知道服务功能的输入层名称 -- 这将在您进行预测请求时使用。"
   ]
  },
  {
   "cell_type": "code",
   "execution_count": null,
   "metadata": {
    "id": "serving_function_signature"
   },
   "outputs": [],
   "source": [
    "loaded = tf.saved_model.load(model_path_to_deploy)\n",
    "\n",
    "serving_input = list(\n",
    "    loaded.signatures[\"serving_default\"].structured_input_signature[1].keys()\n",
    ")[0]\n",
    "print(\"Serving function input:\", serving_input)"
   ]
  },
  {
   "cell_type": "markdown",
   "metadata": {
    "id": "upload_the_model"
   },
   "source": [
    "### 上传模型\n",
    "\n",
    "使用这个辅助函数 `upload_model` 来上传您的模型，存储在 SavedModel 格式中，到 `Model` 服务，该服务将为您的模型实例化一个 Vertex `Model` 资源实例。一旦您完成了这一步，您可以像使用任何其他 Vertex `Model` 资源实例一样使用这个 `Model` 资源实例，比如部署到一个用于提供预测的 `Endpoint` 资源。\n",
    "\n",
    "辅助函数接受以下参数：\n",
    "\n",
    "- `display_name`: 一个`Endpoint`服务的可读名称。\n",
    "- `image_uri`: 用于模型部署的容器镜像。\n",
    "- `model_uri`: SavedModel artifact 的 Cloud Storage 路径。对于本教程，这是 `trainer/task.py` 保存模型工件的 Cloud Storage 位置，我们在变量 `MODEL_DIR` 中指定了这个位置。\n",
    "\n",
    "辅助函数调用了 `Model` 客户端服务的 `upload_model` 方法，该方法接受以下参数：\n",
    "\n",
    "- `parent`: `Dataset`、`Model` 和 `Endpoint` 资源的 Vertex 根路径。\n",
    "- `model`: Vertex `Model` 资源实例的规范。\n",
    "\n",
    "现在让我们深入了解一下 Vertex 模型规范 `model`。这是一个包含以下字段的字典对象：\n",
    "\n",
    "- `display_name`: `Model` 资源的可读名称。\n",
    "- `metadata_schema_uri`: 由于您的模型是没有使用 Vertex `Dataset` 资源构建的，您将留空（`''`）。\n",
    "- `artificat_uri`: 存储模型的 SavedModel 格式的 Cloud Storage 路径。\n",
    "- `container_spec`: 这是安装在 `Endpoint` 资源上的 Docker 容器规范，从中 `Model` 资源将提供预测。使用之前设置的变量 `DEPLOY_GPU != None` 来使用 GPU；否则只分配 CPU。\n",
    "\n",
    "将模型上传到 Vertex `Model` 资源会返回一个长时间运行的操作，因为这可能需要一些时间。您可以调用 response.result()，这是一个同步调用，当 Vertex `Model` 资源准备就绪时将返回。\n",
    "\n",
    "辅助函数返回对应的 Vertex Model 实例的完全限定标识符 upload_model_response.model。您将保存这个标识符以供后续步骤使用在变量 model_to_deploy_id 中。"
   ]
  },
  {
   "cell_type": "code",
   "execution_count": null,
   "metadata": {
    "id": "upload_the_model"
   },
   "outputs": [],
   "source": [
    "IMAGE_URI = DEPLOY_IMAGE\n",
    "\n",
    "\n",
    "def upload_model(display_name, image_uri, model_uri):\n",
    "    model = {\n",
    "        \"display_name\": display_name,\n",
    "        \"metadata_schema_uri\": \"\",\n",
    "        \"artifact_uri\": model_uri,\n",
    "        \"container_spec\": {\n",
    "            \"image_uri\": image_uri,\n",
    "            \"command\": [],\n",
    "            \"args\": [],\n",
    "            \"env\": [{\"name\": \"env_name\", \"value\": \"env_value\"}],\n",
    "            \"ports\": [{\"container_port\": 8080}],\n",
    "            \"predict_route\": \"\",\n",
    "            \"health_route\": \"\",\n",
    "        },\n",
    "    }\n",
    "    response = clients[\"model\"].upload_model(parent=PARENT, model=model)\n",
    "    print(\"Long running operation:\", response.operation.name)\n",
    "    upload_model_response = response.result(timeout=180)\n",
    "    print(\"upload_model_response\")\n",
    "    print(\" model:\", upload_model_response.model)\n",
    "    return upload_model_response.model\n",
    "\n",
    "\n",
    "model_to_deploy_id = upload_model(\"imdb-\" + TIMESTAMP, IMAGE_URI, model_path_to_deploy)"
   ]
  },
  {
   "cell_type": "markdown",
   "metadata": {
    "id": "get_model"
   },
   "source": [
    "### 获取`Model`资源信息\n",
    "\n",
    "现在让我们获取只有您的模型的模型信息。使用这个辅助函数`get_model`，带有以下参数：\n",
    "\n",
    "- `name`：`Model`资源的Vertex唯一标识符。\n",
    "\n",
    "这个辅助函数调用了Vertex `Model`客户服务的方法`get_model`，带有以下参数：\n",
    "\n",
    "- `name`：`Model`资源的Vertex唯一标识符。"
   ]
  },
  {
   "cell_type": "code",
   "execution_count": null,
   "metadata": {
    "id": "get_model"
   },
   "outputs": [],
   "source": [
    "def get_model(name):\n",
    "    response = clients[\"model\"].get_model(name=name)\n",
    "    print(response)\n",
    "\n",
    "\n",
    "get_model(model_to_deploy_id)"
   ]
  },
  {
   "cell_type": "markdown",
   "metadata": {
    "id": "create_endpoint:custom"
   },
   "source": [
    "部署`Model`资源\n",
    "\n",
    "现在部署已训练好的Vertex自定义`Model`资源。这需要两个步骤：\n",
    "\n",
    "1. 创建一个用于部署`Model`资源的`Endpoint`资源。\n",
    "\n",
    "2. 将`Model`资源部署到`Endpoint`资源中。"
   ]
  },
  {
   "cell_type": "markdown",
   "metadata": {
    "id": "create_endpoint"
   },
   "source": [
    "### 创建一个 `Endpoint` 资源\n",
    "\n",
    "使用这个辅助函数 `create_endpoint` 来创建一个用于部署模型以提供预测的端点，具有以下参数：\n",
    "\n",
    "- `display_name`: 一个易读的名称用于 `Endpoint` 资源。\n",
    "\n",
    "辅助函数使用端点客户端服务的 `create_endpoint` 方法，该方法接受以下参数：\n",
    "\n",
    "- `display_name`: 一个易读的名称用于 `Endpoint` 资源。\n",
    "\n",
    "创建一个 `Endpoint` 资源会返回一个长时间运行的操作，因为为了提供服务可能需要一些时间。您可以调用 `response.result()`，这是一个同步调用，并且会在端点资源准备就绪时返回。该辅助函数会返回 `Endpoint` 资源的 Vertex 完全合格的标识符：`response.name`。"
   ]
  },
  {
   "cell_type": "code",
   "execution_count": null,
   "metadata": {
    "id": "create_endpoint"
   },
   "outputs": [],
   "source": [
    "ENDPOINT_NAME = \"imdb_endpoint-\" + TIMESTAMP\n",
    "\n",
    "\n",
    "def create_endpoint(display_name):\n",
    "    endpoint = {\"display_name\": display_name}\n",
    "    response = clients[\"endpoint\"].create_endpoint(parent=PARENT, endpoint=endpoint)\n",
    "    print(\"Long running operation:\", response.operation.name)\n",
    "\n",
    "    result = response.result(timeout=300)\n",
    "    print(\"result\")\n",
    "    print(\" name:\", result.name)\n",
    "    print(\" display_name:\", result.display_name)\n",
    "    print(\" description:\", result.description)\n",
    "    print(\" labels:\", result.labels)\n",
    "    print(\" create_time:\", result.create_time)\n",
    "    print(\" update_time:\", result.update_time)\n",
    "    return result\n",
    "\n",
    "\n",
    "result = create_endpoint(ENDPOINT_NAME)"
   ]
  },
  {
   "cell_type": "markdown",
   "metadata": {
    "id": "endpoint_id:result"
   },
   "source": [
    "现在获取您创建的`Endpoint`资源的唯一标识符。"
   ]
  },
  {
   "cell_type": "code",
   "execution_count": null,
   "metadata": {
    "id": "endpoint_id:result"
   },
   "outputs": [],
   "source": [
    "# The full unique ID for the endpoint\n",
    "endpoint_id = result.name\n",
    "# The short numeric ID for the endpoint\n",
    "endpoint_short_id = endpoint_id.split(\"/\")[-1]\n",
    "\n",
    "print(endpoint_id)"
   ]
  },
  {
   "cell_type": "markdown",
   "metadata": {
    "id": "instance_scaling"
   },
   "source": [
    "### 计算实例扩展\n",
    "\n",
    "您可以在处理在线预测请求时选择几种计算实例的扩展方式：\n",
    "\n",
    "- 单个实例：在线预测请求在单个计算实例上处理。\n",
    "  - 将计算实例的最小（`MIN_NODES`）和最大（`MAX_NODES`）数量设置为一。\n",
    "\n",
    "- 手动扩展：在线预测请求分配给您手动指定的固定数量的计算实例。\n",
    "  - 将计算实例的最小（`MIN_NODES`）和最大（`MAX_NODES`）数量设置为相同数量的节点。当模型首次部署到实例时，固定数量的计算实例会被部署，并且在线预测请求会均匀分配给它们。\n",
    "\n",
    "- 自动扩展：在线预测请求分配给可扩展数量的计算实例。\n",
    "  - 将计算实例的最小（`MIN_NODES`）数量设置为模型首次部署时将要部署和解除部署的实例数量，并根据负载情况将计算实例的最大（`MAX_NODES`）数量设置为要部署的数量。\n",
    "\n",
    "计算实例的最小数量对应于字段`min_replica_count`，计算实例的最大数量对应于字段`max_replica_count`，在您的后续部署请求中使用。"
   ]
  },
  {
   "cell_type": "code",
   "execution_count": null,
   "metadata": {
    "id": "instance_scaling"
   },
   "outputs": [],
   "source": [
    "MIN_NODES = 1\n",
    "MAX_NODES = 1"
   ]
  },
  {
   "cell_type": "markdown",
   "metadata": {
    "id": "deploy_model:dedicated"
   },
   "source": [
    "### 部署 `Model` 资源到 `Endpoint` 资源\n",
    "\n",
    "使用这个辅助函数 `deploy_model` 来将您在为提供预测创建的 `Model` 资源部署到 `Endpoint` 资源，使用以下参数：\n",
    "\n",
    "- `model`：从训练管道上传（部署）的 Vertex 完全限定模型标识符。\n",
    "- `deploy_model_display_name`：部署模型的人类可读名称。\n",
    "- `endpoint`：要将模型部署到的 Vertex 完全限定的端点标识符。\n",
    "\n",
    "该辅助函数调用了 `Endpoint` 客户端服务的 `deploy_model` 方法，该方法接受以下参数：\n",
    "\n",
    "- `endpoint`：要将 `Model` 资源部署到的 Vertex 完全限定的 `Endpoint` 资源标识符。\n",
    "- `deployed_model`：部署该模型的要求规范。\n",
    "- `traffic_split`：发送到该模型的端点的流量占比，以字典形式指定一个或多个键/值对。\n",
    "   - 如果只有一个模型，则指定为 **{ \"0\": 100 }**，其中 \"0\" 指的是正在上传的这个模型，100 表示流量的 100%。\n",
    "   - 如果端点上存在现有模型，需要对流量进行分配，则使用 `model_id` 指定为 **{ \"0\": percent, model_id: percent, ... }**，其中 `model_id` 是要部署到的端点现有模型的模型标识符。这些百分比必须加起来为 100。\n",
    "\n",
    "现在让我们深入研究 `deployed_model` 参数。该参数被指定为一个带有最少必需字段的 Python 字典：\n",
    "\n",
    "- `model`：要部署的 Vertex 完全限定模型标识符。\n",
    "- `display_name`：部署模型的人类可读名称。\n",
    "- `disable_container_logging`：禁用容器事件的记录，比如执行失败（默认情况下容器日志记录是启用的）。通常在调试部署时启用容器日志记录，然后在生产部署时禁用。\n",
    "- `dedicated_resources`：指的是为提供预测请求而扩展的计算实例（副本）的数量。\n",
    "  - `machine_spec`：要提供的计算实例。使用您之前设置的变量 `DEPLOY_GPU != None` 来使用 GPU；否则只分配 CPU。\n",
    "  - `min_replica_count`：最初要提供的计算实例数量，您之前设置为 `MIN_NODES` 的变量。\n",
    "  - `max_replica_count`：要扩展到的最大计算实例数量，您之前设置为 `MAX_NODES` 的变量。\n",
    "\n",
    "#### 流量分配\n",
    "\n",
    "现在让我们深入研究 `traffic_split` 参数。该参数被指定为一个 Python 字典。这一开始可能有点令人困惑。让我解释一下，您可以将模型的多个实例部署到一个端点，然后设置每个实例接收多少流量（百分比）。\n",
    "\n",
    "为什么要这样做呢？也许您已经在生产环境部署了先前的版本 —— 我们称之为 v1。在 v2 上获得了更好的模型评估，但在真正部署到生产环境之前，您不确定它是否真的更好。因此在流量分配的情况下，您可能希望将 v2 部署到与 v1 相同的端点，但只分配给它比如 10% 的流量。这样，您可以在不干扰大多数用户的情况下监控其表现，直到做出最终决定。\n",
    "\n",
    "#### 响应\n",
    "\n",
    "该方法返回一个长时间运行的操作 `response`。我们将同步等待操作完成，调用 `response.result()`，这将阻塞直到模型被部署。如果这是第一次将模型部署到端点，则可能需要额外几分钟来完成资源的配置。"
   ]
  },
  {
   "cell_type": "code",
   "execution_count": null,
   "metadata": {
    "id": "deploy_model:dedicated"
   },
   "outputs": [],
   "source": [
    "DEPLOYED_NAME = \"imdb_deployed-\" + TIMESTAMP\n",
    "\n",
    "\n",
    "def deploy_model(\n",
    "    model, deployed_model_display_name, endpoint, traffic_split={\"0\": 100}\n",
    "):\n",
    "\n",
    "    if DEPLOY_GPU:\n",
    "        machine_spec = {\n",
    "            \"machine_type\": DEPLOY_COMPUTE,\n",
    "            \"accelerator_type\": DEPLOY_GPU,\n",
    "            \"accelerator_count\": DEPLOY_NGPU,\n",
    "        }\n",
    "    else:\n",
    "        machine_spec = {\n",
    "            \"machine_type\": DEPLOY_COMPUTE,\n",
    "            \"accelerator_count\": 0,\n",
    "        }\n",
    "\n",
    "    deployed_model = {\n",
    "        \"model\": model,\n",
    "        \"display_name\": deployed_model_display_name,\n",
    "        \"dedicated_resources\": {\n",
    "            \"min_replica_count\": MIN_NODES,\n",
    "            \"max_replica_count\": MAX_NODES,\n",
    "            \"machine_spec\": machine_spec,\n",
    "        },\n",
    "        \"disable_container_logging\": False,\n",
    "    }\n",
    "\n",
    "    response = clients[\"endpoint\"].deploy_model(\n",
    "        endpoint=endpoint, deployed_model=deployed_model, traffic_split=traffic_split\n",
    "    )\n",
    "\n",
    "    print(\"Long running operation:\", response.operation.name)\n",
    "    result = response.result()\n",
    "    print(\"result\")\n",
    "    deployed_model = result.deployed_model\n",
    "    print(\" deployed_model\")\n",
    "    print(\"  id:\", deployed_model.id)\n",
    "    print(\"  model:\", deployed_model.model)\n",
    "    print(\"  display_name:\", deployed_model.display_name)\n",
    "    print(\"  create_time:\", deployed_model.create_time)\n",
    "\n",
    "    return deployed_model.id\n",
    "\n",
    "\n",
    "deployed_model_id = deploy_model(model_to_deploy_id, DEPLOYED_NAME, endpoint_id)"
   ]
  },
  {
   "cell_type": "markdown",
   "metadata": {
    "id": "make_prediction"
   },
   "source": [
    "发出在线预测请求\n",
    "\n",
    "现在对您部署的模型进行在线预测。"
   ]
  },
  {
   "cell_type": "markdown",
   "metadata": {
    "id": "prepare_test_item:text"
   },
   "source": [
    "### 准备请求内容\n",
    "\n",
    "由于数据集是一个 `tf.dataset`，它充当生成器的角色，我们必须将其用作迭代器来访问测试数据中的数据项。我们通过以下方式从测试数据中获取单个数据项：\n",
    "\n",
    "- 使用方法 `take(1)` 将每次迭代要获取的批次数量设置为一。\n",
    "- 通过测试数据进行一次迭代 -- 也就是在 for 循环内部执行 break 操作。\n",
    "- 在单次迭代中，我们将保存以元组形式呈现的数据项。\n",
    "- 数据项将是元组的第一个元素，然后您将其从张量转换为 numpy 数组 -- `data[0].numpy()`。"
   ]
  },
  {
   "cell_type": "code",
   "execution_count": null,
   "metadata": {
    "id": "prepare_test_item:text"
   },
   "outputs": [],
   "source": [
    "import tensorflow_datasets as tfds\n",
    "\n",
    "dataset, info = tfds.load(\"imdb_reviews/subwords8k\", with_info=True, as_supervised=True)\n",
    "test_dataset = dataset[\"test\"]\n",
    "\n",
    "test_dataset.take(1)\n",
    "for data in test_dataset:\n",
    "    print(data)\n",
    "    break\n",
    "\n",
    "test_item = data[0].numpy()"
   ]
  },
  {
   "cell_type": "markdown",
   "metadata": {
    "id": "send_prediction_request:text"
   },
   "source": [
    "### 发送预测请求\n",
    "\n",
    "好的，现在您有一个测试数据项。使用这个帮助函数`predict_data`，该函数接受以下参数：\n",
    "\n",
    "- `data`：测试数据项是一个64填充的 numpy 1D 数组。\n",
    "- `endpoint`：模型部署的 Vertex AI 完全限定标识符。\n",
    "- `parameters_dict`：用于服务的额外参数。\n",
    "\n",
    "此函数使用预测客户端服务，并使用以下参数调用`predict`方法：\n",
    "\n",
    "- `endpoint`：模型部署的 Vertex AI 完全限定标识符。\n",
    "- `instances`：要预测的实例（数据项）列表。\n",
    "- `parameters`：用于服务的额外参数。\n",
    "\n",
    "为了将测试数据传递给预测服务，您必须将其打包以便传输到服务二进制文件，具体步骤如下：\n",
    "\n",
    "1. 将数据项从1D numpy数组转换为1D Python列表。\n",
    "2. 将预测请求转换为序列化的 Google protobuf(`json_format.ParseDict()`)\n",
    "\n",
    "预测请求中的每个实例都是一个字典条目，格式如下：\n",
    "\n",
    "{input_name: content}\n",
    "\n",
    "- `input_name`：底层模型的输入层的名称。\n",
    "- `content`：作为1D Python列表的数据项。\n",
    "\n",
    "由于`predict()`服务可以接受多个数据项（实例），您将把单个数据项作为一个数据项的列表发送。作为最后一步，您将实例列表打包到 Google 的 protobuf 格式中，这是我们传递给`predict()`服务的内容。\n",
    "\n",
    "`response`对象返回一个列表，列表中的每个元素对应于请求中的相应图像。您将在每个预测的输出中看到：\n",
    "\n",
    "- `predictions` -- 预测的二进制情感介于0（负面）和1（正面）之间。"
   ]
  },
  {
   "cell_type": "code",
   "execution_count": null,
   "metadata": {
    "id": "send_prediction_request:text"
   },
   "outputs": [],
   "source": [
    "def predict_data(data, endpoint, parameters_dict):\n",
    "    parameters = json_format.ParseDict(parameters_dict, Value())\n",
    "\n",
    "    # The format of each instance should conform to the deployed model's prediction input schema.\n",
    "    instances_list = [{serving_input: data.tolist()}]\n",
    "    instances = [json_format.ParseDict(s, Value()) for s in instances_list]\n",
    "\n",
    "    response = clients[\"prediction\"].predict(\n",
    "        endpoint=endpoint, instances=instances, parameters=parameters\n",
    "    )\n",
    "    print(\"response\")\n",
    "    print(\" deployed_model_id:\", response.deployed_model_id)\n",
    "    predictions = response.predictions\n",
    "    print(\"predictions\")\n",
    "    for prediction in predictions:\n",
    "        print(\" prediction:\", prediction)\n",
    "\n",
    "\n",
    "predict_data(test_item, endpoint_id, None)"
   ]
  },
  {
   "cell_type": "markdown",
   "metadata": {
    "id": "undeploy_model"
   },
   "source": [
    "解除部署 `Model` 资源\n",
    "\n",
    "现在从服务 `Endpoint` 资源中解除部署您的 `Model` 资源。使用这个辅助函数 `undeploy_model`，它接受以下参数：\n",
    "\n",
    "- `deployed_model_id`：当 `Model` 资源部署到服务时由终端服务返回的模型部署标识符。\n",
    "- `endpoint`：`Model` 部署到的 `Endpoint` 资源的 Vertex 完全限定标识符。\n",
    "\n",
    "此函数调用终端客户端服务的 `undeploy_model` 方法，并使用以下参数：\n",
    "\n",
    "- `deployed_model_id`：当 `Model` 资源部署时由终端服务返回的模型部署标识符。\n",
    "- `endpoint`：`Model` 资源部署到的 Vertex 完全限定标识符的 `Endpoint` 资源。\n",
    "- `traffic_split`：如何在 `Endpoint` 资源上将流量分配给其余已部署的模型。\n",
    "\n",
    "因为这是 `Endpoint` 资源上唯一部署的模型，您可以简单地将 `traffic_split` 设置为空对象 `{}` 而不使用。"
   ]
  },
  {
   "cell_type": "code",
   "execution_count": null,
   "metadata": {
    "id": "undeploy_model"
   },
   "outputs": [],
   "source": [
    "def undeploy_model(deployed_model_id, endpoint):\n",
    "    response = clients[\"endpoint\"].undeploy_model(\n",
    "        endpoint=endpoint, deployed_model_id=deployed_model_id, traffic_split={}\n",
    "    )\n",
    "    print(response)\n",
    "\n",
    "\n",
    "undeploy_model(deployed_model_id, endpoint_id)"
   ]
  },
  {
   "cell_type": "markdown",
   "metadata": {
    "id": "cleanup"
   },
   "source": [
    "清理\n",
    "\n",
    "要清理本项目中使用的所有GCP资源，您可以删除您用于本教程的GCP项目。\n",
    "\n",
    "否则，您可以删除您在本教程中创建的各个资源：\n",
    "\n",
    "- 数据集\n",
    "- 流水线\n",
    "- 模型\n",
    "- 端点\n",
    "- 批处理作业\n",
    "- 自定义作业\n",
    "- 超参数调整作业\n",
    "- 云存储存储桶"
   ]
  },
  {
   "cell_type": "code",
   "execution_count": null,
   "metadata": {
    "id": "cleanup"
   },
   "outputs": [],
   "source": [
    "delete_dataset = True\n",
    "delete_pipeline = True\n",
    "delete_model = True\n",
    "delete_endpoint = True\n",
    "delete_batchjob = True\n",
    "delete_customjob = True\n",
    "delete_hptjob = True\n",
    "delete_bucket = True\n",
    "\n",
    "# Delete the dataset using the Vertex fully qualified identifier for the dataset\n",
    "try:\n",
    "    if delete_dataset and \"dataset_id\" in globals():\n",
    "        clients[\"dataset\"].delete_dataset(name=dataset_id)\n",
    "except Exception as e:\n",
    "    print(e)\n",
    "\n",
    "# Delete the training pipeline using the Vertex fully qualified identifier for the pipeline\n",
    "try:\n",
    "    if delete_pipeline and \"pipeline_id\" in globals():\n",
    "        clients[\"pipeline\"].delete_training_pipeline(name=pipeline_id)\n",
    "except Exception as e:\n",
    "    print(e)\n",
    "\n",
    "# Delete the model using the Vertex fully qualified identifier for the model\n",
    "try:\n",
    "    if delete_model and \"model_to_deploy_id\" in globals():\n",
    "        clients[\"model\"].delete_model(name=model_to_deploy_id)\n",
    "except Exception as e:\n",
    "    print(e)\n",
    "\n",
    "# Delete the endpoint using the Vertex fully qualified identifier for the endpoint\n",
    "try:\n",
    "    if delete_endpoint and \"endpoint_id\" in globals():\n",
    "        clients[\"endpoint\"].delete_endpoint(name=endpoint_id)\n",
    "except Exception as e:\n",
    "    print(e)\n",
    "\n",
    "# Delete the batch job using the Vertex fully qualified identifier for the batch job\n",
    "try:\n",
    "    if delete_batchjob and \"batch_job_id\" in globals():\n",
    "        clients[\"job\"].delete_batch_prediction_job(name=batch_job_id)\n",
    "except Exception as e:\n",
    "    print(e)\n",
    "\n",
    "# Delete the custom job using the Vertex fully qualified identifier for the custom job\n",
    "try:\n",
    "    if delete_customjob and \"job_id\" in globals():\n",
    "        clients[\"job\"].delete_custom_job(name=job_id)\n",
    "except Exception as e:\n",
    "    print(e)\n",
    "\n",
    "# Delete the hyperparameter tuning job using the Vertex fully qualified identifier for the hyperparameter tuning job\n",
    "try:\n",
    "    if delete_hptjob and \"hpt_job_id\" in globals():\n",
    "        clients[\"job\"].delete_hyperparameter_tuning_job(name=hpt_job_id)\n",
    "except Exception as e:\n",
    "    print(e)\n",
    "\n",
    "if delete_bucket and \"BUCKET_NAME\" in globals():\n",
    "    ! gsutil rm -r $BUCKET_NAME"
   ]
  }
 ],
 "metadata": {
  "colab": {
   "name": "showcase_custom_text_binary_classification_online.ipynb",
   "toc_visible": true
  },
  "kernelspec": {
   "display_name": "Python 3",
   "name": "python3"
  }
 },
 "nbformat": 4,
 "nbformat_minor": 0
}
