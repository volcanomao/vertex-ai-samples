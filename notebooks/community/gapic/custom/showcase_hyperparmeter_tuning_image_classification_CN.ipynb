{
 "cells": [
  {
   "cell_type": "code",
   "execution_count": null,
   "metadata": {
    "id": "copyright"
   },
   "outputs": [],
   "source": [
    "# Copyright 2020 Google LLC\n",
    "#\n",
    "# Licensed under the Apache License, Version 2.0 (the \"License\");\n",
    "# you may not use this file except in compliance with the License.\n",
    "# You may obtain a copy of the License at\n",
    "#\n",
    "#     https://www.apache.org/licenses/LICENSE-2.0\n",
    "#\n",
    "# Unless required by applicable law or agreed to in writing, software\n",
    "# distributed under the License is distributed on an \"AS IS\" BASIS,\n",
    "# WITHOUT WARRANTIES OR CONDITIONS OF ANY KIND, either express or implied.\n",
    "# See the License for the specific language governing permissions and\n",
    "# limitations under the License."
   ]
  },
  {
   "cell_type": "markdown",
   "metadata": {
    "id": "title"
   },
   "source": [
    "# 顶点客户端库：超参数调整图像分类模型\n",
    "\n",
    "<table align=\"left\">\n",
    "  <td>\n",
    "    <a href=\"https://colab.research.google.com/github/GoogleCloudPlatform/vertex-ai-samples/blob/master/notebooks/community/gapic/custom/showcase_hyperparmeter_tuning_image_classification.ipynb\">\n",
    "      <img src=\"https://cloud.google.com/ml-engine/images/colab-logo-32px.png\" alt=\"Colab logo\"> 在 Colab 中运行\n",
    "    </a>\n",
    "  </td>\n",
    "  <td>\n",
    "    <a href=\"https://github.com/GoogleCloudPlatform/vertex-ai-samples/blob/master/notebooks/community/gapic/custom/showcase_hyperparmeter_tuning_image_classification.ipynb\">\n",
    "      <img src=\"https://cloud.google.com/ml-engine/images/github-logo-32px.png\" alt=\"GitHub logo\">\n",
    "      在 GitHub 上查看\n",
    "    </a>\n",
    "  </td>\n",
    "</table>\n",
    "<br/><br/><br/>"
   ]
  },
  {
   "cell_type": "markdown",
   "metadata": {
    "id": "overview:custom,hpt"
   },
   "source": [
    "## 概述\n",
    "\n",
    "本教程演示了如何使用Python的Vertex客户端库为自定义图像分类模型进行超参数调整。"
   ]
  },
  {
   "cell_type": "markdown",
   "metadata": {
    "id": "dataset:custom,cifar10,icn"
   },
   "source": [
    "数据集\n",
    "\n",
    "本教程使用的数据集是来自[TensorFlow数据集](https://www.tensorflow.org/datasets/catalog/cifar10)的[CIFAR10数据集](https://www.tensorflow.org/datasets/catalog/overview)。您将使用的数据集版本已内置在 TensorFlow 中。训练好的模型可以预测图像属于十个类别中的哪一类：飞机、汽车、鸟、猫、鹿、狗、青蛙、马、船、卡车。"
   ]
  },
  {
   "cell_type": "markdown",
   "metadata": {
    "id": "objective:custom,hpt"
   },
   "source": [
    "### 目标\n",
    "\n",
    "在这本笔记本中，您将学习如何使用 Vertex 客户端库在 Docker 容器中的 Python 脚本中创建一个自定义图像分类模型的超参数调整作业。您还可以使用 `gcloud` 命令行工具或在线使用 Google Cloud 控制台来调整模型的超参数。\n",
    "\n",
    "\n",
    "执行的步骤包括：\n",
    "\n",
    "- 创建一个 Vertex 超参数调整作业来训练一个自定义模型。\n",
    "- 调整自定义模型。\n",
    "- 评估研究结果。"
   ]
  },
  {
   "cell_type": "markdown",
   "metadata": {
    "id": "costs"
   },
   "source": [
    "### 成本\n",
    "\n",
    "此教程使用 Google Cloud（GCP）的计费组件：\n",
    "\n",
    "* Vertex AI\n",
    "* Cloud Storage\n",
    "\n",
    "了解 [Vertex AI 价格](https://cloud.google.com/vertex-ai/pricing) 和 [Cloud Storage 价格](https://cloud.google.com/storage/pricing)，并使用 [价格计算器](https://cloud.google.com/products/calculator/) 根据您的预期使用量生成成本估算。"
   ]
  },
  {
   "cell_type": "markdown",
   "metadata": {
    "id": "install_aip"
   },
   "source": [
    "安装\n",
    "\n",
    "安装最新版本的Vertex客户端库。"
   ]
  },
  {
   "cell_type": "code",
   "execution_count": null,
   "metadata": {
    "id": "install_aip"
   },
   "outputs": [],
   "source": [
    "import os\n",
    "import sys\n",
    "\n",
    "# Google Cloud Notebook\n",
    "if os.path.exists(\"/opt/deeplearning/metadata/env_version\"):\n",
    "    USER_FLAG = \"--user\"\n",
    "else:\n",
    "    USER_FLAG = \"\"\n",
    "\n",
    "! pip3 install -U google-cloud-aiplatform $USER_FLAG"
   ]
  },
  {
   "cell_type": "markdown",
   "metadata": {
    "id": "install_storage"
   },
   "source": [
    "安装最新的GA版本*google-cloud-storage*库。"
   ]
  },
  {
   "cell_type": "code",
   "execution_count": null,
   "metadata": {
    "id": "install_storage"
   },
   "outputs": [],
   "source": [
    "! pip3 install -U google-cloud-storage $USER_FLAG"
   ]
  },
  {
   "cell_type": "markdown",
   "metadata": {
    "id": "restart"
   },
   "source": [
    "### 重新启动内核\n",
    "\n",
    "一旦您安装了 Vertex 客户端库和 Google *cloud-storage*，您需要重新启动笔记本的内核，以便它可以找到这些软件包。"
   ]
  },
  {
   "cell_type": "code",
   "execution_count": null,
   "metadata": {
    "id": "restart"
   },
   "outputs": [],
   "source": [
    "if not os.getenv(\"IS_TESTING\"):\n",
    "    # Automatically restart kernel after installs\n",
    "    import IPython\n",
    "\n",
    "    app = IPython.Application.instance()\n",
    "    app.kernel.do_shutdown(True)"
   ]
  },
  {
   "cell_type": "markdown",
   "metadata": {
    "id": "before_you_begin"
   },
   "source": [
    "## 开始之前\n",
    "\n",
    "### GPU 运行时\n",
    "\n",
    "*确保如果有这个选项的话，你正在 GPU 运行时中运行这个笔记本。在 Colab 中，选择* **运行时 > 更改运行时类型 > GPU**\n",
    "\n",
    "### 设置你的谷歌云项目\n",
    "\n",
    "**下面的步骤是必需的，无论你的笔记本环境如何。**\n",
    "\n",
    "1. [选择或创建一个谷歌云项目](https://console.cloud.google.com/cloud-resource-manager)。当你第一次创建一个账户时，你会获得一个 $300 的免费信用，用于您的计算/存储费用。\n",
    "\n",
    "2. [确保为您的项目启用了计费。](https://cloud.google.com/billing/docs/how-to/modify-project)\n",
    "\n",
    "3. [启用顶点 API 和 Compute Engine API。](https://console.cloud.google.com/flows/enableapi?apiid=ml.googleapis.com,compute_component)\n",
    "\n",
    "4. [谷歌云 SDK](https://cloud.google.com/sdk) 已经安装在谷歌云笔记本中。\n",
    "\n",
    "5. 在下面的单元格中输入你的项目 ID。然后运行该单元格，以确保 Cloud SDK 在这个笔记本中的所有命令中使用正确的项目。\n",
    "\n",
    "**注意**：Jupyter 运行以 `!` 为前缀的行作为 shell 命令，并将以 `$` 为前缀的 Python 变量插入这些命令中。"
   ]
  },
  {
   "cell_type": "code",
   "execution_count": null,
   "metadata": {
    "id": "set_project_id"
   },
   "outputs": [],
   "source": [
    "PROJECT_ID = \"[your-project-id]\"  # @param {type:\"string\"}"
   ]
  },
  {
   "cell_type": "code",
   "execution_count": null,
   "metadata": {
    "id": "autoset_project_id"
   },
   "outputs": [],
   "source": [
    "if PROJECT_ID == \"\" or PROJECT_ID is None or PROJECT_ID == \"[your-project-id]\":\n",
    "    # Get your GCP project id from gcloud\n",
    "    shell_output = !gcloud config list --format 'value(core.project)' 2>/dev/null\n",
    "    PROJECT_ID = shell_output[0]\n",
    "    print(\"Project ID:\", PROJECT_ID)"
   ]
  },
  {
   "cell_type": "code",
   "execution_count": null,
   "metadata": {
    "id": "set_gcloud_project_id"
   },
   "outputs": [],
   "source": [
    "! gcloud config set project $PROJECT_ID"
   ]
  },
  {
   "cell_type": "markdown",
   "metadata": {
    "id": "region"
   },
   "source": [
    "#### 地区\n",
    "\n",
    "您也可以更改`REGION`变量，该变量用于整个笔记本的操作。以下是Vertex支持的地区。我们建议您选择距离您最近的地区。\n",
    "\n",
    "- 美洲：`us-central1`\n",
    "- 欧洲：`europe-west4`\n",
    "- 亚太地区：`asia-east1`\n",
    "\n",
    "您可能无法使用多地区存储桶来进行Vertex的训练。并非所有地区均支持所有Vertex服务。有关每个地区的最新支持，请参阅[Vertex位置文档](https://cloud.google.com/vertex-ai/docs/general/locations)。"
   ]
  },
  {
   "cell_type": "code",
   "execution_count": null,
   "metadata": {
    "id": "region"
   },
   "outputs": [],
   "source": [
    "REGION = \"us-central1\"  # @param {type: \"string\"}"
   ]
  },
  {
   "cell_type": "markdown",
   "metadata": {
    "id": "timestamp"
   },
   "source": [
    "时间戳\n",
    "\n",
    "如果您在一个实时教程会话中，可能会使用一个共享的测试账户或项目。为了避免在创建的资源上发生名称冲突，您可以为每个实例会话创建一个时间戳，并将其附加到将在本教程中创建的资源名称。"
   ]
  },
  {
   "cell_type": "code",
   "execution_count": null,
   "metadata": {
    "id": "timestamp"
   },
   "outputs": [],
   "source": [
    "from datetime import datetime\n",
    "\n",
    "TIMESTAMP = datetime.now().strftime(\"%Y%m%d%H%M%S\")"
   ]
  },
  {
   "cell_type": "markdown",
   "metadata": {
    "id": "gcp_authenticate"
   },
   "source": [
    "###验证您的Google Cloud帐户\n",
    "\n",
    "**如果您正在使用Google Cloud Notebook**，则您的环境已经经过身份验证。跳过此步骤。\n",
    "\n",
    "**如果您正在使用Colab**，运行下面的单元格，并按提示进行身份验证以通过oAuth验证您的帐户。\n",
    "\n",
    "**否则**，请按照以下步骤操作：\n",
    "\n",
    "在Cloud Console中，转到[创建服务帐户密钥](https://console.cloud.google.com/apis/credentials/serviceaccountkey)页面。\n",
    "\n",
    "**点击创建服务帐户**。\n",
    "\n",
    "在**服务帐户名称**字段中输入名称，然后点击**创建**。\n",
    "\n",
    "在**授予此服务帐户访问项目的权限**部分，点击角色下拉列表。在过滤框中键入“Vertex”，然后选中**Vertex管理员**。在过滤框中键入“Storage Object Admin”，然后选中**Storage Object Admin**。\n",
    "\n",
    "点击创建。包含您的密钥的JSON文件将下载到您的本地环境。\n",
    "\n",
    "将服务帐户密钥的路径输入到下面单元格中作为GOOGLE_APPLICATION_CREDENTIALS变量，并运行该单元格。"
   ]
  },
  {
   "cell_type": "code",
   "execution_count": null,
   "metadata": {
    "id": "gcp_authenticate"
   },
   "outputs": [],
   "source": [
    "# If you are running this notebook in Colab, run this cell and follow the\n",
    "# instructions to authenticate your GCP account. This provides access to your\n",
    "# Cloud Storage bucket and lets you submit training jobs and prediction\n",
    "# requests.\n",
    "\n",
    "# If on Google Cloud Notebook, then don't execute this code\n",
    "if not os.path.exists(\"/opt/deeplearning/metadata/env_version\"):\n",
    "    if \"google.colab\" in sys.modules:\n",
    "        from google.colab import auth as google_auth\n",
    "\n",
    "        google_auth.authenticate_user()\n",
    "\n",
    "    # If you are running this notebook locally, replace the string below with the\n",
    "    # path to your service account key and run this cell to authenticate your GCP\n",
    "    # account.\n",
    "    elif not os.getenv(\"IS_TESTING\"):\n",
    "        %env GOOGLE_APPLICATION_CREDENTIALS ''"
   ]
  },
  {
   "cell_type": "markdown",
   "metadata": {
    "id": "bucket:custom"
   },
   "source": [
    "### 创建一个云存储桶\n",
    "\n",
    "**无论您使用哪个笔记本环境，都需要执行以下步骤。**\n",
    "\n",
    "使用 Vertex 客户端库提交自定义训练作业时，您需要将包含训练代码的 Python 包上传到一个云存储桶中。Vertex 将从这个包中运行代码。在本教程中，Vertex 还会将训练作业产生的训练模型保存在同一个存储桶中。然后您可以基于这个输出创建一个`Endpoint`资源，以便提供在线预测。\n",
    "\n",
    "在下面设置您的云存储桶的名称。存储桶的名称必须在所有 Google Cloud 项目中是全局唯一的，包括您组织外的那些项目。"
   ]
  },
  {
   "cell_type": "code",
   "execution_count": null,
   "metadata": {
    "id": "bucket"
   },
   "outputs": [],
   "source": [
    "BUCKET_NAME = \"gs://[your-bucket-name]\"  # @param {type:\"string\"}"
   ]
  },
  {
   "cell_type": "code",
   "execution_count": null,
   "metadata": {
    "id": "autoset_bucket"
   },
   "outputs": [],
   "source": [
    "if BUCKET_NAME == \"\" or BUCKET_NAME is None or BUCKET_NAME == \"gs://[your-bucket-name]\":\n",
    "    BUCKET_NAME = \"gs://\" + PROJECT_ID + \"aip-\" + TIMESTAMP"
   ]
  },
  {
   "cell_type": "markdown",
   "metadata": {
    "id": "create_bucket"
   },
   "source": [
    "只有在您的存储桶尚不存在时才运行以下命令以创建您的云存储存储桶。"
   ]
  },
  {
   "cell_type": "code",
   "execution_count": null,
   "metadata": {
    "id": "create_bucket"
   },
   "outputs": [],
   "source": [
    "! gsutil mb -l $REGION $BUCKET_NAME"
   ]
  },
  {
   "cell_type": "markdown",
   "metadata": {
    "id": "validate_bucket"
   },
   "source": [
    "最后，通过检查Cloud Storage存储桶中的内容来验证访问权限。"
   ]
  },
  {
   "cell_type": "code",
   "execution_count": null,
   "metadata": {
    "id": "validate_bucket"
   },
   "outputs": [],
   "source": [
    "! gsutil ls -al $BUCKET_NAME"
   ]
  },
  {
   "cell_type": "markdown",
   "metadata": {
    "id": "setup_vars"
   },
   "source": [
    "### 设置变量\n",
    "\n",
    "接下来，设置一些在教程中使用的变量。\n",
    "### 导入库和定义常量"
   ]
  },
  {
   "cell_type": "markdown",
   "metadata": {
    "id": "import_aip:protobuf"
   },
   "source": [
    "导入顶点客户端库\n",
    "\n",
    "将顶点客户端库导入到我们的Python环境中。"
   ]
  },
  {
   "cell_type": "code",
   "execution_count": null,
   "metadata": {
    "id": "import_aip:protobuf"
   },
   "outputs": [],
   "source": [
    "import time\n",
    "\n",
    "from google.cloud.aiplatform import gapic as aip\n",
    "from google.protobuf import json_format\n",
    "from google.protobuf.json_format import MessageToJson, ParseDict\n",
    "from google.protobuf.struct_pb2 import Struct, Value"
   ]
  },
  {
   "cell_type": "markdown",
   "metadata": {
    "id": "aip_constants"
   },
   "source": [
    "顶点常量\n",
    "\n",
    "为顶点设置以下常量：\n",
    "\n",
    "- `API_ENDPOINT`: 用于数据集、模型、作业、管道和端点服务的顶点API服务端点。\n",
    "- `PARENT`: 用于数据集、模型、作业、管道和端点资源的顶点位置根路径。"
   ]
  },
  {
   "cell_type": "code",
   "execution_count": null,
   "metadata": {
    "id": "aip_constants"
   },
   "outputs": [],
   "source": [
    "# API service endpoint\n",
    "API_ENDPOINT = \"{}-aiplatform.googleapis.com\".format(REGION)\n",
    "\n",
    "# Vertex location root path for your dataset, model and endpoint resources\n",
    "PARENT = \"projects/\" + PROJECT_ID + \"/locations/\" + REGION"
   ]
  },
  {
   "cell_type": "code",
   "execution_count": null,
   "metadata": {
    "id": "accelerators:training"
   },
   "outputs": [],
   "source": [
    "if os.getenv(\"IS_TESTING_TRAIN_GPU\"):\n",
    "    TRAIN_GPU, TRAIN_NGPU = (\n",
    "        aip.AcceleratorType.NVIDIA_TESLA_K80,\n",
    "        int(os.getenv(\"IS_TESTING_TRAIN_GPU\")),\n",
    "    )\n",
    "else:\n",
    "    TRAIN_GPU, TRAIN_NGPU = (aip.AcceleratorType.NVIDIA_TESLA_K80, 1)"
   ]
  },
  {
   "cell_type": "markdown",
   "metadata": {
    "id": "container:training"
   },
   "source": [
    "容器（Docker）映像\n",
    "\n",
    "接下来，我们将设置用于训练的Docker容器映像。\n",
    "\n",
    "- 将变量`TF`设置为容器映像的TensorFlow版本。例如，`2-1`将是版本2.1，`1-15`将是版本1.15。以下列表显示了一些预构建的可用映像：\n",
    "\n",
    " - TensorFlow 1.15\n",
    "   - `gcr.io/cloud-aiplatform/training/tf-cpu.1-15:latest`\n",
    "   - `gcr.io/cloud-aiplatform/training/tf-gpu.1-15:latest`\n",
    " - TensorFlow 2.1\n",
    "   - `gcr.io/cloud-aiplatform/training/tf-cpu.2-1:latest`\n",
    "   - `gcr.io/cloud-aiplatform/training/tf-gpu.2-1:latest`\n",
    " - TensorFlow 2.2\n",
    "   - `gcr.io/cloud-aiplatform/training/tf-cpu.2-2:latest`\n",
    "   - `gcr.io/cloud-aiplatform/training/tf-gpu.2-2:latest`\n",
    " - TensorFlow 2.3\n",
    "   - `gcr.io/cloud-aiplatform/training/tf-cpu.2-3:latest`\n",
    "   - `gcr.io/cloud-aiplatform/training/tf-gpu.2-3:latest`\n",
    " - TensorFlow 2.4\n",
    "   - `gcr.io/cloud-aiplatform/training/tf-cpu.2-4:latest`\n",
    "   - `gcr.io/cloud-aiplatform/training/tf-gpu.2-4:latest`\n",
    " - XGBoost\n",
    "   - `gcr.io/cloud-aiplatform/training/xgboost-cpu.1-1`\n",
    " - Scikit-learn\n",
    "   - `gcr.io/cloud-aiplatform/training/scikit-learn-cpu.0-23:latest`\n",
    " - Pytorch\n",
    "   - `gcr.io/cloud-aiplatform/training/pytorch-cpu.1-4:latest`\n",
    "   - `gcr.io/cloud-aiplatform/training/pytorch-cpu.1-5:latest`\n",
    "   - `gcr.io/cloud-aiplatform/training/pytorch-cpu.1-6:latest`\n",
    "   - `gcr.io/cloud-aiplatform/training/pytorch-cpu.1-7:latest`\n",
    "\n",
    "有关最新列表，请参阅[用于训练的预构建容器](https://cloud.google.com/vertex-ai/docs/training/pre-built-containers)。"
   ]
  },
  {
   "cell_type": "code",
   "execution_count": null,
   "metadata": {
    "id": "container:training"
   },
   "outputs": [],
   "source": [
    "if os.getenv(\"IS_TESTING_TF\"):\n",
    "    TF = os.getenv(\"IS_TESTING_TF\")\n",
    "else:\n",
    "    TF = \"2-1\"\n",
    "\n",
    "if TF[0] == \"2\":\n",
    "    if TRAIN_GPU:\n",
    "        TRAIN_VERSION = \"tf-gpu.{}\".format(TF)\n",
    "    else:\n",
    "        TRAIN_VERSION = \"tf-cpu.{}\".format(TF)\n",
    "else:\n",
    "    if TRAIN_GPU:\n",
    "        TRAIN_VERSION = \"tf-gpu.{}\".format(TF)\n",
    "    else:\n",
    "        TRAIN_VERSION = \"tf-cpu.{}\".format(TF)\n",
    "\n",
    "TRAIN_IMAGE = \"gcr.io/cloud-aiplatform/training/{}:latest\".format(TRAIN_VERSION)\n",
    "\n",
    "print(\"Training:\", TRAIN_IMAGE, TRAIN_GPU, TRAIN_NGPU)"
   ]
  },
  {
   "cell_type": "markdown",
   "metadata": {
    "id": "machine:training"
   },
   "source": [
    "#### 机器类型\n",
    "\n",
    "接下来，设置用于训练的机器类型。\n",
    "\n",
    "- 设置变量`TRAIN_COMPUTE`来配置用于训练的虚拟机的计算资源。\n",
    "   - `机器类型`\n",
    "     - `n1-standard`：每个虚拟CPU 3.75GB的内存。\n",
    "     - `n1-highmem`：每个虚拟CPU 6.5GB的内存\n",
    "     - `n1-highcpu`：每个虚拟CPU 0.9GB的内存\n",
    "  - `虚拟CPU数`：\\[2, 4, 8, 16, 32, 64, 96 \\]\n",
    "\n",
    "*注意：以下内容不支持训练：*\n",
    "\n",
    "   - `standard`：2个虚拟CPU\n",
    "   - `highcpu`：2、4和8个虚拟CPU\n",
    "\n",
    "*注意：您也可以使用n2和e2机器类型进行训练和部署，但它们不支持GPU。*"
   ]
  },
  {
   "cell_type": "code",
   "execution_count": null,
   "metadata": {
    "id": "machine:training"
   },
   "outputs": [],
   "source": [
    "if os.getenv(\"IS_TESTING_TRAIN_MACHINE\"):\n",
    "    MACHINE_TYPE = os.getenv(\"IS_TESTING_TRAIN_MACHINE\")\n",
    "else:\n",
    "    MACHINE_TYPE = \"n1-standard\"\n",
    "\n",
    "VCPU = \"4\"\n",
    "TRAIN_COMPUTE = MACHINE_TYPE + \"-\" + VCPU\n",
    "print(\"Train machine type\", TRAIN_COMPUTE)"
   ]
  },
  {
   "cell_type": "markdown",
   "metadata": {
    "id": "tutorial_start:custom,hpt"
   },
   "source": [
    "# 教程\n",
    "\n",
    "现在你已准备好开始创建自己的超参数调整和训练一个定制图像分类器。"
   ]
  },
  {
   "cell_type": "markdown",
   "metadata": {
    "id": "clients:custom,hpt"
   },
   "source": [
    "## 设置客户端\n",
    "\n",
    "Vertex 客户端库以客户端/服务器模型工作。在您的一侧（Python 脚本），您将创建一个客户端，该客户端向 Vertex 服务器发送请求并接收响应。\n",
    "\n",
    "在本教程中，您将为工作流程的不同步骤使用不同的客户端。因此，请提前设置它们。\n",
    "\n",
    "- 为“Model”资源设置模型服务。\n",
    "- 为超参数调优设置作业服务。"
   ]
  },
  {
   "cell_type": "code",
   "execution_count": null,
   "metadata": {
    "id": "clients:custom,hpt"
   },
   "outputs": [],
   "source": [
    "# client options same for all services\n",
    "client_options = {\"api_endpoint\": API_ENDPOINT}\n",
    "\n",
    "\n",
    "def create_job_client():\n",
    "    client = aip.JobServiceClient(client_options=client_options)\n",
    "    return client\n",
    "\n",
    "\n",
    "def create_model_client():\n",
    "    client = aip.ModelServiceClient(client_options=client_options)\n",
    "    return client\n",
    "\n",
    "\n",
    "clients = {}\n",
    "clients[\"job\"] = create_job_client()\n",
    "clients[\"model\"] = create_model_client()\n",
    "\n",
    "for client in clients.items():\n",
    "    print(client)"
   ]
  },
  {
   "cell_type": "markdown",
   "metadata": {
    "id": "tune_custom_model:simple"
   },
   "source": [
    "调整模型 - 你好世界\n",
    "\n",
    "有两种方法可以使用容器映像来调整超参数并训练自定义模型：\n",
    "\n",
    "- **使用Google Cloud预构建的容器**。如果使用预构建的容器，您还将指定要安装到容器映像中的Python软件包。这个Python软件包包含了用于超参数调整和训练自定义模型的代码。\n",
    "\n",
    "- **使用自己的自定义容器映像**。如果使用自己的容器，容器需要包含用于超参数调整和训练自定义模型的代码。"
   ]
  },
  {
   "cell_type": "markdown",
   "metadata": {
    "id": "train_custom_job_specification:prebuilt_container,hpt"
   },
   "source": [
    "准备好你的超参数调整作业规范\n",
    "\n",
    "现在你的客户准备好了，你的第一步是为你的超参数调整作业创建一个作业规范。 作业规范将包括以下内容：\n",
    "\n",
    "- `trial_job_spec`：自定义作业的规范。\n",
    "  - `worker_pool_spec`：用于超参数调整的机器类型和数量的规范（单一或分布式）\n",
    "  - `python_package_spec`：要与预构建容器一起安装的Python包的规范。\n",
    "\n",
    "- `study_spec`：对调整内容的规范。\n",
    "  - `parameters`：这是您将为自定义训练作业进行调整的超参数的规范。 它将包含一个列表\n",
    "  - `metrics`：这是如何评估每次调整试验结果的规范。"
   ]
  },
  {
   "cell_type": "markdown",
   "metadata": {
    "id": "train_custom_job_machine_specification"
   },
   "source": [
    "### 准备您的机器规格\n",
    "\n",
    "现在为您定制的超参数调整工作定义机器规格。这将告诉 Vertex 需要为超参数调整提供哪种类型的机器实例。\n",
    "- `machine_type`：要提供的 GCP 实例的类型 -- 例如，n1-standard-8。\n",
    "- `accelerator_type`：硬件加速器的类型（如果有的话）。在本教程中，如果您之前设置了变量`TRAIN_GPU != None`，则使用 GPU；否则您将使用 CPU。\n",
    "- `accelerator_count`：加速器的数量。"
   ]
  },
  {
   "cell_type": "code",
   "execution_count": null,
   "metadata": {
    "id": "train_custom_job_machine_specification"
   },
   "outputs": [],
   "source": [
    "if TRAIN_GPU:\n",
    "    machine_spec = {\n",
    "        \"machine_type\": TRAIN_COMPUTE,\n",
    "        \"accelerator_type\": TRAIN_GPU,\n",
    "        \"accelerator_count\": TRAIN_NGPU,\n",
    "    }\n",
    "else:\n",
    "    machine_spec = {\"machine_type\": TRAIN_COMPUTE, \"accelerator_count\": 0}"
   ]
  },
  {
   "cell_type": "markdown",
   "metadata": {
    "id": "train_custom_job_disk_specification"
   },
   "source": [
    "### 准备您的磁盘规格\n",
    "\n",
    "（可选）现在为您的自定义超参数调整作业定义磁盘规格。这告诉 Vertex 每个机器实例为超参数调整提供什么类型和大小的磁盘。\n",
    "\n",
    "- `boot_disk_type`：SSD 或标准。SSD 更快，标准更便宜。默认为 SSD。\n",
    "- `boot_disk_size_gb`：磁盘大小（以GB为单位）。"
   ]
  },
  {
   "cell_type": "code",
   "execution_count": null,
   "metadata": {
    "id": "train_custom_job_disk_specification"
   },
   "outputs": [],
   "source": [
    "DISK_TYPE = \"pd-ssd\"  # [ pd-ssd, pd-standard]\n",
    "DISK_SIZE = 200  # GB\n",
    "\n",
    "disk_spec = {\"boot_disk_type\": DISK_TYPE, \"boot_disk_size_gb\": DISK_SIZE}"
   ]
  },
  {
   "cell_type": "markdown",
   "metadata": {
    "id": "train_custom_job_worker_pool_specification:prebuilt_container"
   },
   "source": [
    "### 定义工作池规范\n",
    "\n",
    "接下来，您需要为自定义超参数调整作业定义工作池规范。工作池规范将包括以下内容：\n",
    "\n",
    "- `replica_count`: 该机器类型要预留的实例数。\n",
    "- `machine_spec`: 硬件规范。\n",
    "- `disk_spec`:（可选）磁盘存储规范。\n",
    "\n",
    "- `python_package`: 要在VM实例上安装的Python训练包，以及要调用的Python模块，以及Python模块的命令行参数。\n",
    "\n",
    "现在让我们深入了解Python包的规范：\n",
    "\n",
    "- `executor_image_spec`: 这是为您的自定义超参数调整作业配置的docker镜像。\n",
    "\n",
    "- `package_uris`: 这是您的Python训练包的位置（URI）列表，要安装在预留实例上。这些位置需要在云存储存储桶中。它们可以是单个Python文件，也可以是整个包的zip（归档）。在后一种情况下，作业服务将解压（解档）内容到docker镜像中。\n",
    "\n",
    "- `python_module`: 用于运行自定义超参数调整作业的Python模块（脚本）。在这个例子中，您将调用`trainer.task.py` -- 请注意，不需要附加`.py`后缀。\n",
    "\n",
    "- `args`: 要传递给相应Python模块的命令行参数。在这个例子中，您将设置：\n",
    "  - `\"--model-dir=\" + MODEL_DIR` : 存储模型构件的云存储位置。有两种方法告诉超参数调整脚本在哪里保存模型构件：\n",
    "      - 直接：将云存储位置作为命令行参数传递给您的训练脚本（设置变量`DIRECT = True`）。\n",
    "      - 间接：服务将云存储位置作为环境变量`AIP_MODEL_DIR`传递给您的训练脚本（设置变量`DIRECT = False`）。在这种情况下，您在作业规范中告诉服务模型构件的位置。\n",
    "  - `\"--epochs=\" + EPOCHS`: 训练时的epoch数。\n",
    "  - `\"--steps=\" + STEPS`: 每个epoch的步数（批次数）。\n",
    "  - `\"--distribute=\" + TRAIN_STRATEGY\"` : 用于单一或分布式超参数调整的超参数调整分布策略。\n",
    "     - `\"single\"`: 单个设备。\n",
    "     - `\"mirror\"`: 单个计算实例上的所有GPU设备。\n",
    "     - `\"multi\"`: 所有计算实例上的所有GPU设备。"
   ]
  },
  {
   "cell_type": "code",
   "execution_count": null,
   "metadata": {
    "id": "train_custom_job_worker_pool_specification:prebuilt_container"
   },
   "outputs": [],
   "source": [
    "JOB_NAME = \"custom_job_\" + TIMESTAMP\n",
    "MODEL_DIR = \"{}/{}\".format(BUCKET_NAME, JOB_NAME)\n",
    "\n",
    "if not TRAIN_NGPU or TRAIN_NGPU < 2:\n",
    "    TRAIN_STRATEGY = \"single\"\n",
    "else:\n",
    "    TRAIN_STRATEGY = \"mirror\"\n",
    "\n",
    "EPOCHS = 20\n",
    "STEPS = 100\n",
    "\n",
    "DIRECT = True\n",
    "if DIRECT:\n",
    "    CMDARGS = [\n",
    "        \"--model-dir=\" + MODEL_DIR,\n",
    "        \"--epochs=\" + str(EPOCHS),\n",
    "        \"--steps=\" + str(STEPS),\n",
    "        \"--distribute=\" + TRAIN_STRATEGY,\n",
    "    ]\n",
    "else:\n",
    "    CMDARGS = [\n",
    "        \"--epochs=\" + str(EPOCHS),\n",
    "        \"--steps=\" + str(STEPS),\n",
    "        \"--distribute=\" + TRAIN_STRATEGY,\n",
    "    ]\n",
    "\n",
    "worker_pool_spec = [\n",
    "    {\n",
    "        \"replica_count\": 1,\n",
    "        \"machine_spec\": machine_spec,\n",
    "        \"disk_spec\": disk_spec,\n",
    "        \"python_package_spec\": {\n",
    "            \"executor_image_uri\": TRAIN_IMAGE,\n",
    "            \"package_uris\": [BUCKET_NAME + \"/trainer_cifar10.tar.gz\"],\n",
    "            \"python_module\": \"trainer.task\",\n",
    "            \"args\": CMDARGS,\n",
    "        },\n",
    "    }\n",
    "]"
   ]
  },
  {
   "cell_type": "markdown",
   "metadata": {
    "id": "create_study_spec:simple"
   },
   "source": [
    "### 创建研究规范\n",
    "\n",
    "让我们从一个简单的研究开始。您只会使用一个参数 -- *学习率*。由于只有一个参数，进行随机搜索并没有太多意义。相反，我们将在一系列值上进行网格搜索。\n",
    "\n",
    "- `度量`:\n",
    " - `度量ID`: 在这个例子中，要报告回来的客观度量是`'val_accuracy'`。\n",
    " - `目标`: 在这个例子中，超参数调整服务将评估试验以最大化客观度量的值。\n",
    "- `参数`: 调整超参数的规范。\n",
    " - `参数ID`: 将作为命令行参数传递给Python软件包的超参数的名称。\n",
    "  - `缩放类型`: 缩放类型决定了超参数调整服务在搜索空间中搜索时使用的分辨率。\n",
    "   - `UNIT_LINEAR_SCALE`: 在搜索空间中分辨率相同。\n",
    "   - `UNIT_LOG_SCALE`: 靠近搜索空间底部的值距离更远。\n",
    "   - `UNIT_REVERSE_LOG_SCALE`: 靠近搜索空间顶部的值距离更远。\n",
    " - **搜索空间**: 在这里，您将指定用于选择调整超参数的值的搜索空间。\n",
    "   - `整数值规范`: 指定在`min_value`和`max_value`之间的整数范围的值。\n",
    "   - `双精度值规范`: 指定在`min_value`和`max_value`之间的连续范围的值。\n",
    "   - `离散值规范`: 指定一个值列表。\n",
    "- `算法`: 每次试验选择超参数值的搜索方法:\n",
    " - `GRID_SEARCH`: 组合搜索 -- 在这个例子中使用。\n",
    " - `RANDOM_SEARCH`: 随机搜索。"
   ]
  },
  {
   "cell_type": "code",
   "execution_count": null,
   "metadata": {
    "id": "create_study_spec:simple"
   },
   "outputs": [],
   "source": [
    "study_spec = {\n",
    "    \"metrics\": [\n",
    "        {\n",
    "            \"metric_id\": \"val_accuracy\",\n",
    "            \"goal\": aip.StudySpec.MetricSpec.GoalType.MAXIMIZE,\n",
    "        }\n",
    "    ],\n",
    "    \"parameters\": [\n",
    "        {\n",
    "            \"parameter_id\": \"lr\",\n",
    "            \"discrete_value_spec\": {\"values\": [0.001, 0.01, 0.1]},\n",
    "            \"scale_type\": aip.StudySpec.ParameterSpec.ScaleType.UNIT_LINEAR_SCALE,\n",
    "        }\n",
    "    ],\n",
    "    \"algorithm\": aip.StudySpec.Algorithm.GRID_SEARCH,\n",
    "}"
   ]
  },
  {
   "cell_type": "markdown",
   "metadata": {
    "id": "assemble_custom_hpt_job_specification"
   },
   "source": [
    "### 组装一个超参数调整作业规范\n",
    "\n",
    "现在，组装自定义超参数调整规范的完整描述：\n",
    "\n",
    "- `display_name`：您为此自定义超参数调整作业分配的可读名称。\n",
    "- `trial_job_spec`：自定义超参数调整作业的规范。\n",
    "- `study_spec`：要调整的规范。\n",
    "- `max_trial_count`：调整试验的最大数量。\n",
    "- `parallel_trial_count`：要并行尝试的试验数量；否则，它们将顺序进行。"
   ]
  },
  {
   "cell_type": "code",
   "execution_count": null,
   "metadata": {
    "id": "assemble_custom_hpt_job_specification"
   },
   "outputs": [],
   "source": [
    "hpt_job = {\n",
    "    \"display_name\": JOB_NAME,\n",
    "    \"trial_job_spec\": {\"worker_pool_specs\": worker_pool_spec},\n",
    "    \"study_spec\": study_spec,\n",
    "    \"max_trial_count\": 6,\n",
    "    \"parallel_trial_count\": 1,\n",
    "}"
   ]
  },
  {
   "cell_type": "markdown",
   "metadata": {
    "id": "examine_training_package"
   },
   "source": [
    "### 检查超参数调整包\n",
    "\n",
    "#### 包布局\n",
    "\n",
    "在开始进行超参数调整之前，您将查看一个用于自定义超参数调整作业的Python包是如何组装的。解压缩后，该包包含以下目录/文件布局。\n",
    "\n",
    "- PKG-INFO\n",
    "- README.md\n",
    "- setup.cfg\n",
    "- setup.py\n",
    "- trainer\n",
    "  - \\_\\_init\\_\\_.py\n",
    "  - task.py\n",
    "\n",
    "文件`setup.cfg`和`setup.py`是将包安装到Docker镜像的操作环境中的指令。\n",
    "\n",
    "文件`trainer/task.py`是执行自定义超参数调整作业的Python脚本。*请注意*，当我们在工作线程池规范中提及它时，我们用一个点(`trainer.task`)替换目录斜杠，并删除文件后缀(`.py`)。\n",
    "\n",
    "#### 包组装\n",
    "\n",
    "在接下来的单元格中，您将组装训练包。"
   ]
  },
  {
   "cell_type": "code",
   "execution_count": null,
   "metadata": {
    "id": "examine_training_package"
   },
   "outputs": [],
   "source": [
    "# Make folder for Python hyperparameter tuning script\n",
    "! rm -rf custom\n",
    "! mkdir custom\n",
    "\n",
    "# Add package information\n",
    "! touch custom/README.md\n",
    "\n",
    "setup_cfg = \"[egg_info]\\n\\ntag_build =\\n\\ntag_date = 0\"\n",
    "! echo \"$setup_cfg\" > custom/setup.cfg\n",
    "\n",
    "setup_py = \"import setuptools\\n\\nsetuptools.setup(\\n\\n    install_requires=[\\n\\n        'tensorflow_datasets==1.3.0',\\n\\n    ],\\n\\n    packages=setuptools.find_packages())\"\n",
    "! echo \"$setup_py\" > custom/setup.py\n",
    "\n",
    "pkg_info = \"Metadata-Version: 1.0\\n\\nName: CIFAR10 image classification\\n\\nVersion: 0.0.0\\n\\nSummary: Demostration hyperparameter tuning script\\n\\nHome-page: www.google.com\\n\\nAuthor: Google\\n\\nAuthor-email: aferlitsch@google.com\\n\\nLicense: Public\\n\\nDescription: Demo\\n\\nPlatform: Vertex\"\n",
    "! echo \"$pkg_info\" > custom/PKG-INFO\n",
    "\n",
    "# Make the training subfolder\n",
    "! mkdir custom/trainer\n",
    "! touch custom/trainer/__init__.py"
   ]
  },
  {
   "cell_type": "markdown",
   "metadata": {
    "id": "taskpy_contents:hpt,simple"
   },
   "source": [
    "#### Task.py内容\n",
    "\n",
    "在下一个单元格中，您可以编写超参数调整脚本task.py的内容。我不会详细介绍，只是供您查阅。总结如下：\n",
    "\n",
    "- 作为命令行参数传递试验的超参数值（`parser.add_argument('--lr',...)`）\n",
    "- 模拟训练循环，在每个循环（轮次）中，将变量`accuracy`设置为循环迭代次数乘以学习率。\n",
    "- 使用`report_hyperparameter_tuning_metric()`将计算的目标指标`accuracy`反馈给超参数调整服务。"
   ]
  },
  {
   "cell_type": "code",
   "execution_count": null,
   "metadata": {
    "id": "taskpy_contents:hpt,simple"
   },
   "outputs": [],
   "source": [
    "%%writefile custom/trainer/task.py\n",
    "# HP Tuning hello world example\n",
    "\n",
    "from __future__ import absolute_import, division, print_function, unicode_literals\n",
    "import tensorflow_datasets as tfds\n",
    "import tensorflow as tf\n",
    "from tensorflow.python.client import device_lib\n",
    "from hypertune import HyperTune\n",
    "import argparse\n",
    "import os\n",
    "import sys\n",
    "import time\n",
    "tfds.disable_progress_bar()\n",
    "\n",
    "parser = argparse.ArgumentParser()\n",
    "parser.add_argument('--lr', dest='lr',\n",
    "                    default=0.001, type=float,\n",
    "                    help='Learning rate.')\n",
    "parser.add_argument('--epochs', dest='epochs',\n",
    "                    default=10, type=int,\n",
    "                    help='Number of epochs.')\n",
    "parser.add_argument('--steps', dest='steps',\n",
    "                    default=200, type=int,\n",
    "                    help='Number of steps per epoch.')\n",
    "parser.add_argument('--model-dir',\n",
    "                    dest='model_dir',\n",
    "                    default='/tmp/saved_model',\n",
    "                    type=str,\n",
    "                    help='Model dir.')\n",
    "parser.add_argument('--distribute', dest='distribute', type=str, default='single',\n",
    "                    help='distributed training strategy')\n",
    "args = parser.parse_args()\n",
    "\n",
    "print('Python Version = {}'.format(sys.version))\n",
    "print('TensorFlow Version = {}'.format(tf.__version__))\n",
    "print('TF_CONFIG = {}'.format(os.environ.get('TF_CONFIG', 'Not found')))\n",
    "print(device_lib.list_local_devices())\n",
    "\n",
    "# Instantiate the HyperTune reporting object\n",
    "hpt = HyperTune()\n",
    "\n",
    "for epoch in range(1, args.epochs+1):\n",
    "    # mimic metric result at the end of an epoch\n",
    "    acc = args.lr * epoch\n",
    "    # save the metric result to communicate back to the HPT service\n",
    "    hpt.report_hyperparameter_tuning_metric(\n",
    "        hyperparameter_metric_tag='val_accuracy',\n",
    "        metric_value=acc,\n",
    "        global_step=epoch)\n",
    "    print('epoch: {}, accuracy: {}'.format(epoch, acc))\n",
    "    time.sleep(1)"
   ]
  },
  {
   "cell_type": "markdown",
   "metadata": {
    "id": "tarball_training_script"
   },
   "source": [
    "#### 将超参数调整脚本存储在您的云存储桶中\n",
    "\n",
    "接下来，将超参数调整文件夹打包成压缩的tar文件，然后存储在您的云存储桶中。"
   ]
  },
  {
   "cell_type": "code",
   "execution_count": null,
   "metadata": {
    "id": "tarball_training_script"
   },
   "outputs": [],
   "source": [
    "! rm -f custom.tar custom.tar.gz\n",
    "! tar cvf custom.tar custom\n",
    "! gzip custom.tar\n",
    "! gsutil cp custom.tar.gz $BUCKET_NAME/trainer_cifar10.tar.gz"
   ]
  },
  {
   "cell_type": "markdown",
   "metadata": {
    "id": "report_hypertune"
   },
   "source": [
    "### 使用HyperTune报告试验结果\n",
    "\n",
    "对于每次试验，您的Python脚本需要向超参数调整服务报告您指定为评估试验的标准的客观指标。\n",
    "\n",
    "在本示例中，您将在研究规范中指定客观指标将被报告为`val_accuracy`。\n",
    "\n",
    "您可以使用`HyperTune`报告客观指标的数值。这个Python模块用于向超参数调整服务传递关键/值对。为了设置这个报告在您的Python包中，您需要添加以下三个步骤的代码：\n",
    "\n",
    "1. 导入`HyperTune`模块：`from hypertune import HyperTune()`。\n",
    "2. 在每个epoch结束时，使用`hpt.report_hyperparameter_tuning_metric()`将客观函数的当前值作为关键/值对写入日志。在这个示例中，参数是：\n",
    " - `hyperparameter_metric_tag`：要报告的客观指标的名称。名称必须与研究规范中指定的名称完全相同。\n",
    " - `metric_value`：要报告给超参数服务的客观指标的值。\n",
    " - `global_step`：epoch迭代的全局步骤，从0开始。"
   ]
  },
  {
   "cell_type": "markdown",
   "metadata": {
    "id": "tune_custom_job"
   },
   "source": [
    "## 超参数调整模型\n",
    "\n",
    "现在开始在Vertex上调整自定义模型的超参数。使用这个帮助函数 `create_hyperparameter_tuning_job`，它接受以下参数：\n",
    "\n",
    "-`hpt_job`: 超参数调整作业的规范。\n",
    "\n",
    "该帮助函数调用作业客户端服务的 `create_hyperparameter_tuning_job` 方法，带有以下参数：\n",
    "\n",
    "-`parent`: `Dataset`、`Model` 和 `Endpoint` 资源的Vertex位置路径。\n",
    "-`hyperparameter_tuning_job`: 超参数调整作业的规范。\n",
    "\n",
    "您将会展示在 `response` 对象中返回的一些字段，最感兴趣的两个字段是：\n",
    "\n",
    "`response.name`: 分配给此自定义超参数调整作业的Vertex完整标识符。您将保存这个标识符以在后续步骤中使用。\n",
    "\n",
    "`response.state`: 自定义超参数调整作业的当前状态。"
   ]
  },
  {
   "cell_type": "code",
   "execution_count": null,
   "metadata": {
    "id": "tune_custom_job"
   },
   "outputs": [],
   "source": [
    "def create_hyperparameter_tuning_job(hpt_job):\n",
    "    response = clients[\"job\"].create_hyperparameter_tuning_job(\n",
    "        parent=PARENT, hyperparameter_tuning_job=hpt_job\n",
    "    )\n",
    "    print(\"name:\", response.name)\n",
    "    print(\"display_name:\", response.display_name)\n",
    "    print(\"state:\", response.state)\n",
    "    print(\"create_time:\", response.create_time)\n",
    "    print(\"update_time:\", response.update_time)\n",
    "    return response\n",
    "\n",
    "\n",
    "response = create_hyperparameter_tuning_job(hpt_job)"
   ]
  },
  {
   "cell_type": "markdown",
   "metadata": {
    "id": "hpt_job_id:response"
   },
   "source": [
    "现在获得您创建的超参数调优作业的唯一标识符。"
   ]
  },
  {
   "cell_type": "code",
   "execution_count": null,
   "metadata": {
    "id": "hpt_job_id:response"
   },
   "outputs": [],
   "source": [
    "# The full unique ID for the hyperparameter tuning job\n",
    "hpt_job_id = response.name\n",
    "# The short numeric ID for the hyperparameter tuning job\n",
    "hpt_job_short_id = hpt_job_id.split(\"/\")[-1]\n",
    "\n",
    "print(hpt_job_id)"
   ]
  },
  {
   "cell_type": "markdown",
   "metadata": {
    "id": "get_hpt_job"
   },
   "source": [
    "获取超参数调整作业的信息\n",
    "\n",
    "接下来，使用这个辅助函数`get_hyperparameter_tuning_job`，它接受以下参数：\n",
    "\n",
    "- `name`: 超参数调整作业的 Vertex 完全限定标识符。\n",
    "\n",
    "辅助函数调用作业客户端服务的`get_hyperparameter_tuning_job`方法，参数如下：\n",
    "\n",
    "- `name`: 超参数调整作业的 Vertex 完全限定标识符。\n",
    "\n",
    "如果你记得，当你调用`create_hyperparameter_tuning_job`方法时，在`response.name`字段中获得了超参数调整作业的 Vertex 完全限定标识符，并将标识符保存在变量`hpt_job_id`中。"
   ]
  },
  {
   "cell_type": "code",
   "execution_count": null,
   "metadata": {
    "id": "get_hpt_job"
   },
   "outputs": [],
   "source": [
    "def get_hyperparameter_tuning_job(name, silent=False):\n",
    "    response = clients[\"job\"].get_hyperparameter_tuning_job(name=name)\n",
    "    if silent:\n",
    "        return response\n",
    "\n",
    "    print(\"name:\", response.name)\n",
    "    print(\"display_name:\", response.display_name)\n",
    "    print(\"state:\", response.state)\n",
    "    print(\"create_time:\", response.create_time)\n",
    "    print(\"update_time:\", response.update_time)\n",
    "    return response\n",
    "\n",
    "\n",
    "response = get_hyperparameter_tuning_job(hpt_job_id)"
   ]
  },
  {
   "cell_type": "markdown",
   "metadata": {
    "id": "wait_tuning_complete"
   },
   "source": [
    "等待调整完成\n",
    "\n",
    "对上述模型进行超参数调整可能需要20分钟以上的时间。\n",
    "\n",
    "一旦您的模型调整完成，您可以通过将`end_time`减去`start_time`来计算调整模型所花费的实际时间。\n",
    "\n",
    "对于您的模型，我们需要知道每个试验保存模型的位置，Python脚本将其保存在您本地的云存储存储桶中的`MODEL_DIR + '/<trial_number>/saved_model.pb'`。"
   ]
  },
  {
   "cell_type": "code",
   "execution_count": null,
   "metadata": {
    "id": "wait_tuning_complete"
   },
   "outputs": [],
   "source": [
    "while True:\n",
    "    job_response = get_hyperparameter_tuning_job(hpt_job_id, True)\n",
    "    if job_response.state != aip.JobState.JOB_STATE_SUCCEEDED:\n",
    "        print(\"Study trials have not completed:\", job_response.state)\n",
    "        if job_response.state == aip.JobState.JOB_STATE_FAILED:\n",
    "            break\n",
    "    else:\n",
    "        if not DIRECT:\n",
    "            MODEL_DIR = MODEL_DIR + \"/model\"\n",
    "        print(\"Study trials have completed\")\n",
    "        break\n",
    "    time.sleep(60)"
   ]
  },
  {
   "cell_type": "markdown",
   "metadata": {
    "id": "review_study_results"
   },
   "source": [
    "### 请审查研究结果\n",
    "\n",
    "现在审查试验结果。"
   ]
  },
  {
   "cell_type": "code",
   "execution_count": null,
   "metadata": {
    "id": "review_study_results"
   },
   "outputs": [],
   "source": [
    "best = (None, None, None, 0.0)\n",
    "for trial in job_response.trials:\n",
    "    print(trial)\n",
    "    # Keep track of the best outcome\n",
    "    if float(trial.final_measurement.metrics[0].value) > best[3]:\n",
    "        try:\n",
    "            best = (\n",
    "                trial.id,\n",
    "                float(trial.parameters[0].value),\n",
    "                float(trial.parameters[1].value),\n",
    "                float(trial.final_measurement.metrics[0].value),\n",
    "            )\n",
    "        except:\n",
    "            best = (\n",
    "                trial.id,\n",
    "                float(trial.parameters[0].value),\n",
    "                None,\n",
    "                float(trial.final_measurement.metrics[0].value),\n",
    "            )"
   ]
  },
  {
   "cell_type": "markdown",
   "metadata": {
    "id": "best_trial"
   },
   "source": [
    "### 最佳试验\n",
    "\n",
    "现在看看哪个试验是最好的："
   ]
  },
  {
   "cell_type": "code",
   "execution_count": null,
   "metadata": {
    "id": "best_trial"
   },
   "outputs": [],
   "source": [
    "print(\"ID\", best[0])\n",
    "print(\"Learning Rate\", best[1])\n",
    "print(\"Decay\", best[2])\n",
    "print(\"Validation Accuracy\", best[3])"
   ]
  },
  {
   "cell_type": "markdown",
   "metadata": {
    "id": "get_best_model"
   },
   "source": [
    "## 获取最佳模型\n",
    "\n",
    "如果您使用了让服务告知调参脚本在哪里保存模型构件的方法（`DIRECT = False`），那么最佳模型的模型构件将保存在：\n",
    "\n",
    "    MODEL_DIR/<best_trial_id>/model"
   ]
  },
  {
   "cell_type": "code",
   "execution_count": null,
   "metadata": {
    "id": "get_best_model"
   },
   "outputs": [],
   "source": [
    "BEST_MODEL_DIR = MODEL_DIR + \"/\" + best[0] + \"/model\""
   ]
  },
  {
   "cell_type": "markdown",
   "metadata": {
    "id": "tune_custom_model:random"
   },
   "source": [
    "## 调整模型 - CIFAR10\n",
    "\n",
    "现在您已经了解了使用一个模拟训练模型的Python包进行超参数调整的整体步骤，您将为一个CIFAR10模型的自定义训练工作做一个新的超参数调整工作。\n",
    "\n",
    "在这个例子中，您需要更改两个部分：\n",
    "\n",
    "1. 指定CIFAR10自定义超参数调整的Python包。\n",
    "2. 指定一个针对CIFAR10自定义超参数调整的Python包中使用的超参数的研究规范。"
   ]
  },
  {
   "cell_type": "markdown",
   "metadata": {
    "id": "create_study_spec:random"
   },
   "source": [
    "### 创建一个研究规范\n",
    "\n",
    "在这项研究中，您将使用随机搜索算法优化两个超参数：\n",
    "\n",
    "- **学习率**：搜索空间是一组离散值。\n",
    "- **学习率衰减**：搜索空间是1e-6到1e-2之间的连续范围。\n",
    "\n",
    "目标（目标）是最大化验证准确性。\n",
    "\n",
    "您将最多运行六次试验。"
   ]
  },
  {
   "cell_type": "code",
   "execution_count": null,
   "metadata": {
    "id": "create_study_spec:random"
   },
   "outputs": [],
   "source": [
    "study_spec = {\n",
    "    \"metrics\": [\n",
    "        {\n",
    "            \"metric_id\": \"val_accuracy\",\n",
    "            \"goal\": aip.StudySpec.MetricSpec.GoalType.MAXIMIZE,\n",
    "        }\n",
    "    ],\n",
    "    \"parameters\": [\n",
    "        {\n",
    "            \"parameter_id\": \"lr\",\n",
    "            \"discrete_value_spec\": {\"values\": [0.001, 0.01, 0.1]},\n",
    "            \"scale_type\": aip.StudySpec.ParameterSpec.ScaleType.UNIT_LINEAR_SCALE,\n",
    "        },\n",
    "        {\n",
    "            \"parameter_id\": \"decay\",\n",
    "            \"double_value_spec\": {\"min_value\": 1e-6, \"max_value\": 1e-2},\n",
    "            \"scale_type\": aip.StudySpec.ParameterSpec.ScaleType.UNIT_LINEAR_SCALE,\n",
    "        },\n",
    "    ],\n",
    "    \"algorithm\": aip.StudySpec.Algorithm.RANDOM_SEARCH,\n",
    "}"
   ]
  },
  {
   "cell_type": "markdown",
   "metadata": {
    "id": "assemble_custom_hpt_job_specification"
   },
   "source": [
    "### 汇编超参数调整作业规范\n",
    "\n",
    "现在汇编自定义超参数调整规范的完整描述：\n",
    "\n",
    "- `display_name`：您为此自定义超参数调整作业分配的人类可读名称。\n",
    "- `trial_job_spec`：自定义超参数调整作业的规范。\n",
    "- `study_spec`：要调整的内容规范。\n",
    "- `max_trial_count`：最大调整试验次数。\n",
    "- `parallel_trial_count`：要并行尝试的试验数量；否则，它们将按顺序进行。"
   ]
  },
  {
   "cell_type": "code",
   "execution_count": null,
   "metadata": {
    "id": "assemble_custom_hpt_job_specification"
   },
   "outputs": [],
   "source": [
    "hpt_job = {\n",
    "    \"display_name\": JOB_NAME,\n",
    "    \"trial_job_spec\": {\"worker_pool_specs\": worker_pool_spec},\n",
    "    \"study_spec\": study_spec,\n",
    "    \"max_trial_count\": 6,\n",
    "    \"parallel_trial_count\": 1,\n",
    "}"
   ]
  },
  {
   "cell_type": "markdown",
   "metadata": {
    "id": "taskpy_contents:hpt,cifar10"
   },
   "source": [
    "#### Task.py的内容\n",
    "\n",
    "在下一个单元格中，您可以编写超参数调整脚本task.py的内容。我不会详细介绍，只是为了让您浏览一下。总结如下：\n",
    "\n",
    "- 解析命令行参数，设置当前试验的超参数。\n",
    "    - 从命令行获取保存模型文件的目录（`--model_dir`），如果未指定，则从环境变量`AIP_MODEL_DIR`中获取。\n",
    "- 下载并预处理CIFAR10数据集。\n",
    "- 构建一个CNN模型。\n",
    "- 在编译模型时使用学习率和衰减超参数值。\n",
    "- 定义一个名为`HPTCallback`的回调函数，该回调函数在每个epoch结束时获取验证准确率（`on_epoch_end()`）并报告给超参数调整服务使用`hpt.report_hyperparameter_tuning_metric()`。\n",
    "- 使用`fit()`方法训练模型，并指定一个回调函数，将验证准确率报告回超参数调整服务。"
   ]
  },
  {
   "cell_type": "code",
   "execution_count": null,
   "metadata": {
    "id": "taskpy_contents:hpt,cifar10"
   },
   "outputs": [],
   "source": [
    "%%writefile custom/trainer/task.py\n",
    "# Custom Job for CIFAR10\n",
    "\n",
    "import tensorflow_datasets as tfds\n",
    "import tensorflow as tf\n",
    "from hypertune import HyperTune\n",
    "import argparse\n",
    "import os\n",
    "import sys\n",
    "\n",
    "# Command Line arguments\n",
    "parser = argparse.ArgumentParser()\n",
    "parser.add_argument('--model-dir', dest='model_dir',\n",
    "                    default=os.getenv('AIP_MODEL_DIR'), type=str, help='Model dir.')\n",
    "parser.add_argument('--lr', dest='lr',\n",
    "                    default=0.001, type=float,\n",
    "                    help='Learning rate.')\n",
    "parser.add_argument('--decay', dest='decay',\n",
    "                    default=0.98, type=float,\n",
    "                    help='Decay rate')\n",
    "parser.add_argument('--epochs', dest='epochs',\n",
    "                    default=10, type=int,\n",
    "                    help='Number of epochs.')\n",
    "parser.add_argument('--steps', dest='steps',\n",
    "                    default=200, type=int,\n",
    "                    help='Number of steps per epoch.')\n",
    "parser.add_argument('--distribute', dest='distribute', type=str, default='single',\n",
    "                    help='distributed training strategy')\n",
    "args = parser.parse_args()\n",
    "\n",
    "\n",
    "# Scaling CIFAR-10 data from (0, 255] to (0., 1.]\n",
    "def scale(image, label):\n",
    "    image = tf.cast(image, tf.float32)\n",
    "    image /= 255.0\n",
    "    return image, label\n",
    "\n",
    "\n",
    "# Download the dataset\n",
    "datasets = tfds.load(name='cifar10', as_supervised=True)\n",
    "\n",
    "# Preparing dataset\n",
    "BUFFER_SIZE = 10000\n",
    "BATCH_SIZE = 64\n",
    "train_dataset = datasets['train'].map(scale).shuffle(BUFFER_SIZE).batch(BATCH_SIZE)\n",
    "test_dataset = datasets['test'].map(scale).batch(BATCH_SIZE)\n",
    "\n",
    "# Build the Keras model\n",
    "def build_and_compile_cnn_model():\n",
    "  model = tf.keras.Sequential([\n",
    "      tf.keras.layers.Conv2D(32, 3, activation='relu', input_shape=(32, 32, 3)),\n",
    "      tf.keras.layers.MaxPooling2D(),\n",
    "      tf.keras.layers.Conv2D(32, 3, activation='relu'),\n",
    "      tf.keras.layers.MaxPooling2D(),\n",
    "      tf.keras.layers.Flatten(),\n",
    "      tf.keras.layers.Dense(10, activation='softmax')\n",
    "  ])\n",
    "  model.compile(\n",
    "      loss=tf.keras.losses.sparse_categorical_crossentropy,\n",
    "      optimizer=tf.keras.optimizers.SGD(learning_rate=args.lr, decay=args.decay),\n",
    "      metrics=['accuracy'])\n",
    "  return model\n",
    "\n",
    "\n",
    "model = build_and_compile_cnn_model()\n",
    "\n",
    "# Instantiate the HyperTune reporting object\n",
    "hpt = HyperTune()\n",
    "\n",
    "# Reporting callback\n",
    "class HPTCallback(tf.keras.callbacks.Callback):\n",
    "\n",
    "    def on_epoch_end(self, epoch, logs=None):\n",
    "        global hpt\n",
    "        hpt.report_hyperparameter_tuning_metric(\n",
    "        hyperparameter_metric_tag='val_accuracy',\n",
    "        metric_value=logs['val_accuracy'],\n",
    "        global_step=epoch)\n",
    "\n",
    "# Train the model\n",
    "model.fit(train_dataset, epochs=5, steps_per_epoch=10, validation_data=test_dataset.take(8),\n",
    "    callbacks=[HPTCallback()])\n",
    "model.save(args.model_dir)"
   ]
  },
  {
   "cell_type": "markdown",
   "metadata": {
    "id": "tarball_training_script"
   },
   "source": [
    "把超参数调整脚本存储在您的云存储桶上\n",
    "\n",
    "接下来，您将超参数调整文件夹打包成压缩的 tar 文件，然后存储在您的云存储桶中。"
   ]
  },
  {
   "cell_type": "code",
   "execution_count": null,
   "metadata": {
    "id": "tarball_training_script"
   },
   "outputs": [],
   "source": [
    "! rm -f custom.tar custom.tar.gz\n",
    "! tar cvf custom.tar custom\n",
    "! gzip custom.tar\n",
    "! gsutil cp custom.tar.gz $BUCKET_NAME/trainer_cifar10.tar.gz"
   ]
  },
  {
   "cell_type": "markdown",
   "metadata": {
    "id": "report_hypertune"
   },
   "source": [
    "#### 使用 hypertune 报告试验结果\n",
    "\n",
    "对于每次试验，你的 Python 脚本需要向超参数调整服务报告你指定的评估标准的客观指标。\n",
    "\n",
    "在这个示例中，你需要在研究规范中指定客观指标将被报告为 `val_accuracy`。\n",
    "\n",
    "你可以使用 `HyperTune` 报告客观指标的数值。这个 Python 模块用于向超参数调整服务传递键值对。为了在你的 Python 包中设置这个报告，你需要添加以下三个步骤的代码：\n",
    "\n",
    "1. 导入 HyperTune 模块：`from hypertune import HyperTune()`。\n",
    "2. 在每个周期结束时，使用 `hpt.report_hyperparameter_tuning_metric()` 将客观函数的当前值写入日志作为键值对。在这个示例中，参数为：\n",
    " - `hyperparameter_metric_tag`：需要报告的客观指标的名称。这个名称必须与研究规范中指定的名称完全相同。\n",
    " - `metric_value`：需要向超参数服务报告的客观指标值。\n",
    " - `global_step`：周期迭代次数，从 0 开始计数。"
   ]
  },
  {
   "cell_type": "markdown",
   "metadata": {
    "id": "tune_custom_job"
   },
   "source": [
    "## 超参数调整模型\n",
    "\n",
    "现在开始在 Vertex 上对自定义模型进行超参数调整。使用这个辅助函数 `create_hyperparameter_tuning_job`，它接收以下参数：\n",
    "\n",
    "- `hpt_job`：用于超参数调整作业的规范。\n",
    "\n",
    "辅助函数调用作业客户端服务的 `create_hyperparameter_tuning_job` 方法，传入以下参数：\n",
    "\n",
    "- `parent`：指向 `Dataset`、`Model` 和 `Endpoint` 资源的 Vertex 位置路径。\n",
    "- `hyperparameter_tuning_job`：用于超参数调整作业的规范。\n",
    "\n",
    "您将显示 `response` 对象中返回的一些字段，其中最感兴趣的两个字段是：\n",
    "\n",
    "`response.name`：分配给此自定义超参数调整作业的 Vertex 完全限定标识符。保存此标识符以在后续步骤中使用。\n",
    "\n",
    "`response.state`：自定义超参数调整作业的当前状态。"
   ]
  },
  {
   "cell_type": "code",
   "execution_count": null,
   "metadata": {
    "id": "tune_custom_job"
   },
   "outputs": [],
   "source": [
    "def create_hyperparameter_tuning_job(hpt_job):\n",
    "    response = clients[\"job\"].create_hyperparameter_tuning_job(\n",
    "        parent=PARENT, hyperparameter_tuning_job=hpt_job\n",
    "    )\n",
    "    print(\"name:\", response.name)\n",
    "    print(\"display_name:\", response.display_name)\n",
    "    print(\"state:\", response.state)\n",
    "    print(\"create_time:\", response.create_time)\n",
    "    print(\"update_time:\", response.update_time)\n",
    "    return response\n",
    "\n",
    "\n",
    "response = create_hyperparameter_tuning_job(hpt_job)"
   ]
  },
  {
   "cell_type": "markdown",
   "metadata": {
    "id": "job_id:response"
   },
   "source": [
    "现在获取自定义工作的唯一标识符。"
   ]
  },
  {
   "cell_type": "code",
   "execution_count": null,
   "metadata": {
    "id": "job_id:response"
   },
   "outputs": [],
   "source": [
    "# The full unique ID for the custom job\n",
    "hpt_job_id = response.name\n",
    "# The short numeric ID for the custom job\n",
    "hpt_job_short_id = hpt_job_id.split(\"/\")[-1]\n",
    "\n",
    "print(hpt_job_id)"
   ]
  },
  {
   "cell_type": "markdown",
   "metadata": {
    "id": "get_hpt_job"
   },
   "source": [
    "### 获取超参数调整作业的信息\n",
    "\n",
    "接下来，使用这个辅助函数 `get_hyperparameter_tuning_job`，它接受以下参数：\n",
    "\n",
    "- `name`：超参数调整作业的 Vertex 完全限定标识符。\n",
    "\n",
    "辅助函数调用作业客户端服务的 `get_hyperparameter_tuning_job` 方法，参数为：\n",
    "\n",
    "- `name`：超参数调整作业的 Vertex 完全限定标识符。\n",
    "\n",
    "如果你还记得，你在调用 `create_hyperparameter_tuning_job` 方法时，在 `response.name` 字段中获得了超参数调整作业的 Vertex 完全限定标识符，并将其保存在变量 `hpt_job_id` 中。"
   ]
  },
  {
   "cell_type": "code",
   "execution_count": null,
   "metadata": {
    "id": "get_hpt_job"
   },
   "outputs": [],
   "source": [
    "def get_hyperparameter_tuning_job(name, silent=False):\n",
    "    response = clients[\"job\"].get_hyperparameter_tuning_job(name=name)\n",
    "    if silent:\n",
    "        return response\n",
    "\n",
    "    print(\"name:\", response.name)\n",
    "    print(\"display_name:\", response.display_name)\n",
    "    print(\"state:\", response.state)\n",
    "    print(\"create_time:\", response.create_time)\n",
    "    print(\"update_time:\", response.update_time)\n",
    "    return response\n",
    "\n",
    "\n",
    "response = get_hyperparameter_tuning_job(hpt_job_id)"
   ]
  },
  {
   "cell_type": "markdown",
   "metadata": {
    "id": "wait_tuning_complete"
   },
   "source": [
    "等待调整完成\n",
    "\n",
    "调整上述模型的超参数可能需要长达20分钟的时间。\n",
    "\n",
    "一旦您的模型完成调整，您可以通过将`end_time`减去`start_time`来计算调整模型所需的实际时间。\n",
    "\n",
    "对于您的模型，我们需要知道每次尝试保存模型的位置，该Python脚本将在您本地云存储桶中保存在`MODEL_DIR + '/<trial_number>/saved_model.pb'`。"
   ]
  },
  {
   "cell_type": "code",
   "execution_count": null,
   "metadata": {
    "id": "wait_tuning_complete"
   },
   "outputs": [],
   "source": [
    "while True:\n",
    "    job_response = get_hyperparameter_tuning_job(hpt_job_id, True)\n",
    "    if job_response.state != aip.JobState.JOB_STATE_SUCCEEDED:\n",
    "        print(\"Study trials have not completed:\", job_response.state)\n",
    "        if job_response.state == aip.JobState.JOB_STATE_FAILED:\n",
    "            break\n",
    "    else:\n",
    "        if not DIRECT:\n",
    "            MODEL_DIR = MODEL_DIR + \"/model\"\n",
    "        print(\"Study trials have completed\")\n",
    "        break\n",
    "    time.sleep(60)"
   ]
  },
  {
   "cell_type": "markdown",
   "metadata": {
    "id": "review_study_results"
   },
   "source": [
    "### 检讨研究结果\n",
    "\n",
    "现在检讨试验的结果。"
   ]
  },
  {
   "cell_type": "code",
   "execution_count": null,
   "metadata": {
    "id": "review_study_results"
   },
   "outputs": [],
   "source": [
    "best = (None, None, None, 0.0)\n",
    "for trial in job_response.trials:\n",
    "    print(trial)\n",
    "    # Keep track of the best outcome\n",
    "    if float(trial.final_measurement.metrics[0].value) > best[3]:\n",
    "        try:\n",
    "            best = (\n",
    "                trial.id,\n",
    "                float(trial.parameters[0].value),\n",
    "                float(trial.parameters[1].value),\n",
    "                float(trial.final_measurement.metrics[0].value),\n",
    "            )\n",
    "        except:\n",
    "            best = (\n",
    "                trial.id,\n",
    "                float(trial.parameters[0].value),\n",
    "                None,\n",
    "                float(trial.final_measurement.metrics[0].value),\n",
    "            )"
   ]
  },
  {
   "cell_type": "markdown",
   "metadata": {
    "id": "best_trial"
   },
   "source": [
    "### 最佳试验\n",
    "\n",
    "现在看看哪个试验是最好的："
   ]
  },
  {
   "cell_type": "code",
   "execution_count": null,
   "metadata": {
    "id": "best_trial"
   },
   "outputs": [],
   "source": [
    "print(\"ID\", best[0])\n",
    "print(\"Learning Rate\", best[1])\n",
    "print(\"Decay\", best[2])\n",
    "print(\"Validation Accuracy\", best[3])"
   ]
  },
  {
   "cell_type": "markdown",
   "metadata": {
    "id": "get_best_model"
   },
   "source": [
    "获取最佳模型\n",
    "\n",
    "如果您使用了让服务告诉调整脚本在哪里保存模型工件的方法（`DIRECT = False`），那么最佳模型的模型工件将保存在：\n",
    "\n",
    "    MODEL_DIR/<best_trial_id>/model"
   ]
  },
  {
   "cell_type": "code",
   "execution_count": null,
   "metadata": {
    "id": "get_best_model"
   },
   "outputs": [],
   "source": [
    "BEST_MODEL_DIR = MODEL_DIR + \"/\" + best[0] + \"/model\""
   ]
  },
  {
   "cell_type": "markdown",
   "metadata": {
    "id": "load_saved_model"
   },
   "source": [
    "加载保存的模型\n",
    "\n",
    "您的模型以TensorFlow SavedModel格式存储在云存储桶中。 现在从云存储桶加载它，然后您可以做一些事情，比如评估模型和进行预测。\n",
    "\n",
    "要加载，您可以使用TF.Keras的`model.load_model()`方法，将保存模型的云存储路径（由`MODEL_DIR`指定）传递给它。"
   ]
  },
  {
   "cell_type": "code",
   "execution_count": null,
   "metadata": {
    "id": "load_saved_model"
   },
   "outputs": [],
   "source": [
    "import tensorflow as tf\n",
    "\n",
    "model = tf.keras.models.load_model(MODEL_DIR)"
   ]
  },
  {
   "cell_type": "markdown",
   "metadata": {
    "id": "evaluate_custom_model:image"
   },
   "source": [
    "## 评估模型\n",
    "\n",
    "现在找出模型的表现如何。\n",
    "\n",
    "### 加载评估数据\n",
    "\n",
    "您将使用`tf.keras.datasets`中的`load_data()`方法加载CIFAR10测试（留存）数据。 这将返回一个包含两个元素的元组数据集。 第一个元素是训练数据，第二个是测试数据。 每个元素也是一个包含两个元素的元组：图像数据和对应的标签。\n",
    "\n",
    "您不需要训练数据，因此我们将其载入为 `(_,_)`。\n",
    "\n",
    "在您运行数据进行评估之前，您需要对其进行预处理：\n",
    "\n",
    "x_test:\n",
    "1. 通过将每个像素除以255来归一化（重新缩放）像素数据。 这将用0到1之间的32位浮点数替换每个单字节整数像素。\n",
    "\n",
    "y_test:\n",
    "2. 标签当前是标量（稀疏）的。 如果您回顾`trainer/task.py`脚本中的`compile()`步骤，您会发现它是为稀疏标签进行编译的。 因此我们不需要进行其他操作。"
   ]
  },
  {
   "cell_type": "code",
   "execution_count": null,
   "metadata": {
    "id": "evaluate_custom_model:image,cifar10"
   },
   "outputs": [],
   "source": [
    "import numpy as np\n",
    "from tensorflow.keras.datasets import cifar10\n",
    "\n",
    "(_, _), (x_test, y_test) = cifar10.load_data()\n",
    "x_test = (x_test / 255.0).astype(np.float32)\n",
    "\n",
    "print(x_test.shape, y_test.shape)"
   ]
  },
  {
   "cell_type": "markdown",
   "metadata": {
    "id": "perform_evaluation_custom"
   },
   "source": [
    "### 执行模型评估\n",
    "\n",
    "现在评估一下定制工作中的模型效果如何。"
   ]
  },
  {
   "cell_type": "code",
   "execution_count": null,
   "metadata": {
    "id": "perform_evaluation_custom"
   },
   "outputs": [],
   "source": [
    "model.evaluate(x_test, y_test)"
   ]
  },
  {
   "cell_type": "markdown",
   "metadata": {
    "id": "cleanup"
   },
   "source": [
    "清理工作\n",
    "\n",
    "为了清理在本项目中使用的所有GCP资源，您可以[删除用于教程的GCP项目](https://cloud.google.com/resource-manager/docs/creating-managing-projects#shutting_down_projects)。\n",
    "\n",
    "否则，您可以删除本教程中创建的各个资源：\n",
    "\n",
    "- 数据集\n",
    "- 流水线\n",
    "- 模型\n",
    "- 终端\n",
    "- 批处理作业\n",
    "- 自定义作业\n",
    "- 超参数调整作业\n",
    "- 云存储桶"
   ]
  },
  {
   "cell_type": "code",
   "execution_count": null,
   "metadata": {
    "id": "cleanup"
   },
   "outputs": [],
   "source": [
    "delete_dataset = True\n",
    "delete_pipeline = True\n",
    "delete_model = True\n",
    "delete_endpoint = True\n",
    "delete_batchjob = True\n",
    "delete_customjob = True\n",
    "delete_hptjob = True\n",
    "delete_bucket = True\n",
    "\n",
    "# Delete the dataset using the Vertex fully qualified identifier for the dataset\n",
    "try:\n",
    "    if delete_dataset and \"dataset_id\" in globals():\n",
    "        clients[\"dataset\"].delete_dataset(name=dataset_id)\n",
    "except Exception as e:\n",
    "    print(e)\n",
    "\n",
    "# Delete the training pipeline using the Vertex fully qualified identifier for the pipeline\n",
    "try:\n",
    "    if delete_pipeline and \"pipeline_id\" in globals():\n",
    "        clients[\"pipeline\"].delete_training_pipeline(name=pipeline_id)\n",
    "except Exception as e:\n",
    "    print(e)\n",
    "\n",
    "# Delete the model using the Vertex fully qualified identifier for the model\n",
    "try:\n",
    "    if delete_model and \"model_to_deploy_id\" in globals():\n",
    "        clients[\"model\"].delete_model(name=model_to_deploy_id)\n",
    "except Exception as e:\n",
    "    print(e)\n",
    "\n",
    "# Delete the endpoint using the Vertex fully qualified identifier for the endpoint\n",
    "try:\n",
    "    if delete_endpoint and \"endpoint_id\" in globals():\n",
    "        clients[\"endpoint\"].delete_endpoint(name=endpoint_id)\n",
    "except Exception as e:\n",
    "    print(e)\n",
    "\n",
    "# Delete the batch job using the Vertex fully qualified identifier for the batch job\n",
    "try:\n",
    "    if delete_batchjob and \"batch_job_id\" in globals():\n",
    "        clients[\"job\"].delete_batch_prediction_job(name=batch_job_id)\n",
    "except Exception as e:\n",
    "    print(e)\n",
    "\n",
    "# Delete the custom job using the Vertex fully qualified identifier for the custom job\n",
    "try:\n",
    "    if delete_customjob and \"job_id\" in globals():\n",
    "        clients[\"job\"].delete_custom_job(name=job_id)\n",
    "except Exception as e:\n",
    "    print(e)\n",
    "\n",
    "# Delete the hyperparameter tuning job using the Vertex fully qualified identifier for the hyperparameter tuning job\n",
    "try:\n",
    "    if delete_hptjob and \"hpt_job_id\" in globals():\n",
    "        clients[\"job\"].delete_hyperparameter_tuning_job(name=hpt_job_id)\n",
    "except Exception as e:\n",
    "    print(e)\n",
    "\n",
    "if delete_bucket and \"BUCKET_NAME\" in globals():\n",
    "    ! gsutil rm -r $BUCKET_NAME"
   ]
  }
 ],
 "metadata": {
  "colab": {
   "name": "showcase_hyperparmeter_tuning_image_classification.ipynb",
   "toc_visible": true
  },
  "kernelspec": {
   "display_name": "Python 3",
   "name": "python3"
  }
 },
 "nbformat": 4,
 "nbformat_minor": 0
}
