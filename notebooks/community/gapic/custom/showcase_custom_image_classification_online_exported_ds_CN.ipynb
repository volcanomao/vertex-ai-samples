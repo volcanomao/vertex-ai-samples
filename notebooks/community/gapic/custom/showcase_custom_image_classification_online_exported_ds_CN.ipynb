{
 "cells": [
  {
   "cell_type": "code",
   "execution_count": null,
   "metadata": {
    "id": "copyright"
   },
   "outputs": [],
   "source": [
    "# Copyright 2020 Google LLC\n",
    "#\n",
    "# Licensed under the Apache License, Version 2.0 (the \"License\");\n",
    "# you may not use this file except in compliance with the License.\n",
    "# You may obtain a copy of the License at\n",
    "#\n",
    "#     https://www.apache.org/licenses/LICENSE-2.0\n",
    "#\n",
    "# Unless required by applicable law or agreed to in writing, software\n",
    "# distributed under the License is distributed on an \"AS IS\" BASIS,\n",
    "# WITHOUT WARRANTIES OR CONDITIONS OF ANY KIND, either express or implied.\n",
    "# See the License for the specific language governing permissions and\n",
    "# limitations under the License."
   ]
  },
  {
   "cell_type": "markdown",
   "metadata": {
    "id": "title"
   },
   "source": [
    "# 顶点客户端库：使用导出数据集进行在线预测的自定义训练图像分类模型\n",
    "\n",
    "<table align=\"left\">\n",
    "  <td>\n",
    "    <a href=\"https://colab.research.google.com/github/GoogleCloudPlatform/vertex-ai-samples/blob/master/notebooks/community/gapic/custom/showcase_custom_image_classification_online_exported_ds.ipynb\">\n",
    "      <img src=\"https://cloud.google.com/ml-engine/images/colab-logo-32px.png\" alt=\"Colab logo\"> 在 Colab 中运行\n",
    "    </a>\n",
    "  </td>\n",
    "  <td>\n",
    "    <a href=\"https://github.com/GoogleCloudPlatform/vertex-ai-samples/blob/master/notebooks/community/gapic/custom/showcase_custom_image_classification_online_exported_ds.ipynb\">\n",
    "      <img src=\"https://cloud.google.com/ml-engine/images/github-logo-32px.png\" alt=\"GitHub logo\">\n",
    "      在 GitHub 上查看\n",
    "    </a>\n",
    "  </td>\n",
    "</table>\n",
    "<br/><br/><br/>"
   ]
  },
  {
   "cell_type": "markdown",
   "metadata": {
    "id": "overview:custom,exported_ds"
   },
   "source": [
    "## 概述\n",
    "\n",
    "本教程演示了如何使用Python的Vertex客户端库训练和部署自定义图像分类模型用于在线预测，采用导出的`Dataset`资源。"
   ]
  },
  {
   "cell_type": "markdown",
   "metadata": {
    "id": "dataset:flowers,icn"
   },
   "source": [
    "数据集\n",
    "\n",
    "本教程使用的数据集是来自[TensorFlow Datasets](https://www.tensorflow.org/datasets/catalog/overview)的[Flowers数据集](https://www.tensorflow.org/datasets/catalog/tf_flowers)。您在本教程中将使用的数据集版本存储在公共云存储桶中。训练的模型可以预测图像属于五种花中的哪一种：雏菊、蒲公英、玫瑰、向日葵或郁金香。"
   ]
  },
  {
   "cell_type": "markdown",
   "metadata": {
    "id": "objective:custom,exported_ds,online_prediction"
   },
   "source": [
    "### 目标\n",
    "\n",
    "在本教程中，您将学习如何使用在Docker容器中的Python脚本中导出的`Dataset`资源来创建一个自定义模型，使用Vertex客户端库，并对部署的模型进行预测。您也可以使用`gcloud`命令行工具或在Google Cloud控制台上在线创建模型。\n",
    "\n",
    "执行的步骤包括：\n",
    "\n",
    "- 创建Vertex`Dataset`资源。\n",
    "- 导出`Dataset`资源的清单。\n",
    "- 为训练模型创建Vertex自定义作业。\n",
    "- 导入导出的数据集清单。\n",
    "- 训练模型。\n",
    "- 检索并加载模型工件。\n",
    "- 查看模型评估。\n",
    "- 将模型上传为Vertex`Model`资源。\n",
    "- 部署`Model`资源到服务`Endpoint`资源。\n",
    "- 进行预测。\n",
    "- 取消部署`Model`资源。"
   ]
  },
  {
   "cell_type": "markdown",
   "metadata": {
    "id": "costs"
   },
   "source": [
    "成本\n",
    "\n",
    "本教程使用了 Google Cloud（GCP）的可计费组件：\n",
    "\n",
    "* Vertex AI\n",
    "* Cloud Storage\n",
    "\n",
    "了解[Vertex AI的定价](https://cloud.google.com/vertex-ai/pricing)和[Cloud Storage的定价](https://cloud.google.com/storage/pricing)，并使用[定价计算器](https://cloud.google.com/products/calculator/)根据您的预计使用量生成成本估算。"
   ]
  },
  {
   "cell_type": "markdown",
   "metadata": {
    "id": "install_aip"
   },
   "source": [
    "安装\n",
    "\n",
    "安装最新版本的Vertex客户端库。"
   ]
  },
  {
   "cell_type": "code",
   "execution_count": null,
   "metadata": {
    "id": "install_aip"
   },
   "outputs": [],
   "source": [
    "import os\n",
    "import sys\n",
    "\n",
    "# Google Cloud Notebook\n",
    "if os.path.exists(\"/opt/deeplearning/metadata/env_version\"):\n",
    "    USER_FLAG = \"--user\"\n",
    "else:\n",
    "    USER_FLAG = \"\"\n",
    "\n",
    "! pip3 install -U google-cloud-aiplatform $USER_FLAG"
   ]
  },
  {
   "cell_type": "markdown",
   "metadata": {
    "id": "install_storage"
   },
   "source": [
    "安装最新的 *google-cloud-storage* 库的GA版本。"
   ]
  },
  {
   "cell_type": "code",
   "execution_count": null,
   "metadata": {
    "id": "install_storage"
   },
   "outputs": [],
   "source": [
    "! pip3 install -U google-cloud-storage $USER_FLAG"
   ]
  },
  {
   "cell_type": "markdown",
   "metadata": {
    "id": "restart"
   },
   "source": [
    "### 重新启动核心\n",
    "\n",
    "一旦您安装了Vertex客户端库和Google *cloud-storage*，您需要重新启动笔记本核心，以便它可以找到这些软件包。"
   ]
  },
  {
   "cell_type": "code",
   "execution_count": null,
   "metadata": {
    "id": "restart"
   },
   "outputs": [],
   "source": [
    "if not os.getenv(\"IS_TESTING\"):\n",
    "    # Automatically restart kernel after installs\n",
    "    import IPython\n",
    "\n",
    "    app = IPython.Application.instance()\n",
    "    app.kernel.do_shutdown(True)"
   ]
  },
  {
   "cell_type": "markdown",
   "metadata": {
    "id": "before_you_begin"
   },
   "source": [
    "## 开始之前\n",
    "\n",
    "### GPU 运行时\n",
    "\n",
    "*如果您有GPU运行时选项，请确保在此笔记本中使用GPU运行时。在Colab中，选择* **Runtime > Change Runtime Type > GPU**\n",
    "\n",
    "### 设置您的谷歌云项目\n",
    "\n",
    "**以下步骤是必需的，无论您使用的是哪种笔记本环境。**\n",
    "\n",
    "1. [选择或创建一个谷歌云项目](https://console.cloud.google.com/cloud-resource-manager)。当您首次创建帐户时，您将获得$300的免费信用额度，用于支付计算/存储成本。\n",
    "\n",
    "2. [确保为您的项目启用了计费。](https://cloud.google.com/billing/docs/how-to/modify-project)\n",
    "\n",
    "3. [启用 Vertex API 和 Compute Engine API。](https://console.cloud.google.com/flows/enableapi?apiid=ml.googleapis.com,compute_component)\n",
    "\n",
    "4. [谷歌云 SDK](https://cloud.google.com/sdk) 已安装在谷歌云笔记本中。\n",
    "\n",
    "5. 在下面的单元格中输入您的项目 ID。然后运行该单元格，确保\n",
    "Cloud SDK 使用正确的项目执行此笔记本中的所有命令。\n",
    "\n",
    "**注意**：Jupyter 会将以 `!` 为前缀的行视为 shell 命令，它会将以 `$` 为前缀的 Python 变量插入这些命令中。"
   ]
  },
  {
   "cell_type": "code",
   "execution_count": null,
   "metadata": {
    "id": "set_project_id"
   },
   "outputs": [],
   "source": [
    "PROJECT_ID = \"[your-project-id]\"  # @param {type:\"string\"}"
   ]
  },
  {
   "cell_type": "code",
   "execution_count": null,
   "metadata": {
    "id": "autoset_project_id"
   },
   "outputs": [],
   "source": [
    "if PROJECT_ID == \"\" or PROJECT_ID is None or PROJECT_ID == \"[your-project-id]\":\n",
    "    # Get your GCP project id from gcloud\n",
    "    shell_output = !gcloud config list --format 'value(core.project)' 2>/dev/null\n",
    "    PROJECT_ID = shell_output[0]\n",
    "    print(\"Project ID:\", PROJECT_ID)"
   ]
  },
  {
   "cell_type": "code",
   "execution_count": null,
   "metadata": {
    "id": "set_gcloud_project_id"
   },
   "outputs": [],
   "source": [
    "! gcloud config set project $PROJECT_ID"
   ]
  },
  {
   "cell_type": "markdown",
   "metadata": {
    "id": "region"
   },
   "source": [
    "#### 地区\n",
    "\n",
    "您也可以更改`REGION`变量，该变量用于笔记本其余部分的操作。 以下是 Vertex 支持的地区。我们建议您选择离您最近的地区。\n",
    "\n",
    "- 美洲：`us-central1`\n",
    "- 欧洲：`europe-west4`\n",
    "- 亚太：`asia-east1`\n",
    "\n",
    "您可能无法使用多区域存储桶来进行 Vertex 的训练。并非所有地区都支持所有 Vertex 服务。有关每个地区的最新支持，请参阅[Vertex 位置文档](https://cloud.google.com/vertex-ai/docs/general/locations)。"
   ]
  },
  {
   "cell_type": "code",
   "execution_count": null,
   "metadata": {
    "id": "region"
   },
   "outputs": [],
   "source": [
    "REGION = \"us-central1\"  # @param {type: \"string\"}"
   ]
  },
  {
   "cell_type": "markdown",
   "metadata": {
    "id": "timestamp"
   },
   "source": [
    "时间戳\n",
    "\n",
    "如果您正在进行实时教程会话，您可能正在使用共享测试账户或项目。为了避免在创建的资源上发生名称冲突，您为每个实例会话创建一个时间戳，并将其附加到将在本教程中创建的资源的名称上。"
   ]
  },
  {
   "cell_type": "code",
   "execution_count": null,
   "metadata": {
    "id": "timestamp"
   },
   "outputs": [],
   "source": [
    "from datetime import datetime\n",
    "\n",
    "TIMESTAMP = datetime.now().strftime(\"%Y%m%d%H%M%S\")"
   ]
  },
  {
   "cell_type": "markdown",
   "metadata": {
    "id": "gcp_authenticate"
   },
   "source": [
    "###验证您的Google Cloud帐户\n",
    "\n",
    "**如果您正在使用Google Cloud Notebook**，则您的环境已经通过身份验证。跳过这一步。\n",
    "\n",
    "**如果您正在使用Colab**，运行下面的单元格，并按照提示进行身份验证。\n",
    "\n",
    "**否则**，请执行以下步骤：\n",
    "\n",
    "在Cloud控制台中，转到[创建服务帐号密钥](https://console.cloud.google.com/apis/credentials/serviceaccountkey)页面。\n",
    "\n",
    "**点击创建服务帐号**。\n",
    "\n",
    "在**服务帐号名称**字段中输入一个名称，然后点击**创建**。\n",
    "\n",
    "在**授予此服务帐号对项目的访问权限**部分，点击角色下拉列表。在过滤框中输入“Vertex”，然后选择**Vertex管理员**。在过滤框中输入“Storage Object Admin”，然后选择**存储对象管理员**。\n",
    "\n",
    "点击创建。包含您的密钥的JSON文件将下载到您的本地环境。\n",
    "\n",
    "在下面的单元格中，将您的服务帐号密钥的路径作为GOOGLE_APPLICATION_CREDENTIALS变量输入，并运行该单元格。"
   ]
  },
  {
   "cell_type": "code",
   "execution_count": null,
   "metadata": {
    "id": "gcp_authenticate"
   },
   "outputs": [],
   "source": [
    "# If you are running this notebook in Colab, run this cell and follow the\n",
    "# instructions to authenticate your GCP account. This provides access to your\n",
    "# Cloud Storage bucket and lets you submit training jobs and prediction\n",
    "# requests.\n",
    "\n",
    "# If on Google Cloud Notebook, then don't execute this code\n",
    "if not os.path.exists(\"/opt/deeplearning/metadata/env_version\"):\n",
    "    if \"google.colab\" in sys.modules:\n",
    "        from google.colab import auth as google_auth\n",
    "\n",
    "        google_auth.authenticate_user()\n",
    "\n",
    "    # If you are running this notebook locally, replace the string below with the\n",
    "    # path to your service account key and run this cell to authenticate your GCP\n",
    "    # account.\n",
    "    elif not os.getenv(\"IS_TESTING\"):\n",
    "        %env GOOGLE_APPLICATION_CREDENTIALS ''"
   ]
  },
  {
   "cell_type": "markdown",
   "metadata": {
    "id": "bucket:custom"
   },
   "source": [
    "### 创建一个云存储存储桶\n",
    "\n",
    "**无论您使用的是哪种笔记本环境，下面的步骤都是必需的。**\n",
    "\n",
    "当您使用Vertex客户端库提交自定义训练作业时，您需要将包含您的训练代码的Python软件包上传到一个云存储存储桶中。Vertex会从这个软件包中运行代码。在本教程中，Vertex还会将作业产生的训练模型保存在同一个存储桶中。然后您可以基于此输出创建一个`Endpoint`资源，以提供在线预测。\n",
    "\n",
    "请在下面输入您的云存储存储桶的名称。存储桶的名称必须在所有谷歌云项目中是全局唯一的，包括您组织之外的项目。"
   ]
  },
  {
   "cell_type": "code",
   "execution_count": null,
   "metadata": {
    "id": "bucket"
   },
   "outputs": [],
   "source": [
    "BUCKET_NAME = \"gs://[your-bucket-name]\"  # @param {type:\"string\"}"
   ]
  },
  {
   "cell_type": "code",
   "execution_count": null,
   "metadata": {
    "id": "autoset_bucket"
   },
   "outputs": [],
   "source": [
    "if BUCKET_NAME == \"\" or BUCKET_NAME is None or BUCKET_NAME == \"gs://[your-bucket-name]\":\n",
    "    BUCKET_NAME = \"gs://\" + PROJECT_ID + \"aip-\" + TIMESTAMP"
   ]
  },
  {
   "cell_type": "markdown",
   "metadata": {
    "id": "create_bucket"
   },
   "source": [
    "只有当您的存储桶尚不存在时，才运行以下单元格以创建您的云存储存储桶。"
   ]
  },
  {
   "cell_type": "code",
   "execution_count": null,
   "metadata": {
    "id": "create_bucket"
   },
   "outputs": [],
   "source": [
    "! gsutil mb -l $REGION $BUCKET_NAME"
   ]
  },
  {
   "cell_type": "markdown",
   "metadata": {
    "id": "validate_bucket"
   },
   "source": [
    "最后，通过检查其内容来验证对云存储桶的访问权限。"
   ]
  },
  {
   "cell_type": "code",
   "execution_count": null,
   "metadata": {
    "id": "validate_bucket"
   },
   "outputs": [],
   "source": [
    "! gsutil ls -al $BUCKET_NAME"
   ]
  },
  {
   "cell_type": "markdown",
   "metadata": {
    "id": "setup_vars"
   },
   "source": [
    "### 设置变量\n",
    "\n",
    "接下来，设置一些在本教程中使用的变量。\n",
    "### 导入库并定义常数\n",
    "\n",
    "### 导入库并定义常数"
   ]
  },
  {
   "cell_type": "markdown",
   "metadata": {
    "id": "import_aip:protobuf"
   },
   "source": [
    "#### 导入 Vertex 客户端库\n",
    "\n",
    "将 Vertex 客户端库导入我们的Python环境中。"
   ]
  },
  {
   "cell_type": "code",
   "execution_count": null,
   "metadata": {
    "id": "import_aip:protobuf"
   },
   "outputs": [],
   "source": [
    "import time\n",
    "\n",
    "from google.cloud.aiplatform import gapic as aip\n",
    "from google.protobuf import json_format\n",
    "from google.protobuf.struct_pb2 import Value"
   ]
  },
  {
   "cell_type": "markdown",
   "metadata": {
    "id": "aip_constants"
   },
   "source": [
    "顶点常量\n",
    "\n",
    "为顶点设置以下常量：\n",
    "\n",
    "- `API_ENDPOINT`：顶点API服务的数据集、模型、作业、管道和终端服务端点。\n",
    "- `PARENT`：数据集、模型、作业、管道和终端资源的顶点位置根路径。"
   ]
  },
  {
   "cell_type": "code",
   "execution_count": null,
   "metadata": {
    "id": "aip_constants"
   },
   "outputs": [],
   "source": [
    "# API service endpoint\n",
    "API_ENDPOINT = \"{}-aiplatform.googleapis.com\".format(REGION)\n",
    "\n",
    "# Vertex location root path for your dataset, model and endpoint resources\n",
    "PARENT = \"projects/\" + PROJECT_ID + \"/locations/\" + REGION"
   ]
  },
  {
   "cell_type": "markdown",
   "metadata": {
    "id": "labeling_constants:icn"
   },
   "source": [
    "标签常量\n",
    "\n",
    "设置`Dataset`资源的独特常量标签"
   ]
  },
  {
   "cell_type": "code",
   "execution_count": null,
   "metadata": {
    "id": "labeling_constants:icn"
   },
   "outputs": [],
   "source": [
    "# Image Dataset type\n",
    "DATA_SCHEMA = \"gs://google-cloud-aiplatform/schema/dataset/metadata/image_1.0.0.yaml\"\n",
    "# Image Labeling type\n",
    "LABEL_SCHEMA = \"gs://google-cloud-aiplatform/schema/dataset/ioformat/image_classification_single_label_io_format_1.0.0.yaml\""
   ]
  },
  {
   "cell_type": "markdown",
   "metadata": {
    "id": "accelerators:training,prediction,cpu"
   },
   "source": [
    "硬件加速器\n",
    "\n",
    "设置用于训练和预测的硬件加速器（例如，GPU）。\n",
    "\n",
    "设置`TRAIN_GPU/TRAIN_NGPU`和`DEPLOY_GPU/DEPLOY_NGPU`变量以使用支持GPU的容器映像以及分配给虚拟机（VM）实例的GPU数量。例如，要使用一个包含4个Nvidia Telsa K80 GPUs的GPU容器映像分配给每个VM，您应指定：\n",
    "\n",
    "    (aip.AcceleratorType.NVIDIA_TESLA_K80, 4)\n",
    "\n",
    "对于GPU，可用的加速器包括：\n",
    "   - aip.AcceleratorType.NVIDIA_TESLA_K80\n",
    "   - aip.AcceleratorType.NVIDIA_TESLA_P100\n",
    "   - aip.AcceleratorType.NVIDIA_TESLA_P4\n",
    "   - aip.AcceleratorType.NVIDIA_TESLA_T4\n",
    "   - aip.AcceleratorType.NVIDIA_TESLA_V100\n",
    "\n",
    "否则，指定`(None, None)`以在CPU上运行容器映像。\n",
    "\n",
    "*注意*：TF 2.3之前的GPU支持版本将无法在本教程中加载自定义模型。这是一个已知问题，在TF 2.3中已修复，这是由生成在serving函数中的静态图操作引起的。如果您在自己的自定义模型上遇到此问题，请使用支持GPU的TF 2.3容器映像。"
   ]
  },
  {
   "cell_type": "code",
   "execution_count": null,
   "metadata": {
    "id": "accelerators:training,prediction,cpu"
   },
   "outputs": [],
   "source": [
    "if os.getenv(\"IS_TESTING_TRAIN_GPU\"):\n",
    "    TRAIN_GPU, TRAIN_NGPU = (\n",
    "        aip.AcceleratorType.NVIDIA_TESLA_K80,\n",
    "        int(os.getenv(\"IS_TESTING_TRAIN_GPU\")),\n",
    "    )\n",
    "else:\n",
    "    TRAIN_GPU, TRAIN_NGPU = (aip.AcceleratorType.NVIDIA_TESLA_K80, 1)\n",
    "\n",
    "if os.getenv(\"IS_TESTING_DEPOLY_GPU\"):\n",
    "    DEPLOY_GPU, DEPLOY_NGPU = (\n",
    "        aip.AcceleratorType.NVIDIA_TESLA_K80,\n",
    "        int(os.getenv(\"IS_TESTING_DEPOLY_GPU\")),\n",
    "    )\n",
    "else:\n",
    "    DEPLOY_GPU, DEPLOY_NGPU = (None, None)"
   ]
  },
  {
   "cell_type": "markdown",
   "metadata": {
    "id": "container:training,prediction"
   },
   "source": [
    "#### 容器（Docker）镜像\n",
    "\n",
    "接下来，我们将设置用于训练和预测的Docker容器镜像\n",
    "\n",
    "- TensorFlow 1.15\n",
    "  - `gcr.io/cloud-aiplatform/training/tf-cpu.1-15:latest`\n",
    "  - `gcr.io/cloud-aiplatform/training/tf-gpu.1-15:latest`\n",
    "- TensorFlow 2.1\n",
    "  - `gcr.io/cloud-aiplatform/training/tf-cpu.2-1:latest`\n",
    "  - `gcr.io/cloud-aiplatform/training/tf-gpu.2-1:latest`\n",
    "- TensorFlow 2.2\n",
    "  - `gcr.io/cloud-aiplatform/training/tf-cpu.2-2:latest`\n",
    "  - `gcr.io/cloud-aiplatform/training/tf-gpu.2-2:latest`\n",
    "- TensorFlow 2.3\n",
    "  - `gcr.io/cloud-aiplatform/training/tf-cpu.2-3:latest`\n",
    "  - `gcr.io/cloud-aiplatform/training/tf-gpu.2-3:latest`\n",
    "- TensorFlow 2.4\n",
    "  - `gcr.io/cloud-aiplatform/training/tf-cpu.2-4:latest`\n",
    "  - `gcr.io/cloud-aiplatform/training/tf-gpu.2-4:latest`\n",
    "- XGBoost\n",
    "  - `gcr.io/cloud-aiplatform/training/xgboost-cpu.1-1`\n",
    "- Scikit-learn\n",
    "  - `gcr.io/cloud-aiplatform/training/scikit-learn-cpu.0-23:latest`\n",
    "- Pytorch\n",
    "  - `gcr.io/cloud-aiplatform/training/pytorch-cpu.1-4:latest`\n",
    "  - `gcr.io/cloud-aiplatform/training/pytorch-cpu.1-5:latest`\n",
    "  - `gcr.io/cloud-aiplatform/training/pytorch-cpu.1-6:latest`\n",
    "  - `gcr.io/cloud-aiplatform/training/pytorch-cpu.1-7:latest`\n",
    "\n",
    "最新列表，请参阅[用于训练的预建容器](https://cloud.google.com/vertex-ai/docs/training/pre-built-containers)。\n",
    "\n",
    "- TensorFlow 1.15\n",
    "  - `gcr.io/cloud-aiplatform/prediction/tf-cpu.1-15:latest`\n",
    "  - `gcr.io/cloud-aiplatform/prediction/tf-gpu.1-15:latest`\n",
    "- TensorFlow 2.1\n",
    "  - `gcr.io/cloud-aiplatform/prediction/tf2-cpu.2-1:latest`\n",
    "  - `gcr.io/cloud-aiplatform/prediction/tf2-gpu.2-1:latest`\n",
    "- TensorFlow 2.2\n",
    "  - `gcr.io/cloud-aiplatform/prediction/tf2-cpu.2-2:latest`\n",
    "  - `gcr.io/cloud-aiplatform/prediction/tf2-gpu.2-2:latest`\n",
    "- TensorFlow 2.3\n",
    "  - `gcr.io/cloud-aiplatform/prediction/tf2-cpu.2-3:latest`\n",
    "  - `gcr.io/cloud-aiplatform/prediction/tf2-gpu.2-3:latest`\n",
    "- XGBoost\n",
    "  - `gcr.io/cloud-aiplatform/prediction/xgboost-cpu.1-2:latest`\n",
    "  - `gcr.io/cloud-aiplatform/prediction/xgboost-cpu.1-1:latest`\n",
    "  - `gcr.io/cloud-aiplatform/prediction/xgboost-cpu.0-90:latest`\n",
    "  - `gcr.io/cloud-aiplatform/prediction/xgboost-cpu.0-82:latest`\n",
    "- Scikit-learn\n",
    "  - `gcr.io/cloud-aiplatform/prediction/sklearn-cpu.0-23:latest`\n",
    "  - `gcr.io/cloud-aiplatform/prediction/sklearn-cpu.0-22:latest`\n",
    "  - `gcr.io/cloud-aiplatform/prediction/sklearn-cpu.0-20:latest`\n",
    "\n",
    "最新列表，请参阅[用于预测的预建容器](https://cloud.google.com/vertex-ai/docs/predictions/pre-built-containers)"
   ]
  },
  {
   "cell_type": "code",
   "execution_count": null,
   "metadata": {
    "id": "container:training,prediction"
   },
   "outputs": [],
   "source": [
    "if os.getenv(\"IS_TESTING_TF\"):\n",
    "    TF = os.getenv(\"IS_TESTING_TF\")\n",
    "else:\n",
    "    TF = \"2-1\"\n",
    "\n",
    "if TF[0] == \"2\":\n",
    "    if TRAIN_GPU:\n",
    "        TRAIN_VERSION = \"tf-gpu.{}\".format(TF)\n",
    "    else:\n",
    "        TRAIN_VERSION = \"tf-cpu.{}\".format(TF)\n",
    "    if DEPLOY_GPU:\n",
    "        DEPLOY_VERSION = \"tf2-gpu.{}\".format(TF)\n",
    "    else:\n",
    "        DEPLOY_VERSION = \"tf2-cpu.{}\".format(TF)\n",
    "else:\n",
    "    if TRAIN_GPU:\n",
    "        TRAIN_VERSION = \"tf-gpu.{}\".format(TF)\n",
    "    else:\n",
    "        TRAIN_VERSION = \"tf-cpu.{}\".format(TF)\n",
    "    if DEPLOY_GPU:\n",
    "        DEPLOY_VERSION = \"tf-gpu.{}\".format(TF)\n",
    "    else:\n",
    "        DEPLOY_VERSION = \"tf-cpu.{}\".format(TF)\n",
    "\n",
    "TRAIN_IMAGE = \"gcr.io/cloud-aiplatform/training/{}:latest\".format(TRAIN_VERSION)\n",
    "DEPLOY_IMAGE = \"gcr.io/cloud-aiplatform/prediction/{}:latest\".format(DEPLOY_VERSION)\n",
    "\n",
    "print(\"Training:\", TRAIN_IMAGE, TRAIN_GPU, TRAIN_NGPU)\n",
    "print(\"Deployment:\", DEPLOY_IMAGE, DEPLOY_GPU, DEPLOY_NGPU)"
   ]
  },
  {
   "cell_type": "markdown",
   "metadata": {
    "id": "machine:training,prediction"
   },
   "source": [
    "#### 机器类型\n",
    "\n",
    "接下来，设置用于训练和预测的机器类型。\n",
    "\n",
    "- 设置变量`TRAIN_COMPUTE`和`DEPLOY_COMPUTE`来配置用于训练和预测的虚拟机的计算资源。\n",
    " - `机器类型`\n",
    "     - `n1-standard`：每个虚拟CPU 3.75GB内存。\n",
    "     - `n1-highmem`：每个虚拟CPU 6.5GB内存。\n",
    "     - `n1-highcpu`：每个虚拟CPU0.9GB内存。\n",
    " - `虚拟CPU个数`：\\[2, 4, 8, 16, 32, 64, 96\\]\n",
    "\n",
    "*注意：以下不支持用于训练:*\n",
    "\n",
    " - `standard`：2个虚拟CPU\n",
    " - `highcpu`：2、4和8个虚拟CPU\n",
    "\n",
    "*注意：您也可以使用n2和e2机器类型进行训练和部署，但它们不支持GPU*。"
   ]
  },
  {
   "cell_type": "code",
   "execution_count": null,
   "metadata": {
    "id": "machine:training,prediction"
   },
   "outputs": [],
   "source": [
    "if os.getenv(\"IS_TESTING_TRAIN_MACHINE\"):\n",
    "    MACHINE_TYPE = os.getenv(\"IS_TESTING_TRAIN_MACHINE\")\n",
    "else:\n",
    "    MACHINE_TYPE = \"n1-standard\"\n",
    "\n",
    "VCPU = \"4\"\n",
    "TRAIN_COMPUTE = MACHINE_TYPE + \"-\" + VCPU\n",
    "print(\"Train machine type\", TRAIN_COMPUTE)\n",
    "\n",
    "if os.getenv(\"IS_TESTING_DEPLOY_MACHINE\"):\n",
    "    MACHINE_TYPE = os.getenv(\"IS_TESTING_DEPLOY_MACHINE\")\n",
    "else:\n",
    "    MACHINE_TYPE = \"n1-standard\"\n",
    "\n",
    "VCPU = \"4\"\n",
    "DEPLOY_COMPUTE = MACHINE_TYPE + \"-\" + VCPU\n",
    "print(\"Deploy machine type\", DEPLOY_COMPUTE)"
   ]
  },
  {
   "cell_type": "markdown",
   "metadata": {
    "id": "tutorial_start:custom"
   },
   "source": [
    "# 教程\n",
    "\n",
    "现在你已经准备好为花朵创建自己的定制模型并进行训练了。"
   ]
  },
  {
   "cell_type": "markdown",
   "metadata": {
    "id": "clients:custom,exported_ds"
   },
   "source": [
    "## 设置客户端\n",
    "\n",
    "Vertex客户端库以客户端/服务器模型运行。在您的一侧（Python脚本）上，您将创建一个客户端，从Vertex服务器发送请求并接收响应。\n",
    "\n",
    "在本教程中，您将为工作流程的不同步骤使用不同的客户端。所以，请提前为它们全部设置。\n",
    "\n",
    "- 用于`Dataset`资源的数据集服务。\n",
    "- 用于`Model`资源的模型服务。\n",
    "- 用于部署的端点服务。\n",
    "- 用于批处理作业和自定义训练的作业服务。\n",
    "- 用于提供服务的预测服务。"
   ]
  },
  {
   "cell_type": "code",
   "execution_count": null,
   "metadata": {
    "id": "clients:custom,exported_ds"
   },
   "outputs": [],
   "source": [
    "# client options same for all services\n",
    "client_options = {\"api_endpoint\": API_ENDPOINT}\n",
    "\n",
    "\n",
    "def create_job_client():\n",
    "    client = aip.JobServiceClient(client_options=client_options)\n",
    "    return client\n",
    "\n",
    "\n",
    "def create_dataset_client():\n",
    "    client = aip.DatasetServiceClient(client_options=client_options)\n",
    "    return client\n",
    "\n",
    "\n",
    "def create_model_client():\n",
    "    client = aip.ModelServiceClient(client_options=client_options)\n",
    "    return client\n",
    "\n",
    "\n",
    "def create_endpoint_client():\n",
    "    client = aip.EndpointServiceClient(client_options=client_options)\n",
    "    return client\n",
    "\n",
    "\n",
    "def create_prediction_client():\n",
    "    client = aip.PredictionServiceClient(client_options=client_options)\n",
    "    return client\n",
    "\n",
    "\n",
    "clients = {}\n",
    "clients[\"job\"] = create_job_client()\n",
    "clients[\"dataset\"] = create_dataset_client()\n",
    "clients[\"model\"] = create_model_client()\n",
    "clients[\"endpoint\"] = create_endpoint_client()\n",
    "clients[\"prediction\"] = create_prediction_client()\n",
    "\n",
    "for client in clients.items():\n",
    "    print(client)"
   ]
  },
  {
   "cell_type": "markdown",
   "metadata": {
    "id": "create_aip_dataset"
   },
   "source": [
    "## 数据集\n",
    "\n",
    "现在您的客户已经准备好，训练模型的第一步是创建一个托管的数据集实例，然后将您的标记数据上传到其中。\n",
    "\n",
    "### 创建 `Dataset` 资源实例\n",
    "\n",
    "使用辅助函数 `create_dataset` 来创建 `Dataset` 资源的实例。此函数执行以下操作：\n",
    "\n",
    "1. 使用数据集客户端服务。\n",
    "2. 创建一个 Vertex `Dataset` 资源（`aip.Dataset`），具有以下参数：\n",
    "   - `display_name`：您选择的可读名称。\n",
    "   - `metadata_schema_uri`：数据集类型的架构。\n",
    "3. 调用客户端数据集服务方法 `create_dataset`，具有以下参数：\n",
    "   - `parent`：您的 `Database`、`Model` 和 `Endpoint` 资源的 Vertex 位置根路径。\n",
    "   - `dataset`：您创建的 Vertex 数据集对象实例。\n",
    "4. 该方法返回一个 `operation` 对象。\n",
    "\n",
    "`operation` 对象是 Vertex 处理长时间运行操作的异步调用的方式。虽然这一步通常很快，但在您首次在项目中使用时，由于需要进行配置，可能会有较长的延迟。\n",
    "\n",
    "您可以使用 `operation` 对象来获取操作的状态（例如，创建 `Dataset` 资源）或取消操作，通过调用操作方法：\n",
    "\n",
    "| 方法         | 描述          |\n",
    "| ------------ | ------------ |\n",
    "| result()     | 等待操作完成并返回 JSON 格式的结果对象。 |\n",
    "| running()    | 返回操作是否仍在运行的 True/False 值。 |\n",
    "| done()       | 返回操作是否已经完成的 True/False 值。 |\n",
    "| canceled()   | 返回操作是否已取消的 True/False 值。 |\n",
    "| cancel()     | 取消操作（可能需要多达 30 秒）。 |"
   ]
  },
  {
   "cell_type": "code",
   "execution_count": null,
   "metadata": {
    "id": "create_aip_dataset"
   },
   "outputs": [],
   "source": [
    "TIMEOUT = 90\n",
    "\n",
    "\n",
    "def create_dataset(name, schema, labels=None, timeout=TIMEOUT):\n",
    "    start_time = time.time()\n",
    "    try:\n",
    "        dataset = aip.Dataset(\n",
    "            display_name=name, metadata_schema_uri=schema, labels=labels\n",
    "        )\n",
    "\n",
    "        operation = clients[\"dataset\"].create_dataset(parent=PARENT, dataset=dataset)\n",
    "        print(\"Long running operation:\", operation.operation.name)\n",
    "        result = operation.result(timeout=TIMEOUT)\n",
    "        print(\"time:\", time.time() - start_time)\n",
    "        print(\"response\")\n",
    "        print(\" name:\", result.name)\n",
    "        print(\" display_name:\", result.display_name)\n",
    "        print(\" metadata_schema_uri:\", result.metadata_schema_uri)\n",
    "        print(\" metadata:\", dict(result.metadata))\n",
    "        print(\" create_time:\", result.create_time)\n",
    "        print(\" update_time:\", result.update_time)\n",
    "        print(\" etag:\", result.etag)\n",
    "        print(\" labels:\", dict(result.labels))\n",
    "        return result\n",
    "    except Exception as e:\n",
    "        print(\"exception:\", e)\n",
    "        return None\n",
    "\n",
    "\n",
    "result = create_dataset(\"flowers-\" + TIMESTAMP, DATA_SCHEMA)"
   ]
  },
  {
   "cell_type": "markdown",
   "metadata": {
    "id": "dataset_id:result"
   },
   "source": [
    "现在保存您创建的“数据集”资源实例的唯一数据集标识符。"
   ]
  },
  {
   "cell_type": "code",
   "execution_count": null,
   "metadata": {
    "id": "dataset_id:result"
   },
   "outputs": [],
   "source": [
    "# The full unique ID for the dataset\n",
    "dataset_id = result.name\n",
    "# The short numeric ID for the dataset\n",
    "dataset_short_id = dataset_id.split(\"/\")[-1]\n",
    "\n",
    "print(dataset_id)"
   ]
  },
  {
   "cell_type": "markdown",
   "metadata": {
    "id": "data_preparation:image,u_dataset"
   },
   "source": [
    "数据准备\n",
    "\n",
    "Vertex中的“数据集”资源用于图像，对您的数据有一些要求：\n",
    "\n",
    "- 图像必须存储在Cloud Storage存储桶中。\n",
    "- 每个图像文件必须是图像格式（PNG、JPEG、BMP等）。\n",
    "- 必须在您的Cloud Storage存储桶中存储一个包含每个图像路径和标签的索引文件。\n",
    "- 索引文件必须是CSV或JSONL格式。"
   ]
  },
  {
   "cell_type": "markdown",
   "metadata": {
    "id": "data_import_format:icn,u_dataset,csv"
   },
   "source": [
    "CSV索引文件的要求如下：\n",
    "\n",
    "- 没有标题。\n",
    "- 第一列是图像的云存储路径。\n",
    "- 第二列是标签。"
   ]
  },
  {
   "cell_type": "markdown",
   "metadata": {
    "id": "import_file:u_dataset,csv"
   },
   "source": [
    "云存储训练数据的位置。\n",
    "\n",
    "现在将变量`IMPORT_FILE`设置为云存储中CSV索引文件的位置。"
   ]
  },
  {
   "cell_type": "code",
   "execution_count": null,
   "metadata": {
    "id": "import_file:flowers,csv,icn"
   },
   "outputs": [],
   "source": [
    "IMPORT_FILE = (\n",
    "    \"gs://cloud-samples-data/vision/automl_classification/flowers/all_data_v2.csv\"\n",
    ")"
   ]
  },
  {
   "cell_type": "markdown",
   "metadata": {
    "id": "quick_peek:csv"
   },
   "source": [
    "快速查看您的数据\n",
    "\n",
    "您将使用存储在公共云存储桶中的 Flowers 数据集的一个版本，使用一个 CSV 索引文件。\n",
    "\n",
    "从快速查看数据开始。您可以通过计算 CSV 索引文件中的行数（`wc -l`）来计算示例的数量，然后浏览前几行。"
   ]
  },
  {
   "cell_type": "code",
   "execution_count": null,
   "metadata": {
    "id": "quick_peek:csv"
   },
   "outputs": [],
   "source": [
    "if \"IMPORT_FILES\" in globals():\n",
    "    FILE = IMPORT_FILES[0]\n",
    "else:\n",
    "    FILE = IMPORT_FILE\n",
    "\n",
    "count = ! gsutil cat $FILE | wc -l\n",
    "print(\"Number of Examples\", int(count[0]))\n",
    "\n",
    "print(\"First 10 rows\")\n",
    "! gsutil cat $FILE | head"
   ]
  },
  {
   "cell_type": "markdown",
   "metadata": {
    "id": "import_data"
   },
   "source": [
    "### 导入数据\n",
    "\n",
    "现在，将数据导入到您的 Vertex 数据集资源中。使用这个辅助函数 `import_data` 来导入数据。该函数执行以下操作：\n",
    "\n",
    "- 使用 `Dataset` 客户端。\n",
    "- 调用客户端方法 `import_data`，并传入以下参数：\n",
    "  - `name`：您对 `Dataset` 资源命名的人类可读名称（例如，flowers）。\n",
    "  - `import_configs`：导入配置。\n",
    "\n",
    "- `import_configs`：一个包含字典的 Python 列表，具有以下键/值条目：\n",
    "  - `gcs_sources`：URI 列表，指向一个或多个索引文件的路径。\n",
    "  - `import_schema_uri`：标识标记类型的模式。\n",
    "\n",
    "`import_data()` 方法将返回一个长时间运行的 `operation` 对象。这将需要几分钟来完成。如果您正在进行实时教程，在这个时候可以提问或休息片刻。"
   ]
  },
  {
   "cell_type": "code",
   "execution_count": null,
   "metadata": {
    "id": "import_data"
   },
   "outputs": [],
   "source": [
    "def import_data(dataset, gcs_sources, schema):\n",
    "    config = [{\"gcs_source\": {\"uris\": gcs_sources}, \"import_schema_uri\": schema}]\n",
    "    print(\"dataset:\", dataset_id)\n",
    "    start_time = time.time()\n",
    "    try:\n",
    "        operation = clients[\"dataset\"].import_data(\n",
    "            name=dataset_id, import_configs=config\n",
    "        )\n",
    "        print(\"Long running operation:\", operation.operation.name)\n",
    "\n",
    "        result = operation.result()\n",
    "        print(\"result:\", result)\n",
    "        print(\"time:\", int(time.time() - start_time), \"secs\")\n",
    "        print(\"error:\", operation.exception())\n",
    "        print(\"meta :\", operation.metadata)\n",
    "        print(\n",
    "            \"after: running:\",\n",
    "            operation.running(),\n",
    "            \"done:\",\n",
    "            operation.done(),\n",
    "            \"cancelled:\",\n",
    "            operation.cancelled(),\n",
    "        )\n",
    "\n",
    "        return operation\n",
    "    except Exception as e:\n",
    "        print(\"exception:\", e)\n",
    "        return None\n",
    "\n",
    "\n",
    "import_data(dataset_id, [IMPORT_FILE], LABEL_SCHEMA)"
   ]
  },
  {
   "cell_type": "markdown",
   "metadata": {
    "id": "export_dataset"
   },
   "source": [
    "### 导出数据集索引\n",
    "\n",
    "接下来，您将把数据集索引导出到一个 JSONL 文件中，然后您的自定义训练任务将使用该文件获取数据和相应的标签，用于训练您的 Flowers 模型。使用这个辅助函数 `export_data` 来导出数据集索引。该函数执行以下操作：\n",
    "\n",
    "- 使用数据集客户端。\n",
    "- 调用客户端方法 `export_data`，传入以下参数：\n",
    "  - `name`：您给数据集的可读名称（例如 flowers）。\n",
    "  - `export_config`：导出配置。\n",
    "- `export_config`：一个包含字典的 Python 列表，其中包含以下键值对：\n",
    "  - `gcs_destination`：要将 JSONL 数据集索引文件写入的 Cloud Storage 存储桶。\n",
    "\n",
    "`export_data()` 方法返回一个长时间运行的 `operation` 对象。这将需要几分钟的时间才能完成。当导出完成时，辅助函数将返回长时间运行的操作和操作的结果。"
   ]
  },
  {
   "cell_type": "code",
   "execution_count": null,
   "metadata": {
    "id": "export_dataset"
   },
   "outputs": [],
   "source": [
    "EXPORT_FILE = BUCKET_NAME + \"/export\"\n",
    "\n",
    "\n",
    "def export_data(dataset_id, gcs_dest):\n",
    "    config = {\"gcs_destination\": {\"output_uri_prefix\": gcs_dest}}\n",
    "    start_time = time.time()\n",
    "    try:\n",
    "        operation = clients[\"dataset\"].export_data(\n",
    "            name=dataset_id, export_config=config\n",
    "        )\n",
    "        print(\"Long running operation:\", operation.operation.name)\n",
    "\n",
    "        result = operation.result()\n",
    "        print(\"result:\", result)\n",
    "        print(\"time:\", int(time.time() - start_time), \"secs\")\n",
    "        print(\"error:\", operation.exception())\n",
    "        print(\"meta :\", operation.metadata)\n",
    "        print(\n",
    "            \"after: running:\",\n",
    "            operation.running(),\n",
    "            \"done:\",\n",
    "            operation.done(),\n",
    "            \"cancelled:\",\n",
    "            operation.cancelled(),\n",
    "        )\n",
    "\n",
    "        return operation, result\n",
    "    except Exception as e:\n",
    "        print(\"exception:\", e)\n",
    "        return None, None\n",
    "\n",
    "\n",
    "_, result = export_data(dataset_id, EXPORT_FILE)"
   ]
  },
  {
   "cell_type": "markdown",
   "metadata": {
    "id": "export_dataset_quick_peak:icn"
   },
   "source": [
    "### 快速查看您的导出数据集索引文件\n",
    "\n",
    "现在让我们快速浏览导出数据集索引文件的内容。当`export_data()`完成时，可以从长时间运行操作的`result()`方法中获取响应对象。响应对象包含以下属性：\n",
    "\n",
    "- `exported_files`: 导出数据集索引文件的路径列表，在这种情况下将为一个文件。\n",
    "\n",
    "您将获得导出数据集索引文件的路径(`result.exported_files[0]`)，然后显示文件中的前十个JSON对象--即数据项。\n",
    "\n",
    "每个数据项的JSONL格式如下：\n",
    "\n",
    "    { \"imageGcsUri\": 图像路径, \"classificationAnnotation\": { \"displayName\": 标签 } }"
   ]
  },
  {
   "cell_type": "code",
   "execution_count": null,
   "metadata": {
    "id": "export_dataset_quick_peak:icn"
   },
   "outputs": [],
   "source": [
    "jsonl_index = result.exported_files[0]\n",
    "\n",
    "! gsutil cat $jsonl_index | head"
   ]
  },
  {
   "cell_type": "markdown",
   "metadata": {
    "id": "export_dataset_read_file:icn"
   },
   "source": [
    "#### 读取索引文件\n",
    "\n",
    "您需要向自定义训练的 Python 脚本中添加代码，以读取导出的数据集索引，从而能够为自定义训练模型生成训练批次。\n",
    "\n",
    "以下是如何读取导出的数据集索引文件的示例：\n",
    "\n",
    "1. 使用 Tensorflow 的 Cloud Storage 文件方法来打开文件（`tf.io.gfile.GFile()`），并读取所有行（`f.readlines()`），每一行都代表一个 JSONL 对象的数据项。\n",
    "\n",
    "2. 针对文件中的每一行，将该行转换为一个 JSON 对象（`json.loads()`）。\n",
    "\n",
    "3. 提取图像的路径（`['imageGcsUri']`）和标签（`['classificationAnnotation']['displayName']`）。"
   ]
  },
  {
   "cell_type": "code",
   "execution_count": null,
   "metadata": {
    "id": "export_dataset_read_file:icn"
   },
   "outputs": [],
   "source": [
    "import json\n",
    "\n",
    "import tensorflow as tf\n",
    "\n",
    "with tf.io.gfile.GFile(jsonl_index, \"r\") as f:\n",
    "    export_data_items = f.readlines()\n",
    "\n",
    "for _ in range(10):\n",
    "    j = json.loads(export_data_items[_])\n",
    "    print(j[\"imageGcsUri\"], j[\"classificationAnnotation\"][\"displayName\"])"
   ]
  },
  {
   "cell_type": "markdown",
   "metadata": {
    "id": "create_tfrecord:image"
   },
   "source": [
    "#### 创建TFRecords\n",
    "\n",
    "接下来，我们需要创建一个数据馈送机制，从数据集索引文件中向你训练的模型提供数据。关于如何构建数据馈送器有很多选择。我们将在这里介绍两种选项，都是使用TFRecords:\n",
    "\n",
    "1. 将图像数据存储为原始未压缩的图像数据（每个像素1字节）。\n",
    "2. 将图像数据存储为预处理过的数据--机器学习准备好的--（每个像素4字节）。\n",
    "\n",
    "这两种方法展示了磁盘存储和计算时间之间的权衡。在这两种情况下，我们对图像数据进行一次预处理，将数据缓存成一种形式，将加快模型的训练时间。但是，通过缓存，我们既使用了磁盘空间，又增加了从磁盘到计算设备（如CPU、GPU、TPU）的I/O流量。\n",
    "\n",
    "在原始未压缩格式中，你最大程度地减少了磁盘上的大小和I/O流量用于缓存数据，但每个epoch，图像数据的预处理都需要重复执行。在预处理格式中，通过一次预处理和缓存预处理数据来最小化计算时间--即准备好机器学习。与Float32训练时，磁盘上的数据量将是四倍大小，同时你将增加相同数量的磁盘空间和从磁盘到计算引擎的I/O流量。\n",
    "\n",
    "辅助函数`TFExampleImageUncompressed`和`TFExampleImagePreprocessed`都接受以下参数：\n",
    "\n",
    "- `path`：图像文件的Cloud Storage路径。\n",
    "- `label`：图像文件的相应标签。\n",
    "- `shape`：要调整图像大小的(H,W)输入形状。如果为`None`，则不执行调整大小。\n",
    "\n",
    "辅助函数`TFExampleImagePreprocessed`有一个额外的参数：\n",
    "\n",
    "- `dtype`：像素数据被归一化后的浮点表示。默认设置为32位浮点（np.float32）。如果你使用NVIDIA GPU或TPU，可以将`dtype = np.float16`来训练16位浮点。在不影响准确性或迭代次数的情况下，使用16位浮点训练有两个好处：\n",
    "\n",
    "1. 每次矩阵乘法操作比32位相当的操作快4倍--尽管模型权重也需要以16位存储。\n",
    "2. 磁盘空间和I/O带宽减少了1/2。\n",
    "\n",
    "让我们更深入地看一下用于创建`TFRecord`训练数据的函数。首先，`TFRecord`是训练数据的序列化二进制编码。作为编码，需要为字段的编码指定模式，然后在向模型馈送训练数据时使用后续解码。\n",
    "\n",
    "模式被定义为每个训练数据中的`tf.train.Example`实例。每个`tf.train.Example`实例由一系列字段组成，每个字段定义为键/值对。在我们的辅助函数中，键条目为：\n",
    "\n",
    "- `image`：编码的原始图像数据。\n",
    "- `label`：分配给图像的标签。\n",
    "- `shape`：解码时图像的形状。\n",
    "\n",
    "每个键/值对的值是一个`tf.train.Feature`实例，其中：\n",
    "\n",
    "- `bytes_list`：要编码的数据是字节字符串。\n",
    "- `int64_list`：要编码的数据是一个或多个整数值的数组。\n",
    "- `float_list`：要编码的数据是一个或多个浮点值的数组。"
   ]
  },
  {
   "cell_type": "code",
   "execution_count": null,
   "metadata": {
    "id": "create_tfrecord:image"
   },
   "outputs": [],
   "source": [
    "import numpy as np\n",
    "\n",
    "\n",
    "def TFExampleImageUncompressed(path, label, shape=None):\n",
    "    \"\"\" The uncompressed version of the image \"\"\"\n",
    "\n",
    "    # read in (and uncompress) the image\n",
    "    with tf.io.gfile.GFile(path, \"rb\") as f:\n",
    "        data = f.read()\n",
    "    image = tf.io.decode_image(data)\n",
    "\n",
    "    if shape:\n",
    "        image = tf.image.resize(image, shape)\n",
    "    image = image.numpy()\n",
    "    shape = image.shape\n",
    "\n",
    "    # make the record\n",
    "    return tf.train.Example(\n",
    "        features=tf.train.Features(\n",
    "            feature={\n",
    "                \"image\": tf.train.Feature(\n",
    "                    bytes_list=tf.train.BytesList(value=[image.tostring()])\n",
    "                ),\n",
    "                \"label\": tf.train.Feature(int64_list=tf.train.Int64List(value=[label])),\n",
    "                \"shape\": tf.train.Feature(\n",
    "                    int64_list=tf.train.Int64List(value=[shape[0], shape[1], shape[2]])\n",
    "                ),\n",
    "            }\n",
    "        )\n",
    "    )\n",
    "\n",
    "\n",
    "def TFExampleImagePreprocessed(path, label, shape=None, dtype=np.float32):\n",
    "    \"\"\" The normalized version of the image \"\"\"\n",
    "\n",
    "    # read in (uncompress) the image and normalize the pixel data\n",
    "    image = (cv2.imread(path) / 255.0).astype(dtype)\n",
    "\n",
    "    if shape:\n",
    "        image = tf.image.resize(image, shape)\n",
    "    image = image.numpy()\n",
    "    shape = image.shape\n",
    "\n",
    "    # make the record\n",
    "    return tf.train.Example(\n",
    "        features=tf.train.Features(\n",
    "            feature={\n",
    "                \"image\": tf.train.Feature(\n",
    "                    bytes_list=tf.train.BytesList(value=[image.tostring()])\n",
    "                ),\n",
    "                \"label\": tf.train.Feature(int64_list=tf.train.Int64List(value=[label])),\n",
    "                \"shape\": tf.train.Feature(\n",
    "                    int64_list=tf.train.Int64List(value=[shape[0], shape[1], shape[2]])\n",
    "                ),\n",
    "            }\n",
    "        )\n",
    "    )"
   ]
  },
  {
   "cell_type": "markdown",
   "metadata": {
    "id": "write_tfrecord:image"
   },
   "source": [
    "#### 将训练数据写入TFRecord文件\n",
    "\n",
    "接下来，您将为导出的数据集索引中指定的所有训练数据创建一个单个TFRecord：\n",
    "\n",
    "- 通过将变量`CACHE`设置为`TFExampleImageUncompressed`或`TFExampleImagePreprocessed`来指定缓存方法。\n",
    "- 使用`cls2label`将数据集中的类名转换为整数标签。\n",
    "- 从导出的数据集索引文件中读取数据项列表 - `tf.io.gfile.GFile(jsonl_index, 'r')`。\n",
    "- 设置用于存储缓存TFRecord文件的Cloud Storage位置 - `GCS_TFRECORD_URI`。\n",
    "- 使用`tf.io.TFRecordWriter(gcs_tfrecord_uri)`为导出的数据集索引中的每个数据项生成缓存数据。\n",
    " - 提取Cloud Storage路径和类名 - `json.loads(data_item)`\n",
    " - 将类名转换为整数标签 - `label = cls2label[cls]`\n",
    " - 编码数据项 - `example = CACHE(image, label)`\n",
    " - 将编码的数据项写入TFRecord文件 - `writer.write(example.SerializeToString())`\n",
    "\n",
    "这可能需要大约20分钟。"
   ]
  },
  {
   "cell_type": "code",
   "execution_count": null,
   "metadata": {
    "id": "write_tfrecord:image"
   },
   "outputs": [],
   "source": [
    "# Select TFRecord method of encoding\n",
    "CACHE = TFExampleImageUncompressed  # [ TFExampleImageUncompressed, TFExampleImagePreprocessed]\n",
    "\n",
    "# Map labels to class names\n",
    "cls2label = {\"daisy\": 0, \"dandelion\": 1, \"roses\": 2, \"sunflowers\": 3, \"tulips\": 4}\n",
    "\n",
    "# Read in each example from exported dataset index\n",
    "with tf.io.gfile.GFile(jsonl_index, \"r\") as f:\n",
    "    data = f.readlines()\n",
    "\n",
    "# The path to the TFRecord cached file.\n",
    "GCS_TFRECORD_URI = BUCKET_NAME + \"/flowers.tfrecord\"\n",
    "\n",
    "# Create the TFRecord cached file\n",
    "with tf.io.TFRecordWriter(GCS_TFRECORD_URI) as writer:\n",
    "    n = 0\n",
    "    for data_item in data:\n",
    "        j = json.loads(data_item)\n",
    "        image = j[\"imageGcsUri\"]\n",
    "        cls = j[\"classificationAnnotation\"][\"displayName\"]\n",
    "        label = cls2label[cls]\n",
    "        example = CACHE(image, label, shape=(128, 128))\n",
    "        writer.write(example.SerializeToString())\n",
    "        n += 1\n",
    "        if n % 10 == 0:\n",
    "            print(n, image)\n",
    "\n",
    "listing = ! gsutil ls -la $GCS_TFRECORD_URI\n",
    "print(\"TFRecord File\", listing)"
   ]
  },
  {
   "cell_type": "markdown",
   "metadata": {
    "id": "train_custom_model"
   },
   "source": [
    "## 训练模型\n",
    "\n",
    "有两种方法可以使用容器映像来训练自定义模型：\n",
    "\n",
    "- **使用 Google Cloud 的预构建容器**。如果您使用预构建容器，还需要指定一个要安装到容器映像中的 Python 包。这个 Python 包包含用于训练自定义模型的代码。\n",
    "\n",
    "- **使用您自己的定制容器映像**。如果您使用自己的容器，容器需要包含用于训练自定义模型的代码。"
   ]
  },
  {
   "cell_type": "markdown",
   "metadata": {
    "id": "train_custom_job_specification:prebuilt_container"
   },
   "source": [
    "## 准备您的定制工作规范\n",
    "\n",
    "现在您的客户准备好了，您的第一步是为您的定制培训工作创建一个工作规范。工作规范将包括以下内容：\n",
    "\n",
    "- `worker_pool_spec`：用于培训的机器类型规范以及使用的数量（单个或分布式）\n",
    "- `python_package_spec`：要与预构建容器一起安装的Python软件包规范。"
   ]
  },
  {
   "cell_type": "markdown",
   "metadata": {
    "id": "train_custom_job_machine_specification"
   },
   "source": [
    "### 准备您的机器规格\n",
    "\n",
    "现在为您的自定义训练作业定义机器规格。这告诉 Vertex 要为训练提供什么类型的机器实例。\n",
    "- `machine_type`：要提供的 GCP 实例类型，例如 n1-standard-8。\n",
    "- `accelerator_type`：硬件加速器的类型，如果有的话。在本教程中，如果您之前设置了变量 `TRAIN_GPU != None`，则使用 GPU；否则将使用 CPU。\n",
    "- `accelerator_count`：加速器的数量。"
   ]
  },
  {
   "cell_type": "code",
   "execution_count": null,
   "metadata": {
    "id": "train_custom_job_machine_specification"
   },
   "outputs": [],
   "source": [
    "if TRAIN_GPU:\n",
    "    machine_spec = {\n",
    "        \"machine_type\": TRAIN_COMPUTE,\n",
    "        \"accelerator_type\": TRAIN_GPU,\n",
    "        \"accelerator_count\": TRAIN_NGPU,\n",
    "    }\n",
    "else:\n",
    "    machine_spec = {\"machine_type\": TRAIN_COMPUTE, \"accelerator_count\": 0}"
   ]
  },
  {
   "cell_type": "markdown",
   "metadata": {
    "id": "train_custom_job_disk_specification"
   },
   "source": [
    "### 准备您的磁盘规格\n",
    "\n",
    "（可选）现在为您的自定义训练作业定义磁盘规格。这告诉 Vertex 需要为训练中的每台机器实例提供什么类型和大小的磁盘。\n",
    "\n",
    "- `boot_disk_type`：SSD 或 Standard 中的一个。SSD 更快，Standard 更便宜。默认为 SSD。\n",
    "- `boot_disk_size_gb`：磁盘大小（GB）。"
   ]
  },
  {
   "cell_type": "code",
   "execution_count": null,
   "metadata": {
    "id": "train_custom_job_disk_specification"
   },
   "outputs": [],
   "source": [
    "DISK_TYPE = \"pd-ssd\"  # [ pd-ssd, pd-standard]\n",
    "DISK_SIZE = 200  # GB\n",
    "\n",
    "disk_spec = {\"boot_disk_type\": DISK_TYPE, \"boot_disk_size_gb\": DISK_SIZE}"
   ]
  },
  {
   "cell_type": "code",
   "execution_count": null,
   "metadata": {
    "id": "train_custom_job_worker_pool_specification:prebuilt_container,tfrecord"
   },
   "outputs": [],
   "source": [
    "JOB_NAME = \"custom_job_\" + TIMESTAMP\n",
    "MODEL_DIR = \"{}/{}\".format(BUCKET_NAME, JOB_NAME)\n",
    "\n",
    "if not TRAIN_NGPU or TRAIN_NGPU < 2:\n",
    "    TRAIN_STRATEGY = \"single\"\n",
    "else:\n",
    "    TRAIN_STRATEGY = \"mirror\"\n",
    "\n",
    "EPOCHS = 20\n",
    "STEPS = 100\n",
    "\n",
    "PARAM_FILE = BUCKET_NAME + \"/params.txt\"\n",
    "\n",
    "DIRECT = True\n",
    "if DIRECT:\n",
    "    CMDARGS = [\n",
    "        \"--model-dir=\" + MODEL_DIR,\n",
    "        \"--epochs=\" + str(EPOCHS),\n",
    "        \"--steps=\" + str(STEPS),\n",
    "        \"--distribute=\" + TRAIN_STRATEGY,\n",
    "    ]\n",
    "else:\n",
    "    CMDARGS = [\n",
    "        \"--epochs=\" + str(EPOCHS),\n",
    "        \"--steps=\" + str(STEPS),\n",
    "        \"--distribute=\" + TRAIN_STRATEGY,\n",
    "    ]\n",
    "\n",
    "worker_pool_spec = [\n",
    "    {\n",
    "        \"replica_count\": 1,\n",
    "        \"machine_spec\": machine_spec,\n",
    "        \"disk_spec\": disk_spec,\n",
    "        \"python_package_spec\": {\n",
    "            \"executor_image_uri\": TRAIN_IMAGE,\n",
    "            \"package_uris\": [BUCKET_NAME + \"/trainer_flowers.tar.gz\"],\n",
    "            \"python_module\": \"trainer.task\",\n",
    "            \"args\": CMDARGS,\n",
    "        },\n",
    "    }\n",
    "]"
   ]
  },
  {
   "cell_type": "markdown",
   "metadata": {
    "id": "assemble_custom_job_specification"
   },
   "source": [
    "### 组装工作规范\n",
    "\n",
    "现在组装自定义工作规范的完整描述：\n",
    "\n",
    "- `display_name`：您为此自定义工作指定的可读名称。\n",
    "- `job_spec`：自定义工作的规范。\n",
    "    - `worker_pool_specs`：机器虚拟机实例的规范。\n",
    "    - `base_output_directory`：这告诉服务在哪里保存模型工件的云存储位置（当变量 `DIRECT = False`时）。 然后，服务将该位置传递给训练脚本作为环境变量 `AIP_MODEL_DIR`，路径将采用以下形式：\n",
    "\n",
    "                <output_uri_prefix>/model"
   ]
  },
  {
   "cell_type": "code",
   "execution_count": null,
   "metadata": {
    "id": "assemble_custom_job_specification"
   },
   "outputs": [],
   "source": [
    "if DIRECT:\n",
    "    job_spec = {\"worker_pool_specs\": worker_pool_spec}\n",
    "else:\n",
    "    job_spec = {\n",
    "        \"worker_pool_specs\": worker_pool_spec,\n",
    "        \"base_output_directory\": {\"output_uri_prefix\": MODEL_DIR},\n",
    "    }\n",
    "\n",
    "custom_job = {\"display_name\": JOB_NAME, \"job_spec\": job_spec}"
   ]
  },
  {
   "cell_type": "markdown",
   "metadata": {
    "id": "examine_training_package"
   },
   "source": [
    "### 检查培训包\n",
    "\n",
    "#### 包布局\n",
    "\n",
    "在开始培训之前，您将查看如何为定制培训工作组装Python包。解压缩后，该包含以下目录/文件布局。\n",
    "\n",
    "- PKG-INFO\n",
    "- README.md\n",
    "- setup.cfg\n",
    "- setup.py\n",
    "- trainer\n",
    "  - \\_\\_init\\_\\_.py\n",
    "  - task.py\n",
    "\n",
    "文件`setup.cfg`和`setup.py`是将包安装到Docker镜像的操作环境中的指令。\n",
    "\n",
    "文件`trainer/task.py`是执行定制培训工作的Python脚本。*注意*，当我们在工作组规范中提到它时，我们将目录斜杠替换为点（`trainer.task`）并删除文件后缀（`.py`）。\n",
    "\n",
    "#### 包装配\n",
    "\n",
    "在下面的单元格中，您将组装培训包。"
   ]
  },
  {
   "cell_type": "code",
   "execution_count": null,
   "metadata": {
    "id": "examine_training_package"
   },
   "outputs": [],
   "source": [
    "# Make folder for Python training script\n",
    "! rm -rf custom\n",
    "! mkdir custom\n",
    "\n",
    "# Add package information\n",
    "! touch custom/README.md\n",
    "\n",
    "setup_cfg = \"[egg_info]\\n\\ntag_build =\\n\\ntag_date = 0\"\n",
    "! echo \"$setup_cfg\" > custom/setup.cfg\n",
    "\n",
    "setup_py = \"import setuptools\\n\\nsetuptools.setup(\\n\\n    install_requires=[\\n\\n        'tensorflow_datasets==1.3.0',\\n\\n    ],\\n\\n    packages=setuptools.find_packages())\"\n",
    "! echo \"$setup_py\" > custom/setup.py\n",
    "\n",
    "pkg_info = \"Metadata-Version: 1.0\\n\\nName: Flowers image classification\\n\\nVersion: 0.0.0\\n\\nSummary: Demostration training script\\n\\nHome-page: www.google.com\\n\\nAuthor: Google\\n\\nAuthor-email: aferlitsch@google.com\\n\\nLicense: Public\\n\\nDescription: Demo\\n\\nPlatform: Vertex\"\n",
    "! echo \"$pkg_info\" > custom/PKG-INFO\n",
    "\n",
    "# Make the training subfolder\n",
    "! mkdir custom/trainer\n",
    "! touch custom/trainer/__init__.py"
   ]
  },
  {
   "cell_type": "markdown",
   "metadata": {
    "id": "taskpy_contents:flowers"
   },
   "source": [
    "#### Task.py文件内容\n",
    "\n",
    "在下一个单元格中，您可以编写训练脚本task.py的内容。我们不会详细讨论，只是让您浏览一下。总之：\n",
    "\n",
    "- 从命令行中获取要保存模型产物的目录（`--model_dir`），如果未指定，则从环境变量`AIP_MODEL_DIR`中获取。\n",
    "- 从TFRecords加载Flowers数据集（`args.training-data`）。\n",
    "- 从TFRecord创建一个tf.data.Dataset生成器。\n",
    "- 使用TF.Keras模型API构建一个简单的ConvNet模型。\n",
    "- 编译模型（`compile()`）。\n",
    "- 使用`args.distribute`为多个工作进程设置训练分发策略。\n",
    "- 使用根据参数`args.epochs`和`args.steps`设置的epochs和steps来训练模型（`fit()`）。\n",
    "- 将训练后的模型保存到指定的模型目录中（`save(args.model_dir)`）。"
   ]
  },
  {
   "cell_type": "code",
   "execution_count": null,
   "metadata": {
    "id": "taskpy_contents:flowers"
   },
   "outputs": [],
   "source": [
    "%%writefile custom/trainer/task.py\n",
    "# Single, Mirror and Multi-Machine Distributed Training for Flowers\n",
    "\n",
    "import tensorflow_datasets as tfds\n",
    "import tensorflow as tf\n",
    "from tensorflow.python.client import device_lib\n",
    "import argparse\n",
    "import os\n",
    "import sys\n",
    "tfds.disable_progress_bar()\n",
    "\n",
    "parser = argparse.ArgumentParser()\n",
    "parser.add_argument('--model-dir', dest='model_dir',\n",
    "                    default='/tmp/saved_model', type=str, help='Model dir.')\n",
    "parser.add_argument('--training-data', dest='tfrecord_uri')\n",
    "parser.add_argument('--lr', dest='lr',\n",
    "                    default=0.001, type=float,\n",
    "                    help='Learning rate.')\n",
    "parser.add_argument('--epochs', dest='epochs',\n",
    "                    default=10, type=int,\n",
    "                    help='Number of epochs.')\n",
    "parser.add_argument('--steps', dest='steps',\n",
    "                    default=100, type=int,\n",
    "                    help='Number of steps per epoch.')\n",
    "parser.add_argument('--distribute', dest='distribute', type=str, default='single',\n",
    "                    help='distributed training strategy')\n",
    "args = parser.parse_args()\n",
    "\n",
    "print('Python Version = {}'.format(sys.version))\n",
    "print('TensorFlow Version = {}'.format(tf.__version__))\n",
    "print('TF_CONFIG = {}'.format(os.environ.get('TF_CONFIG', 'Not found')))\n",
    "print('DEVICES', device_lib.list_local_devices())\n",
    "\n",
    "# Single Machine, single compute device\n",
    "if args.distribute == 'single':\n",
    "    if tf.test.is_gpu_available():\n",
    "        strategy = tf.distribute.OneDeviceStrategy(device=\"/gpu:0\")\n",
    "    else:\n",
    "        strategy = tf.distribute.OneDeviceStrategy(device=\"/cpu:0\")\n",
    "# Single Machine, multiple compute device\n",
    "elif args.distribute == 'mirror':\n",
    "    strategy = tf.distribute.MirroredStrategy()\n",
    "# Multiple Machine, multiple compute device\n",
    "elif args.distribute == 'multi':\n",
    "    strategy = tf.distribute.experimental.MultiWorkerMirroredStrategy()\n",
    "\n",
    "# Multi-worker configuration\n",
    "print('num_replicas_in_sync = {}'.format(strategy.num_replicas_in_sync))\n",
    "\n",
    "# Preparing dataset\n",
    "BUFFER_SIZE = 10000\n",
    "BATCH_SIZE = 64\n",
    "\n",
    "\n",
    "def make_datasets_unbatched():\n",
    "    dataset = tf.data.TFRecordDataset(args.tfrecord_uri)\n",
    "\n",
    "    feature_description = {\n",
    "        'image': tf.io.FixedLenFeature([],  tf.string),\n",
    "        'label': tf.io.FixedLenFeature([],  tf.int64),\n",
    "        'shape': tf.io.FixedLenFeature([3], tf.int64),\n",
    "    }\n",
    "\n",
    "\n",
    "    def _parse_function(proto):\n",
    "        ''' parse the next serialized tf.train.Example using the feature description '''\n",
    "        example = tf.io.parse_single_example(proto, feature_description)\n",
    "        image = tf.io.decode_raw(example['image'], tf.int32)\n",
    "        shape = tf.cast(example['shape'], tf.int32)\n",
    "        label = tf.cast(example['label'], tf.int32)\n",
    "        image.set_shape([128 * 128 * 3])\n",
    "        image = tf.reshape(image, (128, 128, 3))\n",
    "        image = ( tf.cast(image, tf.float32) / 255.0)\n",
    "\n",
    "        return image, label\n",
    "\n",
    "\n",
    "    return dataset.map(_parse_function).cache().shuffle(BUFFER_SIZE).repeat()\n",
    "\n",
    "\n",
    "# Build the Keras model\n",
    "def build_and_compile_cnn_model():\n",
    "  model = tf.keras.Sequential([\n",
    "      tf.keras.layers.Conv2D(32, 3, activation='relu', input_shape=(128, 128, 3)),\n",
    "      tf.keras.layers.MaxPooling2D(),\n",
    "      tf.keras.layers.Conv2D(64, 3, activation='relu'),\n",
    "      tf.keras.layers.MaxPooling2D(),\n",
    "      tf.keras.layers.Conv2D(128, 3, activation='relu'),\n",
    "      tf.keras.layers.MaxPooling2D(),\n",
    "      tf.keras.layers.Flatten(),\n",
    "      tf.keras.layers.Dense(5, activation='softmax')\n",
    "  ])\n",
    "  model.compile(\n",
    "      loss=tf.keras.losses.sparse_categorical_crossentropy,\n",
    "      optimizer=tf.keras.optimizers.SGD(learning_rate=args.lr),\n",
    "      metrics=['accuracy'])\n",
    "  return model\n",
    "\n",
    "\n",
    "with strategy.scope():\n",
    "  # Creation of dataset, and model building/compiling need to be within\n",
    "  # `strategy.scope()`.\n",
    "  model = build_and_compile_cnn_model()\n",
    "\n",
    "# Train the model\n",
    "NUM_WORKERS = strategy.num_replicas_in_sync\n",
    "# Here the batch size scales up by number of workers since\n",
    "# `tf.data.Dataset.batch` expects the global batch size.\n",
    "GLOBAL_BATCH_SIZE = BATCH_SIZE * NUM_WORKERS\n",
    "train_dataset = make_datasets_unbatched().batch(GLOBAL_BATCH_SIZE)\n",
    "\n",
    "model.fit(x=train_dataset, epochs=args.epochs, steps_per_epoch=args.steps)\n",
    "model.save(args.model_dir)"
   ]
  },
  {
   "cell_type": "markdown",
   "metadata": {
    "id": "tarball_training_script"
   },
   "source": [
    "将培训脚本存储在您的云存储桶中\n",
    "\n",
    "接下来，您将培训文件夹打包成压缩的tar文件，然后存储在您的云存储桶中。"
   ]
  },
  {
   "cell_type": "code",
   "execution_count": null,
   "metadata": {
    "id": "tarball_training_script"
   },
   "outputs": [],
   "source": [
    "! rm -f custom.tar custom.tar.gz\n",
    "! tar cvf custom.tar custom\n",
    "! gzip custom.tar\n",
    "! gsutil cp custom.tar.gz $BUCKET_NAME/trainer_flowers.tar.gz"
   ]
  },
  {
   "cell_type": "markdown",
   "metadata": {
    "id": "train_custom_job"
   },
   "source": [
    "### 训练模型\n",
    "\n",
    "现在开始在Vertex上训练您的自定义训练作业。使用这个辅助函数`create_custom_job`，它接受以下参数：\n",
    "\n",
    "- `custom_job`：自定义作业的规范。\n",
    "\n",
    "辅助函数调用作业客户服务的`create_custom_job`方法，使用以下参数：\n",
    "\n",
    "- `parent`：Vertex资源`Dataset`，`Model`和`Endpoint`的位置路径。\n",
    "- `custom_job`：自定义作业的规范。\n",
    "\n",
    "您将显示`response`对象返回的一些字段，其中最感兴趣的两个是：\n",
    "\n",
    "`response.name`：为此自定义训练作业分配的Vertex完全限定标识符。您可以在后续步骤中使用此标识符。\n",
    "\n",
    "`response.state`：自定义训练作业的当前状态。"
   ]
  },
  {
   "cell_type": "code",
   "execution_count": null,
   "metadata": {
    "id": "train_custom_job"
   },
   "outputs": [],
   "source": [
    "def create_custom_job(custom_job):\n",
    "    response = clients[\"job\"].create_custom_job(parent=PARENT, custom_job=custom_job)\n",
    "    print(\"name:\", response.name)\n",
    "    print(\"display_name:\", response.display_name)\n",
    "    print(\"state:\", response.state)\n",
    "    print(\"create_time:\", response.create_time)\n",
    "    print(\"update_time:\", response.update_time)\n",
    "    return response\n",
    "\n",
    "\n",
    "response = create_custom_job(custom_job)"
   ]
  },
  {
   "cell_type": "markdown",
   "metadata": {
    "id": "job_id:response"
   },
   "source": [
    "现在获取您创建的自定义工作的唯一标识符。"
   ]
  },
  {
   "cell_type": "code",
   "execution_count": null,
   "metadata": {
    "id": "job_id:response"
   },
   "outputs": [],
   "source": [
    "# The full unique ID for the custom job\n",
    "job_id = response.name\n",
    "# The short numeric ID for the custom job\n",
    "job_short_id = job_id.split(\"/\")[-1]\n",
    "\n",
    "print(job_id)"
   ]
  },
  {
   "cell_type": "markdown",
   "metadata": {
    "id": "get_custom_job"
   },
   "source": [
    "### 获取有关自定义作业的信息\n",
    "\n",
    "接下来，使用这个辅助函数 `get_custom_job`，它接受以下参数：\n",
    "\n",
    "- `name`：自定义作业的 Vertex 完全限定标识符。\n",
    "\n",
    "辅助函数调用作业客户端服务的 `get_custom_job` 方法，带有以下参数：\n",
    "\n",
    "- `name`：自定义作业的 Vertex 完全限定标识符。\n",
    "\n",
    "如果您记得，在调用 `create_custom_job` 方法时，您可以在 `response.name` 字段中获得自定义作业的 Vertex 完全限定标识符，并将该标识符保存在变量 `job_id` 中。"
   ]
  },
  {
   "cell_type": "code",
   "execution_count": null,
   "metadata": {
    "id": "get_custom_job"
   },
   "outputs": [],
   "source": [
    "def get_custom_job(name, silent=False):\n",
    "    response = clients[\"job\"].get_custom_job(name=name)\n",
    "    if silent:\n",
    "        return response\n",
    "\n",
    "    print(\"name:\", response.name)\n",
    "    print(\"display_name:\", response.display_name)\n",
    "    print(\"state:\", response.state)\n",
    "    print(\"create_time:\", response.create_time)\n",
    "    print(\"update_time:\", response.update_time)\n",
    "    return response\n",
    "\n",
    "\n",
    "response = get_custom_job(job_id)"
   ]
  },
  {
   "cell_type": "markdown",
   "metadata": {
    "id": "wait_training_complete:custom"
   },
   "source": [
    "#部署\n",
    "\n",
    "训练上述模型可能需要20分钟以上的时间。\n",
    "\n",
    "一旦您的模型训练完成，您可以通过将“结束时间”减去“开始时间”来计算训练模型所需的实际时间。对于你的模型，我们需要知道保存模型的位置，Python脚本会将其保存在您的本地云存储桶中的`MODEL_DIR + '/saved_model.pb'`。"
   ]
  },
  {
   "cell_type": "code",
   "execution_count": null,
   "metadata": {
    "id": "wait_training_complete:custom"
   },
   "outputs": [],
   "source": [
    "while True:\n",
    "    response = get_custom_job(job_id, True)\n",
    "    if response.state != aip.JobState.JOB_STATE_SUCCEEDED:\n",
    "        print(\"Training job has not completed:\", response.state)\n",
    "        model_path_to_deploy = None\n",
    "        if response.state == aip.JobState.JOB_STATE_FAILED:\n",
    "            break\n",
    "    else:\n",
    "        if not DIRECT:\n",
    "            MODEL_DIR = MODEL_DIR + \"/model\"\n",
    "        model_path_to_deploy = MODEL_DIR\n",
    "        print(\"Training Time:\", response.update_time - response.create_time)\n",
    "        break\n",
    "    time.sleep(60)\n",
    "\n",
    "print(\"model_to_deploy:\", model_path_to_deploy)"
   ]
  },
  {
   "cell_type": "markdown",
   "metadata": {
    "id": "load_saved_model"
   },
   "source": [
    "## 加载保存的模型\n",
    "\n",
    "您的模型以 TensorFlow SavedModel 格式存储在 Cloud Storage 存储桶中。现在从 Cloud Storage 存储桶加载它，然后您可以执行一些操作，如评估模型和进行预测。\n",
    "\n",
    "要加载模型，您可以使用 TF.Keras 中的 `model.load_model()` 方法，将保存模型的 Cloud Storage 路径传递给它 -- 由 `MODEL_DIR` 指定。"
   ]
  },
  {
   "cell_type": "code",
   "execution_count": null,
   "metadata": {
    "id": "load_saved_model"
   },
   "outputs": [],
   "source": [
    "import tensorflow as tf\n",
    "\n",
    "model = tf.keras.models.load_model(MODEL_DIR)"
   ]
  },
  {
   "cell_type": "markdown",
   "metadata": {
    "id": "evaluate_custom_model:image"
   },
   "source": [
    "## 评估模型\n",
    "\n",
    "现在找出模型的表现如何。\n",
    "\n",
    "### 加载评估数据\n",
    "\n",
    "您将使用 `tf.keras.datasets` 中的 `load_data()` 方法加载 Flowers 测试（留置）数据。这将返回一个包含两个元素的元组数据集。第一个元素是训练数据，第二个元素是测试数据。每个元素还是一个包含两个元素的元组：图像数据和相应的标签。\n",
    "\n",
    "您不需要训练数据，因此我们将其加载为 `(_,_)`。\n",
    "\n",
    "在运行数据进行评估之前，您需要对其进行预处理：\n",
    "\n",
    "x_test:\n",
    "1.通过将每个像素除以255来标准化（重新缩放）像素数据。这将用0到1之间的32位浮点数替换每个单字节整数像素。\n",
    "\n",
    "y_test:<br/>\n",
    "2.标签当前是标量（稀疏）。如果查看`trainer/task.py`脚本中的`compile()`步骤，您将发现它是为稀疏标签编译的。因此我们不需要再做任何事情。"
   ]
  },
  {
   "cell_type": "markdown",
   "metadata": {
    "id": "evaluate_custom_model:image,exported_ds"
   },
   "source": [
    "## 评估模型\n",
    "\n",
    "现在让我们来评估模型的表现。\n",
    "\n",
    "### 加载评估数据\n",
    "\n",
    "您将加载来自Flowers数据集末尾的一些样本数据，即最后10个项目。然后我们将对数据项进行预处理，形成：\n",
    "\n",
    "- `x_test`：内存中的预处理图像数据。\n",
    "- `y_test`：对应的标签。"
   ]
  },
  {
   "cell_type": "code",
   "execution_count": null,
   "metadata": {
    "id": "evaluate_custom_model:image,exported_ds"
   },
   "outputs": [],
   "source": [
    "x_test = []\n",
    "y_test = []\n",
    "\n",
    "data_items = export_data_items[-10:]\n",
    "for data_item in data_items:\n",
    "    data_item = json.loads(data_item)\n",
    "    print(\"FILE\", data_item[\"imageGcsUri\"])\n",
    "    with tf.io.gfile.GFile(data_item[\"imageGcsUri\"], \"rb\") as f:\n",
    "        data = f.read()\n",
    "    image = tf.io.decode_image(data)\n",
    "    image = tf.image.resize(image, (128, 128))\n",
    "    image = (image.numpy() / 255.0).astype(np.float32)\n",
    "    cls = data_item[\"classificationAnnotation\"][\"displayName\"]\n",
    "    label = cls2label[cls]\n",
    "    x_test.append(image)\n",
    "    y_test.append(label)\n",
    "\n",
    "x_test = np.asarray(x_test)\n",
    "y_test = np.asarray(y_test)"
   ]
  },
  {
   "cell_type": "markdown",
   "metadata": {
    "id": "perform_evaluation_custom"
   },
   "source": [
    "### 进行模型评估\n",
    "\n",
    "现在评估定制工作中的模型表现如何。"
   ]
  },
  {
   "cell_type": "code",
   "execution_count": null,
   "metadata": {
    "id": "perform_evaluation_custom"
   },
   "outputs": [],
   "source": [
    "model.evaluate(x_test, y_test)"
   ]
  },
  {
   "cell_type": "markdown",
   "metadata": {
    "id": "how_serving_function_works"
   },
   "source": [
    "## 上传模型以供服务\n",
    "\n",
    "接下来，您将从自定义作业将您的TF.Keras模型上传到Vertex `Model`服务，这将为您的自定义模型创建一个Vertex `Model`资源。在上传过程中，您需要定义一个serving函数，将数据转换为模型所需的格式。如果您向Vertex发送编码数据，则您的serving函数会确保在将数据作为输入传递给您的模型之前，在模型服务器上对数据进行解码。\n",
    "\n",
    "### serving函数如何工作\n",
    "\n",
    "当您向在线预测服务器发送请求时，请求将由HTTP服务器接收。HTTP服务器从HTTP请求内容主体中提取预测请求。提取的预测请求被转发到serving函数。对于Google预构建的预测容器，请求内容以`tf.string`形式传递给serving函数。\n",
    "\n",
    "serving函数由两部分组成：\n",
    "\n",
    "- `预处理函数`：\n",
    "  - 将输入（`tf.string`）转换为底层模型（动态图）的输入形状和数据类型。\n",
    "  - 执行与在训练底层模型期间进行的数据预处理相同的处理--例如，归一化，缩放等。\n",
    "- `后处理函数`：\n",
    "  - 将模型输出转换为接收应用程序所期望的格式--例如，压缩输出。\n",
    "  - 为接收应用程序打包输出--例如，添加标题，创建JSON对象等。\n",
    "\n",
    "预处理和后处理函数都会转换为与模型融合的静态图。底层模型的输出传递给后处理函数。后处理函数将转换/打包后的输出返回给HTTP服务器。HTTP服务器将输出作为HTTP响应内容返回。\n",
    "\n",
    "在为TF.Keras模型构建serving函数时，您需要考虑的一点是它们作为静态图运行。这意味着您不能使用需要动态图的TF图操作。如果您这样做，那么在编译serving函数时将会出现错误，该错误将指示您正在使用不受支持的EagerTensor。"
   ]
  },
  {
   "cell_type": "markdown",
   "metadata": {
    "id": "serving_function_image"
   },
   "source": [
    "### 图像数据的服务功能\n",
    "\n",
    "为了将图像传递给预测服务，您需要将压缩的（例如 JPEG）图像字节编码为 base 64 格式 -- 这将使内容在通过网络传输二进制数据时免受修改。由于部署的模型期望输入数据为原始（未压缩）字节，因此您需要确保将 base 64 编码数据转换回原始字节，然后将其作为输入传递给部署的模型。\n",
    "\n",
    "为了解决这个问题，请定义一个服务功能（`serving_fn`），并将其附加到模型作为预处理步骤。添加一个 `@tf.function` 装饰器，以便服务功能与底层模型融合（而不是在 CPU 上游）。\n",
    "\n",
    "当您发送预测或解释请求时，请求的内容将被 base 64 解码为一个 Tensorflow 字符串 (`tf.string`)，然后传递给服务功能（`serving_fn`）。服务功能将 `tf.string` 预处理为原始（未压缩）的 numpy 字节（`preprocess_fn`）以匹配模型的输入要求：\n",
    "- `io.decode_jpeg`- 解压缩 JPG 图像，作为一个具有三个通道（RGB）的 Tensorflow 张量返回。\n",
    "- `image.convert_image_dtype` - 将整数像素值转换为浮点 32，并重新缩放像素数据在 0 到 1 之间。\n",
    "- `image.resize` - 调整图像大小以匹配模型的输入形状。\n",
    "\n",
    "此时，数据可以传递给模型（`m_call`）。"
   ]
  },
  {
   "cell_type": "code",
   "execution_count": null,
   "metadata": {
    "id": "serving_function_image"
   },
   "outputs": [],
   "source": [
    "CONCRETE_INPUT = \"numpy_inputs\"\n",
    "\n",
    "\n",
    "def _preprocess(bytes_input):\n",
    "    decoded = tf.io.decode_jpeg(bytes_input, channels=3)\n",
    "    decoded = tf.image.convert_image_dtype(decoded, tf.float32)\n",
    "    resized = tf.image.resize(decoded, size=(128, 128))\n",
    "    return resized\n",
    "\n",
    "\n",
    "@tf.function(input_signature=[tf.TensorSpec([None], tf.string)])\n",
    "def preprocess_fn(bytes_inputs):\n",
    "    decoded_images = tf.map_fn(\n",
    "        _preprocess, bytes_inputs, dtype=tf.float32, back_prop=False\n",
    "    )\n",
    "    return {\n",
    "        CONCRETE_INPUT: decoded_images\n",
    "    }  # User needs to make sure the key matches model's input\n",
    "\n",
    "\n",
    "@tf.function(input_signature=[tf.TensorSpec([None], tf.string)])\n",
    "def serving_fn(bytes_inputs):\n",
    "    images = preprocess_fn(bytes_inputs)\n",
    "    prob = m_call(**images)\n",
    "    return prob\n",
    "\n",
    "\n",
    "m_call = tf.function(model.call).get_concrete_function(\n",
    "    [tf.TensorSpec(shape=[None, 128, 128, 3], dtype=tf.float32, name=CONCRETE_INPUT)]\n",
    ")\n",
    "\n",
    "tf.saved_model.save(\n",
    "    model, model_path_to_deploy, signatures={\"serving_default\": serving_fn}\n",
    ")"
   ]
  },
  {
   "cell_type": "markdown",
   "metadata": {
    "id": "serving_function_signature:image"
   },
   "source": [
    "## 获取serving函数的签名\n",
    "\n",
    "通过重新加载模型，并对每一层查询对应的签名，您可以获取模型输入和输出层的签名。\n",
    "\n",
    "为了您的目的，您需要获取serving函数的签名。为什么呢？因为当我们将数据作为HTTP请求数据包发送进行预测时，图像数据是base64编码的，而我们的TF.Keras模型需要numpy输入。您的serving函数将执行从base64到numpy数组的转换。\n",
    "\n",
    "在进行预测请求时，您需要将请求路由到serving函数而不是模型，因此您需要知道serving函数的输入层名称 -- 这会在您进行预测请求时使用。"
   ]
  },
  {
   "cell_type": "code",
   "execution_count": null,
   "metadata": {
    "id": "serving_function_signature:image"
   },
   "outputs": [],
   "source": [
    "loaded = tf.saved_model.load(model_path_to_deploy)\n",
    "\n",
    "serving_input = list(\n",
    "    loaded.signatures[\"serving_default\"].structured_input_signature[1].keys()\n",
    ")[0]\n",
    "print(\"Serving function input:\", serving_input)"
   ]
  },
  {
   "cell_type": "markdown",
   "metadata": {
    "id": "upload_the_model"
   },
   "source": [
    "将模型上传\n",
    "\n",
    "使用这个辅助函数`upload_model`来上传您的模型，该模型以SavedModel格式存储，并将其上传到`Model`服务，该服务将为您的模型实例化一个Vertex`Model`资源实例。一旦您完成了这一步，您可以像任何其他Vertex`Model`资源实例一样使用`Model`资源实例，例如部署到用于提供预测的`Endpoint`资源。\n",
    "\n",
    "该辅助函数使用以下参数：\n",
    "\n",
    "- `display_name`：`Endpoint`服务的可读名称。\n",
    "- `image_uri`：模型部署的容器镜像。\n",
    "- `model_uri`：我们的SavedModel艺术品的Cloud Storage路径。对于本教程，这是`trainer/task.py`保存模型工件的Cloud Storage位置，我们在变量`MODEL_DIR`中指定了它。\n",
    "\n",
    "该辅助函数调用`Model`客户端服务的方法`upload_model`，它接受以下参数：\n",
    "\n",
    "- `parent`：`Dataset`、`Model`和`Endpoint`资源的Vertex根路径。\n",
    "- `model`：Vertex`Model`资源实例的规范。\n",
    "\n",
    "现在让我们深入了解一下Vertex模型规范`model`。这是一个字典对象，包含以下字段：\n",
    "\n",
    "- `display_name`：`Model`资源的可读名称。\n",
    "- `metadata_schema_uri`：由于您的模型是在没有Vertex`Dataset`资源的情况下构建的，您将其留空(`''`)。\n",
    "- `artificat_uri`：模型以SavedModel格式存储的Cloud Storage路径。\n",
    "- `container_spec`：这是将安装在`Endpoint`资源上的Docker容器的规范，从中`Model`资源将提供预测。使用您之前设置的变量`DEPLOY_GPU != None`来使用GPU；否则只分配CPU。\n",
    "\n",
    "将模型上传到Vertex模型资源会返回一个长时间运行的操作，因为这可能需要一些时间。您可以调用response.result()，这是一个同步调用，并且在Vertex模型资源准备就绪时将返回。\n",
    "\n",
    "辅助函数返回相应的Vertex完全限定的标识符以获取相应的Vertex模型实例`upload_model_response.model`。您将保存该标识符以供后续步骤使用，保存在变量`model_to_deploy_id`中。"
   ]
  },
  {
   "cell_type": "code",
   "execution_count": null,
   "metadata": {
    "id": "upload_the_model"
   },
   "outputs": [],
   "source": [
    "IMAGE_URI = DEPLOY_IMAGE\n",
    "\n",
    "\n",
    "def upload_model(display_name, image_uri, model_uri):\n",
    "    model = {\n",
    "        \"display_name\": display_name,\n",
    "        \"metadata_schema_uri\": \"\",\n",
    "        \"artifact_uri\": model_uri,\n",
    "        \"container_spec\": {\n",
    "            \"image_uri\": image_uri,\n",
    "            \"command\": [],\n",
    "            \"args\": [],\n",
    "            \"env\": [{\"name\": \"env_name\", \"value\": \"env_value\"}],\n",
    "            \"ports\": [{\"container_port\": 8080}],\n",
    "            \"predict_route\": \"\",\n",
    "            \"health_route\": \"\",\n",
    "        },\n",
    "    }\n",
    "    response = clients[\"model\"].upload_model(parent=PARENT, model=model)\n",
    "    print(\"Long running operation:\", response.operation.name)\n",
    "    upload_model_response = response.result(timeout=180)\n",
    "    print(\"upload_model_response\")\n",
    "    print(\" model:\", upload_model_response.model)\n",
    "    return upload_model_response.model\n",
    "\n",
    "\n",
    "model_to_deploy_id = upload_model(\n",
    "    \"flowers-\" + TIMESTAMP, IMAGE_URI, model_path_to_deploy\n",
    ")"
   ]
  },
  {
   "cell_type": "markdown",
   "metadata": {
    "id": "get_model"
   },
   "source": [
    "获取`Model`资源信息\n",
    "\n",
    "现在让我们只获取您的模型的模型信息。使用这个辅助函数`get_model`，并传入以下参数：\n",
    "\n",
    "- `name`：`Model`资源的Vertex唯一标识符。\n",
    "\n",
    "这个辅助函数调用了Vertex `Model`客户端服务的`get_model`方法，并传入以下参数：\n",
    "\n",
    "- `name`：`Model`资源的Vertex唯一标识符。"
   ]
  },
  {
   "cell_type": "code",
   "execution_count": null,
   "metadata": {
    "id": "get_model"
   },
   "outputs": [],
   "source": [
    "def get_model(name):\n",
    "    response = clients[\"model\"].get_model(name=name)\n",
    "    print(response)\n",
    "\n",
    "\n",
    "get_model(model_to_deploy_id)"
   ]
  },
  {
   "cell_type": "markdown",
   "metadata": {
    "id": "create_endpoint:custom"
   },
   "source": [
    "部署`Model`资源\n",
    "\n",
    "现在部署已训练的Vertex自定义`Model`资源。这需要两个步骤：\n",
    "\n",
    "1. 创建一个用于部署`Model`资源的`Endpoint`资源。\n",
    "\n",
    "2. 将`Model`资源部署到`Endpoint`资源。"
   ]
  },
  {
   "cell_type": "markdown",
   "metadata": {
    "id": "create_endpoint"
   },
   "source": [
    "### 创建`Endpoint`资源\n",
    "\n",
    "使用这个辅助函数`create_endpoint`创建一个用于部署模型以进行预测服务的终端节点，需要以下参数：\n",
    "\n",
    "- `display_name`：`Endpoint`资源的可读性名称。\n",
    "\n",
    "该辅助函数使用终端节点客户端服务的`create_endpoint`方法，该方法接受以下参数：\n",
    "\n",
    "- `display_name`：`Endpoint`资源的可读性名称。\n",
    "\n",
    "创建一个`Endpoint`资源会返回一个长时间运行的操作，因为可能需要一些时间来为服务提供`Endpoint`资源。您调用`response.result()`，这是一个同步调用，当终端节点资源准备就绪时会返回。辅助函数返回`Endpoint`资源的Vertex完全合格标识符：`response.name`。"
   ]
  },
  {
   "cell_type": "code",
   "execution_count": null,
   "metadata": {
    "id": "create_endpoint"
   },
   "outputs": [],
   "source": [
    "ENDPOINT_NAME = \"flowers_endpoint-\" + TIMESTAMP\n",
    "\n",
    "\n",
    "def create_endpoint(display_name):\n",
    "    endpoint = {\"display_name\": display_name}\n",
    "    response = clients[\"endpoint\"].create_endpoint(parent=PARENT, endpoint=endpoint)\n",
    "    print(\"Long running operation:\", response.operation.name)\n",
    "\n",
    "    result = response.result(timeout=300)\n",
    "    print(\"result\")\n",
    "    print(\" name:\", result.name)\n",
    "    print(\" display_name:\", result.display_name)\n",
    "    print(\" description:\", result.description)\n",
    "    print(\" labels:\", result.labels)\n",
    "    print(\" create_time:\", result.create_time)\n",
    "    print(\" update_time:\", result.update_time)\n",
    "    return result\n",
    "\n",
    "\n",
    "result = create_endpoint(ENDPOINT_NAME)"
   ]
  },
  {
   "cell_type": "markdown",
   "metadata": {
    "id": "endpoint_id:result"
   },
   "source": [
    "现在获取您创建的“ 端点” 资源的唯一标识符。"
   ]
  },
  {
   "cell_type": "code",
   "execution_count": null,
   "metadata": {
    "id": "endpoint_id:result"
   },
   "outputs": [],
   "source": [
    "# The full unique ID for the endpoint\n",
    "endpoint_id = result.name\n",
    "# The short numeric ID for the endpoint\n",
    "endpoint_short_id = endpoint_id.split(\"/\")[-1]\n",
    "\n",
    "print(endpoint_id)"
   ]
  },
  {
   "cell_type": "markdown",
   "metadata": {
    "id": "instance_scaling"
   },
   "source": [
    "### 计算实例扩缩容\n",
    "\n",
    "您有几种选择可以对计算实例进行扩缩容，以处理您的在线预测请求：\n",
    "\n",
    "- 单个实例：在线预测请求在单个计算实例上处理。\n",
    "  - 将计算实例的最小（`MIN_NODES`）和最大（`MAX_NODES`）数量设置为一。\n",
    "\n",
    "- 手动扩缩容：在线预测请求在您手动指定的固定数量的计算实例之间分配。\n",
    "  - 将计算实例的最小（`MIN_NODES`）和最大（`MAX_NODES`）数量设置为相同的节点数。当模型首次部署到实例时，固定数量的计算实例将被准备，并在线预测请求在它们之间均匀分配。\n",
    "\n",
    "- 自动扩缩容：在线预测请求在可扩展数量的计算实例之间分配。\n",
    "  - 将计算实例的最小（`MIN_NODES`）数量设置为首次部署模型时要准备和取消准备的实例数量，并将最大（`MAX_NODES`）数量设置为根据负载条件要准备实例的数量。\n",
    "\n",
    "计算实例的最小数量对应于字段 `min_replica_count`，最大数量对应于字段 `max_replica_count`，在您后续的部署请求中。"
   ]
  },
  {
   "cell_type": "code",
   "execution_count": null,
   "metadata": {
    "id": "instance_scaling"
   },
   "outputs": [],
   "source": [
    "MIN_NODES = 1\n",
    "MAX_NODES = 1"
   ]
  },
  {
   "cell_type": "markdown",
   "metadata": {
    "id": "deploy_model:dedicated"
   },
   "source": [
    "### 部署 `Model` 资源到 `Endpoint` 资源\n",
    "\n",
    "使用这个辅助函数 `deploy_model` 来将从训练管道上传（部署）的 `Model` 资源部署到您为提供预测创建的 `Endpoint` 资源，使用以下参数：\n",
    "\n",
    "- `model`：要上传的模型的 Vertex 完全合格的模型标识符。\n",
    "- `deploy_model_display_name`：部署模型的人类可读名称。\n",
    "- `endpoint`：部署模型的 Vertex 完全合格的终端标识符。\n",
    "\n",
    "辅助函数调用 `Endpoint` 客户端服务的方法 `deploy_model`，该方法接受以下参数：\n",
    "\n",
    "- `endpoint`：要将 `Model` 资源部署到的 Vertex 完全合格的 `Endpoint` 资源标识符。\n",
    "- `deployed_model`：用于部署模型的要求规范。\n",
    "- `traffic_split`：传送到此模型的终点的流量百分比，指定为一个或多个键/值对的字典。\n",
    "  - 如果只有一个模型，则指定为 **{ \"0\": 100 }**，其中 \"0\" 指的是上传的这个模型，100 表示 100% 的流量。\n",
    "  - 如果终端上有现有的模型，并且流量将被分配给它们，则使用 `model_id` 来指定为 **{ \"0\": 百分比，model_id: 百分比, ... }**，其中 `model_id` 是部署端点的现有模型的模型标识符。这些百分比必须加起来为 100。\n",
    "\n",
    "现在让我们更深入地了解 `deployed_model` 参数。该参数被指定为一个具有最少必需字段的 Python 字典：\n",
    "\n",
    "- `model`：要部署的（上传）模型的 Vertex 完全合格的模型标识符。\n",
    "- `display_name`：部署模型的人类可读名称。\n",
    "- `disable_container_logging`：这会禁用容器事件的记录，例如执行失败（默认情况下容器日志记录已启用）。容器日志记录通常在调试部署时启用，然后在生产部署时禁用。\n",
    "- `dedicated_resources`：这是为提供预测请求而缩放的计算实例（副本）的数量。\n",
    "  - `machine_spec`：要提供的计算实例。使用先前设置的变量 `DEPLOY_GPU != None` 来使用 GPU；否则只分配 CPU。\n",
    "  - `min_replica_count`：初始要提供的计算实例数，您先前设置为变量 `MIN_NODES`。\n",
    "  - `max_replica_count`：要扩展到的计算实例的最大数量，您先前设置为变量 `MAX_NODES`。\n",
    "\n",
    "#### 流量分割\n",
    "\n",
    "现在让我们更深入地了解 `traffic_split` 参数。该参数被指定为一个 Python 字典。刚开始可能有点困惑。让我解释一下，您可以将多个模型实例部署到一个终端，然后设置每个实例接收多少（百分比）的流量。\n",
    "\n",
    "为什么要这样做？也许您已经在生产环境中部署了以前的版本 -- 让我们称之为 v1。您在 v2 上获得了更好的模型评估结果，但在将其部署到生产环境之前，您并不能确定它是否真的更好。因此，在流量分割的情况下，您可能希望将 v2 部署到与 v1 相同的终端，但只分配给它说 10% 的流量。这样，您可以在不干扰大多数用户的情况下监视其表现 -- 直到做出最终决定。\n",
    "\n",
    "#### 响应\n",
    "\n",
    "该方法返回一个长时间运行的操作 `response`。我们将通过调用 `response.result()` 同步等待操作完成，该方法将阻塞直到模型被部署。如果这是第一次将模型部署到终端，则可能需要额外几分钟来完成资源的分配。"
   ]
  },
  {
   "cell_type": "code",
   "execution_count": null,
   "metadata": {
    "id": "deploy_model:dedicated"
   },
   "outputs": [],
   "source": [
    "DEPLOYED_NAME = \"flowers_deployed-\" + TIMESTAMP\n",
    "\n",
    "\n",
    "def deploy_model(\n",
    "    model, deployed_model_display_name, endpoint, traffic_split={\"0\": 100}\n",
    "):\n",
    "\n",
    "    if DEPLOY_GPU:\n",
    "        machine_spec = {\n",
    "            \"machine_type\": DEPLOY_COMPUTE,\n",
    "            \"accelerator_type\": DEPLOY_GPU,\n",
    "            \"accelerator_count\": DEPLOY_NGPU,\n",
    "        }\n",
    "    else:\n",
    "        machine_spec = {\n",
    "            \"machine_type\": DEPLOY_COMPUTE,\n",
    "            \"accelerator_count\": 0,\n",
    "        }\n",
    "\n",
    "    deployed_model = {\n",
    "        \"model\": model,\n",
    "        \"display_name\": deployed_model_display_name,\n",
    "        \"dedicated_resources\": {\n",
    "            \"min_replica_count\": MIN_NODES,\n",
    "            \"max_replica_count\": MAX_NODES,\n",
    "            \"machine_spec\": machine_spec,\n",
    "        },\n",
    "        \"disable_container_logging\": False,\n",
    "    }\n",
    "\n",
    "    response = clients[\"endpoint\"].deploy_model(\n",
    "        endpoint=endpoint, deployed_model=deployed_model, traffic_split=traffic_split\n",
    "    )\n",
    "\n",
    "    print(\"Long running operation:\", response.operation.name)\n",
    "    result = response.result()\n",
    "    print(\"result\")\n",
    "    deployed_model = result.deployed_model\n",
    "    print(\" deployed_model\")\n",
    "    print(\"  id:\", deployed_model.id)\n",
    "    print(\"  model:\", deployed_model.model)\n",
    "    print(\"  display_name:\", deployed_model.display_name)\n",
    "    print(\"  create_time:\", deployed_model.create_time)\n",
    "\n",
    "    return deployed_model.id\n",
    "\n",
    "\n",
    "deployed_model_id = deploy_model(model_to_deploy_id, DEPLOYED_NAME, endpoint_id)"
   ]
  },
  {
   "cell_type": "markdown",
   "metadata": {
    "id": "make_prediction"
   },
   "source": [
    "发出在线预测请求\n",
    "\n",
    "现在对您部署的模型进行在线预测。"
   ]
  },
  {
   "cell_type": "code",
   "execution_count": null,
   "metadata": {
    "id": "get_test_item:exported_ds"
   },
   "outputs": [],
   "source": [
    "# Last data item in exported dataset index\n",
    "data_items = export_data_items[-1:]\n",
    "data_item = json.loads(data_items[0])\n",
    "image_path = data_item[\"imageGcsUri\"]\n",
    "print(\"IMAGE PATH\", image_path)"
   ]
  },
  {
   "cell_type": "markdown",
   "metadata": {
    "id": "prepare_test_item:exported_ds"
   },
   "source": [
    "准备请求内容\n",
    "您将发送图像作为压缩的JPG图像，而不是原始未压缩的字节：\n",
    "\n",
    "- `cv2.imread`：将压缩的JPG图像读取回内存中作为原始字节。\n",
    "- `tf.image.resize`：将图像调整大小为模型的输入形状--(128, 128, 3)。\n",
    "- cv2.imwrite：将调整大小后的图像写回磁盘。\n",
    "- `base64.b64encode`：读取调整大小后的压缩图像并编码为一个base 64编码的字符串。"
   ]
  },
  {
   "cell_type": "code",
   "execution_count": null,
   "metadata": {
    "id": "prepare_test_item:exported_ds"
   },
   "outputs": [],
   "source": [
    "! gsutil cp $image_path tmp.jpg\n",
    "\n",
    "import base64\n",
    "\n",
    "import cv2\n",
    "\n",
    "test_image = cv2.imread(\"tmp.jpg\", cv2.IMREAD_COLOR)\n",
    "print(\"before:\", test_image.shape)\n",
    "test_image = cv2.resize(test_image, (128, 128))\n",
    "print(\"after:\", test_image.shape)\n",
    "cv2.imwrite(\"tmp.jpg\", test_image.astype(np.uint8))\n",
    "\n",
    "# bytes = tf.io.read_file('tmp.jpg')\n",
    "with open(\"tmp.jpg\", \"rb\") as f:\n",
    "    bytes = f.read()\n",
    "b64str = base64.b64encode(bytes).decode(\"utf-8\")"
   ]
  },
  {
   "cell_type": "markdown",
   "metadata": {
    "id": "send_prediction_request:image"
   },
   "source": [
    "### 发送预测请求\n",
    "\n",
    "好的，现在你有了一个测试图片。使用这个辅助函数 `predict_image`，它接受以下参数：\n",
    "\n",
    "- `image`: 作为 numpy 数组的测试图片数据。\n",
    "- `endpoint`: Vertex 完全限定的标识符，指的是部署了 `Model` 资源的 `Endpoint` 资源。\n",
    "- `parameters_dict`: 用于服务的额外参数。\n",
    "\n",
    "此函数调用预测客户端服务的 `predict` 方法，并传递以下参数：\n",
    "\n",
    "- `endpoint`: Vertex 完全限定的标识符，指的是部署了 `Model` 资源的 `Endpoint` 资源。\n",
    "- `instances`: 要预测的一系列实例（编码后的图片）。\n",
    "- `parameters`: 用于服务的额外参数。\n",
    "\n",
    "为了将图片数据传递给预测服务，在上一步你将字节编码为 base64 格式 -- 这样可以保证在通过网络传输二进制数据时内容不会被修改。你需要告诉服务二进制代码你的模型部署在哪里，并且内容已经被 base64 编码，这样服务二进制代码在另一端会进行解码。\n",
    "\n",
    "预测请求中的每个实例都是一个字典条目，格式如下：\n",
    "\n",
    "                        {serving_input: {'b64': content}}\n",
    "\n",
    "- `input_name`: 底层模型的输入层的名称。\n",
    "- `'b64'`: 一个表示内容为 base64 编码的键。\n",
    "- `content`: 压缩后的 JPG 图像字节，以 base64 编码的字符串形式。\n",
    "\n",
    "由于 `predict()` 服务可以接受多个图片（实例），你将把你的单个图片作为一个图片列表发送。最后一步是将实例列表打包进 Google 的 protobuf 格式 -- 这就是我们传递给 `predict()` 服务的内容。\n",
    "\n",
    "`response` 对象返回一个列表，其中列表中的每个元素对应请求中的每个图片。你会在每个预测输出中看到以下内容：\n",
    "\n",
    "- `predictions`: 表示对每个类别的预测置信度，介于 0 到 1 之间。"
   ]
  },
  {
   "cell_type": "code",
   "execution_count": null,
   "metadata": {
    "id": "send_prediction_request:image"
   },
   "outputs": [],
   "source": [
    "def predict_image(image, endpoint, parameters_dict):\n",
    "    # The format of each instance should conform to the deployed model's prediction input schema.\n",
    "    instances_list = [{serving_input: {\"b64\": image}}]\n",
    "    instances = [json_format.ParseDict(s, Value()) for s in instances_list]\n",
    "\n",
    "    response = clients[\"prediction\"].predict(\n",
    "        endpoint=endpoint, instances=instances, parameters=parameters_dict\n",
    "    )\n",
    "    print(\"response\")\n",
    "    print(\" deployed_model_id:\", response.deployed_model_id)\n",
    "    predictions = response.predictions\n",
    "    print(\"predictions\")\n",
    "    for prediction in predictions:\n",
    "        print(\" prediction:\", prediction)\n",
    "\n",
    "\n",
    "predict_image(b64str, endpoint_id, None)"
   ]
  },
  {
   "cell_type": "markdown",
   "metadata": {
    "id": "undeploy_model"
   },
   "source": [
    "解除部署`Model`资源\n",
    "\n",
    "现在从服务的`Endpoint`资源中解除部署您的`Model`资源。使用这个辅助函数`undeploy_model`，它接受以下参数：\n",
    "\n",
    "- `deployed_model_id`：当将`Model`资源部署到服务端点时，端点服务返回的模型部署标识符。\n",
    "- `endpoint`：`Model`部署到的`Endpoint`资源的 Vertex 完全限定标识符。\n",
    "\n",
    "此函数调用端点客户端服务的`undeploy_model`方法，使用以下参数：\n",
    "\n",
    "- `deployed_model_id`：当`Model`资源被部署时，端点服务返回的模型部署标识符。\n",
    "- `endpoint`：`Model`资源部署到的`Endpoint`资源的 Vertex 完全限定标识符。\n",
    "- `traffic_split`：如何在`Endpoint`资源上的其余部署模型之间分配流量。\n",
    "\n",
    "由于这是`Endpoint`资源上唯一部署的模型，您可以通过将`traffic_split`设置为空对象{}来保持空白。"
   ]
  },
  {
   "cell_type": "code",
   "execution_count": null,
   "metadata": {
    "id": "undeploy_model"
   },
   "outputs": [],
   "source": [
    "def undeploy_model(deployed_model_id, endpoint):\n",
    "    response = clients[\"endpoint\"].undeploy_model(\n",
    "        endpoint=endpoint, deployed_model_id=deployed_model_id, traffic_split={}\n",
    "    )\n",
    "    print(response)\n",
    "\n",
    "\n",
    "undeploy_model(deployed_model_id, endpoint_id)"
   ]
  },
  {
   "cell_type": "markdown",
   "metadata": {
    "id": "cleanup"
   },
   "source": [
    "清理\n",
    "\n",
    "要清理此项目中使用的所有 GCP 资源，您可以[删除用于教程的 GCP 项目](https://cloud.google.com/resource-manager/docs/creating-managing-projects#shutting_down_projects)。\n",
    "\n",
    "否则，您可以删除本教程中创建的各个资源：\n",
    "\n",
    "- 数据集\n",
    "- 流水线\n",
    "- 模型\n",
    "- 终端\n",
    "- 批处理作业\n",
    "- 自定义作业\n",
    "- 超参数调整作业\n",
    "- 云存储存储桶"
   ]
  },
  {
   "cell_type": "code",
   "execution_count": null,
   "metadata": {
    "id": "cleanup"
   },
   "outputs": [],
   "source": [
    "delete_dataset = True\n",
    "delete_pipeline = True\n",
    "delete_model = True\n",
    "delete_endpoint = True\n",
    "delete_batchjob = True\n",
    "delete_customjob = True\n",
    "delete_hptjob = True\n",
    "delete_bucket = True\n",
    "\n",
    "# Delete the dataset using the Vertex fully qualified identifier for the dataset\n",
    "try:\n",
    "    if delete_dataset and \"dataset_id\" in globals():\n",
    "        clients[\"dataset\"].delete_dataset(name=dataset_id)\n",
    "except Exception as e:\n",
    "    print(e)\n",
    "\n",
    "# Delete the training pipeline using the Vertex fully qualified identifier for the pipeline\n",
    "try:\n",
    "    if delete_pipeline and \"pipeline_id\" in globals():\n",
    "        clients[\"pipeline\"].delete_training_pipeline(name=pipeline_id)\n",
    "except Exception as e:\n",
    "    print(e)\n",
    "\n",
    "# Delete the model using the Vertex fully qualified identifier for the model\n",
    "try:\n",
    "    if delete_model and \"model_to_deploy_id\" in globals():\n",
    "        clients[\"model\"].delete_model(name=model_to_deploy_id)\n",
    "except Exception as e:\n",
    "    print(e)\n",
    "\n",
    "# Delete the endpoint using the Vertex fully qualified identifier for the endpoint\n",
    "try:\n",
    "    if delete_endpoint and \"endpoint_id\" in globals():\n",
    "        clients[\"endpoint\"].delete_endpoint(name=endpoint_id)\n",
    "except Exception as e:\n",
    "    print(e)\n",
    "\n",
    "# Delete the batch job using the Vertex fully qualified identifier for the batch job\n",
    "try:\n",
    "    if delete_batchjob and \"batch_job_id\" in globals():\n",
    "        clients[\"job\"].delete_batch_prediction_job(name=batch_job_id)\n",
    "except Exception as e:\n",
    "    print(e)\n",
    "\n",
    "# Delete the custom job using the Vertex fully qualified identifier for the custom job\n",
    "try:\n",
    "    if delete_customjob and \"job_id\" in globals():\n",
    "        clients[\"job\"].delete_custom_job(name=job_id)\n",
    "except Exception as e:\n",
    "    print(e)\n",
    "\n",
    "# Delete the hyperparameter tuning job using the Vertex fully qualified identifier for the hyperparameter tuning job\n",
    "try:\n",
    "    if delete_hptjob and \"hpt_job_id\" in globals():\n",
    "        clients[\"job\"].delete_hyperparameter_tuning_job(name=hpt_job_id)\n",
    "except Exception as e:\n",
    "    print(e)\n",
    "\n",
    "if delete_bucket and \"BUCKET_NAME\" in globals():\n",
    "    ! gsutil rm -r $BUCKET_NAME"
   ]
  }
 ],
 "metadata": {
  "colab": {
   "name": "showcase_custom_image_classification_online_exported_ds.ipynb",
   "toc_visible": true
  },
  "kernelspec": {
   "display_name": "Python 3",
   "name": "python3"
  }
 },
 "nbformat": 4,
 "nbformat_minor": 0
}
