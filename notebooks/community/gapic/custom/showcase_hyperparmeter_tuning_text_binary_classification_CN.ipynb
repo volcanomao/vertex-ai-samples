{
 "cells": [
  {
   "cell_type": "code",
   "execution_count": null,
   "metadata": {
    "id": "copyright"
   },
   "outputs": [],
   "source": [
    "# Copyright 2020 Google LLC\n",
    "#\n",
    "# Licensed under the Apache License, Version 2.0 (the \"License\");\n",
    "# you may not use this file except in compliance with the License.\n",
    "# You may obtain a copy of the License at\n",
    "#\n",
    "#     https://www.apache.org/licenses/LICENSE-2.0\n",
    "#\n",
    "# Unless required by applicable law or agreed to in writing, software\n",
    "# distributed under the License is distributed on an \"AS IS\" BASIS,\n",
    "# WITHOUT WARRANTIES OR CONDITIONS OF ANY KIND, either express or implied.\n",
    "# See the License for the specific language governing permissions and\n",
    "# limitations under the License."
   ]
  },
  {
   "cell_type": "markdown",
   "metadata": {
    "id": "title"
   },
   "source": [
    "# Vertex客户端库：超参数调整文本二分类模型\n",
    "\n",
    "<table align=\"left\">\n",
    "  <td>\n",
    "    <a href=\"https://colab.research.google.com/github/GoogleCloudPlatform/vertex-ai-samples/blob/master/notebooks/community/gapic/custom/showcase_hyperparmeter_tuning_text_binary_classification.ipynb\">\n",
    "      <img src=\"https://cloud.google.com/ml-engine/images/colab-logo-32px.png\" alt=\"Colab logo\"> 在 Colab 中运行\n",
    "    </a>\n",
    "  </td>\n",
    "  <td>\n",
    "    <a href=\"https://github.com/GoogleCloudPlatform/vertex-ai-samples/blob/master/notebooks/community/gapic/custom/showcase_hyperparmeter_tuning_text_binary_classification.ipynb\">\n",
    "      <img src=\"https://cloud.google.com/ml-engine/images/github-logo-32px.png\" alt=\"GitHub logo\">\n",
    "      在 GitHub 上查看\n",
    "    </a>\n",
    "  </td>\n",
    "</table>\n",
    "<br/><br/><br/>"
   ]
  },
  {
   "cell_type": "markdown",
   "metadata": {
    "id": "overview:custom,hpt"
   },
   "source": [
    "## 概述\n",
    "\n",
    "本教程演示了如何使用Python中的Vertex客户端库为自定义文本二元分类模型进行超参数调整。"
   ]
  },
  {
   "cell_type": "markdown",
   "metadata": {
    "id": "dataset:custom,imdb,tbn"
   },
   "source": [
    "### 数据集\n",
    "\n",
    "本教程使用的数据集是来自[TensorFlow Datasets](https://www.tensorflow.org/datasets/catalog/overview)的[IMDB电影评论](https://www.tensorflow.org/datasets/catalog/imdb_reviews)。您在本教程中使用的数据集版本存储在一个公共云存储桶中。训练的模型预测评论的情感是积极的还是消极的。"
   ]
  },
  {
   "cell_type": "markdown",
   "metadata": {
    "id": "objective:custom,hpt"
   },
   "source": [
    "### 目标\n",
    "\n",
    "在这个笔记本中，您将学习如何使用Vertex客户端库从Python脚本中在docker容器中创建一个用于自定义文本二分类模型的超参数调整作业。您也可以使用`gcloud`命令行工具或在Google Cloud控制台上在线调整模型的超参数。\n",
    "\n",
    "执行的步骤包括：\n",
    "\n",
    "- 创建一个用于训练自定义模型的Vertex超参数调整作业。\n",
    "- 调整自定义模型。\n",
    "- 评估研究结果。"
   ]
  },
  {
   "cell_type": "markdown",
   "metadata": {
    "id": "costs"
   },
   "source": [
    "### 成本\n",
    "\n",
    "本教程使用 Google Cloud (GCP) 的可计费组件：\n",
    "\n",
    "* Vertex AI\n",
    "* Cloud Storage\n",
    "\n",
    "了解 [Vertex AI 价格](https://cloud.google.com/vertex-ai/pricing) 和 [Cloud Storage 价格](https://cloud.google.com/storage/pricing)，并使用 [价格计算器](https://cloud.google.com/products/calculator/) 根据您的预期使用情况生成成本估算。"
   ]
  },
  {
   "cell_type": "markdown",
   "metadata": {
    "id": "install_aip"
   },
   "source": [
    "安装\n",
    "\n",
    "安装最新版本的Vertex客户端库。"
   ]
  },
  {
   "cell_type": "code",
   "execution_count": null,
   "metadata": {
    "id": "install_aip"
   },
   "outputs": [],
   "source": [
    "import os\n",
    "import sys\n",
    "\n",
    "# Google Cloud Notebook\n",
    "if os.path.exists(\"/opt/deeplearning/metadata/env_version\"):\n",
    "    USER_FLAG = \"--user\"\n",
    "else:\n",
    "    USER_FLAG = \"\"\n",
    "\n",
    "! pip3 install -U google-cloud-aiplatform $USER_FLAG"
   ]
  },
  {
   "cell_type": "markdown",
   "metadata": {
    "id": "install_storage"
   },
   "source": [
    "安装最新版本的 *google-cloud-storage* 库。"
   ]
  },
  {
   "cell_type": "code",
   "execution_count": null,
   "metadata": {
    "id": "install_storage"
   },
   "outputs": [],
   "source": [
    "! pip3 install -U google-cloud-storage $USER_FLAG"
   ]
  },
  {
   "cell_type": "markdown",
   "metadata": {
    "id": "restart"
   },
   "source": [
    "重新启动内核\n",
    "\n",
    "一旦您安装了Vertex客户端库和Google *云存储*，您需要重新启动笔记本内核，以便它能找到这些包。"
   ]
  },
  {
   "cell_type": "code",
   "execution_count": null,
   "metadata": {
    "id": "restart"
   },
   "outputs": [],
   "source": [
    "if not os.getenv(\"IS_TESTING\"):\n",
    "    # Automatically restart kernel after installs\n",
    "    import IPython\n",
    "\n",
    "    app = IPython.Application.instance()\n",
    "    app.kernel.do_shutdown(True)"
   ]
  },
  {
   "cell_type": "markdown",
   "metadata": {
    "id": "before_you_begin"
   },
   "source": [
    "## 开始之前\n",
    "\n",
    "### GPU 运行时\n",
    "\n",
    "*确保如果有这个选项的话，你正在GPU运行时中运行这个笔记本。在 Colab 中，选择* **运行时 > 更改运行时类型 > GPU**\n",
    "\n",
    "### 设置你的谷歌云项目\n",
    "\n",
    "**无论你的笔记本环境如何，以下步骤都是必需的。**\n",
    "\n",
    "1. [选择或创建一个谷歌云项目](https://console.cloud.google.com/cloud-resource-manager)。当你第一次创建一个账户时，你会获得一个用于计算/存储成本的 $300 免费信用。\n",
    "\n",
    "2. [确保你的项目已启用计费。](https://cloud.google.com/billing/docs/how-to/modify-project)\n",
    "\n",
    "3. [启用 Vertex API 和 Compute Engine API。](https://console.cloud.google.com/flows/enableapi?apiid=ml.googleapis.com,compute_component)\n",
    "\n",
    "4. [Google Cloud SDK](https://cloud.google.com/sdk) 已经安装在谷歌云笔记本中。\n",
    "\n",
    "5. 在下面的单元格中输入你的项目ID。然后运行该单元格，以确保 Cloud SDK 对本笔记本中的所有命令使用正确的项目。\n",
    "\n",
    "**注意**: Jupyter 运行以 `!` 为前缀的行作为 shell 命令，并将以 `$` 为前缀的 Python 变量插入到这些命令中。"
   ]
  },
  {
   "cell_type": "code",
   "execution_count": null,
   "metadata": {
    "id": "set_project_id"
   },
   "outputs": [],
   "source": [
    "PROJECT_ID = \"[your-project-id]\"  # @param {type:\"string\"}"
   ]
  },
  {
   "cell_type": "code",
   "execution_count": null,
   "metadata": {
    "id": "autoset_project_id"
   },
   "outputs": [],
   "source": [
    "if PROJECT_ID == \"\" or PROJECT_ID is None or PROJECT_ID == \"[your-project-id]\":\n",
    "    # Get your GCP project id from gcloud\n",
    "    shell_output = !gcloud config list --format 'value(core.project)' 2>/dev/null\n",
    "    PROJECT_ID = shell_output[0]\n",
    "    print(\"Project ID:\", PROJECT_ID)"
   ]
  },
  {
   "cell_type": "code",
   "execution_count": null,
   "metadata": {
    "id": "set_gcloud_project_id"
   },
   "outputs": [],
   "source": [
    "! gcloud config set project $PROJECT_ID"
   ]
  },
  {
   "cell_type": "markdown",
   "metadata": {
    "id": "region"
   },
   "source": [
    "区域\n",
    "\n",
    "您还可以更改“REGION”变量，该变量用于整个笔记本中的操作。以下是Vertex支持的区域。我们建议您选择离您最近的区域。\n",
    "\n",
    "- 美洲：`us-central1`\n",
    "- 欧洲：`europe-west4`\n",
    "- 亚太地区：`asia-east1`\n",
    "\n",
    "您可能无法将多区域存储桶用于Vertex的训练。并非所有区域都支持所有Vertex服务。有关每个区域的最新支持，请参阅[Vertex位置文档](https://cloud.google.com/vertex-ai/docs/general/locations)"
   ]
  },
  {
   "cell_type": "code",
   "execution_count": null,
   "metadata": {
    "id": "region"
   },
   "outputs": [],
   "source": [
    "REGION = \"us-central1\"  # @param {type: \"string\"}"
   ]
  },
  {
   "cell_type": "markdown",
   "metadata": {
    "id": "timestamp"
   },
   "source": [
    "时间戳\n",
    "\n",
    "如果你在一个直播教程会话中，你可能正在使用一个共享的测试账户或项目。为了避免在创建的资源上发生名称冲突，你为每个实例会话创建一个时间戳，并将其附加到在本教程中将要创建的资源的名称上。"
   ]
  },
  {
   "cell_type": "code",
   "execution_count": null,
   "metadata": {
    "id": "timestamp"
   },
   "outputs": [],
   "source": [
    "from datetime import datetime\n",
    "\n",
    "TIMESTAMP = datetime.now().strftime(\"%Y%m%d%H%M%S\")"
   ]
  },
  {
   "cell_type": "markdown",
   "metadata": {
    "id": "gcp_authenticate"
   },
   "source": [
    "### 验证您的Google Cloud账户\n",
    "\n",
    "**如果您正在使用Google Cloud Notebook**，您的环境已经经过身份验证。跳过这一步。\n",
    "\n",
    "**如果您正在使用Colab**，运行下面的单元格，并按照提示进行身份验证以通过oAuth验证您的帐户。\n",
    "\n",
    "**否则**，请按照以下步骤操作：\n",
    "\n",
    "在Cloud Console中，转到[Create service account key](https://console.cloud.google.com/apis/credentials/serviceaccountkey)页面。\n",
    "\n",
    "**点击创建服务帐户**。\n",
    "\n",
    "在**服务帐户名称**字段中输入名称，然后点击**创建**。\n",
    "\n",
    "在**授予此服务帐户访问权限该项目**部分，点击角色下拉列表。在过滤框中输入\"Vertex\"，然后选择**Vertex管理员**。在过滤框中输入\"Storage Object Admin\"，然后选择**存储对象管理员**。\n",
    "\n",
    "点击创建。包含您密钥的JSON文件将下载到您的本地环境中。\n",
    "\n",
    "在下面的单元格中将您的服务帐户密钥路径输入为GOOGLE_APPLICATION_CREDENTIALS变量，并运行该单元格。"
   ]
  },
  {
   "cell_type": "code",
   "execution_count": null,
   "metadata": {
    "id": "gcp_authenticate"
   },
   "outputs": [],
   "source": [
    "# If you are running this notebook in Colab, run this cell and follow the\n",
    "# instructions to authenticate your GCP account. This provides access to your\n",
    "# Cloud Storage bucket and lets you submit training jobs and prediction\n",
    "# requests.\n",
    "\n",
    "# If on Google Cloud Notebook, then don't execute this code\n",
    "if not os.path.exists(\"/opt/deeplearning/metadata/env_version\"):\n",
    "    if \"google.colab\" in sys.modules:\n",
    "        from google.colab import auth as google_auth\n",
    "\n",
    "        google_auth.authenticate_user()\n",
    "\n",
    "    # If you are running this notebook locally, replace the string below with the\n",
    "    # path to your service account key and run this cell to authenticate your GCP\n",
    "    # account.\n",
    "    elif not os.getenv(\"IS_TESTING\"):\n",
    "        %env GOOGLE_APPLICATION_CREDENTIALS ''"
   ]
  },
  {
   "cell_type": "markdown",
   "metadata": {
    "id": "bucket:custom"
   },
   "source": [
    "### 创建一个云存储存储桶\n",
    "\n",
    "**无论您使用什么笔记本环境，下面的步骤都是必需的。**\n",
    "\n",
    "当您使用 Vertex 客户端库提交自定义训练作业时，您需要上传一个包含训练代码的 Python 包到一个云存储桶中。Vertex会从这个包中运行代码。在这个教程中，Vertex还会把训练作业产生的训练模型保存在同一个桶中。然后，您可以基于这个输出创建一个 `Endpoint` 资源，用于提供在线预测。\n",
    "\n",
    "请设置您的云存储存储桶的名称。存储桶的名称必须在所有 Google Cloud 项目中全局唯一，包括您组织之外的项目。"
   ]
  },
  {
   "cell_type": "code",
   "execution_count": null,
   "metadata": {
    "id": "bucket"
   },
   "outputs": [],
   "source": [
    "BUCKET_NAME = \"gs://[your-bucket-name]\"  # @param {type:\"string\"}"
   ]
  },
  {
   "cell_type": "code",
   "execution_count": null,
   "metadata": {
    "id": "autoset_bucket"
   },
   "outputs": [],
   "source": [
    "if BUCKET_NAME == \"\" or BUCKET_NAME is None or BUCKET_NAME == \"gs://[your-bucket-name]\":\n",
    "    BUCKET_NAME = \"gs://\" + PROJECT_ID + \"aip-\" + TIMESTAMP"
   ]
  },
  {
   "cell_type": "markdown",
   "metadata": {
    "id": "create_bucket"
   },
   "source": [
    "只有当您的存储桶不存在时，才能运行以下单元格来创建您的云存储存储桶。"
   ]
  },
  {
   "cell_type": "code",
   "execution_count": null,
   "metadata": {
    "id": "create_bucket"
   },
   "outputs": [],
   "source": [
    "! gsutil mb -l $REGION $BUCKET_NAME"
   ]
  },
  {
   "cell_type": "markdown",
   "metadata": {
    "id": "validate_bucket"
   },
   "source": [
    "最后，通过检查其内容来验证对云存储桶的访问。"
   ]
  },
  {
   "cell_type": "code",
   "execution_count": null,
   "metadata": {
    "id": "validate_bucket"
   },
   "outputs": [],
   "source": [
    "! gsutil ls -al $BUCKET_NAME"
   ]
  },
  {
   "cell_type": "markdown",
   "metadata": {
    "id": "setup_vars"
   },
   "source": [
    "### 设置变量\n",
    "\n",
    "接下来，设置一些在教程中使用的变量。\n",
    "### 导入库并定义常量"
   ]
  },
  {
   "cell_type": "markdown",
   "metadata": {
    "id": "import_aip"
   },
   "source": [
    "#### 导入Vertex客户端库\n",
    "\n",
    "将Vertex客户端库导入到我们的Python环境中。"
   ]
  },
  {
   "cell_type": "code",
   "execution_count": null,
   "metadata": {
    "id": "import_aip"
   },
   "outputs": [],
   "source": [
    "import time\n",
    "\n",
    "from google.cloud.aiplatform import gapic as aip"
   ]
  },
  {
   "cell_type": "markdown",
   "metadata": {
    "id": "aip_constants"
   },
   "source": [
    "顶点常量\n",
    "\n",
    "为顶点设置以下常量：\n",
    "\n",
    "- `API_ENDPOINT`：用于数据集、模型、作业、管道和端点服务的顶点API服务端点。\n",
    "- `PARENT`：数据集、模型、作业、管道和端点资源的顶点位置根路径。"
   ]
  },
  {
   "cell_type": "code",
   "execution_count": null,
   "metadata": {
    "id": "aip_constants"
   },
   "outputs": [],
   "source": [
    "# API service endpoint\n",
    "API_ENDPOINT = \"{}-aiplatform.googleapis.com\".format(REGION)\n",
    "\n",
    "# Vertex location root path for your dataset, model and endpoint resources\n",
    "PARENT = \"projects/\" + PROJECT_ID + \"/locations/\" + REGION"
   ]
  },
  {
   "cell_type": "code",
   "execution_count": null,
   "metadata": {
    "id": "accelerators:training"
   },
   "outputs": [],
   "source": [
    "if os.getenv(\"IS_TESTING_TRAIN_GPU\"):\n",
    "    TRAIN_GPU, TRAIN_NGPU = (\n",
    "        aip.AcceleratorType.NVIDIA_TESLA_K80,\n",
    "        int(os.getenv(\"IS_TESTING_TRAIN_GPU\")),\n",
    "    )\n",
    "else:\n",
    "    TRAIN_GPU, TRAIN_NGPU = (aip.AcceleratorType.NVIDIA_TESLA_K80, 1)"
   ]
  },
  {
   "cell_type": "markdown",
   "metadata": {
    "id": "container:training"
   },
   "source": [
    "#### 容器（Docker）映像\n",
    "\n",
    "接下来，我们将设置用于训练的Docker容器映像。\n",
    "\n",
    "- 将变量`TF`设置为容器映像的TensorFlow版本。例如，`2-1`将是版本2.1，`1-15`将是版本1.15。以下列表显示了一些可用的预构建映像:\n",
    "\n",
    " - TensorFlow 1.15\n",
    "   - `gcr.io/cloud-aiplatform/training/tf-cpu.1-15:latest`\n",
    "   - `gcr.io/cloud-aiplatform/training/tf-gpu.1-15:latest`\n",
    " - TensorFlow 2.1\n",
    "   - `gcr.io/cloud-aiplatform/training/tf-cpu.2-1:latest`\n",
    "   - `gcr.io/cloud-aiplatform/training/tf-gpu.2-1:latest`\n",
    " - TensorFlow 2.2\n",
    "   - `gcr.io/cloud-aiplatform/training/tf-cpu.2-2:latest`\n",
    "   - `gcr.io/cloud-aiplatform/training/tf-gpu.2-2:latest`\n",
    " - TensorFlow 2.3\n",
    "   - `gcr.io/cloud-aiplatform/training/tf-cpu.2-3:latest`\n",
    "   - `gcr.io/cloud-aiplatform/training/tf-gpu.2-3:latest`\n",
    " - TensorFlow 2.4\n",
    "   - `gcr.io/cloud-aiplatform/training/tf-cpu.2-4:latest`\n",
    "   - `gcr.io/cloud-aiplatform/training/tf-gpu.2-4:latest`\n",
    " - XGBoost\n",
    "   - `gcr.io/cloud-aiplatform/training/xgboost-cpu.1-1`\n",
    " - Scikit-learn\n",
    "   - `gcr.io/cloud-aiplatform/training/scikit-learn-cpu.0-23:latest`\n",
    " - Pytorch\n",
    "   - `gcr.io/cloud-aiplatform/training/pytorch-cpu.1-4:latest`\n",
    "   - `gcr.io/cloud-aiplatform/training/pytorch-cpu.1-5:latest`\n",
    "   - `gcr.io/cloud-aiplatform/training/pytorch-cpu.1-6:latest`\n",
    "   - `gcr.io/cloud-aiplatform/training/pytorch-cpu.1-7:latest`\n",
    "\n",
    "有关最新列表，请参阅[用于训练的预构建容器](https://cloud.google.com/vertex-ai/docs/training/pre-built-containers)。"
   ]
  },
  {
   "cell_type": "code",
   "execution_count": null,
   "metadata": {
    "id": "container:training"
   },
   "outputs": [],
   "source": [
    "if os.getenv(\"IS_TESTING_TF\"):\n",
    "    TF = os.getenv(\"IS_TESTING_TF\")\n",
    "else:\n",
    "    TF = \"2-1\"\n",
    "\n",
    "if TF[0] == \"2\":\n",
    "    if TRAIN_GPU:\n",
    "        TRAIN_VERSION = \"tf-gpu.{}\".format(TF)\n",
    "    else:\n",
    "        TRAIN_VERSION = \"tf-cpu.{}\".format(TF)\n",
    "else:\n",
    "    if TRAIN_GPU:\n",
    "        TRAIN_VERSION = \"tf-gpu.{}\".format(TF)\n",
    "    else:\n",
    "        TRAIN_VERSION = \"tf-cpu.{}\".format(TF)\n",
    "\n",
    "TRAIN_IMAGE = \"gcr.io/cloud-aiplatform/training/{}:latest\".format(TRAIN_VERSION)\n",
    "\n",
    "print(\"Training:\", TRAIN_IMAGE, TRAIN_GPU, TRAIN_NGPU)"
   ]
  },
  {
   "cell_type": "markdown",
   "metadata": {
    "id": "machine:training"
   },
   "source": [
    "#### 机器类型\n",
    "\n",
    "接下来，设置用于训练的机器类型。\n",
    "\n",
    "- 设置变量 `TRAIN_COMPUTE` 来配置用于训练的虚拟机的计算资源。\n",
    " - `机器类型`\n",
    "     - `n1-standard`：每个vCPU的内存为3.75GB。\n",
    "     - `n1-highmem`：每个vCPU的内存为6.5GB。\n",
    "     - `n1-highcpu`：每个vCPU的内存为0.9GB。\n",
    " - `vCPUs`：数量为 \\[2, 4, 8, 16, 32, 64, 96 \\]\n",
    "\n",
    "*注意：以下不支持用于训练：*\n",
    "\n",
    " - `standard`：2个vCPUs\n",
    " - `highcpu`：2、4和8个vCPUs\n",
    "\n",
    "*注意：您也可以使用n2和e2机器类型进行训练和部署，但它们不支持GPU*。"
   ]
  },
  {
   "cell_type": "code",
   "execution_count": null,
   "metadata": {
    "id": "machine:training"
   },
   "outputs": [],
   "source": [
    "if os.getenv(\"IS_TESTING_TRAIN_MACHINE\"):\n",
    "    MACHINE_TYPE = os.getenv(\"IS_TESTING_TRAIN_MACHINE\")\n",
    "else:\n",
    "    MACHINE_TYPE = \"n1-standard\"\n",
    "\n",
    "VCPU = \"4\"\n",
    "TRAIN_COMPUTE = MACHINE_TYPE + \"-\" + VCPU\n",
    "print(\"Train machine type\", TRAIN_COMPUTE)"
   ]
  },
  {
   "cell_type": "markdown",
   "metadata": {
    "id": "tutorial_start:custom,hpt"
   },
   "source": [
    "# 教程\n",
    "\n",
    "现在你已经准备好开始创建你自己的超参数调整和训练自定义文本二元分类任务。"
   ]
  },
  {
   "cell_type": "markdown",
   "metadata": {
    "id": "clients:custom,hpt"
   },
   "source": [
    "## 设置客户端\n",
    "\n",
    "Vertex客户端库以客户端/服务器模型运行。在您的一端（Python脚本）中，您将创建一个客户端，该客户端发送请求并接收来自Vertex服务器的响应。\n",
    "\n",
    "在本教程中，您将为工作流程中的不同步骤使用不同的客户端。因此，请提前设置它们。\n",
    "\n",
    "- 为`Model`资源设置模型服务。\n",
    "- 为超参数调整设置作业服务。"
   ]
  },
  {
   "cell_type": "code",
   "execution_count": null,
   "metadata": {
    "id": "clients:custom,hpt"
   },
   "outputs": [],
   "source": [
    "# client options same for all services\n",
    "client_options = {\"api_endpoint\": API_ENDPOINT}\n",
    "\n",
    "\n",
    "def create_job_client():\n",
    "    client = aip.JobServiceClient(client_options=client_options)\n",
    "    return client\n",
    "\n",
    "\n",
    "def create_model_client():\n",
    "    client = aip.ModelServiceClient(client_options=client_options)\n",
    "    return client\n",
    "\n",
    "\n",
    "clients = {}\n",
    "clients[\"job\"] = create_job_client()\n",
    "clients[\"model\"] = create_model_client()\n",
    "\n",
    "for client in clients.items():\n",
    "    print(client)"
   ]
  },
  {
   "cell_type": "markdown",
   "metadata": {
    "id": "tune_custom_model:simple"
   },
   "source": [
    "调整模型 - 你好世界\n",
    "\n",
    "有两种方法可以使用容器映像来调整超参数并训练自定义模型：\n",
    "\n",
    "- **使用谷歌云预构建的容器**。如果使用预构建的容器，您还需要指定要安装到容器映像中的 Python 包。这个 Python 包包含了用于超参数调整和训练自定义模型的代码。\n",
    "\n",
    "- **使用您自己的自定义容器映像**。如果使用您自己的容器，容器需要包含用于超参数调整和训练自定义模型的代码。"
   ]
  },
  {
   "cell_type": "markdown",
   "metadata": {
    "id": "train_custom_job_specification:prebuilt_container,hpt"
   },
   "source": [
    "准备好你的超参数调整工作规范\n",
    "\n",
    "现在你的客户准备好了，你的第一步是为你的超参数调整工作创建一个工作规范。工作规范将包括以下内容：\n",
    "\n",
    "- `trial_job_spec`：自定义工作的规范。\n",
    "  - `worker_pool_spec`：用于超参数调整的机器类型和数量的规范（单个或分布式）。\n",
    "  - `python_package_spec`：要与预构建容器一起安装的Python包的规范。\n",
    "\n",
    "- `study_spec`：调整内容的规范。\n",
    "  - `parameters`：这是您将为自定义训练作业调整的超参数的规范。它将包含一个列表\n",
    "  - `metrics`：这是评估每次调整试验结果的规范。"
   ]
  },
  {
   "cell_type": "markdown",
   "metadata": {
    "id": "train_custom_job_machine_specification"
   },
   "source": [
    "###准备您的机器规格\n",
    "\n",
    "现在为您定制的超参数调整工作定义机器规格。这告诉 Vertex 应该为超参数调整提供什么类型的机器实例。\n",
    "  - `machine_type`：要配置的 GCP 实例类型 -- 例如，n1-standard-8。\n",
    "  - `accelerator_type`：硬件加速器的类型，如果有的话。在本教程中，如果您先前设置了变量 `TRAIN_GPU != None`，则您正在使用 GPU；否则，您将使用 CPU。\n",
    "  - `accelerator_count`：加速器的数量。"
   ]
  },
  {
   "cell_type": "code",
   "execution_count": null,
   "metadata": {
    "id": "train_custom_job_machine_specification"
   },
   "outputs": [],
   "source": [
    "if TRAIN_GPU:\n",
    "    machine_spec = {\n",
    "        \"machine_type\": TRAIN_COMPUTE,\n",
    "        \"accelerator_type\": TRAIN_GPU,\n",
    "        \"accelerator_count\": TRAIN_NGPU,\n",
    "    }\n",
    "else:\n",
    "    machine_spec = {\"machine_type\": TRAIN_COMPUTE, \"accelerator_count\": 0}"
   ]
  },
  {
   "cell_type": "markdown",
   "metadata": {
    "id": "train_custom_job_disk_specification"
   },
   "source": [
    "### 准备您的磁盘规格\n",
    "\n",
    "（可选）现在为您的自定义超参数调整作业定义磁盘规格。这将告诉 Vertex 需要在每台机器实例中为超参数调整提供什么类型和大小的磁盘。\n",
    "\n",
    "- `boot_disk_type`：SSD或标准。SSD更快，标准更便宜。默认为SSD。\n",
    "- `boot_disk_size_gb`：磁盘的大小（以GB为单位）。"
   ]
  },
  {
   "cell_type": "code",
   "execution_count": null,
   "metadata": {
    "id": "train_custom_job_disk_specification"
   },
   "outputs": [],
   "source": [
    "DISK_TYPE = \"pd-ssd\"  # [ pd-ssd, pd-standard]\n",
    "DISK_SIZE = 200  # GB\n",
    "\n",
    "disk_spec = {\"boot_disk_type\": DISK_TYPE, \"boot_disk_size_gb\": DISK_SIZE}"
   ]
  },
  {
   "cell_type": "markdown",
   "metadata": {
    "id": "train_custom_job_worker_pool_specification:prebuilt_container"
   },
   "source": [
    "### 定义工作人员池规范\n",
    "\n",
    "接下来，您需要为您的自定义超参数调整作业定义工作人员池规范。工作人员池规范将包括以下内容：\n",
    "\n",
    "- `replica_count`：要提供的这种机器类型的实例数量。\n",
    "- `machine_spec`：硬件规格。\n",
    "- `disk_spec`：（可选）磁盘存储规格。\n",
    "\n",
    "- `python_package`：要安装在 VM 实例上的 Python 训练包，以及要调用的 Python 模块，以及针对 Python 模块的命令行参数。\n",
    "\n",
    "现在让我们更深入地了解Python软件包规范：\n",
    "\n",
    "- `executor_image_spec`：这是为您的自定义超参数调整作业配置的docker镜像。\n",
    "\n",
    "- `package_uris`：这是要安装在提供的实例上的python训练包的位置（URI）列表。这些位置需要在一个云存储桶中。这些可以是单个python文件或整个包的zip（归档）文件。在后一种情况下，作业服务将将内容解压缩到docker镜像中。\n",
    "\n",
    "- `python_module`：用于运行自定义超参数调整作业的Python模块（脚本）。在这个例子中，您将调用 `trainer.task.py` -- 请注意，不需要添加 `.py` 后缀。\n",
    "\n",
    "- `args`：要传递给相应的Python模块的命令行参数。在这个例子中，您将设置：\n",
    "  - `\"--model-dir=\" + MODEL_DIR`：存储模型工件的云存储位置。告诉超参数调整脚本在哪里保存模型工件有两种方式：\n",
    "      - 直接：将Cloud Storage位置作为命令行参数传递给您的训练脚本（设置变量 `DIRECT = True`），\n",
    "      - 间接：服务将Cloud存储位置作为环境变量 `AIP_MODEL_DIR` 传递给您的训练脚本（设置变量 `DIRECT = False`）。在这种情况下，您需要在作业规范中告诉服务模型工件的位置。\n",
    "  - `\"--epochs=\" + EPOCHS`：训练的时代数。\n",
    "  - `\"--steps=\" + STEPS`：每个时代的步数（批次数）。\n",
    "  - `\"--distribute=\" + TRAIN_STRATEGY\"`：单个或分布式超参数调整所使用的超参数调整分发策略。\n",
    "     - `\"single\"`：单个设备。\n",
    "     - `\"mirror\"`：单个计算实例上的所有GPU设备。\n",
    "     - `\"multi\"`：所有计算实例上的所有GPU设备。"
   ]
  },
  {
   "cell_type": "code",
   "execution_count": null,
   "metadata": {
    "id": "train_custom_job_worker_pool_specification:prebuilt_container"
   },
   "outputs": [],
   "source": [
    "JOB_NAME = \"custom_job_\" + TIMESTAMP\n",
    "MODEL_DIR = \"{}/{}\".format(BUCKET_NAME, JOB_NAME)\n",
    "\n",
    "if not TRAIN_NGPU or TRAIN_NGPU < 2:\n",
    "    TRAIN_STRATEGY = \"single\"\n",
    "else:\n",
    "    TRAIN_STRATEGY = \"mirror\"\n",
    "\n",
    "EPOCHS = 20\n",
    "STEPS = 100\n",
    "\n",
    "DIRECT = True\n",
    "if DIRECT:\n",
    "    CMDARGS = [\n",
    "        \"--model-dir=\" + MODEL_DIR,\n",
    "        \"--epochs=\" + str(EPOCHS),\n",
    "        \"--steps=\" + str(STEPS),\n",
    "        \"--distribute=\" + TRAIN_STRATEGY,\n",
    "    ]\n",
    "else:\n",
    "    CMDARGS = [\n",
    "        \"--epochs=\" + str(EPOCHS),\n",
    "        \"--steps=\" + str(STEPS),\n",
    "        \"--distribute=\" + TRAIN_STRATEGY,\n",
    "    ]\n",
    "\n",
    "worker_pool_spec = [\n",
    "    {\n",
    "        \"replica_count\": 1,\n",
    "        \"machine_spec\": machine_spec,\n",
    "        \"disk_spec\": disk_spec,\n",
    "        \"python_package_spec\": {\n",
    "            \"executor_image_uri\": TRAIN_IMAGE,\n",
    "            \"package_uris\": [BUCKET_NAME + \"/trainer_imdb.tar.gz\"],\n",
    "            \"python_module\": \"trainer.task\",\n",
    "            \"args\": CMDARGS,\n",
    "        },\n",
    "    }\n",
    "]"
   ]
  },
  {
   "cell_type": "markdown",
   "metadata": {
    "id": "create_study_spec:simple"
   },
   "source": [
    "### 创建研究规范\n",
    "\n",
    "让我们从一个简单的研究开始。您将只使用一个参数 -- *学习速率*。由于只有一个参数，进行随机搜索没有太多意义。相反，我们将在一系列数值范围内进行网格搜索。\n",
    "\n",
    "- `度量`:\n",
    " - `度量ID`: 在这个示例中，要报告的客观指标是 `'val_accuracy'`\n",
    " - `目标`: 在这个示例中，超参数调整服务将评估试验以最大化客观指标的价值。\n",
    "- `参数`: 要调整的超参数的规范。\n",
    " - `参数ID`: 将传递给 Python 软件包作为命令行参数的超参数名称。\n",
    "  - `比例类型`: 比例类型确定超参数调整服务在搜索搜索空间时使用的分辨率。\n",
    "   - `单位线性比例`: 在搜索空间中的分辨率是相同的。\n",
    "   - `单位对数比例`: 接近搜索空间底部的值更远。\n",
    "   - `单位反对数比例`: 接近搜索空间顶部的值更远。\n",
    " - **搜索空间**: 在这里您将指定要选择调整的超参数的值的搜索空间。\n",
    "   - `整数值规范`: 指定在 `min_value` 和 `max_value` 之间的整数范围的值。\n",
    "   - `双值规范`: 指定在 `min_value` 和 `max_value` 之间的连续范围的值。\n",
    "   - `离散值规范`: 指定一组值。\n",
    "- `算法`: 选择每个试验的超参数值的搜索方法:\n",
    " - `网格搜索`: 组合搜索 -- 这在这个示例中使用。\n",
    " - `随机搜索`: 随机搜索。"
   ]
  },
  {
   "cell_type": "code",
   "execution_count": null,
   "metadata": {
    "id": "create_study_spec:simple"
   },
   "outputs": [],
   "source": [
    "study_spec = {\n",
    "    \"metrics\": [\n",
    "        {\n",
    "            \"metric_id\": \"val_accuracy\",\n",
    "            \"goal\": aip.StudySpec.MetricSpec.GoalType.MAXIMIZE,\n",
    "        }\n",
    "    ],\n",
    "    \"parameters\": [\n",
    "        {\n",
    "            \"parameter_id\": \"lr\",\n",
    "            \"discrete_value_spec\": {\"values\": [0.001, 0.01, 0.1]},\n",
    "            \"scale_type\": aip.StudySpec.ParameterSpec.ScaleType.UNIT_LINEAR_SCALE,\n",
    "        }\n",
    "    ],\n",
    "    \"algorithm\": aip.StudySpec.Algorithm.GRID_SEARCH,\n",
    "}"
   ]
  },
  {
   "cell_type": "markdown",
   "metadata": {
    "id": "assemble_custom_hpt_job_specification"
   },
   "source": [
    "### 组装超参数调整作业规范\n",
    "\n",
    "现在组装完整的自定义超参数调整规范描述：\n",
    "\n",
    "- `display_name`：您为此自定义超参数调整作业分配的易读名称。\n",
    "- `trial_job_spec`：自定义超参数调整作业的规范。\n",
    "- `study_spec`：要调整的内容规范。\n",
    "- `max_trial_count`：调整试验的最大数量。\n",
    "- `parallel_trial_count`：要并行尝试的试验数量；否则，它们会按顺序执行。"
   ]
  },
  {
   "cell_type": "code",
   "execution_count": null,
   "metadata": {
    "id": "assemble_custom_hpt_job_specification"
   },
   "outputs": [],
   "source": [
    "hpt_job = {\n",
    "    \"display_name\": JOB_NAME,\n",
    "    \"trial_job_spec\": {\"worker_pool_specs\": worker_pool_spec},\n",
    "    \"study_spec\": study_spec,\n",
    "    \"max_trial_count\": 6,\n",
    "    \"parallel_trial_count\": 1,\n",
    "}"
   ]
  },
  {
   "cell_type": "markdown",
   "metadata": {
    "id": "examine_training_package"
   },
   "source": [
    "### 检查超参数调整包\n",
    "\n",
    "#### 包布局\n",
    "\n",
    "在开始超参数调整之前，您将查看一个如何为自定义超参数调整工作组装Python包。解压缩后，包含以下目录/文件布局。\n",
    "\n",
    "- PKG-INFO\n",
    "- README.md\n",
    "- setup.cfg\n",
    "- setup.py\n",
    "- trainer\n",
    "  - \\_\\_init\\_\\_.py\n",
    "  - task.py\n",
    "\n",
    "`setup.cfg` 和 `setup.py` 文件是安装该包到 Docker 镜像操作环境中的说明。\n",
    "\n",
    "`trainer/task.py` 文件是执行自定义超参数调整工作的Python脚本。 *注意*，在工作组规范中引用时，我们将目录斜杠替换为点 (`trainer.task`)，并且去掉文件后缀 (`.py`)。\n",
    "\n",
    "#### 包装配\n",
    "\n",
    "接下来，您将组装训练包。"
   ]
  },
  {
   "cell_type": "code",
   "execution_count": null,
   "metadata": {
    "id": "examine_training_package"
   },
   "outputs": [],
   "source": [
    "# Make folder for Python hyperparameter tuning script\n",
    "! rm -rf custom\n",
    "! mkdir custom\n",
    "\n",
    "# Add package information\n",
    "! touch custom/README.md\n",
    "\n",
    "setup_cfg = \"[egg_info]\\n\\ntag_build =\\n\\ntag_date = 0\"\n",
    "! echo \"$setup_cfg\" > custom/setup.cfg\n",
    "\n",
    "setup_py = \"import setuptools\\n\\nsetuptools.setup(\\n\\n    install_requires=[\\n\\n        'tensorflow_datasets==1.3.0',\\n\\n    ],\\n\\n    packages=setuptools.find_packages())\"\n",
    "! echo \"$setup_py\" > custom/setup.py\n",
    "\n",
    "pkg_info = \"Metadata-Version: 1.0\\n\\nName: IMDB Movie Reviews text binary classification\\n\\nVersion: 0.0.0\\n\\nSummary: Demostration hyperparameter tuning script\\n\\nHome-page: www.google.com\\n\\nAuthor: Google\\n\\nAuthor-email: aferlitsch@google.com\\n\\nLicense: Public\\n\\nDescription: Demo\\n\\nPlatform: Vertex\"\n",
    "! echo \"$pkg_info\" > custom/PKG-INFO\n",
    "\n",
    "# Make the training subfolder\n",
    "! mkdir custom/trainer\n",
    "! touch custom/trainer/__init__.py"
   ]
  },
  {
   "cell_type": "markdown",
   "metadata": {
    "id": "taskpy_contents:hpt,simple"
   },
   "source": [
    "#### Task.py内容\n",
    "\n",
    "在下一个单元格中，您要写超参数调整脚本task.py的内容。我不会详细解释，只是让您浏览。总结一下：\n",
    "\n",
    "- 作为命令行参数传递试验的超参数值（`parser.add_argument（'--lr'，...）`）\n",
    "- 模拟训练循环，在每次循环（epoch）中，将变量`accuracy`设定为循环迭代次数乘以学习率。\n",
    "- 使用`report_hyperparameter_tuning_metric()`向超参数调整服务回报客观指标`accuracy`。"
   ]
  },
  {
   "cell_type": "code",
   "execution_count": null,
   "metadata": {
    "id": "taskpy_contents:hpt,simple"
   },
   "outputs": [],
   "source": [
    "%%writefile custom/trainer/task.py\n",
    "# HP Tuning hello world example\n",
    "\n",
    "from __future__ import absolute_import, division, print_function, unicode_literals\n",
    "import tensorflow_datasets as tfds\n",
    "import tensorflow as tf\n",
    "from tensorflow.python.client import device_lib\n",
    "from hypertune import HyperTune\n",
    "import argparse\n",
    "import os\n",
    "import sys\n",
    "import time\n",
    "tfds.disable_progress_bar()\n",
    "\n",
    "parser = argparse.ArgumentParser()\n",
    "parser.add_argument('--lr', dest='lr',\n",
    "                    default=0.001, type=float,\n",
    "                    help='Learning rate.')\n",
    "parser.add_argument('--epochs', dest='epochs',\n",
    "                    default=10, type=int,\n",
    "                    help='Number of epochs.')\n",
    "parser.add_argument('--steps', dest='steps',\n",
    "                    default=200, type=int,\n",
    "                    help='Number of steps per epoch.')\n",
    "parser.add_argument('--model-dir',\n",
    "                    dest='model_dir',\n",
    "                    default='/tmp/saved_model',\n",
    "                    type=str,\n",
    "                    help='Model dir.')\n",
    "parser.add_argument('--distribute', dest='distribute', type=str, default='single',\n",
    "                    help='distributed training strategy')\n",
    "args = parser.parse_args()\n",
    "\n",
    "print('Python Version = {}'.format(sys.version))\n",
    "print('TensorFlow Version = {}'.format(tf.__version__))\n",
    "print('TF_CONFIG = {}'.format(os.environ.get('TF_CONFIG', 'Not found')))\n",
    "print(device_lib.list_local_devices())\n",
    "\n",
    "# Instantiate the HyperTune reporting object\n",
    "hpt = HyperTune()\n",
    "\n",
    "for epoch in range(1, args.epochs+1):\n",
    "    # mimic metric result at the end of an epoch\n",
    "    acc = args.lr * epoch\n",
    "    # save the metric result to communicate back to the HPT service\n",
    "    hpt.report_hyperparameter_tuning_metric(\n",
    "        hyperparameter_metric_tag='val_accuracy',\n",
    "        metric_value=acc,\n",
    "        global_step=epoch)\n",
    "    print('epoch: {}, accuracy: {}'.format(epoch, acc))\n",
    "    time.sleep(1)"
   ]
  },
  {
   "cell_type": "markdown",
   "metadata": {
    "id": "tarball_training_script"
   },
   "source": [
    "将超参数调整脚本存储在您的云存储桶中\n",
    "\n",
    "接下来，您将超参数调整文件夹打包成一个压缩的tar文件，然后将其存储在您的云存储桶中。"
   ]
  },
  {
   "cell_type": "code",
   "execution_count": null,
   "metadata": {
    "id": "tarball_training_script"
   },
   "outputs": [],
   "source": [
    "! rm -f custom.tar custom.tar.gz\n",
    "! tar cvf custom.tar custom\n",
    "! gzip custom.tar\n",
    "! gsutil cp custom.tar.gz $BUCKET_NAME/trainer_imdb.tar.gz"
   ]
  },
  {
   "cell_type": "markdown",
   "metadata": {
    "id": "report_hypertune"
   },
   "source": [
    "使用 hypertune 报告试验结果\n",
    "\n",
    "对于每个试验，您的 Python 脚本需要向超参数调整服务报告您指定为评估试验标准的客观指标。\n",
    "\n",
    "在本示例中，您将在研究规范中指定客观指标将被报告为 `loss`。\n",
    "\n",
    "您可以使用 `HyperTune` 报告客观指标的值。这个 Python 模块用于将关键值对发送给超参数调整服务。要在您的 Python 包中设置此报告功能，您需要添加以下三个步骤的代码：\n",
    "\n",
    "1. 导入 HyperTune 模块：`from hypertune import HyperTune()`.\n",
    "2. 在每个 epoch 结束时，使用 `hpt.report_hyperparameter_tuning_metric()` 将客观函数的当前值写入日志作为键值对。在本例中，参数为：\n",
    " - `hyperparameter_metric_tag`：要报告的客观指标的名称。该名称必须与研究规范中指定的名称相同。\n",
    " - `metric_value`：要报告给超参数服务的客观指标的值。\n",
    " - `global_step`：epoch 迭代次数，从0开始。"
   ]
  },
  {
   "cell_type": "markdown",
   "metadata": {
    "id": "tune_custom_job"
   },
   "source": [
    "## 超参数调整模型\n",
    "\n",
    "现在开始在Vertex上对您的自定义模型进行超参数调整。使用以下辅助函数`create_hyperparameter_tuning_job`，该函数接受以下参数：\n",
    "\n",
    "- `hpt_job`：超参数调整作业的规范。\n",
    "\n",
    "辅助函数调用作业客户端服务的`create_hyperparameter_tuning_job`方法，并传入以下参数：\n",
    "\n",
    "- `parent`：指向`Dataset`、`Model`和`Endpoint`资源的Vertex位置路径。\n",
    "- `hyperparameter_tuning_job`：超参数调整作业的规范。\n",
    "\n",
    "您将在`response`对象返回的字段中显示一些感兴趣的字段，其中最感兴趣的两个是：\n",
    "\n",
    "`response.name`：分配给此自定义超参数调整作业的Vertex完全限定标识符。您将保存这个标识符以供后续步骤使用。\n",
    "\n",
    "`response.state`：自定义超参数调整作业的当前状态。"
   ]
  },
  {
   "cell_type": "code",
   "execution_count": null,
   "metadata": {
    "id": "tune_custom_job"
   },
   "outputs": [],
   "source": [
    "def create_hyperparameter_tuning_job(hpt_job):\n",
    "    response = clients[\"job\"].create_hyperparameter_tuning_job(\n",
    "        parent=PARENT, hyperparameter_tuning_job=hpt_job\n",
    "    )\n",
    "    print(\"name:\", response.name)\n",
    "    print(\"display_name:\", response.display_name)\n",
    "    print(\"state:\", response.state)\n",
    "    print(\"create_time:\", response.create_time)\n",
    "    print(\"update_time:\", response.update_time)\n",
    "    return response\n",
    "\n",
    "\n",
    "response = create_hyperparameter_tuning_job(hpt_job)"
   ]
  },
  {
   "cell_type": "markdown",
   "metadata": {
    "id": "hpt_job_id:response"
   },
   "source": [
    "现在获取您创建的超参数调整作业的唯一标识符。"
   ]
  },
  {
   "cell_type": "code",
   "execution_count": null,
   "metadata": {
    "id": "hpt_job_id:response"
   },
   "outputs": [],
   "source": [
    "# The full unique ID for the hyperparameter tuning job\n",
    "hpt_job_id = response.name\n",
    "# The short numeric ID for the hyperparameter tuning job\n",
    "hpt_job_short_id = hpt_job_id.split(\"/\")[-1]\n",
    "\n",
    "print(hpt_job_id)"
   ]
  },
  {
   "cell_type": "markdown",
   "metadata": {
    "id": "get_hpt_job"
   },
   "source": [
    "获取超参数调整作业的信息\n",
    "\n",
    "接下来，使用这个辅助函数`get_hyperparameter_tuning_job`，它接受以下参数：\n",
    "\n",
    "- `name`：超参数调整作业的Vertex完全限定标识符。\n",
    "\n",
    "该辅助函数调用作业客户端服务的`get_hyperparameter_tuning_job`方法，参数如下：\n",
    "\n",
    "- `name`：超参数调整作业的Vertex完全限定标识符。\n",
    "\n",
    "如果您记得，在调用`create_hyperparameter_tuning_job`方法时，在`response.name`字段中获得了超参数调整作业的Vertex完全限定标识符，并将该标识符保存在变量`hpt_job_id`中。"
   ]
  },
  {
   "cell_type": "code",
   "execution_count": null,
   "metadata": {
    "id": "get_hpt_job"
   },
   "outputs": [],
   "source": [
    "def get_hyperparameter_tuning_job(name, silent=False):\n",
    "    response = clients[\"job\"].get_hyperparameter_tuning_job(name=name)\n",
    "    if silent:\n",
    "        return response\n",
    "\n",
    "    print(\"name:\", response.name)\n",
    "    print(\"display_name:\", response.display_name)\n",
    "    print(\"state:\", response.state)\n",
    "    print(\"create_time:\", response.create_time)\n",
    "    print(\"update_time:\", response.update_time)\n",
    "    return response\n",
    "\n",
    "\n",
    "response = get_hyperparameter_tuning_job(hpt_job_id)"
   ]
  },
  {
   "cell_type": "markdown",
   "metadata": {
    "id": "wait_tuning_complete"
   },
   "source": [
    "等待调整完成\n",
    "\n",
    "对上述模型进行超参数调整可能需要20分钟以上的时间。\n",
    "\n",
    "一旦您的模型调整完成，您可以通过将`end_time`减去`start_time`来计算实际调整模型所花费的时间。\n",
    "\n",
    "对于您的模型，我们需要知道每次试验的保存模型的位置，Python脚本将其保存在您本地的云存储桶中的`MODEL_DIR + '/<trial_number>/saved_model.pb'`。"
   ]
  },
  {
   "cell_type": "code",
   "execution_count": null,
   "metadata": {
    "id": "wait_tuning_complete"
   },
   "outputs": [],
   "source": [
    "while True:\n",
    "    job_response = get_hyperparameter_tuning_job(hpt_job_id, True)\n",
    "    if job_response.state != aip.JobState.JOB_STATE_SUCCEEDED:\n",
    "        print(\"Study trials have not completed:\", job_response.state)\n",
    "        if job_response.state == aip.JobState.JOB_STATE_FAILED:\n",
    "            break\n",
    "    else:\n",
    "        if not DIRECT:\n",
    "            MODEL_DIR = MODEL_DIR + \"/model\"\n",
    "        print(\"Study trials have completed\")\n",
    "        break\n",
    "    time.sleep(60)"
   ]
  },
  {
   "cell_type": "markdown",
   "metadata": {
    "id": "review_study_results"
   },
   "source": [
    "现在审查研究结果。现在审查试验结果。"
   ]
  },
  {
   "cell_type": "code",
   "execution_count": null,
   "metadata": {
    "id": "review_study_results"
   },
   "outputs": [],
   "source": [
    "best = (None, None, None, 0.0)\n",
    "for trial in job_response.trials:\n",
    "    print(trial)\n",
    "    # Keep track of the best outcome\n",
    "    if float(trial.final_measurement.metrics[0].value) > best[3]:\n",
    "        try:\n",
    "            best = (\n",
    "                trial.id,\n",
    "                float(trial.parameters[0].value),\n",
    "                float(trial.parameters[1].value),\n",
    "                float(trial.final_measurement.metrics[0].value),\n",
    "            )\n",
    "        except:\n",
    "            best = (\n",
    "                trial.id,\n",
    "                float(trial.parameters[0].value),\n",
    "                None,\n",
    "                float(trial.final_measurement.metrics[0].value),\n",
    "            )"
   ]
  },
  {
   "cell_type": "markdown",
   "metadata": {
    "id": "best_trial"
   },
   "source": [
    "现在看看哪个试验是最好的："
   ]
  },
  {
   "cell_type": "code",
   "execution_count": null,
   "metadata": {
    "id": "best_trial"
   },
   "outputs": [],
   "source": [
    "print(\"ID\", best[0])\n",
    "print(\"Learning Rate\", best[1])\n",
    "print(\"Decay\", best[2])\n",
    "print(\"Validation Accuracy\", best[3])"
   ]
  },
  {
   "cell_type": "markdown",
   "metadata": {
    "id": "get_best_model"
   },
   "source": [
    "获取最佳模型\n",
    "\n",
    "如果您使用了让服务告诉调整脚本在哪里保存模型工件的方法（`DIRECT = False`），那么最佳模型的模型工件会保存在：\n",
    "\n",
    "    MODEL_DIR/<best_trial_id>/model"
   ]
  },
  {
   "cell_type": "code",
   "execution_count": null,
   "metadata": {
    "id": "get_best_model"
   },
   "outputs": [],
   "source": [
    "BEST_MODEL_DIR = MODEL_DIR + \"/\" + best[0] + \"/model\""
   ]
  },
  {
   "cell_type": "markdown",
   "metadata": {
    "id": "tune_custom_model:random"
   },
   "source": [
    "## 调整模型 - IMDB电影评论\n",
    "\n",
    "现在您已经看到了使用一个模仿训练模型的Python包来调整超参数的整体步骤，您将为一个用于IMDB电影评论模型的自定义训练工作做一个新的超参数调整工作。\n",
    "\n",
    "在这个例子中，您需要改变两个部分：\n",
    "\n",
    "1. 指定用于IMDB电影评论自定义超参数调整的Python包。\n",
    "2. 指定一个针对IMDB电影评论自定义超参数调整Python包中使用的超参数的研究规范。"
   ]
  },
  {
   "cell_type": "markdown",
   "metadata": {
    "id": "create_study_spec:random"
   },
   "source": [
    "### 创建一个研究规范\n",
    "\n",
    "在这个研究中，您将使用随机搜索算法调整两个超参数：\n",
    "\n",
    "- **学习率**：搜索空间是一组离散值。\n",
    "- **学习率衰减**：搜索空间是在1e-6和1e-2之间的连续范围。\n",
    "\n",
    "目标（目标）是最大化验证准确率。\n",
    "\n",
    "您将最多运行六次试验。"
   ]
  },
  {
   "cell_type": "code",
   "execution_count": null,
   "metadata": {
    "id": "create_study_spec:random"
   },
   "outputs": [],
   "source": [
    "study_spec = {\n",
    "    \"metrics\": [\n",
    "        {\"metric_id\": \"loss\", \"goal\": aip.StudySpec.MetricSpec.GoalType.MAXIMIZE}\n",
    "    ],\n",
    "    \"parameters\": [\n",
    "        {\n",
    "            \"parameter_id\": \"lr\",\n",
    "            \"discrete_value_spec\": {\"values\": [0.001, 0.01, 0.1]},\n",
    "            \"scale_type\": aip.StudySpec.ParameterSpec.ScaleType.UNIT_LINEAR_SCALE,\n",
    "        },\n",
    "        {\n",
    "            \"parameter_id\": \"decay\",\n",
    "            \"double_value_spec\": {\"min_value\": 1e-6, \"max_value\": 1e-2},\n",
    "            \"scale_type\": aip.StudySpec.ParameterSpec.ScaleType.UNIT_LINEAR_SCALE,\n",
    "        },\n",
    "    ],\n",
    "    \"algorithm\": aip.StudySpec.Algorithm.RANDOM_SEARCH,\n",
    "}"
   ]
  },
  {
   "cell_type": "markdown",
   "metadata": {
    "id": "assemble_custom_hpt_job_specification"
   },
   "source": [
    "### 组装超参数调整作业规范\n",
    "\n",
    "现在组装自定义超参数调整规范的完整描述：\n",
    "\n",
    "- `display_name`：您为此自定义超参数调整作业分配的易读名称。\n",
    "- `trial_job_spec`：自定义超参数调整作业的规范。\n",
    "- `study_spec`：要调整的规范。\n",
    "- `max_trial_count`：调整试验的最大数量。\n",
    "- `parallel_trial_count`：并行尝试的试验数量；否则，它们将按顺序执行。"
   ]
  },
  {
   "cell_type": "code",
   "execution_count": null,
   "metadata": {
    "id": "assemble_custom_hpt_job_specification"
   },
   "outputs": [],
   "source": [
    "hpt_job = {\n",
    "    \"display_name\": JOB_NAME,\n",
    "    \"trial_job_spec\": {\"worker_pool_specs\": worker_pool_spec},\n",
    "    \"study_spec\": study_spec,\n",
    "    \"max_trial_count\": 6,\n",
    "    \"parallel_trial_count\": 1,\n",
    "}"
   ]
  },
  {
   "cell_type": "markdown",
   "metadata": {
    "id": "taskpy_contents:hpt,imdb"
   },
   "source": [
    "#### Task.py 内容\n",
    "\n",
    "在下一个单元格中，您可以编写超参数调整脚本 task.py 的内容。我不会详细介绍，只是供您查阅。总结如下：\n",
    "\n",
    "- 解析当前试验的超参数设置的命令行参数。\n",
    "- 从命令行中获取保存模型工件的目录（`--model_dir`），如果未指定，则从环境变量 `AIP_MODEL_DIR` 中获取。\n",
    "- 从 TF Datasets（tfds）中加载 IMDB 电影评价数据集。\n",
    "- 使用 TF.Keras 模型 API 构建一个简单的 RNN 模型。\n",
    "- 在模型的编译中使用学习率和每个 Dense 和 LSTM 层的单元数超参数值。\n",
    "- 编译模型（`compile()`）。\n",
    "- 定义一个名为 `HPTCallback` 的回调函数，在每个 epoch 结束时获取验证损失（`on_epoch_end()`），并通过 `hpt.report_hyperparameter_tuning_metric()` 报告给超参数调整服务。\n",
    "- 使用 `fit()` 方法训练模型，并指定一个回调函数，用于将验证损失报告回超参数调整服务。\n",
    "- 将训练好的模型保存到指定的模型目录中（`save(args.model_dir)`）。"
   ]
  },
  {
   "cell_type": "code",
   "execution_count": null,
   "metadata": {
    "id": "taskpy_contents:hpt,imdb"
   },
   "outputs": [],
   "source": [
    "%%writefile custom/trainer/task.py\n",
    "# Custom Training for IMDB Movie Reviews\n",
    "import tensorflow_datasets as tfds\n",
    "import tensorflow as tf\n",
    "from tensorflow.python.client import device_lib\n",
    "from hypertune import HyperTune\n",
    "import argparse\n",
    "import os\n",
    "import sys\n",
    "tfds.disable_progress_bar()\n",
    "\n",
    "parser = argparse.ArgumentParser()\n",
    "parser.add_argument('--model-dir', dest='model_dir',\n",
    "                    default=os.getenv('AIP_MODEL_DIR'), type=str, help='Model dir.')\n",
    "parser.add_argument('--lr', dest='lr',\n",
    "                    default=1e-4, type=float,\n",
    "                    help='Learning rate.')\n",
    "parser.add_argument('--decay', dest='decay',\n",
    "                    default=0.98, type=float,\n",
    "                    help='Decay rate')\n",
    "parser.add_argument('--units', dest='units',\n",
    "                    default=64, type=int,\n",
    "                    help='Number of units.')\n",
    "parser.add_argument('--epochs', dest='epochs',\n",
    "                    default=20, type=int,\n",
    "                    help='Number of epochs.')\n",
    "parser.add_argument('--steps', dest='steps',\n",
    "                    default=200, type=int,\n",
    "                    help='Number of steps per epoch.')\n",
    "parser.add_argument('--distribute', dest='distribute', type=str, default='single',\n",
    "                    help='distributed training strategy')\n",
    "args = parser.parse_args()\n",
    "\n",
    "print('Python Version = {}'.format(sys.version))\n",
    "print('TensorFlow Version = {}'.format(tf.__version__))\n",
    "print('TF_CONFIG = {}'.format(os.environ.get('TF_CONFIG', 'Not found')))\n",
    "print(device_lib.list_local_devices())\n",
    "\n",
    "# Preparing dataset\n",
    "BUFFER_SIZE = 1000\n",
    "BATCH_SIZE = 64\n",
    "\n",
    "\n",
    "def make_datasets():\n",
    "    dataset, info = tfds.load('imdb_reviews/subwords8k', with_info=True,\n",
    "                          as_supervised=True)\n",
    "    train_dataset, test_dataset = dataset['train'], dataset['test']\n",
    "    encoder = info.features['text'].encoder\n",
    "\n",
    "    padded_shapes = ([None],())\n",
    "    return train_dataset.shuffle(BUFFER_SIZE).padded_batch(BATCH_SIZE, padded_shapes), encoder\n",
    "\n",
    "\n",
    "train_dataset, encoder = make_datasets()\n",
    "\n",
    "# Build the Keras model\n",
    "def build_and_compile_rnn_model(encoder):\n",
    "    model = tf.keras.Sequential([\n",
    "        tf.keras.layers.Embedding(encoder.vocab_size, 64),\n",
    "        tf.keras.layers.Bidirectional(tf.keras.layers.LSTM(args.units)),\n",
    "        tf.keras.layers.Dense(args.units, activation='relu'),\n",
    "        tf.keras.layers.Dense(1)\n",
    "    ])\n",
    "    model.compile(loss=tf.keras.losses.BinaryCrossentropy(from_logits=True),\n",
    "        optimizer=tf.keras.optimizers.Adam(learning_rate=args.lr, decay=args.decay),\n",
    "        metrics=['accuracy'])\n",
    "    return model\n",
    "\n",
    "\n",
    "model = build_and_compile_rnn_model(encoder)\n",
    "\n",
    "# Instantiate the HyperTune reporting object\n",
    "hpt = HyperTune()\n",
    "\n",
    "\n",
    "# Reporting callback\n",
    "class HPTCallback(tf.keras.callbacks.Callback):\n",
    "\n",
    "    def on_epoch_end(self, epoch, logs=None):\n",
    "        global hpt\n",
    "        hpt.report_hyperparameter_tuning_metric(\n",
    "        hyperparameter_metric_tag='loss',\n",
    "        metric_value=logs['loss'],\n",
    "        global_step=epoch)\n",
    "\n",
    "\n",
    "model.fit(train_dataset, epochs=args.epochs, callbacks=[HPTCallback()])\n",
    "model.save(args.model_dir)"
   ]
  },
  {
   "cell_type": "markdown",
   "metadata": {
    "id": "tarball_training_script"
   },
   "source": [
    "将超参数调整脚本存储在您的云存储桶中\n",
    "\n",
    "接下来，将超参数调整文件夹打包成压缩的tar格式，并将其存储在您的云存储桶中。"
   ]
  },
  {
   "cell_type": "code",
   "execution_count": null,
   "metadata": {
    "id": "tarball_training_script"
   },
   "outputs": [],
   "source": [
    "! rm -f custom.tar custom.tar.gz\n",
    "! tar cvf custom.tar custom\n",
    "! gzip custom.tar\n",
    "! gsutil cp custom.tar.gz $BUCKET_NAME/trainer_imdb.tar.gz"
   ]
  },
  {
   "cell_type": "markdown",
   "metadata": {
    "id": "report_hypertune"
   },
   "source": [
    "#### 使用优化超参数报告试验结果\n",
    "\n",
    "对于每个试验，您的Python脚本需要向超参数调整服务报告您指定的用于评估试验的客观指标。\n",
    "\n",
    "在本示例中，您将在研究规范中指定客观指标将被报告为`loss`。\n",
    "\n",
    "您可以使用`HyperTune`报告客观指标的值。这个Python模块用于向超参数调整服务通信关键/值对。要在您的Python包中设置此报告，您需要添加以下三个步骤的代码：\n",
    "\n",
    "1. 导入HyperTune模块：`from hypertune import HyperTune()`.\n",
    "2. 在每个epoch结束时，使用`hpt.report_hyperparameter_tuning_metric()`将客观函数的当前值作为键/值对写入日志。在这个示例中，参数为：\n",
    " - `hyperparameter_metric_tag`：要报告的客观指标的名称。该名称必须与研究规范中指定的名称相同。\n",
    " - `metric_value`：要向超参数服务报告的客观指标的值。\n",
    " - `global_step`：epoch迭代的全局步骤，从0开始。"
   ]
  },
  {
   "cell_type": "markdown",
   "metadata": {
    "id": "tune_custom_job"
   },
   "source": [
    "## 超参数调整模型\n",
    "\n",
    "现在在Vertex上开始对您的自定义模型进行超参数调整。使用这个辅助函数 `create_hyperparameter_tuning_job`，它接受以下参数：\n",
    "\n",
    "-`hpt_job`：超参数调整作业的规范。\n",
    "\n",
    "辅助函数调用作业客户端服务的 `create_hyperparameter_tuning_job` 方法，参数如下：\n",
    "\n",
    "-`parent`：指向`Dataset`、`Model`和`Endpoint`资源的Vertex位置路径。\n",
    "-`hyperparameter_tuning_job`：超参数调整作业的规范。\n",
    "\n",
    "您将在`response`对象中显示返回的一些字段，其中最感兴趣的两个字段是：\n",
    "\n",
    "`response.name`：分配给此自定义超参数调整作业的Vertex完全限定标识符。您需要保存这个标识符以便在后续步骤中使用。\n",
    "\n",
    "`response.state`：自定义超参数调整作业的当前状态。"
   ]
  },
  {
   "cell_type": "code",
   "execution_count": null,
   "metadata": {
    "id": "tune_custom_job"
   },
   "outputs": [],
   "source": [
    "def create_hyperparameter_tuning_job(hpt_job):\n",
    "    response = clients[\"job\"].create_hyperparameter_tuning_job(\n",
    "        parent=PARENT, hyperparameter_tuning_job=hpt_job\n",
    "    )\n",
    "    print(\"name:\", response.name)\n",
    "    print(\"display_name:\", response.display_name)\n",
    "    print(\"state:\", response.state)\n",
    "    print(\"create_time:\", response.create_time)\n",
    "    print(\"update_time:\", response.update_time)\n",
    "    return response\n",
    "\n",
    "\n",
    "response = create_hyperparameter_tuning_job(hpt_job)"
   ]
  },
  {
   "cell_type": "markdown",
   "metadata": {
    "id": "job_id:response"
   },
   "source": [
    "现在获得您创建的自定义作业的唯一标识符。"
   ]
  },
  {
   "cell_type": "code",
   "execution_count": null,
   "metadata": {
    "id": "job_id:response"
   },
   "outputs": [],
   "source": [
    "# The full unique ID for the custom job\n",
    "hpt_job_id = response.name\n",
    "# The short numeric ID for the custom job\n",
    "hpt_job_short_id = hpt_job_id.split(\"/\")[-1]\n",
    "\n",
    "print(hpt_job_id)"
   ]
  },
  {
   "cell_type": "markdown",
   "metadata": {
    "id": "get_hpt_job"
   },
   "source": [
    "## 获取超参数调整作业的信息\n",
    "\n",
    "接下来，使用这个辅助函数`get_hyperparameter_tuning_job`，它接受以下参数：\n",
    "\n",
    "- `name`：超参数调整作业的 Vertex 完全限定标识符。\n",
    "\n",
    "辅助函数调用作业客户服务的`get_hyperparameter_tuning_job`方法，参数为：\n",
    "\n",
    "- `name`：超参数调整作业的 Vertex 完全限定标识符。\n",
    "\n",
    "如果你还记得，当调用`create_hyperparameter_tuning_job`方法时，在`response.name`字段中获取了超参数调整作业的 Vertex 完全限定标识符，并将该标识符保存在变量`hpt_job_id`中。"
   ]
  },
  {
   "cell_type": "code",
   "execution_count": null,
   "metadata": {
    "id": "get_hpt_job"
   },
   "outputs": [],
   "source": [
    "def get_hyperparameter_tuning_job(name, silent=False):\n",
    "    response = clients[\"job\"].get_hyperparameter_tuning_job(name=name)\n",
    "    if silent:\n",
    "        return response\n",
    "\n",
    "    print(\"name:\", response.name)\n",
    "    print(\"display_name:\", response.display_name)\n",
    "    print(\"state:\", response.state)\n",
    "    print(\"create_time:\", response.create_time)\n",
    "    print(\"update_time:\", response.update_time)\n",
    "    return response\n",
    "\n",
    "\n",
    "response = get_hyperparameter_tuning_job(hpt_job_id)"
   ]
  },
  {
   "cell_type": "markdown",
   "metadata": {
    "id": "wait_tuning_complete"
   },
   "source": [
    "## 等待调整完成\n",
    "\n",
    "调整上述模型的超参数可能需要长达20分钟的时间。\n",
    "\n",
    "一旦您的模型调整完成，您可以通过从`end_time`减去`start_time`来计算调整模型所花费的实际时间。\n",
    "\n",
    "对于您的模型，我们需要知道每次试验保存的模型位置，Python脚本保存在您本地的云存储桶中的`MODEL_DIR + '/<trial_number>/saved_model.pb'`。"
   ]
  },
  {
   "cell_type": "code",
   "execution_count": null,
   "metadata": {
    "id": "wait_tuning_complete"
   },
   "outputs": [],
   "source": [
    "while True:\n",
    "    job_response = get_hyperparameter_tuning_job(hpt_job_id, True)\n",
    "    if job_response.state != aip.JobState.JOB_STATE_SUCCEEDED:\n",
    "        print(\"Study trials have not completed:\", job_response.state)\n",
    "        if job_response.state == aip.JobState.JOB_STATE_FAILED:\n",
    "            break\n",
    "    else:\n",
    "        if not DIRECT:\n",
    "            MODEL_DIR = MODEL_DIR + \"/model\"\n",
    "        print(\"Study trials have completed\")\n",
    "        break\n",
    "    time.sleep(60)"
   ]
  },
  {
   "cell_type": "markdown",
   "metadata": {
    "id": "review_study_results"
   },
   "source": [
    "现在审查试验结果。"
   ]
  },
  {
   "cell_type": "code",
   "execution_count": null,
   "metadata": {
    "id": "review_study_results"
   },
   "outputs": [],
   "source": [
    "best = (None, None, None, 0.0)\n",
    "for trial in job_response.trials:\n",
    "    print(trial)\n",
    "    # Keep track of the best outcome\n",
    "    if float(trial.final_measurement.metrics[0].value) > best[3]:\n",
    "        try:\n",
    "            best = (\n",
    "                trial.id,\n",
    "                float(trial.parameters[0].value),\n",
    "                float(trial.parameters[1].value),\n",
    "                float(trial.final_measurement.metrics[0].value),\n",
    "            )\n",
    "        except:\n",
    "            best = (\n",
    "                trial.id,\n",
    "                float(trial.parameters[0].value),\n",
    "                None,\n",
    "                float(trial.final_measurement.metrics[0].value),\n",
    "            )"
   ]
  },
  {
   "cell_type": "markdown",
   "metadata": {
    "id": "best_trial"
   },
   "source": [
    "最佳试验\n",
    "\n",
    "现在看看哪个试验是最好的："
   ]
  },
  {
   "cell_type": "code",
   "execution_count": null,
   "metadata": {
    "id": "best_trial"
   },
   "outputs": [],
   "source": [
    "print(\"ID\", best[0])\n",
    "print(\"Learning Rate\", best[1])\n",
    "print(\"Decay\", best[2])\n",
    "print(\"Validation Accuracy\", best[3])"
   ]
  },
  {
   "cell_type": "markdown",
   "metadata": {
    "id": "get_best_model"
   },
   "source": [
    "## 获取最佳模型\n",
    "\n",
    "如果您使用了通过服务告诉调整脚本在哪里保存模型工件的方法（`DIRECT = False`），那么最佳模型的模型工件将保存在：\n",
    "\n",
    "    MODEL_DIR/<best_trial_id>/model"
   ]
  },
  {
   "cell_type": "code",
   "execution_count": null,
   "metadata": {
    "id": "get_best_model"
   },
   "outputs": [],
   "source": [
    "BEST_MODEL_DIR = MODEL_DIR + \"/\" + best[0] + \"/model\""
   ]
  },
  {
   "cell_type": "markdown",
   "metadata": {
    "id": "load_saved_model"
   },
   "source": [
    "## 加载保存的模型\n",
    "\n",
    "您的模型以 TensorFlow SavedModel 格式存储在 Cloud Storage 桶中。现在从 Cloud Storage 桶加载它，然后可以执行一些操作，比如评估模型和进行预测。\n",
    "\n",
    "要加载模型，您可以使用 TF.Keras 的 `model.load_model()` 方法，将保存模型的 Cloud Storage 路径传递给它 -- 指定为 `MODEL_DIR`。"
   ]
  },
  {
   "cell_type": "code",
   "execution_count": null,
   "metadata": {
    "id": "load_saved_model"
   },
   "outputs": [],
   "source": [
    "import tensorflow as tf\n",
    "\n",
    "model = tf.keras.models.load_model(MODEL_DIR)"
   ]
  },
  {
   "cell_type": "markdown",
   "metadata": {
    "id": "evaluate_custom_model:text"
   },
   "source": [
    "## 评估模型\n",
    "\n",
    "现在让我们找出模型的表现如何。\n",
    "\n",
    "### 加载评估数据\n",
    "\n",
    "您将使用`tfds.datasets`中的`load()`方法加载IMDB电影评论测试（留存）数据。 这将返回一个包含两个元素的元组。 第一个元素是数据集，第二个是数据集的信息，其中包含预定义的词汇编码器。 编码器将单词转换为数值嵌入，这是在自定义训练脚本中预训练和使用的。\n",
    "\n",
    "在训练模型时，您需要为文本设置一个固定的输入长度。 为了前向传递批次，相应的`tf.dataset`的`padded_batch()`属性被设置为将每个输入序列填充到相同的形状以进行批处理。\n",
    "\n",
    "对于测试数据，您还需要相应地设置`padded_batch()`属性。"
   ]
  },
  {
   "cell_type": "code",
   "execution_count": null,
   "metadata": {
    "id": "evaluate_custom_model:text,imdb"
   },
   "outputs": [],
   "source": [
    "import tensorflow_datasets as tfds\n",
    "\n",
    "dataset, info = tfds.load(\"imdb_reviews/subwords8k\", with_info=True, as_supervised=True)\n",
    "test_dataset = dataset[\"test\"]\n",
    "encoder = info.features[\"text\"].encoder\n",
    "\n",
    "BATCH_SIZE = 64\n",
    "padded_shapes = ([None], ())\n",
    "test_dataset = test_dataset.padded_batch(BATCH_SIZE, padded_shapes)"
   ]
  },
  {
   "cell_type": "markdown",
   "metadata": {
    "id": "perform_evaluation_custom"
   },
   "source": [
    "### 进行模型评估\n",
    "\n",
    "现在评估一下定制作业中的模型表现如何。"
   ]
  },
  {
   "cell_type": "code",
   "execution_count": null,
   "metadata": {
    "id": "perform_evaluation_custom"
   },
   "outputs": [],
   "source": [
    "model.evaluate(x_test, y_test)"
   ]
  },
  {
   "cell_type": "markdown",
   "metadata": {
    "id": "cleanup"
   },
   "source": [
    "清理\n",
    "\n",
    "要清理此项目中使用的所有GCP资源，您可以删除用于教程的[GCP项目](https://cloud.google.com/resource-manager/docs/creating-managing-projects#shutting_down_projects)。\n",
    "\n",
    "否则，您可以删除本教程中创建的各个资源：\n",
    "\n",
    "- 数据集\n",
    "- 管道\n",
    "- 模型\n",
    "- 端点\n",
    "- 批处理作业\n",
    "- 自定义作业\n",
    "- 超参数调整作业\n",
    "- Cloud Storage 存储桶"
   ]
  },
  {
   "cell_type": "code",
   "execution_count": null,
   "metadata": {
    "id": "cleanup"
   },
   "outputs": [],
   "source": [
    "delete_dataset = True\n",
    "delete_pipeline = True\n",
    "delete_model = True\n",
    "delete_endpoint = True\n",
    "delete_batchjob = True\n",
    "delete_customjob = True\n",
    "delete_hptjob = True\n",
    "delete_bucket = True\n",
    "\n",
    "# Delete the dataset using the Vertex fully qualified identifier for the dataset\n",
    "try:\n",
    "    if delete_dataset and \"dataset_id\" in globals():\n",
    "        clients[\"dataset\"].delete_dataset(name=dataset_id)\n",
    "except Exception as e:\n",
    "    print(e)\n",
    "\n",
    "# Delete the training pipeline using the Vertex fully qualified identifier for the pipeline\n",
    "try:\n",
    "    if delete_pipeline and \"pipeline_id\" in globals():\n",
    "        clients[\"pipeline\"].delete_training_pipeline(name=pipeline_id)\n",
    "except Exception as e:\n",
    "    print(e)\n",
    "\n",
    "# Delete the model using the Vertex fully qualified identifier for the model\n",
    "try:\n",
    "    if delete_model and \"model_to_deploy_id\" in globals():\n",
    "        clients[\"model\"].delete_model(name=model_to_deploy_id)\n",
    "except Exception as e:\n",
    "    print(e)\n",
    "\n",
    "# Delete the endpoint using the Vertex fully qualified identifier for the endpoint\n",
    "try:\n",
    "    if delete_endpoint and \"endpoint_id\" in globals():\n",
    "        clients[\"endpoint\"].delete_endpoint(name=endpoint_id)\n",
    "except Exception as e:\n",
    "    print(e)\n",
    "\n",
    "# Delete the batch job using the Vertex fully qualified identifier for the batch job\n",
    "try:\n",
    "    if delete_batchjob and \"batch_job_id\" in globals():\n",
    "        clients[\"job\"].delete_batch_prediction_job(name=batch_job_id)\n",
    "except Exception as e:\n",
    "    print(e)\n",
    "\n",
    "# Delete the custom job using the Vertex fully qualified identifier for the custom job\n",
    "try:\n",
    "    if delete_customjob and \"job_id\" in globals():\n",
    "        clients[\"job\"].delete_custom_job(name=job_id)\n",
    "except Exception as e:\n",
    "    print(e)\n",
    "\n",
    "# Delete the hyperparameter tuning job using the Vertex fully qualified identifier for the hyperparameter tuning job\n",
    "try:\n",
    "    if delete_hptjob and \"hpt_job_id\" in globals():\n",
    "        clients[\"job\"].delete_hyperparameter_tuning_job(name=hpt_job_id)\n",
    "except Exception as e:\n",
    "    print(e)\n",
    "\n",
    "if delete_bucket and \"BUCKET_NAME\" in globals():\n",
    "    ! gsutil rm -r $BUCKET_NAME"
   ]
  }
 ],
 "metadata": {
  "colab": {
   "name": "showcase_hyperparmeter_tuning_text_binary_classification.ipynb",
   "toc_visible": true
  },
  "kernelspec": {
   "display_name": "Python 3",
   "name": "python3"
  }
 },
 "nbformat": 4,
 "nbformat_minor": 0
}
