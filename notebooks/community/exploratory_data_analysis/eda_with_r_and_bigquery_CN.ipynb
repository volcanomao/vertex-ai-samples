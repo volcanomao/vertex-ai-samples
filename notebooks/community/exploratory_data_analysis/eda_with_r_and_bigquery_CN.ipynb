{
 "cells": [
  {
   "cell_type": "code",
   "execution_count": null,
   "metadata": {
    "tags": []
   },
   "outputs": [],
   "source": [
    "# Copyright 2024 Google LLC\n",
    "#\n",
    "# Licensed under the Apache License, Version 2.0 (the \"License\");\n",
    "# you may not use this file except in compliance with the License.\n",
    "# You may obtain a copy of the License at\n",
    "#\n",
    "#     https://www.apache.org/licenses/LICENSE-2.0\n",
    "#\n",
    "# Unless required by applicable law or agreed to in writing, software\n",
    "# distributed under the License is distributed on an \"AS IS\" BASIS,\n",
    "# WITHOUT WARRANTIES OR CONDITIONS OF ANY KIND, either express or implied.\n",
    "# See the License for the specific language governing permissions and\n",
    "# limitations under the License."
   ]
  },
  {
   "cell_type": "markdown",
   "metadata": {
    "tags": []
   },
   "source": [
    "# 使用R和BigQuery进行探索性数据分析\n",
    "\n",
    "**作者**: [Alok Pattani](https://github.com/alokpattani), [Khalid Salama](https://github.com/ksalama)\n",
    "\n",
    "**最后更新**: 2024年2月\n",
    "\n",
    "## 概述\n",
    "\n",
    "本笔记本演示了如何使用[R](https://www.r-project.org/about.html)在从[BigQuery](https://cloud.google.com/bigquery)提取的数据上执行探索性数据分析（EDA）。在分析和处理数据之后，转换后的数据存储在[Cloud Storage](https://cloud.google.com/storage)中，以供进一步的机器学习（ML）任务使用。\n",
    "\n",
    "R是用于统计建模的最广泛使用的编程语言之一。它拥有一个庞大和活跃的数据科学家和机器学习（ML）专业人员社区。在[CRAN](https://cran.r-project.org/)的开源仓库中有超过20,000个包，R拥有所有统计数据分析应用程序、ML和可视化工具。\n",
    "\n",
    "## 数据集\n",
    "本教程中使用的数据集是BigQuery natality数据集。这个公共数据集包含了1969年至2008年在美国注册的超过1.37亿个出生信息。数据集可在[此处](https://console.cloud.google.com/bigquery?p=bigquery-public-data&d=samples&t=natality&page=table&_ga=2.99329886.-1705629017.1551465326&_gac=1.109796023.1561476396.CI2rz-z4hOMCFc6RhQods4oEXA)找到。\n",
    "\n",
    "在本笔记本中，我们专注于使用R和BigQuery进行探索性数据分析和可视化，目标是预测给定有关怀孕和婴儿母亲的若干因素的情况下婴儿体重的机器学习目标。\n",
    "\n",
    "## 目标\n",
    "本教程的目标是：\n",
    "1. 使用[bigrquery](https://cran.r-project.org/web/packages/bigrquery/index.html) R库从BigQuery查询和分析数据。\n",
    "2. 为ML准备和存储数据在Cloud Storage中。\n",
    "\n",
    "## 成本\n",
    "本教程使用Google Cloud的以下计费组件:\n",
    "1. [BigQuery](https://cloud.google.com/bigquery/pricing)\n",
    "2. [Cloud Storage](https://cloud.google.com/storage/pricing)\n",
    "3. [Vertex AI Workbench Instances](https://cloud.google.com/vertex-ai/pricing#notebooks)（如果在那里运行本笔记本）\n",
    "\n",
    "使用[Pricing Calculator](https://cloud.google.com/products/calculator/)根据您的预期使用量生成成本估算。"
   ]
  },
  {
   "cell_type": "markdown",
   "metadata": {},
   "source": [
    "## 0. 设置"
   ]
  },
  {
   "cell_type": "markdown",
   "metadata": {
    "tags": []
   },
   "source": [
    "检查正在运行的R的版本。"
   ]
  },
  {
   "cell_type": "code",
   "execution_count": null,
   "metadata": {},
   "outputs": [],
   "source": [
    "version"
   ]
  },
  {
   "cell_type": "markdown",
   "metadata": {},
   "source": [
    "如果当前会话中还没有可用的必要 R 包，则安装必要的 R 包。"
   ]
  },
  {
   "cell_type": "code",
   "execution_count": null,
   "metadata": {
    "tags": []
   },
   "outputs": [],
   "source": [
    "# List the necessary packages\n",
    "needed_packages <- c(\"dplyr\", \"ggplot2\", \"bigrquery\")\n",
    "\n",
    "# Check if packages are installed\n",
    "installed_packages <- .packages(all.available = TRUE)\n",
    "missing_packages <- needed_packages[!(needed_packages %in% installed_packages)]\n",
    "\n",
    "# If any are missing, install them\n",
    "if (length(missing_packages) > 0) {\n",
    "  install.packages(missing_packages)\n",
    "}"
   ]
  },
  {
   "cell_type": "code",
   "execution_count": null,
   "metadata": {
    "tags": []
   },
   "outputs": [],
   "source": [
    "# Load the required packages\n",
    "lapply(needed_packages, library, character.only = TRUE) "
   ]
  },
  {
   "cell_type": "markdown",
   "metadata": {},
   "source": [
    "使用 BigQuery 的带外认证"
   ]
  },
  {
   "cell_type": "code",
   "execution_count": null,
   "metadata": {},
   "outputs": [],
   "source": [
    "bq_auth(use_oob = TRUE)"
   ]
  },
  {
   "cell_type": "markdown",
   "metadata": {},
   "source": [
    "将一个变量设置为您想在本教程中使用的项目名称。"
   ]
  },
  {
   "cell_type": "code",
   "execution_count": null,
   "metadata": {},
   "outputs": [],
   "source": [
    "# Set the project ID\n",
    "PROJECT_ID <- \"[YOUR-PROJECT-ID]\""
   ]
  },
  {
   "cell_type": "markdown",
   "metadata": {},
   "source": [
    "将一个变量设定为你以后想要使用的云存储桶的名称，用来存储输出数据。这个名称必须是全局唯一的。"
   ]
  },
  {
   "cell_type": "code",
   "execution_count": null,
   "metadata": {},
   "outputs": [],
   "source": [
    "# Set your Cloud Storage bucket name\n",
    "BUCKET_NAME <- \"[YOUR-BUCKET-NAME]\""
   ]
  },
  {
   "cell_type": "markdown",
   "metadata": {},
   "source": [
    "1. 从BigQuery查询数据"
   ]
  },
  {
   "cell_type": "markdown",
   "metadata": {},
   "source": [
    "准备BigQuery查询"
   ]
  },
  {
   "cell_type": "code",
   "execution_count": null,
   "metadata": {},
   "outputs": [],
   "source": [
    "sql_query_template <- \"\n",
    "    SELECT\n",
    "      ROUND(weight_pounds, 2) AS weight_pounds,\n",
    "      is_male,\n",
    "      mother_age,\n",
    "      plurality,\n",
    "      gestation_weeks,\n",
    "      cigarette_use,\n",
    "      alcohol_use,\n",
    "      CAST(ABS(FARM_FINGERPRINT(CONCAT(\n",
    "        CAST(YEAR AS STRING), CAST(month AS STRING), \n",
    "        CAST(weight_pounds AS STRING)))\n",
    "        ) AS STRING) AS key\n",
    "    FROM\n",
    "        publicdata.samples.natality\n",
    "    WHERE \n",
    "      year > 2000\n",
    "      AND weight_pounds > 0\n",
    "      AND mother_age > 0\n",
    "      AND plurality > 0\n",
    "      AND gestation_weeks > 0\n",
    "      AND month > 0\n",
    "    LIMIT %s\n",
    "\""
   ]
  },
  {
   "cell_type": "markdown",
   "metadata": {},
   "source": [
    "### 1.2. 执行查询\n",
    "数据将从BigQuery中检索，结果将存储在内存中的[tibble](https://tibble.tidyverse.org/)中（类似于数据框）。"
   ]
  },
  {
   "cell_type": "code",
   "execution_count": null,
   "metadata": {},
   "outputs": [],
   "source": [
    "sample_size <- 10000\n",
    "\n",
    "sql_query <- sprintf(sql_query_template, sample_size)\n",
    "\n",
    "natality_data <- bq_table_download(\n",
    "    bq_project_query(\n",
    "        PROJECT_ID, \n",
    "        query = sql_query\n",
    "    )\n",
    ")"
   ]
  },
  {
   "cell_type": "markdown",
   "metadata": {},
   "source": [
    "1.3. 查看查询结果"
   ]
  },
  {
   "cell_type": "code",
   "execution_count": null,
   "metadata": {},
   "outputs": [],
   "source": [
    "# View the query result\n",
    "head(natality_data)"
   ]
  },
  {
   "cell_type": "code",
   "execution_count": null,
   "metadata": {},
   "outputs": [],
   "source": [
    "# Show # of rows and data types of each column\n",
    "str(natality_data)"
   ]
  },
  {
   "cell_type": "code",
   "execution_count": null,
   "metadata": {},
   "outputs": [],
   "source": [
    "# View the results summary\n",
    "summary(natality_data)"
   ]
  },
  {
   "cell_type": "markdown",
   "metadata": {},
   "source": [
    "2. 可视化检索到的数据"
   ]
  },
  {
   "cell_type": "code",
   "execution_count": null,
   "metadata": {},
   "outputs": [],
   "source": [
    "# Display the distribution of baby weights using a histogram\n",
    "ggplot(\n",
    "    data = natality_data, \n",
    "    aes(x = weight_pounds)\n",
    "    ) + \n",
    "geom_histogram(bins = 200)"
   ]
  },
  {
   "cell_type": "code",
   "execution_count": null,
   "metadata": {},
   "outputs": [],
   "source": [
    "# Display the relationship between gestation weeks and baby weights \n",
    "ggplot(\n",
    "    data = natality_data, \n",
    "    aes(x = gestation_weeks, y = weight_pounds)\n",
    "    ) + \n",
    "geom_point() + \n",
    "geom_smooth(method = \"lm\")"
   ]
  },
  {
   "cell_type": "markdown",
   "metadata": {},
   "source": [
    "在BigQuery中执行处理\n",
    "创建一个函数，查找所选列的每个值的记录数和平均重量。"
   ]
  },
  {
   "cell_type": "code",
   "execution_count": null,
   "metadata": {},
   "outputs": [],
   "source": [
    "get_distinct_values <- function(column_name) {\n",
    "    query <- paste0(\n",
    "        'SELECT ', column_name, ', \n",
    "            COUNT(1) AS num_babies,\n",
    "            AVG(weight_pounds) AS avg_wt\n",
    "        FROM publicdata.samples.natality\n",
    "        WHERE year > 2000\n",
    "        GROUP BY ', column_name)\n",
    "    \n",
    "    bq_table_download(\n",
    "        bq_project_query(\n",
    "            PROJECT_ID, \n",
    "            query = query\n",
    "        )\n",
    "    )\n",
    "}"
   ]
  },
  {
   "cell_type": "markdown",
   "metadata": {},
   "source": [
    "应用该函数来获取各列的不同值，并将它们绘制出来以研究模式。"
   ]
  },
  {
   "cell_type": "code",
   "execution_count": null,
   "metadata": {},
   "outputs": [],
   "source": [
    "df <- get_distinct_values('mother_age')\n",
    "\n",
    "ggplot(\n",
    "    data = df, \n",
    "    aes(x = mother_age, y = num_babies)\n",
    "    ) + \n",
    "geom_line()\n",
    "\n",
    "ggplot(\n",
    "    data = df, \n",
    "    aes(x = mother_age, y = avg_wt)\n",
    "    ) + \n",
    "geom_line()"
   ]
  },
  {
   "cell_type": "code",
   "execution_count": null,
   "metadata": {},
   "outputs": [],
   "source": [
    "df <- get_distinct_values('is_male')\n",
    "\n",
    "ggplot(\n",
    "    data = df, \n",
    "    aes(x = is_male, y = num_babies)\n",
    "    ) + \n",
    "geom_col()\n",
    "\n",
    "ggplot(\n",
    "    data = df, \n",
    "    aes(x = is_male, y = avg_wt)\n",
    "    ) + \n",
    "geom_col()"
   ]
  },
  {
   "cell_type": "code",
   "execution_count": null,
   "metadata": {},
   "outputs": [],
   "source": [
    "df <- get_distinct_values('plurality')\n",
    "\n",
    "ggplot(\n",
    "    data = df, \n",
    "    aes(x = plurality, y = num_babies)\n",
    "    ) + \n",
    "geom_col() + \n",
    "scale_y_log10()\n",
    "\n",
    "ggplot(\n",
    "    data = df,\n",
    "    aes(x = plurality, y = avg_wt)\n",
    "    ) + \n",
    "geom_col()"
   ]
  },
  {
   "cell_type": "code",
   "execution_count": null,
   "metadata": {},
   "outputs": [],
   "source": [
    "df <- get_distinct_values('gestation_weeks')\n",
    "\n",
    "ggplot(\n",
    "    data = df,\n",
    "    aes(x = gestation_weeks, y = num_babies)\n",
    "    ) + \n",
    "geom_col() + \n",
    "scale_y_log10()\n",
    "\n",
    "ggplot(\n",
    "    data = df,\n",
    "    aes(x = gestation_weeks, y = avg_wt)\n",
    "    ) + \n",
    "geom_col()"
   ]
  },
  {
   "cell_type": "markdown",
   "metadata": {},
   "source": [
    "将数据保存为CSV文件到云存储。"
   ]
  },
  {
   "cell_type": "code",
   "execution_count": null,
   "metadata": {},
   "outputs": [],
   "source": [
    "# Prepare training and evaluation data from BigQuery\n",
    "sample_size <- 10000\n",
    "\n",
    "sql_query <- sprintf(sql_query_template, sample_size)\n",
    "\n",
    "# Split data into 75% training, 25% evaluation\n",
    "train_query <- paste('SELECT * FROM (', sql_query, \n",
    "  ') WHERE MOD(CAST(key AS INT64), 100) <= 75')\n",
    "eval_query <- paste('SELECT * FROM (', sql_query,\n",
    "  ') WHERE MOD(CAST(key AS INT64), 100) > 75')\n",
    "\n",
    "# Load training data to data frame\n",
    "train_data <- bq_table_download(\n",
    "    bq_project_query(\n",
    "        PROJECT_ID, \n",
    "        query = train_query\n",
    "    )\n",
    ")\n",
    "\n",
    "# Load evaluation data to data frame\n",
    "eval_data <- bq_table_download(\n",
    "    bq_project_query(\n",
    "        PROJECT_ID, \n",
    "        query = eval_query\n",
    "    )\n",
    ")"
   ]
  },
  {
   "cell_type": "code",
   "execution_count": null,
   "metadata": {},
   "outputs": [],
   "source": [
    "print(paste0(\"Training instances count: \", nrow(train_data)))\n",
    "\n",
    "print(paste0(\"Evaluation instances count: \", nrow(eval_data)))"
   ]
  },
  {
   "cell_type": "code",
   "execution_count": null,
   "metadata": {},
   "outputs": [],
   "source": [
    "# Write data frames to local CSV files, without headers or row names\n",
    "dir.create(file.path('data'), showWarnings = FALSE)\n",
    "\n",
    "write.table(train_data, \"data/train_data.csv\", \n",
    "   row.names = FALSE, col.names = FALSE, sep = \",\")\n",
    "\n",
    "write.table(eval_data, \"data/eval_data.csv\", \n",
    "   row.names = FALSE, col.names = FALSE, sep = \",\")"
   ]
  },
  {
   "cell_type": "code",
   "execution_count": null,
   "metadata": {},
   "outputs": [],
   "source": [
    "# Upload CSV data to Cloud Storage by passing gsutil commands to system\n",
    "gcs_url <- paste0(\"gs://\", BUCKET_NAME, \"/\")\n",
    "\n",
    "command <- paste(\"gsutil mb\", gcs_url)\n",
    "\n",
    "system(command)\n",
    "\n",
    "gcs_data_dir <- paste0(\"gs://\", BUCKET_NAME, \"/data\")\n",
    "\n",
    "command <- paste(\"gsutil cp data/*_data.csv\", gcs_data_dir)\n",
    "\n",
    "system(command)\n",
    "\n",
    "command <- paste(\"gsutil ls -l\", gcs_data_dir)\n",
    "\n",
    "system(command, intern = TRUE)"
   ]
  }
 ],
 "metadata": {
  "environment": {
   "kernel": "conda-env-r-r",
   "name": "workbench-notebooks.m115",
   "type": "gcloud",
   "uri": "gcr.io/deeplearning-platform-release/workbench-notebooks:m115"
  },
  "kernelspec": {
   "display_name": "R (Local)",
   "language": "R",
   "name": "conda-env-r-r"
  },
  "language_info": {
   "codemirror_mode": "r",
   "file_extension": ".r",
   "mimetype": "text/x-r-source",
   "name": "R",
   "pygments_lexer": "r",
   "version": "4.3.2"
  }
 },
 "nbformat": 4,
 "nbformat_minor": 4
}
