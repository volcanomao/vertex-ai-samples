{
 "cells": [
  {
   "cell_type": "code",
   "execution_count": null,
   "metadata": {
    "id": "ur8xi4C7S06n"
   },
   "outputs": [],
   "source": [
    "# Copyright 2022 Google LLC\n",
    "#\n",
    "# Licensed under the Apache License, Version 2.0 (the \"License\");\n",
    "# you may not use this file except in compliance with the License.\n",
    "# You may obtain a copy of the License at\n",
    "#\n",
    "#     https://www.apache.org/licenses/LICENSE-2.0\n",
    "#\n",
    "# Unless required by applicable law or agreed to in writing, software\n",
    "# distributed under the License is distributed on an \"AS IS\" BASIS,\n",
    "# WITHOUT WARRANTIES OR CONDITIONS OF ANY KIND, either express or implied.\n",
    "# See the License for the specific language governing permissions and\n",
    "# limitations under the License."
   ]
  },
  {
   "cell_type": "markdown",
   "metadata": {
    "id": "JAPoU8Sm5E6e"
   },
   "source": [
    "<table align=\"left\">\r\n",
    "\r\n",
    "  <td>\r\n",
    "    <a href=\"https://colab.research.google.com/github/GoogleCloudPlatform/vertex-ai-samples/blob/master/notebooks/community/explainable_ai/SDK_Custom_Container_XAI.ipynb\">\r\n",
    "      <img src=\"https://cloud.google.com/ml-engine/images/colab-logo-32px.png\" alt=\"Colab logo\"> 在Colab中运行\r\n",
    "    </a>\r\n",
    "  </td>\r\n",
    "  <td>\r\n",
    "    <a href=\"https://github.com/GoogleCloudPlatform/vertex-ai-samples/blob/master/notebooks/community/explainable_ai/SDK_Custom_Container_XAI.ipynb\">\r\n",
    "      <img src=\"https://cloud.google.com/ml-engine/images/github-logo-32px.png\" alt=\"GitHub logo\">\r\n",
    "      在GitHub上查看\r\n",
    "    </a>\r\n",
    "  </td>\r\n",
    "  <td>\r\n",
    "    <a href=\"https://console.cloud.google.com/vertex-ai/workbench/deploy-notebook?download_url=https://github.com/GoogleCloudPlatform/vertex-ai-samples/blob/master/notebooks/community/explainable_ai/SDK_Custom_Container_XAI.ipynb\">\r\n",
    "      <img src=\"https://lh3.googleusercontent.com/UiNooY4LUgW_oTvpsNhPpQzsstV5W8F7rYgxgGBD85cWJoLmrOzhVs_ksK_vgx40SHs7jCqkTkCk=e14-rj-sc0xffffff-h130-w32\" alt=\"Vertex AI logo\">\r\n",
    "      在Vertex AI Workbench中打开\r\n",
    "    </a>\r\n",
    "  </td>                                                                                               \r\n",
    "</table>"
   ]
  },
  {
   "cell_type": "markdown",
   "metadata": {
    "id": "tvgnzT1CKxrO"
   },
   "source": [
    "## 概述\n",
    "\n",
    "本教程将指导您构建一个自定义容器来为Vertex AI Prediction提供一个scikit-learn模型。您将使用FastAPI Python Web服务器框架来创建一个预测和健康端点。您还将为端点启用解释功能。\n",
    "\n",
    "### 数据集\n",
    "\n",
    "本教程使用了R.A. Fisher的鸢尾花数据集，这是一个小型数据集，常用于尝试机器学习技术。每个实例都有四个数值特征，这些特征是一种花的不同测量值，还有一个目标标签，标记它是三种鸢尾花中的一种：山鸢尾、变色鸢尾或者维吉尼亚鸢尾。\n",
    "\n",
    "本教程使用了[scikit-learn库中包含的鸢尾花数据集的副本](https://scikit-learn.org/stable/datasets/index.html#iris-dataset)。\n",
    "\n",
    "### 目标\n",
    "\n",
    "目标是：\n",
    "- 训练一个模型，使用花的测量值作为输入来预测它是哪种类型的鸢尾花。\n",
    "- 保存模型及其序列化的预处理器。\n",
    "- 构建一个FastAPI服务器来处理预测和健康检查。\n",
    "- 构建一个包含模型工件的自定义容器。\n",
    "- 上传和部署自定义容器到Vertex AI Prediction，并启用可解释性。\n",
    "\n",
    "本教程更专注于如何使用Vertex AI部署模型，而不是模型本身的设计。\n",
    "\n",
    "### 成本\n",
    "\n",
    "本教程使用了Google Cloud的计费组件：\n",
    "\n",
    "* Vertex AI\n",
    "\n",
    "了解[Vertex AI的定价](https://cloud.google.com/vertex-ai/pricing)，并使用[Pricing\n",
    "Calculator](https://cloud.google.com/products/calculator/)\n",
    "根据您的预计使用情况生成成本估算。"
   ]
  },
  {
   "cell_type": "markdown",
   "metadata": {
    "id": "ze4-nDLfK4pw"
   },
   "source": [
    "### 设置您的本地开发环境\n",
    "\n",
    "**如果您正在使用Colab或Vertex AI Workbench笔记本**，您的环境已满足运行此笔记本的所有要求。您可以跳过此步骤。"
   ]
  },
  {
   "cell_type": "markdown",
   "metadata": {
    "id": "gCuSR8GkAgzl"
   },
   "source": [
    "否则，请确保您的环境满足此笔记本的要求。\n",
    "您需要以下内容：\n",
    "\n",
    "* Docker\n",
    "* Git\n",
    "* Google Cloud SDK（gcloud）\n",
    "* Python 3\n",
    "* virtualenv\n",
    "* 在使用Python 3的虚拟环境中运行的Jupyter笔记本\n",
    "\n",
    "Google Cloud指南[设置Python开发环境]（https://cloud.google.com/python/setup）和[Jupyter安装指南]（https://jupyter.org/install）提供了满足这些要求的详细说明。以下步骤提供了一组简洁的说明：\n",
    "\n",
    "1. [安装并初始化Cloud SDK。]（https://cloud.google.com/sdk/docs/）\n",
    "\n",
    "2. [安装Python 3。]（https://cloud.google.com/python/setup#installing_python）\n",
    "\n",
    "3. [安装virtualenv]（https://cloud.google.com/python/setup#installing_and_using_virtualenv）并创建使用Python 3的虚拟环境。激活虚拟环境。\n",
    "\n",
    "4. 要安装Jupyter，请在终端shell中的命令行上运行`pip install jupyter`。\n",
    "\n",
    "5. 要启动Jupyter，请在终端Shell中的命令行上运行`jupyter notebook`。\n",
    "\n",
    "6. 在Jupyter Notebook仪表板中打开此笔记本。"
   ]
  },
  {
   "cell_type": "markdown",
   "metadata": {
    "id": "i7EUnXsZhAGF"
   },
   "source": [
    "### 安装额外的包\n",
    "\n",
    "安装额外的包依赖项，这些依赖项没有安装在您的笔记本环境中，例如 NumPy、Scikit-learn、FastAPI、Uvicorn 和 joblib。请使用每个包的最新主要GA版本。"
   ]
  },
  {
   "cell_type": "code",
   "execution_count": null,
   "metadata": {
    "id": "747f59abb3a5"
   },
   "outputs": [],
   "source": [
    "%%writefile requirements.txt\n",
    "joblib~=1.0\n",
    "numpy~=1.20\n",
    "scikit-learn~=0.24\n",
    "google-cloud-storage>=1.26.0,<2.0.0dev"
   ]
  },
  {
   "cell_type": "code",
   "execution_count": null,
   "metadata": {
    "id": "wyy5Lbnzg5fi"
   },
   "outputs": [],
   "source": [
    "# Required in Docker serving container\n",
    "%pip install -U --user -r requirements.txt\n",
    "\n",
    "# For local FastAPI development and running\n",
    "%pip install -U --user \"uvicorn[standard]>=0.12.0,<0.14.0\" fastapi~=0.63\n",
    "\n",
    "# Vertex SDK for Python\n",
    "%pip install -U --user google-cloud-aiplatform"
   ]
  },
  {
   "cell_type": "markdown",
   "metadata": {
    "id": "hhq5zEbGg0XX"
   },
   "source": [
    "### 重新启动内核\n",
    "\n",
    "在安装额外的软件包后，您需要重新启动笔记本内核，以便它能够找到这些软件包。"
   ]
  },
  {
   "cell_type": "code",
   "execution_count": null,
   "metadata": {
    "id": "EzrelQZ22IZj"
   },
   "outputs": [],
   "source": [
    "# Automatically restart kernel after installs\n",
    "import os\n",
    "\n",
    "if not os.getenv(\"IS_TESTING\"):\n",
    "    # Automatically restart kernel after installs\n",
    "    import IPython\n",
    "\n",
    "    app = IPython.Application.instance()\n",
    "    app.kernel.do_shutdown(True)"
   ]
  },
  {
   "cell_type": "markdown",
   "metadata": {
    "id": "lWEdiXsJg0XY"
   },
   "source": [
    "在你开始之前"
   ]
  },
  {
   "cell_type": "markdown",
   "metadata": {
    "id": "BF1j6f9HApxa"
   },
   "source": [
    "### 设置您的谷歌云项目\n",
    "\n",
    "**无论您使用什么笔记本环境，以下步骤都是必需的。**\n",
    "\n",
    "1. [选择或创建谷歌云项目](https://console.cloud.google.com/cloud-resource-manager)。当您第一次创建一个账户时，您将获得300美元的免费信用额度，可用于支付计算和存储费用。\n",
    "\n",
    "1. [确保为您的项目启用计费](https://cloud.google.com/billing/docs/how-to/modify-project)。\n",
    "\n",
    "1. [启用 Vertex AI API 和 Compute Engine API](https://console.cloud.google.com/flows/enableapi?apiid=aiplatform.googleapis.com,compute_component)。\n",
    "\n",
    "1. 如果您将在本地运行这个笔记本，您将需要安装 [Cloud SDK](https://cloud.google.com/sdk)。\n",
    "\n",
    "1. 在下面的单元格中输入您的项目ID。然后运行该单元格，确保\n",
    "Cloud SDK 在这个笔记本中的所有命令中使用正确的项目。\n",
    "\n",
    "**注意**：Jupyter 在以 `!` 或 `%` 为前缀的行上运行时，会将其当作 shell 命令，并将 Python 变量插入到这些命令中以`$`或`{}`。"
   ]
  },
  {
   "cell_type": "markdown",
   "metadata": {
    "id": "WReHDGG5g0XY"
   },
   "source": [
    "设置您的项目 ID\n",
    "\n",
    "**如果您不知道您的项目 ID**，您可以使用 `gcloud` 来获得您的项目 ID。"
   ]
  },
  {
   "cell_type": "code",
   "execution_count": null,
   "metadata": {
    "id": "oM1iC_MfAts1"
   },
   "outputs": [],
   "source": [
    "# Get your Google Cloud project ID from gcloud\n",
    "shell_output = !gcloud config list --format 'value(core.project)' 2>/dev/null\n",
    "\n",
    "try:\n",
    "    PROJECT_ID = shell_output[0]\n",
    "except IndexError:\n",
    "    PROJECT_ID = None\n",
    "\n",
    "print(\"Project ID:\", PROJECT_ID)"
   ]
  },
  {
   "cell_type": "markdown",
   "metadata": {
    "id": "qJYoRfYng0XZ"
   },
   "source": [
    "否则，在这里设置您的项目ID。"
   ]
  },
  {
   "cell_type": "code",
   "execution_count": null,
   "metadata": {
    "id": "riG_qUokg0XZ"
   },
   "outputs": [],
   "source": [
    "if PROJECT_ID == \"\" or PROJECT_ID is None:\n",
    "    PROJECT_ID = \"[your-project-id]\"  # @param {type:\"string\"}"
   ]
  },
  {
   "cell_type": "markdown",
   "metadata": {
    "id": "XoEqT2Y4DJmf"
   },
   "source": [
    "### 配置项目和资源名称"
   ]
  },
  {
   "cell_type": "code",
   "execution_count": null,
   "metadata": {
    "id": "MzGDU7TWdts_"
   },
   "outputs": [],
   "source": [
    "MODEL_ARTIFACT_DIR = \"custom-container-explainablility-model\"  # @param {type:\"string\"}\n",
    "REPOSITORY = \"custom-container-explainablility\"  # @param {type:\"string\"}\n",
    "IMAGE = \"sklearn-fastapi-server\"  # @param {type:\"string\"}\n",
    "MODEL_DISPLAY_NAME = \"sklearn-explainable-custom-container\"  # @param {type:\"string\"}"
   ]
  },
  {
   "cell_type": "markdown",
   "metadata": {
    "id": "ca1a915d641d"
   },
   "source": [
    "`MODEL_ARTIFACT_DIR` - 模型 artifact 的存储桶路径，例如：\"my-models/fraud-detection/trial-4\"\n",
    "\n",
    "`REPOSITORY` - 要创建或使用的 Artifact Repository 的名称。\n",
    "\n",
    "`IMAGE` - 要推送的容器映像的名称。\n",
    "\n",
    "`MODEL_DISPLAY_NAME` - Vertex AI 模型资源的显示名称。"
   ]
  },
  {
   "cell_type": "markdown",
   "metadata": {
    "id": "zgPO1eR3CYjk"
   },
   "source": [
    "### 创建一个云存储桶\n",
    "\n",
    "**无论您使用哪种笔记本环境，都需要执行以下步骤。**\n",
    "\n",
    "在本地训练模型后，您将上传模型构件到一个云存储桶中。使用这个模型构件，然后可以创建 Vertex AI 模型和端点资源，以便提供在线预测和解释。\n",
    "\n",
    "在下面设置您的云存储桶的名称。它必须在所有云存储桶中保持唯一。\n",
    "\n",
    "您还可以更改 `REGION` 变量，该变量用于笔记本其余部分的操作。我们建议您 [选择一个 Vertex AI 服务可用的区域](https://cloud.google.com/vertex-ai/docs/general/locations#available_regions)。"
   ]
  },
  {
   "cell_type": "code",
   "execution_count": null,
   "metadata": {
    "id": "MzGDU7TWdts_"
   },
   "outputs": [],
   "source": [
    "BUCKET_URI = \"gs://[your-bucket-name]\"  # @param {type:\"string\"}\n",
    "REGION = \"[your-region]\"  # @param {type:\"string\"}"
   ]
  },
  {
   "cell_type": "code",
   "execution_count": null,
   "metadata": {
    "id": "cf221059d072"
   },
   "outputs": [],
   "source": [
    "if BUCKET_URI == \"\" or BUCKET_URI is None or BUCKET_URI == \"gs://[your-bucket-name]\":\n",
    "    BUCKET_URI = \"gs://\" + PROJECT_ID + \"aip-\" + TIMESTAMP\n",
    "\n",
    "if REGION == \"[your-region]\":\n",
    "    REGION = \"us-central1\""
   ]
  },
  {
   "cell_type": "markdown",
   "metadata": {
    "id": "-EcIXiGsCePi"
   },
   "source": [
    "只有当您的存储桶尚不存在时：运行以下单元格以创建您的云存储存储桶。"
   ]
  },
  {
   "cell_type": "code",
   "execution_count": null,
   "metadata": {
    "id": "NIq7R4HZCfIc"
   },
   "outputs": [],
   "source": [
    "! gsutil mb -l $REGION -p $PROJECT_ID $BUCKET_URI"
   ]
  },
  {
   "cell_type": "markdown",
   "metadata": {
    "id": "ucvCsknMCims"
   },
   "source": [
    "最后，通过检查云存储桶中的内容来验证对其的访问权限。"
   ]
  },
  {
   "cell_type": "code",
   "execution_count": null,
   "metadata": {
    "id": "vhOb7YnwClBb"
   },
   "outputs": [],
   "source": [
    "! gsutil ls -al $BUCKET_URI"
   ]
  },
  {
   "cell_type": "markdown",
   "metadata": {
    "id": "4b816cd52f4b"
   },
   "source": [
    "## 使用预处理器训练和存储模型\n",
    "\n",
    "训练完成后，以下步骤将会将您训练好的模型保存为 joblib（.joblib）文件并上传至云存储。"
   ]
  },
  {
   "cell_type": "markdown",
   "metadata": {
    "id": "bbae4e424e0c"
   },
   "source": [
    "创建一个目录来存储所有的输出"
   ]
  },
  {
   "cell_type": "code",
   "execution_count": null,
   "metadata": {
    "id": "6e74556ea0b4"
   },
   "outputs": [],
   "source": [
    "%mkdir app"
   ]
  },
  {
   "cell_type": "markdown",
   "metadata": {
    "id": "4769e177bd03"
   },
   "source": [
    "在本地使用鸢尾花数据集训练一个模型，以对花进行分类并返回一个概率。"
   ]
  },
  {
   "cell_type": "code",
   "execution_count": null,
   "metadata": {
    "id": "43e47249f736"
   },
   "outputs": [],
   "source": [
    "%cd app/\n",
    "\n",
    "import joblib\n",
    "import numpy as np\n",
    "from sklearn.datasets import load_iris\n",
    "from sklearn.linear_model import LogisticRegression\n",
    "\n",
    "\n",
    "class IrisClassifier:\n",
    "    def __init__(self):\n",
    "        self.X, self.y = load_iris(return_X_y=True)\n",
    "        self.clf = self.train_model()\n",
    "        self.iris_type = {0: \"setosa\", 1: \"versicolor\", 2: \"virginica\"}\n",
    "\n",
    "    def train_model(self) -> LogisticRegression:\n",
    "        return LogisticRegression(\n",
    "            solver=\"lbfgs\", max_iter=1000, multi_class=\"multinomial\"\n",
    "        ).fit(self.X, self.y)\n",
    "\n",
    "    def predict(self, features: dict):\n",
    "\n",
    "        X = [\n",
    "            features[\"sepal_length\"],\n",
    "            features[\"sepal_width\"],\n",
    "            features[\"petal_length\"],\n",
    "            features[\"petal_width\"],\n",
    "        ]\n",
    "        prediction = self.clf.predict_proba([X])\n",
    "        print(prediction)\n",
    "        return {\n",
    "            \"class\": self.iris_type[np.argmax(prediction)],\n",
    "            \"probability\": round(max(prediction[0]), 2),\n",
    "        }\n",
    "\n",
    "\n",
    "model_local = IrisClassifier()\n",
    "joblib.dump(model_local, \"model.joblib\")\n",
    "\n",
    "%cd .."
   ]
  },
  {
   "cell_type": "markdown",
   "metadata": {
    "id": "864196f660eb"
   },
   "source": [
    "在本地测试模型"
   ]
  },
  {
   "cell_type": "code",
   "execution_count": null,
   "metadata": {
    "id": "01d677202a1c"
   },
   "outputs": [],
   "source": [
    "model_local.predict(\n",
    "    features={\n",
    "        \"sepal_length\": 4.8,\n",
    "        \"sepal_width\": 3,\n",
    "        \"petal_length\": 1.4,\n",
    "        \"petal_width\": 0.3,\n",
    "    }\n",
    ")"
   ]
  },
  {
   "cell_type": "markdown",
   "metadata": {
    "id": "90db50fbc8f5"
   },
   "source": [
    "在Docker和Vertex AI上创建用于测试预测的实例。"
   ]
  },
  {
   "cell_type": "code",
   "execution_count": null,
   "metadata": {
    "id": "fc938d4e1642"
   },
   "outputs": [],
   "source": [
    "instances = [\n",
    "    {\"sepal_length\": 4.8, \"sepal_width\": 3, \"petal_length\": 1.4, \"petal_width\": 0.3},\n",
    "    {\"sepal_length\": 6.2, \"sepal_width\": 3.4, \"petal_length\": 5.4, \"petal_width\": 2.3},\n",
    "]"
   ]
  },
  {
   "cell_type": "markdown",
   "metadata": {
    "id": "53afaa124bec"
   },
   "source": [
    "创建用于返回预测的分类器代码。"
   ]
  },
  {
   "cell_type": "code",
   "execution_count": null,
   "metadata": {
    "id": "4393f9a1a6f4"
   },
   "outputs": [],
   "source": [
    "%%writefile app/classifier.py\n",
    "from sklearn.datasets import load_iris\n",
    "from sklearn.linear_model import LogisticRegression\n",
    "import numpy as np\n",
    "from fastapi import FastAPI, Request\n",
    "\n",
    "class IrisClassifier:\n",
    "    def __init__(self):\n",
    "        self.X, self.y = load_iris(return_X_y=True)\n",
    "        self.clf = self.train_model()\n",
    "        self.iris_type = {\n",
    "            0: 'setosa',\n",
    "            1: 'versicolor',\n",
    "            2: 'virginica'\n",
    "        }\n",
    "\n",
    "    def train_model(self) -> LogisticRegression:\n",
    "        return LogisticRegression(solver='lbfgs',\n",
    "                                  max_iter=1000,\n",
    "                                  multi_class='multinomial').fit(self.X, self.y)\n",
    "\n",
    "    def predict(self, features: dict):\n",
    "        \n",
    "        X = [features['sepal_length'], features['sepal_width'], features['petal_length'], features['petal_width']]\n",
    "        prediction = self.clf.predict_proba([X])\n",
    "        return {'class': self.iris_type[np.argmax(prediction)], \n",
    "                'probability': round(max(prediction[0]), 2)}"
   ]
  },
  {
   "cell_type": "code",
   "execution_count": null,
   "metadata": {
    "id": "514b13e3cdd1"
   },
   "outputs": [],
   "source": [
    "%%writefile classifier.py\n",
    "from sklearn.datasets import load_iris\n",
    "from sklearn.linear_model import LogisticRegression\n",
    "import numpy as np\n",
    "\n",
    "\n",
    "class IrisClassifier:\n",
    "    def __init__(self):\n",
    "        self.X, self.y = load_iris(return_X_y=True)\n",
    "        self.clf = self.train_model()\n",
    "        self.iris_type = {\n",
    "            0: 'setosa',\n",
    "            1: 'versicolor',\n",
    "            2: 'virginica'\n",
    "        }\n",
    "\n",
    "    def train_model(self) -> LogisticRegression:\n",
    "        return LogisticRegression(solver='lbfgs',\n",
    "                                  max_iter=1000,\n",
    "                                  multi_class='multinomial').fit(self.X, self.y)\n",
    "\n",
    "    def predict(self, features: dict):\n",
    "        \n",
    "        X = [features['sepal_length'], features['sepal_width'], features['petal_length'], features['petal_width']]\n",
    "        prediction = self.clf.predict_proba([X])\n",
    "        return {'class': self.iris_type[np.argmax(prediction)], \n",
    "                'probability': round(max(prediction[0]), 2)}"
   ]
  },
  {
   "cell_type": "markdown",
   "metadata": {
    "id": "b2acd26ed91a"
   },
   "source": [
    "在主文件夹和应用文件夹中添加 __init__.py 以启用 .py 文件的导入"
   ]
  },
  {
   "cell_type": "code",
   "execution_count": null,
   "metadata": {
    "id": "ce3161f737b9"
   },
   "outputs": [],
   "source": [
    "%cd app\n",
    "with open(\"__init__.py\", \"wb\") as model_f:\n",
    "    pass\n",
    "%cd ..\n",
    "with open(\"__init__.py\", \"wb\") as model_f:\n",
    "    pass"
   ]
  },
  {
   "cell_type": "markdown",
   "metadata": {
    "id": "3849066a33bd"
   },
   "source": [
    "### 上传模型工件和定制代码到云存储\n",
    "\n",
    "在部署模型进行服务之前，Vertex AI 需要访问云存储中的以下文件：\n",
    "\n",
    "* `model.joblib`（模型工件）\n",
    "\n",
    "运行以下命令来上传您的文件："
   ]
  },
  {
   "cell_type": "code",
   "execution_count": null,
   "metadata": {
    "id": "ca67ee52d4d9"
   },
   "outputs": [],
   "source": [
    "!gsutil cp app/model.joblib {BUCKET_URI}/{MODEL_ARTIFACT_DIR}/"
   ]
  },
  {
   "cell_type": "markdown",
   "metadata": {
    "id": "480a1d88ecdb"
   },
   "source": [
    "## 构建一个FastAPI服务器"
   ]
  },
  {
   "cell_type": "code",
   "execution_count": null,
   "metadata": {
    "id": "94af0ba5eadd"
   },
   "outputs": [],
   "source": [
    "%%writefile app/main.py\n",
    "from fastapi import FastAPI, Request\n",
    "#from starlette.responses import JSONResponse\n",
    "\n",
    "import joblib\n",
    "import json\n",
    "import numpy as np\n",
    "import pickle\n",
    "import os\n",
    "\n",
    "from google.cloud import storage\n",
    "from classifier import IrisClassifier\n",
    "\n",
    "\n",
    "app = FastAPI()\n",
    "'''\n",
    "gcs_client = storage.Client()\n",
    "\n",
    "with open(\"model.joblib\", 'wb') as model_f:\n",
    "    gcs_client.download_blob_to_file(\n",
    "        f\"{os.environ['AIP_STORAGE_URI']}/model.joblib\", model_f\n",
    "    )\n",
    "\n",
    "#_model = joblib.load(\"model.joblib\")\n",
    "'''\n",
    "\n",
    "@app.get(os.environ['AIP_HEALTH_ROUTE'], status_code=200)\n",
    "def health():\n",
    "    return {}\n",
    "\n",
    "\n",
    "@app.post(os.environ['AIP_PREDICT_ROUTE'])\n",
    "async def predict(request: Request):\n",
    "    body = await request.json()\n",
    "    print (body)\n",
    "    \n",
    "    model = IrisClassifier()\n",
    "    \n",
    "    instances = body[\"instances\"]\n",
    "    output = []\n",
    "    for i in instances:\n",
    "        output.append(model.predict(i))\n",
    "    #return 'class' and 'probability'\n",
    "    return {\"predictions\": output}"
   ]
  },
  {
   "cell_type": "markdown",
   "metadata": {
    "id": "469f55daf250"
   },
   "source": [
    "### 添加预启动脚本\n",
    "FastAPI将在启动服务器之前执行此脚本。`PORT`环境变量被设置为等于`AIP_HTTP_PORT`，以便在与Vertex AI期望的端口相同的端口上运行FastAPI。"
   ]
  },
  {
   "cell_type": "code",
   "execution_count": null,
   "metadata": {
    "id": "69f438aca35b"
   },
   "outputs": [],
   "source": [
    "%%writefile app/prestart.sh\n",
    "#!/bin/bash\n",
    "export PORT=$AIP_HTTP_PORT"
   ]
  },
  {
   "cell_type": "markdown",
   "metadata": {
    "id": "8b62ddf1def3"
   },
   "source": [
    "### 存储测试实例以备后用\n",
    "要了解有关在JSON中格式化输入实例的更多信息，请[阅读文档。](https://cloud.google.com/vertex-ai/docs/predictions/online-predictions-custom-models#request-body-details)"
   ]
  },
  {
   "cell_type": "code",
   "execution_count": null,
   "metadata": {
    "id": "b6605e9e6186"
   },
   "outputs": [],
   "source": [
    "%%writefile instances.json\n",
    "{\n",
    "    \"instances\": [{\n",
    "        \"sepal_length\": 4.8,\n",
    "        \"sepal_width\": 3,\n",
    "        \"petal_length\": 1.4,\n",
    "        \"petal_width\": 0.3\n",
    "    },{\n",
    "        \"sepal_length\": 6.2,\n",
    "        \"sepal_width\": 3.4,\n",
    "        \"petal_length\": 5.4,\n",
    "        \"petal_width\": 2.3\n",
    "    }]\n",
    "}"
   ]
  },
  {
   "cell_type": "markdown",
   "metadata": {
    "id": "dr--iN2kAylZ"
   },
   "source": [
    "### 验证您的Google Cloud帐户\n",
    "\n",
    "**如果您正在使用Google Cloud笔记本**，您的环境已经经过验证。请跳过此步骤。"
   ]
  },
  {
   "cell_type": "markdown",
   "metadata": {
    "id": "sBCra4QMA2wR"
   },
   "source": [
    "**如果您正在使用Colab**，请运行下面的单元格，并按照提示进行身份验证来授权您的帐户通过oAuth。\n",
    "\n",
    "**否则**，请按照以下步骤操作：\n",
    "\n",
    "1. 在Cloud控制台中，转到[**创建服务帐号密钥**页面](https://console.cloud.google.com/apis/credentials/serviceaccountkey)。\n",
    "\n",
    "2. 点击**创建服务帐号**。\n",
    "\n",
    "3. 在**服务帐号名称**字段中输入一个名称，然后点击**创建**。\n",
    "\n",
    "4. 在**授予此服务帐号对项目的访问权限**部分，点击**角色**下拉列表。在过滤框中输入\"Vertex AI\"，选择**Vertex AI管理员**。在过滤框中输入\"存储对象管理员\"，选择**存储对象管理员**。\n",
    "\n",
    "5. 点击*创建*。包含您密钥的JSON文件将下载到您的本地环境。\n",
    "\n",
    "6. 在下面的单元格中，填入您服务帐号密钥的路径作为`GOOGLE_APPLICATION_CREDENTIALS`变量，然后运行该单元格。"
   ]
  },
  {
   "cell_type": "code",
   "execution_count": null,
   "metadata": {
    "id": "PyQmSRbKA8r-"
   },
   "outputs": [],
   "source": [
    "import os\n",
    "import sys\n",
    "\n",
    "# If you are running this notebook in Colab, run this cell and follow the\n",
    "# instructions to authenticate your GCP account. This provides access to your\n",
    "# Cloud Storage bucket and lets you submit training jobs and prediction\n",
    "# requests.\n",
    "\n",
    "# The Google Cloud Notebook product has specific requirements\n",
    "IS_GOOGLE_CLOUD_NOTEBOOK = os.path.exists(\"/opt/deeplearning/metadata/env_version\")\n",
    "\n",
    "# If on Google Cloud Notebooks, then don't execute this code\n",
    "if not IS_GOOGLE_CLOUD_NOTEBOOK:\n",
    "    if \"google.colab\" in sys.modules:\n",
    "        from google.colab import auth as google_auth\n",
    "\n",
    "        google_auth.authenticate_user()\n",
    "\n",
    "    # If you are running this notebook locally, replace the string below with the\n",
    "    # path to your service account key and run this cell to authenticate your GCP\n",
    "    # account.\n",
    "    elif not os.getenv(\"IS_TESTING\"):\n",
    "        %env GOOGLE_APPLICATION_CREDENTIALS ''"
   ]
  },
  {
   "cell_type": "markdown",
   "metadata": {
    "id": "3bdb9a7768a5"
   },
   "source": [
    "可以选择复制您的凭据以在本地运行容器。"
   ]
  },
  {
   "cell_type": "code",
   "execution_count": null,
   "metadata": {
    "id": "fbb77f4f56c7"
   },
   "outputs": [],
   "source": [
    "# NOTE: Copy in credentials to run locally, this step can be skipped for deployment\n",
    "import shutil\n",
    "\n",
    "GOOGLE_APPLICATION_CREDENTIALS = \"[PATH-TO-YOUR-CREDENTIALS.json]\"\n",
    "\n",
    "shutil.copyfile(GOOGLE_APPLICATION_CREDENTIALS, \"app/credentials.json\")"
   ]
  },
  {
   "cell_type": "markdown",
   "metadata": {
    "id": "51e149fdec1b"
   },
   "source": [
    "构建并推送容器到Artifact Registry。"
   ]
  },
  {
   "cell_type": "markdown",
   "metadata": {
    "id": "3bdb9a7768a5"
   },
   "source": [
    "### 建立你的容器"
   ]
  },
  {
   "cell_type": "markdown",
   "metadata": {
    "id": "240578ec9efe"
   },
   "source": [
    "编写Dockerfile，使用`tiangolo/uvicorn-gunicorn-fastapi`作为基础镜像。 这将自动运行FastAPI，并使用Gunicorn和Uvicorn。 访问[FastAPI文档](https://fastapi.tiangolo.com/deployment/docker/) 了解更多关于在Docker中部署FastAPI的信息。"
   ]
  },
  {
   "cell_type": "code",
   "execution_count": null,
   "metadata": {
    "id": "3d3a6b9ed22b"
   },
   "outputs": [],
   "source": [
    "%%writefile Dockerfile\n",
    "\n",
    "FROM tiangolo/uvicorn-gunicorn-fastapi:python3.7\n",
    "\n",
    "COPY ./app /app\n",
    "COPY requirements.txt requirements.txt\n",
    "\n",
    "RUN pip install -r requirements.txt"
   ]
  },
  {
   "cell_type": "markdown",
   "metadata": {
    "id": "04c988201499"
   },
   "source": [
    "构建图像并标记Artifact Registry路径，然后将其推送。"
   ]
  },
  {
   "cell_type": "code",
   "execution_count": null,
   "metadata": {
    "id": "f1e7d639b9cc"
   },
   "outputs": [],
   "source": [
    "!docker build \\\n",
    "    --tag={REGION}-docker.pkg.dev/{PROJECT_ID}/{REPOSITORY}/{IMAGE} \\\n",
    "    ."
   ]
  },
  {
   "cell_type": "markdown",
   "metadata": {
    "id": "147a555f6c93"
   },
   "source": [
    "### 本地运行和测试容器（可选）\n",
    "\n",
    "以分离模式在本地运行容器，并提供容器所需的环境变量。这些环境变量将在部署后由 Vertex Prediction 提供给容器。测试 `/health` 和 `/predict` 路由，然后停止运行中的镜像。"
   ]
  },
  {
   "cell_type": "code",
   "execution_count": null,
   "metadata": {
    "id": "62ed2d334d0f"
   },
   "outputs": [],
   "source": [
    "!docker stop local-iris\n",
    "!docker rm local-iris\n",
    "container_id = !docker run -d -p 80:8080 \\\n",
    "    --name=local-iris \\\n",
    "    -e AIP_HTTP_PORT=8080 \\\n",
    "    -e AIP_HEALTH_ROUTE=/health \\\n",
    "    -e AIP_PREDICT_ROUTE=/predict \\\n",
    "    -e AIP_STORAGE_URI={BUCKET_URI}/{MODEL_ARTIFACT_DIR} \\\n",
    "    -e GOOGLE_APPLICATION_CREDENTIALS=credentials.json \\\n",
    "    {REGION}-docker.pkg.dev/{PROJECT_ID}/{REPOSITORY}/{IMAGE}"
   ]
  },
  {
   "cell_type": "markdown",
   "metadata": {
    "id": "b3d9d193849b"
   },
   "source": [
    "检查健康路线 (Jiǎnchá jiànkāng lùxiàn)"
   ]
  },
  {
   "cell_type": "code",
   "execution_count": null,
   "metadata": {
    "id": "ce629eea32fd"
   },
   "outputs": [],
   "source": [
    "!curl localhost/health"
   ]
  },
  {
   "cell_type": "markdown",
   "metadata": {
    "id": "dedacbcabba0"
   },
   "source": [
    "检查Docker日志以查找任何问题。"
   ]
  },
  {
   "cell_type": "code",
   "execution_count": null,
   "metadata": {
    "id": "c1e3a7d1cc20"
   },
   "outputs": [],
   "source": [
    "!docker logs {container_id[0]}"
   ]
  },
  {
   "cell_type": "markdown",
   "metadata": {
    "id": "eb136536100c"
   },
   "source": [
    "从Docker容器获取一个预测"
   ]
  },
  {
   "cell_type": "code",
   "execution_count": null,
   "metadata": {
    "id": "56986f93438e"
   },
   "outputs": [],
   "source": [
    "!curl -X POST \\\n",
    "  -d @instances.json \\\n",
    "  -H \"Content-Type: application/json; charset=utf-8\" \\\n",
    "  localhost/predict"
   ]
  },
  {
   "cell_type": "markdown",
   "metadata": {
    "id": "e1017f86c714"
   },
   "source": [
    "停止Docker进程"
   ]
  },
  {
   "cell_type": "code",
   "execution_count": null,
   "metadata": {
    "id": "a29fcbbe0188"
   },
   "outputs": [],
   "source": [
    "!docker stop local-iris"
   ]
  },
  {
   "cell_type": "markdown",
   "metadata": {
    "id": "212b2935ea12"
   },
   "source": [
    "推送容器到制品注册表\n",
    "\n",
    "创建存储库"
   ]
  },
  {
   "cell_type": "code",
   "execution_count": null,
   "metadata": {
    "id": "09ffe2434e3d"
   },
   "outputs": [],
   "source": [
    "!gcloud beta artifacts repositories create {REPOSITORY} \\\n",
    "    --repository-format=docker \\\n",
    "    --location=$REGION"
   ]
  },
  {
   "cell_type": "markdown",
   "metadata": {
    "id": "c4c3cebbfd8b"
   },
   "source": [
    "配置Docker以访问Artifact Registry"
   ]
  },
  {
   "cell_type": "code",
   "execution_count": null,
   "metadata": {
    "id": "293437024749"
   },
   "outputs": [],
   "source": [
    "!gcloud auth configure-docker {REGION}-docker.pkg.dev --quiet"
   ]
  },
  {
   "cell_type": "markdown",
   "metadata": {
    "id": "ecf39fd277eb"
   },
   "source": [
    "将您的容器镜像推送到Artifact Registry仓库。"
   ]
  },
  {
   "cell_type": "code",
   "execution_count": null,
   "metadata": {
    "id": "1dd7448f4703"
   },
   "outputs": [],
   "source": [
    "!docker push {REGION}-docker.pkg.dev/{PROJECT_ID}/{REPOSITORY}/{IMAGE}"
   ]
  },
  {
   "cell_type": "markdown",
   "metadata": {
    "id": "b438bfa2129f"
   },
   "source": [
    "## 部署到 Vertex AI\n",
    "\n",
    "使用 Python SDK 上传和部署您的模型。"
   ]
  },
  {
   "cell_type": "code",
   "execution_count": null,
   "metadata": {
    "id": "8d682d8388ec"
   },
   "outputs": [],
   "source": [
    "from google.cloud import aiplatform\n",
    "\n",
    "aiplatform.init(project=PROJECT_ID, location=REGION)"
   ]
  },
  {
   "cell_type": "markdown",
   "metadata": {
    "id": "91a2129ee24d"
   },
   "source": [
    "#### 配置解释\n",
    "\n",
    "##### 在这里，我们将使用Shapley对在表格数据集上训练的模型进行解释。有关更多详细信息，请参阅文档：https://cloud.google.com/vertex-ai/docs/explainable-ai/configuring-explanations#import-model-example\n",
    "\n",
    "https://cloud.google.com/vertex-ai/docs/explainable-ai/improving-explanations"
   ]
  },
  {
   "cell_type": "code",
   "execution_count": null,
   "metadata": {
    "id": "explanation_parameters:mbsdk"
   },
   "outputs": [],
   "source": [
    "XAI = \"shapley\"  # [ shapley, ig, xrai ]\n",
    "\n",
    "if XAI == \"shapley\":\n",
    "    PARAMETERS = {\"sampled_shapley_attribution\": {\"path_count\": 10}}\n",
    "elif XAI == \"ig\":\n",
    "    PARAMETERS = {\"integrated_gradients_attribution\": {\"step_count\": 50}}\n",
    "elif XAI == \"xrai\":\n",
    "    PARAMETERS = {\"xrai_attribution\": {\"step_count\": 50}}\n",
    "\n",
    "parameters = aiplatform.explain.ExplanationParameters(PARAMETERS)"
   ]
  },
  {
   "cell_type": "markdown",
   "metadata": {
    "id": "2ebb2261b98b"
   },
   "source": [
    "指定输入特征和输出标签名称来配置自定义容器的解释元数据"
   ]
  },
  {
   "cell_type": "code",
   "execution_count": null,
   "metadata": {
    "id": "06d058980071"
   },
   "outputs": [],
   "source": [
    "EXPLANATION_METADATA = aiplatform.explain.ExplanationMetadata(\n",
    "    inputs={\n",
    "        \"sepal_length\": {},\n",
    "        \"sepal_width\": {},\n",
    "        \"petal_length\": {},\n",
    "        \"petal_width\": {},\n",
    "    },\n",
    "    outputs={\"probability\": {}},\n",
    ")"
   ]
  },
  {
   "cell_type": "markdown",
   "metadata": {
    "id": "4ae19df6a33e"
   },
   "source": [
    "上传自定义容器模型"
   ]
  },
  {
   "cell_type": "code",
   "execution_count": null,
   "metadata": {
    "id": "2738154345d5"
   },
   "outputs": [],
   "source": [
    "model = aiplatform.Model.upload(\n",
    "    display_name=MODEL_DISPLAY_NAME,\n",
    "    artifact_uri=f\"{BUCKET_URI}/{MODEL_ARTIFACT_DIR}\",\n",
    "    serving_container_image_uri=f\"{REGION}-docker.pkg.dev/{PROJECT_ID}/{REPOSITORY}/{IMAGE}\",\n",
    "    explanation_parameters=parameters,\n",
    "    explanation_metadata=EXPLANATION_METADATA,\n",
    ")"
   ]
  },
  {
   "cell_type": "markdown",
   "metadata": {
    "id": "bd1b85afc7df"
   },
   "source": [
    "### 在Vertex AI上部署模型\n",
    "完成此步骤后，模型将被部署并准备好进行在线预测。"
   ]
  },
  {
   "cell_type": "code",
   "execution_count": null,
   "metadata": {
    "id": "62cf66498a28"
   },
   "outputs": [],
   "source": [
    "endpoint = model.deploy(machine_type=\"n1-standard-4\")"
   ]
  },
  {
   "cell_type": "markdown",
   "metadata": {
    "id": "6883e7b07143"
   },
   "source": [
    "发送预测\n",
    "\n",
    "使用Python SDK"
   ]
  },
  {
   "cell_type": "markdown",
   "metadata": {
    "id": "0733daf285f7"
   },
   "source": [
    "调用预测端点"
   ]
  },
  {
   "cell_type": "code",
   "execution_count": null,
   "metadata": {
    "id": "16c4c831a9cc"
   },
   "outputs": [],
   "source": [
    "endpoint.predict(instances=instances)"
   ]
  },
  {
   "cell_type": "markdown",
   "metadata": {
    "id": "a1fe5db2e875"
   },
   "source": [
    "呼叫终端点以获取解释"
   ]
  },
  {
   "cell_type": "code",
   "execution_count": null,
   "metadata": {
    "id": "a4f7c0e41f1b"
   },
   "outputs": [],
   "source": [
    "endpoint.explain(instances=instances)"
   ]
  },
  {
   "cell_type": "markdown",
   "metadata": {
    "id": "370d22f53427"
   },
   "source": [
    "### 使用 REST"
   ]
  },
  {
   "cell_type": "markdown",
   "metadata": {
    "id": "69ad65c83745"
   },
   "source": [
    "将一个终端点ID设置为在REST命令中使用"
   ]
  },
  {
   "cell_type": "code",
   "execution_count": null,
   "metadata": {
    "id": "ba55bc560d58"
   },
   "outputs": [],
   "source": [
    "ENDPOINT_ID = endpoint.name"
   ]
  },
  {
   "cell_type": "markdown",
   "metadata": {
    "id": "7d1f45fd9f0a"
   },
   "source": [
    "使用Rest调用预测端点。"
   ]
  },
  {
   "cell_type": "code",
   "execution_count": null,
   "metadata": {
    "id": "95c562b4e98b"
   },
   "outputs": [],
   "source": [
    "! curl \\\n",
    "-H \"Authorization: Bearer $(gcloud auth print-access-token)\" \\\n",
    "-H \"Content-Type: application/json\" \\\n",
    "-d @instances.json \\\n",
    "https://{REGION}-aiplatform.googleapis.com/v1/projects/{PROJECT_ID}/locations/{REGION}/endpoints/{ENDPOINT_ID}:predict"
   ]
  },
  {
   "cell_type": "markdown",
   "metadata": {
    "id": "2d1d3555a2ff"
   },
   "source": [
    "调用Rest来使用端点进行解释。"
   ]
  },
  {
   "cell_type": "code",
   "execution_count": null,
   "metadata": {
    "id": "1c810d98e894"
   },
   "outputs": [],
   "source": [
    "! curl \\\n",
    "-H \"Authorization: Bearer $(gcloud auth print-access-token)\" \\\n",
    "-H \"Content-Type: application/json\" \\\n",
    "-d @instances.json \\\n",
    "https://{REGION}-aiplatform.googleapis.com/v1/projects/{PROJECT_ID}/locations/{REGION}/endpoints/{ENDPOINT_ID}:explain"
   ]
  },
  {
   "cell_type": "markdown",
   "metadata": {
    "id": "fa71174a7dd0"
   },
   "source": [
    "使用gcloud CLI"
   ]
  },
  {
   "cell_type": "markdown",
   "metadata": {
    "id": "fce39832fc91"
   },
   "source": [
    "调用使用gcloud进行预测的终端点"
   ]
  },
  {
   "cell_type": "code",
   "execution_count": null,
   "metadata": {
    "id": "23b8e807b02c"
   },
   "outputs": [],
   "source": [
    "!gcloud beta ai endpoints predict $ENDPOINT_ID \\\n",
    "  --region=$REGION \\\n",
    "  --json-request=instances.json"
   ]
  },
  {
   "cell_type": "markdown",
   "metadata": {
    "id": "f1a9924a583f"
   },
   "source": [
    "使用gcloud调用端点获取解释说明。"
   ]
  },
  {
   "cell_type": "code",
   "execution_count": null,
   "metadata": {
    "id": "ba175968abb2"
   },
   "outputs": [],
   "source": [
    "!gcloud beta ai endpoints explain $ENDPOINT_ID \\\n",
    "  --region=$REGION \\\n",
    "  --json-request=instances.json"
   ]
  },
  {
   "cell_type": "markdown",
   "metadata": {
    "id": "TpV-iwP9qw9c"
   },
   "source": [
    "清理\n",
    "\n",
    "要清理此项目中使用的所有谷歌云资源，您可以[删除用于本教程的谷歌云项目](https://cloud.google.com/resource-manager/docs/creating-managing-projects#shutting_down_projects)。\n",
    "\n",
    "否则，您可以删除在本教程中创建的各个资源。"
   ]
  },
  {
   "cell_type": "code",
   "execution_count": null,
   "metadata": {
    "id": "sx_vKniMq9ZX"
   },
   "outputs": [],
   "source": [
    "# Undeploy model and delete endpoint\n",
    "endpoint.delete(force=True)\n",
    "\n",
    "# Delete the model resource\n",
    "model.delete()\n",
    "\n",
    "# Delete the container image from Artifact Registry\n",
    "!gcloud artifacts docker images delete \\\n",
    "    --quiet \\\n",
    "    --delete-tags \\\n",
    "    {REGION}-docker.pkg.dev/{PROJECT_ID}/{REPOSITORY}/{IMAGE}\n",
    "\n",
    "delete_bucket = False\n",
    "if delete_bucket or os.getenv(\"IS_TESTING\"):\n",
    "    ! gsutil rm -rf {BUCKET_URI}"
   ]
  }
 ],
 "metadata": {
  "colab": {
   "collapsed_sections": [],
   "name": "SDK_Custom_Container_XAI.ipynb",
   "toc_visible": true
  },
  "kernelspec": {
   "display_name": "Python 3",
   "name": "python3"
  }
 },
 "nbformat": 4,
 "nbformat_minor": 0
}
