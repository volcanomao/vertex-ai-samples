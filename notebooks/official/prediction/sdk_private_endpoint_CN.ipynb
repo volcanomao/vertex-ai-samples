{
 "cells": [
  {
   "cell_type": "code",
   "execution_count": null,
   "metadata": {
    "id": "ur8xi4C7S06n"
   },
   "outputs": [],
   "source": [
    "# Copyright 2022 Google LLC\n",
    "#\n",
    "# Licensed under the Apache License, Version 2.0 (the \"License\");\n",
    "# you may not use this file except in compliance with the License.\n",
    "# You may obtain a copy of the License at\n",
    "#\n",
    "#     https://www.apache.org/licenses/LICENSE-2.0\n",
    "#\n",
    "# Unless required by applicable law or agreed to in writing, software\n",
    "# distributed under the License is distributed on an \"AS IS\" BASIS,\n",
    "# WITHOUT WARRANTIES OR CONDITIONS OF ANY KIND, either express or implied.\n",
    "# See the License for the specific language governing permissions and\n",
    "# limitations under the License."
   ]
  },
  {
   "cell_type": "markdown",
   "metadata": {
    "id": "JAPoU8Sm5E6e"
   },
   "source": [
    "# Vertex AI私有终点\n",
    "\n",
    "<table align=\"left\">\n",
    "  <td>\n",
    "    <a href=\"https://github.com/GoogleCloudPlatform/vertex-ai-samples/tree/main/notebooks/official/prediction/sdk_private_endpoint.ipynb\">\n",
    "      <img src=\"https://cloud.google.com/ml-engine/images/github-logo-32px.png\" alt=\"GitHub标志\">\n",
    "      在GitHub上查看\n",
    "    </a>\n",
    "  </td>\n",
    "  <td>\n",
    "    <a href=\"https://console.cloud.google.com/vertex-ai/workbench/deploy-notebook?download_url=https://raw.githubusercontent.com/GoogleCloudPlatform/vertex-ai-samples/main/notebooks/official/prediction/sdk_private_endpoint.ipynb\">\n",
    "      <img src=\"https://lh3.googleusercontent.com/UiNooY4LUgW_oTvpsNhPpQzsstV5W8F7rYgxgGBD85cWJoLmrOzhVs_ksK_vgx40SHs7jCqkTkCk=e14-rj-sc0xffffff-h130-w32\" alt=\"Vertex AI标志\">\n",
    "      在Vertex AI工作台中打开\n",
    "    </a>\n",
    "  </td>                                                                                               \n",
    "</table>\n",
    "\n",
    "**请确保此笔记本在VPC内运行，因为`PrivateEndpoint`预测方法只能在私有网络中执行。创建一个Vertex AI工作台实例，并在该实例中上传和运行此笔记本。在创建新的Vertex AI工作台实例时，请使用`default`子网或按照[此处](https://cloud.google.com/vpc/docs/create-modify-vpc-networks)中概述的步骤创建和使用唯一的VPC。**"
   ]
  },
  {
   "cell_type": "markdown",
   "metadata": {
    "id": "tvgnzT1CKxrO"
   },
   "source": [
    "## 概述\n",
    "\n",
    "本教程演示了如何使用Vertex AI SDK创建和使用Vertex AI `PrivateEndpoint`资源来提供模型服务。`PrivateEndpoint`提供了一个低延迟、安全、私密的网络连接到Vertex AI在线预测服务（即企业内部网络）。这消除了公共`Endpoint`（即互联网）的网络交换和路由的开销。\n",
    "\n",
    "了解更多关于[`PrivateEndpoint`资源](https://cloud.google.com/vertex-ai/docs/predictions/using-private-endpoints)。\n",
    "\n",
    "### 数据集\n",
    "\n",
    "本教程使用公共Cloud Storage存储桶`gs://cloud-samples-data/ai-platform-unified/datasets/tabular/`中的[petfinder](https://storage.googleapis.com/cloud-samples-data/ai-platform-unified/datasets/tabular/petfinder-tabular-classification-tabnet-with-header.csv)数据集，该数据集源自[PetFinder.my Adoption Prediction](https://www.kaggle.com/c/petfinder-adoption-prediction)。该数据集预测动物被领养的速度。\n",
    "\n",
    "### 目标\n",
    "\n",
    "在本教程中，您将学习如何使用`Vertex AI PrivateEndpoint`资源。\n",
    "\n",
    "本教程使用以下Google Cloud Platform Vertex AI服务和资源：\n",
    "\n",
    "- `Vertex AI TabNet`\n",
    "- `Vertex AI TrainingJob`\n",
    "- `Vertex AI Model`\n",
    "- `Vertex AI PrivateEndpoint`\n",
    "- `Vertex AI Prediction`\n",
    "\n",
    "执行的步骤包括：\n",
    "\n",
    "- 导入训练数据。\n",
    "- 为`Vertex AI TabNet`模型容器配置训练参数。\n",
    "- 使用`Vertex AI TrainingJob`训练CSV数据。\n",
    "- 将模型上传为`Vertex AI Model`资源。\n",
    "- 配置VPC对等连接。\n",
    "- 创建一个`Vertex AI PrivateEndpoint`资源。\n",
    "- 将`Vertex AI Model`资源部署到`Vertex AI PrivateEndpoint`资源。\n",
    "- 发送预测请求到`Vertex AI PrivateEndpoint`。\n",
    "- 清理资源。\n",
    "\n",
    "### 成本\n",
    "\n",
    "本教程使用Google Cloud的计费组件：\n",
    "\n",
    "* Vertex AI\n",
    "* Cloud Storage\n",
    "\n",
    "了解有关[Vertex AI价格](https://cloud.google.com/vertex-ai/pricing)和[Cloud Storage价格](https://cloud.google.com/storage/pricing)，使用[Pricing计算器](https://cloud.google.com/products/calculator/)根据您的预期使用量生成成本估算。"
   ]
  },
  {
   "cell_type": "markdown",
   "metadata": {
    "id": "7fc05eeb0918"
   },
   "source": [
    "### 安装\n",
    "安装执行此笔记所需的包。"
   ]
  },
  {
   "cell_type": "code",
   "execution_count": null,
   "metadata": {
    "id": "2b4ef9b72d43"
   },
   "outputs": [],
   "source": [
    "! pip3 install --upgrade --quiet tensorflow\n",
    "! pip3 install --upgrade --quiet google-cloud-aiplatform\n",
    "! gcloud components update --quiet"
   ]
  },
  {
   "cell_type": "markdown",
   "metadata": {
    "id": "58707a750154"
   },
   "source": [
    "仅限协作：取消下面的单元格注释以重新启动内核。"
   ]
  },
  {
   "cell_type": "code",
   "execution_count": null,
   "metadata": {
    "id": "f200f10a1da3"
   },
   "outputs": [],
   "source": [
    "# Automatically restart kernel after installs so that your environment can access the new packages\n",
    "# import IPython\n",
    "\n",
    "# app = IPython.Application.instance()\n",
    "# app.kernel.do_shutdown(True)"
   ]
  },
  {
   "cell_type": "markdown",
   "metadata": {
    "id": "before_you_begin"
   },
   "source": [
    "## 在开始之前\n",
    "\n",
    "### GPU 运行时\n",
    "\n",
    "*如果您有选择的话，请确保在 GPU 运行时中运行此笔记本。在 Colab 中，选择* **Runtime > Change Runtime Type > GPU**\n",
    "\n",
    "### 设置您的 Google Cloud 项目\n",
    "\n",
    "**无论您的笔记本环境如何，以下步骤都是必需的。**\n",
    "\n",
    "1. [选择或创建一个 Google Cloud 项目](https://console.cloud.google.com/cloud-resource-manager)。当您首次创建一个帐户时，您将获得 $300 的免费信用用于计算/存储成本。\n",
    "\n",
    "2. [确保为您的项目启用计费。](https://cloud.google.com/billing/docs/how-to/modify-project)\n",
    "\n",
    "3. [启用以下 API：Vertex AI APIs，Compute Engine APIs 和 Cloud Storage。](https://console.cloud.google.com/flows/enableapi?apiid=aiplatform.googleapis.com,compute_component,storage-component.googleapis.com)\n",
    "\n",
    "4. 如果您是在本地运行此笔记本，您需要安装 [Cloud SDK]((https://cloud.google.com/sdk))。\n",
    "\n",
    "5. 在下面的单元格中输入您的项目 ID。然后运行该单元格，确保 Cloud SDK 为本笔记本中的所有命令使用正确的项目。\n",
    "\n",
    "**注意**：Jupyter 会运行以 `!` 开头的行作为 shell 命令，并会插值以 `$` 开头的 Python 变量。"
   ]
  },
  {
   "cell_type": "markdown",
   "metadata": {
    "id": "project_id"
   },
   "source": [
    "设置您的项目ID\n",
    "\n",
    "**如果您不知道您的项目ID**，请尝试以下操作：\n",
    "* 运行 `gcloud config list`。\n",
    "* 运行 `gcloud projects list`。\n",
    "* 参考支持页面：[查找项目ID](https://support.google.com/googleapi/answer/7014113)"
   ]
  },
  {
   "cell_type": "code",
   "execution_count": null,
   "metadata": {
    "id": "set_project_id"
   },
   "outputs": [],
   "source": [
    "PROJECT_ID = \"[your-project-id]\"  # @param {type:\"string\"}\n",
    "\n",
    "# Set the project id\n",
    "! gcloud config set project {PROJECT_ID}"
   ]
  },
  {
   "cell_type": "markdown",
   "metadata": {
    "id": "region"
   },
   "source": [
    "区域\n",
    "\n",
    "您还可以更改 Vertex AI 使用的 `REGION` 变量。了解更多关于 [Vertex AI 区域](https://cloud.google.com/vertex-ai/docs/general/locations)。"
   ]
  },
  {
   "cell_type": "code",
   "execution_count": null,
   "metadata": {
    "id": "region"
   },
   "outputs": [],
   "source": [
    "REGION = \"us-central1\"  # @param {type: \"string\"}"
   ]
  },
  {
   "cell_type": "markdown",
   "metadata": {
    "id": "sBCra4QMA2wR"
   },
   "source": [
    "### 认证您的 Google Cloud 账户\n",
    "\n",
    "根据您的 Jupyter 环境，您可能需要手动进行身份验证。请按照以下相关说明操作。\n",
    "\n",
    "**1. Vertex AI Workbench**\n",
    "* 不需要做任何操作，因为您已经通过身份验证。\n",
    "\n",
    "**2. 本地 JupyterLab 实例，取消注释并运行：**"
   ]
  },
  {
   "cell_type": "code",
   "execution_count": null,
   "metadata": {
    "id": "254614fa0c46"
   },
   "outputs": [],
   "source": [
    "# ! gcloud auth login"
   ]
  },
  {
   "cell_type": "markdown",
   "metadata": {
    "id": "gcp_authenticate"
   },
   "source": [
    "3. 协作，取消注释并运行："
   ]
  },
  {
   "cell_type": "code",
   "execution_count": null,
   "metadata": {
    "id": "a336a05c6149"
   },
   "outputs": [],
   "source": [
    "# from google.colab import auth\n",
    "# auth.authenticate_user()"
   ]
  },
  {
   "cell_type": "markdown",
   "metadata": {
    "id": "f6b2ccc891ed"
   },
   "source": [
    "4. 服务账号或其他\n",
    "* 请查看如何为您的服务账号授予云存储权限，网址为https://cloud.google.com/storage/docs/gsutil/commands/iam#ch-examples。"
   ]
  },
  {
   "cell_type": "markdown",
   "metadata": {
    "id": "zgPO1eR3CYjk"
   },
   "source": [
    "创建一个云存储桶\n",
    "\n",
    "创建一个存储桶来存储中间产物，如数据集。"
   ]
  },
  {
   "cell_type": "code",
   "execution_count": null,
   "metadata": {
    "id": "MzGDU7TWdts_"
   },
   "outputs": [],
   "source": [
    "BUCKET_URI = f\"gs://your-bucket-name-{PROJECT_ID}-unique\"  # @param {type:\"string\"}"
   ]
  },
  {
   "cell_type": "markdown",
   "metadata": {
    "id": "create_bucket"
   },
   "source": [
    "只有在您的存储桶尚不存在时：运行以下单元格以创建您的云存储存储桶。"
   ]
  },
  {
   "cell_type": "code",
   "execution_count": null,
   "metadata": {
    "id": "create_bucket"
   },
   "outputs": [],
   "source": [
    "! gsutil mb -l {REGION} {BUCKET_URI}"
   ]
  },
  {
   "cell_type": "markdown",
   "metadata": {
    "id": "XoEqT2Y4DJmf"
   },
   "source": [
    "导入库并定义常数"
   ]
  },
  {
   "cell_type": "code",
   "execution_count": null,
   "metadata": {
    "id": "pRUOFELefqf1"
   },
   "outputs": [],
   "source": [
    "import os\n",
    "\n",
    "import google.cloud.aiplatform as aiplatform"
   ]
  },
  {
   "cell_type": "markdown",
   "metadata": {
    "id": "init_aip:mbsdk"
   },
   "source": [
    "### 初始化用于 Python 的 Vertex AI SDK\n",
    "\n",
    "为您的项目和对应的存储桶初始化 Python 版本的 Vertex AI SDK。"
   ]
  },
  {
   "cell_type": "code",
   "execution_count": null,
   "metadata": {
    "id": "init_aip:mbsdk"
   },
   "outputs": [],
   "source": [
    "aiplatform.init(project=PROJECT_ID, location=REGION, staging_bucket=BUCKET_URI)"
   ]
  },
  {
   "cell_type": "markdown",
   "metadata": {
    "id": "bffd1dbc8a8c"
   },
   "source": [
    "### 设置训练容器\n",
    "\n",
    "接下来，使用预先构建的`Vertex AI TabNet`容器来训练模型。\n",
    "\n",
    "TabNet结合了两种最好的世界：它是可解释的（类似于简单的基于树的模型），同时又从深度神经网络中获益。这使得它非常适合零售商、金融和保险行业的应用，如预测信用评分、诈骗检测和预测。\n",
    "\n",
    "TabNet使用一种名为序列关注的机器学习技术，在模型的每一步中选择要进行推理的模型特征。这种机制使得可以解释模型如何做出预测，并帮助它学习更加准确的模型。TabNet不仅胜过其他神经网络和决策树，还提供可解释的特征归因。\n",
    "\n",
    "阅读研究论文：[TabNet：关注性可解释的表格学习](https://arxiv.org/pdf/1908.07442.pdf)。"
   ]
  },
  {
   "cell_type": "code",
   "execution_count": null,
   "metadata": {
    "id": "f29b4eab8132"
   },
   "outputs": [],
   "source": [
    "TRAIN_IMAGE = \"us-docker.pkg.dev/vertex-ai-restricted/builtin-algorithm/tab_net_v2\"\n",
    "print(\"Training container:\", TRAIN_IMAGE)"
   ]
  },
  {
   "cell_type": "markdown",
   "metadata": {
    "id": "container:training,prediction"
   },
   "source": [
    "### 设置预构建容器以便部署\n",
    "\n",
    "设置预构建的Docker容器镜像用于预测。\n",
    "\n",
    "获取最新列表，请参见[预构建用于预测的容器](https://cloud.google.com/ai-platform-unified/docs/predictions/pre-built-containers)。"
   ]
  },
  {
   "cell_type": "code",
   "execution_count": null,
   "metadata": {
    "id": "container:training,prediction"
   },
   "outputs": [],
   "source": [
    "if os.getenv(\"IS_TESTING_TF\"):\n",
    "    TF = os.getenv(\"IS_TESTING_TF\")\n",
    "else:\n",
    "    TF = \"2.5\".replace(\".\", \"-\")\n",
    "\n",
    "if TF[0] == \"2\":\n",
    "    DEPLOY_VERSION = \"tf2-cpu.{}\".format(TF)\n",
    "else:\n",
    "    DEPLOY_VERSION = \"tf-cpu.{}\".format(TF)\n",
    "\n",
    "DEPLOY_IMAGE = \"{}-docker.pkg.dev/vertex-ai/prediction/{}:latest\".format(\n",
    "    REGION.split(\"-\")[0], DEPLOY_VERSION\n",
    ")\n",
    "\n",
    "print(\"Deployment container:\", DEPLOY_IMAGE)"
   ]
  },
  {
   "cell_type": "markdown",
   "metadata": {
    "id": "1dd2b940d35d"
   },
   "source": [
    "获取训练数据\n",
    "\n",
    "从公共云存储桶中获取训练数据的副本（以CSV文件的形式），并将训练数据复制到您的云存储桶中。"
   ]
  },
  {
   "cell_type": "code",
   "execution_count": null,
   "metadata": {
    "id": "BoVqAMOuedPe"
   },
   "outputs": [],
   "source": [
    "# Please note that if you use csv input, the first column is the label column.\n",
    "\n",
    "IMPORT_FILE = \"petfinder-tabular-classification-tabnet-with-header.csv\"\n",
    "TRAINING_DATA_PATH = f\"{BUCKET_URI}/data/petfinder/train.csv\"\n",
    "\n",
    "! gsutil cp gs://cloud-samples-data/ai-platform-unified/datasets/tabular/{IMPORT_FILE} {TRAINING_DATA_PATH}"
   ]
  },
  {
   "cell_type": "markdown",
   "metadata": {
    "id": "create_custom_container_training_job:mbsdk,no_model"
   },
   "source": [
    "## 训练 Vertex AI TabNet 模型\n",
    "\n",
    "要训练 TabNet 自定义模型，您需要创建并运行一个自定义训练作业。\n",
    "\n",
    "### 创建自定义训练作业\n",
    "\n",
    "使用 `CustomContainerTrainingJob` 类创建自定义训练作业，需要以下参数：\n",
    "\n",
    "- `display_name`: 自定义训练作业的人类可读名称。\n",
    "- `container_uri`: 训练容器镜像。\n",
    "- `model_serving_container_image_uri`: 可为您的模型提供预测的容器的 URI。"
   ]
  },
  {
   "cell_type": "code",
   "execution_count": null,
   "metadata": {
    "id": "a3307f420d27"
   },
   "outputs": [],
   "source": [
    "DATASET_NAME = \"petfinder\"  # Change to your dataset name.\n",
    "\n",
    "job = aiplatform.CustomContainerTrainingJob(\n",
    "    display_name=f\"{DATASET_NAME}\",\n",
    "    container_uri=TRAIN_IMAGE,\n",
    "    model_serving_container_image_uri=DEPLOY_IMAGE,\n",
    ")\n",
    "\n",
    "print(job)"
   ]
  },
  {
   "cell_type": "markdown",
   "metadata": {
    "id": "Xc_I_XHz8z6B"
   },
   "source": [
    "### 为 TabNet 训练配置参数设置\n",
    "\n",
    "通过指南 [使用内置的 TabNet 算法入门](https://cloud.google.com/ai-platform/training/docs/algorithms/tab-net-start) 了解更多关于使用 TabNet 的信息。"
   ]
  },
  {
   "cell_type": "code",
   "execution_count": null,
   "metadata": {
    "id": "a987b40417de"
   },
   "outputs": [],
   "source": [
    "ALGORITHM = \"tabnet\"\n",
    "MODEL_TYPE = \"classification\"\n",
    "MODEL_NAME = f\"{DATASET_NAME}_{ALGORITHM}_{MODEL_TYPE}\"\n",
    "\n",
    "OUTPUT_DIR = f\"{BUCKET_URI}/{MODEL_NAME}\"\n",
    "print(\"Output dir: \", OUTPUT_DIR)\n",
    "\n",
    "CMDARGS = [\n",
    "    \"--preprocess\",\n",
    "    \"--data_has_header\",\n",
    "    f\"--training_data_path={TRAINING_DATA_PATH}\",\n",
    "    f\"--job-dir={OUTPUT_DIR}\",\n",
    "    f\"--model_type={MODEL_TYPE}\",\n",
    "    \"--max_steps=2000\",\n",
    "    \"--batch_size=4096\",\n",
    "    \"--learning_rate=0.01\",\n",
    "    \"--prediction_raw_inputs\",\n",
    "    \"--exclude_key\",\n",
    "]"
   ]
  },
  {
   "cell_type": "markdown",
   "metadata": {
    "id": "train_custom_job"
   },
   "source": [
    "运行自定义训练作业并创建TabNet模型\n",
    "\n",
    "使用`run`方法开始训练，该方法接受以下参数：\n",
    "\n",
    "- `model_display_name`：如果脚本生成了托管的`Model`，则为`Model`的显示名称。\n",
    "- `args`：要传递给TabNet训练容器的命令行参数。\n",
    "- `replica_count`：worker副本的数量。\n",
    "- `machine_type`：用于训练的机器类型。\n",
    "- `base_output_dir`：作业的GCS输出目录。\n",
    "- `sync`：是否同步执行此方法。\n",
    "\n",
    "`run`方法创建一个训练管道，训练并创建一个`Model`对象。训练管道完成后，`run`方法将返回`Model`对象。"
   ]
  },
  {
   "cell_type": "code",
   "execution_count": null,
   "metadata": {
    "id": "c0927403746f"
   },
   "outputs": [],
   "source": [
    "MODEL_DIR = OUTPUT_DIR\n",
    "MACHINE_TYPE = \"n1-standard-4\"\n",
    "\n",
    "model = job.run(\n",
    "    model_display_name=f\"{DATASET_NAME}\",\n",
    "    args=CMDARGS,\n",
    "    replica_count=1,\n",
    "    machine_type=MACHINE_TYPE,\n",
    "    base_output_dir=MODEL_DIR,\n",
    "    sync=True,\n",
    ")\n",
    "\n",
    "print(model.gca_resource)"
   ]
  },
  {
   "cell_type": "markdown",
   "metadata": {
    "id": "91d661ac0276"
   },
   "source": [
    "### 删除训练作业\n",
    "\n",
    "使用 `delete()` 方法来删除训练作业。"
   ]
  },
  {
   "cell_type": "code",
   "execution_count": null,
   "metadata": {
    "id": "3e43fc3b7fe8"
   },
   "outputs": [],
   "source": [
    "job.delete()"
   ]
  },
  {
   "cell_type": "markdown",
   "metadata": {
    "id": "75ab2d5dd517"
   },
   "source": [
    "建立一个VPC对等连接网络"
   ]
  },
  {
   "cell_type": "markdown",
   "metadata": {
    "id": "a636147aac60"
   },
   "source": [
    "要使用`PrivateEndpoint`，您需要在您的项目和托管运行模型的Vertex AI预测服务项目之间设置VPC对等网络。 这消除了网络流量中的额外跳跃，并允许使用有效的HTTP协议。\n",
    "\n",
    "了解更多关于[VPC对等](https://cloud.google.com/vertex-ai/docs/general/vpc-peering)的信息。\n",
    "\n",
    "**重要提示：每个项目只能设置一个到servicenetworking.googleapis.com的VPC对等连接。**"
   ]
  },
  {
   "cell_type": "markdown",
   "metadata": {
    "id": "dd8667882684"
   },
   "source": [
    "### 为`default`网络创建VPC peering\n",
    "\n",
    "为了简单起见，我们设置了VPC peering到新建的GCP（Google Cloud Platform）项目默认使用的`default`网络。您也可以为您的项目创建和使用不同的网络。如果您设置了VPC peering到其他网络，请确保该网络已经存在，并且您的虚拟机正在该网络上运行。"
   ]
  },
  {
   "cell_type": "code",
   "execution_count": null,
   "metadata": {
    "id": "e370da6ac004"
   },
   "outputs": [],
   "source": [
    "# This is for display only; you can name the range anything.\n",
    "PEERING_RANGE_NAME = \"vertex-ai-prediction-peering-range\"\n",
    "NETWORK = \"default\"\n",
    "\n",
    "# NOTE: `prefix-length=16` means a CIDR block with mask /16 will be\n",
    "# reserved for use by Google services, such as Vertex AI.\n",
    "! gcloud compute addresses create $PEERING_RANGE_NAME \\\n",
    "  --global \\\n",
    "  --prefix-length=16 \\\n",
    "  --description=\"peering range for Google service\" \\\n",
    "  --network=$NETWORK \\\n",
    "  --purpose=VPC_PEERING"
   ]
  },
  {
   "cell_type": "markdown",
   "metadata": {
    "id": "b232ca5e5f30"
   },
   "source": [
    "### 创建VPC连接\n",
    "\n",
    "为VPC对等连接创建连接。\n",
    "\n",
    "注意：如果收到“PERMISSION DENIED”错误消息，可能是因为您的默认服务帐号没有设置所需的角色`Compute Network Admin`。在Cloud Console中执行以下步骤。\n",
    "\n",
    "1. 在GCP仪表板中转到`IAM & Admin`。\n",
    "2. 找到您的服务账号。\n",
    "3. 点击编辑图标。\n",
    "4. 选择添加另一个角色。\n",
    "5. 输入`Compute Network Admin`。\n",
    "6. 选择保存。"
   ]
  },
  {
   "cell_type": "code",
   "execution_count": null,
   "metadata": {
    "id": "d633014964f4"
   },
   "outputs": [],
   "source": [
    "! gcloud services vpc-peerings connect \\\n",
    "  --service=servicenetworking.googleapis.com \\\n",
    "  --network=$NETWORK \\\n",
    "  --ranges=$PEERING_RANGE_NAME \\\n",
    "  --project=$PROJECT_ID"
   ]
  },
  {
   "cell_type": "markdown",
   "metadata": {
    "id": "07c4452da03a"
   },
   "source": [
    "检查您对等连接的状态。"
   ]
  },
  {
   "cell_type": "code",
   "execution_count": null,
   "metadata": {
    "id": "b87fb56c5b53"
   },
   "outputs": [],
   "source": [
    "! gcloud compute networks peerings list --network $NETWORK"
   ]
  },
  {
   "cell_type": "markdown",
   "metadata": {
    "id": "604e1798f14a"
   },
   "source": [
    "### 构建完整的网络名称\n",
    "\n",
    "在随后为VPC peering创建`PrivateEndpoint`资源时，您需要拥有完整的网络资源名称。"
   ]
  },
  {
   "cell_type": "code",
   "execution_count": null,
   "metadata": {
    "id": "0dda2dcfe5fe"
   },
   "outputs": [],
   "source": [
    "project_number = model.resource_name.split(\"/\")[1]\n",
    "print(project_number)\n",
    "\n",
    "full_network_name = f\"projects/{project_number}/global/networks/{NETWORK}\"\n",
    "full_network_name"
   ]
  },
  {
   "cell_type": "markdown",
   "metadata": {
    "id": "69cebf72d1e6"
   },
   "source": [
    "## 创建一个`PrivateEndpoint`资源\n",
    "\n",
    "使用`PrivateEndpoint.create()`方法创建一个`PrivateEndpoint`资源。\n",
    "\n",
    "在这个示例中，指定了以下参数：\n",
    "\n",
    "- `display_name`：`PrivateEndpoint`资源的人类可读的名称。\n",
    "- `network`：VPC peering的完整网络资源名称。"
   ]
  },
  {
   "cell_type": "code",
   "execution_count": null,
   "metadata": {
    "id": "4f51d5c47bdf"
   },
   "outputs": [],
   "source": [
    "if not os.getenv(\"IS_TESTING\"):\n",
    "    private_endpoint = aiplatform.PrivateEndpoint.create(\n",
    "        display_name=f\"{DATASET_NAME}_private_endpoint\",\n",
    "        network=full_network_name,\n",
    "    )"
   ]
  },
  {
   "cell_type": "markdown",
   "metadata": {
    "id": "2a720a453814"
   },
   "source": [
    "获取`PrivateEndpoint`资源的详细信息\n",
    "\n",
    "查看具有属性`gca_resource`的`PrivateEndpoint`对象的底层详细信息。"
   ]
  },
  {
   "cell_type": "code",
   "execution_count": null,
   "metadata": {
    "id": "bf2d72ebf6c1"
   },
   "outputs": [],
   "source": [
    "if not os.getenv(\"IS_TESTING\"):\n",
    "    private_endpoint.gca_resource"
   ]
  },
  {
   "cell_type": "markdown",
   "metadata": {
    "id": "deploy_model:dedicated"
   },
   "source": [
    "将TabNet模型部署到`PrivateEndpoint`中\n",
    "\n",
    "将TabNet模型部署到新创建的`PrivateEndpoint`资源上，以对传入数据样本进行预测。\n",
    "\n",
    "该函数接受以下参数：\n",
    "\n",
    "- `model`: 要部署的模型。\n",
    "- `deployed_model_display_name`: 用于部署模型的人类可读名称。\n",
    "- `machine_type`: 用于训练的机器类型。\n",
    "\n",
    "该方法将阻塞，直到模型被部署，并最终返回一个`PrivateEndpoint`对象。如果这是将模型首次部署到端点，则可能需要额外几分钟来完成资源的供应。"
   ]
  },
  {
   "cell_type": "code",
   "execution_count": null,
   "metadata": {
    "id": "4e08de0c4d6f"
   },
   "outputs": [],
   "source": [
    "DEPLOYED_NAME = f\"{DATASET_NAME}_deployed_model\"\n",
    "\n",
    "if not os.getenv(\"IS_TESTING\"):\n",
    "    response = private_endpoint.deploy(\n",
    "        model=model,\n",
    "        deployed_model_display_name=DEPLOYED_NAME,\n",
    "        machine_type=\"n1-standard-4\",\n",
    "    )"
   ]
  },
  {
   "cell_type": "markdown",
   "metadata": {
    "id": "6a7e8daa2350"
   },
   "source": [
    "### 获取服务签名\n",
    "\n",
    "在本地下载模型并查询其服务签名。服务签名的形式如下：\n",
    "\n",
    "    ( \"feature_name_1\",  \"feature_name_2\", ... )"
   ]
  },
  {
   "cell_type": "code",
   "execution_count": null,
   "metadata": {
    "id": "23374479e310"
   },
   "outputs": [],
   "source": [
    "import tensorflow as tf\n",
    "\n",
    "loaded = tf.saved_model.load(MODEL_DIR + \"/model\")\n",
    "loaded.signatures"
   ]
  },
  {
   "cell_type": "markdown",
   "metadata": {
    "id": "9321a211f2f7"
   },
   "source": [
    "最后，使用`predict()`方法进行预测。每个实例都以以下字典格式指定：\n",
    "\n",
    "{ \"feature_name_1\": value, \"feature_name_2\", value, ... }"
   ]
  },
  {
   "cell_type": "code",
   "execution_count": null,
   "metadata": {
    "id": "625fc7368b65"
   },
   "outputs": [],
   "source": [
    "if not os.getenv(\"IS_TESTING\"):\n",
    "    prediction = private_endpoint.predict(\n",
    "        [\n",
    "            {\n",
    "                \"Age\": 3,\n",
    "                \"Breed1\": \"Tabby\",\n",
    "                \"Color1\": \"Black\",\n",
    "                \"Color2\": \"White\",\n",
    "                \"Fee\": 100,\n",
    "                \"FurLength\": \"Short\",\n",
    "                \"Gender\": \"Male\",\n",
    "                \"Health\": \"Healthy\",\n",
    "                \"MaturitySize\": \"Small\",\n",
    "                \"PhotoAmt\": 2,\n",
    "                \"Sterilized\": \"No\",\n",
    "                \"Type\": \"Cat\",\n",
    "                \"Vaccinated\": \"No\",\n",
    "            }\n",
    "        ]\n",
    "    )\n",
    "\n",
    "    print(prediction)"
   ]
  },
  {
   "cell_type": "markdown",
   "metadata": {
    "id": "TpV-iwP9qw9c"
   },
   "source": [
    "清理工作\n",
    "\n",
    "要清理此项目中使用的所有Google Cloud资源，您可以删除您用于本教程的[Google Cloud项目](https://cloud.google.com/resource-manager/docs/creating-managing-projects#shutting_down_projects)。\n",
    "\n",
    "否则，您可以删除本教程中创建的各个资源。"
   ]
  },
  {
   "cell_type": "code",
   "execution_count": null,
   "metadata": {
    "id": "sx_vKniMq9ZX"
   },
   "outputs": [],
   "source": [
    "delete_bucket = False\n",
    "try:\n",
    "    private_endpoint.delete(force=True)\n",
    "    model.delete()\n",
    "except Exception as e:\n",
    "    print(e)\n",
    "\n",
    "if delete_bucket or os.getenv(\"IS_TESTING\"):\n",
    "    ! gsutil rm -r $BUCKET_URI"
   ]
  }
 ],
 "metadata": {
  "colab": {
   "collapsed_sections": [],
   "name": "sdk_private_endpoint.ipynb",
   "toc_visible": true
  },
  "kernelspec": {
   "display_name": "Python 3",
   "name": "python3"
  }
 },
 "nbformat": 4,
 "nbformat_minor": 0
}
