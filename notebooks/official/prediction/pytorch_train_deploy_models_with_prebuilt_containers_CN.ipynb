{
 "cells": [
  {
   "cell_type": "code",
   "execution_count": null,
   "metadata": {
    "id": "ur8xi4C7S06n"
   },
   "outputs": [],
   "source": [
    "# Copyright 2023 Google LLC\n",
    "#\n",
    "# Licensed under the Apache License, Version 2.0 (the \"License\");\n",
    "# you may not use this file except in compliance with the License.\n",
    "# You may obtain a copy of the License at\n",
    "#\n",
    "#     https://www.apache.org/licenses/LICENSE-2.0\n",
    "#\n",
    "# Unless required by applicable law or agreed to in writing, software\n",
    "# distributed under the License is distributed on an \"AS IS\" BASIS,\n",
    "# WITHOUT WARRANTIES OR CONDITIONS OF ANY KIND, either express or implied.\n",
    "# See the License for the specific language governing permissions and\n",
    "# limitations under the License."
   ]
  },
  {
   "cell_type": "markdown",
   "metadata": {
    "id": "JAPoU8Sm5E6e"
   },
   "source": [
    "使用Vertex AI上的预构建容器来训练和部署PyTorch模型\n",
    "\n",
    "# 使用预构建容器在Vertex AI上训练和部署PyTorch模型\n",
    "\n",
    "<table align=\"left\">\n",
    "\n",
    "  <td style=\"text-align: center\">\n",
    "    <a href=\"https://colab.research.google.com/github/GoogleCloudPlatform/vertex-ai-samples/blob/main/notebooks/official/prediction/pytorch_train_deploy_models_with_prebuilt_containers.ipynb\">\n",
    "      <img src=\"https://cloud.google.com/ml-engine/images/colab-logo-32px.png\" alt=\"Colab logo\"><br> 在Colab中运行\n",
    "    </a>\n",
    "  </td>\n",
    "  <td style=\"text-align: center\">\n",
    "    <a href=\"https://console.cloud.google.com/vertex-ai/colab/import/https:%2F%2Fraw.githubusercontent.com%2FGoogleCloudPlatform%2Fvertex-ai-samples%2Fmain%2Fnotebooks%2Fofficial%2Fprediction%2Fpytorch_train_deploy_models_with_prebuilt_containers.ipynb\">\n",
    "      <img width=\"32px\" src=\"https://cloud.google.com/ml-engine/images/colab-enterprise-logo-32px.png\" alt=\"Google Cloud Colab Enterprise logo\"><br> 在Colab企业版中打开\n",
    "    </a>\n",
    "  </td> \n",
    "  <td style=\"text-align: center\">\n",
    "    <a href=\"https://console.cloud.google.com/vertex-ai/workbench/deploy-notebook?download_url=https://raw.githubusercontent.com/GoogleCloudPlatform/vertex-ai-samples/main/notebooks/official/prediction/pytorch_train_deploy_models_with_prebuilt_containers.ipynb\">\n",
    "      <img src=\"https://lh3.googleusercontent.com/UiNooY4LUgW_oTvpsNhPpQzsstV5W8F7rYgxgGBD85cWJoLmrOzhVs_ksK_vgx40SHs7jCqkTkCk=e14-rj-sc0xffffff-h130-w32\" alt=\"Vertex AI logo\"><br>\n",
    "      在Vertex AI工作台中打开\n",
    "    </a>\n",
    "  </td>\n",
    "  <td style=\"text-align: center\">\n",
    "    <a href=\"https://github.com/GoogleCloudPlatform/vertex-ai-samples/blob/main/notebooks/official/prediction/pytorch_train_deploy_models_with_prebuilt_containers.ipynb\">\n",
    "      <img src=\"https://cloud.google.com/ml-engine/images/github-logo-32px.png\" alt=\"GitHub logo\"><br>\n",
    "      在GitHub上查看\n",
    "    </a>\n",
    "  </td>\n",
    "</table>"
   ]
  },
  {
   "cell_type": "markdown",
   "metadata": {
    "id": "tvgnzT1CKxrO"
   },
   "source": [
    "## 概述\n",
    "\n",
    "Vertex AI 提供了 Docker 容器映像，您可以将其作为预构建容器运行，用于自定义训练和预测。这些容器按机器学习（ML）框架和框架版本组织，包括您可能想在训练代码和提供预测中使用的常见依赖项。使用预构建容器通常比创建自定义容器更简单。\n",
    "\n",
    "本教程演示如何使用 Vertex AI 上预构建容器训练和部署一个 PyTorch 图像模型。\n",
    "\n",
    "了解更多关于[预构建容器用于自定义训练](https://cloud.google.com/vertex-ai/docs/training/pre-built-containers)和[预构建容器用于预测和解释](https://cloud.google.com/vertex-ai/docs/predictions/pre-built-containers)。"
   ]
  },
  {
   "cell_type": "markdown",
   "metadata": {
    "id": "d975e698c9a4"
   },
   "source": [
    "### 目标\n",
    "\n",
    "在本教程中，您将学习如何构建、训练和部署一个 PyTorch 图像分类模型，使用预构建的容器进行自定义训练和预测。\n",
    "\n",
    "本教程使用以下 Vertex AI 服务和资源：\n",
    "\n",
    "- Vertex AI 训练服务\n",
    "- Vertex AI 预测服务\n",
    "- Vertex AI 模型注册表\n",
    "- Vertex AI 模型资源\n",
    "- Vertex AI 端点资源\n",
    "\n",
    "执行的步骤包括：\n",
    "\n",
    "- 将训练应用程序打包为 Python 源代码分发包\n",
    "- 配置并在预构建容器中运行训练作业\n",
    "- 将模型工件打包成模型归档文件\n",
    "- 上传模型以进行部署\n",
    "- 使用预构建容器部署模型进行预测\n",
    "- 进行在线预测"
   ]
  },
  {
   "cell_type": "markdown",
   "metadata": {
    "id": "08d289fa873f"
   },
   "source": [
    "### 数据集/模型\n",
    "\n",
    "在本教程中，您将使用 PyTorch torchvision 模块中的 [MNIST](https://pytorch.org/vision/main/generated/torchvision.datasets.MNIST.html) 手写数字识别数据集。您将在MNIST数据集上训练一个简单的卷积神经网络，用于识别手写数字。"
   ]
  },
  {
   "cell_type": "markdown",
   "metadata": {
    "id": "aed92deeb4a0"
   },
   "source": [
    "费用\n",
    "\n",
    "本教程使用谷歌云的计费组件：\n",
    "\n",
    "* Vertex AI\n",
    "* 云存储\n",
    "\n",
    "了解[Vertex AI价格](https://cloud.google.com/vertex-ai/pricing)，\n",
    "以及[云存储价格](https://cloud.google.com/storage/pricing)，\n",
    "并使用[定价计算器](https://cloud.google.com/products/calculator/)\n",
    "根据您的预期使用量生成成本估算。"
   ]
  },
  {
   "cell_type": "markdown",
   "metadata": {
    "id": "i7EUnXsZhAGF"
   },
   "source": [
    "开始吧"
   ]
  },
  {
   "cell_type": "markdown",
   "metadata": {
    "id": "a2c2cb2109a0"
   },
   "source": [
    "### 安装用于Python的Vertex AI SDK和其他所需的软件包"
   ]
  },
  {
   "cell_type": "code",
   "execution_count": null,
   "metadata": {
    "id": "2b4ef9b72d43"
   },
   "outputs": [],
   "source": [
    "! pip3 install --upgrade --quiet google-cloud-aiplatform \\\n",
    "                                 torch \\\n",
    "                                 torchvision \\\n",
    "                                 torch-model-archiver"
   ]
  },
  {
   "cell_type": "markdown",
   "metadata": {
    "id": "58707a750154"
   },
   "source": [
    "重新启动运行时（仅适用于Colab）\n",
    "\n",
    "要使用新安装的包，您必须在Google Colab上重新启动运行时。"
   ]
  },
  {
   "cell_type": "code",
   "execution_count": null,
   "metadata": {
    "id": "f200f10a1da3"
   },
   "outputs": [],
   "source": [
    "import sys\n",
    "\n",
    "if \"google.colab\" in sys.modules:\n",
    "\n",
    "    import IPython\n",
    "\n",
    "    app = IPython.Application.instance()\n",
    "    app.kernel.do_shutdown(True)"
   ]
  },
  {
   "cell_type": "markdown",
   "metadata": {
    "id": "ee775571c2b5"
   },
   "source": [
    "<div class=\"alert alert-block alert-warning\">\n",
    "<b>⚠️ 内核即将重新启动。在继续下一步之前，请等待完成。⚠️</b>\n",
    "</div>"
   ]
  },
  {
   "cell_type": "markdown",
   "metadata": {
    "id": "f82e28c631cc"
   },
   "source": [
    "### 在谷歌 Colab 上验证您的笔记本环境\n",
    "\n",
    "在谷歌 Colab 上验证您的环境。"
   ]
  },
  {
   "cell_type": "code",
   "execution_count": null,
   "metadata": {
    "id": "46604f70e831"
   },
   "outputs": [],
   "source": [
    "import sys\n",
    "\n",
    "if \"google.colab\" in sys.modules:\n",
    "\n",
    "    from google.colab import auth\n",
    "\n",
    "    auth.authenticate_user()"
   ]
  },
  {
   "cell_type": "markdown",
   "metadata": {
    "id": "4f872cd812d0"
   },
   "source": [
    "### 设置Google Cloud项目信息并为Python初始化Vertex AI SDK\n",
    "\n",
    "要开始使用Vertex AI，您必须拥有现有的Google Cloud项目并[启用Vertex AI API](https://console.cloud.google.com/flows/enableapi?apiid=aiplatform.googleapis.com)。了解更多关于[设置项目和开发环境](https://cloud.google.com/vertex-ai/docs/start/cloud-environment)的信息。"
   ]
  },
  {
   "cell_type": "code",
   "execution_count": null,
   "metadata": {
    "id": "oM1iC_MfAts1"
   },
   "outputs": [],
   "source": [
    "PROJECT_ID = \"[your-project-id]\"  # @param {type:\"string\"}\n",
    "LOCATION = \"us-central1\"  # @param {type:\"string\"}"
   ]
  },
  {
   "cell_type": "code",
   "execution_count": null,
   "metadata": {
    "id": "MzGDU7TWdts_"
   },
   "outputs": [],
   "source": [
    "BUCKET_URI = f\"gs://your-bucket-name-{PROJECT_ID}-unique\"  # @param {type:\"string\"}"
   ]
  },
  {
   "cell_type": "markdown",
   "metadata": {
    "id": "zgPO1eR3CYjk"
   },
   "source": [
    "### 创建一个云存储桶\n",
    "\n",
    "创建一个存储桶来存储诸如数据集等中间产物。"
   ]
  },
  {
   "cell_type": "markdown",
   "metadata": {
    "id": "-EcIXiGsCePi"
   },
   "source": [
    "如果您的存储桶尚不存在：运行以下单元格以创建您的云存储存储桶。"
   ]
  },
  {
   "cell_type": "code",
   "execution_count": null,
   "metadata": {
    "id": "NIq7R4HZCfIc"
   },
   "outputs": [],
   "source": [
    "! gsutil mb -l {LOCATION} -p {PROJECT_ID} {BUCKET_URI}"
   ]
  },
  {
   "cell_type": "markdown",
   "metadata": {
    "id": "a56633b047ee"
   },
   "source": [
    "### 为Python初始化Vertex AI SDK"
   ]
  },
  {
   "cell_type": "code",
   "execution_count": null,
   "metadata": {
    "id": "a4f61991b160"
   },
   "outputs": [],
   "source": [
    "from google.cloud import aiplatform\n",
    "\n",
    "aiplatform.init(project=PROJECT_ID, location=LOCATION, staging_bucket=BUCKET_URI)"
   ]
  },
  {
   "cell_type": "markdown",
   "metadata": {
    "id": "960505627ddf"
   },
   "source": [
    "### 导入库"
   ]
  },
  {
   "cell_type": "code",
   "execution_count": null,
   "metadata": {
    "id": "PyQmSRbKA8r-"
   },
   "outputs": [],
   "source": [
    "import base64\n",
    "import io\n",
    "import os\n",
    "\n",
    "from matplotlib import pyplot as plt\n",
    "from torch.utils.data import DataLoader\n",
    "from torchvision import datasets, transforms"
   ]
  },
  {
   "cell_type": "markdown",
   "metadata": {
    "id": "99DcIE4H54HA"
   },
   "source": [
    "使用预构建的容器训练 PyTorch 模型。在本教程中，您将使用预建容器为 PyTorch 模型训练自定义模型。"
   ]
  },
  {
   "cell_type": "markdown",
   "metadata": {
    "id": "UOSGkpmJ6r7v"
   },
   "source": [
    "### 打包一个培训应用程序\n",
    "\n",
    "#### 包布局\n",
    "\n",
    "在开始培训之前，让我们看看如何为客户定制的培训任务组装 Python 包。解压后，该包包含以下内容：\n",
    "\n",
    "- PKG-INFO\n",
    "- README.md\n",
    "- setup.cfg\n",
    "- setup.py\n",
    "- trainer\n",
    "  - \\_\\_init\\_\\_.py\n",
    "  - task.py\n",
    "\n",
    "文件 `setup.cfg` 和 `setup.py` 是将包安装到 Docker 镜像的操作环境中的指令。"
   ]
  },
  {
   "cell_type": "code",
   "execution_count": null,
   "metadata": {
    "id": "KIWLwZe3q1uu"
   },
   "outputs": [],
   "source": [
    "APP_NAME = \"pytorch_101_trainer\"\n",
    "PYTHON_PACKAGE_APPLICATION_DIR = \"python_package\"\n",
    "\n",
    "source_package_file_name = (\n",
    "    f\"{PYTHON_PACKAGE_APPLICATION_DIR}/dist/{APP_NAME}-0.1.tar.gz\"\n",
    ")\n",
    "python_package_gcs_uri = f\"{BUCKET_URI}/pytorch/training/{APP_NAME}-0.1.tar.gz\""
   ]
  },
  {
   "cell_type": "code",
   "execution_count": null,
   "metadata": {
    "id": "KRy-N9edq2OM"
   },
   "outputs": [],
   "source": [
    "! mkdir {PYTHON_PACKAGE_APPLICATION_DIR}\n",
    "! mkdir {PYTHON_PACKAGE_APPLICATION_DIR}/trainer\n",
    "\n",
    "! touch {PYTHON_PACKAGE_APPLICATION_DIR}/README.md\n",
    "! touch {PYTHON_PACKAGE_APPLICATION_DIR}/trainer/__init__.py"
   ]
  },
  {
   "cell_type": "code",
   "execution_count": null,
   "metadata": {
    "id": "1fi56Stvq2SG"
   },
   "outputs": [],
   "source": [
    "%%writefile ./{PYTHON_PACKAGE_APPLICATION_DIR}/setup.py\n",
    "\n",
    "import os\n",
    "from setuptools import find_packages\n",
    "from setuptools import setup\n",
    "import setuptools\n",
    "\n",
    "from distutils.command.build import build as _build\n",
    "import subprocess\n",
    "\n",
    "\n",
    "REQUIRED_PACKAGES = [\n",
    "]\n",
    "\n",
    "setup(\n",
    "    name='pytorch_101_trainer',\n",
    "    version='0.1',\n",
    "    install_requires=REQUIRED_PACKAGES,\n",
    "    packages=find_packages(),\n",
    "    include_package_data=True,\n",
    "    description='Vertex AI | Training | PyTorch | Image Classification | Python Package'\n",
    ")"
   ]
  },
  {
   "cell_type": "markdown",
   "metadata": {
    "id": "IVz8V3b57R0M"
   },
   "source": [
    "准备训练脚本\n",
    "\n",
    "文件`trainer/task.py`是执行自定义训练作业的Python脚本。"
   ]
  },
  {
   "cell_type": "code",
   "execution_count": null,
   "metadata": {
    "id": "cVgqlhM9q2Vo"
   },
   "outputs": [],
   "source": [
    "%%writefile ./{PYTHON_PACKAGE_APPLICATION_DIR}/trainer/task.py\n",
    "\n",
    "import os\n",
    "import argparse\n",
    "\n",
    "import torch\n",
    "from torch import nn\n",
    "from torch.utils.data import DataLoader\n",
    "from torchvision import datasets\n",
    "from torchvision.transforms import ToTensor\n",
    "\n",
    "from google.cloud import storage\n",
    "\n",
    "\n",
    "def load_data(batch_size):\n",
    "  # Download training data from open datasets\n",
    "  training_data = datasets.MNIST(\n",
    "      root=\"data\",\n",
    "      train=True,\n",
    "      download=True,\n",
    "      transform=ToTensor(),\n",
    "  )\n",
    "\n",
    "  # Download test data from open datasets\n",
    "  test_data = datasets.MNIST(\n",
    "      root=\"data\",\n",
    "      train=False,\n",
    "      download=True,\n",
    "      transform=ToTensor(),\n",
    "  )\n",
    "\n",
    "  # Create data loaders\n",
    "  train_dataloader = DataLoader(training_data, batch_size=batch_size)\n",
    "  test_dataloader = DataLoader(test_data, batch_size=batch_size)\n",
    "\n",
    "  return train_dataloader, test_dataloader\n",
    "\n",
    "def create_model(device):\n",
    "  # Define model\n",
    "  class NeuralNetwork(nn.Module):\n",
    "    def __init__(self):\n",
    "        super().__init__()\n",
    "        self.flatten = nn.Flatten()\n",
    "        self.linear_relu_stack = nn.Sequential(\n",
    "            nn.Linear(28*28, 512),\n",
    "            nn.ReLU(),\n",
    "            nn.Linear(512, 512),\n",
    "            nn.ReLU(),\n",
    "            nn.Linear(512, 10)\n",
    "        )\n",
    "\n",
    "    def forward(self, x):\n",
    "        x = self.flatten(x)\n",
    "        logits = self.linear_relu_stack(x)\n",
    "        return logits\n",
    "\n",
    "  model = NeuralNetwork().to(device)\n",
    "\n",
    "  return model\n",
    "\n",
    "def train(dataloader, model, loss_fn, optimizer, device):\n",
    "    size = len(dataloader.dataset)\n",
    "    model.train()\n",
    "    for batch, (X, y) in enumerate(dataloader):\n",
    "        X, y = X.to(device), y.to(device)\n",
    "\n",
    "        pred = model(X)\n",
    "        loss = loss_fn(pred, y)\n",
    "\n",
    "        optimizer.zero_grad()\n",
    "        loss.backward()\n",
    "        optimizer.step()\n",
    "\n",
    "        if batch % 100 == 0:\n",
    "            loss, current = loss.item(), batch * len(X)\n",
    "            print(f\"loss: {loss:>7f}  [{current:>5d}/{size:>5d}]\")\n",
    "\n",
    "def test(dataloader, model, loss_fn, device):\n",
    "    size = len(dataloader.dataset)\n",
    "    num_batches = len(dataloader)\n",
    "    model.eval()\n",
    "    test_loss, correct = 0, 0\n",
    "    with torch.no_grad():\n",
    "        for X, y in dataloader:\n",
    "            X, y = X.to(device), y.to(device)\n",
    "            pred = model(X)\n",
    "            test_loss += loss_fn(pred, y).item()\n",
    "            correct += (pred.argmax(1) == y).type(torch.float).sum().item()\n",
    "    test_loss /= num_batches\n",
    "    correct /= size\n",
    "    print(f\"Test Error: \\n Accuracy: {(100*correct):>0.1f}%, Avg loss: {test_loss:>8f} \\n\")\n",
    "\n",
    "\n",
    "def main():\n",
    "  parser = argparse.ArgumentParser(formatter_class=argparse.ArgumentDefaultsHelpFormatter)\n",
    "  parser.add_argument(\"--epochs\", type=int, help=\"Number of training epochs.\", default=2)\n",
    "  parser.add_argument(\"--batch_size\", type=int, help=\"Training batch size for one process.\", default=32)\n",
    "  parser.add_argument(\"--model_dir\", type=str, help=\"Directory for saving models.\", default=os.environ['AIP_MODEL_DIR'] if 'AIP_MODEL_DIR' in os.environ else \"\")\n",
    "  argv = parser.parse_args()\n",
    "\n",
    "  train_dataloader, test_dataloader = load_data(argv.batch_size)\n",
    "\n",
    "  # Get cpu or gpu device for training\n",
    "  device = \"cuda\" if torch.cuda.is_available() else \"mps\" if torch.backends.mps.is_available() else \"cpu\"\n",
    "  print(f\"Using {device} device\")\n",
    "\n",
    "  model = create_model(device)\n",
    "\n",
    "  # Define a loss function and an optimizer.\n",
    "  loss_fn = nn.CrossEntropyLoss()\n",
    "  optimizer = torch.optim.SGD(model.parameters(), lr=1e-3)\n",
    "\n",
    "  for t in range(argv.epochs):\n",
    "      print(f\"Epoch {t+1}\\n-------------------------------\")\n",
    "      train(train_dataloader, model, loss_fn, optimizer, device)\n",
    "      test(test_dataloader, model, loss_fn, device)\n",
    "  print(\"Done!\")\n",
    "\n",
    "  # Export the model to TorchScript\n",
    "  model_filename = \"pytorch-mnist.pt\"\n",
    "  local_path = os.path.join(\"/tmp\", model_filename)\n",
    "  model_scripted = torch.jit.script(model)\n",
    "  model_scripted.save(local_path)\n",
    "\n",
    "  if (os.path.exists(local_path)):\n",
    "    # Upload the trained model to Cloud storage\n",
    "    storage_path = os.path.join(argv.model_dir, model_filename)\n",
    "    blob = storage.blob.Blob.from_string(storage_path, client=storage.Client())\n",
    "    blob.upload_from_filename(local_path)\n",
    "    print(f\"Saved model files in {argv.model_dir}\")\n",
    "\n",
    "if __name__ == \"__main__\":\n",
    "    main()"
   ]
  },
  {
   "cell_type": "markdown",
   "metadata": {
    "id": "5WRTlkEw7ugt"
   },
   "source": [
    "创建一个Python源码分发包\n",
    "\n",
    "您可以将您的训练应用程序与Python源码分发包一起上传到您的云存储桶。"
   ]
  },
  {
   "cell_type": "code",
   "execution_count": null,
   "metadata": {
    "id": "WUS6ap2W1JeI"
   },
   "outputs": [],
   "source": [
    "! cd {PYTHON_PACKAGE_APPLICATION_DIR} && python3 setup.py sdist --formats=gztar\n",
    "! gsutil cp {source_package_file_name} {python_package_gcs_uri}\n",
    "\n",
    "print(f\"Python source distribution package location: {python_package_gcs_uri}\")"
   ]
  },
  {
   "cell_type": "markdown",
   "metadata": {
    "id": "VOyihOMh8Q3B"
   },
   "source": [
    "### 配置自定义训练作业\n",
    "\n",
    "使用打包为Python源代码分发的培训代码的[预构建容器](https://cloud.google.com/vertex-ai/docs/training/create-custom-job)图像配置一个[自定义作业](https://cloud.google.com/vertex-ai/docs/training/pre-built-containers)。"
   ]
  },
  {
   "cell_type": "code",
   "execution_count": null,
   "metadata": {
    "id": "x6ehn8V_1Prx"
   },
   "outputs": [],
   "source": [
    "JOB_DISPLAY_NAME = \"pytorch-custom-job-unique\"\n",
    "python_module_name = \"trainer.task\"\n",
    "PRE_BUILT_TRAINING_CONTAINER_IMAGE_URI = (\n",
    "    \"us-docker.pkg.dev/vertex-ai/training/pytorch-gpu.1-13:latest\"\n",
    ")\n",
    "\n",
    "job = aiplatform.CustomPythonPackageTrainingJob(\n",
    "    display_name=JOB_DISPLAY_NAME,\n",
    "    python_package_gcs_uri=python_package_gcs_uri,\n",
    "    python_module_name=python_module_name,\n",
    "    container_uri=PRE_BUILT_TRAINING_CONTAINER_IMAGE_URI,\n",
    ")"
   ]
  },
  {
   "cell_type": "markdown",
   "metadata": {
    "id": "Un0gwmrv80Ya"
   },
   "source": [
    "### 运行自定义训练作业\n",
    "\n",
    "接下来，您可以通过调用`run`方法来运行自定义作业开始训练作业。\n",
    "\n",
    "**注意：** 当使用 Python 的 Vertex AI SDK 提交训练作业时，它会创建一个[训练流水线](https://cloud.google.com/vertex-ai/docs/training/create-training-pipeline)，并在`Vertex AI Training` 服务上启动自定义作业。"
   ]
  },
  {
   "cell_type": "code",
   "execution_count": null,
   "metadata": {
    "id": "VXdr0et51h-H"
   },
   "outputs": [],
   "source": [
    "MACHINE_TYPE = \"n1-standard-4\"\n",
    "ACCELERATOR_TYPE = \"NVIDIA_TESLA_V100\"\n",
    "ACCELERATOR_COUNT = 1\n",
    "\n",
    "EPOCHS = 1\n",
    "BATCH_SIZE = 32\n",
    "MODEL_DIR = f\"{BUCKET_URI}/{JOB_DISPLAY_NAME}\"\n",
    "\n",
    "training_args = [\n",
    "    \"--epochs\",\n",
    "    str(EPOCHS),\n",
    "    \"--batch_size\",\n",
    "    str(BATCH_SIZE),\n",
    "    \"--model_dir\",\n",
    "    MODEL_DIR,\n",
    "]"
   ]
  },
  {
   "cell_type": "code",
   "execution_count": null,
   "metadata": {
    "id": "Vl4cDy9r1nnX"
   },
   "outputs": [],
   "source": [
    "model = job.run(\n",
    "    machine_type=MACHINE_TYPE,\n",
    "    accelerator_type=ACCELERATOR_TYPE,\n",
    "    accelerator_count=ACCELERATOR_COUNT,\n",
    "    base_output_dir=MODEL_DIR,\n",
    "    replica_count=1,\n",
    "    args=training_args,\n",
    "    sync=True,\n",
    ")"
   ]
  },
  {
   "cell_type": "markdown",
   "metadata": {
    "id": "abjl3sgM-sOt"
   },
   "source": [
    "检查模型工件\n",
    "\n",
    "当自定义训练作业完成后，您可以在云存储位置检查模型工件。"
   ]
  },
  {
   "cell_type": "code",
   "execution_count": null,
   "metadata": {
    "id": "ch36B6ju16z9"
   },
   "outputs": [],
   "source": [
    "print(f\"Model artifacts are available at {MODEL_DIR}\")\n",
    "! gsutil ls -l {MODEL_DIR}"
   ]
  },
  {
   "cell_type": "markdown",
   "metadata": {
    "id": "ATeuG5I12BO9"
   },
   "source": [
    "将PyTorch模型部署到预构建的容器进行预测\n",
    "\n",
    "您可以创建一个本地目录，然后将模型的构件从云存储复制到这个本地目录中。"
   ]
  },
  {
   "cell_type": "code",
   "execution_count": null,
   "metadata": {
    "id": "awSZOd1i2EtZ"
   },
   "outputs": [],
   "source": [
    "# Create a local directory for model artifacts\n",
    "model_path = \"model-unique\"\n",
    "\n",
    "if not os.path.exists(model_path):\n",
    "    ! mkdir {model_path}"
   ]
  },
  {
   "cell_type": "code",
   "execution_count": null,
   "metadata": {
    "id": "9raKhhpt3epG"
   },
   "outputs": [],
   "source": [
    "model_name = \"pytorch-mnist.pt\"\n",
    "model_file = f\"{model_path}/{model_name}\"\n",
    "\n",
    "! gsutil cp {MODEL_DIR}/{model_name} {model_file}"
   ]
  },
  {
   "cell_type": "markdown",
   "metadata": {
    "id": "U6W-18UUCBMn"
   },
   "source": [
    "创建自定义模型处理程序\n",
    "\n",
    "自定义模型处理程序是一个Python脚本，在使用模型归档程序时，您将其与模型打包在一起。该脚本通常定义如何预处理输入数据，调用模型以及后处理输出。TorchServe为`image_classifier`、`image_segmenter`、`object_detector`和`text_classifier`提供了[默认处理程序](https://pytorch.org/serve/default_handlers.html)。在本教程中，您将创建一个自定义处理程序，扩展默认的[`image_classifier`](https://github.com/pytorch/serve/blob/master/ts/torch_handler/image_classifier.py)处理程序。这个自定义处理程序扩展了默认处理程序image_classifier.py中的ImageClassifier类，接受一个图像并返回该图像中的数字。"
   ]
  },
  {
   "cell_type": "code",
   "execution_count": null,
   "metadata": {
    "id": "nW67E74lCDwA"
   },
   "outputs": [],
   "source": [
    "hander_file = f\"{model_path}/custom_handler.py\""
   ]
  },
  {
   "cell_type": "code",
   "execution_count": null,
   "metadata": {
    "id": "YYUOBdvq3Z8G"
   },
   "outputs": [],
   "source": [
    "%%writefile {hander_file}\n",
    "\n",
    "from torchvision import transforms\n",
    "from ts.torch_handler.image_classifier import ImageClassifier\n",
    "from torch.profiler import ProfilerActivity\n",
    "\n",
    "\n",
    "class MNISTDigitClassifier(ImageClassifier):\n",
    "    \"\"\"\n",
    "    MNISTDigitClassifier handler class. This handler extends class ImageClassifier from image_classifier.py, a\n",
    "    default handler. This handler takes an image and returns the number in that image.\n",
    "    \"\"\"\n",
    "\n",
    "    # Normalize MNIST images\n",
    "    image_processing = transforms.Compose([\n",
    "        transforms.ToTensor(),\n",
    "        transforms.Normalize((0.1307,), (0.3081,))\n",
    "    ])\n",
    "\n",
    "    def __init__(self):\n",
    "        super(MNISTDigitClassifier, self).__init__()\n",
    "        self.profiler_args = {\n",
    "            \"activities\" : [ProfilerActivity.CPU],\n",
    "            \"record_shapes\": True,\n",
    "        }\n",
    "\n",
    "\n",
    "    def postprocess(self, data):\n",
    "        \"\"\"The post process of MNIST converts the predicted output response to a label.\n",
    "        Args:\n",
    "            data (list): The predicted output from the Inference with probabilities is passed\n",
    "            to the post-process function\n",
    "        Returns:\n",
    "            list : A list of dictionaries with predictions\n",
    "        \"\"\"\n",
    "        return data.argmax(1).tolist()"
   ]
  },
  {
   "cell_type": "markdown",
   "metadata": {
    "id": "JY-yZ9xzCSSe"
   },
   "source": [
    "将模型构件打包到模型存档文件中\n",
    "\n",
    "您可以使用[`Torch model archiver`](https://github.com/pytorch/serve/tree/master/model-archiver)将所有模型构件打包到一个模型存档文件中。\n",
    "\n",
    "请注意，预构建的 PyTorch 服务容器需要模型存档文件命名为`model.mar`，因此您需要在`torch-model-archiver`命令中将模型名称设置为`model`。"
   ]
  },
  {
   "cell_type": "code",
   "execution_count": null,
   "metadata": {
    "id": "gMuQRwOB2oa3"
   },
   "outputs": [],
   "source": [
    "# Add torch-model-archiver to the PATH\n",
    "os.environ[\"PATH\"] = f'{os.environ.get(\"PATH\")}:~/.local/bin'"
   ]
  },
  {
   "cell_type": "code",
   "execution_count": null,
   "metadata": {
    "id": "t1mhQeX43jMP"
   },
   "outputs": [],
   "source": [
    "! torch-model-archiver -f \\\n",
    "  --model-name model \\\n",
    "  --version 1.0  \\\n",
    "  --serialized-file $model_file \\\n",
    "  --handler $hander_file \\\n",
    "  --export-path $model_path"
   ]
  },
  {
   "cell_type": "markdown",
   "metadata": {
    "id": "nyx95vSPDJ3C"
   },
   "source": [
    "将模型工件复制到云存储\n",
    "\n",
    "接下来，使用 `gsutil` 将模型工件复制到您的云存储存储桶。"
   ]
  },
  {
   "cell_type": "code",
   "execution_count": null,
   "metadata": {
    "id": "i9ltOguF322J"
   },
   "outputs": [],
   "source": [
    "MODEL_URI = f\"{BUCKET_URI}/model\"\n",
    "\n",
    "! gsutil -m rm -r -f $MODEL_URI\n",
    "! gsutil -m cp -r $model_path $MODEL_URI\n",
    "! gsutil ls $MODEL_URI"
   ]
  },
  {
   "cell_type": "markdown",
   "metadata": {
    "id": "Yi3I6JotDw3k"
   },
   "source": [
    "### 上传模型以进行部署\n",
    "\n",
    "接下来，您将模型工件上传到 `Vertex AI Model Registry`，这将为您的模型创建一个 Vertex AI 模型资源。本教程使用 PyTorch v1.11 容器，但针对您自己的用例，您可以从[PyTorch预构建容器列表](https://cloud.google.com/vertex-ai/docs/predictions/pre-built-containers#pytorch)中进行选择。"
   ]
  },
  {
   "cell_type": "code",
   "execution_count": null,
   "metadata": {
    "id": "9kyOITop38H7"
   },
   "outputs": [],
   "source": [
    "DEPLOY_IMAGE_URI = \"us-docker.pkg.dev/vertex-ai/prediction/pytorch-cpu.1-11:latest\"\n",
    "\n",
    "uploaded_model = aiplatform.Model.upload(\n",
    "    display_name=model_name,\n",
    "    serving_container_image_uri=DEPLOY_IMAGE_URI,\n",
    "    artifact_uri=MODEL_URI,\n",
    ")"
   ]
  },
  {
   "cell_type": "markdown",
   "metadata": {
    "id": "ko3IfZgbEG1J"
   },
   "source": [
    "### 部署模型进行预测\n",
    "\n",
    "接下来，部署您的模型进行在线预测。设置变量`DEPLOY_COMPUTE`以配置用于预测的[计算资源](https://cloud.google.com/vertex-ai/docs/predictions/configure-compute)的机器类型。"
   ]
  },
  {
   "cell_type": "code",
   "execution_count": null,
   "metadata": {
    "id": "MSukFOf04IMv"
   },
   "outputs": [],
   "source": [
    "DEPLOY_COMPUTE = \"n1-standard-4\"\n",
    "\n",
    "endpoint = uploaded_model.deploy(\n",
    "    deployed_model_display_name=model_name,\n",
    "    machine_type=DEPLOY_COMPUTE,\n",
    "    accelerator_type=None,\n",
    "    accelerator_count=0,\n",
    ")"
   ]
  },
  {
   "cell_type": "markdown",
   "metadata": {
    "id": "AzHtXzv0E2sg"
   },
   "source": [
    "进行在线预测\n",
    "\n",
    "您可以使用MNIST数据集作为在线预测的输入。"
   ]
  },
  {
   "cell_type": "code",
   "execution_count": null,
   "metadata": {
    "id": "kdRjvCOX4hVn"
   },
   "outputs": [],
   "source": [
    "# Download test data from PyTorch torchvision dataset\n",
    "test_data = datasets.MNIST(\n",
    "    root=\"data\",\n",
    "    train=False,\n",
    "    download=True,\n",
    "    transform=transforms.ToTensor(),\n",
    ")\n",
    "\n",
    "# Create data loaders\n",
    "test_dataloader = DataLoader(test_data, batch_size=64)"
   ]
  },
  {
   "cell_type": "code",
   "execution_count": null,
   "metadata": {
    "id": "fDWLHAuPWo_7"
   },
   "outputs": [],
   "source": [
    "# Take one image as example for prediction\n",
    "image, _ = test_data[0]\n",
    "pil_image = transforms.ToPILImage()(image)\n",
    "plt.imshow(pil_image)\n",
    "plt.show()"
   ]
  },
  {
   "cell_type": "markdown",
   "metadata": {
    "id": "BOV_iS-jFcTK"
   },
   "source": [
    "获取在线预测\n",
    "\n",
    "您将编码的输入图像数据发送到端点的`predict`请求，并获得预测结果。"
   ]
  },
  {
   "cell_type": "code",
   "execution_count": null,
   "metadata": {
    "id": "kPqDTh184fM0"
   },
   "outputs": [],
   "source": [
    "buffered_image = io.BytesIO()\n",
    "pil_image.save(buffered_image, format=\"JPEG\")\n",
    "\n",
    "data = {\"data\": base64.b64encode(buffered_image.getvalue()).decode(\"utf-8\")}\n",
    "prediction = endpoint.predict(instances=[data])\n",
    "\n",
    "print(prediction.predictions)"
   ]
  },
  {
   "cell_type": "markdown",
   "metadata": {
    "id": "-_pV0fq5FxgE"
   },
   "source": [
    "### 进行批量预测（可选）\n",
    "\n",
    "了解如何从您的PyTorch模型进行[批量预测](https://github.com/GoogleCloudPlatform/vertex-ai-samples/blob/main/notebooks/official/prediction/pytorch_image_classification_with_prebuilt_serving_containers.ipynb)。"
   ]
  },
  {
   "cell_type": "markdown",
   "metadata": {
    "id": "TpV-iwP9qw9c"
   },
   "source": [
    "清理\n",
    "\n",
    "要清理此项目中使用的所有Google Cloud资源，您可以删除用于本教程的[Google Cloud项目](https://cloud.google.com/resource-manager/docs/creating-managing-projects#shutting_down_projects)。\n",
    "\n",
    "否则，您可以删除在本教程中创建的单个资源："
   ]
  },
  {
   "cell_type": "code",
   "execution_count": null,
   "metadata": {
    "id": "sx_vKniMq9ZX"
   },
   "outputs": [],
   "source": [
    "# Delete the deployment endpoint\n",
    "endpoint.undeploy_all()\n",
    "endpoint.delete()\n",
    "\n",
    "# Delete the model from Model Registry\n",
    "uploaded_model.delete()\n",
    "\n",
    "# Delete Cloud Storage objects that were created\n",
    "delete_bucket = True\n",
    "if delete_bucket or os.getenv(\"IS_TESTING\"):\n",
    "    ! gsutil -m rm -r $BUCKET_URI"
   ]
  }
 ],
 "metadata": {
  "colab": {
   "name": "pytorch_train_deploy_models_with_prebuilt_containers.ipynb",
   "toc_visible": true
  },
  "kernelspec": {
   "display_name": "Python 3",
   "name": "python3"
  }
 },
 "nbformat": 4,
 "nbformat_minor": 0
}
