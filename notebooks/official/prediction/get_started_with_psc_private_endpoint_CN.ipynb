{
 "cells": [
  {
   "cell_type": "code",
   "execution_count": null,
   "metadata": {
    "id": "UUTFwSh5u9OK"
   },
   "outputs": [],
   "source": [
    "# Copyright 2024 Google LLC\n",
    "#\n",
    "# Licensed under the Apache License, Version 2.0 (the \"License\");\n",
    "# you may not use this file except in compliance with the License.\n",
    "# You may obtain a copy of the License at\n",
    "#\n",
    "#     https://www.apache.org/licenses/LICENSE-2.0\n",
    "#\n",
    "# Unless required by applicable law or agreed to in writing, software\n",
    "# distributed under the License is distributed on an \"AS IS\" BASIS,\n",
    "# WITHOUT WARRANTIES OR CONDITIONS OF ANY KIND, either express or implied.\n",
    "# See the License for the specific language governing permissions and\n",
    "# limitations under the License."
   ]
  },
  {
   "cell_type": "markdown",
   "metadata": {
    "id": "qsLff0QbdE8D"
   },
   "source": [
    "# 在线预测基于私有端点的PSC\n",
    "\n",
    "<table align=\"left\">\n",
    "  <td style=\"text-align: center\">\n",
    "    <a href=\"https://colab.research.google.com/github/GoogleCloudPlatform/vertex-ai-samples/blob/main/notebooks/official/prediction/get_started_with_psc_private_endpoint.ipynb\">\n",
    "      <img src=\"https://cloud.google.com/ml-engine/images/colab-logo-32px.png\" alt=\"Google Colaboratory logo\"><br> 在Colab中打开\n",
    "    </a>\n",
    "  </td>\n",
    "  <td style=\"text-align: center\">\n",
    "    <a href=\"https://console.cloud.google.com/vertex-ai/colab/import/https:%2F%2Fraw.githubusercontent.com%2FGoogleCloudPlatform%2Fvertex-ai-samples%2Fmain%2Fnotebooks%2Fofficial%2Fprediction%2Fget_started_with_psc_private_endpoint.ipynb\">\n",
    "      <img width=\"32px\" src=\"https://cloud.google.com/ml-engine/images/colab-enterprise-logo-32px.png\" alt=\"Google Cloud Colab Enterprise logo\"><br> 在Colab企业版中打开\n",
    "    </a>\n",
    "  </td>    \n",
    "  <td style=\"text-align: center\">\n",
    "    <a href=\"https://console.cloud.google.com/vertex-ai/workbench/deploy-notebook?download_url=https://raw.githubusercontent.com/GoogleCloudPlatform/vertex-ai-samples/main/notebooks/official/prediction/get_started_with_psc_private_endpoint.ipynb\">\n",
    "      <img src=\"https://lh3.googleusercontent.com/UiNooY4LUgW_oTvpsNhPpQzsstV5W8F7rYgxgGBD85cWJoLmrOzhVs_ksK_vgx40SHs7jCqkTkCk=e14-rj-sc0xffffff-h130-w32\" alt=\"Vertex AI logo\"><br> 在Workbench中打开\n",
    "    </a>\n",
    "  </td>\n",
    "  <td style=\"text-align: center\">\n",
    "    <a href=\"https://github.com/GoogleCloudPlatform/vertex-ai-samples/blob/main/notebooks/official/prediction/get_started_with_psc_private_endpoint.ipynb\">\n",
    "      <img src=\"https://cloud.google.com/ml-engine/images/github-logo-32px.png\" alt=\"GitHub logo\"><br> 在GitHub上查看\n",
    "    </a>\n",
    "  </td>\n",
    "</table>"
   ]
  },
  {
   "cell_type": "markdown",
   "metadata": {
    "id": "0C7kTlrH1bO8"
   },
   "source": [
    "## 概观\n",
    "\n",
    "与当前的PSA私有终端点相比，基于PSC的私有终端点具有以下优势：\n",
    "1. 设置过程更简单：目前，用户唯一需要做的额外步骤是在他们的VPC中创建一个终端点。并且在我们的GA发布之前，PSC会自动完成这一步骤。\n",
    "\n",
    "2. 不再有IP耗尽问题：GKE集群将托管在租户项目的VPC中，因此我们可以创建更大的集群，并且不会受到用户VPC中IP耗尽问题的影响。\n",
    "\n",
    "3. 与公共终端点统一体验：API与公共终端点相同，因此用户可以使用我们的SDK/客户端库。我们也提供配额、IAM和监控指标，就像公共终端点一样。"
   ]
  },
  {
   "cell_type": "markdown",
   "metadata": {
    "id": "D2sWuTr81v9m"
   },
   "source": [
    "开始。"
   ]
  },
  {
   "cell_type": "markdown",
   "metadata": {
    "id": "RakMIliNYh8O"
   },
   "source": [
    "### 安装Python的Vertex AI SDK以及其他必需的包"
   ]
  },
  {
   "cell_type": "code",
   "execution_count": null,
   "metadata": {
    "id": "nSHmJT9cTggu"
   },
   "outputs": [],
   "source": [
    "! pip3 install --upgrade --user --quiet google-cloud-aiplatform"
   ]
  },
  {
   "cell_type": "markdown",
   "metadata": {
    "id": "936Zz5YI2NeA"
   },
   "source": [
    "### 重新启动运行时（仅限Colab）\n",
    "\n",
    "为了使用新安装的软件包，您必须重新启动 Google Colab 上的运行时。"
   ]
  },
  {
   "cell_type": "code",
   "execution_count": null,
   "metadata": {
    "id": "66oJ55lG2Tiq"
   },
   "outputs": [],
   "source": [
    "import sys\n",
    "\n",
    "if \"google.colab\" in sys.modules:\n",
    "\n",
    "    import IPython\n",
    "\n",
    "    app = IPython.Application.instance()\n",
    "    app.kernel.do_shutdown(True)"
   ]
  },
  {
   "cell_type": "markdown",
   "metadata": {
    "id": "Clr61ben2WwY"
   },
   "source": [
    "<div class=\"alert alert-block alert-warning\">\n",
    "<b>⚠️内核将重新启动。在继续下一步之前，请等待它完成。⚠️</b>\n",
    "</div>"
   ]
  },
  {
   "cell_type": "markdown",
   "metadata": {
    "id": "v848aGbn2acH"
   },
   "source": [
    "### 验证您的笔记本环境（仅限Colab）\n",
    "\n",
    "在Google Colab上验证您的环境。"
   ]
  },
  {
   "cell_type": "code",
   "execution_count": null,
   "metadata": {
    "id": "IVeoyQPz2cfh"
   },
   "outputs": [],
   "source": [
    "import sys\n",
    "\n",
    "if \"google.colab\" in sys.modules:\n",
    "\n",
    "    from google.colab import auth\n",
    "\n",
    "    auth.authenticate_user()"
   ]
  },
  {
   "cell_type": "markdown",
   "metadata": {
    "id": "HId-ySlY2jlI"
   },
   "source": [
    "### 设置谷歌云项目信息，并初始化 Python 的 Vertex AI SDK\n",
    "\n",
    "要开始使用 Vertex AI，您必须拥有一个现有的谷歌云项目，并[启用 Vertex AI API](https://console.cloud.google.com/flows/enableapi?apiid=aiplatform.googleapis.com)。了解更多关于[设置项目和开发环境](https://cloud.google.com/vertex-ai/docs/start/cloud-environment)的信息。"
   ]
  },
  {
   "cell_type": "code",
   "execution_count": null,
   "metadata": {
    "id": "Y4gnZI9OX6VJ"
   },
   "outputs": [],
   "source": [
    "PROJECT_ID = \"[your-project-id]\"  # @param {type:\"string\"}\n",
    "LOCATION = \"us-central1\"  # @param {type:\"string\"}"
   ]
  },
  {
   "cell_type": "code",
   "execution_count": null,
   "metadata": {
    "id": "moS794OKaaCt"
   },
   "outputs": [],
   "source": [
    "# Create GCS Bucket\n",
    "BUCKET_URI = \"gs://your-bucket-name-unique\"  # @param {type:\"string\"}\n",
    "! gsutil mb -l {LOCATION} -p {PROJECT_ID} {BUCKET_URI}"
   ]
  },
  {
   "cell_type": "code",
   "execution_count": null,
   "metadata": {
    "id": "-NrpFROTjoVL"
   },
   "outputs": [],
   "source": [
    "from google.cloud import aiplatform\n",
    "\n",
    "aiplatform.init(project=PROJECT_ID, location=LOCATION, staging_bucket=BUCKET_URI)"
   ]
  },
  {
   "cell_type": "markdown",
   "metadata": {
    "id": "swERjzZ-a_Nd"
   },
   "source": [
    "准备测试模型\n",
    "\n",
    "我们准备了一些测试模型，您可以自由使用您自己的模型。"
   ]
  },
  {
   "cell_type": "code",
   "execution_count": null,
   "metadata": {
    "id": "3PtFCQNHbloQ"
   },
   "outputs": [],
   "source": [
    "# Copy Models to the Bucket\n",
    "! gsutil cp -r \"gs://cloud-samples-data/vertex-ai/prediction/test-models-requests/*\" {BUCKET_URI}"
   ]
  },
  {
   "cell_type": "markdown",
   "metadata": {
    "id": "W7sbcii_iZ7x"
   },
   "source": [
    "### 上传模型"
   ]
  },
  {
   "cell_type": "code",
   "execution_count": null,
   "metadata": {
    "id": "bhgBogbTgF_5"
   },
   "outputs": [],
   "source": [
    "# Depending on which model you wanna use, uncomment the corresponding section below and run the block.\n",
    "\n",
    "# TF Model\n",
    "DISPLAY_NAME = \"tensorflow model\"  # @param {type:\"string\"}\n",
    "ARTIFACT_URI = BUCKET_URI + \"/tensorflow\"\n",
    "IMAGE_URI = \"us-docker.pkg.dev/vertex-ai/prediction/tf2-cpu.2-12:latest\"\n",
    "REQUEST_FILE = \"tensorflow_request.json\"\n",
    "\n",
    "\n",
    "# Pytorch Model\n",
    "# DISPLAY_NAME=\"Pytorch model\"\n",
    "# ARTIFACT_URI=BUCKET_URI+\"/pytorch\"\n",
    "# IMAGE_URI=\"us-docker.pkg.dev/vertex-ai/prediction/pytorch-cpu.2-0:latest\"\n",
    "# REQUEST_FILE=\"pytorch_request.json\"\n",
    "\n",
    "\n",
    "# Sklearn Model\n",
    "# DISPLAY_NAME=\"Sklearn model\"\n",
    "# ARTIFACT_URI=BUCKET_URI+\"/sklearn\"\n",
    "# IMAGE_URI=\"us-docker.pkg.dev/vertex-ai/prediction/sklearn-cpu.1-2:latest\"\n",
    "# REQUEST_FILE=\"sklearn_request.json\"\n",
    "\n",
    "\n",
    "# xgboost Model\n",
    "# DISPLAY_NAME=\"xgboost model\"\n",
    "# ARTIFACT_URI=BUCKET_URI+\"/xgboost\"\n",
    "# IMAGE_URI=\"us-docker.pkg.dev/vertex-ai/prediction/xgboost-cpu.1-7:latest\"\n",
    "# REQUEST_FILE=\"xgboost_request.json\""
   ]
  },
  {
   "cell_type": "code",
   "execution_count": null,
   "metadata": {
    "id": "49Dak6icicSu"
   },
   "outputs": [],
   "source": [
    "model = aiplatform.Model.upload(\n",
    "    display_name=DISPLAY_NAME,\n",
    "    artifact_uri=ARTIFACT_URI,\n",
    "    serving_container_image_uri=IMAGE_URI,\n",
    "    sync=False,\n",
    ")\n",
    "\n",
    "model.wait()"
   ]
  },
  {
   "cell_type": "markdown",
   "metadata": {
    "id": "JN2NkhEljbse"
   },
   "source": [
    "### 创建基于PSC的预测私有终端"
   ]
  },
  {
   "cell_type": "code",
   "execution_count": null,
   "metadata": {
    "id": "BqMtuRgPjqfD"
   },
   "outputs": [],
   "source": [
    "psc_endpoint = aiplatform.PrivateEndpoint.create(\n",
    "    display_name=\"psc-endpoint\",\n",
    "    project=PROJECT_ID,\n",
    "    location=LOCATION,\n",
    "    private_service_connect_config=aiplatform.PrivateEndpoint.PrivateServiceConnectConfig(\n",
    "        project_allowlist=[PROJECT_ID],\n",
    "    ),\n",
    ")"
   ]
  },
  {
   "cell_type": "markdown",
   "metadata": {
    "id": "Mp-W67qKHIN6"
   },
   "source": [
    "或者，发送http调用来创建终端点。您需要手动替换下面的所有变量。"
   ]
  },
  {
   "cell_type": "code",
   "execution_count": null,
   "metadata": {
    "id": "ellzpZ43jZVm"
   },
   "outputs": [],
   "source": [
    "# ! curl -X POST -H \"Content-Type: application/json\" -H \"Authorization: Bearer `gcloud auth print-access-token`\" https://${LOCATION}-aiplatform.googleapis.com/v1/projects/${PROJECT_ID}/locations/{LOCATION}/endpoints -d \\\n",
    "# '{ \\\n",
    "#     displayName: \"psc-endpoint\", \\\n",
    "#     privateServiceConnectConfig: { \\\n",
    "#       enablePrivateServiceConnect: true, \\\n",
    "#       projectAllowlist: [\"{PROJECT_ID}\"] \\\n",
    "#     }, \\\n",
    "# }'"
   ]
  },
  {
   "cell_type": "markdown",
   "metadata": {
    "id": "USWCW-SNo-9M"
   },
   "source": [
    "部署模型"
   ]
  },
  {
   "cell_type": "code",
   "execution_count": null,
   "metadata": {
    "id": "S_eRJglhpVfL"
   },
   "outputs": [],
   "source": [
    "psc_endpoint.deploy(model=model, traffic_percentage=100, machine_type=\"e2-standard-8\")\n",
    "\n",
    "psc_endpoint.list_models()"
   ]
  },
  {
   "cell_type": "markdown",
   "metadata": {
    "id": "5uLFsbxpwzvN"
   },
   "source": [
    "在消费者项目中创建转发规则\n",
    "\n",
    "首先，找到来自终端点和部署模型的服务附件。"
   ]
  },
  {
   "cell_type": "code",
   "execution_count": null,
   "metadata": {
    "id": "EgjKUSAMnqvI"
   },
   "outputs": [],
   "source": [
    "service_attachment = psc_endpoint.list_models()[0].private_endpoints.service_attachment\n",
    "print(service_attachment)"
   ]
  },
  {
   "cell_type": "markdown",
   "metadata": {
    "id": "5R2z2mUlMrl9"
   },
   "source": [
    "然后，创建一个针对服务附件的地址和转发规则。在这个示例中，使用默认网络和子网，请根据您的VPC网络和子网进行替换。"
   ]
  },
  {
   "cell_type": "code",
   "execution_count": null,
   "metadata": {
    "id": "EF7XCp0t1_AY"
   },
   "outputs": [],
   "source": [
    "! gcloud compute addresses create psc-prediction \\\n",
    "    --region={LOCATION} \\\n",
    "    --subnet=default\n",
    "\n",
    "! gcloud compute forwarding-rules create op-psc-endpoint \\\n",
    "    --network=default \\\n",
    "    --address=psc-prediction \\\n",
    "    --target-service-attachment={service_attachment} \\\n",
    "    --region={LOCATION}"
   ]
  },
  {
   "cell_type": "markdown",
   "metadata": {
    "id": "oL-74S0kVkym"
   },
   "source": [
    "保存上方的IP地址。"
   ]
  },
  {
   "cell_type": "code",
   "execution_count": null,
   "metadata": {
    "id": "bEtkfw1dTbvh"
   },
   "outputs": [],
   "source": [
    "IP_ADDRESS = ! gcloud compute forwarding-rules describe op-psc-endpoint --region={LOCATION} --format='value(IPAddress)'\n",
    "IP_ADDRESS = IP_ADDRESS[0]\n",
    "print(IP_ADDRESS)"
   ]
  },
  {
   "cell_type": "markdown",
   "metadata": {
    "id": "civyNQaPr4QD"
   },
   "source": [
    "## 进行预测\n",
    "\n",
    "从这一点开始，下面的所有代码都必须在与您的PSC端点相同的VPC、相同的地区的GCP VM中运行。\n",
    "\n",
    "如果您正在使用Vertex AI Workbench或Colab Enterprise，那就没问题。\n",
    "\n",
    "如果您要创建一个GCE VM，请确保已启用Cloud Platform访问范围。"
   ]
  },
  {
   "cell_type": "code",
   "execution_count": null,
   "metadata": {
    "id": "9Y7Zr9hQuZxC"
   },
   "outputs": [],
   "source": [
    "# Download the requests files:\n",
    "! gsutil cp {BUCKET_URI}/requests/* ./"
   ]
  },
  {
   "cell_type": "code",
   "execution_count": null,
   "metadata": {
    "id": "I-O9U63juoWE"
   },
   "outputs": [],
   "source": [
    "import os\n",
    "\n",
    "if not os.getenv(\"IS_TESTING\"):\n",
    "    import json\n",
    "\n",
    "    import urllib3\n",
    "\n",
    "    urllib3.disable_warnings(urllib3.exceptions.InsecureRequestWarning)\n",
    "\n",
    "    with open(REQUEST_FILE) as json_file:\n",
    "        data = json.load(json_file)\n",
    "        response = psc_endpoint.predict(\n",
    "            instances=data[\"instances\"], endpoint_override=IP_ADDRESS\n",
    "        )\n",
    "        print(response)"
   ]
  },
  {
   "cell_type": "markdown",
   "metadata": {
    "id": "U1sbaYPbueQc"
   },
   "source": [
    "### 預測請求"
   ]
  },
  {
   "cell_type": "markdown",
   "metadata": {
    "id": "ngiWwtuOM1PL"
   },
   "source": [
    "或者，您可以直接向IP地址发送HTTP请求。请确保在请求中替换所有变量。"
   ]
  },
  {
   "cell_type": "code",
   "execution_count": null,
   "metadata": {
    "id": "IjLZV-hZoNy2"
   },
   "outputs": [],
   "source": [
    "ENDPOINT_RESOURCE_NAME = psc_endpoint.resource_name"
   ]
  },
  {
   "cell_type": "code",
   "execution_count": null,
   "metadata": {
    "id": "_V-Zz4N5tMev"
   },
   "outputs": [],
   "source": [
    "import os\n",
    "\n",
    "if not os.getenv(\"IS_TESTING\"):\n",
    "    # Predict\n",
    "    ! curl --insecure -H \"Content-Type: application/json\" -H \"Authorization: Bearer `gcloud auth print-access-token`\"  https://{IP_ADDRESS}/v1/{ENDPOINT_RESOURCE_NAME}:predict -d@{REQUEST_FILE}\n",
    "\n",
    "    # # RawPredict\n",
    "    # ! curl -v --insecure -H \"Content-Type: application/json\" -H \"Authorization: Bearer `gcloud auth print-access-token`\" https://{IP_ADDRESS}/v1/{ENDPOINT_RESOURCE_NAME}:rawPredict -d@{REQUEST_FILE}"
   ]
  },
  {
   "cell_type": "markdown",
   "metadata": {
    "id": "_TCktMxbA4mb"
   },
   "source": [
    "部署另一个模型并更新流量分配\n",
    "\n",
    "部署另一个模型，并将流量分配更新为50:50，在部署完成后，您可以再次运行多次预测，您应该能够看到部署的模型ID是不同的。"
   ]
  },
  {
   "cell_type": "code",
   "execution_count": null,
   "metadata": {
    "id": "bVLgpRiRBEL7"
   },
   "outputs": [],
   "source": [
    "psc_endpoint.deploy(model=model, traffic_percentage=50, machine_type=\"e2-standard-8\")"
   ]
  },
  {
   "cell_type": "code",
   "execution_count": null,
   "metadata": {
    "id": "2dx975IkCv7v"
   },
   "outputs": [],
   "source": [
    "import os\n",
    "\n",
    "if not os.getenv(\"IS_TESTING\"):\n",
    "    import json\n",
    "\n",
    "    import urllib3\n",
    "\n",
    "    urllib3.disable_warnings(urllib3.exceptions.InsecureRequestWarning)\n",
    "\n",
    "    counter = {}\n",
    "    with open(REQUEST_FILE) as json_file:\n",
    "        data = json.load(json_file)\n",
    "        for i in range(1000):\n",
    "            response = psc_endpoint.predict(\n",
    "                instances=data[\"instances\"], endpoint_override=IP_ADDRESS\n",
    "            )\n",
    "            if response.deployed_model_id in counter.keys():\n",
    "                counter[response.deployed_model_id] += 1\n",
    "            else:\n",
    "                counter[response.deployed_model_id] = 1\n",
    "    print(counter)"
   ]
  },
  {
   "cell_type": "markdown",
   "metadata": {
    "id": "2Hld7iDmEyiF"
   },
   "source": [
    "你可以使用以下命令更新流量分配，并再次运行上面的代码。"
   ]
  },
  {
   "cell_type": "code",
   "execution_count": null,
   "metadata": {
    "id": "HXPI-2q9Eh6X"
   },
   "outputs": [],
   "source": [
    "import os\n",
    "\n",
    "if not os.getenv(\"IS_TESTING\"):\n",
    "    deployed_model_id_0 = list(counter)[0]\n",
    "    deployed_model_id_1 = list(counter)[1]\n",
    "\n",
    "    psc_endpoint.update(\n",
    "        traffic_split={deployed_model_id_0: 20, deployed_model_id_1: 80}\n",
    "    )"
   ]
  },
  {
   "cell_type": "markdown",
   "metadata": {
    "id": "XW_BtPnEFPp4"
   },
   "source": [
    "清理"
   ]
  },
  {
   "cell_type": "code",
   "execution_count": null,
   "metadata": {
    "id": "E4Ik3eKqdI_2"
   },
   "outputs": [],
   "source": [
    "psc_endpoint.undeploy_all()\n",
    "psc_endpoint.delete()\n",
    "model.delete()"
   ]
  },
  {
   "cell_type": "code",
   "execution_count": null,
   "metadata": {
    "id": "JRncavA6FSlc"
   },
   "outputs": [],
   "source": [
    "! gcloud compute forwarding-rules delete op-psc-endpoint --region={LOCATION}  --quiet\n",
    "\n",
    "! gcloud compute addresses delete psc-prediction --region={LOCATION} --quiet"
   ]
  },
  {
   "cell_type": "markdown",
   "metadata": {
    "id": "BTz-2N1XunXB"
   },
   "source": [
    "如果需要的话，删除桶。"
   ]
  },
  {
   "cell_type": "code",
   "execution_count": null,
   "metadata": {
    "id": "NPQT5Wv9lC3O"
   },
   "outputs": [],
   "source": [
    "! gsutil rm -r {BUCKET_URI}"
   ]
  },
  {
   "cell_type": "markdown",
   "metadata": {
    "id": "2iR_Q5K_ksWi"
   },
   "source": [
    "可以根据需要使用以下命令清理所有私有终结点和模型。"
   ]
  },
  {
   "cell_type": "code",
   "execution_count": null,
   "metadata": {
    "id": "vkyvlwTgky0J"
   },
   "outputs": [],
   "source": [
    "for pe in aiplatform.PrivateEndpoint.list():\n",
    "    pe.undeploy_all()\n",
    "    pe.delete()"
   ]
  }
 ],
 "metadata": {
  "colab": {
   "name": "get_started_with_psc_private_endpoint.ipynb",
   "toc_visible": true
  },
  "kernelspec": {
   "display_name": "Python 3",
   "name": "python3"
  }
 },
 "nbformat": 4,
 "nbformat_minor": 0
}
