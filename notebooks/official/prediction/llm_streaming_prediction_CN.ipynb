{
 "cells": [
  {
   "cell_type": "code",
   "execution_count": null,
   "metadata": {
    "id": "copyright"
   },
   "outputs": [],
   "source": [
    "# Copyright 2023 Google LLC\n",
    "#\n",
    "# Licensed under the Apache License, Version 2.0 (the \"License\");\n",
    "# you may not use this file except in compliance with the License.\n",
    "# You may obtain a copy of the License at\n",
    "#\n",
    "#     https://www.apache.org/licenses/LICENSE-2.0\n",
    "#\n",
    "# Unless required by applicable law or agreed to in writing, software\n",
    "# distributed under the License is distributed on an \"AS IS\" BASIS,\n",
    "# WITHOUT WARRANTIES OR CONDITIONS OF ANY KIND, either express or implied.\n",
    "# See the License for the specific language governing permissions and\n",
    "# limitations under the License."
   ]
  },
  {
   "cell_type": "markdown",
   "metadata": {
    "id": "title:generic,gcp"
   },
   "source": [
    "# Vertex AI LLM和流式预测\n",
    "\n",
    "<table align=\"left\">\n",
    "  <td style=\"text-align: center\">\n",
    "    <a href=\"https://colab.research.google.com/github/GoogleCloudPlatform/vertex-ai-samples/blob/main/notebooks/official//prediction/llm_streaming_prediction.ipynb\">\n",
    "      <img src=\"https://cloud.google.com/ml-engine/images/colab-logo-32px.png\" alt=\"Google Colaboratory logo\"><br> 在Colab中打开\n",
    "    </a>\n",
    "  </td>\n",
    "  <td style=\"text-align: center\">\n",
    "    <a href=\"https://console.cloud.google.com/vertex-ai/colab/import/https:%2F%2Fraw.githubusercontent.com%2FGoogleCloudPlatform%2Fvertex-ai-samples%2Fmain%2Fnotebooks%2Fofficial%2Fprediction%2Fllm_streaming_prediction.ipynb\">\n",
    "      <img width=\"32px\" src=\"https://cloud.google.com/ml-engine/images/colab-enterprise-logo-32px.png\" alt=\"Google Cloud Colab Enterprise logo\"><br> 在Colab Enterprise中打开\n",
    "    </a>\n",
    "  </td>    \n",
    "  <td style=\"text-align: center\">\n",
    "    <a href=\"https://console.cloud.google.com/vertex-ai/workbench/deploy-notebook?download_url=https://raw.githubusercontent.com/GoogleCloudPlatform/vertex-ai-samples/main/notebooks/official/prediction/llm_streaming_prediction.ipynb\">\n",
    "      <img src=\"https://lh3.googleusercontent.com/UiNooY4LUgW_oTvpsNhPpQzsstV5W8F7rYgxgGBD85cWJoLmrOzhVs_ksK_vgx40SHs7jCqkTkCk=e14-rj-sc0xffffff-h130-w32\" alt=\"Vertex AI logo\"><br> 在Workbench中打开\n",
    "    </a>\n",
    "  </td>\n",
    "  <td style=\"text-align: center\">\n",
    "    <a href=\"https://github.com/GoogleCloudPlatform/vertex-ai-samples/blob/main/notebooks/official/prediction/llm_streaming_prediction.ipynb\">\n",
    "      <img src=\"https://cloud.google.com/ml-engine/images/github-logo-32px.png\" alt=\"GitHub logo\"><br> 在GitHub上查看\n",
    "    </a>\n",
    "  </td>\n",
    "</table>"
   ]
  },
  {
   "cell_type": "markdown",
   "metadata": {
    "id": "overview:mlops"
   },
   "source": [
    "## 概述\n",
    "\n",
    "本教程演示了如何使用Vertex AI LLM来对大型语言模型进行流式预测。\n",
    "\n",
    "了解更多关于[Vertex AI语言模型](https://cloud.google.com/python/docs/reference/aiplatform/latest/vertexai.language_models.TextGenerationModel#vertexai_language_models_TextGenerationModel_predict_streaming)。"
   ]
  },
  {
   "cell_type": "markdown",
   "metadata": {
    "id": "objective:mlops,stage2,get_started_automl_training"
   },
   "source": [
    "### 目标\n",
    "\n",
    "在本教程中，您将学习如何使用Vertex AI LLM来下载预训练的LLM模型，进行预测并微调模型。\n",
    "\n",
    "本教程使用以下Google Cloud ML服务：\n",
    "\n",
    "- `Vertex AI LLM`\n",
    "- `Vertex AI Prediction`\n",
    "\n",
    "执行的步骤包括：\n",
    "\n",
    "- 加载预训练的文本生成模型。\n",
    "- 进行非流式预测。\n",
    "- 加载支持流式的预训练文本生成模型。\n",
    "- 进行流式预测。\n",
    "- 加载预训练的聊天模型。\n",
    "- 进行本地交互式聊天会话。\n",
    "- 使用文本生成模型进行批量预测。\n",
    "- 使用文本嵌入模型进行批量预测。"
   ]
  },
  {
   "cell_type": "markdown",
   "metadata": {
    "id": "dataset:flowers,icn"
   },
   "source": [
    "### 模型\n",
    "\n",
    "本教程使用的预训练模型取自Vertex AI LLM存储库。使用的模型包括：\n",
    "\n",
    "- 文本-美洲野牛\n",
    "- 聊天-美洲野牛\n",
    "- 文本嵌入-壁虎"
   ]
  },
  {
   "cell_type": "markdown",
   "metadata": {
    "id": "fb3451ce8e47"
   },
   "source": [
    "### 成本\n",
    "本教程使用谷歌云的计费组件：\n",
    "\n",
    "- Vertex AI\n",
    "- 云存储\n",
    "\n",
    "了解[Vertex AI价格](https://cloud.google.com/vertex-ai/pricing)和[云存储价格](https://cloud.google.com/storage/pricing)，并使用[定价计算器](https://cloud.google.com/products/calculator/)根据您的预期使用情况生成成本估算。"
   ]
  },
  {
   "cell_type": "markdown",
   "metadata": {
    "id": "4b331e2fd155"
   },
   "source": [
    "开始吧"
   ]
  },
  {
   "cell_type": "markdown",
   "metadata": {
    "id": "a2c2cb2109a0"
   },
   "source": [
    "### 安装Vertex AI SDK for Python和其他必需的包"
   ]
  },
  {
   "cell_type": "code",
   "execution_count": null,
   "metadata": {
    "id": "24166b67eab5"
   },
   "outputs": [],
   "source": [
    "! pip3 install --upgrade --quiet google-cloud-aiplatform \\\n",
    "                                pandas"
   ]
  },
  {
   "cell_type": "markdown",
   "metadata": {
    "id": "ff555b32bab8"
   },
   "source": [
    "### 重新启动运行时（仅适用于Colab）\n",
    "\n",
    "要使用新安装的软件包，您必须重新启动Google Colab上的运行时。"
   ]
  },
  {
   "cell_type": "code",
   "execution_count": null,
   "metadata": {
    "id": "f09b4dff629a"
   },
   "outputs": [],
   "source": [
    "import sys\n",
    "\n",
    "if \"google.colab\" in sys.modules:\n",
    "\n",
    "    import IPython\n",
    "\n",
    "    app = IPython.Application.instance()\n",
    "    app.kernel.do_shutdown(True)"
   ]
  },
  {
   "cell_type": "markdown",
   "metadata": {
    "id": "ee775571c2b5"
   },
   "source": [
    "<div class=\"alert alert-block alert-warning\">\n",
    "<b>⚠️ 内核将重新启动。在继续下一步之前请等待完成。 ⚠️</b>\n",
    "</div>"
   ]
  },
  {
   "cell_type": "markdown",
   "metadata": {
    "id": "92e68cfc3a90"
   },
   "source": [
    "### 在谷歌Colab中验证您的笔记本环境\n",
    "\n",
    "在谷歌Colab上验证您的环境。"
   ]
  },
  {
   "cell_type": "code",
   "execution_count": null,
   "metadata": {
    "id": "46604f70e831"
   },
   "outputs": [],
   "source": [
    "import sys\n",
    "\n",
    "if \"google.colab\" in sys.modules:\n",
    "\n",
    "    from google.colab import auth\n",
    "\n",
    "    auth.authenticate_user()"
   ]
  },
  {
   "cell_type": "markdown",
   "metadata": {
    "id": "4f872cd812d0"
   },
   "source": [
    "### 设置Google Cloud项目信息并初始化Python的Vertex AI SDK\n",
    "\n",
    "要开始使用Vertex AI，您必须拥有现有的Google Cloud项目并[启用Vertex AI API](https://console.cloud.google.com/flows/enableapi?apiid=aiplatform.googleapis.com)。了解更多关于[设置项目和开发环境](https://cloud.google.com/vertex-ai/docs/start/cloud-environment)的信息。"
   ]
  },
  {
   "cell_type": "code",
   "execution_count": null,
   "metadata": {
    "id": "6ddefefd807a"
   },
   "outputs": [],
   "source": [
    "PROJECT_ID = \"[your-project-id]\"  # @param {type:\"string\"}\n",
    "LOCATION = \"us-central1\"  # @param {type:\"string\"}"
   ]
  },
  {
   "cell_type": "markdown",
   "metadata": {
    "id": "bucket:mbsdk"
   },
   "source": [
    "#### 创建一个云存储桶\n",
    "\n",
    "创建一个存储桶，用于存储中间产物，如数据集。"
   ]
  },
  {
   "cell_type": "code",
   "execution_count": null,
   "metadata": {
    "id": "bucket"
   },
   "outputs": [],
   "source": [
    "BUCKET_URI = f\"gs://your-bucket-name-{PROJECT_ID}-unique\"  # @param {type:\"string\"}"
   ]
  },
  {
   "cell_type": "markdown",
   "metadata": {
    "id": "autoset_bucket"
   },
   "source": [
    "如果您的存储桶尚不存在：运行以下单元格以创建您的云存储存储桶。"
   ]
  },
  {
   "cell_type": "code",
   "execution_count": null,
   "metadata": {
    "id": "91c46850b49b"
   },
   "outputs": [],
   "source": [
    "! gsutil mb -l {LOCATION} -p {PROJECT_ID} {BUCKET_URI}"
   ]
  },
  {
   "cell_type": "markdown",
   "metadata": {
    "id": "b7c2a8a91840"
   },
   "source": [
    "设置Google Cloud项目"
   ]
  },
  {
   "cell_type": "code",
   "execution_count": null,
   "metadata": {
    "id": "d72078ee9da2"
   },
   "outputs": [],
   "source": [
    "import vertexai\n",
    "\n",
    "vertexai.init(project=PROJECT_ID, location=LOCATION, staging_bucket=BUCKET_URI)"
   ]
  },
  {
   "cell_type": "markdown",
   "metadata": {
    "id": "setup_vars"
   },
   "source": [
    "导入库"
   ]
  },
  {
   "cell_type": "code",
   "execution_count": null,
   "metadata": {
    "id": "8696271b314f"
   },
   "outputs": [],
   "source": [
    "from vertexai.preview.language_models import TextGenerationModel"
   ]
  },
  {
   "cell_type": "markdown",
   "metadata": {
    "id": "YCriCYpOjZv0"
   },
   "source": [
    "首先，您从Vertex AI LLM中加载文本-大型语言模型。加载完成后，您可以进行预测。"
   ]
  },
  {
   "cell_type": "code",
   "execution_count": null,
   "metadata": {
    "id": "fkAkKn-ijJR5"
   },
   "outputs": [],
   "source": [
    "model = TextGenerationModel.from_pretrained(\"google/text-bison@001\")\n",
    "\n",
    "print(\n",
    "    model.predict(\n",
    "        \"What is the best recipe for banana bread? Recipe:\",\n",
    "        # \"Brainstorm some ideas combining VR and fitness:\",\n",
    "        # Optional:\n",
    "        # max_output_tokens=128,\n",
    "        # temperature=0,\n",
    "        # top_p=1,\n",
    "        # top_k=5,\n",
    "    )\n",
    ")"
   ]
  },
  {
   "cell_type": "markdown",
   "metadata": {
    "id": "vltcd5jb5WGe"
   },
   "source": [
    "流式预测\n",
    "\n",
    "接下来，您从Vertex AI LLM中加载支持流式预测的文本-野牛模型的一个版本。加载完成后，您进行预测。请注意，每次迭代该模型都会在预测响应中返回下一个连续的输出。"
   ]
  },
  {
   "cell_type": "code",
   "execution_count": null,
   "metadata": {
    "id": "Z72f5GTm1weU"
   },
   "outputs": [],
   "source": [
    "import datetime\n",
    "\n",
    "text_generation_model = TextGenerationModel.from_pretrained(\"text-bison\")\n",
    "\n",
    "print(\"Start: \", datetime.datetime.now())\n",
    "for response in text_generation_model.predict_streaming(\n",
    "    prompt=\"Count to 100\", max_output_tokens=1000\n",
    "):\n",
    "    print(datetime.datetime.now())\n",
    "    print(response)\n",
    "print(\"End: \", datetime.datetime.now())"
   ]
  },
  {
   "cell_type": "markdown",
   "metadata": {
    "id": "wl2AZceWjXoy"
   },
   "source": [
    "聊天\n",
    "\n",
    "接下来，您从Vertex AI LLM加载一个chat-bison模型的版本。加载完成后，您可以进行互动式聊天会话。"
   ]
  },
  {
   "cell_type": "code",
   "execution_count": null,
   "metadata": {
    "id": "Lco7I7X_Ch2C"
   },
   "outputs": [],
   "source": [
    "from vertexai.language_models import ChatModel, InputOutputTextPair\n",
    "\n",
    "chat_model2 = ChatModel.from_pretrained(\"google/chat-bison@001\")\n",
    "\n",
    "chat2 = chat_model2.start_chat(\n",
    "    # Optional:\n",
    "    context=\"My name is Ned. You are my personal assistant. My favorite movies are Lord of the Rings and Hobbit.\",\n",
    "    examples=[\n",
    "        InputOutputTextPair(\n",
    "            input_text=\"Who do you work for?\",\n",
    "            output_text=\"I work for Ned.\",\n",
    "        ),\n",
    "        InputOutputTextPair(\n",
    "            input_text=\"What do I like?\",\n",
    "            output_text=\"Ned likes watching movies.\",\n",
    "        ),\n",
    "    ],\n",
    ")\n",
    "\n",
    "print(chat2.send_message(\"Are my favorite movies based on a book series?\"))"
   ]
  },
  {
   "cell_type": "code",
   "execution_count": null,
   "metadata": {
    "id": "G64BrDoxC-K3"
   },
   "outputs": [],
   "source": [
    "print(chat2.send_message(\"When where these books published?\"))"
   ]
  },
  {
   "cell_type": "markdown",
   "metadata": {
    "id": "tmWzgmkUzgzU"
   },
   "source": [
    "文本嵌入\n",
    "\n",
    "接下来，您从Vertex AI LLM加载了文本嵌入蜥蜴模型的一个版本，然后进行嵌入请求。"
   ]
  },
  {
   "cell_type": "code",
   "execution_count": null,
   "metadata": {
    "id": "Eara9dykkJTA"
   },
   "outputs": [],
   "source": [
    "from vertexai.language_models import TextEmbeddingModel\n",
    "\n",
    "model = TextEmbeddingModel.from_pretrained(\"google/textembedding-gecko@001\")\n",
    "embeddings = model.get_embeddings([\"What is life?\"])\n",
    "for embedding in embeddings:\n",
    "    vector = embedding.values\n",
    "    print(len(vector))"
   ]
  },
  {
   "cell_type": "markdown",
   "metadata": {
    "id": "7gaFptssn03c"
   },
   "source": [
    "## 批量预测\n",
    "\n",
    "### 文本野牛模型\n",
    "\n",
    "现在，您将使用预训练的文本野牛模型进行批量预测任务。"
   ]
  },
  {
   "cell_type": "code",
   "execution_count": null,
   "metadata": {
    "id": "xHl1XlTpqIFY"
   },
   "outputs": [],
   "source": [
    "dataset = \"gs://cloud-samples-data/vertex-ai/prediction/llm/test_table.jsonl\"\n",
    "destination_uri_prefix = f\"{BUCKET_URI}/text-bison@001_\"\n",
    "! gsutil cp -r gs://cloud-samples-data/vertex-ai/prediction/llm/text-bison@001_/ {destination_uri_prefix}\n",
    "\n",
    "\n",
    "from vertexai.language_models import TextGenerationModel\n",
    "\n",
    "text_generation_model = TextGenerationModel.from_pretrained(\"text-bison\")\n",
    "batch_job_1 = text_generation_model.batch_predict(\n",
    "    dataset=dataset,\n",
    "    destination_uri_prefix=destination_uri_prefix,\n",
    "    model_parameters={},\n",
    ")"
   ]
  },
  {
   "cell_type": "markdown",
   "metadata": {
    "id": "3d8c7fc4a4a7"
   },
   "source": [
    "接下来，您可以使用预训练的text-embedding-gecko模型进行批处理预测任务。"
   ]
  },
  {
   "cell_type": "code",
   "execution_count": null,
   "metadata": {
    "id": "DfdSZT4SoPxf"
   },
   "outputs": [],
   "source": [
    "dataset = \"gs://cloud-samples-data/vertex-ai/prediction/llm/embedding_input.jsonl\"\n",
    "\n",
    "destination_uri_prefix = f\"{BUCKET_URI}/textembedding-gecko@001_\"\n",
    "\n",
    "from vertexai.preview.language_models import TextEmbeddingModel\n",
    "\n",
    "text_embedding_model = TextEmbeddingModel.from_pretrained(\"textembedding-gecko@001\")\n",
    "batch_job_2 = text_embedding_model.batch_predict(\n",
    "    dataset=dataset,\n",
    "    destination_uri_prefix=destination_uri_prefix,\n",
    "    # Optional:\n",
    "    model_parameters={},\n",
    ")"
   ]
  },
  {
   "cell_type": "markdown",
   "metadata": {
    "id": "Dt6Cyr9B0ZOT"
   },
   "source": [
    "## 调整\n",
    "\n",
    "现在，您可以使用预训练的文本-生物模型进行微调，并使用微调后的模型进行预测。您的输入数据以JSONL格式存储在云存储位置中。"
   ]
  },
  {
   "cell_type": "code",
   "execution_count": null,
   "metadata": {
    "id": "WxmUoYfC0aJI"
   },
   "outputs": [],
   "source": [
    "model3 = TextGenerationModel.from_pretrained(\"google/text-bison@001\")\n",
    "\n",
    "model3.list_tuned_model_names()"
   ]
  },
  {
   "cell_type": "code",
   "execution_count": null,
   "metadata": {
    "id": "Bb4HhsLc0ha4"
   },
   "outputs": [],
   "source": [
    "# Tuning model\n",
    "! gsutil cp gs://cloud-samples-data/vertex-ai/prediction/llm/q_a_train_with_context.jsonl {BUCKET_URI}/q_a_train_with_context.jsonl\n",
    "\n",
    "tuning_job = model3.tune_model(\n",
    "    training_data=f\"{BUCKET_URI}/q_a_train_with_context.jsonl\",\n",
    "    # Optional:\n",
    "    train_steps=1,\n",
    "    tuning_job_location=\"europe-west4\",\n",
    "    tuned_model_location=\"us-central1\",\n",
    ")"
   ]
  },
  {
   "cell_type": "code",
   "execution_count": null,
   "metadata": {
    "id": "Xf7tWnMU03ZY"
   },
   "outputs": [],
   "source": [
    "# Make a prediction with the fine tuned model\n",
    "tuned_model = tuning_job.get_tuned_model()\n",
    "\n",
    "print(tuned_model.predict(\"Tell me some ideas combining VR and fitness:\"))"
   ]
  },
  {
   "cell_type": "code",
   "execution_count": null,
   "metadata": {
    "id": "7UqoxmAd28QZ"
   },
   "outputs": [],
   "source": [
    "# List tuned model names\n",
    "model3.list_tuned_model_names()"
   ]
  },
  {
   "cell_type": "code",
   "execution_count": null,
   "metadata": {
    "id": "uB7RC4Sd2-vK"
   },
   "outputs": [],
   "source": [
    "# Get tuned model\n",
    "tuned_model4 = model3.get_tuned_model(\n",
    "    tuned_model_name=model3.list_tuned_model_names()[0]\n",
    ")"
   ]
  },
  {
   "cell_type": "code",
   "execution_count": null,
   "metadata": {
    "id": "asNjLVy47_Ox"
   },
   "outputs": [],
   "source": [
    "# Make a prediction with the fine tuned model\n",
    "print(tuned_model4.predict(\"Brainstorm some ideas combining VR and fitness:\"))"
   ]
  },
  {
   "cell_type": "markdown",
   "metadata": {
    "id": "Wai6L3fQowJ_"
   },
   "source": [
    "调整 pandas DataFrame\n",
    "\n",
    "现在，您可以使用一个预训练的文本野牛模型进行微调，并使用微调后的模型进行预测。您的输入数据是内存中的 pandas DataFrame。"
   ]
  },
  {
   "cell_type": "code",
   "execution_count": null,
   "metadata": {
    "id": "lUsZKDS3nIcJ"
   },
   "outputs": [],
   "source": [
    "import pandas\n",
    "\n",
    "training_data = pandas.DataFrame(\n",
    "    data=[\n",
    "        {\"input_text\": \"Input 1\", \"output_text\": \"Output 1\"},\n",
    "        {\"input_text\": \"Input 2\", \"output_text\": \"Output 2\"},\n",
    "        {\"input_text\": \"Input 3\", \"output_text\": \"Output 3\"},\n",
    "        {\"input_text\": \"Input 4\", \"output_text\": \"Output 4\"},\n",
    "        {\"input_text\": \"Input 5\", \"output_text\": \"Output 5\"},\n",
    "        {\"input_text\": \"Input 6\", \"output_text\": \"Output 6\"},\n",
    "        {\"input_text\": \"Input 7\", \"output_text\": \"Output 7\"},\n",
    "        {\"input_text\": \"Input 8\", \"output_text\": \"Output 8\"},\n",
    "        {\"input_text\": \"Input 9\", \"output_text\": \"Output 9\"},\n",
    "        {\"input_text\": \"Input 10\", \"output_text\": \"Output 10\"},\n",
    "    ]\n",
    ")\n",
    "\n",
    "training_data"
   ]
  },
  {
   "cell_type": "code",
   "execution_count": null,
   "metadata": {
    "id": "RMReD76mnAOC"
   },
   "outputs": [],
   "source": [
    "# Tune pretrained model\n",
    "model4 = TextGenerationModel.from_pretrained(\"google/text-bison@001\")\n",
    "\n",
    "tuning_job = model4.tune_model(\n",
    "    training_data=training_data,\n",
    "    # Optional:\n",
    "    train_steps=10,\n",
    "    tuning_job_location=\"europe-west4\",\n",
    "    tuned_model_location=\"us-central1\",\n",
    ")"
   ]
  },
  {
   "cell_type": "code",
   "execution_count": null,
   "metadata": {
    "id": "KWCaCpTDnL1h"
   },
   "outputs": [],
   "source": [
    "# Make a prediction with the fine tuned model\n",
    "tuned_model = tuning_job.get_tuned_model()\n",
    "\n",
    "print(tuned_model.predict(\"Tell me some ideas combining VR and fitness:\"))"
   ]
  },
  {
   "cell_type": "markdown",
   "metadata": {
    "id": "b1bb76638fb5"
   },
   "source": [
    "清理"
   ]
  },
  {
   "cell_type": "code",
   "execution_count": null,
   "metadata": {
    "id": "c41c153770e6"
   },
   "outputs": [],
   "source": [
    "delete_bucket = False\n",
    "\n",
    "# Delete job\n",
    "batch_job_1.delete()\n",
    "batch_job_2.delete()\n",
    "\n",
    "if delete_bucket:\n",
    "    ! gsutil -m rm -r $BUCKET_URI"
   ]
  }
 ],
 "metadata": {
  "colab": {
   "name": "llm_streaming_prediction.ipynb",
   "toc_visible": true
  },
  "kernelspec": {
   "display_name": "Python 3",
   "name": "python3"
  }
 },
 "nbformat": 4,
 "nbformat_minor": 0
}
