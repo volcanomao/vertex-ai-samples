{
 "cells": [
  {
   "cell_type": "code",
   "execution_count": null,
   "metadata": {
    "id": "ur8xi4C7S06n"
   },
   "outputs": [],
   "source": [
    "# Copyright 2023 Google LLC\n",
    "#\n",
    "# Licensed under the Apache License, Version 2.0 (the \"License\");\n",
    "# you may not use this file except in compliance with the License.\n",
    "# You may obtain a copy of the License at\n",
    "#\n",
    "#     https://www.apache.org/licenses/LICENSE-2.0\n",
    "#\n",
    "# Unless required by applicable law or agreed to in writing, software\n",
    "# distributed under the License is distributed on an \"AS IS\" BASIS,\n",
    "# WITHOUT WARRANTIES OR CONDITIONS OF ANY KIND, either express or implied.\n",
    "# See the License for the specific language governing permissions and\n",
    "# limitations under the License."
   ]
  },
  {
   "cell_type": "markdown",
   "metadata": {
    "id": "JAPoU8Sm5E6e"
   },
   "source": [
    "在Vertex AI上使用预构建容器为PyTorch图像模型提供服务\n",
    "\n",
    "<table align=\"left\">\n",
    "  <td style=\"text-align: center\">\n",
    "    <a href=\"https://colab.research.google.com/github/GoogleCloudPlatform/vertex-ai-samples/blob/main/notebooks/official/prediction/pytorch_image_classification_with_prebuilt_serving_containers.ipynb\">\n",
    "      <img src=\"https://cloud.google.com/ml-engine/images/colab-logo-32px.png\" alt=\"Google Colaboratory logo\"><br> 在Colab中打开\n",
    "    </a>\n",
    "  </td>\n",
    "  <td style=\"text-align: center\">\n",
    "    <a href=\"https://console.cloud.google.com/vertex-ai/colab/import/https:%2F%2Fraw.githubusercontent.com%2FGoogleCloudPlatform%2Fvertex-ai-samples%2Fmain%2Fnotebooks%2Fofficial%2Fprediction%2Fpytorch_image_classification_with_prebuilt_serving_containers.ipynb\">\n",
    "      <img width=\"32px\" src=\"https://cloud.google.com/ml-engine/images/colab-enterprise-logo-32px.png\" alt=\"Google Cloud Colab Enterprise logo\"><br> 在Colab Enterprise中打开\n",
    "    </a>\n",
    "  </td>    \n",
    "  <td style=\"text-align: center\">\n",
    "    <a href=\"https://console.cloud.google.com/vertex-ai/workbench/deploy-notebook?download_url=https://raw.githubusercontent.com/GoogleCloudPlatform/vertex-ai-samples/main/notebooks/official/prediction/pytorch_image_classification_with_prebuilt_serving_containers.ipynb\">\n",
    "      <img src=\"https://lh3.googleusercontent.com/UiNooY4LUgW_oTvpsNhPpQzsstV5W8F7rYgxgGBD85cWJoLmrOzhVs_ksK_vgx40SHs7jCqkTkCk=e14-rj-sc0xffffff-h130-w32\" alt=\"Vertex AI logo\"><br> 在Workbench中打开\n",
    "    </a>\n",
    "  </td>\n",
    "  <td style=\"text-align: center\">\n",
    "    <a href=\"https://github.com/GoogleCloudPlatform/vertex-ai-samples/blob/main/notebooks/official/prediction/pytorch_image_classification_with_prebuilt_serving_containers.ipynb\">\n",
    "      <img src=\"https://cloud.google.com/ml-engine/images/github-logo-32px.png\" alt=\"GitHub logo\"><br> 在GitHub上查看\n",
    "    </a>\n",
    "  </td>\n",
    "</table>"
   ]
  },
  {
   "cell_type": "markdown",
   "metadata": {
    "id": "962e636b5cee"
   },
   "source": [
    "**_注意_**：此笔记本已在以下环境中进行了测试：\n",
    "\n",
    "* Python 版本 = 3.9"
   ]
  },
  {
   "cell_type": "markdown",
   "metadata": {
    "id": "tvgnzT1CKxrO"
   },
   "source": [
    "## 概述\n",
    "\n",
    "本教程演示了如何使用预先构建的服务容器上传和部署PyTorch图像模型，以及如何进行在线和批量预测。\n",
    "\n",
    "Vertex AI提供了用于提供训练模型工件预测和解释的预构建容器。使用预构建容器通常比为预测创建自定义容器更简单。\n",
    "\n",
    "了解更多关于[用于预测的预构建容器](https://cloud.google.com/vertex-ai/docs/predictions/pre-built-containers)。"
   ]
  },
  {
   "cell_type": "markdown",
   "metadata": {
    "id": "d975e698c9a4"
   },
   "source": [
    "### 目标\n",
    "\n",
    "在本教程中，您将学习如何使用预构建的Vertex AI容器和TorchServe打包和部署PyTorch图像分类模型，以用于提供在线和批量预测。\n",
    "\n",
    "本教程使用以下Google Cloud ML服务和资源：\n",
    "\n",
    "- `Vertex AI模型注册表`\n",
    "- `Vertex AI模型`资源\n",
    "- `Vertex AI端点`资源\n",
    "\n",
    "执行的步骤包括：\n",
    "\n",
    "- 从PyTorch下载预训练图像模型\n",
    "- 创建自定义模型处理程序\n",
    "- 将模型工件打包到模型存档文件中\n",
    "- 上传模型进行部署\n",
    "- 部署模型进行预测\n",
    "- 进行在线预测\n",
    "- 进行批量预测"
   ]
  },
  {
   "cell_type": "markdown",
   "metadata": {
    "id": "08d289fa873f"
   },
   "source": [
    "模型\n",
    "\n",
    "本教程使用了来自PyTorch TorchVision的预训练图像模型[resnet18](https://pytorch.org/vision/master/models/generated/torchvision.models.resnet18.html)。"
   ]
  },
  {
   "cell_type": "markdown",
   "metadata": {
    "id": "aed92deeb4a0"
   },
   "source": [
    "### 成本\n",
    "\n",
    "本教程使用了 Google Cloud 的计费组件：\n",
    "\n",
    "* Vertex AI\n",
    "* 云存储\n",
    "\n",
    "了解 [Vertex AI 定价](https://cloud.google.com/vertex-ai/pricing)，\n",
    "以及 [云存储定价](https://cloud.google.com/storage/pricing)，\n",
    "并使用 [定价计算器](https://cloud.google.com/products/calculator/)，\n",
    "根据您预计的使用情况生成成本估算。"
   ]
  },
  {
   "cell_type": "markdown",
   "metadata": {
    "id": "7cc240e9c1a6"
   },
   "source": [
    "开始吧"
   ]
  },
  {
   "cell_type": "markdown",
   "metadata": {
    "id": "9d6f71d52f3d"
   },
   "source": [
    "安装Python的Vertex AI SDK和其他所需的软件包。"
   ]
  },
  {
   "cell_type": "code",
   "execution_count": null,
   "metadata": {
    "id": "39883d03df60"
   },
   "outputs": [],
   "source": [
    "! pip3 install --upgrade --quiet google-cloud-aiplatform==1.23.0 \\\n",
    "                                 tensorflow==2.12.0 \\\n",
    "                                 torch==2.0.0 \\\n",
    "                                 torchvision==0.15.1 \\\n",
    "                                 torch-model-archiver==0.7.1 \\\n",
    "                                 packaging==14.3"
   ]
  },
  {
   "cell_type": "markdown",
   "metadata": {
    "id": "16220914acc5"
   },
   "source": [
    "重新启动运行时（仅适用于Colab）\n",
    "\n",
    "要使用新安装的软件包，您必须重新启动Google Colab上的运行时。"
   ]
  },
  {
   "cell_type": "code",
   "execution_count": null,
   "metadata": {
    "id": "157953ab28f0"
   },
   "outputs": [],
   "source": [
    "import sys\n",
    "\n",
    "if \"google.colab\" in sys.modules:\n",
    "\n",
    "    import IPython\n",
    "\n",
    "    app = IPython.Application.instance()\n",
    "    app.kernel.do_shutdown(True)"
   ]
  },
  {
   "cell_type": "markdown",
   "metadata": {
    "id": "e669f8088ac3"
   },
   "source": [
    "<div class=\"alert alert-block alert-warning\"> <b>⚠️内核将重新启动。在继续下一步之前，请等待完成。⚠️</b> </div>"
   ]
  },
  {
   "cell_type": "markdown",
   "metadata": {
    "id": "5dccb1c8feb6"
   },
   "source": [
    "### 验证您的笔记本环境（仅适用于Colab）\n",
    "\n",
    "在Google Colab上验证您的环境。"
   ]
  },
  {
   "cell_type": "code",
   "execution_count": null,
   "metadata": {
    "id": "cc7251520a07"
   },
   "outputs": [],
   "source": [
    "import sys\n",
    "\n",
    "if \"google.colab\" in sys.modules:\n",
    "\n",
    "    from google.colab import auth\n",
    "\n",
    "    auth.authenticate_user()"
   ]
  },
  {
   "cell_type": "markdown",
   "metadata": {
    "id": "60763ee24ce0"
   },
   "source": [
    "### 设置 Google Cloud 项目信息，并初始化 Python 的 Vertex AI SDK\n",
    "\n",
    "要开始使用 Vertex AI，您必须拥有现有的 Google Cloud 项目并[启用 Vertex AI API](https://console.cloud.google.com/flows/enableapi?apiid=aiplatform.googleapis.com)。了解更多关于[设置项目和开发环境](https://cloud.google.com/vertex-ai/docs/start/cloud-environment)的信息。"
   ]
  },
  {
   "cell_type": "code",
   "execution_count": null,
   "metadata": {
    "id": "f02130bff721"
   },
   "outputs": [],
   "source": [
    "PROJECT_ID = \"[your-project-id]\"  # @param {type:\"string\"}\n",
    "LOCATION = \"us-central1\"  # @param {type:\"string\"}"
   ]
  },
  {
   "cell_type": "markdown",
   "metadata": {
    "id": "zgPO1eR3CYjk"
   },
   "source": [
    "创建一个云存储桶\n",
    "\n",
    "创建一个存储桶来存储诸如数据集等中间工件。"
   ]
  },
  {
   "cell_type": "code",
   "execution_count": null,
   "metadata": {
    "id": "MzGDU7TWdts_"
   },
   "outputs": [],
   "source": [
    "BUCKET_URI = f\"gs://your-bucket-name-{PROJECT_ID}-unique\"  # @param {type:\"string\"}"
   ]
  },
  {
   "cell_type": "markdown",
   "metadata": {
    "id": "-EcIXiGsCePi"
   },
   "source": [
    "如果您的存储桶尚不存在： 运行以下单元以创建您的云存储存储桶。"
   ]
  },
  {
   "cell_type": "code",
   "execution_count": null,
   "metadata": {
    "id": "NIq7R4HZCfIc"
   },
   "outputs": [],
   "source": [
    "! gsutil mb -l {LOCATION} -p {PROJECT_ID} {BUCKET_URI}"
   ]
  },
  {
   "cell_type": "markdown",
   "metadata": {
    "id": "init_aip:mbsdk,all"
   },
   "source": [
    "#### 初始化用于Python的Vertex AI SDK\n",
    "\n",
    "为您的项目初始化Vertex AI SDK以便在Python中使用。"
   ]
  },
  {
   "cell_type": "code",
   "execution_count": null,
   "metadata": {
    "id": "BnBAXs5XkCJZ"
   },
   "outputs": [],
   "source": [
    "from google.cloud import aiplatform\n",
    "\n",
    "aiplatform.init(project=PROJECT_ID, location=LOCATION, staging_bucket=BUCKET_URI)"
   ]
  },
  {
   "cell_type": "markdown",
   "metadata": {
    "id": "960505627ddf"
   },
   "source": [
    "### 导入库"
   ]
  },
  {
   "cell_type": "code",
   "execution_count": null,
   "metadata": {
    "id": "PyQmSRbKA8r-"
   },
   "outputs": [],
   "source": [
    "import base64\n",
    "import json\n",
    "import os\n",
    "import pathlib\n",
    "import urllib.request\n",
    "\n",
    "import tensorflow as tf\n",
    "import torch\n",
    "from PIL import Image\n",
    "from torchvision import models"
   ]
  },
  {
   "cell_type": "markdown",
   "metadata": {
    "id": "_McUaTTABIqu"
   },
   "source": [
    "下载预训练的图像模型[resnet18](https://pytorch.org/vision/master/models/generated/torchvision.models.resnet18.html)从PyTorch TorchVision。"
   ]
  },
  {
   "cell_type": "code",
   "execution_count": null,
   "metadata": {
    "id": "9Ss_3SGpqOWy"
   },
   "outputs": [],
   "source": [
    "# Create a local directory for model artifacts\n",
    "model_path = \"model\"\n",
    "\n",
    "!rm -r $model_path\n",
    "!mkdir $model_path\n",
    "\n",
    "model_name = \"resnet-18-custom-handler\"\n",
    "model_file = f\"{model_path}/{model_name}.pt\""
   ]
  },
  {
   "cell_type": "code",
   "execution_count": null,
   "metadata": {
    "id": "z62_eZEcEBKt"
   },
   "outputs": [],
   "source": [
    "# Use scripted mode to save the PyTorch model locally\n",
    "model = models.resnet18(pretrained=True)\n",
    "script_module = torch.jit.script(model)\n",
    "script_module.save(model_file)"
   ]
  },
  {
   "cell_type": "markdown",
   "metadata": {
    "id": "FZpKK4FgDHeu"
   },
   "source": [
    "创建自定义模型处理程序\n",
    "\n",
    "自定义模型处理程序是一个Python脚本，当您使用模型归档工具时，您可以将其与模型一起打包。该脚本通常定义如何预处理输入数据，调用模型和后处理输出。\n",
    "\n",
    "TorchServe为`image_classifier`、`image_segmenter`、`object_detector`和`text_classifier`提供了[默认处理程序](https://pytorch.org/serve/default_handlers.html)。在本教程中，您将创建一个自定义处理程序，扩展默认的[`image_classifier`](https://github.com/pytorch/serve/blob/master/ts/torch_handler/image_classifier.py)处理程序。"
   ]
  },
  {
   "cell_type": "code",
   "execution_count": null,
   "metadata": {
    "id": "0jW_oUKNs0vQ"
   },
   "outputs": [],
   "source": [
    "hander_file = f\"{model_path}/custom_handler.py\""
   ]
  },
  {
   "cell_type": "code",
   "execution_count": null,
   "metadata": {
    "id": "toIO7mTus453"
   },
   "outputs": [],
   "source": [
    "%%writefile {hander_file}\n",
    "\n",
    "import torch\n",
    "import torch.nn.functional as F\n",
    "from ts.torch_handler.image_classifier import ImageClassifier\n",
    "from ts.utils.util import map_class_to_label\n",
    "\n",
    "\n",
    "class CustomImageClassifier(ImageClassifier):\n",
    "\n",
    "    # Only return the top 3 predictions\n",
    "    topk = 3\n",
    "\n",
    "    def postprocess(self, data):\n",
    "        ps = F.softmax(data, dim=1)\n",
    "        probs, classes = torch.topk(ps, self.topk, dim=1)\n",
    "        probs = probs.tolist()\n",
    "        classes = classes.tolist()\n",
    "        return map_class_to_label(probs, self.mapping, classes)"
   ]
  },
  {
   "cell_type": "markdown",
   "metadata": {
    "id": "sD9ttWmqhPME"
   },
   "source": [
    "## 下载一个index_to_name.json文件\n",
    "\n",
    "PyTorch的`image_classifier`、`text_classifier`和`object_detector`都可以自动将数字类别（0,1,2...）映射为友好的字符串。要实现这一点，只需在您的模型归档文件中包含一个包含类别号码到友好名称映射的`index_to_name.json`文件。"
   ]
  },
  {
   "cell_type": "code",
   "execution_count": null,
   "metadata": {
    "id": "m19wquufqOaL"
   },
   "outputs": [],
   "source": [
    "index_to_name_file = f\"{model_path}/index_to_name.json\"\n",
    "\n",
    "urllib.request.urlretrieve(\n",
    "    \"https://github.com/pytorch/serve/raw/master/examples/image_classifier/index_to_name.json\",\n",
    "    index_to_name_file,\n",
    ")"
   ]
  },
  {
   "cell_type": "markdown",
   "metadata": {
    "id": "MJe1luzPjPCJ"
   },
   "source": [
    "将模型产物打包在一个模型存档文件中\n",
    "\n",
    "你可以使用[`Torch模型归档器`](https://github.com/pytorch/serve/tree/master/model-archiver)将所有模型产物打包在一个模型存档文件中。\n",
    "\n",
    "请注意，预构建的PyTorch服务容器需要模型存档文件命名为`model.mar`，因此在`torch-model-archiver`命令中需要将模型名称设置为`model`。"
   ]
  },
  {
   "cell_type": "code",
   "execution_count": null,
   "metadata": {
    "id": "mtP3s0MLqOL8"
   },
   "outputs": [],
   "source": [
    "# Add torch-model-archiver to the PATH\n",
    "os.environ[\"PATH\"] = f'{os.environ.get(\"PATH\")}:~/.local/bin'"
   ]
  },
  {
   "cell_type": "code",
   "execution_count": null,
   "metadata": {
    "id": "pN1BqokBtHAS"
   },
   "outputs": [],
   "source": [
    "!torch-model-archiver -f \\\n",
    "  --model-name model \\\n",
    "  --version 1.0  \\\n",
    "  --serialized-file $model_file \\\n",
    "  --handler $hander_file \\\n",
    "  --extra-files $index_to_name_file \\\n",
    "  --export-path $model_path"
   ]
  },
  {
   "cell_type": "markdown",
   "metadata": {
    "id": "8qXVlPVTlRgP"
   },
   "source": [
    "将模型构件复制到云存储\n",
    "\n",
    "接下来，使用 `gsutil` 将模型构件复制到您的云存储存储桶中。"
   ]
  },
  {
   "cell_type": "code",
   "execution_count": null,
   "metadata": {
    "id": "hsJ6YVaitHVW"
   },
   "outputs": [],
   "source": [
    "MODEL_URI = f\"{BUCKET_URI}/{model_name}\"\n",
    "\n",
    "!gsutil rm -r $MODEL_URI\n",
    "!gsutil cp -r $model_path $MODEL_URI\n",
    "!gsutil ls -al $MODEL_URI"
   ]
  },
  {
   "cell_type": "markdown",
   "metadata": {
    "id": "B9Ep0eANl7te"
   },
   "source": [
    "上传模型进行部署\n",
    "\n",
    "接下来，您将上传模型至`Vertex AI模型注册表`，这将为您的模型创建一个`Vertex AI模型`资源。本教程使用PyTorch v1.11容器，但对于您自己的用例，您可以从[PyTorch预构建容器列表](https://cloud.google.com/vertex-ai/docs/predictions/pre-built-containers#pytorch)中进行选择。"
   ]
  },
  {
   "cell_type": "code",
   "execution_count": null,
   "metadata": {
    "id": "igJgzA6btPL7"
   },
   "outputs": [],
   "source": [
    "DEPLOY_IMAGE_URI = \"us-docker.pkg.dev/vertex-ai/prediction/pytorch-cpu.1-11:latest\"\n",
    "\n",
    "deployed_model = aiplatform.Model.upload(\n",
    "    display_name=model_name,\n",
    "    serving_container_image_uri=DEPLOY_IMAGE_URI,\n",
    "    artifact_uri=MODEL_URI,\n",
    ")"
   ]
  },
  {
   "cell_type": "markdown",
   "metadata": {
    "id": "Tys97v6XpLmF"
   },
   "source": [
    "部署模型进行预测\n",
    "\n",
    "接下来，部署您的模型进行在线预测。您可以设置变量`DEPLOY_COMPUTE`来配置机器类型，用于进行预测所需的[计算资源](https://cloud.google.com/vertex-ai/docs/predictions/configure-compute)。"
   ]
  },
  {
   "cell_type": "code",
   "execution_count": null,
   "metadata": {
    "id": "ka_zUL6-tPxW"
   },
   "outputs": [],
   "source": [
    "DEPLOY_COMPUTE = \"n1-standard-4\"\n",
    "\n",
    "endpoint = deployed_model.deploy(\n",
    "    deployed_model_display_name=model_name,\n",
    "    machine_type=DEPLOY_COMPUTE,\n",
    "    accelerator_type=None,\n",
    "    accelerator_count=0,\n",
    ")"
   ]
  },
  {
   "cell_type": "markdown",
   "metadata": {
    "id": "Dp2oUReOpx7X"
   },
   "source": [
    "## 进行在线预测\n",
    "\n",
    "### 下载图像数据集\n",
    "在此示例中，您可以使用 TensorFlow 的花卉数据集作为在线和批处理预测的输入。"
   ]
  },
  {
   "cell_type": "code",
   "execution_count": null,
   "metadata": {
    "id": "nwKmNS-UqOP3"
   },
   "outputs": [],
   "source": [
    "data_dir = tf.keras.utils.get_file(\n",
    "    \"flower_photos\",\n",
    "    origin=\"https://storage.googleapis.com/download.tensorflow.org/example_images/flower_photos.tgz\",\n",
    "    untar=True,\n",
    ")\n",
    "\n",
    "data_dir = pathlib.Path(data_dir)\n",
    "images_files = list(data_dir.glob(\"daisy/*\"))"
   ]
  },
  {
   "cell_type": "markdown",
   "metadata": {
    "id": "0xRXkbxZqDkc"
   },
   "source": [
    "获取在线预测\n",
    "\n",
    "您将包含编码输入图像数据的`predict`请求发送到`endpoint`，并获得预测结果。"
   ]
  },
  {
   "cell_type": "code",
   "execution_count": null,
   "metadata": {
    "id": "lzooJLwUtXiU"
   },
   "outputs": [],
   "source": [
    "with open(images_files[0], \"rb\") as f:\n",
    "    data = {\"data\": base64.b64encode(f.read()).decode(\"utf-8\")}\n",
    "\n",
    "response = endpoint.predict(instances=[data])"
   ]
  },
  {
   "cell_type": "code",
   "execution_count": null,
   "metadata": {
    "id": "w3qgFiMyuUb3"
   },
   "outputs": [],
   "source": [
    "prediction = response.predictions[0]\n",
    "prediction = dict(sorted(prediction.items(), key=lambda item: item[1], reverse=True))\n",
    "\n",
    "print(prediction)\n",
    "image = Image.open(images_files[0])\n",
    "image"
   ]
  },
  {
   "cell_type": "markdown",
   "metadata": {
    "id": "6o93-TkuqXS-"
   },
   "source": [
    "## 进行批量预测\n",
    "\n",
    "### 创建批量输入文件\n",
    "\n",
    "您需以JSONL格式创建批量输入文件，并将该文件存储在您的云存储桶中。\n",
    "\n",
    "了解更多关于[输入数据要求](https://cloud.google.com/vertex-ai/docs/predictions/get-predictions#input_data_requirements)。"
   ]
  },
  {
   "cell_type": "code",
   "execution_count": null,
   "metadata": {
    "id": "ChsjFzwW0rBj"
   },
   "outputs": [],
   "source": [
    "TEST_IMAGE_SIZE = 2\n",
    "test_image_list = []\n",
    "for i in range(TEST_IMAGE_SIZE):\n",
    "    test_image_list.append(str(images_files[i]))\n",
    "\n",
    "gcs_input_uri = f\"{BUCKET_URI}/test_images.json\"\n",
    "\n",
    "with tf.io.gfile.GFile(gcs_input_uri, \"w\") as f:\n",
    "    for test_image in test_image_list:\n",
    "        with open(test_image, \"rb\") as image_f:\n",
    "            data = {\"data\": base64.b64encode(image_f.read()).decode(\"utf-8\")}\n",
    "            f.write(json.dumps(data) + \"\\n\")"
   ]
  },
  {
   "cell_type": "markdown",
   "metadata": {
    "id": "_Ap-UO4tsJiO"
   },
   "source": [
    "提交一个批量预测任务"
   ]
  },
  {
   "cell_type": "code",
   "execution_count": null,
   "metadata": {
    "id": "HhH6KyIk0t3n"
   },
   "outputs": [],
   "source": [
    "JOB_DISPLAY_NAME = f\"{model_name}_batch_predict_job_unique\"\n",
    "\n",
    "batch_predict_job = deployed_model.batch_predict(\n",
    "    job_display_name=JOB_DISPLAY_NAME,\n",
    "    gcs_source=gcs_input_uri,\n",
    "    gcs_destination_prefix=BUCKET_URI,\n",
    "    instances_format=\"jsonl\",\n",
    "    model_parameters=None,\n",
    "    machine_type=DEPLOY_COMPUTE,\n",
    ")"
   ]
  },
  {
   "cell_type": "markdown",
   "metadata": {
    "id": "2gVBOadysOSY"
   },
   "source": [
    "### 获取批量预测\n",
    "\n",
    "批处理作业完成后，结果将写入您在批处理请求中指定的Cloud Storage输出存储桶。您可以调用方法`iter_outputs()`获取包含结果的每个Cloud Storage文件的列表。"
   ]
  },
  {
   "cell_type": "code",
   "execution_count": null,
   "metadata": {
    "id": "wXcrGXrf0yVb"
   },
   "outputs": [],
   "source": [
    "bp_iter_outputs = batch_predict_job.iter_outputs()\n",
    "\n",
    "prediction_files = list()\n",
    "for blob in bp_iter_outputs:\n",
    "    if blob.name.split(\"/\")[-1].startswith(\"prediction.results\"):\n",
    "        prediction_files.append(blob.name)"
   ]
  },
  {
   "cell_type": "code",
   "execution_count": null,
   "metadata": {
    "id": "4f7nXK1Y0vmd"
   },
   "outputs": [],
   "source": [
    "prediction_file = prediction_files[0]\n",
    "\n",
    "results = []\n",
    "gfile_name = f\"{BUCKET_URI}/{prediction_file}\"\n",
    "with tf.io.gfile.GFile(name=gfile_name, mode=\"r\") as gfile:\n",
    "    for line in gfile.readlines():\n",
    "        results.append(json.loads(line))\n",
    "\n",
    "# Take one result as an example and print out the prediction.\n",
    "prediction = results[0][\"prediction\"]\n",
    "prediction = dict(sorted(prediction.items(), key=lambda item: item[1], reverse=True))\n",
    "print(prediction)"
   ]
  },
  {
   "cell_type": "markdown",
   "metadata": {
    "id": "TpV-iwP9qw9c"
   },
   "source": [
    "清理\n",
    "\n",
    "要清理此项目中使用的所有Google Cloud资源，您可以删除用于本教程的[Google Cloud项目](https://cloud.google.com/resource-manager/docs/creating-managing-projects#shutting_down_projects)。\n",
    "\n",
    "否则，您可以删除在本教程中创建的各个资源。"
   ]
  },
  {
   "cell_type": "code",
   "execution_count": null,
   "metadata": {
    "id": "sx_vKniMq9ZX"
   },
   "outputs": [],
   "source": [
    "endpoint.undeploy_all()\n",
    "endpoint.delete()\n",
    "\n",
    "deployed_model.delete()\n",
    "batch_predict_job.delete()\n",
    "\n",
    "delete_bucket = False\n",
    "if delete_bucket:\n",
    "    ! gsutil -m rm -r $BUCKET_URI"
   ]
  }
 ],
 "metadata": {
  "colab": {
   "name": "pytorch_image_classification_with_prebuilt_serving_containers.ipynb",
   "toc_visible": true
  },
  "kernelspec": {
   "display_name": "Python 3",
   "name": "python3"
  }
 },
 "nbformat": 4,
 "nbformat_minor": 0
}
