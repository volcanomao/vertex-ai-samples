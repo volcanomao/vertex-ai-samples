{
 "cells": [
  {
   "cell_type": "code",
   "execution_count": null,
   "metadata": {
    "id": "ur8xi4C7S06n"
   },
   "outputs": [],
   "source": [
    "# Copyright 2022 Google LLC\n",
    "#\n",
    "# Licensed under the Apache License, Version 2.0 (the \"License\");\n",
    "# you may not use this file except in compliance with the License.\n",
    "# You may obtain a copy of the License at\n",
    "#\n",
    "#     https://www.apache.org/licenses/LICENSE-2.0\n",
    "#\n",
    "# Unless required by applicable law or agreed to in writing, software\n",
    "# distributed under the License is distributed on an \"AS IS\" BASIS,\n",
    "# WITHOUT WARRANTIES OR CONDITIONS OF ANY KIND, either express or implied.\n",
    "# See the License for the specific language governing permissions and\n",
    "# limitations under the License."
   ]
  },
  {
   "cell_type": "markdown",
   "metadata": {
    "id": "JAPoU8Sm5E6e"
   },
   "source": [
    "# 使用Vertex AI实验比较流水线运行\n",
    "\n",
    "<table align=\"left\">\n",
    "\n",
    "  <td style=\"text-align: center\">\n",
    "    <a href=\"https://colab.research.google.com/github/GoogleCloudPlatform/vertex-ai-samples/blob/main/notebooks/official/experiments/comparing_pipeline_runs.ipynb\">\n",
    "      <img src=\"https://cloud.google.com/ml-engine/images/colab-logo-32px.png\" alt=\"Colab logo\"><br> 在Colab中运行\n",
    "    </a>\n",
    "  </td>\n",
    "  <td style=\"text-align: center\">\n",
    "    <a href=\"https://console.cloud.google.com/vertex-ai/colab/import/https:%2F%2Fgithub.com%2FGoogleCloudPlatform%2Fvertex-ai-samples%2Fblob%2Fmain%2Fnotebooks%2Fofficial%2Fexperiments%2Fcomparing_pipeline_runs.ipynb\">\n",
    "      <img width=\"32px\" src=\"https://cloud.google.com/ml-engine/images/colab-enterprise-logo-32px.png\\\" alt=\"Google Cloud Colab Enterprise logo\\\"><br> 在Colab Enterprise中打开\n",
    "    </a>\n",
    "  </td>\n",
    "  <td style=\"text-align: center\">\n",
    "    <a href=\"https://github.com/GoogleCloudPlatform/vertex-ai-samples/blob/main/notebooks/official/experiments/comparing_pipeline_runs.ipynb\">\n",
    "      <img src=\"https://cloud.google.com/ml-engine/images/github-logo-32px.png\" alt=\"GitHub logo\"><br>\n",
    "      在GitHub上查看\n",
    "    </a>\n",
    "  </td>\n",
    "  <td style=\"text-align: center\">\n",
    "    <a href=\"https://console.cloud.google.com/vertex-ai/workbench/deploy-notebook?download_url=https://raw.githubusercontent.com/GoogleCloudPlatform/vertex-ai-samples/main/notebooks/official/experiments/comparing_pipeline_runs.ipynb\">\n",
    "      <img src=\"https://lh3.googleusercontent.com/UiNooY4LUgW_oTvpsNhPpQzsstV5W8F7rYgxgGBD85cWJoLmrOzhVs_ksK_vgx40SHs7jCqkTkCk=e14-rj-sc0xffffff-h130-w32\" alt=\"Vertex AI logo\"><br>\n",
    "      在Vertex AI工作台中打开\n",
    "    </a>\n",
    "  </td>                                                                                               \n",
    "</table>"
   ]
  },
  {
   "cell_type": "markdown",
   "metadata": {
    "id": "tvgnzT1CKxrO"
   },
   "source": [
    "## 概述\n",
    "\n",
    "作为数据科学家，根据模型的生命周期，您可能希望尝试并跟踪训练管道运行及其相关参数。然后，您希望比较这些管道的运行，以确定哪一个对于生成您计划在Vertex AI模型注册表中注册的模型具有最佳配置。\n",
    "\n",
    "了解更多关于[Vertex AI实验](https://cloud.google.com/vertex-ai/docs/experiments/intro-vertex-ai-experiments)和[Vertex AI管道](https://cloud.google.com/vertex-ai/docs/pipelines/introduction)的信息。"
   ]
  },
  {
   "cell_type": "markdown",
   "metadata": {
    "id": "d220917f1302"
   },
   "source": [
    "### 目标\n",
    "\n",
    "在本教程中，您将学习如何使用Vertex AI实验来记录一个流水线作业，然后比较不同的流水线作业。\n",
    "\n",
    "本教程使用以下Google Cloud ML服务和资源：\n",
    "\n",
    "- Vertex AI流水线\n",
    "- Vertex AI实验\n",
    "\n",
    "执行的步骤包括：\n",
    "\n",
    "* 形式化训练组件\n",
    "* 构建训练流水线\n",
    "* 运行多个流水线作业并记录它们的结果\n",
    "* 比较不同的流水线作业"
   ]
  },
  {
   "cell_type": "markdown",
   "metadata": {
    "id": "263933842022"
   },
   "source": [
    "### 数据集\n",
    "\n",
    "本教程使用的数据集是来自[TensorFlow Datasets](https://www.tensorflow.org/datasets/catalog/overview)的[Iris数据集](https://www.tensorflow.org/datasets/catalog/iris)。这个数据集不需要进行任何特征工程。本教程中使用的数据集版本存储在一个公共云存储桶中。训练的模型预测来自三种类别的鸢尾花种类：山鸢尾、维吉尼亚鸢尾或变色鸢尾。"
   ]
  },
  {
   "cell_type": "markdown",
   "metadata": {
    "id": "de76bb18c85b"
   },
   "source": [
    "### 成本\n",
    "\n",
    "本教程使用Google Cloud的计费组件：\n",
    "\n",
    "* Vertex AI\n",
    "* 云存储\n",
    "\n",
    "了解[Vertex AI 价格](https://cloud.google.com/vertex-ai/pricing) 和 [云存储价格](https://cloud.google.com/storage/pricing)，并使用[Pricing Calculator](https://cloud.google.com/products/calculator/) 根据您的预期使用情况生成成本估算。"
   ]
  },
  {
   "cell_type": "markdown",
   "metadata": {
    "id": "xlpUSF8AIj63"
   },
   "source": [
    "开始吧"
   ]
  },
  {
   "cell_type": "markdown",
   "metadata": {
    "id": "i7EUnXsZhAGF"
   },
   "source": [
    "### 为 Python 安装 Vertex AI SDK 和其他必要的软件包"
   ]
  },
  {
   "cell_type": "code",
   "execution_count": null,
   "metadata": {
    "id": "2b4ef9b72d43"
   },
   "outputs": [],
   "source": [
    "! pip3 install --upgrade google-cloud-aiplatform -q --no-warn-conflicts\n",
    "! pip3 install kfp -q --no-warn-conflicts"
   ]
  },
  {
   "cell_type": "markdown",
   "metadata": {
    "id": "restart"
   },
   "source": [
    "重启运行时（仅适用于Colab）\n",
    "\n",
    "要使用新安装的软件包，您必须重新启动Google Colab上的运行时。"
   ]
  },
  {
   "cell_type": "code",
   "execution_count": null,
   "metadata": {
    "id": "D-ZBOjErv5mM"
   },
   "outputs": [],
   "source": [
    "import sys\n",
    "\n",
    "if \"google.colab\" in sys.modules:\n",
    "\n",
    "    import IPython\n",
    "\n",
    "    app = IPython.Application.instance()\n",
    "    app.kernel.do_shutdown(True)"
   ]
  },
  {
   "cell_type": "markdown",
   "metadata": {
    "id": "yfEglUHQk9S3"
   },
   "source": [
    "<div class=\"alert alert-block alert-warning\">\n",
    "<b>⚠️ 内核即将重新启动。在继续下一步之前请等待它完成。 ⚠️</b>\n",
    "</div>"
   ]
  },
  {
   "cell_type": "markdown",
   "metadata": {
    "id": "LnTLX7UGKql8"
   },
   "source": [
    "### 在Google Colab上验证您的笔记本环境\n",
    "\n",
    "在Google Colab上验证您的环境。"
   ]
  },
  {
   "cell_type": "code",
   "execution_count": null,
   "metadata": {
    "id": "GhWCxscxKyeG"
   },
   "outputs": [],
   "source": [
    "import sys\n",
    "\n",
    "if \"google.colab\" in sys.modules:\n",
    "\n",
    "    from google.colab import auth\n",
    "\n",
    "    auth.authenticate_user()"
   ]
  },
  {
   "cell_type": "markdown",
   "metadata": {
    "id": "CdBaOmh9K3tC"
   },
   "source": [
    "### 设置Google Cloud项目信息\n",
    "\n",
    "要开始使用Vertex AI，您必须拥有一个现有的Google Cloud项目并[启用Vertex AI API](https://console.cloud.google.com/flows/enableapi?apiid=aiplatform.googleapis.com)。了解更多关于[设置项目和开发环境](https://cloud.google.com/vertex-ai/docs/start/cloud-environment)的信息。"
   ]
  },
  {
   "cell_type": "code",
   "execution_count": null,
   "metadata": {
    "id": "set_project_id"
   },
   "outputs": [],
   "source": [
    "PROJECT_ID = \"[your-project-id]\"  # @param {type:\"string\"}\n",
    "LOCATION = \"us-central1\"  # @param {type: \"string\"}"
   ]
  },
  {
   "cell_type": "markdown",
   "metadata": {
    "id": "bucket:mbsdk"
   },
   "source": [
    "创建云存储桶\n",
    "\n",
    "创建一个存储桶，用于存储诸如数据集之类的中间产物。"
   ]
  },
  {
   "cell_type": "code",
   "execution_count": null,
   "metadata": {
    "id": "bucket"
   },
   "outputs": [],
   "source": [
    "BUCKET_URI = f\"gs://your-bucket-name-{PROJECT_ID}-unique\"  # @param {type:\"string\"}"
   ]
  },
  {
   "cell_type": "markdown",
   "metadata": {
    "id": "create_bucket"
   },
   "source": [
    "如果您的存储桶尚不存在：运行以下单元格以创建您的云存储存储桶。"
   ]
  },
  {
   "cell_type": "code",
   "execution_count": null,
   "metadata": {
    "id": "SVwNOMp39Qtz"
   },
   "outputs": [],
   "source": [
    "! gsutil mb -l $LOCATION $BUCKET_URI"
   ]
  },
  {
   "cell_type": "markdown",
   "metadata": {
    "id": "b7e24e522bee"
   },
   "source": [
    "服务账户\n",
    "\n",
    "**如果您不知道您的服务账户**，请尝试使用`gcloud`命令通过执行下面的第二个单元格来获取您的服务账户。"
   ]
  },
  {
   "cell_type": "code",
   "execution_count": null,
   "metadata": {
    "id": "77b01a1fdbb4"
   },
   "outputs": [],
   "source": [
    "SERVICE_ACCOUNT = \"[your-service-account]\"  # @param {type:\"string\"}"
   ]
  },
  {
   "cell_type": "code",
   "execution_count": null,
   "metadata": {
    "id": "121d7ca29426"
   },
   "outputs": [],
   "source": [
    "import sys\n",
    "\n",
    "IS_COLAB = \"google.colab\" in sys.modules\n",
    "\n",
    "if (\n",
    "    SERVICE_ACCOUNT == \"\"\n",
    "    or SERVICE_ACCOUNT is None\n",
    "    or SERVICE_ACCOUNT == \"[your-service-account]\"\n",
    "):\n",
    "    # Get your service account from gcloud\n",
    "    if not IS_COLAB:\n",
    "        shell_output = !gcloud auth list 2>/dev/null\n",
    "        SERVICE_ACCOUNT = shell_output[2].replace(\"*\", \"\").strip()\n",
    "\n",
    "    if IS_COLAB:\n",
    "        shell_output = ! gcloud projects describe  $PROJECT_ID\n",
    "        project_number = shell_output[-1].split(\":\")[1].strip().replace(\"'\", \"\")\n",
    "        SERVICE_ACCOUNT = f\"{project_number}-compute@developer.gserviceaccount.com\"\n",
    "\n",
    "    print(\"Service Account:\", SERVICE_ACCOUNT)"
   ]
  },
  {
   "cell_type": "markdown",
   "metadata": {
    "id": "aa175e2960ac"
   },
   "source": [
    "设置用于 Vertex AI Pipelines 的服务帐号访问权限\n",
    "\n",
    "运行以下命令，将您的服务帐号访问权限授予到之前创建的存储桶中读取和写入管道工件。每个服务帐号只需运行此步骤一次。"
   ]
  },
  {
   "cell_type": "code",
   "execution_count": null,
   "metadata": {
    "id": "f88cb0488c08"
   },
   "outputs": [],
   "source": [
    "! gsutil iam ch serviceAccount:{SERVICE_ACCOUNT}:roles/storage.objectCreator $BUCKET_URI\n",
    "\n",
    "! gsutil iam ch serviceAccount:{SERVICE_ACCOUNT}:roles/storage.objectViewer $BUCKET_URI"
   ]
  },
  {
   "cell_type": "markdown",
   "metadata": {
    "id": "fXUqOdIaLbjf"
   },
   "source": [
    "下载训练数据集###"
   ]
  },
  {
   "cell_type": "code",
   "execution_count": null,
   "metadata": {
    "id": "9fYX14c0LfmU"
   },
   "outputs": [],
   "source": [
    "DATASET_URI = \"gs://cloud-samples-data/ai-platform/iris\"\n",
    "\n",
    "!gsutil cp -r $DATASET_URI $BUCKET_URI"
   ]
  },
  {
   "cell_type": "markdown",
   "metadata": {
    "id": "XoEqT2Y4DJmf"
   },
   "source": [
    "导入库并定义常量"
   ]
  },
  {
   "cell_type": "code",
   "execution_count": null,
   "metadata": {
    "id": "pRUOFELefqf1"
   },
   "outputs": [],
   "source": [
    "import logging\n",
    "# General\n",
    "import time\n",
    "import uuid\n",
    "\n",
    "logger = logging.getLogger(\"logger\")\n",
    "logging.basicConfig(level=logging.INFO)\n",
    "\n",
    "import kfp.compiler as compiler\n",
    "# Pipeline Experiments\n",
    "import kfp.dsl as dsl\n",
    "# Vertex AI\n",
    "from google.cloud import aiplatform as vertex_ai\n",
    "from google.cloud.aiplatform_v1.types.pipeline_state import PipelineState\n",
    "from kfp.dsl import Metrics, Model, Output, component"
   ]
  },
  {
   "cell_type": "code",
   "execution_count": null,
   "metadata": {
    "id": "OAY0QKZD8qNP"
   },
   "outputs": [],
   "source": [
    "# Experiments\n",
    "TASK = \"classification\"\n",
    "MODEL_TYPE = \"xgboost\"\n",
    "EXPERIMENT_NAME = f\"{PROJECT_ID}-{TASK}-{MODEL_TYPE}-{uuid.uuid1()}\"\n",
    "\n",
    "# Pipeline\n",
    "PIPELINE_TEMPLATE_FILE = \"pipeline.json\"\n",
    "PIPELINE_URI = f\"{BUCKET_URI}/pipelines\"\n",
    "TRAIN_URI = f\"{BUCKET_URI}/iris/iris_data.csv\"\n",
    "LABEL_URI = f\"{BUCKET_URI}/iris/iris_target.csv\"\n",
    "MODEL_URI = f\"{BUCKET_URI}/model\""
   ]
  },
  {
   "cell_type": "markdown",
   "metadata": {
    "id": "inR70nh38PeK"
   },
   "source": [
    "初始化Python的Vertex AI SDK\n",
    "\n",
    "为您的项目和相应的存储桶初始化Python的Vertex AI SDK。"
   ]
  },
  {
   "cell_type": "code",
   "execution_count": null,
   "metadata": {
    "id": "Nz0nasrh8T3c"
   },
   "outputs": [],
   "source": [
    "vertex_ai.init(project=PROJECT_ID, staging_bucket=BUCKET_URI)"
   ]
  },
  {
   "cell_type": "markdown",
   "metadata": {
    "id": "container:training,prediction,xgboost"
   },
   "source": [
    "### 设置预构建的容器\n",
    "\n",
    "设置用于训练和预测的预构建Docker容器映像。 \n",
    "\n",
    "有关最新列表，请参阅[用于训练的预构建容器](https://cloud.google.com/vertex-ai/docs/training/pre-built-containers)。\n",
    "\n",
    "有关最新列表，请参阅[用于预测的预构建容器](https://cloud.google.com/vertex-ai/docs/predictions/pre-built-containers)。"
   ]
  },
  {
   "cell_type": "code",
   "execution_count": null,
   "metadata": {
    "id": "XujRA5ueox9U"
   },
   "outputs": [],
   "source": [
    "TRAIN_IMAGE = vertex_ai.helpers.get_prebuilt_prediction_container_uri(\n",
    "    framework=\"xgboost\", framework_version=\"1.1\", accelerator=\"cpu\"\n",
    ")"
   ]
  },
  {
   "cell_type": "markdown",
   "metadata": {
    "id": "t1NLYz1R-KWv"
   },
   "source": [
    "将训练形式化为管道组件。"
   ]
  },
  {
   "cell_type": "markdown",
   "metadata": {
    "id": "jnfKxpj0-Z0H"
   },
   "source": [
    "在开始运行管道实验之前，您必须将您的训练正式化为管道组件。\n",
    "\n",
    "为了做到这一点，使用`kfp.dsl.component`装饰器构建管道，将您的训练任务转换为管道组件。下面的示例为组件指定了一个基本镜像（python:3.8）。"
   ]
  },
  {
   "cell_type": "code",
   "execution_count": null,
   "metadata": {
    "id": "jv_-vU46_eFN"
   },
   "outputs": [],
   "source": [
    "@component(\n",
    "    base_image=\"python:3.8\",\n",
    "    packages_to_install=[\n",
    "        \"numpy==1.18.5\",\n",
    "        \"pandas==1.0.4\",\n",
    "        \"scikit-learn==0.23.1\",\n",
    "        \"xgboost==1.1.1\",\n",
    "    ],\n",
    ")\n",
    "def custom_trainer(\n",
    "    train_uri: str,\n",
    "    label_uri: str,\n",
    "    max_depth: int,\n",
    "    learning_rate: float,\n",
    "    boost_rounds: int,\n",
    "    model_uri: str,\n",
    "    metrics: Output[Metrics],\n",
    "    model_metadata: Output[Model],\n",
    "):\n",
    "\n",
    "    # import libraries\n",
    "    import logging\n",
    "    import uuid\n",
    "    from pathlib import Path as path\n",
    "\n",
    "    import pandas as pd\n",
    "    import xgboost as xgb\n",
    "    from sklearn.metrics import accuracy_score\n",
    "    from sklearn.model_selection import train_test_split\n",
    "\n",
    "    # variables\n",
    "    gs_prefix = \"gs://\"\n",
    "    gcsfuse_prefix = \"/gcs/\"\n",
    "    train_path = train_uri.replace(gs_prefix, gcsfuse_prefix)\n",
    "    label_path = label_uri.replace(gs_prefix, gcsfuse_prefix)\n",
    "    model_path = model_uri.replace(gs_prefix, gcsfuse_prefix)\n",
    "\n",
    "    def get_logger():\n",
    "        \"\"\"\n",
    "        Get the logger\n",
    "        \"\"\"\n",
    "        logger = logging.getLogger(__name__)\n",
    "        logger.setLevel(logging.INFO)\n",
    "        handler = logging.StreamHandler()\n",
    "        handler.setFormatter(\n",
    "            logging.Formatter(\"%(asctime)s - %(name)s - %(levelname)s - %(message)s\")\n",
    "        )\n",
    "        logger.addHandler(handler)\n",
    "        return logger\n",
    "\n",
    "    def get_data(\n",
    "        train_path: str, label_path: str\n",
    "    ) -> (xgb.DMatrix, pd.DataFrame, pd.DataFrame):\n",
    "        \"\"\"\n",
    "        Get the data\n",
    "        Args:\n",
    "            train_path: the path of the train data\n",
    "            label_path: the path of the label data\n",
    "        Returns:\n",
    "            the train data and the label data\n",
    "        \"\"\"\n",
    "        # Load data into pandas, then use `.values` to get NumPy arrays\n",
    "        data = pd.read_csv(train_path).values\n",
    "        labels = pd.read_csv(label_path).values\n",
    "\n",
    "        # Convert one-column 2D array into 1D array for use with XGBoost\n",
    "        labels = labels.reshape((labels.size,))\n",
    "        train_data, test_data, train_labels, test_labels = train_test_split(\n",
    "            data, labels, test_size=0.2, random_state=7\n",
    "        )\n",
    "\n",
    "        # Load data into DMatrix object\n",
    "        dtrain = xgb.DMatrix(train_data, label=train_labels)\n",
    "        return dtrain, test_data, test_labels\n",
    "\n",
    "    def train_model(max_depth: int, eta: int, boost_rounds, dtrain: xgb.DMatrix):\n",
    "        \"\"\"\n",
    "        Train the model\n",
    "        Args:\n",
    "            max_depth: the max depth of the model\n",
    "            eta: the eta of the model\n",
    "            boost_rounds: the boost rounds of the model\n",
    "            dtrain: the train data\n",
    "        Returns:\n",
    "            the trained model\n",
    "        \"\"\"\n",
    "        # Train XGBoost model\n",
    "        param = {\"max_depth\": max_depth, \"eta\": eta}\n",
    "        model = xgb.train(param, dtrain, num_boost_round=boost_rounds)\n",
    "        return model\n",
    "\n",
    "    def evaluate_model(model, test_data, test_labels):\n",
    "        \"\"\"\n",
    "        Evaluate the model\n",
    "        Args:\n",
    "            model: the trained model\n",
    "            test_data: the test data\n",
    "            test_labels: the test labels\n",
    "        Returns:\n",
    "            the accuracy of the model\n",
    "        \"\"\"\n",
    "        dtest = xgb.DMatrix(test_data)\n",
    "        pred = model.predict(dtest)\n",
    "        predictions = [round(value) for value in pred]\n",
    "        # Evaluate predictions\n",
    "        accuracy = accuracy_score(test_labels, predictions)\n",
    "        return accuracy\n",
    "\n",
    "    def save_model(model, model_path):\n",
    "        \"\"\"\n",
    "        Save the model\n",
    "        Args:\n",
    "            model: the trained model\n",
    "            model_path: the path of the model\n",
    "        \"\"\"\n",
    "        model_id = str(uuid.uuid1())\n",
    "        model_path = f\"{model_path}/{model_id}/model.bst\"\n",
    "        path(model_path).parent.mkdir(parents=True, exist_ok=True)\n",
    "        model.save_model(model_path)\n",
    "\n",
    "    # Main ----------------------------------------------\n",
    "\n",
    "    dtrain, test_data, test_labels = get_data(train_path, label_path)\n",
    "    model = train_model(max_depth, learning_rate, boost_rounds, dtrain)\n",
    "    accuracy = evaluate_model(model, test_data, test_labels)\n",
    "    save_model(model, model_path)\n",
    "\n",
    "    # Metadata ------------------------------------------\n",
    "    metrics.log_metric(\"accurancy\", accuracy)\n",
    "    model_metadata.uri = model_uri"
   ]
  },
  {
   "cell_type": "markdown",
   "metadata": {
    "id": "U1UiTZhkVoFM"
   },
   "source": [
    "构建一个管道\n",
    "\n",
    "接下来，在关联的项目中创建pipelineJob。"
   ]
  },
  {
   "cell_type": "code",
   "execution_count": null,
   "metadata": {
    "id": "9Gfr6pNLU-dB"
   },
   "outputs": [],
   "source": [
    "@dsl.pipeline(name=\"custom-training-pipeline\")\n",
    "def pipeline(\n",
    "    train_uri: str,\n",
    "    label_uri: str,\n",
    "    max_depth: int,\n",
    "    learning_rate: float,\n",
    "    boost_rounds: int,\n",
    "    model_uri: str,\n",
    "):\n",
    "\n",
    "    custom_trainer(\n",
    "        train_uri=train_uri,\n",
    "        label_uri=label_uri,\n",
    "        max_depth=max_depth,\n",
    "        learning_rate=learning_rate,\n",
    "        boost_rounds=boost_rounds,\n",
    "        model_uri=model_uri,\n",
    "    )"
   ]
  },
  {
   "cell_type": "markdown",
   "metadata": {
    "id": "RkfZ7qVAVjBO"
   },
   "source": [
    "### 编译流水线\n",
    "\n",
    "接下来，将流水线编译为JSON文件。"
   ]
  },
  {
   "cell_type": "code",
   "execution_count": null,
   "metadata": {
    "id": "oYlLBGUSVibG"
   },
   "outputs": [],
   "source": [
    "compiler.Compiler().compile(pipeline_func=pipeline, package_path=\"pipeline.json\")"
   ]
  },
  {
   "cell_type": "markdown",
   "metadata": {
    "id": "95vG4-zPWc0B"
   },
   "source": [
    "提交和追踪管道运行"
   ]
  },
  {
   "cell_type": "markdown",
   "metadata": {
    "id": "ZNb6kZ2l5t-O"
   },
   "source": [
    "### 提交管道运行\n",
    "\n",
    "现在你已经拥有了管道，根据定义的参数来定义它的训练配置。在以下示例中，你可以看到如何提交多个管道运行。"
   ]
  },
  {
   "cell_type": "code",
   "execution_count": null,
   "metadata": {
    "id": "XPy0Jc8xXgpa"
   },
   "outputs": [],
   "source": [
    "runs = [\n",
    "    {\"max_depth\": 4, \"learning_rate\": 0.2, \"boost_rounds\": 10},\n",
    "    {\"max_depth\": 5, \"learning_rate\": 0.3, \"boost_rounds\": 20},\n",
    "    {\"max_depth\": 3, \"learning_rate\": 0.1, \"boost_rounds\": 30},\n",
    "    {\"max_depth\": 6, \"learning_rate\": 0.5, \"boost_rounds\": 40},\n",
    "    {\"max_depth\": 5, \"learning_rate\": 0.4, \"boost_rounds\": 30},\n",
    "]"
   ]
  },
  {
   "cell_type": "code",
   "execution_count": null,
   "metadata": {
    "id": "G0hm1no_WY8o"
   },
   "outputs": [],
   "source": [
    "for i, run in enumerate(runs):\n",
    "\n",
    "    job = vertex_ai.PipelineJob(\n",
    "        display_name=f\"{EXPERIMENT_NAME}-pipeline-run-{i}\",\n",
    "        template_path=PIPELINE_TEMPLATE_FILE,\n",
    "        pipeline_root=PIPELINE_URI,\n",
    "        parameter_values={\n",
    "            \"train_uri\": TRAIN_URI,\n",
    "            \"label_uri\": LABEL_URI,\n",
    "            \"model_uri\": MODEL_URI,\n",
    "            **run,\n",
    "        },\n",
    "    )\n",
    "    job.submit(experiment=EXPERIMENT_NAME)"
   ]
  },
  {
   "cell_type": "markdown",
   "metadata": {
    "id": "O8TV4q535c2M"
   },
   "source": [
    "检查管道运行状态\n",
    "\n",
    "Vertex AI SDK为您提供`get_experiment_df`方法来监视管道运行的状态。您可以使用它来返回Vertex AI实验中管道运行的参数和指标，或者与`PipelineJob`的`get`方法结合使用，来返回Vertex AI管道中的管道作业。"
   ]
  },
  {
   "cell_type": "code",
   "execution_count": null,
   "metadata": {
    "id": "dlCEJKfH5xR7"
   },
   "outputs": [],
   "source": [
    "# see state of all pipelineJob\n",
    "vertex_ai.get_experiment_df(EXPERIMENT_NAME)"
   ]
  },
  {
   "cell_type": "markdown",
   "metadata": {
    "id": "98c022ca36b4"
   },
   "source": [
    "管道运行在Vertex AI实验中基于管道运行状态进行监控。"
   ]
  },
  {
   "cell_type": "code",
   "execution_count": null,
   "metadata": {
    "id": "FA9W85vs7LLD"
   },
   "outputs": [],
   "source": [
    "while True:\n",
    "    pipeline_experiments_df = vertex_ai.get_experiment_df(EXPERIMENT_NAME)\n",
    "    if any(\n",
    "        pipeline_state != \"COMPLETE\" for pipeline_state in pipeline_experiments_df.state\n",
    "    ):\n",
    "        print(\"Pipeline runs are still running...\")\n",
    "        if any(\n",
    "            pipeline_state == \"FAILED\"\n",
    "            for pipeline_state in pipeline_experiments_df.state\n",
    "        ):\n",
    "            print(\"At least one Pipeline run failed\")\n",
    "            break\n",
    "    else:\n",
    "        print(\"Pipeline experiment runs have completed\")\n",
    "        break\n",
    "    time.sleep(60)"
   ]
  },
  {
   "cell_type": "code",
   "execution_count": null,
   "metadata": {
    "id": "ISsK9Msi-Kqs"
   },
   "outputs": [],
   "source": [
    "# Get the PipelineJob resource using the experiment run name\n",
    "pipeline_experiments_df = vertex_ai.get_experiment_df(EXPERIMENT_NAME)\n",
    "job = vertex_ai.PipelineJob.get(pipeline_experiments_df.run_name[0])\n",
    "print(\"Pipeline job name: \", job.resource_name)\n",
    "print(\"Pipeline Run UI link: \", job._dashboard_uri())"
   ]
  },
  {
   "cell_type": "markdown",
   "metadata": {
    "id": "TpV-iwP9qw9c"
   },
   "source": [
    "清理\n",
    "\n",
    "要清理此项目中使用的所有谷歌云资源，您可以[删除用于本教程的谷歌云项目](https://cloud.google.com/resource-manager/docs/creating-managing-projects#shutting_down_projects)。\n",
    "\n",
    "否则，您可以删除在此教程中创建的每个资源。"
   ]
  },
  {
   "cell_type": "code",
   "execution_count": null,
   "metadata": {
    "id": "6xbYQn5t5Noe"
   },
   "outputs": [],
   "source": [
    "# Delete the pipeline\n",
    "while True:\n",
    "    for i in range(0, len(runs)):\n",
    "        pipeline_job = vertex_ai.PipelineJob.get(pipeline_experiments_df.run_name[i])\n",
    "        if pipeline_job.state != PipelineState.PIPELINE_STATE_SUCCEEDED:\n",
    "            print(\"Pipeline job is still running...\")\n",
    "            time.sleep(60)\n",
    "        else:\n",
    "            print(\"Pipeline job is complete.\")\n",
    "            pipeline_job.delete()\n",
    "    break\n",
    "\n",
    "# Delete experiment\n",
    "exp = vertex_ai.Experiment(EXPERIMENT_NAME)\n",
    "exp.delete()\n",
    "\n",
    "# Delete the Cloud Storage bucket\n",
    "delete_bucket = False  # Set True for deletion\n",
    "if delete_bucket:\n",
    "    ! gsutil rm -rf {BUCKET_URI}\n",
    "\n",
    "# Remove local files\n",
    "!rm {PIPELINE_TEMPLATE_FILE}"
   ]
  }
 ],
 "metadata": {
  "colab": {
   "name": "comparing_pipeline_runs.ipynb",
   "toc_visible": true
  },
  "kernelspec": {
   "display_name": "Python 3",
   "name": "python3"
  }
 },
 "nbformat": 4,
 "nbformat_minor": 0
}
