{
 "cells": [
  {
   "cell_type": "code",
   "execution_count": null,
   "metadata": {
    "id": "ur8xi4C7S06n"
   },
   "outputs": [],
   "source": [
    "# Copyright 2022 Google LLC\n",
    "#\n",
    "# Licensed under the Apache License, Version 2.0 (the \"License\");\n",
    "# you may not use this file except in compliance with the License.\n",
    "# You may obtain a copy of the License at\n",
    "#\n",
    "#     https://www.apache.org/licenses/LICENSE-2.0\n",
    "#\n",
    "# Unless required by applicable law or agreed to in writing, software\n",
    "# distributed under the License is distributed on an \"AS IS\" BASIS,\n",
    "# WITHOUT WARRANTIES OR CONDITIONS OF ANY KIND, either express or implied.\n",
    "# See the License for the specific language governing permissions and\n",
    "# limitations under the License."
   ]
  },
  {
   "cell_type": "markdown",
   "metadata": {
    "id": "JAPoU8Sm5E6e"
   },
   "source": [
    "# Vertex AI实验: 自定义训练自动记录 - 本地脚本\n",
    "\n",
    "<table align=\"left\">\n",
    "\n",
    "  <td>\n",
    "    <a href=\"https://colab.research.google.com/github/GoogleCloudPlatform/vertex-ai-samples/blob/main/notebooks/official/experiments/get_started_with_custom_training_autologging_local_script.ipynb\">\n",
    "      <img src=\"https://cloud.google.com/ml-engine/images/colab-logo-32px.png\" alt=\"Colab logo\"> 在Colab中运行\n",
    "    </a>\n",
    "  </td>\n",
    "  <td>\n",
    "    <a href=\"https://github.com/GoogleCloudPlatform/vertex-ai-samples/blob/main/notebooks/official/experiments/get_started_with_custom_training_autologging_local_script.ipynb\">\n",
    "      <img src=\"https://cloud.google.com/ml-engine/images/github-logo-32px.png\" alt=\"GitHub logo\">\n",
    "      在GitHub上查看\n",
    "    </a>\n",
    "  </td>\n",
    "  <td>\n",
    "    <a href=\"https://console.cloud.google.com/vertex-ai/workbench/deploy-notebook?download_url=https://raw.githubusercontent.com/GoogleCloudPlatform/vertex-ai-samples/main/notebooks/official/experiments/get_started_with_custom_training_autologging_local_script.ipynb\">\n",
    "      <img src=\"https://lh3.googleusercontent.com/UiNooY4LUgW_oTvpsNhPpQzsstV5W8F7rYgxgGBD85cWJoLmrOzhVs_ksK_vgx40SHs7jCqkTkCk=e14-rj-sc0xffffff-h130-w32\" alt=\"Vertex AI logo\">\n",
    "      在Vertex AI Workbench中打开\n",
    "    </a>\n",
    "  </td>\n",
    "</table>\n",
    "<br/>"
   ]
  },
  {
   "cell_type": "markdown",
   "metadata": {
    "id": "24743cf4a1e1"
   },
   "source": [
    "注意：此笔记本已在以下环境中进行了测试：\n",
    "\n",
    "* Python 版本= 3.9"
   ]
  },
  {
   "cell_type": "markdown",
   "metadata": {
    "id": "tvgnzT1CKxrO"
   },
   "source": [
    "## 概述\n",
    "\n",
    "作为一名实验大型模型的数据科学家，您需要一种在可扩展的训练服务上运行实验以记录参数和指标的方式。这可以保证可复现性。\n",
    "\n",
    "使用 Vertex AI 训练和 Vertex AI Experiments 自动记录集成，您可以使用 `enable_autolog` 参数在规模上运行您的 ML 实验，并自动记录它们的参数和指标。\n",
    "\n",
    "了解更多关于[Vertex AI Experiments](https://cloud.google.com/vertex-ai/docs/experiments/intro-vertex-ai-experiments)以及如何[为实验运行自动记录数据](https://cloud.google.com/vertex-ai/docs/experiments/autolog-data)。"
   ]
  },
  {
   "cell_type": "markdown",
   "metadata": {
    "id": "d975e698c9a4"
   },
   "source": [
    "### 目标\n",
    "\n",
    "在本教程中，您将学习如何通过利用与Vertex AI实验的集成，自动记录在Vertex AI Training上运行的ML实验的参数和度量。\n",
    "\n",
    "本教程使用以下Google Cloud ML服务和资源：\n",
    "\n",
    "- Vertex AI实验\n",
    "- Vertex AI培训\n",
    "\n",
    "执行的步骤包括：\n",
    "\n",
    "- 在脚本中 formalize 模型实验\n",
    "- 在Vertex AI Training上使用本地脚本运行模型训练\n",
    "- 在Vertex AI实验中查看ML实验参数和度量"
   ]
  },
  {
   "cell_type": "markdown",
   "metadata": {
    "id": "08d289fa873f"
   },
   "source": [
    "###数据集\n",
    "\n",
    "[玻璃鉴定数据集](https://archive-beta.ics.uci.edu/dataset/42/glass+identification)是来自美国法庭科学服务的数据集，共包含6种不同类型的玻璃，其定义基于其氧化物含量（例如Na、Fe、K等）。该数据集的目标是根据氧化物特征对玻璃的类型进行分类。"
   ]
  },
  {
   "cell_type": "markdown",
   "metadata": {
    "id": "aed92deeb4a0"
   },
   "source": [
    "### 费用\n",
    "\n",
    "本教程使用 Google Cloud 的可计费组件：\n",
    "\n",
    "- Vertex AI\n",
    "- Cloud Storage\n",
    "\n",
    "了解 [Vertex AI 价格](https://cloud.google.com/vertex-ai/pricing)，\n",
    "以及 [Cloud Storage 价格](https://cloud.google.com/storage/pricing)，\n",
    "并使用 [定价计算器](https://cloud.google.com/products/calculator/)\n",
    "根据您的预期使用情况生成费用估算。"
   ]
  },
  {
   "cell_type": "markdown",
   "metadata": {
    "id": "i7EUnXsZhAGF"
   },
   "source": [
    "## 安装\n",
    "\n",
    "安装以下所需的软件包以执行此笔记本。"
   ]
  },
  {
   "cell_type": "code",
   "execution_count": null,
   "metadata": {
    "id": "2b4ef9b72d43"
   },
   "outputs": [],
   "source": [
    "# Install the packages\n",
    "USER = \"\"\n",
    "! pip3 install {USER} --upgrade google-cloud-aiplatform --quiet --no-warn-conflicts"
   ]
  },
  {
   "cell_type": "markdown",
   "metadata": {
    "id": "58707a750154"
   },
   "source": [
    "只有协作：取消注释以下单元格以重启内核。"
   ]
  },
  {
   "cell_type": "code",
   "execution_count": null,
   "metadata": {
    "id": "f200f10a1da3"
   },
   "outputs": [],
   "source": [
    "# Automatically restart kernel after installs so that your environment can access the new packages\n",
    "# import IPython\n",
    "\n",
    "# app = IPython.Application.instance()\n",
    "# app.kernel.do_shutdown(True)"
   ]
  },
  {
   "cell_type": "markdown",
   "metadata": {
    "id": "BF1j6f9HApxa"
   },
   "source": [
    "## 开始之前\n",
    "\n",
    "### 设置您的谷歌云项目\n",
    "\n",
    "**无论您使用的是哪种笔记本环境，以下步骤都是必需的。**\n",
    "\n",
    "1. [选择或创建谷歌云项目](https://console.cloud.google.com/cloud-resource-manager)。创建账户时，您将获得$300的免费信用用于计算/存储成本。\n",
    "\n",
    "2. [确保您的项目已经启用了计费](https://cloud.google.com/billing/docs/how-to/modify-project)。\n",
    "\n",
    "3. [启用 Vertex AI API](https://console.cloud.google.com/flows/enableapi?apiid=aiplatform.googleapis.com)。\n",
    "\n",
    "4. 如果您在本地运行此笔记本，您需要安装[Cloud SDK](https://cloud.google.com/sdk)。"
   ]
  },
  {
   "cell_type": "markdown",
   "metadata": {
    "id": "WReHDGG5g0XY"
   },
   "source": [
    "设置您的项目ID\n",
    "\n",
    "**如果您不知道您的项目ID**，请尝试以下操作：\n",
    "* 运行`gcloud config list`。\n",
    "* 运行`gcloud projects list`。\n",
    "* 查看支持页面：[找到项目ID](https://support.google.com/googleapi/answer/7014113)"
   ]
  },
  {
   "cell_type": "code",
   "execution_count": null,
   "metadata": {
    "id": "oM1iC_MfAts1"
   },
   "outputs": [],
   "source": [
    "PROJECT_ID = \"[your-project-id]\"  # @param {type:\"string\"}\n",
    "\n",
    "# Set the project id\n",
    "! gcloud config set project {PROJECT_ID}"
   ]
  },
  {
   "cell_type": "markdown",
   "metadata": {
    "id": "region"
   },
   "source": [
    "区域\n",
    "\n",
    "您也可以更改 Vertex AI 使用的“REGION”变量。了解有关 [Vertex AI 区域](https://cloud.google.com/vertex-ai/docs/general/locations)的更多信息。"
   ]
  },
  {
   "cell_type": "code",
   "execution_count": null,
   "metadata": {
    "id": "1s_lfsWxhctH"
   },
   "outputs": [],
   "source": [
    "REGION = \"us-central1\"  # @param {type: \"string\"}"
   ]
  },
  {
   "cell_type": "markdown",
   "metadata": {
    "id": "-_8nZXd7NqIj"
   },
   "source": [
    "### UUID\n",
    "如果您正在进行实时教程会话，您可能正在使用共享的测试帐户或项目。为了避免在创建的资源之间出现名称冲突，请为每个实例会话创建一个通用唯一标识符（UUID）。在此教程中创建的资源名称后附加UUID。"
   ]
  },
  {
   "cell_type": "code",
   "execution_count": null,
   "metadata": {
    "id": "dY-WpyyzNtS0"
   },
   "outputs": [],
   "source": [
    "import random\n",
    "import string\n",
    "\n",
    "\n",
    "# Generate a uuid of length 8\n",
    "def generate_uuid():\n",
    "    return \"\".join(random.choices(string.ascii_lowercase + string.digits, k=8))\n",
    "\n",
    "\n",
    "UUID = generate_uuid()"
   ]
  },
  {
   "cell_type": "markdown",
   "metadata": {
    "id": "sBCra4QMA2wR"
   },
   "source": [
    "### 认证您的Google云账户\n",
    "\n",
    "根据您的Jupyter环境，您可能需要手动进行认证。请按照以下相关说明操作。"
   ]
  },
  {
   "cell_type": "markdown",
   "metadata": {
    "id": "74ccc9e52986"
   },
   "source": [
    "**1. Vertex AI工作台**\n",
    "* 无需操作，因为您已经通过身份验证。"
   ]
  },
  {
   "cell_type": "markdown",
   "metadata": {
    "id": "de775a3773ba"
   },
   "source": [
    "2. 本地 JupyterLab 实例，取消注释并运行:"
   ]
  },
  {
   "cell_type": "code",
   "execution_count": null,
   "metadata": {
    "id": "254614fa0c46"
   },
   "outputs": [],
   "source": [
    "# ! gcloud auth login"
   ]
  },
  {
   "cell_type": "markdown",
   "metadata": {
    "id": "ef21552ccea8"
   },
   "source": [
    "3. 协作，取消注释并运行:"
   ]
  },
  {
   "cell_type": "code",
   "execution_count": null,
   "metadata": {
    "id": "603adbbf0532"
   },
   "outputs": [],
   "source": [
    "# from google.colab import auth\n",
    "# auth.authenticate_user()"
   ]
  },
  {
   "cell_type": "markdown",
   "metadata": {
    "id": "f6b2ccc891ed"
   },
   "source": [
    "4. 服务账户或其他\n",
    "* 请查看如何在https://cloud.google.com/storage/docs/gsutil/commands/iam#ch-examples 上为您的服务账户授予云存储权限。"
   ]
  },
  {
   "cell_type": "markdown",
   "metadata": {
    "id": "zgPO1eR3CYjk"
   },
   "source": [
    "创建一个云存储桶\n",
    "\n",
    "创建一个存储桶来存储中间产物，如数据集。"
   ]
  },
  {
   "cell_type": "code",
   "execution_count": null,
   "metadata": {
    "id": "MzGDU7TWdts_"
   },
   "outputs": [],
   "source": [
    "BUCKET_URI = f\"gs://your-bucket-name-{PROJECT_ID}-unique\"  # @param {type:\"string\"}"
   ]
  },
  {
   "cell_type": "markdown",
   "metadata": {
    "id": "-EcIXiGsCePi"
   },
   "source": [
    "如果您的存储桶尚不存在：运行以下单元格以创建您的云存储存储桶。"
   ]
  },
  {
   "cell_type": "code",
   "execution_count": null,
   "metadata": {
    "id": "NIq7R4HZCfIc"
   },
   "outputs": [],
   "source": [
    "! gsutil mb -l $REGION -p $PROJECT_ID $BUCKET_URI"
   ]
  },
  {
   "cell_type": "markdown",
   "metadata": {
    "id": "set_service_account"
   },
   "source": [
    "### 设置服务账号\n",
    "\n",
    "**如果您不知道您的服务账号**，请尝试使用 `gcloud` 命令在下方执行第二个单元格来获取您的服务账号。\n",
    "\n",
    "*注意:* 自动查找您的服务账号的代码适用于用户管理的Workbench AI笔记本。如果您使用的是完全托管的笔记本，您需要手动输入您的服务账号。"
   ]
  },
  {
   "cell_type": "code",
   "execution_count": null,
   "metadata": {
    "id": "M4WZi4CDJ39n"
   },
   "outputs": [],
   "source": [
    "SERVICE_ACCOUNT = \"[your-service-account]\"  # @param {type:\"string\"}"
   ]
  },
  {
   "cell_type": "code",
   "execution_count": null,
   "metadata": {
    "id": "autoset_service_account"
   },
   "outputs": [],
   "source": [
    "IS_COLAB = False\n",
    "\n",
    "if (\n",
    "    SERVICE_ACCOUNT == \"\"\n",
    "    or SERVICE_ACCOUNT is None\n",
    "    or SERVICE_ACCOUNT == \"[your-service-account]\"\n",
    "):\n",
    "    # Get your service account from gcloud\n",
    "    if not IS_COLAB:\n",
    "        shell_output = !gcloud auth list 2>/dev/null\n",
    "        SERVICE_ACCOUNT = shell_output[2].replace(\"*\", \"\").strip()\n",
    "\n",
    "    if IS_COLAB:\n",
    "        shell_output = ! gcloud projects describe  $PROJECT_ID\n",
    "        project_number = shell_output[-1].split(\":\")[1].strip().replace(\"'\", \"\")\n",
    "        SERVICE_ACCOUNT = f\"{project_number}-compute@developer.gserviceaccount.com\"\n",
    "\n",
    "    print(\"Service Account:\", SERVICE_ACCOUNT)"
   ]
  },
  {
   "cell_type": "markdown",
   "metadata": {
    "id": "set_service_account:pipelines"
   },
   "source": [
    "#### 为Vertex AI训练设置服务账号访问权限\n",
    "\n",
    "运行以下命令来授权您的服务账号在自定义训练作业运行时读取和更新Vertex AI ML Metadata中的元数据 -- 您只需针对每个服务账号运行一次这些命令。查看[文档](https://cloud.google.com/vertex-ai/docs/experiments/tensorboard-training#create_a_service_account_with_required_permissions)获取更多信息。"
   ]
  },
  {
   "cell_type": "code",
   "execution_count": null,
   "metadata": {
    "id": "mI3IJONMJ39n"
   },
   "outputs": [],
   "source": [
    "! gsutil iam ch serviceAccount:{SERVICE_ACCOUNT}:roles/storage.objectCreator $BUCKET_URI\n",
    "\n",
    "! gsutil iam ch serviceAccount:{SERVICE_ACCOUNT}:roles/storage.objectViewer $BUCKET_URI"
   ]
  },
  {
   "cell_type": "markdown",
   "metadata": {
    "id": "UlICvTdOtyLN"
   },
   "source": [
    "### 创建项目模板\n",
    "设置您在本教程中使用的文件夹。"
   ]
  },
  {
   "cell_type": "code",
   "execution_count": null,
   "metadata": {
    "id": "rxRaeiQIt6kn"
   },
   "outputs": [],
   "source": [
    "import os\n",
    "\n",
    "TUTORIAL_DIR = os.path.join(\n",
    "    os.getcwd(), \"custom_training_autologging_local_script_tutorial\"\n",
    ")\n",
    "os.makedirs(TUTORIAL_DIR, exist_ok=True)"
   ]
  },
  {
   "cell_type": "markdown",
   "metadata": {
    "id": "-flLpWUeOX_n"
   },
   "source": [
    "### 获取数据集\n",
    "从公共云存储桶中获取玻璃分类数据集。"
   ]
  },
  {
   "cell_type": "code",
   "execution_count": null,
   "metadata": {
    "id": "eRBPBlj1PBUK"
   },
   "outputs": [],
   "source": [
    "SOURCE_DATA_URL = \"gs://cloud-samples-data/vertex-ai/dataset-management/datasets/uci_glass_preprocessed/glass.csv\"\n",
    "DESTINATION_DATA_URL = f\"{BUCKET_URI}/data/glass.csv\"\n",
    "\n",
    "! gsutil cp $SOURCE_DATA_URL $DESTINATION_DATA_URL"
   ]
  },
  {
   "cell_type": "markdown",
   "metadata": {
    "id": "960505627ddf"
   },
   "source": [
    "### 导入库"
   ]
  },
  {
   "cell_type": "code",
   "execution_count": null,
   "metadata": {
    "id": "PyQmSRbKA8r-"
   },
   "outputs": [],
   "source": [
    "import os\n",
    "\n",
    "from google.cloud import aiplatform as vertex_ai"
   ]
  },
  {
   "cell_type": "markdown",
   "metadata": {
    "id": "rLzhLCJVKIHO"
   },
   "source": [
    "###定义常量"
   ]
  },
  {
   "cell_type": "code",
   "execution_count": null,
   "metadata": {
    "id": "sWa5mNJEKKEx"
   },
   "outputs": [],
   "source": [
    "# Training\n",
    "EXPERIMENT_NAME = f\"glass-classification-{UUID}\"\n",
    "TRAIN_SCRIPT_PATH = os.path.join(TUTORIAL_DIR, \"task.py\")\n",
    "JOB_DISPLAY_NAME = f\"sklearn-autologged-custom-job-{UUID}\"\n",
    "PRE_BUILT_TRAINING_CONTAINER_IMAGE_URI = (\n",
    "    f\"{REGION.split('-')[0]}-docker.pkg.dev/vertex-ai/training/tf-cpu.2-12.py310:latest\"\n",
    ")\n",
    "MODEL_FILE_URI = f\"{BUCKET_URI}/models/model.joblib\"\n",
    "DESTINATION_DATA_PATH = DESTINATION_DATA_URL.replace(\"gs://\", \"/gcs/\")\n",
    "MODEL_FILE_PATH = MODEL_FILE_URI.replace(\"gs://\", \"/gcs/\")\n",
    "REPLICA_COUNT = 1\n",
    "TRAIN_MACHINE_TYPE = \"n1-standard-4\"\n",
    "TRAINING_JOBS_URI = f\"{BUCKET_URI}/jobs\""
   ]
  },
  {
   "cell_type": "markdown",
   "metadata": {
    "id": "init_aip:mbsdk,all"
   },
   "source": [
    "为您的项目初始化 Python 的 Vertex AI SDK。"
   ]
  },
  {
   "cell_type": "code",
   "execution_count": null,
   "metadata": {
    "id": "kyr59QdyhctK"
   },
   "outputs": [],
   "source": [
    "vertex_ai.init(project=PROJECT_ID, location=REGION, staging_bucket=BUCKET_URI)"
   ]
  },
  {
   "cell_type": "markdown",
   "metadata": {
    "id": "wJoFEV5VNWb3"
   },
   "source": [
    "### 创建一个用于跟踪训练参数和指标的实验\n",
    "\n",
    "首先，使用 `init()` 方法初始化一个实验。"
   ]
  },
  {
   "cell_type": "code",
   "execution_count": null,
   "metadata": {
    "id": "8ZEB_90wNc2J"
   },
   "outputs": [],
   "source": [
    "vertex_ai.init(\n",
    "    project=PROJECT_ID,\n",
    "    location=REGION,\n",
    "    staging_bucket=BUCKET_URI,\n",
    "    experiment=EXPERIMENT_NAME,\n",
    ")"
   ]
  },
  {
   "cell_type": "markdown",
   "metadata": {
    "id": "ig4h3BP_EuqF"
   },
   "source": [
    "使用预构建容器训练一个 scikit-learn 模型，然后使用预构建容器为 scikit-learn 模型训练一个自定义模型。"
   ]
  },
  {
   "cell_type": "markdown",
   "metadata": {
    "id": "yeKHxs4TK0Es"
   },
   "source": [
    "创建scikit-learn训练脚本"
   ]
  },
  {
   "cell_type": "code",
   "execution_count": null,
   "metadata": {
    "id": "zOKUe_J3JWBs"
   },
   "outputs": [],
   "source": [
    "task_script = f\"\"\"\n",
    "#!/usr/bin/env python3\n",
    "\n",
    "'''\n",
    "A simple module to train a classifier on the glass dataset.\n",
    "'''\n",
    "\n",
    "# Libraries\n",
    "import argparse\n",
    "from pathlib import Path\n",
    "import pandas as pd\n",
    "from sklearn.model_selection import train_test_split\n",
    "from sklearn.ensemble import RandomForestClassifier\n",
    "from sklearn.metrics import accuracy_score\n",
    "import joblib\n",
    "\n",
    "\n",
    "# Variables\n",
    "DATA_PATH = '{DESTINATION_DATA_PATH}'\n",
    "MODEL_PATH = '{MODEL_FILE_PATH}'\n",
    "TEST_SIZE = 0.2\n",
    "SEED = 8\n",
    "\n",
    "# Helpers\n",
    "def read_data(path):\n",
    "    df = pd.read_csv(path)\n",
    "    return df\n",
    "\n",
    "\n",
    "def split_data(df):\n",
    "    y = df.pop('glass_type')\n",
    "    X = df\n",
    "    X_train, X_test, y_train, y_test = train_test_split(X, y, test_size=TEST_SIZE, random_state=SEED)\n",
    "    return X_train, X_test, y_train, y_test\n",
    "\n",
    "\n",
    "def train_model(X_train, y_train):\n",
    "    model = RandomForestClassifier(n_estimators=5)\n",
    "    model.fit(X_train, y_train)\n",
    "    return model\n",
    "\n",
    "\n",
    "def evaluate_model(model, X_test, y_test):\n",
    "    y_pred = model.predict(X_test)\n",
    "    accuracy = accuracy_score(y_test, y_pred)\n",
    "    return accuracy\n",
    "\n",
    "\n",
    "def save_model(model, path):\n",
    "    p = Path(path)\n",
    "    if not p.parent.exists():\n",
    "      p.parent.mkdir(parents=True)\n",
    "    joblib.dump(model, path)\n",
    "\n",
    "\n",
    "def main():\n",
    "\n",
    "    # Read data\n",
    "    df = read_data(DATA_PATH)\n",
    "\n",
    "    # Split data\n",
    "    X_train, X_test, y_train, y_test = split_data(df)\n",
    "\n",
    "    # Train model\n",
    "    model = train_model(X_train, y_train)\n",
    "\n",
    "    # Evaluate model\n",
    "    accuracy = evaluate_model(model, X_test, y_test)\n",
    "    print('Model accuracy:', accuracy)\n",
    "\n",
    "    # Save model\n",
    "    save_model(model, MODEL_PATH)\n",
    "\n",
    "\n",
    "\n",
    "if __name__ == '__main__':\n",
    "\n",
    "    # Run main\n",
    "    main()\n",
    "\"\"\"\n",
    "\n",
    "with open(TRAIN_SCRIPT_PATH, \"w\") as train_file:\n",
    "    train_file.write(task_script)\n",
    "train_file.close()"
   ]
  },
  {
   "cell_type": "markdown",
   "metadata": {
    "id": "7tXILrH3Kr4p"
   },
   "source": [
    "定义自定义培训作业\n",
    "\n",
    "使用预构建的容器镜像定义一个自定义作业，其中包装了作为 Python 脚本的训练代码。在这种情况下，您设置 `enable_autolog=True`，以在培训作业完成后自动跟踪参数和指标。"
   ]
  },
  {
   "cell_type": "code",
   "execution_count": null,
   "metadata": {
    "id": "jACJpf78LFoy"
   },
   "outputs": [],
   "source": [
    "job = vertex_ai.CustomJob.from_local_script(\n",
    "    project=PROJECT_ID,\n",
    "    staging_bucket=TRAINING_JOBS_URI,\n",
    "    display_name=JOB_DISPLAY_NAME,\n",
    "    script_path=TRAIN_SCRIPT_PATH,\n",
    "    container_uri=PRE_BUILT_TRAINING_CONTAINER_IMAGE_URI,\n",
    "    requirements=[\"pandas\", \"scikit-learn\"],\n",
    "    replica_count=REPLICA_COUNT,\n",
    "    machine_type=TRAIN_MACHINE_TYPE,\n",
    "    enable_autolog=True,\n",
    ")"
   ]
  },
  {
   "cell_type": "markdown",
   "metadata": {
    "id": "xfaE5rK-MYxO"
   },
   "source": [
    "### 运行自定义训练任务\n",
    "接下来，使用 `run` 方法运行训练任务。"
   ]
  },
  {
   "cell_type": "code",
   "execution_count": null,
   "metadata": {
    "id": "4-Jn9rJeMUZa"
   },
   "outputs": [],
   "source": [
    "job.run(experiment=EXPERIMENT_NAME, service_account=SERVICE_ACCOUNT)"
   ]
  },
  {
   "cell_type": "markdown",
   "metadata": {
    "id": "SYwi0B3cd515"
   },
   "source": [
    "获取您的自动记录实验\n",
    "\n",
    "在训练模型后，您可以获取自动记录实验的参数和指标。"
   ]
  },
  {
   "cell_type": "code",
   "execution_count": null,
   "metadata": {
    "id": "IQCXPih6d9nA"
   },
   "outputs": [],
   "source": [
    "experiment_df = vertex_ai.get_experiment_df(experiment=EXPERIMENT_NAME)\n",
    "experiment_df.T"
   ]
  },
  {
   "cell_type": "markdown",
   "metadata": {
    "id": "ffcedb5809e4"
   },
   "source": [
    "您还可以获取与您运行的实验相关联的自定义培训作业元数据。您可以恢复已记录的实验，并使用`get_logged_custom_jobs()`来获取与该实验运行相关联的所有`CustomJobs`资源。然后，您可以使用`job_spec`来打印自定义作业元数据，例如训练Python软件包、训练资源等。"
   ]
  },
  {
   "cell_type": "code",
   "execution_count": null,
   "metadata": {
    "id": "fI2xd4DbJvHC"
   },
   "outputs": [],
   "source": [
    "experiment_run = experiment_df.run_name.iloc[0]\n",
    "\n",
    "with vertex_ai.start_run(experiment_run, resume=True) as run:\n",
    "    # get the latest logged custom job\n",
    "    logged_job = run.get_logged_custom_jobs()[-1]\n",
    "\n",
    "print(logged_job.job_spec)"
   ]
  },
  {
   "cell_type": "markdown",
   "metadata": {
    "id": "TpV-iwP9qw9c"
   },
   "source": [
    "清理\n",
    "\n",
    "要清理此项目中使用的所有Google Cloud资源，您可以删除用于本教程的[Google Cloud项目](https://cloud.google.com/resource-manager/docs/creating-managing-projects#shutting_down_projects)。\n",
    "\n",
    "否则，您可以删除在本教程中创建的各个资源。"
   ]
  },
  {
   "cell_type": "code",
   "execution_count": null,
   "metadata": {
    "id": "sx_vKniMq9ZX"
   },
   "outputs": [],
   "source": [
    "import os\n",
    "\n",
    "# delete flags\n",
    "delete_experiment = False\n",
    "delete_bucket = False\n",
    "\n",
    "# Delete experiment\n",
    "if delete_experiment or os.getenv(\"IS_TESTING\"):\n",
    "    experiment = vertex_ai.Experiment.get(experiment_name=EXPERIMENT_NAME)\n",
    "    experiment.delete(delete_backing_tensorboard_runs=True)\n",
    "\n",
    "# Delete Cloud Storage objects that were created\n",
    "if delete_bucket or os.getenv(\"IS_TESTING\"):\n",
    "    ! gsutil -m rm -r $BUCKET_URI"
   ]
  }
 ],
 "metadata": {
  "colab": {
   "name": "get_started_with_custom_training_autologging_local_script.ipynb",
   "toc_visible": true
  },
  "kernelspec": {
   "display_name": "Python 3",
   "name": "python3"
  }
 },
 "nbformat": 4,
 "nbformat_minor": 0
}
