{
 "cells": [
  {
   "cell_type": "code",
   "execution_count": null,
   "metadata": {
    "id": "copyright"
   },
   "outputs": [],
   "source": [
    "# Copyright 2022 Google LLC\n",
    "#\n",
    "# Licensed under the Apache License, Version 2.0 (the \"License\");\n",
    "# you may not use this file except in compliance with the License.\n",
    "# You may obtain a copy of the License at\n",
    "#\n",
    "#     https://www.apache.org/licenses/LICENSE-2.0\n",
    "#\n",
    "# Unless required by applicable law or agreed to in writing, software\n",
    "# distributed under the License is distributed on an \"AS IS\" BASIS,\n",
    "# WITHOUT WARRANTIES OR CONDITIONS OF ANY KIND, either express or implied.\n",
    "# See the License for the specific language governing permissions and\n",
    "# limitations under the License."
   ]
  },
  {
   "cell_type": "markdown",
   "metadata": {
    "id": "ee9d87d8ec00"
   },
   "source": [
    "这份笔记本是在[Ivan Nardini](https://github.com/inardini)的协助下编写的。"
   ]
  },
  {
   "cell_type": "markdown",
   "metadata": {
    "id": "title:generic,gcp"
   },
   "source": [
    "# 从头开始使用Vertex AI实验\n",
    "\n",
    "<table align=\"left\">\n",
    "  <td style=\"text-align: center\">\n",
    "    <a href=\"https://colab.research.google.com/github/GoogleCloudPlatform/vertex-ai-samples/blob/main/notebooks/official/experiments/get_started_with_vertex_experiments.ipynb\">\n",
    "      <img src=\"https://cloud.google.com/ml-engine/images/colab-logo-32px.png\" alt=\"Google Colaboratory logo\"><br> 在Colab中打开\n",
    "    </a>\n",
    "  </td>\n",
    "  <td style=\"text-align: center\">\n",
    "    <a href=\"https://console.cloud.google.com/vertex-ai/colab/import/https:%2F%2Fraw.githubusercontent.com%2FGoogleCloudPlatform%2Fvertex-ai-samples%2Fmain%2Fnotebooks%2Fofficial%2Fexperiments%2Fget_started_with_vertex_experiments.ipynb\">\n",
    "      <img width=\"32px\" src=\"https://cloud.google.com/ml-engine/images/colab-enterprise-logo-32px.png\" alt=\"Google Cloud Colab Enterprise logo\"><br> 在Colab Enterprise中打开\n",
    "    </a>\n",
    "  </td>    \n",
    "  <td style=\"text-align: center\">\n",
    "    <a href=\"https://console.cloud.google.com/vertex-ai/workbench/deploy-notebook?download_url=https://raw.githubusercontent.com/GoogleCloudPlatform/vertex-ai-samples/main/notebooks/official/experiments/get_started_with_vertex_experiments.ipynb\">\n",
    "      <img src=\"https://lh3.googleusercontent.com/UiNooY4LUgW_oTvpsNhPpQzsstV5W8F7rYgxgGBD85cWJoLmrOzhVs_ksK_vgx40SHs7jCqkTkCk=e14-rj-sc0xffffff-h130-w32\" alt=\"Vertex AI logo\"><br> 在Workbench中打开\n",
    "    </a>\n",
    "  </td>\n",
    "  <td style=\"text-align: center\">\n",
    "    <a href=\"https://github.com/GoogleCloudPlatform/vertex-ai-samples/blob/main/notebooks/official/experiments/get_started_with_vertex_experiments.ipynb\">\n",
    "      <img src=\"https://cloud.google.com/ml-engine/images/github-logo-32px.png\" alt=\"GitHub logo\"><br> 在GitHub上查看\n",
    "    </a>\n",
    "  </td>\n",
    "</table>"
   ]
  },
  {
   "cell_type": "markdown",
   "metadata": {
    "id": "overview:mlops"
   },
   "source": [
    "## 概述\n",
    "\n",
    "本教程涵盖了如何开始使用Vertex AI实验，并演示了如何在生产环境中使用Vertex AI。\n",
    "\n",
    "了解更多关于[Vertex AI实验](https://cloud.google.com/vertex-ai/docs/experiments/intro-vertex-ai-experiments)，[Vertex ML Metadata](https://cloud.google.com/vertex-ai/docs/ml-metadata)和[自定义训练](https://cloud.google.com/vertex-ai/docs/training/custom-training)的信息。"
   ]
  },
  {
   "cell_type": "markdown",
   "metadata": {
    "id": "objective:mlops,stage2,get_started_vertex_experiments"
   },
   "source": [
    "### 目标\n",
    "\n",
    "在本教程中，您将学习如何在使用 Vertex AI 时使用 Vertex AI Experiments 进行训练。\n",
    "\n",
    "本教程使用以下 Google Cloud ML 服务：\n",
    "\n",
    "- Vertex AI Experiments\n",
    "- Vertex ML Metadata\n",
    "- Vertex AI Training\n",
    "\n",
    "执行的步骤包括：\n",
    "\n",
    "- 本地（笔记本）训练\n",
    "    - 创建一个实验。\n",
    "    - 在实验中创建第一个运行。\n",
    "    - 记录参数和指标。\n",
    "    - 创建工件谱系。\n",
    "    - 可视化实验结果。\n",
    "    - 执行第二次运行。\n",
    "    - 比较实验中的两次运行。\n",
    "- 云端（Vertex AI）训练\n",
    "    - 在训练脚本中：\n",
    "        - 创建一个实验。\n",
    "        - 记录参数和指标。\n",
    "        - 创建工件谱系。\n",
    "    - 创建一个 Vertex AI 训练定制作业。\n",
    "    - 执行定制作业。\n",
    "    - 可视化实验结果。"
   ]
  },
  {
   "cell_type": "markdown",
   "metadata": {
    "id": "recommendation:mlops,stage2,logging"
   },
   "source": [
    "### 推荐\n",
    "\n",
    "在 Google Cloud 上进行 E2E MLOps 时，以下是在实验或正式训练模型时记录数据的一些最佳实践。\n",
    "\n",
    "#### Python 日志记录\n",
    "\n",
    "在本地进行临时培训时，请使用 Python 的日志记录包。\n",
    "\n",
    "#### 云日志记录\n",
    "\n",
    "在云上进行训练时，请使用云日志记录。\n",
    "\n",
    "#### 实验\n",
    "\n",
    "在执行实验并比较不同实验配置的结果时，请同时使用 Vertex AI 实验和日志记录。"
   ]
  },
  {
   "cell_type": "markdown",
   "metadata": {
    "id": "313c25f2f514"
   },
   "source": [
    "### 数据集\n",
    "\n",
    "这个教程没有使用数据集。对示例数据集的引用仅用于演示目的。"
   ]
  },
  {
   "cell_type": "markdown",
   "metadata": {
    "id": "bd73a4bd07ef"
   },
   "source": [
    "成本\n",
    "本教程使用Google Cloud的收费组件：\n",
    "- Vertex AI\n",
    "了解[Vertex AI定价](https://cloud.google.com/vertex-ai/pricing)，并使用[Pricing Calculator](https://cloud.google.com/products/calculator/)根据您预计的使用情况生成成本估算。"
   ]
  },
  {
   "cell_type": "markdown",
   "metadata": {
    "id": "61RBz8LLbxCR"
   },
   "source": [
    "开始吧"
   ]
  },
  {
   "cell_type": "markdown",
   "metadata": {
    "id": "No17Cw5hgx12"
   },
   "source": [
    "### 为 Python 安装 Vertex AI SDK 和其他必需的软件包"
   ]
  },
  {
   "cell_type": "code",
   "execution_count": null,
   "metadata": {
    "id": "install_mlops"
   },
   "outputs": [],
   "source": [
    "! pip3 install --upgrade --quiet google-cloud-aiplatform"
   ]
  },
  {
   "cell_type": "markdown",
   "metadata": {
    "id": "R5Xep4W9lq-Z"
   },
   "source": [
    "重新启动运行时（仅适用于Colab）\n",
    "\n",
    "为了使用新安装的包，您必须在Google Colab上重新启动运行时。"
   ]
  },
  {
   "cell_type": "code",
   "execution_count": null,
   "metadata": {
    "id": "XRvKdaPDTznN"
   },
   "outputs": [],
   "source": [
    "import sys\n",
    "\n",
    "if \"google.colab\" in sys.modules:\n",
    "\n",
    "    import IPython\n",
    "\n",
    "    app = IPython.Application.instance()\n",
    "    app.kernel.do_shutdown(True)"
   ]
  },
  {
   "cell_type": "markdown",
   "metadata": {
    "id": "SbmM4z7FOBpM"
   },
   "source": [
    "<div class=\"alert alert-block alert-warning\">\n",
    "<b>⚠️内核即将重新启动。请等待直到完成后再继续下一步。⚠️</b>\n",
    "</div>"
   ]
  },
  {
   "cell_type": "markdown",
   "metadata": {
    "id": "dmWOrTJ3gx13"
   },
   "source": [
    "### 在Colab环境上进行身份验证\n",
    "\n",
    "在Google Colab上验证您的环境。"
   ]
  },
  {
   "cell_type": "code",
   "execution_count": null,
   "metadata": {
    "id": "NyKGtVQjgx13"
   },
   "outputs": [],
   "source": [
    "import sys\n",
    "\n",
    "if \"google.colab\" in sys.modules:\n",
    "\n",
    "    from google.colab import auth\n",
    "\n",
    "    auth.authenticate_user()"
   ]
  },
  {
   "cell_type": "markdown",
   "metadata": {
    "id": "DF4l8DTdWgPY"
   },
   "source": [
    "### 设置Google Cloud项目信息并为Python初始化Vertex AI SDK\n",
    "\n",
    "要使用Vertex AI开始，您必须拥有现有的Google Cloud项目并[启用Vertex AI API](https://console.cloud.google.com/flows/enableapi?apiid=aiplatform.googleapis.com)。了解更多关于[设置项目和开发环境](https://cloud.google.com/vertex-ai/docs/start/cloud-environment)的信息。"
   ]
  },
  {
   "cell_type": "code",
   "execution_count": null,
   "metadata": {
    "id": "Nqwi-5ufWp_B"
   },
   "outputs": [],
   "source": [
    "PROJECT_ID = \"[your-project-id]\"  # @param {type:\"string\"}\n",
    "LOCATION = \"us-central1\"  # @param {type:\"string\"}"
   ]
  },
  {
   "cell_type": "markdown",
   "metadata": {
    "id": "bucket:mbsdk"
   },
   "source": [
    "创建云存储桶\n",
    "\n",
    "创建一个存储桶来存储中间产物，如数据集。"
   ]
  },
  {
   "cell_type": "code",
   "execution_count": null,
   "metadata": {
    "id": "bucket"
   },
   "outputs": [],
   "source": [
    "BUCKET_URI = f\"gs://your-bucket-name-{PROJECT_ID}-unique\"  # @param {type:\"string\"}"
   ]
  },
  {
   "cell_type": "markdown",
   "metadata": {
    "id": "create_bucket"
   },
   "source": [
    "如果您的存储桶不存在: 运行以下单元格以创建您的云存储存储桶。"
   ]
  },
  {
   "cell_type": "code",
   "execution_count": null,
   "metadata": {
    "id": "create_bucket"
   },
   "outputs": [],
   "source": [
    "! gsutil mb -l $LOCATION $BUCKET_URI"
   ]
  },
  {
   "cell_type": "markdown",
   "metadata": {
    "id": "set_service_account"
   },
   "source": [
    "服务账号\n",
    "\n",
    "**如果您不知道您的服务账号**，请尝试通过执行下面第二个单元格中的`gcloud`命令来获取您的服务账号。"
   ]
  },
  {
   "cell_type": "code",
   "execution_count": null,
   "metadata": {
    "id": "set_service_account"
   },
   "outputs": [],
   "source": [
    "SERVICE_ACCOUNT = \"[your-service-account]\"  # @param {type:\"string\"}"
   ]
  },
  {
   "cell_type": "code",
   "execution_count": null,
   "metadata": {
    "id": "autoset_service_account"
   },
   "outputs": [],
   "source": [
    "IS_COLAB = False\n",
    "\n",
    "if (\n",
    "    SERVICE_ACCOUNT == \"\"\n",
    "    or SERVICE_ACCOUNT is None\n",
    "    or SERVICE_ACCOUNT == \"[your-service-account]\"\n",
    "):\n",
    "    # Get your service account from gcloud\n",
    "    if not IS_COLAB:\n",
    "        shell_output = !gcloud auth list 2>/dev/null\n",
    "        SERVICE_ACCOUNT = shell_output[2].replace(\"*\", \"\").strip()\n",
    "\n",
    "    if IS_COLAB:\n",
    "        shell_output = ! gcloud projects describe  $PROJECT_ID\n",
    "        # print(\"shell_output=\", shell_output)\n",
    "        project_number = shell_output[-1].split(\":\")[1].strip().replace(\"'\", \"\")\n",
    "        SERVICE_ACCOUNT = f\"{project_number}-compute@developer.gserviceaccount.com\"\n",
    "\n",
    "    print(\"Service Account:\", SERVICE_ACCOUNT)"
   ]
  },
  {
   "cell_type": "markdown",
   "metadata": {
    "id": "setup_vars"
   },
   "source": [
    "### 设置变量\n",
    "\n",
    "接下来，设置一些在教程中使用的变量。\n",
    "### 导入库"
   ]
  },
  {
   "cell_type": "code",
   "execution_count": null,
   "metadata": {
    "id": "import_aip:mbsdk"
   },
   "outputs": [],
   "source": [
    "import os\n",
    "import uuid\n",
    "\n",
    "import google.cloud.aiplatform as aiplatform"
   ]
  },
  {
   "cell_type": "markdown",
   "metadata": {
    "id": "init_aip:mbsdk,region"
   },
   "source": [
    "### 初始化用于Python的Vertex AI SDK\n",
    "\n",
    "为您的项目和相应的存储桶初始化用于Python的Vertex AI SDK。"
   ]
  },
  {
   "cell_type": "code",
   "execution_count": null,
   "metadata": {
    "id": "init_aip:mbsdk,region"
   },
   "outputs": [],
   "source": [
    "aiplatform.init(project=PROJECT_ID, location=LOCATION, staging_bucket=BUCKET_URI)"
   ]
  },
  {
   "cell_type": "markdown",
   "metadata": {
    "id": "accelerators:training,cpu,prediction,cpu,mbsdk"
   },
   "source": [
    "### 设置硬件加速器\n",
    "\n",
    "您可以为训练设定硬件加速器。\n",
    "\n",
    "将变量 `TRAIN_GPU/TRAIN_NGPU` 设置为使用支持 GPU 的容器映像以及分配给虚拟机实例（VM）的 GPU 数量。例如，要使用一个 GPU 容器映像，并为每个 VM 分配 4 个 Nvidia Telsa K80 GPU，您可以指定：\n",
    "\n",
    "    (aiplatform.gapic.AcceleratorType.NVIDIA_TESLA_K80, 4)\n",
    "\n",
    "否则，指定 `(None, None)` 以使用一个在 CPU 上运行的容器映像。\n",
    "\n",
    "了解更多关于[您所在地区的硬件加速器支持](https://cloud.google.com/vertex-ai/docs/general/locations#accelerators)。"
   ]
  },
  {
   "cell_type": "code",
   "execution_count": null,
   "metadata": {
    "id": "accelerators:training,cpu,prediction,cpu,mbsdk"
   },
   "outputs": [],
   "source": [
    "if os.getenv(\"IS_TESTING_TRAIN_GPU\"):\n",
    "    TRAIN_GPU, TRAIN_NGPU = (\n",
    "        aiplatform.gapic.AcceleratorType.NVIDIA_TESLA_K80,\n",
    "        int(os.getenv(\"IS_TESTING_TRAIN_GPU\")),\n",
    "    )\n",
    "else:\n",
    "    TRAIN_GPU, TRAIN_NGPU = (None, None)"
   ]
  },
  {
   "cell_type": "markdown",
   "metadata": {
    "id": "container:training,prediction"
   },
   "source": [
    "设置预构建的容器\n",
    "\n",
    "设置预构建的Docker容器镜像用于训练。\n",
    "\n",
    "有关最新列表，请参阅[用于训练的预构建容器](https://cloud.google.com/vertex-ai/docs/training/pre-built-containers)。"
   ]
  },
  {
   "cell_type": "code",
   "execution_count": null,
   "metadata": {
    "id": "container:training,prediction"
   },
   "outputs": [],
   "source": [
    "if os.getenv(\"IS_TESTING_TF\"):\n",
    "    TF = os.getenv(\"IS_TESTING_TF\")\n",
    "else:\n",
    "    TF = \"2.12\".replace(\".\", \"-\")\n",
    "\n",
    "if TRAIN_GPU:\n",
    "    TRAIN_VERSION = \"tf-gpu.{}.py310\".format(TF)\n",
    "else:\n",
    "    TRAIN_VERSION = \"tf-cpu.{}.py310\".format(TF)\n",
    "\n",
    "\n",
    "TRAIN_IMAGE = \"{}-docker.pkg.dev/vertex-ai/training/{}:latest\".format(\n",
    "    LOCATION.split(\"-\")[0], TRAIN_VERSION\n",
    ")\n",
    "\n",
    "print(\"Training:\", TRAIN_IMAGE, TRAIN_GPU, TRAIN_NGPU)"
   ]
  },
  {
   "cell_type": "markdown",
   "metadata": {
    "id": "machine:training"
   },
   "source": [
    "#### 设置机器类型\n",
    "\n",
    "接下来，设置用于训练的机器类型。\n",
    "\n",
    "- 将变量 `TRAIN_COMPUTE` 设置为配置用于训练的虚拟机的计算资源。\n",
    " - `机器类型`\n",
    "     - `n1-standard`: 每个 vCPU 3.75GB 的内存。\n",
    "     - `n1-highmem`: 每个 vCPU 6.5GB 的内存\n",
    "     - `n1-highcpu`: 每个 vCPU 0.9GB 的内存\n",
    " - `vCPUs`: 数量为 \\[2, 4, 8, 16, 32, 64, 96 \\]\n",
    "\n",
    "*注意：以下机器类型不支持用于训练：*\n",
    "\n",
    " - `standard`: 2 vCPUs\n",
    " - `highcpu`: 2、4 和 8 vCPUs\n",
    "\n",
    "*注意：您也可以使用 n2 和 e2 机器类型进行训练和部署，但它们不支持GPU*。"
   ]
  },
  {
   "cell_type": "code",
   "execution_count": null,
   "metadata": {
    "id": "machine:training"
   },
   "outputs": [],
   "source": [
    "if os.getenv(\"IS_TESTING_TRAIN_MACHINE\"):\n",
    "    MACHINE_TYPE = os.getenv(\"IS_TESTING_TRAIN_MACHINE\")\n",
    "else:\n",
    "    MACHINE_TYPE = \"n1-standard\"\n",
    "\n",
    "VCPU = \"4\"\n",
    "TRAIN_COMPUTE = MACHINE_TYPE + \"-\" + VCPU\n",
    "print(\"Train machine type\", TRAIN_COMPUTE)"
   ]
  },
  {
   "cell_type": "markdown",
   "metadata": {
    "id": "83f8f98ae12d"
   },
   "source": [
    "## 介绍 Vertex AI 实验\n",
    "\n",
    "通过 Vertex AI 实验，您可以记录和跟踪以下内容，用于实验和开发模型架构和模型训练：\n",
    "\n",
    "- 记录模型架构的元参数。\n",
    "- 记录训练的超参数。\n",
    "- 记录评估指标。\n",
    "- 创建数据集、模型和评估的工件衍生。\n",
    "- 将一个或多个训练运行分组到一个实验中。\n",
    "- 比较实验结果。\n",
    "\n",
    "Vertex AI 实验可以与以下开发流程集成：\n",
    "\n",
    "- 在笔记本中进行本地开发\n",
    "- 在 Vertex AI 训练中进行云开发\n",
    "- 在 Vertex AI 管道中进行操作开发\n",
    "\n",
    "了解更多关于[实验](https://cloud.google.com/vertex-ai/docs/experiments/intro-vertex-ai-experiments).\n",
    "\n",
    "了解更多关于[Vertex ML Metadata](https://cloud.google.com/vertex-ai/docs/ml-metadata/introduction)。"
   ]
  },
  {
   "cell_type": "markdown",
   "metadata": {
    "id": "fb84b57b9e74"
   },
   "source": [
    "### 在笔记本电脑中进行本地开发\n",
    "\n",
    "您可以在本地开发中跟踪实验，例如在Vertex AI Workbench笔记本中，方法如下：\n",
    "\n",
    "- 包装（引言）实验的创建。\n",
    "- 在实验中为每个训练运行实例化一个运行。\n",
    "- 在本地训练运行中，记录相应的参数和结果。\n",
    "- 创建与工件和实验数据的渊源。\n",
    "- 检索实验数据。"
   ]
  },
  {
   "cell_type": "markdown",
   "metadata": {
    "id": "start_experiment"
   },
   "source": [
    "创建用于跟踪培训相关元数据的实验\n",
    "\n",
    "首先，您可以使用 `init()` 方法创建一个实验，然后在实验中初始化一个运行，使用 `start_run()`。\n",
    "\n",
    "- `aiplatform.init()` - 创建一个实验实例\n",
    "- `aiplatform.start_run()` - 跟踪实验中的特定运行。"
   ]
  },
  {
   "cell_type": "code",
   "execution_count": null,
   "metadata": {
    "id": "1ed46e349cf2"
   },
   "outputs": [],
   "source": [
    "# Specify a name for the experiment\n",
    "EXPERIMENT_NAME = \"[your-experiment-name]\"\n",
    "\n",
    "if EXPERIMENT_NAME == \"[your-experiment-name]\":\n",
    "    EXPERIMENT_NAME = f\"example-{uuid.uuid1()}\""
   ]
  },
  {
   "cell_type": "code",
   "execution_count": null,
   "metadata": {
    "id": "start_experiment"
   },
   "outputs": [],
   "source": [
    "# Create experiment\n",
    "aiplatform.init(experiment=EXPERIMENT_NAME)\n",
    "aiplatform.start_run(\"run-1\")"
   ]
  },
  {
   "cell_type": "markdown",
   "metadata": {
    "id": "experiment_log_params"
   },
   "source": [
    "为实验记录参数\n",
    "\n",
    "通常，实验与特定数据集和模型架构相关联。在一个实验中，您可能有多个训练运行，\n",
    "每个运行涉及不同的配置。例如：\n",
    "\n",
    "- 数据提供，例如：\n",
    "    - 数据集拆分\n",
    "    - 数据集抽样和增强\n",
    "- 元参数，例如：\n",
    "    - 层的深度和宽度\n",
    "- 超参数，例如：\n",
    "    - 批量大小\n",
    "    - 学习率\n",
    "\n",
    "这些配置设置被称为参数，您可以使用`log_params()`方法将其存储为键-值对。"
   ]
  },
  {
   "cell_type": "code",
   "execution_count": null,
   "metadata": {
    "id": "experiment_log_params"
   },
   "outputs": [],
   "source": [
    "metaparams = {}\n",
    "metaparams[\"units\"] = 128\n",
    "aiplatform.log_params(metaparams)\n",
    "\n",
    "hyperparams = {}\n",
    "hyperparams[\"epochs\"] = 100\n",
    "hyperparams[\"batch_size\"] = 32\n",
    "hyperparams[\"learning_rate\"] = 0.01\n",
    "aiplatform.log_params(hyperparams)"
   ]
  },
  {
   "cell_type": "markdown",
   "metadata": {
    "id": "experiment_log_metrics"
   },
   "source": [
    "记录实验的指标\n",
    "\n",
    "在实验运行结束或终止时，您可以记录结果，以便比较不同运行的结果。例如：\n",
    "\n",
    "- 评估指标\n",
    "- 超参数搜索选择\n",
    "- 模型训练时间\n",
    "- 提前停止触发器\n",
    "\n",
    "这些结果被称为指标，您可以使用 `log_metrics()` 方法将其存储为键值对。"
   ]
  },
  {
   "cell_type": "code",
   "execution_count": null,
   "metadata": {
    "id": "experiment_log_metrics"
   },
   "outputs": [],
   "source": [
    "metrics = {}\n",
    "metrics[\"test_acc\"] = 98.7\n",
    "metrics[\"train_acc\"] = 99.3\n",
    "aiplatform.log_metrics(metrics)"
   ]
  },
  {
   "cell_type": "markdown",
   "metadata": {
    "id": "get_experiment"
   },
   "source": [
    "获取实验结果\n",
    "\n",
    "当您完成实验中的一个运行时，请调用 `end_run()` 方法来完成该运行的日志记录。\n",
    "\n",
    "接下来，将实验名称作为参数传递给 `get_experiment_df()` 方法，以将实验结果作为 Pandas 数据帧获取。"
   ]
  },
  {
   "cell_type": "code",
   "execution_count": null,
   "metadata": {
    "id": "get_experiment"
   },
   "outputs": [],
   "source": [
    "aiplatform.end_run()\n",
    "\n",
    "experiment_df = aiplatform.get_experiment_df()\n",
    "experiment_df = experiment_df[experiment_df.experiment_name == EXPERIMENT_NAME]\n",
    "print(experiment_df.T)"
   ]
  },
  {
   "cell_type": "markdown",
   "metadata": {
    "id": "2bcaf3e3ddff"
   },
   "source": [
    "开始实验中的后续运行\n",
    "\n",
    "接下来，为同一个实验创建第二个运行。在这个示例中，您将将`units`的元参数从126更改为256，并记录不同的度量结果。"
   ]
  },
  {
   "cell_type": "code",
   "execution_count": null,
   "metadata": {
    "id": "d7c1a839683b"
   },
   "outputs": [],
   "source": [
    "aiplatform.start_run(\"run-2\")\n",
    "\n",
    "metaparams = {}\n",
    "metaparams[\"units\"] = 256  # changed the value\n",
    "aiplatform.log_params(metaparams)\n",
    "\n",
    "hyperparams = {}\n",
    "hyperparams[\"epochs\"] = 100\n",
    "hyperparams[\"batch_size\"] = 32\n",
    "hyperparams[\"learning_rate\"] = 0.01\n",
    "aiplatform.log_params(hyperparams)\n",
    "\n",
    "metrics = {}\n",
    "metrics[\"test_acc\"] = 98.8  # value changed\n",
    "metrics[\"train_acc\"] = 99.5  # value changed\n",
    "aiplatform.log_metrics(metrics)"
   ]
  },
  {
   "cell_type": "markdown",
   "metadata": {
    "id": "0d2619bbc04a"
   },
   "source": [
    "最后，使用实验名称作为方法`get_experiment_df()`的参数，以获得实验中所有运行结果的pandas数据框。"
   ]
  },
  {
   "cell_type": "code",
   "execution_count": null,
   "metadata": {
    "id": "7ddb4e17fe92"
   },
   "outputs": [],
   "source": [
    "aiplatform.end_run()\n",
    "\n",
    "experiment_df = aiplatform.get_experiment_df()\n",
    "experiment_df = experiment_df[experiment_df.experiment_name == EXPERIMENT_NAME]\n",
    "print(experiment_df.T)"
   ]
  },
  {
   "cell_type": "markdown",
   "metadata": {
    "id": "5328eb24f6a6"
   },
   "source": [
    "请删除实验\n",
    "\n",
    "然后，使用`delete()`方法来删除实验。"
   ]
  },
  {
   "cell_type": "code",
   "execution_count": null,
   "metadata": {
    "id": "cleanup:mbsdk"
   },
   "outputs": [],
   "source": [
    "exp = aiplatform.Experiment(EXPERIMENT_NAME)\n",
    "try:\n",
    "    exp.delete()\n",
    "except Exception as e:\n",
    "    print(e)"
   ]
  },
  {
   "cell_type": "markdown",
   "metadata": {
    "id": "a07fb4c47af4"
   },
   "source": [
    "在实验运行中创建工件血统\n",
    "\n",
    "在这个例子中，您可以向您的实验运行中添加工件血统。首先，创建一个实验，然后在实验中开始一个运行。"
   ]
  },
  {
   "cell_type": "code",
   "execution_count": null,
   "metadata": {
    "id": "b7aea23dafbc"
   },
   "outputs": [],
   "source": [
    "# Create experiment\n",
    "EXPERIMENT_NAME = f\"example-{uuid.uuid1()}\"\n",
    "aiplatform.init(experiment=EXPERIMENT_NAME)\n",
    "aiplatform.start_run(\"run-1\")"
   ]
  },
  {
   "cell_type": "markdown",
   "metadata": {
    "id": "355fed1a7b6d"
   },
   "source": [
    "创建数据集和模型工件\n",
    "\n",
    "接下来，在Vertex ML Metadata中创建合成工件，以与实验中的运行相关联，作为谱系。您将创建：\n",
    "\n",
    "- `dataset_artifact`：作为实验运行的输入的数据集。\n",
    "- `model_artifact`：作为实验运行的输出的模型。"
   ]
  },
  {
   "cell_type": "code",
   "execution_count": null,
   "metadata": {
    "id": "4c1faeec89bb"
   },
   "outputs": [],
   "source": [
    "DATASET_URI = \"gs://example/dataset.csv\"\n",
    "MODEL_URI = \"gs://example/saved_model.pb\"\n",
    "\n",
    "dataset_artifact = aiplatform.Artifact.create(\n",
    "    schema_title=\"system.Dataset\", display_name=\"example_dataset\", uri=DATASET_URI\n",
    ")\n",
    "\n",
    "model_artifact = aiplatform.Artifact.create(\n",
    "    schema_title=\"system.Model\", display_name=\"example_modl\", uri=MODEL_URI\n",
    ")"
   ]
  },
  {
   "cell_type": "markdown",
   "metadata": {
    "id": "7f6cc9dbaa2e"
   },
   "source": [
    "#### 创建工件传承\n",
    "\n",
    "接下来，为实验运行创建工件传承，使用`start_execution()`方法实例化一个执行。然后使用`assign_input_artifacts()`方法附加输入工件，并使用`assign_output_artifacts()`方法附加输出工件。\n",
    "\n",
    "在这个例子中，要找到实验的传承，您可以在执行运行中添加一个合成（元数据）条目`lineage`，并将值设置为传承的控制台 URI，您可以从`get_output_artifacts()`方法和`lineage_console_uri`属性获取。"
   ]
  },
  {
   "cell_type": "code",
   "execution_count": null,
   "metadata": {
    "id": "9170906b09f9"
   },
   "outputs": [],
   "source": [
    "with aiplatform.start_execution(\n",
    "    schema_title=\"system.ContainerExecution\", display_name=\"example_training\"\n",
    ") as execution:\n",
    "    execution.assign_input_artifacts([dataset_artifact])\n",
    "\n",
    "    aiplatform.log_params({\"units\": 256})\n",
    "    aiplatform.log_metrics({\"acc\": 96.8})\n",
    "\n",
    "    execution.assign_output_artifacts([model_artifact])\n",
    "\n",
    "    aiplatform.log_metrics(\n",
    "        {\"lineage\": execution.get_output_artifacts()[0].lineage_console_uri}\n",
    "    )"
   ]
  },
  {
   "cell_type": "markdown",
   "metadata": {
    "id": "15f847929914"
   },
   "source": [
    "获取实验结果\n",
    "\n",
    "接下来，使用实验名称作为参数传递给方法`get_experiment_df()`，以获取实验结果作为一个 pandas 数据帧。\n",
    "\n",
    "在这个示例中，您将资源 URI 存储为度量值`lineage`，在执行运行中成为血统的一部分。"
   ]
  },
  {
   "cell_type": "code",
   "execution_count": null,
   "metadata": {
    "id": "0cfa26496ea9"
   },
   "outputs": [],
   "source": [
    "aiplatform.end_run()\n",
    "\n",
    "experiment_df = aiplatform.get_experiment_df()\n",
    "experiment_df = experiment_df[experiment_df.experiment_name == EXPERIMENT_NAME]\n",
    "print(experiment_df.T)"
   ]
  },
  {
   "cell_type": "markdown",
   "metadata": {
    "id": "994b3dab8769"
   },
   "source": [
    "#### 可视化文物谱系\n",
    "\n",
    "接下来，打开下面的链接来可视化文物谱系。"
   ]
  },
  {
   "cell_type": "code",
   "execution_count": null,
   "metadata": {
    "id": "b85013ec6f11"
   },
   "outputs": [],
   "source": [
    "print(\n",
    "    \"Open the following link:\", execution.get_output_artifacts()[0].lineage_console_uri\n",
    ")"
   ]
  },
  {
   "cell_type": "markdown",
   "metadata": {
    "id": "80f8e272bf3f"
   },
   "source": [
    "#### 删除工件谱系\n",
    "\n",
    "接下来，使用`delete()`方法来删除工件谱系。"
   ]
  },
  {
   "cell_type": "code",
   "execution_count": null,
   "metadata": {
    "id": "ae66f78a233f"
   },
   "outputs": [],
   "source": [
    "try:\n",
    "    dataset_artifact.delete()\n",
    "except Exception as e:\n",
    "    print(e)\n",
    "try:\n",
    "    model_artifact.delete()\n",
    "except Exception as e:\n",
    "    print(e)"
   ]
  },
  {
   "cell_type": "markdown",
   "metadata": {
    "id": "35b899773315"
   },
   "source": [
    "删除实验\n",
    "\n",
    "接下来，您可以使用`delete()`方法来删除实验。"
   ]
  },
  {
   "cell_type": "code",
   "execution_count": null,
   "metadata": {
    "id": "f1020119d742"
   },
   "outputs": [],
   "source": [
    "try:\n",
    "    exp.delete()\n",
    "except Exception as e:\n",
    "    print(e)"
   ]
  },
  {
   "cell_type": "markdown",
   "metadata": {
    "id": "3cd64a48e0f4"
   },
   "source": [
    "### 在Vertex AI Training中的云开发\n",
    "\n",
    "您可以使用Vertex AI Training在云开发中跟踪一个实验，方法如下：\n",
    "\n",
    "在您的Python训练脚本中，重复与本地开发相同的步骤：\n",
    "\n",
    "- 包装（前导）实验的创建。\n",
    "- 实例化每次训练运行中的一个运行。\n",
    "- 在本地训练运行中，记录相应的参数和结果。\n",
    "- 为艺术品和实验数据创建血统。\n",
    "- 检索实验数据。"
   ]
  },
  {
   "cell_type": "markdown",
   "metadata": {
    "id": "examine_training_package"
   },
   "source": [
    "#### 包布局\n",
    "\n",
    "在开始训练之前，您会查看Python包是如何组装用于自定义训练工作的。解压后，包含以下目录/文件布局。\n",
    "\n",
    "- PKG-INFO\n",
    "- README.md\n",
    "- setup.cfg\n",
    "- setup.py\n",
    "- trainer\n",
    "  - \\_\\_init\\_\\_.py\n",
    "  - task.py\n",
    "\n",
    "文件`setup.cfg`和`setup.py`是安装包到Docker镜像操作环境的指令。\n",
    "\n",
    "文件`trainer/task.py`是执行自定义训练工作的Python脚本。*注意*，当我们在工作人员池规范中提到它时，我们将目录斜杠替换为点(`trainer.task`)并丢掉文件后缀(`.py`)。\n",
    "\n",
    "#### 包组装\n",
    "\n",
    "在下面的单元格中，组装训练包。"
   ]
  },
  {
   "cell_type": "code",
   "execution_count": null,
   "metadata": {
    "id": "examine_training_package"
   },
   "outputs": [],
   "source": [
    "# Make folder for Python training script\n",
    "! rm -rf custom\n",
    "! mkdir custom\n",
    "\n",
    "# Add package information\n",
    "! touch custom/README.md\n",
    "\n",
    "setup_cfg = \"[egg_info]\\n\\ntag_build =\\n\\ntag_date = 0\"\n",
    "! echo \"$setup_cfg\" > custom/setup.cfg\n",
    "\n",
    "setup_py = \"import setuptools\\n\\nsetuptools.setup(\\n\\n    install_requires=[\\n\\n        'google-cloud-aiplatform',\\n\\n  ],\\n\\n    packages=setuptools.find_packages())\"\n",
    "! echo \"$setup_py\" > custom/setup.py\n",
    "\n",
    "pkg_info = \"Metadata-Version: 1.0\\n\\nName: Synethic Training Script for Experiments\\n\\nVersion: 0.0.0\\n\\nSummary: Demostration training script\\n\\nHome-page: www.google.com\\n\\nAuthor: Google\\n\\nAuthor-email: aferlitsch@google.com\\n\\nLicense: Public\\n\\nDescription: Demo\\n\\nPlatform: Vertex\"\n",
    "! echo \"$pkg_info\" > custom/PKG-INFO\n",
    "\n",
    "# Make the training subfolder\n",
    "! mkdir custom/trainer\n",
    "! touch custom/trainer/__init__.py"
   ]
  },
  {
   "cell_type": "markdown",
   "metadata": {
    "id": "50c0e24489df"
   },
   "source": [
    "#### 创建合成训练脚本\n",
    "\n",
    "首先，编写一个合成训练脚本。它实际上不会训练模型，而是模拟模型的训练：\n",
    "\n",
    "- 参数解析\n",
    "  - `experiment`：实验的名称。\n",
    "  - `run`：实验中的运行名称。\n",
    "  - `epochs`：训练轮数。\n",
    "  - `dataset-uri`：训练数据的云存储位置。\n",
    "  - `model-dir`：保存训练后模型文件的云存储位置。\n",
    "- 训练函数\n",
    "  - `get_data()`：\n",
    "      - 获取训练数据。\n",
    "      - 创建输入数据集工件。\n",
    "      - 将数据集工件附加为执行环境的输入。\n",
    "  - `get_model()`：\n",
    "      - 获取模型架构。\n",
    "  - `train_model()`：\n",
    "      - 训练模型。\n",
    "  - `save_model()`：\n",
    "      - 保存模型。\n",
    "      - 创建输出模型工件。\n",
    "      - 将模型工件附加为执行环境的输出。\n",
    "- 初始化实验（`init()`）并在实验中启动一个运行（`start_run()`）。\n",
    "- 用 `start_execution()` 包装训练过程。\n",
    "- 将实验参数的任务血统记录到日志中（`log_metrics({\"lineage\"...)`）。\n",
    "- 结束实验运行（`end_run()`）。"
   ]
  },
  {
   "cell_type": "code",
   "execution_count": null,
   "metadata": {
    "id": "aed1431dccaf"
   },
   "outputs": [],
   "source": [
    "%%writefile custom/trainer/task.py\n",
    "\n",
    "import argparse\n",
    "import os\n",
    "\n",
    "import google.cloud.aiplatform as aiplatform\n",
    "\n",
    "parser = argparse.ArgumentParser()\n",
    "# Args for experiment\n",
    "parser.add_argument('--experiment', dest='experiment',\n",
    "                    required=True, type=str,\n",
    "                    help='Name of experiment')\n",
    "parser.add_argument('--run', dest='run',\n",
    "                    required=True, type=str,\n",
    "                    help='Name of run within the experiment')\n",
    "\n",
    "# Hyperparameters for experiment\n",
    "parser.add_argument('--epochs', dest='epochs',\n",
    "                    default=10, type=int,\n",
    "                    help='Number of epochs.')\n",
    "\n",
    "parser.add_argument('--dataset-uri', dest='dataset_uri',\n",
    "                    required=True, type=str,\n",
    "                    help='Location of the dataset')\n",
    "\n",
    "parser.add_argument('--model-dir', dest='model_dir',\n",
    "                    default=os.getenv(\"AIP_MODEL_DIR\"), type=str,\n",
    "                    help='Storage location for the model')\n",
    "args = parser.parse_args()\n",
    "\n",
    "def get_data(dataset_uri, execution):\n",
    "    # get the training data\n",
    "    \n",
    "    dataset_artifact = aiplatform.Artifact.create(\n",
    "        schema_title=\"system.Dataset\", display_name=\"example_dataset\", uri=dataset_uri\n",
    "    )\n",
    "    \n",
    "    execution.assign_input_artifacts([dataset_artifact])\n",
    "\n",
    "    return None\n",
    "\n",
    "def get_model():\n",
    "    # get or create the model architecture\n",
    "    return None\n",
    "\n",
    "def train_model(dataset, model, epochs):\n",
    "    aiplatform.log_params({\"epochs\": epochs})\n",
    "    # train the model\n",
    "    return model\n",
    "\n",
    "def save_model(model, model_dir, execution):\n",
    "    # save the model\n",
    "    \n",
    "    model_artifact = aiplatform.Artifact.create(\n",
    "        schema_title=\"system.Model\", display_name=\"example_model\", uri=model_dir\n",
    "    )\n",
    "    execution.assign_output_artifacts([model_artifact])\n",
    "\n",
    "# Create a run within the experiment\n",
    "aiplatform.init(experiment=args.experiment)\n",
    "aiplatform.start_run(args.run)\n",
    "\n",
    "with aiplatform.start_execution(\n",
    "    schema_title=\"system.ContainerExecution\", display_name=\"example_training\"\n",
    ") as execution:\n",
    "    dataset = get_data(args.dataset_uri, execution)\n",
    "    model = get_model()\n",
    "    model = train_model(dataset, model, args.epochs)\n",
    "    save_model(model, args.model_dir, execution)\n",
    "    \n",
    "    # Store the lineage link in the experiment\n",
    "    aiplatform.log_metrics({\"lineage\": execution.get_output_artifacts()[0].lineage_console_uri})\n",
    "\n",
    "aiplatform.end_run()"
   ]
  },
  {
   "cell_type": "markdown",
   "metadata": {
    "id": "tarball_training_script"
   },
   "source": [
    "将培训脚本存储在您的云存储桶中\n",
    "\n",
    "接下来，将培训文件夹打包成压缩的tar文件，并将其存储在您的云存储桶中。"
   ]
  },
  {
   "cell_type": "code",
   "execution_count": null,
   "metadata": {
    "id": "tarball_training_script"
   },
   "outputs": [],
   "source": [
    "! rm -f custom.tar custom.tar.gz\n",
    "! tar cvf custom.tar custom\n",
    "! gzip custom.tar\n",
    "! gsutil cp custom.tar.gz $BUCKET_URI/trainer.tar.gz"
   ]
  },
  {
   "cell_type": "markdown",
   "metadata": {
    "id": "create_custom_pp_training_job:mbsdk,no_model"
   },
   "source": [
    "#### 创建自定义训练任务\n",
    "\n",
    "使用`CustomTrainingJob`类创建自定义训练任务，具有以下参数：\n",
    "\n",
    "- `display_name`：自定义训练任务的可读名称。\n",
    "- `container_uri`：训练容器映像。\n",
    "\n",
    "- `python_package_gcs_uri`：Python训练包的位置，作为一个tarball。\n",
    "- `python_module_name`：Python包中训练脚本的相对路径。\n",
    "\n",
    "*注意：*没有要求参数。您可以在Python包的`setup.py`脚本中指定任何要求。"
   ]
  },
  {
   "cell_type": "code",
   "execution_count": null,
   "metadata": {
    "id": "create_custom_pp_training_job:mbsdk,no_model"
   },
   "outputs": [],
   "source": [
    "DISPLAY_NAME = \"example\"\n",
    "\n",
    "job = aiplatform.CustomPythonPackageTrainingJob(\n",
    "    display_name=DISPLAY_NAME,\n",
    "    python_package_gcs_uri=f\"{BUCKET_URI}/trainer.tar.gz\",\n",
    "    python_module_name=\"trainer.task\",\n",
    "    container_uri=TRAIN_IMAGE,\n",
    ")"
   ]
  },
  {
   "cell_type": "markdown",
   "metadata": {
    "id": "run_custom_container_training_job:no_model"
   },
   "source": [
    "运行自定义训练作业\n",
    "\n",
    "接下来，通过调用方法 `run()`，运行自定义训练作业以开始训练作业，使用以下参数：\n",
    "\n",
    "- `args`：传递给训练脚本的参数\n",
    "    - `model_dir`：存储模型的云存储位置。\n",
    "    - `dataset_uri`：数据集的云存储位置。\n",
    "    - `epochs`：迭代次数（超参数）。\n",
    "    - `experiment`：实验的名称。\n",
    "    - `run`：实验中的运行名称。\n",
    "- `replica_count`：VM实例的数量。\n",
    "- `machine_type`：每个VM实例的机器类型。"
   ]
  },
  {
   "cell_type": "code",
   "execution_count": null,
   "metadata": {
    "id": "260f972398e5"
   },
   "outputs": [],
   "source": [
    "EXPERIMENT_NAME = f\"example-{uuid.uuid1()}\"\n",
    "aiplatform.init(experiment=EXPERIMENT_NAME)\n",
    "\n",
    "CMDARGS = [\n",
    "    \"--model-dir=\" + BUCKET_URI,\n",
    "    \"--dataset-uri=gs://example/foo.csv\",\n",
    "    \"--epochs=5\",\n",
    "    f\"--experiment={EXPERIMENT_NAME}\",\n",
    "    \"--run=run-1\",\n",
    "]\n",
    "\n",
    "job.run(\n",
    "    args=CMDARGS,\n",
    "    replica_count=1,\n",
    "    machine_type=TRAIN_COMPUTE,\n",
    "    service_account=SERVICE_ACCOUNT,\n",
    "    sync=True,\n",
    ")"
   ]
  },
  {
   "cell_type": "markdown",
   "metadata": {
    "id": "5f40912e6500"
   },
   "source": [
    "获取实验结果\n",
    "\n",
    "接下来，使用实验名称作为参数调用方法`get_experiment_df()`以将实验结果获取为pandas dataframe。\n",
    "\n",
    "在这个例子中，您将资源URI存储为度量值`lineage`，并将其与执行运行相关联。"
   ]
  },
  {
   "cell_type": "code",
   "execution_count": null,
   "metadata": {
    "id": "7e9671712230"
   },
   "outputs": [],
   "source": [
    "experiment_df = aiplatform.get_experiment_df()\n",
    "experiment_df = experiment_df[experiment_df.experiment_name == EXPERIMENT_NAME]\n",
    "print(experiment_df.T)"
   ]
  },
  {
   "cell_type": "markdown",
   "metadata": {
    "id": "65a65f847332"
   },
   "source": [
    "#### 可视化工件谱系\n",
    "\n",
    "接下来，打开下面的链接来可视化工件谱系。"
   ]
  },
  {
   "cell_type": "code",
   "execution_count": null,
   "metadata": {
    "id": "f5a02e7d92c7"
   },
   "outputs": [],
   "source": [
    "try:\n",
    "    print(\"Open the following link\", experiment_df[\"metric.lineage\"][0])\n",
    "except Exception as e:\n",
    "    print(e)"
   ]
  },
  {
   "cell_type": "markdown",
   "metadata": {
    "id": "d4ba591be8ec"
   },
   "source": [
    "#### 删除自定义训练任务\n",
    "\n",
    "您可以使用`delete()`方法来删除您的自定义训练任务。"
   ]
  },
  {
   "cell_type": "code",
   "execution_count": null,
   "metadata": {
    "id": "5436ab06482a"
   },
   "outputs": [],
   "source": [
    "job.delete()"
   ]
  },
  {
   "cell_type": "markdown",
   "metadata": {
    "id": "e508c159d712"
   },
   "source": [
    "删除实验\n",
    "\n",
    "由于实验是在Vertex AI训练中创建的，要删除实验，您可以使用`list()`方法来获取项目中的所有实验，然后根据实验名称进行筛选。"
   ]
  },
  {
   "cell_type": "code",
   "execution_count": null,
   "metadata": {
    "id": "1a1b5fcbfde0"
   },
   "outputs": [],
   "source": [
    "experiments = aiplatform.Experiment.list()\n",
    "for experiment in experiments:\n",
    "    if experiment.name == EXPERIMENT_NAME:\n",
    "        experiment.delete()"
   ]
  },
  {
   "cell_type": "markdown",
   "metadata": {
    "id": "cleanup:mbsdk"
   },
   "source": [
    "清理\n",
    "\n",
    "要清理这个项目中使用的所有谷歌云资源，您可以删除用于教程的[谷歌云项目](https://cloud.google.com/resource-manager/docs/creating-managing-projects#shutting_down_projects)。\n",
    "\n",
    "否则，您可以删除在本教程中创建的单个资源。"
   ]
  },
  {
   "cell_type": "code",
   "execution_count": null,
   "metadata": {
    "id": "e89f43b3df49"
   },
   "outputs": [],
   "source": [
    "! rm -rf custom\n",
    "\n",
    "delete_bucket = False\n",
    "\n",
    "if delete_bucket:\n",
    "    ! gsutil rm -rf {BUCKET_URI}"
   ]
  }
 ],
 "metadata": {
  "colab": {
   "name": "get_started_with_vertex_experiments.ipynb",
   "toc_visible": true
  },
  "kernelspec": {
   "display_name": "Python 3",
   "name": "python3"
  }
 },
 "nbformat": 4,
 "nbformat_minor": 0
}
