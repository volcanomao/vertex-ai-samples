{
 "cells": [
  {
   "cell_type": "code",
   "execution_count": null,
   "metadata": {
    "id": "ur8xi4C7S06n"
   },
   "outputs": [],
   "source": [
    "# Copyright 2022 Google LLC\n",
    "#\n",
    "# Licensed under the Apache License, Version 2.0 (the \"License\");\n",
    "# you may not use this file except in compliance with the License.\n",
    "# You may obtain a copy of the License at\n",
    "#\n",
    "#     https://www.apache.org/licenses/LICENSE-2.0\n",
    "#\n",
    "# Unless required by applicable law or agreed to in writing, software\n",
    "# distributed under the License is distributed on an \"AS IS\" BASIS,\n",
    "# WITHOUT WARRANTIES OR CONDITIONS OF ANY KIND, either express or implied.\n",
    "# See the License for the specific language governing permissions and\n",
    "# limitations under the License."
   ]
  },
  {
   "cell_type": "markdown",
   "metadata": {
    "id": "JAPoU8Sm5E6e"
   },
   "source": [
    "# Vertex AI：追踪本地训练模型的参数和指标\n",
    "\n",
    "<table align=\"left\">\n",
    "  <td style=\"text-align: center\">\n",
    "    <a href=\"https://colab.research.google.com/github/GoogleCloudPlatform/vertex-ai-samples/blob/main/notebooks/official/experiments/comparing_local_trained_models.ipynb\">\n",
    "      <img src=\"https://cloud.google.com/ml-engine/images/colab-logo-32px.png\" alt=\"Google Colaboratory logo\"><br> 在Colab中打开\n",
    "    </a>\n",
    "  </td>\n",
    "  <td style=\"text-align: center\">\n",
    "    <a href=\"https://console.cloud.google.com/vertex-ai/colab/import/https:%2F%2Fraw.githubusercontent.com%2FGoogleCloudPlatform%2Fvertex-ai-samples%2Fmain%2Fnotebooks%2Fofficial%2Fexperiments%2Fcomparing_local_trained_models.ipynb\">\n",
    "      <img width=\"32px\" src=\"https://cloud.google.com/ml-engine/images/colab-enterprise-logo-32px.png\" alt=\"Google Cloud Colab Enterprise logo\"><br> 在Colab企业版中打开\n",
    "    </a>\n",
    "  </td>    \n",
    "  <td style=\"text-align: center\">\n",
    "    <a href=\"https://console.cloud.google.com/vertex-ai/workbench/deploy-notebook?download_url=https://raw.githubusercontent.com/GoogleCloudPlatform/vertex-ai-samples/main/notebooks/official/experiments/comparing_local_trained_models.ipynb\">\n",
    "      <img src=\"https://lh3.googleusercontent.com/UiNooY4LUgW_oTvpsNhPpQzsstV5W8F7rYgxgGBD85cWJoLmrOzhVs_ksK_vgx40SHs7jCqkTkCk=e14-rj-sc0xffffff-h130-w32\" alt=\"Vertex AI logo\"><br> 在Workbench中打开\n",
    "    </a>\n",
    "  </td>\n",
    "  <td style=\"text-align: center\">\n",
    "    <a href=\"https://github.com/GoogleCloudPlatform/vertex-ai-samples/blob/main/notebooks/official/experiments/comparing_local_trained_models.ipynb\">\n",
    "      <img src=\"https://cloud.google.com/ml-engine/images/github-logo-32px.png\" alt=\"GitHub logo\"><br> 在GitHub上查看\n",
    "    </a>\n",
    "  </td>\n",
    "</table>"
   ]
  },
  {
   "cell_type": "markdown",
   "metadata": {
    "id": "7c5ad9693bbb"
   },
   "source": [
    "## 概述\n",
    "\n",
    "作为数据科学家，您可能会在笔记本上开始本地运行模型实验。根据您使用的框架，您需要跟踪参数，训练时间序列和评估指标。通过这种方式，您可以解释您选择的建模方法。\n",
    "\n",
    "了解有关[Vertex AI Experiments](https://cloud.google.com/vertex-ai/docs/experiments/intro-vertex-ai-experiments)的更多信息。"
   ]
  },
  {
   "cell_type": "markdown",
   "metadata": {
    "id": "209510393d45"
   },
   "source": [
    "### 目标\n",
    "\n",
    "在本教程中，您将学习如何使用Vertex AI Experiments来比较和评估模型实验。\n",
    "\n",
    "本教程使用以下谷歌云ML服务和资源：\n",
    "\n",
    "- Vertex AI Workbench\n",
    "- Vertex AI Experiments\n",
    "\n",
    "执行的步骤包括：\n",
    "\n",
    "- 记录模型参数\n",
    "- 在每个epoch上将损失和指标记录到TensorBoard\n",
    "- 记录评估指标"
   ]
  },
  {
   "cell_type": "markdown",
   "metadata": {
    "id": "6f14730ed9af"
   },
   "source": [
    "### 数据集\n",
    "\n",
    "在这个笔记本中，您将训练一个简单的分布式神经网络（DNN）模型，根据[auto-mpg数据集](https://www.kaggle.com/devanshbesain/exploration-and-analysis-auto-mpg)中的汽车信息来预测汽车每加仑的里程。"
   ]
  },
  {
   "cell_type": "markdown",
   "metadata": {
    "id": "tvgnzT1CKxrO"
   },
   "source": [
    "成本\n",
    "\n",
    "本教程使用了谷歌云的计费组件：\n",
    "\n",
    "* Vertex AI\n",
    "* Vertex AI TensorBoard\n",
    "* 云存储\n",
    "\n",
    "了解[Vertex AI 的定价](https://cloud.google.com/vertex-ai/pricing)和[云存储的定价](https://cloud.google.com/storage/pricing)，并使用[定价计算器](https://cloud.google.com/products/calculator/)根据您的预期使用情况生成成本估算。"
   ]
  },
  {
   "cell_type": "markdown",
   "metadata": {
    "id": "61RBz8LLbxCR"
   },
   "source": [
    "开始吧"
   ]
  },
  {
   "cell_type": "markdown",
   "metadata": {
    "id": "No17Cw5hgx12"
   },
   "source": [
    "### 为Python安装Vertex AI SDK和其他必需的包"
   ]
  },
  {
   "cell_type": "code",
   "execution_count": null,
   "metadata": {
    "id": "IaYsrh0Tc17L"
   },
   "outputs": [],
   "source": [
    "! pip3 install --upgrade tensorflow==2.8 \\\n",
    "                        protobuf==3.20.3 \\\n",
    "                        google-cloud-aiplatform \\\n",
    "                        matplotlib \\\n",
    "                        pandas \\\n",
    "                        'numpy<2' -q --no-warn-conflicts"
   ]
  },
  {
   "cell_type": "markdown",
   "metadata": {
    "id": "R5Xep4W9lq-Z"
   },
   "source": [
    "### 重新启动运行时 (仅限Colab)\n",
    "\n",
    "要使用新安装的包，您必须重新启动Google Colab上的运行时。"
   ]
  },
  {
   "cell_type": "code",
   "execution_count": null,
   "metadata": {
    "id": "XRvKdaPDTznN"
   },
   "outputs": [],
   "source": [
    "import sys\n",
    "\n",
    "if \"google.colab\" in sys.modules:\n",
    "\n",
    "    import IPython\n",
    "\n",
    "    app = IPython.Application.instance()\n",
    "    app.kernel.do_shutdown(True)"
   ]
  },
  {
   "cell_type": "markdown",
   "metadata": {
    "id": "SbmM4z7FOBpM"
   },
   "source": [
    "<div class=\"alert alert-block alert-warning\">\n",
    "<b>⚠️内核将重新启动。请等待直到完成后再继续下一步。⚠️</b>\n",
    "</div>"
   ]
  },
  {
   "cell_type": "markdown",
   "metadata": {
    "id": "dmWOrTJ3gx13"
   },
   "source": [
    "### 在您的笔记本环境上进行身份验证（仅限Colab）\n",
    "\n",
    "在Google Colab上对您的环境进行身份验证。"
   ]
  },
  {
   "cell_type": "code",
   "execution_count": null,
   "metadata": {
    "id": "NyKGtVQjgx13"
   },
   "outputs": [],
   "source": [
    "import sys\n",
    "\n",
    "if \"google.colab\" in sys.modules:\n",
    "\n",
    "    from google.colab import auth\n",
    "\n",
    "    auth.authenticate_user()"
   ]
  },
  {
   "cell_type": "markdown",
   "metadata": {
    "id": "DF4l8DTdWgPY"
   },
   "source": [
    "将Google Cloud项目信息设置并初始化Python的Vertex AI SDK\n",
    "\n",
    "要开始使用Vertex AI，您必须拥有现有的Google Cloud项目并 [启用Vertex AI API](https://console.cloud.google.com/flows/enableapi?apiid=aiplatform.googleapis.com)。了解更多关于 [设置项目和开发环境](https://cloud.google.com/vertex-ai/docs/start/cloud-environment)。"
   ]
  },
  {
   "cell_type": "code",
   "execution_count": null,
   "metadata": {
    "id": "Nqwi-5ufWp_B"
   },
   "outputs": [],
   "source": [
    "PROJECT_ID = \"[your-project-id]\"  # @param {type:\"string\"}\n",
    "LOCATION = \"us-central1\"  # @param {type:\"string\"}"
   ]
  },
  {
   "cell_type": "markdown",
   "metadata": {
    "id": "bucket:mbsdk"
   },
   "source": [
    "### 创建一个云存储桶\n",
    "\n",
    "创建一个存储桶来存储中间产物，如数据集。"
   ]
  },
  {
   "cell_type": "code",
   "execution_count": null,
   "metadata": {
    "id": "bucket"
   },
   "outputs": [],
   "source": [
    "BUCKET_URI = f\"gs://your-bucket-name-{PROJECT_ID}-unique\"  # @param {type:\"string\"}"
   ]
  },
  {
   "cell_type": "markdown",
   "metadata": {
    "id": "create_bucket"
   },
   "source": [
    "如果您的存储桶尚不存在：运行以下单元格以创建您的云存储桶。"
   ]
  },
  {
   "cell_type": "code",
   "execution_count": null,
   "metadata": {
    "id": "create_bucket"
   },
   "outputs": [],
   "source": [
    "! gsutil mb -l $LOCATION -p $PROJECT_ID $BUCKET_URI"
   ]
  },
  {
   "cell_type": "markdown",
   "metadata": {
    "id": "XoEqT2Y4DJmf"
   },
   "source": [
    "### 导入库"
   ]
  },
  {
   "cell_type": "code",
   "execution_count": null,
   "metadata": {
    "id": "pRUOFELefqf1"
   },
   "outputs": [],
   "source": [
    "import uuid\n",
    "\n",
    "import matplotlib.pyplot as plt\n",
    "import numpy as np\n",
    "import pandas as pd\n",
    "from google.cloud import aiplatform as vertex_ai\n",
    "from tensorflow.python.keras import Sequential, layers\n",
    "from tensorflow.python.keras.utils import data_utils"
   ]
  },
  {
   "cell_type": "markdown",
   "metadata": {
    "id": "xtXZWmYqJ1bh"
   },
   "source": [
    "### 定义常量"
   ]
  },
  {
   "cell_type": "code",
   "execution_count": null,
   "metadata": {
    "id": "JIOrI-hoJ46P"
   },
   "outputs": [],
   "source": [
    "EXPERIMENT_NAME = \"[your-experiment-name]\"  # @param {type:\"string\"}"
   ]
  },
  {
   "cell_type": "markdown",
   "metadata": {
    "id": "jWQLXXNVN4Lv"
   },
   "source": [
    "如果EXPERIMENT_NAME未设置，则在下方设置一个默认名称:"
   ]
  },
  {
   "cell_type": "code",
   "execution_count": null,
   "metadata": {
    "id": "Q1QInYWOKsmo"
   },
   "outputs": [],
   "source": [
    "if EXPERIMENT_NAME == \"[your-experiment-name]\" or EXPERIMENT_NAME is None:\n",
    "    EXPERIMENT_NAME = f\"my-experiment-{uuid.uuid1()}\""
   ]
  },
  {
   "cell_type": "markdown",
   "metadata": {
    "id": "O8XJZB3gR8eL"
   },
   "source": [
    "### 初始化Python版的Vertex AI SDK\n",
    "\n",
    "为您的项目和对应的存储桶初始化Python版的Vertex AI SDK。"
   ]
  },
  {
   "cell_type": "code",
   "execution_count": null,
   "metadata": {
    "id": "o_wnT10RJ7-W"
   },
   "outputs": [],
   "source": [
    "vertex_ai.init(project=PROJECT_ID, location=LOCATION, staging_bucket=BUCKET_URI)"
   ]
  },
  {
   "cell_type": "markdown",
   "metadata": {
    "id": "bba904753a2c"
   },
   "source": [
    "### 使用支持Vertex AI TensorBoard创建Vertex AI实验\n",
    "\n",
    "您可以使用init()方法创建Vertex AI实验。这将自动获取或创建默认的Vertex AI TensorBoard，并将其与您的实验关联起来。\n",
    "\n",
    "了解更多有关[TensorBoard概述](https://cloud.google.com/vertex-ai/docs/experiments/tensorboard-overview)。"
   ]
  },
  {
   "cell_type": "code",
   "execution_count": null,
   "metadata": {
    "id": "a600e376bf37"
   },
   "outputs": [],
   "source": [
    "vertex_ai.init(experiment=EXPERIMENT_NAME)"
   ]
  },
  {
   "cell_type": "markdown",
   "metadata": {
    "id": "12ab31563365"
   },
   "source": [
    "## 使用 Vertex AI 实验进行训练\n",
    "\n",
    "Vertex AI允许用户跟踪实验运行的步骤（例如，预处理、训练），并跟踪这些步骤的输入（例如，算法、参数、数据集）和输出（例如，模型、检查点、指标）。\n",
    "\n",
    "为了更好地理解参数和指标是如何存储和组织的，以下概念进行了解释：\n",
    "\n",
    "1. **实验**描述了一个上下文，将您的运行和创建的工件组合成一个逻辑会话。例如，在这个笔记本中，您创建了一个实验，并将数据记录到该实验中。\n",
    "\n",
    "2. **运行**表示您在执行实验时执行的单个路径/方法。一个运行包括您用作输入或输出的工件，以及您在此执行中使用的参数。一个实验可以包含多个运行。\n",
    "\n",
    "您可以使用Python的Vertex AI SDK跟踪每个实验中本地训练的模型的指标和参数，跨多个实验运行。\n",
    "\n",
    "在以下示例中，您将训练一个简单的分布式神经网络（DNN）模型，以根据[auto-mpg数据集](https://www.kaggle.com/devanshbesain/exploration-and-analysis-auto-mpg)中的汽车信息预测汽车每加仑的英里数（MPG）。"
   ]
  },
  {
   "cell_type": "code",
   "execution_count": null,
   "metadata": {
    "id": "bfe39f7b7f16"
   },
   "outputs": [],
   "source": [
    "# Helpers ----------------------------------------------------------------------\n",
    "\n",
    "\n",
    "def read_data(uri):\n",
    "    \"\"\"\n",
    "    Read data\n",
    "    Args:\n",
    "        uri: path to data\n",
    "    Returns:\n",
    "        pandas dataframe\n",
    "    \"\"\"\n",
    "    dataset_path = data_utils.get_file(\"auto-mpg.data\", uri)\n",
    "    column_names = [\n",
    "        \"MPG\",\n",
    "        \"Cylinders\",\n",
    "        \"Displacement\",\n",
    "        \"Horsepower\",\n",
    "        \"Weight\",\n",
    "        \"Acceleration\",\n",
    "        \"Model Year\",\n",
    "        \"Origin\",\n",
    "    ]\n",
    "    raw_dataset = pd.read_csv(\n",
    "        dataset_path,\n",
    "        names=column_names,\n",
    "        na_values=\"?\",\n",
    "        comment=\"\\t\",\n",
    "        sep=\" \",\n",
    "        skipinitialspace=True,\n",
    "    )\n",
    "    dataset = raw_dataset.dropna()\n",
    "    dataset[\"Origin\"] = dataset[\"Origin\"].map(\n",
    "        lambda x: {1: \"USA\", 2: \"Europe\", 3: \"Japan\"}.get(x)\n",
    "    )\n",
    "    dataset = pd.get_dummies(dataset, prefix=\"\", prefix_sep=\"\", dtype=float)\n",
    "    return dataset\n",
    "\n",
    "\n",
    "def train_test_split(dataset, split_frac=0.8, random_state=0):\n",
    "    \"\"\"\n",
    "    Split data into train and test\n",
    "    Args:\n",
    "        dataset: pandas dataframe\n",
    "        split_frac: fraction of data to use for training\n",
    "        random_state: random seed\n",
    "    Returns:\n",
    "        train and test dataframes\n",
    "    \"\"\"\n",
    "    train_dataset = dataset.sample(frac=split_frac, random_state=random_state)\n",
    "    test_dataset = dataset.drop(train_dataset.index)\n",
    "    train_labels = train_dataset.pop(\"MPG\")\n",
    "    test_labels = test_dataset.pop(\"MPG\")\n",
    "\n",
    "    return train_dataset, test_dataset, train_labels, test_labels\n",
    "\n",
    "\n",
    "def normalize_dataset(train_dataset, test_dataset):\n",
    "    \"\"\"\n",
    "    Normalize data\n",
    "    Args:\n",
    "        train_dataset: pandas dataframe\n",
    "        test_dataset: pandas dataframe\n",
    "\n",
    "    Returns:\n",
    "\n",
    "    \"\"\"\n",
    "    train_stats = train_dataset.describe()\n",
    "    train_stats = train_stats.transpose()\n",
    "\n",
    "    def norm(x):\n",
    "        return (x - train_stats[\"mean\"]) / train_stats[\"std\"]\n",
    "\n",
    "    normed_train_data = norm(train_dataset)\n",
    "    normed_test_data = norm(test_dataset)\n",
    "\n",
    "    return normed_train_data, normed_test_data\n",
    "\n",
    "\n",
    "def build_model(num_units, dropout_rate):\n",
    "    \"\"\"\n",
    "    Build model\n",
    "    Args:\n",
    "        num_units: number of units in hidden layer\n",
    "        dropout_rate: dropout rate\n",
    "    Returns:\n",
    "        compiled model\n",
    "    \"\"\"\n",
    "    model = Sequential(\n",
    "        [\n",
    "            layers.Dense(\n",
    "                num_units,\n",
    "                activation=\"relu\",\n",
    "                input_shape=[9],\n",
    "            ),\n",
    "            layers.Dropout(rate=dropout_rate),\n",
    "            layers.Dense(num_units, activation=\"relu\"),\n",
    "            layers.Dense(1),\n",
    "        ]\n",
    "    )\n",
    "\n",
    "    model.compile(loss=\"mse\", optimizer=\"adam\", metrics=[\"mae\", \"mse\"])\n",
    "    return model\n",
    "\n",
    "\n",
    "def train(\n",
    "    model,\n",
    "    train_data,\n",
    "    train_labels,\n",
    "    validation_split=0.2,\n",
    "    epochs=10,\n",
    "):\n",
    "    \"\"\"\n",
    "    Train model\n",
    "    Args:\n",
    "        train_data: pandas dataframe\n",
    "        train_labels: pandas dataframe\n",
    "        model: compiled model\n",
    "        validation_split: fraction of data to use for validation\n",
    "        epochs: number of epochs to train for\n",
    "    Returns:\n",
    "        history\n",
    "    \"\"\"\n",
    "    history = model.fit(\n",
    "        train_data, train_labels, epochs=epochs, validation_split=validation_split\n",
    "    )\n",
    "\n",
    "    return history"
   ]
  },
  {
   "cell_type": "markdown",
   "metadata": {
    "id": "u-iTnzt3B6Z_"
   },
   "source": [
    "运行实验并评估实验运行\n",
    "\n",
    "您定义多个实验配置，运行实验并在Vertex AI实验中跟踪它们。"
   ]
  },
  {
   "cell_type": "code",
   "execution_count": null,
   "metadata": {
    "id": "i2wnpu8_7JfV"
   },
   "outputs": [],
   "source": [
    "# Define experiment parameters\n",
    "parameters = [\n",
    "    {\"num_units\": 16, \"dropout_rate\": 0.1, \"epochs\": 3},\n",
    "    {\"num_units\": 16, \"dropout_rate\": 0.1, \"epochs\": 10},\n",
    "    {\"num_units\": 16, \"dropout_rate\": 0.2, \"epochs\": 10},\n",
    "    {\"num_units\": 32, \"dropout_rate\": 0.1, \"epochs\": 10},\n",
    "    {\"num_units\": 32, \"dropout_rate\": 0.2, \"epochs\": 10},\n",
    "]\n",
    "\n",
    "# Read data\n",
    "dataset = read_data(\n",
    "    \"http://archive.ics.uci.edu/ml/machine-learning-databases/auto-mpg/auto-mpg.data\"\n",
    ")\n",
    "\n",
    "# Split data\n",
    "train_dataset, test_dataset, train_labels, test_labels = train_test_split(dataset)\n",
    "\n",
    "# Normalize data\n",
    "normed_train_data, normed_test_data = normalize_dataset(train_dataset, test_dataset)\n",
    "\n",
    "# Run experiments\n",
    "for i, params in enumerate(parameters):\n",
    "\n",
    "    # Initialize Vertex AI Experiment run\n",
    "    vertex_ai.start_run(run=f\"auto-mpg-local-run-{i}\")\n",
    "\n",
    "    # Log training parameters\n",
    "    vertex_ai.log_params(params)\n",
    "\n",
    "    # Build model\n",
    "    model = build_model(\n",
    "        num_units=params[\"num_units\"], dropout_rate=params[\"dropout_rate\"]\n",
    "    )\n",
    "\n",
    "    # Train model\n",
    "    history = train(\n",
    "        model,\n",
    "        normed_train_data,\n",
    "        train_labels,\n",
    "        epochs=params[\"epochs\"],\n",
    "    )\n",
    "\n",
    "    # Log additional parameters\n",
    "    vertex_ai.log_params(history.params)\n",
    "\n",
    "    # Log metrics per epochs\n",
    "    for idx in range(0, history.params[\"epochs\"]):\n",
    "        vertex_ai.log_time_series_metrics(\n",
    "            {\n",
    "                \"train_mae\": history.history[\"mae\"][idx],\n",
    "                \"train_mse\": history.history[\"mse\"][idx],\n",
    "            }\n",
    "        )\n",
    "\n",
    "    # Log final metrics\n",
    "    loss, mae, mse = model.evaluate(normed_test_data, test_labels, verbose=2)\n",
    "    if np.isnan(loss):\n",
    "        loss = 0\n",
    "    if np.isnan(mae):\n",
    "        mae = 0\n",
    "    if np.isnan(mse):\n",
    "        mse = 0\n",
    "    vertex_ai.log_metrics({\"eval_loss\": loss, \"eval_mae\": mae, \"eval_mse\": mse})\n",
    "\n",
    "    vertex_ai.end_run()"
   ]
  },
  {
   "cell_type": "markdown",
   "metadata": {
    "id": "jZLrJZTfL7tE"
   },
   "source": [
    "将参数和指标提取到数据框中进行分析\n",
    "\n",
    "我们还可以将与任何实验相关的所有参数和指标提取到数据框中进行进一步分析。"
   ]
  },
  {
   "cell_type": "code",
   "execution_count": null,
   "metadata": {
    "id": "jbRf1WoH_vbY"
   },
   "outputs": [],
   "source": [
    "experiment_df = vertex_ai.get_experiment_df()\n",
    "experiment_df.T"
   ]
  },
  {
   "cell_type": "markdown",
   "metadata": {
    "id": "EYuYgqVCMKU1"
   },
   "source": [
    "### 可视化实验的参数和指标\n",
    "\n",
    "您使用平行坐标绘图来可视化实验的参数和指标"
   ]
  },
  {
   "cell_type": "code",
   "execution_count": null,
   "metadata": {
    "id": "r8orCj8iJuO1"
   },
   "outputs": [],
   "source": [
    "plt.rcParams[\"figure.figsize\"] = [15, 5]\n",
    "\n",
    "ax = pd.plotting.parallel_coordinates(\n",
    "    experiment_df.reset_index(level=0),\n",
    "    \"run_name\",\n",
    "    cols=[\n",
    "        \"param.num_units\",\n",
    "        \"param.dropout_rate\",\n",
    "        \"param.epochs\",\n",
    "        \"metric.eval_loss\",\n",
    "        \"metric.eval_mse\",\n",
    "        \"metric.eval_mae\",\n",
    "    ],\n",
    "    color=[\"blue\", \"green\", \"pink\", \"red\"],\n",
    ")\n",
    "ax.set_yscale(\"symlog\")\n",
    "ax.legend(bbox_to_anchor=(1.0, 0.5))"
   ]
  },
  {
   "cell_type": "markdown",
   "metadata": {
    "id": "WTHvPMweMlP1"
   },
   "source": [
    "在Cloud控制台中可视化实验\n",
    "\n",
    "运行以下命令以获取您项目的Vertex AI实验URL。"
   ]
  },
  {
   "cell_type": "code",
   "execution_count": null,
   "metadata": {
    "id": "GmN9vE9pqqzt"
   },
   "outputs": [],
   "source": [
    "print(\"Vertex AI Experiments:\")\n",
    "print(\n",
    "    f\"https://console.cloud.google.com/ai/platform/experiments/experiments?folder=&organizationId=&project={PROJECT_ID}\"\n",
    ")"
   ]
  },
  {
   "cell_type": "markdown",
   "metadata": {
    "id": "TpV-iwP9qw9c"
   },
   "source": [
    "## 清理\n",
    "\n",
    "要清理此项目中使用的所有Google Cloud资源，您可以[删除用于本教程的Google Cloud项目](https://cloud.google.com/resource-manager/docs/creating-managing-projects#shutting_down_projects)。\n",
    "\n",
    "或者，您可以删除本教程中创建的各个资源。"
   ]
  },
  {
   "cell_type": "code",
   "execution_count": null,
   "metadata": {
    "id": "659e822f49c1"
   },
   "outputs": [],
   "source": [
    "# Delete experiment\n",
    "exp = vertex_ai.Experiment(EXPERIMENT_NAME)\n",
    "backing_tensorboard = exp.get_backing_tensorboard_resource()\n",
    "exp.delete(delete_backing_tensorboard_runs=True)\n",
    "\n",
    "# Delete Tensorboard\n",
    "delete_tensorboard = False  # Set True for deletion\n",
    "\n",
    "if delete_tensorboard:\n",
    "    backing_tensorboard.delete()\n",
    "\n",
    "# Delete Cloud Storage objects that were created\n",
    "delete_bucket = False  # Set True for deletion\n",
    "\n",
    "if delete_bucket:\n",
    "    ! gsutil rm -rf {BUCKET_URI}"
   ]
  }
 ],
 "metadata": {
  "colab": {
   "collapsed_sections": [],
   "name": "comparing_local_trained_models.ipynb",
   "toc_visible": true
  },
  "kernelspec": {
   "display_name": "Python 3",
   "name": "python3"
  }
 },
 "nbformat": 4,
 "nbformat_minor": 0
}
