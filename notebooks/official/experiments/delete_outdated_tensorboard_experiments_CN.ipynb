{
 "cells": [
  {
   "cell_type": "code",
   "execution_count": null,
   "metadata": {
    "id": "ur8xi4C7S06n"
   },
   "outputs": [],
   "source": [
    "# Copyright 2022 Google LLC\n",
    "#\n",
    "# Licensed under the Apache License, Version 2.0 (the \"License\");\n",
    "# you may not use this file except in compliance with the License.\n",
    "# You may obtain a copy of the License at\n",
    "#\n",
    "#     https://www.apache.org/licenses/LICENSE-2.0\n",
    "#\n",
    "# Unless required by applicable law or agreed to in writing, software\n",
    "# distributed under the License is distributed on an \"AS IS\" BASIS,\n",
    "# WITHOUT WARRANTIES OR CONDITIONS OF ANY KIND, either express or implied.\n",
    "# See the License for the specific language governing permissions and\n",
    "# limitations under the License."
   ]
  },
  {
   "cell_type": "markdown",
   "metadata": {
    "id": "JAPoU8Sm5E6e"
   },
   "source": [
    "删除Vertex AI TensorBoard中过时的实验\n",
    "\n",
    "<table align=\"left\">\n",
    "  <td style=\"text-align: center\">\n",
    "    <a href=\"https://colab.research.google.com/github/GoogleCloudPlatform/vertex-ai-samples/blob/main/notebooks/official/experiments/delete_outdated_tensorboard_experiments.ipynb\">\n",
    "      <img width=\"32px\" src=\"https://cloud.google.com/ml-engine/images/colab-logo-32px.png\" alt=\"Google Colaboratory logo\"><br> 在Colab中打开\n",
    "    </a>\n",
    "  </td>\n",
    "  <td style=\"text-align: center\">\n",
    "    <a href=\"https://console.cloud.google.com/vertex-ai/colab/import/https:%2F%2Fraw.githubusercontent.com%2FGoogleCloudPlatform%2Fvertex-ai-samples%2Fmain%2Fnotebooks%2Fofficial%2Fexperiments%2Fdelete_outdated_tensorboard_experiments.ipynb\">\n",
    "      <img width=\"32px\" src=\"https://cloud.google.com/ml-engine/images/colab-enterprise-logo-32px.png\" alt=\"Google Cloud Colab Enterprise logo\"><br> 在Colab Enterprise中打开\n",
    "    </a>\n",
    "  </td>\n",
    "  <td style=\"text-align: center\">\n",
    "    <a href=\"https://console.cloud.google.com/vertex-ai/workbench/deploy-notebook?download_url=https://raw.githubusercontent.com/vertex-ai-samples/main/notebooks/official/experiments/delete_outdated_tensorboard_experiments.ipynb\">\n",
    "      <img src=\"https://lh3.googleusercontent.com/UiNooY4LUgW_oTvpsNhPpQzsstV5W8F7rYgxgGBD85cWJoLmrOzhVs_ksK_vgx40SHs7jCqkTkCk=e14-rj-sc0xffffff-h130-w32\" alt=\"Vertex AI logo\"><br> 在Vertex AI Workbench中打开\n",
    "    </a>\n",
    "  </td>\n",
    "  <td style=\"text-align: center\">\n",
    "    <a href=\"https://github.com/GoogleCloudPlatform/vertex-ai-samples/blob/main/notebooks/official/experiments/delete_outdated_tensorboard_experiments.ipynb\">\n",
    "      <img width=\"32px\" src=\"https://cloud.google.com/ml-engine/images/github-logo-32px.png\" alt=\"GitHub logo\"><br> 在GitHub上查看\n",
    "    </a>\n",
    "  </td>\n",
    "</table>"
   ]
  },
  {
   "cell_type": "markdown",
   "metadata": {
    "id": "24743cf4a1e1"
   },
   "source": [
    "注意：此笔记本已在以下环境中进行了测试：\n",
    "\n",
    "- Python版本=3.9"
   ]
  },
  {
   "cell_type": "markdown",
   "metadata": {
    "id": "tvgnzT1CKxrO"
   },
   "source": [
    "## 综述\n",
    "\n",
    "Vertex AI 有一个新的 Vertex AI TensorBoard 计费模型。费用基于每月存储成本为 10 美元/GB。因此，删除旧的 Vertex AI TensorBoard 实验是明智的，以避免不必要的存储成本。\n",
    "\n",
    "了解更多关于 [Vertex AI TensorBoard](https://cloud.google.com/vertex-ai/docs/experiments/tensorboard-introduction)。"
   ]
  },
  {
   "cell_type": "markdown",
   "metadata": {
    "id": "d975e698c9a4"
   },
   "source": [
    "### 目标\n",
    "\n",
    "在本教程中，您将学习如何删除过时的TensorBoard实验，以避免不必要的存储成本。\n",
    "\n",
    "本教程使用以下Google Cloud ML服务和资源：\n",
    "\n",
    "- Vertex AI TensorBoard\n",
    "\n",
    "执行的步骤包括：\n",
    "\n",
    "- 如何使用预定义的键值标签对 `<label_key, label_value>` 删除TB实验\n",
    "\n",
    "- 如何删除在 `create_time` 之前创建的TB实验\n",
    "\n",
    "- 如何删除在 `update_time` 之前创建的TB实验"
   ]
  },
  {
   "cell_type": "markdown",
   "metadata": {
    "id": "08d289fa873f"
   },
   "source": [
    "### 数据集\n",
    "\n",
    "没有使用数据集。"
   ]
  },
  {
   "cell_type": "markdown",
   "metadata": {
    "id": "aed92deeb4a0"
   },
   "source": [
    "费用\n",
    "\n",
    "本教程使用 Google Cloud 的计费组件：\n",
    "\n",
    "* Vertex AI\n",
    "* Cloud Storage\n",
    "\n",
    "了解 [Vertex AI 定价](https://cloud.google.com/vertex-ai/pricing)，以及 [Cloud Storage 定价](https://cloud.google.com/storage/pricing)，\n",
    "并使用 [定价计算器](https://cloud.google.com/products/calculator/)\n",
    "根据您的预期使用量生成成本估算。"
   ]
  },
  {
   "cell_type": "markdown",
   "metadata": {
    "id": "d1ea81ac77f0"
   },
   "source": [
    "开始吧"
   ]
  },
  {
   "cell_type": "markdown",
   "metadata": {
    "id": "i7EUnXsZhAGF"
   },
   "source": [
    "### 为Python安装Vertex AI SDK和其他必需的软件包。"
   ]
  },
  {
   "cell_type": "code",
   "execution_count": null,
   "metadata": {
    "id": "2b4ef9b72d43"
   },
   "outputs": [],
   "source": [
    "# Install the packages\n",
    "import os\n",
    "\n",
    "if not os.getenv(\"IS_TESTING\"):\n",
    "    USER = \"--user\"\n",
    "else:\n",
    "    USER = \"\"\n",
    "! pip3 install {USER} --upgrade google-cloud-aiplatform"
   ]
  },
  {
   "cell_type": "markdown",
   "metadata": {
    "id": "58707a750154"
   },
   "source": [
    "### 仅适用于Colab：取消注释### 重新启动运行时（仅适用于Colab）\n",
    "\n",
    "要使用新安装的软件包，您必须重新启动Google Colab上的运行时。请在下一个单元格中重新启动内核。"
   ]
  },
  {
   "cell_type": "code",
   "execution_count": null,
   "metadata": {
    "id": "f200f10a1da3"
   },
   "outputs": [],
   "source": [
    "import sys\n",
    "\n",
    "if \"google.colab\" in sys.modules:\n",
    "\n",
    "    import IPython\n",
    "\n",
    "    app = IPython.Application.instance()\n",
    "    app.kernel.do_shutdown(True)"
   ]
  },
  {
   "cell_type": "markdown",
   "metadata": {
    "id": "c87a2a5d7e35"
   },
   "source": [
    "<div class =“ alert alert-block alert-warning”>\n",
    "<b> ⚠️ 内核将重新启动。请等待完成后再继续下一步。⚠️ </b>\n",
    "</ div>"
   ]
  },
  {
   "cell_type": "markdown",
   "metadata": {
    "id": "5dccb1c8feb6"
   },
   "source": [
    "### 在Google Colab上验证您的笔记本环境\n",
    "\n",
    "请在Google Colab上验证您的环境。"
   ]
  },
  {
   "cell_type": "code",
   "execution_count": null,
   "metadata": {
    "id": "cc7251520a07"
   },
   "outputs": [],
   "source": [
    "import sys\n",
    "\n",
    "if \"google.colab\" in sys.modules:\n",
    "\n",
    "    from google.colab import auth\n",
    "\n",
    "    auth.authenticate_user()"
   ]
  },
  {
   "cell_type": "markdown",
   "metadata": {
    "id": "c2fc3d7b6bfa"
   },
   "source": [
    "设置 Google 云项目信息并初始化用于 Python 的 Vertex AI SDK\n",
    "\n",
    "要开始使用 Vertex AI，您必须拥有现有的 Google 云项目并[启用 Vertex AI API](https://console.cloud.google.com/flows/enableapi?apiid=aiplatform.googleapis.com)。了解有关[设置项目和开发环境](https://cloud.google.com/vertex-ai/docs/start/cloud-environment)的更多信息。"
   ]
  },
  {
   "cell_type": "code",
   "execution_count": null,
   "metadata": {
    "id": "45769dc0c97d"
   },
   "outputs": [],
   "source": [
    "PROJECT_ID = \"[your-project-id]\"  # @param {type:\"string\"}\n",
    "LOCATION = \"us-central1\"  # @param {type:\"string\"}\n",
    "\n",
    "\n",
    "from google.cloud import aiplatform\n",
    "\n",
    "aiplatform.init(project=PROJECT_ID, location=LOCATION)"
   ]
  },
  {
   "cell_type": "markdown",
   "metadata": {
    "id": "NUJOpq7_-nt6"
   },
   "source": [
    "### 定义常量\n",
    "\n",
    "在本教程中定义您要使用的变量。具体来说，您设置\n",
    "\n",
    "- `CREATE_TIME_CUT` : 删除在 CREATE_TIME_CUT 之前创建的 TensorBoard 实验。例如，`2022-12-31`。\n",
    "\n",
    "- `UPDATE_TIME_CUT` : 删除在 UPDATE_TIME_CUT 之前创建的 TensorBoard 实验。例如，`2022-12-31`。\n",
    "\n",
    "- `DETAILED_LOG` : 一个布尔变量，用于查看 TensorBoard 删除进度。如果为 True，则按实验显示进度。否则，它每100个实验报告进度。"
   ]
  },
  {
   "cell_type": "code",
   "execution_count": null,
   "metadata": {
    "id": "0AkyoMre-qe5"
   },
   "outputs": [],
   "source": [
    "CREATE_TIME_CUT = \"\"  # @param {type:\"string\"}\n",
    "\n",
    "UPDATE_TIME_CUT = \"\"  # @param {type:\"string\"}\n",
    "\n",
    "DETAILED_LOG = True  # @param {type: \"boolean\"}"
   ]
  },
  {
   "cell_type": "markdown",
   "metadata": {
    "id": "n68J5KJ4ERbF"
   },
   "source": [
    "定义帮助者"
   ]
  },
  {
   "cell_type": "code",
   "execution_count": null,
   "metadata": {
    "id": "JIXC-tVrETET"
   },
   "outputs": [],
   "source": [
    "def clean_up_by_label(tensorboard_instance, label_key, label_value):\n",
    "    \"\"\"Delete the TB Experiment with the key-value label pair <label_key, label_value>\"\"\"\n",
    "    # List tensorboard experiments\n",
    "    tensorboard_experiments = aiplatform.TensorboardExperiment.list(\n",
    "        tensorboard_name=tensorboard_instance.resource_name\n",
    "    )\n",
    "    # Get the number of tensorboard experiments\n",
    "    num_tensorboard_experiments = len(tensorboard_experiments)\n",
    "    # For each experiment\n",
    "    for i in range(num_tensorboard_experiments):\n",
    "        tensorboard_experiment = tensorboard_experiments[i]\n",
    "        if DETAILED_LOG or (i % 100 == 0):\n",
    "            print(\n",
    "                f\">>>checking TB experiment [{i + 1}/{num_tensorboard_experiments}]: {tensorboard_experiment.resource_name}\"\n",
    "            )\n",
    "        # Get experiment labels\n",
    "        labels = tensorboard_experiment.labels\n",
    "        # Filter by label\n",
    "        if label_key in labels and labels[label_key] == label_value:\n",
    "            # Delete experiment\n",
    "            tensorboard_experiment.delete()\n",
    "\n",
    "\n",
    "def clean_up_by_create_time(tensorboard_instance, create_time_cut):\n",
    "    \"\"\"Delete the TB Experiment with the `create_time`\"\"\"\n",
    "    # List tensorboard experiments\n",
    "    tensorboard_experiments = aiplatform.TensorboardExperiment.list(\n",
    "        tensorboard_name=tensorboard_instance.resource_name, order_by=\"create_time\"\n",
    "    )\n",
    "    # Get the number of tensorboard experiments\n",
    "    num_tensorboard_experiments = len(tensorboard_experiments)\n",
    "    # For each experiment\n",
    "    for i in range(num_tensorboard_experiments):\n",
    "        tensorboard_experiment = tensorboard_experiments[i]\n",
    "        if DETAILED_LOG or (i % 100 == 0):\n",
    "            print(\n",
    "                f\">>> checking TB experiment [{i + 1}/{num_tensorboard_experiments}]: {tensorboard_experiment.resource_name}\"\n",
    "            )\n",
    "        # Filter by create_time\n",
    "        if str(tensorboard_experiment.create_time) < create_time_cut:\n",
    "            # Delete experiment\n",
    "            tensorboard_experiment.delete()\n",
    "        else:\n",
    "            break\n",
    "\n",
    "\n",
    "def clean_up_by_update_time(tensorboard_instance, update_time_cut):\n",
    "    \"\"\"Delete the TB Experiment with with the `update_time`\"\"\"\n",
    "    # List tensorboard experiments\n",
    "    tensorboard_experiments = aiplatform.TensorboardExperiment.list(\n",
    "        tensorboard_name=tensorboard_instance.resource_name, order_by=\"update_time\"\n",
    "    )\n",
    "    # Get the number of tensorboard experiments\n",
    "    num_tensorboard_experiments = len(tensorboard_experiments)\n",
    "    # For each experiment\n",
    "    for i in range(num_tensorboard_experiments):\n",
    "        tensorboard_experiment = tensorboard_experiments[i]\n",
    "        if DETAILED_LOG or (i % 100 == 0):\n",
    "            print(\n",
    "                f\">>> checking TB experiment [{i + 1}/{num_tensorboard_experiments}]: {tensorboard_experiment.resource_name}\"\n",
    "            )\n",
    "        # Filter by update_time\n",
    "        if str(tensorboard_experiment.update_time) < update_time_cut:\n",
    "            tensorboard_experiment.delete()\n",
    "        else:\n",
    "            break"
   ]
  },
  {
   "cell_type": "markdown",
   "metadata": {
    "id": "UCUOlTLYCT0B"
   },
   "source": [
    "删除过时的Vertex AI TensorBoard实验"
   ]
  },
  {
   "cell_type": "markdown",
   "metadata": {
    "id": "e4672ef33691"
   },
   "source": [
    "### 设置删除过期的TensorBoard实验\n",
    "\n",
    "初始化一个标志变量来开始删除过期的TensorBoard实验，以及一个标志变量来选择删除方法。"
   ]
  },
  {
   "cell_type": "code",
   "execution_count": null,
   "metadata": {
    "id": "8cdc326c9823"
   },
   "outputs": [],
   "source": [
    "delete_tb_experiments = False  # @param {type: \"boolean\"}\n",
    "\n",
    "delete_method = \"\"  # @param [\"by_label\", \"by_create_time\", \"by_update_time\"]"
   ]
  },
  {
   "cell_type": "markdown",
   "metadata": {
    "id": "JjJVARe5V-MG"
   },
   "source": [
    "### 删除一个TensorBoard实例\n",
    "\n",
    "要删除一个TensorBoard实例，您需要`TENSORBOARD_INSTANCE` ID，它唯一标识您运行实验的TensorBoard实例。\n",
    "\n",
    "要获取TensorBoard实例ID，您可以选择：\n",
    "\n",
    "- 转到云控制台UI，Vertex AI > 实验 > TensorBoard实例，或\n",
    "- 使用下面的列表命令列出您项目和地区的所有TensorBoard实例。"
   ]
  },
  {
   "cell_type": "code",
   "execution_count": null,
   "metadata": {
    "id": "eqM2pIO8_4Y7"
   },
   "outputs": [],
   "source": [
    "tensorboard_instances = aiplatform.Tensorboard.list(\n",
    "    project=PROJECT_ID, location=LOCATION\n",
    ")\n",
    "print(tensorboard_instances)"
   ]
  },
  {
   "cell_type": "markdown",
   "metadata": {
    "id": "wT_uPArACMPX"
   },
   "source": [
    "设置要删除实验的tensorboard实例ID。"
   ]
  },
  {
   "cell_type": "code",
   "execution_count": null,
   "metadata": {
    "id": "hUync8E9CLcm"
   },
   "outputs": [],
   "source": [
    "if delete_tb_experiments:\n",
    "\n",
    "    TENSORBOARD_INSTANCE_ID = \"\"  # @param {type:\"string\"}\n",
    "\n",
    "    TENSORBOARD_INSTANCE = aiplatform.Tensorboard(\n",
    "        project=PROJECT_ID, location=LOCATION, tensorboard_name=TENSORBOARD_INSTANCE_ID\n",
    "    )\n",
    "    print(TENSORBOARD_INSTANCE)"
   ]
  },
  {
   "cell_type": "markdown",
   "metadata": {
    "id": "OOp22fxdHqmT"
   },
   "source": [
    "使用键-值标签对删除TensorBoard实验\n",
    "\n",
    "您可以使用预定义的`label_key`和`label_value`删除TensorBoard实验。\n",
    "例如，您可以指定`delete`标签键和`true`标签值来表示您想要删除的所有TensorBoard实验。\n",
    "TensorBoard实验标签可以在创建时设置，也可以使用API更新方法设置。"
   ]
  },
  {
   "cell_type": "code",
   "execution_count": null,
   "metadata": {
    "id": "N7KajCsjij1g"
   },
   "outputs": [],
   "source": [
    "LABEL_KEY = \"delete\"  # @param {type:\"string\"}\n",
    "LABEL_VALUE = \"true\"  # @param {type:\"string\"}"
   ]
  },
  {
   "cell_type": "code",
   "execution_count": null,
   "metadata": {
    "id": "N45samDzWBO2"
   },
   "outputs": [],
   "source": [
    "if delete_tb_experiments and delete_method == \"by_label\":\n",
    "    clean_up_by_label(TENSORBOARD_INSTANCE, LABEL_KEY, LABEL_VALUE)"
   ]
  },
  {
   "cell_type": "markdown",
   "metadata": {
    "id": "XrEVqlgSIL6K"
   },
   "source": [
    "使用`create_time`字段删除一个TensorBoard实验"
   ]
  },
  {
   "cell_type": "code",
   "execution_count": null,
   "metadata": {
    "id": "4_bjNeQ7p87A"
   },
   "outputs": [],
   "source": [
    "if delete_tb_experiments and delete_method == \"by_create_time\":\n",
    "    clean_up_by_create_time(TENSORBOARD_INSTANCE, CREATE_TIME_CUT)"
   ]
  },
  {
   "cell_type": "markdown",
   "metadata": {
    "id": "ZGNlSbIrIP_o"
   },
   "source": [
    "使用预定义的`update_time`字段删除一个TensorBoard实验"
   ]
  },
  {
   "cell_type": "code",
   "execution_count": null,
   "metadata": {
    "id": "SDyc_a8XwEve"
   },
   "outputs": [],
   "source": [
    "if delete_tb_experiments and delete_method == \"by_update_time\":\n",
    "    clean_up_by_update_time(TENSORBOARD_INSTANCE, UPDATE_TIME_CUT)"
   ]
  }
 ],
 "metadata": {
  "colab": {
   "name": "delete_outdated_tensorboard_experiments.ipynb",
   "toc_visible": true
  },
  "kernelspec": {
   "display_name": "Python 3",
   "name": "python3"
  }
 },
 "nbformat": 4,
 "nbformat_minor": 0
}
