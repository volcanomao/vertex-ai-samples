{
 "cells": [
  {
   "cell_type": "code",
   "execution_count": null,
   "metadata": {
    "id": "copyright"
   },
   "outputs": [],
   "source": [
    "# Copyright 2021 Google LLC\n",
    "#\n",
    "# Licensed under the Apache License, Version 2.0 (the \"License\");\n",
    "# you may not use this file except in compliance with the License.\n",
    "# You may obtain a copy of the License at\n",
    "#\n",
    "#     https://www.apache.org/licenses/LICENSE-2.0\n",
    "#\n",
    "# Unless required by applicable law or agreed to in writing, software\n",
    "# distributed under the License is distributed on an \"AS IS\" BASIS,\n",
    "# WITHOUT WARRANTIES OR CONDITIONS OF ANY KIND, either express or implied.\n",
    "# See the License for the specific language governing permissions and\n",
    "# limitations under the License."
   ]
  },
  {
   "cell_type": "markdown",
   "metadata": {
    "id": "title"
   },
   "source": [
    "# Vertex AI SDK: 用于批量预测的自定义训练图像分类模型，具有可解释性\n",
    "\n",
    "<table align=\"left\">\n",
    "  <td style=\"text-align: center\">\n",
    "    <a href=\"https://colab.research.google.com/github/GoogleCloudPlatform/vertex-ai-samples/blob/main/notebooks/official/explainable_ai/sdk_custom_image_classification_batch_explain.ipynb\">\n",
    "      <img src=\"https://cloud.google.com/ml-engine/images/colab-logo-32px.png\" alt=\"Google Colaboratory logo\"><br> 在Colab中打开\n",
    "    </a>\n",
    "  </td>\n",
    "  <td style=\"text-align: center\">\n",
    "    <a href=\"https://console.cloud.google.com/vertex-ai/colab/import/https:%2F%2Fraw.githubusercontent.com%2FGoogleCloudPlatform%2Fvertex-ai-samples%2Fmain%2Fnotebooks%2Fofficial%2Fexplainable_ai%2Fsdk_custom_image_classification_batch_explain.ipynb\">\n",
    "      <img width=\"32px\" src=\"https://cloud.google.com/ml-engine/images/colab-enterprise-logo-32px.png\" alt=\"Google Cloud Colab Enterprise logo\"><br> 在Colab Enterprise中打开\n",
    "    </a>\n",
    "  </td>    \n",
    "  <td style=\"text-align: center\">\n",
    "    <a href=\"https://console.cloud.google.com/vertex-ai/workbench/deploy-notebook?download_url=https://raw.githubusercontent.com/GoogleCloudPlatform/vertex-ai-samples/main/notebooks/official/explainable_ai/sdk_custom_image_classification_batch_explain.ipynb\">\n",
    "      <img src=\"https://lh3.googleusercontent.com/UiNooY4LUgW_oTvpsNhPpQzsstV5W8F7rYgxgGBD85cWJoLmrOzhVs_ksK_vgx40SHs7jCqkTkCk=e14-rj-sc0xffffff-h130-w32\" alt=\"Vertex AI logo\"><br> 在Workbench中打开\n",
    "    </a>\n",
    "  </td>\n",
    "  <td style=\"text-align: center\">\n",
    "    <a href=\"https://github.com/GoogleCloudPlatform/vertex-ai-samples/blob/main/notebooks/official/explainable_ai/sdk_custom_image_classification_batch_explain.ipynb\">\n",
    "      <img src=\"https://cloud.google.com/ml-engine/images/github-logo-32px.png\" alt=\"GitHub logo\"><br> 在GitHub上查看\n",
    "    </a>\n",
    "  </td>\n",
    "</table>"
   ]
  },
  {
   "cell_type": "markdown",
   "metadata": {
    "id": "overview:custom,xai"
   },
   "source": [
    "## 概述\n",
    "\n",
    "本教程演示了如何使用Vertex AI SDK来训练和部署用于批量预测的自定义图像分类模型，并提供解释。\n",
    "\n",
    "了解更多关于[Vertex Explainable AI](https://cloud.google.com/vertex-ai/docs/explainable-ai/overview)和[Vertex AI Batch Prediction](https://cloud.google.com/vertex-ai/docs/tabular-data/classification-regression/get-batch-predictions)。"
   ]
  },
  {
   "cell_type": "markdown",
   "metadata": {
    "id": "objective:custom,training,batch_prediction,xai"
   },
   "source": [
    "### 目标\n",
    "\n",
    "在本教程中，您将学习如何使用 `Vertex AI Training and Explainable AI` 创建具有解释功能的自定义图像分类模型，然后学习如何使用 `Vertex AI Batch Prediction` 发出带解释的批量预测请求。您也可以使用 `gcloud` 命令行工具或在线使用 Cloud Console 创建自定义模型。\n",
    "\n",
    "本教程使用以下谷歌云 ML 服务：\n",
    "\n",
    "- `Vertex AI Training`\n",
    "- `Vertex AI Batch Prediction`\n",
    "- `Vertex Explainable AI`\n",
    "- `Vertex AI Models`\n",
    "\n",
    "执行的步骤包括：\n",
    "\n",
    "- 创建用于训练 TensorFlow 模型的 `Vertex AI` 自定义作业。\n",
    "- 查看经过训练模型的模型评估。\n",
    "- 设置模型部署时的解释参数。\n",
    "- 将经过训练的模型工件和解释参数上传为 `Model` 资源。\n",
    "- 进行带解释的批量预测。"
   ]
  },
  {
   "cell_type": "markdown",
   "metadata": {
    "id": "dataset:custom,cifar10,icn"
   },
   "source": [
    "数据集\n",
    "\n",
    "本教程使用的数据集是来自[TensorFlow数据集](https://www.tensorflow.org/datasets/catalog/overview)的[CIFAR10数据集](https://www.tensorflow.org/datasets/catalog/cifar10)。在本教程中使用的数据集版本已经集成到TensorFlow中。训练得到的模型可以预测输入图像属于10个类别中的哪一类，具体包括飞机、汽车、鸟、猫、鹿、狗、青蛙、马、船和卡车。"
   ]
  },
  {
   "cell_type": "markdown",
   "metadata": {
    "id": "costs"
   },
   "source": [
    "费用\n",
    "\n",
    "本教程使用Google Cloud的计费组件：\n",
    "\n",
    "* Vertex AI\n",
    "* Cloud Storage\n",
    "\n",
    "了解[Vertex AI的定价](https://cloud.google.com/vertex-ai/pricing)和[Cloud Storage的定价](https://cloud.google.com/storage/pricing)，并使用[Pricing Calculator](https://cloud.google.com/products/calculator/)根据您的预期使用情况生成成本估算。"
   ]
  },
  {
   "cell_type": "markdown",
   "metadata": {
    "id": "61RBz8LLbxCR"
   },
   "source": [
    "开始吧"
   ]
  },
  {
   "cell_type": "markdown",
   "metadata": {
    "id": "No17Cw5hgx12"
   },
   "source": [
    "### 为Python安装Vertex AI SDK和其他必需的软件包"
   ]
  },
  {
   "cell_type": "code",
   "execution_count": null,
   "metadata": {
    "id": "tFy3H3aPgx12"
   },
   "outputs": [],
   "source": [
    "import os\n",
    "\n",
    "! pip3 install --upgrade --quiet google-cloud-aiplatform\n",
    "! pip3 install --upgrade --quiet google-cloud-storage\n",
    "! pip3 install --upgrade --quiet tensorflow==2.15.1\n",
    "! pip3 install --upgrade --quiet opencv-python-headless\n",
    "\n",
    "if os.getenv(\"IS_TESTING\"):\n",
    "    ! apt-get update && apt-get install -y python3-opencv-headless\n",
    "    ! apt-get install -y libgl1-mesa-dev"
   ]
  },
  {
   "cell_type": "markdown",
   "metadata": {
    "id": "R5Xep4W9lq-Z"
   },
   "source": [
    "### 重新启动运行时（仅限Colab）\n",
    "\n",
    "要使用新安装的包，您必须重新启动Google Colab上的运行时。"
   ]
  },
  {
   "cell_type": "code",
   "execution_count": null,
   "metadata": {
    "id": "XRvKdaPDTznN"
   },
   "outputs": [],
   "source": [
    "import sys\n",
    "\n",
    "if \"google.colab\" in sys.modules:\n",
    "\n",
    "    import IPython\n",
    "\n",
    "    app = IPython.Application.instance()\n",
    "    app.kernel.do_shutdown(True)"
   ]
  },
  {
   "cell_type": "markdown",
   "metadata": {
    "id": "SbmM4z7FOBpM"
   },
   "source": [
    "<div class=\"alert alert-block alert-warning\">\n",
    "<b>⚠️ 内核将重新启动。请等待其完成后再继续下一步。⚠️</b>\n",
    "</div>"
   ]
  },
  {
   "cell_type": "markdown",
   "metadata": {
    "id": "dmWOrTJ3gx13"
   },
   "source": [
    "### 在Colab上验证您的笔记本环境\n",
    "\n",
    "在Google Colab上验证您的环境。"
   ]
  },
  {
   "cell_type": "code",
   "execution_count": null,
   "metadata": {
    "id": "NyKGtVQjgx13"
   },
   "outputs": [],
   "source": [
    "import sys\n",
    "\n",
    "if \"google.colab\" in sys.modules:\n",
    "\n",
    "    from google.colab import auth\n",
    "\n",
    "    auth.authenticate_user()"
   ]
  },
  {
   "cell_type": "markdown",
   "metadata": {
    "id": "DF4l8DTdWgPY"
   },
   "source": [
    "### 设置Google Cloud项目信息并为Python初始化Vertex AI SDK\n",
    "\n",
    "要开始使用Vertex AI，您必须拥有一个现有的Google Cloud项目并[启用Vertex AI API](https://console.cloud.google.com/flows/enableapi?apiid=aiplatform.googleapis.com)。了解更多关于[设置项目和开发环境](https://cloud.google.com/vertex-ai/docs/start/cloud-environment)的信息。"
   ]
  },
  {
   "cell_type": "code",
   "execution_count": null,
   "metadata": {
    "id": "Nqwi-5ufWp_B"
   },
   "outputs": [],
   "source": [
    "PROJECT_ID = \"[your-project-id]\"  # @param {type:\"string\"}\n",
    "LOCATION = \"us-central1\"  # @param {type:\"string\"}"
   ]
  },
  {
   "cell_type": "markdown",
   "metadata": {
    "id": "bucket:mbsdk"
   },
   "source": [
    "创建一个云存储桶\n",
    "\n",
    "创建一个存储桶来存储中间工件，如数据集。"
   ]
  },
  {
   "cell_type": "code",
   "execution_count": null,
   "metadata": {
    "id": "bucket"
   },
   "outputs": [],
   "source": [
    "BUCKET_URI = f\"gs://your-bucket-name-{PROJECT_ID}-unique\"  # @param {type:\"string\"}"
   ]
  },
  {
   "cell_type": "markdown",
   "metadata": {
    "id": "create_bucket"
   },
   "source": [
    "如果您的存储桶尚不存在：运行以下单元格以创建您的云存储存储桶。"
   ]
  },
  {
   "cell_type": "code",
   "execution_count": null,
   "metadata": {
    "id": "create_bucket"
   },
   "outputs": [],
   "source": [
    "! gsutil mb -l $LOCATION -p $PROJECT_ID $BUCKET_URI"
   ]
  },
  {
   "cell_type": "markdown",
   "metadata": {
    "id": "init_aip:mbsdk"
   },
   "source": [
    "初始化Python的Vertex AI SDK\n",
    "\n",
    "为您的项目和相应的存储桶初始化Python的Vertex AI SDK。"
   ]
  },
  {
   "cell_type": "code",
   "execution_count": null,
   "metadata": {
    "id": "init_aip:mbsdk"
   },
   "outputs": [],
   "source": [
    "from google.cloud import aiplatform\n",
    "\n",
    "aiplatform.init(project=PROJECT_ID, staging_bucket=BUCKET_URI)"
   ]
  },
  {
   "cell_type": "markdown",
   "metadata": {
    "id": "accelerators:training,cpu,prediction,cpu,mbsdk"
   },
   "source": [
    "设置硬件加速器\n",
    "\n",
    "您可以为训练和预测设置硬件加速器。\n",
    "\n",
    "将变量`TRAIN_GPU/TRAIN_NGPU`和`DEPLOY_GPU/DEPLOY_NGPU`设置为使用支持GPU的容器映像和分配给虚拟机（VM）实例的GPU数量。例如，要使用一个支持GPU的容器映像，并为每个VM分配4个Nvidia Telsa K80 GPU，您可以指定：\n",
    "\n",
    "(aip.gapic.AcceleratorType.NVIDIA_TESLA_K80, 4)\n",
    "\n",
    "否则，指定`(None, None)`以在CPU上运行容器映像。\n",
    "\n",
    "了解有关您位置的[硬件加速器支持](https://cloud.google.com/vertex-ai/docs/general/locations#accelerators)\n",
    "\n",
    "*注意*: 在GPU支持方面，TF 2.3 之前的版本在此教程中无法加载自定义模型。这是一个已知问题，在TF 2.3 中已修复 -- 这是由服务函数中生成的静态图操作引起的。如果在您自己的自定义模型上遇到此问题，请使用支持GPU的 TF 2.3 容器映像。"
   ]
  },
  {
   "cell_type": "code",
   "execution_count": null,
   "metadata": {
    "id": "accelerators:training,cpu,prediction,cpu,mbsdk"
   },
   "outputs": [],
   "source": [
    "if os.getenv(\"IS_TESTING_TRAIN_GPU\"):\n",
    "    TRAIN_GPU, TRAIN_NGPU = (\n",
    "        aiplatform.gapic.AcceleratorType.NVIDIA_TESLA_K80,\n",
    "        int(os.getenv(\"IS_TESTING_TRAIN_GPU\")),\n",
    "    )\n",
    "else:\n",
    "    TRAIN_GPU, TRAIN_NGPU = (None, None)\n",
    "\n",
    "if os.getenv(\"IS_TESTING_DEPLOY_GPU\"):\n",
    "    DEPLOY_GPU, DEPLOY_NGPU = (\n",
    "        aiplatform.gapic.AcceleratorType.NVIDIA_TESLA_K80,\n",
    "        int(os.getenv(\"IS_TESTING_DEPLOY_GPU\")),\n",
    "    )\n",
    "else:\n",
    "    DEPLOY_GPU, DEPLOY_NGPU = (None, None)"
   ]
  },
  {
   "cell_type": "markdown",
   "metadata": {
    "id": "container:training,prediction"
   },
   "source": [
    "设置预构建的容器\n",
    "\n",
    "为训练和预测设置预构建的 Docker 容器镜像。\n",
    "\n",
    "有关最新列表，请参阅[用于训练的预构建容器](https://cloud.google.com/ai-platform-unified/docs/training/pre-built-containers)。\n",
    "\n",
    "有关最新列表，请参阅[用于预测的预构建容器](https://cloud.google.com/ai-platform-unified/docs/predictions/pre-built-containers)。"
   ]
  },
  {
   "cell_type": "code",
   "execution_count": null,
   "metadata": {
    "id": "container:training,prediction"
   },
   "outputs": [],
   "source": [
    "if os.getenv(\"IS_TESTING_TF\"):\n",
    "    TF = os.getenv(\"IS_TESTING_TF\")\n",
    "else:\n",
    "    TF = \"2-11\"\n",
    "\n",
    "if TF[0] == \"2\":\n",
    "    if TRAIN_GPU:\n",
    "        TRAIN_VERSION = \"tf-gpu.{}\".format(TF)\n",
    "    else:\n",
    "        TRAIN_VERSION = \"tf-cpu.{}\".format(TF)\n",
    "    if DEPLOY_GPU:\n",
    "        DEPLOY_VERSION = \"tf2-gpu.{}\".format(TF)\n",
    "    else:\n",
    "        DEPLOY_VERSION = \"tf2-cpu.{}\".format(TF)\n",
    "else:\n",
    "    if TRAIN_GPU:\n",
    "        TRAIN_VERSION = \"tf-gpu.{}\".format(TF)\n",
    "    else:\n",
    "        TRAIN_VERSION = \"tf-cpu.{}\".format(TF)\n",
    "    if DEPLOY_GPU:\n",
    "        DEPLOY_VERSION = \"tf-gpu.{}\".format(TF)\n",
    "    else:\n",
    "        DEPLOY_VERSION = \"tf-cpu.{}\".format(TF)\n",
    "\n",
    "\n",
    "TRAIN_IMAGE = \"{}-docker.pkg.dev/vertex-ai/training/{}:latest\".format(\n",
    "    LOCATION.split(\"-\")[0], TRAIN_VERSION\n",
    ")\n",
    "DEPLOY_IMAGE = \"{}-docker.pkg.dev/vertex-ai/prediction/{}:latest\".format(\n",
    "    LOCATION.split(\"-\")[0], DEPLOY_VERSION\n",
    ")\n",
    "\n",
    "print(\"Training:\", TRAIN_IMAGE, TRAIN_GPU, TRAIN_NGPU)\n",
    "print(\"Deployment:\", DEPLOY_IMAGE, DEPLOY_GPU, DEPLOY_NGPU)"
   ]
  },
  {
   "cell_type": "markdown",
   "metadata": {
    "id": "machine:training,prediction"
   },
   "source": [
    "#### 设置机器类型\n",
    "\n",
    "接下来，设置用于训练和预测的机器类型。\n",
    "\n",
    "- 设置变量 `TRAIN_COMPUTE` 和 `DEPLOY_COMPUTE` 来配置您将用于训练和预测的虚拟机的计算资源。\n",
    " - `机器类型`\n",
    "     - `n1-standard`: 每个vCPU 3.75GB内存。\n",
    "     - `n1-highmem`: 每个vCPU 6.5GB内存\n",
    "     - `n1-highcpu`: 每个vCPU 0.9GB内存\n",
    " - `vCPUs`: 数量为\\[2, 4, 8, 16, 32, 64, 96\\]\n",
    "\n",
    "*注意：以下情况不支持进行训练：*\n",
    "\n",
    " - `standard`: 2个vCPUs\n",
    " - `highcpu`: 2、4和8个vCPUs\n",
    "\n",
    "*注意：您也可以使用n2和e2机器类型进行训练和部署，但它们不支持GPU*。"
   ]
  },
  {
   "cell_type": "code",
   "execution_count": null,
   "metadata": {
    "id": "machine:training,prediction"
   },
   "outputs": [],
   "source": [
    "if os.getenv(\"IS_TESTING_TRAIN_MACHINE\"):\n",
    "    MACHINE_TYPE = os.getenv(\"IS_TESTING_TRAIN_MACHINE\")\n",
    "else:\n",
    "    MACHINE_TYPE = \"n1-standard\"\n",
    "\n",
    "VCPU = \"4\"\n",
    "TRAIN_COMPUTE = MACHINE_TYPE + \"-\" + VCPU\n",
    "print(\"Train machine type\", TRAIN_COMPUTE)\n",
    "\n",
    "if os.getenv(\"IS_TESTING_DEPLOY_MACHINE\"):\n",
    "    MACHINE_TYPE = os.getenv(\"IS_TESTING_DEPLOY_MACHINE\")\n",
    "else:\n",
    "    MACHINE_TYPE = \"n1-standard\"\n",
    "\n",
    "VCPU = \"4\"\n",
    "DEPLOY_COMPUTE = MACHINE_TYPE + \"-\" + VCPU\n",
    "print(\"Deploy machine type\", DEPLOY_COMPUTE)"
   ]
  },
  {
   "cell_type": "markdown",
   "metadata": {
    "id": "tutorial_start:custom"
   },
   "source": [
    "# 教程\n",
    "\n",
    "现在你已经准备好开始创建自己的定制模型并为CIFAR10进行训练。"
   ]
  },
  {
   "cell_type": "markdown",
   "metadata": {
    "id": "examine_training_package"
   },
   "source": [
    "### 检查培训包\n",
    "\n",
    "#### 包布局\n",
    "\n",
    "在开始培训之前，您要查看如何为自定义培训工作组装Python包。解压后，包含以下目录/文件布局的包。\n",
    "\n",
    "- PKG-INFO\n",
    "- README.md\n",
    "- setup.cfg\n",
    "- setup.py\n",
    "- trainer\n",
    "  - \\_\\_init\\_\\_.py\n",
    "  - task.py\n",
    "\n",
    "文件 `setup.cfg` 和 `setup.py` 是将包安装到Docker镜像的操作环境中的说明。\n",
    "\n",
    "文件 `trainer/task.py` 是执行自定义培训工作的Python脚本。*注意*，当在工作组规范中引用 `trainer/task.py` 时，目录斜杠会被替换为点，文件后缀（`.py`）会被删除（`trainer.task`）。\n",
    "\n",
    "#### 包组装\n",
    "\n",
    "在以下单元格中，您将创建培训包。"
   ]
  },
  {
   "cell_type": "code",
   "execution_count": null,
   "metadata": {
    "id": "examine_training_package"
   },
   "outputs": [],
   "source": [
    "# Make folder for Python training script\n",
    "! rm -rf custom\n",
    "! mkdir custom\n",
    "\n",
    "# Add package information\n",
    "! touch custom/README.md\n",
    "\n",
    "setup_cfg = \"[egg_info]\\n\\ntag_build =\\n\\ntag_date = 0\"\n",
    "! echo \"$setup_cfg\" > custom/setup.cfg\n",
    "\n",
    "setup_py = \"import setuptools\\n\\nsetuptools.setup(\\n\\n    install_requires=[\\n\\n        'tensorflow_datasets==1.3.0',\\n\\n    ],\\n\\n    packages=setuptools.find_packages())\"\n",
    "! echo \"$setup_py\" > custom/setup.py\n",
    "\n",
    "pkg_info = \"Metadata-Version: 1.0\\n\\nName: CIFAR10 image classification\\n\\nVersion: 0.0.0\\n\\nSummary: Demostration training script\\n\\nHome-page: www.google.com\\n\\nAuthor: Google\\n\\nAuthor-email: aferlitsch@google.com\\n\\nLicense: Public\\n\\nDescription: Demo\\n\\nPlatform: Vertex\"\n",
    "! echo \"$pkg_info\" > custom/PKG-INFO\n",
    "\n",
    "# Make the training subfolder\n",
    "! mkdir custom/trainer\n",
    "! touch custom/trainer/__init__.py"
   ]
  },
  {
   "cell_type": "markdown",
   "metadata": {
    "id": "taskpy_contents:cifar10"
   },
   "source": [
    "#### Task.py的内容\n",
    "\n",
    "在下一个单元格中，提供训练脚本task.py文件的内容。您不必详细说明。这只是供您参考浏览的。总结如下：\n",
    "\n",
    "- 从命令行(`--model_dir`)获取保存模型结果的目录，如果未指定，则从环境变量`AIP_MODEL_DIR`获取。\n",
    "- 从TF数据集(tfds)加载CIFAR10数据集。\n",
    "- 使用TF.Keras模型API构建模型。\n",
    "- 编译模型(`compile()`)。\n",
    "- 根据参数`args.distribute`设置训练分布策略。\n",
    "- 根据参数`args.epochs`和`args.steps`训练模型(`fit()`)。\n",
    "- 将训练好的模型(`save(args.model_dir)`)保存到指定的模型目录。"
   ]
  },
  {
   "cell_type": "code",
   "execution_count": null,
   "metadata": {
    "id": "taskpy_contents:cifar10"
   },
   "outputs": [],
   "source": [
    "%%writefile custom/trainer/task.py\n",
    "# Single, Mirror and Multi-Machine Distributed Training for CIFAR-10\n",
    "\n",
    "import tensorflow_datasets as tfds\n",
    "import tensorflow as tf\n",
    "from tensorflow.python.client import device_lib\n",
    "import argparse\n",
    "import os\n",
    "import sys\n",
    "tfds.disable_progress_bar()\n",
    "\n",
    "parser = argparse.ArgumentParser()\n",
    "parser.add_argument('--model-dir', dest='model_dir',\n",
    "                    default=os.getenv(\"AIP_MODEL_DIR\"), type=str, help='Model dir.')\n",
    "parser.add_argument('--lr', dest='lr',\n",
    "                    default=0.01, type=float,\n",
    "                    help='Learning rate.')\n",
    "parser.add_argument('--epochs', dest='epochs',\n",
    "                    default=10, type=int,\n",
    "                    help='Number of epochs.')\n",
    "parser.add_argument('--steps', dest='steps',\n",
    "                    default=200, type=int,\n",
    "                    help='Number of steps per epoch.')\n",
    "parser.add_argument('--distribute', dest='distribute', type=str, default='single',\n",
    "                    help='distributed training strategy')\n",
    "args = parser.parse_args()\n",
    "\n",
    "print('Python Version = {}'.format(sys.version))\n",
    "print('TensorFlow Version = {}'.format(tf.__version__))\n",
    "print('TF_CONFIG = {}'.format(os.environ.get('TF_CONFIG', 'Not found')))\n",
    "print('DEVICES', device_lib.list_local_devices())\n",
    "\n",
    "# Single Machine, single compute device\n",
    "if args.distribute == 'single':\n",
    "    if tf.test.is_gpu_available():\n",
    "        strategy = tf.distribute.OneDeviceStrategy(device=\"/gpu:0\")\n",
    "    else:\n",
    "        strategy = tf.distribute.OneDeviceStrategy(device=\"/cpu:0\")\n",
    "# Single Machine, multiple compute device\n",
    "elif args.distribute == 'mirror':\n",
    "    strategy = tf.distribute.MirroredStrategy()\n",
    "# Multiple Machine, multiple compute device\n",
    "elif args.distribute == 'multi':\n",
    "    strategy = tf.distribute.experimental.MultiWorkerMirroredStrategy()\n",
    "\n",
    "# Multi-worker configuration\n",
    "print('num_replicas_in_sync = {}'.format(strategy.num_replicas_in_sync))\n",
    "\n",
    "# Preparing dataset\n",
    "BUFFER_SIZE = 10000\n",
    "BATCH_SIZE = 64\n",
    "\n",
    "\n",
    "def make_datasets_unbatched():\n",
    "\n",
    "  # Scaling CIFAR10 data from (0, 255] to (0., 1.]\n",
    "  def scale(image, label):\n",
    "    image = tf.cast(image, tf.float32)\n",
    "    image /= 255.0\n",
    "    return image, label\n",
    "\n",
    "\n",
    "  datasets, info = tfds.load(name='cifar10',\n",
    "                            with_info=True,\n",
    "                            as_supervised=True)\n",
    "  return datasets['train'].map(scale).cache().shuffle(BUFFER_SIZE).repeat()\n",
    "\n",
    "\n",
    "# Build the Keras model\n",
    "def build_and_compile_cnn_model():\n",
    "  model = tf.keras.Sequential([\n",
    "      tf.keras.layers.Conv2D(32, 3, activation='relu', input_shape=(32, 32, 3)),\n",
    "      tf.keras.layers.MaxPooling2D(),\n",
    "      tf.keras.layers.Conv2D(32, 3, activation='relu'),\n",
    "      tf.keras.layers.MaxPooling2D(),\n",
    "      tf.keras.layers.Flatten(),\n",
    "      tf.keras.layers.Dense(10, activation='softmax')\n",
    "  ])\n",
    "  model.compile(\n",
    "      loss=tf.keras.losses.sparse_categorical_crossentropy,\n",
    "      optimizer=tf.keras.optimizers.SGD(learning_rate=args.lr),\n",
    "      metrics=['accuracy'])\n",
    "  return model\n",
    "\n",
    "\n",
    "# Train the model\n",
    "NUM_WORKERS = strategy.num_replicas_in_sync\n",
    "# Here the batch size scales up by number of workers since\n",
    "# `tf.data.Dataset.batch` expects the global batch size.\n",
    "GLOBAL_BATCH_SIZE = BATCH_SIZE * NUM_WORKERS\n",
    "train_dataset = make_datasets_unbatched().batch(GLOBAL_BATCH_SIZE)\n",
    "\n",
    "with strategy.scope():\n",
    "  # Creation of dataset, and model building/compiling need to be within\n",
    "  # `strategy.scope()`.\n",
    "  model = build_and_compile_cnn_model()\n",
    "\n",
    "model.fit(x=train_dataset, epochs=args.epochs, steps_per_epoch=args.steps)\n",
    "model.save(args.model_dir)"
   ]
  },
  {
   "cell_type": "markdown",
   "metadata": {
    "id": "tarball_training_script"
   },
   "source": [
    "把培训脚本存储在您的云存储桶中\n",
    "\n",
    "然后，您将培训文件夹打包成一个压缩的tar文件，并将其存储在您的云存储桶中。"
   ]
  },
  {
   "cell_type": "code",
   "execution_count": null,
   "metadata": {
    "id": "tarball_training_script"
   },
   "outputs": [],
   "source": [
    "! rm -f custom.tar custom.tar.gz\n",
    "! tar cvf custom.tar custom\n",
    "! gzip custom.tar\n",
    "! gsutil cp custom.tar.gz $BUCKET_NAME/trainer_cifar10.tar.gz"
   ]
  },
  {
   "cell_type": "markdown",
   "metadata": {
    "id": "create_custom_training_job:mbsdk,no_model"
   },
   "source": [
    "### 创建和运行自定义训练任务\n",
    "\n",
    "要训练一个自定义模型，您需要执行两个步骤：\n",
    "\n",
    "1. 创建一个自定义训练任务\n",
    "2. 运行这个任务\n",
    "\n",
    "#### 创建自定义训练任务\n",
    "\n",
    "使用`CustomTrainingJob`类创建一个自定义训练任务，需要以下参数：\n",
    "\n",
    "- `display_name`：自定义训练任务的可读名称。\n",
    "- `container_uri`：训练容器镜像。\n",
    "- `requirements`：训练容器镜像的软件包要求（例如 pandas）。\n",
    "- `script_path`：训练脚本的相对路径。"
   ]
  },
  {
   "cell_type": "code",
   "execution_count": null,
   "metadata": {
    "id": "create_custom_training_job:mbsdk,no_model"
   },
   "outputs": [],
   "source": [
    "job = aiplatform.CustomTrainingJob(\n",
    "    display_name=\"cifar10\",\n",
    "    script_path=\"custom/trainer/task.py\",\n",
    "    container_uri=TRAIN_IMAGE,\n",
    "    requirements=[\"gcsfs==0.7.1\", \"tensorflow-datasets==4.4\"],\n",
    ")\n",
    "\n",
    "print(job)"
   ]
  },
  {
   "cell_type": "markdown",
   "metadata": {
    "id": "prepare_custom_cmdargs"
   },
   "source": [
    "### 准备您的命令行参数\n",
    "\n",
    "现在为您的自定义训练容器定义命令行参数：\n",
    "\n",
    "- `args`：要传递给设定为容器入口点的可执行文件的命令行参数。\n",
    "  - `--model-dir`：对于这些演示，使用这个命令行参数来指定存储模型工件的位置。\n",
    "      - 直接：您将云存储位置作为命令行参数传递给您的训练脚本（设置变量`DIRECT = True`），或\n",
    "      - 间接：服务将云存储位置作为环境变量`AIP_MODEL_DIR`传递给您的训练脚本（设置变量`DIRECT = False`）。在这种情况下，您需要在作业规范中告诉服务模型工件位置。\n",
    "  - `\"--epochs=\" + EPOCHS`：训练的周期数。\n",
    "  - `\"--steps=\" + STEPS`：每个周期的步数。"
   ]
  },
  {
   "cell_type": "code",
   "execution_count": null,
   "metadata": {
    "id": "prepare_custom_cmdargs"
   },
   "outputs": [],
   "source": [
    "MODEL_DIR = \"{}/{}\".format(BUCKET_URI, \"model\")\n",
    "\n",
    "EPOCHS = 20\n",
    "STEPS = 100\n",
    "\n",
    "DIRECT = True\n",
    "if DIRECT:\n",
    "    CMDARGS = [\n",
    "        \"--model-dir=\" + MODEL_DIR,\n",
    "        \"--epochs=\" + str(EPOCHS),\n",
    "        \"--steps=\" + str(STEPS),\n",
    "    ]\n",
    "else:\n",
    "    CMDARGS = [\n",
    "        \"--epochs=\" + str(EPOCHS),\n",
    "        \"--steps=\" + str(STEPS),\n",
    "    ]"
   ]
  },
  {
   "cell_type": "markdown",
   "metadata": {
    "id": "run_custom_job:mbsdk,no_model"
   },
   "source": [
    "运行自定义训练任务\n",
    "\n",
    "接下来，您通过调用`run`方法运行自定义作业，以启动训练作业，并传入以下参数：\n",
    "\n",
    "- `args`：传递给训练脚本的命令行参数。\n",
    "- `replica_count`：用于训练的计算实例数量（replica_count = 1 表示单节点训练）。\n",
    "- `machine_type`：计算实例的机器类型。\n",
    "- `accelerator_type`：硬件加速器类型。\n",
    "- `accelerator_count`：要附加到工作器副本的加速器数量。\n",
    "- `base_output_dir`：写入模型产物的 Cloud Storage 位置。\n",
    "- `sync`：是否阻塞直到作业完成。"
   ]
  },
  {
   "cell_type": "code",
   "execution_count": null,
   "metadata": {
    "id": "run_custom_job:mbsdk,no_model"
   },
   "outputs": [],
   "source": [
    "if TRAIN_GPU:\n",
    "    job.run(\n",
    "        args=CMDARGS,\n",
    "        replica_count=1,\n",
    "        machine_type=TRAIN_COMPUTE,\n",
    "        accelerator_type=TRAIN_GPU.name,\n",
    "        accelerator_count=TRAIN_NGPU,\n",
    "        base_output_dir=MODEL_DIR,\n",
    "        sync=True,\n",
    "    )\n",
    "else:\n",
    "    job.run(\n",
    "        args=CMDARGS,\n",
    "        replica_count=1,\n",
    "        machine_type=TRAIN_COMPUTE,\n",
    "        base_output_dir=MODEL_DIR,\n",
    "        sync=True,\n",
    "    )\n",
    "\n",
    "model_path_to_deploy = MODEL_DIR"
   ]
  },
  {
   "cell_type": "markdown",
   "metadata": {
    "id": "load_saved_model"
   },
   "source": [
    "## 加载已保存的模型\n",
    "\n",
    "您的模型以 TensorFlow SavedModel 格式存储在 Cloud Storage 存储桶中。现在从 Cloud Storage 存储桶中加载它，然后您可以做一些事情，比如评估模型和进行预测。\n",
    "\n",
    "要加载模型，您可以使用 TF.Keras `model.load_model()` 方法，将保存模型的 Cloud Storage 路径传递给它 -- 由 `MODEL_DIR` 指定。"
   ]
  },
  {
   "cell_type": "code",
   "execution_count": null,
   "metadata": {
    "id": "load_saved_model"
   },
   "outputs": [],
   "source": [
    "import tensorflow as tf\n",
    "\n",
    "local_model = tf.keras.models.load_model(MODEL_DIR)"
   ]
  },
  {
   "cell_type": "markdown",
   "metadata": {
    "id": "evaluate_custom_model:image"
   },
   "source": [
    "## 评估模型\n",
    "\n",
    "现在找出模型有多好。\n",
    "\n",
    "### 加载评估数据\n",
    "\n",
    "从 `tf.keras.datasets` 加载 CIFAR10 测试（保留）数据，使用 `load_data()` 方法。这会将数据集作为包含两个元素的元组返回。第一个元素是训练数据，第二个是测试数据。每个元素也是包含两个元素的元组：图像数据和相应的标签。\n",
    "\n",
    "你不需要训练数据，这就是为什么将其加载到`(_, _)`中。\n",
    "\n",
    "在将数据传递给评估之前，你需要对其进行预处理：\n",
    "\n",
    "`x_test`:\n",
    "1. 通过将每个像素除以 255 来对像素数据进行归一化（重新缩放）。这会用介于 0 到 1 之间的 32 位浮点数替换每个单个字节整数像素。\n",
    "\n",
    "`y_test`:<br/>\n",
    "2. 标签目前是标量（稀疏）的。在 `trainer/task.py` 脚本的 `compile()` 步骤中已经注意到为稀疏标签进行了编译。"
   ]
  },
  {
   "cell_type": "code",
   "execution_count": null,
   "metadata": {
    "id": "evaluate_custom_model:image,cifar10"
   },
   "outputs": [],
   "source": [
    "import numpy as np\n",
    "from tensorflow.keras.datasets import cifar10\n",
    "\n",
    "(_, _), (x_test, y_test) = cifar10.load_data()\n",
    "x_test = (x_test / 255.0).astype(np.float32)\n",
    "\n",
    "print(x_test.shape, y_test.shape)"
   ]
  },
  {
   "cell_type": "markdown",
   "metadata": {
    "id": "perform_evaluation_custom"
   },
   "source": [
    "### 执行模型评估\n",
    "\n",
    "现在评估一下自定义任务中的模型表现如何。"
   ]
  },
  {
   "cell_type": "code",
   "execution_count": null,
   "metadata": {
    "id": "perform_evaluation_custom"
   },
   "outputs": [],
   "source": [
    "local_model.evaluate(x_test, y_test)"
   ]
  },
  {
   "cell_type": "markdown",
   "metadata": {
    "id": "serving_function_image:xai"
   },
   "source": [
    "### 为图像数据提供服务功能\n",
    "\n",
    "要将图像传递给预测服务，您需要将压缩的（例如JPEG）图像字节编码为base 64-这样可以使内容在通过网络传输二进制数据时免受修改。由于这个部署模型期望将输入数据作为原始（未压缩）字节，您需要确保将base 64编码的数据转换回原始字节，然后作为输入传递给部署模型。\n",
    "\n",
    "为了解决这个问题，定义一个服务函数（`serving_fn`）并将其附加到模型作为预处理步骤。添加一个`@tf.function`装饰器，这样服务功能就会与基础模型融合在一起（而不是在CPU上游处理）。\n",
    "\n",
    "当您发送预测或解释请求时，请求的内容将被解码为Tensorflow字符串（`tf.string`），然后传递给服务函数（`serving_fn`）。服务函数会将`tf.string`预处理为原始（未压缩）的numpy字节（`preprocess_fn`），以满足模型的输入要求：\n",
    "- `io.decode_jpeg`- 解压JPG图像，返回一个具有三个通道（RGB）的Tensorflow张量。\n",
    "- `image.convert_image_dtype` - 将整数像素值更改为float 32。\n",
    "- `image.resize` - 调整图像大小以匹配模型的输入形状。\n",
    "- `resized / 255.0` - 将像素数据在0到1之间重新调整（归一化）。\n",
    "\n",
    "在这一点上，数据可以传递给模型（`m_call`）。\n",
    "\n",
    "#### XAI 签名\n",
    "\n",
    "当服务函数与基础模型一起保存（`tf.saved_model.save`）时，您需要指定服务函数的输入层作为签名`serving_default`。\n",
    "\n",
    "对于XAI图像模型，您需要从服务函数保存两个额外的签名：\n",
    "\n",
    "- `xai_preprocess`：服务函数中的预处理功能。\n",
    "- `xai_model`：调用模型的具体功能。"
   ]
  },
  {
   "cell_type": "code",
   "execution_count": null,
   "metadata": {
    "id": "serving_function_image:xai"
   },
   "outputs": [],
   "source": [
    "CONCRETE_INPUT = \"numpy_inputs\"\n",
    "\n",
    "\n",
    "def _preprocess(bytes_input):\n",
    "    decoded = tf.io.decode_jpeg(bytes_input, channels=3)\n",
    "    decoded = tf.image.convert_image_dtype(decoded, tf.float32)\n",
    "    resized = tf.image.resize(decoded, size=(32, 32))\n",
    "    rescale = tf.cast(resized / 255.0, tf.float32)\n",
    "    return rescale\n",
    "\n",
    "\n",
    "@tf.function(input_signature=[tf.TensorSpec([None], tf.string)])\n",
    "def preprocess_fn(bytes_inputs):\n",
    "    decoded_images = tf.map_fn(\n",
    "        _preprocess, bytes_inputs, dtype=tf.float32, back_prop=False\n",
    "    )\n",
    "    return {\n",
    "        CONCRETE_INPUT: decoded_images\n",
    "    }  # User needs to make sure the key matches model's input\n",
    "\n",
    "\n",
    "@tf.function(input_signature=[tf.TensorSpec([None], tf.string)])\n",
    "def serving_fn(bytes_inputs):\n",
    "    images = preprocess_fn(bytes_inputs)\n",
    "    prob = m_call(**images)\n",
    "    return prob\n",
    "\n",
    "\n",
    "m_call = tf.function(local_model.call).get_concrete_function(\n",
    "    [tf.TensorSpec(shape=[None, 32, 32, 3], dtype=tf.float32, name=CONCRETE_INPUT)]\n",
    ")\n",
    "\n",
    "tf.saved_model.save(\n",
    "    local_model,\n",
    "    model_path_to_deploy,\n",
    "    signatures={\n",
    "        \"serving_default\": serving_fn,\n",
    "        # Required for XAI\n",
    "        \"xai_preprocess\": preprocess_fn,\n",
    "        \"xai_model\": m_call,\n",
    "    },\n",
    ")"
   ]
  },
  {
   "cell_type": "markdown",
   "metadata": {
    "id": "serving_function_signature:xai"
   },
   "source": [
    "获取服务功能签名\n",
    "\n",
    "您可以将模型重新加载到内存中，通过查询每个层对应的签名来获取您模型的输入和输出层的签名。\n",
    "\n",
    "在进行预测请求时，您需要将请求路由到服务功能而不是模型，因此您需要知道服务功能的输入层名称——这将在您进行预测请求时使用。\n",
    "\n",
    "您还需要知道服务功能的输入和输出层的名称，以构建解释元数据——后面会进行讨论。"
   ]
  },
  {
   "cell_type": "code",
   "execution_count": null,
   "metadata": {
    "id": "serving_function_signature:xai"
   },
   "outputs": [],
   "source": [
    "loaded = tf.saved_model.load(model_path_to_deploy)\n",
    "\n",
    "serving_input = list(\n",
    "    loaded.signatures[\"serving_default\"].structured_input_signature[1].keys()\n",
    ")[0]\n",
    "print(\"Serving function input:\", serving_input)\n",
    "serving_output = list(loaded.signatures[\"serving_default\"].structured_outputs.keys())[0]\n",
    "print(\"Serving function output:\", serving_output)\n",
    "\n",
    "input_name = local_model.input.name\n",
    "print(\"Model input name:\", input_name)\n",
    "output_name = local_model.output.name\n",
    "print(\"Model output name:\", output_name)"
   ]
  },
  {
   "cell_type": "markdown",
   "metadata": {
    "id": "explanation_spec"
   },
   "source": [
    "### 解释规范\n",
    "\n",
    "要在进行预测时获得解释，您必须启用解释功能，并在将自定义模型上传到 Vertex `Model` 资源时设置相应的设置。这些设置被称为解释元数据，包括:\n",
    "\n",
    "- `parameters`：这是用于解释模型的可解释性算法的规范。您可以选择以下选项之一：\n",
    "  - Shapley - *注意*，不推荐用于图像数据-- 可能需要很长时间\n",
    "  - XRAI\n",
    "  - 综合梯度\n",
    "- `metadata`：这是算法应用于您的自定义模型的规范。\n",
    "\n",
    "#### 解释参数\n",
    "\n",
    "让我们首先深入了解可解释性算法的设置。\n",
    "\n",
    "#### Shapley\n",
    "\n",
    "将结果分配给每个特征，并考虑特征的不同排列方式。该方法提供了对确切 Shapley 值的采样近似。\n",
    "\n",
    "用例：\n",
    "  - 对表格数据的分类和回归。\n",
    "\n",
    "参数：\n",
    "\n",
    "- `path_count`：算法处理的特征路径的数量。对于要求精确 Shapley 值的近似路径有 M! 条道路，其中 M 是特征的数量。对于 CIFAR10 数据集，这将是 784 (28*28)。\n",
    "\n",
    "对于任何非常数量的特征，这将计算成本过高。您可以将通过特征的路径数量减少到 M * `path_count`。\n",
    "\n",
    "#### 综合梯度\n",
    "\n",
    "一种基于梯度的方法，用于高效地计算具有与 Shapley 值相同公理性质的特征归因。\n",
    "\n",
    "用例：\n",
    "  - 对表格数据的分类和回归。\n",
    "  - 对图像数据的分类。\n",
    "\n",
    "参数：\n",
    "\n",
    "- `step_count`：这是用于近似剩余总和的步骤数。步骤越多，积分近似越准确。一般的经验法则是 50 步，但随着步数的增加，计算时间也会增加。\n",
    "\n",
    "#### XRAI\n",
    "\n",
    "基于综合梯度方法，XRAI 评估图像的重叠位置，创建一个显著性地图，突出显示图像的相关位置而不是像素。\n",
    "\n",
    "用例：\n",
    "\n",
    "  - 对图像数据的分类。\n",
    "\n",
    "参数：\n",
    "\n",
    "- `step_count`：这是用于近似剩余总和的步骤数。步骤越多，积分近似越准确。一般的经验法则是 50 步，但随着步数的增加，计算时间也会增加。\n",
    "\n",
    "在下一个代码单元中，将变量 `XAI` 设置为您希望在自定义模型上使用的解释算法。"
   ]
  },
  {
   "cell_type": "code",
   "execution_count": null,
   "metadata": {
    "id": "explanation_parameters:mbsdk"
   },
   "outputs": [],
   "source": [
    "XAI = \"ig\"  # [ shapley, ig, xrai ]\n",
    "\n",
    "if XAI == \"shapley\":\n",
    "    PARAMETERS = {\"sampled_shapley_attribution\": {\"path_count\": 10}}\n",
    "elif XAI == \"ig\":\n",
    "    PARAMETERS = {\"integrated_gradients_attribution\": {\"step_count\": 50}}\n",
    "elif XAI == \"xrai\":\n",
    "    PARAMETERS = {\"xrai_attribution\": {\"step_count\": 50}}\n",
    "\n",
    "parameters = aiplatform.explain.ExplanationParameters(PARAMETERS)"
   ]
  },
  {
   "cell_type": "markdown",
   "metadata": {
    "id": "explanation_metadata:image"
   },
   "source": [
    "### 说明元数据\n",
    "\n",
    "让我们首先深入了解说明元数据，其中包括：\n",
    "\n",
    "- `outputs`：输出中的标量值，用于解释的属性。例如，在分类的概率输出\\[0.1, 0.2, 0.7\\]中，我们想要解释0.7。考虑以下公式，其中输出为`y`，这就是我们想要解释的内容。\n",
    "\n",
    "    y = f(x)\n",
    "    \n",
    "考虑以下公式，其中输出为`y`和`z`。由于您只能对一个标量值进行归因，您必须选择是要解释输出`y`还是`z`。假设在此示例中，模型是目标检测，y和z分别是边界框和对象分类。您会选择要解释哪个输出。\n",
    "\n",
    "    y, z = f(x)\n",
    "\n",
    "`outputs`的字典格式为：\n",
    "\n",
    "    { \"outputs\": { \"[your_display_name]\":\n",
    "                   \"output_tensor_name\": [layer]\n",
    "                 }\n",
    "    }\n",
    "\n",
    "<blockquote>\n",
    " -  [your_display_name]：您为要解释的输出分配的可读名称。一个常见示例是“概率”。<br/>\n",
    " -  \"output_tensor_name\"：用于识别要解释的输出层的键/值字段。 <br/>\n",
    " -  [layer]：要解释的输出层。在单一任务模型中，例如表格回归器，它是模型中的最后（最顶层）层。\n",
    "</blockquote>\n",
    "\n",
    "- `inputs`：归因所需的特征 - 它们如何影响输出。考虑以下公式，其中`a`和`b`是特征。您必须选择要解释如何贡献的特征。假设此模型用于A/B测试，其中`a`是用于预测的数据项，`b`标识模型实例是A还是B。您会选择`a`（或某些子集）作为特征，而不选择`b`，因为它不会对预测产生影响。\n",
    "\n",
    "    y = f(a,b)\n",
    "\n",
    "`inputs`的最小字典格式为：\n",
    "\n",
    "    { \"inputs\": { \"[your_display_name]\":\n",
    "                  \"input_tensor_name\": [layer]\n",
    "                 }\n",
    "    }\n",
    "\n",
    "<blockquote>\n",
    " -  [your_display_name]：您为要解释的输入分配的可读名称。一个常见示例是“特征”。<br/>\n",
    " -  \"input_tensor_name\"：用于识别特征归因的输入层的键/值字段。 <br/>\n",
    " -  [layer]：特征归因的输入层。在单一输入张量模型中，它是模型中的第一个（最底层）层。\n",
    "</blockquote>\n",
    "\n",
    "由于模型的输入为表格数据，您可以指定以下两个附加字段作为报告/可视化辅助：\n",
    "\n",
    "<blockquote>\n",
    " - \"modality\": \"image\"：指示字段值为图像数据。\n",
    "\n",
    "</blockquote>\n",
    "\n",
    "由于模型的输入为图像，您可以指定以下附加字段作为报告/可视化辅助：\n",
    "\n",
    "<blockquote>\n",
    " - \"modality\": \"image\"：指示字段值为图像数据。\n",
    "</blockquote>"
   ]
  },
  {
   "cell_type": "code",
   "execution_count": null,
   "metadata": {
    "id": "explanation_metadata:mbsdk,image"
   },
   "outputs": [],
   "source": [
    "random_baseline = np.random.rand(32, 32, 3)\n",
    "input_baselines = [{\"number_vaue\": x} for x in random_baseline]\n",
    "\n",
    "INPUT_METADATA = {\"input_tensor_name\": CONCRETE_INPUT, \"modality\": \"image\"}\n",
    "\n",
    "OUTPUT_METADATA = {\"output_tensor_name\": serving_output}\n",
    "\n",
    "input_metadata = aiplatform.explain.ExplanationMetadata.InputMetadata(INPUT_METADATA)\n",
    "output_metadata = aiplatform.explain.ExplanationMetadata.OutputMetadata(OUTPUT_METADATA)\n",
    "\n",
    "metadata = aiplatform.explain.ExplanationMetadata(\n",
    "    inputs={\"image\": input_metadata}, outputs={\"class\": output_metadata}\n",
    ")"
   ]
  },
  {
   "cell_type": "markdown",
   "metadata": {
    "id": "upload_model:mbsdk,xai"
   },
   "source": [
    "## 上传模型\n",
    "\n",
    "接下来，使用`Model.upload()`方法将您的模型上传到一个`Model`资源，需要以下参数：\n",
    "\n",
    "- `display_name`: `Model`资源的可读名称。\n",
    "- `artifact`: 存储训练模型工件的云存储位置。\n",
    "- `serving_container_image_uri`: 用于提供服务的容器映像。\n",
    "- `sync`: 是否异步或同步执行上传。\n",
    "- `explanation_parameters`: 用于配置解释`Model`预测的参数。\n",
    "- `explanation_metadata`: 描述解释`Model`输入和输出的元数据。\n",
    "\n",
    "如果`upload()`方法以异步方式运行，则可以随后使用`wait()`方法阻塞直到完成。"
   ]
  },
  {
   "cell_type": "code",
   "execution_count": null,
   "metadata": {
    "id": "upload_model:mbsdk,xai"
   },
   "outputs": [],
   "source": [
    "model = aiplatform.Model.upload(\n",
    "    display_name=\"cifar10\",\n",
    "    artifact_uri=MODEL_DIR,\n",
    "    serving_container_image_uri=DEPLOY_IMAGE,\n",
    "    explanation_parameters=parameters,\n",
    "    explanation_metadata=metadata,\n",
    "    sync=False,\n",
    ")\n",
    "\n",
    "model.wait()"
   ]
  },
  {
   "cell_type": "markdown",
   "metadata": {
    "id": "get_test_items:test"
   },
   "source": [
    "获取测试项目\n",
    "\n",
    "使用数据集中测试（留置）部分的示例作为测试项目。"
   ]
  },
  {
   "cell_type": "code",
   "execution_count": null,
   "metadata": {
    "id": "get_test_items:test"
   },
   "outputs": [],
   "source": [
    "test_image_1 = x_test[0]\n",
    "test_label_1 = y_test[0]\n",
    "test_image_2 = x_test[1]\n",
    "test_label_2 = y_test[1]\n",
    "print(test_image_1.shape)"
   ]
  },
  {
   "cell_type": "markdown",
   "metadata": {
    "id": "prepare_test_items:test,image"
   },
   "source": [
    "### 准备请求内容\n",
    "您将发送CIFAR10图像作为压缩的JPG图像，而不是未经压缩的原始字节：\n",
    "\n",
    "- `cv2.imwrite`：使用openCV将未压缩的图像写入磁盘作为压缩的JPEG图像。\n",
    " - 从\\[0,1)范围反向将图像数据反归一化为[0,255)。\n",
    " - 将32位浮点值转换为8位无符号整数。"
   ]
  },
  {
   "cell_type": "code",
   "execution_count": null,
   "metadata": {
    "id": "prepare_test_items:test,image"
   },
   "outputs": [],
   "source": [
    "import cv2\n",
    "\n",
    "cv2.imwrite(\"tmp1.jpg\", (test_image_1 * 255).astype(np.uint8))\n",
    "cv2.imwrite(\"tmp2.jpg\", (test_image_2 * 255).astype(np.uint8))"
   ]
  },
  {
   "cell_type": "markdown",
   "metadata": {
    "id": "copy_test_items:test"
   },
   "source": [
    "### 复制测试项目\n",
    "\n",
    "对于批量预测，请将测试项目复制到您的云存储桶中。"
   ]
  },
  {
   "cell_type": "code",
   "execution_count": null,
   "metadata": {
    "id": "copy_test_items:test"
   },
   "outputs": [],
   "source": [
    "! gsutil cp tmp1.jpg $BUCKET_URI/tmp1.jpg\n",
    "! gsutil cp tmp2.jpg $BUCKET_URI/tmp2.jpg\n",
    "\n",
    "test_item_1 = BUCKET_URI + \"/tmp1.jpg\"\n",
    "test_item_2 = BUCKET_URI + \"/tmp2.jpg\""
   ]
  },
  {
   "cell_type": "markdown",
   "metadata": {
    "id": "make_batch_file:custom,image"
   },
   "source": [
    "### 制作批量输入文件\n",
    "\n",
    "现在制作一个批量输入文件，然后将其存储到您的云存储桶中。 批量输入文件只能是JSONL格式。 对于JSONL文件，您为每个数据项（实例）的每一行制作一个字典条目。 该字典包含键/值对：\n",
    "\n",
    "- `input_name`: 底层模型输入层的名称。\n",
    "- `'b64'`: 表示内容已经进行base64编码。\n",
    "- `content`: 将压缩后的JPG图像字节作为base64编码的字符串。\n",
    "\n",
    "预测请求中的每个实例都是以下形式的字典条目：\n",
    "\n",
    "                        {serving_input: {'b64': content}}\n",
    "                        \n",
    "为了将图像数据传递给预测服务，您需要将字节编码为base64。 这样在通过网络传输二进制数据时，可以确保内容不被修改。\n",
    "\n",
    "- `tf.io.read_file`: 将压缩后的JPG图像读取为原始字节存入内存。\n",
    "- `base64.b64encode`: 将原始字节编码为base64编码的字符串。"
   ]
  },
  {
   "cell_type": "code",
   "execution_count": null,
   "metadata": {
    "id": "make_batch_file:custom,image"
   },
   "outputs": [],
   "source": [
    "import base64\n",
    "import json\n",
    "\n",
    "gcs_input_uri = BUCKET_URI + \"/\" + \"test.jsonl\"\n",
    "with tf.io.gfile.GFile(gcs_input_uri, \"w\") as f:\n",
    "    bytes = tf.io.read_file(test_item_1)\n",
    "    b64str = base64.b64encode(bytes.numpy()).decode(\"utf-8\")\n",
    "    data = {serving_input: {\"b64\": b64str}}\n",
    "    f.write(json.dumps(data) + \"\\n\")\n",
    "    bytes = tf.io.read_file(test_item_2)\n",
    "    b64str = base64.b64encode(bytes.numpy()).decode(\"utf-8\")\n",
    "    data = {serving_input: {\"b64\": b64str}}\n",
    "    f.write(json.dumps(data) + \"\\n\")"
   ]
  },
  {
   "cell_type": "markdown",
   "metadata": {
    "id": "batch_request:mbsdk,jsonl,custom,cpu,xai"
   },
   "source": [
    "### 发送批量预测请求\n",
    "\n",
    "现在您的模型资源已经训练完成，您可以通过调用batch_predict()方法进行批量预测，使用以下参数：\n",
    "\n",
    "- `job_display_name`：批量预测作业的人类可读名称。\n",
    "- `gcs_source`：一个或多个批处理请求输入文件的列表。\n",
    "- `gcs_destination_prefix`：用于存储批量预测结果的云存储位置。\n",
    "- `instances_format`：输入实例的格式，可以是'csv'或'jsonl'。默认为'jsonl'。\n",
    "- `predictions_format`：输出预测的格式，可以是'csv'或'jsonl'。默认为'jsonl'。\n",
    "- `machine_type`：用于训练的机器类型。\n",
    "- `sync`：是否同步执行作业。如果为False，则作业将在并发Future中执行，并在Future完成时立即返回和同步任何下游对象。"
   ]
  },
  {
   "cell_type": "code",
   "execution_count": null,
   "metadata": {
    "id": "batch_request:mbsdk,jsonl,custom,cpu,xai"
   },
   "outputs": [],
   "source": [
    "MIN_NODES = 1\n",
    "MAX_NODES = 1\n",
    "\n",
    "batch_predict_job = model.batch_predict(\n",
    "    job_display_name=\"cifar10\",\n",
    "    gcs_source=gcs_input_uri,\n",
    "    gcs_destination_prefix=BUCKET_URI,\n",
    "    instances_format=\"jsonl\",\n",
    "    model_parameters=None,\n",
    "    machine_type=DEPLOY_COMPUTE,\n",
    "    starting_replica_count=MIN_NODES,\n",
    "    max_replica_count=MAX_NODES,\n",
    "    generate_explanation=True,\n",
    "    sync=False,\n",
    ")\n",
    "\n",
    "print(batch_predict_job)"
   ]
  },
  {
   "cell_type": "markdown",
   "metadata": {
    "id": "batch_request_wait:mbsdk"
   },
   "source": [
    "### 等待批处理预测作业完成\n",
    "\n",
    "接下来，等待批处理作业完成。或者，可以在`batch_predict（）`方法中将参数`sync`设置为`True`，以阻塞直到批处理预测作业完成。"
   ]
  },
  {
   "cell_type": "code",
   "execution_count": null,
   "metadata": {
    "id": "batch_request_wait:mbsdk"
   },
   "outputs": [],
   "source": [
    "batch_predict_job.wait()"
   ]
  },
  {
   "cell_type": "markdown",
   "metadata": {
    "id": "get_batch_explanation:mbsdk,icn"
   },
   "source": [
    "获取解释\n",
    "\n",
    "接下来，从已完成的批量预测作业中获取解释结果。\n",
    "\n",
    "结果被写入您在批量预测请求中指定的云存储输出桶中。您可以调用iter_outputs()方法来获取生成结果的每个云存储文件的列表。每个文件都以CSV格式包含一个或多个解释请求：\n",
    "\n",
    "- CSV标头 + 预测标签\n",
    "- CSV行 + 解释，每个预测请求一个"
   ]
  },
  {
   "cell_type": "code",
   "execution_count": null,
   "metadata": {
    "id": "get_batch_explanation:mbsdk,icn"
   },
   "outputs": [],
   "source": [
    "import tensorflow as tf\n",
    "\n",
    "bp_iter_outputs = batch_predict_job.iter_outputs()\n",
    "\n",
    "explanation_results = list()\n",
    "for blob in bp_iter_outputs:\n",
    "    if blob.name.split(\"/\")[-1].startswith(\"explanation\"):\n",
    "        explanation_results.append(blob.name)\n",
    "\n",
    "tags = list()\n",
    "for explanation_result in explanation_results:\n",
    "    gfile_name = f\"gs://{bp_iter_outputs.bucket.name}/{explanation_result}\"\n",
    "    with tf.io.gfile.GFile(name=gfile_name, mode=\"r\") as gfile:\n",
    "        for line in gfile.readlines():\n",
    "            print(line)"
   ]
  },
  {
   "cell_type": "markdown",
   "metadata": {
    "id": "cleanup:mbsdk"
   },
   "source": [
    "# 清理\n",
    "\n",
    "要清理此项目中使用的所有谷歌云资源，您可以[删除用于本教程的谷歌云项目](https://cloud.google.com/resource-manager/docs/creating-managing-projects#shutting_down_projects)。\n",
    "\n",
    "否则，您可以删除在本教程中创建的各个资源。\n",
    "\n",
    "将`delete_bucket`设置为**True**以删除云存储存储桶。"
   ]
  },
  {
   "cell_type": "code",
   "execution_count": null,
   "metadata": {
    "id": "cleanup:mbsdk"
   },
   "outputs": [],
   "source": [
    "delete_model = True\n",
    "delete_batch_predict_job = True\n",
    "delete_bucket = False\n",
    "delete_application_directory = False\n",
    "\n",
    "try:\n",
    "    model.delete()\n",
    "except Exception as e:\n",
    "    print(e)\n",
    "\n",
    "try:\n",
    "    batch_predict_job.delete()\n",
    "except Exception as e:\n",
    "    print(e)\n",
    "\n",
    "if delete_bucket:\n",
    "    ! gsutil rm -r $BUCKET_URI\n",
    "\n",
    "if delete_application_directory:\n",
    "    ! rm -rf custom custom.tar.gz temp1.jpg temp2.jpg"
   ]
  }
 ],
 "metadata": {
  "colab": {
   "name": "sdk_custom_image_classification_batch_explain.ipynb",
   "toc_visible": true
  },
  "kernelspec": {
   "display_name": "Python 3",
   "name": "python3"
  }
 },
 "nbformat": 4,
 "nbformat_minor": 0
}
