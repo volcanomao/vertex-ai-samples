{
 "cells": [
  {
   "cell_type": "code",
   "execution_count": null,
   "metadata": {
    "id": "copyright"
   },
   "outputs": [],
   "source": [
    "# Copyright 2021 Google LLC\n",
    "#\n",
    "# Licensed under the Apache License, Version 2.0 (the \"License\");\n",
    "# you may not use this file except in compliance with the License.\n",
    "# You may obtain a copy of the License at\n",
    "#\n",
    "#     https://www.apache.org/licenses/LICENSE-2.0\n",
    "#\n",
    "# Unless required by applicable law or agreed to in writing, software\n",
    "# distributed under the License is distributed on an \"AS IS\" BASIS,\n",
    "# WITHOUT WARRANTIES OR CONDITIONS OF ANY KIND, either express or implied.\n",
    "# See the License for the specific language governing permissions and\n",
    "# limitations under the License."
   ]
  },
  {
   "cell_type": "markdown",
   "metadata": {
    "id": "title:migration,new"
   },
   "source": [
    "# Vertex AI迁移：AutoML表格二元分类\n",
    "\n",
    "<table align=\"left\">\n",
    "\n",
    "  <td>\n",
    "    <a href=\"https://colab.research.google.com/github/GoogleCloudPlatform/vertex-ai-samples/blob/main/notebooks/official/migration/sdk-automl-tabular-binary-classification-online-prediction.ipynb\">\n",
    "      <img src=\"https://cloud.google.com/ml-engine/images/colab-logo-32px.png\" alt=\"Colab logo\"> 在Colab中运行\n",
    "    </a>\n",
    "  </td>\n",
    "  <td>\n",
    "    <a href=\"https://github.com/GoogleCloudPlatform/vertex-ai-samples/blob/main/notebooks/official/migration/sdk-automl-tabular-binary-classification-online-prediction.ipynb\">\n",
    "      <img src=\"https://cloud.google.com/ml-engine/images/github-logo-32px.png\" alt=\"GitHub logo\"> 在GitHub上查看\n",
    "    </a>\n",
    "  </td>\n",
    "  <td>\n",
    "    <a href=\"https://console.cloud.google.com/vertex-ai/workbench/deploy-notebook?download_url=https://raw.githubusercontent.com/GoogleCloudPlatform/vertex-ai-samples/main/notebooks/official/migration/sdk-automl-tabular-binary-classification-online-prediction.ipynb\">\n",
    "      <img src=\"https://lh3.googleusercontent.com/UiNooY4LUgW_oTvpsNhPpQzsstV5W8F7rYgxgGBD85cWJoLmrOzhVs_ksK_vgx40SHs7jCqkTkCk=e14-rj-sc0xffffff-h130-w32\" alt=\"Vertex AI logo\"> 在Vertex AI Workbench中打开\n",
    "    </a>\n",
    "  </td>                                                                                               \n",
    "</table>"
   ]
  },
  {
   "cell_type": "markdown",
   "metadata": {
    "id": "fb82f94bbbc7"
   },
   "source": [
    "## 概述\n",
    "\n",
    "本教程演示了如何使用Vertex AI SDK创建表格二元分类模型，并使用AutoML模型进行在线预测。\n",
    "\n",
    "了解更多关于[迁移到Vertex AI](https://cloud.google.com/vertex-ai/docs/start/migrating-to-vertex-ai)。 了解更多关于[表格数据的分类](https://cloud.google.com/vertex-ai/docs/tabular-data/classification-regression/overview)。"
   ]
  },
  {
   "cell_type": "markdown",
   "metadata": {
    "id": "9f80bba45dd5"
   },
   "source": [
    "### 目标\n",
    "\n",
    "在本教程中，您将使用Vertex AI SDK从Python脚本创建一个AutoML表格二分类模型，并部署到在线预测。您也可以使用`gcloud`命令行工具或通过Cloud Console在线创建和部署模型。\n",
    "\n",
    "本教程使用以下谷歌云机器学习服务和资源：\n",
    "\n",
    "- Vertex AI 管理的数据集\n",
    "- Vertex AI 训练\n",
    "- Vertex AI 终端\n",
    "- Vertex AI 预测\n",
    "\n",
    "执行的步骤包括：\n",
    "\n",
    "- 创建一个Vertex `Dataset`资源。\n",
    "- 训练模型。\n",
    "- 查看模型评估。\n",
    "- 将`Model`资源部署到一个服务`Endpoint`资源。\n",
    "- 进行预测。\n",
    "- 取消部署`Model`。"
   ]
  },
  {
   "cell_type": "markdown",
   "metadata": {
    "id": "dataset:bank,lbn"
   },
   "source": [
    "数据集\n",
    "\n",
    "本教程使用的数据集是[银行营销](https://pantheon.corp.google.com/storage/browser/_details/cloud-ml-tables-data/bank-marketing.csv)。该数据集不需要进行任何特征工程。您在本教程中使用的数据集版本存储在公共云存储桶中。"
   ]
  },
  {
   "cell_type": "markdown",
   "metadata": {
    "id": "costs"
   },
   "source": [
    "成本\n",
    "\n",
    "本教程使用Google Cloud的计费组件：\n",
    "\n",
    "* Vertex AI\n",
    "* 云存储\n",
    "\n",
    "了解[Vertex AI的定价](https://cloud.google.com/vertex-ai/pricing)和[云存储的定价](https://cloud.google.com/storage/pricing)，并使用[定价计算器](https://cloud.google.com/products/calculator/)根据您预计的使用情况生成成本估算。"
   ]
  },
  {
   "cell_type": "markdown",
   "metadata": {
    "id": "install_aip:mbsdk"
   },
   "source": [
    "## 安装\n",
    "\n",
    "安装以下所需的包以执行此笔记本。"
   ]
  },
  {
   "cell_type": "code",
   "execution_count": null,
   "metadata": {
    "id": "install_aip:mbsdk"
   },
   "outputs": [],
   "source": [
    "! pip3 install --upgrade --quiet google-cloud-aiplatform fsspec gcsfs"
   ]
  },
  {
   "cell_type": "markdown",
   "metadata": {
    "id": "restart"
   },
   "source": [
    "### 仅限协作：取消以下单元格的注释以重新启动内核"
   ]
  },
  {
   "cell_type": "code",
   "execution_count": null,
   "metadata": {
    "id": "D-ZBOjErv5mM"
   },
   "outputs": [],
   "source": [
    "# Automatically restart kernel after installs so that your environment can access the new packages\n",
    "# import IPython\n",
    "\n",
    "# app = IPython.Application.instance()\n",
    "# app.kernel.do_shutdown(True)"
   ]
  },
  {
   "cell_type": "markdown",
   "metadata": {
    "id": "before_you_begin:nogpu"
   },
   "source": [
    "在你开始之前"
   ]
  },
  {
   "cell_type": "markdown",
   "metadata": {
    "id": "before_you_begin:nogpu"
   },
   "source": [
    "### 设置您的项目ID\n",
    "\n",
    "**如果您不知道您的项目ID**，请尝试以下方法:\n",
    "* 运行 `gcloud config list`。\n",
    "* 运行 `gcloud projects list`。\n",
    "* 查看支持页面: [查找项目ID](https://support.google.com/googleapi/answer/7014113)"
   ]
  },
  {
   "cell_type": "code",
   "execution_count": null,
   "metadata": {
    "id": "set_project_id"
   },
   "outputs": [],
   "source": [
    "PROJECT_ID = \"[your-project-id]\"  # @param {type:\"string\"}\n",
    "\n",
    "# Set the project id\n",
    "! gcloud config set project {PROJECT_ID}"
   ]
  },
  {
   "cell_type": "markdown",
   "metadata": {
    "id": "region"
   },
   "source": [
    "#### 区域\n",
    "\n",
    "您还可以更改 Vertex AI 使用的 `REGION` 变量。了解有关 [Vertex AI 区域](https://cloud.google.com/vertex-ai/docs/general/locations) 的更多信息。"
   ]
  },
  {
   "cell_type": "code",
   "execution_count": null,
   "metadata": {
    "id": "region"
   },
   "outputs": [],
   "source": [
    "REGION = \"us-central1\"  # @param {type: \"string\"}"
   ]
  },
  {
   "cell_type": "markdown",
   "metadata": {
    "id": "timestamp"
   },
   "source": [
    "UUID\n",
    "\n",
    "如果您正在进行现场教程会话，您可能正在使用一个共享的测试账户或项目。为了避免用户在创建的资源之间的名称冲突，您为每个实例会话创建一个 UUID，并将其附加到您在本教程中创建的资源的名称上。"
   ]
  },
  {
   "cell_type": "code",
   "execution_count": null,
   "metadata": {
    "id": "timestamp"
   },
   "outputs": [],
   "source": [
    "import random\n",
    "import string\n",
    "\n",
    "\n",
    "# Generate a uuid of a specifed length(default=8)\n",
    "def generate_uuid(length: int = 8) -> str:\n",
    "    return \"\".join(random.choices(string.ascii_lowercase + string.digits, k=length))\n",
    "\n",
    "\n",
    "UUID = generate_uuid()"
   ]
  },
  {
   "cell_type": "markdown",
   "metadata": {
    "id": "gcp_authenticate"
   },
   "source": [
    "### 验证您的Google云帐户\n",
    "\n",
    "根据您的Jupyter环境，您可能需要手动进行验证。请按照以下相关说明进行操作。\n",
    "\n",
    "**1. Vertex AI Workbench**\n",
    "* 不需要进行任何操作，因为您已经验证过了。\n",
    "\n",
    "**2. 本地JupyterLab实例，请取消注释并运行：**"
   ]
  },
  {
   "cell_type": "code",
   "execution_count": null,
   "metadata": {
    "id": "ce6043da7b33"
   },
   "outputs": [],
   "source": [
    "# ! gcloud auth login"
   ]
  },
  {
   "cell_type": "markdown",
   "metadata": {
    "id": "0367eac06a10"
   },
   "source": [
    "3. 合作，取消注释并运行："
   ]
  },
  {
   "cell_type": "code",
   "execution_count": null,
   "metadata": {
    "id": "21ad4dbb4a61"
   },
   "outputs": [],
   "source": [
    "# from google.colab import auth\n",
    "# auth.authenticate_user()"
   ]
  },
  {
   "cell_type": "markdown",
   "metadata": {
    "id": "c13224697bfb"
   },
   "source": [
    "请看如何在https://cloud.google.com/storage/docs/gsutil/commands/iam#ch-examples为您的服务账户授予Cloud Storage权限。"
   ]
  },
  {
   "cell_type": "markdown",
   "metadata": {
    "id": "bucket:mbsdk"
   },
   "source": [
    "创建一个云存储桶\n",
    "\n",
    "创建一个存储桶来存储中间产物，比如数据集。"
   ]
  },
  {
   "cell_type": "code",
   "execution_count": null,
   "metadata": {
    "id": "bucket"
   },
   "outputs": [],
   "source": [
    "BUCKET_URI = f\"gs://your-bucket-name-{PROJECT_ID}-unique\"  # @param {type:\"string\"}"
   ]
  },
  {
   "cell_type": "markdown",
   "metadata": {
    "id": "create_bucket"
   },
   "source": [
    "只有在您的存储桶尚不存在时才运行以下单元格以创建您的云存储存储桶。"
   ]
  },
  {
   "cell_type": "code",
   "execution_count": null,
   "metadata": {
    "id": "create_bucket"
   },
   "outputs": [],
   "source": [
    "! gsutil mb -l {REGION} {BUCKET_URI}"
   ]
  },
  {
   "cell_type": "markdown",
   "metadata": {
    "id": "setup_vars"
   },
   "source": [
    "### 导入库并定义常量"
   ]
  },
  {
   "cell_type": "code",
   "execution_count": null,
   "metadata": {
    "id": "import_aip:mbsdk"
   },
   "outputs": [],
   "source": [
    "import google.cloud.aiplatform as aip\n",
    "import pandas as pd"
   ]
  },
  {
   "cell_type": "markdown",
   "metadata": {
    "id": "init_aip:mbsdk"
   },
   "source": [
    "## 初始化 Vertex AI SDK for Python\n",
    "\n",
    "为您的项目和相应的存储桶初始化 Vertex AI SDK for Python。"
   ]
  },
  {
   "cell_type": "code",
   "execution_count": null,
   "metadata": {
    "id": "init_aip:mbsdk"
   },
   "outputs": [],
   "source": [
    "aip.init(project=PROJECT_ID, staging_bucket=BUCKET_URI)"
   ]
  },
  {
   "cell_type": "markdown",
   "metadata": {
    "id": "import_file:u_dataset,csv"
   },
   "source": [
    "#### 云存储培训数据的位置。\n",
    "\n",
    "现在将变量`IMPORT_FILE`设置为云存储中CSV索引文件的位置。"
   ]
  },
  {
   "cell_type": "code",
   "execution_count": null,
   "metadata": {
    "id": "import_file:bank,csv,lbn"
   },
   "outputs": [],
   "source": [
    "IMPORT_FILE = \"gs://cloud-ml-tables-data/bank-marketing.csv\""
   ]
  },
  {
   "cell_type": "markdown",
   "metadata": {
    "id": "quick_peek:tabular"
   },
   "source": [
    "快速查看您的数据\n",
    "\n",
    "本教程使用存储在公共云存储桶中的 Bank Marketing 数据集的一个版本，使用 CSV 索引文件。\n",
    "\n",
    "首先快速查看数据。您可以通过计算 CSV 索引文件中的行数（`wc -l`）来统计示例的数量，然后查看前几行。\n",
    "\n",
    "您还需要在训练过程中知道标签列的标题名称，该名称保存为 `label_column`。对于该数据集，标签列是 CSV 文件中的最后一列。"
   ]
  },
  {
   "cell_type": "code",
   "execution_count": null,
   "metadata": {
    "id": "quick_peek:tabular"
   },
   "outputs": [],
   "source": [
    "count = ! gsutil cat $IMPORT_FILE | wc -l\n",
    "print(\"Number of Examples\", int(count[0]))\n",
    "\n",
    "print(\"First 10 rows\")\n",
    "! gsutil cat $IMPORT_FILE | head\n",
    "\n",
    "heading = ! gsutil cat $IMPORT_FILE | head -n1\n",
    "label_column = str(heading).split(\",\")[-1].split(\"'\")[0]\n",
    "print(\"Label Column Name\", label_column)\n",
    "if label_column is None:\n",
    "    raise Exception(\"label column missing\")"
   ]
  },
  {
   "cell_type": "markdown",
   "metadata": {
    "id": "create_a_dataset:migration"
   },
   "source": [
    "创建数据集"
   ]
  },
  {
   "cell_type": "markdown",
   "metadata": {
    "id": "datasets_create:migration,new,mbsdk"
   },
   "source": [
    "### [datasets.create-dataset-api](https://cloud.google.com/vertex-ai/docs/datasets/create-dataset-api)\n",
    "\n",
    "### [数据集创建API](https://cloud.google.com/vertex-ai/docs/datasets/create-dataset-api)"
   ]
  },
  {
   "cell_type": "markdown",
   "metadata": {
    "id": "create_dataset:tabular,lbn"
   },
   "source": [
    "创建数据集\n",
    "\n",
    "接下来，使用 `TabularDataset` 类的 `create` 方法创建 `Dataset` 资源，需要传入以下参数：\n",
    "\n",
    "- `display_name`： `Dataset` 资源的可读名称。\n",
    "- `gcs_source`：将一个或多个数据集索引文件导入到 `Dataset` 资源中。\n",
    "- `bq_source`：或者，从BigQuery表中导入数据项到 `Dataset` 资源中。\n",
    "\n",
    "此操作可能需要几分钟时间。"
   ]
  },
  {
   "cell_type": "code",
   "execution_count": null,
   "metadata": {
    "id": "create_dataset:tabular,lbn"
   },
   "outputs": [],
   "source": [
    "dataset = aip.TabularDataset.create(\n",
    "    display_name=\"Bank Marketing\" + \"_\" + UUID, gcs_source=[IMPORT_FILE]\n",
    ")\n",
    "\n",
    "print(dataset.resource_name)"
   ]
  },
  {
   "cell_type": "markdown",
   "metadata": {
    "id": "create_dataset:tabular,lbn"
   },
   "source": [
    "INFO：google.cloud.aiplatform.datasets.dataset：创建表格数据集\n",
    "INFO：google.cloud.aiplatform.datasets.dataset：创建表格数据集支持的LRO：projects/759209241365/locations/us-central1/datasets/5048649531491614720/operations/752335608625496064\n",
    "INFO：google.cloud.aiplatform.datasets.dataset：已创建TabularDataset。资源名称：projects/759209241365/locations/us-central1/datasets/5048649531491614720\n",
    "INFO：google.cloud.aiplatform.datasets.dataset：要在另一个会话中使用此TabularDataset：\n",
    "INFO：google.cloud.aiplatform.datasets.dataset：ds = aiplatform.TabularDataset('projects/759209241365/locations/us-central1/datasets/5048649531491614720')\n",
    "projects/759209241365/locations/us-central1/datasets/5048649531491614720"
   ]
  },
  {
   "cell_type": "markdown",
   "metadata": {
    "id": "train_a_model:migration"
   },
   "source": [
    "训练一个模型"
   ]
  },
  {
   "cell_type": "markdown",
   "metadata": {
    "id": "trainingpipelines_create:migration,new,mbsdk"
   },
   "source": [
    "### [training.automl-api] (https://cloud.google.com/vertex-ai/docs/training/automl-api)\n",
    "\n",
    "### [训练. 自动机器学习 API] (https://cloud.google.com/vertex-ai/docs/training/automl-api)"
   ]
  },
  {
   "cell_type": "markdown",
   "metadata": {
    "id": "create_automl_pipeline:tabular,lbn"
   },
   "source": [
    "### 创建和运行训练管道\n",
    "\n",
    "要训练一个AutoML模型，您需要执行两个步骤：1）创建一个训练管道，2）运行该管道。\n",
    "\n",
    "#### 创建训练管道\n",
    "\n",
    "可以使用`AutoMLTabularTrainingJob`类创建一个AutoML训练管道，使用以下参数：\n",
    "\n",
    "- `display_name`：`TrainingJob`资源的可读名称。\n",
    "- `optimization_prediction_type`：要为模型训练的任务类型。\n",
    "  - `classification`：一个表格分类模型。\n",
    "  - `regression`：一个表格回归模型。\n",
    "- `column_transformations`：（可选）要应用于输入列的转换。\n",
    "- `optimization_objective`：要最小化或最大化的优化目标。\n",
    "  - 二元分类：\n",
    "    - `minimize-log-loss`\n",
    "    - `maximize-au-roc`\n",
    "    - `maximize-au-prc`\n",
    "    - `maximize-precision-at-recall`\n",
    "    - `maximize-recall-at-precision`\n",
    "  - 多类别分类：\n",
    "    - `minimize-log-loss`\n",
    "  - 回归：\n",
    "    - `minimize-rmse`\n",
    "    - `minimize-mae`\n",
    "    - `minimize-rmsle`\n",
    "\n",
    "实例化的对象是训练管道的有向无环图（DAG）。"
   ]
  },
  {
   "cell_type": "code",
   "execution_count": null,
   "metadata": {
    "id": "create_automl_pipeline:tabular,lbn"
   },
   "outputs": [],
   "source": [
    "job = aip.AutoMLTabularTrainingJob(\n",
    "    display_name=\"bank_\" + UUID,\n",
    "    optimization_prediction_type=\"classification\",\n",
    "    optimization_objective=\"minimize-log-loss\",\n",
    ")\n",
    "\n",
    "print(job)"
   ]
  },
  {
   "cell_type": "markdown",
   "metadata": {
    "id": "create_automl_pipeline:tabular,lbn"
   },
   "source": [
    "*示例输出：*\n",
    "\n",
    "<google.cloud.aiplatform.training_jobs.AutoMLTabularTrainingJob对象，位于0x7fc3b6c90f10处>"
   ]
  },
  {
   "cell_type": "markdown",
   "metadata": {
    "id": "run_automl_pipeline:tabular"
   },
   "source": [
    "#### 运行训练管道\n",
    "\n",
    "接下来，您可以通过调用方法 `run` 并传入以下参数来运行 DAG 以开始训练作业：\n",
    "\n",
    "- `dataset`: 用于训练模型的 `Dataset` 资源。\n",
    "- `model_display_name`: 训练模型的可读名称。\n",
    "- `training_fraction_split`: 用于训练的数据集百分比。\n",
    "- `test_fraction_split`: 用于测试（留置数据）的数据集百分比。\n",
    "- `validation_fraction_split`: 用于验证的数据集百分比。\n",
    "- `target_column`: 要训练的列的名称。\n",
    "- `budget_milli_node_hours`: （可选）最大训练时间，以毫小时为单位（1000 = 小时）。\n",
    "- `disable_early_stopping`: 如果设置为 `True`，服务可能会在整个预算使用之前完成训练，如果服务认为无法进一步改善模型目标测量。\n",
    "\n",
    "`run` 方法执行完成后会返回 `Model` 资源。\n",
    "\n",
    "训练管道的执行将需要最多 20 分钟。"
   ]
  },
  {
   "cell_type": "code",
   "execution_count": null,
   "metadata": {
    "id": "run_automl_pipeline:tabular"
   },
   "outputs": [],
   "source": [
    "model = job.run(\n",
    "    dataset=dataset,\n",
    "    model_display_name=\"bank_\" + UUID,\n",
    "    training_fraction_split=0.6,\n",
    "    validation_fraction_split=0.2,\n",
    "    test_fraction_split=0.2,\n",
    "    budget_milli_node_hours=1000,\n",
    "    disable_early_stopping=False,\n",
    "    target_column=label_column,\n",
    ")"
   ]
  },
  {
   "cell_type": "markdown",
   "metadata": {
    "id": "run_automl_pipeline:tabular"
   },
   "source": [
    "示例输出：\n",
    "\n",
    "    INFO: google.cloud.aiplatform.training_jobs:未提供列变换，因此现在从数据集中检索列以设置默认列变换。\n",
    "    INFO: google.cloud.aiplatform.training_jobs:已设置以下列的类型“auto”列变换：['Day'，'Month'，'MaritalStatus'，'Job'，'Balance'，'Housing'，'Contact'，'Duration'，'Education'，'Previous'，'Loan'，'PDays'，'POutcome'，'Age'，'Default'，'Campaign']。\n",
    "    INFO: google.cloud.aiplatform.training_jobs:查看培训：\n",
    "    https://console.cloud.google.com/ai/platform/locations/us-central1/training/4626265542611697664？project=759209241365\n",
    "    INFO: google.cloud.aiplatform.training_jobs：AutoMLTabularTrainingJob projects/759209241365/locations/us-central1/trainingPipelines/4626265542611697664 当前状态：\n",
    "    PipelineState.PIPELINE_STATE_RUNNING\n",
    "    INFO: google.cloud.aiplatform.training_jobs：AutoMLTabularTrainingJob projects/759209241365/locations/us-central1/trainingPipelines/4626265542611697664 当前状态：\n",
    "    PipelineState.PIPELINE_STATE_RUNNING\n",
    "    INFO: google.cloud.aiplatform.training_jobs：AutoMLTabularTrainingJob projects/759209241365/locations/us-central1/trainingPipelines/4626265542611697664 当前状态：\n",
    "    PipelineState.PIPELINE_STATE_RUNNING\n",
    "    INFO: google.cloud.aiplatform.training_jobs：AutoMLTabularTrainingJob projects/759209241365/locations/us-central1/trainingPipelines/4626265542611697664 当前状态：\n",
    "    PipelineState.PIPELINE_STATE_RUNNING\n",
    "    INFO: google.cloud.aiplatform.training_jobs：AutoMLTabularTrainingJob projects/759209241365/locations/us-central1/trainingPipelines/4626265542611697664 当前状态：\n",
    "    PipelineState.PIPELINE_STATE_RUNNING\n",
    "    ...\n",
    "    INFO: google.cloud.aiplatform.training_jobs：AutoMLTabularTrainingJob 运行完成。资源名称：projects/759209241365/locations/us-central1/trainingPipelines/3915928254510268416\n",
    "    INFO: google.cloud.aiplatform.training_jobs：项目/759209241365/locations/us-central1/models/6324223757200130048 处提供的模型。"
   ]
  },
  {
   "cell_type": "markdown",
   "metadata": {
    "id": "evaluate_the_model:migration"
   },
   "source": [
    "## 评估模型"
   ]
  },
  {
   "cell_type": "markdown",
   "metadata": {
    "id": "models_evaluations_list:migration,new"
   },
   "source": [
    "### [projects.locations.models.evaluations.list](https://cloud.devsite.corp.google.com/ai-platform-unified/docs/reference/rest/v1beta1/projects.locations.models.evaluations/list)\n",
    "\n",
    "### [项目位置模型评估列表](https://cloud.devsite.corp.google.com/ai-platform-unified/docs/reference/rest/v1beta1/projects.locations.models.evaluations/list)"
   ]
  },
  {
   "cell_type": "markdown",
   "metadata": {
    "id": "evaluate_the_model:mbsdk"
   },
   "source": [
    "## 评估模型评分\n",
    "在您的模型训练完成后，您可以查看其评估分数。\n",
    "\n",
    "首先，您需要获取对新模型的引用。与数据集一样，您可以使用在部署模型时创建的模型变量的引用，或者列出项目中的所有模型。"
   ]
  },
  {
   "cell_type": "code",
   "execution_count": null,
   "metadata": {
    "id": "evaluate_the_model:mbsdk"
   },
   "outputs": [],
   "source": [
    "# Get model resource ID\n",
    "models = aip.Model.list(filter=\"display_name=bank_\" + UUID)\n",
    "\n",
    "# Get a reference to the Model Service client\n",
    "client_options = {\"api_endpoint\": f\"{REGION}-aiplatform.googleapis.com\"}\n",
    "model_service_client = aip.gapic.ModelServiceClient(client_options=client_options)\n",
    "\n",
    "model_evaluations = model_service_client.list_model_evaluations(\n",
    "    parent=models[0].resource_name\n",
    ")\n",
    "model_evaluation = list(model_evaluations)[0]\n",
    "print(model_evaluation)"
   ]
  },
  {
   "cell_type": "markdown",
   "metadata": {
    "id": "evaluate_the_model:mbsdk"
   },
   "source": [
    "*示例输出：*\n",
    "\n",
    "    名称：\"projects/759209241365/locations/us-central1/models/623915674158235648/evaluations/4280507618583117824\"\n",
    "    指标模式URI：\"gs://google-cloud-aiplatform/schema/modelevaluation/classification_metrics_1.0.0.yaml\"\n",
    "    指标 {\n",
    "      结构值 {\n",
    "        字段 {\n",
    "          键：\"auPrc\"\n",
    "          值 {\n",
    "            数值:0.9891107\n",
    "          }\n",
    "        }\n",
    "        字段 {\n",
    "          键：\"confidenceMetrics\"\n",
    "          值 {\n",
    "            列表值 {\n",
    "              值 {\n",
    "                结构值 {\n",
    "                  字段 {\n",
    "                    键：\"precision\"\n",
    "                    值 {\n",
    "                      数值:0.2\n",
    "                    }\n",
    "                  }\n",
    "                  字段 {\n",
    "                    键：\"recall\"\n",
    "                    值 {\n",
    "                      数值:1.0\n",
    "                    }\n",
    "                  }\n",
    "                }\n",
    "              }"
   ]
  },
  {
   "cell_type": "markdown",
   "metadata": {
    "id": "make_batch_predictions:migration"
   },
   "source": [
    "进行批量预测"
   ]
  },
  {
   "cell_type": "markdown",
   "metadata": {
    "id": "batchpredictionjobs_create:migration,new,mbsdk"
   },
   "source": [
    "### [predictions.batch-prediction](https://cloud.google.com/vertex-ai/docs/predictions/batch-predictions)\n",
    "\n",
    "### [批处理预测](https://cloud.google.com/vertex-ai/docs/predictions/batch-predictions)"
   ]
  },
  {
   "cell_type": "markdown",
   "metadata": {
    "id": "make_test_items:automl,batch_prediction"
   },
   "source": [
    "制作测试项目\n",
    "\n",
    "您可以使用合成数据作为测试数据项目。不要担心我们使用的是合成数据 - 我们只是想演示如何进行预测。"
   ]
  },
  {
   "cell_type": "markdown",
   "metadata": {
    "id": "make_batch_file:automl,tabular,alt"
   },
   "source": [
    "制作批处理输入文件\n",
    "\n",
    "现在制作一个批处理输入文件，将其存储在您的本地云存储桶中。与图像、视频和文本不同，表格的批处理输入文件仅支持CSV格式。对于CSV文件，您需要：\n",
    "\n",
    "- 第一行是带有特征（字段）标题名称的标题。\n",
    "- 每个剩余行是具有相应特征值的单独预测请求。\n",
    "\n",
    "例如：\n",
    "\n",
    "    \"feature_1\", \"feature_2\". ...\n",
    "    value_1, value_2, ..."
   ]
  },
  {
   "cell_type": "code",
   "execution_count": null,
   "metadata": {
    "id": "make_batch_file:automl,tabular,alt"
   },
   "outputs": [],
   "source": [
    "! gsutil cat $IMPORT_FILE | head -n 1 > tmp.csv\n",
    "! gsutil cat $IMPORT_FILE | tail -n 10 >> tmp.csv\n",
    "\n",
    "! cut -d, -f1-16 tmp.csv > batch.csv\n",
    "\n",
    "gcs_input_uri = BUCKET_URI + \"/test.csv\"\n",
    "\n",
    "! gsutil cp batch.csv $gcs_input_uri"
   ]
  },
  {
   "cell_type": "markdown",
   "metadata": {
    "id": "batch_request:mbsdk,both_csv"
   },
   "source": [
    "### 进行批量预测请求\n",
    "\n",
    "现在您的模型资源已经训练好了，您可以通过调用 batch_predict() 方法来进行批量预测，参数如下：\n",
    "\n",
    "- `job_display_name`: 批量预测作业的人类可读名称。\n",
    "- `gcs_source`: 一个或多个批量请求输入文件的列表。\n",
    "- `gcs_destination_prefix`: 用于存储批量预测结果的云存储位置。\n",
    "- `instances_format`: 输入实例的格式，可以是'csv'或'jsonl'。默认为'jsonl'。\n",
    "- `predictions_format`: 输出预测的格式，可以是'csv'或'jsonl'。默认为'jsonl'。\n",
    "- `sync`: 如果设置为True，则调用会阻塞，直到异步批量作业完成。"
   ]
  },
  {
   "cell_type": "code",
   "execution_count": null,
   "metadata": {
    "id": "batch_request:mbsdk,both_csv"
   },
   "outputs": [],
   "source": [
    "batch_predict_job = model.batch_predict(\n",
    "    job_display_name=\"bank_\" + UUID,\n",
    "    gcs_source=gcs_input_uri,\n",
    "    gcs_destination_prefix=BUCKET_URI,\n",
    "    instances_format=\"csv\",\n",
    "    predictions_format=\"csv\",\n",
    "    sync=False,\n",
    ")\n",
    "\n",
    "print(batch_predict_job)"
   ]
  },
  {
   "cell_type": "markdown",
   "metadata": {
    "id": "batch_request:mbsdk,both_csv"
   },
   "source": [
    "示例输出：\n",
    "\n",
    "INFO：google.cloud.aiplatform.jobs：正在创建BatchPredictionJob\n",
    "<google.cloud.aiplatform.jobs.BatchPredictionJob object at 0x7f806a6112d0> 正在等待上游依赖项完成。\n",
    "INFO：google.cloud.aiplatform.jobs：已创建BatchPredictionJob。资源名称：projects/759209241365/locations/us-central1/batchPredictionJobs/5110965452507447296\n",
    "INFO：google.cloud.aiplatform.jobs：要在另一个会话中使用此BatchPredictionJob：\n",
    "INFO：google.cloud.aiplatform.jobs：bpj = aiplatform.BatchPredictionJob('projects/759209241365/locations/us-central1/batchPredictionJobs/5110965452507447296')\n",
    "INFO：google.cloud.aiplatform.jobs：查看批量预测作业：\n",
    "https://console.cloud.google.com/ai/platform/locations/us-central1/batch-predictions/5110965452507447296?project=759209241365\n",
    "INFO：google.cloud.aiplatform.jobs：BatchPredictionJob projects/759209241365/locations/us-central1/batchPredictionJobs/5110965452507447296 当前状态：\n",
    "JobState.JOB_STATE_RUNNING"
   ]
  },
  {
   "cell_type": "markdown",
   "metadata": {
    "id": "batch_request_wait:mbsdk"
   },
   "source": [
    "### 等待批量预测作业完成\n",
    "\n",
    "接下来，等待批量作业完成。或者，可以在`batch_predict()`方法中将参数`sync`设置为`True`，以阻塞直到批次预测作业完成。"
   ]
  },
  {
   "cell_type": "code",
   "execution_count": null,
   "metadata": {
    "id": "batch_request_wait:mbsdk"
   },
   "outputs": [],
   "source": [
    "batch_predict_job.wait()"
   ]
  },
  {
   "cell_type": "markdown",
   "metadata": {
    "id": "batch_request_wait:mbsdk"
   },
   "source": [
    "示例输出：\n",
    "\n",
    "    信息：google.cloud.aiplatform.jobs：已创建BatchPredictionJob。资源名称：projects/759209241365/locations/us-central1/batchPredictionJobs/181835033978339328\n",
    "    信息：google.cloud.aiplatform.jobs：要在另一个会话中使用此BatchPredictionJob：\n",
    "    信息：google.cloud.aiplatform.jobs：bpj = aiplatform.BatchPredictionJob('projects/759209241365/locations/us-central1/batchPredictionJobs/181835033978339328')\n",
    "    信息：google.cloud.aiplatform.jobs：查看批量预测作业：\n",
    "    https://console.cloud.google.com/ai/platform/locations/us-central1/batch-predictions/181835033978339328?project=759209241365\n",
    "    信息：google.cloud.aiplatform.jobs：批量预测作业projects/759209241365/locations/us-central1/batchPredictionJobs/181835033978339328当前状态：\n",
    "    JobState.JOB_STATE_RUNNING\n",
    "    信息：google.cloud.aiplatform.jobs：批量预测作业projects/759209241365/locations/us-central1/batchPredictionJobs/181835033978339328当前状态：\n",
    "    JobState.JOB_STATE_RUNNING\n",
    "    ...\n",
    "    信息：google.cloud.aiplatform.jobs：批量预测作业projects/759209241365/locations/us-central1/batchPredictionJobs/181835033978339328当前状态：\n",
    "    JobState.JOB_STATE_SUCCEEDED\n",
    "    信息：google.cloud.aiplatform.jobs：批量预测作业运行已完成。资源名称：projects/759209241365/locations/us-central1/batchPredictionJobs/181835033978339328"
   ]
  },
  {
   "cell_type": "markdown",
   "metadata": {
    "id": "get_batch_prediction:mbsdk,lbn"
   },
   "source": [
    "获取预测结果\n",
    "\n",
    "接下来，从已完成的批量预测作业中获取结果。\n",
    "\n",
    "结果将写入您在批量预测请求中指定的云存储输出桶中。您可以调用iter_outputs()方法来获取生成结果的每个云存储文件的列表。每个文件包含一个或多个以CSV格式表示的预测请求：\n",
    "\n",
    "- CSV标题+预测标签\n",
    "- CSV行+预测，每个预测请求一个"
   ]
  },
  {
   "cell_type": "code",
   "execution_count": null,
   "metadata": {
    "id": "get_batch_prediction:mbsdk,lbn"
   },
   "outputs": [],
   "source": [
    "bp_iter_outputs = batch_predict_job.iter_outputs()\n",
    "\n",
    "prediction_results = list()\n",
    "for blob in bp_iter_outputs:\n",
    "    if blob.name.split(\"/\")[-1].startswith(\"prediction.results\"):\n",
    "        prediction_results.append(blob.name)\n",
    "\n",
    "for prediction_result in prediction_results:\n",
    "    gfile_name = f\"gs://{bp_iter_outputs.bucket.name}/{prediction_result}\"\n",
    "    df = pd.read_csv(gfile_name)\n",
    "    print(f\"File name: {gfile_name}\")\n",
    "    print(\"Prediction: \\n\\n\\n\\n\")\n",
    "    print(df)\n",
    "    print(\"\\n\\n\\n\")"
   ]
  },
  {
   "cell_type": "markdown",
   "metadata": {
    "id": "get_batch_prediction:mbsdk,lbn"
   },
   "source": [
    "文件名：gs://vertex-ai-devaip-5j22pmou/prediction-bank_5j22pmou-2022_08_24T01_05_46_028Z/prediction.results-00005-of-00008.csv\n",
    "預測：\n",
    "\n",
    "年龄        工作      婚姻状态    教育     默认值     余额      住房     贷款\n",
    "57     蓝领     已婚     中等教育    否        668     否       否\n",
    "\n",
    "    联系方式    天数     月份     持续时间     宣传活动    上次联系间隔    之前的联系次数    上一个结果\n",
    "电话    17      十一月     508         4           -1             0              未知\n",
    "\n",
    "    存款1分数    存款2分数\n",
    "0.847498   0.152502"
   ]
  },
  {
   "cell_type": "markdown",
   "metadata": {
    "id": "make_online_predictions:migration"
   },
   "source": [
    "进行在线预测"
   ]
  },
  {
   "cell_type": "markdown",
   "metadata": {
    "id": "deploy_model:migration,new,mbsdk"
   },
   "source": [
    "### [predictions.deploy-model-api](https://cloud.google.com/vertex-ai/docs/predictions/deploy-model-api)\n",
    "\n",
    "### [模型部署API](https://cloud.google.com/vertex-ai/docs/predictions/deploy-model-api)"
   ]
  },
  {
   "cell_type": "markdown",
   "metadata": {
    "id": "deploy_model:mbsdk,dedicated"
   },
   "source": [
    "## 部署模型\n",
    "\n",
    "接下来，将您的模型部署到在线预测中。 要部署模型，您需要调用`deploy`方法，并传入以下参数：\n",
    "\n",
    "- `machine_type`：计算机的类型。"
   ]
  },
  {
   "cell_type": "code",
   "execution_count": null,
   "metadata": {
    "id": "deploy_model:mbsdk,dedicated"
   },
   "outputs": [],
   "source": [
    "endpoint = model.deploy(machine_type=\"n1-standard-4\")"
   ]
  },
  {
   "cell_type": "markdown",
   "metadata": {
    "id": "deploy_model:mbsdk,dedicated"
   },
   "source": [
    "示例输出：\n",
    "\n",
    "    INFO: google.cloud.aiplatform.models: 创建端点\n",
    "    INFO: google.cloud.aiplatform.models: 创建端点支持的 LRO: projects/759209241365/locations/us-central1/endpoints/4867177336350441472/operations/4087251132693348352\n",
    "    INFO: google.cloud.aiplatform.models: 端点已创建。资源名称：projects/759209241365/locations/us-central1/endpoints/4867177336350441472\n",
    "    INFO: google.cloud.aiplatform.models: 要在另一个会话中使用此端点：\n",
    "    INFO: google.cloud.aiplatform.models: endpoint = aiplatform.Endpoint('projects/759209241365/locations/us-central1/endpoints/4867177336350441472')\n",
    "    INFO: google.cloud.aiplatform.models: 将模型部署到端点：projects/759209241365/locations/us-central1/endpoints/4867177336350441472\n",
    "    INFO: google.cloud.aiplatform.models: 部署端点模型支持的 LRO: projects/759209241365/locations/us-central1/endpoints/4867177336350441472/operations/1691336130932244480\n",
    "    INFO: google.cloud.aiplatform.models: 端点模型已部署。资源名称：projects/759209241365/locations/us-central1/endpoints/4867177336350441472"
   ]
  },
  {
   "cell_type": "markdown",
   "metadata": {
    "id": "endpoints_predict:migration,new,mbsdk"
   },
   "source": [
    "[预测.online-预测-autoML](https://cloud.google.com/vertex-ai/docs/predictions/online-predictions-automl)"
   ]
  },
  {
   "cell_type": "markdown",
   "metadata": {
    "id": "make_test_item:automl,online_prediction"
   },
   "source": [
    "制作测试项目\n",
    "\n",
    "您将合成数据用作测试数据项。不用担心我们使用合成数据 - 我们只是想演示如何进行预测。"
   ]
  },
  {
   "cell_type": "code",
   "execution_count": null,
   "metadata": {
    "id": "make_test_item:automl,tabular,bank"
   },
   "outputs": [],
   "source": [
    "INSTANCE = {\n",
    "    \"Age\": \"58\",\n",
    "    \"Job\": \"managment\",\n",
    "    \"MaritalStatus\": \"married\",\n",
    "    \"Education\": \"teritary\",\n",
    "    \"Default\": \"no\",\n",
    "    \"Balance\": \"2143\",\n",
    "    \"Housing\": \"yes\",\n",
    "    \"Loan\": \"no\",\n",
    "    \"Contact\": \"unknown\",\n",
    "    \"Day\": \"5\",\n",
    "    \"Month\": \"may\",\n",
    "    \"Duration\": \"261\",\n",
    "    \"Campaign\": \"1\",\n",
    "    \"PDays\": \"-1\",\n",
    "    \"Previous\": \"0\",\n",
    "    \"POutcome\": \"unknown\",\n",
    "}"
   ]
  },
  {
   "cell_type": "markdown",
   "metadata": {
    "id": "predict_request:mbsdk,lbn"
   },
   "source": [
    "### 进行预测\n",
    "\n",
    "现在您的`Model`资源已部署到一个`Endpoint`资源，您可以通过向`Endpoint`资源发送预测请求来进行在线预测。\n",
    "\n",
    "#### 请求\n",
    "\n",
    "每个实例的格式为：\n",
    "\n",
    "    [feature_list]\n",
    "\n",
    "由于`predict()`方法可以接受多个项目（实例），请将您的单个测试项目发送为一个测试项目列表。\n",
    "\n",
    "#### 响应\n",
    "\n",
    "从`predict()`调用得到的响应是一个包含以下条目的Python字典：\n",
    "\n",
    "- `ids`: 每个预测请求的内部分配的唯一标识符。\n",
    "- `displayNames`: 每个类标签的类名。\n",
    "- `confidences`: 每个类标签的预测概率，介于0和1之间。\n",
    "- `deployed_model_id`: 执行预测的部署过的`Model`资源的Vertex AI标识符。"
   ]
  },
  {
   "cell_type": "code",
   "execution_count": null,
   "metadata": {
    "id": "predict_request:mbsdk,lbn"
   },
   "outputs": [],
   "source": [
    "instances_list = [INSTANCE]\n",
    "\n",
    "prediction = endpoint.predict(instances_list)\n",
    "print(prediction)"
   ]
  },
  {
   "cell_type": "markdown",
   "metadata": {
    "id": "predict_request:mbsdk,lbn"
   },
   "source": [
    "*示例输出：*\n",
    "\n",
    "    预测(predictions=[{'classes': ['1', '2'], 'scores': [0.9966018199920654, 0.003398159053176641]}], 部署模型ID='6741053013336522752', 解释=None)"
   ]
  },
  {
   "cell_type": "markdown",
   "metadata": {
    "id": "undeploy_model:mbsdk"
   },
   "source": [
    "## 撤销模型\n",
    "\n",
    "当您完成预测时，您可以从`Endpoint`资源中撤销模型。这将取消所有计算资源，并停止部署模型的计费。"
   ]
  },
  {
   "cell_type": "code",
   "execution_count": null,
   "metadata": {
    "id": "undeploy_model:mbsdk"
   },
   "outputs": [],
   "source": [
    "endpoint.undeploy_all()"
   ]
  },
  {
   "cell_type": "markdown",
   "metadata": {
    "id": "cleanup:mbsdk"
   },
   "source": [
    "# 清理\n",
    "\n",
    "要清理此项目中使用的所有Google Cloud资源，可以删除用于本教程的[Google Cloud项目](https://cloud.google.com/resource-manager/docs/creating-managing-projects#shutting_down_projects)。\n",
    "\n",
    "否则，您可以删除本教程中创建的各个资源：\n",
    "\n",
    "- 数据集\n",
    "- 模型\n",
    "- 终端\n",
    "- AutoML训练作业\n",
    "- 批处理作业\n",
    "- Cloud Storage存储桶"
   ]
  },
  {
   "cell_type": "code",
   "execution_count": null,
   "metadata": {
    "id": "cleanup:mbsdk"
   },
   "outputs": [],
   "source": [
    "import os\n",
    "\n",
    "# Delete the dataset using the Vertex dataset object\n",
    "dataset.delete()\n",
    "\n",
    "# Delete the model using the Vertex model object\n",
    "model.delete()\n",
    "\n",
    "# Delete the endpoint using the Vertex endpoint object\n",
    "endpoint.delete()\n",
    "\n",
    "# Delete the AutoML or Pipeline trainig job\n",
    "job.delete()\n",
    "\n",
    "# Delete the batch prediction job using the Vertex batch prediction object\n",
    "batch_predict_job.delete()\n",
    "\n",
    "delete_bucket = False\n",
    "if delete_bucket or os.getenv(\"IS_TESTING\"):\n",
    "    ! gsutil -m rm -r $BUCKET_URI"
   ]
  }
 ],
 "metadata": {
  "colab": {
   "name": "sdk-automl-tabular-binary-classification-online-prediction.ipynb",
   "toc_visible": true
  },
  "kernelspec": {
   "display_name": "Python 3",
   "name": "python3"
  }
 },
 "nbformat": 4,
 "nbformat_minor": 0
}
