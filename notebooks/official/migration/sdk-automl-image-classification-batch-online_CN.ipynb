{
 "cells": [
  {
   "cell_type": "code",
   "execution_count": null,
   "metadata": {
    "id": "copyright"
   },
   "outputs": [],
   "source": [
    "# Copyright 2021 Google LLC\n",
    "#\n",
    "# Licensed under the Apache License, Version 2.0 (the \"License\");\n",
    "# you may not use this file except in compliance with the License.\n",
    "# You may obtain a copy of the License at\n",
    "#\n",
    "#     https://www.apache.org/licenses/LICENSE-2.0\n",
    "#\n",
    "# Unless required by applicable law or agreed to in writing, software\n",
    "# distributed under the License is distributed on an \"AS IS\" BASIS,\n",
    "# WITHOUT WARRANTIES OR CONDITIONS OF ANY KIND, either express or implied.\n",
    "# See the License for the specific language governing permissions and\n",
    "# limitations under the License."
   ]
  },
  {
   "cell_type": "markdown",
   "metadata": {
    "id": "title:migration,new"
   },
   "source": [
    "# Vertex AI 迁移：自动ML图像分类\n",
    "\n",
    "<table align=\"left\">\n",
    "\n",
    "  <td>\n",
    "    <a href=\"https://colab.research.google.com/github/GoogleCloudPlatform/vertex-ai-samples/blob/main/notebooks/official/migration/sdk-automl-image-classification-batch-online.ipynb\">\n",
    "      <img src=\"https://cloud.google.com/ml-engine/images/colab-logo-32px.png\" alt=\"Colab logo\"> 在 Colab 中运行\n",
    "    </a>\n",
    "  </td>\n",
    "  <td>\n",
    "    <a href=\"https://github.com/GoogleCloudPlatform/vertex-ai-samples/blob/main/notebooks/official/migration/sdk-automl-image-classification-batch-online.ipynb\">\n",
    "      <img src=\"https://cloud.google.com/ml-engine/images/github-logo-32px.png\" alt=\"GitHub logo\">\n",
    "      在 GitHub 上查看\n",
    "    </a>\n",
    "  </td>\n",
    "  <td>\n",
    "    <a href=\"https://console.cloud.google.com/vertex-ai/workbench/deploy-notebook?download_url=https://raw.githubusercontent.com/GoogleCloudPlatform/vertex-ai-samples/main/notebooks/official/migration/sdk-automl-image-classification-batch-online.ipynb\" target='_blank'>\n",
    "      <img src=\"https://lh3.googleusercontent.com/UiNooY4LUgW_oTvpsNhPpQzsstV5W8F7rYgxgGBD85cWJoLmrOzhVs_ksK_vgx40SHs7jCqkTkCk=e14-rj-sc0xffffff-h130-w32\" alt=\"Vertex AI logo\">\n",
    "      在 Vertex AI Workbench 中打开\n",
    "    </a>\n",
    "  </td>                                                                                               \n",
    "</table>\n",
    "<br/><br/><br/>"
   ]
  },
  {
   "cell_type": "markdown",
   "metadata": {
    "id": "7a8a13b86a8b"
   },
   "source": [
    "## 概述\n",
    "\n",
    "本教程演示了如何使用Python的Vertex AI SDK来训练和部署AutoML图像分类模型。\n",
    "\n",
    "了解更多关于[迁移至Vertex AI](https://cloud.google.com/vertex-ai/docs/start/migrating-to-vertex-ai)和[图像数据分类](https://cloud.google.com/vertex-ai/docs/training-overview#classification_for_images)的信息。"
   ]
  },
  {
   "cell_type": "markdown",
   "metadata": {
    "id": "618cfedf829a"
   },
   "source": [
    "### 目标\n",
    "\n",
    "在本教程中，您将学习如何使用 `AutoML` 训练图像模型，并使用 `Vertex AI Prediction` 和 `Vertex AI batch prediction` 进行在线和批量预测。\n",
    "\n",
    "本教程使用以下 Google Cloud 机器学习服务：\n",
    "\n",
    "- `AutoML`\n",
    "- `Vertex AI batch prediction`\n",
    "- `Vertex AI Model` 资源\n",
    "- `Vertex AI Endpoint` 资源\n",
    "\n",
    "执行的步骤包括：\n",
    "\n",
    "- 训练一个 AutoML 图像分类模型。\n",
    "- 进行批量预测。\n",
    "- 将模型部署到一个端点。\n",
    "- 进行在线预测。"
   ]
  },
  {
   "cell_type": "markdown",
   "metadata": {
    "id": "dataset:flowers,icn"
   },
   "source": [
    "数据集\n",
    "\n",
    "本教程使用的数据集为来自[TensorFlow Datasets](https://www.tensorflow.org/datasets/catalog/overview)的[花卉数据集](https://www.tensorflow.org/datasets/catalog/tf_flowers)。在本教程中使用的数据集版本存储在公共云存储桶中。训练后的模型可以预测图像所属的花卉类型，包括：雏菊、蒲公英、玫瑰、向日葵或郁金香。"
   ]
  },
  {
   "cell_type": "markdown",
   "metadata": {
    "id": "costs"
   },
   "source": [
    "### 成本\n",
    "\n",
    "本教程使用 Google Cloud 的计费组件：\n",
    "\n",
    "* Vertex AI\n",
    "* Cloud Storage\n",
    "\n",
    "了解有关 [Vertex AI 价格](https://cloud.google.com/vertex-ai/pricing) 和 [Cloud Storage 价格](https://cloud.google.com/storage/pricing)，并使用[Pricing\n",
    "Calculator](https://cloud.google.com/products/calculator/) 根据您的预期使用情况生成成本估算。"
   ]
  },
  {
   "cell_type": "markdown",
   "metadata": {
    "id": "install_aip:mbsdk"
   },
   "source": [
    "## 安装\n",
    "\n",
    "安装执行此笔记本所需的软件包。"
   ]
  },
  {
   "cell_type": "code",
   "execution_count": null,
   "metadata": {
    "id": "install_aip:mbsdk"
   },
   "outputs": [],
   "source": [
    "! pip3 install --upgrade --quiet google-cloud-aiplatform \\\n",
    "                                 google-cloud-storage \\\n",
    "                                 tensorflow"
   ]
  },
  {
   "cell_type": "markdown",
   "metadata": {
    "id": "restart"
   },
   "source": [
    "只有 Colab：取消注释以下单元格以重新启动内核"
   ]
  },
  {
   "cell_type": "code",
   "execution_count": null,
   "metadata": {
    "id": "D-ZBOjErv5mM"
   },
   "outputs": [],
   "source": [
    "# Automatically restart kernel after installs so that your environment can access the new packages\n",
    "# import IPython\n",
    "\n",
    "# app = IPython.Application.instance()\n",
    "# app.kernel.do_shutdown(True)"
   ]
  },
  {
   "cell_type": "markdown",
   "metadata": {
    "id": "before_you_begin:nogpu"
   },
   "source": [
    "在您开始之前"
   ]
  },
  {
   "cell_type": "markdown",
   "metadata": {
    "id": "before_you_begin:nogpu"
   },
   "source": [
    "### 设置您的项目ID\n",
    "\n",
    "**如果您不知道您的项目ID**，请尝试以下方法：\n",
    "* 运行 `gcloud config list`。\n",
    "* 运行 `gcloud projects list`。\n",
    "* 查看支持页面：[查找项目ID](https://support.google.com/googleapi/answer/7014113)。"
   ]
  },
  {
   "cell_type": "code",
   "execution_count": null,
   "metadata": {
    "id": "set_project_id"
   },
   "outputs": [],
   "source": [
    "PROJECT_ID = \"[your-project-id]\"  # @param {type:\"string\"}\n",
    "\n",
    "# Set the project id\n",
    "! gcloud config set project {PROJECT_ID}"
   ]
  },
  {
   "cell_type": "markdown",
   "metadata": {
    "id": "region"
   },
   "source": [
    "区域\n",
    "\n",
    "您还可以更改 Vertex AI 使用的 `REGION` 变量。了解更多关于 [Vertex AI 区域](https://cloud.google.com/vertex-ai/docs/general/locations)。"
   ]
  },
  {
   "cell_type": "code",
   "execution_count": null,
   "metadata": {
    "id": "region"
   },
   "outputs": [],
   "source": [
    "REGION = \"us-central1\"  # @param {type: \"string\"}"
   ]
  },
  {
   "cell_type": "markdown",
   "metadata": {
    "id": "timestamp"
   },
   "source": [
    "UUID\n",
    "\n",
    "如果您正在进行实时教程会话，您可能正在使用一个共享的测试账户或项目。为了避免在创建资源时出现用户之间的名称冲突，您为每个实例会话创建一个UUID，并将其附加到您在本教程中创建的资源名称上。"
   ]
  },
  {
   "cell_type": "code",
   "execution_count": null,
   "metadata": {
    "id": "timestamp"
   },
   "outputs": [],
   "source": [
    "import random\n",
    "import string\n",
    "\n",
    "\n",
    "# Generate a uuid of a specifed length(default=8)\n",
    "def generate_uuid(length: int = 8) -> str:\n",
    "    return \"\".join(random.choices(string.ascii_lowercase + string.digits, k=length))\n",
    "\n",
    "\n",
    "UUID = generate_uuid()"
   ]
  },
  {
   "cell_type": "markdown",
   "metadata": {
    "id": "gcp_authenticate"
   },
   "source": [
    "### 验证您的谷歌云账户\n",
    "\n",
    "根据您的Jupyter环境，您可能需要手动进行身份验证。请按照下面的相关指示操作。"
   ]
  },
  {
   "cell_type": "markdown",
   "metadata": {
    "id": "FvQeFm3Gv5mR"
   },
   "source": [
    "1. 顶点 AI 工作台\n",
    "* 不要做任何操作，因为您已经通过验证。"
   ]
  },
  {
   "cell_type": "markdown",
   "metadata": {
    "id": "ad1138a125ea"
   },
   "source": [
    "2. 本地 JupyterLab 实例，取消注释并运行:"
   ]
  },
  {
   "cell_type": "code",
   "execution_count": null,
   "metadata": {
    "id": "ce6043da7b33"
   },
   "outputs": [],
   "source": [
    "# ! gcloud auth login"
   ]
  },
  {
   "cell_type": "markdown",
   "metadata": {
    "id": "0367eac06a10"
   },
   "source": [
    "3. 合作，取消注释并运行:"
   ]
  },
  {
   "cell_type": "code",
   "execution_count": null,
   "metadata": {
    "id": "21ad4dbb4a61"
   },
   "outputs": [],
   "source": [
    "# from google.colab import auth\n",
    "# auth.authenticate_user()"
   ]
  },
  {
   "cell_type": "markdown",
   "metadata": {
    "id": "c13224697bfb"
   },
   "source": [
    "4. 服务账号或其他\n",
    "* 请参考如何在https://cloud.google.com/storage/docs/gsutil/commands/iam#ch-examples上为您的服务账号授予Cloud Storage权限。"
   ]
  },
  {
   "cell_type": "markdown",
   "metadata": {
    "id": "bucket:mbsdk"
   },
   "source": [
    "创建一个云存储桶\n",
    "\n",
    "创建一个存储桶来存储中间产物，比如数据集。"
   ]
  },
  {
   "cell_type": "code",
   "execution_count": null,
   "metadata": {
    "id": "bucket"
   },
   "outputs": [],
   "source": [
    "BUCKET_URI = f\"gs://your-bucket-name-{PROJECT_ID}-unique\"  # @param {type:\"string\"}"
   ]
  },
  {
   "cell_type": "markdown",
   "metadata": {
    "id": "create_bucket"
   },
   "source": [
    "只有在您的存储桶不存在时：运行以下单元格以创建您的云存储存储桶。"
   ]
  },
  {
   "cell_type": "code",
   "execution_count": null,
   "metadata": {
    "id": "create_bucket"
   },
   "outputs": [],
   "source": [
    "! gsutil mb -l {REGION} {BUCKET_URI}"
   ]
  },
  {
   "cell_type": "markdown",
   "metadata": {
    "id": "setup_vars"
   },
   "source": [
    "### 设置变量\n",
    "\n",
    "接下来，设置一些在整个教程中使用的变量。\n",
    "### 导入库和定义常量"
   ]
  },
  {
   "cell_type": "code",
   "execution_count": null,
   "metadata": {
    "id": "import_aip:mbsdk"
   },
   "outputs": [],
   "source": [
    "import os\n",
    "\n",
    "import google.cloud.aiplatform as aip"
   ]
  },
  {
   "cell_type": "markdown",
   "metadata": {
    "id": "init_aip:mbsdk"
   },
   "source": [
    "## 为Python初始化Vertex AI SDK\n",
    "\n",
    "为您的项目和相应的存储桶初始化Vertex AI SDK for Python。"
   ]
  },
  {
   "cell_type": "code",
   "execution_count": null,
   "metadata": {
    "id": "init_aip:mbsdk"
   },
   "outputs": [],
   "source": [
    "aip.init(project=PROJECT_ID, staging_bucket=BUCKET_URI)"
   ]
  },
  {
   "cell_type": "markdown",
   "metadata": {
    "id": "import_file:u_dataset,csv"
   },
   "source": [
    "云存储培训数据的位置。\n",
    "\n",
    "现在将变量 `IMPORT_FILE` 设置为云存储中 CSV 索引文件的位置。"
   ]
  },
  {
   "cell_type": "code",
   "execution_count": null,
   "metadata": {
    "id": "import_file:flowers,csv,icn"
   },
   "outputs": [],
   "source": [
    "IMPORT_FILE = (\n",
    "    \"gs://cloud-samples-data/vision/automl_classification/flowers/all_data_v2.csv\"\n",
    ")"
   ]
  },
  {
   "cell_type": "markdown",
   "metadata": {
    "id": "quick_peek:csv"
   },
   "source": [
    "快速查看您的数据\n",
    "\n",
    "本教程使用存储在公共云存储桶中的Flowers数据集的一个版本，使用CSV索引文件。\n",
    "\n",
    "首先，快速查看数据。您可以通过计算CSV索引文件中的行数（`wc -l`）来计算示例的数量，然后查看前几行。"
   ]
  },
  {
   "cell_type": "code",
   "execution_count": null,
   "metadata": {
    "id": "quick_peek:csv"
   },
   "outputs": [],
   "source": [
    "if \"IMPORT_FILES\" in globals():\n",
    "    FILE = IMPORT_FILES[0]\n",
    "else:\n",
    "    FILE = IMPORT_FILE\n",
    "\n",
    "count = ! gsutil cat $FILE | wc -l\n",
    "print(\"Number of Examples\", int(count[0]))\n",
    "\n",
    "print(\"First 10 rows\")\n",
    "! gsutil cat $FILE | head"
   ]
  },
  {
   "cell_type": "markdown",
   "metadata": {
    "id": "create_a_dataset:migration"
   },
   "source": [
    "## 创建一个数据集"
   ]
  },
  {
   "cell_type": "markdown",
   "metadata": {
    "id": "datasets_create:migration,new,mbsdk"
   },
   "source": [
    "### [datasets.create-dataset-api](https://cloud.google.com/vertex-ai/docs/datasets/create-dataset-api)\n",
    "\n",
    "### [datasets.create-dataset-api](https://cloud.google.com/vertex-ai/docs/datasets/create-dataset-api)"
   ]
  },
  {
   "cell_type": "markdown",
   "metadata": {
    "id": "create_dataset:image,icn"
   },
   "source": [
    "创建数据集\n",
    "\n",
    "接下来，使用`ImageDataset`类的`create`方法创建`Dataset`资源，该方法接受以下参数：\n",
    "\n",
    "- `display_name`：`Dataset`资源的人类可读名称。\n",
    "- `gcs_source`：一个或多个数据集索引文件列表，用于将数据项导入`Dataset`资源。\n",
    "- `import_schema_uri`：数据项的数据标记模式。\n",
    "\n",
    "此操作可能需要几分钟。"
   ]
  },
  {
   "cell_type": "code",
   "execution_count": null,
   "metadata": {
    "id": "create_dataset:image,icn"
   },
   "outputs": [],
   "source": [
    "dataset = aip.ImageDataset.create(\n",
    "    display_name=\"Flowers\" + \"_\" + UUID,\n",
    "    gcs_source=[IMPORT_FILE],\n",
    "    import_schema_uri=aip.schema.dataset.ioformat.image.single_label_classification,\n",
    ")\n",
    "\n",
    "print(dataset.resource_name)"
   ]
  },
  {
   "cell_type": "markdown",
   "metadata": {
    "id": "create_dataset:image,icn"
   },
   "source": [
    "示例输出：\n",
    "\n",
    "INFO：google.cloud.aiplatform.datasets.dataset：创建图像数据集\n",
    "INFO：google.cloud.aiplatform.datasets.dataset：创建图像数据集支持的LRO：projects/759209241365/locations/us-central1/datasets/2940964905882222592/operations/1941426647739662336\n",
    "INFO：google.cloud.aiplatform.datasets.dataset：创建了图像数据集。资源名称：projects/759209241365/locations/us-central1/datasets/2940964905882222592\n",
    "INFO：google.cloud.aiplatform.datasets.dataset：要在另一个会话中使用此图像数据集：\n",
    "INFO：google.cloud.aiplatform.datasets.dataset：ds = aiplatform.ImageDataset（'projects/759209241365/locations/us-central1/datasets/2940964905882222592'）\n",
    "INFO：google.cloud.aiplatform.datasets.dataset：正在导入ImageDataset数据：projects/759209241365/locations/us-central1/datasets/2940964905882222592\n",
    "INFO：google.cloud.aiplatform.datasets.dataset：导入ImageDataset数据支持的LRO：projects/759209241365/locations/us-central1/datasets/2940964905882222592/operations/8100099138168815616\n",
    "INFO：google.cloud.aiplatform.datasets.dataset：导入了图像数据集数据。资源名称：projects/759209241365/locations/us-central1/datasets/2940964905882222592\n",
    "projects/759209241365/locations/us-central1/datasets/2940964905882222592"
   ]
  },
  {
   "cell_type": "markdown",
   "metadata": {
    "id": "train_a_model:migration"
   },
   "source": [
    "训练一个模型"
   ]
  },
  {
   "cell_type": "markdown",
   "metadata": {
    "id": "trainingpipelines_create:migration,new,mbsdk"
   },
   "source": [
    "### [training.automl-api](https://cloud.google.com/vertex-ai/docs/training/automl-api)\n",
    "### [训练.automl-api](https://cloud.google.com/vertex-ai/docs/training/automl-api)"
   ]
  },
  {
   "cell_type": "markdown",
   "metadata": {
    "id": "create_automl_pipeline:image,icn"
   },
   "source": [
    "### 创建并运行训练流水线\n",
    "\n",
    "要训练一个AutoML模型，您需要执行两个步骤：1) 创建一个训练流水线，2) 运行该流水线。\n",
    "\n",
    "#### 创建训练流水线\n",
    "\n",
    "使用`AutoMLImageTrainingJob`类创建一个AutoML训练流水线，具有以下参数：\n",
    "\n",
    "- `display_name`：`TrainingJob`资源的人类可读名称。\n",
    "- `prediction_type`：为模型训练指定任务类型。\n",
    "  - `classification`：图像分类模型。\n",
    "  - `object_detection`：图像目标检测模型。\n",
    "- `multi_label`：如果是分类任务，则为单标签（`False`）或多标签（`True`）。\n",
    "- `model_type`：部署模型的类型。\n",
    "  - `CLOUD`：部署在谷歌云上。\n",
    "  - `CLOUD_HIGH_ACCURACY_1`：针对谷歌云部署的准确性优先型模型。\n",
    "  - `CLOUD_LOW_LATENCY_`：针对谷歌云部署的延迟优先型模型。\n",
    "  - `MOBILE_TF_VERSATILE_1`：部署在边缘设备上。\n",
    "  - `MOBILE_TF_HIGH_ACCURACY_1`：针对边缘设备部署的准确性优先型模型。\n",
    "  - `MOBILE_TF_LOW_LATENCY_1`：针对边缘设备部署的延迟优先型模型。\n",
    "- `base_model`：（可选）从现有`Model`资源进行迁移学习 -- 仅支持图像分类。\n",
    "\n",
    "实例化的对象是训练作业的有向无环图（DAG）。"
   ]
  },
  {
   "cell_type": "code",
   "execution_count": null,
   "metadata": {
    "id": "create_automl_pipeline:image,icn"
   },
   "outputs": [],
   "source": [
    "dag = aip.AutoMLImageTrainingJob(\n",
    "    display_name=\"flowers_\" + UUID,\n",
    "    prediction_type=\"classification\",\n",
    "    multi_label=False,\n",
    "    model_type=\"CLOUD\",\n",
    "    base_model=None,\n",
    ")\n",
    "\n",
    "print(dag)"
   ]
  },
  {
   "cell_type": "markdown",
   "metadata": {
    "id": "create_automl_pipeline:image,icn"
   },
   "source": [
    "*示例输出：*\n",
    "\n",
    "<google.cloud.aiplatform.training_jobs.AutoMLImageTrainingJob object at 0x7f806a6116d0> \n",
    "\n",
    "*示例输出：*\n",
    "\n",
    "<google.cloud.aiplatform.training_jobs.AutoMLImageTrainingJob object at 0x7f806a6116d0>"
   ]
  },
  {
   "cell_type": "markdown",
   "metadata": {
    "id": "run_automl_pipeline:image"
   },
   "source": [
    "#### 运行训练流水线\n",
    "\n",
    "接下来，您可以通过调用方法`run`来运行DAG，启动训练作业，参数如下：\n",
    "\n",
    "- `dataset`: 用于训练模型的`Dataset`资源。\n",
    "- `model_display_name`: 经过训练的模型的可读名称。\n",
    "- `training_fraction_split`: 用于训练的数据集百分比。\n",
    "- `test_fraction_split`: 用于测试（留出数据）的数据集百分比。\n",
    "- `validation_fraction_split`: 用于验证的数据集百分比。\n",
    "- `budget_milli_node_hours`: （可选）以毫小时为单位指定的最大训练时间（1000 = 小时）。\n",
    "- `disable_early_stopping`: 如果为`True`，当服务认为无法进一步改进模型的客观测量时，训练可能会在使用完整预算之前完成。\n",
    "\n",
    "完成`run`方法后，返回`Model`资源。\n",
    "\n",
    "训练流水线的执行最多需要20分钟。"
   ]
  },
  {
   "cell_type": "code",
   "execution_count": null,
   "metadata": {
    "id": "run_automl_pipeline:image"
   },
   "outputs": [],
   "source": [
    "model = dag.run(\n",
    "    dataset=dataset,\n",
    "    model_display_name=\"flowers_\" + UUID,\n",
    "    training_fraction_split=0.8,\n",
    "    validation_fraction_split=0.1,\n",
    "    test_fraction_split=0.1,\n",
    "    budget_milli_node_hours=8000,\n",
    "    disable_early_stopping=False,\n",
    ")"
   ]
  },
  {
   "cell_type": "markdown",
   "metadata": {
    "id": "run_automl_pipeline:image"
   },
   "source": [
    "示例输出：\n",
    "\n",
    "    信息：google.cloud.aiplatform.training_jobs:查看培训：\n",
    "    https://console.cloud.google.com/ai/platform/locations/us-central1/training/2109316300865011712?project=759209241365\n",
    "    信息：google.cloud.aiplatform.training_jobs:AutoMLImageTrainingJob projects/759209241365/locations/us-central1/trainingPipelines/2109316300865011712 当前状态：\n",
    "    PipelineState.PIPELINE_STATE_RUNNING\n",
    "    信息：google.cloud.aiplatform.training_jobs:AutoMLImageTrainingJob projects/759209241365/locations/us-central1/trainingPipelines/2109316300865011712 当前状态：\n",
    "    PipelineState.PIPELINE_STATE_RUNNING\n",
    "    信息：google.cloud.aiplatform.training_jobs:AutoMLImageTrainingJob projects/759209241365/locations/us-central1/trainingPipelines/2109316300865011712 当前状态：\n",
    "    PipelineState.PIPELINE_STATE_RUNNING\n",
    "    信息：google.cloud.aiplatform.training_jobs:AutoMLImageTrainingJob projects/759209241365/locations/us-central1/trainingPipelines/2109316300865011712 当前状态：\n",
    "    PipelineState.PIPELINE_STATE_RUNNING\n",
    "    信息：google.cloud.aiplatform.training_jobs:AutoMLImageTrainingJob projects/759209241365/locations/us-central1/trainingPipelines/2109316300865011712 当前状态：\n",
    "    PipelineState.PIPELINE_STATE_RUNNING\n",
    "    ...\n",
    "    信息：google.cloud.aiplatform.training_jobs:AutoMLImageTrainingJob 运行完成。资源名称：projects/759209241365/locations/us-central1/trainingPipelines/2109316300865011712\n",
    "    信息：google.cloud.aiplatform.training_jobs:模型可在项目/759209241365/locations/us-central1/models/1284590221056278528 找到。"
   ]
  },
  {
   "cell_type": "markdown",
   "metadata": {
    "id": "evaluate_the_model:migration"
   },
   "source": [
    "## 评估模型"
   ]
  },
  {
   "cell_type": "markdown",
   "metadata": {
    "id": "models_evaluations_list:migration,new"
   },
   "source": [
    "### [projects.locations.models.evaluations.list](https://cloud.devsite.corp.google.com/ai-platform-unified/docs/reference/rest/v1beta1/projects.locations.models.evaluations/list)\n",
    "\n",
    "### [项目.位置.模型.评估.列表](https://cloud.devsite.corp.google.com/ai-platform-unified/docs/reference/rest/v1beta1/projects.locations.models.evaluations/list)"
   ]
  },
  {
   "cell_type": "markdown",
   "metadata": {
    "id": "evaluate_the_model:mbsdk"
   },
   "source": [
    "## 查看模型评估分数\n",
    "在模型训练完成后，您可以查看其评估分数。\n",
    "\n",
    "首先，您需要获取对新模型的引用。与数据集一样，您可以使用在部署模型时创建的模型变量的引用，或者列出项目中的所有模型。"
   ]
  },
  {
   "cell_type": "code",
   "execution_count": null,
   "metadata": {
    "id": "evaluate_the_model:mbsdk"
   },
   "outputs": [],
   "source": [
    "# Get model resource ID\n",
    "models = aip.Model.list(filter=\"display_name=flowers_\" + UUID)\n",
    "\n",
    "# Get a reference to the Model Service client\n",
    "client_options = {\"api_endpoint\": f\"{REGION}-aiplatform.googleapis.com\"}\n",
    "model_service_client = aip.gapic.ModelServiceClient(client_options=client_options)\n",
    "\n",
    "model_evaluations = model_service_client.list_model_evaluations(\n",
    "    parent=models[0].resource_name\n",
    ")\n",
    "model_evaluation = list(model_evaluations)[0]\n",
    "print(model_evaluation)"
   ]
  },
  {
   "cell_type": "markdown",
   "metadata": {
    "id": "evaluate_the_model:mbsdk"
   },
   "source": [
    "示例输出：\n",
    "\n",
    "    名称：\"projects/759209241365/locations/us-central1/models/623915674158235648/evaluations/4280507618583117824\"\n",
    "    metrics_schema_uri：\"gs://google-cloud-aiplatform/schema/modelevaluation/classification_metrics_1.0.0.yaml\"\n",
    "    metrics {\n",
    "      struct_value {\n",
    "        fields {\n",
    "          key: \"auPrc\"\n",
    "          value {\n",
    "            number_value: 0.9891107\n",
    "          }\n",
    "        }\n",
    "        fields {\n",
    "          key: \"confidenceMetrics\"\n",
    "          value {\n",
    "            list_value {\n",
    "              values {\n",
    "                struct_value {\n",
    "                  fields {\n",
    "                    key: \"precision\"\n",
    "                    value {\n",
    "                      number_value: 0.2\n",
    "                    }\n",
    "                  }\n",
    "                  fields {\n",
    "                    key: \"recall\"\n",
    "                    value {\n",
    "                      number_value: 1.0\n",
    "                    }\n",
    "                  }\n",
    "                }\n",
    "              }"
   ]
  },
  {
   "cell_type": "markdown",
   "metadata": {
    "id": "make_batch_predictions:migration"
   },
   "source": [
    "进行批量预测"
   ]
  },
  {
   "cell_type": "markdown",
   "metadata": {
    "id": "batchpredictionjobs_create:migration,new,mbsdk"
   },
   "source": [
    "[预测批处理](https://cloud.google.com/vertex-ai/docs/predictions/batch-predictions)"
   ]
  },
  {
   "cell_type": "markdown",
   "metadata": {
    "id": "get_test_items:batch_prediction"
   },
   "source": [
    "获取测试项目\n",
    "\n",
    "现在对您的Vertex模型进行批量预测。您可以从数据集中任意选择示例作为测试项目。不必担心这些示例可能已经在训练模型时使用过 -- 我们只是想演示如何进行预测。"
   ]
  },
  {
   "cell_type": "code",
   "execution_count": null,
   "metadata": {
    "id": "get_test_items:automl,icn,csv"
   },
   "outputs": [],
   "source": [
    "test_items = !gsutil cat $IMPORT_FILE | head -n2\n",
    "if len(str(test_items[0]).split(\",\")) == 3:\n",
    "    _, test_item_1, test_label_1 = str(test_items[0]).split(\",\")\n",
    "    _, test_item_2, test_label_2 = str(test_items[1]).split(\",\")\n",
    "else:\n",
    "    test_item_1, test_label_1 = str(test_items[0]).split(\",\")\n",
    "    test_item_2, test_label_2 = str(test_items[1]).split(\",\")\n",
    "\n",
    "print(test_item_1, test_label_1)\n",
    "print(test_item_2, test_label_2)"
   ]
  },
  {
   "cell_type": "markdown",
   "metadata": {
    "id": "copy_test_items:batch_prediction"
   },
   "source": [
    "### 复制测试项\n",
    "\n",
    "对于批量预测，请将测试项复制到您的Cloud Storage存储桶中。"
   ]
  },
  {
   "cell_type": "code",
   "execution_count": null,
   "metadata": {
    "id": "copy_test_items:batch_prediction"
   },
   "outputs": [],
   "source": [
    "file_1 = test_item_1.split(\"/\")[-1]\n",
    "file_2 = test_item_2.split(\"/\")[-1]\n",
    "\n",
    "! gsutil cp $test_item_1 $BUCKET_URI/$file_1\n",
    "! gsutil cp $test_item_2 $BUCKET_URI/$file_2\n",
    "\n",
    "test_item_1 = BUCKET_URI + \"/\" + file_1\n",
    "test_item_2 = BUCKET_URI + \"/\" + file_2"
   ]
  },
  {
   "cell_type": "markdown",
   "metadata": {
    "id": "make_batch_file:automl,image"
   },
   "source": [
    "### 创建批处理输入文件\n",
    "\n",
    "现在创建一个批处理输入文件，将其存储在您本地的云存储桶中。批处理输入文件可以是CSV或JSONL格式。在本教程中，您将使用JSONL格式。对于JSONL文件，您需要为每个数据项（实例）的每一行创建一个字典条目。该字典包含键/值对：\n",
    "\n",
    "- `content`：图片的云存储路径。\n",
    "- `mime_type`：内容类型。在我们的示例中，是一个`jpeg`文件。\n",
    "\n",
    "例如：\n",
    "\n",
    "                        {'content': '[your-bucket]/file1.jpg', 'mime_type': 'jpeg'}"
   ]
  },
  {
   "cell_type": "code",
   "execution_count": null,
   "metadata": {
    "id": "make_batch_file:automl,image"
   },
   "outputs": [],
   "source": [
    "import json\n",
    "\n",
    "import tensorflow as tf\n",
    "\n",
    "gcs_input_uri = BUCKET_URI + \"/test.jsonl\"\n",
    "with tf.io.gfile.GFile(gcs_input_uri, \"w\") as f:\n",
    "    data = {\"content\": test_item_1, \"mime_type\": \"image/jpeg\"}\n",
    "    f.write(json.dumps(data) + \"\\n\")\n",
    "    data = {\"content\": test_item_2, \"mime_type\": \"image/jpeg\"}\n",
    "    f.write(json.dumps(data) + \"\\n\")\n",
    "\n",
    "print(gcs_input_uri)\n",
    "! gsutil cat $gcs_input_uri"
   ]
  },
  {
   "cell_type": "markdown",
   "metadata": {
    "id": "batch_request:mbsdk"
   },
   "source": [
    "### 发起批量预测请求\n",
    "\n",
    "现在您的模型资源已经训练完成，您可以通过调用batch_predict()方法发起批量预测，参数如下：\n",
    "\n",
    "- `job_display_name`：批量预测任务的可读名称。\n",
    "- `gcs_source`：一个或多个批量请求输入文件的列表。\n",
    "- `gcs_destination_prefix`：用于存储批量预测结果的云存储位置。\n",
    "- `sync`：如果设置为True，则调用将阻塞，等待异步批处理作业完成。"
   ]
  },
  {
   "cell_type": "code",
   "execution_count": null,
   "metadata": {
    "id": "batch_request:mbsdk"
   },
   "outputs": [],
   "source": [
    "batch_predict_job = model.batch_predict(\n",
    "    job_display_name=\"flowers_\" + UUID,\n",
    "    gcs_source=gcs_input_uri,\n",
    "    gcs_destination_prefix=BUCKET_URI,\n",
    "    sync=False,\n",
    ")\n",
    "\n",
    "print(batch_predict_job)"
   ]
  },
  {
   "cell_type": "markdown",
   "metadata": {
    "id": "batch_request:mbsdk"
   },
   "source": [
    "示例输出：\n",
    "\n",
    "    INFO: google.cloud.aiplatform.jobs: 创建BatchPredictionJob\n",
    "    <google.cloud.aiplatform.jobs.BatchPredictionJob object at 0x7f806a6112d0>正在等待上游依赖项完成。\n",
    "    INFO: google.cloud.aiplatform.jobs: 创建了BatchPredictionJob。资源名称：projects/759209241365/locations/us-central1/batchPredictionJobs/5110965452507447296\n",
    "    INFO: google.cloud.aiplatform.jobs: 要在另一个会话中使用此BatchPredictionJob：\n",
    "    INFO: google.cloud.aiplatform.jobs: bpj = aiplatform.BatchPredictionJob('projects/759209241365/locations/us-central1/batchPredictionJobs/5110965452507447296')\n",
    "    INFO: google.cloud.aiplatform.jobs: 查看Batch预测作业：\n",
    "    https://console.cloud.google.com/ai/platform/locations/us-central1/batch-predictions/5110965452507447296?project=759209241365\n",
    "    INFO: google.cloud.aiplatform.jobs: BatchPredictionJob projects/759209241365/locations/us-central1/batchPredictionJobs/5110965452507447296 当前状态：\n",
    "    JobState.JOB_STATE_RUNNING"
   ]
  },
  {
   "cell_type": "markdown",
   "metadata": {
    "id": "batch_request_wait:mbsdk"
   },
   "source": [
    "### 等待批处理预测作业完成\n",
    "\n",
    "接下来，等待批处理作业完成。或者，可以在`batch_predict()`方法中将参数`sync`设置为`True`，以阻塞直到批处理预测作业完成。"
   ]
  },
  {
   "cell_type": "code",
   "execution_count": null,
   "metadata": {
    "id": "batch_request_wait:mbsdk"
   },
   "outputs": [],
   "source": [
    "batch_predict_job.wait()"
   ]
  },
  {
   "cell_type": "markdown",
   "metadata": {
    "id": "batch_request_wait:mbsdk"
   },
   "source": [
    "示例输出：\n",
    "\n",
    "    INFO: google.cloud.aiplatform.jobs: 创建了 BatchPredictionJob。资源名称：projects/759209241365/locations/us-central1/batchPredictionJobs/181835033978339328\n",
    "    INFO: google.cloud.aiplatform.jobs: 要在另一个会话中使用此 BatchPredictionJob：\n",
    "    INFO: google.cloud.aiplatform.jobs: bpj = aiplatform.BatchPredictionJob('projects/759209241365/locations/us-central1/batchPredictionJobs/181835033978339328')\n",
    "    INFO: google.cloud.aiplatform.jobs: 查看批量预测作业：\n",
    "    https://console.cloud.google.com/ai/platform/locations/us-central1/batch-predictions/181835033978339328?project=759209241365\n",
    "    INFO: google.cloud.aiplatform.jobs: BatchPredictionJob projects/759209241365/locations/us-central1/batchPredictionJobs/181835033978339328 当前状态：\n",
    "    JobState.JOB_STATE_RUNNING\n",
    "    INFO: google.cloud.aiplatform.jobs: BatchPredictionJob projects/759209241365/locations/us-central1/batchPredictionJobs/181835033978339328 当前状态：\n",
    "    JobState.JOB_STATE_RUNNING\n",
    "    INFO: google.cloud.aiplatform.jobs: BatchPredictionJob projects/759209241365/locations/us-central1/batchPredictionJobs/181835033978339328 当前状态：\n",
    "    JobState.JOB_STATE_RUNNING\n",
    "    INFO: google.cloud.aiplatform.jobs: BatchPredictionJob projects/759209241365/locations/us-central1/batchPredictionJobs/181835033978339328 当前状态：\n",
    "    JobState.JOB_STATE_RUNNING\n",
    "    INFO: google.cloud.aiplatform.jobs: BatchPredictionJob projects/759209241365/locations/us-central1/batchPredictionJobs/181835033978339328 当前状态：\n",
    "    JobState.JOB_STATE_RUNNING\n",
    "    INFO: google.cloud.aiplatform.jobs: BatchPredictionJob projects/759209241365/locations/us-central1/batchPredictionJobs/181835033978339328 当前状态：\n",
    "    JobState.JOB_STATE_RUNNING\n",
    "    INFO: google.cloud.aiplatform.jobs: BatchPredictionJob projects/759209241365/locations/us-central1/batchPredictionJobs/181835033978339328 当前状态：\n",
    "    JobState.JOB_STATE_RUNNING\n",
    "    INFO: google.cloud.aiplatform.jobs: BatchPredictionJob projects/759209241365/locations/us-central1/batchPredictionJobs/181835033978339328 当前状态：\n",
    "    JobState.JOB_STATE_RUNNING\n",
    "    INFO: google.cloud.aiplatform.jobs: BatchPredictionJob projects/759209241365/locations/us-central1/batchPredictionJobs/181835033978339328 当前状态：\n",
    "    JobState.JOB_STATE_SUCCEEDED\n",
    "    INFO: google.cloud.aiplatform.jobs: BatchPredictionJob 运行已完成。资源名称：projects/759209241365/locations/us-central1/batchPredictionJobs/181835033978339328"
   ]
  },
  {
   "cell_type": "markdown",
   "metadata": {
    "id": "get_batch_prediction:mbsdk,icn"
   },
   "source": [
    "### 获取预测结果\n",
    "\n",
    "接下来，从完成的批量预测作业中获取结果。\n",
    "\n",
    "结果被写入到您在批量预测请求中指定的 Cloud Storage 输出存储桶中。您可以调用 `iter_outputs()` 方法来获取生成结果的每个 Cloud Storage 文件的列表。每个文件以 JSON 格式包含一个或多个预测请求：\n",
    "\n",
    "- `content`: 预测请求。\n",
    "- `prediction`: 预测响应。\n",
    " - `ids`: 每个预测请求的内部分配的唯一标识符。\n",
    " - `displayNames`: 每个类标签的类别名称。\n",
    " - `confidences`: 针对每个类标签的预测置信度，介于 0 和 1 之间。"
   ]
  },
  {
   "cell_type": "code",
   "execution_count": null,
   "metadata": {
    "id": "get_batch_prediction:mbsdk,icn"
   },
   "outputs": [],
   "source": [
    "import json\n",
    "\n",
    "import tensorflow as tf\n",
    "\n",
    "bp_iter_outputs = batch_predict_job.iter_outputs()\n",
    "\n",
    "prediction_results = list()\n",
    "for blob in bp_iter_outputs:\n",
    "    if blob.name.split(\"/\")[-1].startswith(\"prediction\"):\n",
    "        prediction_results.append(blob.name)\n",
    "\n",
    "tags = list()\n",
    "for prediction_result in prediction_results:\n",
    "    gfile_name = f\"gs://{bp_iter_outputs.bucket.name}/{prediction_result}\"\n",
    "    with tf.io.gfile.GFile(name=gfile_name, mode=\"r\") as gfile:\n",
    "        for line in gfile.readlines():\n",
    "            line = json.loads(line)\n",
    "            print(line)\n",
    "            break"
   ]
  },
  {
   "cell_type": "markdown",
   "metadata": {
    "id": "get_batch_prediction:mbsdk,icn"
   },
   "source": [
    "*示例输出：*\n",
    "\n",
    "{'instance': {'content': 'gs://andy-1234-221921aip-20210802180634/100080576_f52e8ee070_n.jpg', 'mimeType': 'image/jpeg'}, 'prediction': {'ids': ['3195476558944927744', '1636105187967893504', '7400712711002128384', '2789026692574740480', '5501319568158621696'], 'displayNames': ['daisy', 'dandelion', 'roses', 'sunflowers', 'tulips'], 'confidences': [0.99998736, 8.222247e-06, 3.6782617e-06, 5.3231275e-07, 2.6960555e-07]}}"
   ]
  },
  {
   "cell_type": "markdown",
   "metadata": {
    "id": "make_online_predictions:migration"
   },
   "source": [
    "做在线预测"
   ]
  },
  {
   "cell_type": "markdown",
   "metadata": {
    "id": "deploy_model:migration,new,mbsdk"
   },
   "source": [
    "### [predictions.deploy-model-api] (https://cloud.google.com/vertex-ai/docs/predictions/deploy-model-api)\n",
    "\n",
    "### [预测部署模型API] (https://cloud.google.com/vertex-ai/docs/predictions/deploy-model-api)"
   ]
  },
  {
   "cell_type": "markdown",
   "metadata": {
    "id": "deploy_model:mbsdk,automatic"
   },
   "source": [
    "部署模型\n",
    "\n",
    "接下来，部署您的模型进行在线预测。要部署模型，您需要调用`deploy`方法。"
   ]
  },
  {
   "cell_type": "code",
   "execution_count": null,
   "metadata": {
    "id": "deploy_model:mbsdk,automatic"
   },
   "outputs": [],
   "source": [
    "endpoint = model.deploy()"
   ]
  },
  {
   "cell_type": "markdown",
   "metadata": {
    "id": "deploy_model:mbsdk,automatic"
   },
   "source": [
    "*示例输出：*\n",
    "\n",
    "    信息：google.cloud.aiplatform.models:创建端点\n",
    "    信息：google.cloud.aiplatform.models:创建端点支持的LRO：projects/759209241365/locations/us-central1/endpoints/4867177336350441472/operations/4087251132693348352\n",
    "    信息：google.cloud.aiplatform.models:端点已创建。资源名称：projects/759209241365/locations/us-central1/endpoints/4867177336350441472\n",
    "    信息：google.cloud.aiplatform.models:在另一个会话中使用此端点：\n",
    "    信息：google.cloud.aiplatform.models:endpoint = aiplatform.Endpoint('projects/759209241365/locations/us-central1/endpoints/4867177336350441472')\n",
    "    信息：google.cloud.aiplatform.models:将模型部署到端点：projects/759209241365/locations/us-central1/endpoints/4867177336350441472\n",
    "    信息：google.cloud.aiplatform.models:部署端点模型支持的LRO：projects/759209241365/locations/us-central1/endpoints/4867177336350441472/operations/1691336130932244480\n",
    "    信息：google.cloud.aiplatform.models:端点模型已部署。资源名称：projects/759209241365/locations/us-central1/endpoints/4867177336350441472"
   ]
  },
  {
   "cell_type": "markdown",
   "metadata": {
    "id": "endpoints_predict:migration,new,mbsdk"
   },
   "source": [
    "### [predictions.online-prediction-automl](https://cloud.google.com/vertex-ai/docs/predictions/online-predictions-automl)\n",
    "### [在线预测自动ML](https://cloud.google.com/vertex-ai/docs/predictions/online-predictions-automl)"
   ]
  },
  {
   "cell_type": "markdown",
   "metadata": {
    "id": "get_test_item"
   },
   "source": [
    "获取测试项\n",
    "\n",
    "您可以从数据集中任意选择一个示例作为测试项。不必担心该示例可能已在训练模型时使用过 - 我们只是想演示如何进行预测。"
   ]
  },
  {
   "cell_type": "code",
   "execution_count": null,
   "metadata": {
    "id": "get_test_item:automl,icn,csv"
   },
   "outputs": [],
   "source": [
    "test_item = !gsutil cat $IMPORT_FILE | head -n1\n",
    "if len(str(test_item[0]).split(\",\")) == 3:\n",
    "    _, test_item, test_label = str(test_item[0]).split(\",\")\n",
    "else:\n",
    "    test_item, test_label = str(test_item[0]).split(\",\")\n",
    "\n",
    "print(test_item, test_label)"
   ]
  },
  {
   "cell_type": "markdown",
   "metadata": {
    "id": "predict_request:mbsdk,icn"
   },
   "source": [
    "### 进行预测\n",
    "\n",
    "现在您的`Model`资源已部署到`Endpoint`资源，您可以通过向Endpoint资源发送预测请求进行在线预测。\n",
    "\n",
    "#### 请求\n",
    "\n",
    "由于在本示例中，您的测试项目位于 Cloud Storage 桶中，您可以使用`tf.io.gfile.Gfile()`来打开和读取图像的内容。为了将测试数据传递给预测服务，您需要将字节编码为 base64 -- 这样可以确保内容在通过网络传输二进制数据时不会被修改。\n",
    "\n",
    "每个实例的格式如下：\n",
    "\n",
    "    { 'content': { 'b64': base64编码的字节 } }\n",
    "\n",
    "由于`predict()`方法可以接受多个项目（实例），请将单个测试项目发送为包含一个测试项目的列表。\n",
    "\n",
    "#### 响应\n",
    "\n",
    "从`predict()`调用的响应是一个Python字典，包含以下条目：\n",
    "\n",
    "- `ids`: 每个预测请求的内部分配的唯一标识符。\n",
    "- `displayNames`: 每个类别标签的类名。\n",
    "- `confidences`: 每个类别标签的预测置信度，介于0和1之间。\n",
    "- `deployed_model_id`: 执行预测的部署的Model资源的 Vertex AI 标识符。"
   ]
  },
  {
   "cell_type": "code",
   "execution_count": null,
   "metadata": {
    "id": "predict_request:mbsdk,icn"
   },
   "outputs": [],
   "source": [
    "import base64\n",
    "\n",
    "import tensorflow as tf\n",
    "\n",
    "with tf.io.gfile.GFile(test_item, \"rb\") as f:\n",
    "    content = f.read()\n",
    "\n",
    "# The format of each instance should conform to the deployed model's prediction input schema.\n",
    "instances = [{\"content\": base64.b64encode(content).decode(\"utf-8\")}]\n",
    "\n",
    "prediction = endpoint.predict(instances=instances)\n",
    "\n",
    "print(prediction)"
   ]
  },
  {
   "cell_type": "markdown",
   "metadata": {
    "id": "predict_request:mbsdk,icn"
   },
   "source": [
    "*Example output:*\n",
    "\n",
    "预测(predictions=[{'ids': ['3195476558944927744', '5501319568158621696', '1636105187967893504', '2789026692574740480', '7400712711002128384'], 'displayNames': ['daisy', 'tulips', 'dandelion', 'sunflowers', 'roses'], 'confidences': [0.999987364, 2.69604527e-07, 8.2222e-06, 5.32310196e-07, 3.6782335e-06]}], deployed_model_id='5949545378826158080', explanations=None)"
   ]
  },
  {
   "cell_type": "markdown",
   "metadata": {
    "id": "undeploy_model:mbsdk"
   },
   "source": [
    "取消部署模型\n",
    "\n",
    "当您完成预测时，您可以从“端点”资源中取消部署模型。这将取消所有计算资源，并停止为部署的模型计费。"
   ]
  },
  {
   "cell_type": "code",
   "execution_count": null,
   "metadata": {
    "id": "undeploy_model:mbsdk"
   },
   "outputs": [],
   "source": [
    "endpoint.undeploy_all()"
   ]
  },
  {
   "cell_type": "markdown",
   "metadata": {
    "id": "cleanup:mbsdk"
   },
   "source": [
    "清理\n",
    "\n",
    "要清理此项目中使用的所有Google Cloud资源，您可以[删除您在教程中使用的Google Cloud项目](https://cloud.google.com/resource-manager/docs/creating-managing-projects#shutting_down_projects)。\n",
    "\n",
    "否则，您可以删除在本教程中创建的各个资源。"
   ]
  },
  {
   "cell_type": "code",
   "execution_count": null,
   "metadata": {
    "id": "cleanup:mbsdk"
   },
   "outputs": [],
   "source": [
    "delete_bucket = False\n",
    "\n",
    "# Delete the dataset using the Vertex dataset object\n",
    "dataset.delete()\n",
    "\n",
    "# Delete the model using the Vertex model object\n",
    "model.delete()\n",
    "\n",
    "# Delete the AutoML trainig job\n",
    "dag.delete()\n",
    "\n",
    "# Delete the batch prediction job\n",
    "batch_predict_job.delete()\n",
    "\n",
    "if delete_bucket or os.getenv(\"IS_TESTING\"):\n",
    "    ! gsutil rm -r $BUCKET_URI"
   ]
  }
 ],
 "metadata": {
  "colab": {
   "name": "sdk-automl-image-classification-batch-online.ipynb",
   "toc_visible": true
  },
  "kernelspec": {
   "display_name": "Python 3",
   "name": "python3"
  }
 },
 "nbformat": 4,
 "nbformat_minor": 0
}
