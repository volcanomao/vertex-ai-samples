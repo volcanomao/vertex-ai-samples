{
 "cells": [
  {
   "cell_type": "code",
   "execution_count": null,
   "metadata": {
    "id": "copyright"
   },
   "outputs": [],
   "source": [
    "# Copyright 2021 Google LLC\n",
    "#\n",
    "# Licensed under the Apache License, Version 2.0 (the \"License\");\n",
    "# you may not use this file except in compliance with the License.\n",
    "# You may obtain a copy of the License at\n",
    "#\n",
    "#     https://www.apache.org/licenses/LICENSE-2.0\n",
    "#\n",
    "# Unless required by applicable law or agreed to in writing, software\n",
    "# distributed under the License is distributed on an \"AS IS\" BASIS,\n",
    "# WITHOUT WARRANTIES OR CONDITIONS OF ANY KIND, either express or implied.\n",
    "# See the License for the specific language governing permissions and\n",
    "# limitations under the License."
   ]
  },
  {
   "cell_type": "markdown",
   "metadata": {
    "id": "title:migration,new"
   },
   "source": [
    "# Vertex AI 迁移：AutoML 图像目标检测\n",
    "\n",
    "<table align=\"left\">\n",
    "\n",
    "  <td>\n",
    "    <a href=\"https://colab.research.google.com/github/GoogleCloudPlatform/vertex-ai-samples/blob/main/notebooks/official/migration/sdk-automl-image-object-detection-batch-online.ipynb\">\n",
    "      <img src=\"https://cloud.google.com/ml-engine/images/colab-logo-32px.png\" alt=\"Colab logo\"> 在 Colab 中运行\n",
    "    </a>\n",
    "  </td>\n",
    "  <td>\n",
    "    <a href=\"https://github.com/GoogleCloudPlatform/vertex-ai-samples/blob/main/notebooks/official/migration/sdk-automl-image-object-detection-batch-online.ipynb\">\n",
    "      <img src=\"https://cloud.google.com/ml-engine/images/github-logo-32px.png\" alt=\"GitHub logo\">\n",
    "      在 GitHub 上查看\n",
    "    </a>\n",
    "  </td>\n",
    "  <td>\n",
    "<a href=\"https://console.cloud.google.com/vertex-ai/workbench/deploy-notebook?download_url=https://raw.githubusercontent.com/GoogleCloudPlatform/vertex-ai-samples/main/notebooks/official/migration/sdk-automl-image-object-detection-batch-online.ipynb\" target='_blank'>\n",
    "      <img src=\"https://lh3.googleusercontent.com/UiNooY4LUgW_oTvpsNhPpQzsstV5W8F7rYgxgGBD85cWJoLmrOzhVs_ksK_vgx40SHs7jCqkTkCk=e14-rj-sc0xffffff-h130-w32\" alt=\"Vertex AI logo\">\n",
    "      在 Vertex AI 工作台中打开\n",
    "    </a>\n",
    "  </td>                                                                                               \n",
    "</table>\n",
    "\n",
    "<br/><br/><br/>"
   ]
  },
  {
   "cell_type": "markdown",
   "metadata": {
    "id": "7a8a13b86a8b"
   },
   "source": [
    "## 概述\n",
    "\n",
    "本教程演示了如何使用Python的Vertex AI SDK来训练和部署AutoML目标检测模型。\n",
    "\n",
    "了解更多关于[迁移到Vertex AI](https://cloud.google.com/vertex-ai/docs/start/migrating-to-vertex-ai)和[图像数据的目标检测](https://cloud.google.com/vertex-ai/docs/training-overview#object_detection_for_images)。"
   ]
  },
  {
   "cell_type": "markdown",
   "metadata": {
    "id": "618cfedf829a"
   },
   "source": [
    "### 目标\n",
    "\n",
    "在本教程中，您将学习如何使用 `AutoML` 训练图像模型，并使用 `Vertex AI Prediction` 和 `Vertex AI Batch Prediction` 进行在线和批量预测。\n",
    "\n",
    "本教程使用以下 Google Cloud ML 服务：\n",
    "\n",
    "- `AutoML`\n",
    "- `Vertex AI Batch Prediction`\n",
    "- `Vertex AI Model` 资源\n",
    "- `Vertex AI Endpoint` 资源\n",
    "\n",
    "执行的步骤包括：\n",
    "\n",
    "- 训练一个 AutoML 目标检测模型。\n",
    "- 进行批量预测。\n",
    "- 将模型部署到端点。\n",
    "- 进行在线预测。"
   ]
  },
  {
   "cell_type": "markdown",
   "metadata": {
    "id": "dataset:salads,iod"
   },
   "source": [
    "数据集\n",
    "\n",
    "本教程使用的数据集是来自[TensorFlow数据集](https://www.tensorflow.org/datasets/catalog/open_images_v4)中的沙拉类别的[OpenImages数据集](https://www.tensorflow.org/datasets/catalog/open_images_v4)。这个数据集不需要任何特征工程。在本教程中使用的数据集版本存储在一个公共云存储桶中。训练好的模型可以预测图像中沙拉类别的边界框位置和相应类型，包括五种项目：沙拉、海鲜、番茄、烘焙食品或奶酪。"
   ]
  },
  {
   "cell_type": "markdown",
   "metadata": {
    "id": "costs"
   },
   "source": [
    "### 成本\n",
    "\n",
    "本教程使用了Google Cloud 的收费组件：\n",
    "\n",
    "* Vertex AI\n",
    "* Cloud Storage\n",
    "\n",
    "了解[Vertex AI\n",
    "价格](https://cloud.google.com/vertex-ai/pricing)和[Cloud Storage\n",
    "价格](https://cloud.google.com/storage/pricing)，并使用[Pricing Calculator](https://cloud.google.com/products/calculator/)\n",
    "根据您的预期使用量生成成本估算。"
   ]
  },
  {
   "cell_type": "markdown",
   "metadata": {
    "id": "install_aip:mbsdk"
   },
   "source": [
    "## 安装\n",
    "\n",
    "安装执行此笔记本所需的软件包。"
   ]
  },
  {
   "cell_type": "code",
   "execution_count": null,
   "metadata": {
    "id": "install_aip:mbsdk"
   },
   "outputs": [],
   "source": [
    "! pip3 install --upgrade --quiet google-cloud-aiplatform \\\n",
    "                                 google-cloud-storage \\\n",
    "                                 tensorflow"
   ]
  },
  {
   "cell_type": "markdown",
   "metadata": {
    "id": "restart"
   },
   "source": [
    "仅限Colab使用：取消注释以下单元格以重新启动内核"
   ]
  },
  {
   "cell_type": "code",
   "execution_count": null,
   "metadata": {
    "id": "D-ZBOjErv5mM"
   },
   "outputs": [],
   "source": [
    "# Automatically restart kernel after installs so that your environment can access the new packages\n",
    "# import IPython\n",
    "\n",
    "# app = IPython.Application.instance()\n",
    "# app.kernel.do_shutdown(True)"
   ]
  },
  {
   "cell_type": "markdown",
   "metadata": {
    "id": "before_you_begin:nogpu"
   },
   "source": [
    "在你开始之前"
   ]
  },
  {
   "cell_type": "markdown",
   "metadata": {
    "id": "before_you_begin:nogpu"
   },
   "source": [
    "### 设置您的项目ID\n",
    "\n",
    "**如果您不知道您的项目ID**，请尝试以下操作：\n",
    "* 运行 `gcloud config list`。\n",
    "* 运行 `gcloud projects list`。\n",
    "* 查看支持页面：[查找项目ID](https://support.google.com/googleapi/answer/7014113)。"
   ]
  },
  {
   "cell_type": "code",
   "execution_count": null,
   "metadata": {
    "id": "set_project_id"
   },
   "outputs": [],
   "source": [
    "PROJECT_ID = \"[your-project-id]\"  # @param {type:\"string\"}\n",
    "\n",
    "# Set the project id\n",
    "! gcloud config set project {PROJECT_ID}"
   ]
  },
  {
   "cell_type": "markdown",
   "metadata": {
    "id": "region"
   },
   "source": [
    "#### 区域\n",
    "\n",
    "您还可以更改 Vertex AI 使用的 `REGION` 变量。 了解有关 [Vertex AI 区域](https://cloud.google.com/vertex-ai/docs/general/locations) 的更多信息。"
   ]
  },
  {
   "cell_type": "code",
   "execution_count": null,
   "metadata": {
    "id": "region"
   },
   "outputs": [],
   "source": [
    "REGION = \"us-central1\"  # @param {type: \"string\"}"
   ]
  },
  {
   "cell_type": "markdown",
   "metadata": {
    "id": "timestamp"
   },
   "source": [
    "UUID\n",
    "\n",
    "如果您在一个实时教程会话中，可能正在使用一个共享的测试帐户或项目。为了避免用户在创建资源时发生名称冲突，您可以为每个实例会话创建一个UUID，并将其附加到您在本教程中创建的资源名称上。"
   ]
  },
  {
   "cell_type": "code",
   "execution_count": null,
   "metadata": {
    "id": "timestamp"
   },
   "outputs": [],
   "source": [
    "import random\n",
    "import string\n",
    "\n",
    "\n",
    "# Generate a uuid of a specifed length(default=8)\n",
    "def generate_uuid(length: int = 8) -> str:\n",
    "    return \"\".join(random.choices(string.ascii_lowercase + string.digits, k=length))\n",
    "\n",
    "\n",
    "UUID = generate_uuid()"
   ]
  },
  {
   "cell_type": "markdown",
   "metadata": {
    "id": "gcp_authenticate"
   },
   "source": [
    "### 验证您的 Google Cloud 账户\n",
    "\n",
    "根据您的 Jupyter 环境，您可能需要手动进行身份验证。请按照以下相关说明操作。\n",
    "\n",
    "**1. Vertex AI Workbench**\n",
    "* 无需操作，因为您已经通过验证。\n",
    "\n",
    "**2. 本地 JupyterLab 实例，请取消注释并运行：**"
   ]
  },
  {
   "cell_type": "code",
   "execution_count": null,
   "metadata": {
    "id": "ce6043da7b33"
   },
   "outputs": [],
   "source": [
    "# ! gcloud auth login"
   ]
  },
  {
   "cell_type": "markdown",
   "metadata": {
    "id": "0367eac06a10"
   },
   "source": [
    "3. 合作，取消注释并运行:"
   ]
  },
  {
   "cell_type": "code",
   "execution_count": null,
   "metadata": {
    "id": "21ad4dbb4a61"
   },
   "outputs": [],
   "source": [
    "# from google.colab import auth\n",
    "# auth.authenticate_user()"
   ]
  },
  {
   "cell_type": "markdown",
   "metadata": {
    "id": "c13224697bfb"
   },
   "source": [
    "4. 服务账户或其他\n",
    "* 查看如何在https://cloud.google.com/storage/docs/gsutil/commands/iam#ch-examples为您的服务账户授予云存储权限。"
   ]
  },
  {
   "cell_type": "markdown",
   "metadata": {
    "id": "bucket:mbsdk"
   },
   "source": [
    "创建一个云存储桶\n",
    "\n",
    "创建一个存储桶用于存储中间产物，例如数据集。"
   ]
  },
  {
   "cell_type": "code",
   "execution_count": null,
   "metadata": {
    "id": "bucket"
   },
   "outputs": [],
   "source": [
    "BUCKET_URI = f\"gs://your-bucket-name-{PROJECT_ID}-unique\"  # @param {type:\"string\"}"
   ]
  },
  {
   "cell_type": "markdown",
   "metadata": {
    "id": "create_bucket"
   },
   "source": [
    "只有你的存储桶尚未存在时：运行以下单元格以创建您的云存储桶。"
   ]
  },
  {
   "cell_type": "code",
   "execution_count": null,
   "metadata": {
    "id": "create_bucket"
   },
   "outputs": [],
   "source": [
    "! gsutil mb -l {REGION} {BUCKET_URI}"
   ]
  },
  {
   "cell_type": "markdown",
   "metadata": {
    "id": "setup_vars"
   },
   "source": [
    "### 设置变量\n",
    "\n",
    "接下来，设置一些在教程中使用的变量。\n",
    "### 导入库并定义常量"
   ]
  },
  {
   "cell_type": "code",
   "execution_count": null,
   "metadata": {
    "id": "import_aip:mbsdk"
   },
   "outputs": [],
   "source": [
    "import google.cloud.aiplatform as aip"
   ]
  },
  {
   "cell_type": "markdown",
   "metadata": {
    "id": "init_aip:mbsdk"
   },
   "source": [
    "初始化Python的Vertex AI SDK\n",
    "\n",
    "为您的项目和相应的存储桶初始化Python的Vertex AI SDK。"
   ]
  },
  {
   "cell_type": "code",
   "execution_count": null,
   "metadata": {
    "id": "init_aip:mbsdk"
   },
   "outputs": [],
   "source": [
    "aip.init(project=PROJECT_ID, staging_bucket=BUCKET_URI)"
   ]
  },
  {
   "cell_type": "markdown",
   "metadata": {
    "id": "import_file:u_dataset,csv"
   },
   "source": [
    "云存储培训数据的位置。\n",
    "\n",
    "现在将变量 `IMPORT_FILE` 设置为云存储中CSV索引文件的位置。"
   ]
  },
  {
   "cell_type": "code",
   "execution_count": null,
   "metadata": {
    "id": "import_file:salads,csv,iod"
   },
   "outputs": [],
   "source": [
    "IMPORT_FILE = \"gs://cloud-samples-data/vision/salads.csv\""
   ]
  },
  {
   "cell_type": "markdown",
   "metadata": {
    "id": "quick_peek:csv"
   },
   "source": [
    "快速查看您的数据\n",
    "\n",
    "此教程使用存储在公共云存储桶中的Salads数据集的一个版本，使用CSV索引文件。\n",
    "\n",
    "首先快速查看数据。您可以通过计算CSV索引文件中的行数（`wc -l`）来统计示例数量，然后查看前几行。"
   ]
  },
  {
   "cell_type": "code",
   "execution_count": null,
   "metadata": {
    "id": "quick_peek:csv"
   },
   "outputs": [],
   "source": [
    "if \"IMPORT_FILES\" in globals():\n",
    "    FILE = IMPORT_FILES[0]\n",
    "else:\n",
    "    FILE = IMPORT_FILE\n",
    "\n",
    "count = ! gsutil cat $FILE | wc -l\n",
    "print(\"Number of Examples\", int(count[0]))\n",
    "\n",
    "print(\"First 10 rows\")\n",
    "! gsutil cat $FILE | head"
   ]
  },
  {
   "cell_type": "markdown",
   "metadata": {
    "id": "create_a_dataset:migration"
   },
   "source": [
    "创建数据集"
   ]
  },
  {
   "cell_type": "markdown",
   "metadata": {
    "id": "datasets_create:migration,new,mbsdk"
   },
   "source": [
    "### [datasets.create-dataset-api](https://cloud.google.com/vertex-ai/docs/datasets/create-dataset-api)\n",
    "\n",
    "### [datasets.create-dataset-api](https://cloud.google.com/vertex-ai/docs/datasets/create-dataset-api)"
   ]
  },
  {
   "cell_type": "markdown",
   "metadata": {
    "id": "create_dataset:image,iod"
   },
   "source": [
    "### 创建数据集\n",
    "\n",
    "接下来，使用`ImageDataset`类的`create`方法创建`Dataset`资源，该方法接受以下参数：\n",
    "\n",
    "- `display_name`：`Dataset`资源的可读名称。\n",
    "- `gcs_source`：包含一个或多个数据集索引文件，用于将数据项导入到`Dataset`资源中。\n",
    "- `import_schema_uri`：数据项的数据标记模式。\n",
    "\n",
    "此操作可能需要几分钟时间。"
   ]
  },
  {
   "cell_type": "code",
   "execution_count": null,
   "metadata": {
    "id": "create_dataset:image,iod"
   },
   "outputs": [],
   "source": [
    "dataset = aip.ImageDataset.create(\n",
    "    display_name=\"Salads\" + \"_\" + UUID,\n",
    "    gcs_source=[IMPORT_FILE],\n",
    "    import_schema_uri=aip.schema.dataset.ioformat.image.bounding_box,\n",
    ")\n",
    "\n",
    "print(dataset.resource_name)"
   ]
  },
  {
   "cell_type": "markdown",
   "metadata": {
    "id": "create_dataset:image,iod"
   },
   "source": [
    "INFO:google.cloud.aiplatform.datasets.dataset:创建ImageDataset\n",
    "INFO:google.cloud.aiplatform.datasets.dataset:创建ImageDataset支持的LRO: projects/759209241365/locations/us-central1/datasets/2940964905882222592/operations/1941426647739662336\n",
    "INFO:google.cloud.aiplatform.datasets.dataset:已创建ImageDataset。资源名称: projects/759209241365/locations/us-central1/datasets/2940964905882222592\n",
    "INFO:google.cloud.aiplatform.datasets.dataset:在另一个会话中使用此ImageDataset：\n",
    "INFO:google.cloud.aiplatform.datasets.dataset:ds = aiplatform.ImageDataset('projects/759209241365/locations/us-central1/datasets/2940964905882222592')\n",
    "INFO:google.cloud.aiplatform.datasets.dataset:导入ImageDataset数据: projects/759209241365/locations/us-central1/datasets/2940964905882222592\n",
    "INFO:google.cloud.aiplatform.datasets.dataset:导入ImageDataset数据支持的LRO: projects/759209241365/locations/us-central1/datasets/2940964905882222592/operations/8100099138168815616\n",
    "INFO:google.cloud.aiplatform.datasets.dataset:ImageDataset数据已导入。资源名称: projects/759209241365/locations/us-central1/datasets/2940964905882222592\n",
    "projects/759209241365/locations/us-central1/datasets/2940964905882222592"
   ]
  },
  {
   "cell_type": "markdown",
   "metadata": {
    "id": "train_a_model:migration"
   },
   "source": [
    "训练一个模型"
   ]
  },
  {
   "cell_type": "markdown",
   "metadata": {
    "id": "trainingpipelines_create:migration,new,mbsdk"
   },
   "source": [
    "### [training.automl-api](https://cloud.google.com/vertex-ai/docs/training/automl-api)\n",
    "\n",
    "### [训练自动机 API](https://cloud.google.com/vertex-ai/docs/training/automl-api)"
   ]
  },
  {
   "cell_type": "markdown",
   "metadata": {
    "id": "create_automl_pipeline:image,iod"
   },
   "source": [
    "### 创建并运行训练流水线\n",
    "\n",
    "要训练一个AutoML模型，您需要执行两个步骤：1) 创建一个训练流水线，2) 运行这个流水线。\n",
    "\n",
    "#### 创建训练流水线\n",
    "\n",
    "使用`AutoMLImageTrainingJob`类创建一个AutoML训练流水线，需要以下参数：\n",
    "\n",
    "- `display_name`：`TrainingJob`资源的可读名称。\n",
    "- `prediction_type`：训练模型的任务类型。\n",
    "  - `classification`：图像分类模型。\n",
    "  - `object_detection`：图像目标检测模型。\n",
    "- `multi_label`：如果是分类任务，是单标签（`False`）还是多标签（`True`）。\n",
    "- `model_type`：部署模型的类型。\n",
    "  - `CLOUD`：部署在Google Cloud上\n",
    "  - `CLOUD_HIGH_ACCURACY_1`：为在Google Cloud上部署优化准确性而非延迟的模型。\n",
    "  - `CLOUD_LOW_LATENCY_`：为在Google Cloud上部署优化延迟而非准确性的模型。\n",
    "  - `MOBILE_TF_VERSATILE_1`：部署在边缘设备上。\n",
    "  - `MOBILE_TF_HIGH_ACCURACY_1`：为在边缘设备上部署优化准确性而非延迟的模型。\n",
    "  - `MOBILE_TF_LOW_LATENCY_1`：为在边缘设备上部署优化延迟而非准确性的模型。\n",
    "- `base_model`：（可选）从现有`Model`资源进行迁移学习，仅支持图像分类。\n",
    "\n",
    "实例化的对象是用于训练任务的有向无环图（DAG）。"
   ]
  },
  {
   "cell_type": "code",
   "execution_count": null,
   "metadata": {
    "id": "create_automl_pipeline:image,iod"
   },
   "outputs": [],
   "source": [
    "dag = aip.AutoMLImageTrainingJob(\n",
    "    display_name=\"salads_\" + UUID,\n",
    "    prediction_type=\"object_detection\",\n",
    "    multi_label=False,\n",
    "    model_type=\"CLOUD\",\n",
    "    base_model=None,\n",
    ")\n",
    "\n",
    "print(dag)"
   ]
  },
  {
   "cell_type": "markdown",
   "metadata": {
    "id": "create_automl_pipeline:image,iod"
   },
   "source": [
    "*示例输出：*\n",
    "\n",
    "<google.cloud.aiplatform.training_jobs.AutoMLImageTrainingJob对象，位于0x7f806a6116d0>"
   ]
  },
  {
   "cell_type": "markdown",
   "metadata": {
    "id": "run_automl_pipeline:image"
   },
   "source": [
    "#### 运行训练管道\n",
    "\n",
    "接下来，您可以通过调用`run`方法并传入以下参数来运行DAG以开始训练作业：\n",
    "\n",
    "- `dataset`: 用于训练模型的`Dataset`资源。\n",
    "- `model_display_name`: 训练模型的人类可读名称。\n",
    "- `training_fraction_split`: 用于训练的数据集百分比。\n",
    "- `test_fraction_split`: 用于测试的数据集百分比（留存数据）。\n",
    "- `validation_fraction_split`: 用于验证的数据集百分比。\n",
    "- `budget_milli_node_hours`: （可选）以毫小时为单位指定的最大训练时间（1000 = 小时）。\n",
    "- `disable_early_stopping`: 如果为`True`，服务可能会在使用完整预算之前完成训练，因为它相信无法进一步改进模型的目标测量。\n",
    "\n",
    "完成`run`方法后，将返回`Model`资源。\n",
    "\n",
    "训练管道的执行将需要最多20分钟。"
   ]
  },
  {
   "cell_type": "code",
   "execution_count": null,
   "metadata": {
    "id": "run_automl_pipeline:image"
   },
   "outputs": [],
   "source": [
    "model = dag.run(\n",
    "    dataset=dataset,\n",
    "    model_display_name=\"salads_\" + UUID,\n",
    "    training_fraction_split=0.8,\n",
    "    validation_fraction_split=0.1,\n",
    "    test_fraction_split=0.1,\n",
    "    budget_milli_node_hours=20000,\n",
    "    disable_early_stopping=False,\n",
    ")"
   ]
  },
  {
   "cell_type": "markdown",
   "metadata": {
    "id": "run_automl_pipeline:image"
   },
   "source": [
    "示例输出：\n",
    "\n",
    "    信息：google.cloud.aiplatform.training_jobs:查看培训：\n",
    "    https://console.cloud.google.com/ai/platform/locations/us-central1/training/2109316300865011712?project=759209241365\n",
    "    信息：google.cloud.aiplatform.training_jobs:AutoMLImageTrainingJob项目/759209241365/locations/us-central1/trainingPipelines/2109316300865011712当前状态：\n",
    "    PipelineState.PIPELINE_STATE_RUNNING\n",
    "    信息：google.cloud.aiplatform.training_jobs:AutoMLImageTrainingJob项目/759209241365/locations/us-central1/trainingPipelines/2109316300865011712当前状态：\n",
    "    PipelineState.PIPELINE_STATE_RUNNING\n",
    "    信息：google.cloud.aiplatform.training_jobs:AutoMLImageTrainingJob项目/759209241365/locations/us-central1/trainingPipelines/2109316300865011712当前状态：\n",
    "    PipelineState.PIPELINE_STATE_RUNNING\n",
    "    信息：google.cloud.aiplatform.training_jobs:AutoMLImageTrainingJob项目/759209241365/locations/us-central1/trainingPipelines/2109316300865011712当前状态：\n",
    "    PipelineState.PIPELINE_STATE_RUNNING\n",
    "    信息：google.cloud.aiplatform.training_jobs:AutoMLImageTrainingJob项目/759209241365/locations/us-central1/trainingPipelines/2109316300865011712当前状态：\n",
    "    PipelineState.PIPELINE_STATE_RUNNING\n",
    "    ...\n",
    "    信息：google.cloud.aiplatform.training_jobs:AutoMLImageTrainingJob运行完成。资源名称：projects/759209241365/locations/us-central1/trainingPipelines/2109316300865011712\n",
    "    信息：google.cloud.aiplatform.training_jobs:模型可在projects/759209241365/locations/us-central1/models/1284590221056278528找到"
   ]
  },
  {
   "cell_type": "markdown",
   "metadata": {
    "id": "evaluate_the_model:migration"
   },
   "source": [
    "## 评估模型"
   ]
  },
  {
   "cell_type": "markdown",
   "metadata": {
    "id": "models_evaluations_list:migration,new"
   },
   "source": [
    "### [projects.locations.models.evaluations.list](https://cloud.devsite.corp.google.com/ai-platform-unified/docs/reference/rest/v1beta1/projects.locations.models.evaluations/list)\n",
    "\n",
    "### [项目.位置.模型.评估列表](https://cloud.devsite.corp.google.com/ai-platform-unified/docs/reference/rest/v1beta1/projects.locations.models.evaluations/list)"
   ]
  },
  {
   "cell_type": "markdown",
   "metadata": {
    "id": "evaluate_the_model:mbsdk"
   },
   "source": [
    "## 查看模型评估分数\n",
    "在您的模型训练完成后，您可以查看其评估分数。\n",
    "\n",
    "首先，您需要获取对新模型的引用。与数据集一样，您可以使用部署模型时创建的模型变量的引用，或者列出项目中的所有模型。"
   ]
  },
  {
   "cell_type": "code",
   "execution_count": null,
   "metadata": {
    "id": "evaluate_the_model:mbsdk"
   },
   "outputs": [],
   "source": [
    "# Get model resource ID\n",
    "models = aip.Model.list(filter=\"display_name=salads_\" + UUID)\n",
    "\n",
    "# Get a reference to the Model Service client\n",
    "client_options = {\"api_endpoint\": f\"{REGION}-aiplatform.googleapis.com\"}\n",
    "model_service_client = aip.gapic.ModelServiceClient(client_options=client_options)\n",
    "\n",
    "model_evaluations = model_service_client.list_model_evaluations(\n",
    "    parent=models[0].resource_name\n",
    ")\n",
    "model_evaluation = list(model_evaluations)[0]\n",
    "print(model_evaluation)"
   ]
  },
  {
   "cell_type": "markdown",
   "metadata": {
    "id": "evaluate_the_model:mbsdk"
   },
   "source": [
    "*示例输出：*\n",
    "\n",
    "    名称： \"projects/759209241365/locations/us-central1/models/623915674158235648/evaluations/4280507618583117824\"\n",
    "    metrics_schema_uri： \"gs://google-cloud-aiplatform/schema/modelevaluation/classification_metrics_1.0.0.yaml\"\n",
    "    指标 {\n",
    "      结构值 {\n",
    "        字段 {\n",
    "          键： \"auPrc\"\n",
    "          值 {\n",
    "            number_value: 0.9891107\n",
    "          }\n",
    "        }\n",
    "        字段 {\n",
    "          键： \"confidenceMetrics\"\n",
    "          值 {\n",
    "            list_value {\n",
    "              values {\n",
    "                struct_value {\n",
    "                  fields {\n",
    "                    键： \"precision\"\n",
    "                    值 {\n",
    "                      number_value: 0.2\n",
    "                    }\n",
    "                  }\n",
    "                  fields {\n",
    "                    键： \"recall\"\n",
    "                    值 {\n",
    "                      number_value: 1.0\n",
    "                    }\n",
    "                  }\n",
    "                }\n",
    "              }"
   ]
  },
  {
   "cell_type": "markdown",
   "metadata": {
    "id": "make_batch_predictions:migration"
   },
   "source": [
    "进行批量预测"
   ]
  },
  {
   "cell_type": "markdown",
   "metadata": {
    "id": "batchpredictionjobs_create:migration,new,mbsdk"
   },
   "source": [
    "### [predictions.batch-prediction](https://cloud.google.com/vertex-ai/docs/predictions/batch-predictions)\n",
    "\n",
    "### [预测批量预测](https://cloud.google.com/vertex-ai/docs/predictions/batch-predictions)"
   ]
  },
  {
   "cell_type": "markdown",
   "metadata": {
    "id": "get_test_items:batch_prediction"
   },
   "source": [
    "获取测试项目\n",
    "\n",
    "现在对您的Vertex模型进行批量预测。您将使用数据集中的任意示例作为测试项目。不要担心这些示例可能已经在训练模型时被使用 - 我们只是想演示如何进行预测。"
   ]
  },
  {
   "cell_type": "code",
   "execution_count": null,
   "metadata": {
    "id": "get_test_items:automl,iod,csv"
   },
   "outputs": [],
   "source": [
    "test_items = !gsutil cat $IMPORT_FILE | head -n2\n",
    "cols_1 = str(test_items[0]).split(\",\")\n",
    "cols_2 = str(test_items[1]).split(\",\")\n",
    "if len(cols_1) == 11:\n",
    "    test_item_1 = str(cols_1[1])\n",
    "    test_label_1 = str(cols_1[2])\n",
    "    test_item_2 = str(cols_2[1])\n",
    "    test_label_2 = str(cols_2[2])\n",
    "else:\n",
    "    test_item_1 = str(cols_1[0])\n",
    "    test_label_1 = str(cols_1[1])\n",
    "    test_item_2 = str(cols_2[0])\n",
    "    test_label_2 = str(cols_2[1])\n",
    "\n",
    "print(test_item_1, test_label_1)\n",
    "print(test_item_2, test_label_2)"
   ]
  },
  {
   "cell_type": "markdown",
   "metadata": {
    "id": "copy_test_items:batch_prediction"
   },
   "source": [
    "### 复制测试项目\n",
    "\n",
    "对于批量预测，请将测试项目复制到您的云存储桶中。"
   ]
  },
  {
   "cell_type": "code",
   "execution_count": null,
   "metadata": {
    "id": "copy_test_items:batch_prediction"
   },
   "outputs": [],
   "source": [
    "file_1 = test_item_1.split(\"/\")[-1]\n",
    "file_2 = test_item_2.split(\"/\")[-1]\n",
    "\n",
    "! gsutil cp $test_item_1 $BUCKET_URI/$file_1\n",
    "! gsutil cp $test_item_2 $BUCKET_URI/$file_2\n",
    "\n",
    "test_item_1 = BUCKET_URI + \"/\" + file_1\n",
    "test_item_2 = BUCKET_URI + \"/\" + file_2"
   ]
  },
  {
   "cell_type": "markdown",
   "metadata": {
    "id": "make_batch_file:automl,image"
   },
   "source": [
    "### 制作批量输入文件\n",
    "\n",
    "现在制作一个批量输入文件，将其存储在您的本地云存储桶中。批量输入文件可以是CSV或JSONL格式。在本教程中，您将使用JSONL格式。对于JSONL文件，您会为每个数据项（实例）的每一行制作一个字典条目。字典包含键/值对：\n",
    "\n",
    "- `content`：图像的云存储路径。\n",
    "- `mime_type`：内容类型。在我们的例子中，它是一个`jpeg`文件。\n",
    "\n",
    "例如：\n",
    "\n",
    "{'content': '[your-bucket]/file1.jpg', 'mime_type': 'jpeg'}"
   ]
  },
  {
   "cell_type": "code",
   "execution_count": null,
   "metadata": {
    "id": "make_batch_file:automl,image"
   },
   "outputs": [],
   "source": [
    "import json\n",
    "\n",
    "import tensorflow as tf\n",
    "\n",
    "gcs_input_uri = BUCKET_URI + \"/test.jsonl\"\n",
    "with tf.io.gfile.GFile(gcs_input_uri, \"w\") as f:\n",
    "    data = {\"content\": test_item_1, \"mime_type\": \"image/jpeg\"}\n",
    "    f.write(json.dumps(data) + \"\\n\")\n",
    "    data = {\"content\": test_item_2, \"mime_type\": \"image/jpeg\"}\n",
    "    f.write(json.dumps(data) + \"\\n\")\n",
    "\n",
    "print(gcs_input_uri)\n",
    "! gsutil cat $gcs_input_uri"
   ]
  },
  {
   "cell_type": "markdown",
   "metadata": {
    "id": "batch_request:mbsdk"
   },
   "source": [
    "### 发送批量预测请求\n",
    "\n",
    "现在您的模型资源已经训练好了，您可以通过调用batch_predict()方法来进行批量预测，需要传入以下参数：\n",
    "\n",
    "- `job_display_name`: 批量预测作业的人类可读名称。\n",
    "- `gcs_source`: 一个或多个批量请求输入文件的列表。\n",
    "- `gcs_destination_prefix`: 用于存储批量预测结果的云存储位置。\n",
    "- `sync`: 如果设置为True，则调用将会阻塞，等待异步批量作业完成。"
   ]
  },
  {
   "cell_type": "code",
   "execution_count": null,
   "metadata": {
    "id": "batch_request:mbsdk"
   },
   "outputs": [],
   "source": [
    "batch_predict_job = model.batch_predict(\n",
    "    job_display_name=\"salads_\" + UUID,\n",
    "    gcs_source=gcs_input_uri,\n",
    "    gcs_destination_prefix=BUCKET_URI,\n",
    "    sync=False,\n",
    ")\n",
    "\n",
    "print(batch_predict_job)"
   ]
  },
  {
   "cell_type": "markdown",
   "metadata": {
    "id": "batch_request:mbsdk"
   },
   "source": [
    "示例输出：\n",
    "\n",
    "    INFO: google.cloud.aiplatform.jobs: 创建批量预测作业\n",
    "    <google.cloud.aiplatform.jobs.BatchPredictionJob object at 0x7f806a6112d0>正在等待上游依赖项完成。\n",
    "    INFO: google.cloud.aiplatform.jobs: 已创建BatchPredictionJob。资源名称：projects/759209241365/locations/us-central1/batchPredictionJobs/5110965452507447296\n",
    "    INFO: google.cloud.aiplatform.jobs: 要在另一个会话中使用此BatchPredictionJob：\n",
    "    INFO: google.cloud.aiplatform.jobs: bpj = aiplatform.BatchPredictionJob('projects/759209241365/locations/us-central1/batchPredictionJobs/5110965452507447296')\n",
    "    INFO: google.cloud.aiplatform.jobs: 查看批预测作业：\n",
    "    https://console.cloud.google.com/ai/platform/locations/us-central1/batch-predictions/5110965452507447296?project=759209241365\n",
    "    INFO: google.cloud.aiplatform.jobs: BatchPredictionJob projects/759209241365/locations/us-central1/batchPredictionJobs/5110965452507447296当前状态：\n",
    "    JobState.JOB_STATE_RUNNING"
   ]
  },
  {
   "cell_type": "markdown",
   "metadata": {
    "id": "batch_request_wait:mbsdk"
   },
   "source": [
    "### 等待批处理预测任务完成\n",
    "\n",
    "接下来，等待批处理任务完成。或者，可以在`batch_predict()`方法中将参数`sync`设置为`True`，以阻塞直到批处理预测任务完成。"
   ]
  },
  {
   "cell_type": "code",
   "execution_count": null,
   "metadata": {
    "id": "batch_request_wait:mbsdk"
   },
   "outputs": [],
   "source": [
    "batch_predict_job.wait()"
   ]
  },
  {
   "cell_type": "markdown",
   "metadata": {
    "id": "batch_request_wait:mbsdk"
   },
   "source": [
    "示例输出：\n",
    "\n",
    "INFO: google.cloud.aiplatform.jobs: BatchPredictionJob已创建。 资源名称：projects/759209241365/locations/us-central1/batchPredictionJobs/181835033978339328\n",
    "INFO: google.cloud.aiplatform.jobs: 要在另一个会话中使用此BatchPredictionJob：\n",
    "INFO: google.cloud.aiplatform.jobs: bpj = aiplatform.BatchPredictionJob('projects/759209241365/locations/us-central1/batchPredictionJobs/181835033978339328')\n",
    "INFO: google.cloud.aiplatform.jobs: 查看批量预测作业：\n",
    "https://console.cloud.google.com/ai/platform/locations/us-central1/batch-predictions/181835033978339328?project=759209241365\n",
    "INFO: google.cloud.aiplatform.jobs: BatchPredictionJob项目/759209241365/locations/us-central1/batchPredictionJobs/181835033978339328当前状态：\n",
    "JobState.JOB_STATE_RUNNING\n",
    "INFO: google.cloud.aiplatform.jobs: BatchPredictionJob项目/759209241365/locations/us-central1/batchPredictionJobs/181835033978339328当前状态：\n",
    "JobState.JOB_STATE_RUNNING\n",
    "INFO: google.cloud.aiplatform.jobs: BatchPredictionJob项目/759209241365/locations/us-central1/batchPredictionJobs/181835033978339328当前状态：\n",
    "JobState.JOB_STATE_RUNNING\n",
    "INFO: google.cloud.aiplatform.jobs: BatchPredictionJob项目/759209241365/locations/us-central1/batchPredictionJobs/181835033978339328当前状态：\n",
    "JobState.JOB_STATE_RUNNING\n",
    "INFO: google.cloud.aiplatform.jobs: BatchPredictionJob项目/759209241365/locations/us-central1/batchPredictionJobs/181835033978339328当前状态：\n",
    "JobState.JOB_STATE_RUNNING\n",
    "INFO: google.cloud.aiplatform.jobs: BatchPredictionJob项目/759209241365/locations/us-central1/batchPredictionJobs/181835033978339328当前状态：\n",
    "JobState.JOB_STATE_RUNNING\n",
    "INFO: google.cloud.aiplatform.jobs: BatchPredictionJob项目/759209241365/locations/us-central1/batchPredictionJobs/181835033978339328当前状态：\n",
    "JobState.JOB_STATE_RUNNING\n",
    "INFO: google.cloud.aiplatform.jobs: BatchPredictionJob项目/759209241365/locations/us-central1/batchPredictionJobs/181835033978339328当前状态：\n",
    "JobState.JOB_STATE_RUNNING\n",
    "INFO: google.cloud.aiplatform.jobs: BatchPredictionJob项目/759209241365/locations/us-central1/batchPredictionJobs/181835033978339328当前状态：\n",
    "JobState.JOB_STATE_SUCCEEDED\n",
    "INFO: google.cloud.aiplatform.jobs: BatchPredictionJob运行已完成。 资源名称：projects/759209241365/locations/us-central1/batchPredictionJobs/181835033978339328"
   ]
  },
  {
   "cell_type": "markdown",
   "metadata": {
    "id": "get_batch_prediction:mbsdk,iod"
   },
   "source": [
    "### 获取预测结果\n",
    "\n",
    "接下来，从已完成的批量预测作业中获取结果。\n",
    "\n",
    "结果将被写入你在批量预测请求中指定的云存储输出桶中。你可以调用iter_outputs()方法来获取包含结果的每个云存储文件的列表。每个文件以JSON格式包含一个或多个预测请求：\n",
    "\n",
    "- `content`: 预测请求。\n",
    "- `prediction`: 预测响应。\n",
    "   - `ids`: 每个预测请求的内部分配的唯一标识符。\n",
    "   - `displayNames`: 每个类别标签的类名。\n",
    "   - `bboxes`: 每个检测到的对象的边界框。"
   ]
  },
  {
   "cell_type": "code",
   "execution_count": null,
   "metadata": {
    "id": "get_batch_prediction:mbsdk,iod"
   },
   "outputs": [],
   "source": [
    "import json\n",
    "\n",
    "import tensorflow as tf\n",
    "\n",
    "bp_iter_outputs = batch_predict_job.iter_outputs()\n",
    "\n",
    "prediction_results = list()\n",
    "for blob in bp_iter_outputs:\n",
    "    if blob.name.split(\"/\")[-1].startswith(\"prediction\"):\n",
    "        prediction_results.append(blob.name)\n",
    "\n",
    "tags = list()\n",
    "for prediction_result in prediction_results:\n",
    "    gfile_name = f\"gs://{bp_iter_outputs.bucket.name}/{prediction_result}\"\n",
    "    with tf.io.gfile.GFile(name=gfile_name, mode=\"r\") as gfile:\n",
    "        for line in gfile.readlines():\n",
    "            line = json.loads(line)\n",
    "            print(line)\n",
    "            break"
   ]
  },
  {
   "cell_type": "markdown",
   "metadata": {
    "id": "get_batch_prediction:mbsdk,iod"
   },
   "source": [
    "示例输出：\n",
    "\n",
    "    预测(predictions=[{'ids': ['225634079670796288', '2099131524656922624', '4404974533870616576', '6710817543084310528', '225634079670796288', '2099131524656922624', '6710817543084310528', '2099131524656922624', '225634079670796288', '671081754308431052…'}, 部署的模型ID='2225068486990757888'，解释=None）"
   ]
  },
  {
   "cell_type": "markdown",
   "metadata": {
    "id": "make_online_predictions:migration"
   },
   "source": [
    "做在线预测"
   ]
  },
  {
   "cell_type": "markdown",
   "metadata": {
    "id": "deploy_model:migration,new,mbsdk"
   },
   "source": [
    "### [predictions.deploy-model-api](https://cloud.google.com/vertex-ai/docs/predictions/deploy-model-api)\n",
    "\n",
    "### [预测部署模型 API](https://cloud.google.com/vertex-ai/docs/predictions/deploy-model-api)"
   ]
  },
  {
   "cell_type": "markdown",
   "metadata": {
    "id": "deploy_model:mbsdk,automatic"
   },
   "source": [
    "部署模型\n",
    "\n",
    "接下来，部署您的模型进行在线预测。要部署模型，您需要调用`deploy`方法。"
   ]
  },
  {
   "cell_type": "code",
   "execution_count": null,
   "metadata": {
    "id": "deploy_model:mbsdk,automatic"
   },
   "outputs": [],
   "source": [
    "endpoint = model.deploy()"
   ]
  },
  {
   "cell_type": "markdown",
   "metadata": {
    "id": "deploy_model:mbsdk,automatic"
   },
   "source": [
    "*示例输出：*\n",
    "\n",
    "    INFO:google.cloud.aiplatform.models:创建端点\n",
    "    INFO:google.cloud.aiplatform.models:创建端点支持的LRO：projects/759209241365/locations/us-central1/endpoints/4867177336350441472/operations/4087251132693348352\n",
    "    INFO:google.cloud.aiplatform.models:端点已创建。资源名称：projects/759209241365/locations/us-central1/endpoints/4867177336350441472\n",
    "    INFO:google.cloud.aiplatform.models:要在另一个会话中使用此端点：\n",
    "    INFO:google.cloud.aiplatform.models:endpoint = aiplatform.Endpoint('projects/759209241365/locations/us-central1/endpoints/4867177336350441472')\n",
    "    INFO:google.cloud.aiplatform.models:将模型部署到端点：projects/759209241365/locations/us-central1/endpoints/4867177336350441472\n",
    "    INFO:google.cloud.aiplatform.models:部署端点模型支持的LRO：projects/759209241365/locations/us-central1/endpoints/4867177336350441472/operations/1691336130932244480\n",
    "    INFO:google.cloud.aiplatform.models:端点模型已部署。资源名称：projects/759209241365/locations/us-central1/endpoints/4867177336350441472"
   ]
  },
  {
   "cell_type": "markdown",
   "metadata": {
    "id": "endpoints_predict:migration,new,mbsdk"
   },
   "source": [
    "### [predictions.online-prediction-automl](https://cloud.google.com/vertex-ai/docs/predictions/online-predictions-automl)\n",
    "\n",
    "### [predictions.在线预测-自动ML](https://cloud.google.com/vertex-ai/docs/predictions/online-predictions-automl)"
   ]
  },
  {
   "cell_type": "markdown",
   "metadata": {
    "id": "get_test_item"
   },
   "source": [
    "获取测试项\n",
    "\n",
    "您将使用数据集中的任意示例作为测试项。不必担心这个示例很可能在训练模型时使用过 - 我们只是想演示如何进行预测。"
   ]
  },
  {
   "cell_type": "code",
   "execution_count": null,
   "metadata": {
    "id": "get_test_item:automl,iod,csv"
   },
   "outputs": [],
   "source": [
    "test_items = !gsutil cat $IMPORT_FILE | head -n1\n",
    "cols = str(test_items[0]).split(\",\")\n",
    "if len(cols) == 11:\n",
    "    test_item = str(cols[1])\n",
    "    test_label = str(cols[2])\n",
    "else:\n",
    "    test_item = str(cols[0])\n",
    "    test_label = str(cols[1])\n",
    "\n",
    "print(test_item, test_label)"
   ]
  },
  {
   "cell_type": "markdown",
   "metadata": {
    "id": "predict_request:mbsdk,iod"
   },
   "source": [
    "### 进行预测\n",
    "\n",
    "现在您的 `Model` 资源已部署到一个 `Endpoint` 资源中，您可以通过向 Endpoint 资源发送预测请求来进行在线预测。\n",
    "\n",
    "#### 请求\n",
    "\n",
    "由于在这个例子中您的测试项目位于一个 Cloud 存储桶中，您需要使用 `tf.io.gfile.GFile()` 来打开并读取图像的内容。为了将测试数据传递给预测服务，您需要将字节编码为 base64 格式 -- 这样可以确保在网络上传输二进制数据时内容不会被修改。\n",
    "\n",
    "每个实例的格式如下：\n",
    "\n",
    "    { 'content': { 'b64': base64编码的字节 } }\n",
    "\n",
    "由于 `predict()` 方法可以接受多个项目（实例），请将您的单个测试项目作为一个测试项目的列表发送。\n",
    "\n",
    "#### 响应\n",
    "\n",
    "从 `predict()` 调用中得到的响应是一个 Python 字典，具有以下条目：\n",
    "\n",
    "- `ids`: 每个预测请求的内部分配的唯一标识符。\n",
    "- `displayNames`: 每个类别标签的类别名称。\n",
    "- `confidences`: 每个类别标签的预测置信度，介于 0 和 1 之间。\n",
    "- `bboxes`: 每个检测到对象的边界框。\n",
    "- `deployed_model_id`: 执行预测的部署的 Model 资源的 Vertex AI 标识符。"
   ]
  },
  {
   "cell_type": "code",
   "execution_count": null,
   "metadata": {
    "id": "predict_request:mbsdk,iod"
   },
   "outputs": [],
   "source": [
    "import base64\n",
    "\n",
    "import tensorflow as tf\n",
    "\n",
    "with tf.io.gfile.GFile(test_item, \"rb\") as f:\n",
    "    content = f.read()\n",
    "\n",
    "# The format of each instance should conform to the deployed model's prediction input schema.\n",
    "instances = [{\"content\": base64.b64encode(content).decode(\"utf-8\")}]\n",
    "\n",
    "prediction = endpoint.predict(instances=instances)\n",
    "\n",
    "print(prediction)"
   ]
  },
  {
   "cell_type": "markdown",
   "metadata": {
    "id": "predict_request:mbsdk,iod"
   },
   "source": [
    "*Example output:*\n",
    "\n",
    "预测（predictions = [{'ids'：['2250776168359788544'，'1097854663752941568'，'2250776168359788544'，'1097854663752941568'，'1097854663752941568'，'2250776168359788544'，'5709540682180329472'，'1097854663752941568'，'2250776168359788544'，'2250776168359788544'，'3403697672966635520'，'2250776168359788544'，'3403697672966635520'，'5709540682180329472'，'8015383691394023424'，'5709540682180329472'，'3403697672966635520'，'3403697672966635520'，'3403697672966635520'，'1097854663752941568'，'2250776168359788544'，'2250776168359788544'，'1097854663752941568'，'2250776168359788544'，'2250776168359788544'，'3403697672966635520'，'8015383691394023424'，'1097854663752941568'，'2250776168359788544'，'1097854663752941568'，'2250776168359788544'，'2250776168359788544'，'5709540682180329472'，'1097854663752941568'，'1097854663752941568'，'2250776168359788544'，'5709540682180329472'，'8015383691394023424'，'2250776168359788544'，'3403697672966635520' ]，'displayNames'：['沙拉'，'烘焙食品'，'沙拉'，'烘焙食品'，'烘焙食品'，'沙拉'，'海鲜'，'烘焙食品'，'沙拉'，'沙拉'，'奶酪'，'沙拉'，'奶酪'，'海鲜'，'西红柿'，'海鲜'，'奶酪'，'奶酪'，'奶酪'，'烘焙食品'，'沙拉'，'沙拉'，'烘焙食品'，'沙拉'，'沙拉'，'奶酪'，'西红柿'，'烘焙食品'，'沙拉'，'烘焙食品'，'沙拉'，'沙...\n",
    "嵘綻= [[0.423218071,0.979368508,0.339486301,0.953063667]，[0.00295934081,0.562559605,0.0866475701,0.733601213]，[0.446993053,0.985957086,0.103116274,1.0]，[0.0,0.798019052,0.0843312368,0.910729289]，[0.200755239,0.878952861,0.161852047,0.962031841]，[0.141423374,0.893875718,0.0966037139,0.975178]，[0.446385473,0.954654098,0.322997868,0.955895185]，[0.0540368557,0.735850155,0.22394672,0.783547163]，[0.0511586964,0.590276837,0.247575879,0.904480815]，[0.291286081,0.943224788,0.742888927,0.981343627]，[0.0209743679,0.534335613,0.145708829,0.751705289]，[0.286338538,0.956577778,0.584680378,0.96791]，[0.493991911,0.92484349,0.385724247,0.975459754]，[0.320449412,0.9483518,0.16373083,1.0]，[0.458497226,0.937700331,0.342862546,0.935759783]，[0.0386219025,0.711036801,0.014...\n",
    "确信=[0.99927026，0.998335898，0.122888528，0.0565881766，0.0334013812，0.0227512382，0.019394394，0.0163640734，0.0106114028，0.0095577，0.0092699714，0.00591981411，0.00551535888，0.00492637418，0.00376707385，0.00370016089，0.00318370084，0.00264257635，0.00248732581，0....\n",
    "练好的模型ID ='5770527293638180864'，解释=None）"
   ]
  },
  {
   "cell_type": "markdown",
   "metadata": {
    "id": "undeploy_model:mbsdk"
   },
   "source": [
    "取消部署模型\n",
    "\n",
    "当您完成预测后，您可以从“Endpoint”资源中取消部署模型。这将取消所有计算资源并停止对部署模型的计费。"
   ]
  },
  {
   "cell_type": "code",
   "execution_count": null,
   "metadata": {
    "id": "undeploy_model:mbsdk"
   },
   "outputs": [],
   "source": [
    "endpoint.undeploy_all()"
   ]
  },
  {
   "cell_type": "markdown",
   "metadata": {
    "id": "cleanup:mbsdk"
   },
   "source": [
    "清理工作\n",
    "\n",
    "要清理此项目中使用的所有Google Cloud资源，您可以删除用于本教程的[Google Cloud项目](https://cloud.google.com/resource-manager/docs/creating-managing-projects#shutting_down_projects)。\n",
    "\n",
    "否则，您可以删除本教程中创建的各个资源。"
   ]
  },
  {
   "cell_type": "code",
   "execution_count": null,
   "metadata": {
    "id": "cleanup:mbsdk"
   },
   "outputs": [],
   "source": [
    "import os\n",
    "\n",
    "delete_bucket = False\n",
    "\n",
    "# Delete the dataset using the Vertex dataset object\n",
    "\n",
    "dataset.delete()\n",
    "\n",
    "# Delete the model using the Vertex model object\n",
    "model.delete()\n",
    "\n",
    "# Delete the endpoint using the Vertex endpoint object\n",
    "endpoint.delete()\n",
    "\n",
    "# Delete the AutoML or Pipeline trainig job\n",
    "\n",
    "dag.delete()\n",
    "\n",
    "# Delete the batch prediction job using the Vertex batch prediction object\n",
    "batch_predict_job.delete()\n",
    "\n",
    "if delete_bucket or os.getenv(\"IS_TESTING\"):\n",
    "    ! gsutil rm -r $BUCKET_URI"
   ]
  }
 ],
 "metadata": {
  "colab": {
   "name": "sdk-automl-image-object-detection-batch-online.ipynb",
   "toc_visible": true
  },
  "kernelspec": {
   "display_name": "Python 3",
   "name": "python3"
  }
 },
 "nbformat": 4,
 "nbformat_minor": 0
}
