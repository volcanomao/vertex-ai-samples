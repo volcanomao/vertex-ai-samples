{
 "cells": [
  {
   "cell_type": "code",
   "execution_count": null,
   "metadata": {
    "id": "ur8xi4C7S06n"
   },
   "outputs": [],
   "source": [
    "# Copyright 2021 Google LLC\n",
    "#\n",
    "# Licensed under the Apache License, Version 2.0 (the \"License\");\n",
    "# you may not use this file except in compliance with the License.\n",
    "# You may obtain a copy of the License at\n",
    "#\n",
    "#     https://www.apache.org/licenses/LICENSE-2.0\n",
    "#\n",
    "# Unless required by applicable law or agreed to in writing, software\n",
    "# distributed under the Lice`nse is distributed on an \"AS IS\" BASIS,\n",
    "# WITHOUT WARRANTIES OR CONDITIONS OF ANY KIND, either express or implied.\n",
    "# See the License for the specific language governing permissions and\n",
    "# limitations under the License."
   ]
  },
  {
   "cell_type": "markdown",
   "metadata": {
    "id": "0bdfa24a80ed"
   },
   "source": [
    "从2024年9月15日开始，您只能通过切换到Vertex AI Gemini提示和调整来定制分类、实体提取和情感分析模型。针对文本分类、实体提取和情感分析目标进行Vertex AI AutoML模型的训练或更新将不再可用。您可以继续使用现有的Vertex AI AutoML文本目标直到2025年6月15日。有关Gemini如何通过改进的提示功能提供增强用户体验的更多信息，请参阅[调整简介](https://cloud.google.com/vertex-ai/generative-ai/docs/models/tune-gemini-overview)。"
   ]
  },
  {
   "cell_type": "markdown",
   "metadata": {
    "id": "0d2298941703"
   },
   "source": [
    "# Vertex AI： 创建、训练和部署自动ML文本分类模型"
   ]
  },
  {
   "cell_type": "markdown",
   "metadata": {
    "id": "JAPoU8Sm5E6e"
   },
   "source": [
    "<table align=\"left\">\n",
    "\n",
    "  <td>\n",
    "    <a href=\"https://colab.research.google.com/github/GoogleCloudPlatform/vertex-ai-samples/blob/main/notebooks/official/automl/automl-text-classification.ipynb\">\n",
    "      <img src=\"https://cloud.google.com/ml-engine/images/colab-logo-32px.png\" alt=\"Colab logo\"> 在 Colab 中运行\n",
    "    </a>\n",
    "  </td>\n",
    "  <td>\n",
    "    <a href=\"https://github.com/GoogleCloudPlatform/vertex-ai-samples/blob/main/notebooks/official/automl/automl-text-classification.ipynb\">\n",
    "      <img src=\"https://cloud.google.com/ml-engine/images/github-logo-32px.png\" alt=\"GitHub logo\">\n",
    "      在 GitHub 上查看\n",
    "    </a>\n",
    "  </td>\n",
    " <td>\n",
    "    <a href=\"https://console.cloud.google.com/vertex-ai/workbench/deploy-notebook?download_url=https://raw.githubusercontent.com/GoogleCloudPlatform/vertex-ai-samples/main/notebooks/official/automl/automl-text-classification.ipynb\">\n",
    "      <img src=\"https://lh3.googleusercontent.com/UiNooY4LUgW_oTvpsNhPpQzsstV5W8F7rYgxgGBD85cWJoLmrOzhVs_ksK_vgx40SHs7jCqkTkCk=e14-rj-sc0xffffff-h130-w32\" alt=\"Vertex AI logo\">\n",
    "      在 Vertex AI Workbench 中打开\n",
    "    </a>\n",
    "  </td>\n",
    "</table>"
   ]
  },
  {
   "cell_type": "markdown",
   "metadata": {
    "id": "1adb10a59bc3"
   },
   "source": [
    "## 概述\n",
    "\n",
    "本笔记本将引导您了解在[Vertex AI](https://cloud.google.com/vertex-ai/docs/)上构建和使用AutoML文本分类模型的主要阶段。\n",
    "\n",
    "了解有关[文本数据分类](https://cloud.google.com/vertex-ai/docs/training-overview#classification_for_text)的更多信息。"
   ]
  },
  {
   "cell_type": "markdown",
   "metadata": {
    "id": "9b9824ae2c91"
   },
   "source": [
    "### 目标\n",
    "\n",
    "在本教程中，您将学习如何使用AutoML来训练文本分类模型。\n",
    "\n",
    "本教程使用以下谷歌云ML服务：\n",
    "\n",
    "- AutoML训练\n",
    "- 顶点AI模型资源\n",
    "\n",
    "执行的步骤包括：\n",
    "\n",
    "* 创建一个顶点AI数据集。\n",
    "* 训练一个AutoML文本分类模型资源。\n",
    "* 获取模型资源的评估指标。\n",
    "* 创建一个端点资源。\n",
    "* 将模型资源部署到端点资源。\n",
    "* 进行在线预测。\n",
    "* 进行批量预测。"
   ]
  },
  {
   "cell_type": "markdown",
   "metadata": {
    "id": "f67c62885df4"
   },
   "source": [
    "数据集\n",
    "\n",
    "在这个笔记本中，您将使用“Happy Moments”样本数据集来训练模型。最终模型将快乐时刻分类到反映幸福原因的类别中。"
   ]
  },
  {
   "cell_type": "markdown",
   "metadata": {
    "id": "0259a7ce8120"
   },
   "source": [
    "### 成本\n",
    "\n",
    "本教程使用 Google Cloud 的计费组件:\n",
    "\n",
    "* Vertex AI 训练和提供服务\n",
    "* 云存储\n",
    "\n",
    "了解 [Vertex AI 价格](https://cloud.google.com/vertex-ai/pricing) 和 [云存储价格](https://cloud.google.com/storage/pricing)，并使用 [定价计算器](https://cloud.google.com/products/calculator/) 根据您的预计使用量生成成本估算。"
   ]
  },
  {
   "cell_type": "markdown",
   "metadata": {
    "id": "db52a0a61fca"
   },
   "source": [
    "### 安装\n",
    "\n",
    "安装以下软件包以执行此笔记本。"
   ]
  },
  {
   "cell_type": "code",
   "execution_count": null,
   "metadata": {
    "id": "b75757581291"
   },
   "outputs": [],
   "source": [
    "# install packages\n",
    "! pip3 install --upgrade --quiet google-cloud-aiplatform \\\n",
    "                                    google-cloud-storage \\\n",
    "                                    jsonlines "
   ]
  },
  {
   "cell_type": "markdown",
   "metadata": {
    "id": "e9255e3b156f"
   },
   "source": [
    "### 仅限Colab：取消对以下单元格的注释以重新启动内核"
   ]
  },
  {
   "cell_type": "code",
   "execution_count": null,
   "metadata": {
    "id": "0c0b2427998a"
   },
   "outputs": [],
   "source": [
    "# Automatically restart kernel after installs so that your environment can access the new packages\n",
    "# import IPython\n",
    "\n",
    "# app = IPython.Application.instance()\n",
    "# app.kernel.do_shutdown(True)"
   ]
  },
  {
   "cell_type": "markdown",
   "metadata": {
    "id": "435b8e413535"
   },
   "source": [
    "### 开始之前\n",
    "\n",
    "#### 设置您的项目ID\n",
    "\n",
    "**如果您不知道您的项目ID**，请尝试以下操作：\n",
    "- 运行 `gcloud config list`\n",
    "- 运行 `gcloud projects list`\n",
    "- 查看支持页面：[查找项目ID](https://support.google.com/googleapi/answer/7014113)"
   ]
  },
  {
   "cell_type": "code",
   "execution_count": null,
   "metadata": {
    "id": "be175254a715"
   },
   "outputs": [],
   "source": [
    "PROJECT_ID = \"[your-project-id]\"  # @param {type:\"string\"}\n",
    "\n",
    "# set the project id\n",
    "! gcloud config set project $PROJECT_ID"
   ]
  },
  {
   "cell_type": "markdown",
   "metadata": {
    "id": "2e6b8b324ce1"
   },
   "source": [
    "#### 区域\n",
    "\n",
    "您还可以更改 Vertex AI 使用的 `REGION` 变量。\n",
    "了解有关 [Vertex AI 区域](https://cloud.google.com/vertex-ai/docs/general/locations) 的更多信息。"
   ]
  },
  {
   "cell_type": "code",
   "execution_count": null,
   "metadata": {
    "id": "ae43d96c4b1b"
   },
   "outputs": [],
   "source": [
    "REGION = \"[your-region]\"  # @param {type: \"string\"}"
   ]
  },
  {
   "cell_type": "markdown",
   "metadata": {
    "id": "6c43a8673066"
   },
   "source": [
    "### 验证您的 Google Cloud 账户\n",
    "\n",
    "根据您的 Jupyter 环境，您可能需要手动进行身份验证。请按照以下相关说明操作。\n",
    "\n",
    "**1. Vertex AI Workbench** \n",
    "- 不需要做任何操作，因为您已经通过身份验证。\n",
    "\n",
    "**2. 本地 JupyterLab 实例，请取消注释并运行。**"
   ]
  },
  {
   "cell_type": "code",
   "execution_count": null,
   "metadata": {
    "id": "fbc9cd30cc4b"
   },
   "outputs": [],
   "source": [
    "# ! gcloud auth login"
   ]
  },
  {
   "cell_type": "markdown",
   "metadata": {
    "id": "cd0da2c26879"
   },
   "source": [
    "3. 协作，取消注释并运行："
   ]
  },
  {
   "cell_type": "code",
   "execution_count": null,
   "metadata": {
    "id": "a336a05c6149"
   },
   "outputs": [],
   "source": [
    "# from google.colab import auth\n",
    "# auth.authenticate_user()"
   ]
  },
  {
   "cell_type": "markdown",
   "metadata": {
    "id": "0461097edfa5"
   },
   "source": [
    "4. 服务帐号或其他\n",
    "- 在这里查看所有身份验证选项：[Google Cloud Platform Jupyter Notebook身份验证指南](https://github.com/GoogleCloudPlatform/vertex-ai-samples/blob/main/notebooks/notebook_authentication_guide.ipynb)"
   ]
  },
  {
   "cell_type": "markdown",
   "metadata": {
    "id": "e5755d1a554f"
   },
   "source": [
    "创建一个云存储桶\n",
    "\n",
    "创建一个存储桶，用于存储中间产物，如数据集。"
   ]
  },
  {
   "cell_type": "code",
   "execution_count": null,
   "metadata": {
    "id": "d2de92accb67"
   },
   "outputs": [],
   "source": [
    "BUCKET_NAME = f\"your-bucket-name-{PROJECT_ID}-unique\"  # @param {type:\"string\"}\n",
    "BUCKET_URI = f\"gs://{BUCKET_NAME}\""
   ]
  },
  {
   "cell_type": "markdown",
   "metadata": {
    "id": "b72bfdf29dae"
   },
   "source": [
    "如果您的存储桶尚不存在：运行以下单元格以创建您的云存储存储桶。"
   ]
  },
  {
   "cell_type": "code",
   "execution_count": null,
   "metadata": {
    "id": "a4453435d115"
   },
   "outputs": [],
   "source": [
    "! gsutil mb -l {REGION} {BUCKET_URI}"
   ]
  },
  {
   "cell_type": "markdown",
   "metadata": {
    "id": "93d685084cf2"
   },
   "source": [
    "导入库并定义常量"
   ]
  },
  {
   "cell_type": "code",
   "execution_count": null,
   "metadata": {
    "id": "152013538e59"
   },
   "outputs": [],
   "source": [
    "import jsonlines\n",
    "from google.cloud import aiplatform, storage\n",
    "from google.cloud.aiplatform import jobs"
   ]
  },
  {
   "cell_type": "markdown",
   "metadata": {
    "id": "03101a4492f3"
   },
   "source": [
    "### 初始化Vertex AI\n",
    "\n",
    "为您的项目初始化Python的Vertex AI SDK。"
   ]
  },
  {
   "cell_type": "code",
   "execution_count": null,
   "metadata": {
    "id": "740cd5c67c79"
   },
   "outputs": [],
   "source": [
    "aiplatform.init(project=PROJECT_ID, location=REGION)"
   ]
  },
  {
   "cell_type": "markdown",
   "metadata": {
    "id": "32c971919605"
   },
   "source": [
    "创建数据集资源并导入您的数据\n",
    "\n",
    "该笔记本使用“Happy Moments”数据集进行演示。您可以更改为符合数据准备要求的另一个文本分类数据集。\n",
    "\n",
    "使用Python SDK，创建数据集并在一次调用中导入数据，如下所示。\n",
    "\n",
    "创建和导入数据是一个长时间运行的操作。接下来的步骤可能需要一些时间。`create()` 方法会等待操作完成，并随着操作的进行输出语句。这些语句包含下一节中使用的数据集的完整名称。\n",
    "\n",
    "**注意**：您可以在等待此操作完成时关闭笔记本。"
   ]
  },
  {
   "cell_type": "code",
   "execution_count": null,
   "metadata": {
    "id": "d35b8b6b94ae"
   },
   "outputs": [],
   "source": [
    "# Use a timestamp to ensure unique resources\n",
    "src_uris = \"gs://cloud-ml-data/NL-classification/happiness.csv\"\n",
    "display_name = \"e2e-text-dataset-unique\"\n",
    "\n",
    "text_dataset = aiplatform.TextDataset.create(\n",
    "    display_name=display_name,\n",
    "    gcs_source=src_uris,\n",
    "    import_schema_uri=aiplatform.schema.dataset.ioformat.text.single_label_classification,\n",
    "    sync=True,\n",
    ")"
   ]
  },
  {
   "cell_type": "markdown",
   "metadata": {
    "id": "68f10356cab9"
   },
   "source": [
    "## 训练您的文本分类模型\n",
    "\n",
    "现在您可以开始训练您的模型。训练模型是一个两部分的过程：\n",
    "\n",
    "1. **定义训练作业。** 在定义训练作业时，您必须提供显示名称和您想要的训练类型。\n",
    "2. **运行训练作业。** 运行训练作业时，您需要提供一个数据集的引用用于训练。您还可以配置数据拆分的百分比。\n",
    "\n",
    "您不需要指定[数据拆分](https://cloud.google.com/vertex-ai/docs/general/ml-use)。如果您不提供值，训练作业的默认设置为训练80%/ 测试10%/ 验证10%。\n",
    "\n",
    "要训练您的模型，您可以像下面的代码片段中所示调用 `AutoMLTextTrainingJob.run()`。该方法将返回对您的新模型对象的引用。\n",
    "\n",
    "与将数据导入数据集一样，训练模型可能需要相当长的时间。客户端库在训练管道操作处理时打印操作状态消息。在您可以获取您的新模型的资源名称和ID之前，必须等待训练过程完成，这些信息对于模型评估和模型部署是必需的。\n",
    "\n",
    "**注意**: 在等待操作完成时，您可以关闭笔记本。"
   ]
  },
  {
   "cell_type": "code",
   "execution_count": null,
   "metadata": {
    "id": "0aa0f01805ea"
   },
   "outputs": [],
   "source": [
    "# Define the training job\n",
    "training_job_display_name = \"e2e-text-training-job-unique\"\n",
    "job = aiplatform.AutoMLTextTrainingJob(\n",
    "    display_name=training_job_display_name,\n",
    "    prediction_type=\"classification\",\n",
    "    multi_label=False,\n",
    ")"
   ]
  },
  {
   "cell_type": "code",
   "execution_count": null,
   "metadata": {
    "id": "1ec60baf2c51"
   },
   "outputs": [],
   "source": [
    "model_display_name = \"e2e-text-classification-model-unique\"\n",
    "\n",
    "# Run the training job\n",
    "model = job.run(\n",
    "    dataset=text_dataset,\n",
    "    model_display_name=model_display_name,\n",
    "    training_fraction_split=0.1,\n",
    "    validation_fraction_split=0.1,\n",
    "    test_fraction_split=0.1,\n",
    "    sync=True,\n",
    ")"
   ]
  },
  {
   "cell_type": "markdown",
   "metadata": {
    "id": "caaa3f32b12e"
   },
   "source": [
    "## 查看模型评估分数\n",
    "\n",
    "在模型训练完成后，您可以使用`list_model_evaluations()`方法查看其评估分数。该方法返回每个评估切片的迭代器。"
   ]
  },
  {
   "cell_type": "code",
   "execution_count": null,
   "metadata": {
    "id": "b0bb6be8621a"
   },
   "outputs": [],
   "source": [
    "model_evaluations = model.list_model_evaluations()\n",
    "\n",
    "for model_evaluation in model_evaluations:\n",
    "    print(model_evaluation.to_dict())"
   ]
  },
  {
   "cell_type": "markdown",
   "metadata": {
    "id": "b5dbe4dbaa60"
   },
   "source": [
    "## 部署您的文本分类模型\n",
    "\n",
    "一旦您的模型完成训练，您必须将其部署到一个 _端点_，以从模型获得在线预测。当您将模型部署到一个端点时，在端点上会复制模型，并生成一个新的资源名称和显示名称。\n",
    "\n",
    "您可以将多个模型部署到同一个端点，并在分配给端点的各个模型之间进行流量分割。然而，您必须一次只部署一个模型到端点。若要更改流量分割百分比，您必须在每次部署新模型时为第二个（和后续）模型分配新值。\n",
    "\n",
    "以下代码块展示了如何部署一个模型。这段代码依赖于 Python SDK 来为部署创建一个新的端点。调用 `modely.deploy()` 返回一个端点对象的引用 - 您将需要这个引用来进行下一节中的在线预测。"
   ]
  },
  {
   "cell_type": "code",
   "execution_count": null,
   "metadata": {
    "id": "19bc4a55ccfe"
   },
   "outputs": [],
   "source": [
    "deployed_model_display_name = \"e2e-deployed-text-classification-model-unique\"\n",
    "\n",
    "endpoint = model.deploy(\n",
    "    deployed_model_display_name=deployed_model_display_name, sync=True\n",
    ")"
   ]
  },
  {
   "cell_type": "markdown",
   "metadata": {
    "id": "351a6e8be3a5"
   },
   "source": [
    "## 从您的模型获得在线预测\n",
    "\n",
    "现在您已经有了端点，您可以从文本分类模型获得在线预测。要获得在线预测，您需要向端点发送一个预测请求。"
   ]
  },
  {
   "cell_type": "code",
   "execution_count": null,
   "metadata": {
    "id": "953b333fc0fc"
   },
   "outputs": [],
   "source": [
    "content = \"I got a high score on my math final!\"\n",
    "\n",
    "response = endpoint.predict(instances=[{\"content\": content}])\n",
    "\n",
    "for prediction_ in response.predictions:\n",
    "    ids = prediction_[\"ids\"]\n",
    "    display_names = prediction_[\"displayNames\"]\n",
    "    confidence_scores = prediction_[\"confidences\"]\n",
    "    for count, id in enumerate(ids):\n",
    "        print(f\"Prediction ID: {id}\")\n",
    "        print(f\"Prediction display name: {display_names[count]}\")\n",
    "        print(f\"Prediction confidence score: {confidence_scores[count]}\")"
   ]
  },
  {
   "cell_type": "markdown",
   "metadata": {
    "id": "f18811cd0477"
   },
   "source": [
    "## 获取模型的批量预测\n",
    "\n",
    "您可以从文本分类模型获得批量预测，而无需部署它。您必须首先将所有预测实例（预测输入）以 JSONL 格式编排并将 JSONL 文件存储在 Google Cloud 存储桶中。您还必须提供一个 Google Cloud 存储桶来保存您的预测输出。\n",
    "\n",
    "首先，您必须以 JSONL 格式创建您的预测输入文件。JSONL 文档中的每一行需要如下格式：\n",
    "\n",
    "```\n",
    "{ \"content\": \"gs://sourcebucket/datasets/texts/source_text.txt\", \"mimeType\": \"text/plain\"}\n",
    "```\n",
    "\n",
    "JSON 结构中的 `content` 字段必须是指向另一个包含用于预测的文本输入的文档的 Google Cloud 存储 URI。\n",
    "[查看更多信息，请参阅文档。](https://cloud.google.com/ai-platform-unified/docs/predictions/batch-predictions#text)"
   ]
  },
  {
   "cell_type": "code",
   "execution_count": null,
   "metadata": {
    "id": "e4b838cbcd99"
   },
   "outputs": [],
   "source": [
    "instances = [\n",
    "    \"We hiked through the woods and up the hill to the ice caves\",\n",
    "    \"My kitten is so cute\",\n",
    "]\n",
    "input_file_name = \"batch-prediction-input.jsonl\""
   ]
  },
  {
   "cell_type": "markdown",
   "metadata": {
    "id": "76ac422ab8dd"
   },
   "source": [
    "对于批量预测，请提供以下内容：\n",
    "\n",
    "+ 将所有的预测实例作为单独的文件存储在Google Cloud Storage上，文件格式为TXT。\n",
    "+ 一个JSONL文件，列出所有预测实例的URI。\n",
    "+ 一个Cloud Storage存储桶，用于保存批量预测输出结果。\n",
    "\n",
    "在本教程中，以下步骤将创建一个新的存储桶，将单独的预测实例上传为文本文件到该存储桶，并创建包含预测实例URI的JSONL文件。"
   ]
  },
  {
   "cell_type": "code",
   "execution_count": null,
   "metadata": {
    "id": "8b7cabbb86ad"
   },
   "outputs": [],
   "source": [
    "# Instantiate the Storage client and create the new bucket\n",
    "# from google.cloud import  storage\n",
    "storage_client = storage.Client()\n",
    "bucket = storage_client.get_bucket(BUCKET_NAME)\n",
    "# Iterate over the prediction instances, creating a new TXT file\n",
    "# for each.\n",
    "input_file_data = []\n",
    "for count, instance in enumerate(instances):\n",
    "    instance_name = f\"input_{count}.txt\"\n",
    "    instance_file_uri = f\"{BUCKET_URI}/{instance_name}\"\n",
    "    # Add the data to store in the JSONL input file.\n",
    "    tmp_data = {\"content\": instance_file_uri, \"mimeType\": \"text/plain\"}\n",
    "    input_file_data.append(tmp_data)\n",
    "\n",
    "    # Create the new instance file\n",
    "    blob = bucket.blob(instance_name)\n",
    "    blob.upload_from_string(instance)\n",
    "\n",
    "input_str = \"\\n\".join([str(d) for d in input_file_data])\n",
    "file_blob = bucket.blob(f\"{input_file_name}\")\n",
    "file_blob.upload_from_string(input_str)"
   ]
  },
  {
   "cell_type": "markdown",
   "metadata": {
    "id": "31c262320610"
   },
   "source": [
    "现在您已经准备好带有预测实例的桶，您可以将批量预测https://storage.googleapis.com/upload/storage/v1/b/gs://vertex-ai-devaip-20220728004429/o?uploadType=multipartequest 发送到Vertex AI。当您向服务发送请求时，您必须提供JSONL文件的URI和输出桶，包括`gs://`协议。\n",
    "\n",
    "使用Python SDK，您可以通过调用`Model.batch_predict()`来创建批量预测作业。"
   ]
  },
  {
   "cell_type": "code",
   "execution_count": null,
   "metadata": {
    "id": "f5ab2139d52d"
   },
   "outputs": [],
   "source": [
    "job_display_name = \"e2e-text-classification-batch-prediction-job\"\n",
    "# model = aiplatform.Model(model_name=model.name)\n",
    "batch_prediction_job = model.batch_predict(\n",
    "    job_display_name=job_display_name,\n",
    "    gcs_source=f\"{BUCKET_URI}/{input_file_name}\",\n",
    "    gcs_destination_prefix=f\"{BUCKET_URI}/output\",\n",
    "    sync=True,\n",
    ")\n",
    "batch_prediction_job_name = batch_prediction_job.resource_name"
   ]
  },
  {
   "cell_type": "markdown",
   "metadata": {
    "id": "11503f2e08a2"
   },
   "source": [
    "一旦批量预测作业完成，Python SDK会以`projects/[PROJECT_ID]/locations/[LOCATION]/batchPredictionJobs/[BATCH_PREDICTION_JOB_ID]`的格式打印出批量预测作业的资源名称。您可以使用其ID查询Vertex AI服务的批量预测作业状态。\n",
    "\n",
    "以下代码片段演示了如何创建`BatchPredictionJob`类的实例以查看其状态。请注意，您需要从Python SDK中打印出的完整资源名称用于此代码片段。"
   ]
  },
  {
   "cell_type": "markdown",
   "metadata": {
    "id": "cd014de40e2f"
   },
   "source": [
    "批量预测任务"
   ]
  },
  {
   "cell_type": "code",
   "execution_count": null,
   "metadata": {
    "id": "bf6e614723ed"
   },
   "outputs": [],
   "source": [
    "batch_job = jobs.BatchPredictionJob(batch_prediction_job_name)\n",
    "print(f\"Batch prediction job state: {str(batch_job.state)}\")"
   ]
  },
  {
   "cell_type": "markdown",
   "metadata": {
    "id": "1f9a12dadf6f"
   },
   "source": [
    "批处理作业完成后，您可以在输出存储桶中查看作业的结果。您可能首先需要列出输出存储桶中的所有文件，以查找输出文件的URI。"
   ]
  },
  {
   "cell_type": "code",
   "execution_count": null,
   "metadata": {
    "id": "8ff1ec03205c"
   },
   "outputs": [],
   "source": [
    "BUCKET_OUTPUT = f\"{BUCKET_URI}/output\"\n",
    "\n",
    "! gsutil ls -a $BUCKET_OUTPUT"
   ]
  },
  {
   "cell_type": "markdown",
   "metadata": {
    "id": "52f3f8af2e41"
   },
   "source": [
    "批量预测作业的输出应该存储在一个包含批量预测作业名称和创建时间戳的文件夹（或前缀）中。\n",
    "\n",
    "例如，如果您的批量预测作业名称是`my-job`，您的存储桶名称是`my-bucket`，包含输出的文件夹的URI可能如下所示：\n",
    "\n",
    "```\n",
    "gs://my-bucket/output/prediction-my-job-2021-06-04T19:54:25.889262Z/\n",
    "```\n",
    "\n",
    "要读取批量预测结果，您必须将文件下载到本地并打开文件。下一个单元格将所有文件复制到本地文件夹`BUCKET_OUTPUT_FOLDER`中。"
   ]
  },
  {
   "cell_type": "code",
   "execution_count": null,
   "metadata": {
    "id": "4bb16e040942"
   },
   "outputs": [],
   "source": [
    "import os\n",
    "\n",
    "RESULTS_DIRECTORY = \"prediction_results\"\n",
    "RESULTS_DIRECTORY_FULL = f\"{RESULTS_DIRECTORY}/output\"\n",
    "\n",
    "# Create missing directories\n",
    "os.makedirs(RESULTS_DIRECTORY, exist_ok=True)\n",
    "\n",
    "# Get the Cloud Storage paths for each result\n",
    "! gsutil -m cp -r $BUCKET_OUTPUT $RESULTS_DIRECTORY\n",
    "\n",
    "# Get most recently modified directory\n",
    "latest_directory = max(\n",
    "    (\n",
    "        os.path.join(RESULTS_DIRECTORY_FULL, d)\n",
    "        for d in os.listdir(RESULTS_DIRECTORY_FULL)\n",
    "    ),\n",
    "    key=os.path.getmtime,\n",
    ")\n",
    "\n",
    "print(f\"Local results folder: {latest_directory}\")"
   ]
  },
  {
   "cell_type": "markdown",
   "metadata": {
    "id": "e375109b7e40"
   },
   "source": [
    "## 复习结果"
   ]
  },
  {
   "cell_type": "markdown",
   "metadata": {
    "id": "f406e1e4d5ec"
   },
   "source": [
    "所有的结果文件都已经下载到本地，您可以打开它们并阅读结果。在本教程中，您将使用[`jsonlines`](https://jsonlines.readthedocs.io/en/latest/)库来读取输出结果。\n",
    "\n",
    "以下代码单元打开 JSONL 输出文件，然后打印每个实例的预测结果。"
   ]
  },
  {
   "cell_type": "code",
   "execution_count": null,
   "metadata": {
    "id": "91d7f2a74a7c"
   },
   "outputs": [],
   "source": [
    "# Get downloaded results in directory\n",
    "results_files = []\n",
    "for dirpath, _, files in os.walk(latest_directory):\n",
    "    for file in files:\n",
    "        if file.find(\"predictions\") >= 0:\n",
    "            results_files.append(os.path.join(dirpath, file))\n",
    "\n",
    "\n",
    "# Consolidate all the results into a list\n",
    "results = []\n",
    "for results_file in results_files:\n",
    "    # Open each result\n",
    "    with jsonlines.open(results_file) as reader:\n",
    "        for result in reader.iter(type=dict, skip_invalid=True):\n",
    "            instance = result[\"instance\"]\n",
    "            prediction = result[\"prediction\"]\n",
    "            print(f\"\\ninstance: {instance['content']}\")\n",
    "            for key, output in prediction.items():\n",
    "                print(f\"\\n{key}: {output}\")"
   ]
  },
  {
   "cell_type": "markdown",
   "metadata": {
    "id": "af3874f08502"
   },
   "source": [
    "清理\n",
    "\n",
    "要清理本项目中使用的所有Google Cloud资源，您可以删除用于本教程的[Google Cloud项目](https://cloud.google.com/resource-manager/docs/creating-managing-projects#shutting_down_projects)。\n",
    "\n",
    "否则，您可以删除本教程中创建的各个资源：\n",
    "\n",
    "* 数据集\n",
    "* 训练作业\n",
    "* 模型\n",
    "* 端点\n",
    "* 批量预测\n",
    "* 批量预测存储桶"
   ]
  },
  {
   "cell_type": "code",
   "execution_count": null,
   "metadata": {
    "id": "adce73b48b72"
   },
   "outputs": [],
   "source": [
    "delete_bucket = False\n",
    "\n",
    "if delete_bucket or os.getenv(\"IS_TESTING\"):\n",
    "    ! gsutil rm -r $BUCKET_URI\n",
    "\n",
    "# Delete batch\n",
    "batch_job.delete()\n",
    "\n",
    "# Undeploy endpoint\n",
    "endpoint.undeploy_all()\n",
    "\n",
    "# `force` parameter ensures that models are undeployed before deletion\n",
    "endpoint.delete()\n",
    "\n",
    "# Delete model\n",
    "model.delete()\n",
    "\n",
    "# Delete text dataset\n",
    "text_dataset.delete()\n",
    "\n",
    "# Delete training job\n",
    "job.delete()"
   ]
  },
  {
   "cell_type": "markdown",
   "metadata": {
    "id": "fa6a8c434c79"
   },
   "source": [
    "## 下一步\n",
    "\n",
    "完成本教程后，请查看以下文档页面，了解有关 Vertex AI 的更多信息：\n",
    "\n",
    "* [准备文本训练数据](https://cloud.google.com/vertex-ai/docs/training-overview#text_data)\n",
    "* [使用 API 训练 AutoML 模型](https://cloud.google.com/vertex-ai/docs/training-overview#automl)\n",
    "* [评估 AutoML 模型](https://cloud.google.com/vertex-ai/docs/training-overview#automl)\n",
    "* [使用 Vertex AI API 部署模型](https://cloud.google.com/vertex-ai/docs/predictions/overview#model_deployment)\n",
    "* [从 AutoML 模型获取在线预测](https://cloud.google.com/vertex-ai/docs/predictions/overview#model_deployment)\n",
    "* [获取批量预测](https://cloud.google.com/vertex-ai/docs/predictions/overview#batch_predictions)"
   ]
  }
 ],
 "metadata": {
  "colab": {
   "name": "automl-text-classification.ipynb",
   "toc_visible": true
  },
  "kernelspec": {
   "display_name": "Python 3",
   "name": "python3"
  }
 },
 "nbformat": 4,
 "nbformat_minor": 0
}
