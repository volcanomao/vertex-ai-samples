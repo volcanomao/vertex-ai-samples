{
 "cells": [
  {
   "cell_type": "code",
   "execution_count": null,
   "metadata": {
    "id": "copyright"
   },
   "outputs": [],
   "source": [
    "# Copyright 2022 Google LLC\n",
    "#\n",
    "# Licensed under the Apache License, Version 2.0 (the \"License\");\n",
    "# you may not use this file except in compliance with the License.\n",
    "# You may obtain a copy of the License at\n",
    "#\n",
    "#     https://www.apache.org/licenses/LICENSE-2.0\n",
    "#\n",
    "# Unless required by applicable law or agreed to in writing, software\n",
    "# distributed under the License is distributed on an \"AS IS\" BASIS,\n",
    "# WITHOUT WARRANTIES OR CONDITIONS OF ANY KIND, either express or implied.\n",
    "# See the License for the specific language governing permissions and\n",
    "# limitations under the License."
   ]
  },
  {
   "cell_type": "markdown",
   "metadata": {
    "id": "title"
   },
   "source": [
    "# 用于 Python 的 Vertex AI SDK：AutoML 训练层次预测用于批量预测\n",
    "\n",
    "<table align=\"left\">\n",
    "  <td>\n",
    "    <a href=\"https://colab.research.google.com/github/GoogleCloudPlatform/vertex-ai-samples/blob/main/notebooks/official/automl/sdk_automl_forecasting_hierarchical_batch.ipynb\">\n",
    "      <img src=\"https://cloud.google.com/ml-engine/images/colab-logo-32px.png\" alt=\"Colab logo\"> 在 Colab 中运行\n",
    "    </a>\n",
    "  </td>\n",
    "  <td>\n",
    "    <a href=\"https://github.com/GoogleCloudPlatform/vertex-ai-samples/blob/main/notebooks/official/automl/sdk_automl_forecasting_hierarchical_batch.ipynb\">\n",
    "      <img src=\"https://cloud.google.com/ml-engine/images/github-logo-32px.png\" alt=\"GitHub logo\">\n",
    "      在 GitHub 上查看\n",
    "    </a>\n",
    "  </td>\n",
    "  <td>\n",
    "<a href=\"https://console.cloud.google.com/vertex-ai/workbench/deploy-notebook?download_url=https://raw.githubusercontent.com/GoogleCloudPlatform/vertex-ai-samples/main/notebooks/official/automl/sdk_automl_forecasting_hierarchical_batch.ipynb\" target='_blank'>\n",
    "      <img src=\"https://lh3.googleusercontent.com/UiNooY4LUgW_oTvpsNhPpQzsstV5W8F7rYgxgGBD85cWJoLmrOzhVs_ksK_vgx40SHs7jCqkTkCk=e14-rj-sc0xffffff-h130-w32\" alt=\"Vertex AI logo\">\n",
    "      在 Vertex AI Workbench 中打开\n",
    "    </a>\n",
    "  </td>                                                                                               \n",
    "</table>"
   ]
  },
  {
   "cell_type": "markdown",
   "metadata": {
    "id": "overview:automl"
   },
   "source": [
    "## 概述\n",
    "\n",
    "本教程演示了如何使用 Vertex AI SDK for Python 创建层次预测模型，并使用 Google Cloud 的 [AutoML](https://cloud.google.com/vertex-ai/docs/start/automl-users) 进行批量预测。具体来说，您将根据历史销售数据预测一个虚构商店的销售额。\n",
    "\n",
    "了解更多关于[表格数据的层次预测](https://cloud.google.com/vertex-ai/docs/tabular-data/forecasting/hierarchical)。"
   ]
  },
  {
   "cell_type": "markdown",
   "metadata": {
    "id": "objective:automl,training,online_prediction"
   },
   "source": [
    "### 目标\n",
    "\n",
    "在本教程中，您将使用 Vertex AI SDK for Python 创建一个 AutoML 分层预测模型，并部署它进行批量预测。您也可以使用`gcloud`命令行工具创建和部署模型，或者使用 Cloud Console 进行批量操作。\n",
    "分层预测模型的原理是为了在给定的销售数据组中最小化错误。在本教程中，您将在“产品”级别上最小化销售预测的误差。\n",
    "\n",
    "本教程使用以下 Google Cloud ML 服务：\n",
    "\n",
    "- `AutoML 训练`\n",
    "- `Vertex AI 数据集`\n",
    "\n",
    "执行的步骤包括：\n",
    "\n",
    "- 创建一个 Vertex AI `TimeSeriesDataset` 资源。\n",
    "- 训练模型。\n",
    "- 查看模型评估。\n",
    "- 进行批量预测。"
   ]
  },
  {
   "cell_type": "markdown",
   "metadata": {
    "id": "dataset:gsod,lrg"
   },
   "source": [
    "### 数据集\n",
    "\n",
    "本教程使用的数据集是一个合成生成的虚构户外装备商店销售数据集。在此数据集中，您可以根据历史销售数据预测一家虚构商店的销售额。\n",
    "\n",
    "此数据集是为模拟虚构户外装备商店的销售模式而合成的。以下是产品类别、产品类型和产品之间的层次关系：\n",
    "\n",
    "- 产品类别：雪\n",
    "    - 产品类型：滑雪板\n",
    "        - 产品： \n",
    "        \n",
    "此外，该公司有3个店铺位置，每个位置都有各自的客流量水平。\n",
    "- 店铺：郊区\n",
    "- 店铺：旗舰店\n",
    "- 店铺：市中心\n",
    "\n",
    "数据中还包含额外的季节效应。\n",
    "\n",
    "数据链接：gs://cloud-samples-data/vertex-ai/structured_data/forecasting/synthetic_sales_data.csv"
   ]
  },
  {
   "cell_type": "markdown",
   "metadata": {
    "id": "costs"
   },
   "source": [
    "### 成本\n",
    "\n",
    "本教程使用Google Cloud的计费组件：\n",
    "\n",
    "* Vertex AI\n",
    "* Cloud Storage\n",
    "\n",
    "了解[Vertex AI价格](https://cloud.google.com/vertex-ai/pricing)和[Cloud Storage价格](https://cloud.google.com/storage/pricing)，并使用[Pricing Calculator](https://cloud.google.com/products/calculator/)根据您的预期使用情况生成成本估算。"
   ]
  },
  {
   "cell_type": "markdown",
   "metadata": {
    "id": "install_aip"
   },
   "source": [
    "## 安装\n",
    "\n",
    "安装最新版本的Cloud Storage、Bigquery和Vertex AI SDKs for Python。"
   ]
  },
  {
   "cell_type": "code",
   "execution_count": null,
   "metadata": {
    "id": "1fd00fa70a2a"
   },
   "outputs": [],
   "source": [
    "# Install the packages\n",
    "! pip3 install --upgrade google-cloud-aiplatform \\\n",
    "                        google-cloud-storage \\\n",
    "                        google-cloud-bigquery[pandas] \\\n",
    "                        seaborn \\\n",
    "                        scikit-learn"
   ]
  },
  {
   "cell_type": "markdown",
   "metadata": {
    "id": "blGlVGFYW9Pt"
   },
   "source": [
    "### 仅限Colab：取消注释以下单元格以重新启动核心。"
   ]
  },
  {
   "cell_type": "code",
   "execution_count": null,
   "metadata": {
    "id": "0JrvuK6LUYnQ"
   },
   "outputs": [],
   "source": [
    "# Automatically restart kernel after installs so that your environment can access the new packages\n",
    "# import IPython\n",
    "\n",
    "# app = IPython.Application.instance()\n",
    "# app.kernel.do_shutdown(True)"
   ]
  },
  {
   "cell_type": "markdown",
   "metadata": {
    "id": "a47846030fef"
   },
   "source": [
    "## 在你开始之前"
   ]
  },
  {
   "cell_type": "markdown",
   "metadata": {
    "id": "project_id"
   },
   "source": [
    "### 设置您的项目ID\n",
    "\n",
    "**如果您不知道您的项目ID**，请尝试以下操作：\n",
    "* 运行 `gcloud config list`。\n",
    "* 运行 `gcloud projects list`。\n",
    "* 查看支持页面：[查找项目ID](https://support.google.com/googleapi/answer/7014113)。"
   ]
  },
  {
   "cell_type": "code",
   "execution_count": null,
   "metadata": {
    "id": "3c8049930470"
   },
   "outputs": [],
   "source": [
    "PROJECT_ID = \"[your-project-id]\"  # @param {type:\"string\"}\n",
    "\n",
    "# Set the project id\n",
    "! gcloud config set project {PROJECT_ID}"
   ]
  },
  {
   "cell_type": "markdown",
   "metadata": {
    "id": "a54f9d7c1876"
   },
   "source": [
    "区域\n",
    "\n",
    "您还可以更改 Vertex AI 使用的 `REGION` 变量。了解有关 [Vertex AI 区域](https://cloud.google.com/vertex-ai/docs/general/locations) 的更多信息。"
   ]
  },
  {
   "cell_type": "code",
   "execution_count": null,
   "metadata": {
    "id": "3aaadaaf9b30"
   },
   "outputs": [],
   "source": [
    "REGION = \"us-central1\"  # @param {type: \"string\"}"
   ]
  },
  {
   "cell_type": "markdown",
   "metadata": {
    "id": "5c0404984792"
   },
   "source": [
    "### 验证您的Google Cloud账户\n",
    "\n",
    "根据您的Jupyter环境，您可能需要手动进行身份验证。请按照以下相关说明进行操作。"
   ]
  },
  {
   "cell_type": "markdown",
   "metadata": {
    "id": "BaFKzJ_xXpvm"
   },
   "source": [
    "1. Vertex AI 工作台\n",
    "* 无需操作，因为您已经通过认证。"
   ]
  },
  {
   "cell_type": "markdown",
   "metadata": {
    "id": "_fV-KyGAX4Xl"
   },
   "source": [
    "本地JupyterLab实例 ，取消注释并运行："
   ]
  },
  {
   "cell_type": "code",
   "execution_count": null,
   "metadata": {
    "id": "7uXB1HAPX6L_"
   },
   "outputs": [],
   "source": [
    "# ! gcloud auth login"
   ]
  },
  {
   "cell_type": "markdown",
   "metadata": {
    "id": "Ab_TRMQIYCCX"
   },
   "source": [
    "3. 协作，取消注释并运行："
   ]
  },
  {
   "cell_type": "code",
   "execution_count": null,
   "metadata": {
    "id": "vx25htmYYExI"
   },
   "outputs": [],
   "source": [
    "# from google.colab import auth\n",
    "# auth.authenticate_user()"
   ]
  },
  {
   "cell_type": "markdown",
   "metadata": {
    "id": "uZdA0-jBYGqt"
   },
   "source": [
    "查看如何将云存储权限授予您的服务帐号：https://cloud.google.com/storage/docs/gsutil/commands/iam#ch-examples。"
   ]
  },
  {
   "cell_type": "markdown",
   "metadata": {
    "id": "bucket:custom"
   },
   "source": [
    "创建一个云存储存储桶\n",
    "\n",
    "创建一个存储桶来存储中间产物，如数据集。"
   ]
  },
  {
   "cell_type": "code",
   "execution_count": null,
   "metadata": {
    "id": "bucket"
   },
   "outputs": [],
   "source": [
    "BUCKET_URI = \"gs://your-bucket-name-unique\"  # @param {type:\"string\"}"
   ]
  },
  {
   "cell_type": "markdown",
   "metadata": {
    "id": "create_bucket"
   },
   "source": [
    "只有当您的存储桶不存在时才运行以下单元格以创建您的云存储存储桶。"
   ]
  },
  {
   "cell_type": "code",
   "execution_count": null,
   "metadata": {
    "id": "Oz8J0vmSlugt"
   },
   "outputs": [],
   "source": [
    "! gsutil mb -l $REGION -p $PROJECT_ID $BUCKET_URI"
   ]
  },
  {
   "cell_type": "markdown",
   "metadata": {
    "id": "750d53e37094"
   },
   "source": [
    "初始化用于Python的Vertex AI SDK，为您的项目准备。"
   ]
  },
  {
   "cell_type": "code",
   "execution_count": null,
   "metadata": {
    "id": "c9d3ac73dfbc"
   },
   "outputs": [],
   "source": [
    "from google.cloud import aiplatform\n",
    "\n",
    "# Initialize the Vertex AI SDK\n",
    "aiplatform.init(project=PROJECT_ID, location=REGION, staging_bucket=BUCKET_URI)"
   ]
  },
  {
   "cell_type": "markdown",
   "metadata": {
    "id": "setup_vars"
   },
   "source": [
    "### 设置变量\n",
    "\n",
    "接下来，设置一些在本教程中使用的变量。\n",
    "### 导入库并定义常量"
   ]
  },
  {
   "cell_type": "code",
   "execution_count": null,
   "metadata": {
    "id": "import_aip:mbsdk"
   },
   "outputs": [],
   "source": [
    "import google.cloud.aiplatform as aiplatform"
   ]
  },
  {
   "cell_type": "markdown",
   "metadata": {
    "id": "init_aip:mbsdk"
   },
   "source": [
    "初始化 Python 的 Vertex AI SDK\n",
    "\n",
    "为您的项目和相应的存储桶初始化 Python 的 Vertex AI SDK。"
   ]
  },
  {
   "cell_type": "code",
   "execution_count": null,
   "metadata": {
    "id": "init_aip:mbsdk"
   },
   "outputs": [],
   "source": [
    "aiplatform.init(project=PROJECT_ID, location=REGION)"
   ]
  },
  {
   "cell_type": "markdown",
   "metadata": {
    "id": "tutorial_start:automl"
   },
   "source": [
    "# 教程\n",
    "\n",
    "现在你已经准备好开始创建自己的AutoML时间序列预测模型了。"
   ]
  },
  {
   "cell_type": "markdown",
   "metadata": {
    "id": "create_dataset:tabular,bq,lrg"
   },
   "source": [
    "创建数据集\n",
    "\n",
    "使用`TimeSeriesDataset.create()`来创建一个`TimeSeriesDataset`资源，需要以下参数：\n",
    "\n",
    "- `display_name`：`Dataset`资源的人类可读的名称。\n",
    "- `gcs_source`：一个或多个数据集索引文件的列表，用于将数据项导入`Dataset`资源。\n",
    "- `bq_source`：或者，从BigQuery表导入数据项到`Dataset`资源。\n",
    "\n",
    "此操作可能需要几分钟。"
   ]
  },
  {
   "cell_type": "markdown",
   "metadata": {
    "id": "e0234d188ed3"
   },
   "source": [
    "### 下载数据"
   ]
  },
  {
   "cell_type": "code",
   "execution_count": null,
   "metadata": {
    "id": "5e310c5f598f"
   },
   "outputs": [],
   "source": [
    "DATASET_URI = \"gs://cloud-samples-data/vertex-ai/structured_data/forecasting/synthetic_sales_data.csv\"\n",
    "\n",
    "# Download the dataset\n",
    "! gsutil cp {DATASET_URI} dataset.csv"
   ]
  },
  {
   "cell_type": "markdown",
   "metadata": {
    "id": "ee795ca660f9"
   },
   "source": [
    "拆分\n",
    "\n",
    "在这个使用案例中，您需要预测每个产品每个店铺的销售量。\n",
    "因此，您需要创建一个名为'product_at_store'的新列，这是'product'和'store'列的串联。这将在训练期间作为'target_column'传递。\n",
    "\n",
    "最后，将数据集拆分为训练数据集和测试数据集。\n",
    "训练数据集保存为CSV文件，但测试数据集需要进一步处理，比如移除目标列。"
   ]
  },
  {
   "cell_type": "code",
   "execution_count": null,
   "metadata": {
    "id": "219ff473f02c"
   },
   "outputs": [],
   "source": [
    "import pandas as pd\n",
    "\n",
    "DATASET_TRAIN_FILENAME = \"sales_forecasting_train.csv\"\n",
    "DATASET_TEST_FILENAME = \"sales_forecasting_test.csv\"\n",
    "DATASET_TRAIN_URI = f\"{BUCKET_URI}/{DATASET_TRAIN_FILENAME}\"\n",
    "\n",
    "# Load dataset\n",
    "df = pd.read_csv(\"dataset.csv\")\n",
    "\n",
    "df[\"date\"] = df[\"date\"].astype(\"datetime64[ns]\")\n",
    "\n",
    "# Add a target column\n",
    "df[\"product_at_store\"] = df[\"product\"] + \" (\" + df[\"store\"] + \")\"\n",
    "\n",
    "# Split dataset into train and test by taking the first 90% of data for training.\n",
    "dates_unique = df[\"date\"].unique()\n",
    "date_cutoff = sorted(dates_unique)[round(len(dates_unique) * 9 / 10)]\n",
    "\n",
    "# Save train dataset\n",
    "df[df[\"date\"] < date_cutoff].to_csv(DATASET_TRAIN_FILENAME, index=False)\n",
    "\n",
    "# Create test dataset\n",
    "df_test = df[df[\"date\"] >= date_cutoff]\n",
    "\n",
    "# Upload to GCS bucket\n",
    "! gsutil cp {DATASET_TRAIN_FILENAME} {DATASET_TRAIN_URI}"
   ]
  },
  {
   "cell_type": "markdown",
   "metadata": {
    "id": "2f031cc0274a"
   },
   "source": [
    "绘制数据集\n",
    "\n",
    "绘制“销售额”与“产品在店铺中”的图表，以了解数据集的情况。\n",
    "\n",
    "请注意冬季月份“雪”产品销量的高峰期，以及夏季月份“水”产品销量的高峰期。"
   ]
  },
  {
   "cell_type": "code",
   "execution_count": null,
   "metadata": {
    "id": "343a931623aa"
   },
   "outputs": [],
   "source": [
    "import seaborn as sns\n",
    "\n",
    "sns.relplot(\n",
    "    data=df,\n",
    "    x=\"date\",\n",
    "    y=\"sales\",\n",
    "    hue=\"product_at_store\",\n",
    "    row=\"product_category\",\n",
    "    aspect=4,\n",
    "    kind=\"line\",\n",
    "    style=\"store\",\n",
    ")"
   ]
  },
  {
   "cell_type": "code",
   "execution_count": null,
   "metadata": {
    "id": "create_dataset:tabular,bq,lrg"
   },
   "outputs": [],
   "source": [
    "dataset_time_series = aiplatform.TimeSeriesDataset.create(gcs_source=DATASET_TRAIN_URI)\n",
    "\n",
    "print(dataset_time_series.resource_name)"
   ]
  },
  {
   "cell_type": "markdown",
   "metadata": {
    "id": "create_automl_pipeline:tabular,lrg,transformations"
   },
   "source": [
    "### 创建并运行训练管道\n",
    "\n",
    "要训练一个自动机器学习模型，请创建并运行一个训练管道。\n",
    "\n",
    "#### 创建训练任务\n",
    "\n",
    "使用`AutoMLForecastingTrainingJob`类创建一个自动机器学习训练管道，包括以下参数：\n",
    "\n",
    "- `display_name`：`TrainingJob`资源的可读名称。\n",
    "- `column_transformations`：（可选）要应用于输入列的变换。\n",
    "- `optimization_objective`：优化目标（最小化或最大化）。\n",
    "  - 回归：\n",
    "    - `minimize-rmse`\n",
    "    - `minimize-mae`\n",
    "    - `minimize-rmsle`"
   ]
  },
  {
   "cell_type": "code",
   "execution_count": null,
   "metadata": {
    "id": "create_automl_pipeline:tabular,lrg,transformations"
   },
   "outputs": [],
   "source": [
    "training_job = aiplatform.AutoMLForecastingTrainingJob(\n",
    "    display_name=\"hierachical_sales_forecasting\",\n",
    "    optimization_objective=\"minimize-rmse\",\n",
    "    column_specs={\n",
    "        \"date\": \"timestamp\",\n",
    "        \"sales\": \"numeric\",\n",
    "        \"product_type\": \"categorical\",\n",
    "        \"product_category\": \"categorical\",\n",
    "        \"product\": \"categorical\",\n",
    "        \"store\": \"categorical\",\n",
    "    },\n",
    ")"
   ]
  },
  {
   "cell_type": "markdown",
   "metadata": {
    "id": "42ce6f1f9633"
   },
   "source": [
    "### 设置上下文和预测范围\n",
    "\n",
    "在训练预测模型时，您需要考虑上下文窗口和预测范围。\n",
    "- 上下文窗口设置了模型在训练期间（以及预测期间）查看数据的时间范围。换句话说，对于每个训练数据点，上下文窗口决定了模型查找预测模式的时间范围。\n",
    "- 预测范围确定了模型预测每个预测数据行的目标值的未来时间范围。\n",
    "\n",
    "请参阅更多信息：[设置上下文窗口和预测范围的考虑因素](https://cloud.google.com/vertex-ai/docs/datasets/bp-tabular?hl=en#context-window)"
   ]
  },
  {
   "cell_type": "code",
   "execution_count": null,
   "metadata": {
    "id": "8315876232af"
   },
   "outputs": [],
   "source": [
    "# Each row represents a day, so we set context and time horizon to 30 to represent 30 days.\n",
    "\n",
    "CONTEXT_WINDOW = 30\n",
    "TIME_HORIZON = 30"
   ]
  },
  {
   "cell_type": "markdown",
   "metadata": {
    "id": "run_automl_pipeline:tabular"
   },
   "source": [
    "#### 运行训练流水线\n",
    "\n",
    "通过调用带有以下参数的`run`方法来运行训练作业：\n",
    "\n",
    "- `dataset`：用于训练模型的`Dataset`资源。\n",
    "- `model_display_name`：训练模型的可读名称。\n",
    "- `training_fraction_split`：用于训练的数据集百分比。\n",
    "- `test_fraction_split`：用于测试（留出数据）的数据集百分比。\n",
    "- `validation_fraction_split`：用于验证的数据集百分比。\n",
    "- `target_column`：要作为标签进行训练的列名。\n",
    "- `budget_milli_node_hours`：（可选）以毫小时为单位指定的最大训练时间。\n",
    "\n",
    "完成`run`方法后返回`Model`资源。\n",
    "\n",
    "#### 设置分层参数\n",
    "我们希望按照‘产品’进行分组，以减少此级别的误差。\n",
    "因此，您应将组参数设置为“product”。\n",
    "\n",
    "将`group_total_weight`设置为非零重量意味着您想要根据个体损失来权衡组合聚合损失。为演示目的将其设置为10。\n",
    "\n",
    "查看更多信息，请访问 https://cloud.google.com/vertex-ai/docs/tabular-data/forecasting/hierarchical"
   ]
  },
  {
   "cell_type": "code",
   "execution_count": null,
   "metadata": {
    "id": "run_automl_pipeline:tabular"
   },
   "outputs": [],
   "source": [
    "time_column = \"date\"\n",
    "time_series_identifier_column = \"product_at_store\"\n",
    "target_column = \"sales\"\n",
    "\n",
    "model = training_job.run(\n",
    "    dataset=dataset_time_series,\n",
    "    target_column=target_column,\n",
    "    time_column=time_column,\n",
    "    time_series_identifier_column=time_series_identifier_column,\n",
    "    available_at_forecast_columns=[time_column],\n",
    "    unavailable_at_forecast_columns=[target_column],\n",
    "    time_series_attribute_columns=[\n",
    "        \"product_type\",\n",
    "        \"product_category\",\n",
    "        \"store\",\n",
    "        \"product\",\n",
    "    ],\n",
    "    forecast_horizon=TIME_HORIZON,\n",
    "    data_granularity_unit=\"day\",\n",
    "    data_granularity_count=1,\n",
    "    model_display_name=\"hierarchical_sales_forecasting_model\",\n",
    "    weight_column=None,\n",
    "    hierarchy_group_columns=[\"product\"],\n",
    "    hierarchy_group_total_weight=10,\n",
    ")"
   ]
  },
  {
   "cell_type": "markdown",
   "metadata": {
    "id": "evaluate_the_model:mbsdk"
   },
   "source": [
    "## 评估模型评分\n",
    "在您的模型训练完成之后，您可以查看其评估分数。"
   ]
  },
  {
   "cell_type": "code",
   "execution_count": null,
   "metadata": {
    "id": "evaluate_the_model:mbsdk"
   },
   "outputs": [],
   "source": [
    "# Get evaluations\n",
    "model_evaluations = model.list_model_evaluations()\n",
    "\n",
    "model_evaluation = list(model_evaluations)[0]\n",
    "print(model_evaluation)"
   ]
  },
  {
   "cell_type": "markdown",
   "metadata": {
    "id": "337625a4c33c"
   },
   "source": [
    "发送一批预测请求\n",
    "\n",
    "现在您可以进行批量预测。"
   ]
  },
  {
   "cell_type": "markdown",
   "metadata": {
    "id": "bff79eb475fa"
   },
   "source": [
    "### 准备测试数据集\n",
    "\n",
    "对于预测，测试数据集需要具有上下文窗口行，其中包含目标列的信息，以及目标列未知的随后时间范围行。构建这两个部分，并将它们合并成一个单独的 CSV 文件。"
   ]
  },
  {
   "cell_type": "code",
   "execution_count": null,
   "metadata": {
    "id": "cec4a813a6c4"
   },
   "outputs": [],
   "source": [
    "import numpy as np\n",
    "\n",
    "# Store start and end dates for context and horizon\n",
    "date_context_window_start = date_cutoff\n",
    "date_context_window_end = date_cutoff + np.timedelta64(CONTEXT_WINDOW, \"D\")\n",
    "time_horizon_end = date_context_window_end + np.timedelta64(TIME_HORIZON, \"D\")\n",
    "\n",
    "# Extract dataframes for context and horizon\n",
    "df_test_context = df_test[\n",
    "    (df_test[\"date\"] >= date_context_window_start)\n",
    "    & (df_test[\"date\"] < date_context_window_end)\n",
    "]\n",
    "df_test_horizon = df_test[\n",
    "    (df_test[\"date\"] >= date_context_window_end) & (df_test[\"date\"] < time_horizon_end)\n",
    "].copy()\n",
    "\n",
    "# Save a copy for validation of predictions\n",
    "df_test_horizon_actual = df_test_horizon.copy()\n",
    "\n",
    "# Remove sales for horizon (i.e. future dates)\n",
    "df_test_horizon[\"sales\"] = \"\"\n",
    "\n",
    "# Write test data to CSV\n",
    "df_test = pd.concat([df_test_context, df_test_horizon])\n",
    "df_test.to_csv(DATASET_TEST_FILENAME, index=False)\n",
    "\n",
    "# Save test dataset\n",
    "DATASET_TEST_URI = f\"{BUCKET_URI}/{DATASET_TEST_FILENAME}\"\n",
    "\n",
    "# Upload to GCS bucket\n",
    "! gsutil cp {DATASET_TEST_FILENAME} {DATASET_TEST_URI}"
   ]
  },
  {
   "cell_type": "markdown",
   "metadata": {
    "id": "69651b1d06da"
   },
   "source": [
    "### 检查上下文数据框\n",
    "\n",
    "请注意销售列已填写。"
   ]
  },
  {
   "cell_type": "code",
   "execution_count": null,
   "metadata": {
    "id": "f002e35f78cb"
   },
   "outputs": [],
   "source": [
    "df_test_context.head()"
   ]
  },
  {
   "cell_type": "markdown",
   "metadata": {
    "id": "fd04bb099daf"
   },
   "source": [
    "### 检查时间范围数据框\n",
    "\n",
    "注意销售列为空。"
   ]
  },
  {
   "cell_type": "code",
   "execution_count": null,
   "metadata": {
    "id": "da09515ce3dd"
   },
   "outputs": [],
   "source": [
    "df_test_horizon.head()"
   ]
  },
  {
   "cell_type": "markdown",
   "metadata": {
    "id": "93bc53cc960d"
   },
   "source": [
    "### 创建一个结果数据集\n",
    "\n",
    "创建一个BigQuery数据集来存储预测结果。"
   ]
  },
  {
   "cell_type": "code",
   "execution_count": null,
   "metadata": {
    "id": "b6a0730cafb2"
   },
   "outputs": [],
   "source": [
    "from google.cloud import bigquery\n",
    "\n",
    "# Create client in default region\n",
    "bigquery_client = bigquery.Client(\n",
    "    project=PROJECT_ID,\n",
    "    credentials=aiplatform.initializer.global_config.credentials,\n",
    ")"
   ]
  },
  {
   "cell_type": "code",
   "execution_count": null,
   "metadata": {
    "id": "9439d436c826"
   },
   "outputs": [],
   "source": [
    "def create_bigquery_dataset(name: str, region: str):\n",
    "    batch_predict_bq_output_uri_prefix = \"bq://{}.{}\".format(PROJECT_ID, name)\n",
    "\n",
    "    bq_dataset = bigquery.Dataset(\"{}.{}\".format(PROJECT_ID, name))\n",
    "\n",
    "    dataset_region = region\n",
    "    bq_dataset.location = dataset_region\n",
    "    bq_dataset = bigquery_client.create_dataset(bq_dataset)\n",
    "    print(\n",
    "        \"Created bigquery dataset {} in {}\".format(\n",
    "            batch_predict_bq_output_uri_prefix, dataset_region\n",
    "        )\n",
    "    )\n",
    "\n",
    "    return batch_predict_bq_output_uri_prefix"
   ]
  },
  {
   "cell_type": "code",
   "execution_count": null,
   "metadata": {
    "id": "fb1fb03d6eae"
   },
   "outputs": [],
   "source": [
    "batch_predict_bq_output_uri_prefix = create_bigquery_dataset(\n",
    "    name=\"hierarchical_forecasting_unique\", region=REGION\n",
    ")"
   ]
  },
  {
   "cell_type": "markdown",
   "metadata": {
    "id": "36c070503d2f"
   },
   "source": [
    "### 发送批处理预测请求\n",
    "\n",
    "您可以通过调用batch_predict()方法进行批处理预测，使用以下参数：\n",
    "\n",
    "- `job_display_name`: 批处理预测作业的可读名称。\n",
    "- `gcs_source`: 一个或多个批处理请求输入文件的列表。\n",
    "- `bigquery_destination_prefix`: 存储批处理预测结果的BigQuery目标位置。\n",
    "- `instances_format`: 输入实例的格式，可以是'bigquery'、'csv'或'jsonl'。默认为'jsonl'。\n",
    "- `predictions_format`: 输出预测的格式，可以是'csv'、'jsonl'或'bigquery'。默认为'jsonl'。\n",
    "- `machine_type`: 用于训练的机器类型。\n",
    "- `accelerator_type`: 硬件加速器类型。\n",
    "- `accelerator_count`: 要附加到工作复制品的加速器数量。\n",
    "- `sync`: 如果设置为True，调用将在等待异步批处理作业完成时阻塞。"
   ]
  },
  {
   "cell_type": "code",
   "execution_count": null,
   "metadata": {
    "id": "bbd40d78ea46"
   },
   "outputs": [],
   "source": [
    "batch_prediction_job = model.batch_predict(\n",
    "    job_display_name=\"hierarchical_forecasting_unique\",\n",
    "    gcs_source=DATASET_TEST_URI,\n",
    "    instances_format=\"csv\",\n",
    "    bigquery_destination_prefix=batch_predict_bq_output_uri_prefix,\n",
    "    predictions_format=\"bigquery\",\n",
    "    generate_explanation=True,\n",
    "    sync=True,\n",
    ")"
   ]
  },
  {
   "cell_type": "markdown",
   "metadata": {
    "id": "4fc95aae00b0"
   },
   "source": [
    "### 查看批量预测结果\n",
    "\n",
    "使用BigQuery Python客户端查询目标表，并将结果作为Pandas数据帧返回。"
   ]
  },
  {
   "cell_type": "code",
   "execution_count": null,
   "metadata": {
    "id": "fafe1b0f654b"
   },
   "outputs": [],
   "source": [
    "# View the results as a dataframe\n",
    "df_output = batch_prediction_job.iter_outputs(bq_max_results=1000).to_dataframe()\n",
    "\n",
    "# Convert the dates to the datetime64 datatype\n",
    "df_output[\"date\"] = df_output[\"date\"].astype(\"datetime64[ns]\")\n",
    "\n",
    "# Extract the predicted sales and convert to floats\n",
    "df_output[\"predicted_sales\"] = (\n",
    "    df_output[\"predicted_sales\"].apply(lambda x: x[\"value\"]).astype(float)\n",
    ")\n",
    "\n",
    "df_output.head()"
   ]
  },
  {
   "cell_type": "markdown",
   "metadata": {
    "id": "305edda2bff8"
   },
   "source": [
    "### 比较预测与实际值\n",
    "\n",
    "绘制预测销量与实际值的图表"
   ]
  },
  {
   "cell_type": "code",
   "execution_count": null,
   "metadata": {
    "id": "98679eff6973"
   },
   "outputs": [],
   "source": [
    "import matplotlib.pyplot as plt\n",
    "\n",
    "# Create a shared dataframe to plot predictions vs ground truth\n",
    "df_output[\"sales_comparison\"] = df_output[\"predicted_sales\"]\n",
    "df_output[\"is_ground_truth\"] = False\n",
    "df_test_horizon_actual[\"sales_comparison\"] = df_test_horizon_actual[\"sales\"]\n",
    "df_test_horizon_actual[\"is_ground_truth\"] = True\n",
    "df_prediction_comparison = pd.concat([df_output, df_test_horizon_actual])\n",
    "\n",
    "# Plot sales\n",
    "fig = plt.gcf()\n",
    "fig.set_size_inches(24, 12)\n",
    "\n",
    "sns.relplot(\n",
    "    data=df_prediction_comparison,\n",
    "    x=\"date\",\n",
    "    y=\"sales_comparison\",\n",
    "    hue=\"product_at_store\",\n",
    "    style=\"store\",\n",
    "    row=\"is_ground_truth\",\n",
    "    height=5,\n",
    "    aspect=4,\n",
    "    kind=\"line\",\n",
    "    ci=None,\n",
    ")"
   ]
  },
  {
   "cell_type": "markdown",
   "metadata": {
    "id": "cleanup:mbsdk"
   },
   "source": [
    "清理\n",
    "要清理在此项目中使用的所有Google Cloud资源，您可以[删除用于本教程的Google Cloud\n",
    "项目](https://cloud.google.com/resource-manager/docs/creating-managing-projects#shutting_down_projects)。\n",
    "\n",
    "否则，您可以删除本教程中创建的各个资源：\n",
    "\n",
    "- 模型\n",
    "- AutoML训练作业\n",
    "- 批处理作业\n",
    "- Cloud Storage存储桶"
   ]
  },
  {
   "cell_type": "code",
   "execution_count": null,
   "metadata": {
    "id": "ec0171e4b4e8"
   },
   "outputs": [],
   "source": [
    "from google.cloud import bigquery\n",
    "\n",
    "# Create client in default region\n",
    "bq_client = bigquery.Client(\n",
    "    project=PROJECT_ID,\n",
    "    credentials=aiplatform.initializer.global_config.credentials,\n",
    ")"
   ]
  },
  {
   "cell_type": "code",
   "execution_count": null,
   "metadata": {
    "id": "3be2c2bf9146"
   },
   "outputs": [],
   "source": [
    "# Delete BigQuery datasets\n",
    "bq_client.delete_dataset(\n",
    "    f\"{PROJECT_ID}.hierarchical_forecasting_unique\",\n",
    "    delete_contents=True,\n",
    "    not_found_ok=True,\n",
    ")"
   ]
  },
  {
   "cell_type": "code",
   "execution_count": null,
   "metadata": {
    "id": "cleanup:mbsdk"
   },
   "outputs": [],
   "source": [
    "# Delete Vertex AI resources\n",
    "dataset_time_series.delete()\n",
    "model.delete()\n",
    "training_job.delete()\n",
    "batch_prediction_job.delete()"
   ]
  }
 ],
 "metadata": {
  "colab": {
   "name": "sdk_automl_forecasting_hierarchical_batch.ipynb",
   "toc_visible": true
  },
  "kernelspec": {
   "display_name": "Python 3",
   "name": "python3"
  }
 },
 "nbformat": 4,
 "nbformat_minor": 0
}
