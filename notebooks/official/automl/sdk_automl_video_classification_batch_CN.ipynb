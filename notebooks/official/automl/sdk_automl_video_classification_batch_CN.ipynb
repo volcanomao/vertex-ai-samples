{
 "cells": [
  {
   "cell_type": "code",
   "execution_count": null,
   "metadata": {
    "id": "copyright"
   },
   "outputs": [],
   "source": [
    "# Copyright 2021 Google LLC\n",
    "#\n",
    "# Licensed under the Apache License, Version 2.0 (the \"License\");\n",
    "# you may not use this file except in compliance with the License.\n",
    "# You may obtain a copy of the License at\n",
    "#\n",
    "#     https://www.apache.org/licenses/LICENSE-2.0\n",
    "#\n",
    "# Unless required by applicable law or agreed to in writing, software\n",
    "# distributed under the License is distributed on an \"AS IS\" BASIS,\n",
    "# WITHOUT WARRANTIES OR CONDITIONS OF ANY KIND, either express or implied.\n",
    "# See the License for the specific language governing permissions and\n",
    "# limitations under the License."
   ]
  },
  {
   "cell_type": "markdown",
   "metadata": {
    "id": "title"
   },
   "source": [
    "# Vertex AI SDK：AutoML训练视频分类模型用于批量预测\n",
    "\n",
    "<table align=\"left\">\n",
    "  <td>\n",
    "    <a href=\"https://colab.research.google.com/github/GoogleCloudPlatform/vertex-ai-samples/blob/main/notebooks/official/automl/sdk_automl_video_classification_batch.ipynb\">\n",
    "      <img src=\"https://cloud.google.com/ml-engine/images/colab-logo-32px.png\" alt=\"Colab logo\"> 在Colab中运行\n",
    "    </a>\n",
    "  </td>\n",
    "  <td>\n",
    "    <a href=\"https://github.com/GoogleCloudPlatform/vertex-ai-samples/blob/main/notebooks/official/automl/sdk_automl_video_classification_batch.ipynb\">\n",
    "      <img src=\"https://cloud.google.com/ml-engine/images/github-logo-32px.png\" alt=\"GitHub logo\">\n",
    "      在GitHub上查看\n",
    "    </a>\n",
    "  </td>\n",
    "  <td>\n",
    "<a href=\"https://console.cloud.google.com/vertex-ai/workbench/deploy-notebook?download_url=https://raw.githubusercontent.com/GoogleCloudPlatform/vertex-ai-samples/main/notebooks/official/automl/sdk_automl_video_classification_batch.ipynb\" target='_blank'>            \n",
    "    <img src=\"https://lh3.googleusercontent.com/UiNooY4LUgW_oTvpsNhPpQzsstV5W8F7rYgxgGBD85cWJoLmrOzhVs_ksK_vgx40SHs7jCqkTkCk=e14-rj-sc0xffffff-h130-w32\" alt=\"Vertex AI logo\"> \n",
    "在Vertex AI Workbench中打开\n",
    "    </a>\n",
    "  </td>\n",
    "</table>\n",
    "<br/><br/><br/>"
   ]
  },
  {
   "cell_type": "markdown",
   "metadata": {
    "id": "overview:automl"
   },
   "source": [
    "## 概述\n",
    "\n",
    "本教程演示了如何使用 Vertex AI SDK 创建视频分类模型，并使用 Vertex AI [AutoML](https://cloud.google.com/vertex-ai/docs/start/automl-users) 模型进行批量预测。\n",
    "\n",
    "了解更多关于[视频数据分类](https://cloud.google.com/vertex-ai/docs/training-overview#classification_for_videos)的信息。"
   ]
  },
  {
   "cell_type": "markdown",
   "metadata": {
    "id": "objective:automl,training,batch_prediction"
   },
   "source": [
    "### 目标\n",
    "\n",
    "在这个教程中，您将学习如何从Python脚本创建一个AutoML视频分类模型，然后使用Vertex AI SDK进行批量预测。\n",
    "另外，您也可以使用`gcloud`命令行工具或通过Google Cloud控制台在线创建和部署模型。\n",
    "\n",
    "本教程使用以下Google Cloud ML服务和资源:\n",
    "\n",
    "- Vertex AI训练\n",
    "- Vertex AI模型\n",
    "- Vertex AI批量预测\n",
    "\n",
    "执行的步骤包括:\n",
    "\n",
    "- 创建一个Vertex数据集资源。\n",
    "- 训练模型。\n",
    "- 查看模型评估。\n",
    "- 进行批量预测。\n",
    "\n",
    "使用批量预测和使用在线预测之间有一个关键区别:\n",
    "\n",
    "* 预测服务: 对整个实例集（即一个或多个数据项）进行按需预测，并实时返回结果。\n",
    "\n",
    "* 批量预测服务: 对整个实例集进行排队（批量）预测，并在准备就绪时将结果存储在Cloud Storage存储桶中。"
   ]
  },
  {
   "cell_type": "markdown",
   "metadata": {
    "id": "dataset:hmdb,vcn"
   },
   "source": [
    "### 数据集\n",
    "\n",
    "本教程使用的数据集是麻省理工学院[人体运动数据集](http://cbcl.mit.edu/publications/ps/Kuehne_etal_iccv11.pdf)中的高尔夫挥杆识别部分。本教程中使用的数据集版本存储在一个公共云存储桶中。训练模型可以预测高尔夫挥杆开始的帧数。"
   ]
  },
  {
   "cell_type": "markdown",
   "metadata": {
    "id": "costs"
   },
   "source": [
    "### 成本\n",
    "\n",
    "本教程使用 Google Cloud 的计费组件：\n",
    "\n",
    "* Vertex AI\n",
    "* Cloud Storage\n",
    "\n",
    "了解 [Vertex AI 价格](https://cloud.google.com/vertex-ai/pricing) 和 [Cloud Storage 价格](https://cloud.google.com/storage/pricing)，并使用 [定价计算器](https://cloud.google.com/products/calculator/) 根据您的预期使用量生成成本估算。"
   ]
  },
  {
   "cell_type": "markdown",
   "metadata": {
    "id": "install_aip:mbsdk"
   },
   "source": [
    "## 安装\n",
    "\n",
    "安装最新版本的Vertex AI和Cloud Storage SDK for Python。"
   ]
  },
  {
   "cell_type": "code",
   "execution_count": null,
   "metadata": {
    "id": "2abdd254e90f"
   },
   "outputs": [],
   "source": [
    "import os\n",
    "\n",
    "! pip3 install --upgrade --quiet google-cloud-aiplatform \\\n",
    "                                 google-cloud-storage"
   ]
  },
  {
   "cell_type": "markdown",
   "metadata": {
    "id": "restart"
   },
   "source": [
    "### 仅限协作：取消注释以下单元格以重新启动内核"
   ]
  },
  {
   "cell_type": "code",
   "execution_count": null,
   "metadata": {
    "id": "D-ZBOjErv5mM"
   },
   "outputs": [],
   "source": [
    "# Automatically restart kernel after installs so that your environment can access the new packages\n",
    "# import IPython\n",
    "\n",
    "# app = IPython.Application.instance()\n",
    "# app.kernel.do_shutdown(True)"
   ]
  },
  {
   "cell_type": "markdown",
   "metadata": {
    "id": "yfEglUHQk9S3"
   },
   "source": [
    "在你开始之前\n",
    "\n",
    "设置你的项目ID\n",
    "\n",
    "**如果你不知道你的项目ID**，请尝试以下步骤：\n",
    "- 运行 `gcloud config list`。\n",
    "- 运行 `gcloud projects list`。\n",
    "- 查看支持页面：[查找项目ID](https://support.google.com/googleapi/answer/7014113)"
   ]
  },
  {
   "cell_type": "code",
   "execution_count": null,
   "metadata": {
    "id": "set_project_id"
   },
   "outputs": [],
   "source": [
    "PROJECT_ID = \"[your-project-id]\"  # @param {type:\"string\"}\n",
    "\n",
    "# Set the project id\n",
    "! gcloud config set project {PROJECT_ID}"
   ]
  },
  {
   "cell_type": "markdown",
   "metadata": {
    "id": "region"
   },
   "source": [
    "区域\n",
    "\n",
    "您还可以更改 Vertex AI 使用的 `REGION` 变量。了解有关[Vertex AI 区域](https://cloud.google.com/vertex-ai/docs/general/locations)的更多信息。"
   ]
  },
  {
   "cell_type": "code",
   "execution_count": null,
   "metadata": {
    "id": "region"
   },
   "outputs": [],
   "source": [
    "REGION = \"us-central1\"  # @param {type: \"string\"}"
   ]
  },
  {
   "cell_type": "markdown",
   "metadata": {
    "id": "gcp_authenticate"
   },
   "source": [
    "### 验证您的Google Cloud帐户\n",
    "\n",
    "根据您的Jupyter环境，您可能需要手动进行身份验证。请按照以下相关说明进行操作。\n",
    "\n",
    "**1. Vertex AI 工作台**\n",
    "* 无需操作，因为您已经通过身份验证。\n",
    "\n",
    "**2. 本地JupyterLab实例，请取消注释并运行：**"
   ]
  },
  {
   "cell_type": "code",
   "execution_count": null,
   "metadata": {
    "id": "ce6043da7b33"
   },
   "outputs": [],
   "source": [
    "# ! gcloud auth login"
   ]
  },
  {
   "cell_type": "markdown",
   "metadata": {
    "id": "0367eac06a10"
   },
   "source": [
    "协作，取消注释并运行。"
   ]
  },
  {
   "cell_type": "code",
   "execution_count": null,
   "metadata": {
    "id": "21ad4dbb4a61"
   },
   "outputs": [],
   "source": [
    "# from google.colab import auth\n",
    "# auth.authenticate_user()"
   ]
  },
  {
   "cell_type": "markdown",
   "metadata": {
    "id": "c13224697bfb"
   },
   "source": [
    "4. 服务账户或其他\n",
    "* 请查看如何在https://cloud.google.com/storage/docs/gsutil/commands/iam#ch-examples上授予您的服务账户云存储权限。"
   ]
  },
  {
   "cell_type": "markdown",
   "metadata": {
    "id": "bucket:mbsdk"
   },
   "source": [
    "### 创建一个云存储桶\n",
    "\n",
    "创建一个存储桶来存储中间产品，比如数据集。"
   ]
  },
  {
   "cell_type": "code",
   "execution_count": null,
   "metadata": {
    "id": "bucket"
   },
   "outputs": [],
   "source": [
    "BUCKET_URI = f\"gs://your-bucket-name-{PROJECT_ID}-unique\"  # @param {type:\"string\"}"
   ]
  },
  {
   "cell_type": "markdown",
   "metadata": {
    "id": "create_bucket"
   },
   "source": [
    "如果您的存储桶尚不存在：运行以下单元格以创建您的云存储存储桶。"
   ]
  },
  {
   "cell_type": "code",
   "execution_count": null,
   "metadata": {
    "id": "create_bucket"
   },
   "outputs": [],
   "source": [
    "! gsutil mb -l $REGION -p $PROJECT_ID $BUCKET_URI"
   ]
  },
  {
   "cell_type": "markdown",
   "metadata": {
    "id": "setup_vars"
   },
   "source": [
    "### 导入库"
   ]
  },
  {
   "cell_type": "code",
   "execution_count": 13,
   "metadata": {
    "id": "import_aip:mbsdk"
   },
   "outputs": [],
   "source": [
    "from google.cloud import aiplatform"
   ]
  },
  {
   "cell_type": "markdown",
   "metadata": {
    "id": "init_aip:mbsdk"
   },
   "source": [
    "### 初始化 Python 的 Vertex AI SDK\n",
    "\n",
    "为您的项目和相应的存储桶初始化 Python 的 Vertex AI SDK。"
   ]
  },
  {
   "cell_type": "code",
   "execution_count": null,
   "metadata": {
    "id": "init_aip:mbsdk"
   },
   "outputs": [],
   "source": [
    "aiplatform.init(project=PROJECT_ID, staging_bucket=BUCKET_URI)"
   ]
  },
  {
   "cell_type": "markdown",
   "metadata": {
    "id": "tutorial_start:automl"
   },
   "source": [
    "## 教程\n",
    "\n",
    "现在您已经准备好开始创建您自己的AutoML视频分类模型。"
   ]
  },
  {
   "cell_type": "markdown",
   "metadata": {
    "id": "import_file:u_dataset,csv"
   },
   "source": [
    "#### 云存储训练数据的位置。\n",
    "\n",
    "现在将变量`IMPORT_FILE`设置为云存储中CSV索引文件的位置。"
   ]
  },
  {
   "cell_type": "code",
   "execution_count": null,
   "metadata": {
    "id": "import_file:hmdb,csv,vcn"
   },
   "outputs": [],
   "source": [
    "IMPORT_FILE = \"gs://automl-video-demo-data/hmdb_split1_5classes_train_inf.csv\""
   ]
  },
  {
   "cell_type": "markdown",
   "metadata": {
    "id": "quick_peek:csv"
   },
   "source": [
    "快速查看您的数据\n",
    "\n",
    "本教程使用存储在公共云存储桶中的MIT人体运动数据集的版本，使用一个CSV索引文件。\n",
    "\n",
    "首先快速查看数据。您可以通过计算CSV索引文件中行数来计算示例的数量（`wc -l`），然后查看前几行。"
   ]
  },
  {
   "cell_type": "code",
   "execution_count": null,
   "metadata": {
    "id": "quick_peek:csv"
   },
   "outputs": [],
   "source": [
    "count = ! gsutil cat $IMPORT_FILE | wc -l\n",
    "print(\"Number of Examples\", int(count[0]))\n",
    "\n",
    "print(\"First 10 rows\")\n",
    "! gsutil cat $IMPORT_FILE | head"
   ]
  },
  {
   "cell_type": "markdown",
   "metadata": {
    "id": "create_dataset:video,vcn"
   },
   "source": [
    "### 创建数据集\n",
    "\n",
    "接下来，使用`VideoDataset`类的`create`方法创建数据集资源，该方法接受以下参数：\n",
    "\n",
    "- `display_name`：数据集资源的人类可读名称。\n",
    "- `gcs_source`：要将数据项导入`Dataset`资源的一个或多个数据集索引文件列表。\n",
    "\n",
    "此操作可能需要几分钟时间。"
   ]
  },
  {
   "cell_type": "code",
   "execution_count": null,
   "metadata": {
    "id": "create_dataset:video,vcn"
   },
   "outputs": [],
   "source": [
    "dataset = aiplatform.VideoDataset.create(\n",
    "    display_name=\"MIT Human Motion\",\n",
    "    gcs_source=[IMPORT_FILE],\n",
    "    import_schema_uri=aiplatform.schema.dataset.ioformat.video.classification,\n",
    ")\n",
    "\n",
    "print(dataset.resource_name)"
   ]
  },
  {
   "cell_type": "markdown",
   "metadata": {
    "id": "create_automl_pipeline:video,vcn"
   },
   "source": [
    "### 创建和运行训练流水线\n",
    "\n",
    "要训练一个AutoML模型，您需要执行两个步骤：1）创建一个训练流水线，和2）运行该流水线。\n",
    "\n",
    "#### 创建训练流水线\n",
    "\n",
    "使用`AutoMLVideoTrainingJob`类创建一个AutoML训练流水线，其中包含以下参数：\n",
    "\n",
    "- `display_name`：`TrainingJob`资源的可读名称。\n",
    "- `prediction_type`：模型训练的任务类型。\n",
    "  - `classification`：视频分类模型。\n",
    "  - `object_tracking`：视频目标追踪模型。\n",
    "  - `action_recognition`：视频动作识别模型。"
   ]
  },
  {
   "cell_type": "code",
   "execution_count": null,
   "metadata": {
    "id": "create_automl_pipeline:video,vcn"
   },
   "outputs": [],
   "source": [
    "job = aiplatform.AutoMLVideoTrainingJob(\n",
    "    display_name=\"hmdb\",\n",
    "    prediction_type=\"classification\",\n",
    ")\n",
    "\n",
    "print(job)"
   ]
  },
  {
   "cell_type": "markdown",
   "metadata": {
    "id": "run_automl_pipeline:video"
   },
   "source": [
    "#### 运行训练管道\n",
    "\n",
    "接下来，您可以通过调用`run`方法来运行作业，以启动训练作业，并指定以下参数：\n",
    "\n",
    "- `dataset`：用于训练模型的数据集资源。\n",
    "- `model_display_name`：训练模型的可读名称。\n",
    "- `training_fraction_split`：用于训练的数据集百分比。\n",
    "- `test_fraction_split`：用于测试（保留数据）的数据集百分比。\n",
    "\n",
    "完成`run`方法后将返回训练模型资源。\n",
    "\n",
    "训练管道的执行可能需要超过3个小时。"
   ]
  },
  {
   "cell_type": "code",
   "execution_count": null,
   "metadata": {
    "id": "run_automl_pipeline:video"
   },
   "outputs": [],
   "source": [
    "model = job.run(\n",
    "    dataset=dataset,\n",
    "    model_display_name=\"hmdb\",\n",
    "    training_fraction_split=0.8,\n",
    "    test_fraction_split=0.2,\n",
    ")"
   ]
  },
  {
   "cell_type": "markdown",
   "metadata": {
    "id": "evaluate_the_model:mbsdk"
   },
   "source": [
    "## 检查模型评估分数\n",
    "在您的模型训练完成后，您可以查看其评估分数。\n",
    "\n",
    "您可以使用 Vertex AI 模型资源的 `get_model_evaluation` 方法来检查模型的评估结果。\n",
    "\n",
    "与 Vertex AI 数据集一样，您可以使用部署模型时创建的模型变量的引用，或者可以通过使用模型的显示名称从项目中所有模型的列表中筛选。"
   ]
  },
  {
   "cell_type": "code",
   "execution_count": null,
   "metadata": {
    "id": "evaluate_the_model:mbsdk"
   },
   "outputs": [],
   "source": [
    "# Get model resource ID using the display_name\n",
    "models = aiplatform.Model.list(filter=\"display_name=hmdb\")\n",
    "\n",
    "if len(models) != 0:\n",
    "\n",
    "    # Get the model object\n",
    "    model_rsc_name = models[0].resource_name\n",
    "    print(\"Model resource name:\", model_rsc_name)\n",
    "    model = aiplatform.Model(model_rsc_name)\n",
    "\n",
    "    # Print the model evaluation\n",
    "    model_eval = model.get_model_evaluation()\n",
    "    print(model_eval.to_dict())"
   ]
  },
  {
   "cell_type": "markdown",
   "metadata": {
    "id": "make_prediction"
   },
   "source": [
    "发送一个批量预测请求\n",
    "\n",
    "向部署的模型发送一个批量预测。"
   ]
  },
  {
   "cell_type": "markdown",
   "metadata": {
    "id": "get_test_items:batch_prediction"
   },
   "source": [
    "获取测试项目\n",
    "\n",
    "现在对您的 Vertex AI 模型进行批量预测。使用数据集中的任意示例作为测试项目。\n",
    "不必担心这些示例很可能已在训练模型中使用，因为本教程仅关于如何进行批量预测。"
   ]
  },
  {
   "cell_type": "code",
   "execution_count": null,
   "metadata": {
    "id": "get_test_items:automl,vcn,csv"
   },
   "outputs": [],
   "source": [
    "test_items = ! gsutil cat $IMPORT_FILE | head -n2\n",
    "\n",
    "if len(test_items[0]) == 5:\n",
    "    _, test_item_1, test_label_1, _, _ = str(test_items[0]).split(\",\")\n",
    "    _, test_item_2, test_label_2, _, _ = str(test_items[1]).split(\",\")\n",
    "else:\n",
    "    test_item_1, test_label_1, _, _ = str(test_items[0]).split(\",\")\n",
    "    test_item_2, test_label_2, _, _ = str(test_items[1]).split(\",\")\n",
    "\n",
    "\n",
    "print(test_item_1, test_label_1)\n",
    "print(test_item_2, test_label_2)"
   ]
  },
  {
   "cell_type": "markdown",
   "metadata": {
    "id": "make_batch_file:automl,video"
   },
   "source": [
    "### 创建批处理输入文件\n",
    "\n",
    "现在创建一个批处理输入文件，并将其存储在您的本地云存储存储桶中。批处理输入文件可以是CSV或JSONL格式。在本教程中，您将使用JSONL格式。在JSONL文件中，为每个视频的每一行创建一个字典条目。该字典包含以下键值对：\n",
    "\n",
    "- `content`：视频的云存储路径。\n",
    "- `mimeType`：内容类型。在我们的示例中，是一个`avi`文件。\n",
    "- `timeSegmentStart`：要进行预测的视频中的开始时间戳。*注意*，时间戳必须指定为字符串，后面跟着s（秒）、m（分）或h（小时）。\n",
    "- `timeSegmentEnd`：要进行预测的视频中的结束时间戳。"
   ]
  },
  {
   "cell_type": "code",
   "execution_count": null,
   "metadata": {
    "id": "make_batch_file:automl,video"
   },
   "outputs": [],
   "source": [
    "import json\n",
    "\n",
    "from google.cloud import storage\n",
    "\n",
    "test_filename = \"test.jsonl\"\n",
    "gcs_input_uri = BUCKET_URI + \"/\" + test_filename\n",
    "\n",
    "data_1 = {\n",
    "    \"content\": test_item_1,\n",
    "    \"mimeType\": \"video/avi\",\n",
    "    \"timeSegmentStart\": \"0.0s\",\n",
    "    \"timeSegmentEnd\": \"5.0s\",\n",
    "}\n",
    "data_2 = {\n",
    "    \"content\": test_item_2,\n",
    "    \"mimeType\": \"video/avi\",\n",
    "    \"timeSegmentStart\": \"0.0s\",\n",
    "    \"timeSegmentEnd\": \"5.0s\",\n",
    "}\n",
    "\n",
    "\n",
    "bucket = storage.Client(project=PROJECT_ID).bucket(BUCKET_URI[5:])\n",
    "blob = bucket.blob(blob_name=test_filename)\n",
    "data = json.dumps(data_1) + \"\\n\" + json.dumps(data_2) + \"\\n\"\n",
    "blob.upload_from_string(data)\n",
    "print(gcs_input_uri)"
   ]
  },
  {
   "cell_type": "markdown",
   "metadata": {
    "id": "d56366168ec5"
   },
   "source": [
    "检查输入内容\n",
    "检查 `test.jsonl` 的内容。"
   ]
  },
  {
   "cell_type": "code",
   "execution_count": null,
   "metadata": {
    "id": "378131e21a7e"
   },
   "outputs": [],
   "source": [
    "! gsutil cat $gcs_input_uri"
   ]
  },
  {
   "cell_type": "markdown",
   "metadata": {
    "id": "batch_request:mbsdk"
   },
   "source": [
    "### 发送批量预测请求\n",
    "\n",
    "现在您的Vertex AI模型资源已经训练完毕，您可以通过调用`batch_predict()`方法来进行批量预测，参数如下：\n",
    "\n",
    "- `job_display_name`：批量预测作业的可读名称。\n",
    "- `gcs_source`：一个或多个批量请求输入文件的列表。\n",
    "- `gcs_destination_prefix`：用于存储批量预测结果的Cloud Storage位置。\n",
    "- `sync`：如果设置为True，调用会阻塞并等待异步批处理作业完成。"
   ]
  },
  {
   "cell_type": "code",
   "execution_count": null,
   "metadata": {
    "id": "batch_request:mbsdk"
   },
   "outputs": [],
   "source": [
    "batch_predict_job = model.batch_predict(\n",
    "    job_display_name=\"hmdb\",\n",
    "    gcs_source=gcs_input_uri,\n",
    "    gcs_destination_prefix=BUCKET_URI,\n",
    "    sync=False,\n",
    ")\n",
    "\n",
    "print(batch_predict_job)"
   ]
  },
  {
   "cell_type": "markdown",
   "metadata": {
    "id": "batch_request_wait:mbsdk"
   },
   "source": [
    "### 等待批量预测作业完成\n",
    "\n",
    "接下来，等待批量作业完成。或者，可以在`batch_predict()`方法中将参数`sync`设置为`True`，以在批量预测作业完成之前阻塞。"
   ]
  },
  {
   "cell_type": "code",
   "execution_count": null,
   "metadata": {
    "id": "batch_request_wait:mbsdk"
   },
   "outputs": [],
   "source": [
    "batch_predict_job.wait()"
   ]
  },
  {
   "cell_type": "markdown",
   "metadata": {
    "id": "get_batch_prediction:mbsdk,vcn"
   },
   "source": [
    "获取预测结果\n",
    "\n",
    "接下来，从完成的批量预测作业中获取结果。\n",
    "\n",
    "结果将被写入您在批量预测请求中指定的 Cloud 存储输出存储桶中。\n",
    "调用方法 `iter_outputs()` 来获取生成的结果文件列表。\n",
    "每个文件以 JSON 格式包含一个或多个预测请求：\n",
    "\n",
    "- `content`: 预测请求。\n",
    "- `prediction`: 预测响应。\n",
    " - `ids`: 每个预测请求的内部分配的唯一标识符。\n",
    " - `displayNames`: 每个类标签的类名。\n",
    " - `confidences`: 每个类标签的预测置信度，介于 0 和 1 之间。\n",
    " - `timeSegmentStart`: 视频中视频序列开始的时间偏移。\n",
    " - `timeSegmentEnd`: 视频中视频序列结束的时间偏移。"
   ]
  },
  {
   "cell_type": "code",
   "execution_count": null,
   "metadata": {
    "id": "get_batch_prediction:mbsdk,vcn"
   },
   "outputs": [],
   "source": [
    "bp_iter_outputs = batch_predict_job.iter_outputs()\n",
    "\n",
    "prediction_results = list()\n",
    "for blob in bp_iter_outputs:\n",
    "    if blob.name.split(\"/\")[-1].startswith(\"prediction\"):\n",
    "        prediction_results.append(blob.name)\n",
    "\n",
    "for prediction_result in prediction_results:\n",
    "    gfile_name = f\"gs://{bp_iter_outputs.bucket.name}/{prediction_result}\".replace(\n",
    "        BUCKET_URI + \"/\", \"\"\n",
    "    )\n",
    "    data = bucket.get_blob(gfile_name).download_as_string()\n",
    "    data = json.loads(data)\n",
    "    print(data)"
   ]
  },
  {
   "cell_type": "markdown",
   "metadata": {
    "id": "cleanup:mbsdk"
   },
   "source": [
    "清理\n",
    "\n",
    "要清理此项目中使用的所有 Google Cloud 资源，您可以[删除用于教程的 Google Cloud 项目](https://cloud.google.com/resource-manager/docs/creating-managing-projects#shutting_down_projects)。\n",
    "\n",
    "否则，您可以删除本教程中创建的单个资源：\n",
    "\n",
    "- 数据集\n",
    "- 模型\n",
    "- AutoML 训练作业\n",
    "- 批处理作业\n",
    "- Cloud Storage 存储桶"
   ]
  },
  {
   "cell_type": "code",
   "execution_count": null,
   "metadata": {
    "id": "cleanup:mbsdk"
   },
   "outputs": [],
   "source": [
    "# If the bucket needs to be deleted too, please set \"delete_bucket\" to True\n",
    "delete_bucket = False\n",
    "\n",
    "# Delete the dataset using the Vertex dataset object\n",
    "dataset.delete()\n",
    "\n",
    "# Delete the model using the Vertex model object\n",
    "model.delete()\n",
    "\n",
    "# Delete the AutoML or Pipeline training job\n",
    "job.delete()\n",
    "\n",
    "# Delete the batch prediction job using the Vertex batch prediction object\n",
    "batch_predict_job.delete()\n",
    "\n",
    "# Delete the Cloud storage bucket\n",
    "if delete_bucket or os.getenv(\"IS_TESTING\"):\n",
    "    ! gsutil rm -r $BUCKET_URI"
   ]
  }
 ],
 "metadata": {
  "colab": {
   "name": "sdk_automl_video_classification_batch.ipynb",
   "toc_visible": true
  },
  "kernelspec": {
   "display_name": "Python 3",
   "name": "python3"
  }
 },
 "nbformat": 4,
 "nbformat_minor": 0
}
