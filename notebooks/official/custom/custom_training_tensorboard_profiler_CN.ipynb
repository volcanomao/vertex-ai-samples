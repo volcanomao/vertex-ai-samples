{
 "cells": [
  {
   "cell_type": "code",
   "execution_count": null,
   "metadata": {
    "id": "ur8xi4C7S06n"
   },
   "outputs": [],
   "source": [
    "# Copyright 2022 Google LLC\n",
    "#\n",
    "# Licensed under the Apache License, Version 2.0 (the \"License\");\n",
    "# you may not use this file except in compliance with the License.\n",
    "# You may obtain a copy of the License at\n",
    "#\n",
    "#     https://www.apache.org/licenses/LICENSE-2.0\n",
    "#\n",
    "# Unless required by applicable law or agreed to in writing, software\n",
    "# distributed under the License is distributed on an \"AS IS\" BASIS,\n",
    "# WITHOUT WARRANTIES OR CONDITIONS OF ANY KIND, either express or implied.\n",
    "# See the License for the specific language governing permissions and\n",
    "# limitations under the License."
   ]
  },
  {
   "cell_type": "markdown",
   "metadata": {
    "id": "l2mMvIUG9meX"
   },
   "source": [
    "使用云剖析器(Profile model training performance using Cloud Profiler)\n",
    "\n",
    "<table align=\"left\">\n",
    "  <td style=\"text-align: center\">\n",
    "    <a href=\"https://colab.research.google.com/github/GoogleCloudPlatform/vertex-ai-samples/blob/main/notebooks/official/custom/custom_training_tensorboard_profiler.ipynb\">\n",
    "      <img src=\"https://cloud.google.com/ml-engine/images/colab-logo-32px.png\" alt=\"Google Colaboratory logo\"><br> 在Colab中打开\n",
    "    </a>\n",
    "  </td>\n",
    "  <td style=\"text-align: center\">\n",
    "    <a href=\"https://console.cloud.google.com/vertex-ai/colab/import/https:%2F%2Fraw.githubusercontent.com%2FGoogleCloudPlatform%2Fvertex-ai-samples%2Fmain%2Fnotebooks%2Fofficial%2Fcustom%2Fcustom_training_tensorboard_profiler.ipynb\">\n",
    "      <img width=\"32px\" src=\"https://cloud.google.com/ml-engine/images/colab-enterprise-logo-32px.png\" alt=\"Google Cloud Colab Enterprise logo\"><br> 在Colab Enterprise中打开\n",
    "    </a>\n",
    "  </td>    \n",
    "  <td style=\"text-align: center\">\n",
    "    <a href=\"https://console.cloud.google.com/vertex-ai/workbench/deploy-notebook?download_url=https://raw.githubusercontent.com/GoogleCloudPlatform/vertex-ai-samples/main/notebooks/official/custom/custom_training_tensorboard_profiler.ipynb\">\n",
    "      <img src=\"https://lh3.googleusercontent.com/UiNooY4LUgW_oTvpsNhPpQzsstV5W8F7rYgxgGBD85cWJoLmrOzhVs_ksK_vgx40SHs7jCqkTkCk=e14-rj-sc0xffffff-h130-w32\" alt=\"Vertex AI logo\"><br> 在Workbench中打开\n",
    "    </a>\n",
    "  </td>\n",
    "  <td style=\"text-align: center\">\n",
    "    <a href=\"https://github.com/GoogleCloudPlatform/vertex-ai-samples/blob/main/notebooks/official/custom/custom_training_tensorboard_profiler.ipynb\">\n",
    "      <img src=\"https://cloud.google.com/ml-engine/images/github-logo-32px.png\" alt=\"GitHub logo\"><br> 在GitHub上查看\n",
    "    </a>\n",
    "  </td>\n",
    "</table>"
   ]
  },
  {
   "cell_type": "markdown",
   "metadata": {
    "id": "tvgnzT1CKxrO"
   },
   "source": [
    "## 概述\n",
    "\n",
    "Cloud Profiler 允许您监控和优化模型训练性能，帮助您了解训练操作的资源消耗。本教程演示了如何启用 Cloud Profiler，以便您可以调试自定义训练作业的模型训练性能。\n",
    "\n",
    "了解更多关于[Cloud Profiler](https://cloud.google.com/vertex-ai/docs/experiments/tensorboard-profiler)。"
   ]
  },
  {
   "cell_type": "markdown",
   "metadata": {
    "id": "dmfmQL6w84pS"
   },
   "source": [
    "### 目标\n",
    "\n",
    "在本教程中，您将学习如何为自定义训练作业启用云分析器。\n",
    "\n",
    "本教程使用以下 Google Cloud AI 服务：\n",
    "\n",
    "- `Vertex AI Training`\n",
    "- `Vertex AI TensorBoard`\n",
    "\n",
    "执行的步骤包括：\n",
    "\n",
    "- 设置服务帐号和云存储桶\n",
    "- 创建一个 TensorBoard 实例\n",
    "- 创建并运行一个自定义训练作业\n",
    "- 查看云分析器仪表板"
   ]
  },
  {
   "cell_type": "markdown",
   "metadata": {
    "id": "zfXf0r-K81Y-"
   },
   "source": [
    "数据集\n",
    "\n",
    "本教程使用的数据集是来自[TensorFlow Datasets](https://www.tensorflow.org/datasets/catalog/overview)的[mnist数据集](https://www.tensorflow.org/datasets/catalog/mnist)。"
   ]
  },
  {
   "cell_type": "markdown",
   "metadata": {
    "id": "I3KFLvpq87rs"
   },
   "source": [
    "成本\n",
    "\n",
    "本教程使用 Google Cloud 的计费组件：\n",
    "\n",
    "* Vertex AI\n",
    "* 云存储\n",
    "\n",
    "了解 [Vertex AI\n",
    "定价](https://cloud.google.com/vertex-ai/pricing) 和 [云存储\n",
    "定价](https://cloud.google.com/storage/pricing)，并使用 [定价\n",
    "计算器](https://cloud.google.com/products/calculator/)\n",
    "根据您的预计使用情况生成成本估算。"
   ]
  },
  {
   "cell_type": "markdown",
   "metadata": {
    "id": "61RBz8LLbxCR"
   },
   "source": [
    "开始吧"
   ]
  },
  {
   "cell_type": "markdown",
   "metadata": {
    "id": "No17Cw5hgx12"
   },
   "source": [
    "### 为 Python 安装 Vertex AI SDK 和其他必需的软件包"
   ]
  },
  {
   "cell_type": "code",
   "execution_count": null,
   "metadata": {
    "id": "tFy3H3aPgx12"
   },
   "outputs": [],
   "source": [
    "! pip3 install --upgrade google-cloud-aiplatform --quiet"
   ]
  },
  {
   "cell_type": "markdown",
   "metadata": {
    "id": "R5Xep4W9lq-Z"
   },
   "source": [
    "### 重新启动运行时（仅适用于Colab）\n",
    "\n",
    "要使用新安装的包，必须重新启动Google Colab上的运行时。"
   ]
  },
  {
   "cell_type": "code",
   "execution_count": null,
   "metadata": {
    "id": "XRvKdaPDTznN"
   },
   "outputs": [],
   "source": [
    "import sys\n",
    "\n",
    "if \"google.colab\" in sys.modules:\n",
    "\n",
    "    import IPython\n",
    "\n",
    "    app = IPython.Application.instance()\n",
    "    app.kernel.do_shutdown(True)"
   ]
  },
  {
   "cell_type": "markdown",
   "metadata": {
    "id": "SbmM4z7FOBpM"
   },
   "source": [
    "<div class=\"alert alert-block alert-warning\">\n",
    "<b>⚠️ 内核即将重新启动。请等待重新启动完成后再继续下一步。 ⚠️</b>\n",
    "</div>"
   ]
  },
  {
   "cell_type": "markdown",
   "metadata": {
    "id": "dmWOrTJ3gx13"
   },
   "source": [
    "### 在谷歌 Colab 上验证您的笔记本环境\n",
    "\n",
    "在谷歌 Colab 上验证您的环境。"
   ]
  },
  {
   "cell_type": "code",
   "execution_count": null,
   "metadata": {
    "id": "NyKGtVQjgx13"
   },
   "outputs": [],
   "source": [
    "import sys\n",
    "\n",
    "if \"google.colab\" in sys.modules:\n",
    "\n",
    "    from google.colab import auth\n",
    "\n",
    "    auth.authenticate_user()"
   ]
  },
  {
   "cell_type": "markdown",
   "metadata": {
    "id": "DF4l8DTdWgPY"
   },
   "source": [
    "### 设置谷歌云项目信息并初始化用于 Python 的 Vertex AI SDK\n",
    "\n",
    "要开始使用 Vertex AI，您必须拥有现有的谷歌云项目，并 [启用 Vertex AI API](https://console.cloud.google.com/flows/enableapi?apiid=aiplatform.googleapis.com)。了解更多关于 [设置项目和开发环境](https://cloud.google.com/vertex-ai/docs/start/cloud-environment) 的信息。"
   ]
  },
  {
   "cell_type": "code",
   "execution_count": null,
   "metadata": {
    "id": "Nqwi-5ufWp_B"
   },
   "outputs": [],
   "source": [
    "PROJECT_ID = \"[your-project-id]\"  # @param {type:\"string\"}\n",
    "LOCATION = \"us-central1\"  # @param {type:\"string\"}"
   ]
  },
  {
   "cell_type": "markdown",
   "metadata": {
    "id": "OKtKGmr9pfr6"
   },
   "source": [
    "创建一个云存储桶 \n",
    "\n",
    "创建一个存储桶来存储中间产物，比如数据集。"
   ]
  },
  {
   "cell_type": "code",
   "execution_count": null,
   "metadata": {
    "id": "In3aQanwYjFB"
   },
   "outputs": [],
   "source": [
    "BUCKET_URI = f\"gs://your-bucket-name-{PROJECT_ID}-unique\"  # @param {type:\"string\"}"
   ]
  },
  {
   "cell_type": "markdown",
   "metadata": {
    "id": "GOaOsIjxp0oB"
   },
   "source": [
    "如果您的存储桶尚不存在：运行以下单元格以创建您的云存储存储桶。"
   ]
  },
  {
   "cell_type": "code",
   "execution_count": null,
   "metadata": {
    "id": "Wn5QiIl2p16e"
   },
   "outputs": [],
   "source": [
    "! gsutil mb -l $LOCATION -p $PROJECT_ID $BUCKET_URI"
   ]
  },
  {
   "cell_type": "markdown",
   "metadata": {
    "id": "OMrAJ8RGqBQu"
   },
   "source": [
    "### 初始化用于 Python 的 Vertex AI SDK\n",
    "\n",
    "为您的项目和相应的存储桶初始化用于 Python 的 Vertex AI SDK。"
   ]
  },
  {
   "cell_type": "code",
   "execution_count": null,
   "metadata": {
    "id": "AWRzBFExqERG"
   },
   "outputs": [],
   "source": [
    "from google.cloud import aiplatform\n",
    "\n",
    "aiplatform.init(project=PROJECT_ID, location=LOCATION, staging_bucket=BUCKET_URI)"
   ]
  },
  {
   "cell_type": "markdown",
   "metadata": {
    "id": "3ivZkPUjpaFz"
   },
   "source": [
    "### 设置服务账号和权限\n",
    "\n",
    "将使用服务账号来创建自定义训练作业。如果您不想使用项目的 Compute Engine 服务账号，请将SERVICE_ACCOUNT设置为另一个服务账号ID。您可以按照[说明](https://cloud.google.com/iam/docs/creating-managing-service-accounts#creating)来创建服务账号。"
   ]
  },
  {
   "cell_type": "code",
   "execution_count": null,
   "metadata": {
    "id": "vYE3b942wza4"
   },
   "outputs": [],
   "source": [
    "SERVICE_ACCOUNT = \"[your-service-account]\"  # @param {type:\"string\"}"
   ]
  },
  {
   "cell_type": "code",
   "execution_count": null,
   "metadata": {
    "id": "autoset_service_account"
   },
   "outputs": [],
   "source": [
    "import sys\n",
    "\n",
    "IS_COLAB = \"google.colab\" in sys.modules\n",
    "if (\n",
    "    SERVICE_ACCOUNT == \"\"\n",
    "    or SERVICE_ACCOUNT is None\n",
    "    or SERVICE_ACCOUNT == \"[your-service-account]\"\n",
    "):\n",
    "    # Get your service account from gcloud\n",
    "    if not IS_COLAB:\n",
    "        shell_output = !gcloud auth list 2>/dev/null\n",
    "        SERVICE_ACCOUNT = shell_output[2].replace(\"*\", \"\").strip()\n",
    "\n",
    "    else:  # IS_COLAB:\n",
    "        shell_output = ! gcloud projects describe  $PROJECT_ID\n",
    "        project_number = shell_output[-1].split(\":\")[1].strip().replace(\"'\", \"\")\n",
    "        SERVICE_ACCOUNT = f\"{project_number}-compute@developer.gserviceaccount.com\"\n",
    "\n",
    "    print(\"Service Account:\", SERVICE_ACCOUNT)"
   ]
  },
  {
   "cell_type": "markdown",
   "metadata": {
    "id": "set_service_account:pipelines"
   },
   "source": [
    "为Vertex AI Pipelines设置服务帐户访问权限\n",
    "\n",
    "运行以下命令，将您的服务帐户访问权限授予到在上一步中创建的存储桶中读取和写入管道工件。您只需要每个服务帐户运行此步骤一次。"
   ]
  },
  {
   "cell_type": "code",
   "execution_count": null,
   "metadata": {
    "id": "bad678f5afda"
   },
   "outputs": [],
   "source": [
    "! gsutil iam ch serviceAccount:{SERVICE_ACCOUNT}:roles/storage.objectCreator $BUCKET_URI\n",
    "\n",
    "! gsutil iam ch serviceAccount:{SERVICE_ACCOUNT}:roles/storage.objectViewer $BUCKET_URI"
   ]
  },
  {
   "cell_type": "markdown",
   "metadata": {
    "id": "MYzX9ZgjsyyY"
   },
   "source": [
    "### 启用制品注册表 API\n",
    "\n",
    "首先，您必须为您的项目启用制品注册表 API 服务。\n",
    "\n",
    "了解更多关于[启用服务](https://cloud.google.com/artifact-registry/docs/enable-service)。"
   ]
  },
  {
   "cell_type": "markdown",
   "metadata": {
    "id": "4e302d6c9a11"
   },
   "source": [
    "在协作环境中设置项目（仅限Colab）"
   ]
  },
  {
   "cell_type": "code",
   "execution_count": null,
   "metadata": {
    "id": "7b9f07d9d1f4"
   },
   "outputs": [],
   "source": [
    "if IS_COLAB:\n",
    "    ! gcloud config set project $PROJECT_ID"
   ]
  },
  {
   "cell_type": "code",
   "execution_count": null,
   "metadata": {
    "id": "bG4Rpt-As55f"
   },
   "outputs": [],
   "source": [
    "# Enable Artifact Registry API\n",
    "! gcloud services enable artifactregistry.googleapis.com --quiet"
   ]
  },
  {
   "cell_type": "markdown",
   "metadata": {
    "id": "-ayTbNdi62_t"
   },
   "source": [
    "### 创建一个 TensorBoard 实例\n",
    "\n",
    "在展示 Vertex AI TensorBoard 实验之前，必须创建一个 Vertex AI TensorBoard 实例，这是一个将您的 Vertex AI TensorBoard 实验存储在某个区域的资源。您可以在一个项目中创建多个实例。您可以使用命令 `gcloud ai tensorboards list` 来获取您现有的 TensorBoard 实例列表。"
   ]
  },
  {
   "cell_type": "markdown",
   "metadata": {
    "id": "9c3QrDTZdaxk"
   },
   "source": [
    "设置您的TensorBoard实例显示名称"
   ]
  },
  {
   "cell_type": "code",
   "execution_count": null,
   "metadata": {
    "id": "azlwb__AX8gs"
   },
   "outputs": [],
   "source": [
    "TENSORBOARD_NAME = \"your-tensorboard-unique\"  # @param {type:\"string\"}"
   ]
  },
  {
   "cell_type": "markdown",
   "metadata": {
    "id": "vJrWKK0mY7H7"
   },
   "source": [
    "#### 创建一个TensorBoard实例\n",
    "\n",
    "如果您还没有TensorBoard实例，请通过运行以下单元格来创建一个："
   ]
  },
  {
   "cell_type": "code",
   "execution_count": null,
   "metadata": {
    "id": "JqVNsRFrc_78"
   },
   "outputs": [],
   "source": [
    "tensorboard = aiplatform.Tensorboard.create(\n",
    "    display_name=TENSORBOARD_NAME, project=PROJECT_ID, location=LOCATION\n",
    ")\n",
    "\n",
    "TENSORBOARD_INSTANCE_NAME = tensorboard.resource_name\n",
    "\n",
    "print(\"TensorBoard instance name:\", TENSORBOARD_INSTANCE_NAME)"
   ]
  },
  {
   "cell_type": "markdown",
   "metadata": {
    "id": "yoR29gW2S24w"
   },
   "source": [
    "训练模型\n",
    "\n",
    "使用您自定义的训练代码训练模型时，选择以下其中一种选项：\n",
    "\n",
    "- **预构建容器**：将您的自定义训练代码作为 Python 包加载到 Google Cloud 的预构建容器镜像中。\n",
    "\n",
    "- **自定义容器**：创建包含您自定义训练代码的自定义容器镜像。\n",
    "\n",
    "在本教程中，我们将使用自定义容器来训练一个自定义模型。"
   ]
  },
  {
   "cell_type": "markdown",
   "metadata": {
    "id": "OrpUIkAIs_uQ"
   },
   "source": [
    "创建一个私有的Docker仓库\n",
    "\n",
    "您的第一步是在Google Artifact Registry中创建自己的Docker仓库。"
   ]
  },
  {
   "cell_type": "code",
   "execution_count": null,
   "metadata": {
    "id": "0amu4063tDnG"
   },
   "outputs": [],
   "source": [
    "import os\n",
    "\n",
    "DOCKER_REPOSITORY = f\"{PROJECT_ID}-repo-unique\"\n",
    "\n",
    "! gcloud services enable artifactregistry.googleapis.com\n",
    "\n",
    "if os.getenv(\"IS_TESTING\"):\n",
    "    ! sudo apt-get update --yes && sudo apt-get --only-upgrade --yes install google-cloud-sdk-cloud-run-proxy google-cloud-sdk-harbourbridge google-cloud-sdk-cbt google-cloud-sdk-gke-gcloud-auth-plugin google-cloud-sdk-kpt google-cloud-sdk-local-extract google-cloud-sdk-minikube google-cloud-sdk-app-engine-java google-cloud-sdk-app-engine-go google-cloud-sdk-app-engine-python google-cloud-sdk-spanner-emulator google-cloud-sdk-bigtable-emulator google-cloud-sdk-nomos google-cloud-sdk-package-go-module google-cloud-sdk-firestore-emulator kubectl google-cloud-sdk-datastore-emulator google-cloud-sdk-app-engine-python-extras google-cloud-sdk-cloud-build-local google-cloud-sdk-kubectl-oidc google-cloud-sdk-anthos-auth google-cloud-sdk-app-engine-grpc google-cloud-sdk-pubsub-emulator google-cloud-sdk-datalab google-cloud-sdk-skaffold google-cloud-sdk google-cloud-sdk-terraform-tools google-cloud-sdk-config-connector\n",
    "    ! gcloud components update --quiet\n",
    "\n",
    "! gcloud artifacts repositories create {DOCKER_REPOSITORY} \\\n",
    "    --repository-format=docker \\\n",
    "    --location={LOCATION} \\\n",
    "    --description=\"Repository for TensorBoard Custom Training Job\" \\\n",
    "    --quiet\n",
    "\n",
    "! gcloud artifacts repositories list"
   ]
  },
  {
   "cell_type": "markdown",
   "metadata": {
    "id": "MPqbvhO6tK_e"
   },
   "source": [
    "### 配置身份验证到您的私有Docker仓库\n",
    "\n",
    "在推送或拉取容器镜像之前，配置Docker使用`gcloud`命令行工具来对您的位置向Artifact Registry发起身份验证请求。"
   ]
  },
  {
   "cell_type": "code",
   "execution_count": null,
   "metadata": {
    "id": "yAeCXZiStPCX"
   },
   "outputs": [],
   "source": [
    "import sys\n",
    "\n",
    "IS_COLAB = \"google.colab\" in sys.modules\n",
    "\n",
    "if not IS_COLAB:\n",
    "    ! gcloud auth configure-docker {LOCATION}-docker.pkg.dev --quiet"
   ]
  },
  {
   "cell_type": "markdown",
   "metadata": {
    "id": "pSXrzCWi-bTD"
   },
   "source": [
    "### 创建一个自定义容器镜像，并推送到您的私有Docker仓库\n",
    "\n",
    "首先，您需要创建一个训练脚本文件和一个Docker文件。\n",
    "\n",
    "创建一个存放所有训练代码的目录。"
   ]
  },
  {
   "cell_type": "code",
   "execution_count": null,
   "metadata": {
    "id": "ZYO55-ZK-lm2"
   },
   "outputs": [],
   "source": [
    "PYTHON_PACKAGE_APPLICATION_DIR = \"trainer\"\n",
    "\n",
    "!mkdir -p $PYTHON_PACKAGE_APPLICATION_DIR"
   ]
  },
  {
   "cell_type": "markdown",
   "metadata": {
    "id": "hyAwgsoQmaYI"
   },
   "source": [
    "#### 准备训练脚本\n",
    "\n",
    "您的训练代码必须配置为将TensorBoard日志写入Cloud Storage存储桶，该存储桶的位置由Vertex AI Training自动通过预定义的环境变量`AIP_TENSORBOARD_LOG_DIR`提供。\n",
    "\n",
    "通常可以通过将`os.environ['AIP_TENSORBOARD_LOG_DIR']`作为日志目录提供给开源TensorBoard日志写入API来实现。\n",
    "\n",
    "例如，在TensorFlow 2.x中，您可以使用以下代码创建一个tensorboard_callback：\n",
    "\n",
    "```\n",
    "tensorboard_callback = tf.keras.callbacks.TensorBoard( \n",
    "  log_dir=os.environ['AIP_TENSORBOARD_LOG_DIR'], \n",
    "  histogram_freq=1) \n",
    "```\n",
    "\n",
    "`AIP_TENSORBOARD_LOG_DIR`位于创建自定义训练作业时提供的`BASE_OUTPUT_DIR`中。\n",
    "\n",
    "要为您的训练作业启用Cloud Profiler，请向训练脚本添加以下内容：\n",
    "\n",
    "在顶层导入中添加cloud_profiler导入：\n",
    "\n",
    "```\n",
    "from google.cloud.aiplatform.training_utils import cloud_profiler\n",
    "```\n",
    "\n",
    "通过添加以下内容初始化cloud_profiler插件：\n",
    "\n",
    "```\n",
    "cloud_profiler.init()\n",
    "```"
   ]
  },
  {
   "cell_type": "code",
   "execution_count": null,
   "metadata": {
    "id": "8JCgWW7Au1w8"
   },
   "outputs": [],
   "source": [
    "%%writefile trainer/task.py\n",
    "\n",
    "import tensorflow as tf\n",
    "import argparse\n",
    "import os\n",
    "import sys, traceback\n",
    "from google.cloud.aiplatform.training_utils import cloud_profiler\n",
    "\n",
    "\"\"\"Train an mnist model and use cloud_profiler for profiling.\"\"\"\n",
    "\n",
    "def _create_model():\n",
    "    model = tf.keras.models.Sequential(\n",
    "        [\n",
    "            tf.keras.layers.Flatten(input_shape=(28, 28)),\n",
    "            tf.keras.layers.Dense(128, activation=\"relu\"),\n",
    "            tf.keras.layers.Dropout(0.2),\n",
    "            tf.keras.layers.Dense(10),\n",
    "        ]\n",
    "    )\n",
    "    return model\n",
    "\n",
    "\n",
    "def main(args):\n",
    "    print('Loading and preprocessing data ...')\n",
    "    mnist = tf.keras.datasets.mnist\n",
    "\n",
    "    (x_train, y_train), (x_test, y_test) = mnist.load_data()\n",
    "    x_train, x_test = x_train / 255.0, x_test / 255.0\n",
    "\n",
    "    print('Creating and training model ...')\n",
    "\n",
    "    model = _create_model()\n",
    "    model.compile(\n",
    "      optimizer=\"adam\",\n",
    "      loss=tf.keras.losses.sparse_categorical_crossentropy,\n",
    "      metrics=[\"accuracy\"],\n",
    "    )\n",
    "\n",
    "    # Initialize the profiler.\n",
    "    print('Initialize the profiler ...')\n",
    "        \n",
    "    try:\n",
    "        cloud_profiler.init()\n",
    "    except:\n",
    "        ex_type, ex_value, ex_traceback = sys.exc_info()\n",
    "        print(\"*** Unexpected:\", ex_type.__name__, ex_value)\n",
    "        traceback.print_tb(ex_traceback, limit=10, file=sys.stdout)\n",
    "    \n",
    "    print('The profiler initiated.')\n",
    "\n",
    "    log_dir = \"logs\"\n",
    "    if 'AIP_TENSORBOARD_LOG_DIR' in os.environ:\n",
    "      log_dir = os.environ['AIP_TENSORBOARD_LOG_DIR']\n",
    "\n",
    "    print('Setting up the TensorBoard callback ...')\n",
    "    tensorboard_callback = tf.keras.callbacks.TensorBoard(\n",
    "        log_dir=log_dir,\n",
    "        histogram_freq=1)\n",
    "\n",
    "    print('Training model ...')\n",
    "    model.fit(\n",
    "        x_train,\n",
    "        y_train,\n",
    "        epochs=args.epochs,\n",
    "        verbose=0,\n",
    "        callbacks=[tensorboard_callback],\n",
    "    )\n",
    "    print('Training completed.')\n",
    "\n",
    "    print('Saving model ...')\n",
    "\n",
    "    model_dir = \"model\"\n",
    "    if 'AIP_MODEL_DIR' in os.environ:\n",
    "      model_dir = os.environ['AIP_MODEL_DIR']\n",
    "    tf.saved_model.save(model, model_dir)\n",
    "\n",
    "    print('Model saved at ' + model_dir)\n",
    "\n",
    "\n",
    "if __name__ == \"__main__\":\n",
    "    parser = argparse.ArgumentParser()\n",
    "    parser.add_argument(\n",
    "        \"--epochs\", type=int, default=100, help=\"Number of epochs to run model.\"\n",
    "    )\n",
    "    \n",
    "    args = parser.parse_args()\n",
    "    main(args)"
   ]
  },
  {
   "cell_type": "markdown",
   "metadata": {
    "id": "LiOEvgkA_90f"
   },
   "source": [
    "准备Dockerfile"
   ]
  },
  {
   "cell_type": "code",
   "execution_count": null,
   "metadata": {
    "id": "aKcS7yzcAXWf"
   },
   "outputs": [],
   "source": [
    "%%writefile Dockerfile\n",
    "# Specifies base image and tag\n",
    "FROM us-docker.pkg.dev/vertex-ai/training/tf-cpu.2-9:latest\n",
    "WORKDIR /root\n",
    "\n",
    "# Installs additional packages as you need.\n",
    "RUN pip3 install google-cloud-aiplatform[cloud_profiler]\n",
    "RUN pip3 install protobuf==3.20.2\n",
    "\n",
    "# Copies the trainer code to the docker image.\n",
    "RUN mkdir /root/trainer\n",
    "COPY trainer/task.py /root/trainer/task.py\n",
    "\n",
    "# Sets up the entry point to invoke the trainer.\n",
    "ENTRYPOINT [\"python\", \"-m\", \"trainer.task\"]"
   ]
  },
  {
   "cell_type": "markdown",
   "metadata": {
    "id": "ihYFahRAr6sj"
   },
   "source": [
    "构建一个定制的容器镜像，并推送到您的私有Docker仓库。"
   ]
  },
  {
   "cell_type": "code",
   "execution_count": null,
   "metadata": {
    "id": "pDs1qDLDA27F"
   },
   "outputs": [],
   "source": [
    "IMAGE_NAME = \"tensorboard-custom-container\"\n",
    "IMAGE_URI = f\"{LOCATION}-docker.pkg.dev/{PROJECT_ID}/{DOCKER_REPOSITORY}/{IMAGE_NAME}\"\n",
    "\n",
    "! gcloud builds submit --project {PROJECT_ID} --region={LOCATION} --tag {IMAGE_URI} --timeout=60m --quiet"
   ]
  },
  {
   "cell_type": "markdown",
   "metadata": {
    "id": "k4e6OYmimqTR"
   },
   "source": [
    "创建和运行自定义训练作业\n",
    "\n",
    "使用自定义容器图像配置一个[自定义作业](https://cloud.google.com/vertex-ai/docs/training/create-custom-job)。"
   ]
  },
  {
   "cell_type": "code",
   "execution_count": null,
   "metadata": {
    "id": "jd6P-lQhFBPg"
   },
   "outputs": [],
   "source": [
    "JOB_NAME = \"tensorboard-job-unique\"\n",
    "\n",
    "job = aiplatform.CustomContainerTrainingJob(\n",
    "    display_name=JOB_NAME, container_uri=IMAGE_URI\n",
    ")"
   ]
  },
  {
   "cell_type": "markdown",
   "metadata": {
    "id": "51hKGTbU32Eg"
   },
   "source": [
    "### 运行自定义训练作业\n",
    "\n",
    "接下来，您可以通过调用 `run` 方法来运行自定义作业以开始训练作业，参数如下：\n",
    "\n",
    "- `args`：要传递给训练脚本的命令行参数。\n",
    "   - `--epochs`：训练的时代数。\n",
    "- `replica_count`：用于训练的计算实例数量（replica_count = 1 代表单节点训练）。\n",
    "- `machine_type`：计算实例的机器类型。\n",
    "- `tensorboard`：TensorBoard 实例。\n",
    "- `service_account`：服务账户。\n",
    "- `sync`：是否阻塞直到作业完成。"
   ]
  },
  {
   "cell_type": "code",
   "execution_count": null,
   "metadata": {
    "id": "OC6_4KeI4Fit"
   },
   "outputs": [],
   "source": [
    "base_output_dir = \"{}/{}\".format(BUCKET_URI, JOB_NAME)\n",
    "MACHINE_TYPE = \"n1-standard-4\"\n",
    "EPOCHS = 2\n",
    "training_args = [\n",
    "    \"--epochs=\" + str(EPOCHS),\n",
    "]\n",
    "\n",
    "job.run(\n",
    "    args=training_args,\n",
    "    replica_count=1,\n",
    "    machine_type=MACHINE_TYPE,\n",
    "    base_output_dir=base_output_dir,\n",
    "    tensorboard=TENSORBOARD_INSTANCE_NAME,\n",
    "    service_account=SERVICE_ACCOUNT,\n",
    ")"
   ]
  },
  {
   "cell_type": "markdown",
   "metadata": {
    "id": "JkEe2Nb_85UD"
   },
   "source": [
    "查看 Cloud Profiler 仪表盘\n",
    "\n",
    "当自定义作业状态切换为“运行”时，您可以通过 Google Cloud 控制台上的自定义作业页面或实验页面访问 Cloud Profiler 仪表盘。\n",
    "\n",
    "谷歌云指南提供了[使用 Cloud Profiler 对模型训练性能进行分析](https://cloud.google.com/vertex-ai/docs/experiments/tensorboard-profiler)的详细说明，包括如何访问 Cloud Profiler 仪表盘和捕获一个性能分析会话。"
   ]
  },
  {
   "cell_type": "markdown",
   "metadata": {
    "id": "TpV-iwP9qw9c"
   },
   "source": [
    "清理工作\n",
    "\n",
    "要清理此项目中使用的所有Google Cloud资源，您可以删除用于本教程的[Google Cloud项目](https://cloud.google.com/resource-manager/docs/creating-managing-projects#shutting_down_projects)。\n",
    "\n",
    "否则，您可以删除本教程中创建的各个资源：\n",
    "\n",
    "- Docker存储库\n",
    "- 训练任务\n",
    "- TensorBoard实例\n",
    "- Cloud Storage存储桶"
   ]
  },
  {
   "cell_type": "code",
   "execution_count": null,
   "metadata": {
    "id": "WR-ZhQ9XwpRI"
   },
   "outputs": [],
   "source": [
    "delete_tensorboard = True\n",
    "delete_bucket = False\n",
    "delete_generated_files_after_execution = False\n",
    "\n",
    "# Delete docker repository.\n",
    "! gcloud artifacts repositories delete $DOCKER_REPOSITORY --project {PROJECT_ID} --location {LOCATION} --quiet\n",
    "\n",
    "job.delete()\n",
    "\n",
    "if delete_tensorboard:\n",
    "    tensorboard.delete()\n",
    "\n",
    "if delete_bucket and \"BUCKET_URI\" in globals():\n",
    "    ! gsutil -m rm -r $BUCKET_URI\n",
    "\n",
    "if delete_generated_files_after_execution:\n",
    "    ! rm -rf $PYTHON_PACKAGE_APPLICATION_DIR Dockerfile Dockerfile"
   ]
  }
 ],
 "metadata": {
  "colab": {
   "name": "custom_training_tensorboard_profiler.ipynb",
   "toc_visible": true
  },
  "kernelspec": {
   "display_name": "Python 3",
   "name": "python3"
  }
 },
 "nbformat": 4,
 "nbformat_minor": 0
}
