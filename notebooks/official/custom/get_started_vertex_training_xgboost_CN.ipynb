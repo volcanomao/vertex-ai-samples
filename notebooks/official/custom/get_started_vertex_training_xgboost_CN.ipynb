{
 "cells": [
  {
   "cell_type": "code",
   "execution_count": null,
   "metadata": {
    "id": "copyright"
   },
   "outputs": [],
   "source": [
    "# Copyright 2022 Google LLC\n",
    "#\n",
    "# Licensed under the Apache License, Version 2.0 (the \"License\");\n",
    "# you may not use this file except in compliance with the License.\n",
    "# You may obtain a copy of the License at\n",
    "#\n",
    "#     https://www.apache.org/licenses/LICENSE-2.0\n",
    "#\n",
    "# Unless required by applicable law or agreed to in writing, software\n",
    "# distributed under the License is distributed on an \"AS IS\" BASIS,\n",
    "# WITHOUT WARRANTIES OR CONDITIONS OF ANY KIND, either express or implied.\n",
    "# See the License for the specific language governing permissions and\n",
    "# limitations under the License."
   ]
  },
  {
   "cell_type": "markdown",
   "metadata": {
    "id": "title:generic,gcp"
   },
   "source": [
    "# 使用Vertex AI训练XGBoost开始\n",
    "\n",
    "<table align=\"left\">\n",
    "  <td style=\"text-align: center\">\n",
    "    <a href=\"https://colab.research.google.com/github/GoogleCloudPlatform/vertex-ai-samples/blob/main/notebooks/official/custom/get_started_vertex_training_xgboost.ipynb\">\n",
    "      <img src=\"https://cloud.google.com/ml-engine/images/colab-logo-32px.png\" alt=\"Colab logo\"><br> 在Colab中运行\n",
    "    </a>\n",
    "  </td>\n",
    "  <td style=\"text-align: center\">\n",
    "    <a href=\"https://console.cloud.google.com/vertex-ai/colab/import/https:%2F%2Fraw.githubusercontent.com%2FGoogleCloudPlatform%2Fvertex-ai-samples%2Fmain%2Fnotebooks%2Fofficial%2Fcustom%2Fget_started_vertex_training_xgboost.ipynb\">\n",
    "      <img width=\"32px\" src=\"https://cloud.google.com/ml-engine/images/colab-enterprise-logo-32px.png\" alt=\"Google Cloud Colab Enterprise logo\"><br> 在Colab Enterprise中打开\n",
    "    </a>\n",
    "  </td>\n",
    "  <td style=\"text-align: center\">\n",
    "    <a href=\"https://console.cloud.google.com/vertex-ai/workbench/deploy-notebook?download_url=https://raw.githubusercontent.com/GoogleCloudPlatform/vertex-ai-samples/main/notebooks/official/custom/get_started_vertex_training_xgboost.ipynb\">\n",
    "        <img src=\"https://lh3.googleusercontent.com/UiNooY4LUgW_oTvpsNhPpQzsstV5W8F7rYgxgGBD85cWJoLmrOzhVs_ksK_vgx40SHs7jCqkTkCk=e14-rj-sc0xffffff-h130-w32\" alt=\"Vertex AI logo\"><br>\n",
    "      在Vertex AI工作台中打开\n",
    "    </a>\n",
    "  </td>\n",
    "  <td style=\"text-align: center\">\n",
    "    <a href=\"https://github.com/GoogleCloudPlatform/vertex-ai-samples/blob/main/notebooks/official/custom/get_started_vertex_training_xgboost.ipynb\">\n",
    "      <img src=\"https://cloud.google.com/ml-engine/images/github-logo-32px.png\" alt=\"GitHub logo\"><br>\n",
    "      在GitHub上查看\n",
    "    </a>\n",
    "  </td>\n",
    "  \n",
    "</table>\n",
    "<br/><br/><br/>"
   ]
  },
  {
   "cell_type": "markdown",
   "metadata": {
    "id": "overview:mlops"
   },
   "source": [
    "## 概述\n",
    "\n",
    "本教程演示了如何使用Vertex AI培训XGBoost模型。\n",
    "\n",
    "了解更多关于[自定义培训](https://cloud.google.com/vertex-ai/docs/training/custom-training)。"
   ]
  },
  {
   "cell_type": "markdown",
   "metadata": {
    "id": "objective:mlops,stage2,get_started_vertex_training_xgboost"
   },
   "source": [
    "### 目标\n",
    "\n",
    "在本教程中，您将学习如何使用Vertex AI Training来训练一个自定义的XGBoost模型。\n",
    "\n",
    "本教程使用以下Google Cloud ML服务：\n",
    "\n",
    "- Vertex AI Training\n",
    "- Vertex AI模型资源\n",
    "\n",
    "执行的步骤包括：\n",
    "\n",
    "- 使用Python包进行训练。\n",
    "- 在超参数调整时报告准确性。\n",
    "- 使用GCSFuse将模型构件保存到Cloud Storage。\n",
    "- 创建一个Vertex AI模型资源。"
   ]
  },
  {
   "cell_type": "markdown",
   "metadata": {
    "id": "dataset:iris,lcn"
   },
   "source": [
    "数据集\n",
    "\n",
    "本教程使用的数据集是来自[TensorFlow数据集](https://www.tensorflow.org/datasets/catalog/iris)的鸢尾花数据集。该数据集不需要任何特征工程。本教程中的数据集版本存储在公共云存储桶中。训练模型可以预测三种鸢尾花物种中的一种：山鸢尾、维吉尼亚鸢尾或变色鸢尾。"
   ]
  },
  {
   "cell_type": "markdown",
   "metadata": {
    "id": "4fc0ad661ebb"
   },
   "source": [
    "成本\n",
    "\n",
    "本教程使用 Google Cloud 的可计费组件:\n",
    "\n",
    "* Vertex AI\n",
    "* 云存储\n",
    "\n",
    "了解 [Vertex AI定价](https://cloud.google.com/vertex-ai/pricing) 和 [云存储定价](https://cloud.google.com/storage/pricing), 并使用 [定价计算器](https://cloud.google.com/products/calculator/) 根据您的预计使用量生成成本预估。"
   ]
  },
  {
   "cell_type": "markdown",
   "metadata": {
    "id": "install_mlops"
   },
   "source": [
    "开始吧"
   ]
  },
  {
   "cell_type": "markdown",
   "metadata": {
    "id": "a2c2cb2109a0"
   },
   "source": [
    "### 为Python安装Vertex AI SDK和其他必需的软件包\n",
    "\n",
    "### 为Python安装Vertex AI SDK和其他必需的软件包"
   ]
  },
  {
   "cell_type": "code",
   "execution_count": null,
   "metadata": {
    "id": "ncRJ_Dfdox9L"
   },
   "outputs": [],
   "source": [
    "! pip3 install --upgrade google-cloud-aiplatform  --quiet"
   ]
  },
  {
   "cell_type": "markdown",
   "metadata": {
    "id": "ff555b32bab8"
   },
   "source": [
    "### 重新启动运行时 (仅限Colab)\n",
    "\n",
    "为了使用新安装的包，您必须在Google Colab上重新启动运行时。"
   ]
  },
  {
   "cell_type": "code",
   "execution_count": null,
   "metadata": {
    "id": "f09b4dff629a"
   },
   "outputs": [],
   "source": [
    "import sys\n",
    "\n",
    "if \"google.colab\" in sys.modules:\n",
    "\n",
    "    import IPython\n",
    "\n",
    "    app = IPython.Application.instance()\n",
    "    app.kernel.do_shutdown(True)"
   ]
  },
  {
   "cell_type": "markdown",
   "metadata": {
    "id": "ee775571c2b5"
   },
   "source": [
    "<div class=\"alert alert-block alert-warning\">\n",
    "<b>⚠️内核将重新启动。请等待它完成后再继续下一步。⚠️</b>\n",
    "</div>"
   ]
  },
  {
   "cell_type": "markdown",
   "metadata": {
    "id": "92e68cfc3a90"
   },
   "source": [
    "### 认证您的笔记本环境（仅适用于Colab）\n",
    "\n",
    "在Google Colab上认证您的环境。"
   ]
  },
  {
   "cell_type": "code",
   "execution_count": null,
   "metadata": {
    "id": "46604f70e831"
   },
   "outputs": [],
   "source": [
    "import sys\n",
    "\n",
    "if \"google.colab\" in sys.modules:\n",
    "\n",
    "    from google.colab import auth\n",
    "\n",
    "    auth.authenticate_user()"
   ]
  },
  {
   "cell_type": "markdown",
   "metadata": {
    "id": "c066e7925949"
   },
   "source": [
    "### 设置Google Cloud项目信息并初始化Python版的Vertex AI SDK\n",
    "\n",
    "要开始使用Vertex AI，您必须拥有一个现有的Google Cloud项目并[启用Vertex AI API](https://console.cloud.google.com/flows/enableapi?apiid=aiplatform.googleapis.com)。了解更多关于[设置项目和开发环境](https://cloud.google.com/vertex-ai/docs/start/cloud-environment)的信息。"
   ]
  },
  {
   "cell_type": "code",
   "execution_count": null,
   "metadata": {
    "id": "be175254a715"
   },
   "outputs": [],
   "source": [
    "PROJECT_ID = \"[your-project-id]\"  # @param {type:\"string\"}\n",
    "LOCATION = \"us-central1\"  # @param {type:\"string\"}"
   ]
  },
  {
   "cell_type": "markdown",
   "metadata": {
    "id": "e5755d1a554f"
   },
   "source": [
    "创建一个云存储桶\n",
    "\n",
    "创建一个存储桶，用于存储中间产物，如数据集。"
   ]
  },
  {
   "cell_type": "code",
   "execution_count": null,
   "metadata": {
    "id": "d2de92accb67"
   },
   "outputs": [],
   "source": [
    "BUCKET_URI = f\"gs://your-bucket-name-{PROJECT_ID}-unique\"  # @param {type:\"string\"}"
   ]
  },
  {
   "cell_type": "markdown",
   "metadata": {
    "id": "create_bucket"
   },
   "source": [
    "如果您的存储桶尚不存在：运行以下单元格来创建您的云存储存储桶。"
   ]
  },
  {
   "cell_type": "code",
   "execution_count": null,
   "metadata": {
    "id": "aO4sKJfFox9R"
   },
   "outputs": [],
   "source": [
    "! gsutil mb -l $LOCATION $BUCKET_URI"
   ]
  },
  {
   "cell_type": "markdown",
   "metadata": {
    "id": "a56633b047ee"
   },
   "source": [
    "### 初始化 Python 的 Vertex AI SDK"
   ]
  },
  {
   "cell_type": "code",
   "execution_count": null,
   "metadata": {
    "id": "0e24370a7912"
   },
   "outputs": [],
   "source": [
    "import google.cloud.aiplatform as aiplatform\n",
    "\n",
    "aiplatform.init(project=PROJECT_ID, location=LOCATION, staging_bucket=BUCKET_URI)"
   ]
  },
  {
   "cell_type": "markdown",
   "metadata": {
    "id": "setup_vars"
   },
   "source": [
    "### 设置变量\n",
    "\n",
    "接下来，设置一些在教程中使用的变量。"
   ]
  },
  {
   "cell_type": "markdown",
   "metadata": {
    "id": "accelerators:training,cpu,prediction,cpu,mbsdk"
   },
   "source": [
    "#### 设置硬件加速器\n",
    "\n",
    "您可以为训练和预测设置硬件加速器。\n",
    "\n",
    "将变量`TRAIN_GPU/TRAIN_NGPU`和`DEPLOY_GPU/DEPLOY_NGPU`设置为使用支持GPU的容器映像以及分配给虚拟机实例的GPU数量。例如，要使用一个GPU容器映像，并为每个VM分配4个NVIDIA Tesla K80 GPU，您可以指定：\n",
    "\n",
    "     (aiplatform.gapic..AcceleratorType.NVIDIA_TESLA_K80, 4)\n",
    "\n",
    "否则，指定`(None, None)`以在CPU上运行容器映像。\n",
    "\n",
    "了解更多关于[您所在区域的硬件加速器支持](https://cloud.google.com/vertex-ai/docs/general/locations#accelerators)。\n",
    "\n",
    "*注意*：预计2.3版本之前的TF版本在GPU支持方面会无法加载本教程中的自定义模型。这是一个已知问题，在TF 2.3中已修复。这是由生成在serving函数中的静态图操作引起的。如果您在自己的自定义模型中遇到此问题，请使用支持GPU的TF 2.3容器映像。"
   ]
  },
  {
   "cell_type": "code",
   "execution_count": null,
   "metadata": {
    "id": "cQUrG4Mbox9T"
   },
   "outputs": [],
   "source": [
    "TRAIN_GPU, TRAIN_NGPU = (None, None)\n",
    "\n",
    "DEPLOY_GPU, DEPLOY_NGPU = (None, None)"
   ]
  },
  {
   "cell_type": "markdown",
   "metadata": {
    "id": "container:training,prediction,xgboost"
   },
   "source": [
    "设置预构建的容器\n",
    "\n",
    "设置用于训练和预测的预构建的Docker容器镜像。\n",
    "\n",
    "有关最新列表，请参阅[用于训练的预构建容器](https://cloud.google.com/ai-platform-unified/docs/training/pre-built-containers)。\n",
    "\n",
    "有关最新列表，请参阅[用于预测的预构建容器](https://cloud.google.com/ai-platform-unified/docs/predictions/pre-built-containers)。"
   ]
  },
  {
   "cell_type": "code",
   "execution_count": null,
   "metadata": {
    "id": "XujRA5ueox9U"
   },
   "outputs": [],
   "source": [
    "TRAIN_VERSION = \"xgboost-cpu.1-1\"\n",
    "DEPLOY_VERSION = \"xgboost-cpu.1-1\"\n",
    "\n",
    "TRAIN_IMAGE = \"{}-docker.pkg.dev/vertex-ai/training/{}:latest\".format(\n",
    "    LOCATION.split(\"-\")[0], TRAIN_VERSION\n",
    ")\n",
    "DEPLOY_IMAGE = \"{}-docker.pkg.dev/vertex-ai/prediction/{}:latest\".format(\n",
    "    LOCATION.split(\"-\")[0], DEPLOY_VERSION\n",
    ")"
   ]
  },
  {
   "cell_type": "markdown",
   "metadata": {
    "id": "machine:training"
   },
   "source": [
    "#### 设置机器类型\n",
    "\n",
    "接下来，设置用于训练的机器类型。\n",
    "\n",
    "- 设置变量`TRAIN_COMPUTE`以配置用于训练的虚拟机的计算资源。\n",
    "- `机器类型`\n",
    "  - `n1-standard`：每个vCPU 3.75GB内存。\n",
    "  - `n1-highmem`：每个vCPU 6.5GB内存。\n",
    "  - `n1-highcpu`：每个vCPU 0.9GB内存。\n",
    "- `vCPUs`：数量为\\[2, 4, 8, 16, 32, 64, 96\\]\n",
    "\n",
    "*注意：以下内容不受支持用于训练：*\n",
    "- `standard`：2个vCPUs。\n",
    "- `highcpu`：2、4和8个vCPUs。\n",
    "\n",
    "*注意：您还可以使用n2和e2机器类型进行训练和部署，但它们不支持GPU。*"
   ]
  },
  {
   "cell_type": "code",
   "execution_count": null,
   "metadata": {
    "id": "UMPFgENkox9U"
   },
   "outputs": [],
   "source": [
    "TRAIN_COMPUTE = \"n1-standard-4\"\n",
    "print(\"Train machine type\", TRAIN_COMPUTE)"
   ]
  },
  {
   "cell_type": "markdown",
   "metadata": {
    "id": "xgboost_intro"
   },
   "source": [
    "## XGBoost训练介绍\n",
    "\n",
    "一旦您训练了一个XGBoost模型，请将其保存在云存储位置，以便随后上传至Vertex AI模型资源。\n",
    "XGBoost软件包不支持将模型保存到云存储位置。取而代之的是，按照以下步骤保存到云存储位置。\n",
    "\n",
    "1. 将内存中的模型保存到本地文件系统（例如，model.bst）。\n",
    "2. 使用gsutil将本地副本复制到指定的云存储位置。\n",
    "\n",
    "*注意*：您可以对XGBoost模型进行超参数调整。"
   ]
  },
  {
   "cell_type": "markdown",
   "metadata": {
    "id": "examine_training_package:xgboost"
   },
   "source": [
    "### 检查培训套餐"
   ]
  },
  {
   "cell_type": "markdown",
   "metadata": {
    "id": "06692103c9e5"
   },
   "source": [
    "#### 包布局\n",
    "\n",
    "在开始训练之前，看看如何为自定义训练任务组装一个Python包。解压缩后，包含以下目录/文件布局的包。\n",
    "\n",
    "- PKG-INFO\n",
    "- README.md\n",
    "- setup.cfg\n",
    "- setup.py\n",
    "- trainer\n",
    "  - \\_\\_init\\_\\_.py\n",
    "  - task.py\n",
    "\n",
    "文件`setup.cfg`和`setup.py`是将包安装到Docker镜像的操作环境中的说明。\n",
    "\n",
    "文件`trainer/task.py`是执行自定义训练任务的Python脚本。*注意*，当在工作池规范中引用`trainer/task.py`时，目录斜杠被替换为一个点，文件后缀（`.py`）被去除：(`trainer.task`)。"
   ]
  },
  {
   "cell_type": "markdown",
   "metadata": {
    "id": "b4b1b6caa966"
   },
   "source": [
    "#### 包装组装"
   ]
  },
  {
   "cell_type": "code",
   "execution_count": null,
   "metadata": {
    "id": "f4wS4eISox9V"
   },
   "outputs": [],
   "source": [
    "# Make folder for Python training script\n",
    "! rm -rf custom\n",
    "! mkdir custom\n",
    "\n",
    "# Add package information\n",
    "! touch custom/README.md\n",
    "\n",
    "setup_cfg = \"[egg_info]\\n\\ntag_build =\\n\\ntag_date = 0\"\n",
    "! echo \"$setup_cfg\" > custom/setup.cfg\n",
    "\n",
    "setup_py = \"import setuptools\\n\\nsetuptools.setup(\\n\\n    install_requires=[\\n\\n        'cloudml-hypertune',\\n\\n    ],\\n\\n    packages=setuptools.find_packages())\"\n",
    "! echo \"$setup_py\" > custom/setup.py\n",
    "\n",
    "pkg_info = \"Metadata-Version: 1.0\\n\\nName: Iris tabular classification\\n\\nVersion: 0.0.0\\n\\nSummary: Demostration training script\\n\\nHome-page: www.google.com\\n\\nAuthor: Google\\n\\nAuthor-email: aferlitsch@google.com\\n\\nLicense: Public\\n\\nDescription: Demo\\n\\nPlatform: Vertex\"\n",
    "! echo \"$pkg_info\" > custom/PKG-INFO\n",
    "\n",
    "# Make the training subfolder\n",
    "! mkdir custom/trainer\n",
    "! touch custom/trainer/__init__.py"
   ]
  },
  {
   "cell_type": "markdown",
   "metadata": {
    "id": "taskpy_contents:iris,xgboost"
   },
   "source": [
    "### 为 Python 培训包创建任务脚本\n",
    "\n",
    "接下来，您需要为驱动培训包的 `task.py` 脚本。一些重要的步骤包括：\n",
    "\n",
    "- 命令行参数：\n",
    "    - `model-dir`: 保存训练模型的位置。当使用 Vertex AI 自定义训练时，位置在环境变量 `AIP_MODEL_DIR` 中指定。\n",
    "    - `dataset_data_url`: 要下载的训练数据的位置。\n",
    "    - `dataset_labels_url`: 要下载的训练标签的位置。\n",
    "    - `boost-rounds`: 可调节的超参数\n",
    "- 数据预处理 (`get_data()`)：\n",
    "    - 下载数据集并分割为训练和测试集。\n",
    "- 训练 (`train_model()`)：\n",
    "    - 训练模型。\n",
    "- 评估 (`evaluate_model()`)：\n",
    "    - 评估模型。\n",
    "    - 如果进行超参数调优，则报告准确率指标。\n",
    "- 模型工件保存\n",
    "    - 将模型工件和评估指标保存到由 `model-dir` 指定的 Cloud 存储位置。\n",
    "\n",
    "*注意:* 训练脚本使用 GCSFuse，将 Cloud 存储桶挂载为网络文件系统，使脚本能够在 Cloud 存储桶内执行文件系统操作（如读取和写入）。"
   ]
  },
  {
   "cell_type": "code",
   "execution_count": null,
   "metadata": {
    "id": "WiSnFuDoox9W"
   },
   "outputs": [],
   "source": [
    "%%writefile custom/trainer/task.py\n",
    "import datetime\n",
    "import os\n",
    "import subprocess\n",
    "import sys\n",
    "import pandas as pd\n",
    "import xgboost as xgb\n",
    "import hypertune\n",
    "import argparse\n",
    "import logging\n",
    "import numpy as np\n",
    "\n",
    "from sklearn.model_selection import train_test_split\n",
    "from sklearn.metrics import accuracy_score\n",
    "\n",
    "parser = argparse.ArgumentParser()\n",
    "parser.add_argument('--model-dir', dest='model_dir',\n",
    "                    default=os.getenv('AIP_MODEL_DIR'), type=str, help='Model dir.')\n",
    "parser.add_argument(\"--dataset-data-url\", dest=\"dataset_data_url\",\n",
    "                    type=str, help=\"Download url for the training data.\")\n",
    "parser.add_argument(\"--dataset-labels-url\", dest=\"dataset_labels_url\",\n",
    "                    type=str, help=\"Download url for the training data labels.\")\n",
    "parser.add_argument(\"--boost-rounds\", dest=\"boost_rounds\",\n",
    "                    default=20, type=int, help=\"Number of boosted rounds\") \n",
    "args = parser.parse_args()\n",
    "\n",
    "logging.getLogger().setLevel(logging.INFO)\n",
    "\n",
    "def get_data():\n",
    "    logging.info(\"Downloading training data and labelsfrom: {}, {}\".format(args.dataset_data_url, args.dataset_labels_url))\n",
    "    # gsutil outputs everything to stderr so we need to divert it to stdout.\n",
    "    subprocess.check_call(['gsutil', 'cp', args.dataset_data_url, 'data.csv'], stderr=sys.stdout)\n",
    "    # gsutil outputs everything to stderr so we need to divert it to stdout.\n",
    "    subprocess.check_call(['gsutil', 'cp', args.dataset_labels_url, 'labels.csv'], stderr=sys.stdout)\n",
    "\n",
    "\n",
    "    # Load data into pandas, then use `.values` to get NumPy arrays\n",
    "    data = pd.read_csv('data.csv').values\n",
    "    labels = pd.read_csv('labels.csv').values\n",
    "\n",
    "    # Convert one-column 2D array into 1D array for use with XGBoost\n",
    "    labels = labels.reshape((labels.size,))\n",
    "\n",
    "    train_data, test_data, train_labels, test_labels = train_test_split(data, labels, test_size=0.2, random_state=7)\n",
    "\n",
    "    # Load data into DMatrix object\n",
    "    dtrain = xgb.DMatrix(train_data, label=train_labels)\n",
    "    return dtrain, test_data, test_labels\n",
    "\n",
    "def train_model(dtrain):\n",
    "    logging.info(\"Start training ...\")\n",
    "    # Train XGBoost model\n",
    "    params = {\n",
    "        'objective': 'multi:softprob',\n",
    "        'num_class': 3\n",
    "    }\n",
    "    model = xgb.train(params, dtrain, num_boost_round=args.boost_rounds)\n",
    "    logging.info(\"Training completed\")\n",
    "    return model\n",
    "\n",
    "def evaluate_model(model, test_data, test_labels):\n",
    "    dtest = xgb.DMatrix(test_data)\n",
    "    pred = model.predict(dtest)\n",
    "    predictions = [np.around(value) for value in pred]\n",
    "    # evaluate predictions\n",
    "    try:\n",
    "        accuracy = accuracy_score(test_labels, predictions)\n",
    "    except:\n",
    "        accuracy = 0.0\n",
    "    logging.info(f\"Evaluation completed with model accuracy: {accuracy}\")\n",
    "\n",
    "    # report metric for hyperparameter tuning\n",
    "    hpt = hypertune.HyperTune()\n",
    "    hpt.report_hyperparameter_tuning_metric(\n",
    "        hyperparameter_metric_tag='accuracy',\n",
    "        metric_value=accuracy\n",
    "    )\n",
    "    return accuracy\n",
    "\n",
    "\n",
    "dtrain, test_data, test_labels = get_data()\n",
    "model = train_model(dtrain)\n",
    "accuracy = evaluate_model(model, test_data, test_labels)\n",
    "\n",
    "# GCSFuse conversion\n",
    "gs_prefix = 'gs://'\n",
    "gcsfuse_prefix = '/gcs/'\n",
    "if args.model_dir.startswith(gs_prefix):\n",
    "    args.model_dir = args.model_dir.replace(gs_prefix, gcsfuse_prefix)\n",
    "    dirpath = os.path.split(args.model_dir)[0]\n",
    "    if not os.path.isdir(dirpath):\n",
    "        os.makedirs(dirpath)\n",
    "\n",
    "# Export the classifier to a file\n",
    "gcs_model_path = os.path.join(args.model_dir, 'model.bst')\n",
    "logging.info(\"Saving model artifacts to {}\". format(gcs_model_path))\n",
    "model.save_model(gcs_model_path)\n",
    "\n",
    "logging.info(\"Saving metrics to {}/metrics.json\". format(args.model_dir))\n",
    "gcs_metrics_path = os.path.join(args.model_dir, 'metrics.json')\n",
    "with open(gcs_metrics_path, \"w\") as f:\n",
    "    f.write(f\"{'accuracy: {accuracy}'}\")"
   ]
  },
  {
   "cell_type": "markdown",
   "metadata": {
    "id": "tarball_training_script"
   },
   "source": [
    "请将培训脚本存储在您的云存储桶中。\n",
    "\n",
    "接下来，您将培训文件夹打包成压缩的 tar 文件，然后存储在您的云存储桶中。"
   ]
  },
  {
   "cell_type": "code",
   "execution_count": null,
   "metadata": {
    "id": "dnmdycf6ox9X"
   },
   "outputs": [],
   "source": [
    "! rm -f custom.tar custom.tar.gz\n",
    "! tar cvf custom.tar custom\n",
    "! gzip custom.tar\n",
    "! gsutil cp custom.tar.gz $BUCKET_URI/trainer_iris.tar.gz"
   ]
  },
  {
   "cell_type": "markdown",
   "metadata": {
    "id": "create_custom_pp_training_job:mbsdk"
   },
   "source": [
    "### 创建并运行自定义训练任务\n",
    "\n",
    "要训练一个自定义模型，您需要执行两个步骤：1）创建一个自定义训练任务，2）运行该任务。\n",
    "\n",
    "#### 创建自定义训练任务\n",
    "\n",
    "使用`CustomTrainingJob`类创建一个自定义训练任务，包括以下参数：\n",
    "\n",
    "- `display_name`：自定义训练任务的可读名称。\n",
    "- `container_uri`：训练容器镜像。\n",
    "- `python_package_gcs_uri`：Python训练包的位置，作为一个tarball。\n",
    "- `python_module_name`：Python包中训练脚本的相对路径。\n",
    "- `model_serving_container_uri`：用于部署模型的容器镜像。\n",
    "\n",
    "*注意*：没有requirements参数。您可以在Python包中的`setup.py`脚本中指定任何要求。"
   ]
  },
  {
   "cell_type": "code",
   "execution_count": null,
   "metadata": {
    "id": "rVEMz1xqox9X"
   },
   "outputs": [],
   "source": [
    "DISPLAY_NAME = \"iris\"\n",
    "\n",
    "job = aiplatform.CustomPythonPackageTrainingJob(\n",
    "    display_name=DISPLAY_NAME,\n",
    "    python_package_gcs_uri=f\"{BUCKET_URI}/trainer_iris.tar.gz\",\n",
    "    python_module_name=\"trainer.task\",\n",
    "    container_uri=TRAIN_IMAGE,\n",
    "    model_serving_container_image_uri=DEPLOY_IMAGE,\n",
    "    project=PROJECT_ID,\n",
    ")"
   ]
  },
  {
   "cell_type": "markdown",
   "metadata": {
    "id": "prepare_custom_cmdargs:iris,xgboost"
   },
   "source": [
    "### 准备您的命令行参数\n",
    "\n",
    "现在为您的自定义训练容器定义命令行参数：\n",
    "\n",
    "- `args`：传递给作为容器入口点设置的可执行文件的命令行参数。\n",
    "  - `--model-dir`：对于我们的演示，我们使用此命令行参数来指定存储模型工件的位置。\n",
    "      - 直接：将Cloud存储位置作为命令行参数传递给训练脚本（设置变量`DIRECT = True`），或\n",
    "      - 间接：服务将Cloud存储位置作为环境变量`AIP_MODEL_DIR`传递给训练脚本（设置变量`DIRECT = False`）。在这种情况下，您需要在作业规范中告诉服务模型工件位置。\n",
    "  - `--dataset-data-url`：要下载的训练数据的位置。\n",
    "  - `--dataset-labels-url`：要下载的训练标签的位置。\n",
    "  - `--boost-rounds`：可调整的超参数。"
   ]
  },
  {
   "cell_type": "code",
   "execution_count": null,
   "metadata": {
    "id": "AoUfpBqVox9Y"
   },
   "outputs": [],
   "source": [
    "MODEL_DIR = \"{}/{}\".format(BUCKET_URI, \"model\")\n",
    "DATASET_DIR = \"gs://cloud-samples-data/ai-platform/iris\"\n",
    "\n",
    "ROUNDS = 20\n",
    "\n",
    "DIRECT = False\n",
    "if DIRECT:\n",
    "    CMDARGS = [\n",
    "        \"--dataset-data-url=\" + DATASET_DIR + \"/iris_data.csv\",\n",
    "        \"--dataset-labels-url=\" + DATASET_DIR + \"/iris_target.csv\",\n",
    "        \"--boost-rounds=\" + str(ROUNDS),\n",
    "        \"--model_dir=\" + MODEL_DIR,\n",
    "    ]\n",
    "else:\n",
    "    CMDARGS = [\n",
    "        \"--dataset-data-url=\" + DATASET_DIR + \"/iris_data.csv\",\n",
    "        \"--dataset-labels-url=\" + DATASET_DIR + \"/iris_target.csv\",\n",
    "        \"--boost-rounds=\" + str(ROUNDS),\n",
    "    ]"
   ]
  },
  {
   "cell_type": "markdown",
   "metadata": {
    "id": "run_custom_job:mbsdk"
   },
   "source": [
    "运行自定义训练作业\n",
    "\n",
    "接下来，您可以通过调用`run`方法并传入以下参数来启动训练作业：\n",
    "\n",
    "- `model_display_name`：`Model`资源的可读名称。\n",
    "- `args`：传递给训练脚本的命令行参数。\n",
    "- `replica_count`：用于训练的计算实例数量（replica_count = 1表示单节点训练）。\n",
    "- `machine_type`：计算实例的机器类型。\n",
    "- `accelerator_type`：硬件加速器类型。\n",
    "- `accelerator_count`：要连接到工作人员副本的加速器数量。\n",
    "- `base_output_dir`：用于将模型工件写入的Cloud Storage位置。\n",
    "- `sync`：是否阻塞直到作业完成。"
   ]
  },
  {
   "cell_type": "code",
   "execution_count": null,
   "metadata": {
    "id": "JCruQq1aox9Y"
   },
   "outputs": [],
   "source": [
    "if TRAIN_GPU:\n",
    "    model = job.run(\n",
    "        model_display_name=\"iris\",\n",
    "        args=CMDARGS,\n",
    "        replica_count=1,\n",
    "        machine_type=TRAIN_COMPUTE,\n",
    "        accelerator_type=TRAIN_GPU.name,\n",
    "        accelerator_count=TRAIN_NGPU,\n",
    "        base_output_dir=MODEL_DIR,\n",
    "        sync=False,\n",
    "    )\n",
    "else:\n",
    "    model = job.run(\n",
    "        model_display_name=\"iris\",\n",
    "        args=CMDARGS,\n",
    "        replica_count=1,\n",
    "        machine_type=TRAIN_COMPUTE,\n",
    "        base_output_dir=MODEL_DIR,\n",
    "        sync=False,\n",
    "    )\n",
    "\n",
    "model_path_to_deploy = MODEL_DIR"
   ]
  },
  {
   "cell_type": "markdown",
   "metadata": {
    "id": "list_job"
   },
   "source": [
    "### 列出一个定制的培训工作"
   ]
  },
  {
   "cell_type": "code",
   "execution_count": null,
   "metadata": {
    "id": "KBM_KLMSox9Y"
   },
   "outputs": [],
   "source": [
    "_job = job.list(filter=f\"display_name={DISPLAY_NAME}\")\n",
    "print(_job)"
   ]
  },
  {
   "cell_type": "markdown",
   "metadata": {
    "id": "custom_job_wait:mbsdk"
   },
   "source": [
    "### 等待定制培训任务完成\n",
    "\n",
    "接下来，等待定制培训任务完成。或者可以在`run()`方法中将参数`sync`设置为`True`，以阻塞直到定制培训任务完成。"
   ]
  },
  {
   "cell_type": "code",
   "execution_count": null,
   "metadata": {
    "id": "lHPMHbSyox9Z"
   },
   "outputs": [],
   "source": [
    "model.wait()"
   ]
  },
  {
   "cell_type": "markdown",
   "metadata": {
    "id": "delete_job"
   },
   "source": [
    "删除自定义训练作业\n",
    "\n",
    "训练作业完成后，您可以使用 `delete()` 方法来删除训练作业。在完成之前，可以使用 `cancel()` 方法取消训练作业。"
   ]
  },
  {
   "cell_type": "code",
   "execution_count": null,
   "metadata": {
    "id": "tlYg7Sp-ox9Z"
   },
   "outputs": [],
   "source": [
    "job.delete()"
   ]
  },
  {
   "cell_type": "markdown",
   "metadata": {
    "id": "cleanup:mbsdk"
   },
   "source": [
    "清理工作\n",
    "要清理此项目中使用的所有Google Cloud资源，您可以[删除用于本教程的Google Cloud项目](https://cloud.google.com/resource-manager/docs/creating-managing-projects#shutting_down_projects)。\n",
    "\n",
    "否则，您可以删除本教程中创建的各个资源：\n",
    "\n",
    "- Custom Job（自定义培训作业在前一步中已删除）\n",
    "- 模型\n",
    "- 云存储桶"
   ]
  },
  {
   "cell_type": "code",
   "execution_count": null,
   "metadata": {
    "id": "JyWy23gDox9a"
   },
   "outputs": [],
   "source": [
    "delete_bucket = False\n",
    "\n",
    "model.delete()\n",
    "\n",
    "if delete_bucket:\n",
    "    ! gsutil rm -r $BUCKET_URI"
   ]
  }
 ],
 "metadata": {
  "colab": {
   "name": "get_started_vertex_training_xgboost.ipynb",
   "toc_visible": true
  },
  "kernelspec": {
   "display_name": "Python 3",
   "name": "python3"
  }
 },
 "nbformat": 4,
 "nbformat_minor": 0
}
