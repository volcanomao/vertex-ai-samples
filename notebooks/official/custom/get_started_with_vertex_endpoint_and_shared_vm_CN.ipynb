{
 "cells": [
  {
   "cell_type": "code",
   "execution_count": null,
   "metadata": {
    "id": "copyright"
   },
   "outputs": [],
   "source": [
    "# Copyright 2022 Google LLC\n",
    "#\n",
    "# Licensed under the Apache License, Version 2.0 (the \"License\");\n",
    "# you may not use this file except in compliance with the License.\n",
    "# You may obtain a copy of the License at\n",
    "#\n",
    "#     https://www.apache.org/licenses/LICENSE-2.0\n",
    "#\n",
    "# Unless required by applicable law or agreed to in writing, software\n",
    "# distributed under the License is distributed on an \"AS IS\" BASIS,\n",
    "# WITHOUT WARRANTIES OR CONDITIONS OF ANY KIND, either express or implied.\n",
    "# See the License for the specific language governing permissions and\n",
    "# limitations under the License."
   ]
  },
  {
   "cell_type": "markdown",
   "metadata": {
    "id": "title:generic,gcp"
   },
   "source": [
    "开始使用端点和共享VM\n",
    "\n",
    "<table align=\"left\">\n",
    "  <td style=\"text-align: center\">\n",
    "        <a href=\"https://colab.research.google.com/github/GoogleCloudPlatform/vertex-ai-samples/blob/main/notebooks/official/custom/get_started_with_vertex_endpoint_and_shared_vm.ipynb\">\n",
    "        <img src=\"https://cloud.google.com/ml-engine/images/colab-logo-32px.png\" alt=\"Google Colaboratory logo\"><br> 在Colab中打开\n",
    "        </a>\n",
    "  </td>\n",
    "  <td style=\"text-align: center\">\n",
    "    <a href=\"https://console.cloud.google.com/vertex-ai/colab/import/https:%2F%2Fgithub.com%2FGoogleCloudPlatform%2Fvertex-ai-samples%2Fblob%2Fmain%2Fnotebooks%2Fofficial%2Fcustom%2Fget_started_with_vertex_endpoint_and_shared_vm.ipynb\">\n",
    "      <img width=\"32px\" src=\"https://cloud.google.com/ml-engine/images/colab-enterprise-logo-32px.png\" alt=\"Google Cloud Colab Enterprise logo\"><br> 在Colab Enterprise中打开\n",
    "    </a>\n",
    "  </td>   \n",
    "  <td style=\"text-align: center\">\n",
    "    <a href=\"https://console.cloud.google.com/vertex-ai/workbench/deploy-notebook?download_url=https://raw.githubusercontent.com/GoogleCloudPlatform/vertex-ai-samples/main/notebooks/official/custom/get_started_with_vertex_endpoint_and_shared_vm.ipynb\">\n",
    "      <img src=\"https://lh3.googleusercontent.com/UiNooY4LUgW_oTvpsNhPpQzsstV5W8F7rYgxgGBD85cWJoLmrOzhVs_ksK_vgx40SHs7jCqkTkCk=e14-rj-sc0xffffff-h130-w32\" alt=\"Vertex AI logo\"><br> 在Workbench中打开\n",
    "    </a>\n",
    "  </td>\n",
    "  <td style=\"text-align: center\">\n",
    "    <a href=\"https://github.com/GoogleCloudPlatform/vertex-ai-samples/blob/main/notebooks/official/custom/get_started_with_vertex_endpoint_and_shared_vm.ipynb\">\n",
    "      <img src=\"https://cloud.google.com/ml-engine/images/github-logo-32px.png\" alt=\"GitHub logo\"><br> 在GitHub中查看\n",
    "    </a>\n",
    "  </td>\n",
    "</table>\n",
    "<br/><br/><br/>"
   ]
  },
  {
   "cell_type": "markdown",
   "metadata": {
    "id": "overview:mlops"
   },
   "source": [
    "## 概述\n",
    "\n",
    "本教程演示了如何在 Google Cloud 上使用 Vertex AI 进行端到端 MLOps 生产。本教程涵盖了如何开始使用 Endpoints 和共享 VM 以共同托管模型。\n",
    "\n",
    "了解有关[跨部署共享资源](https://cloud.google.com/vertex-ai/docs/predictions/model-co-hosting)的更多信息。"
   ]
  },
  {
   "cell_type": "markdown",
   "metadata": {
    "id": "objective:mlops,stage2,get_started_automl_training"
   },
   "source": [
    "### 目标\n",
    "\n",
    "在本教程中，您将学习如何使用部署资源池来部署模型。部署资源池提供了在同一（共享）VM 上托管多个模型的能力。\n",
    "\n",
    "部署资源池将模型部署组合到一起，以在VM内共享资源。多个端点可以部署在同一个VM中的一个部署资源池中。这些端点中的每一个可以拥有一个或多个已部署的模型。对于给定端点的已部署模型可以分组在相同或不同的部署资源池中。\n",
    "\n",
    "本教程使用以下 Google Cloud ML 服务：\n",
    "\n",
    "- `Vertex AI Training`\n",
    "- `Vertex AI Model` 资源\n",
    "- `Vertex AI Endpoint` 资源\n",
    "\n",
    "执行的步骤包括：\n",
    "\n",
    "- 将预训练的图像分类模型上传为`Model`资源（模型A）。\n",
    "- 将预训练的文本句子编码器模型上传为`Model`资源（模型B）。\n",
    "- 创建一个共享的VM部署资源池。\n",
    "- 列出共享的VM部署资源池。\n",
    "- 创建两个`Endpoint`资源。\n",
    "- 使用部署资源池将第一个模型（模型A）部署到第一个`Endpoint`资源。\n",
    "- 使用部署资源池将第二个模型（模型B）部署到第二个`Endpoint`资源。\n",
    "- 使用第一个已部署模型（模型A）进行预测请求。\n",
    "- 使用第二个已部署模型（模型B）进行预测请求。"
   ]
  },
  {
   "cell_type": "markdown",
   "metadata": {
    "id": "dataset:flowers,icn"
   },
   "source": [
    "### 模型\n",
    "\n",
    "本教程中使用的预训练模型来自[TensorFlow Hub](https://tfhub.dev/)存储库：\n",
    "\n",
    "- [图像分类](https://tfhub.dev/google/imagenet/inception_v3/classification/5)：使用ImageNet进行训练。\n",
    "- [文本句子编码器](https://tfhub.dev/google/universal-sentence-encoder/4)：谷歌的通用句子编码器。"
   ]
  },
  {
   "cell_type": "markdown",
   "metadata": {
    "id": "fb3451ce8e47"
   },
   "source": [
    "### 费用\n",
    "本教程使用谷歌云的付费组件：\n",
    "\n",
    "- Vertex AI\n",
    "- 云存储\n",
    "\n",
    "请了解[Vertex AI定价](https://cloud.google.com/vertex-ai/pricing)和[云存储定价](https://cloud.google.com/storage/pricing)，并使用[Pricing Calculator](https://cloud.google.com/products/calculator/)根据您的预计使用情况生成成本估算。"
   ]
  },
  {
   "cell_type": "markdown",
   "metadata": {
    "id": "install_mlops"
   },
   "source": [
    "开始吧"
   ]
  },
  {
   "cell_type": "markdown",
   "metadata": {
    "id": "deda65b8cc6e"
   },
   "source": [
    "### 为Python安装Vertex AI SDK和其他所需的软件包"
   ]
  },
  {
   "cell_type": "code",
   "execution_count": null,
   "metadata": {
    "id": "3357af6a0f34"
   },
   "outputs": [],
   "source": [
    "! pip3 install --upgrade --quiet google-cloud-aiplatform \\\n",
    "                                 tensorflow==2.15.1 \\\n",
    "                                 tensorflow-hub==0.16.1"
   ]
  },
  {
   "cell_type": "markdown",
   "metadata": {
    "id": "ff555b32bab8"
   },
   "source": [
    "重新启动运行时（仅限Colab）\n",
    "\n",
    "要使用新安装的包，您必须重新启动Google Colab上的运行时。"
   ]
  },
  {
   "cell_type": "code",
   "execution_count": null,
   "metadata": {
    "id": "f09b4dff629a"
   },
   "outputs": [],
   "source": [
    "import sys\n",
    "\n",
    "if \"google.colab\" in sys.modules:\n",
    "\n",
    "    import IPython\n",
    "\n",
    "    app = IPython.Application.instance()\n",
    "    app.kernel.do_shutdown(True)"
   ]
  },
  {
   "cell_type": "markdown",
   "metadata": {
    "id": "4a2b7b59bbf7"
   },
   "source": [
    "<div class=\"alert alert-block alert-warning\">\n",
    "<b>⚠️内核将要重新启动。在继续下一步之前，请等待重新启动完成。⚠️</b>\n",
    "</div>"
   ]
  },
  {
   "cell_type": "markdown",
   "metadata": {
    "id": "92e68cfc3a90"
   },
   "source": [
    "### 验证您的笔记本环境（仅限Colab）\n",
    "\n",
    "在Google Colab上验证您的环境。"
   ]
  },
  {
   "cell_type": "code",
   "execution_count": null,
   "metadata": {
    "id": "46604f70e831"
   },
   "outputs": [],
   "source": [
    "import sys\n",
    "\n",
    "if \"google.colab\" in sys.modules:\n",
    "\n",
    "    from google.colab import auth\n",
    "\n",
    "    auth.authenticate_user()"
   ]
  },
  {
   "cell_type": "markdown",
   "metadata": {
    "id": "4f872cd812d0"
   },
   "source": [
    "设置Google Cloud项目信息并初始化Python的Vertex AI SDK\n",
    "\n",
    "要开始使用Vertex AI，您必须拥有一个现有的Google Cloud项目并启用Vertex AI API。了解更多关于设置项目和开发环境的信息。"
   ]
  },
  {
   "cell_type": "code",
   "execution_count": null,
   "metadata": {
    "id": "set_project_id"
   },
   "outputs": [],
   "source": [
    "PROJECT_ID = \"[your-project-id]\"  # @param {type:\"string\"}\n",
    "\n",
    "# Set the project id\n",
    "! gcloud config set project {PROJECT_ID}\n",
    "\n",
    "LOCATION = \"us-central1\"  # @param {type: \"string\"}"
   ]
  },
  {
   "cell_type": "markdown",
   "metadata": {
    "id": "bucket:mbsdk"
   },
   "source": [
    "创建一个云存储桶\n",
    "\n",
    "创建一个存储桶来存储中间产物，如数据集。"
   ]
  },
  {
   "cell_type": "code",
   "execution_count": null,
   "metadata": {
    "id": "bucket"
   },
   "outputs": [],
   "source": [
    "BUCKET_URI = f\"gs://your-bucket-name-{PROJECT_ID}-unique\"  # @param {type:\"string\"}"
   ]
  },
  {
   "cell_type": "markdown",
   "metadata": {
    "id": "create_bucket"
   },
   "source": [
    "只有在您的存储桶不存在的情况下才能运行以下单元格来创建您的云存储存储桶。"
   ]
  },
  {
   "cell_type": "code",
   "execution_count": null,
   "metadata": {
    "id": "create_bucket"
   },
   "outputs": [],
   "source": [
    "! gsutil mb -l $LOCATION $BUCKET_URI"
   ]
  },
  {
   "cell_type": "markdown",
   "metadata": {
    "id": "setup_vars"
   },
   "source": [
    "### 导入库"
   ]
  },
  {
   "cell_type": "code",
   "execution_count": null,
   "metadata": {
    "id": "import_aip:mbsdk"
   },
   "outputs": [],
   "source": [
    "import os\n",
    "\n",
    "import google.cloud.aiplatform as aiplatform\n",
    "import google.cloud.aiplatform_v1beta1 as aip_beta\n",
    "import tensorflow as tf\n",
    "import tensorflow_hub as hub"
   ]
  },
  {
   "cell_type": "markdown",
   "metadata": {
    "id": "init_aip:mbsdk"
   },
   "source": [
    "### 初始化顶点AI Python SDK"
   ]
  },
  {
   "cell_type": "code",
   "execution_count": null,
   "metadata": {
    "id": "init_aip:mbsdk"
   },
   "outputs": [],
   "source": [
    "aiplatform.init(project=PROJECT_ID, staging_bucket=BUCKET_URI)"
   ]
  },
  {
   "cell_type": "markdown",
   "metadata": {
    "id": "aip_constants:fs"
   },
   "source": [
    "#### Vertex AI 常量\n",
    "\n",
    "为 Vertex AI 设置以下常量：\n",
    "\n",
    "- `API_ENDPOINT`：用于 `Endpoint` 服务的 Vertex AI API 服务端点。\n",
    "- `PARENT`：您项目和位置中所有 Vertex AI 资源的基本资源路径。"
   ]
  },
  {
   "cell_type": "code",
   "execution_count": null,
   "metadata": {
    "id": "aip_constants:fs"
   },
   "outputs": [],
   "source": [
    "# API service endpoint\n",
    "API_ENDPOINT = \"{}-aiplatform.googleapis.com\".format(LOCATION)\n",
    "\n",
    "# Vertex location root path for your dataset, model and endpoint resources\n",
    "PARENT = \"projects/\" + PROJECT_ID + \"/locations/\" + LOCATION"
   ]
  },
  {
   "cell_type": "markdown",
   "metadata": {
    "id": "clients:metadata"
   },
   "source": [
    "## 设置客户端\n",
    "\n",
    "Vertex AI 以客户端/服务器模型工作。在您的一侧（Python 脚本），您创建一个客户端，用于向 Vertex AI 服务器发送请求并接收响应。\n",
    "\n",
    "在这个教程中，您需要为工作流程中的不同步骤使用不同的客户端。这意味着您需要在开始时设置它们。\n",
    "\n",
    "- Endpoint 服务用于创建端点，并将模型部署到端点。"
   ]
  },
  {
   "cell_type": "code",
   "execution_count": null,
   "metadata": {
    "id": "clients:metadata"
   },
   "outputs": [],
   "source": [
    "# client options same for all services\n",
    "client_options = {\"api_endpoint\": API_ENDPOINT}\n",
    "\n",
    "\n",
    "def create_endpoint_client():\n",
    "    client = aip_beta.EndpointServiceClient(client_options=client_options)\n",
    "    return client\n",
    "\n",
    "\n",
    "clients = {}\n",
    "clients[\"endpoint\"] = create_endpoint_client()\n",
    "\n",
    "for client in clients.items():\n",
    "    print(client)"
   ]
  },
  {
   "cell_type": "markdown",
   "metadata": {
    "id": "accelerators:training,cpu,prediction,cpu,mbsdk"
   },
   "source": [
    "#### 设置硬件加速器\n",
    "\n",
    "您可以为训练和预测设置硬件加速器。\n",
    "\n",
    "将变量 `DEPLOY_GPU/DEPLOY_NGPU` 设置为使用支持 GPU 的容器映像以及分配给虚拟机实例（VM）的 GPU 数。例如，为了使用一个支持 GPU 的容器映像，并将4个 Nvidia Telsa T4 GPU 分配给每个 VM，您可以指定：\n",
    "\n",
    "    (aip.gapic.AcceleratorType.NVIDIA_TESLA_T4, 4)\n",
    "\n",
    "否则，请指定 `(None, None)` 来使用一个可以在 CPU 上运行的容器映像。\n",
    "\n",
    "了解更多关于 [您位置的硬件加速器支持](https://cloud.google.com/vertex-ai/docs/general/locations#accelerators)。"
   ]
  },
  {
   "cell_type": "code",
   "execution_count": null,
   "metadata": {
    "id": "accelerators:training,cpu,prediction,cpu,mbsdk"
   },
   "outputs": [],
   "source": [
    "if os.getenv(\"IS_TESTING_DEPLOY_GPU\"):\n",
    "    DEPLOY_GPU, DEPLOY_NGPU = (\n",
    "        aiplatform.gapic.AcceleratorType.NVIDIA_TESLA_T4,\n",
    "        int(os.getenv(\"IS_TESTING_DEPLOY_GPU\")),\n",
    "    )\n",
    "else:\n",
    "    DEPLOY_GPU, DEPLOY_NGPU = (None, None)"
   ]
  },
  {
   "cell_type": "markdown",
   "metadata": {
    "id": "container:training,prediction"
   },
   "source": [
    "#### 设置预构建容器\n",
    "\n",
    "为预测设置预构建的Docker容器镜像。\n",
    "\n",
    "有关最新列表，请参阅[用于预测的预构建容器](https://cloud.google.com/ai-platform-unified/docs/predictions/pre-built-containers)。"
   ]
  },
  {
   "cell_type": "code",
   "execution_count": null,
   "metadata": {
    "id": "container:training,prediction"
   },
   "outputs": [],
   "source": [
    "TF = \"2.13\".replace(\".\", \"-\")\n",
    "\n",
    "if DEPLOY_GPU:\n",
    "    DEPLOY_VERSION = \"tf2-gpu.{}\".format(TF)\n",
    "else:\n",
    "    DEPLOY_VERSION = \"tf2-cpu.{}\".format(TF)\n",
    "\n",
    "DEPLOY_IMAGE = \"{}-docker.pkg.dev/vertex-ai/prediction/{}:latest\".format(\n",
    "    LOCATION.split(\"-\")[0], DEPLOY_VERSION\n",
    ")\n",
    "\n",
    "print(\"Deployment:\", DEPLOY_IMAGE, DEPLOY_GPU, DEPLOY_NGPU)"
   ]
  },
  {
   "cell_type": "markdown",
   "metadata": {
    "id": "machine:training"
   },
   "source": [
    "#### 设置机器类型\n",
    "\n",
    "接下来，设置用于预测的机器类型。\n",
    "\n",
    "- 将变量`DEPLOY_COMPUTE`设置为配置用于预测的VM的计算资源。\n",
    " - `机器类型`\n",
    "     - `n1-standard`：每个vCPU 3.75GB内存。\n",
    "     - `n1-highmem`：每个vCPU 6.5GB内存\n",
    "     - `n1-highcpu`：每个vCPU 0.9GB内存\n",
    " - `vCPUs`：\\ [2、4、8、16、32、64、96 \\]的数量\n",
    "\n",
    "*注意：您还可以使用n2和e2机器类型进行训练和部署，但它们不支持GPU*。"
   ]
  },
  {
   "cell_type": "code",
   "execution_count": null,
   "metadata": {
    "id": "machine:training"
   },
   "outputs": [],
   "source": [
    "MACHINE_TYPE = \"n1-standard\"\n",
    "\n",
    "VCPU = \"4\"\n",
    "DEPLOY_COMPUTE = MACHINE_TYPE + \"-\" + VCPU\n",
    "print(\"Train machine type\", DEPLOY_COMPUTE)"
   ]
  },
  {
   "cell_type": "markdown",
   "metadata": {
    "id": "d8128b8ff025"
   },
   "source": [
    "从TensorFlow Hub获取预训练模型\n",
    "\n",
    "为了演示目的，本教程使用了来自TensorFlow Hub（TFHub）的预训练模型，然后将其上传到`Vertex AI Model`资源中。一旦您拥有了`Vertex AI Model`资源，该模型可以部署到`Vertex AI Endpoint`资源中。\n",
    "\n",
    "### 下载预训练的图像分类模型\n",
    "\n",
    "首先，您从TensorFlow Hub下载预训练的图像分类模型。该模型作为TF.Keras层进行下载。为了完成模型，在这个例子中，您创建了一个带有下载的TFHub模型作为层的`Sequential()`模型，并指定了模型的输入形状。下载的模型在ImageNet上进行了预训练。"
   ]
  },
  {
   "cell_type": "code",
   "execution_count": null,
   "metadata": {
    "id": "249bd746def6"
   },
   "outputs": [],
   "source": [
    "tfhub_model_icn = tf.keras.Sequential(\n",
    "    [hub.KerasLayer(\"https://tfhub.dev/google/imagenet/inception_v3/classification/5\")]\n",
    ")\n",
    "tfhub_model_icn.build([None, 224, 224, 3])"
   ]
  },
  {
   "cell_type": "markdown",
   "metadata": {
    "id": "63de49055083"
   },
   "source": [
    "在这一点上，模型在内存中。接下来，将模型工件保存到云存储位置。"
   ]
  },
  {
   "cell_type": "code",
   "execution_count": null,
   "metadata": {
    "id": "64618c713db9"
   },
   "outputs": [],
   "source": [
    "MODEL_ICN_DIR = BUCKET_URI + \"/model_icn\"\n",
    "tfhub_model_icn.save(MODEL_ICN_DIR)"
   ]
  },
  {
   "cell_type": "markdown",
   "metadata": {
    "id": "how_serving_function_works"
   },
   "source": [
    "下一步，您需要将TFHub图像分类模型上传到Vertex AI“Model”服务，该服务为您的模型创建了一个Vertex AI“Model”资源。在上传过程中，您需要定义一个serving function来将数据转换为模型期望的格式。如果您将编码数据发送到Vertex AI，您的serving function将确保数据在传递到模型之前在模型服务器上解码。\n",
    "\n",
    "### serving function如何工作\n",
    "\n",
    "当您向在线预测服务器发送请求时，请求将被HTTP服务器接收。HTTP服务器从HTTP请求内容正文中提取出预测请求。提取出的预测请求将转发给serving function。对于Google预构建的预测容器，请求内容将作为`tf.string`传递给serving function。\n",
    "\n",
    "serving function由两部分组成：\n",
    "\n",
    "- `预处理函数`:\n",
    "  - 将输入（`tf.string`）转换为基础模型（动态图）期望的输入形状和数据类型。\n",
    "  - 执行与在训练基础模型期间相同的数据预处理 -- 例如，归一化，缩放等。\n",
    "- `后处理函数`:\n",
    "  - 将模型输出转换为接收应用程序期望的格式 -- 例如，压缩输出。\n",
    "  - 为接收应用程序打包输出 -- 例如，添加标题，创建JSON对象等。\n",
    "\n",
    "预处理和后处理函数都被转换为与模型融合的静态图。基础模型的输出传递给后处理函数。后处理函数将转换/打包后的输出传递回HTTP服务器。HTTP服务器将输出作为HTTP响应内容返回。\n",
    "\n",
    "在构建TF.Keras模型的serving函数时需要考虑的一点是，它们作为静态图运行。这意味着您不能使用需要动态图的TF图操作。如果这样做，则在服务函数的编译过程中会出现错误，指示您正在使用不受支持的EagerTensor。"
   ]
  },
  {
   "cell_type": "markdown",
   "metadata": {
    "id": "serving_function_image:post"
   },
   "source": [
    "### 图像数据的服务功能\n",
    "\n",
    "#### 预处理\n",
    "\n",
    "为了将图像传递给预测服务，您需要将压缩（例如JPEG）图像字节编码为Base 64，以使内容在通过网络传输二进制数据时安全免受修改。由于此部署模型期望输入数据为原始（未压缩）字节，您需要确保Base 64编码的数据被转换回原始字节，然后经过预处理以匹配模型输入要求，然后再将其作为输入传递给部署的模型。\n",
    "\n",
    "为了解决这个问题，您需要定义一个服务功能（`serving_fn`），并将其附加到模型作为预处理步骤。添加一个`@tf.function`修饰符，以便服务功能与底层模型融合（而不是在CPU上游）。\n",
    "\n",
    "当您发送预测或解释请求时，请求的内容会被Base 64解码为一个Tensorflow字符串（`tf.string`），然后传递给服务功能（`serving_fn`）。服务功能将`tf.string`预处理为原始（未压缩）的Numpy字节（`preprocess_fn`），以匹配模型的输入要求：\n",
    "\n",
    "- `io.decode_jpeg`- 解压缩JPG图像，将其作为一个具有三个通道（RGB）的Tensorflow张量返回。\n",
    "- `image.convert_image_dtype`- 将整数像素值更改为float32，并在0到1之间重新缩放像素数据。\n",
    "- `image.resize`- 调整图像大小以匹配模型的输入形状。\n",
    "\n",
    "此时，数据可以通过具体功能传递给模型（`m_call`）。服务功能是一个静态图，而模型是一个动态图。具体功能执行将输入数据从服务功能传送到模型，以及将模型的预测结果从模型传送回服务功能的任务。"
   ]
  },
  {
   "cell_type": "code",
   "execution_count": null,
   "metadata": {
    "id": "serving_function_image"
   },
   "outputs": [],
   "source": [
    "CONCRETE_INPUT = \"numpy_inputs\"\n",
    "\n",
    "\n",
    "def _preprocess(bytes_input):\n",
    "    decoded = tf.io.decode_jpeg(bytes_input, channels=3)\n",
    "    decoded = tf.image.convert_image_dtype(decoded, tf.float32)\n",
    "    resized = tf.image.resize(decoded, size=(224, 224))\n",
    "    return resized\n",
    "\n",
    "\n",
    "@tf.function(input_signature=[tf.TensorSpec([None], tf.string)])\n",
    "def preprocess_fn(bytes_inputs):\n",
    "    decoded_images = tf.map_fn(\n",
    "        _preprocess, bytes_inputs, dtype=tf.float32, back_prop=False\n",
    "    )\n",
    "    return {\n",
    "        CONCRETE_INPUT: decoded_images\n",
    "    }  # User needs to make sure the key matches model's input\n",
    "\n",
    "\n",
    "@tf.function(input_signature=[tf.TensorSpec([None], tf.string)])\n",
    "def serving_fn(bytes_inputs):\n",
    "    images = preprocess_fn(bytes_inputs)\n",
    "    prob = m_call(**images)\n",
    "    return prob\n",
    "\n",
    "\n",
    "m_call = tf.function(tfhub_model_icn.call).get_concrete_function(\n",
    "    [tf.TensorSpec(shape=[None, 224, 224, 3], dtype=tf.float32, name=CONCRETE_INPUT)]\n",
    ")\n",
    "\n",
    "tf.saved_model.save(\n",
    "    tfhub_model_icn, MODEL_ICN_DIR, signatures={\"serving_default\": serving_fn}\n",
    ")"
   ]
  },
  {
   "cell_type": "markdown",
   "metadata": {
    "id": "serving_function_signature:image"
   },
   "source": [
    "获取服务函数签名\n",
    "\n",
    "您可以通过重新加载模型到内存中，并查询与每个层对应的签名来获取模型的输入和输出层的签名。\n",
    "\n",
    "对于您的目的，您需要服务函数的签名。为什么呢？当您将数据发送为预测的 HTTP 请求数据包时，图像数据是 base64 编码的，而您的 TF.Keras 模型需要 numpy 输入。您的服务函数将会将 base64 转换为一个 numpy 数组。\n",
    "\n",
    "在进行预测请求时，您需要将请求路由到服务函数而不是模型，因此您需要了解服务函数的输入层名称 -- 这在之后进行预测请求时会用到。"
   ]
  },
  {
   "cell_type": "code",
   "execution_count": null,
   "metadata": {
    "id": "serving_function_signature:image"
   },
   "outputs": [],
   "source": [
    "loaded = tf.saved_model.load(MODEL_ICN_DIR)\n",
    "\n",
    "serving_input_icn = list(\n",
    "    loaded.signatures[\"serving_default\"].structured_input_signature[1].keys()\n",
    ")[0]\n",
    "print(\"Serving function input:\", serving_input_icn)"
   ]
  },
  {
   "cell_type": "markdown",
   "metadata": {
    "id": "e8ce91147c93"
   },
   "source": [
    "将TensorFlow Hub模型上传到`Vertex AI模型`资源\n",
    "\n",
    "最后，您将TFHub模型和服务功能中的模型工件上传到`Vertex AI模型`资源中。\n",
    "\n",
    "*注意:*当您将模型工件上传到`Vertex AI模型`资源时，您需要指定相应的部署容器映像。"
   ]
  },
  {
   "cell_type": "code",
   "execution_count": null,
   "metadata": {
    "id": "ad61e1429512"
   },
   "outputs": [],
   "source": [
    "model_icn = aiplatform.Model.upload(\n",
    "    display_name=\"icn\",\n",
    "    artifact_uri=MODEL_ICN_DIR,\n",
    "    serving_container_image_uri=DEPLOY_IMAGE,\n",
    ")\n",
    "\n",
    "print(model_icn)"
   ]
  },
  {
   "cell_type": "markdown",
   "metadata": {
    "id": "1e893c95868b"
   },
   "source": [
    "### 下载预先训练好的句子编码器模型\n",
    "\n",
    "接下来，您可以从TensorFlow Hub下载预先训练好的文本句子编码器模型。该模型将以TF.Keras层的形式下载。为了完成模型，在本例中，您可以创建一个包含下载的TFHub模型作为层的`Sequential()`模型，并指定模型的输入形状。"
   ]
  },
  {
   "cell_type": "code",
   "execution_count": null,
   "metadata": {
    "id": "a3760344b764"
   },
   "outputs": [],
   "source": [
    "tfhub_model_use = tf.keras.Sequential(\n",
    "    [hub.KerasLayer(\"https://tfhub.dev/google/universal-sentence-encoder/4\")]\n",
    ")\n",
    "\n",
    "# force the model to build\n",
    "tfhub_model_use.predict([\"foo\"])"
   ]
  },
  {
   "cell_type": "markdown",
   "metadata": {
    "id": "63de49055083"
   },
   "source": [
    "### 保存模型工件\n",
    "\n",
    "目前，模型已经在内存中。 接下来，您需要将模型工件保存到云存储位置。"
   ]
  },
  {
   "cell_type": "code",
   "execution_count": null,
   "metadata": {
    "id": "64618c713db9"
   },
   "outputs": [],
   "source": [
    "MODEL_USE_DIR = BUCKET_URI + \"/model_use\"\n",
    "tfhub_model_use.save(MODEL_USE_DIR)"
   ]
  },
  {
   "cell_type": "markdown",
   "metadata": {
    "id": "serving_function_signature:image"
   },
   "source": [
    "获取服务功能签名\n",
    "\n",
    "您可以通过重新加载模型到内存中，并查询相应的签名来获取模型的输入和输出层的签名。\n",
    "\n",
    "对于您的目的，您需要服务功能的签名。\n",
    "\n",
    "在进行预测请求时，您需要将请求路由到服务功能而不是模型，因此您需要知道服务功能的输入层名称 - 这在您进行预测请求时会用到。"
   ]
  },
  {
   "cell_type": "code",
   "execution_count": null,
   "metadata": {
    "id": "serving_function_signature:image"
   },
   "outputs": [],
   "source": [
    "loaded = tf.saved_model.load(MODEL_USE_DIR)\n",
    "\n",
    "serving_input_use = list(\n",
    "    loaded.signatures[\"serving_default\"].structured_input_signature[1].keys()\n",
    ")[0]\n",
    "print(\"Serving function input:\", serving_input_use)"
   ]
  },
  {
   "cell_type": "markdown",
   "metadata": {
    "id": "e8ce91147c93"
   },
   "source": [
    "### 将TensorFlow Hub模型上传到 `Vertex AI Model` 资源\n",
    "\n",
    "最后，您将TFHub模型的模型工件和serving功能上传到 `Vertex AI Model` 资源中。\n",
    "\n",
    "*注意:* 当您将模型工件上传到 `Vertex AI Model` 资源时，您需要指定相应的部署容器镜像。"
   ]
  },
  {
   "cell_type": "code",
   "execution_count": null,
   "metadata": {
    "id": "ad61e1429512"
   },
   "outputs": [],
   "source": [
    "model_use = aiplatform.Model.upload(\n",
    "    display_name=\"use\",\n",
    "    artifact_uri=MODEL_USE_DIR,\n",
    "    serving_container_image_uri=DEPLOY_IMAGE,\n",
    ")\n",
    "\n",
    "print(model_use)"
   ]
  },
  {
   "cell_type": "markdown",
   "metadata": {
    "id": "Gk9tr92tSh-f"
   },
   "source": [
    "## 创建部署资源池\n",
    "\n",
    "目前，仅通过基于REST的API（例如，CURL）支持创建部署资源池。\n",
    "\n",
    "使用`CreateDeploymentResourcePool` API来创建一个资源池，具有以下配置：\n",
    "\n",
    "- `dedicated_resources`：为共享虚拟机分配的计算（硬件）资源。\n",
    "- `min_replica_count`：自动扩展，计算节点的最小数量。\n",
    "- `max_replica_count`：自动扩展，计算节点的最大数量。\n",
    "\n",
    "了解更多关于[部署资源池](https://cloud.google.com/vertex-ai/docs/predictions/model-co-hosting)。"
   ]
  },
  {
   "cell_type": "code",
   "execution_count": null,
   "metadata": {
    "id": "YiBmoiWYcMQt"
   },
   "outputs": [],
   "source": [
    "DEPLOYMENT_RESOURCE_POOL_ID = \"shared-vm\"  # @param {type: \"string\"}"
   ]
  },
  {
   "cell_type": "code",
   "execution_count": null,
   "metadata": {
    "id": "0CHPJ4h-Slgs"
   },
   "outputs": [],
   "source": [
    "import json\n",
    "import pprint\n",
    "pp = pprint.PrettyPrinter(indent=4)\n",
    "\n",
    "MIN_NODES = 1\n",
    "MAX_NODES = 2\n",
    "\n",
    "CREATE_RP_PAYLOAD = {\n",
    "  \"deployment_resource_pool\":{\n",
    "    \"dedicated_resources\":{\n",
    "      \"machine_spec\":{\n",
    "        \"machine_type\": DEPLOY_COMPUTE\n",
    "      },\n",
    "      \"min_replica_count\": MIN_NODES, \n",
    "      \"max_replica_count\": MAX_NODES\n",
    "    }\n",
    "  },\n",
    "  \"deployment_resource_pool_id\":DEPLOYMENT_RESOURCE_POOL_ID\n",
    "}\n",
    "CREATE_RP_REQUEST=json.dumps(CREATE_RP_PAYLOAD)\n",
    "pp.pprint(\"CREATE_RP_REQUEST: \" + CREATE_RP_REQUEST)\n",
    "\n",
    "! curl \\\n",
    "-X POST \\\n",
    "-H \"Authorization: Bearer $(gcloud auth print-access-token)\" \\\n",
    "-H \"Content-Type: application/json\" \\\n",
    "https://{LOCATION}-aiplatform.googleapis.com/v1beta1/projects/{PROJECT_ID}/locations/{LOCATION}/deploymentResourcePools \\\n",
    "-d '{CREATE_RP_REQUEST}'"
   ]
  },
  {
   "cell_type": "markdown",
   "metadata": {
    "id": "3WP4WV_bZzDh"
   },
   "source": [
    "获取部署资源池\n",
    "\n",
    "使用`GetDeploymentResourcePool` API来查看您创建的部署资源池。\n",
    "\n",
    "了解更多关于[获取部署资源池](https://cloud.google.com/vertex-ai/docs/reference/rest/v1beta1/projects.locations.deploymentResourcePools/get)。"
   ]
  },
  {
   "cell_type": "code",
   "execution_count": null,
   "metadata": {
    "id": "6wTLyhPraFah"
   },
   "outputs": [],
   "source": [
    "! curl -X GET \\\n",
    "-H \"Authorization: Bearer $(gcloud auth print-access-token)\" \\\n",
    "-H \"Content-Type: application/json\" \\\n",
    "https://{LOCATION}-aiplatform.googleapis.com/v1beta1/projects/{PROJECT_ID}/locations/{LOCATION}/deploymentResourcePools/{DEPLOYMENT_RESOURCE_POOL_ID}"
   ]
  },
  {
   "cell_type": "markdown",
   "metadata": {
    "id": "gBQyGl-7aaZC"
   },
   "source": [
    "列出所有部署资源池\n",
    "\n",
    "使用`ListDeploymentResourcePools` API来列出所有的部署资源池。\n",
    "\n",
    "了解更多关于[列出部署资源池](https://cloud.google.com/vertex-ai/docs/reference/rest/v1beta1/projects.locations.deploymentResourcePools/list)。"
   ]
  },
  {
   "cell_type": "code",
   "execution_count": null,
   "metadata": {
    "id": "Pxls4sNnaltU"
   },
   "outputs": [],
   "source": [
    "! curl -X GET \\\n",
    "-H \"Authorization: Bearer $(gcloud auth print-access-token)\" \\\n",
    "-H \"Content-Type: application/json\" \\\n",
    "https://{LOCATION}-aiplatform.googleapis.com/v1beta1/projects/{PROJECT_ID}/locations/{LOCATION}/deploymentResourcePools"
   ]
  },
  {
   "cell_type": "markdown",
   "metadata": {
    "id": "628de0914ba1"
   },
   "source": [
    "## 创建两个 `Endpoint` 资源\n",
    "\n",
    "接下来，您可以使用 `Endpoint.create()` 方法创建两个 `Endpoint` 资源。最少需要指定端点的显示名称。可选地，您可以指定项目和位置（location）；否则，设置将继承您在使用 `init()` 方法初始化 Vertex AI SDK for Python 时设置的值。\n",
    "\n",
    "在此示例中，指定了以下参数：\n",
    "\n",
    "- `display_name`：`Endpoint` 资源的可读名称。\n",
    "\n",
    "此方法返回一个 `Endpoint` 对象。\n",
    "\n",
    "了解更多关于 [Vertex AI Endpoints](https://cloud.google.com/vertex-ai/docs/predictions/deploy-model-api)。"
   ]
  },
  {
   "cell_type": "code",
   "execution_count": null,
   "metadata": {
    "id": "0ea443f9593b"
   },
   "outputs": [],
   "source": [
    "endpoint_icn = aiplatform.Endpoint.create(display_name=\"icn\")\n",
    "\n",
    "print(endpoint_icn)\n",
    "\n",
    "endpoint_use = aiplatform.Endpoint.create(display_name=\"use\")\n",
    "\n",
    "print(endpoint_use)"
   ]
  },
  {
   "cell_type": "markdown",
   "metadata": {
    "id": "azXkQSkjb3tv"
   },
   "source": [
    "## 在部署资源池中部署模型\n",
    "\n",
    "在创建模型和端点之后，您可以使用DeployModel API进行部署。请查看下面的CURL命令示例。请注意，您需要使用创建的资源池的部署资源名称来指定DeployedModel的`shared_resources`。\n",
    "\n",
    "可以同时启动相同部署资源池中的模型部署。\n",
    "\n",
    "### 部署图像分类模型\n",
    "\n",
    "接下来，您可以将图像分类模型部署到一个`Endpoint`上，并使用您的部署资源池。"
   ]
  },
  {
   "cell_type": "code",
   "execution_count": null,
   "metadata": {
    "id": "bEcQp8eUdHok"
   },
   "outputs": [],
   "source": [
    "SHARED_RESOURCE = \"projects/{project_id}/locations/{location}/deploymentResourcePools/{deployment_resource_pool_id}\".format(\n",
    "    project_id=PROJECT_ID,\n",
    "    location=LOCATION,\n",
    "    deployment_resource_pool_id=DEPLOYMENT_RESOURCE_POOL_ID,\n",
    ")\n",
    "\n",
    "DEPLOY_MODEL_PAYLOAD = {\n",
    "    \"deployedModel\": {\n",
    "        \"model\": model_icn.resource_name,\n",
    "        \"shared_resources\": SHARED_RESOURCE,\n",
    "        \"enable_container_logging\": True,\n",
    "    },\n",
    "    \"trafficSplit\": {\"0\": 100},\n",
    "}\n",
    "DEPLOY_MODEL_REQUEST = json.dumps(DEPLOY_MODEL_PAYLOAD)\n",
    "pp.pprint(\"DEPLOY_MODEL_REQUEST: \" + DEPLOY_MODEL_REQUEST)"
   ]
  },
  {
   "cell_type": "code",
   "execution_count": null,
   "metadata": {
    "id": "92c2036684b3"
   },
   "outputs": [],
   "source": [
    "ENDPOINT_ID = endpoint_icn.name\n",
    "\n",
    "output = ! curl -X POST \\\n",
    " -H \"Authorization: Bearer $(gcloud auth print-access-token)\" \\\n",
    " -H \"Content-Type: application/json\" \\\n",
    "https://{LOCATION}-aiplatform.googleapis.com/v1beta1/projects/{PROJECT_ID}/locations/{LOCATION}/endpoints/{ENDPOINT_ID}:deployModel \\\n",
    "-d '{DEPLOY_MODEL_REQUEST}'\n",
    "\n",
    "for line in output:\n",
    "    if '\"name\"' in line:\n",
    "        operation_id = line.split(\":\")[-1].strip()[:-1]\n",
    "        print(operation_id)\n",
    "        break"
   ]
  },
  {
   "cell_type": "markdown",
   "metadata": {
    "id": "a5053c9db02a"
   },
   "source": [
    "等待部署完成\n",
    "\n",
    "接着，您查询操作的状态，并等待操作状态`done`被设置为`true`。"
   ]
  },
  {
   "cell_type": "code",
   "execution_count": null,
   "metadata": {
    "id": "563db25caa5c"
   },
   "outputs": [],
   "source": [
    "import time\n",
    "\n",
    "done = False\n",
    "while done != '\"done\": true':\n",
    "    status = ! curl -X GET \\\n",
    " -H \"Authorization: Bearer $(gcloud auth print-access-token)\" \\\n",
    " -H \"Content-Type: application/json\" \\\n",
    "https://{LOCATION}-aiplatform.googleapis.com/v1beta1/{operation_id}\n",
    "    for line in status:\n",
    "        if '\"done\"' in line.strip():\n",
    "            done = line.strip()[0:-1]\n",
    "    print(\"DONE status:\", done)\n",
    "    time.sleep(30)"
   ]
  },
  {
   "cell_type": "markdown",
   "metadata": {
    "id": "68ceccf7a8a7"
   },
   "source": [
    "### 部署文本句子编码模型\n",
    "\n",
    "接下来，您可以使用部署资源池将文本句子编码模型部署到一个 `Endpoint`。"
   ]
  },
  {
   "cell_type": "code",
   "execution_count": null,
   "metadata": {
    "id": "bEcQp8eUdHok"
   },
   "outputs": [],
   "source": [
    "DEPLOY_MODEL_PAYLOAD = {\n",
    "    \"deployedModel\": {\n",
    "        \"model\": model_use.resource_name,\n",
    "        \"shared_resources\": SHARED_RESOURCE,\n",
    "        \"enable_container_logging\": True,\n",
    "    },\n",
    "    \"trafficSplit\": {\"0\": 100},\n",
    "}\n",
    "DEPLOY_MODEL_REQUEST = json.dumps(DEPLOY_MODEL_PAYLOAD)\n",
    "pp.pprint(\"DEPLOY_MODEL_REQUEST: \" + DEPLOY_MODEL_REQUEST)"
   ]
  },
  {
   "cell_type": "code",
   "execution_count": null,
   "metadata": {
    "id": "288acc79c173"
   },
   "outputs": [],
   "source": [
    "ENDPOINT_ID = endpoint_use.name\n",
    "\n",
    "output = ! curl -X POST \\\n",
    " -H \"Authorization: Bearer $(gcloud auth print-access-token)\" \\\n",
    " -H \"Content-Type: application/json\" \\\n",
    "https://{LOCATION}-aiplatform.googleapis.com/v1beta1/projects/{PROJECT_ID}/locations/{LOCATION}/endpoints/{ENDPOINT_ID}:deployModel \\\n",
    "-d '{DEPLOY_MODEL_REQUEST}'\n",
    "\n",
    "for line in output:\n",
    "    if '\"name\"' in line:\n",
    "        operation_id = line.split(\":\")[-1].strip()[:-1]\n",
    "        print(operation_id)\n",
    "        break"
   ]
  },
  {
   "cell_type": "markdown",
   "metadata": {
    "id": "87ba1aa4e0b0"
   },
   "source": [
    "等待部署完成\n",
    "\n",
    "接下来，您查询操作的状态，等待操作状态 `done` 被设置为 `true`。"
   ]
  },
  {
   "cell_type": "code",
   "execution_count": null,
   "metadata": {
    "id": "5b075d6ec099"
   },
   "outputs": [],
   "source": [
    "done = False\n",
    "while done != '\"done\": true':\n",
    "    status = ! curl -X GET \\\n",
    " -H \"Authorization: Bearer $(gcloud auth print-access-token)\" \\\n",
    " -H \"Content-Type: application/json\" \\\n",
    "https://{LOCATION}-aiplatform.googleapis.com/v1beta1/{operation_id}\n",
    "    for line in status:\n",
    "        if '\"done\"' in line.strip():\n",
    "            done = line.strip()[0:-1]\n",
    "    print(\"DONE status:\", done)\n",
    "    time.sleep(30)"
   ]
  },
  {
   "cell_type": "markdown",
   "metadata": {
    "id": "033a5bfb969c"
   },
   "source": [
    "### 创建测试示例图像分类模型\n",
    "\n",
    "接下来，测试您部署的图像分类模型。首先，将您的测试数据编码为用于服务功能的格式：\n",
    "\n",
    "`{ serving_input: { 'b64': base64编码的字节 } }`"
   ]
  },
  {
   "cell_type": "code",
   "execution_count": null,
   "metadata": {
    "id": "54947579cdf7"
   },
   "outputs": [],
   "source": [
    "! gsutil cp gs://cloud-ml-data/img/flower_photos/daisy/100080576_f52e8ee070_n.jpg test.jpg\n",
    "\n",
    "import base64\n",
    "\n",
    "with open(\"test.jpg\", \"rb\") as f:\n",
    "    data = f.read()\n",
    "b64str = base64.b64encode(data).decode(\"utf-8\")"
   ]
  },
  {
   "cell_type": "markdown",
   "metadata": {
    "id": "fdf3dd237d32"
   },
   "source": [
    "最后，您发出一个预测请求。由于模型是在ImageNet上训练的，预测会返回对应的1000个类别的概率。"
   ]
  },
  {
   "cell_type": "code",
   "execution_count": null,
   "metadata": {
    "id": "predict_request:mbsdk,custom,icn"
   },
   "outputs": [],
   "source": [
    "# The format of each instance should conform to the deployed model's prediction input schema.\n",
    "instances = [{serving_input_icn: {\"b64\": b64str}}]\n",
    "\n",
    "prediction = endpoint_icn.predict(instances=instances)\n",
    "\n",
    "print(prediction)"
   ]
  },
  {
   "cell_type": "markdown",
   "metadata": {
    "id": "033a5bfb969c"
   },
   "source": [
    "创建一个测试示例文本句子编码器模型\n",
    "\n",
    "接下来，您需要测试已部署的文本句子编码器模型。首先，您需要为提供功能对测试数据进行编码，数据格式如下：\n",
    "\n",
    "`\"word1 word2 ... wordN\"`"
   ]
  },
  {
   "cell_type": "code",
   "execution_count": null,
   "metadata": {
    "id": "3dd85e9ce024"
   },
   "outputs": [],
   "source": [
    "instance = \"the brown fox jumped over the laxy dog\""
   ]
  },
  {
   "cell_type": "markdown",
   "metadata": {
    "id": "e3185c34f59c"
   },
   "source": [
    "### 为文本句子编码器模型进行预测请求\n",
    "\n",
    "最后，您发出一个预测请求。预测会返回一个包含500个元素的嵌入向量。"
   ]
  },
  {
   "cell_type": "code",
   "execution_count": null,
   "metadata": {
    "id": "96877270ec07"
   },
   "outputs": [],
   "source": [
    "endpoint_use.predict([instance])"
   ]
  },
  {
   "cell_type": "markdown",
   "metadata": {
    "id": "cleanup"
   },
   "source": [
    "清理资源\n",
    "\n",
    "要清理此项目中使用的所有Google Cloud资源，您可以[删除用于本教程的Google Cloud项目](https://cloud.google.com/resource-manager/docs/creating-managing-projects#shutting_down_projects)。\n",
    "\n",
    "否则，您可以删除在本教程中创建的各个资源。"
   ]
  },
  {
   "cell_type": "code",
   "execution_count": null,
   "metadata": {
    "id": "cleanup"
   },
   "outputs": [],
   "source": [
    "# Set this to true only if you'd like to delete your bucket\n",
    "delete_bucket = False\n",
    "\n",
    "if delete_bucket:\n",
    "    ! gsutil rm -r $BUCKET_URI\n",
    "\n",
    "# Undeploy the models\n",
    "# When you're done doing predictions, you undeploy the model from the `Endpoint` resouce. \n",
    "# This deprovisions all compute resources and ends billing for the deployed model.\n",
    "endpoint_icn.undeploy_all()\n",
    "endpoint_use.undeploy_all()\n",
    "\n",
    "# Delete the `Endpoint` resources\n",
    "# The method 'delete()' deletes the model.\n",
    "model_icn.delete()\n",
    "model_use.delete()\n",
    "\n",
    "# Delete the `Endpoint` resources\n",
    "# The method 'delete()' deletes the endpoint.\n",
    "endpoint_icn.delete()\n",
    "endpoint_use.delete()\n",
    "\n",
    "# Delete the `DeploymentResourcePool`\n",
    "# The method 'delete()' deletes your deployment resource pool.\n",
    "! curl -X DELETE \\\n",
    "-H \"Authorization: Bearer $(gcloud auth print-access-token)\" \\\n",
    "-H \"Content-Type: application/json\" \\\n",
    "https://{LOCATION}-aiplatform.googleapis.com/v1beta1/projects/{PROJECT_ID}/locations/{LOCATION}/deploymentResourcePools/{DEPLOYMENT_RESOURCE_POOL_ID}\n",
    "\n",
    "!rm -f test.jpg"
   ]
  }
 ],
 "metadata": {
  "colab": {
   "name": "get_started_with_vertex_endpoint_and_shared_vm.ipynb",
   "toc_visible": true
  },
  "kernelspec": {
   "display_name": "Python 3",
   "name": "python3"
  }
 },
 "nbformat": 4,
 "nbformat_minor": 0
}
