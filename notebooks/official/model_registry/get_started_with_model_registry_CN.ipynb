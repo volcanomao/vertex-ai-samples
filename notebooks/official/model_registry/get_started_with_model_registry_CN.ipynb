{
 "cells": [
  {
   "cell_type": "code",
   "execution_count": null,
   "metadata": {
    "id": "ur8xi4C7S06n"
   },
   "outputs": [],
   "source": [
    "# Copyright 2022 Google LLC\n",
    "#\n",
    "# Licensed under the Apache License, Version 2.0 (the \"License\");\n",
    "# you may not use this file except in compliance with the License.\n",
    "# You may obtain a copy of the License at\n",
    "#\n",
    "#     https://www.apache.org/licenses/LICENSE-2.0\n",
    "#\n",
    "# Unless required by applicable law or agreed to in writing, software\n",
    "# distributed under the License is distributed on an \"AS IS\" BASIS,\n",
    "# WITHOUT WARRANTIES OR CONDITIONS OF ANY KIND, either express or implied.\n",
    "# See the License for the specific language governing permissions and\n",
    "# limitations under the License."
   ]
  },
  {
   "cell_type": "markdown",
   "metadata": {
    "id": "title:generic,gcp"
   },
   "source": [
    "# 开始使用Vertex AI模型注册表\n",
    "<table align=\"left\">\n",
    "  <td style=\"text-align: center\">\n",
    "    <a href=\"https://colab.research.google.com/github/GoogleCloudPlatform/vertex-ai-samples/blob/main/notebooks/official/model_registry/get_started_with_model_registry.ipynb\">\n",
    "      <img width=\"32px\" src=\"https://cloud.google.com/ml-engine/images/colab-logo-32px.png\" alt=\"Google Colaboratory logo\"><br> 在Colab中打开\n",
    "    </a>\n",
    "  </td>\n",
    "  <td style=\"text-align: center\">\n",
    "    <a href=\"https://console.cloud.google.com/vertex-ai/colab/import/https:%2F%2Fraw.githubusercontent.com%2FGoogleCloudPlatform%2Fvertex-ai-samples%2Fmain%2Fnotebooks%2Fofficial%2Fmodel_registry%2Fget_started_with_model_registry.ipynb\">\n",
    "      <img width=\"32px\" src=\"https://cloud.google.com/ml-engine/images/colab-enterprise-logo-32px.png\" alt=\"Google Cloud Colab Enterprise logo\"><br> 在Colab企业版中打开\n",
    "    </a>\n",
    "  </td>\n",
    "  <td style=\"text-align: center\">\n",
    "    <a href=\"https://console.cloud.google.com/vertex-ai/workbench/deploy-notebook?download_url=https://raw.githubusercontent.com/GoogleCloudPlatform/vertex-ai-samples/blob/main/notebooks/official/model_registry/get_started_with_model_registry.ipynb\">\n",
    "      <img src=\"https://lh3.googleusercontent.com/UiNooY4LUgW_oTvpsNhPpQzsstV5W8F7rYgxgGBD85cWJoLmrOzhVs_ksK_vgx40SHs7jCqkTkCk=e14-rj-sc0xffffff-h130-w32\" alt=\"Vertex AI logo\"><br> 在Vertex AI Workbench中打开\n",
    "    </a>\n",
    "  </td>\n",
    "  <td style=\"text-align: center\">\n",
    "    <a href=\"https://github.com/GoogleCloudPlatform/vertex-ai-samples/blob/main/notebooks/official/model_registry/get_started_with_model_registry.ipynb\">\n",
    "      <img width=\"32px\" src=\"https://cloud.google.com/ml-engine/images/github-logo-32px.png\" alt=\"GitHub logo\"><br> 在GitHub上查看\n",
    "    </a>\n",
    "  </td>\n",
    "</table>"
   ]
  },
  {
   "cell_type": "markdown",
   "metadata": {
    "id": "tvgnzT1CKxrO"
   },
   "source": [
    "## 概述\n",
    "\n",
    "本教程演示了如何使用Vertex AI SDK在Vertex AI模型注册表中创建和注册多个模型版本。\n",
    "\n",
    "了解更多关于[Vertex AI模型注册表](https://cloud.google.com/vertex-ai/docs/model-registry/introduction)。"
   ]
  },
  {
   "cell_type": "markdown",
   "metadata": {
    "id": "c9402cfbdc2d"
   },
   "source": [
    "### 目标\n",
    "\n",
    "在本教程中，您将学习如何使用Vertex AI模型注册表来创建和登记模型的多个版本。\n",
    "\n",
    "本教程使用以下Vertex AI服务和资源：\n",
    "\n",
    "- Vertex AI模型注册表\n",
    "- Vertex AI模型资源\n",
    "- Vertex AI终端资源\n",
    "\n",
    "执行的步骤包括：\n",
    "\n",
    "- 创建并注册第一个版本的模型到Vertex AI模型注册表。\n",
    "- 创建并注册第二个版本的模型到Vertex AI模型注册表。\n",
    "- 更新默认的模型版本。\n",
    "- 删除模型版本。\n",
    "- 重新训练下一个模型版本。"
   ]
  },
  {
   "cell_type": "markdown",
   "metadata": {
    "id": "dataset:iris,lcn"
   },
   "source": [
    "### 模型\n",
    "\n",
    "本教程使用了来自TensorFlow Hub的预训练图像分类模型，该模型是在ImageNet数据集上训练的。\n",
    "\n",
    "了解更多关于[ResNet V2预训练模型](https://tfhub.dev/google/imagenet/resnet_v2_101/classification/5)。"
   ]
  },
  {
   "cell_type": "markdown",
   "metadata": {
    "id": "costs"
   },
   "source": [
    "成本\n",
    "\n",
    "本教程使用 Google Cloud 的收费组件：\n",
    "\n",
    "* Vertex AI\n",
    "* Cloud Storage\n",
    "\n",
    "了解 [Vertex AI 价格](https://cloud.google.com/vertex-ai/pricing) 和 [Cloud Storage 价格](https://cloud.google.com/storage/pricing)，并使用 [定价计算器](https://cloud.google.com/products/calculator/) 根据您的预期使用情况生成成本估算。"
   ]
  },
  {
   "cell_type": "markdown",
   "metadata": {
    "id": "before_you_begin"
   },
   "source": [
    "开始吧"
   ]
  },
  {
   "cell_type": "markdown",
   "metadata": {
    "id": "03e8f85b941d"
   },
   "source": [
    "### GPU运行时\n",
    "\n",
    "*如果有这个选项，请确保在GPU运行时下运行此笔记本。在Colab中，选择* **运行时 > 更改运行时类型 > GPU。**"
   ]
  },
  {
   "cell_type": "markdown",
   "metadata": {
    "id": "e5d353aa47ac"
   },
   "source": [
    "### 为 Python 安装 Vertex AI SDK 和其他所需的软件包"
   ]
  },
  {
   "cell_type": "code",
   "execution_count": null,
   "metadata": {
    "id": "install_aip"
   },
   "outputs": [],
   "source": [
    "# Install the packages\n",
    "USER=''\n",
    "! pip3 install {USER} --upgrade --quiet google-cloud-aiplatform \\\n",
    "                                        tensorflow==2.15.1 \\\n",
    "                                        tensorflow-hub"
   ]
  },
  {
   "cell_type": "markdown",
   "metadata": {
    "id": "16220914acc5"
   },
   "source": [
    "### 重新启动运行时（仅适用于Colab）\n",
    "\n",
    "为了使用新安装的包，您必须重新启动Google Colab上的运行时。"
   ]
  },
  {
   "cell_type": "code",
   "execution_count": null,
   "metadata": {
    "id": "157953ab28f0"
   },
   "outputs": [],
   "source": [
    "import sys\n",
    "\n",
    "if \"google.colab\" in sys.modules:\n",
    "\n",
    "    import IPython\n",
    "\n",
    "    app = IPython.Application.instance()\n",
    "    app.kernel.do_shutdown(True)"
   ]
  },
  {
   "cell_type": "markdown",
   "metadata": {
    "id": "c87a2a5d7e35"
   },
   "source": [
    "<div class=\"alert alert-block alert-warning\">\n",
    "<b>⚠️内核将重新启动。请等待完成后再继续进行下一步。⚠️</b>\n",
    "</div>"
   ]
  },
  {
   "cell_type": "markdown",
   "metadata": {
    "id": "5dccb1c8feb6"
   },
   "source": [
    "### 验证您的笔记本环境（仅适用于Colab）\n",
    "\n",
    "在Google Colab上验证您的环境。"
   ]
  },
  {
   "cell_type": "code",
   "execution_count": null,
   "metadata": {
    "id": "cc7251520a07"
   },
   "outputs": [],
   "source": [
    "import sys\n",
    "\n",
    "if \"google.colab\" in sys.modules:\n",
    "\n",
    "    from google.colab import auth\n",
    "\n",
    "    auth.authenticate_user()"
   ]
  },
  {
   "cell_type": "markdown",
   "metadata": {
    "id": "c2fc3d7b6bfa"
   },
   "source": [
    "设置Google Cloud项目信息并为Python初始化Vertex AI SDK\n",
    "\n",
    "要开始使用Vertex AI，您必须拥有现有的Google Cloud项目，并启用Vertex AI API。了解更多关于设置项目和开发环境的信息。"
   ]
  },
  {
   "cell_type": "code",
   "execution_count": null,
   "metadata": {
    "id": "set_project_id"
   },
   "outputs": [],
   "source": [
    "PROJECT_ID = \"[your-project-id]\"  # @param {type:\"string\"}\n",
    "\n",
    "# Set the project id\n",
    "! gcloud config set project {PROJECT_ID}\n",
    "\n",
    "LOCATION = \"us-central1\"  # @param {type: \"string\"}"
   ]
  },
  {
   "cell_type": "markdown",
   "metadata": {
    "id": "zgPO1eR3CYjk"
   },
   "source": [
    "创建一个云存储桶\n",
    "\n",
    "创建一个存储桶来存储中间产物，比如数据集。"
   ]
  },
  {
   "cell_type": "code",
   "execution_count": null,
   "metadata": {
    "id": "MzGDU7TWdts_"
   },
   "outputs": [],
   "source": [
    "BUCKET_URI = f\"gs://your-bucket-name-{PROJECT_ID}-unique\"  # @param {type:\"string\"}"
   ]
  },
  {
   "cell_type": "markdown",
   "metadata": {
    "id": "create_bucket"
   },
   "source": [
    "如果您的桶还不存在：运行以下单元格以创建您的云存储桶。"
   ]
  },
  {
   "cell_type": "code",
   "execution_count": null,
   "metadata": {
    "id": "create_bucket"
   },
   "outputs": [],
   "source": [
    "! gsutil mb -l $LOCATION $BUCKET_URI"
   ]
  },
  {
   "cell_type": "markdown",
   "metadata": {
    "id": "setup_vars"
   },
   "source": [
    "### 导入库"
   ]
  },
  {
   "cell_type": "code",
   "execution_count": null,
   "metadata": {
    "id": "import_aip:mbsdk"
   },
   "outputs": [],
   "source": [
    "import os\n",
    "\n",
    "import google.cloud.aiplatform as aip\n",
    "import tensorflow as tf\n",
    "import tensorflow_hub as hub"
   ]
  },
  {
   "cell_type": "markdown",
   "metadata": {
    "id": "init_aip:mbsdk"
   },
   "source": [
    "### 初始化 Python 的 Vertex AI SDK\n",
    "\n",
    "为您的项目和相应的存储桶初始化 Python 的 Vertex AI SDK。"
   ]
  },
  {
   "cell_type": "code",
   "execution_count": null,
   "metadata": {
    "id": "init_aip:mbsdk"
   },
   "outputs": [],
   "source": [
    "aip.init(project=PROJECT_ID, staging_bucket=BUCKET_URI)"
   ]
  },
  {
   "cell_type": "markdown",
   "metadata": {
    "id": "accelerators:training,cpu,prediction,cpu,mbsdk"
   },
   "source": [
    "设置硬件加速器\n",
    "\n",
    "您可以为训练和预测设置硬件加速器。\n",
    "\n",
    "设置变量`DEPLOY_GPU/DEPLOY_NGPU`以使用支持GPU的容器映像，并为虚拟机（VM）实例分配的GPU数量。例如，要使用一个具有4个Nvidia Tesla T4 GPU的GPU容器映像分配给每个VM，您可以指定：\n",
    "\n",
    "    (aip.gapic.AcceleratorType.NVIDIA_TESLA_T4, 4)\n",
    "\n",
    "否则，请指定`(None, None)`以使用一个在CPU上运行的容器映像。\n",
    "\n",
    "了解有关[您所在位置的硬件加速器支持](https://cloud.google.com/vertex-ai/docs/general/locations#accelerators)。\n",
    "\n",
    "*注意*：在2.3版本之前的TF中，GPU支持在此教程中加载自定义模型时会失败。这是一个已知问题，并已在TF 2.3中修复。这是由生成在serving函数中的静态图操作引起的。如果在您自己的自定义模型中遇到此问题，请使用支持GPU的TF 2.3容器映像。"
   ]
  },
  {
   "cell_type": "code",
   "execution_count": null,
   "metadata": {
    "id": "accelerators:training,cpu,prediction,cpu,mbsdk"
   },
   "outputs": [],
   "source": [
    "if os.getenv(\"IS_TESTING_DEPLOY_GPU\"):\n",
    "    DEPLOY_GPU, DEPLOY_NGPU = (\n",
    "        aiplatform.gapic.AcceleratorType.NVIDIA_TESLA_T4,\n",
    "        int(os.getenv(\"IS_TESTING_DEPLOY_GPU\")),\n",
    "    )\n",
    "else:\n",
    "    DEPLOY_GPU, DEPLOY_NGPU = (None, None)"
   ]
  },
  {
   "cell_type": "markdown",
   "metadata": {
    "id": "container:training,prediction"
   },
   "source": [
    "设置预构建的容器\n",
    "\n",
    "设置用于预测的预构建Docker容器镜像。\n",
    "\n",
    "有关最新列表，请参阅[用于预测的预构建容器](https://cloud.google.com/ai-platform-unified/docs/predictions/pre-built-containers)。"
   ]
  },
  {
   "cell_type": "code",
   "execution_count": null,
   "metadata": {
    "id": "container:training,prediction"
   },
   "outputs": [],
   "source": [
    "TF = \"2.13\".replace(\".\", \"-\")\n",
    "\n",
    "if DEPLOY_GPU:\n",
    "    DEPLOY_VERSION = \"tf2-gpu.{}\".format(TF)\n",
    "else:\n",
    "    DEPLOY_VERSION = \"tf2-cpu.{}\".format(TF)\n",
    "\n",
    "\n",
    "DEPLOY_IMAGE = \"{}-docker.pkg.dev/vertex-ai/prediction/{}:latest\".format(\n",
    "    LOCATION.split(\"-\")[0], DEPLOY_VERSION\n",
    ")\n",
    "\n",
    "print(\"Deployment:\", DEPLOY_IMAGE, DEPLOY_GPU, DEPLOY_NGPU)"
   ]
  },
  {
   "cell_type": "markdown",
   "metadata": {
    "id": "machine:training"
   },
   "source": [
    "#### 设置机器类型\n",
    "\n",
    "接下来，设置用于预测的机器类型。\n",
    "\n",
    "- 将变量 `DEPLOY_COMPUTE` 设置为配置用于预测的VM所使用的计算资源。\n",
    " - `机器类型`\n",
    "     - `n1-standard`: 每个vCPU 3.75GB 内存。\n",
    "     - `n1-highmem`: 每个vCPU 6.5GB 内存\n",
    "     - `n1-highcpu`: 每个vCPU 0.9 GB 内存\n",
    " - `vCPUs`: \\[2, 4, 8, 16, 32, 64, 96 \\]中的数量\n",
    "\n",
    "*注：您还可以使用n2和e2的机器类型进行训练和部署，但它们不支持GPU*。"
   ]
  },
  {
   "cell_type": "code",
   "execution_count": null,
   "metadata": {
    "id": "machine:training"
   },
   "outputs": [],
   "source": [
    "DEPLOY_COMPUTE = \"n1-standard-4\"\n",
    "print(\"Train machine type\", DEPLOY_COMPUTE)"
   ]
  },
  {
   "cell_type": "markdown",
   "metadata": {
    "id": "59c76b8e1285"
   },
   "source": [
    "## 模型注册表简介\n",
    "\n",
    "Vertex AI模型注册表服务为您提供了创建和组合多个模型资源版本的能力。通过版本控制，您可以：\n",
    "\n",
    "- 跨版本跟踪模型的渊源。\n",
    "- 设置默认版本，即被认可的版本。\n",
    "- 其他服务操作，如部署，会自动使用默认版本，无需特别指定版本。\n",
    "- 为各个版本分配别名，如开发、暂存和生产。"
   ]
  },
  {
   "cell_type": "markdown",
   "metadata": {
    "id": "d8128b8ff025"
   },
   "source": [
    "## 从 TensorFlow Hub 获取预训练模型\n",
    "\n",
    "为了演示目的，本教程使用了从 TensorFlow Hub（TFHub）获取的预训练模型的两个版本，然后将它们上传到 Vertex AI 模型注册表中，作为相同模型资源的版本 1 和版本 2。一旦您拥有了 Vertex AI 模型资源，模型版本就可以部署到 Vertex AI 终端资源上。\n",
    "\n",
    "### 下载预训练模型\n",
    "\n",
    "首先，您可以从 TensorFlow Hub 下载这两个版本的预训练模型。这些模型会以 TF.Keras 层的形式下载。为了最终确定模型，在这个示例中，您要创建一个带有下载的 TFHub 模型作为层的 `Sequential()` 模型，并指定模型的输入形状。"
   ]
  },
  {
   "cell_type": "code",
   "execution_count": null,
   "metadata": {
    "id": "c55fa4c826f7"
   },
   "outputs": [],
   "source": [
    "tfhub_model_v1 = tf.keras.Sequential(\n",
    "    [hub.KerasLayer(\"https://tfhub.dev/google/imagenet/resnet_v2_101/classification/5\")]\n",
    ")\n",
    "\n",
    "tfhub_model_v1.build([None, 224, 224, 3])\n",
    "\n",
    "tfhub_model_v1.summary()"
   ]
  },
  {
   "cell_type": "code",
   "execution_count": null,
   "metadata": {
    "id": "820ce0bdb2f7"
   },
   "outputs": [],
   "source": [
    "tfhub_model_v2 = tf.keras.Sequential(\n",
    "    [hub.KerasLayer(\"https://tfhub.dev/google/imagenet/resnet_v2_101/classification/5\")]\n",
    ")\n",
    "\n",
    "tfhub_model_v2.build([None, 128, 128, 3])\n",
    "\n",
    "tfhub_model_v2.summary()"
   ]
  },
  {
   "cell_type": "markdown",
   "metadata": {
    "id": "63de49055083"
   },
   "source": [
    "### 保存模型文件\n",
    "\n",
    "在这一点上，模型的两个版本都在内存中。接下来，将模型的文件保存到云存储位置。"
   ]
  },
  {
   "cell_type": "code",
   "execution_count": null,
   "metadata": {
    "id": "64618c713db9"
   },
   "outputs": [],
   "source": [
    "MODEL_V1_DIR = BUCKET_URI + \"/model/v1\"\n",
    "tfhub_model_v1.save(MODEL_V1_DIR)\n",
    "\n",
    "MODEL_V2_DIR = BUCKET_URI + \"/model/v2\"\n",
    "tfhub_model_v2.save(MODEL_V2_DIR)"
   ]
  },
  {
   "cell_type": "markdown",
   "metadata": {
    "id": "e8ce91147c93"
   },
   "source": [
    "### 将TensorFlow Hub模型的版本1上传到Vertex AI模型资源\n",
    "\n",
    "接下来，将模型的第一个版本（`MODEL_DIR_V1`）作为模型资源上传到Vertex AI模型注册表中，并附加以下参数：\n",
    "\n",
    "- `is_default_version`：此是否为模型资源的默认版本。\n",
    "- `version_ailiases`：用户定义的模型版本的备用别名列表，例如`production`。\n",
    "- `version_description`：模型版本的用户描述。\n",
    "\n",
    "当在Vertex AI模型注册表中创建第一个模型版本时，属性`version_id`会自动设置为1。"
   ]
  },
  {
   "cell_type": "code",
   "execution_count": null,
   "metadata": {
    "id": "ad61e1429512"
   },
   "outputs": [],
   "source": [
    "model_v1 = aip.Model.upload(\n",
    "    display_name=\"example_\",\n",
    "    artifact_uri=MODEL_V1_DIR,\n",
    "    serving_container_image_uri=DEPLOY_IMAGE,\n",
    "    is_default_version=True,\n",
    "    version_aliases=[\"v1\"],\n",
    "    version_description=\"This is the first version of the model\",\n",
    ")\n",
    "\n",
    "print(model_v1)"
   ]
  },
  {
   "cell_type": "markdown",
   "metadata": {
    "id": "b3a3993dc813"
   },
   "source": [
    "将TensorFlow Hub模型的第2版上传到Vertex AI模型资源\n",
    "\n",
    "接下来，将第二个版本的模型（`MODEL_DIR_V1`）作为模型资源上传到Vertex AI模型注册表中，并添加以下附加参数：\n",
    "\n",
    "- `parent_model`：要将此模型添加为下一个模型版本的现有模型资源。\n",
    "- `is_default_version`：这是否是模型资源的默认版本。在这个例子中，您从该模型的第一个版本默认更改为第二个版本。\n",
    "- `version_ailiases`：用户定义的用于模型版本的备用别名列表，例如`production`。\n",
    "- `version_description`：模型版本的用户描述。\n",
    "\n",
    "在Vertex AI模型注册表中创建后续模型版本时，属性`version_id`会自动递增。在这个例子中，它设置为2（第二版）。"
   ]
  },
  {
   "cell_type": "code",
   "execution_count": null,
   "metadata": {
    "id": "ad61e1429512"
   },
   "outputs": [],
   "source": [
    "model_v2 = aip.Model.upload(\n",
    "    display_name=\"example_\",\n",
    "    artifact_uri=MODEL_V2_DIR,\n",
    "    serving_container_image_uri=DEPLOY_IMAGE,\n",
    "    parent_model=model_v1.resource_name,\n",
    "    is_default_version=True,\n",
    "    version_aliases=[\"v2\"],\n",
    "    version_description=\"This is the second version of the model\",\n",
    ")\n",
    "\n",
    "print(model_v2)"
   ]
  },
  {
   "cell_type": "markdown",
   "metadata": {
    "id": "9484a0abda32"
   },
   "source": [
    "获取所有父模型的版本\n",
    "\n",
    "接下来，使用`version_registry.list_versions()`列出父模型的所有版本。"
   ]
  },
  {
   "cell_type": "code",
   "execution_count": null,
   "metadata": {
    "id": "1c9c1910bbea"
   },
   "outputs": [],
   "source": [
    "versions = model_v1.versioning_registry.list_versions()\n",
    "for version in versions:\n",
    "    print(version)"
   ]
  },
  {
   "cell_type": "markdown",
   "metadata": {
    "id": "195b5bb2d621"
   },
   "source": [
    "获取一个非父模型的所有版本\n",
    "\n",
    "您重复相同的操作，但这次使用非父模型。如您所见，无论您指定的模型是父模型还是非父模型，您都可以获取到所有版本。"
   ]
  },
  {
   "cell_type": "code",
   "execution_count": null,
   "metadata": {
    "id": "18d263316e52"
   },
   "outputs": [],
   "source": [
    "versions = model_v2.versioning_registry.list_versions()\n",
    "for version in versions:\n",
    "    print(version)"
   ]
  },
  {
   "cell_type": "markdown",
   "metadata": {
    "id": "a12974ec92d0"
   },
   "source": [
    "### 列出模型资源\n",
    "\n",
    "与模型资源相关的其余 Vertex AI SDK 方法会自动使用模型资源的默认版本。\n",
    "\n",
    "接下来，使用`list()`方法并陦用过滤器来获取您之前创建的模型资源。在这个例子中，有两个版本。第二个版本被设置为默认版本，所以`list()`方法只会返回版本2（默认版本）的信息。"
   ]
  },
  {
   "cell_type": "code",
   "execution_count": null,
   "metadata": {
    "id": "0ca3df00020a"
   },
   "outputs": [],
   "source": [
    "models = aip.Model.list(filter=\"display_name=example_\")\n",
    "print(\"Number of models:\", len(models))\n",
    "print(\"Version ID:\", models[0].version_id)\n",
    "\n",
    "model = models[0]"
   ]
  },
  {
   "cell_type": "markdown",
   "metadata": {
    "id": "6173a2f6d2be"
   },
   "source": [
    "### 更改默认模型版本\n",
    "\n",
    "接下来，使用`versioning_registry.add_version_aliases()`方法来更改模型资源的默认模型版本，使用以下参数：\n",
    "\n",
    "- `version`：指定此操作适用于哪个版本，由version_id指定。\n",
    "- `new_aliases`：要分配给指定版本的附加别名。\n",
    "\n",
    "在这个例子中，您可以引用特殊别名`default`来将此模型（版本1）更改为默认模型。\n",
    "\n",
    "接下来，使用`list()`方法，该方法现在返回模型的版本1，而不是版本2。"
   ]
  },
  {
   "cell_type": "code",
   "execution_count": null,
   "metadata": {
    "id": "4a74d1ff65a3"
   },
   "outputs": [],
   "source": [
    "model_v2.versioning_registry.add_version_aliases(new_aliases=[\"default\"], version=\"1\")\n",
    "\n",
    "models = aip.Model.list(filter=\"display_name=example_\")\n",
    "print(\"Number of models:\", len(models))\n",
    "print(\"Version ID:\", models[0].version_id)\n",
    "\n",
    "model = models[0]"
   ]
  },
  {
   "cell_type": "markdown",
   "metadata": {
    "id": "628de0914ba1"
   },
   "source": [
    "## 创建端点资源\n",
    "\n",
    "您可以使用`Endpoint.create()`方法创建端点资源。最低限度，您需要为端点指定显示名称。可选地，您可以指定项目和位置（区域）；否则，设置将继承您使用`init()`方法初始化Vertex AI SDK时设置的值。\n",
    "\n",
    "在此示例中，指定了以下参数：\n",
    "\n",
    "- `display_name`：端点资源的人类可读名称。\n",
    "- `project`：您的项目ID。\n",
    "- `location`：您的区域。\n",
    "- `labels`：（可选）以键/值对形式指定的端点的用户定义元数据。\n",
    "\n",
    "此方法返回一个端点对象。\n",
    "\n",
    "了解更多关于[Vertex AI端点](https://cloud.google.com/vertex-ai/docs/predictions/deploy-model-api)。"
   ]
  },
  {
   "cell_type": "code",
   "execution_count": null,
   "metadata": {
    "id": "0ea443f9593b"
   },
   "outputs": [],
   "source": [
    "endpoint = aip.Endpoint.create(\n",
    "    display_name=\"example_\",\n",
    "    project=PROJECT_ID,\n",
    "    location=LOCATION,\n",
    "    labels={\"your_key\": \"your_value\"},\n",
    ")\n",
    "\n",
    "print(endpoint)"
   ]
  },
  {
   "cell_type": "markdown",
   "metadata": {
    "id": "ca3fa3f6a894"
   },
   "source": [
    "将模型资源部署到端点资源。\n",
    "\n",
    "您可以将一个或多个Vertex AI模型资源实例部署到同一个端点。每个部署的Vertex AI模型资源都有自己的用于服务二进制文件的部署容器。\n",
    "\n",
    "*注意:* 对于此示例，您在上传模型构件到Vertex AI模型资源的上一步中指定了TFHub模型的部署容器。\n",
    "\n",
    "### 部署单个端点资源\n",
    "\n",
    "在下一个示例中，您将将Vertex AI模型资源的默认版本部署到一个Vertex AI端点资源。Vertex AI模型资源已经为其定义了部署容器镜像。要部署，您需要指定以下额外的配置设置：\n",
    "\n",
    "- 机器类型。\n",
    "- （如果有的话）GPU的类型和数量。\n",
    "- 静态、手动或自动缩放的VM实例。\n",
    "\n",
    "在此示例中，您将使用最少指定参数部署模型，如下：\n",
    "\n",
    "- `model`: 模型资源。\n",
    "- `deployed_model_displayed_name`: 部署的模型实例的易读名称。\n",
    "- `machine_type`: 每个VM实例的机器类型。\n",
    "\n",
    "由于资源的规定要求，这可能需要几分钟时间来提供。"
   ]
  },
  {
   "cell_type": "code",
   "execution_count": null,
   "metadata": {
    "id": "4e93b034a72f"
   },
   "outputs": [],
   "source": [
    "response = endpoint.deploy(\n",
    "    model=model,\n",
    "    deployed_model_display_name=\"example_\",\n",
    "    machine_type=DEPLOY_COMPUTE,\n",
    ")\n",
    "\n",
    "print(endpoint)"
   ]
  },
  {
   "cell_type": "markdown",
   "metadata": {
    "id": "f1ae5a228adb"
   },
   "source": [
    "获取部署模型的信息\n",
    "\n",
    "您可以从端点资源配置数据 `gca_resource.deployed_models` 中获取部署模型的部署设置。在本示例中，只部署了一个模型，因此引用下标 `[0]`。"
   ]
  },
  {
   "cell_type": "code",
   "execution_count": null,
   "metadata": {
    "id": "5864deb1fd90"
   },
   "outputs": [],
   "source": [
    "endpoint.gca_resource.deployed_models[0]"
   ]
  },
  {
   "cell_type": "markdown",
   "metadata": {
    "id": "3cf4e3ce528b"
   },
   "source": [
    "### 从端点资源中撤销模型资源\n",
    "\n",
    "当模型资源部署到端点资源时，部署的模型资源实例会被分配一个ID，通常被称为部署的模型ID。\n",
    "\n",
    "您可以使用`undeploy()`方法撤销特定的模型资源实例，参数如下:\n",
    "\n",
    "- `deployed_model_id`: 分配给部署模型的ID。"
   ]
  },
  {
   "cell_type": "code",
   "execution_count": null,
   "metadata": {
    "id": "69557a907de7"
   },
   "outputs": [],
   "source": [
    "deployed_model_id = endpoint.gca_resource.deployed_models[0].id\n",
    "print(deployed_model_id)\n",
    "\n",
    "endpoint.undeploy(deployed_model_id)"
   ]
  },
  {
   "cell_type": "markdown",
   "metadata": {
    "id": "947614f2df2a"
   },
   "source": [
    "### 删除模型版本\n",
    "\n",
    "要从 Vertex AI 模型注册表中删除一个模型的版本，您可以使用 `versioning_registry.delete_version()` 方法，并使用以下参数：\n",
    "\n",
    "- `version`: 可以是 `version_id` 或 `version_alias` 中的别名。\n",
    "\n",
    "*注意：* 您不能删除默认模型版本。"
   ]
  },
  {
   "cell_type": "code",
   "execution_count": null,
   "metadata": {
    "id": "bacd4e6397b9"
   },
   "outputs": [],
   "source": [
    "# Deletes a specific model version, as long as it isn't the default version.\n",
    "model.versioning_registry.delete_version(\"2\")\n",
    "\n",
    "versions = model.versioning_registry.list_versions()\n",
    "for version in versions:\n",
    "    print(version)"
   ]
  },
  {
   "cell_type": "markdown",
   "metadata": {
    "id": "874ec6278563"
   },
   "source": [
    "删除模型资源\n",
    "\n",
    "当您删除一个模型资源时，所有相关版本都会被删除。"
   ]
  },
  {
   "cell_type": "code",
   "execution_count": null,
   "metadata": {
    "id": "48589df0c4a9"
   },
   "outputs": [],
   "source": [
    "model.delete()"
   ]
  },
  {
   "cell_type": "markdown",
   "metadata": {
    "id": "6ad20dc04e3d"
   },
   "source": [
    "### 为Vertex AI Training指定模型版本\n",
    "\n",
    "在使用Vertex AI Training服务训练模型时，您可以指定经过训练的模型为Vertex AI模型注册表中的父模型，或者父模型的一个版本，通过向`run()`方法添加以下附加参数：\n",
    "\n",
    "- `parent_model`：要将此模型添加为下一个模型版本的现有模型资源。\n",
    "- `is_default_version`：是否为模型资源的默认版本。\n",
    "- `model_version_ailiases`：用户定义的模型版本的替代别名列表，例如`production`。\n",
    "- `model_version_description`：模型版本的用户描述。\n",
    "\n",
    "以下是一个示例用法：\n",
    "\n",
    "```\n",
    "# 该作业上传my-training-job模型的新版本，非默认版本\n",
    "job = aiplatform.CustomTrainingJob(\n",
    "   display_name=\"my-training-job\",\n",
    "   script_path=\"training_script.py\",\n",
    "   container_uri=\"us-docker.pkg.dev/vertex-ai/training/tf-cpu.2-2:latest\",\n",
    "   requirements=[\"gcsfs==0.7.1\"],\n",
    "   model_serving_container_image_uri=\"us-docker.pkg.dev/vertex-ai/prediction/tf2-cpu.2-2:latest\",\n",
    ")\n",
    "\n",
    "model = job.run(\n",
    "   my_dataset,\n",
    "   replica_count=1,\n",
    "   machine_type=\"n1-standard-4\",\n",
    "   accelerator_type='NVIDIA_TESLA_T4',\n",
    "   accelerator_count=1,\n",
    "   model_id='my-model'\n",
    "   model_version_aliases=[\"myalias\"],\n",
    "   model_version_description=\"My description\",\n",
    "   is_default_version=False,\n",
    ")\n",
    "\n",
    "```"
   ]
  },
  {
   "cell_type": "markdown",
   "metadata": {
    "id": "TpV-iwP9qw9c"
   },
   "source": [
    "## 清理\n",
    "\n",
    "要清理此项目中使用的所有Google Cloud资源，您可以[删除用于本教程的Google Cloud项目](https://cloud.google.com/resource-manager/docs/creating-managing-projects#shutting_down_projects)。\n",
    "\n",
    "否则，您可以删除在本教程中创建的各个资源。"
   ]
  },
  {
   "cell_type": "code",
   "execution_count": null,
   "metadata": {
    "id": "sx_vKniMq9ZX"
   },
   "outputs": [],
   "source": [
    "# Set this to true only if you'd like to delete your bucket\n",
    "delete_bucket = False\n",
    "\n",
    "if delete_bucket:\n",
    "    ! gsutil rm -rf {BUCKET_URI}\n",
    "\n",
    "# Undeploy the models and delete the endpoint resources\n",
    "try:\n",
    "    endpoint.undeploy_all()\n",
    "    endpoint.delete()\n",
    "except Exception as e:\n",
    "    print(e)"
   ]
  }
 ],
 "metadata": {
  "colab": {
   "collapsed_sections": [],
   "name": "get_started_with_model_registry.ipynb",
   "toc_visible": true
  },
  "kernelspec": {
   "display_name": "Python 3",
   "name": "python3"
  }
 },
 "nbformat": 4,
 "nbformat_minor": 0
}
