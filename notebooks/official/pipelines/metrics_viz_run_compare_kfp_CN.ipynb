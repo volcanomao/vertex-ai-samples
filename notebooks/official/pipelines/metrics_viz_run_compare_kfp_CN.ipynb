{
 "cells": [
  {
   "cell_type": "code",
   "execution_count": null,
   "metadata": {
    "id": "copyright"
   },
   "outputs": [],
   "source": [
    "# Copyright 2021 Google LLC\n",
    "#\n",
    "# Licensed under the Apache License, Version 2.0 (the \"License\");\n",
    "# you may not use this file except in compliance with the License.\n",
    "# You may obtain a copy of the License at\n",
    "#\n",
    "#     https://www.apache.org/licenses/LICENSE-2.0\n",
    "#\n",
    "# Unless required by applicable law or agreed to in writing, software\n",
    "# distributed under the License is distributed on an \"AS IS\" BASIS,\n",
    "# WITHOUT WARRANTIES OR CONDITIONS OF ANY KIND, either express or implied.\n",
    "# See the License for the specific language governing permissions and\n",
    "# limitations under the License."
   ]
  },
  {
   "cell_type": "markdown",
   "metadata": {
    "id": "title:generic"
   },
   "source": [
    "# Vertex AI管道：使用KFP SDK进行指标可视化和运行比较\n",
    "\n",
    "<table align=\"left\">\n",
    "  <td>\n",
    "    <a href=\"https://colab.research.google.com/github/GoogleCloudPlatform/vertex-ai-samples/blob/main/notebooks/official/pipelines/metrics_viz_run_compare_kfp.ipynb\">\n",
    "      <img src=\"https://cloud.google.com/ml-engine/images/colab-logo-32px.png\" alt=\"Colab logo\"> 在Colab中运行\n",
    "    </a>\n",
    "  </td>\n",
    "  <td>\n",
    "    <a href=\"https://github.com/GoogleCloudPlatform/vertex-ai-samples/blob/main/notebooks/official/pipelines/metrics_viz_run_compare_kfp.ipynb\">\n",
    "      <img src=\"https://cloud.google.com/ml-engine/images/github-logo-32px.png\" alt=\"GitHub logo\">\n",
    "      在GitHub上查看\n",
    "    </a>\n",
    "  </td>\n",
    "  <td>\n",
    "<a href=\"https://console.cloud.google.com/vertex-ai/workbench/deploy-notebook?download_url=https://raw.githubusercontent.com/GoogleCloudPlatform/vertex-ai-samples/main/notebooks/official/pipelines/metrics_viz_run_compare_kfp.ipynb\" target='_blank'>\n",
    "      <img src=\"https://lh3.googleusercontent.com/UiNooY4LUgW_oTvpsNhPpQzsstV5W8F7rYgxgGBD85cWJoLmrOzhVs_ksK_vgx40SHs7jCqkTkCk=e14-rj-sc0xffffff-h130-w32\" alt=\"Vertex AI logo\">\n",
    "      在Vertex AI Workbench中打开\n",
    "     </a>\n",
    "  </td>\n",
    "</table>\n",
    "<br/><br/><br/>"
   ]
  },
  {
   "cell_type": "markdown",
   "metadata": {
    "id": "overview:pipelines,metrics"
   },
   "source": [
    "## 概述\n",
    "\n",
    "本笔记本演示如何使用[Kubeflow Pipelines（KFP）SDK](https://www.kubeflow.org/docs/components/pipelines/)构建[Vertex AI Pipelines](https://cloud.google.com/vertex-ai/docs/pipelines)，生成模型指标和指标可视化，并比较管道运行情况。\n",
    "\n",
    "了解更多关于[Vertex AI Pipelines](https://cloud.google.com/vertex-ai/docs/pipelines/introduction)。"
   ]
  },
  {
   "cell_type": "markdown",
   "metadata": {
    "id": "objective:pipelines,metrics"
   },
   "source": [
    "### 目标\n",
    "\n",
    "在本教程中，您将学习如何使用KFP SDK构建生成评估指标的管道。\n",
    "\n",
    "本教程使用以下Google Cloud ML服务：\n",
    "\n",
    "- `Vertex AI Pipelines`\n",
    "\n",
    "执行的步骤包括：\n",
    "\n",
    "- 创建KFP组件：\n",
    "    - 为分类结果生成ROC曲线和混淆矩阵可视化\n",
    "    - 编写指标\n",
    "- 创建KFP管道。\n",
    "- 执行KFP管道\n",
    "- 比较管道运行中的指标"
   ]
  },
  {
   "cell_type": "markdown",
   "metadata": {
    "id": "dataset:wine,lcn,sklearn"
   },
   "source": [
    "数据集\n",
    "\n",
    "本教程使用的数据集是[葡萄酒数据集](https://archive.ics.uci.edu/ml/datasets/wine)来自[Scikit-learn内置数据集](https://scikit-learn.org/stable/datasets.html)。\n",
    "\n",
    "该数据集用于预测葡萄酒的产地。"
   ]
  },
  {
   "cell_type": "markdown",
   "metadata": {
    "id": "dataset:iris,lcn,sklearn"
   },
   "source": [
    "该教程使用的数据集是来自Scikit-learn内置数据集的鸢尾花数据集。\n",
    "\n",
    "该数据集预测了三种鸢尾花的类别：山鸢尾（setosa）、维吉尼亚鸢尾（virginica）和变色鸢尾（versicolor）。"
   ]
  },
  {
   "cell_type": "markdown",
   "metadata": {
    "id": "costs"
   },
   "source": [
    "### 成本\n",
    "\n",
    "本教程使用 Google Cloud 的计费组件：\n",
    "\n",
    "* Vertex AI\n",
    "* Cloud Storage\n",
    "\n",
    "了解 [Vertex AI 价格](https://cloud.google.com/vertex-ai/pricing) 和 [Cloud Storage 价格](https://cloud.google.com/storage/pricing)，并使用 [价格计算器](https://cloud.google.com/products/calculator/) 基于您的预测使用量生成成本估算。"
   ]
  },
  {
   "cell_type": "markdown",
   "metadata": {
    "id": "install_aip:mbsdk"
   },
   "source": [
    "安装\n",
    "\n",
    "安装执行此笔记本所需的软件包。"
   ]
  },
  {
   "cell_type": "code",
   "execution_count": null,
   "metadata": {
    "id": "install_aip:mbsdk"
   },
   "outputs": [],
   "source": [
    "import os\n",
    "\n",
    "! pip3 install --upgrade --quiet google-cloud-aiplatform \\\n",
    "                                 google-cloud-storage \\\n",
    "                                 kfp \\\n",
    "                                 google-cloud-pipeline-components\n",
    "\n",
    "if os.getenv(\"IS_TESTING\"):\n",
    "    ! pip3 install --upgrade matplotlib $USER_FLAG -q"
   ]
  },
  {
   "cell_type": "markdown",
   "metadata": {
    "id": "58707a750154"
   },
   "source": [
    "### 仅限Colab：取消下面的单元格注释以重新启动内核。"
   ]
  },
  {
   "cell_type": "code",
   "execution_count": null,
   "metadata": {
    "id": "f200f10a1da3"
   },
   "outputs": [],
   "source": [
    "# Automatically restart kernel after installs so that your environment can access the new packages\n",
    "# import IPython\n",
    "\n",
    "# app = IPython.Application.instance()\n",
    "# app.kernel.do_shutdown(True)"
   ]
  },
  {
   "cell_type": "markdown",
   "metadata": {
    "id": "BF1j6f9HApxa"
   },
   "source": [
    "##开始之前\n",
    "\n",
    "### 设置您的Google Cloud项目\n",
    "\n",
    "**无论您使用什么笔记本环境，以下步骤都是必需的。**\n",
    "\n",
    "1. [选择或创建一个Google Cloud项目](https://console.cloud.google.com/cloud-resource-manager)。当您首次创建帐户时，您将获得$300的免费信用额度，用于支付计算/存储成本。\n",
    "\n",
    "2. [确保您的项目已启用计费](https://cloud.google.com/billing/docs/how-to/modify-project)。\n",
    "\n",
    "3. [启用Vertex AI API]。\n",
    "\n",
    "4. 如果您在本地运行这个笔记本，您需要安装[Cloud SDK](https://cloud.google.com/sdk)。"
   ]
  },
  {
   "cell_type": "markdown",
   "metadata": {
    "id": "WReHDGG5g0XY"
   },
   "source": [
    "设置您的项目ID\n",
    "\n",
    "**如果您不知道您的项目ID**，请尝试以下操作：\n",
    "* 运行 `gcloud config list`。\n",
    "* 运行 `gcloud projects list`。\n",
    "* 查看支持页面：[查找项目ID](https://support.google.com/googleapi/answer/7014113)"
   ]
  },
  {
   "cell_type": "code",
   "execution_count": null,
   "metadata": {
    "id": "oM1iC_MfAts1"
   },
   "outputs": [],
   "source": [
    "PROJECT_ID = \"[your-project-id]\"  # @param {type:\"string\"}\n",
    "\n",
    "# Set the project id\n",
    "! gcloud config set project {PROJECT_ID}"
   ]
  },
  {
   "cell_type": "markdown",
   "metadata": {
    "id": "region"
   },
   "source": [
    "#### 区域\n",
    "\n",
    "您还可以更改 Vertex AI 使用的 “REGION” 变量。了解更多关于 [Vertex AI 区域](https://cloud.google.com/vertex-ai/docs/general/locations)。"
   ]
  },
  {
   "cell_type": "code",
   "execution_count": null,
   "metadata": {
    "id": "region"
   },
   "outputs": [],
   "source": [
    "REGION = \"us-central1\"  # @param {type: \"string\"}"
   ]
  },
  {
   "cell_type": "markdown",
   "metadata": {
    "id": "timestamp"
   },
   "source": [
    "UUID\n",
    "\n",
    "如果您正在进行实时教程会话，您可能会使用共享的测试账户或项目。为了避免在创建的资源上发生名称冲突，您可以为每个实例会话创建一个UUID，并将其附加到您在本教程中创建的资源名称上。"
   ]
  },
  {
   "cell_type": "code",
   "execution_count": null,
   "metadata": {
    "id": "timestamp"
   },
   "outputs": [],
   "source": [
    "import random\n",
    "import string\n",
    "\n",
    "\n",
    "# Generate a uuid of a specifed length(default=8)\n",
    "def generate_uuid(length: int = 8) -> str:\n",
    "    return \"\".join(random.choices(string.ascii_lowercase + string.digits, k=length))\n",
    "\n",
    "\n",
    "UUID = generate_uuid()"
   ]
  },
  {
   "cell_type": "markdown",
   "metadata": {
    "id": "gcp_authenticate"
   },
   "source": [
    "### 验证您的Google云帐户\n",
    "\n",
    "根据您的Jupyter环境，您可能需要手动进行身份验证。请按照以下相关说明进行操作。\n",
    "\n",
    "**1. Vertex AI Workbench**\n",
    "* 不需要进行任何操作，因为您已经完成了身份验证。\n",
    "\n",
    "**2. 本地JupyterLab实例，取消注释并运行:**"
   ]
  },
  {
   "cell_type": "code",
   "execution_count": null,
   "metadata": {
    "id": "ce6043da7b33"
   },
   "outputs": [],
   "source": [
    "# ! gcloud auth login"
   ]
  },
  {
   "cell_type": "markdown",
   "metadata": {
    "id": "0367eac06a10"
   },
   "source": [
    "3. 合作，取消注释并运行:"
   ]
  },
  {
   "cell_type": "code",
   "execution_count": null,
   "metadata": {
    "id": "21ad4dbb4a61"
   },
   "outputs": [],
   "source": [
    "# from google.colab import auth\n",
    "# auth.authenticate_user()"
   ]
  },
  {
   "cell_type": "markdown",
   "metadata": {
    "id": "c13224697bfb"
   },
   "source": [
    "查看如何授予您的服务帐户Cloud Storage权限，请访问https://cloud.google.com/storage/docs/gsutil/commands/iam#ch-examples。"
   ]
  },
  {
   "cell_type": "markdown",
   "metadata": {
    "id": "zgPO1eR3CYjk"
   },
   "source": [
    "创建一个云存储桶\n",
    "\n",
    "创建一个存储桶来存储中间产物，如数据集。\n",
    "\n",
    "- *{给笔记本作者的提示: 对于任何需要是唯一的用户提供的字符串（如存储桶名称或模型 ID），请在末尾添加“-unique”，以便进行适当的测试}*"
   ]
  },
  {
   "cell_type": "code",
   "execution_count": null,
   "metadata": {
    "id": "MzGDU7TWdts_"
   },
   "outputs": [],
   "source": [
    "BUCKET_URI = f\"gs://your-bucket-name-{PROJECT_ID}-unique\"  # @param {type:\"string\"}"
   ]
  },
  {
   "cell_type": "markdown",
   "metadata": {
    "id": "create_bucket"
   },
   "source": [
    "只有当您的存储桶尚不存在时：运行以下单元格以创建您的云存储桶。"
   ]
  },
  {
   "cell_type": "code",
   "execution_count": null,
   "metadata": {
    "id": "NIq7R4HZCfIc"
   },
   "outputs": [],
   "source": [
    "! gsutil mb -l {REGION} -p {PROJECT_ID} {BUCKET_URI}"
   ]
  },
  {
   "cell_type": "markdown",
   "metadata": {
    "id": "set_service_account"
   },
   "source": [
    "服务账号\n",
    "\n",
    "**如果您不知道您的服务账号**，请尝试使用`gcloud`命令通过执行下面的第二个单元格来获取您的服务账号。"
   ]
  },
  {
   "cell_type": "code",
   "execution_count": null,
   "metadata": {
    "id": "set_service_account"
   },
   "outputs": [],
   "source": [
    "SERVICE_ACCOUNT = \"[your-service-account]\"  # @param {type:\"string\"}"
   ]
  },
  {
   "cell_type": "code",
   "execution_count": null,
   "metadata": {
    "id": "autoset_service_account"
   },
   "outputs": [],
   "source": [
    "import sys\n",
    "\n",
    "IS_COLAB = \"google.colab\" in sys.modules\n",
    "\n",
    "if (\n",
    "    SERVICE_ACCOUNT == \"\"\n",
    "    or SERVICE_ACCOUNT is None\n",
    "    or SERVICE_ACCOUNT == \"[your-service-account]\"\n",
    "):\n",
    "    # Get your service account from gcloud\n",
    "    if not IS_COLAB:\n",
    "        shell_output = !gcloud auth list 2>/dev/null\n",
    "        SERVICE_ACCOUNT = shell_output[2].replace(\"*\", \"\").strip()\n",
    "\n",
    "    if IS_COLAB:\n",
    "        shell_output = ! gcloud projects describe  $PROJECT_ID\n",
    "        project_number = shell_output[-1].split(\":\")[1].strip().replace(\"'\", \"\")\n",
    "        SERVICE_ACCOUNT = f\"{project_number}-compute@developer.gserviceaccount.com\"\n",
    "\n",
    "    print(\"Service Account:\", SERVICE_ACCOUNT)"
   ]
  },
  {
   "cell_type": "markdown",
   "metadata": {
    "id": "set_service_account:pipelines"
   },
   "source": [
    "#### 为Vertex AI Pipelines设置服务账户访问权限\n",
    "\n",
    "运行以下命令为您的服务账户授予对在上一步创建的存储桶中的管道工件进行读取和写入的访问权限 — 您只需要针对每个服务账户运行一次这些命令。"
   ]
  },
  {
   "cell_type": "code",
   "execution_count": null,
   "metadata": {
    "id": "set_service_account:pipelines"
   },
   "outputs": [],
   "source": [
    "! gsutil iam ch serviceAccount:{SERVICE_ACCOUNT}:roles/storage.objectCreator $BUCKET_URI\n",
    "\n",
    "! gsutil iam ch serviceAccount:{SERVICE_ACCOUNT}:roles/storage.objectViewer $BUCKET_URI"
   ]
  },
  {
   "cell_type": "markdown",
   "metadata": {
    "id": "setup_vars"
   },
   "source": [
    "### 设置变量\n",
    "\n",
    "接下来，设置一些在本教程中使用的变量。\n",
    "### 导入库和定义常量"
   ]
  },
  {
   "cell_type": "code",
   "execution_count": null,
   "metadata": {
    "id": "import_aip:mbsdk"
   },
   "outputs": [],
   "source": [
    "import google.cloud.aiplatform as aip\n",
    "from kfp import compiler, dsl\n",
    "from kfp.dsl import ClassificationMetrics, Metrics, Output, component"
   ]
  },
  {
   "cell_type": "markdown",
   "metadata": {
    "id": "pipeline_constants"
   },
   "source": [
    "设置以下常量以用于Vertex AI Pipelines:"
   ]
  },
  {
   "cell_type": "code",
   "execution_count": null,
   "metadata": {
    "id": "pipeline_constants"
   },
   "outputs": [],
   "source": [
    "PIPELINE_ROOT = \"{}/pipeline_root/iris\".format(BUCKET_URI)"
   ]
  },
  {
   "cell_type": "markdown",
   "metadata": {
    "id": "init_aip:mbsdk"
   },
   "source": [
    "在此项目和对应的存储桶中初始化用于Python的Vertex AI SDK。"
   ]
  },
  {
   "cell_type": "code",
   "execution_count": null,
   "metadata": {
    "id": "init_aip:mbsdk"
   },
   "outputs": [],
   "source": [
    "aip.init(project=PROJECT_ID, staging_bucket=BUCKET_URI)"
   ]
  },
  {
   "cell_type": "markdown",
   "metadata": {
    "id": "define_component:wine_classification"
   },
   "source": [
    "### 使用scikit-learn定义流水线组件\n",
    "\n",
    "在这个部分，您定义了一些基于Python函数的组件，这些组件使用scikit-learn来训练一些分类器，并生成可视化的评估结果。\n",
    "\n",
    "请注意下面定义中使用的`@component()`装饰器。您可以选择设置组件安装的包列表；使用的基础镜像（默认为Python 3.7镜像）；以及生成组件YAML文件的名称，从而可以共享和重复使用组件定义。\n",
    "\n",
    "#### 定义wine_classification组件\n",
    "\n",
    "第一个组件展示了如何可视化*ROC曲线*。\n",
    "请注意函数定义中包含一个名为`wmetrics`的输出，类型为`Output[ClassificationMetrics]`。您可以在Cloud控制台的Pipelines用户界面中可视化这些指标。\n",
    "\n",
    "为了实现这一点，此示例使用了artifact的`log_roc_curve()`方法。该方法以假阳率、真阳率和阈值的数组作为输入，这些数组由[`sklearn.metrics.roc_curve`函数生成](https://scikit-learn.org/stable/modules/generated/sklearn.metrics.roc_curve.html)。\n",
    "\n",
    "当您评估下面的单元格时，将创建一个名为`wine_classification`的任务工厂函数，用于构建流水线定义。此外，将创建一个组件YAML文件，可以通过文件或URL进行共享和加载，以创建相同的任务工厂函数。"
   ]
  },
  {
   "cell_type": "code",
   "execution_count": null,
   "metadata": {
    "id": "define_component:wine_classification"
   },
   "outputs": [],
   "source": [
    "@component(packages_to_install=[\"scikit-learn==1.2.2\"], base_image=\"python:3.9\")\n",
    "def wine_classification(wmetrics: Output[ClassificationMetrics]):\n",
    "    from sklearn.datasets import load_wine\n",
    "    from sklearn.ensemble import RandomForestClassifier\n",
    "    from sklearn.metrics import roc_curve\n",
    "    from sklearn.model_selection import cross_val_predict, train_test_split\n",
    "\n",
    "    X, y = load_wine(return_X_y=True)\n",
    "    # Binary classification problem for label 1.\n",
    "    y = y == 1\n",
    "\n",
    "    X_train, X_test, y_train, y_test = train_test_split(X, y, random_state=42)\n",
    "    rfc = RandomForestClassifier(n_estimators=10, random_state=42)\n",
    "    rfc.fit(X_train, y_train)\n",
    "    y_scores = cross_val_predict(rfc, X_train, y_train, cv=3, method=\"predict_proba\")\n",
    "    fpr, tpr, thresholds = roc_curve(\n",
    "        y_true=y_train, y_score=y_scores[:, 1], pos_label=True\n",
    "    )\n",
    "    wmetrics.log_roc_curve(fpr, tpr, thresholds)\n",
    "\n",
    "\n",
    "compiler.Compiler().compile(wine_classification, \"wine_classification_component.yaml\")"
   ]
  },
  {
   "cell_type": "markdown",
   "metadata": {
    "id": "define_component:iris_sgdclassifier"
   },
   "source": [
    "#### 定义iris_sgdclassifier组件\n",
    "\n",
    "第二个组件展示了如何可视化一个*混淆矩阵*，在这种情况下，是针对使用`SGDClassifier`训练的模型。\n",
    "\n",
    "与之前的组件一样，您创建一个类型为`Output[ClassificationMetrics]`的`metricsc`输出工件。 然后，使用工件的`log_confusion_matrix`方法来可视化混淆矩阵结果，这是由[sklearn.metrics.confusion_matrix](https://scikit-learn.org/stable/modules/generated/sklearn.metrics.confusion_matrix.html)函数生成的。"
   ]
  },
  {
   "cell_type": "code",
   "execution_count": null,
   "metadata": {
    "id": "define_component:iris_sgdclassifier"
   },
   "outputs": [],
   "source": [
    "@component(packages_to_install=[\"scikit-learn==1.2.2\"], base_image=\"python:3.9\")\n",
    "def iris_sgdclassifier(\n",
    "    test_samples_fraction: float,\n",
    "    metricsc: Output[ClassificationMetrics],\n",
    "):\n",
    "    from sklearn import datasets, model_selection\n",
    "    from sklearn.linear_model import SGDClassifier\n",
    "    from sklearn.metrics import confusion_matrix\n",
    "\n",
    "    iris_dataset = datasets.load_iris()\n",
    "    train_x, test_x, train_y, test_y = model_selection.train_test_split(\n",
    "        iris_dataset[\"data\"],\n",
    "        iris_dataset[\"target\"],\n",
    "        test_size=test_samples_fraction,\n",
    "    )\n",
    "\n",
    "    classifier = SGDClassifier()\n",
    "    classifier.fit(train_x, train_y)\n",
    "    predictions = model_selection.cross_val_predict(classifier, train_x, train_y, cv=3)\n",
    "    metricsc.log_confusion_matrix(\n",
    "        [\"Setosa\", \"Versicolour\", \"Virginica\"],\n",
    "        confusion_matrix(\n",
    "            train_y, predictions\n",
    "        ).tolist(),  # .tolist() to convert np array to list.\n",
    "    )"
   ]
  },
  {
   "cell_type": "markdown",
   "metadata": {
    "id": "define_component:iris_logregression"
   },
   "source": [
    "#### 定义 iris_logregression 组件\n",
    "\n",
    "第三个组件也使用“iris”数据集，但训练一个 `LogisticRegression` 模型。 它在 `metrics` 输出 artifact 中记录模型的 `accuracy`。"
   ]
  },
  {
   "cell_type": "code",
   "execution_count": null,
   "metadata": {
    "id": "define_component:iris_logregression"
   },
   "outputs": [],
   "source": [
    "@component(\n",
    "    packages_to_install=[\"scikit-learn==1.2.2\"],\n",
    "    base_image=\"python:3.9\",\n",
    ")\n",
    "def iris_logregression(\n",
    "    input_seed: int,\n",
    "    split_count: int,\n",
    "    metrics: Output[Metrics],\n",
    "):\n",
    "    from sklearn import datasets, model_selection\n",
    "    from sklearn.linear_model import LogisticRegression\n",
    "\n",
    "    # Load digits dataset\n",
    "    iris = datasets.load_iris()\n",
    "    # # Create feature matrix\n",
    "    X = iris.data\n",
    "    # Create target vector\n",
    "    y = iris.target\n",
    "    # test size\n",
    "    test_size = 0.20\n",
    "\n",
    "    # cross-validation settings\n",
    "    kfold = model_selection.KFold(\n",
    "        n_splits=split_count, random_state=input_seed, shuffle=True\n",
    "    )\n",
    "    # Model instance\n",
    "    model = LogisticRegression()\n",
    "    scoring = \"accuracy\"\n",
    "    results = model_selection.cross_val_score(model, X, y, cv=kfold, scoring=scoring)\n",
    "    print(f\"results: {results}\")\n",
    "\n",
    "    # split data\n",
    "    X_train, X_test, y_train, y_test = model_selection.train_test_split(\n",
    "        X, y, test_size=test_size, random_state=input_seed\n",
    "    )\n",
    "    # fit model\n",
    "    model.fit(X_train, y_train)\n",
    "\n",
    "    # accuracy on test set\n",
    "    result = model.score(X_test, y_test)\n",
    "    print(f\"result: {result}\")\n",
    "    metrics.log_metric(\"accuracy\", (result * 100.0))"
   ]
  },
  {
   "cell_type": "markdown",
   "metadata": {
    "id": "define_pipeline:metrics"
   },
   "source": [
    "### 定义流水线\n",
    "\n",
    "接下来，定义一个简单的流水线，使用在前一节中创建的组件。"
   ]
  },
  {
   "cell_type": "code",
   "execution_count": null,
   "metadata": {
    "id": "define_pipeline:metrics"
   },
   "outputs": [],
   "source": [
    "PIPELINE_NAME = \"metrics-pipeline-v2\"\n",
    "\n",
    "\n",
    "@dsl.pipeline(\n",
    "    # Default pipeline root. You can override it when submitting the pipeline.\n",
    "    pipeline_root=PIPELINE_ROOT,\n",
    "    # A name for the pipeline.\n",
    "    name=\"metrics-pipeline-v2\",\n",
    ")\n",
    "def pipeline(seed: int, splits: int):\n",
    "    wine_classification_op = wine_classification()  # noqa: F841\n",
    "    iris_logregression_op = iris_logregression(  # noqa: F841\n",
    "        input_seed=seed, split_count=splits\n",
    "    )\n",
    "    iris_sgdclassifier_op = iris_sgdclassifier(test_samples_fraction=0.3)  # noqa: F841"
   ]
  },
  {
   "cell_type": "markdown",
   "metadata": {
    "id": "compile_pipeline"
   },
   "source": [
    "## 编译管道\n",
    "\n",
    "接下来，编译管道。"
   ]
  },
  {
   "cell_type": "code",
   "execution_count": null,
   "metadata": {
    "id": "compile_pipeline"
   },
   "outputs": [],
   "source": [
    "compiler.Compiler().compile(\n",
    "    pipeline_func=pipeline,\n",
    "    package_path=\"tabular_classification_pipeline.yaml\",\n",
    ")"
   ]
  },
  {
   "cell_type": "markdown",
   "metadata": {
    "id": "run_pipeline:metrics"
   },
   "source": [
    "运行管道\n",
    "\n",
    "接下来，运行管道。"
   ]
  },
  {
   "cell_type": "code",
   "execution_count": null,
   "metadata": {
    "id": "run_pipeline:metrics"
   },
   "outputs": [],
   "source": [
    "DISPLAY_NAME = \"iris_\" + UUID\n",
    "\n",
    "job = aip.PipelineJob(\n",
    "    display_name=DISPLAY_NAME,\n",
    "    template_path=\"tabular_classification_pipeline.yaml\",\n",
    "    job_id=f\"tabular-classification-v2{UUID}-1\",\n",
    "    pipeline_root=PIPELINE_ROOT,\n",
    "    parameter_values={\"seed\": 7, \"splits\": 10},\n",
    ")\n",
    "\n",
    "job.run()"
   ]
  },
  {
   "cell_type": "markdown",
   "metadata": {
    "id": "view_pipeline_run:metrics"
   },
   "source": [
    "点击生成的链接查看您在云控制台中的运行情况。\n",
    "\n",
    "<!-- 在运行时应该看起来像这样：\n",
    "\n",
    "<a href=\"https://storage.googleapis.com/amy-jo/images/mp/automl_tabular_classif.png\" target=\"_blank\"><img src=\"https://storage.googleapis.com/amy-jo/images/mp/automl_tabular_classif.png\" width=\"40%\"/></a> -->\n",
    "\n",
    "在用户界面中，当您点击它们时，许多管道DAG节点会展开或折叠。"
   ]
  },
  {
   "cell_type": "markdown",
   "metadata": {
    "id": "compare_pipeline_runs:ui"
   },
   "source": [
    "## 在用户界面中比较管道运行\n",
    "\n",
    "接下来，生成另一个使用不同的`seed`和`split`来运行`iris_logregression`步骤的管道运行。\n",
    "\n",
    "提交新的管道运行：\n",
    "\n",
    "\n",
    "**pipeline_root：** 指定一个 Cloud Storage URI，您的管道服务帐户可以访问。您的管道运行的工件存储在管道根目录中。\n",
    "\n",
    "**display_name：** 管道的名称，这将显示在 Google Cloud 控制台中。\n",
    "\n",
    "**parameter_values：** 传递给此运行的管道参数。例如，创建一个 dict()，其中参数名称为字典键，参数值为字典值。\n",
    "\n",
    "**job_id：** 此管道运行的唯一标识符。如果未指定作业 ID，则 Vertex AI Pipelines 会使用管道名称和管道运行开始时间戳为您创建作业 ID。\n",
    "\n",
    "**template_path：** 完整的管道路径"
   ]
  },
  {
   "cell_type": "code",
   "execution_count": null,
   "metadata": {
    "id": "compare_pipeline_runs:ui"
   },
   "outputs": [],
   "source": [
    "job = aip.PipelineJob(\n",
    "    display_name=\"iris_\" + UUID,\n",
    "    template_path=\"tabular_classification_pipeline.yaml\",\n",
    "    job_id=f\"tabular-classification-pipeline-v2{UUID}-2\",\n",
    "    pipeline_root=PIPELINE_ROOT,\n",
    "    parameter_values={\"seed\": 5, \"splits\": 7},\n",
    ")\n",
    "\n",
    "job.run()"
   ]
  },
  {
   "cell_type": "markdown",
   "metadata": {
    "id": "compare_pipeline_runs:ui"
   },
   "source": [
    "当两个流水线运行都完成后，通过在云控制台中导航到流水线运行列表，选择它们两个，并在控制台面板顶部点击**比较**来比较它们的结果。"
   ]
  },
  {
   "cell_type": "markdown",
   "metadata": {
    "id": "compare_pipeline_runs"
   },
   "source": [
    "比较从其跟踪的元数据中运行的管道的参数和指标\n",
    "\n",
    "接下来，您可以使用Python的Vertex AI SDK来比较管道运行的参数和指标。等到管道运行完成后再运行下一个单元。"
   ]
  },
  {
   "cell_type": "code",
   "execution_count": null,
   "metadata": {
    "id": "compare_pipeline_runs"
   },
   "outputs": [],
   "source": [
    "pipeline_df = aip.get_pipeline_df(pipeline=PIPELINE_NAME)\n",
    "print(pipeline_df.head(2))"
   ]
  },
  {
   "cell_type": "markdown",
   "metadata": {
    "id": "plot_coord_runs"
   },
   "source": [
    "### 绘制参数和度量的平行坐标\n",
    "\n",
    "通过在数据框中拥有度量和参数，您可以进行进一步的分析来提取有用的信息。下面的例子使用平行坐标图来比较每次运行的数据。"
   ]
  },
  {
   "cell_type": "code",
   "execution_count": null,
   "metadata": {
    "id": "plot_coord_runs"
   },
   "outputs": [],
   "source": [
    "import matplotlib.pyplot as plt\n",
    "import numpy as np\n",
    "import pandas as pd\n",
    "\n",
    "plt.rcParams[\"figure.figsize\"] = [15, 5]\n",
    "\n",
    "pipeline_df[\"param.input:seed\"] = pipeline_df[\"param.input:seed\"].astype(np.float16)\n",
    "pipeline_df[\"param.input:splits\"] = pipeline_df[\"param.input:splits\"].astype(np.float16)\n",
    "\n",
    "ax = pd.plotting.parallel_coordinates(\n",
    "    pipeline_df.reset_index(level=0),\n",
    "    \"run_name\",\n",
    "    cols=[\"param.input:seed\", \"param.input:splits\", \"metric.accuracy\"],\n",
    ")\n",
    "ax.set_yscale(\"symlog\")\n",
    "ax.legend(bbox_to_anchor=(1.0, 0.5))"
   ]
  },
  {
   "cell_type": "markdown",
   "metadata": {
    "id": "plot_roc_runs"
   },
   "source": [
    "绘制ROC曲线并计算AUC数值\n",
    "\n",
    "除了基本指标外，您还可以使用`get_pipeline_df`方法提取复杂指标并进行进一步分析。"
   ]
  },
  {
   "cell_type": "code",
   "execution_count": null,
   "metadata": {
    "id": "plot_roc_runs"
   },
   "outputs": [],
   "source": [
    "try:\n",
    "    df = pd.DataFrame(pipeline_df[\"metric.confidenceMetrics\"][0])\n",
    "    auc = np.trapz(df[\"recall\"], df[\"falsePositiveRate\"])\n",
    "    plt.plot(df[\"falsePositiveRate\"], df[\"recall\"], label=\"auc=\" + str(auc))\n",
    "    plt.legend(loc=4)\n",
    "    plt.show()\n",
    "except Exception as e:\n",
    "    print(e)"
   ]
  },
  {
   "cell_type": "markdown",
   "metadata": {
    "id": "cleanup:pipelines"
   },
   "source": [
    "# 清理\n",
    "\n",
    "要清理此项目中使用的所有Google Cloud资源，您可以[删除用于教程的Google Cloud项目](https://cloud.google.com/resource-manager/docs/creating-managing-projects#shutting_down_projects)。\n",
    "\n",
    "否则，您可以删除在此教程中创建的各个资源 -- *注意:* 这是自动生成的，不是所有资源都适用于此教程。"
   ]
  },
  {
   "cell_type": "code",
   "execution_count": null,
   "metadata": {
    "id": "cleanup:pipelines"
   },
   "outputs": [],
   "source": [
    "import os\n",
    "\n",
    "delete_bucket = False\n",
    "\n",
    "job.delete()\n",
    "if delete_bucket or os.getenv(\"IS_TESTING\"):\n",
    "    ! gsutil rm -r $BUCKET_URI\n",
    "\n",
    "! rm -rf tabular_classification_pipeline.yaml"
   ]
  }
 ],
 "metadata": {
  "colab": {
   "name": "metrics_viz_run_compare_kfp.ipynb",
   "toc_visible": true
  },
  "kernelspec": {
   "display_name": "Python 3",
   "name": "python3"
  }
 },
 "nbformat": 4,
 "nbformat_minor": 0
}
