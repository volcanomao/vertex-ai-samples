{
 "cells": [
  {
   "cell_type": "code",
   "execution_count": null,
   "metadata": {
    "id": "ur8xi4C7S06n"
   },
   "outputs": [],
   "source": [
    "# Copyright 2023 Google LLC\n",
    "#\n",
    "# Licensed under the Apache License, Version 2.0 (the \"License\");\n",
    "# you may not use this file except in compliance with the License.\n",
    "# You may obtain a copy of the License at\n",
    "#\n",
    "#     https://www.apache.org/licenses/LICENSE-2.0\n",
    "#\n",
    "# Unless required by applicable law or agreed to in writing, software\n",
    "# distributed under the License is distributed on an \"AS IS\" BASIS,\n",
    "# WITHOUT WARRANTIES OR CONDITIONS OF ANY KIND, either express or implied.\n",
    "# See the License for the specific language governing permissions and\n",
    "# limitations under the License."
   ]
  },
  {
   "cell_type": "markdown",
   "metadata": {
    "id": "JAPoU8Sm5E6e"
   },
   "source": [
    "挑战者 vs 受祝福方法在将模型部署到生产中的方法论\n",
    "\n",
    "<table align=\"left\">\n",
    "\n",
    "  <td>\n",
    "    <a href=\"https://colab.research.google.com/github/GoogleCloudPlatform/vertex-ai-samples/blob/main/notebooks/official/pipelines/challenger_vs_blessed_deployment_method.ipynb\">\n",
    "      <img src=\"https://cloud.google.com/ml-engine/images/colab-logo-32px.png\" alt=\"Colab logo\"> 在 Colab 中运行\n",
    "    </a>\n",
    "  </td>\n",
    "  <td>\n",
    "    <a href=\"https://github.com/GoogleCloudPlatform/vertex-ai-samples/blob/main/notebooks/official/pipelines/challenger_vs_blessed_deployment_method.ipynb\">\n",
    "      <img src=\"https://cloud.google.com/ml-engine/images/github-logo-32px.png\" alt=\"GitHub logo\">\n",
    "      在 GitHub 上查看\n",
    "    </a>\n",
    "  </td>\n",
    "  <td>\n",
    "    <a href=\"https://console.cloud.google.com/vertex-ai/workbench/deploy-notebook?download_url=https://raw.githubusercontent.com/GoogleCloudPlatform/vertex-ai-samples/main/notebooks/pipelines/official/challenger_vs_blessed_deployment_method.ipynb\">\n",
    "      <img src=\"https://lh3.googleusercontent.com/UiNooY4LUgW_oTvpsNhPpQzsstV5W8F7rYgxgGBD85cWJoLmrOzhVs_ksK_vgx40SHs7jCqkTkCk=e14-rj-sc0xffffff-h130-w32\" alt=\"Vertex AI logo\">\n",
    "      在 Vertex AI Workbench 中打开\n",
    "    </a>\n",
    "  </td>                                                                                  \n",
    "</table>\n",
    "\n",
    "*注：此笔记本使用 KFP 1.x 和 GCPC 1.x。我们建议使用 2.x 版本*"
   ]
  },
  {
   "cell_type": "markdown",
   "metadata": {
    "id": "24743cf4a1e1"
   },
   "source": [
    "请注意：此笔记本已在以下环境中测试过：\n",
    "\n",
    "* Python 版本 = 3.9"
   ]
  },
  {
   "cell_type": "markdown",
   "metadata": {
    "id": "tvgnzT1CKxrO"
   },
   "source": [
    "## 概述\n",
    "\n",
    "本教程展示了如何使用Vertex AI Pipeline通过挑战者vs受保护者方法将下一个版本的模型部署到生产环境中。\n",
    "\n",
    "了解更多关于[Vertex AI Pipelines](https://cloud.google.com/vertex-ai/docs/pipelines/introduction)和[Vertex AI中的模型评估](https://cloud.google.com/vertex-ai/docs/evaluation/introduction)。"
   ]
  },
  {
   "cell_type": "markdown",
   "metadata": {
    "id": "d975e698c9a4"
   },
   "source": [
    "### 目标\n",
    "\n",
    "在本教程中，您将学习如何构建一个 Vertex AI 管道，该管道训练一个新的挑战者版本的模型，评估模型并将评估结果与生产中现有的祝福模型进行比较，以确定挑战者模型是否可以成为用于替换生产中的祝福模型。\n",
    "\n",
    "本教程使用以下 Google Cloud ML 服务和资源：\n",
    "\n",
    "- Vertex AI 管道\n",
    "- Vertex AI 模型评估\n",
    "- Vertex AI 模型注册表\n",
    "- Vertex AI 终端\n",
    "\n",
    "执行的步骤包括：\n",
    "\n",
    "- 将预训练（祝福的）模型导入到 `Vertex AI 模型注册表` 中。\n",
    "- 将合成模型评估指标导入到相应（祝福的）模型中。\n",
    "- 创建一个 `Vertex AI 终端` 资源。\n",
    "- 将祝福模型部署到 `终端` 资源。\n",
    "- 创建一个 Vertex AI 管道\n",
    "    - 获取祝福的模型。\n",
    "    - 导入另一个实例（挑战者）的预训练模型。\n",
    "    - 将预训练（挑战者）模型注册为现有祝福模型的新版本。\n",
    "    - 创建一个合成模型评估。\n",
    "    - 将合成模型评估指标导入到相应挑战者模型中。\n",
    "    - 比较评估结果并将祝福或挑战者设置为默认。\n",
    "    - 部署新的祝福模型。\n",
    "\n",
    "了解更多关于 [Vertex AI 管道](https://cloud.google.com/vertex-ai/docs/pipelines/introduction)。"
   ]
  },
  {
   "cell_type": "markdown",
   "metadata": {
    "id": "08d289fa873f"
   },
   "source": [
    "数据集\n",
    "\n",
    "本教程使用的数据集是来自TensorFlow数据集的[CIFAR10数据集](https://www.tensorflow.org/datasets/catalog/cifar10)。您将使用的数据集版本已集成到TensorFlow中。训练模型预测图像属于十种类别中的哪一类：飞机、汽车、鸟、猫、鹿、狗、青蛙、马、船或卡车。"
   ]
  },
  {
   "cell_type": "markdown",
   "metadata": {
    "id": "aed92deeb4a0"
   },
   "source": [
    "### 成本\n",
    "\n",
    "本教程使用 Google Cloud 的计费组件：\n",
    "\n",
    "* Vertex AI\n",
    "* Cloud Storage\n",
    "\n",
    "了解 [Vertex AI 价格](https://cloud.google.com/vertex-ai/pricing)，\n",
    "以及 [Cloud Storage 价格](https://cloud.google.com/storage/pricing)，\n",
    "并使用 [价格计算器](https://cloud.google.com/products/calculator/)\n",
    "根据您的预期使用情况生成成本估算。"
   ]
  },
  {
   "cell_type": "markdown",
   "metadata": {
    "id": "i7EUnXsZhAGF"
   },
   "source": [
    "## 安装\n",
    "\n",
    "安装以下必要的软件包以执行这个笔记本。"
   ]
  },
  {
   "cell_type": "code",
   "execution_count": null,
   "metadata": {
    "id": "2b4ef9b72d43"
   },
   "outputs": [],
   "source": [
    "# Install the packages\n",
    "USER=''\n",
    "! pip3 install {USER} --upgrade google-cloud-aiplatform \\\n",
    "                                'google-cloud-pipeline-components<2'\n",
    "! pip3 install {USER}           tensorflow==2.5 \\\n",
    "                                tensorflow_hub\n",
    "  \n",
    "! pip3 install {USER} --upgrade 'kfp<2'"
   ]
  },
  {
   "cell_type": "markdown",
   "metadata": {
    "id": "58707a750154"
   },
   "source": [
    "### 仅限Colab使用：取消注释以下单元格以重新启动内核。"
   ]
  },
  {
   "cell_type": "code",
   "execution_count": null,
   "metadata": {
    "id": "f200f10a1da3"
   },
   "outputs": [],
   "source": [
    "# Automatically restart kernel after installs so that your environment can access the new packages\n",
    "# import IPython\n",
    "\n",
    "# app = IPython.Application.instance()\n",
    "# app.kernel.do_shutdown(True)"
   ]
  },
  {
   "cell_type": "markdown",
   "metadata": {
    "id": "BF1j6f9HApxa"
   },
   "source": [
    "## 在开始之前\n",
    "\n",
    "### 设置您的 Google 云项目\n",
    "\n",
    "**无论您使用什么笔记本环境，以下步骤都是必需的。**\n",
    "\n",
    "1. [选择或创建一个 Google 云项目](https://console.cloud.google.com/cloud-resource-manager)。当您首次创建一个账户时，您会得到 $300 的免费信用额度，可以用来支付计算/存储费用。\n",
    "\n",
    "2. [确保您的项目已启用计费](https://cloud.google.com/billing/docs/how-to/modify-project)。\n",
    "\n",
    "3. [启用 Vertex AI API]。\n",
    "\n",
    "4. 如果您是在本地运行这个笔记本，您需要安装 [Cloud SDK](https://cloud.google.com/sdk)。"
   ]
  },
  {
   "cell_type": "markdown",
   "metadata": {
    "id": "WReHDGG5g0XY"
   },
   "source": [
    "设置您的项目ID\n",
    "\n",
    "**如果您不知道您的项目ID**，请尝试以下操作：\n",
    "* 运行 `gcloud config list`。\n",
    "* 运行 `gcloud projects list`。\n",
    "* 查看支持页面：[查找项目ID](https://support.google.com/googleapi/answer/7014113)"
   ]
  },
  {
   "cell_type": "code",
   "execution_count": null,
   "metadata": {
    "id": "oM1iC_MfAts1"
   },
   "outputs": [],
   "source": [
    "PROJECT_ID = \"[your-project-id]\"  # @param {type:\"string\"}\n",
    "\n",
    "# Set the project id\n",
    "! gcloud config set project {PROJECT_ID}"
   ]
  },
  {
   "cell_type": "markdown",
   "metadata": {
    "id": "region"
   },
   "source": [
    "区域\n",
    "\n",
    "您还可以更改 Vertex AI 使用的 `REGION` 变量。了解有关 [Vertex AI 区域](https://cloud.google.com/vertex-ai/docs/general/locations) 的更多信息。"
   ]
  },
  {
   "cell_type": "code",
   "execution_count": null,
   "metadata": {
    "id": "region"
   },
   "outputs": [],
   "source": [
    "REGION = \"us-central1\"  # @param {type: \"string\"}"
   ]
  },
  {
   "cell_type": "markdown",
   "metadata": {
    "id": "sBCra4QMA2wR"
   },
   "source": [
    "### 验证您的Google云账户\n",
    "\n",
    "根据您的Jupyter环境，您可能需要手动进行身份验证。请按照下面的相关说明操作。"
   ]
  },
  {
   "cell_type": "markdown",
   "metadata": {
    "id": "74ccc9e52986"
   },
   "source": [
    "1. 顶点AI工作台\n",
    "* 无需操作，因为您已经通过验证。"
   ]
  },
  {
   "cell_type": "markdown",
   "metadata": {
    "id": "de775a3773ba"
   },
   "source": [
    "2. 本地的JupyterLab实例，请取消注释并运行:"
   ]
  },
  {
   "cell_type": "code",
   "execution_count": null,
   "metadata": {
    "id": "254614fa0c46"
   },
   "outputs": [],
   "source": [
    "# ! gcloud auth login"
   ]
  },
  {
   "cell_type": "markdown",
   "metadata": {
    "id": "ef21552ccea8"
   },
   "source": [
    "3. 合作，取消注释并运行："
   ]
  },
  {
   "cell_type": "code",
   "execution_count": null,
   "metadata": {
    "id": "603adbbf0532"
   },
   "outputs": [],
   "source": [
    "IS_COLAB = False\n",
    "# from google.colab import auth\n",
    "# auth.authenticate_user()\n",
    "# IS_COLAB = True"
   ]
  },
  {
   "cell_type": "markdown",
   "metadata": {
    "id": "f6b2ccc891ed"
   },
   "source": [
    "查看如何在https://cloud.google.com/storage/docs/gsutil/commands/iam#ch-examples为您的服务账户授予云存储权限。"
   ]
  },
  {
   "cell_type": "markdown",
   "metadata": {
    "id": "zgPO1eR3CYjk"
   },
   "source": [
    "创建一个云存储桶\n",
    "\n",
    "创建一个存储桶，用于存储诸如数据集等中间产物。\n",
    "\n",
    "- *{对笔记本作者的提示：对于任何需要是唯一的用户提供的字符串（比如存储桶名称或模型ID），请在末尾添加“-unique”，以便进行适当的测试}*"
   ]
  },
  {
   "cell_type": "code",
   "execution_count": null,
   "metadata": {
    "id": "MzGDU7TWdts_"
   },
   "outputs": [],
   "source": [
    "BUCKET_URI = f\"gs://your-bucket-name-{PROJECT_ID}-unique\"  # @param {type:\"string\"}"
   ]
  },
  {
   "cell_type": "markdown",
   "metadata": {
    "id": "-EcIXiGsCePi"
   },
   "source": [
    "只有在您的存储桶尚不存在时才能运行以下单元格来创建您的云存储存储桶。"
   ]
  },
  {
   "cell_type": "code",
   "execution_count": null,
   "metadata": {
    "id": "NIq7R4HZCfIc"
   },
   "outputs": [],
   "source": [
    "! gsutil mb -l $REGION -p $PROJECT_ID $BUCKET_URI"
   ]
  },
  {
   "cell_type": "markdown",
   "metadata": {
    "id": "set_service_account"
   },
   "source": [
    "### 服务账号\n",
    "\n",
    "您可以使用服务账号来创建Vertex AI Pipeline作业。\n",
    "\n",
    "如果您不想使用项目的Compute Engine服务账号，请将`SERVICE_ACCOUNT`设置为另一个服务账号ID。"
   ]
  },
  {
   "cell_type": "code",
   "execution_count": null,
   "metadata": {
    "id": "set_service_account"
   },
   "outputs": [],
   "source": [
    "SERVICE_ACCOUNT = \"[your-service-account]\"  # @param {type:\"string\"}"
   ]
  },
  {
   "cell_type": "code",
   "execution_count": null,
   "metadata": {
    "id": "autoset_service_account"
   },
   "outputs": [],
   "source": [
    "if (\n",
    "    SERVICE_ACCOUNT == \"\"\n",
    "    or SERVICE_ACCOUNT is None\n",
    "    or SERVICE_ACCOUNT == \"[your-service-account]\"\n",
    "):\n",
    "    # Get your service account from gcloud\n",
    "    if not IS_COLAB:\n",
    "        shell_output = !gcloud auth list 2>/dev/null\n",
    "        SERVICE_ACCOUNT = shell_output[2].replace(\"*\", \"\").strip()\n",
    "\n",
    "    else:  # IS_COLAB:\n",
    "        shell_output = ! gcloud projects describe  $PROJECT_ID\n",
    "        project_number = shell_output[-1].split(\":\")[1].strip().replace(\"'\", \"\")\n",
    "        SERVICE_ACCOUNT = f\"{project_number}-compute@developer.gserviceaccount.com\"\n",
    "\n",
    "    print(\"Service Account:\", SERVICE_ACCOUNT)"
   ]
  },
  {
   "cell_type": "markdown",
   "metadata": {
    "id": "set_service_account:pipelines"
   },
   "source": [
    "设置Vertex AI管道的服务帐户访问权限\n",
    "\n",
    "运行以下命令，授予您的服务帐户访问权限，以读取和写入在上一步中创建的存储桶中的管道工件 -- 您仅需要为每个服务帐户运行一次这些命令。"
   ]
  },
  {
   "cell_type": "code",
   "execution_count": null,
   "metadata": {
    "id": "set_service_account:pipelines"
   },
   "outputs": [],
   "source": [
    "! gsutil iam ch serviceAccount:{SERVICE_ACCOUNT}:roles/storage.objectCreator $BUCKET_URI\n",
    "\n",
    "! gsutil iam ch serviceAccount:{SERVICE_ACCOUNT}:roles/storage.objectViewer $BUCKET_URI"
   ]
  },
  {
   "cell_type": "markdown",
   "metadata": {
    "id": "960505627ddf"
   },
   "source": [
    "导入库"
   ]
  },
  {
   "cell_type": "code",
   "execution_count": null,
   "metadata": {
    "id": "PyQmSRbKA8r-"
   },
   "outputs": [],
   "source": [
    "import kfp\n",
    "import tensorflow as tf\n",
    "import tensorflow_hub as hub\n",
    "from google.cloud import aiplatform\n",
    "from google.cloud.aiplatform import gapic\n",
    "from kfp.v2 import compiler\n",
    "from kfp.v2.dsl import component"
   ]
  },
  {
   "cell_type": "markdown",
   "metadata": {
    "id": "init_aip:mbsdk,all"
   },
   "source": [
    "初始化用于Python的Vertex AI SDK，用于您的项目。"
   ]
  },
  {
   "cell_type": "code",
   "execution_count": null,
   "metadata": {
    "id": "init_aip:mbsdk,all"
   },
   "outputs": [],
   "source": [
    "aiplatform.init(project=PROJECT_ID, location=REGION, staging_bucket=BUCKET_URI)"
   ]
  },
  {
   "cell_type": "markdown",
   "metadata": {
    "id": "accelerators:training,cpu,prediction,cpu,mbsdk"
   },
   "source": [
    "### 设置硬件加速器\n",
    "\n",
    "您可以为训练和预测设置硬件加速器。\n",
    "\n",
    "将变量`DEPLOY_GPU/DEPLOY_NGPU`设置为使用支持 GPU 的容器映像，以及分配给虚拟机实例的 GPU 数量。例如，要使用包含 4 个 Nvidia Telsa K80 GPU 的 GPU 容器映像分配给每个 VM，您应该指定：\n",
    "\n",
    "    (aip.gapic.AcceleratorType.NVIDIA_TESLA_K80, 4)\n",
    "\n",
    "否则，请指定`(None, None)`以使用在 CPU 上运行的容器映像。\n",
    "\n",
    "了解更多关于[您所在地区的硬件加速器支持](https://cloud.google.com/vertex-ai/docs/general/locations#accelerators)。"
   ]
  },
  {
   "cell_type": "code",
   "execution_count": null,
   "metadata": {
    "id": "accelerators:training,cpu,prediction,cpu,mbsdk"
   },
   "outputs": [],
   "source": [
    "DEPLOY_GPU, DEPLOY_NGPU = (None, None)"
   ]
  },
  {
   "cell_type": "markdown",
   "metadata": {
    "id": "container:training,prediction"
   },
   "source": [
    "#### 设置预构建容器\n",
    "\n",
    "为训练和预测设置预构建的Docker容器镜像。\n",
    "\n",
    "有关最新列表，请参阅[预构建容器用于预测](https://cloud.google.com/ai-platform-unified/docs/predictions/pre-built-containers)。"
   ]
  },
  {
   "cell_type": "code",
   "execution_count": null,
   "metadata": {
    "id": "container:training,prediction"
   },
   "outputs": [],
   "source": [
    "TF = \"2.5\".replace(\".\", \"-\")\n",
    "\n",
    "if DEPLOY_GPU:\n",
    "    DEPLOY_VERSION = \"tf2-gpu.{}\".format(TF)\n",
    "else:\n",
    "    DEPLOY_VERSION = \"tf2-cpu.{}\".format(TF)\n",
    "\n",
    "DEPLOY_IMAGE = \"{}-docker.pkg.dev/vertex-ai/prediction/{}:latest\".format(\n",
    "    REGION.split(\"-\")[0], DEPLOY_VERSION\n",
    ")\n",
    "\n",
    "print(\"Deployment:\", DEPLOY_IMAGE, DEPLOY_GPU, DEPLOY_NGPU)"
   ]
  },
  {
   "cell_type": "markdown",
   "metadata": {
    "id": "machine:training"
   },
   "source": [
    "#### 设置机器类型\n",
    "\n",
    "接下来，设置用于预测的机器类型。\n",
    "\n",
    "- 设置变量`DEPLOY_COMPUTE`来配置您将用于训练的虚拟机的计算资源。\n",
    " - `机器类型`\n",
    "     - `n1-standard`：每个vCPU 3.75GB的内存。\n",
    "     - `n1-highmem`：每个vCPU 6.5GB的内存\n",
    "     - `n1-highcpu`：每个vCPU 0.9GB的内存\n",
    " - `vCPUs`：数量为\\[2, 4, 8, 16, 32, 64, 96 \\]\n",
    "\n",
    "*注意: 以下内容不适用于训练:*\n",
    "\n",
    " - `standard`：2个vCPUs\n",
    " - `highcpu`：2、4和8个vCPUs\n",
    "\n",
    "*注意: 您也可以使用n2和e2机器类型进行训练和部署，但它们不支持GPU*。"
   ]
  },
  {
   "cell_type": "markdown",
   "metadata": {
    "id": "63de49055083"
   },
   "source": [
    "### 保存模型工件\n",
    "\n",
    "此时，模型在内存中。接下来，您需要将模型工件保存到云存储位置。"
   ]
  },
  {
   "cell_type": "code",
   "execution_count": null,
   "metadata": {
    "id": "machine:training"
   },
   "outputs": [],
   "source": [
    "DEPLOY_COMPUTE = \"n1-standard-4\"\n",
    "print(\"Deploy machine type\", DEPLOY_COMPUTE)"
   ]
  },
  {
   "cell_type": "markdown",
   "metadata": {
    "id": "d8128b8ff025"
   },
   "source": [
    "## 从TensorFlow Hub获取预训练模型\n",
    "\n",
    "为了演示目的，本教程使用了从TensorFlow Hub（TFHub）获取的预训练模型，然后将其上传到“Vertex AI模型”资源。一旦您拥有了“Vertex AI模型”资源，该模型就可以部署到“Vertex AI端点”资源上。\n",
    "\n",
    "### 下载预训练模型\n",
    "\n",
    "首先，您需要从TensorFlow Hub下载预训练模型。该模型将作为TF.Keras层下载。为了完成模型，您将在本例中创建一个`Sequential()`模型，其中包含下载的TFHub模型作为一个层，并指定模型的输入形状。"
   ]
  },
  {
   "cell_type": "code",
   "execution_count": null,
   "metadata": {
    "id": "c55fa4c826f7"
   },
   "outputs": [],
   "source": [
    "tfhub_model = tf.keras.Sequential(\n",
    "    [hub.KerasLayer(\"https://tfhub.dev/google/imagenet/resnet_v2_101/classification/5\")]\n",
    ")\n",
    "\n",
    "tfhub_model.build([None, 32, 32, 3])\n",
    "\n",
    "tfhub_model.summary()"
   ]
  },
  {
   "cell_type": "code",
   "execution_count": null,
   "metadata": {
    "id": "64618c713db9"
   },
   "outputs": [],
   "source": [
    "MODEL_DIR = BUCKET_URI + \"/model\"\n",
    "tfhub_model.save(MODEL_DIR)"
   ]
  },
  {
   "cell_type": "markdown",
   "metadata": {
    "id": "e8ce91147c93"
   },
   "source": [
    "### 将TensorFlow Hub模型上传到`Vertex AI Model`资源\n",
    "\n",
    "最后，您可以使用`upload()`方法将来自TFHub模型的模型工件上传到`Vertex AI Model`资源，参数如下：\n",
    "\n",
    "- `display_name`：`Model`资源的易读名称。\n",
    "- `artifact_uri`：模型包的Cloud Storage位置。\n",
    "- `serving_container_image_uri`：提供容器映像。\n",
    "\n",
    "将模型上传到Vertex AI Model资源会返回一个长时间运行的操作，因为这可能需要一些时间。\n",
    "\n",
    "*注：*当您将模型工件上传到`Vertex AI Model`资源时，必须指定相应的部署容器映像。"
   ]
  },
  {
   "cell_type": "code",
   "execution_count": null,
   "metadata": {
    "id": "ad61e1429512"
   },
   "outputs": [],
   "source": [
    "blessed_model = aiplatform.Model.upload(\n",
    "    display_name=\"resnet\",\n",
    "    artifact_uri=MODEL_DIR,\n",
    "    serving_container_image_uri=DEPLOY_IMAGE,\n",
    "    is_default_version=True,\n",
    "    version_aliases=[\"v1\"],\n",
    ")\n",
    "\n",
    "print(blessed_model)"
   ]
  },
  {
   "cell_type": "markdown",
   "metadata": {
    "id": "c11e98ef5391"
   },
   "source": [
    "### 创建模型评估\n",
    "\n",
    "首先，您需要按照预定义的模型评估模式之一创建一个模型评估。在这个例子中，您将使用分类度量模式，并指定以下评估指标的子集作为字典：\n",
    "\n",
    "- `logLoss`：对数损失。\n",
    "- `auPrc`：准确率。\n",
    "\n",
    "然后，您要使用以下参数构建`ModelEvaluation`对象：\n",
    "\n",
    "- `display_name`：评估指标的可读名称。\n",
    "- `metrics_schema_uri`：特定类型评估指标的模式。\n",
    "- `metrics`：包含评估指标的字典。\n",
    "\n",
    "了解更多关于[评估指标模式](https://cloud.google.com/vertex-ai/docs/evaluation/introduction#features)。"
   ]
  },
  {
   "cell_type": "code",
   "execution_count": null,
   "metadata": {
    "id": "e9af222db292"
   },
   "outputs": [],
   "source": [
    "metrics = {\"logLoss\": 1.4, \"auPrc\": 0.85}\n",
    "print(metrics)\n",
    "\n",
    "blessed_eval = gapic.ModelEvaluation(\n",
    "    display_name=\"eval\",\n",
    "    metrics_schema_uri=\"gs://google-cloud-aiplatform/schema/modelevaluation/classification_metrics_1.0.0.yaml\",\n",
    "    metrics=metrics,\n",
    ")"
   ]
  },
  {
   "cell_type": "markdown",
   "metadata": {
    "id": "68870bd8194d"
   },
   "source": [
    "### 上传评估指标到模型注册表\n",
    "\n",
    "接下来，将从自定义训练作业中的模型评估上传到 Vertex AI 模型注册表中相应的条目。\n",
    "\n",
    "目前，在 SDK 中还没有对此方法的支持。相反，您需要使用较低级别的 GAPIC API 接口。"
   ]
  },
  {
   "cell_type": "code",
   "execution_count": null,
   "metadata": {
    "id": "3044788848af"
   },
   "outputs": [],
   "source": [
    "API_ENDPOINT = f\"{REGION}-aiplatform.googleapis.com\"\n",
    "client = gapic.ModelServiceClient(client_options={\"api_endpoint\": API_ENDPOINT})\n",
    "\n",
    "client.import_model_evaluation(\n",
    "    parent=blessed_model.resource_name, model_evaluation=blessed_eval\n",
    ")"
   ]
  },
  {
   "cell_type": "markdown",
   "metadata": {
    "id": "628de0914ba1"
   },
   "source": [
    "创建`Endpoint`资源\n",
    "\n",
    "您可以使用`Endpoint.create()`方法创建`Endpoint`资源。至少，您需要指定终端的显示名称。可选地，您可以指定项目和位置（区域）；否则，设置将继承您使用`init()`方法初始化Vertex AI SDK时设置的值。\n",
    "\n",
    "在此示例中，指定了以下参数：\n",
    "\n",
    "- `display_name`：`Endpoint`资源的可读名称。\n",
    "- `project`：您的项目ID。\n",
    "- `location`：您的区域。\n",
    "\n",
    "此方法将返回一个`Endpoint`对象。\n",
    "\n",
    "了解有关[Vertex AI终端](https://cloud.google.com/vertex-ai/docs/predictions/deploy-model-api)的更多信息。"
   ]
  },
  {
   "cell_type": "code",
   "execution_count": null,
   "metadata": {
    "id": "0ea443f9593b"
   },
   "outputs": [],
   "source": [
    "endpoint = aiplatform.Endpoint.create(\n",
    "    display_name=\"resnet\", project=PROJECT_ID, location=REGION\n",
    ")\n",
    "\n",
    "print(endpoint)"
   ]
  },
  {
   "cell_type": "markdown",
   "metadata": {
    "id": "ca3fa3f6a894"
   },
   "source": [
    "### 将`Model`资源部署到`Endpoint`资源\n",
    "\n",
    "接下来，将经过批准的`Vertex AI Model`资源部署到`Vertex AI Endpoint`资源。`Vertex AI Model`资源已经为其定义了部署容器镜像。要部署，您需要指定以下额外的配置设置：\n",
    "\n",
    "- 机器类型。\n",
    "- （如果有的话）GPU的类型和数量。\n",
    "- VM实例的静态、手动或自动缩放。\n",
    "\n",
    "在这个例子中，您将使用指定参数的最小数量部署模型，如下：\n",
    "\n",
    "- `model`：`Model`资源。\n",
    "- `deployed_model_displayed_name`：部署模型实例的人类可读名称。\n",
    "- `machine_type`：每个VM实例的机器类型。\n",
    "\n",
    "由于需要准备资源，这可能需要几分钟时间。"
   ]
  },
  {
   "cell_type": "code",
   "execution_count": null,
   "metadata": {
    "id": "4e93b034a72f"
   },
   "outputs": [],
   "source": [
    "response = endpoint.deploy(\n",
    "    model=blessed_model,\n",
    "    deployed_model_display_name=\"resnet\",\n",
    "    machine_type=DEPLOY_COMPUTE,\n",
    ")\n",
    "\n",
    "print(response)"
   ]
  },
  {
   "cell_type": "markdown",
   "metadata": {
    "id": "1899f5ca18a9"
   },
   "source": [
    "## 为管道创建自定义组件\n",
    "\n",
    "接下来，您将创建几个自定义组件，用于在管道中使用。\n",
    "\n",
    "### 创建组件以上传模型的下一个版本\n",
    "\n",
    "首先，您定义一个组件，将训练好的挑战者模型作为版本上传到`Vertex AI模型注册表`中的受认可模型。此组件接受以下参数：\n",
    "\n",
    "- `parent_model`：受认可模型的完整资源名称。\n",
    "- `artifact_uri`：挑战者模型的模型 artifacts 的 Cloud Storage 位置。\n",
    "- `serving_container`：挑战者模型的服务容器。\n",
    "- `project`：您的项目ID。\n",
    "- `region`：您的区域。"
   ]
  },
  {
   "cell_type": "code",
   "execution_count": null,
   "metadata": {
    "id": "ee3cd58c1671"
   },
   "outputs": [],
   "source": [
    "@component(packages_to_install=[\"google-cloud-aiplatform\"])\n",
    "def create_next_model_version(\n",
    "    parent_model: str,\n",
    "    artifact_uri: str,\n",
    "    serving_container: str,\n",
    "    project: str,\n",
    "    region: str,\n",
    ") -> str:\n",
    "    from google.cloud import aiplatform\n",
    "\n",
    "    aiplatform.init(project=project, location=region)\n",
    "\n",
    "    model = aiplatform.Model.upload(\n",
    "        display_name=\"resnet\",\n",
    "        artifact_uri=artifact_uri,\n",
    "        serving_container_image_uri=serving_container,\n",
    "        parent_model=parent_model,\n",
    "        is_default_version=True,\n",
    "        version_aliases=[\"v2\"],\n",
    "        version_description=\"This is the second version of the model\",\n",
    "    )\n",
    "\n",
    "    return model.resource_name"
   ]
  },
  {
   "cell_type": "markdown",
   "metadata": {
    "id": "7e4fb366d34a"
   },
   "source": [
    "### 创建组件来导入分类指标\n",
    "\n",
    "接下来，您定义一个组件，将评估挑战者模型的指标导入到模型注册表中。该组件接受以下参数：\n",
    "\n",
    "- `display_name`：评估指标的人类可读名称\n",
    "- `metrics`：格式化为分类的评估指标\n",
    "- `parent_model_resource`：挑战者模型版本的完整资源名称\n",
    "- `region`：区域。"
   ]
  },
  {
   "cell_type": "code",
   "execution_count": null,
   "metadata": {
    "id": "1af51a0b41ce"
   },
   "outputs": [],
   "source": [
    "@component(packages_to_install=[\"google-cloud-aiplatform\"])\n",
    "def import_classification_metrics(\n",
    "    display_name: str, metrics: dict, parent_model_resource: str, region: str\n",
    "):\n",
    "    from google.cloud.aiplatform import gapic\n",
    "\n",
    "    evaluation = gapic.ModelEvaluation(\n",
    "        display_name=display_name,\n",
    "        metrics_schema_uri=\"gs://google-cloud-aiplatform/schema/modelevaluation/classification_metrics_1.0.0.yaml\",\n",
    "        metrics=metrics,\n",
    "    )\n",
    "\n",
    "    API_ENDPOINT = f\"{region}-aiplatform.googleapis.com\"\n",
    "    client = gapic.ModelServiceClient(client_options={\"api_endpoint\": API_ENDPOINT})\n",
    "    client.import_model_evaluation(\n",
    "        parent=parent_model_resource, model_evaluation=evaluation\n",
    "    )"
   ]
  },
  {
   "cell_type": "markdown",
   "metadata": {
    "id": "5a49c33c9e12"
   },
   "source": [
    "创建组件以比较指标\n",
    "\n",
    "接下来，您可以定义一个组件来比较模型的两个版本之间的 `auPrc` 指标。在这种情况下，当前的核准版本和新的挑战者版本。其中`auPrc` 值最高的模型被设置为默认模型。在随后部署时，默认模型将被部署。该组件接收以下参数：\n",
    "\n",
    "- `blessed_model_resource_name`：核准模型的完整资源名称。\n",
    "- `challenger_model_resource_name`：挑战者模型的完整资源名称。"
   ]
  },
  {
   "cell_type": "code",
   "execution_count": null,
   "metadata": {
    "id": "e70c466ae39a"
   },
   "outputs": [],
   "source": [
    "@component(packages_to_install=[\"google-cloud-aiplatform\"])\n",
    "def compare_metrics(\n",
    "    blessed_model_resource_name: str, challenger_model_resource_name: str\n",
    "):\n",
    "    from google.cloud import aiplatform\n",
    "\n",
    "    # Get the metrics for the blessed model\n",
    "    blessed_model = aiplatform.Model(blessed_model_resource_name)\n",
    "    blessed_eval = blessed_model.list_model_evaluations()[0]\n",
    "    blessed_auPrc = blessed_eval.metrics[\"auPrc\"]\n",
    "\n",
    "    # Get the metrics for the challenger model\n",
    "    challenger_model = aiplatform.Model(challenger_model_resource_name)\n",
    "    challenger_eval = challenger_model.list_model_evaluations()[0]\n",
    "    challenger_auPrc = challenger_eval.metrics[\"auPrc\"]\n",
    "\n",
    "    # Which model has the best accuracy becomes the default model\n",
    "    if challenger_auPrc > blessed_auPrc:\n",
    "        challenger_model.versioning_registry.add_version_aliases(\n",
    "            new_aliases=[\"default\"], version=challenger_model.version_id\n",
    "        )\n",
    "    else:\n",
    "        blessed_model.versioning_registry.add_version_aliases(\n",
    "            new_aliases=[\"default\"], version=blessed_model.version_id\n",
    "        )"
   ]
  },
  {
   "cell_type": "markdown",
   "metadata": {
    "id": "8a0cd316dc5e"
   },
   "source": [
    "## 构建祝福版与挑战者管道\n",
    "\n",
    "接下来，您构建以下任务的管道：\n",
    "\n",
    "- 获取模型的祝福版本。\n",
    "- 获取部署的祝福模型的端点。\n",
    "- 训练（伪造的）挑战者模型。\n",
    "- 将挑战者模型上传为模型的下一个版本。\n",
    "- 导入挑战者模型的评估指标。\n",
    "- 比较祝福版和挑战者的评估指标，并相应设置默认值。\n",
    "- 导入现有的生产端点。\n",
    "- 将新的默认模型部署到生产端点。"
   ]
  },
  {
   "cell_type": "code",
   "execution_count": null,
   "metadata": {
    "id": "4b52fc0e5a8c"
   },
   "outputs": [],
   "source": [
    "@kfp.dsl.pipeline(name=\"blessed-vs-challenger\")\n",
    "def pipeline(\n",
    "    blessed_model_resource: str,\n",
    "    serving_container: str,\n",
    "    machine_type: str,\n",
    "    endpoint_resource_name: str,\n",
    "    endpoint_resource_uri: str,\n",
    "    project: str = PROJECT_ID,\n",
    "    region: str = REGION,\n",
    "):\n",
    "    from google_cloud_pipeline_components.experimental.evaluation import \\\n",
    "        GetVertexModelOp\n",
    "    from google_cloud_pipeline_components.types import artifact_types\n",
    "    from google_cloud_pipeline_components.v1.endpoint import ModelDeployOp\n",
    "    from kfp.v2.components import importer_node\n",
    "\n",
    "    # Get the Vertex AI model resource of the blessed model\n",
    "    model = GetVertexModelOp(model_resource_name=blessed_model_resource)\n",
    "\n",
    "    # pretend that you trained a new version of the model (artifacts at MODEL_DIR)\n",
    "\n",
    "    # create the next version in the Model Registry as the challenger model\n",
    "    next_version = create_next_model_version(\n",
    "        parent_model=blessed_model_resource,\n",
    "        artifact_uri=MODEL_DIR,\n",
    "        serving_container=serving_container,\n",
    "        project=project,\n",
    "        region=region,\n",
    "    ).after(model)\n",
    "\n",
    "    # pretend to evaluate the challenger\n",
    "    challenger_metrics = {\"logLoss\": 1.3, \"auPrc\": 0.88}\n",
    "\n",
    "    # upload the metrics for the challenger version\n",
    "    import_metrics = import_classification_metrics(\n",
    "        display_name=\"challenger\",\n",
    "        metrics=challenger_metrics,\n",
    "        parent_model_resource=next_version.output,\n",
    "        region=region,\n",
    "    ).after(next_version)\n",
    "\n",
    "    # test metrics\n",
    "    compare = compare_metrics(blessed_model_resource, next_version.output).after(\n",
    "        import_metrics\n",
    "    )\n",
    "\n",
    "    # import the production Endpoint\n",
    "    endpoint = importer_node.importer(\n",
    "        artifact_uri=endpoint_resource_uri,\n",
    "        artifact_class=artifact_types.VertexEndpoint,\n",
    "        metadata={\"resourceName\": endpoint_resource_name},\n",
    "    )\n",
    "\n",
    "    # deploy model to endpoint\n",
    "    _ = ModelDeployOp(\n",
    "        model=model.outputs[\"model\"],\n",
    "        endpoint=endpoint.output,  # .outputs[\"endpoint\"],\n",
    "        dedicated_resources_min_replica_count=1,\n",
    "        dedicated_resources_max_replica_count=1,\n",
    "        dedicated_resources_machine_type=machine_type,\n",
    "        traffic_split={\"0\": 100},\n",
    "    ).after(compare)"
   ]
  },
  {
   "cell_type": "markdown",
   "metadata": {
    "id": "run_custom_train_pipeline:icn"
   },
   "source": [
    "编译流水线\n",
    "\n",
    "接下来，你需要编译流水线。"
   ]
  },
  {
   "cell_type": "code",
   "execution_count": null,
   "metadata": {
    "id": "2521d9cef73d"
   },
   "outputs": [],
   "source": [
    "compiler.Compiler().compile(\n",
    "    pipeline_func=pipeline, package_path=\"challenger_vs_blessed.json\"\n",
    ")"
   ]
  },
  {
   "cell_type": "markdown",
   "metadata": {
    "id": "5ceed9f75a9d"
   },
   "source": [
    "### 执行管道\n",
    "\n",
    "最后，您执行管道，传递以下管道参数值：\n",
    "\n",
    "- `blessed_model_resource`：模型当前版本的完整资源名称。\n",
    "- `serving_container`：用于部署模型的serving容器。\n",
    "- `machine_type`：用于部署模型的机器类型。\n",
    "- `endpoint_resource_name`：生产端点的完整资源名称。\n",
    "- `endpoint_resource_uri`：生产端点的完整URI。\n",
    "- `project`：项目ID。\n",
    "- `region`：区域。"
   ]
  },
  {
   "cell_type": "code",
   "execution_count": null,
   "metadata": {
    "id": "run_pipeline:control"
   },
   "outputs": [],
   "source": [
    "PIPELINE_ROOT = \"{}/pipeline_root/control\".format(BUCKET_URI)\n",
    "\n",
    "job = aiplatform.PipelineJob(\n",
    "    display_name=\"challenger_vs_blessed\",\n",
    "    template_path=\"challenger_vs_blessed.json\",\n",
    "    pipeline_root=PIPELINE_ROOT,\n",
    "    parameter_values={\n",
    "        \"blessed_model_resource\": blessed_model.resource_name,\n",
    "        \"serving_container\": DEPLOY_IMAGE,\n",
    "        \"machine_type\": DEPLOY_COMPUTE,\n",
    "        \"endpoint_resource_name\": endpoint.resource_name,\n",
    "        \"endpoint_resource_uri\": \"https://us-central1-aiplatform.googleapis.com/v1/\"\n",
    "        + endpoint.resource_name,\n",
    "        \"project\": PROJECT_ID,\n",
    "        \"region\": REGION,\n",
    "    },\n",
    "    enable_caching=False,\n",
    ")\n",
    "\n",
    "job.run()\n",
    "\n",
    "! rm challenger_vs_blessed.json"
   ]
  },
  {
   "cell_type": "markdown",
   "metadata": {
    "id": "e1d089d1d0d9"
   },
   "source": [
    "获取生产端点的最新状态\n",
    "\n",
    "现在管道已经完成，挑战者（版本2）模型已经取代了之前在生产端点上的认可模型。\n",
    "\n",
    "接下来，您显示部署模型的生产端点的最新信息，然后显示流量分割。100%输入的资源ID是挑战者（v2）模型的资源ID。"
   ]
  },
  {
   "cell_type": "code",
   "execution_count": null,
   "metadata": {
    "id": "9dbf991841d9"
   },
   "outputs": [],
   "source": [
    "gca_resource = endpoint.list(filter=\"display_name=resnet\")[0].gca_resource\n",
    "print(\"Deployed Models\", gca_resource.deployed_models)\n",
    "print(\"\\n\")\n",
    "print(\"Traffic Split\", gca_resource.traffic_split)"
   ]
  },
  {
   "cell_type": "markdown",
   "metadata": {
    "id": "TpV-iwP9qw9c"
   },
   "source": [
    "清理工作\n",
    "\n",
    "要清理此项目中使用的所有Google Cloud资源，您可以[删除用于本教程的Google Cloud项目](https://cloud.google.com/resource-manager/docs/creating-managing-projects#shutting_down_projects)。\n",
    "\n",
    "否则，您可以删除此教程中创建的个别资源。"
   ]
  },
  {
   "cell_type": "code",
   "execution_count": null,
   "metadata": {
    "id": "sx_vKniMq9ZX"
   },
   "outputs": [],
   "source": [
    "import os\n",
    "\n",
    "# Delete endpoint resource\n",
    "try:\n",
    "    endpoint.undeploy_all()\n",
    "    endpoint.delete()\n",
    "except Exception as e:\n",
    "    print(e)\n",
    "\n",
    "# Delete model resource\n",
    "try:\n",
    "    blessed_model.delete()\n",
    "except Exception as e:\n",
    "    print(e)\n",
    "\n",
    "# Delete the pipeline resource\n",
    "try:\n",
    "    job.delete()\n",
    "except Exception as e:\n",
    "    print(e)\n",
    "\n",
    "# Delete Cloud Storage objects that were created\n",
    "delete_bucket = False\n",
    "if delete_bucket or os.getenv(\"IS_TESTING\"):\n",
    "    ! gsutil -m rm -r $BUCKET_URI"
   ]
  }
 ],
 "metadata": {
  "colab": {
   "collapsed_sections": [],
   "name": "challenger_vs_blessed_deployment_method.ipynb",
   "toc_visible": true
  },
  "kernelspec": {
   "display_name": "Python 3",
   "name": "python3"
  }
 },
 "nbformat": 4,
 "nbformat_minor": 0
}
