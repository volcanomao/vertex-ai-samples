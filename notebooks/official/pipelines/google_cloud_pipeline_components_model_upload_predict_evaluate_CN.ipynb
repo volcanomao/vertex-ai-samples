{
 "cells": [
  {
   "cell_type": "code",
   "execution_count": null,
   "metadata": {
    "id": "copyright"
   },
   "outputs": [],
   "source": [
    "# Copyright 2022 Google LLC\n",
    "#\n",
    "# Licensed under the Apache License, Version 2.0 (the \"License\");\n",
    "# you may not use this file except in compliance with the License.\n",
    "# You may obtain a copy of the License at\n",
    "#\n",
    "#     https://www.apache.org/licenses/LICENSE-2.0\n",
    "#\n",
    "# Unless required by applicable law or agreed to in writing, software\n",
    "# distributed under the License is distributed on an \"AS IS\" BASIS,\n",
    "# WITHOUT WARRANTIES OR CONDITIONS OF ANY KIND, either express or implied.\n",
    "# See the License for the specific language governing permissions and\n",
    "# limitations under the License."
   ]
  },
  {
   "cell_type": "markdown",
   "metadata": {
    "id": "title:generic"
   },
   "source": [
    "# Vertex AI流水线: 使用google-cloud-pipeline-components进行模型上传、预测和评估\n",
    "\n",
    "<table align=\"left\">\n",
    "  <td>\n",
    "    <a href=\"https://colab.research.google.com/github/GoogleCloudPlatform/vertex-ai-samples/blob/main/notebooks/official/pipelines/google_cloud_pipeline_components_model_upload_predict_evaluate.ipynb\">\n",
    "      <img src=\"https://cloud.google.com/ml-engine/images/colab-logo-32px.png\" alt=\"Colab logo\"> 在Colab中运行\n",
    "    </a>\n",
    "  </td>\n",
    "  <td>\n",
    "    <a href=\"https://github.com/GoogleCloudPlatform/vertex-ai-samples/blob/main/notebooks/official/pipelines/google_cloud_pipeline_components_model_upload_predict_evaluate.ipynb\">\n",
    "      <img src=\"https://cloud.google.com/ml-engine/images/github-logo-32px.png\" alt=\"GitHub logo\">\n",
    "      在GitHub上查看\n",
    "    </a>\n",
    "  </td>\n",
    "  <td>\n",
    "<a href=\"https://console.cloud.google.com/vertex-ai/workbench/deploy-notebook?download_url=https://raw.githubusercontent.com/GoogleCloudPlatform/vertex-ai-samples/main/notebooks/official/pipelines/google_cloud_pipeline_components_model_upload_predict_evaluate.ipynb\" target='_blank'>\n",
    "      <img src=\"https://lh3.googleusercontent.com/UiNooY4LUgW_oTvpsNhPpQzsstV5W8F7rYgxgGBD85cWJoLmrOzhVs_ksK_vgx40SHs7jCqkTkCk=e14-rj-sc0xffffff-h130-w32\" alt=\"Vertex AI logo\">\n",
    "      在Vertex AI Workbench中打开\n",
    "     </a>\n",
    "  </td>\n",
    "</table>\n",
    "<br/><br/><br/>\n",
    "*注意: 本笔记本使用KFP 1.x和GCPC 1.x。我们建议使用2.x*"
   ]
  },
  {
   "cell_type": "markdown",
   "metadata": {
    "id": "overview:pipelines,custom"
   },
   "source": [
    "## 概述\n",
    "\n",
    "本笔记本展示如何结合实验性的`evaluation`方法，使用[`google_cloud_pipeline_components`](https://github.com/kubeflow/pipelines/tree/master/components/google-cloud)中定义的组件，构建一个[Vertex AI Pipelines](https://cloud.google.com/vertex-ai/docs/pipelines)工作流程。该工作流程将上传一个表格自定义模型作为`Model`资源，创建一个`BatchPredictionJob`资源，然后评估`Model`资源和`BatchPredictionJob`结果，生成一个评估`system.Metrics`工件。\n",
    "\n",
    "了解更多关于[Vertex AI Pipelines](https://cloud.google.com/vertex-ai/docs/pipelines/introduction)和[Vertex AI Model components](https://cloud.google.com/vertex-ai/docs/pipelines/model-endpoint-component)的信息。"
   ]
  },
  {
   "cell_type": "markdown",
   "metadata": {
    "id": "objective:pipelines,custom"
   },
   "source": [
    "### 目标\n",
    "\n",
    "在本教程中，您将学习如何使用来自`google_cloud_pipeline_components`的组件和您构建的自定义管道组件来评估自定义模型。\n",
    "\n",
    "本教程使用以下Google Cloud ML服务和资源：\n",
    "\n",
    "- Vertex AI管道\n",
    "- Vertex AI模型注册表\n",
    "- Vertex AI批量预测\n",
    "\n",
    "执行的步骤包括：\n",
    "\n",
    "- 将预训练模型上传为`Model`资源。\n",
    "- 在`Model`资源上运行`BatchPredictionJob`并使用真实数据。\n",
    "- 生成关于`Model`资源的评估`Metrics`工件。\n",
    "- 将评估指标与阈值进行比较。"
   ]
  },
  {
   "cell_type": "markdown",
   "metadata": {
    "id": "dataset:bikes_weather,lrg"
   },
   "source": [
    "数据集\n",
    "\n",
    "本教程使用的数据集是[安全驾驶员预测Kaggle竞赛](https://www.kaggle.com/c/porto-seguro-safe-driver-prediction/overview)的一部分。模型已经在这些数据上进行了训练，并使用了地面真相进行评估。\n",
    "\n",
    "该数据集预测了保单持有人是否提交了索赔。"
   ]
  },
  {
   "cell_type": "markdown",
   "metadata": {
    "id": "costs"
   },
   "source": [
    "费用\n",
    "\n",
    "本教程使用 Google Cloud 的计费组件：\n",
    "\n",
    "- Vertex AI\n",
    "- Cloud Storage\n",
    "\n",
    "了解 [Vertex AI 价格](https://cloud.google.com/vertex-ai/pricing) 和 [Cloud Storage 价格](https://cloud.google.com/storage/pricing)，并使用 [定价计算器](https://cloud.google.com/products/calculator/) 根据您的预期使用量生成费用估算。"
   ]
  },
  {
   "cell_type": "markdown",
   "metadata": {
    "id": "i7EUnXsZhAGF"
   },
   "source": [
    "安装以下包以执行此笔记本所需的操作。"
   ]
  },
  {
   "cell_type": "code",
   "execution_count": null,
   "metadata": {
    "id": "QTmIIQ8QBfb6"
   },
   "outputs": [],
   "source": [
    "! pip3 install --upgrade --quiet google-cloud-aiplatform \\\n",
    "                                 'google-cloud-pipeline-components<2' \\\n",
    "                                 'kfp<2'"
   ]
  },
  {
   "cell_type": "markdown",
   "metadata": {
    "id": "58707a750154"
   },
   "source": [
    "只有协作人员：取消注释下面的单元格以重新启动内核。"
   ]
  },
  {
   "cell_type": "code",
   "execution_count": null,
   "metadata": {
    "id": "f200f10a1da3"
   },
   "outputs": [],
   "source": [
    "# Automatically restart kernel after installs so that your environment can access the new packages\n",
    "# import IPython\n",
    "\n",
    "# app = IPython.Application.instance()\n",
    "# app.kernel.do_shutdown(True)"
   ]
  },
  {
   "cell_type": "markdown",
   "metadata": {
    "id": "BF1j6f9HApxa"
   },
   "source": [
    "## 在开始之前\n",
    "\n",
    "### 设置您的Google云项目\n",
    "\n",
    "**无论您使用的是笔记本环境都需要执行以下步骤。**\n",
    "\n",
    "1. [选择或创建一个Google云项目](https://console.cloud.google.com/cloud-resource-manager)。当您第一次创建帐户时，您将获得$300的免费信用额用于您的计算/存储费用。\n",
    "\n",
    "2. [确保您的项目已启用计费](https://cloud.google.com/billing/docs/how-to/modify-project)。\n",
    "\n",
    "3. [启用Vertex AI API]\n",
    "\n",
    "4. 如果您在本地运行此笔记本，您需要安装[Cloud SDK](https://cloud.google.com/sdk)。"
   ]
  },
  {
   "cell_type": "markdown",
   "metadata": {
    "id": "WReHDGG5g0XY"
   },
   "source": [
    "#### 设置您的项目ID\n",
    "\n",
    "**如果您不知道您的项目ID**，请尝试以下操作：\n",
    "* 运行 `gcloud config list`。\n",
    "* 运行 `gcloud projects list`。\n",
    "* 查看支持页面：[查找项目ID](https://support.google.com/googleapi/answer/7014113)。"
   ]
  },
  {
   "cell_type": "code",
   "execution_count": null,
   "metadata": {
    "id": "oM1iC_MfAts1"
   },
   "outputs": [],
   "source": [
    "PROJECT_ID = \"[your-project-id]\"  # @param {type:\"string\"}\n",
    "\n",
    "# Set the project id\n",
    "! gcloud config set project {PROJECT_ID}"
   ]
  },
  {
   "cell_type": "markdown",
   "metadata": {
    "id": "region"
   },
   "source": [
    "区域\n",
    "\n",
    "您还可以更改 Vertex AI 使用的 `REGION` 变量。了解有关 [Vertex AI 区域](https://cloud.google.com/vertex-ai/docs/general/locations) 的更多信息。"
   ]
  },
  {
   "cell_type": "code",
   "execution_count": null,
   "metadata": {
    "id": "region"
   },
   "outputs": [],
   "source": [
    "REGION = \"us-central1\"  # @param {type: \"string\"}"
   ]
  },
  {
   "cell_type": "markdown",
   "metadata": {
    "id": "timestamp"
   },
   "source": [
    "UUID（Universally Unique Identifier）\n",
    "\n",
    "如果您正在进行实时教程，您可能正在使用共享的测试帐户或项目。为了避免在创建的资源上产生名称冲突，您需要为每个实例会话创建一个uuid，并将其附加到您在本教程中创建的资源的名称上。"
   ]
  },
  {
   "cell_type": "code",
   "execution_count": null,
   "metadata": {
    "id": "MIe7f62gBfb_"
   },
   "outputs": [],
   "source": [
    "import random\n",
    "import string\n",
    "\n",
    "\n",
    "# Generate a uuid of a specifed length(default=8)\n",
    "def generate_uuid(length: int = 8) -> str:\n",
    "    return \"\".join(random.choices(string.ascii_lowercase + string.digits, k=length))\n",
    "\n",
    "\n",
    "UUID = generate_uuid()"
   ]
  },
  {
   "cell_type": "markdown",
   "metadata": {
    "id": "gcp_authenticate"
   },
   "source": [
    "### 对您的Google Cloud账户进行身份验证\n",
    "\n",
    "根据您的Jupyter环境，您可能需要手动进行身份验证。请按照以下相关说明操作。\n",
    "\n",
    "**1. Vertex AI Workbench**\n",
    "* 无需操作，因为您已经过身份验证。\n",
    "\n",
    "**2. 本地JupyterLab实例，取消注释并运行：**"
   ]
  },
  {
   "cell_type": "code",
   "execution_count": null,
   "metadata": {
    "id": "ce6043da7b33"
   },
   "outputs": [],
   "source": [
    "# ! gcloud auth login"
   ]
  },
  {
   "cell_type": "markdown",
   "metadata": {
    "id": "0367eac06a10"
   },
   "source": [
    "3. 协作，取消注释并运行："
   ]
  },
  {
   "cell_type": "code",
   "execution_count": null,
   "metadata": {
    "id": "21ad4dbb4a61"
   },
   "outputs": [],
   "source": [
    "# from google.colab import auth\n",
    "# auth.authenticate_user()"
   ]
  },
  {
   "cell_type": "markdown",
   "metadata": {
    "id": "c13224697bfb"
   },
   "source": [
    "4. 服务账户或其他\n",
    "* 请参考如何在https://cloud.google.com/storage/docs/gsutil/commands/iam#ch-examples上向您的服务账户授予Cloud Storage权限。"
   ]
  },
  {
   "cell_type": "markdown",
   "metadata": {
    "id": "zgPO1eR3CYjk"
   },
   "source": [
    "创建一个云存储桶\n",
    "\n",
    "创建一个存储桶来存储诸如数据集之类的中间工件。\n",
    "\n",
    "- *{给笔记本作者的注：对于任何需要是唯一的用户提供的字符串（如存储桶名称或模型ID），请在末尾添加“-unique”，以便进行适当的测试}*"
   ]
  },
  {
   "cell_type": "code",
   "execution_count": null,
   "metadata": {
    "id": "MzGDU7TWdts_"
   },
   "outputs": [],
   "source": [
    "BUCKET_URI = f\"gs://your-bucket-name-{PROJECT_ID}-unique\"  # @param {type:\"string\"}"
   ]
  },
  {
   "cell_type": "markdown",
   "metadata": {
    "id": "create_bucket"
   },
   "source": [
    "只有在您的存储桶尚不存在时才能运行以下单元格以创建您的云存储存储桶。"
   ]
  },
  {
   "cell_type": "code",
   "execution_count": null,
   "metadata": {
    "id": "NIq7R4HZCfIc"
   },
   "outputs": [],
   "source": [
    "! gsutil mb -l {REGION} -p {PROJECT_ID} {BUCKET_URI}"
   ]
  },
  {
   "cell_type": "markdown",
   "metadata": {
    "id": "set_service_account"
   },
   "source": [
    "### 服务账号\n",
    "\n",
    "您可以使用服务账号来创建 Vertex AI Pipeline 作业。\n",
    "\n",
    "如果您不想使用项目的 Compute Engine 服务账号，请将`SERVICE_ACCOUNT`设置为另一个服务账号的ID。"
   ]
  },
  {
   "cell_type": "code",
   "execution_count": null,
   "metadata": {
    "id": "set_service_account"
   },
   "outputs": [],
   "source": [
    "SERVICE_ACCOUNT = \"[your-service-account]\"  # @param {type:\"string\"}"
   ]
  },
  {
   "cell_type": "code",
   "execution_count": null,
   "metadata": {
    "id": "autoset_service_account"
   },
   "outputs": [],
   "source": [
    "import sys\n",
    "\n",
    "IS_COLAB = \"google.colab\" in sys.modules\n",
    "if (\n",
    "    SERVICE_ACCOUNT == \"\"\n",
    "    or SERVICE_ACCOUNT is None\n",
    "    or SERVICE_ACCOUNT == \"[your-service-account]\"\n",
    "):\n",
    "    # Get your service account from gcloud\n",
    "    if not IS_COLAB:\n",
    "        shell_output = !gcloud auth list 2>/dev/null\n",
    "        SERVICE_ACCOUNT = shell_output[2].replace(\"*\", \"\").strip()\n",
    "\n",
    "    else:  # IS_COLAB:\n",
    "        shell_output = ! gcloud projects describe  $PROJECT_ID\n",
    "        project_number = shell_output[-1].split(\":\")[1].strip().replace(\"'\", \"\")\n",
    "        SERVICE_ACCOUNT = f\"{project_number}-compute@developer.gserviceaccount.com\"\n",
    "\n",
    "    print(\"Service Account:\", SERVICE_ACCOUNT)"
   ]
  },
  {
   "cell_type": "markdown",
   "metadata": {
    "id": "set_service_account:pipelines"
   },
   "source": [
    "为 Vertex AI 流水线设置服务帐户访问权限\n",
    "\n",
    "运行以下命令以授予您的服务帐户访问权限，可以在您之前创建的存储桶中读取和写入流水线工件 — 您只需要对每个服务帐户运行一次这些命令。"
   ]
  },
  {
   "cell_type": "code",
   "execution_count": null,
   "metadata": {
    "id": "set_service_account:pipelines"
   },
   "outputs": [],
   "source": [
    "! gsutil iam ch serviceAccount:{SERVICE_ACCOUNT}:roles/storage.objectCreator $BUCKET_URI\n",
    "\n",
    "! gsutil iam ch serviceAccount:{SERVICE_ACCOUNT}:roles/storage.objectViewer $BUCKET_URI"
   ]
  },
  {
   "cell_type": "markdown",
   "metadata": {
    "id": "setup_vars"
   },
   "source": [
    "导入库并定义常量"
   ]
  },
  {
   "cell_type": "code",
   "execution_count": null,
   "metadata": {
    "id": "import_aip:mbsdk"
   },
   "outputs": [],
   "source": [
    "import kfp\n",
    "from google.cloud import aiplatform\n",
    "from google_cloud_pipeline_components.experimental.evaluation import \\\n",
    "    ModelEvaluationOp as evaluation_op\n",
    "from google_cloud_pipeline_components.types import artifact_types\n",
    "from google_cloud_pipeline_components.v1.batch_predict_job import \\\n",
    "    ModelBatchPredictOp as batch_prediction_op\n",
    "from google_cloud_pipeline_components.v1.model import \\\n",
    "    ModelUploadOp as model_upload_op\n",
    "from kfp.v2 import compiler\n",
    "from kfp.v2.components import importer_node\n",
    "from kfp.v2.dsl import Input, Metrics, component"
   ]
  },
  {
   "cell_type": "markdown",
   "metadata": {
    "id": "pipeline_constants"
   },
   "source": [
    "为Vertex AI管道设置以下常量："
   ]
  },
  {
   "cell_type": "code",
   "execution_count": null,
   "metadata": {
    "id": "4Uw-NxCiBfcD"
   },
   "outputs": [],
   "source": [
    "PIPELINE_ROOT = \"{}/pipeline_root/safe_driver\".format(BUCKET_URI)"
   ]
  },
  {
   "cell_type": "markdown",
   "metadata": {
    "id": "init_aip:mbsdk"
   },
   "source": [
    "### 初始化用于Python的Vertex AI SDK\n",
    "\n",
    "为您的项目和相应的存储桶初始化Python的Vertex AI SDK。"
   ]
  },
  {
   "cell_type": "code",
   "execution_count": null,
   "metadata": {
    "id": "m3atE5jVBfcE"
   },
   "outputs": [],
   "source": [
    "aiplatform.init(project=PROJECT_ID, staging_bucket=BUCKET_URI, location=REGION)"
   ]
  },
  {
   "cell_type": "markdown",
   "metadata": {
    "id": "d7a5cc8c7f3c"
   },
   "source": [
    "创建组件用于将评估指标与阈值进行比较\n",
    "\n",
    "首先，您可以创建自己的组件，该组件以评估指标文档作为输入，检查阈值并返回是/否决定。它将用于随后的dsl.Condition()中，以决定模型是否应继续下一步，即在线部署。\n",
    "\n",
    "该组件接受以下参数：\n",
    "\n",
    "- `eval_metrics`：从`ModelEvaluation`组件返回的评估指标文档。\n",
    "- `metric_name`：指标条目的键名，用于进行比较。\n",
    "- `threshold`：用于进行是/否决定的指标值阈值。"
   ]
  },
  {
   "cell_type": "code",
   "execution_count": null,
   "metadata": {
    "id": "5cf109a9bcca"
   },
   "outputs": [],
   "source": [
    "@component()\n",
    "def compare(eval_metrics: Input[Metrics], metric_name: str, threshold: float) -> str:\n",
    "    path = eval_metrics.path\n",
    "    # print(\"PATH\", path)\n",
    "\n",
    "    gs_prefix = \"gs://\"\n",
    "    gcsfuse_prefix = \"/gcs/\"\n",
    "    if path.startswith(gs_prefix):\n",
    "        path = path.replace(gs_prefix, gcsfuse_prefix)\n",
    "\n",
    "    import json\n",
    "\n",
    "    with open(path, \"r\") as f:\n",
    "        data = json.load(f)\n",
    "\n",
    "    slices = data[\"slicedMetrics\"]\n",
    "\n",
    "    metrics = slices[0][\"metrics\"][\"classification\"]\n",
    "    # print(\"METRIC KEYS\", metrics.keys())\n",
    "\n",
    "    value = metrics[metric_name]\n",
    "    if value > threshold:\n",
    "        return \"true\"\n",
    "\n",
    "    return \"false\""
   ]
  },
  {
   "cell_type": "markdown",
   "metadata": {
    "id": "define_pipeline:gcpc,bikes_weather,lrg"
   },
   "source": [
    "##定义使用`google_cloud_pipeline_components`组件的评估流水线\n",
    "\n",
    "接下来，定义流水线。\n",
    "\n",
    "用于定义流水线的[`google_cloud_pipeline_components`](https://github.com/kubeflow/pipelines/tree/master/components/google-cloud)组件包括：上传模型、运行批量预测以及使用给定的预测评估模型。\n",
    "\n",
    "查看[上传模型组件](https://github.com/kubeflow/pipelines/blob/master/components/google-cloud/google_cloud_pipeline_components/aiplatform/model/upload_model/component.yaml)的定义。\n",
    "\n",
    "查看[批量预测组件](https://github.com/kubeflow/pipelines/blob/master/components/google-cloud/google_cloud_pipeline_components/aiplatform/batch_predict_job/component.yaml)的定义。\n",
    "\n",
    "查看[实验性评估组件](https://github.com/kubeflow/pipelines/blob/master/components/google-cloud/google_cloud_pipeline_components/experimental/evaluation/component.yaml)的定义。"
   ]
  },
  {
   "cell_type": "code",
   "execution_count": null,
   "metadata": {
    "id": "NvTkSfOeBfcF"
   },
   "outputs": [],
   "source": [
    "DATA_URIS = [\n",
    "    \"gs://cloud-samples-data/vertex-ai/dataset-management/datasets/safe_driver/dataset_safe_driver_train_10k.csv\"\n",
    "]\n",
    "MODEL_URI = \"gs://cloud-samples-data/vertex-ai/google-cloud-aiplatform-ci-artifacts/models/safe_driver/model\"\n",
    "# Create working dir\n",
    "WORKING_DIR = f\"{PIPELINE_ROOT}/{UUID}\"\n",
    "MODEL_DISPLAY_NAME = f\"safe-driver-{UUID}\"\n",
    "BATCH_PREDICTION_DISPLAY_NAME = f\"batch-prediction-on-pipelines-model-{UUID}\"\n",
    "\n",
    "\n",
    "@kfp.dsl.pipeline(name=\"upload-evaluate-\" + UUID)\n",
    "def pipeline(\n",
    "    metric: str,\n",
    "    threshold: float,\n",
    "    project: str = PROJECT_ID,\n",
    "    model_display_name: str = MODEL_DISPLAY_NAME,\n",
    "    batch_prediction_display_name: str = BATCH_PREDICTION_DISPLAY_NAME,\n",
    "    batch_prediction_data_uris: list = DATA_URIS,\n",
    "):\n",
    "    import_unmanaged_model_task = importer_node.importer(\n",
    "        artifact_uri=MODEL_URI,\n",
    "        artifact_class=artifact_types.UnmanagedContainerModel,\n",
    "        metadata={\n",
    "            \"artifactUri\": MODEL_URI,\n",
    "            \"predictSchemata\": {\n",
    "                \"predictionSchemaUri\": MODEL_URI + \"/prediction_schema.yaml\",\n",
    "                \"instanceSchemaUri\": MODEL_URI + \"/instance.yaml\",\n",
    "            },\n",
    "            \"containerSpec\": {\n",
    "                \"imageUri\": \"us-docker.pkg.dev/vertex-ai/automl-tabular/prediction-server:prod\",\n",
    "                \"healthRoute\": \"/health\",\n",
    "                \"predictRoute\": \"/predict\",\n",
    "            },\n",
    "        },\n",
    "    )\n",
    "\n",
    "    model_task = model_upload_op(\n",
    "        project=project,\n",
    "        display_name=model_display_name,\n",
    "        unmanaged_container_model=import_unmanaged_model_task.outputs[\"artifact\"],\n",
    "    )\n",
    "\n",
    "    batch_prediction_task = batch_prediction_op(\n",
    "        project=project,\n",
    "        model=model_task.outputs[\"model\"],\n",
    "        job_display_name=batch_prediction_display_name,\n",
    "        gcs_source_uris=batch_prediction_data_uris,\n",
    "        instances_format=\"csv\",\n",
    "        predictions_format=\"jsonl\",\n",
    "        gcs_destination_output_uri_prefix=WORKING_DIR,\n",
    "        machine_type=\"n1-standard-32\",\n",
    "    )\n",
    "\n",
    "    eval_task = evaluation_op(\n",
    "        project=project,\n",
    "        root_dir=WORKING_DIR,\n",
    "        problem_type=\"classification\",\n",
    "        classification_type=\"multiclass\",\n",
    "        ground_truth_column=\"target\",\n",
    "        class_names=[\"0\", \"1\"],\n",
    "        predictions_format=\"jsonl\",\n",
    "        batch_prediction_job=batch_prediction_task.outputs[\"batchpredictionjob\"],\n",
    "    )\n",
    "\n",
    "    _ = compare(\n",
    "        eval_metrics=eval_task.outputs[\"evaluation_metrics\"],\n",
    "        metric_name=metric,\n",
    "        threshold=threshold,\n",
    "    )"
   ]
  },
  {
   "cell_type": "markdown",
   "metadata": {
    "id": "compile_pipeline"
   },
   "source": [
    "编译管道。"
   ]
  },
  {
   "cell_type": "code",
   "execution_count": null,
   "metadata": {
    "id": "N7kt8MqfBfcG"
   },
   "outputs": [],
   "source": [
    "compiler.Compiler().compile(\n",
    "    pipeline_func=pipeline,\n",
    "    package_path=\"evaluation_demo_pipeline.json\",\n",
    ")"
   ]
  },
  {
   "cell_type": "markdown",
   "metadata": {
    "id": "run_pipeline:custom"
   },
   "source": [
    "运行管道\n",
    "\n",
    "接下来，运行管道。"
   ]
  },
  {
   "cell_type": "code",
   "execution_count": null,
   "metadata": {
    "id": "u5s7gMoABfcG"
   },
   "outputs": [],
   "source": [
    "DISPLAY_NAME = \"safe_driver\" + UUID\n",
    "\n",
    "job = aiplatform.PipelineJob(\n",
    "    display_name=DISPLAY_NAME,\n",
    "    template_path=\"evaluation_demo_pipeline.json\",\n",
    "    pipeline_root=PIPELINE_ROOT,\n",
    "    parameter_values={\"metric\": \"auPrc\", \"threshold\": 0.95},\n",
    "    enable_caching=True,\n",
    ")\n",
    "\n",
    "job.run()\n",
    "\n",
    "! rm evaluation_demo_pipeline.json"
   ]
  },
  {
   "cell_type": "markdown",
   "metadata": {
    "id": "view_pipeline_run:custom"
   },
   "source": [
    "点击生成的链接，查看在云控制台中的运行情况。\n",
    "\n",
    "在用户界面中，当您点击节点时，管道DAG的节点会展开或折叠。"
   ]
  },
  {
   "cell_type": "markdown",
   "metadata": {
    "id": "view_pipleline_results:bqml"
   },
   "source": [
    "查看管道结果和评估指标"
   ]
  },
  {
   "cell_type": "code",
   "execution_count": null,
   "metadata": {
    "id": "view_pipleline_results:bqml"
   },
   "outputs": [],
   "source": [
    "PROJECT_NUMBER = job.gca_resource.name.split(\"/\")[1]\n",
    "print(PROJECT_NUMBER)\n",
    "\n",
    "\n",
    "def print_pipeline_output(job, output_task_name):\n",
    "    JOB_ID = job.name\n",
    "    print(JOB_ID)\n",
    "    artifact = \"\"\n",
    "    for _ in range(len(job.gca_resource.job_detail.task_details)):\n",
    "        TASK_ID = job.gca_resource.job_detail.task_details[_].task_id\n",
    "        EXECUTE_OUTPUT = (\n",
    "            PIPELINE_ROOT\n",
    "            + \"/\"\n",
    "            + PROJECT_NUMBER\n",
    "            + \"/\"\n",
    "            + JOB_ID\n",
    "            + \"/\"\n",
    "            + output_task_name\n",
    "            + \"_\"\n",
    "            + str(TASK_ID)\n",
    "            + \"/executor_output.json\"\n",
    "        )\n",
    "        GCP_RESOURCES = (\n",
    "            PIPELINE_ROOT\n",
    "            + \"/\"\n",
    "            + PROJECT_NUMBER\n",
    "            + \"/\"\n",
    "            + JOB_ID\n",
    "            + \"/\"\n",
    "            + output_task_name\n",
    "            + \"_\"\n",
    "            + str(TASK_ID)\n",
    "            + \"/gcp_resources\"\n",
    "        )\n",
    "        EVALUATION_METRICS = (\n",
    "            PIPELINE_ROOT\n",
    "            + \"/\"\n",
    "            + PROJECT_NUMBER\n",
    "            + \"/\"\n",
    "            + JOB_ID\n",
    "            + \"/\"\n",
    "            + output_task_name\n",
    "            + \"_\"\n",
    "            + str(TASK_ID)\n",
    "            + \"/evaluation_metrics\"\n",
    "        )\n",
    "        # Check if file exists, 0 is success\n",
    "        !gsutil -q stat $EXECUTE_OUTPUT\n",
    "        if _exit_code == 0:\n",
    "            ! gsutil cat $EXECUTE_OUTPUT\n",
    "            artifact = EXECUTE_OUTPUT\n",
    "            break\n",
    "        !gsutil -q stat $GCP_RESOURCES\n",
    "        if _exit_code == 0:\n",
    "            ! gsutil cat $GCP_RESOURCES\n",
    "            artifact = GCP_RESOURCES\n",
    "            break\n",
    "        !gsutil -q stat $EVALUATION_METRICS\n",
    "        if _exit_code == 0:\n",
    "            ! gsutil cat $EVALUATION_METRICS\n",
    "            artifact = EVALUATION_METRICS\n",
    "            break\n",
    "\n",
    "    return artifact\n",
    "\n",
    "\n",
    "print(\"model-upload\")\n",
    "artifacts = print_pipeline_output(job, \"model-upload\")\n",
    "print(\"\\n\\n\")\n",
    "print(\"model-batch-predict\")\n",
    "artifacts = print_pipeline_output(job, \"model-batch-predict\")\n",
    "print(\"\\n\\n\")\n",
    "print(\"model-evaluation\")\n",
    "metrics = print_pipeline_output(job, \"model-evaluation\")\n",
    "print(\"\\n\\n\")\n",
    "print(\"compare\")\n",
    "artifacts = print_pipeline_output(job, \"compare\")"
   ]
  },
  {
   "cell_type": "markdown",
   "metadata": {
    "id": "delete_pipeline"
   },
   "source": [
    "### 删除管道作业\n",
    "\n",
    "在管道作业完成后，您可以使用 `delete()` 方法来删除管道作业。在完成之前，可以使用 `cancel()` 方法来取消管道作业。"
   ]
  },
  {
   "cell_type": "code",
   "execution_count": null,
   "metadata": {
    "id": "delete_pipeline"
   },
   "outputs": [],
   "source": [
    "job.delete()"
   ]
  },
  {
   "cell_type": "markdown",
   "metadata": {
    "id": "cleanup:pipelines"
   },
   "source": [
    "清理\n",
    "\n",
    "要清理此项目中使用的所有Google Cloud资源，您可以删除用于本教程的 [Google Cloud 项目](https://cloud.google.com/resource-manager/docs/creating-managing-projects#shutting_down_projects)。\n",
    "\n",
    "否则，您可以删除本教程中创建的各个资源。\n",
    "\n",
    "- 模型\n",
    "- 批处理作业\n",
    "- Cloud 存储桶（将 `delete_bucket` 设置为 **True** 以删除 Cloud 存储桶）。"
   ]
  },
  {
   "cell_type": "code",
   "execution_count": null,
   "metadata": {
    "id": "JgCXD3X-BfcG"
   },
   "outputs": [],
   "source": [
    "import os\n",
    "\n",
    "delete_bucket = False\n",
    "\n",
    "# Delete the created model\n",
    "models = aiplatform.Model.list(\n",
    "    filter=f\"display_name={MODEL_DISPLAY_NAME}\", order_by=\"create_time\"\n",
    ")\n",
    "if len(models) > 0:\n",
    "    model = models[0]\n",
    "    model.delete()\n",
    "    print(\"Deleted model:\", model)\n",
    "\n",
    "# Delete the created batch-prediction job\n",
    "batch_predictions = aiplatform.BatchPredictionJob.list(\n",
    "    filter=f\"display_name={BATCH_PREDICTION_DISPLAY_NAME}\",\n",
    "    order_by=\"create_time\",\n",
    ")\n",
    "if len(batch_predictions) > 0:\n",
    "    batch_prediction = batch_predictions[0]\n",
    "    batch_prediction.delete()\n",
    "    print(\"Deleted batch prediction job:\", batch_prediction)\n",
    "\n",
    "# Delete the Cloud Storage bucket\n",
    "if delete_bucket or os.getenv(\"IS_TESTING\"):\n",
    "    ! gsutil -m rm -r $BUCKET_URI"
   ]
  }
 ],
 "metadata": {
  "colab": {
   "collapsed_sections": [],
   "name": "google_cloud_pipeline_components_model_upload_predict_evaluate.ipynb",
   "toc_visible": true
  },
  "kernelspec": {
   "display_name": "Python 3",
   "name": "python3"
  }
 },
 "nbformat": 4,
 "nbformat_minor": 0
}
