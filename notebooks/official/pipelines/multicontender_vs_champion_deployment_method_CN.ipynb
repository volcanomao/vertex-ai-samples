{
 "cells": [
  {
   "cell_type": "code",
   "execution_count": null,
   "metadata": {
    "id": "ur8xi4C7S06n"
   },
   "outputs": [],
   "source": [
    "# Copyright 2023 Google LLC\n",
    "#\n",
    "# Licensed under the Apache License, Version 2.0 (the \"License\");\n",
    "# you may not use this file except in compliance with the License.\n",
    "# You may obtain a copy of the License at\n",
    "#\n",
    "#     https://www.apache.org/licenses/LICENSE-2.0\n",
    "#\n",
    "# Unless required by applicable law or agreed to in writing, software\n",
    "# distributed under the License is distributed on an \"AS IS\" BASIS,\n",
    "# WITHOUT WARRANTIES OR CONDITIONS OF ANY KIND, either express or implied.\n",
    "# See the License for the specific language governing permissions and\n",
    "# limitations under the License."
   ]
  },
  {
   "cell_type": "markdown",
   "metadata": {
    "id": "JAPoU8Sm5E6e"
   },
   "source": [
    "多候选者 vs 冠军方法论，用于模型部署到生产环境中\n",
    "\n",
    "*注意：此笔记本使用的是KFP 1.x和GCPC 1.x。我们建议使用2.x版本*"
   ]
  },
  {
   "cell_type": "markdown",
   "metadata": {
    "id": "24743cf4a1e1"
   },
   "source": [
    "注意：此笔记本已在以下环境中测试：\n",
    "\n",
    "* Python版本=3.9"
   ]
  },
  {
   "cell_type": "markdown",
   "metadata": {
    "id": "tvgnzT1CKxrO"
   },
   "source": [
    "## 概述\n",
    "\n",
    "本教程展示了如何使用Vertex AI Pipeline，通过多候选者对决冠军方法将下一个版本的模型部署到生产环境中。"
   ]
  },
  {
   "cell_type": "markdown",
   "metadata": {
    "id": "d975e698c9a4"
   },
   "source": [
    "### 目标\n",
    "\n",
    "在本教程中，您将学习如何构建一个 Vertex AI 管道，该管道评估部署（生产）模型的新生产数据与其它版本（竞争者）的模型，以确定哪个竞争者模型将成为替换生产环境中的冠军模型。\n",
    "\n",
    "本教程使用以下Google Cloud ML 服务和资源：\n",
    "\n",
    "- Vertex AI Pipeline\n",
    "- Vertex AI Model Evaluation\n",
    "- Vertex AI Model Registry\n",
    "- Vertex AI Endpoints\n",
    "\n",
    "执行的步骤包括：\n",
    "\n",
    "- 导入一个经过预训练的（冠军）模型到 `Vertex AI Model Registry`。\n",
    "- 将合成模型训练评估指标导入对应的（冠军）模型。\n",
    "- 创建一个 `Vertex AI Endpoint` 资源。\n",
    "- 将冠军模型部署到 `Endpoint` 资源。\n",
    "- 导入其他（竞争者）版本的部署模型。\n",
    "- 将合成模型训练评估指标导入对应的（竞争者）模型。\n",
    "- 创建一个 Vertex AI Pipeline\n",
    "    - 获取冠军模型。\n",
    "    - 使用生产数据（伪造）微调冠军模型。\n",
    "    - 为冠军模型导入合成的训练+生产评估指标。\n",
    "    - 获取竞争者模型。\n",
    "    - 使用生产数据（伪造）微调竞争者模型。\n",
    "    - 为竞争者模型导入合成的训练+生产评估指标。\n",
    "    - 将竞争者的评估结果与冠军进行比较，并将新的冠军模型设置为默认模型。\n",
    "    - 部署新的冠军模型。\n",
    "\n",
    "了解有关 [Vertex AI 管道](https://cloud.google.com/vertex-ai/docs/pipelines/introduction) 的更多信息。"
   ]
  },
  {
   "cell_type": "markdown",
   "metadata": {
    "id": "08d289fa873f"
   },
   "source": [
    "### 模型\n",
    "\n",
    "本教程使用了来自TensorFlow Hub的预训练图像分类模型，该模型是在ImageNet数据集上训练的。\n",
    "\n",
    "了解更多关于[ResNet V2预训练模型](https://tfhub.dev/google/imagenet/resnet_v2_101/classification/5)。"
   ]
  },
  {
   "cell_type": "markdown",
   "metadata": {
    "id": "aed92deeb4a0"
   },
   "source": [
    "### 费用\n",
    "\n",
    "本教程使用谷歌云的可计费组件：\n",
    "\n",
    "* Vertex AI\n",
    "* 云存储\n",
    "\n",
    "了解[Vertex AI 价格](https://cloud.google.com/vertex-ai/pricing)，\n",
    "以及[云存储价格](https://cloud.google.com/storage/pricing)，\n",
    "并使用[定价计算器](https://cloud.google.com/products/calculator/) \n",
    "根据您的预计使用量生成成本估算。"
   ]
  },
  {
   "cell_type": "markdown",
   "metadata": {
    "id": "i7EUnXsZhAGF"
   },
   "source": [
    "## 安装\n",
    "\n",
    "安装以下所需的包以执行此笔记本。"
   ]
  },
  {
   "cell_type": "code",
   "execution_count": null,
   "metadata": {
    "id": "2b4ef9b72d43"
   },
   "outputs": [],
   "source": [
    "# Install the packages\n",
    "! pip3 install --quiet --upgrade google-cloud-aiplatform \\\n",
    "                                 'google-cloud-pipeline-components<2'\n",
    "\n",
    "! pip3 install --quiet           tensorflow==2.5 \\\n",
    "                                 tensorflow_hub\n",
    "\n",
    "! pip3 install --quiet --upgrade 'kfp<2'"
   ]
  },
  {
   "cell_type": "markdown",
   "metadata": {
    "id": "58707a750154"
   },
   "source": [
    "### 仅限协作：取消以下单元格的注释以重新启动内核。"
   ]
  },
  {
   "cell_type": "code",
   "execution_count": null,
   "metadata": {
    "id": "f200f10a1da3"
   },
   "outputs": [],
   "source": [
    "# Automatically restart kernel after installs so that your environment can access the new packages\n",
    "# import IPython\n",
    "\n",
    "# app = IPython.Application.instance()\n",
    "# app.kernel.do_shutdown(True)"
   ]
  },
  {
   "cell_type": "markdown",
   "metadata": {
    "id": "BF1j6f9HApxa"
   },
   "source": [
    "## 开始之前\n",
    "\n",
    "### 设置你的Google Cloud项目\n",
    "\n",
    "**以下步骤是必需的，无论你使用什么笔记本环境。**\n",
    "\n",
    "1. [选择或创建一个Google Cloud项目](https://console.cloud.google.com/cloud-resource-manager)。当你第一次创建一个帐户时，你会获得$300的免费信用额度，可用于支付计算/存储成本。\n",
    "\n",
    "2. [确保为您的项目启用了计费](https://cloud.google.com/billing/docs/how-to/modify-project)。\n",
    "\n",
    "3. [启用 Vertex AI API]。\n",
    "\n",
    "4. 如果你正在本地运行这个笔记本，你需要安装[Cloud SDK](https://cloud.google.com/sdk)。"
   ]
  },
  {
   "cell_type": "markdown",
   "metadata": {
    "id": "WReHDGG5g0XY"
   },
   "source": [
    "设置您的项目ID\n",
    "\n",
    "**如果您不知道您的项目ID**，请尝试以下操作：\n",
    "* 运行 `gcloud config list`。\n",
    "* 运行 `gcloud projects list`。\n",
    "* 查看支持页面：[定位项目ID](https://support.google.com/googleapi/answer/7014113)"
   ]
  },
  {
   "cell_type": "code",
   "execution_count": null,
   "metadata": {
    "id": "oM1iC_MfAts1"
   },
   "outputs": [],
   "source": [
    "PROJECT_ID = \"[your-project-id]\"  # @param {type:\"string\"}\n",
    "\n",
    "# Set the project id\n",
    "! gcloud config set project {PROJECT_ID}"
   ]
  },
  {
   "cell_type": "markdown",
   "metadata": {
    "id": "region"
   },
   "source": [
    "Region\n",
    "\n",
    "您还可以更改 Vertex AI 使用的 `REGION` 变量。了解更多关于[Vertex AI 区域](https://cloud.google.com/vertex-ai/docs/general/locations)。"
   ]
  },
  {
   "cell_type": "code",
   "execution_count": null,
   "metadata": {
    "id": "region"
   },
   "outputs": [],
   "source": [
    "REGION = \"us-central1\"  # @param {type: \"string\"}"
   ]
  },
  {
   "cell_type": "markdown",
   "metadata": {
    "id": "sBCra4QMA2wR"
   },
   "source": [
    "###验证您的Google Cloud账户\n",
    "\n",
    "根据您的Jupyter环境，您可能需要手动进行身份验证。请按照以下相关说明进行操作。"
   ]
  },
  {
   "cell_type": "markdown",
   "metadata": {
    "id": "74ccc9e52986"
   },
   "source": [
    "1. 顶点 AI 工作台\n",
    "* 无需操作，因为您已经通过身份验证。"
   ]
  },
  {
   "cell_type": "markdown",
   "metadata": {
    "id": "de775a3773ba"
   },
   "source": [
    "2. 本地 JupyterLab 实例，取消注释并运行:"
   ]
  },
  {
   "cell_type": "code",
   "execution_count": null,
   "metadata": {
    "id": "254614fa0c46"
   },
   "outputs": [],
   "source": [
    "# ! gcloud auth login"
   ]
  },
  {
   "cell_type": "markdown",
   "metadata": {
    "id": "ef21552ccea8"
   },
   "source": [
    "3. 使用协作编辑，取消注释并运行:"
   ]
  },
  {
   "cell_type": "code",
   "execution_count": null,
   "metadata": {
    "id": "603adbbf0532"
   },
   "outputs": [],
   "source": [
    "# from google.colab import auth\n",
    "# auth.authenticate_user()"
   ]
  },
  {
   "cell_type": "markdown",
   "metadata": {
    "id": "f6b2ccc891ed"
   },
   "source": [
    "4. 服务账户或其他\n",
    "*请参考如何在https://cloud.google.com/storage/docs/gsutil/commands/iam#ch-examples上为您的服务账户授予云存储权限。"
   ]
  },
  {
   "cell_type": "markdown",
   "metadata": {
    "id": "zgPO1eR3CYjk"
   },
   "source": [
    "### 创建一个云存储桶\n",
    "\n",
    "创建一个存储桶来存储中间产物，如数据集。"
   ]
  },
  {
   "cell_type": "code",
   "execution_count": null,
   "metadata": {
    "id": "MzGDU7TWdts_"
   },
   "outputs": [],
   "source": [
    "BUCKET_URI = f\"gs://your-bucket-name-{PROJECT_ID}-unique\"  # @param {type:\"string\"}"
   ]
  },
  {
   "cell_type": "markdown",
   "metadata": {
    "id": "-EcIXiGsCePi"
   },
   "source": [
    "只有在您的存储桶不存在时，才运行以下单元格以创建您的云存储存储桶。"
   ]
  },
  {
   "cell_type": "code",
   "execution_count": null,
   "metadata": {
    "id": "NIq7R4HZCfIc"
   },
   "outputs": [],
   "source": [
    "! gsutil mb -l {REGION} -p {PROJECT_ID} {BUCKET_URI}"
   ]
  },
  {
   "cell_type": "markdown",
   "metadata": {
    "id": "set_service_account"
   },
   "source": [
    "### 服务账号\n",
    "\n",
    "您可以使用服务账号来创建Vertex AI管道作业。\n",
    "\n",
    "如果您不想使用项目的计算引擎服务账号，请将`SERVICE_ACCOUNT`设置为另一个服务账号ID。"
   ]
  },
  {
   "cell_type": "code",
   "execution_count": null,
   "metadata": {
    "id": "set_service_account"
   },
   "outputs": [],
   "source": [
    "SERVICE_ACCOUNT = \"[your-service-account]\"  # @param {type:\"string\"}"
   ]
  },
  {
   "cell_type": "code",
   "execution_count": null,
   "metadata": {
    "id": "autoset_service_account"
   },
   "outputs": [],
   "source": [
    "import sys\n",
    "\n",
    "IS_COLAB = \"google.colab\" in sys.modules\n",
    "if (\n",
    "    SERVICE_ACCOUNT == \"\"\n",
    "    or SERVICE_ACCOUNT is None\n",
    "    or SERVICE_ACCOUNT == \"[your-service-account]\"\n",
    "):\n",
    "    # Get your service account from gcloud\n",
    "    if not IS_COLAB:\n",
    "        shell_output = !gcloud auth list 2>/dev/null\n",
    "        SERVICE_ACCOUNT = shell_output[2].replace(\"*\", \"\").strip()\n",
    "\n",
    "    else:  # IS_COLAB:\n",
    "        shell_output = ! gcloud projects describe  $PROJECT_ID\n",
    "        project_number = shell_output[-1].split(\":\")[1].strip().replace(\"'\", \"\")\n",
    "        SERVICE_ACCOUNT = f\"{project_number}-compute@developer.gserviceaccount.com\"\n",
    "\n",
    "    print(\"Service Account:\", SERVICE_ACCOUNT)"
   ]
  },
  {
   "cell_type": "markdown",
   "metadata": {
    "id": "set_service_account:pipelines"
   },
   "source": [
    "#### 为Vertex AI Pipelines设置服务账户访问权限\n",
    "\n",
    "运行以下命令，授予您的服务账户读取和写入管道存储桶中的管道工件的访问权限，此存储桶是在上一步中创建的 -- 您只需要针对每个服务账户运行一次这些命令。"
   ]
  },
  {
   "cell_type": "code",
   "execution_count": null,
   "metadata": {
    "id": "set_service_account:pipelines"
   },
   "outputs": [],
   "source": [
    "! gsutil iam ch serviceAccount:{SERVICE_ACCOUNT}:roles/storage.objectCreator $BUCKET_URI\n",
    "\n",
    "! gsutil iam ch serviceAccount:{SERVICE_ACCOUNT}:roles/storage.objectViewer $BUCKET_URI"
   ]
  },
  {
   "cell_type": "markdown",
   "metadata": {
    "id": "960505627ddf"
   },
   "source": [
    "### 导入库"
   ]
  },
  {
   "cell_type": "code",
   "execution_count": null,
   "metadata": {
    "id": "PyQmSRbKA8r-"
   },
   "outputs": [],
   "source": [
    "import kfp\n",
    "import tensorflow as tf\n",
    "import tensorflow_hub as hub\n",
    "from google.cloud import aiplatform\n",
    "from google.cloud.aiplatform import gapic\n",
    "from kfp.v2 import compiler\n",
    "from kfp.v2.dsl import component"
   ]
  },
  {
   "cell_type": "markdown",
   "metadata": {
    "id": "init_aip:mbsdk,all"
   },
   "source": [
    "### 初始化 Vertex AI SDK for Python\n",
    "\n",
    "为您的项目初始化 Vertex AI SDK for Python。"
   ]
  },
  {
   "cell_type": "code",
   "execution_count": null,
   "metadata": {
    "id": "init_aip:mbsdk,all"
   },
   "outputs": [],
   "source": [
    "aiplatform.init(project=PROJECT_ID, location=REGION, staging_bucket=BUCKET_URI)"
   ]
  },
  {
   "cell_type": "markdown",
   "metadata": {
    "id": "accelerators:training,cpu,prediction,cpu,mbsdk"
   },
   "source": [
    "#### 设置硬件加速器\n",
    "\n",
    "您可以为训练和预测设置硬件加速器。\n",
    "\n",
    "设置变量 `DEPLOY_GPU/DEPLOY_NGPU` 来使用支持 GPU 的容器镜像，以及分配给虚拟机（VM）实例的 GPU 的数量。例如，要使用一个 GPU 容器镜像，并为每台 VM 分配 4 个 Nvidia Telsa K80 GPU，您可以指定：\n",
    "\n",
    "    (aip.gapic.AcceleratorType.NVIDIA_TESLA_K80, 4)\n",
    "\n",
    "否则，指定 `(None, None)` 来使用一个容器镜像在 CPU 上运行。\n",
    "\n",
    "了解更多关于[您所在地区的硬件加速器支持](https://cloud.google.com/vertex-ai/docs/general/locations#accelerators)。"
   ]
  },
  {
   "cell_type": "code",
   "execution_count": null,
   "metadata": {
    "id": "accelerators:training,cpu,prediction,cpu,mbsdk"
   },
   "outputs": [],
   "source": [
    "DEPLOY_GPU, DEPLOY_NGPU = (None, None)"
   ]
  },
  {
   "cell_type": "markdown",
   "metadata": {
    "id": "container:training,prediction"
   },
   "source": [
    "设置预构建的容器\n",
    "\n",
    "为训练和预测设置预构建的Docker容器映像。\n",
    "\n",
    "要查看最新列表，请参阅[用于预测的预构建容器](https://cloud.google.com/ai-platform-unified/docs/predictions/pre-built-containers)。"
   ]
  },
  {
   "cell_type": "code",
   "execution_count": null,
   "metadata": {
    "id": "container:training,prediction"
   },
   "outputs": [],
   "source": [
    "TF = \"2.5\".replace(\".\", \"-\")\n",
    "\n",
    "if DEPLOY_GPU:\n",
    "    DEPLOY_VERSION = \"tf2-gpu.{}\".format(TF)\n",
    "else:\n",
    "    DEPLOY_VERSION = \"tf2-cpu.{}\".format(TF)\n",
    "\n",
    "DEPLOY_IMAGE = \"{}-docker.pkg.dev/vertex-ai/prediction/{}:latest\".format(\n",
    "    REGION.split(\"-\")[0], DEPLOY_VERSION\n",
    ")\n",
    "\n",
    "print(\"Deployment:\", DEPLOY_IMAGE, DEPLOY_GPU, DEPLOY_NGPU)"
   ]
  },
  {
   "cell_type": "markdown",
   "metadata": {
    "id": "machine:training"
   },
   "source": [
    "#### 设置机器类型\n",
    "\n",
    "接下来，设置用于预测的机器类型。\n",
    "\n",
    "- 将变量 `DEPLOY_COMPUTE` 设置为配置用于训练的VM的计算资源。\n",
    " - `机器类型`\n",
    "     - `n1-standard`: 每个vCPU 3.75GB内存。\n",
    "     - `n1-highmem`: 每个vCPU 6.5GB内存\n",
    "     - `n1-highcpu`: 每个vCPU 0.9GB内存\n",
    " - `vCPUs`: \\[2、4、8、16、32、64、96\\]个CPU核心\n",
    "\n",
    "*注意：以下内容不支持训练：*\n",
    "\n",
    " - `standard`: 2个vCPU\n",
    " - `highcpu`: 2、4和8个vCPU\n",
    "\n",
    "*注意：您也可以在训练和部署中使用n2和e2机器类型，但它们不支持GPU*。"
   ]
  },
  {
   "cell_type": "markdown",
   "metadata": {
    "id": "63de49055083"
   },
   "source": [
    "### 保存模型文件\n",
    "\n",
    "在这一点上，模型存储在内存中。 接下来，您需要将模型文件保存到云存储位置。"
   ]
  },
  {
   "cell_type": "code",
   "execution_count": null,
   "metadata": {
    "id": "machine:training"
   },
   "outputs": [],
   "source": [
    "DEPLOY_COMPUTE = \"n1-standard-4\"\n",
    "print(\"Deploy machine type\", DEPLOY_COMPUTE)"
   ]
  },
  {
   "cell_type": "markdown",
   "metadata": {
    "id": "d8128b8ff025"
   },
   "source": [
    "从TensorFlow Hub中获取预训练模型\n",
    "\n",
    "为了演示目的，本教程使用了来自TensorFlow Hub（TFHub）的预训练模型，然后上传到“Vertex AI Model”资源中。一旦有了“Vertex AI Model”资源，该模型就可以部署到“Vertex AI Endpoint”资源中。\n",
    "\n",
    "### 下载预训练模型\n",
    "\n",
    "首先，您可以从TensorFlow Hub中下载预训练模型。该模型作为TF.Keras层下载。在这个例子中，为了完成模型，创建一个带有下载的TFHub模型作为层的`Sequential()`模型，并指定模型的输入形状。"
   ]
  },
  {
   "cell_type": "code",
   "execution_count": null,
   "metadata": {
    "id": "c55fa4c826f7"
   },
   "outputs": [],
   "source": [
    "tfhub_model = tf.keras.Sequential(\n",
    "    [hub.KerasLayer(\"https://tfhub.dev/google/imagenet/resnet_v2_101/classification/5\")]\n",
    ")\n",
    "\n",
    "tfhub_model.build([None, 32, 32, 3])\n",
    "\n",
    "tfhub_model.summary()"
   ]
  },
  {
   "cell_type": "code",
   "execution_count": null,
   "metadata": {
    "id": "64618c713db9"
   },
   "outputs": [],
   "source": [
    "MODEL_DIR = BUCKET_URI + \"/model\"\n",
    "tfhub_model.save(MODEL_DIR)"
   ]
  },
  {
   "cell_type": "markdown",
   "metadata": {
    "id": "e8ce91147c93"
   },
   "source": [
    "### 将TensorFlow Hub模型上传到`Vertex AI Model`资源\n",
    "\n",
    "最后，您可以使用`upload()`方法将TFHub模型的模型构件上传到`Vertex AI Model`资源，需要指定以下参数：\n",
    "\n",
    "- `display_name`: `Model`资源的可读名称。\n",
    "- `artifact_uri`: 模型包的存储位置。\n",
    "- `serving_container_image_uri`: 提供服务的容器镜像。\n",
    "\n",
    "将模型上传到Vertex AI Model资源会返回一个长时间运行的操作，因为可能需要一些时间。\n",
    "\n",
    "*注意:* 当将模型构件上传到`Vertex AI Model`资源时，需要指定相应的部署容器镜像。"
   ]
  },
  {
   "cell_type": "code",
   "execution_count": null,
   "metadata": {
    "id": "ad61e1429512"
   },
   "outputs": [],
   "source": [
    "champion_model = aiplatform.Model.upload(\n",
    "    display_name=\"resnet-v1\",\n",
    "    artifact_uri=MODEL_DIR,\n",
    "    serving_container_image_uri=DEPLOY_IMAGE,\n",
    "    is_default_version=True,\n",
    "    version_aliases=[\"v1\"],\n",
    ")\n",
    "\n",
    "print(champion_model)"
   ]
  },
  {
   "cell_type": "markdown",
   "metadata": {
    "id": "c11e98ef5391"
   },
   "source": [
    "### 创建模型评估\n",
    "\n",
    "首先，您以与模型评估的预定义模式之一相对应的格式创建模型评估。在这个例子中，您将使用分类指标的模式，并将以下评估指标子集指定为一个字典：\n",
    "\n",
    "- `logLoss`：对数损失。\n",
    "- `auPrc`：准确度。\n",
    "\n",
    "然后，您使用以下参数构建 `ModelEvaluation` 对象：\n",
    "\n",
    "- `display_name`：评估指标的人类可读名称。\n",
    "- `metrics_schema_uri`：特定类型评估指标的模式。\n",
    "- `metrics`：包含评估指标的字典。\n",
    "\n",
    "了解更多关于[评估指标模式](https://cloud.google.com/vertex-ai/docs/evaluation/introduction#features)。"
   ]
  },
  {
   "cell_type": "code",
   "execution_count": null,
   "metadata": {
    "id": "e9af222db292"
   },
   "outputs": [],
   "source": [
    "metrics = {\"logLoss\": 1.4, \"auPrc\": 0.85}\n",
    "print(metrics)\n",
    "\n",
    "champion_eval = gapic.ModelEvaluation(\n",
    "    display_name=\"train-v1\",\n",
    "    metrics_schema_uri=\"gs://google-cloud-aiplatform/schema/modelevaluation/classification_metrics_1.0.0.yaml\",\n",
    "    metrics=metrics,\n",
    ")"
   ]
  },
  {
   "cell_type": "markdown",
   "metadata": {
    "id": "68870bd8194d"
   },
   "source": [
    "### 将评估指标上传到模型注册表\n",
    "\n",
    "接下来，将自定义训练作业中模型的评估上传到 Vertex AI 模型注册表中相应的条目。\n",
    "\n",
    "目前，SDK 中尚不支持此方法。相反，您可以使用较低级别的 GAPIC API 接口。"
   ]
  },
  {
   "cell_type": "code",
   "execution_count": null,
   "metadata": {
    "id": "3044788848af"
   },
   "outputs": [],
   "source": [
    "API_ENDPOINT = f\"{REGION}-aiplatform.googleapis.com\"\n",
    "client = gapic.ModelServiceClient(client_options={\"api_endpoint\": API_ENDPOINT})\n",
    "\n",
    "client.import_model_evaluation(\n",
    "    parent=champion_model.resource_name, model_evaluation=champion_eval\n",
    ")"
   ]
  },
  {
   "cell_type": "markdown",
   "metadata": {
    "id": "628de0914ba1"
   },
   "source": [
    "### 创建`Endpoint`资源\n",
    "\n",
    "您可以使用`Endpoint.create()`方法创建`Endpoint`资源。至少，您需要指定端点的显示名称。另外，您可以指定项目和位置（区域）；否则，设置将继承您使用`init()`方法初始化Vertex AI SDK时设置的值。\n",
    "\n",
    "在这个例子中，指定了以下参数：\n",
    "\n",
    "- `display_name`：`Endpoint`资源的可读名称。\n",
    "- `project`：您的项目ID。\n",
    "- `location`：您的区域。\n",
    "\n",
    "该方法返回一个`Endpoint`对象。\n",
    "\n",
    "了解更多关于[Vertex AI端点](https://cloud.google.com/vertex-ai/docs/predictions/deploy-model-api)。"
   ]
  },
  {
   "cell_type": "code",
   "execution_count": null,
   "metadata": {
    "id": "0ea443f9593b"
   },
   "outputs": [],
   "source": [
    "endpoint = aiplatform.Endpoint.create(\n",
    "    display_name=\"production\", project=PROJECT_ID, location=REGION\n",
    ")\n",
    "\n",
    "print(endpoint)"
   ]
  },
  {
   "cell_type": "markdown",
   "metadata": {
    "id": "ca3fa3f6a894"
   },
   "source": [
    "将`Model`资源部署到`Endpoint`资源\n",
    "\n",
    "接下来，您将`Vertex AI Model`资源部署到一个`Vertex AI Endpoint`资源。 `Vertex AI Model`资源已经为其定义了部署容器镜像。 要部署，您需要指定以下额外的配置设置：\n",
    "\n",
    "- 机器类型。\n",
    "- (如果有的话) GPU的类型和数量。\n",
    "- VM实例的静态、手动或自动缩放。\n",
    "\n",
    "在此示例中，您将以指定参数的最小数目部署模型，如下所示：\n",
    "\n",
    "- `model`：`Model`资源。\n",
    "- `deployed_model_displayed_name`：部署模型实例的可读名称。\n",
    "- `machine_type`：每个VM实例的机器类型。\n",
    "\n",
    "由于需要为资源分配资源，这可能需要几分钟时间。"
   ]
  },
  {
   "cell_type": "code",
   "execution_count": null,
   "metadata": {
    "id": "4e93b034a72f"
   },
   "outputs": [],
   "source": [
    "response = endpoint.deploy(\n",
    "    model=champion_model,\n",
    "    deployed_model_display_name=\"champion\",\n",
    "    machine_type=DEPLOY_COMPUTE,\n",
    ")\n",
    "\n",
    "print(response)"
   ]
  },
  {
   "cell_type": "markdown",
   "metadata": {
    "id": "75cd089dd792"
   },
   "source": [
    "## 为部署的模型创建多个竞争版本\n",
    "\n",
    "接下来，您可以创建多个合成版本的部署冠军模型。"
   ]
  },
  {
   "cell_type": "code",
   "execution_count": null,
   "metadata": {
    "id": "8e654013bde0"
   },
   "outputs": [],
   "source": [
    "contender_model_1 = aiplatform.Model.upload(\n",
    "    display_name=\"resnet-v2\",\n",
    "    artifact_uri=MODEL_DIR,\n",
    "    serving_container_image_uri=DEPLOY_IMAGE,\n",
    "    parent_model=champion_model.resource_name,\n",
    "    is_default_version=False,\n",
    "    version_aliases=[\"v2\"],\n",
    ")\n",
    "\n",
    "contender_model_2 = aiplatform.Model.upload(\n",
    "    display_name=\"resnet-v3\",\n",
    "    artifact_uri=MODEL_DIR,\n",
    "    serving_container_image_uri=DEPLOY_IMAGE,\n",
    "    parent_model=champion_model.resource_name,\n",
    "    is_default_version=False,\n",
    "    version_aliases=[\"v3\"],\n",
    ")"
   ]
  },
  {
   "cell_type": "markdown",
   "metadata": {
    "id": "c11e98ef5391"
   },
   "source": [
    "接下来，为每个竞争模型创建一个模型评估。"
   ]
  },
  {
   "cell_type": "code",
   "execution_count": null,
   "metadata": {
    "id": "e9af222db292"
   },
   "outputs": [],
   "source": [
    "metrics = {\"logLoss\": 1.5, \"auPrc\": 0.83}\n",
    "\n",
    "contender_1_eval = gapic.ModelEvaluation(\n",
    "    display_name=\"train-v2\",\n",
    "    metrics_schema_uri=\"gs://google-cloud-aiplatform/schema/modelevaluation/classification_metrics_1.0.0.yaml\",\n",
    "    metrics=metrics,\n",
    ")\n",
    "\n",
    "# workaround for bug\n",
    "contender_model_1.versioning_registry.add_version_aliases(\n",
    "    new_aliases=[\"default\"], version=contender_model_1.version_id\n",
    ")\n",
    "\n",
    "client.import_model_evaluation(\n",
    "    parent=contender_model_1.resource_name, model_evaluation=contender_1_eval\n",
    ")\n",
    "\n",
    "metrics = {\"logLoss\": 1.6, \"auPrc\": 0.82}\n",
    "\n",
    "contender_2_eval = gapic.ModelEvaluation(\n",
    "    display_name=\"train-v3\",\n",
    "    metrics_schema_uri=\"gs://google-cloud-aiplatform/schema/modelevaluation/classification_metrics_1.0.0.yaml\",\n",
    "    metrics=metrics,\n",
    ")\n",
    "\n",
    "# workaround for bug\n",
    "contender_model_2.versioning_registry.add_version_aliases(\n",
    "    new_aliases=[\"default\"], version=contender_model_2.version_id\n",
    ")\n",
    "\n",
    "client.import_model_evaluation(\n",
    "    parent=contender_model_2.resource_name, model_evaluation=contender_2_eval\n",
    ")"
   ]
  },
  {
   "cell_type": "markdown",
   "metadata": {
    "id": "c57974c5e5f9"
   },
   "source": [
    "## 为管道创建自定义组件\n",
    "\n",
    "接下来，您需要创建几个自定义组件，用于在管道中使用。\n",
    "\n",
    "### 创建用于导入分类指标的组件\n",
    "\n",
    "首先，您定义一个组件，用于将挑战模型的评估指标导入到模型注册表中。该组件接受以下参数：\n",
    "\n",
    "- display_name：评估指标的可读名称\n",
    "- metrics：格式化后的用于分类的评估指标\n",
    "- parent_model_resource：挑战者模型版本的完整资源名称\n",
    "- region：地区。"
   ]
  },
  {
   "cell_type": "code",
   "execution_count": null,
   "metadata": {
    "id": "0f416e2eaf3c"
   },
   "outputs": [],
   "source": [
    "@component(packages_to_install=[\"google-cloud-aiplatform\"])\n",
    "def import_classification_metrics(\n",
    "    display_name: str,\n",
    "    metrics: dict,\n",
    "    parent_model_resource: str,\n",
    "    project: str,\n",
    "    region: str,\n",
    "):\n",
    "    from google.cloud import aiplatform\n",
    "    from google.cloud.aiplatform import gapic\n",
    "\n",
    "    print(\"DISPLAY\", display_name)\n",
    "\n",
    "    evaluation = gapic.ModelEvaluation(\n",
    "        display_name=display_name,\n",
    "        metrics_schema_uri=\"gs://google-cloud-aiplatform/schema/modelevaluation/classification_metrics_1.0.0.yaml\",\n",
    "        metrics=metrics,\n",
    "    )\n",
    "\n",
    "    # workaround for bug\n",
    "    aiplatform.init(project=project, location=region)\n",
    "    parent_model = aiplatform.Model(parent_model_resource)\n",
    "    parent_model.versioning_registry.add_version_aliases(\n",
    "        new_aliases=[\"default\"], version=parent_model.version_id\n",
    "    )\n",
    "\n",
    "    API_ENDPOINT = f\"{region}-aiplatform.googleapis.com\"\n",
    "    client = gapic.ModelServiceClient(client_options={\"api_endpoint\": API_ENDPOINT})\n",
    "    client.import_model_evaluation(\n",
    "        parent=parent_model_resource, model_evaluation=evaluation\n",
    "    )"
   ]
  },
  {
   "cell_type": "markdown",
   "metadata": {
    "id": "b19203fb3003"
   },
   "source": [
    "创建组件以比较指标\n",
    "\n",
    "接下来，您需要定义一个组件来比较模型的冠军版本和挑战者版本之间的 `auPrc` 指标。拥有最好 `auPrc` 值的版本将被设为默认模型。在随后部署时，默认模型将被部署。该组件接受以下参数：\n",
    "\n",
    "- `champion_resource_name`：冠军模型的完整资源名称。\n",
    "- `contender_model_resource_names`：挑战者模型的完整资源名称列表。"
   ]
  },
  {
   "cell_type": "code",
   "execution_count": null,
   "metadata": {
    "id": "8dc5304a0fd1"
   },
   "outputs": [],
   "source": [
    "@component(packages_to_install=[\"google-cloud-aiplatform\"])\n",
    "def compare_metrics(\n",
    "    champion_model_resource_name: str, contender_model_resource_names: list\n",
    "):\n",
    "    from google.cloud import aiplatform\n",
    "\n",
    "    # Get the metrics for the blessed model\n",
    "    champion_model = aiplatform.Model(champion_model_resource_name)\n",
    "    champion_eval = champion_model.list_model_evaluations()[\n",
    "        1\n",
    "    ]  # index 1 is the production eval data\n",
    "    champion_auPrc = champion_eval.metrics[\"auPrc\"]\n",
    "\n",
    "    champion_model.versioning_registry.add_version_aliases(\n",
    "        new_aliases=[\"default\"], version=champion_model.version_id\n",
    "    )\n",
    "\n",
    "    # Get the metrics for the challenger model\n",
    "    for contender in contender_model_resource_names:\n",
    "        contender_model = aiplatform.Model(contender)\n",
    "        contender_eval = contender_model.list_model_evaluations()[1]\n",
    "        contender_auPrc = contender_eval.metrics[\"auPrc\"]\n",
    "\n",
    "        # Which model has the best accuracy becomes the default model\n",
    "        if contender_auPrc > champion_auPrc:\n",
    "            contender_model.versioning_registry.add_version_aliases(\n",
    "                new_aliases=[\"default\"], version=contender_model.version_id\n",
    "            )\n",
    "            champion_auPrc = contender_auPrc"
   ]
  },
  {
   "cell_type": "markdown",
   "metadata": {
    "id": "1a61dc08ba46"
   },
   "source": [
    "## 构建冠军对多竞争者管道\n",
    "\n",
    "接下来，您需要为以下任务构建一个管道：\n",
    "\n",
    "- 获取模型的冠军版本。\n",
    "- 获取已部署冠军模型的端点。\n",
    "- 使用生产数据重新训练和评估（伪造）冠军模型。\n",
    "- 导入冠军模型在生产数据上的评估指标。\n",
    "- 对于每个竞争者模型：\n",
    "  - 获取模型的竞争者版本。\n",
    "  - 使用生产数据重新训练和评估（伪造）竞争者模型。\n",
    "- 比较冠军和竞争者的评估指标，并相应地设置默认模型。\n",
    "- 导入现有的生产端点。\n",
    "- 将新的默认模型部署到生产端点上。"
   ]
  },
  {
   "cell_type": "code",
   "execution_count": null,
   "metadata": {
    "id": "beeb768408bf"
   },
   "outputs": [],
   "source": [
    "@kfp.dsl.pipeline(name=\"multicontender-vs-champion\")\n",
    "def pipeline(\n",
    "    champion_model_resource: str,\n",
    "    contender_model_resources: list,\n",
    "    serving_container: str,\n",
    "    machine_type: str,\n",
    "    endpoint_resource_name: str,\n",
    "    endpoint_resource_uri: str,\n",
    "    project: str = PROJECT_ID,\n",
    "    region: str = REGION,\n",
    "):\n",
    "    from google_cloud_pipeline_components.experimental.evaluation import \\\n",
    "        GetVertexModelOp\n",
    "    from google_cloud_pipeline_components.types import artifact_types\n",
    "    from google_cloud_pipeline_components.v1.endpoint import ModelDeployOp\n",
    "    from kfp.v2.components import importer_node\n",
    "\n",
    "    # Get the Vertex AI model resource of the blessed model\n",
    "    champion = GetVertexModelOp(model_resource_name=champion_model_resource)\n",
    "\n",
    "    # pretend to retrain and evaluate the champion with production data\n",
    "    champion_metrics = {\"logLoss\": 1.3, \"auPrc\": 0.86}\n",
    "\n",
    "    # upload the metrics for the champion version\n",
    "    import_champion_metrics = import_classification_metrics(\n",
    "        display_name=\"production\",\n",
    "        metrics=champion_metrics,\n",
    "        parent_model_resource=champion_model_resource,\n",
    "        project=project,\n",
    "        region=region,\n",
    "    ).after(champion)\n",
    "\n",
    "    ix = 0\n",
    "    with kfp.dsl.ParallelFor(contender_model_resources).after(\n",
    "        import_champion_metrics\n",
    "    ) as contender_model_resource:\n",
    "        contender = GetVertexModelOp(model_resource_name=contender_model_resource)\n",
    "\n",
    "        # pretend to retrain and evaluate the champion with production data\n",
    "        contender_metrics = {\"logLoss\": 1.1, \"auPrc\": 0.88}\n",
    "\n",
    "        ix += 1\n",
    "        import_contender_metrics = import_classification_metrics(\n",
    "            display_name=f\"production_{ix}\",\n",
    "            metrics=contender_metrics,\n",
    "            parent_model_resource=contender_model_resource,\n",
    "            project=project,\n",
    "            region=region,\n",
    "        ).after(contender)\n",
    "\n",
    "    # Select the best model\n",
    "    compare = compare_metrics(\n",
    "        champion_model_resource,\n",
    "        contender_model_resources,\n",
    "    ).after(import_contender_metrics)\n",
    "\n",
    "    # import the production Endpoint\n",
    "    endpoint = importer_node.importer(\n",
    "        artifact_uri=endpoint_resource_uri,\n",
    "        artifact_class=artifact_types.VertexEndpoint,\n",
    "        metadata={\"resourceName\": endpoint_resource_name},\n",
    "    )\n",
    "\n",
    "    # deploy model to endpoint\n",
    "    _ = ModelDeployOp(\n",
    "        model=champion.outputs[\"model\"],\n",
    "        endpoint=endpoint.output,\n",
    "        dedicated_resources_min_replica_count=1,\n",
    "        dedicated_resources_max_replica_count=1,\n",
    "        dedicated_resources_machine_type=machine_type,\n",
    "        traffic_split={\"0\": 100},\n",
    "    ).after(compare)"
   ]
  },
  {
   "cell_type": "markdown",
   "metadata": {
    "id": "run_custom_train_pipeline:icn"
   },
   "source": [
    "### 编译管道\n",
    "\n",
    "接下来，您需要编译管道。"
   ]
  },
  {
   "cell_type": "code",
   "execution_count": null,
   "metadata": {
    "id": "cbc1dc2bd4e0"
   },
   "outputs": [],
   "source": [
    "compiler.Compiler().compile(\n",
    "    pipeline_func=pipeline, package_path=\"multicontender_vs_champion.json\"\n",
    ")"
   ]
  },
  {
   "cell_type": "markdown",
   "metadata": {
    "id": "bfa9c32ee12e"
   },
   "source": [
    "### 执行管道\n",
    "\n",
    "最后，您执行管道，传递以下管道参数值：\n",
    "\n",
    "- `blessed_model_resource`：模型当前受认可版本的完整资源名称。\n",
    "- `serving_container`：用于部署模型的服务容器。\n",
    "- `machine_type`：用于部署模型的机器类型。\n",
    "- `endpoint_resource_name`：生产端点的完整资源名称。\n",
    "- `endpoint_resource_uri`：生产端点的完整URI。\n",
    "- `project`：项目ID。\n",
    "- `region`：地区。"
   ]
  },
  {
   "cell_type": "code",
   "execution_count": null,
   "metadata": {
    "id": "run_pipeline:control"
   },
   "outputs": [],
   "source": [
    "PIPELINE_ROOT = \"{}/pipeline_root/control\".format(BUCKET_URI)\n",
    "\n",
    "job = aiplatform.PipelineJob(\n",
    "    display_name=\"multicontender_vs_champion\",\n",
    "    template_path=\"multicontender_vs_champion.json\",\n",
    "    pipeline_root=PIPELINE_ROOT,\n",
    "    parameter_values={\n",
    "        \"champion_model_resource\": champion_model.resource_name,\n",
    "        \"contender_model_resources\": [\n",
    "            contender_model_1.resource_name,\n",
    "            contender_model_2.resource_name,\n",
    "        ],\n",
    "        \"serving_container\": DEPLOY_IMAGE,\n",
    "        \"machine_type\": DEPLOY_COMPUTE,\n",
    "        \"endpoint_resource_name\": endpoint.resource_name,\n",
    "        \"endpoint_resource_uri\": \"https://us-central1-aiplatform.googleapis.com/v1/\"\n",
    "        + endpoint.resource_name,\n",
    "        \"project\": PROJECT_ID,\n",
    "        \"region\": REGION,\n",
    "    },\n",
    "    enable_caching=False,\n",
    ")\n",
    "\n",
    "job.run()\n",
    "\n",
    "! rm multicontender_vs_champion.json"
   ]
  },
  {
   "cell_type": "markdown",
   "metadata": {
    "id": "326552fd358d"
   },
   "source": [
    "### 获取生产终端的最新状态\n",
    "\n",
    "现在，流水线已经完成，竞争者（版本3）模型已经取代之前的冠军模型，部署到生产终端上。\n",
    "\n",
    "接下来，您将展示生产终端部署模型的最新信息，然后展示流量分布情况。100%入口的资源ID是竞争者（版本3）模型的资源ID。"
   ]
  },
  {
   "cell_type": "code",
   "execution_count": null,
   "metadata": {
    "id": "3383a2bb45a1"
   },
   "outputs": [],
   "source": [
    "gca_resource = endpoint.list(filter=\"display_name=production\")[0].gca_resource\n",
    "print(\"Deployed Models\", gca_resource.deployed_models)\n",
    "print(\"\\n\")\n",
    "print(\"Traffic Split\", gca_resource.traffic_split)"
   ]
  },
  {
   "cell_type": "markdown",
   "metadata": {
    "id": "TpV-iwP9qw9c"
   },
   "source": [
    "清理工作\n",
    "\n",
    "要清理此项目中使用的所有Google Cloud资源，您可以[删除用于教程的Google Cloud项目](https://cloud.google.com/resource-manager/docs/creating-managing-projects#shutting_down_projects)。\n",
    "\n",
    "否则，您可以删除在本教程中创建的各个资源。"
   ]
  },
  {
   "cell_type": "code",
   "execution_count": null,
   "metadata": {
    "id": "sx_vKniMq9ZX"
   },
   "outputs": [],
   "source": [
    "import os\n",
    "\n",
    "# Delete endpoint resource\n",
    "try:\n",
    "    endpoint.undeploy_all()\n",
    "    endpoint.delete()\n",
    "except Exception as e:\n",
    "    print(e)\n",
    "\n",
    "# Delete model resource\n",
    "try:\n",
    "    champion_model.delete()\n",
    "except Exception as e:\n",
    "    print(e)\n",
    "\n",
    "# Delete the pipeline resource\n",
    "try:\n",
    "    job.delete()\n",
    "except Exception as e:\n",
    "    print(e)\n",
    "\n",
    "# Delete Cloud Storage objects that were created\n",
    "delete_bucket = True\n",
    "if delete_bucket or os.getenv(\"IS_TESTING\"):\n",
    "    ! gsutil -m rm -r $BUCKET_URI"
   ]
  }
 ],
 "metadata": {
  "colab": {
   "collapsed_sections": [],
   "name": "multicontender_vs_champion_deployment_method.ipynb",
   "toc_visible": true
  },
  "kernelspec": {
   "display_name": "Python 3",
   "name": "python3"
  }
 },
 "nbformat": 4,
 "nbformat_minor": 0
}
