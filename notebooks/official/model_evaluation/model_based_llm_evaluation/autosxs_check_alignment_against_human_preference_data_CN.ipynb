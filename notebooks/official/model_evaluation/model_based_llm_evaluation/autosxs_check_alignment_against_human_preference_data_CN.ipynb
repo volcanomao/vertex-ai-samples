{
 "cells": [
  {
   "cell_type": "code",
   "execution_count": null,
   "metadata": {
    "id": "ur8xi4C7S06n"
   },
   "outputs": [],
   "source": [
    "# Copyright 2024 Google LLC\n",
    "#\n",
    "# Licensed under the Apache License, Version 2.0 (the \"License\");\n",
    "# you may not use this file except in compliance with the License.\n",
    "# You may obtain a copy of the License at\n",
    "#\n",
    "#     https://www.apache.org/licenses/LICENSE-2.0\n",
    "#\n",
    "# Unless required by applicable law or agreed to in writing, software\n",
    "# distributed under the License is distributed on an \"AS IS\" BASIS,\n",
    "# WITHOUT WARRANTIES OR CONDITIONS OF ANY KIND, either express or implied.\n",
    "# See the License for the specific language governing permissions and\n",
    "# limitations under the License."
   ]
  },
  {
   "cell_type": "markdown",
   "metadata": {
    "id": "JAPoU8Sm5E6e"
   },
   "source": [
    "# AutoSxS：检查自动评分仪的对齐性与人类喜好数据集对比\n",
    "\n",
    "<table align=\"left\">\n",
    "  <td style=\"text-align: center\">\n",
    "    <a href=\"https://colab.research.google.com/github/GoogleCloudPlatform/vertex-ai-samples/blob/main/notebooks/official/model_evaluation/model_based_llm_evaluation/autosxs_check_alignment_against_human_preference_data.ipynb\">\n",
    "      <img src=\"https://cloud.google.com/ml-engine/images/colab-logo-32px.png\" alt=\"Google Colaboratory logo\"><br> 在 Colab 中打开\n",
    "    </a>\n",
    "  </td>\n",
    "  <td style=\"text-align: center\">\n",
    "    <a href=\"https://console.cloud.google.com/vertex-ai/colab/import/https:%2F%2Fraw.githubusercontent.com%2FGoogleCloudPlatform%2Fvertex-ai-samples%2Fmain%2Fnotebooks%2Fofficial%2Fmodel_evaluation%2Fmodel_based_llm_evaluation%2Fautosxs_check_alignment_against_human_preference_data.ipynb\">\n",
    "      <img width=\"32px\" src=\"https://cloud.google.com/ml-engine/images/colab-enterprise-logo-32px.png\" alt=\"Google Cloud Colab Enterprise logo\"><br> 在 Colab Enterprise 中打开\n",
    "    </a>\n",
    "  </td>    \n",
    "  <td style=\"text-align: center\">\n",
    "    <a href=\"https://console.cloud.google.com/vertex-ai/workbench/deploy-notebook?download_url=https://raw.githubusercontent.com/GoogleCloudPlatform/vertex-ai-samples/main/notebooks/official/model_evaluation/model_based_llm_evaluation/autosxs_check_alignment_against_human_preference_data.ipynb\">\n",
    "      <img src=\"https://lh3.googleusercontent.com/UiNooY4LUgW_oTvpsNhPpQzsstV5W8F7rYgxgGBD85cWJoLmrOzhVs_ksK_vgx40SHs7jCqkTkCk=e14-rj-sc0xffffff-h130-w32\" alt=\"Vertex AI logo\"><br> 在 Workbench 中打开\n",
    "    </a>\n",
    "  </td>\n",
    "  <td style=\"text-align: center\">\n",
    "    <a href=\"https://github.com/GoogleCloudPlatform/vertex-ai-samples/blob/main/notebooks/official/model_evaluation/model_based_llm_evaluation/autosxs_check_alignment_against_human_preference_data.ipynb\">\n",
    "      <img src=\"https://cloud.google.com/ml-engine/images/github-logo-32px.png\" alt=\"GitHub logo\"><br> 在 GitHub 上查看\n",
    "    </a>\n",
    "  </td>\n",
    "</table>"
   ]
  },
  {
   "cell_type": "markdown",
   "metadata": {
    "id": "tvgnzT1CKxrO"
   },
   "source": [
    "## 概述\n",
    "\n",
    "本笔记本演示了如何使用Vertex AI自动对比（AutoSxS）来检查自动评分器与人工评分器的对齐程度。\n",
    "\n",
    "自动对比（AutoSxS）是一个模型辅助评估工具，可以帮助您将两个大型语言模型（LLMs）进行对比。作为AutoSxS的预览发布的一部分，我们目前仅支持对总结和问题回答任务的模型比较。我们将在将来支持更多任务和定制功能。\n",
    "\n",
    "了解更多关于[Vertex AI AutoSxS模型评估](https://cloud.google.com/vertex-ai/docs/generative-ai/models/side-by-side-eval#autosxs)。"
   ]
  },
  {
   "cell_type": "markdown",
   "metadata": {
    "id": "d975e698c9a4"
   },
   "source": [
    "### 目标\n",
    "\n",
    "在本教程中，您将学习如何使用`Vertex AI Pipelines`和`google_cloud_pipeline_components`来使用人类偏好数据检查评分器的对齐：\n",
    "\n",
    "本教程使用以下Google Cloud ML服务和资源：\n",
    "\n",
    "- 云存储\n",
    "- Vertex AI PaLM API\n",
    "- Vertex AI Pipelines\n",
    "- Vertex AI Batch Prediction\n",
    "\n",
    "执行的步骤包括：\n",
    "- 创建一个包含预测和人类偏好数据的评估数据集。\n",
    "- 在本地对数据进行预处理并将其保存在云存储中。\n",
    "- 创建并运行一个生成判断和一组使用生成判断的AutoSxS指标的Vertex AI AutoSxS Pipeline。\n",
    "- 打印判断和AutoSxS指标。\n",
    "- 清理在此笔记本中创建的资源。"
   ]
  },
  {
   "cell_type": "markdown",
   "metadata": {
    "id": "aed92deeb4a0"
   },
   "source": [
    "### 成本\n",
    "\n",
    "本教程使用Google Cloud的计费组件：\n",
    "\n",
    "* Vertex AI\n",
    "* Cloud Storage\n",
    "\n",
    "了解[Vertex AI价格](https://cloud.google.com/vertex-ai/pricing)，\n",
    "以及[Cloud Storage价格](https://cloud.google.com/storage/pricing)，\n",
    "并使用[Pricing Calculator](https://cloud.google.com/products/calculator/)\n",
    "根据您预期的使用量生成成本估算。"
   ]
  },
  {
   "cell_type": "markdown",
   "metadata": {
    "id": "6a571eed9ece"
   },
   "source": [
    "开始吧"
   ]
  },
  {
   "cell_type": "markdown",
   "metadata": {
    "id": "i7EUnXsZhAGF"
   },
   "source": [
    "### 为Python安装Vertex AI SDK和其他必要的软件包"
   ]
  },
  {
   "cell_type": "code",
   "execution_count": 1,
   "metadata": {
    "id": "HpCDDsBC5eip"
   },
   "outputs": [],
   "source": [
    "! pip3 install --upgrade --quiet \\\n",
    "    google-cloud-aiplatform \\\n",
    "    google-cloud-pipeline-components \\\n",
    "    gcsfs"
   ]
  },
  {
   "cell_type": "markdown",
   "metadata": {
    "id": "R5Xep4W9lq-Z"
   },
   "source": [
    "重新启动运行时（仅限Colab）\n",
    "\n",
    "为了使用新安装的软件包，您必须在Google Colab上重新启动运行时。"
   ]
  },
  {
   "cell_type": "code",
   "execution_count": null,
   "metadata": {
    "id": "XRvKdaPDTznN"
   },
   "outputs": [],
   "source": [
    "import sys\n",
    "\n",
    "if \"google.colab\" in sys.modules:\n",
    "\n",
    "    import IPython\n",
    "\n",
    "    app = IPython.Application.instance()\n",
    "    app.kernel.do_shutdown(True)"
   ]
  },
  {
   "cell_type": "markdown",
   "metadata": {
    "id": "54c5ef8a8f43"
   },
   "source": [
    "<div class=\"alert alert-block alert-warning\">\n",
    "<b>⚠️内核即将重新启动。在继续下一步之前请等待完成。⚠️</b>\n",
    "</div>"
   ]
  },
  {
   "cell_type": "markdown",
   "metadata": {
    "id": "f82e28c631cc"
   },
   "source": [
    "### 在谷歌 Colab 上验证您的笔记本环境\n",
    "\n",
    "在谷歌 Colab 上验证您的环境。"
   ]
  },
  {
   "cell_type": "code",
   "execution_count": null,
   "metadata": {
    "id": "46604f70e831"
   },
   "outputs": [],
   "source": [
    "import sys\n",
    "\n",
    "if \"google.colab\" in sys.modules:\n",
    "\n",
    "    from google.colab import auth\n",
    "\n",
    "    auth.authenticate_user()"
   ]
  },
  {
   "cell_type": "markdown",
   "metadata": {
    "id": "ef3990d0482a"
   },
   "source": [
    "### 设置Google Cloud项目信息并初始化Python的Vertex AI SDK\n",
    "\n",
    "要开始使用Vertex AI，您必须拥有现有的Google Cloud项目并[启用Vertex AI API](https://console.cloud.google.com/flows/enableapi?apiid=aiplatform.googleapis.com)。了解更多关于[设置项目和开发环境的信息](https://cloud.google.com/vertex-ai/docs/start/cloud-environment)。"
   ]
  },
  {
   "cell_type": "code",
   "execution_count": null,
   "metadata": {
    "id": "oM1iC_MfAts1"
   },
   "outputs": [],
   "source": [
    "PROJECT_ID = \"[your-project-id]\"  # @param {type:\"string\"}\n",
    "LOCATION = \"us-central1\"  # @param {type:\"string\"}"
   ]
  },
  {
   "cell_type": "markdown",
   "metadata": {
    "id": "d1jikHIo07CF"
   },
   "source": [
    "UUID\n",
    "\n",
    "定义一个UUID生成函数，以避免在笔记本中创建的资源名称冲突。"
   ]
  },
  {
   "cell_type": "code",
   "execution_count": null,
   "metadata": {
    "id": "mPKCYjn_0_3c"
   },
   "outputs": [],
   "source": [
    "import random\n",
    "import string\n",
    "\n",
    "\n",
    "def generate_uuid(length: int = 8) -> str:\n",
    "    \"\"\"Generate a uuid of a specified length (default=8).\"\"\"\n",
    "    return \"\".join(random.choices(string.ascii_lowercase + string.digits, k=length))\n",
    "\n",
    "\n",
    "UUID = generate_uuid()"
   ]
  },
  {
   "cell_type": "markdown",
   "metadata": {
    "id": "zgPO1eR3CYjk"
   },
   "source": [
    "创建一个云存储桶\n",
    "\n",
    "创建一个存储桶来存储AutoSxS管道的中间产物。"
   ]
  },
  {
   "cell_type": "code",
   "execution_count": null,
   "metadata": {
    "id": "MzGDU7TWdts_"
   },
   "outputs": [],
   "source": [
    "BUCKET_URI = \"gs://[your-bucket-name-unique]\"  # @param {type:\"string\"}"
   ]
  },
  {
   "cell_type": "markdown",
   "metadata": {
    "id": "-EcIXiGsCePi"
   },
   "source": [
    "只有在您的存储桶不存在时才运行以下单元格以创建您的云存储存储桶。"
   ]
  },
  {
   "cell_type": "code",
   "execution_count": 2,
   "metadata": {
    "id": "U8ZIu6UBVVRE"
   },
   "outputs": [],
   "source": [
    "if (\n",
    "    BUCKET_URI == \"\"\n",
    "    or BUCKET_URI is None\n",
    "    or BUCKET_URI == \"gs://[your-bucket-name-unique]\"\n",
    "):\n",
    "    BUCKET_URI = \"gs://\" + PROJECT_ID + \"-aip-\" + UUID\n",
    "\n",
    "! gsutil mb -l $LOCATION -p $PROJECT_ID $BUCKET_URI"
   ]
  },
  {
   "cell_type": "markdown",
   "metadata": {
    "id": "960505627ddf"
   },
   "source": [
    "### 导入库"
   ]
  },
  {
   "cell_type": "markdown",
   "metadata": {
    "id": "poijnGfZCFYi"
   },
   "source": [
    "导入Vertex AI Python SDK和其他必需的Python库。"
   ]
  },
  {
   "cell_type": "code",
   "execution_count": 3,
   "metadata": {
    "id": "PyQmSRbKA8r-"
   },
   "outputs": [],
   "source": [
    "import os\n",
    "\n",
    "import pandas as pd\n",
    "from google.cloud import aiplatform\n",
    "from google_cloud_pipeline_components.v1 import model_evaluation\n",
    "from kfp import compiler"
   ]
  },
  {
   "cell_type": "markdown",
   "metadata": {
    "id": "init_aip:mbsdk,all"
   },
   "source": [
    "初始化Vertex AI SDK用于Python\n",
    "\n",
    "为您的项目和相应的存储桶初始化Python的Vertex SDK。"
   ]
  },
  {
   "cell_type": "code",
   "execution_count": null,
   "metadata": {
    "id": "AFm7t-wmIxGz"
   },
   "outputs": [],
   "source": [
    "aiplatform.init(project=PROJECT_ID, location=LOCATION, staging_bucket=BUCKET_URI)"
   ]
  },
  {
   "cell_type": "markdown",
   "metadata": {
    "id": "ljpNHjC9NYtG"
   },
   "source": [
    "### 教程\n",
    "在所有客户使用情况下，作者可能不太可能达到与人类评分者相同的水平，特别是在人类评分者被期望具有专业知识的情况下。\n",
    "\n",
    "下面的教程展示了AutoSxS如何帮助确定一旦您拥有了地面真实的人类偏好数据，您是否可以信任作者。"
   ]
  },
  {
   "cell_type": "markdown",
   "metadata": {
    "id": "eha2l9nkNxZs"
   },
   "source": [
    "### 生成用于 AutoSxS 人类对齐检查的评估数据集\n",
    "\n",
    "在下面，您将创建您的数据集，指定一组提示、两个模型的预测和人类偏好数据。\n",
    "\n",
    "在这个笔记本中，我们：\n",
    "- 为 AutoSxS 创建一个包含 10 个示例的评估数据集。\n",
    "  - 列“prompt”中的数据将被视为模型提示。\n",
    "  - 列“pred_a”中的数据将被视为模型 A 的响应。\n",
    "  - 列“pred_b”中的数据将被视为模型 B 的响应。\n",
    "  - 列“actuals”中的数据将被视为人类偏好数据。\n",
    "- 将其存储为 JSON 文件在云存储中。\n",
    "\n",
    "#### **注意：为了获得最佳结果，我们建议至少使用 100 个示例。超过 400 个示例后收益递减。**"
   ]
  },
  {
   "cell_type": "code",
   "execution_count": 4,
   "metadata": {
    "id": "_hvNRQRTN3gb"
   },
   "outputs": [],
   "source": [
    "# Define context, questions, predictions and human preference data.\n",
    "context = [\n",
    "    \"Beginning in the late 1910s and early 1920s, Whitehead gradually turned his attention from mathematics to philosophy of science, and finally to metaphysics. He developed a comprehensive metaphysical system which radically departed from most of western philosophy. Whitehead argued that reality consists of processes rather than material objects, and that processes are best defined by their relations with other processes, thus rejecting the theory that reality is fundamentally constructed by bits of matter that exist independently of one another. Today Whitehead's philosophical works – particularly Process and Reality – are regarded as the foundational texts of process philosophy.\",\n",
    "    \"The gills have an adnate attachment to the cap, are narrow to moderately broad, closely spaced, and eventually separate from the stem. Young gills are cinnamon-brown in color, with lighter edges, but darken in maturity because they become covered with the dark spores. The stem is 6 to 8 cm (2+3⁄8 to 3+1⁄8 in) long by 1.5 to 2 mm (1⁄16 to 3⁄32 in) thick, and roughly equal in width throughout except for a slightly enlarged base. The lower region of the stem is brownish in color and has silky 'hairs' pressed against the stem; the upper region is grayish and pruinose (lightly dusted with powdery white granules). The flesh turns slightly bluish or greenish where it has been injured. The application of a drop of dilute potassium hydroxide solution on the cap or flesh will cause a color change to pale to dark yellowish to reddish brown; a drop on the stem produces a less intense or no color change.\",\n",
    "    \"Go to Device Support. Choose your device. Scroll to Getting started and select Hardware &amp; phone details. Choose Insert or remove SIM card and follow the steps. Review the Account Summary page for details. Image 13 Activate online Go to att.com/activateprepaid ((att.com/activarprepaid for Spanish)) and follow the prompts. Activate over the phone Call us at 877.426.0525 for automated instructions. You will need to know your SIM/eSIM ICCID &amp; IMEI number for activation. Note: Look for your SIM (( ICCID )) number on your box or SIM card Now youre ready to activate your phone 1. Start with your new device powered off. 2. To activate a new line of service or a replacement device, please go to the AT&amp;T Activation site or call 866.895.1099. You download the eSIM to your device over Wi-Fi®. The eSIM connects your device to our wireless network. How do I activate my phone with an eSIM? Turn your phone on, connect to Wi-Fi, and follow the prompts. Swap active SIM cards AT&amp;T Wireless SM SIM Card Turn your device off. Remove the old SIM card. Insert the new one. Turn on your device.\",\n",
    "    \"According to chief astronaut Deke Slayton's autobiography, he chose Bassett for Gemini 9 because he was 'strong enough to carry' both himself and See. Slayton had also assigned Bassett as command module pilot for the second backup Apollo crew, alongside Frank Borman and William Anders.\",\n",
    "    \"Adaptation of the endosymbiont to the host's lifestyle leads to many changes in the endosymbiont–the foremost being drastic reduction in its genome size. This is due to many genes being lost during the process of metabolism, and DNA repair and recombination. While important genes participating in the DNA to RNA transcription, protein translation and DNA/RNA replication are retained. That is, a decrease in genome size is due to loss of protein coding genes and not due to lessening of inter-genic regions or open reading frame (ORF) size. Thus, species that are naturally evolving and contain reduced sizes of genes can be accounted for an increased number of noticeable differences between them, thereby leading to changes in their evolutionary rates. As the endosymbiotic bacteria related with these insects are passed on to the offspring strictly via vertical genetic transmission, intracellular bacteria goes through many hurdles during the process, resulting in the decrease in effective population sizes when compared to the free living bacteria. This incapability of the endosymbiotic bacteria to reinstate its wild type phenotype via a recombination process is called as Muller's ratchet phenomenon. Muller's ratchet phenomenon together with less effective population sizes has led to an accretion of deleterious mutations in the non-essential genes of the intracellular bacteria. This could have been due to lack of selection mechanisms prevailing in the rich environment of the host.\",\n",
    "    \"The National Archives Building in downtown Washington holds record collections such as all existing federal census records, ships' passenger lists, military unit records from the American Revolution to the Philippine–American War, records of the Confederate government, the Freedmen's Bureau records, and pension and land records.\",\n",
    "    \"Standard 35mm photographic film used for cinema projection has a much higher image resolution than HDTV systems, and is exposed and projected at a rate of 24 frames per second (frame/s). To be shown on standard television, in PAL-system countries, cinema film is scanned at the TV rate of 25 frame/s, causing a speedup of 4.1 percent, which is generally considered acceptable. In NTSC-system countries, the TV scan rate of 30 frame/s would cause a perceptible speedup if the same were attempted, and the necessary correction is performed by a technique called 3:2 Pulldown: Over each successive pair of film frames, one is held for three video fields (1/20 of a second) and the next is held for two video fields (1/30 of a second), giving a total time for the two frames of 1/12 of a second and thus achieving the correct average film frame rate.\",\n",
    "    \"Maria Deraismes was initiated into Freemasonry in 1882, then resigned to allow her lodge to rejoin their Grand Lodge. Having failed to achieve acceptance from any masonic governing body, she and Georges Martin started a mixed masonic lodge that actually worked masonic ritual. Annie Besant spread the phenomenon to the English speaking world. Disagreements over ritual led to the formation of exclusively female bodies of Freemasons in England, which spread to other countries. Meanwhile, the French had re-invented Adoption as an all-female lodge in 1901, only to cast it aside again in 1935. The lodges, however, continued to meet, which gave rise, in 1959, to a body of women practising continental Freemasonry.\",\n",
    "    \"Excavation of the foundations began in November 1906, with an average of 275 workers during the day shift and 100 workers during the night shift. The excavation was required to be completed in 120 days. To remove the spoils from the foundation, three temporary wooden platforms were constructed to street level. Hoisting engines were installed to place the beams for the foundation, while the piers were sunk into the ground under their own weight. Because of the lack of space in the area, the contractors' offices were housed beneath the temporary platforms. During the process of excavation, the Gilsey Building's foundations were underpinned or shored up, because that building had relatively shallow foundations descending only 18 feet (5.5 m) below Broadway.\",\n",
    "    \"Dopamine consumed in food cannot act on the brain, because it cannot cross the blood–brain barrier. However, there are also a variety of plants that contain L-DOPA, the metabolic precursor of dopamine. The highest concentrations are found in the leaves and bean pods of plants of the genus Mucuna, especially in Mucuna pruriens (velvet beans), which have been used as a source for L-DOPA as a drug. Another plant containing substantial amounts of L-DOPA is Vicia faba, the plant that produces fava beans (also known as 'broad beans'). The level of L-DOPA in the beans, however, is much lower than in the pod shells and other parts of the plant. The seeds of Cassia and Bauhinia trees also contain substantial amounts of L-DOPA.\",\n",
    "]\n",
    "\n",
    "questions = [\n",
    "    \"What was the predominant theory of reality that Whitehead opposed?\",\n",
    "    \"Why do the gills on the Psilocybe pelliculosa mushroom darken as they mature?\",\n",
    "    \"user: How do I provision my AT&T SIM card?\",\n",
    "    \"Why did chief astronaut Deke Slayton choose Charles Bassett for Gemini 9, according to Slayton's autobiography?\",\n",
    "    \"What is the main alteration in an endosymbiont when it adapts to a host?\",\n",
    "    \"What's the earliest war The National Archives Building has military unit records for\",\n",
    "    \"To be shown on SDTV in PAL-system countries, at what rate is cinema film scanned?\",\n",
    "    \"What year was the all-female masonic lodge cast aside?\",\n",
    "    \"Why did the Gilsey Building have underpinned and shored up foundations?\",\n",
    "    \"Why can dopamine consumed in food not act on the brain?\",\n",
    "]\n",
    "predictions_a = [\n",
    "    \"bits of matter that exist independently of one another\",\n",
    "    \"The gills darken in maturity because they become covered with the dark spores.\",\n",
    "    \"Go to Device Support. Choose your device. Scroll to Getting started and select Hardware &amp; phone details. Choose Insert or remove SIM card and follow the steps.\",\n",
    "    \"he was 'smart enough to carry' both himself and See\",\n",
    "    \"drastic reduction in its genome size\",\n",
    "    \"American Revolution to the Philippine–American War\",\n",
    "    \"Cinema film is scanned at the TV rate of 25 frame/s.\",\n",
    "    \"1935\",\n",
    "    \"The Gilsey Building's foundations were shored up because they were only 18 feet below Broadway.\",\n",
    "    \"The blood–brain barrier does not allow dopamine consumed in food to enter the brain.\",\n",
    "]\n",
    "predictions_b = [\n",
    "    \"independent bits of matter\",\n",
    "    \"Young gills are cinnamon-brown in color, with lighter edges, but darken in maturity because they become covered with the dark spores.\",\n",
    "    \"Go to Device Support.\",\n",
    "    \"he was 'strong enough to carry' both himself and See, as stated by chief astronaut Deke Slayton in his autobiography\",\n",
    "    \"its genome size decrease\",\n",
    "    \"American Revolution\",\n",
    "    \"25 frame/s, causing a speedup of 4.1 percent\",\n",
    "    \"1901\",\n",
    "    \"The Gilsey Building's foundations were underpinned or shored up.\",\n",
    "    \"Mucuna pruriens (velvet beans) have been used as a source for L-DOPA as a drug. Another plant containing substantial amounts of L-DOPA is Vicia faba, the plant that produces fava beans (also known as 'broad beans').\",\n",
    "]\n",
    "\n",
    "human_preference = [\n",
    "    \"A\",\n",
    "    \"B\",\n",
    "    \"A\",\n",
    "    \"B\",\n",
    "    \"A\",\n",
    "    \"A\",\n",
    "    \"B\",\n",
    "    \"A\",\n",
    "    \"A\",\n",
    "    \"A\",\n",
    "]\n",
    "\n",
    "# Create the evaluation dataset with context, questions, predictions and human preference data.\n",
    "examples = pd.DataFrame(\n",
    "    {\n",
    "        \"context\": context,\n",
    "        \"questions\": questions,\n",
    "        \"pred_a\": predictions_a,\n",
    "        \"pred_b\": predictions_b,\n",
    "        \"actuals\": human_preference,\n",
    "    }\n",
    ")\n",
    "examples.head()"
   ]
  },
  {
   "cell_type": "markdown",
   "metadata": {
    "id": "v75OwRumW_co"
   },
   "source": [
    "[可选]从云存储加载您的JSONL评估数据集。\n",
    "\n",
    "您也可以从云存储加载自己的JSONL数据集。"
   ]
  },
  {
   "cell_type": "code",
   "execution_count": null,
   "metadata": {
    "id": "O1QmcxdVZr4M"
   },
   "outputs": [],
   "source": [
    "# # Uncomment to read from Cloud Storage.\n",
    "# GCS_PATH = 'gs://your-own-evaluation-dataset-with-human-preference-data.jsonl'\n",
    "# preds = pd.read_json(GCS_PATH, lines=True)"
   ]
  },
  {
   "cell_type": "markdown",
   "metadata": {
    "id": "NY1Jsj4aOCe1"
   },
   "source": [
    "#### 将您的数据集上传到云存储\n",
    "\n",
    "最后，我们将评估数据集上传到云存储，以用作AutoSxS的输入。"
   ]
  },
  {
   "cell_type": "code",
   "execution_count": 5,
   "metadata": {
    "id": "vykmkhp-ODKg"
   },
   "outputs": [],
   "source": [
    "# Upload predictions to the Cloud Storage bucket.\n",
    "examples.to_json(\n",
    "    \"evaluation_dataset_with_human_preference.json\", orient=\"records\", lines=True\n",
    ")\n",
    "! gsutil cp evaluation_dataset_with_human_preference.json $BUCKET_URI/input/evaluation_dataset_with_human_preference.json\n",
    "DATASET = f\"{BUCKET_URI}/input/evaluation_dataset_with_human_preference.json\""
   ]
  },
  {
   "cell_type": "markdown",
   "metadata": {
    "id": "Qgdk_qNIOFik"
   },
   "source": [
    "### 创建并运行AutoSxS作业\n",
    "\n",
    "为了运行AutoSxS，我们需要定义一个具有以下参数的`autosxs_pipeline`作业。有关AutoSxS管道配置的更多详细信息，请参阅[此处](https://google-cloud-pipeline-components.readthedocs.io/en/google-cloud-pipeline-components-2.9.0/api/preview/model_evaluation.html#preview.model_evaluation.autosxs_pipeline)。\n",
    "\n",
    "**必需参数:**\n",
    "  - **evaluation_dataset:** 包含评估示例的JSONL数据集的云存储路径列表。\n",
    "  - **task:** 以{task}@{version}形式的评估任务。任务可以是“summarization”，“question_answering”之一。版本是一个带有3位数字或“latest”的整数。例如：summarization@001或question_answering@latest。\n",
    "  - **id_columns:** 区分唯一评估示例的列。\n",
    "  - **autorater_prompt_parameters:** 将autorater提示参数映射到列或模板。期望的参数包括：\n",
    "      - inference_instruction - 执行任务的详细信息。\n",
    "      - inference_context - 执行任务所需要参考的内容。\n",
    "\n",
    "此外，我们需要指定候选模型（模型A和模型B）的预测来自何处。AutoSxS可以通过运行Vertex Batch Prediction来获取预测值，或者可以在评估数据集中提供预定义的预测列。\n",
    "\n",
    "**如果使用Batch Prediction进行模型参数设置（假设模型A）:**\n",
    "  - **model_a:** 完全合格的模型资源名称。如果指定了模型A响应，则此参数为可选参数。\n",
    "  - **model_a_prompt_parameters:** 将模型A提示模板参数映射到列或模板。对于[text-bison](https://cloud.google.com/vertex-ai/docs/generative-ai/model-reference/text#request_body)的情况，唯一需要的参数是`prompt`。\n",
    "  - **model_a_parameters:** 控制来自模型A的预测的参数，例如模型温度等。\n",
    "\n",
    "**如果使用自己带有的预测值进行模型参数设置（假设模型A）:**\n",
    "  - **response_column_a:** 包含模型A响应的列。如果为模型A提供了任何响应表，则此项为必需项。\n",
    "\n",
    "最后，还有一些参数可配置其他功能，例如导出判断或将判断与人类偏好数据集进行比较，以检查AutoRater与人类评分者的对齐情况。\n",
    "  - **judgments_format:** 写入判断的格式。可以是'json'或'bigquery'。\n",
    "  - **bigquery_destination_prefix:** 如果指定格式为'bigquery'，则写入判断的BigQuery表。\n",
    "  - **human_preference_column:** 包含基准真相的列。仅在用户想要检查autorater与人类偏好对齐时才需要。"
   ]
  },
  {
   "cell_type": "markdown",
   "metadata": {
    "id": "veq26QZ7OMoC"
   },
   "source": [
    "在这本笔记本中，我们将评估自动评分器如何与人类评分器对齐，使用两个模型的预测（位于“PREDS”数据集的`pred_a`列和`pred_b`列）和人类偏好数据（位于“PREDS”数据集的`actuals`列）。正在执行的任务是问答。\n",
    "\n",
    "首先，在本地编译AutoSxS流水线。"
   ]
  },
  {
   "cell_type": "code",
   "execution_count": null,
   "metadata": {
    "id": "C2NGZzOMOJPV"
   },
   "outputs": [],
   "source": [
    "template_uri = \"pipeline.yaml\"\n",
    "compiler.Compiler().compile(\n",
    "    pipeline_func=model_evaluation.autosxs_pipeline,\n",
    "    package_path=template_uri,\n",
    ")"
   ]
  },
  {
   "cell_type": "markdown",
   "metadata": {
    "id": "I0aMBhoqOTXF"
   },
   "source": [
    "下面的代码启动了一个可以在Vertex UI中查看的顶点管道作业。这个管道作业将需要大约10分钟。\n",
    "\n",
    "这里的日志将包含当前管道的URL，这样您就可以跟踪管道的进度并访问/查看管道的输出。"
   ]
  },
  {
   "cell_type": "code",
   "execution_count": 6,
   "metadata": {
    "id": "tRdA3ovUOV6j"
   },
   "outputs": [],
   "source": [
    "display_name = f\"autosxs-question-answering-human-alignment-checking-{generate_uuid()}\"\n",
    "context_column = \"context\"\n",
    "question_column = \"questions\"\n",
    "response_column_a = \"pred_a\"\n",
    "response_column_b = \"pred_b\"\n",
    "human_preference_column = \"actuals\"\n",
    "parameters = {\n",
    "    \"evaluation_dataset\": DATASET,\n",
    "    \"id_columns\": [question_column],\n",
    "    \"autorater_prompt_parameters\": {\n",
    "        \"inference_context\": {\"column\": context_column},\n",
    "        \"inference_instruction\": {\"column\": question_column},\n",
    "    },\n",
    "    \"task\": \"question_answering\",\n",
    "    \"response_column_a\": response_column_a,\n",
    "    \"response_column_b\": response_column_b,\n",
    "    \"human_preference_column\": human_preference_column,\n",
    "}\n",
    "\n",
    "job = aiplatform.PipelineJob(\n",
    "    job_id=display_name,\n",
    "    display_name=display_name,\n",
    "    pipeline_root=os.path.join(BUCKET_URI, display_name),\n",
    "    template_path=template_uri,\n",
    "    parameter_values=parameters,\n",
    "    enable_caching=False,\n",
    ")\n",
    "job.run()"
   ]
  },
  {
   "cell_type": "markdown",
   "metadata": {
    "id": "EinPbr3XOYPQ"
   },
   "source": [
    "获取判断和AutoSxS度量标准\n",
    "接下来，我们可以从完成的AutoSxS作业中加载判断。\n",
    "\n",
    "结果将被写入您在AutoSxS作业请求中指定的云存储输出桶中。"
   ]
  },
  {
   "cell_type": "code",
   "execution_count": 7,
   "metadata": {
    "id": "V_9yMfhrOZDk"
   },
   "outputs": [],
   "source": [
    "# To use an existing pipeline, override job using the line below.\n",
    "# job = aiplatform.PipelineJob.get('projects/[PROJECT_NUMBER]/locations/[LOCATION]/pipelineJobs/[PIPELINE_RUN_NAME]')\n",
    "\n",
    "for details in job.task_details:\n",
    "    if details.task_name == \"online-evaluation-pairwise\":\n",
    "        break\n",
    "\n",
    "# Judgments\n",
    "judgments_uri = details.outputs[\"judgments\"].artifacts[0].uri\n",
    "judgments_df = pd.read_json(judgments_uri, lines=True)\n",
    "judgments_df.head()"
   ]
  },
  {
   "cell_type": "markdown",
   "metadata": {
    "id": "SiIVQPoA4ckL"
   },
   "source": [
    "如果任何示例在AutoSxS中未能获得结果，它们的错误消息将被存储在错误表中。如果错误表为空，则意味着在评估过程中没有失败的示例。"
   ]
  },
  {
   "cell_type": "code",
   "execution_count": 8,
   "metadata": {
    "id": "04o7lBQl4WZd"
   },
   "outputs": [],
   "source": [
    "for details in job.task_details:\n",
    "    if details.task_name == \"online-evaluation-pairwise\":\n",
    "        break\n",
    "\n",
    "# Error table\n",
    "error_messages_uri = details.outputs[\"error_messages\"].artifacts[0].uri\n",
    "errors_df = pd.read_json(error_messages_uri, lines=True)\n",
    "errors_df.head()"
   ]
  },
  {
   "cell_type": "markdown",
   "metadata": {
    "id": "BlKXu5Ze4tD3"
   },
   "source": [
    "我们还可以查看从判断中计算出的AutoSxS指标。\n",
    "\n",
    "在提供了人类偏好数据的情况下，AutoSxS会输出AutoRater的胜率以及一组人类偏好对齐指标。您可以在这里找到有关AutoSxS指标的更多详细信息。"
   ]
  },
  {
   "cell_type": "code",
   "execution_count": 9,
   "metadata": {
    "id": "G7meI2Eq4muT"
   },
   "outputs": [],
   "source": [
    "# Metrics\n",
    "for details in job.task_details:\n",
    "    if details.task_name == \"model-evaluation-text-generation-pairwise\":\n",
    "        break\n",
    "pd.DataFrame([details.outputs[\"autosxs_metrics\"].artifacts[0].metadata])"
   ]
  },
  {
   "cell_type": "markdown",
   "metadata": {
    "id": "TpV-iwP9qw9c"
   },
   "source": [
    "清理\n",
    "\n",
    "要清理此项目中使用的所有谷歌云资源，您可以删除用于教程的[谷歌云项目](https://cloud.google.com/resource-manager/docs/creating-managing-projects#shutting_down_projects)。\n",
    "\n",
    "否则，您可以删除在本教程中创建的各个资源：\n",
    "\n",
    "将`delete_bucket`设置为**True**以删除云存储桶。"
   ]
  },
  {
   "cell_type": "code",
   "execution_count": null,
   "metadata": {
    "id": "sx_vKniMq9ZX"
   },
   "outputs": [],
   "source": [
    "import os\n",
    "\n",
    "job.delete()\n",
    "\n",
    "# Delete Cloud Storage objects that were created\n",
    "delete_bucket = False\n",
    "if delete_bucket:\n",
    "    ! gsutil -m rm -r $BUCKET_URI"
   ]
  }
 ],
 "metadata": {
  "colab": {
   "name": "autosxs_check_alignment_against_human_preference_data.ipynb",
   "toc_visible": true
  },
  "kernelspec": {
   "display_name": "Python 3",
   "name": "python3"
  }
 },
 "nbformat": 4,
 "nbformat_minor": 0
}
