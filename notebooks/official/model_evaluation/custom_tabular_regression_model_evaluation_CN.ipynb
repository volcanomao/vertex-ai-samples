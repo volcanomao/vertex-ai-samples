{
 "cells": [
  {
   "cell_type": "code",
   "execution_count": null,
   "metadata": {
    "id": "copyright"
   },
   "outputs": [],
   "source": [
    "# Copyright 2022 Google LLC\n",
    "#\n",
    "# Licensed under the Apache License, Version 2.0 (the \"License\");\n",
    "# you may not use this file except in compliance with the License.\n",
    "# You may obtain a copy of the License at\n",
    "#\n",
    "#     https://www.apache.org/licenses/LICENSE-2.0\n",
    "#\n",
    "# Unless required by applicable law or agreed to in writing, software\n",
    "# distributed under the License is distributed on an \"AS IS\" BASIS,\n",
    "# WITHOUT WARRANTIES OR CONDITIONS OF ANY KIND, either express or implied.\n",
    "# See the License for the specific language governing permissions and\n",
    "# limitations under the License."
   ]
  },
  {
   "cell_type": "markdown",
   "metadata": {
    "id": "title"
   },
   "source": [
    "# Vertex AI管道：评估自定义表格回归模型的批量预测结果\n",
    "\n",
    "<table align=\"left\">\n",
    "\n",
    "  <td>\n",
    "    <a href=\"https://colab.research.google.com/github/GoogleCloudPlatform/vertex-ai-samples/blob/main/notebooks/official/model_evaluation/custom_tabular_regression_model_evaluation.ipynb\">\n",
    "      <img src=\"https://cloud.google.com/ml-engine/images/colab-logo-32px.png\" alt=\"Colab logo\"> 在Colab中运行\n",
    "    </a>\n",
    "  </td>\n",
    "  <td>\n",
    "    <a href=\"https://github.com/GoogleCloudPlatform/vertex-ai-samples/blob/main/notebooks/official/model_evaluation/custom_tabular_regression_model_evaluation.ipynb\">\n",
    "      <img src=\"https://cloud.google.com/ml-engine/images/github-logo-32px.png\" alt=\"GitHub logo\">\n",
    "      在GitHub上查看\n",
    "    </a>\n",
    "  </td>\n",
    "  <td>\n",
    "    <a href=\"https://console.cloud.google.com/vertex-ai/workbench/deploy-notebook?download_url=https://raw.githubusercontent.com/GoogleCloudPlatform/vertex-ai-samples/main/notebooks/official/model_evaluation/custom_tabular_regression_model_evaluation.ipynb\">\n",
    "      <img src=\"https://lh3.googleusercontent.com/UiNooY4LUgW_oTvpsNhPpQzsstV5W8F7rYgxgGBD85cWJoLmrOzhVs_ksK_vgx40SHs7jCqkTkCk=e14-rj-sc0xffffff-h130-w32\" alt=\"Vertex AI logo\">\n",
    "      在Vertex AI Workbench中打开\n",
    "    </a>\n",
    "  </td>                                                                                               \n",
    "</table>"
   ]
  },
  {
   "cell_type": "markdown",
   "metadata": {
    "id": "overview:custom"
   },
   "source": [
    "## 概述\n",
    "\n",
    "这个笔记本演示了如何使用Vertex AI回归模型评估组件来评估自定义的回归模型。模型评估帮助您根据评估指标确定模型的性能，并在必要时改进模型。\n",
    "\n",
    "了解更多关于[Vertex AI模型评估](https://cloud.google.com/vertex-ai/docs/evaluation/introduction)和[自定义训练](https://cloud.google.com/vertex-ai/docs/training/custom-training)。"
   ]
  },
  {
   "cell_type": "markdown",
   "metadata": {
    "id": "dataset:custom,boston,lrg"
   },
   "source": [
    "### 目标\n",
    "\n",
    "在本教程中，您将学习如何使用 `google_cloud_pipeline_components` 通过 Vertex AI 管道作业评估 Vertex AI 模型资源：\n",
    "\n",
    "本教程使用以下 Google Cloud ML 服务和资源：\n",
    "\n",
    "- Vertex AI 训练（定制训练）\n",
    "- Vertex AI 批量预测\n",
    "- Vertex AI 管道\n",
    "- Vertex AI 模型注册表\n",
    "\n",
    "执行的步骤包括：\n",
    "\n",
    "- 创建一个 Vertex AI `CustomTrainingJob` 用于训练模型。\n",
    "- 运行 `CustomTrainingJob`\n",
    "- 检索并加载模型工件。\n",
    "- 查看模型评估结果。\n",
    "- 将模型上传为 Vertex AI 模型资源。\n",
    "- 将一个预训练的 `Vertex AI 模型资源` 导入到管道中。\n",
    "- 在管道中运行一个 `批量预测` 作业。\n",
    "- 使用 `回归评估组件` 评估模型。\n",
    "- 将回归度量指标导入到 Vertex AI 模型资源中。"
   ]
  },
  {
   "cell_type": "markdown",
   "metadata": {
    "id": "objective:custom,training,batch_prediction"
   },
   "source": [
    "### 数据集\n",
    "\n",
    "本教程使用的数据集是[波士顿房价数据集](https://www.cs.toronto.edu/~delve/data/boston/bostonDetail.html)。在本教程中使用的数据集版本已内置在TensorFlow中。训练好的模型可以预测房屋的中位价格，单位为1千美元。"
   ]
  },
  {
   "cell_type": "markdown",
   "metadata": {
    "id": "costs"
   },
   "source": [
    "### 费用\n",
    "\n",
    "本教程使用谷歌云的付费组件：\n",
    "\n",
    "* Vertex AI\n",
    "* Cloud Storage\n",
    "\n",
    "了解 [Vertex AI 价格](https://cloud.google.com/vertex-ai/pricing) 和 [Cloud Storage 价格](https://cloud.google.com/storage/pricing)，并使用 [价格计算器](https://cloud.google.com/products/calculator/) 根据您的预期使用情况生成费用估算。"
   ]
  },
  {
   "cell_type": "markdown",
   "metadata": {
    "id": "install_aip:mbsdk"
   },
   "source": [
    "## 安装\n",
    "\n",
    "安装以下必需的软件包以执行此笔记本。"
   ]
  },
  {
   "cell_type": "code",
   "execution_count": null,
   "metadata": {
    "id": "HwrBbTwGw0aC"
   },
   "outputs": [],
   "source": [
    "! pip3 install --upgrade --quiet    google-cloud-aiplatform \\\n",
    "                                    tensorflow \\\n",
    "                                    google-cloud-pipeline-components==1.0.26 \\\n",
    "                                    matplotlib \\\n",
    "                                    google-cloud-storage "
   ]
  },
  {
   "cell_type": "markdown",
   "metadata": {
    "id": "restart"
   },
   "source": [
    "只有Colab可用：取消注释以下单元格以重新启动内核"
   ]
  },
  {
   "cell_type": "code",
   "execution_count": null,
   "metadata": {
    "id": "D-ZBOjErv5mM"
   },
   "outputs": [],
   "source": [
    "# Automatically restart kernel after installs so that your environment can access the new packages\n",
    "# import IPython\n",
    "\n",
    "# app = IPython.Application.instance()\n",
    "# app.kernel.do_shutdown(True)"
   ]
  },
  {
   "cell_type": "markdown",
   "metadata": {
    "id": "before_you_begin:nogpu"
   },
   "source": [
    "在开始之前\n",
    "\n",
    "设置您的项目ID\n",
    "\n",
    "**如果您不知道您的项目ID**，请尝试以下操作：\n",
    "* 运行 `gcloud config list`。\n",
    "* 运行 `gcloud projects list`。\n",
    "* 查看支持页面：[查找项目ID](https://support.google.com/googleapi/answer/7014113)"
   ]
  },
  {
   "cell_type": "code",
   "execution_count": null,
   "metadata": {
    "id": "set_project_id"
   },
   "outputs": [],
   "source": [
    "PROJECT_ID = \"[your-project-id]\"  # @param {type:\"string\"}\n",
    "\n",
    "# Set the project id\n",
    "! gcloud config set project {PROJECT_ID}"
   ]
  },
  {
   "cell_type": "markdown",
   "metadata": {
    "id": "region"
   },
   "source": [
    "区域\n",
    "\n",
    "您还可以更改 Vertex AI 使用的 `REGION` 变量。了解有关[Vertex AI 区域](https://cloud.google.com/vertex-ai/docs/general/locations)的更多信息。"
   ]
  },
  {
   "cell_type": "code",
   "execution_count": null,
   "metadata": {
    "id": "2dw8q9fdQEH5"
   },
   "outputs": [],
   "source": [
    "REGION = \"us-central1\"\n",
    "DATA_REGION = \"US\""
   ]
  },
  {
   "cell_type": "markdown",
   "metadata": {
    "id": "gcp_authenticate"
   },
   "source": [
    "### 认证您的 Google Cloud 账户\n",
    "\n",
    "根据您的 Jupyter 环境，您可能需要手动进行认证。请按照以下相关说明进行操作。\n",
    "\n",
    "**1. Vertex AI Workbench**\n",
    "* 由于您已经通过认证，无需进行任何操作。\n",
    "\n",
    "**2. 本地 JupyterLab 实例，取消注释并运行：**"
   ]
  },
  {
   "cell_type": "code",
   "execution_count": null,
   "metadata": {
    "id": "ce6043da7b33"
   },
   "outputs": [],
   "source": [
    "# ! gcloud auth login"
   ]
  },
  {
   "cell_type": "markdown",
   "metadata": {
    "id": "0367eac06a10"
   },
   "source": [
    "3. 合作，取消注释并运行:"
   ]
  },
  {
   "cell_type": "code",
   "execution_count": null,
   "metadata": {
    "id": "21ad4dbb4a61"
   },
   "outputs": [],
   "source": [
    "# from google.colab import auth\n",
    "# auth.authenticate_user()"
   ]
  },
  {
   "cell_type": "markdown",
   "metadata": {
    "id": "c13224697bfb"
   },
   "source": [
    "4. 服务帐号或其他\n",
    "* 请参考如何授予您的服务帐号Cloud Storage权限网址：https://cloud.google.com/storage/docs/gsutil/commands/iam#ch-examples。"
   ]
  },
  {
   "cell_type": "markdown",
   "metadata": {
    "id": "bucket:mbsdk"
   },
   "source": [
    "创建一个云存储桶\n",
    "\n",
    "创建一个存储桶来存储中间产物，如数据集。"
   ]
  },
  {
   "cell_type": "code",
   "execution_count": null,
   "metadata": {
    "id": "bucket"
   },
   "outputs": [],
   "source": [
    "BUCKET_URI = f\"gs://your-bucket-name-{PROJECT_ID}-unique\"  # @param {type:\"string\"}"
   ]
  },
  {
   "cell_type": "markdown",
   "metadata": {
    "id": "autoset_bucket"
   },
   "source": [
    "只有当您的存储桶尚不存在时：运行以下单元格以创建您的云存储存储桶。"
   ]
  },
  {
   "cell_type": "code",
   "execution_count": null,
   "metadata": {
    "id": "91c46850b49b"
   },
   "outputs": [],
   "source": [
    "! gsutil mb -l $REGION -p $PROJECT_ID $BUCKET_URI"
   ]
  },
  {
   "cell_type": "markdown",
   "metadata": {
    "id": "Bw2_iughbsd7"
   },
   "source": [
    "#### 服务账号\n",
    "\n",
    "您可以使用服务账号来创建 Vertex AI Pipeline 作业。如果您不想使用您项目的 Compute Engine 服务账号，则将 `SERVICE_ACCOUNT` 设置为另一个服务账号ID。"
   ]
  },
  {
   "cell_type": "code",
   "execution_count": null,
   "metadata": {
    "id": "bPW2wdPNw0aJ"
   },
   "outputs": [],
   "source": [
    "SERVICE_ACCOUNT = \"[your-service-account]\"  # @param {type:\"string\"}"
   ]
  },
  {
   "cell_type": "code",
   "execution_count": null,
   "metadata": {
    "id": "BUT1yahzw0aK"
   },
   "outputs": [],
   "source": [
    "import sys\n",
    "\n",
    "IS_COLAB = \"google.colab\" in sys.modules\n",
    "\n",
    "if (\n",
    "    SERVICE_ACCOUNT == \"\"\n",
    "    or SERVICE_ACCOUNT is None\n",
    "    or SERVICE_ACCOUNT == \"[your-service-account]\"\n",
    "):\n",
    "    # Get your service account from gcloud\n",
    "    if not IS_COLAB:\n",
    "        shell_output = !gcloud auth list 2>/dev/null\n",
    "        SERVICE_ACCOUNT = shell_output[2].replace(\"*\", \"\").strip()\n",
    "\n",
    "    else:  # IS_COLAB:\n",
    "        shell_output = ! gcloud projects describe  $PROJECT_ID\n",
    "        project_number = shell_output[-1].split(\":\")[1].strip().replace(\"'\", \"\")\n",
    "        SERVICE_ACCOUNT = f\"{project_number}-compute@developer.gserviceaccount.com\"\n",
    "\n",
    "    print(\"Service Account:\", SERVICE_ACCOUNT)"
   ]
  },
  {
   "cell_type": "markdown",
   "metadata": {
    "id": "EOOmh89cbsd8"
   },
   "source": [
    "设置用于 Vertex AI Pipelines 的服务帐号访问权限\n",
    "\n",
    "运行以下命令，将您的服务帐号授予读取和写入管道工件的权限，该管道工件位于您在上一步创建的存储桶中。您只需要对每个服务帐号运行此步骤一次。"
   ]
  },
  {
   "cell_type": "code",
   "execution_count": null,
   "metadata": {
    "id": "NjAu9sOjbsd8"
   },
   "outputs": [],
   "source": [
    "! gsutil iam ch serviceAccount:{SERVICE_ACCOUNT}:roles/storage.objectCreator $BUCKET_URI\n",
    "\n",
    "! gsutil iam ch serviceAccount:{SERVICE_ACCOUNT}:roles/storage.objectViewer $BUCKET_URI"
   ]
  },
  {
   "cell_type": "markdown",
   "metadata": {
    "id": "setup_vars"
   },
   "source": [
    "### 导入库"
   ]
  },
  {
   "cell_type": "code",
   "execution_count": null,
   "metadata": {
    "id": "import_aip:mbsdk"
   },
   "outputs": [],
   "source": [
    "import json\n",
    "import os\n",
    "\n",
    "import google.cloud.aiplatform as aip\n",
    "import matplotlib.pyplot as plt\n",
    "import numpy as np\n",
    "import tensorflow as tf\n",
    "from google.cloud import aiplatform_v1\n",
    "from tensorflow.keras.datasets import boston_housing"
   ]
  },
  {
   "cell_type": "markdown",
   "metadata": {
    "id": "init_aip:mbsdk"
   },
   "source": [
    "### 初始化用于 Python 的 Vertex AI SDK\n",
    "\n",
    "为您的项目和对应的桶初始化用于 Python 的 Vertex AI SDK。"
   ]
  },
  {
   "cell_type": "code",
   "execution_count": null,
   "metadata": {
    "id": "J_vhdLRDw0aL"
   },
   "outputs": [],
   "source": [
    "aip.init(project=PROJECT_ID, staging_bucket=BUCKET_URI, location=REGION)"
   ]
  },
  {
   "cell_type": "markdown",
   "metadata": {
    "id": "accelerators:training,cpu,prediction,cpu,mbsdk"
   },
   "source": [
    "### 设置硬件加速器\n",
    "\n",
    "您可以为训练和预测设置硬件加速器。\n",
    "\n",
    "设置变量`TRAIN_GPU/TRAIN_NGPU`和`DEPLOY_GPU/DEPLOY_NGPU`，以使用支持 GPU 的容器映像和分配给虚拟机实例的 GPU 数量。例如，要使用一个 GPU 容器映像，每个 VM 分配 4 个 Nvidia Telsa K80 GPU，您可以指定：\n",
    "\n",
    "    (aip.gapic.AcceleratorType.NVIDIA_TESLA_K80, 4)\n",
    "\n",
    "否则，指定`(None, None)`以使用一个在 CPU 上运行的容器映像。\n",
    "\n",
    "了解有关[您所在地区的硬件加速器支持](https://cloud.google.com/vertex-ai/docs/general/locations#accelerators)\n",
    "\n",
    "*注意*：在 GPU 支持之前 2.3 版本的 TF 将无法加载此教程中的自定义模型。这是一个已知问题，在 TF 2.3 中已修复，原因是在服务函数中生成的静态图操作。如果您在自定义模型上遇到此问题，请使用支持 GPU 的 TF 2.3 容器映像。"
   ]
  },
  {
   "cell_type": "code",
   "execution_count": null,
   "metadata": {
    "id": "aex4cf68w0aL"
   },
   "outputs": [],
   "source": [
    "if os.getenv(\"IS_TESTING_TRAIN_GPU\"):\n",
    "    TRAIN_GPU, TRAIN_NGPU = (\n",
    "        aip.gapic.AcceleratorType.NVIDIA_TESLA_K80,\n",
    "        int(os.getenv(\"IS_TESTING_TRAIN_GPU\")),\n",
    "    )\n",
    "else:\n",
    "    TRAIN_GPU, TRAIN_NGPU = (None, None)\n",
    "\n",
    "if os.getenv(\"IS_TESTING_DEPLOY_GPU\"):\n",
    "    DEPLOY_GPU, DEPLOY_NGPU = (\n",
    "        aip.gapic.AcceleratorType.NVIDIA_TESLA_K80,\n",
    "        int(os.getenv(\"IS_TESTING_DEPLOY_GPU\")),\n",
    "    )\n",
    "else:\n",
    "    DEPLOY_GPU, DEPLOY_NGPU = (None, None)"
   ]
  },
  {
   "cell_type": "markdown",
   "metadata": {
    "id": "container:training,prediction"
   },
   "source": [
    "#### 设置预构建的容器\n",
    "\n",
    "设置用于训练和预测的预构建的Docker容器镜像。\n",
    "\n",
    "\n",
    "查看最新列表，请参阅[用于训练的预构建容器](https://cloud.google.com/ai-platform-unified/docs/training/pre-built-containers)。\n",
    "\n",
    "\n",
    "查看最新列表，请参阅[用于预测的预构建容器](https://cloud.google.com/ai-platform-unified/docs/predictions/pre-built-containers)。"
   ]
  },
  {
   "cell_type": "code",
   "execution_count": null,
   "metadata": {
    "id": "tJ8sDj_7w0aL"
   },
   "outputs": [],
   "source": [
    "if os.getenv(\"IS_TESTING_TF\"):\n",
    "    TF = os.getenv(\"IS_TESTING_TF\")\n",
    "else:\n",
    "    TF = \"2-9\"\n",
    "\n",
    "if TF[0] == \"2\":\n",
    "    if TRAIN_GPU:\n",
    "        TRAIN_VERSION = \"tf-gpu.{}\".format(TF)\n",
    "    else:\n",
    "        TRAIN_VERSION = \"tf-cpu.{}\".format(TF)\n",
    "    if DEPLOY_GPU:\n",
    "        DEPLOY_VERSION = \"tf2-gpu.{}\".format(TF)\n",
    "    else:\n",
    "        DEPLOY_VERSION = \"tf2-cpu.{}\".format(TF)\n",
    "else:\n",
    "    if TRAIN_GPU:\n",
    "        TRAIN_VERSION = \"tf-gpu.{}\".format(TF)\n",
    "    else:\n",
    "        TRAIN_VERSION = \"tf-cpu.{}\".format(TF)\n",
    "    if DEPLOY_GPU:\n",
    "        DEPLOY_VERSION = \"tf-gpu.{}\".format(TF)\n",
    "    else:\n",
    "        DEPLOY_VERSION = \"tf-cpu.{}\".format(TF)\n",
    "\n",
    "TRAIN_IMAGE = \"us-docker.pkg.dev/vertex-ai/training/{}:latest\".format(TRAIN_VERSION)\n",
    "DEPLOY_IMAGE = \"us-docker.pkg.dev/vertex-ai/prediction/{}:latest\".format(DEPLOY_VERSION)\n",
    "\n",
    "print(\"Training:\", TRAIN_IMAGE, TRAIN_GPU, TRAIN_NGPU)\n",
    "print(\"Deployment:\", DEPLOY_IMAGE, DEPLOY_GPU, DEPLOY_NGPU)"
   ]
  },
  {
   "cell_type": "markdown",
   "metadata": {
    "id": "machine:training,prediction"
   },
   "source": [
    "#### 设置机器类型\n",
    "\n",
    "接下来，设置用于训练和预测的机器类型。\n",
    "\n",
    "- 设置变量 `TRAIN_COMPUTE` 和 `DEPLOY_COMPUTE` 来配置用于训练和预测的虚拟机的计算资源。\n",
    " - `机器类型`\n",
    "     - `n1-standard`: 每个 vCPU 的内存为 3.75GB。\n",
    "     - `n1-highmem`: 每个 vCPU 的内存为 6.5GB。\n",
    "     - `n1-highcpu`: 每个 vCPU 的内存为 0.9GB。\n",
    " - `vCPUs`: \\[2, 4, 8, 16, 32, 64, 96 \\] 中的数字\n",
    "\n",
    "*注意: 以下内容不支持用于训练：*\n",
    "\n",
    " - `standard`: 2 vCPUs\n",
    " - `highcpu`: 2, 4 和 8 vCPUs\n",
    "\n",
    "*注意: 您也可以使用 n2 和 e2 机器类型进行训练和部署，但它们不支持 GPU*。"
   ]
  },
  {
   "cell_type": "code",
   "execution_count": null,
   "metadata": {
    "id": "uUhWX8dXw0aM"
   },
   "outputs": [],
   "source": [
    "if os.getenv(\"IS_TESTING_TRAIN_MACHINE\"):\n",
    "    MACHINE_TYPE = os.getenv(\"IS_TESTING_TRAIN_MACHINE\")\n",
    "else:\n",
    "    MACHINE_TYPE = \"n1-standard\"\n",
    "\n",
    "VCPU = \"4\"\n",
    "TRAIN_COMPUTE = MACHINE_TYPE + \"-\" + VCPU\n",
    "print(\"Train machine type\", TRAIN_COMPUTE)\n",
    "\n",
    "if os.getenv(\"IS_TESTING_DEPLOY_MACHINE\"):\n",
    "    MACHINE_TYPE = os.getenv(\"IS_TESTING_DEPLOY_MACHINE\")\n",
    "else:\n",
    "    MACHINE_TYPE = \"n1-standard\"\n",
    "\n",
    "VCPU = \"4\"\n",
    "DEPLOY_COMPUTE = MACHINE_TYPE + \"-\" + VCPU\n",
    "print(\"Deploy machine type\", DEPLOY_COMPUTE)"
   ]
  },
  {
   "cell_type": "markdown",
   "metadata": {
    "id": "examine_training_package"
   },
   "source": [
    "## 训练自定义模型\n",
    "\n",
    "现在，您已经准备好开始创建自己的自定义模型并对波士顿房屋进行训练。\n",
    "\n",
    "了解有关[在Vertex AI上进行自定义模型训练](https://cloud.google.com/vertex-ai/docs/training/custom-training)的更多信息。\n",
    "\n",
    "### 检查训练包\n",
    "\n",
    "#### 包布局\n",
    "\n",
    "在开始训练之前，您可以查看为自定义训练作业组装Python包的方式。解压后，包含以下目录/文件布局。\n",
    "\n",
    "- PKG-INFO\n",
    "- README.md\n",
    "- setup.cfg\n",
    "- setup.py\n",
    "- trainer\n",
    "  - \\_\\_init\\_\\_.py\n",
    "  - task.py\n",
    "\n",
    "文件 `setup.cfg` 和 `setup.py` 包含将包安装到Docker镜像的操作环境中的说明。\n",
    "\n",
    "文件 `trainer/task.py` 是执行自定义训练作业的Python脚本。\n",
    "\n",
    "**注意：** 当在工作池规范中引用它时，您需要将目录斜杠替换为点号（`trainer.task`），并且去掉文件后缀（`.py`）。\n",
    "\n",
    "#### 包组装\n",
    "\n",
    "在下面的单元格中，您将组装训练包。"
   ]
  },
  {
   "cell_type": "code",
   "execution_count": null,
   "metadata": {
    "id": "MsQjrHq1w0aM"
   },
   "outputs": [],
   "source": [
    "# Make folder for Python training script\n",
    "! rm -rf custom\n",
    "! mkdir custom\n",
    "\n",
    "# Add package information\n",
    "! touch custom/README.md\n",
    "\n",
    "setup_cfg = \"[egg_info]\\n\\ntag_build =\\n\\ntag_date = 0\"\n",
    "! echo \"$setup_cfg\" > custom/setup.cfg\n",
    "\n",
    "setup_py = \"import setuptools\\n\\nsetuptools.setup(\\n\\n    install_requires=[\\n\\n        'tensorflow_datasets==1.3.0',\\n\\n    ],\\n\\n    packages=setuptools.find_packages())\"\n",
    "! echo \"$setup_py\" > custom/setup.py\n",
    "\n",
    "pkg_info = \"Metadata-Version: 1.0\\n\\nName: Boston Housing tabular regression\\n\\nVersion: 0.0.0\\n\\nSummary: Demostration training script\\n\\nHome-page: www.google.com\\n\\nAuthor: Google\\n\\nAuthor-email: aferlitsch@google.com\\n\\nLicense: Public\\n\\nDescription: Demo\\n\\nPlatform: Vertex\"\n",
    "! echo \"$pkg_info\" > custom/PKG-INFO\n",
    "\n",
    "# Make the training subfolder\n",
    "! mkdir custom/trainer\n",
    "! touch custom/trainer/__init__.py"
   ]
  },
  {
   "cell_type": "markdown",
   "metadata": {
    "id": "taskpy_contents:boston"
   },
   "source": [
    "#### 创建 task.py\n",
    "\n",
    "在下一个单元格中，您将编写训练脚本 task.py 的内容。总结如下：\n",
    "\n",
    "- 从命令行获取保存模型工件的目录（`--model_dir`），如果未指定，则从环境变量 `AIP_MODEL_DIR` 获取。\n",
    "- 从 TF.Keras 内置数据集加载波士顿房屋数据集。\n",
    "- 使用 TF.Keras 模型 API 构建一个简单的深度神经网络模型。\n",
    "- 编译模型（`compile()`）。\n",
    "- 根据参数 `args.distribute` 设置训练分布策略。\n",
    "- 使用指定的 epochs 训练模型（`fit()`）。\n",
    "- 将训练好的模型保存到指定的模型目录（`save(args.model_dir)`）。\n",
    "- 将每个特征的最大值保存到指定的参数文件中（`f.write(str(params))`）。"
   ]
  },
  {
   "cell_type": "code",
   "execution_count": null,
   "metadata": {
    "id": "5mN6Ky8mw0aN"
   },
   "outputs": [],
   "source": [
    "%%writefile custom/trainer/task.py\n",
    "# Single, Mirror and Multi-Machine Distributed Training for Boston Housing\n",
    "\n",
    "import tensorflow_datasets as tfds\n",
    "import tensorflow as tf\n",
    "from tensorflow.python.client import device_lib\n",
    "import numpy as np\n",
    "import argparse\n",
    "import os\n",
    "import sys\n",
    "tfds.disable_progress_bar()\n",
    "\n",
    "parser = argparse.ArgumentParser()\n",
    "parser.add_argument('--model-dir', dest='model_dir',\n",
    "                    default=os.getenv('AIP_MODEL_DIR'), type=str, help='Model dir.')\n",
    "parser.add_argument('--lr', dest='lr',\n",
    "                    default=0.001, type=float,\n",
    "                    help='Learning rate.')\n",
    "parser.add_argument('--epochs', dest='epochs',\n",
    "                    default=20, type=int,\n",
    "                    help='Number of epochs.')\n",
    "parser.add_argument('--steps', dest='steps',\n",
    "                    default=100, type=int,\n",
    "                    help='Number of steps per epoch.')\n",
    "parser.add_argument('--distribute', dest='distribute', type=str, default='single',\n",
    "                    help='distributed training strategy')\n",
    "parser.add_argument('--param-file', dest='param_file',\n",
    "                    default='/tmp/param.txt', type=str,\n",
    "                    help='Output file for parameters')\n",
    "args = parser.parse_args()\n",
    "\n",
    "print('Python Version = {}'.format(sys.version))\n",
    "print('TensorFlow Version = {}'.format(tf.__version__))\n",
    "print('TF_CONFIG = {}'.format(os.environ.get('TF_CONFIG', 'Not found')))\n",
    "\n",
    "# Single Machine, single compute device\n",
    "if args.distribute == 'single':\n",
    "    if tf.test.is_gpu_available():\n",
    "        strategy = tf.distribute.OneDeviceStrategy(device=\"/gpu:0\")\n",
    "    else:\n",
    "        strategy = tf.distribute.OneDeviceStrategy(device=\"/cpu:0\")\n",
    "# Single Machine, multiple compute device\n",
    "elif args.distribute == 'mirror':\n",
    "    strategy = tf.distribute.MirroredStrategy()\n",
    "# Multiple Machine, multiple compute device\n",
    "elif args.distribute == 'multi':\n",
    "    strategy = tf.distribute.experimental.MultiWorkerMirroredStrategy()\n",
    "\n",
    "# Multi-worker configuration\n",
    "print('num_replicas_in_sync = {}'.format(strategy.num_replicas_in_sync))\n",
    "\n",
    "\n",
    "def make_dataset():\n",
    "\n",
    "  \n",
    "  (x_train, y_train), (x_test, y_test) = tf.keras.datasets.boston_housing.load_data(\n",
    "    path=\"boston_housing.npz\", test_split=0.2, seed=113\n",
    "  )\n",
    "  \n",
    "    \n",
    "  \n",
    "  #Get maximum value of each column\n",
    "  max_value_in_each_column_array_x_train=np.max(x_train,axis=0)\n",
    "\n",
    "  #dividing each value by the maximum value of that column  \n",
    "    \n",
    "  x_train=x_train/max_value_in_each_column_array_x_train\n",
    "\n",
    "  max_value_in_each_column_array_x_test=np.max(x_test,axis=0)\n",
    "\n",
    "  #dividing each value by the maximum value of that column  \n",
    "    \n",
    "  x_test=x_test/max_value_in_each_column_array_x_test\n",
    "\n",
    "  params=max_value_in_each_column_array_x_train\n",
    "\n",
    "  \n",
    "\n",
    "  # store the normalization (max) value for each feature\n",
    "  with tf.io.gfile.GFile(args.param_file, 'w') as f:\n",
    "    f.write(str(params))\n",
    "  return (x_train, y_train), (x_test, y_test)\n",
    "\n",
    "\n",
    "# Build the Keras model\n",
    "def build_and_compile_dnn_model():\n",
    "  model = tf.keras.Sequential([\n",
    "      tf.keras.layers.Dense(128, activation='relu', input_shape=(13,)),\n",
    "      tf.keras.layers.Dense(128, activation='relu'),\n",
    "      tf.keras.layers.Dense(1, activation='linear')\n",
    "  ])\n",
    "  model.compile(\n",
    "      loss='mse',\n",
    "      optimizer=tf.keras.optimizers.RMSprop(learning_rate=args.lr))\n",
    "  return model\n",
    "\n",
    "NUM_WORKERS = strategy.num_replicas_in_sync\n",
    "# Here the batch size scales up by number of workers since\n",
    "# `tf.data.Dataset.batch` expects the global batch size.\n",
    "BATCH_SIZE = 16\n",
    "GLOBAL_BATCH_SIZE = BATCH_SIZE * NUM_WORKERS\n",
    "\n",
    "with strategy.scope():\n",
    "  # Creation of dataset, and model building/compiling need to be within\n",
    "  # `strategy.scope()`.\n",
    "  model = build_and_compile_dnn_model()\n",
    "\n",
    "# Train the model\n",
    "(x_train, y_train), (x_test, y_test) = make_dataset()\n",
    "model.fit(x_train, y_train, epochs=args.epochs, batch_size=GLOBAL_BATCH_SIZE)\n",
    "model.save(args.model_dir)"
   ]
  },
  {
   "cell_type": "markdown",
   "metadata": {
    "id": "tarball_training_script"
   },
   "source": [
    "将训练脚本存储在您的云存储桶中。\n",
    "\n",
    "接下来，您将训练文件夹打包成一个压缩的tar文件，并将其存储在您的云存储桶中。"
   ]
  },
  {
   "cell_type": "code",
   "execution_count": null,
   "metadata": {
    "id": "_gJHD3fow0aN"
   },
   "outputs": [],
   "source": [
    "! rm -f custom.tar custom.tar.gz\n",
    "! tar cvf custom.tar custom\n",
    "! gzip custom.tar\n",
    "! gsutil cp custom.tar.gz $BUCKET_URI/trainer_boston.tar.gz"
   ]
  },
  {
   "cell_type": "markdown",
   "metadata": {
    "id": "create_custom_training_job:mbsdk,no_model"
   },
   "source": [
    "### 创建和运行自定义训练作业\n",
    "\n",
    "要训练一个自定义模型，您需要执行两个步骤：\n",
    "\n",
    "1) 创建一个自定义训练作业\n",
    "\n",
    "2) 运行这个作业\n",
    "\n",
    "#### 创建一个自定义训练作业\n",
    "\n",
    "使用`CustomTrainingJob`类创建一个自定义训练作业，需要以下参数：\n",
    "\n",
    "- `display_name`：自定义训练作业的可读名称\n",
    "- `container_uri`：训练容器镜像\n",
    "- `requirements`：训练容器镜像的包要求（例如，pandas）\n",
    "- `script_path`：训练脚本的相对路径"
   ]
  },
  {
   "cell_type": "code",
   "execution_count": null,
   "metadata": {
    "id": "iVbjlrdgw0aO"
   },
   "outputs": [],
   "source": [
    "train_job = aip.CustomTrainingJob(\n",
    "    display_name=\"boston\",\n",
    "    script_path=\"custom/trainer/task.py\",\n",
    "    container_uri=TRAIN_IMAGE,\n",
    "    requirements=[\"gcsfs==0.7.1\", \"tensorflow-datasets==4.4\"],\n",
    ")\n",
    "\n",
    "print(train_job)"
   ]
  },
  {
   "cell_type": "markdown",
   "metadata": {
    "id": "prepare_custom_cmdargs"
   },
   "source": [
    "#### 准备你的命令行参数\n",
    "\n",
    "现在为你的自定义训练容器定义命令行参数：\n",
    "\n",
    "- `args`: 要传递给设置为容器入口点的可执行文件的命令行参数。\n",
    "  - `--model-dir`: 对于我们的示例，我们使用这个命令行参数来指定存储模型文件的位置。\n",
    "      - 直接: 你将 Cloud Storage 的位置作为命令行参数传递给训练脚本（设置变量 `DIRECT = True`），或者\n",
    "      - 间接: 服务将 Cloud Storage 的位置作为环境变量 `AIP_MODEL_DIR` 传递给你的训练脚本（设置变量 `DIRECT = False`）。在这种情况下，你需要在作业规范中告诉服务模型文件的位置。\n",
    "  - `\"--epochs=\" + EPOCHS`: 训练的 epoch 数量。\n",
    "  - `\"--steps=\" + STEPS`: 每个 epoch 的步骤数量。"
   ]
  },
  {
   "cell_type": "code",
   "execution_count": null,
   "metadata": {
    "id": "7zKSOPvvw0aO"
   },
   "outputs": [],
   "source": [
    "MODEL_DIR = \"{}/{}\".format(BUCKET_URI, \"model\")\n",
    "\n",
    "EPOCHS = 20\n",
    "STEPS = 100\n",
    "\n",
    "DIRECT = True\n",
    "if DIRECT:\n",
    "    CMDARGS = [\n",
    "        \"--model-dir=\" + MODEL_DIR,\n",
    "        \"--epochs=\" + str(EPOCHS),\n",
    "        \"--steps=\" + str(STEPS),\n",
    "    ]\n",
    "else:\n",
    "    CMDARGS = [\n",
    "        \"--epochs=\" + str(EPOCHS),\n",
    "        \"--steps=\" + str(STEPS),\n",
    "    ]"
   ]
  },
  {
   "cell_type": "markdown",
   "metadata": {
    "id": "run_custom_job:mbsdk,no_model"
   },
   "source": [
    "#### 运行自定义训练任务\n",
    "\n",
    "接下来，通过调用`run()`方法以以下参数运行自定义任务来开始训练工作：\n",
    "\n",
    "- `args`：要传递给训练脚本的命令行参数。\n",
    "- `replica_count`：用于训练的计算实例数量（replica_count = 1表示单节点训练）。\n",
    "- `machine_type`：计算实例的机器类型。\n",
    "- `accelerator_type`：硬件加速器类型。\n",
    "- `accelerator_count`：要附加到工作实例的加速器数量。\n",
    "- `base_output_dir`：将模型工件写入的Cloud Storage位置。\n",
    "- `sync`：是否同步执行此方法。如果为False，则此方法将在并发Future中执行，并在Future完成时立即返回和同步下游对象。"
   ]
  },
  {
   "cell_type": "code",
   "execution_count": null,
   "metadata": {
    "id": "ScNW3L-Xw0aO"
   },
   "outputs": [],
   "source": [
    "if TRAIN_GPU:\n",
    "    train_job.run(\n",
    "        args=CMDARGS,\n",
    "        replica_count=1,\n",
    "        machine_type=TRAIN_COMPUTE,\n",
    "        accelerator_type=TRAIN_GPU.name,\n",
    "        accelerator_count=TRAIN_NGPU,\n",
    "        base_output_dir=MODEL_DIR,\n",
    "        sync=True,\n",
    "    )\n",
    "else:\n",
    "    train_job.run(\n",
    "        args=CMDARGS,\n",
    "        replica_count=1,\n",
    "        machine_type=TRAIN_COMPUTE,\n",
    "        base_output_dir=MODEL_DIR,\n",
    "        sync=True,\n",
    "    )\n",
    "\n",
    "model_path_to_deploy = MODEL_DIR"
   ]
  },
  {
   "cell_type": "markdown",
   "metadata": {
    "id": "ab954a846b61"
   },
   "source": [
    "#### 加载保存的模型\n",
    "\n",
    "您的模型以 TensorFlow SavedModel 格式存储在 Cloud Storage 存储桶中。现在从 Cloud Storage 存储桶中加载它，然后您可以执行模型评估和进行预测请求等任务。\n",
    "\n",
    "要加载模型，您需要将 Cloud Storage 路径 \"MODEL_DIR\" 传递给 `tf.saved_model.load()` 方法。"
   ]
  },
  {
   "cell_type": "code",
   "execution_count": null,
   "metadata": {
    "id": "dad74e9bc8b3"
   },
   "outputs": [],
   "source": [
    "loaded = tf.saved_model.load(model_path_to_deploy)"
   ]
  },
  {
   "cell_type": "markdown",
   "metadata": {
    "id": "serving_function_signature"
   },
   "source": [
    "获取服务功能签名\n",
    "\n",
    "您可以通过重新加载模型并查询相应层的签名来获得模型的输入和输出层签名。\n",
    "\n",
    "在进行预测请求时，您需要将请求路由到服务功能而不是模型，因此您需要知道服务功能的输入层名称，以便在进行预测请求时使用。\n",
    "\n",
    "您还需要知道服务功能的输入和输出层的名称，以便在**稍后的步骤**中构建解释元数据。"
   ]
  },
  {
   "cell_type": "code",
   "execution_count": null,
   "metadata": {
    "id": "n_SWvewPw0aQ"
   },
   "outputs": [],
   "source": [
    "serving_input = list(\n",
    "    loaded.signatures[\"serving_default\"].structured_input_signature[1].keys()\n",
    ")[0]\n",
    "print(\"Serving function input:\", serving_input)\n",
    "serving_output = list(loaded.signatures[\"serving_default\"].structured_outputs.keys())[0]\n",
    "print(\"Serving function output:\", serving_output)"
   ]
  },
  {
   "cell_type": "markdown",
   "metadata": {
    "id": "69d4859c7196"
   },
   "source": [
    "## 配置基于特征的解释（可选）\n",
    "\n",
    "**要配置模型的解释，按照以下步骤进行。此步骤为可选步骤。**\n",
    "\n",
    "要使用自定义训练模型的 Vertex 可解释 AI，您必须在创建要请求解释的模型资源时或部署模型时，或提交批量解释作业时配置某些选项。\n",
    "\n",
    "如果您想要使用 Vertex 可解释 AI 与 AutoML 表格模型，则无需执行任何配置。Vertex AI 会自动为 Vertex 可解释 AI 配置模型。\n",
    "\n",
    "### 解释规范\n",
    "\n",
    "在进行预测时获得解释时，您必须在上传自定义模型到 Vertex AI 模型注册表时启用解释功能并设置相应设置。这些设置被称为解释元数据，包括：\n",
    "\n",
    "- `parameters`：解释您模型的可解释性算法的规范。您可以选择以下之一：\n",
    "  - Shapley（不建议用于图像数据，因为计算可能会花费很长时间）\n",
    "  - XRAI\n",
    "  - 集成梯度\n",
    "- `metadata`：算法在您的自定义模型上应用的规范\n",
    "\n",
    "了解更多关于[解释规范](https://cloud.google.com/vertex-ai/docs/explainable-ai/configuring-explanations-feature-based#when-creating-or-importing-model)。\n",
    "\n",
    "在下一个代码单元格中，您定义参数。"
   ]
  },
  {
   "cell_type": "code",
   "execution_count": null,
   "metadata": {
    "id": "p_jRpSlCeJIY"
   },
   "outputs": [],
   "source": [
    "XAI = \"ig\"  # [ shapley, ig, xrai ]\n",
    "\n",
    "if XAI == \"shapley\":\n",
    "    PARAMETERS = {\"sampled_shapley_attribution\": {\"path_count\": 10}}\n",
    "elif XAI == \"ig\":\n",
    "    PARAMETERS = {\"integrated_gradients_attribution\": {\"step_count\": 50}}\n",
    "elif XAI == \"xrai\":\n",
    "    PARAMETERS = {\"xrai_attribution\": {\"step_count\": 50}}\n",
    "\n",
    "parameters = aip.explain.ExplanationParameters(PARAMETERS)"
   ]
  },
  {
   "cell_type": "markdown",
   "metadata": {
    "id": "781989a46a3b"
   },
   "source": [
    "在下一个代码单元格中，您定义元数据"
   ]
  },
  {
   "cell_type": "code",
   "execution_count": null,
   "metadata": {
    "id": "A9Rc-_HUeMnh"
   },
   "outputs": [],
   "source": [
    "INPUT_METADATA = {\n",
    "    \"input_tensor_name\": serving_input,\n",
    "    \"encoding\": \"BAG_OF_FEATURES\",\n",
    "    \"modality\": \"numeric\",\n",
    "    \"index_feature_mapping\": [\n",
    "        \"crim\",\n",
    "        \"zn\",\n",
    "        \"indus\",\n",
    "        \"chas\",\n",
    "        \"nox\",\n",
    "        \"rm\",\n",
    "        \"age\",\n",
    "        \"dis\",\n",
    "        \"rad\",\n",
    "        \"tax\",\n",
    "        \"ptratio\",\n",
    "        \"b\",\n",
    "        \"lstat\",\n",
    "    ],\n",
    "}\n",
    "\n",
    "OUTPUT_METADATA = {\"output_tensor_name\": serving_output}\n",
    "\n",
    "input_metadata = aip.explain.ExplanationMetadata.InputMetadata(INPUT_METADATA)\n",
    "output_metadata = aip.explain.ExplanationMetadata.OutputMetadata(OUTPUT_METADATA)\n",
    "\n",
    "metadata = aip.explain.ExplanationMetadata(\n",
    "    inputs={\"features\": input_metadata}, outputs={\"medv\": output_metadata}\n",
    ")"
   ]
  },
  {
   "cell_type": "markdown",
   "metadata": {
    "id": "ed414a2f945a"
   },
   "source": [
    "### 创建实例模式和预测模式的yaml文件\n",
    "\n",
    "在接下来的单元格中，您要写instance_schema.yaml和prediction_schema.yaml文件的内容。两个文件的内容结构是相同的。\n",
    "\n",
    "#### 创建实例模式yaml文件\n",
    "\n",
    "在下一个单元格中，您要写入instance_schema.yaml的内容。您要写有关您提供给批量预测的预测实例的结构。\n",
    "\n",
    "- 指定标题和描述。\n",
    "- 指定输入的类型。在您的情况下，输入层到批量预测的输入是\n",
    "**{\"dense_input\": [0.02715405449271202, 0.0, 0.027177177369594574, 0.0, 0.0010195195209234953, 0.009660660289227962, 0.1501501500606537, 0.0027548049110919237, 0.036036036908626556, 1.0, 0.03033033013343811, 0.04091591760516167, 0.043618619441986084]}**\n",
    "它是一个对象。在对象内部，有像dense_input这样的属性。\n",
    "- 指定有关属性的描述。\n",
    "- 对于每个属性，指定其类型。\n",
    "- 如果属性的类型是数组，请在`items`键中提及有关数组项的信息。"
   ]
  },
  {
   "cell_type": "code",
   "execution_count": null,
   "metadata": {
    "id": "096c0ad95247"
   },
   "outputs": [],
   "source": [
    "%%writefile instance_schema.yaml\n",
    "title: TabularRegression\n",
    "description: 'Regression Instances.'\n",
    "\n",
    "type: object\n",
    "properties:\n",
    "  dense_input:\n",
    "    type: array\n",
    "    items:\n",
    "      type: float\n",
    "      minimum: 0.0\n",
    "      maximum: 1.0\n",
    "    description: 'Input values to model'\n"
   ]
  },
  {
   "cell_type": "markdown",
   "metadata": {
    "id": "53f324aaf19a"
   },
   "source": [
    "创建预测模式的yaml文件\n",
    "\n",
    "在下一个单元格中，您将编写prediction_schema.yaml文件的内容。 您要编写有关从批处理预测作业中获得的预测输出的结构。\n",
    "\n",
    "批处理预测作业的输出为\"prediction\": [value]，类型为数组。"
   ]
  },
  {
   "cell_type": "code",
   "execution_count": null,
   "metadata": {
    "id": "81e3c06bf8d7"
   },
   "outputs": [],
   "source": [
    "%%writefile prediction_schema.yaml\n",
    "title: TabularRegression\n",
    "description: 'Regression results.'\n",
    "\n",
    "type: array"
   ]
  },
  {
   "cell_type": "markdown",
   "metadata": {
    "id": "ff29b80d8b9c"
   },
   "source": [
    "将这两个文件都上传到您的云存储桶中。"
   ]
  },
  {
   "cell_type": "code",
   "execution_count": null,
   "metadata": {
    "id": "d22179020f2d"
   },
   "outputs": [],
   "source": [
    "!gsutil cp instance_schema.yaml $BUCKET_URI/instance_schema.yaml\n",
    "!gsutil cp prediction_schema.yaml $BUCKET_URI/prediction_schema.yaml"
   ]
  },
  {
   "cell_type": "markdown",
   "metadata": {
    "id": "upload_model:mbsdk"
   },
   "source": [
    "### 上传模型\n",
    "\n",
    "接下来，使用 `Model.upload()` 方法将您的模型上传到一个 `Model` 资源，具有以下参数：\n",
    "\n",
    "- `display_name`: `Model` 资源的人类可读名称。\n",
    "- `artifact`: 训练模型 artifacts 的 Cloud Storage 位置。\n",
    "- `serving_container_image_uri`: 服务容器镜像。\n",
    "- `instance_schema_uri`: 指向存储在 Google Cloud 存储中描述单个实例格式的 YAML 文件。\n",
    "- `prediction_schema_uri`: 指向存储在 Google Cloud 存储中描述该模型产生的单个预测格式的 YAML 文件。\n",
    "- `sync`: 是否异步或同步执行上传。\n",
    "- `explanation_parameters`: 为 `Model` 的预测配置解释的参数。\n",
    "- `explanation_metadata`: 描述 `Model` 的输入和输出以解释的元数据。\n",
    "\n",
    "如果 `upload()` 方法是异步运行的，则可以随后使用 `wait()` 方法阻塞直到完成。\n",
    "\n",
    "**注意:** 如果要为该模型配置解释，请设置 `explanation_parameters` 和 `explanation_metadata` 参数。否则请不要设置它们。"
   ]
  },
  {
   "cell_type": "code",
   "execution_count": null,
   "metadata": {
    "id": "JF-2-yxtw0aQ"
   },
   "outputs": [],
   "source": [
    "model = aip.Model.upload(\n",
    "    display_name=\"boston_new_model\",\n",
    "    artifact_uri=MODEL_DIR,\n",
    "    serving_container_image_uri=DEPLOY_IMAGE,\n",
    "    instance_schema_uri=f\"{BUCKET_URI}/instance_schema.yaml\",\n",
    "    prediction_schema_uri=f\"{BUCKET_URI}/prediction_schema.yaml\",\n",
    "    explanation_parameters=parameters,\n",
    "    explanation_metadata=metadata,\n",
    "    sync=False,\n",
    ")\n",
    "\n",
    "model.wait()"
   ]
  },
  {
   "cell_type": "markdown",
   "metadata": {
    "id": "d9b7a236f0f2"
   },
   "source": [
    "### 加载用于流水线的数据\n",
    "\n",
    "您可以使用`tf.keras.datasets`中的`load_data()`方法加载波士顿房屋测试（保留）数据。这将返回一个包含两个元素的元组数据集。第一个元素是训练数据，第二个是测试数据。每个元素也是一个包含两个元素的元组：特征数据和对应的标签（拥有者占用房屋的中位数价值）。\n",
    "\n",
    "您不需要训练数据，因此您可以加载为`(_, _)`。\n",
    "\n",
    "在将数据传递到流水线之前，您需要对其进行预处理：\n",
    "\n",
    "`x_test`：\n",
    "1. 通过将每个值除以该列的最大值来对每列中的数据进行标准化（重新缩放）。这将用介于0和1之间的32位浮点数替换每个单个值。"
   ]
  },
  {
   "cell_type": "code",
   "execution_count": null,
   "metadata": {
    "id": "4790dcb57dff"
   },
   "outputs": [],
   "source": [
    "(_, _), (x_test, y_test) = boston_housing.load_data(\n",
    "    path=\"boston_housing.npz\", test_split=0.2, seed=113\n",
    ")\n",
    "\n",
    "max_value_in_each_column_array = np.max(x_test, axis=0)\n",
    "\n",
    "\n",
    "# dividing each value by the maximum value of that column\n",
    "x_test = x_test / max_value_in_each_column_array\n",
    "\n",
    "\n",
    "x_test = x_test.astype(np.float32)\n",
    "\n",
    "print(x_test.shape, x_test.dtype, y_test.shape)\n",
    "print(\"scaled\", x_test[0])"
   ]
  },
  {
   "cell_type": "markdown",
   "metadata": {
    "id": "make_batch_file:custom,tabular"
   },
   "source": [
    "### 将输入文件添加到管道中\n",
    "\n",
    "现在创建一个输入文件，并将其存储在本地的云存储桶中。文件中的每个实例都是以下形式的字典条目：\n",
    "\n",
    "{服务输入：内容，标签列：值}\n",
    "\n",
    "- `服务输入`：底层模型的输入层的名称。\n",
    "- `内容`：测试项目的特征值列表。\n",
    "- `标签列`：为此键提供任何名称。在下面的管道参数中使用相同的名称作为target_field_name。\n",
    "- `值`：此实例的实际值。"
   ]
  },
  {
   "cell_type": "code",
   "execution_count": null,
   "metadata": {
    "id": "Tmf1yEirnVQZ"
   },
   "outputs": [],
   "source": [
    "gcs_input_uri = BUCKET_URI + \"/\" + \"test_file_with_ground_truth.jsonl\"\n",
    "with tf.io.gfile.GFile(gcs_input_uri, \"w\") as f:\n",
    "    for i in range(10):\n",
    "        data = {serving_input: x_test[i].tolist(), \"MEDV\": y_test[i]}\n",
    "        f.write(json.dumps(data) + \"\\n\")"
   ]
  },
  {
   "cell_type": "markdown",
   "metadata": {
    "id": "dAYyBa_qw0aT"
   },
   "source": [
    "## 模型评估\n",
    "\n",
    "现在，您可以运行 Vertex AI 的 BatchPrediction 作业，并通过使用 `evaluate` 函数创建 Vertex AI 管道，对其结果生成评估和特征归因。了解更多关于 [evaluate 函数](https://github.com/googleapis/python-aiplatform/blob/main/google/cloud/aiplatform/models.py#L5127) 的信息。"
   ]
  },
  {
   "cell_type": "markdown",
   "metadata": {
    "id": "84d660722fef"
   },
   "source": [
    "### 定义参数以运行评估功能\n",
    "\n",
    "指定运行`evaluate`功能所需的参数。\n",
    "\n",
    "以下是`evaluate`函数参数的说明：\n",
    "\n",
    "- `prediction_type`：评估运行处理的问题类型。当前支持的问题类型为'classification'和'regression'。\n",
    "- `target_field_name`：用作回归目标的列的名称。\n",
    "- `gcs_source_uris`：批量预测的输入实例的Cloud Storage桶URI列表。\n",
    "- `generate_feature_attributions`：可选项。模型评估作业是否应生成特征归因。如果未指定，默认值为False。\n",
    "\n",
    "**管道需要大约1小时才能完成。**"
   ]
  },
  {
   "cell_type": "code",
   "execution_count": null,
   "metadata": {
    "id": "RqcRr7USbseH"
   },
   "outputs": [],
   "source": [
    "job = model.evaluate(\n",
    "    prediction_type=\"regression\",\n",
    "    target_field_name=\"MEDV\",\n",
    "    gcs_source_uris=[BUCKET_URI + \"/\" + \"test_file_with_ground_truth.jsonl\"],\n",
    "    generate_feature_attributions=True,\n",
    ")\n",
    "\n",
    "print(\"Waiting model evaluation is in process\")\n",
    "job.wait()"
   ]
  },
  {
   "cell_type": "markdown",
   "metadata": {
    "id": "7651764dfa66"
   },
   "source": [
    "在上一步的结果中，单击生成的链接以在云控制台中查看您的运行。"
   ]
  },
  {
   "cell_type": "markdown",
   "metadata": {
    "id": "l7DHzescbseI"
   },
   "source": [
    "模型评估流程运行时图\n",
    "\n",
    "在用户界面中，单击管道DAG节点时，许多节点将展开或折叠。以下是DAG的部分展开视图（单击图像查看更大版本）。\n",
    "\n",
    "点击了解更多内容<img src=\"images/custom_tabular_regression_evaluation_pipeline.PNG\" style=\"height:622px;width:726px\"></img>\n",
    "\n",
    "##获取模型评估结果\n",
    "\n",
    "在评估流程完成后，运行以下单元格以打印评估指标。"
   ]
  },
  {
   "cell_type": "code",
   "execution_count": null,
   "metadata": {
    "id": "11846624ae51"
   },
   "outputs": [],
   "source": [
    "model_evaluation = job.get_model_evaluation()"
   ]
  },
  {
   "cell_type": "code",
   "execution_count": null,
   "metadata": {
    "id": "3wYGeI1abseJ"
   },
   "outputs": [],
   "source": [
    "# Iterate over the pipeline tasks\n",
    "for (\n",
    "    task\n",
    ") in model_evaluation._backing_pipeline_job._gca_resource.job_detail.task_details:\n",
    "    # Obtain the artifacts from the evaluation task\n",
    "    if (\n",
    "        (\"model-evaluation\" in task.task_name)\n",
    "        and (\"model-evaluation-import\" not in task.task_name)\n",
    "        and (\n",
    "            task.state == aiplatform_v1.types.PipelineTaskDetail.State.SUCCEEDED\n",
    "            or task.state == aiplatform_v1.types.PipelineTaskDetail.State.SKIPPED\n",
    "        )\n",
    "    ):\n",
    "        evaluation_metrics = task.outputs.get(\"evaluation_metrics\").artifacts[\n",
    "            0\n",
    "        ]  # ['artifacts']\n",
    "        evaluation_metrics_gcs_uri = evaluation_metrics.uri\n",
    "\n",
    "print(evaluation_metrics)\n",
    "print(evaluation_metrics_gcs_uri)"
   ]
  },
  {
   "cell_type": "markdown",
   "metadata": {
    "id": "1-oX7xI6bseJ"
   },
   "source": [
    "### 可视化指标\n",
    "\n",
    "评估流程完成后，请运行下面的单元格来可视化评估指标。"
   ]
  },
  {
   "cell_type": "code",
   "execution_count": null,
   "metadata": {
    "id": "WTweUK_kbseJ"
   },
   "outputs": [],
   "source": [
    "metrics = []\n",
    "values = []\n",
    "for i in evaluation_metrics.metadata.items():\n",
    "    # if (\n",
    "    #     i[0] == \"meanAbsolutePercentageError\"\n",
    "    # ):  # we are not considering MAPE as it is infinite. MAPE is infinite if groud truth is 0 as in our case Age is 0 for some instances.\n",
    "    #     continue\n",
    "    metrics.append(i[0])\n",
    "    values.append(i[1])\n",
    "plt.figure(figsize=(15, 5))\n",
    "plt.bar(x=metrics, height=values)\n",
    "plt.title(\"Evaluation Metrics\")\n",
    "plt.ylabel(\"Value\")\n",
    "plt.show()"
   ]
  },
  {
   "cell_type": "markdown",
   "metadata": {
    "id": "NUhcQPptbseJ"
   },
   "source": [
    "获取特征归因（可选）\n",
    "\n",
    "**如果您已为模型配置了解释，请运行下面的单元格。否则跳过下面的单元格。**\n",
    "\n",
    "\n",
    "特征归因表示模型中每个特征对每个给定实例的预测贡献量。\n",
    "\n",
    "了解更多关于[特征归因](https://cloud.google.com/vertex-ai/docs/explainable-ai/overview#feature_attributions)。\n",
    "\n",
    "运行下面的单元格以获取特征归因。"
   ]
  },
  {
   "cell_type": "code",
   "execution_count": null,
   "metadata": {
    "id": "6-BO8VOabseJ"
   },
   "outputs": [],
   "source": [
    "# Iterate over the pipeline tasks\n",
    "for (\n",
    "    task\n",
    ") in model_evaluation._backing_pipeline_job._gca_resource.job_detail.task_details:\n",
    "    # Obtain the artifacts from the feature-attribution task\n",
    "    if (task.task_name == \"feature-attribution\") and (\n",
    "        task.state == aiplatform_v1.types.PipelineTaskDetail.State.SUCCEEDED\n",
    "        or task.state == aiplatform_v1.types.PipelineTaskDetail.State.SKIPPED\n",
    "    ):\n",
    "        feat_attrs = task.outputs.get(\"feature_attributions\").artifacts[0]\n",
    "        feat_attrs_gcs_uri = feat_attrs.uri\n",
    "\n",
    "print(feat_attrs)\n",
    "print(feat_attrs_gcs_uri)"
   ]
  },
  {
   "cell_type": "markdown",
   "metadata": {
    "id": "tIko1hOYbseK"
   },
   "source": [
    "从获取的功能归因的云存储URI中获取归因值。"
   ]
  },
  {
   "cell_type": "code",
   "execution_count": null,
   "metadata": {
    "id": "L7EGZUAAbseK"
   },
   "outputs": [],
   "source": [
    "# Load the results\n",
    "attributions = !gsutil cat $feat_attrs_gcs_uri\n",
    "\n",
    "# Print the results obtained\n",
    "attributions = json.loads(attributions[0])\n",
    "print(attributions)"
   ]
  },
  {
   "cell_type": "markdown",
   "metadata": {
    "id": "TILgUqq9bseK"
   },
   "source": [
    "### 可视化特征归因\n",
    "\n",
    "使用柱状图可视化每个特征的获得归因。"
   ]
  },
  {
   "cell_type": "code",
   "execution_count": null,
   "metadata": {
    "id": "VOc6L7VCbseK"
   },
   "outputs": [],
   "source": [
    "data = attributions[\"explanation\"][\"attributions\"][0][\"featureAttributions\"]\n",
    "features = []\n",
    "attr_values = []\n",
    "for key, value in data.items():\n",
    "    features.append(key)\n",
    "    attr_values.append(value[0])\n",
    "\n",
    "plt.figure(figsize=(5, 3))\n",
    "plt.bar(x=features, height=attr_values)\n",
    "plt.title(\"Feature Attributions\")\n",
    "plt.xticks(rotation=90)\n",
    "plt.ylabel(\"Attribution value\")\n",
    "plt.show()"
   ]
  },
  {
   "cell_type": "markdown",
   "metadata": {
    "id": "cleanup:mbsdk"
   },
   "source": [
    "清理\n",
    "\n",
    "要清理此项目中使用的所有谷歌云资源，您可以[删除用于本教程的谷歌云项目](https://cloud.google.com/resource-manager/docs/creating-managing-projects#shutting_down_projects)。\n",
    "\n",
    "否则，您可以删除在本教程中创建的各个资源。\n",
    "\n",
    "将`delete_bucket`设置为**True**以删除本笔记本中创建的Cloud Storage存储桶。"
   ]
  },
  {
   "cell_type": "code",
   "execution_count": null,
   "metadata": {
    "id": "6NVBNlVdw0aV"
   },
   "outputs": [],
   "source": [
    "import os\n",
    "\n",
    "# Delete model resource\n",
    "model.delete()\n",
    "\n",
    "# Delete the training job\n",
    "train_job.delete()\n",
    "\n",
    "# Delete the evaluation pipeline\n",
    "job.delete()\n",
    "\n",
    "# Delete Cloud Storage objects\n",
    "delete_bucket = False\n",
    "if delete_bucket or os.getenv(\"IS_TESTING\"):\n",
    "    ! gsutil -m rm -r $BUCKET_URI"
   ]
  }
 ],
 "metadata": {
  "colab": {
   "name": "custom_tabular_regression_model_evaluation.ipynb",
   "toc_visible": true
  },
  "kernelspec": {
   "display_name": "Python 3",
   "name": "python3"
  }
 },
 "nbformat": 4,
 "nbformat_minor": 0
}
