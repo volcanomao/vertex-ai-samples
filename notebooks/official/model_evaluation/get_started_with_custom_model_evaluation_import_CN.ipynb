{
 "cells": [
  {
   "cell_type": "code",
   "execution_count": null,
   "metadata": {
    "id": "ur8xi4C7S06n"
   },
   "outputs": [],
   "source": [
    "# Copyright 2024 Google LLC\n",
    "#\n",
    "# Licensed under the Apache License, Version 2.0 (the \"License\");\n",
    "# you may not use this file except in compliance with the License.\n",
    "# You may obtain a copy of the License at\n",
    "#\n",
    "#     https://www.apache.org/licenses/LICENSE-2.0\n",
    "#\n",
    "# Unless required by applicable law or agreed to in writing, software\n",
    "# distributed under the License is distributed on an \"AS IS\" BASIS,\n",
    "# WITHOUT WARRANTIES OR CONDITIONS OF ANY KIND, either express or implied.\n",
    "# See the License for the specific language governing permissions and\n",
    "# limitations under the License."
   ]
  },
  {
   "cell_type": "markdown",
   "metadata": {
    "id": "JAPoU8Sm5E6e"
   },
   "source": [
    "开始使用自定义模型评估导入到Vertex AI模型注册中\n",
    "\n",
    "<table align=\"left\">\n",
    "  <td style=\"text-align: center\">\n",
    "    <a href=\"https://colab.research.google.com/github/GoogleCloudPlatform/vertex-ai-samples/blob/main/notebooks/official/model_evaluation/get_started_with_custom_model_evaluation_import.ipynb\">\n",
    "      <img src=\"https://cloud.google.com/ml-engine/images/colab-logo-32px.png\" alt=\"Google Colaboratory logo\"><br> 在Colab中打开\n",
    "    </a>\n",
    "  </td>\n",
    "  <td style=\"text-align: center\">\n",
    "    <a href=\"https://console.cloud.google.com/vertex-ai/colab/import/https:%2F%2Fraw.githubusercontent.com%2FGoogleCloudPlatform%2Fvertex-ai-samples%2Fmain%2Fnotebooks%2Fofficial%2Fmodel_evaluation%2Fget_started_with_custom_model_evaluation_import.ipynb\">\n",
    "      <img width=\"32px\" src=\"https://cloud.google.com/ml-engine/images/colab-enterprise-logo-32px.png\" alt=\"Google Cloud Colab Enterprise logo\"><br> 在Colab企业版中打开\n",
    "    </a>\n",
    "  </td>    \n",
    "  <td style=\"text-align: center\">\n",
    "    <a href=\"https://console.cloud.google.com/vertex-ai/workbench/deploy-notebook?download_url=https://raw.githubusercontent.com/GoogleCloudPlatform/vertex-ai-samples/main/notebooks/official/model_evaluation/get_started_with_custom_model_evaluation_import.ipynb\">\n",
    "      <img src=\"https://lh3.googleusercontent.com/UiNooY4LUgW_oTvpsNhPpQzsstV5W8F7rYgxgGBD85cWJoLmrOzhVs_ksK_vgx40SHs7jCqkTkCk=e14-rj-sc0xffffff-h130-w32\" alt=\"Vertex AI logo\"><br> 在Workbench中打开\n",
    "    </a>\n",
    "  </td>\n",
    "  <td style=\"text-align: center\">\n",
    "    <a href=\"https://github.com/GoogleCloudPlatform/vertex-ai-samples/blob/main/notebooks/official/model_evaluation/get_started_with_custom_model_evaluation_import.ipynb\">\n",
    "      <img src=\"https://cloud.google.com/ml-engine/images/github-logo-32px.png\" alt=\"GitHub logo\"><br> 在GitHub上查看\n",
    "    </a>\n",
    "  </td>\n",
    "</table>"
   ]
  },
  {
   "cell_type": "markdown",
   "metadata": {
    "id": "24743cf4a1e1"
   },
   "source": [
    "注意：本笔记本是在以下环境中进行测试的：\n",
    "\n",
    "- Python 版本 = 3.9"
   ]
  },
  {
   "cell_type": "markdown",
   "metadata": {
    "id": "tvgnzT1CKxrO"
   },
   "source": [
    "## 概述\n",
    "\n",
    "本教程展示了如何使用Vertex AI Model Evaluation将自定义模型评估导入到现有的Vertex AI Model Registry条目中。\n",
    "\n",
    "了解更多关于[Vertex AI中的模型评估](https://cloud.google.com/vertex-ai/docs/evaluation/introduction)。"
   ]
  },
  {
   "cell_type": "markdown",
   "metadata": {
    "id": "d975e698c9a4"
   },
   "source": [
    "### 目标\n",
    "\n",
    "在本教程中，您将学习如何构建和上传自定义模型评估，并将自定义模型评估上传到Vertex AI模型注册表中的模型资源条目。\n",
    "\n",
    "此教程使用以下Google Cloud ML服务和资源：\n",
    "\n",
    "- Vertex AI模型评估\n",
    "- Vertex AI模型注册表\n",
    "\n",
    "执行的步骤包括：\n",
    "\n",
    "- 导入一个预训练（认可的）模型到Vertex AI模型注册表中。\n",
    "- 构建一个自定义模型评估。\n",
    "- 将模型评估指标导入到Vertex AI模型注册表中相应的模型。\n",
    "- 列出Vertex AI模型注册表中相应模型的模型评估。\n",
    "- 构建第二个自定义模型评估。\n",
    "- 将第二个模型评估指标导入到Vertex AI模型注册表中相应的模型。\n",
    "- 列出相应模型的第二个模型评估。Learn more about [Model Evaluation in Vertex AI](https://cloud.google.com/vertex-ai/docs/evaluation/introduction)。"
   ]
  },
  {
   "cell_type": "markdown",
   "metadata": {
    "id": "08d289fa873f"
   },
   "source": [
    "模型\n",
    "\n",
    "本教程使用了来自TensorFlow Hub的预训练图像分类模型，该模型是在ImageNet数据集上训练的。\n",
    "\n",
    "了解更多关于[ResNet V2预训练模型](https://tfhub.dev/google/imagenet/resnet_v2_101/classification/5)。"
   ]
  },
  {
   "cell_type": "markdown",
   "metadata": {
    "id": "aed92deeb4a0"
   },
   "source": [
    "费用\n",
    "\n",
    "本教程使用 Google Cloud 的计费组件：\n",
    "\n",
    "- Vertex AI\n",
    "- 云存储\n",
    "\n",
    "了解 [Vertex AI 定价](https://cloud.google.com/vertex-ai/pricing)，和 [云存储定价](https://cloud.google.com/storage/pricing)，并使用 [定价计算器](https://cloud.google.com/products/calculator/) 根据预计使用量生成费用估算。"
   ]
  },
  {
   "cell_type": "markdown",
   "metadata": {
    "id": "61RBz8LLbxCR"
   },
   "source": [
    "开始吧##"
   ]
  },
  {
   "cell_type": "markdown",
   "metadata": {
    "id": "No17Cw5hgx12"
   },
   "source": [
    "安装Python的Vertex AI SDK和其他必需的包。"
   ]
  },
  {
   "cell_type": "code",
   "execution_count": null,
   "metadata": {
    "id": "2b4ef9b72d43"
   },
   "outputs": [],
   "source": [
    "# Install the packages\n",
    "USER=''\n",
    "! pip3 install {USER} --upgrade google-cloud-aiplatform \\\n",
    "                                tensorflow==2.15.1 \\\n",
    "                                tensorflow-hub"
   ]
  },
  {
   "cell_type": "markdown",
   "metadata": {
    "id": "R5Xep4W9lq-Z"
   },
   "source": [
    "### 重新启动运行时（仅限Colab）\n",
    "\n",
    "为了使用新安装的包，您必须在Google Colab上重新启动运行时。"
   ]
  },
  {
   "cell_type": "code",
   "execution_count": null,
   "metadata": {
    "id": "XRvKdaPDTznN"
   },
   "outputs": [],
   "source": [
    "import sys\n",
    "\n",
    "if \"google.colab\" in sys.modules:\n",
    "\n",
    "    import IPython\n",
    "\n",
    "    app = IPython.Application.instance()\n",
    "    app.kernel.do_shutdown(True)"
   ]
  },
  {
   "cell_type": "markdown",
   "metadata": {
    "id": "SbmM4z7FOBpM"
   },
   "source": [
    "<div class=\"alert alert-block alert-warning\">\n",
    "<b>⚠️ 内核将重新启动。在继续下一步之前请等待它完成。⚠️</b>\n",
    "</div>"
   ]
  },
  {
   "cell_type": "markdown",
   "metadata": {
    "id": "dmWOrTJ3gx13"
   },
   "source": [
    "### 在Colab上验证您的笔记本环境\n",
    "\n",
    "在Google Colab上验证您的环境。"
   ]
  },
  {
   "cell_type": "code",
   "execution_count": null,
   "metadata": {
    "id": "NyKGtVQjgx13"
   },
   "outputs": [],
   "source": [
    "import sys\n",
    "\n",
    "if \"google.colab\" in sys.modules:\n",
    "\n",
    "    from google.colab import auth\n",
    "\n",
    "    auth.authenticate_user()"
   ]
  },
  {
   "cell_type": "markdown",
   "metadata": {
    "id": "DF4l8DTdWgPY"
   },
   "source": [
    "### 设置Google Cloud项目信息\n",
    "\n",
    "要开始使用Vertex AI，您必须拥有现有的Google Cloud项目。了解更多关于[设置项目和开发环境](https://cloud.google.com/vertex-ai/docs/start/cloud-environment)的信息。"
   ]
  },
  {
   "cell_type": "code",
   "execution_count": null,
   "metadata": {
    "id": "oM1iC_MfAts1"
   },
   "outputs": [],
   "source": [
    "PROJECT_ID = \"[your-project-id]\"  # @param {type:\"string\"}\n",
    "LOCATION = \"us-central1\"  # @param {type:\"string\"}"
   ]
  },
  {
   "cell_type": "markdown",
   "metadata": {
    "id": "zgPO1eR3CYjk"
   },
   "source": [
    "创建一个云存储桶\n",
    "\n",
    "创建一个存储桶来存储中间产物，比如数据集。\n",
    "\n",
    "- *{给笔记本作者的备注：对于任何需要是唯一的用户提供的字符串（比如存储桶名称或模型ID），请在末尾加上“-unique”，以便进行适当的测试}*"
   ]
  },
  {
   "cell_type": "code",
   "execution_count": null,
   "metadata": {
    "id": "MzGDU7TWdts_"
   },
   "outputs": [],
   "source": [
    "BUCKET_URI = f\"gs://your-bucket-name-{PROJECT_ID}-unique\"  # @param {type:\"string\"}"
   ]
  },
  {
   "cell_type": "markdown",
   "metadata": {
    "id": "-EcIXiGsCePi"
   },
   "source": [
    "只有当您的存储桶尚不存在时：运行以下单元格以创建您的云存储存储桶。"
   ]
  },
  {
   "cell_type": "code",
   "execution_count": null,
   "metadata": {
    "id": "NIq7R4HZCfIc"
   },
   "outputs": [],
   "source": [
    "! gsutil mb -l {LOCATION} -p {PROJECT_ID} {BUCKET_URI}"
   ]
  },
  {
   "cell_type": "markdown",
   "metadata": {
    "id": "960505627ddf"
   },
   "source": [
    "### 导入库"
   ]
  },
  {
   "cell_type": "code",
   "execution_count": null,
   "metadata": {
    "id": "PyQmSRbKA8r-"
   },
   "outputs": [],
   "source": [
    "import tensorflow as tf\n",
    "import tensorflow_hub as hub\n",
    "from google.cloud import aiplatform\n",
    "from google.cloud.aiplatform import gapic"
   ]
  },
  {
   "cell_type": "markdown",
   "metadata": {
    "id": "init_aip:mbsdk,all"
   },
   "source": [
    "### 初始化 Python 的 Vertex AI SDK\n",
    "\n",
    "为您的项目初始化 Python 的 Vertex AI SDK。"
   ]
  },
  {
   "cell_type": "code",
   "execution_count": null,
   "metadata": {
    "id": "init_aip:mbsdk,all"
   },
   "outputs": [],
   "source": [
    "aiplatform.init(project=PROJECT_ID, location=LOCATION, staging_bucket=BUCKET_URI)"
   ]
  },
  {
   "cell_type": "markdown",
   "metadata": {
    "id": "accelerators:training,cpu,prediction,cpu,mbsdk"
   },
   "source": [
    "#### 设置硬件加速器\n",
    "\n",
    "您可以为预测设置硬件加速器。\n",
    "\n",
    "设置变量`DEPLOY_GPU/DEPLOY_NGPU`以使用支持 GPU 的容器映像，以及分配给虚拟机实例（VM）的 GPU 数量。例如，要使用一个 GPU 容器映像，并且为每个 VM 分配 4 个 Nvidia Telsa T4 GPU，您可以指定：\n",
    "\n",
    "    (aip.gapic.AcceleratorType.NVIDIA_TESLA_T4, 4)\n",
    "\n",
    "否则，指定`(None, None)`以使用容器映像在 CPU 上运行。\n",
    "\n",
    "了解更多关于[您地区的硬件加速器支持](https://cloud.google.com/vertex-ai/docs/general/locations#accelerators)，以及[GPU 价格](https://cloud.google.com/compute/gpus-pricing)。"
   ]
  },
  {
   "cell_type": "code",
   "execution_count": null,
   "metadata": {
    "id": "accelerators:training,cpu,prediction,cpu,mbsdk"
   },
   "outputs": [],
   "source": [
    "DEPLOY_GPU, DEPLOY_NGPU = (None, None)"
   ]
  },
  {
   "cell_type": "markdown",
   "metadata": {
    "id": "container:training,prediction"
   },
   "source": [
    "设置预构建的容器\n",
    "\n",
    "为预测设置预构建的Docker容器镜像。\n",
    "\n",
    "要获取最新列表，请参阅[用于预测的预构建容器](https://cloud.google.com/ai-platform-unified/docs/predictions/pre-built-containers)。"
   ]
  },
  {
   "cell_type": "code",
   "execution_count": null,
   "metadata": {
    "id": "container:training,prediction"
   },
   "outputs": [],
   "source": [
    "TF = \"2.15.1\".replace(\".\", \"-\")\n",
    "\n",
    "if DEPLOY_GPU:\n",
    "    DEPLOY_VERSION = \"tf2-gpu.{}\".format(TF)\n",
    "else:\n",
    "    DEPLOY_VERSION = \"tf2-cpu.{}\".format(TF)\n",
    "\n",
    "DEPLOY_IMAGE = \"{}-docker.pkg.dev/vertex-ai/prediction/{}:latest\".format(\n",
    "    LOCATION.split(\"-\")[0], DEPLOY_VERSION\n",
    ")\n",
    "\n",
    "print(\"Deployment:\", DEPLOY_IMAGE, DEPLOY_GPU, DEPLOY_NGPU)"
   ]
  },
  {
   "cell_type": "markdown",
   "metadata": {
    "id": "d8128b8ff025"
   },
   "source": [
    "从TensorFlow Hub获取预训练模型\n",
    "\n",
    "为了演示目的，本教程使用了从TensorFlow Hub（TFHub）获取的预训练模型，然后将其上传到Vertex AI模型资源。一旦您拥有了一个Vertex AI模型资源，该模型就可以部署到Vertex AI端点资源。\n",
    "\n",
    "下载预训练模型\n",
    "\n",
    "首先，您从TensorFlow Hub下载预训练模型。该模型以TF.Keras层的形式下载。为了完成模型，在本例中，您创建了一个带有下载的TFHub模型作为层的`Sequential()`模型，并指定模型的输入形状。"
   ]
  },
  {
   "cell_type": "code",
   "execution_count": null,
   "metadata": {
    "id": "c55fa4c826f7"
   },
   "outputs": [],
   "source": [
    "tfhub_model = tf.keras.Sequential(\n",
    "    [hub.KerasLayer(\"https://tfhub.dev/google/imagenet/resnet_v2_101/classification/5\")]\n",
    ")\n",
    "\n",
    "tfhub_model.build([None, 32, 32, 3])\n",
    "\n",
    "tfhub_model.summary()"
   ]
  },
  {
   "cell_type": "code",
   "execution_count": null,
   "metadata": {
    "id": "64618c713db9"
   },
   "outputs": [],
   "source": [
    "MODEL_DIR = BUCKET_URI + \"/model\"\n",
    "tfhub_model.save(MODEL_DIR)"
   ]
  },
  {
   "cell_type": "markdown",
   "metadata": {
    "id": "e8ce91147c93"
   },
   "source": [
    "### 上传 TensorFlow Hub 模型到 Vertex AI 模型资源\n",
    "\n",
    "最后，您可以使用 `upload()` 方法将 TFHub 模型的模型工件上传到 Vertex AI 模型资源，具体参数如下：\n",
    "\n",
    "- `display_name`：模型资源的人类可读的名称。\n",
    "- `artifact_uri`：模型包的 Cloud Storage 位置。\n",
    "- `serving_container_image_uri`：用于服务的容器镜像。\n",
    "\n",
    "将模型上传到 Vertex AI 模型资源是一个长时间运行的操作，可能需要一些时间\n",
    "\n",
    "*注意:* 当您将模型工件上传到 Vertex AI 模型资源时，需要指定相应的部署容器镜像。"
   ]
  },
  {
   "cell_type": "code",
   "execution_count": null,
   "metadata": {
    "id": "ad61e1429512"
   },
   "outputs": [],
   "source": [
    "model = aiplatform.Model.upload(\n",
    "    display_name=\"resnet\",\n",
    "    artifact_uri=MODEL_DIR,\n",
    "    serving_container_image_uri=DEPLOY_IMAGE,\n",
    "    is_default_version=True,\n",
    "    version_aliases=[\"v1\"],\n",
    ")\n",
    "\n",
    "print(model)"
   ]
  },
  {
   "cell_type": "markdown",
   "metadata": {
    "id": "c11e98ef5391"
   },
   "source": [
    "## 自定义模型评估简介\n",
    "\n",
    "在训练自定义模型时，通常要对训练的模型进行一定形式的评估。然后可以使用`import_model_evaluation()` 方法将自定义模型评估导入到对应的模型中的 Vertex AI Model Registry 中。一旦导入，您就可以使用`list_model_evaluations()` 方法检索自定义模型评估。\n",
    "\n",
    "Vertex AI Model Registry 支持为模型导入多个模型评估，其中每个评估都由唯一的`display_name`进行区分。\n",
    "\n",
    "### 创建模型评估\n",
    "\n",
    "首先，您要以与模型评估的预定义模式之一相符的格式创建模型评估。在此示例中，您将使用分类指标的模式，并将以下评估指标子集以字典的形式指定：\n",
    "\n",
    "- `logLoss`：对数损失。\n",
    "- `auPrc`：准确性。\n",
    "\n",
    "然后，使用以下参数构造`ModelEvaluation`对象：\n",
    "\n",
    "- `display_name`：评估指标的人类可读名称。\n",
    "- `metrics_schema_uri`：特定类型的评估指标的模式。\n",
    "- `metrics`：包含评估指标的字典。\n",
    "\n",
    "了解更多关于[评估指标模式](https://cloud.google.com/vertex-ai/docs/evaluation/introduction#features)。"
   ]
  },
  {
   "cell_type": "code",
   "execution_count": null,
   "metadata": {
    "id": "e9af222db292"
   },
   "outputs": [],
   "source": [
    "metrics = {\"logLoss\": 1.4, \"auPrc\": 0.85}\n",
    "print(metrics)\n",
    "\n",
    "model_eval = gapic.ModelEvaluation(\n",
    "    display_name=\"eval\",\n",
    "    metrics_schema_uri=\"gs://google-cloud-aiplatform/schema/modelevaluation/classification_metrics_1.0.0.yaml\",\n",
    "    metrics=metrics,\n",
    ")"
   ]
  },
  {
   "cell_type": "markdown",
   "metadata": {
    "id": "68870bd8194d"
   },
   "source": [
    "### 上传评估指标到模型注册表\n",
    "\n",
    "接下来，将模型的评估指标从自定义训练作业上传到 Vertex AI 模型注册表中的相应条目。\n",
    "\n",
    "目前，SDK 中还没有支持这种方法。相反，应该使用较低级别的 GAPIC API 接口。"
   ]
  },
  {
   "cell_type": "code",
   "execution_count": null,
   "metadata": {
    "id": "3044788848af"
   },
   "outputs": [],
   "source": [
    "API_ENDPOINT = f\"{LOCATION}-aiplatform.googleapis.com\"\n",
    "client = gapic.ModelServiceClient(client_options={\"api_endpoint\": API_ENDPOINT})\n",
    "\n",
    "client.import_model_evaluation(parent=model.resource_name, model_evaluation=model_eval)"
   ]
  },
  {
   "cell_type": "markdown",
   "metadata": {
    "id": "337319a19efe"
   },
   "source": [
    "### 列出自定义模型评估\n",
    "\n",
    "现在您已将自定义评估指标上传到 Vertex AI 模型注册中相应的模型中，您可以使用 `list_model_evaluations()` 方法检索它。"
   ]
  },
  {
   "cell_type": "code",
   "execution_count": null,
   "metadata": {
    "id": "1b3374e988cf"
   },
   "outputs": [],
   "source": [
    "evaluation = model.list_model_evaluations()[0]\n",
    "print(evaluation.gca_resource)"
   ]
  },
  {
   "cell_type": "markdown",
   "metadata": {
    "id": "68870bd8194d"
   },
   "source": [
    "### 将第二个评估指标上传到模型注册表\n",
    "\n",
    "接下来，将第二个模型评估上传到Vertex AI模型注册表中相应的条目。在这个例子中，我们将第一个评估指标称为`eval`（来自训练），将第二个评估指标称为`prod`（来自生产数据）。"
   ]
  },
  {
   "cell_type": "code",
   "execution_count": null,
   "metadata": {
    "id": "9b864c0ba07f"
   },
   "outputs": [],
   "source": [
    "metrics = {\"logLoss\": 1.2, \"auPrc\": 0.87}\n",
    "print(metrics)\n",
    "\n",
    "model_prod = gapic.ModelEvaluation(\n",
    "    display_name=\"prod\",\n",
    "    metrics_schema_uri=\"gs://google-cloud-aiplatform/schema/modelevaluation/classification_metrics_1.0.0.yaml\",\n",
    "    metrics=metrics,\n",
    ")\n",
    "\n",
    "client.import_model_evaluation(parent=model.resource_name, model_evaluation=model_prod)"
   ]
  },
  {
   "cell_type": "markdown",
   "metadata": {
    "id": "337319a19efe"
   },
   "source": [
    "### 列出一个特定的自定义模型评估\n",
    "\n",
    "现在您已经将第二个自定义评估指标上传到对应的模型中，您可以通过使用`display_name`进行过滤来检索特定的评估。"
   ]
  },
  {
   "cell_type": "code",
   "execution_count": null,
   "metadata": {
    "id": "1b3374e988cf"
   },
   "outputs": [],
   "source": [
    "evaluations = model.list_model_evaluations()\n",
    "for evaluation in evaluations:\n",
    "    if evaluation.display_name == \"prod\":\n",
    "        print(evaluation.gca_resource)"
   ]
  },
  {
   "cell_type": "markdown",
   "metadata": {
    "id": "b3a3993dc813"
   },
   "source": [
    "### 上传TFHub模型的第二个版本到Vertex AI模型注册表\n",
    "\n",
    "接下来，您将第二个版本的TFHub模型作为模型资源上传到Vertex AI模型注册表，同时添加以下附加参数：\n",
    "\n",
    "- `parent_model`：现有模型的资源名称或模型ID，新上传的模型是该模型的一个版本。仅在上传现有模型的新版本时设置此字段。\n",
    "- `is_default_version`：当设置为`True`时，新上传的模型版本将自动包含别名“default”。\n",
    "- `version_aliases`：用户定义的模型版本的备用别名列表，例如`production`。\n",
    "- `version_description`：模型版本的用户描述。\n",
    "\n",
    "当在Vertex AI模型注册表中创建后续模型版本时，属性`version_id`会自动递增。在这个例子中，设置为2（第二个版本）。"
   ]
  },
  {
   "cell_type": "code",
   "execution_count": null,
   "metadata": {
    "id": "852be5e5f964"
   },
   "outputs": [],
   "source": [
    "model_v2 = aiplatform.Model.upload(\n",
    "    display_name=\"resnet\",\n",
    "    artifact_uri=MODEL_DIR,\n",
    "    serving_container_image_uri=DEPLOY_IMAGE,\n",
    "    parent_model=model.resource_name,\n",
    "    is_default_version=True,\n",
    "    version_aliases=[\"v2\"],\n",
    "    version_description=\"This is the second version of the model\",\n",
    ")\n",
    "\n",
    "print(model_v2)"
   ]
  },
  {
   "cell_type": "markdown",
   "metadata": {
    "id": "68870bd8194d"
   },
   "source": [
    "#### 将版本2的模型的评估指标上传至模型注册表\n",
    "\n",
    "接下来，将模型评估上传到Vertex AI模型注册表中相应的模型版本。*注意*，使用 `model_v2.resource_name` 来引用这个模型的第2个版本。"
   ]
  },
  {
   "cell_type": "code",
   "execution_count": null,
   "metadata": {
    "id": "9b864c0ba07f"
   },
   "outputs": [],
   "source": [
    "metrics = {\"logLoss\": 1.0, \"auPrc\": 0.91}\n",
    "print(metrics)\n",
    "\n",
    "model_eval = gapic.ModelEvaluation(\n",
    "    display_name=\"eval\",\n",
    "    metrics_schema_uri=\"gs://google-cloud-aiplatform/schema/modelevaluation/classification_metrics_1.0.0.yaml\",\n",
    "    metrics=metrics,\n",
    ")\n",
    "\n",
    "client.import_model_evaluation(\n",
    "    parent=model_v2.resource_name, model_evaluation=model_eval\n",
    ")"
   ]
  },
  {
   "cell_type": "markdown",
   "metadata": {
    "id": "d4e72b21b06b"
   },
   "source": [
    "最后，列出两个版本模型的评估数量。"
   ]
  },
  {
   "cell_type": "code",
   "execution_count": null,
   "metadata": {
    "id": "369a23d392a4"
   },
   "outputs": [],
   "source": [
    "evaluations = model.list_model_evaluations()\n",
    "print(\"Model v1 no. of evaluations\", len(evaluations))\n",
    "evaluations = model_v2.list_model_evaluations()\n",
    "print(\"Model v2 no. of evaluations\", len(evaluations))"
   ]
  },
  {
   "cell_type": "markdown",
   "metadata": {
    "id": "TpV-iwP9qw9c"
   },
   "source": [
    "## 清理工作\n",
    "\n",
    "要清理此项目中使用的所有Google Cloud资源，您可以[删除用于教程的Google Cloud项目](https://cloud.google.com/resource-manager/docs/creating-managing-projects#shutting_down_projects)。\n",
    "\n",
    "否则，您可以删除在此教程中创建的各个资源。"
   ]
  },
  {
   "cell_type": "code",
   "execution_count": null,
   "metadata": {
    "id": "sx_vKniMq9ZX"
   },
   "outputs": [],
   "source": [
    "# Delete model resource\n",
    "model.delete()\n",
    "\n",
    "# Delete Cloud Storage objects that were created\n",
    "delete_bucket = False  # set True for deletion\n",
    "if delete_bucket:\n",
    "    ! gsutil -m rm -r $BUCKET_URI"
   ]
  }
 ],
 "metadata": {
  "colab": {
   "collapsed_sections": [],
   "name": "get_started_with_custom_model_evaluation_import.ipynb",
   "toc_visible": true
  },
  "kernelspec": {
   "display_name": "Python 3",
   "name": "python3"
  }
 },
 "nbformat": 4,
 "nbformat_minor": 0
}
