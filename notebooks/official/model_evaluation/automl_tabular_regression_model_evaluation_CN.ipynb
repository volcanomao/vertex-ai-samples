{
 "cells": [
  {
   "cell_type": "code",
   "execution_count": null,
   "metadata": {
    "id": "ur8xi4C7S06n"
   },
   "outputs": [],
   "source": [
    "# Copyright 2022 Google LLC\n",
    "#\n",
    "# Licensed under the Apache License, Version 2.0 (the \"License\");\n",
    "# you may not use this file except in compliance with the License.\n",
    "# You may obtain a copy of the License at\n",
    "#\n",
    "#     https://www.apache.org/licenses/LICENSE-2.0\n",
    "#\n",
    "# Unless required by applicable law or agreed to in writing, software\n",
    "# distributed under the License is distributed on an \"AS IS\" BASIS,\n",
    "# WITHOUT WARRANTIES OR CONDITIONS OF ANY KIND, either express or implied.\n",
    "# See the License for the specific language governing permissions and\n",
    "# limitations under the License."
   ]
  },
  {
   "cell_type": "markdown",
   "metadata": {
    "id": "JAPoU8Sm5E6e"
   },
   "source": [
    "# Vertex AI 管道: 评估 AutoML 表格回归模型的批量预测结果\n",
    "\n",
    "<table align=\"left\">\n",
    "\n",
    "  <td>\n",
    "    <a href=\"https://colab.research.google.com/github/GoogleCloudPlatform/vertex-ai-samples/blob/main/notebooks/official/model_evaluation/automl_tabular_regression_model_evaluation.ipynb\">\n",
    "      <img src=\"https://cloud.google.com/ml-engine/images/colab-logo-32px.png\" alt=\"Colab logo\"> 在 Colab 中运行\n",
    "    </a>\n",
    "  </td>\n",
    "  <td>\n",
    "    <a href=\"https://github.com/GoogleCloudPlatform/vertex-ai-samples/blob/main/notebooks/official/model_evaluation/automl_tabular_regression_model_evaluation.ipynb\">\n",
    "      <img src=\"https://cloud.google.com/ml-engine/images/github-logo-32px.png\" alt=\"GitHub logo\">\n",
    "      在 GitHub 上查看\n",
    "    </a>\n",
    "  </td>\n",
    "  <td>\n",
    "    <a href=\"https://console.cloud.google.com/vertex-ai/workbench/deploy-notebook?download_url=https://raw.githubusercontent.com/GoogleCloudPlatform/vertex-ai-samples/main/notebooks/official/model_evaluation/automl_tabular_regression_model_evaluation.ipynb\">\n",
    "      <img src=\"https://lh3.googleusercontent.com/UiNooY4LUgW_oTvpsNhPpQzsstV5W8F7rYgxgGBD85cWJoLmrOzhVs_ksK_vgx40SHs7jCqkTkCk=e14-rj-sc0xffffff-h130-w32\" alt=\"Vertex AI logo\">\n",
    "      在 Vertex AI Workbench 中打开\n",
    "    </a>\n",
    "  </td>                                                                                               \n",
    "</table>"
   ]
  },
  {
   "cell_type": "markdown",
   "metadata": {
    "id": "tvgnzT1CKxrO"
   },
   "source": [
    "## 概述\n",
    "\n",
    "本笔记本演示了如何使用Vertex AI回归模型评估组件来评估AutoML表格回归模型。模型评估可以帮助您根据评估指标确定模型的性能，并在必要时改进模型。\n",
    "\n",
    "了解更多关于[Vertex AI模型评估](https://cloud.google.com/vertex-ai/docs/evaluation/introduction)。了解更多关于[表格数据回归](https://cloud.google.com/vertex-ai/docs/tabular-data/classification-regression/overview)。"
   ]
  },
  {
   "cell_type": "markdown",
   "metadata": {
    "id": "d975e698c9a4"
   },
   "source": [
    "### 目标\n",
    "\n",
    "在本教程中，您将学习如何通过使用 `google_cloud_pipeline_components` 在 Vertex AI 管道作业中评估 Vertex AI 模型资源：\n",
    "\n",
    "本教程使用以下 Google Cloud ML 服务和资源：\n",
    "\n",
    "- Vertex AI 数据集（表格）\n",
    "- Vertex AI 训练（AutoML 表格训练）\n",
    "- Vertex AI 批量预测\n",
    "- Vertex AI 管道\n",
    "- Vertex AI 模型注册表\n",
    "\n",
    "\n",
    "执行的步骤包括：\n",
    "\n",
    "- 创建 Vertex AI 数据集\n",
    "- 配置 `AutoMLTabularTrainingJob`\n",
    "- 运行 `AutoMLTabularTrainingJob`，返回一个模型\n",
    "- 将预训练的 `AutoML 模型资源` 导入管道\n",
    "- 在管道中运行 `批量预测` 作业\n",
    "- 使用 `回归评估组件` 评估 AutoML 模型\n",
    "- 将回归指标导入到 AutoML 模型资源中"
   ]
  },
  {
   "cell_type": "markdown",
   "metadata": {
    "id": "08d289fa873f"
   },
   "source": [
    "### 数据集\n",
    "\n",
    "这个笔记本中使用的数据集是PetFinder数据集的一部分，可以在Kaggle上的[这里](https://www.kaggle.com/c/petfinder-adoption-prediction)找到。当前数据集只是原始数据集的一部分，用于预测宠物年龄的问题。它包含以下字段：\n",
    "\n",
    "- `Type`：动物类型（1 = 狗，2 = 猫）\n",
    "- `Age`：宠物在列出时的年龄，以月计\n",
    "- `Breed1`：宠物的主要品种\n",
    "- `Gender`：宠物的性别\n",
    "- `Color1`：宠物的颜色1\n",
    "- `Color2`：宠物的颜色2\n",
    "- `MaturitySize`：成熟时的大小（1 = 小型，2 = 中型，3 = 大型，4 = 特大型，0 = 未指定）\n",
    "- `FurLength`：毛发长度（1 = 短毛，2 = 中毛，3 = 长毛，0 = 未指定）\n",
    "- `Vaccinated`：宠物已接种疫苗（1 = 是，2 = 否，3 = 不确定）\n",
    "- `Sterilized`：宠物已绝育（1 = 是，2 = 否，3 = 不确定）\n",
    "- `Health`：健康状况（1 = 健康，2 = 轻伤，3 = 严重伤害，0 = 未指定）\n",
    "- `Fee`：领养费用（0 = 免费）\n",
    "- `PhotoAmt`：为这个宠物上传的照片总数\n",
    "- `Adopted`：宠物是否被领养（是/否）。\n",
    "\n",
    "**注意**：该数据集已移至一个公共云存储桶，并在该笔记本中从那里访问。"
   ]
  },
  {
   "cell_type": "markdown",
   "metadata": {
    "id": "aed92deeb4a0"
   },
   "source": [
    "成本\n",
    "本教程使用 Google Cloud 的可计费组件：\n",
    "\n",
    "* Vertex AI\n",
    "* Cloud Storage\n",
    "\n",
    "了解 [Vertex AI 定价](https://cloud.google.com/vertex-ai/pricing) 和 [Cloud Storage 定价](https://cloud.google.com/storage/pricing)，并使用 [定价计算器](https://cloud.google.com/products/calculator/) 根据您的预期使用情况生成成本估算。"
   ]
  },
  {
   "cell_type": "markdown",
   "metadata": {
    "id": "i7EUnXsZhAGF"
   },
   "source": [
    "## 安装\n",
    "\n",
    "安装以下所需的软件包以执行这个笔记本。"
   ]
  },
  {
   "cell_type": "code",
   "execution_count": null,
   "metadata": {
    "id": "2b4ef9b72d43"
   },
   "outputs": [],
   "source": [
    "! pip3 install --upgrade --quiet google-cloud-aiplatform \\\n",
    "                                 google-cloud-pipeline-components==1.0.26 \\\n",
    "                                 matplotlib "
   ]
  },
  {
   "cell_type": "markdown",
   "metadata": {
    "id": "restart"
   },
   "source": [
    "只有Colab才能使用：请取消注释以下单元格以重新启动内核"
   ]
  },
  {
   "cell_type": "code",
   "execution_count": null,
   "metadata": {
    "id": "D-ZBOjErv5mM"
   },
   "outputs": [],
   "source": [
    "# Automatically restart kernel after installs so that your environment can access the new packages\n",
    "# import IPython\n",
    "\n",
    "# app = IPython.Application.instance()\n",
    "# app.kernel.do_shutdown(True)"
   ]
  },
  {
   "cell_type": "markdown",
   "metadata": {
    "id": "before_you_begin:nogpu"
   },
   "source": [
    "在开始之前\n",
    "\n",
    "设置您的项目 ID\n",
    "\n",
    "如果您不知道您的项目 ID，可以尝试以下方式：\n",
    "* 运行 `gcloud config list`。\n",
    "* 运行 `gcloud projects list`。\n",
    "* 查看支持页面：[查找项目 ID](https://support.google.com/googleapi/answer/7014113)"
   ]
  },
  {
   "cell_type": "code",
   "execution_count": null,
   "metadata": {
    "id": "set_project_id"
   },
   "outputs": [],
   "source": [
    "PROJECT_ID = \"[your-project-id]\"  # @param {type:\"string\"}\n",
    "\n",
    "# Set the project id\n",
    "! gcloud config set project {PROJECT_ID}"
   ]
  },
  {
   "cell_type": "markdown",
   "metadata": {
    "id": "region"
   },
   "source": [
    "#### 区域\n",
    "\n",
    "您还可以更改 Vertex AI 使用的 `REGION` 变量。了解有关 [Vertex AI 区域](https://cloud.google.com/vertex-ai/docs/general/locations)的更多信息。"
   ]
  },
  {
   "cell_type": "code",
   "execution_count": null,
   "metadata": {
    "id": "2dw8q9fdQEH5"
   },
   "outputs": [],
   "source": [
    "REGION = \"us-central1\"\n",
    "DATA_REGION = \"US\""
   ]
  },
  {
   "cell_type": "markdown",
   "metadata": {
    "id": "gcp_authenticate"
   },
   "source": [
    "### 验证您的Google Cloud账号\n",
    "\n",
    "根据您的Jupyter环境，您可能需要手动进行身份验证。请按照以下相关说明进行操作。\n",
    "\n",
    "**1. Vertex AI Workbench**\n",
    "* 不需要进行任何操作，因为您已经通过身份验证。\n",
    "\n",
    "**2. 本地JupyterLab实例，请取消注释并运行：**"
   ]
  },
  {
   "cell_type": "code",
   "execution_count": null,
   "metadata": {
    "id": "ce6043da7b33"
   },
   "outputs": [],
   "source": [
    "# ! gcloud auth login"
   ]
  },
  {
   "cell_type": "markdown",
   "metadata": {
    "id": "0367eac06a10"
   },
   "source": [
    "3. 合作，取消注释并运行："
   ]
  },
  {
   "cell_type": "code",
   "execution_count": null,
   "metadata": {
    "id": "21ad4dbb4a61"
   },
   "outputs": [],
   "source": [
    "# from google.colab import auth\n",
    "# auth.authenticate_user()"
   ]
  },
  {
   "cell_type": "markdown",
   "metadata": {
    "id": "c13224697bfb"
   },
   "source": [
    "4. 服务账户或其他\n",
    "* 请参阅如何将云存储权限授予您的服务账户 https://cloud.google.com/storage/docs/gsutil/commands/iam#ch-examples。"
   ]
  },
  {
   "cell_type": "markdown",
   "metadata": {
    "id": "bucket:mbsdk"
   },
   "source": [
    "创建一个云存储桶\n",
    "\n",
    "创建一个存储桶来存储中间产物，例如数据集。"
   ]
  },
  {
   "cell_type": "code",
   "execution_count": null,
   "metadata": {
    "id": "bucket"
   },
   "outputs": [],
   "source": [
    "BUCKET_URI = f\"gs://your-bucket-name-{PROJECT_ID}-unique\"  # @param {type:\"string\"}"
   ]
  },
  {
   "cell_type": "markdown",
   "metadata": {
    "id": "autoset_bucket"
   },
   "source": [
    "只有您的存储桶不存在时：运行以下单元格以创建您的云存储存储桶。"
   ]
  },
  {
   "cell_type": "code",
   "execution_count": null,
   "metadata": {
    "id": "91c46850b49b"
   },
   "outputs": [],
   "source": [
    "! gsutil mb -l $REGION -p $PROJECT_ID $BUCKET_URI"
   ]
  },
  {
   "cell_type": "markdown",
   "metadata": {
    "id": "set_service_account"
   },
   "source": [
    "服务账号\n",
    "\n",
    "您可以使用服务账号创建Vertex AI管道作业。如果您不想使用项目的计算引擎服务账号，请将`SERVICE_ACCOUNT`设置为另一个服务账号ID。"
   ]
  },
  {
   "cell_type": "code",
   "execution_count": null,
   "metadata": {
    "id": "UwC1AdGeF6kx"
   },
   "outputs": [],
   "source": [
    "SERVICE_ACCOUNT = \"[your-service-account]\"  # @param {type:\"string\"}"
   ]
  },
  {
   "cell_type": "code",
   "execution_count": null,
   "metadata": {
    "id": "autoset_service_account"
   },
   "outputs": [],
   "source": [
    "import sys\n",
    "\n",
    "IS_COLAB = \"google.colab\" in sys.modules\n",
    "\n",
    "if (\n",
    "    SERVICE_ACCOUNT == \"\"\n",
    "    or SERVICE_ACCOUNT is None\n",
    "    or SERVICE_ACCOUNT == \"[your-service-account]\"\n",
    "):\n",
    "    # Get your service account from gcloud\n",
    "    if not IS_COLAB:\n",
    "        shell_output = !gcloud auth list 2>/dev/null\n",
    "        SERVICE_ACCOUNT = shell_output[2].replace(\"*\", \"\").strip()\n",
    "\n",
    "    else:  # IS_COLAB:\n",
    "        shell_output = ! gcloud projects describe  $PROJECT_ID\n",
    "        project_number = shell_output[-1].split(\":\")[1].strip().replace(\"'\", \"\")\n",
    "        SERVICE_ACCOUNT = f\"{project_number}-compute@developer.gserviceaccount.com\"\n",
    "\n",
    "    print(\"Service Account:\", SERVICE_ACCOUNT)"
   ]
  },
  {
   "cell_type": "markdown",
   "metadata": {
    "id": "set_service_account:pipelines"
   },
   "source": [
    "#### 为Vertex AI流水线设置服务账号访问权限\n",
    "\n",
    "运行以下命令以授予您的服务账号对在上一步中创建的存储桶中的管道工件进行读取和写入的访问权限。您只需要针对每个服务账号运行此步骤一次。"
   ]
  },
  {
   "cell_type": "code",
   "execution_count": null,
   "metadata": {
    "id": "6OqzKqhMF6kx"
   },
   "outputs": [],
   "source": [
    "! gsutil iam ch serviceAccount:{SERVICE_ACCOUNT}:roles/storage.objectCreator $BUCKET_URI\n",
    "\n",
    "! gsutil iam ch serviceAccount:{SERVICE_ACCOUNT}:roles/storage.objectViewer $BUCKET_URI"
   ]
  },
  {
   "cell_type": "markdown",
   "metadata": {
    "id": "XoEqT2Y4DJmf"
   },
   "source": [
    "### 导入库"
   ]
  },
  {
   "cell_type": "code",
   "execution_count": null,
   "metadata": {
    "id": "pRUOFELefqf1"
   },
   "outputs": [],
   "source": [
    "import json\n",
    "\n",
    "import google.cloud.aiplatform as aiplatform\n",
    "import matplotlib.pyplot as plt\n",
    "from google.cloud import aiplatform_v1"
   ]
  },
  {
   "cell_type": "markdown",
   "metadata": {
    "id": "init_aip:mbsdk,all"
   },
   "source": [
    "### 初始化 Python 的 Vertex AI SDK\n",
    "\n",
    "为您的项目和相应的存储桶初始化 Python 的 Vertex AI SDK。"
   ]
  },
  {
   "cell_type": "code",
   "execution_count": null,
   "metadata": {
    "id": "ksAefQcCF6ky"
   },
   "outputs": [],
   "source": [
    "aiplatform.init(project=PROJECT_ID, location=REGION, staging_bucket=BUCKET_URI)"
   ]
  },
  {
   "cell_type": "markdown",
   "metadata": {
    "id": "BiVlyW5OUnjK"
   },
   "source": [
    "创建顶点 AI 数据集\n",
    "\n",
    "使用数据集来源在顶点 AI 中创建一个托管的表格数据集资源。"
   ]
  },
  {
   "cell_type": "code",
   "execution_count": null,
   "metadata": {
    "id": "bViYfWfpVAiF"
   },
   "outputs": [],
   "source": [
    "DATA_SOURCE = \"gs://cloud-samples-data/ai-platform-unified/datasets/tabular/petfinder-tabular-classification.csv\""
   ]
  },
  {
   "cell_type": "code",
   "execution_count": null,
   "metadata": {
    "id": "20S9En09X0PY"
   },
   "outputs": [],
   "source": [
    "# Create the Vertex AI Dataset resource\n",
    "dataset = aiplatform.TabularDataset.create(\n",
    "    display_name=\"petfinder-tabular-dataset\",\n",
    "    gcs_source=DATA_SOURCE,\n",
    ")\n",
    "\n",
    "print(\"Resource name:\", dataset.resource_name)"
   ]
  },
  {
   "cell_type": "markdown",
   "metadata": {
    "id": "A-QQkeUnq8Xt"
   },
   "source": [
    "训练AutoML模型\n",
    "\n",
    "使用创建的数据集训练一个简单的回归模型，以`Age`作为目标列。\n",
    "\n",
    "**设置显示名称并创建`AutoMLTabularTrainingJob`，指定适当的列转换数据类型。**"
   ]
  },
  {
   "cell_type": "code",
   "execution_count": null,
   "metadata": {
    "id": "Bxn6ATUXrET6"
   },
   "outputs": [],
   "source": [
    "TRAINING_JOB_DISPLAY_NAME = \"[your-train-job-display-name]\"  # @param {type:\"string\"}"
   ]
  },
  {
   "cell_type": "code",
   "execution_count": null,
   "metadata": {
    "id": "2e7664fe3af6"
   },
   "outputs": [],
   "source": [
    "# If no display name is specified, use the default one\n",
    "if (\n",
    "    TRAINING_JOB_DISPLAY_NAME == \"\"\n",
    "    or TRAINING_JOB_DISPLAY_NAME is None\n",
    "    or TRAINING_JOB_DISPLAY_NAME == \"[your-train-job-display-name]\"\n",
    "):\n",
    "    TRAINING_JOB_DISPLAY_NAME = \"train-pet-agefinder-automl\""
   ]
  },
  {
   "cell_type": "markdown",
   "metadata": {
    "id": "6cb41277f4f3"
   },
   "source": [
    "### 定义 AutoML 表格训练任务\n",
    "\n",
    "使用 `AutoMLTabularTrainingJob` 类创建 AutoML 训练作业，具有以下参数：\n",
    "\n",
    "- `display_name`：`TrainingJob` 资源的人类可读名称。\n",
    "- `optimization_prediction_type`：AutoML 模型要生成的预测类型。例如：回归、分类。\n",
    "- `column_transformations`：要应用于输入列（即目标列以外的列）的转换。每个转换可能会从列的值产生多个结果值，并且所有结果将用于训练。\n",
    "- `optimization_objective`：要最小化或最大化的优化目标。\n",
    "    - `minimize-rmse`\n",
    "    - `minimize-mae`\n",
    "    - `minimize-rmsle`\n",
    "\n",
    "了解有关 [AutoMLTabularTrainingJob](https://cloud.google.com/python/docs/reference/aiplatform/latest/google.cloud.aiplatform.AutoMLTabularTrainingJob) 的更多信息。"
   ]
  },
  {
   "cell_type": "code",
   "execution_count": null,
   "metadata": {
    "id": "3l691PEMZFdA"
   },
   "outputs": [],
   "source": [
    "train_job = aiplatform.AutoMLTabularTrainingJob(\n",
    "    display_name=TRAINING_JOB_DISPLAY_NAME,\n",
    "    optimization_prediction_type=\"regression\",\n",
    "    column_specs={\n",
    "        \"Type\": \"categorical\",\n",
    "        \"Breed1\": \"categorical\",\n",
    "        \"Gender\": \"categorical\",\n",
    "        \"Color1\": \"categorical\",\n",
    "        \"Color2\": \"categorical\",\n",
    "        \"MaturitySize\": \"categorical\",\n",
    "        \"FurLength\": \"categorical\",\n",
    "        \"Vaccinated\": \"categorical\",\n",
    "        \"Sterilized\": \"categorical\",\n",
    "        \"Health\": \"categorical\",\n",
    "        \"Fee\": \"numeric\",\n",
    "        \"PhotoAmt\": \"numeric\",\n",
    "        \"Adopted\": \"categorical\",\n",
    "    },\n",
    "    optimization_objective=\"minimize-rmse\",\n",
    ")\n",
    "\n",
    "print(train_job)"
   ]
  },
  {
   "cell_type": "markdown",
   "metadata": {
    "id": "391c51c98647"
   },
   "source": [
    "设置模型的显示名称。"
   ]
  },
  {
   "cell_type": "code",
   "execution_count": null,
   "metadata": {
    "id": "454f077b984e"
   },
   "outputs": [],
   "source": [
    "MODEL_DISPLAY_NAME = \"[your-model-display-name]\"  # @param {type:\"string\"}"
   ]
  },
  {
   "cell_type": "code",
   "execution_count": null,
   "metadata": {
    "id": "c4f338cdea7c"
   },
   "outputs": [],
   "source": [
    "# If no name is specified, use the default name\n",
    "if (\n",
    "    MODEL_DISPLAY_NAME == \"\"\n",
    "    or MODEL_DISPLAY_NAME is None\n",
    "    or MODEL_DISPLAY_NAME == \"[your-model-display-name]\"\n",
    "):\n",
    "    MODEL_DISPLAY_NAME = \"pet-agefinder-prediction-model\""
   ]
  },
  {
   "cell_type": "markdown",
   "metadata": {
    "id": "de7e24205889"
   },
   "source": [
    "运行训练作业\n",
    "\n",
    "接下来，您可以通过调用`run`方法来启动训练作业，以下是参数：\n",
    "\n",
    "- `dataset`：要训练模型的`Dataset`资源。\n",
    "- `target_column`：模型要预测数值的列名。\n",
    "- `training_fraction_split`：要用于训练的数据集百分比。\n",
    "- `validation_fraction_split`：要用于验证的数据集百分比。\n",
    "- `test_fraction_split`：要用于测试（留存数据）的数据集百分比。\n",
    "- `model_display_name`：训练模型的人类可读名称。\n",
    "- `budget_milli_node_hours`：创建此模型的训练预算，以毫节点小时表示，即该字段中的值为1,000表示1个节点小时。\n",
    "\n",
    "训练作业大约需要3小时才能完成。"
   ]
  },
  {
   "cell_type": "code",
   "execution_count": null,
   "metadata": {
    "id": "IIfvPCGYyFCT"
   },
   "outputs": [],
   "source": [
    "# Run the training job\n",
    "model = train_job.run(\n",
    "    dataset=dataset,\n",
    "    target_column=\"Age\",\n",
    "    training_fraction_split=0.8,\n",
    "    validation_fraction_split=0.1,\n",
    "    test_fraction_split=0.1,\n",
    "    model_display_name=MODEL_DISPLAY_NAME,\n",
    "    budget_milli_node_hours=1000,\n",
    ")"
   ]
  },
  {
   "cell_type": "markdown",
   "metadata": {
    "id": "rYirKB_9yaa0"
   },
   "source": [
    "## 列出来自训练的模型评估\n",
    "\n",
    "训练作业完成后，获取模型评估并打印出来。"
   ]
  },
  {
   "cell_type": "code",
   "execution_count": null,
   "metadata": {
    "id": "KkgCdQQAyZP1"
   },
   "outputs": [],
   "source": [
    "# Get evaluations\n",
    "model_evaluations = model.list_model_evaluations()\n",
    "\n",
    "model_evaluation = list(model_evaluations)[0]\n",
    "print(model_evaluation)"
   ]
  },
  {
   "cell_type": "code",
   "execution_count": null,
   "metadata": {
    "id": "3f4d0c17150d"
   },
   "outputs": [],
   "source": [
    "# Print the evaluation metrics\n",
    "for evaluation in model_evaluations:\n",
    "    evaluation = evaluation.to_dict()\n",
    "    print(\"Model's evaluation metrics from Training:\\n\")\n",
    "    metrics = evaluation[\"metrics\"]\n",
    "    for metric in metrics.keys():\n",
    "        print(f\"metric: {metric}, value: {metrics[metric]}\\n\")"
   ]
  },
  {
   "cell_type": "markdown",
   "metadata": {
    "id": "2241f3739e03"
   },
   "source": [
    "运行一条管道进行模型评估\n",
    "\n",
    "现在，您可以运行一个Vertex AI BatchPrediction作业，并通过使用`evaluate`函数创建一个Vertex AI管道生成评估和特征归因结果。了解更多关于[evaluate函数](https://github.com/googleapis/python-aiplatform/blob/main/google/cloud/aiplatform/models.py#L5127)。"
   ]
  },
  {
   "cell_type": "markdown",
   "metadata": {
    "id": "d17a0268020f"
   },
   "source": [
    "###定义运行评估函数的参数\n",
    "\n",
    "指定运行`evaluate`函数所需的参数。\n",
    "\n",
    "以下是`evaluate`函数参数的说明：\n",
    "\n",
    "- `prediction_type`：评估运行所处理的问题类型。目前支持的问题类型是“分类”和“回归”。\n",
    "- `target_field_name`：用作回归目标的列的名称。\n",
    "- `gcs_source_uris`：云存储桶URI列表，用于批量预测的输入实例。\n",
    "- `generate_feature_attributions`：可选项。模型评估作业是否应生成特征归因。如果未指定，默认为False。\n",
    "\n",
    "**该流水线大约需要2小时才能完成。**"
   ]
  },
  {
   "cell_type": "code",
   "execution_count": null,
   "metadata": {
    "id": "9e41d48d1f48"
   },
   "outputs": [],
   "source": [
    "job = model.evaluate(\n",
    "    prediction_type=\"regression\",\n",
    "    target_field_name=\"Age\",\n",
    "    gcs_source_uris=[DATA_SOURCE],\n",
    "    generate_feature_attributions=True,\n",
    ")\n",
    "\n",
    "print(\"Waiting model evaluation is in process\")\n",
    "job.wait()"
   ]
  },
  {
   "cell_type": "markdown",
   "metadata": {
    "id": "U2zocUvk2YVs"
   },
   "source": [
    "在上一步的结果中，点击生成的链接，查看在Cloud Console中的运行情况。\n",
    "\n",
    "在用户界面中，当您点击节点时，许多管道DAG节点会展开或折叠。下面是DAG的部分展开视图（点击图像查看更大的版本）。"
   ]
  },
  {
   "cell_type": "markdown",
   "metadata": {
    "id": "XcKaONSsGNC4"
   },
   "source": [
    "获取模型评估结果\n",
    "\n",
    "评估流程完成后，运行下面的单元格来打印评估指标。"
   ]
  },
  {
   "cell_type": "code",
   "execution_count": null,
   "metadata": {
    "id": "80d4f5b11d24"
   },
   "outputs": [],
   "source": [
    "model_evaluation = job.get_model_evaluation()"
   ]
  },
  {
   "cell_type": "code",
   "execution_count": null,
   "metadata": {
    "id": "mtHA8rhGGQv3"
   },
   "outputs": [],
   "source": [
    "# Iterate over the pipeline tasks\n",
    "for (\n",
    "    task\n",
    ") in model_evaluation._backing_pipeline_job._gca_resource.job_detail.task_details:\n",
    "    # Obtain the artifacts from the evaluation task\n",
    "    if (\n",
    "        (\"model-evaluation\" in task.task_name)\n",
    "        and (\"model-evaluation-import\" not in task.task_name)\n",
    "        and (\n",
    "            task.state == aiplatform_v1.types.PipelineTaskDetail.State.SUCCEEDED\n",
    "            or task.state == aiplatform_v1.types.PipelineTaskDetail.State.SKIPPED\n",
    "        )\n",
    "    ):\n",
    "        evaluation_metrics = task.outputs.get(\"evaluation_metrics\").artifacts[\n",
    "            0\n",
    "        ]  # ['artifacts']\n",
    "        evaluation_metrics_gcs_uri = evaluation_metrics.uri\n",
    "\n",
    "print(evaluation_metrics)\n",
    "print(evaluation_metrics_gcs_uri)"
   ]
  },
  {
   "cell_type": "markdown",
   "metadata": {
    "id": "e69f183f902b"
   },
   "source": [
    "### 可视化指标"
   ]
  },
  {
   "cell_type": "markdown",
   "metadata": {
    "id": "14MBD57k0Fng"
   },
   "source": [
    "评估流程完成后，运行下面的单元格来可视化评估指标。"
   ]
  },
  {
   "cell_type": "code",
   "execution_count": null,
   "metadata": {
    "id": "b7c5e5c35ee9"
   },
   "outputs": [],
   "source": [
    "metrics = []\n",
    "values = []\n",
    "for i in evaluation_metrics.metadata.items():\n",
    "    if (\n",
    "        i[0] == \"meanAbsolutePercentageError\"\n",
    "    ):  # we are not considering MAPE as it is infinite. MAPE is infinite if groud truth is 0 as in our case Age is 0 for some instances.\n",
    "        continue\n",
    "    metrics.append(i[0])\n",
    "    values.append(i[1])\n",
    "plt.figure(figsize=(10, 5))\n",
    "plt.bar(x=metrics, height=values)\n",
    "plt.title(\"Evaluation Metrics\")\n",
    "plt.ylabel(\"Value\")\n",
    "plt.show()"
   ]
  },
  {
   "cell_type": "markdown",
   "metadata": {
    "id": "c26ad3958895"
   },
   "source": [
    "获取特征归因\n",
    "\n",
    "特征归因显示了模型中每个特征对每个给定实例的预测有多大贡献。\n",
    "\n",
    "了解有关[特征归因](https://cloud.google.com/vertex-ai/docs/explainable-ai/overview#feature_attributions)的更多信息\n",
    "\n",
    "运行以下单元格以获取特征归因。"
   ]
  },
  {
   "cell_type": "code",
   "execution_count": null,
   "metadata": {
    "id": "b09056628b26"
   },
   "outputs": [],
   "source": [
    "# Iterate over the pipeline tasks\n",
    "for (\n",
    "    task\n",
    ") in model_evaluation._backing_pipeline_job._gca_resource.job_detail.task_details:\n",
    "    # Obtain the artifacts from the feature-attribution task\n",
    "    if (task.task_name == \"feature-attribution\") and (\n",
    "        task.state == aiplatform_v1.types.PipelineTaskDetail.State.SUCCEEDED\n",
    "        or task.state == aiplatform_v1.types.PipelineTaskDetail.State.SKIPPED\n",
    "    ):\n",
    "        feat_attrs = task.outputs.get(\"feature_attributions\").artifacts[0]\n",
    "        feat_attrs_gcs_uri = feat_attrs.uri\n",
    "\n",
    "print(feat_attrs)\n",
    "print(feat_attrs_gcs_uri)"
   ]
  },
  {
   "cell_type": "markdown",
   "metadata": {
    "id": "4d9d6a82d826"
   },
   "source": [
    "从获取的云存储URI中获取特征归因值。"
   ]
  },
  {
   "cell_type": "code",
   "execution_count": null,
   "metadata": {
    "id": "c26a2091f4fc"
   },
   "outputs": [],
   "source": [
    "# Load the results\n",
    "attributions = !gsutil cat $feat_attrs_gcs_uri\n",
    "\n",
    "# Print the results obtained\n",
    "attributions = json.loads(attributions[0])\n",
    "print(attributions)"
   ]
  },
  {
   "cell_type": "markdown",
   "metadata": {
    "id": "77151be8d776"
   },
   "source": [
    "### 可视化特征归因\n",
    "\n",
    "使用条形图可视化每个特征所获得的归因。"
   ]
  },
  {
   "cell_type": "code",
   "execution_count": null,
   "metadata": {
    "id": "069bf017e0de"
   },
   "outputs": [],
   "source": [
    "data = attributions[\"explanation\"][\"attributions\"][0][\"featureAttributions\"]\n",
    "features = []\n",
    "attr_values = []\n",
    "for key, value in data.items():\n",
    "    features.append(key)\n",
    "    attr_values.append(value)\n",
    "\n",
    "plt.figure(figsize=(5, 3))\n",
    "plt.bar(x=features, height=attr_values)\n",
    "plt.title(\"Feature Attributions\")\n",
    "plt.xticks(rotation=90)\n",
    "plt.ylabel(\"Attribution value\")\n",
    "plt.show()"
   ]
  },
  {
   "cell_type": "markdown",
   "metadata": {
    "id": "TpV-iwP9qw9c"
   },
   "source": [
    "清理工作\n",
    "\n",
    "要清理此项目中使用的所有Google Cloud资源，您可以[删除您用于教程的Google Cloud项目](https://cloud.google.com/resource-manager/docs/creating-managing-projects#shutting_down_projects)。\n",
    "\n",
    "否则，您可以删除在此教程中创建的各个资源。\n",
    "\n",
    "将`delete_bucket`设置为**True**以创建在此笔记本中创建的Cloud Storage存储桶。"
   ]
  },
  {
   "cell_type": "code",
   "execution_count": null,
   "metadata": {
    "id": "sx_vKniMq9ZX"
   },
   "outputs": [],
   "source": [
    "import os\n",
    "\n",
    "# Delete model resource\n",
    "model.delete()\n",
    "\n",
    "# Delete the dataset resource\n",
    "dataset.delete()\n",
    "\n",
    "# Delete the training job\n",
    "train_job.delete()\n",
    "\n",
    "# Delete the evaluation pipeline\n",
    "job.delete()\n",
    "\n",
    "# Delete Cloud Storage objects\n",
    "delete_bucket = False\n",
    "if delete_bucket or os.getenv(\"IS_TESTING\"):\n",
    "    ! gsutil -m rm -r $BUCKET_URI"
   ]
  }
 ],
 "metadata": {
  "colab": {
   "collapsed_sections": [],
   "name": "automl_tabular_regression_model_evaluation.ipynb",
   "toc_visible": true
  },
  "kernelspec": {
   "display_name": "Python 3",
   "name": "python3"
  }
 },
 "nbformat": 4,
 "nbformat_minor": 0
}
