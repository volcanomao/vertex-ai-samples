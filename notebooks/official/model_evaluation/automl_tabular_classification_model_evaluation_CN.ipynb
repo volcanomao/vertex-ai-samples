{
 "cells": [
  {
   "cell_type": "code",
   "execution_count": null,
   "metadata": {
    "id": "ur8xi4C7S06n"
   },
   "outputs": [],
   "source": [
    "# Copyright 2022 Google LLC\n",
    "#\n",
    "# Licensed under the Apache License, Version 2.0 (the \"License\");\n",
    "# you may not use this file except in compliance with the License.\n",
    "# You may obtain a copy of the License at\n",
    "#\n",
    "#     https://www.apache.org/licenses/LICENSE-2.0\n",
    "#\n",
    "# Unless required by applicable law or agreed to in writing, software\n",
    "# distributed under the License is distributed on an \"AS IS\" BASIS,\n",
    "# WITHOUT WARRANTIES OR CONDITIONS OF ANY KIND, either express or implied.\n",
    "# See the License for the specific language governing permissions and\n",
    "# limitations under the License."
   ]
  },
  {
   "cell_type": "markdown",
   "metadata": {
    "id": "JAPoU8Sm5E6e"
   },
   "source": [
    "Vertex AI管道：评估AutoML Tabular分类模型的批量预测结果\n",
    "\n",
    "<table align=\"left\">\n",
    "\n",
    "  <td>\n",
    "    <a href=\"https://colab.research.google.com/github/GoogleCloudPlatform/vertex-ai-samples/blob/main/notebooks/official/model_evaluation/automl_tabular_classification_model_evaluation.ipynb\">\n",
    "      <img src=\"https://cloud.google.com/ml-engine/images/colab-logo-32px.png\" alt=\"Colab logo\"> 在Colab中运行\n",
    "    </a>\n",
    "  </td>\n",
    "  <td>\n",
    "    <a href=\"https://github.com/GoogleCloudPlatform/vertex-ai-samples/blob/main/notebooks/official/model_evaluation/automl_tabular_classification_model_evaluation.ipynb\">\n",
    "      <img src=\"https://cloud.google.com/ml-engine/images/github-logo-32px.png\" alt=\"GitHub logo\">\n",
    "      在GitHub上查看\n",
    "    </a>\n",
    "  </td>\n",
    "  <td>\n",
    "    <a href=\"https://console.cloud.google.com/vertex-ai/workbench/deploy-notebook?download_url=https://raw.githubusercontent.com/GoogleCloudPlatform/vertex-ai-samples/main/notebooks/official/model_evaluation/automl_tabular_classification_model_evaluation.ipynb\">\n",
    "      <img src=\"https://lh3.googleusercontent.com/UiNooY4LUgW_oTvpsNhPpQzsstV5W8F7rYgxgGBD85cWJoLmrOzhVs_ksK_vgx40SHs7jCqkTkCk=e14-rj-sc0xffffff-h130-w32\" alt=\"Vertex AI logo\">\n",
    "      在Vertex AI Workbench中打开\n",
    "    </a>\n",
    "  </td>                                                                                               \n",
    "</table>"
   ]
  },
  {
   "cell_type": "markdown",
   "metadata": {
    "id": "tvgnzT1CKxrO"
   },
   "source": [
    "## 概述\n",
    "\n",
    "本笔记本演示如何使用Vertex AI分类模型评估组件来评估AutoML Tabular分类模型。模型评估有助于根据评估指标确定您的模型的性能，并在必要时改进模型。\n",
    "\n",
    "了解有关[Vertex AI模型评估](https://cloud.google.com/vertex-ai/docs/evaluation/introduction)的更多信息。了解有关[表格数据分类](https://cloud.google.com/vertex-ai/docs/tabular-data/classification-regression/overview)的更多信息。"
   ]
  },
  {
   "cell_type": "markdown",
   "metadata": {
    "id": "d975e698c9a4"
   },
   "source": [
    "### 目标\n",
    "\n",
    "在本教程中，您将学习如何训练一个 Vertex AI AutoML Tabular 分类模型，并通过使用 `google_cloud_pipeline_components` 在 Vertex AI pipeline 作业中评估它：\n",
    "\n",
    "本教程使用以下 Google Cloud ML 服务和资源：\n",
    "\n",
    "- Vertex AI `Datasets`\n",
    "- Vertex AI `Training`（AutoML Tabular 分类）\n",
    "- Vertex AI `Model Registry`\n",
    "- Vertex AI `Pipelines`\n",
    "- Vertex AI `Batch Predictions`\n",
    "\n",
    "执行的步骤包括：\n",
    "\n",
    "- 创建一个 Vertex AI `Dataset`。\n",
    "- 在 `Dataset` 资源上训练一个 AutoML Tabular 分类模型。\n",
    "- 将训练好的 `AutoML 模型资源` 导入到 pipeline 中。\n",
    "- 运行一个 `Batch Prediction` 作业。\n",
    "- 使用 `Classification Evaluation component` 评估 AutoML 模型。\n",
    "- 将分类指标导入到 AutoML 模型资源中。"
   ]
  },
  {
   "cell_type": "markdown",
   "metadata": {
    "id": "08d289fa873f"
   },
   "source": [
    "### 数据集\n",
    "\n",
    "此笔记本中使用的数据集是PetFinder数据集的一部分，可在Kaggle上的[此处](https://www.kaggle.com/c/petfinder-adoption-prediction)找到。当前数据集只是原始数据集的一部分，用于预测宠物是否被领养。它包括以下字段：\n",
    "\n",
    "- `Type`：动物类型（1 = 狗，2 = 猫）\n",
    "- `Age`：列出时宠物的年龄，以月为单位\n",
    "- `Breed1`：宠物的主要品种\n",
    "- `Gender`：宠物的性别\n",
    "- `Color1`：宠物的颜色1\n",
    "- `Color2`：宠物的颜色2\n",
    "- `MaturitySize`：成熟时的大小（1 = 小型，2 = 中型，3 = 大型，4 = 特大型，0 = 未指定）\n",
    "- `FurLength`：毛长（1 = 短毛，2 = 中毛，3 = 长毛，0 = 未指定）\n",
    "- `Vaccinated`：宠物是否已接种疫苗（1 = 是，2 = 否，3 = 不确定）\n",
    "- `Sterilized`：宠物是否绝育（1 = 是，2 = 否，3 = 不确定）\n",
    "- `Health`：健康状况（1 = 健康，2 = 轻伤，3 = 重伤，0 = 未指定）\n",
    "- `Fee`：领养费（0 = 免费）\n",
    "- `PhotoAmt`：为该宠物上传的照片总数\n",
    "- `Adopted`：宠物是否被领养（是/否）。\n",
    "\n",
    "**注意**：此数据集已从公共云存储桶转移，可以在此笔记本中访问。"
   ]
  },
  {
   "cell_type": "markdown",
   "metadata": {
    "id": "aed92deeb4a0"
   },
   "source": [
    "### 成本\n",
    "本教程使用了谷歌云的可计费组件：\n",
    "\n",
    "* Vertex AI\n",
    "* 云存储\n",
    "\n",
    "了解[Vertex AI价格](https://cloud.google.com/vertex-ai/pricing)和[云存储价格](https://cloud.google.com/storage/pricing)，并使用[Pricing Calculator](https://cloud.google.com/products/calculator/)根据您的预计使用情况生成成本估算。"
   ]
  },
  {
   "cell_type": "markdown",
   "metadata": {
    "id": "i7EUnXsZhAGF"
   },
   "source": [
    "安装以下所需的软件包以执行此笔记本。"
   ]
  },
  {
   "cell_type": "code",
   "execution_count": null,
   "metadata": {
    "id": "2b4ef9b72d43"
   },
   "outputs": [],
   "source": [
    "! pip3 install --upgrade --quiet google-cloud-aiplatform \\\n",
    "                                 google-cloud-pipeline-components==1.0.26 \\\n",
    "                                 matplotlib"
   ]
  },
  {
   "cell_type": "markdown",
   "metadata": {
    "id": "restart"
   },
   "source": [
    "### 仅限Colab：取消注释以下单元格以重新启动内核"
   ]
  },
  {
   "cell_type": "code",
   "execution_count": null,
   "metadata": {
    "id": "D-ZBOjErv5mM"
   },
   "outputs": [],
   "source": [
    "# Automatically restart kernel after installs so that your environment can access the new packages\n",
    "# import IPython\n",
    "\n",
    "# app = IPython.Application.instance()\n",
    "# app.kernel.do_shutdown(True)"
   ]
  },
  {
   "cell_type": "markdown",
   "metadata": {
    "id": "yfEglUHQk9S3"
   },
   "source": [
    "## 开始之前\n",
    "\n",
    "### 设置您的项目ID\n",
    "\n",
    "**如果您不知道您的项目ID**，请尝试以下方法：\n",
    "* 运行 `gcloud config list`。\n",
    "* 运行 `gcloud projects list`。\n",
    "* 参考支持页面：[查找项目ID](https://support.google.com/googleapi/answer/7014113)。"
   ]
  },
  {
   "cell_type": "code",
   "execution_count": null,
   "metadata": {
    "id": "set_project_id"
   },
   "outputs": [],
   "source": [
    "PROJECT_ID = \"[your-project-id]\"  # @param {type:\"string\"}\n",
    "\n",
    "# Set the project id\n",
    "! gcloud config set project {PROJECT_ID}"
   ]
  },
  {
   "cell_type": "markdown",
   "metadata": {
    "id": "region"
   },
   "source": [
    "#### 区域\n",
    "\n",
    "您也可以更改 Vertex AI 使用的 `REGION` 变量。了解更多关于 [Vertex AI 区域](https://cloud.google.com/vertex-ai/docs/general/locations) 的信息。"
   ]
  },
  {
   "cell_type": "code",
   "execution_count": null,
   "metadata": {
    "id": "region"
   },
   "outputs": [],
   "source": [
    "REGION = \"us-central1\"  # @param {type: \"string\"}"
   ]
  },
  {
   "cell_type": "markdown",
   "metadata": {
    "id": "gcp_authenticate"
   },
   "source": [
    "### 验证您的 Google Cloud 账户\n",
    "\n",
    "根据您的 Jupyter 环境，您可能需要手动进行身份验证。请按照以下相关说明操作。\n",
    "\n",
    "**1. Vertex AI Workbench**\n",
    "* 不需要进行任何操作，因为您已经通过身份验证。\n",
    "\n",
    "**2. 本地 JupyterLab 实例，请取消注释并运行：**"
   ]
  },
  {
   "cell_type": "code",
   "execution_count": null,
   "metadata": {
    "id": "ce6043da7b33"
   },
   "outputs": [],
   "source": [
    "# ! gcloud auth login"
   ]
  },
  {
   "cell_type": "markdown",
   "metadata": {
    "id": "0367eac06a10"
   },
   "source": [
    "3. 协作，取消注释并运行:"
   ]
  },
  {
   "cell_type": "code",
   "execution_count": null,
   "metadata": {
    "id": "21ad4dbb4a61"
   },
   "outputs": [],
   "source": [
    "# from google.colab import auth\n",
    "# auth.authenticate_user()"
   ]
  },
  {
   "cell_type": "markdown",
   "metadata": {
    "id": "c13224697bfb"
   },
   "source": [
    "查看如何在https://cloud.google.com/storage/docs/gsutil/commands/iam#ch-examples 上为您的服务帐户授予云存储权限。"
   ]
  },
  {
   "cell_type": "markdown",
   "metadata": {
    "id": "aab852d94fc7"
   },
   "source": [
    "将整个笔记本中使用的云服务启用。\n",
    "\n",
    "运行下面的单元格以启用计算引擎、容器注册表和Vertex AI服务。"
   ]
  },
  {
   "cell_type": "code",
   "execution_count": null,
   "metadata": {
    "id": "18396d3d7fe4"
   },
   "outputs": [],
   "source": [
    "!gcloud services enable compute.googleapis.com         \\\n",
    "                       containerregistry.googleapis.com  \\\n",
    "                       aiplatform.googleapis.com"
   ]
  },
  {
   "cell_type": "markdown",
   "metadata": {
    "id": "bucket:mbsdk"
   },
   "source": [
    "创建一个云存储桶\n",
    "\n",
    "创建一个存储桶，用于存储中间产物，如数据集。"
   ]
  },
  {
   "cell_type": "code",
   "execution_count": null,
   "metadata": {
    "id": "bucket"
   },
   "outputs": [],
   "source": [
    "BUCKET_URI = f\"gs://your-bucket-name-{PROJECT_ID}-unique\"  # @param {type:\"string\"}"
   ]
  },
  {
   "cell_type": "markdown",
   "metadata": {
    "id": "create_bucket"
   },
   "source": [
    "只有当您的存储桶不存在时，请运行以下单元格以创建您的云存储存储桶。"
   ]
  },
  {
   "cell_type": "code",
   "execution_count": null,
   "metadata": {
    "id": "create_bucket"
   },
   "outputs": [],
   "source": [
    "! gsutil mb -l $REGION $BUCKET_URI"
   ]
  },
  {
   "cell_type": "markdown",
   "metadata": {
    "id": "set_service_account"
   },
   "source": [
    "#### 服务账号\n",
    "\n",
    "您可以使用服务账号来创建 Vertex AI 流水线作业。如果您不想使用项目的计算引擎服务账号，请将 `SERVICE_ACCOUNT` 设置为另一个服务账号 ID。"
   ]
  },
  {
   "cell_type": "code",
   "execution_count": null,
   "metadata": {
    "id": "UwC1AdGeF6kx"
   },
   "outputs": [],
   "source": [
    "SERVICE_ACCOUNT = \"[your-service-account]\"  # @param {type:\"string\"}"
   ]
  },
  {
   "cell_type": "code",
   "execution_count": null,
   "metadata": {
    "id": "autoset_service_account"
   },
   "outputs": [],
   "source": [
    "import sys\n",
    "\n",
    "IS_COLAB = \"google.colab\" in sys.modules\n",
    "\n",
    "if (\n",
    "    SERVICE_ACCOUNT == \"\"\n",
    "    or SERVICE_ACCOUNT is None\n",
    "    or SERVICE_ACCOUNT == \"[your-service-account]\"\n",
    "):\n",
    "    # Get your service account from gcloud\n",
    "    if not IS_COLAB:\n",
    "        shell_output = !gcloud auth list 2>/dev/null\n",
    "        SERVICE_ACCOUNT = shell_output[2].replace(\"*\", \"\").strip()\n",
    "\n",
    "    else:  # IS_COLAB:\n",
    "        shell_output = ! gcloud projects describe  $PROJECT_ID\n",
    "        project_number = shell_output[-1].split(\":\")[1].strip().replace(\"'\", \"\")\n",
    "        SERVICE_ACCOUNT = f\"{project_number}-compute@developer.gserviceaccount.com\"\n",
    "\n",
    "    print(\"Service Account:\", SERVICE_ACCOUNT)"
   ]
  },
  {
   "cell_type": "markdown",
   "metadata": {
    "id": "set_service_account:pipelines"
   },
   "source": [
    "为Vertex AI Pipelines设置服务账户访问权限\n",
    "\n",
    "运行以下命令，为您的服务账户授予读取和写入管道工件的权限，这些工件位于您在上一步中创建的存储桶中。您只需要针对每个服务账户运行此步骤一次。"
   ]
  },
  {
   "cell_type": "code",
   "execution_count": null,
   "metadata": {
    "id": "6OqzKqhMF6kx"
   },
   "outputs": [],
   "source": [
    "! gsutil iam ch serviceAccount:{SERVICE_ACCOUNT}:roles/storage.objectCreator $BUCKET_URI\n",
    "\n",
    "! gsutil iam ch serviceAccount:{SERVICE_ACCOUNT}:roles/storage.objectViewer $BUCKET_URI"
   ]
  },
  {
   "cell_type": "markdown",
   "metadata": {
    "id": "XoEqT2Y4DJmf"
   },
   "source": [
    "### 导入库\n",
    "\n",
    "导入Vertex AI Python SDK和其他所需的Python库。"
   ]
  },
  {
   "cell_type": "code",
   "execution_count": null,
   "metadata": {
    "id": "pRUOFELefqf1"
   },
   "outputs": [],
   "source": [
    "import json\n",
    "\n",
    "import google.cloud.aiplatform as aiplatform\n",
    "import matplotlib.pyplot as plt\n",
    "from google.cloud import aiplatform_v1"
   ]
  },
  {
   "cell_type": "markdown",
   "metadata": {
    "id": "init_aip:mbsdk,all"
   },
   "source": [
    "### 初始化用于Python的Vertex AI SDK\n",
    "\n",
    "为您的项目和相应的存储桶初始化用于Python的Vertex AI SDK。"
   ]
  },
  {
   "cell_type": "code",
   "execution_count": null,
   "metadata": {
    "id": "ksAefQcCF6ky"
   },
   "outputs": [],
   "source": [
    "aiplatform.init(project=PROJECT_ID, location=REGION, staging_bucket=BUCKET_URI)"
   ]
  },
  {
   "cell_type": "markdown",
   "metadata": {
    "id": "8d97acf78771"
   },
   "source": [
    "创建一个在 Vertex AI 中使用数据集来源创建的托管表格数据集资源。"
   ]
  },
  {
   "cell_type": "code",
   "execution_count": null,
   "metadata": {
    "id": "3390c9e9426c"
   },
   "outputs": [],
   "source": [
    "DATA_SOURCE = \"gs://cloud-samples-data/ai-platform-unified/datasets/tabular/petfinder-tabular-classification.csv\""
   ]
  },
  {
   "cell_type": "code",
   "execution_count": null,
   "metadata": {
    "id": "2011a473ce65"
   },
   "outputs": [],
   "source": [
    "# Create the Vertex AI Dataset resource\n",
    "dataset = aiplatform.TabularDataset.create(\n",
    "    display_name=\"petfinder-tabular-dataset\",\n",
    "    gcs_source=DATA_SOURCE,\n",
    ")\n",
    "\n",
    "print(\"Resource name:\", dataset.resource_name)"
   ]
  },
  {
   "cell_type": "markdown",
   "metadata": {
    "id": "6da01c2f1d4f"
   },
   "source": [
    "用创建的数据集训练一个简单的分类模型，目标列为 `Adopted`。\n",
    "\n",
    "使用Vertex AI SDK的 `AutoMLTabularTrainingJob` 类创建一个训练作业。为训练作业设置一个显示名称，并指定列转换的适当数据类型。"
   ]
  },
  {
   "cell_type": "code",
   "execution_count": null,
   "metadata": {
    "id": "5dd3db2d1225"
   },
   "outputs": [],
   "source": [
    "TRAINING_JOB_DISPLAY_NAME = \"[your-train-job-display-name]\"  # @param {type:\"string\"}"
   ]
  },
  {
   "cell_type": "code",
   "execution_count": null,
   "metadata": {
    "id": "0614e3fb19da"
   },
   "outputs": [],
   "source": [
    "# If no display name is specified, use the default one\n",
    "if (\n",
    "    TRAINING_JOB_DISPLAY_NAME == \"\"\n",
    "    or TRAINING_JOB_DISPLAY_NAME is None\n",
    "    or TRAINING_JOB_DISPLAY_NAME == \"[your-train-job-display-name]\"\n",
    "):\n",
    "    TRAINING_JOB_DISPLAY_NAME = \"train-petfinder-automl\""
   ]
  },
  {
   "cell_type": "markdown",
   "metadata": {
    "id": "ce9c9f279674"
   },
   "source": [
    "### 创建一个AutoML表格训练任务\n",
    "\n",
    "`AutoMLTabularTrainingJob`类使用以下参数创建一个AutoML训练任务：\n",
    "\n",
    "- `display_name`：Vertex AI训练任务的可读名称。\n",
    "- `optimization_prediction_type`：Vertex AI模型要生成的预测类型。例如：回归，分类。\n",
    "- `column_specs`（可选）：应用于输入列的转换（包括数据类型更正）。\n",
    "- `optimization_objective`：要最小化或最大化的优化目标。根据预测类型而定，选择相应的参数。如果未设置该字段，则使用默认的优化目标函数。\n",
    "\n",
    "了解更多关于[AutoMLTabularTrainingJob类](https://cloud.google.com/python/docs/reference/aiplatform/latest/google.cloud.aiplatform.AutoMLTabularTrainingJob)。"
   ]
  },
  {
   "cell_type": "code",
   "execution_count": null,
   "metadata": {
    "id": "d33629c2aae6"
   },
   "outputs": [],
   "source": [
    "# Define the AutoML training job\n",
    "train_job = aiplatform.AutoMLTabularTrainingJob(\n",
    "    display_name=TRAINING_JOB_DISPLAY_NAME,\n",
    "    optimization_prediction_type=\"classification\",\n",
    "    column_specs={\n",
    "        \"Type\": \"categorical\",\n",
    "        \"Age\": \"numeric\",\n",
    "        \"Breed1\": \"categorical\",\n",
    "        \"Color1\": \"categorical\",\n",
    "        \"Color2\": \"categorical\",\n",
    "        \"MaturitySize\": \"categorical\",\n",
    "        \"FurLength\": \"categorical\",\n",
    "        \"Vaccinated\": \"categorical\",\n",
    "        \"Sterilized\": \"categorical\",\n",
    "        \"Health\": \"categorical\",\n",
    "        \"Fee\": \"numeric\",\n",
    "        \"PhotoAmt\": \"numeric\",\n",
    "    },\n",
    ")"
   ]
  },
  {
   "cell_type": "markdown",
   "metadata": {
    "id": "391c51c98647"
   },
   "source": [
    "设置一个显示名称为自动ML表格分类模型。"
   ]
  },
  {
   "cell_type": "code",
   "execution_count": null,
   "metadata": {
    "id": "454f077b984e"
   },
   "outputs": [],
   "source": [
    "MODEL_DISPLAY_NAME = \"[your-model-display-name]\"  # @param {type:\"string\"}"
   ]
  },
  {
   "cell_type": "code",
   "execution_count": null,
   "metadata": {
    "id": "21b5a27e8171"
   },
   "outputs": [],
   "source": [
    "# If no name is specified, use the default name\n",
    "if (\n",
    "    MODEL_DISPLAY_NAME == \"\"\n",
    "    or MODEL_DISPLAY_NAME is None\n",
    "    or MODEL_DISPLAY_NAME == \"[your-model-display-name]\"\n",
    "):\n",
    "    MODEL_DISPLAY_NAME = \"pet-adoption-prediction-model\""
   ]
  },
  {
   "cell_type": "markdown",
   "metadata": {
    "id": "93ebafd3f347"
   },
   "source": [
    "### 运行训练任务\n",
    "\n",
    "现在，通过传递以下参数来在创建的表格数据集上运行训练任务：\n",
    "\n",
    "- `dataset`：需要用来训练 Vertex AI 模型的同一项目中的 Vertex AI 表格数据集。\n",
    "- `target_column`：Vertex AI 模型需要预测的列的名称。\n",
    "- `model_display_name`：生成的 Vertex AI 模型的显示名称。\n",
    "- `budget_milli_node_hours`（可选）：创建 Vertex AI 模型的训练预算，以毫节点小时表示，即该字段中的值为1,000表示1个节点小时。模型的训练成本不会超过此预算。\n",
    "\n",
    "了解更多关于[`AutoMLTabularTrainingJob类的run()方法`](https://cloud.google.com/python/docs/reference/aiplatform/latest/google.cloud.aiplatform.AutoMLTabularTrainingJob#google_cloud_aiplatform_AutoMLTabularTrainingJob_run)。\n",
    "\n",
    "训练任务大约需要1.5 - 2小时才能完成。"
   ]
  },
  {
   "cell_type": "code",
   "execution_count": null,
   "metadata": {
    "id": "9ce44a2ab942"
   },
   "outputs": [],
   "source": [
    "# Specify the target column\n",
    "target_column = \"Adopted\"\n",
    "\n",
    "# Run the training job\n",
    "model = train_job.run(\n",
    "    dataset=dataset,\n",
    "    target_column=target_column,\n",
    "    model_display_name=MODEL_DISPLAY_NAME,\n",
    "    budget_milli_node_hours=1000,\n",
    ")"
   ]
  },
  {
   "cell_type": "markdown",
   "metadata": {
    "id": "bfa52eb3f22f"
   },
   "source": [
    "##列出训练时的模型评估\n",
    "\n",
    "在训练工作完成后，获取模型评估并打印出来。"
   ]
  },
  {
   "cell_type": "code",
   "execution_count": null,
   "metadata": {
    "id": "d56e2b3cf57d"
   },
   "outputs": [],
   "source": [
    "# Get evaluations\n",
    "model_evaluations = model.list_model_evaluations()\n",
    "\n",
    "# Print the evaluation metrics\n",
    "for evaluation in model_evaluations:\n",
    "    evaluation = evaluation.to_dict()\n",
    "    print(\"Model's evaluation metrics from training:\\n\")\n",
    "    metrics = evaluation[\"metrics\"]\n",
    "    for metric in metrics.keys():\n",
    "        print(f\"metric: {metric}, value: {metrics[metric]}\\n\")"
   ]
  },
  {
   "cell_type": "markdown",
   "metadata": {
    "id": "ab9f273691cc"
   },
   "source": [
    "## 运行用于模型评估的管道\n",
    "\n",
    "现在，您可以运行一个 Vertex AI 批量预测作业，并使用管道生成其结果的评估和特征归因。\n",
    "\n",
    "为此，您可以通过调用 `evaluate` 函数来创建一个 Vertex AI 管道。了解更多关于[evaluate函数](https://github.com/googleapis/python-aiplatform/blob/main/google/cloud/aiplatform/models.py#L5127)的信息。"
   ]
  },
  {
   "cell_type": "markdown",
   "metadata": {
    "id": "1b042d6309f0"
   },
   "source": [
    "### 定义运行评估函数的参数\n",
    "\n",
    "指定运行 `evaluate` 函数所需的参数。\n",
    "\n",
    "以下是 `evaluate` 函数参数的说明：\n",
    "\n",
    "- `prediction_type`：这次评估运行所解决的问题类型。'classification' 和 'regression' 是目前支持的问题类型。\n",
    "- `target_field_name`：用作分类目标的列的名称。\n",
    "- `gcs_source_uris`：批量预测的输入实例的Cloud Storage存储桶URI列表。\n",
    "- `class_labels`：目标列中的类标签列表。\n",
    "- `generate_feature_attributions`：可选。模型评估作业是否应生成特征归因。如果未指定，则默认为 False。"
   ]
  },
  {
   "cell_type": "code",
   "execution_count": null,
   "metadata": {
    "id": "1abb012ce04b"
   },
   "outputs": [],
   "source": [
    "job = model.evaluate(\n",
    "    prediction_type=\"classification\",\n",
    "    target_field_name=target_column,\n",
    "    gcs_source_uris=[DATA_SOURCE],\n",
    "    class_labels=[\"No\", \"Yes\"],\n",
    "    generate_feature_attributions=True,\n",
    ")\n",
    "print(\"Waiting model evaluation is in process\")\n",
    "job.wait()"
   ]
  },
  {
   "cell_type": "markdown",
   "metadata": {
    "id": "mKRTDi8ioXBY"
   },
   "source": [
    "## 模型评估管道的结果\n",
    "\n",
    "在之前步骤的结果中，点击生成的链接以在云控制台中查看您的运行情况。\n",
    "\n",
    "在用户界面中，当您点击某些管道有向无环图（DAG）节点时，许多节点会展开或折叠。以下是DAG的部分展开视图（点击图像查看更大版本）。\n",
    "\n",
    "<img src=\"images/automl_tabular_classification_evaluation_pipeline.PNG\">\n",
    "\n",
    "### 获取模型评估结果\n",
    "\n",
    "在评估管道完成后，运行以下单元格以打印评估指标。"
   ]
  },
  {
   "cell_type": "code",
   "execution_count": null,
   "metadata": {
    "id": "80d4f5b11d24"
   },
   "outputs": [],
   "source": [
    "model_evaluation = job.get_model_evaluation()"
   ]
  },
  {
   "cell_type": "code",
   "execution_count": null,
   "metadata": {
    "id": "ec4ec00ab350"
   },
   "outputs": [],
   "source": [
    "# Iterate over the pipeline tasks\n",
    "for (\n",
    "    task\n",
    ") in model_evaluation._backing_pipeline_job._gca_resource.job_detail.task_details:\n",
    "    # Obtain the artifacts from the evaluation task\n",
    "    if (\n",
    "        (\"model-evaluation\" in task.task_name)\n",
    "        and (\"model-evaluation-import\" not in task.task_name)\n",
    "        and (\n",
    "            task.state == aiplatform_v1.types.PipelineTaskDetail.State.SUCCEEDED\n",
    "            or task.state == aiplatform_v1.types.PipelineTaskDetail.State.SKIPPED\n",
    "        )\n",
    "    ):\n",
    "        evaluation_metrics = task.outputs.get(\"evaluation_metrics\").artifacts[0]\n",
    "        evaluation_metrics_gcs_uri = evaluation_metrics.uri\n",
    "\n",
    "print(evaluation_metrics)\n",
    "print(evaluation_metrics_gcs_uri)"
   ]
  },
  {
   "cell_type": "markdown",
   "metadata": {
    "id": "ca00512eb89f"
   },
   "source": [
    "### 可视化指标\n",
    "\n",
    "使用条形图可视化可用的指标，如`auRoc`和`logLoss`。"
   ]
  },
  {
   "cell_type": "code",
   "execution_count": null,
   "metadata": {
    "id": "f9e38f73f838"
   },
   "outputs": [],
   "source": [
    "metrics = []\n",
    "values = []\n",
    "for i in evaluation_metrics.metadata.items():\n",
    "    metrics.append(i[0])\n",
    "    values.append(i[1])\n",
    "plt.figure(figsize=(5, 3))\n",
    "plt.bar(x=metrics, height=values)\n",
    "plt.title(\"Evaluation Metrics\")\n",
    "plt.ylabel(\"Value\")\n",
    "plt.show()"
   ]
  },
  {
   "cell_type": "markdown",
   "metadata": {
    "id": "049c9bbae2cb"
   },
   "source": [
    "获取特征归因\n",
    "\n",
    "运行下面的单元格以打印特征归因。"
   ]
  },
  {
   "cell_type": "code",
   "execution_count": null,
   "metadata": {
    "id": "03ca8c149bc6"
   },
   "outputs": [],
   "source": [
    "# Iterate over the pipeline tasks\n",
    "for (\n",
    "    task\n",
    ") in model_evaluation._backing_pipeline_job._gca_resource.job_detail.task_details:\n",
    "    # Obtain the artifacts from the feature attribution task\n",
    "    if (task.task_name == \"feature-attribution\") and (\n",
    "        task.state == aiplatform_v1.types.PipelineTaskDetail.State.SUCCEEDED\n",
    "        or task.state == aiplatform_v1.types.PipelineTaskDetail.State.SKIPPED\n",
    "    ):\n",
    "        feat_attrs = task.outputs.get(\"feature_attributions\").artifacts[0]\n",
    "        feat_attrs_gcs_uri = feat_attrs.uri\n",
    "\n",
    "print(feat_attrs)\n",
    "print(feat_attrs_gcs_uri)"
   ]
  },
  {
   "cell_type": "markdown",
   "metadata": {
    "id": "719d2cd57d10"
   },
   "source": [
    "通过获取特征属性的云存储URI，获取属性值。"
   ]
  },
  {
   "cell_type": "code",
   "execution_count": null,
   "metadata": {
    "id": "82e308dd8aca"
   },
   "outputs": [],
   "source": [
    "# Load the results\n",
    "attributions = !gsutil cat $feat_attrs_gcs_uri\n",
    "\n",
    "# Print the results obtained\n",
    "attributions = json.loads(attributions[0])\n",
    "print(attributions)"
   ]
  },
  {
   "cell_type": "markdown",
   "metadata": {
    "id": "5bfe517357f8"
   },
   "source": [
    "### 可视化特征归因\n",
    "\n",
    "使用条形图可视化每个特征的获得的归因。"
   ]
  },
  {
   "cell_type": "code",
   "execution_count": null,
   "metadata": {
    "id": "d7a7dca9e3cc"
   },
   "outputs": [],
   "source": [
    "data = attributions[\"explanation\"][\"attributions\"][0][\"featureAttributions\"]\n",
    "features = []\n",
    "attr_values = []\n",
    "for key, value in data.items():\n",
    "    features.append(key)\n",
    "    attr_values.append(value)\n",
    "\n",
    "plt.figure(figsize=(5, 3))\n",
    "plt.bar(x=features, height=attr_values)\n",
    "plt.title(\"Feature Attributions\")\n",
    "plt.xticks(rotation=90)\n",
    "plt.ylabel(\"Attribution value\")\n",
    "plt.show()"
   ]
  },
  {
   "cell_type": "markdown",
   "metadata": {
    "id": "TpV-iwP9qw9c"
   },
   "source": [
    "清理工作\n",
    "\n",
    "要清理此项目中使用的所有Google Cloud资源，您可以[删除用于教程的Google Cloud项目](https://cloud.google.com/resource-manager/docs/creating-managing-projects#shutting_down_projects)。\n",
    "\n",
    "否则，您可以删除在此教程中创建的各个资源。\n",
    "\n",
    "将 `delete_bucket` 设置为 **True** 以创建在此笔记本中创建的Cloud Storage存储桶。"
   ]
  },
  {
   "cell_type": "code",
   "execution_count": null,
   "metadata": {
    "id": "sx_vKniMq9ZX"
   },
   "outputs": [],
   "source": [
    "import os\n",
    "\n",
    "# Delete model resource\n",
    "model.delete()\n",
    "\n",
    "# Delete the dataset resource\n",
    "dataset.delete()\n",
    "\n",
    "# Delete the training job\n",
    "train_job.delete()\n",
    "\n",
    "# Delete the evaluation pipeline\n",
    "job.delete()\n",
    "\n",
    "# Delete Cloud Storage objects\n",
    "delete_bucket = False\n",
    "if delete_bucket or os.getenv(\"IS_TESTING\"):\n",
    "    ! gsutil -m rm -r $BUCKET_URI"
   ]
  }
 ],
 "metadata": {
  "colab": {
   "collapsed_sections": [],
   "name": "automl_tabular_classification_model_evaluation.ipynb",
   "toc_visible": true
  },
  "kernelspec": {
   "display_name": "Python 3",
   "name": "python3"
  }
 },
 "nbformat": 4,
 "nbformat_minor": 0
}
