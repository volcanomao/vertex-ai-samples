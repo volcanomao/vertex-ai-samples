{
 "cells": [
  {
   "cell_type": "code",
   "execution_count": null,
   "metadata": {
    "id": "modular-concentration"
   },
   "outputs": [],
   "source": [
    "# Copyright 2022 Google LLC\n",
    "#\n",
    "# Licensed under the Apache License, Version 2.0 (the \"License\");\n",
    "# you may not use this file except in compliance with the License.\n",
    "# You may obtain a copy of the License at\n",
    "#\n",
    "#     https://www.apache.org/licenses/LICENSE-2.0\n",
    "#\n",
    "# Unless required by applicable law or agreed to in writing, software\n",
    "# distributed under the License is distributed on an \"AS IS\" BASIS,\n",
    "# WITHOUT WARRANTIES OR CONDITIONS OF ANY KIND, either express or implied.\n",
    "# See the License for the specific language governing permissions and\n",
    "# limitations under the License."
   ]
  },
  {
   "cell_type": "markdown",
   "metadata": {
    "id": "b88c5cede17b"
   },
   "source": [
    "# Python的Vertex AI SDK：AutoML视频分类示例\n",
    "\n",
    "<table align=\"left\">\n",
    "<td style=\"text-align: center\">\n",
    "    <a href=\"https://colab.research.google.com/github/GoogleCloudPlatform/vertex-ai-samples/blob/main/notebooks/official/sdk/SDK_AutoML_Video_Classification.ipynb\">\n",
    "      <img src=\"https://cloud.google.com/ml-engine/images/colab-logo-32px.png\" alt=\"Google Colaboratory logo\"><br> 在Colab中打开\n",
    "    </a>\n",
    "  </td>\n",
    "  <td style=\"text-align: center\">\n",
    "    <a href=\"https://console.cloud.google.com/vertex-ai/colab/import/https:%2F%2Fgithub.com%2FGoogleCloudPlatform%2Fvertex-ai-samples%2Fblob%2Fmain%2Fnotebooks%2Fofficial%2Fsdk%2FSDK_AutoML_Video_Classification.ipynb\">\n",
    "      <img width=\"32px\" src=\"https://cloud.google.com/ml-engine/images/colab-enterprise-logo-32px.png\" alt=\"Google Cloud Colab Enterprise logo\"><br> 在Colab Enterprise中打开\n",
    "    </a>\n",
    "  </td> \n",
    "  <td style=\"text-align: center\">\n",
    "    <a href=\"https://console.cloud.google.com/vertex-ai/workbench/deploy-notebook?download_url=https://raw.githubusercontent.com/GoogleCloudPlatform/vertex-ai-samples/main/notebooks/official/sdk/SDK_AutoML_Video_Classification.ipynb\">\n",
    "      <img src=\"https://lh3.googleusercontent.com/UiNooY4LUgW_oTvpsNhPpQzsstV5W8F7rYgxgGBD85cWJoLmrOzhVs_ksK_vgx40SHs7jCqkTkCk=e14-rj-sc0xffffff-h130-w32\" alt=\"Vertex AI logo\"><br> 在Workbench中打开\n",
    "    </a>\n",
    "  </td> \n",
    "  <td style=\"text-align: center\">\n",
    "    <a href=\"https://github.com/GoogleCloudPlatform/vertex-ai-samples/blob/main/notebooks/official/sdk/SDK_AutoML_Video_Classification.ipynb\">\n",
    "      <img src=\"https://cloud.google.com/ml-engine/images/github-logo-32px.png\" alt=\"GitHub logo\"><br> 在GitHub上查看\n",
    "    </a>\n",
    "  </td>                                                                                              \n",
    "</table>"
   ]
  },
  {
   "cell_type": "markdown",
   "metadata": {
    "id": "522e8eec0fcb"
   },
   "source": [
    "## 概述\n",
    "\n",
    "本笔记本演示了如何使用Vertex AI视频数据集创建自动ML视频分类模型，以及如何为批量预测提供模型服务。要求您提供存储数据集的存储桶。\n",
    "\n",
    "注意：在测试此SDK时，您可能需要为训练、预测、存储或使用其他GCP产品产生费用。\n",
    "\n",
    "了解更多关于[视频数据的分类](https://cloud.google.com/vertex-ai/docs/training-overview#classification_for_videos)。"
   ]
  },
  {
   "cell_type": "markdown",
   "metadata": {
    "id": "afc6017b7b45"
   },
   "source": [
    "### 目标\n",
    "\n",
    "本笔记本的目标是构建一个自动化机器学习视频分类模型。已遵循以下步骤：  \n",
    "此教程使用以下谷歌云ML服务：\n",
    "- Vertex AI 数据集资源\n",
    "- AutoML 训练\n",
    "- Vertex AI 模型资源\n",
    "- Vertex AI 批处理预测\n",
    "\n",
    "执行的步骤包括：\n",
    "\n",
    "- 设置您的任务名称和GCS前缀\n",
    "- 复制AutoML视频演示训练数据以创建托管数据集\n",
    "- 在Vertex AI上创建数据集。\n",
    "- 配置训练作业\n",
    "- 启动训练作业并在Vertex AI上创建模型\n",
    "- 复制AutoML视频演示预测数据以创建批处理预测作业\n",
    "- 对模型执行批处理预测作业"
   ]
  },
  {
   "cell_type": "markdown",
   "metadata": {
    "id": "5bba1b08cba7"
   },
   "source": [
    "### 数据集\n",
    "\n",
    "##### HMDB: 一个庞大的人类动作数据库\n",
    "为了演示而准备的一些训练数据和预测数据使用了[HMDB 数据集](https://serre-lab.clps.brown.edu/resource/hmdb-a-large-human-motion-database)。\n",
    "\n",
    "HMDB 数据集采用知识共享署名4.0国际许可。要查看此许可证的副本，请访问 https://creativecommons.org/licenses/by/4.0/\n",
    "\n",
    "有关此数据集的更多信息，请访问：https://serre-lab.clps.brown.edu/resource/hmdb-a-large-human-motion-database/"
   ]
  },
  {
   "cell_type": "markdown",
   "metadata": {
    "id": "248a51c68228"
   },
   "source": [
    "成本\n",
    "\n",
    "本教程使用Google Cloud的以下计费组件：\n",
    "\n",
    "- Vertex AI\n",
    "- Cloud Storage\n",
    "\n",
    "了解[Vertex AI\n",
    "定价](https://cloud.google.com/vertex-ai/pricing)，[Cloud Storage\n",
    "定价](https://cloud.google.com/storage/pricing)，并使用[Pricing\n",
    "Calculator](https://cloud.google.com/products/calculator/)\n",
    "根据您的预期使用量生成成本估算。"
   ]
  },
  {
   "cell_type": "markdown",
   "metadata": {
    "id": "f0316df526f8"
   },
   "source": [
    "开始吧"
   ]
  },
  {
   "cell_type": "markdown",
   "metadata": {
    "id": "a2c2cb2109a0"
   },
   "source": [
    "### 为Python安装Vertex AI SDK和其他必需的软件包"
   ]
  },
  {
   "cell_type": "code",
   "execution_count": null,
   "metadata": {
    "id": "coated-remark"
   },
   "outputs": [],
   "source": [
    "! pip3 install --upgrade --quiet google-cloud-aiplatform"
   ]
  },
  {
   "cell_type": "markdown",
   "metadata": {
    "id": "ff555b32bab8"
   },
   "source": [
    "### 重新启动运行时（仅限Colab）\n",
    "\n",
    "要使用新安装的软件包，您必须在Google Colab上重新启动运行时。"
   ]
  },
  {
   "cell_type": "code",
   "execution_count": null,
   "metadata": {
    "id": "f09b4dff629a"
   },
   "outputs": [],
   "source": [
    "import sys\n",
    "\n",
    "if \"google.colab\" in sys.modules:\n",
    "\n",
    "    import IPython\n",
    "\n",
    "    app = IPython.Application.instance()\n",
    "    app.kernel.do_shutdown(True)"
   ]
  },
  {
   "cell_type": "markdown",
   "metadata": {
    "id": "ee775571c2b5"
   },
   "source": [
    "<div class=\"alert alert-block alert-warning\">\n",
    "<b>⚠️ 内核即将重新启动。在继续下一步之前，请等待它完成。 ⚠️</b>\n",
    "</div>"
   ]
  },
  {
   "cell_type": "markdown",
   "metadata": {
    "id": "92e68cfc3a90"
   },
   "source": [
    "### 在 Colab 上验证您的笔记本环境\n",
    "\n",
    "在 Google Colab 上验证您的环境。"
   ]
  },
  {
   "cell_type": "code",
   "execution_count": null,
   "metadata": {
    "id": "46604f70e831"
   },
   "outputs": [],
   "source": [
    "import sys\n",
    "\n",
    "if \"google.colab\" in sys.modules:\n",
    "\n",
    "    from google.colab import auth\n",
    "\n",
    "    auth.authenticate_user()"
   ]
  },
  {
   "cell_type": "markdown",
   "metadata": {
    "id": "4f872cd812d0"
   },
   "source": [
    "### 设置Google Cloud项目信息并为Python初始化Vertex AI SDK\n",
    "\n",
    "要开始使用Vertex AI，您必须拥有一个现有的Google Cloud项目并[启用Vertex AI API](https://console.cloud.google.com/flows/enableapi?apiid=aiplatform.googleapis.com)。了解更多关于[设置项目和开发环境](https://cloud.google.com/vertex-ai/docs/start/cloud-environment)的信息。"
   ]
  },
  {
   "cell_type": "code",
   "execution_count": null,
   "metadata": {
    "id": "wsePm9c4jmpT"
   },
   "outputs": [],
   "source": [
    "PROJECT_ID = \"[your-project-id]\"  # @param {type:\"string\"}\n",
    "\n",
    "# Set the project id\n",
    "! gcloud config set project {PROJECT_ID}\n",
    "\n",
    "LOCATION = \"us-central1\"  # @param {type: \"string\"}"
   ]
  },
  {
   "cell_type": "markdown",
   "metadata": {
    "id": "57dad372c81b"
   },
   "source": [
    "UUID\n",
    "\n",
    "为了避免在创建资源时用户之间的名称冲突，请为每个会话实例创建一个uuid。将这些uuid追加到本教程中创建的资源的相应名称上。"
   ]
  },
  {
   "cell_type": "code",
   "execution_count": null,
   "metadata": {
    "id": "4e166d927e36"
   },
   "outputs": [],
   "source": [
    "import random\n",
    "import string\n",
    "\n",
    "\n",
    "# Generate a uuid of a specifed length(default=8)\n",
    "def generate_uuid(length: int = 8) -> str:\n",
    "    return \"\".join(random.choices(string.ascii_lowercase + string.digits, k=length))\n",
    "\n",
    "\n",
    "UUID = generate_uuid()"
   ]
  },
  {
   "cell_type": "markdown",
   "metadata": {
    "id": "bucket:custom"
   },
   "source": [
    "创建一个云存储桶\n",
    "\n",
    "创建一个存储桶来存储中间产物，如数据集。\n",
    "\n",
    "使用Cloud SDK提交培训作业时，您需要将包含培训代码的Python软件包上传到云存储桶中。Vertex AI会从该软件包运行代码。在本教程中，Vertex AI还会将作业结果生成的训练模型保存在同一个存储桶中。使用这个模型产物，您可以创建Vertex AI模型资源并用于预测。"
   ]
  },
  {
   "cell_type": "code",
   "execution_count": null,
   "metadata": {
    "id": "bucket"
   },
   "outputs": [],
   "source": [
    "BUCKET_URI = (\n",
    "    f\"gs://your-bucket-name-{PROJECT_ID}-unique-{UUID}\"  # @param {type:\"string\"}\n",
    ")"
   ]
  },
  {
   "cell_type": "markdown",
   "metadata": {
    "id": "create_bucket"
   },
   "source": [
    "只有当您的存储桶尚不存在时：运行以下单元格以创建您的云存储存储桶。"
   ]
  },
  {
   "cell_type": "code",
   "execution_count": null,
   "metadata": {
    "id": "Oz8J0vmSlugt"
   },
   "outputs": [],
   "source": [
    "! gsutil mb -l $LOCATION -p $PROJECT_ID $BUCKET_URI"
   ]
  },
  {
   "cell_type": "markdown",
   "metadata": {
    "id": "incorporated-edgar"
   },
   "source": [
    "### 导入库并定义常量"
   ]
  },
  {
   "cell_type": "code",
   "execution_count": null,
   "metadata": {
    "id": "hispanic-macedonia"
   },
   "outputs": [],
   "source": [
    "import json\n",
    "\n",
    "from google.cloud import aiplatform, storage\n",
    "\n",
    "MY_PROJECT = PROJECT_ID\n",
    "MY_STAGING_BUCKET = BUCKET_URI"
   ]
  },
  {
   "cell_type": "markdown",
   "metadata": {
    "id": "historical-consciousness"
   },
   "source": [
    "### 设置您的任务名称和GCS前缀\n",
    "\n",
    "如果您想要将所有输入和输出文件集中存储在GCS位置下。"
   ]
  },
  {
   "cell_type": "code",
   "execution_count": null,
   "metadata": {
    "id": "organizational-salad"
   },
   "outputs": [],
   "source": [
    "TASK_TYPE = \"mbsdk_automl-video-training\"\n",
    "PREDICTION_TYPE = \"classification\"\n",
    "MODEL_TYPE = \"CLOUD\"\n",
    "\n",
    "TASK_NAME = f\"{TASK_TYPE}_{PREDICTION_TYPE}\"\n",
    "BUCKET_NAME = MY_STAGING_BUCKET.split(\"gs://\")[1]\n",
    "GCS_PREFIX = TASK_NAME\n",
    "\n",
    "print(f\"Bucket Name:    {BUCKET_NAME}\")\n",
    "print(f\"Task Name:      {TASK_NAME}\")"
   ]
  },
  {
   "cell_type": "markdown",
   "metadata": {
    "id": "professional-bulletin"
   },
   "source": [
    "### 复制 AutoML 视频演示训练数据以创建托管数据集"
   ]
  },
  {
   "cell_type": "code",
   "execution_count": null,
   "metadata": {
    "id": "accurate-producer"
   },
   "outputs": [],
   "source": [
    "automl_video_demo_train_data = (\n",
    "    \"gs://automl-video-demo-data/hmdb_split1_5classes_all.csv\"\n",
    ")\n",
    "\n",
    "\n",
    "gcs_source_train = f\"gs://{BUCKET_NAME}/{TASK_NAME}/data/video_classification.csv\"\n",
    "\n",
    "!gsutil cp $automl_video_demo_train_data $gcs_source_train"
   ]
  },
  {
   "cell_type": "markdown",
   "metadata": {
    "id": "rough-alert"
   },
   "source": [
    "使用Vertex AI视频数据集运行AutoML视频训练。"
   ]
  },
  {
   "cell_type": "markdown",
   "metadata": {
    "id": "adaptive-slovakia"
   },
   "source": [
    "为Python初始化Vertex AI SDK\n",
    "\n",
    "为Vertex AI初始化*client*。"
   ]
  },
  {
   "cell_type": "code",
   "execution_count": null,
   "metadata": {
    "id": "figured-fellow"
   },
   "outputs": [],
   "source": [
    "aiplatform.init(project=PROJECT_ID, staging_bucket=BUCKET_URI)"
   ]
  },
  {
   "cell_type": "markdown",
   "metadata": {
    "id": "pleasant-holmes"
   },
   "source": [
    "在Vertex AI的数据集资源上创建一个数据集\n",
    "您现在可以使用之前准备的csv文件来创建一个Vertex AI视频数据集。"
   ]
  },
  {
   "cell_type": "code",
   "execution_count": null,
   "metadata": {
    "id": "uVBfL-0TTjNS"
   },
   "outputs": [],
   "source": [
    "dataset = aiplatform.VideoDataset.create(\n",
    "    display_name=f\"temp-{TASK_NAME}\",\n",
    "    gcs_source=gcs_source_train,\n",
    "    import_schema_uri=aiplatform.schema.dataset.ioformat.video.classification,\n",
    "    sync=False,\n",
    ")"
   ]
  },
  {
   "cell_type": "code",
   "execution_count": null,
   "metadata": {
    "id": "3x4xuyIbVR_N"
   },
   "outputs": [],
   "source": [
    "dataset.wait()"
   ]
  },
  {
   "cell_type": "markdown",
   "metadata": {
    "id": "mexican-spending"
   },
   "source": [
    "启动一个培训工作，并在Vertex AI上创建一个模型。"
   ]
  },
  {
   "cell_type": "markdown",
   "metadata": {
    "id": "fdb1d50298ef"
   },
   "source": [
    "训练一个AutoML模型，您需要执行两个步骤：1）创建一个训练管道，和2）运行该管道。"
   ]
  },
  {
   "cell_type": "markdown",
   "metadata": {
    "id": "dynamic-piece"
   },
   "source": [
    "### 配置一个训练工作"
   ]
  },
  {
   "cell_type": "markdown",
   "metadata": {
    "id": "a509028760a0"
   },
   "source": [
    "使用`AutoMLVideoTrainingJob`类创建AutoML训练流水线，具有以下参数：\n",
    "\n",
    "- `display_name`：`TrainingJob`资源的人类可读名称。\n",
    "- `prediction_type`：为模型训练的任务类型。\n",
    "  - `classification`：视频分类模型。\n",
    "  - `object_tracking`：视频目标跟踪模型。\n",
    "  - `action_recognition`：视频动作识别模型。"
   ]
  },
  {
   "cell_type": "code",
   "execution_count": null,
   "metadata": {
    "id": "continuous-circular"
   },
   "outputs": [],
   "source": [
    "job = aiplatform.AutoMLVideoTrainingJob(\n",
    "    display_name=f\"temp-{TASK_NAME}\",\n",
    "    prediction_type=PREDICTION_TYPE,\n",
    "    model_type=MODEL_TYPE,\n",
    ")"
   ]
  },
  {
   "cell_type": "markdown",
   "metadata": {
    "id": "juvenile-parameter"
   },
   "source": [
    "运行训练任务"
   ]
  },
  {
   "cell_type": "markdown",
   "metadata": {
    "id": "a3b60132368e"
   },
   "source": [
    "接下来，通过调用方法`run`来运行作业以启动训练作业，参数如下：\n",
    "\n",
    "- `dataset`：用于训练模型的`Dataset`资源。\n",
    "- `model_display_name`：训练模型的可读名称。\n",
    "- `training_fraction_split`：用于训练的数据集百分比。\n",
    "- `test_fraction_split`：用于测试（留出数据）的数据集百分比。\n",
    "- `sync`：如果设置为True，则调用在等待异步批处理作业完成时会阻塞。\n",
    "\n",
    "完成时，`run`方法将返回模型资源。\n",
    "\n",
    "训练管道的执行可能需要超过24小时才能完成。"
   ]
  },
  {
   "cell_type": "code",
   "execution_count": null,
   "metadata": {
    "id": "8f135100f5d9"
   },
   "outputs": [],
   "source": [
    "import os\n",
    "import sys\n",
    "\n",
    "if os.getenv(\"IS_TESTING\"):\n",
    "    sys.exit(0)"
   ]
  },
  {
   "cell_type": "code",
   "execution_count": null,
   "metadata": {
    "id": "human-carrier"
   },
   "outputs": [],
   "source": [
    "model = job.run(\n",
    "    dataset=dataset,\n",
    "    training_fraction_split=0.8,\n",
    "    test_fraction_split=0.2,\n",
    "    model_display_name=f\"temp-{TASK_NAME}\",\n",
    "    sync=False,\n",
    ")"
   ]
  },
  {
   "cell_type": "code",
   "execution_count": null,
   "metadata": {
    "id": "abstract-textbook"
   },
   "outputs": [],
   "source": [
    "model.wait()"
   ]
  },
  {
   "cell_type": "markdown",
   "metadata": {
    "id": "noted-usage"
   },
   "source": [
    "发出批量预测请求"
   ]
  },
  {
   "cell_type": "markdown",
   "metadata": {
    "id": "ruled-smith"
   },
   "source": [
    "复制AutoML视频演示的预测数据，以创建批量预测作业。"
   ]
  },
  {
   "cell_type": "code",
   "execution_count": null,
   "metadata": {
    "id": "polished-dispatch"
   },
   "outputs": [],
   "source": [
    "automl_video_demo_batch_prediction_data = (\n",
    "    \"gs://automl-video-demo-data/hmdb_split1_predict.jsonl\"\n",
    ")\n",
    "\n",
    "gcs_source_batch_prediction = (\n",
    "    f\"gs://{BUCKET_NAME}/{TASK_NAME}/data/video_classification_batch_prediction.jsonl\"\n",
    ")\n",
    "gcs_destination_prefix_batch_prediction = (\n",
    "    f\"gs://{BUCKET_NAME}/{TASK_NAME}/batch_prediction\"\n",
    ")\n",
    "\n",
    "!gsutil cp $automl_video_demo_batch_prediction_data $gcs_source_batch_prediction"
   ]
  },
  {
   "cell_type": "markdown",
   "metadata": {
    "id": "2bd262d624e3"
   },
   "source": [
    "### 在模型上执行批量预测任务"
   ]
  },
  {
   "cell_type": "markdown",
   "metadata": {
    "id": "b488cb43682a"
   },
   "source": [
    "现在你的模型资源已经训练完成，你可以通过调用batch_predict()方法进行批量预测，使用以下参数：\n",
    "\n",
    "- `job_display_name`：批量预测作业的可读名称。\n",
    "- `gcs_source`：一个或多个批量请求输入文件的列表。\n",
    "- `gcs_destination_prefix`：用于存储批量预测结果的Cloud Storage位置。\n",
    "- `sync`：如果设置为True，调用将会阻塞，等待异步批处理作业完成。"
   ]
  },
  {
   "cell_type": "code",
   "execution_count": null,
   "metadata": {
    "id": "piano-middle"
   },
   "outputs": [],
   "source": [
    "batch_predict_job = model.batch_predict(\n",
    "    job_display_name=f\"temp-{TASK_NAME}\",\n",
    "    gcs_source=gcs_source_batch_prediction,\n",
    "    gcs_destination_prefix=gcs_destination_prefix_batch_prediction,\n",
    "    sync=False,\n",
    ")"
   ]
  },
  {
   "cell_type": "code",
   "execution_count": null,
   "metadata": {
    "id": "e06e39558a8e"
   },
   "outputs": [],
   "source": [
    "batch_predict_job.wait()"
   ]
  },
  {
   "cell_type": "markdown",
   "metadata": {
    "id": "8359d586c1e8"
   },
   "source": [
    "### 获取预测结果\n",
    "\n",
    "接下来，从已完成的批量预测作业中获取结果。\n",
    "\n",
    "结果将被写入您在批量预测请求中指定的云存储输出桶中。您调用iter_outputs()方法以获取生成结果的每个云存储文件的列表。每个文件以JSON格式包含一个或多个预测请求：\n",
    "\n",
    "- `content`：预测请求。\n",
    "- `prediction`：预测响应。\n",
    "\n",
    "预测响应包含以下字段：\n",
    "\n",
    "- `ids`：每个预测请求的内部分配的唯一标识符。\n",
    "- `displayNames`：每个类别标签的类名。\n",
    "- `confidences`：每个类别标签的预测置信度，介于0和1之间。\n",
    "- `timeSegmentStart`：视频中开始视频序列的时间偏移。\n",
    "- `timeSegmentEnd`：视频中结束视频序列的时间偏移。"
   ]
  },
  {
   "cell_type": "code",
   "execution_count": null,
   "metadata": {
    "id": "visible-scientist"
   },
   "outputs": [],
   "source": [
    "bp_iter_outputs = batch_predict_job.iter_outputs()\n",
    "\n",
    "prediction_results = list()\n",
    "for blob in bp_iter_outputs:\n",
    "    if blob.name.split(\"/\")[-1].startswith(\"prediction\"):\n",
    "        prediction_results.append(blob.name)\n",
    "client = storage.Client()\n",
    "bucket = client.get_bucket(BUCKET_URI.replace(\"gs://\", \"\"))\n",
    "for prediction_result in prediction_results:\n",
    "    gfile_name = f\"{prediction_result}\"\n",
    "    data = bucket.blob(gfile_name).download_as_string()\n",
    "    data = json.loads(data)\n",
    "    print(data)"
   ]
  },
  {
   "cell_type": "markdown",
   "metadata": {
    "id": "0472cd54c140"
   },
   "source": [
    "## 清理\n",
    "<a name=\"section-13\"></a>\n",
    "\n",
    "要清理本项目中使用的所有Google Cloud资源，您可以[删除用于本教程的Google Cloud项目](https://cloud.google.com/resource-manager/docs/creating-managing-projects#shutting_down_projects)。\n",
    "\n",
    "否则，您可以删除本教程中创建的各个资源。"
   ]
  },
  {
   "cell_type": "code",
   "execution_count": null,
   "metadata": {
    "id": "2f60a4fb2863"
   },
   "outputs": [],
   "source": [
    "delete_bucket = False\n",
    "\n",
    "# Delete the dataset using the Vertex dataset object\n",
    "dataset.delete()\n",
    "\n",
    "# Delete the model using the Vertex model object\n",
    "model.delete()\n",
    "\n",
    "# Delete the AutoML or Pipeline training job\n",
    "job.delete()\n",
    "\n",
    "# Delete the batch prediction job using the Vertex batch prediction object\n",
    "batch_predict_job.delete()\n",
    "\n",
    "# Delete the Cloud Storage bucket\n",
    "if delete_bucket:\n",
    "    ! gsutil -m rm -r $BUCKET_URI"
   ]
  }
 ],
 "metadata": {
  "colab": {
   "collapsed_sections": [],
   "name": "SDK_AutoML_Video_Classification.ipynb",
   "toc_visible": true
  },
  "kernelspec": {
   "display_name": "Python 3",
   "name": "python3"
  }
 },
 "nbformat": 4,
 "nbformat_minor": 0
}
