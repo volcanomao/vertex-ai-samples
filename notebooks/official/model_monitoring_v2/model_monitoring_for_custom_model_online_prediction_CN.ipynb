{
 "cells": [
  {
   "cell_type": "code",
   "execution_count": null,
   "metadata": {
    "id": "9QgSVkLcRUOD"
   },
   "outputs": [],
   "source": [
    "# Copyright 2024 Google LLC\n",
    "#\n",
    "# Licensed under the Apache License, Version 2.0 (the \"License\");\n",
    "# you may not use this file except in compliance with the License.\n",
    "# You may obtain a copy of the License at\n",
    "#\n",
    "#     https://www.apache.org/licenses/LICENSE-2.0\n",
    "#\n",
    "# Unless required by applicable law or agreed to in writing, software\n",
    "# distributed under the License is distributed on an \"AS IS\" BASIS,\n",
    "# WITHOUT WARRANTIES OR CONDITIONS OF ANY KIND, either express or implied.\n",
    "# See the License for the specific language governing permissions and\n",
    "# limitations under the License."
   ]
  },
  {
   "cell_type": "markdown",
   "metadata": {
    "id": "ndfGn8c4bI_G"
   },
   "source": [
    "# Vertex AI自定义模型在线预测的模型监控\n",
    "\n",
    "<table align=\"left\">\n",
    "  <td style=\"text-align: center\">\n",
    "    <a href=\"https://colab.research.google.com/github/GoogleCloudPlatform/vertex-ai-samples/blob/main/notebooks/official/model_monitoring_v2/model_monitoring_for_custom_model_online_prediction.ipynb\">\n",
    "      <img src=\"https://cloud.google.com/ml-engine/images/colab-logo-32px.png\" alt=\"Google Colaboratory logo\"><br> 在Colab中打开\n",
    "    </a>\n",
    "  </td>\n",
    "  <td style=\"text-align: center\">\n",
    "    <a href=\"https://console.cloud.google.com/vertex-ai/colab/import/https:%2F%2Fraw.githubusercontent.com%2FGoogleCloudPlatform%2Fvertex-ai-samples%2Fmain%2Fnotebooks%2Fofficial%2model_monitoring_v2%2model_monitoring_for_custom_model_online_prediction.ipynb\">\n",
    "      <img width=\"32px\" src=\"https://lh3.googleusercontent.com/JmcxdQi-qOpctIvWKgPtrzZdJJK-J3sWE1RsfjZNwshCFgE_9fULcNpuXYTilIR2hjwN\" alt=\"Google Cloud Colab Enterprise logo\"><br> 在Colab Enterprise中打开\n",
    "    </a>\n",
    "  </td>    \n",
    "  <td style=\"text-align: center\">\n",
    "    <a href=\"https://console.cloud.google.com/vertex-ai/workbench/deploy-notebook?download_url=https://raw.githubusercontent.com/GoogleCloudPlatform/vertex-ai-samples/blob/main/notebooks/official/model_monitoring_v2/model_monitoring_for_custom_model_online_prediction.ipynb\">\n",
    "      <img src=\"https://lh3.googleusercontent.com/UiNooY4LUgW_oTvpsNhPpQzsstV5W8F7rYgxgGBD85cWJoLmrOzhVs_ksK_vgx40SHs7jCqkTkCk=e14-rj-sc0xffffff-h130-w32\" alt=\"Vertex AI logo\"><br> 在工作台中打开\n",
    "    </a>\n",
    "  </td>\n",
    "  <td style=\"text-align: center\">\n",
    "    <a href=\"https://github.com/GoogleCloudPlatform/vertex-ai-samples/blob/main/notebooks/official/model_monitoring_v2/model_monitoring_for_custom_model_online_prediction.ipynb\">\n",
    "      <img src=\"https://cloud.google.com/ml-engine/images/github-logo-32px.png\" alt=\"GitHub logo\"><br> 在GitHub上查看\n",
    "    </a>\n",
    "  </td>\n",
    "</table>"
   ]
  },
  {
   "cell_type": "markdown",
   "metadata": {
    "id": "w1owVk_lTGqE"
   },
   "source": [
    "# 概述\n",
    "\n",
    "本教程演示了如何使用 Python 的 Vertex AI SDK 为您的模型设置 Vertex AI Model Monitoring V2。"
   ]
  },
  {
   "cell_type": "markdown",
   "metadata": {
    "id": "FokOJ8IHTJEJ"
   },
   "source": [
    "### 目标\n",
    "\n",
    "在本教程中，您将完成以下步骤：\n",
    "\n",
    "- 将自定义模型上传到 Vertex AI 模型注册表。\n",
    "- 将模型部署到启用请求-响应日志记录的 Vertex AI 终端点。\n",
    "- 生成一些在线预测流量。\n",
    "- 创建一个模型监视器。\n",
    "- 运行一项按需模型监视作业，以分析在线预测流量和训练数据集之间的数据漂移。\n",
    "- 运行一项按需模型监视作业，以分析在线预测流量和GCS基线数据集之间的特征归因漂移。\n",
    "- 创建一个时间表，持续运行模型监视作业，以分析在线预测流量和训练数据集之间的数据漂移。\n",
    "\n",
    "\n",
    "### 成本\n",
    "\n",
    "在公共预览期间，Vertex AI 模型监视 v2 是免费的，但您仍将收到以下 Google Cloud 服务的账单：\n",
    "\n",
    "* [BigQuery](https://cloud.google.com/bigquery/pricing)\n",
    "* [Cloud Storage](https://cloud.google.com/storage/pricing)\n",
    "* [Vertex AI 在线预测](https://cloud.google.com/vertex-ai/pricing#prediction-prices)\n",
    "* [Vertex AI 批量解释作业](https://cloud.google.com/vertex-ai/pricing#prediction-prices)（如果您运行特征归因漂移示例）。"
   ]
  },
  {
   "cell_type": "markdown",
   "metadata": {
    "id": "6eUWh8W2654v"
   },
   "source": [
    "## 开始使用"
   ]
  },
  {
   "cell_type": "markdown",
   "metadata": {
    "id": "nisFtSUFT29-"
   },
   "source": [
    "安装 Vertex AI SDK 和其他必需的软件包。"
   ]
  },
  {
   "cell_type": "code",
   "execution_count": null,
   "metadata": {
    "id": "UrZ6qs-h68mf"
   },
   "outputs": [],
   "source": [
    "! pip3 install --upgrade --quiet \\\n",
    "    google-cloud-bigquery \\\n",
    "    pandas \\\n",
    "    pandas_gbq \\\n",
    "    pyarrow \\\n",
    "    tensorflow_data_validation[visualization] \\\n",
    "    google-cloud-aiplatform"
   ]
  },
  {
   "cell_type": "markdown",
   "metadata": {
    "id": "s8ol0OhLT8SQ"
   },
   "source": [
    "检查 google-cloud-aiplatform 的版本是否为 1.51.0 或更高版本。"
   ]
  },
  {
   "cell_type": "code",
   "execution_count": null,
   "metadata": {
    "id": "0seyjP7sT95U"
   },
   "outputs": [],
   "source": [
    "from google.cloud import aiplatform\n",
    "\n",
    "aiplatform.__version__"
   ]
  },
  {
   "cell_type": "markdown",
   "metadata": {
    "id": "1ZLfsvsf7FV9"
   },
   "source": [
    "重新启动运行时（仅适用于Colab）\n",
    "\n",
    "要使用新安装的软件包，您必须在Google Colab上重新启动运行时。"
   ]
  },
  {
   "cell_type": "code",
   "execution_count": null,
   "metadata": {
    "id": "BDQUWZ7E7Fx3"
   },
   "outputs": [],
   "source": [
    "import sys\n",
    "\n",
    "if \"google.colab\" in sys.modules:\n",
    "\n",
    "    import IPython\n",
    "\n",
    "    app = IPython.Application.instance()\n",
    "    app.kernel.do_shutdown(True)"
   ]
  },
  {
   "cell_type": "markdown",
   "metadata": {
    "id": "EH7RQ-Q8UDII"
   },
   "source": [
    "<div class=\"alert alert-block alert-warning\"> <b>⚠️ 内核将重新启动。在继续下一步之前，请等待它完成。⚠️</b> </div>"
   ]
  },
  {
   "cell_type": "markdown",
   "metadata": {
    "id": "hgkRNiLHUExQ"
   },
   "source": [
    "### 在Google Colab上验证您的笔记本环境。"
   ]
  },
  {
   "cell_type": "code",
   "execution_count": null,
   "metadata": {
    "id": "gMn32IkDUGRn"
   },
   "outputs": [],
   "source": [
    "import sys\n",
    "\n",
    "if \"google.colab\" in sys.modules:\n",
    "\n",
    "    from google.colab import auth\n",
    "\n",
    "    auth.authenticate_user()"
   ]
  },
  {
   "cell_type": "markdown",
   "metadata": {
    "id": "63oA1v7UUJBA"
   },
   "source": [
    "### 设置Google Cloud项目信息并初始化Vertex AI SDK\n",
    "\n",
    "要开始使用Vertex AI，您必须拥有一个现有的Google Cloud项目并[启用Vertex AI API](https://console.cloud.google.com/flows/enableapi?apiid=aiplatform.googleapis.com)。了解更多关于[设置项目和开发环境](https://cloud.google.com/vertex-ai/docs/start/cloud-environment)的信息。"
   ]
  },
  {
   "cell_type": "code",
   "execution_count": null,
   "metadata": {
    "id": "7-qYfaAsUKux"
   },
   "outputs": [],
   "source": [
    "PROJECT_ID = \"[your-project-id]\"  # @param {type:\"string\"}\n",
    "LOCATION = \"us-central1\"  # @param {type:\"string\"}\n",
    "\n",
    "\n",
    "import os\n",
    "\n",
    "import vertexai\n",
    "\n",
    "! gcloud config set project $PROJECT_ID\n",
    "os.environ[\"GOOGLE_CLOUD_PROJECT\"] = PROJECT_ID\n",
    "! gcloud config set ai/region $LOCATION\n",
    "\n",
    "vertexai.init(project=PROJECT_ID, location=LOCATION)"
   ]
  },
  {
   "cell_type": "markdown",
   "metadata": {
    "id": "QNiB5LfBaft-"
   },
   "source": [
    "开始模型监测教程##"
   ]
  },
  {
   "cell_type": "markdown",
   "metadata": {
    "id": "l_BdNCfk7Hjz"
   },
   "source": [
    "### 步骤1：创建一个云存储桶\n",
    "\n",
    "创建一个云存储桶来存储中间产物，如数据集。"
   ]
  },
  {
   "cell_type": "code",
   "execution_count": null,
   "metadata": {
    "id": "3_CZRJ5L60Mi"
   },
   "outputs": [],
   "source": [
    "# Create a Cloud Storage bucket\n",
    "BUCKET_URI = f\"gs://your-bucket-name-{PROJECT_ID}-unique\"  # @param {type:\"string\"}"
   ]
  },
  {
   "cell_type": "markdown",
   "metadata": {
    "id": "lvHsyHsi7Dg8"
   },
   "source": [
    "只有当您的桶不存在时才运行以下单元格以创建您的云存储桶。"
   ]
  },
  {
   "cell_type": "code",
   "execution_count": null,
   "metadata": {
    "id": "mrHlJi-e7AyX"
   },
   "outputs": [],
   "source": [
    "! gsutil mb -l {LOCATION} -p {PROJECT_ID} {BUCKET_URI}"
   ]
  },
  {
   "cell_type": "markdown",
   "metadata": {
    "id": "5ZLxDjB6lYXx"
   },
   "source": [
    "### 步骤2：在Vertex AI模型注册表中准备一个模型"
   ]
  },
  {
   "cell_type": "markdown",
   "metadata": {
    "id": "q26J5e-D7p8e"
   },
   "source": [
    "您可以在Vertex AI模型注册表中注册一个模型及其相关文件，使您能够执行在线提供或批量预测。或者，您可以注册一个引用/占位模型，其中仅包含该模型的名称。\n",
    "在这个笔记本中，您将注册一个带有文件的模型，因为您将运行一个批量预测作业。"
   ]
  },
  {
   "cell_type": "code",
   "execution_count": null,
   "metadata": {
    "id": "SwrD1CnmmJsk"
   },
   "outputs": [],
   "source": [
    "import google.cloud.aiplatform as aiplatform\n",
    "\n",
    "MODEL_PATH = \"gs://mco-mm/churn\"\n",
    "MODEL_NAME = \"churn\"\n",
    "IMAGE = \"us-docker.pkg.dev/cloud-aiplatform/prediction/tf2-cpu.2-5:latest\"\n",
    "\n",
    "model = aiplatform.Model.upload(\n",
    "    display_name=MODEL_NAME,\n",
    "    artifact_uri=MODEL_PATH,\n",
    "    serving_container_image_uri=IMAGE,\n",
    "    sync=True,\n",
    ")\n",
    "\n",
    "MODEL_ID = model.resource_name.split(\"/\")[-1]"
   ]
  },
  {
   "cell_type": "markdown",
   "metadata": {
    "id": "5p3buU6pC5B6"
   },
   "source": [
    "### 步骤 3：部署模型到启用请求-响应日志记录的 Vertex AI 端点"
   ]
  },
  {
   "cell_type": "markdown",
   "metadata": {
    "id": "8h-EOsirC8dY"
   },
   "source": [
    "创建一个启用日志记录的终端节点，并部署模型到这个终端节点。"
   ]
  },
  {
   "cell_type": "code",
   "execution_count": null,
   "metadata": {
    "id": "QjKJ4yE3C-p4"
   },
   "outputs": [],
   "source": [
    "# Create an endpoint with logging enabled. Specify the logging sampling rate and BigQuery destination.\n",
    "import pandas as pd\n",
    "\n",
    "TIMESTAMP = pd.Timestamp.utcnow().strftime(\"%Y%m%d%H%M%S\")\n",
    "ENDPOINT_DISPLAY_NAME = f\"churn_endpoint_{TIMESTAMP}\"\n",
    "BQ_LOGGING_DATASET = f\"churn_production_{TIMESTAMP}\"\n",
    "BQ_LOGGING_TABLE = f\"bq://{PROJECT_ID}.{BQ_LOGGING_DATASET}.req_resp\"\n",
    "\n",
    "endpoint = aiplatform.Endpoint.create(\n",
    "    display_name=ENDPOINT_DISPLAY_NAME,\n",
    "    enable_request_response_logging=True,\n",
    "    request_response_logging_sampling_rate=1.0,\n",
    "    request_response_logging_bq_destination_table=BQ_LOGGING_TABLE,\n",
    ")\n",
    "\n",
    "# Deploy model to this endpoint\n",
    "endpoint.deploy(\n",
    "    model=model,\n",
    "    traffic_percentage=100,\n",
    "    min_replica_count=1,\n",
    "    max_replica_count=1,\n",
    "    machine_type=\"n1-standard-4\",\n",
    ")"
   ]
  },
  {
   "cell_type": "markdown",
   "metadata": {
    "id": "dRCZNbtuDJPV"
   },
   "source": [
    "运行预测测试"
   ]
  },
  {
   "cell_type": "code",
   "execution_count": null,
   "metadata": {
    "id": "l-3Wp4TcDJ51"
   },
   "outputs": [],
   "source": [
    "DEFAULT_INPUT = {\n",
    "    \"cnt_ad_reward\": 0,\n",
    "    \"cnt_challenge_a_friend\": 0,\n",
    "    \"cnt_completed_5_levels\": 1,\n",
    "    \"cnt_level_complete_quickplay\": 3,\n",
    "    \"cnt_level_end_quickplay\": 5,\n",
    "    \"cnt_level_reset_quickplay\": 2,\n",
    "    \"cnt_level_start_quickplay\": 6,\n",
    "    \"cnt_post_score\": 34,\n",
    "    \"cnt_spend_virtual_currency\": 0,\n",
    "    \"cnt_use_extra_steps\": 0,\n",
    "    \"cnt_user_engagement\": 120,\n",
    "    \"country\": \"Denmark\",\n",
    "    \"dayofweek\": 3,\n",
    "    \"julianday\": 254,\n",
    "    \"language\": \"da-dk\",\n",
    "    \"month\": 9,\n",
    "    \"operating_system\": \"IOS\",\n",
    "    \"user_pseudo_id\": \"104B0770BAE16E8B53DF330C95881893\",\n",
    "}"
   ]
  },
  {
   "cell_type": "code",
   "execution_count": null,
   "metadata": {
    "id": "BGZ1s6JODM_O"
   },
   "outputs": [],
   "source": [
    "import pprint as pp\n",
    "\n",
    "import matplotlib.pyplot as plt\n",
    "\n",
    "try:\n",
    "    resp = endpoint.predict([DEFAULT_INPUT])\n",
    "    for i in resp.predictions:\n",
    "        vals = i[\"churned_values\"]\n",
    "        probs = i[\"churned_probs\"]\n",
    "    for i in range(len(vals)):\n",
    "        print(vals[i], probs[i])\n",
    "    plt.pie(probs, labels=vals)\n",
    "    pp.pprint(resp)\n",
    "except Exception as ex:\n",
    "    print(\"prediction request failed\", ex)"
   ]
  },
  {
   "cell_type": "markdown",
   "metadata": {
    "id": "dXxAxs5oDQf0"
   },
   "source": [
    "发送一些在线预测请求到端点"
   ]
  },
  {
   "cell_type": "code",
   "execution_count": null,
   "metadata": {
    "id": "hCezq-GFDRAH"
   },
   "outputs": [],
   "source": [
    "import sys\n",
    "import time\n",
    "\n",
    "from google.cloud import bigquery\n",
    "\n",
    "# Here we just use subset of the training dataset as prediction data\n",
    "DATASET_BQ_URI = \"bq://mco-mm.bqmlga4.train\"\n",
    "GROUND_TRUTH = \"churned\"\n",
    "\n",
    "bqclient = bigquery.Client(project=PROJECT_ID)\n",
    "table = bigquery.TableReference.from_string(DATASET_BQ_URI[5:])\n",
    "\n",
    "rows = bqclient.list_rows(table, max_results=1000)\n",
    "count = 0\n",
    "for row in rows:\n",
    "    instance = {}\n",
    "    for key, value in row.items():\n",
    "        if key == GROUND_TRUTH:\n",
    "            continue\n",
    "        if value is None:\n",
    "            value = \"\"\n",
    "        instance[key] = value\n",
    "    endpoint.predict(instances=[instance])\n",
    "    # Print progress\n",
    "    if count % 100 == 0:\n",
    "        print(f\"Sent: {count} requests\")\n",
    "    count = count + 1\n",
    "    time.sleep(0.01)"
   ]
  },
  {
   "cell_type": "markdown",
   "metadata": {
    "id": "Lw-VWGwcDVLg"
   },
   "source": [
    "请检查终端点日志表。"
   ]
  },
  {
   "cell_type": "code",
   "execution_count": null,
   "metadata": {
    "id": "lwJ1YEZkDZTH"
   },
   "outputs": [],
   "source": [
    "import pandas as pd\n",
    "\n",
    "query_string = (\n",
    "    f\"SELECT * FROM `{BQ_LOGGING_TABLE[5:]}` ORDER BY logging_time DESC LIMIT 10\"\n",
    ")\n",
    "pd.read_gbq(query_string, project_id=PROJECT_ID)"
   ]
  },
  {
   "cell_type": "markdown",
   "metadata": {
    "id": "RuwAoHTilv1j"
   },
   "source": [
    "### 第四步：创建模型监视器"
   ]
  },
  {
   "cell_type": "markdown",
   "metadata": {
    "id": "9hH4wSCXfgoE"
   },
   "source": [
    "定义模型监控模式"
   ]
  },
  {
   "cell_type": "markdown",
   "metadata": {
    "id": "jyg0cMAdfrAa"
   },
   "source": [
    "监控模式是模型监视器的必需配置。模式包括输入特征名称、预测输出和标签（如果可用），以及它们各自的数据类型。\n",
    "\n",
    "**注意：模式仅对AutoML表（回归/分类）是可选的，因为当可用时将会自动获取（如果模型监控无法检索到模式，则您将需要提供自己的模式）。**"
   ]
  },
  {
   "cell_type": "code",
   "execution_count": null,
   "metadata": {
    "id": "GR-4eTn3fkHk"
   },
   "outputs": [],
   "source": [
    "from vertexai.resources.preview import ml_monitoring\n",
    "\n",
    "MODEL_MONITORING_SCHEMA = ml_monitoring.spec.ModelMonitoringSchema(\n",
    "    feature_fields=[\n",
    "        ml_monitoring.spec.FieldSchema(name=\"user_pseudo_id\", data_type=\"string\"),\n",
    "        ml_monitoring.spec.FieldSchema(name=\"country\", data_type=\"string\"),\n",
    "        ml_monitoring.spec.FieldSchema(name=\"operating_system\", data_type=\"string\"),\n",
    "        ml_monitoring.spec.FieldSchema(name=\"cnt_user_engagement\", data_type=\"integer\"),\n",
    "        ml_monitoring.spec.FieldSchema(\n",
    "            name=\"cnt_level_start_quickplay\", data_type=\"integer\"\n",
    "        ),\n",
    "        ml_monitoring.spec.FieldSchema(\n",
    "            name=\"cnt_level_end_quickplay\", data_type=\"integer\"\n",
    "        ),\n",
    "        ml_monitoring.spec.FieldSchema(\n",
    "            name=\"cnt_level_complete_quickplay\", data_type=\"integer\"\n",
    "        ),\n",
    "        ml_monitoring.spec.FieldSchema(\n",
    "            name=\"cnt_level_reset_quickplay\", data_type=\"integer\"\n",
    "        ),\n",
    "        ml_monitoring.spec.FieldSchema(name=\"cnt_post_score\", data_type=\"integer\"),\n",
    "        ml_monitoring.spec.FieldSchema(\n",
    "            name=\"cnt_spend_virtual_currency\", data_type=\"integer\"\n",
    "        ),\n",
    "        ml_monitoring.spec.FieldSchema(name=\"cnt_ad_reward\", data_type=\"integer\"),\n",
    "        ml_monitoring.spec.FieldSchema(\n",
    "            name=\"cnt_challenge_a_friend\", data_type=\"integer\"\n",
    "        ),\n",
    "        ml_monitoring.spec.FieldSchema(\n",
    "            name=\"cnt_completed_5_levels\", data_type=\"integer\"\n",
    "        ),\n",
    "        ml_monitoring.spec.FieldSchema(name=\"cnt_use_extra_steps\", data_type=\"integer\"),\n",
    "        ml_monitoring.spec.FieldSchema(name=\"month\", data_type=\"categorical\"),\n",
    "        ml_monitoring.spec.FieldSchema(name=\"julianday\", data_type=\"integer\"),\n",
    "        ml_monitoring.spec.FieldSchema(name=\"dayofweek\", data_type=\"integer\"),\n",
    "    ],\n",
    "    ground_truth_fields=[\n",
    "        ml_monitoring.spec.FieldSchema(name=\"churned\", data_type=\"categorical\")\n",
    "    ],\n",
    "    prediction_fields=[\n",
    "        ml_monitoring.spec.FieldSchema(\n",
    "            name=\"predicted_churned\", data_type=\"categorical\"\n",
    "        )\n",
    "    ],\n",
    ")"
   ]
  },
  {
   "cell_type": "markdown",
   "metadata": {
    "id": "L8KuANNbiiEV"
   },
   "source": [
    "####（可选）定义训练数据集"
   ]
  },
  {
   "cell_type": "markdown",
   "metadata": {
    "id": "SvFZRodti3qN"
   },
   "source": [
    "训练数据集可以作为基线数据集，用于分析生产环境中的数据漂移。您可以在模型监控中注册训练数据集。"
   ]
  },
  {
   "cell_type": "code",
   "execution_count": null,
   "metadata": {
    "id": "CSqE4_roiw-q"
   },
   "outputs": [],
   "source": [
    "from vertexai.resources.preview import ml_monitoring\n",
    "\n",
    "# Copy files to your projects gs bucket to avoid permission issues.\n",
    "# Ignore any error(s) for bucket already exists.\n",
    "PUBLIC_TRAINING_DATASET = (\n",
    "    \"gs://cloud-samples-data/vertex-ai/model-monitoring/churn/churn_training.csv\"\n",
    ")\n",
    "TRAINING_URI = f\"{BUCKET_URI}/model-monitoring/churn/churn_training.csv\"\n",
    "\n",
    "! gsutil copy $PUBLIC_TRAINING_DATASET $TRAINING_URI\n",
    "\n",
    "TRAINING_DATASET = ml_monitoring.spec.MonitoringInput(\n",
    "    gcs_uri=TRAINING_URI, data_format=\"csv\"\n",
    ")"
   ]
  },
  {
   "cell_type": "markdown",
   "metadata": {
    "id": "5ZnBZUEMjtDD"
   },
   "source": [
    "创建一个模型监视器"
   ]
  },
  {
   "cell_type": "markdown",
   "metadata": {
    "id": "OPBdgqz6jv9_"
   },
   "source": [
    "一个模型监控器是一个顶层资源，用于管理您的指标和模型监控作业。"
   ]
  },
  {
   "cell_type": "code",
   "execution_count": null,
   "metadata": {
    "id": "l_d917Ory595"
   },
   "outputs": [],
   "source": [
    "from vertexai.resources.preview import ml_monitoring\n",
    "\n",
    "my_model_monitor = ml_monitoring.ModelMonitor.create(\n",
    "    project=PROJECT_ID,\n",
    "    location=LOCATION,\n",
    "    display_name=\"churn_model_monitor\",\n",
    "    model_name=model.resource_name,\n",
    "    model_version_id=\"1\",\n",
    "    training_dataset=TRAINING_DATASET,\n",
    "    model_monitoring_schema=MODEL_MONITORING_SCHEMA,\n",
    ")\n",
    "MODEL_MONITOR_ID = my_model_monitor.name\n",
    "print(f\"MODEL MONITOR {MODEL_MONITOR_ID} created.\")"
   ]
  },
  {
   "cell_type": "markdown",
   "metadata": {
    "id": "dkHlwQuVli_2"
   },
   "source": [
    "### 步骤5：运行一个按需模型监控作业"
   ]
  },
  {
   "cell_type": "markdown",
   "metadata": {
    "id": "GpVp3fh3rkov"
   },
   "source": [
    "#### 定义监控目标配置\n",
    "\n",
    "对于表格模型，模型监控支持以下目标：\n",
    "\n",
    "- **输入特征漂移检测**\n",
    "\n",
    "    模型监控提供了针对分类和数值特征类型的漂移分析，支持以下指标：\n",
    "\n",
    "    - 分类特征：`Jensen Shannon Divergence`、`L Infinity`\n",
    "    - 数值特征：`Jensen Shannon Divergence`\n",
    "\n",
    "    您可以通过在`ml_monitoring.spec.DataDriftSpec`规范的`features`字段中指定仅分析感兴趣的特征来选择分析的特征。如果未指定，则将分析模型模式中的所有输入特征。此外，您可以选择为分类或数值特征设置默认阈值，也可以为单个特征指定阈值。如果检测到的漂移超过阈值，将通过电子邮件或其他通知渠道发送警报。\n",
    "\n",
    "- **预测输出漂移检测**\n",
    "\n",
    "    与输入特征漂移检测类似，预测输出漂移检测识别预测输出中的数据漂移。\n",
    "\n",
    "- **特征归因漂移检测**\n",
    "\n",
    "    模型监控利用Vertex Explainable AI来监视特征归因。可解释的AI使您能够了解每个特征对结果预测的相对贡献。实质上，它评估了每个特征影响的大小。\n",
    "    您必须使用特征归因目标配置配置`Explanation`规范。"
   ]
  },
  {
   "cell_type": "markdown",
   "metadata": {
    "id": "XZgrufEwzuFC"
   },
   "source": [
    "输入特征漂移规范"
   ]
  },
  {
   "cell_type": "code",
   "execution_count": null,
   "metadata": {
    "id": "rPkSsCZSzu50"
   },
   "outputs": [],
   "source": [
    "from vertexai.resources.preview import ml_monitoring\n",
    "\n",
    "FEATURE_THRESHOLDS = {\n",
    "    \"country\": 0.003,\n",
    "    \"cnt_user_engagement\": 0.004,\n",
    "}\n",
    "\n",
    "FEATURE_DRIFT_SPEC = ml_monitoring.spec.DataDriftSpec(\n",
    "    categorical_metric_type=\"l_infinity\",\n",
    "    numeric_metric_type=\"jensen_shannon_divergence\",\n",
    "    default_categorical_alert_threshold=0.2,\n",
    "    default_numeric_alert_threshold=0.3,\n",
    "    feature_alert_thresholds=FEATURE_THRESHOLDS,\n",
    ")"
   ]
  },
  {
   "cell_type": "markdown",
   "metadata": {
    "id": "i6rqFXXWzxuQ"
   },
   "source": [
    "预测输出漂移规范"
   ]
  },
  {
   "cell_type": "code",
   "execution_count": null,
   "metadata": {
    "id": "dEQnbNlYgQ8y"
   },
   "outputs": [],
   "source": [
    "PREDICTION_OUTPUT_DRIFT_SPEC = ml_monitoring.spec.DataDriftSpec(\n",
    "    categorical_metric_type=\"l_infinity\",\n",
    "    numeric_metric_type=\"jensen_shannon_divergence\",\n",
    "    default_categorical_alert_threshold=0.1,\n",
    "    default_numeric_alert_threshold=0.1,\n",
    ")"
   ]
  },
  {
   "cell_type": "markdown",
   "metadata": {
    "id": "WzdHn15az3pg"
   },
   "source": [
    "特征归属规范"
   ]
  },
  {
   "cell_type": "code",
   "execution_count": null,
   "metadata": {
    "id": "RwGi882Fz5KA"
   },
   "outputs": [],
   "source": [
    "FEATURE_ATTRIBUTION_SPEC = ml_monitoring.spec.FeatureAttributionSpec(\n",
    "    default_alert_threshold=0.0003,\n",
    "    feature_alert_thresholds={\"cnt_ad_reward\": 0.0001},\n",
    ")"
   ]
  },
  {
   "cell_type": "markdown",
   "metadata": {
    "id": "avV5qcCUr9IT"
   },
   "source": [
    "####定义警报通知和指标输出规范。"
   ]
  },
  {
   "cell_type": "markdown",
   "metadata": {
    "id": "8N9YlXzOvyOs"
   },
   "source": [
    "模型监控支持以下通知方法：\n",
    "\n",
    "*  电子邮件\n",
    "*  [通知渠道](https://cloud.google.com/monitoring/support/notification-options)\n",
    "*  [云记录](https://cloud.google.com/logging/docs)\n",
    "\n",
    "本笔记本以电子邮件为例。"
   ]
  },
  {
   "cell_type": "markdown",
   "metadata": {
    "id": "7jzY1mpdw-CY"
   },
   "source": [
    "将生成的指标导出到您指定的 Google Cloud Storage 位置，或者，如果您没有指定位置，Vertex AI 将创建一个默认的桶来使用。"
   ]
  },
  {
   "cell_type": "code",
   "execution_count": null,
   "metadata": {
    "id": "yclsJhNrsI-F"
   },
   "outputs": [],
   "source": [
    "import os\n",
    "\n",
    "EMAIL = \"[your-email-address]\"  # @param {type:\"string\"}\n",
    "if os.getenv(\"IS_TESTING\"):\n",
    "    EMAIL = \"noreply@google.com\"\n",
    "\n",
    "NOTIFICATION_SPEC = ml_monitoring.spec.NotificationSpec(\n",
    "    user_emails=[EMAIL],\n",
    ")\n",
    "\n",
    "OUTPUT_SPEC = ml_monitoring.spec.OutputSpec(gcs_base_dir=BUCKET_URI)"
   ]
  },
  {
   "cell_type": "markdown",
   "metadata": {
    "id": "rQzbfaAFq9mV"
   },
   "source": [
    "运行模型监控任务"
   ]
  },
  {
   "cell_type": "markdown",
   "metadata": {
    "id": "JaAEOio70bTZ"
   },
   "source": [
    "示例1：特征漂移和预测输出漂移检测，将当前数据与训练数据集进行比较。"
   ]
  },
  {
   "cell_type": "code",
   "execution_count": null,
   "metadata": {
    "id": "Knp5-4I-WKOa"
   },
   "outputs": [],
   "source": [
    "import pandas as pd\n",
    "\n",
    "TIMESTAMP = pd.Timestamp.utcnow().strftime(\"%Y%m%d%H%M%S\")\n",
    "JOB_DISPLAY_NAME = f\"churn_model_monitoring_job_{TIMESTAMP}\"\n",
    "TARGET_DATASET = ml_monitoring.spec.MonitoringInput(endpoints=[endpoint.resource_name])\n",
    "model_monitoring_job_1 = my_model_monitor.run(\n",
    "    display_name=JOB_DISPLAY_NAME,\n",
    "    baseline_dataset=TRAINING_DATASET,\n",
    "    target_dataset=TARGET_DATASET,\n",
    "    tabular_objective_spec=ml_monitoring.spec.TabularObjective(\n",
    "        # Input feature drift spec.\n",
    "        feature_drift_spec=FEATURE_DRIFT_SPEC,\n",
    "        # Prediction output drift spec.\n",
    "        prediction_output_drift_spec=PREDICTION_OUTPUT_DRIFT_SPEC,\n",
    "    ),\n",
    "    notification_spec=NOTIFICATION_SPEC,\n",
    "    output_spec=OUTPUT_SPEC,\n",
    ")"
   ]
  },
  {
   "cell_type": "markdown",
   "metadata": {
    "id": "bpbpwths0lf5"
   },
   "source": [
    "示例2：功能归因漂移检测，将当前数据与云存储基准数据集进行比较。"
   ]
  },
  {
   "cell_type": "markdown",
   "metadata": {
    "id": "Yw2DR7t70zkj"
   },
   "source": [
    "对于特征归因监控，数据集以以下方式发送到Vertex AI批量解释任务中：\n",
    "\n",
    "* Google Cloud存储-> 直接发送为Vertex AI批量解释任务的输入。\n",
    "* BigQuery表格-> 直接发送为Vertex AI批量解释任务的输入。\n",
    "* BigQuery查询-> 不支持。\n",
    "* Vertex AI批量解释任务-> 批量预测作业的输入用作Vertex AI批量解释任务的输入。\n",
    "* Vertex AI端点日志记录-> 请求日志记录用作Vertex AI批量解释任务的输入。\n",
    "\n",
    "检查这些数据集是否符合Vertex AI批量解释任务的要求。"
   ]
  },
  {
   "cell_type": "markdown",
   "metadata": {
    "id": "gMM4lXtk04dL"
   },
   "source": [
    "生成用于 Vertex 可解释 AI 的模型元数据\n",
    "您必须指定要在 Vertex AI 批量解释作业中使用的解释规范。运行以下单元格从导出模型中提取元数据，这些元数据在为预测请求生成解释时是必需的。"
   ]
  },
  {
   "cell_type": "code",
   "execution_count": null,
   "metadata": {
    "id": "e6_tyqq307sP"
   },
   "outputs": [],
   "source": [
    "from google.cloud.aiplatform_v1beta1.types import (ExplanationMetadata,\n",
    "                                                   ExplanationParameters,\n",
    "                                                   ExplanationSpec)\n",
    "\n",
    "EXPLANATION_SPEC = ExplanationSpec(\n",
    "    parameters=ExplanationParameters(\n",
    "        {\"sampled_shapley_attribution\": {\"path_count\": 2}}\n",
    "    ),\n",
    "    metadata=ExplanationMetadata(\n",
    "        inputs={\n",
    "            \"cnt_ad_reward\": ExplanationMetadata.InputMetadata(\n",
    "                {\n",
    "                    \"input_tensor_name\": \"cnt_ad_reward\",\n",
    "                    \"encoding\": \"IDENTITY\",\n",
    "                    \"modality\": \"numeric\",\n",
    "                }\n",
    "            ),\n",
    "            \"cnt_challenge_a_friend\": ExplanationMetadata.InputMetadata(\n",
    "                {\n",
    "                    \"input_tensor_name\": \"cnt_challenge_a_friend\",\n",
    "                    \"encoding\": \"IDENTITY\",\n",
    "                    \"modality\": \"numeric\",\n",
    "                }\n",
    "            ),\n",
    "            \"cnt_completed_5_levels\": ExplanationMetadata.InputMetadata(\n",
    "                {\n",
    "                    \"input_tensor_name\": \"cnt_completed_5_levels\",\n",
    "                    \"encoding\": \"IDENTITY\",\n",
    "                    \"modality\": \"numeric\",\n",
    "                }\n",
    "            ),\n",
    "            \"cnt_level_complete_quickplay\": ExplanationMetadata.InputMetadata(\n",
    "                {\n",
    "                    \"input_tensor_name\": \"cnt_level_complete_quickplay\",\n",
    "                    \"encoding\": \"IDENTITY\",\n",
    "                    \"modality\": \"numeric\",\n",
    "                }\n",
    "            ),\n",
    "            \"cnt_level_end_quickplay\": ExplanationMetadata.InputMetadata(\n",
    "                {\n",
    "                    \"input_tensor_name\": \"cnt_level_end_quickplay\",\n",
    "                    \"encoding\": \"IDENTITY\",\n",
    "                    \"modality\": \"numeric\",\n",
    "                }\n",
    "            ),\n",
    "            \"cnt_level_reset_quickplay\": ExplanationMetadata.InputMetadata(\n",
    "                {\n",
    "                    \"input_tensor_name\": \"cnt_level_reset_quickplay\",\n",
    "                    \"encoding\": \"IDENTITY\",\n",
    "                    \"modality\": \"numeric\",\n",
    "                }\n",
    "            ),\n",
    "            \"cnt_level_start_quickplay\": ExplanationMetadata.InputMetadata(\n",
    "                {\n",
    "                    \"input_tensor_name\": \"cnt_level_start_quickplay\",\n",
    "                    \"encoding\": \"IDENTITY\",\n",
    "                    \"modality\": \"numeric\",\n",
    "                }\n",
    "            ),\n",
    "            \"cnt_post_score\": ExplanationMetadata.InputMetadata(\n",
    "                {\n",
    "                    \"input_tensor_name\": \"cnt_post_score\",\n",
    "                    \"encoding\": \"IDENTITY\",\n",
    "                    \"modality\": \"numeric\",\n",
    "                }\n",
    "            ),\n",
    "            \"cnt_spend_virtual_currency\": ExplanationMetadata.InputMetadata(\n",
    "                {\n",
    "                    \"input_tensor_name\": \"cnt_spend_virtual_currency\",\n",
    "                    \"encoding\": \"IDENTITY\",\n",
    "                    \"modality\": \"numeric\",\n",
    "                }\n",
    "            ),\n",
    "            \"cnt_use_extra_steps\": ExplanationMetadata.InputMetadata(\n",
    "                {\n",
    "                    \"input_tensor_name\": \"cnt_use_extra_steps\",\n",
    "                    \"encoding\": \"IDENTITY\",\n",
    "                    \"modality\": \"numeric\",\n",
    "                }\n",
    "            ),\n",
    "            \"cnt_user_engagement\": ExplanationMetadata.InputMetadata(\n",
    "                {\n",
    "                    \"input_tensor_name\": \"cnt_user_engagement\",\n",
    "                    \"encoding\": \"IDENTITY\",\n",
    "                    \"modality\": \"numeric\",\n",
    "                }\n",
    "            ),\n",
    "            \"country\": ExplanationMetadata.InputMetadata(\n",
    "                {\n",
    "                    \"input_tensor_name\": \"country\",\n",
    "                    \"encoding\": \"IDENTITY\",\n",
    "                    \"modality\": \"categorical\",\n",
    "                }\n",
    "            ),\n",
    "            \"dayofweek\": ExplanationMetadata.InputMetadata(\n",
    "                {\n",
    "                    \"input_tensor_name\": \"dayofweek\",\n",
    "                    \"encoding\": \"IDENTITY\",\n",
    "                    \"modality\": \"numeric\",\n",
    "                }\n",
    "            ),\n",
    "            \"julianday\": ExplanationMetadata.InputMetadata(\n",
    "                {\n",
    "                    \"input_tensor_name\": \"julianday\",\n",
    "                    \"encoding\": \"IDENTITY\",\n",
    "                    \"modality\": \"numeric\",\n",
    "                }\n",
    "            ),\n",
    "            \"language\": ExplanationMetadata.InputMetadata(\n",
    "                {\n",
    "                    \"input_tensor_name\": \"language\",\n",
    "                    \"encoding\": \"IDENTITY\",\n",
    "                    \"modality\": \"categorical\",\n",
    "                }\n",
    "            ),\n",
    "            \"month\": ExplanationMetadata.InputMetadata(\n",
    "                {\n",
    "                    \"input_tensor_name\": \"month\",\n",
    "                    \"encoding\": \"IDENTITY\",\n",
    "                    \"modality\": \"numeric\",\n",
    "                }\n",
    "            ),\n",
    "            \"operating_system\": ExplanationMetadata.InputMetadata(\n",
    "                {\n",
    "                    \"input_tensor_name\": \"operating_system\",\n",
    "                    \"encoding\": \"IDENTITY\",\n",
    "                    \"modality\": \"categorical\",\n",
    "                }\n",
    "            ),\n",
    "            \"user_pseudo_id\": ExplanationMetadata.InputMetadata(\n",
    "                {\n",
    "                    \"input_tensor_name\": \"user_pseudo_id\",\n",
    "                    \"encoding\": \"IDENTITY\",\n",
    "                    \"modality\": \"categorical\",\n",
    "                }\n",
    "            ),\n",
    "        },\n",
    "        outputs={\n",
    "            \"churned_probs\": ExplanationMetadata.OutputMetadata(\n",
    "                {\"output_tensor_name\": \"churned_probs\"}\n",
    "            )\n",
    "        },\n",
    "    ),\n",
    ")"
   ]
  },
  {
   "cell_type": "code",
   "execution_count": null,
   "metadata": {
    "id": "4fMoYeEA2lA9"
   },
   "outputs": [],
   "source": [
    "FEATURE_ATTRIBUTION_BASELINE_DATASET = (\n",
    "    f\"{BUCKET_URI}/model-monitoring/churn/churn_no_ground_truth.jsonl\"\n",
    ")\n",
    "! gsutil cp gs://cloud-samples-data/vertex-ai/model-monitoring/churn/churn_no_ground_truth.jsonl $FEATURE_ATTRIBUTION_BASELINE_DATASET"
   ]
  },
  {
   "cell_type": "code",
   "execution_count": null,
   "metadata": {
    "id": "WEMPiPcs0-7p"
   },
   "outputs": [],
   "source": [
    "import pandas as pd\n",
    "from vertexai.resources.preview import ml_monitoring\n",
    "\n",
    "TIMESTAMP = pd.Timestamp.utcnow().strftime(\"%Y%m%d%H%M%S\")\n",
    "JOB_DISPLAY_NAME = f\"churn_model_monitoring_job_{TIMESTAMP}\"\n",
    "BASELINE_DATASET = ml_monitoring.spec.MonitoringInput(\n",
    "    gcs_uri=FEATURE_ATTRIBUTION_BASELINE_DATASET, data_format=\"jsonl\"\n",
    ")\n",
    "TARGET_DATASET = ml_monitoring.spec.MonitoringInput(endpoints=[endpoint.resource_name])\n",
    "model_monitoring_job_2 = my_model_monitor.run(\n",
    "    display_name=JOB_DISPLAY_NAME,\n",
    "    baseline_dataset=BASELINE_DATASET,\n",
    "    target_dataset=TARGET_DATASET,\n",
    "    tabular_objective_spec=ml_monitoring.spec.TabularObjective(\n",
    "        # Feature attribution spec.\n",
    "        feature_attribution_spec=FEATURE_ATTRIBUTION_SPEC\n",
    "    ),\n",
    "    # You must have a Explanation spec for feature attribution monitoring.\n",
    "    # You can specify the explanation spec in the Model, Model monitor, or the Model monitoring job.\n",
    "    explanation_spec=EXPLANATION_SPEC,\n",
    "    notification_spec=NOTIFICATION_SPEC,\n",
    "    output_spec=OUTPUT_SPEC,\n",
    ")"
   ]
  },
  {
   "cell_type": "markdown",
   "metadata": {
    "id": "KV5CZSqLVBPj"
   },
   "source": [
    "##### 列出模型监控任务"
   ]
  },
  {
   "cell_type": "code",
   "execution_count": null,
   "metadata": {
    "id": "urFYUjaZ7iCP"
   },
   "outputs": [],
   "source": [
    "my_model_monitor.list_jobs()"
   ]
  },
  {
   "cell_type": "markdown",
   "metadata": {
    "id": "nL10YABxl47v"
   },
   "source": [
    "### 步骤 6: 等待模型监控任务运行并验证结果"
   ]
  },
  {
   "cell_type": "markdown",
   "metadata": {
    "id": "LrSU6d0xFfzv"
   },
   "source": [
    "请通过电子邮件验证结果"
   ]
  },
  {
   "cell_type": "markdown",
   "metadata": {
    "id": "zw5KodgebDVE"
   },
   "source": [
    "一旦模型监控工作开始运行，您将收到以下邮件：\n",
    "\n",
    "<img src=\"https://services.google.com/fh/files/misc/create_job_email.png\" />"
   ]
  },
  {
   "cell_type": "markdown",
   "metadata": {
    "id": "37SPm_majLVj"
   },
   "source": [
    "监控工作完成后，如果检测到任何异常情况，您将收到类似以下内容的电子邮件： \n",
    "\n",
    "<img src=\"https://services.google.com/fh/files/misc/job_anomalies_email.png\" />"
   ]
  },
  {
   "cell_type": "markdown",
   "metadata": {
    "id": "LPC6ZoerifM6"
   },
   "source": [
    "检查监控指标：Google Cloud 控制台"
   ]
  },
  {
   "cell_type": "markdown",
   "metadata": {
    "id": "4Pw6Z-bVbZaE"
   },
   "source": [
    "要查看[Google Cloud控制台](https://console.cloud.google.com/vertex-ai/model-monitoring/model-monitors)中的模型监控指标，请转到**Vertex AI**下的**监控**选项卡。\n",
    "\n",
    "<img src=\"https://storage.googleapis.com/cmm-public-data/images/endpoint_jobs_details.gif\" />"
   ]
  },
  {
   "cell_type": "markdown",
   "metadata": {
    "id": "MFZcBnwsdSfa"
   },
   "source": [
    "检查监控指标：云存储存储桶\n",
    "\n",
    "运行以下命令以查看存储在云存储存储桶中的模型监控指标。"
   ]
  },
  {
   "cell_type": "code",
   "execution_count": null,
   "metadata": {
    "id": "NhY20BTjjkVk"
   },
   "outputs": [],
   "source": [
    "try:\n",
    "    my_model_monitor.show_feature_drift_stats(model_monitoring_job_1.name)\n",
    "except Exception as e:\n",
    "    print(e)"
   ]
  },
  {
   "cell_type": "code",
   "execution_count": null,
   "metadata": {
    "id": "Cm_D4BGnBQ6a"
   },
   "outputs": [],
   "source": [
    "try:\n",
    "    my_model_monitor.show_output_drift_stats(model_monitoring_job_1.name)\n",
    "except Exception as e:\n",
    "    print(e)"
   ]
  },
  {
   "cell_type": "markdown",
   "metadata": {
    "id": "NNpKoRoaEWQC"
   },
   "source": [
    "步骤7：安排持续模型监控任务"
   ]
  },
  {
   "cell_type": "markdown",
   "metadata": {
    "id": "yGp6GlV29QAE"
   },
   "source": [
    "要设置连续的模型监控，请按照以下示例创建一个时间表。您可以为您的模型监控创建多个时间表。\n",
    "\n",
    "以下示例监控输入特征和预测输出的漂移。该时间表配置为每小时准点启动模型监控任务，比如在00:00、01:00等。每个任务分析前一个小时窗口内的数据。例如，如果计划在早上6:00进行任务，则会分析从早上5:00到6:00收集的数据。"
   ]
  },
  {
   "cell_type": "markdown",
   "metadata": {
    "id": "vS8zeXVBqe13"
   },
   "source": [
    "将更多的流量发送到终端。"
   ]
  },
  {
   "cell_type": "code",
   "execution_count": null,
   "metadata": {
    "id": "1K6ga5F2qeKh"
   },
   "outputs": [],
   "source": [
    "import sys\n",
    "import time\n",
    "\n",
    "from google.cloud import bigquery\n",
    "\n",
    "# Here we just use subset of the training dataset as prediction data\n",
    "DATASET_BQ_URI = \"bq://mco-mm.bqmlga4.train\"\n",
    "GROUND_TRUTH = \"churned\"\n",
    "\n",
    "bqclient = bigquery.Client(project=PROJECT_ID)\n",
    "table = bigquery.TableReference.from_string(DATASET_BQ_URI[5:])\n",
    "rows = bqclient.list_rows(table, max_results=1000)\n",
    "count = 0\n",
    "for row in rows:\n",
    "    instance = {}\n",
    "    for key, value in row.items():\n",
    "        if key == GROUND_TRUTH:\n",
    "            continue\n",
    "        if value is None:\n",
    "            value = \"\"\n",
    "        instance[key] = value\n",
    "    endpoint.predict(instances=[instance])\n",
    "    # Print progress\n",
    "    if count % 100 == 0:\n",
    "        print(f\"Sent: {count} requests\")\n",
    "    count = count + 1\n",
    "    time.sleep(0.01)"
   ]
  },
  {
   "cell_type": "markdown",
   "metadata": {
    "id": "7biYOYy1TCsa"
   },
   "source": [
    "创建一个时间表"
   ]
  },
  {
   "cell_type": "code",
   "execution_count": null,
   "metadata": {
    "id": "ZyPwRmCBEcSp"
   },
   "outputs": [],
   "source": [
    "# Every 1 hour at :00, for example 1:00, 2:00..\n",
    "CRON = \"0 * * * *\"  # @param {type:\"string\"}"
   ]
  },
  {
   "cell_type": "code",
   "execution_count": null,
   "metadata": {
    "id": "Q8-FNVoQH6qL"
   },
   "outputs": [],
   "source": [
    "# from google.protobuf import timestamp_pb2\n",
    "\n",
    "SCHEDULE_DISPLAY_NAME = \"churn-continous-drift-detection\"\n",
    "\n",
    "# Example 1: Training dataset as baseline\n",
    "BASELINE_DATASET = TRAINING_DATASET\n",
    "\n",
    "# Example 2: Baseline with the same target dataset and with offset. Example:\n",
    "# BASELINE_DATASET=model_monitor.spec.MonitoringInput(\n",
    "#     endpoints=[endpoint.resource_name],\n",
    "#     window=\"1h\",\n",
    "#     offset=\"1h\"\n",
    "# )\n",
    "\n",
    "# Example 3: Baseline with the same target dataset and with start and end time\n",
    "# window. Example:\n",
    "# BASELINE_DATASET=model_monitor.spec.MonitoringInput(\n",
    "#     endpoints=[endpoint.resource_name],\n",
    "#     start_time=timestamp_pb2.Timestamp(seconds=xxx),\n",
    "#     end_time=timestamp_pb2.Timestamp(seconds=xxx)\n",
    "# )\n",
    "# More options are available, please check the `MonitoringInput`.\n",
    "\n",
    "TARGET_DATASET = ml_monitoring.spec.MonitoringInput(\n",
    "    endpoints=[endpoint.resource_name],\n",
    "    window=\"1h\",\n",
    ")\n",
    "\n",
    "model_monitoring_schedule = my_model_monitor.create_schedule(\n",
    "    display_name=SCHEDULE_DISPLAY_NAME,\n",
    "    cron=CRON,\n",
    "    baseline_dataset=BASELINE_DATASET,\n",
    "    target_dataset=TARGET_DATASET,\n",
    "    tabular_objective_spec=ml_monitoring.spec.TabularObjective(\n",
    "        # Input feature drift spec.\n",
    "        feature_drift_spec=FEATURE_DRIFT_SPEC,\n",
    "        # Prediction output drift spec.\n",
    "        prediction_output_drift_spec=PREDICTION_OUTPUT_DRIFT_SPEC,\n",
    "    ),\n",
    "    notification_spec=NOTIFICATION_SPEC,\n",
    "    output_spec=OUTPUT_SPEC,\n",
    ")\n",
    "\n",
    "SCHEDULE_RESOURCE_NAME = model_monitoring_schedule.name\n",
    "print(f\"Schedule {SCHEDULE_RESOURCE_NAME} created.\")"
   ]
  },
  {
   "cell_type": "markdown",
   "metadata": {
    "id": "YI9ZejD4S4jK"
   },
   "source": [
    "暂停计划\n",
    "\n",
    "运行以下命令来暂停模型监控计划："
   ]
  },
  {
   "cell_type": "code",
   "execution_count": null,
   "metadata": {
    "id": "5GW8pkM2S-LR"
   },
   "outputs": [],
   "source": [
    "my_model_monitor.pause_schedule(schedule_name=SCHEDULE_RESOURCE_NAME)"
   ]
  },
  {
   "cell_type": "markdown",
   "metadata": {
    "id": "0O4BN64KTt95"
   },
   "source": [
    "#### 恢复日程\n",
    "\n",
    "运行以下命令以恢复暂停的模型监控日程:"
   ]
  },
  {
   "cell_type": "code",
   "execution_count": null,
   "metadata": {
    "id": "--WkYX_NTyhn"
   },
   "outputs": [],
   "source": [
    "my_model_monitor.resume_schedule(schedule_name=SCHEDULE_RESOURCE_NAME)"
   ]
  },
  {
   "cell_type": "markdown",
   "metadata": {
    "id": "ydPzrEVuT1O9"
   },
   "source": [
    "更新计划\n",
    "\n",
    "运行以下命令以更新模型监控计划："
   ]
  },
  {
   "cell_type": "code",
   "execution_count": null,
   "metadata": {
    "id": "aqz2MXYBT2-f"
   },
   "outputs": [],
   "source": [
    "# Update to run every 1 hour at :30, for example 0:30, 1:30, 2:00..\n",
    "my_model_monitor.update_schedule(\n",
    "    schedule_name=SCHEDULE_RESOURCE_NAME, cron=\"30 * * * *\"\n",
    ")"
   ]
  },
  {
   "cell_type": "markdown",
   "metadata": {
    "id": "pOH_UNH5NyJG"
   },
   "source": [
    "请在Google Cloud控制台中检查监控计划\n",
    "\n",
    "要在Google Cloud控制台中检查您的模型监控计划，请转到Vertex AI下的监控选项卡。"
   ]
  },
  {
   "cell_type": "markdown",
   "metadata": {
    "id": "hovSbsmBmEKZ"
   },
   "source": [
    "### 步骤 8: 清理\n",
    "\n",
    "如果您不再需要您的模型监控资源，请运行以下命令来删除它们:"
   ]
  },
  {
   "cell_type": "code",
   "execution_count": null,
   "metadata": {
    "id": "ejHg5PqiJPS2"
   },
   "outputs": [],
   "source": [
    "# When no jobs are running, delete the schedule and all the jobs.\n",
    "my_model_monitor.delete(force=True)\n",
    "\n",
    "# Undeploy endpoint\n",
    "endpoint.undeploy_all()\n",
    "endpoint.delete()\n",
    "\n",
    "# Delete the model\n",
    "model.delete()"
   ]
  }
 ],
 "metadata": {
  "colab": {
   "name": "model_monitoring_for_custom_model_online_prediction.ipynb",
   "toc_visible": true
  },
  "kernelspec": {
   "display_name": "Python 3",
   "name": "python3"
  }
 },
 "nbformat": 4,
 "nbformat_minor": 0
}
