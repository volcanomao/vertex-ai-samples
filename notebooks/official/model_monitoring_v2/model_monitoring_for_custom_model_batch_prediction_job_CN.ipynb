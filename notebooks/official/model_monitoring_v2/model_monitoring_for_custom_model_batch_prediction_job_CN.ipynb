{
 "cells": [
  {
   "cell_type": "code",
   "execution_count": null,
   "metadata": {
    "id": "Y5yTxMNOKnOC"
   },
   "outputs": [],
   "source": [
    "# Copyright 2024 Google LLC\n",
    "#\n",
    "# Licensed under the Apache License, Version 2.0 (the \"License\");\n",
    "# you may not use this file except in compliance with the License.\n",
    "# You may obtain a copy of the License at\n",
    "#\n",
    "#     https://www.apache.org/licenses/LICENSE-2.0\n",
    "#\n",
    "# Unless required by applicable law or agreed to in writing, software\n",
    "# distributed under the License is distributed on an \"AS IS\" BASIS,\n",
    "# WITHOUT WARRANTIES OR CONDITIONS OF ANY KIND, either express or implied.\n",
    "# See the License for the specific language governing permissions and\n",
    "# limitations under the License."
   ]
  },
  {
   "cell_type": "markdown",
   "metadata": {
    "id": "ndfGn8c4bI_G"
   },
   "source": [
    "# Vertex AI自定义模型批量预测作业的模型监控\n",
    "\n",
    "<table align=\"left\">\n",
    "  <td style=\"text-align: center\">\n",
    "    <a href=\"https://colab.research.google.com/github/GoogleCloudPlatform/vertex-ai-samples/blob/main/notebooks/official/model_monitoring_v2/model_monitoring_for_custom_model_batch_prediction_job.ipynb\">\n",
    "      <img src=\"https://cloud.google.com/ml-engine/images/colab-logo-32px.png\" alt=\"Google Colaboratory logo\"><br> 在Colab中打开\n",
    "    </a>\n",
    "  </td>\n",
    "  <td style=\"text-align: center\">\n",
    "    <a href=\"https://console.cloud.google.com/vertex-ai/colab/import/https:%2F%2Fraw.githubusercontent.com%2FGoogleCloudPlatform%2Fvertex-ai-samples%2Fmain%2Fnotebooks%2Fofficial%2model_monitoring_v2%2model_monitoring_for_custom_model_batch_prediction_job.ipynb\">\n",
    "      <img width=\"32px\" src=\"https://lh3.googleusercontent.com/JmcxdQi-qOpctIvWKgPtrzZdJJK-J3sWE1RsfjZNwshCFgE_9fULcNpuXYTilIR2hjwN\" alt=\"Google Cloud Colab企业标志\"><br> 在Colab Enterprise中打开\n",
    "    </a>\n",
    "  </td>    \n",
    "  <td style=\"text-align: center\">\n",
    "    <a href=\"https://console.cloud.google.com/vertex-ai/workbench/deploy-notebook?download_url=https://raw.githubusercontent.com/GoogleCloudPlatform/vertex-ai-samples/blob/main/notebooks/official/model_monitoring_v2/model_monitoring_for_custom_model_batch_prediction_job.ipynb\">\n",
    "      <img src=\"https://lh3.googleusercontent.com/UiNooY4LUgW_oTvpsNhPpQzsstV5W8F7rYgxgGBD85cWJoLmrOzhVs_ksK_vgx40SHs7jCqkTkCk=e14-rj-sc0xffffff-h130-w32\" alt=\"Vertex AI标志\"><br> 在Workbench中打开\n",
    "    </a>\n",
    "  </td>\n",
    "  <td style=\"text-align: center\">\n",
    "    <a href=\"https://github.com/GoogleCloudPlatform/vertex-ai-samples/blob/main/notebooks/official/model_monitoring_v2/model_monitoring_for_custom_model_batch_prediction_job.ipynb\">\n",
    "      <img src=\"https://cloud.google.com/ml-engine/images/github-logo-32px.png\" alt=\"GitHub标志\"><br> 在GitHub上查看\n",
    "    </a>\n",
    "  </td>\n",
    "</table>"
   ]
  },
  {
   "cell_type": "markdown",
   "metadata": {
    "id": "R5Hp34AVK7ba"
   },
   "source": [
    "## 概述\n",
    "\n",
    "本教程演示了如何使用Python的Vertex AI SDK为您的模型设置Vertex AI Model Monitoring V2。"
   ]
  },
  {
   "cell_type": "markdown",
   "metadata": {
    "id": "DyXl559OtyK_"
   },
   "source": [
    "### 目标\n",
    "\n",
    "在本教程中，您将完成以下步骤：\n",
    "\n",
    "- 将自定义模型上传至 Vertex AI Model Registry。\n",
    "- 创建一个模型监控器。\n",
    "- 创建 Vertex AI 批量预测作业。\n",
    "- 运行一个按需模型监控作业，以分析批量预测作业结果和训练数据集之间的数据漂移。\n",
    "- 创建另一个 Vertex AI 批量预测作业。\n",
    "- 运行一个按需模型监控作业，以分析批量预测作业结果和先前批量预测作业之间的数据漂移。\n",
    "- 运行一个按需模型监控作业，以分析批量预测作业结果和Google Cloud Storage中一个基准数据集之间的特征归因漂移。\n",
    "\n",
    "\n",
    "### 费用\n",
    "\n",
    "Vertex AI Model Monitoring v2 在公共预览期间免费，但您仍将为以下谷歌云服务付费：\n",
    "\n",
    "- [BigQuery](https://cloud.google.com/bigquery/pricing)\n",
    "- [Cloud Storage](https://cloud.google.com/storage/pricing)\n",
    "- [Vertex AI在线预测](https://cloud.google.com/vertex-ai/pricing#prediction-prices)\n",
    "- [Vertex AI批量解释作业](https://cloud.google.com/vertex-ai/pricing#prediction-prices)（如果您运行特征归因漂移示例）。"
   ]
  },
  {
   "cell_type": "markdown",
   "metadata": {
    "id": "oYmaoz9MNLHd"
   },
   "source": [
    "开始使用"
   ]
  },
  {
   "cell_type": "markdown",
   "metadata": {
    "id": "NvW5zNXmNMwm"
   },
   "source": [
    "安装Vertex AI SDK和其他所需的软件包"
   ]
  },
  {
   "cell_type": "code",
   "execution_count": null,
   "metadata": {
    "id": "5FakhYktNO7Y"
   },
   "outputs": [],
   "source": [
    "! pip3 install --upgrade --quiet \\\n",
    "    google-cloud-bigquery \\\n",
    "    pandas \\\n",
    "    pandas_gbq \\\n",
    "    pyarrow \\\n",
    "    tensorflow_data_validation[visualization] \\\n",
    "    google-cloud-aiplatform"
   ]
  },
  {
   "cell_type": "markdown",
   "metadata": {
    "id": "02nrfqgSOsw2"
   },
   "source": [
    "检查google-cloud-aiplatform版本是否为1.51.0或更高。"
   ]
  },
  {
   "cell_type": "code",
   "execution_count": null,
   "metadata": {
    "id": "uq2kSzjTOuQp"
   },
   "outputs": [],
   "source": [
    "from google.cloud import aiplatform\n",
    "\n",
    "aiplatform.__version__"
   ]
  },
  {
   "cell_type": "markdown",
   "metadata": {
    "id": "U4o9GjHNfHdI"
   },
   "source": [
    "重新启动运行时（仅适用于Colab）\n",
    "\n",
    "为了使用新安装的软件包，您必须重新启动Google Colab上的运行时。"
   ]
  },
  {
   "cell_type": "code",
   "execution_count": null,
   "metadata": {
    "id": "JaY8Q_T3fA38"
   },
   "outputs": [],
   "source": [
    "import sys\n",
    "\n",
    "if \"google.colab\" in sys.modules:\n",
    "\n",
    "    import IPython\n",
    "\n",
    "    app = IPython.Application.instance()\n",
    "    app.kernel.do_shutdown(True)"
   ]
  },
  {
   "cell_type": "markdown",
   "metadata": {
    "id": "4LvVXIhRO0Vk"
   },
   "source": [
    "<div class =“alert alert-block alert-warning”>\n",
    "<b>⚠️内核将重启。 请等待直到完成后再继续下一步。 ⚠️</b>\n",
    "</div>"
   ]
  },
  {
   "cell_type": "markdown",
   "metadata": {
    "id": "i5-StiZvO3-6"
   },
   "source": [
    "### 验证您的笔记本环境（仅限Colab）\n",
    "\n",
    "在Google Colab上验证您的环境。"
   ]
  },
  {
   "cell_type": "code",
   "execution_count": null,
   "metadata": {
    "id": "YIXcOK0uO5q_"
   },
   "outputs": [],
   "source": [
    "import sys\n",
    "\n",
    "if \"google.colab\" in sys.modules:\n",
    "\n",
    "    from google.colab import auth\n",
    "\n",
    "    auth.authenticate_user()"
   ]
  },
  {
   "cell_type": "markdown",
   "metadata": {
    "id": "uHVx1c-OO7KR"
   },
   "source": [
    "### 设置Google Cloud项目信息并初始化Vertex AI SDK\n",
    "\n",
    "要开始使用Vertex AI，您必须拥有现有的Google Cloud项目并[启用Vertex AI API](https://console.cloud.google.com/flows/enableapi?apiid=aiplatform.googleapis.com)。了解更多关于[设置项目和开发环境](https://cloud.google.com/vertex-ai/docs/start/cloud-environment)的信息。"
   ]
  },
  {
   "cell_type": "code",
   "execution_count": null,
   "metadata": {
    "id": "gg6xkyR7O9cU"
   },
   "outputs": [],
   "source": [
    "PROJECT_ID = \"[your-project-id]\"  # @param {type:\"string\"}\n",
    "LOCATION = \"us-central1\"  # @param {type:\"string\"}\n",
    "\n",
    "\n",
    "import os\n",
    "\n",
    "import vertexai\n",
    "\n",
    "! gcloud config set project $PROJECT_ID\n",
    "os.environ[\"GOOGLE_CLOUD_PROJECT\"] = PROJECT_ID\n",
    "! gcloud config set ai/region $LOCATION\n",
    "\n",
    "vertexai.init(project=PROJECT_ID, location=LOCATION)"
   ]
  },
  {
   "cell_type": "markdown",
   "metadata": {
    "id": "LMRdCWwqPBpR"
   },
   "source": [
    "开始模型监控教程##"
   ]
  },
  {
   "cell_type": "markdown",
   "metadata": {
    "id": "l_BdNCfk7Hjz"
   },
   "source": [
    "### 步骤1：创建一个云存储桶\n",
    "\n",
    "创建一个云存储桶来存储中间产品，如数据集。"
   ]
  },
  {
   "cell_type": "code",
   "execution_count": null,
   "metadata": {
    "id": "3_CZRJ5L60Mi"
   },
   "outputs": [],
   "source": [
    "# Create a Cloud Storage bucket\n",
    "BUCKET_URI = f\"gs://your-bucket-name-{PROJECT_ID}-unique\"  # @param {type:\"string\"}"
   ]
  },
  {
   "cell_type": "markdown",
   "metadata": {
    "id": "lvHsyHsi7Dg8"
   },
   "source": [
    "只有当您的存储桶尚不存在时才能运行以下单元格，以创建您的云存储存储桶。"
   ]
  },
  {
   "cell_type": "code",
   "execution_count": null,
   "metadata": {
    "id": "mrHlJi-e7AyX"
   },
   "outputs": [],
   "source": [
    "! gsutil mb -l {LOCATION} -p {PROJECT_ID} {BUCKET_URI}"
   ]
  },
  {
   "cell_type": "markdown",
   "metadata": {
    "id": "5ZLxDjB6lYXx"
   },
   "source": [
    "### 第二步：在Vertex AI模型注册中准备一个模型"
   ]
  },
  {
   "cell_type": "markdown",
   "metadata": {
    "id": "1_OchKcp60FE"
   },
   "source": [
    "您可以在Vertex AI模型注册表中注册一个具有其artifacts的模型，这使您能够进行在线服务或批量预测。或者，您可以注册一个只包括模型名称的引用/占位符模型。\n",
    "在这个笔记本中，您将注册一个带有artifacts的模型，因为您将运行一个批量预测作业。"
   ]
  },
  {
   "cell_type": "code",
   "execution_count": null,
   "metadata": {
    "id": "SwrD1CnmmJsk"
   },
   "outputs": [],
   "source": [
    "import google.cloud.aiplatform as aiplatform\n",
    "\n",
    "MODEL_PATH = \"gs://mco-mm/churn\"\n",
    "MODEL_NAME = \"churn\"\n",
    "IMAGE = \"us-docker.pkg.dev/cloud-aiplatform/prediction/tf2-cpu.2-5:latest\"\n",
    "\n",
    "model = aiplatform.Model.upload(\n",
    "    display_name=MODEL_NAME,\n",
    "    artifact_uri=MODEL_PATH,\n",
    "    serving_container_image_uri=IMAGE,\n",
    "    sync=True,\n",
    ")\n",
    "\n",
    "MODEL_ID = model.resource_name.split(\"/\")[-1]"
   ]
  },
  {
   "cell_type": "markdown",
   "metadata": {
    "id": "RuwAoHTilv1j"
   },
   "source": [
    "### 第三步：创建模型监视器"
   ]
  },
  {
   "cell_type": "markdown",
   "metadata": {
    "id": "Wp6jVFGvC6wt"
   },
   "source": [
    "创建一个模型监控器，将监控细节与已在Vertex AI模型注册表中注册的模型版本关联起来。"
   ]
  },
  {
   "cell_type": "markdown",
   "metadata": {
    "id": "9hH4wSCXfgoE"
   },
   "source": [
    "#### 定义模型监控模式"
   ]
  },
  {
   "cell_type": "markdown",
   "metadata": {
    "id": "jyg0cMAdfrAa"
   },
   "source": [
    "对于模型监视器，需要监视模式。它包括输入特征的名称、预测输出以及如果有的话，地面实况，以及它们各自的数据类型。\n",
    "\n",
    "**注：对于AutoML表（回归和分类），定义模式是可选的。当有可用时，模式会被自动获取。如果Vertex AI无法获取模式信息，则必须提供它。**"
   ]
  },
  {
   "cell_type": "code",
   "execution_count": null,
   "metadata": {
    "id": "GR-4eTn3fkHk"
   },
   "outputs": [],
   "source": [
    "from vertexai.resources.preview import ml_monitoring\n",
    "\n",
    "MODEL_MONITORING_SCHEMA = ml_monitoring.spec.ModelMonitoringSchema(\n",
    "    feature_fields=[\n",
    "        ml_monitoring.spec.FieldSchema(name=\"user_pseudo_id\", data_type=\"string\"),\n",
    "        ml_monitoring.spec.FieldSchema(name=\"country\", data_type=\"string\"),\n",
    "        ml_monitoring.spec.FieldSchema(name=\"operating_system\", data_type=\"string\"),\n",
    "        ml_monitoring.spec.FieldSchema(name=\"cnt_user_engagement\", data_type=\"integer\"),\n",
    "        ml_monitoring.spec.FieldSchema(\n",
    "            name=\"cnt_level_start_quickplay\", data_type=\"integer\"\n",
    "        ),\n",
    "        ml_monitoring.spec.FieldSchema(\n",
    "            name=\"cnt_level_end_quickplay\", data_type=\"integer\"\n",
    "        ),\n",
    "        ml_monitoring.spec.FieldSchema(\n",
    "            name=\"cnt_level_complete_quickplay\", data_type=\"integer\"\n",
    "        ),\n",
    "        ml_monitoring.spec.FieldSchema(\n",
    "            name=\"cnt_level_reset_quickplay\", data_type=\"integer\"\n",
    "        ),\n",
    "        ml_monitoring.spec.FieldSchema(name=\"cnt_post_score\", data_type=\"integer\"),\n",
    "        ml_monitoring.spec.FieldSchema(\n",
    "            name=\"cnt_spend_virtual_currency\", data_type=\"integer\"\n",
    "        ),\n",
    "        ml_monitoring.spec.FieldSchema(name=\"cnt_ad_reward\", data_type=\"integer\"),\n",
    "        ml_monitoring.spec.FieldSchema(\n",
    "            name=\"cnt_challenge_a_friend\", data_type=\"integer\"\n",
    "        ),\n",
    "        ml_monitoring.spec.FieldSchema(\n",
    "            name=\"cnt_completed_5_levels\", data_type=\"integer\"\n",
    "        ),\n",
    "        ml_monitoring.spec.FieldSchema(name=\"cnt_use_extra_steps\", data_type=\"integer\"),\n",
    "        ml_monitoring.spec.FieldSchema(name=\"month\", data_type=\"categorical\"),\n",
    "        ml_monitoring.spec.FieldSchema(name=\"julianday\", data_type=\"integer\"),\n",
    "        ml_monitoring.spec.FieldSchema(name=\"dayofweek\", data_type=\"integer\"),\n",
    "    ],\n",
    "    ground_truth_fields=[\n",
    "        ml_monitoring.spec.FieldSchema(name=\"churned\", data_type=\"categorical\")\n",
    "    ],\n",
    "    prediction_fields=[\n",
    "        ml_monitoring.spec.FieldSchema(\n",
    "            name=\"predicted_churned\", data_type=\"categorical\"\n",
    "        )\n",
    "    ],\n",
    ")"
   ]
  },
  {
   "cell_type": "markdown",
   "metadata": {
    "id": "L8KuANNbiiEV"
   },
   "source": [
    "定义训练数据集 (Optional)"
   ]
  },
  {
   "cell_type": "markdown",
   "metadata": {
    "id": "SvFZRodti3qN"
   },
   "source": [
    "训练数据集可以作为基准数据集用来计算监控指标。 您可以在模型监控器中注册训练数据集。"
   ]
  },
  {
   "cell_type": "code",
   "execution_count": null,
   "metadata": {
    "id": "CSqE4_roiw-q"
   },
   "outputs": [],
   "source": [
    "from vertexai.resources.preview import ml_monitoring\n",
    "\n",
    "# Copy files to your projects gs bucket to avoid permission issues.\n",
    "# Ignore any error(s) for bucket already exists.\n",
    "PUBLIC_TRAINING_DATASET = (\n",
    "    \"gs://cloud-samples-data/vertex-ai/model-monitoring/churn/churn_training.csv\"\n",
    ")\n",
    "TRAINING_URI = f\"{BUCKET_URI}/model-monitoring/churn/churn_training.csv\"\n",
    "\n",
    "! gsutil copy $PUBLIC_TRAINING_DATASET $TRAINING_URI\n",
    "\n",
    "TRAINING_DATASET = ml_monitoring.spec.MonitoringInput(\n",
    "    gcs_uri=TRAINING_URI, data_format=\"csv\"\n",
    ")"
   ]
  },
  {
   "cell_type": "markdown",
   "metadata": {
    "id": "5ZnBZUEMjtDD"
   },
   "source": [
    "创建模型监控资源"
   ]
  },
  {
   "cell_type": "markdown",
   "metadata": {
    "id": "OPBdgqz6jv9_"
   },
   "source": [
    "模型监视器是一个顶级资源，用于管理您的指标和模型监视工作。"
   ]
  },
  {
   "cell_type": "code",
   "execution_count": null,
   "metadata": {
    "id": "l_d917Ory595"
   },
   "outputs": [],
   "source": [
    "from vertexai.resources.preview import ml_monitoring\n",
    "\n",
    "my_model_monitor = ml_monitoring.ModelMonitor.create(\n",
    "    project=PROJECT_ID,\n",
    "    location=LOCATION,\n",
    "    display_name=\"churn_model_monitor\",\n",
    "    model_name=model.resource_name,\n",
    "    model_version_id=\"1\",\n",
    "    training_dataset=TRAINING_DATASET,\n",
    "    model_monitoring_schema=MODEL_MONITORING_SCHEMA,\n",
    ")\n",
    "MODEL_MONITOR_ID = my_model_monitor.name\n",
    "print(f\"MODEL MONITOR {MODEL_MONITOR_ID} created.\")"
   ]
  },
  {
   "cell_type": "markdown",
   "metadata": {
    "id": "dkHlwQuVli_2"
   },
   "source": [
    "### 步骤 4：运行按需模型监控作业"
   ]
  },
  {
   "cell_type": "markdown",
   "metadata": {
    "id": "GpVp3fh3rkov"
   },
   "source": [
    "#### 定义监控目标配置\n",
    "\n",
    "对于表格模型，模型监控支持以下目标：\n",
    "\n",
    "*   **输入特征漂移检测**\n",
    "\n",
    "    模型监控支持分类和数值特征类型的漂移分析，支持以下指标：\n",
    "\n",
    "    *    分类特征：`Jensen Shannon Divergence`、`L Infinity`\n",
    "    *    数值特征：`Jensen Shannon Divergence`\n",
    "\n",
    "    您可以通过在`ml_monitoring.spec.DataDriftSpec`规范的`features`字段中指定感兴趣的特征来选择分析。如果未指定，则会分析模型架构中的所有输入特征。此外，您可以选择为分类或数值特征设置默认阈值，或者可以为单个特征指定阈值。如果检测到的漂移超过阈值，将通过电子邮件或其他通知渠道发送警报。\n",
    "\n",
    "*  **预测输出漂移检测**\n",
    "\n",
    "    与输入特征漂移检测类似，预测输出漂移检测识别预测输出中的数据漂移。\n",
    "\n",
    "*   **特征归因漂移检测**\n",
    "\n",
    "    模型监控利用Vertex Explainable AI来监视特征归因。可解释人工智能使您能够了解每个特征对最终预测的相对贡献。实质上，它评估了每个特征影响的大小。\n",
    "    您必须使用特征归因目标配置配置`Explanation`规范。"
   ]
  },
  {
   "cell_type": "markdown",
   "metadata": {
    "id": "n49LgtHBfpTE"
   },
   "source": [
    "输入特性漂移规范"
   ]
  },
  {
   "cell_type": "code",
   "execution_count": null,
   "metadata": {
    "id": "CtrsEblNqzLT"
   },
   "outputs": [],
   "source": [
    "from vertexai.resources.preview import ml_monitoring\n",
    "\n",
    "FEATURE_THRESHOLDS = {\n",
    "    \"country\": 0.003,\n",
    "    \"cnt_user_engagement\": 0.004,\n",
    "}\n",
    "\n",
    "FEATURE_DRIFT_SPEC = ml_monitoring.spec.DataDriftSpec(\n",
    "    categorical_metric_type=\"l_infinity\",\n",
    "    numeric_metric_type=\"jensen_shannon_divergence\",\n",
    "    default_categorical_alert_threshold=0.2,\n",
    "    default_numeric_alert_threshold=0.3,\n",
    "    feature_alert_thresholds=FEATURE_THRESHOLDS,\n",
    ")"
   ]
  },
  {
   "cell_type": "markdown",
   "metadata": {
    "id": "DsuNTFAeftgj"
   },
   "source": [
    "预测输出漂移规范"
   ]
  },
  {
   "cell_type": "code",
   "execution_count": null,
   "metadata": {
    "id": "tcUz6OFvfoBv"
   },
   "outputs": [],
   "source": [
    "PREDICTION_OUTPUT_DRIFT_SPEC = ml_monitoring.spec.DataDriftSpec(\n",
    "    categorical_metric_type=\"l_infinity\",\n",
    "    numeric_metric_type=\"jensen_shannon_divergence\",\n",
    "    default_categorical_alert_threshold=0.1,\n",
    "    default_numeric_alert_threshold=0.1,\n",
    ")"
   ]
  },
  {
   "cell_type": "markdown",
   "metadata": {
    "id": "ak54Y713f1aj"
   },
   "source": [
    "功能归因规范"
   ]
  },
  {
   "cell_type": "code",
   "execution_count": null,
   "metadata": {
    "id": "GgIZLRJa5QY4"
   },
   "outputs": [],
   "source": [
    "FEATURE_ATTRIBUTION_SPEC = ml_monitoring.spec.FeatureAttributionSpec(\n",
    "    default_alert_threshold=0.0003,\n",
    "    feature_alert_thresholds={\"cnt_ad_reward\": 0.0001},\n",
    ")"
   ]
  },
  {
   "cell_type": "markdown",
   "metadata": {
    "id": "avV5qcCUr9IT"
   },
   "source": [
    "定义警报通知和度量输出规范。"
   ]
  },
  {
   "cell_type": "markdown",
   "metadata": {
    "id": "8N9YlXzOvyOs"
   },
   "source": [
    "模型监控支持以下通知方法：\n",
    "\n",
    "*  电子邮件\n",
    "*  [通知通道](https://cloud.google.com/monitoring/support/notification-options)\n",
    "*  [云日志](https://cloud.google.com/logging/docs)\n",
    "\n",
    "本笔记本以电子邮件作为示例。"
   ]
  },
  {
   "cell_type": "markdown",
   "metadata": {
    "id": "7jzY1mpdw-CY"
   },
   "source": [
    "将生成的指标导出到您指定的Google云存储位置，或者如果您没有指定位置，Vertex AI会创建一个默认的存储桶来使用。"
   ]
  },
  {
   "cell_type": "code",
   "execution_count": null,
   "metadata": {
    "id": "yclsJhNrsI-F"
   },
   "outputs": [],
   "source": [
    "import os\n",
    "\n",
    "from vertexai.resources.preview import ml_monitoring\n",
    "\n",
    "EMAIL = \"[your-email-address]\"  # @param {type:\"string\"}\n",
    "if os.getenv(\"IS_TESTING\"):\n",
    "    EMAIL = \"noreply@google.com\"\n",
    "\n",
    "NOTIFICATION_SPEC = ml_monitoring.spec.NotificationSpec(\n",
    "    user_emails=[EMAIL],\n",
    ")\n",
    "\n",
    "OUTPUT_SPEC = ml_monitoring.spec.OutputSpec(gcs_base_dir=BUCKET_URI)"
   ]
  },
  {
   "cell_type": "markdown",
   "metadata": {
    "id": "rQzbfaAFq9mV"
   },
   "source": [
    "运行模型监控作业"
   ]
  },
  {
   "cell_type": "markdown",
   "metadata": {
    "id": "saA2MVZ-Yhy_"
   },
   "source": [
    "例1: 通过将批处理预测工作和训练数据集进行比较来检测特征漂移。"
   ]
  },
  {
   "cell_type": "markdown",
   "metadata": {
    "id": "B1qxAIA5qvpR"
   },
   "source": [
    "让我们首先创建一个批处理预测作业。"
   ]
  },
  {
   "cell_type": "code",
   "execution_count": null,
   "metadata": {
    "id": "CIujU9oBqwPp"
   },
   "outputs": [],
   "source": [
    "BP_INPUT_URI_1 = f\"{BUCKET_URI}/model-monitoring/churn/churn_bp_input_1.jsonl\"\n",
    "! gsutil copy gs://cloud-samples-data/vertex-ai/model-monitoring/churn/churn_bp_input_1.jsonl $BP_INPUT_URI_1"
   ]
  },
  {
   "cell_type": "code",
   "execution_count": null,
   "metadata": {
    "id": "-ZYgqB8ZmbDo"
   },
   "outputs": [],
   "source": [
    "batch_prediction_job_1 = model.batch_predict(\n",
    "    generate_explanation=True,\n",
    "    job_display_name=\"bp_example_1\",\n",
    "    instances_format=\"jsonl\",\n",
    "    machine_type=\"n1-standard-4\",\n",
    "    gcs_source=[BP_INPUT_URI_1],\n",
    "    gcs_destination_prefix=f\"{BUCKET_URI}/bp_output\",\n",
    "    sync=True,\n",
    ")"
   ]
  },
  {
   "cell_type": "code",
   "execution_count": null,
   "metadata": {
    "id": "S-3ilL5-03k8"
   },
   "outputs": [],
   "source": [
    "import pandas as pd\n",
    "from vertexai.resources.preview import ml_monitoring\n",
    "\n",
    "TIMESTAMP = pd.Timestamp.utcnow().strftime(\"%Y%m%d%H%M%S\")\n",
    "JOB_DISPLAY_NAME = f\"churn_model_monitoring_job_{TIMESTAMP}\"\n",
    "TARGET_DATASET = ml_monitoring.spec.MonitoringInput(\n",
    "    batch_prediction_job=batch_prediction_job_1.resource_name\n",
    ")\n",
    "model_monitoring_job_1 = my_model_monitor.run(\n",
    "    display_name=JOB_DISPLAY_NAME,\n",
    "    baseline_dataset=TRAINING_DATASET,\n",
    "    target_dataset=TARGET_DATASET,\n",
    "    tabular_objective_spec=ml_monitoring.spec.TabularObjective(\n",
    "        # Input feature drift spec.\n",
    "        feature_drift_spec=FEATURE_DRIFT_SPEC\n",
    "    ),\n",
    "    notification_spec=NOTIFICATION_SPEC,\n",
    "    output_spec=OUTPUT_SPEC,\n",
    ")"
   ]
  },
  {
   "cell_type": "markdown",
   "metadata": {
    "id": "ihfK5KxgWEXz"
   },
   "source": [
    "示例2：通过比较一次批量预测作业与先前一次批量预测作业的结果，检测特征漂移和预测输出漂移。"
   ]
  },
  {
   "cell_type": "markdown",
   "metadata": {
    "id": "kBhhRjuIa2iv"
   },
   "source": [
    "您可以在单个模型监控作业中设置多个目标。 所有指标都使用相同的基线和目标数据集进行计算。\n",
    "\n",
    "创建另一个批量预测作业，并将其与之前创建的批量预测作业进行比较。"
   ]
  },
  {
   "cell_type": "code",
   "execution_count": null,
   "metadata": {
    "id": "IO2sXgSAXu5A"
   },
   "outputs": [],
   "source": [
    "BP_INPUT_URI_2 = f\"{BUCKET_URI}/model-monitoring/churn/churn_bp_input_2.jsonl\"\n",
    "! gsutil copy gs://cloud-samples-data/vertex-ai/model-monitoring/churn/churn_bp_input_2.jsonl $BP_INPUT_URI_2"
   ]
  },
  {
   "cell_type": "code",
   "execution_count": null,
   "metadata": {
    "id": "d6CIK_1rWOT7"
   },
   "outputs": [],
   "source": [
    "batch_prediction_job_2 = model.batch_predict(\n",
    "    job_display_name=\"bp_example_2\",\n",
    "    instances_format=\"jsonl\",\n",
    "    machine_type=\"n1-standard-4\",\n",
    "    gcs_source=[BP_INPUT_URI_2],\n",
    "    gcs_destination_prefix=f\"{BUCKET_URI}/bp_output\",\n",
    "    sync=True,\n",
    ")"
   ]
  },
  {
   "cell_type": "code",
   "execution_count": null,
   "metadata": {
    "id": "Knp5-4I-WKOa"
   },
   "outputs": [],
   "source": [
    "import pandas as pd\n",
    "from vertexai.resources.preview import ml_monitoring\n",
    "\n",
    "TIMESTAMP = pd.Timestamp.utcnow().strftime(\"%Y%m%d%H%M%S\")\n",
    "JOB_DISPLAY_NAME = f\"churn_model_monitoring_job_{TIMESTAMP}\"\n",
    "BASELINE_DATASET = ml_monitoring.spec.MonitoringInput(\n",
    "    batch_prediction_job=batch_prediction_job_1.resource_name\n",
    ")\n",
    "TARGET_DATASET = ml_monitoring.spec.MonitoringInput(\n",
    "    batch_prediction_job=batch_prediction_job_2.resource_name\n",
    ")\n",
    "model_monitoring_job_2 = my_model_monitor.run(\n",
    "    display_name=JOB_DISPLAY_NAME,\n",
    "    baseline_dataset=BASELINE_DATASET,\n",
    "    target_dataset=TARGET_DATASET,\n",
    "    tabular_objective_spec=ml_monitoring.spec.TabularObjective(\n",
    "        # Input feature drift spec.\n",
    "        feature_drift_spec=FEATURE_DRIFT_SPEC,\n",
    "        # Prediction output drift spec.\n",
    "        prediction_output_drift_spec=PREDICTION_OUTPUT_DRIFT_SPEC,\n",
    "    ),\n",
    "    notification_spec=NOTIFICATION_SPEC,\n",
    "    output_spec=OUTPUT_SPEC,\n",
    ")"
   ]
  },
  {
   "cell_type": "markdown",
   "metadata": {
    "id": "AprOJ3ZchX7z"
   },
   "source": [
    "示例3：功能归因漂移检测，将批处理预测作业与GCS基准数据集进行比较。"
   ]
  },
  {
   "cell_type": "markdown",
   "metadata": {
    "id": "kP7t8p8Ih2a-"
   },
   "source": [
    "用于特征归因监控的数据集通过以下方式发送到Vertex AI批量解释作业：\n",
    "\n",
    "* Google Cloud Storage -> 直接作为输入发送到Vertex AI批量解释作业。\n",
    "* BigQuery表 -> 直接作为输入发送到Vertex AI批量解释作业。\n",
    "* BigQuery查询 -> 不支持。\n",
    "* Vertex AI批量解释作业 -> 批量预测作业的输入用作Vertex AI批量解释作业的输入。\n",
    "* Vertex AI端点日志记录 -> 请求日志记录用作Vertex AI批量解释作业的输入。\n",
    "\n",
    "检查这些数据集是否符合Vertex AI批量解释作业的要求。"
   ]
  },
  {
   "cell_type": "markdown",
   "metadata": {
    "id": "vmT9aF-YxGBS"
   },
   "source": [
    "为Vertex Explainable AI生成模型元数据\n",
    "您必须指定要使用的解释规范来运行Vertex AI批量解释作业。运行以下单元格，从导出模型中提取元数据，这些元数据需要用于生成预测请求的解释。"
   ]
  },
  {
   "cell_type": "code",
   "execution_count": null,
   "metadata": {
    "id": "oLl6q8f4xFK5"
   },
   "outputs": [],
   "source": [
    "from google.cloud.aiplatform_v1beta1.types import (ExplanationMetadata,\n",
    "                                                   ExplanationParameters,\n",
    "                                                   ExplanationSpec)\n",
    "\n",
    "EXPLANATION_SPEC = ExplanationSpec(\n",
    "    parameters=ExplanationParameters(\n",
    "        {\"sampled_shapley_attribution\": {\"path_count\": 2}}\n",
    "    ),\n",
    "    metadata=ExplanationMetadata(\n",
    "        inputs={\n",
    "            \"cnt_ad_reward\": ExplanationMetadata.InputMetadata(\n",
    "                {\n",
    "                    \"input_tensor_name\": \"cnt_ad_reward\",\n",
    "                    \"encoding\": \"IDENTITY\",\n",
    "                    \"modality\": \"numeric\",\n",
    "                }\n",
    "            ),\n",
    "            \"cnt_challenge_a_friend\": ExplanationMetadata.InputMetadata(\n",
    "                {\n",
    "                    \"input_tensor_name\": \"cnt_challenge_a_friend\",\n",
    "                    \"encoding\": \"IDENTITY\",\n",
    "                    \"modality\": \"numeric\",\n",
    "                }\n",
    "            ),\n",
    "            \"cnt_completed_5_levels\": ExplanationMetadata.InputMetadata(\n",
    "                {\n",
    "                    \"input_tensor_name\": \"cnt_completed_5_levels\",\n",
    "                    \"encoding\": \"IDENTITY\",\n",
    "                    \"modality\": \"numeric\",\n",
    "                }\n",
    "            ),\n",
    "            \"cnt_level_complete_quickplay\": ExplanationMetadata.InputMetadata(\n",
    "                {\n",
    "                    \"input_tensor_name\": \"cnt_level_complete_quickplay\",\n",
    "                    \"encoding\": \"IDENTITY\",\n",
    "                    \"modality\": \"numeric\",\n",
    "                }\n",
    "            ),\n",
    "            \"cnt_level_end_quickplay\": ExplanationMetadata.InputMetadata(\n",
    "                {\n",
    "                    \"input_tensor_name\": \"cnt_level_end_quickplay\",\n",
    "                    \"encoding\": \"IDENTITY\",\n",
    "                    \"modality\": \"numeric\",\n",
    "                }\n",
    "            ),\n",
    "            \"cnt_level_reset_quickplay\": ExplanationMetadata.InputMetadata(\n",
    "                {\n",
    "                    \"input_tensor_name\": \"cnt_level_reset_quickplay\",\n",
    "                    \"encoding\": \"IDENTITY\",\n",
    "                    \"modality\": \"numeric\",\n",
    "                }\n",
    "            ),\n",
    "            \"cnt_level_start_quickplay\": ExplanationMetadata.InputMetadata(\n",
    "                {\n",
    "                    \"input_tensor_name\": \"cnt_level_start_quickplay\",\n",
    "                    \"encoding\": \"IDENTITY\",\n",
    "                    \"modality\": \"numeric\",\n",
    "                }\n",
    "            ),\n",
    "            \"cnt_post_score\": ExplanationMetadata.InputMetadata(\n",
    "                {\n",
    "                    \"input_tensor_name\": \"cnt_post_score\",\n",
    "                    \"encoding\": \"IDENTITY\",\n",
    "                    \"modality\": \"numeric\",\n",
    "                }\n",
    "            ),\n",
    "            \"cnt_spend_virtual_currency\": ExplanationMetadata.InputMetadata(\n",
    "                {\n",
    "                    \"input_tensor_name\": \"cnt_spend_virtual_currency\",\n",
    "                    \"encoding\": \"IDENTITY\",\n",
    "                    \"modality\": \"numeric\",\n",
    "                }\n",
    "            ),\n",
    "            \"cnt_use_extra_steps\": ExplanationMetadata.InputMetadata(\n",
    "                {\n",
    "                    \"input_tensor_name\": \"cnt_use_extra_steps\",\n",
    "                    \"encoding\": \"IDENTITY\",\n",
    "                    \"modality\": \"numeric\",\n",
    "                }\n",
    "            ),\n",
    "            \"cnt_user_engagement\": ExplanationMetadata.InputMetadata(\n",
    "                {\n",
    "                    \"input_tensor_name\": \"cnt_user_engagement\",\n",
    "                    \"encoding\": \"IDENTITY\",\n",
    "                    \"modality\": \"numeric\",\n",
    "                }\n",
    "            ),\n",
    "            \"country\": ExplanationMetadata.InputMetadata(\n",
    "                {\n",
    "                    \"input_tensor_name\": \"country\",\n",
    "                    \"encoding\": \"IDENTITY\",\n",
    "                    \"modality\": \"categorical\",\n",
    "                }\n",
    "            ),\n",
    "            \"dayofweek\": ExplanationMetadata.InputMetadata(\n",
    "                {\n",
    "                    \"input_tensor_name\": \"dayofweek\",\n",
    "                    \"encoding\": \"IDENTITY\",\n",
    "                    \"modality\": \"numeric\",\n",
    "                }\n",
    "            ),\n",
    "            \"julianday\": ExplanationMetadata.InputMetadata(\n",
    "                {\n",
    "                    \"input_tensor_name\": \"julianday\",\n",
    "                    \"encoding\": \"IDENTITY\",\n",
    "                    \"modality\": \"numeric\",\n",
    "                }\n",
    "            ),\n",
    "            \"language\": ExplanationMetadata.InputMetadata(\n",
    "                {\n",
    "                    \"input_tensor_name\": \"language\",\n",
    "                    \"encoding\": \"IDENTITY\",\n",
    "                    \"modality\": \"categorical\",\n",
    "                }\n",
    "            ),\n",
    "            \"month\": ExplanationMetadata.InputMetadata(\n",
    "                {\n",
    "                    \"input_tensor_name\": \"month\",\n",
    "                    \"encoding\": \"IDENTITY\",\n",
    "                    \"modality\": \"numeric\",\n",
    "                }\n",
    "            ),\n",
    "            \"operating_system\": ExplanationMetadata.InputMetadata(\n",
    "                {\n",
    "                    \"input_tensor_name\": \"operating_system\",\n",
    "                    \"encoding\": \"IDENTITY\",\n",
    "                    \"modality\": \"categorical\",\n",
    "                }\n",
    "            ),\n",
    "            \"user_pseudo_id\": ExplanationMetadata.InputMetadata(\n",
    "                {\n",
    "                    \"input_tensor_name\": \"user_pseudo_id\",\n",
    "                    \"encoding\": \"IDENTITY\",\n",
    "                    \"modality\": \"categorical\",\n",
    "                }\n",
    "            ),\n",
    "        },\n",
    "        outputs={\n",
    "            \"churned_probs\": ExplanationMetadata.OutputMetadata(\n",
    "                {\"output_tensor_name\": \"churned_probs\"}\n",
    "            )\n",
    "        },\n",
    "    ),\n",
    ")"
   ]
  },
  {
   "cell_type": "code",
   "execution_count": null,
   "metadata": {
    "id": "hexssbF7wC6A"
   },
   "outputs": [],
   "source": [
    "FEATURE_ATTRIBUTION_BASELINE_DATASET = (\n",
    "    f\"{BUCKET_URI}/model-monitoring/churn/churn_no_ground_truth.jsonl\"\n",
    ")\n",
    "! gsutil cp gs://cloud-samples-data/vertex-ai/model-monitoring/churn/churn_no_ground_truth.jsonl $FEATURE_ATTRIBUTION_BASELINE_DATASET"
   ]
  },
  {
   "cell_type": "code",
   "execution_count": null,
   "metadata": {
    "id": "2SJU52cymulD"
   },
   "outputs": [],
   "source": [
    "import pandas as pd\n",
    "from vertexai.resources.preview import ml_monitoring\n",
    "\n",
    "TIMESTAMP = pd.Timestamp.utcnow().strftime(\"%Y%m%d%H%M%S\")\n",
    "JOB_DISPLAY_NAME = f\"churn_model_monitoring_job_{TIMESTAMP}\"\n",
    "BASELINE_DATASET = ml_monitoring.spec.MonitoringInput(\n",
    "    gcs_uri=FEATURE_ATTRIBUTION_BASELINE_DATASET, data_format=\"jsonl\"\n",
    ")\n",
    "TARGET_DATASET = ml_monitoring.spec.MonitoringInput(\n",
    "    batch_prediction_job=batch_prediction_job_2.resource_name\n",
    ")\n",
    "model_monitoring_job_3 = my_model_monitor.run(\n",
    "    display_name=JOB_DISPLAY_NAME,\n",
    "    baseline_dataset=BASELINE_DATASET,\n",
    "    target_dataset=TARGET_DATASET,\n",
    "    tabular_objective_spec=ml_monitoring.spec.TabularObjective(\n",
    "        # Feature attribution spec.\n",
    "        feature_attribution_spec=FEATURE_ATTRIBUTION_SPEC\n",
    "    ),\n",
    "    # You must have a Explanation spec for feature attribution monitoring.\n",
    "    # You can specify the explanation spec in the Model, Model monitor, or the Model monitoring job.\n",
    "    explanation_spec=EXPLANATION_SPEC,\n",
    "    notification_spec=NOTIFICATION_SPEC,\n",
    "    output_spec=OUTPUT_SPEC,\n",
    ")"
   ]
  },
  {
   "cell_type": "markdown",
   "metadata": {
    "id": "pzYcMoKTP0rG"
   },
   "source": [
    "##### 列出模型监控任务"
   ]
  },
  {
   "cell_type": "code",
   "execution_count": null,
   "metadata": {
    "id": "urFYUjaZ7iCP"
   },
   "outputs": [],
   "source": [
    "my_model_monitor.list_jobs()"
   ]
  },
  {
   "cell_type": "markdown",
   "metadata": {
    "id": "nL10YABxl47v"
   },
   "source": [
    "### 步骤 5：等待模型监控作业运行并验证结果"
   ]
  },
  {
   "cell_type": "markdown",
   "metadata": {
    "id": "LrSU6d0xFfzv"
   },
   "source": [
    "通过电子邮件验证结果"
   ]
  },
  {
   "cell_type": "markdown",
   "metadata": {
    "id": "zw5KodgebDVE"
   },
   "source": [
    "模型监控工作开始运行后（在批处理预测工作完成后开始），您会收到类似以下内容的电子邮件： \n",
    "\n",
    "<img src=\"https://services.google.com/fh/files/misc/create_job_email.png\" />"
   ]
  },
  {
   "cell_type": "markdown",
   "metadata": {
    "id": "37SPm_majLVj"
   },
   "source": [
    "监控工作完成后，如果检测到任何异常，您会收到类似以下的电子邮件："
   ]
  },
  {
   "cell_type": "markdown",
   "metadata": {
    "id": "LPC6ZoerifM6"
   },
   "source": [
    "检查监控指标：Google Cloud 控制台"
   ]
  },
  {
   "cell_type": "markdown",
   "metadata": {
    "id": "4Pw6Z-bVbZaE"
   },
   "source": [
    "要查看[Google Cloud控制台](https://console.cloud.google.com/vertex-ai/model-monitoring/model-monitors)中的模型监控指标，请转到**Vertex AI**下的**监控**选项卡。\n",
    "\n",
    "<img src=\"https://storage.googleapis.com/cmm-public-data/images/bp_details.gif\" />"
   ]
  },
  {
   "cell_type": "markdown",
   "metadata": {
    "id": "MFZcBnwsdSfa"
   },
   "source": [
    "检查监控指标：云存储桶\n",
    "\n",
    "运行以下命令以查看存储在云存储桶中的模型监控指标。"
   ]
  },
  {
   "cell_type": "code",
   "execution_count": null,
   "metadata": {
    "id": "NhY20BTjjkVk"
   },
   "outputs": [],
   "source": [
    "try:\n",
    "    my_model_monitor.show_feature_drift_stats(model_monitoring_job_1.name)\n",
    "except Exception as e:\n",
    "    print(e)"
   ]
  },
  {
   "cell_type": "code",
   "execution_count": null,
   "metadata": {
    "id": "qtjLw8rVcC13"
   },
   "outputs": [],
   "source": [
    "try:\n",
    "    my_model_monitor.show_feature_drift_stats(model_monitoring_job_2.name)\n",
    "except Exception as e:\n",
    "    print(e)"
   ]
  },
  {
   "cell_type": "code",
   "execution_count": null,
   "metadata": {
    "id": "-mxYA55nz6tO"
   },
   "outputs": [],
   "source": [
    "try:\n",
    "    my_model_monitor.show_output_drift_stats(model_monitoring_job_2.name)\n",
    "except Exception as e:\n",
    "    print(e)"
   ]
  },
  {
   "cell_type": "markdown",
   "metadata": {
    "id": "hovSbsmBmEKZ"
   },
   "source": [
    "步骤6：清理工作\n",
    "\n",
    "如果您不再需要您的模型监控资源，请运行以下命令来删除它们："
   ]
  },
  {
   "cell_type": "code",
   "execution_count": null,
   "metadata": {
    "id": "ejHg5PqiJPS2"
   },
   "outputs": [],
   "source": [
    "# Delete the model monitor\n",
    "my_model_monitor.delete(force=True)\n",
    "\n",
    "# Delete the model\n",
    "model.delete()"
   ]
  }
 ],
 "metadata": {
  "colab": {
   "name": "model_monitoring_for_custom_model_batch_prediction_job.ipynb",
   "toc_visible": true
  },
  "kernelspec": {
   "display_name": "Python 3",
   "name": "python3"
  }
 },
 "nbformat": 4,
 "nbformat_minor": 0
}
