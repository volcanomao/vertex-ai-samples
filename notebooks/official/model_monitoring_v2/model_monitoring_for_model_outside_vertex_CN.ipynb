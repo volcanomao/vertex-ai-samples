{
 "cells": [
  {
   "cell_type": "code",
   "execution_count": null,
   "metadata": {
    "id": "JvycbGgHyLwj"
   },
   "outputs": [],
   "source": [
    "# Copyright 2024 Google LLC\n",
    "#\n",
    "# Licensed under the Apache License, Version 2.0 (the \"License\");\n",
    "# you may not use this file except in compliance with the License.\n",
    "# You may obtain a copy of the License at\n",
    "#\n",
    "#     https://www.apache.org/licenses/LICENSE-2.0\n",
    "#\n",
    "# Unless required by applicable law or agreed to in writing, software\n",
    "# distributed under the License is distributed on an \"AS IS\" BASIS,\n",
    "# WITHOUT WARRANTIES OR CONDITIONS OF ANY KIND, either express or implied.\n",
    "# See the License for the specific language governing permissions and\n",
    "# limitations under the License."
   ]
  },
  {
   "cell_type": "markdown",
   "metadata": {
    "id": "Y0lMq-JCyREk"
   },
   "source": [
    "# Model Monitoring for Model Outside Vertex AI\n",
    "\n",
    "<table align=\"left\">\n",
    "  <td style=\"text-align: center\">\n",
    "    <a href=\"https://colab.research.google.com/github/GoogleCloudPlatform/vertex-ai-samples/blob/main/notebooks/official/model_monitoring_v2/model_monitoring_for_model_outside_vertex.ipynb\">\n",
    "      <img src=\"https://cloud.google.com/ml-engine/images/colab-logo-32px.png\" alt=\"Google Colaboratory logo\"><br> 在 Colab 中打开\n",
    "    </a>\n",
    "  </td>\n",
    "  <td style=\"text-align: center\">\n",
    "    <a href=\"https://console.cloud.google.com/vertex-ai/colab/import/https:%2F%2Fraw.githubusercontent.com%2FGoogleCloudPlatform%2Fvertex-ai-samples%2Fmain%2Fnotebooks%2Fofficial%2model_monitoring_v2%2model_monitoring_for_model_outside_vertex.ipynb\">\n",
    "      <img width=\"32px\" src=\"https://lh3.googleusercontent.com/JmcxdQi-qOpctIvWKgPtrzZdJJK-J3sWE1RsfjZNwshCFgE_9fULcNpuXYTilIR2hjwN\" alt=\"Google Cloud Colab Enterprise logo\"><br> 在 Colab Enterprise 中打开\n",
    "    </a>\n",
    "  </td>    \n",
    "  <td style=\"text-align: center\">\n",
    "    <a href=\"https://console.cloud.google.com/vertex-ai/workbench/deploy-notebook?download_url=https://raw.githubusercontent.com/GoogleCloudPlatform/vertex-ai-samples/blob/main/notebooks/official/model_monitoring_v2/model_monitoring_for_model_outside_vertex.ipynb\">\n",
    "      <img src=\"https://lh3.googleusercontent.com/UiNooY4LUgW_oTvpsNhPpQzsstV5W8F7rYgxgGBD85cWJoLmrOzhVs_ksK_vgx40SHs7jCqkTkCk=e14-rj-sc0xffffff-h130-w32\" alt=\"Vertex AI logo\"><br> 在 Workbench 中打开\n",
    "    </a>\n",
    "  </td>\n",
    "  <td style=\"text-align: center\">\n",
    "    <a href=\"https://github.com/GoogleCloudPlatform/vertex-ai-samples/blob/main/notebooks/official/model_monitoring_v2/model_monitoring_for_model_outside_vertex.ipynb\">\n",
    "      <img src=\"https://cloud.google.com/ml-engine/images/github-logo-32px.png\" alt=\"GitHub logo\"><br> 在 GitHub 上查看\n",
    "    </a>\n",
    "  </td>\n",
    "</table>"
   ]
  },
  {
   "cell_type": "markdown",
   "metadata": {
    "id": "wkF8nA1Kyc7N"
   },
   "source": [
    "## 概览\n",
    "\n",
    "本教程演示了如何使用Python的Vertex AI SDK为您的模型设置Vertex AI Model Monitoring V2。 Model Monitoring V2现在支持Vertex AI之外的模型（允许您在Vertex AI中注册一个引用/占位模型而无需工件）。此功能也可以扩展到特征存储监视。"
   ]
  },
  {
   "cell_type": "markdown",
   "metadata": {
    "id": "rDFf5evP7U4P"
   },
   "source": [
    "### 目标\n",
    "\n",
    "执行的步骤包括以下内容：\n",
    "\n",
    "- 为 Vertex AI 外部的模型注册一个参考/占位符模型\n",
    "- 创建一个模型监视器\n",
    "- 运行按需模型监控作业\n",
    "- 持续模型监控\n",
    "\n",
    "\n",
    "### 成本\n",
    "\n",
    "在公共预览期间，Vertex AI 模型监控 v2 是免费的，但您仍然会收到以下 Google Cloud 服务的账单：\n",
    "\n",
    "* [BigQuery](https://cloud.google.com/bigquery/pricing)\n",
    "* [Cloud Storage](https://cloud.google.com/storage/pricing)"
   ]
  },
  {
   "cell_type": "markdown",
   "metadata": {
    "id": "3xt2lAuLykrI"
   },
   "source": [
    "开始吧"
   ]
  },
  {
   "cell_type": "markdown",
   "metadata": {
    "id": "f3848df1e5b0"
   },
   "source": [
    "安装Vertex AI SDK和其他必需的软件包"
   ]
  },
  {
   "cell_type": "code",
   "execution_count": null,
   "metadata": {
    "id": "3gT2fULbe7cm"
   },
   "outputs": [],
   "source": [
    "! pip3 install --upgrade --quiet \\\n",
    "    google-cloud-bigquery \\\n",
    "    pandas \\\n",
    "    pandas_gbq \\\n",
    "    pyarrow \\\n",
    "    tensorflow_data_validation[visualization] \\\n",
    "    google-cloud-aiplatform"
   ]
  },
  {
   "cell_type": "markdown",
   "metadata": {
    "id": "fbOQ_xi8xhCk"
   },
   "source": [
    "请检查 google-cloud-aiplatform 的版本是否为 1.51.0 或更高版本。"
   ]
  },
  {
   "cell_type": "code",
   "execution_count": null,
   "metadata": {
    "id": "5q72gf-JxkNY"
   },
   "outputs": [],
   "source": [
    "from google.cloud import aiplatform\n",
    "\n",
    "aiplatform.__version__"
   ]
  },
  {
   "cell_type": "markdown",
   "metadata": {
    "id": "U4o9GjHNfHdI"
   },
   "source": [
    "重新启动运行时（仅限Colab）\n",
    "\n",
    "为了使用新安装的包，您必须在Google Colab上重新启动运行时。"
   ]
  },
  {
   "cell_type": "code",
   "execution_count": null,
   "metadata": {
    "id": "JaY8Q_T3fA38"
   },
   "outputs": [],
   "source": [
    "import sys\n",
    "\n",
    "if \"google.colab\" in sys.modules:\n",
    "\n",
    "    import IPython\n",
    "\n",
    "    app = IPython.Application.instance()\n",
    "    app.kernel.do_shutdown(True)"
   ]
  },
  {
   "cell_type": "markdown",
   "metadata": {
    "id": "zZHyMcW_y1lx"
   },
   "source": [
    "<div class=\"alert alert-block alert-warning\">\n",
    "<b>⚠️内核即将重新启动。在继续下一步之前，请等待它完成。⚠️</b>\n",
    "</div>"
   ]
  },
  {
   "cell_type": "markdown",
   "metadata": {
    "id": "QNiB5LfBaft-"
   },
   "source": [
    "### 在笔记本环境中进行身份验证（仅适用于Colab）\n",
    "\n",
    "在 Google Colab 上验证您的环境。"
   ]
  },
  {
   "cell_type": "code",
   "execution_count": null,
   "metadata": {
    "id": "u-Q7ErKNy7ya"
   },
   "outputs": [],
   "source": [
    "import sys\n",
    "\n",
    "if \"google.colab\" in sys.modules:\n",
    "\n",
    "    from google.colab import auth\n",
    "\n",
    "    auth.authenticate_user()"
   ]
  },
  {
   "cell_type": "markdown",
   "metadata": {
    "id": "TvY0RukOlJoi"
   },
   "source": [
    "### 设置谷歌云项目信息并初始化 Vertex AI SDK\n",
    "\n",
    "要开始使用 Vertex AI，您必须拥有一个现有的谷歌云项目并[启用 Vertex AI API](https://console.cloud.google.com/flows/enableapi?apiid=aiplatform.googleapis.com)。了解更多关于[设置项目和开发环境](https://cloud.google.com/vertex-ai/docs/start/cloud-environment)的信息。"
   ]
  },
  {
   "cell_type": "code",
   "execution_count": null,
   "metadata": {
    "id": "875Lk5EYzFHw"
   },
   "outputs": [],
   "source": [
    "PROJECT_ID = \"[your-project-id]\"  # @param {type:\"string\"}\n",
    "LOCATION = \"us-central1\"  # @param {type:\"string\"}\n",
    "\n",
    "\n",
    "import os\n",
    "\n",
    "import vertexai\n",
    "\n",
    "! gcloud config set project $PROJECT_ID\n",
    "os.environ[\"GOOGLE_CLOUD_PROJECT\"] = PROJECT_ID\n",
    "! gcloud config set ai/region $LOCATION\n",
    "\n",
    "vertexai.init(project=PROJECT_ID, location=LOCATION)"
   ]
  },
  {
   "cell_type": "markdown",
   "metadata": {
    "id": "MVnR14LEzbvd"
   },
   "source": [
    "开始模型监控教程##"
   ]
  },
  {
   "cell_type": "markdown",
   "metadata": {
    "id": "AxqAU5Ua43GR"
   },
   "source": [
    "### 步骤 1: 创建一个云存储桶\n",
    "\n",
    "创建一个云存储桶，用于存储诸如数据集等中间产物。"
   ]
  },
  {
   "cell_type": "code",
   "execution_count": null,
   "metadata": {
    "id": "3_CZRJ5L60Mi"
   },
   "outputs": [],
   "source": [
    "# Create a Cloud Storage bucket\n",
    "BUCKET_URI = f\"gs://your-bucket-name-{PROJECT_ID}-unique\"  # @param {type:\"string\"}"
   ]
  },
  {
   "cell_type": "markdown",
   "metadata": {
    "id": "lvHsyHsi7Dg8"
   },
   "source": [
    "只有当您的存储桶不存在时才能运行以下单元格以创建您的云存储桶。"
   ]
  },
  {
   "cell_type": "code",
   "execution_count": null,
   "metadata": {
    "id": "mrHlJi-e7AyX"
   },
   "outputs": [],
   "source": [
    "! gsutil mb -l {LOCATION} -p {PROJECT_ID} {BUCKET_URI}"
   ]
  },
  {
   "cell_type": "markdown",
   "metadata": {
    "id": "5ZLxDjB6lYXx"
   },
   "source": [
    "### 步骤 2：在 Vertex AI 中创建一个占位模型\n",
    "\n",
    "您可以在 Vertex AI 外部为您的模型创建一个引用/占位模型，仅使用显示名称即可。"
   ]
  },
  {
   "cell_type": "code",
   "execution_count": null,
   "metadata": {
    "id": "SwrD1CnmmJsk"
   },
   "outputs": [],
   "source": [
    "import google.cloud.aiplatform as aiplatform\n",
    "\n",
    "MODEL_NAME = \"penguins\"  # @param {type:\"string\"}\n",
    "\n",
    "model = aiplatform.Model.upload(display_name=MODEL_NAME, sync=True)"
   ]
  },
  {
   "cell_type": "markdown",
   "metadata": {
    "id": "DL9vDk7Is9-0"
   },
   "source": [
    "### 步骤3：准备您的基线和目标数据集"
   ]
  },
  {
   "cell_type": "markdown",
   "metadata": {
    "id": "yUO5gFnCtHaZ"
   },
   "source": [
    "我们建议使用BigQuery存储您的生产数据集。请确保特征存储在单独的列中。以下是一个示例BigQuery模式：\n",
    "\n",
    "注：如果您希望设置具有时间规范的连续监视，例如一个时间窗口，需要一个时间戳列。"
   ]
  },
  {
   "cell_type": "markdown",
   "metadata": {
    "id": "DT3OrZZlIXu5"
   },
   "source": [
    "为本教程创建一些虚假服务数据。"
   ]
  },
  {
   "cell_type": "code",
   "execution_count": null,
   "metadata": {
    "id": "TMU57yC04CGb"
   },
   "outputs": [],
   "source": [
    "import numpy as np\n",
    "import pandas as pd\n",
    "\n",
    "# Define the number of rows\n",
    "num_random = 100000\n",
    "\n",
    "data = {\n",
    "    \"island\": np.random.randint(0, 3, size=num_random),\n",
    "    \"culmen_length_mm\": np.random.normal(50, 3, num_random),\n",
    "    \"culmen_depth_mm\": np.random.normal(20, 3, num_random),\n",
    "    \"flipper_length_mm\": np.random.randint(160, 250, size=num_random),\n",
    "    \"body_mass_g\": np.random.randint(3000, 8000, size=num_random),\n",
    "    \"sex\": np.random.randint(0, 3, size=num_random),\n",
    "    \"predicted_species\": np.random.randint(0, 6, size=num_random),\n",
    "}\n",
    "\n",
    "# Create a DataFrame from the generated data\n",
    "df = pd.DataFrame(data)\n",
    "\n",
    "# Define the time range (start and end dates) in UTC\n",
    "# now-24h ~ now + 24h\n",
    "start_date = pd.Timestamp.utcnow() - pd.Timedelta(days=1)\n",
    "end_date = pd.Timestamp.utcnow() + pd.Timedelta(days=1)\n",
    "\n",
    "# Generate a list to store the random timestamps\n",
    "random_timestamps = []\n",
    "\n",
    "# Generate random timestamps and add them to the list\n",
    "for _ in range(num_random):\n",
    "    random_seconds = np.random.randint((end_date - start_date).total_seconds())\n",
    "    random_timestamp = start_date + pd.Timedelta(seconds=random_seconds)\n",
    "    # Format the timestamp as a string with microseconds\n",
    "    formatted_timestamp = random_timestamp.strftime(\"%Y-%m-%d %H:%M:%S.%f UTC\")\n",
    "    random_timestamps.append(formatted_timestamp)\n",
    "\n",
    "df[\"timestamp\"] = random_timestamps\n",
    "\n",
    "df.to_csv(\"production.csv\", index=False)"
   ]
  },
  {
   "cell_type": "markdown",
   "metadata": {
    "id": "HLqjAiRAttHV"
   },
   "source": [
    "创建一个BigQuery数据集，并将假数据加载到一个表中。"
   ]
  },
  {
   "cell_type": "code",
   "execution_count": null,
   "metadata": {
    "id": "BvrX7pQK4Djj"
   },
   "outputs": [],
   "source": [
    "import pandas as pd\n",
    "\n",
    "TIMESTAMP = pd.Timestamp.utcnow().strftime(\"%Y%m%d%H%M%S\")\n",
    "\n",
    "FAKE_DATA_BQ_DATASET = f\"penguins_production_{TIMESTAMP}\"\n",
    "!bq mk --dataset $PROJECT_ID:$FAKE_DATA_BQ_DATASET"
   ]
  },
  {
   "cell_type": "code",
   "execution_count": null,
   "metadata": {
    "id": "TMZ2a7vn4EsF"
   },
   "outputs": [],
   "source": [
    "FAKE_DATA_BQ_TABLE = f\"{FAKE_DATA_BQ_DATASET}.data\"\n",
    "!bq load --autodetect --source_format=CSV $FAKE_DATA_BQ_TABLE \"production.csv\""
   ]
  },
  {
   "cell_type": "markdown",
   "metadata": {
    "id": "2rj0dLO6vI0u"
   },
   "source": [
    "检查服务日志表。"
   ]
  },
  {
   "cell_type": "code",
   "execution_count": null,
   "metadata": {
    "id": "0UhZhEwSvJOl"
   },
   "outputs": [],
   "source": [
    "import pandas as pd\n",
    "\n",
    "query_string = f\"SELECT * FROM `{FAKE_DATA_BQ_TABLE}` ORDER BY timestamp DESC LIMIT 10\"\n",
    "pd.read_gbq(query_string, project_id=PROJECT_ID)"
   ]
  },
  {
   "cell_type": "markdown",
   "metadata": {
    "id": "RuwAoHTilv1j"
   },
   "source": [
    "### 步骤 4：创建模型监视器"
   ]
  },
  {
   "cell_type": "markdown",
   "metadata": {
    "id": "Wp6jVFGvC6wt"
   },
   "source": [
    "创建一个模型监视器，将监视详细信息与您刚刚创建的模型版本关联起来。"
   ]
  },
  {
   "cell_type": "markdown",
   "metadata": {
    "id": "9hH4wSCXfgoE"
   },
   "source": [
    "定义模型监控模式\n",
    "\n",
    "监控模式是模型监控器的必需配置。该模式包括输入特征名称、预测输出和基准真值（如果可用），以及它们各自的数据类型。\n",
    "\n",
    "**注意：对于自动机器学习表格（回归/分类），模式是可选的，因为当可用时会自动获取（如果模型监控无法检索到模式，则您需要提供自己的模式）。**\n",
    "\n",
    "##### 您可以按如下方式手动定义模型模式："
   ]
  },
  {
   "cell_type": "code",
   "execution_count": null,
   "metadata": {
    "id": "GR-4eTn3fkHk"
   },
   "outputs": [],
   "source": [
    "from vertexai.resources.preview import ml_monitoring\n",
    "\n",
    "MODEL_MONITORING_SCHEMA = ml_monitoring.spec.ModelMonitoringSchema(\n",
    "    feature_fields=[\n",
    "        ml_monitoring.spec.FieldSchema(name=\"island\", data_type=\"categorical\"),\n",
    "        ml_monitoring.spec.FieldSchema(name=\"culmen_length_mm\", data_type=\"float\"),\n",
    "        ml_monitoring.spec.FieldSchema(name=\"culmen_depth_mm\", data_type=\"float\"),\n",
    "        ml_monitoring.spec.FieldSchema(name=\"flipper_length_mm\", data_type=\"integer\"),\n",
    "        ml_monitoring.spec.FieldSchema(name=\"body_mass_g\", data_type=\"integer\"),\n",
    "        ml_monitoring.spec.FieldSchema(name=\"sex\", data_type=\"categorical\"),\n",
    "    ],\n",
    "    prediction_fields=[\n",
    "        ml_monitoring.spec.FieldSchema(\n",
    "            name=\"predicted_species\", data_type=\"categorical\"\n",
    "        )\n",
    "    ],\n",
    ")"
   ]
  },
  {
   "cell_type": "markdown",
   "metadata": {
    "id": "zn7YMjRMz43K"
   },
   "source": [
    "或者，如果你有大量的特征，你可以使用`transform_schema_from_bigquery`方法来检索模式，并根据需要进行修改："
   ]
  },
  {
   "cell_type": "code",
   "execution_count": null,
   "metadata": {
    "id": "oNIb_Lat0O5L"
   },
   "outputs": [],
   "source": [
    "from vertexai.resources.preview.ml_monitoring.spec import schema\n",
    "\n",
    "MODEL_MONITORING_SCHEMA = schema.transform_schema_from_bigquery(\n",
    "    query=f\"select * except(timestamp) from {FAKE_DATA_BQ_TABLE}\",\n",
    "    prediction_fields=\"predicted_species\",\n",
    ")\n",
    "print(MODEL_MONITORING_SCHEMA.to_json())"
   ]
  },
  {
   "cell_type": "markdown",
   "metadata": {
    "id": "_zn_efoq0d6T"
   },
   "source": [
    "修改架构："
   ]
  },
  {
   "cell_type": "code",
   "execution_count": null,
   "metadata": {
    "id": "rbIMWCVrzz99"
   },
   "outputs": [],
   "source": [
    "# Change feature `island` to categorical\n",
    "MODEL_MONITORING_SCHEMA.feature_fields[0].data_type = \"categorical\"\n",
    "# Change feature `sex` to categorical\n",
    "MODEL_MONITORING_SCHEMA.feature_fields[5].data_type = \"categorical\"\n",
    "# Change prediction output `predicted_species` to categorical\n",
    "MODEL_MONITORING_SCHEMA.prediction_fields[0].data_type = \"categorical\""
   ]
  },
  {
   "cell_type": "code",
   "execution_count": null,
   "metadata": {
    "id": "rYUChBL04vUY"
   },
   "outputs": [],
   "source": [
    "print(MODEL_MONITORING_SCHEMA.to_json())"
   ]
  },
  {
   "cell_type": "markdown",
   "metadata": {
    "id": "L8KuANNbiiEV"
   },
   "source": [
    "（可选）定义训练数据集"
   ]
  },
  {
   "cell_type": "markdown",
   "metadata": {
    "id": "SvFZRodti3qN"
   },
   "source": [
    "训练数据集可以作为基线数据集来计算监控指标。您可以在模型监视器中注册训练数据集。"
   ]
  },
  {
   "cell_type": "code",
   "execution_count": null,
   "metadata": {
    "id": "CSqE4_roiw-q"
   },
   "outputs": [],
   "source": [
    "from vertexai.resources.preview import ml_monitoring\n",
    "\n",
    "# Copy files to your projects gs bucket to avoid permission issues.\n",
    "# Ignore any error(s) for bucket already exists.\n",
    "PUBLIC_TRAINING_DATASET = (\n",
    "    \"gs://cloud-samples-data/vertex-ai/model-monitoring/penguins/penguins_training.csv\"\n",
    ")\n",
    "TRAINING_URI = f\"{BUCKET_URI}/model-monitoring/penguins/penguins_training.csv\"\n",
    "\n",
    "! gsutil copy $PUBLIC_TRAINING_DATASET $TRAINING_URI\n",
    "\n",
    "TRAINING_DATASET = ml_monitoring.spec.MonitoringInput(\n",
    "    gcs_uri=TRAINING_URI, data_format=\"csv\"\n",
    ")"
   ]
  },
  {
   "cell_type": "markdown",
   "metadata": {
    "id": "5ZnBZUEMjtDD"
   },
   "source": [
    "创建一个模型监控资源"
   ]
  },
  {
   "cell_type": "markdown",
   "metadata": {
    "id": "OPBdgqz6jv9_"
   },
   "source": [
    "一个模型监视器是一个顶级资源，用于管理您的度量和模型监视任务。"
   ]
  },
  {
   "cell_type": "code",
   "execution_count": null,
   "metadata": {
    "id": "l_d917Ory595"
   },
   "outputs": [],
   "source": [
    "from vertexai.resources.preview import ml_monitoring\n",
    "\n",
    "my_model_monitor = ml_monitoring.ModelMonitor.create(\n",
    "    project=PROJECT_ID,\n",
    "    location=LOCATION,\n",
    "    display_name=\"penguins_model_monitor\",\n",
    "    model_name=model.resource_name,\n",
    "    model_version_id=\"1\",\n",
    "    training_dataset=TRAINING_DATASET,\n",
    "    model_monitoring_schema=MODEL_MONITORING_SCHEMA,\n",
    ")\n",
    "MODEL_MONITOR_ID = my_model_monitor.name\n",
    "print(f\"MODEL MONITOR {MODEL_MONITOR_ID} created.\")"
   ]
  },
  {
   "cell_type": "markdown",
   "metadata": {
    "id": "dkHlwQuVli_2"
   },
   "source": [
    "### 步骤5：运行按需模型监控作业"
   ]
  },
  {
   "cell_type": "markdown",
   "metadata": {
    "id": "R0iYBC6U1ZE8"
   },
   "source": [
    "#### 定义监控目标配置\n",
    "\n",
    "对于表格模型，模型监控支持以下目标：\n",
    "\n",
    "* **输入特征漂移检测**\n",
    "\n",
    "    模型监控提供了类别和数值特征类型的漂移分析，支持以下指标：\n",
    "\n",
    "    * 类别特征：`Jensen Shannon Divergence`、`L Infinity`\n",
    "    * 数值特征：`Jensen Shannon Divergence`\n",
    "\n",
    "    您可以通过在 `ml_monitoring.spec.DataDriftSpec` 规范的 `features` 字段中指定感兴趣的特征来选择分析。如果未指定，模型模式中的所有输入特征都将被分析。此外，您可以选择为类别或数值特征设置默认阈值，或者为单个特征指定阈值。如果检测到漂移超过阈值，则会通过电子邮件或其他通知渠道发送警报。\n",
    "\n",
    "* **预测输出漂移检测**\n",
    "\n",
    "    与输入特征漂移检测类似，预测输出漂移检测识别预测输出中的数据漂移。\n",
    "\n",
    "* **特征归因漂移检测**\n",
    "\n",
    "    对于在 Vertex AI 之外的模型而言，没有模型工件或容器信息，因此不支持特征归因分数漂移检测。"
   ]
  },
  {
   "cell_type": "markdown",
   "metadata": {
    "id": "vPDk-0FUdudb"
   },
   "source": [
    "在下面的例子中，我们设置了`FEATURE_DRIFT_SPEC`和`PREDICTION_OUTPUT_DRIFT_SPEC`，这是在`tabular_objective_spec`中组合的。"
   ]
  },
  {
   "cell_type": "code",
   "execution_count": null,
   "metadata": {
    "id": "6-VApGAl7FVx"
   },
   "outputs": [],
   "source": [
    "from vertexai.resources.preview import ml_monitoring\n",
    "\n",
    "DEFAULT_THRESHOLD_VALUE = 0.001\n",
    "\n",
    "FEATURE_THRESHOLDS = {\n",
    "    \"culmen_length_mm\": DEFAULT_THRESHOLD_VALUE,\n",
    "    \"body_mass_g\": 0.002,\n",
    "}\n",
    "\n",
    "FEATURE_DRIFT_SPEC = ml_monitoring.spec.DataDriftSpec(\n",
    "    categorical_metric_type=\"l_infinity\",\n",
    "    numeric_metric_type=\"jensen_shannon_divergence\",\n",
    "    default_categorical_alert_threshold=0.001,\n",
    "    default_numeric_alert_threshold=0.002,\n",
    "    feature_alert_thresholds=FEATURE_THRESHOLDS,\n",
    ")\n",
    "\n",
    "PREDICTION_OUTPUT_DRIFT_SPEC = ml_monitoring.spec.DataDriftSpec(\n",
    "    categorical_metric_type=\"l_infinity\",\n",
    "    numeric_metric_type=\"jensen_shannon_divergence\",\n",
    "    default_categorical_alert_threshold=0.001,\n",
    "    default_numeric_alert_threshold=0.001,\n",
    ")"
   ]
  },
  {
   "cell_type": "markdown",
   "metadata": {
    "id": "avV5qcCUr9IT"
   },
   "source": [
    "定义警报通知和指标输出规范。"
   ]
  },
  {
   "cell_type": "markdown",
   "metadata": {
    "id": "8N9YlXzOvyOs"
   },
   "source": [
    "我们支持各种通知方法：\n",
    "\n",
    "* 邮件\n",
    "* [通知渠道](https://cloud.google.com/monitoring/support/notification-options)\n",
    "* [云日志](https://cloud.google.com/logging/docs?_gl=1*tdcri2*_up*MQ..&gclid=Cj0KCQjwir2xBhC_ARIsAMTXk84diOnqqpDckjOZUas26cUXUgEAgEGT9uFpz9tTvkfUjmVnRs7lQuwaAjiwEALw_wcB&gclsrc=aw.ds)  \n",
    "\n",
    "在这个笔记本中，我们以电子邮件为例。"
   ]
  },
  {
   "cell_type": "code",
   "execution_count": null,
   "metadata": {
    "id": "yclsJhNrsI-F"
   },
   "outputs": [],
   "source": [
    "import os\n",
    "\n",
    "from vertexai.resources.preview import ml_monitoring\n",
    "\n",
    "EMAIL = \"[your-email-address]\"  # @param {type:\"string\"}\n",
    "if os.getenv(\"IS_TESTING\"):\n",
    "    EMAIL = \"noreply@google.com\"\n",
    "\n",
    "NOTIFICATION_SPEC = ml_monitoring.spec.NotificationSpec(\n",
    "    user_emails=[EMAIL],\n",
    ")\n",
    "\n",
    "OUTPUT_SPEC = ml_monitoring.spec.OutputSpec(gcs_base_dir=BUCKET_URI)"
   ]
  },
  {
   "cell_type": "markdown",
   "metadata": {
    "id": "rQzbfaAFq9mV"
   },
   "source": [
    "运行模型监测作业"
   ]
  },
  {
   "cell_type": "markdown",
   "metadata": {
    "id": "vQm3hJHZ12nK"
   },
   "source": [
    "让我们开始对特征漂移检测的监控工作（比较训练数据和提供数据）。\n",
    "在这个例子中，训练数据是来自Google Cloud Storage的CSV文件，而提供数据来自BigQuery。我们支持两种连接选项：\n",
    "\n",
    "* table_uri：从表中提取所有特征。\n",
    "* query：使用SQL查询，您可以选择您感兴趣的特征进行分析。如果您想指定数据窗口或设置连续监控，请确保包括时间戳列。"
   ]
  },
  {
   "cell_type": "markdown",
   "metadata": {
    "id": "ZpCvUgUn7Jd4"
   },
   "source": [
    "示例1: 使用BigQuery表URI"
   ]
  },
  {
   "cell_type": "code",
   "execution_count": null,
   "metadata": {
    "id": "2BDR8c_f7V3q"
   },
   "outputs": [],
   "source": [
    "import pandas as pd\n",
    "from vertexai.resources.preview import ml_monitoring\n",
    "\n",
    "TIMESTAMP = pd.Timestamp.utcnow().strftime(\"%Y%m%d%H%M%S\")\n",
    "JOB_DISPLAY_NAME = f\"penguins_model_monitoring_job_{TIMESTAMP}\"\n",
    "model_monitoring_job_1 = my_model_monitor.run(\n",
    "    display_name=JOB_DISPLAY_NAME,\n",
    "    baseline_dataset=TRAINING_DATASET,\n",
    "    target_dataset=ml_monitoring.spec.MonitoringInput(\n",
    "        table_uri=f\"bq://{PROJECT_ID}.{FAKE_DATA_BQ_TABLE}\"\n",
    "    ),\n",
    "    tabular_objective_spec=ml_monitoring.spec.TabularObjective(\n",
    "        # Input feature drift spec.\n",
    "        feature_drift_spec=FEATURE_DRIFT_SPEC,\n",
    "        # Prediction output drift spec.\n",
    "        prediction_output_drift_spec=PREDICTION_OUTPUT_DRIFT_SPEC,\n",
    "    ),\n",
    "    notification_spec=NOTIFICATION_SPEC,\n",
    "    output_spec=OUTPUT_SPEC,\n",
    ")"
   ]
  },
  {
   "cell_type": "markdown",
   "metadata": {
    "id": "-ebZS3Dn7O4l"
   },
   "source": [
    "例2：使用SQL查询"
   ]
  },
  {
   "cell_type": "markdown",
   "metadata": {
    "id": "bAY1AEBZ6sT6"
   },
   "source": [
    "让我们使用SQL查询创建另一个模型监控任务。如果您想指定时间规范，请确保包括时间戳列。"
   ]
  },
  {
   "cell_type": "code",
   "execution_count": null,
   "metadata": {
    "id": "b046NzvZ6qtX"
   },
   "outputs": [],
   "source": [
    "TIMESTAMP = pd.Timestamp.utcnow().strftime(\"%Y%m%d%H%M%S\")\n",
    "JOB_DISPLAY_NAME = f\"penguins_model_monitoring_job_{TIMESTAMP}\"\n",
    "model_monitoring_job_2 = my_model_monitor.run(\n",
    "    display_name=JOB_DISPLAY_NAME,\n",
    "    baseline_dataset=TRAINING_DATASET,\n",
    "    target_dataset=ml_monitoring.spec.MonitoringInput(\n",
    "        query=f\"select island, culmen_length_mm, body_mass_g, predicted_species, timestamp from {PROJECT_ID}.{FAKE_DATA_BQ_TABLE}\",\n",
    "        timestamp_field=\"timestamp\",\n",
    "        window=\"2h\",\n",
    "    ),\n",
    "    tabular_objective_spec=ml_monitoring.spec.TabularObjective(\n",
    "        # Input feature drift spec.\n",
    "        feature_drift_spec=FEATURE_DRIFT_SPEC,\n",
    "        # Prediction output drift spec.\n",
    "        prediction_output_drift_spec=PREDICTION_OUTPUT_DRIFT_SPEC,\n",
    "    ),\n",
    "    notification_spec=NOTIFICATION_SPEC,\n",
    "    output_spec=OUTPUT_SPEC,\n",
    ")"
   ]
  },
  {
   "cell_type": "code",
   "execution_count": null,
   "metadata": {
    "id": "xlOwnrOA8Tpf"
   },
   "outputs": [],
   "source": [
    "my_model_monitor.list_jobs()"
   ]
  },
  {
   "cell_type": "markdown",
   "metadata": {
    "id": "nL10YABxl47v"
   },
   "source": [
    "### 步骤6：等待模型监控作业完成并验证结果。"
   ]
  },
  {
   "cell_type": "markdown",
   "metadata": {
    "id": "LrSU6d0xFfzv"
   },
   "source": [
    "检查邮件"
   ]
  },
  {
   "cell_type": "markdown",
   "metadata": {
    "id": "zw5KodgebDVE"
   },
   "source": [
    "一旦模型监控工作开始运行（在批量预测工作完成后开始），您将收到一封如下的电子邮件：\n",
    "\n",
    "<img src=\"https://services.google.com/fh/files/misc/create_job_email.png\" />"
   ]
  },
  {
   "cell_type": "markdown",
   "metadata": {
    "id": "37SPm_majLVj"
   },
   "source": [
    "一旦监控工作完成，如果检测到任何异常，您将会收到类似以下内容的电子邮件： \n",
    "\n",
    "<img src=\"https://services.google.com/fh/files/misc/place_holder_job_anomalies.png\" />"
   ]
  },
  {
   "cell_type": "markdown",
   "metadata": {
    "id": "LPC6ZoerifM6"
   },
   "source": [
    "检查监控指标：Google云控制台"
   ]
  },
  {
   "cell_type": "markdown",
   "metadata": {
    "id": "4Pw6Z-bVbZaE"
   },
   "source": [
    "要查看[Google Cloud控制台](https://console.cloud.google.com/vertex-ai/model-monitoring/model-monitors)中的模型监控指标，请转到**Vertex AI**下的**监控**选项卡。\n",
    "\n",
    "<img src=\"https://services.google.com/fh/files/misc/place_holder_job_details.gif\" />"
   ]
  },
  {
   "cell_type": "markdown",
   "metadata": {
    "id": "MFZcBnwsdSfa"
   },
   "source": [
    "检查监控指标：Cloud存储桶\n",
    "\n",
    "运行以下命令以查看存储在Cloud存储桶中的模型监控指标。"
   ]
  },
  {
   "cell_type": "code",
   "execution_count": null,
   "metadata": {
    "id": "NhY20BTjjkVk"
   },
   "outputs": [],
   "source": [
    "try:\n",
    "    my_model_monitor.show_feature_drift_stats(model_monitoring_job_1.name)\n",
    "except Exception as e:\n",
    "    print(e)"
   ]
  },
  {
   "cell_type": "code",
   "execution_count": null,
   "metadata": {
    "id": "2UZ76MY1As5F"
   },
   "outputs": [],
   "source": [
    "try:\n",
    "    my_model_monitor.show_output_drift_stats(model_monitoring_job_1.name)\n",
    "except Exception as e:\n",
    "    print(e)"
   ]
  },
  {
   "cell_type": "code",
   "execution_count": null,
   "metadata": {
    "id": "qtjLw8rVcC13"
   },
   "outputs": [],
   "source": [
    "try:\n",
    "    my_model_monitor.show_feature_drift_stats(model_monitoring_job_2.name)\n",
    "except Exception as e:\n",
    "    print(e)"
   ]
  },
  {
   "cell_type": "code",
   "execution_count": null,
   "metadata": {
    "id": "bHyOo5rBAwAt"
   },
   "outputs": [],
   "source": [
    "try:\n",
    "    my_model_monitor.show_output_drift_stats(model_monitoring_job_2.name)\n",
    "except Exception as e:\n",
    "    print(e)"
   ]
  },
  {
   "cell_type": "markdown",
   "metadata": {
    "id": "CgZfvZMu74xy"
   },
   "source": [
    "### 步骤7：安排连续的模型监控\n",
    "\n",
    "要设置连续的模型监控，请按照以下示例创建日程安排。您可以为您的模型监视器创建多个日程安排。\n",
    "\n",
    "以下示例监视输入特征和预测输出的漂移。日程安排配置为每小时在整点启动模型监控作业，比如在00:00、01:00等时刻。每个作业分析前一个小时窗口内收集的数据。例如，如果一个作业计划于上午6点执行，则它将分析从上午5点到6点收集的数据。"
   ]
  },
  {
   "cell_type": "code",
   "execution_count": null,
   "metadata": {
    "id": "18FjuOW17__w"
   },
   "outputs": [],
   "source": [
    "# Every 1 hour at :00, for example 1:00, 2:00..\n",
    "CRON = \"0 * * * *\"  # @param {type:\"string\"}\n",
    "SCHEDULE_DISPLAY_NAME = \"penguins-continous-drift-detection\""
   ]
  },
  {
   "cell_type": "code",
   "execution_count": null,
   "metadata": {
    "id": "8oGOig5y8BNI"
   },
   "outputs": [],
   "source": [
    "model_monitoring_schedule = my_model_monitor.create_schedule(\n",
    "    display_name=SCHEDULE_DISPLAY_NAME,\n",
    "    cron=CRON,\n",
    "    baseline_dataset=ml_monitoring.spec.MonitoringInput(\n",
    "        table_uri=f\"bq://{PROJECT_ID}.{FAKE_DATA_BQ_TABLE}\",\n",
    "        timestamp_field=\"timestamp\",\n",
    "        window=\"1h\",\n",
    "        offset=\"1h\",\n",
    "    ),\n",
    "    target_dataset=ml_monitoring.spec.MonitoringInput(\n",
    "        table_uri=f\"bq://{PROJECT_ID}.{FAKE_DATA_BQ_TABLE}\",\n",
    "        timestamp_field=\"timestamp\",\n",
    "        window=\"1h\",\n",
    "    ),\n",
    "    tabular_objective_spec=ml_monitoring.spec.TabularObjective(\n",
    "        # Input feature drift spec.\n",
    "        feature_drift_spec=FEATURE_DRIFT_SPEC,\n",
    "        # Prediction output drift spec.\n",
    "        prediction_output_drift_spec=PREDICTION_OUTPUT_DRIFT_SPEC,\n",
    "    ),\n",
    "    notification_spec=ml_monitoring.spec.NotificationSpec(\n",
    "        user_emails=[EMAIL],\n",
    "    ),\n",
    "    output_spec=ml_monitoring.spec.OutputSpec(gcs_base_dir=BUCKET_URI),\n",
    ")\n",
    "\n",
    "SCHEDULE_RESOURCE_NAME = model_monitoring_schedule.name\n",
    "print(f\"Schedule {SCHEDULE_RESOURCE_NAME} created.\")"
   ]
  },
  {
   "cell_type": "markdown",
   "metadata": {
    "id": "MEPsa1ZhyYMc"
   },
   "source": [
    "暂停计划\n",
    "\n",
    "运行以下命令暂停模型监控计划:"
   ]
  },
  {
   "cell_type": "code",
   "execution_count": null,
   "metadata": {
    "id": "3ryjUl5DyZQN"
   },
   "outputs": [],
   "source": [
    "my_model_monitor.pause_schedule(SCHEDULE_RESOURCE_NAME)"
   ]
  },
  {
   "cell_type": "markdown",
   "metadata": {
    "id": "h0UF10HQyazl"
   },
   "source": [
    "恢复时间表\n",
    "\n",
    "运行以下命令以恢复暂停的模型监控时间表："
   ]
  },
  {
   "cell_type": "code",
   "execution_count": null,
   "metadata": {
    "id": "STc5QWGnydEy"
   },
   "outputs": [],
   "source": [
    "my_model_monitor.resume_schedule(SCHEDULE_RESOURCE_NAME)"
   ]
  },
  {
   "cell_type": "markdown",
   "metadata": {
    "id": "W-NNTbacyezA"
   },
   "source": [
    "更新时间表\n",
    "\n",
    "运行以下命令以更新模型监控时间表："
   ]
  },
  {
   "cell_type": "code",
   "execution_count": null,
   "metadata": {
    "id": "WXRYWEDNygR4"
   },
   "outputs": [],
   "source": [
    "# Update to run every 1 hour at :30, for example 0:30, 1:30, 2:00..\n",
    "my_model_monitor.update_schedule(\n",
    "    schedule_name=SCHEDULE_RESOURCE_NAME, cron=\"30 * * * *\"\n",
    ")"
   ]
  },
  {
   "cell_type": "markdown",
   "metadata": {
    "id": "BWB251IR8Jn2"
   },
   "source": [
    "#### 检查Google Cloud控制台中的监控计划\n",
    "\n",
    "要在Google Cloud控制台中检查您的模型监控计划，请转到Vertex AI下的监控选项卡。"
   ]
  },
  {
   "cell_type": "markdown",
   "metadata": {
    "id": "hovSbsmBmEKZ"
   },
   "source": [
    "步骤8：清理\n",
    "\n",
    "如果您不再需要您的模型监控资源，请运行以下命令来删除它们："
   ]
  },
  {
   "cell_type": "code",
   "execution_count": null,
   "metadata": {
    "id": "ejHg5PqiJPS2"
   },
   "outputs": [],
   "source": [
    "from google.cloud import bigquery\n",
    "\n",
    "# When no jobs are running, delete the model monitor.\n",
    "my_model_monitor.delete(force=True)\n",
    "\n",
    "# Delete the model.\n",
    "model.delete()\n",
    "\n",
    "# Delete BQ logging table.\n",
    "bqclient = bigquery.Client(project=PROJECT_ID)\n",
    "# Delete the dataset (including all tables)\n",
    "bqclient.delete_dataset(FAKE_DATA_BQ_DATASET, delete_contents=True, not_found_ok=True)"
   ]
  }
 ],
 "metadata": {
  "colab": {
   "name": "model_monitoring_for_model_outside_vertex.ipynb",
   "toc_visible": true
  },
  "kernelspec": {
   "display_name": "Python 3",
   "name": "python3"
  }
 },
 "nbformat": 4,
 "nbformat_minor": 0
}
