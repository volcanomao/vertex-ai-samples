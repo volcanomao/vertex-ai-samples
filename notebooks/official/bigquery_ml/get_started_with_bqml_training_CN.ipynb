{
 "cells": [
  {
   "cell_type": "code",
   "execution_count": null,
   "metadata": {
    "id": "copyright"
   },
   "outputs": [],
   "source": [
    "# Copyright 2022 Google LLC\n",
    "#\n",
    "# Licensed under the Apache License, Version 2.0 (the \"License\");\n",
    "# you may not use this file except in compliance with the License.\n",
    "# You may obtain a copy of the License at\n",
    "#\n",
    "#     https://www.apache.org/licenses/LICENSE-2.0\n",
    "#\n",
    "# Unless required by applicable law or agreed to in writing, software\n",
    "# distributed under the License is distributed on an \"AS IS\" BASIS,\n",
    "# WITHOUT WARRANTIES OR CONDITIONS OF ANY KIND, either express or implied.\n",
    "# See the License for the specific language governing permissions and\n",
    "# limitations under the License."
   ]
  },
  {
   "cell_type": "markdown",
   "metadata": {
    "id": "title:generic,gcp"
   },
   "source": [
    "# 开始使用BigQuery ML培训\n",
    "\n",
    "<table align=\"left\">\n",
    "  <td>\n",
    "    <a href=\"https://github.com/GoogleCloudPlatform/vertex-ai-samples/blob/main/notebooks/official/bigquery_ml/get_started_with_bqml_training.ipynb\">\n",
    "      <img src=\"https://cloud.google.com/ml-engine/images/github-logo-32px.png\" alt=\"GitHub logo\">\n",
    "      在GitHub上查看\n",
    "    </a>\n",
    "  </td>\n",
    "    <td>\n",
    "        <a href=\"https://colab.research.google.com/github/GoogleCloudPlatform/vertex-ai-samples/blob/main/notebooks/official/bigquery_ml/get_started_with_bqml_training.ipynb\">\n",
    "        <img src=\"https://cloud.google.com/ml-engine/images/colab-logo-32px.png\" alt=\"Colab logo\"> 在Colab中运行\n",
    "        </a>\n",
    "  </td>\n",
    "  <td>\n",
    "    <a href=\"https://console.cloud.google.com/vertex-ai/workbench/deploy-notebook?download_url=https://raw.githubusercontent.com/GoogleCloudPlatform/vertex-ai-samples/main/notebooks/official/bigquery_ml/get_started_with_bqml_training.ipynb\">\n",
    "      <img src=\"https://lh3.googleusercontent.com/UiNooY4LUgW_oTvpsNhPpQzsstV5W8F7rYgxgGBD85cWJoLmrOzhVs_ksK_vgx40SHs7jCqkTkCk=e14-rj-sc0xffffff-h130-w32\" alt=\"Vertex AI logo\">\n",
    "      在Vertex AI Workbench中打开\n",
    "    </a>\n",
    "  </td>\n",
    "</table>\n",
    "<br/><br/><br/>"
   ]
  },
  {
   "cell_type": "markdown",
   "metadata": {
    "id": "overview:mlops"
   },
   "source": [
    "概述\n",
    "\n",
    "本教程演示了如何在生产环境中使用Vertex AI。本教程涵盖了如何开始使用BigQuery ML进行训练。\n",
    "\n",
    "了解更多关于[BigQuery ML](https://cloud.google.com/vertex-ai/docs/beginner/bqml)。"
   ]
  },
  {
   "cell_type": "markdown",
   "metadata": {
    "id": "objective:mlops,stage2,get_started_bqml_training"
   },
   "source": [
    "### 目标\n",
    "\n",
    "在本教程中，您将学习如何使用BigQuery ML在Vertex AI上进行训练。\n",
    "\n",
    "此教程使用以下Google Cloud ML服务：\n",
    "\n",
    "- BigQuery ML 训练\n",
    "- Vertex AI 模型资源\n",
    "- Vertex AI Vizier\n",
    "\n",
    "执行的步骤包括：\n",
    "\n",
    "- 在您的项目中创建一个本地的BigQuery表\n",
    "- 训练一个BigQuery ML模型\n",
    "- 评估BigQuery ML模型\n",
    "- 将BigQuery ML模型导出为云模型\n",
    "- 将导出的模型上传为Vertex AI模型资源\n",
    "- 使用Vertex AI Vizier对BigQuery ML模型进行超参数调整\n",
    "- 自动将BigQuery ML模型注册到Vertex AI模型注册表"
   ]
  },
  {
   "cell_type": "markdown",
   "metadata": {
    "id": "dataset:penguins,lcn,bq"
   },
   "source": [
    "### 数据集\n",
    "\n",
    "本教程使用的数据集来自[BigQuery公共数据集](https://cloud.google.com/bigquery/public-data)中的企鹅数据集。该数据集的这个版本用于根据可用特征（如喙长度、鳍深度等）来预测企鹅的物种。"
   ]
  },
  {
   "cell_type": "markdown",
   "metadata": {
    "id": "81c777b8ad32"
   },
   "source": [
    "### 成本\n",
    "本教程使用 Google Cloud 的可计费组件：\n",
    "\n",
    "- Vertex AI\n",
    "- 云存储\n",
    "- BigQuery\n",
    "\n",
    "了解 [Vertex AI 定价](https://cloud.google.com/vertex-ai/pricing)、[云存储定价](https://cloud.google.com/storage/pricing) 和 [BigQuery 定价](https://cloud.google.com/bigquery/pricing)，并使用 [定价计算器](https://cloud.google.com/products/calculator/) 根据您预期的使用情况生成成本估算。"
   ]
  },
  {
   "cell_type": "markdown",
   "metadata": {
    "id": "install_mlops"
   },
   "source": [
    "安装以下软件包以执行此笔记本。"
   ]
  },
  {
   "cell_type": "code",
   "execution_count": null,
   "metadata": {
    "id": "install_mlops"
   },
   "outputs": [],
   "source": [
    "# Install the packages\n",
    "! pip3 install --upgrade --quiet pyarrow \\\n",
    "                                 google-cloud-aiplatform \\\n",
    "                                 google-cloud-bigquery \\\n",
    "                                 google-cloud-bigquery-storage \\\n",
    "                                 db-dtypes "
   ]
  },
  {
   "cell_type": "markdown",
   "metadata": {
    "id": "restart"
   },
   "source": [
    "只有协作：请取消对以下单元格的注释以重新启动内核"
   ]
  },
  {
   "cell_type": "code",
   "execution_count": null,
   "metadata": {
    "id": "D-ZBOjErv5mM"
   },
   "outputs": [],
   "source": [
    "# Automatically restart kernel after installs so that your environment can access the new packages\n",
    "# import IPython\n",
    "\n",
    "# app = IPython.Application.instance()\n",
    "# app.kernel.do_shutdown(True)"
   ]
  },
  {
   "cell_type": "markdown",
   "metadata": {
    "id": "yfEglUHQk9S3"
   },
   "source": [
    "## 在开始之前\n",
    "\n",
    "### 设置您的项目ID\n",
    "\n",
    "**如果您不知道您的项目ID**，请尝试以下操作：\n",
    "* 运行 `gcloud config list`。\n",
    "* 运行 `gcloud projects list`。\n",
    "* 参阅支持页面：[查找项目ID](https://support.google.com/googleapi/answer/7014113)"
   ]
  },
  {
   "cell_type": "code",
   "execution_count": null,
   "metadata": {
    "id": "set_project_id"
   },
   "outputs": [],
   "source": [
    "PROJECT_ID = \"[your-project-id]\"  # @param {type:\"string\"}\n",
    "\n",
    "# Set the project id\n",
    "! gcloud config set project {PROJECT_ID}"
   ]
  },
  {
   "cell_type": "markdown",
   "metadata": {
    "id": "region"
   },
   "source": [
    "区域\n",
    "\n",
    "您也可以更改 Vertex AI 使用的 `REGION` 变量。了解有关 [Vertex AI 区域](https://cloud.google.com/vertex-ai/docs/general/locations) 的更多信息。"
   ]
  },
  {
   "cell_type": "code",
   "execution_count": null,
   "metadata": {
    "id": "region"
   },
   "outputs": [],
   "source": [
    "REGION = \"us-central1\"  # @param {type: \"string\"}"
   ]
  },
  {
   "cell_type": "markdown",
   "metadata": {
    "id": "gcp_authenticate"
   },
   "source": [
    "### 验证您的谷歌云账户\n",
    "\n",
    "根据您的Jupyter环境，您可能需要手动进行身份验证。请按照下面的相关说明操作。\n",
    "\n",
    "**1. Vertex AI Workbench**\n",
    "* 无需做任何操作，因为您已经通过身份验证。\n",
    "\n",
    "**2. 本地JupyterLab实例，请取消注释并运行：**"
   ]
  },
  {
   "cell_type": "code",
   "execution_count": null,
   "metadata": {
    "id": "ce6043da7b33"
   },
   "outputs": [],
   "source": [
    "# ! gcloud auth login"
   ]
  },
  {
   "cell_type": "markdown",
   "metadata": {
    "id": "0367eac06a10"
   },
   "source": [
    "3. 合作, 取消注释并运行:"
   ]
  },
  {
   "cell_type": "code",
   "execution_count": null,
   "metadata": {
    "id": "21ad4dbb4a61"
   },
   "outputs": [],
   "source": [
    "# from google.colab import auth\n",
    "# auth.authenticate_user()"
   ]
  },
  {
   "cell_type": "markdown",
   "metadata": {
    "id": "c13224697bfb"
   },
   "source": [
    "查看如何在以下网址 https://cloud.google.com/storage/docs/gsutil/commands/iam#ch-examples 为您的服务帐号授予云存储权限。"
   ]
  },
  {
   "cell_type": "markdown",
   "metadata": {
    "id": "bucket:mbsdk"
   },
   "source": [
    "创建一个云存储桶\n",
    "\n",
    "创建一个存储桶来存储中间产物，如数据集。"
   ]
  },
  {
   "cell_type": "code",
   "execution_count": null,
   "metadata": {
    "id": "bucket"
   },
   "outputs": [],
   "source": [
    "BUCKET_URI = f\"gs://your-bucket-name-{PROJECT_ID}-unique\"  # @param {type:\"string\"}"
   ]
  },
  {
   "cell_type": "markdown",
   "metadata": {
    "id": "create_bucket"
   },
   "source": [
    "如果您的存储桶尚不存在：运行以下单元格以创建您的云存储存储桶。"
   ]
  },
  {
   "cell_type": "code",
   "execution_count": null,
   "metadata": {
    "id": "create_bucket"
   },
   "outputs": [],
   "source": [
    "! gsutil mb -l {REGION} {BUCKET_URI}"
   ]
  },
  {
   "cell_type": "markdown",
   "metadata": {
    "id": "set_service_account"
   },
   "source": [
    "#### 服务账号\n",
    "\n",
    "您可以使用服务账号来创建Vertex AI管道作业。如果您不想使用项目的计算引擎服务账号，请将`SERVICE_ACCOUNT`设置为另一个服务账号ID。"
   ]
  },
  {
   "cell_type": "code",
   "execution_count": null,
   "metadata": {
    "id": "set_service_account"
   },
   "outputs": [],
   "source": [
    "SERVICE_ACCOUNT = \"[your-service-account]\"  # @param {type:\"string\"}"
   ]
  },
  {
   "cell_type": "code",
   "execution_count": null,
   "metadata": {
    "id": "autoset_service_account"
   },
   "outputs": [],
   "source": [
    "import sys\n",
    "\n",
    "IS_COLAB = \"google.colab\" in sys.modules\n",
    "\n",
    "if (\n",
    "    SERVICE_ACCOUNT == \"\"\n",
    "    or SERVICE_ACCOUNT is None\n",
    "    or SERVICE_ACCOUNT == \"[your-service-account]\"\n",
    "):\n",
    "    # Get your service account from gcloud\n",
    "    if not IS_COLAB:\n",
    "        shell_output = !gcloud auth list 2>/dev/null\n",
    "        SERVICE_ACCOUNT = shell_output[2].replace(\"*\", \"\").strip()\n",
    "\n",
    "    if IS_COLAB:\n",
    "        shell_output = ! gcloud projects describe  $PROJECT_ID\n",
    "        project_number = shell_output[-1].split(\":\")[1].strip().replace(\"'\", \"\")\n",
    "        SERVICE_ACCOUNT = f\"{project_number}-compute@developer.gserviceaccount.com\"\n",
    "\n",
    "    print(\"Service Account:\", SERVICE_ACCOUNT)"
   ]
  },
  {
   "cell_type": "markdown",
   "metadata": {
    "id": "setup_vars"
   },
   "source": [
    "### 导入库并定义常量"
   ]
  },
  {
   "cell_type": "code",
   "execution_count": null,
   "metadata": {
    "id": "import_aip:mbsdk"
   },
   "outputs": [],
   "source": [
    "import google.cloud.aiplatform as aiplatform\n",
    "from google.cloud import bigquery"
   ]
  },
  {
   "cell_type": "markdown",
   "metadata": {
    "id": "init_aip:mbsdk"
   },
   "source": [
    "### 初始化Python的Vertex AI和BigQuery SDK\n",
    "\n",
    "为你的项目和相应的存储桶初始化Python的Vertex AI SDK。"
   ]
  },
  {
   "cell_type": "code",
   "execution_count": null,
   "metadata": {
    "id": "init_aip:mbsdk"
   },
   "outputs": [],
   "source": [
    "aiplatform.init(project=PROJECT_ID, staging_bucket=BUCKET_URI)"
   ]
  },
  {
   "cell_type": "markdown",
   "metadata": {
    "id": "init_bq"
   },
   "source": [
    "创建 BigQuery 客户端。"
   ]
  },
  {
   "cell_type": "code",
   "execution_count": null,
   "metadata": {
    "id": "init_bq"
   },
   "outputs": [],
   "source": [
    "bqclient = bigquery.Client(project=PROJECT_ID)"
   ]
  },
  {
   "cell_type": "markdown",
   "metadata": {
    "id": "accelerators:prediction,mbsdk"
   },
   "source": [
    "### 设置硬件加速器\n",
    "\n",
    "您可以为预测设置硬件加速器。\n",
    "\n",
    "将变量`DEPLOY_GPU/DEPLOY_NGPU`设置为使用支持 GPU 的容器映像和分配给虚拟机实例（VM）的 GPU 数量。例如，要使用一个 GPU 容器映像，每个 VM 配置有 4 个 Nvidia Telsa K80 GPU，您可以指定：\n",
    "\n",
    "    (aiplatform.AcceleratorType.NVIDIA_TESLA_K80, 4)\n",
    "\n",
    "否则，指定`(None, None)`以使用一个运行在 CPU 上的容器映像。\n",
    "\n",
    "在此处了解更多有关您所在地区的[硬件加速器支持](https://cloud.google.com/vertex-ai/docs/general/locations#accelerators)。"
   ]
  },
  {
   "cell_type": "code",
   "execution_count": null,
   "metadata": {
    "id": "accelerators:prediction,mbsdk"
   },
   "outputs": [],
   "source": [
    "import os\n",
    "\n",
    "if os.getenv(\"IS_TESTING_DEPLOY_GPU\"):\n",
    "    DEPLOY_GPU, DEPLOY_NGPU = (\n",
    "        aiplatform.gapic.AcceleratorType.NVIDIA_TESLA_K80,\n",
    "        int(os.getenv(\"IS_TESTING_DEPLOY_GPU\")),\n",
    "    )\n",
    "else:\n",
    "    DEPLOY_GPU, DEPLOY_NGPU = (aiplatform.gapic.AcceleratorType.NVIDIA_TESLA_K80, 1)"
   ]
  },
  {
   "cell_type": "markdown",
   "metadata": {
    "id": "container:prediction"
   },
   "source": [
    "### 设置预构建容器\n",
    "\n",
    "为预测设置预构建的Docker容器镜像。\n",
    "\n",
    "- 将变量`TF`设置为容器镜像的TensorFlow版本。例如，`2-1`表示版本2.1，`1-15`表示版本1.15。以下列表显示了一些可用的预构建镜像：\n",
    "\n",
    "要查看最新列表，请访问[用于预测的预构建容器](https://cloud.google.com/ai-platform-unified/docs/predictions/pre-built-containers)。"
   ]
  },
  {
   "cell_type": "code",
   "execution_count": null,
   "metadata": {
    "id": "container:prediction"
   },
   "outputs": [],
   "source": [
    "if os.getenv(\"IS_TESTING_TF\"):\n",
    "    TF = os.getenv(\"IS_TESTING_TF\")\n",
    "else:\n",
    "    TF = \"2.5\".replace(\".\", \"-\")\n",
    "\n",
    "if TF[0] == \"2\":\n",
    "    if DEPLOY_GPU:\n",
    "        DEPLOY_VERSION = \"tf2-gpu.{}\".format(TF)\n",
    "    else:\n",
    "        DEPLOY_VERSION = \"tf2-cpu.{}\".format(TF)\n",
    "else:\n",
    "    if DEPLOY_GPU:\n",
    "        DEPLOY_VERSION = \"tf-gpu.{}\".format(TF)\n",
    "    else:\n",
    "        DEPLOY_VERSION = \"tf-cpu.{}\".format(TF)\n",
    "\n",
    "DEPLOY_IMAGE = \"{}-docker.pkg.dev/vertex-ai/prediction/{}:latest\".format(\n",
    "    REGION.split(\"-\")[0], DEPLOY_VERSION\n",
    ")\n",
    "\n",
    "print(\"Deployment:\", DEPLOY_IMAGE, DEPLOY_GPU)"
   ]
  },
  {
   "cell_type": "markdown",
   "metadata": {
    "id": "machine:prediction"
   },
   "source": [
    "### 设置机器类型\n",
    "\n",
    "接下来，设置用于预测的机器类型。\n",
    "\n",
    "- 将变量`DEPLOY_COMPUTE`设置为配置用于预测的VM的计算资源。\n",
    "   - `机器类型`\n",
    "       - `n1-standard`：每个vCPU 3.75GB的内存。\n",
    "       - `n1-highmem`：每个vCPU 6.5GB的内存\n",
    "       - `n1-highcpu`：每个vCPU 0.9GB的内存\n",
    "   - `vCPUs`：\\[2, 4, 8, 16, 32, 64, 96 \\]个处理器核心\n",
    "\n",
    "*注意：您也可以使用n2和e2机器类型进行训练和部署，但它们不支持GPU。*"
   ]
  },
  {
   "cell_type": "code",
   "execution_count": null,
   "metadata": {
    "id": "machine:prediction"
   },
   "outputs": [],
   "source": [
    "if os.getenv(\"IS_TESTING_DEPLOY_MACHINE\"):\n",
    "    MACHINE_TYPE = os.getenv(\"IS_TESTING_DEPLOY_MACHINE\")\n",
    "else:\n",
    "    MACHINE_TYPE = \"n1-standard\"\n",
    "\n",
    "VCPU = \"4\"\n",
    "DEPLOY_COMPUTE = MACHINE_TYPE + \"-\" + VCPU\n",
    "print(\"Deploy machine type\", DEPLOY_COMPUTE)"
   ]
  },
  {
   "cell_type": "markdown",
   "metadata": {
    "id": "bqml_intro"
   },
   "source": [
    "BigQuery ML简介\n",
    "\n",
    "BigQuery ML（简称BQML）提供了在BigQuery中使用SQL语法训练ML表格模型（如分类和回归）的功能。\n",
    "\n",
    "了解更多关于[BigQuery ML文档](https://cloud.google.com/bigquery-ml/docs)。"
   ]
  },
  {
   "cell_type": "code",
   "execution_count": null,
   "metadata": {
    "id": "import_file:penguins,bq,lcn"
   },
   "outputs": [],
   "source": [
    "IMPORT_FILE = \"bq://bigquery-public-data.ml_datasets.penguins\"\n",
    "BQ_TABLE = \"bigquery-public-data.ml_datasets.penguins\""
   ]
  },
  {
   "cell_type": "markdown",
   "metadata": {
    "id": "bqml_create_dataset"
   },
   "source": [
    "创建BQ数据集资源\n",
    "\n",
    "首先，在您的项目中创建一个空的数据集资源。"
   ]
  },
  {
   "cell_type": "code",
   "execution_count": null,
   "metadata": {
    "id": "bqml_create_dataset"
   },
   "outputs": [],
   "source": [
    "BQ_DATASET_NAME = \"penguins\"\n",
    "DATASET_QUERY = f\"\"\"CREATE SCHEMA {BQ_DATASET_NAME}\n",
    "\"\"\"\n",
    "\n",
    "job = bqclient.query(DATASET_QUERY)"
   ]
  },
  {
   "cell_type": "markdown",
   "metadata": {
    "id": "bqml_create_model"
   },
   "source": [
    "### 训练 BigQuery ML 模型\n",
    "\n",
    "接下来，您将从公共数据集 penguins 创建并训练一个 BigQuery ML 表格分类模型，并使用 `CREATE MODEL` 语句将模型存储在您的项目中。模型配置在 `OPTIONS` 语句中按如下方式指定：\n",
    "\n",
    "- `model_type`：要训练的表格模型的类型和架构，例如 DNN 分类。\n",
    "- `labels`：标签列。\n",
    "\n",
    "了解有关[CREATE MODEL 语句](https://cloud.google.com/bigquery-ml/docs/reference/standard-sql/bigqueryml-syntax-create)的更多信息。"
   ]
  },
  {
   "cell_type": "code",
   "execution_count": null,
   "metadata": {
    "id": "bqml_create_model"
   },
   "outputs": [],
   "source": [
    "MODEL_NAME = \"penguins\"\n",
    "MODEL_QUERY = f\"\"\"\n",
    "CREATE OR REPLACE MODEL `{BQ_DATASET_NAME}.{MODEL_NAME}`\n",
    "OPTIONS(\n",
    "    model_type='DNN_CLASSIFIER',\n",
    "    labels = ['species']\n",
    "    )\n",
    "AS\n",
    "SELECT *\n",
    "FROM `{BQ_TABLE}`\n",
    "\"\"\"\n",
    "\n",
    "job = bqclient.query(MODEL_QUERY)\n",
    "print(job.errors, job.state)\n",
    "\n",
    "while job.running():\n",
    "    from time import sleep\n",
    "\n",
    "    sleep(30)\n",
    "    print(\"Running ...\")\n",
    "print(job.errors, job.state)\n",
    "\n",
    "try:\n",
    "    tblname = job.ddl_target_table\n",
    "    tblname = \"{}.{}\".format(tblname.dataset_id, tblname.table_id)\n",
    "    print(\"{} created in {}\".format(tblname, job.ended - job.started))\n",
    "except Exception as e:\n",
    "    print(e)"
   ]
  },
  {
   "cell_type": "markdown",
   "metadata": {
    "id": "bqml_eval_model"
   },
   "source": [
    "### 评估经过训练的BigQuery ML模型\n",
    "\n",
    "接下来，检索受过训练的BigQuery ML模型的模型评估。\n",
    "\n",
    "了解更多关于[ML.EVALUATE函数](https://cloud.google.com/bigquery-ml/docs/reference/standard-sql/bigqueryml-syntax-evaluate)。"
   ]
  },
  {
   "cell_type": "code",
   "execution_count": null,
   "metadata": {
    "id": "bqml_eval_model"
   },
   "outputs": [],
   "source": [
    "EVAL_QUERY = f\"\"\"\n",
    "SELECT *\n",
    "FROM\n",
    "  ML.EVALUATE(MODEL {BQ_DATASET_NAME}.{MODEL_NAME})\n",
    "ORDER BY  roc_auc desc\n",
    "LIMIT 1\"\"\"\n",
    "\n",
    "try:\n",
    "    job = bqclient.query(EVAL_QUERY)\n",
    "    results = job.result().to_dataframe()\n",
    "    print(results)\n",
    "except Exception as e:\n",
    "    print(e)"
   ]
  },
  {
   "cell_type": "markdown",
   "metadata": {
    "id": "bqml_export_model"
   },
   "source": [
    "### 从BigQuery ML导出模型\n",
    "\n",
    "您在BigQuery ML中训练的模型是一个TensorFlow模型。接下来，您将以TF.SavedModel格式导出TensorFlow模型的工件。"
   ]
  },
  {
   "cell_type": "code",
   "execution_count": null,
   "metadata": {
    "id": "bqml_export_model"
   },
   "outputs": [],
   "source": [
    "param = f\"{PROJECT_ID}:{BQ_DATASET_NAME}.{MODEL_NAME} {BUCKET_URI}/{MODEL_NAME}\"\n",
    "! bq extract -m $param\n",
    "\n",
    "MODEL_DIR = f\"{BUCKET_URI}/{BQ_DATASET_NAME}\"\n",
    "! gsutil ls $MODEL_DIR"
   ]
  },
  {
   "cell_type": "markdown",
   "metadata": {
    "id": "upload_bqml_model"
   },
   "source": [
    "## 将BigQuery ML模型上传到Vertex AI Model资源\n",
    "\n",
    "最后，现在您已经导出了BigQuery ML模型，您可以将模型工件上传到Vertex AI Model资源，方式与上传自定义训练模型相同。\n",
    "\n",
    "以下是将BigQuery ML模型类型映射到其相应导出模型格式的部分列表：\n",
    "\n",
    "'LINEAR_REG'<br/>\n",
    "'LOGISTIC_REG' --> TensorFlow SavedFormat\n",
    "\n",
    "'AUTOML_CLASSIFIER'<br/>\n",
    "'AUTOML_REGRESSOR' --> TensorFlow SavedFormat\n",
    "\n",
    "'BOOSTED_TREE_CLASSIFIER'<br/>\n",
    "'BOOSTED_TREE_REGRESSOR' --> XGBoost格式\n",
    "\n",
    "'DNN_CLASSIFIER'<br/>\n",
    "'DNN_REGRESSOR'<br/>\n",
    "'DNN_LINEAR_COMBINED_CLASSIFIER'<br/>\n",
    "'DNN_LINEAR_COMBINED_REGRESSOR' --> TensorFlow Estimator"
   ]
  },
  {
   "cell_type": "code",
   "execution_count": null,
   "metadata": {
    "id": "upload_bqml_model"
   },
   "outputs": [],
   "source": [
    "try:\n",
    "    model = aiplatform.Model.upload(\n",
    "        display_name=\"penguins\",\n",
    "        artifact_uri=MODEL_DIR,\n",
    "        serving_container_image_uri=DEPLOY_IMAGE,\n",
    "        sync=True,\n",
    "    )\n",
    "except Exception as e:\n",
    "    print(e)"
   ]
  },
  {
   "cell_type": "markdown",
   "metadata": {
    "id": "deploy_model:mbsdk,all"
   },
   "source": [
    "## 部署模型\n",
    "\n",
    "接下来，为了进行在线预测，部署您的模型。要部署模型，您需要调用`deploy`方法，并设置以下参数：\n",
    "\n",
    "- `deployed_model_display_name`：部署模型的可读名称。\n",
    "- `traffic_split`：在端点的流量中流向该模型的百分比，指定为一个或多个键值对的字典。\n",
    "如果只有一个模型，请设置为{ \"0\": 100 }，其中\"0\"指的是上传的模型，100表示100%的流量。\n",
    "如果存在需要分配流量的现有模型，则使用`model_id`指定为{ \"0\": 百分比, model_id: 百分比, ... }，其中`model_id`是部署终端的现有模型的模型ID。各百分比必须总和为100。\n",
    "- `machine_type`：用于训练的机器类型。\n",
    "- `accelerator_type`：硬件加速器类型。\n",
    "- `accelerator_count`：要附加到工作复制品的加速器数量。\n",
    "- `starting_replica_count`：最初要提供的计算实例数。\n",
    "- `max_replica_count`：要扩展到的最大计算实例数。在本教程中，只有一个实例被预置。"
   ]
  },
  {
   "cell_type": "code",
   "execution_count": null,
   "metadata": {
    "id": "deploy_model:mbsdk,all"
   },
   "outputs": [],
   "source": [
    "DEPLOYED_NAME = \"penguins\"\n",
    "\n",
    "TRAFFIC_SPLIT = {\"0\": 100}\n",
    "\n",
    "MIN_NODES = 1\n",
    "MAX_NODES = 1\n",
    "\n",
    "try:\n",
    "    if DEPLOY_GPU:\n",
    "        endpoint = model.deploy(\n",
    "            deployed_model_display_name=DEPLOYED_NAME,\n",
    "            traffic_split=TRAFFIC_SPLIT,\n",
    "            machine_type=DEPLOY_COMPUTE,\n",
    "            accelerator_type=DEPLOY_GPU.name,\n",
    "            accelerator_count=DEPLOY_NGPU,\n",
    "            min_replica_count=MIN_NODES,\n",
    "            max_replica_count=MAX_NODES,\n",
    "        )\n",
    "    else:\n",
    "        endpoint = model.deploy(\n",
    "            deployed_model_display_name=DEPLOYED_NAME,\n",
    "            traffic_split=TRAFFIC_SPLIT,\n",
    "            machine_type=DEPLOY_COMPUTE,\n",
    "            min_replica_count=MIN_NODES,\n",
    "            max_replica_count=MAX_NODES,\n",
    "        )\n",
    "except Exception as e:\n",
    "    print(e)"
   ]
  },
  {
   "cell_type": "markdown",
   "metadata": {
    "id": "undeploy_model:mbsdk"
   },
   "source": [
    "取消部署模型\n",
    "\n",
    "当您完成预测时，您可以取消部署模型从`Endpoint`资源中。 这将取消所有计算资源并结束对部署模型的计费。"
   ]
  },
  {
   "cell_type": "code",
   "execution_count": null,
   "metadata": {
    "id": "undeploy_model:mbsdk"
   },
   "outputs": [],
   "source": [
    "try:\n",
    "    endpoint.undeploy_all()\n",
    "except Exception as e:\n",
    "    print(e)"
   ]
  },
  {
   "cell_type": "markdown",
   "metadata": {
    "id": "model_delete:mbsdk"
   },
   "source": [
    "删除 `Vertex AI Model` 资源\n",
    "\n",
    "方法 `delete()` 用于删除该模型。"
   ]
  },
  {
   "cell_type": "code",
   "execution_count": null,
   "metadata": {
    "id": "model_delete:mbsdk"
   },
   "outputs": [],
   "source": [
    "try:\n",
    "    model.delete()\n",
    "except Exception as e:\n",
    "    print(e)"
   ]
  },
  {
   "cell_type": "markdown",
   "metadata": {
    "id": "7890ae6f6410"
   },
   "source": [
    "### 删除 `BigQuery ML` 模型\n",
    "\n",
    "接下来，删除模型的 `BigQuery ML` 实例。"
   ]
  },
  {
   "cell_type": "code",
   "execution_count": null,
   "metadata": {
    "id": "f0b6163e70c0"
   },
   "outputs": [],
   "source": [
    "MODEL_QUERY = f\"\"\"\n",
    "DROP MODEL `{BQ_DATASET_NAME}.{MODEL_NAME}`\n",
    "\"\"\"\n",
    "\n",
    "try:\n",
    "    job = bqclient.query(MODEL_QUERY)\n",
    "except Exception as e:\n",
    "    print(e)"
   ]
  },
  {
   "cell_type": "markdown",
   "metadata": {
    "id": "bqml_create_model:vizier"
   },
   "source": [
    "### 超参数调整和训练 BigQuery ML 模型\n",
    "\n",
    "接下来，您可以使用 Vertex AI Vizier 服务进行超参数调整来训练 BigQuery ML 表格分类模型。超参数设置在 `OPTIONS` 语句中指定如下：\n",
    "\n",
    "- `HPARAM_TUNING_ALGORITHM`：选择下一个试验参数的算法。\n",
    "- `num_trials`：试验次数。\n",
    "- `max_parallel_trials`：并行进行试验的数量。\n",
    "\n",
    "了解更多关于[CREATE MODEL 语句的超参数调整](https://cloud.google.com/bigquery-ml/docs/reference/standard-sql/bigqueryml-hyperparameter-tuning)。"
   ]
  },
  {
   "cell_type": "code",
   "execution_count": null,
   "metadata": {
    "id": "bqml_create_model:vizier"
   },
   "outputs": [],
   "source": [
    "MODEL_NAME = \"penguins\"\n",
    "MODEL_QUERY = f\"\"\"\n",
    "CREATE OR REPLACE MODEL `{BQ_DATASET_NAME}.{MODEL_NAME}`\n",
    "OPTIONS(\n",
    "    model_type='DNN_CLASSIFIER',\n",
    "    labels = ['species'],\n",
    "    num_trials=10,\n",
    "    max_parallel_trials=2,\n",
    "    HPARAM_TUNING_ALGORITHM = 'VIZIER_DEFAULT'\n",
    "    )\n",
    "AS\n",
    "SELECT *\n",
    "FROM `{BQ_TABLE}`\n",
    "\"\"\"\n",
    "\n",
    "job = bqclient.query(MODEL_QUERY)\n",
    "print(job.errors, job.state)\n",
    "\n",
    "while job.running():\n",
    "    from time import sleep\n",
    "\n",
    "    sleep(30)\n",
    "    print(\"Running ...\")\n",
    "print(job.errors, job.state)\n",
    "\n",
    "try:\n",
    "    tblname = job.ddl_target_table\n",
    "    tblname = \"{}.{}\".format(tblname.dataset_id, tblname.table_id)\n",
    "    print(\"{} created in {}\".format(tblname, job.ended - job.started))\n",
    "except Exception as e:\n",
    "    print(e)"
   ]
  },
  {
   "cell_type": "markdown",
   "metadata": {
    "id": "bqml_eval_model"
   },
   "source": [
    "评估BigQuery ML训练好的模型\n",
    "\n",
    "接下来，检索已训练的BigQuery ML模型的模型评估结果。\n",
    "\n",
    "了解更多关于[ML.EVALUATE函数](https://cloud.google.com/bigquery-ml/docs/reference/standard-sql/bigqueryml-syntax-evaluate)。"
   ]
  },
  {
   "cell_type": "code",
   "execution_count": null,
   "metadata": {
    "id": "bqml_eval_model"
   },
   "outputs": [],
   "source": [
    "try:\n",
    "    EVAL_QUERY = f\"\"\"\n",
    "    SELECT *\n",
    "    FROM\n",
    "      ML.EVALUATE(MODEL {BQ_DATASET_NAME}.{MODEL_NAME})\n",
    "    ORDER BY  roc_auc desc\n",
    "    LIMIT 1\"\"\"\n",
    "\n",
    "    job = bqclient.query(EVAL_QUERY)\n",
    "    results = job.result().to_dataframe()\n",
    "    print(results)\n",
    "except Exception as e:\n",
    "    print(e)"
   ]
  },
  {
   "cell_type": "markdown",
   "metadata": {
    "id": "3f3cee1236b1"
   },
   "source": [
    "删除 BigQuery ML 模型\n",
    "\n",
    "接下来，删除模型的 BigQuery ML 实例。"
   ]
  },
  {
   "cell_type": "code",
   "execution_count": null,
   "metadata": {
    "id": "957b7d841502"
   },
   "outputs": [],
   "source": [
    "MODEL_QUERY = f\"\"\"\n",
    "DROP MODEL `{BQ_DATASET_NAME}.{MODEL_NAME}`\n",
    "\"\"\"\n",
    "\n",
    "job = bqclient.query(MODEL_QUERY)"
   ]
  },
  {
   "cell_type": "markdown",
   "metadata": {
    "id": "bqml_create_model:xai"
   },
   "source": [
    "### 使用可解释性训练一个BigQuery ML模型\n",
    "\n",
    "接下来，您使用相同的BigQuery ML模型进行训练，但这次您通过添加选项`ENABLE_GLOBAL_EXPLAIN`来启用顶点AI可解释性对模型预测进行解释。"
   ]
  },
  {
   "cell_type": "code",
   "execution_count": null,
   "metadata": {
    "id": "bqml_create_model:xai"
   },
   "outputs": [],
   "source": [
    "MODEL_NAME = \"penguins\"\n",
    "MODEL_QUERY = f\"\"\"\n",
    "CREATE OR REPLACE MODEL `{BQ_DATASET_NAME}.{MODEL_NAME}`\n",
    "OPTIONS(\n",
    "    model_type='DNN_CLASSIFIER',\n",
    "    labels = ['species'],\n",
    "    ENABLE_GLOBAL_EXPLAIN = True\n",
    "    )\n",
    "AS\n",
    "SELECT *\n",
    "FROM `{BQ_TABLE}`\n",
    "\"\"\"\n",
    "\n",
    "job = bqclient.query(MODEL_QUERY)\n",
    "print(job.errors, job.state)\n",
    "\n",
    "while job.running():\n",
    "    from time import sleep\n",
    "\n",
    "    sleep(30)\n",
    "    print(\"Running ...\")\n",
    "print(job.errors, job.state)\n",
    "\n",
    "try:\n",
    "    tblname = job.ddl_target_table\n",
    "    tblname = \"{}.{}\".format(tblname.dataset_id, tblname.table_id)\n",
    "    print(\"{} created in {}\".format(tblname, job.ended - job.started))\n",
    "except Exception as e:\n",
    "    print(e)"
   ]
  },
  {
   "cell_type": "markdown",
   "metadata": {
    "id": "4def8aaf3398"
   },
   "source": [
    "### 删除BigQuery ML模型\n",
    "\n",
    "接下来删除该模型的BigQuery ML实例。"
   ]
  },
  {
   "cell_type": "code",
   "execution_count": null,
   "metadata": {
    "id": "ff5b32618018"
   },
   "outputs": [],
   "source": [
    "MODEL_QUERY = f\"\"\"\n",
    "DROP MODEL `{BQ_DATASET_NAME}.{MODEL_NAME}`\n",
    "\"\"\"\n",
    "\n",
    "job = bqclient.query(MODEL_QUERY)"
   ]
  },
  {
   "cell_type": "markdown",
   "metadata": {
    "id": "2b4498ca6fea"
   },
   "source": [
    "## 模型注册表\n",
    "\n",
    "或者，您可以通过导出和导入模型工件将您的BigQuery ML模型隐式上传为Vertex AI模型资源。在这种方法中，您在训练模型时添加额外选项，告诉BigQuery ML自动上传和注册训练模型作为模型资源。\n",
    "\n",
    "### 设置权限以自动注册模型\n",
    "\n",
    "您需要为BigQuery ML设置一些额外的IAM权限，以便在训练后自动上传和注册模型。根据您的服务帐户，下面权限的设置可能会失败。在这种情况下，我们建议在Cloud Shell中执行权限。\n",
    "\n",
    "了解更多关于[设置模型注册表权限](https://cloud.google.com/bigquery-ml/docs/managing-models-vertex)。"
   ]
  },
  {
   "cell_type": "code",
   "execution_count": null,
   "metadata": {
    "id": "29229f72d13d"
   },
   "outputs": [],
   "source": [
    "! gcloud projects add-iam-policy-binding $PROJECT_ID \\\n",
    "    --member=serviceAccount:$SERVICE_ACCOUNT --role=roles/aiplatform.admin --condition=None"
   ]
  },
  {
   "cell_type": "markdown",
   "metadata": {
    "id": "6c390ee7c11a"
   },
   "source": [
    "### 训练并注册模型\n",
    "\n",
    "接下来，您可以通过添加以下参数选项，来训练模型并自动注册到 Vertex AI 模型注册表中：\n",
    "\n",
    "- `model_registry`: 设置为 \"vertex_ai\"，表示自动注册到 Vertex AI 模型注册表。\n",
    "- `vertex_ai_model_id`: 注册模型的人类可读的显示名称。\n",
    "- `vertex_ai_model_version_aliases`: 模型的备用名称。"
   ]
  },
  {
   "cell_type": "code",
   "execution_count": null,
   "metadata": {
    "id": "57db464f4c42"
   },
   "outputs": [],
   "source": [
    "MODEL_NAME = \"penguins\"\n",
    "MODEL_QUERY = f\"\"\"\n",
    "CREATE OR REPLACE MODEL `{BQ_DATASET_NAME}.{MODEL_NAME}`\n",
    "OPTIONS(\n",
    "    model_type='DNN_CLASSIFIER',\n",
    "    labels = ['species'],\n",
    "    model_registry=\"vertex_ai\",\n",
    "    vertex_ai_model_id=\"bqml_model\", \n",
    "    vertex_ai_model_version_aliases=[\"1\"]\n",
    "    )\n",
    "AS\n",
    "SELECT *\n",
    "FROM `{BQ_TABLE}`\n",
    "\"\"\"\n",
    "\n",
    "job = bqclient.query(MODEL_QUERY)\n",
    "print(job.errors, job.state)\n",
    "\n",
    "while job.running():\n",
    "    from time import sleep\n",
    "\n",
    "    sleep(30)\n",
    "    print(\"Running ...\")\n",
    "print(job.errors, job.state)\n",
    "\n",
    "try:\n",
    "    tblname = job.ddl_target_table\n",
    "    tblname = \"{}.{}\".format(tblname.dataset_id, tblname.table_id)\n",
    "    print(\"{} created in {}\".format(tblname, job.ended - job.started))\n",
    "except Exception as e:\n",
    "    print(e)"
   ]
  },
  {
   "cell_type": "markdown",
   "metadata": {
    "id": "5b4970272040"
   },
   "source": [
    "### 在Vertex Model Registry中查找模型\n",
    "\n",
    "最后，您可以使用Vertex AI Model `list()`方法并附带筛选查询来查找自动注册的模型。"
   ]
  },
  {
   "cell_type": "code",
   "execution_count": null,
   "metadata": {
    "id": "76c22674ba99"
   },
   "outputs": [],
   "source": [
    "models = aiplatform.Model.list(filter=\"display_name=bqml_model\")\n",
    "model = models[0]\n",
    "\n",
    "print(model.gca_resource)"
   ]
  },
  {
   "cell_type": "code",
   "execution_count": null,
   "metadata": {
    "id": "48e6ef5d5ffa"
   },
   "outputs": [],
   "source": [
    "models = aiplatform.Model.list()\n",
    "for model in models:\n",
    "    if model.gca_resource.display_name.startswith(\"bqml\"):\n",
    "        print(model.gca_resource.display_name)"
   ]
  },
  {
   "cell_type": "markdown",
   "metadata": {
    "id": "ef61354b1a5f"
   },
   "source": [
    "删除BigQuery ML模型\n",
    "\n",
    "接下来，删除该模型的BigQuery ML实例。"
   ]
  },
  {
   "cell_type": "code",
   "execution_count": null,
   "metadata": {
    "id": "f6004d1ce59d"
   },
   "outputs": [],
   "source": [
    "MODEL_QUERY = f\"\"\"\n",
    "DROP MODEL `{BQ_DATASET_NAME}.{MODEL_NAME}`\n",
    "\"\"\"\n",
    "\n",
    "job = bqclient.query(MODEL_QUERY)"
   ]
  },
  {
   "cell_type": "markdown",
   "metadata": {
    "id": "cleanup:mbsdk"
   },
   "source": [
    "清理\n",
    "\n",
    "要清理此项目中使用的所有谷歌云资源，您可以删除用于本教程的[谷歌云项目](https://cloud.google.com/resource-manager/docs/creating-managing-projects#shutting_down_projects)。\n",
    "\n",
    "否则，您可以删除在本教程中创建的各个资源。\n",
    "\n",
    "将 `delete_storage` 设置为 `True` 来删除此笔记本中使用的云存储存储桶。"
   ]
  },
  {
   "cell_type": "code",
   "execution_count": null,
   "metadata": {
    "id": "cleanup:mbsdk"
   },
   "outputs": [],
   "source": [
    "# Delete the endpoint using the Vertex endpoint object\n",
    "try:\n",
    "    endpoint.undeploy_all()\n",
    "    endpoint.delete()\n",
    "except Exception as e:\n",
    "    print(e)\n",
    "\n",
    "# Delete the model using the Vertex model object\n",
    "try:\n",
    "    model.delete()\n",
    "except Exception as e:\n",
    "    print(e)\n",
    "\n",
    "# Delete the created BigQuery dataset\n",
    "! bq rm -r -f $PROJECT_ID:$BQ_DATASET_NAME\n",
    "\n",
    "delete_storage = False\n",
    "if delete_storage or os.getenv(\"IS_TESTING\"):\n",
    "    # Delete the created GCS bucket\n",
    "    ! gsutil rm -r $BUCKET_URI"
   ]
  }
 ],
 "metadata": {
  "colab": {
   "name": "get_started_with_bqml_training.ipynb",
   "toc_visible": true
  },
  "kernelspec": {
   "display_name": "Python 3",
   "name": "python3"
  }
 },
 "nbformat": 4,
 "nbformat_minor": 0
}
