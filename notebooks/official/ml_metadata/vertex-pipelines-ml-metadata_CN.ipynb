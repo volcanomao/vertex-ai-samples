{
 "cells": [
  {
   "cell_type": "code",
   "execution_count": null,
   "metadata": {
    "id": "ur8xi4C7S06n"
   },
   "outputs": [],
   "source": [
    "# Copyright 2021 Google LLC\n",
    "#\n",
    "# Licensed under the Apache License, Version 2.0 (the \"License\");\n",
    "# you may not use this file except in compliance with the License.\n",
    "# You may obtain a copy of the License at\n",
    "#\n",
    "#     https://www.apache.org/licenses/LICENSE-2.0\n",
    "#\n",
    "# Unless required by applicable law or agreed to in writing, software\n",
    "# distributed under the License is distributed on an \"AS IS\" BASIS,\n",
    "# WITHOUT WARRANTIES OR CONDITIONS OF ANY KIND, either express or implied.\n",
    "# See the License for the specific language governing permissions and\n",
    "# limitations under the License."
   ]
  },
  {
   "cell_type": "markdown",
   "metadata": {
    "id": "JAPoU8Sm5E6e"
   },
   "source": [
    "Vertex AI：使用Vertex ML Metadata在Vertex AI Pipelines运行中跟踪工件和指标\n",
    "\n",
    "<table align=\"left\">\n",
    "\n",
    "  <td>\n",
    "    <a href=\"https://colab.research.google.com/github/GoogleCloudPlatform/vertex-ai-samples/blob/main/notebooks/official/ml_metadata/vertex-pipelines-ml-metadata.ipynb\">\n",
    "      <img src=\"https://cloud.google.com/ml-engine/images/colab-logo-32px.png\" alt=\"Colab logo\"> 在Colab中运行\n",
    "    </a>\n",
    "  </td>\n",
    "  <td>\n",
    "    <a href=\"https://github.com/GoogleCloudPlatform/vertex-ai-samples/blob/main/notebooks/official/ml_metadata/vertex-pipelines-ml-metadata.ipynb\">\n",
    "      <img src=\"https://cloud.google.com/ml-engine/images/github-logo-32px.png\" alt=\"GitHub logo\">\n",
    "      在GitHub上查看\n",
    "    </a>\n",
    "  </td>\n",
    "  <td>\n",
    "<a href=\"https://console.cloud.google.com/vertex-ai/workbench/deploy-notebook?download_url=https://raw.githubusercontent.com/GoogleCloudPlatform/vertex-ai-samples/main/notebooks/official/ml_metadata/vertex-pipelines-ml-metadata.ipynb\" target='_blank'>\n",
    "      <img src=\"https://lh3.googleusercontent.com/UiNooY4LUgW_oTvpsNhPpQzsstV5W8F7rYgxgGBD85cWJoLmrOzhVs_ksK_vgx40SHs7jCqkTkCk=e14-rj-sc0xffffff-h130-w32\" alt=\"Vertex AI logo\">\n",
    "      在Vertex AI Workbench中打开\n",
    "     </a>\n",
    "     </td>\n",
    "</table>"
   ]
  },
  {
   "cell_type": "markdown",
   "metadata": {
    "id": "e88691377fcc"
   },
   "source": [
    "## 概述\n",
    "\n",
    "本笔记本演示了如何跟踪 Vertex AI 管道运行中的指标和工件，并使用 Vertex AI SDK for Python 分析这些元数据。如果您更喜欢按步骤进行教程，请查看本笔记本的[codelab 版本](https://codelabs.developers.google.com/vertex-mlmd-pipelines#0)。\n",
    "\n",
    "了解更多关于[Vertex ML Metadata](https://cloud.google.com/vertex-ai/docs/ml-metadata)和[Vertex AI Pipelines](https://cloud.google.com/vertex-ai/docs/pipelines/introduction)。"
   ]
  },
  {
   "cell_type": "markdown",
   "metadata": {
    "id": "tvgnzT1CKxrO"
   },
   "source": [
    "### 目标\n",
    "\n",
    "在这个笔记本中，您将学习如何使用Vertex ML Metadata在Vertex AI Pipeline运行中跟踪工件和指标。\n",
    "\n",
    "本教程使用以下谷歌云ML服务和资源：\n",
    "\n",
    "- Vertex AI Pipelines\n",
    "- Vertex ML Metadata\n",
    "\n",
    "执行的步骤包括：\n",
    "\n",
    "* 使用Kubeflow Pipelines SDK构建在Vertex AI上运行的ML管道。\n",
    "* 该管道创建数据集，训练一个scikit-learn模型，并将模型部署到一个端点。\n",
    "* 编写自定义管道组件来生成工件和元数据。\n",
    "* 比较Vertex AI Pipelines运行，无论是在谷歌云控制台还是以编程方式。\n",
    "* 跟踪管道生成的工件的谱系。\n",
    "* 查询您的管道运行元数据。"
   ]
  },
  {
   "cell_type": "markdown",
   "metadata": {
    "id": "ce1e72673981"
   },
   "source": [
    "数据集\n",
    "\n",
    "在这份笔记本中，您将使用scikit-learn训练模型，通过UCI机器学习中的[干豆数据集](https://archive.ics.uci.edu/ml/datasets/Dry+Bean+Dataset)对豆类进行分类。这是一个包含七种不同类型豆子的测量和特征的表格数据集，这些数据是从图像中获取的。"
   ]
  },
  {
   "cell_type": "markdown",
   "metadata": {
    "id": "0c997d8d92ce"
   },
   "source": [
    "成本\n",
    "\n",
    "本教程使用Google Cloud的计费组件：\n",
    "\n",
    "* Vertex AI\n",
    "* 云存储\n",
    "\n",
    "了解[Vertex AI价格](https://cloud.google.com/vertex-ai/pricing)和[云存储价格](https://cloud.google.com/storage/pricing)，并使用[Pricing计算器](https://cloud.google.com/products/calculator/)根据您的预期使用情况生成成本估算。"
   ]
  },
  {
   "cell_type": "markdown",
   "metadata": {
    "id": "i7EUnXsZhAGF"
   },
   "source": [
    "### 安装额外的软件包\n",
    "\n",
    "运行以下命令安装Python的Vertex AI SDK和这个笔记本中使用的软件包。"
   ]
  },
  {
   "cell_type": "code",
   "execution_count": null,
   "metadata": {
    "id": "wyy5Lbnzg5fi"
   },
   "outputs": [],
   "source": [
    "! pip3 install --upgrade --quiet google-cloud-aiplatform \\\n",
    "                                 'kfp<2.0'"
   ]
  },
  {
   "cell_type": "markdown",
   "metadata": {
    "id": "restart"
   },
   "source": [
    "### 仅限合作：取消注释以下单元格以重新启动内核"
   ]
  },
  {
   "cell_type": "code",
   "execution_count": null,
   "metadata": {
    "id": "D-ZBOjErv5mM"
   },
   "outputs": [],
   "source": [
    "# Automatically restart kernel after installs so that your environment can access the new packages\n",
    "# import IPython\n",
    "\n",
    "# app = IPython.Application.instance()\n",
    "# app.kernel.do_shutdown(True)"
   ]
  },
  {
   "cell_type": "markdown",
   "metadata": {
    "id": "yfEglUHQk9S3"
   },
   "source": [
    "## 开始之前\n",
    "\n",
    "### 设置您的项目ID\n",
    "\n",
    "**如果您不知道您的项目ID**，请尝试以下步骤：\n",
    "* 运行 `gcloud config list`。\n",
    "* 运行 `gcloud projects list`。\n",
    "* 查看支持页面：[查找项目ID](https://support.google.com/googleapi/answer/7014113)。"
   ]
  },
  {
   "cell_type": "code",
   "execution_count": null,
   "metadata": {
    "id": "set_project_id"
   },
   "outputs": [],
   "source": [
    "PROJECT_ID = \"[your-project-id]\"  # @param {type:\"string\"}\n",
    "\n",
    "# Set the project id\n",
    "! gcloud config set project {PROJECT_ID}"
   ]
  },
  {
   "cell_type": "markdown",
   "metadata": {
    "id": "region"
   },
   "source": [
    "#### 区域\n",
    "\n",
    "您还可以更改 Vertex AI 使用的 `REGION` 变量。了解有关 [Vertex AI 区域](https://cloud.google.com/vertex-ai/docs/general/locations) 的更多信息。"
   ]
  },
  {
   "cell_type": "code",
   "execution_count": null,
   "metadata": {
    "id": "region"
   },
   "outputs": [],
   "source": [
    "REGION = \"us-central1\"  # @param {type: \"string\"}"
   ]
  },
  {
   "cell_type": "markdown",
   "metadata": {
    "id": "gcp_authenticate"
   },
   "source": [
    "### 验证您的Google Cloud帐户\n",
    "\n",
    "根据您的Jupyter环境，您可能需要手动进行验证。请按照以下相关说明操作。\n",
    "\n",
    "**1. Vertex AI Workbench**\n",
    "* 不用做任何操作，因为您已经验证过了。\n",
    "\n",
    "**2. 本地JupyterLab实例，取消注释并运行：**"
   ]
  },
  {
   "cell_type": "code",
   "execution_count": null,
   "metadata": {
    "id": "ce6043da7b33"
   },
   "outputs": [],
   "source": [
    "# ! gcloud auth login"
   ]
  },
  {
   "cell_type": "markdown",
   "metadata": {
    "id": "0367eac06a10"
   },
   "source": [
    "3. 进行协作，取消注释并运行:"
   ]
  },
  {
   "cell_type": "code",
   "execution_count": null,
   "metadata": {
    "id": "21ad4dbb4a61"
   },
   "outputs": [],
   "source": [
    "# from google.colab import auth\n",
    "# auth.authenticate_user()"
   ]
  },
  {
   "cell_type": "markdown",
   "metadata": {
    "id": "c13224697bfb"
   },
   "source": [
    "4. 服务账号或其他\n",
    "* 请查看如何向您的服务账号授予云存储权限的方法，网址为 https://cloud.google.com/storage/docs/gsutil/commands/iam#ch-examples。"
   ]
  },
  {
   "cell_type": "markdown",
   "metadata": {
    "id": "aab852d94fc7"
   },
   "source": [
    "启用此笔记本中使用的云服务。\n",
    "\n",
    "运行下面的单元格以启用计算引擎、容器注册表和Vertex AI服务。"
   ]
  },
  {
   "cell_type": "code",
   "execution_count": null,
   "metadata": {
    "id": "18396d3d7fe4"
   },
   "outputs": [],
   "source": [
    "!gcloud services enable compute.googleapis.com         \\\n",
    "                       containerregistry.googleapis.com  \\\n",
    "                       aiplatform.googleapis.com"
   ]
  },
  {
   "cell_type": "markdown",
   "metadata": {
    "id": "bucket:mbsdk"
   },
   "source": [
    "创建一个云存储桶\n",
    "\n",
    "创建一个存储桶，用于存储诸如数据集等中间产物。"
   ]
  },
  {
   "cell_type": "code",
   "execution_count": null,
   "metadata": {
    "id": "bucket"
   },
   "outputs": [],
   "source": [
    "BUCKET_URI = f\"gs://your-bucket-name-{PROJECT_ID}-unique\"  # @param {type:\"string\"}"
   ]
  },
  {
   "cell_type": "markdown",
   "metadata": {
    "id": "create_bucket"
   },
   "source": [
    "只有当您的存储桶尚未存在时：运行以下单元格以创建您的云存储桶。"
   ]
  },
  {
   "cell_type": "code",
   "execution_count": null,
   "metadata": {
    "id": "create_bucket"
   },
   "outputs": [],
   "source": [
    "! gsutil mb -l $REGION $BUCKET_URI"
   ]
  },
  {
   "cell_type": "markdown",
   "metadata": {
    "id": "set_service_account"
   },
   "source": [
    "### 服务账号\n",
    "\n",
    "使用服务账号来创建 Vertex AI Pipeline 作业。\n",
    "\n",
    "如果您不想使用您项目的计算引擎服务账号，将`SERVICE_ACCOUNT`设置为另一个服务账号ID。"
   ]
  },
  {
   "cell_type": "code",
   "execution_count": null,
   "metadata": {
    "id": "set_service_account"
   },
   "outputs": [],
   "source": [
    "SERVICE_ACCOUNT = \"[your-service-account]\"  # @param {type:\"string\"}"
   ]
  },
  {
   "cell_type": "code",
   "execution_count": null,
   "metadata": {
    "id": "autoset_service_account"
   },
   "outputs": [],
   "source": [
    "import sys\n",
    "\n",
    "IS_COLAB = \"google.colab\" in sys.modules\n",
    "if (\n",
    "    SERVICE_ACCOUNT == \"\"\n",
    "    or SERVICE_ACCOUNT is None\n",
    "    or SERVICE_ACCOUNT == \"[your-service-account]\"\n",
    "):\n",
    "    # Get your service account from gcloud\n",
    "    if not IS_COLAB:\n",
    "        shell_output = !gcloud auth list 2>/dev/null\n",
    "        SERVICE_ACCOUNT = shell_output[2].replace(\"*\", \"\").strip()\n",
    "\n",
    "    else:  # IS_COLAB:\n",
    "        shell_output = ! gcloud projects describe  $PROJECT_ID\n",
    "        project_number = shell_output[-1].split(\":\")[1].strip().replace(\"'\", \"\")\n",
    "        SERVICE_ACCOUNT = f\"{project_number}-compute@developer.gserviceaccount.com\"\n",
    "\n",
    "    print(\"Service Account:\", SERVICE_ACCOUNT)"
   ]
  },
  {
   "cell_type": "markdown",
   "metadata": {
    "id": "set_service_account:pipelines"
   },
   "source": [
    "设置Vertex AI管道的服务帐户访问权限\n",
    "\n",
    "运行以下命令，为您的服务帐户授予读取和写入管道工件的访问权限，该工件位于您在上一步中创建的存储桶中--您只需要为每个服务帐户运行一次这些命令。"
   ]
  },
  {
   "cell_type": "code",
   "execution_count": null,
   "metadata": {
    "id": "set_service_account:pipelines"
   },
   "outputs": [],
   "source": [
    "! gsutil iam ch serviceAccount:{SERVICE_ACCOUNT}:roles/storage.objectCreator $BUCKET_URI\n",
    "\n",
    "! gsutil iam ch serviceAccount:{SERVICE_ACCOUNT}:roles/storage.objectViewer $BUCKET_URI"
   ]
  },
  {
   "cell_type": "markdown",
   "metadata": {
    "id": "XoEqT2Y4DJmf"
   },
   "source": [
    "导入库并定义常量"
   ]
  },
  {
   "cell_type": "markdown",
   "metadata": {
    "id": "Y9Uo3tifg1kx"
   },
   "source": [
    "导入所需的库。"
   ]
  },
  {
   "cell_type": "code",
   "execution_count": null,
   "metadata": {
    "id": "pRUOFELefqf1"
   },
   "outputs": [],
   "source": [
    "import matplotlib.pyplot as plt\n",
    "import pandas as pd\n",
    "# We'll use this beta library for metadata querying\n",
    "from google.cloud import aiplatform, aiplatform_v1beta1\n",
    "from google.cloud.aiplatform import pipeline_jobs\n",
    "from kfp.v2 import compiler, dsl\n",
    "from kfp.v2.dsl import (Artifact, Dataset, Input, Metrics, Model, Output,\n",
    "                        OutputPath, component)"
   ]
  },
  {
   "cell_type": "markdown",
   "metadata": {
    "id": "xtXZWmYqJ1bh"
   },
   "source": [
    "定义一些常数"
   ]
  },
  {
   "cell_type": "code",
   "execution_count": null,
   "metadata": {
    "id": "JIOrI-hoJ46P"
   },
   "outputs": [],
   "source": [
    "PATH = get_ipython().run_line_magic(\"env\", \"PATH\")\n",
    "%env PATH={PATH}:/home/jupyter/.local/bin\n",
    "REGION = \"us-central1\"\n",
    "\n",
    "PIPELINE_ROOT = f\"{BUCKET_URI}/pipeline_root/\"\n",
    "PIPELINE_ROOT"
   ]
  },
  {
   "cell_type": "markdown",
   "metadata": {
    "id": "2937d462a96a"
   },
   "source": [
    "初始化Vertex AI SDK"
   ]
  },
  {
   "cell_type": "code",
   "execution_count": null,
   "metadata": {
    "id": "7def96de8098"
   },
   "outputs": [],
   "source": [
    "aiplatform.init(project=PROJECT_ID, location=REGION)"
   ]
  },
  {
   "cell_type": "markdown",
   "metadata": {
    "id": "Xuny18aMcWDb"
   },
   "source": [
    "## 概念\n",
    "\n",
    "为了更好地了解 [Vertex AI Pipelines](https://cloud.google.com/vertex-ai/docs/pipelines/introduction) 和 [Vertex AI ML Metadata](https://cloud.google.com/vertex-ai/docs/ml-metadata)，以下是一些相关的概念："
   ]
  },
  {
   "cell_type": "markdown",
   "metadata": {
    "id": "NThDci5bp0Uw"
   },
   "source": [
    "### 管道运行\n",
    "术语“运行”指的是在Vertex AI管道中执行一次管道的过程。每次运行会生成工件、指标和相关的元数据。"
   ]
  },
  {
   "cell_type": "markdown",
   "metadata": {
    "id": "SAyRR3Ydp4X5"
   },
   "source": [
    "### 工件\n",
    "\n",
    "工件是由您的管道生成的资源。 工件可以是数据集、模型、端点或在您的管道中定义的自定义资源。"
   ]
  },
  {
   "cell_type": "markdown",
   "metadata": {
    "id": "40ee71479689"
   },
   "source": [
    "指标\n",
    "\n",
    "指标是用来衡量管道运行和工件性能的方式。例如，一个指标可以是在您的管道中创建的分类模型工件的准确度，或用于训练模型的数据集大小。"
   ]
  },
  {
   "cell_type": "markdown",
   "metadata": {
    "id": "57b1cc9981d5"
   },
   "source": [
    "元数据\n",
    "\n",
    "元数据描述了由您的管道运行生成的工件和度量。例如，模型的元数据可能包括模型工件的URL、名称以及创建时间。"
   ]
  },
  {
   "cell_type": "markdown",
   "metadata": {
    "id": "l1YW2pgyegFP"
   },
   "source": [
    "创建具有自定义组件的3步管道\n",
    "\n",
    "这个实验室的重点是了解管道运行中的元数据。为了做到这一点，您将需要在Vertex AI管道上运行一个管道，这将是您的起点。在这里，您将定义一个包含以下自定义组件的3步管道：\n",
    "\n",
    "* `get_dataframe`：从一个BigQuery表检索数据并将其转换为一个pandas DataFrame。\n",
    "* `train_sklearn_model`：使用pandas DataFrame来训练并导出一个scikit-learn模型，还有一些指标。\n",
    "* `deploy_model`：将导出的scikit-learn模型部署到Vertex AI中的一个端点。"
   ]
  },
  {
   "cell_type": "markdown",
   "metadata": {
    "id": "KPY41M9_AhZU"
   },
   "source": [
    "### 创建并定义基于Python函数的组件"
   ]
  },
  {
   "cell_type": "markdown",
   "metadata": {
    "id": "bfMQSmRuUuX-"
   },
   "source": [
    "首先，用以下代码定义`get_dataframe`组件。该组件执行以下操作：\n",
    "* 使用BigQuery客户端库创建对BigQuery表的引用\n",
    "* 下载BigQuery表并将其转换为打乱顺序的pandas DataFrame\n",
    "* 将DataFrame导出到CSV文件"
   ]
  },
  {
   "cell_type": "code",
   "execution_count": null,
   "metadata": {
    "id": "RiQuMv4bmpuV"
   },
   "outputs": [],
   "source": [
    "@component(\n",
    "    packages_to_install=[\"google-cloud-bigquery\", \"pandas\", \"pyarrow\"],\n",
    "    base_image=\"python:3.9\",\n",
    "    output_component_file=\"create_dataset.yaml\",\n",
    ")\n",
    "def get_dataframe(bq_table: str, output_data_path: OutputPath(\"Dataset\")):\n",
    "    from google.cloud import bigquery\n",
    "\n",
    "    bqclient = bigquery.Client(project=PROJECT_ID)\n",
    "    table = bigquery.TableReference.from_string(bq_table)\n",
    "    rows = bqclient.list_rows(table)\n",
    "    dataframe = rows.to_dataframe(\n",
    "        create_bqstorage_client=True,\n",
    "    )\n",
    "    dataframe = dataframe.sample(frac=1, random_state=2)\n",
    "    dataframe.to_csv(output_data_path)"
   ]
  },
  {
   "cell_type": "markdown",
   "metadata": {
    "id": "Y06J7A7yU21t"
   },
   "source": [
    "接下来，创建一个组件来训练 scikit-learn 模型。这个组件会执行以下操作：\n",
    "* 导入 CSV 文件作为 pandas DataFrame。\n",
    "* 将 DataFrame 分割成训练集和测试集。\n",
    "* 训练一个 scikit-learn 模型。\n",
    "* 记录模型的指标。\n",
    "* 将模型保存为本地的 `model.joblib` 文件。"
   ]
  },
  {
   "cell_type": "code",
   "execution_count": null,
   "metadata": {
    "id": "p5JBCBKyH-NC"
   },
   "outputs": [],
   "source": [
    "@component(\n",
    "    packages_to_install=[\"scikit-learn\", \"pandas\", \"joblib\"],\n",
    "    base_image=\"python:3.9\",\n",
    "    output_component_file=\"beans_model_component.yaml\",\n",
    ")\n",
    "def sklearn_train(\n",
    "    dataset: Input[Dataset], metrics: Output[Metrics], model: Output[Model]\n",
    "):\n",
    "    import pandas as pd\n",
    "    from joblib import dump\n",
    "    from sklearn.model_selection import train_test_split\n",
    "    from sklearn.tree import DecisionTreeClassifier\n",
    "\n",
    "    df = pd.read_csv(dataset.path)\n",
    "    labels = df.pop(\"Class\").tolist()\n",
    "    data = df.values.tolist()\n",
    "    x_train, x_test, y_train, y_test = train_test_split(data, labels)\n",
    "\n",
    "    skmodel = DecisionTreeClassifier()\n",
    "    skmodel.fit(x_train, y_train)\n",
    "    score = skmodel.score(x_test, y_test)\n",
    "    print(\"accuracy is:\", score)\n",
    "\n",
    "    metrics.log_metric(\"accuracy\", (score * 100.0))\n",
    "    metrics.log_metric(\"framework\", \"Scikit Learn\")\n",
    "    metrics.log_metric(\"dataset_size\", len(df))\n",
    "    dump(skmodel, model.path + \".joblib\")"
   ]
  },
  {
   "cell_type": "markdown",
   "metadata": {
    "id": "gaNNTFPaU7KT"
   },
   "source": [
    "最后，最后一个组件将在前一步中训练得到的模型上传到Vertex AI，并部署到端点："
   ]
  },
  {
   "cell_type": "code",
   "execution_count": null,
   "metadata": {
    "id": "VGq5QCoyIEWJ"
   },
   "outputs": [],
   "source": [
    "@component(\n",
    "    packages_to_install=[\"google-cloud-aiplatform\"],\n",
    "    base_image=\"python:3.9\",\n",
    "    output_component_file=\"beans_deploy_component.yaml\",\n",
    ")\n",
    "def deploy_model(\n",
    "    model: Input[Model],\n",
    "    project: str,\n",
    "    region: str,\n",
    "    vertex_endpoint: Output[Artifact],\n",
    "    vertex_model: Output[Model],\n",
    "):\n",
    "    from google.cloud import aiplatform\n",
    "\n",
    "    aiplatform.init(project=project, location=region)\n",
    "\n",
    "    deployed_model = aiplatform.Model.upload(\n",
    "        display_name=\"beans-model-pipeline\",\n",
    "        artifact_uri=model.uri.replace(\"model\", \"\"),\n",
    "        serving_container_image_uri=\"us-docker.pkg.dev/vertex-ai/prediction/sklearn-cpu.0-24:latest\",\n",
    "    )\n",
    "    endpoint = deployed_model.deploy(machine_type=\"n1-standard-4\")\n",
    "\n",
    "    # Save data to the output params\n",
    "    vertex_endpoint.uri = endpoint.resource_name\n",
    "    vertex_model.uri = deployed_model.resource_name"
   ]
  },
  {
   "cell_type": "markdown",
   "metadata": {
    "id": "UBXUgxgqA_GB"
   },
   "source": [
    "### 定义并编译管道"
   ]
  },
  {
   "cell_type": "code",
   "execution_count": null,
   "metadata": {
    "id": "66odBYKrIN4q"
   },
   "outputs": [],
   "source": [
    "@dsl.pipeline(\n",
    "    # Default pipeline root. You can override it when submitting the pipeline.\n",
    "    pipeline_root=PIPELINE_ROOT,\n",
    "    # A name for the pipeline.\n",
    "    name=\"mlmd-pipeline\",\n",
    ")\n",
    "def pipeline(\n",
    "    bq_table: str = \"\",\n",
    "    output_data_path: str = \"data.csv\",\n",
    "    project: str = PROJECT_ID,\n",
    "    region: str = REGION,\n",
    "):\n",
    "    dataset_task = get_dataframe(bq_table)\n",
    "\n",
    "    model_task = sklearn_train(dataset_task.output)\n",
    "\n",
    "    deploy_model(model=model_task.outputs[\"model\"], project=project, region=region)"
   ]
  },
  {
   "cell_type": "markdown",
   "metadata": {
    "id": "910541af051c"
   },
   "source": [
    "以下内容生成一个 JSON 文件，您将使用它来运行管道："
   ]
  },
  {
   "cell_type": "code",
   "execution_count": null,
   "metadata": {
    "id": "o_wnT10RJ7-W"
   },
   "outputs": [],
   "source": [
    "compiler.Compiler().compile(pipeline_func=pipeline, package_path=\"mlmd_pipeline.json\")"
   ]
  },
  {
   "cell_type": "markdown",
   "metadata": {
    "id": "u-iTnzt3B6Z_"
   },
   "source": [
    "开始两个流水线运行\n",
    "\n",
    "接下来，您将启动两次我们的流水线运行。首先，定义一个时间戳用于我们流水线作业的ID："
   ]
  },
  {
   "cell_type": "code",
   "execution_count": null,
   "metadata": {
    "id": "i2wnpu8_7JfV"
   },
   "outputs": [],
   "source": [
    "from datetime import datetime\n",
    "\n",
    "TIMESTAMP = datetime.now().strftime(\"%Y%m%d%H%M%S\")"
   ]
  },
  {
   "cell_type": "markdown",
   "metadata": {
    "id": "3d380ed72490"
   },
   "source": [
    "当您运行管道时，管道需要一个参数：我们希望用于训练数据的 `bq_table`。这个管道运行使用豆类数据集的一个较小版本。"
   ]
  },
  {
   "cell_type": "code",
   "execution_count": null,
   "metadata": {
    "id": "ff4aee966c5f"
   },
   "outputs": [],
   "source": [
    "run1 = pipeline_jobs.PipelineJob(\n",
    "    display_name=\"mlmd-pipeline\",\n",
    "    template_path=\"mlmd_pipeline.json\",\n",
    "    job_id=\"mlmd-pipeline-small-{}\".format(TIMESTAMP),\n",
    "    parameter_values={\"bq_table\": \"sara-vertex-demos.beans_demo.small_dataset\"},\n",
    "    enable_caching=True,\n",
    ")"
   ]
  },
  {
   "cell_type": "markdown",
   "metadata": {
    "id": "555ac88a22cf"
   },
   "source": [
    "接下来，使用相同数据集的较大版本创建另一个管道运行。"
   ]
  },
  {
   "cell_type": "code",
   "execution_count": null,
   "metadata": {
    "id": "3d9fcb6a4a9e"
   },
   "outputs": [],
   "source": [
    "run2 = pipeline_jobs.PipelineJob(\n",
    "    display_name=\"mlmd-pipeline\",\n",
    "    template_path=\"mlmd_pipeline.json\",\n",
    "    job_id=\"mlmd-pipeline-large-{}\".format(TIMESTAMP),\n",
    "    parameter_values={\"bq_table\": \"sara-vertex-demos.beans_demo.large_dataset\"},\n",
    "    enable_caching=True,\n",
    ")"
   ]
  },
  {
   "cell_type": "markdown",
   "metadata": {
    "id": "5670722f7668"
   },
   "source": [
    "最后，启动两次运行的管道执行。最好在两个单独的笔记本单元格中进行此操作，以便您可以查看每次运行的输出。"
   ]
  },
  {
   "cell_type": "code",
   "execution_count": null,
   "metadata": {
    "id": "1f477f5565c6"
   },
   "outputs": [],
   "source": [
    "run1.submit()"
   ]
  },
  {
   "cell_type": "markdown",
   "metadata": {
    "id": "6e682e41af78"
   },
   "source": [
    "然后，开始第二轮："
   ]
  },
  {
   "cell_type": "code",
   "execution_count": null,
   "metadata": {
    "id": "cb263e503ced"
   },
   "outputs": [],
   "source": [
    "run2.submit()"
   ]
  },
  {
   "cell_type": "markdown",
   "metadata": {
    "id": "cc15017be48e"
   },
   "source": [
    "运行完这个单元格后，您将看到一个链接，可以在 Google Cloud 控制台中查看每个流水线。打开该链接以查看有关您的流水线的更多详细信息。\n",
    "\n",
    "**这些流水线运行将需要10-15分钟才能完成。**"
   ]
  },
  {
   "cell_type": "markdown",
   "metadata": {
    "id": "jZLrJZTfL7tE"
   },
   "source": [
    "比较管道运行"
   ]
  },
  {
   "cell_type": "markdown",
   "metadata": {
    "id": "A1PqKxlpOZa2"
   },
   "source": [
    "现在您已经完成了两个流水线运行，可以使用Vertex AI SDK for Python仔细查看流水线指标。\n",
    "\n",
    "**有关在Google Cloud控制台中查看流水线工件和元数据的指导，请参阅[这个codelab](https://codelabs.developers.google.com/vertex-mlmd-pipelines#5)。**"
   ]
  },
  {
   "cell_type": "markdown",
   "metadata": {
    "id": "jbRf1WoH_vbY"
   },
   "source": [
    "您可以使用`aiplatform.get_pipeline_df()`方法来访问运行元数据。在这里，您将获取相同管道的最后两次运行的元数据，并将其加载到Pandas DataFrame中。这里的`mlmd-pipeline`参数是指您在管道定义中为管道设置的名称："
   ]
  },
  {
   "cell_type": "code",
   "execution_count": null,
   "metadata": {
    "id": "90d850cda34f"
   },
   "outputs": [],
   "source": [
    "df = aiplatform.get_pipeline_df(pipeline=\"mlmd-pipeline\")\n",
    "print(df)"
   ]
  },
  {
   "cell_type": "markdown",
   "metadata": {
    "id": "d23e2cb66265"
   },
   "source": [
    "你只在这里执行了管道两次，但想象一下，如果执行次数更多，将会有多少指标。接下来，使用matplotlib创建一个定制的可视化图表，来查看模型准确性与用于训练的数据量之间的关系。运行以下命令生成图表："
   ]
  },
  {
   "cell_type": "code",
   "execution_count": null,
   "metadata": {
    "id": "5957415cc390"
   },
   "outputs": [],
   "source": [
    "plt.plot(df[\"metric.dataset_size\"], df[\"metric.accuracy\"], label=\"Accuracy\")\n",
    "plt.title(\"Accuracy and dataset size\")\n",
    "plt.legend(loc=4)\n",
    "plt.show()"
   ]
  },
  {
   "cell_type": "markdown",
   "metadata": {
    "id": "EYuYgqVCMKU1"
   },
   "source": [
    "查询管道指标"
   ]
  },
  {
   "cell_type": "markdown",
   "metadata": {
    "id": "4431b5d062f3"
   },
   "source": [
    "除了获取所有管道指标的DataFrame之外，您可能希望以编程方式查询在您的ML系统中创建的工件。从那里，您可以创建自定义仪表板，或让您组织中的其他人获取特定工件的详细信息。"
   ]
  },
  {
   "cell_type": "markdown",
   "metadata": {
    "id": "995723757c5d"
   },
   "source": [
    "获取所有模型工件\n",
    "\n",
    "要以这种方式查询工件，您将创建一个 `MetadataServiceClient`："
   ]
  },
  {
   "cell_type": "code",
   "execution_count": null,
   "metadata": {
    "id": "r8orCj8iJuO1"
   },
   "outputs": [],
   "source": [
    "API_ENDPOINT = \"{}-aiplatform.googleapis.com\".format(REGION)\n",
    "metadata_client = aiplatform_v1beta1.MetadataServiceClient(\n",
    "    client_options={\"api_endpoint\": API_ENDPOINT}\n",
    ")"
   ]
  },
  {
   "cell_type": "markdown",
   "metadata": {
    "id": "e5aee9cdc5bd"
   },
   "source": [
    "接下来，向该端点发出一个`list_artifacts`请求，并传递一个筛选器，指示您想要在响应中的哪些工件。首先，让我们获取项目中所有的**模型**工件。为此，请在您的笔记本中运行以下命令："
   ]
  },
  {
   "cell_type": "code",
   "execution_count": null,
   "metadata": {
    "id": "29260057ae40"
   },
   "outputs": [],
   "source": [
    "MODEL_FILTER = 'schema_title = \"system.Model\"'\n",
    "artifact_request = aiplatform_v1beta1.ListArtifactsRequest(\n",
    "    parent=\"projects/{}/locations/{}/metadataStores/default\".format(PROJECT_ID, REGION),\n",
    "    filter=MODEL_FILTER,\n",
    ")\n",
    "model_artifacts = metadata_client.list_artifacts(artifact_request)"
   ]
  },
  {
   "cell_type": "markdown",
   "metadata": {
    "id": "dfb57f1b7833"
   },
   "source": [
    "生成的 `model_artifacts` 响应包含您项目中每个模型工件的可迭代对象，以及每个模型的相关元数据。"
   ]
  },
  {
   "cell_type": "markdown",
   "metadata": {
    "id": "WTHvPMweMlP1"
   },
   "source": [
    "### 对象过滤并在DataFrame中显示"
   ]
  },
  {
   "cell_type": "markdown",
   "metadata": {
    "id": "F19_5lw0MqXv"
   },
   "source": [
    "接下来，获取所有在2021年8月10日之后创建的具有`LIVE`状态的文物。运行这个请求之后，在一个pandas DataFrame中显示结果。首先，执行这个请求："
   ]
  },
  {
   "cell_type": "code",
   "execution_count": null,
   "metadata": {
    "id": "GmN9vE9pqqzt"
   },
   "outputs": [],
   "source": [
    "LIVE_FILTER = 'create_time > \"2021-08-10T00:00:00-00:00\" AND state = LIVE'\n",
    "artifact_req = {\n",
    "    \"parent\": \"projects/{}/locations/{}/metadataStores/default\".format(\n",
    "        PROJECT_ID, REGION\n",
    "    ),\n",
    "    \"filter\": LIVE_FILTER,\n",
    "}\n",
    "live_artifacts = metadata_client.list_artifacts(artifact_req)"
   ]
  },
  {
   "cell_type": "markdown",
   "metadata": {
    "id": "6bba2012b7f0"
   },
   "source": [
    "然后在一个数据帧中显示结果:"
   ]
  },
  {
   "cell_type": "code",
   "execution_count": null,
   "metadata": {
    "id": "6bee5790cec4"
   },
   "outputs": [],
   "source": [
    "data = {\"uri\": [], \"createTime\": [], \"type\": []}\n",
    "\n",
    "for i in live_artifacts:\n",
    "    data[\"uri\"].append(i.uri)\n",
    "    data[\"createTime\"].append(i.create_time)\n",
    "    data[\"type\"].append(i.schema_title)\n",
    "\n",
    "df = pd.DataFrame.from_dict(data)\n",
    "print(df)"
   ]
  },
  {
   "cell_type": "markdown",
   "metadata": {
    "id": "TpV-iwP9qw9c"
   },
   "source": [
    "清理\n",
    "\n",
    "要清理此项目中使用的所有Google Cloud资源，您可以删除用于教程的[Google Cloud项目](https://cloud.google.com/resource-manager/docs/creating-managing-projects#shutting_down_projects)。\n",
    "\n",
    "如果您不想删除项目，请按照以下步骤清理您使用的资源：\n",
    "\n",
    "- 如果您使用了Vertex AI Workbench笔记本来运行此项目，请停止或删除笔记本实例。\n",
    "- 在Vertex AI中执行的管道运行部署了端点。转到[Google Cloud控制台](https://console.cloud.google.com/vertex-ai/endpoints)删除这些端点。\n",
    "- 删除您创建的[Cloud Storage存储桶](https://console.cloud.google.com/storage/browser/)。"
   ]
  },
  {
   "cell_type": "code",
   "execution_count": null,
   "metadata": {
    "id": "f2c21373a498"
   },
   "outputs": [],
   "source": [
    "import os\n",
    "\n",
    "try:\n",
    "    run1.delete()\n",
    "    run2.delete()\n",
    "except Exception as e:\n",
    "    print(e)\n",
    "\n",
    "delete_bucket = False\n",
    "if delete_bucket or os.getenv(\"IS_TESTING\"):\n",
    "    ! gsutil rm -rf {BUCKET_URI}"
   ]
  }
 ],
 "metadata": {
  "colab": {
   "collapsed_sections": [],
   "name": "vertex-pipelines-ml-metadata.ipynb",
   "toc_visible": true
  },
  "kernelspec": {
   "display_name": "Python 3",
   "name": "python3"
  }
 },
 "nbformat": 4,
 "nbformat_minor": 0
}
