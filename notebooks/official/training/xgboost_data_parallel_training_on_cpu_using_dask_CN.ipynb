{
 "cells": [
  {
   "cell_type": "code",
   "execution_count": null,
   "metadata": {
    "id": "7fPc-KWUi2Xd"
   },
   "outputs": [],
   "source": [
    "# Copyright 2022 Google LLC\n",
    "#\n",
    "# Licensed under the Apache License, Version 2.0 (the \"License\");\n",
    "# you may not use this file except in compliance with the License.\n",
    "# You may obtain a copy of the License at\n",
    "#\n",
    "#     https://www.apache.org/licenses/LICENSE-2.0\n",
    "#\n",
    "# Unless required by applicable law or agreed to in writing, software\n",
    "# distributed under the License is distributed on an \"AS IS\" BASIS,\n",
    "# WITHOUT WARRANTIES OR CONDITIONS OF ANY KIND, either express or implied.\n",
    "# See the License for the specific language governing permissions and\n",
    "# limitations under the License."
   ]
  },
  {
   "cell_type": "markdown",
   "metadata": {
    "id": "eoXf8TfQoVth"
   },
   "source": [
    "# 使用Dask进行分布式XGBoost训练\n",
    "\n",
    "<table align=\"left\">\n",
    "  <td style=\"text-align: center\">\n",
    "    <a href=\"https://colab.research.google.com/github/GoogleCloudPlatform/vertex-ai-samples/blob/main/notebooks/official/training/xgboost_data_parallel_training_on_cpu_using_dask.ipynb\">\n",
    "      <img src=\"https://cloud.google.com/ml-engine/images/colab-logo-32px.png\" alt=\"Google Colaboratory logo\"><br> 在Colab中打开\n",
    "    </a>\n",
    "  </td>\n",
    "  <td style=\"text-align: center\">\n",
    "    <a href=\"https://console.cloud.google.com/vertex-ai/colab/import/https:%2F%2Fraw.githubusercontent.com%2FGoogleCloudPlatform%2Fvertex-ai-samples%2Fmain%2Fnotebooks%2Fofficial%2Ftraining%2Fxgboost_data_parallel_training_on_cpu_using_dask.ipynb\">\n",
    "      <img width=\"32px\" src=\"https://cloud.google.com/ml-engine/images/colab-enterprise-logo-32px.png\" alt=\"Google Cloud Colab Enterprise logo\"><br> 在Colab Enterprise中打开\n",
    "    </a>\n",
    "  </td>    \n",
    "  <td style=\"text-align: center\">\n",
    "    <a href=\"https://console.cloud.google.com/vertex-ai/workbench/deploy-notebook?download_url=https://raw.githubusercontent.com/GoogleCloudPlatform/vertex-ai-samples/main/notebooks/official/training/xgboost_data_parallel_training_on_cpu_using_dask.ipynb\">\n",
    "      <img src=\"https://lh3.googleusercontent.com/UiNooY4LUgW_oTvpsNhPpQzsstV5W8F7rYgxgGBD85cWJoLmrOzhVs_ksK_vgx40SHs7jCqkTkCk=e14-rj-sc0xffffff-h130-w32\" alt=\"Vertex AI logo\"><br> 在Workbench中打开\n",
    "    </a>\n",
    "  </td>\n",
    "  <td style=\"text-align: center\">\n",
    "    <a href=\"https://github.com/GoogleCloudPlatform/vertex-ai-samples/blob/main/notebooks/official/training/xgboost_data_parallel_training_on_cpu_using_dask.ipynb\">\n",
    "      <img src=\"https://cloud.google.com/ml-engine/images/github-logo-32px.png\" alt=\"GitHub logo\"><br> 在GitHub上查看\n",
    "    </a>\n",
    "  </td>\n",
    "</table>"
   ]
  },
  {
   "cell_type": "markdown",
   "metadata": {
    "id": "54c20a90a87c"
   },
   "source": [
    "## 概述\n",
    "\n",
    "本教程向您展示如何在Vertex AI上使用Dask创建一个可以处理大量训练数据的分布式自定义训练作业，使用XGBoost。\n",
    "\n",
    "了解更多关于[自定义训练](https://cloud.google.com/vertex-ai/docs/training/custom-training)。"
   ]
  },
  {
   "cell_type": "markdown",
   "metadata": {
    "id": "AksIKBzZ-nre"
   },
   "source": [
    "### 目标\n",
    "\n",
    "在本教程中，您将学习如何使用Dask创建一个使用XGBoost的分布式训练作业。您将构建一个具有简单Dask配置的自定义docker容器，以运行自定义训练作业。当您的训练作业正在运行时，您可以访问Dask仪表板来监视集群、资源和计算的实时状态。\n",
    "\n",
    "本教程使用以下Google Cloud ML服务：\n",
    "\n",
    "- `Vertex AI Training`\n",
    "- `Artifact Registry`\n",
    "\n",
    "执行的步骤包括：\n",
    "\n",
    "- 为您的Google Cloud项目配置`PROJECT_ID`和`LOCATION`变量。\n",
    "- 创建一个Cloud Storage存储桶来存储您的模型工件。\n",
    "- 构建一个承载您的训练代码的自定义Docker容器，并将容器镜像推送到Artifact Registry。\n",
    "- 运行Vertex AI SDK CustomContainerTrainingJob。"
   ]
  },
  {
   "cell_type": "markdown",
   "metadata": {
    "id": "e6fca200d52f"
   },
   "source": [
    "### 数据集\n",
    "\n",
    "本教程使用 <a href=\"https://scikit-learn.org/stable/auto_examples/datasets/plot_iris_dataset.html\">IRIS 数据集</a>，该数据集预测鸢尾花的品种。"
   ]
  },
  {
   "cell_type": "markdown",
   "metadata": {
    "id": "a110a9c9923b"
   },
   "source": [
    "成本\n",
    "\n",
    "本教程使用 Google Cloud 的计费组件：\n",
    "\n",
    "* Vertex AI\n",
    "\n",
    "* Cloud Storage\n",
    "\n",
    "* Artifact Registry\n",
    "\n",
    "了解 [Vertex AI 定价](https://cloud.google.com/vertex-ai/pricing)，[Cloud Storage 定价](https://cloud.google.com/storage/pricing)和[Artifact Registry](https://cloud.google.com/artifact-registry/pricing)，并使用[Pricing Calculator](https://cloud.google.com/products/calculator/)，\n",
    "根据您的预期使用情况生成成本估算。"
   ]
  },
  {
   "cell_type": "markdown",
   "metadata": {
    "id": "61RBz8LLbxCR"
   },
   "source": [
    "开始。"
   ]
  },
  {
   "cell_type": "markdown",
   "metadata": {
    "id": "No17Cw5hgx12"
   },
   "source": [
    "### 为Python安装Vertex AI SDK和其他必需的软件包\n",
    "\n",
    "### 安装Vertex AI SDK for Python和其他必需的软件包"
   ]
  },
  {
   "cell_type": "code",
   "execution_count": null,
   "metadata": {
    "id": "tFy3H3aPgx12"
   },
   "outputs": [],
   "source": [
    "! pip3 install --upgrade --quiet google-cloud-aiplatform"
   ]
  },
  {
   "cell_type": "markdown",
   "metadata": {
    "id": "R5Xep4W9lq-Z"
   },
   "source": [
    "### 重新启动运行时（仅适用于Colab）\n",
    "\n",
    "要使用新安装的软件包，您必须重新启动Google Colab上的运行时。"
   ]
  },
  {
   "cell_type": "code",
   "execution_count": null,
   "metadata": {
    "id": "XRvKdaPDTznN"
   },
   "outputs": [],
   "source": [
    "import sys\n",
    "\n",
    "if \"google.colab\" in sys.modules:\n",
    "\n",
    "    import IPython\n",
    "\n",
    "    app = IPython.Application.instance()\n",
    "    app.kernel.do_shutdown(True)"
   ]
  },
  {
   "cell_type": "markdown",
   "metadata": {
    "id": "SbmM4z7FOBpM"
   },
   "source": [
    "<div class=\"alert alert-block alert-warning\"> \n",
    "<b>⚠️ 内核将重新启动。请等待它完成后再继续下一步。 ⚠️</b>\n",
    "</div>"
   ]
  },
  {
   "cell_type": "markdown",
   "metadata": {
    "id": "dmWOrTJ3gx13"
   },
   "source": [
    "### 验证您的笔记本环境（仅适用于Colab）\n",
    "\n",
    "在Google Colab上验证您的环境。"
   ]
  },
  {
   "cell_type": "code",
   "execution_count": null,
   "metadata": {
    "id": "NyKGtVQjgx13"
   },
   "outputs": [],
   "source": [
    "import sys\n",
    "\n",
    "if \"google.colab\" in sys.modules:\n",
    "\n",
    "    from google.colab import auth\n",
    "\n",
    "    auth.authenticate_user()"
   ]
  },
  {
   "cell_type": "markdown",
   "metadata": {
    "id": "DF4l8DTdWgPY"
   },
   "source": [
    "### 设置Google Cloud项目信息并为Python初始化Vertex AI SDK\n",
    "\n",
    "要开始使用Vertex AI，您必须拥有现有的Google Cloud项目并 [启用Vertex AI API](https://console.cloud.google.com/flows/enableapi?apiid=aiplatform.googleapis.com)。了解更多关于 [设置项目和开发环境](https://cloud.google.com/vertex-ai/docs/start/cloud-environment) 的信息。"
   ]
  },
  {
   "cell_type": "code",
   "execution_count": null,
   "metadata": {
    "id": "Nqwi-5ufWp_B"
   },
   "outputs": [],
   "source": [
    "PROJECT_ID = \"vertexai-service-project\"  # \"[your-project-id]\"  # @param {type:\"string\"}\n",
    "LOCATION = \"us-central1\"  # @param {type:\"string\"}"
   ]
  },
  {
   "cell_type": "markdown",
   "metadata": {
    "id": "zgPO1eR3CYjk"
   },
   "source": [
    "创建一个云存储存储桶\n",
    "\n",
    "创建一个存储桶来存储中间产物，如数据集。"
   ]
  },
  {
   "cell_type": "code",
   "execution_count": null,
   "metadata": {
    "id": "MzGDU7TWdts_"
   },
   "outputs": [],
   "source": [
    "BUCKET_URI = f\"gs://your-bucket-name-{PROJECT_ID}-unique-nm21\"  # @param {type:\"string\"}"
   ]
  },
  {
   "cell_type": "markdown",
   "metadata": {
    "id": "create_bucket"
   },
   "source": [
    "如果您的存储桶不存在：运行以下单元格以创建您的云存储桶。"
   ]
  },
  {
   "cell_type": "code",
   "execution_count": null,
   "metadata": {
    "id": "NIq7R4HZCfIc"
   },
   "outputs": [],
   "source": [
    "! gsutil mb -l $LOCATION -p $PROJECT_ID $BUCKET_URI"
   ]
  },
  {
   "cell_type": "markdown",
   "metadata": {
    "id": "8a08fd75fcd9"
   },
   "source": [
    "初始化Python的Vertex AI SDK"
   ]
  },
  {
   "cell_type": "code",
   "execution_count": null,
   "metadata": {
    "id": "4dc6b3ba241c"
   },
   "outputs": [],
   "source": [
    "from google.cloud import aiplatform\n",
    "\n",
    "aiplatform.init(project=PROJECT_ID, staging_bucket=BUCKET_URI, location=LOCATION)"
   ]
  },
  {
   "cell_type": "markdown",
   "metadata": {
    "id": "9f4140523e88"
   },
   "source": [
    "**注意:** 为服务账户分配`Logs Writer`角色。"
   ]
  },
  {
   "cell_type": "markdown",
   "metadata": {
    "id": "Dax2zrpTi2Xy"
   },
   "source": [
    "导入库并定义常量"
   ]
  },
  {
   "cell_type": "code",
   "execution_count": null,
   "metadata": {
    "id": "MjeuNztBrLmr"
   },
   "outputs": [],
   "source": [
    "import os"
   ]
  },
  {
   "cell_type": "markdown",
   "metadata": {
    "id": "Xx_z9JQlrNwG"
   },
   "source": [
    "# 创建一个自定义的Python训练包\n",
    "\n",
    "在进行本地训练之前，您必须创建一个训练脚本文件和一个docker文件。\n",
    "\n",
    "为您所有的训练代码创建一个`trainer`目录。"
   ]
  },
  {
   "cell_type": "code",
   "execution_count": null,
   "metadata": {
    "id": "-iYddwztr3g7"
   },
   "outputs": [],
   "source": [
    "PYTHON_PACKAGE_APPLICATION_DIR = \"trainer\"\n",
    "!mkdir -p $PYTHON_PACKAGE_APPLICATION_DIR"
   ]
  },
  {
   "cell_type": "markdown",
   "metadata": {
    "id": "ECBb7Lbqr9Hs"
   },
   "source": [
    "###写培训脚本"
   ]
  },
  {
   "cell_type": "markdown",
   "metadata": {
    "id": "5EStvMiC9tdS"
   },
   "source": [
    "`train.py`文件检查当前节点是主节点还是工作节点，并为主节点运行`dask-scheduler`，为工作节点运行`dask-worker`。工作节点通过`CLUSTER_SPEC`中指定的IP地址和端口号连接到主节点。\n",
    "\n",
    "Dask调度程序设置并连接到工作节点后，调用`xgb.dask.train`通过Dask训练模型。一旦模型训练完成，模型将被上传到`AIP_MODEL_DIR`。"
   ]
  },
  {
   "cell_type": "code",
   "execution_count": null,
   "metadata": {
    "id": "thNtAY2Gsx2h"
   },
   "outputs": [],
   "source": [
    "%%writefile trainer/train.py\n",
    "from dask.distributed import Client, wait\n",
    "from xgboost.dask import DaskDMatrix\n",
    "from google.cloud import storage\n",
    "import xgboost as xgb\n",
    "import dask.dataframe as dd\n",
    "import sys\n",
    "import os\n",
    "import subprocess\n",
    "import time\n",
    "import json\n",
    "\n",
    "IRIS_DATA_FILENAME = 'gs://cloud-samples-data/ai-platform/iris/iris_data.csv'\n",
    "IRIS_TARGET_FILENAME = 'gs://cloud-samples-data/ai-platform/iris/iris_target.csv'\n",
    "MODEL_FILE = 'model.bst'\n",
    "MODEL_DIR = os.getenv(\"AIP_MODEL_DIR\")\n",
    "XGB_PARAMS = {\n",
    "    'verbosity': 2,\n",
    "    'learning_rate': 0.1,\n",
    "    'max_depth': 8,\n",
    "    'objective': 'reg:squarederror',\n",
    "    'subsample': 0.6,\n",
    "    'gamma': 1,\n",
    "    'verbose_eval': True,\n",
    "    'tree_method': 'hist',\n",
    "    'nthread': 1\n",
    "}\n",
    "\n",
    "\n",
    "def square(x):\n",
    "    return x ** 2\n",
    "\n",
    "def neg(x):\n",
    "    return -x\n",
    "\n",
    "def launch(cmd):\n",
    "    \"\"\" launch dask workers\n",
    "    \"\"\"\n",
    "    return subprocess.check_call(cmd, stdout=sys.stdout, stderr=sys.stderr, shell=True)\n",
    "\n",
    "\n",
    "def get_chief_ip(cluster_config_dict):\n",
    "    if 'workerpool0' in cluster_config_dict['cluster']:\n",
    "      ip_address = cluster_config_dict['cluster']['workerpool0'][0].split(\":\")[0]\n",
    "    else:\n",
    "      # if the job is not distributed, 'chief' will be populated instead of\n",
    "      # workerpool0.\n",
    "      ip_address = cluster_config_dict['cluster']['chief'][0].split(\":\")[0]\n",
    "\n",
    "    print('The ip address of workerpool 0 is : {}'.format(ip_address))\n",
    "    return ip_address\n",
    "\n",
    "def get_chief_port(cluster_config_dict):\n",
    "\n",
    "    if \"open_ports\" in cluster_config_dict:\n",
    "      port = cluster_config_dict['open_ports'][0]\n",
    "    else:\n",
    "      # Use any port for the non-distributed job.\n",
    "      port = 7777\n",
    "    print(\"The open port is: {}\".format(port))\n",
    "\n",
    "    return port\n",
    "\n",
    "if __name__ == '__main__':\n",
    "    cluster_config_str = os.environ.get('CLUSTER_SPEC')\n",
    "    cluster_config_dict  = json.loads(cluster_config_str)\n",
    "    print(json.dumps(cluster_config_dict, indent=2))\n",
    "    print('The workerpool type is:', flush=True)\n",
    "    print(cluster_config_dict['task']['type'], flush=True)\n",
    "    workerpool_type = cluster_config_dict['task']['type']\n",
    "    chief_ip = get_chief_ip(cluster_config_dict)\n",
    "    chief_port = get_chief_port(cluster_config_dict)\n",
    "    chief_address = \"{}:{}\".format(chief_ip, chief_port)\n",
    "\n",
    "    if workerpool_type == \"workerpool0\":\n",
    "      print('Running the dask scheduler.', flush=True)\n",
    "      proc_scheduler = launch('dask-scheduler --dashboard --dashboard-address 8888 --port {} &'.format(chief_port))\n",
    "      print('Done the dask scheduler.', flush=True)\n",
    "\n",
    "      client = Client(chief_address, timeout=1200)\n",
    "      print('Waiting the scheduler to be connected.', flush=True)\n",
    "      client.wait_for_workers(1)\n",
    "\n",
    "      X = dd.read_csv(IRIS_DATA_FILENAME, header=None)\n",
    "      y = dd.read_csv(IRIS_TARGET_FILENAME, header=None)\n",
    "      X.persist()\n",
    "      y.persist()\n",
    "      wait(X)\n",
    "      wait(y)\n",
    "      dtrain = DaskDMatrix(client, X, y)\n",
    "\n",
    "      output = xgb.dask.train(client, XGB_PARAMS, dtrain,  num_boost_round=100, evals=[(dtrain, 'train')])\n",
    "      print(\"Output: {}\".format(output), flush=True)\n",
    "      print(\"Saving file to: {}\".format(MODEL_FILE), flush=True)\n",
    "      output['booster'].save_model(MODEL_FILE)\n",
    "      bucket_name = MODEL_DIR.replace(\"gs://\", \"\").split(\"/\", 1)[0]\n",
    "      folder = MODEL_DIR.replace(\"gs://\", \"\").split(\"/\", 1)[1]\n",
    "      bucket = storage.Client().bucket(bucket_name)\n",
    "      print(\"Uploading file to: {}/{}{}\".format(bucket_name, folder, MODEL_FILE), flush=True)\n",
    "      blob = bucket.blob('{}{}'.format(folder, MODEL_FILE))\n",
    "      blob.upload_from_filename(MODEL_FILE)\n",
    "      print(\"Saved file to: {}/{}\".format(MODEL_DIR, MODEL_FILE), flush=True)\n",
    "\n",
    "      # Waiting 10 mins to connect the Dask dashboard\n",
    "      time.sleep(60 * 10)\n",
    "      client.shutdown()\n",
    "\n",
    "    else:\n",
    "      print('Running the dask worker.', flush=True)\n",
    "      client = Client(chief_address, timeout=1200)\n",
    "      print('client: {}.'.format(client), flush=True)\n",
    "      launch('dask-worker {}'.format(chief_address))\n",
    "      print('Done with the dask worker.', flush=True)\n",
    "\n",
    "      # Waiting 10 mins to connect the Dask dashboard\n",
    "      time.sleep(60 * 10)\n"
   ]
  },
  {
   "cell_type": "markdown",
   "metadata": {
    "id": "MxsT4Vaos2W5"
   },
   "source": [
    "### 编写 Docker 文件\n",
    "Docker文件用于构建自定义训练容器，并传递给Vertex Training。"
   ]
  },
  {
   "cell_type": "code",
   "execution_count": null,
   "metadata": {
    "id": "xD60d6Q0i2X0"
   },
   "outputs": [],
   "source": [
    "%%writefile Dockerfile\n",
    "FROM us-docker.pkg.dev/vertex-ai/training/tf-cpu.2-9:latest\n",
    "WORKDIR /root\n",
    "\n",
    "# Install sudo\n",
    "RUN apt-get update && apt-get -y install sudo\n",
    "\n",
    "# Update the keyring in order to run apt-get update.\n",
    "RUN rm -rf /usr/share/keyrings/cloud.google.gpg\n",
    "RUN rm -rf /etc/apt/sources.list.d/google-cloud-sdk.list\n",
    "RUN curl https://packages.cloud.google.com/apt/doc/apt-key.gpg | sudo apt-key add -\n",
    "RUN echo \"deb https://packages.cloud.google.com/apt cloud-sdk main\" | sudo tee -a /etc/apt/sources.list.d/google-cloud-sdk.list\n",
    "\n",
    "# Install packages (without sudo)\n",
    "RUN apt-get update && apt-get install -y telnet netcat iputils-ping net-tools\n",
    "\n",
    "# Determine the default Python version\n",
    "RUN echo python3 --version\n",
    "\n",
    "# Install Python packages using the identified version\n",
    "RUN python3 -m pip install 'xgboost>=1.4.2' 'dask-ml[complete]==2022.5.27' 'dask[complete]==2022.01.0' --upgrade\n",
    "RUN python3 -m pip install dask==2022.01.0 distributed==2022.01.0 bokeh==2.4.3 dask-cuda==22.2.0 click==8.0.1 --upgrade\n",
    "RUN python3 -m pip install gcsfs --upgrade\n",
    "\n",
    "\n",
    "# Make sure gsutil will use the default service account\n",
    "RUN echo '[GoogleCompute]\\nservice_account = default' > /etc/boto.cfg\n",
    "\n",
    "# Copies the trainer code\n",
    "RUN mkdir /root/trainer\n",
    "COPY trainer/train.py /root/trainer/train.py\n",
    "\n",
    "# Sets up the entry point to invoke the trainer.\n",
    "ENTRYPOINT [\"python3\", \"trainer/train.py\"]\n"
   ]
  },
  {
   "cell_type": "markdown",
   "metadata": {
    "id": "K6Yj8pZWAD7c"
   },
   "source": [
    "## 创建一个自定义训练作业\n",
    "\n",
    "### 构建一个自定义训练容器\n",
    "\n",
    "#### 启用 Artifact Registry API\n",
    "您必须为您的项目启用Artifact Registry API。您将把自定义训练容器存储在Artifact Registry中。\n",
    "\n",
    "<a href=\"https://cloud.google.com/artifact-registry/docs/enable-service\">了解更多关于启用服务</a>。"
   ]
  },
  {
   "cell_type": "code",
   "execution_count": null,
   "metadata": {
    "id": "hd1j9BHeA81h"
   },
   "outputs": [],
   "source": [
    "! gcloud services enable artifactregistry.googleapis.com"
   ]
  },
  {
   "cell_type": "markdown",
   "metadata": {
    "id": "SMUUSWBgA_Mb"
   },
   "source": [
    "### 创建一个私有的Docker仓库\n",
    "您的第一步是在Artifact Registry中创建一个Docker仓库。\n",
    "\n",
    "1. 运行`gcloud artifacts repositories create`命令来创建一个新的Docker仓库，使用您的位置和描述为`docker repository`。\n",
    "\n",
    "2. 运行`gcloud artifacts repositories list`命令来验证您的仓库已经创建。"
   ]
  },
  {
   "cell_type": "code",
   "execution_count": null,
   "metadata": {
    "id": "0_csN1pAH95F"
   },
   "outputs": [],
   "source": [
    "PRIVATE_REPO = \"my-docker-repo\"\n",
    "\n",
    "if os.getenv(\"IS_TESTING\"):\n",
    "    ! sudo apt-get update --yes && sudo apt-get --only-upgrade --yes install google-cloud-sdk-cloud-run-proxy google-cloud-sdk-harbourbridge google-cloud-sdk-cbt google-cloud-sdk-gke-gcloud-auth-plugin google-cloud-sdk-kpt google-cloud-sdk-local-extract google-cloud-sdk-minikube google-cloud-sdk-app-engine-java google-cloud-sdk-app-engine-go google-cloud-sdk-app-engine-python google-cloud-sdk-spanner-emulator google-cloud-sdk-bigtable-emulator google-cloud-sdk-nomos google-cloud-sdk-package-go-module google-cloud-sdk-firestore-emulator kubectl google-cloud-sdk-datastore-emulator google-cloud-sdk-app-engine-python-extras google-cloud-sdk-cloud-build-local google-cloud-sdk-kubectl-oidc google-cloud-sdk-anthos-auth google-cloud-sdk-app-engine-grpc google-cloud-sdk-pubsub-emulator google-cloud-sdk-datalab google-cloud-sdk-skaffold google-cloud-sdk google-cloud-sdk-terraform-tools google-cloud-sdk-config-connector\n",
    "    ! gcloud components update --quiet\n",
    "\n",
    "! gcloud artifacts repositories create {PRIVATE_REPO} --repository-format=docker --location={LOCATION} --description=\"Docker repository\"\n",
    "\n",
    "! gcloud artifacts repositories list"
   ]
  },
  {
   "cell_type": "code",
   "execution_count": null,
   "metadata": {
    "id": "KPpGuKi-BOAD"
   },
   "outputs": [],
   "source": [
    "TRAIN_IMAGE = (\n",
    "    f\"{LOCATION}-docker.pkg.dev/\"\n",
    "    + PROJECT_ID\n",
    "    + f\"/{PRIVATE_REPO}\"\n",
    "    + \"/dask_support:latest\"\n",
    ")\n",
    "print(\"Deployment:\", TRAIN_IMAGE)"
   ]
  },
  {
   "cell_type": "markdown",
   "metadata": {
    "id": "_RgHDDL8BWgz"
   },
   "source": [
    "将Docker验证到您的仓库\n",
    "配置认证到您的私人仓库\n",
    "在您可以将容器镜像推送到或从您的Artifact Registry仓库拉取之前，您必须配置Docker使用gcloud命令行工具来认证对您位置的Artifact Registry的请求。在Colab上，您将不得不使用Cloud Build作为docker命令不可用。"
   ]
  },
  {
   "cell_type": "code",
   "execution_count": null,
   "metadata": {
    "id": "GRLMyQwdKiLr"
   },
   "outputs": [],
   "source": [
    "import sys\n",
    "\n",
    "IS_COLAB = \"google.colab\" in sys.modules\n",
    "if not IS_COLAB:\n",
    "    ! gcloud auth configure-docker {LOCATION}-docker.pkg.dev --quiet"
   ]
  },
  {
   "cell_type": "markdown",
   "metadata": {
    "id": "XW4EecX1Bj8j"
   },
   "source": [
    "设置自定义的Docker容器镜像。\n",
    "\n",
    "1. 从Docker Hub拉取对应的CPU或GPU Docker镜像。\n",
    "2. 为镜像创建标签以在Artifact Registry中注册。\n",
    "3. 将镜像注册到Artifact Registry。"
   ]
  },
  {
   "cell_type": "code",
   "execution_count": null,
   "metadata": {
    "id": "Z2XTaEDHB9HK"
   },
   "outputs": [],
   "source": [
    "if not IS_COLAB:\n",
    "    ! docker build -t $TRAIN_IMAGE -f Dockerfile .\n",
    "    ! docker push $TRAIN_IMAGE"
   ]
  },
  {
   "cell_type": "markdown",
   "metadata": {
    "id": "3rzI1ZXQCA30"
   },
   "source": [
    "## 使用Cloud Build构建和推送自定义docker容器镜像\n",
    "\n",
    "使用Cloud Build构建并推送一个Docker镜像"
   ]
  },
  {
   "cell_type": "code",
   "execution_count": null,
   "metadata": {
    "id": "AJMhP0kYCEgY"
   },
   "outputs": [],
   "source": [
    "if IS_COLAB:\n",
    "    !  gcloud builds submit --timeout=1800s --region={LOCATION} --tag $TRAIN_IMAGE"
   ]
  },
  {
   "cell_type": "markdown",
   "metadata": {
    "id": "41ZgDYPNfEvt"
   },
   "source": [
    "使用SDK（选项1）或gcloud（选项2）运行培训作业。"
   ]
  },
  {
   "cell_type": "markdown",
   "metadata": {
    "id": "_GB2j39BCXiy"
   },
   "source": [
    "运行Vertex AI SDK CustomContainerTrainingJob"
   ]
  },
  {
   "cell_type": "markdown",
   "metadata": {
    "id": "7udaU3jxfKs8"
   },
   "source": [
    "您可以指定字段enable_web_access和enable_dashboard_access。 enable_web_access可启用作业的交互式 shell，而enable_dashboard_access允许访问 dask 仪表板。"
   ]
  },
  {
   "cell_type": "code",
   "execution_count": null,
   "metadata": {
    "id": "aoEkXaaDepfo"
   },
   "outputs": [],
   "source": [
    "gcs_output_uri_prefix = f\"{BUCKET_URI}/output\"\n",
    "replica_count = 2\n",
    "machine_type = \"n1-standard-4\"\n",
    "display_name = \"test_display_name\"\n",
    "DEPLOY_IMAGE = \"us-docker.pkg.dev/vertex-ai/prediction/tf2-cpu.2-8:latest\"\n",
    "\n",
    "custom_container_training_job = aiplatform.CustomContainerTrainingJob(\n",
    "    display_name=display_name,\n",
    "    model_serving_container_image_uri=DEPLOY_IMAGE,\n",
    "    container_uri=TRAIN_IMAGE,\n",
    ")\n",
    "\n",
    "custom_container_training_job.run(\n",
    "    base_output_dir=gcs_output_uri_prefix,\n",
    "    replica_count=replica_count,\n",
    "    machine_type=machine_type,\n",
    "    enable_dashboard_access=True,\n",
    "    enable_web_access=True,\n",
    "    sync=False,\n",
    ")"
   ]
  },
  {
   "cell_type": "markdown",
   "metadata": {
    "id": "ROqdvgBKFGKL"
   },
   "source": [
    "等几分钟，定制工作即将开始。"
   ]
  },
  {
   "cell_type": "code",
   "execution_count": null,
   "metadata": {
    "id": "rBYbvim_FJz0"
   },
   "outputs": [],
   "source": [
    "import time\n",
    "\n",
    "time.sleep(60 * 10)"
   ]
  },
  {
   "cell_type": "code",
   "execution_count": null,
   "metadata": {
    "id": "XpLMkJAzDTgx"
   },
   "outputs": [],
   "source": [
    "try:\n",
    "    print(f\"Custom Training Job Name: {custom_container_training_job.resource_name}\")\n",
    "    print(f\"GCS Output URI Prefix: {gcs_output_uri_prefix}\")\n",
    "except Exception as e:\n",
    "    print(e)"
   ]
  },
  {
   "cell_type": "markdown",
   "metadata": {
    "id": "-0EJdcjPyjDK"
   },
   "source": [
    "您可以在云控制台界面中访问自定义作业的链接。"
   ]
  },
  {
   "cell_type": "code",
   "execution_count": null,
   "metadata": {
    "id": "ZMZPrcqsyj0e"
   },
   "outputs": [],
   "source": [
    "try:\n",
    "    print(\n",
    "        f\"Custom Training Job URI: {custom_container_training_job._custom_job_console_uri()}\"\n",
    "    )\n",
    "except Exception as e:\n",
    "    print(e)"
   ]
  },
  {
   "cell_type": "markdown",
   "metadata": {
    "id": "7McPKJGxymLU"
   },
   "source": [
    "一旦工作进入状态“运行中”，您可以在这里访问Web访问和仪表板访问的URI:"
   ]
  },
  {
   "cell_type": "code",
   "execution_count": null,
   "metadata": {
    "id": "tiHdwJs1yoE0"
   },
   "outputs": [],
   "source": [
    "try:\n",
    "    print(\n",
    "        f\"Web Access and Dashboard URIs: {custom_container_training_job.web_access_uris}\"\n",
    "    )\n",
    "except Exception as e:\n",
    "    print(e)"
   ]
  },
  {
   "cell_type": "markdown",
   "metadata": {
    "id": "9RDh5CzNywIA"
   },
   "source": [
    "交互式 shell 具有格式为 \"workerpool0-0\" 的密钥，而仪表板 URI 具有格式为 \"workerpool0-0:\" + 端口号（例如，在本示例中为 workerpool0-0:8888）的密钥。在 Cloud Console UI 中的自定义作业页面上，您还可以为 web 访问的 \"workerpool0-0\" 启动 web 终端，或者单击 \"启动 web 终端\" 为了仪表板访问的 \"workerpool0-0:\" + 端口号。\n",
    "\n",
    "请注意，您只能在作业运行时访问交互式 shell 和仪表板。如果您在 UI 中看不到 \"启动 web 终端\" 或者在 Web 访问和仪表板 URI 命令输出中看不到 URI，这可能是因为 Vertex AI 尚未开始运行您的作业，或作业已经完成或失败。如果作业状态为排队或挂起，请等待一分钟；然后尝试刷新页面，或再次尝试命令。"
   ]
  },
  {
   "cell_type": "markdown",
   "metadata": {
    "id": "tVktIbToRpmR"
   },
   "source": [
    "### 2. 使用gcloud运行CustomContainerTraining作业"
   ]
  },
  {
   "cell_type": "markdown",
   "metadata": {
    "id": "uVvxLj8GRsM6"
   },
   "source": [
    "您也可以使用gcloud命令创建一个训练作业。 使用gcloud命令，您可以指定字段enableWebAccess和enableDashboardAccess。 enableWebAccess启用作业的交互式shell，enableDashboardAccess允许访问Dask仪表板。"
   ]
  },
  {
   "cell_type": "code",
   "execution_count": null,
   "metadata": {
    "id": "pkOQtyDsRwsS"
   },
   "outputs": [],
   "source": [
    "%%bash -s \"$BUCKET_URI/output\" \"$TRAIN_IMAGE\"\n",
    "\n",
    "cat <<EOF >config.yaml\n",
    "enableDashboardAccess: true\n",
    "enableWebAccess: true\n",
    "# Creates two worker pool. The first worker pool is a chief and the second is\n",
    "# a worker.\n",
    "workerPoolSpecs:\n",
    "  - machineSpec:\n",
    "      machineType: n1-standard-8\n",
    "    replicaCount: 1\n",
    "    containerSpec:\n",
    "      imageUri: $2\n",
    "  - machineSpec:\n",
    "      machineType: n1-standard-8\n",
    "    replicaCount: 1\n",
    "    containerSpec:\n",
    "      imageUri: $2\n",
    "baseOutputDirectory:\n",
    "  outputUriPrefix: $1\n",
    "EOF\n",
    "cat config.yaml"
   ]
  },
  {
   "cell_type": "markdown",
   "metadata": {
    "id": "d5FLoTWzSNw7"
   },
   "source": [
    "以下命令创建一个训练工作。"
   ]
  },
  {
   "cell_type": "code",
   "execution_count": null,
   "metadata": {
    "id": "1MPj-NnpSQ1U"
   },
   "outputs": [],
   "source": [
    "! gcloud ai custom-jobs create --region=us-central1 --config=config.yaml --display-name={display_name}"
   ]
  },
  {
   "cell_type": "markdown",
   "metadata": {
    "id": "ROqdvgBKFGKL"
   },
   "source": [
    "等待几分钟，让定制工作开始。"
   ]
  },
  {
   "cell_type": "code",
   "execution_count": null,
   "metadata": {
    "id": "rBYbvim_FJz0"
   },
   "outputs": [],
   "source": [
    "import time\n",
    "\n",
    "time.sleep(60 * 10)"
   ]
  },
  {
   "cell_type": "markdown",
   "metadata": {
    "id": "HAYihHT9ff9q"
   },
   "source": [
    "#### 访问gcloud自定义作业的仪表板和交互式shell\n",
    "\n",
    "作业创建后，您可以使用`gcloud ai custom-jobs describe`命令来打印webAccessUris字段，从而访问Web访问URI和仪表板访问URI。交互式shell的密钥格式为\"workerpool0-0\"，而仪表板URI的密钥格式为\"workerpool0-0:\" + 端口号（在本例中为workerpool0-0:8888）。\n",
    "\n",
    "您也可以在Cloud控制台UI中找到这些链接。在Cloud控制台UI中，转到Vertex AI部分，然后进入训练和自定义作业。单击您自定义训练作业的名称。在作业页面上，单击\"启动Web终端\"以获取Web访问的\"workerpool0-0\"，或者单击\"启动Web终端\"以获取仪表板访问的\"workerpool0-0:\" + 端口号。\n",
    "\n",
    "请注意，只有在作业运行时才能访问交互式shell和仪表板。如果您在UI中看不到\"启动Web终端\"或在gcloud命令输出中看不到URI，可能是因为Vertex AI尚未开始运行您的作业，或者作业已经完成或失败。如果作业状态为排队或挂起，请等待一分钟，然后尝试刷新页面或重新运行gcloud命令。"
   ]
  },
  {
   "cell_type": "markdown",
   "metadata": {
    "id": "FqFwDvWCSYFX"
   },
   "source": [
    "#### 故障排除"
   ]
  },
  {
   "cell_type": "markdown",
   "metadata": {
    "id": "MjbPElukSiZt"
   },
   "source": [
    "交互式 shell 可以用于调试对 dask 仪表板的访问。您可以通过以下命令获取仪表板地址。"
   ]
  },
  {
   "cell_type": "code",
   "execution_count": null,
   "metadata": {
    "id": "z9eNOtYUTzJW"
   },
   "outputs": [],
   "source": [
    "# Note the following command should run inside the interactive shell.\n",
    "# printenv | grep AIP_DASHBOARD_PORT"
   ]
  },
  {
   "cell_type": "markdown",
   "metadata": {
    "id": "2SCRLCkpUDNM"
   },
   "source": [
    "然后您可以检查是否有仪表板监控该端口。"
   ]
  },
  {
   "cell_type": "code",
   "execution_count": null,
   "metadata": {
    "id": "fK74qU78ULPS"
   },
   "outputs": [],
   "source": [
    "# Note the following command should run inside the interactive shell.\n",
    "# netstat -ntlp"
   ]
  },
  {
   "cell_type": "markdown",
   "metadata": {
    "id": "8ucKHMGFUUF4"
   },
   "source": [
    "您可以手动调高仪表盘实例。"
   ]
  },
  {
   "cell_type": "code",
   "execution_count": null,
   "metadata": {
    "id": "gJrjiePvUip0"
   },
   "outputs": [],
   "source": [
    "# Note the following command should run inside the interactive shell.\n",
    "# dask-scheduler --dashboard-address :port_number"
   ]
  },
  {
   "cell_type": "markdown",
   "metadata": {
    "id": "SlsCCIFgDcGy"
   },
   "source": [
    "查看培训输出物品"
   ]
  },
  {
   "cell_type": "code",
   "execution_count": null,
   "metadata": {
    "id": "JjshJ2dcDdkQ"
   },
   "outputs": [],
   "source": [
    "! gsutil ls $gcs_output_uri_prefix/model/"
   ]
  },
  {
   "cell_type": "markdown",
   "metadata": {
    "id": "c26XO4bZDnDH"
   },
   "source": [
    "清理\n",
    "\n",
    "要清理此项目中使用的所有Google Cloud资源，您可以删除用于本教程的[Google Cloud项目](https://cloud.google.com/resource-manager/docs/creating-managing-projects#shutting_down_projects)。\n",
    "\n",
    "否则，您可以删除本教程中创建的各个资源：\n",
    "\n",
    "- Cloud Storage存储桶\n",
    "- Cloud Vertex训练作业"
   ]
  },
  {
   "cell_type": "code",
   "execution_count": null,
   "metadata": {
    "id": "Ue3SfrMODunu"
   },
   "outputs": [],
   "source": [
    "import logging\n",
    "import traceback\n",
    "\n",
    "# Set this to true only if you'd like to delete your bucket\n",
    "delete_bucket = False\n",
    "delete_application_directory = False\n",
    "\n",
    "! gsutil rm -rf $gcs_output_uri_prefix\n",
    "\n",
    "if delete_bucket:\n",
    "    ! gsutil rm -r $BUCKET_URI\n",
    "\n",
    "try:\n",
    "    custom_container_training_job.delete()\n",
    "except Exception as e:\n",
    "    logging.error(traceback.format_exc())\n",
    "    print(e)\n",
    "\n",
    "# Delete application directory\n",
    "if delete_application_directory:\n",
    "    ! rm -rf trainer config.yaml Dockerfile\n",
    "\n",
    "! gcloud artifacts repositories delete {PRIVATE_REPO} --location={LOCATION} --quiet"
   ]
  }
 ],
 "metadata": {
  "colab": {
   "name": "xgboost_data_parallel_training_on_cpu_using_dask.ipynb",
   "toc_visible": true
  },
  "kernelspec": {
   "display_name": "Python 3",
   "name": "python3"
  }
 },
 "nbformat": 4,
 "nbformat_minor": 0
}
