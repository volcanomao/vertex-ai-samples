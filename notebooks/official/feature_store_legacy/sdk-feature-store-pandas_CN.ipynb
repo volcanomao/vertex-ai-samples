{
 "cells": [
  {
   "cell_type": "code",
   "execution_count": null,
   "metadata": {
    "id": "ur8xi4C7S06n"
   },
   "outputs": [],
   "source": [
    "# Copyright 2022 Google LLC\n",
    "#\n",
    "# Licensed under the Apache License, Version 2.0 (the \"License\");\n",
    "# you may not use this file except in compliance with the License.\n",
    "# You may obtain a copy of the License at\n",
    "#\n",
    "#     https://www.apache.org/licenses/LICENSE-2.0\n",
    "#\n",
    "# Unless required by applicable law or agreed to in writing, software\n",
    "# distributed under the License is distributed on an \"AS IS\" BASIS,\n",
    "# WITHOUT WARRANTIES OR CONDITIONS OF ANY KIND, either express or implied.\n",
    "# See the License for the specific language governing permissions and\n",
    "# limitations under the License."
   ]
  },
  {
   "cell_type": "markdown",
   "metadata": {
    "id": "JAPoU8Sm5E6e"
   },
   "source": [
    "使用 Vertex AI 特征存储（遗留版）与 Pandas 数据框架\n",
    "\n",
    "<table align=\"left\">\n",
    "    <td>\n",
    "    <a href=\"https://colab.research.google.com/github/GoogleCloudPlatform/vertex-ai-samples/blob/main/notebooks/official/feature_store/sdk-feature-store-pandas.ipynb\">\n",
    "      <img src=\"https://cloud.google.com/ml-engine/images/colab-logo-32px.png\" alt=\"Colab logo\"> \n",
    "        在 Colab 中运行\n",
    "    </a>\n",
    "  </td>\n",
    "    \n",
    "  <td>\n",
    "    <a href=\"https://github.com/GoogleCloudPlatform/vertex-ai-samples/blob/main/notebooks/official/feature_store/sdk-feature-store-pandas.ipynb\">\n",
    "      <img src=\"https://cloud.google.com/ml-engine/images/github-logo-32px.png\" alt=\"GitHub logo\">\n",
    "      在 GitHub 上查看\n",
    "    </a>\n",
    "  </td>\n",
    "  <td>\n",
    "    <a href=\"https://console.cloud.google.com/vertex-ai/workbench/deploy-notebook?download_url=https://raw.githubusercontent.com/GoogleCloudPlatform/vertex-ai-samples/main/notebooks/official/feature_store/sdk-feature-store-pandas.ipynb\">\n",
    "      <img src=\"https://lh3.googleusercontent.com/UiNooY4LUgW_oTvpsNhPpQzsstV5W8F7rYgxgGBD85cWJoLmrOzhVs_ksK_vgx40SHs7jCqkTkCk=e14-rj-sc0xffffff-h130-w32\" alt=\"Vertex AI logo\">\n",
    "      在 Vertex AI Workbench 中打开\n",
    "    </a>\n",
    "  </td>\n",
    "</table>"
   ]
  },
  {
   "cell_type": "markdown",
   "metadata": {
    "id": "962e636b5cee"
   },
   "source": [
    "注意: 这个笔记本已在以下环境中进行过测试:\n",
    "- Python 版本 = 3.9"
   ]
  },
  {
   "cell_type": "markdown",
   "metadata": {
    "id": "tvgnzT1CKxrO"
   },
   "source": [
    "## 概述\n",
    "\n",
    "本笔记本介绍了使用Vertex AI SDK支持Vertex AI特征存储（遗留）的Pandas。有关Vertex AI SDK和Vertex AI特征存储（遗留）原生支持的先决条件和介绍，请阅读此[Colab笔记本](https://colab.sandbox.google.com/github/GoogleCloudPlatform/vertex-ai-samples/blob/main/notebooks/community/feature_store/sdk-feature-store.ipynb)。\n",
    "\n",
    "了解更多关于[Vertex AI特征存储](https://cloud.google.com/vertex-ai/docs/featurestore)。"
   ]
  },
  {
   "cell_type": "markdown",
   "metadata": {
    "id": "DxF5JWRVT5PP"
   },
   "source": [
    "### 目标\n",
    "\n",
    "在这本笔记本中，您将学习如何使用 `Vertex AI Feature Store (Legacy)` 与 pandas Dataframe。\n",
    "\n",
    "本教程使用以下 Google Cloud ML 服务和资源：\n",
    "\n",
    "- Vertex AI Feature Store (Legacy)\n",
    "\n",
    "执行的步骤包括：\n",
    "\n",
    "- 创建 `Featurestore`、`EntityType` 和 `Feature` 资源。\n",
    "- 将特征值从 Pandas DataFrame 导入到实体类型中。\n",
    "- 从在线特征存储中读取实体特征值到 Pandas DataFrame。\n",
    "- 将批处理提供的特征值从您的特征存储中导入到 Pandas DataFrame。\n",
    "\n",
    "您还将学习 `Vertex AI Feature Store (Legacy)` 在以下场景中的作用：\n",
    "\n",
    "- 使用更新后的特征值进行在线提供。\n",
    "- 在训练时获取特征值的正确性。"
   ]
  },
  {
   "cell_type": "markdown",
   "metadata": {
    "id": "c4ZNLaf6T0lN"
   },
   "source": [
    "### 数据集\n",
    "\n",
    "本教程是Vertex AI特征存储（传统版）教程笔记本的一部分。它使用电影推荐数据集作为示例，演示了Vertex AI特征存储（传统版）的各种功能。原始任务是训练一个模型，以预测用户是否会观看一部电影，并在线提供该模型。"
   ]
  },
  {
   "cell_type": "markdown",
   "metadata": {
    "id": "4W2Bj_QpT2Ud"
   },
   "source": [
    "### 成本\n",
    "\n",
    "本教程使用 Google Cloud 的计费组件：\n",
    "\n",
    "- Vertex AI\n",
    "- 云存储\n",
    "\n",
    "了解 [Vertex AI 价格信息](https://cloud.google.com/vertex-ai/pricing)，以及 [云存储价格信息](https://cloud.google.com/storage/pricing)，并使用 [价格计算器](https://cloud.google.com/products/calculator/) 根据您预期的使用情况生成成本估算。"
   ]
  },
  {
   "cell_type": "markdown",
   "metadata": {
    "id": "i7EUnXsZhAGF"
   },
   "source": [
    "## 安装\n",
    "\n",
    "安装以下所需的软件包以执行此笔记本。"
   ]
  },
  {
   "cell_type": "code",
   "execution_count": null,
   "metadata": {
    "id": "2b4ef9b72d43"
   },
   "outputs": [],
   "source": [
    "! pip install --quiet --upgrade google-cloud-aiplatform \\\n",
    "                                google-cloud-bigquery \\\n",
    "                                google-cloud-bigquery-storage \\\n",
    "                                avro \\\n",
    "                                pyarrow \\\n",
    "                                pandas \\\n",
    "                                fsspec \\\n",
    "                                gcsfs"
   ]
  },
  {
   "cell_type": "markdown",
   "metadata": {
    "id": "restart"
   },
   "source": [
    "###仅限协作：取消下面的单元格注释以重新启动内核"
   ]
  },
  {
   "cell_type": "code",
   "execution_count": null,
   "metadata": {
    "id": "D-ZBOjErv5mM"
   },
   "outputs": [],
   "source": [
    "# Automatically restart kernel after installs so that your environment can access the new packages\n",
    "# import IPython\n",
    "\n",
    "# app = IPython.Application.instance()\n",
    "# app.kernel.do_shutdown(True)"
   ]
  },
  {
   "cell_type": "markdown",
   "metadata": {
    "id": "yfEglUHQk9S3"
   },
   "source": [
    "## 在开始之前\n",
    "\n",
    "### 设置您的 Google Cloud 项目\n",
    "\n",
    "**以下步骤是必需的，无论您使用的是哪种笔记本环境。**\n",
    "\n",
    "1. [选择或创建一个 Google Cloud 项目](https://console.cloud.google.com/cloud-resource-manager)。当您第一次创建帐户时，您将获得 $300 的免费信用，可用于计算/存储成本。\n",
    "\n",
    "2. [确保为您的项目启用计费](https://cloud.google.com/billing/docs/how-to/modify-project)。\n",
    "\n",
    "3. [启用 Vertex AI API](https://console.cloud.google.com/flows/enableapi?apiid=aiplatform.googleapis.com)。\n",
    "\n",
    "4. 如果您是在本地运行此笔记本，则需要安装 [Cloud SDK](https://cloud.google.com/sdk)。"
   ]
  },
  {
   "cell_type": "markdown",
   "metadata": {
    "id": "21e3cac35e75"
   },
   "source": [
    "#### 设置您的项目 ID\n",
    "\n",
    "**如果您不知道您的项目 ID**，请尝试以下操作：\n",
    "* 运行 `gcloud config list`。\n",
    "* 运行 `gcloud projects list`。\n",
    "* 查看支持页面：[查找项目 ID](https://support.google.com/googleapi/answer/7014113)。"
   ]
  },
  {
   "cell_type": "code",
   "execution_count": null,
   "metadata": {
    "id": "set_project_id"
   },
   "outputs": [],
   "source": [
    "PROJECT_ID = \"[your-project-id]\"  # @param {type:\"string\"}\n",
    "\n",
    "# Set the project id\n",
    "! gcloud config set project {PROJECT_ID}"
   ]
  },
  {
   "cell_type": "markdown",
   "metadata": {
    "id": "region"
   },
   "source": [
    "#### 区域\n",
    "\n",
    "您也可以更改 Vertex AI 使用的 `REGION` 变量。了解有关 [Vertex AI 区域](https://cloud.google.com/vertex-ai/docs/general/locations) 的更多信息。"
   ]
  },
  {
   "cell_type": "code",
   "execution_count": null,
   "metadata": {
    "id": "region"
   },
   "outputs": [],
   "source": [
    "REGION = \"us-central1\"  # @param {type: \"string\"}"
   ]
  },
  {
   "cell_type": "markdown",
   "metadata": {
    "id": "gcp_authenticate"
   },
   "source": [
    "### 认证您的谷歌云帐户\n",
    "\n",
    "根据您的Jupyter环境，您可能需要手动进行身份验证。请按照以下相关指示操作。\n",
    "\n",
    "**1. Vertex AI Workbench**\n",
    "* 无需操作，因为您已经被验证。\n",
    "\n",
    "**2. 本地JupyterLab实例，取消注释并运行:**"
   ]
  },
  {
   "cell_type": "code",
   "execution_count": null,
   "metadata": {
    "id": "ce6043da7b33"
   },
   "outputs": [],
   "source": [
    "# ! gcloud auth login"
   ]
  },
  {
   "cell_type": "markdown",
   "metadata": {
    "id": "0367eac06a10"
   },
   "source": [
    "3. 协作，并取消注释并运行："
   ]
  },
  {
   "cell_type": "code",
   "execution_count": null,
   "metadata": {
    "id": "21ad4dbb4a61"
   },
   "outputs": [],
   "source": [
    "# from google.colab import auth\n",
    "# auth.authenticate_user()"
   ]
  },
  {
   "cell_type": "markdown",
   "metadata": {
    "id": "c13224697bfb"
   },
   "source": [
    "服务账户或其他\n",
    "*请参阅如何在https://cloud.google.com/storage/docs/gsutil/commands/iam#ch-examples 上授予云存储权限给您的服务账户。"
   ]
  },
  {
   "cell_type": "markdown",
   "metadata": {
    "id": "bucket:mbsdk"
   },
   "source": [
    "### 创建一个云存储桶\n",
    "\n",
    "创建一个存储桶，用作Vertex AI和存储中间产物（如数据集）的暂存桶。"
   ]
  },
  {
   "cell_type": "code",
   "execution_count": null,
   "metadata": {
    "id": "bucket"
   },
   "outputs": [],
   "source": [
    "BUCKET_URI = f\"gs://your-bucket-name-{PROJECT_ID}-unique\"  # @param {type:\"string\"}"
   ]
  },
  {
   "cell_type": "markdown",
   "metadata": {
    "id": "create_bucket"
   },
   "source": [
    "只有如果您的存储桶尚不存在：运行以下单元格以创建您的云存储存储桶。"
   ]
  },
  {
   "cell_type": "code",
   "execution_count": null,
   "metadata": {
    "id": "create_bucket"
   },
   "outputs": [],
   "source": [
    "! gsutil mb -l {REGION} -p {PROJECT_ID} {BUCKET_URI}"
   ]
  },
  {
   "cell_type": "markdown",
   "metadata": {
    "id": "XoEqT2Y4DJmf"
   },
   "source": [
    "### 导入库"
   ]
  },
  {
   "cell_type": "code",
   "execution_count": null,
   "metadata": {
    "id": "Cdct_Lm7x2I_"
   },
   "outputs": [],
   "source": [
    "import datetime\n",
    "\n",
    "import pandas as pd\n",
    "from avro.datafile import DataFileReader\n",
    "from avro.io import DatumReader\n",
    "from google.cloud import aiplatform"
   ]
  },
  {
   "cell_type": "markdown",
   "metadata": {
    "id": "138407556b22"
   },
   "source": [
    "### 初始化 Python 的 Vertex AI SDK\n",
    "\n",
    "为您的项目和地区初始化 Python 的 Vertex AI SDK。"
   ]
  },
  {
   "cell_type": "code",
   "execution_count": null,
   "metadata": {
    "id": "8d2077ffee78"
   },
   "outputs": [],
   "source": [
    "aiplatform.init(project=PROJECT_ID, location=REGION, staging_bucket=BUCKET_URI)"
   ]
  },
  {
   "cell_type": "markdown",
   "metadata": {
    "id": "buQBIv3ZL3A0"
   },
   "source": [
    "## 创建特征存储\n",
    "\n",
    "Vertex AI Feature Store（Legacy）作为您的ML特征的集中且有组织的存储库。您可以存储，提供和监控特征的某些方面，比如它们的分布和漂移。了解有关[Vertex AI Feature Store（Legacy）数据模型](https://cloud.google.com/vertex-ai/docs/featurestore/concepts)和[Vertex AI Feature Store（Legacy）的好处](https://cloud.google.com/vertex-ai/docs/featurestore/overview#benefits)更多信息。\n",
    "\n",
    "要开始此教程，您可以使用Python的Vertex AI SDK创建一个特征存储。特征存储是您的特征及其值的顶层容器。为此，您可以使用[`Featurestore.create()`](https://cloud.google.com/python/docs/reference/aiplatform/latest/google.cloud.aiplatform.Featurestore)方法，它将返回一个LRO（[长时间运行的操作](https://google.aip.dev/151)）。LRO启动一个异步作业。对于其他API方法，如更新或删除特征存储，也会返回LRO。\n",
    "\n",
    "在创建特征存储时，您需要传递以下参数：\n",
    "\n",
    "- `featurestore_id`：特征存储的唯一名称或ID。\n",
    "- `online_store_fixed_node_count`：在线服务资源的配置。节点的数量不会自动扩展，但可以通过在更新时提供不同的值来手动扩展。"
   ]
  },
  {
   "cell_type": "code",
   "execution_count": null,
   "metadata": {
    "id": "D6uIWQeoBSr8"
   },
   "outputs": [],
   "source": [
    "# set the id or name for the featurestore\n",
    "featurestore_id = \"movie_predictions_unique\"  # @param {type:\"string\"}\n",
    "\n",
    "# Create featurestore\n",
    "movie_predictions_feature_store = aiplatform.Featurestore.create(\n",
    "    featurestore_id=featurestore_id, online_store_fixed_node_count=1\n",
    ")"
   ]
  },
  {
   "cell_type": "markdown",
   "metadata": {
    "id": "EpmJq75zXjmT"
   },
   "source": [
    "创建实体类型\n",
    "\n",
    "使用Vertex AI Feature Store（传统版本），您可以创建和管理特征存储、实体类型和特征。实体类型是语义相关特征的集合。您可以根据与您的用例相关的概念定义自己的实体类型。例如，电影服务可能具有电影和用户实体类型，它们将相关特征分组在一起，这些特征对应于电影或顾客。\n",
    "\n",
    "了解更多有关[实体类型](https://cloud.google.com/vertex-ai/docs/featurestore/concepts#entity_type)的信息。\n",
    "\n",
    "实体类型在`Featurestore`类中创建。在下面，为电影推荐数据集创建以下实体类型`users`和`movies`。\n",
    "\n",
    "在创建实体类型时，您传递以下参数：\n",
    "\n",
    "- `entity_type_id`：实体类型的唯一名称或ID。\n",
    "- `description`：（可选）实体类型的描述。"
   ]
  },
  {
   "cell_type": "code",
   "execution_count": null,
   "metadata": {
    "id": "GU0oXvINBgPV"
   },
   "outputs": [],
   "source": [
    "# Create users entity type\n",
    "users_entity_type = movie_predictions_feature_store.create_entity_type(\n",
    "    entity_type_id=\"users\",\n",
    "    description=\"Users entity\",\n",
    ")\n",
    "\n",
    "# Create movies entity type\n",
    "movies_entity_type = movie_predictions_feature_store.create_entity_type(\n",
    "    entity_type_id=\"movies\",\n",
    "    description=\"Movies entity\",\n",
    ")"
   ]
  },
  {
   "cell_type": "markdown",
   "metadata": {
    "id": "FJW4q-0jO2Xf"
   },
   "source": [
    "## 创建特征\n",
    "\n",
    "特征是实体类型的可测量属性或属性。例如，电影实体类型具有诸如average_rating和title等特征，用于跟踪电影的各种属性。特征与实体类型相关联。\n",
    "\n",
    "了解有关[特征](https://cloud.google.com/vertex-ai/docs/featurestore/concepts#feature)的更多信息。\n",
    "\n",
    "使用以下方法将定义的特征添加到实体类型`users`和`movies`中。\n",
    "\n",
    "### 使用*`create_feature`*方法添加特征\n",
    "\n",
    "您提供以下参数来创建特征：\n",
    "\n",
    "- `feature_id`：特征的资源名称或标识符。\n",
    "- `value_type`：特征值的类型。 BOOL、BOOL_ARRAY、DOUBLE、DOUBLE_ARRAY、INT64、INT64_ARRAY、STRING、STRING_ARRAY、BYTES之一。\n",
    "- `description`：特征的描述。"
   ]
  },
  {
   "cell_type": "code",
   "execution_count": null,
   "metadata": {
    "id": "PvjwT84iVSps"
   },
   "outputs": [],
   "source": [
    "# Create age feature\n",
    "users_feature_age = users_entity_type.create_feature(\n",
    "    feature_id=\"age\",\n",
    "    value_type=\"INT64\",\n",
    "    description=\"User age\",\n",
    ")\n",
    "\n",
    "# Create gender feature\n",
    "users_feature_gender = users_entity_type.create_feature(\n",
    "    feature_id=\"gender\",\n",
    "    value_type=\"STRING\",\n",
    "    description=\"User gender\",\n",
    ")\n",
    "\n",
    "# Create liked_genres feature\n",
    "users_feature_liked_genres = users_entity_type.create_feature(\n",
    "    feature_id=\"liked_genres\",\n",
    "    value_type=\"STRING_ARRAY\",\n",
    "    description=\"An array of genres this user liked\",\n",
    ")"
   ]
  },
  {
   "cell_type": "markdown",
   "metadata": {
    "id": "ecb141839033"
   },
   "source": [
    "### 使用 `batch_create_features` 方法添加特征\n",
    "\n",
    "您还可以使用字典格式的配置映射一次性添加多个特征。为此，您可以使用 `batch_create_features` 方法。\n",
    "\n",
    "在下面，您定义了创建 `title`、`genres` 和 `average_rating` 特征。"
   ]
  },
  {
   "cell_type": "code",
   "execution_count": null,
   "metadata": {
    "id": "llTT9_Dgbac2"
   },
   "outputs": [],
   "source": [
    "# define the features\n",
    "movies_feature_configs = {\n",
    "    \"title\": {\n",
    "        \"value_type\": \"STRING\",\n",
    "        \"description\": \"The title of the movie\",\n",
    "    },\n",
    "    \"genres\": {\n",
    "        \"value_type\": \"STRING\",\n",
    "        \"description\": \"The genre of the movie\",\n",
    "    },\n",
    "    \"average_rating\": {\n",
    "        \"value_type\": \"DOUBLE\",\n",
    "        \"description\": \"The average rating for the movie, range is [1.0-5.0]\",\n",
    "    },\n",
    "}\n",
    "# create the features\n",
    "movie_features = movies_entity_type.batch_create_features(\n",
    "    feature_configs=movies_feature_configs,\n",
    ")"
   ]
  },
  {
   "cell_type": "markdown",
   "metadata": {
    "id": "K3n5XdK8Xjmw"
   },
   "source": [
    "## 从数据框中将特征值导入实体类型\n",
    "\n",
    "特征存储捕获了某个实体类型在特定时间点上所属特征的特征值。在将您的特征值导入特征存储后，您可以稍后从实体类型中`读取`（在线）或`批量提供`（离线）特征值。\n",
    "\n",
    "在本节中，您将学习如何将特征值从[Pandas数据框](https://pandas.pydata.org/)导入到一个实体类型中。\n",
    "\n",
    "了解更多关于[特征值](https://cloud.google.com/vertex-ai/docs/featurestore/concepts#feature_value)的信息。\n",
    "\n",
    "注：您也可以从BigQuery或Google Cloud存储中导入特征值。\n",
    "\n",
    "### 从源获取电影推荐数据\n",
    "\n",
    "定义用户和电影的数据源，并将它们复制到本地的**.avro**文件中。"
   ]
  },
  {
   "cell_type": "code",
   "execution_count": null,
   "metadata": {
    "id": "_uNrHqiGXrff"
   },
   "outputs": [],
   "source": [
    "# set the users file source\n",
    "GCS_USERS_AVRO_URI = (\n",
    "    \"gs://cloud-samples-data-us-central1/vertex-ai/feature-store/datasets/users.avro\"\n",
    ")\n",
    "# set the movies file source\n",
    "GCS_MOVIES_AVRO_URI = (\n",
    "    \"gs://cloud-samples-data-us-central1/vertex-ai/feature-store/datasets/movies.avro\"\n",
    ")\n",
    "# set the local file names\n",
    "USERS_AVRO_FN = \"users.avro\"\n",
    "MOVIES_AVRO_FN = \"movies.avro\"\n",
    "# copy the files using gsutil\n",
    "! gsutil cp $GCS_USERS_AVRO_URI $USERS_AVRO_FN\n",
    "! gsutil cp $GCS_MOVIES_AVRO_URI $MOVIES_AVRO_FN"
   ]
  },
  {
   "cell_type": "markdown",
   "metadata": {
    "id": "Fd6Z0jfR5OW5"
   },
   "source": [
    "### 从avro文件加载数据\n",
    "\n",
    "从下载的avro文件中将用户和电影数据加载到Pandas数据框中。"
   ]
  },
  {
   "cell_type": "code",
   "execution_count": null,
   "metadata": {
    "id": "KrB7bnqbZYaC"
   },
   "outputs": [],
   "source": [
    "# Define a class for reading the avro data\n",
    "\n",
    "\n",
    "class AvroReader:\n",
    "    def __init__(self, data_file):\n",
    "        self.avro_reader = DataFileReader(open(data_file, \"rb\"), DatumReader())\n",
    "\n",
    "    def to_dataframe(self):\n",
    "        records = [record for record in self.avro_reader]\n",
    "        return pd.DataFrame.from_records(data=records)"
   ]
  },
  {
   "cell_type": "code",
   "execution_count": null,
   "metadata": {
    "id": "XdlWJhUt5OW5"
   },
   "outputs": [],
   "source": [
    "# Load users data from avro file\n",
    "users_avro_reader = AvroReader(data_file=USERS_AVRO_FN)\n",
    "users_source_df = users_avro_reader.to_dataframe()\n",
    "users_source_df.head()"
   ]
  },
  {
   "cell_type": "code",
   "execution_count": null,
   "metadata": {
    "id": "gZ49cPS35OW5"
   },
   "outputs": [],
   "source": [
    "# Load movies data from avro file\n",
    "movies_avro_reader = AvroReader(data_file=MOVIES_AVRO_FN)\n",
    "movies_source_df = movies_avro_reader.to_dataframe()\n",
    "movies_source_df.head()"
   ]
  },
  {
   "cell_type": "markdown",
   "metadata": {
    "id": "bgb0WGwX5OW6"
   },
   "source": [
    "### 将特征值导入实体类型\n",
    "\n",
    "从数据框加载特征值到`users`实体类型中。\n",
    "\n",
    "您提供以下参数用于导入数据：\n",
    "\n",
    "- `feature_ids`：要导入值的特征的ID列表。这些特征必须存在于目标实体类型中，否则请求将失败。\n",
    "- `feature_time`：保存每个实体中所有特征值的特征时间戳的源列。它也可以是所有要导入的实体的单个特征时间戳。\n",
    "- `df_source`：包含要导入的源数据的Pandas DataFrame。\n",
    "- `entity_id_field`：保存实体ID的源列。\n",
    "\n",
    "了解有关[`EntityType.ingest_from_df()`](https://cloud.google.com/python/docs/reference/aiplatform/latest/google.cloud.aiplatform.EntityType#google_cloud_aiplatform_EntityType_ingest_from_df)方法的更多信息。"
   ]
  },
  {
   "cell_type": "code",
   "execution_count": null,
   "metadata": {
    "id": "76b813uj5OW6"
   },
   "outputs": [],
   "source": [
    "# Import the data for users\n",
    "users_entity_type.ingest_from_df(\n",
    "    feature_ids=[\"age\", \"gender\", \"liked_genres\"],\n",
    "    feature_time=\"update_time\",\n",
    "    df_source=users_source_df,\n",
    "    entity_id_field=\"user_id\",\n",
    ")"
   ]
  },
  {
   "cell_type": "markdown",
   "metadata": {
    "id": "PCAdQ3cF5OW6"
   },
   "source": [
    "同样，加载`movies`实体类型的特征值。"
   ]
  },
  {
   "cell_type": "code",
   "execution_count": null,
   "metadata": {
    "id": "-DYlKe4e5OW6"
   },
   "outputs": [],
   "source": [
    "# Import the data for movies\n",
    "movies_entity_type.ingest_from_df(\n",
    "    feature_ids=[\"average_rating\", \"title\", \"genres\"],\n",
    "    feature_time=\"update_time\",\n",
    "    df_source=movies_source_df,\n",
    "    entity_id_field=\"movie_id\",\n",
    ")"
   ]
  },
  {
   "cell_type": "markdown",
   "metadata": {
    "id": "pIYLZwao5OW6"
   },
   "source": [
    "## 从特征存储库中的实体在线读取特征值\n",
    "\n",
    "Vertex AI Feature Store（Legacy）包括在线服务，可以让您为小批量实体读取特征值。当您希望从实体或多个实体类型中读取选定特征的值时，这是非常有益的。\n",
    "\n",
    "注意：实体是实体类型的一个实例。例如，movie_01 和 movie_02 是实体类型 movie 的实体。\n",
    "\n",
    "了解更多关于[Vertex AI Feature Store（Legacy）中的在线服务](https://cloud.google.com/vertex-ai/docs/featurestore/serving-online)。\n",
    "\n",
    "### 为用户读取特征值\n",
    "\n",
    "使用必要的实体id从实体类型 `users` 调用 [`EntityType.read()`](https://cloud.google.com/python/docs/reference/aiplatform/latest/google.cloud.aiplatform.EntityType#google_cloud_aiplatform_EntityType_read) 方法。"
   ]
  },
  {
   "cell_type": "code",
   "execution_count": null,
   "metadata": {
    "id": "qrR-SY3i58rh"
   },
   "outputs": [],
   "source": [
    "# read the data to a dataframe\n",
    "users_read_df = users_entity_type.read(\n",
    "    entity_ids=[\"dave\", \"alice\", \"charlie\", \"bob\", \"eve\"],\n",
    ")\n",
    "# dispaly the dataframe\n",
    "users_read_df.head()"
   ]
  },
  {
   "cell_type": "markdown",
   "metadata": {
    "id": "b2cfa09ef11d"
   },
   "source": [
    "### 读取电影的特征值\n",
    "\n",
    "使用实体类型`movies`中所需的实体id调用[`EntityType.read()`](https://cloud.google.com/python/docs/reference/aiplatform/latest/google.cloud.aiplatform.EntityType#google_cloud_aiplatform_EntityType_read)方法。"
   ]
  },
  {
   "cell_type": "code",
   "execution_count": null,
   "metadata": {
    "id": "vTW6kBxN5OW7"
   },
   "outputs": [],
   "source": [
    "# read the data to a dataframe\n",
    "movies_read_df = movies_entity_type.read(\n",
    "    entity_ids=[\"movie_01\", \"movie_02\", \"movie_03\", \"movie_04\"],\n",
    "    feature_ids=[\"title\", \"genres\", \"average_rating\"],\n",
    ")\n",
    "# display the dataframe\n",
    "movies_read_df.head()"
   ]
  },
  {
   "cell_type": "markdown",
   "metadata": {
    "id": "AK2Glzkq5OW7"
   },
   "source": [
    "## 从特征存储中批量提供特征值\n",
    "\n",
    "Vertex AI Feature Store（传统版）还可以批量提供特征值，以实现高吞吐量。批量提供通常用于训练模型或批量预测。\n",
    "\n",
    "了解更多关于[在Vertex AI Feature Store（传统版）中进行批量提供](https://cloud.google.com/vertex-ai/docs/featurestore/serving-batch#batch_serving_inputs)。\n",
    "\n",
    "在本节中，您将学习如何使用Vertex AI Feature Store（传统版）中的批量提供功能准备训练样本。\n",
    "\n",
    "### 从来源文件中加载读取实例\n",
    "\n",
    "定义来源文件路径，其中包含一些具有特征值的样本。在这里，您可以使用Pandas从数据集中的`movie_prediction.csv`文件加载一些特征值。这些数据在调用批量提供功能时充当读取实例。"
   ]
  },
  {
   "cell_type": "code",
   "execution_count": null,
   "metadata": {
    "id": "G4k2QVN-5OW7"
   },
   "outputs": [],
   "source": [
    "# set the gcs source for samples\n",
    "GCS_READ_INSTANCES_CSV_URI = \"gs://cloud-samples-data-us-central1/vertex-ai/feature-store/datasets/movie_prediction.csv\""
   ]
  },
  {
   "cell_type": "markdown",
   "metadata": {
    "id": "2d9fdcbc90fc"
   },
   "source": [
    "在加载数据时，将“timestamp”列解析为日期时间字段。这是因为特征存储期望在批量服务时读取实例时有一个时间戳字段。"
   ]
  },
  {
   "cell_type": "code",
   "execution_count": null,
   "metadata": {
    "id": "JqQVfRnC5OW7"
   },
   "outputs": [],
   "source": [
    "# load the data using pandas\n",
    "read_instances_df = pd.read_csv(GCS_READ_INSTANCES_CSV_URI, parse_dates=[\"timestamp\"])\n",
    "# display the dataframe\n",
    "read_instances_df.head()"
   ]
  },
  {
   "cell_type": "markdown",
   "metadata": {
    "id": "ao1dC5Pc5OW8"
   },
   "source": [
    "批量提取特征值功能\n",
    "\n",
    "使用 `batch_serve_to_df` 方法将批量响应提供给数据框，并提供以下参数：\n",
    "\n",
    "- `serving_feature_ids`：用户定义的字典，用于定义批量提取/读取的实体类型及其特征。字典的键是提取实体类型的id，值是每个实体类型中提取特征的id列表。\n",
    "\n",
    "- `read_instances_df`：包含读取实例的pandas数据框。每个读取实例应至少包含一个读取时间戳和一个或多个标识相应实体类型实体的实体ID。每个输出实例包含请求实体的特征值，在读取时间点上被串联在一起。\n",
    "\n",
    "    一个示例的 `read_instances_df` 可能是：\n",
    "\n",
    "    ```\n",
    "    pd.DataFrame( data=[ { \n",
    "            \"my_entity_type_id_1\": \"my_entity_type_id_1_entity_1\", \n",
    "            \"my_entity_type_id_2\": \"my_entity_type_id_2_entity_1\", \n",
    "            \"timestamp\": \"2020-01-01T10:00:00.123Z\" ], ) \n",
    "    ```\n",
    "    一个示例的 `batch_serve_output_df` 可能是 \n",
    "\n",
    "    ```\n",
    "    pd.DataFrame( data=[ { \n",
    "            \"my_entity_type_id_1\": \"my_entity_type_id_1_entity_1\", \n",
    "            \"my_entity_type_id_2\": \"my_entity_type_id_2_entity_1\", \n",
    "            \"foo\": \"feature_id_1_1_feature_value\", \n",
    "            \"feature_id_1_2\": \"feature_id_1_2_feature_value\", \n",
    "            \"feature_id_2_1\": \"feature_id_2_1_feature_value\", \n",
    "            \"bar\": \"feature_id_2_2_feature_value\", \n",
    "            \"timestamp\": \"2020-01-01T10:00:00.123Z\" ], ) \n",
    "    ``` \n",
    "        \n",
    "\n",
    "注意：调用 `batch_serve_to_df` 方法会自动在同一GCP项目中创建和删除一个临时的bigquery数据集，用作将来自Vertex AI Feature Store（传统版）的批量提取特征值存储到数据框的中间存储。\n",
    "\n",
    "了解更多关于[从Vertex AI Feature Store（传统版）批量提取到数据框](https://cloud.google.com/python/docs/reference/aiplatform/latest/google.cloud.aiplatform.Featurestore#google_cloud_aiplatform_Featurestore_batch_serve_to_df)."
   ]
  },
  {
   "cell_type": "code",
   "execution_count": null,
   "metadata": {
    "id": "vZSJ-Sbl5OW8"
   },
   "outputs": [],
   "source": [
    "# call the batch serve method\n",
    "movie_predictions_df = movie_predictions_feature_store.batch_serve_to_df(\n",
    "    serving_feature_ids={\n",
    "        \"users\": [\"age\", \"gender\", \"liked_genres\"],\n",
    "        \"movies\": [\"title\", \"average_rating\", \"genres\"],\n",
    "    },\n",
    "    read_instances_df=read_instances_df,\n",
    ")\n",
    "# display the dataframe\n",
    "movie_predictions_df.head()"
   ]
  },
  {
   "cell_type": "markdown",
   "metadata": {
    "id": "XN84znoI5OW8"
   },
   "source": [
    "## 读取最新的特征值\n",
    "\n",
    "在Vertex AI特征存储（Legacy）中，您可以访问最新或最后可用的特征值，除非提供了特定的时间。\n",
    "\n",
    "现在，您可以通过将新数据导入实体类型并从特征存储中读取来测试此功能。\n",
    "\n",
    "### 导入更新后的特征值\n",
    "\n",
    "现在，您可以通过运行以下单元格更新特征值。\n",
    "\n",
    "**注意：** 为了比较，您可以尝试打印之前从实体类型中读取的特征值（位于`movies_read_df`变量中）。"
   ]
  },
  {
   "cell_type": "code",
   "execution_count": null,
   "metadata": {
    "id": "2Y-iMUFH5OW9"
   },
   "outputs": [],
   "source": [
    "# Create a dataframe for the new data\n",
    "update_movies_df = pd.DataFrame(\n",
    "    data=[[\"movie_03\", 4.3], [\"movie_04\", 4.8]],\n",
    "    columns=[\"movie_id\", \"average_rating\"],\n",
    ")\n",
    "\n",
    "# Import the new data from the dataframe\n",
    "movies_entity_type.ingest_from_df(\n",
    "    feature_ids=[\"average_rating\"],\n",
    "    feature_time=datetime.datetime.now(),  # provide the current timestamp\n",
    "    df_source=update_movies_df,\n",
    "    entity_id_field=\"movie_id\",\n",
    ")"
   ]
  },
  {
   "cell_type": "markdown",
   "metadata": {
    "id": "s47WCIvL5OW9"
   },
   "source": [
    "获取最新的特征值\n",
    "\n",
    "从实体类型中读取将为您提供最新导入的特征值。\n",
    "\n",
    "运行下面的单元格应该获取所有请求的实体的最新值，包括您在上一个单元格中添加的 `movie_03` 和 `movie_04`。"
   ]
  },
  {
   "cell_type": "code",
   "execution_count": null,
   "metadata": {
    "id": "_2IPEY7S5OW9"
   },
   "outputs": [],
   "source": [
    "# read the feature values from the entity type\n",
    "update_movies_read_df = movies_entity_type.read(\n",
    "    entity_ids=[\"movie_01\", \"movie_02\", \"movie_03\", \"movie_04\"],\n",
    "    feature_ids=[\"title\", \"genres\", \"average_rating\"],\n",
    ")\n",
    "# display the dataframe\n",
    "update_movies_read_df.head()"
   ]
  },
  {
   "cell_type": "markdown",
   "metadata": {
    "id": "R1YGRNsW5OW9"
   },
   "source": [
    "## 瞬时正确性\n",
    "\n",
    "Vertex AI Feature Store（已弃用）在[特定时刻](https://cloud.google.com/vertex-ai/docs/featurestore/serving-batch#example_point-in-time_lookup)捕获特征的特征值。如果过去的数据中存在缺失值，您可以使用批处理服务来进行补充。\n",
    "\n",
    "### 检查缺失数据\n",
    "请记住，上次导入的批量提供的响应中有一些缺失数据。"
   ]
  },
  {
   "cell_type": "code",
   "execution_count": null,
   "metadata": {
    "id": "ueXYomBr5OW-"
   },
   "outputs": [],
   "source": [
    "# check the missing data\n",
    "movie_predictions_df.isna().sum()"
   ]
  },
  {
   "cell_type": "markdown",
   "metadata": {
    "id": "abQRF6mx5OW-"
   },
   "source": [
    "### 回填/修正点时数据\n",
    "\n",
    "根据时间戳填充缺失数据。\n",
    "\n",
    "注意：时间戳字段必须使用 RFC 3339 格式（例如 2012-07-30T10:43:17.123Z），或者在加载到 BigQuery 时应与 Timestamp 数据类型兼容。这是因为 Vertex AI Feature Store（Legacy）在批量提供服务时会将数据加载到临时的 BigQuery 表中作为中间步骤。了解更多关于[从 dataframe 加载数据到 BigQuery](https://cloud.google.com/bigquery/docs/samples/bigquery-load-table-dataframe)。"
   ]
  },
  {
   "cell_type": "code",
   "execution_count": null,
   "metadata": {
    "id": "ehZhc4ZP5OW-"
   },
   "outputs": [],
   "source": [
    "# Impute the users data\n",
    "backfill_users_df = pd.DataFrame(\n",
    "    data=[[\"bob\", 34, \"Male\", [\"Drama\"], \"2020-02-13 09:35:15+00:00\"]],\n",
    "    columns=[\"user_id\", \"age\", \"gender\", \"liked_genres\", \"update_time\"],\n",
    ")\n",
    "# convert the timefield to datetime64[ns] (with timezone info)\n",
    "backfill_users_df[\"update_time\"] = pd.to_datetime(backfill_users_df[\"update_time\"])\n",
    "# display the dataframe\n",
    "backfill_users_df.head()"
   ]
  },
  {
   "cell_type": "code",
   "execution_count": null,
   "metadata": {
    "id": "mhdTzl5k5OW-"
   },
   "outputs": [],
   "source": [
    "# Impute the movies data\n",
    "backfill_movies_df = pd.DataFrame(\n",
    "    data=[[\"movie_04\", 4.2, \"The Dark Knight\", \"Action\", \"2020-02-13 09:35:15+00:00\"]],\n",
    "    columns=[\"movie_id\", \"average_rating\", \"title\", \"genres\", \"update_time\"],\n",
    ")\n",
    "# convert the timefield to datetime64[ns] (with timezone info)\n",
    "backfill_movies_df[\"update_time\"] = pd.to_datetime(backfill_movies_df[\"update_time\"])\n",
    "# display the dataframe\n",
    "backfill_movies_df.head()"
   ]
  },
  {
   "cell_type": "markdown",
   "metadata": {
    "id": "WXb4JUhu5OW-"
   },
   "source": [
    "### 导入填充/校正后的数据\n",
    "\n",
    "将dataframe中的估算时间点数据导入featureImpostore中的实体类型。"
   ]
  },
  {
   "cell_type": "code",
   "execution_count": null,
   "metadata": {
    "id": "vM1ejZMa5OW-"
   },
   "outputs": [],
   "source": [
    "# Import the users data\n",
    "users_entity_type.ingest_from_df(\n",
    "    feature_ids=[\"age\", \"gender\", \"liked_genres\"],\n",
    "    feature_time=\"update_time\",\n",
    "    df_source=backfill_users_df,\n",
    "    entity_id_field=\"user_id\",\n",
    ")"
   ]
  },
  {
   "cell_type": "code",
   "execution_count": null,
   "metadata": {
    "id": "lBnrNbv75OW-"
   },
   "outputs": [],
   "source": [
    "# Import the users data\n",
    "movies_entity_type.ingest_from_df(\n",
    "    feature_ids=[\"average_rating\", \"title\", \"genres\"],\n",
    "    feature_time=\"update_time\",\n",
    "    df_source=backfill_movies_df,\n",
    "    entity_id_field=\"movie_id\",\n",
    ")"
   ]
  },
  {
   "cell_type": "markdown",
   "metadata": {
    "id": "1e62Ku6W5OW_"
   },
   "source": [
    "提取最新数据\n",
    "批量将导入的回填数据提供给数据框，以确保特征存储已更新。"
   ]
  },
  {
   "cell_type": "code",
   "execution_count": null,
   "metadata": {
    "id": "3njvLv2wbZok"
   },
   "outputs": [],
   "source": [
    "# batch serve the latest data to a dataframe\n",
    "backfill_movie_predictions_df = movie_predictions_feature_store.batch_serve_to_df(\n",
    "    serving_feature_ids={\n",
    "        \"users\": [\"age\", \"gender\", \"liked_genres\"],\n",
    "        \"movies\": [\"title\", \"average_rating\", \"genres\"],\n",
    "    },\n",
    "    read_instances_df=read_instances_df,\n",
    ")\n",
    "# display the dataframe\n",
    "backfill_movie_predictions_df.head()"
   ]
  },
  {
   "cell_type": "markdown",
   "metadata": {
    "id": "TpV-iwP9qw9c"
   },
   "source": [
    "清理\n",
    "\n",
    "要清理此项目中使用的所有Google Cloud资源，您可以[删除用于本教程的Google Cloud项目](https://cloud.google.com/resource-manager/docs/creating-managing-projects#shutting_down_projects)。\n",
    "\n",
    "否则，您可以删除在本教程中创建的各个资源：\n",
    "\n",
    "- Vertex AI特征存储（Legacy）\n",
    "- Cloud Storage 存储桶（将`delete_bucket`设置为True）"
   ]
  },
  {
   "cell_type": "code",
   "execution_count": null,
   "metadata": {
    "id": "NBTNfN8vxz4x"
   },
   "outputs": [],
   "source": [
    "# Delete the featurestore\n",
    "movie_predictions_feature_store.delete(force=True)\n",
    "\n",
    "# remove the local users and movies avro files\n",
    "! rm {USERS_AVRO_FN} {MOVIES_AVRO_FN}\n",
    "\n",
    "# Delete Cloud Storage objects that were created\n",
    "delete_bucket = True\n",
    "if delete_bucket or os.getenv(\"IS_TESTING\"):\n",
    "    ! gsutil -m rm -r $BUCKET_URI"
   ]
  }
 ],
 "metadata": {
  "colab": {
   "collapsed_sections": [],
   "name": "sdk-feature-store-pandas.ipynb",
   "toc_visible": true
  },
  "kernelspec": {
   "display_name": "Python 3",
   "name": "python3"
  }
 },
 "nbformat": 4,
 "nbformat_minor": 0
}
