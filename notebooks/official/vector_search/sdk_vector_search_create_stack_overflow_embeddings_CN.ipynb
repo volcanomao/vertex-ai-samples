{
 "cells": [
  {
   "cell_type": "code",
   "execution_count": null,
   "metadata": {
    "id": "ur8xi4C7S06n"
   },
   "outputs": [],
   "source": [
    "# Copyright 2023 Google LLC\n",
    "#\n",
    "# Licensed under the Apache License, Version 2.0 (the \"License\");\n",
    "# you may not use this file except in compliance with the License.\n",
    "# You may obtain a copy of the License at\n",
    "#\n",
    "#     https://www.apache.org/licenses/LICENSE-2.0\n",
    "#\n",
    "# Unless required by applicable law or agreed to in writing, software\n",
    "# distributed under the License is distributed on an \"AS IS\" BASIS,\n",
    "# WITHOUT WARRANTIES OR CONDITIONS OF ANY KIND, either express or implied.\n",
    "# See the License for the specific language governing permissions and\n",
    "# limitations under the License."
   ]
  },
  {
   "cell_type": "markdown",
   "metadata": {
    "id": "JAPoU8Sm5E6e"
   },
   "source": [
    "# 使用Vertex AI矢量搜索查找StackOverflow问题\n",
    "\n",
    "<table align=\"left\">\n",
    "  <td style=\"text-align: center\">\n",
    "    <a href=\"https://colab.research.google.com/github/GoogleCloudPlatform/vertex-ai-samples/blob/main/notebooks/official/vector_search/sdk_vector_search_create_stack_overflow_embeddings.ipynb\">\n",
    "      <img src=\"https://cloud.google.com/ml-engine/images/colab-logo-32px.png\" alt=\"Google Colaboratory logo\"><br> 在Colab中打开\n",
    "    </a>\n",
    "  </td>\n",
    "  <td style=\"text-align: center\">\n",
    "    <a href=\"https://console.cloud.google.com/vertex-ai/colab/import/https:%2F%2Fraw.githubusercontent.com%2FGoogleCloudPlatform%2Fvertex-ai-samples%2Fmain%2Fnotebooks%2Fofficial%2Fvector_search%2Fsdk_vector_search_create_stack_overflow_embeddings.ipynb\">\n",
    "      <img width=\"32px\" src=\"https://cloud.google.com/ml-engine/images/colab-enterprise-logo-32px.png\" alt=\"Google Cloud Colab Enterprise logo\"><br> 在Colab Enterprise中打开\n",
    "    </a>\n",
    "  </td>    \n",
    "  <td style=\"text-align: center\">\n",
    "    <a href=\"https://console.cloud.google.com/vertex-ai/workbench/deploy-notebook?download_url=https://raw.githubusercontent.com/GoogleCloudPlatform/vertex-ai-samples/main/notebooks/official/vector_search/sdk_vector_search_create_stack_overflow_embeddings.ipynb\">\n",
    "      <img src=\"https://lh3.googleusercontent.com/UiNooY4LUgW_oTvpsNhPpQzsstV5W8F7rYgxgGBD85cWJoLmrOzhVs_ksK_vgx40SHs7jCqkTkCk=e14-rj-sc0xffffff-h130-w32\" alt=\"Vertex AI logo\"><br> 在Workbench中打开\n",
    "    </a>\n",
    "  </td>\n",
    "  <td style=\"text-align: center\">\n",
    "    <a href=\"https://github.com/GoogleCloudPlatform/vertex-ai-samples/blob/main/notebooks/official/vector_search/sdk_vector_search_create_stack_overflow_embeddings.ipynb\">\n",
    "      <img src=\"https://cloud.google.com/ml-engine/images/github-logo-32px.png\" alt=\"GitHub logo\"><br> 在GitHub上查看\n",
    "    </a>\n",
    "  </td>\n",
    "</table>"
   ]
  },
  {
   "cell_type": "markdown",
   "metadata": {
    "id": "b0a74aaf1481"
   },
   "source": [
    "## 概述\n",
    "\n",
    "该示例演示了如何使用StackOverflow数据集和句子-T5模型对自定义文本嵌入进行编码。这些嵌入被上传到Vertex AI矢量搜索服务。这是一种高规模、低延迟的解决方案，用于查找大语料库中相似向量（或更具体地说是“嵌入”）。此外，这是一种完全托管的产品，进一步降低了运营开销。Vertex AI矢量搜索服务是基于Google研究开发的[近似最近邻居（ANN）技术](https://ai.googleblog.com/2020/07/announcing-scann-efficient-vector.html)构建的。\n",
    "\n",
    "**先决条件**：此笔记本要求您已经设置了一个VPC网络。请参阅[创建Vertex AI矢量搜索索引笔记本](https://github.com/GoogleCloudPlatform/vertex-ai-samples/blob/main/notebooks/official/vector_search/sdk_vector_search_for_indexing.ipynb)中的“准备VPC网络”部分。\n",
    "\n",
    "了解更多关于[Vertex AI矢量搜索](https://cloud.google.com/vertex-ai/docs/vector-search/overview)。"
   ]
  },
  {
   "cell_type": "markdown",
   "metadata": {
    "id": "34a4b245e795"
   },
   "source": [
    "### 目标\n",
    "\n",
    "在这本笔记本中，您将学习如何对自定义文本进行编码，创建近似最近邻居（ANN）索引，并对索引进行查询。\n",
    "\n",
    "本教程使用以下Google Cloud ML服务：\n",
    "\n",
    "- Vertex AI 向量搜索\n",
    "\n",
    "执行的步骤包括：\n",
    "\n",
    "* 创建ANN索引。\n",
    "* 使用VPC网络创建索引端点。\n",
    "* 部署ANN索引。\n",
    "* 执行在线查询。"
   ]
  },
  {
   "cell_type": "markdown",
   "metadata": {
    "id": "tvgnzT1CKxrO"
   },
   "source": [
    "### 数据集\n",
    "\n",
    "本教程使用的数据集是[StackOverflow数据集](https://console.cloud.google.com/marketplace/product/stack-exchange/stack-overflow)。\n",
    "\n",
    "> Stack Overflow是程序员学习、分享知识和促进职业发展的最大在线社区。这个BigQuery数据集每季度更新一次，包括Stack Overflow内容的归档，包括帖子、投票、标签和徽章。该数据集更新以反映互联网档案馆上的Stack Overflow内容，也可通过Stack Exchange数据浏览器访问。"
   ]
  },
  {
   "cell_type": "markdown",
   "metadata": {
    "id": "d0be1c1c229a"
   },
   "source": [
    "开始吧"
   ]
  },
  {
   "cell_type": "markdown",
   "metadata": {
    "id": "f0f1bea346db"
   },
   "source": [
    "### 为Python安装Vertex AI SDK和其他所需的软件包"
   ]
  },
  {
   "cell_type": "code",
   "execution_count": null,
   "metadata": {
    "id": "dfbccc635a17"
   },
   "outputs": [],
   "source": [
    "# Install the google-cloud packages\n",
    "! pip3 install --upgrade google-cloud-aiplatform \\\n",
    "                         google-cloud-storage \\\n",
    "                         'google-cloud-bigquery[pandas]' -q\n",
    "\n",
    "# Install the latest version of tensorflow packages\n",
    "! pip3 install --upgrade tensorflow \\\n",
    "                         tensorflow_text \\\n",
    "                         tensorflow-hub -q\n",
    "\n",
    "# Install the redis and tqdm packages\n",
    "! pip install --upgrade redis \\\n",
    "                        tqdm -q"
   ]
  },
  {
   "cell_type": "markdown",
   "metadata": {
    "id": "5b08ba354c6e"
   },
   "source": [
    "重新启动运行时（仅适用于Colab）\n",
    "\n",
    "为了使用新安装的软件包，您必须重新启动Google Colab上的运行时。"
   ]
  },
  {
   "cell_type": "code",
   "execution_count": null,
   "metadata": {
    "id": "bea801acf6b5"
   },
   "outputs": [],
   "source": [
    "import sys\n",
    "\n",
    "if \"google.colab\" in sys.modules:\n",
    "\n",
    "    import IPython\n",
    "\n",
    "    app = IPython.Application.instance()\n",
    "    app.kernel.do_shutdown(True)"
   ]
  },
  {
   "cell_type": "markdown",
   "metadata": {
    "id": "ffcde4d56c00"
   },
   "source": [
    "<div class=\"alert alert-block alert-warning\">\n",
    "<b>⚠️ 内核将重新启动。在继续下一步之前，请等待其完成。⚠️</b>\n",
    "</div>"
   ]
  },
  {
   "cell_type": "markdown",
   "metadata": {
    "id": "7176ea64999b"
   },
   "source": [
    "将您的笔记本环境进行认证（仅限Colab）\n",
    "\n",
    "在Google Colab上认证您的环境。"
   ]
  },
  {
   "cell_type": "code",
   "execution_count": null,
   "metadata": {
    "id": "7de6ef0fac42"
   },
   "outputs": [],
   "source": [
    "import sys\n",
    "\n",
    "if \"google.colab\" in sys.modules:\n",
    "\n",
    "    from google.colab import auth\n",
    "\n",
    "    auth.authenticate_user()"
   ]
  },
  {
   "cell_type": "markdown",
   "metadata": {
    "id": "dd28c9e4f067"
   },
   "source": [
    "设置谷歌云项目信息\n",
    "\n",
    "了解有关如何[设置项目和开发环境](https://cloud.google.com/vertex-ai/docs/start/cloud-environment)的更多信息。"
   ]
  },
  {
   "cell_type": "code",
   "execution_count": null,
   "metadata": {
    "id": "80c0215f05a0"
   },
   "outputs": [],
   "source": [
    "PROJECT_ID = \"[your-project-id]\"  # @param {type:\"string\"}\n",
    "LOCATION = \"us-central1\"  # @param {type:\"string\"}"
   ]
  },
  {
   "cell_type": "markdown",
   "metadata": {
    "id": "zgPO1eR3CYjk"
   },
   "source": [
    "### 创建云存储桶\n",
    "\n",
    "创建一个存储桶来存储中间产物，如数据集。"
   ]
  },
  {
   "cell_type": "code",
   "execution_count": null,
   "metadata": {
    "id": "MzGDU7TWdts_"
   },
   "outputs": [],
   "source": [
    "BUCKET_URI = f\"gs://your-bucket-name-{PROJECT_ID}-unique\"  # @param {type:\"string\"}"
   ]
  },
  {
   "cell_type": "markdown",
   "metadata": {
    "id": "-EcIXiGsCePi"
   },
   "source": [
    "如果您的存储桶尚不存在：运行以下单元格以创建您的云存储存储桶。"
   ]
  },
  {
   "cell_type": "code",
   "execution_count": null,
   "metadata": {
    "id": "NIq7R4HZCfIc"
   },
   "outputs": [],
   "source": [
    "! gsutil mb -l {LOCATION} -p {PROJECT_ID} {BUCKET_URI}"
   ]
  },
  {
   "cell_type": "markdown",
   "metadata": {
    "id": "e45533d84985"
   },
   "source": [
    "### 初始化 Python 的 Vertex AI SDK\n",
    "\n",
    "要开始使用 Vertex AI，您必须拥有一个现有的 Google Cloud 项目并[启用 Vertex AI API](https://console.cloud.google.com/flows/enableapi?apiid=aiplatform.googleapis.com)。"
   ]
  },
  {
   "cell_type": "code",
   "execution_count": null,
   "metadata": {
    "id": "b519c49740cb"
   },
   "outputs": [],
   "source": [
    "from google.cloud import aiplatform\n",
    "\n",
    "aiplatform.init(project=PROJECT_ID, location=LOCATION, staging_bucket=BUCKET_URI)"
   ]
  },
  {
   "cell_type": "markdown",
   "metadata": {
    "id": "44b8dbd3f108"
   },
   "source": [
    "### 导入所需的库"
   ]
  },
  {
   "cell_type": "code",
   "execution_count": null,
   "metadata": {
    "id": "bf6f53cd87ee"
   },
   "outputs": [],
   "source": [
    "import json\n",
    "import os\n",
    "import tempfile\n",
    "from typing import List\n",
    "\n",
    "import numpy as np\n",
    "import redis\n",
    "import tensorflow as tf\n",
    "import tensorflow_hub as hub\n",
    "# Registers the ops.\n",
    "import tensorflow_text as text  # noqa: F401\n",
    "from google.cloud import bigquery\n",
    "from tqdm.auto import tqdm"
   ]
  },
  {
   "cell_type": "markdown",
   "metadata": {
    "id": "lR6Wwv-hCCN-"
   },
   "source": [
    "准备数据\n",
    "\n",
    "在本教程中，使用托管在BigQuery上的问题和答案的 [Stack Overflow数据集](https://console.cloud.google.com/marketplace/product/stack-exchange/stack-overflow)。\n",
    "\n",
    "> 此公共数据集托管在Google BigQuery中，包含在BigQuery的每月免费1TB处理层中。每个用户每个月可以获得1TB的免费BigQuery处理能力，可用于对此公共数据集运行查询。"
   ]
  },
  {
   "cell_type": "markdown",
   "metadata": {
    "id": "62f6feea28a2"
   },
   "source": [
    "从BigQuery数据源提取数据集。"
   ]
  },
  {
   "cell_type": "code",
   "execution_count": null,
   "metadata": {
    "id": "9wzS85TeB9dG"
   },
   "outputs": [],
   "source": [
    "%%time\n",
    "client = bigquery.Client(project=PROJECT_ID)\n",
    "\n",
    "NUM_ROWS = 1000\n",
    "\n",
    "QUERY = f\"\"\"\n",
    "        SELECT distinct q.id, q.title, q.body, q.tags, a.body as answers, a.score \n",
    "        FROM (SELECT * FROM `bigquery-public-data.stackoverflow.posts_questions` where Score>0 ORDER BY View_Count desc) AS q \n",
    "        INNER JOIN (SELECT * FROM `bigquery-public-data.stackoverflow.posts_answers`  where Score>0 ORDER BY Score desc) AS a ON q.id = a.parent_id \n",
    "        where q.tags like '%python%'\n",
    "        LIMIT {NUM_ROWS};\n",
    "        \"\"\"\n",
    "\n",
    "query_job = client.query(QUERY)\n",
    "rows = query_job.result()"
   ]
  },
  {
   "cell_type": "code",
   "execution_count": null,
   "metadata": {
    "id": "b43937b6065d"
   },
   "outputs": [],
   "source": [
    "# Convert to a dataframe\n",
    "df = rows.to_dataframe()\n",
    "\n",
    "# Examine the data\n",
    "df.head()"
   ]
  },
  {
   "cell_type": "code",
   "execution_count": null,
   "metadata": {
    "id": "2cacd9869ee5"
   },
   "outputs": [],
   "source": [
    "# Extract the question ids and question text\n",
    "ids = df.id.tolist()\n",
    "questions = df.title.tolist()\n",
    "\n",
    "# Verify the length\n",
    "len(ids)"
   ]
  },
  {
   "cell_type": "markdown",
   "metadata": {
    "id": "1124422cc200"
   },
   "source": [
    "### 实例化文本编码模型\n",
    "\n",
    "使用谷歌开发的[sentence-t5编码器](https://tfhub.dev/google/sentence-t5/st5-base/1)将文本转换为嵌入向量。\n",
    "\n",
    "句子-T5系列模型将文本编码为高维向量，可用于文本分类、语义相似性、聚类和其他自然语言处理任务。\n",
    "\n",
    "该模型构建在T5（即文本到文本传输Transformer）之上。它经过多种数据源训练，并从具有不同模型大小的预训练T5模型进行初始化。输入是可变长度的英文文本，输出是一个768维向量。句子-T5基础模型采用12层Transformer架构，与T5基础模型相同。"
   ]
  },
  {
   "cell_type": "code",
   "execution_count": null,
   "metadata": {
    "id": "ed41c7712930"
   },
   "outputs": [],
   "source": [
    "hub_url = \"https://tfhub.dev/google/sentence-t5/st5-base/1\"\n",
    "\n",
    "encoder = hub.KerasLayer(hub_url)"
   ]
  },
  {
   "cell_type": "markdown",
   "metadata": {
    "id": "43088937e820"
   },
   "source": [
    "定义一个编码函数\n",
    "\n",
    "定义一个函数，稍后会用到，它将接受句子并将它们转换为嵌入。"
   ]
  },
  {
   "cell_type": "code",
   "execution_count": null,
   "metadata": {
    "id": "a0370bd840d2"
   },
   "outputs": [],
   "source": [
    "def encode_text_to_embedding(\n",
    "    text_encoder: hub.KerasLayer, sentences: List[str], batch_size: int = 100\n",
    ") -> np.ndarray:\n",
    "    embeddings_list = []\n",
    "\n",
    "    # Process data in chunks to prevent out-of-memory errors\n",
    "    for i in tqdm(range(0, len(sentences), batch_size)):\n",
    "        batch = sentences[i : i + batch_size]\n",
    "        embeddings_list.append(text_encoder(tf.constant(batch)))\n",
    "\n",
    "    return np.squeeze(np.column_stack(embeddings_list))"
   ]
  },
  {
   "cell_type": "markdown",
   "metadata": {
    "id": "ba45d58bf96e"
   },
   "source": [
    "测试编码函数\n",
    "\n",
    "编码一部分数据，看看嵌入和距离度量是否合理。\n",
    "\n",
    "根据[sentence-T5研究论文](https://arxiv.org/pdf/2108.08877.pdf)，嵌入的相似性是使用点积来计算的。"
   ]
  },
  {
   "cell_type": "code",
   "execution_count": null,
   "metadata": {
    "id": "9b01baa906b5"
   },
   "outputs": [],
   "source": [
    "# Encode 500 questions\n",
    "questions = df.title.tolist()[:500]\n",
    "question_embeddings = encode_text_to_embedding(\n",
    "    text_encoder=encoder, sentences=questions\n",
    ")"
   ]
  },
  {
   "cell_type": "markdown",
   "metadata": {
    "id": "d3761f56648b"
   },
   "source": [
    "在创建索引时，保存维度尺寸以供以后使用。"
   ]
  },
  {
   "cell_type": "code",
   "execution_count": null,
   "metadata": {
    "id": "d296e181205d"
   },
   "outputs": [],
   "source": [
    "DIMENSIONS = len(question_embeddings[0])\n",
    "\n",
    "print(DIMENSIONS)"
   ]
  },
  {
   "cell_type": "code",
   "execution_count": null,
   "metadata": {
    "id": "95e408daf219"
   },
   "outputs": [],
   "source": [
    "question_index = 0\n",
    "\n",
    "# Print the query question\n",
    "print(f\"Query question = {questions[question_index]}\")\n",
    "scores = np.dot(question_embeddings[question_index], question_embeddings.T)\n",
    "\n",
    "# Print top 20 matches\n",
    "for index, (question, score) in enumerate(\n",
    "    sorted(zip(questions, scores), key=lambda x: x[1], reverse=True)[:20]\n",
    "):\n",
    "    print(f\"\\t{index}: {question}: {score}\")"
   ]
  },
  {
   "cell_type": "markdown",
   "metadata": {
    "id": "aQIQSyF9GtSv"
   },
   "source": [
    "将列车分割保存为JSONL格式。\n",
    "\n",
    "数据必须按照JSONL格式进行格式化，这意味着每个嵌入字典都被写成一个JSON字符串，各自占据一行。\n",
    "\n",
    "有关更多信息，请参阅[input data format and structure](https://cloud.google.com/vertex-ai/docs/vector-search/setup/format-structure#data-file-formats)中的文档。"
   ]
  },
  {
   "cell_type": "code",
   "execution_count": null,
   "metadata": {
    "id": "7c1193aca5d1"
   },
   "outputs": [],
   "source": [
    "# Create temporary file to write embeddings to\n",
    "embeddings_file = tempfile.NamedTemporaryFile(suffix=\".json\", delete=False)\n",
    "\n",
    "print(embeddings_file.name)"
   ]
  },
  {
   "cell_type": "code",
   "execution_count": null,
   "metadata": {
    "id": "307f468a3ecd"
   },
   "outputs": [],
   "source": [
    "# Set batch size\n",
    "BATCH_SIZE = 100\n",
    "\n",
    "# Create embeddings and write to a file\n",
    "with open(embeddings_file.name, \"a\") as f:\n",
    "    for i in tqdm(range(0, len(questions), BATCH_SIZE)):\n",
    "        id_chunk = ids[i : i + BATCH_SIZE]\n",
    "\n",
    "        question_chunk_embeddings = encode_text_to_embedding(\n",
    "            text_encoder=encoder, sentences=questions[i : i + BATCH_SIZE]\n",
    "        )\n",
    "\n",
    "        # Append to file\n",
    "        embeddings_formatted = [\n",
    "            json.dumps(\n",
    "                {\n",
    "                    \"id\": str(id),\n",
    "                    \"embedding\": [str(value) for value in embedding],\n",
    "                }\n",
    "            )\n",
    "            + \"\\n\"\n",
    "            for id, embedding in zip(id_chunk, question_chunk_embeddings)\n",
    "        ]\n",
    "        f.writelines(embeddings_formatted)"
   ]
  },
  {
   "cell_type": "markdown",
   "metadata": {
    "id": "QuVl8DrWG8NS"
   },
   "source": [
    "将训练数据上传到云存储桶。"
   ]
  },
  {
   "cell_type": "code",
   "execution_count": null,
   "metadata": {
    "id": "3PgsA_vbI8Vg"
   },
   "outputs": [],
   "source": [
    "UNIQUE_FOLDER_NAME = \"embeddings_folder_unique\"\n",
    "remote_folder = f\"{BUCKET_URI}/{UNIQUE_FOLDER_NAME}/\"\n",
    "! gsutil cp {embeddings_file.name} {remote_folder}"
   ]
  },
  {
   "cell_type": "markdown",
   "metadata": {
    "id": "mglUPwHpJH98"
   },
   "source": [
    "创建索引##"
   ]
  },
  {
   "cell_type": "markdown",
   "metadata": {
    "id": "qhIBCQ7dDSbW"
   },
   "source": [
    "创建ANN指数（用于生产使用）"
   ]
  },
  {
   "cell_type": "code",
   "execution_count": null,
   "metadata": {
    "id": "qiIg9b5zJLi1"
   },
   "outputs": [],
   "source": [
    "DISPLAY_NAME = \"stack_overflow\"\n",
    "DESCRIPTION = \"questions from stackoverflow\""
   ]
  },
  {
   "cell_type": "markdown",
   "metadata": {
    "id": "svLYiDf0OD2G"
   },
   "source": [
    "创建ANN索引配置：\n",
    "\n",
    "要了解有关配置索引的更多信息，请参阅[向量搜索输入数据格式和结构](https://cloud.google.com/vertex-ai/docs/vector-search/setup/setup)。"
   ]
  },
  {
   "cell_type": "code",
   "execution_count": null,
   "metadata": {
    "id": "dffb00b23f5a"
   },
   "outputs": [],
   "source": [
    "tree_ah_index = aiplatform.MatchingEngineIndex.create_tree_ah_index(\n",
    "    display_name=DISPLAY_NAME,\n",
    "    contents_delta_uri=remote_folder,\n",
    "    dimensions=DIMENSIONS,\n",
    "    approximate_neighbors_count=150,\n",
    "    distance_measure_type=\"DOT_PRODUCT_DISTANCE\",\n",
    "    leaf_node_embedding_count=500,\n",
    "    leaf_nodes_to_search_percent=80,\n",
    "    description=DESCRIPTION,\n",
    ")"
   ]
  },
  {
   "cell_type": "code",
   "execution_count": null,
   "metadata": {
    "id": "17jrQi501QyX"
   },
   "outputs": [],
   "source": [
    "INDEX_RESOURCE_NAME = tree_ah_index.resource_name\n",
    "print(INDEX_RESOURCE_NAME)"
   ]
  },
  {
   "cell_type": "markdown",
   "metadata": {
    "id": "0f1a9fbecabb"
   },
   "source": [
    "使用资源名称，您可以检索现有的MatchingEngineIndex资源。"
   ]
  },
  {
   "cell_type": "code",
   "execution_count": null,
   "metadata": {
    "id": "1ddb70647d98"
   },
   "outputs": [],
   "source": [
    "tree_ah_index = aiplatform.MatchingEngineIndex(index_name=INDEX_RESOURCE_NAME)"
   ]
  },
  {
   "cell_type": "markdown",
   "metadata": {
    "id": "4f4f0bc64ddb"
   },
   "source": [
    "## 设置VPC对等网络\n",
    "\n",
    "要使用矢量搜索索引，请在您的项目和Vertex AI矢量搜索服务项目之间设置VPC对等网络。这可以消除网络流量中的额外跳跃，并允许使用高效的gRPC协议。\n",
    "\n",
    "了解更多关于[VPC对等](https://cloud.google.com/vertex-ai/docs/general/vpc-peering)。\n",
    "\n",
    "**重要提示：每个项目只能设置与servicenetworking.googleapis.com的一个VPC对等连接。**"
   ]
  },
  {
   "cell_type": "markdown",
   "metadata": {
    "id": "d85e8f48291a"
   },
   "source": [
    "### 创建VPC对等连接\n",
    "\n",
    "为简便起见，设置VPC对等连接到`ucaip-haystack-vpc-network`网络。您可以为您的项目创建一个不同的网络。\n",
    "\n",
    "如果您与任何其他网络建立VPC对等连接，请确保该网络已经存在，并且您的虚拟机正在该网络上运行。"
   ]
  },
  {
   "cell_type": "code",
   "execution_count": null,
   "metadata": {
    "id": "a107544fbabf"
   },
   "outputs": [],
   "source": [
    "# This is for display only; you can name the range anything.\n",
    "NETWORK = \"ucaip-haystack-vpc-network\"  # @param {type:\"string\"}\n",
    "PEERING_RANGE_NAME = \"vertex-ai-prediction-peering-range\"\n",
    "\n",
    "# NOTE: `prefix-length=16` means a CIDR block with mask /16 is\n",
    "# reserved for use by Google services, such as Vertex AI.\n",
    "! gcloud compute addresses create $PEERING_RANGE_NAME \\\n",
    "  --global \\\n",
    "  --prefix-length=16 \\\n",
    "  --description=\"peering range for Google service\" \\\n",
    "  --network=$NETWORK \\\n",
    "  --purpose=VPC_PEERING"
   ]
  },
  {
   "cell_type": "markdown",
   "metadata": {
    "id": "8e29cad1a0be"
   },
   "source": [
    "### 创建VPC连接\n",
    "\n",
    "接下来，为VPC对等连接创建连接。\n",
    "\n",
    "**注意:** 如果收到 PERMISSION DENIED 错误，可能是您的默认服务帐户没有设置必要的“Compute Network Admin”角色。在 Cloud 控制台中，执行以下操作：\n",
    "\n",
    "1. 转到 **IAM & Admin**。\n",
    "2. 找到您的服务帐户。\n",
    "3. 点击编辑图标。\n",
    "4. 选择 **Add Another Role**。\n",
    "5. 输入 **Compute Network Admin**。\n",
    "6. 选择 **Save**。"
   ]
  },
  {
   "cell_type": "code",
   "execution_count": null,
   "metadata": {
    "id": "f3f6c85ffc63"
   },
   "outputs": [],
   "source": [
    "! gcloud services vpc-peerings connect \\\n",
    "  --service=servicenetworking.googleapis.com \\\n",
    "  --network=$NETWORK \\\n",
    "  --ranges=$PEERING_RANGE_NAME \\\n",
    "  --project=$PROJECT_ID"
   ]
  },
  {
   "cell_type": "markdown",
   "metadata": {
    "id": "944d772b1397"
   },
   "source": [
    "检查您的对等连接状态。"
   ]
  },
  {
   "cell_type": "code",
   "execution_count": null,
   "metadata": {
    "id": "b946ce37cc16"
   },
   "outputs": [],
   "source": [
    "! gcloud compute networks peerings list --network $NETWORK"
   ]
  },
  {
   "cell_type": "markdown",
   "metadata": {
    "id": "7a5e1b83ae61"
   },
   "source": [
    "构建完整的网络名称\n",
    "\n",
    "在随后为VPC对等创建Vector Search索引端点资源时，您需要拥有完整的网络资源名称。"
   ]
  },
  {
   "cell_type": "code",
   "execution_count": null,
   "metadata": {
    "id": "BpZQoJyxDlbO"
   },
   "outputs": [],
   "source": [
    "# Retrieve the project number\n",
    "PROJECT_NUMBER = !gcloud projects list --filter=\"PROJECT_ID:'{PROJECT_ID}'\" --format='value(PROJECT_NUMBER)'\n",
    "PROJECT_NUMBER = PROJECT_NUMBER[0]\n",
    "\n",
    "full_network_name = f\"projects/{PROJECT_NUMBER}/global/networks/{NETWORK}\"\n",
    "print(full_network_name)"
   ]
  },
  {
   "cell_type": "markdown",
   "metadata": {
    "id": "qV2xjAnDDObD"
   },
   "source": [
    "使用VPC网络创建IndexEndpoint。"
   ]
  },
  {
   "cell_type": "code",
   "execution_count": null,
   "metadata": {
    "id": "QuARXzJVGyQX"
   },
   "outputs": [],
   "source": [
    "my_index_endpoint = aiplatform.MatchingEngineIndexEndpoint.create(\n",
    "    display_name=DISPLAY_NAME,\n",
    "    description=DISPLAY_NAME,\n",
    "    network=full_network_name,\n",
    ")"
   ]
  },
  {
   "cell_type": "markdown",
   "metadata": {
    "id": "np2cgVuuIe9k"
   },
   "source": [
    "部署索引"
   ]
  },
  {
   "cell_type": "markdown",
   "metadata": {
    "id": "8Ew1UgcIIiJG"
   },
   "source": [
    "### 部署ANN索引"
   ]
  },
  {
   "cell_type": "code",
   "execution_count": null,
   "metadata": {
    "id": "nLOYTGygIlMK"
   },
   "outputs": [],
   "source": [
    "# Set a unique id for your deployed index\n",
    "DEPLOYED_INDEX_ID = \"deployed_index_id_unique\""
   ]
  },
  {
   "cell_type": "code",
   "execution_count": null,
   "metadata": {
    "id": "_uK4WOgqN1NG"
   },
   "outputs": [],
   "source": [
    "# Deploy your ANN index to the index endpoint\n",
    "my_index_endpoint = my_index_endpoint.deploy_index(\n",
    "    index=tree_ah_index, deployed_index_id=DEPLOYED_INDEX_ID\n",
    ")\n",
    "\n",
    "my_index_endpoint.deployed_indexes"
   ]
  },
  {
   "cell_type": "markdown",
   "metadata": {
    "id": "6LCGvBNvBd8D"
   },
   "source": [
    "## 创建在线查询\n",
    "\n",
    "在构建索引之后，您可以查询已部署的索引以查找最近邻。\n",
    "\n",
    "**注意：** 对于 **DOT_PRODUCT_DISTANCE** 距离类型，每个MatchNeighbor返回的“distance”属性实际上指的是相似度。"
   ]
  },
  {
   "cell_type": "code",
   "execution_count": null,
   "metadata": {
    "id": "ae9996f185fe"
   },
   "outputs": [],
   "source": [
    "test_embeddings = encode_text_to_embedding(\n",
    "    text_encoder=encoder, sentences=[\"How do I install tensorflow with GPU support?\"]\n",
    ")"
   ]
  },
  {
   "cell_type": "code",
   "execution_count": null,
   "metadata": {
    "id": "A3KYVw5HB-4v"
   },
   "outputs": [],
   "source": [
    "# Test query\n",
    "NUM_NEIGHBOURS = 20\n",
    "\n",
    "response = my_index_endpoint.match(\n",
    "    deployed_index_id=DEPLOYED_INDEX_ID,\n",
    "    queries=[test_embeddings.tolist()],\n",
    "    num_neighbors=NUM_NEIGHBOURS,\n",
    ")\n",
    "\n",
    "response"
   ]
  },
  {
   "cell_type": "markdown",
   "metadata": {
    "id": "ce2cf0297369"
   },
   "source": [
    "打印标题以验证邻居是否合理"
   ]
  },
  {
   "cell_type": "code",
   "execution_count": null,
   "metadata": {
    "id": "7c8682079e21"
   },
   "outputs": [],
   "source": [
    "neighbor_ids = [neighbor.id for neighbor in response[0]]\n",
    "neighbor_distances = [neighbor.distance for neighbor in response[0]]\n",
    "\n",
    "for match_index, neighbor in enumerate(response[0]):\n",
    "    titles = df[df.id.astype(str) == neighbor.id].title.tolist()\n",
    "\n",
    "    if len(titles) > 0:\n",
    "        print(\n",
    "            f\"{match_index}: title = '{titles[0]}', distance = {neighbor.distance:0.2f}\"\n",
    "        )"
   ]
  },
  {
   "cell_type": "markdown",
   "metadata": {
    "id": "05514825ba7d"
   },
   "source": [
    "将标题存储和检索到Redis数据存储中\n",
    "当您将此代码投入生产并转换为服务时，您需要将从Vertex AI矢量搜索返回的最近的ids转换为可用于下游服务的数据。\n",
    "\n",
    "在这种情况下，您需要将ids转换为标题。\n",
    "\n",
    "您可以使用Google Cloud的Memorystore部署一个托管的Redis实例来保存id-title键值对。\n",
    "\n",
    "有关更多信息，请参阅[Memorystore](https://cloud.google.com/memorystore/docs/redis/create-manage-instances?hl=zh-CN)。"
   ]
  },
  {
   "cell_type": "code",
   "execution_count": null,
   "metadata": {
    "id": "5d2b240f0d52"
   },
   "outputs": [],
   "source": [
    "# Set a display name for your Redis instance\n",
    "REDIS_INSTANCE_NAME = \"stackoverflow-questions-unique\"\n",
    "\n",
    "# Create a Redis instance\n",
    "! gcloud redis instances create '{REDIS_INSTANCE_NAME}' --size=5 --region={LOCATION} --network={VPC_NETWORK_FULL} --connect-mode=private-service-access"
   ]
  },
  {
   "cell_type": "code",
   "execution_count": null,
   "metadata": {
    "id": "371ccc0d2eb2"
   },
   "outputs": [],
   "source": [
    "# Get host and port info\n",
    "if not os.getenv(\"IS_TESTING\"):\n",
    "    REDIS_HOST = ! gcloud redis instances list --filter=\"INSTANCE_NAME:'{REDIS_INSTANCE_NAME}'\" --region {LOCATION}  --format='value(HOST)'\n",
    "    REDIS_PORT = ! gcloud redis instances list --filter=\"INSTANCE_NAME:'{REDIS_INSTANCE_NAME}'\" --region {LOCATION} --format='value(PORT)'\n",
    "\n",
    "    if isinstance(REDIS_HOST, list):\n",
    "        REDIS_HOST = REDIS_HOST[0]\n",
    "\n",
    "    if isinstance(REDIS_PORT, list):\n",
    "        REDIS_PORT = REDIS_PORT[0]\n",
    "\n",
    "    print(f\"REDIS_HOST = {REDIS_HOST}\")\n",
    "    print(f\"REDIS_PORT = {REDIS_PORT}\")"
   ]
  },
  {
   "cell_type": "code",
   "execution_count": null,
   "metadata": {
    "id": "73796089386a"
   },
   "outputs": [],
   "source": [
    "# Connect to the instance\n",
    "if not os.getenv(\"IS_TESTING\"):\n",
    "    redis_client = redis.StrictRedis(host=REDIS_HOST, port=REDIS_PORT)"
   ]
  },
  {
   "cell_type": "code",
   "execution_count": null,
   "metadata": {
    "id": "f000f5432d13"
   },
   "outputs": [],
   "source": [
    "# Convert the id -> title relationship into a dict and write to redis\n",
    "if not os.getenv(\"IS_TESTING\"):\n",
    "    redis_client.mset({str(id): str(title) for id, title in zip(df.id, df.title)})"
   ]
  },
  {
   "cell_type": "code",
   "execution_count": null,
   "metadata": {
    "id": "b1f8b396aeb1"
   },
   "outputs": [],
   "source": [
    "# Verify that redis can retrieve the correct information\n",
    "if not os.getenv(\"IS_TESTING\"):\n",
    "    [\n",
    "        f\"Actual = {title}, Retrieved = {redis_client.get(str(id))}\"\n",
    "        for id, title in list(zip(df.id, df.title))[:10]\n",
    "    ]"
   ]
  },
  {
   "cell_type": "markdown",
   "metadata": {
    "id": "TpV-iwP9qw9c"
   },
   "source": [
    "清理\n",
    "\n",
    "要清理此项目中使用的所有Google Cloud资源，您可以[删除用于教程的Google Cloud项目](https://cloud.google.com/resource-manager/docs/creating-managing-projects#shutting_down_projects)。\n",
    "您还可以通过运行以下代码手动删除创建的资源。"
   ]
  },
  {
   "cell_type": "code",
   "execution_count": null,
   "metadata": {
    "id": "sx_vKniMq9ZX"
   },
   "outputs": [],
   "source": [
    "# Force undeployment of indexes and delete endpoint\n",
    "my_index_endpoint.delete(force=True)\n",
    "\n",
    "# Delete indexes\n",
    "tree_ah_index.delete()\n",
    "\n",
    "# Delete cloud storage bucket\n",
    "delete_bucket = False\n",
    "if delete_bucket:\n",
    "    ! gsutil rm -rf {BUCKET_URI}\n",
    "\n",
    "# Delete redis instance\n",
    "! gcloud redis instances delete '{REDIS_INSTANCE_NAME}' --region {LOCATION} --quiet"
   ]
  }
 ],
 "metadata": {
  "colab": {
   "collapsed_sections": [],
   "name": "sdk_vector_search_create_stack_overflow_embeddings.ipynb",
   "toc_visible": true
  },
  "kernelspec": {
   "display_name": "Python 3",
   "name": "python3"
  }
 },
 "nbformat": 4,
 "nbformat_minor": 0
}
