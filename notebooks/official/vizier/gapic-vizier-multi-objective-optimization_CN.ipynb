{
 "cells": [
  {
   "cell_type": "code",
   "execution_count": null,
   "metadata": {
    "id": "7fPc-KWUi2Xd"
   },
   "outputs": [],
   "source": [
    "# Copyright 2021 Google LLC\n",
    "#\n",
    "# Licensed under the Apache License, Version 2.0 (the \"License\");\n",
    "# you may not use this file except in compliance with the License.\n",
    "# You may obtain a copy of the License at\n",
    "#\n",
    "#     https://www.apache.org/licenses/LICENSE-2.0\n",
    "#\n",
    "# Unless required by applicable law or agreed to in writing, software\n",
    "# distributed under the License is distributed on an \"AS IS\" BASIS,\n",
    "# WITHOUT WARRANTIES OR CONDITIONS OF ANY KIND, either express or implied.\n",
    "# See the License for the specific language governing permissions and\n",
    "# limitations under the License."
   ]
  },
  {
   "cell_type": "markdown",
   "metadata": {
    "id": "eoXf8TfQoVth"
   },
   "source": [
    "使用Vertex AI Vizier优化多个目标\n",
    "\n",
    "<table align=\"left\">\n",
    "\n",
    "  <td>\n",
    "    <a href=\"https://colab.research.google.com/github/GoogleCloudPlatform/vertex-ai-samples/blob/main/notebooks/official/vizier/gapic-vizier-multi-objective-optimization.ipynb\">\n",
    "      <img src=\"https://cloud.google.com/ml-engine/images/colab-logo-32px.png\" alt=\"Colab logo\"> 在Colab中运行\n",
    "    </a>\n",
    "  </td>\n",
    "  <td>\n",
    "    <a href=\"https://github.com/GoogleCloudPlatform/vertex-ai-samples/blob/main/notebooks/official/vizier/gapic-vizier-multi-objective-optimization.ipynb\">\n",
    "      <img src=\"https://cloud.google.com/ml-engine/images/github-logo-32px.png\" alt=\"GitHub logo\">\n",
    "      在GitHub上查看\n",
    "    </a>\n",
    "  </td>\n",
    "  <td>\n",
    "    <a href=\"https://console.cloud.google.com/vertex-ai/workbench/deploy-notebook?download_url=https://raw.githubusercontent.com/GoogleCloudPlatform/vertex-ai-samples/main/notebooks/official/vizier/gapic-vizier-multi-objective-optimization.ipynb\">\n",
    "        <img src=\"https://lh3.googleusercontent.com/UiNooY4LUgW_oTvpsNhPpQzsstV5W8F7rYgxgGBD85cWJoLmrOzhVs_ksK_vgx40SHs7jCqkTkCk=e14-rj-sc0xffffff-h130-w32\" alt=\"Vertex AI logo\">\n",
    "      在Vertex AI Workbench中打开\n",
    "    </a>\n",
    "  </td>\n",
    "</table>"
   ]
  },
  {
   "cell_type": "markdown",
   "metadata": {
    "id": "b397c59391b1"
   },
   "source": [
    "## 概述\n",
    "\n",
    "本教程演示了[Vertex AI Vizier](https://cloud.google.com/vertex-ai/docs/vizier/overview)的多目标优化。多目标优化涉及同时优化多个目标函数的数学优化问题。\n",
    "\n",
    "了解更多关于[Vertex AI Vizier](https://cloud.google.com/vertex-ai/docs/vizier/overview)的信息。"
   ]
  },
  {
   "cell_type": "markdown",
   "metadata": {
    "id": "AksIKBzZ-nre"
   },
   "source": [
    "### 目标\n",
    "\n",
    "在本教程中，您将学习如何使用`Vertex AI Vizier`来优化多目标研究。\n",
    "\n",
    "目标是__`最小化`__目标指标：\n",
    "   ```\n",
    "   y1 = r*sin(theta)\n",
    "   ```\n",
    "\n",
    "并同时__`最大化`__目标指标：\n",
    "   ```\n",
    "   y2 = r*cos(theta)\n",
    "   ```\n",
    "\n",
    "您将在参数空间中进行评估：\n",
    "\n",
    "   - __`r`__ 在[0,1]之间，\n",
    "\n",
    "   - __`theta`__ 在[0, pi/2]之间\n",
    "\n",
    "### 成本\n",
    "\n",
    "本教程使用 Google Cloud 的可计费组件：\n",
    "\n",
    "* Vertex AI\n",
    "\n",
    "了解有关[Vertex AI\n",
    "定价](https://cloud.google.com/vertex-ai/pricing)的信息，并使用[定价计算器](https://cloud.google.com/products/calculator/)\n",
    "根据预估的使用情况生成成本估算。"
   ]
  },
  {
   "cell_type": "markdown",
   "metadata": {
    "id": "iMHz63rPbq6P"
   },
   "source": [
    "安装\n",
    "\n",
    "安装运行此笔记本需要的软件包。"
   ]
  },
  {
   "cell_type": "code",
   "execution_count": null,
   "metadata": {
    "id": "b6f3dc43494b"
   },
   "outputs": [],
   "source": [
    "! pip3 install --quiet google-vizier==0.0.4\n",
    "! pip3 install --upgrade --quiet google-cloud-aiplatform"
   ]
  },
  {
   "cell_type": "markdown",
   "metadata": {
    "id": "58707a750154"
   },
   "source": [
    "只有 Colab: 取消注释以下单元格以重新启动内核。"
   ]
  },
  {
   "cell_type": "code",
   "execution_count": null,
   "metadata": {
    "id": "f200f10a1da3"
   },
   "outputs": [],
   "source": [
    "# Automatically restart kernel after installs so that your environment can access the new packages\n",
    "# import IPython\n",
    "\n",
    "# app = IPython.Application.instance()\n",
    "# app.kernel.do_shutdown(True)"
   ]
  },
  {
   "cell_type": "markdown",
   "metadata": {
    "id": "WReHDGG5g0XY"
   },
   "source": [
    "设置您的项目ID\n",
    "\n",
    "**如果您不知道您的项目ID**，请尝试以下操作：\n",
    "* 运行 `gcloud config list`。\n",
    "* 运行 `gcloud projects list`。\n",
    "* 查看支持页面： [查找项目ID](https://support.google.com/googleapi/answer/7014113)"
   ]
  },
  {
   "cell_type": "code",
   "execution_count": null,
   "metadata": {
    "id": "oM1iC_MfAts1"
   },
   "outputs": [],
   "source": [
    "PROJECT_ID = \"[your-project-id]\"  # @param {type:\"string\"}\n",
    "\n",
    "# Set the project id\n",
    "! gcloud config set project {PROJECT_ID}"
   ]
  },
  {
   "cell_type": "markdown",
   "metadata": {
    "id": "region"
   },
   "source": [
    "#### 设置地区\n",
    "\n",
    "**可选**: 更新“REGION”变量以指定要使用的地区。了解更多关于[Vertex AI地区](https://cloud.google.com/vertex-ai/docs/general/locations)。"
   ]
  },
  {
   "cell_type": "code",
   "execution_count": null,
   "metadata": {
    "id": "nsN5NJKSu-GU"
   },
   "outputs": [],
   "source": [
    "REGION = \"us-central1\"  # @param {type: \"string\"}"
   ]
  },
  {
   "cell_type": "markdown",
   "metadata": {
    "id": "sBCra4QMA2wR"
   },
   "source": [
    "### 认证您的Google云账号\n",
    "\n",
    "要认证您的Google云账号，请按照您的Jupyter环境的指示操作：\n",
    "\n",
    "**1. Vertex AI Workbench**\n",
    "<br>您已经认证。\n",
    "\n",
    "**2. 本地JupyterLab实例**\n",
    "<br>取消注释并运行以下代码："
   ]
  },
  {
   "cell_type": "code",
   "execution_count": null,
   "metadata": {
    "id": "254614fa0c46"
   },
   "outputs": [],
   "source": [
    "# ! gcloud auth login"
   ]
  },
  {
   "cell_type": "markdown",
   "metadata": {
    "id": "ef21552ccea8"
   },
   "source": [
    "取消注释并运行以下代码："
   ]
  },
  {
   "cell_type": "code",
   "execution_count": null,
   "metadata": {
    "id": "603adbbf0532"
   },
   "outputs": [],
   "source": [
    "# from google.colab import auth\n",
    "\n",
    "# auth.authenticate_user()"
   ]
  },
  {
   "cell_type": "markdown",
   "metadata": {
    "id": "c13224697bfb"
   },
   "source": [
    "请参阅如何在https://cloud.google.com/storage/docs/gsutil/commands/iam#ch-examples 上为您的服务账户授予云存储权限。"
   ]
  },
  {
   "cell_type": "markdown",
   "metadata": {
    "id": "Dax2zrpTi2Xy"
   },
   "source": [
    "导入库并定义常量"
   ]
  },
  {
   "cell_type": "code",
   "execution_count": null,
   "metadata": {
    "id": "xD60d6Q0i2X0"
   },
   "outputs": [],
   "source": [
    "import datetime\n",
    "\n",
    "from google.cloud import aiplatform\n",
    "from google.cloud.aiplatform.vizier import Study, pyvizier"
   ]
  },
  {
   "cell_type": "markdown",
   "metadata": {
    "id": "CWuu4wmki2X3"
   },
   "source": [
    "教程"
   ]
  },
  {
   "cell_type": "markdown",
   "metadata": {
    "id": "KyEjqIdnad0w"
   },
   "source": [
    "这部分定义了一些参数和实用方法来调用Vertex Vizier APIs。请填写以下信息以开始。"
   ]
  },
  {
   "cell_type": "code",
   "execution_count": null,
   "metadata": {
    "id": "8HCgeF8had77"
   },
   "outputs": [],
   "source": [
    "# These will be automatically filled in.\n",
    "STUDY_DISPLAY_NAME = \"{}_study_{}\".format(\n",
    "    PROJECT_ID.replace(\"-\", \"\"), datetime.datetime.now().strftime(\"%Y%m%d_%H%M%S\")\n",
    ")\n",
    "PARENT = \"projects/{}/locations/{}\".format(PROJECT_ID, REGION)\n",
    "\n",
    "print(\"REGION: {}\".format(REGION))\n",
    "print(\"PARENT: {}\".format(PARENT))"
   ]
  },
  {
   "cell_type": "markdown",
   "metadata": {
    "id": "8NBduXsEaRKr"
   },
   "source": [
    "### 创建研究配置\n",
    "\n",
    "以下是一个示例研究配置，构建为一个层次结构的Python字典。已经填写完毕。运行该单元格以配置研究。"
   ]
  },
  {
   "cell_type": "code",
   "execution_count": null,
   "metadata": {
    "id": "s-AHfPOASXXW"
   },
   "outputs": [],
   "source": [
    "# Parameter Configuration\n",
    "problem = pyvizier.StudyConfig()\n",
    "problem.algorithm = pyvizier.Algorithm.RANDOM_SEARCH\n",
    "\n",
    "# Objective Metrics\n",
    "problem.metric_information.append(\n",
    "    pyvizier.MetricInformation(name=\"y1\", goal=pyvizier.ObjectiveMetricGoal.MINIMIZE)\n",
    ")\n",
    "problem.metric_information.append(\n",
    "    pyvizier.MetricInformation(name=\"y2\", goal=pyvizier.ObjectiveMetricGoal.MAXIMIZE)\n",
    ")\n",
    "\n",
    "# Defines the parameters configuration.\n",
    "root = problem.search_space.select_root()\n",
    "root.add_float_param(\"r\", 0, 1.0, scale_type=pyvizier.ScaleType.LINEAR)\n",
    "root.add_float_param(\"theta\", 0, 1.57, scale_type=pyvizier.ScaleType.LINEAR)"
   ]
  },
  {
   "cell_type": "markdown",
   "metadata": {
    "id": "uyXG_RKha7Kb"
   },
   "source": [
    "创造研究\n",
    "\n",
    "接下来，创造研究，随后您将运行以优化这两个目标。"
   ]
  },
  {
   "cell_type": "code",
   "execution_count": null,
   "metadata": {
    "id": "jgskzqZX0Mkt"
   },
   "outputs": [],
   "source": [
    "aiplatform.init(project=PROJECT_ID, location=REGION)\n",
    "study = Study.create_or_load(display_name=STUDY_DISPLAY_NAME, problem=problem)\n",
    "\n",
    "STUDY_ID = study.name\n",
    "print(\"STUDY_ID: {}\".format(STUDY_ID))"
   ]
  },
  {
   "cell_type": "markdown",
   "metadata": {
    "id": "dKOMBKmtkcJb"
   },
   "source": [
    "### 评估度量函数\n",
    "\n",
    "接下来，定义一些函数来评估这两个客观度量指标。"
   ]
  },
  {
   "cell_type": "code",
   "execution_count": null,
   "metadata": {
    "id": "Xnl1uqnyz3Qp"
   },
   "outputs": [],
   "source": [
    "import math\n",
    "\n",
    "\n",
    "# r * sin(theta)\n",
    "def Metric1Evaluation(r, theta):\n",
    "    \"\"\"Evaluate the first metric on the trial.\"\"\"\n",
    "    return r * math.sin(theta)\n",
    "\n",
    "\n",
    "# r * cos(theta)\n",
    "def Metric2Evaluation(r, theta):\n",
    "    \"\"\"Evaluate the second metric on the trial.\"\"\"\n",
    "    return r * math.cos(theta)\n",
    "\n",
    "\n",
    "def CreateMetrics(trial_id, r, theta):\n",
    "    print((\"=========== Start Trial: [{}] =============\").format(trial_id))\n",
    "\n",
    "    # Evaluate both objective metrics for this trial\n",
    "    y1 = Metric1Evaluation(r, theta)\n",
    "    y2 = Metric2Evaluation(r, theta)\n",
    "    print(\n",
    "        \"[r = {}, theta = {}] => y1 = r*sin(theta) = {}, y2 = r*cos(theta) = {}\".format(\n",
    "            r, theta, y1, y2\n",
    "        )\n",
    "    )\n",
    "    measurement = pyvizier.Measurement()\n",
    "    measurement.metrics[\"y1\"] = y1\n",
    "    measurement.metrics[\"y2\"] = y2\n",
    "\n",
    "    # Return the results for this trial\n",
    "    return measurement"
   ]
  },
  {
   "cell_type": "markdown",
   "metadata": {
    "id": "Qzn5lVpRq05U"
   },
   "source": [
    "### 设置运行试验的配置参数\n",
    "\n",
    "__`client_id`__: 请求建议的客户端的标识符。如果多个`SuggestTrialsRequests`具有相同的`client_id`，服务将在试验处于`PENDING`状态时返回相同的建议试验，并在上次建议试验完成后提供新的试验。\n",
    "\n",
    "__`suggestion_count_per_request`__: 单个请求中请求的建议（试验）数目。\n",
    "\n",
    "__`max_trial_id_to_stop`__: 在停止之前要探索的试验数量。为了缩短代码运行时间，将其设置为4，因此不要期望收敛。要达到收敛，可能需要大约20次试验（一个好的经验法则是将总维度乘以10）。"
   ]
  },
  {
   "cell_type": "code",
   "execution_count": null,
   "metadata": {
    "id": "5usXaZA5qvUZ"
   },
   "outputs": [],
   "source": [
    "worker_id = \"worker1\"  # @param {type: 'string'}\n",
    "suggestion_count_per_request = 3  # @param {type: 'integer'}\n",
    "max_trial_id_to_stop = 6  # @param {type: 'integer'}\n",
    "\n",
    "print(\"worker_id: {}\".format(worker_id))\n",
    "print(\"suggestion_count_per_request: {}\".format(suggestion_count_per_request))\n",
    "print(\"max_trial_id_to_stop: {}\".format(max_trial_id_to_stop))"
   ]
  },
  {
   "cell_type": "markdown",
   "metadata": {
    "id": "UnV2SJNskm7V"
   },
   "source": [
    "### 运行Vertex Vizier试验\n",
    "\n",
    "运行试验。"
   ]
  },
  {
   "cell_type": "code",
   "execution_count": null,
   "metadata": {
    "id": "opmuTntW4-eS"
   },
   "outputs": [],
   "source": [
    "while len(study.trials()) < max_trial_id_to_stop:\n",
    "    trials = study.suggest(count=suggestion_count_per_request, worker=worker_id)\n",
    "\n",
    "    for suggested_trial in trials:\n",
    "        measurement = CreateMetrics(\n",
    "            suggested_trial.name,\n",
    "            suggested_trial.parameters[\"r\"].value,\n",
    "            suggested_trial.parameters[\"theta\"].value,\n",
    "        )\n",
    "        suggested_trial.add_measurement(measurement=measurement)\n",
    "        suggested_trial.complete(measurement=measurement)"
   ]
  },
  {
   "cell_type": "markdown",
   "metadata": {
    "id": "i5ZTqgqBiRsq"
   },
   "source": [
    "列出最佳解决方案\n",
    "\n",
    "list_optimal_trials返回多目标研究的Pareto最优试验或单目标研究的最佳试验。在这种情况下，如果在之前的步骤中定义了多目标，将返回Pareto最优试验。"
   ]
  },
  {
   "cell_type": "code",
   "execution_count": null,
   "metadata": {
    "id": "Or2PL1YxTr33"
   },
   "outputs": [],
   "source": [
    "optimal_trials = study.optimal_trials()\n",
    "print(\"optimal_trials: {}\".format(optimal_trials))"
   ]
  },
  {
   "cell_type": "markdown",
   "metadata": {
    "id": "KAxfq9Fri2YV"
   },
   "source": [
    "清理\n",
    "\n",
    "要清理此项目中使用的所有Google Cloud资源，您可以删除用于本教程的[Google Cloud项目](https://cloud.google.com/resource-manager/docs/creating-managing-projects#shutting_down_projects)。您还可以手动删除通过运行以下代码创建的资源。"
   ]
  },
  {
   "cell_type": "code",
   "execution_count": null,
   "metadata": {
    "id": "zQlLDfvlzYde"
   },
   "outputs": [],
   "source": [
    "study.delete()"
   ]
  }
 ],
 "metadata": {
  "colab": {
   "collapsed_sections": [],
   "name": "gapic-vizier-multi-objective-optimization.ipynb",
   "toc_visible": true
  },
  "kernelspec": {
   "display_name": "Python 3",
   "name": "python3"
  }
 },
 "nbformat": 4,
 "nbformat_minor": 0
}
