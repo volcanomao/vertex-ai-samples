{
 "cells": [
  {
   "cell_type": "code",
   "execution_count": null,
   "metadata": {
    "cellView": "form",
    "id": "ur8xi4C7S06n"
   },
   "outputs": [],
   "source": [
    "# @title Copyright & License (click to expand)\n",
    "# Copyright 2022 Google LLC\n",
    "#\n",
    "# Licensed under the Apache License, Version 2.0 (the \"License\");\n",
    "# you may not use this file except in compliance with the License.\n",
    "# You may obtain a copy of the License at\n",
    "#\n",
    "#     https://www.apache.org/licenses/LICENSE-2.0\n",
    "#\n",
    "# Unless required by applicable law or agreed to in writing, software\n",
    "# distributed under the License is distributed on an \"AS IS\" BASIS,\n",
    "# WITHOUT WARRANTIES OR CONDITIONS OF ANY KIND, either express or implied.\n",
    "# See the License for the specific language governing permissions and\n",
    "# limitations under the License."
   ]
  },
  {
   "cell_type": "markdown",
   "metadata": {
    "id": "fsv4jGuU89rX"
   },
   "source": [
    "# 使用 TensorFlow Serving 容器为自定义表格模型监控 Vertex AI 模型监控\n",
    "\n",
    "<table align=\"left\">\n",
    "  <td>\n",
    "    <a href=\"https://colab.research.google.com/github/GoogleCloudPlatform/vertex-ai-samples/blob/main/notebooks/official/model_monitoring/get_started_with_model_monitoring_custom_tf_serving.ipynb\">\n",
    "      <img src=\"https://cloud.google.com/ml-engine/images/colab-logo-32px.png\" alt=\"Colab logo\"> 在 Colab 中运行\n",
    "    </a>\n",
    "  </td>\n",
    "  <td>\n",
    "    <a href=\"https://github.com/GoogleCloudPlatform/vertex-ai-samples/blob/main/notebooks/official/model_monitoring/get_started_with_model_monitoring_custom_tf_serving.ipynb\">\n",
    "        <img src=\"https://cloud.google.com/ml-engine/images/github-logo-32px.png\" alt=\"GitHub logo\">\n",
    "      在 GitHub 上查看\n",
    "    </a>\n",
    "  </td> \n",
    "  <td>\n",
    "    <a href=\"https://console.cloud.google.com/vertex-ai/workbench/deploy-notebook?download_url=https://raw.githubusercontent.com/GoogleCloudPlatform/vertex-ai-samples/main/notebooks/official/model_monitoring/get_started_with_model_monitoring_custom_tf_serving.ipynb\">\n",
    "      <img src=\"https://lh3.googleusercontent.com/UiNooY4LUgW_oTvpsNhPpQzsstV5W8F7rYgxgGBD85cWJoLmrOzhVs_ksK_vgx40SHs7jCqkTkCk=e14-rj-sc0xffffff-h130-w32\" alt=\"Vertex AI logo\">\n",
    "      在 Vertex AI Workbench 中打开\n",
    "    </a>\n",
    "  </td>\n",
    "</table>"
   ]
  },
  {
   "cell_type": "markdown",
   "metadata": {
    "id": "lA32H1oKGgpf"
   },
   "source": [
    "## 概述\n",
    "\n",
    "本教程演示了如何针对自定义表格模型和自定义部署容器使用Vertex AI模型监控。\n",
    "\n",
    "了解更多关于[Vertex AI 模型监控](https://cloud.google.com/vertex-ai/docs/model-monitoring)。"
   ]
  },
  {
   "cell_type": "markdown",
   "metadata": {
    "id": "de998a3953c9"
   },
   "source": [
    "###目标\n",
    "\n",
    "在这个笔记本中，您将学习如何使用`Vertex AI Model Monitoring`服务来检测自定义表格模型的输入预测请求中的特征偏差和漂移，使用自定义部署容器。在本教程中，将使用TensorFlow Serving作为自定义部署容器。\n",
    "\n",
    "本教程使用以下Google Cloud ML服务：\n",
    "\n",
    "- `Vertex AI Model Monitoring`\n",
    "- `Vertex AI Prediction`\n",
    "- `Vertex AI Model`资源\n",
    "- `Vertex AI Endpoint`资源\n",
    "\n",
    "执行的步骤包括：\n",
    "\n",
    "- 下载预训练的自定义表格模型。\n",
    "- 将预训练模型上传为`Model`资源。\n",
    "- 使用`TensorFlow Serving`服务二进制部署`Model`资源到`Endpoint`资源。\n",
    "- 配置`Endpoint`资源进行模型监控。\n",
    "- 生成用于特征偏差的合成预测请求。\n",
    "- 等待电子邮件警报通知。\n",
    "- 生成用于漂移的合成预测请求。\n",
    "- 等待电子邮件警报通知。\n",
    "\n",
    "了解更多关于[Vertex AI Model Monitoring介绍](https://cloud.google.com/vertex-ai/docs/model-monitoring/overview)。"
   ]
  },
  {
   "cell_type": "markdown",
   "metadata": {
    "id": "edba71dc9840"
   },
   "source": [
    "### 模型\n",
    "\n",
    "本教程使用一个预训练模型，其中模型工件存储在公共云存储桶中。\n",
    "\n",
    "该模型基于[博客文章](https://cloud.google.com/blog/topics/developers-practitioners/churn-prediction-game-developers-using-google-analytics-4-ga4-and-bigquery-ml)。这个模型的理念是，您的公司有大量描述游戏用户如何与网站互动的日志数据。原始数据包含以下类别的信息：\n",
    "\n",
    "- 身份 - 独特的玩家身份号码\n",
    "- 人口统计特征 - 关于玩家的信息，比如玩家所在的地理区域\n",
    "- 行为特征 - 玩家触发特定游戏事件的次数，比如达到新的级别\n",
    "- 流失倾向 - 这是标签或目标特征，它提供了该玩家可能流失的估计概率，即停止成为活跃玩家。"
   ]
  },
  {
   "cell_type": "markdown",
   "metadata": {
    "id": "t6Cd51FkG09E"
   },
   "source": [
    "### 成本\n",
    "\n",
    "本教程使用谷歌云的计费组件：\n",
    "\n",
    "* Vertex AI\n",
    "* BigQuery\n",
    "* Cloud Storage\n",
    "\n",
    "了解 [Vertex AI 价格](https://cloud.google.com/vertex-ai/pricing) 和 [Cloud Storage 价格](https://cloud.google.com/storage/pricing)，并使用 [定价计算器](https://cloud.google.com/products/calculator/) 基于您的预期使用量生成成本估算。"
   ]
  },
  {
   "cell_type": "markdown",
   "metadata": {
    "id": "f3848df1e5b0"
   },
   "source": [
    "安装\n",
    "\n",
    "安装执行此笔记本所需的包。"
   ]
  },
  {
   "cell_type": "code",
   "execution_count": null,
   "metadata": {
    "id": "b24b232ee039"
   },
   "outputs": [],
   "source": [
    "# Install required packages.\n",
    "! pip3 install --quiet --upgrade google-cloud-aiplatform \\\n",
    "                                 google-cloud-bigquery\n",
    "\n",
    "! gcloud components update --quiet"
   ]
  },
  {
   "cell_type": "markdown",
   "metadata": {
    "id": "restart"
   },
   "source": [
    "只有合作：取消下面的单元格以重新启动内核"
   ]
  },
  {
   "cell_type": "code",
   "execution_count": null,
   "metadata": {
    "id": "D-ZBOjErv5mM"
   },
   "outputs": [],
   "source": [
    "# Automatically restart kernel after installs so that your environment can access the new packages\n",
    "# import IPython\n",
    "\n",
    "# app = IPython.Application.instance()\n",
    "# app.kernel.do_shutdown(True)"
   ]
  },
  {
   "cell_type": "markdown",
   "metadata": {
    "id": "before_you_begin:nogpu"
   },
   "source": [
    "## 在开始之前\n",
    "\n",
    "### 设置您的项目 ID\n",
    "\n",
    "**如果您不知道您的项目 ID**，请尝试以下步骤：\n",
    "* 运行 `gcloud config list`。\n",
    "* 运行 `gcloud projects list`。\n",
    "* 查看支持页面：[查找项目 ID](https://support.google.com/googleapi/answer/7014113)。"
   ]
  },
  {
   "cell_type": "code",
   "execution_count": null,
   "metadata": {
    "id": "set_project_id"
   },
   "outputs": [],
   "source": [
    "PROJECT_ID = \"[your-project-id]\"  # @param {type:\"string\"}\n",
    "\n",
    "# Set the project id\n",
    "! gcloud config set project {PROJECT_ID}"
   ]
  },
  {
   "cell_type": "markdown",
   "metadata": {
    "id": "region"
   },
   "source": [
    "#### 区域\n",
    "\n",
    "您还可以更改 Vertex AI 使用的 `REGION` 变量。了解有关[Vertex AI 区域](https://cloud.google.com/vertex-ai/docs/general/locations)的更多信息。"
   ]
  },
  {
   "cell_type": "code",
   "execution_count": null,
   "metadata": {
    "id": "2dw8q9fdQEH5"
   },
   "outputs": [],
   "source": [
    "REGION = \"us-central1\""
   ]
  },
  {
   "cell_type": "markdown",
   "metadata": {
    "id": "42c8a7c56abd"
   },
   "source": [
    "#### 用户邮箱\n",
    "\n",
    "设置您的用户邮箱地址以接收监控警报。"
   ]
  },
  {
   "cell_type": "code",
   "execution_count": null,
   "metadata": {
    "id": "ce2589511bb6"
   },
   "outputs": [],
   "source": [
    "import os\n",
    "\n",
    "USER_EMAIL = \"[your-user-email]\"  # @param {type:\"string\"}\n",
    "\n",
    "if os.getenv(\"IS_TESTING\"):\n",
    "    USER_EMAIL = \"noreply@google.com\""
   ]
  },
  {
   "cell_type": "markdown",
   "metadata": {
    "id": "gcp_authenticate"
   },
   "source": [
    "### 验证您的 Google Cloud 帐户\n",
    "\n",
    "根据您的 Jupyter 环境，您可能需要手动进行验证。请按照以下相关说明操作。\n",
    "\n",
    "**1. Vertex AI Workbench**\n",
    "* 不需要进行任何操作，因为您已经验证过了。\n",
    "\n",
    "**2. 本地 JupyterLab 实例，请取消注释并运行：**"
   ]
  },
  {
   "cell_type": "code",
   "execution_count": null,
   "metadata": {
    "id": "ce6043da7b33"
   },
   "outputs": [],
   "source": [
    "# ! gcloud auth login"
   ]
  },
  {
   "cell_type": "markdown",
   "metadata": {
    "id": "0367eac06a10"
   },
   "source": [
    "3. 合作，取消注释并运行:"
   ]
  },
  {
   "cell_type": "code",
   "execution_count": null,
   "metadata": {
    "id": "21ad4dbb4a61"
   },
   "outputs": [],
   "source": [
    "# from google.colab import auth\n",
    "# auth.authenticate_user()"
   ]
  },
  {
   "cell_type": "markdown",
   "metadata": {
    "id": "c13224697bfb"
   },
   "source": [
    "查看如何在https://cloud.google.com/storage/docs/gsutil/commands/iam#ch-examples为您的服务帐户授予云存储权限。"
   ]
  },
  {
   "cell_type": "markdown",
   "metadata": {
    "id": "8RJ3_20etd31"
   },
   "source": [
    "### 关于服务账号和权限的注意事项\n",
    "\n",
    "**默认情况下不需要任何配置**，如果遇到任何权限相关问题，请确保上述服务账号具有所需的角色：\n",
    "\n",
    "|服务账号电子邮件|描述|角色|\n",
    "|---|---|---|\n",
    "|PROJECT_NUMBER-compute@developer.gserviceaccount.com|计算引擎默认服务账号|Dataflow管理员，Dataflow工作者，存储管理员，BigQuery管理员，Vertex AI用户|\n",
    "|service-PROJECT_NUMBER@gcp-sa-aiplatform.iam.gserviceaccount.com|AI平台服务代理|Vertex AI服务代理|\n",
    "\n",
    "1. 转到https://console.cloud.google.com/iam-admin/iam。\n",
    "2. 选中“包括提供的Google角色授予”复选框。\n",
    "3. 找到上述电子邮件。\n",
    "4. 授予相应的角色。\n",
    "\n",
    "### 使用不同项目的数据源\n",
    "- 对于BQ数据源，请授予这两个服务账号“BigQuery数据查看器”角色。\n",
    "- 对于CSV数据源，请授予这两个服务账号“存储对象查看器”角色。"
   ]
  },
  {
   "cell_type": "markdown",
   "metadata": {
    "id": "bucket:mbsdk"
   },
   "source": [
    "创建一个云存储桶\n",
    "\n",
    "创建一个存储桶来存储诸如数据集之类的中间产物。"
   ]
  },
  {
   "cell_type": "code",
   "execution_count": null,
   "metadata": {
    "id": "bucket"
   },
   "outputs": [],
   "source": [
    "BUCKET_URI = f\"gs://your-bucket-name-{PROJECT_ID}-unique\"  # @param {type:\"string\"}"
   ]
  },
  {
   "cell_type": "markdown",
   "metadata": {
    "id": "autoset_bucket"
   },
   "source": [
    "只有在您的储存桶尚不存在时才运行以下单元格以创建您的云存储桶。"
   ]
  },
  {
   "cell_type": "code",
   "execution_count": null,
   "metadata": {
    "id": "91c46850b49b"
   },
   "outputs": [],
   "source": [
    "! gsutil mb -l $REGION -p $PROJECT_ID $BUCKET_URI"
   ]
  },
  {
   "cell_type": "markdown",
   "metadata": {
    "id": "a0d294ff6d10"
   },
   "source": [
    "### 导入库"
   ]
  },
  {
   "cell_type": "code",
   "execution_count": null,
   "metadata": {
    "id": "bd7a633296eb"
   },
   "outputs": [],
   "source": [
    "import os\n",
    "\n",
    "import google.cloud.aiplatform as aiplatform\n",
    "from google.cloud import bigquery\n",
    "from google.cloud.aiplatform import model_monitoring"
   ]
  },
  {
   "cell_type": "markdown",
   "metadata": {
    "id": "init_aip:mbsdk,all"
   },
   "source": [
    "### 初始化 Vertex AI SDK 用于 Python\n",
    "\n",
    "为您的项目和相应的存储桶初始化 Vertex AI SDK 用于 Python。"
   ]
  },
  {
   "cell_type": "code",
   "execution_count": null,
   "metadata": {
    "id": "init_aip:mbsdk,all"
   },
   "outputs": [],
   "source": [
    "aiplatform.init(project=PROJECT_ID, location=REGION)"
   ]
  },
  {
   "cell_type": "markdown",
   "metadata": {
    "id": "init_bq"
   },
   "source": [
    "### 创建BigQuery客户端\n",
    "\n",
    "在本教程中，您将使用与用于训练预训练模型的相同的公共BigQuery表中的数据。您将创建一个客户端接口，随后用于访问数据。"
   ]
  },
  {
   "cell_type": "code",
   "execution_count": null,
   "metadata": {
    "id": "init_bq"
   },
   "outputs": [],
   "source": [
    "bqclient = bigquery.Client(project=PROJECT_ID)"
   ]
  },
  {
   "cell_type": "markdown",
   "metadata": {
    "id": "accelerators:training,prediction"
   },
   "source": [
    "设置硬件加速器\n",
    "\n",
    "您可以为预测（例如，GPU）设置硬件加速器，或选择不使用任何硬件加速器（CPU）。硬件加速器可以降低预测请求的延迟响应时间。在选择硬件加速器时，考虑额外成本与延迟之间的权衡。\n",
    "\n",
    "将变量`DEPLOY_GPU/DEPLOY_NGPU`设置为使用支持GPU的容器映像和分配给虚拟机实例（VM）的GPU数量。例如，要使用一个带有4个 Nvidia Tesla K80 GPU 的 GPU 容器映像分配给每个 VM，您应该指定：\n",
    "\n",
    "    (aiplatform.gapic.AcceleratorType.NVIDIA_TESLA_K80, 4)\n",
    "\n",
    "查看[加速器可用的位置](https://cloud.google.com/vertex-ai/docs/general/locations#accelerators)。\n",
    "\n",
    "否则，指定`(None, None)`以使用在 CPU 上运行的容器映像。"
   ]
  },
  {
   "cell_type": "code",
   "execution_count": null,
   "metadata": {
    "id": "xd5PLXDTlugv"
   },
   "outputs": [],
   "source": [
    "GPU = False\n",
    "if GPU:\n",
    "    DEPLOY_GPU, DEPLOY_NGPU = (aiplatform.gapic.AcceleratorType.NVIDIA_TESLA_K80, 1)\n",
    "else:\n",
    "    DEPLOY_GPU, DEPLOY_NGPU = (None, None)"
   ]
  },
  {
   "cell_type": "markdown",
   "metadata": {
    "id": "container:training,prediction"
   },
   "source": [
    "设置预先构建的容器\n",
    "\n",
    "为预测设置预先构建的Docker容器镜像。\n",
    "\n",
    "有关最新列表，请查看[用于预测的预先构建容器](https://cloud.google.com/ai-platform-unified/docs/predictions/pre-built-containers)。"
   ]
  },
  {
   "cell_type": "code",
   "execution_count": null,
   "metadata": {
    "id": "1u1mr18jlugv"
   },
   "outputs": [],
   "source": [
    "if GPU:\n",
    "    DEPLOY_VERSION = \"tf2-gpu.2-5\"\n",
    "else:\n",
    "    DEPLOY_VERSION = \"tf2-cpu.2-5\"\n",
    "\n",
    "DEPLOY_IMAGE = \"{}-docker.pkg.dev/vertex-ai/prediction/{}:latest\".format(\n",
    "    REGION.split(\"-\")[0], DEPLOY_VERSION\n",
    ")\n",
    "\n",
    "print(\"Deployment:\", DEPLOY_IMAGE, DEPLOY_GPU, DEPLOY_NGPU)"
   ]
  },
  {
   "cell_type": "markdown",
   "metadata": {
    "id": "machine:training,prediction"
   },
   "source": [
    "#### 设置机器类型\n",
    "\n",
    "接下来，设置用于训练和预测的机器类型。\n",
    "\n",
    "- 将变量 `DEPLOY_COMPUTE` 设置为配置预测的计算资源。\n",
    " - `机器类型`\n",
    "     - `n1-standard`: 每个 vCPU 3.75GB 的内存\n",
    "     - `n1-highmem`: 每个 vCPU 6.5GB 的内存\n",
    "     - `n1-highcpu`: 每个 vCPU 0.9GB 的内存\n",
    " - `vCPUs`: \\[2, 4, 8, 16, 32, 64, 96 \\] 的数字\n",
    "\n",
    "*备注：您也可以使用 n2 和 e2 机器类型进行训练和部署，但它们不支持GPU*。"
   ]
  },
  {
   "cell_type": "code",
   "execution_count": null,
   "metadata": {
    "id": "YAXwbqKKlugv"
   },
   "outputs": [],
   "source": [
    "MACHINE_TYPE = \"n1-standard\"\n",
    "\n",
    "VCPU = \"4\"\n",
    "TRAIN_COMPUTE = MACHINE_TYPE + \"-\" + VCPU\n",
    "print(\"Train machine type\", TRAIN_COMPUTE)\n",
    "\n",
    "MACHINE_TYPE = \"n1-standard\"\n",
    "\n",
    "VCPU = \"4\"\n",
    "DEPLOY_COMPUTE = MACHINE_TYPE + \"-\" + VCPU\n",
    "print(\"Deploy machine type\", DEPLOY_COMPUTE)"
   ]
  },
  {
   "cell_type": "markdown",
   "metadata": {
    "id": "gar_enable_api"
   },
   "source": [
    "### 启用 Artifact Registry API\n",
    "\n",
    "您必须为您的项目启用Artifact Registry API服务。\n",
    "\n",
    "了解更多关于[启用服务](https://cloud.google.com/artifact-registry/docs/enable-service)。"
   ]
  },
  {
   "cell_type": "code",
   "execution_count": null,
   "metadata": {
    "id": "gar_enable_api"
   },
   "outputs": [],
   "source": [
    "! gcloud services enable artifactregistry.googleapis.com\n",
    "\n",
    "if os.getenv(\"IS_TESTING\"):\n",
    "    ! sudo apt-get update --yes && sudo apt-get --only-upgrade --yes install google-cloud-sdk-cloud-run-proxy google-cloud-sdk-harbourbridge google-cloud-sdk-cbt google-cloud-sdk-gke-gcloud-auth-plugin google-cloud-sdk-kpt google-cloud-sdk-local-extract google-cloud-sdk-minikube google-cloud-sdk-app-engine-java google-cloud-sdk-app-engine-go google-cloud-sdk-app-engine-python google-cloud-sdk-spanner-emulator google-cloud-sdk-bigtable-emulator google-cloud-sdk-nomos google-cloud-sdk-package-go-module google-cloud-sdk-firestore-emulator kubectl google-cloud-sdk-datastore-emulator google-cloud-sdk-app-engine-python-extras google-cloud-sdk-cloud-build-local google-cloud-sdk-kubectl-oidc google-cloud-sdk-anthos-auth google-cloud-sdk-app-engine-grpc google-cloud-sdk-pubsub-emulator google-cloud-sdk-datalab google-cloud-sdk-skaffold google-cloud-sdk google-cloud-sdk-terraform-tools google-cloud-sdk-config-connector\n",
    "    ! gcloud components update --quiet"
   ]
  },
  {
   "cell_type": "markdown",
   "metadata": {
    "id": "gar_create_repo"
   },
   "source": [
    "## 创建一个私有的Docker存储库\n",
    "\n",
    "您的第一步是在Google Artifact Registry中创建自己的Docker存储库。\n",
    "\n",
    "1. 运行`gcloud artifacts repositories create`命令，在您的区域创建一个新的Docker存储库，描述为\"docker存储库\"。\n",
    "\n",
    "2. 运行`gcloud artifacts repositories list`命令来验证您的存储库是否已创建。"
   ]
  },
  {
   "cell_type": "code",
   "execution_count": null,
   "metadata": {
    "id": "gar_create_repo"
   },
   "outputs": [],
   "source": [
    "PRIVATE_REPO = \"my-docker-repo-unique\"\n",
    "\n",
    "! gcloud services enable artifactregistry.googleapis.com\n",
    "\n",
    "! gcloud artifacts repositories create {PRIVATE_REPO} --repository-format=docker --location={REGION} --description=\"Docker repository\"\n",
    "\n",
    "! gcloud artifacts repositories list"
   ]
  },
  {
   "cell_type": "markdown",
   "metadata": {
    "id": "gar_auth"
   },
   "source": [
    "### 配置对您的私有存储库的身份验证\n",
    "\n",
    "在推送或拉取容器镜像之前，配置Docker使用`gcloud`命令行工具来对您所在区域的`Artifact Registry`进行身份验证请求。"
   ]
  },
  {
   "cell_type": "code",
   "execution_count": null,
   "metadata": {
    "id": "gar_auth"
   },
   "outputs": [],
   "source": [
    "! gcloud auth configure-docker {REGION}-docker.pkg.dev --quiet"
   ]
  },
  {
   "cell_type": "markdown",
   "metadata": {
    "id": "container:tfserving"
   },
   "source": [
    "容器（Docker）用于提供的镜像\n",
    "\n",
    "设置用于提供预测的TensorFlow Serving Docker容器镜像。\n",
    "\n",
    "1. 从Docker Hub拉取相应的CPU或GPU Docker镜像，用于TF Serving。\n",
    "2. 为镜像创建一个标签，以在Artifact Registry中注册。\n",
    "3. 在Artifact Registry中注册该镜像。\n",
    "\n",
    "了解更多关于[TensorFlow Serving](https://www.tensorflow.org/tfx/serving/docker)。"
   ]
  },
  {
   "cell_type": "code",
   "execution_count": null,
   "metadata": {
    "id": "container:tfserving"
   },
   "outputs": [],
   "source": [
    "import sys\n",
    "\n",
    "IS_COLAB = \"google.colab\" in sys.modules\n",
    "\n",
    "# Executes in Vertex AI Workbench\n",
    "if DEPLOY_GPU:\n",
    "    DEPLOY_IMAGE = (\n",
    "        f\"{REGION}-docker.pkg.dev/\"\n",
    "        + PROJECT_ID\n",
    "        + f\"/{PRIVATE_REPO}\"\n",
    "        + \"/tf_serving:gpu\"\n",
    "    )\n",
    "    TF_IMAGE = \"tensorflow/serving:2.5.4-gpu\"\n",
    "else:\n",
    "    DEPLOY_IMAGE = (\n",
    "        f\"{REGION}-docker.pkg.dev/\"\n",
    "        + PROJECT_ID\n",
    "        + f\"/{PRIVATE_REPO}\"\n",
    "        + \"/tf_serving:cpu\"\n",
    "    )\n",
    "    TF_IMAGE = \"tensorflow/serving:2.5.4\"\n",
    "\n",
    "if not IS_COLAB:\n",
    "    if DEPLOY_GPU:\n",
    "        ! sudo docker pull tensorflow/serving:2.5.4-gpu\n",
    "    else:\n",
    "        ! sudo docker pull tensorflow/serving:2.5.4\n",
    "\n",
    "    ! docker tag $TF_IMAGE $DEPLOY_IMAGE\n",
    "    ! docker push $DEPLOY_IMAGE\n",
    "else:\n",
    "    # install docker daemon\n",
    "    ! apt-get -qq install docker.io\n",
    "\n",
    "print(\"Deployment:\", DEPLOY_IMAGE, DEPLOY_GPU, DEPLOY_NGPU)"
   ]
  },
  {
   "cell_type": "markdown",
   "metadata": {
    "id": "6c14c96973c3"
   },
   "source": [
    "在谷歌Colab中执行"
   ]
  },
  {
   "cell_type": "code",
   "execution_count": null,
   "metadata": {
    "id": "2450b47cb86f"
   },
   "outputs": [],
   "source": [
    "%%bash -s $IS_COLAB $DEPLOY_IMAGE $TF_IMAGE\n",
    "if [ $1 == \"False\" ]; then\n",
    "  exit 0\n",
    "fi\n",
    "set -x\n",
    "dockerd -b none --iptables=0 -l warn &\n",
    "for i in $(seq 5); do [ ! -S \"/var/run/docker.sock\" ] && sleep 2 || break; done\n",
    "docker pull $3\n",
    "docker tag tensorflow/serving $2\n",
    "docker push $2\n",
    "kill $(jobs -p)"
   ]
  },
  {
   "cell_type": "markdown",
   "metadata": {
    "id": "b890e02cb4b0"
   },
   "source": [
    "## Vertex AI模型监控简介\n",
    "\n",
    "Vertex AI模型监控支持AutoML表格模型和自定义表格模型。您可以监测传入预测请求中的特征的偏斜和漂移检测，或者监测特征归因（可解释AI）在传出预测响应中的偏斜和漂移检测 - 也就是说，对于特征贡献到输出（预测）的分布进行监测。\n",
    "\n",
    "以下是启用模型监控的基本步骤：\n",
    "\n",
    "1. 将`Vertex AI`的AutoML或自定义表格模型部署到`Vertex AI Endpoint`。\n",
    "2. 配置模型监控规范。\n",
    "3. 将模型监控规范上传到`Vertex AI Endpoint`。\n",
    "4. 上传或自动生成`输入模式`以进行解析。\n",
    "5. 对于特征偏斜检测，上传训练数据以自动生成特征分布。\n",
    "6. 对于特征归因，上传相应的`Vertex AI解释性`规范。\n",
    "\n",
    "配置完成后，您可以启用/禁用监控，更改警报并更新模型监控配置。\n",
    "\n",
    "当启用模型监控时，采样的传入预测请求将被记录在BigQuery表中。然后，分析记录请求中包含的输入特征值，以检测偏斜或漂移的特征在指定的间隔基础上。您设置一个采样率来监控模型的生产输入的子集，并设置监控间隔。\n",
    "\n",
    "模型监控服务需要知道如何解析特征值，这被称为输入模式。对于AutoML表格模型，输入模式会自动生成。对于自定义表格模型，服务会尝试从前1000个预测请求中自动推导输入模式。另外，您也可以上传输入模式。\n",
    "\n",
    "对于偏斜检测，监控服务需要训练数据中值的统计分布基线。对于AutoML表格模型，这是自动生成的。对于自定义表格模型，则需将训练数据上传到服务，并让服务自动推导分布。\n",
    "\n",
    "对于特征归因偏斜和漂移检测，需要为自定义表格模型启用`Vertex AI解释性`。对于AutoML模型，`Vertex AI解释性`会自动启用。\n",
    "\n",
    "了解更多关于[Vertex AI模型监控简介](https://cloud.google.com/vertex-ai/docs/model-monitoring/overview)。"
   ]
  },
  {
   "cell_type": "markdown",
   "metadata": {
    "id": "b92f7ea5007d"
   },
   "source": [
    "### 复制 TensorFlow Serving 的模型文件\n",
    "\n",
    "*注意:* 对于 TF Serving，MODEL_DIR 必须以一个数字结尾的子文件夹，例如，1。"
   ]
  },
  {
   "cell_type": "code",
   "execution_count": null,
   "metadata": {
    "id": "f071f9d872bf"
   },
   "outputs": [],
   "source": [
    "MODEL_ARTIFACT_URI = \"gs://mco-mm/churn\"\n",
    "MODEL_DIR = BUCKET_URI + \"/model/1\"\n",
    "\n",
    "! gsutil cp -r $MODEL_ARTIFACT_URI $MODEL_DIR"
   ]
  },
  {
   "cell_type": "markdown",
   "metadata": {
    "id": "9bf06cd476e9"
   },
   "source": [
    "### 将模型工件上传为 `Vertex AI Model` 资源\n",
    "\n",
    "首先，使用 `upload()` 方法将预训练的自定义表格模型工件作为 `Vertex AI Model` 资源上传，参数如下：\n",
    "\n",
    "- `display_name`：`Model` 资源的人类可读名称。\n",
    "- `artifact_uri`：模型工件的云存储位置。\n",
    "- `serving_container_image`：在将模型部署到 `Vertex AI` 时要使用的服务容器镜像。\n",
    "- `serving_container_command`：要启动的服务二进制文件（HTTP 服务器）。\n",
    "- `serving_container_args`：要传递给服务二进制文件的参数。对于 TensorFlow Serving，需要的参数包括：\n",
    "  - `--model_name`：要分配给模型的人类可读名称。\n",
    "  - `--model_base_name`：要在容器中存储模型工件的位置。Vertex 服务将变量 $(AIP_STORAGE_URI) 设置为服务在容器中安装模型工件的位置。\n",
    "  - `--rest_api_port`：用于发送基于 REST 的预测请求的端口。可以是 8080 或 8501（TensorFlow Serving 的默认值）。\n",
    "  - `--port`：用于发送基于 gRPC 的预测请求的端口。对于 TensorFlow Serving，应将端口设置为 8500。\n",
    "- `serving_container_health_route`：服务定期ping以验证服务二进制文件是否正在运行的URL。对于 TensorFlow Serving，这将是 /v1/models/\\<model_name\\>。\n",
    "- `serving_container_predict_route`：用于将基于 REST 的预测请求路由到服务的 URL。对于 TF Serving，这将是 /v1/models/[model_name]:predict。\n",
    "- `serving_container_ports`：HTTP 服务器监听请求的端口列表。\n",
    "- `sync`：是否等待进程完成，或立即返回（异步）。\n",
    "\n",
    "将模型上传到 Vertex Model 资源会返回一个长时间运行的操作，因为可能需要一些时间。\n",
    "\n",
    "*注意：* 你需要删除模型路径的末尾数字子文件夹（例如，/1）以进行上传。Vertex 服务将上传模型工件子文件夹上面的父文件夹，这是 TensorFlow Serving 二进制文件所期望的。\n",
    "\n",
    "*备注：* 当将模型工件上传到 `Vertex AI Model` 资源时，需要指定相应的部署容器镜像。"
   ]
  },
  {
   "cell_type": "code",
   "execution_count": null,
   "metadata": {
    "id": "0193f247e216"
   },
   "outputs": [],
   "source": [
    "MODEL_NAME = \"churn\"\n",
    "\n",
    "model = aiplatform.Model.upload(\n",
    "    display_name=\"churn\",\n",
    "    artifact_uri=MODEL_DIR[:-2],\n",
    "    serving_container_image_uri=DEPLOY_IMAGE,\n",
    "    serving_container_health_route=\"/v1/models/\" + MODEL_NAME,\n",
    "    serving_container_predict_route=\"/v1/models/\" + MODEL_NAME + \":predict\",\n",
    "    serving_container_command=[\"/usr/bin/tensorflow_model_server\"],\n",
    "    serving_container_args=[\n",
    "        \"--model_name=\" + MODEL_NAME,\n",
    "        \"--model_base_path=\" + \"$(AIP_STORAGE_URI)\",\n",
    "        \"--rest_api_port=8080\",\n",
    "        \"--port=8500\",\n",
    "        \"--file_system_poll_wait_seconds=31540000\",\n",
    "    ],\n",
    "    serving_container_ports=[8080],\n",
    "    sync=True,\n",
    ")\n",
    "\n",
    "print(model)"
   ]
  },
  {
   "cell_type": "markdown",
   "metadata": {
    "id": "1069c6f0eba8"
   },
   "source": [
    "### 将`Vertex AI Model`资源部署到`Vertex AI Endpoint`资源\n",
    "\n",
    "接下来，您可以使用`deploy()`方法将您的`Vertex AI Model`资源部署到`Vertex AI Endpoint`资源，使用以下参数：\n",
    "\n",
    "- `deploy_model_display`：部署模型的人类可读名称。\n",
    "- `machine_type`：每个VM节点实例的机器类型。\n",
    "- `min_replica_count`：用于自动扩展的最小节点数量。\n",
    "- `max_replica_count`：用于自动扩展的最大节点数量。\n",
    "- `accelerator_type`：每个预配节点的GPU加速器类型（如果有）。\n",
    "- `accelerator_count`：每个预配节点的GPU加速器数量（如果有）。"
   ]
  },
  {
   "cell_type": "code",
   "execution_count": null,
   "metadata": {
    "id": "b883402dda8c"
   },
   "outputs": [],
   "source": [
    "MIN_NODES = 1\n",
    "MAX_NODES = 1\n",
    "\n",
    "if GPU:\n",
    "    endpoint = model.deploy(\n",
    "        deployed_model_display_name=\"churn\",\n",
    "        machine_type=DEPLOY_COMPUTE,\n",
    "        min_replica_count=MIN_NODES,\n",
    "        max_replica_count=MAX_NODES,\n",
    "        accelerator_type=DEPLOY_GPU.name,\n",
    "        accelerator_count=DEPLOY_NGPU,\n",
    "    )\n",
    "else:\n",
    "    endpoint = model.deploy(\n",
    "        deployed_model_display_name=\"churn\",\n",
    "        machine_type=DEPLOY_COMPUTE,\n",
    "        min_replica_count=MIN_NODES,\n",
    "        max_replica_count=MAX_NODES,\n",
    "    )"
   ]
  },
  {
   "cell_type": "markdown",
   "metadata": {
    "id": "ba4a2924aec6"
   },
   "source": [
    "配置监控任务\n",
    "\n",
    "配置监控任务包括以下规范：\n",
    "\n",
    "- `alert_config`: 发送监控警报的电子邮件地址。\n",
    "- `schedule_config`: 分析预测的时间窗口。\n",
    "- `logging_sampling_strategy`: 采样预测请求的速率。\n",
    "- `drift_config`: 要监控的特征和漂移阈值。\n",
    "- `skew_config`: 要监控的特征和偏差阈值。"
   ]
  },
  {
   "cell_type": "markdown",
   "metadata": {
    "id": "87abd93294c4"
   },
   "source": [
    "### 配置警报规范\n",
    "\n",
    "首先，您可以使用以下设置配置`alerting_config`规范：\n",
    "\n",
    "- `user_emails`：一个或多个要发送警报的电子邮件列表。\n",
    "- `enable_logging`：将检测到的异常流向Cloud Logging。默认为False。"
   ]
  },
  {
   "cell_type": "code",
   "execution_count": null,
   "metadata": {
    "id": "be6137df0086"
   },
   "outputs": [],
   "source": [
    "# Create alerting configuration.\n",
    "alerting_config = model_monitoring.EmailAlertConfig(\n",
    "    user_emails=[USER_EMAIL], enable_logging=True\n",
    ")"
   ]
  },
  {
   "cell_type": "markdown",
   "metadata": {
    "id": "66c7283276bc"
   },
   "source": [
    "### 配置监控间隔规范\n",
    "\n",
    "接下来，您需要使用以下设置配置`schedule_config`规范：\n",
    "\n",
    "- `monitor_interval`: 设置模型监控作业的调度间隔，单位为小时。最小时间间隔为1小时。"
   ]
  },
  {
   "cell_type": "code",
   "execution_count": null,
   "metadata": {
    "id": "1230b92d1eed"
   },
   "outputs": [],
   "source": [
    "# Monitoring Interval\n",
    "MONITOR_INTERVAL = 1  # @param {type:\"number\"}\n",
    "\n",
    "# Create schedule configuration\n",
    "schedule_config = model_monitoring.ScheduleConfig(monitor_interval=MONITOR_INTERVAL)"
   ]
  },
  {
   "cell_type": "markdown",
   "metadata": {
    "id": "3bd8dd304191"
   },
   "source": [
    "### 配置抽样规范\n",
    "\n",
    "接下来，您将使用以下设置配置 `logging_sampling_strategy` 规范：\n",
    "\n",
    "- `sample_rate`: 随机抽样进行监控预测请求的比例（在 0 到 1 之间）。所选样本将被记录到 BigQuery 表中。"
   ]
  },
  {
   "cell_type": "code",
   "execution_count": null,
   "metadata": {
    "id": "3688c245a0e9"
   },
   "outputs": [],
   "source": [
    "# Sampling rate (optional, default=.8)\n",
    "SAMPLE_RATE = 0.5  # @param {type:\"number\"}\n",
    "\n",
    "# Create sampling configuration\n",
    "logging_sampling_strategy = model_monitoring.RandomSampleConfig(sample_rate=SAMPLE_RATE)"
   ]
  },
  {
   "cell_type": "markdown",
   "metadata": {
    "id": "c1bc3bc8992f"
   },
   "source": [
    "### 配置漂移检测规范\n",
    "\n",
    "接下来，您可以使用以下设置配置`drift_config`规范：\n",
    "\n",
    "- `drift_thresholds`：一个键/值对字典，其中键是要监视漂移的输入特征，值是检测阈值。如果未指定，特征的默认漂移阈值为0.3（30%）。\n",
    "\n",
    "*注意：*启用漂移检测是可选的。"
   ]
  },
  {
   "cell_type": "code",
   "execution_count": null,
   "metadata": {
    "id": "128bdc05cb5b"
   },
   "outputs": [],
   "source": [
    "DRIFT_THRESHOLD_VALUE = 0.05\n",
    "\n",
    "DRIFT_THRESHOLDS = {\n",
    "    \"country\": DRIFT_THRESHOLD_VALUE,\n",
    "    \"cnt_user_engagement\": DRIFT_THRESHOLD_VALUE,\n",
    "}\n",
    "\n",
    "drift_config = model_monitoring.DriftDetectionConfig(drift_thresholds=DRIFT_THRESHOLDS)"
   ]
  },
  {
   "cell_type": "markdown",
   "metadata": {
    "id": "651b576aa037"
   },
   "source": [
    "### 配置偏斜检测规范\n",
    "\n",
    "接下来，您可以使用以下设置配置`skew_config`规范：\n",
    "\n",
    "- `data_source`: 原始训练数据集的数据源。数据源的格式默认为BigQuery表格。否则，必须将设置`data_format`设置为以下值之一。数据的位置必须是Cloud Storage位置。\n",
    "  - `csv`: \n",
    "  - `jsonl`:\n",
    "  - `tf-record`:\n",
    "- `skew_thresholds`: 一个键/值对的字典，其中键是监测偏斜的输入特征。值是检测阈值。当未指定时，默认的特征偏斜阈值为0.3（30%）。\n",
    "- `target_field`: 训练数据集的目标标签\n",
    "\n",
    "*备注:* 启用偏斜检测是可选的。"
   ]
  },
  {
   "cell_type": "code",
   "execution_count": null,
   "metadata": {
    "id": "4cb098c74d2c"
   },
   "outputs": [],
   "source": [
    "# URI to training dataset.\n",
    "DATASET_BQ_URI = \"bq://mco-mm.bqmlga4.train\"  # @param {type:\"string\"}\n",
    "# Prediction target column name in training dataset.\n",
    "TARGET = \"churned\"\n",
    "\n",
    "SKEW_THRESHOLD_VALUE = 0.5\n",
    "\n",
    "SKEW_THRESHOLDS = {\n",
    "    \"country\": SKEW_THRESHOLD_VALUE,\n",
    "    \"cnt_user_engagement\": SKEW_THRESHOLD_VALUE,\n",
    "}\n",
    "\n",
    "skew_config = model_monitoring.SkewDetectionConfig(\n",
    "    data_source=DATASET_BQ_URI, skew_thresholds=SKEW_THRESHOLDS, target_field=TARGET\n",
    ")"
   ]
  },
  {
   "cell_type": "markdown",
   "metadata": {
    "id": "8b6d5bd71ac9"
   },
   "source": [
    "### 组装客观规范\n",
    "\n",
    "最后，您要使用以下设置组装客观规范 `objective_config`：\n",
    "\n",
    "- `skew_detection_config`：（可选）偏斜检测配置的规范。\n",
    "- `drift_detection_config`：（可选）漂移检测配置的规范。\n",
    "- `explanation_config`：（可选）启用监控特征归因时解释配置的规范。"
   ]
  },
  {
   "cell_type": "code",
   "execution_count": null,
   "metadata": {
    "id": "d353205a8aec"
   },
   "outputs": [],
   "source": [
    "objective_config = model_monitoring.ObjectiveConfig(\n",
    "    skew_detection_config=skew_config,\n",
    "    drift_detection_config=drift_config,\n",
    "    explanation_config=None,\n",
    ")"
   ]
  },
  {
   "cell_type": "markdown",
   "metadata": {
    "id": "8ac30ffa72b5"
   },
   "source": [
    "### 创建输入模式\n",
    "\n",
    "监控服务需要了解模型的特征和数据类型的特征输入，这被称为`输入模式`。`输入模式`可以是以下之一\n",
    " - 预加载到监控服务中。\n",
    " - 在监控服务接收到前1000个预测实例后自动生成。\n",
    "\n",
    "在本教程中，您将预加载`输入模式`。\n",
    "\n",
    "#### 创建预定义的输入模式\n",
    "\n",
    "预定义的`输入模式`被指定为一个YAML文件。在本示例中，您需要检索用于训练数据的BigQuery模式，其中包括特征名称和数据类型，以生成YAML规范。预定义的`输入模式`必须加载到Cloud Storage位置。\n",
    "\n",
    "了解更多关于[用于解析输入的自定义实例模式](https://cloud.google.com/vertex-ai/docs/model-monitoring/overview#custom-input-schemas)."
   ]
  },
  {
   "cell_type": "code",
   "execution_count": null,
   "metadata": {
    "id": "59becb56ad34"
   },
   "outputs": [],
   "source": [
    "# Get the BQ table\n",
    "\n",
    "table = bigquery.TableReference.from_string(DATASET_BQ_URI[5:])\n",
    "bq_table = bqclient.get_table(table)\n",
    "\n",
    "yaml = \"\"\"type: object\n",
    "properties:\n",
    "\"\"\"\n",
    "\n",
    "schema = bq_table.schema\n",
    "for feature in schema:\n",
    "    if feature.name == TARGET:\n",
    "        continue\n",
    "    if feature.field_type == \"STRING\":\n",
    "        f_type = \"string\"\n",
    "    else:\n",
    "        f_type = \"integer\"\n",
    "    yaml += f\"\"\"  {feature.name}:\n",
    "    type: {f_type}\n",
    "\"\"\"\n",
    "\n",
    "yaml += \"\"\"required:\n",
    "\"\"\"\n",
    "for feature in schema:\n",
    "    if feature.name == TARGET:\n",
    "        continue\n",
    "    yaml += f\"\"\"- {feature.name}\n",
    "\"\"\"\n",
    "\n",
    "print(yaml)\n",
    "\n",
    "with open(\"schema.yaml\", \"w\") as f:\n",
    "    f.write(yaml)\n",
    "\n",
    "! gsutil cp schema.yaml {BUCKET_URI}/schema.yaml"
   ]
  },
  {
   "cell_type": "markdown",
   "metadata": {
    "id": "82c7e7af7163"
   },
   "source": [
    "### 创建监控任务\n",
    "\n",
    "您可以使用`aiplatform.ModelDeploymentMonitoringJob.create()`方法，根据监控规范创建监控任务，其中包括以下参数：\n",
    "\n",
    "- `display_name`：监控任务的可读名称。\n",
    "- `project`：项目 ID。\n",
    "- `region`：地区。\n",
    "- `endpoint`：要启用监控的 `Vertex AI Endpoint` 的完全限定资源名称。\n",
    "- `logging_sampling_strategy`：采样配置的规范。\n",
    "- `schedule_config`：调度配置的规范。\n",
    "- `alert_config`：警报配置的规范。\n",
    "- `objective_configs`：目标配置的规范。\n",
    "- `analysis_instance_schema_uri`：包含 `输入模式` 的 YAML 文件的位置。"
   ]
  },
  {
   "cell_type": "code",
   "execution_count": null,
   "metadata": {
    "id": "4b8dd381c5c3"
   },
   "outputs": [],
   "source": [
    "monitoring_job = aiplatform.ModelDeploymentMonitoringJob.create(\n",
    "    display_name=\"churn\",\n",
    "    project=PROJECT_ID,\n",
    "    location=REGION,\n",
    "    endpoint=endpoint,\n",
    "    logging_sampling_strategy=logging_sampling_strategy,\n",
    "    schedule_config=schedule_config,\n",
    "    alert_config=alerting_config,\n",
    "    objective_configs=objective_config,\n",
    "    analysis_instance_schema_uri=f\"{BUCKET_URI}/schema.yaml\",\n",
    ")\n",
    "\n",
    "print(monitoring_job)"
   ]
  },
  {
   "cell_type": "markdown",
   "metadata": {
    "id": "3c6d3b620264"
   },
   "source": [
    "#### 监控作业的电子邮件通知。\n",
    "\n",
    "监控作业已启用，将向警报配置中的电子邮件地址发送电子邮件通知。\n",
    "\n",
    "内容将显示如下：\n",
    "\n",
    "<blockquote>\n",
    "您好，Vertex AI客户，\n",
    "\n",
    "您收到此邮件是因为您正在使用Vertex AI模型监控服务。\n",
    "此邮件是要通知您，我们已收到您设置漂移或偏斜检测的请求，针对下面列出的预测端点。从现在开始，传入的预测请求将被抽样并记录以供分析。\n",
    "原始请求和响应将从预测服务中收集并保存在bq://[您的项目ID].model_deployment_monitoring_[端点ID].serving_predict中。\n",
    "</blockquote>"
   ]
  },
  {
   "cell_type": "markdown",
   "metadata": {
    "id": "dcc4aae9e20f"
   },
   "source": [
    "#### 监控作业状态\n",
    "\n",
    "在启动`Vertex AI模型监控`作业后，直到计算出`偏斜分布基线`之前，作业会处于`PENDING`状态。监控服务将启动一个批处理作业，从训练数据中生成分布基线。\n",
    "\n",
    "一旦基线分布生成，监控作业将进入`OFFLINE`状态。每个时间间隔基础上 - 例如，每小时一次，监控作业将进入`RUNNING`状态，同时分析采样数据。完成后，它将返回到`OFFLINE`状态，等待下一次预定的分析。"
   ]
  },
  {
   "cell_type": "code",
   "execution_count": null,
   "metadata": {
    "id": "f640fb7f10cd"
   },
   "outputs": [],
   "source": [
    "jobs = monitoring_job.list(filter=\"display_name=churn\")\n",
    "job = jobs[0]\n",
    "print(job.state)"
   ]
  },
  {
   "cell_type": "markdown",
   "metadata": {
    "id": "e385d103aba6"
   },
   "source": [
    "### 基线分布的自动生成\n",
    "\n",
    "接下来，监控服务会创建一个批处理作业来分析训练数据，生成基线分布。一旦完成，监控服务将开始在指定的间隔进行监控。"
   ]
  },
  {
   "cell_type": "code",
   "execution_count": null,
   "metadata": {
    "id": "670b5bc98c2a"
   },
   "outputs": [],
   "source": [
    "import time\n",
    "\n",
    "# Pause a bit for the baseline distribution to be calculated\n",
    "if os.getenv(\"IS_TESTING\"):\n",
    "    time.sleep(300)"
   ]
  },
  {
   "cell_type": "markdown",
   "metadata": {
    "id": "26bac245f6c5"
   },
   "source": [
    "### 生成用于偏斜检测的合成预测请求\n",
    "\n",
    "接下来，您从BigQuery训练表中提取前1000个实例用于预测请求。您修改数据（合成）以触发预测请求中来自训练分布与服务分布的偏斜检测，具体如下：\n",
    "\n",
    "- `country`：将所有值设为加拿大。"
   ]
  },
  {
   "cell_type": "code",
   "execution_count": null,
   "metadata": {
    "id": "cb26c3dea306"
   },
   "outputs": [],
   "source": [
    "# Download the table.\n",
    "table = bigquery.TableReference.from_string(DATASET_BQ_URI[5:])\n",
    "\n",
    "rows = bqclient.list_rows(table, max_results=1000)\n",
    "\n",
    "instances = []\n",
    "for row in rows:\n",
    "    instance = {}\n",
    "    for key, value in row.items():\n",
    "        if key == TARGET:\n",
    "            continue\n",
    "        if value is None:\n",
    "            value = \"\"\n",
    "        if key == \"country\":\n",
    "            value = \"Canada\"\n",
    "        instance[key] = value\n",
    "    instances.append(instance)\n",
    "\n",
    "print(len(instances))"
   ]
  },
  {
   "cell_type": "markdown",
   "metadata": {
    "id": "6d002569dadc"
   },
   "source": [
    "### 发送预测请求\n",
    "\n",
    "接下来，您将使用`predict()`方法向您的`Vertex AI Endpoint`资源发送1000个预测请求。"
   ]
  },
  {
   "cell_type": "code",
   "execution_count": null,
   "metadata": {
    "id": "b2d69d89cd66"
   },
   "outputs": [],
   "source": [
    "for instance in instances:\n",
    "    response = endpoint.predict(instances=[instance])\n",
    "\n",
    "prediction = response[0]\n",
    "\n",
    "# print the prediction for the first instance\n",
    "print(prediction[0])"
   ]
  },
  {
   "cell_type": "markdown",
   "metadata": {
    "id": "2b5859ea4ae9"
   },
   "source": [
    "### 记录抽样请求\n",
    "\n",
    "一旦监控服务启动了，抽样预测请求将被记录到Cloud Storage中。在下一个监控间隔中，抽样预测将被复制到BigQuery日志表中。一旦条目出现在BigQuery表中，监控服务将分析抽样数据。\n",
    "\n",
    "接下来，您需要等待第一批被记录的条目出现在用于记录预测样本的BigQuery表中。由于您发送了1000个预测请求，抽样率为50%，您应该看到大约500个条目。"
   ]
  },
  {
   "cell_type": "code",
   "execution_count": null,
   "metadata": {
    "id": "bd177a8decbb"
   },
   "outputs": [],
   "source": [
    "while True:\n",
    "    time.sleep(180)\n",
    "\n",
    "    ENDPOINT_ID = endpoint.resource_name.split(\"/\")[-1]\n",
    "\n",
    "    table = bigquery.TableReference.from_string(\n",
    "        f\"{PROJECT_ID}.model_deployment_monitoring_{ENDPOINT_ID}.serving_predict\"\n",
    "    )\n",
    "    rows = bqclient.list_rows(table)\n",
    "    print(rows.total_rows)\n",
    "    if rows.total_rows > 0:\n",
    "        break"
   ]
  },
  {
   "cell_type": "markdown",
   "metadata": {
    "id": "aeaea3a7a194"
   },
   "source": [
    "### 监控过程中的偏斜检测\n",
    "\n",
    "特征输入的偏斜检测将在下一个监控间隔中发生。在本教程中，您将监控间隔设置为一小时。因此，大约一个小时后，您的监控作业将从“离线”状态变为“运行”状态。在运行过程中，它将分析在此间隔期间从预测中记录的采样表，并将其与基线分布进行比较。\n",
    "\n",
    "分析完成后，监控作业将通过电子邮件通知检测到的偏斜，本例中为“国家”，并且监控作业将进入“离线”状态，直到下一个间隔。\n",
    "\n",
    "#### 等待监控间隔\n",
    "\n",
    "从监控间隔上的分析开始到您收到电子邮件警报可能需要多达40分钟。\n",
    "\n",
    "内容将如下所示\n",
    "\n",
    "<blockquote>\n",
    "   你好，Vertex AI 客户，\n",
    "\n",
    "您收到此邮件是因为您订阅了Vertex AI Model Monitoring服务。\n",
    "此邮件仅是通知您在部署的模型中检测到了一些异常，并可能需要您的关注。\n",
    "\n",
    "\n",
    "基本信息：\n",
    "\n",
    "端点名称：projects/[your-project-id]/locations/us-central1/endpoints/3315907167046860800\n",
    "监控作业：projects/[your-project-id]/locations/us-central1/modelDeploymentMonitoringJobs/8672170640054157312\n",
    "统计和异常根路径（Google Cloud存储）：gs://cloud-ai-platform-773884b1-2a32-48d6-8b83-c03cde416b68/model_monitoring/job-8672170640054157312\n",
    "BigQuery命令：SELECT * FROM `bq://[your-project-id].model_deployment_monitoring_3315907167046860800.serving_predict`\n",
    "\n",
    "\n",
    "训练预测偏差异常（原始特征）：\n",
    "\n",
    "异常报告路径（Google Cloud存储）：gs://cloud-ai-platform-773884b1-2a32-48d6-8b83-c03cde416b68/model_monitoring/job-8672170640054157312/serving/2022-08-25T00:00/stats_and_anomalies/<deployed-model-id>/anomalies/training_prediction_skew_anomalies\n",
    "\n",
    "有关此警报的更多信息，请访问模型监控警报页。\n",
    "\n",
    "部署的模型ID: <deployed-model-id>\n",
    "\n",
    "特征名称\t异常简要描述\t异常详细描述\n",
    "国家\t训练和服务之间的L∞距离较大\tL∞距离在训练和服务之间为0.947563（最多六位有效数字），高于阈值0.5。具有最大差异的特征值是：加拿大\n",
    "<blockquote>"
   ]
  },
  {
   "cell_type": "code",
   "execution_count": null,
   "metadata": {
    "id": "b91a0e19ff8b"
   },
   "outputs": [],
   "source": [
    "if os.getenv(\"IS_TESTING\"):\n",
    "    time.sleep(60 * 45)"
   ]
  },
  {
   "cell_type": "markdown",
   "metadata": {
    "id": "555642c341e1"
   },
   "source": [
    "### 为漂移检测生成合成预测请求\n",
    "\n",
    "接下来，您从BigQuery训练表中提取相同的前1000个实例用于预测请求。您修改数据（合成数据）以触发预测请求中的漂移检测，如下所示：\n",
    "\n",
    "- `cnt_user_engagement`：将值增加4倍。"
   ]
  },
  {
   "cell_type": "code",
   "execution_count": null,
   "metadata": {
    "id": "cb26c3dea306"
   },
   "outputs": [],
   "source": [
    "# Download the table.\n",
    "table = bigquery.TableReference.from_string(DATASET_BQ_URI[5:])\n",
    "\n",
    "rows = bqclient.list_rows(table, max_results=1000)\n",
    "\n",
    "instances = []\n",
    "for row in rows:\n",
    "    instance = {}\n",
    "    for key, value in row.items():\n",
    "        if key == TARGET:\n",
    "            continue\n",
    "        if value is None:\n",
    "            value = \"\"\n",
    "        elif key == \"cnt_user_engagement\":\n",
    "            value = int(value * 4)\n",
    "        instance[key] = value\n",
    "    instances.append(instance)\n",
    "\n",
    "print(len(instances))"
   ]
  },
  {
   "cell_type": "markdown",
   "metadata": {
    "id": "6d002569dadc"
   },
   "source": [
    "### 发送预测请求\n",
    "\n",
    "接下来，您将使用`predict()`方法向您的`Vertex AI Endpoint`资源发送1000个预测请求。"
   ]
  },
  {
   "cell_type": "code",
   "execution_count": null,
   "metadata": {
    "id": "b2d69d89cd66"
   },
   "outputs": [],
   "source": [
    "for instance in instances:\n",
    "    response = endpoint.predict(instances=[instance])\n",
    "\n",
    "prediction = response[0]\n",
    "\n",
    "# print the prediction for the first instance\n",
    "print(prediction[0])"
   ]
  },
  {
   "cell_type": "markdown",
   "metadata": {
    "id": "5184c68e4c99"
   },
   "source": [
    "### 记录抽样请求\n",
    "\n",
    "在接下来的监控间隔中，抽样预测将被复制到BigQuery日志表中。一旦条目进入BigQuery表中，监控服务将分析抽样数据。\n",
    "\n",
    "接下来，您需要等待首个记录的条目出现在用于记录预测样本的BigQuery表中。由于您发送了1000个预测请求，抽样率为50％，您应该会看到大约1000条记录。"
   ]
  },
  {
   "cell_type": "code",
   "execution_count": null,
   "metadata": {
    "id": "d9a2f9342b06"
   },
   "outputs": [],
   "source": [
    "while True:\n",
    "    time.sleep(180)\n",
    "\n",
    "    ENDPOINT_ID = endpoint.resource_name.split(\"/\")[-1]\n",
    "\n",
    "    table = bigquery.TableReference.from_string(\n",
    "        f\"{PROJECT_ID}.model_deployment_monitoring_{ENDPOINT_ID}.serving_predict\"\n",
    "    )\n",
    "    rows = bqclient.list_rows(table)\n",
    "    print(rows.total_rows)\n",
    "    if rows.total_rows > 550:\n",
    "        break"
   ]
  },
  {
   "cell_type": "markdown",
   "metadata": {
    "id": "683ed0ba4ccd"
   },
   "source": [
    "### 在监控过程中检测数据漂移\n",
    "\n",
    "特征输入的数据漂移检测将在下一个监控间隔中发生。在本教程中，您将监控间隔设置为一小时。因此，大约一个小时后，您的监控作业将从“离线”状态转为“运行”状态。在运行过程中，它将分析此间隔内预测的已记录样本表，并将其与先前监控间隔的分布进行比较。\n",
    "\n",
    "分析完成后，监控作业将通过电子邮件通知检测到的数据漂移，本例中为“cnt_user_engagement”，并在下一个间隔前将监控作业置为“离线”状态。\n",
    "\n",
    "#### 等待监控间隔\n",
    "\n",
    "从分析监控间隔开始到收到电子邮件警报可能需要高达40分钟。"
   ]
  },
  {
   "cell_type": "code",
   "execution_count": null,
   "metadata": {
    "id": "2e64ffaae2de"
   },
   "outputs": [],
   "source": [
    "if os.getenv(\"IS_TESTING\"):\n",
    "    time.sleep(60 * 45)"
   ]
  },
  {
   "cell_type": "markdown",
   "metadata": {
    "id": "39cdad8fdcc5"
   },
   "source": [
    "删除监控任务\n",
    "\n",
    "您可以使用 `delete()` 方法来删除监控任务。"
   ]
  },
  {
   "cell_type": "code",
   "execution_count": null,
   "metadata": {
    "id": "ef1ddc1d6017"
   },
   "outputs": [],
   "source": [
    "monitoring_job.pause()\n",
    "monitoring_job.delete()"
   ]
  },
  {
   "cell_type": "markdown",
   "metadata": {
    "id": "c6280efab664"
   },
   "source": [
    "取消部署并删除 `Vertex AI Endpoint` 资源\n",
    "\n",
    "您可以使用 `delete()` 方法删除您的 `Vertex AI Endpoint` 资源。在删除之前，必须先取消部署到您的 `Vertex AI Endpoint` 资源的任何模型。"
   ]
  },
  {
   "cell_type": "code",
   "execution_count": null,
   "metadata": {
    "id": "ad0d28b762e5"
   },
   "outputs": [],
   "source": [
    "endpoint.undeploy_all()\n",
    "endpoint.delete()"
   ]
  },
  {
   "cell_type": "markdown",
   "metadata": {
    "id": "18889460bd33"
   },
   "source": [
    "清理\n",
    "\n",
    "要清理此项目中使用的所有Google Cloud资源，您可以[删除您用于教程的Google Cloud项目](https://cloud.google.com/resource-manager/docs/creating-managing-projects#shutting_down_projects)。\n",
    "\n",
    "否则，您可以删除在本教程中创建的个别资源。"
   ]
  },
  {
   "cell_type": "code",
   "execution_count": null,
   "metadata": {
    "id": "c736a6bf1428"
   },
   "outputs": [],
   "source": [
    "delete_bucket = False\n",
    "\n",
    "if delete_bucket or os.getenv(\"IS_TESTING\"):\n",
    "    ! gsutil rm -rf {BUCKET_URI}\n",
    "\n",
    "! rm -f schema.yaml\n",
    "\n",
    "! bq rm -f {PROJECT_ID}.model_deployment_monitoring_{ENDPOINT_ID}\n",
    "\n",
    "! gcloud artifacts repositories delete {PRIVATE_REPO} --location={REGION} --quiet "
   ]
  }
 ],
 "metadata": {
  "colab": {
   "collapsed_sections": [],
   "name": "get_started_with_model_monitoring_custom_tf_serving.ipynb",
   "toc_visible": true
  },
  "kernelspec": {
   "display_name": "Python 3",
   "name": "python3"
  }
 },
 "nbformat": 4,
 "nbformat_minor": 0
}
