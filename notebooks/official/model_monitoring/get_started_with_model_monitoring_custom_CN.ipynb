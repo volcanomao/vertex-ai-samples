{
 "cells": [
  {
   "cell_type": "code",
   "execution_count": null,
   "metadata": {
    "cellView": "form",
    "id": "ur8xi4C7S06n"
   },
   "outputs": [],
   "source": [
    "# @title Copyright & License (click to expand)\n",
    "# Copyright 2022 Google LLC\n",
    "#\n",
    "# Licensed under the Apache License, Version 2.0 (the \"License\");\n",
    "# you may not use this file except in compliance with the License.\n",
    "# You may obtain a copy of the License at\n",
    "#\n",
    "#     https://www.apache.org/licenses/LICENSE-2.0\n",
    "#\n",
    "# Unless required by applicable law or agreed to in writing, software\n",
    "# distributed under the License is distributed on an \"AS IS\" BASIS,\n",
    "# WITHOUT WARRANTIES OR CONDITIONS OF ANY KIND, either express or implied.\n",
    "# See the License for the specific language governing permissions and\n",
    "# limitations under the License."
   ]
  },
  {
   "cell_type": "markdown",
   "metadata": {
    "id": "fsv4jGuU89rX"
   },
   "source": [
    "# 自定义表格模型的顶点AI模型监控\n",
    "\n",
    "<table align=\"left\">\n",
    "  <td style=\"text-align: center\">\n",
    "    <a href=\"https://colab.research.google.com/github/GoogleCloudPlatform/vertex-ai-samples/blob/main/notebooks/official/model_monitoring/get_started_with_model_monitoring_custom.ipynb\">\n",
    "      <img src=\"https://cloud.google.com/ml-engine/images/colab-logo-32px.png\" alt=\"Google Colaboratory logo\"><br> 在Colab中打开\n",
    "    </a>\n",
    "  </td>\n",
    "  <td style=\"text-align: center\">\n",
    "    <a href=\"https://console.cloud.google.com/vertex-ai/colab/import/https:%2F%2Fraw.githubusercontent.com%2FGoogleCloudPlatform%2Fvertex-ai-samples%2Fmain%2Fnotebooks%2Fofficial%2Fmodel_monitoring%2Fget_started_with_model_monitoring_custom.ipynb\">\n",
    "      <img width=\"32px\" src=\"https://cloud.google.com/ml-engine/images/colab-enterprise-logo-32px.png\" alt=\"Google Cloud Colab Enterprise logo\"><br> 在Colab企业版中打开\n",
    "    </a>\n",
    "  </td>    \n",
    "  <td style=\"text-align: center\">\n",
    "    <a href=\"https://console.cloud.google.com/vertex-ai/workbench/deploy-notebook?download_url=https://raw.githubusercontent.com/GoogleCloudPlatform/vertex-ai-samples/main/notebooks/official/model_monitoring/get_started_with_model_monitoring_custom.ipynb\">\n",
    "      <img src=\"https://lh3.googleusercontent.com/UiNooY4LUgW_oTvpsNhPpQzsstV5W8F7rYgxgGBD85cWJoLmrOzhVs_ksK_vgx40SHs7jCqkTkCk=e14-rj-sc0xffffff-h130-w32\" alt=\"Vertex AI logo\"><br> 在Workbench中打开\n",
    "    </a>\n",
    "  </td>\n",
    "  <td style=\"text-align: center\">\n",
    "    <a href=\"https://github.com/GoogleCloudPlatform/vertex-ai-samples/blob/main/notebooks/official/model_monitoring/get_started_with_model_monitoring_custom.ipynb\">\n",
    "      <img src=\"https://cloud.google.com/ml-engine/images/github-logo-32px.png\" alt=\"GitHub logo\"><br> 在GitHub上查看\n",
    "    </a>\n",
    "  </td>\n",
    "</table>"
   ]
  },
  {
   "cell_type": "markdown",
   "metadata": {
    "id": "lA32H1oKGgpf"
   },
   "source": [
    "## 概述\n",
    "\n",
    "本教程演示了如何针对自定义表格模型使用 Vertex AI Model Monitoring。\n",
    "\n",
    "了解更多关于[Vertex AI Model Monitoring](https://cloud.google.com/vertex-ai/docs/model-monitoring)。"
   ]
  },
  {
   "cell_type": "markdown",
   "metadata": {
    "id": "de998a3953c9"
   },
   "source": [
    "### 目标\n",
    "\n",
    "在这个笔记本中，您将学习如何使用Vertex AI Model Monitoring服务来检测自定义表格模型中输入预测请求中的特征倾斜和漂移。\n",
    "\n",
    "本教程使用以下Vertex AI服务：\n",
    "\n",
    "- Vertex AI Model Monitoring\n",
    "- Vertex AI Prediction\n",
    "- Vertex AI模型资源\n",
    "- Vertex AI端点资源\n",
    "\n",
    "执行的步骤包括：\n",
    "\n",
    "- 下载预训练的自定义表格模型。\n",
    "- 将预训练模型上传到Vertex AI模型注册表。\n",
    "- 将模型资源部署到Vertex AI端点资源。\n",
    "- 配置端点资源进行模型监控。\n",
    "- 生成合成预测请求以模拟倾斜。\n",
    "- 等待电子邮件提醒通知。\n",
    "- 生成合成预测请求以模拟漂移。\n",
    "- 等待电子邮件提醒通知。\n",
    "\n",
    "了解更多关于[Vertex AI Model Monitoring](https://cloud.google.com/vertex-ai/docs/model-monitoring/overview)。"
   ]
  },
  {
   "cell_type": "markdown",
   "metadata": {
    "id": "edba71dc9840"
   },
   "source": [
    "### 模型\n",
    "\n",
    "本教程使用一个预训练模型，模型工件存储在一个公共云存储桶中。\n",
    "\n",
    "该模型基于一篇关于流失预测模型的[博客文章](https://cloud.google.com/blog/topics/developers-practitioners/churn-prediction-game-developers-using-google-analytics-4-ga4-and-bigquery-ml)。这个模型涉及大量的日志数据，描述了游戏用户与网站的互动方式。原始数据包含以下信息类别：\n",
    "\n",
    "- 身份 - 独特的玩家标识号。\n",
    "- 人口特征 - 有关玩家的信息，例如玩家所在地理区域。\n",
    "- 行为特征 - 玩家触发某些游戏事件的次数，例如达到新等级的次数。\n",
    "- 流失倾向 - 这是标签或目标特征。它提供了一个估计的概率，即这个玩家可能会流失，即不再是活跃玩家。"
   ]
  },
  {
   "cell_type": "markdown",
   "metadata": {
    "id": "t6Cd51FkG09E"
   },
   "source": [
    "### 成本\n",
    "\n",
    "此教程使用 Google Cloud 的计费组件：\n",
    "\n",
    "* Vertex AI\n",
    "* BigQuery\n",
    "* Cloud Storage\n",
    "\n",
    "了解 [Vertext AI 价格](https://cloud.google.com/vertex-ai/pricing) 和 [Cloud Storage 价格](https://cloud.google.com/storage/pricing)，并使用 [定价计算器](https://cloud.google.com/products/calculator/) 根据您的预期使用量生成成本估算。"
   ]
  },
  {
   "cell_type": "markdown",
   "metadata": {
    "id": "4b331e2fd155"
   },
   "source": [
    "开始使用"
   ]
  },
  {
   "cell_type": "markdown",
   "metadata": {
    "id": "f3848df1e5b0"
   },
   "source": [
    "### 为 Python 安装 Vertex AI SDK 和其他所需的包"
   ]
  },
  {
   "cell_type": "code",
   "execution_count": null,
   "metadata": {
    "id": "b24b232ee039"
   },
   "outputs": [],
   "source": [
    "# Install required packages.\n",
    "! pip3 install --quiet --upgrade google-cloud-aiplatform \\\n",
    "                                 google-cloud-bigquery"
   ]
  },
  {
   "cell_type": "markdown",
   "metadata": {
    "id": "restart"
   },
   "source": [
    "重启运行时（仅限Colab）\n",
    "\n",
    "为了使用新安装的包，你必须在Google Colab上重新启动运行时。"
   ]
  },
  {
   "cell_type": "code",
   "execution_count": null,
   "metadata": {
    "id": "D-ZBOjErv5mM"
   },
   "outputs": [],
   "source": [
    "import sys\n",
    "\n",
    "if \"google.colab\" in sys.modules:\n",
    "\n",
    "    import IPython\n",
    "\n",
    "    app = IPython.Application.instance()\n",
    "    app.kernel.do_shutdown(True)"
   ]
  },
  {
   "cell_type": "markdown",
   "metadata": {
    "id": "ee775571c2b5"
   },
   "source": [
    "<div class=\"alert alert-block alert-warning\">\n",
    "<b>⚠️ 内核即将重新启动。请等待完成后再继续下一步。⚠️</b>\n",
    "</div>"
   ]
  },
  {
   "cell_type": "markdown",
   "metadata": {
    "id": "92e68cfc3a90"
   },
   "source": [
    "### 验证您的笔记本环境（仅限Colab）\n",
    "\n",
    "在Google Colab上验证您的环境。"
   ]
  },
  {
   "cell_type": "code",
   "execution_count": null,
   "metadata": {
    "id": "46604f70e831"
   },
   "outputs": [],
   "source": [
    "import sys\n",
    "\n",
    "if \"google.colab\" in sys.modules:\n",
    "\n",
    "    from google.colab import auth\n",
    "\n",
    "    auth.authenticate_user()"
   ]
  },
  {
   "cell_type": "markdown",
   "metadata": {
    "id": "before_you_begin:nogpu"
   },
   "source": [
    "设置Google Cloud项目信息\n",
    "\n",
    "了解有关[设置项目和开发环境](https://cloud.google.com/vertex-ai/docs/start/cloud-environment)的更多信息。"
   ]
  },
  {
   "cell_type": "code",
   "execution_count": null,
   "metadata": {
    "id": "set_project_id"
   },
   "outputs": [],
   "source": [
    "PROJECT_ID = \"[your-project-id]\"  # @param {type:\"string\"}\n",
    "LOCATION = \"us-central1\"  # @param {type:\"string\"}"
   ]
  },
  {
   "cell_type": "markdown",
   "metadata": {
    "id": "42c8a7c56abd"
   },
   "source": [
    "用户电子邮件\n",
    "\n",
    "将您的用户电子邮件地址设置为接收监控警报。"
   ]
  },
  {
   "cell_type": "code",
   "execution_count": null,
   "metadata": {
    "id": "ce2589511bb6"
   },
   "outputs": [],
   "source": [
    "import os\n",
    "\n",
    "USER_EMAIL = \"[your-email-address]\"  # @param {type:\"string\"}\n",
    "\n",
    "if os.getenv(\"IS_TESTING\"):\n",
    "    USER_EMAIL = \"noreply@google.com\""
   ]
  },
  {
   "cell_type": "markdown",
   "metadata": {
    "id": "8RJ3_20etd31"
   },
   "source": [
    "关于服务账户和权限的注意事项\n",
    "\n",
    "**默认情况下不需要配置**，如果遇到任何权限相关问题，请确保上述服务账户具有所需的角色：\n",
    "\n",
    "|服务账户邮箱|描述|角色|\n",
    "|---|---|---|\n",
    "|PROJECT_NUMBER-compute@developer.gserviceaccount.com|Compute Engine 默认服务账户|Dataflow Admin、Dataflow Worker、Storage Admin、BigQuery Admin、Vertex AI User|\n",
    "|service-PROJECT_NUMBER@gcp-sa-aiplatform.iam.gserviceaccount.com|AI Platform 服务代理|Vertex AI 服务代理|\n",
    "\n",
    "\n",
    "1. 进入[IAM控制台](https://console.cloud.google.com/iam-admin/iam)。\n",
    "2. 勾选**包括 Google 提供的角色授予**复选框。\n",
    "3. 找到上述邮箱。\n",
    "4. 授予相应的角色。"
   ]
  },
  {
   "cell_type": "markdown",
   "metadata": {
    "id": "1d8540ae3bb4"
   },
   "source": [
    "使用来自不同项目的数据源：\n",
    "\n",
    "- 对于BigQuery数据源，请为两个服务账户授予“BigQuery数据查看器”角色。\n",
    "- 对于CSV数据源，请为两个服务账户授予“存储对象查看器”角色。"
   ]
  },
  {
   "cell_type": "markdown",
   "metadata": {
    "id": "bucket:mbsdk"
   },
   "source": [
    "创建一个云存储桶\n",
    "\n",
    "创建一个存储桶，用于存储中间产物，如数据集。"
   ]
  },
  {
   "cell_type": "code",
   "execution_count": null,
   "metadata": {
    "id": "bucket"
   },
   "outputs": [],
   "source": [
    "BUCKET_URI = f\"gs://your-bucket-name-{PROJECT_ID}-unique\"  # @param {type:\"string\"}"
   ]
  },
  {
   "cell_type": "markdown",
   "metadata": {
    "id": "autoset_bucket"
   },
   "source": [
    "如果您的存储桶还不存在：运行以下单元格以创建您的云存储存储桶。"
   ]
  },
  {
   "cell_type": "code",
   "execution_count": null,
   "metadata": {
    "id": "91c46850b49b"
   },
   "outputs": [],
   "source": [
    "! gsutil mb -l $LOCATION -p $PROJECT_ID $BUCKET_URI"
   ]
  },
  {
   "cell_type": "markdown",
   "metadata": {
    "id": "a0d294ff6d10"
   },
   "source": [
    "### 导入库"
   ]
  },
  {
   "cell_type": "code",
   "execution_count": null,
   "metadata": {
    "id": "bd7a633296eb"
   },
   "outputs": [],
   "source": [
    "import google.cloud.aiplatform as aiplatform\n",
    "from google.cloud import bigquery\n",
    "from google.cloud.aiplatform import model_monitoring"
   ]
  },
  {
   "cell_type": "markdown",
   "metadata": {
    "id": "daecf7b4cdc0"
   },
   "source": [
    "### 初始化 Python 的 Vertex AI SDK\n",
    "\n",
    "要开始使用 Vertex AI，您必须[启用 Vertex AI API](https://console.cloud.google.com/flows/enableapi?apiid=aiplatform.googleapis.com)。"
   ]
  },
  {
   "cell_type": "code",
   "execution_count": null,
   "metadata": {
    "id": "init_aip:mbsdk,all"
   },
   "outputs": [],
   "source": [
    "aiplatform.init(project=PROJECT_ID, location=LOCATION, staging_bucket=BUCKET_URI)"
   ]
  },
  {
   "cell_type": "markdown",
   "metadata": {
    "id": "init_bq"
   },
   "source": [
    "### 创建 BigQuery 客户端\n",
    "\n",
    "在本教程中，您将使用与用于训练预训练模型相同的公共 BigQuery 表中的数据。您将创建一个客户端接口，随后用于访问数据。"
   ]
  },
  {
   "cell_type": "code",
   "execution_count": null,
   "metadata": {
    "id": "init_bq"
   },
   "outputs": [],
   "source": [
    "bqclient = bigquery.Client(project=PROJECT_ID)"
   ]
  },
  {
   "cell_type": "markdown",
   "metadata": {
    "id": "accelerators:training,prediction"
   },
   "source": [
    "设置硬件加速器\n",
    "\n",
    "您可以为预测设置硬件加速器（例如，GPU），或者仅使用 CPU。硬件加速器可以降低预测请求的延迟响应时间。在选择硬件加速器时，要考虑延迟与额外成本之间的平衡。\n",
    "\n",
    "将变量`DEPLOY_GPU/DEPLOY_NGPU`设置为使用支持 GPU 的容器映像以及分配给虚拟机（VM）实例的 GPU 数量。例如，要使用一张包含 4 个 Nvidia Tesla T4 GPU 的 GPU 容器映像分配给每个 VM，您可以指定：\n",
    "\n",
    "    (aiplatform.gapic.AcceleratorType.NVIDIA_TESLA_T4, 4)\n",
    "\n",
    "查看[可用加速器的位置](https://cloud.google.com/vertex-ai/docs/general/locations#accelerators)。\n",
    "\n",
    "否则，请指定`(None, None)`以使用一个在 CPU 上运行的容器映像。"
   ]
  },
  {
   "cell_type": "code",
   "execution_count": null,
   "metadata": {
    "id": "xd5PLXDTlugv"
   },
   "outputs": [],
   "source": [
    "GPU = False\n",
    "if GPU:\n",
    "    DEPLOY_GPU, DEPLOY_NGPU = (aiplatform.gapic.AcceleratorType.NVIDIA_TESLA_T4, 1)\n",
    "else:\n",
    "    DEPLOY_GPU, DEPLOY_NGPU = (None, None)"
   ]
  },
  {
   "cell_type": "markdown",
   "metadata": {
    "id": "container:training,prediction"
   },
   "source": [
    "设置预构建的容器\n",
    "\n",
    "设置用于预测的预构建Docker容器映像。\n",
    "\n",
    "有关最新列表，请参阅[预构建的预测容器](https://cloud.google.com/ai-platform-unified/docs/predictions/pre-built-containers)。"
   ]
  },
  {
   "cell_type": "code",
   "execution_count": null,
   "metadata": {
    "id": "1u1mr18jlugv"
   },
   "outputs": [],
   "source": [
    "if GPU:\n",
    "    DEPLOY_VERSION = \"tf2-gpu.2-5\"\n",
    "else:\n",
    "    DEPLOY_VERSION = \"tf2-cpu.2-5\"\n",
    "\n",
    "DEPLOY_IMAGE = \"{}-docker.pkg.dev/vertex-ai/prediction/{}:latest\".format(\n",
    "    LOCATION.split(\"-\")[0], DEPLOY_VERSION\n",
    ")\n",
    "\n",
    "print(\"Deployment:\", DEPLOY_IMAGE, DEPLOY_GPU, DEPLOY_NGPU)"
   ]
  },
  {
   "cell_type": "markdown",
   "metadata": {
    "id": "machine:training,prediction"
   },
   "source": [
    "设置机器类型\n",
    "\n",
    "接下来，设置用于训练和预测的机器类型。\n",
    "\n",
    "- 设置变量 `DEPLOY_COMPUTE` 来配置预测时的计算资源。\n",
    " - 设置一个 `机器类型`:\n",
    "     - `n1-standard`: 每个 vCPU 3.75GB 内存\n",
    "     - `n1-highmem`: 每个 vCPU 6.5GB 内存\n",
    "     - `n1-highcpu`: 每个 vCPU 0.9GB 内存\n",
    " - `vCPUs`: \\[2, 4, 8, 16, 32, 64, 96\\] 中的数字\n",
    "\n",
    "**注意**：您可以使用 n2 和 e2 机器类型进行训练和部署，但它们不支持 GPU。"
   ]
  },
  {
   "cell_type": "code",
   "execution_count": null,
   "metadata": {
    "id": "YAXwbqKKlugv"
   },
   "outputs": [],
   "source": [
    "MACHINE_TYPE = \"n1-standard\"\n",
    "\n",
    "VCPU = \"4\"\n",
    "TRAIN_COMPUTE = MACHINE_TYPE + \"-\" + VCPU\n",
    "print(\"Train machine type\", TRAIN_COMPUTE)\n",
    "\n",
    "MACHINE_TYPE = \"n1-standard\"\n",
    "\n",
    "VCPU = \"4\"\n",
    "DEPLOY_COMPUTE = MACHINE_TYPE + \"-\" + VCPU\n",
    "print(\"Deploy machine type\", DEPLOY_COMPUTE)"
   ]
  },
  {
   "cell_type": "markdown",
   "metadata": {
    "id": "b890e02cb4b0"
   },
   "source": [
    "## Vertex AI模型监控简介\n",
    "\n",
    "Vertex AI模型监控支持自动化机器学习表格模型和自定义表格模型。您可以监控传入预测请求中特征的倾斜和漂移检测，或者监控传出预测响应中特征的归因（可解释AI）。换句话说，您监控衡量特征对输出（预测）的贡献的归因的分布。\n",
    "\n",
    "以下是启用模型监控的基本步骤：\n",
    "\n",
    "1. 部署Vertex AI自动化机器学习或自定义表格模型到Vertex AI端点。\n",
    "2. 配置模型监控规范。\n",
    "3. 将模型监控规范上传到Vertex AI端点。\n",
    "4. 上传模式或使用*输入模式*的自动生成进行解析。\n",
    "5. 对于特征倾斜检测，上传训练数据。这样可以自动生成特征分布。\n",
    "6. 对于特征归因，上传相应的Vertex Explainable AI规范。\n",
    "\n",
    "配置完成后，您可以启用/禁用监控，更改警报并更新模型监控配置。\n",
    "\n",
    "启用模型监控后，采样的传入预测请求将被记录到BigQuery表中。然后分析记录请求中包含的输入特征值，以便定期检查倾斜或漂移。您设置一个采样率来监控模型的一部分生产输入，并设置监控间隔。\n",
    "\n",
    "模型监控服务需要知道如何解析特征值，这称为输入模式。对于自动化机器学习表格模型，输入模式会自动生成。对于自定义表格模型，服务会尝试从前1000个预测请求中自动推导输入模式。另外，您也可以上传输入模式。\n",
    "\n",
    "对于倾斜检测，监控服务需要训练数据中值的统计分布基线。对于自动化机器学习表格模型，这是自动生成的。对于自定义表格模型，您将训练数据上传到服务中，并让服务自动推导分布。\n",
    "\n",
    "对于特征归因中的倾斜和漂移检测，您需要为已部署的自定义表格模型启用Vertex Explainable AI功能。对于自动化机器学习模型，Vertex Explainable AI会自动启用。\n",
    "\n",
    "了解更多关于[Vertex AI模型监控简介](https://cloud.google.com/vertex-ai/docs/model-monitoring/overview)。"
   ]
  },
  {
   "cell_type": "markdown",
   "metadata": {
    "id": "9bf06cd476e9"
   },
   "source": [
    "### 将模型工件上传到Vertex AI模型注册表\n",
    "\n",
    "首先，使用`upload()`方法将预训练的自定义表格模型工件作为Vertex AI模型资源上传，使用以下参数：\n",
    "\n",
    "- `display_name`：模型资源的人类可读名称。\n",
    "- `artifact_uri`：模型工件的Cloud Storage位置。\n",
    "- `serving_container_image`：模型部署到Vertex AI端点资源时要使用的服务容器映像。\n",
    "- `sync`：是否等待进程完成，还是立即返回（异步）。"
   ]
  },
  {
   "cell_type": "code",
   "execution_count": null,
   "metadata": {
    "id": "0193f247e216"
   },
   "outputs": [],
   "source": [
    "MODEL_ARTIFACT_URI = \"gs://mco-mm/churn\"\n",
    "\n",
    "model = aiplatform.Model.upload(\n",
    "    display_name=\"churn\",\n",
    "    artifact_uri=MODEL_ARTIFACT_URI,\n",
    "    serving_container_image_uri=DEPLOY_IMAGE,\n",
    "    sync=True,\n",
    ")\n",
    "\n",
    "print(model)"
   ]
  },
  {
   "cell_type": "markdown",
   "metadata": {
    "id": "1069c6f0eba8"
   },
   "source": [
    "### 部署模型到终端点\n",
    "\n",
    "接下来，使用`deploy()`方法，将您的Vertex AI模型资源部署到一个Vertex AI终端点资源，参数如下：\n",
    "\n",
    "- `deploy_model_display`: 部署模型的人类可读名称。\n",
    "- `machine_type`: 每个VM节点实例的机器类型。\n",
    "- `min_replica_count`: 为自动扩展预留的节点的最小数量。\n",
    "- `max_replica_count`: 为自动扩展预留的节点的最大数量。\n",
    "- `accelerator_type`: 每个预留节点的GPU加速器类型（如果有）。\n",
    "- `accelerator_count`: 每个预留节点的GPU加速器数量（如果有）。"
   ]
  },
  {
   "cell_type": "code",
   "execution_count": null,
   "metadata": {
    "id": "b883402dda8c"
   },
   "outputs": [],
   "source": [
    "MIN_NODES = 1\n",
    "MAX_NODES = 1\n",
    "\n",
    "if GPU:\n",
    "    endpoint = model.deploy(\n",
    "        deployed_model_display_name=\"churn\",\n",
    "        machine_type=DEPLOY_COMPUTE,\n",
    "        min_replica_count=MIN_NODES,\n",
    "        max_replica_count=MAX_NODES,\n",
    "        accelerator_type=DEPLOY_GPU.name,\n",
    "        accelerator_count=DEPLOY_NGPU,\n",
    "    )\n",
    "else:\n",
    "    endpoint = model.deploy(\n",
    "        deployed_model_display_name=\"churn\",\n",
    "        machine_type=DEPLOY_COMPUTE,\n",
    "        min_replica_count=MIN_NODES,\n",
    "        max_replica_count=MAX_NODES,\n",
    "    )"
   ]
  },
  {
   "cell_type": "markdown",
   "metadata": {
    "id": "ba4a2924aec6"
   },
   "source": [
    "## 配置监控作业\n",
    "\n",
    "配置监控作业包括以下规范：\n",
    "\n",
    "- `alert_config`：应该接收监控警报的电子邮件地址。\n",
    "- `schedule_config`：分析预测的时间窗口。\n",
    "- `logging_sampling_strategy`：对预测请求进行采样的速率。\n",
    "- `drift_config`：要监视的特征和漂移阈值。\n",
    "- `skew_config`：要监视的特征和偏斜阈值。"
   ]
  },
  {
   "cell_type": "markdown",
   "metadata": {
    "id": "87abd93294c4"
   },
   "source": [
    "### 配置警报规范\n",
    "\n",
    "使用以下设置配置`alerting_config`规范：\n",
    "\n",
    "- `user_emails`：应接收警报的一个或多个电子邮件地址列表。\n",
    "- `enable_logging`：将检测到的异常流式传输到云日志。默认值为False。"
   ]
  },
  {
   "cell_type": "code",
   "execution_count": null,
   "metadata": {
    "id": "be6137df0086"
   },
   "outputs": [],
   "source": [
    "# Create alerting configuration.\n",
    "alerting_config = model_monitoring.EmailAlertConfig(\n",
    "    user_emails=[USER_EMAIL], enable_logging=True\n",
    ")"
   ]
  },
  {
   "cell_type": "markdown",
   "metadata": {
    "id": "66c7283276bc"
   },
   "source": [
    "### 配置监控间隔规范\n",
    "\n",
    "接下来，您将使用以下设置配置`schedule_config` 规范：\n",
    "\n",
    "- `monitor_interval`: 设置模型监控作业的调度间隔时间（小时）。最小时间间隔为1小时。"
   ]
  },
  {
   "cell_type": "code",
   "execution_count": null,
   "metadata": {
    "id": "1230b92d1eed"
   },
   "outputs": [],
   "source": [
    "# Monitoring Interval\n",
    "MONITOR_INTERVAL = 1  # @param {type:\"number\"}\n",
    "\n",
    "# Create schedule configuration\n",
    "schedule_config = model_monitoring.ScheduleConfig(monitor_interval=MONITOR_INTERVAL)"
   ]
  },
  {
   "cell_type": "markdown",
   "metadata": {
    "id": "3bd8dd304191"
   },
   "source": [
    "### 配置采样规范\n",
    "\n",
    "现在，您需要使用以下设置来配置 `logging_sampling_strategy` 规范：\n",
    "\n",
    "- `sample_rate`: 以百分比形式（在 0 到 1 之间）设置随机抽样预测请求以进行监控。所选样本将被记录到 BigQuery 表中。"
   ]
  },
  {
   "cell_type": "code",
   "execution_count": null,
   "metadata": {
    "id": "3688c245a0e9"
   },
   "outputs": [],
   "source": [
    "# Sampling rate (optional, default=.8)\n",
    "SAMPLE_RATE = 0.5  # @param {type:\"number\"}\n",
    "\n",
    "# Create sampling configuration\n",
    "logging_sampling_strategy = model_monitoring.RandomSampleConfig(sample_rate=SAMPLE_RATE)"
   ]
  },
  {
   "cell_type": "markdown",
   "metadata": {
    "id": "c1bc3bc8992f"
   },
   "source": [
    "### 配置漂移检测规范\n",
    "\n",
    "然后，您可以使用以下设置配置`drift_config`规范：\n",
    "\n",
    "- `drift_thresholds`：一个键/值对字典，其中键是用于监视漂移的输入特征，值表示检测阈值。如果未指定，则特征的默认漂移阈值为0.3（30%）。\n",
    "\n",
    "**注意：** 启用漂移检测是可选的。"
   ]
  },
  {
   "cell_type": "code",
   "execution_count": null,
   "metadata": {
    "id": "128bdc05cb5b"
   },
   "outputs": [],
   "source": [
    "DRIFT_THRESHOLD_VALUE = 0.05\n",
    "\n",
    "DRIFT_THRESHOLDS = {\n",
    "    \"country\": DRIFT_THRESHOLD_VALUE,\n",
    "    \"cnt_user_engagement\": DRIFT_THRESHOLD_VALUE,\n",
    "}\n",
    "\n",
    "drift_config = model_monitoring.DriftDetectionConfig(drift_thresholds=DRIFT_THRESHOLDS)"
   ]
  },
  {
   "cell_type": "markdown",
   "metadata": {
    "id": "651b576aa037"
   },
   "source": [
    "### 配置偏斜检测规范\n",
    "\n",
    "接下来，您将使用以下设置配置`skew_config`规范：\n",
    "\n",
    "- `data_source`：原始训练数据集的数据源。数据源的格式默认为 BigQuery 表。否则，必须将设置`data_format`设置为以下值之一。数据的位置必须是 Cloud Storage 位置。\n",
    "  - `csv`\n",
    "  - `jsonl`\n",
    "  - `tf-record`\n",
    "- `skew_thresholds`：一个键/值对的字典，其中键是监控数据倾斜的输入特征。值表示检测阈值。如果未指定，则特征的默认倾斜阈值为 0.3（30%）。\n",
    "- `target_field`：训练数据集的目标标签\n",
    "\n",
    "**注意：**启用偏斜检测是可选的。"
   ]
  },
  {
   "cell_type": "code",
   "execution_count": null,
   "metadata": {
    "id": "4cb098c74d2c"
   },
   "outputs": [],
   "source": [
    "# URI to training dataset.\n",
    "DATASET_BQ_URI = \"bq://mco-mm.bqmlga4.train\"  # @param {type:\"string\"}\n",
    "# Prediction target column name in training dataset.\n",
    "TARGET = \"churned\"\n",
    "\n",
    "SKEW_THRESHOLD_VALUE = 0.5\n",
    "\n",
    "SKEW_THRESHOLDS = {\n",
    "    \"country\": SKEW_THRESHOLD_VALUE,\n",
    "    \"cnt_user_engagement\": SKEW_THRESHOLD_VALUE,\n",
    "}\n",
    "\n",
    "skew_config = model_monitoring.SkewDetectionConfig(\n",
    "    data_source=DATASET_BQ_URI, skew_thresholds=SKEW_THRESHOLDS, target_field=TARGET\n",
    ")"
   ]
  },
  {
   "cell_type": "markdown",
   "metadata": {
    "id": "8b6d5bd71ac9"
   },
   "source": [
    "### 组装目标规范\n",
    "\n",
    "最后，您将使用以下设置将目标规范（`objective_config`）组装起来:\n",
    "\n",
    "- `skew_detection_config`：（可选）用于倾斜检测配置的规范。\n",
    "- `drift_detection_config`：（可选）用于漂移检测配置的规范。\n",
    "- `explanation_config`：（可选）在启用特征归因监控时用于解释的规范。"
   ]
  },
  {
   "cell_type": "code",
   "execution_count": null,
   "metadata": {
    "id": "d353205a8aec"
   },
   "outputs": [],
   "source": [
    "objective_config = model_monitoring.ObjectiveConfig(\n",
    "    skew_detection_config=skew_config,\n",
    "    drift_detection_config=drift_config,\n",
    "    explanation_config=None,\n",
    ")"
   ]
  },
  {
   "cell_type": "markdown",
   "metadata": {
    "id": "8ac30ffa72b5"
   },
   "source": [
    "### 创建输入模式\n",
    "\n",
    "监控服务需要了解模型的特征和数据类型以及模型的特征输入，这被称为*输入模式*。*输入模式*可以是:\n",
    "- 预加载到监控服务中。\n",
    "- 在接收到前1000个预测实例后，由监控服务自动生成。\n",
    "\n",
    "在本教程中，您将预加载*输入模式*。\n",
    "\n",
    "#### 创建预定义输入模式\n",
    "\n",
    "预定义的*输入模式*被指定为一个YAML文件。在本例中，您检索用于训练数据的BigQuery模式，其中包括特征名称和数据类型，以生成YAML规范。预定义的*输入模式*必须加载到云存储位置。\n",
    "\n",
    "了解更多关于[用于解析输入的自定义实例模式](https://cloud.google.com/vertex-ai/docs/model-monitoring/overview#custom-input-schemas)。"
   ]
  },
  {
   "cell_type": "code",
   "execution_count": null,
   "metadata": {
    "id": "59becb56ad34"
   },
   "outputs": [],
   "source": [
    "# Get the BQ table\n",
    "\n",
    "table = bigquery.TableReference.from_string(DATASET_BQ_URI[5:])\n",
    "bq_table = bqclient.get_table(table)\n",
    "\n",
    "yaml = \"\"\"type: object\n",
    "properties:\n",
    "\"\"\"\n",
    "\n",
    "schema = bq_table.schema\n",
    "for feature in schema:\n",
    "    if feature.name == TARGET:\n",
    "        continue\n",
    "    if feature.field_type == \"STRING\":\n",
    "        f_type = \"string\"\n",
    "    else:\n",
    "        f_type = \"integer\"\n",
    "    yaml += f\"\"\"  {feature.name}:\n",
    "    type: {f_type}\n",
    "\"\"\"\n",
    "\n",
    "yaml += \"\"\"required:\n",
    "\"\"\"\n",
    "for feature in schema:\n",
    "    if feature.name == TARGET:\n",
    "        continue\n",
    "    yaml += f\"\"\"- {feature.name}\n",
    "\"\"\"\n",
    "\n",
    "print(yaml)\n",
    "\n",
    "with open(\"schema.yaml\", \"w\") as f:\n",
    "    f.write(yaml)\n",
    "\n",
    "! gsutil cp schema.yaml {BUCKET_URI}/schema.yaml"
   ]
  },
  {
   "cell_type": "markdown",
   "metadata": {
    "id": "82c7e7af7163"
   },
   "source": [
    "### 创建监控任务\n",
    "\n",
    "使用Vertex AI的[`ModelDeploymentMonitoringJob.create()`](https://cloud.google.com/python/docs/reference/aiplatform/1.48.0/summary_method#google_cloud_aiplatform_ModelDeploymentMonitoringJob_create_summary)方法，根据您的监控规范创建一个监控任务，具有以下参数：\n",
    "\n",
    "- `display_name`：监控任务的可读名称。\n",
    "- `project`：项目ID。\n",
    "- `region`：区域。\n",
    "- `endpoint`：要启用监控的Vertex AI端点的完全限定资源名称。\n",
    "- `logging_sampling_strategy`：采样配置的规范。\n",
    "- `schedule_config`：调度配置的规范。\n",
    "- `alert_config`：警报配置的规范。\n",
    "- `objective_configs`：目标配置的规范。\n",
    "- `analysis_instance_schema_uri`：包含*输入模式*的YAML文件的位置。"
   ]
  },
  {
   "cell_type": "code",
   "execution_count": null,
   "metadata": {
    "id": "4b8dd381c5c3"
   },
   "outputs": [],
   "source": [
    "monitoring_job = aiplatform.ModelDeploymentMonitoringJob.create(\n",
    "    display_name=\"churn\",\n",
    "    project=PROJECT_ID,\n",
    "    location=LOCATION,\n",
    "    endpoint=endpoint,\n",
    "    logging_sampling_strategy=logging_sampling_strategy,\n",
    "    schedule_config=schedule_config,\n",
    "    alert_config=alerting_config,\n",
    "    objective_configs=objective_config,\n",
    "    analysis_instance_schema_uri=f\"{BUCKET_URI}/schema.yaml\",\n",
    ")\n",
    "\n",
    "print(monitoring_job)"
   ]
  },
  {
   "cell_type": "markdown",
   "metadata": {
    "id": "3c6d3b620264"
   },
   "source": [
    "#### 监控工作的电子邮件通知。\n",
    "\n",
    "电子邮件通知将发送到警报配置中的电子邮件地址，通知模型监控工作现已启用。\n",
    "\n",
    "电子邮件的内容如下：\n",
    "\n",
    "您好，Vertex AI 客户，\n",
    "\n",
    "您收到此邮件是因为您正在使用 Vertex AI 模型监控服务。\n",
    "此邮件是为了通知您，我们收到了您设置漂移或偏差检测的请求，针对以下列出的预测终点。从现在开始，传入的预测请求将被抽样并记录用于分析。\n",
    "原始请求和响应将从预测服务中收集，并保存在 bq://[your-project-id].model_deployment_monitoring_[endpoint-id].serving_predict。"
   ]
  },
  {
   "cell_type": "markdown",
   "metadata": {
    "id": "dcc4aae9e20f"
   },
   "source": [
    "#### 监控作业状态\n",
    "\n",
    "在您启动 Vertex AI 模型监控作业之后，它会保持在 **PENDING** 状态，直到计算出 `偏斜分布基线` 为止。监控服务会启动一个批处理作业，从训练数据中生成分布基线。\n",
    "\n",
    "一旦基线分布生成完成，监控作业就会变为 **OFFLINE** 状态。按照每个间隔基础，例如，每小时一次，监控作业会进入 **RUNNING** 状态并分析采样数据。一旦完成，它会回到 **OFFLINE** 状态，并等待下一个预定的分析。"
   ]
  },
  {
   "cell_type": "code",
   "execution_count": null,
   "metadata": {
    "id": "f640fb7f10cd"
   },
   "outputs": [],
   "source": [
    "jobs = monitoring_job.list(filter=\"display_name=churn\")\n",
    "job = jobs[0]\n",
    "print(job.state)"
   ]
  },
  {
   "cell_type": "markdown",
   "metadata": {
    "id": "e385d103aba6"
   },
   "source": [
    "### 基线分布的自动生成\n",
    "\n",
    "接下来，监控服务会创建一个批处理作业来分析训练数据以生成基线分布。一旦完成，监控服务会开始在指定的时间间隔进行监控。"
   ]
  },
  {
   "cell_type": "code",
   "execution_count": null,
   "metadata": {
    "id": "670b5bc98c2a"
   },
   "outputs": [],
   "source": [
    "import time\n",
    "\n",
    "# Pause a bit for the baseline distribution to be calculated\n",
    "if os.getenv(\"IS_TESTING\"):\n",
    "    time.sleep(180)"
   ]
  },
  {
   "cell_type": "markdown",
   "metadata": {
    "id": "26bac245f6c5"
   },
   "source": [
    "生成用于检测偏斜的合成预测请求\n",
    "\n",
    "现在，从BigQuery训练表中提取前1000个实例以创建预测请求。然后，通过进行以下更新修改数据（合成数据），以在预测请求中触发偏斜检测：\n",
    "\n",
    "- `country`：将所有值设为加拿大。"
   ]
  },
  {
   "cell_type": "code",
   "execution_count": null,
   "metadata": {
    "id": "cb26c3dea306"
   },
   "outputs": [],
   "source": [
    "# Download the table.\n",
    "table = bigquery.TableReference.from_string(DATASET_BQ_URI[5:])\n",
    "\n",
    "rows = bqclient.list_rows(table, max_results=1000)\n",
    "\n",
    "instances = []\n",
    "for row in rows:\n",
    "    instance = {}\n",
    "    for key, value in row.items():\n",
    "        if key == TARGET:\n",
    "            continue\n",
    "        if value is None:\n",
    "            value = \"\"\n",
    "        if key == \"country\":\n",
    "            value = \"Canada\"\n",
    "        instance[key] = value\n",
    "    instances.append(instance)\n",
    "\n",
    "print(len(instances))"
   ]
  },
  {
   "cell_type": "markdown",
   "metadata": {
    "id": "6d002569dadc"
   },
   "source": [
    "### 发送预测请求\n",
    "\n",
    "接下来，您可以使用`predict()`方法向您的Vertex AI端点资源发送1000个预测请求。"
   ]
  },
  {
   "cell_type": "code",
   "execution_count": null,
   "metadata": {
    "id": "b2d69d89cd66"
   },
   "outputs": [],
   "source": [
    "for instance in instances:\n",
    "    response = endpoint.predict(instances=[instance])\n",
    "\n",
    "prediction = response[0]\n",
    "\n",
    "# print the prediction for the first instance\n",
    "print(prediction[0])"
   ]
  },
  {
   "cell_type": "markdown",
   "metadata": {
    "id": "2b5859ea4ae9"
   },
   "source": [
    "### 记录抽样请求\n",
    "\n",
    "监控服务启动后，抽样预测请求将被记录到云存储中。在下一个监控间隔内，抽样预测将被复制到BigQuery日志表中。一旦条目被记录，监控服务将分析抽样数据。\n",
    "\n",
    "接下来，您需要等待第一批被记录的条目出现在BigQuery日志表中，用于预测样本。由于您发送了1000个预测请求，50%抽样率，您应该看到大约500条记录。"
   ]
  },
  {
   "cell_type": "code",
   "execution_count": null,
   "metadata": {
    "id": "bd177a8decbb"
   },
   "outputs": [],
   "source": [
    "while True:\n",
    "    time.sleep(180)\n",
    "\n",
    "    ENDPOINT_ID = endpoint.resource_name.split(\"/\")[-1]\n",
    "\n",
    "    table = bigquery.TableReference.from_string(\n",
    "        f\"{PROJECT_ID}.model_deployment_monitoring_{ENDPOINT_ID}.serving_predict\"\n",
    "    )\n",
    "    rows = bqclient.list_rows(table)\n",
    "    print(rows.total_rows)\n",
    "    if rows.total_rows > 0:\n",
    "        break"
   ]
  },
  {
   "cell_type": "markdown",
   "metadata": {
    "id": "aeaea3a7a194"
   },
   "source": [
    "### 监控期间的偏斜检测\n",
    "\n",
    "特征输入的偏斜检测将在下一个监控间隔期间进行。在本教程中，您将监控间隔设置为一小时。因此，大约一个小时后，您的监控作业从 **离线** 状态变为 **运行** 状态。在运行时，它会分析该间隔期间的预测中记录的采样表，并将它们与基准分布进行比较。\n",
    "\n",
    "分析完成后，监控作业会发送电子邮件通知，告知检测到的偏斜，本例中为 `country`。此后，监控作业将进入 **离线** 状态，直到下一个间隔期间。\n",
    "\n",
    "#### 等待监控间隔\n",
    "\n",
    "从监控间隔的分析完成时刻到收到电子邮件警报可能需要 40 分钟或更长时间。\n",
    "\n",
    "电子邮件的内容如下：\n",
    "\n",
    "<blockquote>\n",
    "   你好，Vertex AI 用户，\n",
    "\n",
    "您收到此邮件是因为您订阅了 Vertex AI 模型监测服务。\n",
    "此邮件仅用于通知您，您部署的模型中检测到一些异常情况，并可能需要您关注。\n",
    "\n",
    "基本信息：\n",
    "\n",
    "端点名称：projects/[your-project-id]/locations/us-central1/endpoints/3315907167046860800\n",
    "监控作业：projects/[your-project-id]/locations/us-central1/modelDeploymentMonitoringJobs/8672170640054157312\n",
    "统计数据和异常根路径（Google Cloud 存储）：gs://cloud-ai-platform-773884b1-2a32-48d6-8b83-c03cde416b68/model_monitoring/job-8672170640054157312\n",
    "BigQuery 命令：SELECT * FROM `bq://[your-project-id].model_deployment_monitoring_3315907167046860800.serving_predict`\n",
    "\n",
    "训练预测偏斜异常（原始特征）：\n",
    "\n",
    "异常报告路径（Google Cloud 存储）：gs://cloud-ai-platform-773884b1-2a32-48d6-8b83-c03cde416b68/model_monitoring/job-8672170640054157312/serving/2022-08-25T00:00/stats_and_anomalies/<deployed-model-id>/anomalies/training_prediction_skew_anomalies\n",
    "\n",
    "有关警报的更多信息，请访问模型监测警报页面。\n",
    "\n",
    "部署的模型 id: <deployed-model-id>\n",
    "\n",
    "特征名称\t异常简要描述\t异常详细描述\n",
    "country\t训练和服务之间的 Linfty 距离较大\tLinfty 距离介于训练和服务之间，为 0.947563（至多六个有效数字），高于阈值 0.5。差异最大的特征值为：Canada\n",
    "<blockquote>"
   ]
  },
  {
   "cell_type": "code",
   "execution_count": null,
   "metadata": {
    "id": "b91a0e19ff8b"
   },
   "outputs": [],
   "source": [
    "if os.getenv(\"IS_TESTING\"):\n",
    "    time.sleep(60 * 45)"
   ]
  },
  {
   "cell_type": "markdown",
   "metadata": {
    "id": "555642c341e1"
   },
   "source": [
    "### 生成用于漂移检测的合成预测请求\n",
    "\n",
    "接下来，您从BigQuery训练表中提取相同的前1000个实例用于预测请求。然后，通过进行以下更新修改数据（合成），以触发预测请求中的漂移检测：\n",
    "\n",
    "- `cnt_user_engagement`：将值增加4倍。"
   ]
  },
  {
   "cell_type": "code",
   "execution_count": null,
   "metadata": {
    "id": "cb26c3dea306"
   },
   "outputs": [],
   "source": [
    "# Download the table.\n",
    "table = bigquery.TableReference.from_string(DATASET_BQ_URI[5:])\n",
    "\n",
    "rows = bqclient.list_rows(table, max_results=1000)\n",
    "\n",
    "instances = []\n",
    "for row in rows:\n",
    "    instance = {}\n",
    "    for key, value in row.items():\n",
    "        if key == TARGET:\n",
    "            continue\n",
    "        if value is None:\n",
    "            value = \"\"\n",
    "        elif key == \"cnt_user_engagement\":\n",
    "            value = int(value * 4)\n",
    "        instance[key] = value\n",
    "    instances.append(instance)\n",
    "\n",
    "print(len(instances))"
   ]
  },
  {
   "cell_type": "markdown",
   "metadata": {
    "id": "6d002569dadc"
   },
   "source": [
    "进行预测请求\n",
    "\n",
    "接下来，您可以使用`predict()`方法将1000个预测请求发送至您的Vertex AI端点资源。"
   ]
  },
  {
   "cell_type": "code",
   "execution_count": null,
   "metadata": {
    "id": "b2d69d89cd66"
   },
   "outputs": [],
   "source": [
    "for instance in instances:\n",
    "    response = endpoint.predict(instances=[instance])\n",
    "\n",
    "prediction = response[0]\n",
    "\n",
    "# print the prediction for the first instance\n",
    "print(prediction[0])"
   ]
  },
  {
   "cell_type": "markdown",
   "metadata": {
    "id": "5184c68e4c99"
   },
   "source": [
    "### 记录抽样请求\n",
    "\n",
    "在下一个监测间隔中，抽样的预测结果会被复制到BigQuery的日志表中。一旦条目被记录，监测服务就会分析抽样数据。\n",
    "\n",
    "接下来，您等待第一个被记录的条目出现在BigQuery的日志表中用于预测样本。由于您发送了1000个预测请求，抽样率为50%，您应该会看到大约1000个条目。"
   ]
  },
  {
   "cell_type": "code",
   "execution_count": null,
   "metadata": {
    "id": "d9a2f9342b06"
   },
   "outputs": [],
   "source": [
    "while True:\n",
    "    time.sleep(180)\n",
    "\n",
    "    ENDPOINT_ID = endpoint.resource_name.split(\"/\")[-1]\n",
    "\n",
    "    table = bigquery.TableReference.from_string(\n",
    "        f\"{PROJECT_ID}.model_deployment_monitoring_{ENDPOINT_ID}.serving_predict\"\n",
    "    )\n",
    "    rows = bqclient.list_rows(table)\n",
    "    print(rows.total_rows)\n",
    "    if rows.total_rows > 550:\n",
    "        break"
   ]
  },
  {
   "cell_type": "markdown",
   "metadata": {
    "id": "683ed0ba4ccd"
   },
   "source": [
    "### 监控过程中的漂移检测\n",
    "\n",
    "特征输入的漂移检测发生在下一个监控间隔。在本教程中，您将监控间隔设置为一小时。因此，大约一个小时后，您的监控作业从**离线**状态变为**运行**状态。在运行过程中，它会分析此间隔内预测的日志样本表，并将其与上一个监控间隔的分布进行比较。\n",
    "\n",
    "一旦分析完成，监控作业会通过电子邮件通知您检测到的漂移情况，本例中为`cnt_user_engagement`。然后，监控作业会进入**离线**状态，直到下一个间隔。\n",
    "\n",
    "#### 等待监控间隔\n",
    "\n",
    "从监控间隔分析完成的时刻到您收到电子邮件警报可能需要40分钟或更长时间。"
   ]
  },
  {
   "cell_type": "code",
   "execution_count": null,
   "metadata": {
    "id": "2e64ffaae2de"
   },
   "outputs": [],
   "source": [
    "if os.getenv(\"IS_TESTING\"):\n",
    "    time.sleep(60 * 45)"
   ]
  },
  {
   "cell_type": "markdown",
   "metadata": {
    "id": "39cdad8fdcc5"
   },
   "source": [
    "### 删除监控任务\n",
    "\n",
    "收到电子邮件警报并验证内容后，你可以：\n",
    "- 使用`pause()`方法暂停监控任务。\n",
    "- 使用`delete()`方法删除监控任务。"
   ]
  },
  {
   "cell_type": "code",
   "execution_count": null,
   "metadata": {
    "id": "ef1ddc1d6017"
   },
   "outputs": [],
   "source": [
    "# Pause the job\n",
    "monitoring_job.pause()\n",
    "# Delete the job\n",
    "monitoring_job.delete()"
   ]
  },
  {
   "cell_type": "markdown",
   "metadata": {
    "id": "18889460bd33"
   },
   "source": [
    "清理\n",
    "\n",
    "要清理本项目中使用的所有Google Cloud资源，您可以删除用于教程的[Google Cloud\n",
    "项目](https://cloud.google.com/resource-manager/docs/creating-managing-projects#shutting_down_projects)。\n",
    "\n",
    "否则，您可以删除在本教程中创建的各个资源。"
   ]
  },
  {
   "cell_type": "code",
   "execution_count": null,
   "metadata": {
    "id": "c736a6bf1428"
   },
   "outputs": [],
   "source": [
    "# Undeploy the model from endpoint before deletion\n",
    "endpoint.undeploy_all()\n",
    "\n",
    "# Delete the endpoint\n",
    "endpoint.delete()\n",
    "\n",
    "# Delete the model\n",
    "model.delete()\n",
    "\n",
    "# Delete the Cloud Storage bucket\n",
    "delete_bucket = False  # Set True for deletion\n",
    "if delete_bucket:\n",
    "    ! gsutil rm -rf {BUCKET_URI}\n",
    "\n",
    "# Delete the locally generated files\n",
    "! rm -f schema.yaml\n",
    "\n",
    "# Delete the BigQuery table\n",
    "! bq rm -f {PROJECT_ID}.model_deployment_monitoring_{ENDPOINT_ID}"
   ]
  }
 ],
 "metadata": {
  "colab": {
   "collapsed_sections": [],
   "name": "get_started_with_model_monitoring_custom.ipynb",
   "toc_visible": true
  },
  "kernelspec": {
   "display_name": "Python 3",
   "name": "python3"
  }
 },
 "nbformat": 4,
 "nbformat_minor": 0
}
