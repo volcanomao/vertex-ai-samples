{
 "cells": [
  {
   "cell_type": "code",
   "execution_count": null,
   "metadata": {
    "cellView": "form",
    "id": "ur8xi4C7S06n"
   },
   "outputs": [],
   "source": [
    "# @title Copyright & License (click to expand)\n",
    "# Copyright 2022 Google LLC\n",
    "#\n",
    "# Licensed under the Apache License, Version 2.0 (the \"License\");\n",
    "# you may not use this file except in compliance with the License.\n",
    "# You may obtain a copy of the License at\n",
    "#\n",
    "#     https://www.apache.org/licenses/LICENSE-2.0\n",
    "#\n",
    "# Unless required by applicable law or agreed to in writing, software\n",
    "# distributed under the License is distributed on an \"AS IS\" BASIS,\n",
    "# WITHOUT WARRANTIES OR CONDITIONS OF ANY KIND, either express or implied.\n",
    "# See the License for the specific language governing permissions and\n",
    "# limitations under the License."
   ]
  },
  {
   "cell_type": "markdown",
   "metadata": {
    "id": "fsv4jGuU89rX"
   },
   "source": [
    "# 顶点 AI 模型监控设置表格模型\n",
    "\n",
    "<table align=\"left\">\n",
    "  <td>\n",
    "    <a href=\"https://colab.research.google.com/github/GoogleCloudPlatform/vertex-ai-samples/blob/main/notebooks/official/model_monitoring/get_started_with_model_monitoring_setup.ipynb\">\n",
    "      <img src=\"https://cloud.google.com/ml-engine/images/colab-logo-32px.png\" alt=\"Colab logo\"> 在 Colab 中运行\n",
    "    </a>\n",
    "  </td>\n",
    "  <td>\n",
    "    <a href=\"https://github.com/GoogleCloudPlatform/vertex-ai-samples/blob/main/notebooks/official/model_monitoring/get_started_with_model_monitoring_setup.ipynb\">\n",
    "        <img src=\"https://cloud.google.com/ml-engine/images/github-logo-32px.png\" alt=\"GitHub logo\">\n",
    "      在 GitHub 上查看\n",
    "    </a>\n",
    "  </td>\n",
    "  <td>\n",
    "    <a href=\"https://console.cloud.google.com/vertex-ai/workbench/deploy-notebook?download_url=https://raw.githubusercontent.com/GoogleCloudPlatform/vertex-ai-samples/main/notebooks/official/model_monitoring/get_started_with_model_monitoring_setup.ipynb\">\n",
    "      <img src=\"https://lh3.googleusercontent.com/UiNooY4LUgW_oTvpsNhPpQzsstV5W8F7rYgxgGBD85cWJoLmrOzhVs_ksK_vgx40SHs7jCqkTkCk=e14-rj-sc0xffffff-h130-w32\" alt=\"Vertex AI logo\">\n",
    "      在 Vertex AI Workbench 中打开\n",
    "    </a>\n",
    "  </td>\n",
    "</table>"
   ]
  },
  {
   "cell_type": "markdown",
   "metadata": {
    "id": "lA32H1oKGgpf"
   },
   "source": [
    "## 概述\n",
    "\n",
    "本教程演示了如何为表格模型设置Vertex AI模型监控。\n",
    "\n",
    "了解更多关于[Vertex AI模型监控](https://cloud.google.com/vertex-ai/docs/model-monitoring)。"
   ]
  },
  {
   "cell_type": "markdown",
   "metadata": {
    "id": "de998a3953c9"
   },
   "source": [
    "### 目标\n",
    "\n",
    "在这个笔记本中，您将学习如何设置`Vertex AI模型监控`服务，以检测输入预测请求中的特征偏差和漂移。\n",
    "\n",
    "本教程使用以下 Google Cloud ML 服务：\n",
    "\n",
    "- `Vertex AI模型监控`\n",
    "- `Vertex AI预测`\n",
    "- `Vertex AI模型`资源\n",
    "- `Vertex AI端点`资源\n",
    "\n",
    "执行的步骤包括：\n",
    "\n",
    "- 下载预先训练的自定义表格模型。\n",
    "- 将预训练模型上传为`模型`资源。\n",
    "- 将`模型`资源部署到`端点`资源。\n",
    "- 配置`端点`资源进行模型监控。\n",
    "    - 特征输入的偏差和漂移检测。\n",
    "    - 特征归因的偏差和漂移检测。\n",
    "- 通过发送1000个预测请求自动生成`输入模式`。\n",
    "- 列出、暂停、恢复和删除监控作业。\n",
    "- 用预定义的`输入模式`重新启动监控作业。\n",
    "- 查看记录的监控数据。"
   ]
  },
  {
   "cell_type": "markdown",
   "metadata": {
    "id": "edba71dc9840"
   },
   "source": [
    "### 模型\n",
    "\n",
    "本教程使用一个预训练模型，模型的工件存储在一个公共的云存储桶中。\n",
    "\n",
    "该模型基于[这篇博文](https://cloud.google.com/blog/topics/developers-practitioners/churn-prediction-game-developers-using-google-analytics-4-ga4-and-bigquery-ml)。这个模型的想法是，您的公司拥有详细的日志数据，描述了游戏用户如何与网站互动。原始数据包含以下信息类别：\n",
    "\n",
    "- 身份 - 独特的玩家身份号码\n",
    "- 人口统计特征 - 关于玩家的信息，比如玩家所在地理区域\n",
    "- 行为特征 - 玩家触发某些游戏事件的次数，比如达到新的水平的次数\n",
    "- 流失倾向 - 这是标签或目标特征，它提供了该玩家可能流失（即停止成为活跃玩家）的估计概率。"
   ]
  },
  {
   "cell_type": "markdown",
   "metadata": {
    "id": "t6Cd51FkG09E"
   },
   "source": [
    "### 费用 \n",
    "\n",
    "此教程使用 Google Cloud 的计费组件：\n",
    "\n",
    "* Vertex AI\n",
    "* BigQuery\n",
    "* Cloud Storage\n",
    "\n",
    "了解[Vertex AI 价格](https://cloud.google.com/vertex-ai/pricing)和[Cloud Storage 价格](https://cloud.google.com/storage/pricing), 并使用[Pricing Calculator 价格计算器](https://cloud.google.com/products/calculator/)来根据您的预期使用量生成一个费用估算。"
   ]
  },
  {
   "cell_type": "markdown",
   "metadata": {
    "id": "f3848df1e5b0"
   },
   "source": [
    "## 安装\n",
    "\n",
    "安装执行此笔记本所需的软件包。"
   ]
  },
  {
   "cell_type": "code",
   "execution_count": null,
   "metadata": {
    "id": "b24b232ee039"
   },
   "outputs": [],
   "source": [
    "# Install required packages.\n",
    "! pip3 install --quiet --upgrade google-cloud-aiplatform \\\n",
    "                                 google-cloud-bigquery \\\n",
    "                                 tensorflow==2.7 \\\n",
    "                                 protobuf==3.20.3"
   ]
  },
  {
   "cell_type": "markdown",
   "metadata": {
    "id": "restart"
   },
   "source": [
    "仅限协作：取消注释以下单元格以重新启动内核"
   ]
  },
  {
   "cell_type": "code",
   "execution_count": null,
   "metadata": {
    "id": "D-ZBOjErv5mM"
   },
   "outputs": [],
   "source": [
    "# Automatically restart kernel after installs so that your environment can access the new packages\n",
    "# import IPython\n",
    "\n",
    "# app = IPython.Application.instance()\n",
    "# app.kernel.do_shutdown(True)"
   ]
  },
  {
   "cell_type": "markdown",
   "metadata": {
    "id": "before_you_begin:nogpu"
   },
   "source": [
    "在开始之前\n",
    "\n",
    "设置你的项目ID\n",
    "\n",
    "**如果你不知道你的项目ID**，请尝试以下操作：\n",
    "* 运行 `gcloud config list`。\n",
    "* 运行 `gcloud projects list`。\n",
    "* 查看支持页面：[查找项目ID](https://support.google.com/googleapi/answer/7014113)"
   ]
  },
  {
   "cell_type": "code",
   "execution_count": null,
   "metadata": {
    "id": "set_project_id"
   },
   "outputs": [],
   "source": [
    "PROJECT_ID = \"[your-project-id]\"  # @param {type:\"string\"}\n",
    "\n",
    "# Set the project id\n",
    "! gcloud config set project {PROJECT_ID}"
   ]
  },
  {
   "cell_type": "markdown",
   "metadata": {
    "id": "region"
   },
   "source": [
    "#### 区域\n",
    "\n",
    "您也可以更改 Vertex AI 使用的 `REGION` 变量。了解更多关于 [Vertex AI 区域](https://cloud.google.com/vertex-ai/docs/general/locations) 的信息。"
   ]
  },
  {
   "cell_type": "code",
   "execution_count": null,
   "metadata": {
    "id": "2dw8q9fdQEH5"
   },
   "outputs": [],
   "source": [
    "REGION = \"us-central1\""
   ]
  },
  {
   "cell_type": "markdown",
   "metadata": {
    "id": "42c8a7c56abd"
   },
   "source": [
    "#### 用户电子邮件\n",
    "\n",
    "设置您的用户电子邮件地址以接收监控警报。"
   ]
  },
  {
   "cell_type": "code",
   "execution_count": null,
   "metadata": {
    "id": "ce2589511bb6"
   },
   "outputs": [],
   "source": [
    "import os\n",
    "\n",
    "USER_EMAIL = \"[your-email-address]\"  # @param {type:\"string\"}\n",
    "\n",
    "if os.getenv(\"IS_TESTING\"):\n",
    "    USER_EMAIL = \"noreply@google.com\""
   ]
  },
  {
   "cell_type": "markdown",
   "metadata": {
    "id": "gcp_authenticate"
   },
   "source": [
    "### 验证您的谷歌云账户\n",
    "\n",
    "根据您的Jupyter环境，您可能需要手动进行身份验证。请按照以下相关说明进行操作。\n",
    "\n",
    "**1. Vertex AI Workbench**\n",
    "* 无需操作，因为您已经通过验证。\n",
    "\n",
    "**2. 本地JupyterLab实例，取消注释并运行：**"
   ]
  },
  {
   "cell_type": "code",
   "execution_count": null,
   "metadata": {
    "id": "ce6043da7b33"
   },
   "outputs": [],
   "source": [
    "# ! gcloud auth login"
   ]
  },
  {
   "cell_type": "markdown",
   "metadata": {
    "id": "0367eac06a10"
   },
   "source": [
    "3. 合作，取消注释并运行："
   ]
  },
  {
   "cell_type": "code",
   "execution_count": null,
   "metadata": {
    "id": "21ad4dbb4a61"
   },
   "outputs": [],
   "source": [
    "# from google.colab import auth\n",
    "# auth.authenticate_user()"
   ]
  },
  {
   "cell_type": "markdown",
   "metadata": {
    "id": "c13224697bfb"
   },
   "source": [
    "查看如何将Cloud Storage权限授予您的服务帐号，请访问https://cloud.google.com/storage/docs/gsutil/commands/iam#ch-examples。"
   ]
  },
  {
   "cell_type": "markdown",
   "metadata": {
    "id": "8RJ3_20etd31"
   },
   "source": [
    "### 关于服务账号和权限的注意事项\n",
    "\n",
    "**默认情况下不需要配置**，如果遇到任何权限相关问题，请确保以上服务账号具有所需的角色：\n",
    "\n",
    "|服务账号电子邮件|描述|角色|\n",
    "|---|---|---|\n",
    "|PROJECT_NUMBER-compute@developer.gserviceaccount.com|Compute Engine默认服务账号|Dataflow管理员、Dataflow工作者、存储管理员、BigQuery管理员、Vertex AI用户|\n",
    "|service-PROJECT_NUMBER@gcp-sa-aiplatform.iam.gserviceaccount.com|AI 平台服务代理|Vertex AI 服务代理|\n",
    "\n",
    "1. 进入 https://console.cloud.google.com/iam-admin/iam。\n",
    "2. 勾选 \"包含由谷歌提供的角色授予\" 复选框。\n",
    "3. 授予相应的角色。\n",
    "\n",
    "### 使用来自不同项目的数据源\n",
    "- 对于BigQuery数据源，请授予两个服务账号的 \"BigQuery 数据查看器\" 角色。\n",
    "- 对于CSV数据源，请授予两个服务账号的 \"存储对象查看器\" 角色。"
   ]
  },
  {
   "cell_type": "markdown",
   "metadata": {
    "id": "bucket:mbsdk"
   },
   "source": [
    "创建一个云存储桶\n",
    "\n",
    "创建一个存储桶来存储中间产物，比如数据集。"
   ]
  },
  {
   "cell_type": "code",
   "execution_count": null,
   "metadata": {
    "id": "bucket"
   },
   "outputs": [],
   "source": [
    "BUCKET_URI = f\"gs://your-bucket-name-{PROJECT_ID}-unique\"  # @param {type:\"string\"}"
   ]
  },
  {
   "cell_type": "markdown",
   "metadata": {
    "id": "autoset_bucket"
   },
   "source": [
    "只有在您的存储桶不存在时才能运行以下单元格以创建您的云存储桶。"
   ]
  },
  {
   "cell_type": "code",
   "execution_count": null,
   "metadata": {
    "id": "91c46850b49b"
   },
   "outputs": [],
   "source": [
    "! gsutil mb -l {REGION} -p {PROJECT_ID} {BUCKET_URI}"
   ]
  },
  {
   "cell_type": "markdown",
   "metadata": {
    "id": "a0d294ff6d10"
   },
   "source": [
    "### 导入库"
   ]
  },
  {
   "cell_type": "code",
   "execution_count": null,
   "metadata": {
    "id": "bd7a633296eb"
   },
   "outputs": [],
   "source": [
    "import google.cloud.aiplatform as aiplatform\n",
    "from google.cloud import bigquery\n",
    "from google.cloud.aiplatform import model_monitoring\n",
    "from google.cloud.aiplatform.explain.metadata.tf.v2 import \\\n",
    "    saved_model_metadata_builder"
   ]
  },
  {
   "cell_type": "markdown",
   "metadata": {
    "id": "init_aip:mbsdk,all"
   },
   "source": [
    "### 初始化 Vertex AI SDK 用于 Python\n",
    "\n",
    "为您的项目和相应的存储桶初始化 Vertex AI SDK 用于 Python。"
   ]
  },
  {
   "cell_type": "code",
   "execution_count": null,
   "metadata": {
    "id": "init_aip:mbsdk,all"
   },
   "outputs": [],
   "source": [
    "aiplatform.init(project=PROJECT_ID, location=REGION)"
   ]
  },
  {
   "cell_type": "markdown",
   "metadata": {
    "id": "init_bq"
   },
   "source": [
    "### 创建 BigQuery 客户端\n",
    "\n",
    "在本教程中，您将使用与之前用于训练预训练模型的相同公共 BigQuery 表中的数据。您将创建一个客户端接口，然后用它来访问数据。"
   ]
  },
  {
   "cell_type": "code",
   "execution_count": null,
   "metadata": {
    "id": "init_bq"
   },
   "outputs": [],
   "source": [
    "bqclient = bigquery.Client(project=PROJECT_ID)"
   ]
  },
  {
   "cell_type": "markdown",
   "metadata": {
    "id": "accelerators:training,prediction"
   },
   "source": [
    "设置硬件加速器\n",
    "\n",
    "您可以为预测设置硬件加速器（例如，GPUs），或选择不使用任何（CPU）。硬件加速器可以降低预测请求的延迟响应时间。在选择硬件加速器时，请考虑延迟与额外成本的权衡。\n",
    "\n",
    "将变量 `DEPLOY_GPU/DEPLOY_NGPU` 设置为使用支持 GPU 的容器映像，以及分配给虚拟机（VM）实例的 GPU 数量。例如，要使用一个支持 GPU 的容器映像，并将 4 个 Nvidia Tesla K80 GPU 分配给每个 VM，您可以指定：\n",
    "\n",
    "(aiplatform.gapic.AcceleratorType.NVIDIA_TESLA_K80, 4)\n",
    "\n",
    "查看[可用加速器的位置](https://cloud.google.com/vertex-ai/docs/general/locations#accelerators)。\n",
    "\n",
    "否则，请指定`(None, None)`来使用一个在CPU上运行的容器映像。"
   ]
  },
  {
   "cell_type": "code",
   "execution_count": null,
   "metadata": {
    "id": "xd5PLXDTlugv"
   },
   "outputs": [],
   "source": [
    "GPU = False\n",
    "if GPU:\n",
    "    DEPLOY_GPU, DEPLOY_NGPU = (aiplatform.gapic.AcceleratorType.NVIDIA_TESLA_K80, 1)\n",
    "else:\n",
    "    DEPLOY_GPU, DEPLOY_NGPU = (None, None)"
   ]
  },
  {
   "cell_type": "markdown",
   "metadata": {
    "id": "container:training,prediction"
   },
   "source": [
    "设置预构建的容器\n",
    "\n",
    "设置用于预测的预构建 Docker 容器镜像。\n",
    "\n",
    "有关最新列表，请参阅[用于预测的预构建容器](https://cloud.google.com/ai-platform-unified/docs/predictions/pre-built-containers)。"
   ]
  },
  {
   "cell_type": "code",
   "execution_count": null,
   "metadata": {
    "id": "1u1mr18jlugv"
   },
   "outputs": [],
   "source": [
    "if GPU:\n",
    "    DEPLOY_VERSION = \"tf2-gpu.2-5\"\n",
    "else:\n",
    "    DEPLOY_VERSION = \"tf2-cpu.2-5\"\n",
    "\n",
    "DEPLOY_IMAGE = \"{}-docker.pkg.dev/vertex-ai/prediction/{}:latest\".format(\n",
    "    REGION.split(\"-\")[0], DEPLOY_VERSION\n",
    ")\n",
    "\n",
    "print(\"Deployment:\", DEPLOY_IMAGE, DEPLOY_GPU, DEPLOY_NGPU)"
   ]
  },
  {
   "cell_type": "markdown",
   "metadata": {
    "id": "machine:training,prediction"
   },
   "source": [
    "#### 设置机器类型\n",
    "\n",
    "接下来，设置用于训练和预测的机器类型。\n",
    "\n",
    "- 设置变量 `DEPLOY_COMPUTE` 以配置用于预测的计算资源。\n",
    " - `机器类型`\n",
    "     - `n1-standard`: 每个 vCPU 3.75GB 内存\n",
    "     - `n1-highmem`: 每个 vCPU 6.5GB 内存\n",
    "     - `n1-highcpu`: 每个 vCPU 0.9GB 内存\n",
    " - `vCPUs`: \\[2, 4, 8, 16, 32, 64, 96\\] 个\n",
    "\n",
    "*注意：您也可以在训练和部署中使用 n2 和 e2 机器类型，但它们不支持 GPU*。"
   ]
  },
  {
   "cell_type": "code",
   "execution_count": null,
   "metadata": {
    "id": "YAXwbqKKlugv"
   },
   "outputs": [],
   "source": [
    "MACHINE_TYPE = \"n1-standard\"\n",
    "\n",
    "VCPU = \"4\"\n",
    "TRAIN_COMPUTE = MACHINE_TYPE + \"-\" + VCPU\n",
    "print(\"Train machine type\", TRAIN_COMPUTE)\n",
    "\n",
    "MACHINE_TYPE = \"n1-standard\"\n",
    "\n",
    "VCPU = \"4\"\n",
    "DEPLOY_COMPUTE = MACHINE_TYPE + \"-\" + VCPU\n",
    "print(\"Deploy machine type\", DEPLOY_COMPUTE)"
   ]
  },
  {
   "cell_type": "markdown",
   "metadata": {
    "id": "b890e02cb4b0"
   },
   "source": [
    "## 介绍Vertex AI模型监控\n",
    "\n",
    "Vertex AI模型监控支持AutoML表格模型和自定义表格模型。您可以监控入站预测请求中特征的偏斜和漂移检测，或监控出站预测响应中特征归因（可解释AI）的偏斜和漂移检测--即归因对输出（预测）的贡献分布。\n",
    "\n",
    "以下是启用模型监控的基本步骤：\n",
    "\n",
    "1. 将`Vertex AI` AutoML或自定义表格模型部署到`Vertex AI端点`。\n",
    "2. 配置模型监控规范。\n",
    "3. 将模型监控规范上传到`Vertex AI端点`。\n",
    "4. 上传或自动生成用于解析的`输入模式`。\n",
    "5. 对于特征偏斜检测，上传训练数据以自动生成特征分布。\n",
    "6. 对于特征归因，上传相应的`Vertex AI可解释性`规范。\n",
    "\n",
    "一旦配置完成，您可以启用/禁用监控，更改警报并更新模型监控配置。\n",
    "\n",
    "当启用模型监控时，采样的传入预测请求将被记录到一个BigQuery表中。然后对记录的请求中包含的输入特征值进行分析，以便定期查看偏斜或漂移。您可以设置采样率以监控模型的一部分生产输入，并设置监控间隔。\n",
    "\n",
    "模型监控服务需要知道如何解析特征值，这称为输入模式。对于AutoML表格模型，输入模式会自动生成。对于自定义表格模型，服务会尝试从前1000个预测请求中自动推导输入模式。另外，您也可以上传输入模式。\n",
    "\n",
    "对于偏斜检测，监控服务需要训练数据中值的统计分布基线。对于AutoML表格模型，这会自动推导。对于自定义表格模型，您需要将训练数据上传到服务中，并让服务自动推导分布。\n",
    "\n",
    "对于特征归因偏斜和漂移检测，则需要为您部署的模型启用`Vertex AI可解释性`。\n",
    "\n",
    "了解更多关于[介绍Vertex AI模型监控](https://cloud.google.com/vertex-ai/docs/model-monitoring/overview)。"
   ]
  },
  {
   "cell_type": "markdown",
   "metadata": {
    "id": "1mhT_d_Bi-Kf"
   },
   "source": [
    "为`Vertex Explainable AI`生成可解释的元数据\n",
    "\n",
    "如果您想对输出预测（响应）的特征归因进行倾斜和漂移检测，您需要执行以下额外步骤：\n",
    "\n",
    "- 为模型指定可解释性规范。\n",
    "- 随后将模型作为`Vertex AI Model`资源上传时，包含可解释性规范。\n",
    "- 随后将模型监控配置规范上传到相应的`Vertex AI Endpoint`资源时，包含可解释性目标配置。\n",
    "\n",
    "作为第一步，您可以使用辅助方法`SavedModelMetadataBuilder()`为您的模型创建可解释的AI规范。\n",
    "\n",
    "了解更多关于[可解释性人工智能介绍](https://cloud.google.com/vertex-ai/docs/explainable-ai/overview)。"
   ]
  },
  {
   "cell_type": "code",
   "execution_count": null,
   "metadata": {
    "id": "805ae9b01889"
   },
   "outputs": [],
   "source": [
    "MODEL_ARTIFACT_URI = \"gs://mco-mm/churn\"\n",
    "\n",
    "params = {\"sampled_shapley_attribution\": {\"path_count\": 10}}\n",
    "explanation_parameters = aiplatform.explain.ExplanationParameters(params)\n",
    "\n",
    "builder = saved_model_metadata_builder.SavedModelMetadataBuilder(\n",
    "    model_path=MODEL_ARTIFACT_URI, outputs_to_explain=[\"churned_probs\"]\n",
    ")\n",
    "explanation_metadata = builder.get_metadata_protobuf()"
   ]
  },
  {
   "cell_type": "markdown",
   "metadata": {
    "id": "9bf06cd476e9"
   },
   "source": [
    "### 将模型工件上传为 `Vertex AI Model` 资源\n",
    "\n",
    "接下来，您可以使用 `upload()` 方法将预训练的自定义表格模型工件上传为 `Vertex AI Model` 资源，并使用以下参数：\n",
    "\n",
    "- `display_name`：`Model` 资源的人类可读名称。\n",
    "- `artifact_uri`：模型工件的 Cloud Storage 位置。\n",
    "- `serving_container_image`：在将模型部署到 `Vertex AI Endpoint` 资源时要使用的服务容器图像。\n",
    "- `explanation_parameters`：配置模型预测解释的参数。\n",
    "- `explanation_metadata`：描述模型输入和输出以进行解释的元数据。\n",
    "- `sync`：是否等待过程完成，还是立即返回（异步）。\n",
    "\n",
    "了解更多关于[将模型导入 Vertex AI](https://cloud.google.com/vertex-ai/docs/model-registry/import-model)。"
   ]
  },
  {
   "cell_type": "code",
   "execution_count": null,
   "metadata": {
    "id": "0193f247e216"
   },
   "outputs": [],
   "source": [
    "model = aiplatform.Model.upload(\n",
    "    display_name=\"churn\",\n",
    "    artifact_uri=MODEL_ARTIFACT_URI,\n",
    "    serving_container_image_uri=DEPLOY_IMAGE,\n",
    "    explanation_parameters=explanation_parameters,\n",
    "    explanation_metadata=explanation_metadata,\n",
    "    sync=True,\n",
    ")\n",
    "\n",
    "print(model)"
   ]
  },
  {
   "cell_type": "markdown",
   "metadata": {
    "id": "1069c6f0eba8"
   },
   "source": [
    "### 部署 `Vertex AI Model` 资源到 `Vertex AI Endpoint` 资源\n",
    "\n",
    "接下来，您可以使用 `deploy()` 方法将您的 `Vertex AI Model` 资源部署到 `Vertex AI Endpoint` 资源，使用以下参数：\n",
    "\n",
    "- `deploy_model_display`: 部署模型的人类可读名称。\n",
    "- `machine_type`: 每个 VM 节点实例的机器类型。\n",
    "- `min_replica_count`: 为自动调整而要预留的最小节点数目。\n",
    "- `max_replica_count`: 为自动调整而要预留的最大节点数目。\n",
    "- `accelerator_type`: 每个提供的节点的 GPU 加速器类型，如有的话。\n",
    "- `accelerator_count`: 每个提供的节点的 GPU 加速器数目，如有的话。\n",
    "\n",
    "了解更多关于[使用 Vertex AI 部署模型](https://cloud.google.com/vertex-ai/docs/predictions/deploy-model-api)。"
   ]
  },
  {
   "cell_type": "code",
   "execution_count": null,
   "metadata": {
    "id": "b883402dda8c"
   },
   "outputs": [],
   "source": [
    "MIN_NODES = 1\n",
    "MAX_NODES = 1\n",
    "\n",
    "if GPU:\n",
    "    endpoint = model.deploy(\n",
    "        deployed_model_display_name=\"churn\",\n",
    "        machine_type=DEPLOY_COMPUTE,\n",
    "        min_replica_count=MIN_NODES,\n",
    "        max_replica_count=MAX_NODES,\n",
    "        accelerator_type=DEPLOY_GPU.name,\n",
    "        accelerator_count=DEPLOY_NGPU,\n",
    "    )\n",
    "else:\n",
    "    endpoint = model.deploy(\n",
    "        deployed_model_display_name=\"churn\",\n",
    "        machine_type=DEPLOY_COMPUTE,\n",
    "        min_replica_count=MIN_NODES,\n",
    "        max_replica_count=MAX_NODES,\n",
    "    )"
   ]
  },
  {
   "cell_type": "markdown",
   "metadata": {
    "id": "ba4a2924aec6"
   },
   "source": [
    "## 配置监控任务\n",
    "\n",
    "配置监控任务包括以下规范：\n",
    "\n",
    "- `alert_config`：发送监控警报的电子邮件地址。\n",
    "- `schedule_config`：分析预测的时间窗口。\n",
    "- `logging_sampling_strategy`：抽样预测请求的速率。\n",
    "- `drift_config`：监视的特征和漂移阈值。\n",
    "- `skew_config`：监视的特征和偏斜阈值。\n",
    "\n",
    "了解更多关于[监控特征偏斜和漂移](https://cloud.google.com/vertex-ai/docs/model-monitoring/using-model-monitoring)。"
   ]
  },
  {
   "cell_type": "markdown",
   "metadata": {
    "id": "87abd93294c4"
   },
   "source": [
    "### 配置警报规范\n",
    "\n",
    "首先，您可以使用以下设置配置`alerting_config`规范:\n",
    "\n",
    "- `user_emails`: 发送警报的一个或多个电子邮件列表。\n",
    "- `enable_logging`: 将检测到的异常流式传输到Cloud Logging。默认值为False。\n",
    "\n",
    "了解更多关于[为模型监控作业配置警报](https://cloud.google.com/vertex-ai/docs/model-monitoring/using-model-monitoring#monitor-job)。"
   ]
  },
  {
   "cell_type": "code",
   "execution_count": null,
   "metadata": {
    "id": "be6137df0086"
   },
   "outputs": [],
   "source": [
    "# Create alerting configuration.\n",
    "alerting_config = model_monitoring.EmailAlertConfig(\n",
    "    user_emails=[USER_EMAIL], enable_logging=True\n",
    ")"
   ]
  },
  {
   "cell_type": "markdown",
   "metadata": {
    "id": "66c7283276bc"
   },
   "source": [
    "### 配置监控间隔规范\n",
    "\n",
    "接下来，您将使用以下设置配置`schedule_config`规范：\n",
    "\n",
    "- `monitor_interval`:设置模型监控作业的调度间隔时间，单位为小时。最小时间间隔为1小时。\n",
    "\n",
    "*注意:* REST API中规定的单位是秒。"
   ]
  },
  {
   "cell_type": "code",
   "execution_count": null,
   "metadata": {
    "id": "1230b92d1eed"
   },
   "outputs": [],
   "source": [
    "# Monitoring Interval\n",
    "MONITOR_INTERVAL = 1  # @param {type:\"number\"}\n",
    "\n",
    "# Create schedule configuration\n",
    "schedule_config = model_monitoring.ScheduleConfig(monitor_interval=MONITOR_INTERVAL)"
   ]
  },
  {
   "cell_type": "markdown",
   "metadata": {
    "id": "3bd8dd304191"
   },
   "source": [
    "### 配置抽样规范\n",
    "\n",
    "接下来，您将使用以下设置配置`logging_sampling_strategy`规范：\n",
    "\n",
    "- `sample_rate`: 按百分比（在0和1之间）随机抽样进行监控。 选择的样本将被记录到BigQuery表中。"
   ]
  },
  {
   "cell_type": "code",
   "execution_count": null,
   "metadata": {
    "id": "3688c245a0e9"
   },
   "outputs": [],
   "source": [
    "# Sampling rate (optional, default=.8)\n",
    "SAMPLE_RATE = 0.5  # @param {type:\"number\"}\n",
    "\n",
    "# Create sampling configuration\n",
    "logging_sampling_strategy = model_monitoring.RandomSampleConfig(sample_rate=SAMPLE_RATE)"
   ]
  },
  {
   "cell_type": "markdown",
   "metadata": {
    "id": "c1bc3bc8992f"
   },
   "source": [
    "### 配置漂移检测规范\n",
    "\n",
    "接下来，您可以使用以下设置配置`drift_config`规范：\n",
    "\n",
    "- `drift_thresholds`：一个键/值对的字典，其中键是要监视的特征输入以检测特征输入漂移。值是检测阈值。当未指定时，特征的默认漂移阈值为0.3（30%）。\n",
    "- `attribute_drift_threshold`：一个键/值对的字典，其中键是要监视的特征以检测特征归因漂移。值是检测阈值。当未指定时，特征的默认漂移阈值为0.3（30%）。\n",
    "\n",
    "*注意：*启用特征输入或特征归因的漂移检测是可选的。"
   ]
  },
  {
   "cell_type": "code",
   "execution_count": null,
   "metadata": {
    "id": "128bdc05cb5b"
   },
   "outputs": [],
   "source": [
    "DRIFT_THRESHOLD_VALUE = 0.05\n",
    "ATTRIBUTION_DRIFT_THRESHOLD_VALUE = 0.05\n",
    "\n",
    "DRIFT_THRESHOLDS = {\n",
    "    \"country\": DRIFT_THRESHOLD_VALUE,\n",
    "    \"cnt_user_engagement\": DRIFT_THRESHOLD_VALUE,\n",
    "}\n",
    "\n",
    "ATTRIBUTION_DRIFT_THRESHOLDS = {\n",
    "    \"country\": ATTRIBUTION_DRIFT_THRESHOLD_VALUE,\n",
    "    \"cnt_user_engagement\": ATTRIBUTION_DRIFT_THRESHOLD_VALUE,\n",
    "}\n",
    "\n",
    "drift_config = model_monitoring.DriftDetectionConfig(\n",
    "    drift_thresholds=DRIFT_THRESHOLDS,\n",
    "    attribute_drift_thresholds=ATTRIBUTION_DRIFT_THRESHOLDS,\n",
    ")"
   ]
  },
  {
   "cell_type": "markdown",
   "metadata": {
    "id": "651b576aa037"
   },
   "source": [
    "### 配置偏斜检测规范\n",
    "\n",
    "接下来，您可以使用以下设置配置`skew_config`规范：\n",
    "\n",
    "- `data_source`：原始训练数据集的数据源。源的格式默认为BigQuery表。 否则，设置`data_format`必须设置为以下值之一。 数据的位置必须是Cloud Storage位置。\n",
    "  - `csv`： \n",
    "  - `jsonl`：\n",
    "  - `tf-record`：\n",
    "- `skew_thresholds`：一个键/值对字典，其中键是要监视的特征输入的输入特征。 值是检测阈值。 如果未指定，则特征的默认偏斜阈值为0.3（30％）。\n",
    "- `attribute_skew_thresholds`：一个键/值对字典，其中键是要监视特征属性偏斜的输入特征。 值是检测阈值。 如果未指定，则特征的默认偏斜阈值为0.3（30％）。\n",
    "- `target_field`：训练数据集的目标标签\n",
    "\n",
    "*注意：*启用偏斜检测是可选的。"
   ]
  },
  {
   "cell_type": "code",
   "execution_count": null,
   "metadata": {
    "id": "4cb098c74d2c"
   },
   "outputs": [],
   "source": [
    "# URI to training dataset.\n",
    "DATASET_BQ_URI = \"bq://mco-mm.bqmlga4.train\"  # @param {type:\"string\"}\n",
    "# Prediction target column name in training dataset.\n",
    "TARGET = \"churned\"\n",
    "\n",
    "SKEW_THRESHOLD_VALUE = 0.5\n",
    "\n",
    "SKEW_THRESHOLDS = {\n",
    "    \"country\": SKEW_THRESHOLD_VALUE,\n",
    "    \"cnt_user_engagement\": SKEW_THRESHOLD_VALUE,\n",
    "}\n",
    "\n",
    "ATTRIBUTE_SKEW_THRESHOLDS = {\n",
    "    \"country\": SKEW_THRESHOLD_VALUE,\n",
    "    \"cnt_user_engagement\": SKEW_THRESHOLD_VALUE,\n",
    "}\n",
    "\n",
    "skew_config = model_monitoring.SkewDetectionConfig(\n",
    "    data_source=DATASET_BQ_URI,\n",
    "    skew_thresholds=SKEW_THRESHOLDS,\n",
    "    attribute_skew_thresholds=ATTRIBUTE_SKEW_THRESHOLDS,\n",
    "    target_field=TARGET,\n",
    ")"
   ]
  },
  {
   "cell_type": "markdown",
   "metadata": {
    "id": "8b6d5bd71ac9"
   },
   "source": [
    "### 组装目标规范\n",
    "\n",
    "最后，您可以使用以下设置来组装目标规范 `objective_config`：\n",
    "\n",
    "- `skew_detection_config`:（可选）用于倾斜检测配置的规范。\n",
    "- `drift_detection_config`:（可选）用于漂移检测配置的规范。\n",
    "- `explanation_config`:（可选）用于启用特征归因监控时解释的规范。"
   ]
  },
  {
   "cell_type": "code",
   "execution_count": null,
   "metadata": {
    "id": "d353205a8aec"
   },
   "outputs": [],
   "source": [
    "explanation_config = model_monitoring.ExplanationConfig()\n",
    "\n",
    "objective_config = model_monitoring.ObjectiveConfig(\n",
    "    skew_detection_config=skew_config,\n",
    "    drift_detection_config=drift_config,\n",
    "    explanation_config=explanation_config,\n",
    ")"
   ]
  },
  {
   "cell_type": "markdown",
   "metadata": {
    "id": "82c7e7af7163"
   },
   "source": [
    "### 创建监控作业\n",
    "\n",
    "您可以使用`aiplatform.ModelDeploymentMonitoringJob.create()`方法创建一个监控作业，根据您的监控规范，参数如下：\n",
    "\n",
    "- `display_name`：监控作业的易读名称。\n",
    "- `project`：项目 ID。\n",
    "- `region`：地区。\n",
    "- `endpoint`：要启用监控的完全限定资源名称的`Vertex AI Endpoint`。\n",
    "- `logging_sampling_strategy`：采样配置的规范。\n",
    "- `schedule_config`：调度配置的规范。\n",
    "- `alert_config`：警报配置的规范。\n",
    "- `objective_configs`：目标配置的规范。"
   ]
  },
  {
   "cell_type": "code",
   "execution_count": null,
   "metadata": {
    "id": "86f76670f439"
   },
   "outputs": [],
   "source": [
    "monitoring_job = aiplatform.ModelDeploymentMonitoringJob.create(\n",
    "    display_name=\"churn\",\n",
    "    project=PROJECT_ID,\n",
    "    location=REGION,\n",
    "    endpoint=endpoint,\n",
    "    logging_sampling_strategy=logging_sampling_strategy,\n",
    "    schedule_config=schedule_config,\n",
    "    alert_config=alerting_config,\n",
    "    objective_configs=objective_config,\n",
    ")\n",
    "\n",
    "print(monitoring_job.gca_resource)"
   ]
  },
  {
   "cell_type": "markdown",
   "metadata": {
    "id": "3c6d3b620264"
   },
   "source": [
    "#### 监控作业的邮件通知。\n",
    "\n",
    "一个邮件通知会发送到警报配置中的电子邮件地址，通知模型监控作业现在已启用。\n",
    "\n",
    "邮件内容将会是：\n",
    "\n",
    "<blockquote>\n",
    "您好，Vertex AI 客户，\n",
    "\n",
    "您收到这封邮件是因为您正在使用 Vertex AI 模型监控服务。\n",
    "这封邮件是告知您我们已收到您设置漂移或倾斜检测的请求，用于下面列出的预测端点。从现在开始，传入的预测请求将被抽样并记录用于分析。\n",
    "原始请求和响应将从预测服务中收集并保存在 bq://[your-project-id].model_deployment_monitoring_[endpoint-id].serving_predict。\n",
    "</blockquote>"
   ]
  },
  {
   "cell_type": "markdown",
   "metadata": {
    "id": "dcc4aae9e20f"
   },
   "source": [
    "#### 监控任务状态\n",
    "\n",
    "在开始`Vertex AI Model Monitoring`作业之后，直到计算出`input schema`和`skew distribution baselines`之前，作业将处于`PENDING`状态。这个过程是依次进行的。在这个示例中，使用自动生成的`input schema`时，服务会保持在`PENDING`状态，直到发送1000个预测请求（后文会讨论）为止。\n",
    "\n",
    "一旦生成了`input schema`，则会启动一个批处理作业来从训练数据生成分布基线。同样，服务会在计算基线分布之前保持在`PENDING`状态。\n",
    "\n",
    "一旦基线分布生成，监控作业将进入`OFFLINE`状态。按照间隔的基础 - 例如，每小时一次，监控作业会在分析采样数据时进入`RUNNING`状态。完成后，它将返回到`OFFLINE`状态，等待下一次计划的分析。"
   ]
  },
  {
   "cell_type": "code",
   "execution_count": null,
   "metadata": {
    "id": "f640fb7f10cd"
   },
   "outputs": [],
   "source": [
    "jobs = monitoring_job.list(filter=\"display_name=churn\")\n",
    "job = jobs[0]\n",
    "print(job.state)"
   ]
  },
  {
   "cell_type": "markdown",
   "metadata": {
    "id": "3960076190ab"
   },
   "source": [
    "## 初始化解析以自动生成输入架构\n",
    "\n",
    "当您的“端点”接收到1000个预测请求后，建模服务将自动解析并创建“输入架构”。\n",
    "\n",
    "### 创建1000个实例数据\n",
    "\n",
    "在本示例中，BigQuery训练数据中的前1000条记录被用作前1000个预测请求。\n",
    "\n",
    "*注意:* 在这种情况下，每个实例是一个预测请求。换句话说，发送1000个单个实例的预测请求与发送包含1000个实例的单个预测请求是相同的。"
   ]
  },
  {
   "cell_type": "code",
   "execution_count": null,
   "metadata": {
    "id": "cb26c3dea306"
   },
   "outputs": [],
   "source": [
    "# Download the table.\n",
    "table = bigquery.TableReference.from_string(DATASET_BQ_URI[5:])\n",
    "\n",
    "rows = bqclient.list_rows(table, max_results=1000)\n",
    "\n",
    "instances = []\n",
    "for row in rows:\n",
    "    instance = {}\n",
    "    for key, value in row.items():\n",
    "        if key == TARGET:\n",
    "            continue\n",
    "        if value is None:\n",
    "            value = \"\"\n",
    "        instance[key] = value\n",
    "    instances.append(instance)\n",
    "\n",
    "print(len(instances))"
   ]
  },
  {
   "cell_type": "markdown",
   "metadata": {
    "id": "6d002569dadc"
   },
   "source": [
    "### 发起初始预测请求\n",
    "\n",
    "接下来，您可以使用`predict()`方法向您的`Vertex AI Endpoint`资源发送1000个预测请求。"
   ]
  },
  {
   "cell_type": "code",
   "execution_count": null,
   "metadata": {
    "id": "b2d69d89cd66"
   },
   "outputs": [],
   "source": [
    "response = endpoint.predict(instances=instances)\n",
    "\n",
    "prediction = response[0]\n",
    "\n",
    "# print the prediction for the first instance\n",
    "print(prediction[0])"
   ]
  },
  {
   "cell_type": "markdown",
   "metadata": {
    "id": "e990a8821178"
   },
   "source": [
    "### 输入模式的自动生成\n",
    "\n",
    "在模型监控服务收到1000个预测请求实例后，监控将开始分析预测请求，自动生成特征输入的`输入模式`。\n",
    "\n",
    "### 基线分布的自动生成\n",
    "\n",
    "在`输入模式`生成后，监控服务将创建一个批处理作业来分析训练数据，以确定基线分布。"
   ]
  },
  {
   "cell_type": "code",
   "execution_count": null,
   "metadata": {
    "id": "670b5bc98c2a"
   },
   "outputs": [],
   "source": [
    "# Pause a bit for the baseline distribution to be calculated\n",
    "if os.getenv(\"IS_TESTING\"):\n",
    "    import time\n",
    "\n",
    "    time.sleep(120)"
   ]
  },
  {
   "cell_type": "markdown",
   "metadata": {
    "id": "08f499f7adae"
   },
   "source": [
    "监控的BigQuery表位置\n",
    "\n",
    "用于记录采样请求的BigQuery表位于：\n",
    "\n",
    "`<PROJECT_ID>.model_deployment_monitoring_<ENDPOINT_ID>`.serving_predict,\n",
    "\n",
    "其中<ENDPOINT_ID>是`Vertex AI端点`资源的数字标识符。"
   ]
  },
  {
   "cell_type": "code",
   "execution_count": null,
   "metadata": {
    "id": "ae7b9b1ce8df"
   },
   "outputs": [],
   "source": [
    "ENDPOINT_ID = endpoint.resource_name.split(\"/\")[-1]\n",
    "\n",
    "BQ_MON_TABLE = f\"{PROJECT_ID}.model_deployment_monitoring_{ENDPOINT_ID}.serving_predict\"\n",
    "\n",
    "table = bigquery.TableReference.from_string(BQ_MON_TABLE)\n",
    "bq_table = bqclient.get_table(table)\n",
    "\n",
    "print(bq_table)"
   ]
  },
  {
   "cell_type": "markdown",
   "metadata": {
    "id": "69147b259cbf"
   },
   "source": [
    "暂停监视任务\n",
    "\n",
    "您可以使用`pause()`和`resume()`方法分别暂停和恢复监视任务。"
   ]
  },
  {
   "cell_type": "code",
   "execution_count": null,
   "metadata": {
    "id": "2f4e99831237"
   },
   "outputs": [],
   "source": [
    "monitoring_job.pause()\n",
    "monitoring_job.resume()"
   ]
  },
  {
   "cell_type": "markdown",
   "metadata": {
    "id": "8c92eb3ffdeb"
   },
   "source": [
    "### 列出监控任务\n",
    "\n",
    "接下来，您可以使用 `list()` 方法获取所有监控任务的列表。"
   ]
  },
  {
   "cell_type": "code",
   "execution_count": null,
   "metadata": {
    "id": "7c4332598e13"
   },
   "outputs": [],
   "source": [
    "monitoring_jobs = aiplatform.ModelDeploymentMonitoringJob.list()\n",
    "print(monitoring_jobs)"
   ]
  },
  {
   "cell_type": "markdown",
   "metadata": {
    "id": "a5c889257c9e"
   },
   "source": [
    "### 通过筛选器列出监控任务\n",
    "\n",
    "或者，您可以使用`filter`参数来列出一部分任务。在本例中，您可以通过监控任务的显示名称来筛选列表。"
   ]
  },
  {
   "cell_type": "code",
   "execution_count": null,
   "metadata": {
    "id": "39a45c1a7cea"
   },
   "outputs": [],
   "source": [
    "monitoring_jobs = aiplatform.ModelDeploymentMonitoringJob.list(\n",
    "    filter=\"display_name=churn\"\n",
    ")\n",
    "\n",
    "print(monitoring_jobs[0].gca_resource)"
   ]
  },
  {
   "cell_type": "markdown",
   "metadata": {
    "id": "39cdad8fdcc5"
   },
   "source": [
    "### 删除监控任务\n",
    "\n",
    "您可以使用 `delete()` 方法来删除监控任务。\n",
    "\n",
    "*注意：* 当监控任务处于“运行”状态时，您无法删除该任务。您必须先暂停该任务。"
   ]
  },
  {
   "cell_type": "code",
   "execution_count": null,
   "metadata": {
    "id": "bdc44ad0471a"
   },
   "outputs": [],
   "source": [
    "monitoring_job.pause()\n",
    "monitoring_job.delete()"
   ]
  },
  {
   "cell_type": "markdown",
   "metadata": {
    "id": "313b543dc772"
   },
   "source": [
    "删除已记录的采样数据。"
   ]
  },
  {
   "cell_type": "code",
   "execution_count": null,
   "metadata": {
    "id": "9a638ce66806"
   },
   "outputs": [],
   "source": [
    "# Delete the monitoring logged data BigQuery dataset\n",
    "\n",
    "! bq rm -r -f {PROJECT_ID}.model_deployment_monitoring_{ENDPOINT_ID}"
   ]
  },
  {
   "cell_type": "markdown",
   "metadata": {
    "id": "73fbeb1b68ba"
   },
   "source": [
    "### 使用预定义输入模式创建监控作业\n",
    "\n",
    "接下来，您将创建另一个监控作业。这次您将加载一个预定义的`输入模式`。加载后，监控服务将使用这个`输入模式`，而不是从前1000个预测实例自动生成一个。\n",
    "\n",
    "#### 创建预定义输入模式\n",
    "\n",
    "预定义的`输入模式`被指定为一个YAML文件。在这个例子中，您检索用于训练数据的BigQuery模式，其中包括特征名称和数据类型，以生成YAML规范。预定义的`输入模式`必须加载到Cloud Storage位置。\n",
    "\n",
    "了解更多关于[自定义实例模式以解析输入](https://cloud.google.com/vertex-ai/docs/model-monitoring/overview#custom-input-schemas)。"
   ]
  },
  {
   "cell_type": "code",
   "execution_count": null,
   "metadata": {
    "id": "59becb56ad34"
   },
   "outputs": [],
   "source": [
    "# Get the BQ table\n",
    "\n",
    "table = bigquery.TableReference.from_string(DATASET_BQ_URI[5:])\n",
    "bq_table = bqclient.get_table(table)\n",
    "\n",
    "yaml = \"\"\"type: object\n",
    "properties:\n",
    "\"\"\"\n",
    "\n",
    "schema = bq_table.schema\n",
    "for feature in schema:\n",
    "    if feature.name == TARGET:\n",
    "        continue\n",
    "    if feature.field_type == \"STRING\":\n",
    "        f_type = \"string\"\n",
    "    else:\n",
    "        f_type = \"integer\"\n",
    "    yaml += f\"\"\"  {feature.name}:\n",
    "    type: {f_type}\n",
    "\"\"\"\n",
    "\n",
    "yaml += \"\"\"required:\n",
    "\"\"\"\n",
    "for feature in schema:\n",
    "    if feature.name == TARGET:\n",
    "        continue\n",
    "    yaml += f\"\"\"- {feature.name}\n",
    "\"\"\"\n",
    "\n",
    "print(yaml)\n",
    "\n",
    "with open(\"schema.yaml\", \"w\") as f:\n",
    "    f.write(yaml)\n",
    "\n",
    "! gsutil cp schema.yaml {BUCKET_URI}/schema.yaml"
   ]
  },
  {
   "cell_type": "markdown",
   "metadata": {
    "id": "45df86099448"
   },
   "source": [
    "### 创建监控作业\n",
    "\n",
    "最后，您使用 `create()` 方法创建监控作业，并添加以下附加参数：\n",
    "\n",
    "- `analysis_instance_schema_uri`：包含 `输入模式` 的 YAML 文件的位置。"
   ]
  },
  {
   "cell_type": "code",
   "execution_count": null,
   "metadata": {
    "id": "4b8dd381c5c3"
   },
   "outputs": [],
   "source": [
    "monitoring_job = aiplatform.ModelDeploymentMonitoringJob.create(\n",
    "    display_name=\"churn\",\n",
    "    project=PROJECT_ID,\n",
    "    location=REGION,\n",
    "    endpoint=endpoint,\n",
    "    logging_sampling_strategy=logging_sampling_strategy,\n",
    "    schedule_config=schedule_config,\n",
    "    alert_config=alerting_config,\n",
    "    objective_configs=objective_config,\n",
    "    analysis_instance_schema_uri=f\"{BUCKET_URI}/schema.yaml\",\n",
    ")\n",
    "\n",
    "print(monitoring_job)"
   ]
  },
  {
   "cell_type": "markdown",
   "metadata": {
    "id": "39cdad8fdcc5"
   },
   "source": [
    "### 删除监控任务\n",
    "\n",
    "您可以使用 `delete()` 方法来删除监控任务。"
   ]
  },
  {
   "cell_type": "code",
   "execution_count": null,
   "metadata": {
    "id": "ef1ddc1d6017"
   },
   "outputs": [],
   "source": [
    "monitoring_job.pause()\n",
    "monitoring_job.delete()"
   ]
  },
  {
   "cell_type": "markdown",
   "metadata": {
    "id": "c6280efab664"
   },
   "source": [
    "取消部署并删除`Vertex AI Endpoint`资源\n",
    "\n",
    "您可以使用`delete()`方法删除您的`Vertex AI Endpoint`资源。在删除之前，必须先取消部署到您的`Vertex AI Endpoint`资源的任何模型。"
   ]
  },
  {
   "cell_type": "code",
   "execution_count": null,
   "metadata": {
    "id": "ad0d28b762e5"
   },
   "outputs": [],
   "source": [
    "endpoint.undeploy_all()\n",
    "endpoint.delete()"
   ]
  },
  {
   "cell_type": "markdown",
   "metadata": {
    "id": "448f3698d50f"
   },
   "source": [
    "删除`Vertex AI模型`资源\n",
    "\n",
    "您可以使用`delete（）`方法删除您的`Vertex AI模型`资源。"
   ]
  },
  {
   "cell_type": "code",
   "execution_count": null,
   "metadata": {
    "id": "0feab0a0b5d7"
   },
   "outputs": [],
   "source": [
    "model.delete()"
   ]
  },
  {
   "cell_type": "markdown",
   "metadata": {
    "id": "18889460bd33"
   },
   "source": [
    "清理工作\n",
    "\n",
    "要清理此项目中使用的所有Google Cloud资源，您可以删除用于本教程的[Google Cloud项目](https://cloud.google.com/resource-manager/docs/creating-managing-projects#shutting_down_projects)。\n",
    "\n",
    "否则，您可以删除在本教程中创建的各个资源。"
   ]
  },
  {
   "cell_type": "code",
   "execution_count": null,
   "metadata": {
    "id": "8c1de58f049e"
   },
   "outputs": [],
   "source": [
    "delete_bucket = False\n",
    "\n",
    "if delete_bucket or os.getenv(\"IS_TESTING\"):\n",
    "    ! gsutil rm -rf {BUCKET_URI}\n",
    "\n",
    "! rm -f schema.yaml\n",
    "\n",
    "! bq rm -r -f {PROJECT_ID}.model_deployment_monitoring_{ENDPOINT_ID}"
   ]
  }
 ],
 "metadata": {
  "colab": {
   "collapsed_sections": [],
   "name": "get_started_with_model_monitoring_setup.ipynb",
   "toc_visible": true
  },
  "kernelspec": {
   "display_name": "Python 3",
   "name": "python3"
  }
 },
 "nbformat": 4,
 "nbformat_minor": 0
}
