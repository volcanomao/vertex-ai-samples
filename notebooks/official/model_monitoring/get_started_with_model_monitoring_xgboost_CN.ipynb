{
 "cells": [
  {
   "cell_type": "code",
   "execution_count": null,
   "metadata": {
    "cellView": "form",
    "id": "ur8xi4C7S06n"
   },
   "outputs": [],
   "source": [
    "# @title Copyright & License (click to expand)\n",
    "# Copyright 2022 Google LLC\n",
    "#\n",
    "# Licensed under the Apache License, Version 2.0 (the \"License\");\n",
    "# you may not use this file except in compliance with the License.\n",
    "# You may obtain a copy of the License at\n",
    "#\n",
    "#     https://www.apache.org/licenses/LICENSE-2.0\n",
    "#\n",
    "# Unless required by applicable law or agreed to in writing, software\n",
    "# distributed under the License is distributed on an \"AS IS\" BASIS,\n",
    "# WITHOUT WARRANTIES OR CONDITIONS OF ANY KIND, either express or implied.\n",
    "# See the License for the specific language governing permissions and\n",
    "# limitations under the License."
   ]
  },
  {
   "cell_type": "markdown",
   "metadata": {
    "id": "fsv4jGuU89rX"
   },
   "source": [
    "# Vertex AI模型监控XGBoost模型\n",
    "\n",
    "<table align=\"left\">\n",
    "  <td style=\"text-align: center\">\n",
    "    <a href=\"https://colab.research.google.com/github/GoogleCloudPlatform/vertex-ai-samples/blob/main/notebooks/official/model_monitoring/get_started_with_model_monitoring_xgboost.ipynb\">\n",
    "      <img src=\"https://cloud.google.com/ml-engine/images/colab-logo-32px.png\" alt=\"Colab logo\"><br> 在Colab中运行\n",
    "    </a>\n",
    "  </td>\n",
    "  <td style=\"text-align: center\">\n",
    "    <a href=\"https://console.cloud.google.com/vertex-ai/colab/import/https:%2F%2Fgithub.com%2FGoogleCloudPlatform%2Fvertex-ai-samples%2Fblob%2Fmain%2Fnotebooks%2Fofficial%2Fmodel_monitoring%2Fget_started_with_model_monitoring_xgboost.ipynb\">\n",
    "      <img width=\"32px\" src=\"https://cloud.google.com/ml-engine/images/colab-enterprise-logo-32px.png\" alt=\"Google Cloud Colab Enterprise logo\"><br> 在Colab Enterprise中打开\n",
    "    </a>\n",
    "  </td>\n",
    "  <td style=\"text-align: center\">\n",
    "    <a href=\"https://github.com/GoogleCloudPlatform/vertex-ai-samples/blob/main/notebooks/official/model_monitoring/get_started_with_model_monitoring_xgboost.ipynb\">\n",
    "        <img src=\"https://cloud.google.com/ml-engine/images/github-logo-32px.png\" alt=\"GitHub logo\"><br>\n",
    "      在GitHub上查看\n",
    "    </a>\n",
    "  </td> \n",
    "  <td style=\"text-align: center\">\n",
    "    <a href=\"https://console.cloud.google.com/vertex-ai/workbench/deploy-notebook?download_url=https://raw.githubusercontent.com/GoogleCloudPlatform/vertex-ai-samples/main/notebooks/official/model_monitoring/get_started_with_model_monitoring_xgboost.ipynb\">\n",
    "      <img src=\"https://lh3.googleusercontent.com/UiNooY4LUgW_oTvpsNhPpQzsstV5W8F7rYgxgGBD85cWJoLmrOzhVs_ksK_vgx40SHs7jCqkTkCk=e14-rj-sc0xffffff-h130-w32\" alt=\"Vertex AI logo\"><br>\n",
    "      在Vertex AI Workbench中打开\n",
    "    </a>\n",
    "  </td>\n",
    "</table>"
   ]
  },
  {
   "cell_type": "markdown",
   "metadata": {
    "id": "lA32H1oKGgpf"
   },
   "source": [
    "## 概述\n",
    "\n",
    "本教程演示了如何使用Vertex AI Model Monitoring监控XGBoost模型。\n",
    "\n",
    "了解更多关于[Vertex AI Model Monitoring](https://cloud.google.com/vertex-ai/docs/model-monitoring)。"
   ]
  },
  {
   "cell_type": "markdown",
   "metadata": {
    "id": "de998a3953c9"
   },
   "source": [
    "### 目标\n",
    "\n",
    "在本笔记本中，您将学习如何使用Vertex AI模型监控服务来检测XGBoost模型的输入预测请求中的特征偏差和漂移。\n",
    "\n",
    "本教程使用以下谷歌云ML服务：\n",
    "\n",
    "- Vertex AI模型监控\n",
    "- Vertex AI预测\n",
    "- Vertex AI模型资源\n",
    "- Vertex AI端点资源\n",
    "\n",
    "执行的步骤包括：\n",
    "\n",
    "- 下载预训练的XGBoost模型。\n",
    "- 将预训练模型上传到Vertex AI模型注册表。\n",
    "- 将模型资源部署到Vertex AI端点资源。\n",
    "- 配置端点资源以进行模型监控：\n",
    "  - 仅执行漂移检测 -- 无法访问训练数据。\n",
    "  - 预定义输入模式，将特征别名映射到模型的未命名数组输入。\n",
    "- 生成用于漂移的合成预测请求。\n",
    "\n",
    "了解更多关于[Vertex AI模型监控简介](https://cloud.google.com/vertex-ai/docs/model-monitoring/overview)。"
   ]
  },
  {
   "cell_type": "markdown",
   "metadata": {
    "id": "edba71dc9840"
   },
   "source": [
    "### 模型\n",
    "\n",
    "本教程使用的模型是一个预训练的 XGBoost 模型，该模型是在[TensorFlow Datasets](https://www.tensorflow.org/datasets/catalog/overview)中的[Iris 数据集](https://www.tensorflow.org/datasets/catalog/iris)上训练而成的。训练好的模型可以预测三种鸢尾花的类型：山鸢尾、维吉尼亚鸢尾或变色鸢尾。"
   ]
  },
  {
   "cell_type": "markdown",
   "metadata": {
    "id": "t6Cd51FkG09E"
   },
   "source": [
    "费用\n",
    "\n",
    "本教程使用 Google Cloud 的计费组件：\n",
    "\n",
    "* Vertex AI\n",
    "* BigQuery\n",
    "* Cloud Storage\n",
    "\n",
    "了解 [ Vertex AI 价格 ](https://cloud.google.com/vertex-ai/pricing) 和 [ Cloud Storage 价格 ](https://cloud.google.com/storage/pricing)，并使用 [ 价格计算器 ](https://cloud.google.com/products/calculator/) 根据您预计的使用情况生成费用估算。"
   ]
  },
  {
   "cell_type": "markdown",
   "metadata": {
    "id": "f0316df526f8"
   },
   "source": [
    "开始吧"
   ]
  },
  {
   "cell_type": "markdown",
   "metadata": {
    "id": "f3848df1e5b0"
   },
   "source": [
    "### 为 Python 安装 Vertex AI SDK 和其他必需的软件包"
   ]
  },
  {
   "cell_type": "code",
   "execution_count": null,
   "metadata": {
    "id": "b24b232ee039"
   },
   "outputs": [],
   "source": [
    "# Install required packages.\n",
    "! pip3 install --quiet --upgrade google-cloud-aiplatform \\\n",
    "                                 google-cloud-bigquery"
   ]
  },
  {
   "cell_type": "markdown",
   "metadata": {
    "id": "restart"
   },
   "source": [
    "重新启动运行时（仅针对Colab）\n",
    "\n",
    "为了使用新安装的包，您必须在Google Colab上重新启动运行时。"
   ]
  },
  {
   "cell_type": "code",
   "execution_count": null,
   "metadata": {
    "id": "D-ZBOjErv5mM"
   },
   "outputs": [],
   "source": [
    "import sys\n",
    "\n",
    "if \"google.colab\" in sys.modules:\n",
    "\n",
    "    import IPython\n",
    "\n",
    "    app = IPython.Application.instance()\n",
    "    app.kernel.do_shutdown(True)"
   ]
  },
  {
   "cell_type": "markdown",
   "metadata": {
    "id": "c87a2a5d7e35"
   },
   "source": [
    "<div class=\"alert alert-block alert-warning\">\n",
    "<b>⚠️ 内核将重新启动。请等待直到它完成后再继续下一步。⚠️</b>\n",
    "</div>"
   ]
  },
  {
   "cell_type": "markdown",
   "metadata": {
    "id": "ff666ce4051c"
   },
   "source": [
    "### 在Google Colab上验证您的笔记本环境\n",
    "\n",
    "在Google Colab上验证您的环境。"
   ]
  },
  {
   "cell_type": "code",
   "execution_count": null,
   "metadata": {
    "id": "cc7251520a07"
   },
   "outputs": [],
   "source": [
    "import sys\n",
    "\n",
    "if \"google.colab\" in sys.modules:\n",
    "\n",
    "    from google.colab import auth\n",
    "\n",
    "    auth.authenticate_user()"
   ]
  },
  {
   "cell_type": "markdown",
   "metadata": {
    "id": "374c1c8dea6d"
   },
   "source": [
    "设置Google云项目信息\n",
    "\n",
    "了解更多关于[设置项目和开发环境](https://cloud.google.com/vertex-ai/docs/start/cloud-environment)。"
   ]
  },
  {
   "cell_type": "code",
   "execution_count": null,
   "metadata": {
    "id": "set_project_id"
   },
   "outputs": [],
   "source": [
    "PROJECT_ID = \"[your-project-id]\"  # @param {type:\"string\"}\n",
    "LOCATION = \"us-central1\"  # @param {type:\"string\"}"
   ]
  },
  {
   "cell_type": "markdown",
   "metadata": {
    "id": "42c8a7c56abd"
   },
   "source": [
    "### 用户电子邮件\n",
    "\n",
    "设置您的用户电子邮件地址以接收监控警报。"
   ]
  },
  {
   "cell_type": "code",
   "execution_count": null,
   "metadata": {
    "id": "ce2589511bb6"
   },
   "outputs": [],
   "source": [
    "import os\n",
    "\n",
    "USER_EMAIL = \"[your-email-addr]\"  # @param {type:\"string\"}\n",
    "\n",
    "if os.getenv(\"IS_TESTING\"):\n",
    "    USER_EMAIL = \"noreply@google.com\""
   ]
  },
  {
   "cell_type": "markdown",
   "metadata": {
    "id": "8RJ3_20etd31"
   },
   "source": [
    "### 关于服务账号和权限的注意事项\n",
    "\n",
    "**默认情况下不需要任何配置**，如果遇到与权限相关的问题，请确保上述服务账号具有所需的角色：\n",
    "\n",
    "|服务账号邮箱|描述|角色|\n",
    "|---|---|---|\n",
    "|PROJECT_NUMBER-compute@developer.gserviceaccount.com|计算引擎默认服务账号|Dataflow Admin, Dataflow Worker, Storage Admin, BigQuery Admin, Vertex AI User|\n",
    "|service-PROJECT_NUMBER@gcp-sa-aiplatform.iam.gserviceaccount.com|AI平台服务代理|Vertex AI服务代理|\n",
    "\n",
    "1. 进入[IAM控制台](https://console.cloud.google.com/iam-admin/iam)。\n",
    "2. 选中**包含由谷歌提供的角色授予**复选框。\n",
    "3. 找到上述邮箱。\n",
    "4. 授予相应的角色。\n",
    "\n",
    "### 使用来自不同项目的数据源\n",
    "如果您正在使用来自不同项目的数据源：\n",
    "- 对于BigQuery数据源，为两个服务账号授予“BigQuery数据查看器”角色。\n",
    "- 对于CSV数据源，为两个服务账号授予“存储对象查看器”角色。"
   ]
  },
  {
   "cell_type": "markdown",
   "metadata": {
    "id": "bucket:mbsdk"
   },
   "source": [
    "创建一个云存储桶\n",
    "\n",
    "创建一个存储桶来存储中间工件，如数据集。"
   ]
  },
  {
   "cell_type": "code",
   "execution_count": null,
   "metadata": {
    "id": "bucket"
   },
   "outputs": [],
   "source": [
    "BUCKET_URI = f\"gs://your-bucket-name-{PROJECT_ID}-unique\"  # @param {type:\"string\"}"
   ]
  },
  {
   "cell_type": "markdown",
   "metadata": {
    "id": "autoset_bucket"
   },
   "source": [
    "如果您的存储桶不存在：运行以下单元格创建您的云存储桶。"
   ]
  },
  {
   "cell_type": "code",
   "execution_count": null,
   "metadata": {
    "id": "91c46850b49b"
   },
   "outputs": [],
   "source": [
    "! gsutil mb -l $LOCATION -p $PROJECT_ID $BUCKET_URI"
   ]
  },
  {
   "cell_type": "markdown",
   "metadata": {
    "id": "a0d294ff6d10"
   },
   "source": [
    "### 导入库"
   ]
  },
  {
   "cell_type": "code",
   "execution_count": null,
   "metadata": {
    "id": "bd7a633296eb"
   },
   "outputs": [],
   "source": [
    "import os\n",
    "import random\n",
    "\n",
    "import google.cloud.aiplatform as aiplatform\n",
    "from google.cloud import bigquery\n",
    "from google.cloud.aiplatform import model_monitoring"
   ]
  },
  {
   "cell_type": "markdown",
   "metadata": {
    "id": "init_aip:mbsdk,all"
   },
   "source": [
    "### 初始化 Python 的 Vertex AI SDK\n",
    "\n",
    "要开始使用 Vertex AI，您必须[启用 Vertex AI API](https://console.cloud.google.com/flows/enableapi?apiid=aiplatform.googleapis.com)。"
   ]
  },
  {
   "cell_type": "code",
   "execution_count": null,
   "metadata": {
    "id": "init_aip:mbsdk,all"
   },
   "outputs": [],
   "source": [
    "aiplatform.init(project=PROJECT_ID, location=LOCATION)"
   ]
  },
  {
   "cell_type": "markdown",
   "metadata": {
    "id": "init_bq"
   },
   "source": [
    "### 创建BigQuery客户端\n",
    "\n",
    "在本教程中，您使用了与用于训练预训练模型的相同的公共BigQuery表中的数据。您创建了一个客户端接口，随后用于访问数据。"
   ]
  },
  {
   "cell_type": "code",
   "execution_count": null,
   "metadata": {
    "id": "init_bq"
   },
   "outputs": [],
   "source": [
    "bqclient = bigquery.Client(project=PROJECT_ID)"
   ]
  },
  {
   "cell_type": "markdown",
   "metadata": {
    "id": "container:training,prediction"
   },
   "source": [
    "#### 设置预构建容器\n",
    "\n",
    "设置预构建的 Docker 容器镜像以进行预测。\n",
    "\n",
    "要获取最新列表，请参阅[用于预测的预构建容器](https://cloud.google.com/vertex-ai/docs/predictions/pre-built-containers)。"
   ]
  },
  {
   "cell_type": "code",
   "execution_count": null,
   "metadata": {
    "id": "1u1mr18jlugv"
   },
   "outputs": [],
   "source": [
    "DEPLOY_VERSION = \"xgboost-cpu.1-1\"\n",
    "\n",
    "DEPLOY_IMAGE = \"{}-docker.pkg.dev/vertex-ai/prediction/{}:latest\".format(\n",
    "    LOCATION.split(\"-\")[0], DEPLOY_VERSION\n",
    ")\n",
    "\n",
    "print(\"Deployment:\", DEPLOY_IMAGE)"
   ]
  },
  {
   "cell_type": "markdown",
   "metadata": {
    "id": "machine:training,prediction"
   },
   "source": [
    "#### 设置机器类型\n",
    "\n",
    "接下来，设置用于训练和预测的机器类型。\n",
    "\n",
    "- 设置变量`DEPLOY_COMPUTE`以配置用于预测的计算资源。\n",
    " - 设置一个`机器类型`：\n",
    "     - `n1-standard`：每个 vCPU 3.75GB 内存\n",
    "     - `n1-highmem`：每个 vCPU 6.5GB 内存\n",
    "     - `n1-highcpu`：每个 vCPU 0.9GB 内存\n",
    " - `vCPUs`：数量为 \\[2, 4, 8, 16, 32, 64, 96\\]\n",
    "\n",
    "**注意**：您也可以使用 n2 和 e2 机器类型进行训练和部署，但它们不支持GPU。"
   ]
  },
  {
   "cell_type": "code",
   "execution_count": null,
   "metadata": {
    "id": "YAXwbqKKlugv"
   },
   "outputs": [],
   "source": [
    "MACHINE_TYPE = \"n1-standard\"\n",
    "\n",
    "VCPU = \"4\"\n",
    "TRAIN_COMPUTE = MACHINE_TYPE + \"-\" + VCPU\n",
    "print(\"Train machine type\", TRAIN_COMPUTE)\n",
    "\n",
    "MACHINE_TYPE = \"n1-standard\"\n",
    "\n",
    "VCPU = \"4\"\n",
    "DEPLOY_COMPUTE = MACHINE_TYPE + \"-\" + VCPU\n",
    "print(\"Deploy machine type\", DEPLOY_COMPUTE)"
   ]
  },
  {
   "cell_type": "markdown",
   "metadata": {
    "id": "b890e02cb4b0"
   },
   "source": [
    "## Vertex AI 模型监控简介\n",
    "\n",
    "Vertex AI 模型监控支持 AutoML 表格模型和自定义表格模型。您可以监控入站预测请求中的特征倾斜和漂移检测，或者监控出站预测响应中的特征归因（可解释 AI）。换句话说，您可以监控衡量特征对输出（预测）的贡献的归因分布。\n",
    "\n",
    "以下是启用模型监控的基本步骤：\n",
    "\n",
    "1. 将 Vertex AI AutoML 或自定义表格模型部署到 Vertex AI 端点。\n",
    "2. 配置模型监控规范。\n",
    "3. 上传模型监控规范到 Vertex AI 端点。\n",
    "4. 上传架构或使用*输入模式*的自动生成进行解析。\n",
    "5. 对于特征倾斜检测，上传训练数据。这样可以自动生成特征分布。\n",
    "6. 对于特征归因，上传相应的*Vertex 可解释 AI*规范。\n",
    "\n",
    "配置完成后，您可以启用或禁用监控，更改警报并更新模型监控配置。\n",
    "\n",
    "启用模型监控后，采样的传入预测请求将被记录到 BigQuery 表中。然后分析记录请求中包含的输入特征值，以检测特定间隔的倾斜或漂移。您可以设置采样率以监视模型的一部分实际输入，并设置监控间隔。\n",
    "\n",
    "模型监控服务需要知道如何解析特征值，这称为输入模式。对于 AutoML 表格模型，输入架构会自动生成。对于自定义表格模型，服务尝试自动从前 1000 个预测请求中推导输入模式。或者，您可以上传输入模式。\n",
    "\n",
    "对于倾斜检测，监控服务需要训练数据中值的统计分布基线。对于 AutoML 表格模型，这会自动生成。对于自定义表格模型，您需要将训练数据上传到服务中，并让服务自动推导分布。\n",
    "\n",
    "对于特征归因倾斜和漂移检测，您需要为已部署的自定义表格模型启用 Vertex 可解释 AI 功能。对于 AutoML 模型，Vertex 可解释 AI 会自动启用。\n",
    "\n",
    "了解更多有关[Vertex AI 模型监控简介](https://cloud.google.com/vertex-ai/docs/model-monitoring/overview)。"
   ]
  },
  {
   "cell_type": "markdown",
   "metadata": {
    "id": "9bf06cd476e9"
   },
   "source": [
    "将模型工件上传到Vertex AI模型注册表\n",
    "\n",
    "首先，使用`upload()`方法将预训练的XGBoost表格模型工件作为Vertex AI模型资源上传，使用以下参数：\n",
    "\n",
    "- `display_name`：模型资源的可读名称。\n",
    "- `artifact_uri`：模型工件的云存储位置。\n",
    "- `serving_container_image`：模型部署到Vertex AI端点资源时要使用的服务容器映像。\n",
    "- `sync`：是否等待过程完成，或立即返回（异步）。"
   ]
  },
  {
   "cell_type": "code",
   "execution_count": null,
   "metadata": {
    "id": "0193f247e216"
   },
   "outputs": [],
   "source": [
    "MODEL_ARTIFACT_URI = (\n",
    "    \"gs://cloud-samples-data/vertex-ai/model-deployment/models/xgboost_iris\"\n",
    ")\n",
    "\n",
    "model = aiplatform.Model.upload(\n",
    "    display_name=\"xgboost_iris\",\n",
    "    artifact_uri=MODEL_ARTIFACT_URI,\n",
    "    serving_container_image_uri=DEPLOY_IMAGE,\n",
    "    sync=True,\n",
    ")\n",
    "\n",
    "print(model)"
   ]
  },
  {
   "cell_type": "markdown",
   "metadata": {
    "id": "1069c6f0eba8"
   },
   "source": [
    "### 部署模型到终端\n",
    "\n",
    "接下来，使用`deploy()`方法将您的Vertex AI模型资源部署到Vertex AI终端资源，使用以下参数：\n",
    "\n",
    "- `deploy_model_display`: 部署模型的人类可读名称。\n",
    "- `machine_type`: 每个VM节点实例的机器类型。\n",
    "- `min_replica_count`: 自动扩展需预留的最小节点数。\n",
    "- `max_replica_count`: 自动扩展需预留的最大节点数。"
   ]
  },
  {
   "cell_type": "code",
   "execution_count": null,
   "metadata": {
    "id": "b883402dda8c"
   },
   "outputs": [],
   "source": [
    "MIN_NODES = 1\n",
    "MAX_NODES = 1\n",
    "\n",
    "\n",
    "endpoint = model.deploy(\n",
    "    deployed_model_display_name=\"xgboost_iris\",\n",
    "    machine_type=DEPLOY_COMPUTE,\n",
    "    min_replica_count=MIN_NODES,\n",
    "    max_replica_count=MAX_NODES,\n",
    ")"
   ]
  },
  {
   "cell_type": "markdown",
   "metadata": {
    "id": "ba4a2924aec6"
   },
   "source": [
    "## 配置监控任务\n",
    "\n",
    "配置监控任务包括以下规范：\n",
    "\n",
    "- `alert_config`：应该接收监控警报的电子邮件地址（们）。\n",
    "- `schedule_config`：分析预测的时间窗口。\n",
    "- `logging_sampling_strategy`：对预测请求进行抽样的速率。\n",
    "- `drift_config`：要监视的特征和漂移阈值。\n",
    "- `skew_config`：要监视的特征和偏差阈值。"
   ]
  },
  {
   "cell_type": "markdown",
   "metadata": {
    "id": "87abd93294c4"
   },
   "source": [
    "### 配置警报规范\n",
    "\n",
    "使用以下设置配置`alerting_config`规范：\n",
    "\n",
    "- `user_emails`：应接收警报的一个或多个电子邮件列表。\n",
    "- `enable_logging`：将检测到的异常流式传输到Cloud Logging。默认值为False。"
   ]
  },
  {
   "cell_type": "code",
   "execution_count": null,
   "metadata": {
    "id": "be6137df0086"
   },
   "outputs": [],
   "source": [
    "# Create alerting configuration.\n",
    "alerting_config = model_monitoring.EmailAlertConfig(\n",
    "    user_emails=[USER_EMAIL], enable_logging=True\n",
    ")"
   ]
  },
  {
   "cell_type": "markdown",
   "metadata": {
    "id": "66c7283276bc"
   },
   "source": [
    "### 配置监控间隔规范\n",
    "\n",
    "接下来，您将使用以下设置配置`schedule_config`规范：\n",
    "\n",
    "- `monitor_interval`: 设置模型监控作业的调度间隔，单位为小时。最小时间间隔为1小时。"
   ]
  },
  {
   "cell_type": "code",
   "execution_count": null,
   "metadata": {
    "id": "1230b92d1eed"
   },
   "outputs": [],
   "source": [
    "# Monitoring Interval\n",
    "MONITOR_INTERVAL = 1  # @param {type:\"number\"}\n",
    "\n",
    "# Create schedule configuration\n",
    "schedule_config = model_monitoring.ScheduleConfig(monitor_interval=MONITOR_INTERVAL)"
   ]
  },
  {
   "cell_type": "markdown",
   "metadata": {
    "id": "3bd8dd304191"
   },
   "source": [
    "### 配置采样规范\n",
    "\n",
    "接下来，您可以使用以下设置配置`logging_sampling_strategy`规范：\n",
    "\n",
    "- `sample_rate`: 作为百分比（介于0和1之间）的速率，用于随机抽样监视预测请求。选定的样本将被记录到一个BigQuery表中。"
   ]
  },
  {
   "cell_type": "code",
   "execution_count": null,
   "metadata": {
    "id": "3688c245a0e9"
   },
   "outputs": [],
   "source": [
    "# Sampling rate (optional, default=.8)\n",
    "SAMPLE_RATE = 0.5  # @param {type:\"number\"}\n",
    "\n",
    "# Create sampling configuration\n",
    "logging_sampling_strategy = model_monitoring.RandomSampleConfig(sample_rate=SAMPLE_RATE)"
   ]
  },
  {
   "cell_type": "markdown",
   "metadata": {
    "id": "c1bc3bc8992f"
   },
   "source": [
    "### 配置漂移检测规范\n",
    "\n",
    "接下来，您可以使用以下设置来配置 `drift_config` 规范：\n",
    "\n",
    "- `drift_thresholds`: 一个键/值对字典，其中键是要监控漂移的输入特征，值是检测阈值。如果未指定，则特征的默认漂移阈值为 0.3（30%）。\n",
    "\n",
    "*注意:* 启用漂移检测是可选的。"
   ]
  },
  {
   "cell_type": "code",
   "execution_count": null,
   "metadata": {
    "id": "128bdc05cb5b"
   },
   "outputs": [],
   "source": [
    "DRIFT_THRESHOLD_VALUE = 0.05\n",
    "\n",
    "DRIFT_THRESHOLDS = {\n",
    "    \"sepal_length\": DRIFT_THRESHOLD_VALUE,\n",
    "    \"petal_length\": DRIFT_THRESHOLD_VALUE,\n",
    "}\n",
    "\n",
    "drift_config = model_monitoring.DriftDetectionConfig(drift_thresholds=DRIFT_THRESHOLDS)"
   ]
  },
  {
   "cell_type": "markdown",
   "metadata": {
    "id": "8b6d5bd71ac9"
   },
   "source": [
    "### 组装客观规范\n",
    "\n",
    "最后，您将客观规范 `objective_config` 与以下设置进行组装：\n",
    "\n",
    "- `skew_detection_config`：（可选）用于倾斜检测配置的规范。\n",
    "- `drift_detection_config`：（可选）用于漂移检测配置的规范。\n",
    "- `explanation_config`：（可选）在启用特征归因监视时用于解释的规范。\n",
    "\n",
    "*注意：*您不需要配置倾斜检测，因为假设您无法访问训练数据。"
   ]
  },
  {
   "cell_type": "code",
   "execution_count": null,
   "metadata": {
    "id": "d353205a8aec"
   },
   "outputs": [],
   "source": [
    "objective_config = model_monitoring.ObjectiveConfig(\n",
    "    skew_detection_config=None,\n",
    "    drift_detection_config=drift_config,\n",
    "    explanation_config=None,\n",
    ")"
   ]
  },
  {
   "cell_type": "markdown",
   "metadata": {
    "id": "8ac30ffa72b5"
   },
   "source": [
    "### 创建输入模式\n",
    "\n",
    "监控服务需要了解模型的输入特性和数据类型，这被称为*输入模式*。*输入模式*可以是以下两种之一：\n",
    " - 预加载到监控服务。\n",
    " - 在接收到前1000个预测实例后，由监控服务自动生成。\n",
    "\n",
    "在本教程中，您将预加载*输入模式*。\n",
    "\n",
    "#### 创建预定义的输入模式\n",
    "\n",
    "预定义的*输入模式*以YAML文件指定。在这个例子中，您将根据模型的输入层生成YAML规范。在这种情况下，输入层是一个由四个浮点数值组成的数组。在模式中，这表示为：\n",
    "\n",
    "- `type: array`：指示输入是一个数组（列表）\n",
    "- `properties`：数组中输入的有序列表\n",
    "- `properties -> name`：对应数组中值的别名（例如，sepal_length）。\n",
    "- `properties -> type: number`：数组元素的值为浮点数。\n",
    "- `required`：由别名指定的数组中值的顺序。\n",
    "\n",
    "然后，输入模式告知模型监控服务如何将未命名的输入值映射到相应的特性别名，然后可以在您的模型监控配置中指定这些别名。\n",
    "\n",
    "预定义的`输入模式`必须加载到云存储位置。\n",
    "\n",
    "了解更多关于[解析输入的自定义实例模式](https://cloud.google.com/vertex-ai/docs/model-monitoring/overview#custom-input-schemas)。"
   ]
  },
  {
   "cell_type": "code",
   "execution_count": null,
   "metadata": {
    "id": "59becb56ad34"
   },
   "outputs": [],
   "source": [
    "yaml = \"\"\"type: array\n",
    "properties:\n",
    "  sepal_length:\n",
    "    type: number\n",
    "  sepal_width:\n",
    "    type: number\n",
    "  petal_length:\n",
    "    type: number\n",
    "  petal_width:\n",
    "    type: number\n",
    "required:\n",
    "  - sepal_length\n",
    "  - sepal_width\n",
    "  - petal_length\n",
    "  - petal_width\n",
    "\"\"\"\n",
    "\n",
    "print(yaml)\n",
    "\n",
    "with open(\"schema.yaml\", \"w\") as f:\n",
    "    f.write(yaml)\n",
    "\n",
    "! gsutil cp schema.yaml {BUCKET_URI}/schema.yaml"
   ]
  },
  {
   "cell_type": "markdown",
   "metadata": {
    "id": "82c7e7af7163"
   },
   "source": [
    "### 创建监控作业\n",
    "\n",
    "使用Vertex AI的`ModelDeploymentMonitoringJob.create()`方法创建一个监控作业，使用您的监控规范，并使用以下参数：\n",
    "\n",
    "- `display_name`：监控作业的可读名称。\n",
    "- `project`：项目ID。\n",
    "- `location`：位置。\n",
    "- `endpoint`：要启用监控的Vertex AI端点的完全限定资源名称。\n",
    "- `logging_sampling_strategy`：采样配置的规范。\n",
    "- `schedule_config`：调度配置的规范。\n",
    "- `alert_config`：警报配置的规范。\n",
    "- `objective_configs`：目标配置的规范。\n",
    "- `analysis_instance_schema_uri`：包含*输入模式*的YAML文件的位置。"
   ]
  },
  {
   "cell_type": "code",
   "execution_count": null,
   "metadata": {
    "id": "4b8dd381c5c3"
   },
   "outputs": [],
   "source": [
    "monitoring_job = aiplatform.ModelDeploymentMonitoringJob.create(\n",
    "    display_name=\"xgboost_iris\",\n",
    "    project=PROJECT_ID,\n",
    "    location=LOCATION,\n",
    "    endpoint=endpoint,\n",
    "    logging_sampling_strategy=logging_sampling_strategy,\n",
    "    schedule_config=schedule_config,\n",
    "    alert_config=alerting_config,\n",
    "    objective_configs=objective_config,\n",
    "    analysis_instance_schema_uri=f\"{BUCKET_URI}/schema.yaml\",\n",
    ")\n",
    "\n",
    "print(monitoring_job)"
   ]
  },
  {
   "cell_type": "markdown",
   "metadata": {
    "id": "3c6d3b620264"
   },
   "source": [
    "模型监控作业的电子邮件通知。\n",
    "\n",
    "电子邮件通知将发送到警报配置中的电子邮件地址，通知您模型监控作业现在已启用。\n",
    "\n",
    "电子邮件的内容如下：\n",
    "\n",
    "<blockquote>\n",
    "您好，Vertex AI 客户，\n",
    "\n",
    "您收到此邮件是因为您正在使用 Vertex AI 模型监控服务。\n",
    "此邮件是通知您我们已收到您设置漂移或偏差检测的请求，用于下面列出的预测端点。从现在开始，传入的预测请求将被采样并记录以进行分析。\n",
    "原始请求和响应将从预测服务中收集并保存在 bq://[your-project-id].model_deployment_monitoring_[endpoint-id].serving_predict 。\n",
    "</blockquote>"
   ]
  },
  {
   "cell_type": "markdown",
   "metadata": {
    "id": "dcc4aae9e20f"
   },
   "source": [
    "#### 监控作业状态\n",
    "\n",
    "在启动Vertex AI模型监视作业之后，它会保持在**PENDING**状态，直到计算出`偏差分布基线`。监视服务会启动一个批处理作业，从训练数据生成分布基线。\n",
    "\n",
    "一旦基线分布生成完成，监视作业将变为**OFFLINE**状态。每隔一段时间，例如每小时一次，监视作业会进入**RUNNING**状态，分析采样数据。完成后，它将回到**OFFLINE**状态，并等待下一次计划的分析。"
   ]
  },
  {
   "cell_type": "code",
   "execution_count": null,
   "metadata": {
    "id": "f640fb7f10cd"
   },
   "outputs": [],
   "source": [
    "jobs = monitoring_job.list(filter=\"display_name=xgboost_iris\")\n",
    "job = jobs[0]\n",
    "print(job.state)"
   ]
  },
  {
   "cell_type": "markdown",
   "metadata": {
    "id": "e385d103aba6"
   },
   "source": [
    "暂停一下，等待监控任务启用。"
   ]
  },
  {
   "cell_type": "code",
   "execution_count": null,
   "metadata": {
    "id": "670b5bc98c2a"
   },
   "outputs": [],
   "source": [
    "import time\n",
    "\n",
    "time.sleep(180)"
   ]
  },
  {
   "cell_type": "markdown",
   "metadata": {
    "id": "555642c341e1"
   },
   "source": [
    "### 生成第一个基准线的合成预测请求\n",
    "\n",
    "接下来，您需要创建 1000 个合成数据项，用于预测请求。"
   ]
  },
  {
   "cell_type": "code",
   "execution_count": null,
   "metadata": {
    "id": "cb26c3dea306"
   },
   "outputs": [],
   "source": [
    "instances = []\n",
    "for _ in range(1000):\n",
    "    sepal_length = random.uniform(0.5, 3.5)\n",
    "    sepal_width = random.uniform(0.2, 2.0)\n",
    "    petal_length = random.uniform(0.5, 2.0)\n",
    "    petal_width = random.uniform(0.2, 1.5)\n",
    "    instances.append([sepal_length, sepal_width, petal_length, petal_width])"
   ]
  },
  {
   "cell_type": "markdown",
   "metadata": {
    "id": "6d002569dadc"
   },
   "source": [
    "### 发送预测请求\n",
    "\n",
    "接下来，使用`predict()`方法将1000个预测请求发送到您的Vertex AI端点资源。\n",
    "\n",
    "请注意，模型输出的类别是一个浮点数值。例如，`0.0`表示标签`0`。"
   ]
  },
  {
   "cell_type": "code",
   "execution_count": null,
   "metadata": {
    "id": "b2d69d89cd66"
   },
   "outputs": [],
   "source": [
    "for instance in instances:\n",
    "    response = endpoint.predict(instances=[instance])\n",
    "\n",
    "prediction = response[0]\n",
    "\n",
    "# print the prediction for the first instance\n",
    "print(prediction[0])"
   ]
  },
  {
   "cell_type": "markdown",
   "metadata": {
    "id": "5184c68e4c99"
   },
   "source": [
    "### 记录抽样请求\n",
    "\n",
    "在下一个监控间隔中，抽样预测结果将被复制到BigQuery的日志表中。一旦条目进入BigQuery表，监控服务就会分析抽样数据。\n",
    "\n",
    "接下来，您需要等待第一个记录的条目出现在用于记录预测样本的BigQuery表中。由于您发送了1000个预测请求，抽样率为50%，您应该会看到大约500条记录。\n",
    "\n",
    "*注意*：这需要占用监控间隔的时间（例如，一个小时）。"
   ]
  },
  {
   "cell_type": "code",
   "execution_count": null,
   "metadata": {
    "id": "d9a2f9342b06"
   },
   "outputs": [],
   "source": [
    "import time\n",
    "\n",
    "while True:\n",
    "\n",
    "    ENDPOINT_ID = endpoint.resource_name.split(\"/\")[-1]\n",
    "\n",
    "    table = bigquery.TableReference.from_string(\n",
    "        f\"{PROJECT_ID}.model_deployment_monitoring_{ENDPOINT_ID}.serving_predict\"\n",
    "    )\n",
    "    rows = bqclient.list_rows(table)\n",
    "    print(rows.total_rows)\n",
    "    if rows.total_rows > 0:\n",
    "        break\n",
    "    time.sleep(180)"
   ]
  },
  {
   "cell_type": "markdown",
   "metadata": {
    "id": "ec5f1e9b8cfc"
   },
   "source": [
    "### 生成用于漂移检测的合成预测请求\n",
    "\n",
    "修改数据（合成数据）以触发从先前基线分布到当前分布的预测请求中的漂移检测，具体操作如下：\n",
    "\n",
    "- `sepal_length`：将数值增加4倍。"
   ]
  },
  {
   "cell_type": "code",
   "execution_count": null,
   "metadata": {
    "id": "cb26c3dea306"
   },
   "outputs": [],
   "source": [
    "instances = []\n",
    "for _ in range(1000):\n",
    "    sepal_length = random.uniform(0.5, 3.5) * 4.0\n",
    "    sepal_width = random.uniform(0.2, 2.0)\n",
    "    petal_length = random.uniform(0.5, 2.0)\n",
    "    petal_width = random.uniform(0.2, 1.5)\n",
    "    instances.append([sepal_length, sepal_width, petal_length, petal_width])"
   ]
  },
  {
   "cell_type": "markdown",
   "metadata": {
    "id": "6d002569dadc"
   },
   "source": [
    "发出预测请求\n",
    "\n",
    "接下来，您将使用`predict()`方法向您的Vertex AI端点资源发送1000个预测请求。"
   ]
  },
  {
   "cell_type": "code",
   "execution_count": null,
   "metadata": {
    "id": "b2d69d89cd66"
   },
   "outputs": [],
   "source": [
    "for instance in instances:\n",
    "    response = endpoint.predict(instances=[instance])\n",
    "\n",
    "prediction = response[0]\n",
    "\n",
    "# print the prediction for the first instance\n",
    "print(prediction[0])"
   ]
  },
  {
   "cell_type": "markdown",
   "metadata": {
    "id": "683ed0ba4ccd"
   },
   "source": [
    "### 在监控过程中的漂移检测\n",
    "\n",
    "特征输入漂移检测会在下一个监控间隔期间发生。在本教程中，您将监控间隔设置为一小时。因此，大约一个小时后，您的监控作业将从**离线**状态转为**运行**状态。在运行过程中，它会分析在此间隔期间从预测中记录的样本表，并将其与上一个监控间隔的分布进行比较。\n",
    "\n",
    "一旦分析完成，监控作业会通过电子邮件通知检测到的漂移，即`cnt_user_engagement`。然后，监控作业将进入**离线**状态，直到下一个间隔期间。\n",
    "\n",
    "#### 等待监控间隔\n",
    "\n",
    "从监控间隔的分析完成时起，直到您收到电子邮件警报可能需要40分钟或更长时间。"
   ]
  },
  {
   "cell_type": "code",
   "execution_count": null,
   "metadata": {
    "id": "2e64ffaae2de"
   },
   "outputs": [],
   "source": [
    "if os.getenv(\"IS_TESTING\"):\n",
    "    time.sleep(60 * 45)"
   ]
  },
  {
   "cell_type": "markdown",
   "metadata": {
    "id": "5184c68e4c99"
   },
   "source": [
    "### 记录抽样请求\n",
    "\n",
    "在下一个监控间隔中，抽样预测结果将被复制到BigQuery日志表中。一旦条目进入BigQuery表中，监控服务将分析抽样数据。\n",
    "\n",
    "接下来，您需要等待第二个已记录的条目出现在用于记录预测样本的BigQuery表中。由于您发送了1000个预测请求，带有50%的抽样率，您应该会看到大约1000条记录。\n",
    "\n",
    "*注意*：这将占据监控间隔的整个时间（例如一个小时）。"
   ]
  },
  {
   "cell_type": "code",
   "execution_count": null,
   "metadata": {
    "id": "d9a2f9342b06"
   },
   "outputs": [],
   "source": [
    "import time\n",
    "\n",
    "while True:\n",
    "\n",
    "    ENDPOINT_ID = endpoint.resource_name.split(\"/\")[-1]\n",
    "\n",
    "    table = bigquery.TableReference.from_string(\n",
    "        f\"{PROJECT_ID}.model_deployment_monitoring_{ENDPOINT_ID}.serving_predict\"\n",
    "    )\n",
    "    rows = bqclient.list_rows(table)\n",
    "    print(rows.total_rows)\n",
    "    if rows.total_rows > 950:\n",
    "        break\n",
    "    time.sleep(180)"
   ]
  },
  {
   "cell_type": "markdown",
   "metadata": {
    "id": "39cdad8fdcc5"
   },
   "source": [
    "### 删除监控作业\n",
    "\n",
    "一旦您收到了电子邮件提醒并验证了内容，您可以：\n",
    "- 使用`pause（）`方法暂停监控作业。\n",
    "- 使用`delete（）`方法删除监控作业。"
   ]
  },
  {
   "cell_type": "code",
   "execution_count": null,
   "metadata": {
    "id": "ef1ddc1d6017"
   },
   "outputs": [],
   "source": [
    "# Pause the job\n",
    "monitoring_job.pause()\n",
    "# Delete the job\n",
    "monitoring_job.delete()"
   ]
  },
  {
   "cell_type": "markdown",
   "metadata": {
    "id": "18889460bd33"
   },
   "source": [
    "清除\n",
    "\n",
    "要清除本项目中使用的所有Google Cloud资源，您可以删除用于本教程的[Google Cloud项目](https://cloud.google.com/resource-manager/docs/creating-managing-projects#shutting_down_projects)。\n",
    "\n",
    "或者，您可以删除在本教程中创建的各个资源。"
   ]
  },
  {
   "cell_type": "code",
   "execution_count": null,
   "metadata": {
    "id": "c736a6bf1428"
   },
   "outputs": [],
   "source": [
    "# Undeploy the model from endpoint before deletion\n",
    "endpoint.undeploy_all()\n",
    "\n",
    "# Delete the endpoint\n",
    "endpoint.delete()\n",
    "\n",
    "# Delete the model\n",
    "model.delete()\n",
    "\n",
    "# Delete the Cloud Storage bucket\n",
    "delete_bucket = False\n",
    "if delete_bucket:\n",
    "    ! gsutil rm -rf {BUCKET_URI}\n",
    "\n",
    "# Delete the locally generated files\n",
    "! rm -f schema.yaml\n",
    "\n",
    "# Delete the BigQuery table\n",
    "! bq rm -f {PROJECT_ID}.model_deployment_monitoring_{ENDPOINT_ID}"
   ]
  }
 ],
 "metadata": {
  "colab": {
   "collapsed_sections": [],
   "name": "get_started_with_model_monitoring_xgboost.ipynb",
   "toc_visible": true
  },
  "kernelspec": {
   "display_name": "Python 3",
   "name": "python3"
  }
 },
 "nbformat": 4,
 "nbformat_minor": 0
}
