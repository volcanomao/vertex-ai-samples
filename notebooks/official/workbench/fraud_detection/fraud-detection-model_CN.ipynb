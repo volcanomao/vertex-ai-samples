{
 "cells": [
  {
   "cell_type": "code",
   "execution_count": null,
   "metadata": {
    "id": "5fcd3e4da897"
   },
   "outputs": [],
   "source": [
    "# Copyright 2022 Google LLC\n",
    "#\n",
    "# Licensed under the Apache License, Version 2.0 (the \"License\");\n",
    "# you may not use this file except in compliance with the License.\n",
    "# You may obtain a copy of the License at\n",
    "#\n",
    "#     https://www.apache.org/licenses/LICENSE-2.0\n",
    "#\n",
    "# Unless required by applicable law or agreed to in writing, software\n",
    "# distributed under the License is distributed on an \"AS IS\" BASIS,\n",
    "# WITHOUT WARRANTIES OR CONDITIONS OF ANY KIND, either express or implied.\n",
    "# See the License for the specific language governing permissions and\n",
    "# limitations under the License."
   ]
  },
  {
   "cell_type": "markdown",
   "metadata": {
    "id": "05c670d35496"
   },
   "source": [
    "在Vertex AI上构建一个欺诈检测模型\n",
    "\n",
    "<table align=\"left\">\n",
    "\n",
    "  <td>\n",
    "    <a href=\"https://colab.research.google.com/github/GoogleCloudPlatform/vertex-ai-samples/blob/main/notebooks/official/workbench/fraud_detection/fraud-detection-model.ipynb\">\n",
    "      <img src=\"https://cloud.google.com/ml-engine/images/colab-logo-32px.png\" alt=\"Colab logo\"> 在Colab中运行\n",
    "    </a>\n",
    "  </td>\n",
    "  <td>\n",
    "    <a href=\"https://github.com/GoogleCloudPlatform/vertex-ai-samples/blob/main/notebooks/official/workbench/fraud_detection/fraud-detection-model.ipynb\">\n",
    "      <img src=\"https://cloud.google.com/ml-engine/images/github-logo-32px.png\" alt=\"GitHub logo\">\n",
    "      在GitHub上查看\n",
    "    </a>\n",
    "  </td>\n",
    "   <td>\n",
    "<a href=\"https://console.cloud.google.com/vertex-ai/workbench/deploy-notebook?download_url=https://raw.githubusercontent.com/GoogleCloudPlatform/vertex-ai-samples/main/notebooks/official/workbench/fraud_detection/fraud-detection-model.ipynb\" target='_blank'>\n",
    "      <img src=\"https://lh3.googleusercontent.com/UiNooY4LUgW_oTvpsNhPpQzsstV5W8F7rYgxgGBD85cWJoLmrOzhVs_ksK_vgx40SHs7jCqkTkCk=e14-rj-sc0xffffff-h130-w32\" alt=\"Vertex AI logo\">\n",
    "      在Vertex AI Workbench中打开\n",
    "    </a>\n",
    "  </td>\n",
    "</table>"
   ]
  },
  {
   "cell_type": "markdown",
   "metadata": {
    "id": "962e636b5cee"
   },
   "source": [
    "注意：此笔记本已在以下环境中进行测试：\n",
    "\n",
    "- Python版本= 3.9"
   ]
  },
  {
   "cell_type": "markdown",
   "metadata": {
    "id": "b7fdf2b19b83"
   },
   "source": [
    "## 概述\n",
    "\n",
    "本教程向您展示如何使用诸如scikit-learn、Vertex AI和[What-IF工具(WIT)](https://cloud.google.com/ai-platform/prediction/docs/using-what-if-tool)等工具构建、部署和分析简单的[随机森林](https://en.wikipedia.org/wiki/Random_forest)模型预测合成欺诈交易数据集来解决金融欺诈检测问题。\n",
    "\n",
    "**注意：** 本笔记本中使用的What-If工具小部件仅在Colab环境中运行。它不是Vertex AI用户管理的笔记本实例的显式支持。\n",
    "\n",
    "了解更多关于[Vertex AI Workbench](https://cloud.google.com/vertex-ai/docs/workbench/introduction)和[定制训练](https://cloud.google.com/vertex-ai/docs/training/custom-training)。"
   ]
  },
  {
   "cell_type": "markdown",
   "metadata": {
    "id": "411d886b6144"
   },
   "source": [
    "### 目标\n",
    "\n",
    "本教程演示了如何使用一个合成的金融数据集进行数据分析和建模。模型训练的目标是识别交易中的欺诈案例。然后，训练好的模型将部署到 Vertex AI Endpoint，并使用 What-If 工具进行分析。本教程中的步骤如下：\n",
    "\n",
    "本教程使用以下 Google Cloud ML 服务和资源：\n",
    "\n",
    "- Vertex AI 模型\n",
    "- Vertex AI Endpoint\n",
    "\n",
    "操作步骤包括：\n",
    "\n",
    "- 安装所需的库\n",
    "- 从 Cloud Storage 存储桶中读取数据集\n",
    "- 对数据集进行探索性分析\n",
    "- 对数据集进行预处理\n",
    "- 使用 scikit-learn 训练一个随机森林模型\n",
    "- 将模型保存到 Cloud Storage 存储桶\n",
    "- 创建一个 Vertex AI 模型资源并部署到一个端点\n",
    "- 在测试数据上运行 What-If 工具\n",
    "- 卸载模型并清理模型资源"
   ]
  },
  {
   "cell_type": "markdown",
   "metadata": {
    "id": "3037523e7523"
   },
   "source": [
    "### 数据集\n",
    "\n",
    "本教程中使用的数据集可在Kaggle上公开获取。请参阅[用于欺诈检测的合成金融数据集](https://www.kaggle.com/ealaxi/paysim1)。"
   ]
  },
  {
   "cell_type": "markdown",
   "metadata": {
    "id": "65f7cca50e5c"
   },
   "source": [
    "### 成本\n",
    "\n",
    "\n",
    "本教程使用的是 Google Cloud 的计费组件：\n",
    "\n",
    "* Vertex AI\n",
    "* Cloud Storage\n",
    "\n",
    "了解 [Vertex AI\n",
    "定价](https://cloud.google.com/vertex-ai/pricing) 和 [Cloud Storage\n",
    "定价](https://cloud.google.com/storage/pricing)，并使用 [定价计算器](https://cloud.google.com/products/calculator/)\n",
    "根据您预期的使用情况生成成本估算。"
   ]
  },
  {
   "cell_type": "markdown",
   "metadata": {
    "id": "611991f03b38"
   },
   "source": [
    "## 安装\n",
    "\n",
    "安装以下必需的软件包以执行此笔记本。"
   ]
  },
  {
   "cell_type": "code",
   "execution_count": null,
   "metadata": {
    "id": "172533a994ad"
   },
   "outputs": [],
   "source": [
    "! pip3 install --upgrade --quiet google-cloud-aiplatform \\\n",
    "                                witwidget \\\n",
    "                                fsspec \\\n",
    "                                gcsfs\n",
    "! pip3 install --quiet scikit-learn==1.2 \\\n",
    "                        protobuf==3.20.1"
   ]
  },
  {
   "cell_type": "markdown",
   "metadata": {
    "id": "e9255e3b156f"
   },
   "source": [
    "### 仅限于Colab：取消注释以下单元格以重新启动内核"
   ]
  },
  {
   "cell_type": "code",
   "execution_count": null,
   "metadata": {
    "id": "0c0b2427998a"
   },
   "outputs": [],
   "source": [
    "# Automatically restart kernel after installs so that your environment can access the new packages\n",
    "# import IPython\n",
    "\n",
    "# app = IPython.Application.instance()\n",
    "# app.kernel.do_shutdown(True)"
   ]
  },
  {
   "cell_type": "markdown",
   "metadata": {
    "id": "c587f3b9e1e9"
   },
   "source": [
    "## 开始之前\n",
    "\n",
    "### 设置您的谷歌云项目\n",
    "\n",
    "**无论您使用什么笔记本环境，以下步骤都是必不可少的。**\n",
    "\n",
    "1. [选择或创建一个谷歌云项目](https://console.cloud.google.com/cloud-resource-manager)。当您首次创建帐户时，您将获得$300的免费信用额用于计算/存储成本。\n",
    "\n",
    "2. [确保您的项目已启用计费](https://cloud.google.com/billing/docs/how-to/modify-project)。\n",
    "\n",
    "3. [启用Vertex AI API](https://console.cloud.google.com/flows/enableapi?apiid=aiplatform.googleapis.com)。\n",
    "\n",
    "4. 如果您在本地运行此笔记本，请确保安装了[Cloud SDK](https://cloud.google.com/sdk)。"
   ]
  },
  {
   "cell_type": "markdown",
   "metadata": {
    "id": "435b8e413535"
   },
   "source": [
    "#### 设置您的项目ID\n",
    "\n",
    "**如果您不知道您的项目ID**，请尝试以下方法：\n",
    "- 运行 `gcloud config list`\n",
    "- 运行 `gcloud projects list`\n",
    "- 查看支持页面：[查找项目ID](https://support.google.com/googleapi/answer/7014113)"
   ]
  },
  {
   "cell_type": "code",
   "execution_count": null,
   "metadata": {
    "id": "be175254a715"
   },
   "outputs": [],
   "source": [
    "PROJECT_ID = \"[your-project-id]\"  # @param {type:\"string\"}\n",
    "\n",
    "# set the project id\n",
    "! gcloud config set project $PROJECT_ID"
   ]
  },
  {
   "cell_type": "markdown",
   "metadata": {
    "id": "2e6b8b324ce1"
   },
   "source": [
    "#### 区域\n",
    "\n",
    "您还可以更改 Vertex AI 使用的 `REGION` 变量。\n",
    "了解更多关于 [Vertex AI 区域](https://cloud.google.com/vertex-ai/docs/general/locations)。"
   ]
  },
  {
   "cell_type": "code",
   "execution_count": null,
   "metadata": {
    "id": "ae43d96c4b1b"
   },
   "outputs": [],
   "source": [
    "REGION = \"us-central1\"  # @param {type: \"string\"}"
   ]
  },
  {
   "cell_type": "markdown",
   "metadata": {
    "id": "6c43a8673066"
   },
   "source": [
    "### 验证您的 Google Cloud 帐户\n",
    "\n",
    "根据您的 Jupyter 环境，您可能需要手动进行身份验证。请按照下面的相关说明进行操作。\n",
    "\n",
    "**1. Vertex AI Workbench**\n",
    "- 不需要进行任何操作，因为您已经验证过了。\n",
    "\n",
    "**2. 本地 JupyterLab 实例**，请取消注释并运行。"
   ]
  },
  {
   "cell_type": "code",
   "execution_count": null,
   "metadata": {
    "id": "fbc9cd30cc4b"
   },
   "outputs": [],
   "source": [
    "# ! gcloud auth login"
   ]
  },
  {
   "cell_type": "markdown",
   "metadata": {
    "id": "cd0da2c26879"
   },
   "source": [
    "3. 协作，取消注释并运行："
   ]
  },
  {
   "cell_type": "code",
   "execution_count": null,
   "metadata": {
    "id": "a336a05c6149"
   },
   "outputs": [],
   "source": [
    "# from google.colab import auth\n",
    "# auth.authenticate_user()"
   ]
  },
  {
   "cell_type": "markdown",
   "metadata": {
    "id": "0461097edfa5"
   },
   "source": [
    "4. 服务账号或其他\n",
    "* 请参考如何在https://cloud.google.com/storage/docs/gsutil/commands/iam#ch-examples为您的服务帐号授予Cloud Storage权限。"
   ]
  },
  {
   "cell_type": "markdown",
   "metadata": {
    "id": "e5755d1a554f"
   },
   "source": [
    "创建一个云存储桶\n",
    "\n",
    "创建一个存储桶来存储中间产物，如数据集。"
   ]
  },
  {
   "cell_type": "code",
   "execution_count": null,
   "metadata": {
    "id": "d2de92accb67"
   },
   "outputs": [],
   "source": [
    "BUCKET_URI = f\"gs://your-bucket-name-{PROJECT_ID}-unique\"  # @param {type:\"string\"}"
   ]
  },
  {
   "cell_type": "markdown",
   "metadata": {
    "id": "b72bfdf29dae"
   },
   "source": [
    "只有当您的存储桶尚不存在时，才可以运行以下单元格来创建您的云存储桶。"
   ]
  },
  {
   "cell_type": "code",
   "execution_count": null,
   "metadata": {
    "id": "a4453435d115"
   },
   "outputs": [],
   "source": [
    "! gsutil mb -l {REGION} -p {PROJECT_ID} {BUCKET_URI}"
   ]
  },
  {
   "cell_type": "markdown",
   "metadata": {
    "id": "4bf0287233a6"
   },
   "source": [
    "导入库"
   ]
  },
  {
   "cell_type": "code",
   "execution_count": null,
   "metadata": {
    "id": "e4c19cf811b7"
   },
   "outputs": [],
   "source": [
    "import os\n",
    "import pickle\n",
    "import sys\n",
    "import warnings\n",
    "\n",
    "import matplotlib.pyplot as plt\n",
    "import numpy as np\n",
    "import pandas as pd\n",
    "from google.cloud import aiplatform, storage\n",
    "from IPython.display import display\n",
    "from sklearn.ensemble import RandomForestClassifier\n",
    "from sklearn.metrics import (average_precision_score, classification_report,\n",
    "                             confusion_matrix, f1_score)\n",
    "from sklearn.model_selection import train_test_split\n",
    "from witwidget.notebook.visualization import WitConfigBuilder, WitWidget\n",
    "\n",
    "warnings.filterwarnings(\"ignore\")"
   ]
  },
  {
   "cell_type": "markdown",
   "metadata": {
    "id": "5abe40a9d335"
   },
   "source": [
    "### 初始化 Python 的 Vertex AI SDK\n",
    "\n",
    "为您的项目初始化 Python 的 Vertex AI SDK。"
   ]
  },
  {
   "cell_type": "code",
   "execution_count": null,
   "metadata": {
    "id": "6a16f0d6e5a1"
   },
   "outputs": [],
   "source": [
    "aiplatform.init(project=PROJECT_ID, location=REGION, staging_bucket=BUCKET_URI)"
   ]
  },
  {
   "cell_type": "markdown",
   "metadata": {
    "id": "fdcb614c716f"
   },
   "source": [
    "## 加载数据集\n",
    "\n",
    "使用Pandas从公共csv文件路径加载数据集。"
   ]
  },
  {
   "cell_type": "code",
   "execution_count": null,
   "metadata": {
    "id": "ef87c3afe3a3"
   },
   "outputs": [],
   "source": [
    "# set the dataset path\n",
    "DATASET_SOURCE_PATH = \"gs://cloud-samples-data/vertex-ai/managed_notebooks/fraud_detection/fraud_detection_data.csv\"\n",
    "# read the csv data using pandas\n",
    "df = pd.read_csv(DATASET_SOURCE_PATH)"
   ]
  },
  {
   "cell_type": "markdown",
   "metadata": {
    "id": "5467471277e9"
   },
   "source": [
    "\n",
    "## 分析数据集\n",
    "快速查看数据集和行数。"
   ]
  },
  {
   "cell_type": "code",
   "execution_count": null,
   "metadata": {
    "id": "2439f8994596"
   },
   "outputs": [],
   "source": [
    "# print the shape of dataframe\n",
    "print(\"shape : \", df.shape)\n",
    "# display the dataframe\n",
    "df.head()"
   ]
  },
  {
   "cell_type": "markdown",
   "metadata": {
    "id": "677d10ff3a8f"
   },
   "source": [
    "检查空值。"
   ]
  },
  {
   "cell_type": "code",
   "execution_count": null,
   "metadata": {
    "id": "f1cf29145731"
   },
   "outputs": [],
   "source": [
    "# print the total null count per column\n",
    "df.isnull().sum()"
   ]
  },
  {
   "cell_type": "markdown",
   "metadata": {
    "id": "7841d9921c72"
   },
   "source": [
    "检查涉及的交易类型和每种类型所关联的总金额。"
   ]
  },
  {
   "cell_type": "code",
   "execution_count": null,
   "metadata": {
    "id": "0af58be0e70d"
   },
   "outputs": [],
   "source": [
    "# check value counts for type\n",
    "print(df.type.value_counts())\n",
    "# show total amount per type as a bar chart\n",
    "var = df[[\"type\", \"amount\"]].groupby(\"type\").sum()\n",
    "var.plot(kind=\"bar\")\n",
    "plt.title(\"Total amount per transaction type\")\n",
    "plt.xlabel(\"Type of Transaction\")\n",
    "plt.ylabel(\"Amount\")\n",
    "plt.show()"
   ]
  },
  {
   "cell_type": "markdown",
   "metadata": {
    "id": "3ea666cc9ea7"
   },
   "source": [
    "## 处理不平衡数据\n",
    "\n",
    "尽管结果变量“isFraud”看起来非常不平衡，但可以在其上训练一个基本模型来检查数据中欺诈交易的质量。如有必要，可以考虑采用欠取样多数类或过取样少数类等对策。"
   ]
  },
  {
   "cell_type": "code",
   "execution_count": null,
   "metadata": {
    "id": "62c36cf345a4"
   },
   "outputs": [],
   "source": [
    "# Count number of fraudulent/non-fraudulent transactions\n",
    "df.isFraud.value_counts()"
   ]
  },
  {
   "cell_type": "markdown",
   "metadata": {
    "id": "6fa96dc368fb"
   },
   "source": [
    "展示以饼图形式显示检测到的欺诈交易百分比。"
   ]
  },
  {
   "cell_type": "code",
   "execution_count": null,
   "metadata": {
    "id": "4792737cfe01"
   },
   "outputs": [],
   "source": [
    "# plot the percentage of frauds as a pie chart\n",
    "piedata = df[[\"isFlaggedFraud\", \"isFraud\"]].groupby([\"isFlaggedFraud\"]).sum()\n",
    "f, axes = plt.subplots(1, 1, figsize=(6, 6))\n",
    "axes.set_title(\"% of fraud transaction detected\")\n",
    "piedata.plot(\n",
    "    kind=\"pie\", y=\"isFraud\", ax=axes, fontsize=14, shadow=False, autopct=\"%1.1f%%\"\n",
    ")\n",
    "axes.set_ylabel(\"\")\n",
    "plt.legend(loc=\"upper left\", labels=[\"Not Detected\", \"Detected\"])\n",
    "plt.show()"
   ]
  },
  {
   "cell_type": "markdown",
   "metadata": {
    "id": "6d2de35a680d"
   },
   "source": [
    "准备建模数据\n",
    "为了准备用于训练的数据集，需要删除一些包含唯一数据（'nameOrig'，'nameDest'）和冗余字段（'isFlaggedFraud'）的列。描述交易类型并对欺诈检测很重要的分类字段“type”需要进行独热编码。"
   ]
  },
  {
   "cell_type": "code",
   "execution_count": null,
   "metadata": {
    "id": "6f3ff2800803"
   },
   "outputs": [],
   "source": [
    "# drop the unnecessary fields\n",
    "df.drop([\"nameOrig\", \"nameDest\", \"isFlaggedFraud\"], axis=1, inplace=True)\n",
    "# encode the \"type\" field\n",
    "X = pd.concat([df.drop(\"type\", axis=1), pd.get_dummies(df[\"type\"])], axis=1)\n",
    "X.head()"
   ]
  },
  {
   "cell_type": "markdown",
   "metadata": {
    "id": "32d8675912f6"
   },
   "source": [
    "将结果变量从训练数据中移除。"
   ]
  },
  {
   "cell_type": "code",
   "execution_count": null,
   "metadata": {
    "id": "d28694b6532e"
   },
   "outputs": [],
   "source": [
    "# copy the target data\n",
    "y = X[[\"isFraud\"]]\n",
    "# remove the target field from the features\n",
    "X = X.drop([\"isFraud\"], axis=1)"
   ]
  },
  {
   "cell_type": "markdown",
   "metadata": {
    "id": "a86d250f6e89"
   },
   "source": [
    "将数据分割并将70％用于训练，30％用于测试。\n",
    "\n",
    "在分割时，您可以为Sklearn的`train_test_split`方法指定以下参数：\n",
    "\n",
    "- `*arrays`：特征数组（X）和目标数组（y）。\n",
    "- `test_size`：测试样本的百分比（浮点数）或数量（整数）。\n",
    "- `random_state`：在应用拆分之前控制应用于数据的洗牌。传递一个整数以使多个函数调用产生可重现的输出。\n",
    "- `stratify`：如果没有，则不执行分层抽样。\n",
    "\n",
    "由于数据不平衡，您在分割时使用分层抽样。了解更多关于[分层抽样和用于训练-测试拆分的其他参数](https://scikit-learn.org/stable/modules/generated/sklearn.model_selection.train_test_split.html)。"
   ]
  },
  {
   "cell_type": "code",
   "execution_count": null,
   "metadata": {
    "id": "9a1c56f01b4b"
   },
   "outputs": [],
   "source": [
    "# split the data into train and test\n",
    "X_train, X_test, y_train, y_test = train_test_split(\n",
    "    X, y, test_size=0.3, random_state=42, stratify=y\n",
    ")\n",
    "# check the data shapes\n",
    "print(X_train.shape, X_test.shape)"
   ]
  },
  {
   "cell_type": "markdown",
   "metadata": {
    "id": "c2755e0dcfa2"
   },
   "source": [
    "## 训练一个随机森林模型\n",
    "\n",
    "在预处理后的训练数据集上训练一个简单的随机森林分类器。\n",
    "\n",
    "注意：在定义`RandomForestClassifier`对象时，将`n_jobs`设置为-1可以利用所有处理器并行化训练过程。\n",
    "\n",
    "了解更多关于[随机森林算法](https://en.wikipedia.org/wiki/Random_forest)和Sklearn的[RandomForestClassifier](https://scikit-learn.org/stable/modules/generated/sklearn.ensemble.RandomForestClassifier.html)。"
   ]
  },
  {
   "cell_type": "code",
   "execution_count": null,
   "metadata": {
    "id": "2e01c5fc5df7"
   },
   "outputs": [],
   "source": [
    "# create a randomforestclassifier object\n",
    "forest = RandomForestClassifier(n_jobs=-1, verbose=1)\n",
    "# fit the model on the data\n",
    "forest.fit(X_train, y_train)"
   ]
  },
  {
   "cell_type": "markdown",
   "metadata": {
    "id": "dcd6f1e38b31"
   },
   "source": [
    "## 分析结果\n",
    "\n",
    "生成测试数据上的预测类别和概率分数。\n",
    "\n",
    "使用以下指标评估模型：\n",
    "\n",
    "- `AP`：平均精度将精度-召回曲线总结为在每个阈值处达到的精度的加权平均值，前一个阈值的召回率增加用作权重。\n",
    "- F1分数：F1分数是精度和召回率的调和平均值。\n",
    "- 混淆矩阵：显示准确预测的真正例、真负例、假正例和假负例的矩阵。\n",
    "- 分类报告：Sklearn的分类报告是一个文本报告，显示主要的分类指标，如精度、召回率、F1分数、准确性，以及这些指标的加权平均值和宏平均值。\n",
    "\n",
    "了解更多关于[Sklearn指标](https://scikit-learn.org/stable/modules/classes.html#module-sklearn.metrics)。"
   ]
  },
  {
   "cell_type": "code",
   "execution_count": null,
   "metadata": {
    "id": "2cff9b77c9f7"
   },
   "outputs": [],
   "source": [
    "# predict probability of fraudulent transactions over test set\n",
    "y_prob = forest.predict_proba(X_test)\n",
    "# predict the classes over test set\n",
    "y_pred = forest.predict(X_test)\n",
    "# check the average precision score\n",
    "print(\"AP :\", (average_precision_score(y_test, y_prob[:, 1])))\n",
    "# check the f1-score\n",
    "print(\"F1 - score :\", (f1_score(y_test, y_pred)))\n",
    "# print the confusion matrix\n",
    "print(\"Confusion_matrix : \")\n",
    "print(confusion_matrix(y_test, y_pred))\n",
    "# print the classification report\n",
    "print(\"classification_report\")\n",
    "print(classification_report(y_test, y_pred))"
   ]
  },
  {
   "cell_type": "markdown",
   "metadata": {
    "id": "5f9309a5c6de"
   },
   "source": [
    "使用`RandomForestClassifier`的`feature_importances_`函数来更好地了解哪些特征对模型最有用。"
   ]
  },
  {
   "cell_type": "code",
   "execution_count": null,
   "metadata": {
    "id": "e4e8d572079c"
   },
   "outputs": [],
   "source": [
    "importances = forest.feature_importances_\n",
    "std = np.std([tree.feature_importances_ for tree in forest.estimators_], axis=0)\n",
    "forest_importances = pd.Series(importances, index=list(X_train))\n",
    "fig, ax = plt.subplots()\n",
    "forest_importances.plot.bar(yerr=std, ax=ax)\n",
    "ax.set_title(\"Feature Importance for Fraud Transaction Detection Model\")\n",
    "ax.set_ylabel(\"Importance\")\n",
    "fig.tight_layout()"
   ]
  },
  {
   "cell_type": "markdown",
   "metadata": {
    "id": "f96d2120eaf7"
   },
   "source": [
    "将模型保存到云存储\n",
    "\n",
    "将您的模型保存到一个pickle文件中，然后将您的模型上传到云存储存储桶中。上传的模型路径稍后用于在Vertex AI模型注册表中创建一个模型。\n",
    "\n",
    "注意：您也可以使用最新的Python版Vertex AI SDK从您的本地环境将模型上传到Vertex AI模型注册表。"
   ]
  },
  {
   "cell_type": "code",
   "execution_count": null,
   "metadata": {
    "id": "53b6d3053566"
   },
   "outputs": [],
   "source": [
    "# save the trained model to a local file\n",
    "LOCAL_FILE_NAME = \"model.pkl\"\n",
    "with open(LOCAL_FILE_NAME, \"wb\") as file:\n",
    "    pickle.dump(forest, file)\n",
    "\n",
    "# Upload the saved model file to Cloud Storage\n",
    "BLOB_PATH = \"fraud-detect-model-path-unique\"  # @param {type:\"string\"}\n",
    "BLOB_NAME = os.path.join(BLOB_PATH, LOCAL_FILE_NAME)\n",
    "\n",
    "bucket = storage.Client(PROJECT_ID).bucket(BUCKET_URI[5:])\n",
    "blob = bucket.blob(BLOB_NAME)\n",
    "blob.upload_from_filename(LOCAL_FILE_NAME)"
   ]
  },
  {
   "cell_type": "markdown",
   "metadata": {
    "id": "624a66e36aef"
   },
   "source": [
    "在Vertex AI中创建一个模型\n",
    "\n",
    "在Vertex AI模型注册表中设置模型创建所需的参数。"
   ]
  },
  {
   "cell_type": "code",
   "execution_count": null,
   "metadata": {
    "id": "5604b728b7bb"
   },
   "outputs": [],
   "source": [
    "# set model display name\n",
    "MODEL_DISPLAY_NAME = \"fraud-detection-model-unique\"  # @param {type:\"string\"}\n",
    "# set the GCS path to the model artifact\n",
    "ARTIFACT_GCS_PATH = f\"{BUCKET_URI}/{BLOB_PATH}\"\n",
    "# set the prediction container uri\n",
    "SERVING_CONTAINER_IMAGE_URI = (\n",
    "    \"us-docker.pkg.dev/vertex-ai/prediction/sklearn-cpu.1-2:latest\"\n",
    ")"
   ]
  },
  {
   "cell_type": "markdown",
   "metadata": {
    "id": "fa7f96efe3c5"
   },
   "source": [
    "使用`Model.upload`方法在Vertex AI中创建一个模型资源。\n",
    "\n",
    "了解有关[Vertex AI模型注册表](https://cloud.google.com/vertex-ai/docs/model-registry/introduction)的更多信息。"
   ]
  },
  {
   "cell_type": "code",
   "execution_count": null,
   "metadata": {
    "id": "a6629488879c"
   },
   "outputs": [],
   "source": [
    "# create a Vertex AI model resource\n",
    "model = aiplatform.Model.upload(\n",
    "    display_name=MODEL_DISPLAY_NAME,\n",
    "    artifact_uri=ARTIFACT_GCS_PATH,\n",
    "    serving_container_image_uri=SERVING_CONTAINER_IMAGE_URI,\n",
    ")\n",
    "# print the model's display name\n",
    "print(\"Display name:\\n\", model.display_name)\n",
    "# print the model's resource name\n",
    "print(\"Resource name:\\n\", model.resource_name)"
   ]
  },
  {
   "cell_type": "markdown",
   "metadata": {
    "id": "208e1e07c9f6"
   },
   "source": [
    "## 创建端点\n",
    "\n",
    "设置显示名称并创建用于部署模型的端点。"
   ]
  },
  {
   "cell_type": "code",
   "execution_count": null,
   "metadata": {
    "id": "224016f69665"
   },
   "outputs": [],
   "source": [
    "# set the endpoint display name\n",
    "ENDPOINT_DISPLAY_NAME = \"fraud-detect-endpoint-unique\"  # @param {type:\"string\"}\n",
    "# create the Endpoint\n",
    "endpoint = aiplatform.Endpoint.create(display_name=ENDPOINT_DISPLAY_NAME)\n",
    "# print the endpoint display name\n",
    "print(\"Display name:\\n\", endpoint.display_name)\n",
    "# print the endpoint resource name\n",
    "print(\"Resource name:\\n\", endpoint.resource_name)"
   ]
  },
  {
   "cell_type": "markdown",
   "metadata": {
    "id": "fb18c0e6f2ce"
   },
   "source": [
    "### 部署模型到端点\n",
    "\n",
    "为端点部署设置以下参数：\n",
    "\n",
    "- `endpoint`：在上一步创建的 Vertex AI 端点资源。\n",
    "- `deployed_model_display_name`：模型的显示名称。如果未提供，则使用模型的显示名称。\n",
    "- `machine_type`：用于在端点上提供模型所需的机器类型。"
   ]
  },
  {
   "cell_type": "code",
   "execution_count": null,
   "metadata": {
    "id": "7fcb85a9c097"
   },
   "outputs": [],
   "source": [
    "# set the display name for the deployed model\n",
    "DEPLOYED_MODEL_NAME = \"fraud-detection-deployed-model\"\n",
    "# set the machine type for the endpoint\n",
    "MACHINE_TYPE = \"n1-standard-2\""
   ]
  },
  {
   "cell_type": "markdown",
   "metadata": {
    "id": "fbc1fa101b59"
   },
   "source": [
    "部署模型到创建的端点。"
   ]
  },
  {
   "cell_type": "code",
   "execution_count": null,
   "metadata": {
    "id": "32a896d705ef"
   },
   "outputs": [],
   "source": [
    "# deploy the model to the endpoint\n",
    "model.deploy(\n",
    "    endpoint=endpoint,\n",
    "    deployed_model_display_name=DEPLOYED_MODEL_NAME,\n",
    "    machine_type=MACHINE_TYPE,\n",
    ")\n",
    "# print the model display name\n",
    "print(model.display_name)\n",
    "# print the model resource name\n",
    "print(model.resource_name)"
   ]
  },
  {
   "cell_type": "markdown",
   "metadata": {
    "id": "c70d82a5f6d5"
   },
   "source": [
    "## 什么是工具\n",
    "\n",
    "什么是工具可用于分析测试数据上的模型预测。查看[什么是工具的简介](https://pair-code.github.io/what-if-tool/)。\n",
    "\n",
    "在本教程中，将使用本地训练模型以及部署在Vertex AI端点上的模型配置和运行什么是工具。\n",
    "\n",
    "[WitConfigBuilder](https://github.com/PAIR-code/what-if-tool/blob/master/witwidget/notebook/visualization.py#L30) 提供了 `set_ai_platform_model()` 方法，用于配置什么是工具，以使用部署为AI Platform模型版本的模型。此功能目前仅支持AI Platform，不支持Vertex AI模型。但是，还可以通过 `set_custom_predict_fn()` 方法传递一个自定义函数来生成预测，其中可以传递本地训练模型或从Vertex AI模型返回预测的函数。"
   ]
  },
  {
   "cell_type": "markdown",
   "metadata": {
    "id": "d0b3caf9b49e"
   },
   "source": [
    "### 准备测试样本\n",
    "\n",
    "从测试数据中为两个可用的类别（欺诈/非欺诈）保留一些样本，以便使用“假设工具”来分析模型。"
   ]
  },
  {
   "cell_type": "code",
   "execution_count": null,
   "metadata": {
    "id": "c07ef36a521a"
   },
   "outputs": [],
   "source": [
    "# set sample size\n",
    "SAMPLE = 10\n",
    "\n",
    "# collect samples for each class-label from the test data\n",
    "pos_samples = y_test[y_test[\"isFraud\"] == 1].sample(SAMPLE).index\n",
    "neg_samples = y_test[y_test[\"isFraud\"] == 0].sample(SAMPLE).index\n",
    "test_samples_y = pd.concat([y_test.loc[pos_samples], y_test.loc[neg_samples]])\n",
    "test_samples_X = X_test.loc[test_samples_y.index].copy()"
   ]
  },
  {
   "cell_type": "markdown",
   "metadata": {
    "id": "0691c01e8fee"
   },
   "source": [
    "在本地模型上运行假设工具\n",
    "\n",
    "使用本地模型的`predict_proba`函数构建假设工具小部件。\n",
    "\n",
    "以下步骤生成一个用于分析预测的交互式小部件。\n",
    "\n",
    "注意：此下一单元仅在支持假设工具的Colab环境中运行。"
   ]
  },
  {
   "cell_type": "code",
   "execution_count": null,
   "metadata": {
    "id": "9cccdcf14cea"
   },
   "outputs": [],
   "source": [
    "# check for Colab environment\n",
    "IS_COLAB = \"google.colab\" in sys.modules\n",
    "\n",
    "# run what-if tool\n",
    "if IS_COLAB:\n",
    "    # define target and labels\n",
    "    TARGET_FEATURE = \"isFraud\"\n",
    "    LABEL_VOCAB = [\"not-fraud\", \"fraud\"]\n",
    "\n",
    "    # define the function to adjust the predictions\n",
    "\n",
    "    def adjust_prediction(pred):\n",
    "        return [1 - pred, pred]\n",
    "\n",
    "    # Combine the features and labels into one array for the What-If Tool\n",
    "    test_examples = np.hstack(\n",
    "        (test_samples_X.to_numpy(), test_samples_y.to_numpy().reshape(-1, 1))\n",
    "    )\n",
    "\n",
    "    # Configure the WIT to run on the locally trained model\n",
    "    config_builder = (\n",
    "        WitConfigBuilder(\n",
    "            test_examples.tolist(), test_samples_X.columns.tolist() + [\"isFraud\"]\n",
    "        )\n",
    "        .set_custom_predict_fn(forest.predict_proba)\n",
    "        .set_target_feature(TARGET_FEATURE)\n",
    "        .set_label_vocab(LABEL_VOCAB)\n",
    "    )\n",
    "\n",
    "    # display the WIT widget\n",
    "    display(WitWidget(config_builder, height=600))"
   ]
  },
  {
   "cell_type": "markdown",
   "metadata": {
    "id": "a97c4880ff33"
   },
   "source": [
    "### 在部署的Vertex AI模型上运行What-If工具\n",
    "\n",
    "在这一步中，您需要定义一个函数，该函数将向终端部署的模型发送请求，并返回格式化的预测结果。然后使用该函数来构建What-IF工具小部件，以分析这些预测结果。"
   ]
  },
  {
   "cell_type": "code",
   "execution_count": null,
   "metadata": {
    "id": "362ef35a5475"
   },
   "outputs": [],
   "source": [
    "# run the what-if tool\n",
    "if IS_COLAB:\n",
    "    # configure the target and class-labels\n",
    "    TARGET_FEATURE = \"isFraud\"\n",
    "    LABEL_VOCAB = [\"not-fraud\", \"fraud\"]\n",
    "\n",
    "    # function to return predictions from the deployed Model\n",
    "\n",
    "    def endpoint_predict_sample(instances: list):\n",
    "        prediction = endpoint.predict(instances=instances)\n",
    "        preds = [[1 - i, i] for i in prediction.predictions]\n",
    "        return preds\n",
    "\n",
    "    # Combine the features and labels into one array for the What-If Tool\n",
    "    test_examples = np.hstack(\n",
    "        (test_samples_X.to_numpy(), test_samples_y.to_numpy().reshape(-1, 1))\n",
    "    )\n",
    "\n",
    "    # Configure the WIT with the prediction function\n",
    "    config_builder = (\n",
    "        WitConfigBuilder(\n",
    "            test_examples.tolist(), test_samples_X.columns.tolist() + [\"isFraud\"]\n",
    "        )\n",
    "        .set_custom_predict_fn(endpoint_predict_sample)\n",
    "        .set_target_feature(TARGET_FEATURE)\n",
    "        .set_label_vocab(LABEL_VOCAB)\n",
    "    )\n",
    "\n",
    "    # run the WIT-widget\n",
    "    display(WitWidget(config_builder, height=400))"
   ]
  },
  {
   "cell_type": "markdown",
   "metadata": {
    "id": "aea461dd4549"
   },
   "source": [
    "## 清理\n",
    "\n",
    "要清理此项目中使用的所有Google Cloud资源，您可以[删除您在教程中使用的Google Cloud项目](https://cloud.google.com/resource-manager/docs/creating-managing-projects#shutting_down_projects)。\n",
    "\n",
    "否则，您可以删除本教程中创建的各个资源：\n",
    "\n",
    "- Vertex AI 端点\n",
    "- Vertex AI 模型\n",
    "- Cloud Storage 存储桶"
   ]
  },
  {
   "cell_type": "code",
   "execution_count": null,
   "metadata": {
    "id": "f62e2c499f70"
   },
   "outputs": [],
   "source": [
    "# undeploy the model from the endpoint\n",
    "endpoint.undeploy_all()\n",
    "\n",
    "# delete the endpoint\n",
    "endpoint.delete()\n",
    "\n",
    "# delete the model\n",
    "model.delete()\n",
    "\n",
    "# delete the bucket\n",
    "delete_bucket = False\n",
    "if delete_bucket or os.getenv(\"IS_TESTING\"):\n",
    "    ! gsutil rm -r $BUCKET_URI\n",
    "\n",
    "# delete the local files\n",
    "! rm $LOCAL_FILE_NAME"
   ]
  }
 ],
 "metadata": {
  "colab": {
   "name": "fraud-detection-model.ipynb",
   "toc_visible": true
  },
  "kernelspec": {
   "display_name": "Python 3",
   "name": "python3"
  }
 },
 "nbformat": 4,
 "nbformat_minor": 0
}
