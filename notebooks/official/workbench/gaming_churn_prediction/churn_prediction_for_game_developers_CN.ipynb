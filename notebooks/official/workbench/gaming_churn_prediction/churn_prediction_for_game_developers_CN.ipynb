{
 "cells": [
  {
   "cell_type": "code",
   "execution_count": null,
   "metadata": {
    "id": "DWW_k7u_zaER"
   },
   "outputs": [],
   "source": [
    "# Copyright 2022 Google LLC\n",
    "#\n",
    "# Licensed under the Apache License, Version 2.0 (the \"License\");\n",
    "# you may not use this file except in compliance with the License.\n",
    "# You may obtain a copy of the License at\n",
    "#\n",
    "#     https://www.apache.org/licenses/LICENSE-2.0\n",
    "#\n",
    "# Unless required by applicable law or agreed to in writing, software\n",
    "# distributed under the License is distributed on an \"AS IS\" BASIS,\n",
    "# WITHOUT WARRANTIES OR CONDITIONS OF ANY KIND, either express or implied.\n",
    "# See the License for the specific language governing permissions and\n",
    "# limitations under the License."
   ]
  },
  {
   "cell_type": "markdown",
   "metadata": {
    "id": "py8EYwG_91Pn"
   },
   "source": [
    "使用Google Analytics 4和BigQuery ML进行游戏开发者的流失预测\n",
    "\n",
    "在Colab中运行\n",
    "在GitHub上查看\n",
    "在Vertex AI Workbench中打开"
   ]
  },
  {
   "cell_type": "markdown",
   "metadata": {
    "id": "81facaeb11b6"
   },
   "source": [
    "## 目录\n",
    "\n",
    "* [概述](#section-1)\n",
    "* [目标](#section-2)\n",
    "* [数据集](#section-3)\n",
    "* [成本](#section-4)\n",
    "* [创建一个BigQuery数据集](#section-5)\n",
    "* [探索数据](#section-6)\n",
    "* [准备训练数据](#section-7)\n",
    "    * [为每个用户标识标签](#section-7-subsection-1)\n",
    "    * [提取每个用户的人口统计数据](#section-7-subsection-2)\n",
    "    * [提取每个用户的行为数据](#section-7-subsection-3)\n",
    "    * [将标签、人口统计和行为数据合并为训练数据](#section-7-subsection-4)\n",
    "* [使用BigQuery ML训练倾向模型](#section-8)\n",
    "* [模型评估](#section-9)\n",
    "    * [混淆矩阵：预测值与实际值](#section-9-subsection-1)\n",
    "    * [ROC曲线](#section-9-subsection-2)\n",
    "* [模型预测](#section-10)  \n",
    "* [将预测表导出到云存储](#section-11)\n",
    "* [清理工作](#section-12)"
   ]
  },
  {
   "cell_type": "markdown",
   "metadata": {
    "id": "277178e15cdb"
   },
   "source": [
    "## 概述\n",
    "<a name=\"section-1\"></a>\n",
    "\n",
    "本教程向您展示如何在BigQuery ML中训练、评估一个倾向模型，以预测用户在移动游戏中的留存情况，基于来自Google Analytics 4的应用测量数据。\n",
    "\n",
    "了解更多关于[Vertex AI Workbench](https://cloud.google.com/vertex-ai/docs/workbench/introduction) 和了解更多关于[BigQuery ML](https://cloud.google.com/vertex-ai/docs/beginner/bqml#machine_learning_directly_in)。"
   ]
  },
  {
   "cell_type": "markdown",
   "metadata": {
    "id": "sH0CZGku0BPp"
   },
   "source": [
    "### 目标\n",
    "<a name=\"section-2\"></a>\n",
    "\n",
    "在本教程中，您将学习如何在BigQuery ML中训练、评估倾向模型。\n",
    "\n",
    "本教程使用以下 Google Cloud ML 服务和资源：\n",
    "* BigQuery。\n",
    "\n",
    "执行的步骤包括：\n",
    "\n",
    "* 探索在BigQuery上导出的 Google Analytics 4 数据。\n",
    "* 使用人口统计数据、行为数据和标签（流失/非流失）准备训练数据。\n",
    "* 使用BigQuery ML训练一个XGBoost模型。\n",
    "* 使用BigQuery ML评估模型。\n",
    "* 使用BigQuery ML对哪些用户会流失进行预测。"
   ]
  },
  {
   "cell_type": "markdown",
   "metadata": {
    "id": "b07fc9940120"
   },
   "source": [
    "### 数据集\n",
    "<a name=\"section-3\"></a>\n",
    "\n",
    "这个笔记本使用了[这个公开的BigQuery数据集](https://console.cloud.google.com/bigquery?p=firebase-public-project&d=analytics_153293282&t=events_20181003&page=table)，其中包含了来自一个名叫Flood It!的真实移动游戏应用的原始事件数据（[Android app](https://play.google.com/store/apps/details?id=com.labpixies.flood), [iOS app](https://itunes.apple.com/us/app/flood-it!/id476943146?mt=8)）。[数据架构](https://support.google.com/analytics/answer/7029846)源自于Google Analytics for Firebase，但与[Google Analytics 4](https://support.google.com/analytics/answer/9358801)具有相同的架构；本笔记本中的技术可以应用于Google Analytics for Firebase或Google Analytics 4的数据。\n",
    "\n",
    "Google Analytics 4（GA4）采用了一个[基于事件的](https://support.google.com/analytics/answer/9322688)测量模型。事件提供了有关应用程序或网站上发生的情况的见解，例如用户操作、系统事件或错误。数据集中的每一行都是一个事件，具有与该事件相关的各种特征以嵌套格式存储在行中。虽然Google Analytics默认已经记录了许多类型的事件，但开发人员也可以自定义欲记录的事件类型。\n",
    "\n",
    "请注意，由于不能简单地使用原始事件数据来训练机器学习模型，本笔记本向您展示了将原始数据预处理成适合用于分类模型训练数据的重要步骤。"
   ]
  },
  {
   "cell_type": "markdown",
   "metadata": {
    "id": "589ffe790261"
   },
   "source": [
    "### 成本\n",
    "<a name=\"section-4\"></a>\n",
    "\n",
    "本教程使用Google Cloud的以下可计费组件：\n",
    "\n",
    "* Vertex AI\n",
    "* BigQuery\n",
    "* Cloud Storage\n",
    "\n",
    "了解[Vertex AI的定价](https://cloud.google.com/vertex-ai/pricing)， [BigQuery的定价](https://cloud.google.com/bigquery/pricing) 和[Cloud Storage的定价](https://cloud.google.com/storage/pricing)，并使用[定价计算器](https://cloud.google.com/products/calculator/)根据您的预期使用情况生成成本估算。"
   ]
  },
  {
   "cell_type": "markdown",
   "metadata": {
    "id": "OMUaAMn091Pu"
   },
   "source": [
    "### 安装其他软件包"
   ]
  },
  {
   "cell_type": "code",
   "execution_count": null,
   "metadata": {
    "id": "WCPcEIZc91Pu"
   },
   "outputs": [],
   "source": [
    "! pip3 install --quiet --upgrade pandas-gbq 'google-cloud-bigquery[bqstorage,pandas]'"
   ]
  },
  {
   "cell_type": "markdown",
   "metadata": {
    "id": "e9255e3b156f"
   },
   "source": [
    "仅限Colab使用：取消注释以下单元格以重新启动内核"
   ]
  },
  {
   "cell_type": "code",
   "execution_count": null,
   "metadata": {
    "id": "0c0b2427998a"
   },
   "outputs": [],
   "source": [
    "# Automatically restart kernel after installs so that your environment can access the new packages\n",
    "# import IPython\n",
    "\n",
    "# app = IPython.Application.instance()\n",
    "# app.kernel.do_shutdown(True)"
   ]
  },
  {
   "cell_type": "markdown",
   "metadata": {
    "id": "435b8e413535"
   },
   "source": [
    "### 开始之前\n",
    "\n",
    "#### 设置您的项目 ID\n",
    "\n",
    "**如果您不知道您的项目 ID**，请尝试以下操作：\n",
    "- 运行 `gcloud config list`\n",
    "- 运行 `gcloud projects list`\n",
    "- 查看支持页面：[找到项目 ID](https://support.google.com/googleapi/answer/7014113)"
   ]
  },
  {
   "cell_type": "code",
   "execution_count": null,
   "metadata": {
    "id": "be175254a715"
   },
   "outputs": [],
   "source": [
    "PROJECT_ID = \"[your-project-id]\"  # @param {type:\"string\"}\n",
    "\n",
    "# set the project id\n",
    "! gcloud config set project $PROJECT_ID"
   ]
  },
  {
   "cell_type": "markdown",
   "metadata": {
    "id": "2e6b8b324ce1"
   },
   "source": [
    "#### 区域\n",
    "\n",
    "您还可以更改 Vertex AI 使用的 `REGION` 变量。\n",
    "了解有关 [Vertex AI 区域](https://cloud.google.com/vertex-ai/docs/general/locations) 的更多信息。"
   ]
  },
  {
   "cell_type": "code",
   "execution_count": null,
   "metadata": {
    "id": "ae43d96c4b1b"
   },
   "outputs": [],
   "source": [
    "REGION = \"[your-region]\"  # @param {type: \"string\"}"
   ]
  },
  {
   "cell_type": "markdown",
   "metadata": {
    "id": "6c43a8673066"
   },
   "source": [
    "### 验证您的Google Cloud账户\n",
    "\n",
    "根据您的Jupyter环境，您可能需要手动进行身份验证。请按照以下相关说明进行操作。\n",
    "\n",
    "**1. Vertex AI Workbench** \n",
    "- 如果已经通过验证，请不用进行任何操作。\n",
    "\n",
    "**2. 本地 JupyterLab 实例**，请取消注释并运行。"
   ]
  },
  {
   "cell_type": "code",
   "execution_count": null,
   "metadata": {
    "id": "fbc9cd30cc4b"
   },
   "outputs": [],
   "source": [
    "# ! gcloud auth login"
   ]
  },
  {
   "cell_type": "markdown",
   "metadata": {
    "id": "cd0da2c26879"
   },
   "source": [
    "3. 合作，取消注释并运行："
   ]
  },
  {
   "cell_type": "code",
   "execution_count": null,
   "metadata": {
    "id": "a336a05c6149"
   },
   "outputs": [],
   "source": [
    "# from google.colab import auth\n",
    "# auth.authenticate_user()"
   ]
  },
  {
   "cell_type": "markdown",
   "metadata": {
    "id": "0461097edfa5"
   },
   "source": [
    "4. 服务账户或其他\n",
    "- 查看所有身份验证选项，请参阅：[Google Cloud Platform Jupyter Notebook 认证指南](https://github.com/GoogleCloudPlatform/vertex-ai-samples/blob/main/notebooks/notebook_authentication_guide.ipynb)"
   ]
  },
  {
   "cell_type": "markdown",
   "metadata": {
    "id": "e5755d1a554f"
   },
   "source": [
    "创建一个云存储桶\n",
    "\n",
    "创建一个存储桶来存储中间产物，如数据集。"
   ]
  },
  {
   "cell_type": "code",
   "execution_count": null,
   "metadata": {
    "id": "d2de92accb67"
   },
   "outputs": [],
   "source": [
    "BUCKET_NAME = \"your-bucket-name-unique\"  # @param {type:\"string\"}\n",
    "BUCKET_URI = f\"gs://{BUCKET_NAME}\""
   ]
  },
  {
   "cell_type": "markdown",
   "metadata": {
    "id": "b72bfdf29dae"
   },
   "source": [
    "只有当您的存储桶不存在时：运行以下单元格以创建您的云存储存储桶。"
   ]
  },
  {
   "cell_type": "code",
   "execution_count": null,
   "metadata": {
    "id": "a4453435d115"
   },
   "outputs": [],
   "source": [
    "! gsutil mb -l $REGION $BUCKET_URI"
   ]
  },
  {
   "cell_type": "markdown",
   "metadata": {
    "id": "06571eb4063b"
   },
   "source": [
    "UUID\n",
    "\n",
    "如果您正在进行实时教程会话，则可能正在使用共享的测试帐户或项目。为了避免用户在创建的资源上发生名称冲突，您为每个实例会话创建一个uuid，并将其附加到您在本教程中创建的资源的名称上。"
   ]
  },
  {
   "cell_type": "code",
   "execution_count": null,
   "metadata": {
    "id": "697568e92bd6"
   },
   "outputs": [],
   "source": [
    "import random\n",
    "import string\n",
    "\n",
    "\n",
    "# Generate a uuid of a specifed length(default=8)\n",
    "def generate_uuid(length: int = 8) -> str:\n",
    "    return \"\".join(random.choices(string.ascii_lowercase + string.digits, k=length))\n",
    "\n",
    "\n",
    "UUID = generate_uuid()"
   ]
  },
  {
   "cell_type": "markdown",
   "metadata": {
    "id": "ad3b13ceaebe"
   },
   "source": [
    "### 导入库并定义常量"
   ]
  },
  {
   "cell_type": "code",
   "execution_count": null,
   "metadata": {
    "id": "c05096f78e7e"
   },
   "outputs": [],
   "source": [
    "import os\n",
    "\n",
    "import matplotlib.pyplot as plt\n",
    "from google.cloud import bigquery\n",
    "from google.cloud.bigquery import Client"
   ]
  },
  {
   "cell_type": "markdown",
   "metadata": {
    "id": "rlykz4_I91P1"
   },
   "source": [
    "初始化BigQuery客户端"
   ]
  },
  {
   "cell_type": "code",
   "execution_count": null,
   "metadata": {
    "id": "XtuQpJsj91P1"
   },
   "outputs": [],
   "source": [
    "client = Client(project=PROJECT_ID)"
   ]
  },
  {
   "cell_type": "markdown",
   "metadata": {
    "id": "BlfwBj4P0rHD"
   },
   "source": [
    "创建一个BigQuery数据集\n",
    "<a name=\"section-5\"></a>"
   ]
  },
  {
   "cell_type": "markdown",
   "metadata": {
    "id": "S4qnPgig91P1"
   },
   "source": [
    "如果您正在使用***Vertex AI Workbench托管笔记本实例***，每个以“#@bigquery”开头的单元格将是一个SQL查询。如果您正在使用Vertex AI Workbench用户管理的笔记本实例或Colab，它将是一个Markdown单元格。"
   ]
  },
  {
   "cell_type": "markdown",
   "metadata": {
    "id": "X9TLkb8f0tCE"
   },
   "source": [
    "在这个笔记本中，您可以在您的项目中创建一个数据集。要创建数据集，请运行以下单元格："
   ]
  },
  {
   "cell_type": "markdown",
   "metadata": {
    "id": "9f9a7052f37d"
   },
   "source": [
    "# @bigquery\n",
    "-- 在BigQuery中创建一个数据集\n",
    "\n",
    "CREATE SCHEMA bqmlga4\n",
    "OPTIONS(\n",
    "  location=\"us\"\n",
    "  )"
   ]
  },
  {
   "cell_type": "markdown",
   "metadata": {
    "id": "L0JQL6mO91P2"
   },
   "source": [
    "（**可选**）如果您正在使用Vertex AI Workbench托管的笔记本实例，则一旦从BigQuery中显示结果在上述单元格中，点击**查询并加载为DataFrame**按钮并执行生成的代码存根以将数据获取到当前笔记本中作为数据帧。\n",
    "\n",
    "*注意：默认情况下，数据加载到名为`df`的变量中，但如果需要在执行单元格之前更改此设置。*"
   ]
  },
  {
   "cell_type": "code",
   "execution_count": null,
   "metadata": {
    "id": "JcXdSY_UC9NI"
   },
   "outputs": [],
   "source": [
    "dataset_id = \"bqmlga4\" + \"_\" + UUID"
   ]
  },
  {
   "cell_type": "code",
   "execution_count": null,
   "metadata": {
    "id": "dbLPODaG91P2"
   },
   "outputs": [],
   "source": [
    "query = \"\"\"\n",
    "CREATE SCHEMA `{PROJECT_ID}.{dataset_id}`\n",
    "OPTIONS(\n",
    "  location=\"us\"\n",
    "  )\n",
    "\"\"\".format(\n",
    "    PROJECT_ID=PROJECT_ID, dataset_id=dataset_id\n",
    ")\n",
    "query_job = client.query(query)\n",
    "\n",
    "print(query_job.result())"
   ]
  },
  {
   "cell_type": "markdown",
   "metadata": {
    "id": "dcd477550f3f"
   },
   "source": [
    "##探索数据\n",
    "<a name=\"section-6\"></a>"
   ]
  },
  {
   "cell_type": "markdown",
   "metadata": {
    "id": "wV7wi8X51eNw"
   },
   "source": [
    "样本数据集包含原始事件数据，如下所示："
   ]
  },
  {
   "cell_type": "code",
   "execution_count": null,
   "metadata": {
    "id": "2wrjAyDa91P2"
   },
   "outputs": [],
   "source": [
    "query = \"\"\"\n",
    "SELECT \n",
    "    *\n",
    "FROM\n",
    "  `firebase-public-project.analytics_153293282.events_*`\n",
    "    \n",
    "LIMIT 5\n",
    "\"\"\"\n",
    "query_job = client.query(query)"
   ]
  },
  {
   "cell_type": "code",
   "execution_count": null,
   "metadata": {
    "id": "wyOr7IQX91P3"
   },
   "outputs": [],
   "source": [
    "query_job.to_dataframe()"
   ]
  },
  {
   "cell_type": "markdown",
   "metadata": {
    "id": "PYBMN963Qydl"
   },
   "source": [
    "查看谷歌分析4中使用的整体模式可能会有所帮助。如前所述，谷歌分析4使用基于事件的测量模型，这个数据集中的每一行都是一个事件。[查看完整模式和每列的详细信息](https://support.google.com/analytics/answer/7029846)。如上所示，特定列是嵌套记录，包含详细信息："
   ]
  },
  {
   "cell_type": "markdown",
   "metadata": {
    "id": "IaM8co6eRsOp"
   },
   "source": [
    "* `app_info` 应用程序信息\n",
    "* `device` 设备\n",
    "* `ecommerce` 电子商务\n",
    "* `event_params` 事件参数\n",
    "* `geo` 地理位置\n",
    "* `traffic_source` 流量来源\n",
    "* `user_properties` 用户属性\n",
    "* `items` (GA4数据集中默认存在)\n",
    "* `web_info` (GA4数据集中默认存在)"
   ]
  },
  {
   "cell_type": "markdown",
   "metadata": {
    "id": "dLUv-7xNRhAj"
   },
   "source": [
    "以下查询结果显示此数据集中有15K个用户和5.7M个事件。"
   ]
  },
  {
   "cell_type": "markdown",
   "metadata": {
    "id": "74c054f90876"
   },
   "source": [
    "#@bigquery\n",
    "SELECT \n",
    "    COUNT(DISTINCT user_pseudo_id) as count_distinct_users,\n",
    "    COUNT(event_timestamp) as count_events\n",
    "FROM\n",
    "  `firebase-public-project.analytics_153293282.events_*`"
   ]
  },
  {
   "cell_type": "code",
   "execution_count": null,
   "metadata": {
    "id": "c22a9EbJ91P3"
   },
   "outputs": [],
   "source": [
    "query = \"\"\"\n",
    "SELECT \n",
    "    COUNT(DISTINCT user_pseudo_id) as count_distinct_users,\n",
    "    COUNT(event_timestamp) as count_events\n",
    "FROM\n",
    "  `firebase-public-project.analytics_153293282.events_*`\n",
    "\"\"\"\n",
    "query_job = client.query(query)"
   ]
  },
  {
   "cell_type": "code",
   "execution_count": null,
   "metadata": {
    "id": "bh43xrEs91P4"
   },
   "outputs": [],
   "source": [
    "query_job.to_dataframe()"
   ]
  },
  {
   "cell_type": "markdown",
   "metadata": {
    "id": "3iHaV9-q1k1i"
   },
   "source": [
    "准备训练数据\n",
    "<a name=\"section-7\"></a>"
   ]
  },
  {
   "cell_type": "markdown",
   "metadata": {
    "id": "P358Jo_s8WC0"
   },
   "source": [
    "您不能简单地使用原始事件数据来训练机器学习模型，因为它可能不是适合用作训练数据的正确形状和格式。因此，在这一部分，您将学习如何将原始数据预处理为适当的格式，以便用作分类模型的训练数据。"
   ]
  },
  {
   "cell_type": "markdown",
   "metadata": {
    "id": "eXl1kSh1yPXk"
   },
   "source": [
    "为了预测哪些用户将会“流失”或“回归”，用于分类的理想训练数据格式应该如下所示："
   ]
  },
  {
   "cell_type": "markdown",
   "metadata": {
    "id": "Xv8ibjMNy_bV"
   },
   "source": [
    "|用户ID|用户人口统计数据|用户行为数据|流失|\n",
    "|-|-|-|-|\n",
    "|用户1|（例如，国家，设备类型）|（例如，一段时间内他们做某事的次数）|1\n",
    "|用户2|（例如，国家，设备类型）|（例如，一段时间内他们做某事的次数）|0\n",
    "|用户3|（例如，国家，设备类型）|（例如，一段时间内他们做某事的次数）|1"
   ]
  },
  {
   "cell_type": "markdown",
   "metadata": {
    "id": "HydYCB2jzrzn"
   },
   "source": [
    "训练数据的特点：\n",
    "- 每行是一个独立的唯一用户ID\n",
    "- 属性为**人口统计数据**\n",
    "- 属性为**行为数据**\n",
    "- 您希望训练模型预测的实际**标签**（例如，1 = 流失，0 = 返回）\n",
    "\n",
    "您可以仅使用人口统计数据或行为数据训练模型，但将两者结合起来可能有助于创建更具预测性的模型。因此，在本节中，您将学习如何对原始数据进行预处理，以符合这种训练数据格式。"
   ]
  },
  {
   "cell_type": "markdown",
   "metadata": {
    "id": "ICpTsrfg2-Cw"
   },
   "source": [
    "以下部分将指导您在将人口数据、行为数据和标签准备好之前，将它们全部合并为完整的训练数据集。步骤如下：\n",
    "\n",
    "1. 为每个用户确定标签（流失或回归）\n",
    "2. 提取每个用户的人口数据\n",
    "3. 提取每个用户的行为数据\n",
    "4. 将标签、人口数据和行为数据合并为训练数据。"
   ]
  },
  {
   "cell_type": "markdown",
   "metadata": {
    "id": "ZYHefnNx21lO"
   },
   "source": [
    "#### 步骤1：识别每个用户的标签\n",
    "<a name=\"section-7-subsection-1\"></a>"
   ]
  },
  {
   "cell_type": "markdown",
   "metadata": {
    "id": "Qt6a5Kv-25iq"
   },
   "source": [
    "原始数据集并没有一个简单地将用户标识为“流失”或“返回”的特征，因此，在本节中，您需要根据一些现有的列创建这个标签。"
   ]
  },
  {
   "cell_type": "markdown",
   "metadata": {
    "id": "lgqxD30Hl6FM"
   },
   "source": [
    "有许多种方式来定义用户流失，但在这份笔记本的目的中，您可以预测1天内的流失用户，即用户在首次使用App后的24小时内再也没有回来使用App。\n",
    "\n",
    "换句话说，在用户首次与App互动后的24小时内：\n",
    "- 如果用户之后没有显示任何事件数据，则被视为**流失用户**。\n",
    "- 如果用户之后至少有一个事件数据点，则被视为**返回用户**。\n",
    "\n",
    "您可能还想要删除那些可能永远不会回来的用户，这些用户在使用App仅几分钟后就离开，有时被称为“跳出”。例如，您可能只想在使用App至少10分钟的用户上构建模型（即没有跳出的用户）。\n",
    "\n",
    "因此，您对本笔记本中**流失用户**的更新定义是：\n",
    "> “任何在App上至少使用了10分钟，但在首次使用App后的24小时内再也没有使用App的用户”。"
   ]
  },
  {
   "cell_type": "markdown",
   "metadata": {
    "id": "_YyxwMQQ1uQW"
   },
   "source": [
    "在SQL中，由于原始数据包含每位用户的所有事件，从他们的第一次接触（应用程序安装）到最后一次接触，您可以使用这些信息来创建两列：`churned`和`bounced`。"
   ]
  },
  {
   "cell_type": "markdown",
   "metadata": {
    "id": "d_JCCtuZVzne"
   },
   "source": [
    "请看以下的SQL查询和结果:"
   ]
  },
  {
   "cell_type": "markdown",
   "metadata": {
    "id": "eb5c29c83181"
   },
   "source": [
    "#@bigquery\n",
    "CREATE OR REPLACE VIEW bqmlga4.returningusers AS (\n",
    "  WITH firstlasttouch AS (\n",
    "    SELECT\n",
    "      user_pseudo_id,\n",
    "      MIN(event_timestamp) AS user_first_engagement,\n",
    "      MAX(event_timestamp) AS user_last_engagement\n",
    "    FROM\n",
    "      `firebase-public-project.analytics_153293282.events_*`\n",
    "    WHERE event_name=\"user_engagement\"\n",
    "    GROUP BY\n",
    "      user_pseudo_id\n",
    "\n",
    "  )\n",
    "  SELECT\n",
    "    user_pseudo_id,\n",
    "    user_first_engagement,\n",
    "    user_last_engagement,\n",
    "    EXTRACT(MONTH from TIMESTAMP_MICROS(user_first_engagement)) as month,\n",
    "    EXTRACT(DAYOFYEAR from TIMESTAMP_MICROS(user_first_engagement)) as julianday,\n",
    "    EXTRACT(DAYOFWEEK from TIMESTAMP_MICROS(user_first_engagement)) as dayofweek,\n",
    "\n",
    "    (user_first_engagement + 86400000000) AS ts_24hr_after_first_engagement,\n",
    "\n",
    "IF (user_last_engagement < (user_first_engagement + 86400000000),\n",
    "    1,\n",
    "    0 ) AS churned,\n",
    "\n",
    "IF (user_last_engagement <= (user_first_engagement + 600000000),\n",
    "    1,\n",
    "    0 ) AS bounced,\n",
    "  FROM\n",
    "    firstlasttouch\n",
    "  GROUP BY\n",
    "    1,2,3\n",
    "    );\n",
    "\n",
    "SELECT \n",
    "  * \n",
    "FROM \n",
    "  bqmlga4.returningusers \n",
    "LIMIT 100;"
   ]
  },
  {
   "cell_type": "code",
   "execution_count": null,
   "metadata": {
    "id": "DNMAe3jr91P6"
   },
   "outputs": [],
   "source": [
    "query = \"\"\"\n",
    "CREATE OR REPLACE VIEW {dataset_id}.returningusers AS (\n",
    "  WITH firstlasttouch AS (\n",
    "    SELECT\n",
    "      user_pseudo_id,\n",
    "      MIN(event_timestamp) AS user_first_engagement,\n",
    "      MAX(event_timestamp) AS user_last_engagement\n",
    "    FROM\n",
    "      `firebase-public-project.analytics_153293282.events_*`\n",
    "    WHERE event_name=\"user_engagement\"\n",
    "    GROUP BY\n",
    "      user_pseudo_id\n",
    "\n",
    "  )\n",
    "  SELECT\n",
    "    user_pseudo_id,\n",
    "    user_first_engagement,\n",
    "    user_last_engagement,\n",
    "    EXTRACT(MONTH from TIMESTAMP_MICROS(user_first_engagement)) as month,\n",
    "    EXTRACT(DAYOFYEAR from TIMESTAMP_MICROS(user_first_engagement)) as julianday,\n",
    "    EXTRACT(DAYOFWEEK from TIMESTAMP_MICROS(user_first_engagement)) as dayofweek,\n",
    "\n",
    "    (user_first_engagement + 86400000000) AS ts_24hr_after_first_engagement,\n",
    "\n",
    "IF (user_last_engagement < (user_first_engagement + 86400000000),\n",
    "    1,\n",
    "    0 ) AS churned,\n",
    "\n",
    "IF (user_last_engagement <= (user_first_engagement + 600000000),\n",
    "    1,\n",
    "    0 ) AS bounced,\n",
    "  FROM\n",
    "    firstlasttouch\n",
    "  GROUP BY\n",
    "    1,2,3\n",
    "    );\n",
    "\n",
    "SELECT \n",
    "  * \n",
    "FROM \n",
    "  {dataset_id}.returningusers \n",
    "LIMIT 100;\n",
    "\"\"\".format(\n",
    "    dataset_id=dataset_id\n",
    ")\n",
    "query_job = client.query(query)"
   ]
  },
  {
   "cell_type": "code",
   "execution_count": null,
   "metadata": {
    "id": "NF_UObpK91P6"
   },
   "outputs": [],
   "source": [
    "query_job.to_dataframe()"
   ]
  },
  {
   "cell_type": "markdown",
   "metadata": {
    "id": "d10507bd2366"
   },
   "source": [
    "#@bigquery \n",
    "SELECT \n",
    "  * \n",
    "FROM \n",
    "  bqmlga4.returningusers"
   ]
  },
  {
   "cell_type": "code",
   "execution_count": null,
   "metadata": {
    "id": "IbL-Nxk-91P6"
   },
   "outputs": [],
   "source": [
    "query = \"\"\"\n",
    "SELECT \n",
    "  * \n",
    "FROM \n",
    "  {dataset_id}.returningusers \n",
    "\"\"\".format(\n",
    "    dataset_id=dataset_id\n",
    ")\n",
    "query_job = client.query(query)"
   ]
  },
  {
   "cell_type": "code",
   "execution_count": null,
   "metadata": {
    "id": "CXbtfAT091P6"
   },
   "outputs": [],
   "source": [
    "query_job.to_dataframe()"
   ]
  },
  {
   "cell_type": "markdown",
   "metadata": {
    "id": "FOoqPb2J2Q5f"
   },
   "source": [
    "对于“churned”列，如果用户在首次互动后24小时内执行了操作，则“churned = 0”，否则如果他们最后一次操作仅在前24小时内，则“churned = 1”。"
   ]
  },
  {
   "cell_type": "markdown",
   "metadata": {
    "id": "sC3sIc0C2a4Z"
   },
   "source": [
    "对于`bounced`列，如果用户的最后一次操作是在与应用的第一次接触之后的前十分钟内，则`bounced = 1`，否则`bounced = 0`。您可以使用此列稍后筛选训练数据，通过有条件地查询`bounced = 0`的用户。"
   ]
  },
  {
   "cell_type": "markdown",
   "metadata": {
    "id": "ulbfb8SY2fSM"
   },
   "source": [
    "您可能想知道这15,000用户中有多少人弹跳并返回？您可以运行以下查询来检查："
   ]
  },
  {
   "cell_type": "markdown",
   "metadata": {
    "id": "21119ffadd56"
   },
   "source": [
    "#@bigquery\n",
    "SELECT\n",
    "    bounced,\n",
    "    churned, \n",
    "    COUNT(churned) as count_users\n",
    "FROM\n",
    "    bqmlga4.returningusers\n",
    "GROUP BY 1,2\n",
    "ORDER BY bounced\n",
    "\n",
    "#@bigquery\n",
    "SELECT\n",
    "    bounced,\n",
    "    churned,\n",
    "    COUNT (churned) as number_of_users\n",
    "FROM\n",
    "    bqmlga4.returningusers\n",
    "GROUP BY 1,2\n",
    "ORDER BY bounced"
   ]
  },
  {
   "cell_type": "code",
   "execution_count": null,
   "metadata": {
    "id": "FvFvPgXq91P7"
   },
   "outputs": [],
   "source": [
    "query = \"\"\"\n",
    "SELECT\n",
    "    bounced,\n",
    "    churned, \n",
    "    COUNT(churned) as count_users\n",
    "FROM\n",
    "    {dataset_id}.returningusers\n",
    "GROUP BY 1,2\n",
    "ORDER BY bounced\n",
    "\"\"\".format(\n",
    "    dataset_id=dataset_id\n",
    ")\n",
    "query_job = client.query(query)"
   ]
  },
  {
   "cell_type": "code",
   "execution_count": null,
   "metadata": {
    "id": "xxO88qS391P7"
   },
   "outputs": [],
   "source": [
    "query_job.to_dataframe()"
   ]
  },
  {
   "cell_type": "markdown",
   "metadata": {
    "id": "Z29RsKJi2uwO"
   },
   "source": [
    "对于训练数据，您只使用“反弹= 0”的数据。根据15,000名用户，您可以看到有5,557名（约41％）用户在首次与应用程序接触的前十分钟内反弹，但在剩下的8,031名用户中，1,883名用户（约23％）在24小时后流失。"
   ]
  },
  {
   "cell_type": "markdown",
   "metadata": {
    "id": "f328a88b39e1"
   },
   "source": [
    "#@bigquery\n",
    "SELECT\n",
    "    SUM(churned=1)/COUNT(churned) as churn_rate\n",
    "FROM\n",
    "    bqmlga4.returningusers\n",
    "WHERE bounced = 0"
   ]
  },
  {
   "cell_type": "code",
   "execution_count": null,
   "metadata": {
    "id": "x8NDwFet91P8"
   },
   "outputs": [],
   "source": [
    "query = \"\"\"\n",
    "SELECT\n",
    "    COUNTIF(churned=1)/COUNT(churned) as churn_rate\n",
    "FROM\n",
    "    {dataset_id}.returningusers\n",
    "WHERE bounced = 0\n",
    "\"\"\".format(\n",
    "    dataset_id=dataset_id\n",
    ")\n",
    "query_job = client.query(query)"
   ]
  },
  {
   "cell_type": "code",
   "execution_count": null,
   "metadata": {
    "id": "lsIydME391P8"
   },
   "outputs": [],
   "source": [
    "query_job.to_dataframe()"
   ]
  },
  {
   "cell_type": "markdown",
   "metadata": {
    "id": "08a5324dac82"
   },
   "source": [
    "数据中有23%的流失率客户，这对于训练一个流失预测模型来说并不算糟糕。如果类别不平衡的情况较严重，可以考虑使用过采样或欠采样技术来平衡类别分布。"
   ]
  },
  {
   "cell_type": "markdown",
   "metadata": {
    "id": "daSQViux_XWR"
   },
   "source": [
    "步骤2：提取每个用户的人口统计数据\n",
    "<a name=\"section-7-subsection-2\"></a>"
   ]
  },
  {
   "cell_type": "markdown",
   "metadata": {
    "id": "7417ae7aa9c4"
   },
   "source": [
    "这一部分专注于提取每个用户的人口统计信息。数据集中已经包含了关于用户的不同人口统计信息，包括`app_info`、`device`、`ecommerce`、`event_params`和`geo`。人口统计特征可以帮助模型预测在特定设备或国家的用户更有可能流失。\n",
    "\n",
    "对于这份笔记，您可以从`geo.country`、`device.operating_system`和`device.language`开始。如果您正在使用自己的数据集并且具有可连接的第一方数据，这一部分是一个很好的机会，可以为每个用户添加任何谷歌分析4中不容易获得的额外属性。\n",
    "\n",
    "请注意，用户的人口统计信息有时可能会发生变化（例如从一个国家搬到另一个国家）。为了简单起见，您只需使用谷歌分析4在用户上次参与应用程序时提供的人口统计信息，这可以通过`MAX(event_timestamp)`来表示。这样可以确保每个唯一用户都可以用一行表示。"
   ]
  },
  {
   "cell_type": "markdown",
   "metadata": {
    "id": "7bb11498b1ea"
   },
   "source": [
    "#@bigquery\n",
    "CREATE OR REPLACE VIEW bqmlga4.user_demographics AS (\n",
    "\n",
    "  WITH first_values AS (\n",
    "      SELECT\n",
    "          user_pseudo_id,\n",
    "          geo.country as country,\n",
    "          device.operating_system as operating_system,\n",
    "          device.language as language,\n",
    "          ROW_NUMBER() OVER (PARTITION BY user_pseudo_id ORDER BY event_timestamp DESC) AS row_num\n",
    "      FROM `firebase-public-project.analytics_153293282.events_*`\n",
    "      WHERE event_name=\"user_engagement\"\n",
    "      )\n",
    "  SELECT * EXCEPT (row_num)\n",
    "  FROM first_values\n",
    "  WHERE row_num = 1\n",
    "  );\n",
    "\n",
    "SELECT\n",
    "  *\n",
    "FROM\n",
    "  bqmlga4.user_demographics\n",
    "LIMIT 10"
   ]
  },
  {
   "cell_type": "code",
   "execution_count": null,
   "metadata": {
    "id": "nMZrVP_i91P9"
   },
   "outputs": [],
   "source": [
    "query = \"\"\"\n",
    "CREATE OR REPLACE VIEW {dataset_id}.user_demographics AS (\n",
    "\n",
    "  WITH first_values AS (\n",
    "      SELECT\n",
    "          user_pseudo_id,\n",
    "          geo.country as country,\n",
    "          device.operating_system as operating_system,\n",
    "          device.language as language,\n",
    "          ROW_NUMBER() OVER (PARTITION BY user_pseudo_id ORDER BY event_timestamp DESC) AS row_num\n",
    "      FROM `firebase-public-project.analytics_153293282.events_*`\n",
    "      WHERE event_name=\"user_engagement\"\n",
    "      )\n",
    "  SELECT * EXCEPT (row_num)\n",
    "  FROM first_values\n",
    "  WHERE row_num = 1\n",
    "  );\n",
    "\n",
    "SELECT\n",
    "  *\n",
    "FROM\n",
    "  {dataset_id}.user_demographics\n",
    "LIMIT 10\n",
    "\"\"\".format(\n",
    "    dataset_id=dataset_id\n",
    ")\n",
    "query_job = client.query(query)"
   ]
  },
  {
   "cell_type": "code",
   "execution_count": null,
   "metadata": {
    "id": "fL9h6l2s91P9"
   },
   "outputs": [],
   "source": [
    "query_job.to_dataframe()"
   ]
  },
  {
   "cell_type": "markdown",
   "metadata": {
    "id": "a25422405548"
   },
   "source": [
    "#@bigquery\n",
    "查询\n",
    "  *\n",
    "从\n",
    "  bqmlga4.user_demographics"
   ]
  },
  {
   "cell_type": "code",
   "execution_count": null,
   "metadata": {
    "id": "B42mcZqB91P-"
   },
   "outputs": [],
   "source": [
    "query = \"\"\"\n",
    "SELECT\n",
    "  *\n",
    "FROM\n",
    "  {dataset_id}.user_demographics\n",
    "\"\"\".format(\n",
    "    dataset_id=dataset_id\n",
    ")\n",
    "query_job = client.query(query)"
   ]
  },
  {
   "cell_type": "code",
   "execution_count": null,
   "metadata": {
    "id": "JxrUaUeu91P-"
   },
   "outputs": [],
   "source": [
    "query_job.to_dataframe()"
   ]
  },
  {
   "cell_type": "markdown",
   "metadata": {
    "id": "17ffc440f6ba"
   },
   "source": [
    "第三步：提取每个用户的行为数据\n",
    "<a name=\"section-7-subsection-3\"></a>"
   ]
  },
  {
   "cell_type": "markdown",
   "metadata": {
    "id": "b2f87ff04147"
   },
   "source": [
    "原始事件数据中的行为数据跨越多个事件 -- 因此是每个用户的多行。本节的目标是聚合和提取每个用户的行为数据，每个唯一用户会得到一行行为数据。\n",
    "\n",
    "但你需要准备什么样的行为数据？由于本笔记本的最终目标是根据用户在安装应用程序后的前24小时内的活动来预测这个用户是否会在之后流失或返回，所以你需要在训练数据中使用前24小时的行为数据。之后，你也可以从`user_first_engagement`中提取一些额外的与时间相关的特征，比如首次参与的月份或日期。\n",
    "\n",
    "Google Analytics会自动收集可用于分析行为的[具体事件](https://support.google.com/analytics/answer/6317485)。此外，还有游戏推荐的[事件](https://support.google.com/analytics/answer/6317494)。\n",
    "\n",
    "作为第一步，你可以基于`event_name`探索数据集中存在的所有独特事件："
   ]
  },
  {
   "cell_type": "markdown",
   "metadata": {
    "id": "da6075561092"
   },
   "source": [
    "#@bigquery\n",
    "SELECT\n",
    "    event_name,\n",
    "    COUNT(event_name) as event_count\n",
    "FROM\n",
    "    `firebase-public-project.analytics_153293282.events_*`\n",
    "GROUP BY 1\n",
    "ORDER BY\n",
    "   event_count DESC\n",
    "\n",
    "#@bigquery\n",
    "选择\n",
    "    事件名称,\n",
    "    COUNT(事件名称) as 事件数量\n",
    "从\n",
    "    `firebase-public-project.analytics_153293282.events_*`\n",
    "按1分组\n",
    "按\n",
    "    事件数量 降序排序"
   ]
  },
  {
   "cell_type": "code",
   "execution_count": null,
   "metadata": {
    "id": "99YAplzT91P-"
   },
   "outputs": [],
   "source": [
    "query = \"\"\"\n",
    "SELECT\n",
    "    event_name,\n",
    "    COUNT(event_name) as event_count\n",
    "FROM\n",
    "    `firebase-public-project.analytics_153293282.events_*`\n",
    "GROUP BY 1\n",
    "ORDER BY\n",
    "   event_count DESC\n",
    "\"\"\"\n",
    "query_job = client.query(query)"
   ]
  },
  {
   "cell_type": "code",
   "execution_count": null,
   "metadata": {
    "id": "oWnvGphz91P-"
   },
   "outputs": [],
   "source": [
    "query_job.to_dataframe()"
   ]
  },
  {
   "cell_type": "markdown",
   "metadata": {
    "id": "074a03fae065"
   },
   "source": [
    "对于本教程，要预测用户是否会流失或返回，您可以开始通过统计用户参与以下事件类型的次数：\n",
    "\n",
    "* `user_engagement`\n",
    "* `level_start_quickplay`\n",
    "* `level_end_quickplay`\n",
    "* `level_complete_quickplay`\n",
    "* `level_reset_quickplay`\n",
    "* `post_score`\n",
    "* `spend_virtual_currency`\n",
    "* `ad_reward`\n",
    "* `challenge_a_friend`\n",
    "* `completed_5_levels`\n",
    "* `use_extra_steps`"
   ]
  },
  {
   "cell_type": "markdown",
   "metadata": {
    "id": "6d89bc9dfccc"
   },
   "source": [
    "在SQL中，您可以通过计算每个用户数据集中每个上述“event_names”发生的总次数来聚合行为数据。\n",
    "\n",
    "如果您正在使用自己的数据集，您可能会有不同的事件类型可供聚合和提取。您的应用程序可能会将非常不同的“event_names”发送到Google Analytics中，因此请确保使用适合您场景的事件。"
   ]
  },
  {
   "cell_type": "markdown",
   "metadata": {
    "id": "b47843e3b022"
   },
   "source": [
    "#@bigquery\n",
    "CREATE OR REPLACE VIEW bqmlga4.user_aggregate_behavior AS (\n",
    "WITH\n",
    "  events_first24hr AS (\n",
    "    SELECT\n",
    "      e.*\n",
    "    FROM\n",
    "      `firebase-public-project.analytics_153293282.events_*` e\n",
    "    JOIN\n",
    "      bqmlga4.returningusers r\n",
    "    ON\n",
    "      e.user_pseudo_id = r.user_pseudo_id\n",
    "    WHERE\n",
    "      e.event_timestamp <= r.ts_24hr_after_first_engagement\n",
    "    )\n",
    "SELECT\n",
    "  user_pseudo_id,\n",
    "  SUM(IF(event_name = 'user_engagement', 1, 0)) AS cnt_user_engagement,\n",
    "  SUM(IF(event_name = 'level_start_quickplay', 1, 0)) AS cnt_level_start_quickplay,\n",
    "  SUM(IF(event_name = 'level_end_quickplay', 1, 0)) AS cnt_level_end_quickplay,\n",
    "  SUM(IF(event_name = 'level_complete_quickplay', 1, 0)) AS cnt_level_complete_quickplay,\n",
    "  SUM(IF(event_name = 'level_reset_quickplay', 1, 0)) AS cnt_level_reset_quickplay,\n",
    "  SUM(IF(event_name = 'post_score', 1, 0)) AS cnt_post_score,\n",
    "  SUM(IF(event_name = 'spend_virtual_currency', 1, 0)) AS cnt_spend_virtual_currency,\n",
    "  SUM(IF(event_name = 'ad_reward', 1, 0)) AS cnt_ad_reward,\n",
    "  SUM(IF(event_name = 'challenge_a_friend', 1, 0)) AS cnt_challenge_a_friend,\n",
    "  SUM(IF(event_name = 'completed_5_levels', 1, 0)) AS cnt_completed_5_levels,\n",
    "  SUM(IF(event_name = 'use_extra_steps', 1, 0)) AS cnt_use_extra_steps,\n",
    "FROM\n",
    "  events_first24hr\n",
    "GROUP BY\n",
    "  1\n",
    "  );\n",
    "\n",
    "SELECT\n",
    "  *\n",
    "FROM\n",
    "  bqmlga4.user_aggregate_behavior\n",
    "LIMIT 10"
   ]
  },
  {
   "cell_type": "code",
   "execution_count": null,
   "metadata": {
    "id": "yaqslQ1Q91P_"
   },
   "outputs": [],
   "source": [
    "query = \"\"\"\n",
    "CREATE OR REPLACE VIEW {dataset_id}.user_aggregate_behavior AS (\n",
    "WITH\n",
    "  events_first24hr AS (\n",
    "    SELECT\n",
    "      e.*\n",
    "    FROM\n",
    "      `firebase-public-project.analytics_153293282.events_*` e\n",
    "    JOIN\n",
    "      {dataset_id}.returningusers r\n",
    "    ON\n",
    "      e.user_pseudo_id = r.user_pseudo_id\n",
    "    WHERE\n",
    "      e.event_timestamp <= r.ts_24hr_after_first_engagement\n",
    "    )\n",
    "SELECT\n",
    "  user_pseudo_id,\n",
    "  SUM(IF(event_name = 'user_engagement', 1, 0)) AS cnt_user_engagement,\n",
    "  SUM(IF(event_name = 'level_start_quickplay', 1, 0)) AS cnt_level_start_quickplay,\n",
    "  SUM(IF(event_name = 'level_end_quickplay', 1, 0)) AS cnt_level_end_quickplay,\n",
    "  SUM(IF(event_name = 'level_complete_quickplay', 1, 0)) AS cnt_level_complete_quickplay,\n",
    "  SUM(IF(event_name = 'level_reset_quickplay', 1, 0)) AS cnt_level_reset_quickplay,\n",
    "  SUM(IF(event_name = 'post_score', 1, 0)) AS cnt_post_score,\n",
    "  SUM(IF(event_name = 'spend_virtual_currency', 1, 0)) AS cnt_spend_virtual_currency,\n",
    "  SUM(IF(event_name = 'ad_reward', 1, 0)) AS cnt_ad_reward,\n",
    "  SUM(IF(event_name = 'challenge_a_friend', 1, 0)) AS cnt_challenge_a_friend,\n",
    "  SUM(IF(event_name = 'completed_5_levels', 1, 0)) AS cnt_completed_5_levels,\n",
    "  SUM(IF(event_name = 'use_extra_steps', 1, 0)) AS cnt_use_extra_steps,\n",
    "FROM\n",
    "  events_first24hr\n",
    "GROUP BY\n",
    "  1\n",
    "  );\n",
    "\n",
    "SELECT\n",
    "  *\n",
    "FROM\n",
    "  {dataset_id}.user_aggregate_behavior\n",
    "LIMIT 10\n",
    "\n",
    "\"\"\".format(\n",
    "    dataset_id=dataset_id\n",
    ")\n",
    "query_job = client.query(query)"
   ]
  },
  {
   "cell_type": "code",
   "execution_count": null,
   "metadata": {
    "id": "Ph-UAx0R91P_"
   },
   "outputs": [],
   "source": [
    "query_job.to_dataframe()"
   ]
  },
  {
   "cell_type": "markdown",
   "metadata": {
    "id": "89f8c6c44b9c"
   },
   "source": [
    "步骤4：将标签、人口统计数据和行为数据组合在一起作为训练数据。"
   ]
  },
  {
   "cell_type": "markdown",
   "metadata": {
    "id": "ed161899b055"
   },
   "source": [
    "在这一部分，您现在可以将这三个中间视图（标签、人口统计数据和行为数据）合并为最终的训练数据集。在这里，您还可以指定 `bounced = 0`，以便将训练数据限制在在使用应用程序的前10分钟内没有“弹回”的用户身上。"
   ]
  },
  {
   "cell_type": "markdown",
   "metadata": {
    "id": "bd02c06df5e7"
   },
   "source": [
    "#@bigquery\n",
    "CREATE OR REPLACE VIEW bqmlga4.train AS (\n",
    "    \n",
    "  SELECT\n",
    "    dem.*,\n",
    "    IFNULL(beh.cnt_user_engagement, 0) AS cnt_user_engagement,\n",
    "    IFNULL(beh.cnt_level_start_quickplay, 0) AS cnt_level_start_quickplay,\n",
    "    IFNULL(beh.cnt_level_end_quickplay, 0) AS cnt_level_end_quickplay,\n",
    "    IFNULL(beh.cnt_level_complete_quickplay, 0) AS cnt_level_complete_quickplay,\n",
    "    IFNULL(beh.cnt_level_reset_quickplay, 0) AS cnt_level_reset_quickplay,\n",
    "    IFNULL(beh.cnt_post_score, 0) AS cnt_post_score,\n",
    "    IFNULL(beh.cnt_spend_virtual_currency, 0) AS cnt_spend_virtual_currency,\n",
    "    IFNULL(beh.cnt_ad_reward, 0) AS cnt_ad_reward,\n",
    "    IFNULL(beh.cnt_challenge_a_friend, 0) AS cnt_challenge_a_friend,\n",
    "    IFNULL(beh.cnt_completed_5_levels, 0) AS cnt_completed_5_levels,\n",
    "    IFNULL(beh.cnt_use_extra_steps, 0) AS cnt_use_extra_steps,\n",
    "    ret.user_first_engagement,\n",
    "    ret.month,\n",
    "    ret.julianday,\n",
    "    ret.dayofweek,\n",
    "    ret.churned\n",
    "  FROM\n",
    "    bqmlga4.returningusers ret\n",
    "  LEFT OUTER JOIN\n",
    "    bqmlga4.user_demographics dem\n",
    "  ON \n",
    "    ret.user_pseudo_id = dem.user_pseudo_id\n",
    "  LEFT OUTER JOIN \n",
    "    bqmlga4.user_aggregate_behavior beh\n",
    "  ON\n",
    "    ret.user_pseudo_id = beh.user_pseudo_id\n",
    "  WHERE ret.bounced = 0\n",
    "  );\n",
    "\n",
    "SELECT\n",
    "  *\n",
    "FROM\n",
    "  bqmlga4.train\n",
    "LIMIT 10"
   ]
  },
  {
   "cell_type": "code",
   "execution_count": null,
   "metadata": {
    "id": "lzM9ZRy991QA"
   },
   "outputs": [],
   "source": [
    "query = \"\"\"\n",
    "CREATE OR REPLACE VIEW {dataset_id}.train AS (\n",
    "    \n",
    "  SELECT\n",
    "    dem.*,\n",
    "    IFNULL(beh.cnt_user_engagement, 0) AS cnt_user_engagement,\n",
    "    IFNULL(beh.cnt_level_start_quickplay, 0) AS cnt_level_start_quickplay,\n",
    "    IFNULL(beh.cnt_level_end_quickplay, 0) AS cnt_level_end_quickplay,\n",
    "    IFNULL(beh.cnt_level_complete_quickplay, 0) AS cnt_level_complete_quickplay,\n",
    "    IFNULL(beh.cnt_level_reset_quickplay, 0) AS cnt_level_reset_quickplay,\n",
    "    IFNULL(beh.cnt_post_score, 0) AS cnt_post_score,\n",
    "    IFNULL(beh.cnt_spend_virtual_currency, 0) AS cnt_spend_virtual_currency,\n",
    "    IFNULL(beh.cnt_ad_reward, 0) AS cnt_ad_reward,\n",
    "    IFNULL(beh.cnt_challenge_a_friend, 0) AS cnt_challenge_a_friend,\n",
    "    IFNULL(beh.cnt_completed_5_levels, 0) AS cnt_completed_5_levels,\n",
    "    IFNULL(beh.cnt_use_extra_steps, 0) AS cnt_use_extra_steps,\n",
    "    ret.user_first_engagement,\n",
    "    ret.month,\n",
    "    ret.julianday,\n",
    "    ret.dayofweek,\n",
    "    ret.churned\n",
    "  FROM\n",
    "    {dataset_id}.returningusers ret\n",
    "  LEFT OUTER JOIN\n",
    "    {dataset_id}.user_demographics dem\n",
    "  ON \n",
    "    ret.user_pseudo_id = dem.user_pseudo_id\n",
    "  LEFT OUTER JOIN \n",
    "    {dataset_id}.user_aggregate_behavior beh\n",
    "  ON\n",
    "    ret.user_pseudo_id = beh.user_pseudo_id\n",
    "  WHERE ret.bounced = 0\n",
    "  );\n",
    "\n",
    "SELECT\n",
    "  *\n",
    "FROM\n",
    "  {dataset_id}.train\n",
    "LIMIT 10\n",
    "\"\"\".format(\n",
    "    dataset_id=dataset_id\n",
    ")\n",
    "query_job = client.query(query)"
   ]
  },
  {
   "cell_type": "code",
   "execution_count": null,
   "metadata": {
    "id": "rfuOI63N91QA"
   },
   "outputs": [],
   "source": [
    "query_job.to_dataframe()"
   ]
  },
  {
   "cell_type": "markdown",
   "metadata": {
    "id": "68a2aa3e63ce"
   },
   "source": [
    "#@bigquery\n",
    "选择\n",
    "  *\n",
    "从\n",
    "  bqmlga4.train"
   ]
  },
  {
   "cell_type": "code",
   "execution_count": null,
   "metadata": {
    "id": "foLF2W-_91QB"
   },
   "outputs": [],
   "source": [
    "query = \"\"\"\n",
    "SELECT\n",
    "  *\n",
    "FROM\n",
    "  {dataset_id}.train\n",
    "\"\"\".format(\n",
    "    dataset_id=dataset_id\n",
    ")\n",
    "query_job = client.query(query)\n",
    "df = query_job.to_dataframe()"
   ]
  },
  {
   "cell_type": "code",
   "execution_count": null,
   "metadata": {
    "id": "sKqXDbVz91QB"
   },
   "outputs": [],
   "source": [
    "df"
   ]
  },
  {
   "cell_type": "markdown",
   "metadata": {
    "id": "121ca5d0d531"
   },
   "source": [
    "检查空值百分比。"
   ]
  },
  {
   "cell_type": "code",
   "execution_count": null,
   "metadata": {
    "id": "8c1a07395def"
   },
   "outputs": [],
   "source": [
    "(\n",
    "    100 * df[[\"operating_system\", \"language\", \"country\"]].isna().sum() / df.shape[0]\n",
    ").plot.bar(figsize=(15, 4))\n",
    "plt.title(\"Null-percentage of the columns\")\n",
    "plt.show()"
   ]
  },
  {
   "cell_type": "markdown",
   "metadata": {
    "id": "05bb76e78220"
   },
   "source": [
    "用BigQuery ML训练倾向性模型"
   ]
  },
  {
   "cell_type": "markdown",
   "metadata": {
    "id": "ec1a7945f3cb"
   },
   "source": [
    "在本部分中，使用您准备的训练数据，您现在可以使用BigQuery ML 在SQL中训练机器学习模型。"
   ]
  },
  {
   "cell_type": "markdown",
   "metadata": {
    "id": "fe89ff9223d7"
   },
   "source": [
    "您在这里使用[XGBoost]（https://cloud.google.com/bigquery-ml/docs/reference/standard-sql/bigqueryml-syntax-create-boosted-tree）模型。在这个笔记本中，该模型预测用户在首次使用应用程序后24小时内是流失（1）还是返回（0）。"
   ]
  },
  {
   "cell_type": "markdown",
   "metadata": {
    "id": "1244e58f0560"
   },
   "source": [
    "训练一个 XGBoost 模型"
   ]
  },
  {
   "cell_type": "markdown",
   "metadata": {
    "id": "1bfabaccff00"
   },
   "source": [
    "以下代码训练了一个XGBoost模型。这可能需要几分钟。\n",
    "\n",
    "有关使用的默认超参数的更多信息，请参阅[使用XGBoost创建增强树模型的CREATE MODEL语句](https://cloud.google.com/bigquery-ml/docs/reference/standard-sql/bigqueryml-syntax-create-boosted-tree)。"
   ]
  },
  {
   "cell_type": "markdown",
   "metadata": {
    "id": "6e04e73f353d"
   },
   "source": [
    "#@bigquery\n",
    "CREATE OR REPLACE MODEL bqmlga4.churn_xgb\n",
    "\n",
    "OPTIONS(\n",
    "  MODEL_TYPE=\"BOOSTED_TREE_CLASSIFIER\",\n",
    "  DATA_SPLIT_METHOD='RANDOM',\n",
    "  DATA_SPLIT_EVAL_FRACTION=0.2,\n",
    "    \n",
    "  INPUT_LABEL_COLS=[\"churned\"]\n",
    ") AS\n",
    "\n",
    "SELECT\n",
    "  *\n",
    "FROM\n",
    "  bqmlga4.train\n",
    "\n",
    "在BigQuery中创建或替换模型bqmlga4.churn_xgb，并设置选项（模型类型为“BOOSTED_TREE_CLASSIFIER”，数据分割方法为“RANDOM”，数据分割评估分数为0.2，输入标签列为“churned”），将所有数据从bqmlga4.train中选取。"
   ]
  },
  {
   "cell_type": "code",
   "execution_count": null,
   "metadata": {
    "id": "vE9eyg_591QC"
   },
   "outputs": [],
   "source": [
    "query = \"\"\"\n",
    "CREATE OR REPLACE MODEL {dataset_id}.churn_xgb\n",
    "\n",
    "OPTIONS(\n",
    "  MODEL_TYPE=\"BOOSTED_TREE_CLASSIFIER\",\n",
    "  DATA_SPLIT_METHOD='RANDOM',\n",
    "  DATA_SPLIT_EVAL_FRACTION=0.2,\n",
    "    \n",
    "  INPUT_LABEL_COLS=[\"churned\"]\n",
    ") AS\n",
    "\n",
    "SELECT\n",
    "  *\n",
    "FROM\n",
    "  {dataset_id}.train\n",
    "\"\"\".format(\n",
    "    dataset_id=dataset_id\n",
    ")\n",
    "query_job = client.query(query)"
   ]
  },
  {
   "cell_type": "code",
   "execution_count": null,
   "metadata": {
    "id": "vu-H3ICL91QD"
   },
   "outputs": [],
   "source": [
    "query_job.result()"
   ]
  },
  {
   "cell_type": "markdown",
   "metadata": {
    "id": "6a189c676815"
   },
   "source": [
    "## 模型评估\n",
    "<a name=\"section-9\"></a>"
   ]
  },
  {
   "cell_type": "markdown",
   "metadata": {
    "id": "33e0cb8eddd8"
   },
   "source": [
    "要评估模型，您可以在训练完成的模型上运行[`ML.EVALUATE`](https://cloud.google.com/bigquery-ml/docs/reference/standard-sql/bigqueryml-syntax-evaluate)以检查一些指标。\n",
    "\n",
    "这些指标基于在模型创建过程中自动拆分的测试样本数据（[请参阅创建模型文档获取更多信息](https://cloud.google.com/bigquery-ml/docs/reference/standard-sql/bigqueryml-syntax-create#data_split_method)）。"
   ]
  },
  {
   "cell_type": "markdown",
   "metadata": {
    "id": "e736b0d3906b"
   },
   "source": [
    "#@bigquery\n",
    "SELECT\n",
    "  *\n",
    "FROM\n",
    "  ML.EVALUATE(MODEL bqmlga4.churn_xgb)"
   ]
  },
  {
   "cell_type": "code",
   "execution_count": null,
   "metadata": {
    "id": "UTbi8gA691QD"
   },
   "outputs": [],
   "source": [
    "query = \"\"\"\n",
    "SELECT\n",
    "  *\n",
    "FROM\n",
    "  ML.EVALUATE(MODEL {dataset_id}.churn_xgb)\n",
    "\"\"\".format(\n",
    "    dataset_id=dataset_id\n",
    ")\n",
    "query_job = client.query(query)"
   ]
  },
  {
   "cell_type": "code",
   "execution_count": null,
   "metadata": {
    "id": "qIj17ASs91QD"
   },
   "outputs": [],
   "source": [
    "query_job.to_dataframe()"
   ]
  },
  {
   "cell_type": "markdown",
   "metadata": {
    "id": "56ab69bf8857"
   },
   "source": [
    "`ML.EVALUATE`使用默认的分类阈值0.5生成`precision`、`recall`、`accuracy`和`f1_score`，这个阈值可以通过使用可选的[`THRESHOLD`](https://cloud.google.com/bigquery-ml/docs/reference/standard-sql/bigqueryml-syntax-evaluate#eval_threshold)参数进行修改。\n",
    "\n",
    "通常情况下，您可以使用`log_loss`和`roc_auc`指标来比较模型性能。\n",
    "\n",
    "`log_loss`的范围在0到1.0之间，`log_loss`越接近于零，预测标签就越接近实际标签。\n",
    "\n",
    "`roc_auc`的范围在0到1.0之间，`roc_auc`越接近1.0，模型在区分不同类别方面就越好。\n",
    "\n",
    "有关这些指标的更多信息，您可以阅读关于[precision和recall](https://developers.google.com/machine-learning/crash-course/classification/precision-and-recall)、[accuracy](https://developers.google.com/machine-learning/crash-course/classification/accuracy)、[f1-score](https://en.wikipedia.org/wiki/F-score)、[log_loss](https://en.wikipedia.org/wiki/Loss_functions_for_classification#Logistic_loss)和[roc_auc](https://developers.google.com/machine-learning/crash-course/classification/roc-and-auc)的定义。"
   ]
  },
  {
   "cell_type": "markdown",
   "metadata": {
    "id": "a219caf7e0fc"
   },
   "source": [
    "混淆矩阵：预测值与实际值\n",
    "<a name=\"section-9-subsection-1\"></a>"
   ]
  },
  {
   "cell_type": "markdown",
   "metadata": {
    "id": "dc448a895918"
   },
   "source": [
    "除了模型评估指标之外，您可能还想使用混淆矩阵来检查模型预测标签与实际标签相比的准确度。\n",
    "\n",
    "以实际标签表示行，以预测标签表示列，二元分类的ML.CONFUSION_MATRIX 的结果格式如下：\n",
    "\n",
    "| | 预测为0 | 预测为1|\n",
    "|-|-|-|\n",
    "|实际为0| 真阴性(True Negatives) | 假阳性(False Positives)|\n",
    "|实际为1| 假阴性(False Negatives) | 真阳性(True Positives)|\n",
    "\n",
    "有关混淆矩阵的更多信息，请参阅[分类: 真正与假负以及正例与反例](https://developers.google.com/machine-learning/crash-course/classification/true-false-positive-negative)。"
   ]
  },
  {
   "cell_type": "markdown",
   "metadata": {
    "id": "89cf66f58b74"
   },
   "source": [
    "#@bigquery\n",
    "选择\n",
    "  expected_label,\n",
    "  _0 AS predicted_0,\n",
    "  _1 AS predicted_1\n",
    "从\n",
    "  ML.CONFUSION_MATRIX(MODEL bqmlga4.churn_xgb)"
   ]
  },
  {
   "cell_type": "code",
   "execution_count": null,
   "metadata": {
    "id": "rGqg47NS91QE"
   },
   "outputs": [],
   "source": [
    "query = \"\"\"\n",
    "SELECT\n",
    "  expected_label,\n",
    "  _0 AS predicted_0,\n",
    "  _1 AS predicted_1\n",
    "FROM\n",
    "  ML.CONFUSION_MATRIX(MODEL {dataset_id}.churn_xgb)\n",
    "\"\"\".format(\n",
    "    dataset_id=dataset_id\n",
    ")\n",
    "query_job = client.query(query)"
   ]
  },
  {
   "cell_type": "code",
   "execution_count": null,
   "metadata": {
    "id": "pmiKyp5t91QE"
   },
   "outputs": [],
   "source": [
    "query_job.to_dataframe()"
   ]
  },
  {
   "cell_type": "markdown",
   "metadata": {
    "id": "6c57eb63ee0b"
   },
   "source": [
    "ROC 曲线\n",
    "<a name=\"section-9-subsection-2\"></a>"
   ]
  },
  {
   "cell_type": "markdown",
   "metadata": {
    "id": "126bf7ab6607"
   },
   "source": [
    "#@bigquery\n",
    "SELECT * FROM ML.ROC_CURVE(MODEL bqmlga4.churn_xgb) \n",
    "\n",
    "#@大型查询\n",
    "选择* FROM ML.ROC_CURVE(MODEL bqmlga4.churn_xgb)"
   ]
  },
  {
   "cell_type": "code",
   "execution_count": null,
   "metadata": {
    "id": "drD7syfx91QF"
   },
   "outputs": [],
   "source": [
    "query = \"\"\"\n",
    "SELECT * FROM ML.ROC_CURVE(MODEL {dataset_id}.churn_xgb)\n",
    "\"\"\".format(\n",
    "    dataset_id=dataset_id\n",
    ")\n",
    "query_job = client.query(query)"
   ]
  },
  {
   "cell_type": "code",
   "execution_count": null,
   "metadata": {
    "id": "h35Fx8V791QF"
   },
   "outputs": [],
   "source": [
    "query_job.to_dataframe()"
   ]
  },
  {
   "cell_type": "markdown",
   "metadata": {
    "id": "cc3d2981c877"
   },
   "source": [
    "## 模型预测\n",
    "<a name=\"section-10\"></a>"
   ]
  },
  {
   "cell_type": "markdown",
   "metadata": {
    "id": "431ffebc5667"
   },
   "source": [
    "您可以运行[`ML.PREDICT`](https://cloud.google.com/bigquery-ml/docs/reference/standard-sql/bigqueryml-syntax-predict)来预测流失的倾向。以下代码返回`ML.PREDICT`中的所有信息。"
   ]
  },
  {
   "cell_type": "markdown",
   "metadata": {
    "id": "befa36fe5913"
   },
   "source": [
    "创建或替换视图bqmlga4.prediction_data AS(\n",
    "(SELECT * FROM bqmlga4.train WHERE churned=1 LIMIT 10)\n",
    "UNION ALL\n",
    "(SELECT * FROM bqmlga4.train WHERE churned=0 LIMIT 20))"
   ]
  },
  {
   "cell_type": "code",
   "execution_count": null,
   "metadata": {
    "id": "bYfx_IvK91QG"
   },
   "outputs": [],
   "source": [
    "query = \"\"\"\n",
    "CREATE OR REPLACE VIEW {dataset_id}.prediction_data AS(\n",
    "(SELECT * FROM {dataset_id}.train where churned=1 limit 10)\n",
    "union all\n",
    "(SELECT * FROM {dataset_id}.train where churned=0 limit 20))\n",
    "\"\"\".format(\n",
    "    dataset_id=dataset_id\n",
    ")\n",
    "query_job = client.query(query)"
   ]
  },
  {
   "cell_type": "code",
   "execution_count": null,
   "metadata": {
    "id": "bxZotPpk91QG"
   },
   "outputs": [],
   "source": [
    "query_job.result()"
   ]
  },
  {
   "cell_type": "markdown",
   "metadata": {
    "id": "6a6831e141b7"
   },
   "source": [
    "#@bigquery\n",
    "SELECT\n",
    "  *\n",
    "FROM\n",
    "  ML.PREDICT(MODEL bqmlga4.churn_xgb,\n",
    "  (SELECT * FROM bqmlga4.prediction_data))"
   ]
  },
  {
   "cell_type": "code",
   "execution_count": null,
   "metadata": {
    "id": "pRTxjtLu91QH"
   },
   "outputs": [],
   "source": [
    "query = \"\"\"\n",
    "SELECT\n",
    "  *\n",
    "FROM\n",
    "  ML.PREDICT(MODEL {dataset_id}.churn_xgb,\n",
    "  (SELECT * FROM {dataset_id}.prediction_data)\n",
    "            ) \n",
    "\"\"\".format(\n",
    "    dataset_id=dataset_id\n",
    ")\n",
    "query_job = client.query(query)"
   ]
  },
  {
   "cell_type": "code",
   "execution_count": null,
   "metadata": {
    "id": "Qqp5gwHQ91QH"
   },
   "outputs": [],
   "source": [
    "query_job.to_dataframe()"
   ]
  },
  {
   "cell_type": "markdown",
   "metadata": {
    "id": "fccf138adcfa"
   },
   "source": [
    "对于倾向性建模来说，最重要的输出是某种行为发生的概率。以下查询将返回用户在24小时后返回的概率。概率越高，越接近于1，用户更可能被预测为流失，概率越接近于0，用户更可能被预测为返回。"
   ]
  },
  {
   "cell_type": "markdown",
   "metadata": {
    "id": "e311ec7695fa"
   },
   "source": [
    "#@bigquery\n",
    "SELECT\n",
    "  user_pseudo_id,\n",
    "  churned,\n",
    "  predicted_churned,\n",
    "  predicted_churned_probs[OFFSET(0)].prob as probability_churned\n",
    "\n",
    "FROM\n",
    "  ML.PREDICT(MODEL bqmlga4.churn_xgb,\n",
    "  (SELECT * FROM bqmlga4.train)) \n",
    "\n",
    "中文：\n",
    "#@bigquery\n",
    "选择\n",
    "  用户伪ID，\n",
    "  流失，\n",
    "  预测流失，\n",
    "  预测流失概率[偏移（0）]。概率作为概率流失\n",
    "\n",
    "从\n",
    "  ML. 预测(模型 bqmlga4.churn_xgb,\n",
    "  （选择*从bqmlga4.train）)"
   ]
  },
  {
   "cell_type": "code",
   "execution_count": null,
   "metadata": {
    "id": "ofaONrnJ91QH"
   },
   "outputs": [],
   "source": [
    "query = \"\"\"\n",
    "SELECT\n",
    "  user_pseudo_id,\n",
    "  churned,\n",
    "  predicted_churned,\n",
    "  predicted_churned_probs[OFFSET(0)].prob as probability_churned\n",
    "  \n",
    "FROM\n",
    "  ML.PREDICT(MODEL {dataset_id}.churn_xgb,\n",
    "  (SELECT * FROM {dataset_id}.train))\n",
    "\"\"\".format(\n",
    "    dataset_id=dataset_id\n",
    ")\n",
    "query_job = client.query(query)"
   ]
  },
  {
   "cell_type": "code",
   "execution_count": null,
   "metadata": {
    "id": "wLUdpUCl91QH"
   },
   "outputs": [],
   "source": [
    "query_job.to_dataframe()"
   ]
  },
  {
   "cell_type": "markdown",
   "metadata": {
    "id": "1af4216bbb3d"
   },
   "source": [
    "将预测表导出至云存储\n",
    "<a name=\"section-11\"></a>"
   ]
  },
  {
   "cell_type": "markdown",
   "metadata": {
    "id": "2839b839f440"
   },
   "source": [
    "有几种将预测表导出到云存储的方法，这样您可以在单独的服务中使用这些信息。也许最简单的方法是使用SQL直接将数据导出到云存储。[了解更多关于EXPORT DATA语句的信息](https://cloud.google.com/bigquery/docs/reference/standard-sql/other-statements#export_data_statement)。"
   ]
  },
  {
   "cell_type": "code",
   "execution_count": null,
   "metadata": {
    "id": "AhogPydo91QI"
   },
   "outputs": [],
   "source": [
    "query = \"\"\"\n",
    "CREATE OR REPLACE TABLE {dataset_id}.prediction_data_table AS (\n",
    "SELECT \n",
    "  * \n",
    "FROM \n",
    "  {dataset_id}.prediction_data\n",
    ")\n",
    "\"\"\".format(\n",
    "    dataset_id=dataset_id\n",
    ")\n",
    "query_job = client.query(query)"
   ]
  },
  {
   "cell_type": "code",
   "execution_count": null,
   "metadata": {
    "id": "5y8By3d791QI"
   },
   "outputs": [],
   "source": [
    "query_job.result()"
   ]
  },
  {
   "cell_type": "code",
   "execution_count": null,
   "metadata": {
    "id": "o1CeLVJL91QI"
   },
   "outputs": [],
   "source": [
    "FILE_PATH = BUCKET_URI + \"/\" + \"*.csv\""
   ]
  },
  {
   "cell_type": "code",
   "execution_count": null,
   "metadata": {
    "id": "bAQSJjqz91QI"
   },
   "outputs": [],
   "source": [
    "query = \"\"\"\n",
    "EXPORT DATA OPTIONS (\n",
    "uri= @FILE_PATH, \n",
    "  format=CSV,\n",
    "  header=True, \n",
    "  overwrite=True \n",
    "    \n",
    ") AS \n",
    "SELECT\n",
    "  * from {dataset_id}.prediction_data_table\n",
    "\"\"\".format(\n",
    "    dataset_id=dataset_id\n",
    ")\n",
    "\n",
    "job_config = bigquery.QueryJobConfig(\n",
    "    query_parameters=[\n",
    "        bigquery.ScalarQueryParameter(\"FILE_PATH\", \"STRING\", FILE_PATH),\n",
    "    ]\n",
    ")\n",
    "query_job = client.query(query, job_config=job_config)  # Make an API request."
   ]
  },
  {
   "cell_type": "code",
   "execution_count": null,
   "metadata": {
    "id": "mdi1K7gt91QI"
   },
   "outputs": [],
   "source": [
    "query_job.result()"
   ]
  },
  {
   "cell_type": "markdown",
   "metadata": {
    "id": "08ca03535d87"
   },
   "source": [
    "## 清理\n",
    "\n",
    "要清理此项目中使用的所有Google Cloud资源，您可以[删除用于本教程的Google Cloud项目](https://cloud.google.com/resource-manager/docs/creating-managing-projects#shutting_down_projects)。\n",
    "\n",
    "否则，您可以删除本教程中创建的各个资源。以下代码将删除整个数据集。"
   ]
  },
  {
   "cell_type": "code",
   "execution_count": null,
   "metadata": {
    "id": "04a96ad8abdc"
   },
   "outputs": [],
   "source": [
    "# Set dataset variable to the ID of the BigQuery dataset to fetch.\n",
    "dataset = f\"{PROJECT_ID}.{dataset_id}\"\n",
    "\n",
    "# Use the delete_contents parameter to delete a dataset and its contents.\n",
    "# Use the not_found_ok parameter to not receive an error if the dataset has already been deleted.\n",
    "client.delete_dataset(\n",
    "    dataset, delete_contents=True, not_found_ok=True\n",
    ")  # Make an API request.\n",
    "\n",
    "print(\"Deleted dataset '{}'.\".format(dataset_id))\n",
    "\n",
    "delete_bucket = False\n",
    "if delete_bucket or os.getenv(\"IS_TESTING\"):\n",
    "    ! gsutil -m rm -r $BUCKET_URI"
   ]
  }
 ],
 "metadata": {
  "colab": {
   "collapsed_sections": [],
   "name": "churn_prediction_for_game_developers.ipynb",
   "toc_visible": true
  },
  "kernelspec": {
   "display_name": "Python 3",
   "name": "python3"
  }
 },
 "nbformat": 4,
 "nbformat_minor": 0
}
