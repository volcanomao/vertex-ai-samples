{
 "cells": [
  {
   "cell_type": "code",
   "execution_count": null,
   "metadata": {
    "id": "6a81007f6093"
   },
   "outputs": [],
   "source": [
    "# Copyright 2022 Google LLC\n",
    "#\n",
    "# Licensed under the Apache License, Version 2.0 (the \"License\");\n",
    "# you may not use this file except in compliance with the License.\n",
    "# You may obtain a copy of the License at\n",
    "#\n",
    "#     https://www.apache.org/licenses/LICENSE-2.0\n",
    "#\n",
    "# Unless required by applicable law or agreed to in writing, software\n",
    "# distributed under the License is distributed on an \"AS IS\" BASIS,\n",
    "# WITHOUT WARRANTIES OR CONDITIONS OF ANY KIND, either express or implied.\n",
    "# See the License for the specific language governing permissions and\n",
    "# limitations under the License."
   ]
  },
  {
   "cell_type": "markdown",
   "metadata": {
    "id": "nweBeREip93u"
   },
   "source": [
    "使用Vertex AI和BigQuery ML预测零售需求\n",
    "\n",
    "<table align=\"left\">\n",
    "\n",
    "  <td>\n",
    "    <a href=\"https://colab.research.google.com/github/GoogleCloudPlatform/vertex-ai-samples/blob/main/notebooks/official/workbench/demand_forecasting/forecasting-retail-demand.ipynb\">\n",
    "      <img src=\"https://cloud.google.com/ml-engine/images/colab-logo-32px.png\" alt=\"Colab logo\"> 在Colab中运行\n",
    "    </a>\n",
    "  </td>\n",
    "  <td>\n",
    "    <a href=\"https://github.com/GoogleCloudPlatform/vertex-ai-samples/blob/main/notebooks/official/workbench/demand_forecasting/forecasting-retail-demand.ipynb\">\n",
    "      <img src=\"https://cloud.google.com/ml-engine/images/github-logo-32px.png\" alt=\"GitHub logo\">\n",
    "      在GitHub上查看\n",
    "    </a>\n",
    "  </td>\n",
    "  <td>\n",
    "<a href=\"https://console.cloud.google.com/vertex-ai/workbench/deploy-notebook?download_url=https://raw.githubusercontent.com/GoogleCloudPlatform/vertex-ai-samples/main/notebooks/official/workbench/demand_forecasting/forecasting-retail-demand.ipynb\" target='_blank'>\n",
    "      <img src=\"https://lh3.googleusercontent.com/UiNooY4LUgW_oTvpsNhPpQzsstV5W8F7rYgxgGBD85cWJoLmrOzhVs_ksK_vgx40SHs7jCqkTkCk=e14-rj-sc0xffffff-h130-w32\" alt=\"Vertex AI logo\">\n",
    "      在Vertex AI工作台中打开\n",
    "    </a>\n",
    "  </td>                                                                                               \n",
    "</table>"
   ]
  },
  {
   "cell_type": "markdown",
   "metadata": {
    "id": "dc1f01b84273"
   },
   "source": [
    "## 概述\n",
    "\n",
    "本教程探讨如何使用BigQuery公共零售数据集进行需求预测。能够衡量和预测顾客需求可以帮助零售商更好地了解他们的顾客，储存适当的产品，提供定向促销，并且一般来说，更好地规划和管理预算。本文档在零售数据上应用了BigQuery ML上的ARIMA（自回归积分滑动平均）模型。本文档演示了如何训练和评估用于需求预测数据集的BigQuery ML模型，并提取可行的未来见解。\n",
    "\n",
    "*注意：此笔记本文件设计为在[Vertex AI Workbench托管笔记本](https://cloud.google.com/vertex-ai/docs/workbench/managed/create-instance)实例中使用`Python (Local)`内核运行。此笔记本的某些组件可能无法在其他笔记本环境中运行。*\n",
    "\n",
    "#### 使用BigQuery ML的ARIMA建模\n",
    "\n",
    "<a href='https://en.wikipedia.org/wiki/Autoregressive_integrated_moving_average'>ARIMA模型</a>旨在分析历史数据，发现随时间变化的模式，并将其推断到未来—即预测。该模型在BigQuery ML中可用，使用户能够使用SQL查询直接在BigQuery中创建和执行机器学习模型。使用BigQuery ML具有优势，因为它已经可以访问数据，如果需要的话，它可以自动处理大部分建模细节，并且还会将模型和任何预测结果存储在BigQuery中。\n",
    "\n",
    "了解更多关于[Vertex AI Workbench](https://cloud.google.com/vertex-ai/docs/workbench/introduction)和[BigQuery ML](https://cloud.google.com/bigquery-ml/docs/managing-models-vertex)。"
   ]
  },
  {
   "cell_type": "markdown",
   "metadata": {
    "id": "dbab58d4ae1a"
   },
   "source": [
    "### 目标\n",
    "在本教程中，您将学习如何在 BigQuery ML 上针对零售数据构建 ARIMA（自回归积分移动平均）模型。\n",
    "\n",
    "本教程使用以下 Google Cloud ML 服务：\n",
    "- BigQuery\n",
    "\n",
    "执行的步骤包括：\n",
    "\n",
    "* 探索数据\n",
    "* 使用 BigQuery 和 ARIMA 模型建模\n",
    "* 评估模型\n",
    "* 使用 BigQuery ML 评估模型结果（在训练数据上）\n",
    "* 评估模型结果 - MAE，MAPE，MSE，RMSE（在测试数据上）\n",
    "* 使用执行者功能"
   ]
  },
  {
   "cell_type": "markdown",
   "metadata": {
    "id": "26a00a419045"
   },
   "source": [
    "### 数据集\n",
    "\n",
    "这个笔记本使用BigQuery公共零售数据集。数据涵盖了10家美国商店，包括商品级别、部门、产品类别和商店详细信息。此外，它还具有价格和毛利等解释变量。"
   ]
  },
  {
   "cell_type": "markdown",
   "metadata": {
    "id": "17e0532066d7"
   },
   "source": [
    "成本\n",
    "本教程使用谷歌云的以下收费组件：\n",
    "\n",
    "- Vertex AI\n",
    "- BigQuery\n",
    "\n",
    "了解[Vertex AI的定价](https://cloud.google.com/vertex-ai/pricing)，[BigQuery的定价](https://cloud.google.com/bigquery/pricing)，并使用[定价计算器](https://cloud.google.com/products/calculator/)根据您的预期使用情况生成成本估算。"
   ]
  },
  {
   "cell_type": "markdown",
   "metadata": {
    "id": "oH0bZDCmp930"
   },
   "source": [
    "安装额外的软件包。"
   ]
  },
  {
   "cell_type": "code",
   "execution_count": null,
   "metadata": {
    "id": "V3RUMIvBp932"
   },
   "outputs": [],
   "source": [
    "! pip3 install --quiet --upgrade pandas-gbq 'google-cloud-bigquery[bqstorage,pandas]' scikit-learn"
   ]
  },
  {
   "cell_type": "markdown",
   "metadata": {
    "id": "e9255e3b156f"
   },
   "source": [
    "只有Colab：取消注释以下单元格以重新启动内核"
   ]
  },
  {
   "cell_type": "code",
   "execution_count": null,
   "metadata": {
    "id": "0c0b2427998a"
   },
   "outputs": [],
   "source": [
    "# Automatically restart kernel after installs so that your environment can access the new packages\n",
    "# import IPython\n",
    "\n",
    "# app = IPython.Application.instance()\n",
    "# app.kernel.do_shutdown(True)"
   ]
  },
  {
   "cell_type": "markdown",
   "metadata": {
    "id": "435b8e413535"
   },
   "source": [
    "### 开始之前\n",
    "\n",
    "#### 设置您的项目 ID\n",
    "\n",
    "**如果您不知道您的项目 ID**，请尝试以下操作：\n",
    "- 运行 `gcloud config list`\n",
    "- 运行 `gcloud projects list`\n",
    "- 查看支持页面: [查找项目 ID](https://support.google.com/googleapi/answer/7014113)"
   ]
  },
  {
   "cell_type": "code",
   "execution_count": null,
   "metadata": {
    "id": "be175254a715"
   },
   "outputs": [],
   "source": [
    "PROJECT_ID = \"[your-project-id]\"  # @param {type:\"string\"}\n",
    "\n",
    "# set the project id\n",
    "! gcloud config set project $PROJECT_ID"
   ]
  },
  {
   "cell_type": "markdown",
   "metadata": {
    "id": "2e6b8b324ce1"
   },
   "source": [
    "### 地区\n",
    "\n",
    "您还可以更改 Vertex AI 使用的 `REGION` 变量。\n",
    "了解有关 [Vertex AI 区域](https://cloud.google.com/vertex-ai/docs/general/locations) 的更多信息。"
   ]
  },
  {
   "cell_type": "code",
   "execution_count": null,
   "metadata": {
    "id": "ae43d96c4b1b"
   },
   "outputs": [],
   "source": [
    "REGION = \"[your-region]\"  # @param {type: \"string\"}"
   ]
  },
  {
   "cell_type": "markdown",
   "metadata": {
    "id": "6c43a8673066"
   },
   "source": [
    "### 对您的Google Cloud账户进行身份验证\n",
    "\n",
    "根据您的Jupyter环境，您可能需要手动进行身份验证。请按照以下相关说明进行操作。\n",
    "\n",
    "**1. Vertex AI 工作站**\n",
    "- 不需要进行任何操作，因为您已经验证通过了。\n",
    "\n",
    "**2. 本地JupyterLab实例**，将注释取消并运行。"
   ]
  },
  {
   "cell_type": "code",
   "execution_count": null,
   "metadata": {
    "id": "fbc9cd30cc4b"
   },
   "outputs": [],
   "source": [
    "# ! gcloud auth login"
   ]
  },
  {
   "cell_type": "markdown",
   "metadata": {
    "id": "cd0da2c26879"
   },
   "source": [
    "3. 合作，取消注释并运行："
   ]
  },
  {
   "cell_type": "code",
   "execution_count": null,
   "metadata": {
    "id": "a336a05c6149"
   },
   "outputs": [],
   "source": [
    "# from google.colab import auth\n",
    "# auth.authenticate_user()"
   ]
  },
  {
   "cell_type": "markdown",
   "metadata": {
    "id": "0461097edfa5"
   },
   "source": [
    "4. 服务账户或其他\n",
    "- 在这里查看所有的认证选项：[Google Cloud 平台 Jupyter Notebook 认证指南](https://github.com/GoogleCloudPlatform/vertex-ai-samples/blob/main/notebooks/notebook_authentication_guide.ipynb)"
   ]
  },
  {
   "cell_type": "markdown",
   "metadata": {
    "id": "e5755d1a554f"
   },
   "source": [
    "### 创建一个云存储桶\n",
    "\n",
    "创建一个存储桶，用于存储诸如数据集等中间产物。"
   ]
  },
  {
   "cell_type": "code",
   "execution_count": null,
   "metadata": {
    "id": "d2de92accb67"
   },
   "outputs": [],
   "source": [
    "BUCKET_NAME = \"your-bucket-name-unique\"  # @param {type:\"string\"}\n",
    "BUCKET_URI = f\"gs://{BUCKET_NAME}\""
   ]
  },
  {
   "cell_type": "markdown",
   "metadata": {
    "id": "b72bfdf29dae"
   },
   "source": [
    "只有当您的存储桶不存在时，才运行以下单元格以创建您的云存储桶。"
   ]
  },
  {
   "cell_type": "code",
   "execution_count": null,
   "metadata": {
    "id": "a4453435d115"
   },
   "outputs": [],
   "source": [
    "! gsutil mb -l $REGION $BUCKET_URI"
   ]
  },
  {
   "cell_type": "markdown",
   "metadata": {
    "id": "07fc8daffbf9"
   },
   "source": [
    "UUID\n",
    "\n",
    "如果您正在进行实时教程会话，您可能正在使用共享的测试帐户或项目。为了避免在创建资源时发生用户之间的名称冲突，您可以为每个实例会话创建一个UUID，并将其附加到您在本教程中创建的资源的名称上。"
   ]
  },
  {
   "cell_type": "code",
   "execution_count": null,
   "metadata": {
    "id": "abc79bf099b2"
   },
   "outputs": [],
   "source": [
    "import random\n",
    "import string\n",
    "\n",
    "\n",
    "# Generate a uuid of a specifed length(default=8)\n",
    "def generate_uuid(length: int = 8) -> str:\n",
    "    return \"\".join(random.choices(string.ascii_lowercase + string.digits, k=length))\n",
    "\n",
    "\n",
    "UUID = generate_uuid()"
   ]
  },
  {
   "cell_type": "markdown",
   "metadata": {
    "id": "b4edb2c269d4"
   },
   "source": [
    "导入库并定义常量"
   ]
  },
  {
   "cell_type": "markdown",
   "metadata": {
    "id": "b81a2c71fa3a"
   },
   "source": [
    "加载所需的库。"
   ]
  },
  {
   "cell_type": "code",
   "execution_count": null,
   "metadata": {
    "id": "c64de5cbad25"
   },
   "outputs": [],
   "source": [
    "import matplotlib.pyplot as plt\n",
    "import pandas as pd\n",
    "from google.cloud import bigquery\n",
    "from google.cloud.bigquery import Client\n",
    "from sklearn.metrics import (mean_absolute_error,\n",
    "                             mean_absolute_percentage_error,\n",
    "                             mean_squared_error)\n",
    "\n",
    "%matplotlib inline\n",
    "\n",
    "import warnings\n",
    "\n",
    "warnings.filterwarnings(\"ignore\")"
   ]
  },
  {
   "cell_type": "markdown",
   "metadata": {
    "id": "40902aa0f1de"
   },
   "source": [
    "为表设置名称"
   ]
  },
  {
   "cell_type": "code",
   "execution_count": null,
   "metadata": {
    "id": "7592011d7825"
   },
   "outputs": [],
   "source": [
    "SALES_TABLE = \"training_data_table\"\n",
    "\n",
    "# Construct a BigQuery client object.\n",
    "\n",
    "client = Client(project=PROJECT_ID)"
   ]
  },
  {
   "cell_type": "markdown",
   "metadata": {
    "id": "36d3a8aec700"
   },
   "source": [
    "创建一个BigQuery数据集"
   ]
  },
  {
   "cell_type": "code",
   "execution_count": null,
   "metadata": {
    "id": "2f6037562f87"
   },
   "outputs": [],
   "source": [
    "dataset_id = \"demandforecasting\" + \"_\" + UUID"
   ]
  },
  {
   "cell_type": "markdown",
   "metadata": {
    "id": "0wguBZeKp93_"
   },
   "source": [
    "如果您正在使用***Vertex AI Workbench托管笔记本实例***，每个以\"#@bigquery\"开头的单元格将被视为一个SQL查询。如果您在使用Vertex AI Workbench用户管理的笔记本实例或Colab，则它将被视为一个标记单元格。"
   ]
  },
  {
   "cell_type": "markdown",
   "metadata": {
    "id": "2ce9876ee882"
   },
   "source": [
    "#@bigquery\n",
    "CREATE SCHEMA [your-dataset-id]\n",
    "OPTIONS(\n",
    "  location=\"us\"\n",
    "  ) \n",
    "\n",
    "大家注意\n",
    "CREATE SCHEMA [你的数据集ID]\n",
    "选项(\n",
    "  位置=\"美国\"\n",
    "  )"
   ]
  },
  {
   "cell_type": "markdown",
   "metadata": {
    "id": "RxnaBh4sp93_"
   },
   "source": [
    "（可选）如果您正在使用Vertex AI Workbench管理的笔记本实例，一旦从BigQuery显示在下面的单元格中的结果，点击“查询和加载为DataFrame”按钮，并执行生成的代码存根以将数据获取到当前笔记本中作为一个数据框。\n",
    "\n",
    "注意：默认情况下，数据会加载到一个名为`df`的变量中，但如果需要的话，可以在执行单元格之前更改它。"
   ]
  },
  {
   "cell_type": "code",
   "execution_count": null,
   "metadata": {
    "id": "d1m0ixQ9p93_"
   },
   "outputs": [],
   "source": [
    "query = \"\"\"\n",
    "CREATE SCHEMA `{PROJECT_ID}.{dataset_id}`\n",
    "OPTIONS(\n",
    "  location=\"us\"\n",
    "  )\n",
    "\"\"\".format(\n",
    "    PROJECT_ID=PROJECT_ID, dataset_id=dataset_id\n",
    ")\n",
    "query_job = client.query(query)\n",
    "print(query_job.result())"
   ]
  },
  {
   "cell_type": "markdown",
   "metadata": {
    "id": "7002b223b2b5"
   },
   "source": [
    "## 探索数据\n",
    "查看存储在公共BigQuery数据集中的数据。"
   ]
  },
  {
   "cell_type": "markdown",
   "metadata": {
    "id": "2b134d3155d5"
   },
   "source": [
    "#@bigquery\n",
    "SELECT * FROM `looker-private-demo.retail.transaction_detail`"
   ]
  },
  {
   "cell_type": "code",
   "execution_count": null,
   "metadata": {
    "id": "R8QkUxvzp94A"
   },
   "outputs": [],
   "source": [
    "query = \"\"\"\n",
    "SELECT * FROM `looker-private-demo.retail.transaction_detail`\n",
    "\"\"\"\n",
    "query_job = client.query(query)"
   ]
  },
  {
   "cell_type": "code",
   "execution_count": null,
   "metadata": {
    "id": "GhAK4ryBp94A"
   },
   "outputs": [],
   "source": [
    "query_job.to_dataframe()"
   ]
  },
  {
   "cell_type": "markdown",
   "metadata": {
    "id": "6d52803e14f2"
   },
   "source": [
    "创建一个名为`important_fields`的视图，只使用`transaction_timestamp`和`line_items`字段，其中商店ID为10。"
   ]
  },
  {
   "cell_type": "markdown",
   "metadata": {
    "id": "dc37b15df336"
   },
   "source": [
    "#@bigquery\n",
    "CREATE OR REPLACE VIEW [your-dataset-id].important_fields AS\n",
    "(\n",
    "    SELECT transaction_timestamp, line_items FROM `looker-private-demo.retail.transaction_detail` WHERE store_id = 10\n",
    ")"
   ]
  },
  {
   "cell_type": "code",
   "execution_count": null,
   "metadata": {
    "id": "uDgu3GWtp94B"
   },
   "outputs": [],
   "source": [
    "query = \"\"\"\n",
    "CREATE OR REPLACE VIEW {dataset_id}.important_fields AS\n",
    "(\n",
    "    SELECT transaction_timestamp,line_items from `looker-private-demo.retail.transaction_detail` WHERE store_id = 10\n",
    ")   \n",
    "\"\"\".format(\n",
    "    dataset_id=dataset_id\n",
    ")\n",
    "query_job = client.query(query)\n",
    "print(query_job.result())"
   ]
  },
  {
   "cell_type": "markdown",
   "metadata": {
    "id": "a9ca8a8bbf82"
   },
   "source": [
    "查看“important_fields”视图中的数据。"
   ]
  },
  {
   "cell_type": "markdown",
   "metadata": {
    "id": "1ffe2d8e816c"
   },
   "source": [
    "#@bigquery\n",
    "SELECT * FROM [你的数据集ID].important_fields"
   ]
  },
  {
   "cell_type": "code",
   "execution_count": null,
   "metadata": {
    "id": "J4CN-N_op94B"
   },
   "outputs": [],
   "source": [
    "query = \"\"\"\n",
    "SELECT * FROM {dataset_id}.important_fields\n",
    "\"\"\".format(\n",
    "    dataset_id=dataset_id\n",
    ")\n",
    "query_job = client.query(query)\n",
    "\n",
    "query_job.to_dataframe()"
   ]
  },
  {
   "cell_type": "markdown",
   "metadata": {
    "id": "5f03b43de905"
   },
   "source": [
    "将`transaction_timestamp`字段转换为日期。"
   ]
  },
  {
   "cell_type": "markdown",
   "metadata": {
    "id": "221986867dbd"
   },
   "source": [
    "#@bigquery \n",
    "创建或替换视图[your-dataset-id].data_after_converting_timestamp_to_date AS \n",
    "(\n",
    "SELECT EXTRACT(DATE FROM transaction_timestamp AT TIME ZONE \"UTC\") AS date,line_items from [your-dataset-id].important_fields\n",
    ")"
   ]
  },
  {
   "cell_type": "code",
   "execution_count": null,
   "metadata": {
    "id": "DGq3a0aUp94C"
   },
   "outputs": [],
   "source": [
    "query = \"\"\"\n",
    "CREATE OR REPLACE VIEW {dataset_id}.data_after_converting_timestamp_to_date AS\n",
    "(\n",
    "    SELECT EXTRACT(DATE FROM transaction_timestamp AT TIME ZONE \"UTC\") AS date,line_items from {dataset_id}.important_fields\n",
    ")   \n",
    "\"\"\".format(\n",
    "    dataset_id=dataset_id\n",
    ")\n",
    "query_job = client.query(query)\n",
    "print(query_job.result())"
   ]
  },
  {
   "cell_type": "markdown",
   "metadata": {
    "id": "f0babc4a23fa"
   },
   "source": [
    "查看数据并检查`date`字段的数值。"
   ]
  },
  {
   "cell_type": "markdown",
   "metadata": {
    "id": "2181af3cae88"
   },
   "source": [
    "#@bigquery\n",
    "SELECT * FROM [your-dataset-id].data_after_converting_timestamp_to_date\n",
    "\n",
    "#@bigquery\n",
    "从[your-dataset-id].data_after_converting_timestamp_to_date选择*"
   ]
  },
  {
   "cell_type": "code",
   "execution_count": null,
   "metadata": {
    "id": "_1mz0KD1p94C"
   },
   "outputs": [],
   "source": [
    "query = \"\"\"\n",
    "SELECT * FROM {dataset_id}.data_after_converting_timestamp_to_date\n",
    "\"\"\".format(\n",
    "    dataset_id=dataset_id\n",
    ")\n",
    "query_job = client.query(query)\n",
    "\n",
    "query_job.to_dataframe()"
   ]
  },
  {
   "cell_type": "markdown",
   "metadata": {
    "id": "990d04eab2e1"
   },
   "source": [
    "将数据加载到一个数据框中。"
   ]
  },
  {
   "cell_type": "code",
   "execution_count": null,
   "metadata": {
    "id": "2d3a85f95f9d"
   },
   "outputs": [],
   "source": [
    "df_intermediary = query_job.to_dataframe()"
   ]
  },
  {
   "cell_type": "markdown",
   "metadata": {
    "id": "f25cf5322fbc"
   },
   "source": [
    "检查数据帧字段的数据类型。"
   ]
  },
  {
   "cell_type": "code",
   "execution_count": null,
   "metadata": {
    "id": "40a78a81c379"
   },
   "outputs": [],
   "source": [
    "df_intermediary.dtypes"
   ]
  },
  {
   "cell_type": "markdown",
   "metadata": {
    "id": "f2f685f15000"
   },
   "source": [
    "`line_items` 字段是一个结构数组。将数组拆分为其各个部分，`product_id`，`sale_price`和`gross_margin`。"
   ]
  },
  {
   "cell_type": "markdown",
   "metadata": {
    "id": "caf01494d657"
   },
   "source": [
    "#@bigquery\n",
    "CREATE OR REPLACE VIEW [your-dataset-id].split_array_of_structs AS\n",
    "\n",
    "(SELECT 日期, line_items\n",
    "FROM [your-dataset-id].data_after_converting_timestamp_to_date, UNNEST(line_items) AS line_items)"
   ]
  },
  {
   "cell_type": "code",
   "execution_count": null,
   "metadata": {
    "id": "33zixGvkp94E"
   },
   "outputs": [],
   "source": [
    "query = \"\"\"\n",
    "CREATE OR REPLACE VIEW {dataset_id}.split_array_of_structs AS\n",
    " \n",
    "(SELECT date,line_items\n",
    "FROM {dataset_id}.data_after_converting_timestamp_to_date, UNNEST(line_items) AS line_items)\n",
    "\"\"\".format(\n",
    "    dataset_id=dataset_id\n",
    ")\n",
    "query_job = client.query(query)\n",
    "print(query_job.result())"
   ]
  },
  {
   "cell_type": "markdown",
   "metadata": {
    "id": "6c677762b34a"
   },
   "source": [
    "查看数据。"
   ]
  },
  {
   "cell_type": "markdown",
   "metadata": {
    "id": "0cbbded0bf50"
   },
   "source": [
    "#@bigquery\n",
    "SELECT * FROM [your-dataset-id].split_array_of_structs"
   ]
  },
  {
   "cell_type": "code",
   "execution_count": null,
   "metadata": {
    "id": "wRmYwn7Vp94F"
   },
   "outputs": [],
   "source": [
    "query = \"\"\"\n",
    "SELECT * FROM {dataset_id}.split_array_of_structs\n",
    "\"\"\".format(\n",
    "    dataset_id=dataset_id\n",
    ")\n",
    "query_job = client.query(query)\n",
    "\n",
    "query_job.to_dataframe()"
   ]
  },
  {
   "cell_type": "markdown",
   "metadata": {
    "id": "7acc57476f1c"
   },
   "source": [
    "移除额外的列，只保留`日期`和`产品编号`。"
   ]
  },
  {
   "cell_type": "markdown",
   "metadata": {
    "id": "704e7c73ec0c"
   },
   "source": [
    "#@bigquery\n",
    "CREATE OR REPLACE VIEW [your-dataset-id].splitting_struct_columns AS\n",
    " \n",
    "(SELECT date,line_items.product_id as product_id\n",
    "FROM [your-dataset-id].split_array_of_structs) \n",
    "\n",
    "#@大查询\n",
    "创建或替换视图[your-dataset-id].splitting_struct_columns AS\n",
    "\n",
    "（选择日期，line_items.product_id作为 product_id\n",
    "从[your-dataset-id].split_array_of_structs中）"
   ]
  },
  {
   "cell_type": "code",
   "execution_count": null,
   "metadata": {
    "id": "2UamlX9Np94F"
   },
   "outputs": [],
   "source": [
    "query = \"\"\"\n",
    "CREATE OR REPLACE VIEW {dataset_id}.splitting_struct_columns AS\n",
    " \n",
    "(SELECT date,line_items.product_id as product_id\n",
    "FROM {dataset_id}.split_array_of_structs)\n",
    "\"\"\".format(\n",
    "    dataset_id=dataset_id\n",
    ")\n",
    "query_job = client.query(query)\n",
    "print(query_job.result())"
   ]
  },
  {
   "cell_type": "markdown",
   "metadata": {
    "id": "4f9d72c483e8"
   },
   "source": [
    "查看数据。"
   ]
  },
  {
   "cell_type": "markdown",
   "metadata": {
    "id": "6103f7ff48ff"
   },
   "source": [
    "#@bigquery\n",
    "SELECT * FROM [your-dataset-id].splitting_struct_columns"
   ]
  },
  {
   "cell_type": "code",
   "execution_count": null,
   "metadata": {
    "id": "Bnv0lr4-p94G"
   },
   "outputs": [],
   "source": [
    "query = \"\"\"\n",
    "SELECT * FROM {dataset_id}.splitting_struct_columns \n",
    "\"\"\".format(\n",
    "    dataset_id=dataset_id\n",
    ")\n",
    "query_job = client.query(query)\n",
    "\n",
    "query_job.to_dataframe()"
   ]
  },
  {
   "cell_type": "markdown",
   "metadata": {
    "id": "7c0c4245acb7"
   },
   "source": [
    "统计每天产品的销售量。"
   ]
  },
  {
   "cell_type": "markdown",
   "metadata": {
    "id": "368f75a291d1"
   },
   "source": [
    "#@bigquery\n",
    "CREATE OR REPLACE VIEW [your-dataset-id].sales_count_per_date AS\n",
    " \n",
    "(SELECT date,product_id,COUNT(*) as sales_count\n",
    "FROM [your-dataset-id].splitting_struct_columns GROUP BY date,product_id) \n",
    "\n",
    "将上述英文文本翻译成中文：\n",
    "#@bigquery\n",
    "创建或替换视图[your-dataset-id]。sales_count_per_date AS\n",
    " \n",
    "（选择日期，产品ID， COUNT(*) 作为销售量\n",
    "从[your-dataset-id].splitting_struct_columns 中 GROUP BY 日期，产品ID）"
   ]
  },
  {
   "cell_type": "code",
   "execution_count": null,
   "metadata": {
    "id": "MBeBKffvp94G"
   },
   "outputs": [],
   "source": [
    "query = \"\"\"\n",
    "CREATE OR REPLACE VIEW {dataset_id}.sales_count_per_date AS\n",
    " \n",
    "(SELECT date,product_id,COUNT(*) as sales_count\n",
    "FROM {dataset_id}.splitting_struct_columns GROUP BY date,product_id)\n",
    "\"\"\".format(\n",
    "    dataset_id=dataset_id\n",
    ")\n",
    "query_job = client.query(query)\n",
    "print(query_job.result())"
   ]
  },
  {
   "cell_type": "markdown",
   "metadata": {
    "id": "7291d3970a2c"
   },
   "source": [
    "#@bigquery\n",
    "从[your-dataset-id].sales_count_per_date中选择*"
   ]
  },
  {
   "cell_type": "code",
   "execution_count": null,
   "metadata": {
    "id": "oN-5H8w3p94H"
   },
   "outputs": [],
   "source": [
    "query = \"\"\"\n",
    "SELECT * FROM {dataset_id}.sales_count_per_date\n",
    "\"\"\".format(\n",
    "    dataset_id=dataset_id\n",
    ")\n",
    "query_job = client.query(query)\n",
    "\n",
    "query_job.to_dataframe()"
   ]
  },
  {
   "cell_type": "markdown",
   "metadata": {
    "id": "722fd013c28c"
   },
   "source": [
    "为在整个日期范围内销售数量最多的五种产品创建视图。"
   ]
  },
  {
   "cell_type": "markdown",
   "metadata": {
    "id": "97db6ee61087"
   },
   "source": [
    "#@bigquery\n",
    "CREATE OR REPLACE VIEW [your-dataset-id].top_five_products AS (\n",
    "    WITH topsellingitems AS(\n",
    "         SELECT \n",
    "            product_id,\n",
    "            sum(sales_count) sum_sales\n",
    "        FROM\n",
    "            `[your-dataset-id].sales_count_per_date` \n",
    "        GROUP BY \n",
    "            product_id\n",
    "        ORDER BY sum_sales DESC\n",
    "        LIMIT 5 #Top N\n",
    "    )\n",
    "    SELECT \n",
    "        date,\n",
    "        product_id,\n",
    "        sales_count\n",
    "    FROM\n",
    "        `[your-dataset-id].sales_count_per_date` \n",
    "    WHERE\n",
    "        product_id IN (SELECT product_id FROM topsellingitems)\n",
    "    )"
   ]
  },
  {
   "cell_type": "code",
   "execution_count": null,
   "metadata": {
    "id": "KgRwHUjrp94H"
   },
   "outputs": [],
   "source": [
    "query = \"\"\"\n",
    "CREATE OR REPLACE VIEW {dataset_id}.top_five_products AS (\n",
    "    WITH topsellingitems AS(\n",
    "         SELECT \n",
    "            product_id,\n",
    "            sum(sales_count) sum_sales\n",
    "        FROM\n",
    "            `{dataset_id}.sales_count_per_date` \n",
    "        GROUP BY \n",
    "            product_id\n",
    "        ORDER BY sum_sales DESC\n",
    "        LIMIT 5 #Top N\n",
    "    )\n",
    "    SELECT \n",
    "        date,\n",
    "        product_id,\n",
    "        sales_count\n",
    "    FROM\n",
    "        `{dataset_id}.sales_count_per_date` \n",
    "    WHERE\n",
    "        product_id IN (SELECT product_id FROM topsellingitems)\n",
    "    )\n",
    "\"\"\".format(\n",
    "    dataset_id=dataset_id\n",
    ")\n",
    "query_job = client.query(query)\n",
    "print(query_job.result())"
   ]
  },
  {
   "cell_type": "markdown",
   "metadata": {
    "id": "182ce3346563"
   },
   "source": [
    "#@bigquery\n",
    "SELECT * FROM [你的数据集ID].top_five_products"
   ]
  },
  {
   "cell_type": "code",
   "execution_count": null,
   "metadata": {
    "id": "BXochSk_p94I"
   },
   "outputs": [],
   "source": [
    "query = \"\"\"\n",
    "SELECT * FROM {dataset_id}.top_five_products\n",
    "\"\"\".format(\n",
    "    dataset_id=dataset_id\n",
    ")\n",
    "query_job = client.query(query)\n",
    "\n",
    "query_job.to_dataframe()"
   ]
  },
  {
   "cell_type": "markdown",
   "metadata": {
    "id": "292855967806"
   },
   "source": [
    "将数据加载到数据框中并查看数据。"
   ]
  },
  {
   "cell_type": "code",
   "execution_count": null,
   "metadata": {
    "id": "495c76e598a6"
   },
   "outputs": [],
   "source": [
    "df = query_job.to_dataframe()\n",
    "print(df)"
   ]
  },
  {
   "cell_type": "markdown",
   "metadata": {
    "id": "5c78641e2881"
   },
   "source": [
    "检查你的数据框中的字段数据类型。"
   ]
  },
  {
   "cell_type": "code",
   "execution_count": null,
   "metadata": {
    "id": "bb63bbdcead4"
   },
   "outputs": [],
   "source": [
    "df.dtypes"
   ]
  },
  {
   "cell_type": "markdown",
   "metadata": {
    "id": "ef761dcd0109"
   },
   "source": [
    "将`date`字段的数据类型转换为`datetime`。"
   ]
  },
  {
   "cell_type": "code",
   "execution_count": null,
   "metadata": {
    "id": "0534d564d09e"
   },
   "outputs": [],
   "source": [
    "df[\"date\"] = pd.to_datetime(df[\"date\"], format=\"%Y-%m-%d\")"
   ]
  },
  {
   "cell_type": "markdown",
   "metadata": {
    "id": "8ec5fa4b1ea0"
   },
   "source": [
    "对于这个预测模型，每个产品的所有日期都需要有日期值。\n",
    "\n",
    "为了构建一个数据帧，对于产品没有销售的日期应该用 `0` 值填充 `sales_count` 字段，确定最小和最大日期，以便知道哪些日期需要 `0` 值。\n",
    "\n",
    "**首先，获取最早的（最小）日期。**"
   ]
  },
  {
   "cell_type": "markdown",
   "metadata": {
    "id": "dd6423ef739f"
   },
   "source": [
    "#@bigquery\n",
    "SELECT MIN(DATE) FROM [your-dataset-id].top_five_products"
   ]
  },
  {
   "cell_type": "code",
   "execution_count": null,
   "metadata": {
    "id": "iCCEozWrp94K"
   },
   "outputs": [],
   "source": [
    "query = \"\"\"\n",
    "SELECT MIN(DATE) AS min_date FROM {dataset_id}.top_five_products\n",
    "\"\"\".format(\n",
    "    dataset_id=dataset_id\n",
    ")\n",
    "query_job = client.query(query)\n",
    "\n",
    "query_job.to_dataframe()"
   ]
  },
  {
   "cell_type": "markdown",
   "metadata": {
    "id": "fbb934199011"
   },
   "source": [
    "获取最新的（最大的）日期。"
   ]
  },
  {
   "cell_type": "markdown",
   "metadata": {
    "id": "6e09f3221d77"
   },
   "source": [
    "#@bigquery\n",
    "SELECT MAX(DATE) FROM [your-dataset-id].top_five_products\n",
    "\n",
    "中文翻译：#@bigquery\n",
    "SELECT MAX(DATE) FROM [your-dataset-id].top_five_products"
   ]
  },
  {
   "cell_type": "code",
   "execution_count": null,
   "metadata": {
    "id": "uIJX3B8dp94K"
   },
   "outputs": [],
   "source": [
    "query = \"\"\"\n",
    "SELECT MAX(DATE) FROM {dataset_id}.top_five_products\n",
    "\"\"\".format(\n",
    "    dataset_id=dataset_id\n",
    ")\n",
    "query_job = client.query(query)\n",
    "\n",
    "query_job.to_dataframe()"
   ]
  },
  {
   "cell_type": "markdown",
   "metadata": {
    "id": "247a08d866ef"
   },
   "source": [
    "将完整的日期范围值添加到数据帧中。"
   ]
  },
  {
   "cell_type": "code",
   "execution_count": null,
   "metadata": {
    "id": "d41c099464ac"
   },
   "outputs": [],
   "source": [
    "dates = pd.date_range(start=\"2016-12-17\", end=\"2021-10-06\").to_frame()"
   ]
  },
  {
   "cell_type": "markdown",
   "metadata": {
    "id": "b9d3afc9f7cd"
   },
   "source": [
    "获取`dates`数据框的描述。"
   ]
  },
  {
   "cell_type": "code",
   "execution_count": null,
   "metadata": {
    "id": "1b1f67e375fc"
   },
   "outputs": [],
   "source": [
    "dates.info()"
   ]
  },
  {
   "cell_type": "markdown",
   "metadata": {
    "id": "49eb81d44b65"
   },
   "source": [
    "查看其中一个产品的数据，按日期排序，以显示数据集中许多日期并不存在。"
   ]
  },
  {
   "cell_type": "code",
   "execution_count": null,
   "metadata": {
    "id": "7194f59c71b5"
   },
   "outputs": [],
   "source": [
    "df.loc[df[\"product_id\"] == 20552].sort_values(by=[\"date\"])"
   ]
  },
  {
   "cell_type": "markdown",
   "metadata": {
    "id": "326f4f48f5cc"
   },
   "source": [
    "要创建一个数据框，其中每个产品都没有缺失日期，请将五个产品的数据与`dates`数据框合并。\n",
    "\n",
    "从`product_id` `20552`开始。"
   ]
  },
  {
   "cell_type": "code",
   "execution_count": null,
   "metadata": {
    "id": "a0b443c8d160"
   },
   "outputs": [],
   "source": [
    "df1 = (\n",
    "    pd.merge(\n",
    "        df.loc[df[\"product_id\"] == 20552],\n",
    "        dates,\n",
    "        left_on=\"date\",\n",
    "        right_on=0,\n",
    "        how=\"outer\",\n",
    "    )\n",
    "    .sort_values(by=[\"date\"])\n",
    "    .drop(columns=0)\n",
    ")  # merging dates dataframe with product_id matching rows\n",
    "df1[\"product_id\"] = 20552  # product_id will be null so making it the specified values\n",
    "df1.reset_index(inplace=True, drop=True)  # making index to start from 0\n",
    "df1 = df1.fillna(0)  # for sales_count making null values as 0\n",
    "df1[\"sales_count\"] = df1[\"sales_count\"].astype(\n",
    "    \"int\"\n",
    ")  # convert sales_count column to integer\n",
    "print(\"data after converting for a product with product_id 20552\")\n",
    "print(df1)\n",
    "\n",
    "df2 = (\n",
    "    pd.merge(\n",
    "        df.loc[df[\"product_id\"] == 13596],\n",
    "        dates,\n",
    "        left_on=\"date\",\n",
    "        right_on=0,\n",
    "        how=\"outer\",\n",
    "    )\n",
    "    .sort_values(by=[\"date\"])\n",
    "    .drop(columns=0)\n",
    ")  # merging dates dataframe with product_id matching rows\n",
    "df2[\"product_id\"] = 13596  # product_id will be null so making it the specified values\n",
    "df2.reset_index(inplace=True, drop=True)  # making index to start from 0\n",
    "df2 = df2.fillna(0)  # for sales_count making null values as 0\n",
    "df2[\"sales_count\"] = df2[\"sales_count\"].astype(\n",
    "    \"int\"\n",
    ")  # convert sales_count column to integer\n",
    "print(df2)\n",
    "\n",
    "df3 = (\n",
    "    pd.merge(\n",
    "        df.loc[df[\"product_id\"] == 23641],\n",
    "        dates,\n",
    "        left_on=\"date\",\n",
    "        right_on=0,\n",
    "        how=\"outer\",\n",
    "    )\n",
    "    .sort_values(by=[\"date\"])\n",
    "    .drop(columns=0)\n",
    ")  # merging dates dataframe with product_id matching rows\n",
    "df3[\"product_id\"] = 23641  # product_id will be null so making it the specified values\n",
    "df3.reset_index(inplace=True, drop=True)  # making index to start from 0\n",
    "df3 = df3.fillna(0)  # for sales_count making null values as 0\n",
    "df3[\"sales_count\"] = df3[\"sales_count\"].astype(\n",
    "    \"int\"\n",
    ")  # convert sales_count column to integer\n",
    "print(df3)\n",
    "\n",
    "df4 = (\n",
    "    pd.merge(\n",
    "        df.loc[df[\"product_id\"] == 28305],\n",
    "        dates,\n",
    "        left_on=\"date\",\n",
    "        right_on=0,\n",
    "        how=\"outer\",\n",
    "    )\n",
    "    .sort_values(by=[\"date\"])\n",
    "    .drop(columns=0)\n",
    ")  # merging dates dataframe with product_id matching rows\n",
    "df4[\"product_id\"] = 28305  # product_id will be null so making it the specified values\n",
    "df4.reset_index(inplace=True, drop=True)  # making index to start from 0\n",
    "df4 = df4.fillna(0)  # for sales_count making null values as 0\n",
    "df4[\"sales_count\"] = df4[\"sales_count\"].astype(\n",
    "    \"int\"\n",
    ")  # convert sales_count column to integer\n",
    "print(df4)\n",
    "\n",
    "df5 = (\n",
    "    pd.merge(\n",
    "        df.loc[df[\"product_id\"] == 20547],\n",
    "        dates,\n",
    "        left_on=\"date\",\n",
    "        right_on=0,\n",
    "        how=\"outer\",\n",
    "    )\n",
    "    .sort_values(by=[\"date\"])\n",
    "    .drop(columns=0)\n",
    ")  # merging dates dataframe with product_id matching rows\n",
    "df5[\"product_id\"] = 20547  # product_id will be null so making it the specified values\n",
    "df5.reset_index(inplace=True, drop=True)  # making index to start from 0\n",
    "df5 = df5.fillna(0)  # for sales_count making null values as 0\n",
    "df5[\"sales_count\"] = df5[\"sales_count\"].astype(\n",
    "    \"int\"\n",
    ")  # convert sales_count column to integer\n",
    "print(df5)"
   ]
  },
  {
   "cell_type": "markdown",
   "metadata": {
    "id": "6a2d033b733e"
   },
   "source": [
    "将所有五个数据框合并成一个新的数据框。"
   ]
  },
  {
   "cell_type": "code",
   "execution_count": null,
   "metadata": {
    "id": "bf570c0c6913"
   },
   "outputs": [],
   "source": [
    "pdList = [df1, df2, df3, df4, df5]  # List of your dataframes\n",
    "new_df = pd.concat(pdList)\n",
    "new_df"
   ]
  },
  {
   "cell_type": "markdown",
   "metadata": {
    "id": "4a75fa1dc8dc"
   },
   "source": [
    "重置数据帧的索引。"
   ]
  },
  {
   "cell_type": "code",
   "execution_count": null,
   "metadata": {
    "id": "7d258952fc71"
   },
   "outputs": [],
   "source": [
    "new_df.reset_index(inplace=True, drop=True)\n",
    "print(new_df)"
   ]
  },
  {
   "cell_type": "markdown",
   "metadata": {
    "id": "97e1289b2106"
   },
   "source": [
    "查看五个产品ID。"
   ]
  },
  {
   "cell_type": "markdown",
   "metadata": {
    "id": "5891c2082a4b"
   },
   "source": [
    "#@bigquery\n",
    "SELECT DISTINCT product_id from [your-dataset-id].top_five_products\n",
    "\n",
    "查询唯一的product_id从[你的数据集编号].top_five_products"
   ]
  },
  {
   "cell_type": "code",
   "execution_count": null,
   "metadata": {
    "id": "5Gjad6uSp94O"
   },
   "outputs": [],
   "source": [
    "query = \"\"\"\n",
    "SELECT DISTINCT product_id from {dataset_id}.top_five_products\n",
    "\"\"\".format(\n",
    "    dataset_id=dataset_id\n",
    ")\n",
    "query_job = client.query(query)"
   ]
  },
  {
   "cell_type": "code",
   "execution_count": null,
   "metadata": {
    "id": "MUynE3dnp94O"
   },
   "outputs": [],
   "source": [
    "query_job.to_dataframe()"
   ]
  },
  {
   "cell_type": "markdown",
   "metadata": {
    "id": "aa06b0e893cb"
   },
   "source": [
    "在产品销售数量随时间变化的图表中绘制“销售数量”。"
   ]
  },
  {
   "cell_type": "code",
   "execution_count": null,
   "metadata": {
    "id": "9cdce0080aa1"
   },
   "outputs": [],
   "source": [
    "plt.plot(\n",
    "    new_df.loc[new_df[\"product_id\"] == 20552][\"date\"],\n",
    "    new_df.loc[new_df[\"product_id\"] == 20552][\"sales_count\"],\n",
    ")\n",
    "plt.xticks(rotation=\"vertical\")"
   ]
  },
  {
   "cell_type": "code",
   "execution_count": null,
   "metadata": {
    "id": "6fef99223f63"
   },
   "outputs": [],
   "source": [
    "plt.plot(\n",
    "    new_df.loc[new_df[\"product_id\"] == 20547][\"date\"],\n",
    "    new_df.loc[new_df[\"product_id\"] == 20547][\"sales_count\"],\n",
    ")\n",
    "plt.xticks(rotation=\"vertical\")"
   ]
  },
  {
   "cell_type": "code",
   "execution_count": null,
   "metadata": {
    "id": "d281151b0e2a"
   },
   "outputs": [],
   "source": [
    "plt.plot(\n",
    "    new_df.loc[new_df[\"product_id\"] == 28305][\"date\"],\n",
    "    new_df.loc[new_df[\"product_id\"] == 28305][\"sales_count\"],\n",
    ")\n",
    "plt.xticks(rotation=\"vertical\")"
   ]
  },
  {
   "cell_type": "code",
   "execution_count": null,
   "metadata": {
    "id": "a50eeeeaedb0"
   },
   "outputs": [],
   "source": [
    "plt.plot(\n",
    "    new_df.loc[new_df[\"product_id\"] == 23641][\"date\"],\n",
    "    new_df.loc[new_df[\"product_id\"] == 23641][\"sales_count\"],\n",
    ")\n",
    "plt.xticks(rotation=\"vertical\")"
   ]
  },
  {
   "cell_type": "code",
   "execution_count": null,
   "metadata": {
    "id": "4d002f0717ee"
   },
   "outputs": [],
   "source": [
    "plt.plot(\n",
    "    new_df.loc[new_df[\"product_id\"] == 13596][\"date\"],\n",
    "    new_df.loc[new_df[\"product_id\"] == 13596][\"sales_count\"],\n",
    ")\n",
    "plt.xticks(rotation=\"vertical\")"
   ]
  },
  {
   "cell_type": "markdown",
   "metadata": {
    "id": "755a811fbad5"
   },
   "source": [
    "列出 `new_df` 数据框的数据类型。"
   ]
  },
  {
   "cell_type": "code",
   "execution_count": null,
   "metadata": {
    "id": "220ec814875c"
   },
   "outputs": [],
   "source": [
    "new_df.dtypes"
   ]
  },
  {
   "cell_type": "markdown",
   "metadata": {
    "id": "ff06b56ffa7a"
   },
   "source": [
    "将`new_df`数据框创建为一个新的BigQuery表。"
   ]
  },
  {
   "cell_type": "code",
   "execution_count": null,
   "metadata": {
    "id": "2d303f1cfd90"
   },
   "outputs": [],
   "source": [
    "job_config = bigquery.LoadJobConfig(\n",
    "    # Specify a (partial) schema. All columns are always written to the\n",
    "    # table. The schema is used to assist in data type definitions.\n",
    "    schema=[\n",
    "        bigquery.SchemaField(\"product_id\", bigquery.enums.SqlTypeNames.INTEGER),\n",
    "        bigquery.SchemaField(\"date\", bigquery.enums.SqlTypeNames.DATE),\n",
    "        bigquery.SchemaField(\"sales_count\", bigquery.enums.SqlTypeNames.INTEGER),\n",
    "    ],\n",
    "    # Optionally, set the write disposition. BigQuery appends loaded rows\n",
    "    # to an existing table by default, but with WRITE_TRUNCATE write\n",
    "    # disposition it replaces the table with the loaded data.\n",
    "    write_disposition=\"WRITE_TRUNCATE\",\n",
    ")\n",
    "\n",
    "# save the dataframe to a table in the created dataset\n",
    "job = client.load_table_from_dataframe(\n",
    "    new_df,\n",
    "    \"{}.{}.{}\".format(PROJECT_ID, dataset_id, SALES_TABLE),\n",
    "    job_config=job_config,\n",
    ")  # Make an API request.\n",
    "job.result()  # Wait for the job to complete."
   ]
  },
  {
   "cell_type": "markdown",
   "metadata": {
    "id": "c2e0e9aa67cd"
   },
   "source": [
    "通过设置日期范围来创建一个训练数据集，限制所使用的数据。"
   ]
  },
  {
   "cell_type": "code",
   "execution_count": null,
   "metadata": {
    "id": "e1fffed34704"
   },
   "outputs": [],
   "source": [
    "# select the date-range and item-id(top 5) for training-data and create a table for the same\n",
    "TRAININGDATA_STARTDATE = \"2016-12-17\"\n",
    "TRAININGDATA_ENDDATE = \"2021-6-01\"\n",
    "query = \"\"\"\n",
    "CREATE OR REPLACE TABLE {PROJECT_ID}.{DATASET}.training_data AS (\n",
    "    SELECT\n",
    "        *\n",
    "    FROM\n",
    "        `{DATASET}.{SALES_TABLE}`\n",
    "    WHERE\n",
    "        date BETWEEN '{STARTDATE}' AND '{ENDDATE}'\n",
    "        );\n",
    "\"\"\".format(\n",
    "    STARTDATE=TRAININGDATA_STARTDATE,\n",
    "    ENDDATE=TRAININGDATA_ENDDATE,\n",
    "    DATASET=dataset_id,\n",
    "    SALES_TABLE=SALES_TABLE,\n",
    "    PROJECT_ID=PROJECT_ID,\n",
    ")\n",
    "# execute the query (as it is a create query, there won't be any tabular output)\n",
    "query_job = client.query(query)\n",
    "print(query_job.result())"
   ]
  },
  {
   "cell_type": "markdown",
   "metadata": {
    "id": "2f7d9d2d4229"
   },
   "source": [
    "选择用于绘图的原始数据。"
   ]
  },
  {
   "cell_type": "code",
   "execution_count": null,
   "metadata": {
    "id": "1b82fc7c7bf6"
   },
   "outputs": [],
   "source": [
    "df_historical = new_df[\n",
    "    (new_df[\"date\"] >= pd.to_datetime(TRAININGDATA_STARTDATE))\n",
    "    & (new_df[\"date\"] <= pd.to_datetime(TRAININGDATA_ENDDATE))\n",
    "].copy()\n",
    "df_historical"
   ]
  },
  {
   "cell_type": "markdown",
   "metadata": {
    "id": "c25b75dc957a"
   },
   "source": [
    "使用BigQuery和ARIMA模型进行建模\n",
    "\n",
    "**使用训练数据创建一个ARIMA模型。**"
   ]
  },
  {
   "cell_type": "markdown",
   "metadata": {
    "id": "69ac23f216a4"
   },
   "source": [
    "#@bigquery\n",
    "CREATE OR REPLACE MODEL [your-dataset-id].arima_model\n",
    "\n",
    "OPTIONS(\n",
    "  MODEL_TYPE='ARIMA',\n",
    "  TIME_SERIES_TIMESTAMP_COL='日期', \n",
    "  TIME_SERIES_DATA_COL='销售数量',\n",
    "  TIME_SERIES_ID_COL='产品编号',\n",
    "  HOLIDAY_REGION='美国'\n",
    "    \n",
    ") AS\n",
    "\n",
    "SELECT \n",
    "    日期,\n",
    "    产品编号,\n",
    "    销售数量\n",
    "FROM\n",
    "  [your-dataset-id].training_data"
   ]
  },
  {
   "cell_type": "markdown",
   "metadata": {
    "id": "c45e18a773ad"
   },
   "source": [
    "训练ARIMA模型。"
   ]
  },
  {
   "cell_type": "code",
   "execution_count": null,
   "metadata": {
    "id": "00638d9f7e55"
   },
   "outputs": [],
   "source": [
    "# Train an ARIMA model on the created dataset\n",
    "query = \"\"\"\n",
    "CREATE OR REPLACE MODEL `{PROJECT_ID}.{DATASET}.arima_model`\n",
    "\n",
    "OPTIONS(\n",
    "  MODEL_TYPE='ARIMA',\n",
    "  TIME_SERIES_TIMESTAMP_COL='date',\n",
    "  TIME_SERIES_DATA_COL='sales_count',\n",
    "  TIME_SERIES_ID_COL='product_id') AS\n",
    "\n",
    "SELECT\n",
    "    date,\n",
    "    product_id,\n",
    "    sales_count\n",
    "FROM\n",
    "  `{DATASET}.training_data`\n",
    "\"\"\".format(\n",
    "    PROJECT_ID=PROJECT_ID, DATASET=dataset_id\n",
    ")\n",
    "# execute the query\n",
    "job = client.query(query)\n",
    "job.result()"
   ]
  },
  {
   "cell_type": "markdown",
   "metadata": {
    "id": "a02551627598"
   },
   "source": [
    "评估模型\n",
    "\n",
    "要评估已训练的模型，请在最后一天的训练数据之后的90天获取预测。在BigQuery ML中，使用`HORIZON`参数提供预测天数。使用`CONFIDENCE_LEVEL`参数指定预测的置信区间。"
   ]
  },
  {
   "cell_type": "markdown",
   "metadata": {
    "id": "87ef4ba64a3a"
   },
   "source": [
    "#@bigquery dfforecast \n",
    "\n",
    "DECLARE HORIZON STRING DEFAULT \"90\";\n",
    "DECLARE CONFIDENCE_LEVEL STRING DEFAULT \"0.90\";\n",
    "\n",
    "EXECUTE IMMEDIATE format('''\n",
    "    SELECT\n",
    "      *\n",
    "    FROM\n",
    "      ML.FORECAST(MODEL [your-dataset-id].arima_model,\n",
    "                  STRUCT(%s AS horizon,\n",
    "                         %s AS confidence_level)\n",
    "                 )\n",
    "    ''',HORIZON,CONFIDENCE_LEVEL) \n",
    "\n",
    "请将上述英文文本翻译成中文。"
   ]
  },
  {
   "cell_type": "markdown",
   "metadata": {
    "id": "801528e3e2c7"
   },
   "source": [
    "将数据加载到名为`dfforecast`的数据框中。"
   ]
  },
  {
   "cell_type": "code",
   "execution_count": null,
   "metadata": {
    "id": "f1277e846d10"
   },
   "outputs": [],
   "source": [
    "query = '''DECLARE HORIZON STRING DEFAULT \"90\"; #number of values to forecast\n",
    "DECLARE CONFIDENCE_LEVEL STRING DEFAULT \"0.90\"; ## required confidence level\n",
    "\n",
    "EXECUTE IMMEDIATE format(\"\"\"\n",
    "    SELECT\n",
    "      *\n",
    "    FROM\n",
    "      ML.FORECAST(MODEL {dataset_id}.arima_model,\n",
    "                  STRUCT(%s AS horizon,\n",
    "                         %s AS confidence_level)\n",
    "                 )\n",
    "    \"\"\",HORIZON,CONFIDENCE_LEVEL)'''.format(\n",
    "    dataset_id=dataset_id\n",
    ")\n",
    "job = client.query(query)\n",
    "dfforecast = job.to_dataframe()"
   ]
  },
  {
   "cell_type": "markdown",
   "metadata": {
    "id": "1e0549381849"
   },
   "source": [
    "查看前几行。"
   ]
  },
  {
   "cell_type": "code",
   "execution_count": null,
   "metadata": {
    "id": "83b07f243b72"
   },
   "outputs": [],
   "source": [
    "dfforecast.head()"
   ]
  },
  {
   "cell_type": "code",
   "execution_count": null,
   "metadata": {
    "id": "0e01aa3098f8"
   },
   "outputs": [],
   "source": [
    "print(f\"Number of rows: {dfforecast.shape[0]}\")"
   ]
  },
  {
   "cell_type": "markdown",
   "metadata": {
    "id": "6fa36b762a33"
   },
   "source": [
    "清理历史和预测值以进行绘图。"
   ]
  },
  {
   "cell_type": "code",
   "execution_count": null,
   "metadata": {
    "id": "073a2dd6a5d3"
   },
   "outputs": [],
   "source": [
    "df_historical.sort_values(by=[\"product_id\", \"date\"], inplace=True)\n",
    "dfforecast.sort_values(by=[\"product_id\", \"forecast_timestamp\"], inplace=True)\n",
    "\n",
    "# Select the actual data to plot against the forecasted data\n",
    "day_diff = (new_df[\"date\"] - pd.to_datetime(TRAININGDATA_ENDDATE)).dt.days\n",
    "df_actual_90d = new_df[new_df[\"product_id\"].isin(dfforecast[\"product_id\"].unique())][\n",
    "    (day_diff > 0) & (day_diff <= 90)\n",
    "].copy()\n",
    "df_actual_90d.shape"
   ]
  },
  {
   "cell_type": "markdown",
   "metadata": {
    "id": "d40a95ad0616"
   },
   "source": [
    "绘制历史和预测数据。"
   ]
  },
  {
   "cell_type": "code",
   "execution_count": null,
   "metadata": {
    "id": "c6845ad425d3"
   },
   "outputs": [],
   "source": [
    "def plot_hist_forecast(\n",
    "    historical, forecast, actual, hist_start=\"\", hist_end=\"\", title=\"\"\n",
    "):\n",
    "    if hist_start != \"\":\n",
    "        historical = historical[\n",
    "            historical[\"date\"] >= pd.to_datetime(hist_start, format=\"%Y-%m-%d\")\n",
    "        ].copy()\n",
    "    if hist_end != \"\":\n",
    "        historical = historical[\n",
    "            historical[\"date\"] <= pd.to_datetime(hist_end, format=\"%Y-%m-%d\")\n",
    "        ].copy()\n",
    "\n",
    "    plt.figure(figsize=(15, 4))\n",
    "    plt.plot(historical[\"date\"], historical[\"sales_count\"], label=\"historical\")\n",
    "    # Plot the forecast data\n",
    "    plt.plot(\n",
    "        forecast[\"forecast_timestamp\"],\n",
    "        forecast[\"forecast_value\"],\n",
    "        label=\"forecast\",\n",
    "        linestyle=\"--\",\n",
    "    )\n",
    "    # Plot the actual data\n",
    "    plt.plot(actual[\"date\"], actual[\"sales_count\"], label=\"actual\")\n",
    "    # plot the confidence interval\n",
    "    confidence_level = forecast[\"confidence_level\"].iloc[0] * 100\n",
    "    low_CI = forecast[\"confidence_interval_lower_bound\"]\n",
    "    upper_CI = forecast[\"confidence_interval_upper_bound\"]\n",
    "\n",
    "    # Shade the confidence interval\n",
    "    plt.fill_between(\n",
    "        forecast[\"forecast_timestamp\"],\n",
    "        low_CI,\n",
    "        upper_CI,\n",
    "        color=\"#539caf\",\n",
    "        alpha=0.4,\n",
    "        label=f\"{confidence_level} confidence interval\",\n",
    "    )\n",
    "    plt.legend()\n",
    "    plt.title(title)\n",
    "    plt.show()\n",
    "    return\n",
    "\n",
    "\n",
    "product_id_list = dfforecast[\"product_id\"].unique()\n",
    "for i in product_id_list:\n",
    "    print(\"Product_id : \", i)\n",
    "    plot_hist_forecast(\n",
    "        df_historical[df_historical[\"product_id\"] == i],\n",
    "        dfforecast[dfforecast[\"product_id\"] == i],\n",
    "        df_actual_90d[df_actual_90d[\"product_id\"] == i],\n",
    "        hist_start=\"2021-02-01\",\n",
    "        title=i,\n",
    "    )"
   ]
  },
  {
   "cell_type": "markdown",
   "metadata": {
    "id": "76b5f6fab0b8"
   },
   "source": [
    "大多数预测结果看起来还不错，您也可以看到实际范围落在模型建议的90%置信区间内。在内部，BigQuery ML执行许多计算昂贵的任务，即使考虑了季节性和假日信息。\n",
    "\n",
    "BigQuery ML的ARIMA模型学到的系数也可以通过查询模型中的<a href=\"https://cloud.google.com/bigquery-ml/docs/reference/standard-sql/bigqueryml-syntax-arima-coefficients\">ARIMA_COEFFICIENTS</a> 进行检查。"
   ]
  },
  {
   "cell_type": "markdown",
   "metadata": {
    "id": "934fb81f6ad1"
   },
   "source": [
    "#@bigquery\n",
    "选择\n",
    "  *\n",
    "从\n",
    "  ML.ARIMA_COEFFICIENTS(MODEL [your-dataset-id].arima_model)"
   ]
  },
  {
   "cell_type": "code",
   "execution_count": null,
   "metadata": {
    "id": "owAuWLkAp94U"
   },
   "outputs": [],
   "source": [
    "query = \"\"\"\n",
    "SELECT\n",
    "  *\n",
    "FROM \n",
    "  ML.ARIMA_COEFFICIENTS(MODEL {dataset_id}.arima_model)\n",
    "\"\"\".format(\n",
    "    dataset_id=dataset_id\n",
    ")\n",
    "query_job = client.query(query)"
   ]
  },
  {
   "cell_type": "code",
   "execution_count": null,
   "metadata": {
    "id": "l3xmi8bOp94U"
   },
   "outputs": [],
   "source": [
    "query_job.to_dataframe()"
   ]
  },
  {
   "cell_type": "markdown",
   "metadata": {
    "id": "f37aa9ddfb8f"
   },
   "source": [
    "在上述结果中，\n",
    "- <b>product_id</b>列代表我们在训练ARIMA模型时指定的索引列。\n",
    "- <b>ar_coefficients</b>列对应于ARIMA算法中的自回归系数（非季节性p）。\n",
    "- <b>ma_coefficients</b>指的是ARIMA算法中的移动平均系数（非季节性q）。\n",
    "- <b>intercept_or_drift</b>是ARIMA算法中的常数项。"
   ]
  },
  {
   "cell_type": "markdown",
   "metadata": {
    "id": "27bf1ef88ea7"
   },
   "source": [
    "使用BigQuery ML评估模型结果\n",
    "\n",
    "BigQuery ML 还提供了 <a href=\"https://cloud.google.com/bigquery-ml/docs/reference/standard-sql/bigqueryml-syntax-evaluate\">ML.EVALUATE</a> 函数，用于检查训练模型的评估指标。对于 ARIMA 模型，您可以查看模型在 `log_likelihood`, `AIC` 和 `variance` 上的评估情况。"
   ]
  },
  {
   "cell_type": "markdown",
   "metadata": {
    "id": "f4f0ef9b1a04"
   },
   "source": [
    "#@bigquery\n",
    "选择\n",
    "  *\n",
    "从\n",
    "  ML.评估(模型 [你的数据集id].arima_model)"
   ]
  },
  {
   "cell_type": "code",
   "execution_count": null,
   "metadata": {
    "id": "CtM-g5ixp94V"
   },
   "outputs": [],
   "source": [
    "query = \"\"\"\n",
    "SELECT\n",
    "  *\n",
    "FROM\n",
    "  ML.EVALUATE(MODEL {dataset_id}.arima_model)\n",
    "\"\"\".format(\n",
    "    dataset_id=dataset_id\n",
    ")\n",
    "query_job = client.query(query)"
   ]
  },
  {
   "cell_type": "code",
   "execution_count": null,
   "metadata": {
    "id": "JQwOWcgMp94V"
   },
   "outputs": [],
   "source": [
    "query_job.to_dataframe()"
   ]
  },
  {
   "cell_type": "markdown",
   "metadata": {
    "id": "3be6d3e1607e"
   },
   "source": [
    "## 评估模型结果 - MAE，MAPE，MSE，RMSE（在测试数据上）\n",
    "\n",
    "通常，要评估预测模型，您可以根据您想要评估的方式选择指标。首先，您可以从以下选项中选择：\n",
    "* <b>平均绝对误差（MAE）</b>：实际值和预测值之间的绝对差值的平均值。\n",
    "* <b>平均百分比误差（MAPE）</b>：实际值和预测值之间的绝对差值与实际值之间的百分比的平均值。\n",
    "* <b>均方误差（MSE）</b>：实际值和预测值之间的平方差值的平均值。\n",
    "* <b>均方根误差（RMSE）</b>：MSE的平方根。"
   ]
  },
  {
   "cell_type": "code",
   "execution_count": null,
   "metadata": {
    "id": "d78abc6aee46"
   },
   "outputs": [],
   "source": [
    "df_actual_90d.sort_values(by=[\"product_id\", \"date\"], inplace=True)\n",
    "df_actual_90d.reset_index(drop=True, inplace=True)\n",
    "dfforecast.sort_values(by=[\"product_id\", \"forecast_timestamp\"], inplace=True)\n",
    "dfforecast.reset_index(drop=True, inplace=True)"
   ]
  },
  {
   "cell_type": "code",
   "execution_count": null,
   "metadata": {
    "id": "132bb1acdd75"
   },
   "outputs": [],
   "source": [
    "errors = {\"product_id\": [], \"MAE\": [], \"MAPE\": [], \"MSE\": [], \"RMSE\": []}\n",
    "for i in product_id_list:\n",
    "    mae = mean_absolute_error(\n",
    "        df_actual_90d[df_actual_90d[\"product_id\"] == i][\"sales_count\"],\n",
    "        dfforecast[dfforecast[\"product_id\"] == i][\"forecast_value\"],\n",
    "    )\n",
    "    mape = mean_absolute_percentage_error(\n",
    "        df_actual_90d[df_actual_90d[\"product_id\"] == i][\"sales_count\"],\n",
    "        dfforecast[dfforecast[\"product_id\"] == i][\"forecast_value\"],\n",
    "    )\n",
    "\n",
    "    mse = mean_squared_error(\n",
    "        df_actual_90d[df_actual_90d[\"product_id\"] == i][\"sales_count\"],\n",
    "        dfforecast[dfforecast[\"product_id\"] == i][\"forecast_value\"],\n",
    "        squared=True,\n",
    "    )\n",
    "\n",
    "    rmse = mean_squared_error(\n",
    "        df_actual_90d[df_actual_90d[\"product_id\"] == i][\"sales_count\"],\n",
    "        dfforecast[dfforecast[\"product_id\"] == i][\"forecast_value\"],\n",
    "        squared=False,\n",
    "    )\n",
    "\n",
    "    errors[\"product_id\"].append(i)\n",
    "    errors[\"MAE\"].append(mae)\n",
    "    errors[\"MAPE\"].append(mape)\n",
    "    errors[\"MSE\"].append(mse)\n",
    "    errors[\"RMSE\"].append(rmse)\n",
    "errors = pd.DataFrame(errors)\n",
    "errors"
   ]
  },
  {
   "cell_type": "markdown",
   "metadata": {
    "id": "d84da670e5ae"
   },
   "source": [
    "从这些误差指标获得的数值来看，产品ID 20552的13,596的误差指标较高。请注意，这些误差指标是在测试期间所有个别预测的总和，因此反映了模型在选定时期内的整体表现。理想情况下，这些误差指标越低，模型的预测能力就越好。"
   ]
  },
  {
   "cell_type": "markdown",
   "metadata": {
    "id": "56105a7f9a46"
   },
   "source": [
    "## 托管实例中的执行器功能\n",
    "\n",
    "如果您正在使用托管实例，在笔记本上方的顶部工具栏中，点击**执行器**按钮。"
   ]
  },
  {
   "cell_type": "markdown",
   "metadata": {
    "id": "942c4866b758"
   },
   "source": [
    "<img src=\"images/navbar_exe.png\" ></img>的中文翻译是：<img src=\"images/navbar_exe.png\" ></img>"
   ]
  },
  {
   "cell_type": "markdown",
   "metadata": {
    "id": "31dba6ec2c0e"
   },
   "source": [
    "给执行命名。选择**云存储桶**，**机器类型**和**加速器类型**。对于**环境**，请选择**Python 3**。"
   ]
  },
  {
   "cell_type": "markdown",
   "metadata": {
    "id": "4a56743fe76f"
   },
   "source": [
    "<img src=\"images/exe_form.png\" style=\"width:500px\"></img>\n",
    "\n",
    "将上述英文文本翻译为中文：<img src=\"images/exe_form.png\" style=\"width:500px\"></img>"
   ]
  },
  {
   "cell_type": "markdown",
   "metadata": {
    "id": "af652028084a"
   },
   "source": [
    "<img src=\"images/python3_env_selection.png\" style=\"width:500px\"></img> 的中文翻译： <img src=\"images/python3_env_selection.png\" style=\"width:500px\"></img>"
   ]
  },
  {
   "cell_type": "markdown",
   "metadata": {
    "id": "0d37a2baf139"
   },
   "source": [
    "在“类型”菜单中，您可以选择基于日程安排的重复执行，如果您想要安排执行按照时间间隔运行，比如每小时一次。"
   ]
  },
  {
   "cell_type": "markdown",
   "metadata": {
    "id": "c1981e3e49db"
   },
   "source": [
    "<img src=\"images/schedule.png\" style=\"height:200px;\"></img> 的中文翻译是：<img src=\"images/schedule.png\" style=\"height:200px;\"></img>"
   ]
  },
  {
   "cell_type": "markdown",
   "metadata": {
    "id": "791a0bfc0cb9"
   },
   "source": [
    "您可以通过点击左侧边栏上的**笔记本执行者**按钮来查看您执行的历史记录。看起来像一个日历图标。"
   ]
  },
  {
   "cell_type": "markdown",
   "metadata": {
    "id": "e898ff47f952"
   },
   "source": [
    "<img src=\"images/side_nav.png\" style=\"height:500px;\"></img> 的中文翻译是：<img src=\"images/side_nav.png\" style=\"height:500px;\"></img>"
   ]
  },
  {
   "cell_type": "markdown",
   "metadata": {
    "id": "3eb4d9d73c57"
   },
   "source": [
    "您可以在 **Executions** 选项卡中看到执行历史。"
   ]
  },
  {
   "cell_type": "markdown",
   "metadata": {
    "id": "45447f8e1cc0"
   },
   "source": [
    "将上述英文文本翻译成中文：<img src=\"images/list_execution.png\" style=\"width:500px\"></img>"
   ]
  },
  {
   "cell_type": "markdown",
   "metadata": {
    "id": "cb08d55eaec1"
   },
   "source": [
    "您可以在“日程表”选项卡上查看您的活动日程。"
   ]
  },
  {
   "cell_type": "markdown",
   "metadata": {
    "id": "8c32707e57e4"
   },
   "source": [
    "<img src=\"images/list_schedule.png\" style=\"width:500px\"></img> 的中文翻译是：<img src=\"images/list_schedule.png\" style=\"width:500px\"></img>"
   ]
  },
  {
   "cell_type": "markdown",
   "metadata": {
    "id": "23ee85f65a0b"
   },
   "source": [
    "整理清理\n",
    "\n",
    "要清理此项目中使用的所有Google Cloud资源，您可以[删除用于本教程的Google Cloud项目](https://cloud.google.com/resource-manager/docs/creating-managing-projects#shutting_down_projects)。\n",
    "\n",
    "否则，您可以删除在本教程中创建的各个资源。以下代码将删除整个数据集。"
   ]
  },
  {
   "cell_type": "code",
   "execution_count": null,
   "metadata": {
    "id": "8b70ac0dc210"
   },
   "outputs": [],
   "source": [
    "# Set dataset variable to the ID of the dataset to fetch.\n",
    "dataset = f\"{PROJECT_ID}.{dataset_id}\"\n",
    "\n",
    "# Use the delete_contents parameter to delete a dataset and its contents.\n",
    "# Use the not_found_ok parameter to not receive an error if the dataset has already been deleted.\n",
    "client.delete_dataset(\n",
    "    dataset_id, delete_contents=True, not_found_ok=True\n",
    ")  # Make an API request.\n",
    "\n",
    "print(\"Deleted dataset '{}'.\".format(dataset_id))"
   ]
  }
 ],
 "metadata": {
  "colab": {
   "name": "forecasting-retail-demand.ipynb",
   "toc_visible": true
  },
  "kernelspec": {
   "display_name": "Python 3",
   "name": "python3"
  }
 },
 "nbformat": 4,
 "nbformat_minor": 0
}
