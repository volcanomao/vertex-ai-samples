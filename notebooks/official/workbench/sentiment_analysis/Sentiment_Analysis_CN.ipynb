{
 "cells": [
  {
   "cell_type": "code",
   "execution_count": null,
   "metadata": {
    "id": "18ebbd838e32"
   },
   "outputs": [],
   "source": [
    "# Copyright 2022 Google LLC\n",
    "#\n",
    "# Licensed under the Apache License, Version 2.0 (the \"License\");\n",
    "# you may not use this file except in compliance with the License.\n",
    "# You may obtain a copy of the License at\n",
    "#\n",
    "#     https://www.apache.org/licenses/LICENSE-2.0\n",
    "#\n",
    "# Unless required by applicable law or agreed to in writing, software\n",
    "# distributed under the License is distributed on an \"AS IS\" BASIS,\n",
    "# WITHOUT WARRANTIES OR CONDITIONS OF ANY KIND, either express or implied.\n",
    "# See the License for the specific language governing permissions and\n",
    "# limitations under the License."
   ]
  },
  {
   "cell_type": "markdown",
   "metadata": {
    "id": "87e8ba66a90f"
   },
   "source": [
    "# 使用AutoML自然语言和Vertex AI进行情感分析\n",
    "\n",
    "<table align=\"left\">\n",
    "\n",
    "  <td>\n",
    "    <a href=\"https://colab.research.google.com/github/GoogleCloudPlatform/vertex-ai-samples/blob/main/notebooks/official/workbench/sentiment_analysis/Sentiment_Analysis.ipynb\">\n",
    "      <img src=\"https://cloud.google.com/ml-engine/images/colab-logo-32px.png\" alt=\"Colab logo\"> 在 Colab 中运行\n",
    "    </a>\n",
    "  </td>\n",
    "  <td>\n",
    "    <a href=\"https://github.com/GoogleCloudPlatform/vertex-ai-samples/blob/main/notebooks/official/workbench/sentiment_analysis/Sentiment_Analysis.ipynb\">\n",
    "      <img src=\"https://cloud.google.com/ml-engine/images/github-logo-32px.png\" alt=\"GitHub logo\">\n",
    "      在 GitHub 上查看\n",
    "    </a>\n",
    "  </td>\n",
    "  <td>\n",
    "    <a href=\"https://console.cloud.google.com/vertex-ai/workbench/deploy-notebook?download_url=https://raw.githubusercontent.com/GoogleCloudPlatform/vertex-ai-samples/main/notebooks/official/workbench/sentiment_analysis/Sentiment_Analysis.ipynb\" target='_blank'>\n",
    "      <img src=\"https://lh3.googleusercontent.com/UiNooY4LUgW_oTvpsNhPpQzsstV5W8F7rYgxgGBD85cWJoLmrOzhVs_ksK_vgx40SHs7jCqkTkCk=e14-rj-sc0xffffff-h130-w32\" alt=\"Vertex AI logo\">\n",
    "      在 Vertex AI Workbench 中打开\n",
    "    </a>\n",
    "  </td>                                                                                               \n",
    "</table>"
   ]
  },
  {
   "cell_type": "markdown",
   "metadata": {
    "id": "fdbaf85c16a5"
   },
   "source": [
    "## 目录\n",
    "* [概述](#section-1)\n",
    "* [目标](#section-2)\n",
    "* [数据集](#section-3)\n",
    "* [成本](#section-4)\n",
    "* [加载数据](#section-5)\n",
    "* [准备训练数据](#section-6)\n",
    "* [在 Vertex AI 中创建数据集](#section-7)\n",
    "* [使用 Vertex AI 训练模型](#section-8)\n",
    "* [部署模型到终端](#section-9)\n",
    "* [预测](#section-10)\n",
    "* [查看可视化结果](#section-11)\n",
    "* [清理](#section-12)"
   ]
  },
  {
   "cell_type": "markdown",
   "metadata": {
    "id": "3b9e88b02478"
   },
   "source": [
    "## 概览\n",
    "<a name=\"section-1\"></a>\n",
    "\n",
    "本笔记本演示了如何使用AutoML自然语言在斯坦福电影评论数据集上执行情感分析，并如何部署情感分析模型到Vertex AI以获取预测结果。\n",
    "\n",
    "*注意：此笔记本文件是为在[Vertex AI工作台托管笔记本](https://console.cloud.google.com/vertex-ai/workbench/list/managed)实例上使用Python（本地）内核而开发的。此笔记本的一些组件可能无法在其他笔记本环境中运行。*\n",
    "\n",
    "了解更多关于[Vertex AI工作台](https://cloud.google.com/vertex-ai/docs/workbench/introduction)和[文本数据的情感分析](https://cloud.google.com/vertex-ai/docs/training-overview#sentiment_analysis_for_text)。"
   ]
  },
  {
   "cell_type": "markdown",
   "metadata": {
    "id": "95d6c7b51af4"
   },
   "source": [
    "### 目标\n",
    "在本教程中，您将学习如何训练和部署一个AutoML情感分析模型，并进行预测。\n",
    "\n",
    "本教程使用以下谷歌云ML服务：\n",
    "\n",
    "- `Vertex AI数据集`\n",
    "- `Vertex AI模型`\n",
    "- `AutoML训练`\n",
    "- `Vertex AI预测`\n",
    "\n",
    "执行的步骤包括：\n",
    "\n",
    "- 加载所需数据。\n",
    "- 预处理数据。\n",
    "- 为模型选择所需的数据。\n",
    "- 将数据集加载到Vertex AI托管数据集中。\n",
    "- 使用AutoML文本训练训练情感模型。\n",
    "- 评估模型。\n",
    "- 在Vertex AI上部署模型。\n",
    "- 获取预测结果。\n",
    "- 进行清理操作。"
   ]
  },
  {
   "cell_type": "markdown",
   "metadata": {
    "id": "3347ff71c571"
   },
   "source": [
    "### 数据集\n",
    "<a name=\"section-3\"></a>\n",
    "\n",
    "这个笔记本中使用的数据集是[斯坦福情感树库数据集](https://nlp.stanford.edu/sentiment/)的一部分，其中包含来自电影评论的短语和它们相应的情感分数。"
   ]
  },
  {
   "cell_type": "markdown",
   "metadata": {
    "id": "2855e681db83"
   },
   "source": [
    "### 成本\n",
    "<a name=\"section-4\"></a>\n",
    "\n",
    "本教程使用Google Cloud的以下可计费组件：\n",
    "\n",
    "- Vertex AI\n",
    "- Cloud Storage\n",
    "\n",
    "了解[Vertex AI的定价](https://cloud.google.com/vertex-ai/pricing)和[Cloud Storage的定价](https://cloud.google.com/storage/pricing)，并使用[Pricing Calculator](https://cloud.google.com/products/calculator/)根据您的预期使用情况生成成本估算。"
   ]
  },
  {
   "cell_type": "code",
   "execution_count": null,
   "metadata": {
    "id": "eda7d4721c1e"
   },
   "outputs": [],
   "source": [
    "! pip3 install --upgrade --quiet wordcloud \n",
    "\n",
    "! pip3 install --upgrade --quiet google-cloud-aiplatform \\\n",
    "                                 fsspec \\\n",
    "                                 gcsfs "
   ]
  },
  {
   "cell_type": "markdown",
   "metadata": {
    "id": "58707a750154"
   },
   "source": [
    "### 仅限Colab使用：取消注释以下单元格以重新启动内核。"
   ]
  },
  {
   "cell_type": "code",
   "execution_count": null,
   "metadata": {
    "id": "f200f10a1da3"
   },
   "outputs": [],
   "source": [
    "# Automatically restart kernel after installs so that your environment can access the new packages\n",
    "# import IPython\n",
    "\n",
    "# app = IPython.Application.instance()\n",
    "# app.kernel.do_shutdown(True)"
   ]
  },
  {
   "cell_type": "markdown",
   "metadata": {
    "id": "BF1j6f9HApxa"
   },
   "source": [
    "## 开始之前\n",
    "\n",
    "### 设置您的谷歌云项目\n",
    "\n",
    "**无论您使用的是哪种笔记本环境，以下步骤都是必需的。**\n",
    "\n",
    "1. [选择或创建一个谷歌云项目](https://console.cloud.google.com/cloud-resource-manager)。当您第一次创建帐户时，您会获得$300的免费信用额度用于计算/存储成本。\n",
    "\n",
    "2. [确保为您的项目启用计费](https://cloud.google.com/billing/docs/how-to/modify-project)。\n",
    "\n",
    "3. [启用 Vertex AI API](https://console.cloud.google.com/flows/enableapi?apiid=aiplatform.googleapis.com)。\n",
    "\n",
    "4. 如果您在本地运行此笔记本，请安装[Cloud SDK](https://cloud.google.com/sdk)。"
   ]
  },
  {
   "cell_type": "markdown",
   "metadata": {
    "id": "WReHDGG5g0XY"
   },
   "source": [
    "设置您的项目ID\n",
    "\n",
    "**如果您不知道您的项目ID**，请尝试以下操作：\n",
    "* 运行 `gcloud config list`。\n",
    "* 运行 `gcloud projects list`。\n",
    "* 查看支持页面：[查找项目ID](https://support.google.com/googleapi/answer/7014113)"
   ]
  },
  {
   "cell_type": "code",
   "execution_count": null,
   "metadata": {
    "id": "oM1iC_MfAts1"
   },
   "outputs": [],
   "source": [
    "PROJECT_ID = \"[your-project-id]\"  # @param {type:\"string\"}\n",
    "\n",
    "# Set the project id\n",
    "! gcloud config set project {PROJECT_ID}"
   ]
  },
  {
   "cell_type": "markdown",
   "metadata": {
    "id": "region"
   },
   "source": [
    "#### 设置区域\n",
    "\n",
    "**可选**：更新'REGION'变量以指定您想使用的区域。了解更多关于[Vertex AI区域](https://cloud.google.com/vertex-ai/docs/general/locations)。"
   ]
  },
  {
   "cell_type": "code",
   "execution_count": null,
   "metadata": {
    "id": "nsN5NJKSu-GU"
   },
   "outputs": [],
   "source": [
    "REGION = \"us-central1\"  # @param {type: \"string\"}"
   ]
  },
  {
   "cell_type": "markdown",
   "metadata": {
    "id": "b32c908a390c"
   },
   "source": [
    "UUID\n",
    "\n",
    "如果您正在进行实时教程会话，您可能正在使用共享的测试账户或项目。为了避免在创建的资源上发生命名冲突，您为每个实例会话创建一个uuid，并将其附加到您在本教程中创建的资源名称上。"
   ]
  },
  {
   "cell_type": "code",
   "execution_count": null,
   "metadata": {
    "id": "d598bcdd2f4e"
   },
   "outputs": [],
   "source": [
    "import random\n",
    "import string\n",
    "\n",
    "\n",
    "# Generate a uuid of a specifed length(default=8)\n",
    "def generate_uuid(length: int = 8) -> str:\n",
    "    return \"\".join(random.choices(string.ascii_lowercase + string.digits, k=length))\n",
    "\n",
    "\n",
    "UUID = generate_uuid()"
   ]
  },
  {
   "cell_type": "markdown",
   "metadata": {
    "id": "sBCra4QMA2wR"
   },
   "source": [
    "### 验证您的谷歌云账户\n",
    "\n",
    "根据您的Jupyter环境，您可能需要手动进行身份验证。请按照以下相关说明进行操作。\n",
    "\n",
    "**1. Vertex AI Workbench**\n",
    "* 无需操作，因为您已经通过身份验证。\n",
    "\n",
    "**2. 本地JupyterLab实例，请取消注释并运行：**"
   ]
  },
  {
   "cell_type": "code",
   "execution_count": null,
   "metadata": {
    "id": "254614fa0c46"
   },
   "outputs": [],
   "source": [
    "# ! gcloud auth login"
   ]
  },
  {
   "cell_type": "markdown",
   "metadata": {
    "id": "ef21552ccea8"
   },
   "source": [
    "3. 协作，取消注释并运行:"
   ]
  },
  {
   "cell_type": "code",
   "execution_count": null,
   "metadata": {
    "id": "603adbbf0532"
   },
   "outputs": [],
   "source": [
    "# from google.colab import auth\n",
    "# auth.authenticate_user()"
   ]
  },
  {
   "cell_type": "markdown",
   "metadata": {
    "id": "f6b2ccc891ed"
   },
   "source": [
    "4. 服务账号或其他\n",
    "* 请查看如何向您的服务账号授予云存储权限，网址为https://cloud.google.com/storage/docs/gsutil/commands/iam#ch-examples。"
   ]
  },
  {
   "cell_type": "markdown",
   "metadata": {
    "id": "zgPO1eR3CYjk"
   },
   "source": [
    "创建一个云存储桶\n",
    "\n",
    "创建一个存储桶来存储中间产物，比如数据集。"
   ]
  },
  {
   "cell_type": "code",
   "execution_count": null,
   "metadata": {
    "id": "MzGDU7TWdts_"
   },
   "outputs": [],
   "source": [
    "BUCKET_URI = f\"gs://your-bucket-name-{PROJECT_ID}-unique\"  # @param {type:\"string\"}"
   ]
  },
  {
   "cell_type": "markdown",
   "metadata": {
    "id": "-EcIXiGsCePi"
   },
   "source": [
    "只有在您的存储桶尚不存在时才会创建：运行以下单元格来创建您的云存储存储桶。"
   ]
  },
  {
   "cell_type": "code",
   "execution_count": null,
   "metadata": {
    "id": "NIq7R4HZCfIc"
   },
   "outputs": [],
   "source": [
    "! gsutil mb -l {REGION} -p {PROJECT_ID} {BUCKET_URI}"
   ]
  },
  {
   "cell_type": "markdown",
   "metadata": {
    "id": "543fd0a71f4d"
   },
   "source": [
    "### 导入库"
   ]
  },
  {
   "cell_type": "code",
   "execution_count": null,
   "metadata": {
    "id": "5e0383e0444d"
   },
   "outputs": [],
   "source": [
    "import os\n",
    "from typing import List, Optional, Union\n",
    "\n",
    "import matplotlib.pyplot as plt\n",
    "import pandas as pd\n",
    "from google.cloud import aiplatform, storage\n",
    "from wordcloud import STOPWORDS, WordCloud"
   ]
  },
  {
   "cell_type": "markdown",
   "metadata": {
    "id": "5563f402e958"
   },
   "source": [
    "# 加载数据\n",
    "<a name=\"section-5\"></a>\n",
    "\n",
    "从云存储源加载数据集的短语和分数。"
   ]
  },
  {
   "cell_type": "code",
   "execution_count": null,
   "metadata": {
    "id": "e9bed419ca1b"
   },
   "outputs": [],
   "source": [
    "phrases = pd.read_csv(\n",
    "    \"gs://cloud-samples-data/vertex-ai/managed_notebooks/sentiment_analysis/stanford_sentiment_treebank/sentiment_phrases.txt\",\n",
    "    sep=\"|\",\n",
    ")\n",
    "phrases.columns = [\"text\", \"phrase ids\"]\n",
    "scores = pd.read_csv(\n",
    "    \"gs://cloud-samples-data/vertex-ai/managed_notebooks/sentiment_analysis/stanford_sentiment_treebank/sentiment_labels.txt\",\n",
    "    sep=\"|\",\n",
    ")\n",
    "df = phrases.merge(scores, how=\"left\", on=\"phrase ids\")\n",
    "print(df.head(5))"
   ]
  },
  {
   "cell_type": "code",
   "execution_count": null,
   "metadata": {
    "id": "d88a752930ac"
   },
   "outputs": [],
   "source": [
    "print(max(df[\"sentiment values\"]), min(df[\"sentiment values\"]))"
   ]
  },
  {
   "cell_type": "markdown",
   "metadata": {
    "id": "c83b75fb3279"
   },
   "source": [
    "数据本身不包含任何特征名称，因此需要重新命名其列。数据框**短语**包含所有短语及其ID，用`|`分隔，而**分数**包含所有短语ID和相应的情感评分，用`|`分隔。"
   ]
  },
  {
   "cell_type": "markdown",
   "metadata": {
    "id": "44443815a2fc"
   },
   "source": [
    "### 创建标签\n",
    "\n",
    "通过将标签分数映射到以下范围，将标签分为四个类别： \n",
    "\n",
    "[0， 0.25]， (0.25， 0.5]， (0.5， 0.75]， (0.75， 1.0]"
   ]
  },
  {
   "cell_type": "code",
   "execution_count": null,
   "metadata": {
    "id": "97bbb7218788"
   },
   "outputs": [],
   "source": [
    "# Define the class labels\n",
    "VERYNEGATIVE = 0\n",
    "NEGATIVE = 1\n",
    "POSITIVE = 2\n",
    "VERYPOSITIVE = 3"
   ]
  },
  {
   "cell_type": "code",
   "execution_count": null,
   "metadata": {
    "id": "e971f9f576cf"
   },
   "outputs": [],
   "source": [
    "bins = [0, 0.25, 0.5, 0.75, 1]\n",
    "labels = [VERYNEGATIVE, NEGATIVE, POSITIVE, VERYPOSITIVE]\n",
    "df[\"label\"] = pd.cut(df[\"sentiment values\"], bins=bins, labels=labels)\n",
    "print(df.head())"
   ]
  },
  {
   "cell_type": "markdown",
   "metadata": {
    "id": "87b38faf9a85"
   },
   "source": [
    "## 准备训练数据\n",
    "<a name=\"section-6\"></a>\n",
    "\n",
    "要使用AutoML自然语言训练情感分析模型，您需要提供带有表示情感变化的值标记的要训练内容的样本。\n",
    "\n",
    "情感标签被编码为整数，范围从0（相对负面）到您选择的最大值（正面）。例如，如果您想确定情感是负面的、正面的还是中性的，您可以使用情感分数为0（负面）、1（中性）和2（正面）来标记训练数据。如果您想要捕捉更多细微差别的情感等级，则可以将最负面的情感标记为0，并将最正面的情感标记为4。在这种情况下，数据集的最大情感分数（sentiment_max）将为4。"
   ]
  },
  {
   "cell_type": "markdown",
   "metadata": {
    "id": "edcf89a00954"
   },
   "source": [
    "对于训练，您选择一个由极端正面和负面样本组成的原始数据子集。在这里，情感的最大值为1。在**ml_use**列中，您提供实例属于TRAIN、VALIDATION或TEST样本，或让Vertex AI随机分配。\n",
    "\n",
    "CSV文件中的每一行或实例都指代单个文档。以下示例显示了有效CSV文件的一般格式：\n",
    "\n",
    "**[ml_use]**,**gcs_file_uri**|**\"inline_text\"**,**sentiment**,**sentimentMax**\n",
    "\n",
    "有关更多信息，请访问官方文档 [documentation](https://cloud.google.com/vertex-ai/docs/datasets/prepare-text#sentiment-analysis) 有关准备情感分析数据的详细信息。"
   ]
  },
  {
   "cell_type": "markdown",
   "metadata": {
    "id": "245c07c7df7b"
   },
   "source": [
    "选择数据集的子集"
   ]
  },
  {
   "cell_type": "code",
   "execution_count": null,
   "metadata": {
    "id": "e1db0f24d1da"
   },
   "outputs": [],
   "source": [
    "subset_data = df[df[\"label\"].isin([VERYNEGATIVE, VERYPOSITIVE])].reset_index(drop=True)\n",
    "subset_data.head()"
   ]
  },
  {
   "cell_type": "code",
   "execution_count": null,
   "metadata": {
    "id": "99f314e5a437"
   },
   "outputs": [],
   "source": [
    "subset_data[\"label\"] = subset_data[\"label\"].apply(lambda x: 1 if x == 3 else 0)\n",
    "subset_data[\"ml_use\"] = \"\"\n",
    "subset_data[\"sentimentMax\"] = 1\n",
    "subset_data = subset_data[[\"ml_use\", \"text\", \"label\", \"sentimentMax\"]]\n",
    "print(subset_data.head())"
   ]
  },
  {
   "cell_type": "markdown",
   "metadata": {
    "id": "c3e54c1f430a"
   },
   "source": [
    "### 创建一个csv"
   ]
  },
  {
   "cell_type": "code",
   "execution_count": null,
   "metadata": {
    "id": "806303530d77"
   },
   "outputs": [],
   "source": [
    "FILE_NAME = \"sentiment_data.csv\"\n",
    "subset_data.to_csv(FILE_NAME, index=False)\n",
    "# Upload the saved model file to Cloud Storage\n",
    "BLOB_PATH = \"sentiment_analysis/\"\n",
    "BLOB_NAME = os.path.join(BLOB_PATH, FILE_NAME)\n",
    "bucket = storage.Client().bucket(BUCKET_URI[5:])\n",
    "blob = bucket.blob(BLOB_NAME)\n",
    "blob.upload_from_filename(FILE_NAME)"
   ]
  },
  {
   "cell_type": "markdown",
   "metadata": {
    "id": "453938b7c88b"
   },
   "source": [
    "## 在 Vertex AI 中创建数据集\n",
    "<a name=\"section-7\"></a>\n",
    "\n",
    "以下代码使用 Python 中的 Vertex AI SDK 来创建数据集并导入数据。"
   ]
  },
  {
   "cell_type": "code",
   "execution_count": null,
   "metadata": {
    "id": "e359a68f6295"
   },
   "outputs": [],
   "source": [
    "def import_data_text_sentiment_analysis(\n",
    "    project: str,\n",
    "    location: str,\n",
    "    display_name: str,\n",
    "    src_uris: Union[str, List[str]],\n",
    "    sync: bool = True,\n",
    "):\n",
    "    aiplatform.init(project=project, location=location)\n",
    "\n",
    "    ds = aiplatform.TextDataset.create(\n",
    "        display_name=display_name,\n",
    "        gcs_source=src_uris,\n",
    "        import_schema_uri=aiplatform.schema.dataset.ioformat.text.sentiment,\n",
    "        sync=sync,\n",
    "    )\n",
    "\n",
    "    print(ds.display_name)\n",
    "    print(ds.resource_name)\n",
    "    return ds"
   ]
  },
  {
   "cell_type": "markdown",
   "metadata": {
    "id": "bd1f01b376b2"
   },
   "source": [
    "为受管理的数据集设置显示名称。"
   ]
  },
  {
   "cell_type": "code",
   "execution_count": null,
   "metadata": {
    "id": "de95111cf709"
   },
   "outputs": [],
   "source": [
    "DATASET_NAME = \"[your-dataset-display-name]\"  # @param {type:\"string\"}"
   ]
  },
  {
   "cell_type": "code",
   "execution_count": null,
   "metadata": {
    "id": "989313dc7b94"
   },
   "outputs": [],
   "source": [
    "if DATASET_NAME == \"\" or DATASET_NAME == \"[your-dataset-display-name]\":\n",
    "    DATASET_NAME = \"sentimentanalysis\"\n",
    "\n",
    "# Create a Vertex AI managed dataset resource\n",
    "src_uris = [f\"{BUCKET_URI}/sentiment_analysis/sentiment_data.csv\"]\n",
    "dataset = import_data_text_sentiment_analysis(\n",
    "    PROJECT_ID, REGION, DATASET_NAME, src_uris\n",
    ")"
   ]
  },
  {
   "cell_type": "markdown",
   "metadata": {
    "id": "a7c140cb93c0"
   },
   "source": [
    "## 使用顶点AI训练模型\n",
    "<a name=\"section-8\"></a>\n",
    "\n",
    "以下代码使用顶点AI的Python SDK在上面创建的数据集上训练模型。您可以从控制台顶点AI的数据集部分或上面创建的数据集对象的资源名称中获取数据集ID。您可以通过设置fraction_split变量来指定训练数据在训练、验证和测试集之间的拆分方式。\n",
    "\n",
    "**注意**: 模型训练作业可能会花费超过120分钟才能完成。"
   ]
  },
  {
   "cell_type": "code",
   "execution_count": null,
   "metadata": {
    "id": "bd06f6f67a56"
   },
   "outputs": [],
   "source": [
    "def create_training_pipeline_text_sentiment_analysis(\n",
    "    project: str,\n",
    "    location: str,\n",
    "    display_name: str,\n",
    "    dataset_id: str,\n",
    "    model_display_name: Optional[str] = None,\n",
    "    sentiment_max: int = 10,\n",
    "    training_fraction_split: float = 0.8,\n",
    "    validation_fraction_split: float = 0.1,\n",
    "    test_fraction_split: float = 0.1,\n",
    "    sync: bool = True,\n",
    "):\n",
    "    aiplatform.init(project=project, location=location)\n",
    "\n",
    "    job = aiplatform.AutoMLTextTrainingJob(\n",
    "        display_name=display_name,\n",
    "        prediction_type=\"sentiment\",\n",
    "        sentiment_max=sentiment_max,\n",
    "    )\n",
    "\n",
    "    text_dataset = aiplatform.TextDataset(dataset_id)\n",
    "\n",
    "    model = job.run(\n",
    "        dataset=text_dataset,\n",
    "        model_display_name=model_display_name,\n",
    "        training_fraction_split=training_fraction_split,\n",
    "        validation_fraction_split=validation_fraction_split,\n",
    "        test_fraction_split=test_fraction_split,\n",
    "        sync=sync,\n",
    "    )\n",
    "\n",
    "    print(model.display_name)\n",
    "    print(model.resource_name)\n",
    "    print(model.uri)\n",
    "    return model"
   ]
  },
  {
   "cell_type": "markdown",
   "metadata": {
    "id": "e7d09a8e2a01"
   },
   "source": [
    "为AutoML训练作业设置显示名称。"
   ]
  },
  {
   "cell_type": "code",
   "execution_count": null,
   "metadata": {
    "id": "22de78a6fee1"
   },
   "outputs": [],
   "source": [
    "JOB_NAME = \"[your-training-job-display-name]\"  # @param {type:\"string\"}"
   ]
  },
  {
   "cell_type": "code",
   "execution_count": null,
   "metadata": {
    "id": "a0a83ba2be4b"
   },
   "outputs": [],
   "source": [
    "if JOB_NAME == \"\" or JOB_NAME == \"[your-training-job-display-name]\":\n",
    "    JOB_NAME = \"sentimentanalysis_job\"\n",
    "\n",
    "# Using the created Text dataset, create and run the training job\n",
    "dataset_id = dataset.resource_name.split(\"/\")[-1]\n",
    "print(dataset_id)\n",
    "model = create_training_pipeline_text_sentiment_analysis(\n",
    "    PROJECT_ID, REGION, JOB_NAME, dataset_id, sentiment_max=1\n",
    ")"
   ]
  },
  {
   "cell_type": "markdown",
   "metadata": {
    "id": "077f319a4218"
   },
   "source": [
    "将模型部署到端点\n",
    "<a name=\"section-9\"></a>"
   ]
  },
  {
   "cell_type": "markdown",
   "metadata": {
    "id": "cd4463310e5a"
   },
   "source": [
    "创建端点\n",
    "创建一个Vertex AI端点来部署模型。"
   ]
  },
  {
   "cell_type": "code",
   "execution_count": null,
   "metadata": {
    "id": "473ff65e0b88"
   },
   "outputs": [],
   "source": [
    "def create_endpoint(\n",
    "    project: str,\n",
    "    display_name: str,\n",
    "    location: str,\n",
    "):\n",
    "    aiplatform.init(project=project, location=location)\n",
    "\n",
    "    endpoint = aiplatform.Endpoint.create(\n",
    "        display_name=display_name,\n",
    "        project=project,\n",
    "        location=location,\n",
    "    )\n",
    "\n",
    "    print(endpoint.display_name)\n",
    "    print(endpoint.resource_name)\n",
    "    return endpoint"
   ]
  },
  {
   "cell_type": "markdown",
   "metadata": {
    "id": "8fc75934c34c"
   },
   "source": [
    "为终端设置显示名称。"
   ]
  },
  {
   "cell_type": "code",
   "execution_count": null,
   "metadata": {
    "id": "fbef44c69575"
   },
   "outputs": [],
   "source": [
    "ENDPOINT_NAME = \"[your-endpoint-name]\"  # @param {type:\"string\"}"
   ]
  },
  {
   "cell_type": "code",
   "execution_count": null,
   "metadata": {
    "id": "54785032708f"
   },
   "outputs": [],
   "source": [
    "if ENDPOINT_NAME == \"[your-endpoint-name]\":\n",
    "    ENDPOINT_NAME = \"sentiment-analysis-endpoint\"\n",
    "\n",
    "# Create Endpoint\n",
    "endpoint = create_endpoint(PROJECT_ID, ENDPOINT_NAME, REGION)"
   ]
  },
  {
   "cell_type": "markdown",
   "metadata": {
    "id": "f84df96c9828"
   },
   "source": [
    "### 部署模型\n",
    "\n",
    "以下代码使用了 Python 的 Vertex AI SDK 将模型部署到一个端点。"
   ]
  },
  {
   "cell_type": "code",
   "execution_count": null,
   "metadata": {
    "id": "6c520e2f7f8b"
   },
   "outputs": [],
   "source": [
    "model.deploy(endpoint=endpoint)\n",
    "\n",
    "print(model.display_name)\n",
    "print(model.resource_name)"
   ]
  },
  {
   "cell_type": "markdown",
   "metadata": {
    "id": "9bcd4d7a11de"
   },
   "source": [
    "## 预测\n",
    "<a name=\"section-10\"></a>\n",
    "\n",
    "将模型部署到端点后，使用Vertex AI SDK请求在线预测。筛选出训练过程中未使用的数据，并选择较长的评论来测试模型。"
   ]
  },
  {
   "cell_type": "code",
   "execution_count": null,
   "metadata": {
    "id": "7fa5e1a01a77"
   },
   "outputs": [],
   "source": [
    "def predict_text_sentiment_analysis_sample(endpoint, content):\n",
    "    print(content)\n",
    "    response = endpoint.predict(instances=[{\"content\": content}], parameters={})\n",
    "\n",
    "    for prediction_ in response.predictions:\n",
    "        print(prediction_)"
   ]
  },
  {
   "cell_type": "code",
   "execution_count": null,
   "metadata": {
    "id": "817ba5968e22"
   },
   "outputs": [],
   "source": [
    "test_data_pos = df[df[\"label\"].isin([POSITIVE])].reset_index(drop=True)\n",
    "test_data_neg = df[df[\"label\"].isin([NEGATIVE])].reset_index(drop=True)\n",
    "\n",
    "test_data_neg = test_data_neg.text.values[200:]\n",
    "random.shuffle(test_data_neg)"
   ]
  },
  {
   "cell_type": "code",
   "execution_count": null,
   "metadata": {
    "id": "3fed98fbb6d7"
   },
   "outputs": [],
   "source": [
    "test_data_pos = test_data_pos.text.values[200:]\n",
    "random.shuffle(test_data_pos)"
   ]
  },
  {
   "cell_type": "markdown",
   "metadata": {
    "id": "963102b04a59"
   },
   "source": [
    "这里是对正面样本的预测结果。模型在预测正面评论的情感方面做得很好。第一条和最后一条评论的预测是假阴性。"
   ]
  },
  {
   "cell_type": "code",
   "execution_count": null,
   "metadata": {
    "id": "5d7b1d59c0d0"
   },
   "outputs": [],
   "source": [
    "for review in test_data_pos[0:10]:\n",
    "    predict_text_sentiment_analysis_sample(endpoint, review)"
   ]
  },
  {
   "cell_type": "markdown",
   "metadata": {
    "id": "6fc9dbc3436e"
   },
   "source": [
    "这是负面评论的预测结果。在10条评论中，有7条是负面评论，这些负面评论被正确识别为负面情感。"
   ]
  },
  {
   "cell_type": "code",
   "execution_count": null,
   "metadata": {
    "id": "53830cc82fc5"
   },
   "outputs": [],
   "source": [
    "for review in test_data_neg[0:10]:\n",
    "    predict_text_sentiment_analysis_sample(endpoint, review)"
   ]
  },
  {
   "cell_type": "markdown",
   "metadata": {
    "id": "aa6a2abc2006"
   },
   "source": [
    "## 评论可视化\n",
    "<a name=\"section-11\"></a>\n",
    "\n",
    "将数据中的正面和负面评论可视化。"
   ]
  },
  {
   "cell_type": "code",
   "execution_count": null,
   "metadata": {
    "id": "b08c4be897ce"
   },
   "outputs": [],
   "source": [
    "data_pos = df[df[\"label\"].isin([VERYPOSITIVE])].reset_index(drop=True)\n",
    "data_neg = df[df[\"label\"].isin([VERYNEGATIVE])].reset_index(drop=True)\n",
    "\n",
    "data_neg = data_neg.text.values"
   ]
  },
  {
   "cell_type": "code",
   "execution_count": null,
   "metadata": {
    "id": "27d61dcee56a"
   },
   "outputs": [],
   "source": [
    "data_pos = data_pos.text.values"
   ]
  },
  {
   "cell_type": "markdown",
   "metadata": {
    "id": "9ddc8e1dfaab"
   },
   "source": [
    "通过删除常见词汇来创建词云，突出代表积极和消极样本的词汇。"
   ]
  },
  {
   "cell_type": "code",
   "execution_count": null,
   "metadata": {
    "id": "8f48fa9258c3"
   },
   "outputs": [],
   "source": [
    "# Python program to generate WordCloud\n",
    "def plot_word_cloud(data, common_words):\n",
    "    comment_words = \"\"\n",
    "    stopwords = set(STOPWORDS)\n",
    "    for val in data:\n",
    "        tokens = val.split()\n",
    "        for i in range(len(tokens)):\n",
    "            tokens[i] = tokens[i].lower()\n",
    "            for each in common_words:\n",
    "                if each in tokens[i]:\n",
    "                    tokens[i] = \"\"\n",
    "                    break\n",
    "\n",
    "        comment_words += \" \".join(tokens) + \" \"\n",
    "\n",
    "    wordcloud = WordCloud(\n",
    "        width=800,\n",
    "        height=800,\n",
    "        background_color=\"white\",\n",
    "        stopwords=stopwords,\n",
    "        min_font_size=10,\n",
    "    ).generate(comment_words)\n",
    "\n",
    "    plt.figure(figsize=(8, 8), facecolor=None)\n",
    "    plt.imshow(wordcloud)\n",
    "    plt.axis(\"off\")\n",
    "    plt.tight_layout(pad=0)\n",
    "\n",
    "    plt.show()"
   ]
  },
  {
   "cell_type": "markdown",
   "metadata": {
    "id": "09e568ad3526"
   },
   "source": [
    "绘制负面评论的词云。"
   ]
  },
  {
   "cell_type": "code",
   "execution_count": null,
   "metadata": {
    "id": "4fd9bf528bb4"
   },
   "outputs": [],
   "source": [
    "plot_word_cloud(\n",
    "    data_neg,\n",
    "    [\n",
    "        \"movie\",\n",
    "        \"film\",\n",
    "        \"story\",\n",
    "        \"audience\",\n",
    "        \"director\",\n",
    "        \"watch\",\n",
    "        \"seem\",\n",
    "        \"world\",\n",
    "        \"one\",\n",
    "        \"make\",\n",
    "        \"way\",\n",
    "        \"character\",\n",
    "        \"much\",\n",
    "        \"time\",\n",
    "        \"even\",\n",
    "        \"take\",\n",
    "        \"s\",\n",
    "        \"n't\",\n",
    "        \"will\",\n",
    "        \"may\",\n",
    "        \"re\",\n",
    "        \"plot\",\n",
    "        \"good\",\n",
    "        \"comedy\",\n",
    "        \"made\",\n",
    "    ],\n",
    ")"
   ]
  },
  {
   "cell_type": "markdown",
   "metadata": {
    "id": "cd2c9686efbc"
   },
   "source": [
    "制作一个正面点评的词云。"
   ]
  },
  {
   "cell_type": "code",
   "execution_count": null,
   "metadata": {
    "id": "2fb8c50e991b"
   },
   "outputs": [],
   "source": [
    "plot_word_cloud(\n",
    "    data_pos,\n",
    "    [\n",
    "        \"movie\",\n",
    "        \"film\",\n",
    "        \"story\",\n",
    "        \"audience\",\n",
    "        \"director\",\n",
    "        \"watch\",\n",
    "        \"seem\",\n",
    "        \"world\",\n",
    "        \"one\",\n",
    "        \"make\",\n",
    "        \"way\",\n",
    "        \"character\",\n",
    "        \"much\",\n",
    "        \"time\",\n",
    "        \"even\",\n",
    "        \"take\",\n",
    "        \"s\",\n",
    "        \"n't\",\n",
    "        \"will\",\n",
    "        \"may\",\n",
    "        \"re\",\n",
    "        \"plot\",\n",
    "        \"made\",\n",
    "    ],\n",
    ")"
   ]
  },
  {
   "cell_type": "markdown",
   "metadata": {
    "id": "c169667d92e8"
   },
   "source": [
    "清理\n",
    "\n",
    "要清理此项目中使用的所有Google Cloud资源，您可以[删除用于本教程的Google Cloud项目](https://cloud.google.com/resource-manager/docs/creating-managing-projects#shutting_down_projects)。\n",
    "\n",
    "否则，您可以删除在本教程中创建的各个资源。"
   ]
  },
  {
   "cell_type": "code",
   "execution_count": null,
   "metadata": {
    "id": "c72329be87c8"
   },
   "outputs": [],
   "source": [
    "# Undeploy the model from the endpoint\n",
    "endpoint.undeploy_all()\n",
    "\n",
    "# Delete the endpoint\n",
    "endpoint.delete()\n",
    "\n",
    "# Delete the model\n",
    "model.delete()\n",
    "\n",
    "# Delete the dataset\n",
    "dataset.delete()"
   ]
  },
  {
   "cell_type": "markdown",
   "metadata": {
    "id": "577c85781223"
   },
   "source": [
    "将 `delete_bucket` 设置为 **True** 以删除云存储桶。"
   ]
  },
  {
   "cell_type": "code",
   "execution_count": null,
   "metadata": {
    "id": "b8dee97cd83e"
   },
   "outputs": [],
   "source": [
    "delete_bucket = False\n",
    "# Delete the Cloud storge bucket\n",
    "if delete_bucket:\n",
    "    ! gsutil -m rm -r $BUCKET_URI"
   ]
  }
 ],
 "metadata": {
  "colab": {
   "name": "Sentiment_Analysis.ipynb",
   "toc_visible": true
  },
  "kernelspec": {
   "display_name": "Python 3",
   "name": "python3"
  }
 },
 "nbformat": 4,
 "nbformat_minor": 0
}
