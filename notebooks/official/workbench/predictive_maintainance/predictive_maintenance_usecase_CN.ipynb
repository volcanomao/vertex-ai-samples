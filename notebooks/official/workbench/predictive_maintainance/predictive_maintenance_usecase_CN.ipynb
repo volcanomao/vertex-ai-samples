{
 "cells": [
  {
   "cell_type": "code",
   "execution_count": null,
   "metadata": {
    "id": "18ebbd838e32"
   },
   "outputs": [],
   "source": [
    "# Copyright 2022 Google LLC\n",
    "#\n",
    "# Licensed under the Apache License, Version 2.0 (the \"License\");\n",
    "# you may not use this file except in compliance with the License.\n",
    "# You may obtain a copy of the License at\n",
    "#\n",
    "#     https://www.apache.org/licenses/LICENSE-2.0\n",
    "#\n",
    "# Unless required by applicable law or agreed to in writing, software\n",
    "# distributed under the License is distributed on an \"AS IS\" BASIS,\n",
    "# WITHOUT WARRANTIES OR CONDITIONS OF ANY KIND, either express or implied.\n",
    "# See the License for the specific language governing permissions and\n",
    "# limitations under the License."
   ]
  },
  {
   "cell_type": "markdown",
   "metadata": {
    "id": "aef73cfa8725"
   },
   "source": [
    "# 使用Vertex AI进行预测性维护\n",
    "\n",
    "<table align=\"left\">\n",
    "  <td>\n",
    "    <a href=\"https://github.com/GoogleCloudPlatform/vertex-ai-samples/blob/main/notebooks/official/workbench/predictive_maintainance/predictive_maintenance_usecase.ipynb\">\n",
    "      <img src=\"https://cloud.google.com/ml-engine/images/github-logo-32px.png\" alt=\"GitHub logo\">\n",
    "      在GitHub上查看\n",
    "    </a>\n",
    "  </td>\n",
    "    <td>\n",
    "        <a href=\"https://colab.research.google.com/github/GoogleCloudPlatform/vertex-ai-samples/blob/main/notebooks/official/workbench/predictive_maintainance/predictive_maintenance_usecase.ipynb\">\n",
    "        <img src=\"https://cloud.google.com/ml-engine/images/colab-logo-32px.png\\\" alt=\"Colab logo\"> 在Colab中运行\n",
    "        </a>\n",
    "  </td>\n",
    "  <td>\n",
    "<a href=\"https://console.cloud.google.com/vertex-ai/workbench/deploy-notebook?download_url=https://raw.githubusercontent.com/GoogleCloudPlatform/vertex-ai-samples/main/notebooks/official/workbench/predictive_maintainance/predictive_maintenance_usecase.ipynb\" target='_blank'>\n",
    "      <img src=\"https://lh3.googleusercontent.com/UiNooY4LUgW_oTvpsNhPpQzsstV5W8F7rYgxgGBD85cWJoLmrOzhVs_ksK_vgx40SHs7jCqkTkCk=e14-rj-sc0xffffff-h130-w32\" alt=\"Vertex AI logo\">\n",
    "      在Vertex AI Workbench中打开\n",
    "    </a>\n",
    "  </td>\n",
    "</table>\n",
    "<br/><br/><br/>\n",
    "\n",
    "\n",
    "## 目录\n",
    "* [概述](#section-1)\n",
    "* [目标](#section-2)\n",
    "* [数据集](#section-3)\n",
    "* [成本](#section-4)\n",
    "* [数据分析](#section-5)\n",
    "* [拟合回归模型](#section-6)\n",
    "* [评估训练模型](#section-7)\n",
    "* [保存模型](#section-8)\n",
    "* [使用执行器端到端运行笔记本](#section-9)\n",
    "* [在Vertex AI上托管模型](#section-10)\n",
    "  * [创建端点](#section-11)\n",
    "  * [将模型部署到创建的端点](#section-12)\n",
    "  * [测试调用端点](#section-13)\n",
    "* [清理](#section-14)"
   ]
  },
  {
   "cell_type": "markdown",
   "metadata": {
    "id": "e10c5167a061"
   },
   "source": [
    "## 概述\n",
    "<a name=\"section-1\"></a>\n",
    "\n",
    "在这个笔记本中，您将使用机器学习技术，在工业数据上进行预测性维护用例，将机器学习模型部署到Vertex AI，并使用Vertex AI Workbench的executor功能自动化工作流程。\n",
    "\n",
    "*注意：此笔记本文件是为在[Vertex AI Workbench托管的笔记本](https://console.cloud.google.com/vertex-ai/workbench/list/managed)实例中使用XGBoost（Local）内核而开发的。此笔记本的一些组件在其他笔记本环境中可能无法正常运行。*\n",
    "\n",
    "了解有关[Vertex AI Workbench](https://cloud.google.com/vertex-ai/docs/workbench/introduction)和[Vertex AI 训练](https://cloud.google.com/vertex-ai/docs/training/custom-training)的更多信息。"
   ]
  },
  {
   "cell_type": "markdown",
   "metadata": {
    "id": "fead9e83ebd7"
   },
   "source": [
    "### 目标\n",
    "<a name=\"section-2\"></a>\n",
    "\n",
    "在本教程中，您将学习如何使用Vertex AI Workbench中的执行器功能来自动化一个工作流程，用于训练和部署模型。\n",
    "\n",
    "本教程使用以下谷歌云ML服务：\n",
    "\n",
    "- `Vertex AI 训练`\n",
    "- `Vertex AI 模型评估`\n",
    "\n",
    "执行的步骤包括：\n",
    "\n",
    "- 从云存储桶中加载所需数据集。\n",
    "- 分析数据集中的字段。\n",
    "- 选择用于预测性维护模型的必要数据。\n",
    "- 训练用于预测剩余有效寿命的XGBoost回归模型。\n",
    "- 评估模型。\n",
    "- 使用Executor将笔记本端到端作为训练作业运行。\n",
    "- 在Vertex AI上部署模型。\n",
    "- 清理。"
   ]
  },
  {
   "cell_type": "markdown",
   "metadata": {
    "id": "a71f4d96bf80"
   },
   "source": [
    "### 数据集\n",
    "<a name=\"section-3\"></a>\n",
    "\n",
    "本笔记本中使用的数据集是[美国国家航空航天局涡轮风扇发动机退化模拟数据集](https://ti.arc.nasa.gov/tech/dash/groups/pcoe/prognostic-data-repository/)的一部分，其中包含了四组舰队发动机在不同操作条件和故障模式下的模拟时间序列数据。本笔记本中使用了保存在公共云存储桶中的此数据集的一个版本。在本笔记本中，使用其中一个发动机的模拟数据（FD001）来分析并训练一个可以预测发动机剩余寿命的模型。"
   ]
  },
  {
   "cell_type": "markdown",
   "metadata": {
    "id": "36c53c95b4b9"
   },
   "source": [
    "### 费用\n",
    "<a name=\"section-4\"></a>\n",
    "\n",
    "本教程使用谷歌云的以下计费组件：\n",
    "\n",
    "- Vertex AI\n",
    "- 云存储\n",
    "\n",
    "了解有关 [Vertex AI 价格](https://cloud.google.com/vertex-ai/pricing) 和 [云存储 价格](https://cloud.google.com/storage/pricing)，并使用 [价格计算器](https://cloud.google.com/products/calculator/) 根据您的预期用量生成一个费用估算。"
   ]
  },
  {
   "cell_type": "markdown",
   "metadata": {
    "id": "629f52f6efe1"
   },
   "source": [
    "### 选择核心\n",
    "在 Vertex AI 工作台的托管实例上运行此笔记本时，请选择 <b>XGBoost</b> 核心。否则，请确保以下库已在运行此笔记本的环境中安装。\n",
    "- XGBoost\n",
    "- Pandas\n",
    "- Seaborn\n",
    "- Sklearn\n",
    "\n",
    "除上述库外，此笔记本还使用以下 google-cloud 库。\n",
    "\n",
    "- google.cloud.aiplatform\n",
    "- google.cloud.storage"
   ]
  },
  {
   "cell_type": "markdown",
   "metadata": {
    "id": "16bee0754628"
   },
   "source": [
    "## 安装\n",
    "\n",
    "安装以下包以在 Vertex AI Workbench 管理的实例之外运行此笔记本。"
   ]
  },
  {
   "cell_type": "code",
   "execution_count": null,
   "metadata": {
    "id": "69520a67e54c"
   },
   "outputs": [],
   "source": [
    "! pip3 install --quiet --upgrade   google-cloud-aiplatform \\\n",
    "                                    google-cloud-storage \\\n",
    "                                    xgboost \\\n",
    "                                    seaborn \\\n",
    "                                    scikit-learn \\\n",
    "                                    fsspec \\\n",
    "                                    gcsfs \\\n",
    "                                    pandas -q"
   ]
  },
  {
   "cell_type": "markdown",
   "metadata": {
    "id": "e9255e3b156f"
   },
   "source": [
    "### 仅限 Colab 使用：取消注释以下单元格以重新启动内核"
   ]
  },
  {
   "cell_type": "code",
   "execution_count": null,
   "metadata": {
    "id": "0c0b2427998a"
   },
   "outputs": [],
   "source": [
    "# Automatically restart kernel after installs so that your environment can access the new packages\n",
    "# import IPython\n",
    "\n",
    "# app = IPython.Application.instance()\n",
    "# app.kernel.do_shutdown(True)"
   ]
  },
  {
   "cell_type": "markdown",
   "metadata": {
    "id": "435b8e413535"
   },
   "source": [
    "### 开始之前\n",
    "\n",
    "#### 设置您的项目ID\n",
    "\n",
    "**如果您不知道您的项目ID**，请尝试以下操作：\n",
    "- 运行 `gcloud config list`\n",
    "- 运行 `gcloud projects list`\n",
    "- 查看支持页面：[查找项目ID](https://support.google.com/googleapi/answer/7014113)"
   ]
  },
  {
   "cell_type": "code",
   "execution_count": null,
   "metadata": {
    "id": "be175254a715"
   },
   "outputs": [],
   "source": [
    "PROJECT_ID = \"[your-project-id]\"  # @param {type:\"string\"}\n",
    "\n",
    "# set the project id\n",
    "! gcloud config set project $PROJECT_ID"
   ]
  },
  {
   "cell_type": "markdown",
   "metadata": {
    "id": "2e6b8b324ce1"
   },
   "source": [
    "区域\n",
    "\n",
    "您还可以更改 Vertex AI 使用的 `REGION` 变量。\n",
    "了解有关 [Vertex AI 区域](https://cloud.google.com/vertex-ai/docs/general/locations) 的更多信息。"
   ]
  },
  {
   "cell_type": "code",
   "execution_count": null,
   "metadata": {
    "id": "ae43d96c4b1b"
   },
   "outputs": [],
   "source": [
    "REGION = \"[your-region]\"  # @param {type: \"string\"}"
   ]
  },
  {
   "cell_type": "markdown",
   "metadata": {
    "id": "6c43a8673066"
   },
   "source": [
    "### 验证您的Google Cloud帐户\n",
    "\n",
    "根据您的Jupyter环境，您可能需要手动验证。请按照以下相关说明操作。\n",
    "\n",
    "**1. Vertex AI Workbench**\n",
    "- 无需操作，因为您已经验证过了。\n",
    "\n",
    "**2. 本地JupyterLab实例，** 取消注释并运行。"
   ]
  },
  {
   "cell_type": "code",
   "execution_count": null,
   "metadata": {
    "id": "fbc9cd30cc4b"
   },
   "outputs": [],
   "source": [
    "# ! gcloud auth login"
   ]
  },
  {
   "cell_type": "markdown",
   "metadata": {
    "id": "cd0da2c26879"
   },
   "source": [
    "3. 在 Colab 中取消注释并运行："
   ]
  },
  {
   "cell_type": "code",
   "execution_count": null,
   "metadata": {
    "id": "a336a05c6149"
   },
   "outputs": [],
   "source": [
    "# from google.colab import auth\n",
    "# auth.authenticate_user()"
   ]
  },
  {
   "cell_type": "markdown",
   "metadata": {
    "id": "0461097edfa5"
   },
   "source": [
    "4. 服务账号或其他\n",
    "- 在这里查看所有的认证选项：[Google Cloud Platform Jupyter Notebook认证指南](https://github.com/GoogleCloudPlatform/vertex-ai-samples/blob/main/notebooks/notebook_authentication_guide.ipynb)"
   ]
  },
  {
   "cell_type": "markdown",
   "metadata": {
    "id": "e5755d1a554f"
   },
   "source": [
    "### 创建一个云存储桶\n",
    "\n",
    "创建一个存储桶来存储中间产物，如数据集。"
   ]
  },
  {
   "cell_type": "code",
   "execution_count": null,
   "metadata": {
    "id": "d2de92accb67"
   },
   "outputs": [],
   "source": [
    "BUCKET_URI = f\"gs://your-bucket-name-{PROJECT_ID}-unique\"  # @param {type:\"string\"}"
   ]
  },
  {
   "cell_type": "markdown",
   "metadata": {
    "id": "b72bfdf29dae"
   },
   "source": [
    "只有当您的存储桶不存在时才运行以下单元格以创建您的云存储存储桶。"
   ]
  },
  {
   "cell_type": "code",
   "execution_count": null,
   "metadata": {
    "id": "a4453435d115"
   },
   "outputs": [],
   "source": [
    "! gsutil mb -l {REGION} {BUCKET_URI}"
   ]
  },
  {
   "cell_type": "markdown",
   "metadata": {
    "id": "06571eb4063b"
   },
   "source": [
    "UUID\n",
    "\n",
    "如果您正在进行实时教程会话，您可能正在使用共享的测试帐户或项目。为了避免用户在创建的资源上发生名称冲突，您可以为每个实例会话创建一个UUID，并将其附加到您在本教程中创建的资源的名称上。"
   ]
  },
  {
   "cell_type": "code",
   "execution_count": null,
   "metadata": {
    "id": "697568e92bd6"
   },
   "outputs": [],
   "source": [
    "import random\n",
    "import string\n",
    "\n",
    "\n",
    "# Generate a uuid of a specifed length(default=8)\n",
    "def generate_uuid(length: int = 8) -> str:\n",
    "    return \"\".join(random.choices(string.ascii_lowercase + string.digits, k=length))\n",
    "\n",
    "\n",
    "UUID = generate_uuid()"
   ]
  },
  {
   "cell_type": "markdown",
   "metadata": {
    "id": "4c0f6aac282a"
   },
   "source": [
    "导入所需的库###"
   ]
  },
  {
   "cell_type": "code",
   "execution_count": null,
   "metadata": {
    "id": "33f840806ed4"
   },
   "outputs": [],
   "source": [
    "import matplotlib.pyplot as plt\n",
    "import pandas as pd\n",
    "\n",
    "%matplotlib inline\n",
    "import os\n",
    "\n",
    "import numpy as np\n",
    "import seaborn as sns\n",
    "import xgboost as xgb\n",
    "from google.cloud import aiplatform, storage\n",
    "from sklearn.metrics import mean_squared_error, r2_score\n",
    "from sklearn.model_selection import train_test_split"
   ]
  },
  {
   "cell_type": "markdown",
   "metadata": {
    "id": "08bcba53eb99"
   },
   "source": [
    "加载数据并检查数据形状。"
   ]
  },
  {
   "cell_type": "code",
   "execution_count": null,
   "metadata": {
    "id": "2890f46a1907"
   },
   "outputs": [],
   "source": [
    "# load the data from the source\n",
    "INPUT_PATH = \"gs://cloud-samples-data/ai-platform-unified/datasets/tabular/predictive_maintenance.csv\"  # data source\n",
    "raw_data = pd.read_csv(INPUT_PATH, sep=\" \", header=None)\n",
    "# check the data\n",
    "print(raw_data.shape)\n",
    "raw_data.head()"
   ]
  },
  {
   "cell_type": "markdown",
   "metadata": {
    "id": "8cfc304d35b5"
   },
   "source": [
    "数据本身不包含任何特征名称，因此需要将其列命名更改。数据源已经提供了一些数据描述。显然，<b>ID</b>列代表机群引擎的单位编号，<b>Cycle</b>代表循环中的时间。 <b>OpSet1</b>，<b>Opset2</b>和<b>Opset3</b>代表原始数据源中描述的三个操作设置，并且对引擎性能有重大影响。其余字段显示从21个不同传感器收集的传感器读数。"
   ]
  },
  {
   "cell_type": "code",
   "execution_count": null,
   "metadata": {
    "id": "34251837c120"
   },
   "outputs": [],
   "source": [
    "# name the columns (based on the original data source page)\n",
    "raw_data = raw_data[[f for f in range(0, 26)]]\n",
    "raw_data.columns = [\n",
    "    \"ID\",\n",
    "    \"Cycle\",\n",
    "    \"OpSet1\",\n",
    "    \"OpSet2\",\n",
    "    \"OpSet3\",\n",
    "    \"SensorMeasure1\",\n",
    "    \"SensorMeasure2\",\n",
    "    \"SensorMeasure3\",\n",
    "    \"SensorMeasure4\",\n",
    "    \"SensorMeasure5\",\n",
    "    \"SensorMeasure6\",\n",
    "    \"SensorMeasure7\",\n",
    "    \"SensorMeasure8\",\n",
    "    \"SensorMeasure9\",\n",
    "    \"SensorMeasure10\",\n",
    "    \"SensorMeasure11\",\n",
    "    \"SensorMeasure12\",\n",
    "    \"SensorMeasure13\",\n",
    "    \"SensorMeasure14\",\n",
    "    \"SensorMeasure15\",\n",
    "    \"SensorMeasure16\",\n",
    "    \"SensorMeasure17\",\n",
    "    \"SensorMeasure18\",\n",
    "    \"SensorMeasure19\",\n",
    "    \"SensorMeasure20\",\n",
    "    \"SensorMeasure21\",\n",
    "]\n",
    "raw_data.head()"
   ]
  },
  {
   "cell_type": "markdown",
   "metadata": {
    "id": "da8c475ddc86"
   },
   "source": [
    "## 数据分析\n",
    "<a name=\"section-5\"></a>\n",
    "当前数据集包含各个单元 ID 的时间序列数据。数据以循环方式表示。让我们首先看看各个单元的循环数量分布。"
   ]
  },
  {
   "cell_type": "code",
   "execution_count": null,
   "metadata": {
    "id": "e18ef3931be5"
   },
   "outputs": [],
   "source": [
    "# plot the cycle count for each IDs\n",
    "raw_data[[\"ID\", \"Cycle\"]].groupby(by=[\"ID\"]).count().plot(kind=\"bar\", figsize=(12, 5))"
   ]
  },
  {
   "cell_type": "markdown",
   "metadata": {
    "id": "43c3f01352ad"
   },
   "source": [
    "平均而言，数据集中每个ID大约有225个周期。接下来，让我们检查字段的数据类型和数据中空记录的数量。"
   ]
  },
  {
   "cell_type": "code",
   "execution_count": null,
   "metadata": {
    "id": "d83cddab2b28"
   },
   "outputs": [],
   "source": [
    "# check the data-types\n",
    "raw_data.info()"
   ]
  },
  {
   "cell_type": "markdown",
   "metadata": {
    "id": "da698b792397"
   },
   "source": [
    "数据中没有空记录或任何分类字段。接下来，让我们检查字段的数值分布。"
   ]
  },
  {
   "cell_type": "code",
   "execution_count": null,
   "metadata": {
    "id": "18d8731e68aa"
   },
   "outputs": [],
   "source": [
    "# check the numerical characteristics of the data\n",
    "raw_data.describe().T"
   ]
  },
  {
   "cell_type": "markdown",
   "metadata": {
    "id": "b632592001d5"
   },
   "source": [
    "特征**OpSet3**，**SensorMeasure1**，**SensorMeasure10**，**SensorMeasure18**和**SensorMeasure19**似乎在整个数据集中是常数，因此可以被消除。除了数据集中常数的字段外，高度相关的字段也可以考虑删除。数据中存在高度相关的字段通常会导致多重共线性情况，即使不会对准确性产生影响，也会不必要地增加特征空间的大小。这种字段可以通过相关矩阵和热力图来识别。"
   ]
  },
  {
   "cell_type": "code",
   "execution_count": null,
   "metadata": {
    "id": "2d41a0e277b2"
   },
   "outputs": [],
   "source": [
    "# plot the correlation matrix\n",
    "plt.figure(figsize=(15, 10))\n",
    "cols = [\n",
    "    i\n",
    "    for i in raw_data.columns\n",
    "    if i\n",
    "    not in [\n",
    "        \"ID\",\n",
    "        \"Cycle\",\n",
    "        \"OpSet3\",\n",
    "        \"SensorMeasure1\",\n",
    "        \"SensorMeasure10\",\n",
    "        \"SensorMeasure18\",\n",
    "        \"SensorMeasure19\",\n",
    "    ]\n",
    "]\n",
    "corr_mat = raw_data[cols].corr()\n",
    "matrix = np.triu(corr_mat)\n",
    "\n",
    "sns.heatmap(corr_mat, annot=True, mask=matrix, fmt=\".1g\")\n",
    "plt.show()"
   ]
  },
  {
   "cell_type": "markdown",
   "metadata": {
    "id": "284debdf4294"
   },
   "source": [
    "字段**SensorMeasure7**、**SensorMeasure12**、**SensorMeasure20**和**SensorMeasure21**与许多其他字段高度相关。这些字段可以省略。此外，**SensorMeasure8**、**SensorMeasure11**和**SensorMeasure4**似乎彼此高度相关，因此可以保留其中任何一个，例如**SensorMeasure4**，其余可以省略。"
   ]
  },
  {
   "cell_type": "code",
   "execution_count": null,
   "metadata": {
    "id": "40477e592ce7"
   },
   "outputs": [],
   "source": [
    "cols = [\n",
    "    i\n",
    "    for i in cols\n",
    "    if i\n",
    "    not in [\n",
    "        \"SensorMeasure7\",\n",
    "        \"SensorMeasure12\",\n",
    "        \"SensorMeasure20\",\n",
    "        \"SensorMeasure21\",\n",
    "        \"SensorMeasure8\",\n",
    "        \"SensorMeasure11\",\n",
    "    ]\n",
    "]\n",
    "corr_mat = raw_data[cols].corr()\n",
    "matrix = np.triu(corr_mat)\n",
    "plt.figure(figsize=(9, 5))\n",
    "sns.heatmap(corr_mat, annot=True, mask=matrix, fmt=\".1g\")\n",
    "plt.show()"
   ]
  },
  {
   "cell_type": "markdown",
   "metadata": {
    "id": "8197cdef2cff"
   },
   "source": [
    "由于当前的目标是预测每个单位（ID）的剩余可用寿命（RUL），需要确定目标变量。由于您正在处理表示单位寿命的时间序列数据，单位的剩余可用寿命可以通过将当前周期从该单位的最大周期中减去来计算。\n",
    "\n",
    "RUL = 最大周期 - 当前周期\n",
    "## RUL 的计算和特征选择"
   ]
  },
  {
   "cell_type": "code",
   "execution_count": null,
   "metadata": {
    "id": "b9cd2797cdae"
   },
   "outputs": [],
   "source": [
    "# get max-cycle of the ids\n",
    "cols = [\"ID\", \"Cycle\"] + cols\n",
    "max_cycles_df = (\n",
    "    raw_data.groupby([\"ID\"], sort=False)[\"Cycle\"]\n",
    "    .max()\n",
    "    .reset_index()\n",
    "    .rename(columns={\"Cycle\": \"MaxCycleID\"})\n",
    ")\n",
    "# merge back to original dataset\n",
    "FD001_df = pd.merge(raw_data, max_cycles_df, how=\"inner\", on=\"ID\")\n",
    "# calculate rul from max-cycle and current-cycle\n",
    "FD001_df[\"RUL\"] = FD001_df[\"MaxCycleID\"] - FD001_df[\"Cycle\"]"
   ]
  },
  {
   "cell_type": "markdown",
   "metadata": {
    "id": "53a73de9ee27"
   },
   "source": [
    "为了确保目标字段的正确生成，可以绘制RUL字段。"
   ]
  },
  {
   "cell_type": "code",
   "execution_count": null,
   "metadata": {
    "id": "ecd5aa0a130f"
   },
   "outputs": [],
   "source": [
    "# plot the RUL vs Cycles\n",
    "one_engine = []\n",
    "for i, r in FD001_df.iterrows():\n",
    "    rul = r[\"RUL\"]\n",
    "    one_engine.append(rul)\n",
    "    if rul == 0:\n",
    "        plt.plot(one_engine)\n",
    "        one_engine = []\n",
    "\n",
    "plt.grid()"
   ]
  },
  {
   "cell_type": "markdown",
   "metadata": {
    "id": "fc3b82355cdc"
   },
   "source": [
    "以上图表表明，寿命剩余（RUL），也就是剩余周期，随着当前周期的增加而减少，这是可以预期的。此外，让我们看看当前数据集中的其他字段与RUL的关系如何。"
   ]
  },
  {
   "cell_type": "code",
   "execution_count": null,
   "metadata": {
    "id": "30284ff6c8ab"
   },
   "outputs": [],
   "source": [
    "# plot feature vs the RUL\n",
    "def plot_feature(feature):\n",
    "    plt.figure(figsize=(10, 5))\n",
    "    for i in FD001_df[\"ID\"].unique():\n",
    "        if i % 10 == 0:  # only plot every 10th ID\n",
    "            plt.plot(\"RUL\", feature, data=FD001_df[FD001_df[\"ID\"] == i])\n",
    "    plt.xlim(250, 0)  # reverse the x-axis so RUL counts down to zero\n",
    "    plt.xticks(np.arange(0, 275, 25))\n",
    "    plt.ylabel(feature)\n",
    "    plt.xlabel(\"RUL\")\n",
    "    plt.show()\n",
    "\n",
    "\n",
    "for i in cols:\n",
    "    if i not in [\"ID\", \"Cycle\"]:\n",
    "        plot_feature(i)"
   ]
  },
  {
   "cell_type": "markdown",
   "metadata": {
    "id": "828154ec8d90"
   },
   "source": [
    "可以从上面细胞的结果中得出以下一组观察：\n",
    "- **传感器测量5**和**传感器测量16**的字段与剩余寿命（RUL）没有太大变化，看起来一直保持恒定。因此，它们可以被移除。\n",
    "- **传感器测量2**、**传感器测量3**、**传感器测量4**、**传感器测量13**、**传感器测量15**和**传感器测量17**显示出类似的上升趋势。\n",
    "- **传感器测量9**和**传感器测量14**显示出类似的趋势。\n",
    "- **传感器测量6**大部分时间显示为一条水平线，只有在很少的地方有变化，因此可以被忽略。"
   ]
  },
  {
   "cell_type": "code",
   "execution_count": null,
   "metadata": {
    "id": "28395edac8f7"
   },
   "outputs": [],
   "source": [
    "# remove the unnecessary fields\n",
    "cols = [\n",
    "    i\n",
    "    for i in cols\n",
    "    if i not in [\"ID\", \"SensorMeasure5\", \"SensorMeasure6\", \"SensorMeasure16\"]\n",
    "]\n",
    "cols"
   ]
  },
  {
   "cell_type": "markdown",
   "metadata": {
    "id": "cae198bd96ef"
   },
   "source": [
    "##将数据分为训练集和测试集\n",
    "\n",
    "将选定特征的数据集分为训练集和测试集。"
   ]
  },
  {
   "cell_type": "code",
   "execution_count": null,
   "metadata": {
    "id": "40a38e17b6b0"
   },
   "outputs": [],
   "source": [
    "# split data into train and test\n",
    "X = FD001_df[cols].copy()\n",
    "y = FD001_df[\"RUL\"].copy()\n",
    "\n",
    "# split the data into 70-30 ratio of train-test\n",
    "X_train, X_test, y_train, y_test = train_test_split(\n",
    "    X, y, train_size=0.7, random_state=36\n",
    ")\n",
    "X_train.shape, y_train.shape, X_test.shape, y_test.shape"
   ]
  },
  {
   "cell_type": "markdown",
   "metadata": {
    "id": "43a26d74c687"
   },
   "source": [
    "## 拟合回归模型\n",
    "<a name=\"section-6\"></a>\n",
    "\n",
    "使用XGBoost库初始化并训练一个回归模型，以计算得到的RUL作为目标特征。"
   ]
  },
  {
   "cell_type": "code",
   "execution_count": null,
   "metadata": {
    "id": "306a693a00ff"
   },
   "outputs": [],
   "source": [
    "model = xgb.XGBRegressor()\n",
    "model.fit(X_train, y_train)"
   ]
  },
  {
   "cell_type": "markdown",
   "metadata": {
    "id": "ef2a6b567e33"
   },
   "source": [
    "## 评估训练好的模型\n",
    "<a name=\"section-7\"></a>\n",
    "\n",
    "检查模型在训练集和测试集上的R2分数。"
   ]
  },
  {
   "cell_type": "code",
   "execution_count": null,
   "metadata": {
    "id": "e30af6e41081"
   },
   "outputs": [],
   "source": [
    "# print test R2 score\n",
    "y_train_pred = model.predict(X_train)\n",
    "train_score = r2_score(y_train, y_train_pred)\n",
    "y_test_pred = model.predict(X_test)\n",
    "test_score = r2_score(y_test, y_test_pred)\n",
    "print(\"Train score:\", train_score)\n",
    "print(\"Test score:\", test_score)"
   ]
  },
  {
   "cell_type": "markdown",
   "metadata": {
    "id": "a9e00d61b71c"
   },
   "source": [
    "检查训练集和测试集上的 RMSE 错误。"
   ]
  },
  {
   "cell_type": "code",
   "execution_count": null,
   "metadata": {
    "id": "5e32f5bcd6b0"
   },
   "outputs": [],
   "source": [
    "# print train and test RMSEs\n",
    "train_error = mean_squared_error(y_train, y_train_pred, squared=False)\n",
    "test_error = mean_squared_error(y_test, y_test_pred, squared=False)\n",
    "print(\"Train error:\", train_error)\n",
    "print(\"Test error:\", test_error)"
   ]
  },
  {
   "cell_type": "markdown",
   "metadata": {
    "id": "18e4cf950007"
   },
   "source": [
    "将预测值绘制成目标值的图表。图表越接近通过原点且具有单位斜率的直线，模型越好。"
   ]
  },
  {
   "cell_type": "code",
   "execution_count": null,
   "metadata": {
    "id": "5bde609ba3f9"
   },
   "outputs": [],
   "source": [
    "# plot the train and test predictions\n",
    "plt.scatter(y_train, y_train_pred)\n",
    "plt.xlabel(\"Target\")\n",
    "plt.ylabel(\"Prediction\")\n",
    "plt.title(\"Train\")\n",
    "plt.show()\n",
    "plt.scatter(y_test, y_test_pred)\n",
    "plt.xlabel(\"Target\")\n",
    "plt.ylabel(\"Prediction\")\n",
    "plt.title(\"Test\")\n",
    "plt.show()"
   ]
  },
  {
   "cell_type": "markdown",
   "metadata": {
    "id": "cbbcd5de298f"
   },
   "source": [
    "保存模型\n",
    "<a name=\"section-8\"></a>\n",
    "\n",
    "将模型保存到一个booster文件中。"
   ]
  },
  {
   "cell_type": "code",
   "execution_count": null,
   "metadata": {
    "id": "0fdd760d9a74"
   },
   "outputs": [],
   "source": [
    "# save the trained model to a local file \"model.bst\"\n",
    "FILE_NAME = \"model.bst\"\n",
    "model.save_model(FILE_NAME)"
   ]
  },
  {
   "cell_type": "markdown",
   "metadata": {
    "id": "a83c6f381722"
   },
   "source": [
    "将模型复制到云存储桶"
   ]
  },
  {
   "cell_type": "code",
   "execution_count": null,
   "metadata": {
    "id": "81fa220c7fd4"
   },
   "outputs": [],
   "source": [
    "# Upload the saved model file to Cloud Storage\n",
    "BLOB_PATH = \"mfg_predictive_maintenance/\"\n",
    "BLOB_NAME = os.path.join(BLOB_PATH, FILE_NAME)\n",
    "bucket = storage.Client().bucket(BUCKET_URI[5:])\n",
    "blob = bucket.blob(BLOB_NAME)\n",
    "blob.upload_from_filename(FILE_NAME)"
   ]
  },
  {
   "cell_type": "markdown",
   "metadata": {
    "id": "4bd88d7f4bbb"
   },
   "source": [
    "## 使用执行器端到端运行笔记本\n",
    "<a name=\"section-9\"></a>\n",
    "\n",
    "**注意：**在 Vertex AI Workbench 上的托管实例上运行此笔记本时才考虑此部分。\n",
    "### 自动化笔记本执行\n",
    "到目前为止遵循的所有步骤都可以作为一个训练作业运行，而无需使用任何额外的代码，使用 Vertex AI Workbench 执行器。执行器可以帮助您选择环境、机器类型、输入参数和其他特征，在设置执行后，笔记本将作为 Vertex AI 自定义训练中的作业执行。您可以在左侧边栏的 Executor 面板中监视您的作业。\n",
    "\n",
    "<img src=\"images/executor.PNG\">\n",
    "\n",
    "执行器还可以让您在自动化运行时选择环境和机器类型，类似于 Vertex AI 训练作业，无需切换到训练作业用户界面。除了默认复制现有内核的自定义容器外，还可以选择预构建的环境，如 TensorFlow Enterprise、PyTorch 等来运行笔记本。可以通过从可用机器类型列表中选择来指定所需的计算能力，包括 GPU。\n",
    "\n",
    "### 在执行器上安排运行\n",
    "\n",
    "笔记本运行也可以使用执行器定期安排运行。为此，选择以基于计划的重复执行为运行类型，而不是一次性执行。创建执行时可以提供作业的频率和执行时间。\n",
    "\n",
    "<img src=\"https://storage.googleapis.com/gweb-cloudblog-publish/images/7_Vertex_AI_Workbench.max-1100x1100.jpg\">\n",
    "\n",
    "### 参数化变量\n",
    "\n",
    "执行器可以让您使用不同的输入参数集运行笔记本。如果在任何笔记本单元格中添加了参数标记，您可以将参数值传递给执行器。有关如何使用此功能的更多信息可以在[此博客](https://cloud.google.com/blog/products/ai-machine-learning/schedule-and-execute-notebooks-with-vertex-ai-workbench)中找到。 \n",
    "\n",
    "<img src=\"https://storage.googleapis.com/gweb-cloudblog-publish/images/6_Vertex_AI_Workbench.max-700x700.jpg\">"
   ]
  },
  {
   "cell_type": "markdown",
   "metadata": {
    "id": "57522cb1d5e7"
   },
   "source": [
    "## 在 Vertex AI 上托管模型\n",
    "<a name=\"section-10\"></a>\n",
    "\n",
    "### 创建一个模型资源\n",
    "\n",
    "可以使用 Vertex AI SDK 轻松部署在 Cloud Storage 中保存的模型。为此，首先创建一个模型资源。"
   ]
  },
  {
   "cell_type": "code",
   "execution_count": null,
   "metadata": {
    "id": "246206c9eedc"
   },
   "outputs": [],
   "source": [
    "ARTIFACT_GCS_PATH = f\"{BUCKET_URI}/{BLOB_PATH}\""
   ]
  },
  {
   "cell_type": "markdown",
   "metadata": {
    "id": "1aa75b3d4616"
   },
   "source": [
    "为Vertex AI模型资源指定一个显示名称。"
   ]
  },
  {
   "cell_type": "code",
   "execution_count": null,
   "metadata": {
    "id": "02ca350dba6c"
   },
   "outputs": [],
   "source": [
    "# Set the model-dsiplay-name\n",
    "MODEL_DISPLAY_NAME = \"[your-model-display-name]\"  # @param {type:\"string\"}\n",
    "\n",
    "# Otherwise, use the default name\n",
    "if (\n",
    "    MODEL_DISPLAY_NAME == \"[your-model-display-name]\"\n",
    "    or MODEL_DISPLAY_NAME is None\n",
    "    or MODEL_DISPLAY_NAME == \"\"\n",
    "):\n",
    "    MODEL_DISPLAY_NAME = \"pred_maint_model_\" + UUID\n",
    "\n",
    "print(MODEL_DISPLAY_NAME)"
   ]
  },
  {
   "cell_type": "code",
   "execution_count": null,
   "metadata": {
    "id": "49f1acde47e3"
   },
   "outputs": [],
   "source": [
    "# Create a Vertex AI model resource\n",
    "aiplatform.init(project=PROJECT_ID, location=REGION)\n",
    "\n",
    "model = aiplatform.Model.upload(\n",
    "    display_name=MODEL_DISPLAY_NAME,\n",
    "    artifact_uri=ARTIFACT_GCS_PATH,\n",
    "    serving_container_image_uri=\"us-docker.pkg.dev/vertex-ai/prediction/xgboost-cpu.1-1:latest\",\n",
    ")\n",
    "\n",
    "model.wait()\n",
    "\n",
    "print(model.display_name)\n",
    "print(model.resource_name)"
   ]
  },
  {
   "cell_type": "markdown",
   "metadata": {
    "id": "7784e605fe20"
   },
   "source": [
    "创建一个端点\n",
    "<a name=\"section-11\"></a>\n",
    "\n",
    "接下来，创建一个端点资源用于部署模型。"
   ]
  },
  {
   "cell_type": "code",
   "execution_count": null,
   "metadata": {
    "id": "e1e0cd571992"
   },
   "outputs": [],
   "source": [
    "# Set the endpoint-dsiplay-name\n",
    "ENDPOINT_DISPLAY_NAME = \"[your-endpoint-display-name]\"  # @param {type:\"string\"}\n",
    "\n",
    "# Otherwise, use the default name\n",
    "if (\n",
    "    ENDPOINT_DISPLAY_NAME == \"[your-endpoint-display-name]\"\n",
    "    or ENDPOINT_DISPLAY_NAME is None\n",
    "    or ENDPOINT_DISPLAY_NAME == \"\"\n",
    "):\n",
    "    ENDPOINT_DISPLAY_NAME = \"pred_maint_endpoint_\" + UUID\n",
    "\n",
    "print(ENDPOINT_DISPLAY_NAME)"
   ]
  },
  {
   "cell_type": "code",
   "execution_count": null,
   "metadata": {
    "id": "6ae2e3b9555e"
   },
   "outputs": [],
   "source": [
    "# Create the Endpoint resource\n",
    "endpoint = aiplatform.Endpoint.create(display_name=ENDPOINT_DISPLAY_NAME)\n",
    "\n",
    "print(endpoint.display_name)\n",
    "print(endpoint.resource_name)"
   ]
  },
  {
   "cell_type": "markdown",
   "metadata": {
    "id": "08128843a059"
   },
   "source": [
    "### 部署模型到创建的终结点\n",
    "<a name=\"section-12\"></a>\n",
    "\n",
    "配置以下参数并将模型部署到创建的终结点。\n",
    "\n",
    "- `endpoint`: 使用 Vertex AI SDK 创建的 `Endpoint` 对象。\n",
    "- `deployed_model_display_name`: 部署的显示名称。\n",
    "- `machine_type`: 部署环境所需的机器类型。请参阅[这里](https://cloud.google.com/vertex-ai/docs/predictions/configure-compute)了解更多信息。"
   ]
  },
  {
   "cell_type": "code",
   "execution_count": null,
   "metadata": {
    "id": "3c3e7597d233"
   },
   "outputs": [],
   "source": [
    "# deploy the model to the endpoint\n",
    "model.deploy(\n",
    "    endpoint=endpoint,\n",
    "    deployed_model_display_name=MODEL_DISPLAY_NAME + \"_deployment\",\n",
    "    machine_type=\"n1-standard-2\",\n",
    ")\n",
    "\n",
    "model.wait()\n",
    "\n",
    "print(model.display_name)\n",
    "print(model.resource_name)"
   ]
  },
  {
   "cell_type": "markdown",
   "metadata": {
    "id": "5d24eb85cf12"
   },
   "source": [
    "## 调用端点进行测试\n",
    "<a name=\"section-13\"></a>\n",
    "\n",
    "向部署的模型端点发送一些样本数据以获得预测结果。"
   ]
  },
  {
   "cell_type": "code",
   "execution_count": null,
   "metadata": {
    "id": "fb6b0fc29a16"
   },
   "outputs": [],
   "source": [
    "# get predictions on sample data\n",
    "instances = X_test.iloc[0:2].to_numpy().tolist()\n",
    "print(endpoint.predict(instances=instances).predictions)"
   ]
  },
  {
   "cell_type": "markdown",
   "metadata": {
    "id": "3cec4549f32c"
   },
   "source": [
    "清理\n",
    "<a name=\"section-14\"></a>\n",
    "\n",
    "要清理本项目中使用的所有Google Cloud资源，您可以[删除用于本教程的Google Cloud项目](https://cloud.google.com/resource-manager/docs/creating-managing-projects#shutting_down_projects)。\n",
    "\n",
    "否则，您可以删除本教程中创建的各个资源：\n",
    "* Vertex AI模型\n",
    "* Vertex AI端点\n",
    "* Cloud Storage存储桶\n",
    "\n",
    "将`delete_bucket`设置为**True**以删除Cloud Storage存储桶。"
   ]
  },
  {
   "cell_type": "code",
   "execution_count": null,
   "metadata": {
    "id": "737a7b8eb6d6"
   },
   "outputs": [],
   "source": [
    "# Undeploy all the models from the endpoint\n",
    "endpoint.undeploy_all()\n",
    "\n",
    "# Delete the endpoint resource\n",
    "endpoint.delete()\n",
    "\n",
    "# Delete the model resource\n",
    "model.delete()\n",
    "\n",
    "# Delete the Cloud Storage bucket\n",
    "delete_bucket = False\n",
    "if delete_bucket or os.getenv(\"IS_TESTING\"):\n",
    "    ! gsutil -m rm -r $BUCKET_URI"
   ]
  }
 ],
 "metadata": {
  "colab": {
   "name": "predictive_maintenance_usecase.ipynb",
   "toc_visible": true
  },
  "kernelspec": {
   "display_name": "Python 3",
   "name": "python3"
  }
 },
 "nbformat": 4,
 "nbformat_minor": 0
}
