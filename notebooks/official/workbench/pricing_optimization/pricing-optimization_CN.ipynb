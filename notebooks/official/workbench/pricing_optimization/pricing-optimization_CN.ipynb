{
 "cells": [
  {
   "cell_type": "code",
   "execution_count": null,
   "metadata": {
    "id": "d1cc1c1fa076"
   },
   "outputs": [],
   "source": [
    "# Copyright 2022 Google LLC\n",
    "#\n",
    "# Licensed under the Apache License, Version 2.0 (the \"License\");\n",
    "# you may not use this file except in compliance with the License.\n",
    "# You may obtain a copy of the License at\n",
    "#\n",
    "#     https://www.apache.org/licenses/LICENSE-2.0\n",
    "#\n",
    "# Unless required by applicable law or agreed to in writing, software\n",
    "# distributed under the License is distributed on an \"AS IS\" BASIS,\n",
    "# WITHOUT WARRANTIES OR CONDITIONS OF ANY KIND, either express or implied.\n",
    "# See the License for the specific language governing permissions and\n",
    "# limitations under the License."
   ]
  },
  {
   "cell_type": "markdown",
   "metadata": {
    "id": "9751bc48dbcb"
   },
   "source": [
    "# CDM Pricing Data的定价优化分析\n",
    "\n",
    "<table align=\"left\">\n",
    "\n",
    "  <td>\n",
    "    <a href=\"https://colab.research.google.com/github/GoogleCloudPlatform/vertex-ai-samples/blob/main/notebooks/official/workbench/pricing_optimization/pricing-optimization.ipynb\">\n",
    "      <img src=\"https://cloud.google.com/ml-engine/images/colab-logo-32px.png\" alt=\"Colab logo\"> 在Colab中运行\n",
    "    </a>\n",
    "  </td>\n",
    "  <td>\n",
    "    <a href=\"https://github.com/GoogleCloudPlatform/vertex-ai-samples/blob/main/notebooks/official/workbench/pricing_optimization/pricing-optimization.ipynb\">\n",
    "      <img src=\"https://cloud.google.com/ml-engine/images/github-logo-32px.png\" alt=\"GitHub logo\">\n",
    "      在GitHub上查看\n",
    "    </a>\n",
    "  </td>\n",
    "  <td>\n",
    "    <a href=\"https://console.cloud.google.com/vertex-ai/workbench/deploy-notebook?download_url=https://raw.githubusercontent.com/GoogleCloudPlatform/vertex-ai-samples/main/notebooks/official/workbench/pricing_optimization/pricing-optimization.ipynb\">\n",
    "      <img src=\"https://lh3.googleusercontent.com/UiNooY4LUgW_oTvpsNhPpQzsstV5W8F7rYgxgGBD85cWJoLmrOzhVs_ksK_vgx40SHs7jCqkTkCk=e14-rj-sc0xffffff-h130-w32\" alt=\"Vertex AI logo\">\n",
    "      在Vertex AI Workbench中打开\n",
    "    </a>\n",
    "  </td>                                                                                               \n",
    "</table>"
   ]
  },
  {
   "cell_type": "markdown",
   "metadata": {
    "id": "cd1268747961"
   },
   "source": [
    "## 目录\n",
    "* [概述](#section-1)\n",
    "* [目标](#section-2)\n",
    "* [数据集](#section-3)\n",
    "* [成本](#section-4)\n",
    "* [创建一个BigQuery数据集](#section-5)\n",
    "* [从Cloud Storage加载数据集](#section-6)\n",
    "* [数据分析](#section-7)\n",
    "* [为训练准备数据](#section-8)\n",
    "* [使用BigQuery ML训练模型](#section-9)\n",
    "* [从模型生成预测](#section-10)\n",
    "* [解释结果以选择最佳价格](#section-11)\n",
    "* [清理](#section-12)"
   ]
  },
  {
   "cell_type": "markdown",
   "metadata": {
    "id": "8414ceb17c47"
   },
   "source": [
    "## 概述\n",
    "<a name=\"section-1\"></a>\n",
    "\n",
    "本笔记本演示了对[CDM定价数据](https://github.com/trifacta/trifacta-google-cloud/tree/main/design-pattern-pricing-optimization)进行定价优化分析，并使用Vertex AI Workbench托管的笔记本自动化工作流程。\n",
    "\n",
    "*注：此笔记本文件是为在[Vertex AI Workbench托管的笔记本](https://console.cloud.google.com/vertex-ai/workbench/list/managed)实例中使用Python（本地）内核而开发的。本笔记本的某些组件可能在其他笔记本环境中无法运行。*\n",
    "\n",
    "了解更多关于[Vertex AI Workbench](https://cloud.google.com/vertex-ai/docs/workbench/introduction)和[BigQuery ML](https://cloud.google.com/vertex-ai/docs/beginner/bqml#machine_learning_directly_in)。"
   ]
  },
  {
   "cell_type": "markdown",
   "metadata": {
    "id": "71f69cfdff2b"
   },
   "source": [
    "### 目标\n",
    "<a name=\"section-2\"></a>\n",
    "\n",
    "本笔记本的目标是使用BigQuery ML构建定价优化模型。已按照以下步骤进行操作：\n",
    "\n",
    "本教程使用以下Google Cloud ML服务和资源：\n",
    "\n",
    "- Google Cloud Storage\n",
    "- BigQuery\n",
    "\n",
    "执行的步骤包括：\n",
    "\n",
    "- 从Cloud Storage存储桶加载所需数据集。\n",
    "- 分析数据集中的字段。\n",
    "- 处理数据以构建模型。\n",
    "- 在处理后的数据上构建BigQuery ML预测模型。\n",
    "- 从BigQuery ML模型中获取预测值。\n",
    "- 解释预测结果以确定最佳价格。\n",
    "- 清理。"
   ]
  },
  {
   "cell_type": "markdown",
   "metadata": {
    "id": "d20422a5c34d"
   },
   "source": [
    "### 数据集\n",
    "<a name=\"section-3\"></a>\n",
    "\n",
    "本笔记本中使用的数据集是[CDM定价数据集](https://github.com/trifacta/trifacta-google-cloud/blob/main/design-pattern-pricing-optimization/CDM_Pricing_large_table.csv)的一部分，其中包含指定日期的产品销售信息。"
   ]
  },
  {
   "cell_type": "markdown",
   "metadata": {
    "id": "c05bcd30859d"
   },
   "source": [
    "### 费用\n",
    "<a name=\"section-4\"></a>\n",
    "\n",
    "该教程使用 Google Cloud 的以下计费组件：\n",
    "\n",
    "- Vertex AI\n",
    "- BigQuery\n",
    "- Cloud Storage\n",
    "\n",
    "了解关于 [Vertex AI 价格](https://cloud.google.com/vertex-ai/pricing), [BigQuery 价格](https://cloud.google.com/bigquery/pricing) 和 [Cloud Storage 价格](https://cloud.google.com/storage/pricing)，并使用 [价格计算器](https://cloud.google.com/products/calculator/) 根据您的预期使用量生成费用估算。"
   ]
  },
  {
   "cell_type": "markdown",
   "metadata": {
    "id": "2bed1491312f"
   },
   "source": [
    "### 安装额外的软件包"
   ]
  },
  {
   "cell_type": "code",
   "execution_count": null,
   "metadata": {
    "id": "25fffcad67f0"
   },
   "outputs": [],
   "source": [
    "! pip3 install --quiet --upgrade pandas-gbq 'google-cloud-bigquery[bqstorage,pandas]' seaborn fsspec gcsfs\n"
   ]
  },
  {
   "cell_type": "markdown",
   "metadata": {
    "id": "e9255e3b156f"
   },
   "source": [
    "### 仅限Colab：取消注释以下单元格以重新启动内核"
   ]
  },
  {
   "cell_type": "code",
   "execution_count": null,
   "metadata": {
    "id": "0c0b2427998a"
   },
   "outputs": [],
   "source": [
    "# Automatically restart kernel after installs so that your environment can access the new packages\n",
    "# import IPython\n",
    "\n",
    "# app = IPython.Application.instance()\n",
    "# app.kernel.do_shutdown(True)"
   ]
  },
  {
   "cell_type": "markdown",
   "metadata": {
    "id": "435b8e413535"
   },
   "source": [
    "### 开始之前\n",
    "\n",
    "#### 设置您的项目ID\n",
    "\n",
    "**如果您不知道您的项目ID**，请尝试以下方法：\n",
    "- 运行 `gcloud config list`\n",
    "- 运行 `gcloud projects list`\n",
    "- 查阅支持页面：[查找项目ID](https://support.google.com/googleapi/answer/7014113)"
   ]
  },
  {
   "cell_type": "code",
   "execution_count": null,
   "metadata": {
    "id": "be175254a715"
   },
   "outputs": [],
   "source": [
    "PROJECT_ID = \"[your-project-id]\"  # @param {type:\"string\"}\n",
    "\n",
    "# set the project id\n",
    "! gcloud config set project $PROJECT_ID"
   ]
  },
  {
   "cell_type": "markdown",
   "metadata": {
    "id": "2e6b8b324ce1"
   },
   "source": [
    "#### 区域\n",
    "\n",
    "您还可以更改 Vertex AI 使用的“REGION”变量。\n",
    "了解有关[Vertex AI 区域](https://cloud.google.com/vertex-ai/docs/general/locations)的更多信息。"
   ]
  },
  {
   "cell_type": "code",
   "execution_count": null,
   "metadata": {
    "id": "ae43d96c4b1b"
   },
   "outputs": [],
   "source": [
    "REGION = \"[your-region]\"  # @param {type: \"string\"}"
   ]
  },
  {
   "cell_type": "markdown",
   "metadata": {
    "id": "6c43a8673066"
   },
   "source": [
    "### 对您的Google Cloud帐户进行身份验证\n",
    "\n",
    "根据您的Jupyter环境，您可能需要手动进行身份验证。请按照以下相关说明进行操作。\n",
    "\n",
    "**1. Vertex AI Workbench**\n",
    "- 无需操作，因为您已经验证过了。\n",
    "\n",
    "**2. 本地JupyterLab实例，** 请取消注释并运行。"
   ]
  },
  {
   "cell_type": "code",
   "execution_count": null,
   "metadata": {
    "id": "fbc9cd30cc4b"
   },
   "outputs": [],
   "source": [
    "# ! gcloud auth login"
   ]
  },
  {
   "cell_type": "markdown",
   "metadata": {
    "id": "cd0da2c26879"
   },
   "source": [
    "3. 协作，取消注释并运行："
   ]
  },
  {
   "cell_type": "code",
   "execution_count": null,
   "metadata": {
    "id": "a336a05c6149"
   },
   "outputs": [],
   "source": [
    "# from google.colab import auth\n",
    "# auth.authenticate_user()"
   ]
  },
  {
   "cell_type": "markdown",
   "metadata": {
    "id": "0461097edfa5"
   },
   "source": [
    "4. 服务账号或其他\n",
    "- 在这里查看所有身份验证选项：[Google Cloud Platform Jupyter Notebook身份验证指南](https://github.com/GoogleCloudPlatform/vertex-ai-samples/blob/main/notebooks/notebook_authentication_guide.ipynb)"
   ]
  },
  {
   "cell_type": "markdown",
   "metadata": {
    "id": "06571eb4063b"
   },
   "source": [
    "UUID\n",
    "\n",
    "如果您正在参加一次实时教程会话，您可能会使用一个共享的测试帐户或项目。为了避免在创建的资源上的用户名称冲突，您为每个实例会话创建一个uuid，并将其附加到您在本教程中创建的资源名称上。"
   ]
  },
  {
   "cell_type": "code",
   "execution_count": null,
   "metadata": {
    "id": "697568e92bd6"
   },
   "outputs": [],
   "source": [
    "import random\n",
    "import string\n",
    "\n",
    "\n",
    "# Generate a uuid of a specifed length(default=8)\n",
    "def generate_uuid(length: int = 8) -> str:\n",
    "    return \"\".join(random.choices(string.ascii_lowercase + string.digits, k=length))\n",
    "\n",
    "\n",
    "UUID = generate_uuid()"
   ]
  },
  {
   "cell_type": "markdown",
   "metadata": {
    "id": "2a1c270c7d34"
   },
   "source": [
    "###导入必要的库并定义常量"
   ]
  },
  {
   "cell_type": "code",
   "execution_count": null,
   "metadata": {
    "id": "acc6fac1fa55"
   },
   "outputs": [],
   "source": [
    "import matplotlib.pyplot as plt\n",
    "import pandas as pd\n",
    "import seaborn as sns\n",
    "from google.cloud import bigquery\n",
    "from google.cloud.bigquery import Client"
   ]
  },
  {
   "cell_type": "markdown",
   "metadata": {
    "id": "3d5ff24d3194"
   },
   "source": [
    "#### 设置BigQuery数据集ID和表ID"
   ]
  },
  {
   "cell_type": "code",
   "execution_count": null,
   "metadata": {
    "id": "a06006dff8f9"
   },
   "outputs": [],
   "source": [
    "DATASET = \"pricing_optimization\" + \"_\" + UUID  # set the BigQuery dataset-id\n",
    "TRAINING_DATA_TABLE = (\n",
    "    \"training_data_table\"  # set the BigQuery table-id to store the training data\n",
    ")"
   ]
  },
  {
   "cell_type": "markdown",
   "metadata": {
    "id": "016c3d47cc69"
   },
   "source": [
    "创建一个BigQuery数据集\n",
    "<a name=\"section-5\"></a>"
   ]
  },
  {
   "cell_type": "markdown",
   "metadata": {
    "id": "3a063f530682"
   },
   "source": [
    "如果您正在使用***Vertex AI Workbench受管笔记本实例***，每个以“#@bigquery”开头的单元格将是一个SQL查询。如果您正在使用Vertex AI Workbench用户管理的笔记本实例或Colab，则它将是一个Markdown单元格。"
   ]
  },
  {
   "cell_type": "markdown",
   "metadata": {
    "id": "12ccd8d7956e"
   },
   "source": [
    "#@bigquery\n",
    "-- 在BigQuery中创建一个数据集\n",
    "\n",
    "创建模式[您的数据集ID]\n",
    "选项(\n",
    "  位置=\"us\"\n",
    "  )"
   ]
  },
  {
   "cell_type": "code",
   "execution_count": null,
   "metadata": {
    "id": "00bd69008c92"
   },
   "outputs": [],
   "source": [
    "# Construct a BigQuery client object.\n",
    "client = Client(project=PROJECT_ID)"
   ]
  },
  {
   "cell_type": "code",
   "execution_count": null,
   "metadata": {
    "id": "5f7acd204413"
   },
   "outputs": [],
   "source": [
    "query = \"\"\"\n",
    "CREATE SCHEMA {DATASET}\n",
    "OPTIONS(\n",
    "  location=\"us\"\n",
    "  )\n",
    "\"\"\".format(\n",
    "    DATASET=DATASET\n",
    ")\n",
    "query_job = client.query(query)\n",
    "print(query_job.result())"
   ]
  },
  {
   "cell_type": "markdown",
   "metadata": {
    "id": "c106b978a79b"
   },
   "source": [
    "## 从云存储加载BigQuery表格\n",
    "<a name=\"section-6\"></a>"
   ]
  },
  {
   "cell_type": "code",
   "execution_count": null,
   "metadata": {
    "id": "4e8d73657382"
   },
   "outputs": [],
   "source": [
    "table_id_name = f\"{PROJECT_ID}.{DATASET}.data\""
   ]
  },
  {
   "cell_type": "code",
   "execution_count": null,
   "metadata": {
    "id": "9592fa5370c4"
   },
   "outputs": [],
   "source": [
    "table_id = \"data\""
   ]
  },
  {
   "cell_type": "code",
   "execution_count": null,
   "metadata": {
    "id": "6a93b9314646"
   },
   "outputs": [],
   "source": [
    "job_config = bigquery.LoadJobConfig(\n",
    "    autodetect=True,\n",
    "    skip_leading_rows=1,\n",
    "    # The source format defaults to CSV, so the line below is optional.\n",
    "    source_format=bigquery.SourceFormat.CSV,\n",
    ")\n",
    "uri = \"gs://cloud-samples-data/ai-platform-unified/datasets/tabular/cdm_pricing_large_table.csv\"\n",
    "\n",
    "load_job = client.load_table_from_uri(\n",
    "    uri, table_id_name, job_config=job_config\n",
    ")  # Make an API request.\n",
    "\n",
    "load_job.result()  # Waits for the job to complete.\n",
    "\n",
    "destination_table = client.get_table(table_id_name)  # Make an API request.\n",
    "print(\"Loaded {} rows.\".format(destination_table.num_rows))"
   ]
  },
  {
   "cell_type": "markdown",
   "metadata": {
    "id": "7b98d5f09842"
   },
   "source": [
    "你会根据这些数据建立一个预测模型，从而确定产品的最佳价格。对于这种类型的模型，你不会使用很多字段：只有销售和与价格相关的字段。针对当前的练习，重点关注以下字段：\n",
    "\n",
    "- `产品ID`\n",
    "- `客户层次`\n",
    "- `财政日期`\n",
    "- `列表价格收敛`\n",
    "- `发票数量（件）`\n",
    "- `净销售额`\n",
    "\n",
    "## 数据分析\n",
    "\n",
    "首先，探索数据和分布情况。\n",
    "\n",
    "#### 从数据框中选择所需的列。"
   ]
  },
  {
   "cell_type": "code",
   "execution_count": null,
   "metadata": {
    "id": "af4b41c5eb1f"
   },
   "outputs": [],
   "source": [
    "id_col = \"Product_ID\"\n",
    "date_col = \"Fiscal_Date\"\n",
    "categ_cols = [\"Customer_Hierarchy\"]\n",
    "num_cols = [\"List_Price_Converged\", \"Invoiced_quantity_in_Pieces\", \"Net_Sales\"]\n",
    "required_columns = [id_col] + [date_col] + categ_cols + num_cols\n",
    "required_columns"
   ]
  },
  {
   "cell_type": "markdown",
   "metadata": {
    "id": "c2d25505947c"
   },
   "source": [
    "创建一个视图，只提取所需的列"
   ]
  },
  {
   "cell_type": "code",
   "execution_count": null,
   "metadata": {
    "id": "8b96f7f20797"
   },
   "outputs": [],
   "source": [
    "query = \"\"\"\n",
    "    CREATE OR REPLACE TABLE {DATASET}.required_columns AS\n",
    "    ( SELECT Product_ID,Fiscal_Date,Customer_Hierarchy,List_Price_Converged,Invoiced_quantity_in_Pieces,Net_Sales FROM `{DATASET}.{table_id}` )\n",
    "    \n",
    "\"\"\".format(\n",
    "    DATASET=DATASET, table_id=table_id\n",
    ")\n",
    "\n",
    "query_job = client.query(query)  # Make an API request.\n",
    "print(query_job.result())"
   ]
  },
  {
   "cell_type": "markdown",
   "metadata": {
    "id": "21ec9e50ba23"
   },
   "source": [
    "查看视图中存储的数据"
   ]
  },
  {
   "cell_type": "code",
   "execution_count": null,
   "metadata": {
    "id": "bcd377aaed16"
   },
   "outputs": [],
   "source": [
    "query = \"\"\"\n",
    "    SELECT * FROM {DATASET}.required_columns \n",
    "    \n",
    "\"\"\".format(\n",
    "    DATASET=DATASET\n",
    ")\n",
    "\n",
    "query_job = client.query(query)  # Make an API request.\n",
    "print(query_job.result())"
   ]
  },
  {
   "cell_type": "code",
   "execution_count": null,
   "metadata": {
    "id": "1e59ad4e0c30"
   },
   "outputs": [],
   "source": [
    "query_job.to_dataframe()"
   ]
  },
  {
   "cell_type": "markdown",
   "metadata": {
    "id": "3d780043ee5b"
   },
   "source": [
    "检查数据框中的列类型和空值。"
   ]
  },
  {
   "cell_type": "code",
   "execution_count": null,
   "metadata": {
    "id": "f54c445a1288"
   },
   "outputs": [],
   "source": [
    "query_job.to_dataframe().info()"
   ]
  },
  {
   "cell_type": "markdown",
   "metadata": {
    "id": "cd817b414c4d"
   },
   "source": [
    "这些数据描述显示数据中没有空值。此外，日期字段“Fiscal_Date”被加载为对象类型。\n",
    "\n",
    "#### 将日期字段的类型更改为datetime。"
   ]
  },
  {
   "cell_type": "markdown",
   "metadata": {
    "id": "ae528c679547"
   },
   "source": [
    "将Fiscal_Date数据类型从datetime更改为date，并将生成的整个数据存储在视图中。"
   ]
  },
  {
   "cell_type": "code",
   "execution_count": null,
   "metadata": {
    "id": "7391f2e0ca48"
   },
   "outputs": [],
   "source": [
    "query = \"\"\"\n",
    "CREATE OR REPLACE VIEW {DATASET}.required_columns_final AS\n",
    "(\n",
    "SELECT Product_ID,Customer_Hierarchy,List_Price_Converged,Invoiced_quantity_in_Pieces,Net_Sales,CAST(DATE(Fiscal_Date) AS DATE) AS Fiscal_Date FROM {DATASET}.required_columns    \n",
    ")\n",
    "\"\"\".format(\n",
    "    DATASET=DATASET\n",
    ")\n",
    "\n",
    "query_job = client.query(query)  # Make an API request.\n",
    "print(query_job.result())"
   ]
  },
  {
   "cell_type": "markdown",
   "metadata": {
    "id": "0c4f4ac078fb"
   },
   "source": [
    "查看required_columns_final视图中的数据"
   ]
  },
  {
   "cell_type": "code",
   "execution_count": null,
   "metadata": {
    "id": "c0c044768ff8"
   },
   "outputs": [],
   "source": [
    "query = \"\"\"\n",
    "SELECT * FROM {DATASET}.required_columns_final\n",
    "\n",
    "\"\"\".format(\n",
    "    DATASET=DATASET\n",
    ")\n",
    "\n",
    "query_job = client.query(query)  # Make an API request.\n",
    "print(query_job.result())"
   ]
  },
  {
   "cell_type": "code",
   "execution_count": null,
   "metadata": {
    "id": "2a18b844eb1d"
   },
   "outputs": [],
   "source": [
    "required_columns_final_df = query_job.to_dataframe()"
   ]
  },
  {
   "cell_type": "code",
   "execution_count": null,
   "metadata": {
    "id": "4b1ba7de05fb"
   },
   "outputs": [],
   "source": [
    "required_columns_final_df"
   ]
  },
  {
   "cell_type": "markdown",
   "metadata": {
    "id": "fb4778578064"
   },
   "source": [
    "绘制分类字段的分布。"
   ]
  },
  {
   "cell_type": "code",
   "execution_count": null,
   "metadata": {
    "id": "6e9d007b1f5c"
   },
   "outputs": [],
   "source": [
    "for i in categ_cols:\n",
    "    required_columns_final_df[i].value_counts(normalize=True).plot(kind=\"bar\")\n",
    "    plt.title(i)\n",
    "    plt.show()"
   ]
  },
  {
   "cell_type": "markdown",
   "metadata": {
    "id": "145deed255e0"
   },
   "source": [
    "#### 绘制数值字段的分布。"
   ]
  },
  {
   "cell_type": "code",
   "execution_count": null,
   "metadata": {
    "id": "decb758d57dd"
   },
   "outputs": [],
   "source": [
    "for i in num_cols:\n",
    "    _, ax = plt.subplots(1, 2, figsize=(10, 4))\n",
    "    required_columns_final_df[i].plot(kind=\"box\", ax=ax[0])\n",
    "    required_columns_final_df[i].plot(kind=\"hist\", ax=ax[1])\n",
    "    ax[0].set_title(i + \"-Boxplot\")\n",
    "    ax[1].set_title(i + \"-Histogram\")\n",
    "    plt.show()"
   ]
  },
  {
   "cell_type": "markdown",
   "metadata": {
    "id": "f9b9c2e58380"
   },
   "source": [
    "检查Fiscal_Date列中的最大日期和最小日期。"
   ]
  },
  {
   "cell_type": "code",
   "execution_count": null,
   "metadata": {
    "id": "db9256b17109"
   },
   "outputs": [],
   "source": [
    "print(required_columns_final_df[\"Fiscal_Date\"].max())\n",
    "print(required_columns_final_df[\"Fiscal_Date\"].min())"
   ]
  },
  {
   "cell_type": "markdown",
   "metadata": {
    "id": "4834f63e2e59"
   },
   "source": [
    "检查每个类别的产品分布。"
   ]
  },
  {
   "cell_type": "code",
   "execution_count": null,
   "metadata": {
    "id": "0cd7662b34e8"
   },
   "outputs": [],
   "source": [
    "query = \"\"\"\n",
    "SELECT Customer_Hierarchy,COUNT(*) as count FROM (SELECT Customer_Hierarchy,Product_ID FROM {DATASET}.required_columns_final GROUP BY Customer_Hierarchy,Product_ID) GROUP BY  Customer_Hierarchy\n",
    "\"\"\".format(\n",
    "    DATASET=DATASET\n",
    ")\n",
    "query_job = client.query(query)\n",
    "print(query_job.result())"
   ]
  },
  {
   "cell_type": "code",
   "execution_count": null,
   "metadata": {
    "id": "fe44a3318678"
   },
   "outputs": [],
   "source": [
    "query_job.to_dataframe()"
   ]
  },
  {
   "cell_type": "markdown",
   "metadata": {
    "id": "01ed02b9c8fd"
   },
   "source": [
    "根据价格百分比变化检查订单的百分比变化。"
   ]
  },
  {
   "cell_type": "markdown",
   "metadata": {
    "id": "8d15f712edf2"
   },
   "source": [
    "您可以根据价格的百分比变化来检查订单中的百分比变化，遵循三个步骤。\n",
    "\n",
    "**步骤1**。首先，您要创建一张表，每当产品的价格发生变化时，表格中就会新增一行，包括关于这种特定产品价格的信息，例如每种价格订单了多少件商品以及与该价格关联的总净销售额。"
   ]
  },
  {
   "cell_type": "code",
   "execution_count": null,
   "metadata": {
    "id": "bb697268c17b"
   },
   "outputs": [],
   "source": [
    "query = \"\"\"\n",
    "create table {DATASET}.price_changes as (\n",
    "select\n",
    "       product_id,\n",
    "       list_price_converged,\n",
    "       total_ordered_pieces,\n",
    "       total_net_sales,\n",
    "       first_price_date,\n",
    "       lag(list_price_converged) over(partition by product_id order by first_price_date asc) as previous_list,\n",
    "       lag(total_ordered_pieces) over(partition by product_id order by first_price_date asc) as previous_total_ordered_pieces,\n",
    "       lag(total_net_sales) over(partition by product_id order by first_price_date asc) as previous_total_net_sales,\n",
    "       lag(first_price_date) over(partition by product_id order by first_price_date asc) as previous_first_price_date,\n",
    "       \n",
    "       \n",
    "       from (\n",
    "           select\n",
    "               product_id,list_price_converged,sum(invoiced_quantity_in_pieces) as total_ordered_pieces, sum(net_sales) as total_net_sales, min(fiscal_date) as first_price_date\n",
    "           from `{DATASET}.required_columns_final` AS cdm_pricing\n",
    "           group by 1,2\n",
    "           order by 1, 2 asc\n",
    "       )\n",
    ");\n",
    "\n",
    "\"\"\".format(\n",
    "    DATASET=DATASET\n",
    ")\n",
    "query_job = client.query(query)\n",
    "print(query_job.result())"
   ]
  },
  {
   "cell_type": "code",
   "execution_count": null,
   "metadata": {
    "id": "e35666281164"
   },
   "outputs": [],
   "source": [
    "query = \"\"\"\n",
    "select * from {DATASET}.price_changes order by product_id, first_price_date \n",
    "\"\"\".format(\n",
    "    DATASET=DATASET\n",
    ")\n",
    "query_job = client.query(query)\n",
    "print(query_job.result())"
   ]
  },
  {
   "cell_type": "code",
   "execution_count": null,
   "metadata": {
    "id": "6008013af710"
   },
   "outputs": [],
   "source": [
    "df_price_changes = query_job.to_dataframe()"
   ]
  },
  {
   "cell_type": "code",
   "execution_count": null,
   "metadata": {
    "id": "bbd7cb770cab"
   },
   "outputs": [],
   "source": [
    "df_price_changes"
   ]
  },
  {
   "cell_type": "markdown",
   "metadata": {
    "id": "ebcb87feecaa"
   },
   "source": [
    "**步骤2**。接下来，在临时表准备好后，您可以计算不同SKU之间的价格变化\n",
    "\n",
    "(之前的价格清单 - 收敛价格清单)/nullif(之前的价格清单,0)*100\n",
    "\n",
    "**步骤3**。接下来，您可以计算不同SKU之间的总订单件数变化\n",
    "(总订单件数 - 之前的总订单件数)/nullif(之前的总订单件数,0)*100"
   ]
  },
  {
   "cell_type": "code",
   "execution_count": null,
   "metadata": {
    "id": "a68a5258ec78"
   },
   "outputs": [],
   "source": [
    "query = \"\"\"\n",
    "select *,(list_price_converged-previous_list)/nullif(previous_list,0)*100 as price_change_perc,(total_ordered_pieces-previous_total_ordered_pieces)/nullif(previous_total_ordered_pieces,0)*100 as order_change_perc  from `{DATASET}.price_changes`\n",
    "\"\"\".format(\n",
    "    DATASET=DATASET\n",
    ")\n",
    "query_job = client.query(query)\n",
    "print(query_job.result())"
   ]
  },
  {
   "cell_type": "markdown",
   "metadata": {
    "id": "e7377794e288"
   },
   "source": [
    "现在您有一个数据框(df_for_plot)，其中包含price_change_perc和order_change_perc字段。"
   ]
  },
  {
   "cell_type": "code",
   "execution_count": null,
   "metadata": {
    "id": "a75bebfb83ea"
   },
   "outputs": [],
   "source": [
    "df_for_plot = query_job.to_dataframe()"
   ]
  },
  {
   "cell_type": "code",
   "execution_count": null,
   "metadata": {
    "id": "ee24c3ea8067"
   },
   "outputs": [],
   "source": [
    "# sort values chronologically\n",
    "df_for_plot.sort_values(by=[\"product_id\", \"first_price_date\"], inplace=True)\n",
    "df_for_plot.reset_index(drop=True, inplace=True)"
   ]
  },
  {
   "cell_type": "code",
   "execution_count": null,
   "metadata": {
    "id": "f20bc3d598b5"
   },
   "outputs": [],
   "source": [
    "df_for_plot"
   ]
  },
  {
   "cell_type": "markdown",
   "metadata": {
    "id": "7ae3e75de755"
   },
   "source": [
    "最后，您可以通过分析价格改变后每次价格变动和已订购物品总数之间的关系来了解发生了什么。"
   ]
  },
  {
   "cell_type": "code",
   "execution_count": null,
   "metadata": {
    "id": "84123a5c3581"
   },
   "outputs": [],
   "source": [
    "# plot a scatterplot to visualize the changes\n",
    "sns.scatterplot(\n",
    "    x=\"price_change_perc\",\n",
    "    y=\"order_change_perc\",\n",
    "    data=df_for_plot,\n",
    "    hue=\"product_id\",\n",
    "    legend=False,\n",
    ")\n",
    "plt.title(\"Percentage of change in price vs order\")\n",
    "plt.show()"
   ]
  },
  {
   "cell_type": "markdown",
   "metadata": {
    "id": "8259e916fe25"
   },
   "source": [
    "对于大多数产品，订单数量的百分比变化较高，而价格的百分比变化较低。这表明价格的变化过大可能会影响订单数量。\n",
    "\n",
    "**注意**：数据中似乎存在一些异常值，百分比变化超过800。在当前练习中，不要采取任何手动措施处理异常值，因为您将创建一个已处理异常值的BigQuery ML时间序列模型。\n",
    "\n",
    "## 为训练数据进行预处理\n",
    "#### 检查哪些`Product_ID`的订单数量最多。"
   ]
  },
  {
   "cell_type": "markdown",
   "metadata": {
    "id": "fad58b6d45a4"
   },
   "source": [
    "创建一个视图，根据客户层次结构，存储每种产品的订单数量。"
   ]
  },
  {
   "cell_type": "code",
   "execution_count": null,
   "metadata": {
    "id": "aa49377d094b"
   },
   "outputs": [],
   "source": [
    "query = \"\"\"\n",
    "CREATE OR REPLACE VIEW {DATASET}.total_orders AS\n",
    "(\n",
    "SELECT Customer_Hierarchy,Product_ID,SUM(Invoiced_quantity_in_Pieces) AS Invoiced_quantity_in_Pieces FROM {DATASET}.required_columns_final GROUP BY Customer_Hierarchy,Product_ID\n",
    "\n",
    ")\n",
    "\"\"\".format(\n",
    "    DATASET=DATASET\n",
    ")\n",
    "query_job = client.query(query)\n",
    "print(query_job.result())"
   ]
  },
  {
   "cell_type": "code",
   "execution_count": null,
   "metadata": {
    "id": "5da1f11a5657"
   },
   "outputs": [],
   "source": [
    "query = \"\"\"\n",
    "SELECT * FROM {DATASET}.total_orders\"\"\".format(\n",
    "    DATASET=DATASET\n",
    ")\n",
    "query_job = client.query(query)\n",
    "print(query_job.result())"
   ]
  },
  {
   "cell_type": "code",
   "execution_count": null,
   "metadata": {
    "id": "744d00c87cf3"
   },
   "outputs": [],
   "source": [
    "# sort values chronologically\n",
    "df_total_orders = query_job.to_dataframe()\n",
    "df_total_orders.sort_values(by=[\"Product_ID\"], inplace=True)\n",
    "df_total_orders.reset_index(drop=True, inplace=True)"
   ]
  },
  {
   "cell_type": "code",
   "execution_count": null,
   "metadata": {
    "id": "4412df821ad0"
   },
   "outputs": [],
   "source": [
    "df_total_orders"
   ]
  },
  {
   "cell_type": "markdown",
   "metadata": {
    "id": "4179bec4c5ec"
   },
   "source": [
    "#### 选择每个客户层次结构中的顶级产品\n",
    "\n",
    "以下是一个示例，展示如何找出每个客户层次结构中的顶级产品\n",
    "\n",
    "示例：\n",
    "假设首先总订单视图如下：\n",
    "\n",
    "<table>\n",
    "    <tr>\n",
    "        <th>\n",
    "            Customer_Hierarchy\n",
    "        </th>\n",
    "        <th> \n",
    "            Invoiced_quantity_in_Pieces\n",
    "        </th>\n",
    "        <th> \n",
    "            Product_ID\n",
    "        </th>\n",
    "    </tr>    \n",
    "    <tr> \n",
    "        <td>食品</td>                 \n",
    "        <td>200</td>                       \n",
    "        <td>1</td> \n",
    "    </tr>\n",
    "    <tr> \n",
    "        <td>纸张</td>                 \n",
    "        <td>100</td>                       \n",
    "        <td>2</td> \n",
    "    </tr>\n",
    "    <tr> \n",
    "        <td>食品</td>                 \n",
    "        <td>300</td>                       \n",
    "        <td>3</td> \n",
    "    </tr>\n",
    "    <tr> \n",
    "        <td>纸张</td>                 \n",
    "        <td>400</td>                       \n",
    "        <td>4</td> \n",
    "    </tr>\n",
    "   \n",
    "</table>    \n",
    "\n",
    "首先我们按照Customer_Hierarchy对total_orders视图进行分区，并按照Invoiced_quantity_in_Pieces降序排序。\n",
    "应用分区后变为：\n",
    "\n",
    "<table>\n",
    "    <tr>\n",
    "        <th>\n",
    "            Customer_Hierarchy\n",
    "        </th>\n",
    "        <th> \n",
    "            Invoiced_quantity_in_Pieces\n",
    "        </th>\n",
    "        <th> \n",
    "            Product_ID\n",
    "        </th>\n",
    "    </tr>    \n",
    "    <tr> \n",
    "        <td>食品</td>                 \n",
    "        <td>300</td>                       \n",
    "        <td>3</td> \n",
    "    </tr>\n",
    "    <tr> \n",
    "        <td>食品</td>                 \n",
    "        <td>200</td>                       \n",
    "        <td>1</td> \n",
    "    </tr>\n",
    "    <tr> \n",
    "        <td>纸张</td>                 \n",
    "        <td>100</td>                       \n",
    "        <td>2</td> \n",
    "    </tr>\n",
    "    <tr> \n",
    "        <td>纸张</td>                 \n",
    "        <td>400</td>                       \n",
    "        <td>4</td> \n",
    "    </tr>\n",
    "</table>   \n",
    "\n",
    "现在对于每个Customer_Hierarchy，Invoiced_quantity_in_Pieces将按降序排列。    \n",
    "现在我们对上述表应用ROW_NUMBER函数\n",
    "之后变为：\n",
    "\n",
    "<table>\n",
    "    <tr>\n",
    "        <th>\n",
    "            Customer_Hierarchy\n",
    "        </th>\n",
    "        <th> \n",
    "            Invoiced_quantity_in_Pieces\n",
    "        </th>\n",
    "        <th> \n",
    "            Product_ID\n",
    "        </th>\n",
    "        <th>\n",
    "            rowNumber\n",
    "        </th>    \n",
    "    </tr>    \n",
    "    <tr> \n",
    "        <td>食品</td>                 \n",
    "        <td>300</td>                       \n",
    "        <td>3</td>\n",
    "        <td>1</td>\n",
    "    </tr>\n",
    "    <tr> \n",
    "        <td>食品</td>                 \n",
    "        <td>200</td>                       \n",
    "        <td>1</td>\n",
    "        <td>2</td>\n",
    "    </tr>\n",
    "    <tr> \n",
    "        <td>纸张</td>                 \n",
    "        <td>100</td>                       \n",
    "        <td>2</td> \n",
    "        <td>1 </td>\n",
    "    </tr>\n",
    "    <tr> \n",
    "        <td>纸张</td>                 \n",
    "        <td>400</td>                       \n",
    "        <td>4</td> \n",
    "        <td>2</td>\n",
    "    </tr>\n",
    "</table>   \n",
    "\n",
    "（对于唯一的Customer_Hierarchy，编号从1开始）"
   ]
  },
  {
   "cell_type": "code",
   "execution_count": null,
   "metadata": {
    "id": "d3876efae332"
   },
   "outputs": [],
   "source": [
    "query = \"\"\"\n",
    "SELECT \n",
    "  *,\n",
    "  ROW_NUMBER() OVER(PARTITION BY Customer_Hierarchy ORDER BY Invoiced_quantity_in_Pieces DESC) rowNumber\n",
    "  FROM {DATASET}.total_orders\n",
    "\"\"\".format(\n",
    "    DATASET=DATASET\n",
    ")\n",
    "query_job = client.query(query)"
   ]
  },
  {
   "cell_type": "code",
   "execution_count": null,
   "metadata": {
    "id": "cfb208583da9"
   },
   "outputs": [],
   "source": [
    "query_job.to_dataframe()"
   ]
  },
  {
   "cell_type": "markdown",
   "metadata": {
    "id": "a0092c1d6277"
   },
   "source": [
    "正如您所看到的，如果您参考客户层次纸张，按件计的开票数量是按降序排列的，行号从1开始。"
   ]
  },
  {
   "cell_type": "code",
   "execution_count": null,
   "metadata": {
    "id": "b9cc04ee390c"
   },
   "outputs": [],
   "source": [
    "query_job.to_dataframe().loc[query_job.to_dataframe()[\"Customer_Hierarchy\"] == \"Paper\"]"
   ]
  },
  {
   "cell_type": "markdown",
   "metadata": {
    "id": "d3cbe5e74137"
   },
   "source": [
    "我们希望选择每个客户层次中发票数量最高的行，因此选择行号为1"
   ]
  },
  {
   "cell_type": "code",
   "execution_count": null,
   "metadata": {
    "id": "d69d19436b89"
   },
   "outputs": [],
   "source": [
    "query = \"\"\"\n",
    " SELECT A.Product_ID, A.Customer_Hierarchy,A.Invoiced_quantity_in_Pieces\n",
    "  FROM (\n",
    "  SELECT \n",
    "  *,\n",
    "  ROW_NUMBER() OVER(PARTITION BY Customer_Hierarchy ORDER BY Invoiced_quantity_in_Pieces DESC) rowNumber\n",
    "  FROM {DATASET}.total_orders\n",
    "  )A\n",
    "  WHERE A.rowNumber =1;\n",
    "\"\"\".format(\n",
    "    DATASET=DATASET\n",
    ")\n",
    "query_job = client.query(query)\n",
    "print(query_job.result())"
   ]
  },
  {
   "cell_type": "code",
   "execution_count": null,
   "metadata": {
    "id": "9a7928e2f2e2"
   },
   "outputs": [],
   "source": [
    "query_job.to_dataframe()"
   ]
  },
  {
   "cell_type": "markdown",
   "metadata": {
    "id": "fd6d227e513e"
   },
   "source": [
    "从上述结果中，您可以推断以下内容：\n",
    "\n",
    "- 在**食品**类别下，**SKU 62**有最大订单量。\n",
    "- 在**制造业**类别下，**SKU 17**有最大订单量。\n",
    "- 在**纸品**类别下，**SKU 107**有最大订单量。\n",
    "- 在**出版**类别下，**SKU 8**有最大订单量。\n",
    "- 在**公用事业**类别下，**SKU 140**有最大订单量。\n",
    "\n",
    "考虑到存在太多 ID，而大多数记录只有少量，只考虑上述具有最大订单量的`产品 ID`。\n",
    "\n",
    "**注意**：`Invoiced_quantity_in_Pieces` 字段似乎是*浮点*类型，而不是本应该是*整数*类型。这可能是因为数据本身可能是平均值。"
   ]
  },
  {
   "cell_type": "markdown",
   "metadata": {
    "id": "2dbc0d64d157"
   },
   "source": [
    "请检查这些“Product_ID”可用的各种价格。"
   ]
  },
  {
   "cell_type": "markdown",
   "metadata": {
    "id": "b82f4e3dca26"
   },
   "source": [
    "首先，从required_columns_final视图中，我们只选择具有我们所需产品ID和客户层次结构的行。"
   ]
  },
  {
   "cell_type": "code",
   "execution_count": null,
   "metadata": {
    "id": "bdc99245b3f8"
   },
   "outputs": [],
   "source": [
    "query = \"\"\"\n",
    "SELECT * FROM {DATASET}.required_columns_final WHERE Product_ID=\"SKU 62\" AND Customer_Hierarchy=\"Food\"\n",
    "\"\"\".format(\n",
    "    DATASET=DATASET\n",
    ")\n",
    "query_job = client.query(query)\n",
    "df_sku_62 = query_job.to_dataframe()\n",
    "df_sku_62"
   ]
  },
  {
   "cell_type": "markdown",
   "metadata": {
    "id": "fb87696b852e"
   },
   "source": [
    "然后我们绘制这些`Product_ID`可用的各种价格。"
   ]
  },
  {
   "cell_type": "code",
   "execution_count": null,
   "metadata": {
    "id": "479bf3a1b430"
   },
   "outputs": [],
   "source": [
    "print(df_sku_62[\"List_Price_Converged\"].value_counts())"
   ]
  },
  {
   "cell_type": "code",
   "execution_count": null,
   "metadata": {
    "id": "59668ec8106d"
   },
   "outputs": [],
   "source": [
    "query = \"\"\"\n",
    "SELECT * FROM {DATASET}.required_columns_final WHERE Product_ID=\"SKU 17\" AND Customer_Hierarchy=\"Manufacturing\"\n",
    "\"\"\".format(\n",
    "    DATASET=DATASET\n",
    ")\n",
    "query_job = client.query(query)\n",
    "df_sku_17 = query_job.to_dataframe()\n",
    "df_sku_17"
   ]
  },
  {
   "cell_type": "code",
   "execution_count": null,
   "metadata": {
    "id": "244fd4f47a83"
   },
   "outputs": [],
   "source": [
    "print(df_sku_17[\"List_Price_Converged\"].value_counts())"
   ]
  },
  {
   "cell_type": "code",
   "execution_count": null,
   "metadata": {
    "id": "52423923410e"
   },
   "outputs": [],
   "source": [
    "query = \"\"\"\n",
    "SELECT * FROM {DATASET}.required_columns_final WHERE Product_ID=\"SKU 107\" AND Customer_Hierarchy=\"Paper\"\n",
    "\"\"\".format(\n",
    "    DATASET=DATASET\n",
    ")\n",
    "query_job = client.query(query)\n",
    "df_sku_107 = query_job.to_dataframe()\n",
    "df_sku_107"
   ]
  },
  {
   "cell_type": "code",
   "execution_count": null,
   "metadata": {
    "id": "d317e25f3c25"
   },
   "outputs": [],
   "source": [
    "print(df_sku_107[\"List_Price_Converged\"].value_counts())"
   ]
  },
  {
   "cell_type": "code",
   "execution_count": null,
   "metadata": {
    "id": "b7a21f2e7d75"
   },
   "outputs": [],
   "source": [
    "query = \"\"\"\n",
    "SELECT * FROM {DATASET}.required_columns_final WHERE Product_ID=\"SKU 8\" AND Customer_Hierarchy=\"Publishing\"\n",
    "\"\"\".format(\n",
    "    DATASET=DATASET\n",
    ")\n",
    "query_job = client.query(query)\n",
    "df_sku_8 = query_job.to_dataframe()\n",
    "df_sku_8"
   ]
  },
  {
   "cell_type": "code",
   "execution_count": null,
   "metadata": {
    "id": "4757a1682c48"
   },
   "outputs": [],
   "source": [
    "print(df_sku_8[\"List_Price_Converged\"].value_counts())"
   ]
  },
  {
   "cell_type": "code",
   "execution_count": null,
   "metadata": {
    "id": "14cf1dde6946"
   },
   "outputs": [],
   "source": [
    "query = \"\"\"\n",
    "SELECT * FROM {DATASET}.required_columns_final WHERE Product_ID=\"SKU 140\" AND Customer_Hierarchy=\"Utilities\"\n",
    "\"\"\".format(\n",
    "    DATASET=DATASET\n",
    ")\n",
    "query_job = client.query(query)\n",
    "df_sku_140 = query_job.to_dataframe()"
   ]
  },
  {
   "cell_type": "code",
   "execution_count": null,
   "metadata": {
    "id": "8e215f3fe8a3"
   },
   "outputs": [],
   "source": [
    "print(df_sku_140[\"List_Price_Converged\"].value_counts())"
   ]
  },
  {
   "cell_type": "markdown",
   "metadata": {
    "id": "f023af578c0f"
   },
   "source": [
    "在发布类别中，`Product_ID` `SKU 8` 和 `SKU 17` 的价格在整个数据中都小于或等于两种不同的价格，因此你可以排除它们，考虑其他产品来建立预测模型。这里的想法是对具有不同价格的产品的时间序列数据进行训练。\n",
    "\n",
    "#### 将所有`Product_ID`的数据连接到一个数据框中，并删除重复记录。"
   ]
  },
  {
   "cell_type": "code",
   "execution_count": null,
   "metadata": {
    "id": "4e2c2cf928f3"
   },
   "outputs": [],
   "source": [
    "df_final = pd.concat([df_sku_62, df_sku_107, df_sku_140])\n",
    "df_final = (\n",
    "    df_final[\n",
    "        [\n",
    "            \"Product_ID\",\n",
    "            \"Fiscal_Date\",\n",
    "            \"Customer_Hierarchy\",\n",
    "            \"List_Price_Converged\",\n",
    "            \"Invoiced_quantity_in_Pieces\",\n",
    "        ]\n",
    "    ]\n",
    "    .drop_duplicates()\n",
    "    .reset_index(drop=True)\n",
    ")\n",
    "df_final"
   ]
  },
  {
   "cell_type": "markdown",
   "metadata": {
    "id": "add5063df368"
   },
   "source": [
    "将数据保存到一个 BigQuery 表中。"
   ]
  },
  {
   "cell_type": "code",
   "execution_count": null,
   "metadata": {
    "id": "fd82ba56571f"
   },
   "outputs": [],
   "source": [
    "bq_client = bigquery.Client(project=PROJECT_ID)\n",
    "\n",
    "job_config = bigquery.LoadJobConfig(\n",
    "    # Specify a (partial) schema. All columns are always written to the\n",
    "    # table. The schema is used to assist in data type definitions.\n",
    "    schema=[\n",
    "        bigquery.SchemaField(\"Product_ID\", bigquery.enums.SqlTypeNames.STRING),\n",
    "        bigquery.SchemaField(\"Fiscal_Date\", bigquery.enums.SqlTypeNames.DATE),\n",
    "        bigquery.SchemaField(\"List_Price_Converged\", bigquery.enums.SqlTypeNames.FLOAT),\n",
    "        bigquery.SchemaField(\n",
    "            \"Invoiced_quantity_in_Pieces\", bigquery.enums.SqlTypeNames.FLOAT\n",
    "        ),\n",
    "    ],\n",
    "    # Optionally, set the write disposition. BigQuery appends loaded rows\n",
    "    # to an existing table by default, but with WRITE_TRUNCATE write\n",
    "    # disposition it replaces the table with the loaded data.\n",
    "    write_disposition=\"WRITE_TRUNCATE\",\n",
    ")\n",
    "\n",
    "# save the dataframe to a table in the created dataset\n",
    "job = bq_client.load_table_from_dataframe(\n",
    "    df_final,\n",
    "    \"{}.{}.{}\".format(PROJECT_ID, DATASET, TRAINING_DATA_TABLE),\n",
    "    job_config=job_config,\n",
    ")  # Make an API request.\n",
    "print(job.result())  # Wait for the job to complete."
   ]
  },
  {
   "cell_type": "markdown",
   "metadata": {
    "id": "fca77641b03b"
   },
   "source": [
    "使用BigQuery ML训练一个[Arima-Plus](https://cloud.google.com/bigquery-ml/docs/reference/standard-sql/bigqueryml-syntax-create-time-series)模型。"
   ]
  },
  {
   "cell_type": "markdown",
   "metadata": {
    "id": "cded27507891"
   },
   "source": [
    "#@bigquery\n",
    "创建或替换模型[your-dataset-id].bqml_arima\n",
    "选项\n",
    "（模型类型= 'ARIMA_PLUS'，\n",
    "时间系列时间戳列= 'Fiscal_Date'，\n",
    "时间序列数据列= 'Invoiced_quantity_in_Pieces'，\n",
    "时间序列ID列= 'ID'\n",
    "）为\n",
    "选择\n",
    "财政日期，\n",
    "Concat(Product_ID，“_”，Cast(List_Price_Converged as string)) as ID，\n",
    "Invoiced_quantity_in_Pieces\n",
    "从\n",
    "[your-dataset-id].TRAINING_DATA"
   ]
  },
  {
   "cell_type": "code",
   "execution_count": null,
   "metadata": {
    "id": "e25254d219b7"
   },
   "outputs": [],
   "source": [
    "query = \"\"\"\n",
    "create or replace model `{PROJECT_ID}.{DATASET}.bqml_arima`\n",
    "options\n",
    " (model_type = 'ARIMA_PLUS',\n",
    "  time_series_timestamp_col = 'Fiscal_Date',\n",
    "  time_series_data_col = 'Invoiced_quantity_in_Pieces',\n",
    "  time_series_id_col = 'ID'\n",
    " ) as\n",
    "select\n",
    " Fiscal_Date,\n",
    " Concat(Product_ID,\"_\" ,Cast(List_Price_Converged as string)) as ID,\n",
    " Invoiced_quantity_in_Pieces\n",
    "from\n",
    " `{DATASET}.{TRAINING_DATA_TABLE}`\"\"\".format(\n",
    "    PROJECT_ID=PROJECT_ID, DATASET=DATASET, TRAINING_DATA_TABLE=TRAINING_DATA_TABLE\n",
    ")\n",
    "query_job = client.query(query)\n",
    "print(query_job.result())"
   ]
  },
  {
   "cell_type": "markdown",
   "metadata": {
    "id": "332fd11ff32b"
   },
   "source": [
    "从模型中生成预测\n",
    "<a name=\"section-10\"></a>\n",
    "\n",
    "预测每个id未来30天的销售额，并保存到数据框中。"
   ]
  },
  {
   "cell_type": "code",
   "execution_count": null,
   "metadata": {
    "id": "ef926cdbf28e"
   },
   "outputs": [],
   "source": [
    "query = '''\n",
    "DECLARE HORIZON STRING DEFAULT \"30\"; #number of values to forecast\n",
    "DECLARE CONFIDENCE_LEVEL STRING DEFAULT \"0.90\"; ## required confidence level\n",
    "\n",
    "EXECUTE IMMEDIATE format(\"\"\"\n",
    "    SELECT\n",
    "      *\n",
    "    FROM \n",
    "      ML.FORECAST(MODEL {DATASET}.bqml_arima, \n",
    "                  STRUCT(%s AS horizon, \n",
    "                         %s AS confidence_level)\n",
    "                 )\n",
    "    \"\"\",HORIZON,CONFIDENCE_LEVEL)'''.format(\n",
    "    DATASET=DATASET\n",
    ")\n",
    "job = client.query(query)\n",
    "dfforecast = job.to_dataframe()\n",
    "dfforecast.head()"
   ]
  },
  {
   "cell_type": "markdown",
   "metadata": {
    "id": "608c7de72dae"
   },
   "source": [
    "## 解释结果以选择最佳价格\n",
    "<a name=\"section-11\"></a>\n",
    "\n",
    "#### 计算预测期间的平均预测值。"
   ]
  },
  {
   "cell_type": "code",
   "execution_count": null,
   "metadata": {
    "id": "e1e193680400"
   },
   "outputs": [],
   "source": [
    "dfforecast_avg = (\n",
    "    dfforecast[[\"ID\", \"forecast_value\"]].groupby(\"ID\", as_index=False).mean()\n",
    ")"
   ]
  },
  {
   "cell_type": "markdown",
   "metadata": {
    "id": "5ce395d652a3"
   },
   "source": [
    "#### 从ID字段中提取ID和价格字段。"
   ]
  },
  {
   "cell_type": "code",
   "execution_count": null,
   "metadata": {
    "id": "452c56fa58ed"
   },
   "outputs": [],
   "source": [
    "dfforecast_avg[\"Product_ID\"] = dfforecast_avg[\"ID\"].apply(lambda x: x.split(\"_\")[0])\n",
    "dfforecast_avg[\"Price\"] = dfforecast_avg[\"ID\"].apply(lambda x: x.split(\"_\")[1])"
   ]
  },
  {
   "cell_type": "markdown",
   "metadata": {
    "id": "3cee67f4028f"
   },
   "source": [
    "####绘制产品价格与平均预测销售额的关系图。"
   ]
  },
  {
   "cell_type": "code",
   "execution_count": null,
   "metadata": {
    "id": "fb351c8f383d"
   },
   "outputs": [],
   "source": [
    "for i in dfforecast_avg[\"Product_ID\"].unique():\n",
    "    dfforecast_avg[dfforecast_avg[\"Product_ID\"] == i].set_index(\"Price\").sort_values(\n",
    "        \"forecast_value\"\n",
    "    ).plot(kind=\"bar\")\n",
    "    plt.title(\"Price vs. Average Sales for \" + i)\n",
    "    plt.show()"
   ]
  },
  {
   "cell_type": "markdown",
   "metadata": {
    "id": "67ff3acc74a5"
   },
   "source": [
    "根据价格与平均预测订单的图表，可以说为了使用最大订单量，考虑的每个“Product_ID”可以遵循以下价格：\n",
    "\n",
    "- SKU 107的价格范围可以在4.44 - 4.73单位之间\n",
    "- SKU 140的价格可以是1.95单位\n",
    "- SKU 62的价格可以是4.23单位"
   ]
  },
  {
   "cell_type": "markdown",
   "metadata": {
    "id": "01fdc73828af"
   },
   "source": [
    "清理\n",
    "<a name=\"section-12\"></a>\n",
    "\n",
    "要清理此项目中使用的所有谷歌云资源，您可以[删除用于本教程的谷歌云项目](https://cloud.google.com/resource-manager/docs/creating-managing-projects#shutting_down_projects)。\n",
    "\n",
    "否则，您可以删除在本教程中创建的各个资源。以下代码将删除整个数据集。"
   ]
  },
  {
   "cell_type": "code",
   "execution_count": null,
   "metadata": {
    "id": "d78908b8134d"
   },
   "outputs": [],
   "source": [
    "# Set dataset_id to the ID of the dataset to fetch.\n",
    "dataset_id = \"{PROJECT_ID}.{DATASET}\".format(PROJECT_ID=PROJECT_ID, DATASET=DATASET)\n",
    "\n",
    "# Use the delete_contents parameter to delete a dataset and its contents.\n",
    "# Use the not_found_ok parameter to not receive an error if the dataset has already been deleted.\n",
    "client.delete_dataset(\n",
    "    dataset_id, delete_contents=True, not_found_ok=True\n",
    ")  # Make an API request.\n",
    "\n",
    "print(\"Deleted dataset '{}'.\".format(dataset_id))"
   ]
  }
 ],
 "metadata": {
  "colab": {
   "name": "pricing-optimization.ipynb",
   "toc_visible": true
  },
  "kernelspec": {
   "display_name": "Python 3",
   "name": "python3"
  }
 },
 "nbformat": 4,
 "nbformat_minor": 0
}
