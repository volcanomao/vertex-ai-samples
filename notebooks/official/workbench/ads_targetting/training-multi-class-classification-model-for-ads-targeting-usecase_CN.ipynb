{
 "cells": [
  {
   "cell_type": "code",
   "execution_count": null,
   "metadata": {
    "id": "503077811e70"
   },
   "outputs": [],
   "source": [
    "# Copyright 2022 Google LLC\n",
    "#\n",
    "# Licensed under the Apache License, Version 2.0 (the \"License\");\n",
    "# you may not use this file except in compliance with the License.\n",
    "# You may obtain a copy of the License at\n",
    "#\n",
    "#     https://www.apache.org/licenses/LICENSE-2.0\n",
    "#\n",
    "# Unless required by applicable law or agreed to in writing, software\n",
    "# distributed under the License is distributed on an \"AS IS\" BASIS,\n",
    "# WITHOUT WARRANTIES OR CONDITIONS OF ANY KIND, either express or implied.\n",
    "# See the License for the specific language governing permissions and\n",
    "# limitations under the License."
   ]
  },
  {
   "cell_type": "markdown",
   "metadata": {
    "id": "e885ac09bc73"
   },
   "source": [
    "# 为广告定向训练一个多类别分类模型\n",
    "<table align=\"left\">\n",
    "\n",
    "  <td>\n",
    "    <a href=\"https://colab.research.google.com/github/GoogleCloudPlatform/vertex-ai-samples/blob/main/notebooks/official/workbench/ads_targetting/training-multi-class-classification-model-for-ads-targeting-usecase.ipynb\">\n",
    "      <img src=\"https://cloud.google.com/ml-engine/images/colab-logo-32px.png\" alt=\"Colab logo\"> 在 Colab 上运行\n",
    "    </a>\n",
    "  </td>\n",
    "  <td>\n",
    "    <a href=\"https://github.com/GoogleCloudPlatform/vertex-ai-samples/blob/main/notebooks/official/workbench/ads_targetting/training-multi-class-classification-model-for-ads-targeting-usecase.ipynb\">\n",
    "      <img src=\"https://cloud.google.com/ml-engine/images/github-logo-32px.png\" alt=\"GitHub logo\">\n",
    "      在 GitHub 上查看\n",
    "    </a>\n",
    "  </td>\n",
    "  <td>\n",
    "    <a href=\"https://console.cloud.google.com/vertex-ai/workbench/deploy-notebook?download_url=https://raw.githubusercontent.com/GoogleCloudPlatform/vertex-ai-samples/main/notebooks/official/workbench/ads_targetting/training-multi-class-classification-model-for-ads-targeting-usecase.ipynb\" target='_blank'>\n",
    "      <img src=\"https://lh3.googleusercontent.com/UiNooY4LUgW_oTvpsNhPpQzsstV5W8F7rYgxgGBD85cWJoLmrOzhVs_ksK_vgx40SHs7jCqkTkCk=e14-rj-sc0xffffff-h130-w32\" alt=\"Vertex AI logo\">\n",
    "      在 Vertex AI Workbench 中打开\n",
    "    </a>\n",
    "  </td>                                                                                               \n",
    "</table>"
   ]
  },
  {
   "cell_type": "markdown",
   "metadata": {
    "id": "00f095e91b2d"
   },
   "source": [
    "## 简介\n",
    "\n",
    "本教程演示了如何构建一个用于广告定向投放的机器学习模型。广告定向投放是一种广告技术，根据客户的过去行为和偏好，选择或定制广告展示给客户。定向广告旨在根据人口统计数据、心理统计数据、行为数据以及通常通过从客户收集的数据学习得到的其他二阶活动，来接触特定客户。\n",
    "\n",
    "*注意：如果您正在使用[Vertex AI Workbench 托管笔记本](https://cloud.google.com/vertex-ai/docs/workbench/managed/create-instance)实例，请使用 `TensorFlow 2 (Local)` 内核。在其他笔记本环境中可能无法运行本笔记本的某些组件。*\n",
    "\n",
    "了解更多关于[Vertex AI Workbench](https://cloud.google.com/vertex-ai/docs/workbench/introduction)和[Vertex AI Training](https://cloud.google.com/vertex-ai/docs/training/custom-training)。"
   ]
  },
  {
   "cell_type": "markdown",
   "metadata": {
    "id": "1bea2b6e9b25"
   },
   "source": [
    "### 目标\n",
    "\n",
    "在本教程中，您将学习如何从BigQuery中收集数据，预处理数据，并在电子商务数据集上训练一个多类别分类模型。\n",
    "\n",
    "本教程使用以下Google Cloud ML服务和资源：\n",
    "\n",
    "- BigQuery\n",
    "\n",
    "执行的步骤包括：\n",
    "\n",
    "- 从BigQuery获取所需数据\n",
    "- 预处理数据\n",
    "- 训练一个TensorFlow（>=2.4）分类模型\n",
    "- 评估训练模型的损失\n",
    "- 使用执行器功能自动执行笔记本\n",
    "- 将模型保存到Cloud Storage路径\n",
    "- 清理创建的资源"
   ]
  },
  {
   "cell_type": "markdown",
   "metadata": {
    "id": "34d623e6dfa3"
   },
   "source": [
    "数据集\n",
    "\n",
    "本教程使用BigQuery中的`looker-private-demo.ecomm`数据集。该数据集包含有关各种广告活动的信息，包括点击广告并在看到广告后进行购买的用户的人口统计信息。对于本教程，从该数据集中选择了来自美国的前三个广告活动，并将购买的用户信息用于训练一个模型，广告活动作为类别。其目的是看广告和用户数据是否可以用来识别哪种广告活动最适合用户。\n",
    "\n",
    "该数据集可以通过在BigQuery中固定`looker-private-demo`项目来访问。如果您使用的是Vertex AI Workbench托管的笔记本实例，可以通过JupyterLab用户界面而不是BigQuery用户界面执行此过程。Vertex AI Workbench托管的笔记本实例支持通过其BigQuery集成浏览BigQuery中的数据集和表。\n",
    "\n",
    "<img src=\"images/Bigquery_UI_new.PNG\"></img>"
   ]
  },
  {
   "cell_type": "markdown",
   "metadata": {
    "id": "ee02650bb7fd"
   },
   "source": [
    "### 费用\n",
    "\n",
    "本教程使用了谷歌云的计费组件：\n",
    "\n",
    "* Vertex AI\n",
    "* BigQuery\n",
    "* Cloud Storage\n",
    "\n",
    "了解 [Vertex AI 价格](https://cloud.google.com/vertex-ai/pricing)、[BigQuery 价格](https://cloud.google.com/bigquery/pricing) 和 [Cloud Storage 价格](https://cloud.google.com/storage/pricing)，并使用 [定价计算器](https://cloud.google.com/products/calculator/) 根据您的预期使用情况生成费用估算。"
   ]
  },
  {
   "cell_type": "markdown",
   "metadata": {
    "id": "1DouUvNOkXT8"
   },
   "source": [
    "### 安装额外的软件包"
   ]
  },
  {
   "cell_type": "code",
   "execution_count": null,
   "metadata": {
    "id": "Ayt1jhFXkXT9"
   },
   "outputs": [],
   "source": [
    "! pip3 install --upgrade --quiet pandas-gbq \\\n",
    "                                 'google-cloud-bigquery[bqstorage,pandas]' \\\n",
    "                                 tensorflow \\\n",
    "                                 scikit-learn \\\n",
    "                                 numpy \\\n",
    "                                 protobuf==3.20.3"
   ]
  },
  {
   "cell_type": "markdown",
   "metadata": {
    "id": "58707a750154"
   },
   "source": [
    "仅限Colab使用：取消注释以下单元格以重新启动内核。"
   ]
  },
  {
   "cell_type": "code",
   "execution_count": null,
   "metadata": {
    "id": "f200f10a1da3"
   },
   "outputs": [],
   "source": [
    "# Automatically restart kernel after installs so that your environment can access the new packages\n",
    "# import IPython\n",
    "\n",
    "# app = IPython.Application.instance()\n",
    "# app.kernel.do_shutdown(True)"
   ]
  },
  {
   "cell_type": "markdown",
   "metadata": {
    "id": "WReHDGG5g0XY"
   },
   "source": [
    "### 设置您的项目ID\n",
    "\n",
    "**如果您不知道您的项目ID**，请尝试以下操作：\n",
    "* 运行 `gcloud config list`。\n",
    "* 运行 `gcloud projects list`。\n",
    "* 查看支持页面：[查找项目ID](https://support.google.com/googleapi/answer/7014113)。"
   ]
  },
  {
   "cell_type": "code",
   "execution_count": null,
   "metadata": {
    "id": "oM1iC_MfAts1"
   },
   "outputs": [],
   "source": [
    "PROJECT_ID = \"[your-project-id]\"  # @param {type:\"string\"}\n",
    "\n",
    "# Set the project id\n",
    "! gcloud config set project {PROJECT_ID}"
   ]
  },
  {
   "cell_type": "markdown",
   "metadata": {
    "id": "region"
   },
   "source": [
    "#### 设置地区\n",
    "\n",
    "**可选**: 更新 'REGION' 变量以指定您想要使用的地区。了解更多关于[Vertex AI地区](https://cloud.google.com/vertex-ai/docs/general/locations)。"
   ]
  },
  {
   "cell_type": "code",
   "execution_count": null,
   "metadata": {
    "id": "nsN5NJKSu-GU"
   },
   "outputs": [],
   "source": [
    "REGION = \"us-central1\"  # @param {type: \"string\"}"
   ]
  },
  {
   "cell_type": "markdown",
   "metadata": {
    "id": "b2b04f364669"
   },
   "source": [
    "UUID\n",
    "\n",
    "如果您正在进行现场教程，请使用共享的测试帐户或项目。为了避免用户之间在创建的资源上发生名称冲突，您需要为每个实例会话创建一个UUID，并将其附加到您在本教程中创建的资源的名称上。"
   ]
  },
  {
   "cell_type": "code",
   "execution_count": null,
   "metadata": {
    "id": "a9ee95826661"
   },
   "outputs": [],
   "source": [
    "import random\n",
    "import string\n",
    "\n",
    "\n",
    "# Generate a uuid of a specifed length(default=8)\n",
    "def generate_uuid(length: int = 8) -> str:\n",
    "    return \"\".join(random.choices(string.ascii_lowercase + string.digits, k=length))\n",
    "\n",
    "\n",
    "UUID = generate_uuid()"
   ]
  },
  {
   "cell_type": "markdown",
   "metadata": {
    "id": "sBCra4QMA2wR"
   },
   "source": [
    "### 验证您的Google Cloud帐户\n",
    "\n",
    "要验证您的Google Cloud帐户，请按照您Jupyter环境的说明进行操作：\n",
    "\n",
    "**1. Vertex AI Workbench**\n",
    "<br>您已经通过验证。\n",
    "\n",
    "**2. 本地JupyterLab实例**\n",
    "<br>取消注释并运行以下代码："
   ]
  },
  {
   "cell_type": "code",
   "execution_count": null,
   "metadata": {
    "id": "254614fa0c46"
   },
   "outputs": [],
   "source": [
    "# ! gcloud auth login"
   ]
  },
  {
   "cell_type": "markdown",
   "metadata": {
    "id": "ef21552ccea8"
   },
   "source": [
    "取消注释并运行以下代码："
   ]
  },
  {
   "cell_type": "code",
   "execution_count": null,
   "metadata": {
    "id": "603adbbf0532"
   },
   "outputs": [],
   "source": [
    "# from google.colab import auth\n",
    "\n",
    "# auth.authenticate_user()"
   ]
  },
  {
   "cell_type": "markdown",
   "metadata": {
    "id": "c13224697bfb"
   },
   "source": [
    "4. 服务帐户或其他  \n",
    "* 请查看如何在https://cloud.google.com/storage/docs/gsutil/commands/iam#ch-examples为您的服务帐户授予云存储权限。"
   ]
  },
  {
   "cell_type": "markdown",
   "metadata": {
    "id": "zgPO1eR3CYjk"
   },
   "source": [
    "### 创建一个云存储桶\n",
    "\n",
    "创建一个存储桶，用于存储诸如数据集等中间生成的工件。"
   ]
  },
  {
   "cell_type": "code",
   "execution_count": null,
   "metadata": {
    "id": "MzGDU7TWdts_"
   },
   "outputs": [],
   "source": [
    "BUCKET_URI = f\"gs://your-bucket-name-{PROJECT_ID}-unique\"  # @param {type:\"string\"}"
   ]
  },
  {
   "cell_type": "markdown",
   "metadata": {
    "id": "create_bucket"
   },
   "source": [
    "只有在您的存储桶尚不存在的情况下，才运行以下单元格以创建您的云存储存储桶。"
   ]
  },
  {
   "cell_type": "code",
   "execution_count": null,
   "metadata": {
    "id": "NIq7R4HZCfIc"
   },
   "outputs": [],
   "source": [
    "! gsutil mb -l $REGION -p $PROJECT_ID $BUCKET_URI"
   ]
  },
  {
   "cell_type": "markdown",
   "metadata": {
    "id": "bmnMD2MjkXUJ"
   },
   "source": [
    "导入库并定义常量"
   ]
  },
  {
   "cell_type": "code",
   "execution_count": null,
   "metadata": {
    "id": "oqtZRqDEkXUJ"
   },
   "outputs": [],
   "source": [
    "import os\n",
    "import warnings\n",
    "\n",
    "import pandas as pd\n",
    "from google.cloud.bigquery import Client\n",
    "from sklearn.model_selection import train_test_split\n",
    "from sklearn.preprocessing import StandardScaler\n",
    "from tensorflow.keras import Sequential\n",
    "from tensorflow.keras.layers import Dense\n",
    "from tensorflow.keras.utils import to_categorical\n",
    "\n",
    "warnings.filterwarnings(\"ignore\")"
   ]
  },
  {
   "cell_type": "markdown",
   "metadata": {
    "id": "9abd63bb1a85"
   },
   "source": [
    "## 教程\n",
    "\n",
    "### 从BigQuery获取数据\n",
    "如果您正在使用***Vertex AI Workbench托管的笔记本实例***，以下以\"#@bigquery\"开头的单元格将是一个SQL查询。如果您正在使用Vertex AI Workbench用户管理的笔记本实例或Colab，则将是一个Markdown单元格。"
   ]
  },
  {
   "cell_type": "markdown",
   "metadata": {
    "id": "4a25861cf833"
   },
   "source": [
    "#@bigquery\n",
    "\n",
    "与\n",
    "  traindata AS (\n",
    "  选择\n",
    "    b.* 除了(ad_event_id,\n",
    "      user_id),\n",
    "    c.* 除了(id),\n",
    "    d.* 除了(keyword_id,\n",
    "      ad_id),\n",
    "    a.amount,\n",
    "    a.device_type,\n",
    "    e.name\n",
    "  从\n",
    "    `looker-private-demo.ecomm.ad_events` a\n",
    "  连接 (\n",
    "    选择\n",
    "      ad_event_id,\n",
    "      user_id,\n",
    "      state,\n",
    "      os,\n",
    "      browser\n",
    "    从\n",
    "      `looker-private-demo.ecomm.events`\n",
    "    其中\n",
    "      event_type=\"Purchase\"\n",
    "      并且 country=\"USA\") b\n",
    "  在\n",
    "    a.id = b.ad_event_id\n",
    "  连接 (\n",
    "    选择\n",
    "      id,\n",
    "      gender,\n",
    "      age\n",
    "    从\n",
    "      `looker-private-demo.ecomm.users`) c\n",
    "  在\n",
    "    b.user_id = c.id\n",
    "  连接 (\n",
    "    选择\n",
    "      keyword_id,\n",
    "      ad_id,\n",
    "      cpc_bid_amount,\n",
    "      bidding_strategy_type,\n",
    "      quality_score,\n",
    "      keyword_match_type\n",
    "    从\n",
    "      `looker-private-demo.ecomm.keywords`\n",
    "    其中\n",
    "      cpc_bid_amount <= 3000) d\n",
    "  在\n",
    "    a.keyword_id = d.keyword_id\n",
    "  连接 (\n",
    "    选择\n",
    "      ad_id,\n",
    "      name\n",
    "    从\n",
    "      `looker-private-demo.ecomm.ad_groups`) e\n",
    "  在\n",
    "    d.ad_id = e.ad_id )\n",
    "选择\n",
    "  *\n",
    "从\n",
    "  traindata"
   ]
  },
  {
   "cell_type": "markdown",
   "metadata": {
    "id": "923fdd823683"
   },
   "source": [
    "如果您正在使用Vertex AI Workbench管理的笔记本实例，一旦从BigQuery显示的结果显示在上述单元格中，请点击**执行查询并加载为DataFrame**按钮并执行生成的代码存根以将数据获取到当前笔记本作为数据框中。\n",
    "\n",
    "*注意：默认情况下数据加载到一个“df”变量中，但如果需要，在执行单元格之前可以更改这个变量名。*"
   ]
  },
  {
   "cell_type": "code",
   "execution_count": null,
   "metadata": {
    "id": "3d44a10b6884"
   },
   "outputs": [],
   "source": [
    "client = Client(project=PROJECT_ID)"
   ]
  },
  {
   "cell_type": "code",
   "execution_count": null,
   "metadata": {
    "id": "f8b5112f231f"
   },
   "outputs": [],
   "source": [
    "query = \"\"\"WITH traindata AS (\n",
    "SELECT b.* except(ad_event_id, user_id), c.* except(id), d.* except(keyword_id, ad_id), a.amount, a.device_type, e.name\n",
    "FROM `looker-private-demo.ecomm.ad_events` a\n",
    "JOIN\n",
    "(SELECT ad_event_id, user_id, state, os, browser from `looker-private-demo.ecomm.events` WHERE event_type=\"Purchase\" AND country=\"USA\") b\n",
    "ON a.id = b.ad_event_id\n",
    "JOIN\n",
    "(SELECT id, gender, age FROM `looker-private-demo.ecomm.users`) c\n",
    "ON b.user_id = c.id\n",
    "JOIN\n",
    "(SELECT keyword_id, ad_id, cpc_bid_amount, bidding_strategy_type, quality_score, keyword_match_type FROM `looker-private-demo.ecomm.keywords`\n",
    "WHERE cpc_bid_amount <= 3000) d\n",
    "ON a.keyword_id = d.keyword_id\n",
    "JOIN\n",
    "(SELECT ad_id, name FROM `looker-private-demo.ecomm.ad_groups`) e\n",
    "ON d.ad_id = e.ad_id\n",
    ")\n",
    "SELECT * FROM traindata\"\"\"\n",
    "job = client.query(query)\n",
    "df = job.to_dataframe()"
   ]
  },
  {
   "cell_type": "markdown",
   "metadata": {
    "id": "7f69bea65019"
   },
   "source": [
    "### 数据预处理\n",
    "从电子商务数据中选择必要的列，并根据它们的类型（数值/分类）进行划分。"
   ]
  },
  {
   "cell_type": "code",
   "execution_count": null,
   "metadata": {
    "id": "7cea2c44c50b"
   },
   "outputs": [],
   "source": [
    "target = \"name\"\n",
    "categ_cols = [\n",
    "    \"state\",\n",
    "    \"os\",\n",
    "    \"browser\",\n",
    "    \"gender\",\n",
    "    \"bidding_strategy_type\",\n",
    "    \"keyword_match_type\",\n",
    "    \"device_type\",\n",
    "]\n",
    "num_cols = [\"age\", \"cpc_bid_amount\", \"quality_score\", \"amount\"]"
   ]
  },
  {
   "cell_type": "markdown",
   "metadata": {
    "id": "ace612851261"
   },
   "source": [
    "从当前数据集中，将选择前三个最佳的广告活动来针对用户。有关广告和购买物品的用户的所有相关信息已经存储在数据框中。"
   ]
  },
  {
   "cell_type": "code",
   "execution_count": null,
   "metadata": {
    "id": "7282fbab4586"
   },
   "outputs": [],
   "source": [
    "df = df[df[\"name\"].isin([\"Tops & Tees\", \"Active\", \"Accessories\"])]"
   ]
  },
  {
   "cell_type": "markdown",
   "metadata": {
    "id": "f89106348ffe"
   },
   "source": [
    "编码目标变量。"
   ]
  },
  {
   "cell_type": "code",
   "execution_count": null,
   "metadata": {
    "id": "d6cd256f455a"
   },
   "outputs": [],
   "source": [
    "df[\"name\"] = df[\"name\"].map({\"Tops & Tees\": 0, \"Active\": 1, \"Accessories\": 2})"
   ]
  },
  {
   "cell_type": "markdown",
   "metadata": {
    "id": "c2d5338b1b95"
   },
   "source": [
    "将分类变量进行独热编码\n",
    "在进行独热编码后，会删除第一个水平列，以避免[虚拟变量陷阱](https://en.wikipedia.org/wiki/Dummy_variable_(statistics))的情况发生。这个过程被称为*虚拟编码*。"
   ]
  },
  {
   "cell_type": "code",
   "execution_count": null,
   "metadata": {
    "id": "d57706df2441"
   },
   "outputs": [],
   "source": [
    "def encode_cols(data, col):\n",
    "    # Creating a dummy variable for the variable 'CategoryID' and dropping the first one.\n",
    "    categ = pd.get_dummies(data[col], prefix=col, drop_first=True)\n",
    "    # Adding the results to the master dataframe\n",
    "    data = pd.concat([data, categ], axis=1)\n",
    "    return data\n",
    "\n",
    "\n",
    "# dummy-encode the categorical fields\n",
    "for i in categ_cols:\n",
    "    df = encode_cols(df, i)\n",
    "    df.drop(columns=[i], inplace=True)\n",
    "\n",
    "# check the data's shape\n",
    "df.shape"
   ]
  },
  {
   "cell_type": "markdown",
   "metadata": {
    "id": "3abf027eda2d"
   },
   "source": [
    "把数据分成训练集和测试集"
   ]
  },
  {
   "cell_type": "code",
   "execution_count": null,
   "metadata": {
    "id": "0072d44b6163"
   },
   "outputs": [],
   "source": [
    "X = df[[i for i in df.columns if i != target]].copy()\n",
    "y = df[target].copy()\n",
    "X_train, X_test, y_train, y_test = train_test_split(\n",
    "    X, y, train_size=0.8, random_state=36\n",
    ")\n",
    "print(X_train.shape, X_test.shape)"
   ]
  },
  {
   "cell_type": "markdown",
   "metadata": {
    "id": "d1a32b9d9640"
   },
   "source": [
    "### 缩放数据"
   ]
  },
  {
   "cell_type": "code",
   "execution_count": null,
   "metadata": {
    "id": "9620e04d8db2"
   },
   "outputs": [],
   "source": [
    "scaler = StandardScaler()\n",
    "X_train.loc[:, num_cols] = scaler.fit_transform(X_train[num_cols])\n",
    "X_test.loc[:, num_cols] = scaler.transform(X_test[num_cols])"
   ]
  },
  {
   "cell_type": "markdown",
   "metadata": {
    "id": "5b9f3ca04f91"
   },
   "source": [
    "使用TensorFlow训练模型\n",
    "将目标列转换为一个分类编码列（一热编码）。"
   ]
  },
  {
   "cell_type": "code",
   "execution_count": null,
   "metadata": {
    "id": "ebc87650ae13"
   },
   "outputs": [],
   "source": [
    "y_train_categ = to_categorical(y_train)\n",
    "y_test_categ = to_categorical(y_test)"
   ]
  },
  {
   "cell_type": "markdown",
   "metadata": {
    "id": "3dd0014a7e1d"
   },
   "source": [
    "定义模型训练的超参数\n",
    "\n",
    "* 注意：如果这些参数已经通过执行器功能作为输入参数提供，请在以下单元格中注释或删除。*"
   ]
  },
  {
   "cell_type": "code",
   "execution_count": null,
   "metadata": {
    "id": "ec020b36af20"
   },
   "outputs": [],
   "source": [
    "optimizer = \"sgd\"\n",
    "num_hidden_layers = 3\n",
    "num_neurons = [64, 128, 256]\n",
    "activ_func = [\"relu\", \"relu\", \"relu\"]"
   ]
  },
  {
   "cell_type": "markdown",
   "metadata": {
    "id": "406b731f576b"
   },
   "source": [
    "定义架构并编译模型。"
   ]
  },
  {
   "cell_type": "code",
   "execution_count": null,
   "metadata": {
    "id": "57839a187cf0"
   },
   "outputs": [],
   "source": [
    "model = Sequential()\n",
    "# construct the neural network as per the defined parameters\n",
    "for i in range(num_hidden_layers):\n",
    "    if i == 0:\n",
    "        # add the input layer\n",
    "        model.add(\n",
    "            Dense(\n",
    "                num_neurons[i],\n",
    "                activation=activ_func[i],\n",
    "                input_shape=(X_train.shape[1],),\n",
    "            )\n",
    "        )\n",
    "    else:\n",
    "        # add the hidden layers\n",
    "        model.add(Dense(num_neurons[i], activation=activ_func[i]))\n",
    "\n",
    "# add the output layer\n",
    "model.add(Dense(3, activation=\"softmax\"))\n",
    "# compile the model\n",
    "model.compile(loss=\"categorical_crossentropy\", optimizer=optimizer)\n",
    "model.summary()"
   ]
  },
  {
   "cell_type": "markdown",
   "metadata": {
    "id": "4ab12c34f258"
   },
   "source": [
    "训练模型"
   ]
  },
  {
   "cell_type": "code",
   "execution_count": null,
   "metadata": {
    "id": "9321005e55ae"
   },
   "outputs": [],
   "source": [
    "import numpy as np\n",
    "\n",
    "X_train = np.asarray(X_train, dtype=np.float32)\n",
    "\n",
    "history = model.fit(X_train, y_train_categ, epochs=50, verbose=1)"
   ]
  },
  {
   "cell_type": "markdown",
   "metadata": {
    "id": "f08445f2cd02"
   },
   "source": [
    "### 在测试数据上评估模型。"
   ]
  },
  {
   "cell_type": "code",
   "execution_count": null,
   "metadata": {
    "id": "599df6d2b9a4"
   },
   "outputs": [],
   "source": [
    "X_test = np.asarray(X_test, dtype=np.float32)\n",
    "\n",
    "test_results = model.evaluate(X_test, y_test_categ, verbose=1)\n",
    "print(f\"Test results - Loss: {test_results}\")"
   ]
  },
  {
   "cell_type": "markdown",
   "metadata": {
    "id": "81ef0e081340"
   },
   "source": [
    "请注意：executor 功能仅在 Vertex AI Workbench 管理的笔记本中可用。"
   ]
  },
  {
   "cell_type": "markdown",
   "metadata": {
    "id": "9769168778e8"
   },
   "source": [
    "### 使用执行器在Vertex AI Workbench托管的笔记本实例中自动执行笔记本\n",
    "\n",
    "如果您使用Vertex AI Workbench托管的笔记本实例，执行器可以帮助您从头到尾运行一个笔记本文件，选择环境、机器类型、输入参数和其他特性。设置执行后，笔记本将作为一个作业在Vertex AI自定义训练中执行。您可以从左侧菜单中的<b>笔记本执行器</b>面板监视作业。\n",
    "\n",
    "执行器允许您选择环境和机器类型，同时自动运行类似于Vertex AI训练作业的运行，而无需切换到训练作业UI。除了默认复制现有内核的自定义容器外，还可以选择预构建环境如TensorFlow Enterprise、PyTorch和其他环境来运行笔记本。此外，可以通过从可用的机器类型列表中选择来指定所需的计算能力，包括GPU。"
   ]
  },
  {
   "cell_type": "markdown",
   "metadata": {
    "id": "cf486c351581"
   },
   "source": [
    "### 在 Vertex AI Workbench 托管的笔记本实例中安排执行器的运行\n",
    "\n",
    "Vertex AI Workbench 托管的笔记本运行也可以使用执行器定期安排。要这样做，请选择 <b>基于计划的定期执行</b> 作为运行类型，而不是 <b>一次性执行</b>。在创建执行时，提供作业的频率和执行的时间。\n",
    "\n",
    "<img src=\"images/executor_scheduled_runs2.png\"></img>"
   ]
  },
  {
   "cell_type": "markdown",
   "metadata": {
    "id": "6561007ac7f2"
   },
   "source": [
    "### 参数化变量\n",
    "\n",
    "如果您正在使用Vertex AI Workbench托管的笔记本实例，执行器可以让您使用不同的输入参数集运行笔记本。如有需要，笔记本中的常量可以被视为函数的参数，并在提交执行时，您可以将这些常量作为输入参数提供。\n",
    "\n",
    "在模型训练步骤期间定义的超参数可以作为参数传递，同时提交执行。然而，在提交执行之前，应删除或将笔记本本身中定义的值注释掉。否则，输入参数将被笔记本中的值覆盖。"
   ]
  },
  {
   "cell_type": "markdown",
   "metadata": {
    "id": "c81db97fa3e8"
   },
   "source": [
    "### 将模型保存到云存储路径\n",
    "\n",
    "TensorFlow的`model.save()`方法支持将模型对象写入文件时使用云存储路径，也可以使用本地文件路径。需要确保用于运行此笔记本的服务账号具有对指定云存储路径的`写入`权限。"
   ]
  },
  {
   "cell_type": "code",
   "execution_count": null,
   "metadata": {
    "id": "2dcefeb6a2d8"
   },
   "outputs": [],
   "source": [
    "GCS_PATH = BUCKET_URI + \"/path-to-save/\"\n",
    "model.save(GCS_PATH)"
   ]
  },
  {
   "cell_type": "markdown",
   "metadata": {
    "id": "29c0ca2a517a"
   },
   "source": [
    "清理工作\n",
    "\n",
    "要清理此项目中使用的所有Google Cloud资源，您可以[删除用于教程的Google Cloud项目](https://cloud.google.com/resource-manager/docs/creating-managing-projects#shutting_down_projects)。\n",
    "\n",
    "否则，您可以删除在本教程中创建的各个资源："
   ]
  },
  {
   "cell_type": "code",
   "execution_count": null,
   "metadata": {
    "id": "4ab69210d5a8"
   },
   "outputs": [],
   "source": [
    "# Delete the Cloud Storage bucket\n",
    "\n",
    "delete_bucket = False\n",
    "if delete_bucket or os.getenv(\"IS_TESTING\"):\n",
    "    ! gsutil -m rm -r $BUCKET_URI"
   ]
  }
 ],
 "metadata": {
  "colab": {
   "name": "training-multi-class-classification-model-for-ads-targeting-usecase.ipynb",
   "toc_visible": true
  },
  "kernelspec": {
   "display_name": "Python 3",
   "name": "python3"
  }
 },
 "nbformat": 4,
 "nbformat_minor": 0
}
