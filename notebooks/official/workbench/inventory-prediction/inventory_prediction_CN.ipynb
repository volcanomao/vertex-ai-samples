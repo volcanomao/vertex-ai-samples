{
 "cells": [
  {
   "cell_type": "code",
   "execution_count": null,
   "metadata": {
    "id": "12cb1b47a1b7"
   },
   "outputs": [],
   "source": [
    "# Copyright 2022 Google LLC\n",
    "#\n",
    "# Licensed under the Apache License, Version 2.0 (the \"License\");\n",
    "# you may not use this file except in compliance with the License.\n",
    "# You may obtain a copy of the License at\n",
    "#\n",
    "#     https://www.apache.org/licenses/LICENSE-2.0\n",
    "#\n",
    "# Unless required by applicable law or agreed to in writing, software\n",
    "# distributed under the License is distributed on an \"AS IS\" BASIS,\n",
    "# WITHOUT WARRANTIES OR CONDITIONS OF ANY KIND, either express or implied.\n",
    "# See the License for the specific language governing permissions and\n",
    "# limitations under the License."
   ]
  },
  {
   "cell_type": "markdown",
   "metadata": {
    "id": "565d260c8eda"
   },
   "source": [
    "# 使用Vertex AI在电子商务数据上进行库存预测\n",
    "\n",
    "<table align=\"left\">\n",
    "\n",
    "  <td>\n",
    "    <a href=\"https://colab.research.google.com/github/GoogleCloudPlatform/vertex-ai-samples/blob/main/notebooks/official/workbench/inventory-prediction/inventory_prediction.ipynb\">\n",
    "      <img src=\"https://cloud.google.com/ml-engine/images/colab-logo-32px.png\" alt=\"Colab logo\"> 在Colab中运行\n",
    "    </a>\n",
    "  </td>\n",
    "  <td>\n",
    "    <a href=\"https://github.com/GoogleCloudPlatform/vertex-ai-samples/blob/main/notebooks/official/workbench/inventory-prediction/inventory_prediction.ipynb\">\n",
    "      <img src=\"https://cloud.google.com/ml-engine/images/github-logo-32px.png\" alt=\"GitHub logo\">\n",
    "      在GitHub上查看\n",
    "    </a>\n",
    "  </td>\n",
    "  <td>\n",
    "    <a href=\"https://console.cloud.google.com/vertex-ai/workbench/deploy-notebook?download_url=https://raw.githubusercontent.com/GoogleCloudPlatform/vertex-ai-samples/main/notebooks/official/workbench/inventory-prediction/inventory_prediction.ipynb\" target='_blank'>\n",
    "      <img src=\"https://lh3.googleusercontent.com/UiNooY4LUgW_oTvpsNhPpQzsstV5W8F7rYgxgGBD85cWJoLmrOzhVs_ksK_vgx40SHs7jCqkTkCk=e14-rj-sc0xffffff-h130-w32\" alt=\"Vertex AI logo\">\n",
    "      在Vertex AI工作台中打开\n",
    "    </a>\n",
    "  </td>                                                                                               \n",
    "</table>"
   ]
  },
  {
   "cell_type": "markdown",
   "metadata": {
    "id": "962e636b5cee"
   },
   "source": [
    "注意：此笔记本已在以下环境中进行了测试：\n",
    "\n",
    "- Python版本=3.9"
   ]
  },
  {
   "cell_type": "markdown",
   "metadata": {
    "id": "0c8480c6f627"
   },
   "source": [
    "## 概述\n",
    "\n",
    "本笔记本探讨了如何基于电子商务数据集构建一个用于库存预测的机器学习模型。该笔记本包括使用Vertex AI SDK在Vertex AI上部署模型的步骤，并使用What-If Tool分析部署的模型。了解更多关于[What-If Tool](https://pair-code.github.io/what-if-tool/)的信息。\n",
    "\n",
    "了解更多关于[Vertex AI Workbench](https://cloud.google.com/vertex-ai/docs/workbench/introduction)和[Vertex AI Training](https://cloud.google.com/vertex-ai/docs/training/custom-training)。\n",
    "\n",
    "注意：What-IF工具小部件在Colab和Vertex AI Workbench的托管实例上经过测试。可能无法在用户管理的实例上正常工作。"
   ]
  },
  {
   "cell_type": "markdown",
   "metadata": {
    "id": "c056e02ac509"
   },
   "source": [
    "### 目标\n",
    "\n",
    "本教程向您展示如何进行探索性数据分析，预处理数据，训练模型，评估模型，部署模型，并配置 What-If 工具。\n",
    "\n",
    "本教程使用以下 Google Cloud ML 服务和资源:\n",
    "\n",
    "- Vertex AI 模型\n",
    "- Vertex AI 端点\n",
    "- Vertex 可解释 AI\n",
    "- Google Cloud 存储\n",
    "- BigQuery\n",
    "\n",
    "执行的步骤包括:\n",
    "\n",
    "* 使用 \"笔记本中的 BigQuery\" 集成从 BigQuery 加载数据集。\n",
    "* 分析数据集。\n",
    "* 预处理数据集中的特征。\n",
    "* 构建一个随机森林分类器模型，预测产品在接下来的60天内是否会卖出。\n",
    "* 评估模型。\n",
    "* 使用 Vertex AI 部署模型。\n",
    "* 配置并使用 What-If 工具进行测试。"
   ]
  },
  {
   "cell_type": "markdown",
   "metadata": {
    "id": "172228308dfb"
   },
   "source": [
    "### 数据集\n",
    "\n",
    "这个笔记本中使用的数据集包含自2018年以来电子商务商店的库存数据。这个数据集作为一个BigQuery表公开可用，表名为`looker-private-demo.ecomm.inventory_items`，可以通过在BigQuery中固定`looker-private-demo`项目来访问。该表包含与电子商务库存项目相关的各种字段，如`id`、`product_id`、`cost`、商品到达商店的时间、商品出售的时间等。这个笔记本使用以下字段，假设它们的用途如下所述：\n",
    "\n",
    "- `id`：库存项目的ID\n",
    "- `product_id`：产品的ID\n",
    "- `created_at`：商品到达库存/商店时的时间\n",
    "- `sold_at`：商品销售的时间（*如果尚未售出则为空*）\n",
    "- `cost`：商品销售时的成本\n",
    "- `product_category`：产品的类别\n",
    "- `product_brand`：产品的品牌（稍后会被删除，因为值太多）\n",
    "- `product_retail_price`：产品的价格\n",
    "- `product_department`：产品所属的部门\n",
    "- `product_distribution_center_id`：产品销售自哪个分销中心（区域的近似值）\n",
    "\n",
    "数据集已经进行编码以隐藏任何私人信息。例如，分销中心已经被分配了从1到10的ID编号。"
   ]
  },
  {
   "cell_type": "markdown",
   "metadata": {
    "id": "12e1391884e6"
   },
   "source": [
    "### 费用\n",
    "\n",
    "此教程使用以下 Google Cloud 的计费组件：\n",
    "\n",
    "- Vertex AI\n",
    "- BigQuery\n",
    "- Cloud Storage\n",
    "\n",
    "了解关于 [Vertex AI 价格](https://cloud.google.com/vertex-ai/pricing), [BigQuery 价格](https://cloud.google.com/bigquery/pricing) 和 [Cloud Storage 价格](https://cloud.google.com/storage/pricing) 的信息，并使用 [价格计算器](https://cloud.google.com/products/calculator/) 根据您的预期使用量生成成本估算。"
   ]
  },
  {
   "cell_type": "markdown",
   "metadata": {
    "id": "0c522634d632"
   },
   "source": [
    "## 安装\n",
    "\n",
    "安装以下所需的软件包以执行这个笔记本。"
   ]
  },
  {
   "cell_type": "code",
   "execution_count": null,
   "metadata": {
    "id": "a1edbc2cf821"
   },
   "outputs": [],
   "source": [
    "! pip3 install --quiet --upgrade google-cloud-aiplatform \\\n",
    "                                    google-cloud-storage \\\n",
    "                                    seaborn \\\n",
    "                                    pandas \\\n",
    "                                    fsspec \\\n",
    "                                    witwidget \\\n",
    "                                    pyarrow \\\n",
    "                                    db-dtypes \\\n",
    "                                    gcsfs\n",
    "\n",
    "! pip3 install scikit-learn==1.2 protobuf==3.20.1"
   ]
  },
  {
   "cell_type": "markdown",
   "metadata": {
    "id": "e9255e3b156f"
   },
   "source": [
    "只有Colab：取消注释以下单元格以重新启动内核"
   ]
  },
  {
   "cell_type": "code",
   "execution_count": null,
   "metadata": {
    "id": "0c0b2427998a"
   },
   "outputs": [],
   "source": [
    "# Automatically restart kernel after installs so that your environment can access the new packages\n",
    "# import IPython\n",
    "\n",
    "# app = IPython.Application.instance()\n",
    "# app.kernel.do_shutdown(True)"
   ]
  },
  {
   "cell_type": "markdown",
   "metadata": {
    "id": "c587f3b9e1e9"
   },
   "source": [
    "## 开始之前\n",
    "\n",
    "### 设置您的 Google 云项目\n",
    "\n",
    "**无论您使用的是哪个笔记本环境，以下步骤都是必需的。**\n",
    "\n",
    "1. [选择或创建一个 Google 云项目](https://console.cloud.google.com/cloud-resource-manager)。当您首次创建帐户时，您将获得$300 的免费信用额度，可用于计算/存储成本。\n",
    "\n",
    "2. [确保为您的项目启用了计费功能](https://cloud.google.com/billing/docs/how-to/modify-project)。\n",
    "\n",
    "3. [启用 Vertex AI API](https://console.cloud.google.com/flows/enableapi?apiid=aiplatform.googleapis.com)。\n",
    "\n",
    "4. 如果您在本地运行此笔记本，您需要安装[Cloud SDK](https://cloud.google.com/sdk)。"
   ]
  },
  {
   "cell_type": "markdown",
   "metadata": {
    "id": "435b8e413535"
   },
   "source": [
    "#### 设置您的项目ID\n",
    "\n",
    "**如果您不知道您的项目ID**，请尝试以下操作：\n",
    "- 运行 `gcloud config list`\n",
    "- 运行 `gcloud projects list`\n",
    "- 查看支持页面：[查找项目ID](https://support.google.com/googleapi/answer/7014113)"
   ]
  },
  {
   "cell_type": "code",
   "execution_count": null,
   "metadata": {
    "id": "be175254a715"
   },
   "outputs": [],
   "source": [
    "PROJECT_ID = \"[your-project-id]\"  # @param {type:\"string\"}\n",
    "\n",
    "# set the project id\n",
    "! gcloud config set project {PROJECT_ID}"
   ]
  },
  {
   "cell_type": "markdown",
   "metadata": {
    "id": "2e6b8b324ce1"
   },
   "source": [
    "#### 区域\n",
    "\n",
    "您还可以更改 Vertex AI 使用的 `REGION` 变量。\n",
    "了解有关 [Vertex AI 区域](https://cloud.google.com/vertex-ai/docs/general/locations) 的更多信息。"
   ]
  },
  {
   "cell_type": "code",
   "execution_count": null,
   "metadata": {
    "id": "ae43d96c4b1b"
   },
   "outputs": [],
   "source": [
    "REGION = \"us-central1\"  # @param {type: \"string\"}"
   ]
  },
  {
   "cell_type": "markdown",
   "metadata": {
    "id": "6c43a8673066"
   },
   "source": [
    "### 认证您的 Google Cloud 账户\n",
    "\n",
    "根据您的 Jupyter 环境，您可能需要手动进行身份验证。请按照以下相关说明进行操作。\n",
    "\n",
    "**1. Vertex AI Workbench** \n",
    "- 如果您已经进行了身份验证，则无需进行任何操作。\n",
    "\n",
    "**2. 本地 JupyterLab 实例，请取消注释并运行。**"
   ]
  },
  {
   "cell_type": "code",
   "execution_count": null,
   "metadata": {
    "id": "fbc9cd30cc4b"
   },
   "outputs": [],
   "source": [
    "# ! gcloud auth login"
   ]
  },
  {
   "cell_type": "markdown",
   "metadata": {
    "id": "cd0da2c26879"
   },
   "source": [
    "3. 合作，取消注释并运行："
   ]
  },
  {
   "cell_type": "code",
   "execution_count": null,
   "metadata": {
    "id": "a336a05c6149"
   },
   "outputs": [],
   "source": [
    "# from google.colab import auth\n",
    "# auth.authenticate_user()"
   ]
  },
  {
   "cell_type": "markdown",
   "metadata": {
    "id": "0461097edfa5"
   },
   "source": [
    "4. 服务账号或其他\n",
    "- 查看所有身份验证选项请点击这里：[Google Cloud Platform Jupyter Notebook 身份验证指南](https://github.com/GoogleCloudPlatform/vertex-ai-samples/blob/main/notebooks/notebook_authentication_guide.ipynb)"
   ]
  },
  {
   "cell_type": "markdown",
   "metadata": {
    "id": "e5755d1a554f"
   },
   "source": [
    "创建一个云存储桶\n",
    "\n",
    "创建一个存储桶，用于存储诸如数据集之类的中间产物。"
   ]
  },
  {
   "cell_type": "code",
   "execution_count": null,
   "metadata": {
    "id": "d2de92accb67"
   },
   "outputs": [],
   "source": [
    "BUCKET_URI = f\"gs://your-bucket-name-{PROJECT_ID}-unique\"  # @param {type:\"string\"}"
   ]
  },
  {
   "cell_type": "markdown",
   "metadata": {
    "id": "b72bfdf29dae"
   },
   "source": [
    "只有在您的桶尚不存在时才能运行以下单元格来创建您的云存储桶。"
   ]
  },
  {
   "cell_type": "code",
   "execution_count": null,
   "metadata": {
    "id": "a4453435d115"
   },
   "outputs": [],
   "source": [
    "! gsutil mb -l {REGION} -p {PROJECT_ID} {BUCKET_URI}"
   ]
  },
  {
   "cell_type": "markdown",
   "metadata": {
    "id": "9c1d4f460b09"
   },
   "source": [
    "###导入库"
   ]
  },
  {
   "cell_type": "code",
   "execution_count": null,
   "metadata": {
    "id": "a36a786f4538"
   },
   "outputs": [],
   "source": [
    "import os\n",
    "import pickle\n",
    "\n",
    "import matplotlib.pyplot as plt\n",
    "import numpy as np\n",
    "import pandas as pd\n",
    "import sklearn.metrics as metrics\n",
    "from google.cloud import aiplatform, storage\n",
    "from google.cloud.bigquery import Client\n",
    "from sklearn.ensemble import RandomForestClassifier\n",
    "from sklearn.model_selection import train_test_split\n",
    "from sklearn.preprocessing import MinMaxScaler\n",
    "from witwidget.notebook.visualization import WitConfigBuilder, WitWidget"
   ]
  },
  {
   "cell_type": "markdown",
   "metadata": {
    "id": "5abe40a9d335"
   },
   "source": [
    "### 初始化 Python 的 Vertex AI SDK\n",
    "\n",
    "为您的项目初始化 Python 的 Vertex AI SDK。"
   ]
  },
  {
   "cell_type": "code",
   "execution_count": null,
   "metadata": {
    "id": "6a16f0d6e5a1"
   },
   "outputs": [],
   "source": [
    "aiplatform.init(project=PROJECT_ID, location=REGION, staging_bucket=BUCKET_URI)"
   ]
  },
  {
   "cell_type": "markdown",
   "metadata": {
    "id": "34f2b9e8bc9a"
   },
   "source": [
    "从BigQuery加载所需数据\n",
    "\n",
    "以下单元格通过Vertex AI的“Notebooks中的BigQuery”集成与同一项目中的BigQuery数据集成。它可以运行一个类似于在BigQuery控制台中运行的SQL查询。\n",
    "\n",
    "*注意:* 此功能仅在运行在Vertex AI Workbench托管笔记本实例上的笔记本中可用。"
   ]
  },
  {
   "cell_type": "markdown",
   "metadata": {
    "id": "13863517f8c8"
   },
   "source": [
    "#@bigquery\n",
    "SELECT \n",
    "    id,\n",
    "    product_id, \n",
    "    created_at,\n",
    "    sold_at,\n",
    "    cost,\n",
    "    product_category,\n",
    "    product_brand,\n",
    "    product_retail_price,\n",
    "    product_department,\n",
    "    product_distribution_center_id\n",
    "FROM \n",
    "looker-private-demo.ecomm.inventory_items"
   ]
  },
  {
   "cell_type": "markdown",
   "metadata": {
    "id": "50ed21be5ab7"
   },
   "source": [
    "执行上述单元格后，单击**查询并加载为数据框**按钮会添加以下Python单元格，将查询的数据加载到Pandas数据框中。"
   ]
  },
  {
   "cell_type": "code",
   "execution_count": null,
   "metadata": {
    "id": "e89e5832338a"
   },
   "outputs": [],
   "source": [
    "# The following two lines are only necessary to run once.\n",
    "# Comment out otherwise for speed-up.\n",
    "client = Client(project=PROJECT_ID)\n",
    "\n",
    "query = \"\"\"SELECT \n",
    "    id,\n",
    "    product_id, \n",
    "    created_at,\n",
    "    sold_at,\n",
    "    cost,\n",
    "    product_category,\n",
    "    product_brand,\n",
    "    product_retail_price,\n",
    "    product_department,\n",
    "    product_distribution_center_id\n",
    "FROM \n",
    "looker-private-demo.ecomm.inventory_items\"\"\"\n",
    "job = client.query(query)\n",
    "df = job.to_dataframe()"
   ]
  },
  {
   "cell_type": "markdown",
   "metadata": {
    "id": "4f9fc651fa8e"
   },
   "source": [
    "## 探索并清洗数据集\n",
    "\n",
    "检查数据集的前五行。"
   ]
  },
  {
   "cell_type": "code",
   "execution_count": null,
   "metadata": {
    "id": "da9f53ab3559"
   },
   "outputs": [],
   "source": [
    "df.head(5)"
   ]
  },
  {
   "cell_type": "markdown",
   "metadata": {
    "id": "5aa703b3f070"
   },
   "source": [
    "检查数据集中的字段及其数据类型和空值数量。"
   ]
  },
  {
   "cell_type": "code",
   "execution_count": null,
   "metadata": {
    "id": "b00164626bad"
   },
   "outputs": [],
   "source": [
    "df.info()"
   ]
  },
  {
   "cell_type": "markdown",
   "metadata": {
    "id": "730f6c2954f5"
   },
   "source": [
    "除了`sold_at`日期时间字段外，数据集中没有任何包含空值的字段。由于您正在处理库存物品数据，因此有些物品可能尚未售出，因此会出现空值。\n",
    "\n",
    "### 清理日期时间字段\n",
    "接下来，将日期字段转换为适当的日期格式，以便在下一步中处理。"
   ]
  },
  {
   "cell_type": "code",
   "execution_count": null,
   "metadata": {
    "id": "1ff70c9450ee"
   },
   "outputs": [],
   "source": [
    "# convert to proper date columns\n",
    "df[\"created_at\"] = pd.to_datetime(df[\"created_at\"], format=\"%Y-%m-%d\")\n",
    "df[\"sold_at\"] = pd.to_datetime(df[\"sold_at\"].dt.strftime(\"%Y-%m-%d\"))"
   ]
  },
  {
   "cell_type": "markdown",
   "metadata": {
    "id": "50fc83a65c71"
   },
   "source": [
    "检查日期范围。"
   ]
  },
  {
   "cell_type": "code",
   "execution_count": null,
   "metadata": {
    "id": "db6ac4523678"
   },
   "outputs": [],
   "source": [
    "# check the date ranges\n",
    "print(\"Min-sold_at : \", df[\"sold_at\"].min())\n",
    "print(\"Max-sold_at : \", df[\"sold_at\"].max())\n",
    "\n",
    "print(\"Min-created_at : \", df[\"created_at\"].min())\n",
    "print(\"Max-created_at : \", df[\"created_at\"].max())"
   ]
  },
  {
   "cell_type": "markdown",
   "metadata": {
    "id": "c8ec80d03032"
   },
   "source": [
    "### 提取有用的特征\n",
    "\n",
    "从日期字段`created_at`中提取月份。"
   ]
  },
  {
   "cell_type": "code",
   "execution_count": null,
   "metadata": {
    "id": "2694255a5bf2"
   },
   "outputs": [],
   "source": [
    "# calculate the month when the item has arrived\n",
    "df[\"arrival_month\"] = df[\"created_at\"].dt.month"
   ]
  },
  {
   "cell_type": "markdown",
   "metadata": {
    "id": "5d9a610a5c10"
   },
   "source": [
    "计算产品在库存中直至卖出的平均天数。"
   ]
  },
  {
   "cell_type": "code",
   "execution_count": null,
   "metadata": {
    "id": "5d4df4604949"
   },
   "outputs": [],
   "source": [
    "# calculate the number of days the item hasn't been sold.\n",
    "df[\"shelf_days\"] = (df[\"sold_at\"] - df[\"created_at\"]).dt.days"
   ]
  },
  {
   "cell_type": "markdown",
   "metadata": {
    "id": "d276e789a9a1"
   },
   "source": [
    "计算适用于产品的折扣百分比。"
   ]
  },
  {
   "cell_type": "code",
   "execution_count": null,
   "metadata": {
    "id": "c143c79dc7d1"
   },
   "outputs": [],
   "source": [
    "# calculate the discount offered\n",
    "df[\"discount_perc\"] = (df[\"product_retail_price\"] - df[\"cost\"]) / df[\n",
    "    \"product_retail_price\"\n",
    "]"
   ]
  },
  {
   "cell_type": "markdown",
   "metadata": {
    "id": "d5d9ce9bb19b"
   },
   "source": [
    "检查分类字段\n",
    "检查数据中的独特产品及其品牌。"
   ]
  },
  {
   "cell_type": "code",
   "execution_count": null,
   "metadata": {
    "id": "ac2e5ca3912e"
   },
   "outputs": [],
   "source": [
    "# check total unique items\n",
    "df[\"product_id\"].unique().shape, df[\"product_brand\"].unique().shape"
   ]
  },
  {
   "cell_type": "markdown",
   "metadata": {
    "id": "e667cd5fbb35"
   },
   "source": [
    "字段`product_id`和`product_brand`似乎有很多唯一值。为了预测的目的，使用`product_id`作为主键，删除`product_brand`，因为它具有太多的值/级别。\n",
    "\n",
    "分离需要的数字和分类字段以分析数据集。"
   ]
  },
  {
   "cell_type": "code",
   "execution_count": null,
   "metadata": {
    "id": "042f5cd1ff2e"
   },
   "outputs": [],
   "source": [
    "categ_cols = [\n",
    "    \"product_category\",\n",
    "    \"product_department\",\n",
    "    \"product_distribution_center_id\",\n",
    "    \"arrival_month\",\n",
    "]\n",
    "num_cols = [\"cost\", \"product_retail_price\", \"discount_perc\", \"shelf_days\"]"
   ]
  },
  {
   "cell_type": "markdown",
   "metadata": {
    "id": "6fa0a2d8b5ca"
   },
   "source": [
    "检查每个分类字段的各个类别的计数。"
   ]
  },
  {
   "cell_type": "code",
   "execution_count": null,
   "metadata": {
    "id": "16da0524b2ed"
   },
   "outputs": [],
   "source": [
    "for i in categ_cols:\n",
    "    print(i, \" - \", df[i].unique().shape[0])"
   ]
  },
  {
   "cell_type": "markdown",
   "metadata": {
    "id": "268ed7b88e23"
   },
   "source": [
    "检查数字字段的分布。"
   ]
  },
  {
   "cell_type": "code",
   "execution_count": null,
   "metadata": {
    "id": "bf50a707aa90"
   },
   "outputs": [],
   "source": [
    "df[num_cols].describe().T"
   ]
  },
  {
   "cell_type": "markdown",
   "metadata": {
    "id": "8888f572c8d1"
   },
   "source": [
    "将数据分布可视化\n",
    "\n",
    "为分类字段生成条形图，并为数值字段生成直方图和箱线图，以检查数据集中它们的分布情况。"
   ]
  },
  {
   "cell_type": "code",
   "execution_count": null,
   "metadata": {
    "id": "112fe37b915f"
   },
   "outputs": [],
   "source": [
    "for i in categ_cols:\n",
    "    df[i].value_counts(normalize=True).plot(kind=\"bar\")\n",
    "    plt.title(i)\n",
    "    plt.show()\n",
    "\n",
    "for i in num_cols:\n",
    "    _, ax = plt.subplots(1, 2, figsize=(10, 4))\n",
    "    df[i].plot(kind=\"box\", ax=ax[0])\n",
    "    df[i].plot(kind=\"hist\", ax=ax[1])\n",
    "    ax[0].set_title(i + \"-Boxplot\")\n",
    "    ax[1].set_title(i + \"-Histogram\")\n",
    "    plt.show()"
   ]
  },
  {
   "cell_type": "markdown",
   "metadata": {
    "id": "0250e32de345"
   },
   "source": [
    "大多数字段，如折扣、部门、配送中心-标识符，具有合理的分布。对于字段“产品类别”，有一些类别至少不构成数据集的2%。虽然在一些数值字段中存在异常值，但它们被豁免不被移除，因为可能有一些价格昂贵或属于不经常看到许多销售的特定类别的产品。\n",
    "\n",
    "## 特征预处理\n",
    "\n",
    "接下来，基于数据中合适的分类字段对数据进行聚合，并获取产品售出所需的平均天数。对于给定的“产品标识符”，在此数据集中可能有多个项目标识符，并且您希望在产品级别上预测该特定产品是否将在接下来的几个月内销售。您正在根据数据集中存在的每个产品配置对数据进行聚合，例如价格、成本、类别以及在哪个中心出售。通过这种方式，模型可以预测具有某些属性的产品是否将在接下来的几个月内销售。\n",
    "\n",
    "### 生成聚合特性\n",
    "\n",
    "对于产品售出的天数，找到“上架天数”字段的平均值。"
   ]
  },
  {
   "cell_type": "code",
   "execution_count": null,
   "metadata": {
    "id": "8daf9985aa23"
   },
   "outputs": [],
   "source": [
    "groupby_cols = [\n",
    "    \"product_id\",\n",
    "    \"product_distribution_center_id\",\n",
    "    \"product_category\",\n",
    "    \"product_department\",\n",
    "    \"arrival_month\",\n",
    "    \"product_retail_price\",\n",
    "    \"cost\",\n",
    "    \"discount_perc\",\n",
    "]\n",
    "value_cols = [\"shelf_days\"]\n",
    "\n",
    "\n",
    "df_prod = df[groupby_cols + value_cols].groupby(by=groupby_cols).mean().reset_index()"
   ]
  },
  {
   "cell_type": "markdown",
   "metadata": {
    "id": "fbaf4c3f5a83"
   },
   "source": [
    "检查汇总的产品级数据。"
   ]
  },
  {
   "cell_type": "code",
   "execution_count": null,
   "metadata": {
    "id": "74afffc4380a"
   },
   "outputs": [],
   "source": [
    "df_prod.head()"
   ]
  },
  {
   "cell_type": "markdown",
   "metadata": {
    "id": "c9aafbab9c88"
   },
   "source": [
    "在数据中查找空值。"
   ]
  },
  {
   "cell_type": "code",
   "execution_count": null,
   "metadata": {
    "id": "26523245c145"
   },
   "outputs": [],
   "source": [
    "df_prod.isna().sum() / df.shape[0]"
   ]
  },
  {
   "cell_type": "markdown",
   "metadata": {
    "id": "bafab84172e7"
   },
   "source": [
    "只有`shelf_days`字段具有与没有售出商品的`product_id`对应的空值。\n",
    "\n",
    "### 绘制数据分布图\n",
    "\n",
    "通过生成一个箱线图来绘制聚合后的`shelf_days`字段的分布情况。"
   ]
  },
  {
   "cell_type": "code",
   "execution_count": null,
   "metadata": {
    "id": "efe00052e1fd"
   },
   "outputs": [],
   "source": [
    "df_prod[\"shelf_days\"].plot(kind=\"box\")"
   ]
  },
  {
   "cell_type": "markdown",
   "metadata": {
    "id": "8acaa01b21bd"
   },
   "source": [
    "在这里，您可以看到大多数产品在抵达库存/商店后的60天内就被售出。在本教程中，您将训练一个可以预测产品在60天内售出概率的机器学习模型。\n",
    "\n",
    "### 对分类字段进行编码\n",
    "\n",
    "对`shelf_days`字段进行编码，生成目标字段`sold_in_2mnt`，表示产品是否在60天内售出。"
   ]
  },
  {
   "cell_type": "code",
   "execution_count": null,
   "metadata": {
    "id": "383915875d38"
   },
   "outputs": [],
   "source": [
    "df_prod[\"sold_in_2mnt\"] = df_prod[\"shelf_days\"].apply(\n",
    "    lambda x: 1 if x >= 0 and x < 60 else 0\n",
    ")\n",
    "df_prod[\"sold_in_2mnt\"].value_counts(normalize=True)"
   ]
  },
  {
   "cell_type": "markdown",
   "metadata": {
    "id": "4dd380c38579"
   },
   "source": [
    "将特征分隔到变量中用于模型构建。"
   ]
  },
  {
   "cell_type": "code",
   "execution_count": null,
   "metadata": {
    "id": "40d373151be5"
   },
   "outputs": [],
   "source": [
    "target = \"sold_in_2mnt\"\n",
    "categ_cols = [\n",
    "    \"product_category\",\n",
    "    \"product_department\",\n",
    "    \"product_distribution_center_id\",\n",
    "    \"arrival_month\",\n",
    "]\n",
    "num_cols = [\"product_retail_price\", \"cost\", \"discount_perc\"]"
   ]
  },
  {
   "cell_type": "markdown",
   "metadata": {
    "id": "87ce893f2d45"
   },
   "source": [
    "对`product_department`字段进行编码。"
   ]
  },
  {
   "cell_type": "code",
   "execution_count": null,
   "metadata": {
    "id": "bd68935d2a12"
   },
   "outputs": [],
   "source": [
    "df[\"product_deprtment\"] = (\n",
    "    df[\"product_department\"].apply(lambda x: 1 if x == \"Women\" else 0).value_counts()\n",
    ")"
   ]
  },
  {
   "cell_type": "markdown",
   "metadata": {
    "id": "6d23387828fd"
   },
   "source": [
    "对于模型构建，编码剩余的分类字段。"
   ]
  },
  {
   "cell_type": "code",
   "execution_count": null,
   "metadata": {
    "id": "8bbdbfa3a4cf"
   },
   "outputs": [],
   "source": [
    "# Create dummy variables for each categ. variable\n",
    "for i in categ_cols:\n",
    "    ml = pd.get_dummies(df_prod[i], prefix=i + \"_\", drop_first=True)\n",
    "    df_new = pd.concat([df_prod, ml], axis=1)\n",
    "\n",
    "df_new.drop(columns=categ_cols, inplace=True)\n",
    "df_new.shape"
   ]
  },
  {
   "cell_type": "markdown",
   "metadata": {
    "id": "f8c85be588b4"
   },
   "source": [
    "将数值字段`product_retail_price`和`cost`标准化为0-1范围，使用最小-最大标准化技术。"
   ]
  },
  {
   "cell_type": "code",
   "execution_count": null,
   "metadata": {
    "id": "0790352a2ce9"
   },
   "outputs": [],
   "source": [
    "scaler = MinMaxScaler()\n",
    "scaler = scaler.fit(df_new[[\"product_retail_price\", \"cost\"]])\n",
    "df_new[[\"product_retail_price_norm\", \"cost_norm\"]] = scaler.transform(\n",
    "    df_new[[\"product_retail_price\", \"cost\"]]\n",
    ")"
   ]
  },
  {
   "cell_type": "markdown",
   "metadata": {
    "id": "86e444ca1e02"
   },
   "source": [
    "训练模型\n",
    "\n",
    "从数据框中收集所需字段。"
   ]
  },
  {
   "cell_type": "code",
   "execution_count": null,
   "metadata": {
    "id": "360ab6634571"
   },
   "outputs": [],
   "source": [
    "cols = [\n",
    "    \"discount_perc\",\n",
    "    \"arrival_month__2\",\n",
    "    \"arrival_month__3\",\n",
    "    \"arrival_month__4\",\n",
    "    \"arrival_month__5\",\n",
    "    \"arrival_month__6\",\n",
    "    \"arrival_month__7\",\n",
    "    \"arrival_month__8\",\n",
    "    \"arrival_month__9\",\n",
    "    \"arrival_month__10\",\n",
    "    \"arrival_month__11\",\n",
    "    \"arrival_month__12\",\n",
    "    \"product_retail_price_norm\",\n",
    "    \"cost_norm\",\n",
    "]"
   ]
  },
  {
   "cell_type": "markdown",
   "metadata": {
    "id": "500051a07ae8"
   },
   "source": [
    "将数据分成训练（80%）和测试（20%）集。"
   ]
  },
  {
   "cell_type": "code",
   "execution_count": null,
   "metadata": {
    "id": "44ab347a30da"
   },
   "outputs": [],
   "source": [
    "X = df_new[cols].copy()\n",
    "y = df_new[target].copy()\n",
    "train_X, test_X, train_y, test_y = train_test_split(\n",
    "    X, y, train_size=0.8, test_size=0.2, random_state=7\n",
    ")"
   ]
  },
  {
   "cell_type": "markdown",
   "metadata": {
    "id": "c29820548054"
   },
   "source": [
    "创建一个[随机森林分类器](https://scikit-learn.org/stable/modules/generated/sklearn.ensemble.RandomForestClassifier.html#sklearn.ensemble.RandomForestClassifier)对象，并将其拟合到训练数据上。"
   ]
  },
  {
   "cell_type": "code",
   "execution_count": null,
   "metadata": {
    "id": "5b88ca090e82"
   },
   "outputs": [],
   "source": [
    "model = RandomForestClassifier(random_state=7, n_estimators=100)\n",
    "model.fit(train_X[cols], train_y)"
   ]
  },
  {
   "cell_type": "markdown",
   "metadata": {
    "id": "ef4e662be2c3"
   },
   "source": [
    "## 评估模型\n",
    "\n",
    "在测试集上进行预测，并检查模型的准确率。"
   ]
  },
  {
   "cell_type": "code",
   "execution_count": null,
   "metadata": {
    "id": "22f02b56dfb4"
   },
   "outputs": [],
   "source": [
    "pred_y = model.predict(test_X[cols])\n",
    "\n",
    "# Calculate the accuracy as our performance metric\n",
    "accuracy = metrics.accuracy_score(test_y, pred_y)\n",
    "print(\"Accuracy: \", accuracy)"
   ]
  },
  {
   "cell_type": "markdown",
   "metadata": {
    "id": "6f8bd1bc40c8"
   },
   "source": [
    "在测试集上生成混淆矩阵。"
   ]
  },
  {
   "cell_type": "code",
   "execution_count": null,
   "metadata": {
    "id": "c6f38583e47b"
   },
   "outputs": [],
   "source": [
    "confusion = metrics.confusion_matrix(test_y, pred_y)\n",
    "print(f\"Confusion matrix:\\n{confusion}\")\n",
    "\n",
    "print(\"\\nNormalized confusion matrix:\")\n",
    "for row in confusion:\n",
    "    print(row / row.sum())"
   ]
  },
  {
   "cell_type": "markdown",
   "metadata": {
    "id": "e5be657cf605"
   },
   "source": [
    "模型的性能可以用特异性（真阴性率）和敏感性（真阳性率）来说明。在归一化混淆矩阵中，左上角的值代表真阴性率，右下角的值代表真阳性率。\n",
    "\n",
    "接下来，将模型保存到创建的云存储桶中以便部署。"
   ]
  },
  {
   "cell_type": "code",
   "execution_count": null,
   "metadata": {
    "id": "f133a2b37e72"
   },
   "outputs": [],
   "source": [
    "# save the trained model to a local file \"model.pkl\"\n",
    "FILE_NAME = \"model.pkl\"\n",
    "with open(FILE_NAME, \"wb\") as file:\n",
    "    pickle.dump(model, file)\n",
    "\n",
    "# Upload the saved model file to Cloud Storage\n",
    "BLOB_PATH = \"inventory_prediction/\"\n",
    "BLOB_NAME = os.path.join(BLOB_PATH, FILE_NAME)\n",
    "\n",
    "bucket = storage.Client().bucket(BUCKET_URI[5:])\n",
    "\n",
    "blob = bucket.blob(BLOB_NAME)\n",
    "blob.upload_from_filename(FILE_NAME)"
   ]
  },
  {
   "cell_type": "markdown",
   "metadata": {
    "id": "870deb700dbe"
   },
   "source": [
    "将模型上传到Vertex AI\n",
    "\n",
    "指定以下参数以在Vertex AI Model Registry中创建模型：\n",
    "\n",
    "- `display_name`：模型的显示名称。\n",
    "- `artifact_uri`：包含模型工件及其支持文件的目录路径。\n",
    "- `serving_container_image_uri`：模型服务容器的URI。\n",
    "\n",
    "了解更多关于[Vertex AI Model Registry](https://cloud.google.com/vertex-ai/docs/model-registry/introduction)的信息。"
   ]
  },
  {
   "cell_type": "code",
   "execution_count": null,
   "metadata": {
    "id": "abba6fb0e95e"
   },
   "outputs": [],
   "source": [
    "MODEL_DISPLAY_NAME = \"inventory-pred-model-unique\"  # @param {type:\"string\"}\n",
    "ARTIFACT_GCS_PATH = f\"{BUCKET_URI}/{BLOB_PATH}\""
   ]
  },
  {
   "cell_type": "markdown",
   "metadata": {
    "id": "abdf27ad5868"
   },
   "source": [
    "建立一个顶点 AI 模型资源。\n",
    "\n",
    "确保 Sklearn 用于服务容器的版本与用于训练模型的本地版本匹配。详细了解可用的[用于顶点 AI 的预构建容器](https://cloud.google.com/vertex-ai/docs/predictions/pre-built-containers)。"
   ]
  },
  {
   "cell_type": "code",
   "execution_count": null,
   "metadata": {
    "id": "7f5056eebe27"
   },
   "outputs": [],
   "source": [
    "model = aiplatform.Model.upload(\n",
    "    display_name=MODEL_DISPLAY_NAME,\n",
    "    artifact_uri=ARTIFACT_GCS_PATH,\n",
    "    serving_container_image_uri=\"us-docker.pkg.dev/vertex-ai/prediction/sklearn-cpu.1-2:latest\",\n",
    ")\n",
    "\n",
    "model.wait()\n",
    "\n",
    "print(\"Display name:\\n\", model.display_name)\n",
    "print(\"Resource name:\\n\", model.resource_name)"
   ]
  },
  {
   "cell_type": "markdown",
   "metadata": {
    "id": "b79b95b76f04"
   },
   "source": [
    "## 创建 Vertex AI 终端节点\n",
    "\n",
    "为终端节点设置显示名称。"
   ]
  },
  {
   "cell_type": "code",
   "execution_count": null,
   "metadata": {
    "id": "3772df492ba8"
   },
   "outputs": [],
   "source": [
    "ENDPOINT_DISPLAY_NAME = \"inventory-pred-endpoint-unique\"  # @param {type:\"string\"}"
   ]
  },
  {
   "cell_type": "markdown",
   "metadata": {
    "id": "7a7a33af9232"
   },
   "source": [
    "在Vertex AI上创建一个端点资源。"
   ]
  },
  {
   "cell_type": "code",
   "execution_count": null,
   "metadata": {
    "id": "de9b0b9098f9"
   },
   "outputs": [],
   "source": [
    "endpoint = aiplatform.Endpoint.create(display_name=ENDPOINT_DISPLAY_NAME)\n",
    "\n",
    "print(\"Display name:\\n\", endpoint.display_name)\n",
    "print(\"Resource name:\\n\", endpoint.resource_name)"
   ]
  },
  {
   "cell_type": "markdown",
   "metadata": {
    "id": "8013ca32c1a3"
   },
   "source": [
    "部署模型到创建的端点\n",
    "\n",
    "指定用于提供部署模型所需的机器类型。"
   ]
  },
  {
   "cell_type": "code",
   "execution_count": null,
   "metadata": {
    "id": "f70de6008667"
   },
   "outputs": [],
   "source": [
    "MACHINE_TYPE = \"n1-standard-2\""
   ]
  },
  {
   "cell_type": "markdown",
   "metadata": {
    "id": "9a20c48a5cc9"
   },
   "source": [
    "将模型部署到创建的端点。"
   ]
  },
  {
   "cell_type": "code",
   "execution_count": null,
   "metadata": {
    "id": "7739e77d3a4a"
   },
   "outputs": [],
   "source": [
    "model.deploy(endpoint=endpoint, machine_type=MACHINE_TYPE)\n",
    "\n",
    "model.wait()\n",
    "\n",
    "print(\"Model display-name:\\n\", model.display_name)\n",
    "print(\"Model resource-name:\\n\", model.resource_name)"
   ]
  },
  {
   "cell_type": "markdown",
   "metadata": {
    "id": "6d4f008fd6cc"
   },
   "source": [
    "列出部署到端点的模型，并确保库存预测模型被列出。"
   ]
  },
  {
   "cell_type": "code",
   "execution_count": null,
   "metadata": {
    "id": "5ea220f20668"
   },
   "outputs": [],
   "source": [
    "endpoint.list_models()"
   ]
  },
  {
   "cell_type": "markdown",
   "metadata": {
    "id": "75cbc77cbcd9"
   },
   "source": [
    "## What-If 工具\n",
    "\n",
    "What-If 工具可用于分析测试数据上的模型预测。在本教程中，What-If 工具已在前几步部署在 Vertex AI Endpoints 上的模型上进行配置和运行。\n",
    "\n",
    "WitConfigBuilder 提供了 set_ai_platform_model() 方法，以使用在 Ai 平台模型上部署的版本配置 What-If 工具。该功能目前仅支持 Ai 平台，而不支持 Vertex AI 模型。幸运的是，还有一个选项，可以通过 set_custom_predict_fn() 方法传递一个自定义函数来生成预测，该函数可以传递本地训练的模型或返回从 Vertex AI 模型中生成预测的函数。\n",
    "\n",
    "了解更多关于[What-If 工具](https://pair-code.github.io/what-if-tool/get-started/)。\n",
    "\n",
    "### 准备测试样本\n",
    "\n",
    "保存一些来自测试数据的样本，以便分析使用 What-If 工具的模型的两个可用类别（欺诈/非欺诈）。"
   ]
  },
  {
   "cell_type": "code",
   "execution_count": null,
   "metadata": {
    "id": "81839e084a9e"
   },
   "outputs": [],
   "source": [
    "# collect some samples for each class-label from the test data\n",
    "sample_size = 200\n",
    "pos_samples = test_y[test_y == 1].sample(sample_size).index\n",
    "neg_samples = test_y[test_y == 0].sample(sample_size).index\n",
    "test_samples_y = pd.concat([test_y.loc[pos_samples], test_y.loc[neg_samples]])\n",
    "test_samples_X = test_X.loc[test_samples_y.index].copy()"
   ]
  },
  {
   "cell_type": "markdown",
   "metadata": {
    "id": "8974bf829a5f"
   },
   "source": [
    "运行已部署的Vertex AI模型上的What-If工具\n",
    "\n",
    "定义一个函数来从已部署的模型中获取预测，并在创建的测试数据上运行它，配置What-If工具。"
   ]
  },
  {
   "cell_type": "code",
   "execution_count": null,
   "metadata": {
    "id": "1cf06d79a585"
   },
   "outputs": [],
   "source": [
    "# configure the target and class-labels\n",
    "TARGET_FEATURE = target\n",
    "LABEL_VOCAB = [\"not-sold\", \"sold\"]\n",
    "\n",
    "# function to return predictions from the deployed Model\n",
    "\n",
    "\n",
    "def endpoint_predict_sample(instances: list):\n",
    "    prediction = endpoint.predict(instances=instances)\n",
    "    preds = [[1 - i, i] for i in prediction.predictions]\n",
    "    return preds\n",
    "\n",
    "\n",
    "# Combine the features and labels into one array for the What-If Tool\n",
    "test_examples = np.hstack(\n",
    "    (test_samples_X.to_numpy(), test_samples_y.to_numpy().reshape(-1, 1))\n",
    ")\n",
    "\n",
    "# Configure the WIT with the prediction function\n",
    "config_builder = (\n",
    "    WitConfigBuilder(test_examples.tolist(), test_samples_X.columns.tolist() + [target])\n",
    "    .set_custom_predict_fn(endpoint_predict_sample)\n",
    "    .set_target_feature(TARGET_FEATURE)\n",
    "    .set_label_vocab(LABEL_VOCAB)\n",
    ")\n",
    "\n",
    "# run the WIT-widget\n",
    "WitWidget(config_builder, height=800)"
   ]
  },
  {
   "cell_type": "markdown",
   "metadata": {
    "id": "6638bb7caaeb"
   },
   "source": [
    "### 了解假设工具\n",
    "\n",
    "在**数据点编辑器**选项卡中，您可以突出显示结果集中的一个点，并要求假设工具选择“最接近的对照事实”。这是与您选择的数据行最接近但结果相反的一行数据。左侧表中的特征是可编辑的，并可以显示需要进行哪些调整才能使特定数据行从一个结果翻转到另一个结果。例如，更改*discount_percentage*特征会显示它如何影响预测。\n",
    "\n",
    "在**性能和公平性**选项卡下，您可以按第二个变量对预测结果进行分段。这可以让您更深入地了解数据的不同部分对模型预测的反应。例如，在以下图片中，*discount_percentage*越高，假负例越少，而*discount_percentage*越低，假正例越多。\n",
    "\n",
    "最后，**特征**选项卡为您提供了一种直观且交互式的方式来了解数据中存在的特征。与在本笔记本中执行的探索性数据分析步骤类似，假设工具提供了关于特征的视觉和统计描述。"
   ]
  },
  {
   "cell_type": "markdown",
   "metadata": {
    "id": "d17d23fab0b1"
   },
   "source": [
    "清理\n",
    "\n",
    "要清理此项目中使用的所有Google Cloud资源，您可以删除用于本教程的[Google Cloud项目](https://cloud.google.com/resource-manager/docs/creating-managing-projects#shutting_down_projects)。\n",
    "\n",
    "否则，您可以删除本教程中创建的各个资源：\n",
    "\n",
    "- Vertex AI终端\n",
    "- Vertex AI模型\n",
    "- Cloud Storage存储桶（设置`delete_bucket`为*True*以进行删除）"
   ]
  },
  {
   "cell_type": "code",
   "execution_count": null,
   "metadata": {
    "id": "481638c98a10"
   },
   "outputs": [],
   "source": [
    "# Undeploy the model\n",
    "endpoint.undeploy_all()\n",
    "\n",
    "# Delete the endpoint\n",
    "endpoint.delete()\n",
    "\n",
    "# Delete the model\n",
    "model.delete()\n",
    "\n",
    "# Set this to true only if you'd like to delete your bucket\n",
    "delete_bucket = False\n",
    "\n",
    "if delete_bucket or os.getenv(\"IS_TESTING\"):\n",
    "    ! gsutil -m rm -r $BUCKET_URI"
   ]
  }
 ],
 "metadata": {
  "colab": {
   "name": "inventory_prediction.ipynb",
   "toc_visible": true
  },
  "kernelspec": {
   "display_name": "Python 3",
   "name": "python3"
  }
 },
 "nbformat": 4,
 "nbformat_minor": 0
}
