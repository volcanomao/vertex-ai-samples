{
 "cells": [
  {
   "cell_type": "code",
   "execution_count": null,
   "metadata": {
    "id": "ur8xi4C7S06n"
   },
   "outputs": [],
   "source": [
    "# Copyright 2022 Google LLC\n",
    "#\n",
    "# Licensed under the Apache License, Version 2.0 (the \"License\");\n",
    "# you may not use this file except in compliance with the License.\n",
    "# You may obtain a copy of the License at\n",
    "#\n",
    "#     https://www.apache.org/licenses/LICENSE-2.0\n",
    "#\n",
    "# Unless required by applicable law or agreed to in writing, software\n",
    "# distributed under the License is distributed on an \"AS IS\" BASIS,\n",
    "# WITHOUT WARRANTIES OR CONDITIONS OF ANY KIND, either express or implied.\n",
    "# See the License for the specific language governing permissions and\n",
    "# limitations under the License."
   ]
  },
  {
   "cell_type": "markdown",
   "metadata": {
    "id": "JAPoU8Sm5E6e"
   },
   "source": [
    "# 使用 TabNet 模型的 Vertex AI 解释\n",
    "\n",
    "<table align=\"left\">\n",
    "\n",
    "  <td>\n",
    "    <a href=\"https://colab.research.google.com/github/GoogleCloudPlatform/vertex-ai-samples/blob/main/notebooks/official/tabnet/ai-explanations-tabnet-algorithm.ipynb\">\n",
    "      <img src=\"https://cloud.google.com/ml-engine/images/colab-logo-32px.png\" alt=\"Colab logo\"> 在 Colab 中运行\n",
    "    </a>\n",
    "  </td>\n",
    "  <td>\n",
    "    <a href=\"https://github.com/GoogleCloudPlatform/vertex-ai-samples/blob/main/notebooks/official/tabnet/ai-explanations-tabnet-algorithm.ipynb\">\n",
    "      <img src=\"https://cloud.google.com/ml-engine/images/github-logo-32px.png\" alt=\"GitHub logo\">\n",
    "      在 GitHub 上查看\n",
    "    </a>\n",
    "  </td>\n",
    "  <td>\n",
    "    <a href=\"https://console.cloud.google.com/vertex-ai/workbench/deploy-notebook?download_url=https://raw.githubusercontent.com/GoogleCloudPlatform/vertex-ai-samples/main/notebooks/official/tabnet/ai-explanations-tabnet-algorithm.ipynb\">\n",
    "      <img src=\"https://lh3.googleusercontent.com/UiNooY4LUgW_oTvpsNhPpQzsstV5W8F7rYgxgGBD85cWJoLmrOzhVs_ksK_vgx40SHs7jCqkTkCk=e14-rj-sc0xffffff-h130-w32\" alt=\"Vertex AI logo\">\n",
    "      在 Vertex AI Workbench 中打开\n",
    "    </a>\n",
    "  </td>                                                                                               \n",
    "</table>"
   ]
  },
  {
   "cell_type": "markdown",
   "metadata": {
    "id": "ce49f48f9bb2"
   },
   "source": [
    "## 概述\n",
    "\n",
    "Vertex AI 提供了一种名为[TabNet](https://arxiv.org/abs/1908.07442)的算法。TabNet是一种用于表格（结构化）数据的可解释深度学习架构，是企业中最常见的数据类型。TabNet结合了两个世界的优势：它具有可解释性，就像简单的基于树的模型，同时又可以实现复杂黑盒模型和集成模型的高准确性，意味着它既精确又不会模糊模型的工作原理。这使得TabNet非常适合一系列表格数据任务，其中模型的可解释性和准确性同样重要。\n",
    "\n",
    "本教程的目标是提供一个示例绘图工具，用于可视化TabNet的输出，从而有助于解释该算法。\n",
    "\n",
    "了解更多关于[Tabular Workflow for TabNet](https://cloud.google.com/vertex-ai/docs/tabular-data/tabular-workflows/tabnet)。"
   ]
  },
  {
   "cell_type": "markdown",
   "metadata": {
    "id": "tvgnzT1CKxrO"
   },
   "source": [
    "### 目标\n",
    "\n",
    "在本教程中，您将学习如何提供一个示例绘图工具来可视化TabNet的输出，这有助于解释该算法。\n",
    "\n",
    "本教程使用以下Google Cloud ML服务和资源：\n",
    "\n",
    "- Vertex Explainable AI\n",
    "- TabNet内置算法\n",
    "\n",
    "所执行的步骤包括：\n",
    "* 设置项目。\n",
    "* 下载在Syn2数据上预训练模型的预测数据。\n",
    "* 根据掩码输出可视化并理解特征重要性。\n",
    "* 清理本教程创建的资源。"
   ]
  },
  {
   "cell_type": "markdown",
   "metadata": {
    "id": "3d631370325e"
   },
   "source": [
    "### 数据集\n",
    "\n",
    "本教程使用合成数据集Synthetic_2 (Syn2)，详细描述在 [学习解释](https://arxiv.org/pdf/1802.07814.pdf) 论文的第4.1节中。输入特征 X 是从一个10维标准高斯分布生成的。响应变量 Y 仅从特征 X[3:6] 中生成。数据已分为训练集和预测集，并已上传至Google Cloud Storage:\n",
    "* 训练数据: gs://cloud-samples-data/ai-platform-unified/datasets/tabnet/tab_net_input/syn2_train.csv。\n",
    "* 预测输出数据: gs://cloud-samples-data/ai-platform-unified/datasets/tabnet/tab_net_output/syn2\n",
    "\n",
    "目前，TabNet预训练模型文件尚未公开提供。"
   ]
  },
  {
   "cell_type": "markdown",
   "metadata": {
    "id": "5e2eba58ad71"
   },
   "source": [
    "成本\n",
    "\n",
    "本教程使用 Google Cloud 的计费组件：\n",
    "\n",
    "* Vertex AI\n",
    "* 云存储\n",
    "\n",
    "了解 [Vertex AI\n",
    "定价](https://cloud.google.com/vertex-ai/pricing) 和 [云存储\n",
    "定价](https://cloud.google.com/storage/pricing)，并使用 [定价计算器](https://cloud.google.com/products/calculator/)\n",
    "根据您预计的使用量生成成本估算。"
   ]
  },
  {
   "cell_type": "markdown",
   "metadata": {
    "id": "xOMNWzTbftDr"
   },
   "source": [
    "安装以下必要的软件包以执行此笔记本。"
   ]
  },
  {
   "cell_type": "code",
   "execution_count": null,
   "metadata": {
    "id": "9eb4e79842bf"
   },
   "outputs": [],
   "source": [
    "! pip3 install --upgrade --quiet google-cloud-aiplatform tensorflow"
   ]
  },
  {
   "cell_type": "markdown",
   "metadata": {
    "id": "restart"
   },
   "source": [
    "### 只有在 Colab 上：取消注释以下单元格以重新启动内核。"
   ]
  },
  {
   "cell_type": "code",
   "execution_count": null,
   "metadata": {
    "id": "bzPxhxS5lugp"
   },
   "outputs": [],
   "source": [
    "# Automatically restart kernel after installs so that your environment can access the new packages\n",
    "# import IPython\n",
    "\n",
    "# app = IPython.Application.instance()\n",
    "# app.kernel.do_shutdown(True)"
   ]
  },
  {
   "cell_type": "markdown",
   "metadata": {
    "id": "d2qpIurSjmpT"
   },
   "source": [
    "## 在开始之前\n",
    "\n",
    "### 设置你的 Google Cloud 项目\n",
    "\n",
    "**无论您使用的是哪种笔记本环境，以下步骤都是必需的。**\n",
    "\n",
    "1. [选择或创建一个 Google Cloud 项目](https://console.cloud.google.com/cloud-resource-manager)。当您第一次创建一个帐户时，您会获得 $300 的免费信用用于支付您的计算/存储费用。\n",
    "\n",
    "2. [确保您的项目已启用计费功能](https://cloud.google.com/billing/docs/how-to/modify-project)。\n",
    "\n",
    "3. [启用以下 API：Vertex AI API，Cloud 资源管理器 API](https://console.cloud.google.com/flows/enableapi?apiid=aiplatform.googleapis.com,cloudresourcemanager.googleapis.com)。\n",
    "\n",
    "4. 如果您在本地运行此笔记本，您需要安装[Cloud SDK（云 SDK）](https://cloud.google.com/sdk)。"
   ]
  },
  {
   "cell_type": "markdown",
   "metadata": {
    "id": "project_id"
   },
   "source": [
    "设置您的项目ID\n",
    "\n",
    "**如果您不知道您的项目ID**，请尝试以下操作：\n",
    "- 运行 `gcloud config list`。\n",
    "- 运行 `gcloud projects list`。\n",
    "- 查看支持页面：[查找项目ID](https://support.google.com/googleapi/answer/7014113)。"
   ]
  },
  {
   "cell_type": "code",
   "execution_count": null,
   "metadata": {
    "id": "wsePm9c4jmpT"
   },
   "outputs": [],
   "source": [
    "PROJECT_ID = \"[your-project-id]\"  # @param {type:\"string\"}\n",
    "\n",
    "# Set the project id\n",
    "! gcloud config set project {PROJECT_ID}"
   ]
  },
  {
   "cell_type": "markdown",
   "metadata": {
    "id": "a54f9d7c1876"
   },
   "source": [
    "区域\n",
    "\n",
    "您也可以更改 Vertex AI 使用的 `REGION` 变量。了解更多关于 [Vertex AI 区域](https://cloud.google.com/vertex-ai/docs/general/locations)。"
   ]
  },
  {
   "cell_type": "code",
   "execution_count": null,
   "metadata": {
    "id": "3aaadaaf9b30"
   },
   "outputs": [],
   "source": [
    "REGION = \"us-central1\"  # @param {type: \"string\"}"
   ]
  },
  {
   "cell_type": "markdown",
   "metadata": {
    "id": "e663bd062c6f"
   },
   "source": [
    "UUID\n",
    "\n",
    "如果您正在进行实时教程会话，您可能正在使用共享测试帐户或项目。为了避免在创建的资源之间发生名称冲突，您为每个实例会话创建一个UUID，并将其附加到您在本教程中创建的资源名称上。"
   ]
  },
  {
   "cell_type": "code",
   "execution_count": null,
   "metadata": {
    "id": "953fa6e5ddda"
   },
   "outputs": [],
   "source": [
    "import random\n",
    "import string\n",
    "\n",
    "\n",
    "# Generate a uuid of a specifed length(default=8)\n",
    "def generate_uuid(length: int = 8) -> str:\n",
    "    return \"\".join(random.choices(string.ascii_lowercase + string.digits, k=length))\n",
    "\n",
    "\n",
    "UUID = generate_uuid()"
   ]
  },
  {
   "cell_type": "markdown",
   "metadata": {
    "id": "5c0404984792"
   },
   "source": [
    "### 验证您的 Google Cloud 帐户\n",
    "\n",
    "根据您的 Jupyter 环境，您可能需要手动进行身份验证。请按照下面的相关说明进行操作。\n",
    "\n",
    "**1. Vertex AI Workbench**\n",
    "* 不用做任何操作，因为您已经通过身份验证。\n",
    "\n",
    "**2. 本地 JupyterLab 实例，请取消注释并运行：**"
   ]
  },
  {
   "cell_type": "code",
   "execution_count": null,
   "metadata": {
    "id": "Nt8cEM2GjmpU"
   },
   "outputs": [],
   "source": [
    "# ! gcloud auth login"
   ]
  },
  {
   "cell_type": "markdown",
   "metadata": {
    "id": "XUSL_JcpjmpU"
   },
   "source": [
    "3. 合作，取消注释并运行："
   ]
  },
  {
   "cell_type": "code",
   "execution_count": null,
   "metadata": {
    "id": "_2zemfGvjmpU"
   },
   "outputs": [],
   "source": [
    "# from google.colab import auth\n",
    "# auth.authenticate_user()"
   ]
  },
  {
   "cell_type": "markdown",
   "metadata": {
    "id": "TCPJ38n7jmpU"
   },
   "source": [
    "4. 服务帐户或其他\n",
    "* 请查看如何在https://cloud.google.com/storage/docs/gsutil/commands/iam#ch-examples上向您的服务帐户授予云存储权限。"
   ]
  },
  {
   "cell_type": "markdown",
   "metadata": {
    "id": "bucket:custom"
   },
   "source": [
    "创建一个云存储桶 \n",
    "\n",
    "创建一个存储桶来存储诸如数据集之类的中间产物。\n",
    "\n",
    "当您使用云 SDK 提交训练作业时，您会将包含您的训练代码的 Python 软件包上传到云存储桶中。Vertex AI 会运行来自这个软件包的代码。在此教程中，Vertex AI 也会将您的作业产生的训练模型保存在同一个存储桶中。利用这个模型产物，您可以创建 Vertex AI 模型资源并用于预测。"
   ]
  },
  {
   "cell_type": "code",
   "execution_count": null,
   "metadata": {
    "id": "bucket"
   },
   "outputs": [],
   "source": [
    "BUCKET_URI = \"gs://your-bucket-name-unique\"  # @param {type:\"string\"}"
   ]
  },
  {
   "cell_type": "markdown",
   "metadata": {
    "id": "create_bucket"
   },
   "source": [
    "只有在您的存储桶不存在时才会执行：运行以下单元格以创建您的云存储存储桶。"
   ]
  },
  {
   "cell_type": "code",
   "execution_count": null,
   "metadata": {
    "id": "Oz8J0vmSlugt"
   },
   "outputs": [],
   "source": [
    "! gsutil mb -l $REGION -p $PROJECT_ID $BUCKET_URI"
   ]
  },
  {
   "cell_type": "markdown",
   "metadata": {
    "id": "XoEqT2Y4DJmf"
   },
   "source": [
    "### 导入库并定义常量"
   ]
  },
  {
   "cell_type": "code",
   "execution_count": null,
   "metadata": {
    "id": "pRUOFELefqf1"
   },
   "outputs": [],
   "source": [
    "import json\n",
    "\n",
    "import matplotlib.cm as cm\n",
    "import matplotlib.pyplot as plt\n",
    "import numpy as np\n",
    "from google.cloud import storage\n",
    "\n",
    "%matplotlib inline"
   ]
  },
  {
   "cell_type": "markdown",
   "metadata": {
    "id": "06f6abd8c40e"
   },
   "source": [
    "## 在syn2数据上阅读一个样本TabNet预测\n",
    "\n",
    "在训练并提供您的模型之后，您将上传输出到Google Cloud Storage。\n",
    "\n",
    "样本预测数据存储在Google Cloud上的gs://cloud-samples-data/ai-platform-unified/datasets/tabnet/tab_net_output/syn2。您可以使用自己的预测数据集，但必须确保预测数据的格式与训练数据的格式相同。\n",
    "\n",
    "TabNet中的每个预测都包含一个用于解释预测的掩码。该掩码存储在**aggregated_mask_values**字段中。\n",
    "\n",
    "有关训练集和模型的信息最适合在笔记本的上一部分的数据集部分中查看。"
   ]
  },
  {
   "cell_type": "code",
   "execution_count": null,
   "metadata": {
    "id": "0f55ca32f9b3"
   },
   "outputs": [],
   "source": [
    "!gsutil cp gs://cloud-samples-data/ai-platform-unified/datasets/tabnet/tab_net_output/syn2 $BUCKET_URI\n",
    "\n",
    "# Replace your the BUCKET_URI and PREDICTION_FILE\n",
    "# BUCKET_NAME = \"[<your-bucket-name>]\"\n",
    "# PREDICTION_FILE = \"[<your-prediction-file>]\"\n",
    "\n",
    "BUCKET_NAME = BUCKET_URI[5:]\n",
    "PREDICTION_FILE = \"syn2\"\n",
    "\n",
    "MASK_KEY = \"aggregated_mask_values\"\n",
    "\n",
    "HEADER = [(\"feat_\" + str(i)) for i in range(1, 12)]\n",
    "HEADER"
   ]
  },
  {
   "cell_type": "markdown",
   "metadata": {
    "id": "c4782ae3d628"
   },
   "source": [
    "### 下载并预处理预测数据。"
   ]
  },
  {
   "cell_type": "code",
   "execution_count": null,
   "metadata": {
    "id": "4aeaa7143830"
   },
   "outputs": [],
   "source": [
    "storage_client = storage.Client()\n",
    "bucket = storage_client.get_bucket(BUCKET_NAME)\n",
    "blob = bucket.blob(PREDICTION_FILE)\n",
    "f = blob.download_as_string(client=None).decode(\"utf-8\").strip()\n",
    "predictions = f.split(\"\\n\")\n",
    "predictions[:1]"
   ]
  },
  {
   "cell_type": "markdown",
   "metadata": {
    "id": "3f9f6b27280a"
   },
   "source": [
    "## 解析预测中的掩码值。然后，连接掩码值。输出是一个具有Nxk（N为输出数量，k为每个掩码的大小）的矩阵。连接掩码值用于可视化特征重要性。"
   ]
  },
  {
   "cell_type": "code",
   "execution_count": null,
   "metadata": {
    "id": "7f5b5c11f3dc"
   },
   "outputs": [],
   "source": [
    "masks = []\n",
    "for prediction in predictions:\n",
    "    prediction = json.loads(prediction)\n",
    "    masks.append(prediction[MASK_KEY])\n",
    "masks = np.matrix(masks)\n",
    "masks.shape"
   ]
  },
  {
   "cell_type": "markdown",
   "metadata": {
    "id": "8455a22d412c"
   },
   "source": [
    "将蒙版数值矩阵可视化。\n",
    "浅色表示更重要的特征。例如，在Syn2数据中，只有特征3-6在预测输出中是有意义的。在图中，列3-6呈现浅色。"
   ]
  },
  {
   "cell_type": "code",
   "execution_count": null,
   "metadata": {
    "id": "ab63558c2593"
   },
   "outputs": [],
   "source": [
    "fig = plt.figure(figsize=(20, 10))\n",
    "ax = fig.add_subplot(121)\n",
    "ax.imshow(masks[:50, :], interpolation=\"bilinear\", cmap=cm.Greys_r)\n",
    "ax.set_xlabel(\"Features\")\n",
    "ax.set_ylabel(\"Sample index\")\n",
    "ax.xaxis.set_ticks(np.arange(len(HEADER)))\n",
    "ax.set_xticklabels(HEADER, rotation=\"vertical\")\n",
    "plt.show()"
   ]
  },
  {
   "cell_type": "markdown",
   "metadata": {
    "id": "TpV-iwP9qw9c"
   },
   "source": [
    "清理\n",
    "\n",
    "要清理此项目中使用的所有Google Cloud资源，您可以[删除用于本教程的Google Cloud项目](https://cloud.google.com/resource-manager/docs/creating-managing-projects#shutting_down_projects)。\n",
    "\n",
    "否则，您可以删除在本教程中创建的各个资源。"
   ]
  },
  {
   "cell_type": "code",
   "execution_count": null,
   "metadata": {
    "id": "sx_vKniMq9ZX"
   },
   "outputs": [],
   "source": [
    "import os\n",
    "\n",
    "# Delete Cloud Storage that were created\n",
    "if os.getenv(\"IS_TESTING\"):\n",
    "    ! gsutil -m rm -r $BUCKET_URI"
   ]
  },
  {
   "cell_type": "markdown",
   "metadata": {
    "id": "cb0f06c7ba0d"
   },
   "source": [
    "接下来是什么？\n",
    "\n",
    "要了解更多关于TabNet的信息，请查看这里的资源。\n",
    "\n",
    "* [TabNet：注重可解释的表格学习](https://arxiv.org/abs/1908.07442)"
   ]
  }
 ],
 "metadata": {
  "colab": {
   "collapsed_sections": [],
   "name": "ai-explanations-tabnet-algorithm.ipynb",
   "toc_visible": true
  },
  "kernelspec": {
   "display_name": "Python 3",
   "name": "python3"
  }
 },
 "nbformat": 4,
 "nbformat_minor": 0
}
