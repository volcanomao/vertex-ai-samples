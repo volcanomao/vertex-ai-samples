{
 "cells": [
  {
   "cell_type": "code",
   "execution_count": null,
   "metadata": {
    "cellView": "form",
    "id": "ur8xi4C7S06n"
   },
   "outputs": [],
   "source": [
    "# Copyright 2023 Google LLC\n",
    "#\n",
    "# Licensed under the Apache License, Version 2.0 (the \"License\");\n",
    "# you may not use this file except in compliance with the License.\n",
    "# You may obtain a copy of the License at\n",
    "#\n",
    "#     https://www.apache.org/licenses/LICENSE-2.0\n",
    "#\n",
    "# Unless required by applicable law or agreed to in writing, software\n",
    "# distributed under the License is distributed on an \"AS IS\" BASIS,\n",
    "# WITHOUT WARRANTIES OR CONDITIONS OF ANY KIND, either express or implied.\n",
    "# See the License for the specific language governing permissions and\n",
    "# limitations under the License."
   ]
  },
  {
   "cell_type": "markdown",
   "metadata": {
    "id": "fsv4jGuU89rX"
   },
   "source": [
    "使用Vertex AI远程培训和Vertex AI SDK 2.0训练一个TabNet模型\n",
    "\n",
    "<table align=\"left\">\n",
    "  <td>\n",
    "    <a href=\"https://colab.research.google.com/github/GoogleCloudPlatform/vertex-ai-samples/blob/main/notebooks/official/tabnet/sdk2_remote_tabnet_training.ipynb\">\n",
    "      <img src=\"https://cloud.google.com/ml-engine/images/colab-logo-32px.png\" alt=\"Colab logo\"> 在Colab上运行\n",
    "    </a>\n",
    "  </td>\n",
    "  <td>\n",
    "    <a href=\"https://github.com/GoogleCloudPlatform/vertex-ai-samples/blob/main/notebooks/official/tabnet/sdk2_remote_tabnet_training.ipynb\">\n",
    "        <img src=\"https://cloud.google.com/ml-engine/images/github-logo-32px.png\" alt=\"GitHub logo\">\n",
    "      在GitHub上查看\n",
    "    </a>\n",
    "  </td>\n",
    "    <td>\n",
    "    <a href=\"https://console.cloud.google.com/vertex-ai/workbench/deploy-notebook?download_url=https://raw.githubusercontent.com/GoogleCloudPlatform/vertex-ai-samples/main/notebooks/official/tabnet/sdk2_remote_tabnet_training.ipynb\">\n",
    "       <img src=\"https://www.gstatic.com/cloud/images/navigation/vertex-ai.svg\" alt=\"Vertex AI logo\">在Vertex AI工作台中打开\n",
    "    </a>\n",
    "</table>"
   ]
  },
  {
   "cell_type": "markdown",
   "metadata": {
    "id": "overview:automl"
   },
   "source": [
    "## 概观\n",
    "\n",
    "本教程演示了如何使用Vertex AI SDK 2.0对本地TabNet模型训练任务进行远程TabNet模型训练。"
   ]
  },
  {
   "cell_type": "markdown",
   "metadata": {
    "id": "cTelQGJjifdu"
   },
   "source": [
    "### 目标\n",
    "\n",
    "在本教程中，您学习如何使用`Vertex AI SDK 2.0`来远程训练一个 TabNet 模型作为一个本地（on-prem）的训练任务。\n",
    "\n",
    "本教程使用以下 Google Cloud ML 服务：\n",
    "\n",
    "- `Vertex AI 训练`\n",
    "- `Vertex AI 远程训练`\n",
    "\n",
    "执行的步骤包括：\n",
    "\n",
    "- 下载并拆分数据集\n",
    "- 将数据导入 Dataframe 并进行转换。\n",
    "- 训练一个表格分类模型。\n",
    "- 训练一个表格回归模型。\n",
    "\n",
    "**TabNet 远程训练**\n",
    "```\n",
    "from google.cloud.aiplatform.private_preview.vertex_ai.tabular_models import TabNetTrainer\n",
    "\n",
    "vertex_ai.init(remote=True, project=\"my-project\", location=\"my-location\", staging_bucket=\"gs://my-bucket\")\n",
    "\n",
    "# 实例化 TabNetTrainer\n",
    "tabnet_trainer = TabNetTrainer(...)\n",
    "\n",
    "# 可选设置训练配置\n",
    "tabnet_trainer.fit.vertex.training_config.staging_bucket = \"gs://my-bucket\"\n",
    "\n",
    "# 这个 `fit` 调用将被远程执行\n",
    "tabnet_trainer.fit(...)\n",
    "\n",
    "# 这个 `predict` 调用将在本地执行\n",
    "tabnet_trainer.predict(...)\n",
    "```"
   ]
  },
  {
   "cell_type": "markdown",
   "metadata": {
    "id": "aef4f59195ad"
   },
   "source": [
    "数据集\n",
    "\n",
    "本教程使用<a href=\"https://scikit-learn.org/stable/auto_examples/datasets/plot_iris_dataset.html\">IRIS数据集</a>，用于预测鸢尾花的种类。"
   ]
  },
  {
   "cell_type": "markdown",
   "metadata": {
    "id": "costs"
   },
   "source": [
    "### 成本\n",
    "\n",
    "本教程使用谷歌云的计费组件：\n",
    "\n",
    "* Vertex AI\n",
    "* 云存储\n",
    "\n",
    "了解[Vertex AI\n",
    "价格](https://cloud.google.com/vertex-ai/pricing)、[云存储\n",
    "价格](https://cloud.google.com/storage/pricing)，并使用[Pricing\n",
    "Calculator](https://cloud.google.com/products/calculator/)\n",
    "根据您的预期使用量生成成本估算。"
   ]
  },
  {
   "cell_type": "markdown",
   "metadata": {
    "id": "install_aip:mbsdk"
   },
   "source": [
    "## 安装\n",
    "\n",
    "安装以下包，以执行此笔记本所需的操作。"
   ]
  },
  {
   "cell_type": "code",
   "execution_count": null,
   "metadata": {
    "id": "F9dJ5Of-dORl"
   },
   "outputs": [],
   "source": [
    "! pip3 install --upgrade --quiet google-cloud-aiplatform[preview] \\\n",
    "                                 scikit-learn \\\n",
    "                                 pyarrow \\\n",
    "                                 fastparquet \\\n",
    "                                 tensorflow"
   ]
  },
  {
   "cell_type": "markdown",
   "metadata": {
    "id": "restart"
   },
   "source": [
    "仅限CoLab使用：取消下面的单元格注释以重新启动内核"
   ]
  },
  {
   "cell_type": "code",
   "execution_count": null,
   "metadata": {
    "id": "D-ZBOjErv5mM"
   },
   "outputs": [],
   "source": [
    "# Automatically restart kernel after installs so that your environment can access the new packages\n",
    "# import IPython\n",
    "\n",
    "# app = IPython.Application.instance()\n",
    "# app.kernel.do_shutdown(True)"
   ]
  },
  {
   "cell_type": "markdown",
   "metadata": {
    "id": "before_you_begin:nogpu"
   },
   "source": [
    "## 在开始之前\n",
    "\n",
    "### 设置您的项目ID\n",
    "\n",
    "**如果您不知道您的项目ID**，请尝试以下操作：\n",
    "* 运行 `gcloud config list`。\n",
    "* 运行 `gcloud projects list`。\n",
    "* 参考支持页面：[查找项目ID](https://support.google.com/googleapi/answer/7014113)。"
   ]
  },
  {
   "cell_type": "code",
   "execution_count": null,
   "metadata": {
    "id": "set_project_id"
   },
   "outputs": [],
   "source": [
    "PROJECT_ID = \"[your-project-id]\"  # @param {type:\"string\"}\n",
    "\n",
    "# Set the project id\n",
    "! gcloud config set project {PROJECT_ID}"
   ]
  },
  {
   "cell_type": "markdown",
   "metadata": {
    "id": "region"
   },
   "source": [
    "#### 区域\n",
    "\n",
    "您还可以更改 Vertex AI 使用的 `REGION` 变量。了解有关 [Vertex AI 区域](https://cloud.google.com/vertex-ai/docs/general/locations)的更多信息。"
   ]
  },
  {
   "cell_type": "code",
   "execution_count": null,
   "metadata": {
    "id": "2dw8q9fdQEH5"
   },
   "outputs": [],
   "source": [
    "REGION = \"us-central1\""
   ]
  },
  {
   "cell_type": "markdown",
   "metadata": {
    "id": "gcp_authenticate"
   },
   "source": [
    "### 验证您的Google Cloud帐户\n",
    "\n",
    "根据您的Jupyter环境，您可能需要手动进行身份验证。请按照以下相关说明操作。\n",
    "\n",
    "**1. Vertex AI工作台**\n",
    "* 无需操作，因为您已经完成了身份验证。\n",
    "\n",
    "**2. 本地JupyterLab实例，请取消注释并运行：**"
   ]
  },
  {
   "cell_type": "code",
   "execution_count": null,
   "metadata": {
    "id": "ce6043da7b33"
   },
   "outputs": [],
   "source": [
    "# ! gcloud auth login"
   ]
  },
  {
   "cell_type": "markdown",
   "metadata": {
    "id": "0367eac06a10"
   },
   "source": [
    "3. 协作，取消注释并运行："
   ]
  },
  {
   "cell_type": "code",
   "execution_count": null,
   "metadata": {
    "id": "21ad4dbb4a61"
   },
   "outputs": [],
   "source": [
    "# from google.colab import auth\n",
    "# auth.authenticate_user()"
   ]
  },
  {
   "cell_type": "markdown",
   "metadata": {
    "id": "c13224697bfb"
   },
   "source": [
    "4. 服务账户或其他\n",
    "* 查看如何将 Cloud Storage 权限授予您的服务账户：https://cloud.google.com/storage/docs/gsutil/commands/iam#ch-examples。"
   ]
  },
  {
   "cell_type": "markdown",
   "metadata": {
    "id": "bucket:mbsdk"
   },
   "source": [
    "创建一个云存储桶\n",
    "\n",
    "创建一个存储桶来存储中间产物，例如数据集。"
   ]
  },
  {
   "cell_type": "code",
   "execution_count": null,
   "metadata": {
    "id": "bucket"
   },
   "outputs": [],
   "source": [
    "BUCKET_URI = f\"gs://your-bucket-name-{PROJECT_ID}-unique\"  # @param {type:\"string\"}"
   ]
  },
  {
   "cell_type": "markdown",
   "metadata": {
    "id": "autoset_bucket"
   },
   "source": [
    "只有当您的存储桶尚不存在时：运行以下单元格来创建您的云存储存储桶。"
   ]
  },
  {
   "cell_type": "code",
   "execution_count": null,
   "metadata": {
    "id": "91c46850b49b"
   },
   "outputs": [],
   "source": [
    "! gsutil mb -l {REGION} -p {PROJECT_ID} {BUCKET_URI}"
   ]
  },
  {
   "cell_type": "markdown",
   "metadata": {
    "id": "setup_vars"
   },
   "source": [
    "### 设置变量\n",
    "\n",
    "接下来，设置一些在教程中使用的变量。\n",
    "### 导入库并定义常量"
   ]
  },
  {
   "cell_type": "code",
   "execution_count": null,
   "metadata": {
    "id": "LF2bwT6q-of1"
   },
   "outputs": [],
   "source": [
    "import uuid\n",
    "\n",
    "import pandas as pd\n",
    "import vertexai.preview\n",
    "from sklearn.datasets import load_iris\n",
    "from sklearn.model_selection import train_test_split\n",
    "from vertexai.preview.tabular_models import TabNetTrainer"
   ]
  },
  {
   "cell_type": "markdown",
   "metadata": {
    "id": "init_aip:mbsdk"
   },
   "source": [
    "初始化Python的Vertex AI SDK\n",
    "\n",
    "为您的项目和相应的存储桶初始化Python的Vertex AI SDK。"
   ]
  },
  {
   "cell_type": "code",
   "execution_count": null,
   "metadata": {
    "id": "-p0YAOY64cA5"
   },
   "outputs": [],
   "source": [
    "vertexai.init(\n",
    "    project=PROJECT_ID,\n",
    "    location=REGION,\n",
    "    staging_bucket=BUCKET_URI,\n",
    ")"
   ]
  },
  {
   "cell_type": "markdown",
   "metadata": {
    "id": "innAVhRdxe8c"
   },
   "source": [
    "### 准备数据集\n",
    "\n",
    "现在加载鸢尾花数据集，并将数据分为训练、评估和测试集。"
   ]
  },
  {
   "cell_type": "code",
   "execution_count": null,
   "metadata": {
    "id": "HPT2EX7ii9jO"
   },
   "outputs": [],
   "source": [
    "dataset = load_iris()\n",
    "\n",
    "X, X_validation, y, y_validation = train_test_split(\n",
    "    dataset.data, dataset.target, test_size=0.60, random_state=42\n",
    ")\n",
    "X_train, X_test, y_train, y_test = train_test_split(\n",
    "    X, y, test_size=0.20, random_state=42\n",
    ")\n",
    "\n",
    "print(\"Data size: \", len(dataset.target))\n",
    "print(\"X_train size: \", len(X_train))\n",
    "print(\"X_validation size: \", len(X_validation))\n",
    "print(\"X_test size: \", len(X_test))"
   ]
  },
  {
   "cell_type": "markdown",
   "metadata": {
    "id": "XzQfxEwuY22S"
   },
   "source": [
    "特征转换\n",
    "\n",
    "接下来，您要将训练和评估数据导入pandas Dataframe中，并进行特征转换。"
   ]
  },
  {
   "cell_type": "code",
   "execution_count": null,
   "metadata": {
    "id": "sAHGB2nYjcDg"
   },
   "outputs": [],
   "source": [
    "columns = [f\"arg_{i}\" for i in range(X_train.shape[1])]\n",
    "\n",
    "training_data = pd.DataFrame(X_train, columns=columns)\n",
    "training_data[\"target\"] = y_train\n",
    "training_data[\"target\"] = training_data[\"target\"].astype(\"category\")\n",
    "\n",
    "validation_data = pd.DataFrame(X_validation, columns=columns)\n",
    "validation_data[\"target\"] = y_validation\n",
    "validation_data[\"target\"] = validation_data[\"target\"].astype(\"category\")\n",
    "\n",
    "eval_data = pd.DataFrame(X_test, columns=columns)\n",
    "\n",
    "training_data.head()"
   ]
  },
  {
   "cell_type": "markdown",
   "metadata": {
    "id": "0kyuTJLli5eB"
   },
   "source": [
    "## 表格分类模型"
   ]
  },
  {
   "cell_type": "markdown",
   "metadata": {
    "id": "LE4qd1T3kfpR"
   },
   "source": [
    "初始化TabNetTrainer\n",
    "\n",
    "接下来，初始化TabNetTrainer用于训练一个表格分类模型。"
   ]
  },
  {
   "cell_type": "code",
   "execution_count": null,
   "metadata": {
    "id": "eGXmfieOklSs"
   },
   "outputs": [],
   "source": [
    "tabnet_trainer = TabNetTrainer(\n",
    "    model_type=\"classification\",\n",
    "    target_column=\"target\",\n",
    "    learning_rate=0.01,\n",
    "    max_train_secs=1800,\n",
    ")"
   ]
  },
  {
   "cell_type": "markdown",
   "metadata": {
    "id": "HU1a1bf9k5sY"
   },
   "source": [
    "远程训练\n",
    "\n",
    "现在，将一个TabNet表格分类模型作为远程训练工作。"
   ]
  },
  {
   "cell_type": "code",
   "execution_count": null,
   "metadata": {
    "id": "Hk3Gp95blJ4K"
   },
   "outputs": [],
   "source": [
    "REMOTE_JOB_NAME = \"test-sdk2-remote-tabnet-training\"\n",
    "REMOTE_JOB_BUCKET = \"/\".join([BUCKET_URI, REMOTE_JOB_NAME])\n",
    "\n",
    "# Sets the staging bucket for remote training\n",
    "tabnet_trainer.fit.vertex.remote_config.staging_bucket = (\n",
    "    REMOTE_JOB_BUCKET + f\"_{uuid.uuid4()}\"\n",
    ")\n",
    "\n",
    "# Executes remote training\n",
    "tabnet_trainer.fit(training_data=training_data, validation_data=validation_data)"
   ]
  },
  {
   "cell_type": "markdown",
   "metadata": {
    "id": "vyoVwMoPlYUi"
   },
   "source": [
    "最后，使用训练好的表格分类模型进行本地预测。"
   ]
  },
  {
   "cell_type": "code",
   "execution_count": null,
   "metadata": {
    "id": "c_3rQyLeleig"
   },
   "outputs": [],
   "source": [
    "from sklearn.metrics import accuracy_score\n",
    "\n",
    "predictions = tabnet_trainer.predict(eval_data)\n",
    "accuracy_score(y_test, predictions)"
   ]
  },
  {
   "cell_type": "markdown",
   "metadata": {
    "id": "tXCf6wCHwvAt"
   },
   "source": [
    "## 表格回归模型"
   ]
  },
  {
   "cell_type": "markdown",
   "metadata": {
    "id": "HtTBSRnu0RGX"
   },
   "source": [
    "初始化TabNetTrainer\n",
    "\n",
    "接下来，初始化TabNetTrainer用于训练一个表格回归模型。"
   ]
  },
  {
   "cell_type": "code",
   "execution_count": null,
   "metadata": {
    "id": "-8hp__390V__"
   },
   "outputs": [],
   "source": [
    "tabnet_trainer = TabNetTrainer(\n",
    "    model_type=\"regression\",\n",
    "    target_column=\"target\",\n",
    "    learning_rate=0.01,\n",
    "    max_train_secs=1800,\n",
    ")"
   ]
  },
  {
   "cell_type": "markdown",
   "metadata": {
    "id": "k3CDcyfw0g9K"
   },
   "source": [
    "远程训练\n",
    "\n",
    "现在，将一个TabNet表格回归模型作为远程训练任务。"
   ]
  },
  {
   "cell_type": "code",
   "execution_count": null,
   "metadata": {
    "id": "I3OgDbb405N1"
   },
   "outputs": [],
   "source": [
    "# Sets the staging bucket for remote training\n",
    "tabnet_trainer.fit.vertex.remote_config.staging_bucket = (\n",
    "    REMOTE_JOB_BUCKET + f\"_{uuid.uuid4()}\"\n",
    ")\n",
    "\n",
    "# Executes remote training\n",
    "tabnet_trainer.fit(training_data=training_data, validation_data=validation_data)"
   ]
  },
  {
   "cell_type": "markdown",
   "metadata": {
    "id": "vyoVwMoPlYUi"
   },
   "source": [
    "### 本地预测\n",
    "\n",
    "最后，使用训练好的表格回归模型进行本地预测。"
   ]
  },
  {
   "cell_type": "code",
   "execution_count": null,
   "metadata": {
    "id": "x_y_cwbx0-0O"
   },
   "outputs": [],
   "source": [
    "from sklearn.metrics import mean_squared_error\n",
    "\n",
    "predictions = tabnet_trainer.predict(eval_data)\n",
    "mean_squared_error(y_test, predictions, squared=False)"
   ]
  },
  {
   "cell_type": "markdown",
   "metadata": {
    "id": "6944380b1e25"
   },
   "source": [
    "清理\n",
    "\n",
    "要清理此项目中使用的所有Google Cloud资源，您可以[删除用于本教程的Google Cloud项目](https://cloud.google.com/resource-manager/docs/creating-managing-projects#shutting_down_projects)。\n",
    "\n",
    "否则，您可以删除在本教程中创建的各个资源。"
   ]
  },
  {
   "cell_type": "code",
   "execution_count": null,
   "metadata": {
    "id": "655e39c67585"
   },
   "outputs": [],
   "source": [
    "import os\n",
    "\n",
    "delete_bucket = False\n",
    "\n",
    "if delete_bucket or os.getenv(\"IS_TESTING\"):\n",
    "    ! gsutil rm -rf {BUCKET_URI}"
   ]
  }
 ],
 "metadata": {
  "colab": {
   "name": "sdk2_remote_tabnet_training.ipynb",
   "toc_visible": true
  },
  "kernelspec": {
   "display_name": "Python 3",
   "name": "python3"
  }
 },
 "nbformat": 4,
 "nbformat_minor": 0
}
