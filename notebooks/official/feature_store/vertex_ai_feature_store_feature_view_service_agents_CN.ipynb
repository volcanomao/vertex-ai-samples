{
 "cells": [
  {
   "cell_type": "code",
   "execution_count": null,
   "metadata": {
    "id": "kBcxtSnY6OKi"
   },
   "outputs": [],
   "source": [
    "# Copyright 2024 Google LLC\n",
    "#\n",
    "# Licensed under the Apache License, Version 2.0 (the \"License\");\n",
    "# you may not use this file except in compliance with the License.\n",
    "# You may obtain a copy of the License at\n",
    "#\n",
    "#     https://www.apache.org/licenses/LICENSE-2.0\n",
    "#\n",
    "# Unless required by applicable law or agreed to in writing, software\n",
    "# distributed under the License is distributed on an \"AS IS\" BASIS,\n",
    "# WITHOUT WARRANTIES OR CONDITIONS OF ANY KIND, either express or implied.\n",
    "# See the License for the specific language governing permissions and\n",
    "# limitations under the License."
   ]
  },
  {
   "cell_type": "markdown",
   "metadata": {
    "id": "103lT16d4tLE"
   },
   "source": [
    "# Vertex AI 特征存储 特征视图 服务代理 教程\n",
    "\n",
    "<table align=\"left\">\n",
    "  <td style=\"text-align: center\">\n",
    "    <a href=\"https://colab.research.google.com/github/GoogleCloudPlatform/vertex-ai-samples/blob/main/notebooks/official/feature_store/vertex_ai_feature_store_feature_view_service_agents.ipynb\">\n",
    "      <img src=\"https://cloud.google.com/ml-engine/images/colab-logo-32px.png\" alt=\"Google Colaboratory logo\"><br> 在 Colab 中打开\n",
    "    </a>\n",
    "  </td>\n",
    "  <td style=\"text-align: center\">\n",
    "    <a href=\"https://console.cloud.google.com/vertex-ai/colab/import/https:%2F%2Fraw.githubusercontent.com%2FGoogleCloudPlatform%2Fvertex-ai-samples%2Fmain%2Fnotebooks%2Fofficial%2Ffeature_store%2Fvertex_ai_feature_store_feature_view_service_agents.ipynb\">\n",
    "      <img width=\"32px\" src=\"https://lh3.googleusercontent.com/JmcxdQi-qOpctIvWKgPtrzZdJJK-J3sWE1RsfjZNwshCFgE_9fULcNpuXYTilIR2hjwN\" alt=\"Google Cloud Colab Enterprise logo\"><br> 在 Colab Enterprise 中打开\n",
    "    </a>\n",
    "  </td>    \n",
    "  <td style=\"text-align: center\">\n",
    "    <a href=\"https://console.cloud.google.com/vertex-ai/workbench/deploy-notebook?download_url=https://raw.githubusercontent.com/GoogleCloudPlatform/vertex-ai-samples/main/notebooks/official/feature_store/vertex_ai_feature_store_feature_view_service_agents.ipynb\">\n",
    "      <img src=\"https://lh3.googleusercontent.com/UiNooY4LUgW_oTvpsNhPpQzsstV5W8F7rYgxgGBD85cWJoLmrOzhVs_ksK_vgx40SHs7jCqkTkCk=e14-rj-sc0xffffff-h130-w32\" alt=\"Vertex AI logo\"><br> 在 Workbench 中打开\n",
    "    </a>\n",
    "  </td>\n",
    "  <td style=\"text-align: center\">\n",
    "    <a href=\"https://github.com/GoogleCloudPlatform/vertex-ai-samples/blob/main/notebooks/official/feature_store/vertex_ai_feature_store_feature_view_service_agents.ipynb\">\n",
    "      <img src=\"https://cloud.google.com/ml-engine/images/github-logo-32px.png\" alt=\"GitHub logo\"><br> 在 GitHub 上查看\n",
    "    </a>\n",
    "  </td>\n",
    "</table>"
   ]
  },
  {
   "cell_type": "markdown",
   "metadata": {
    "id": "becda595b9b8"
   },
   "source": [
    "## 概述\n",
    "在本教程中，您将了解如何启用功能视图服务代理，并授予每个功能视图访问所使用的特定源数据的权限。\n",
    "\n",
    "了解有关[Vertex AI特征存储](https://cloud.google.com/vertex-ai/docs/featurestore/latest/overview)的更多信息。"
   ]
  },
  {
   "cell_type": "markdown",
   "metadata": {
    "id": "E5wnTSHgyuFr"
   },
   "source": [
    "### 目标\n",
    "在本教程中，您将学习如何在Vertex AI特征存储中为特征视图使用专用服务代理。通过为特征视图使用专用服务代理，您可以授予从BigQuery提取特征数据的访问权限，从而实现端对端的特征提供工作流程。\n",
    "\n",
    "本教程使用以下谷歌云服务和资源：\n",
    "* Vertex AI特征存储\n",
    "\n",
    "您将执行以下步骤：\n",
    "* 创建配置为使用专用服务账号的特征视图。\n",
    "* 为每个特征视图创建一个服务账号。该服务账号用于从BigQuery同步数据。\n",
    "* Get/List特征视图API返回自动创建的服务账号。用户需要调用`bq add-iam-policy-binding`命令，为服务账号授予`roles/bigquery.dataViewer`角色。\n",
    "\n",
    "## 注意\n",
    "这是一个预览版发布。通过使用该功能，您承认您已了解存在的问题，并且该预览版是根据预先GA服务条款提供的“原样”服务。\n",
    "\n",
    "### 成本\n",
    "本教程使用谷歌云的计费组件：\n",
    "* Vertex AI\n",
    "* BigQuery\n",
    "\n",
    "了解关于[Vertex AI定价](https://cloud.google.com/vertex-ai/pricing)和[BigQuery定价](https://cloud.google.com/bigquery/pricing)，并使用[定价计算器](https://cloud.google.com/products/calculator/)，根据您的预计使用情况生成成本估算。"
   ]
  },
  {
   "cell_type": "markdown",
   "metadata": {
    "id": "-HGNMzgHFy34"
   },
   "source": [
    "## 入门"
   ]
  },
  {
   "cell_type": "markdown",
   "metadata": {
    "id": "-HGNMzgHFy34"
   },
   "source": [
    "### 安装Vertex AI SDK和其他必需的软件包"
   ]
  },
  {
   "cell_type": "code",
   "execution_count": null,
   "metadata": {
    "id": "v37lUIm7-08A"
   },
   "outputs": [],
   "source": [
    "# Install the packages\n",
    "! pip3 install --upgrade --quiet google-cloud-aiplatform\\\n",
    "                                 google-cloud-bigquery\\\n",
    "                                 db-dtypes"
   ]
  },
  {
   "cell_type": "markdown",
   "metadata": {
    "id": "UGJ_-HL1_P7w"
   },
   "source": [
    "### 重新启动运行时（仅限Colab）\n",
    "\n",
    "为了使用新安装的包，您必须重新启动Google Colab上的运行时。"
   ]
  },
  {
   "cell_type": "code",
   "execution_count": null,
   "metadata": {
    "id": "4QPx2cLv_TF0"
   },
   "outputs": [],
   "source": [
    "import sys\n",
    "\n",
    "if \"google.colab\" in sys.modules:\n",
    "\n",
    "    import IPython\n",
    "\n",
    "    app = IPython.Application.instance()\n",
    "    app.kernel.do_shutdown(True)"
   ]
  },
  {
   "cell_type": "markdown",
   "metadata": {
    "id": "e767418763cd"
   },
   "source": [
    "<div class=\"alert alert-block alert-warning\">\n",
    "<b>⚠️内核将重新启动。请等待直到完成才继续执行下一步。⚠️</b>\n",
    "</div>"
   ]
  },
  {
   "cell_type": "markdown",
   "metadata": {
    "id": "870814a62e87"
   },
   "source": [
    "### 在谷歌Colab上验证您的笔记本环境。"
   ]
  },
  {
   "cell_type": "code",
   "execution_count": null,
   "metadata": {
    "id": "c97be6a73155"
   },
   "outputs": [],
   "source": [
    "import sys\n",
    "\n",
    "if \"google.colab\" in sys.modules:\n",
    "\n",
    "    from google.colab import auth\n",
    "\n",
    "    auth.authenticate_user()"
   ]
  },
  {
   "cell_type": "markdown",
   "metadata": {
    "id": "7zkyTnWjACyk"
   },
   "source": [
    "### 设置谷歌云项目信息并初始化 Vertex AI SDK\n",
    "\n",
    "要开始使用 Vertex AI，您必须拥有现有的谷歌云项目并[启用 Vertex AI API](https://console.cloud.google.com/flows/enableapi?apiid=aiplatform.googleapis.com)。了解更多关于[设置项目和开发环境](https://cloud.google.com/vertex-ai/docs/start/cloud-environment)的信息。"
   ]
  },
  {
   "cell_type": "code",
   "execution_count": null,
   "metadata": {
    "id": "_KQlSLb1AFEr"
   },
   "outputs": [],
   "source": [
    "PROJECT_ID = \"[your-project-id]\"  # @param {type:\"string\"}\n",
    "LOCATION = \"us-central1\"  # @param {type:\"string\"}\n",
    "\n",
    "\n",
    "from google.cloud import aiplatform\n",
    "\n",
    "aiplatform.init(project=PROJECT_ID, location=LOCATION)"
   ]
  },
  {
   "cell_type": "markdown",
   "metadata": {
    "id": "ZbAVOgZ5KVpi"
   },
   "source": [
    "### 导入库"
   ]
  },
  {
   "cell_type": "code",
   "execution_count": null,
   "metadata": {
    "id": "jXuCQJwZrV5P"
   },
   "outputs": [],
   "source": [
    "from google.cloud.aiplatform_v1beta1 import (\n",
    "    FeatureOnlineStoreAdminServiceClient, FeatureOnlineStoreServiceClient,\n",
    "    FeatureRegistryServiceClient)\n",
    "from google.cloud.aiplatform_v1beta1.types import feature as feature_pb2\n",
    "from google.cloud.aiplatform_v1beta1.types import \\\n",
    "    feature_group as feature_group_pb2\n",
    "from google.cloud.aiplatform_v1beta1.types import \\\n",
    "    feature_online_store as feature_online_store_pb2\n",
    "from google.cloud.aiplatform_v1beta1.types import \\\n",
    "    feature_online_store_admin_service as \\\n",
    "    feature_online_store_admin_service_pb2\n",
    "from google.cloud.aiplatform_v1beta1.types import \\\n",
    "    feature_online_store_service as feature_online_store_service_pb2\n",
    "from google.cloud.aiplatform_v1beta1.types import \\\n",
    "    feature_registry_service as feature_registry_service_pb2\n",
    "from google.cloud.aiplatform_v1beta1.types import \\\n",
    "    feature_view as feature_view_pb2\n",
    "from google.cloud.aiplatform_v1beta1.types import \\\n",
    "    featurestore_service as featurestore_service_pb2\n",
    "from google.cloud.aiplatform_v1beta1.types import io as io_pb2"
   ]
  },
  {
   "cell_type": "markdown",
   "metadata": {
    "id": "S4nZTv4sx_wS"
   },
   "source": [
    "初始化AI平台特征存储客户端\n",
    "\n",
    "为您的项目初始化AI平台特征存储客户端。"
   ]
  },
  {
   "cell_type": "code",
   "execution_count": null,
   "metadata": {
    "id": "MykgQklFx81S"
   },
   "outputs": [],
   "source": [
    "API_ENDPOINT = f\"{LOCATION}-aiplatform.googleapis.com\"\n",
    "\n",
    "admin_client = FeatureOnlineStoreAdminServiceClient(\n",
    "    client_options={\"api_endpoint\": API_ENDPOINT}\n",
    ")\n",
    "registry_client = FeatureRegistryServiceClient(\n",
    "    client_options={\"api_endpoint\": API_ENDPOINT}\n",
    ")\n",
    "data_client = FeatureOnlineStoreServiceClient(\n",
    "    client_options={\"api_endpoint\": API_ENDPOINT}\n",
    ")"
   ]
  },
  {
   "cell_type": "markdown",
   "metadata": {
    "id": "aNNwV6quHGlT"
   },
   "source": [
    "为这个colab生成样本数据。"
   ]
  },
  {
   "cell_type": "code",
   "execution_count": null,
   "metadata": {
    "id": "sJL164n9HZsD"
   },
   "outputs": [],
   "source": [
    "DATASET_ID = \"test_data\"+\"_\"+LOCATION.replace('-', '_')  # @param {type:\"string\"}\n",
    "TABLE_ID = \"tableA\"  # @param {type:\"string\"}\n",
    "\n",
    "!bq mk --dataset_id={DATASET_ID} --location={LOCATION}\n",
    "!bq query --nouse_legacy_sql \\\n",
    "\"CREATE TABLE {DATASET_ID}.{TABLE_ID} AS (\" \\\n",
    "\"SELECT * FROM UNNEST(ARRAY<STRUCT<entity_id STRING, feature_timestamp TIMESTAMP, feature1 INT64, feature2 INT64>>[\" \\\n",
    "\"('test', TIMESTAMP('2024-02-26 08:00:00 UTC'), 10, 20),\" \\\n",
    "\"('test', TIMESTAMP('2024-02-27 08:00:00 UTC'), 30, 40),\" \\\n",
    "\"('test', TIMESTAMP('2024-02-28 08:00:00 UTC'), 50, 60)]))\""
   ]
  },
  {
   "cell_type": "markdown",
   "metadata": {
    "id": "85tGwbXKkKCo"
   },
   "source": [
    "创建一个特征组。"
   ]
  },
  {
   "cell_type": "code",
   "execution_count": null,
   "metadata": {
    "id": "AeRGYl--kk2s"
   },
   "outputs": [],
   "source": [
    "FEATURE_GROUP_ID = \"product_features_unique\"  # @param {type: \"string\"}\n",
    "\n",
    "FEATURE_IDS = [\"feature1\", \"feature2\"]  # @param\n",
    "\n",
    "DATA_SOURCE = f\"bq://{PROJECT_ID}.{DATASET_ID}.{TABLE_ID}\""
   ]
  },
  {
   "cell_type": "code",
   "execution_count": null,
   "metadata": {
    "id": "YXuEczUzkIJ4"
   },
   "outputs": [],
   "source": [
    "# Create a feature group\n",
    "feature_group_config = feature_group_pb2.FeatureGroup(\n",
    "    big_query=feature_group_pb2.FeatureGroup.BigQuery(\n",
    "        big_query_source=io_pb2.BigQuerySource(input_uri=DATA_SOURCE),\n",
    "        entity_id_columns=[\"entity_id\"],\n",
    "    ),\n",
    "    description=\"This is a feature group for testing\",\n",
    ")\n",
    "\n",
    "create_group_lro = registry_client.create_feature_group(\n",
    "    feature_registry_service_pb2.CreateFeatureGroupRequest(\n",
    "        parent=f\"projects/{PROJECT_ID}/locations/{LOCATION}\",\n",
    "        feature_group_id=FEATURE_GROUP_ID,\n",
    "        feature_group=feature_group_config,\n",
    "    )\n",
    ")\n",
    "print(create_group_lro.result())\n",
    "\n",
    "# Create features under the feature group\n",
    "create_feature_lros = []\n",
    "for id in FEATURE_IDS:\n",
    "    create_feature_lros.append(\n",
    "        registry_client.create_feature(\n",
    "            featurestore_service_pb2.CreateFeatureRequest(\n",
    "                parent=f\"projects/{PROJECT_ID}/locations/{LOCATION}/featureGroups/{FEATURE_GROUP_ID}\",\n",
    "                feature_id=id,\n",
    "                feature=feature_pb2.Feature(),\n",
    "            )\n",
    "        )\n",
    "    )\n",
    "for lro in create_feature_lros:\n",
    "    print(lro.result())"
   ]
  },
  {
   "cell_type": "markdown",
   "metadata": {
    "id": "33gFGPm0koAB"
   },
   "source": [
    "验证已创建的特征组。"
   ]
  },
  {
   "cell_type": "code",
   "execution_count": null,
   "metadata": {
    "id": "pmQ_wKRmknCT"
   },
   "outputs": [],
   "source": [
    "# Verify feature group is created.\n",
    "registry_client.get_feature_group(\n",
    "    name=f\"projects/{PROJECT_ID}/locations/{LOCATION}/featureGroups/{FEATURE_GROUP_ID}\"\n",
    ")"
   ]
  },
  {
   "cell_type": "markdown",
   "metadata": {
    "id": "vTpUlRNrktEE"
   },
   "source": [
    "验证创建的特性。"
   ]
  },
  {
   "cell_type": "code",
   "execution_count": null,
   "metadata": {
    "id": "6qHAP0r5kuhx"
   },
   "outputs": [],
   "source": [
    "# Use list to verify the features are created.\n",
    "registry_client.list_features(\n",
    "    parent=f\"projects/{PROJECT_ID}/locations/{LOCATION}/featureGroups/{FEATURE_GROUP_ID}\"\n",
    ")"
   ]
  },
  {
   "cell_type": "markdown",
   "metadata": {
    "id": "GrPQH-KwrV5Q"
   },
   "source": [
    "创建特色在线商店\n",
    "\n",
    "接下来，创建一个标准的在线商店。"
   ]
  },
  {
   "cell_type": "code",
   "execution_count": null,
   "metadata": {
    "id": "9CWn1704uTR6"
   },
   "outputs": [],
   "source": [
    "FEATURE_ONLINE_STORE_ID = \"test_fos_unique\"  # @param {type:\"string\"}"
   ]
  },
  {
   "cell_type": "code",
   "execution_count": null,
   "metadata": {
    "id": "ycuXEY_SrV5Q"
   },
   "outputs": [],
   "source": [
    "online_store_config = feature_online_store_pb2.FeatureOnlineStore(\n",
    "    bigtable=feature_online_store_pb2.FeatureOnlineStore.Bigtable(\n",
    "        auto_scaling=feature_online_store_pb2.FeatureOnlineStore.Bigtable.AutoScaling(\n",
    "            min_node_count=1, max_node_count=1, cpu_utilization_target=50\n",
    "        )\n",
    "    )\n",
    ")\n",
    "\n",
    "create_store_lro = admin_client.create_feature_online_store(\n",
    "    feature_online_store_admin_service_pb2.CreateFeatureOnlineStoreRequest(\n",
    "        parent=f\"projects/{PROJECT_ID}/locations/{LOCATION}\",\n",
    "        feature_online_store_id=FEATURE_ONLINE_STORE_ID,\n",
    "        feature_online_store=online_store_config,\n",
    "    )\n",
    ")\n",
    "\n",
    "# Wait for the LRO to finish and get the LRO result.\n",
    "# This operation might take up to 10 minutes to complete.\n",
    "print(create_store_lro.result())"
   ]
  },
  {
   "cell_type": "markdown",
   "metadata": {
    "id": "Fk_w2_pBnZW_"
   },
   "source": [
    "验证已创建的功能在线商店。"
   ]
  },
  {
   "cell_type": "code",
   "execution_count": null,
   "metadata": {
    "id": "zDDZdSVzrV5Q"
   },
   "outputs": [],
   "source": [
    "# Use list to verify the store is created.\n",
    "admin_client.get_feature_online_store(\n",
    "    name=f\"projects/{PROJECT_ID}/locations/{LOCATION}/featureOnlineStores/{FEATURE_ONLINE_STORE_ID}\"\n",
    ")"
   ]
  },
  {
   "cell_type": "markdown",
   "metadata": {
    "id": "iOZ8nXht-npF"
   },
   "source": [
    "创建特征视图"
   ]
  },
  {
   "cell_type": "code",
   "execution_count": null,
   "metadata": {
    "id": "q8BdSJSRGfQQ"
   },
   "outputs": [],
   "source": [
    "FEATURE_VIEW_ID = \"test_fv\"  # @param {type: \"string\"}\n",
    "\n",
    "# A schedule will be created based on this cron setting.\n",
    "CRON_SCHEDULE = \"TZ=America/Los_Angeles 0 12 * * *\"  # @param {type: \"string\"}"
   ]
  },
  {
   "cell_type": "code",
   "execution_count": null,
   "metadata": {
    "id": "Py-Xq7BDxz-G"
   },
   "outputs": [],
   "source": [
    "# Create Feature View\n",
    "feature_registry_source = feature_view_pb2.FeatureView.FeatureRegistrySource(\n",
    "    feature_groups=[\n",
    "        feature_view_pb2.FeatureView.FeatureRegistrySource.FeatureGroup(\n",
    "            feature_group_id=FEATURE_GROUP_ID, feature_ids=FEATURE_IDS\n",
    "        )\n",
    "    ]\n",
    ")\n",
    "\n",
    "# Set cron schedule.\n",
    "sync_config = feature_view_pb2.FeatureView.SyncConfig(cron=CRON_SCHEDULE)\n",
    "\n",
    "create_view_lro = admin_client.create_feature_view(\n",
    "    parent=f\"projects/{PROJECT_ID}/locations/{LOCATION}/featureOnlineStores/{FEATURE_ONLINE_STORE_ID}\",\n",
    "    feature_view_id=\"test_fv\",\n",
    "    feature_view=feature_view_pb2.FeatureView(\n",
    "        feature_registry_source=feature_registry_source,\n",
    "        sync_config=sync_config,\n",
    "        service_agent_type=feature_view_pb2.FeatureView.ServiceAgentType.SERVICE_AGENT_TYPE_FEATURE_VIEW,\n",
    "    ),\n",
    ")"
   ]
  },
  {
   "cell_type": "code",
   "execution_count": null,
   "metadata": {
    "id": "2_0qUZkGzKjx"
   },
   "outputs": [],
   "source": [
    "print(create_view_lro.result())"
   ]
  },
  {
   "cell_type": "markdown",
   "metadata": {
    "id": "ulWt3gm41Dni"
   },
   "source": [
    "验证所创建的特征视图。"
   ]
  },
  {
   "cell_type": "code",
   "execution_count": null,
   "metadata": {
    "id": "cGPqc1MF1FlE"
   },
   "outputs": [],
   "source": [
    "# Use list to verify the store is created.\n",
    "admin_client.get_feature_view(\n",
    "    name=f\"projects/{PROJECT_ID}/locations/{LOCATION}/featureOnlineStores/{FEATURE_ONLINE_STORE_ID}/featureViews/{FEATURE_VIEW_ID}\"\n",
    ")"
   ]
  },
  {
   "cell_type": "markdown",
   "metadata": {
    "id": "RBMKndb7Mogn"
   },
   "source": [
    "### 授予Feature View Service Agent对BigQuery的访问权限\n",
    "\n",
    "注意：确保您完成本节中描述的步骤。否则，特征视图的同步将失败。\n",
    "\n",
    "接下来，将BigQuery数据查看器角色授予创建的特征视图Service Agent。这需要两个步骤：\n",
    "1. 检索特征视图的 `service_account_email`。\n",
    "2. 更新BigQuery源端的IAM策略。"
   ]
  },
  {
   "cell_type": "code",
   "execution_count": null,
   "metadata": {
    "id": "xaujhyKDMy6c"
   },
   "outputs": [],
   "source": [
    "# Step 1: Retrieve the service account email for the feature view.\n",
    "\n",
    "# Get feature view\n",
    "feature_view = admin_client.get_feature_view(\n",
    "    name=f\"projects/{PROJECT_ID}/locations/{LOCATION}/featureOnlineStores/{FEATURE_ONLINE_STORE_ID}/featureViews/{FEATURE_VIEW_ID}\"\n",
    ")\n",
    "SERVICE_ACCOUNT = feature_view.service_account_email"
   ]
  },
  {
   "cell_type": "code",
   "execution_count": null,
   "metadata": {
    "id": "zg5-zjd8NHaO"
   },
   "outputs": [],
   "source": [
    "# Step 2: Update the IAM policy on the BigQuery Source.\n",
    "\n",
    "!bq add-iam-policy-binding --member=serviceAccount:$SERVICE_ACCOUNT --role=roles/bigquery.dataViewer {DATASET_ID}.{TABLE_ID}"
   ]
  },
  {
   "cell_type": "markdown",
   "metadata": {
    "id": "5wgXT0u3dIvv"
   },
   "source": [
    "请等一段时间，让新添加的IAM策略绑定生效。\n",
    "* 注意：策略更改通常需要2分钟生效，因此可能会减少这种延迟。有关更多详细信息，请参阅[IAM文档](https://cloud.google.com/iam/docs/access-change-propagation)。"
   ]
  },
  {
   "cell_type": "code",
   "execution_count": null,
   "metadata": {
    "id": "X1Akdz6pCiT5"
   },
   "outputs": [],
   "source": [
    "# Wait 10 minutes for the newly updated IAM policy binding to become effective.\n",
    "from time import sleep\n",
    "\n",
    "sleep(600)"
   ]
  },
  {
   "cell_type": "markdown",
   "metadata": {
    "id": "GdAIYPGmCh3s"
   },
   "source": [
    "按需批量同步运行。"
   ]
  },
  {
   "cell_type": "code",
   "execution_count": null,
   "metadata": {
    "id": "8a4HzqtyzYJS"
   },
   "outputs": [],
   "source": [
    "sync_response = admin_client.sync_feature_view(\n",
    "    feature_view=f\"projects/{PROJECT_ID}/locations/{LOCATION}/featureOnlineStores/{FEATURE_ONLINE_STORE_ID}/featureViews/{FEATURE_VIEW_ID}\"\n",
    ")\n",
    "\n",
    "# Wait for sync completion\n",
    "while True:\n",
    "    feature_view_sync = admin_client.get_feature_view_sync(\n",
    "        name=sync_response.feature_view_sync\n",
    "    )\n",
    "    if feature_view_sync.run_time.end_time.seconds > 0:\n",
    "        status = \"Succeed\" if feature_view_sync.final_status.code == 0 else \"Failed\"\n",
    "        print(f\"Sync {status} for {feature_view_sync.name}.\")\n",
    "        break\n",
    "    else:\n",
    "        print(\"Sync ongoing, waiting for 30 seconds.\")\n",
    "    sleep(30)"
   ]
  },
  {
   "cell_type": "markdown",
   "metadata": {
    "id": "chrQP9VfSHw2"
   },
   "source": [
    "确认批量同步的状态。"
   ]
  },
  {
   "cell_type": "code",
   "execution_count": null,
   "metadata": {
    "id": "cdCvuudTHE3c"
   },
   "outputs": [],
   "source": [
    "admin_client.get_feature_view_sync(name=sync_response.feature_view_sync)"
   ]
  },
  {
   "cell_type": "markdown",
   "metadata": {
    "id": "QV75u0SS0-2b"
   },
   "source": [
    "开始在线服务\n",
    "\n",
    "数据同步完成后，使用`FetchFeatureValues` API来检索数据。"
   ]
  },
  {
   "cell_type": "code",
   "execution_count": null,
   "metadata": {
    "id": "q0SwbX1MiSPf"
   },
   "outputs": [],
   "source": [
    "data_client = FeatureOnlineStoreServiceClient(\n",
    "    client_options={\"api_endpoint\": API_ENDPOINT}\n",
    ")"
   ]
  },
  {
   "cell_type": "markdown",
   "metadata": {
    "id": "oHzmqin0SMZA"
   },
   "source": [
    "从特色网店读取同步数据。"
   ]
  },
  {
   "cell_type": "code",
   "execution_count": null,
   "metadata": {
    "id": "ZUJib4x1SXlw"
   },
   "outputs": [],
   "source": [
    "data_client.fetch_feature_values(\n",
    "    request=feature_online_store_service_pb2.FetchFeatureValuesRequest(\n",
    "        feature_view=f\"projects/{PROJECT_ID}/locations/{LOCATION}/featureOnlineStores/{FEATURE_ONLINE_STORE_ID}/featureViews/{FEATURE_VIEW_ID}\",\n",
    "        data_key=feature_online_store_service_pb2.FeatureViewDataKey(key=\"test\"),\n",
    "    )\n",
    ")"
   ]
  },
  {
   "cell_type": "markdown",
   "metadata": {
    "id": "6J8bU-GmrV5i"
   },
   "source": [
    "清理工作\n",
    "\n",
    "要清理此项目中使用的所有Google Cloud资源，您可以[删除您用于教程的Google Cloud项目](https://cloud.google.com/resource-manager/docs/creating-managing-projects#shutting_down_projects)。\n",
    "\n",
    "否则，您可以删除您在本教程中创建的集群。"
   ]
  },
  {
   "cell_type": "code",
   "execution_count": null,
   "metadata": {
    "id": "uTa8-ut-rV5j"
   },
   "outputs": [],
   "source": [
    "# Delete feature view\n",
    "admin_client.delete_feature_view(\n",
    "    name=f\"projects/{PROJECT_ID}/locations/{LOCATION}/featureOnlineStores/{FEATURE_ONLINE_STORE_ID}/featureViews/{FEATURE_VIEW_ID}\"\n",
    ")\n",
    "\n",
    "# Delete online store\n",
    "admin_client.delete_feature_online_store(\n",
    "    name=f\"projects/{PROJECT_ID}/locations/{LOCATION}/featureOnlineStores/{FEATURE_ONLINE_STORE_ID}\"\n",
    ")\n",
    "\n",
    "# Delete features\n",
    "for feature_id in FEATURE_IDS:\n",
    "    registry_client.delete_feature(\n",
    "        name=f\"projects/{PROJECT_ID}/locations/{LOCATION}/featureGroups/{FEATURE_GROUP_ID}/features/{feature_id}\"\n",
    "    )\n",
    "\n",
    "# Delete feature group\n",
    "registry_client.delete_feature_group(\n",
    "    name=f\"projects/{PROJECT_ID}/locations/{LOCATION}/featureGroups/{FEATURE_GROUP_ID}\"\n",
    ")\n",
    "\n",
    "# Delete test data\n",
    "!bq rm -f {DATASET_ID}.{TABLE_ID}"
   ]
  }
 ],
 "metadata": {
  "colab": {
   "name": "vertex_ai_feature_store_feature_view_service_agents.ipynb",
   "toc_visible": true
  },
  "kernelspec": {
   "display_name": "Python 3",
   "name": "python3"
  }
 },
 "nbformat": 4,
 "nbformat_minor": 0
}
