{
 "cells": [
  {
   "cell_type": "code",
   "execution_count": null,
   "metadata": {
    "id": "8EcdxqUnftBL"
   },
   "outputs": [],
   "source": [
    "# Copyright 2024 Google LLC\n",
    "#\n",
    "# Licensed under the Apache License, Version 2.0 (the \"License\");\n",
    "# you may not use this file except in compliance with the License.\n",
    "# You may obtain a copy of the License at\n",
    "#\n",
    "#     https://www.apache.org/licenses/LICENSE-2.0\n",
    "#\n",
    "# Unless required by applicable law or agreed to in writing, software\n",
    "# distributed under the License is distributed on an \"AS IS\" BASIS,\n",
    "# WITHOUT WARRANTIES OR CONDITIONS OF ANY KIND, either express or implied.\n",
    "# See the License for the specific language governing permissions and\n",
    "# limitations under the License."
   ]
  },
  {
   "cell_type": "markdown",
   "metadata": {
    "id": "awoLZ5dc5bcG"
   },
   "source": [
    "# 基于 Vertex AI 特征存储的 LLM 接地教程\n",
    "\n",
    "<table align=\"left\">\n",
    "\n",
    "  <td>\n",
    "    <a href=\"https://colab.research.google.com/github/GoogleCloudPlatform/vertex-ai-samples/blob/main/notebooks/official/feature_store/vertex_ai_feature_store_based_llm_grounding_tutorial.ipynb\">\n",
    "      <img src=\"https://cloud.google.com/ml-engine/images/colab-logo-32px.png\" alt=\"Colab logo\"> 在 Colab 中运行\n",
    "    </a>\n",
    "  </td>\n",
    "  <td>\n",
    "    <a href=\"https://github.com/GoogleCloudPlatform/vertex-ai-samples/blob/main/notebooks/official/feature_store/vertex_ai_feature_store_based_llm_grounding_tutorial.ipynb\">\n",
    "      <img src=\"https://cloud.google.com/ml-engine/images/github-logo-32px.png\" alt=\"GitHub logo\">\n",
    "      在 GitHub 上查看\n",
    "    </a>\n",
    "  </td>\n",
    "  <td>\n",
    "    <a href=\"https://console.cloud.google.com/vertex-ai/workbench/deploy-notebook?download_url=https://raw.githubusercontent.com/GoogleCloudPlatform/vertex-ai-samples/main/notebooks/official/feature_store/vertex_ai_feature_store_based_llm_grounding_tutorial.ipynb.ipynb\">\n",
    "      <img src=\"https://lh3.googleusercontent.com/UiNooY4LUgW_oTvpsNhPpQzsstV5W8F7rYgxgGBD85cWJoLmrOzhVs_ksK_vgx40SHs7jCqkTkCk=e14-rj-sc0xffffff-h130-w32\" alt=\"Vertex AI logo\">\n",
    "      在 Vertex AI Workbench 中打开\n",
    "    </a>\n",
    "  </td>                                                                                               \n",
    "</table>"
   ]
  },
  {
   "cell_type": "markdown",
   "metadata": {
    "id": "WWNCLbZZ6MLi"
   },
   "source": [
    "## 概述\n",
    "\n",
    "在本教程中，您将学习如何对用户提供的数据进行分块，并使用具有嵌入生成功能的Vertex LLM（大型语言模型）为每个块生成嵌入向量。然后，可以将生成的嵌入向量数据集加载到Vertex AI特征存储中，实现快速特征检索和高效的在线服务。\n",
    "\n",
    "了解有关[Vertex AI特征存储](https://cloud.google.com/vertex-ai/docs/featurestore/overview)的更多信息。"
   ]
  },
  {
   "cell_type": "markdown",
   "metadata": {
    "id": "CBeo3dIqJVDd"
   },
   "source": [
    "### 目标\n",
    "\n",
    "在本教程中，您将学习如何使用在线特征存储实例在BigQuery中托管和提供数据，在最终功能服务和矢量检索用户旅程的端到端工作流中使用Vertex AI Feature Store。\n",
    "\n",
    "本教程使用以下谷歌云ML服务和资源：\n",
    "\n",
    "- Vertex AI Feature Store\n",
    "\n",
    "执行的步骤包括：\n",
    "\n",
    "- 配置一个在线特征存储实例来托管和提供数据。\n",
    "- 创建一个在线特征存储实例来提供BigQuery表。\n",
    "- 使用在线服务器搜索最近的邻居。"
   ]
  },
  {
   "cell_type": "markdown",
   "metadata": {
    "id": "H1t0xA5XB_3n"
   },
   "source": [
    "### 注意\n",
    "这是一个预览版本。使用该功能时，您需要意识到存在一些问题，并且该预览版本是根据发布前GA的服务条款提供的“原样”服务。"
   ]
  },
  {
   "cell_type": "markdown",
   "metadata": {
    "id": "SbCa7Pcpqgaz"
   },
   "source": [
    "数据集\n",
    "\n",
    "本教程使用了来自BigQuery公共数据集的[Google专利公共数据](https://console.cloud.google.com/marketplace/product/google_patents_public_datasets/google-patents-public-data)。"
   ]
  },
  {
   "cell_type": "markdown",
   "metadata": {
    "id": "nrggkyCUrhZM"
   },
   "source": [
    "### 成本\n",
    "\n",
    "此教程使用 Google Cloud 的可计费组件：\n",
    "\n",
    "* Vertex AI\n",
    "* BigQuery\n",
    "* Cloud Storage\n",
    "\n",
    "了解 [Vertex AI 定价](https://cloud.google.com/vertex-ai/pricing)、[BigQuery 定价](https://cloud.google.com/bigquery/pricing)、[Cloud Storage 定价](https://cloud.google.com/storage/pricing)，\n",
    "并使用 [定价计算器](https://cloud.google.com/products/calculator/) 根据您的预期使用量生成成本估算。"
   ]
  },
  {
   "cell_type": "markdown",
   "metadata": {
    "id": "yTJiDCrYsOmT"
   },
   "source": [
    "## 安装\n",
    "\n",
    "安装以下所需的软件包以运行这个笔记本。"
   ]
  },
  {
   "cell_type": "code",
   "execution_count": null,
   "metadata": {
    "id": "GAqbE5Z2sTVM"
   },
   "outputs": [],
   "source": [
    "# Install the packages\n",
    "! pip3 install --upgrade --quiet google-cloud-aiplatform\\\n",
    "                                 google-cloud-bigquery\\\n",
    "                                 db-dtypes\n",
    "\n",
    "! pip3 install --upgrade kfp -q --no-warn-conflicts"
   ]
  },
  {
   "cell_type": "markdown",
   "metadata": {
    "id": "np60_uuCs7X5"
   },
   "source": [
    "只有Colab: 取消下面的单元格注释以重新启动内核。"
   ]
  },
  {
   "cell_type": "code",
   "execution_count": null,
   "metadata": {
    "id": "_u0aEgaSs-3v"
   },
   "outputs": [],
   "source": [
    "# # Automatically restart the kernel after installation so that your environment can access the new packages\n",
    "# import IPython\n",
    "\n",
    "# app = IPython.Application.instance()\n",
    "# app.kernel.do_shutdown(True)"
   ]
  },
  {
   "cell_type": "markdown",
   "metadata": {
    "id": "mdqw6ADTtJRI"
   },
   "source": [
    "## 开始之前\n",
    "\n",
    "### 设置你的谷歌云项目\n",
    "\n",
    "**无论你使用什么笔记本环境，下面的步骤都是必需的。**\n",
    "\n",
    "1. [选择或创建一个谷歌云项目](https://console.cloud.google.com/cloud-resource-manager)。当你首次创建账户时，你会获得$300的免费信用用于支付计算/存储成本。\n",
    "\n",
    "2. [确保为你的项目启用了计费功能](https://cloud.google.com/billing/docs/how-to/modify-project)。\n",
    "\n",
    "3. [启用Vertex AI API](https://console.cloud.google.com/flows/enableapi?apiid=aiplatform.googleapis.com)。\n",
    "\n",
    "4. 如果你在本地运行这个笔记本，你需要安装[Cloud SDK](https://cloud.google.com/sdk)。"
   ]
  },
  {
   "cell_type": "markdown",
   "metadata": {
    "id": "bFANidV0tPbo"
   },
   "source": [
    "#### 设置您的项目ID\n",
    "\n",
    "**如果您不知道您的项目ID**，请尝试以下操作：\n",
    "- 运行 `gcloud config list`。\n",
    "- 运行 `gcloud projects list`。\n",
    "- 查看支持页面：[查找项目ID](https://support.google.com/googleapi/answer/7014113)。"
   ]
  },
  {
   "cell_type": "code",
   "execution_count": null,
   "metadata": {
    "id": "t5cutPRQtQ7m"
   },
   "outputs": [],
   "source": [
    "PROJECT_ID = \"[your-project-id]\"  # @param {type:\"string\"}\n",
    "\n",
    "# Set the project id\n",
    "! gcloud config set project {PROJECT_ID}"
   ]
  },
  {
   "cell_type": "markdown",
   "metadata": {
    "id": "lfY8yWnbtZ0K"
   },
   "source": [
    "地区\n",
    "\n",
    "您也可以更改Vertex AI使用的`REGION`变量。了解有关[Vertex AI地区](https://cloud.google.com/vertex-ai/docs/general/locations)的更多信息。请注意，colab中显示的新的特征存储功能目前仅在以下地区提供：\n",
    "* `us-central1`\n",
    "* `us-east1`\n",
    "* `us-west1`\n",
    "* `europe-west4`\n",
    "* `asia-southeast1`"
   ]
  },
  {
   "cell_type": "code",
   "execution_count": null,
   "metadata": {
    "id": "G6iMMALZthFM"
   },
   "outputs": [],
   "source": [
    "REGION = \"us-central1\"  # @param {type: \"string\"}"
   ]
  },
  {
   "cell_type": "markdown",
   "metadata": {
    "id": "Ni5jx6RGtzG3"
   },
   "source": [
    "### 验证您的谷歌云帐户\n",
    "\n",
    "根据您的Jupyter环境，您可能需要手动进行身份验证。请按照以下说明进行操作："
   ]
  },
  {
   "cell_type": "markdown",
   "metadata": {
    "id": "UzsMphY2t4-v"
   },
   "source": [
    "1. 顶点 AI 工作台\n",
    "* 什么也不用做，因为您已经进行了身份验证。"
   ]
  },
  {
   "cell_type": "markdown",
   "metadata": {
    "id": "R_OnJm_Yt8bw"
   },
   "source": [
    "**2. 本地JupyterLab实例，取消注释并运行：**"
   ]
  },
  {
   "cell_type": "code",
   "execution_count": null,
   "metadata": {
    "id": "x4ybIfzhuAOc"
   },
   "outputs": [],
   "source": [
    "# ! gcloud auth login"
   ]
  },
  {
   "cell_type": "markdown",
   "metadata": {
    "id": "gmnRqX6BuBnx"
   },
   "source": [
    "3. 合作，取消注释并运行："
   ]
  },
  {
   "cell_type": "code",
   "execution_count": null,
   "metadata": {
    "id": "uN9JoC1buE9P"
   },
   "outputs": [],
   "source": [
    "# from google.colab import auth\n",
    "# auth.authenticate_user()"
   ]
  },
  {
   "cell_type": "markdown",
   "metadata": {
    "id": "YNAvMVJjuH5b"
   },
   "source": [
    "4. 服务账户或其他\n",
    "* 请查看如何授予您的服务账户云存储权限的方法，网址为https://cloud.google.com/storage/docs/gsutil/commands/iam#ch-examples。"
   ]
  },
  {
   "cell_type": "markdown",
   "metadata": {
    "id": "OMCl0avIusKl"
   },
   "source": [
    "### 导入库"
   ]
  },
  {
   "cell_type": "code",
   "execution_count": null,
   "metadata": {
    "id": "ifbIQuN1uz2r"
   },
   "outputs": [],
   "source": [
    "import uuid\n",
    "\n",
    "from google.cloud import aiplatform, bigquery\n",
    "from google.cloud.aiplatform_v1 import (FeatureOnlineStoreAdminServiceClient,\n",
    "                                        FeatureOnlineStoreServiceClient)\n",
    "from google.cloud.aiplatform_v1.types import NearestNeighborQuery\n",
    "from google.cloud.aiplatform_v1.types import \\\n",
    "    feature_online_store as feature_online_store_pb2\n",
    "from google.cloud.aiplatform_v1.types import \\\n",
    "    feature_online_store_admin_service as \\\n",
    "    feature_online_store_admin_service_pb2\n",
    "from google.cloud.aiplatform_v1.types import \\\n",
    "    feature_online_store_service as feature_online_store_service_pb2\n",
    "from google.cloud.aiplatform_v1.types import feature_view as feature_view_pb2"
   ]
  },
  {
   "cell_type": "markdown",
   "metadata": {
    "id": "6ooJNSOvu6Q5"
   },
   "source": [
    "### 初始化用于 Python 的 Vertex AI SDK\n",
    "\n",
    "为您的项目初始化用于 Python 的 Vertex AI SDK。"
   ]
  },
  {
   "cell_type": "code",
   "execution_count": null,
   "metadata": {
    "id": "mLTm3pquu9ar"
   },
   "outputs": [],
   "source": [
    "aiplatform.init(project=PROJECT_ID, location=REGION)\n",
    "\n",
    "API_ENDPOINT = f\"{REGION}-aiplatform.googleapis.com\""
   ]
  },
  {
   "cell_type": "markdown",
   "metadata": {
    "id": "AYzwb095DJTl"
   },
   "source": [
    "## 设置和启动在线服务\n",
    "\n",
    "要在Vertex AI特征存储中提供嵌入数据，请执行以下操作：\n",
    "\n",
    "1. 在BigQuery中准备数据源。\n",
    "2. 创建一个FeatureOnlineStore实例来托管数据。\n",
    "3. 定义要由新创建实例提供的数据（`FeatureView`）。"
   ]
  },
  {
   "cell_type": "markdown",
   "metadata": {
    "id": "gNv9jdEhV0u6"
   },
   "source": [
    "为特征视图创建准备BigQuery数据源"
   ]
  },
  {
   "cell_type": "code",
   "execution_count": null,
   "metadata": {
    "id": "2PBDNyHnY_OB"
   },
   "outputs": [],
   "source": [
    "GCS_BUCKET = f\"gs://your-bucket-name-{PROJECT_ID}-unique\"  # @param {type:\"string\"}"
   ]
  },
  {
   "cell_type": "markdown",
   "metadata": {
    "id": "_OV9dADJb63o"
   },
   "source": [
    "只有当您的存储桶不存在时才运行以下单元格以创建您的云存储存储桶。"
   ]
  },
  {
   "cell_type": "code",
   "execution_count": null,
   "metadata": {
    "id": "k-9B3v7kcOAF"
   },
   "outputs": [],
   "source": [
    "! gsutil mb -l {REGION} -p {PROJECT_ID} {GCS_BUCKET}"
   ]
  },
  {
   "cell_type": "markdown",
   "metadata": {
    "id": "DTykneRCbDOU"
   },
   "source": [
    "准备在Google Cloud存储（GCS）中的数据"
   ]
  },
  {
   "cell_type": "code",
   "execution_count": null,
   "metadata": {
    "id": "rmL7Z66xb9Sx"
   },
   "outputs": [],
   "source": [
    "INPUT_TEXT_GCS_DIR = f\"{GCS_BUCKET}/fs_grounding/data\"\n",
    "\n",
    "import tarfile\n",
    "from urllib.request import urlretrieve\n",
    "\n",
    "\n",
    "def untar(file_name):\n",
    "    output_folder_name = file_name[:-7]\n",
    "    file = tarfile.open(file_name)\n",
    "    file.extractall(output_folder_name)\n",
    "    return output_folder_name\n",
    "\n",
    "\n",
    "# Download data from https://www.cl.uni-heidelberg.de/statnlpgroup/nfcorpus/nfcorpus.tar.gz\n",
    "url = \"https://www.cl.uni-heidelberg.de/statnlpgroup/nfcorpus/nfcorpus.tar.gz\"\n",
    "filename = \"nfcorpus.tar.gz\"\n",
    "path, _ = urlretrieve(url, filename)\n",
    "print(f\"Downloaded {path}\")\n",
    "\n",
    "# Copy text files to GCS.\n",
    "output_folder_name = f\"{untar(path)}/nfcorpus\"\n",
    "dev_all_queries = f\"{output_folder_name}/dev.all.queries\"\n",
    "dev_docs = f\"{output_folder_name}/dev.docs\"\n",
    "! gsutil cp {dev_all_queries} {INPUT_TEXT_GCS_DIR}/queries\n",
    "! gsutil cp {dev_docs} {INPUT_TEXT_GCS_DIR}/docs"
   ]
  },
  {
   "cell_type": "markdown",
   "metadata": {
    "id": "q4rxyUV4XU7q"
   },
   "source": [
    "创建BigQuery数据集"
   ]
  },
  {
   "cell_type": "code",
   "execution_count": null,
   "metadata": {
    "id": "CdIPzLkoW5mc"
   },
   "outputs": [],
   "source": [
    "bq_client = bigquery.Client(project=PROJECT_ID)\n",
    "\n",
    "BQ_DATASET_ID = \"fs_grounding\"  # @param {type:\"string\"}\n",
    "dataset = bigquery.Dataset(f\"{PROJECT_ID}.{BQ_DATASET_ID}\")\n",
    "dataset.location = REGION\n",
    "dataset = bq_client.create_dataset(\n",
    "    dataset, exists_ok=True, timeout=30\n",
    ")  # Make an API request.\n",
    "\n",
    "# Confirm dataset created.\n",
    "print(f\"Created dataset {dataset}.{BQ_DATASET_ID}\")"
   ]
  },
  {
   "cell_type": "markdown",
   "metadata": {
    "id": "QlKyrvIAXf5O"
   },
   "source": [
    "启动管道"
   ]
  },
  {
   "cell_type": "code",
   "execution_count": null,
   "metadata": {
    "id": "Knz8N5iIXpl9"
   },
   "outputs": [],
   "source": [
    "run_id = str(uuid.uuid4())\n",
    "\n",
    "PIPELINE_TEMPLATE_URI = \"gs://vertex-evaluation-pipeline-templates/20240117_0005/feature_store_grounding_pipeline_pipeline.yaml\"\n",
    "BIGQUERY_BP_INPUT_URI = f\"bq://{PROJECT_ID}.{BQ_DATASET_ID}.batch_predict_input\"\n",
    "BIGQUERY_BP_OUTPUT_URI = f\"bq://{PROJECT_ID}.{BQ_DATASET_ID}.batch_predict_output\"\n",
    "\n",
    "PARAMS = {\n",
    "    \"project\": PROJECT_ID,\n",
    "    \"location\": REGION,\n",
    "    \"bigquery_bp_input_uri\": BIGQUERY_BP_INPUT_URI,\n",
    "    \"bigquery_bp_output_uri\": BIGQUERY_BP_OUTPUT_URI,\n",
    "    \"input_text_gcs_dir\": INPUT_TEXT_GCS_DIR,\n",
    "    \"output_text_gcs_dir\": f\"{GCS_BUCKET}/fs_grounding_{run_id}/chunking_output\",\n",
    "    \"output_error_file_path\": f\"{GCS_BUCKET}/fs_grounding_{run_id}/chunking_error_output\",\n",
    "    \"model_name\": \"publishers/google/models/textembedding-gecko@latest\",\n",
    "    \"generation_threshold_microseconds\": \"0\",\n",
    "}\n",
    "\n",
    "\n",
    "def run_pipeline(\n",
    "    parameters: dict,\n",
    "    project: str,\n",
    "    pipeline_root: str,\n",
    "    location: str = \"us-central1\",\n",
    ") -> aiplatform.PipelineJob:\n",
    "    aiplatform.init(\n",
    "        project=project,\n",
    "        location=location,\n",
    "    )\n",
    "\n",
    "    test_prefix = \"your-test-prefix\"  # @param {type:\"string\"}\n",
    "    pipeline_name = \"feature-store-grounding-pipeline\"  # @param {type:\"string\"}\n",
    "\n",
    "    test_name = f\"{test_prefix}-{pipeline_name}-{run_id}\"\n",
    "    job = aiplatform.PipelineJob(\n",
    "        display_name=test_name,\n",
    "        template_path=PIPELINE_TEMPLATE_URI,\n",
    "        job_id=test_name,\n",
    "        pipeline_root=pipeline_root,\n",
    "        parameter_values=parameters,\n",
    "        enable_caching=False,\n",
    "    )\n",
    "\n",
    "    job.submit()\n",
    "\n",
    "    return job\n",
    "\n",
    "\n",
    "job = run_pipeline(\n",
    "    parameters=PARAMS,\n",
    "    project=PROJECT_ID,\n",
    "    pipeline_root=f\"{GCS_BUCKET}/fs_based/pipeline_root\",\n",
    "    location=REGION,\n",
    ")\n",
    "job.wait()"
   ]
  },
  {
   "cell_type": "markdown",
   "metadata": {
    "id": "F7v96efXpBxf"
   },
   "source": [
    "#### BQ 格式转换"
   ]
  },
  {
   "cell_type": "code",
   "execution_count": null,
   "metadata": {
    "id": "Vv27Q9AanTCO"
   },
   "outputs": [],
   "source": [
    "def compose_bq_query_format_conversion(\n",
    "    bigquery_bp_input_uri: str, bigquery_bp_output_uri: str\n",
    ") -> str:\n",
    "    \"\"\"Compose the BQ query for format conversion.\n",
    "\n",
    "    Args:\n",
    "      bigquery_bp_input_uri: The URI to a bigquery table as the input for the\n",
    "        batch prediction component. The chunking component will populate data to\n",
    "        this uri first before batch prediction.\n",
    "      bigquery_bp_output_uri: The URI to a bigquery table as the output for the\n",
    "        batch prediction component.\n",
    "\n",
    "    Returns:\n",
    "      The composed query for BigQuery format conversion.\n",
    "    \"\"\"\n",
    "\n",
    "    if bigquery_bp_input_uri.startswith(\"bq://\"):\n",
    "        bigquery_bp_input_uri = bigquery_bp_input_uri.replace(\"bq://\", \"\")\n",
    "\n",
    "    if bigquery_bp_output_uri.startswith(\"bq://\"):\n",
    "        bigquery_bp_output_uri = bigquery_bp_output_uri.replace(\"bq://\", \"\")\n",
    "\n",
    "    inseration_query = (\n",
    "        f\"UPDATE `{bigquery_bp_input_uri}` destTable\"\n",
    "        \" SET embedding=ARRAY( select cast (str_element as float64) from\"\n",
    "        \" unnest(JSON_VALUE_ARRAY(prediction, '$.embeddings.values')) as\"\n",
    "        \" str_element)\"\n",
    "    )\n",
    "    fetch_data_query = (\n",
    "        \"FROM (SELECT vertex_generated_chunk_id, prediction FROM\"\n",
    "        f\" `{bigquery_bp_output_uri}` cross join\"\n",
    "        \" unnest(JSON_EXTRACT_ARRAY(predictions)) as prediction) sourceTable\"\n",
    "        \" WHERE\"\n",
    "        \" destTable.vertex_generated_chunk_id=sourceTable.vertex_generated_chunk_id\"\n",
    "    )\n",
    "    return f\"{inseration_query} {fetch_data_query};\"\n",
    "\n",
    "\n",
    "bq_query = compose_bq_query_format_conversion(\n",
    "    bigquery_bp_input_uri=BIGQUERY_BP_INPUT_URI,\n",
    "    bigquery_bp_output_uri=BIGQUERY_BP_OUTPUT_URI,\n",
    ")\n",
    "\n",
    "bq_job = bq_client.query(bq_query)\n",
    "bq_job.result()"
   ]
  },
  {
   "cell_type": "markdown",
   "metadata": {
    "id": "KMdXOJB7EM47"
   },
   "source": [
    "### 初始化管理员服务客户端\n",
    "\n",
    "加载功能商店SDK。"
   ]
  },
  {
   "cell_type": "code",
   "execution_count": null,
   "metadata": {
    "id": "KNJF37XGEOi6"
   },
   "outputs": [],
   "source": [
    "admin_client = FeatureOnlineStoreAdminServiceClient(\n",
    "    client_options={\"api_endpoint\": API_ENDPOINT}\n",
    ")"
   ]
  },
  {
   "cell_type": "markdown",
   "metadata": {
    "id": "43CSdWFTTn-_"
   },
   "source": [
    "### 在线商店创建特性\n",
    "\n",
    "创建一个具有嵌入式管理功能的特色在线商店。"
   ]
  },
  {
   "cell_type": "code",
   "execution_count": null,
   "metadata": {
    "id": "uoCExlfzfjNE"
   },
   "outputs": [],
   "source": [
    "FEATURE_ONLINE_STORE_ID = \"my_feature_online_store_unique\"  # @param {type: \"string\"}"
   ]
  },
  {
   "cell_type": "code",
   "execution_count": null,
   "metadata": {
    "id": "s4cS3i3zfld6"
   },
   "outputs": [],
   "source": [
    "online_store_config = feature_online_store_pb2.FeatureOnlineStore(\n",
    "    optimized=feature_online_store_pb2.FeatureOnlineStore.Optimized(),\n",
    ")\n",
    "\n",
    "create_store_lro = admin_client.create_feature_online_store(\n",
    "    feature_online_store_admin_service_pb2.CreateFeatureOnlineStoreRequest(\n",
    "        parent=f\"projects/{PROJECT_ID}/locations/{REGION}\",\n",
    "        feature_online_store_id=FEATURE_ONLINE_STORE_ID,\n",
    "        feature_online_store=online_store_config,\n",
    "    )\n",
    ")"
   ]
  },
  {
   "cell_type": "markdown",
   "metadata": {
    "id": "wzExizycIaHH"
   },
   "source": [
    "### 验证在线商店实例创建\n",
    "\n",
    "长时间运行的操作（LRO）完成后，显示结果。\n",
    "\n",
    "> **注意：** 该操作可能需要最多10分钟才能完成。"
   ]
  },
  {
   "cell_type": "code",
   "execution_count": null,
   "metadata": {
    "id": "3Ql5LrIUO0kJ"
   },
   "outputs": [],
   "source": [
    "# Wait for the LRO to finish and get the LRO result.\n",
    "print(create_store_lro.result())"
   ]
  },
  {
   "cell_type": "markdown",
   "metadata": {
    "id": "ldCMH-IOOx-G"
   },
   "source": [
    "通过检索在线商店实例来验证“FeatureOnlineStore”实例的创建"
   ]
  },
  {
   "cell_type": "code",
   "execution_count": null,
   "metadata": {
    "id": "D3dZEtXKIqXT"
   },
   "outputs": [],
   "source": [
    "# Use get to verify the store is created.\n",
    "admin_client.get_feature_online_store(\n",
    "    name=f\"projects/{PROJECT_ID}/locations/{REGION}/featureOnlineStores/{FEATURE_ONLINE_STORE_ID}\"\n",
    ")"
   ]
  },
  {
   "cell_type": "markdown",
   "metadata": {
    "id": "2vIjCzCwIGMF"
   },
   "source": [
    "列出该地点所有的在线商店"
   ]
  },
  {
   "cell_type": "code",
   "execution_count": null,
   "metadata": {
    "id": "rk8JseF4ICur"
   },
   "outputs": [],
   "source": [
    "# Use list to verify the store is created.\n",
    "admin_client.list_feature_online_stores(\n",
    "    parent=f\"projects/{PROJECT_ID}/locations/{REGION}\"\n",
    ")"
   ]
  },
  {
   "cell_type": "markdown",
   "metadata": {
    "id": "7QZnKMo41ud5"
   },
   "source": [
    "### 创建特征视图实例\n",
    "\n",
    "在创建 `FeatureOnlineStore` 实例之后，您可以定义要提供的特征。要做到这一点，创建一个 `FeatureView` 实例，其中指定以下内容：\n",
    "\n",
    "* 数据源（BigQuery表或视图URI或 `FeatureGroup/features`）与用于提供服务的 `FeatureOnlineStore` 实例同步。\n",
    "* [cron](https://en.wikipedia.org/wiki/Cron) 计划以运行同步管道。\n",
    "\n",
    "在创建特征视图时，将安排一个同步作业，要么立即开始，要么按照 cron 计划。在同步作业中，数据将被导出，索引将被构建并部署到 GKE 集群。"
   ]
  },
  {
   "cell_type": "code",
   "execution_count": null,
   "metadata": {
    "id": "Y9EfVmeu5KBu"
   },
   "outputs": [],
   "source": [
    "FEATURE_VIEW_ID = \"fs_grounding_test_new\"  # @param {type: \"string\"}\n",
    "# A schedule will be created based on cron setting.\n",
    "# If cron is unspecified, a sync job is started immediately.\n",
    "CRON_SCHEDULE = \"TZ=America/Los_Angeles 00 13 11 8 *\"  # @param {type: \"string\"}"
   ]
  },
  {
   "cell_type": "code",
   "execution_count": null,
   "metadata": {
    "id": "8VQ4P2om6SNQ"
   },
   "outputs": [],
   "source": [
    "# Index building configs\n",
    "DIMENSIONS = 768  # @param {type: \"number\"}\n",
    "EMBEDDING_COLUMN = \"embedding\"  # @param {type: \"string\"}\n",
    "# Optional\n",
    "LEAF_NODE_EMBEDDING_COUNT = 10000  # @param {type: \"number\"}\n",
    "# Optional\n",
    "# CROWDING_COLUMN = \"cited_by_filing_date\"  # @param {type: \"string\"}\n",
    "# # Optional\n",
    "# FILTER_COLUMNS = [\"country\"]  # @param"
   ]
  },
  {
   "cell_type": "code",
   "execution_count": null,
   "metadata": {
    "id": "BWKPVw-wH5cH"
   },
   "outputs": [],
   "source": [
    "DATA_SOURCE = BIGQUERY_BP_INPUT_URI"
   ]
  },
  {
   "cell_type": "code",
   "execution_count": null,
   "metadata": {
    "id": "AKdSax3N1ypm"
   },
   "outputs": [],
   "source": [
    "big_query_source = feature_view_pb2.FeatureView.BigQuerySource(\n",
    "    uri=DATA_SOURCE, entity_id_columns=[\"vertex_generated_chunk_id\"]\n",
    ")\n",
    "\n",
    "sync_config = feature_view_pb2.FeatureView.SyncConfig(cron=CRON_SCHEDULE)\n",
    "\n",
    "index_config = feature_view_pb2.FeatureView.IndexConfig(\n",
    "    embedding_column=EMBEDDING_COLUMN,\n",
    "    # filter_columns=FILTER_COLUMNS,\n",
    "    # crowding_column=CROWDING_COLUMN,\n",
    "    embedding_dimension=DIMENSIONS,\n",
    "    tree_ah_config=feature_view_pb2.FeatureView.IndexConfig.TreeAHConfig(),\n",
    ")\n",
    "\n",
    "print(f\"index_config: {index_config}\")\n",
    "\n",
    "create_view_lro = admin_client.create_feature_view(\n",
    "    feature_online_store_admin_service_pb2.CreateFeatureViewRequest(\n",
    "        parent=f\"projects/{PROJECT_ID}/locations/{REGION}/featureOnlineStores/{FEATURE_ONLINE_STORE_ID}\",\n",
    "        feature_view_id=FEATURE_VIEW_ID,\n",
    "        feature_view=feature_view_pb2.FeatureView(\n",
    "            big_query_source=big_query_source,\n",
    "            sync_config=sync_config,\n",
    "            index_config=index_config,\n",
    "        ),\n",
    "    )\n",
    ")"
   ]
  },
  {
   "cell_type": "markdown",
   "metadata": {
    "id": "vDhR7WOTOthp"
   },
   "source": [
    "等待LRO完成并显示结果。"
   ]
  },
  {
   "cell_type": "code",
   "execution_count": null,
   "metadata": {
    "id": "uV5rT5UKOqzv"
   },
   "outputs": [],
   "source": [
    "print(create_view_lro.result())"
   ]
  },
  {
   "cell_type": "markdown",
   "metadata": {
    "id": "mmYQZroEO7dp"
   },
   "source": [
    "验证特征视图创建\n",
    "\n",
    "通过检索特征视图来验证`FeatureView`实例创建。"
   ]
  },
  {
   "cell_type": "code",
   "execution_count": null,
   "metadata": {
    "id": "PaqTIYuwPFC7"
   },
   "outputs": [],
   "source": [
    "admin_client.get_feature_view(\n",
    "    name=f\"projects/{PROJECT_ID}/locations/{REGION}/featureOnlineStores/{FEATURE_ONLINE_STORE_ID}/featureViews/{FEATURE_VIEW_ID}\"\n",
    ")"
   ]
  },
  {
   "cell_type": "markdown",
   "metadata": {
    "id": "sqpu4nHAO4pW"
   },
   "source": [
    "验证FeatureView实例是否通过列出在线商店中所有的特征视图来创建。"
   ]
  },
  {
   "cell_type": "code",
   "execution_count": null,
   "metadata": {
    "id": "O_tv0Z3BPHW4"
   },
   "outputs": [],
   "source": [
    "admin_client.list_feature_views(\n",
    "    parent=f\"projects/{PROJECT_ID}/locations/{REGION}/featureOnlineStores/{FEATURE_ONLINE_STORE_ID}\"\n",
    ")"
   ]
  },
  {
   "cell_type": "code",
   "execution_count": null,
   "metadata": {
    "id": "Es8z0YC4zd33"
   },
   "outputs": [],
   "source": [
    "# Optional: Delete feature views to avoid exceeding the deployed index nodes quota.\n",
    "# views = admin_client.list_feature_views(\n",
    "#     parent=f\"projects/{PROJECT_ID}/locations/{REGION}/featureOnlineStores/{FEATURE_ONLINE_STORE_ID}\"\n",
    "# )\n",
    "# for view in views:\n",
    "#     admin_client.delete_feature_view(name=view.name)"
   ]
  },
  {
   "cell_type": "markdown",
   "metadata": {
    "id": "KZglLt0iuVs0"
   },
   "source": [
    "特征视图同步\n",
    "\n",
    "同步管道根据“FeatureView”实例中指定的计划执行。\n",
    "\n",
    "要跳过等待并立即执行同步管道，请手动启动同步。"
   ]
  },
  {
   "cell_type": "code",
   "execution_count": null,
   "metadata": {
    "id": "G-j5B6InuNfW"
   },
   "outputs": [],
   "source": [
    "sync_response = admin_client.sync_feature_view(\n",
    "    feature_view=f\"projects/{PROJECT_ID}/locations/{REGION}/featureOnlineStores/{FEATURE_ONLINE_STORE_ID}/featureViews/{FEATURE_VIEW_ID}\"\n",
    ")"
   ]
  },
  {
   "cell_type": "markdown",
   "metadata": {
    "id": "GqyYqYplMUjZ"
   },
   "source": [
    "`sync_response`包含同步作业的ID。\n",
    "\n",
    "#### 使用`get_feature_view_sync`来检查作业的状态"
   ]
  },
  {
   "cell_type": "code",
   "execution_count": null,
   "metadata": {
    "id": "_kl8ZBAR2o0b"
   },
   "outputs": [],
   "source": [
    "import time\n",
    "\n",
    "while True:\n",
    "    feature_view_sync = admin_client.get_feature_view_sync(\n",
    "        name=sync_response.feature_view_sync\n",
    "    )\n",
    "    if feature_view_sync.run_time.end_time.seconds > 0:\n",
    "        status = \"Succeed\" if feature_view_sync.final_status.code == 0 else \"Failed\"\n",
    "        print(f\"Sync {status} for {feature_view_sync.name}.\")\n",
    "        # wait a little more for the job to properly shutdown\n",
    "        time.sleep(30)\n",
    "        break\n",
    "    else:\n",
    "        print(\"Sync ongoing, waiting for 30 seconds.\")\n",
    "    time.sleep(30)"
   ]
  },
  {
   "cell_type": "markdown",
   "metadata": {
    "id": "-3XHiHnAIJGj"
   },
   "source": [
    "使用`list_feature_view_syncs`来查看您所有的同步。"
   ]
  },
  {
   "cell_type": "code",
   "execution_count": null,
   "metadata": {
    "id": "3CU67MyLIOAk"
   },
   "outputs": [],
   "source": [
    "admin_client.list_feature_view_syncs(\n",
    "    parent=f\"projects/{PROJECT_ID}/locations/{REGION}/featureOnlineStores/{FEATURE_ONLINE_STORE_ID}/featureViews/{FEATURE_VIEW_ID}\"\n",
    ")"
   ]
  },
  {
   "cell_type": "markdown",
   "metadata": {
    "id": "eUBuFxXBbYOV"
   },
   "source": [
    "### 开始在线服务\n",
    "\n",
    "数据同步完成后，使用`FetchFeatureValuesRequest`和`SearchNearestEntities` API来检索公共终端点域名。\n",
    "\n",
    "获取公共终端点域名。"
   ]
  },
  {
   "cell_type": "code",
   "execution_count": null,
   "metadata": {
    "id": "ssz79-yvgc1P"
   },
   "outputs": [],
   "source": [
    "# Verify online store creation.\n",
    "featore_online_store_instance = admin_client.get_feature_online_store(\n",
    "    name=f\"projects/{PROJECT_ID}/locations/{REGION}/featureOnlineStores/{FEATURE_ONLINE_STORE_ID}\"\n",
    ")\n",
    "PUBLIC_ENDPOINT = (\n",
    "    featore_online_store_instance.dedicated_serving_endpoint.public_endpoint_domain_name\n",
    ")\n",
    "\n",
    "print(f\"PUBLIC_ENDPOINT for online serving: {PUBLIC_ENDPOINT}\")"
   ]
  },
  {
   "cell_type": "markdown",
   "metadata": {
    "id": "tpyAVYIkUX0N"
   },
   "source": [
    "初始化数据客户端"
   ]
  },
  {
   "cell_type": "code",
   "execution_count": null,
   "metadata": {
    "id": "PKJKZx36TT8d"
   },
   "outputs": [],
   "source": [
    "# It will take some time for the DNS to be fully ready\n",
    "time.sleep(300)\n",
    "\n",
    "data_client = FeatureOnlineStoreServiceClient(\n",
    "    client_options={\"api_endpoint\": PUBLIC_ENDPOINT}\n",
    ")"
   ]
  },
  {
   "cell_type": "markdown",
   "metadata": {
    "id": "v5gYpORiBW1n"
   },
   "source": [
    "使用`ENTITY_ID`搜索"
   ]
  },
  {
   "cell_type": "code",
   "execution_count": null,
   "metadata": {
    "id": "1ae4eR9LyoFn"
   },
   "outputs": [],
   "source": [
    "bq_query = f'SELECT * FROM `{BIGQUERY_BP_INPUT_URI.replace(\"bq://\", \"\")}` LIMIT 1'\n",
    "\n",
    "bq_query_job = bq_client.query(bq_query)\n",
    "result = bq_query_job.result().to_dataframe()\n",
    "\n",
    "print(result)\n",
    "\n",
    "ENTITY_ID = result[\"vertex_generated_chunk_id\"][0]"
   ]
  },
  {
   "cell_type": "code",
   "execution_count": null,
   "metadata": {
    "id": "NWhrk3pqSU6h"
   },
   "outputs": [],
   "source": [
    "# A vertex_generated_chunk_id for testing\n",
    "data_client.search_nearest_entities(\n",
    "    request=feature_online_store_service_pb2.SearchNearestEntitiesRequest(\n",
    "        feature_view=f\"projects/{PROJECT_ID}/locations/{REGION}/featureOnlineStores/{FEATURE_ONLINE_STORE_ID}/featureViews/{FEATURE_VIEW_ID}\",\n",
    "        query=NearestNeighborQuery(\n",
    "            entity_id=ENTITY_ID,\n",
    "            neighbor_count=5,\n",
    "        ),\n",
    "        return_full_entity=True,  # returning entities with metadata\n",
    "    )\n",
    ")"
   ]
  },
  {
   "cell_type": "markdown",
   "metadata": {
    "id": "OQEpt08GBX-b"
   },
   "source": [
    "#### 搜索与 `嵌入`"
   ]
  },
  {
   "cell_type": "code",
   "execution_count": null,
   "metadata": {
    "id": "JWcOT26krxuj"
   },
   "outputs": [],
   "source": [
    "EMBEDDINGS = [1] * DIMENSIONS"
   ]
  },
  {
   "cell_type": "code",
   "execution_count": null,
   "metadata": {
    "id": "e3DZl0xRAusK"
   },
   "outputs": [],
   "source": [
    "data_client.search_nearest_entities(\n",
    "    request=feature_online_store_service_pb2.SearchNearestEntitiesRequest(\n",
    "        feature_view=f\"projects/{PROJECT_ID}/locations/{REGION}/featureOnlineStores/{FEATURE_ONLINE_STORE_ID}/featureViews/{FEATURE_VIEW_ID}\",\n",
    "        query=NearestNeighborQuery(\n",
    "            embedding=NearestNeighborQuery.Embedding(value=EMBEDDINGS),\n",
    "            neighbor_count=10,\n",
    "        ),\n",
    "        return_full_entity=True,  # returning entities with metadata\n",
    "    )\n",
    ")"
   ]
  },
  {
   "cell_type": "markdown",
   "metadata": {
    "id": "MKALOxbsZfce"
   },
   "source": [
    "使用`FetchFeatureValues` API来检索完整的数据，而无需搜索"
   ]
  },
  {
   "cell_type": "code",
   "execution_count": null,
   "metadata": {
    "id": "_7op0efLdDFs"
   },
   "outputs": [],
   "source": [
    "data_client.fetch_feature_values(\n",
    "    request=feature_online_store_service_pb2.FetchFeatureValuesRequest(\n",
    "        feature_view=f\"projects/{PROJECT_ID}/locations/{REGION}/featureOnlineStores/{FEATURE_ONLINE_STORE_ID}/featureViews/{FEATURE_VIEW_ID}\",\n",
    "        data_key=feature_online_store_service_pb2.FeatureViewDataKey(key=ENTITY_ID),\n",
    "    )\n",
    ")"
   ]
  },
  {
   "cell_type": "markdown",
   "metadata": {
    "id": "OR1ve2OyyiKq"
   },
   "source": [
    "清理\n",
    "\n",
    "为了清理这个项目中使用的所有谷歌云资源，请[删除您用于本教程的谷歌云项目](https://cloud.google.com/resource-manager/docs/creating-managing-projects#shutting_down_projects)。\n",
    "\n",
    "否则，删除您在本教程中创建的个别资源。"
   ]
  },
  {
   "cell_type": "code",
   "execution_count": null,
   "metadata": {
    "id": "Um27J_vvvzGc"
   },
   "outputs": [],
   "source": [
    "# Delete Feature View\n",
    "admin_client.delete_feature_view(\n",
    "    name=f\"projects/{PROJECT_ID}/locations/{REGION}/featureOnlineStores/{FEATURE_ONLINE_STORE_ID}/featureViews/{FEATURE_VIEW_ID}\"\n",
    ")\n",
    "\n",
    "# Delete Feature Online Store\n",
    "admin_client.delete_feature_online_store(\n",
    "    name=f\"projects/{PROJECT_ID}/locations/{REGION}/featureOnlineStores/{FEATURE_ONLINE_STORE_ID}\",\n",
    "    force=True,\n",
    ")\n",
    "\n",
    "# Delete Cloud Storage objects that were created\n",
    "import os\n",
    "\n",
    "delete_bucket = False\n",
    "if delete_bucket or os.getenv(\"IS_TESTING\"):\n",
    "    ! gsutil -m rm -r $GCS_BUCKET"
   ]
  }
 ],
 "metadata": {
  "colab": {
   "name": "vertex_ai_feature_store_based_llm_grounding_tutorial.ipynb",
   "toc_visible": true
  },
  "kernelspec": {
   "display_name": "Python 3",
   "name": "python3"
  }
 },
 "nbformat": 4,
 "nbformat_minor": 0
}
