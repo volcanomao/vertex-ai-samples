{
 "cells": [
  {
   "cell_type": "code",
   "execution_count": null,
   "metadata": {
    "id": "ur8xi4C7S06n"
   },
   "outputs": [],
   "source": [
    "# Copyright 2024 Google LLC\n",
    "#\n",
    "# Licensed under the Apache License, Version 2.0 (the \"License\");\n",
    "# you may not use this file except in compliance with the License.\n",
    "# You may obtain a copy of the License at\n",
    "#\n",
    "#     https://www.apache.org/licenses/LICENSE-2.0\n",
    "#\n",
    "# Unless required by applicable law or agreed to in writing, software\n",
    "# distributed under the License is distributed on an \"AS IS\" BASIS,\n",
    "# WITHOUT WARRANTIES OR CONDITIONS OF ANY KIND, either express or implied.\n",
    "# See the License for the specific language governing permissions and\n",
    "# limitations under the License."
   ]
  },
  {
   "cell_type": "markdown",
   "metadata": {
    "id": "JAPoU8Sm5E6e"
   },
   "source": [
    "# 在 Vertex AI 特征存储中配置 IAM 策略\n",
    "\n",
    "<table align=\"left\">\n",
    "  <td style=\"text-align: center\">\n",
    "    <a href=\"https://colab.research.google.com/github/GoogleCloudPlatform/vertex-ai-samples/blob/main/notebooks/official/feature_store/vertex_ai_feature_store_iam_policy.ipynb\">\n",
    "      <img src=\"https://cloud.google.com/ml-engine/images/colab-logo-32px.png\" alt=\"Google Colaboratory logo\"><br> 在 Colab 中打开\n",
    "    </a>\n",
    "  </td>\n",
    "  <td style=\"text-align: center\">\n",
    "    <a href=\"https://console.cloud.google.com/vertex-ai/colab/import/https:%2F%2Fraw.githubusercontent.com%2FGoogleCloudPlatform%2Fvertex-ai-samples%2Fblob%2Fmain%2Fnotebooks%2Fofficial%2Ffeature_store%2Fvertex_ai_feature_store_iam_policy.ipynb\">\n",
    "      <img width=\"32px\" src=\"https://cloud.google.com/ml-engine/images/colab-enterprise-logo-32px.png\" alt=\"Google Cloud Colab Enterprise logo\"><br> 在 Colab Enterprise 中打开\n",
    "    </a>\n",
    "  </td>    \n",
    "  <td style=\"text-align: center\">\n",
    "    <a href=\"https://console.cloud.google.com/vertex-ai/workbench/deploy-notebook?download_url=https://raw.githubusercontent.com/GoogleCloudPlatform/vertex-ai-samples/tree/main/notebooks/official/feature_store/vertex_ai_feature_store_iam_policy.ipynb\">\n",
    "      <img src=\"https://lh3.googleusercontent.com/UiNooY4LUgW_oTvpsNhPpQzsstV5W8F7rYgxgGBD85cWJoLmrOzhVs_ksK_vgx40SHs7jCqkTkCk=e14-rj-sc0xffffff-h130-w32\" alt=\"Vertex AI logo\"><br> 在 Workbench 中打开\n",
    "    </a>\n",
    "  </td>\n",
    "  <td style=\"text-align: center\">\n",
    "    <a href=\"https://github.com/GoogleCloudPlatform/vertex-ai-samples/tree/main/notebooks/official/feature_store/vertex_ai_feature_store_iam_policy.ipynb\">\n",
    "      <img src=\"https://cloud.google.com/ml-engine/images/github-logo-32px.png\" alt=\"GitHub logo\"><br> 在 GitHub 上查看\n",
    "    </a>\n",
    "  </td>\n",
    "</table>"
   ]
  },
  {
   "cell_type": "markdown",
   "metadata": {
    "id": "tvgnzT1CKxrO"
   },
   "source": [
    "## 概述\n",
    "\n",
    "本教程演示了如何配置 IAM 策略来控制对 Vertex AI 特征存储中存储的资源和数据的访问。\n",
    "\n",
    "了解有关 [Vertex AI 特征存储](https://cloud.google.com/vertex-ai/docs/featurestore/overview) 的更多信息。\n",
    "\n",
    "执行的步骤包括：\n",
    "- 创建一个 BigQuery 数据集，并设置一个`FeatureView`来运行周期性同步作业。\n",
    "- 配置在线存储实例并设置在线服务。\n",
    "- 配置 IAM 策略以管理访问控制。"
   ]
  },
  {
   "cell_type": "markdown",
   "metadata": {
    "id": "61RBz8LLbxCR"
   },
   "source": [
    "## 开始使用"
   ]
  },
  {
   "cell_type": "markdown",
   "metadata": {
    "id": "No17Cw5hgx12"
   },
   "source": [
    "安装Vertex AI SDK和其他必需的包。"
   ]
  },
  {
   "cell_type": "code",
   "execution_count": null,
   "metadata": {
    "id": "tFy3H3aPgx12"
   },
   "outputs": [],
   "source": [
    "! pip3 install --upgrade --user --quiet google-cloud-aiplatform google-cloud-bigquery"
   ]
  },
  {
   "cell_type": "markdown",
   "metadata": {
    "id": "R5Xep4W9lq-Z"
   },
   "source": [
    "### 重新启动运行时（仅限 Colab）\n",
    "\n",
    "要使用新安装的软件包，您必须在 Google Colab 上重新启动运行时。"
   ]
  },
  {
   "cell_type": "code",
   "execution_count": null,
   "metadata": {
    "id": "XRvKdaPDTznN"
   },
   "outputs": [],
   "source": [
    "import sys\n",
    "\n",
    "if \"google.colab\" in sys.modules:\n",
    "\n",
    "    import IPython\n",
    "\n",
    "    app = IPython.Application.instance()\n",
    "    app.kernel.do_shutdown(True)"
   ]
  },
  {
   "cell_type": "markdown",
   "metadata": {
    "id": "SbmM4z7FOBpM"
   },
   "source": [
    "<div class=\"alert alert-block alert-warning\">\n",
    "<b>⚠️内核将重新启动。请等待直到完成再继续下一步。⚠️</b>\n",
    "</div>"
   ]
  },
  {
   "cell_type": "markdown",
   "metadata": {
    "id": "dmWOrTJ3gx13"
   },
   "source": [
    "### 在 Google Colab 上验证您的笔记本环境\n",
    "\n",
    "在 Google Colab 上验证您的环境。"
   ]
  },
  {
   "cell_type": "code",
   "execution_count": null,
   "metadata": {
    "id": "NyKGtVQjgx13"
   },
   "outputs": [],
   "source": [
    "import sys\n",
    "\n",
    "if \"google.colab\" in sys.modules:\n",
    "\n",
    "    from google.colab import auth\n",
    "\n",
    "    auth.authenticate_user()"
   ]
  },
  {
   "cell_type": "markdown",
   "metadata": {
    "id": "DF4l8DTdWgPY"
   },
   "source": [
    "### 设置Google Cloud项目信息并初始化Vertex AI SDK\n",
    "\n",
    "要开始使用Vertex AI，您必须拥有一个现有的Google Cloud项目并[启用Vertex AI API](https://console.cloud.google.com/flows/enableapi?apiid=aiplatform.googleapis.com)。了解更多关于[设置项目和开发环境](https://cloud.google.com/vertex-ai/docs/start/cloud-environment)的信息。"
   ]
  },
  {
   "cell_type": "code",
   "execution_count": null,
   "metadata": {
    "id": "Nqwi-5ufWp_B"
   },
   "outputs": [],
   "source": [
    "PROJECT_ID = \"[your-project-id]\"  # @param {type:\"string\"}\n",
    "LOCATION = \"us-central1\"  # @param {type:\"string\"}\n",
    "\n",
    "\n",
    "import vertexai\n",
    "\n",
    "vertexai.init(project=PROJECT_ID, location=LOCATION)"
   ]
  },
  {
   "cell_type": "markdown",
   "metadata": {
    "id": "EdvJRUWRNGHE"
   },
   "source": [
    "在Vertex AI特征存储中配置IAM策略"
   ]
  },
  {
   "cell_type": "code",
   "execution_count": null,
   "metadata": {
    "id": "GKnDEUulaLLy"
   },
   "outputs": [],
   "source": [
    "LOCATION_PARENT = \"projects/\" + PROJECT_ID + \"/locations/\" + LOCATION"
   ]
  },
  {
   "cell_type": "markdown",
   "metadata": {
    "id": "6vbsjb91aJ1V"
   },
   "source": [
    "配置必要的服务客户端：\n",
    "- [FeaturestoreServiceClient](https://cloud.google.com/python/docs/reference/aiplatform/latest/google.cloud.aiplatform_v1.services.featurestore_service.FeaturestoreServiceClient)\n",
    "- [FeatureOnlineStoreAdminServiceClient](https://cloud.google.com/python/docs/reference/aiplatform/latest/google.cloud.aiplatform_v1beta1.services.feature_online_store_admin_service.FeatureOnlineStoreAdminServiceClient)\n",
    "- [FeatureRegistryServiceClient](https://cloud.google.com/python/docs/reference/aiplatform/latest/google.cloud.aiplatform_v1beta1.services.feature_registry_service.FeatureRegistryServiceClient) \n",
    "\n",
    "配置必要的服务客户端：\n",
    "- [FeaturestoreServiceClient](https://cloud.google.com/python/docs/reference/aiplatform/latest/google.cloud.aiplatform_v1.services.featurestore_service.FeaturestoreServiceClient)\n",
    "- [FeatureOnlineStoreAdminServiceClient](https://cloud.google.com/python/docs/reference/aiplatform/latest/google.cloud.aiplatform_v1beta1.services.feature_online_store_admin_service.FeatureOnlineStoreAdminServiceClient)\n",
    "- [FeatureRegistryServiceClient](https://cloud.google.com/python/docs/reference/aiplatform/latest/google.cloud.aiplatform_v1beta1.services.feature_registry_service.FeatureRegistryServiceClient)"
   ]
  },
  {
   "cell_type": "code",
   "execution_count": null,
   "metadata": {
    "id": "zL8aOMAtaEUg"
   },
   "outputs": [],
   "source": [
    "from google.cloud.aiplatform_v1beta1 import (\n",
    "    FeatureOnlineStoreAdminServiceClient, FeatureOnlineStoreServiceClient,\n",
    "    FeatureRegistryServiceClient, FeaturestoreServiceClient)\n",
    "from google.cloud.aiplatform_v1beta1.types import \\\n",
    "    feature_online_store_service as feature_online_store_service_pb2\n",
    "from google.iam.v1 import iam_policy_pb2, policy_pb2\n",
    "\n",
    "ENDPOINT = LOCATION + \"-aiplatform.googleapis.com\"\n",
    "featurestore_service_client = FeaturestoreServiceClient(\n",
    "    client_options={\"api_endpoint\": ENDPOINT}\n",
    ")\n",
    "feature_online_store_admin_service_client = FeatureOnlineStoreAdminServiceClient(\n",
    "    client_options={\"api_endpoint\": ENDPOINT}\n",
    ")\n",
    "feature_registry_service_client = FeatureRegistryServiceClient(\n",
    "    client_options={\"api_endpoint\": ENDPOINT}\n",
    ")"
   ]
  },
  {
   "cell_type": "markdown",
   "metadata": {
    "id": "NkxyUncIaCca"
   },
   "source": [
    "生成此colab的示例数据。"
   ]
  },
  {
   "cell_type": "code",
   "execution_count": null,
   "metadata": {
    "id": "XWAHq1fcZKsJ"
   },
   "outputs": [],
   "source": [
    "DATASET_ID = \"test_data\"+\"_\"+LOCATION.replace('-', '_')  # @param {type:\"string\"}\n",
    "TABLE_ID = \"tableA\"  # @param {type:\"string\"}\n",
    "\n",
    "!bq mk --dataset_id={DATASET_ID} --location={LOCATION}\n",
    "!bq query --nouse_legacy_sql \\\n",
    "\"CREATE TABLE {DATASET_ID}.{TABLE_ID} AS (\" \\\n",
    "\"SELECT * FROM UNNEST(ARRAY<STRUCT<entity_id STRING, feature_timestamp TIMESTAMP, feature1 INT64, feature2 INT64>>[\" \\\n",
    "\"('test', TIMESTAMP('2024-02-26 08:00:00 UTC'), 10, 20),\" \\\n",
    "\"('test', TIMESTAMP('2024-02-27 08:00:00 UTC'), 30, 40),\" \\\n",
    "\"('test', TIMESTAMP('2024-02-28 08:00:00 UTC'), 50, 60)]))\""
   ]
  },
  {
   "cell_type": "markdown",
   "metadata": {
    "id": "ZCS7_Zr4ZL6y"
   },
   "source": [
    "创建 `FeatureOnlineStore` 和 `FeatureView` 资源"
   ]
  },
  {
   "cell_type": "markdown",
   "metadata": {
    "id": "3KH56EmWZJnp"
   },
   "source": [
    "提供一个 `FeatureOnlineStore` 实例。"
   ]
  },
  {
   "cell_type": "code",
   "execution_count": null,
   "metadata": {
    "id": "jrRqB3VpZF3C"
   },
   "outputs": [],
   "source": [
    "FEATURE_ONLINE_STORE_ID = \"test_feature_online_store\"\n",
    "\n",
    "feature_online_store_admin_service_client.create_feature_online_store(\n",
    "    {\n",
    "        \"parent\": LOCATION_PARENT,\n",
    "        \"feature_online_store_id\": FEATURE_ONLINE_STORE_ID,\n",
    "        \"feature_online_store\": {\n",
    "            \"bigtable\": {\n",
    "                \"auto_scaling\": {\n",
    "                    \"min_node_count\": 1,\n",
    "                    \"max_node_count\": 3,\n",
    "                    \"cpu_utilization_target\": 50,\n",
    "                }\n",
    "            }\n",
    "        },\n",
    "    }\n",
    ").result()"
   ]
  },
  {
   "cell_type": "markdown",
   "metadata": {
    "id": "QK6Q3tNHZFa8"
   },
   "source": [
    "将BigQuery中的离线存储配置为定期数据同步到`FeatureOnlineStore`实例。"
   ]
  },
  {
   "cell_type": "code",
   "execution_count": null,
   "metadata": {
    "id": "kKl7vb8fZDyu"
   },
   "outputs": [],
   "source": [
    "FEATURE_VIEW_ID = \"test_feature_view\"\n",
    "FEATURE_ONLINE_STORE_RESOURCE_ID = (\n",
    "    LOCATION_PARENT + \"/featureOnlineStores/\" + FEATURE_ONLINE_STORE_ID\n",
    ")\n",
    "FEATURE_VIEW_RESOURCE_ID = (\n",
    "    FEATURE_ONLINE_STORE_RESOURCE_ID + \"/featureViews/\" + FEATURE_VIEW_ID\n",
    ")\n",
    "create_feature_view_result = (\n",
    "    feature_online_store_admin_service_client.create_feature_view(\n",
    "        parent=FEATURE_ONLINE_STORE_RESOURCE_ID,\n",
    "        feature_view_id=FEATURE_VIEW_ID,\n",
    "        feature_view={\n",
    "            \"big_query_source\": {\n",
    "                \"uri\": f\"bq://{PROJECT_ID}.{DATASET_ID}.{TABLE_ID}\",\n",
    "                \"entity_id_columns\": [\"entity_id\"],\n",
    "            },\n",
    "            \"sync_config\": {\"cron\": \"0 12 * * *\"},\n",
    "        },\n",
    "    ).result()\n",
    ")"
   ]
  },
  {
   "cell_type": "markdown",
   "metadata": {
    "id": "BU1_rOgVZpNj"
   },
   "source": [
    "## 配置IAM策略"
   ]
  },
  {
   "cell_type": "markdown",
   "metadata": {
    "id": "79enQT97ZBBK"
   },
   "source": [
    "为功能在线商店配置IAM策略。"
   ]
  },
  {
   "cell_type": "code",
   "execution_count": null,
   "metadata": {
    "id": "ST1M5no-ZAgV"
   },
   "outputs": [],
   "source": [
    "# A specific user email or a group email can be used to add members to the IAM Policy.\n",
    "EXAMPLE_RESOURCE_VIEWER_EMAIL = (\n",
    "    \"google-cloud-eng-fte@google.com\"  # @param {type:\"string\"}\n",
    ")\n",
    "EXAMPLE_DATA_VIEWER_EMAIL = \"python-sample-owners@google.com\"  # @param {type:\"string\"}\n",
    "# A Service Account can also be added to the IAM Policy.\n",
    "EXAMPLE_ADMIN_SERVICE_ACCOUNT = \"samples@python-docs-samples-tests.iam.gserviceaccount.com\"  # @param {type:\"string\"}\n",
    "feature_online_store_admin_service_client.set_iam_policy(\n",
    "    request=iam_policy_pb2.SetIamPolicyRequest(\n",
    "        resource=FEATURE_ONLINE_STORE_RESOURCE_ID,\n",
    "        policy=policy_pb2.Policy(\n",
    "            bindings=[\n",
    "                policy_pb2.Binding(\n",
    "                    role=\"roles/aiplatform.featurestoreResourceViewer\",\n",
    "                    members=[f\"group:{EXAMPLE_RESOURCE_VIEWER_EMAIL}\"],\n",
    "                ),\n",
    "                policy_pb2.Binding(\n",
    "                    role=\"roles/aiplatform.featurestoreDataViewer\",\n",
    "                    members=[f\"group:{EXAMPLE_DATA_VIEWER_EMAIL}\"],\n",
    "                ),\n",
    "                policy_pb2.Binding(\n",
    "                    role=\"roles/aiplatform.admin\",\n",
    "                    members=[f\"serviceAccount:{EXAMPLE_ADMIN_SERVICE_ACCOUNT}\"],\n",
    "                ),\n",
    "            ]\n",
    "        ),\n",
    "    )\n",
    ")"
   ]
  },
  {
   "cell_type": "markdown",
   "metadata": {
    "id": "3ct-qQeaY-HQ"
   },
   "source": [
    "确认在线商店功能的更新IAM策略。"
   ]
  },
  {
   "cell_type": "code",
   "execution_count": null,
   "metadata": {
    "id": "nPkYu3D_Y9q1"
   },
   "outputs": [],
   "source": [
    "feature_online_store_admin_service_client.get_iam_policy(\n",
    "    request=iam_policy_pb2.GetIamPolicyRequest(\n",
    "        resource=FEATURE_ONLINE_STORE_RESOURCE_ID\n",
    "    )\n",
    ")"
   ]
  },
  {
   "cell_type": "markdown",
   "metadata": {
    "id": "gOldDbeVY6SK"
   },
   "source": [
    "为一个功能视图配置IAM策略。"
   ]
  },
  {
   "cell_type": "code",
   "execution_count": null,
   "metadata": {
    "id": "IuMXMJQjY32o"
   },
   "outputs": [],
   "source": [
    "# A specific user email or a group email can be used to add members to the IAM Policy.\n",
    "EXAMPLE_RESOURCE_VIEWER_EMAIL = (\n",
    "    \"google-cloud-eng-fte@google.com\"  # @param {type:\"string\"}\n",
    ")\n",
    "EXAMPLE_DATA_VIEWER_EMAIL = \"python-sample-owners@google.com\"  # @param {type:\"string\"}\n",
    "# A Service Account can also be added to the IAM Policy.\n",
    "EXAMPLE_ADMIN_SERVICE_ACCOUNT = \"samples@python-docs-samples-tests.iam.gserviceaccount.com\"  # @param {type:\"string\"}\n",
    "feature_online_store_admin_service_client.set_iam_policy(\n",
    "    request=iam_policy_pb2.SetIamPolicyRequest(\n",
    "        resource=FEATURE_VIEW_RESOURCE_ID,\n",
    "        policy=policy_pb2.Policy(\n",
    "            bindings=[\n",
    "                policy_pb2.Binding(\n",
    "                    role=\"roles/aiplatform.featurestoreResourceViewer\",\n",
    "                    members=[f\"group:{EXAMPLE_RESOURCE_VIEWER_EMAIL}\"],\n",
    "                ),\n",
    "                policy_pb2.Binding(\n",
    "                    role=\"roles/aiplatform.featurestoreDataViewer\",\n",
    "                    members=[f\"group:{EXAMPLE_DATA_VIEWER_EMAIL}\"],\n",
    "                ),\n",
    "                policy_pb2.Binding(\n",
    "                    role=\"roles/aiplatform.admin\",\n",
    "                    members=[f\"serviceAccount:{EXAMPLE_ADMIN_SERVICE_ACCOUNT}\"],\n",
    "                ),\n",
    "            ]\n",
    "        ),\n",
    "    )\n",
    ")"
   ]
  },
  {
   "cell_type": "markdown",
   "metadata": {
    "id": "IdDAiz6TEWMI"
   },
   "source": [
    "请等一段时间，让新添加的IAM策略绑定生效。\n",
    "\n",
    "* 注意：策略更改通常需要2分钟，因此这种延迟可能会缩短。有关更多详情，请查看IAM文档。"
   ]
  },
  {
   "cell_type": "code",
   "execution_count": null,
   "metadata": {
    "id": "yGeqDWFgEX3s"
   },
   "outputs": [],
   "source": [
    "# Wait 10 minutes for the newly updated IAM policy binding to become effective.\n",
    "from time import sleep\n",
    "\n",
    "sleep(600)"
   ]
  },
  {
   "cell_type": "markdown",
   "metadata": {
    "id": "RVhAFV0MY3Ko"
   },
   "source": [
    "确认更新后的IAM策略。"
   ]
  },
  {
   "cell_type": "code",
   "execution_count": null,
   "metadata": {
    "id": "awfeS9z5Y0sy"
   },
   "outputs": [],
   "source": [
    "feature_online_store_admin_service_client.get_iam_policy(\n",
    "    request=iam_policy_pb2.GetIamPolicyRequest(resource=FEATURE_VIEW_RESOURCE_ID)\n",
    ")"
   ]
  },
  {
   "cell_type": "markdown",
   "metadata": {
    "id": "t6A7fWzlY0Pc"
   },
   "source": [
    "根据需求运行批量同步。"
   ]
  },
  {
   "cell_type": "code",
   "execution_count": null,
   "metadata": {
    "id": "YLJUPFPmYsa3"
   },
   "outputs": [],
   "source": [
    "sync_response = feature_online_store_admin_service_client.sync_feature_view(\n",
    "    feature_view=f\"projects/{PROJECT_ID}/locations/{LOCATION}/featureOnlineStores/{FEATURE_ONLINE_STORE_ID}/featureViews/{FEATURE_VIEW_ID}\"\n",
    ")\n",
    "\n",
    "# Wait for sync completion\n",
    "while True:\n",
    "    feature_view_sync = feature_online_store_admin_service_client.get_feature_view_sync(\n",
    "        name=sync_response.feature_view_sync\n",
    "    )\n",
    "    if feature_view_sync.run_time.end_time.seconds > 0:\n",
    "        status = \"Succeed\" if feature_view_sync.final_status.code == 0 else \"Failed\"\n",
    "        print(f\"Sync {status} for {feature_view_sync.name}.\")\n",
    "        break\n",
    "    else:\n",
    "        print(\"Sync ongoing, waiting for 30 seconds.\")\n",
    "    sleep(30)"
   ]
  },
  {
   "cell_type": "markdown",
   "metadata": {
    "id": "-k4qNUFcrYzC"
   },
   "source": [
    "确认批量同步的状态。"
   ]
  },
  {
   "cell_type": "code",
   "execution_count": null,
   "metadata": {
    "id": "6mnM08ZLrT8f"
   },
   "outputs": [],
   "source": [
    "feature_online_store_admin_service_client.get_feature_view_sync(\n",
    "    name=sync_response.feature_view_sync\n",
    ")"
   ]
  },
  {
   "cell_type": "markdown",
   "metadata": {
    "id": "z-PuxGYDYph2"
   },
   "source": [
    "开始在线服务"
   ]
  },
  {
   "cell_type": "markdown",
   "metadata": {
    "id": "uyZrlw9pMGze"
   },
   "source": [
    "数据同步完成后，请使用`FetchFeatureValues` API来检索数据。"
   ]
  },
  {
   "cell_type": "code",
   "execution_count": null,
   "metadata": {
    "id": "PmOPvky1Ylbv"
   },
   "outputs": [],
   "source": [
    "data_client = FeatureOnlineStoreServiceClient(client_options={\"api_endpoint\": ENDPOINT})"
   ]
  },
  {
   "cell_type": "markdown",
   "metadata": {
    "id": "27e6iqlTMNDv"
   },
   "source": [
    "从特色在线商店中读取同步的数据。"
   ]
  },
  {
   "cell_type": "code",
   "execution_count": null,
   "metadata": {
    "id": "1m4OpNPsMMqP"
   },
   "outputs": [],
   "source": [
    "data_client.fetch_feature_values(\n",
    "    request=feature_online_store_service_pb2.FetchFeatureValuesRequest(\n",
    "        feature_view=FEATURE_VIEW_RESOURCE_ID,\n",
    "        data_key=feature_online_store_service_pb2.FeatureViewDataKey(key=\"test\"),\n",
    "    )\n",
    ")"
   ]
  },
  {
   "cell_type": "markdown",
   "metadata": {
    "id": "2a4e033321ad"
   },
   "source": [
    "清理工作\n",
    "\n",
    "要清理本项目中使用的所有谷歌云资源，您可以删除用于本教程的[谷歌云项目](https://cloud.google.com/resource-manager/docs/creating-managing-projects#shutting_down_projects)。\n",
    "\n",
    "否则，您可以删除在本教程中创建的集群。"
   ]
  },
  {
   "cell_type": "code",
   "execution_count": null,
   "metadata": {
    "id": "aqLqumA9YeBh"
   },
   "outputs": [],
   "source": [
    "# Delete feature view\n",
    "feature_online_store_admin_service_client.delete_feature_view(\n",
    "    name=FEATURE_VIEW_RESOURCE_ID\n",
    ")\n",
    "\n",
    "# Delete online store\n",
    "feature_online_store_admin_service_client.delete_feature_online_store(\n",
    "    name=FEATURE_ONLINE_STORE_RESOURCE_ID\n",
    ")\n",
    "\n",
    "# Delete test data\n",
    "!bq rm -f {DATASET_ID}.{TABLE_ID}"
   ]
  }
 ],
 "metadata": {
  "colab": {
   "name": "vertex_ai_feature_store_iam_policy.ipynb",
   "toc_visible": true
  },
  "kernelspec": {
   "display_name": "Python 3",
   "name": "python3"
  }
 },
 "nbformat": 4,
 "nbformat_minor": 0
}
