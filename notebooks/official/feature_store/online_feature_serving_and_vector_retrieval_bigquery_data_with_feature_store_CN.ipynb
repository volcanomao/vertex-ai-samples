{
 "cells": [
  {
   "cell_type": "code",
   "execution_count": null,
   "metadata": {
    "cellView": "form",
    "id": "8EcdxqUnftBL"
   },
   "outputs": [],
   "source": [
    "# Copyright 2023 Google LLC\n",
    "#\n",
    "# Licensed under the Apache License, Version 2.0 (the \"License\");\n",
    "# you may not use this file except in compliance with the License.\n",
    "# You may obtain a copy of the License at\n",
    "#\n",
    "#     https://www.apache.org/licenses/LICENSE-2.0\n",
    "#\n",
    "# Unless required by applicable law or agreed to in writing, software\n",
    "# distributed under the License is distributed on an \"AS IS\" BASIS,\n",
    "# WITHOUT WARRANTIES OR CONDITIONS OF ANY KIND, either express or implied.\n",
    "# See the License for the specific language governing permissions and\n",
    "# limitations under the License."
   ]
  },
  {
   "cell_type": "markdown",
   "metadata": {
    "id": "rbTKH4_6f1ux"
   },
   "source": [
    "# 使用 Vertex AI Feature Store 在线特征服务和向量检索 BigQuery 数据\n",
    "\n",
    "\n",
    "<table align=\"left\">\n",
    "\n",
    "  <td style=\"text-align: center\">\n",
    "    <a href=\"https://colab.research.google.com/github/GoogleCloudPlatform/vertex-ai-samples/blob/main/notebooks/official/feature_store/online_feature_serving_and_vector_retrieval_bigquery_data_with_feature_store.ipynb\">\n",
    "      <img src=\"https://cloud.google.com/ml-engine/images/colab-logo-32px.png\" alt=\"Google Colaboratory logo\"><br> 在 Colab 中打开\n",
    "    </a>\n",
    "  </td>\n",
    "  <td style=\"text-align: center\">\n",
    "    <a href=\"https://console.cloud.google.com/vertex-ai/colab/import/https:%2F%2Fgithub.com%2FGoogleCloudPlatform%2Fvertex-ai-samples%2Fblob%2Fmain%2Fnotebooks%2Fofficial%2Ffeature_store%2Fonline_feature_serving_and_vector_retrieval_bigquery_data_with_feature_store.ipynb\">\n",
    "      <img width=\"32px\" src=\"https://cloud.google.com/ml-engine/images/colab-enterprise-logo-32px.png\" alt=\"Google Cloud Colab Enterprise logo\"><br> 在 Colab Enterprise 中打开\n",
    "    </a>\n",
    "  </td>  \n",
    "  <td style=\"text-align: center\">\n",
    "    <a href=\"https://console.cloud.google.com/vertex-ai/workbench/deploy-notebook?download_url=https://raw.githubusercontent.com/GoogleCloudPlatform/vertex-ai-samples/main/notebooks/official/feature_store/online_feature_serving_and_vector_retrieval_bigquery_data_with_feature_store.ipynb\">\n",
    "      <img src=\"https://lh3.googleusercontent.com/UiNooY4LUgW_oTvpsNhPpQzsstV5W8F7rYgxgGBD85cWJoLmrOzhVs_ksK_vgx40SHs7jCqkTkCk=e14-rj-sc0xffffff-h130-w32\" alt=\"Vertex AI logo\"><br> 在 Workbench 中打开\n",
    "    </a>\n",
    "  </td> \n",
    "  <td style=\"text-align: center\">\n",
    "    <a href=\"https://github.com/GoogleCloudPlatform/vertex-ai-samples/blob/main/notebooks/official/feature_store/online_feature_serving_and_vector_retrieval_bigquery_data_with_feature_store.ipynb\">\n",
    "      <img src=\"https://cloud.google.com/ml-engine/images/github-logo-32px.png\" alt=\"GitHub logo\"><br> 在 GitHub 上查看\n",
    "    </a>\n",
    "  </td>                                                                                              \n",
    "</table>"
   ]
  },
  {
   "cell_type": "markdown",
   "metadata": {
    "id": "WWNCLbZZ6MLi"
   },
   "source": [
    "## 概述\n",
    "\n",
    "本教程演示了如何在BigQuery中使用Vertex AI Feature Store进行在线服务和特征值的向量检索。\n",
    "\n",
    "了解更多关于[Vertex AI Feature Store](https://cloud.google.com/vertex-ai/docs/featurestore/overview)。"
   ]
  },
  {
   "cell_type": "markdown",
   "metadata": {
    "id": "CBeo3dIqJVDd"
   },
   "source": [
    "### 目标\n",
    "\n",
    "在本教程中，您将学习如何使用在线特征存储实例在BigQuery中托管和提供数据，在端到端的特征提供和向量检索用户旅程中使用Vertex AI Feature Store。\n",
    "\n",
    "本教程使用以下Google Cloud ML服务和资源：\n",
    "\n",
    "- Vertex AI Feature Store\n",
    "\n",
    "执行的步骤包括：\n",
    "\n",
    "- 配置一个在线特征存储实例来托管和提供数据。\n",
    "- 创建一个在线特征存储实例来提供一个BigQuery表。\n",
    "- 使用在线服务器搜索最近的邻居。"
   ]
  },
  {
   "cell_type": "markdown",
   "metadata": {
    "id": "H1t0xA5XB_3n"
   },
   "source": [
    "###注意\n",
    "这是一个公开的预览版本。通过使用该功能，您确认已了解存在的问题，并且该预览版本是根据预发布的服务条款提供的“原样”状态。"
   ]
  },
  {
   "cell_type": "markdown",
   "metadata": {
    "id": "SbCa7Pcpqgaz"
   },
   "source": [
    "数据集\n",
    "\n",
    "本教程使用了来自BigQuery公共数据集的[Google专利公开数据](https://console.cloud.google.com/marketplace/product/google_patents_public_datasets/google-patents-public-data)数据集。"
   ]
  },
  {
   "cell_type": "markdown",
   "metadata": {
    "id": "nrggkyCUrhZM"
   },
   "source": [
    "成本\n",
    "\n",
    "本教程使用Google Cloud的可计费组件：\n",
    "\n",
    "* Vertex AI\n",
    "* BigQuery\n",
    "\n",
    "了解[Vertex AI定价](https://cloud.google.com/vertex-ai/pricing) 和\n",
    "[BigQuery定价](https://cloud.google.com/bigquery/pricing)\n",
    "并使用[定价计算器](https://cloud.google.com/products/calculator/)\n",
    "基于您的预期使用量生成成本估算。"
   ]
  },
  {
   "cell_type": "markdown",
   "metadata": {
    "id": "7cc240e9c1a6"
   },
   "source": [
    "开始吧"
   ]
  },
  {
   "cell_type": "markdown",
   "metadata": {
    "id": "yTJiDCrYsOmT"
   },
   "source": [
    "### 为 Python 安装 Vertex AI SDK 和其他所需的软件包"
   ]
  },
  {
   "cell_type": "code",
   "execution_count": null,
   "metadata": {
    "id": "GAqbE5Z2sTVM"
   },
   "outputs": [],
   "source": [
    "# Install the packages\n",
    "! pip3 install --upgrade --quiet google-cloud-aiplatform\\\n",
    "                                 google-cloud-bigquery\\\n",
    "                                 db-dtypes"
   ]
  },
  {
   "cell_type": "markdown",
   "metadata": {
    "id": "np60_uuCs7X5"
   },
   "source": [
    "### 重新启动运行时（仅限Colab）\n",
    "\n",
    "为了使用新安装的软件包，您必须在Google Colab上重新启动运行时。"
   ]
  },
  {
   "cell_type": "code",
   "execution_count": null,
   "metadata": {
    "id": "_u0aEgaSs-3v"
   },
   "outputs": [],
   "source": [
    "import sys\n",
    "\n",
    "if \"google.colab\" in sys.modules:\n",
    "\n",
    "    import IPython\n",
    "\n",
    "    app = IPython.Application.instance()\n",
    "    app.kernel.do_shutdown(True)"
   ]
  },
  {
   "cell_type": "markdown",
   "metadata": {
    "id": "e669f8088ac3"
   },
   "source": [
    "<div class=\"alert alert-block alert-warning\">\n",
    "<b>⚠️ 内核即将重新启动，请等待它完成后再继续进行下一步。⚠️</b>\n",
    "</div>"
   ]
  },
  {
   "cell_type": "markdown",
   "metadata": {
    "id": "5dccb1c8feb6"
   },
   "source": [
    "### 在Google Colab上验证您的笔记本环境\n",
    "\n",
    "在Google Colab上验证您的环境。"
   ]
  },
  {
   "cell_type": "code",
   "execution_count": null,
   "metadata": {
    "id": "cc7251520a07"
   },
   "outputs": [],
   "source": [
    "import sys\n",
    "\n",
    "if \"google.colab\" in sys.modules:\n",
    "\n",
    "    from google.colab import auth\n",
    "\n",
    "    auth.authenticate_user()"
   ]
  },
  {
   "cell_type": "markdown",
   "metadata": {
    "id": "60763ee24ce0"
   },
   "source": [
    "### 设置谷歌云项目信息并为 Python 初始化 Vertex AI SDK\n",
    "\n",
    "要开始使用 Vertex AI，您必须拥有一个现有的谷歌云项目并启用 [Vertex AI API](https://console.cloud.google.com/flows/enableapi?apiid=aiplatform.googleapis.com)。了解更多关于 [设置项目和开发环境](https://cloud.google.com/vertex-ai/docs/start/cloud-environment) 的信息。"
   ]
  },
  {
   "cell_type": "code",
   "execution_count": null,
   "metadata": {
    "id": "t5cutPRQtQ7m"
   },
   "outputs": [],
   "source": [
    "PROJECT_ID = \"[your-project-id]\"  # @param {type:\"string\"}\n",
    "LOCATION = \"us-central1\"  # @param {type: \"string\"}\n",
    "\n",
    "from google.cloud import aiplatform\n",
    "\n",
    "aiplatform.init(project=PROJECT_ID, location=LOCATION)\n",
    "\n",
    "API_ENDPOINT = f\"{LOCATION}-aiplatform.googleapis.com\""
   ]
  },
  {
   "cell_type": "markdown",
   "metadata": {
    "id": "OMCl0avIusKl"
   },
   "source": [
    "### 导入库"
   ]
  },
  {
   "cell_type": "code",
   "execution_count": null,
   "metadata": {
    "id": "ifbIQuN1uz2r"
   },
   "outputs": [],
   "source": [
    "from google.cloud import bigquery\n",
    "from google.cloud.aiplatform_v1.types import NearestNeighborQuery\n",
    "from vertexai.resources.preview import (FeatureOnlineStore, FeatureView,\n",
    "                                        FeatureViewBigQuerySource)\n",
    "from vertexai.resources.preview.feature_store import utils"
   ]
  },
  {
   "cell_type": "markdown",
   "metadata": {
    "id": "szHWlytYTA0I"
   },
   "source": [
    "## 在BigQuery中设置数据源\n",
    "\n",
    "### 要求\n",
    "数据源必须是一个BigQuery表或BigQuery视图，具有以下列要求：\n",
    "1. [*必需*] 一个实体id列，类型：字符串\n",
    "2. [*必需*] 一个嵌入列，类型：double数组\n",
    "3. [*可选*] 一个或多个过滤列，类型：字符串或字符串数组\n",
    "4. [*可选*] 一个拥挤列，类型：整数。拥挤确保结果是多样化的，通过仅返回最多k' < k个具有任何单个拥挤属性的邻居来实现对k个总邻居的限制。"
   ]
  },
  {
   "cell_type": "markdown",
   "metadata": {
    "id": "E2i4ZmnrT1lf"
   },
   "source": [
    "### 测试数据源\n",
    "\n",
    "从`patents-public-data.google_patents_research.publications_202304`表中选择一个子集，并排除不兼容 Feature Store 的重复记录类型的列：\n",
    "\n",
    "为了演示目的创建一个小数据集（<=100MB），如果需要可以使用完整数据集。"
   ]
  },
  {
   "cell_type": "code",
   "execution_count": null,
   "metadata": {
    "id": "IYD5pBRL2fvX"
   },
   "outputs": [],
   "source": [
    "FEATURE_EXTRACT_QUERY_FULL = \"\"\"\n",
    "SELECT publication_number, embedding_v1 as embedding, url, country, publication_description,\n",
    "cpc_low, cpc_inventive_low, top_terms, title, CAST(title_translated as INT) as title_translated,\n",
    "abstract, CAST(abstract_translated as INT) as abstract_translated,\n",
    "cited_by[safe_offset(0)].filing_date as cited_by_filing_date,\n",
    "similar[safe_offset(0)].filing_date as similar_filing_date\n",
    "FROM `patents-public-data.google_patents_research.publications_202304`\n",
    "\"\"\"\n",
    "FEATURE_EXTRACT_QUERY_SMALL = f\"{FEATURE_EXTRACT_QUERY_FULL} WHERE cited_by[safe_offset(0)].filing_date is not NULL LIMIT 1000\""
   ]
  },
  {
   "cell_type": "markdown",
   "metadata": {
    "id": "ZVec1FjhpwP6"
   },
   "source": [
    "这个数据源有一些筛选列（例如，国家）和拥挤列（例如，按引用填写日期）。以下是我们在本指南中使用的出版物数据表的架构：\n",
    "\n",
    "|列名 | 类型 | 模式 |\n",
    "|------------|--------|----------|\n",
    "|publication_number | STRING | NULLABLE\n",
    "|embedding | FLOAT | REPEATED\n",
    "|url | STRING | NULLABLE\n",
    "|country | STRING | NULLABLE |\n",
    "|publication_description | STRING | NULLABLE |\n",
    "|cpc_low | STRING | REPEATED |\n",
    "|cpc_inventive_low | STRING | REPEATED |\n",
    "|top_terms | STRING | REPEATED |\n",
    "|title | STRING | NULLABLE |\n",
    "|title_translated | INTEGER | NULLABLE |\n",
    "|abstract | STRING | NULLABLE |\n",
    "|abstract_translated | INTEGER | NULLABLE |\n",
    "|cited_by_filing_date | INTEGER | NULLABLE |\n",
    "|similar_filing_date | INTEGER | NULLABLE |"
   ]
  },
  {
   "cell_type": "markdown",
   "metadata": {
    "id": "tZIsNo40p2Ns"
   },
   "source": [
    "查看检索到的数据。"
   ]
  },
  {
   "cell_type": "code",
   "execution_count": null,
   "metadata": {
    "id": "Qhp2A2wCpwrQ"
   },
   "outputs": [],
   "source": [
    "bq_client = bigquery.Client(project=PROJECT_ID)\n",
    "\n",
    "product_data = bq_client.query(FEATURE_EXTRACT_QUERY_SMALL).result().to_dataframe()\n",
    "\n",
    "print(product_data.shape)\n",
    "product_data.head()"
   ]
  },
  {
   "cell_type": "markdown",
   "metadata": {
    "id": "7CspnYk2GyDV"
   },
   "source": [
    "### 创建 BigQuery 数据集\n",
    "\n",
    "创建一个 BigQuery 数据集来保存本教程所需的 BigQuery 表。数据集必须与您的在线商店实例所在的地区相同。由于本教程的源数据位于 `美国` 地区，您可以将数据集复制到所需的地区。如果您使用自己的数据和数据集，也可以使用该数据集来创建 BigQuery 表。"
   ]
  },
  {
   "cell_type": "code",
   "execution_count": null,
   "metadata": {
    "id": "0-2pb-NUGzMI"
   },
   "outputs": [],
   "source": [
    "def create_bq_dataset(datasetId, region):\n",
    "    dataset = bigquery.Dataset(f\"{PROJECT_ID}.{datasetId}\")\n",
    "    dataset.location = region\n",
    "    dataset = bq_client.create_dataset(\n",
    "        dataset, exists_ok=True, timeout=30\n",
    "    )  # Make an API request.\n",
    "\n",
    "    # Confirm dataset created.\n",
    "    print(f\"Created dataset {dataset} in region {region}\")"
   ]
  },
  {
   "cell_type": "code",
   "execution_count": null,
   "metadata": {
    "id": "41b9122c8fda"
   },
   "outputs": [],
   "source": [
    "# First, create a dataset to keep the feature store source data if it doesn't already exist.\n",
    "BQ_DATASET_ID = \"featurestore_demo_us\"  # @param {type:\"string\"}\n",
    "create_bq_dataset(BQ_DATASET_ID, \"US\")"
   ]
  },
  {
   "cell_type": "markdown",
   "metadata": {
    "id": "1KSrpN_LG1ia"
   },
   "source": [
    "创建一个BigQuery表"
   ]
  },
  {
   "cell_type": "code",
   "execution_count": null,
   "metadata": {
    "id": "JXP2ZaFAG18W"
   },
   "outputs": [],
   "source": [
    "# Second, execute the query and store the results into a table\n",
    "BQ_TABLE_ID = \"publications_202304_small\"  # @param {type:\"string\"}\n",
    "BQ_TABLE_ID_FQN = f\"{PROJECT_ID}.{BQ_DATASET_ID}.{BQ_TABLE_ID}\"\n",
    "\n",
    "job_config = bigquery.QueryJobConfig(destination=BQ_TABLE_ID_FQN)\n",
    "query_job = bq_client.query(FEATURE_EXTRACT_QUERY_SMALL, job_config=job_config)\n",
    "\n",
    "try:\n",
    "    query_job.result()\n",
    "except Exception as e:\n",
    "    # Table already exists\n",
    "    print(\"Error: \", e.message)\n",
    "\n",
    "print(f\"Created table: {BQ_TABLE_ID}\")\n",
    "DATA_SOURCE = f\"bq://{BQ_TABLE_ID_FQN}\""
   ]
  },
  {
   "cell_type": "markdown",
   "metadata": {
    "id": "AYzwb095DJTl"
   },
   "source": [
    "## 设置并启动在线服务\n",
    "\n",
    "为了在特征存储中提供嵌入式数据，您需要执行以下操作：\n",
    "\n",
    "1. 创建一个在线存储集群来托管数据。\n",
    "2. 定义要由新创建的实例提供的数据（FeatureView）。"
   ]
  },
  {
   "cell_type": "markdown",
   "metadata": {
    "id": "43CSdWFTTn-_"
   },
   "source": [
    "### 创建功能在线商店\n",
    "\n",
    "创建一个经过优化的功能在线商店。长时间运行 (LRO) 完成后，结果将被显示。\n",
    "\n",
    "> **注意：** 这个操作可能需要长达 10 分钟的时间才能完成。"
   ]
  },
  {
   "cell_type": "code",
   "execution_count": null,
   "metadata": {
    "id": "e544c2eb906f"
   },
   "outputs": [],
   "source": [
    "FEATURE_ONLINE_STORE_ID = \"my_feature_online_store_unique\"  # @param {type: \"string\"}"
   ]
  },
  {
   "cell_type": "code",
   "execution_count": null,
   "metadata": {
    "id": "uoCExlfzfjNE"
   },
   "outputs": [],
   "source": [
    "my_fos = FeatureOnlineStore.create_optimized_store(FEATURE_ONLINE_STORE_ID)"
   ]
  },
  {
   "cell_type": "code",
   "execution_count": null,
   "metadata": {
    "id": "7240bcafef77"
   },
   "outputs": [],
   "source": [
    "# get full information of the created feature online store instance\n",
    "my_fos.gca_resource"
   ]
  },
  {
   "cell_type": "markdown",
   "metadata": {
    "id": "ldCMH-IOOx-G"
   },
   "source": [
    "验证 `FeatureOnlineStore` 实例是否已创建，方法是获取在线商店实例。"
   ]
  },
  {
   "cell_type": "code",
   "execution_count": null,
   "metadata": {
    "id": "D3dZEtXKIqXT"
   },
   "outputs": [],
   "source": [
    "# Use get to verify the store is created.\n",
    "FeatureOnlineStore(FEATURE_ONLINE_STORE_ID).gca_resource"
   ]
  },
  {
   "cell_type": "markdown",
   "metadata": {
    "id": "2vIjCzCwIGMF"
   },
   "source": [
    "列出此地区所有的在线商店"
   ]
  },
  {
   "cell_type": "code",
   "execution_count": null,
   "metadata": {
    "id": "rk8JseF4ICur"
   },
   "outputs": [],
   "source": [
    "# Use list to verify the store is created.\n",
    "all_foss = FeatureOnlineStore.list()\n",
    "for fos in all_foss:\n",
    "    print(fos.gca_resource)"
   ]
  },
  {
   "cell_type": "markdown",
   "metadata": {
    "id": "cf0f5b6c204c"
   },
   "source": [
    "#### 可选：使用在当地创建的在线商店"
   ]
  },
  {
   "cell_type": "code",
   "execution_count": null,
   "metadata": {
    "id": "3d01ba11e964"
   },
   "outputs": [],
   "source": [
    "# another_fos = FeatureOnlineStore(\"an_existing_feature_online_store\")  # @param {type: \"string\"}"
   ]
  },
  {
   "cell_type": "markdown",
   "metadata": {
    "id": "7QZnKMo41ud5"
   },
   "source": [
    "创建特征视图实例\n",
    "\n",
    "在创建`FeatureOnlineStore`实例之后，您可以定义要使用的特征。要做到这一点，创建一个`FeatureView`实例，其中指定以下内容：\n",
    "\n",
    "* 一个数据源（BigQuery表或视图URI或FeatureGroup/features）同步到用于提供服务的`FeatureOnlineStore`实例。\n",
    "* 运行同步流水线的cron计划。\n",
    "\n",
    "在特征视图创建过程中，会安排一个同步作业，可以立即启动或按照cron计划启动。在同步作业中，数据将被导出，索引被构建，并部署到特征存储后端。"
   ]
  },
  {
   "cell_type": "code",
   "execution_count": null,
   "metadata": {
    "id": "Y9EfVmeu5KBu"
   },
   "outputs": [],
   "source": [
    "FEATURE_VIEW_ID = \"feature_view_publications\"  # @param {type: \"string\"}\n",
    "# A schedule is created based on cron setting.\n",
    "CRON_SCHEDULE = \"TZ=America/Los_Angeles 00 13 11 8 *\"  # @param {type: \"string\"}"
   ]
  },
  {
   "cell_type": "code",
   "execution_count": null,
   "metadata": {
    "id": "8VQ4P2om6SNQ"
   },
   "outputs": [],
   "source": [
    "# Index configs\n",
    "DIMENSIONS = 64  # @param {type: \"number\"}\n",
    "EMBEDDING_COLUMN = \"embedding\"  # @param {type: \"string\"}\n",
    "# Optional\n",
    "LEAF_NODE_EMBEDDING_COUNT = 10000  # @param {type: \"number\"}\n",
    "# Optional\n",
    "CROWDING_COLUMN = \"cited_by_filing_date\"  # @param {type: \"string\"}\n",
    "# Optional\n",
    "FILTER_COLUMNS = [\"country\"]  # @param"
   ]
  },
  {
   "cell_type": "code",
   "execution_count": null,
   "metadata": {
    "id": "AKdSax3N1ypm"
   },
   "outputs": [],
   "source": [
    "big_query_source = FeatureViewBigQuerySource(\n",
    "    uri=DATA_SOURCE, entity_id_columns=[\"publication_number\"]\n",
    ")\n",
    "\n",
    "index_config = utils.IndexConfig(\n",
    "    embedding_column=EMBEDDING_COLUMN,\n",
    "    dimensions=DIMENSIONS,\n",
    "    crowding_column=CROWDING_COLUMN,\n",
    "    filter_columns=FILTER_COLUMNS,\n",
    "    algorithm_config=utils.TreeAhConfig(),\n",
    ")\n",
    "\n",
    "print(f\"index_config: {index_config}\")\n",
    "\n",
    "my_fv = my_fos.create_feature_view(\n",
    "    FEATURE_VIEW_ID,\n",
    "    source=big_query_source,\n",
    "    sync_config=CRON_SCHEDULE,  # Optional, can be set to None.\n",
    "    index_config=index_config,\n",
    ")"
   ]
  },
  {
   "cell_type": "code",
   "execution_count": null,
   "metadata": {
    "id": "a10cd8e6061a"
   },
   "outputs": [],
   "source": [
    "# get full information of the created feature view\n",
    "my_fv.gca_resource"
   ]
  },
  {
   "cell_type": "markdown",
   "metadata": {
    "id": "mmYQZroEO7dp"
   },
   "source": [
    "### 验证特征视图实例创建\n",
    "\n",
    "通过获取特征视图来验证`FeatureView`实例是否已创建。"
   ]
  },
  {
   "cell_type": "code",
   "execution_count": null,
   "metadata": {
    "id": "PaqTIYuwPFC7"
   },
   "outputs": [],
   "source": [
    "FeatureView(\n",
    "    FEATURE_VIEW_ID, feature_online_store_id=FEATURE_ONLINE_STORE_ID\n",
    ").gca_resource"
   ]
  },
  {
   "cell_type": "markdown",
   "metadata": {
    "id": "sqpu4nHAO4pW"
   },
   "source": [
    "验证 `FeatureView` 实例是否被创建，方法是列出在线商店中所有的特色视图。"
   ]
  },
  {
   "cell_type": "code",
   "execution_count": null,
   "metadata": {
    "id": "O_tv0Z3BPHW4"
   },
   "outputs": [],
   "source": [
    "all_fvs = FeatureView.list(feature_online_store_id=FEATURE_ONLINE_STORE_ID)\n",
    "for fv in all_fvs:\n",
    "    print(fv.gca_resource)"
   ]
  },
  {
   "cell_type": "markdown",
   "metadata": {
    "id": "KZglLt0iuVs0"
   },
   "source": [
    "### 特征视图同步\n",
    "\n",
    "同步流水线根据`FeatureView`实例中指定的时间表执行。\n",
    "\n",
    "要跳过等待并立即执行同步流水线，请手动启动同步。"
   ]
  },
  {
   "cell_type": "code",
   "execution_count": null,
   "metadata": {
    "id": "G-j5B6InuNfW"
   },
   "outputs": [],
   "source": [
    "sync_response = my_fv.sync()"
   ]
  },
  {
   "cell_type": "markdown",
   "metadata": {
    "id": "GqyYqYplMUjZ"
   },
   "source": [
    "`sync_response` 包含了同步作业的 ID。\n",
    "\n",
    "#### 使用 `get_feature_view_sync` 来检查作业的状态。"
   ]
  },
  {
   "cell_type": "code",
   "execution_count": null,
   "metadata": {
    "id": "_kl8ZBAR2o0b"
   },
   "outputs": [],
   "source": [
    "import time\n",
    "\n",
    "while True:\n",
    "    feature_view_sync = my_fv.get_sync(\n",
    "        sync_response.resource_name.split(\"/\")[9]\n",
    "    ).gca_resource\n",
    "    if feature_view_sync.run_time.end_time.seconds > 0:\n",
    "        status = \"Succeed\" if feature_view_sync.final_status.code == 0 else \"Failed\"\n",
    "        print(f\"Sync {status} for {feature_view_sync.name}. \\n {feature_view_sync}\")\n",
    "        # wait a little more for the job to properly shutdown\n",
    "        time.sleep(30)\n",
    "        break\n",
    "    else:\n",
    "        print(\"Sync ongoing, waiting for 30 seconds.\")\n",
    "    time.sleep(30)"
   ]
  },
  {
   "cell_type": "markdown",
   "metadata": {
    "id": "-3XHiHnAIJGj"
   },
   "source": [
    "使用`list_feature_view_syncs`查看所有您的同步。"
   ]
  },
  {
   "cell_type": "code",
   "execution_count": null,
   "metadata": {
    "id": "3CU67MyLIOAk"
   },
   "outputs": [],
   "source": [
    "fv_syncs = fv.list_syncs()\n",
    "for fv_sync in fv_syncs:\n",
    "    print(f\" * {fv_sync.gca_resource}\")"
   ]
  },
  {
   "cell_type": "markdown",
   "metadata": {
    "id": "eUBuFxXBbYOV"
   },
   "source": [
    "在线服务开始\n",
    "\n",
    "数据同步完成后，使用`FetchFeatureValuesRequest`和`SearchNearestEntities` API来检索数据。"
   ]
  },
  {
   "cell_type": "markdown",
   "metadata": {
    "id": "jd7gHqZ8blJ-"
   },
   "source": [
    "设置`最近邻查询.字符串过滤器`"
   ]
  },
  {
   "cell_type": "code",
   "execution_count": null,
   "metadata": {
    "id": "Y4erlJr3_1Du"
   },
   "outputs": [],
   "source": [
    "results_df = (\n",
    "    bq_client.query(f\"select publication_number from {BQ_TABLE_ID_FQN} limit 1\")\n",
    "    .result()\n",
    "    .to_dataframe()\n",
    ")\n",
    "ENTITY_ID = results_df.loc[0, \"publication_number\"]\n",
    "print(f\"Sample publication number: {ENTITY_ID}\")"
   ]
  },
  {
   "cell_type": "code",
   "execution_count": null,
   "metadata": {
    "id": "7sYPMibU3YwR"
   },
   "outputs": [],
   "source": [
    "country_filter = NearestNeighborQuery.StringFilter(\n",
    "    name=\"country\",\n",
    "    allow_tokens=[\"WIPO (PCT)\"],  # try different allow tokens\n",
    "    deny_tokens=[\"United States\"],  # try different deny tokens\n",
    ")"
   ]
  },
  {
   "cell_type": "markdown",
   "metadata": {
    "id": "v5gYpORiBW1n"
   },
   "source": [
    "#### 使用`ENTITY_ID`进行搜索"
   ]
  },
  {
   "cell_type": "code",
   "execution_count": null,
   "metadata": {
    "id": "NWhrk3pqSU6h"
   },
   "outputs": [],
   "source": [
    "# It takes some time for the DNS to be fully ready\n",
    "time.sleep(300)\n",
    "\n",
    "my_fv.search(\n",
    "    entity_id=ENTITY_ID,\n",
    "    neighbor_count=5,\n",
    "    string_filters=[country_filter],\n",
    "    return_full_entity=True,  # returning entities with metadata\n",
    ")"
   ]
  },
  {
   "cell_type": "markdown",
   "metadata": {
    "id": "OQEpt08GBX-b"
   },
   "source": [
    "使用`嵌入`来进行搜索"
   ]
  },
  {
   "cell_type": "code",
   "execution_count": null,
   "metadata": {
    "id": "JWcOT26krxuj"
   },
   "outputs": [],
   "source": [
    "EMBEDDINGS = [1] * DIMENSIONS"
   ]
  },
  {
   "cell_type": "code",
   "execution_count": null,
   "metadata": {
    "id": "e3DZl0xRAusK"
   },
   "outputs": [],
   "source": [
    "my_fv.search(\n",
    "    embedding_value=EMBEDDINGS,\n",
    "    neighbor_count=10,\n",
    "    string_filters=[country_filter],\n",
    "    return_full_entity=True,  # returning entities with metadata\n",
    ")"
   ]
  },
  {
   "cell_type": "markdown",
   "metadata": {
    "id": "MKALOxbsZfce"
   },
   "source": [
    "使用`FetchFeatureValues` API来检索完整数据，无需搜索。"
   ]
  },
  {
   "cell_type": "code",
   "execution_count": null,
   "metadata": {
    "id": "_7op0efLdDFs"
   },
   "outputs": [],
   "source": [
    "my_fv.read(key=[ENTITY_ID])"
   ]
  },
  {
   "cell_type": "markdown",
   "metadata": {
    "id": "OR1ve2OyyiKq"
   },
   "source": [
    "清理\n",
    "\n",
    "要清理此项目中使用的所有谷歌云资源，您可以[删除用于本教程的谷歌云项目](https://cloud.google.com/resource-manager/docs/creating-managing-projects#shutting_down_projects)。\n",
    "\n",
    "否则，您可以删除在本教程中创建的个别资源。"
   ]
  },
  {
   "cell_type": "code",
   "execution_count": null,
   "metadata": {
    "id": "Um27J_vvvzGc"
   },
   "outputs": [],
   "source": [
    "# Delete Feature View\n",
    "my_fv.delete()\n",
    "\n",
    "# Delete Feature Online Store\n",
    "my_fos.delete(force=True)\n",
    "\n",
    "# Delete BigQuery dataset. Uncomment and run the command below if you want to delete the BigQuery set.\n",
    "# Do this only if the dataset is created for this demo.\n",
    "# bq_client.delete_dataset(BQ_DATASET_ID, delete_contents=True, not_found_ok=True)"
   ]
  }
 ],
 "metadata": {
  "colab": {
   "name": "online_feature_serving_and_vector_retrieval_bigquery_data_with_feature_store.ipynb",
   "toc_visible": true
  },
  "kernelspec": {
   "display_name": "Python 3",
   "name": "python3"
  }
 },
 "nbformat": 4,
 "nbformat_minor": 0
}
