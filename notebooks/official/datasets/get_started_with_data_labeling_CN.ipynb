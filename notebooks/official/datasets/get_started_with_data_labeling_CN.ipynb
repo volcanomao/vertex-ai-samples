{
 "cells": [
  {
   "cell_type": "code",
   "execution_count": null,
   "metadata": {
    "id": "copyright"
   },
   "outputs": [],
   "source": [
    "# Copyright 2022 Google LLC\n",
    "#\n",
    "# Licensed under the Apache License, Version 2.0 (the \"License\");\n",
    "# you may not use this file except in compliance with the License.\n",
    "# You may obtain a copy of the License at\n",
    "#\n",
    "#     https://www.apache.org/licenses/LICENSE-2.0\n",
    "#\n",
    "# Unless required by applicable law or agreed to in writing, software\n",
    "# distributed under the License is distributed on an \"AS IS\" BASIS,\n",
    "# WITHOUT WARRANTIES OR CONDITIONS OF ANY KIND, either express or implied.\n",
    "# See the License for the specific language governing permissions and\n",
    "# limitations under the License."
   ]
  },
  {
   "cell_type": "markdown",
   "metadata": {
    "id": "title:generic,gcp"
   },
   "source": [
    "开始使用Vertex AI数据标记\n",
    "\n",
    "<table align=\"left\">\n",
    "  <td>\n",
    "    <a href=\"https://colab.research.google.com/github/GoogleCloudPlatform/vertex-ai-samples/blob/main/notebooks/official/datasets/get_started_with_data_labeling.ipynb\">\n",
    "      <img src=\"https://cloud.google.com/ml-engine/images/colab-logo-32px.png\" alt=\"Colab logo\"> 在Colab中运行\n",
    "    </a>\n",
    "  </td>\n",
    "  <td>\n",
    "    <a href=\"https://github.com/GoogleCloudPlatform/vertex-ai-samples/blob/main/notebooks/official/datasets/get_started_with_data_labeling.ipynb\">\n",
    "      <img src=\"https://cloud.google.com/ml-engine/images/github-logo-32px.png\" alt=\"GitHub logo\">\n",
    "      在GitHub上查看\n",
    "    </a>\n",
    "  </td>\n",
    "  <td>\n",
    "    <a href=\"https://console.cloud.google.com/vertex-ai/workbench/deploy-notebook?download_url=https://raw.githubusercontent.com/GoogleCloudPlatform/vertex-ai-samples/main/notebooks/official/datasets/get_started_with_data_labeling.ipynb\">\n",
    "      <img src=\"https://lh3.googleusercontent.com/UiNooY4LUgW_oTvpsNhPpQzsstV5W8F7rYgxgGBD85cWJoLmrOzhVs_ksK_vgx40SHs7jCqkTkCk=e14-rj-sc0xffffff-h130-w32\" alt=\"Vertex AI logo\">\n",
    "      在Vertex AI工作台中打开\n",
    "    </a>\n",
    "  </td>\n",
    "</table>\n",
    "<br/><br/><br/>"
   ]
  },
  {
   "cell_type": "markdown",
   "metadata": {
    "id": "overview:mlops"
   },
   "source": [
    "## 概览\n",
    "\n",
    "本教程演示了如何在生产中使用 Vertex AI。本教程涵盖了数据管理：如何开始使用 Vertex AI 数据标记服务。\n",
    "\n",
    "了解更多关于[Vertex AI 数据标记](https://cloud.google.com/vertex-ai/docs/datasets/data-labeling-job)。"
   ]
  },
  {
   "cell_type": "markdown",
   "metadata": {
    "id": "objective:mlops,stage3,get_started_automl_pipeline_components"
   },
   "source": [
    "### 目标\n",
    "\n",
    "在本教程中，您将学习如何使用`Vertex AI数据标记`服务。\n",
    "\n",
    "本教程使用以下Google Cloud ML服务：\n",
    "\n",
    "- `Vertex AI数据标记`\n",
    "- `Vertex AI数据集`\n",
    "\n",
    "执行的步骤包括：\n",
    "\n",
    "- 为数据标记员创建专家池。\n",
    "- 创建一个数据标记作业。\n",
    "- 提交数据标记作业。\n",
    "- 列出数据标记作业。\n",
    "- 取消一个数据标记作业。\n",
    "\n",
    "了解更多关于[请求Vertex AI数据标记作业](https://cloud.google.com/vertex-ai/docs/datasets/data-labeling-job)。"
   ]
  },
  {
   "cell_type": "markdown",
   "metadata": {
    "id": "dataset:flowers,icn"
   },
   "source": [
    "数据集\n",
    "\n",
    "本教程使用的数据集是来自[TensorFlow Datasets](https://www.tensorflow.org/datasets/catalog/overview)的[花卉数据集](https://www.tensorflow.org/datasets/catalog/tf_flowers)。您在本教程中使用的数据集版本存储在一个公共云存储桶中。训练好的模型可以预测一幅图像属于五种花中的哪一种：雏菊、蒲公英、玫瑰、向日葵或郁金香。"
   ]
  },
  {
   "cell_type": "markdown",
   "metadata": {
    "id": "0c997d8d92ce"
   },
   "source": [
    "### 成本\n",
    "\n",
    "本教程使用了 Google Cloud 的计费组件：\n",
    "* Vertex AI\n",
    "* Cloud Storage\n",
    "\n",
    "了解 [Vertex AI 价格](https://cloud.google.com/vertex-ai/pricing) 和[Cloud Storage 价格](https://cloud.google.com/storage/pricing)，并使用 [价格计算器](https://cloud.google.com/products/calculator/) 根据您的预期使用情况生成成本估算。"
   ]
  },
  {
   "cell_type": "markdown",
   "metadata": {
    "id": "install_aip"
   },
   "source": [
    "## 安装\n",
    "\n",
    "安装以下包以执行此笔记本。"
   ]
  },
  {
   "cell_type": "code",
   "execution_count": null,
   "metadata": {
    "id": "install_mlops"
   },
   "outputs": [],
   "source": [
    "import os\n",
    "\n",
    "# Install the packages\n",
    "! pip3 install --upgrade --quiet google-cloud-aiplatform \\\n",
    "                                 google-cloud-storage \n",
    "\n",
    "if os.getenv(\"IS_TESTING\"):\n",
    "    ! pip3 install --upgrade --quiet google-api-core==2.10 "
   ]
  },
  {
   "cell_type": "markdown",
   "metadata": {
    "id": "restart"
   },
   "source": [
    "只有Colab：取消注释以下单元格以重新启动内核"
   ]
  },
  {
   "cell_type": "code",
   "execution_count": null,
   "metadata": {
    "id": "D-ZBOjErv5mM"
   },
   "outputs": [],
   "source": [
    "# Automatically restart kernel after installs so that your environment can access the new packages\n",
    "# import IPython\n",
    "\n",
    "# app = IPython.Application.instance()\n",
    "# app.kernel.do_shutdown(True)"
   ]
  },
  {
   "cell_type": "markdown",
   "metadata": {
    "id": "yfEglUHQk9S3"
   },
   "source": [
    "在开始之前\n",
    "\n",
    "### 设置您的项目ID\n",
    "\n",
    "**如果您不知道您的项目ID**，请尝试以下步骤：\n",
    "* 运行 `gcloud config list`。\n",
    "* 运行 `gcloud projects list`。\n",
    "*查看支持页面：[查找项目ID](https://support.google.com/googleapi/answer/7014113)"
   ]
  },
  {
   "cell_type": "code",
   "execution_count": null,
   "metadata": {
    "id": "set_project_id"
   },
   "outputs": [],
   "source": [
    "PROJECT_ID = \"[your-project-id]\"  # @param {type:\"string\"}\n",
    "\n",
    "# Set the project id\n",
    "! gcloud config set project {PROJECT_ID}"
   ]
  },
  {
   "cell_type": "markdown",
   "metadata": {
    "id": "region"
   },
   "source": [
    "#### 区域\n",
    "\n",
    "您还可以更改 Vertex AI 使用的 `REGION` 变量。了解有关 [Vertex AI 区域](https://cloud.google.com/vertex-ai/docs/general/locations) 的更多信息。"
   ]
  },
  {
   "cell_type": "code",
   "execution_count": null,
   "metadata": {
    "id": "region"
   },
   "outputs": [],
   "source": [
    "REGION = \"us-central1\"  # @param {type: \"string\"}"
   ]
  },
  {
   "cell_type": "markdown",
   "metadata": {
    "id": "d29f41c6619e"
   },
   "source": [
    "邮件\n",
    "\n",
    "您需要一个电子邮件地址来发送标注工作请求。这个电子邮件地址将成为数据标注专家团队的经理。\n",
    "\n",
    "在本教程中，如果您没有指定电子邮件地址，将使用与您的项目ID关联的电子邮件地址。"
   ]
  },
  {
   "cell_type": "code",
   "execution_count": null,
   "metadata": {
    "id": "4e443c02540c"
   },
   "outputs": [],
   "source": [
    "EMAIL = \"[your-email-address]\"  # @param {type: \"string\"}\n",
    "\n",
    "if os.getenv(\"IS_TESTING\"):\n",
    "    EMAIL = \"noreply@google.com\""
   ]
  },
  {
   "cell_type": "code",
   "execution_count": null,
   "metadata": {
    "id": "ca885f17d6ac"
   },
   "outputs": [],
   "source": [
    "if EMAIL == \"[your-email-address]\":\n",
    "    shell_output = ! gcloud auth list 2>/dev/null\n",
    "    EMAIL = shell_output[2].replace(\"*\", \"\").strip()\n",
    "\n",
    "print(EMAIL)"
   ]
  },
  {
   "cell_type": "markdown",
   "metadata": {
    "id": "gcp_authenticate"
   },
   "source": [
    "###验证您的Google云账户\n",
    "\n",
    "根据您的Jupyter环境，您可能需要手动进行身份验证。请按照以下相关说明进行操作。\n",
    "\n",
    "**1. Vertex AI工作台**\n",
    "* 无需操作，因为您已经通过验证。\n",
    "\n",
    "**2. 本地JupyterLab实例，取消注释并运行：**"
   ]
  },
  {
   "cell_type": "code",
   "execution_count": null,
   "metadata": {
    "id": "ce6043da7b33"
   },
   "outputs": [],
   "source": [
    "# ! gcloud auth login"
   ]
  },
  {
   "cell_type": "markdown",
   "metadata": {
    "id": "0367eac06a10"
   },
   "source": [
    "3. 合作，取消注释并运行："
   ]
  },
  {
   "cell_type": "code",
   "execution_count": null,
   "metadata": {
    "id": "21ad4dbb4a61"
   },
   "outputs": [],
   "source": [
    "# from google.colab import auth\n",
    "# auth.authenticate_user()"
   ]
  },
  {
   "cell_type": "markdown",
   "metadata": {
    "id": "c13224697bfb"
   },
   "source": [
    "4. 服务帐户或其他\n",
    "* 请参考如何授予您的服务帐户云存储权限，网址为https://cloud.google.com/storage/docs/gsutil/commands/iam#ch-examples。"
   ]
  },
  {
   "cell_type": "markdown",
   "metadata": {
    "id": "bucket:mbsdk"
   },
   "source": [
    "创建一个云存储桶\n",
    "\n",
    "创建一个存储桶来存储中间产物，比如数据集。"
   ]
  },
  {
   "cell_type": "code",
   "execution_count": null,
   "metadata": {
    "id": "bucket"
   },
   "outputs": [],
   "source": [
    "BUCKET_URI = f\"gs://your-bucket-name-{PROJECT_ID}-unique\"  # @param {type:\"string\"}"
   ]
  },
  {
   "cell_type": "markdown",
   "metadata": {
    "id": "create_bucket"
   },
   "source": [
    "只有当您的存储桶不存在时：运行以下单元格以创建您的云存储存储桶。"
   ]
  },
  {
   "cell_type": "code",
   "execution_count": null,
   "metadata": {
    "id": "create_bucket"
   },
   "outputs": [],
   "source": [
    "! gsutil mb -l $REGION $BUCKET_URI"
   ]
  },
  {
   "cell_type": "markdown",
   "metadata": {
    "id": "setup_vars"
   },
   "source": [
    "### 设置变量\n",
    "\n",
    "接下来，设置一些在教程中使用的变量。\n",
    "### 导入库并定义常量"
   ]
  },
  {
   "cell_type": "markdown",
   "metadata": {
    "id": "import_aip"
   },
   "source": [
    "导入Vertex AI SDK\n",
    "\n",
    "将Vertex AI SDK导入到我们的Python环境中。"
   ]
  },
  {
   "cell_type": "code",
   "execution_count": null,
   "metadata": {
    "id": "97-XQPkv_i_7"
   },
   "outputs": [],
   "source": [
    "import os\n",
    "import time\n",
    "\n",
    "import google.cloud.aiplatform as aip\n",
    "from google.cloud import storage\n",
    "from google.cloud.aiplatform import gapic\n",
    "from google.protobuf.json_format import ParseDict\n",
    "from google.protobuf.struct_pb2 import Value"
   ]
  },
  {
   "cell_type": "markdown",
   "metadata": {
    "id": "750d53e37094"
   },
   "source": [
    "### 初始化 Python 的 Vertex AI SDK\n",
    "\n",
    "为您的项目和对应的存储桶初始化 Python 的 Vertex AI SDK。"
   ]
  },
  {
   "cell_type": "code",
   "execution_count": null,
   "metadata": {
    "id": "adcc964aaaa1"
   },
   "outputs": [],
   "source": [
    "aip.init(project=PROJECT_ID, location=REGION)"
   ]
  },
  {
   "cell_type": "markdown",
   "metadata": {
    "id": "aip_constants"
   },
   "source": [
    "#### Vertex AI 常量\n",
    "\n",
    "为 Vertex AI 设置以下常量：\n",
    "\n",
    "- `API_ENDPOINT`：用于数据集、模型、作业、流水线和终端服务的 Vertex AI API 服务端点。\n",
    "- `PARENT`：数据集、模型和终端资源的 Vertex AI 位置根路径。"
   ]
  },
  {
   "cell_type": "code",
   "execution_count": null,
   "metadata": {
    "id": "kBBYqHEd_i_8"
   },
   "outputs": [],
   "source": [
    "# API Endpoint\n",
    "API_ENDPOINT = \"{}-aiplatform.googleapis.com\".format(REGION)\n",
    "\n",
    "# Vertex AI location root path for your dataset, model and endpoint resources\n",
    "PARENT = \"projects/\" + PROJECT_ID + \"/locations/\" + REGION"
   ]
  },
  {
   "cell_type": "markdown",
   "metadata": {
    "id": "automl_constants:automl"
   },
   "source": [
    "模式常量\n",
    "\n",
    "接下来，为与图像分类数据集相关的模式设置常量：\n",
    "\n",
    "- 数据标注（注释）模式：告诉受管理的数据集服务数据如何被标记（注释）。"
   ]
  },
  {
   "cell_type": "code",
   "execution_count": null,
   "metadata": {
    "id": "automl_constants:automl,icn"
   },
   "outputs": [],
   "source": [
    "# Image labeling task\n",
    "LABELING_SCHEMA_IMAGE = \"gs://google-cloud-aiplatform/schema/datalabelingjob/inputs/image_classification_1.0.0.yaml\""
   ]
  },
  {
   "cell_type": "markdown",
   "metadata": {
    "id": "clients"
   },
   "source": [
    "## 创建客户端\n",
    "\n",
    "Vertex AI SDK 采用客户端/服务器模型。在您的一侧（Python 脚本）创建一个客户端，用来向服务器（Vertex AI）发送请求并接收响应。\n",
    "\n",
    "在本教程中，您会使用多个客户端，因此请提前设置好它们。\n",
    "\n",
    "- 专业池服务的专业池客户端\n",
    "- 数据标记的作业服务客户端"
   ]
  },
  {
   "cell_type": "code",
   "execution_count": null,
   "metadata": {
    "id": "i2p2VYUz_i_-"
   },
   "outputs": [],
   "source": [
    "# client options same for all services\n",
    "client_options = {\"api_endpoint\": API_ENDPOINT}\n",
    "\n",
    "clients = {}\n",
    "clients[\"job\"] = gapic.JobServiceClient(client_options=client_options)\n",
    "\n",
    "# add client for specialist pool\n",
    "clients[\"specialist_pool\"] = gapic.SpecialistPoolServiceClient(\n",
    "    client_options=client_options\n",
    ")\n",
    "\n",
    "for client in clients.items():\n",
    "    print(client)"
   ]
  },
  {
   "cell_type": "markdown",
   "metadata": {
    "id": "1d4b33eb3c71"
   },
   "source": [
    "### 为要标记的示例创建一个CSV文件\n",
    "\n",
    "接下来，您将为要求进行标记的示例创建一个CSV文件。\n",
    "\n",
    "在这个示例中，要标记的示例是图像。在CSV文件的每一行中，您需要指定图像的Cloud Storage位置。"
   ]
  },
  {
   "cell_type": "code",
   "execution_count": null,
   "metadata": {
    "id": "import_file:flowers,csv,icn"
   },
   "outputs": [],
   "source": [
    "test_filename = \"labeling.csv\"\n",
    "LABELING_FILES = [\n",
    "    \"gs://cloud-samples-data/vision/automl_classification/flowers/daisy/100080576_f52e8ee070_n.jpg\",\n",
    "    \"gs://cloud-samples-data/vision/automl_classification/flowers/daisy/102841525_bd6628ae3c.jpg\",\n",
    "]\n",
    "\n",
    "IMPORT_FILE = BUCKET_URI + \"/labeling.csv\"\n",
    "\n",
    "bucket = storage.Client(project=PROJECT_ID).bucket(BUCKET_URI.replace(\"gs://\", \"\"))\n",
    "\n",
    "# creating a blob\n",
    "blob = bucket.blob(blob_name=test_filename)\n",
    "\n",
    "# creating data variable\n",
    "data = LABELING_FILES[0] + \"\\n\" + LABELING_FILES[1] + \"\\n\"\n",
    "\n",
    "# uploading data variable content to bucket\n",
    "blob.upload_from_string(data, content_type=\"text/csv\")\n",
    "\n",
    "# printing path of uploaded file\n",
    "print(IMPORT_FILE)\n",
    "\n",
    "# printing content of uploaded file\n",
    "! gsutil cat $IMPORT_FILE"
   ]
  },
  {
   "cell_type": "markdown",
   "metadata": {
    "id": "create_a_dataset:migration"
   },
   "source": [
    "## 创建一个无标签的数据集\n",
    "\n",
    "接下来，您可以为待标记的数据创建一个数据集。"
   ]
  },
  {
   "cell_type": "code",
   "execution_count": null,
   "metadata": {
    "id": "9af8aed4e3ab"
   },
   "outputs": [],
   "source": [
    "dataset = aip.ImageDataset.create(\"labeling\")\n",
    "print(dataset)"
   ]
  },
  {
   "cell_type": "markdown",
   "metadata": {
    "id": "92909927fe7e"
   },
   "source": [
    "## 导入未标记的数据\n",
    "\n",
    "现在，将未标记的数据导入数据集，即待标记的示例。"
   ]
  },
  {
   "cell_type": "code",
   "execution_count": null,
   "metadata": {
    "id": "c137a55b822e"
   },
   "outputs": [],
   "source": [
    "dataset.import_data(\n",
    "    gcs_source=[IMPORT_FILE],\n",
    "    import_schema_uri=aip.schema.dataset.ioformat.image.single_label_classification,\n",
    ")"
   ]
  },
  {
   "cell_type": "markdown",
   "metadata": {
    "id": "trainingpipelines_create:migration,new"
   },
   "source": [
    "## 创建一个新的数据专家池\n",
    "\n",
    "您的数据标注工作将被发送到一个数据专家池中。您可以拥有一个或多个专家池。\n",
    "\n",
    "在下一步中，您可以使用`create_specialist_pool()`方法创建一个新的专家池。请求包括以下参数：\n",
    "\n",
    "- `name`：专家池的资源名称。\n",
    "- `display_name`：专家池的人类可读名称。\n",
    "- `specialist_manager_emails`：专家池经理的电子邮件地址列表。\n",
    "\n",
    "*注意：* 如果已经存在一个专家池，您可以使用现有的专家池。"
   ]
  },
  {
   "cell_type": "code",
   "execution_count": null,
   "metadata": {
    "id": "wsXOMVOMq3jO"
   },
   "outputs": [],
   "source": [
    "specialist_pool = {\n",
    "    \"name\": \"labeling\",\n",
    "    \"display_name\": \"labeling\",\n",
    "    \"specialist_manager_emails\": [EMAIL],\n",
    "}\n",
    "\n",
    "request = clients[\"specialist_pool\"].create_specialist_pool(\n",
    "    parent=PARENT, specialist_pool=specialist_pool\n",
    ")\n",
    "\n",
    "result = request.result()\n",
    "print(result)\n",
    "\n",
    "specialist_name = result.name\n",
    "\n",
    "specialist_id = specialist_name.split(\"/\")[-1]\n",
    "\n",
    "print(specialist_name)"
   ]
  },
  {
   "cell_type": "markdown",
   "metadata": {
    "id": "train_a_model:migration"
   },
   "source": [
    "创建数据标记工作\n",
    "\n",
    "现在您有了专家池，您可以使用`create_data_labeling_job()`方法发送数据标记请求。\n",
    "\n",
    "您的请求将包括以下内容：\n",
    "\n",
    "- 具有未标记数据的Vertex AI数据集。\n",
    "- 标记说明。"
   ]
  },
  {
   "cell_type": "code",
   "execution_count": null,
   "metadata": {
    "id": "5AY3SJjQq3jQ"
   },
   "outputs": [],
   "source": [
    "# create placeholder file for instructions for data labeling\n",
    "! echo \"this is instruction\" >> instruction.txt | gsutil cp instruction.txt $BUCKET_URI"
   ]
  },
  {
   "cell_type": "code",
   "execution_count": null,
   "metadata": {
    "id": "trainingpipelines_create:migration,new,request,icn"
   },
   "outputs": [],
   "source": [
    "LABLEING_SCHEMA = LABELING_SCHEMA_IMAGE\n",
    "INSTRUCTION_FILE = BUCKET_URI + \"/instruction.txt\"\n",
    "\n",
    "inputs = ParseDict({\"annotation_specs\": [\"rose\"]}, Value())\n",
    "\n",
    "data_labeling_job = {\n",
    "    \"display_name\": \"labeling\",\n",
    "    \"datasets\": [dataset.resource_name],\n",
    "    \"labeler_count\": 1,\n",
    "    \"instruction_uri\": INSTRUCTION_FILE,\n",
    "    \"inputs_schema_uri\": LABLEING_SCHEMA,\n",
    "    \"inputs\": inputs,\n",
    "    \"annotation_labels\": {\n",
    "        \"aiplatform.googleapis.com/annotation_set_name\": \"data_labeling_job_specialist_pool\"\n",
    "    },\n",
    "    \"specialist_pools\": [specialist_name],\n",
    "}\n",
    "\n",
    "print(data_labeling_job)\n",
    "\n",
    "request = clients[\"job\"].create_data_labeling_job(\n",
    "    parent=PARENT, data_labeling_job=data_labeling_job\n",
    ")\n",
    "\n",
    "print(request)\n",
    "\n",
    "labeling_task_name = request.name\n",
    "\n",
    "print(labeling_task_name)"
   ]
  },
  {
   "cell_type": "markdown",
   "metadata": {
    "id": "A3jRv70o_jAN"
   },
   "source": [
    "### 获取数据标注工作\n",
    "\n",
    "您可以使用`get_data_labeling_job()`方法获取有关数据标注工作的信息，需要提供以下参数：\n",
    "\n",
    "- `name`：标注任务的名称。"
   ]
  },
  {
   "cell_type": "code",
   "execution_count": null,
   "metadata": {
    "id": "rPnMOftyq3jS"
   },
   "outputs": [],
   "source": [
    "request = clients[\"job\"].get_data_labeling_job(name=labeling_task_name)\n",
    "print(request)"
   ]
  },
  {
   "cell_type": "markdown",
   "metadata": {
    "id": "fQ0TVlokq3jS"
   },
   "source": [
    "### 取消数据标注任务\n",
    "\n",
    "您可以使用`cancel_data_labeling_job()`方法取消数据标注请求，其中包含以下参数:\n",
    "\n",
    "- `name`: 标注任务的名称。"
   ]
  },
  {
   "cell_type": "code",
   "execution_count": null,
   "metadata": {
    "id": "FZ3dlKJjq3jT"
   },
   "outputs": [],
   "source": [
    "request = clients[\"job\"].cancel_data_labeling_job(name=labeling_task_name)\n",
    "print(request)"
   ]
  },
  {
   "cell_type": "markdown",
   "metadata": {
    "id": "d37f8ede2327"
   },
   "source": [
    "等待标记工作被取消\n",
    "\n",
    "取消请求是异步的。下面的代码会轮询标记工作的状态，直到状态为CANCELED。"
   ]
  },
  {
   "cell_type": "code",
   "execution_count": null,
   "metadata": {
    "id": "trainingpipelines_get:migration,new,wait"
   },
   "outputs": [],
   "source": [
    "while True:\n",
    "    response = clients[\"job\"].get_data_labeling_job(name=labeling_task_name)\n",
    "    if response.state == gapic.JobState.JOB_STATE_CANCELLED:\n",
    "        print(\"Labeling job CANCELED\")\n",
    "        break\n",
    "    else:\n",
    "        print(\"Canceling labeling job:\", response.state)\n",
    "        time.sleep(60)"
   ]
  },
  {
   "cell_type": "markdown",
   "metadata": {
    "id": "cleanup:migration,new"
   },
   "source": [
    "清理\n",
    "\n",
    "要清理此项目中使用的所有GCP资源，您可以[删除用于教程的GCP项目](https://cloud.google.com/resource-manager/docs/creating-managing-projects#shutting_down_projects)。\n",
    "\n",
    "否则，您可以删除在本教程中创建的各个资源。"
   ]
  },
  {
   "cell_type": "code",
   "execution_count": null,
   "metadata": {
    "id": "aoJ18d8Y_jAy"
   },
   "outputs": [],
   "source": [
    "# Set this to true only if you'd like to delete your bucket\n",
    "delete_bucket = False\n",
    "\n",
    "# Delete the dataset using the Vertex AI fully qualified identifier for the dataset\n",
    "dataset.delete()\n",
    "\n",
    "# Delete the labeling job using the Vertex AI fully qualified identifier for the dataset\n",
    "request = clients[\"job\"].delete_data_labeling_job(name=labeling_task_name)\n",
    "\n",
    "# Delete the specialist pool using the Vertex AI fully qualified identifier for the dataset\n",
    "clients[\"specialist_pool\"].delete_specialist_pool(name=specialist_name)\n",
    "\n",
    "# Delete the bucket created\n",
    "if delete_bucket or os.getenv(\"IS_TESTING\"):\n",
    "    ! gsutil rm -r $BUCKET_URI"
   ]
  }
 ],
 "metadata": {
  "colab": {
   "collapsed_sections": [
    "timestamp",
    "gcp_authenticate",
    "bucket:batch_prediction",
    "setup_vars",
    "import_aip",
    "aip_constants",
    "automl_constants:automl",
    "datasets_create:migration,new",
    "request:migration",
    "call:migration",
    "response:migration",
    "datasets_import:migration,new",
    "oJtL08_Q_jAF",
    "rnhDF5vW_jAG",
    "zQoFJ2K0_jAH",
    "trainingpipelines_create:migration,new",
    "m5igPySU_jAJ",
    "xhuR86RL_jAK",
    "S8zP7wju_jAL",
    "trainingpipelines_get:migration,new",
    "A3jRv70o_jAN",
    "XC5I2xxt_jAN",
    "models_evaluations_list:migration,new",
    "Ngn6qqVy_jAQ",
    "F0ryqI3F_jAQ",
    "models_evaluations_get:migration,new",
    "_NXujm2U_jAR",
    "0RLTdCfj_jAS",
    "make_batch_prediction_file:migration,new",
    "make_batch_file:automl,image",
    "batchpredictionjobs_create:migration,new",
    "htIpycBi_jAX",
    "8QO3y-36_jAY",
    "DmClxRYK_jAY",
    "batchpredictionjobs_get:migration,new",
    "aSE_wqES_jAa",
    "LUy0NIF__jAa",
    "endpoints_create:migration,new",
    "Ph5S0j4v_jAc",
    "yjsSo1cM_jAd",
    "ijvF_HGd_jAe",
    "endpoints_deploymodel:migration,new",
    "NFIRI0XT_jAf",
    "c3_4BVyW_jAh",
    "7NmySa8R_jAh",
    "endpoints_predict:migration,new",
    "6fb84nKh_jAk",
    "h6IskqWe_jAo",
    "KHf2BSMR_jAo",
    "endpoints_undeploymodel:migration,new",
    "KrVZz6Uw_jAp",
    "wvFK-kir_jAq",
    "5bwEQMKT_jAr",
    "LOsxiKj4_jAs",
    "PWMEUCbF_jAt",
    "OalQ6m9P_jAu",
    "models_export:migration,new",
    "lqJoqYMI_jAv",
    "v6isqzPQ_jAw",
    "ZCyd1qAb_jAx"
   ],
   "name": "get_started_with_data_labeling.ipynb",
   "toc_visible": true
  },
  "kernelspec": {
   "display_name": "Python 3",
   "name": "python3"
  }
 },
 "nbformat": 4,
 "nbformat_minor": 0
}
