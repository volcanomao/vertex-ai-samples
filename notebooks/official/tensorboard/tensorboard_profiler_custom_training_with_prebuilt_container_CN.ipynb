{
 "cells": [
  {
   "cell_type": "code",
   "execution_count": null,
   "metadata": {
    "id": "ur8xi4C7S06n"
   },
   "outputs": [],
   "source": [
    "# Copyright 2022 Google LLC\n",
    "#\n",
    "# Licensed under the Apache License, Version 2.0 (the \"License\");\n",
    "# you may not use this file except in compliance with the License.\n",
    "# You may obtain a copy of the License at\n",
    "#\n",
    "#     https://www.apache.org/licenses/LICENSE-2.0\n",
    "#\n",
    "# Unless required by applicable law or agreed to in writing, software\n",
    "# distributed under the License is distributed on an \"AS IS\" BASIS,\n",
    "# WITHOUT WARRANTIES OR CONDITIONS OF ANY KIND, either express or implied.\n",
    "# See the License for the specific language governing permissions and\n",
    "# limitations under the License."
   ]
  },
  {
   "attachments": {},
   "cell_type": "markdown",
   "metadata": {
    "id": "l2mMvIUG9meX"
   },
   "source": [
    "使用Vertex AI TensorBoard分析器在使用预构建容器的自定义训练中训练性能分析模型\n",
    "\n",
    "用Colab打开\n",
    "用Colab Enterprise打开\n",
    "在GitHub上查看\n",
    "在Vertex AI Workbench中打开"
   ]
  },
  {
   "attachments": {},
   "cell_type": "markdown",
   "metadata": {
    "id": "tvgnzT1CKxrO"
   },
   "source": [
    "## 概述\n",
    "\n",
    "TensorFlow Profiler是一个强大的工具，可以帮助您诊断和调试性能瓶颈，并使您的模型训练更快。本教程演示了如何在使用预构建容器进行自定义训练时，在Vertex AI中启用TensorBoard Profiler。\n",
    "\n",
    "了解有关[Vertex AI TensorBoard Profiler](https://cloud.google.com/vertex-ai/docs/experiments/tensorboard-profiler)的更多信息。"
   ]
  },
  {
   "attachments": {},
   "cell_type": "markdown",
   "metadata": {
    "id": "dmfmQL6w84pS"
   },
   "source": [
    "### 目标\n",
    "\n",
    "在本教程中，您将学习如何在Vertex AI中为自定义训练作业启用TensorBoard Profiler，并使用预构建的容器。\n",
    "\n",
    "本教程使用以下谷歌云AI服务：\n",
    "\n",
    "- Vertex AI 训练\n",
    "- Vertex AI TensorBoard\n",
    "\n",
    "执行的步骤包括：\n",
    "\n",
    "- 准备您的自定义训练代码，并将训练代码加载为Python软件包到预构建的容器中\n",
    "- 创建并运行一个启用TensorBoard Profiler的自定义训练作业\n",
    "- 查看TensorBoard Profiler仪表板，以调试您的模型训练性能"
   ]
  },
  {
   "attachments": {},
   "cell_type": "markdown",
   "metadata": {
    "id": "zfXf0r-K81Y-"
   },
   "source": [
    "### 数据集\n",
    "\n",
    "本教程使用的数据集是来自[TensorFlow数据集](https://www.tensorflow.org/datasets/catalog/overview)的[mnist数据集](https://www.tensorflow.org/datasets/catalog/mnist)。"
   ]
  },
  {
   "attachments": {},
   "cell_type": "markdown",
   "metadata": {
    "id": "I3KFLvpq87rs"
   },
   "source": [
    "成本\n",
    "\n",
    "本教程使用 Google Cloud 的计费组件：\n",
    "\n",
    "* Vertex AI\n",
    "* Cloud Storage\n",
    "\n",
    "了解 [Vertex AI\n",
    "定价](https://cloud.google.com/vertex-ai/pricing) 和 [Cloud Storage\n",
    "定价](https://cloud.google.com/storage/pricing)，并使用 [定价\n",
    "计算器](https://cloud.google.com/products/calculator/)\n",
    "根据您预期的使用情况生成成本估算。"
   ]
  },
  {
   "attachments": {},
   "cell_type": "markdown",
   "metadata": {
    "id": "ze4-nDLfK4pw"
   },
   "source": [
    "## 安装\n",
    "\n",
    "安装以下所需的包以执行此笔记本。"
   ]
  },
  {
   "cell_type": "code",
   "execution_count": null,
   "metadata": {
    "id": "2b4ef9b72d43"
   },
   "outputs": [],
   "source": [
    "! pip3 install --upgrade --quiet google-cloud-aiplatform"
   ]
  },
  {
   "attachments": {},
   "cell_type": "markdown",
   "metadata": {
    "id": "aUw6ibN-n5Za"
   },
   "source": [
    "### 仅限Colab使用：取消注释下面的单元格以重启内核。"
   ]
  },
  {
   "cell_type": "code",
   "execution_count": null,
   "metadata": {
    "id": "FM12wbWhn7w0"
   },
   "outputs": [],
   "source": [
    "# Automatically restart kernel after installs so that your environment can access the new packages\n",
    "# import IPython\n",
    "\n",
    "# app = IPython.Application.instance()\n",
    "# app.kernel.do_shutdown(True)"
   ]
  },
  {
   "attachments": {},
   "cell_type": "markdown",
   "metadata": {
    "id": "LgFWLeJfoGQu"
   },
   "source": [
    "## 开始之前\n",
    "\n",
    "### 设置您的谷歌云项目\n",
    "\n",
    "**无论您使用什么笔记本环境，以下步骤都是必需的。**\n",
    "\n",
    "1. [选择或创建一个谷歌云项目](https://console.cloud.google.com/cloud-resource-manager)。当您首次创建帐户时，您将获得$300的免费信用额度，可用于支付计算/存储成本。\n",
    "\n",
    "2. [确保您的项目已启用计费](https://cloud.google.com/billing/docs/how-to/modify-project)。\n",
    "\n",
    "3. [启用 Vertex AI API](https://console.cloud.google.com/flows/enableapi?apiid=aiplatform.googleapis.com)。\n",
    "\n",
    "4. 如果您正在本地运行此笔记本，您需要安装 [Cloud SDK](https://cloud.google.com/sdk)。"
   ]
  },
  {
   "attachments": {},
   "cell_type": "markdown",
   "metadata": {
    "id": "8ckyxpX_oSzD"
   },
   "source": [
    "#### 设置您的项目ID\n",
    "\n",
    "**如果您不知道您的项目ID**，请尝试以下方法：\n",
    "* 运行 `gcloud config list`。\n",
    "* 运行 `gcloud projects list`。\n",
    "* 参阅支持页面：[查找项目ID](https://support.google.com/googleapi/answer/7014113)"
   ]
  },
  {
   "cell_type": "code",
   "execution_count": null,
   "metadata": {
    "id": "zY8DKBoVoVy3"
   },
   "outputs": [],
   "source": [
    "PROJECT_ID = \"[your-project-id]\"  # @param {type:\"string\"}\n",
    "\n",
    "# Set the project id\n",
    "! gcloud config set project {PROJECT_ID}"
   ]
  },
  {
   "attachments": {},
   "cell_type": "markdown",
   "metadata": {
    "id": "mSQjVQmMosMl"
   },
   "source": [
    "#### 区域\n",
    "\n",
    "您还可以更改 Vertex AI 使用的 `REGION` 变量。了解有关 [Vertex AI 区域](https://cloud.google.com/vertex-ai/docs/general/locations) 的更多信息。"
   ]
  },
  {
   "cell_type": "code",
   "execution_count": null,
   "metadata": {
    "id": "Se9FWWhLotvB"
   },
   "outputs": [],
   "source": [
    "REGION = \"us-central1\"  # @param {type:\"string\"}"
   ]
  },
  {
   "attachments": {},
   "cell_type": "markdown",
   "metadata": {
    "id": "IfJRIMBpo5Pg"
   },
   "source": [
    "### 验证您的Google Cloud账户\n",
    "\n",
    "根据您的Jupyter环境，您可能需要手动验证。请按照以下相关说明进行操作。\n",
    "\n",
    "**1. Vertex AI工作台**\n",
    "* 无需操作，您已经通过验证。\n",
    "\n",
    "**2. 本地JupyterLab实例，取消注释并运行：**"
   ]
  },
  {
   "cell_type": "code",
   "execution_count": null,
   "metadata": {
    "id": "cR_MzpknpGgM"
   },
   "outputs": [],
   "source": [
    "# ! gcloud auth login"
   ]
  },
  {
   "attachments": {},
   "cell_type": "markdown",
   "metadata": {
    "id": "h-MuVI_ypJfw"
   },
   "source": [
    "3. 合作，取消注释并运行："
   ]
  },
  {
   "cell_type": "code",
   "execution_count": null,
   "metadata": {
    "id": "BeaQlCwMpQUT"
   },
   "outputs": [],
   "source": [
    "# from google.colab import auth\n",
    "# auth.authenticate_user()"
   ]
  },
  {
   "attachments": {},
   "cell_type": "markdown",
   "metadata": {
    "id": "3ivZkPUjpaFz"
   },
   "source": [
    "4. 设置服务帐号和权限\n",
    "\n",
    "将使用服务帐号来创建自定义培训作业。如果您不想使用项目的计算引擎服务帐号，请将 SERVICE_ACCOUNT 设置为另一个服务帐号ID。您可以按照[说明](https://cloud.google.com/iam/docs/creating-managing-service-accounts#creating)创建服务帐号。"
   ]
  },
  {
   "cell_type": "code",
   "execution_count": null,
   "metadata": {
    "id": "vYE3b942wza4"
   },
   "outputs": [],
   "source": [
    "SERVICE_ACCOUNT = \"[your-service-account]\"  # @param {type:\"string\"}"
   ]
  },
  {
   "cell_type": "code",
   "execution_count": null,
   "metadata": {
    "id": "autoset_service_account"
   },
   "outputs": [],
   "source": [
    "import sys\n",
    "\n",
    "IS_COLAB = \"google.colab\" in sys.modules\n",
    "if (\n",
    "    SERVICE_ACCOUNT == \"\"\n",
    "    or SERVICE_ACCOUNT is None\n",
    "    or SERVICE_ACCOUNT == \"[your-service-account]\"\n",
    "):\n",
    "    # Get your service account from gcloud\n",
    "    if not IS_COLAB:\n",
    "        shell_output = !gcloud auth list 2>/dev/null\n",
    "        SERVICE_ACCOUNT = shell_output[2].replace(\"*\", \"\").strip()\n",
    "\n",
    "    if IS_COLAB:\n",
    "        shell_output = ! gcloud projects describe  $PROJECT_ID\n",
    "        project_number = shell_output[-1].split(\":\")[1].strip().replace(\"'\", \"\")\n",
    "        SERVICE_ACCOUNT = f\"{project_number}-compute@developer.gserviceaccount.com\"\n",
    "\n",
    "    print(\"Service Account:\", SERVICE_ACCOUNT)"
   ]
  },
  {
   "cell_type": "code",
   "execution_count": null,
   "metadata": {
    "id": "WWIxsCJFCg5Z"
   },
   "outputs": [],
   "source": [
    "# Grant Cloud Storage permission.\n",
    "! gcloud projects add-iam-policy-binding $PROJECT_ID \\\n",
    "        --member=\"serviceAccount:$SERVICE_ACCOUNT\" \\\n",
    "        --role=\"roles/storage.admin\" \\\n",
    "        --quiet\n",
    "\n",
    "# Grant AI Platform permission.\n",
    "! gcloud projects add-iam-policy-binding $PROJECT_ID \\\n",
    "        --member=\"serviceAccount:$SERVICE_ACCOUNT\" \\\n",
    "        --role=\"roles/aiplatform.user\" \\\n",
    "        --quiet\n",
    "\n",
    "! gcloud projects get-iam-policy $PROJECT_ID \\\n",
    "        --filter=bindings.members:serviceAccount:$SERVICE_ACCOUNT"
   ]
  },
  {
   "attachments": {},
   "cell_type": "markdown",
   "metadata": {
    "id": "OKtKGmr9pfr6"
   },
   "source": [
    "创建一个云存储存储桶\n",
    "\n",
    "创建一个存储桶用于存储中间产物，如数据集。"
   ]
  },
  {
   "cell_type": "code",
   "execution_count": null,
   "metadata": {
    "id": "In3aQanwYjFB"
   },
   "outputs": [],
   "source": [
    "BUCKET_URI = f\"gs://your-bucket-name-{PROJECT_ID}-unique\"  # @param {type:\"string\"}"
   ]
  },
  {
   "attachments": {},
   "cell_type": "markdown",
   "metadata": {
    "id": "GOaOsIjxp0oB"
   },
   "source": [
    "只有当您的存储桶不存在时：运行以下单元格以创建您的云存储存储桶。"
   ]
  },
  {
   "cell_type": "code",
   "execution_count": null,
   "metadata": {
    "id": "Wn5QiIl2p16e"
   },
   "outputs": [],
   "source": [
    "! gsutil mb -l {REGION} -p {PROJECT_ID} {BUCKET_URI}"
   ]
  },
  {
   "attachments": {},
   "cell_type": "markdown",
   "metadata": {
    "id": "ankcS-vtp7Wv"
   },
   "source": [
    "### 导入库"
   ]
  },
  {
   "cell_type": "code",
   "execution_count": null,
   "metadata": {
    "id": "WffSImMvp-Po"
   },
   "outputs": [],
   "source": [
    "import os\n",
    "\n",
    "from google.cloud import aiplatform"
   ]
  },
  {
   "attachments": {},
   "cell_type": "markdown",
   "metadata": {
    "id": "OMrAJ8RGqBQu"
   },
   "source": [
    "### 初始化 Python 的 Vertex AI SDK\n",
    "\n",
    "为您的项目和相应的存储桶初始化 Python 的 Vertex AI SDK。"
   ]
  },
  {
   "cell_type": "code",
   "execution_count": null,
   "metadata": {
    "id": "AWRzBFExqERG"
   },
   "outputs": [],
   "source": [
    "aiplatform.init(project=PROJECT_ID, location=REGION, staging_bucket=BUCKET_URI)"
   ]
  },
  {
   "attachments": {},
   "cell_type": "markdown",
   "metadata": {
    "id": "-ayTbNdi62_t"
   },
   "source": [
    "创建一个TensorBoard实例\n",
    "\n",
    "在可视化实验之前，必须先创建一个Vertex AI TensorBoard实例，它是一个区域化资源，用于存储您的Vertex AI TensorBoard实验。您可以在一个项目中创建多个实例。您可以使用命令`gcloud ai tensorboards list`来获取您现有的TensorBoard实例列表。"
   ]
  },
  {
   "attachments": {},
   "cell_type": "markdown",
   "metadata": {
    "id": "9c3QrDTZdaxk"
   },
   "source": [
    "设置您的TensorBoard实例显示名称"
   ]
  },
  {
   "cell_type": "code",
   "execution_count": null,
   "metadata": {
    "id": "azlwb__AX8gs"
   },
   "outputs": [],
   "source": [
    "TENSORBOARD_NAME = \"your-tensorboard-unique\"  # @param {type:\"string\"}"
   ]
  },
  {
   "attachments": {},
   "cell_type": "markdown",
   "metadata": {
    "id": "vJrWKK0mY7H7"
   },
   "source": [
    "创建一个TensorBoard实例\n",
    "\n",
    "如果您没有TensorBoard实例，请通过运行以下单元格来创建一个："
   ]
  },
  {
   "cell_type": "code",
   "execution_count": null,
   "metadata": {
    "id": "JqVNsRFrc_78"
   },
   "outputs": [],
   "source": [
    "tensorboard = aiplatform.Tensorboard.create(\n",
    "    display_name=TENSORBOARD_NAME, project=PROJECT_ID, location=REGION\n",
    ")\n",
    "\n",
    "TENSORBOARD_INSTANCE_NAME = tensorboard.resource_name\n",
    "print(\"TensorBoard instance name:\", TENSORBOARD_INSTANCE_NAME)"
   ]
  },
  {
   "attachments": {},
   "cell_type": "markdown",
   "metadata": {
    "id": "yoR29gW2S24w"
   },
   "source": [
    "## 训练一个模型\n",
    "\n",
    "使用您自定义的训练代码来训练一个模型，选择以下其中一种选项：\n",
    "\n",
    "- **预构建容器**：将您的自定义训练代码加载为一个 Python 包到来自 Google Cloud 的预构建容器镜像中。\n",
    "\n",
    "- **自定义容器**：创建一个包含您自定义训练代码的自己的容器镜像。\n",
    "\n",
    "在本教程中，您将使用预构建容器来训练一个自定义模型。"
   ]
  },
  {
   "attachments": {},
   "cell_type": "markdown",
   "metadata": {
    "id": "syw3GabNGgJz"
   },
   "source": [
    "### 检查培训包\n",
    "\n",
    "#### 包装布局\n",
    "\n",
    "在开始培训之前，让我们看一下如何为自定义培训作业组装 Python 包。解压后，包含以下内容：\n",
    "\n",
    "- PKG-INFO\n",
    "- README.md\n",
    "- setup.cfg\n",
    "- setup.py\n",
    "- trainer\n",
    "  - \\_\\_init\\_\\_.py\n",
    "  - task.py\n",
    "\n",
    "文件 `setup.cfg` 和 `setup.py` 是将包安装到 Docker 镜像的操作环境的说明。"
   ]
  },
  {
   "cell_type": "code",
   "execution_count": null,
   "metadata": {
    "id": "b58ZAbysGkRo"
   },
   "outputs": [],
   "source": [
    "PYTHON_PACKAGE_APPLICATION_DIR = \"app\"\n",
    "\n",
    "source_package_file_name = f\"{PYTHON_PACKAGE_APPLICATION_DIR}/dist/trainer-0.1.tar.gz\"\n",
    "python_package_gcs_uri = f\"{BUCKET_URI}/trainer-0.1.tar.gz\"\n",
    "\n",
    "# Make folder for Python training script\n",
    "! rm -rf {PYTHON_PACKAGE_APPLICATION_DIR}\n",
    "! mkdir {PYTHON_PACKAGE_APPLICATION_DIR}\n",
    "\n",
    "# Add package information\n",
    "! touch {PYTHON_PACKAGE_APPLICATION_DIR}/README.md\n",
    "\n",
    "# Make the training subfolder\n",
    "! mkdir {PYTHON_PACKAGE_APPLICATION_DIR}/trainer\n",
    "! touch {PYTHON_PACKAGE_APPLICATION_DIR}/trainer/__init__.py"
   ]
  },
  {
   "cell_type": "code",
   "execution_count": null,
   "metadata": {
    "id": "lj7hIeAXGrzg"
   },
   "outputs": [],
   "source": [
    "%%writefile ./{PYTHON_PACKAGE_APPLICATION_DIR}/setup.py\n",
    "\n",
    "from setuptools import find_packages\n",
    "from setuptools import setup\n",
    "import setuptools\n",
    "\n",
    "from distutils.command.build import build as _build\n",
    "import subprocess\n",
    "\n",
    "REQUIRED_PACKAGES = [\n",
    "    'google-cloud-aiplatform[cloud_profiler]>=1.20.0',\n",
    "    'protobuf==3.20.2',\n",
    "]\n",
    "\n",
    "setup(\n",
    "    install_requires=REQUIRED_PACKAGES,\n",
    "    packages=find_packages(),\n",
    "    include_package_data=True,\n",
    "    name='trainer',\n",
    "    version='0.1',\n",
    "    url=\"wwww.google.com\",\n",
    "    description='Vertex AI | Training | Python Package'\n",
    ")"
   ]
  },
  {
   "attachments": {},
   "cell_type": "markdown",
   "metadata": {
    "id": "hyAwgsoQmaYI"
   },
   "source": [
    "#### 准备训练脚本\n",
    "\n",
    "文件 `trainer/task.py` 是执行自定义训练作业的Python脚本。\n",
    "\n",
    "您的训练代码必须配置为将TensorBoard日志写入一个Cloud Storage存储桶，其位置Vertex AI Training会自动通过预定义的环境变量 `AIP_TENSORBOARD_LOG_DIR` 提供。通常可以通过将 `os.environ['AIP_TENSORBOARD_LOG_DIR']` 提供给开源TensorBoard日志写入API来完成。例如，在TensorFlow 2.x中，您可以使用以下代码创建一个 `tensorboard_callback`：\n",
    "\n",
    "    tensorboard_callback = tf.keras.callbacks.TensorBoard(\n",
    "      log_dir=os.environ['AIP_TENSORBOARD_LOG_DIR'],\n",
    "      histogram_freq=1)\n",
    "`AIP_TENSORBOARD_LOG_DIR` 是您在创建自定义训练作业时提供的 `BASE_OUTPUT_DIR` 中的一部分。\n",
    "\n",
    "要为您的训练作业启用Vertex AI TensorBoard Profiler，请将以下内容添加到您的训练脚本中：\n",
    "\n",
    "在顶层导入中添加以下云分析器导入：\n",
    "\n",
    "    from google.cloud.aiplatform.training_utils import cloud_profiler\n",
    "\n",
    "通过添加以下内容初始化云分析器插件：\n",
    "\n",
    "    cloud_profiler.init()"
   ]
  },
  {
   "cell_type": "code",
   "execution_count": null,
   "metadata": {
    "id": "8JCgWW7Au1w8"
   },
   "outputs": [],
   "source": [
    "%%writefile ./{PYTHON_PACKAGE_APPLICATION_DIR}/trainer/task.py\n",
    "\n",
    "import tensorflow as tf\n",
    "import argparse\n",
    "import os\n",
    "import sys, traceback\n",
    "from google.cloud.aiplatform.training_utils import cloud_profiler\n",
    "\n",
    "\"\"\"Train an mnist model and use cloud_profiler for profiling.\"\"\"\n",
    "\n",
    "def _create_model():\n",
    "    model = tf.keras.models.Sequential(\n",
    "        [\n",
    "            tf.keras.layers.Flatten(input_shape=(28, 28)),\n",
    "            tf.keras.layers.Dense(128, activation=\"relu\"),\n",
    "            tf.keras.layers.Dropout(0.2),\n",
    "            tf.keras.layers.Dense(10),\n",
    "        ]\n",
    "    )\n",
    "    return model\n",
    "\n",
    "\n",
    "def main(args):\n",
    "    print('Initialize the profiler ...')\n",
    "    cloud_profiler.init()\n",
    "    print('The profiler initiated.')\n",
    "\n",
    "    print('Loading and preprocessing data ...')\n",
    "    mnist = tf.keras.datasets.mnist\n",
    "\n",
    "    (x_train, y_train), (x_test, y_test) = mnist.load_data()\n",
    "    x_train, x_test = x_train / 255.0, x_test / 255.0\n",
    "\n",
    "    print('Creating and training model ...')\n",
    "\n",
    "    model = _create_model()\n",
    "    model.compile(\n",
    "      optimizer=\"adam\",\n",
    "      loss=tf.keras.losses.sparse_categorical_crossentropy,\n",
    "      metrics=[\"accuracy\"],\n",
    "    )\n",
    "\n",
    "    log_dir = \"logs\"\n",
    "    if 'AIP_TENSORBOARD_LOG_DIR' in os.environ:\n",
    "      log_dir = os.environ['AIP_TENSORBOARD_LOG_DIR']\n",
    "\n",
    "    print('Setting up the TensorBoard callback ...')\n",
    "    tensorboard_callback = tf.keras.callbacks.TensorBoard(\n",
    "        log_dir=log_dir,\n",
    "        histogram_freq=1)\n",
    "\n",
    "    print('Training model ...')\n",
    "    model.fit(\n",
    "        x_train,\n",
    "        y_train,\n",
    "        epochs=args.epochs,\n",
    "        verbose=0,\n",
    "        callbacks=[tensorboard_callback],\n",
    "    )\n",
    "    print('Training completed.')\n",
    "\n",
    "    print('Saving model ...')\n",
    "\n",
    "    model_dir = \"model\"\n",
    "    if 'AIP_MODEL_DIR' in os.environ:\n",
    "      model_dir = os.environ['AIP_MODEL_DIR']\n",
    "    tf.saved_model.save(model, model_dir)\n",
    "\n",
    "    print('Model saved at ' + model_dir)\n",
    "\n",
    "\n",
    "if __name__ == \"__main__\":\n",
    "    parser = argparse.ArgumentParser()\n",
    "    parser.add_argument(\n",
    "        \"--epochs\", type=int, default=100, help=\"Number of epochs to run model.\"\n",
    "    )\n",
    "\n",
    "    args = parser.parse_args()\n",
    "    main(args)"
   ]
  },
  {
   "attachments": {},
   "cell_type": "markdown",
   "metadata": {
    "id": "ihYFahRAr6sj"
   },
   "source": [
    "创建一个源码分发\n",
    "\n",
    "您可以使用培训应用程序创建一个源码分发，并将其上传到您的云存储桶中。"
   ]
  },
  {
   "cell_type": "code",
   "execution_count": null,
   "metadata": {
    "id": "-XhccshCHQeb"
   },
   "outputs": [],
   "source": [
    "!cd {PYTHON_PACKAGE_APPLICATION_DIR} && python3 setup.py sdist --formats=gztar\n",
    "\n",
    "!gsutil cp {source_package_file_name} {python_package_gcs_uri}\n",
    "\n",
    "!gsutil ls -l {python_package_gcs_uri}"
   ]
  },
  {
   "attachments": {},
   "cell_type": "markdown",
   "metadata": {
    "id": "k4e6OYmimqTR"
   },
   "source": [
    "创建并运行自定义训练作业\n",
    "\n",
    "使用打包为Python源代码分发的训练代码的[预构建容器](https://cloud.google.com/vertex-ai/docs/training/pre-built-containers)映像配置一个[自定义作业](https://cloud.google.com/vertex-ai/docs/training/create-custom-job)。"
   ]
  },
  {
   "cell_type": "code",
   "execution_count": null,
   "metadata": {
    "id": "t8GeVXjWHxuZ"
   },
   "outputs": [],
   "source": [
    "JOB_NAME = \"tensorboard-job-unique\"\n",
    "MACHINE_TYPE = \"n1-standard-4\"\n",
    "TRAIN_IMAGE = \"us-docker.pkg.dev/vertex-ai/training/tf-cpu.2-9:latest\"\n",
    "base_output_dir = f\"{BUCKET_URI}/{JOB_NAME}\"\n",
    "python_module_name = \"trainer.task\"\n",
    "\n",
    "EPOCHS = 20\n",
    "training_args = [\n",
    "    \"--epochs=\" + str(EPOCHS),\n",
    "]"
   ]
  },
  {
   "cell_type": "code",
   "execution_count": null,
   "metadata": {
    "id": "B3JC7T3bH9Vy"
   },
   "outputs": [],
   "source": [
    "job = aiplatform.CustomPythonPackageTrainingJob(\n",
    "    display_name=JOB_NAME,\n",
    "    python_package_gcs_uri=python_package_gcs_uri,\n",
    "    python_module_name=python_module_name,\n",
    "    container_uri=TRAIN_IMAGE,\n",
    ")"
   ]
  },
  {
   "attachments": {},
   "cell_type": "markdown",
   "metadata": {
    "id": "51hKGTbU32Eg"
   },
   "source": [
    "运行自定义训练作业\n",
    "\n",
    "接下来，您可以通过调用`run`方法来运行自定义作业以开始训练作业。\n",
    "\n",
    "**注意：** 使用 Vertex AI SDK for Python 提交训练作业时，它会创建一个[训练流水线](https://cloud.google.com/vertex-ai/docs/training/create-training-pipeline)，在 Vertex AI 训练服务上启动自定义作业。"
   ]
  },
  {
   "cell_type": "code",
   "execution_count": null,
   "metadata": {
    "id": "oIyfos1rIAx2"
   },
   "outputs": [],
   "source": [
    "job.run(\n",
    "    replica_count=1,\n",
    "    machine_type=MACHINE_TYPE,\n",
    "    base_output_dir=base_output_dir,\n",
    "    tensorboard=TENSORBOARD_INSTANCE_NAME,\n",
    "    service_account=SERVICE_ACCOUNT,\n",
    "    args=training_args,\n",
    ")"
   ]
  },
  {
   "attachments": {},
   "cell_type": "markdown",
   "metadata": {
    "id": "JkEe2Nb_85UD"
   },
   "source": [
    "查看TensorBoard分析面板\n",
    "\n",
    "当自定义作业状态切换为运行时，您可以通过Google Cloud控制台上的自定义作业页面或实验页面访问Vertex AI TensorBoard分析面板。\n",
    "\n",
    "Google Cloud指南[使用Profiler对模型训练性能进行分析](https://cloud.google.com/vertex-ai/docs/training/tensorboard-profiler) 提供了详细的说明来访问Vertex AI TensorBoard分析面板并捕获分析会话。"
   ]
  },
  {
   "attachments": {},
   "cell_type": "markdown",
   "metadata": {
    "id": "TpV-iwP9qw9c"
   },
   "source": [
    "清理工作\n",
    "\n",
    "要清理此项目中使用的所有Google Cloud资源，您可以删除用于本教程的[Google Cloud项目](https://cloud.google.com/resource-manager/docs/creating-managing-projects#shutting_down_projects)。\n",
    "\n",
    "否则，您可以删除在本教程中创建的各个资源。"
   ]
  },
  {
   "cell_type": "code",
   "execution_count": null,
   "metadata": {
    "id": "WR-ZhQ9XwpRI"
   },
   "outputs": [],
   "source": [
    "delete_bucket = False\n",
    "\n",
    "job.delete()\n",
    "tensorboard.delete()\n",
    "\n",
    "if delete_bucket or os.getenv(\"IS_TESTING\"):\n",
    "    ! gsutil -m rm -r $BUCKET_URI"
   ]
  }
 ],
 "metadata": {
  "colab": {
   "name": "tensorboard_profiler_custom_training_with_prebuilt_container.ipynb",
   "toc_visible": true
  },
  "kernelspec": {
   "display_name": "Python 3",
   "name": "python3"
  }
 },
 "nbformat": 4,
 "nbformat_minor": 0
}
