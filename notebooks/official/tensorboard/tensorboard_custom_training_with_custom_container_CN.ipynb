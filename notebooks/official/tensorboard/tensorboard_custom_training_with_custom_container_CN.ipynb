{
 "cells": [
  {
   "cell_type": "code",
   "execution_count": null,
   "metadata": {
    "id": "Gpc9ZhH_W4AP"
   },
   "outputs": [],
   "source": [
    "# Copyright 2022 Google LLC\n",
    "#\n",
    "# Licensed under the Apache License, Version 2.0 (the \"License\");\n",
    "# you may not use this file except in compliance with the License.\n",
    "# You may obtain a copy of the License at\n",
    "#\n",
    "#     https://www.apache.org/licenses/LICENSE-2.0\n",
    "#\n",
    "# Unless required by applicable law or agreed to in writing, software\n",
    "# distributed under the License is distributed on an \"AS IS\" BASIS,\n",
    "# WITHOUT WARRANTIES OR CONDITIONS OF ANY KIND, either express or implied.\n",
    "# See the License for the specific language governing permissions and\n",
    "# limitations under the License."
   ]
  },
  {
   "cell_type": "markdown",
   "metadata": {
    "id": "ed2pOXQMb8fY"
   },
   "source": [
    "# 使用自定义容器的 Vertex AI TensorBoard 自定义训练\n",
    "\n",
    "<table align=\"left\">\n",
    "\n",
    "  <td style=\"text-align: center\">\n",
    "    <a href=\"https://colab.research.google.com/github/GoogleCloudPlatform/vertex-ai-samples/blob/main/notebooks/official/tensorboard/tensorboard_custom_training_with_custom_container.ipynb\">\n",
    "      <img src=\"https://cloud.google.com/ml-engine/images/colab-logo-32px.png\" alt=\"Colab logo\"> <br> 在 Colab 中打开\n",
    "    </a>\n",
    "  </td>\n",
    "  <td style=\"text-align: center\">\n",
    "    <a href=\"https://console.cloud.google.com/vertex-ai/colab/import/https:%2F%2Fraw.githubusercontent.com%2FGoogleCloudPlatform%2Fvertex-ai-samples%2Fmain%2Fnotebooks%2Fofficial%2Ftensorboard%2Ftensorboard_custom_training_with_custom_container.ipynb\">\n",
    "      <img width=\"32px\" src=\"https://cloud.google.com/ml-engine/images/colab-enterprise-logo-32px.png\" alt=\"Google Cloud Colab Enterprise logo\"> <br> 在 Colab Enterprise 中打开\n",
    "    </a>\n",
    "  </td>\n",
    "  <td style=\"text-align: center\">\n",
    "    <a href=\"https://console.cloud.google.com/vertex-ai/workbench/deploy-notebook?download_url=https://raw.githubusercontent.com/GoogleCloudPlatform/vertex-ai-samples/main/notebooks/official/tensorboard/tensorboard_custom_training_with_custom_container.ipynb\">\n",
    "      <img src=\"https://lh3.googleusercontent.com/UiNooY4LUgW_oTvpsNhPpQzsstV5W8F7rYgxgGBD85cWJoLmrOzhVs_ksK_vgx40SHs7jCqkTkCk=e14-rj-sc0xffffff-h130-w32\" alt=\"Vertex AI logo\"> <br>\n",
    "      在 Workbench 中打开\n",
    "    </a>\n",
    "  </td>\n",
    "  <td style=\"text-align: center\">\n",
    "    <a href=\"https://github.com/GoogleCloudPlatform/vertex-ai-samples/blob/main/notebooks/official/tensorboard/tensorboard_custom_training_with_custom_container.ipynb\">\n",
    "      <img src=\"https://cloud.google.com/ml-engine/images/github-logo-32px.png\" alt=\"GitHub logo\"> <br>\n",
    "      在 GitHub 上查看\n",
    "    </a>\n",
    "  </td>                                                                                               \n",
    "</table>"
   ]
  },
  {
   "cell_type": "markdown",
   "metadata": {
    "id": "WagqZOn_cdCb"
   },
   "source": [
    "## 概述\n",
    "\n",
    "### 什么是Vertex AI TensorBoard\n",
    "\n",
    "Vertex AI TensorBoard是[开源TensorBoard](https://www.tensorflow.org/tensorboard/get_started)的企业级托管版本，TensorBoard是谷歌的一个用于机器学习实验可视化的开源项目。\n",
    "\n",
    "Vertex AI TensorBoard提供各种详细的可视化功能，包括：\n",
    "\n",
    "* 跟踪和可视化诸如损失和准确度随时间变化的指标，\n",
    "* 可视化模型计算图（操作和层），\n",
    "* 查看权重、偏差或其他张量随时间变化的直方图，\n",
    "* 投影嵌入到一个较低维度空间，\n",
    "* 显示图像、文本和音频样本。\n",
    "\n",
    "除了来自TensorBoard的强大可视化功能之外，Vertex AI TensorBoard还提供：\n",
    "\n",
    "* 对实验的仪表板的持久、可共享链接，\n",
    "* 项目中所有实验的可搜索列表，\n",
    "* 与Vertex AI服务进行模型训练的紧密集成，\n",
    "* 企业级安全、隐私和合规性。\n",
    "\n",
    "通过Vertex AI TensorBoard，您可以跟踪、可视化和比较机器学习实验，并与团队共享。\n",
    "\n",
    "了解更多关于[Vertex AI TensorBoard](https://cloud.google.com/vertex-ai/docs/experiments/tensorboard-introduction)和[自定义训练](https://cloud.google.com/vertex-ai/docs/training/custom-training)的信息。"
   ]
  },
  {
   "cell_type": "markdown",
   "metadata": {
    "id": "DFHvu3pYM1gY"
   },
   "source": [
    "### 目标\n",
    "\n",
    "在本教程中，您将学习如何使用自定义容器创建一个自定义训练任务，并在近实时内监视您的训练过程在 Vertex AI TensorBoard 上进行。\n",
    "\n",
    "本教程使用以下 Google Cloud ML 服务和资源：\n",
    "\n",
    "- Vertex AI 训练\n",
    "- Vertex AI TensorBoard\n",
    "\n",
    "执行的步骤包括：\n",
    "\n",
    "* 创建 Docker 存储库和配置。\n",
    "* 使用您定制的训练代码创建自定义容器镜像。\n",
    "* 设置服务帐户和 Google Cloud 存储桶。\n",
    "* 使用您的自定义容器创建和启动您的自定义训练任务。"
   ]
  },
  {
   "cell_type": "markdown",
   "metadata": {
    "id": "wkpL6qqIM1pO"
   },
   "source": [
    "数据集\n",
    "\n",
    "本教程中使用的数据集是由TensorFlow提供的[花卉数据集](https://www.tensorflow.org/datasets/catalog/tf_flowers)。不需要其他数据集。"
   ]
  },
  {
   "cell_type": "markdown",
   "metadata": {
    "id": "lCzg9s63M1Oq"
   },
   "source": [
    "### 成本\n",
    "\n",
    "本教程使用的谷歌云计费组件有：\n",
    "\n",
    "* Vertex AI\n",
    "* 云存储\n",
    "* 谷歌Artifact Registry\n",
    "\n",
    "了解[Vertex AI 定价](https://cloud.google.com/vertex-ai/pricing), [云存储 定价](https://cloud.google.com/storage/pricing), 以及 [Google Artifact Registry 定价](https://cloud.google.com/artifact-registry/pricing)。\n",
    "\n",
    "请使用[Pricing Calculator](https://cloud.google.com/products/calculator/)根据您的预期使用情况生成成本估算。"
   ]
  },
  {
   "cell_type": "markdown",
   "metadata": {
    "id": "f0316df526f8"
   },
   "source": [
    "开始吧"
   ]
  },
  {
   "cell_type": "markdown",
   "metadata": {
    "id": "a2c2cb2109a0"
   },
   "source": [
    "### 为Python安装Vertex AI SDK和其他所需的软件包"
   ]
  },
  {
   "cell_type": "code",
   "execution_count": null,
   "metadata": {
    "id": "n21c5UHogVEY"
   },
   "outputs": [],
   "source": [
    "! pip3 install --upgrade --quiet google-cloud-aiplatform "
   ]
  },
  {
   "cell_type": "markdown",
   "metadata": {
    "id": "ff555b32bab8"
   },
   "source": [
    "重启运行时（仅限Colab）\n",
    "\n",
    "为了使用新安装的包，您必须重启Google Colab上的运行时。"
   ]
  },
  {
   "cell_type": "code",
   "execution_count": null,
   "metadata": {
    "id": "f09b4dff629a"
   },
   "outputs": [],
   "source": [
    "import sys\n",
    "\n",
    "if \"google.colab\" in sys.modules:\n",
    "\n",
    "    import IPython\n",
    "\n",
    "    app = IPython.Application.instance()\n",
    "    app.kernel.do_shutdown(True)"
   ]
  },
  {
   "cell_type": "markdown",
   "metadata": {
    "id": "ee775571c2b5"
   },
   "source": [
    "<div class=\"alert alert-block alert-warning\">\n",
    "<b>⚠️ 内核将重新启动。在继续下一步之前等待它完成。⚠️</b>\n",
    "</div>"
   ]
  },
  {
   "cell_type": "markdown",
   "metadata": {
    "id": "92e68cfc3a90"
   },
   "source": [
    "### 验证您的笔记本环境（仅限Colab）\n",
    "\n",
    "在Google Colab上验证您的环境。"
   ]
  },
  {
   "cell_type": "code",
   "execution_count": null,
   "metadata": {
    "id": "46604f70e831"
   },
   "outputs": [],
   "source": [
    "import sys\n",
    "\n",
    "if \"google.colab\" in sys.modules:\n",
    "\n",
    "    from google.colab import auth\n",
    "\n",
    "    auth.authenticate_user()"
   ]
  },
  {
   "cell_type": "markdown",
   "metadata": {
    "id": "4f872cd812d0"
   },
   "source": [
    "### 设置Google Cloud项目信息并初始化Python的Vertex AI SDK\n",
    "\n",
    "要开始使用Vertex AI，您必须拥有一个现有的Google Cloud项目并[启用Vertex AI API](https://console.cloud.google.com/flows/enableapi?apiid=aiplatform.googleapis.com)。了解更多关于[设置项目和开发环境](https://cloud.google.com/vertex-ai/docs/start/cloud-environment)的信息。"
   ]
  },
  {
   "cell_type": "code",
   "execution_count": null,
   "metadata": {
    "id": "oM1iC_MfAts1"
   },
   "outputs": [],
   "source": [
    "PROJECT_ID = \"[your-project-id]\"  # @param {type:\"string\"}\n",
    "\n",
    "# Set the project id\n",
    "! gcloud config set project {PROJECT_ID}\n",
    "\n",
    "LOCATION = \"us-central1\"  # @param {type: \"string\"}"
   ]
  },
  {
   "cell_type": "markdown",
   "metadata": {
    "id": "K-KuU54IaVz5"
   },
   "source": [
    "UUID\n",
    "\n",
    "为了避免在创建资源时用户之间的名称冲突，为每个会话实例创建一个UUID。将这些UUID附加到本教程中创建的资源的相应名称中。"
   ]
  },
  {
   "cell_type": "code",
   "execution_count": null,
   "metadata": {
    "id": "rheJHuCIadAL"
   },
   "outputs": [],
   "source": [
    "import random\n",
    "import string\n",
    "\n",
    "\n",
    "# Generate a uuid of a specifed length(default=8)\n",
    "def generate_uuid(length: int = 8) -> str:\n",
    "    return \"\".join(random.choices(string.ascii_lowercase + string.digits, k=length))\n",
    "\n",
    "\n",
    "UUID = generate_uuid()"
   ]
  },
  {
   "cell_type": "markdown",
   "metadata": {
    "id": "zgPO1eR3CYjk"
   },
   "source": [
    "创建一个云存储桶\n",
    "\n",
    "创建一个存储桶来存储中间产物，如数据集。"
   ]
  },
  {
   "cell_type": "code",
   "execution_count": null,
   "metadata": {
    "id": "MzGDU7TWdts_"
   },
   "outputs": [],
   "source": [
    "BUCKET_URI = f\"gs://your-bucket-name-{PROJECT_ID}-unique\"  # @param {type:\"string\"}"
   ]
  },
  {
   "cell_type": "markdown",
   "metadata": {
    "id": "-EcIXiGsCePi"
   },
   "source": [
    "如果您的存储桶尚不存在：运行以下单元格以创建您的云存储存储桶。"
   ]
  },
  {
   "cell_type": "code",
   "execution_count": null,
   "metadata": {
    "id": "NIq7R4HZCfIc"
   },
   "outputs": [],
   "source": [
    "! gsutil mb -l {LOCATION} -p {PROJECT_ID} {BUCKET_URI}"
   ]
  },
  {
   "cell_type": "markdown",
   "metadata": {
    "id": "q73OgpxyDtSk"
   },
   "source": [
    "### 导入 ai 平台"
   ]
  },
  {
   "cell_type": "code",
   "execution_count": null,
   "metadata": {
    "id": "yO4wki2xD0Ys"
   },
   "outputs": [],
   "source": [
    "import os\n",
    "\n",
    "import google.cloud.aiplatform as aiplatform"
   ]
  },
  {
   "cell_type": "markdown",
   "metadata": {
    "id": "79WoncsWbLTg"
   },
   "source": [
    "### 初始化 Python 的 Vertex AI SDK\n",
    "为您的项目和对应的存储桶初始化 Python 的 Vertex AI SDK。"
   ]
  },
  {
   "cell_type": "code",
   "execution_count": null,
   "metadata": {
    "id": "y4qLmB4WbLwo"
   },
   "outputs": [],
   "source": [
    "aiplatform.init(project=PROJECT_ID, location=LOCATION, staging_bucket=BUCKET_URI)"
   ]
  },
  {
   "cell_type": "markdown",
   "metadata": {
    "id": "4eaef8c7be0e"
   },
   "source": [
    "### 启用Artifact Registry API\n",
    "首先，您必须为您的项目启用Artifact Registry API服务。\n",
    "\n",
    "查看更多关于[启用服务页面](https://cloud.google.com/artifact-registry/docs/enable-service)的信息。"
   ]
  },
  {
   "cell_type": "code",
   "execution_count": null,
   "metadata": {
    "id": "d03035c8fb6f"
   },
   "outputs": [],
   "source": [
    "! gcloud services enable artifactregistry.googleapis.com\n",
    "\n",
    "if os.getenv(\"IS_TESTING\"):\n",
    "    ! sudo apt-get update --yes && sudo apt-get --only-upgrade --yes install google-cloud-sdk-cloud-run-proxy google-cloud-sdk-harbourbridge google-cloud-sdk-cbt google-cloud-sdk-gke-gcloud-auth-plugin google-cloud-sdk-kpt google-cloud-sdk-local-extract google-cloud-sdk-minikube google-cloud-sdk-app-engine-java google-cloud-sdk-app-engine-go google-cloud-sdk-app-engine-python google-cloud-sdk-spanner-emulator google-cloud-sdk-bigtable-emulator google-cloud-sdk-nomos google-cloud-sdk-package-go-module google-cloud-sdk-firestore-emulator kubectl google-cloud-sdk-datastore-emulator google-cloud-sdk-app-engine-python-extras google-cloud-sdk-cloud-build-local google-cloud-sdk-kubectl-oidc google-cloud-sdk-anthos-auth google-cloud-sdk-app-engine-grpc google-cloud-sdk-pubsub-emulator google-cloud-sdk-datalab google-cloud-sdk-skaffold google-cloud-sdk google-cloud-sdk-terraform-tools google-cloud-sdk-config-connector\n",
    "    ! gcloud components update --quiet\n"
   ]
  },
  {
   "cell_type": "markdown",
   "metadata": {
    "id": "hNmHMIyjBzxx"
   },
   "source": [
    "### 创建Docker存储库\n",
    "\n",
    "在您的`位置`中创建一个名为`DOCKER_REPOSITORY`的Docker存储库。\n",
    "此Docker存储库将在清理部分末尾被删除。"
   ]
  },
  {
   "cell_type": "code",
   "execution_count": null,
   "metadata": {
    "id": "iz9CUUbdBTvF"
   },
   "outputs": [],
   "source": [
    "DOCKER_REPOSITORY = \"my-docker-repo-unique\"  # @param {type:\"string\"}\n",
    "\n",
    "print(\"Docker repository to create:\", DOCKER_REPOSITORY)"
   ]
  },
  {
   "cell_type": "code",
   "execution_count": null,
   "metadata": {
    "id": "R9eQDigtC8XA"
   },
   "outputs": [],
   "source": [
    "! gcloud  artifacts repositories create  $DOCKER_REPOSITORY --project={PROJECT_ID} \\\n",
    "--repository-format=docker \\\n",
    "--location={LOCATION} --description=\"Repository for TensorBoard Custom Training Job\" "
   ]
  },
  {
   "cell_type": "code",
   "execution_count": null,
   "metadata": {
    "id": "fgHYvZlwDuAN"
   },
   "outputs": [],
   "source": [
    "! gcloud artifacts repositories list --project={PROJECT_ID}"
   ]
  },
  {
   "cell_type": "markdown",
   "metadata": {
    "id": "laaA77LsIt0c"
   },
   "source": [
    "创建一个自定义容器镜像并推送到 Artifact Registry"
   ]
  },
  {
   "cell_type": "code",
   "execution_count": null,
   "metadata": {
    "id": "AVcNnHfEKBdm"
   },
   "outputs": [],
   "source": [
    "# Create a folder for the image.\n",
    "! mkdir tb-custom-container\n",
    "%cd tb-custom-container"
   ]
  },
  {
   "cell_type": "markdown",
   "metadata": {
    "id": "jUcVG77dKmPn"
   },
   "source": [
    "创建一个训练代码\n",
    "在task.py文件中编写您自己的训练代码。您可以使用以下代码作为示例。"
   ]
  },
  {
   "cell_type": "code",
   "execution_count": null,
   "metadata": {
    "id": "7k1JDOGNKL3d"
   },
   "outputs": [],
   "source": [
    "%%writefile task.py\n",
    "\n",
    "import logging\n",
    "import os\n",
    "\n",
    "import tensorflow as tf\n",
    "import tensorflow_datasets as tfds\n",
    "\n",
    "IMG_WIDTH = 128\n",
    "\n",
    "def normalize_img(image):\n",
    "    \"\"\"Normalizes image.\n",
    "\n",
    "    * Resizes image to IMG_WIDTH x IMG_WIDTH pixels\n",
    "    * Casts values from `uint8` to `float32`\n",
    "    * Scales values from [0, 255] to [0, 1]\n",
    "\n",
    "    Returns:\n",
    "      A tensor with shape (IMG_WIDTH, IMG_WIDTH, 3). (3 color channels)\n",
    "    \"\"\"\n",
    "    image = tf.image.resize_with_pad(image, IMG_WIDTH, IMG_WIDTH)\n",
    "    return image / 255.\n",
    "\n",
    "\n",
    "def normalize_img_and_label(image, label):\n",
    "    \"\"\"Normalizes image and label.\n",
    "\n",
    "    * Performs normalize_img on image\n",
    "    * Passes through label unchanged\n",
    "\n",
    "    Returns:\n",
    "      Tuple (image, label) where\n",
    "      * image is a tensor with shape (IMG_WIDTH, IMG_WIDTH, 3). (3 color\n",
    "        channels)\n",
    "      * label is an unchanged integer [0, 4] representing flower type\n",
    "    \"\"\"\n",
    "    return normalize_img(image), label\n",
    "\n",
    "logging.info('Loading and preprocessing data ...')\n",
    "dataset = tfds.load('tf_flowers:3.*.*',\n",
    "                    split='train',\n",
    "                    try_gcs=True,\n",
    "                    shuffle_files=True,\n",
    "                    as_supervised=True)\n",
    "dataset = dataset.map(normalize_img_and_label,\n",
    "                      num_parallel_calls=tf.data.experimental.AUTOTUNE)\n",
    "dataset = dataset.cache()\n",
    "dataset = dataset.shuffle(1000)\n",
    "dataset = dataset.batch(128)\n",
    "dataset = dataset.prefetch(tf.data.experimental.AUTOTUNE)\n",
    "\n",
    "logging.info('Creating and training model ...')\n",
    "\n",
    "model = tf.keras.Sequential([\n",
    "    tf.keras.layers.Conv2D(16,\n",
    "                           3,\n",
    "                           padding='same',\n",
    "                           activation='relu',\n",
    "                           input_shape=(IMG_WIDTH, IMG_WIDTH, 3)),\n",
    "    tf.keras.layers.MaxPooling2D(),\n",
    "    tf.keras.layers.Conv2D(32, 3, padding='same', activation='relu'),\n",
    "    tf.keras.layers.MaxPooling2D(),\n",
    "    tf.keras.layers.Conv2D(64, 3, padding='same', activation='relu'),\n",
    "    tf.keras.layers.MaxPooling2D(),\n",
    "    tf.keras.layers.Flatten(),\n",
    "    tf.keras.layers.Dense(512, activation=\"relu\"),\n",
    "    tf.keras.layers.Dense(5)  # 5 classes\n",
    "])\n",
    "\n",
    "logging.info('Compiling model ...')\n",
    "model.compile(\n",
    "    optimizer='adam',\n",
    "    loss=tf.keras.losses.SparseCategoricalCrossentropy(from_logits=True),\n",
    "    metrics=['accuracy'])\n",
    "\n",
    "log_dir = \"logs\"\n",
    "if 'AIP_TENSORBOARD_LOG_DIR' in os.environ:\n",
    "  log_dir=os.environ['AIP_TENSORBOARD_LOG_DIR']\n",
    "\n",
    "tensorboard_callback = tf.keras.callbacks.TensorBoard(\n",
    "  log_dir=log_dir,\n",
    "  histogram_freq=1)\n",
    "\n",
    "logging.info('Training model ...')\n",
    "model.fit(dataset, epochs=13, callbacks=[tensorboard_callback])\n",
    "\n",
    "logging.info('Model training done')"
   ]
  },
  {
   "cell_type": "markdown",
   "metadata": {
    "id": "hvNddrgPP9bs"
   },
   "source": [
    "创建您自己的 `Dockerfile` 来指定构建容器所需的所有指令。您可以使用以下 `Dockerfile` 作为示例。"
   ]
  },
  {
   "cell_type": "code",
   "execution_count": null,
   "metadata": {
    "id": "fxi1HZbKQUKY"
   },
   "outputs": [],
   "source": [
    "%%writefile Dockerfile\n",
    "\n",
    "# Specifies base image and tag\n",
    "FROM us-docker.pkg.dev/vertex-ai/training/tf-cpu.2-8:latest\n",
    "RUN pip install tensorflow-datasets\n",
    "WORKDIR /root\n",
    "\n",
    "\n",
    "# Installs additional packages as you need.\n",
    "\n",
    "# Copies the trainer code to the docker image.\n",
    "COPY task.py /root/task.py\n",
    "\n",
    "# Sets up the entry point to invoke the trainer.\n",
    "ENTRYPOINT [\"python\", \"task.py\"]"
   ]
  },
  {
   "cell_type": "markdown",
   "metadata": {
    "id": "DK2E1xz8Q7Q-"
   },
   "source": [
    "使用 `gcloud builds` 和您的训练代码以及 `Dockerfile` 构建您的容器镜像。\n",
    "\n",
    "*请注意*，这一步骤可能需要几分钟时间。"
   ]
  },
  {
   "cell_type": "code",
   "execution_count": null,
   "metadata": {
    "id": "BvyoFJW_LJeG"
   },
   "outputs": [],
   "source": [
    "IMAGE_NAME = \"tensorboard-custom-container\"\n",
    "IMAGE_TAG = \"v1\"\n",
    "IMAGE_URI = \"{}-docker.pkg.dev/{}/{}/{}:{}\".format(\n",
    "    LOCATION, PROJECT_ID, DOCKER_REPOSITORY, IMAGE_NAME, IMAGE_TAG\n",
    ")\n",
    "\n",
    "! gcloud builds submit --project {PROJECT_ID} --region={LOCATION} --tag {IMAGE_URI} --timeout=20m"
   ]
  },
  {
   "cell_type": "markdown",
   "metadata": {
    "id": "7qXFUiHLoFRw"
   },
   "source": [
    "设置服务账号和权限\n",
    "\n",
    "服务账号用于创建自定义训练作业。如果您不想使用您项目的Compute Engine服务账号，请将SERVICE_ACCOUNT设置为另一个服务账号ID。您可以按照此[创建服务账号](https://cloud.google.com/iam/docs/creating-managing-service-accounts#creating)中的说明创建一个服务账号。"
   ]
  },
  {
   "cell_type": "code",
   "execution_count": null,
   "metadata": {
    "id": "mpKjfsXumuNV"
   },
   "outputs": [],
   "source": [
    "SERVICE_ACCOUNT = \"[your-service-account]\""
   ]
  },
  {
   "cell_type": "code",
   "execution_count": null,
   "metadata": {
    "id": "RdWLe8S_tlee"
   },
   "outputs": [],
   "source": [
    "import sys\n",
    "\n",
    "IS_COLAB = \"google.colab\" in sys.modules\n",
    "if (\n",
    "    SERVICE_ACCOUNT == \"\"\n",
    "    or SERVICE_ACCOUNT is None\n",
    "    or SERVICE_ACCOUNT == \"[your-service-account]\"\n",
    "):\n",
    "    # Get your service account from gcloud\n",
    "    if not IS_COLAB:\n",
    "        shell_output = ! gcloud auth list 2>/dev/null\n",
    "        SERVICE_ACCOUNT = shell_output[2].replace(\"*\", \"\").strip()\n",
    "\n",
    "    else:  # IS_COLAB:\n",
    "        shell_output = ! gcloud projects describe  $PROJECT_ID\n",
    "        project_number = shell_output[-1].split(\":\")[1].strip().replace(\"'\", \"\")\n",
    "        SERVICE_ACCOUNT = f\"{project_number}-compute@developer.gserviceaccount.com\"\n",
    "\n",
    "    print(\"Service Account:\", SERVICE_ACCOUNT)"
   ]
  },
  {
   "cell_type": "code",
   "execution_count": null,
   "metadata": {
    "id": "c7798d69970b"
   },
   "outputs": [],
   "source": [
    "! gsutil iam ch serviceAccount:{SERVICE_ACCOUNT}:roles/storage.objectCreator $BUCKET_URI\n",
    "\n",
    "! gsutil iam ch serviceAccount:{SERVICE_ACCOUNT}:roles/storage.objectViewer $BUCKET_URI"
   ]
  },
  {
   "cell_type": "markdown",
   "metadata": {
    "id": "svUGBOow_Obj"
   },
   "source": [
    "用您的容器创建一个自定义培训任务。\n",
    "创建一个TensorBoard实例供自定义培训任务使用。"
   ]
  },
  {
   "cell_type": "code",
   "execution_count": null,
   "metadata": {
    "id": "OAe1xJeS_X3F"
   },
   "outputs": [],
   "source": [
    "TENSORBOARD_NAME = \"[your-tensorboard-name]\"  # @param {type:\"string\"}\n",
    "\n",
    "if (\n",
    "    TENSORBOARD_NAME == \"\"\n",
    "    or TENSORBOARD_NAME is None\n",
    "    or TENSORBOARD_NAME == \"[your-tensorboard-name]\"\n",
    "):\n",
    "    TENSORBOARD_NAME = PROJECT_ID + \"-tb-\" + UUID\n",
    "\n",
    "tensorboard = aiplatform.Tensorboard.create(\n",
    "    display_name=TENSORBOARD_NAME, project=PROJECT_ID, location=LOCATION\n",
    ")\n",
    "TENSORBOARD_RESOURCE_NAME = tensorboard.gca_resource.name\n",
    "print(\"TensorBoard resource name:\", TENSORBOARD_RESOURCE_NAME)"
   ]
  },
  {
   "cell_type": "markdown",
   "metadata": {
    "id": "mudxBDal_a_k"
   },
   "source": [
    "运行以下示例请求，使用您刚构建并上传到Artifact Registry的容器来创建自己的自定义训练工作，并将训练结果流式传输到TensorBoard。"
   ]
  },
  {
   "cell_type": "code",
   "execution_count": null,
   "metadata": {
    "id": "wugHEC8czuBe"
   },
   "outputs": [],
   "source": [
    "JOB_NAME = \"tensorboard-example-job-{}\".format(UUID)\n",
    "BASE_OUTPUT_DIR = \"{}/{}\".format(BUCKET_URI, JOB_NAME)\n",
    "\n",
    "job = aiplatform.CustomContainerTrainingJob(\n",
    "    display_name=JOB_NAME,\n",
    "    container_uri=IMAGE_URI,\n",
    "    project=PROJECT_ID,\n",
    "    location=LOCATION,\n",
    "    staging_bucket=BUCKET_URI,\n",
    ")\n",
    "\n",
    "job.run(\n",
    "    machine_type=\"n1-standard-8\",\n",
    "    replica_count=1,\n",
    "    service_account=SERVICE_ACCOUNT,\n",
    "    tensorboard=TENSORBOARD_RESOURCE_NAME,\n",
    ")"
   ]
  },
  {
   "cell_type": "markdown",
   "metadata": {
    "id": "VfMsn_RnEtnj"
   },
   "source": [
    "在 Google Cloud 控制台上，您可以在 Vertex AI > 训练 > 定制作业 中监视您的训练作业。在每个定制训练作业中，可以通过`OPEN TENSORBOARD`按钮查看近实时更新的 TensorBoard。\n",
    "了解更多，请查看[查看 Vertex AI TensorBoard 数据](https://cloud.google.com/vertex-ai/docs/experiments/tensorboard-view)。"
   ]
  },
  {
   "cell_type": "markdown",
   "metadata": {
    "id": "Bmbjz-nUW7KE"
   },
   "source": [
    "清理\n",
    "\n",
    "要清理本项目中使用的所有Google Cloud资源，您可以删除用于教程的[Google Cloud项目](https://cloud.google.com/resource-manager/docs/creating-managing-projects#shutting_down_projects)。\n",
    "\n",
    "否则，**如果您在笔记本中创建了单独的资源**，可以按照以下步骤删除它们："
   ]
  },
  {
   "cell_type": "code",
   "execution_count": null,
   "metadata": {
    "id": "-LSKjrRqW-Bk"
   },
   "outputs": [],
   "source": [
    "import os\n",
    "\n",
    "# Delete docker repository.\n",
    "! gcloud artifacts repositories delete $DOCKER_REPOSITORY --project {PROJECT_ID} --location {LOCATION} --quiet\n",
    "\n",
    "# Delete TensorBoard instance.\n",
    "! gcloud ai tensorboards delete {TENSORBOARD_RESOURCE_NAME}\n",
    "\n",
    "# Delete custom job.\n",
    "job.delete()\n",
    "\n",
    "# Delete GCS bucket.\n",
    "delete_bucket = False\n",
    "if delete_bucket:\n",
    "    ! gsutil -m rm -r $BUCKET_URI"
   ]
  }
 ],
 "metadata": {
  "colab": {
   "collapsed_sections": [],
   "name": "tensorboard_custom_training_with_custom_container.ipynb",
   "toc_visible": true
  },
  "kernelspec": {
   "display_name": "Python 3",
   "name": "python3"
  }
 },
 "nbformat": 4,
 "nbformat_minor": 0
}
