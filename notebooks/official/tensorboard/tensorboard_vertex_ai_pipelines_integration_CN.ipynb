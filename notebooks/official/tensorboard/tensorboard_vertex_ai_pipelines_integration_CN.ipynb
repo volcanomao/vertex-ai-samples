{
 "cells": [
  {
   "cell_type": "code",
   "execution_count": null,
   "metadata": {
    "id": "JICNqM6hx1XC"
   },
   "outputs": [],
   "source": [
    "# Copyright 2022 Google LLC\n",
    "#\n",
    "# Licensed under the Apache License, Version 2.0 (the \"License\");\n",
    "# you may not use this file except in compliance with the License.\n",
    "# You may obtain a copy of the License at\n",
    "#\n",
    "#     https://www.apache.org/licenses/LICENSE-2.0\n",
    "#\n",
    "# Unless required by applicable law or agreed to in writing, software\n",
    "# distributed under the License is distributed on an \"AS IS\" BASIS,\n",
    "# WITHOUT WARRANTIES OR CONDITIONS OF ANY KIND, either express or implied.\n",
    "# See the License for the specific language governing permissions and\n",
    "# limitations under the License."
   ]
  },
  {
   "cell_type": "markdown",
   "metadata": {
    "id": "eBEO2w9My9py"
   },
   "source": [
    "# Vertex AI TensorBoard 集成 Vertex AI 管道\n",
    "\n",
    "<table align=\"left\">\n",
    "\n",
    "  <td style=\"text-align: center\">\n",
    "    <a href=\"https://colab.research.google.com/github/GoogleCloudPlatform/vertex-ai-samples/blob/main/notebooks/official/tensorboard/tensorboard_vertex_ai_pipelines_integration.ipynb\">\n",
    "      <img src=\"https://cloud.google.com/ml-engine/images/colab-logo-32px.png\" alt=\"Colab logo\"> <br> 在 Colab 中打开\n",
    "    </a>\n",
    "  </td>\n",
    "  <td style=\"text-align: center\">\n",
    "    <a href=\"https://console.cloud.google.com/vertex-ai/colab/import/https:%2F%2Fraw.githubusercontent.com%2FGoogleCloudPlatform%2Fvertex-ai-samples%2Fmain%2Fnotebooks%2Fofficial%2Ftensorboard%2Ftensorboard_vertex_ai_pipelines_integration.ipynb\">\n",
    "      <img width=\"32px\" src=\"https://cloud.google.com/ml-engine/images/colab-enterprise-logo-32px.png\" alt=\"Google Cloud Colab Enterprise logo\"> <br> 在 Colab Enterprise 中打开\n",
    "    </a>\n",
    "  </td>\n",
    "  <td style=\"text-align: center\">\n",
    "    <a href=\"https://github.com/GoogleCloudPlatform/vertex-ai-samples/blob/main/notebooks/official/tensorboard/tensorboard_vertex_ai_pipelines_integration.ipynb\">\n",
    "      <img src=\"https://cloud.google.com/ml-engine/images/github-logo-32px.png\" alt=\"GitHub logo\"> <br>\n",
    "      在 GitHub 上查看\n",
    "    </a>\n",
    "  </td>\n",
    "  <td style=\"text-align: center\">\n",
    "    <a href=\"https://console.cloud.google.com/vertex-ai/workbench/deploy-notebook?download_url=https://raw.githubusercontent.com/GoogleCloudPlatform/vertex-ai-samples/main/notebooks/official/tensorboard/tensorboard_vertex_ai_pipelines_integration.ipynb\">\n",
    "      <img src=\"https://lh3.googleusercontent.com/UiNooY4LUgW_oTvpsNhPpQzsstV5W8F7rYgxgGBD85cWJoLmrOzhVs_ksK_vgx40SHs7jCqkTkCk=e14-rj-sc0xffffff-h130-w32\" alt=\"Vertex AI logo\"> <br>\n",
    "      在 Vertex AI Workbench 中打开\n",
    "    </a>\n",
    "  </td>                                                                                               \n",
    "</table>"
   ]
  },
  {
   "cell_type": "markdown",
   "metadata": {
    "id": "VL7XCFV7yCBU"
   },
   "source": [
    "## 概述\n",
    "\n",
    "### 什么是 Vertex AI TensorBoard\n",
    "\n",
    "Vertex AI TensorBoard 是[开源TensorBoard](https://www.tensorflow.org/tensorboard/get_started)（TB）的企业级托管版本，TensorBoard是谷歌为机器学习实验可视化开发的开源项目。\n",
    "\n",
    "Vertex AI TensorBoard 提供各种详细的可视化，包括：\n",
    "\n",
    "*   跟踪和可视化指标，如随时间变化的损失和准确率。\n",
    "*   可视化模型计算图（操作和层）。\n",
    "*   查看随时间变化的权重、偏置或其他张量的直方图。\n",
    "*   投影嵌入到低维空间。\n",
    "*   显示图像、文本和音频样本。\n",
    "\n",
    "除了TensorBoard提供的强大可视化之外，Vertex AI TensorBoard 还提供以下优势：\n",
    "\n",
    "*  持久的、可共享的实验仪表板链接。\n",
    "\n",
    "*  项目中所有实验的可搜索列表。\n",
    "\n",
    "*  与 Vertex AI 服务的模型训练紧密集成。\n",
    "\n",
    "*  企业级安全、隐私和合规性。\n",
    "\n",
    "通过 Vertex AI TensorBoard，您可以跟踪、可视化和比较机器学习实验，并与团队共享。\n",
    "\n",
    "了解更多关于[Vertex AI TensorBoard](https://cloud.google.com/vertex-ai/docs/experiments/tensorboard-introduction)和[Vertex AI Pipelines](https://cloud.google.com/vertex-ai/docs/pipelines/introduction)。"
   ]
  },
  {
   "cell_type": "markdown",
   "metadata": {
    "id": "UE8vLw7SlpwE"
   },
   "source": [
    "### 目标\n",
    "\n",
    "在本教程中，您将学习如何使用KFP SDK创建训练管道，在Vertex AI Pipelines中执行管道，并在Vertex AI TensorBoard上实时监控培训过程。\n",
    "\n",
    "本教程使用以下谷歌云ML服务和资源：\n",
    "\n",
    "- Vertex AI训练\n",
    "- Vertex AI TensorBoard\n",
    "- Vertex AI Pipelines\n",
    "\n",
    "执行的步骤包括：\n",
    "\n",
    "* 设置服务帐户和谷歌云存储桶。\n",
    "* 使用您的自定义训练代码构建一个KFP管道。\n",
    "* 编译并在启用Tensorboard的情况下在Vertex AI Pipelines中执行KFP管道，以进行几乎实时监控。"
   ]
  },
  {
   "cell_type": "markdown",
   "metadata": {
    "id": "fbF2lF8rlp3I"
   },
   "source": [
    "数据集\n",
    "\n",
    "本教程使用的数据集将是由 TensorFlow 提供的[花卉数据集](https://www.tensorflow.org/datasets/catalog/tf_flowers)。不需要其他数据集。"
   ]
  },
  {
   "cell_type": "markdown",
   "metadata": {
    "id": "yajq2millpnu"
   },
   "source": [
    "### 成本\n",
    "\n",
    "本教程使用 Google Cloud 的计费组件：\n",
    "\n",
    "* Vertex AI\n",
    "* 云存储\n",
    "\n",
    "了解 [Vertex AI 定价](https://cloud.google.com/vertex-ai/pricing) 和 [云存储定价](https://cloud.google.com/storage/pricing)，并使用 [定价计算器](https://cloud.google.com/products/calculator/) 根据您的预期使用量生成成本估算。"
   ]
  },
  {
   "cell_type": "markdown",
   "metadata": {
    "id": "s3moH5AexXpk"
   },
   "source": [
    "## 安装\n",
    "\n",
    "安装以下所需的软件包以执行此笔记本。"
   ]
  },
  {
   "cell_type": "code",
   "execution_count": null,
   "metadata": {
    "id": "pJwxNvcA8V_c"
   },
   "outputs": [],
   "source": [
    "! pip3 install --upgrade --quiet google-cloud-aiplatform \\\n",
    "                                 google-cloud-storage \\\n",
    "                                 \"kfp<2\" \\\n",
    "                                 \"google-cloud-pipeline-components==1.0.20\""
   ]
  },
  {
   "cell_type": "markdown",
   "metadata": {
    "id": "58707a750154"
   },
   "source": [
    "### 仅适用于Colab：请取消注释以下单元格以重新启动内核。"
   ]
  },
  {
   "cell_type": "code",
   "execution_count": null,
   "metadata": {
    "id": "f200f10a1da3"
   },
   "outputs": [],
   "source": [
    "# Automatically restart kernel after installs so that your environment can access the new packages\n",
    "# import IPython\n",
    "\n",
    "# app = IPython.Application.instance()\n",
    "# app.kernel.do_shutdown(True)"
   ]
  },
  {
   "cell_type": "markdown",
   "metadata": {
    "id": "BF1j6f9HApxa"
   },
   "source": [
    "## 在开始之前\n",
    "\n",
    "### 设置您的谷歌云项目\n",
    "\n",
    "**无论您使用任何笔记本环境，都需要执行以下步骤。**\n",
    "\n",
    "1. [选择或创建一个谷歌云项目](https://console.cloud.google.com/cloud-resource-manager)。当您首次创建帐户时，您将获得300美元的免费信用额度用于计算/存储成本。\n",
    "\n",
    "2. [确保为您的项目启用了计费](https://cloud.google.com/billing/docs/how-to/modify-project)。\n",
    "\n",
    "3. [启用 Vertex AI API](https://console.cloud.google.com/flows/enableapi?apiid=aiplatform.googleapis.com)。\n",
    "\n",
    "4. 如果您是在本地运行这个笔记本，请安装 [Cloud SDK](https://cloud.google.com/sdk)。"
   ]
  },
  {
   "cell_type": "markdown",
   "metadata": {
    "id": "WReHDGG5g0XY"
   },
   "source": [
    "#### 设置您的项目ID\n",
    "\n",
    "**如果您不知道您的项目ID**，请尝试以下方法：\n",
    "* 运行 `gcloud config list`。\n",
    "* 运行 `gcloud projects list`。\n",
    "* 查看支持页面：[查找项目ID](https://support.google.com/googleapi/answer/7014113)"
   ]
  },
  {
   "cell_type": "code",
   "execution_count": null,
   "metadata": {
    "id": "oM1iC_MfAts1"
   },
   "outputs": [],
   "source": [
    "PROJECT_ID = \"[your-project-id]\"  # @param {type:\"string\"}\n",
    "\n",
    "# Set the project id\n",
    "! gcloud config set project {PROJECT_ID}"
   ]
  },
  {
   "cell_type": "markdown",
   "metadata": {
    "id": "region"
   },
   "source": [
    "设置区域\n",
    "\n",
    "**可选**：更新'REGION'变量以指定您要使用的区域。了解有关[Vertex AI区域](https://cloud.google.com/vertex-ai/docs/general/locations)的更多信息。"
   ]
  },
  {
   "cell_type": "code",
   "execution_count": null,
   "metadata": {
    "id": "nsN5NJKSu-GU"
   },
   "outputs": [],
   "source": [
    "REGION = \"us-central1\"  # @param {type: \"string\"}"
   ]
  },
  {
   "cell_type": "markdown",
   "metadata": {
    "id": "Z36ycwA4IjYC"
   },
   "source": [
    "#### UUID\n",
    "\n",
    "UUID 是通用唯一标识符（Universally Unique Identifier）的简称，是一种用于识别信息的标准化方法。"
   ]
  },
  {
   "cell_type": "markdown",
   "metadata": {
    "id": "MngMavafIrQa"
   },
   "source": [
    "如果您正在进行实时教程，您可能正在使用共享的测试账户或项目。\n",
    "为了避免用户之间资源命名相冲突，为每个实例会话创建一个通用唯一标识符（UUID）。\n",
    "在本教程中创建的资源名称后附加UUID。"
   ]
  },
  {
   "cell_type": "code",
   "execution_count": null,
   "metadata": {
    "id": "uddA3D7yIn-L"
   },
   "outputs": [],
   "source": [
    "import random\n",
    "import string\n",
    "\n",
    "\n",
    "# Generate a uuid of a specifed length(default=8)\n",
    "def generate_uuid(length: int = 8) -> str:\n",
    "    return \"\".join(random.choices(string.ascii_lowercase + string.digits, k=length))\n",
    "\n",
    "\n",
    "UUID = generate_uuid()"
   ]
  },
  {
   "cell_type": "markdown",
   "metadata": {
    "id": "sBCra4QMA2wR"
   },
   "source": [
    "### 验证您的Google云账户\n",
    "\n",
    "要验证您的Google云账户，请按照您的Jupyter环境的指示进行操作。"
   ]
  },
  {
   "cell_type": "markdown",
   "metadata": {
    "id": "74ccc9e52986"
   },
   "source": [
    "**Vertex AI 工作台**\n",
    "<br>您已经通过身份验证。"
   ]
  },
  {
   "cell_type": "markdown",
   "metadata": {
    "id": "de775a3773ba"
   },
   "source": [
    "本地JupyterLab实例\n",
    "取消注释并运行以下代码："
   ]
  },
  {
   "cell_type": "code",
   "execution_count": null,
   "metadata": {
    "id": "254614fa0c46"
   },
   "outputs": [],
   "source": [
    "# ! gcloud auth login"
   ]
  },
  {
   "cell_type": "markdown",
   "metadata": {
    "id": "ef21552ccea8"
   },
   "source": [
    "* **Colab**\n",
    "<br>取消注释并运行以下代码："
   ]
  },
  {
   "cell_type": "code",
   "execution_count": null,
   "metadata": {
    "id": "603adbbf0532"
   },
   "outputs": [],
   "source": [
    "# from google.colab import auth\n",
    "\n",
    "# auth.authenticate_user()"
   ]
  },
  {
   "cell_type": "markdown",
   "metadata": {
    "id": "c13224697bfb"
   },
   "source": [
    "请查看如何在https://cloud.google.com/storage/docs/gsutil/commands/iam#ch-examples上为您的服务帐户授予云存储权限。"
   ]
  },
  {
   "cell_type": "markdown",
   "metadata": {
    "id": "zgPO1eR3CYjk"
   },
   "source": [
    "### 创建一个云存储桶\n",
    "\n",
    "创建一个存储桶来存储中间产物，例如数据集。"
   ]
  },
  {
   "cell_type": "code",
   "execution_count": null,
   "metadata": {
    "id": "MzGDU7TWdts_"
   },
   "outputs": [],
   "source": [
    "BUCKET_URI = f\"gs://your-bucket-name-{PROJECT_ID}-unique\"  # @param {type:\"string\"}"
   ]
  },
  {
   "cell_type": "markdown",
   "metadata": {
    "id": "create_bucket"
   },
   "source": [
    "如果您的存储桶尚不存在： 运行以下单元格以创建您的云存储存储桶。"
   ]
  },
  {
   "cell_type": "code",
   "execution_count": null,
   "metadata": {
    "id": "NIq7R4HZCfIc"
   },
   "outputs": [],
   "source": [
    "! gsutil mb -l {REGION} -p {PROJECT_ID} {BUCKET_URI}"
   ]
  },
  {
   "cell_type": "markdown",
   "metadata": {
    "id": "hwXxa4Qgnh4Y"
   },
   "source": [
    "设置服务账号和权限"
   ]
  },
  {
   "cell_type": "markdown",
   "metadata": {
    "id": "7qXFUiHLoFRw"
   },
   "source": [
    "一个服务账户用来创建自定义培训任务。如果你不想使用项目的计算引擎服务账户，请将SERVICE_ACCOUNT设置为另一个服务账户ID。你可以按照文档指示创建一个服务账户。 (https://cloud.google.com/iam/docs/creating-managing-service-accounts#creating)。"
   ]
  },
  {
   "cell_type": "code",
   "execution_count": null,
   "metadata": {
    "id": "mpKjfsXumuNV"
   },
   "outputs": [],
   "source": [
    "SERVICE_ACCOUNT = \"[your-service-account]\"  # @param {type:\"string\"}"
   ]
  },
  {
   "cell_type": "code",
   "execution_count": null,
   "metadata": {
    "id": "QbotjwtqKcX4"
   },
   "outputs": [],
   "source": [
    "import sys\n",
    "\n",
    "IS_COLAB = \"google.colab\" in sys.modules\n",
    "if (\n",
    "    SERVICE_ACCOUNT == \"\"\n",
    "    or SERVICE_ACCOUNT is None\n",
    "    or SERVICE_ACCOUNT == \"[your-service-account]\"\n",
    "):\n",
    "    # Get your service account from gcloud\n",
    "    if not IS_COLAB:\n",
    "        shell_output = ! gcloud auth list 2>/dev/null\n",
    "        SERVICE_ACCOUNT = shell_output[2].replace(\"*\", \"\").strip()\n",
    "\n",
    "    else:  # IS_COLAB:\n",
    "        shell_output = ! gcloud projects describe  $PROJECT_ID\n",
    "        project_number = shell_output[-1].split(\":\")[1].strip().replace(\"'\", \"\")\n",
    "        SERVICE_ACCOUNT = f\"{project_number}-compute@developer.gserviceaccount.com\"\n",
    "\n",
    "    print(\"Service Account:\", SERVICE_ACCOUNT)"
   ]
  },
  {
   "cell_type": "code",
   "execution_count": null,
   "metadata": {
    "id": "UlDhuciOt5vo"
   },
   "outputs": [],
   "source": [
    "# Grant Cloud Storage permission.\n",
    "! gcloud projects add-iam-policy-binding $PROJECT_ID \\\n",
    "    --member=serviceAccount:$SERVICE_ACCOUNT \\\n",
    "    --role=roles/storage.admin \\\n",
    "    --quiet"
   ]
  },
  {
   "cell_type": "code",
   "execution_count": null,
   "metadata": {
    "id": "lTKVB71soRyr"
   },
   "outputs": [],
   "source": [
    "# Grant AI Platform permission.\n",
    "! gcloud projects add-iam-policy-binding $PROJECT_ID \\\n",
    "    --member=serviceAccount:$SERVICE_ACCOUNT \\\n",
    "    --role=roles/aiplatform.user \\\n",
    "    --quiet"
   ]
  },
  {
   "cell_type": "markdown",
   "metadata": {
    "id": "KIPcg_Xhwvsn"
   },
   "source": [
    "### 导入ai平台"
   ]
  },
  {
   "cell_type": "code",
   "execution_count": null,
   "metadata": {
    "id": "f575a6de11a2"
   },
   "outputs": [],
   "source": [
    "import google.cloud.aiplatform as aiplatform"
   ]
  },
  {
   "cell_type": "markdown",
   "metadata": {
    "id": "cVmlv9sRbCSs"
   },
   "source": [
    "初始化用于Python的Vertex AI SDK\n",
    "为您的项目和相应的存储桶初始化用于Python的Vertex AI SDK。"
   ]
  },
  {
   "cell_type": "code",
   "execution_count": null,
   "metadata": {
    "id": "8db107280f6a"
   },
   "outputs": [],
   "source": [
    "aiplatform.init(project=PROJECT_ID, location=REGION, staging_bucket=BUCKET_URI)"
   ]
  },
  {
   "cell_type": "markdown",
   "metadata": {
    "id": "HTuoRei4kSiY"
   },
   "source": [
    "将以下常量设置为 Vertex AI Pipelines 常量："
   ]
  },
  {
   "cell_type": "code",
   "execution_count": null,
   "metadata": {
    "id": "1ptZBOHFkdk2"
   },
   "outputs": [],
   "source": [
    "PIPELINE_ROOT = \"{}/tensorboard-pipeline-integration/pipeline_root/\".format(BUCKET_URI)\n",
    "BASE_OUTPUT_DIR = \"{}/pipeline-output/tensorboard-pipeline-integration-{}\".format(\n",
    "    BUCKET_URI, UUID\n",
    ")"
   ]
  },
  {
   "cell_type": "markdown",
   "metadata": {
    "id": "K2kY3l8zkgvd"
   },
   "source": [
    "额外的进口。"
   ]
  },
  {
   "cell_type": "code",
   "execution_count": null,
   "metadata": {
    "id": "3z_Z5xhvkmzn"
   },
   "outputs": [],
   "source": [
    "from google_cloud_pipeline_components.v1.custom_job.utils import \\\n",
    "    create_custom_training_job_op_from_component\n",
    "from kfp.v2 import dsl\n",
    "from kfp.v2.dsl import component"
   ]
  },
  {
   "cell_type": "markdown",
   "metadata": {
    "id": "IaQjIPvuKLwW"
   },
   "source": [
    "创建一个Vertex AI Tensorboard实例"
   ]
  },
  {
   "cell_type": "markdown",
   "metadata": {
    "id": "svUGBOow_Obj"
   },
   "source": [
    "创建一个供Pipeline使用的TensorBoard实例。"
   ]
  },
  {
   "cell_type": "code",
   "execution_count": null,
   "metadata": {
    "id": "OAe1xJeS_X3F"
   },
   "outputs": [],
   "source": [
    "TENSORBOARD_NAME = \"[your-tensorboard-name]\"  # @param {type:\"string\"}\n",
    "\n",
    "if (\n",
    "    TENSORBOARD_NAME == \"\"\n",
    "    or TENSORBOARD_NAME is None\n",
    "    or TENSORBOARD_NAME == \"[your-tensorboard-name]\"\n",
    "):\n",
    "    TENSORBOARD_NAME = PROJECT_ID + \"-tb-\" + UUID\n",
    "\n",
    "tensorboard = aiplatform.Tensorboard.create(\n",
    "    display_name=TENSORBOARD_NAME, project=PROJECT_ID, location=REGION\n",
    ")\n",
    "TENSORBOARD_RESOURCE_NAME = tensorboard.gca_resource.name\n",
    "print(\"TensorBoard resource name:\", TENSORBOARD_RESOURCE_NAME)"
   ]
  },
  {
   "cell_type": "markdown",
   "metadata": {
    "id": "dR2mOCllvlqN"
   },
   "source": [
    "## 定义基于函数的 Python 管道训练器组件\n",
    "在本教程中，您将定义基于函数的组件来训练模型。\n",
    "训练代码被包装为一个在 Vertex AI Pipeline 中运行的 KFP 组件。\n",
    "\n",
    "您的训练代码必须配置为将 TensorBoard 日志写入 Cloud Storage 存储桶，\n",
    "Vertex AI 训练服务会自动使用预定义的环境变量 `AIP_TENSORBOARD_LOG_DIR` 提供存储位置。\n",
    "\n",
    "通常可以通过提供 `os.environ['AIP_TENSORBOARD_LOG_DIR']` 作为用于写入开源 TensorBoard 日志的日志目录来实现此目标。\n",
    "\n",
    "例如，在 TensorFlow 2.x 中，您可以使用以下代码创建一个 `tensorboard_callback`：\n",
    "```\n",
    "tensorboard_callback = tf.keras.callbacks.TensorBoard(\n",
    "  log_dir=os.environ['AIP_TENSORBOARD_LOG_DIR'],\n",
    "  histogram_freq=1)\n",
    "```\n",
    "并将回调函数添加到 model.fit(...) 中\n",
    "```\n",
    "# 前面的代码\n",
    "model.compile(...)\n",
    "\n",
    "tensorboard_callback = tf.keras.callbacks.TensorBoard(\n",
    "  log_dir=os.environ['AIP_TENSORBOARD_LOG_DIR'],\n",
    "  histogram_freq=1)\n",
    "  \n",
    "model.fit(dataset, epochs=10, callbacks=[tensorboard_callback])\n",
    "```"
   ]
  },
  {
   "cell_type": "code",
   "execution_count": null,
   "metadata": {
    "id": "Ozt73at8mDOb"
   },
   "outputs": [],
   "source": [
    "@component(\n",
    "    base_image=\"tensorflow/tensorflow:latest\",\n",
    "    packages_to_install=[\"tensorflow_datasets\"],\n",
    ")\n",
    "def trainer(tb_log_dir_env_var: str = \"AIP_TENSORBOARD_LOG_DIR\"):\n",
    "    \"\"\"Training component.\"\"\"\n",
    "    import logging\n",
    "    import os\n",
    "\n",
    "    import tensorflow as tf\n",
    "    import tensorflow_datasets as tfds\n",
    "\n",
    "    IMG_WIDTH = 128\n",
    "\n",
    "    def normalize_img(image):\n",
    "        \"\"\"Normalizes image.\n",
    "\n",
    "        * Resizes image to IMG_WIDTH x IMG_WIDTH pixels\n",
    "        * Casts values from `uint8` to `float32`\n",
    "        * Scales values from [0, 255] to [0, 1]\n",
    "\n",
    "        Returns:\n",
    "          A tensor with shape (IMG_WIDTH, IMG_WIDTH, 3). (3 color channels)\n",
    "        \"\"\"\n",
    "        image = tf.image.resize_with_pad(image, IMG_WIDTH, IMG_WIDTH)\n",
    "        return image / 255.0\n",
    "\n",
    "    def normalize_img_and_label(image, label):\n",
    "        \"\"\"Normalizes image and label.\n",
    "\n",
    "        * Performs normalize_img on image\n",
    "        * Passes through label unchanged\n",
    "\n",
    "        Returns:\n",
    "          Tuple (image, label) where\n",
    "          * image is a tensor with shape (IMG_WIDTH, IMG_WIDTH, 3). (3 color\n",
    "            channels)\n",
    "          * label is an unchanged integer [0, 4] representing flower type\n",
    "        \"\"\"\n",
    "        return normalize_img(image), label\n",
    "\n",
    "    if \"AIP_MODEL_DIR\" not in os.environ:\n",
    "        raise KeyError(\n",
    "            \"The `AIP_MODEL_DIR` environment variable has not been\"\n",
    "            + \"set. See https://cloud.google.com/ai-platform-unified/docs/tutorials/image-recognition-custom/training\"\n",
    "        )\n",
    "    output_directory = os.environ[\"AIP_MODEL_DIR\"]\n",
    "\n",
    "    logging.info(\"Loading and preprocessing data ...\")\n",
    "    dataset = tfds.load(\n",
    "        \"tf_flowers:3.*.*\",\n",
    "        split=\"train\",\n",
    "        try_gcs=True,\n",
    "        shuffle_files=True,\n",
    "        as_supervised=True,\n",
    "    )\n",
    "    dataset = dataset.map(\n",
    "        normalize_img_and_label, num_parallel_calls=tf.data.experimental.AUTOTUNE\n",
    "    )\n",
    "    dataset = dataset.cache()\n",
    "    dataset = dataset.shuffle(1000)\n",
    "    dataset = dataset.batch(128)\n",
    "    dataset = dataset.prefetch(tf.data.experimental.AUTOTUNE)\n",
    "\n",
    "    logging.info(\"Creating and training model ...\")\n",
    "    model = tf.keras.Sequential(\n",
    "        [\n",
    "            tf.keras.layers.Conv2D(\n",
    "                16,\n",
    "                3,\n",
    "                padding=\"same\",\n",
    "                activation=\"relu\",\n",
    "                input_shape=(IMG_WIDTH, IMG_WIDTH, 3),\n",
    "            ),\n",
    "            tf.keras.layers.MaxPooling2D(),\n",
    "            tf.keras.layers.Conv2D(32, 3, padding=\"same\", activation=\"relu\"),\n",
    "            tf.keras.layers.MaxPooling2D(),\n",
    "            tf.keras.layers.Conv2D(64, 3, padding=\"same\", activation=\"relu\"),\n",
    "            tf.keras.layers.MaxPooling2D(),\n",
    "            tf.keras.layers.Flatten(),\n",
    "            tf.keras.layers.Dense(512, activation=\"relu\"),\n",
    "            tf.keras.layers.Dense(5),  # 5 classes\n",
    "        ]\n",
    "    )\n",
    "    model.compile(\n",
    "        optimizer=\"adam\",\n",
    "        loss=tf.keras.losses.SparseCategoricalCrossentropy(from_logits=True),\n",
    "        metrics=[\"accuracy\"],\n",
    "    )\n",
    "\n",
    "    # Create a TensorBoard call back and write to the gcs path provided by AIP_TENSORBOARD_LOG_DIR\n",
    "    tensorboard_callback = tf.keras.callbacks.TensorBoard(\n",
    "        log_dir=os.environ[tb_log_dir_env_var], histogram_freq=1\n",
    "    )\n",
    "\n",
    "    # Train the model with tensorboard_callback\n",
    "    model.fit(dataset, epochs=14, callbacks=[tensorboard_callback])\n",
    "\n",
    "    logging.info(f\"Exporting SavedModel to: {output_directory}\")\n",
    "    # Add softmax layer for intepretability\n",
    "    probability_model = tf.keras.Sequential([model, tf.keras.layers.Softmax()])\n",
    "    probability_model.save(output_directory)"
   ]
  },
  {
   "cell_type": "markdown",
   "metadata": {
    "id": "HROisA3gn3lU"
   },
   "source": [
    "定义一个使用您的组件的管道\n",
    "\n",
    "接下来，定义一个使用在上一节中构建的组件的管道。\n",
    "\n",
    "`create_custom_training_job_op_from_component`函数将给定的组件转换为 Vertex AI 中的定制训练作业（`CustomTrainingJobOp`）。"
   ]
  },
  {
   "cell_type": "code",
   "execution_count": null,
   "metadata": {
    "id": "9SD3m-RYoamk"
   },
   "outputs": [],
   "source": [
    "@dsl.pipeline(\n",
    "    # Default pipeline root. You can override it when submitting the pipeline.\n",
    "    pipeline_root=PIPELINE_ROOT,\n",
    "    # A name for the pipeline. Use to determine the pipeline Context.\n",
    "    name=\"tb-pipeline-integration\",\n",
    ")\n",
    "def pipeline():\n",
    "    custom_job_op = create_custom_training_job_op_from_component(\n",
    "        trainer,\n",
    "        tensorboard=TENSORBOARD_RESOURCE_NAME,\n",
    "        base_output_directory=BASE_OUTPUT_DIR,\n",
    "        service_account=SERVICE_ACCOUNT,\n",
    "    )\n",
    "    custom_job_op(project=PROJECT_ID, location=REGION)"
   ]
  },
  {
   "cell_type": "markdown",
   "metadata": {
    "id": "9KRh3pHnsbO3"
   },
   "source": [
    "编译管道。"
   ]
  },
  {
   "cell_type": "code",
   "execution_count": null,
   "metadata": {
    "id": "oB4DI1E9seRe"
   },
   "outputs": [],
   "source": [
    "from kfp.v2 import compiler  # noqa: F811\n",
    "\n",
    "compiler.Compiler().compile(\n",
    "    pipeline_func=pipeline, package_path=\"tensorboard-pipeline-integration.json\"\n",
    ")"
   ]
  },
  {
   "cell_type": "markdown",
   "metadata": {
    "id": "ApRbxsjF0Qi-"
   },
   "source": [
    "运行管道\n",
    "\n",
    "接下来，运行管道。"
   ]
  },
  {
   "cell_type": "code",
   "execution_count": null,
   "metadata": {
    "id": "g9mnleE20RlN"
   },
   "outputs": [],
   "source": [
    "DISPLAY_NAME = \"tb-pipeline-integration_\" + UUID\n",
    "\n",
    "job = aiplatform.PipelineJob(\n",
    "    display_name=DISPLAY_NAME,\n",
    "    template_path=\"tensorboard-pipeline-integration.json\",\n",
    "    pipeline_root=PIPELINE_ROOT,\n",
    ")\n",
    "\n",
    "job.run()\n",
    "\n",
    "! rm tensorboard-pipeline-integration.json"
   ]
  },
  {
   "cell_type": "markdown",
   "metadata": {
    "id": "abBEtkyw4xxq"
   },
   "source": [
    "检查训练日志\n",
    "\n",
    "Vertex AI TensorBoard网络应用程序提供了与Vertex AI TensorBoard实验相关的日志的可视化。该网络应用程序提供了多个工具和仪表板，以可视化和比较实验运行中的数据。\n",
    "\n",
    "了解更多，请参阅[查看Vertex AI TensorBoard数据](https://cloud.google.com/vertex-ai/docs/experiments/tensorboard-view)。"
   ]
  },
  {
   "cell_type": "markdown",
   "metadata": {
    "id": "TFEriiywMZga"
   },
   "source": [
    "清理\n",
    "\n",
    "要清理此项目中使用的所有Google Cloud资源，您可以删除用于教程的[Google Cloud项目](https://cloud.google.com/resource-manager/docs/creating-managing-projects#shutting_down_projects)。\n",
    "\n",
    "否则，**如果您在笔记本中创建了单独的资源**，您可以按以下方式删除这些资源："
   ]
  },
  {
   "cell_type": "code",
   "execution_count": null,
   "metadata": {
    "id": "O1Je2JZTMoMg"
   },
   "outputs": [],
   "source": [
    "# Delete GCS bucket.\n",
    "! gsutil -m rm -r {BUCKET_URI}\n",
    "\n",
    "# Delete TensorBoard instance.\n",
    "! gcloud ai tensorboards delete {TENSORBOARD_RESOURCE_NAME}\n",
    "\n",
    "# Delete custom job.\n",
    "job.delete()"
   ]
  }
 ],
 "metadata": {
  "colab": {
   "collapsed_sections": [],
   "name": "tensorboard_vertex_ai_pipelines_integration.ipynb",
   "toc_visible": true
  },
  "kernelspec": {
   "display_name": "Python 3",
   "name": "python3"
  }
 },
 "nbformat": 4,
 "nbformat_minor": 0
}
