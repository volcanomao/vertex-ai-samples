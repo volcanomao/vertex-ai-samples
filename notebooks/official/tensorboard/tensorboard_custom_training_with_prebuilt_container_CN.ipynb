{
 "cells": [
  {
   "cell_type": "code",
   "execution_count": null,
   "metadata": {
    "id": "JICNqM6hx1XC"
   },
   "outputs": [],
   "source": [
    "# Copyright 2022 Google LLC\n",
    "#\n",
    "# Licensed under the Apache License, Version 2.0 (the \"License\");\n",
    "# you may not use this file except in compliance with the License.\n",
    "# You may obtain a copy of the License at\n",
    "#\n",
    "#     https://www.apache.org/licenses/LICENSE-2.0\n",
    "#\n",
    "# Unless required by applicable law or agreed to in writing, software\n",
    "# distributed under the License is distributed on an \"AS IS\" BASIS,\n",
    "# WITHOUT WARRANTIES OR CONDITIONS OF ANY KIND, either express or implied.\n",
    "# See the License for the specific language governing permissions and\n",
    "# limitations under the License."
   ]
  },
  {
   "cell_type": "markdown",
   "metadata": {
    "id": "eBEO2w9My9py"
   },
   "source": [
    "# Vertex AI TensorBoard预构建容器进行自定义训练\n",
    "\n",
    "<table align=\"left\">\n",
    "  <td>\n",
    "    <a href=\"https://colab.research.google.com/github/GoogleCloudPlatform/vertex-ai-samples/blob/main/notebooks/official/tensorboard/tensorboard_custom_training_with_prebuilt_container.ipynb\">\n",
    "      <img src=\"https://cloud.google.com/ml-engine/images/colab-logo-32px.png\" alt=\"Colab logo\"> 在Colab中运行\n",
    "    </a>\n",
    "  </td>\n",
    "  <td>\n",
    "    <a href=\"https://github.com/GoogleCloudPlatform/vertex-ai-samples/blob/main/notebooks/official/tensorboard/tensorboard_custom_training_with_prebuilt_container.ipynb\">\n",
    "      <img src=\"https://cloud.google.com/ml-engine/images/github-logo-32px.png\" alt=\"GitHub logo\">\n",
    "      在GitHub上查看\n",
    "    </a>\n",
    "  </td>\n",
    "  <td>\n",
    "    <a href=\"https://console.cloud.google.com/vertex-ai/workbench/deploy-notebook?download_url=https://raw.githubusercontent.com/GoogleCloudPlatform/vertex-ai-samples/main/notebooks/official/tensorboard/tensorboard_custom_training_with_prebuilt_container.ipynb\">\n",
    "        <img src=\"https://lh3.googleusercontent.com/UiNooY4LUgW_oTvpsNhPpQzsstV5W8F7rYgxgGBD85cWJoLmrOzhVs_ksK_vgx40SHs7jCqkTkCk=e14-rj-sc0xffffff-h130-w32\" alt=\"Vertex AI logo\">\n",
    "      在Vertex AI Workbench中打开\n",
    "    </a>\n",
    "  </td>\n",
    "</table>\n",
    "<br/><br/><br/>"
   ]
  },
  {
   "cell_type": "markdown",
   "metadata": {
    "id": "VL7XCFV7yCBU"
   },
   "source": [
    "## 概述\n",
    "\n",
    "### 什么是Vertex AI TensorBoard\n",
    "\n",
    "Vertex AI TensorBoard是一个经过企业级管理的版本，是[开源TensorBoard](https://www.tensorflow.org/tensorboard/get_started) (TB)的一个Google开源项目，用于机器学习实验可视化。\n",
    "\n",
    "Vertex AI TensorBoard提供了各种详细的可视化功能，包括：\n",
    "\n",
    "* 跟踪和可视化指标，如损失和准确率随时间变化，\n",
    "* 可视化模型计算图（操作和层），\n",
    "* 查看权重、偏置或其他张量随时间变化的直方图，\n",
    "* 投影嵌入到较低维度空间，\n",
    "* 显示图像、文本和音频样本。\n",
    "\n",
    "除了来自TensorBoard的强大可视化功能外，Vertex AI TensorBoard还提供：\n",
    "\n",
    "* 实验仪表板的持久、可共享链接，\n",
    "* 项目中所有实验的可搜索列表，\n",
    "* 与Vertex AI服务紧密集成，用于模型训练，\n",
    "* 企业级的安全性、隐私性和合规性。\n",
    "\n",
    "使用Vertex AI TensorBoard，您可以跟踪、可视化和比较机器学习实验，并与团队共享。\n",
    "\n",
    "了解更多关于[Vertex AI TensorBoard](https://cloud.google.com/vertex-ai/docs/experiments/tensorboard-introduction)和[自定义训练](https://cloud.google.com/vertex-ai/docs/training/overview)的信息。"
   ]
  },
  {
   "cell_type": "markdown",
   "metadata": {
    "id": "UE8vLw7SlpwE"
   },
   "source": [
    "### 目标\n",
    "\n",
    "在本教程中，您将学习如何使用预先构建的容器创建自定义训练作业，并在 Vertex AI TensorBoard 上实时监控您的训练过程。\n",
    "\n",
    "本教程使用以下 Google Cloud ML 服务和资源：\n",
    "\n",
    "- Vertex AI 训练\n",
    "- Vertex AI TensorBoard\n",
    "\n",
    "执行的步骤包括：\n",
    "\n",
    "* 设置服务账号和 Google Cloud Storage 存储桶。\n",
    "* 编写您的定制训练代码。\n",
    "* 打包并上传您的训练代码至 Google Cloud Storage。\n",
    "* 创建并启动启用 Tensorboard 的自定义训练作业，以进行实时监控。"
   ]
  },
  {
   "cell_type": "markdown",
   "metadata": {
    "id": "fbF2lF8rlp3I"
   },
   "source": [
    "数据集\n",
    "\n",
    "本教程中使用的数据集是由TensorFlow提供的[花卉数据集]。不需要其他数据集。"
   ]
  },
  {
   "cell_type": "markdown",
   "metadata": {
    "id": "yajq2millpnu"
   },
   "source": [
    "### 成本\n",
    "\n",
    "本教程使用 Google Cloud 的收费组件：\n",
    "\n",
    "* Vertex AI\n",
    "* Cloud Storage\n",
    "\n",
    "了解 [Vertex AI 定价](https://cloud.google.com/vertex-ai/pricing) 和 [Cloud Storage 定价](https://cloud.google.com/storage/pricing)，并使用 [定价计算器](https://cloud.google.com/products/calculator/) 根据您预期的使用情况生成成本估算。"
   ]
  },
  {
   "cell_type": "markdown",
   "metadata": {
    "id": "s3moH5AexXpk"
   },
   "source": [
    "### 安装额外的软件包\n",
    "\n",
    "安装以下软件包以执行此笔记本所需的功能。"
   ]
  },
  {
   "cell_type": "code",
   "execution_count": null,
   "metadata": {
    "id": "pJwxNvcA8V_c"
   },
   "outputs": [],
   "source": [
    "! pip3 install --upgrade --quiet google-cloud-aiplatform "
   ]
  },
  {
   "cell_type": "markdown",
   "metadata": {
    "id": "restart"
   },
   "source": [
    "###仅限Colab：取消注释以下单元格以重新启动内核。"
   ]
  },
  {
   "cell_type": "code",
   "execution_count": null,
   "metadata": {
    "id": "bzPxhxS5lugp"
   },
   "outputs": [],
   "source": [
    "# Automatically restart kernel after installs so that your environment can access the new packages\n",
    "# import IPython\n",
    "\n",
    "# app = IPython.Application.instance()\n",
    "# app.kernel.do_shutdown(True)"
   ]
  },
  {
   "cell_type": "markdown",
   "metadata": {
    "id": "d2qpIurSjmpT"
   },
   "source": [
    "## 开始之前\n",
    "\n",
    "### 设置您的谷歌云项目\n",
    "\n",
    "**无论您使用的是哪种笔记本环境，以下步骤都是必需的。**\n",
    "\n",
    "1. [选择或创建一个谷歌云项目](https://console.cloud.google.com/cloud-resource-manager).\n",
    "\n",
    "2. [确保您的项目已启用计费](https://cloud.google.com/billing/docs/how-to/modify-project).\n",
    "\n",
    "3. [启用以下 API：Vertex AI API, Cloud Resource Manager API](https://console.cloud.google.com/flows/enableapi?apiid=aiplatform.googleapis.com,cloudresourcemanager.googleapis.com).\n",
    "\n",
    "4. 如果您在本地运行此笔记本，您需要安装[Cloud SDK](https://cloud.google.com/sdk)."
   ]
  },
  {
   "cell_type": "markdown",
   "metadata": {
    "id": "project_id"
   },
   "source": [
    "#### 设置您的项目ID\n",
    "\n",
    "**如果您不知道您的项目ID**，请尝试以下操作：\n",
    "* 运行 `gcloud config list`。\n",
    "* 运行 `gcloud projects list`。\n",
    "* 查看支持页面：[查找项目ID](https://support.google.com/googleapi/answer/7014113)"
   ]
  },
  {
   "cell_type": "code",
   "execution_count": null,
   "metadata": {
    "id": "wsePm9c4jmpT"
   },
   "outputs": [],
   "source": [
    "PROJECT_ID = \"[your-project-id]\"  # @param {type:\"string\"}\n",
    "\n",
    "# Set the project id\n",
    "! gcloud config set project {PROJECT_ID}"
   ]
  },
  {
   "cell_type": "markdown",
   "metadata": {
    "id": "a54f9d7c1876"
   },
   "source": [
    "### 地区\n",
    "\n",
    "您也可以更改 Vertex AI 使用的“REGION”变量。了解有关 [Vertex AI 区域](https://cloud.google.com/vertex-ai/docs/general/locations)的更多信息。"
   ]
  },
  {
   "cell_type": "code",
   "execution_count": null,
   "metadata": {
    "id": "3aaadaaf9b30"
   },
   "outputs": [],
   "source": [
    "REGION = \"us-central1\"  # @param {type: \"string\"}"
   ]
  },
  {
   "cell_type": "markdown",
   "metadata": {
    "id": "5c0404984792"
   },
   "source": [
    "### 验证您的Google Cloud账户\n",
    "\n",
    "根据您的Jupyter环境，您可能需要手动验证。请按照下面的相关说明进行操作。\n",
    "\n",
    "**1. Vertex AI Workbench**\n",
    "* 无需操作，因为您已经通过验证。\n",
    "\n",
    "**2. 本地JupyterLab实例，请取消注释并运行：**"
   ]
  },
  {
   "cell_type": "code",
   "execution_count": null,
   "metadata": {
    "id": "Nt8cEM2GjmpU"
   },
   "outputs": [],
   "source": [
    "# ! gcloud auth login"
   ]
  },
  {
   "cell_type": "markdown",
   "metadata": {
    "id": "XUSL_JcpjmpU"
   },
   "source": [
    "3. 合作，取消注释并运行:"
   ]
  },
  {
   "cell_type": "code",
   "execution_count": null,
   "metadata": {
    "id": "_2zemfGvjmpU"
   },
   "outputs": [],
   "source": [
    "# from google.colab import auth\n",
    "# auth.authenticate_user()"
   ]
  },
  {
   "cell_type": "markdown",
   "metadata": {
    "id": "TCPJ38n7jmpU"
   },
   "source": [
    "4. 服务账户或其他\n",
    "* 请查看如何在https://cloud.google.com/storage/docs/gsutil/commands/iam#ch-examples为您的服务账户授予Cloud Storage权限。"
   ]
  },
  {
   "cell_type": "markdown",
   "metadata": {
    "id": "bucket:custom"
   },
   "source": [
    "### 创建一个云存储桶\n",
    "\n",
    "创建一个存储桶来存储诸如数据集等中间产物。\n",
    "\n",
    "当您使用Cloud SDK提交一个训练作业时，您会将包含训练代码的Python软件包上传到一个云存储桶中。Vertex AI会从这个软件包中运行代码。在本教程中，Vertex AI还会将您作业产生的训练模型保存在同一个存储桶中。通过使用这个模型产物，您可以创建一个Vertex AI模型资源，并用于预测。"
   ]
  },
  {
   "cell_type": "code",
   "execution_count": null,
   "metadata": {
    "id": "bucket"
   },
   "outputs": [],
   "source": [
    "BUCKET_URI = f\"gs://your-bucket-name-{PROJECT_ID}-unique\"  # @param {type:\"string\"}"
   ]
  },
  {
   "cell_type": "markdown",
   "metadata": {
    "id": "create_bucket"
   },
   "source": [
    "如果您的存储桶尚不存在：运行以下单元格以创建您的云存储存储桶。"
   ]
  },
  {
   "cell_type": "code",
   "execution_count": null,
   "metadata": {
    "id": "Oz8J0vmSlugt"
   },
   "outputs": [],
   "source": [
    "! gsutil mb -l $REGION -p $PROJECT_ID $BUCKET_URI"
   ]
  },
  {
   "cell_type": "markdown",
   "metadata": {
    "id": "hwXxa4Qgnh4Y"
   },
   "source": [
    "设置服务账户和权限##"
   ]
  },
  {
   "cell_type": "markdown",
   "metadata": {
    "id": "7qXFUiHLoFRw"
   },
   "source": [
    "一个服务账号用来创建自定义的训练作业。如果您不想使用您项目的Compute Engine服务账号，请将SERVICE_ACCOUNT设置为另一个服务账号ID。您可以通过按照 [说明](https://cloud.google.com/iam/docs/creating-managing-service-accounts#creating) 创建一个服务账号。"
   ]
  },
  {
   "cell_type": "code",
   "execution_count": null,
   "metadata": {
    "id": "mpKjfsXumuNV"
   },
   "outputs": [],
   "source": [
    "SERVICE_ACCOUNT = \"[your-service-account]\"  # @param {type:\"string\"}"
   ]
  },
  {
   "cell_type": "code",
   "execution_count": null,
   "metadata": {
    "id": "QbotjwtqKcX4"
   },
   "outputs": [],
   "source": [
    "import sys\n",
    "\n",
    "IS_COLAB = \"google.colab\" in sys.modules\n",
    "if (\n",
    "    SERVICE_ACCOUNT == \"\"\n",
    "    or SERVICE_ACCOUNT is None\n",
    "    or SERVICE_ACCOUNT == \"[your-service-account]\"\n",
    "):\n",
    "    # Get your service account from gcloud\n",
    "    if not IS_COLAB:\n",
    "        shell_output = ! gcloud auth list 2>/dev/null\n",
    "        SERVICE_ACCOUNT = shell_output[2].replace(\"*\", \"\").strip()\n",
    "\n",
    "    else:  # IS_COLAB:\n",
    "        shell_output = ! gcloud projects describe  $PROJECT_ID\n",
    "        project_number = shell_output[-1].split(\":\")[1].strip().replace(\"'\", \"\")\n",
    "        SERVICE_ACCOUNT = f\"{project_number}-compute@developer.gserviceaccount.com\"\n",
    "\n",
    "    print(\"Service Account:\", SERVICE_ACCOUNT)"
   ]
  },
  {
   "cell_type": "code",
   "execution_count": null,
   "metadata": {
    "id": "UlDhuciOt5vo"
   },
   "outputs": [],
   "source": [
    "# Grant Cloud Storage permission.\n",
    "! gcloud projects add-iam-policy-binding $PROJECT_ID \\\n",
    "   --member=serviceAccount:$SERVICE_ACCOUNT \\\n",
    "   --role=roles/storage.admin \\\n",
    "   --quiet"
   ]
  },
  {
   "cell_type": "code",
   "execution_count": null,
   "metadata": {
    "id": "lTKVB71soRyr"
   },
   "outputs": [],
   "source": [
    "# Grant AI Platform permission.\n",
    "! gcloud projects add-iam-policy-binding $PROJECT_ID \\\n",
    "   --member=serviceAccount:$SERVICE_ACCOUNT \\\n",
    "   --role=roles/aiplatform.user \\\n",
    "   --quiet"
   ]
  },
  {
   "cell_type": "markdown",
   "metadata": {
    "id": "KIPcg_Xhwvsn"
   },
   "source": [
    "### 导入库"
   ]
  },
  {
   "cell_type": "code",
   "execution_count": null,
   "metadata": {
    "id": "p4w8c1pHw2Yt"
   },
   "outputs": [],
   "source": [
    "import google.cloud.aiplatform as aiplatform"
   ]
  },
  {
   "cell_type": "markdown",
   "metadata": {
    "id": "cVmlv9sRbCSs"
   },
   "source": [
    "### 为 Python 初始化 Vertex AI SDK\n",
    "为您的项目和相应的存储桶初始化 Python 的 Vertex AI SDK。"
   ]
  },
  {
   "cell_type": "code",
   "execution_count": null,
   "metadata": {
    "id": "JmEsq1fda_1N"
   },
   "outputs": [],
   "source": [
    "aiplatform.init(project=PROJECT_ID, location=REGION, staging_bucket=BUCKET_URI)"
   ]
  },
  {
   "cell_type": "markdown",
   "metadata": {
    "id": "dR2mOCllvlqN"
   },
   "source": [
    "## 编写您的训练代码\n",
    "您的训练代码必须配置为将TensorBoard日志编写到Cloud Storage存储桶中，Vertex AI Training服务将通过预定义的环境变量 `AIP_TENSORBOARD_LOG_DIR` 自动提供其位置。\n",
    "\n",
    "通常可以通过将 `os.environ['AIP_TENSORBOARD_LOG_DIR']` 提供为开源TensorBoard日志编写API的日志目录来实现这一点。\n",
    "\n",
    "例如，在TensorFlow 2.x中，您可以使用以下代码创建一个 `tensorboard_callback`：\n",
    "```\n",
    "tensorboard_callback = tf.keras.callbacks.TensorBoard(\n",
    "  log_dir=os.environ['AIP_TENSORBOARD_LOG_DIR'],\n",
    "  histogram_freq=1)\n",
    "```\n",
    "\n",
    "`AIP_TENSORBOARD_LOG_DIR` 将位于您在创建自定义训练作业时提供的 `BASE_OUTPUT_DIR` 中。\n",
    "\n",
    "我们将使用以下示例代码作为示例："
   ]
  },
  {
   "cell_type": "code",
   "execution_count": null,
   "metadata": {
    "id": "balswZevBQt_"
   },
   "outputs": [],
   "source": [
    "# Download the sample code\n",
    "! gsutil cp gs://cloud-samples-data/ai-platform/hello-custom/hello-custom-sample-v1.tar.gz - | tar -xzv\n",
    "%cd hello-custom-sample/"
   ]
  },
  {
   "cell_type": "code",
   "execution_count": null,
   "metadata": {
    "id": "JGEJkNvHBmc8"
   },
   "outputs": [],
   "source": [
    "# The training code we want to edit is:\n",
    "! cat trainer/task.py"
   ]
  },
  {
   "cell_type": "markdown",
   "metadata": {
    "id": "vjdLIqYyDZFS"
   },
   "source": [
    "在 `trainer/task.py` 中创建 `tensorboard_callback`，然后将该回调添加到 `model.fit(...)`。\n",
    "\n",
    "示例代码：\n",
    "```\n",
    "# 其他代码\n",
    "model.compile(...)\n",
    "\n",
    "tensorboard_callback = tf.keras.callbacks.TensorBoard(\n",
    "  log_dir=os.environ['AIP_TENSORBOARD_LOG_DIR'],\n",
    "  histogram_freq=1)\n",
    "  \n",
    "model.fit(dataset, epochs=10, callbacks=[tensorboard_callback])\n",
    "```\n",
    "\n",
    "在 `trainer/task.py` 中更新您的代码，加入 `tensorboard_callback`。您可以使用上面的示例代码。"
   ]
  },
  {
   "cell_type": "code",
   "execution_count": null,
   "metadata": {
    "id": "HvI4Y5edurEp"
   },
   "outputs": [],
   "source": [
    "%%writefile trainer/task.py\n",
    "\n",
    "import logging\n",
    "import os\n",
    "\n",
    "import tensorflow as tf\n",
    "import tensorflow_datasets as tfds\n",
    "\n",
    "IMG_WIDTH = 128\n",
    "\n",
    "\n",
    "def normalize_img(image):\n",
    "    \"\"\"Normalizes image.\n",
    "\n",
    "    * Resizes image to IMG_WIDTH x IMG_WIDTH pixels\n",
    "    * Casts values from `uint8` to `float32`\n",
    "    * Scales values from [0, 255] to [0, 1]\n",
    "\n",
    "    Returns:\n",
    "      A tensor with shape (IMG_WIDTH, IMG_WIDTH, 3). (3 color channels)\n",
    "    \"\"\"\n",
    "    image = tf.image.resize_with_pad(image, IMG_WIDTH, IMG_WIDTH)\n",
    "    return image / 255.\n",
    "\n",
    "\n",
    "def normalize_img_and_label(image, label):\n",
    "    \"\"\"Normalizes image and label.\n",
    "\n",
    "    * Performs normalize_img on image\n",
    "    * Passes through label unchanged\n",
    "\n",
    "    Returns:\n",
    "      Tuple (image, label) where\n",
    "      * image is a tensor with shape (IMG_WIDTH, IMG_WIDTH, 3). (3 color\n",
    "        channels)\n",
    "      * label is an unchanged integer [0, 4] representing flower type\n",
    "    \"\"\"\n",
    "    return normalize_img(image), label\n",
    "\n",
    "\n",
    "if 'AIP_MODEL_DIR' not in os.environ:\n",
    "    raise KeyError(\n",
    "        'The `AIP_MODEL_DIR` environment variable has not been' +\n",
    "        'set. See https://cloud.google.com/ai-platform-unified/docs/tutorials/image-recognition-custom/training'\n",
    "    )\n",
    "output_directory = os.environ['AIP_MODEL_DIR']\n",
    "\n",
    "logging.info('Loading and preprocessing data ...')\n",
    "dataset = tfds.load('tf_flowers:3.*.*',\n",
    "                    split='train',\n",
    "                    try_gcs=True,\n",
    "                    shuffle_files=True,\n",
    "                    as_supervised=True)\n",
    "dataset = dataset.map(normalize_img_and_label,\n",
    "                      num_parallel_calls=tf.data.experimental.AUTOTUNE)\n",
    "dataset = dataset.cache()\n",
    "dataset = dataset.shuffle(1000)\n",
    "dataset = dataset.batch(128)\n",
    "dataset = dataset.prefetch(tf.data.experimental.AUTOTUNE)\n",
    "\n",
    "logging.info('Creating and training model ...')\n",
    "model = tf.keras.Sequential([\n",
    "    tf.keras.layers.Conv2D(16,\n",
    "                           3,\n",
    "                           padding='same',\n",
    "                           activation='relu',\n",
    "                           input_shape=(IMG_WIDTH, IMG_WIDTH, 3)),\n",
    "    tf.keras.layers.MaxPooling2D(),\n",
    "    tf.keras.layers.Conv2D(32, 3, padding='same', activation='relu'),\n",
    "    tf.keras.layers.MaxPooling2D(),\n",
    "    tf.keras.layers.Conv2D(64, 3, padding='same', activation='relu'),\n",
    "    tf.keras.layers.MaxPooling2D(),\n",
    "    tf.keras.layers.Flatten(),\n",
    "    tf.keras.layers.Dense(512, activation=\"relu\"),\n",
    "    tf.keras.layers.Dense(5)  # 5 classes\n",
    "])\n",
    "model.compile(\n",
    "    optimizer='adam',\n",
    "    loss=tf.keras.losses.SparseCategoricalCrossentropy(from_logits=True),\n",
    "    metrics=['accuracy'])\n",
    "\n",
    "### Create a TensorBoard call back and write to the gcs path provided by AIP_TENSORBOARD_LOG_DIR\n",
    "tensorboard_callback = tf.keras.callbacks.TensorBoard(\n",
    "  log_dir=os.environ['AIP_TENSORBOARD_LOG_DIR'],\n",
    "  histogram_freq=1)\n",
    "\n",
    "### Train the model with tensorboard_callback\n",
    "model.fit(dataset, epochs=14, callbacks=[tensorboard_callback])\n",
    "\n",
    "logging.info(f'Exporting SavedModel to: {output_directory}')\n",
    "# Add softmax layer for intepretability\n",
    "probability_model = tf.keras.Sequential([model, tf.keras.layers.Softmax()])\n",
    "probability_model.save(output_directory)"
   ]
  },
  {
   "cell_type": "markdown",
   "metadata": {
    "id": "L067Jw_QFcZ3"
   },
   "source": [
    "## 将您的训练代码上传到云存储\n",
    "\n",
    "为了让Vertex AI在自定义训练流程中运行代码，您必须将训练代码打包为源分发，并将其上传到云存储。\n",
    "\n",
    "1. 运行以下命令以创建一个gzipped tarball格式的源分发。该命令使用示例代码中包含的`setup.py`文件。"
   ]
  },
  {
   "cell_type": "code",
   "execution_count": null,
   "metadata": {
    "id": "bNEr950xGbGT"
   },
   "outputs": [],
   "source": [
    "! python3 setup.py sdist --formats=gztar"
   ]
  },
  {
   "cell_type": "markdown",
   "metadata": {
    "id": "a7Gt9WPFG9V7"
   },
   "source": [
    "运行以下命令将刚刚创建的源分发文件`dist/hello-custom-training-3.0.tar.gz`上传到您之前创建的云存储存储桶。"
   ]
  },
  {
   "cell_type": "code",
   "execution_count": null,
   "metadata": {
    "id": "wTv1gReWJqq0"
   },
   "outputs": [],
   "source": [
    "GCS_BUCKET_TRAINING = f\"{BUCKET_URI}/data/\"\n",
    "! gsutil cp dist/hello-custom-training-3.0.tar.gz {GCS_BUCKET_TRAINING}"
   ]
  },
  {
   "cell_type": "markdown",
   "metadata": {
    "id": "IaQjIPvuKLwW"
   },
   "source": [
    "创建一个自定义的训练任务"
   ]
  },
  {
   "cell_type": "markdown",
   "metadata": {
    "id": "svUGBOow_Obj"
   },
   "source": [
    "创建一个TensorBoard实例，供自定义训练任务使用。"
   ]
  },
  {
   "cell_type": "code",
   "execution_count": null,
   "metadata": {
    "id": "OAe1xJeS_X3F"
   },
   "outputs": [],
   "source": [
    "TENSORBOARD_NAME = \"[your-tensorboard-name]\"  # @param {type:\"string\"}\n",
    "\n",
    "if (\n",
    "    TENSORBOARD_NAME == \"\"\n",
    "    or TENSORBOARD_NAME is None\n",
    "    or TENSORBOARD_NAME == \"[your-tensorboard-name]\"\n",
    "):\n",
    "    TENSORBOARD_NAME = PROJECT_ID + \"-tb\"\n",
    "\n",
    "tensorboard = aiplatform.Tensorboard.create(\n",
    "    display_name=TENSORBOARD_NAME, project=PROJECT_ID, location=REGION\n",
    ")\n",
    "TENSORBOARD_RESOURCE_NAME = tensorboard.gca_resource.name\n",
    "print(\"TensorBoard resource name:\", TENSORBOARD_RESOURCE_NAME)"
   ]
  },
  {
   "cell_type": "markdown",
   "metadata": {
    "id": "mudxBDal_a_k"
   },
   "source": [
    "运行以下示例请求，创建您自己的自定义训练作业，并将训练结果流式传输到TensorBoard。"
   ]
  },
  {
   "cell_type": "code",
   "execution_count": null,
   "metadata": {
    "id": "le-kJx895rqN"
   },
   "outputs": [],
   "source": [
    "JOB_NAME = \"tensorboard-example-job\"\n",
    "GCS_BUCKET_OUTPUT = BUCKET_URI\n",
    "BASE_OUTPUT_DIR = \"{}/{}\".format(GCS_BUCKET_OUTPUT, JOB_NAME)\n",
    "\n",
    "job = aiplatform.CustomPythonPackageTrainingJob(\n",
    "    display_name=JOB_NAME,\n",
    "    python_module_name=\"trainer.task\",\n",
    "    container_uri=\"us-docker.pkg.dev/vertex-ai/training/tf-cpu.2-8:latest\",\n",
    "    python_package_gcs_uri=f\"{GCS_BUCKET_TRAINING}hello-custom-training-3.0.tar.gz\",\n",
    "    project=PROJECT_ID,\n",
    "    location=REGION,\n",
    "    staging_bucket=BASE_OUTPUT_DIR,\n",
    ")\n",
    "\n",
    "job.run(\n",
    "    service_account=SERVICE_ACCOUNT,\n",
    "    tensorboard=TENSORBOARD_RESOURCE_NAME,\n",
    "    machine_type=\"n1-standard-8\",\n",
    "    replica_count=1,\n",
    ")"
   ]
  },
  {
   "cell_type": "markdown",
   "metadata": {
    "id": "VfMsn_RnEtnj"
   },
   "source": [
    "在Google Cloud控制台中，您可以在Vertex AI > 训练 > 自定义作业中监视您的训练作业。在每个自定义训练作业中，可以通过“打开TensorBoard”按钮查看近实时更新的TensorBoard。了解更多信息，请参阅[查看Vertex AI TensorBoard数据]（https://cloud.google.com/vertex-ai/docs/experiments/tensorboard-view）。"
   ]
  },
  {
   "cell_type": "markdown",
   "metadata": {
    "id": "TFEriiywMZga"
   },
   "source": [
    "## 清理工作\n",
    "\n",
    "要清理此项目中使用的所有Google Cloud资源，您可以[删除用于教程的Google Cloud项目](https://cloud.google.com/resource-manager/docs/creating-managing-projects#shuttind_down_projects)。\n",
    "\n",
    "否则，**如果您在笔记本中创建了个别资源**，您可以按以下步骤删除它们："
   ]
  },
  {
   "cell_type": "code",
   "execution_count": null,
   "metadata": {
    "id": "O1Je2JZTMoMg"
   },
   "outputs": [],
   "source": [
    "# Delete GCS bucket.\n",
    "! gsutil -m rm -r {BUCKET_URI}\n",
    "\n",
    "# Delete TensorBoard instance.\n",
    "! gcloud ai tensorboards delete {TENSORBOARD_RESOURCE_NAME}\n",
    "\n",
    "# Delete custom job.\n",
    "job.delete()"
   ]
  }
 ],
 "metadata": {
  "colab": {
   "collapsed_sections": [],
   "name": "tensorboard_custom_training_with_prebuilt_container.ipynb",
   "toc_visible": true
  },
  "kernelspec": {
   "display_name": "Python 3",
   "name": "python3"
  }
 },
 "nbformat": 4,
 "nbformat_minor": 0
}
