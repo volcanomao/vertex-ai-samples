{
 "cells": [
  {
   "cell_type": "code",
   "execution_count": null,
   "metadata": {
    "id": "ur8xi4C7S06n"
   },
   "outputs": [],
   "source": [
    "# Copyright 2022 Google LLC\n",
    "#\n",
    "# Licensed under the Apache License, Version 2.0 (the \"License\");\n",
    "# you may not use this file except in compliance with the License.\n",
    "# You may obtain a copy of the License at\n",
    "#\n",
    "#     https://www.apache.org/licenses/LICENSE-2.0\n",
    "#\n",
    "# Unless required by applicable law or agreed to in writing, software\n",
    "# distributed under the License is distributed on an \"AS IS\" BASIS,\n",
    "# WITHOUT WARRANTIES OR CONDITIONS OF ANY KIND, either express or implied.\n",
    "# See the License for the specific language governing permissions and\n",
    "# limitations under the License."
   ]
  },
  {
   "cell_type": "markdown",
   "metadata": {
    "id": "JAPoU8Sm5E6e"
   },
   "source": [
    "# 使用 HParams 仪表板的 Vertex AI TensorBoard 超参数调整\n",
    "\n",
    "<table align=\"left\">\n",
    "\n",
    "  <td style=\"text-align: center\">\n",
    "    <a href=\"https://colab.research.google.com/github/GoogleCloudPlatform/vertex-ai-samples/blob/main/notebooks/official/tensorboard/tensorboard_hyperparameter_tuning_with_hparams.ipynb\">\n",
    "      <img src=\"https://cloud.google.com/ml-engine/images/colab-logo-32px.png\" alt=\"Colab logo\"> <br> 在 Colab 中打开\n",
    "    </a>\n",
    "  </td>\n",
    "  <td style=\"text-align: center\">\n",
    "    <a href=\"https://console.cloud.google.com/vertex-ai/colab/import/https:%2F%2Fraw.githubusercontent.com%2FGoogleCloudPlatform%2Fvertex-ai-samples%2Fmain%2Fnotebooks%2Fofficial%2Ftensorboard%2Ftensorboard_hyperparameter_tuning_with_hparams.ipynb\">\n",
    "      <img width=\"32px\" src=\"https://cloud.google.com/ml-engine/images/colab-enterprise-logo-32px.png\" alt=\"Google Cloud Colab Enterprise logo\"> <br> 在 Colab Enterprise 中打开\n",
    "    </a>\n",
    "  </td>\n",
    "  <td style=\"text-align: center\">\n",
    "    <a href=\"https://github.com/GoogleCloudPlatform/vertex-ai-samples/blob/main/notebooks/official/tensorboard/tensorboard_hyperparameter_tuning_with_hparams.ipynb\">\n",
    "      <img src=\"https://cloud.google.com/ml-engine/images/github-logo-32px.png\" alt=\"GitHub logo\"> <br>\n",
    "      在 GitHub 上查看\n",
    "    </a>\n",
    "  </td>\n",
    "  <td style=\"text-align: center\">\n",
    "    <a href=\"https://console.cloud.google.com/vertex-ai/workbench/deploy-notebook?download_url=https://raw.githubusercontent.com/GoogleCloudPlatform/vertex-ai-samples/main/notebooks/official/tensorboard/tensorboard_hyperparameter_tuning_with_hparams.ipynb\">\n",
    "      <img src=\"https://lh3.googleusercontent.com/UiNooY4LUgW_oTvpsNhPpQzsstV5W8F7rYgxgGBD85cWJoLmrOzhVs_ksK_vgx40SHs7jCqkTkCk=e14-rj-sc0xffffff-h130-w32\" alt=\"Vertex AI logo\"> <br>\n",
    "      在 Vertex AI Workbench 中打开\n",
    "    </a>\n",
    "  </td>                                                                                               \n",
    "</table>"
   ]
  },
  {
   "cell_type": "markdown",
   "metadata": {
    "id": "24743cf4a1e1"
   },
   "source": [
    "注意：已在以下环境中测试了此笔记本：\n",
    "\n",
    "Python 版本 = 3.8"
   ]
  },
  {
   "cell_type": "markdown",
   "metadata": {
    "id": "tvgnzT1CKxrO"
   },
   "source": [
    "## 概述\n",
    "\n",
    "### 什么是Vertex AI TensorBoard\n",
    "\n",
    "Vertex AI TensorBoard是[开源TensorBoard](https://www.tensorflow.org/tensorboard/get_started)（TB）的企业级托管版本，TensorBoard是谷歌开源的用于机器学习实验可视化的项目。\n",
    "\n",
    "Vertex AI TensorBoard提供各种详细的可视化，包括以下内容：\n",
    "\n",
    "- 跟踪和可视化指标，如损失和准确性随时间的变化，\n",
    "- 可视化模型计算图（操作和层），\n",
    "- 查看随时间变化的权重、偏差或其他张量的直方图，\n",
    "- 将嵌入投影到低维空间，\n",
    "- 显示图像、文本和音频样本。\n",
    "\n",
    "除了来自TensorBoard强大的可视化之外，Vertex AI TensorBoard还提供以下好处：\n",
    "\n",
    "- 实验仪表板的持久性、可共享链接，\n",
    "- 项目中所有实验的可搜索列表，\n",
    "- 与Vertex AI服务的模型训练集成，\n",
    "- 企业级安全性、隐私和合规性。\n",
    "\n",
    "通过Vertex AI TensorBoard，您可以跟踪、可视化和比较机器学习实验，并与团队共享。\n",
    "\n",
    "了解更多关于[Vertex AI TensorBoard](https://cloud.google.com/vertex-ai/docs/experiments/tensorboard-introduction)。"
   ]
  },
  {
   "cell_type": "markdown",
   "metadata": {
    "id": "d975e698c9a4"
   },
   "source": [
    "### 目标\n",
    "\n",
    "这个教程演示了如何在TensorFlow中记录超参数实验结果，并在TensorBoard的Hparams仪表板中可视化结果。\n",
    "\n",
    "这个教程使用了以下Vertex AI服务和资源：\n",
    "\n",
    "- Vertex AI TensorBoard\n",
    "\n",
    "执行的步骤包括：\n",
    "\n",
    "* 调整TensorFlow运行以记录超参数和指标。\n",
    "* 启动运行并将它们全部记录在一个父目录下。\n",
    "* 在TensorBoard的HParams仪表板中可视化结果。"
   ]
  },
  {
   "cell_type": "markdown",
   "metadata": {
    "id": "08d289fa873f"
   },
   "source": [
    "数据集\n",
    "\n",
    "本教程使用[FashionMNIST](https://github.com/zalandoresearch/fashion-mnist)数据集。"
   ]
  },
  {
   "cell_type": "markdown",
   "metadata": {
    "id": "aed92deeb4a0"
   },
   "source": [
    "费用\n",
    "\n",
    "本教程使用谷歌云的以下可计费组件：\n",
    "\n",
    "* Vertex AI\n",
    "\n",
    "了解[Vertex AI 价格](https://cloud.google.com/vertex-ai/pricing),\n",
    "并使用[定价计算器](https://cloud.google.com/products/calculator/)\n",
    "根据您的预期使用情况生成成本估算。"
   ]
  },
  {
   "cell_type": "markdown",
   "metadata": {
    "id": "i7EUnXsZhAGF"
   },
   "source": [
    "安装依赖项\n",
    "\n",
    "安装下面这些包，这些包是运行本教程笔记本所需的。"
   ]
  },
  {
   "cell_type": "code",
   "execution_count": null,
   "metadata": {
    "id": "th7tWguZiSN2"
   },
   "outputs": [],
   "source": [
    "! pip3 install --upgrade --quiet google-cloud-aiplatform[tensorboard] \\\n",
    "                                 tensorflow"
   ]
  },
  {
   "cell_type": "markdown",
   "metadata": {
    "id": "58707a750154"
   },
   "source": [
    "### 仅限 Colab：取消下面单元格的注释以重新启动内核。"
   ]
  },
  {
   "cell_type": "code",
   "execution_count": null,
   "metadata": {
    "id": "f200f10a1da3"
   },
   "outputs": [],
   "source": [
    "# Automatically restart kernel after installs so that your environment can access the new packages\n",
    "# import IPython\n",
    "\n",
    "# app = IPython.Application.instance()\n",
    "# app.kernel.do_shutdown(True)"
   ]
  },
  {
   "cell_type": "markdown",
   "metadata": {
    "id": "BF1j6f9HApxa"
   },
   "source": [
    "## 在开始之前\n",
    "\n",
    "### 设置您的 Google Cloud 项目\n",
    "\n",
    "**无论您使用哪种笔记本环境，以下步骤都是必需的。**\n",
    "\n",
    "1. [选择或创建一个 Google Cloud 项目](https://console.cloud.google.com/cloud-resource-manager)。当您首次创建帐户时，您将获得一个可用于抵消计算/存储成本的 300 美元免费信用额度。\n",
    "\n",
    "2. [确保您的项目已启用计费](https://cloud.google.com/billing/docs/how-to/modify-project)。\n",
    "\n",
    "3. [启用 Vertex AI API](https://console.cloud.google.com/flows/enableapi?apiid=aiplatform.googleapis.com)。\n",
    "\n",
    "4. 如果您在本地运行此笔记本，请安装 [Cloud SDK](https://cloud.google.com/sdk)。"
   ]
  },
  {
   "cell_type": "markdown",
   "metadata": {
    "id": "WReHDGG5g0XY"
   },
   "source": [
    "设置您的项目ID\n",
    "\n",
    "**如果您不知道您的项目ID**，请尝试以下操作：\n",
    "* 运行 `gcloud config list`。\n",
    "* 运行 `gcloud projects list`。\n",
    "* 参考支持页面：[查找项目ID](https://support.google.com/googleapi/answer/7014113)"
   ]
  },
  {
   "cell_type": "code",
   "execution_count": null,
   "metadata": {
    "id": "oM1iC_MfAts1"
   },
   "outputs": [],
   "source": [
    "PROJECT_ID = \"[your-project-id]\"  # @param {type:\"string\"}\n",
    "\n",
    "# Set the project id\n",
    "! gcloud config set project {PROJECT_ID}"
   ]
  },
  {
   "cell_type": "markdown",
   "metadata": {
    "id": "region"
   },
   "source": [
    "#### 设置区域\n",
    "\n",
    "**可选**: 更新‘REGION’变量以指定您想要使用的区域。了解更多关于[Vertex AI regions](https://cloud.google.com/vertex-ai/docs/general/locations)。"
   ]
  },
  {
   "cell_type": "code",
   "execution_count": null,
   "metadata": {
    "id": "nsN5NJKSu-GU"
   },
   "outputs": [],
   "source": [
    "REGION = \"us-central1\"  # @param {type: \"string\"}"
   ]
  },
  {
   "cell_type": "markdown",
   "metadata": {
    "id": "sBCra4QMA2wR"
   },
   "source": [
    "### 认证您的谷歌云账号\n",
    "\n",
    "要认证您的谷歌云账号，请按照您Jupyter环境中的指示操作。"
   ]
  },
  {
   "cell_type": "markdown",
   "metadata": {
    "id": "74ccc9e52986"
   },
   "source": [
    "**Vertex AI 工作台**\n",
    "您已通过验证。"
   ]
  },
  {
   "cell_type": "markdown",
   "metadata": {
    "id": "de775a3773ba"
   },
   "source": [
    "本地的JupyterLab实例\n",
    "取消注释并运行以下代码："
   ]
  },
  {
   "cell_type": "code",
   "execution_count": null,
   "metadata": {
    "id": "254614fa0c46"
   },
   "outputs": [],
   "source": [
    "# ! gcloud auth login"
   ]
  },
  {
   "cell_type": "markdown",
   "metadata": {
    "id": "ef21552ccea8"
   },
   "source": [
    "Translate the following English text to Chinese: * **Colab**\n",
    "取消注释并运行以下代码："
   ]
  },
  {
   "cell_type": "code",
   "execution_count": null,
   "metadata": {
    "id": "603adbbf0532"
   },
   "outputs": [],
   "source": [
    "# from google.colab import auth\n",
    "\n",
    "# auth.authenticate_user()"
   ]
  },
  {
   "cell_type": "markdown",
   "metadata": {
    "id": "960505627ddf"
   },
   "source": [
    "### 导入库"
   ]
  },
  {
   "cell_type": "code",
   "execution_count": null,
   "metadata": {
    "id": "PyQmSRbKA8r-"
   },
   "outputs": [],
   "source": [
    "from google.cloud import aiplatform"
   ]
  },
  {
   "cell_type": "markdown",
   "metadata": {
    "id": "init_aip:mbsdk,all"
   },
   "source": [
    "### 初始化 Python 的 Vertex AI SDK\n",
    "\n",
    "为您的项目初始化 Python 的 Vertex AI SDK。"
   ]
  },
  {
   "cell_type": "code",
   "execution_count": null,
   "metadata": {
    "id": "KllitKlIu-GW"
   },
   "outputs": [],
   "source": [
    "aiplatform.init(project=PROJECT_ID, location=REGION)"
   ]
  },
  {
   "cell_type": "markdown",
   "metadata": {
    "id": "WjWD61gONRkw"
   },
   "source": [
    "加载TensorBoard和TensorFlow组件\n",
    "\n",
    "加载TensorBoard笔记本扩展并导入TensorFlow和TensorBoard HParams插件。"
   ]
  },
  {
   "cell_type": "code",
   "execution_count": null,
   "metadata": {
    "id": "KSayPNqxfJC_"
   },
   "outputs": [],
   "source": [
    "# Load the TensorBoard notebook extension\n",
    "%load_ext tensorboard\n",
    "\n",
    "# Clear any logs from previous runs\n",
    "!rm -rf ./logs/\n",
    "\n",
    "# Import TensorFlow and the TensorBoard HParams plugin\n",
    "import tensorflow as tf\n",
    "from tensorboard.plugins.hparams import api as hp"
   ]
  },
  {
   "cell_type": "markdown",
   "metadata": {
    "id": "KJ4zE7rYfcvb"
   },
   "source": [
    "下载数据集\n",
    "\n",
    "下载[FashionMNIST](https://github.com/zalandoresearch/fashion-mnist)数据集并对其进行缩放。"
   ]
  },
  {
   "cell_type": "code",
   "execution_count": null,
   "metadata": {
    "id": "vHME9wnnfiMr"
   },
   "outputs": [],
   "source": [
    "fashion_mnist = tf.keras.datasets.fashion_mnist\n",
    "\n",
    "(x_train, y_train), (x_test, y_test) = fashion_mnist.load_data()\n",
    "x_train, x_test = x_train / 255.0, x_test / 255.0"
   ]
  },
  {
   "cell_type": "markdown",
   "metadata": {
    "id": "ofGSMru5r4kP"
   },
   "source": [
    "## 设置实验\n",
    "\n",
    "通过指定以下超参数的值来运行实验：\n",
    "\n",
    "* 第一个密集层中的单位数，\n",
    "* dropout层中的dropout率，\n",
    "* 优化器。\n",
    "\n",
    "在TensorBoard中指定实验的超参数值。\n",
    "\n",
    "* 可选：为了更细粒度地过滤Google Cloud控制台中的超参数，提供域信息并指定应显示哪些指标。"
   ]
  },
  {
   "cell_type": "code",
   "execution_count": null,
   "metadata": {
    "id": "IG5sPLBAcDRy"
   },
   "outputs": [],
   "source": [
    "HP_NUM_UNITS = hp.HParam(\"num_units\", hp.Discrete([16, 32]))\n",
    "HP_DROPOUT = hp.HParam(\"dropout\", hp.RealInterval(0.1, 0.2))\n",
    "HP_OPTIMIZER = hp.HParam(\"optimizer\", hp.Discrete([\"adam\", \"sgd\"]))\n",
    "\n",
    "METRIC_ACCURACY = \"accuracy\"\n",
    "\n",
    "with tf.summary.create_file_writer(\"logs/hparam_tuning\").as_default():\n",
    "    hp.hparams_config(\n",
    "        hparams=[HP_NUM_UNITS, HP_DROPOUT, HP_OPTIMIZER],\n",
    "        metrics=[hp.Metric(METRIC_ACCURACY, display_name=\"Accuracy\")],\n",
    "    )"
   ]
  },
  {
   "cell_type": "markdown",
   "metadata": {
    "id": "cLNgBNA6srlk"
   },
   "source": [
    "将TensorFlow运行适应以记录超参数和指标\n",
    "\n",
    "模型将非常简单：两个密集层之间带有一个dropout层。训练代码将看起来很熟悉，尽管超参数不再硬编码。相反，超参数以`hparams`字典的形式提供，并在整个训练函数中使用："
   ]
  },
  {
   "cell_type": "code",
   "execution_count": null,
   "metadata": {
    "id": "C-RSsrF4u-Fq"
   },
   "outputs": [],
   "source": [
    "def train_test_model(hparams):\n",
    "    model = tf.keras.models.Sequential(\n",
    "        [\n",
    "            tf.keras.layers.Flatten(),\n",
    "            tf.keras.layers.Dense(hparams[HP_NUM_UNITS], activation=tf.nn.relu),\n",
    "            tf.keras.layers.Dropout(hparams[HP_DROPOUT]),\n",
    "            tf.keras.layers.Dense(10, activation=tf.nn.softmax),\n",
    "        ]\n",
    "    )\n",
    "    model.compile(\n",
    "        optimizer=hparams[HP_OPTIMIZER],\n",
    "        loss=\"sparse_categorical_crossentropy\",\n",
    "        metrics=[\"accuracy\"],\n",
    "    )\n",
    "\n",
    "    model.fit(\n",
    "        x_train, y_train, epochs=1\n",
    "    )  # Run with 1 epoch to speed things up for demo purposes\n",
    "    _, accuracy = model.evaluate(x_test, y_test)\n",
    "    return accuracy"
   ]
  },
  {
   "cell_type": "markdown",
   "metadata": {
    "id": "Esz3uqqCvLoK"
   },
   "source": [
    "对于每次运行，记录一个包含超参数和最终准确度的hparams摘要。"
   ]
  },
  {
   "cell_type": "code",
   "execution_count": null,
   "metadata": {
    "id": "HwR1PAv1vPER"
   },
   "outputs": [],
   "source": [
    "def run(run_dir, hparams):\n",
    "    with tf.summary.create_file_writer(run_dir).as_default():\n",
    "        hp.hparams(hparams)  # record the values used in this trial\n",
    "        accuracy = train_test_model(hparams)\n",
    "        tf.summary.scalar(METRIC_ACCURACY, accuracy, step=1)"
   ]
  },
  {
   "cell_type": "markdown",
   "metadata": {
    "id": "0V_8soFFvU7b"
   },
   "source": [
    "## 开始运行并将它们全部记录在一个父目录下\n",
    "\n",
    "你现在可以尝试多个实验，每个实验使用不同的超参数集进行训练。\n",
    "\n",
    "为简单起见，可以使用网格搜索：尝试所有离散参数的组合，以及实值参数的下限和上限。对于更复杂的情况，可能更有效的是随机选择每个超参数值（这被称为随机搜索）。还有更高级的方法可供选择。\n",
    "\n",
    "运行几个实验，这将需要几分钟。"
   ]
  },
  {
   "cell_type": "code",
   "execution_count": null,
   "metadata": {
    "id": "6r2oO_PVvbdL"
   },
   "outputs": [],
   "source": [
    "session_num = 0\n",
    "\n",
    "for num_units in HP_NUM_UNITS.domain.values:\n",
    "    for dropout_rate in (HP_DROPOUT.domain.min_value, HP_DROPOUT.domain.max_value):\n",
    "        for optimizer in HP_OPTIMIZER.domain.values:\n",
    "            hparams = {\n",
    "                HP_NUM_UNITS: num_units,\n",
    "                HP_DROPOUT: dropout_rate,\n",
    "                HP_OPTIMIZER: optimizer,\n",
    "            }\n",
    "            run_name = \"run-%d\" % session_num\n",
    "            print(\"--- Starting trial: %s\" % run_name)\n",
    "            print({h.name: hparams[h] for h in hparams})\n",
    "            run(\"logs/hparam_tuning/\" + run_name, hparams)\n",
    "            session_num += 1"
   ]
  },
  {
   "cell_type": "markdown",
   "metadata": {
    "id": "6FJJwCclvslF"
   },
   "source": [
    "在 Vertex AI TensorBoard 的 HParams 选项卡中可视化结果。"
   ]
  },
  {
   "cell_type": "markdown",
   "metadata": {
    "id": "BkbB5GEI3Ge3"
   },
   "source": [
    "创建 Vertex AI TensorBoard\n",
    "必须先创建一个区域化资源，存储您的 Vertex AI TensorBoard 实验的 Vertex AI TensorBoard 实例，然后才能对实验进行可视化。您可以在一个项目中创建多个实例。\n",
    "\n",
    "详细了解请参见[创建 Vertex AI TensorBoard 实例](https://cloud.google.com/vertex-ai/docs/experiments/tensorboard-setup#create-tensorboard-instance)。\n",
    "\n",
    "创建一个用于训练作业的 TensorBoard 实例。"
   ]
  },
  {
   "cell_type": "code",
   "execution_count": null,
   "metadata": {
    "id": "lQ-d3j-I3ZWV"
   },
   "outputs": [],
   "source": [
    "TENSORBOARD_NAME = \"[your-tensorboard-name]\"  # @param {type:\"string\"}\n",
    "\n",
    "if (\n",
    "    TENSORBOARD_NAME == \"\"\n",
    "    or TENSORBOARD_NAME is None\n",
    "    or TENSORBOARD_NAME == \"[your-tensorboard-name]\"\n",
    "):\n",
    "    TENSORBOARD_NAME = PROJECT_ID + \"-tb-\"\n",
    "\n",
    "tensorboard = aiplatform.Tensorboard.create(\n",
    "    display_name=TENSORBOARD_NAME, project=PROJECT_ID, location=REGION\n",
    ")\n",
    "TENSORBOARD_RESOURCE_NAME = tensorboard.gca_resource.name\n",
    "print(\"TensorBoard resource name:\", TENSORBOARD_RESOURCE_NAME)"
   ]
  },
  {
   "cell_type": "markdown",
   "metadata": {
    "id": "27rERDqeJ2nE"
   },
   "source": [
    "设置您的TensorBoard实验名称。"
   ]
  },
  {
   "cell_type": "code",
   "execution_count": null,
   "metadata": {
    "id": "4OU4TMtFCn0_"
   },
   "outputs": [],
   "source": [
    "from datetime import datetime\n",
    "\n",
    "EXPERIMENT_NAME = \"[your-experiment-run-name]\"  # @param {type:\"string\"}\n",
    "\n",
    "if (\n",
    "    EXPERIMENT_NAME == \"\"\n",
    "    or EXPERIMENT_NAME is None\n",
    "    or EXPERIMENT_NAME == \"[your-experiment-run-name]\"\n",
    "):\n",
    "    EXPERIMENT_NAME = \"experiment\" + datetime.now().strftime(\"%H-%M-%S\")"
   ]
  },
  {
   "cell_type": "markdown",
   "metadata": {
    "id": "f1D2oU3K8Ys0"
   },
   "source": [
    "将日志上传至您的Vertex AI TensorBoard"
   ]
  },
  {
   "cell_type": "code",
   "execution_count": null,
   "metadata": {
    "id": "TyXFVQuRv0-X"
   },
   "outputs": [],
   "source": [
    "!tb-gcp-uploader --one_shot=True --tensorboard_resource_name=$TENSORBOARD_RESOURCE_NAME --logdir=\"logs/hparam_tuning/\" --experiment_name=$EXPERIMENT_NAME"
   ]
  },
  {
   "cell_type": "markdown",
   "metadata": {
    "id": "OFe3qRyh9Wjl"
   },
   "source": [
    "点击生成的TensorBoard链接，并在顶部点击“HParams”。\n",
    "\n",
    "仪表板的左侧窗格提供了在HParams仪表板的所有视图中均有效的过滤功能：\n",
    "\n",
    "- 过滤在仪表板中显示哪些超参数/指标\n",
    "- 过滤在仪表板中显示哪些超参数/指标值\n",
    "- 根据运行状态（运行中，成功，...）进行过滤\n",
    "- 在表格视图中按超参数/指标进行排序\n",
    "- 显示要显示的会话组数（在有许多实验时提高性能时有用）\n",
    "\n",
    "HParams仪表板有三种不同的视图，提供各种有用的信息：\n",
    "\n",
    "* **表格视图**列出运行、它们的超参数和指标。\n",
    "* **平行坐标视图**将每个运行显示为通过每个超参数和指标轴的线。单击并拖动鼠标到任何轴上以标记一个区域，这将仅突出显示通过该区域的运行。这对于识别哪些超参数组最重要可能很有用。轴本身可以通过拖动来重新排序。\n",
    "* **散点图视图**显示了比较每个超参数/指标与每个指标的图。这可以帮助识别相关性。单击并拖动以选择特定图中的区域，并突出显示其他图中的那些会话。\n",
    "\n",
    "可以单击表行、平行坐标线和散点图标记，以查看指标随训练步骤变化的图（尽管在本教程中每次运行仅使用一个步骤）。"
   ]
  },
  {
   "cell_type": "markdown",
   "metadata": {
    "id": "TpV-iwP9qw9c"
   },
   "source": [
    "清理工作\n",
    "\n",
    "要清理此项目中使用的所有Google Cloud资源，您可以[删除用于本教程的Google Cloud项目](https://cloud.google.com/resource-manager/docs/creating-managing-projects#shutting_down_projects)。\n",
    "\n",
    "否则，您可以删除在此教程中创建的各个资源。"
   ]
  },
  {
   "cell_type": "code",
   "execution_count": null,
   "metadata": {
    "id": "sx_vKniMq9ZX"
   },
   "outputs": [],
   "source": [
    "import os\n",
    "\n",
    "# Delete endpoint resource\n",
    "# e.g. `endpoint.delete()`\n",
    "\n",
    "# Delete model resource\n",
    "# e.g. `model.delete()`\n",
    "\n",
    "# Delete Cloud Storage objects that were created\n",
    "delete_bucket = False\n",
    "if delete_bucket or os.getenv(\"IS_TESTING\"):\n",
    "    ! gsutil -m rm -r $BUCKET_URI"
   ]
  }
 ],
 "metadata": {
  "colab": {
   "name": "tensorboard_hyperparameter_tuning_with_hparams.ipynb",
   "toc_visible": true
  },
  "kernelspec": {
   "display_name": "Python 3",
   "name": "python3"
  }
 },
 "nbformat": 4,
 "nbformat_minor": 0
}
