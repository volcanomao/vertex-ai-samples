{
 "cells": [
  {
   "cell_type": "code",
   "execution_count": null,
   "metadata": {
    "id": "ur8xi4C7S06n"
   },
   "outputs": [],
   "source": [
    "# Copyright 2022 Google LLC\n",
    "#\n",
    "# Licensed under the Apache License, Version 2.0 (the \"License\");\n",
    "# you may not use this file except in compliance with the License.\n",
    "# You may obtain a copy of the License at\n",
    "#\n",
    "#     https://www.apache.org/licenses/LICENSE-2.0\n",
    "#\n",
    "# Unless required by applicable law or agreed to in writing, software\n",
    "# distributed under the License is distributed on an \"AS IS\" BASIS,\n",
    "# WITHOUT WARRANTIES OR CONDITIONS OF ANY KIND, either express or implied.\n",
    "# See the License for the specific language governing permissions and\n",
    "# limitations under the License."
   ]
  },
  {
   "cell_type": "markdown",
   "metadata": {
    "id": "l2mMvIUG9meX"
   },
   "source": [
    "使用Vertex AI TensorBoard Profiler对配置文件模型进行培训性能分析\n",
    "\n",
    "<table align=\"left\">\n",
    "\n",
    "  <td>\n",
    "    <a href=\"https://colab.research.google.com/github/GoogleCloudPlatform/vertex-ai-samples/blob/main/notebooks/official/tensorboard/tensorboard_profiler_custom_training.ipynb\">\n",
    "      <img src=\"https://cloud.google.com/ml-engine/images/colab-logo-32px.png\" alt=\"Colab logo\"> 在Colab中运行\n",
    "    </a>\n",
    "  </td>\n",
    "  <td>\n",
    "    <a href=\"https://github.com/GoogleCloudPlatform/vertex-ai-samples/blob/main/notebooks/official/tensorboard/tensorboard_profiler_custom_training.ipynb\">\n",
    "      <img src=\"https://cloud.google.com/ml-engine/images/github-logo-32px.png\" alt=\"GitHub logo\">\n",
    "      在GitHub上查看\n",
    "    </a>\n",
    "  </td>\n",
    "  <td>\n",
    "    <a href=\"https://console.cloud.google.com/vertex-ai/workbench/deploy-notebook?download_url=https://raw.githubusercontent.com/GoogleCloudPlatform/vertex-ai-samples/main/notebooks/official/tensorboard/tensorboard_profiler_custom_training.ipynb\">\n",
    "      <img src=\"https://lh3.googleusercontent.com/UiNooY4LUgW_oTvpsNhPpQzsstV5W8F7rYgxgGBD85cWJoLmrOzhVs_ksK_vgx40SHs7jCqkTkCk=e14-rj-sc0xffffff-h130-w32\" alt=\"Vertex AI logo\">\n",
    "      在Vertex AI Workbench中打开\n",
    "    </a>\n",
    "  </td>\n",
    "</table>"
   ]
  },
  {
   "cell_type": "markdown",
   "metadata": {
    "id": "tvgnzT1CKxrO"
   },
   "source": [
    "## 概述\n",
    "\n",
    "Vertex AI TensorBoard 分析器允许您通过帮助您了解训练操作的资源消耗来监视和优化模型训练性能。本教程演示了如何启用Vertex AI TensorBoard分析器，以便您可以调试自定义训练作业的模型训练性能。\n",
    "\n",
    "了解更多关于[Vertex AI TensorBoard 分析器](https://cloud.google.com/vertex-ai/docs/training/tensorboard-profiler)。"
   ]
  },
  {
   "cell_type": "markdown",
   "metadata": {
    "id": "dmfmQL6w84pS"
   },
   "source": [
    "### 目标\n",
    "\n",
    "在本教程中，您将学习如何为自定义训练作业启用Vertex AI TensorBoard分析器。\n",
    "\n",
    "本教程使用以下Google Cloud AI服务：\n",
    "\n",
    "- Vertex AI 训练\n",
    "- Vertex AI TensorBoard\n",
    "\n",
    "执行的步骤包括：\n",
    "\n",
    "- 设置一个服务账号和一个Cloud Storage存储桶\n",
    "- 创建一个TensorBoard实例\n",
    "- 创建并运行一个启用了TensorBoard分析器的自定义训练作业\n",
    "- 查看TensorBoard分析器仪表板以调试您的模型训练性能。"
   ]
  },
  {
   "cell_type": "markdown",
   "metadata": {
    "id": "zfXf0r-K81Y-"
   },
   "source": [
    "数据集\n",
    "\n",
    "本教程使用的数据集是来自[TensorFlow数据集](https://www.tensorflow.org/datasets/catalog/overview)的[mnist数据集](https://www.tensorflow.org/datasets/catalog/mnist)。"
   ]
  },
  {
   "cell_type": "markdown",
   "metadata": {
    "id": "I3KFLvpq87rs"
   },
   "source": [
    "### 费用\n",
    "\n",
    "本教程使用Google Cloud的计费组件：\n",
    "\n",
    "* Vertex AI\n",
    "* Cloud Storage\n",
    "\n",
    "了解 [Vertex AI 价格](https://cloud.google.com/vertex-ai/pricing) 和 [Cloud Storage 价格](https://cloud.google.com/storage/pricing)，并使用 [定价计算器](https://cloud.google.com/products/calculator/) 根据您的预期使用情况生成费用估算。"
   ]
  },
  {
   "cell_type": "markdown",
   "metadata": {
    "id": "ze4-nDLfK4pw"
   },
   "source": [
    "## 安装\n",
    "\n",
    "安装以下必要的软件包以执行此笔记本。"
   ]
  },
  {
   "cell_type": "code",
   "execution_count": null,
   "metadata": {
    "id": "2b4ef9b72d43"
   },
   "outputs": [],
   "source": [
    "! pip3 install --upgrade --quiet google-cloud-aiplatform "
   ]
  },
  {
   "cell_type": "markdown",
   "metadata": {
    "id": "aUw6ibN-n5Za"
   },
   "source": [
    "只有协作：取消注释以下单元格以重新启动内核。"
   ]
  },
  {
   "cell_type": "code",
   "execution_count": null,
   "metadata": {
    "id": "FM12wbWhn7w0"
   },
   "outputs": [],
   "source": [
    "# Automatically restart kernel after installs so that your environment can access the new packages\n",
    "# import IPython\n",
    "\n",
    "# app = IPython.Application.instance()\n",
    "# app.kernel.do_shutdown(True)"
   ]
  },
  {
   "cell_type": "markdown",
   "metadata": {
    "id": "LgFWLeJfoGQu"
   },
   "source": [
    "## 开始之前\n",
    "\n",
    "### 设置您的谷歌云项目\n",
    "\n",
    "**无论您使用什么笔记本环境，以下步骤都是必需的。**\n",
    "\n",
    "1. [选择或创建一个谷歌云项目](https://console.cloud.google.com/cloud-resource-manager)。当您首次创建一个账户时，您将获得$300的免费信用用于您的计算/存储成本。\n",
    "\n",
    "2. [确保您的项目已启用计费](https://cloud.google.com/billing/docs/how-to/modify-project)。\n",
    "\n",
    "3. [启用 Vertex AI API](https://console.cloud.google.com/flows/enableapi?apiid=aiplatform.googleapis.com)。\n",
    "\n",
    "4. 如果您正在本地运行此笔记本，您需要安装[Cloud SDK](https://cloud.google.com/sdk)。"
   ]
  },
  {
   "cell_type": "markdown",
   "metadata": {
    "id": "8ckyxpX_oSzD"
   },
   "source": [
    "设置您的项目ID\n",
    "\n",
    "**如果您不知道您的项目ID**，请尝试以下操作：\n",
    "* 运行 `gcloud config list`。\n",
    "* 运行 `gcloud projects list`。\n",
    "* 查看支持页面： [找到项目ID](https://support.google.com/googleapi/answer/7014113)"
   ]
  },
  {
   "cell_type": "code",
   "execution_count": null,
   "metadata": {
    "id": "zY8DKBoVoVy3"
   },
   "outputs": [],
   "source": [
    "PROJECT_ID = \"[your-project-id]\"  # @param {type:\"string\"}\n",
    "\n",
    "# Set the project id\n",
    "! gcloud config set project {PROJECT_ID}"
   ]
  },
  {
   "cell_type": "markdown",
   "metadata": {
    "id": "mSQjVQmMosMl"
   },
   "source": [
    "区域\n",
    "\n",
    "您也可以更改 Vertex AI 使用的 `REGION` 变量。了解更多关于 [Vertex AI 区域](https://cloud.google.com/vertex-ai/docs/general/locations)。"
   ]
  },
  {
   "cell_type": "code",
   "execution_count": null,
   "metadata": {
    "id": "Se9FWWhLotvB"
   },
   "outputs": [],
   "source": [
    "REGION = \"us-central1\"  # @param {type:\"string\"}"
   ]
  },
  {
   "cell_type": "markdown",
   "metadata": {
    "id": "IfJRIMBpo5Pg"
   },
   "source": [
    "### 验证您的谷歌云账户\n",
    "\n",
    "根据您的Jupyter环境，您可能需要手动认证。请按照下面的相关说明进行操作。"
   ]
  },
  {
   "cell_type": "markdown",
   "metadata": {
    "id": "acFN0s3So9-Y"
   },
   "source": [
    "1. 顶点 AI 工作台\n",
    "* 无需操作，因为您已经通过身份验证。"
   ]
  },
  {
   "cell_type": "markdown",
   "metadata": {
    "id": "dQ_mNwuapE5T"
   },
   "source": [
    "2. 本地 JupyterLab 实例，取消注释并运行:"
   ]
  },
  {
   "cell_type": "code",
   "execution_count": null,
   "metadata": {
    "id": "cR_MzpknpGgM"
   },
   "outputs": [],
   "source": [
    "# ! gcloud auth login"
   ]
  },
  {
   "cell_type": "markdown",
   "metadata": {
    "id": "h-MuVI_ypJfw"
   },
   "source": [
    "3. 协作，取消注释并运行："
   ]
  },
  {
   "cell_type": "code",
   "execution_count": null,
   "metadata": {
    "id": "BeaQlCwMpQUT"
   },
   "outputs": [],
   "source": [
    "# from google.colab import auth\n",
    "# auth.authenticate_user()"
   ]
  },
  {
   "cell_type": "markdown",
   "metadata": {
    "id": "3ivZkPUjpaFz"
   },
   "source": [
    "4. 设置服务账户和权限\n",
    "\n",
    "服务账户用于创建自定义训练作业。如果您不想使用项目的计算引擎服务账户，请将SERVICE_ACCOUNT设置为另一个服务账户ID。您可以按照[说明](https://cloud.google.com/iam/docs/creating-managing-service-accounts#creating)创建服务账户。"
   ]
  },
  {
   "cell_type": "code",
   "execution_count": null,
   "metadata": {
    "id": "vYE3b942wza4"
   },
   "outputs": [],
   "source": [
    "import sys\n",
    "\n",
    "SERVICE_ACCOUNT = \"[your-service-account]\"  # @param {type:\"string\"}\n",
    "\n",
    "IS_COLAB = \"google.colab\" in sys.modules\n",
    "if (\n",
    "    SERVICE_ACCOUNT == \"\"\n",
    "    or SERVICE_ACCOUNT is None\n",
    "    or SERVICE_ACCOUNT == \"[your-service-account]\"\n",
    "):\n",
    "    # Get your service account from gcloud\n",
    "    if not IS_COLAB:\n",
    "        shell_output = !gcloud auth list 2>/dev/null\n",
    "        SERVICE_ACCOUNT = shell_output[2].replace(\"*\", \"\").strip()\n",
    "\n",
    "    if IS_COLAB:\n",
    "        shell_output = ! gcloud projects describe  $PROJECT_ID\n",
    "        project_number = shell_output[-1].split(\":\")[1].strip().replace(\"'\", \"\")\n",
    "        SERVICE_ACCOUNT = f\"{project_number}-compute@developer.gserviceaccount.com\"\n",
    "\n",
    "    print(\"Service Account:\", SERVICE_ACCOUNT)"
   ]
  },
  {
   "cell_type": "code",
   "execution_count": null,
   "metadata": {
    "id": "WWIxsCJFCg5Z"
   },
   "outputs": [],
   "source": [
    "# Grant Cloud Storage permission.\n",
    "! gcloud projects add-iam-policy-binding $PROJECT_ID \\\n",
    "        --member=\"serviceAccount:$SERVICE_ACCOUNT\" \\\n",
    "        --role=\"roles/storage.admin\" \\\n",
    "        --quiet\n",
    "\n",
    "# Grant AI Platform permission.\n",
    "! gcloud projects add-iam-policy-binding $PROJECT_ID \\\n",
    "        --member=\"serviceAccount:$SERVICE_ACCOUNT\" \\\n",
    "        --role=\"roles/aiplatform.user\" \\\n",
    "        --quiet\n",
    "\n",
    "! gcloud projects get-iam-policy $PROJECT_ID \\\n",
    "        --filter=bindings.members:serviceAccount:$SERVICE_ACCOUNT"
   ]
  },
  {
   "cell_type": "markdown",
   "metadata": {
    "id": "OKtKGmr9pfr6"
   },
   "source": [
    "创建一个云存储桶\n",
    "\n",
    "创建一个存储桶来存储中间产物，如数据集。"
   ]
  },
  {
   "cell_type": "code",
   "execution_count": null,
   "metadata": {
    "id": "In3aQanwYjFB"
   },
   "outputs": [],
   "source": [
    "BUCKET_URI = f\"gs://your-bucket-name-{PROJECT_ID}-unique\"  # @param {type:\"string\"}"
   ]
  },
  {
   "cell_type": "markdown",
   "metadata": {
    "id": "GOaOsIjxp0oB"
   },
   "source": [
    "如果您的存储桶尚不存在：运行以下单元格以创建您的云存储桶。"
   ]
  },
  {
   "cell_type": "code",
   "execution_count": null,
   "metadata": {
    "id": "Wn5QiIl2p16e"
   },
   "outputs": [],
   "source": [
    "! gsutil mb -l $REGION -p $PROJECT_ID $BUCKET_URI"
   ]
  },
  {
   "cell_type": "markdown",
   "metadata": {
    "id": "ankcS-vtp7Wv"
   },
   "source": [
    "###导入库"
   ]
  },
  {
   "cell_type": "code",
   "execution_count": null,
   "metadata": {
    "id": "WffSImMvp-Po"
   },
   "outputs": [],
   "source": [
    "import os\n",
    "\n",
    "from google.cloud import aiplatform"
   ]
  },
  {
   "cell_type": "markdown",
   "metadata": {
    "id": "OMrAJ8RGqBQu"
   },
   "source": [
    "### 初始化用于Python的Vertex AI SDK\n",
    "\n",
    "为您的项目和相应的存储桶初始化Python的Vertex AI SDK。"
   ]
  },
  {
   "cell_type": "code",
   "execution_count": null,
   "metadata": {
    "id": "AWRzBFExqERG"
   },
   "outputs": [],
   "source": [
    "aiplatform.init(project=PROJECT_ID, location=REGION, staging_bucket=BUCKET_URI)"
   ]
  },
  {
   "cell_type": "markdown",
   "metadata": {
    "id": "MYzX9ZgjsyyY"
   },
   "source": [
    "启用Artifact Registry API\n",
    "\n",
    "首先，您必须为您的项目启用Artifact Registry API服务。\n",
    "\n",
    "了解更多关于[启用服务](https://cloud.google.com/artifact-registry/docs/enable-service)。"
   ]
  },
  {
   "cell_type": "code",
   "execution_count": null,
   "metadata": {
    "id": "bG4Rpt-As55f"
   },
   "outputs": [],
   "source": [
    "! gcloud services enable artifactregistry.googleapis.com --quiet\n",
    "\n",
    "if os.getenv(\"IS_TESTING\"):\n",
    "    ! sudo apt-get update --yes && sudo apt-get --only-upgrade --yes install google-cloud-sdk-cloud-run-proxy google-cloud-sdk-harbourbridge google-cloud-sdk-cbt google-cloud-sdk-gke-gcloud-auth-plugin google-cloud-sdk-kpt google-cloud-sdk-local-extract google-cloud-sdk-minikube google-cloud-sdk-app-engine-java google-cloud-sdk-app-engine-go google-cloud-sdk-app-engine-python google-cloud-sdk-spanner-emulator google-cloud-sdk-bigtable-emulator google-cloud-sdk-nomos google-cloud-sdk-package-go-module google-cloud-sdk-firestore-emulator kubectl google-cloud-sdk-datastore-emulator google-cloud-sdk-app-engine-python-extras google-cloud-sdk-cloud-build-local google-cloud-sdk-kubectl-oidc google-cloud-sdk-anthos-auth google-cloud-sdk-app-engine-grpc google-cloud-sdk-pubsub-emulator google-cloud-sdk-datalab google-cloud-sdk-skaffold google-cloud-sdk google-cloud-sdk-terraform-tools google-cloud-sdk-config-connector\n",
    "    ! gcloud components update --quiet"
   ]
  },
  {
   "cell_type": "markdown",
   "metadata": {
    "id": "-ayTbNdi62_t"
   },
   "source": [
    "TensorBoard实例\n",
    "\n",
    "在展示Vertex AI TensorBoard实验之前，必须先创建一个专门用于存储实验的区域化资源——Vertex AI TensorBoard实例。您可以在一个项目中创建多个实例。您可以使用命令 `gcloud ai tensorboards list` 来获取已存在的TensorBoard实例列表。"
   ]
  },
  {
   "cell_type": "markdown",
   "metadata": {
    "id": "9c3QrDTZdaxk"
   },
   "source": [
    "将您的TensorBoard实例显示名称设置为####"
   ]
  },
  {
   "cell_type": "code",
   "execution_count": null,
   "metadata": {
    "id": "azlwb__AX8gs"
   },
   "outputs": [],
   "source": [
    "TENSORBOARD_NAME = f\"your-tensorboard-{PROJECT_ID}-unique\"  # @param {type:\"string\"}"
   ]
  },
  {
   "cell_type": "markdown",
   "metadata": {
    "id": "vJrWKK0mY7H7"
   },
   "source": [
    "#### 创建一个TensorBoard实例\n",
    "\n",
    "如果您还没有TensorBoard实例，请通过运行以下代码单元格来创建一个："
   ]
  },
  {
   "cell_type": "code",
   "execution_count": null,
   "metadata": {
    "id": "JqVNsRFrc_78"
   },
   "outputs": [],
   "source": [
    "tensorboard = aiplatform.Tensorboard.create(\n",
    "    display_name=TENSORBOARD_NAME, project=PROJECT_ID, location=REGION\n",
    ")\n",
    "\n",
    "TENSORBOARD_INSTANCE_NAME = tensorboard.resource_name\n",
    "\n",
    "print(\"TensorBoard instance name:\", TENSORBOARD_INSTANCE_NAME)"
   ]
  },
  {
   "cell_type": "markdown",
   "metadata": {
    "id": "yoR29gW2S24w"
   },
   "source": [
    "## 训练模型\n",
    "\n",
    "使用您的自定义训练代码训练模型时，选择以下选项之一：\n",
    "\n",
    "- **预构建容器**：将您的自定义训练代码加载为 Python 包到 Google Cloud 的预构建容器镜像中。\n",
    "\n",
    "- **自定义容器**：创建包含您的自定义训练代码的自定义容器镜像。\n",
    "\n",
    "在本教程中，我们将使用自定义容器来训练一个自定义模型。"
   ]
  },
  {
   "cell_type": "markdown",
   "metadata": {
    "id": "OrpUIkAIs_uQ"
   },
   "source": [
    "创建一个私有的Docker仓库\n",
    "\n",
    "您的第一步是在Google Artifact Registry中创建自己的Docker仓库。"
   ]
  },
  {
   "cell_type": "code",
   "execution_count": null,
   "metadata": {
    "id": "0amu4063tDnG"
   },
   "outputs": [],
   "source": [
    "DOCKER_REPOSITORY = f\"my-docker-repo-{PROJECT_ID}-unique\"\n",
    "\n",
    "! gcloud artifacts repositories create {DOCKER_REPOSITORY} \\\n",
    "    --repository-format=docker \\\n",
    "    --location={REGION} \\\n",
    "    --description=\"Repository for TensorBoard Custom Training Job\" \\\n",
    "    --quiet\n",
    "\n",
    "! gcloud artifacts repositories list"
   ]
  },
  {
   "cell_type": "markdown",
   "metadata": {
    "id": "MPqbvhO6tK_e"
   },
   "source": [
    "### 配置身份验证到您的私有Docker仓库\n",
    "\n",
    "在推送或拉取容器镜像之前，配置Docker使用`gcloud`命令行工具来对您区域的Artifact Registry进行身份验证请求。"
   ]
  },
  {
   "cell_type": "code",
   "execution_count": null,
   "metadata": {
    "id": "yAeCXZiStPCX"
   },
   "outputs": [],
   "source": [
    "import sys\n",
    "\n",
    "if not IS_COLAB:\n",
    "    ! gcloud auth configure-docker {REGION}-docker.pkg.dev --quiet"
   ]
  },
  {
   "cell_type": "markdown",
   "metadata": {
    "id": "pSXrzCWi-bTD"
   },
   "source": [
    "### 创建自定义容器镜像并推送到私人的Docker仓库\n",
    "\n",
    "首先，您需要创建一个训练脚本文件和一个Docker文件。\n",
    "\n",
    "创建一个文件夹用来存放所有的训练代码。"
   ]
  },
  {
   "cell_type": "code",
   "execution_count": null,
   "metadata": {
    "id": "ZYO55-ZK-lm2"
   },
   "outputs": [],
   "source": [
    "PYTHON_PACKAGE_APPLICATION_DIR = \"trainer\"\n",
    "\n",
    "! mkdir -p $PYTHON_PACKAGE_APPLICATION_DIR"
   ]
  },
  {
   "cell_type": "markdown",
   "metadata": {
    "id": "hyAwgsoQmaYI"
   },
   "source": [
    "#### 准备训练脚本\n",
    "\n",
    "您的训练代码必须配置为将 TensorBoard 日志写入存储桶，其位置由 Vertex AI Training 通过预定义的环境变量 `AIP_TENSORBOARD_LOG_DIR` 自动提供。\n",
    "\n",
    "通常可以通过将 `os.environ['AIP_TENSORBOARD_LOG_DIR']` 作为日志目录提供给开源 TensorBoard 日志写入 API 来实现。\n",
    "\n",
    "例如，在 TensorFlow 2.x 中，您可以使用以下代码创建一个 tensorboard_callback：\n",
    "\n",
    "    tensorboard_callback = tf.keras.callbacks.TensorBoard( \n",
    "      log_dir=os.environ['AIP_TENSORBOARD_LOG_DIR'], \n",
    "      histogram_freq=1) \n",
    "`AIP_TENSORBOARD_LOG_DIR` 是您创建自定义训练作业时提供的 `BASE_OUTPUT_DIR` 中的一部分。\n",
    "\n",
    "要为您的训练作业启用 Vertex AI TensorBoard 分析程序，请将以下内容添加到您的训练脚本中：\n",
    "\n",
    "在您的顶层导入中添加 cloud_profiler 导入：\n",
    "\n",
    "    from google.cloud.aiplatform.training_utils import cloud_profiler\n",
    "\n",
    "通过添加以下代码初始化 cloud_profiler 插件：\n",
    "\n",
    "    cloud_profiler.init()"
   ]
  },
  {
   "cell_type": "code",
   "execution_count": null,
   "metadata": {
    "id": "8JCgWW7Au1w8"
   },
   "outputs": [],
   "source": [
    "%%writefile trainer/task.py\n",
    "\n",
    "import tensorflow as tf\n",
    "import argparse\n",
    "import os\n",
    "import sys, traceback\n",
    "from google.cloud.aiplatform.training_utils import cloud_profiler\n",
    "\n",
    "\"\"\"Train an mnist model and use cloud_profiler for profiling.\"\"\"\n",
    "\n",
    "def _create_model():\n",
    "    model = tf.keras.models.Sequential(\n",
    "        [\n",
    "            tf.keras.layers.Flatten(input_shape=(28, 28)),\n",
    "            tf.keras.layers.Dense(128, activation=\"relu\"),\n",
    "            tf.keras.layers.Dropout(0.2),\n",
    "            tf.keras.layers.Dense(10),\n",
    "        ]\n",
    "    )\n",
    "    return model\n",
    "\n",
    "\n",
    "def main(args):\n",
    "    # Initialize the profiler.\n",
    "    print('Initialize the profiler ...')\n",
    "        \n",
    "    try:\n",
    "        cloud_profiler.init()\n",
    "    except:\n",
    "        ex_type, ex_value, ex_traceback = sys.exc_info()\n",
    "        print(\"*** Unexpected:\", ex_type.__name__, ex_value)\n",
    "        traceback.print_tb(ex_traceback, limit=10, file=sys.stdout)\n",
    "    \n",
    "    print('The profiler initiated.')\n",
    "    \n",
    "    print('Loading and preprocessing data ...')\n",
    "    mnist = tf.keras.datasets.mnist\n",
    "\n",
    "    (x_train, y_train), (x_test, y_test) = mnist.load_data()\n",
    "    x_train, x_test = x_train / 255.0, x_test / 255.0\n",
    "\n",
    "    print('Creating and training model ...')\n",
    "\n",
    "    model = _create_model()\n",
    "    model.compile(\n",
    "      optimizer=\"adam\",\n",
    "      loss=tf.keras.losses.sparse_categorical_crossentropy,\n",
    "      metrics=[\"accuracy\"],\n",
    "    )\n",
    "\n",
    "    log_dir = \"logs\"\n",
    "    if 'AIP_TENSORBOARD_LOG_DIR' in os.environ:\n",
    "      log_dir = os.environ['AIP_TENSORBOARD_LOG_DIR']\n",
    "\n",
    "    print('Setting up the TensorBoard callback ...')\n",
    "    tensorboard_callback = tf.keras.callbacks.TensorBoard(\n",
    "        log_dir=log_dir,\n",
    "        histogram_freq=1)\n",
    "\n",
    "    print('Training model ...')\n",
    "    model.fit(\n",
    "        x_train,\n",
    "        y_train,\n",
    "        epochs=args.epochs,\n",
    "        verbose=0,\n",
    "        callbacks=[tensorboard_callback],\n",
    "    )\n",
    "    print('Training completed.')\n",
    "\n",
    "    print('Saving model ...')\n",
    "\n",
    "    model_dir = \"model\"\n",
    "    if 'AIP_MODEL_DIR' in os.environ:\n",
    "      model_dir = os.environ['AIP_MODEL_DIR']\n",
    "    tf.saved_model.save(model, model_dir)\n",
    "\n",
    "    print('Model saved at ' + model_dir)\n",
    "\n",
    "\n",
    "if __name__ == \"__main__\":\n",
    "    parser = argparse.ArgumentParser()\n",
    "    parser.add_argument(\n",
    "        \"--epochs\", type=int, default=100, help=\"Number of epochs to run model.\"\n",
    "    )\n",
    "    \n",
    "    args = parser.parse_args()\n",
    "    main(args)"
   ]
  },
  {
   "cell_type": "markdown",
   "metadata": {
    "id": "LiOEvgkA_90f"
   },
   "source": [
    "准备Dockerfile."
   ]
  },
  {
   "cell_type": "code",
   "execution_count": null,
   "metadata": {
    "id": "aKcS7yzcAXWf"
   },
   "outputs": [],
   "source": [
    "%%writefile Dockerfile\n",
    "# Specifies base image and tag\n",
    "FROM us-docker.pkg.dev/vertex-ai/training/tf-cpu.2-9:latest\n",
    "WORKDIR /root\n",
    "\n",
    "# Installs additional packages as you need.\n",
    "RUN pip3 install \"google-cloud-aiplatform[cloud_profiler]>=1.20.0\"\n",
    "RUN pip3 install \"protobuf==3.20.3\"\n",
    "\n",
    "# Copies the trainer code to the docker image.\n",
    "RUN mkdir /root/trainer\n",
    "COPY trainer/task.py /root/trainer/task.py\n",
    "\n",
    "# Sets up the entry point to invoke the trainer.\n",
    "ENTRYPOINT [\"python\", \"-m\", \"trainer.task\"]"
   ]
  },
  {
   "cell_type": "markdown",
   "metadata": {
    "id": "ihYFahRAr6sj"
   },
   "source": [
    "构建一个定制的容器映像并推送到您的私人Docker仓库。"
   ]
  },
  {
   "cell_type": "code",
   "execution_count": null,
   "metadata": {
    "id": "pDs1qDLDA27F"
   },
   "outputs": [],
   "source": [
    "IMAGE_NAME = \"tensorboard-custom-container\"\n",
    "IMAGE_URI = f\"{REGION}-docker.pkg.dev/{PROJECT_ID}/{DOCKER_REPOSITORY}/{IMAGE_NAME}\"\n",
    "\n",
    "! gcloud builds submit --project {PROJECT_ID} --region={REGION} --tag {IMAGE_URI} --timeout=3600s --quiet"
   ]
  },
  {
   "cell_type": "markdown",
   "metadata": {
    "id": "k4e6OYmimqTR"
   },
   "source": [
    "### 创建并运行自定义训练作业\n",
    "\n",
    "使用自定义容器镜像配置一个[自定义作业](https://cloud.google.com/vertex-ai/docs/training/create-custom-job)。"
   ]
  },
  {
   "cell_type": "code",
   "execution_count": null,
   "metadata": {
    "id": "jd6P-lQhFBPg"
   },
   "outputs": [],
   "source": [
    "JOB_NAME = \"tensorboard-job-unique\"\n",
    "\n",
    "job = aiplatform.CustomContainerTrainingJob(\n",
    "    display_name=JOB_NAME, container_uri=IMAGE_URI\n",
    ")"
   ]
  },
  {
   "cell_type": "markdown",
   "metadata": {
    "id": "51hKGTbU32Eg"
   },
   "source": [
    "运行自定义训练任务\n",
    "\n",
    "接下来，通过调用“run”方法并使用以下参数来运行自定义任务，以开始训练任务：\n",
    "\n",
    "- `args`：要传递给训练脚本的命令行参数。\n",
    "   - `--epochs`：训练的时期数。\n",
    "- `replica_count`：用于训练的计算实例数量（replica_count = 1 表示单节点训练）。\n",
    "- `machine_type`：用于计算实例的机器类型。\n",
    "- `tensorboard`：TensorBoard实例。\n",
    "- `service_account`：服务账号。\n",
    "- `sync`：是否阻塞直到作业完成。"
   ]
  },
  {
   "cell_type": "code",
   "execution_count": null,
   "metadata": {
    "id": "OC6_4KeI4Fit"
   },
   "outputs": [],
   "source": [
    "base_output_dir = \"{}/{}\".format(BUCKET_URI, JOB_NAME)\n",
    "MACHINE_TYPE = \"n1-standard-4\"\n",
    "EPOCHS = 2\n",
    "training_args = [\n",
    "    \"--epochs=\" + str(EPOCHS),\n",
    "]\n",
    "\n",
    "job.run(\n",
    "    args=training_args,\n",
    "    replica_count=1,\n",
    "    machine_type=MACHINE_TYPE,\n",
    "    base_output_dir=base_output_dir,\n",
    "    tensorboard=TENSORBOARD_INSTANCE_NAME,\n",
    "    service_account=SERVICE_ACCOUNT,\n",
    ")"
   ]
  },
  {
   "cell_type": "markdown",
   "metadata": {
    "id": "JkEe2Nb_85UD"
   },
   "source": [
    "查看TensorBoard分析仪仪表板\n",
    "\n",
    "当自定义作业状态切换到运行时，您可以通过Google Cloud控制台上的自定义作业页或实验页访问Vertex AI TensorBoard分析仪仪表板。\n",
    "\n",
    "Google Cloud指南[使用分析仪剖析模型训练性能](https://cloud.google.com/vertex-ai/docs/training/tensorboard-profiler)提供了详细的说明，以便访问Vertex AI TensorBoard分析仪仪表板并捕获性能分析会话。"
   ]
  },
  {
   "cell_type": "markdown",
   "metadata": {
    "id": "TpV-iwP9qw9c"
   },
   "source": [
    "清理\n",
    "\n",
    "要清理此项目中使用的所有Google Cloud资源，您可以[删除用于本教程的Google Cloud项目](https://cloud.google.com/resource-manager/docs/creating-managing-projects#shutting_down_projects)。\n",
    "\n",
    "否则，您可以删除本教程中创建的各个资源：\n",
    "\n",
    "- Docker存储库\n",
    "- 训练作业\n",
    "- TensorBoard实例\n",
    "- 云存储存储桶"
   ]
  },
  {
   "cell_type": "code",
   "execution_count": null,
   "metadata": {
    "id": "WR-ZhQ9XwpRI"
   },
   "outputs": [],
   "source": [
    "delete_tensorboard = True\n",
    "delete_bucket = False\n",
    "\n",
    "# Delete docker repository.\n",
    "! gcloud artifacts repositories delete $DOCKER_REPOSITORY --project {PROJECT_ID} --location {REGION} --quiet\n",
    "\n",
    "try:\n",
    "    job.delete()\n",
    "except Exception as e:\n",
    "    print(e)\n",
    "\n",
    "if delete_tensorboard:\n",
    "    tensorboard.delete()\n",
    "\n",
    "if delete_bucket or os.getenv(\"IS_TESTING\"):\n",
    "    ! gsutil -m rm -r $BUCKET_URI"
   ]
  }
 ],
 "metadata": {
  "colab": {
   "name": "tensorboard_profiler_custom_training.ipynb",
   "toc_visible": true
  },
  "kernelspec": {
   "display_name": "Python 3",
   "name": "python3"
  }
 },
 "nbformat": 4,
 "nbformat_minor": 0
}
