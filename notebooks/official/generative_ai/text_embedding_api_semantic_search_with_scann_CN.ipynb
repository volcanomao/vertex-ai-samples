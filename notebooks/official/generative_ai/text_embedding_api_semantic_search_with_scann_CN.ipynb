{
 "cells": [
  {
   "cell_type": "code",
   "execution_count": null,
   "metadata": {
    "id": "KSP1duKDeaDR"
   },
   "outputs": [],
   "source": [
    "# Copyright 2023 Google LLC\n",
    "#\n",
    "# Licensed under the Apache License, Version 2.0 (the \"License\");\n",
    "# you may not use this file except in compliance with the License.\n",
    "# You may obtain a copy of the License at\n",
    "#\n",
    "#     https://www.apache.org/licenses/LICENSE-2.0\n",
    "#\n",
    "# Unless required by applicable law or agreed to in writing, software\n",
    "# distributed under the License is distributed on an \"AS IS\" BASIS,\n",
    "# WITHOUT WARRANTIES OR CONDITIONS OF ANY KIND, either express or implied.\n",
    "# See the License for the specific language governing permissions and\n",
    "# limitations under the License."
   ]
  },
  {
   "cell_type": "markdown",
   "metadata": {
    "id": "JAPoU8Sm5E6e"
   },
   "source": [
    "# 利用嵌入进行语义搜索\n",
    "\n",
    "<table align=\"left\">\n",
    "  <td style=\"text-align: center\">\n",
    "    <a href=\"https://colab.research.google.com/github/GoogleCloudPlatform/vertex-ai-samples/blob/main/notebooks/official/generative_ai/text_embedding_api_semantic_search_with_scann.ipynb\">\n",
    "      <img src=\"https://cloud.google.com/ml-engine/images/colab-logo-32px.png\" alt=\"Google Colaboratory logo\"><br> 在 Colab 中打开\n",
    "    </a>\n",
    "  </td>\n",
    "  <td style=\"text-align: center\">\n",
    "    <a href=\"https://console.cloud.google.com/vertex-ai/colab/import/https:%2F%2Fraw.githubusercontent.com%2FGoogleCloudPlatform%2Fvertex-ai-samples%2Fmain%2Fnotebooks%2Fofficial%2Fgenerative_ai%2Ftext_embedding_api_semantic_search_with_scann.ipynb\">\n",
    "      <img width=\"32px\" src=\"https://cloud.google.com/ml-engine/images/colab-enterprise-logo-32px.png\" alt=\"Google Cloud Colab Enterprise logo\"><br> 在 Colab Enterprise 中打开\n",
    "    </a>\n",
    "  </td>    \n",
    "  <td style=\"text-align: center\">\n",
    "    <a href=\"https://console.cloud.google.com/vertex-ai/workbench/deploy-notebook?download_url=https://raw.githubusercontent.com/GoogleCloudPlatform/vertex-ai-samples/main/notebooks/official/generative_ai/text_embedding_api_semantic_search_with_scann.ipynb\">\n",
    "      <img src=\"https://lh3.googleusercontent.com/UiNooY4LUgW_oTvpsNhPpQzsstV5W8F7rYgxgGBD85cWJoLmrOzhVs_ksK_vgx40SHs7jCqkTkCk=e14-rj-sc0xffffff-h130-w32\" alt=\"Vertex AI logo\"><br> 在 Workbench 中打开\n",
    "    </a>\n",
    "  </td>\n",
    "  <td style=\"text-align: center\">\n",
    "    <a href=\"https://github.com/GoogleCloudPlatform/vertex-ai-samples/blob/main/notebooks/official/generative_ai/text_embedding_api_semantic_search_with_scann.ipynb\">\n",
    "      <img src=\"https://cloud.google.com/ml-engine/images/github-logo-32px.png\" alt=\"GitHub logo\"><br> 在 GitHub 上查看\n",
    "    </a>\n",
    "  </td>\n",
    "</table>"
   ]
  },
  {
   "cell_type": "markdown",
   "metadata": {
    "id": "tvgnzT1CKxrO"
   },
   "source": [
    "## 概述\n",
    "\n",
    "语义搜索是一种利用词语、短语和语境的含义来查找最相关结果的搜索类型。语义搜索依赖于最能匹配用户查询与最相似结果的向量嵌入。\n",
    "\n",
    "在这种情况下，嵌入是代表单词的向量。在向量空间中，物品越接近，它们就越相似。因此，当您查询一个嵌入时，返回与您的输入（来自您的训练输入）最接近的物品。\n",
    "\n",
    "了解更多关于[文本嵌入](https://cloud.google.com/vertex-ai/docs/generative-ai/embeddings/get-text-embeddings)。"
   ]
  },
  {
   "cell_type": "markdown",
   "metadata": {
    "id": "d975e698c9a4"
   },
   "source": [
    "### 目标\n",
    "\n",
    "在本教程中，我们将演示如何从文本中创建嵌入并进行语义搜索。这些嵌入是使用[Google ScaNN：高效的向量相似度搜索](https://ai.googleblog.com/2020/07/announcing-scann-efficient-vector.html)生成的。\n",
    "\n",
    "本教程使用以下谷歌云ML服务和资源：\n",
    "- Vertex LLM SDK\n",
    "- ScaNN [github](https://github.com/google-research/google-research/tree/master/scann)\n",
    "\n",
    "执行的步骤包括：\n",
    "- 安装和导入\n",
    "- 创建嵌入数据集\n",
    "- 创建索引\n",
    "- 查询索引"
   ]
  },
  {
   "cell_type": "markdown",
   "metadata": {
    "id": "08d289fa873f"
   },
   "source": [
    "### 数据集\n",
    "\n",
    "在本教程中，您将使用由Google Brain开发的名为\"wide_and_deep_trainer_container_tests_input.jsonl\"的样本数据集。\n",
    "\n",
    "接下来的几步中，您将从Google Cloud示例数据桶导入该文件。\n",
    "\n",
    "这里是文件的链接："
   ]
  },
  {
   "cell_type": "code",
   "execution_count": null,
   "metadata": {
    "id": "C1ZEiJcophY0"
   },
   "outputs": [],
   "source": [
    "DATASET_URI = \"gs://cloud-samples-data/vertex-ai/dataset-management/datasets/bert_finetuning/wide_and_deep_trainer_container_tests_input.jsonl\"  # @param {type:\"string\"}"
   ]
  },
  {
   "cell_type": "markdown",
   "metadata": {
    "id": "aed92deeb4a0"
   },
   "source": [
    "费用\n",
    "\n",
    "此教程使用 Google Cloud 的可计费组件：\n",
    "\n",
    "* Vertex AI\n",
    "* Cloud Storage\n",
    "\n",
    "了解 [Vertex AI 价格](https://cloud.google.com/vertex-ai/pricing)，\n",
    "以及 [Cloud Storage 价格](https://cloud.google.com/storage/pricing)，\n",
    "并使用 [定价计算器](https://cloud.google.com/products/calculator/)\n",
    "根据您的预期使用情况生成成本估算。"
   ]
  },
  {
   "cell_type": "markdown",
   "metadata": {
    "id": "7cc240e9c1a6"
   },
   "source": [
    "开始吧"
   ]
  },
  {
   "cell_type": "markdown",
   "metadata": {
    "id": "a6ab0747c5e6"
   },
   "source": [
    "### 为Python安装Vertex AI SDK和其他所需的软件包"
   ]
  },
  {
   "cell_type": "code",
   "execution_count": null,
   "metadata": {
    "id": "bb3fc5b6c2c3"
   },
   "outputs": [],
   "source": [
    "!pip3 install google-cloud-aiplatform \"shapely<2.0.0\" --quiet\n",
    "!pip install scann --quiet"
   ]
  },
  {
   "cell_type": "markdown",
   "metadata": {
    "id": "16220914acc5"
   },
   "source": [
    "### 重新启动运行时（仅限Colab）\n",
    "\n",
    "为了使用新安装的包，你必须在Google Colab上重新启动运行时。"
   ]
  },
  {
   "cell_type": "code",
   "execution_count": null,
   "metadata": {
    "id": "157953ab28f0"
   },
   "outputs": [],
   "source": [
    "import sys\n",
    "\n",
    "if \"google.colab\" in sys.modules:\n",
    "\n",
    "    import IPython\n",
    "\n",
    "    app = IPython.Application.instance()\n",
    "    app.kernel.do_shutdown(True)"
   ]
  },
  {
   "cell_type": "markdown",
   "metadata": {
    "id": "e669f8088ac3"
   },
   "source": [
    "<div class=\"alert alert-block alert-warning\">\n",
    "    <b>⚠️ 内核即将重新启动。请等待它完成后再继续下一步。⚠️</b>\n",
    "</div>"
   ]
  },
  {
   "cell_type": "markdown",
   "metadata": {
    "id": "ff666ce4051c"
   },
   "source": [
    "### 在Google Colab上验证您的笔记本环境\n",
    "\n",
    "在Google Colab上验证您的环境。"
   ]
  },
  {
   "cell_type": "code",
   "execution_count": null,
   "metadata": {
    "id": "cc7251520a07"
   },
   "outputs": [],
   "source": [
    "import sys\n",
    "\n",
    "if \"google.colab\" in sys.modules:\n",
    "\n",
    "    from google.colab import auth\n",
    "\n",
    "    auth.authenticate_user()"
   ]
  },
  {
   "cell_type": "markdown",
   "metadata": {
    "id": "60763ee24ce0"
   },
   "source": [
    "### 设置谷歌云项目信息并初始化 Vertex AI SDK\n",
    "\n",
    "要开始使用Vertex AI，您必须拥有一个现有的谷歌云项目并[启用Vertex AI API](https://console.cloud.google.com/flows/enableapi?apiid=aiplatform.googleapis.com)。了解更多关于[设置项目和开发环境](https://cloud.google.com/vertex-ai/docs/start/cloud-environment)的信息。"
   ]
  },
  {
   "cell_type": "code",
   "execution_count": null,
   "metadata": {
    "id": "0e1a068fcb88"
   },
   "outputs": [],
   "source": [
    "PROJECT_ID = \"[your-project-id]\"  # @param {type:\"string\"}\n",
    "LOCATION = \"us-central1\"  # @param {type:\"string\"}\n",
    "\n",
    "\n",
    "import vertexai\n",
    "\n",
    "# Initiate Vertex AI\n",
    "vertexai.init(project=PROJECT_ID, location=LOCATION)"
   ]
  },
  {
   "cell_type": "markdown",
   "metadata": {
    "id": "dae340cb-0583-4e7e-a562-6817ee4d7f6d"
   },
   "source": [
    "### 导入库"
   ]
  },
  {
   "cell_type": "code",
   "execution_count": null,
   "metadata": {
    "id": "412d00f1-08db-4880-8ced-52a9583757b8"
   },
   "outputs": [],
   "source": [
    "import json\n",
    "import time\n",
    "\n",
    "import numpy as np\n",
    "import pandas as pd\n",
    "import scann\n",
    "from vertexai.preview.language_models import TextEmbeddingModel"
   ]
  },
  {
   "cell_type": "markdown",
   "metadata": {
    "id": "d1a62cd003f5"
   },
   "source": [
    "使用谷歌预训练模型初始化文本嵌入模型。"
   ]
  },
  {
   "cell_type": "code",
   "execution_count": null,
   "metadata": {
    "id": "1e6e1b98-a632-44a2-afb8-fc212018ef4f"
   },
   "outputs": [],
   "source": [
    "model = TextEmbeddingModel.from_pretrained(\"google/textembedding-gecko@001\")"
   ]
  },
  {
   "cell_type": "markdown",
   "metadata": {
    "id": "f50f22f3-ec85-463e-b6fe-5c8e6b80b07b"
   },
   "source": [
    "创建嵌入数据集\n",
    "\n",
    "该数据集展示了文本嵌入API与向量数据库的使用。它不打算用于任何其他目的，比如评估模型。该数据集很小，不代表所有可能文本的全面样本。"
   ]
  },
  {
   "cell_type": "code",
   "execution_count": null,
   "metadata": {
    "id": "2OUg-Qf8iFta"
   },
   "outputs": [],
   "source": [
    "!gsutil cp gs://cloud-samples-data/vertex-ai/dataset-management/datasets/bert_finetuning/wide_and_deep_trainer_container_tests_input.jsonl ."
   ]
  },
  {
   "cell_type": "code",
   "execution_count": null,
   "metadata": {
    "id": "BNPapKXviHlE"
   },
   "outputs": [],
   "source": [
    "# reads a JSON file and stores the records in a list\n",
    "records = []\n",
    "with open(\"wide_and_deep_trainer_container_tests_input.jsonl\") as f:\n",
    "    for line in f:\n",
    "        record = json.loads(line)\n",
    "        records.append(record)"
   ]
  },
  {
   "cell_type": "code",
   "execution_count": null,
   "metadata": {
    "id": "Z1Y9Bx2miJba"
   },
   "outputs": [],
   "source": [
    "# Peek at the data.\n",
    "df = pd.DataFrame(records)\n",
    "df.head(10)"
   ]
  },
  {
   "cell_type": "code",
   "execution_count": null,
   "metadata": {
    "id": "1v7zUwoWiPl-"
   },
   "outputs": [],
   "source": [
    "# This function takes a text string as input\n",
    "# and returns the embedding of the text\n",
    "\n",
    "\n",
    "def get_embedding(text: str) -> list:\n",
    "    try:\n",
    "        embeddings = model.get_embeddings([text])\n",
    "        return embeddings[0].values\n",
    "    except:\n",
    "        return []\n",
    "\n",
    "\n",
    "get_embedding.counter = 0\n",
    "\n",
    "# This may take several minutes to complete.\n",
    "df[\"embedding\"] = df[\"textContent\"].apply(lambda x: get_embedding(x))"
   ]
  },
  {
   "cell_type": "code",
   "execution_count": null,
   "metadata": {
    "id": "QUQYhwpXie_-"
   },
   "outputs": [],
   "source": [
    "# Peek at the data.\n",
    "df.head()"
   ]
  },
  {
   "cell_type": "markdown",
   "metadata": {
    "id": "ba4f49b6-65e1-49ea-988b-c4e195219deb"
   },
   "source": [
    "创建一个索引"
   ]
  },
  {
   "cell_type": "code",
   "execution_count": null,
   "metadata": {
    "id": "245bc8cd-038b-484a-acb2-3a705d4cc4cf"
   },
   "outputs": [],
   "source": [
    "record_count = len(records)\n",
    "dataset = np.array([df.embedding[i] for i in range(record_count)])\n",
    "\n",
    "\n",
    "normalized_dataset = dataset / np.linalg.norm(dataset, axis=1)[:, np.newaxis]\n",
    "# configure ScaNN as a tree - asymmetric hash hybrid with reordering\n",
    "# anisotropic quantization as described in the paper; see README\n",
    "\n",
    "# use scann.scann_ops.build() to instead create a TensorFlow-compatible searcher\n",
    "searcher = (\n",
    "    scann.scann_ops_pybind.builder(normalized_dataset, 10, \"dot_product\")\n",
    "    .tree(\n",
    "        num_leaves=record_count,\n",
    "        num_leaves_to_search=record_count,\n",
    "        training_sample_size=record_count,\n",
    "    )\n",
    "    .score_ah(2, anisotropic_quantization_threshold=0.2)\n",
    "    .reorder(100)\n",
    "    .build()\n",
    ")"
   ]
  },
  {
   "cell_type": "markdown",
   "metadata": {
    "id": "9f1689eb-c27c-4566-afc7-7fbc55552aad"
   },
   "source": [
    "查询索引\n",
    "这是如何使用ScaNN库执行近似最近邻搜索的一个很好的例子。该函数以查询字符串作为输入，返回查询的前3个最近邻居。该函数高效且可用于快速搜索大型数据集。"
   ]
  },
  {
   "cell_type": "code",
   "execution_count": null,
   "metadata": {
    "id": "494079df-d8f6-4a6a-b26b-0b0477791adc"
   },
   "outputs": [],
   "source": [
    "def search(query: str) -> None:\n",
    "    start = time.time()\n",
    "    query = model.get_embeddings([query])[0].values\n",
    "    neighbors, distances = searcher.search(query, final_num_neighbors=3)\n",
    "    end = time.time()\n",
    "\n",
    "    for id, dist in zip(neighbors, distances):\n",
    "        print(f\"[docid:{id}] [{dist}] -- {df.textContent[int(id)][:125]}...\")\n",
    "    print(\"Latency (ms):\", 1000 * (end - start))"
   ]
  },
  {
   "cell_type": "markdown",
   "metadata": {
    "id": "C4if4lyqXLAN"
   },
   "source": [
    "你可以测试一些查询。"
   ]
  },
  {
   "cell_type": "code",
   "execution_count": null,
   "metadata": {
    "id": "50497681-6112-4147-a13e-afedb72b54f5"
   },
   "outputs": [],
   "source": [
    "search(\"tell me about an animal\")"
   ]
  },
  {
   "cell_type": "code",
   "execution_count": null,
   "metadata": {
    "id": "c814f835-3e2a-4366-a334-ccc636f00b83"
   },
   "outputs": [],
   "source": [
    "search(\"tell me about an important moment or event in your life\")"
   ]
  }
 ],
 "metadata": {
  "colab": {
   "name": "text_embedding_api_semantic_search_with_scann.ipynb",
   "toc_visible": true
  },
  "kernelspec": {
   "display_name": "Python 3",
   "name": "python3"
  }
 },
 "nbformat": 4,
 "nbformat_minor": 0
}
