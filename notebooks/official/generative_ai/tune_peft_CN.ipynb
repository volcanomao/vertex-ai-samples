{
 "cells": [
  {
   "cell_type": "code",
   "execution_count": null,
   "metadata": {
    "id": "9f0d0f32-23b4-41a6-b364-579da297c326"
   },
   "outputs": [],
   "source": [
    "# @title Copyright & License (click to expand)\n",
    "# Copyright 2023 Google LLC\n",
    "#\n",
    "# Licensed under the Apache License, Version 2.0 (the \"License\");\n",
    "# you may not use this file except in compliance with the License.\n",
    "# You may obtain a copy of the License at\n",
    "#\n",
    "#     https://www.apache.org/licenses/LICENSE-2.0\n",
    "#\n",
    "# Unless required by applicable law or agreed to in writing, software\n",
    "# distributed under the License is distributed on an \"AS IS\" BASIS,\n",
    "# WITHOUT WARRANTIES OR CONDITIONS OF ANY KIND, either express or implied.\n",
    "# See the License for the specific language governing permissions and\n",
    "# limitations under the License."
   ]
  },
  {
   "cell_type": "markdown",
   "metadata": {
    "id": "dd53d60c-97eb-4c72-91ea-f274a753ab34"
   },
   "source": [
    "# Vertex AI调整PEFT模型\n",
    "\n",
    "<table align=\"left\">\n",
    "  <td>\n",
    "    <a href=\"https://colab.research.google.com/github/GoogleCloudPlatform/vertex-ai-samples/blob/main/notebooks/official/generative_ai/tune_peft.ipynb\">\n",
    "      <img src=\"https://cloud.google.com/ml-engine/images/colab-logo-32px.png\" alt=\"Colab logo\"> 在Colab中运行\n",
    "    </a>\n",
    "  </td>\n",
    "  <td>\n",
    "    <a href=\"https://github.com/GoogleCloudPlatform/vertex-ai-samples/blob/main/notebooks/official/generative_ai/tune_peft.ipynb\">\n",
    "        <img src=\"https://cloud.google.com/ml-engine/images/github-logo-32px.png\" alt=\"GitHub logo\">\n",
    "      在GitHub上查看\n",
    "    </a>\n",
    "  </td>\n",
    "    <td>\n",
    "    <a href=\"https://console.cloud.google.com/vertex-ai/workbench/deploy-notebook?download_url=https://raw.githubusercontent.com/GoogleCloudPlatform/vertex-ai-samples/main/notebooks/official/generative_ai/tune_peft.ipynb\">\n",
    "       <img src=\"https://www.gstatic.com/cloud/images/navigation/vertex-ai.svg\" alt=\"Vertex AI logo\">在Vertex AI Workbench中打开\n",
    "    </a>\n",
    "</table>"
   ]
  },
  {
   "cell_type": "markdown",
   "metadata": {
    "id": "9ef820fb-1203-4cab-965f-17093a4ba25e"
   },
   "source": [
    "## 概述\n",
    "\n",
    "本教程演示了如何使用Vertex AI来调整PEFT大型语言模型（LLM）并进行预测。该工作流通过使用训练数据集微调基础模型来提高模型的准确性。\n",
    "\n",
    "了解更多关于[使用监督调整调整文本模型](https://cloud.google.com/vertex-ai/docs/generative-ai/models/tune-text-models-supervised)。"
   ]
  },
  {
   "cell_type": "markdown",
   "metadata": {
    "id": "74b00940-376c-4056-90fb-d22c1ce6eedf"
   },
   "source": [
    "### 目标\n",
    "\n",
    "在本教程中，您将学习如何使用 `Vertex AI LLM` 调整和部署一个PEFT大型语言模型。\n",
    "\n",
    "本教程使用以下Google Cloud ML服务：\n",
    "\n",
    "- `Vertex AI LLM`\n",
    "- `Vertex AI Model Garden`\n",
    "- `Vertex AI Prediction`\n",
    "\n",
    "执行的步骤包括：\n",
    "\n",
    "- 获取Vertex AI LLM模型。\n",
    "- 调整模型。\n",
    "  - 这将自动创建一个Vertex AI端点，并将模型部署到其中。\n",
    "- 使用 `Vertex AI LLM` 进行预测。\n",
    "- 使用 `Vertex AI Prediction` 进行预测。"
   ]
  },
  {
   "cell_type": "markdown",
   "metadata": {
    "id": "c6b43693-b20a-41bd-b5b8-5ad414517162"
   },
   "source": [
    "### 模型\n",
    "\n",
    "预训练的LLM模型是一种仅解码器的BISON模型，用于文本生成。"
   ]
  },
  {
   "cell_type": "markdown",
   "metadata": {
    "id": "6d7b5435-e947-49bb-9ce3-aa8a42c30118"
   },
   "source": [
    "成本\n",
    "\n",
    "本教程使用 Google Cloud 的可计费组件：\n",
    "\n",
    "* Vertex AI\n",
    "* Cloud Storage\n",
    "\n",
    "了解[Vertex AI 价格](https://cloud.google.com/vertex-ai/pricing)，[Cloud Storage 价格](https://cloud.google.com/storage/pricing)，并使用[Pricing Calculator](https://cloud.google.com/products/calculator/)，根据您预计的使用量生成费用估算。"
   ]
  },
  {
   "cell_type": "markdown",
   "metadata": {
    "id": "0cbf01f0-5f6e-4bcd-903f-84ccaad5332c"
   },
   "source": [
    "## 安装\n",
    "\n",
    "安装以下所需的包以执行这个笔记本。"
   ]
  },
  {
   "cell_type": "code",
   "execution_count": null,
   "metadata": {
    "id": "d1f49723-9cbc-4fac-8e6d-48f33db68255"
   },
   "outputs": [],
   "source": [
    "! pip3 install --upgrade --quiet google-cloud-aiplatform  \"shapely<2.0.0\""
   ]
  },
  {
   "cell_type": "markdown",
   "metadata": {
    "id": "ff7f7e74-60d7-4032-b335-216564f43e35"
   },
   "source": [
    "### 仅限于 Colab：取消下面的单元格注释以重新启动内核"
   ]
  },
  {
   "cell_type": "code",
   "execution_count": null,
   "metadata": {
    "id": "5c10aa63-17a3-4162-a397-fe570a962cb3"
   },
   "outputs": [],
   "source": [
    "# Automatically restart kernel after installs so that your environment can access the new packages\n",
    "# import IPython\n",
    "\n",
    "# app = IPython.Application.instance()\n",
    "# app.kernel.do_shutdown(True)"
   ]
  },
  {
   "cell_type": "markdown",
   "metadata": {
    "id": "b37d4259-7e39-417b-8879-24f7575732c8"
   },
   "source": [
    "## 在开始之前\n",
    "\n",
    "### 设置您的项目ID\n",
    "\n",
    "**如果您不知道您的项目ID**，请尝试以下方法：\n",
    "* 运行 `gcloud config list`。\n",
    "* 运行 `gcloud projects list`。\n",
    "* 查看支持页面：[查找项目ID](https://support.google.com/googleapi/answer/7014113)"
   ]
  },
  {
   "cell_type": "code",
   "execution_count": null,
   "metadata": {
    "id": "caaf0d7e-c6cb-4e56-af5c-553db5180e00"
   },
   "outputs": [],
   "source": [
    "PROJECT_ID = \"[your-project-id]\"  # @param {type:\"string\"}\n",
    "\n",
    "# Set the project id\n",
    "! gcloud config set project {PROJECT_ID}"
   ]
  },
  {
   "cell_type": "markdown",
   "metadata": {
    "id": "054d794d-cd2e-4280-95ac-859b264ea2d6"
   },
   "source": [
    "#### 区域\n",
    "\n",
    "您还可以更改 Vertex AI 使用的 `REGION` 变量。了解更多关于 [Vertex AI 区域](https://cloud.google.com/vertex-ai/docs/general/locations)。"
   ]
  },
  {
   "cell_type": "code",
   "execution_count": null,
   "metadata": {
    "id": "0121bf60-1acd-4272-afaf-aa54b4ded263"
   },
   "outputs": [],
   "source": [
    "REGION = \"us-central1\"  # @param {type:\"string\"}"
   ]
  },
  {
   "cell_type": "markdown",
   "metadata": {
    "id": "eac9e842-d225-4876-836f-afdb1937d800"
   },
   "source": [
    "### 验证您的 Google Cloud 帐户\n",
    "\n",
    "根据您的 Jupyter 环境，您可能需要手动进行身份验证。请按照以下相关说明进行操作。\n",
    "\n",
    "**1. Vertex AI Workbench**\n",
    "* 不需要做任何操作，因为您已经通过身份验证。\n",
    "\n",
    "**2. 本地 JupyterLab 实例，取消注释并运行：**"
   ]
  },
  {
   "cell_type": "code",
   "execution_count": null,
   "metadata": {
    "id": "23082eec-b1bd-4594-b5b5-56fe2b74db6f"
   },
   "outputs": [],
   "source": [
    "# ! gcloud auth login"
   ]
  },
  {
   "cell_type": "markdown",
   "metadata": {
    "id": "3c20f923-3c46-4d6d-80d2-d7cb22b1a8da"
   },
   "source": [
    "3. 协作、取消注释并运行:"
   ]
  },
  {
   "cell_type": "code",
   "execution_count": null,
   "metadata": {
    "id": "60302a3f-fad9-452c-8998-a9c9822d2732"
   },
   "outputs": [],
   "source": [
    "# from google.colab import auth\n",
    "# auth.authenticate_user()"
   ]
  },
  {
   "cell_type": "markdown",
   "metadata": {
    "id": "ac33116d-b079-46cb-9614-86326c211e00"
   },
   "source": [
    "查阅如何将云存储权限授予您的服务帐户，请访问https://cloud.google.com/storage/docs/gsutil/commands/iam#ch-examples。"
   ]
  },
  {
   "cell_type": "markdown",
   "metadata": {
    "id": "52c100d7-172f-4578-a3bf-f6e6d193ee6b"
   },
   "source": [
    "创建一个云存储桶\n",
    "\n",
    "创建一个存储桶来存储中间产物，例如数据集。"
   ]
  },
  {
   "cell_type": "code",
   "execution_count": null,
   "metadata": {
    "id": "638142db-edea-47c2-a4be-f43e6ff4c6f0"
   },
   "outputs": [],
   "source": [
    "BUCKET_URI = f\"gs://your-bucket-name-{PROJECT_ID}-unique\"  # @param {type:\"string\"}"
   ]
  },
  {
   "cell_type": "markdown",
   "metadata": {
    "id": "bf01f385-3c69-45ca-b72b-84fb45b15f25"
   },
   "source": [
    "只有如果您的存储桶尚不存在：运行以下单元格以创建您的云存储存储桶。"
   ]
  },
  {
   "cell_type": "code",
   "execution_count": null,
   "metadata": {
    "id": "a0eabc6a-c7cd-4964-8d27-a020a526b0d9"
   },
   "outputs": [],
   "source": [
    "! gsutil mb -l {REGION} -p {PROJECT_ID} {BUCKET_URI}"
   ]
  },
  {
   "cell_type": "markdown",
   "metadata": {
    "id": "42eb59a2-a959-4cf2-b312-77c726baa361"
   },
   "source": [
    "#### 服务账号\n",
    "\n",
    "您可以使用服务账号来创建Vertex AI Pipeline任务。"
   ]
  },
  {
   "cell_type": "code",
   "execution_count": null,
   "metadata": {
    "id": "b357b4b6-eb6b-404e-b5a8-2771519ce569"
   },
   "outputs": [],
   "source": [
    "SERVICE_ACCOUNT = \"\"  # @param {type:\"string\"}"
   ]
  },
  {
   "cell_type": "code",
   "execution_count": null,
   "metadata": {
    "id": "0f85a0f2-4ffe-4679-9a23-bc3c755e896a"
   },
   "outputs": [],
   "source": [
    "import sys\n",
    "\n",
    "IS_COLAB = \"google.colab\" in sys.modules\n",
    "if (\n",
    "    SERVICE_ACCOUNT == \"\"\n",
    "    or SERVICE_ACCOUNT is None\n",
    "    or SERVICE_ACCOUNT == \"[your-service-account]\"\n",
    "):\n",
    "    # Get your service account from gcloud\n",
    "    if not IS_COLAB:\n",
    "        shell_output = !gcloud auth list 2>/dev/null\n",
    "        SERVICE_ACCOUNT = shell_output[2].replace(\"*\", \"\").strip()\n",
    "\n",
    "    else:  # IS_COLAB:\n",
    "        shell_output = ! gcloud projects describe $PROJECT_ID --format=\"value(projectNumber)\"\n",
    "        project_number = shell_output[0]\n",
    "        SERVICE_ACCOUNT = f\"{project_number}-compute@developer.gserviceaccount.com\"\n",
    "\n",
    "    print(\"Service Account:\", SERVICE_ACCOUNT)"
   ]
  },
  {
   "cell_type": "markdown",
   "metadata": {
    "id": "f64a1440-c23c-4b7b-9b8a-e8a4ce600265"
   },
   "source": [
    "为Vertex AI管道设置服务账号访问权限\n",
    "\n",
    "运行以下命令，授予您的服务账号访问权限，以读取和写入在前一步中创建的存储桶中的管道工件。您只需要针对每个服务账号运行此步骤一次。"
   ]
  },
  {
   "cell_type": "code",
   "execution_count": null,
   "metadata": {
    "id": "072a6ea1-c58a-4f9b-9569-6d68631dfed5"
   },
   "outputs": [],
   "source": [
    "! gsutil iam ch serviceAccount:{SERVICE_ACCOUNT}:roles/storage.objectCreator $BUCKET_URI\n",
    "\n",
    "! gsutil iam ch serviceAccount:{SERVICE_ACCOUNT}:roles/storage.objectViewer $BUCKET_URI"
   ]
  },
  {
   "cell_type": "markdown",
   "metadata": {
    "id": "e6a924d0-a034-4e53-b240-03d356c7b7a6"
   },
   "source": [
    "### 导入库并定义常数"
   ]
  },
  {
   "cell_type": "code",
   "execution_count": null,
   "metadata": {
    "id": "463729ba-ec3c-4302-95bf-80207b0f9e2d"
   },
   "outputs": [],
   "source": [
    "import google.cloud.aiplatform as aiplatform\n",
    "from vertexai.preview.language_models import (TextGenerationModel,\n",
    "                                              TuningEvaluationSpec)"
   ]
  },
  {
   "cell_type": "markdown",
   "metadata": {
    "id": "a522acfe-d0b6-4b4e-b201-0a4ccf59b133"
   },
   "source": [
    "## 为Python初始化Vertex AI SDK\n",
    "\n",
    "为您的项目和相应的存储桶初始化Vertex AI SDK。"
   ]
  },
  {
   "cell_type": "code",
   "execution_count": null,
   "metadata": {
    "id": "c845aca6-4f72-4d3b-b9ed-de4a18fcbbf8"
   },
   "outputs": [],
   "source": [
    "aiplatform.init(project=PROJECT_ID, location=REGION, staging_bucket=BUCKET_URI)"
   ]
  },
  {
   "cell_type": "markdown",
   "metadata": {
    "id": "7ec1bf44-dc64-47e0-9bd7-c2d5fc3d0851"
   },
   "source": [
    "### 载入预训练模型\n",
    "\n",
    "从Vertex AI LLM Model Garden载入预训练的BISON模型。"
   ]
  },
  {
   "cell_type": "code",
   "execution_count": null,
   "metadata": {
    "id": "22c4fec6-9c10-4f08-80b1-b6e457453103"
   },
   "outputs": [],
   "source": [
    "model = TextGenerationModel.from_pretrained(\"google/text-bison@001\")\n",
    "\n",
    "model.list_tuned_model_names()"
   ]
  },
  {
   "cell_type": "markdown",
   "metadata": {
    "id": "8f9a48e3-8464-41de-93d7-c451824d0ece"
   },
   "source": [
    "### 调整模型\n",
    "\n",
    "接下来，您可以使用 `tune_model()` 方法调整模型，使用以下参数：\n",
    "\n",
    "`training_data`: 用于调整模型的训练数据的 pandas Dataframe 或云存储位置。<br>\n",
    "`learning_rate_multiplier`: 应用于推荐学习率的乘数。要使用推荐学习率，请使用1.0。<br>\n",
    "`train_steps`: 用于模型调整的运行步数。批量大小根据调整位置而变化：<br>\n",
    "- us-central1 的批量大小为8。\n",
    "- europe-west4 的批量大小为24。<br>\n",
    "\n",
    "如果训练数据集中有240个示例，在 europe-west4 中，处理整个数据集需要 240 / 24 = 10 步。在 us-central1 中，处理整个数据集需要 240 / 8 = 30 步。默认值为300。<br>\n",
    "\n",
    "`tuning_job_location`: 应该运行调整作业的区域。支持的区域有：`us-central1` 和 `europe-west4`。<br>\n",
    "`tuned_model_location`: 应部署经调整的模型的区域。"
   ]
  },
  {
   "cell_type": "code",
   "execution_count": null,
   "metadata": {
    "id": "8ab391f7-9229-491e-9eff-6e80e9e1d2a7"
   },
   "outputs": [],
   "source": [
    "! gsutil cp gs://cloud-samples-data/vertex-ai/model-evaluation/peft_eval_sample.jsonl {BUCKET_URI}/peft_eval_sample.jsonl\n",
    "! gsutil cp gs://cloud-samples-data/vertex-ai/model-evaluation/peft_train_sample.jsonl {BUCKET_URI}/peft_train_sample.jsonl\n",
    "\n",
    "tuning_evaluation_spec = TuningEvaluationSpec(\n",
    "    evaluation_data=f\"{BUCKET_URI}/peft_eval_sample.jsonl\",\n",
    "    evaluation_interval=20,\n",
    "    enable_early_stopping=True,\n",
    ")\n",
    "model.tune_model(\n",
    "    training_data=f\"{BUCKET_URI}/peft_train_sample.jsonl\",\n",
    "    # set to 1 for fast iteration and demo purpose. For this sample training dataset, we recommend at least 100 steps\n",
    "    train_steps=100,\n",
    "    learning_rate_multiplier=1.0,\n",
    "    tuning_job_location=\"europe-west4\",\n",
    "    tuned_model_location=\"us-central1\",  # Only us-central1 is supported\n",
    "    model_display_name=\"test_model\",\n",
    "    tuning_evaluation_spec=tuning_evaluation_spec,\n",
    ")"
   ]
  },
  {
   "cell_type": "markdown",
   "metadata": {
    "id": "5680557f-67bd-4e8c-a383-02ab655246c5"
   },
   "source": [
    "使用 Vertex AI LLM 接口中的 `predict()` 方法进行预测。"
   ]
  },
  {
   "cell_type": "code",
   "execution_count": null,
   "metadata": {
    "id": "r_0HHwrj96f8"
   },
   "outputs": [],
   "source": [
    "prompt = \"TRANSCRIPT: \\nPROCEDURE PERFORMED: , Umbilical hernia repair.,PROCEDURE:,  After informed consent was obtained, the patient was brought to the operative suite and placed supine on the operating table.  The patient was sedated, and an adequate local anesthetic was administered using 1% lidocaine without epinephrine.  The patient was prepped and draped in the usual sterile manner.,A standard curvilinear umbilical incision was made, and dissection was carried down to the hernia sac using a combination of Metzenbaum scissors and Bovie electrocautery.  The sac was cleared of overlying adherent tissue, and the fascial defect was delineated.  The fascia was cleared of any adherent tissue for a distance of 1.5 cm from the defect.  The sac was then placed into the abdominal cavity and the defect was closed primarily using simple interrupted 0 Vicryl sutures.  The umbilicus was then re-formed using 4-0 Vicryl to tack the umbilical skin to the fascia.,The wound was then irrigated using sterile saline, and hemostasis was obtained using Bovie electrocautery.  The skin was approximated with 4-0 Vicryl in a subcuticular fashion.  The skin was prepped with benzoin, and Steri-Strips were applied.  A dressing was then applied.  All surgical counts were reported as correct.,Having tolerated the procedure well, the patient was subsequently taken to the recovery room in good and stable condition.\\n\\n LABEL: \""
   ]
  },
  {
   "cell_type": "code",
   "execution_count": null,
   "metadata": {
    "id": "b8c48d2b-bca0-44f3-96ab-0fdde26dd2a9"
   },
   "outputs": [],
   "source": [
    "print(model.predict(prompt))"
   ]
  },
  {
   "cell_type": "markdown",
   "metadata": {
    "id": "ae39e95e-9553-4cd8-98cc-602a0d70e940"
   },
   "source": [
    "获取已部署的Vertex AI端点资源\n",
    "\n",
    "接下来，获取模型自动部署到的Vertex AI端点资源。"
   ]
  },
  {
   "cell_type": "code",
   "execution_count": null,
   "metadata": {
    "id": "ade86880-a392-4db6-8152-8e58b50d376b"
   },
   "outputs": [],
   "source": [
    "endpoint = aiplatform.Endpoint(model._endpoint.resource_name)\n",
    "print(endpoint)"
   ]
  },
  {
   "cell_type": "markdown",
   "metadata": {
    "id": "9795902e-e124-48f3-9951-02deb6f85fff"
   },
   "source": [
    "使用Vertex AI预测进行预测\n",
    "\n",
    "现在，使用Vertex AI预测接口中的`predict()`方法进行预测，使用以下参数：\n",
    "\n",
    "- `instances`: 一个或多个要用于预测的实例列表。每个实例的格式为：\n",
    "    - { \"content\": 输入的文本 }\n",
    "- `parameters`: 传递给模型的预测方法的参数。对应的示例为默认值。"
   ]
  },
  {
   "cell_type": "code",
   "execution_count": null,
   "metadata": {
    "id": "35615fa2-c923-4bfd-b194-5265bbe81ce1"
   },
   "outputs": [],
   "source": [
    "endpoint.predict(\n",
    "    instances=[{\"prompt\": prompt}],\n",
    "    parameters={\n",
    "        \"temperature\": 0.0,\n",
    "        \"maxDecodeSteps\": 128,\n",
    "        \"topP\": 0.95,\n",
    "        \"topK\": 40,\n",
    "    },\n",
    ")"
   ]
  },
  {
   "cell_type": "markdown",
   "metadata": {
    "id": "0xlMGasOaBJ6"
   },
   "source": [
    "### 运行后调整评估\n",
    "\n",
    "请注意，`ground_truth_data` 的格式应该是一个 JSONL 文件，其中每一行都是以下格式的一个 json：\n",
    "\n",
    "```\n",
    "{\n",
    "  \"prompt\": \"您的输入/提示文本\",\n",
    "  \"ground_truth\": \"您的真实输出文本\"\n",
    "}\n",
    "```\n",
    "\n",
    "- \"prompt\" 对应于训练数据集中的 \"input_text\"。这是为了进行批量预测。\n",
    "- \"ground_truth\" 对应于训练数据集中的 \"output_text\"。这是用于评估的。"
   ]
  },
  {
   "cell_type": "code",
   "execution_count": null,
   "metadata": {
    "id": "G55d36wwaI6X"
   },
   "outputs": [],
   "source": [
    "from vertexai.preview.language_models import EvaluationTextGenerationSpec\n",
    "\n",
    "tuned_model = model\n",
    "\n",
    "# Uncomment the following to load a tuned model if the tuning session is broken\n",
    "# tuned_model = TextGenerationModel.from_pretrained(\"google/text-bison@001\")\n",
    "# tuned_model.get_tuned_model(f'projects/{PROJECT_ID}/locations/us-central1/models/3890975937629519872')\n",
    "\n",
    "# Text generation example\n",
    "evaluation_task_spec = EvaluationTextGenerationSpec(\n",
    "    ground_truth_data=[\n",
    "        \"gs://cloud-samples-data/vertex-ai/model-evaluation/peft_test_sample.jsonl\"\n",
    "    ]\n",
    ")\n",
    "\n",
    "tuned_model.evaluate(task_spec=evaluation_task_spec)"
   ]
  },
  {
   "cell_type": "markdown",
   "metadata": {
    "id": "99c3c746-4f85-4fd9-8467-d5017477c012"
   },
   "source": [
    "清理\n",
    "\n",
    "要清理此项目中使用的所有Google Cloud资源，您可以删除用于教程的[Google Cloud项目](https://cloud.google.com/resource-manager/docs/creating-managing-projects#shutting_down_projects)。\n",
    "\n",
    "否则，您可以删除在此教程中创建的各个资源。"
   ]
  },
  {
   "cell_type": "code",
   "execution_count": null,
   "metadata": {
    "id": "0f467b0a-07c5-4c49-b6cd-7588c9e3985b"
   },
   "outputs": [],
   "source": [
    "import os\n",
    "\n",
    "delete_bucket = False\n",
    "\n",
    "endpoint.undeploy_all()\n",
    "endpoint.delete()\n",
    "\n",
    "if delete_bucket or os.getenv(\"IS_TESTING\"):\n",
    "    ! gsutil rm -rf {BUCKET_URI}"
   ]
  }
 ],
 "metadata": {
  "colab": {
   "name": "tune_peft.ipynb",
   "toc_visible": true
  },
  "kernelspec": {
   "display_name": "Python 3",
   "name": "python3"
  }
 },
 "nbformat": 4,
 "nbformat_minor": 0
}
