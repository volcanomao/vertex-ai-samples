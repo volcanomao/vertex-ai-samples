{
 "cells": [
  {
   "cell_type": "code",
   "execution_count": null,
   "metadata": {
    "cellView": "form",
    "id": "-Gohq0IUAtsr"
   },
   "outputs": [],
   "source": [
    "# @title Copyright 2024 Google LLC\n",
    "#\n",
    "# Licensed under the Apache License, Version 2.0 (the \"License\");\n",
    "# you may not use this file except in compliance with the License.\n",
    "# You may obtain a copy of the License at\n",
    "#\n",
    "#     https://www.apache.org/licenses/LICENSE-2.0\n",
    "#\n",
    "# Unless required by applicable law or agreed to in writing, software\n",
    "# distributed under the License is distributed on an \"AS IS\" BASIS,\n",
    "# WITHOUT WARRANTIES OR CONDITIONS OF ANY KIND, either express or implied.\n",
    "# See the License for the specific language governing permissions and\n",
    "# limitations under the License."
   ]
  },
  {
   "cell_type": "markdown",
   "metadata": {
    "id": "XQ7omKMxBBgp"
   },
   "source": [
    "在Vertex AI上获取调整后的文本嵌入\n",
    "\n",
    "<table align=\"left\">\n",
    "  <td>\n",
    "    <a href=\"https://colab.research.google.com/github/GoogleCloudPlatform/vertex-ai-samples/blob/main/notebooks/official/generative_ai/tuned_text-embeddings.ipynb\">\n",
    "      <img src=\"https://cloud.google.com/ml-engine/images/colab-logo-32px.png\" alt=\"Colab logo\">\n",
    "      在Colab中打开\n",
    "    </a>\n",
    "  </td>\n",
    "  <td>\n",
    "    <a href=\"https://console.cloud.google.com/vertex-ai/workbench/deploy-notebook?download_url=https://raw.githubusercontent.com/GoogleCloudPlatform/vertex-ai-samples/main/notebooks/official/generative_ai/tuned_text-embeddings.ipynb\">\n",
    "      <img src=\"https://lh3.googleusercontent.com/UiNooY4LUgW_oTvpsNhPpQzsstV5W8F7rYgxgGBD85cWJoLmrOzhVs_ksK_vgx40SHs7jCqkTkCk=e14-rj-sc0xffffff-h130-w32\" alt=\"Vertex AI logo\">\n",
    "      在Vertex AI Workbench中打开\n",
    "    </a>\n",
    "  </td>\n",
    "  <td>\n",
    "    <a href=\"https://github.com/GoogleCloudPlatform/vertex-ai-samples/blob/main/notebooks/official/generative_ai/tuned_text-embeddings.ipynb\">\n",
    "      <img src=\"https://cloud.google.com/ml-engine/images/github-logo-32px.png\" alt=\"GitHub logo\">\n",
    "      在GitHub上查看\n",
    "    </a>\n",
    "  </td>\n",
    "</table>"
   ]
  },
  {
   "cell_type": "markdown",
   "metadata": {
    "id": "-3YiUR9SCSSm"
   },
   "source": [
    "## 概述\n",
    "\n",
    "本笔记本将指导您了解微调文本嵌入的过程。通过将文本嵌入模型适应到您的特定领域或任务，您可以获得更好的结果。也可参见 [调整文本嵌入](https://cloud.google.com/vertex-ai/generative-ai/docs/models/tune-embeddings)。"
   ]
  },
  {
   "cell_type": "markdown",
   "metadata": {
    "id": "Sy_UWYAfH4uD"
   },
   "source": [
    "### 目标\n",
    "\n",
    "在本教程中，您将学习如何调整文本嵌入模型textembedding-gecko。\n",
    "\n",
    "本教程使用以下Google Cloud ML服务和资源：\n",
    "\n",
    "- Vertex AI\n",
    "- Cloud Storage\n",
    "\n",
    "步骤包括：\n",
    "\n",
    "- 在Vertex AI管道上运行文本嵌入模型调整作业。\n",
    "- 将调整后的文本嵌入模型部署到端点。\n",
    "- 检查质量指标以评估调整后的模型。\n",
    "- 从调整后的模型获取嵌入以进行下游任务。"
   ]
  },
  {
   "cell_type": "markdown",
   "metadata": {
    "id": "fLW7At4TAV5n"
   },
   "source": [
    "### 数据集\n",
    "\n",
    "这个笔记本使用了来自[字母公司年度财务业绩报告（10K表格）](https://abc.xyz/assets/ff/7c/06d6f493f6462caf08e8502ffc33/596de1b094c32cf0592a08edfe84ae74.html)的合成数据集（语料库，查询和标签）。\n",
    "\n",
    "* [corpus.jsonl](https://storage.googleapis.com/cloud-samples-data/ai-platform/embedding/goog-10k-2024/r11/corpus.jsonl) (397Ki),\n",
    "* [queries.jsonl](https://storage.googleapis.com/cloud-samples-data/ai-platform/embedding/goog-10k-2024/r11/queries.jsonl) (321Ki)\n",
    "* [test.tsv](https://storage.googleapis.com/cloud-samples-data/ai-platform/embedding/goog-10k-2024/r11/test.tsv) (3.7Ki)\n",
    "* [train.tsv](https://storage.googleapis.com/cloud-samples-data/ai-platform/embedding/goog-10k-2024/r11/train.tsv) (29Ki)\n",
    "* [validation.tsv](https://storage.googleapis.com/cloud-samples-data/ai-platform/embedding/goog-10k-2024/r11/validation.tsv) (3.7Ki)"
   ]
  },
  {
   "cell_type": "markdown",
   "metadata": {
    "id": "0We7bZz9EjvS"
   },
   "source": [
    "### 成本\n",
    "\n",
    "本教程使用 Google Cloud 的收费组件：\n",
    "\n",
    "* Vertex AI\n",
    "* 云存储\n",
    "\n",
    "了解 [Vertex AI 价格](https://cloud.google.com/vertex-ai/pricing),\n",
    "和 [Cloud Storage 价格](https://cloud.google.com/storage/pricing),\n",
    "并使用 [定价计算器](https://cloud.google.com/products/calculator/)\n",
    "根据您的预期使用量生成成本估算。"
   ]
  },
  {
   "cell_type": "markdown",
   "metadata": {
    "id": "qDCccnyeJP9v"
   },
   "source": [
    "## 安装\n",
    "\n",
    "此教程需要您安装 `google-cloud-aiplatform` 包。"
   ]
  },
  {
   "cell_type": "code",
   "execution_count": null,
   "metadata": {
    "id": "ARIslNGX4IR3"
   },
   "outputs": [],
   "source": [
    "! pip3 install --upgrade --user --quiet google-cloud-aiplatform"
   ]
  },
  {
   "cell_type": "markdown",
   "metadata": {
    "id": "ngQYqEkV4aBS"
   },
   "source": [
    "### 重新启动运行时（仅限Colab）\n",
    "\n",
    "为使用新安装的包，您必须在Google Colab上重新启动运行时。"
   ]
  },
  {
   "cell_type": "code",
   "execution_count": null,
   "metadata": {
    "id": "VXFRhykV3jyI"
   },
   "outputs": [],
   "source": [
    "import sys\n",
    "\n",
    "if \"google.colab\" in sys.modules:\n",
    "\n",
    "    import IPython\n",
    "\n",
    "    app = IPython.Application.instance()\n",
    "    app.kernel.do_shutdown(True)"
   ]
  },
  {
   "cell_type": "markdown",
   "metadata": {
    "id": "H4LtPlgQKf19"
   },
   "source": [
    "在开始之前"
   ]
  },
  {
   "cell_type": "markdown",
   "metadata": {
    "id": "QQOMuSWFhwC2"
   },
   "source": [
    "### 设置您的Google Cloud项目\n",
    "\n",
    "**无论您使用的是哪种笔记本环境，都需要按照以下步骤进行操作。**\n",
    "\n",
    "1. [选择或创建一个Google Cloud项目](https://console.cloud.google.com/cloud-resource-manager)。当您首次创建账户时，您将获得$300的免费信用额用于计算/存储成本。\n",
    "\n",
    "2. [确保您的项目已启用计费功能](https://cloud.google.com/billing/docs/how-to/modify-project)。\n",
    "\n",
    "3. [启用API](https://console.cloud.google.com/flows/enableapi?apiid=aiplatform.googleapis.com,documentai.googleapis.com)。\n",
    "\n",
    "4. 如果您在本地运行这个笔记本，您需要安装[Cloud SDK](https://cloud.google.com/sdk)。\n",
    "\n",
    "另请参阅[设置权限和资源以调整文本嵌入模型](https://cloud.google.com/vertex-ai/generative-ai/docs/models/tune-embeddings#project-setup)。"
   ]
  },
  {
   "cell_type": "markdown",
   "metadata": {
    "id": "0SG0ZnxmM1Ev"
   },
   "source": [
    "### 初始化 Vertex AI 平台\n",
    "\n",
    "为您的项目和地区导入并初始化 AI 平台。\n",
    "\n",
    "**如果您不知道您的项目 ID**，请尝试以下操作：\n",
    "* 运行 `gcloud config list`。\n",
    "* 运行 `gcloud projects list`。\n",
    "* 参阅 [查找项目 ID](https://support.google.com/googleapi/answer/7014113)。\n",
    "\n",
    "参阅 [Vertex AI 地区](https://cloud.google.com/vertex-ai/docs/general/locations)。"
   ]
  },
  {
   "cell_type": "code",
   "execution_count": null,
   "metadata": {
    "id": "SWbf4r0tLUvA"
   },
   "outputs": [],
   "source": [
    "# @title (Required) Set PROJECT_ID and REGION\n",
    "PROJECT_ID = \"[your-project-id]\"  # @param {type:\"string\"}\n",
    "REGION = \"us-central1\"  # @param {type:\"string\"}\n",
    "if not PROJECT_ID.strip():\n",
    "    raise ValueError(\"'PROJECT_ID' is required.\")\n",
    "if not REGION.strip():\n",
    "    raise ValueError(\"'REGION' is required.\")\n",
    "!gcloud config set project {PROJECT_ID}\n",
    "\n",
    "import vertexai\n",
    "from google.cloud.aiplatform import pipeline_jobs\n",
    "from vertexai.language_models import TextEmbeddingInput, TextEmbeddingModel\n",
    "\n",
    "vertexai.init(project=PROJECT_ID, location=REGION)"
   ]
  },
  {
   "cell_type": "markdown",
   "metadata": {
    "id": "OpT7z9MlLPxR"
   },
   "source": [
    "### 验证您的谷歌云账户\n",
    "\n",
    "根据您的Jupyter环境，您可能需要手动进行身份验证。请按照以下相关说明操作。"
   ]
  },
  {
   "cell_type": "markdown",
   "metadata": {
    "id": "XGiF1B6kMcSz"
   },
   "source": [
    "1. 合作："
   ]
  },
  {
   "cell_type": "code",
   "execution_count": null,
   "metadata": {
    "id": "Z7RZmb3VMfCP"
   },
   "outputs": [],
   "source": [
    "# @title (Required on Colab) `authenticate_user()`\n",
    "import builtins\n",
    "import os\n",
    "import sys\n",
    "\n",
    "running_in_colab = \"google.colab\" in sys.modules and hasattr(builtins, \"get_ipython\")\n",
    "if running_in_colab and not os.getenv(\"IS_TESTING\"):\n",
    "    from google.colab import auth\n",
    "\n",
    "    auth.authenticate_user(project_id=PROJECT_ID)"
   ]
  },
  {
   "cell_type": "markdown",
   "metadata": {
    "id": "crt3rd6OMRLE"
   },
   "source": [
    "确保在运行 Vertex AI Workbench 实例的 Compute Engine 默认服务帐户具有权限 iam.serviceAccounts.actAs （很可能是通过 roles/iam.serviceAccountUser）在云控制台的 IAM 和管理页面上。这个权限允许 Workbench 实例在与其他 Google Cloud 服务交互时充当服务帐户。"
   ]
  },
  {
   "cell_type": "markdown",
   "metadata": {
    "id": "2ymngmfhMmSW"
   },
   "source": [
    "3. 本地的JupyterLab实例，取消注释并运行:"
   ]
  },
  {
   "cell_type": "code",
   "execution_count": null,
   "metadata": {
    "id": "UDVsiwBbMafG"
   },
   "outputs": [],
   "source": [
    "# !gcloud auth login"
   ]
  },
  {
   "cell_type": "markdown",
   "metadata": {
    "id": "N8fqs18bNNmd"
   },
   "source": [
    "## 调整文本嵌入\n",
    "\n",
    "（可选）如果要从上一次调整会话的位置继续本教程，请相应地设置**`TUNING_JOB_ID`**。或者，清除**`TUNING_JOB_ID`**以重新开始一个新的调整会话。\n",
    "\n",
    "本教程为您的项目创建了一个 Vertex AI 流水线的调整作业，用于调整文本嵌入模型。详情请参阅[使用参数和默认值创建调整作业](https://cloud.google.com/vertex-ai/generative-ai/docs/models/tune-embeddings#create-embedding-tuning-job)，以及最新的[文本嵌入模型和可用任务](https://cloud.google.com/vertex-ai/generative-ai/docs/embeddings/get-text-embeddings#api_changes_to_models_released_on_or_after_august_2023)。"
   ]
  },
  {
   "cell_type": "code",
   "execution_count": null,
   "metadata": {
    "cellView": "form",
    "id": "3VO4AFDbhnnx"
   },
   "outputs": [],
   "source": [
    "# @title (Optional) Set `TUNING_JOB_ID` to resume an existing tuning session: { run: \"auto\" }\n",
    "TUNING_JOB_ID = \"\"  # @param {type: \"string\"}"
   ]
  },
  {
   "cell_type": "code",
   "execution_count": null,
   "metadata": {
    "id": "G1i__mAHNY9U"
   },
   "outputs": [],
   "source": [
    "# @title (Required) Resume an existing or start a fresh tuning session (depending on TUNING_JOB_ID)\n",
    "BASE_MODEL = \"text-embedding-004\"  # @param [\"textembedding-gecko@003\", \"text-embedding-004\", \"textembedding-gecko-multilingual@001\", \"text-multilingual-embedding-002\"]\n",
    "TASK = \"DEFAULT\"  # @param [\"DEFAULT\", \"RETRIEVAL_QUERY\", \"RETRIEVAL_DOCUMENT\", \"SEMANTIC_SIMILARITY\", \"CLASSIFICATION\", \"CLUSTERING\", \"QUESTION_ANSWERING\", \"FACT_VERIFICATION\"]\n",
    "CORPUS_DATA = \"gs://cloud-samples-data/ai-platform/embedding/goog-10k-2024/r11/corpus.jsonl\"  # @param {type: \"string\"}\n",
    "QUERIES_DATA = \"gs://cloud-samples-data/ai-platform/embedding/goog-10k-2024/r11/queries.jsonl\"  # @param {type: \"string\"}\n",
    "TRAINING_DATA = \"gs://cloud-samples-data/ai-platform/embedding/goog-10k-2024/r11/train.tsv\"  # @param{type: \"string\"}\n",
    "VALIDATION_DATA = \"gs://cloud-samples-data/ai-platform/embedding/goog-10k-2024/r11/validation.tsv\"  # @param{type: \"string\"}\n",
    "TEST_DATA = \"gs://cloud-samples-data/ai-platform/embedding/goog-10k-2024/r11/test.tsv\"  # @param{type: \"string\"}\n",
    "BATCH_SIZE = 128  # @param {type: \"number\"}\n",
    "TRAIN_STEPS = 1000  # @param {type: \"number\"}\n",
    "OUTPUT_DIMENSIONALITY = 768  # @param {type: \"number\"}\n",
    "LEARNING_RATE_MULTIPLIER = 1.0  # @param {type: \"number\"}\n",
    "\n",
    "# Synchronously validate some edge cases that will cause async validation to fail.\n",
    "if BASE_MODEL not in [\"text-embedding-004\", \"text-multilingual-embedding-002\"]:\n",
    "    if TASK in [\"QUESTION_ANSWERING\", \"FACT_VERIFICATION\"]:\n",
    "        raise ValueError(f\"TASK '{TASK}' is not valid for model '{BASE_MODEL}'.\")\n",
    "\n",
    "    if OUTPUT_DIMENSIONALITY not in [-1, 768]:\n",
    "        raise ValueError(f\"Model '{BASE_MODEL}' does not support the output_dimensionality parameter.\")\n",
    "\n",
    "base_model = TextEmbeddingModel.from_pretrained(BASE_MODEL)\n",
    "if \"TUNING_JOB_ID\" in locals() and TUNING_JOB_ID:\n",
    "    filter = f'pipelineJobUserId=\"{TUNING_JOB_ID}\"'\n",
    "    tuning_job = next(iter(pipeline_jobs.PipelineJob.list(filter=filter)))\n",
    "    print(\n",
    "        f\"Got an existing tuning job '{tuning_job.name}' (state: {tuning_job.state.name}).\"\n",
    "    )\n",
    "else:\n",
    "    tuning_result = base_model.tune_model(\n",
    "        task_type=TASK,\n",
    "        corpus_data=CORPUS_DATA,\n",
    "        queries_data=QUERIES_DATA,\n",
    "        training_data=TRAINING_DATA,\n",
    "        validation_data=VALIDATION_DATA,\n",
    "        test_data=TEST_DATA,\n",
    "        batch_size=BATCH_SIZE,\n",
    "        train_steps=TRAIN_STEPS,\n",
    "        tuned_model_location=REGION,\n",
    "        learning_rate_multiplier=LEARNING_RATE_MULTIPLIER,\n",
    "        output_dimensionality=OUTPUT_DIMENSIONALITY,\n",
    "    )\n",
    "    tuning_job = pipeline_jobs.PipelineJob.get(tuning_result.pipeline_job_name)\n",
    "    print(\n",
    "        f\"Got a fresh tuning job '{tuning_job.name}' (state: {tuning_job.state.name}).\"\n",
    "    )\n",
    "    print(\n",
    "        f\"(OPTIONAL) Set 'TUNING_JOB_ID' to '{tuning_job.name}' when you want to resume this tuning session.\"\n",
    "    )"
   ]
  },
  {
   "cell_type": "markdown",
   "metadata": {
    "id": "jl_vjc-m8itZ"
   },
   "source": [
    "部署优化的文本嵌入模型\n",
    "\n",
    "一旦调优作业完成，你可以将优化后的模型部署到一个端点上。可以通过以下方式之一来部署模型：\n",
    "\n",
    "- 在基础模型对象的`tune_model`方法返回的调优结果对象上调用`deploy_tuned_model`方法。\n",
    "- 调用类方法`TextEmbeddingModel.deploy_tuned_model`，并提供一个已调优的模型资源名称。你可以从调优作业中检索上传的、调优后的模型资源名称。该资源名称是一个字符串，遵循以下模式：projects/{PROJECT_ID}/locations/{REGION}/models/{MODEL_ID}。\n",
    "\n",
    "**重要提示**：部署经过优化的文本嵌入模型，因为是定制训练的，需要为你的项目分配服务资源，如机器和加速器。`deploy_tuned_model`在第一次调用时，会将调优模型部署到一个新的服务资源上。在后续调用中，它只是从现有服务资源中检索调优模型部署。\n",
    "\n",
    "另请参阅[使用调优模型](https://cloud.google.com/vertex-ai/generative-ai/docs/models/tune-embeddings#use-tuned-model)。"
   ]
  },
  {
   "cell_type": "code",
   "execution_count": null,
   "metadata": {
    "id": "kIJC46m7SXvW"
   },
   "outputs": [],
   "source": [
    "MACHINE_TYPE = \"a2-highgpu-1g\"  # @param {type: \"string\"}\n",
    "ACCELERATOR = \"NVIDIA_TESLA_A100\"  # @param {type: \"string\"}\n",
    "ACCELERATOR_COUNT = 1  # @param {type: \"number\"}\n",
    "\n",
    "# CAVEAT: Colab disruptions may cause 'tuning_result' to be undefined.\n",
    "running_interactively = not os.getenv(\"IS_TESTING\")\n",
    "if \"tuning_job\" not in locals() and running_interactively:\n",
    "    message = \"[Action Required] Run the preceding code cells to define 'tuning_job'.\"\n",
    "    raise RuntimeError(message)\n",
    "if \"tuning_job\" in locals() and running_interactively:\n",
    "    if \"tuning_result\" in locals():\n",
    "        model = tuning_result.deploy_tuned_model(\n",
    "            machine_type=MACHINE_TYPE,\n",
    "            accelerator=ACCELERATOR,\n",
    "            accelerator_count=ACCELERATOR_COUNT,\n",
    "        )\n",
    "        print(f\"Got deployed, tuned {model=}\")\n",
    "    else:\n",
    "        tuning_job.wait()\n",
    "        tasks = tuning_job.task_details\n",
    "        upload_task = next(t for t in tasks if \"uploader\" in t.task_name)\n",
    "        upload_metadata = dict(upload_task.execution.metadata)\n",
    "        tuned_model_name = upload_metadata[\"output:model_resource_name\"]\n",
    "        model = TextEmbeddingModel.deploy_tuned_model(\n",
    "            tuned_model_name=tuned_model_name,\n",
    "            machine_type=MACHINE_TYPE,\n",
    "            accelerator=ACCELERATOR,\n",
    "            accelerator_count=ACCELERATOR_COUNT,\n",
    "        )\n",
    "        print(f\"Got deployed, tuned model '{tuned_model_name}'.\")"
   ]
  },
  {
   "cell_type": "markdown",
   "metadata": {
    "id": "GAx9zdmQ80fR"
   },
   "source": [
    "### 从调整作业中检查质量度量\n",
    "\n",
    "通过使用验证和测试数据集计算NDCG@10指标，管道评估了调整过程中基础模型和调整模型的性能。这些度量指标可在管道作业的`度量`工件中找到。"
   ]
  },
  {
   "cell_type": "code",
   "execution_count": null,
   "metadata": {
    "id": "9Q8kj3QUclGi"
   },
   "outputs": [],
   "source": [
    "import pandas as pd\n",
    "\n",
    "if \"tuning_job\" in locals() and tuning_job.done():\n",
    "    tasks = tuning_job.task_details\n",
    "    eval_task = next(t for t in tasks if \"evaluator\" in t.task_name)\n",
    "    metrics = dict(eval_task.outputs[\"metrics\"].artifacts[0].metadata)\n",
    "    metrics_df = pd.DataFrame.from_dict(\n",
    "        {\"metric\": metrics.keys(), \"value\": metrics.values()}\n",
    "    )\n",
    "    display(metrics_df.sort_values(by=\"metric\", ignore_index=True))"
   ]
  },
  {
   "cell_type": "markdown",
   "metadata": {
    "id": "rmHf3P7-9FjZ"
   },
   "source": [
    "获取调整嵌入以用于下游任务。"
   ]
  },
  {
   "cell_type": "code",
   "execution_count": null,
   "metadata": {
    "id": "1NYIaUiLTJrg"
   },
   "outputs": [],
   "source": [
    "import pandas as pd\n",
    "\n",
    "if \"model\" in locals():\n",
    "    texts = [\"banana muffins?\"]  # @param {type:\"raw\"}\n",
    "    titles = [\"none\"]  # @param {type:\"raw\"}\n",
    "    embedding_inputs = [\n",
    "        TextEmbeddingInput(text=text, task_type=TASK, title=title)\n",
    "        for text, title in zip(texts, titles)\n",
    "    ]\n",
    "    tuned_embeddings = [\n",
    "        pd.Series(e.values) for e in model.get_embeddings(embedding_inputs)\n",
    "    ]\n",
    "    display(tuned_embeddings)"
   ]
  },
  {
   "cell_type": "markdown",
   "metadata": {
    "id": "TAIM9cRRNNwh"
   },
   "source": [
    "清理\n",
    "\n",
    "要清理此项目中使用的所有Google Cloud资源，您可以删除用于本教程的[Google Cloud项目](https://cloud.google.com/resource-manager/docs/creating-managing-projects#shutting_down_projects)。\n",
    "\n",
    "否则，您可以删除本教程中创建的各个资源。"
   ]
  }
 ],
 "metadata": {
  "colab": {
   "name": "tuned_text-embeddings.ipynb",
   "toc_visible": true
  },
  "kernelspec": {
   "display_name": "Python 3",
   "name": "python3"
  }
 },
 "nbformat": 4,
 "nbformat_minor": 0
}
