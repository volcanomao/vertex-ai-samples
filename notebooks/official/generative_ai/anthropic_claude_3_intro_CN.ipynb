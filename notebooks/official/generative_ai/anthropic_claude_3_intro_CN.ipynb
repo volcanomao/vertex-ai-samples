{
 "cells": [
  {
   "cell_type": "code",
   "execution_count": null,
   "metadata": {
    "cellView": "form",
    "id": "9A9NkTRTfo2I"
   },
   "outputs": [],
   "source": [
    "# Copyright 2024 Google LLC\n",
    "#\n",
    "# Licensed under the Apache License, Version 2.0 (the \"License\");\n",
    "# you may not use this file except in compliance with the License.\n",
    "# You may obtain a copy of the License at\n",
    "#\n",
    "#     https://www.apache.org/licenses/LICENSE-2.0\n",
    "#\n",
    "# Unless required by applicable law or agreed to in writing, software\n",
    "# distributed under the License is distributed on an \"AS IS\" BASIS,\n",
    "# WITHOUT WARRANTIES OR CONDITIONS OF ANY KIND, either express or implied.\n",
    "# See the License for the specific language governing permissions and\n",
    "# limitations under the License."
   ]
  },
  {
   "cell_type": "markdown",
   "metadata": {
    "id": "IPprg6Oz0QDs"
   },
   "source": [
    "# 使用Claude 3模型快速入门\n",
    "<table align=\"left\">\n",
    "  <td style=\"text-align: center\">\n",
    "    <a href=\"https://colab.research.google.com/github/GoogleCloudPlatform/vertex-ai-samples/blob/main/notebooks/official/generative_ai/anthropic_claude_3_intro.ipynb\">\n",
    "      <img src=\"https://cloud.google.com/ml-engine/images/colab-logo-32px.png\" alt=\"Google Colaboratory logo\"><br> 在Colab中打开\n",
    "    </a>\n",
    "  </td>\n",
    "  <td style=\"text-align: center\">\n",
    "    <a href=\"https://console.cloud.google.com/vertex-ai/colab/import/https:%2F%2Fraw.githubusercontent.com%2FGoogleCloudPlatform%2Fvertex-ai-samples%2Fblob%2Fmain%2Fnotebooks%2Fofficial%2Fgenerative_ai%2Fanthropic_claude_3_intro.ipynb\">\n",
    "      <img width=\"32px\" src=\"https://cloud.google.com/ml-engine/images/colab-enterprise-logo-32px.png\" alt=\"Google Cloud Colab Enterprise logo\"><br> 在Colab Enterprise中打开\n",
    "    </a>\n",
    "  </td> \n",
    "  <td style=\"text-align: center\">                                                                             \n",
    "    <a href=\"https://console.cloud.google.com/vertex-ai/notebooks/deploy-notebook?download_url=https://raw.githubusercontent.com/GoogleCloudPlatform/vertex-ai-samples/main/notebooks/official/generative_ai/anthropic_claude_3_intro.ipynb\">\n",
    "      <img src=\"https://lh3.googleusercontent.com/UiNooY4LUgW_oTvpsNhPpQzsstV5W8F7rYgxgGBD85cWJoLmrOzhVs_ksK_vgx40SHs7jCqkTkCk=e14-rj-sc0xffffff-h130-w32\" alt=\"Vertex AI logo\"><br> 在Workbench中打开\n",
    "    </a>\n",
    "  </td>\n",
    "  <td style=\"text-align: center\">\n",
    "    <a href=\"https://github.com/GoogleCloudPlatform/vertex-ai-samples/blob/main/notebooks/official/generative_ai/anthropic_claude_3_intro.ipynb\">\n",
    "      <img src=\"https://cloud.google.com/ml-engine/images/github-logo-32px.png\" alt=\"GitHub logo\"><br> 在GitHub上查看\n",
    "    </a>\n",
    "  </td>\n",
    "  \n",
    "</table>"
   ]
  },
  {
   "cell_type": "markdown",
   "metadata": {
    "id": "8fK_rdvvx1iZ"
   },
   "source": [
    "## 概述\n",
    "\n",
    "### Vertex AI 上的Claude\n",
    "\n",
    "Anthropic在Vertex AI上提供的Claude 3模型是完全托管的无服务器模型，可作为托管API提供。要在Vertex AI上使用Claude模型，请直接向Vertex AI API端点发送请求。\n",
    "\n",
    "您可以将Claude响应流式传输，以减少最终用户的延迟感知。流式响应使用服务器发送事件（SSE）逐步传输响应。\n",
    "\n",
    "### 可用的Anthropic Claude模型\n",
    "\n",
    "#### Claude 3.5 Sonnet\n",
    "Anthropic最强大的AI模型。Claude 3.5 Sonnet在速度较高且成本较低的情况下，优于竞争对手的模型和Claude 3 Opus。\n",
    "\n",
    "#### Claude 3 Opus\n",
    "Claude 3 Opus是Anthropic第二智能的AI模型，在高度复杂任务上具有顶级性能。\n",
    "\n",
    "#### Claude 3 Haiku\n",
    "Anthropic Claude 3 Haiku是Anthropic最快速、最紧凑的视觉和文本模型，可实现对简单查询的几乎即时响应，旨在无缝模拟人类交互的AI体验。\n",
    "\n",
    "#### Claude 3 Sonnet\n",
    "Anthropic Claude 3 Sonnet经过工程处理，可在各种用例中进行可靠的规模化AI部署。\n",
    "\n",
    "所有Claude 3模型都可以处理图像并返回文本输出，并具有200K上下文窗口。\n",
    "\n",
    "## 目标\n",
    "\n",
    "本笔记本展示如何使用**Vertex AI API**和**Anthropic的Python Vertex SDK**调用Vertex AI上的Claude API，使用Claude 3 Sonnet和Claude 3 Haiku模型。\n",
    "\n",
    "有关更多信息，请参阅[使用Claude](https://cloud.google.com/vertex-ai/generative-ai/docs/partner-models/use-claude)文档。"
   ]
  },
  {
   "cell_type": "markdown",
   "metadata": {
    "id": "HcJCV6Dw5usD"
   },
   "source": [
    "## 顶点 AI API"
   ]
  },
  {
   "cell_type": "markdown",
   "metadata": {
    "id": "nwYvaaW25jYS"
   },
   "source": [
    "开始吧"
   ]
  },
  {
   "cell_type": "markdown",
   "metadata": {
    "id": "0660e339bf3f"
   },
   "source": [
    "安装所需的软件包"
   ]
  },
  {
   "cell_type": "code",
   "execution_count": null,
   "metadata": {
    "id": "754611260f53"
   },
   "outputs": [],
   "source": [
    "! pip3 install -U -q httpx"
   ]
  },
  {
   "cell_type": "markdown",
   "metadata": {
    "id": "b9f4c57a43f6"
   },
   "source": [
    "重新启动运行时（仅限Colab）\n",
    "\n",
    "为了使用新安装的软件包，您必须重新启动Google Colab上的运行时。"
   ]
  },
  {
   "cell_type": "code",
   "execution_count": null,
   "metadata": {
    "id": "3b9119a60525"
   },
   "outputs": [],
   "source": [
    "import sys\n",
    "\n",
    "if \"google.colab\" in sys.modules:\n",
    "\n",
    "    import IPython\n",
    "\n",
    "    app = IPython.Application.instance()\n",
    "    app.kernel.do_shutdown(True)"
   ]
  },
  {
   "cell_type": "markdown",
   "metadata": {
    "id": "e767418763cd"
   },
   "source": [
    "<div class=\"alert alert-block alert-warning\">\n",
    "<b>⚠️内核将重新启动。在继续下一步之前，请等待它完成。⚠️</b>\n",
    "</div>"
   ]
  },
  {
   "cell_type": "markdown",
   "metadata": {
    "id": "6a5bea26f60f"
   },
   "source": [
    "### 在笔记本环境上进行身份验证（仅限Colab）\n",
    "\n",
    "在Google Colab上对您的环境进行身份验证。"
   ]
  },
  {
   "cell_type": "code",
   "execution_count": null,
   "metadata": {
    "id": "c97be6a73155"
   },
   "outputs": [],
   "source": [
    "import sys\n",
    "\n",
    "if \"google.colab\" in sys.modules:\n",
    "\n",
    "    from google.colab import auth\n",
    "\n",
    "    auth.authenticate_user()"
   ]
  },
  {
   "cell_type": "markdown",
   "metadata": {
    "id": "2fxZn4SAbxdl"
   },
   "source": [
    "选择克劳德3型号"
   ]
  },
  {
   "cell_type": "code",
   "execution_count": null,
   "metadata": {
    "id": "Y8X70FTSbx7U"
   },
   "outputs": [],
   "source": [
    "MODEL = \"claude-3-5-sonnet@20240620\"  # @param [\"claude-3-5-sonnet@20240620\", \"claude-3-opus@20240229\", \"claude-3-haiku@20240307\", \"claude-3-sonnet@20240229\" ]\n",
    "if MODEL == \"claude-3-5-sonnet@20240620\":\n",
    "    available_regions = [\"us-east5\", \"europe-west1\"]\n",
    "elif MODEL == \"claude-3-opus@20240229\":\n",
    "    available_regions = [\"us-east5\"]\n",
    "elif MODEL == \"claude-3-haiku@20240307\":\n",
    "    available_regions = [\"us-east5\", \"europe-west1\"]\n",
    "elif MODEL == \"claude-3-sonnet@20240229\":\n",
    "    available_regions = [\"us-east5\"]"
   ]
  },
  {
   "cell_type": "markdown",
   "metadata": {
    "id": "bpuX3sKtexlK"
   },
   "source": [
    "选择一个位置"
   ]
  },
  {
   "cell_type": "code",
   "execution_count": null,
   "metadata": {
    "id": "dHl8xW45ex_O"
   },
   "outputs": [],
   "source": [
    "import ipywidgets as widgets\n",
    "from IPython.display import display\n",
    "\n",
    "dropdown = widgets.Dropdown(\n",
    "    options=available_regions,\n",
    "    description=\"Select a location:\",\n",
    "    font_weight=\"bold\",\n",
    "    style={\"description_width\": \"initial\"},\n",
    ")\n",
    "\n",
    "\n",
    "def dropdown_eventhandler(change):\n",
    "    global LOCATION\n",
    "    if change[\"type\"] == \"change\" and change[\"name\"] == \"value\":\n",
    "        LOCATION = change.new\n",
    "        print(\"Selected:\", change.new)\n",
    "\n",
    "\n",
    "LOCATION = dropdown.value\n",
    "dropdown.observe(dropdown_eventhandler, names=\"value\")\n",
    "display(dropdown)"
   ]
  },
  {
   "cell_type": "markdown",
   "metadata": {
    "id": "3q58icinBjoK"
   },
   "source": [
    "设置 Google 云项目和模型信息\n",
    "\n",
    "要开始使用 Vertex AI，您必须拥有现有的 Google 云项目并[启用 Vertex AI API](https://console.cloud.google.com/flows/enableapi?apiid=aiplatform.googleapis.com)。了解更多关于[设置项目和开发环境](https://cloud.google.com/vertex-ai/docs/start/cloud-environment)的信息。"
   ]
  },
  {
   "cell_type": "code",
   "execution_count": null,
   "metadata": {
    "id": "hltNx33t6cSZ"
   },
   "outputs": [],
   "source": [
    "PROJECT_ID = \"[your-project-id]\"  # @param {type:\"string\"}\n",
    "ENDPOINT = f\"https://{LOCATION}-aiplatform.googleapis.com\"\n",
    "\n",
    "if not PROJECT_ID or PROJECT_ID == \"[your-project-id]\":\n",
    "    raise ValueError(\"Please set your PROJECT_ID\")"
   ]
  },
  {
   "cell_type": "markdown",
   "metadata": {
    "id": "4NAstKRFBt4N"
   },
   "source": [
    "#### 导入所需的库"
   ]
  },
  {
   "cell_type": "code",
   "execution_count": null,
   "metadata": {
    "id": "QZEFLE6a6bqy"
   },
   "outputs": [],
   "source": [
    "import base64\n",
    "import json\n",
    "\n",
    "import httpx\n",
    "import requests\n",
    "from IPython.display import Image"
   ]
  },
  {
   "cell_type": "markdown",
   "metadata": {
    "id": "5ahw-uFjCAbo"
   },
   "source": [
    "文本生成"
   ]
  },
  {
   "cell_type": "markdown",
   "metadata": {
    "id": "61107099357a"
   },
   "source": [
    "一元调用\n",
    "\n",
    "向指定的API端点发送一个POST请求，使用提供的载荷来获取香蕉面包食谱模型的响应。"
   ]
  },
  {
   "cell_type": "code",
   "execution_count": null,
   "metadata": {
    "id": "4zFz260B50oi"
   },
   "outputs": [],
   "source": [
    "PAYLOAD = {\n",
    "    \"anthropic_version\": \"vertex-2023-10-16\",\n",
    "    \"messages\": [{\"role\": \"user\", \"content\": \"Send me a recipe for banana bread.\"}],\n",
    "    \"max_tokens\": 100,\n",
    "    \"stream\": False,\n",
    "}\n",
    "\n",
    "request = json.dumps(PAYLOAD)\n",
    "!curl -X POST -H \"Authorization: Bearer $(gcloud auth print-access-token)\" -H \"Content-Type: application/json\" {ENDPOINT}/v1/projects/{PROJECT_ID}/locations/{LOCATION}/publishers/anthropic/models/{MODEL}:rawPredict -d '{request}'"
   ]
  },
  {
   "cell_type": "markdown",
   "metadata": {
    "id": "e6f52fae9379"
   },
   "source": [
    "#### 流式调用\n",
    "\n",
    "向指定的API端点发送一个POST请求，使用提供的有效荷载从模型中流式传输香蕉面包食谱的响应。"
   ]
  },
  {
   "cell_type": "code",
   "execution_count": null,
   "metadata": {
    "id": "c99761dcd7da"
   },
   "outputs": [],
   "source": [
    "PAYLOAD = {\n",
    "    \"anthropic_version\": \"vertex-2023-10-16\",\n",
    "    \"messages\": [{\"role\": \"user\", \"content\": \"Send me a recipe for banana bread.\"}],\n",
    "    \"max_tokens\": 100,\n",
    "    \"stream\": True,\n",
    "}\n",
    "\n",
    "request = json.dumps(PAYLOAD)\n",
    "!curl -X POST -H \"Authorization: Bearer $(gcloud auth print-access-token)\" -H \"Content-Type: application/json\" {ENDPOINT}/v1/projects/{PROJECT_ID}/locations/{LOCATION}/publishers/anthropic/models/{MODEL}:streamRawPredict -d '{request}'"
   ]
  },
  {
   "cell_type": "markdown",
   "metadata": {
    "id": "lfTx9TIKCBHo"
   },
   "source": [
    "### 视野"
   ]
  },
  {
   "cell_type": "markdown",
   "metadata": {
    "id": "3d627efff784"
   },
   "source": [
    "编码和预览图片\n",
    "\n",
    "我们使用httpx库从维基百科获取样本图片，但您可以使用任何适合您的图片来源。"
   ]
  },
  {
   "cell_type": "code",
   "execution_count": null,
   "metadata": {
    "id": "7f1954211edf"
   },
   "outputs": [],
   "source": [
    "image_url = \"https://upload.wikimedia.org/wikipedia/commons/thumb/a/a7/Camponotus_flavomarginatus_ant.jpg/300px-Camponotus_flavomarginatus_ant.jpg\"\n",
    "image_b64 = base64.b64encode(httpx.get(image_url).content).decode(\"utf-8\")\n",
    "\n",
    "response = requests.get(image_url)\n",
    "image = Image(response.content, width=300, height=200)\n",
    "\n",
    "image"
   ]
  },
  {
   "cell_type": "markdown",
   "metadata": {
    "id": "9771877508aa"
   },
   "source": [
    "单次调用\n",
    "\n",
    "将POST请求发送到指定的API端点，以获取模型分析图像内容的响应，提供基于base64编码的数据，以及文本提示。"
   ]
  },
  {
   "cell_type": "code",
   "execution_count": null,
   "metadata": {
    "id": "JjrE75TF8Nsn"
   },
   "outputs": [],
   "source": [
    "PAYLOAD = {\n",
    "    \"anthropic_version\": \"vertex-2023-10-16\",\n",
    "    \"messages\": [\n",
    "        {\n",
    "            \"role\": \"user\",\n",
    "            \"content\": [\n",
    "                {\n",
    "                    \"type\": \"image\",\n",
    "                    \"source\": {\n",
    "                        \"type\": \"base64\",\n",
    "                        \"media_type\": \"image/jpeg\",\n",
    "                        \"data\": image_b64,\n",
    "                    },\n",
    "                },\n",
    "                {\"type\": \"text\", \"text\": \"What is in this image?\"},\n",
    "            ],\n",
    "        }\n",
    "    ],\n",
    "    \"max_tokens\": 100,\n",
    "    \"stream\": False,\n",
    "}\n",
    "\n",
    "request = json.dumps(PAYLOAD)\n",
    "!curl -X POST -H \"Authorization: Bearer $(gcloud auth print-access-token)\" -H \"Content-Type: application/json\" {ENDPOINT}/v1/projects/{PROJECT_ID}/locations/{LOCATION}/publishers/anthropic/models/{MODEL}:rawPredict -d '{request}'"
   ]
  },
  {
   "cell_type": "markdown",
   "metadata": {
    "id": "2ecd941bf6cc"
   },
   "source": [
    "#### 实时调用\n",
    "\n",
    "向指定的 API 端点发送 POST 请求，以从分析图像内容的模型流式传输响应，同时提供以 base64 编码的数据和文本提示。"
   ]
  },
  {
   "cell_type": "code",
   "execution_count": null,
   "metadata": {
    "id": "59ca7a4e6426"
   },
   "outputs": [],
   "source": [
    "PAYLOAD = {\n",
    "    \"anthropic_version\": \"vertex-2023-10-16\",\n",
    "    \"messages\": [\n",
    "        {\n",
    "            \"role\": \"user\",\n",
    "            \"content\": [\n",
    "                {\n",
    "                    \"type\": \"image\",\n",
    "                    \"source\": {\n",
    "                        \"type\": \"base64\",\n",
    "                        \"media_type\": \"image/jpeg\",\n",
    "                        \"data\": image_b64,\n",
    "                    },\n",
    "                },\n",
    "                {\"type\": \"text\", \"text\": \"What is in this image?\"},\n",
    "            ],\n",
    "        }\n",
    "    ],\n",
    "    \"max_tokens\": 100,\n",
    "    \"stream\": True,\n",
    "}\n",
    "\n",
    "request = json.dumps(PAYLOAD)\n",
    "!curl -X POST -H \"Authorization: Bearer $(gcloud auth print-access-token)\" -H \"Content-Type: application/json\" {ENDPOINT}/v1/projects/{PROJECT_ID}/locations/{LOCATION}/publishers/anthropic/models/{MODEL}:streamRawPredict -d '{request}'"
   ]
  },
  {
   "cell_type": "markdown",
   "metadata": {
    "id": "gI3KlxQQ_F_T"
   },
   "source": [
    "使用Anthropic的顶点SDK进行Python编程"
   ]
  },
  {
   "cell_type": "markdown",
   "metadata": {
    "id": "E0x3GO6M_O3_"
   },
   "source": [
    "开始吧"
   ]
  },
  {
   "cell_type": "markdown",
   "metadata": {
    "id": "_CJrqUvqAfR7"
   },
   "source": [
    "### 安装 Anthropic 的 Vertex SDK for Python 和其他所需的包"
   ]
  },
  {
   "cell_type": "code",
   "execution_count": null,
   "metadata": {
    "id": "fi_HLdat_Pce"
   },
   "outputs": [],
   "source": [
    "! pip3 install -U -q 'anthropic[vertex]'\n",
    "! pip3 install -U -q httpx"
   ]
  },
  {
   "cell_type": "markdown",
   "metadata": {
    "id": "hUiAYUFbBCpR"
   },
   "source": [
    "重新启动运行时（仅限Colab）\n",
    "\n",
    "要使用新安装的软件包，您必须重新启动Google Colab上的运行时。"
   ]
  },
  {
   "cell_type": "code",
   "execution_count": null,
   "metadata": {
    "id": "jcqgcj_DBFgt"
   },
   "outputs": [],
   "source": [
    "# Restart kernel after installs so that your environment can access the new packages\n",
    "import sys\n",
    "\n",
    "if \"google.colab\" in sys.modules:\n",
    "    import IPython\n",
    "\n",
    "    app = IPython.Application.instance()\n",
    "    app.kernel.do_shutdown(True)"
   ]
  },
  {
   "cell_type": "markdown",
   "metadata": {
    "id": "aa9169957a89"
   },
   "source": [
    "<div class=\"alert alert-block alert-warning\">\n",
    "<b>⚠️内核将重新启动。在继续下一步之前，请等待其完成。⚠️</b>\n",
    "</div>"
   ]
  },
  {
   "cell_type": "markdown",
   "metadata": {
    "id": "bffc70d3e8be"
   },
   "source": [
    "### 验证您的笔记本环境（仅限Colab）\n",
    "\n",
    "在Google Colab上验证您的环境。"
   ]
  },
  {
   "cell_type": "code",
   "execution_count": null,
   "metadata": {
    "id": "d1baa068f48a"
   },
   "outputs": [],
   "source": [
    "import sys\n",
    "\n",
    "if \"google.colab\" in sys.modules:\n",
    "\n",
    "    from google.colab import auth\n",
    "\n",
    "    auth.authenticate_user()"
   ]
  },
  {
   "cell_type": "markdown",
   "metadata": {
    "id": "czcmJpKPBMVC"
   },
   "source": [
    "选择Claude 3型号"
   ]
  },
  {
   "cell_type": "code",
   "execution_count": null,
   "metadata": {
    "id": "s6SJn92__jpy"
   },
   "outputs": [],
   "source": [
    "MODEL = \"claude-3-5-sonnet@20240620\"  # @param [\"claude-3-5-sonnet@20240620\", \"claude-3-opus@20240229\", \"claude-3-haiku@20240307\", \"claude-3-sonnet@20240229\" ]\n",
    "if MODEL == \"claude-3-5-sonnet@20240620\":\n",
    "    available_regions = [\"us-east5\", \"europe-west1\"]\n",
    "elif MODEL == \"claude-3-opus@20240229\":\n",
    "    available_regions = [\"us-east5\"]\n",
    "elif MODEL == \"claude-3-haiku@20240307\":\n",
    "    available_regions = [\"us-east5\", \"europe-west1\"]\n",
    "elif MODEL == \"claude-3-sonnet@20240229\":\n",
    "    available_regions = [\"us-east5\"]"
   ]
  },
  {
   "cell_type": "markdown",
   "metadata": {
    "id": "C-z0epNze9k8"
   },
   "source": [
    "选择一个地区"
   ]
  },
  {
   "cell_type": "code",
   "execution_count": null,
   "metadata": {
    "id": "u4ciYLdLe-D-"
   },
   "outputs": [],
   "source": [
    "import ipywidgets as widgets\n",
    "from IPython.display import display\n",
    "\n",
    "dropdown = widgets.Dropdown(\n",
    "    options=available_regions,\n",
    "    description=\"Select a location:\",\n",
    "    font_weight=\"bold\",\n",
    "    style={\"description_width\": \"initial\"},\n",
    ")\n",
    "\n",
    "\n",
    "def dropdown_eventhandler(change):\n",
    "    global LOCATION\n",
    "    if change[\"type\"] == \"change\" and change[\"name\"] == \"value\":\n",
    "        LOCATION = change.new\n",
    "        print(\"Selected:\", change.new)\n",
    "\n",
    "\n",
    "LOCATION = dropdown.value\n",
    "dropdown.observe(dropdown_eventhandler, names=\"value\")\n",
    "display(dropdown)"
   ]
  },
  {
   "cell_type": "markdown",
   "metadata": {
    "id": "shZgRl6qbZYP"
   },
   "source": [
    "#### 设置Google Cloud项目和模型信息\n",
    "\n",
    "要开始使用Vertex AI，您必须拥有一个现有的Google Cloud项目并[启用Vertex AI API](https://console.cloud.google.com/flows/enableapi?apiid=aiplatform.googleapis.com)。了解更多关于[设置项目和开发环境](https://cloud.google.com/vertex-ai/docs/start/cloud-environment)的信息。"
   ]
  },
  {
   "cell_type": "code",
   "execution_count": null,
   "metadata": {
    "id": "JZLqMJ6va9fc"
   },
   "outputs": [],
   "source": [
    "PROJECT_ID = \"[your-project-id]\"  # @param {type:\"string\"}\n",
    "ENDPOINT = f\"https://{LOCATION}-aiplatform.googleapis.com\"\n",
    "\n",
    "if not PROJECT_ID or PROJECT_ID == \"[your-project-id]\":\n",
    "    raise ValueError(\"Please set your PROJECT_ID\")"
   ]
  },
  {
   "cell_type": "markdown",
   "metadata": {
    "id": "a6a543c2cd07"
   },
   "source": [
    "导入所需的库"
   ]
  },
  {
   "cell_type": "code",
   "execution_count": null,
   "metadata": {
    "id": "c4a553b6a5c2"
   },
   "outputs": [],
   "source": [
    "import base64\n",
    "\n",
    "import httpx\n",
    "import requests\n",
    "from IPython.display import Image"
   ]
  },
  {
   "cell_type": "markdown",
   "metadata": {
    "id": "gijJ2vr5B5nV"
   },
   "source": [
    "文本生成"
   ]
  },
  {
   "cell_type": "markdown",
   "metadata": {
    "id": "2f7ee8ceb620"
   },
   "source": [
    "一元调用\n",
    "\n",
    "初始化一个用于Anthropic的Vertex AI的客户端，发送一个请求来生成内容，并以格式化的JSON格式打印响应。"
   ]
  },
  {
   "cell_type": "code",
   "execution_count": null,
   "metadata": {
    "id": "c2c03d3da1b0"
   },
   "outputs": [],
   "source": [
    "from anthropic import AnthropicVertex\n",
    "\n",
    "client = AnthropicVertex(region=LOCATION, project_id=PROJECT_ID)\n",
    "message = client.messages.create(\n",
    "    max_tokens=1024,\n",
    "    messages=[\n",
    "        {\n",
    "            \"role\": \"user\",\n",
    "            \"content\": \"Send me a recipe for banana bread.\",\n",
    "        }\n",
    "    ],\n",
    "    model=MODEL,\n",
    ")\n",
    "print(message.model_dump_json(indent=2))"
   ]
  },
  {
   "cell_type": "markdown",
   "metadata": {
    "id": "f8e56a2fb209"
   },
   "source": [
    "流式调用\n",
    "\n",
    "初始化Anthropic的Vertex AI客户端，发送流式请求以生成内容，并持续打印接收到的文本。"
   ]
  },
  {
   "cell_type": "code",
   "execution_count": null,
   "metadata": {
    "id": "KedVqBW9_2m_"
   },
   "outputs": [],
   "source": [
    "from anthropic import AnthropicVertex\n",
    "\n",
    "client = AnthropicVertex(region=LOCATION, project_id=PROJECT_ID)\n",
    "\n",
    "with client.messages.stream(\n",
    "    max_tokens=1024,\n",
    "    messages=[\n",
    "        {\n",
    "            \"role\": \"user\",\n",
    "            \"content\": \"Send me a recipe for banana bread.\",\n",
    "        }\n",
    "    ],\n",
    "    model=MODEL,\n",
    ") as stream:\n",
    "    for text in stream.text_stream:\n",
    "        print(text, end=\"\", flush=True)"
   ]
  },
  {
   "cell_type": "markdown",
   "metadata": {
    "id": "CysN0InWCKN4"
   },
   "source": [
    "### 愿景"
   ]
  },
  {
   "cell_type": "markdown",
   "metadata": {
    "id": "2fe57432a56d"
   },
   "source": [
    "#### 编码和预览图片\n",
    "\n",
    "我们使用httpx库从维基百科获取示例图片，但您可以使用任何适合您的图片来源。"
   ]
  },
  {
   "cell_type": "code",
   "execution_count": null,
   "metadata": {
    "id": "8437abc38965"
   },
   "outputs": [],
   "source": [
    "image_url = \"https://upload.wikimedia.org/wikipedia/commons/thumb/a/a7/Camponotus_flavomarginatus_ant.jpg/300px-Camponotus_flavomarginatus_ant.jpg\"\n",
    "image_media_type = \"image/jpeg\"\n",
    "image_b64 = base64.b64encode(httpx.get(image_url).content).decode(\"utf-8\")\n",
    "\n",
    "response = requests.get(image_url)\n",
    "image = Image(response.content, width=300, height=200)\n",
    "\n",
    "image"
   ]
  },
  {
   "cell_type": "markdown",
   "metadata": {
    "id": "9fd5937f839b"
   },
   "source": [
    "单次调用\n",
    "\n",
    "为Anthropic的Vertex AI初始化一个客户端，发送一个请求来描述一张图像（以base64编码的数据提供），以及一个文本提示，并以格式化的JSON打印响应。"
   ]
  },
  {
   "cell_type": "code",
   "execution_count": null,
   "metadata": {
    "id": "8hTk6_Ju_3rj"
   },
   "outputs": [],
   "source": [
    "from anthropic import AnthropicVertex\n",
    "\n",
    "client = AnthropicVertex(region=LOCATION, project_id=PROJECT_ID)\n",
    "\n",
    "message = client.messages.create(\n",
    "    max_tokens=1024,\n",
    "    messages=[\n",
    "        {\n",
    "            \"role\": \"user\",\n",
    "            \"content\": [\n",
    "                {\n",
    "                    \"type\": \"image\",\n",
    "                    \"source\": {\n",
    "                        \"type\": \"base64\",\n",
    "                        \"media_type\": image_media_type,\n",
    "                        \"data\": image_b64,\n",
    "                    },\n",
    "                },\n",
    "                {\"type\": \"text\", \"text\": \"Describe this image.\"},\n",
    "            ],\n",
    "        }\n",
    "    ],\n",
    "    model=MODEL,\n",
    ")\n",
    "print(message.model_dump_json(indent=2))"
   ]
  },
  {
   "cell_type": "markdown",
   "metadata": {
    "id": "1fb4855047e3"
   },
   "source": [
    "实时调用\n",
    "\n",
    "初始化Anthropic的Vertex AI客户端，发送一个流式请求来描述一张图像（以base64编码数据提供），并连续打印接收到的文本作为流式传输。"
   ]
  },
  {
   "cell_type": "code",
   "execution_count": null,
   "metadata": {
    "id": "6df4d0e6d95b"
   },
   "outputs": [],
   "source": [
    "from anthropic import AnthropicVertex\n",
    "\n",
    "client = AnthropicVertex(region=LOCATION, project_id=PROJECT_ID)\n",
    "\n",
    "with client.messages.stream(\n",
    "    max_tokens=1024,\n",
    "    messages=[\n",
    "        {\n",
    "            \"role\": \"user\",\n",
    "            \"content\": [\n",
    "                {\n",
    "                    \"type\": \"image\",\n",
    "                    \"source\": {\n",
    "                        \"type\": \"base64\",\n",
    "                        \"media_type\": image_media_type,\n",
    "                        \"data\": image_b64,\n",
    "                    },\n",
    "                },\n",
    "                {\"type\": \"text\", \"text\": \"Describe this image.\"},\n",
    "            ],\n",
    "        }\n",
    "    ],\n",
    "    model=MODEL,\n",
    ") as stream:\n",
    "    for text in stream.text_stream:\n",
    "        print(text, end=\"\", flush=True)"
   ]
  }
 ],
 "metadata": {
  "colab": {
   "name": "anthropic_claude_3_intro.ipynb",
   "toc_visible": true
  },
  "kernelspec": {
   "display_name": "Python 3",
   "name": "python3"
  }
 },
 "nbformat": 4,
 "nbformat_minor": 0
}
