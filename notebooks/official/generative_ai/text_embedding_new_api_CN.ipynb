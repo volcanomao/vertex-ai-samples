{
 "cells": [
  {
   "cell_type": "code",
   "execution_count": null,
   "metadata": {
    "id": "ur8xi4C7S06n"
   },
   "outputs": [],
   "source": [
    "# Copyright 2023 Google LLC\n",
    "#\n",
    "# Licensed under the Apache License, Version 2.0 (the \"License\");\n",
    "# you may not use this file except in compliance with the License.\n",
    "# You may obtain a copy of the License at\n",
    "#\n",
    "#     https://www.apache.org/licenses/LICENSE-2.0\n",
    "#\n",
    "# Unless required by applicable law or agreed to in writing, software\n",
    "# distributed under the License is distributed on an \"AS IS\" BASIS,\n",
    "# WITHOUT WARRANTIES OR CONDITIONS OF ANY KIND, either express or implied.\n",
    "# See the License for the specific language governing permissions and\n",
    "# limitations under the License."
   ]
  },
  {
   "cell_type": "markdown",
   "metadata": {
    "id": "JAPoU8Sm5E6e"
   },
   "source": [
    "# 文本嵌入新API\n",
    "\n",
    "<table align=\"left\">\n",
    "  <td style=\"text-align: center\">\n",
    "    <a href=\"https://colab.research.google.com/github/GoogleCloudPlatform/vertex-ai-samples/blob/main/notebooks/official/generative_ai/text_embedding_new_api.ipynb\">\n",
    "      <img src=\"https://cloud.google.com/ml-engine/images/colab-logo-32px.png\" alt=\"Google Colaboratory logo\"><br> 在 Colab 中打开\n",
    "    </a>\n",
    "  </td>\n",
    "  <td style=\"text-align: center\">\n",
    "    <a href=\"https://console.cloud.google.com/vertex-ai/colab/import/https:%2F%2Fraw.githubusercontent.com%2FGoogleCloudPlatform%2Fvertex-ai-samples%2Fmain%2Fnotebooks%2Fofficial%2Fgenerative_ai%2Ftext_embedding_new_api.ipynb\">\n",
    "      <img width=\"32px\" src=\"https://cloud.google.com/ml-engine/images/colab-enterprise-logo-32px.png\" alt=\"Google Cloud Colab Enterprise logo\"><br> 在 Colab Enterprise 中打开\n",
    "    </a>\n",
    "  </td>    \n",
    "  <td style=\"text-align: center\">\n",
    "    <a href=\"https://console.cloud.google.com/vertex-ai/workbench/deploy-notebook?download_url=https://raw.githubusercontent.com/GoogleCloudPlatform/vertex-ai-samples/main/notebooks/official/generative_ai/text_embedding_new_api.ipynb\">\n",
    "      <img src=\"https://lh3.googleusercontent.com/UiNooY4LUgW_oTvpsNhPpQzsstV5W8F7rYgxgGBD85cWJoLmrOzhVs_ksK_vgx40SHs7jCqkTkCk=e14-rj-sc0xffffff-h130-w32\" alt=\"Vertex AI logo\"><br> 在工作台中打开\n",
    "    </a>\n",
    "  </td>\n",
    "  <td style=\"text-align: center\">\n",
    "    <a href=\"https://github.com/GoogleCloudPlatform/vertex-ai-samples/blob/main/notebooks/official/generative_ai/text_embedding_new_api.ipynb\">\n",
    "      <img src=\"https://cloud.google.com/ml-engine/images/github-logo-32px.png\" alt=\"GitHub logo\"><br> 在 GitHub 上查看\n",
    "    </a>\n",
    "  </td>\n",
    "</table>"
   ]
  },
  {
   "cell_type": "markdown",
   "metadata": {
    "id": "tvgnzT1CKxrO"
   },
   "source": [
    "## 概述\n",
    "\n",
    "这本笔记本是一个代码示例，展示了如何调用我们新发布的文本嵌入模型（text-embedding-004、text-multilingual-embedding-002）。\n",
    "\n",
    "了解更多关于[text embedding api](https://cloud.google.com/vertex-ai/docs/generative-ai/embeddings/get-text-embeddings#api_changes_to_models_released_in_or_after_august_2023)。"
   ]
  },
  {
   "cell_type": "markdown",
   "metadata": {
    "id": "d975e698c9a4"
   },
   "source": [
    "### 目标\n",
    "\n",
    "在本教程中，您将学习如何调用两个新的GA模型text-embedding-004和text-multilingual-embedding-002上的最新文本嵌入API。\n",
    "\n",
    "本教程使用以下Google Cloud ML服务和资源：\n",
    "\n",
    "- Vertex LLM SDK\n",
    "\n",
    "执行的步骤包括：\n",
    "\n",
    "- 安装和导入\n",
    "- 生成嵌入"
   ]
  },
  {
   "cell_type": "markdown",
   "metadata": {
    "id": "aed92deeb4a0"
   },
   "source": [
    "成本\n",
    "\n",
    "本教程使用 Google Cloud 的计费组件：\n",
    "\n",
    "* Vertex AI\n",
    "\n",
    "了解 [Vertex AI 价格](https://cloud.google.com/vertex-ai/pricing)，\n",
    "并使用 [定价计算器](https://cloud.google.com/products/calculator/)\n",
    "根据您的预计使用量生成成本估算。"
   ]
  },
  {
   "cell_type": "markdown",
   "metadata": {
    "id": "8925ff9e165e"
   },
   "source": [
    "开始吧"
   ]
  },
  {
   "cell_type": "markdown",
   "metadata": {
    "id": "6dac73aa3f75"
   },
   "source": [
    "### 为Python安装Vertex AI SDK以及其他必需的包"
   ]
  },
  {
   "cell_type": "code",
   "execution_count": null,
   "metadata": {
    "id": "6c944350c059"
   },
   "outputs": [],
   "source": [
    "# Install Vertex AI SDK for Python\n",
    "!pip3 install --quiet --upgrade google-cloud-aiplatform"
   ]
  },
  {
   "cell_type": "markdown",
   "metadata": {
    "id": "6e0c0cdffff3"
   },
   "source": [
    "### 重新启动运行时（仅限Colab）\n",
    "\n",
    "为了使用新安装的软件包，您必须重新启动Google Colab上的运行时。"
   ]
  },
  {
   "cell_type": "code",
   "execution_count": null,
   "metadata": {
    "id": "dcc98768955f"
   },
   "outputs": [],
   "source": [
    "import sys\n",
    "\n",
    "if \"google.colab\" in sys.modules:\n",
    "\n",
    "    import IPython\n",
    "\n",
    "    app = IPython.Application.instance()\n",
    "    app.kernel.do_shutdown(True)"
   ]
  },
  {
   "cell_type": "markdown",
   "metadata": {
    "id": "7b49231643e4"
   },
   "source": [
    "<div class =“alert alert-block alert-warning”>\n",
    "<b>⚠️内核将重新启动。在继续下一步之前，请等待它完成。⚠️</b>\n",
    "</div>"
   ]
  },
  {
   "cell_type": "markdown",
   "metadata": {
    "id": "23b421f88a9b"
   },
   "source": [
    "### 认证您的笔记本环境（仅限Colab）\n",
    "\n",
    "在Google Colab上验证您的环境。"
   ]
  },
  {
   "cell_type": "code",
   "execution_count": null,
   "metadata": {
    "id": "7de6ef0fac42"
   },
   "outputs": [],
   "source": [
    "import sys\n",
    "\n",
    "if \"google.colab\" in sys.modules:\n",
    "\n",
    "    from google.colab import auth\n",
    "\n",
    "    auth.authenticate_user()"
   ]
  },
  {
   "cell_type": "markdown",
   "metadata": {
    "id": "e487ec618b5e"
   },
   "source": [
    "### 设置Google Cloud项目信息并为Python初始化Vertex AI SDK\n",
    "\n",
    "要开始使用Vertex AI，您必须拥有现有的Google Cloud项目并启用Vertex AI API。了解有关设置项目和开发环境的更多信息。"
   ]
  },
  {
   "cell_type": "code",
   "execution_count": null,
   "metadata": {
    "id": "48d81914dc54"
   },
   "outputs": [],
   "source": [
    "PROJECT_ID = \"[your-project-id]\"  # @param {type:\"string\"}\n",
    "LOCATION = \"us-central1\"  # @param {type:\"string\"}\n",
    "\n",
    "\n",
    "from google.cloud import aiplatform\n",
    "\n",
    "aiplatform.init(project=PROJECT_ID, location=LOCATION)"
   ]
  },
  {
   "cell_type": "markdown",
   "metadata": {
    "id": "09720c707f1c"
   },
   "source": [
    "### 导入库"
   ]
  },
  {
   "cell_type": "code",
   "execution_count": null,
   "metadata": {
    "id": "a38ef56b684a"
   },
   "outputs": [],
   "source": [
    "from vertexai.language_models import TextEmbeddingInput, TextEmbeddingModel"
   ]
  },
  {
   "cell_type": "markdown",
   "metadata": {
    "id": "3xRjU9DGQzh6"
   },
   "source": [
    "生成嵌入\n",
    "\n",
    "1. 设置模型名称。最新的模型是\n",
    "     * 英语使用 \"text-embedding-004\"。\n",
    "     * i18n使用 \"text-multilingual-embedding-002\"。\n",
    "     \n",
    "     可查看[语言覆盖范围](https://cloud.google.com/vertex-ai/generative-ai/docs/embeddings/get-text-embeddings#language_coverage_for_textembedding-gecko-multilingual_models)获取支持的语言列表。\n",
    "     \n",
    "     查看[公共文档](https://cloud.google.com/vertex-ai/generative-ai/docs/embeddings/get-text-embeddings)获取支持模型的完整列表。\n",
    "2. 设置任务类型、文本和标题（*可选并仅适用于任务类型 \"RETRIEVAL_DOCUMENT\"*）。有效的任务类型包括：\n",
    "     * \"RETRIEVAL_QUERY\"\n",
    "     * \"RETRIEVAL_DOCUMENT\"\n",
    "     * \"SEMANTIC_SIMILARITY\"\n",
    "     * \"CLASSIFICATION\"\n",
    "     * \"CLUSTERING\"\n",
    "     * \"QUESTION_ANSWERING\"（仅适用于最新模型）\n",
    "     * \"FACT_VERIFICATION\"（仅适用于最新模型）\n",
    "3. 设置输出维度（*可选并仅适用于最新模型*）。"
   ]
  },
  {
   "cell_type": "code",
   "execution_count": null,
   "metadata": {
    "cellView": "form",
    "id": "rHRZXoG0SVol"
   },
   "outputs": [],
   "source": [
    "# @title { run: \"auto\" }\n",
    "MODEL = \"text-embedding-004\"  # @param [\"text-embedding-004\", \"text-multilingual-embedding-002\",\"text-embedding-preview-0409\", \"text-multilingual-embedding-preview-0409\", \"textembedding-gecko@003\", \"textembedding-gecko-multilingual@001\"]\n",
    "TASK = \"RETRIEVAL_DOCUMENT\"  # @param [\"RETRIEVAL_QUERY\", \"RETRIEVAL_DOCUMENT\", \"SEMANTIC_SIMILARITY\", \"CLASSIFICATION\", \"CLUSTERING\", \"QUESTION_ANSWERING\", \"FACT_VERIFICATION\"]\n",
    "TEXT = \"Banana Muffin?\"  # @param {type:\"string\"}\n",
    "TITLE = \"\"  # @param {type:\"string\"}\n",
    "OUTPUT_DIMENSIONALITY = 256  # @param [1, 768, \"None\"] {type:\"raw\", allow-input:true}\n",
    "\n",
    "if not MODEL:\n",
    "    raise ValueError(\"MODEL must be specified.\")\n",
    "if not TEXT:\n",
    "    raise ValueError(\"TEXT must be specified.\")\n",
    "if TITLE and TASK != \"RETRIEVAL_DOCUMENT\":\n",
    "    raise ValueError(\"TITLE can only be specified for TASK 'RETRIEVAL_DOCUMENT'\")\n",
    "if OUTPUT_DIMENSIONALITY is not None and MODEL not in [\n",
    "    \"text-embedding-004\",\n",
    "    \"text-multilingual-embedding-002\",\n",
    "    \"text-embedding-preview-0409\",\n",
    "    \"text-multilingual-embedding-preview-0409\",\n",
    "]:\n",
    "    raise ValueError(f\"OUTPUT_DIMENTIONALITY cannot be specified for model '{MODEL}'.\")\n",
    "if TASK in [\"QUESTION_ANSWERING\", \"FACT_VERIFICATION\"] and MODEL not in [\n",
    "    \"text-embedding-004\",\n",
    "    \"text-multilingual-embedding-002\",\n",
    "    \"text-embedding-preview-0409\",\n",
    "    \"text-multilingual-embedding-preview-0409\",\n",
    "]:\n",
    "    raise ValueError(f\"TASK '{TASK}' is not valid for model '{MODEL}'.\")"
   ]
  },
  {
   "cell_type": "code",
   "execution_count": null,
   "metadata": {
    "id": "qFLiXoRrSnJU"
   },
   "outputs": [],
   "source": [
    "def embed_text(\n",
    "    model_name: str,\n",
    "    task_type: str,\n",
    "    text: str,\n",
    "    title: str = \"\",\n",
    "    output_dimensionality=None,\n",
    ") -> list:\n",
    "    \"\"\"Generates a text embedding with a Large Language Model.\"\"\"\n",
    "    model = TextEmbeddingModel.from_pretrained(model_name)\n",
    "    text_embedding_input = TextEmbeddingInput(\n",
    "        task_type=task_type, title=title, text=text\n",
    "    )\n",
    "    kwargs = (\n",
    "        dict(output_dimensionality=output_dimensionality)\n",
    "        if output_dimensionality\n",
    "        else {}\n",
    "    )\n",
    "    embeddings = model.get_embeddings([text_embedding_input], **kwargs)\n",
    "    return embeddings[0].values\n",
    "\n",
    "\n",
    "# Get a text embedding for a downstream task.\n",
    "embedding = embed_text(\n",
    "    model_name=MODEL,\n",
    "    task_type=TASK,\n",
    "    text=TEXT,\n",
    "    title=TITLE,\n",
    "    output_dimensionality=OUTPUT_DIMENSIONALITY,\n",
    ")\n",
    "print(len(embedding))  # Expected value: {OUTPUT_DIMENSIONALITY}."
   ]
  },
  {
   "cell_type": "markdown",
   "metadata": {
    "id": "TpV-iwP9qw9c"
   },
   "source": [
    "清理工作\n",
    "\n",
    "要清理此项目中使用的所有Google Cloud资源，您可以删除用于本教程的[Google Cloud项目](https://cloud.google.com/resource-manager/docs/creating-managing-projects#shutting_down_projects)。"
   ]
  }
 ],
 "metadata": {
  "colab": {
   "name": "text_embedding_new_api.ipynb",
   "toc_visible": true
  },
  "kernelspec": {
   "display_name": "Python 3",
   "name": "python3"
  }
 },
 "nbformat": 4,
 "nbformat_minor": 0
}
