{
 "cells": [
  {
   "cell_type": "markdown",
   "metadata": {
    "id": "57a3d44ed8a8"
   },
   "source": [
    "### 设置您的Google Cloud项目\n",
    "\n",
    "**_注意_**：此笔记本已在以下环境中进行了测试：\n",
    "\n",
    "* Python版本 = 3.7\n",
    "\n",
    "**无论您的笔记本环境如何，下面的步骤都是必需的。**\n",
    "\n",
    "1. [选择或创建一个Google Cloud项目](https://console.cloud.google.com/cloud-resource-manager)。当您首次创建帐户时，您将获得$300的免费信用用于计算/存储成本。\n",
    "\n",
    "1. [确保为您的项目启用了计费](https://cloud.google.com/billing/docs/how-to/modify-project)。\n",
    "\n",
    "1. [启用Vertex AI API和Compute Engine API](https://console.cloud.google.com/flows/enableapi?apiid=aiplatform.googleapis.com,compute_component)。\n",
    "\n",
    "1. 如果您在本地运行此笔记本，则需要安装[Cloud SDK](https://cloud.google.com/sdk)。\n",
    "\n",
    "1. 在下面的单元格中输入您的项目ID。然后运行该单元格，以确保Cloud SDK在此笔记本中的所有命令中都使用正确的项目。\n",
    "\n",
    "**注意**：Jupyter将以`!`为前缀的行作为shell命令运行，并将以`$`为前缀的Python变量插入这些命令中。"
   ]
  },
  {
   "cell_type": "code",
   "execution_count": null,
   "metadata": {
    "id": "c6516f90311b"
   },
   "outputs": [],
   "source": [
    "# test if the right python version is being used\n",
    "import sys\n",
    "\n",
    "actual_python_version = f\"{sys.version_info.major}.{sys.version_info.minor}\"\n",
    "print(f\"Runtime python version: {actual_python_version}\")\n",
    "\n",
    "assert actual_python_version == \"3.7\", \"Wrong python version!\""
   ]
  }
 ],
 "metadata": {
  "colab": {
   "name": "python_version_test.ipynb",
   "toc_visible": true
  },
  "kernelspec": {
   "display_name": "Python 3",
   "name": "python3"
  }
 },
 "nbformat": 4,
 "nbformat_minor": 0
}
